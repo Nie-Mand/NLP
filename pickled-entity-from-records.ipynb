{
 "cells": [
  {
   "cell_type": "code",
   "execution_count": 1,
   "id": "b5bbf268",
   "metadata": {
    "_cell_guid": "b1076dfc-b9ad-4769-8c92-a6c4dae69d19",
    "_uuid": "8f2839f25d086af736a60e9eeb907d3b93b6e0e5",
    "execution": {
     "iopub.execute_input": "2022-06-22T08:21:54.164734Z",
     "iopub.status.busy": "2022-06-22T08:21:54.164151Z",
     "iopub.status.idle": "2022-06-22T08:22:05.997727Z",
     "shell.execute_reply": "2022-06-22T08:22:05.996558Z"
    },
    "papermill": {
     "duration": 11.843512,
     "end_time": "2022-06-22T08:22:06.000426",
     "exception": false,
     "start_time": "2022-06-22T08:21:54.156914",
     "status": "completed"
    },
    "tags": []
   },
   "outputs": [],
   "source": [
    "import numpy as np\n",
    "import pandas as pd \n",
    "import seaborn as sns\n",
    "import matplotlib.pyplot as plt \n",
    "import matplotlib.style as stl \n",
    "from tensorflow import keras \n",
    "from keras.preprocessing.text import Tokenizer\n",
    "from nltk.corpus import stopwords\n",
    "import string\n",
    "from tensorflow.keras.models import Sequential,Model\n",
    "from tensorflow.keras.layers import Dense, LSTM, Embedding,Dropout,SpatialDropout1D,Conv1D,MaxPooling1D,GRU,BatchNormalization\n",
    "import warnings\n",
    "warnings.filterwarnings('ignore')\n",
    "stl.use('ggplot')\n",
    "from tqdm import tqdm\n",
    "import string\n",
    "from nltk.corpus import stopwords\n",
    "from nltk.tokenize import word_tokenize\n",
    "from nltk.stem import WordNetLemmatizer\n",
    "from nltk.stem.snowball import SnowballStemmer\n",
    "import regex as re\n",
    "import time\n",
    "import pickle"
   ]
  },
  {
   "cell_type": "code",
   "execution_count": 2,
   "id": "dda481b8",
   "metadata": {
    "_kg_hide-output": true,
    "collapsed": true,
    "execution": {
     "iopub.execute_input": "2022-06-22T08:22:06.011123Z",
     "iopub.status.busy": "2022-06-22T08:22:06.010495Z",
     "iopub.status.idle": "2022-06-22T08:22:51.831489Z",
     "shell.execute_reply": "2022-06-22T08:22:51.830027Z"
    },
    "jupyter": {
     "outputs_hidden": true
    },
    "papermill": {
     "duration": 45.829323,
     "end_time": "2022-06-22T08:22:51.834111",
     "exception": false,
     "start_time": "2022-06-22T08:22:06.004788",
     "status": "completed"
    },
    "tags": []
   },
   "outputs": [
    {
     "name": "stdout",
     "output_type": "stream",
     "text": [
      "Collecting flair\r\n",
      "  Downloading flair-0.11.3-py3-none-any.whl (401 kB)\r\n",
      "\u001b[2K     \u001b[90m━━━━━━━━━━━━━━━━━━━━━━━━━━━━━━━━━━━━━━━\u001b[0m \u001b[32m401.9/401.9 kB\u001b[0m \u001b[31m1.1 MB/s\u001b[0m eta \u001b[36m0:00:00\u001b[0m\r\n",
      "\u001b[?25hRequirement already satisfied: gensim>=3.4.0 in /opt/conda/lib/python3.7/site-packages (from flair) (4.0.1)\r\n",
      "Collecting gdown==4.4.0\r\n",
      "  Downloading gdown-4.4.0.tar.gz (14 kB)\r\n",
      "  Installing build dependencies ... \u001b[?25l-\b \b\\\b \b|\b \b/\b \b-\b \b\\\b \bdone\r\n",
      "\u001b[?25h  Getting requirements to build wheel ... \u001b[?25l-\b \b\\\b \b|\b \b/\b \b-\b \bdone\r\n",
      "\u001b[?25h  Preparing metadata (pyproject.toml) ... \u001b[?25l-\b \b\\\b \b|\b \b/\b \b-\b \bdone\r\n",
      "\u001b[?25hRequirement already satisfied: huggingface-hub in /opt/conda/lib/python3.7/site-packages (from flair) (0.7.0)\r\n",
      "Requirement already satisfied: tabulate in /opt/conda/lib/python3.7/site-packages (from flair) (0.8.9)\r\n",
      "Requirement already satisfied: matplotlib>=2.2.3 in /opt/conda/lib/python3.7/site-packages (from flair) (3.5.2)\r\n",
      "Collecting sqlitedict>=1.6.0\r\n",
      "  Downloading sqlitedict-2.0.0.tar.gz (46 kB)\r\n",
      "\u001b[2K     \u001b[90m━━━━━━━━━━━━━━━━━━━━━━━━━━━━━━━━━━━━━━━━\u001b[0m \u001b[32m46.3/46.3 kB\u001b[0m \u001b[31m3.0 MB/s\u001b[0m eta \u001b[36m0:00:00\u001b[0m\r\n",
      "\u001b[?25h  Preparing metadata (setup.py) ... \u001b[?25l-\b \bdone\r\n",
      "\u001b[?25hRequirement already satisfied: lxml in /opt/conda/lib/python3.7/site-packages (from flair) (4.9.0)\r\n",
      "Requirement already satisfied: scikit-learn>=0.21.3 in /opt/conda/lib/python3.7/site-packages (from flair) (1.0.2)\r\n",
      "Collecting segtok>=1.5.7\r\n",
      "  Downloading segtok-1.5.11-py3-none-any.whl (24 kB)\r\n",
      "Collecting konoha<5.0.0,>=4.0.0\r\n",
      "  Downloading konoha-4.6.5-py3-none-any.whl (20 kB)\r\n",
      "Requirement already satisfied: janome in /opt/conda/lib/python3.7/site-packages (from flair) (0.4.2)\r\n",
      "Requirement already satisfied: python-dateutil>=2.6.1 in /opt/conda/lib/python3.7/site-packages (from flair) (2.8.2)\r\n",
      "Collecting langdetect\r\n",
      "  Downloading langdetect-1.0.9.tar.gz (981 kB)\r\n",
      "\u001b[2K     \u001b[90m━━━━━━━━━━━━━━━━━━━━━━━━━━━━━━━━━━━━━━━\u001b[0m \u001b[32m981.5/981.5 kB\u001b[0m \u001b[31m5.9 MB/s\u001b[0m eta \u001b[36m0:00:00\u001b[0m\r\n",
      "\u001b[?25h  Preparing metadata (setup.py) ... \u001b[?25l-\b \bdone\r\n",
      "\u001b[?25hCollecting pptree\r\n",
      "  Downloading pptree-3.1.tar.gz (3.0 kB)\r\n",
      "  Preparing metadata (setup.py) ... \u001b[?25l-\b \bdone\r\n",
      "\u001b[?25hCollecting conllu>=4.0\r\n",
      "  Downloading conllu-4.4.2-py2.py3-none-any.whl (15 kB)\r\n",
      "Requirement already satisfied: torch!=1.8,>=1.5.0 in /opt/conda/lib/python3.7/site-packages (from flair) (1.11.0+cpu)\r\n",
      "Collecting deprecated>=1.2.4\r\n",
      "  Downloading Deprecated-1.2.13-py2.py3-none-any.whl (9.6 kB)\r\n",
      "Requirement already satisfied: transformers>=4.0.0 in /opt/conda/lib/python3.7/site-packages (from flair) (4.18.0)\r\n",
      "Requirement already satisfied: regex in /opt/conda/lib/python3.7/site-packages (from flair) (2021.11.10)\r\n",
      "Requirement already satisfied: more-itertools in /opt/conda/lib/python3.7/site-packages (from flair) (8.13.0)\r\n",
      "Collecting ftfy\r\n",
      "  Downloading ftfy-6.1.1-py3-none-any.whl (53 kB)\r\n",
      "\u001b[2K     \u001b[90m━━━━━━━━━━━━━━━━━━━━━━━━━━━━━━━━━━━━━━━━\u001b[0m \u001b[32m53.1/53.1 kB\u001b[0m \u001b[31m3.8 MB/s\u001b[0m eta \u001b[36m0:00:00\u001b[0m\r\n",
      "\u001b[?25hCollecting sentencepiece==0.1.95\r\n",
      "  Downloading sentencepiece-0.1.95-cp37-cp37m-manylinux2014_x86_64.whl (1.2 MB)\r\n",
      "\u001b[2K     \u001b[90m━━━━━━━━━━━━━━━━━━━━━━━━━━━━━━━━━━━━━━━━\u001b[0m \u001b[32m1.2/1.2 MB\u001b[0m \u001b[31m17.9 MB/s\u001b[0m eta \u001b[36m0:00:00\u001b[0m\r\n",
      "\u001b[?25hCollecting mpld3==0.3\r\n",
      "  Downloading mpld3-0.3.tar.gz (788 kB)\r\n",
      "\u001b[2K     \u001b[90m━━━━━━━━━━━━━━━━━━━━━━━━━━━━━━━━━━━━━━\u001b[0m \u001b[32m788.5/788.5 kB\u001b[0m \u001b[31m29.0 MB/s\u001b[0m eta \u001b[36m0:00:00\u001b[0m\r\n",
      "\u001b[?25h  Preparing metadata (setup.py) ... \u001b[?25l-\b \bdone\r\n",
      "\u001b[?25hCollecting wikipedia-api\r\n",
      "  Downloading Wikipedia-API-0.5.4.tar.gz (18 kB)\r\n",
      "  Preparing metadata (setup.py) ... \u001b[?25l-\b \bdone\r\n",
      "\u001b[?25hCollecting bpemb>=0.3.2\r\n",
      "  Downloading bpemb-0.3.3-py3-none-any.whl (19 kB)\r\n",
      "Requirement already satisfied: tqdm>=4.26.0 in /opt/conda/lib/python3.7/site-packages (from flair) (4.64.0)\r\n",
      "Requirement already satisfied: hyperopt>=0.2.7 in /opt/conda/lib/python3.7/site-packages (from flair) (0.2.7)\r\n",
      "Requirement already satisfied: beautifulsoup4 in /opt/conda/lib/python3.7/site-packages (from gdown==4.4.0->flair) (4.11.1)\r\n",
      "Requirement already satisfied: requests[socks] in /opt/conda/lib/python3.7/site-packages (from gdown==4.4.0->flair) (2.27.1)\r\n",
      "Requirement already satisfied: filelock in /opt/conda/lib/python3.7/site-packages (from gdown==4.4.0->flair) (3.6.0)\r\n",
      "Requirement already satisfied: six in /opt/conda/lib/python3.7/site-packages (from gdown==4.4.0->flair) (1.16.0)\r\n",
      "Requirement already satisfied: numpy in /opt/conda/lib/python3.7/site-packages (from bpemb>=0.3.2->flair) (1.21.6)\r\n",
      "Requirement already satisfied: wrapt<2,>=1.10 in /opt/conda/lib/python3.7/site-packages (from deprecated>=1.2.4->flair) (1.14.1)\r\n",
      "Requirement already satisfied: scipy>=0.18.1 in /opt/conda/lib/python3.7/site-packages (from gensim>=3.4.0->flair) (1.7.3)\r\n",
      "Requirement already satisfied: smart-open>=1.8.1 in /opt/conda/lib/python3.7/site-packages (from gensim>=3.4.0->flair) (5.2.1)\r\n",
      "Requirement already satisfied: cloudpickle in /opt/conda/lib/python3.7/site-packages (from hyperopt>=0.2.7->flair) (2.1.0)\r\n",
      "Requirement already satisfied: py4j in /opt/conda/lib/python3.7/site-packages (from hyperopt>=0.2.7->flair) (0.10.9.5)\r\n",
      "Requirement already satisfied: future in /opt/conda/lib/python3.7/site-packages (from hyperopt>=0.2.7->flair) (0.18.2)\r\n",
      "Requirement already satisfied: networkx>=2.2 in /opt/conda/lib/python3.7/site-packages (from hyperopt>=0.2.7->flair) (2.5)\r\n",
      "Collecting importlib-metadata<4.0.0,>=3.7.0\r\n",
      "  Downloading importlib_metadata-3.10.1-py3-none-any.whl (14 kB)\r\n",
      "Collecting overrides<4.0.0,>=3.0.0\r\n",
      "  Downloading overrides-3.1.0.tar.gz (11 kB)\r\n",
      "  Preparing metadata (setup.py) ... \u001b[?25l-\b \bdone\r\n",
      "\u001b[?25hRequirement already satisfied: fonttools>=4.22.0 in /opt/conda/lib/python3.7/site-packages (from matplotlib>=2.2.3->flair) (4.33.3)\r\n",
      "Requirement already satisfied: pillow>=6.2.0 in /opt/conda/lib/python3.7/site-packages (from matplotlib>=2.2.3->flair) (9.1.1)\r\n",
      "Requirement already satisfied: kiwisolver>=1.0.1 in /opt/conda/lib/python3.7/site-packages (from matplotlib>=2.2.3->flair) (1.4.2)\r\n",
      "Requirement already satisfied: pyparsing>=2.2.1 in /opt/conda/lib/python3.7/site-packages (from matplotlib>=2.2.3->flair) (3.0.9)\r\n",
      "Requirement already satisfied: packaging>=20.0 in /opt/conda/lib/python3.7/site-packages (from matplotlib>=2.2.3->flair) (21.3)\r\n",
      "Requirement already satisfied: cycler>=0.10 in /opt/conda/lib/python3.7/site-packages (from matplotlib>=2.2.3->flair) (0.11.0)\r\n",
      "Requirement already satisfied: threadpoolctl>=2.0.0 in /opt/conda/lib/python3.7/site-packages (from scikit-learn>=0.21.3->flair) (3.1.0)\r\n",
      "Requirement already satisfied: joblib>=0.11 in /opt/conda/lib/python3.7/site-packages (from scikit-learn>=0.21.3->flair) (1.1.0)\r\n",
      "Requirement already satisfied: typing-extensions in /opt/conda/lib/python3.7/site-packages (from torch!=1.8,>=1.5.0->flair) (4.1.1)\r\n",
      "Requirement already satisfied: sacremoses in /opt/conda/lib/python3.7/site-packages (from transformers>=4.0.0->flair) (0.0.53)\r\n",
      "Requirement already satisfied: pyyaml>=5.1 in /opt/conda/lib/python3.7/site-packages (from transformers>=4.0.0->flair) (6.0)\r\n",
      "Requirement already satisfied: tokenizers!=0.11.3,<0.13,>=0.11.1 in /opt/conda/lib/python3.7/site-packages (from transformers>=4.0.0->flair) (0.12.1)\r\n",
      "Requirement already satisfied: wcwidth>=0.2.5 in /opt/conda/lib/python3.7/site-packages (from ftfy->flair) (0.2.5)\r\n",
      "Requirement already satisfied: zipp>=0.5 in /opt/conda/lib/python3.7/site-packages (from importlib-metadata<4.0.0,>=3.7.0->konoha<5.0.0,>=4.0.0->flair) (3.8.0)\r\n",
      "Requirement already satisfied: decorator>=4.3.0 in /opt/conda/lib/python3.7/site-packages (from networkx>=2.2->hyperopt>=0.2.7->flair) (5.1.1)\r\n",
      "Requirement already satisfied: certifi>=2017.4.17 in /opt/conda/lib/python3.7/site-packages (from requests[socks]->gdown==4.4.0->flair) (2022.6.15)\r\n",
      "Requirement already satisfied: idna<4,>=2.5 in /opt/conda/lib/python3.7/site-packages (from requests[socks]->gdown==4.4.0->flair) (3.3)\r\n",
      "Requirement already satisfied: charset-normalizer~=2.0.0 in /opt/conda/lib/python3.7/site-packages (from requests[socks]->gdown==4.4.0->flair) (2.0.12)\r\n",
      "Requirement already satisfied: urllib3<1.27,>=1.21.1 in /opt/conda/lib/python3.7/site-packages (from requests[socks]->gdown==4.4.0->flair) (1.26.9)\r\n",
      "Requirement already satisfied: soupsieve>1.2 in /opt/conda/lib/python3.7/site-packages (from beautifulsoup4->gdown==4.4.0->flair) (2.3.1)\r\n",
      "Requirement already satisfied: PySocks!=1.5.7,>=1.5.6 in /opt/conda/lib/python3.7/site-packages (from requests[socks]->gdown==4.4.0->flair) (1.7.1)\r\n",
      "Requirement already satisfied: click in /opt/conda/lib/python3.7/site-packages (from sacremoses->transformers>=4.0.0->flair) (8.0.4)\r\n",
      "Building wheels for collected packages: gdown, mpld3, sqlitedict, langdetect, pptree, wikipedia-api, overrides\r\n",
      "  Building wheel for gdown (pyproject.toml) ... \u001b[?25l-\b \b\\\b \b|\b \b/\b \b-\b \b\\\b \b|\b \bdone\r\n",
      "\u001b[?25h  Created wheel for gdown: filename=gdown-4.4.0-py3-none-any.whl size=14759 sha256=90985524318bde7d96545dc748b04515bd743f64e4cd44554a766894bc667cd8\r\n",
      "  Stored in directory: /root/.cache/pip/wheels/fb/c3/0e/c4d8ff8bfcb0461afff199471449f642179b74968c15b7a69c\r\n",
      "  Building wheel for mpld3 (setup.py) ... \u001b[?25l-\b \b\\\b \bdone\r\n",
      "\u001b[?25h  Created wheel for mpld3: filename=mpld3-0.3-py3-none-any.whl size=116702 sha256=e63e0c645e9edbbcaf8b814d9b4dbdd611ce5b7823e17a9be81a539b56ce1c71\r\n",
      "  Stored in directory: /root/.cache/pip/wheels/26/70/6a/1c79e59951a41b4045497da187b2724f5659ca64033cf4548e\r\n",
      "  Building wheel for sqlitedict (setup.py) ... \u001b[?25l-\b \bdone\r\n",
      "\u001b[?25h  Created wheel for sqlitedict: filename=sqlitedict-2.0.0-py3-none-any.whl size=15736 sha256=fd357c63d7a1dccca72bd4408f4de8a1b29da3916ef4f9e651df5b4fe54d0609\r\n",
      "  Stored in directory: /root/.cache/pip/wheels/96/dd/2e/0ed4a25cb73fc30c7ea8d10b50acb7226175736067e40a7ea3\r\n",
      "  Building wheel for langdetect (setup.py) ... \u001b[?25l-\b \b\\\b \b|\b \b/\b \bdone\r\n",
      "\u001b[?25h  Created wheel for langdetect: filename=langdetect-1.0.9-py3-none-any.whl size=993242 sha256=96ea2259a2c93ec306c259da85c34cef4628bd27d9ffd427e897e40e3efc00be\r\n",
      "  Stored in directory: /root/.cache/pip/wheels/c5/96/8a/f90c59ed25d75e50a8c10a1b1c2d4c402e4dacfa87f3aff36a\r\n",
      "  Building wheel for pptree (setup.py) ... \u001b[?25l-\b \b\\\b \bdone\r\n",
      "\u001b[?25h  Created wheel for pptree: filename=pptree-3.1-py3-none-any.whl size=4629 sha256=5f7d9603aff83001d0dde15033ad521655643704fcb7ab2be879e8245ec6aad2\r\n",
      "  Stored in directory: /root/.cache/pip/wheels/9e/e8/7d/a9c3c19b4722608a0d8b05a38c36bc3f230c43becd2a46794b\r\n",
      "  Building wheel for wikipedia-api (setup.py) ... \u001b[?25l-\b \b\\\b \bdone\r\n",
      "\u001b[?25h  Created wheel for wikipedia-api: filename=Wikipedia_API-0.5.4-py3-none-any.whl size=13477 sha256=c4d80121b287e36a2869122f6871828765cc5385fb25881018cee21bd8b18587\r\n",
      "  Stored in directory: /root/.cache/pip/wheels/d3/24/56/58ba93cf78be162451144e7a9889603f437976ef1ae7013d04\r\n",
      "  Building wheel for overrides (setup.py) ... \u001b[?25l-\b \b\\\b \bdone\r\n",
      "\u001b[?25h  Created wheel for overrides: filename=overrides-3.1.0-py3-none-any.whl size=10187 sha256=fa8e6956841eba79c92be79d4725dc272fc06a9d96b74286056e686b19507bc2\r\n",
      "  Stored in directory: /root/.cache/pip/wheels/3a/0d/38/01a9bc6e20dcfaf0a6a7b552d03137558ba1c38aea47644682\r\n",
      "Successfully built gdown mpld3 sqlitedict langdetect pptree wikipedia-api overrides\r\n",
      "Installing collected packages: sqlitedict, sentencepiece, pptree, overrides, mpld3, segtok, langdetect, importlib-metadata, ftfy, deprecated, conllu, wikipedia-api, konoha, gdown, bpemb, flair\r\n",
      "  Attempting uninstall: sentencepiece\r\n",
      "    Found existing installation: sentencepiece 0.1.96\r\n",
      "    Uninstalling sentencepiece-0.1.96:\r\n",
      "      Successfully uninstalled sentencepiece-0.1.96\r\n",
      "  Attempting uninstall: overrides\r\n",
      "    Found existing installation: overrides 6.1.0\r\n",
      "    Uninstalling overrides-6.1.0:\r\n",
      "      Successfully uninstalled overrides-6.1.0\r\n",
      "  Attempting uninstall: mpld3\r\n",
      "    Found existing installation: mpld3 0.5.8\r\n",
      "    Uninstalling mpld3-0.5.8:\r\n",
      "      Successfully uninstalled mpld3-0.5.8\r\n",
      "  Attempting uninstall: importlib-metadata\r\n",
      "    Found existing installation: importlib-metadata 4.11.4\r\n",
      "    Uninstalling importlib-metadata-4.11.4:\r\n",
      "      Successfully uninstalled importlib-metadata-4.11.4\r\n",
      "\u001b[31mERROR: pip's dependency resolver does not currently take into account all the packages that are installed. This behaviour is the source of the following dependency conflicts.\r\n",
      "markdown 3.3.7 requires importlib-metadata>=4.4; python_version < \"3.10\", but you have importlib-metadata 3.10.1 which is incompatible.\r\n",
      "ibis-framework 2.1.1 requires importlib-metadata<5,>=4; python_version < \"3.8\", but you have importlib-metadata 3.10.1 which is incompatible.\r\n",
      "gym 0.24.1 requires importlib-metadata>=4.8.0; python_version < \"3.10\", but you have importlib-metadata 3.10.1 which is incompatible.\r\n",
      "google-cloud-pubsublite 1.4.2 requires overrides<7.0.0,>=6.0.1, but you have overrides 3.1.0 which is incompatible.\u001b[0m\u001b[31m\r\n",
      "\u001b[0mSuccessfully installed bpemb-0.3.3 conllu-4.4.2 deprecated-1.2.13 flair-0.11.3 ftfy-6.1.1 gdown-4.4.0 importlib-metadata-3.10.1 konoha-4.6.5 langdetect-1.0.9 mpld3-0.3 overrides-3.1.0 pptree-3.1 segtok-1.5.11 sentencepiece-0.1.95 sqlitedict-2.0.0 wikipedia-api-0.5.4\r\n",
      "\u001b[33mWARNING: Running pip as the 'root' user can result in broken permissions and conflicting behaviour with the system package manager. It is recommended to use a virtual environment instead: https://pip.pypa.io/warnings/venv\u001b[0m\u001b[33m\r\n",
      "\u001b[0m"
     ]
    }
   ],
   "source": [
    "!pip install flair"
   ]
  },
  {
   "cell_type": "code",
   "execution_count": 3,
   "id": "028ce971",
   "metadata": {
    "execution": {
     "iopub.execute_input": "2022-06-22T08:22:51.857280Z",
     "iopub.status.busy": "2022-06-22T08:22:51.856832Z",
     "iopub.status.idle": "2022-06-22T08:23:38.867472Z",
     "shell.execute_reply": "2022-06-22T08:23:38.866009Z"
    },
    "papermill": {
     "duration": 47.026503,
     "end_time": "2022-06-22T08:23:38.871120",
     "exception": false,
     "start_time": "2022-06-22T08:22:51.844617",
     "status": "completed"
    },
    "tags": []
   },
   "outputs": [],
   "source": [
    "with open('../input/nerenglishlarge/Date.pkl', 'rb') as f:\n",
    "    Date = pickle.load(f)\n",
    "with open('../input/nerenglishlarge/Datebeforefilter.pkl', 'rb') as f:\n",
    "    date_before_Filter = pickle.load(f)\n",
    "with open('../input/nerenglishlarge/LOClarge.pkl', 'rb') as f:\n",
    "    Loclarge = pickle.load(f)\n",
    "with open('../input/nerenglishlarge/ORGlarge.pkl', 'rb') as f:\n",
    "    Orglarge = pickle.load(f)\n",
    "with open('../input/nerenglishlarge/Personlarge.pkl', 'rb') as f:\n",
    "    Personlarge = pickle.load(f)\n",
    "with open('../input/nerenglishlarge/Persononto.pkl', 'rb') as f:\n",
    "    Person_onto = pickle.load(f)\n",
    "with open('../input/nerenglishlarge/finaldate.pkl', 'rb') as f:\n",
    "    final_Date = pickle.load(f)\n",
    "with open('../input/nerenglishlarge/nerengentity.pkl', 'rb') as f:\n",
    "    Ner_eng = pickle.load(f)\n",
    "with open('../input/nerenglishlarge/nerenglargegentity.pkl', 'rb') as f:\n",
    "    Ner_eng_large = pickle.load(f)\n",
    "with open('../input/nerenglishlarge/ontoentity.pkl', 'rb') as f:\n",
    "    ontonotes = pickle.load(f)"
   ]
  },
  {
   "cell_type": "code",
   "execution_count": 4,
   "id": "fe36a539",
   "metadata": {
    "execution": {
     "iopub.execute_input": "2022-06-22T08:23:38.895376Z",
     "iopub.status.busy": "2022-06-22T08:23:38.894913Z",
     "iopub.status.idle": "2022-06-22T08:23:40.045282Z",
     "shell.execute_reply": "2022-06-22T08:23:40.044037Z"
    },
    "papermill": {
     "duration": 1.165746,
     "end_time": "2022-06-22T08:23:40.048029",
     "exception": false,
     "start_time": "2022-06-22T08:23:38.882283",
     "status": "completed"
    },
    "tags": []
   },
   "outputs": [],
   "source": [
    "data=pd.read_csv(\"../input/records/records.csv\")\n",
    "all_text=data[\"transcription_text\"]"
   ]
  },
  {
   "cell_type": "code",
   "execution_count": 5,
   "id": "f5b0fa22",
   "metadata": {
    "execution": {
     "iopub.execute_input": "2022-06-22T08:23:40.072559Z",
     "iopub.status.busy": "2022-06-22T08:23:40.072146Z",
     "iopub.status.idle": "2022-06-22T08:24:14.013958Z",
     "shell.execute_reply": "2022-06-22T08:24:14.012521Z"
    },
    "papermill": {
     "duration": 33.957069,
     "end_time": "2022-06-22T08:24:14.016051",
     "exception": false,
     "start_time": "2022-06-22T08:23:40.058982",
     "status": "completed"
    },
    "tags": []
   },
   "outputs": [
    {
     "name": "stderr",
     "output_type": "stream",
     "text": [
      "100%|██████████| 10000/10000 [00:28<00:00, 356.76it/s]\n",
      "100%|██████████| 10000/10000 [00:05<00:00, 1699.72it/s]"
     ]
    },
    {
     "name": "stdout",
     "output_type": "stream",
     "text": [
      "33.92321300506592\n"
     ]
    },
    {
     "name": "stderr",
     "output_type": "stream",
     "text": [
      "\n"
     ]
    }
   ],
   "source": [
    "stop_words = set(stopwords.words('english'))\n",
    "punctuation = string.punctuation\n",
    "stemmer = SnowballStemmer(language=\"english\")\n",
    "lemmatizer = WordNetLemmatizer()\n",
    "stop_words.remove(\"of\")\n",
    "punctuation\n",
    "punct='!\"#$%&\\'()*+-/<=>?@[\\\\]^_`{|}~'\n",
    "def process(s):\n",
    "    s= re.sub(\"([\\(\\[]).*?([\\)\\]])\",\" \",s)\n",
    "    for p in punct:\n",
    "        s = s.replace(p, '')\n",
    "    s = word_tokenize(s)\n",
    "    s = [w for w in s if not w in stop_words] #optional\n",
    "    s = [lemmatizer.lemmatize(word) for word in s]\n",
    "    return s\n",
    "start=time.time()\n",
    "for i in tqdm(range(10000)):\n",
    "    all_text[i] = process(all_text[i])\n",
    "for i in tqdm(range(10000)):\n",
    "    all_text[i] = \" \".join(all_text[i])\n",
    "end=time.time()\n",
    "print(end-start)"
   ]
  },
  {
   "cell_type": "code",
   "execution_count": 6,
   "id": "1cff8a18",
   "metadata": {
    "execution": {
     "iopub.execute_input": "2022-06-22T08:24:14.066943Z",
     "iopub.status.busy": "2022-06-22T08:24:14.066583Z",
     "iopub.status.idle": "2022-06-22T08:24:14.080814Z",
     "shell.execute_reply": "2022-06-22T08:24:14.079485Z"
    },
    "papermill": {
     "duration": 0.042767,
     "end_time": "2022-06-22T08:24:14.083580",
     "exception": false,
     "start_time": "2022-06-22T08:24:14.040813",
     "status": "completed"
    },
    "tags": []
   },
   "outputs": [
    {
     "data": {
      "text/plain": [
       "[['March 19th 1866', 'March 19 1866'],\n",
       " ['Mon 28 . 1866'],\n",
       " ['twenty one', 'twenty one year old'],\n",
       " [],\n",
       " [],\n",
       " ['twelve month', 'five year'],\n",
       " [],\n",
       " [],\n",
       " ['Sunday', 'early last spring', 'Christmas'],\n",
       " []]"
      ]
     },
     "execution_count": 6,
     "metadata": {},
     "output_type": "execute_result"
    }
   ],
   "source": [
    "Date[:10]"
   ]
  },
  {
   "cell_type": "code",
   "execution_count": 7,
   "id": "1c638897",
   "metadata": {
    "execution": {
     "iopub.execute_input": "2022-06-22T08:24:14.133928Z",
     "iopub.status.busy": "2022-06-22T08:24:14.133575Z",
     "iopub.status.idle": "2022-06-22T08:24:14.140466Z",
     "shell.execute_reply": "2022-06-22T08:24:14.139205Z"
    },
    "papermill": {
     "duration": 0.034366,
     "end_time": "2022-06-22T08:24:14.142774",
     "exception": false,
     "start_time": "2022-06-22T08:24:14.108408",
     "status": "completed"
    },
    "tags": []
   },
   "outputs": [
    {
     "data": {
      "text/plain": [
       "['4-Nov-1867',\n",
       " '5-Nov-1867',\n",
       " '5-Nov-1867',\n",
       " '6-Nov-1867',\n",
       " '7-Nov-1867',\n",
       " '24-February-1867',\n",
       " '7-Nov.-1867',\n",
       " '9-Saturday Nov-1867',\n",
       " 'Saturday-Nov-1867',\n",
       " 'Satur-Nov-1867']"
      ]
     },
     "execution_count": 7,
     "metadata": {},
     "output_type": "execute_result"
    }
   ],
   "source": [
    "final_Date[500]"
   ]
  },
  {
   "cell_type": "code",
   "execution_count": 8,
   "id": "d3716442",
   "metadata": {
    "execution": {
     "iopub.execute_input": "2022-06-22T08:24:14.193099Z",
     "iopub.status.busy": "2022-06-22T08:24:14.192397Z",
     "iopub.status.idle": "2022-06-22T08:24:14.200257Z",
     "shell.execute_reply": "2022-06-22T08:24:14.198969Z"
    },
    "papermill": {
     "duration": 0.035355,
     "end_time": "2022-06-22T08:24:14.202696",
     "exception": false,
     "start_time": "2022-06-22T08:24:14.167341",
     "status": "completed"
    },
    "tags": []
   },
   "outputs": [
    {
     "data": {
      "text/plain": [
       "'10 Complaint Disposition Nov 4 1867 Mr. R. C. Stuart , White , complains one Jacob Corcoran . contracting work one year , left Plantation gathering crop c. Letter sent Corcoran appear office Thursday Nov 7 , 1867 explain reason leaving Mr. Stuart crop gathered . Jake appeared case settled . Nov 5 1867 Mr. Z. L. Morris complains Zenas Hunter Dave Wallace laboring according contract Nov 5th 1867 Letter sent Zenas Hunter Dave Wallace appear office Thursday Nov 7 1867 bring account c Dave appeared contract explained . Nov 6 1867 E. Lowengard , white , complains one Isaac Harry owes 240.00 doll . pay anything . Said Isaac owes Mr. Lowengard good c purchased Isaac paid Mr. Lowengard 100.00 doll . Nov 7 1867 Willoby Sawyer complains one Windyke owes 20 bushel of corn 3 12 month labor February 24 , 1867 June 67 . Refuses pay anything c. Letter sent Windyke telling settle Sawyer appear office Thursday Nov 14 1867 . Both party appeared office case settled . Vandike giving Willoughby 9 Bu of corn amount coming 11 Complaint Disposition Nov 7 1867 Albert Torrence complains one Horace Young owes 32.00 doll . corn endeavoring cheat of money . Nov. 7th 1867 Letter sent Young appear office Saturday Nov 9 1867 explain reason paying Albert money Nov 7 1867 Elias Wallace complains one Cate Ross accused of stealing wanted writ bring said Ross Bureau . Told Wallace go back wanted arrest allow thus matter investigated . Nov 7 1867 F. H. Maxwell , white , complains hired freedboy named George four month boy mother Lizzie settling claim 7 50100 doll . promised give 30.00 doll . Freedwoman came inquiry case Mr Maxwell agreed give woman 7 50100 doll per month boy'"
      ]
     },
     "execution_count": 8,
     "metadata": {},
     "output_type": "execute_result"
    }
   ],
   "source": [
    "all_text[500]"
   ]
  },
  {
   "cell_type": "code",
   "execution_count": 9,
   "id": "cb80f38d",
   "metadata": {
    "execution": {
     "iopub.execute_input": "2022-06-22T08:24:14.254434Z",
     "iopub.status.busy": "2022-06-22T08:24:14.254002Z",
     "iopub.status.idle": "2022-06-22T08:24:14.266956Z",
     "shell.execute_reply": "2022-06-22T08:24:14.265823Z"
    },
    "papermill": {
     "duration": 0.041386,
     "end_time": "2022-06-22T08:24:14.269415",
     "exception": false,
     "start_time": "2022-06-22T08:24:14.228029",
     "status": "completed"
    },
    "tags": []
   },
   "outputs": [
    {
     "data": {
      "text/plain": [
       "(22658, 1921)"
      ]
     },
     "execution_count": 9,
     "metadata": {},
     "output_type": "execute_result"
    }
   ],
   "source": [
    "PL=[]\n",
    "empty=0\n",
    "for i in Date:\n",
    "    for j in i:\n",
    "        PL.append(j)\n",
    "for i in Date:\n",
    "    if i==[]:\n",
    "        empty=empty+1\n",
    "len(PL), empty"
   ]
  },
  {
   "cell_type": "code",
   "execution_count": 10,
   "id": "90d53a62",
   "metadata": {
    "execution": {
     "iopub.execute_input": "2022-06-22T08:24:14.319407Z",
     "iopub.status.busy": "2022-06-22T08:24:14.319010Z",
     "iopub.status.idle": "2022-06-22T08:24:14.331447Z",
     "shell.execute_reply": "2022-06-22T08:24:14.330257Z"
    },
    "papermill": {
     "duration": 0.03996,
     "end_time": "2022-06-22T08:24:14.333672",
     "exception": false,
     "start_time": "2022-06-22T08:24:14.293712",
     "status": "completed"
    },
    "tags": []
   },
   "outputs": [
    {
     "data": {
      "text/plain": [
       "(12186, 3573)"
      ]
     },
     "execution_count": 10,
     "metadata": {},
     "output_type": "execute_result"
    }
   ],
   "source": [
    "PL=[]\n",
    "empty=0\n",
    "for i in date_before_Filter:\n",
    "    for j in i:\n",
    "        PL.append(j)\n",
    "for i in date_before_Filter:\n",
    "    if i==[]:\n",
    "        empty=empty+1\n",
    "len(PL), empty"
   ]
  },
  {
   "cell_type": "code",
   "execution_count": 11,
   "id": "8b6f8bf2",
   "metadata": {
    "execution": {
     "iopub.execute_input": "2022-06-22T08:24:14.385154Z",
     "iopub.status.busy": "2022-06-22T08:24:14.384432Z",
     "iopub.status.idle": "2022-06-22T08:24:14.396414Z",
     "shell.execute_reply": "2022-06-22T08:24:14.395205Z"
    },
    "papermill": {
     "duration": 0.040403,
     "end_time": "2022-06-22T08:24:14.398629",
     "exception": false,
     "start_time": "2022-06-22T08:24:14.358226",
     "status": "completed"
    },
    "tags": []
   },
   "outputs": [
    {
     "data": {
      "text/plain": [
       "(9956, 4946)"
      ]
     },
     "execution_count": 11,
     "metadata": {},
     "output_type": "execute_result"
    }
   ],
   "source": [
    "PL=[]\n",
    "empty=0\n",
    "for i in final_Date:\n",
    "    for j in i:\n",
    "        PL.append(j)\n",
    "for i in final_Date:\n",
    "    if i==[]:\n",
    "        empty=empty+1\n",
    "len(PL), empty"
   ]
  },
  {
   "cell_type": "code",
   "execution_count": 12,
   "id": "bc6a7c06",
   "metadata": {
    "execution": {
     "iopub.execute_input": "2022-06-22T08:24:14.448380Z",
     "iopub.status.busy": "2022-06-22T08:24:14.447991Z",
     "iopub.status.idle": "2022-06-22T08:24:14.478508Z",
     "shell.execute_reply": "2022-06-22T08:24:14.477314Z"
    },
    "papermill": {
     "duration": 0.058223,
     "end_time": "2022-06-22T08:24:14.480880",
     "exception": false,
     "start_time": "2022-06-22T08:24:14.422657",
     "status": "completed"
    },
    "tags": []
   },
   "outputs": [
    {
     "data": {
      "text/plain": [
       "(125981, 7254)"
      ]
     },
     "execution_count": 12,
     "metadata": {},
     "output_type": "execute_result"
    }
   ],
   "source": [
    "PL=[]\n",
    "empty=0\n",
    "for i in Personlarge:\n",
    "    for j in i:\n",
    "        PL.append(j)\n",
    "for i in Personlarge:\n",
    "    if i==[]:\n",
    "        empty=empty+1\n",
    "len(PL), empty"
   ]
  },
  {
   "cell_type": "code",
   "execution_count": 13,
   "id": "bd9ad333",
   "metadata": {
    "execution": {
     "iopub.execute_input": "2022-06-22T08:24:14.532788Z",
     "iopub.status.busy": "2022-06-22T08:24:14.532422Z",
     "iopub.status.idle": "2022-06-22T08:24:14.548105Z",
     "shell.execute_reply": "2022-06-22T08:24:14.546770Z"
    },
    "papermill": {
     "duration": 0.044859,
     "end_time": "2022-06-22T08:24:14.550637",
     "exception": false,
     "start_time": "2022-06-22T08:24:14.505778",
     "status": "completed"
    },
    "tags": []
   },
   "outputs": [
    {
     "data": {
      "text/plain": [
       "(37349, 1966)"
      ]
     },
     "execution_count": 13,
     "metadata": {},
     "output_type": "execute_result"
    }
   ],
   "source": [
    "PL=[]\n",
    "empty=0\n",
    "for i in Person_onto:\n",
    "    for j in i:\n",
    "        PL.append(j)\n",
    "for i in Person_onto:\n",
    "    if i==[]:\n",
    "        empty=empty+1\n",
    "len(PL), empty"
   ]
  },
  {
   "cell_type": "code",
   "execution_count": 14,
   "id": "b69d45c5",
   "metadata": {
    "execution": {
     "iopub.execute_input": "2022-06-22T08:24:14.601519Z",
     "iopub.status.busy": "2022-06-22T08:24:14.601135Z",
     "iopub.status.idle": "2022-06-22T08:24:14.627536Z",
     "shell.execute_reply": "2022-06-22T08:24:14.626073Z"
    },
    "papermill": {
     "duration": 0.054754,
     "end_time": "2022-06-22T08:24:14.630061",
     "exception": false,
     "start_time": "2022-06-22T08:24:14.575307",
     "status": "completed"
    },
    "tags": []
   },
   "outputs": [
    {
     "data": {
      "text/plain": [
       "(83375, 9965)"
      ]
     },
     "execution_count": 14,
     "metadata": {},
     "output_type": "execute_result"
    }
   ],
   "source": [
    "PL=[]\n",
    "empty=0\n",
    "for i in Loclarge:\n",
    "    for j in i:\n",
    "        PL.append(j)\n",
    "for i in Loclarge:\n",
    "    if i==[]:\n",
    "        empty=empty+1\n",
    "len(PL), empty"
   ]
  },
  {
   "cell_type": "code",
   "execution_count": 15,
   "id": "5fd49f28",
   "metadata": {
    "execution": {
     "iopub.execute_input": "2022-06-22T08:24:14.681753Z",
     "iopub.status.busy": "2022-06-22T08:24:14.681375Z",
     "iopub.status.idle": "2022-06-22T08:24:14.702791Z",
     "shell.execute_reply": "2022-06-22T08:24:14.701642Z"
    },
    "papermill": {
     "duration": 0.049951,
     "end_time": "2022-06-22T08:24:14.704998",
     "exception": false,
     "start_time": "2022-06-22T08:24:14.655047",
     "status": "completed"
    },
    "tags": []
   },
   "outputs": [
    {
     "data": {
      "text/plain": [
       "(54834, 14308)"
      ]
     },
     "execution_count": 15,
     "metadata": {},
     "output_type": "execute_result"
    }
   ],
   "source": [
    "PL=[]\n",
    "empty=0\n",
    "for i in Orglarge:\n",
    "    for j in i:\n",
    "        PL.append(j)\n",
    "for i in Orglarge:\n",
    "    if i==[]:\n",
    "        empty=empty+1\n",
    "len(PL), empty"
   ]
  },
  {
   "cell_type": "code",
   "execution_count": null,
   "id": "770b80ea",
   "metadata": {
    "papermill": {
     "duration": 0.024719,
     "end_time": "2022-06-22T08:24:14.754798",
     "exception": false,
     "start_time": "2022-06-22T08:24:14.730079",
     "status": "completed"
    },
    "tags": []
   },
   "outputs": [],
   "source": []
  },
  {
   "cell_type": "code",
   "execution_count": null,
   "id": "11390d20",
   "metadata": {
    "papermill": {
     "duration": 0.02487,
     "end_time": "2022-06-22T08:24:14.804377",
     "exception": false,
     "start_time": "2022-06-22T08:24:14.779507",
     "status": "completed"
    },
    "tags": []
   },
   "outputs": [],
   "source": []
  }
 ],
 "metadata": {
  "kernelspec": {
   "display_name": "Python 3",
   "language": "python",
   "name": "python3"
  },
  "language_info": {
   "codemirror_mode": {
    "name": "ipython",
    "version": 3
   },
   "file_extension": ".py",
   "mimetype": "text/x-python",
   "name": "python",
   "nbconvert_exporter": "python",
   "pygments_lexer": "ipython3",
   "version": "3.7.12"
  },
  "papermill": {
   "default_parameters": {},
   "duration": 152.451834,
   "end_time": "2022-06-22T08:24:17.650467",
   "environment_variables": {},
   "exception": null,
   "input_path": "__notebook__.ipynb",
   "output_path": "__notebook__.ipynb",
   "parameters": {},
   "start_time": "2022-06-22T08:21:45.198633",
   "version": "2.3.4"
  }
 },
 "nbformat": 4,
 "nbformat_minor": 5
}
