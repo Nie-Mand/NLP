{
 "cells": [
  {
   "cell_type": "code",
   "execution_count": 1,
   "id": "22d2d5c6",
   "metadata": {
    "_cell_guid": "b1076dfc-b9ad-4769-8c92-a6c4dae69d19",
    "_uuid": "8f2839f25d086af736a60e9eeb907d3b93b6e0e5",
    "execution": {
     "iopub.execute_input": "2022-06-02T09:55:10.866763Z",
     "iopub.status.busy": "2022-06-02T09:55:10.866301Z",
     "iopub.status.idle": "2022-06-02T09:55:19.001534Z",
     "shell.execute_reply": "2022-06-02T09:55:19.000621Z"
    },
    "papermill": {
     "duration": 8.173071,
     "end_time": "2022-06-02T09:55:19.004353",
     "exception": false,
     "start_time": "2022-06-02T09:55:10.831282",
     "status": "completed"
    },
    "tags": []
   },
   "outputs": [],
   "source": [
    "import numpy as np\n",
    "import pandas as pd \n",
    "import seaborn as sns\n",
    "import matplotlib.pyplot as plt \n",
    "import matplotlib.style as stl \n",
    "from tqdm import tqdm\n",
    "from tensorflow import keras \n",
    "from keras.preprocessing.text import Tokenizer\n",
    "from nltk.corpus import stopwords\n",
    "import string\n",
    "from tensorflow.keras.models import Sequential,Model\n",
    "from tensorflow.keras.layers import Dense, LSTM, Embedding,Dropout,SpatialDropout1D,Conv1D,MaxPooling1D,GRU,BatchNormalization\n",
    "import warnings\n",
    "warnings.filterwarnings('ignore')\n",
    "stl.use('ggplot')"
   ]
  },
  {
   "cell_type": "code",
   "execution_count": 2,
   "id": "d836e9cd",
   "metadata": {
    "execution": {
     "iopub.execute_input": "2022-06-02T09:55:19.075080Z",
     "iopub.status.busy": "2022-06-02T09:55:19.074354Z",
     "iopub.status.idle": "2022-06-02T09:55:19.096675Z",
     "shell.execute_reply": "2022-06-02T09:55:19.095973Z"
    },
    "papermill": {
     "duration": 0.058849,
     "end_time": "2022-06-02T09:55:19.098575",
     "exception": false,
     "start_time": "2022-06-02T09:55:19.039726",
     "status": "completed"
    },
    "tags": []
   },
   "outputs": [],
   "source": [
    "data=pd.read_csv(\"../input/sample/sample-2.csv\")"
   ]
  },
  {
   "cell_type": "code",
   "execution_count": 3,
   "id": "64eeeafe",
   "metadata": {
    "execution": {
     "iopub.execute_input": "2022-06-02T09:55:19.140353Z",
     "iopub.status.busy": "2022-06-02T09:55:19.139234Z",
     "iopub.status.idle": "2022-06-02T09:55:19.167735Z",
     "shell.execute_reply": "2022-06-02T09:55:19.167210Z"
    },
    "papermill": {
     "duration": 0.051416,
     "end_time": "2022-06-02T09:55:19.169676",
     "exception": false,
     "start_time": "2022-06-02T09:55:19.118260",
     "status": "completed"
    },
    "tags": []
   },
   "outputs": [
    {
     "data": {
      "text/html": [
       "<div>\n",
       "<style scoped>\n",
       "    .dataframe tbody tr th:only-of-type {\n",
       "        vertical-align: middle;\n",
       "    }\n",
       "\n",
       "    .dataframe tbody tr th {\n",
       "        vertical-align: top;\n",
       "    }\n",
       "\n",
       "    .dataframe thead th {\n",
       "        text-align: right;\n",
       "    }\n",
       "</style>\n",
       "<table border=\"1\" class=\"dataframe\">\n",
       "  <thead>\n",
       "    <tr style=\"text-align: right;\">\n",
       "      <th></th>\n",
       "      <th>document_id</th>\n",
       "      <th>status</th>\n",
       "      <th>document_url</th>\n",
       "      <th>media_type</th>\n",
       "      <th>media_link</th>\n",
       "      <th>relative_media_path</th>\n",
       "      <th>is_media_downloaded</th>\n",
       "      <th>transcription_text</th>\n",
       "      <th>transcription_text_relative_path</th>\n",
       "      <th>from_time</th>\n",
       "      <th>to_time</th>\n",
       "      <th>project_id</th>\n",
       "      <th>Category</th>\n",
       "      <th>Unnamed: 13</th>\n",
       "      <th>Unnamed: 14</th>\n",
       "    </tr>\n",
       "  </thead>\n",
       "  <tbody>\n",
       "    <tr>\n",
       "      <th>0</th>\n",
       "      <td>NMAAHC-007676813_00577</td>\n",
       "      <td>Complete</td>\n",
       "      <td>https://transcription.si.edu/transcribe/32203/...</td>\n",
       "      <td>image</td>\n",
       "      <td>https://ids.si.edu/ids/deliveryService?max_w=&amp;...</td>\n",
       "      <td>/32203/image/NMAAHC-007676813_00577.jpg</td>\n",
       "      <td>1</td>\n",
       "      <td>8 E encl\\r\\n\\r\\nI Anne H. Elliott, widow do so...</td>\n",
       "      <td>/32203/transcriptions/NMAAHC-007676813_00577.txt</td>\n",
       "      <td>\\N</td>\n",
       "      <td>\\N</td>\n",
       "      <td>32203</td>\n",
       "      <td>Oaths/Pardons</td>\n",
       "      <td>NaN</td>\n",
       "      <td>NaN</td>\n",
       "    </tr>\n",
       "    <tr>\n",
       "      <th>1</th>\n",
       "      <td>NMAAHC-007676818_00567</td>\n",
       "      <td>Complete</td>\n",
       "      <td>https://transcription.si.edu/transcribe/32796/...</td>\n",
       "      <td>image</td>\n",
       "      <td>https://ids.si.edu/ids/deliveryService?max_w=&amp;...</td>\n",
       "      <td>/32796/image/NMAAHC-007676818_00567.jpg</td>\n",
       "      <td>1</td>\n",
       "      <td>I E C Whaley solemnly swear that I have carefu...</td>\n",
       "      <td>/32796/transcriptions/NMAAHC-007676818_00567.txt</td>\n",
       "      <td>\\N</td>\n",
       "      <td>\\N</td>\n",
       "      <td>32796</td>\n",
       "      <td>Oaths/Pardons</td>\n",
       "      <td>NaN</td>\n",
       "      <td>NaN</td>\n",
       "    </tr>\n",
       "    <tr>\n",
       "      <th>2</th>\n",
       "      <td>NMAAHC-007676815_00488-000001</td>\n",
       "      <td>Complete</td>\n",
       "      <td>https://transcription.si.edu/transcribe/32218/...</td>\n",
       "      <td>image</td>\n",
       "      <td>https://ids.si.edu/ids/deliveryService?max_w=&amp;...</td>\n",
       "      <td>/32218/image/NMAAHC-007676815_00488-000001.jpg</td>\n",
       "      <td>1</td>\n",
       "      <td>43M\\r\\nI Mrs E Montgomery solemnly Swear that ...</td>\n",
       "      <td>/32218/transcriptions/NMAAHC-007676815_00488-0...</td>\n",
       "      <td>\\N</td>\n",
       "      <td>\\N</td>\n",
       "      <td>32218</td>\n",
       "      <td>Oaths/Pardons</td>\n",
       "      <td>NaN</td>\n",
       "      <td>NaN</td>\n",
       "    </tr>\n",
       "    <tr>\n",
       "      <th>3</th>\n",
       "      <td>NMAAHC-007677400_00375</td>\n",
       "      <td>Complete</td>\n",
       "      <td>https://transcription.si.edu/transcribe/26149/...</td>\n",
       "      <td>image</td>\n",
       "      <td>https://ids.si.edu/ids/deliveryService?max_w=&amp;...</td>\n",
       "      <td>/26149/image/NMAAHC-007677400_00375.jpg</td>\n",
       "      <td>1</td>\n",
       "      <td>No. 2324\\r\\nI do solemnly swear or affirm, in ...</td>\n",
       "      <td>/26149/transcriptions/NMAAHC-007677400_00375.txt</td>\n",
       "      <td>\\N</td>\n",
       "      <td>\\N</td>\n",
       "      <td>26149</td>\n",
       "      <td>Oaths/Pardons</td>\n",
       "      <td>NaN</td>\n",
       "      <td>NaN</td>\n",
       "    </tr>\n",
       "    <tr>\n",
       "      <th>4</th>\n",
       "      <td>NMAAHC-007677378_00480</td>\n",
       "      <td>Complete</td>\n",
       "      <td>https://transcription.si.edu/transcribe/27345/...</td>\n",
       "      <td>image</td>\n",
       "      <td>https://ids.si.edu/ids/deliveryService?max_w=&amp;...</td>\n",
       "      <td>/27345/image/NMAAHC-007677378_00480.jpg</td>\n",
       "      <td>1</td>\n",
       "      <td>August 24. 1865\\r\\nAPPLICATION AND CERTIFICATE...</td>\n",
       "      <td>/27345/transcriptions/NMAAHC-007677378_00480.txt</td>\n",
       "      <td>\\N</td>\n",
       "      <td>\\N</td>\n",
       "      <td>27345</td>\n",
       "      <td>Oaths/Pardons</td>\n",
       "      <td>NaN</td>\n",
       "      <td>NaN</td>\n",
       "    </tr>\n",
       "  </tbody>\n",
       "</table>\n",
       "</div>"
      ],
      "text/plain": [
       "                     document_id    status  \\\n",
       "0         NMAAHC-007676813_00577  Complete   \n",
       "1         NMAAHC-007676818_00567  Complete   \n",
       "2  NMAAHC-007676815_00488-000001  Complete   \n",
       "3         NMAAHC-007677400_00375  Complete   \n",
       "4         NMAAHC-007677378_00480  Complete   \n",
       "\n",
       "                                        document_url media_type  \\\n",
       "0  https://transcription.si.edu/transcribe/32203/...      image   \n",
       "1  https://transcription.si.edu/transcribe/32796/...      image   \n",
       "2  https://transcription.si.edu/transcribe/32218/...      image   \n",
       "3  https://transcription.si.edu/transcribe/26149/...      image   \n",
       "4  https://transcription.si.edu/transcribe/27345/...      image   \n",
       "\n",
       "                                          media_link  \\\n",
       "0  https://ids.si.edu/ids/deliveryService?max_w=&...   \n",
       "1  https://ids.si.edu/ids/deliveryService?max_w=&...   \n",
       "2  https://ids.si.edu/ids/deliveryService?max_w=&...   \n",
       "3  https://ids.si.edu/ids/deliveryService?max_w=&...   \n",
       "4  https://ids.si.edu/ids/deliveryService?max_w=&...   \n",
       "\n",
       "                              relative_media_path  is_media_downloaded  \\\n",
       "0         /32203/image/NMAAHC-007676813_00577.jpg                    1   \n",
       "1         /32796/image/NMAAHC-007676818_00567.jpg                    1   \n",
       "2  /32218/image/NMAAHC-007676815_00488-000001.jpg                    1   \n",
       "3         /26149/image/NMAAHC-007677400_00375.jpg                    1   \n",
       "4         /27345/image/NMAAHC-007677378_00480.jpg                    1   \n",
       "\n",
       "                                  transcription_text  \\\n",
       "0  8 E encl\\r\\n\\r\\nI Anne H. Elliott, widow do so...   \n",
       "1  I E C Whaley solemnly swear that I have carefu...   \n",
       "2  43M\\r\\nI Mrs E Montgomery solemnly Swear that ...   \n",
       "3  No. 2324\\r\\nI do solemnly swear or affirm, in ...   \n",
       "4  August 24. 1865\\r\\nAPPLICATION AND CERTIFICATE...   \n",
       "\n",
       "                    transcription_text_relative_path from_time to_time  \\\n",
       "0   /32203/transcriptions/NMAAHC-007676813_00577.txt        \\N      \\N   \n",
       "1   /32796/transcriptions/NMAAHC-007676818_00567.txt        \\N      \\N   \n",
       "2  /32218/transcriptions/NMAAHC-007676815_00488-0...        \\N      \\N   \n",
       "3   /26149/transcriptions/NMAAHC-007677400_00375.txt        \\N      \\N   \n",
       "4   /27345/transcriptions/NMAAHC-007677378_00480.txt        \\N      \\N   \n",
       "\n",
       "   project_id       Category  Unnamed: 13  Unnamed: 14  \n",
       "0       32203  Oaths/Pardons          NaN          NaN  \n",
       "1       32796  Oaths/Pardons          NaN          NaN  \n",
       "2       32218  Oaths/Pardons          NaN          NaN  \n",
       "3       26149  Oaths/Pardons          NaN          NaN  \n",
       "4       27345  Oaths/Pardons          NaN          NaN  "
      ]
     },
     "execution_count": 3,
     "metadata": {},
     "output_type": "execute_result"
    }
   ],
   "source": [
    "data.head()"
   ]
  },
  {
   "cell_type": "code",
   "execution_count": 4,
   "id": "17fa6820",
   "metadata": {
    "execution": {
     "iopub.execute_input": "2022-06-02T09:55:19.211838Z",
     "iopub.status.busy": "2022-06-02T09:55:19.211136Z",
     "iopub.status.idle": "2022-06-02T09:55:19.218248Z",
     "shell.execute_reply": "2022-06-02T09:55:19.217587Z"
    },
    "papermill": {
     "duration": 0.03072,
     "end_time": "2022-06-02T09:55:19.220109",
     "exception": false,
     "start_time": "2022-06-02T09:55:19.189389",
     "status": "completed"
    },
    "tags": []
   },
   "outputs": [],
   "source": [
    "t0=data[\"transcription_text\"][0]"
   ]
  },
  {
   "cell_type": "code",
   "execution_count": 5,
   "id": "11b5c49f",
   "metadata": {
    "execution": {
     "iopub.execute_input": "2022-06-02T09:55:19.262210Z",
     "iopub.status.busy": "2022-06-02T09:55:19.261572Z",
     "iopub.status.idle": "2022-06-02T09:55:19.265024Z",
     "shell.execute_reply": "2022-06-02T09:55:19.264525Z"
    },
    "papermill": {
     "duration": 0.026417,
     "end_time": "2022-06-02T09:55:19.266447",
     "exception": false,
     "start_time": "2022-06-02T09:55:19.240030",
     "status": "completed"
    },
    "tags": []
   },
   "outputs": [],
   "source": [
    "t1=data[\"transcription_text\"][1]"
   ]
  },
  {
   "cell_type": "code",
   "execution_count": 6,
   "id": "046aeb03",
   "metadata": {
    "execution": {
     "iopub.execute_input": "2022-06-02T09:55:19.308177Z",
     "iopub.status.busy": "2022-06-02T09:55:19.307580Z",
     "iopub.status.idle": "2022-06-02T09:55:19.311385Z",
     "shell.execute_reply": "2022-06-02T09:55:19.310612Z"
    },
    "papermill": {
     "duration": 0.02664,
     "end_time": "2022-06-02T09:55:19.313535",
     "exception": false,
     "start_time": "2022-06-02T09:55:19.286895",
     "status": "completed"
    },
    "tags": []
   },
   "outputs": [],
   "source": [
    "t2=data[\"transcription_text\"][2]"
   ]
  },
  {
   "cell_type": "markdown",
   "id": "1afa9028",
   "metadata": {
    "papermill": {
     "duration": 0.019635,
     "end_time": "2022-06-02T09:55:19.353442",
     "exception": false,
     "start_time": "2022-06-02T09:55:19.333807",
     "status": "completed"
    },
    "tags": []
   },
   "source": [
    "# Preprocessing"
   ]
  },
  {
   "cell_type": "code",
   "execution_count": 7,
   "id": "bb574bc2",
   "metadata": {
    "execution": {
     "iopub.execute_input": "2022-06-02T09:55:19.394637Z",
     "iopub.status.busy": "2022-06-02T09:55:19.394106Z",
     "iopub.status.idle": "2022-06-02T09:55:19.398385Z",
     "shell.execute_reply": "2022-06-02T09:55:19.397736Z"
    },
    "papermill": {
     "duration": 0.027004,
     "end_time": "2022-06-02T09:55:19.400345",
     "exception": false,
     "start_time": "2022-06-02T09:55:19.373341",
     "status": "completed"
    },
    "tags": []
   },
   "outputs": [],
   "source": [
    "text=data[\"transcription_text\"]"
   ]
  },
  {
   "cell_type": "code",
   "execution_count": 8,
   "id": "a208dde2",
   "metadata": {
    "execution": {
     "iopub.execute_input": "2022-06-02T09:55:19.442737Z",
     "iopub.status.busy": "2022-06-02T09:55:19.441749Z",
     "iopub.status.idle": "2022-06-02T09:55:19.453862Z",
     "shell.execute_reply": "2022-06-02T09:55:19.453175Z"
    },
    "papermill": {
     "duration": 0.035089,
     "end_time": "2022-06-02T09:55:19.455707",
     "exception": false,
     "start_time": "2022-06-02T09:55:19.420618",
     "status": "completed"
    },
    "tags": []
   },
   "outputs": [],
   "source": [
    "import string\n",
    "from nltk.corpus import stopwords\n",
    "stop_words = set(stopwords.words('english'))\n",
    "punctuation = string.punctuation\n",
    "from nltk.stem.snowball import SnowballStemmer\n",
    "stemmer = SnowballStemmer(language=\"english\")\n",
    "from nltk.tokenize import word_tokenize\n",
    "from nltk.stem import WordNetLemmatizer\n",
    "lemmatizer = WordNetLemmatizer()"
   ]
  },
  {
   "cell_type": "code",
   "execution_count": 9,
   "id": "3fc31a69",
   "metadata": {
    "execution": {
     "iopub.execute_input": "2022-06-02T09:55:19.496758Z",
     "iopub.status.busy": "2022-06-02T09:55:19.496003Z",
     "iopub.status.idle": "2022-06-02T09:55:19.499852Z",
     "shell.execute_reply": "2022-06-02T09:55:19.499113Z"
    },
    "papermill": {
     "duration": 0.026387,
     "end_time": "2022-06-02T09:55:19.501870",
     "exception": false,
     "start_time": "2022-06-02T09:55:19.475483",
     "status": "completed"
    },
    "tags": []
   },
   "outputs": [],
   "source": [
    "stop_words.remove(\"of\")"
   ]
  },
  {
   "cell_type": "code",
   "execution_count": 10,
   "id": "1237ceff",
   "metadata": {
    "execution": {
     "iopub.execute_input": "2022-06-02T09:55:19.544517Z",
     "iopub.status.busy": "2022-06-02T09:55:19.543522Z",
     "iopub.status.idle": "2022-06-02T09:55:19.548580Z",
     "shell.execute_reply": "2022-06-02T09:55:19.548072Z"
    },
    "papermill": {
     "duration": 0.028009,
     "end_time": "2022-06-02T09:55:19.550634",
     "exception": false,
     "start_time": "2022-06-02T09:55:19.522625",
     "status": "completed"
    },
    "tags": []
   },
   "outputs": [
    {
     "data": {
      "text/plain": [
       "'!\"#$%&\\'()*+,-./:;<=>?@[\\\\]^_`{|}~'"
      ]
     },
     "execution_count": 10,
     "metadata": {},
     "output_type": "execute_result"
    }
   ],
   "source": [
    "punctuation"
   ]
  },
  {
   "cell_type": "code",
   "execution_count": 11,
   "id": "5bcd0e30",
   "metadata": {
    "execution": {
     "iopub.execute_input": "2022-06-02T09:55:19.592581Z",
     "iopub.status.busy": "2022-06-02T09:55:19.591683Z",
     "iopub.status.idle": "2022-06-02T09:55:19.596796Z",
     "shell.execute_reply": "2022-06-02T09:55:19.596016Z"
    },
    "papermill": {
     "duration": 0.027815,
     "end_time": "2022-06-02T09:55:19.598630",
     "exception": false,
     "start_time": "2022-06-02T09:55:19.570815",
     "status": "completed"
    },
    "tags": []
   },
   "outputs": [],
   "source": [
    "def process(s):\n",
    "    for p in punctuation:\n",
    "        s = s.replace(p, '')\n",
    "    s = word_tokenize(s)\n",
    "    s = [w for w in s if not w in stop_words] #optional\n",
    "    s = [lemmatizer.lemmatize(word) for word in s]\n",
    "    return s"
   ]
  },
  {
   "cell_type": "code",
   "execution_count": 12,
   "id": "c172ab85",
   "metadata": {
    "execution": {
     "iopub.execute_input": "2022-06-02T09:55:19.640914Z",
     "iopub.status.busy": "2022-06-02T09:55:19.639822Z",
     "iopub.status.idle": "2022-06-02T09:55:22.391997Z",
     "shell.execute_reply": "2022-06-02T09:55:22.391075Z"
    },
    "papermill": {
     "duration": 2.775458,
     "end_time": "2022-06-02T09:55:22.394148",
     "exception": false,
     "start_time": "2022-06-02T09:55:19.618690",
     "status": "completed"
    },
    "tags": []
   },
   "outputs": [
    {
     "name": "stderr",
     "output_type": "stream",
     "text": [
      "100%|██████████| 20/20 [00:02<00:00,  7.30it/s]\n"
     ]
    }
   ],
   "source": [
    "from tqdm import tqdm\n",
    "for i in tqdm(range(data.shape[0])):\n",
    "    text[i] = process(text[i])"
   ]
  },
  {
   "cell_type": "code",
   "execution_count": 13,
   "id": "379cca79",
   "metadata": {
    "execution": {
     "iopub.execute_input": "2022-06-02T09:55:22.463473Z",
     "iopub.status.busy": "2022-06-02T09:55:22.463050Z",
     "iopub.status.idle": "2022-06-02T09:55:22.474561Z",
     "shell.execute_reply": "2022-06-02T09:55:22.473705Z"
    },
    "papermill": {
     "duration": 0.048142,
     "end_time": "2022-06-02T09:55:22.476097",
     "exception": false,
     "start_time": "2022-06-02T09:55:22.427955",
     "status": "completed"
    },
    "tags": []
   },
   "outputs": [
    {
     "name": "stderr",
     "output_type": "stream",
     "text": [
      "100%|██████████| 20/20 [00:00<00:00, 3872.86it/s]\n"
     ]
    }
   ],
   "source": [
    "for i in tqdm(range(data.shape[0])):\n",
    "    text[i] = \" \".join(text[i])"
   ]
  },
  {
   "cell_type": "code",
   "execution_count": 14,
   "id": "d07bc787",
   "metadata": {
    "execution": {
     "iopub.execute_input": "2022-06-02T09:55:22.518397Z",
     "iopub.status.busy": "2022-06-02T09:55:22.517972Z",
     "iopub.status.idle": "2022-06-02T09:55:22.524883Z",
     "shell.execute_reply": "2022-06-02T09:55:22.524326Z"
    },
    "papermill": {
     "duration": 0.029921,
     "end_time": "2022-06-02T09:55:22.526383",
     "exception": false,
     "start_time": "2022-06-02T09:55:22.496462",
     "status": "completed"
    },
    "tags": []
   },
   "outputs": [
    {
     "data": {
      "text/plain": [
       "0     8 E encl I Anne H Elliott widow solemnly swear...\n",
       "1     I E C Whaley solemnly swear I carefully read A...\n",
       "2     43M I Mrs E Montgomery solemnly Swear I carefu...\n",
       "3     No 2324 I solemnly swear affirm presence of Al...\n",
       "4     August 24 1865 APPLICATION AND CERTIFICATE OF ...\n",
       "5     I Wm Whaley solemnly swear I carefully read Am...\n",
       "6     I J F Steinmeyer solemnly swear I carefully re...\n",
       "7     I Joseph Edings solemnly swear I carefully rea...\n",
       "8     Vicksburg Miss July 22 1867 Thomas Andrew Oath...\n",
       "9     455 RETAINED COPY I Jacob Schroder solemnly sw...\n",
       "10    image eagle AMNESTY OATH Mississippi City Miss...\n",
       "11    OATH I P P Bergevin solemnly swear I never vol...\n",
       "12                                         Frank Conner\n",
       "13    I Caroline Belitzer solemnly Swear I carefully...\n",
       "14    Triplicate AMNESTY OATH Pass Christian Miss Au...\n",
       "15    Retained Copy HEADQUARTERS UNITED STATES FORCE...\n",
       "16                                      Robert A Wilson\n",
       "17    APPLICATION AND CERTIFICATE OF James D Kendall...\n",
       "18    underlined Oath underlined Aug 2 7 66 Thos Gib...\n",
       "19    image eagle AMNESTY OATH Miss City Miss Aug 31...\n",
       "Name: transcription_text, dtype: object"
      ]
     },
     "execution_count": 14,
     "metadata": {},
     "output_type": "execute_result"
    }
   ],
   "source": [
    "text"
   ]
  },
  {
   "cell_type": "code",
   "execution_count": 15,
   "id": "703618b1",
   "metadata": {
    "execution": {
     "iopub.execute_input": "2022-06-02T09:55:22.568252Z",
     "iopub.status.busy": "2022-06-02T09:55:22.567680Z",
     "iopub.status.idle": "2022-06-02T09:55:22.572826Z",
     "shell.execute_reply": "2022-06-02T09:55:22.571540Z"
    },
    "papermill": {
     "duration": 0.028091,
     "end_time": "2022-06-02T09:55:22.574837",
     "exception": false,
     "start_time": "2022-06-02T09:55:22.546746",
     "status": "completed"
    },
    "tags": []
   },
   "outputs": [
    {
     "data": {
      "text/plain": [
       "\"8 E encl\\r\\n\\r\\nI Anne H. Elliott, widow do solemnly swear that I have read the Amnesty proclamation issued by Andrew Johnson President of the United States of America on May 29th 1865 and that I am not excepted from the benefits of that proclamation by any one of the fourteen exceptions therein made. Sworn to and subscribed before me at this 27th day of Novb 1865\\r\\nS. Wilde Durson\\r\\nMagt, DD\\r\\n\\r\\nA.H.E. [[image: 2 cent revenue stamp]] \\r\\n\\r\\nAnne H Elliott\\r\\n\\r\\nUnited States of America\\r\\nI Anne H Elliott, of the District of Beaufort, State of South Carolina do solemnly swear in the presence of Almighty God that I will henceforth faithfully support and defend the Constitution of the United States and the Union of the States thereunder, and that I will in like manner abide by and faithfully support all laws and proclamations which have been made during the existing Rebellion with reference to the Emancipation of Slaves- So help me God. \\r\\nSworn to & subscribed before me at this 27th day of Novbr '1865\\r\\n\\r\\nMagistrate\\r\\nS. Wilde Durson A.H.E. A.H.E. A.H.E. [[images: 3 revenue stamps]]\\r\\n[[Anne]] H. Elliott\\r\\n\\r\\nThe above named has fair complexion grey hair Hazel eyes is 5 feet 3 inches high, aged 63 years\\r\\nby profession a planters widow.\\r\\nS. Wilde Durson\\r\\nMagtr   \""
      ]
     },
     "execution_count": 15,
     "metadata": {},
     "output_type": "execute_result"
    }
   ],
   "source": [
    "t0"
   ]
  },
  {
   "cell_type": "code",
   "execution_count": 16,
   "id": "8386eb80",
   "metadata": {
    "execution": {
     "iopub.execute_input": "2022-06-02T09:55:22.618764Z",
     "iopub.status.busy": "2022-06-02T09:55:22.618202Z",
     "iopub.status.idle": "2022-06-02T09:55:22.623957Z",
     "shell.execute_reply": "2022-06-02T09:55:22.623304Z"
    },
    "papermill": {
     "duration": 0.029233,
     "end_time": "2022-06-02T09:55:22.625426",
     "exception": false,
     "start_time": "2022-06-02T09:55:22.596193",
     "status": "completed"
    },
    "tags": []
   },
   "outputs": [
    {
     "data": {
      "text/plain": [
       "'8 E encl I Anne H Elliott widow solemnly swear I read Amnesty proclamation issued Andrew Johnson President of United States of America May 29th 1865 I excepted benefit of proclamation one of fourteen exception therein made Sworn subscribed 27th day of Novb 1865 S Wilde Durson Magt DD AHE image 2 cent revenue stamp Anne H Elliott United States of America I Anne H Elliott of District of Beaufort State of South Carolina solemnly swear presence of Almighty God I henceforth faithfully support defend Constitution of United States Union of States thereunder I like manner abide faithfully support law proclamation made existing Rebellion reference Emancipation of Slaves So help God Sworn subscribed 27th day of Novbr 1865 Magistrate S Wilde Durson AHE AHE AHE image 3 revenue stamp Anne H Elliott The named fair complexion grey hair Hazel eye 5 foot 3 inch high aged 63 year profession planter widow S Wilde Durson Magtr'"
      ]
     },
     "execution_count": 16,
     "metadata": {},
     "output_type": "execute_result"
    }
   ],
   "source": [
    "text[0]"
   ]
  },
  {
   "cell_type": "markdown",
   "id": "695f7b9d",
   "metadata": {
    "papermill": {
     "duration": 0.020224,
     "end_time": "2022-06-02T09:55:22.666501",
     "exception": false,
     "start_time": "2022-06-02T09:55:22.646277",
     "status": "completed"
    },
    "tags": []
   },
   "source": [
    "*extract transcription_text from the dataset*"
   ]
  },
  {
   "cell_type": "code",
   "execution_count": 17,
   "id": "2e2f9950",
   "metadata": {
    "execution": {
     "iopub.execute_input": "2022-06-02T09:55:22.709759Z",
     "iopub.status.busy": "2022-06-02T09:55:22.709192Z",
     "iopub.status.idle": "2022-06-02T09:55:22.715235Z",
     "shell.execute_reply": "2022-06-02T09:55:22.714145Z"
    },
    "papermill": {
     "duration": 0.030133,
     "end_time": "2022-06-02T09:55:22.716901",
     "exception": false,
     "start_time": "2022-06-02T09:55:22.686768",
     "status": "completed"
    },
    "tags": []
   },
   "outputs": [
    {
     "data": {
      "text/plain": [
       "0    8 E encl I Anne H Elliott widow solemnly swear...\n",
       "1    I E C Whaley solemnly swear I carefully read A...\n",
       "2    43M I Mrs E Montgomery solemnly Swear I carefu...\n",
       "3    No 2324 I solemnly swear affirm presence of Al...\n",
       "4    August 24 1865 APPLICATION AND CERTIFICATE OF ...\n",
       "Name: transcription_text, dtype: object"
      ]
     },
     "execution_count": 17,
     "metadata": {},
     "output_type": "execute_result"
    }
   ],
   "source": [
    "text.head()"
   ]
  },
  {
   "cell_type": "markdown",
   "id": "9290c616",
   "metadata": {
    "papermill": {
     "duration": 0.020867,
     "end_time": "2022-06-02T09:55:22.759310",
     "exception": false,
     "start_time": "2022-06-02T09:55:22.738443",
     "status": "completed"
    },
    "tags": []
   },
   "source": [
    "****"
   ]
  },
  {
   "cell_type": "markdown",
   "id": "0b5f278c",
   "metadata": {
    "papermill": {
     "duration": 0.020686,
     "end_time": "2022-06-02T09:55:22.800997",
     "exception": false,
     "start_time": "2022-06-02T09:55:22.780311",
     "status": "completed"
    },
    "tags": []
   },
   "source": [
    "# Spacy"
   ]
  },
  {
   "cell_type": "markdown",
   "id": "62fbcb7d",
   "metadata": {
    "papermill": {
     "duration": 0.02116,
     "end_time": "2022-06-02T09:55:22.843154",
     "exception": false,
     "start_time": "2022-06-02T09:55:22.821994",
     "status": "completed"
    },
    "tags": []
   },
   "source": [
    "*SpaCy’s named entity recognition has been trained on the OntoNotes 5 corpus and it supports the following entity types:*"
   ]
  },
  {
   "cell_type": "markdown",
   "id": "909e0ead",
   "metadata": {
    "papermill": {
     "duration": 0.020464,
     "end_time": "2022-06-02T09:55:22.884368",
     "exception": false,
     "start_time": "2022-06-02T09:55:22.863904",
     "status": "completed"
    },
    "tags": []
   },
   "source": [
    "![](https://miro.medium.com/max/1400/1*qQggIPMugLcy-ndJ8X_aAA.png)"
   ]
  },
  {
   "cell_type": "markdown",
   "id": "e0b40cfc",
   "metadata": {
    "papermill": {
     "duration": 0.020321,
     "end_time": "2022-06-02T09:55:22.925668",
     "exception": false,
     "start_time": "2022-06-02T09:55:22.905347",
     "status": "completed"
    },
    "tags": []
   },
   "source": [
    "importing the necessary libraries"
   ]
  },
  {
   "cell_type": "code",
   "execution_count": 18,
   "id": "d2bf856c",
   "metadata": {
    "execution": {
     "iopub.execute_input": "2022-06-02T09:55:22.968969Z",
     "iopub.status.busy": "2022-06-02T09:55:22.968459Z",
     "iopub.status.idle": "2022-06-02T09:55:29.078404Z",
     "shell.execute_reply": "2022-06-02T09:55:29.076918Z"
    },
    "papermill": {
     "duration": 6.134128,
     "end_time": "2022-06-02T09:55:29.080712",
     "exception": false,
     "start_time": "2022-06-02T09:55:22.946584",
     "status": "completed"
    },
    "tags": []
   },
   "outputs": [],
   "source": [
    "import spacy\n",
    "from spacy import displacy\n",
    "from collections import Counter\n",
    "import en_core_web_sm\n",
    "nlp = en_core_web_sm.load()"
   ]
  },
  {
   "cell_type": "markdown",
   "id": "d7b44dca",
   "metadata": {
    "papermill": {
     "duration": 0.020261,
     "end_time": "2022-06-02T09:55:29.121776",
     "exception": false,
     "start_time": "2022-06-02T09:55:29.101515",
     "status": "completed"
    },
    "tags": []
   },
   "source": [
    "**trying to extract all useful information about the entity in text  from Doc(nlp(text) like : the entity | the lemmatization of the entity | the label of the entity and the explanation of the label**"
   ]
  },
  {
   "cell_type": "code",
   "execution_count": 19,
   "id": "3401cfdd",
   "metadata": {
    "execution": {
     "iopub.execute_input": "2022-06-02T09:55:29.167220Z",
     "iopub.status.busy": "2022-06-02T09:55:29.166550Z",
     "iopub.status.idle": "2022-06-02T09:55:29.172476Z",
     "shell.execute_reply": "2022-06-02T09:55:29.171627Z"
    },
    "papermill": {
     "duration": 0.030389,
     "end_time": "2022-06-02T09:55:29.174131",
     "exception": false,
     "start_time": "2022-06-02T09:55:29.143742",
     "status": "completed"
    },
    "tags": []
   },
   "outputs": [],
   "source": [
    "L1=[]\n",
    "def NER (txt):\n",
    "    for i in range(20):\n",
    "        nlp_text=nlp(txt[i])\n",
    "        L1.append([(word.text, word.start_char, word.end_char, word.label_,spacy.explain(word.label_)) for word in nlp_text.ents])"
   ]
  },
  {
   "cell_type": "code",
   "execution_count": 20,
   "id": "5650d2fa",
   "metadata": {
    "execution": {
     "iopub.execute_input": "2022-06-02T09:55:29.219304Z",
     "iopub.status.busy": "2022-06-02T09:55:29.218234Z",
     "iopub.status.idle": "2022-06-02T09:55:29.225164Z",
     "shell.execute_reply": "2022-06-02T09:55:29.224062Z"
    },
    "papermill": {
     "duration": 0.031511,
     "end_time": "2022-06-02T09:55:29.226976",
     "exception": false,
     "start_time": "2022-06-02T09:55:29.195465",
     "status": "completed"
    },
    "tags": []
   },
   "outputs": [],
   "source": [
    "L2=[]\n",
    "def NER1 (txt):\n",
    "    for i in range(20):\n",
    "        nlp_text=nlp(txt[i])\n",
    "        L2.append([(word, word.ent_iob_, word.ent_type_, word.pos) for word in nlp_text])"
   ]
  },
  {
   "cell_type": "code",
   "execution_count": 21,
   "id": "f93359f3",
   "metadata": {
    "execution": {
     "iopub.execute_input": "2022-06-02T09:55:29.271325Z",
     "iopub.status.busy": "2022-06-02T09:55:29.270748Z",
     "iopub.status.idle": "2022-06-02T09:55:30.158130Z",
     "shell.execute_reply": "2022-06-02T09:55:30.157156Z"
    },
    "papermill": {
     "duration": 0.911923,
     "end_time": "2022-06-02T09:55:30.160027",
     "exception": false,
     "start_time": "2022-06-02T09:55:29.248104",
     "status": "completed"
    },
    "tags": []
   },
   "outputs": [],
   "source": [
    "NER(text)\n",
    "NER1(text)"
   ]
  },
  {
   "cell_type": "code",
   "execution_count": 22,
   "id": "789ca3bd",
   "metadata": {
    "execution": {
     "iopub.execute_input": "2022-06-02T09:55:30.205272Z",
     "iopub.status.busy": "2022-06-02T09:55:30.204657Z",
     "iopub.status.idle": "2022-06-02T09:55:30.211950Z",
     "shell.execute_reply": "2022-06-02T09:55:30.210949Z"
    },
    "papermill": {
     "duration": 0.032045,
     "end_time": "2022-06-02T09:55:30.213820",
     "exception": false,
     "start_time": "2022-06-02T09:55:30.181775",
     "status": "completed"
    },
    "tags": []
   },
   "outputs": [
    {
     "data": {
      "text/plain": [
       "[('Anne H Elliott', 11, 25, 'PERSON', 'People, including fictional'),\n",
       " ('Amnesty', 54, 61, 'ORG', 'Companies, agencies, institutions, etc.'),\n",
       " ('Andrew Johnson', 82, 96, 'PERSON', 'People, including fictional'),\n",
       " ('United States of America', 110, 134, 'GPE', 'Countries, cities, states'),\n",
       " ('May 29th 1865', 135, 148, 'DATE', 'Absolute or relative dates or periods')]"
      ]
     },
     "execution_count": 22,
     "metadata": {},
     "output_type": "execute_result"
    }
   ],
   "source": [
    "L1[0][:5]"
   ]
  },
  {
   "cell_type": "markdown",
   "id": "2251f303",
   "metadata": {
    "papermill": {
     "duration": 0.035153,
     "end_time": "2022-06-02T09:55:30.279950",
     "exception": false,
     "start_time": "2022-06-02T09:55:30.244797",
     "status": "completed"
    },
    "tags": []
   },
   "source": [
    "**structered the extracted information in a dataframe for using it in the next stage**"
   ]
  },
  {
   "cell_type": "code",
   "execution_count": 23,
   "id": "43b93b10",
   "metadata": {
    "execution": {
     "iopub.execute_input": "2022-06-02T09:55:30.352622Z",
     "iopub.status.busy": "2022-06-02T09:55:30.352063Z",
     "iopub.status.idle": "2022-06-02T09:55:30.371856Z",
     "shell.execute_reply": "2022-06-02T09:55:30.371200Z"
    },
    "papermill": {
     "duration": 0.058524,
     "end_time": "2022-06-02T09:55:30.373872",
     "exception": false,
     "start_time": "2022-06-02T09:55:30.315348",
     "status": "completed"
    },
    "tags": []
   },
   "outputs": [
    {
     "data": {
      "text/html": [
       "<div>\n",
       "<style scoped>\n",
       "    .dataframe tbody tr th:only-of-type {\n",
       "        vertical-align: middle;\n",
       "    }\n",
       "\n",
       "    .dataframe tbody tr th {\n",
       "        vertical-align: top;\n",
       "    }\n",
       "\n",
       "    .dataframe thead th {\n",
       "        text-align: right;\n",
       "    }\n",
       "</style>\n",
       "<table border=\"1\" class=\"dataframe\">\n",
       "  <thead>\n",
       "    <tr style=\"text-align: right;\">\n",
       "      <th></th>\n",
       "      <th>entities</th>\n",
       "      <th>start_char</th>\n",
       "      <th>end_char</th>\n",
       "      <th>label</th>\n",
       "      <th>explain</th>\n",
       "      <th>frequency</th>\n",
       "    </tr>\n",
       "  </thead>\n",
       "  <tbody>\n",
       "    <tr>\n",
       "      <th>0</th>\n",
       "      <td>Anne H Elliott</td>\n",
       "      <td>11</td>\n",
       "      <td>25</td>\n",
       "      <td>PERSON</td>\n",
       "      <td>People, including fictional</td>\n",
       "      <td></td>\n",
       "    </tr>\n",
       "    <tr>\n",
       "      <th>1</th>\n",
       "      <td>Amnesty</td>\n",
       "      <td>54</td>\n",
       "      <td>61</td>\n",
       "      <td>ORG</td>\n",
       "      <td>Companies, agencies, institutions, etc.</td>\n",
       "      <td></td>\n",
       "    </tr>\n",
       "    <tr>\n",
       "      <th>2</th>\n",
       "      <td>Andrew Johnson</td>\n",
       "      <td>82</td>\n",
       "      <td>96</td>\n",
       "      <td>PERSON</td>\n",
       "      <td>People, including fictional</td>\n",
       "      <td></td>\n",
       "    </tr>\n",
       "    <tr>\n",
       "      <th>3</th>\n",
       "      <td>United States of America</td>\n",
       "      <td>110</td>\n",
       "      <td>134</td>\n",
       "      <td>GPE</td>\n",
       "      <td>Countries, cities, states</td>\n",
       "      <td></td>\n",
       "    </tr>\n",
       "    <tr>\n",
       "      <th>4</th>\n",
       "      <td>May 29th 1865</td>\n",
       "      <td>135</td>\n",
       "      <td>148</td>\n",
       "      <td>DATE</td>\n",
       "      <td>Absolute or relative dates or periods</td>\n",
       "      <td></td>\n",
       "    </tr>\n",
       "  </tbody>\n",
       "</table>\n",
       "</div>"
      ],
      "text/plain": [
       "                   entities  start_char  end_char   label  \\\n",
       "0            Anne H Elliott          11        25  PERSON   \n",
       "1                   Amnesty          54        61     ORG   \n",
       "2            Andrew Johnson          82        96  PERSON   \n",
       "3  United States of America         110       134     GPE   \n",
       "4             May 29th 1865         135       148    DATE   \n",
       "\n",
       "                                   explain frequency  \n",
       "0              People, including fictional            \n",
       "1  Companies, agencies, institutions, etc.            \n",
       "2              People, including fictional            \n",
       "3                Countries, cities, states            \n",
       "4    Absolute or relative dates or periods            "
      ]
     },
     "execution_count": 23,
     "metadata": {},
     "output_type": "execute_result"
    }
   ],
   "source": [
    "l0=[]\n",
    "l1=[]\n",
    "l2=[]\n",
    "l3=[]\n",
    "l4=[]\n",
    "l5=[]\n",
    "for i in range(len(L1)):\n",
    "    for j in range(len(L1[i])):\n",
    "        l0.append(L1[i][j][0])\n",
    "        l2.append(L1[i][j][1])\n",
    "        l3.append(L1[i][j][2])\n",
    "        l4.append(L1[i][j][3])\n",
    "        l5.append(L1[i][j][4])\n",
    "        \n",
    "df1=pd.DataFrame({\"entities\":l0,\"start_char\":l2,\"end_char\":l3 ,\"label\": l4, \"explain\": l5, \"frequency\":\"\"})\n",
    "df1.head()\n",
    "   "
   ]
  },
  {
   "cell_type": "code",
   "execution_count": 24,
   "id": "0d215d23",
   "metadata": {
    "execution": {
     "iopub.execute_input": "2022-06-02T09:55:30.447965Z",
     "iopub.status.busy": "2022-06-02T09:55:30.447395Z",
     "iopub.status.idle": "2022-06-02T09:55:30.453302Z",
     "shell.execute_reply": "2022-06-02T09:55:30.452613Z"
    },
    "papermill": {
     "duration": 0.045464,
     "end_time": "2022-06-02T09:55:30.455131",
     "exception": false,
     "start_time": "2022-06-02T09:55:30.409667",
     "status": "completed"
    },
    "tags": []
   },
   "outputs": [
    {
     "data": {
      "text/plain": [
       "(268, 6)"
      ]
     },
     "execution_count": 24,
     "metadata": {},
     "output_type": "execute_result"
    }
   ],
   "source": [
    "df1.shape"
   ]
  },
  {
   "cell_type": "markdown",
   "id": "d82b75b5",
   "metadata": {
    "papermill": {
     "duration": 0.035409,
     "end_time": "2022-06-02T09:55:30.525933",
     "exception": false,
     "start_time": "2022-06-02T09:55:30.490524",
     "status": "completed"
    },
    "tags": []
   },
   "source": [
    "**adding the frequency of each entities in the text maybe it may help in improving the model later**"
   ]
  },
  {
   "cell_type": "code",
   "execution_count": 25,
   "id": "294fdf96",
   "metadata": {
    "execution": {
     "iopub.execute_input": "2022-06-02T09:55:30.598508Z",
     "iopub.status.busy": "2022-06-02T09:55:30.598161Z",
     "iopub.status.idle": "2022-06-02T09:55:30.604242Z",
     "shell.execute_reply": "2022-06-02T09:55:30.603657Z"
    },
    "papermill": {
     "duration": 0.044305,
     "end_time": "2022-06-02T09:55:30.606121",
     "exception": false,
     "start_time": "2022-06-02T09:55:30.561816",
     "status": "completed"
    },
    "tags": []
   },
   "outputs": [
    {
     "data": {
      "text/plain": [
       "Counter({'Anne H Elliott': 1,\n",
       "         'Amnesty': 1,\n",
       "         'Andrew Johnson': 1,\n",
       "         'United States of America': 1,\n",
       "         'May 29th 1865': 1,\n",
       "         'one': 1,\n",
       "         'fourteen': 1,\n",
       "         'Sworn': 1,\n",
       "         '27th day': 1,\n",
       "         '1865': 1})"
      ]
     },
     "execution_count": 25,
     "metadata": {},
     "output_type": "execute_result"
    }
   ],
   "source": [
    "Counter(df1[\"entities\"][:10])"
   ]
  },
  {
   "cell_type": "code",
   "execution_count": 26,
   "id": "440a6991",
   "metadata": {
    "execution": {
     "iopub.execute_input": "2022-06-02T09:55:30.678954Z",
     "iopub.status.busy": "2022-06-02T09:55:30.678376Z",
     "iopub.status.idle": "2022-06-02T09:55:30.682254Z",
     "shell.execute_reply": "2022-06-02T09:55:30.681675Z"
    },
    "papermill": {
     "duration": 0.042371,
     "end_time": "2022-06-02T09:55:30.684036",
     "exception": false,
     "start_time": "2022-06-02T09:55:30.641665",
     "status": "completed"
    },
    "tags": []
   },
   "outputs": [],
   "source": [
    "dict=Counter(df1[\"entities\"])"
   ]
  },
  {
   "cell_type": "code",
   "execution_count": 27,
   "id": "5127b9f3",
   "metadata": {
    "execution": {
     "iopub.execute_input": "2022-06-02T09:55:30.757631Z",
     "iopub.status.busy": "2022-06-02T09:55:30.757259Z",
     "iopub.status.idle": "2022-06-02T09:55:30.845750Z",
     "shell.execute_reply": "2022-06-02T09:55:30.844898Z"
    },
    "papermill": {
     "duration": 0.127823,
     "end_time": "2022-06-02T09:55:30.848259",
     "exception": false,
     "start_time": "2022-06-02T09:55:30.720436",
     "status": "completed"
    },
    "tags": []
   },
   "outputs": [],
   "source": [
    "for i in range(df1.shape[0]):\n",
    "    df1[\"frequency\"][i]=dict[df1[\"entities\"].loc[i]]"
   ]
  },
  {
   "cell_type": "markdown",
   "id": "ff1dc164",
   "metadata": {
    "papermill": {
     "duration": 0.035219,
     "end_time": "2022-06-02T09:55:30.918980",
     "exception": false,
     "start_time": "2022-06-02T09:55:30.883761",
     "status": "completed"
    },
    "tags": []
   },
   "source": [
    "************"
   ]
  },
  {
   "cell_type": "markdown",
   "id": "dedd0b4b",
   "metadata": {
    "papermill": {
     "duration": 0.034957,
     "end_time": "2022-06-02T09:55:30.988985",
     "exception": false,
     "start_time": "2022-06-02T09:55:30.954028",
     "status": "completed"
    },
    "tags": []
   },
   "source": [
    "****"
   ]
  },
  {
   "cell_type": "code",
   "execution_count": 28,
   "id": "6e6b5dba",
   "metadata": {
    "execution": {
     "iopub.execute_input": "2022-06-02T09:55:31.059727Z",
     "iopub.status.busy": "2022-06-02T09:55:31.059390Z",
     "iopub.status.idle": "2022-06-02T09:55:31.077051Z",
     "shell.execute_reply": "2022-06-02T09:55:31.076423Z"
    },
    "papermill": {
     "duration": 0.055407,
     "end_time": "2022-06-02T09:55:31.079065",
     "exception": false,
     "start_time": "2022-06-02T09:55:31.023658",
     "status": "completed"
    },
    "tags": []
   },
   "outputs": [
    {
     "data": {
      "text/html": [
       "<div>\n",
       "<style scoped>\n",
       "    .dataframe tbody tr th:only-of-type {\n",
       "        vertical-align: middle;\n",
       "    }\n",
       "\n",
       "    .dataframe tbody tr th {\n",
       "        vertical-align: top;\n",
       "    }\n",
       "\n",
       "    .dataframe thead th {\n",
       "        text-align: right;\n",
       "    }\n",
       "</style>\n",
       "<table border=\"1\" class=\"dataframe\">\n",
       "  <thead>\n",
       "    <tr style=\"text-align: right;\">\n",
       "      <th></th>\n",
       "      <th>entities</th>\n",
       "      <th>start_char</th>\n",
       "      <th>end_char</th>\n",
       "      <th>label</th>\n",
       "      <th>explain</th>\n",
       "      <th>frequency</th>\n",
       "    </tr>\n",
       "  </thead>\n",
       "  <tbody>\n",
       "    <tr>\n",
       "      <th>50</th>\n",
       "      <td>43</td>\n",
       "      <td>0</td>\n",
       "      <td>2</td>\n",
       "      <td>CARDINAL</td>\n",
       "      <td>Numerals that do not fall under another type</td>\n",
       "      <td>1</td>\n",
       "    </tr>\n",
       "    <tr>\n",
       "      <th>51</th>\n",
       "      <td>Amnesty Proclamation</td>\n",
       "      <td>55</td>\n",
       "      <td>75</td>\n",
       "      <td>ORG</td>\n",
       "      <td>Companies, agencies, institutions, etc.</td>\n",
       "      <td>7</td>\n",
       "    </tr>\n",
       "    <tr>\n",
       "      <th>52</th>\n",
       "      <td>ANDREW</td>\n",
       "      <td>83</td>\n",
       "      <td>89</td>\n",
       "      <td>ORG</td>\n",
       "      <td>Companies, agencies, institutions, etc.</td>\n",
       "      <td>6</td>\n",
       "    </tr>\n",
       "    <tr>\n",
       "      <th>53</th>\n",
       "      <td>United States of America</td>\n",
       "      <td>111</td>\n",
       "      <td>135</td>\n",
       "      <td>GPE</td>\n",
       "      <td>Countries, cities, states</td>\n",
       "      <td>12</td>\n",
       "    </tr>\n",
       "    <tr>\n",
       "      <th>54</th>\n",
       "      <td>May 29th 1865</td>\n",
       "      <td>136</td>\n",
       "      <td>149</td>\n",
       "      <td>DATE</td>\n",
       "      <td>Absolute or relative dates or periods</td>\n",
       "      <td>8</td>\n",
       "    </tr>\n",
       "    <tr>\n",
       "      <th>...</th>\n",
       "      <td>...</td>\n",
       "      <td>...</td>\n",
       "      <td>...</td>\n",
       "      <td>...</td>\n",
       "      <td>...</td>\n",
       "      <td>...</td>\n",
       "    </tr>\n",
       "    <tr>\n",
       "      <th>263</th>\n",
       "      <td>H F Holwell of</td>\n",
       "      <td>711</td>\n",
       "      <td>725</td>\n",
       "      <td>ORG</td>\n",
       "      <td>Companies, agencies, institutions, etc.</td>\n",
       "      <td>1</td>\n",
       "    </tr>\n",
       "    <tr>\n",
       "      <th>264</th>\n",
       "      <td>31 day</td>\n",
       "      <td>747</td>\n",
       "      <td>753</td>\n",
       "      <td>DATE</td>\n",
       "      <td>Absolute or relative dates or periods</td>\n",
       "      <td>3</td>\n",
       "    </tr>\n",
       "    <tr>\n",
       "      <th>265</th>\n",
       "      <td>1865</td>\n",
       "      <td>761</td>\n",
       "      <td>765</td>\n",
       "      <td>DATE</td>\n",
       "      <td>Absolute or relative dates or periods</td>\n",
       "      <td>6</td>\n",
       "    </tr>\n",
       "    <tr>\n",
       "      <th>266</th>\n",
       "      <td>Frank E Miller</td>\n",
       "      <td>766</td>\n",
       "      <td>780</td>\n",
       "      <td>PERSON</td>\n",
       "      <td>People, including fictional</td>\n",
       "      <td>2</td>\n",
       "    </tr>\n",
       "    <tr>\n",
       "      <th>267</th>\n",
       "      <td>USCI Commanding DUPLICATE</td>\n",
       "      <td>792</td>\n",
       "      <td>817</td>\n",
       "      <td>ORG</td>\n",
       "      <td>Companies, agencies, institutions, etc.</td>\n",
       "      <td>1</td>\n",
       "    </tr>\n",
       "  </tbody>\n",
       "</table>\n",
       "<p>218 rows × 6 columns</p>\n",
       "</div>"
      ],
      "text/plain": [
       "                      entities  start_char  end_char     label  \\\n",
       "50                          43           0         2  CARDINAL   \n",
       "51        Amnesty Proclamation          55        75       ORG   \n",
       "52                      ANDREW          83        89       ORG   \n",
       "53    United States of America         111       135       GPE   \n",
       "54               May 29th 1865         136       149      DATE   \n",
       "..                         ...         ...       ...       ...   \n",
       "263             H F Holwell of         711       725       ORG   \n",
       "264                     31 day         747       753      DATE   \n",
       "265                       1865         761       765      DATE   \n",
       "266             Frank E Miller         766       780    PERSON   \n",
       "267  USCI Commanding DUPLICATE         792       817       ORG   \n",
       "\n",
       "                                          explain frequency  \n",
       "50   Numerals that do not fall under another type         1  \n",
       "51        Companies, agencies, institutions, etc.         7  \n",
       "52        Companies, agencies, institutions, etc.         6  \n",
       "53                      Countries, cities, states        12  \n",
       "54          Absolute or relative dates or periods         8  \n",
       "..                                            ...       ...  \n",
       "263       Companies, agencies, institutions, etc.         1  \n",
       "264         Absolute or relative dates or periods         3  \n",
       "265         Absolute or relative dates or periods         6  \n",
       "266                   People, including fictional         2  \n",
       "267       Companies, agencies, institutions, etc.         1  \n",
       "\n",
       "[218 rows x 6 columns]"
      ]
     },
     "execution_count": 28,
     "metadata": {},
     "output_type": "execute_result"
    }
   ],
   "source": [
    "df1[50:]"
   ]
  },
  {
   "cell_type": "code",
   "execution_count": 29,
   "id": "0d3fd198",
   "metadata": {
    "execution": {
     "iopub.execute_input": "2022-06-02T09:55:31.153261Z",
     "iopub.status.busy": "2022-06-02T09:55:31.152823Z",
     "iopub.status.idle": "2022-06-02T09:55:31.177217Z",
     "shell.execute_reply": "2022-06-02T09:55:31.176291Z"
    },
    "papermill": {
     "duration": 0.063837,
     "end_time": "2022-06-02T09:55:31.179113",
     "exception": false,
     "start_time": "2022-06-02T09:55:31.115276",
     "status": "completed"
    },
    "tags": []
   },
   "outputs": [],
   "source": [
    "Person=[]\n",
    "ORG=[]\n",
    "DATE=[]\n",
    "GPE=[]\n",
    "\n",
    "for i in range(df1.shape[0]):\n",
    "    if df1.label.loc[i]==\"PERSON\":\n",
    "        Person.append(df1.entities.loc[i]+\": PERSON\")\n",
    "    elif df1.label.loc[i]==\"ORG\" :\n",
    "        ORG.append(df1.entities.loc[i]+\": ORG\")\n",
    "    elif df1.label.loc[i]==\"DATE\" :\n",
    "        DATE.append(df1.entities.loc[i]+\": DATE\")\n",
    "    elif df1.label.loc[i]==\"GPE\" :\n",
    "        GPE.append(df1.entities.loc[i]+\": GPE\")"
   ]
  },
  {
   "cell_type": "code",
   "execution_count": 30,
   "id": "79c8c500",
   "metadata": {
    "execution": {
     "iopub.execute_input": "2022-06-02T09:55:31.224621Z",
     "iopub.status.busy": "2022-06-02T09:55:31.224209Z",
     "iopub.status.idle": "2022-06-02T09:55:31.231135Z",
     "shell.execute_reply": "2022-06-02T09:55:31.230269Z"
    },
    "papermill": {
     "duration": 0.031695,
     "end_time": "2022-06-02T09:55:31.232727",
     "exception": false,
     "start_time": "2022-06-02T09:55:31.201032",
     "status": "completed"
    },
    "tags": []
   },
   "outputs": [
    {
     "data": {
      "text/plain": [
       "['Anne H Elliott: PERSON',\n",
       " 'Andrew Johnson: PERSON',\n",
       " 'Anne H Elliott United States of America: PERSON',\n",
       " 'Anne H Elliott: PERSON',\n",
       " 'Hazel: PERSON',\n",
       " 'Whaley: PERSON',\n",
       " 'Andrew Johnson: PERSON',\n",
       " 'Strikethrough: PERSON',\n",
       " 'Oaths: PERSON',\n",
       " 'Oaths: PERSON',\n",
       " 'Hu Kennedy: PERSON',\n",
       " 'Amnesty Oath Administered At: PERSON',\n",
       " 'Hiserodt: PERSON',\n",
       " 'William Whaley Sworn: PERSON',\n",
       " 'William Whaley Sworn: PERSON',\n",
       " 'Brown: PERSON',\n",
       " 'Charleston Sc: PERSON',\n",
       " 'County: PERSON',\n",
       " 'JF Steinmeyer Sworn: PERSON',\n",
       " 'Charleston Sc: PERSON',\n",
       " 'Gry: PERSON',\n",
       " 'Oaths: PERSON',\n",
       " 'Joseph Edings: PERSON',\n",
       " 'Thomas Andrew Oath of: PERSON',\n",
       " 'Jacob Schroder: PERSON',\n",
       " 'Jacob Schroder Sworn: PERSON',\n",
       " 'Walhalla: PERSON',\n",
       " 'Walhalla: PERSON',\n",
       " 'Laborer: PERSON',\n",
       " 'Amnesty Oath: PERSON',\n",
       " 'Woodville Wilkinson: PERSON',\n",
       " 'Frank Conner: PERSON',\n",
       " 'Copy F K Field Capt: PERSON',\n",
       " 'Triplicate AMNESTY: PERSON',\n",
       " 'Hiram Smith: PERSON',\n",
       " 'Hiram Smith: PERSON',\n",
       " 'Pass Christian: PERSON',\n",
       " 'Captn: PERSON',\n",
       " 'Amnesty Oath: PERSON',\n",
       " 'Hiram Smith: PERSON',\n",
       " 'Captn Commanding TRIPLICATE: PERSON',\n",
       " 'Retained Copy: PERSON',\n",
       " 'Bolt Capt 54th: PERSON',\n",
       " 'Robert A: PERSON',\n",
       " 'James D Kendall Amnesty Oath Administered At Oacen Springs: PERSON',\n",
       " 'Gibbs Henderson: PERSON',\n",
       " 'City Miss: PERSON',\n",
       " 'Amnesty Oath: PERSON',\n",
       " 'Frank E Miller: PERSON']"
      ]
     },
     "execution_count": 30,
     "metadata": {},
     "output_type": "execute_result"
    }
   ],
   "source": [
    "Person"
   ]
  },
  {
   "cell_type": "code",
   "execution_count": 31,
   "id": "1e03e670",
   "metadata": {
    "execution": {
     "iopub.execute_input": "2022-06-02T09:55:31.276932Z",
     "iopub.status.busy": "2022-06-02T09:55:31.276594Z",
     "iopub.status.idle": "2022-06-02T09:55:31.283723Z",
     "shell.execute_reply": "2022-06-02T09:55:31.282791Z"
    },
    "papermill": {
     "duration": 0.030946,
     "end_time": "2022-06-02T09:55:31.285356",
     "exception": false,
     "start_time": "2022-06-02T09:55:31.254410",
     "status": "completed"
    },
    "tags": []
   },
   "outputs": [
    {
     "data": {
      "text/plain": [
       "['Amnesty: ORG',\n",
       " 'Sworn: ORG',\n",
       " 'AHE: ORG',\n",
       " 'United States Union: ORG',\n",
       " 'Sworn: ORG',\n",
       " 'Magistrate S Wilde Durson AHE AHE AHE: ORG',\n",
       " 'Amnesty Proclamation: ORG',\n",
       " 'United State of America: ORG',\n",
       " 'Whaley Sworn: ORG',\n",
       " 'United States Union: ORG',\n",
       " 'Whaley Sworn: ORG',\n",
       " 'Department of State: ORG',\n",
       " 'Amnesty Proclamation: ORG',\n",
       " 'ANDREW: ORG',\n",
       " 'Sgd Montgomery Sworn: ORG',\n",
       " 'Levi Stuber: ORG',\n",
       " 'United States Union: ORG',\n",
       " 'Emancipation of Slaves: ORG',\n",
       " 'Levi Stuber: ORG',\n",
       " 'Department of State: ORG',\n",
       " 'United States Union: ORG',\n",
       " 'INTERREVENUE: ORG',\n",
       " 'Sworn: ORG',\n",
       " 'Amnesty Proclamation: ORG',\n",
       " 'ANDREW: ORG',\n",
       " 'United States Union of State: ORG',\n",
       " 'Department of State: ORG',\n",
       " 'Amnesty Proclamation: ORG',\n",
       " 'ANDREW: ORG',\n",
       " 'JF Steinmeyer Sworn: ORG',\n",
       " 'United States Union: ORG',\n",
       " 'Department of State: ORG',\n",
       " 'Amnesty Proclamation: ORG',\n",
       " 'ANDREW: ORG',\n",
       " 'Joseph Edings Sworn: ORG',\n",
       " 'United States Union: ORG',\n",
       " 'Department of State: ORG',\n",
       " 'Amnesty Proclamation: ORG',\n",
       " 'ANDREW: ORG',\n",
       " 'United States Union: ORG',\n",
       " 'Bray: ORG',\n",
       " 'AMNESTY: ORG',\n",
       " 'H Mathews Capt: ORG',\n",
       " 'US Col Infty Provost Marshal: ORG',\n",
       " 'Eyes Blue Color of Hair: ORG',\n",
       " 'USCI Commanding TRIPLICATE: ORG',\n",
       " 'OATH I P P Bergevin: ORG',\n",
       " 'P H Joor Justice of Peace Wilkinson County State of: ORG',\n",
       " 'Amnesty Proclamation: ORG',\n",
       " 'ANDREW: ORG',\n",
       " 'Belitzer Sworn: ORG',\n",
       " 'Charleston State of So Carolina: ORG',\n",
       " 'United States Union: ORG',\n",
       " 'Department of State: ORG',\n",
       " 'Sworn: ORG',\n",
       " 'Color of Eyes Blue Color of Hair Dark Characteristics: ORG',\n",
       " 'UNITED STATES FORCES No 1282 PROVOST MARSHALS OFFICE: ORG',\n",
       " 'United States Union: ORG',\n",
       " 'Rebellion reference Emancipation of Slaves: ORG',\n",
       " 'Wilson: ORG',\n",
       " 'Regt U S C Infy Provost Marshal: ORG',\n",
       " 'AMNESTY: ORG',\n",
       " 'Eyes Blue Color of Hair: ORG',\n",
       " 'H F Holwell of: ORG',\n",
       " 'USCI Commanding DUPLICATE: ORG']"
      ]
     },
     "execution_count": 31,
     "metadata": {},
     "output_type": "execute_result"
    }
   ],
   "source": [
    "ORG"
   ]
  },
  {
   "cell_type": "code",
   "execution_count": 32,
   "id": "38a7f5e7",
   "metadata": {
    "execution": {
     "iopub.execute_input": "2022-06-02T09:55:31.329944Z",
     "iopub.status.busy": "2022-06-02T09:55:31.329394Z",
     "iopub.status.idle": "2022-06-02T09:55:31.335673Z",
     "shell.execute_reply": "2022-06-02T09:55:31.335061Z"
    },
    "papermill": {
     "duration": 0.030293,
     "end_time": "2022-06-02T09:55:31.337140",
     "exception": false,
     "start_time": "2022-06-02T09:55:31.306847",
     "status": "completed"
    },
    "tags": []
   },
   "outputs": [
    {
     "data": {
      "text/plain": [
       "['May 29th 1865: DATE',\n",
       " '27th day: DATE',\n",
       " '1865: DATE',\n",
       " '27th day: DATE',\n",
       " '1865: DATE',\n",
       " '63 year: DATE',\n",
       " 'May 29th 1865: DATE',\n",
       " '28 day: DATE',\n",
       " '28 day: DATE',\n",
       " 'May 47 PM: DATE',\n",
       " '39 year: DATE',\n",
       " 'May 29th 1865: DATE',\n",
       " '31 day: DATE',\n",
       " '1865: DATE',\n",
       " '31 day: DATE',\n",
       " '1865: DATE',\n",
       " '31st day: DATE',\n",
       " 'August 24 1865: DATE',\n",
       " 'May 29th 1865: DATE',\n",
       " '3 day of August 1865: DATE',\n",
       " 'May 4: DATE',\n",
       " '3 day: DATE',\n",
       " '1865: DATE',\n",
       " 'May 29th 1865: DATE',\n",
       " '16th day: DATE',\n",
       " '1474: DATE',\n",
       " '16th day: DATE',\n",
       " 'May 29th 1865: DATE',\n",
       " '16 day of October 1865: DATE',\n",
       " '16 day of October 1865: DATE',\n",
       " 'July 22: DATE',\n",
       " 'July 22: DATE',\n",
       " '1867: DATE',\n",
       " 'May 29th 1865: DATE',\n",
       " '6 day: DATE',\n",
       " '6 day: DATE',\n",
       " '29th day of September 1865: DATE',\n",
       " 'Age 24 year: DATE',\n",
       " 'Sept 29th 1865: DATE',\n",
       " '29th day: DATE',\n",
       " 'May 29th 1865: DATE',\n",
       " '7th day: DATE',\n",
       " '7th day of September: DATE',\n",
       " '20th day of August 1865: DATE',\n",
       " '20th day of August 1865: DATE',\n",
       " 'August 29th 1865: DATE',\n",
       " '22nd day of August 1865: DATE',\n",
       " 'Miss 31st day: DATE',\n",
       " '1865 1865: DATE',\n",
       " '31 day: DATE',\n",
       " '1865: DATE']"
      ]
     },
     "execution_count": 32,
     "metadata": {},
     "output_type": "execute_result"
    }
   ],
   "source": [
    "DATE"
   ]
  },
  {
   "cell_type": "code",
   "execution_count": 33,
   "id": "e4357946",
   "metadata": {
    "execution": {
     "iopub.execute_input": "2022-06-02T09:55:31.382694Z",
     "iopub.status.busy": "2022-06-02T09:55:31.381865Z",
     "iopub.status.idle": "2022-06-02T09:55:31.389397Z",
     "shell.execute_reply": "2022-06-02T09:55:31.388139Z"
    },
    "papermill": {
     "duration": 0.032655,
     "end_time": "2022-06-02T09:55:31.391574",
     "exception": false,
     "start_time": "2022-06-02T09:55:31.358919",
     "status": "completed"
    },
    "tags": []
   },
   "outputs": [
    {
     "data": {
      "text/plain": [
       "['United States of America: GPE',\n",
       " 'South Carolina: GPE',\n",
       " 'Charleston: GPE',\n",
       " 'United States of America: GPE',\n",
       " 'Charleston: GPE',\n",
       " 'Charleston: GPE',\n",
       " 'United States of America: GPE',\n",
       " 'Charleston: GPE',\n",
       " 'No1984 United States of America: GPE',\n",
       " 'Charleston: GPE',\n",
       " 'New Orleans: GPE',\n",
       " 'US: GPE',\n",
       " 'United States of America: GPE',\n",
       " 'Charleston: GPE',\n",
       " 'Charleston: GPE',\n",
       " 'United States of America: GPE',\n",
       " 'Charleston: GPE',\n",
       " 'United States of America: GPE',\n",
       " 'United States of America: GPE',\n",
       " 'United States of America: GPE',\n",
       " 'United States of America: GPE',\n",
       " 'South Carolina: GPE',\n",
       " 'Vicksburg: GPE',\n",
       " 'United States of America: GPE',\n",
       " 'South Carolina: GPE',\n",
       " 'Mississippi City: GPE',\n",
       " 'United States: GPE',\n",
       " 'States: GPE',\n",
       " 'Mississippi City: GPE',\n",
       " 'Mississippi City: GPE',\n",
       " 'United States: GPE',\n",
       " 'United States: GPE',\n",
       " 'United States: GPE',\n",
       " 'United States: GPE',\n",
       " 'United States: GPE',\n",
       " 'Mississippi: GPE',\n",
       " 'United States of America: GPE',\n",
       " 'Charleston: GPE',\n",
       " 'United States of America: GPE',\n",
       " 'United States: GPE',\n",
       " 'States: GPE',\n",
       " 'United States: GPE',\n",
       " 'Gainsville: GPE',\n",
       " 'NC: GPE',\n",
       " 'United States: GPE',\n",
       " 'States: GPE',\n",
       " 'United States: GPE']"
      ]
     },
     "execution_count": 33,
     "metadata": {},
     "output_type": "execute_result"
    }
   ],
   "source": [
    "GPE"
   ]
  },
  {
   "cell_type": "code",
   "execution_count": 34,
   "id": "bf1b4e73",
   "metadata": {
    "execution": {
     "iopub.execute_input": "2022-06-02T09:55:31.436915Z",
     "iopub.status.busy": "2022-06-02T09:55:31.436510Z",
     "iopub.status.idle": "2022-06-02T09:55:31.442104Z",
     "shell.execute_reply": "2022-06-02T09:55:31.441288Z"
    },
    "papermill": {
     "duration": 0.029861,
     "end_time": "2022-06-02T09:55:31.443542",
     "exception": false,
     "start_time": "2022-06-02T09:55:31.413681",
     "status": "completed"
    },
    "tags": []
   },
   "outputs": [
    {
     "data": {
      "text/plain": [
       "list"
      ]
     },
     "execution_count": 34,
     "metadata": {},
     "output_type": "execute_result"
    }
   ],
   "source": [
    "type(GPE)"
   ]
  },
  {
   "cell_type": "code",
   "execution_count": 35,
   "id": "cde57e49",
   "metadata": {
    "execution": {
     "iopub.execute_input": "2022-06-02T09:55:31.488977Z",
     "iopub.status.busy": "2022-06-02T09:55:31.487905Z",
     "iopub.status.idle": "2022-06-02T09:55:31.493107Z",
     "shell.execute_reply": "2022-06-02T09:55:31.492265Z"
    },
    "papermill": {
     "duration": 0.029724,
     "end_time": "2022-06-02T09:55:31.494963",
     "exception": false,
     "start_time": "2022-06-02T09:55:31.465239",
     "status": "completed"
    },
    "tags": []
   },
   "outputs": [],
   "source": [
    "GPE=np.array(GPE)\n",
    "ORG=np.array(ORG)\n",
    "Person=np.array(Person)\n",
    "DATE=np.array(DATE)"
   ]
  },
  {
   "cell_type": "code",
   "execution_count": 36,
   "id": "f775bb23",
   "metadata": {
    "execution": {
     "iopub.execute_input": "2022-06-02T09:55:31.577892Z",
     "iopub.status.busy": "2022-06-02T09:55:31.576879Z",
     "iopub.status.idle": "2022-06-02T09:55:31.583248Z",
     "shell.execute_reply": "2022-06-02T09:55:31.582307Z"
    },
    "papermill": {
     "duration": 0.05144,
     "end_time": "2022-06-02T09:55:31.585874",
     "exception": false,
     "start_time": "2022-06-02T09:55:31.534434",
     "status": "completed"
    },
    "tags": []
   },
   "outputs": [
    {
     "data": {
      "text/plain": [
       "array(['Charleston: GPE', 'Gainsville: GPE', 'Mississippi City: GPE',\n",
       "       'Mississippi: GPE', 'NC: GPE', 'New Orleans: GPE',\n",
       "       'No1984 United States of America: GPE', 'South Carolina: GPE',\n",
       "       'States: GPE', 'US: GPE', 'United States of America: GPE',\n",
       "       'United States: GPE', 'Vicksburg: GPE'], dtype='<U36')"
      ]
     },
     "execution_count": 36,
     "metadata": {},
     "output_type": "execute_result"
    }
   ],
   "source": [
    "np.unique(GPE)"
   ]
  },
  {
   "cell_type": "code",
   "execution_count": 37,
   "id": "592e4e53",
   "metadata": {
    "execution": {
     "iopub.execute_input": "2022-06-02T09:55:31.664886Z",
     "iopub.status.busy": "2022-06-02T09:55:31.664357Z",
     "iopub.status.idle": "2022-06-02T09:55:31.669150Z",
     "shell.execute_reply": "2022-06-02T09:55:31.668699Z"
    },
    "papermill": {
     "duration": 0.045171,
     "end_time": "2022-06-02T09:55:31.670870",
     "exception": false,
     "start_time": "2022-06-02T09:55:31.625699",
     "status": "completed"
    },
    "tags": []
   },
   "outputs": [
    {
     "data": {
      "text/plain": [
       "array(['AHE: ORG', 'AMNESTY: ORG', 'ANDREW: ORG',\n",
       "       'Amnesty Proclamation: ORG', 'Amnesty: ORG', 'Belitzer Sworn: ORG',\n",
       "       'Bray: ORG', 'Charleston State of So Carolina: ORG',\n",
       "       'Color of Eyes Blue Color of Hair Dark Characteristics: ORG',\n",
       "       'Department of State: ORG', 'Emancipation of Slaves: ORG',\n",
       "       'Eyes Blue Color of Hair: ORG', 'H F Holwell of: ORG',\n",
       "       'H Mathews Capt: ORG', 'INTERREVENUE: ORG',\n",
       "       'JF Steinmeyer Sworn: ORG', 'Joseph Edings Sworn: ORG',\n",
       "       'Levi Stuber: ORG', 'Magistrate S Wilde Durson AHE AHE AHE: ORG',\n",
       "       'OATH I P P Bergevin: ORG',\n",
       "       'P H Joor Justice of Peace Wilkinson County State of: ORG',\n",
       "       'Rebellion reference Emancipation of Slaves: ORG',\n",
       "       'Regt U S C Infy Provost Marshal: ORG',\n",
       "       'Sgd Montgomery Sworn: ORG', 'Sworn: ORG',\n",
       "       'UNITED STATES FORCES No 1282 PROVOST MARSHALS OFFICE: ORG',\n",
       "       'US Col Infty Provost Marshal: ORG',\n",
       "       'USCI Commanding DUPLICATE: ORG',\n",
       "       'USCI Commanding TRIPLICATE: ORG', 'United State of America: ORG',\n",
       "       'United States Union of State: ORG', 'United States Union: ORG',\n",
       "       'Whaley Sworn: ORG', 'Wilson: ORG'], dtype='<U58')"
      ]
     },
     "execution_count": 37,
     "metadata": {},
     "output_type": "execute_result"
    }
   ],
   "source": [
    "np.unique(ORG)"
   ]
  },
  {
   "cell_type": "code",
   "execution_count": 38,
   "id": "976c9dcf",
   "metadata": {
    "execution": {
     "iopub.execute_input": "2022-06-02T09:55:31.747511Z",
     "iopub.status.busy": "2022-06-02T09:55:31.747034Z",
     "iopub.status.idle": "2022-06-02T09:55:31.751598Z",
     "shell.execute_reply": "2022-06-02T09:55:31.751099Z"
    },
    "papermill": {
     "duration": 0.045643,
     "end_time": "2022-06-02T09:55:31.753298",
     "exception": false,
     "start_time": "2022-06-02T09:55:31.707655",
     "status": "completed"
    },
    "tags": []
   },
   "outputs": [
    {
     "data": {
      "text/plain": [
       "38"
      ]
     },
     "execution_count": 38,
     "metadata": {},
     "output_type": "execute_result"
    }
   ],
   "source": [
    "len(np.unique(Person))"
   ]
  },
  {
   "cell_type": "code",
   "execution_count": 39,
   "id": "2d87d238",
   "metadata": {
    "execution": {
     "iopub.execute_input": "2022-06-02T09:55:31.831584Z",
     "iopub.status.busy": "2022-06-02T09:55:31.831236Z",
     "iopub.status.idle": "2022-06-02T09:55:31.837227Z",
     "shell.execute_reply": "2022-06-02T09:55:31.836719Z"
    },
    "papermill": {
     "duration": 0.048192,
     "end_time": "2022-06-02T09:55:31.839959",
     "exception": false,
     "start_time": "2022-06-02T09:55:31.791767",
     "status": "completed"
    },
    "tags": []
   },
   "outputs": [
    {
     "data": {
      "text/plain": [
       "array(['Amnesty Oath Administered At: PERSON', 'Amnesty Oath: PERSON',\n",
       "       'Andrew Johnson: PERSON',\n",
       "       'Anne H Elliott United States of America: PERSON',\n",
       "       'Anne H Elliott: PERSON', 'Bolt Capt 54th: PERSON',\n",
       "       'Brown: PERSON', 'Captn Commanding TRIPLICATE: PERSON',\n",
       "       'Captn: PERSON', 'Charleston Sc: PERSON', 'City Miss: PERSON',\n",
       "       'Copy F K Field Capt: PERSON', 'County: PERSON',\n",
       "       'Frank Conner: PERSON', 'Frank E Miller: PERSON',\n",
       "       'Gibbs Henderson: PERSON', 'Gry: PERSON', 'Hazel: PERSON',\n",
       "       'Hiram Smith: PERSON', 'Hiserodt: PERSON', 'Hu Kennedy: PERSON',\n",
       "       'JF Steinmeyer Sworn: PERSON', 'Jacob Schroder Sworn: PERSON',\n",
       "       'Jacob Schroder: PERSON',\n",
       "       'James D Kendall Amnesty Oath Administered At Oacen Springs: PERSON',\n",
       "       'Joseph Edings: PERSON', 'Laborer: PERSON', 'Oaths: PERSON',\n",
       "       'Pass Christian: PERSON', 'Retained Copy: PERSON',\n",
       "       'Robert A: PERSON', 'Strikethrough: PERSON',\n",
       "       'Thomas Andrew Oath of: PERSON', 'Triplicate AMNESTY: PERSON',\n",
       "       'Walhalla: PERSON', 'Whaley: PERSON',\n",
       "       'William Whaley Sworn: PERSON', 'Woodville Wilkinson: PERSON'],\n",
       "      dtype='<U66')"
      ]
     },
     "execution_count": 39,
     "metadata": {},
     "output_type": "execute_result"
    }
   ],
   "source": [
    "np.unique(Person)"
   ]
  },
  {
   "cell_type": "code",
   "execution_count": 40,
   "id": "b9354339",
   "metadata": {
    "execution": {
     "iopub.execute_input": "2022-06-02T09:55:31.919785Z",
     "iopub.status.busy": "2022-06-02T09:55:31.918842Z",
     "iopub.status.idle": "2022-06-02T09:55:31.923832Z",
     "shell.execute_reply": "2022-06-02T09:55:31.923354Z"
    },
    "papermill": {
     "duration": 0.046291,
     "end_time": "2022-06-02T09:55:31.925609",
     "exception": false,
     "start_time": "2022-06-02T09:55:31.879318",
     "status": "completed"
    },
    "tags": []
   },
   "outputs": [
    {
     "data": {
      "text/plain": [
       "array(['1474: DATE', '16 day of October 1865: DATE', '16th day: DATE',\n",
       "       '1865 1865: DATE', '1865: DATE', '1867: DATE',\n",
       "       '20th day of August 1865: DATE', '22nd day of August 1865: DATE',\n",
       "       '27th day: DATE', '28 day: DATE',\n",
       "       '29th day of September 1865: DATE', '29th day: DATE',\n",
       "       '3 day of August 1865: DATE', '3 day: DATE', '31 day: DATE',\n",
       "       '31st day: DATE', '39 year: DATE', '6 day: DATE', '63 year: DATE',\n",
       "       '7th day of September: DATE', '7th day: DATE', 'Age 24 year: DATE',\n",
       "       'August 24 1865: DATE', 'August 29th 1865: DATE', 'July 22: DATE',\n",
       "       'May 29th 1865: DATE', 'May 47 PM: DATE', 'May 4: DATE',\n",
       "       'Miss 31st day: DATE', 'Sept 29th 1865: DATE'], dtype='<U32')"
      ]
     },
     "execution_count": 40,
     "metadata": {},
     "output_type": "execute_result"
    }
   ],
   "source": [
    "np.unique(DATE)"
   ]
  },
  {
   "cell_type": "markdown",
   "id": "f7ae4811",
   "metadata": {
    "papermill": {
     "duration": 0.037895,
     "end_time": "2022-06-02T09:55:32.001926",
     "exception": false,
     "start_time": "2022-06-02T09:55:31.964031",
     "status": "completed"
    },
    "tags": []
   },
   "source": [
    "****"
   ]
  },
  {
   "cell_type": "code",
   "execution_count": 41,
   "id": "52543074",
   "metadata": {
    "execution": {
     "iopub.execute_input": "2022-06-02T09:55:32.080007Z",
     "iopub.status.busy": "2022-06-02T09:55:32.079579Z",
     "iopub.status.idle": "2022-06-02T09:55:32.083369Z",
     "shell.execute_reply": "2022-06-02T09:55:32.082890Z"
    },
    "papermill": {
     "duration": 0.045121,
     "end_time": "2022-06-02T09:55:32.085143",
     "exception": false,
     "start_time": "2022-06-02T09:55:32.040022",
     "status": "completed"
    },
    "tags": []
   },
   "outputs": [
    {
     "data": {
      "text/plain": [
       "\"8 E encl\\r\\n\\r\\nI Anne H. Elliott, widow do solemnly swear that I have read the Amnesty proclamation issued by Andrew Johnson President of the United States of America on May 29th 1865 and that I am not excepted from the benefits of that proclamation by any one of the fourteen exceptions therein made. Sworn to and subscribed before me at this 27th day of Novb 1865\\r\\nS. Wilde Durson\\r\\nMagt, DD\\r\\n\\r\\nA.H.E. [[image: 2 cent revenue stamp]] \\r\\n\\r\\nAnne H Elliott\\r\\n\\r\\nUnited States of America\\r\\nI Anne H Elliott, of the District of Beaufort, State of South Carolina do solemnly swear in the presence of Almighty God that I will henceforth faithfully support and defend the Constitution of the United States and the Union of the States thereunder, and that I will in like manner abide by and faithfully support all laws and proclamations which have been made during the existing Rebellion with reference to the Emancipation of Slaves- So help me God. \\r\\nSworn to & subscribed before me at this 27th day of Novbr '1865\\r\\n\\r\\nMagistrate\\r\\nS. Wilde Durson A.H.E. A.H.E. A.H.E. [[images: 3 revenue stamps]]\\r\\n[[Anne]] H. Elliott\\r\\n\\r\\nThe above named has fair complexion grey hair Hazel eyes is 5 feet 3 inches high, aged 63 years\\r\\nby profession a planters widow.\\r\\nS. Wilde Durson\\r\\nMagtr   \""
      ]
     },
     "execution_count": 41,
     "metadata": {},
     "output_type": "execute_result"
    }
   ],
   "source": [
    "t0"
   ]
  },
  {
   "cell_type": "code",
   "execution_count": 42,
   "id": "05b7c8a8",
   "metadata": {
    "execution": {
     "iopub.execute_input": "2022-06-02T09:55:32.161232Z",
     "iopub.status.busy": "2022-06-02T09:55:32.160771Z",
     "iopub.status.idle": "2022-06-02T09:55:32.164926Z",
     "shell.execute_reply": "2022-06-02T09:55:32.164267Z"
    },
    "papermill": {
     "duration": 0.044126,
     "end_time": "2022-06-02T09:55:32.166623",
     "exception": false,
     "start_time": "2022-06-02T09:55:32.122497",
     "status": "completed"
    },
    "tags": []
   },
   "outputs": [
    {
     "data": {
      "text/plain": [
       "'8 E encl I Anne H Elliott widow solemnly swear I read Amnesty proclamation issued Andrew Johnson President of United States of America May 29th 1865 I excepted benefit of proclamation one of fourteen exception therein made Sworn subscribed 27th day of Novb 1865 S Wilde Durson Magt DD AHE image 2 cent revenue stamp Anne H Elliott United States of America I Anne H Elliott of District of Beaufort State of South Carolina solemnly swear presence of Almighty God I henceforth faithfully support defend Constitution of United States Union of States thereunder I like manner abide faithfully support law proclamation made existing Rebellion reference Emancipation of Slaves So help God Sworn subscribed 27th day of Novbr 1865 Magistrate S Wilde Durson AHE AHE AHE image 3 revenue stamp Anne H Elliott The named fair complexion grey hair Hazel eye 5 foot 3 inch high aged 63 year profession planter widow S Wilde Durson Magtr'"
      ]
     },
     "execution_count": 42,
     "metadata": {},
     "output_type": "execute_result"
    }
   ],
   "source": [
    "text[0]"
   ]
  },
  {
   "cell_type": "code",
   "execution_count": 43,
   "id": "7c8dc8af",
   "metadata": {
    "execution": {
     "iopub.execute_input": "2022-06-02T09:55:32.242907Z",
     "iopub.status.busy": "2022-06-02T09:55:32.242391Z",
     "iopub.status.idle": "2022-06-02T09:55:32.250634Z",
     "shell.execute_reply": "2022-06-02T09:55:32.249458Z"
    },
    "papermill": {
     "duration": 0.048935,
     "end_time": "2022-06-02T09:55:32.252933",
     "exception": false,
     "start_time": "2022-06-02T09:55:32.203998",
     "status": "completed"
    },
    "tags": []
   },
   "outputs": [
    {
     "data": {
      "text/plain": [
       "[[('Anne H Elliott', 11, 25, 'PERSON', 'People, including fictional'),\n",
       "  ('Amnesty', 54, 61, 'ORG', 'Companies, agencies, institutions, etc.'),\n",
       "  ('Andrew Johnson', 82, 96, 'PERSON', 'People, including fictional'),\n",
       "  ('United States of America', 110, 134, 'GPE', 'Countries, cities, states'),\n",
       "  ('May 29th 1865', 135, 148, 'DATE', 'Absolute or relative dates or periods'),\n",
       "  ('one',\n",
       "   184,\n",
       "   187,\n",
       "   'CARDINAL',\n",
       "   'Numerals that do not fall under another type'),\n",
       "  ('fourteen',\n",
       "   191,\n",
       "   199,\n",
       "   'CARDINAL',\n",
       "   'Numerals that do not fall under another type'),\n",
       "  ('Sworn', 223, 228, 'ORG', 'Companies, agencies, institutions, etc.'),\n",
       "  ('27th day', 240, 248, 'DATE', 'Absolute or relative dates or periods'),\n",
       "  ('1865', 257, 261, 'DATE', 'Absolute or relative dates or periods'),\n",
       "  ('AHE', 285, 288, 'ORG', 'Companies, agencies, institutions, etc.'),\n",
       "  ('2 cent', 295, 301, 'MONEY', 'Monetary values, including unit'),\n",
       "  ('Anne H Elliott United States of America',\n",
       "   316,\n",
       "   355,\n",
       "   'PERSON',\n",
       "   'People, including fictional'),\n",
       "  ('South Carolina', 406, 420, 'GPE', 'Countries, cities, states'),\n",
       "  ('United States Union',\n",
       "   516,\n",
       "   535,\n",
       "   'ORG',\n",
       "   'Companies, agencies, institutions, etc.'),\n",
       "  ('Sworn', 682, 687, 'ORG', 'Companies, agencies, institutions, etc.'),\n",
       "  ('27th day', 699, 707, 'DATE', 'Absolute or relative dates or periods'),\n",
       "  ('1865', 717, 721, 'DATE', 'Absolute or relative dates or periods'),\n",
       "  ('Magistrate S Wilde Durson AHE AHE AHE',\n",
       "   722,\n",
       "   759,\n",
       "   'ORG',\n",
       "   'Companies, agencies, institutions, etc.'),\n",
       "  ('3', 766, 767, 'CARDINAL', 'Numerals that do not fall under another type'),\n",
       "  ('Anne H Elliott', 782, 796, 'PERSON', 'People, including fictional'),\n",
       "  ('Hazel', 833, 838, 'PERSON', 'People, including fictional'),\n",
       "  ('5 foot 3 inch',\n",
       "   843,\n",
       "   856,\n",
       "   'QUANTITY',\n",
       "   'Measurements, as of weight or distance'),\n",
       "  ('63 year', 867, 874, 'DATE', 'Absolute or relative dates or periods')]]"
      ]
     },
     "execution_count": 43,
     "metadata": {},
     "output_type": "execute_result"
    }
   ],
   "source": [
    "L1[:1]"
   ]
  },
  {
   "cell_type": "code",
   "execution_count": 44,
   "id": "a9e781c9",
   "metadata": {
    "execution": {
     "iopub.execute_input": "2022-06-02T09:55:32.331231Z",
     "iopub.status.busy": "2022-06-02T09:55:32.330751Z",
     "iopub.status.idle": "2022-06-02T09:55:32.388656Z",
     "shell.execute_reply": "2022-06-02T09:55:32.387836Z"
    },
    "papermill": {
     "duration": 0.099729,
     "end_time": "2022-06-02T09:55:32.390883",
     "exception": false,
     "start_time": "2022-06-02T09:55:32.291154",
     "status": "completed"
    },
    "tags": []
   },
   "outputs": [
    {
     "data": {
      "text/html": [
       "<span class=\"tex2jax_ignore\"><div class=\"entities\" style=\"line-height: 2.5; direction: ltr\">[8 E encl I \n",
       "<mark class=\"entity\" style=\"background: #aa9cfc; padding: 0.45em 0.6em; margin: 0 0.25em; line-height: 1; border-radius: 0.35em;\">\n",
       "    Anne H Elliott\n",
       "    <span style=\"font-size: 0.8em; font-weight: bold; line-height: 1; border-radius: 0.35em; vertical-align: middle; margin-left: 0.5rem\">PERSON</span>\n",
       "</mark>\n",
       " widow solemnly swear I read \n",
       "<mark class=\"entity\" style=\"background: #7aecec; padding: 0.45em 0.6em; margin: 0 0.25em; line-height: 1; border-radius: 0.35em;\">\n",
       "    Amnesty\n",
       "    <span style=\"font-size: 0.8em; font-weight: bold; line-height: 1; border-radius: 0.35em; vertical-align: middle; margin-left: 0.5rem\">ORG</span>\n",
       "</mark>\n",
       " proclamation issued \n",
       "<mark class=\"entity\" style=\"background: #aa9cfc; padding: 0.45em 0.6em; margin: 0 0.25em; line-height: 1; border-radius: 0.35em;\">\n",
       "    Andrew Johnson\n",
       "    <span style=\"font-size: 0.8em; font-weight: bold; line-height: 1; border-radius: 0.35em; vertical-align: middle; margin-left: 0.5rem\">PERSON</span>\n",
       "</mark>\n",
       " President of \n",
       "<mark class=\"entity\" style=\"background: #feca74; padding: 0.45em 0.6em; margin: 0 0.25em; line-height: 1; border-radius: 0.35em;\">\n",
       "    United States of America\n",
       "    <span style=\"font-size: 0.8em; font-weight: bold; line-height: 1; border-radius: 0.35em; vertical-align: middle; margin-left: 0.5rem\">GPE</span>\n",
       "</mark>\n",
       " \n",
       "<mark class=\"entity\" style=\"background: #bfe1d9; padding: 0.45em 0.6em; margin: 0 0.25em; line-height: 1; border-radius: 0.35em;\">\n",
       "    May 29th 1865\n",
       "    <span style=\"font-size: 0.8em; font-weight: bold; line-height: 1; border-radius: 0.35em; vertical-align: middle; margin-left: 0.5rem\">DATE</span>\n",
       "</mark>\n",
       ", I excepted benefit of proclamation \n",
       "<mark class=\"entity\" style=\"background: #e4e7d2; padding: 0.45em 0.6em; margin: 0 0.25em; line-height: 1; border-radius: 0.35em;\">\n",
       "    one\n",
       "    <span style=\"font-size: 0.8em; font-weight: bold; line-height: 1; border-radius: 0.35em; vertical-align: middle; margin-left: 0.5rem\">CARDINAL</span>\n",
       "</mark>\n",
       " of \n",
       "<mark class=\"entity\" style=\"background: #e4e7d2; padding: 0.45em 0.6em; margin: 0 0.25em; line-height: 1; border-radius: 0.35em;\">\n",
       "    fourteen\n",
       "    <span style=\"font-size: 0.8em; font-weight: bold; line-height: 1; border-radius: 0.35em; vertical-align: middle; margin-left: 0.5rem\">CARDINAL</span>\n",
       "</mark>\n",
       " exception therein made \n",
       "<mark class=\"entity\" style=\"background: #7aecec; padding: 0.45em 0.6em; margin: 0 0.25em; line-height: 1; border-radius: 0.35em;\">\n",
       "    Sworn\n",
       "    <span style=\"font-size: 0.8em; font-weight: bold; line-height: 1; border-radius: 0.35em; vertical-align: middle; margin-left: 0.5rem\">ORG</span>\n",
       "</mark>\n",
       " subscribed \n",
       "<mark class=\"entity\" style=\"background: #bfe1d9; padding: 0.45em 0.6em; margin: 0 0.25em; line-height: 1; border-radius: 0.35em;\">\n",
       "    27th day\n",
       "    <span style=\"font-size: 0.8em; font-weight: bold; line-height: 1; border-radius: 0.35em; vertical-align: middle; margin-left: 0.5rem\">DATE</span>\n",
       "</mark>\n",
       " of Novb \n",
       "<mark class=\"entity\" style=\"background: #bfe1d9; padding: 0.45em 0.6em; margin: 0 0.25em; line-height: 1; border-radius: 0.35em;\">\n",
       "    1865\n",
       "    <span style=\"font-size: 0.8em; font-weight: bold; line-height: 1; border-radius: 0.35em; vertical-align: middle; margin-left: 0.5rem\">DATE</span>\n",
       "</mark>\n",
       ", \n",
       "<mark class=\"entity\" style=\"background: #7aecec; padding: 0.45em 0.6em; margin: 0 0.25em; line-height: 1; border-radius: 0.35em;\">\n",
       "    S Wilde Durson\n",
       "    <span style=\"font-size: 0.8em; font-weight: bold; line-height: 1; border-radius: 0.35em; vertical-align: middle; margin-left: 0.5rem\">ORG</span>\n",
       "</mark>\n",
       " Magt DD \n",
       "<mark class=\"entity\" style=\"background: #7aecec; padding: 0.45em 0.6em; margin: 0 0.25em; line-height: 1; border-radius: 0.35em;\">\n",
       "    AHE\n",
       "    <span style=\"font-size: 0.8em; font-weight: bold; line-height: 1; border-radius: 0.35em; vertical-align: middle; margin-left: 0.5rem\">ORG</span>\n",
       "</mark>\n",
       " image \n",
       "<mark class=\"entity\" style=\"background: #e4e7d2; padding: 0.45em 0.6em; margin: 0 0.25em; line-height: 1; border-radius: 0.35em;\">\n",
       "    2 cent\n",
       "    <span style=\"font-size: 0.8em; font-weight: bold; line-height: 1; border-radius: 0.35em; vertical-align: middle; margin-left: 0.5rem\">MONEY</span>\n",
       "</mark>\n",
       " revenue stamp \n",
       "<mark class=\"entity\" style=\"background: #aa9cfc; padding: 0.45em 0.6em; margin: 0 0.25em; line-height: 1; border-radius: 0.35em;\">\n",
       "    Anne H Elliott United States of America\n",
       "    <span style=\"font-size: 0.8em; font-weight: bold; line-height: 1; border-radius: 0.35em; vertical-align: middle; margin-left: 0.5rem\">PERSON</span>\n",
       "</mark>\n",
       ", I \n",
       "<mark class=\"entity\" style=\"background: #aa9cfc; padding: 0.45em 0.6em; margin: 0 0.25em; line-height: 1; border-radius: 0.35em;\">\n",
       "    Anne H Elliott\n",
       "    <span style=\"font-size: 0.8em; font-weight: bold; line-height: 1; border-radius: 0.35em; vertical-align: middle; margin-left: 0.5rem\">PERSON</span>\n",
       "</mark>\n",
       " of District of Beaufort State of \n",
       "<mark class=\"entity\" style=\"background: #feca74; padding: 0.45em 0.6em; margin: 0 0.25em; line-height: 1; border-radius: 0.35em;\">\n",
       "    South Carolina\n",
       "    <span style=\"font-size: 0.8em; font-weight: bold; line-height: 1; border-radius: 0.35em; vertical-align: middle; margin-left: 0.5rem\">GPE</span>\n",
       "</mark>\n",
       " solemnly swear presence of Almighty God I henceforth faithfully support defend Constitution of \n",
       "<mark class=\"entity\" style=\"background: #7aecec; padding: 0.45em 0.6em; margin: 0 0.25em; line-height: 1; border-radius: 0.35em;\">\n",
       "    United States Union\n",
       "    <span style=\"font-size: 0.8em; font-weight: bold; line-height: 1; border-radius: 0.35em; vertical-align: middle; margin-left: 0.5rem\">ORG</span>\n",
       "</mark>\n",
       " of States thereunder I like manner abide faithfully support law proclamation made existing \n",
       "<mark class=\"entity\" style=\"background: #7aecec; padding: 0.45em 0.6em; margin: 0 0.25em; line-height: 1; border-radius: 0.35em;\">\n",
       "    Rebellion reference Emancipation of Slaves\n",
       "    <span style=\"font-size: 0.8em; font-weight: bold; line-height: 1; border-radius: 0.35em; vertical-align: middle; margin-left: 0.5rem\">ORG</span>\n",
       "</mark>\n",
       ", So help God \n",
       "<mark class=\"entity\" style=\"background: #7aecec; padding: 0.45em 0.6em; margin: 0 0.25em; line-height: 1; border-radius: 0.35em;\">\n",
       "    Sworn\n",
       "    <span style=\"font-size: 0.8em; font-weight: bold; line-height: 1; border-radius: 0.35em; vertical-align: middle; margin-left: 0.5rem\">ORG</span>\n",
       "</mark>\n",
       " subscribed \n",
       "<mark class=\"entity\" style=\"background: #bfe1d9; padding: 0.45em 0.6em; margin: 0 0.25em; line-height: 1; border-radius: 0.35em;\">\n",
       "    27th day\n",
       "    <span style=\"font-size: 0.8em; font-weight: bold; line-height: 1; border-radius: 0.35em; vertical-align: middle; margin-left: 0.5rem\">DATE</span>\n",
       "</mark>\n",
       " of Novbr \n",
       "<mark class=\"entity\" style=\"background: #bfe1d9; padding: 0.45em 0.6em; margin: 0 0.25em; line-height: 1; border-radius: 0.35em;\">\n",
       "    1865\n",
       "    <span style=\"font-size: 0.8em; font-weight: bold; line-height: 1; border-radius: 0.35em; vertical-align: middle; margin-left: 0.5rem\">DATE</span>\n",
       "</mark>\n",
       " \n",
       "<mark class=\"entity\" style=\"background: #7aecec; padding: 0.45em 0.6em; margin: 0 0.25em; line-height: 1; border-radius: 0.35em;\">\n",
       "    Magistrate S Wilde Durson AHE AHE AHE\n",
       "    <span style=\"font-size: 0.8em; font-weight: bold; line-height: 1; border-radius: 0.35em; vertical-align: middle; margin-left: 0.5rem\">ORG</span>\n",
       "</mark>\n",
       " image \n",
       "<mark class=\"entity\" style=\"background: #e4e7d2; padding: 0.45em 0.6em; margin: 0 0.25em; line-height: 1; border-radius: 0.35em;\">\n",
       "    3\n",
       "    <span style=\"font-size: 0.8em; font-weight: bold; line-height: 1; border-radius: 0.35em; vertical-align: middle; margin-left: 0.5rem\">CARDINAL</span>\n",
       "</mark>\n",
       " revenue stamp \n",
       "<mark class=\"entity\" style=\"background: #aa9cfc; padding: 0.45em 0.6em; margin: 0 0.25em; line-height: 1; border-radius: 0.35em;\">\n",
       "    Anne H Elliott\n",
       "    <span style=\"font-size: 0.8em; font-weight: bold; line-height: 1; border-radius: 0.35em; vertical-align: middle; margin-left: 0.5rem\">PERSON</span>\n",
       "</mark>\n",
       " The named fair complexion grey hair \n",
       "<mark class=\"entity\" style=\"background: #aa9cfc; padding: 0.45em 0.6em; margin: 0 0.25em; line-height: 1; border-radius: 0.35em;\">\n",
       "    Hazel\n",
       "    <span style=\"font-size: 0.8em; font-weight: bold; line-height: 1; border-radius: 0.35em; vertical-align: middle; margin-left: 0.5rem\">PERSON</span>\n",
       "</mark>\n",
       " eye \n",
       "<mark class=\"entity\" style=\"background: #e4e7d2; padding: 0.45em 0.6em; margin: 0 0.25em; line-height: 1; border-radius: 0.35em;\">\n",
       "    5 foot 3 inch\n",
       "    <span style=\"font-size: 0.8em; font-weight: bold; line-height: 1; border-radius: 0.35em; vertical-align: middle; margin-left: 0.5rem\">QUANTITY</span>\n",
       "</mark>\n",
       " high aged \n",
       "<mark class=\"entity\" style=\"background: #bfe1d9; padding: 0.45em 0.6em; margin: 0 0.25em; line-height: 1; border-radius: 0.35em;\">\n",
       "    63 year\n",
       "    <span style=\"font-size: 0.8em; font-weight: bold; line-height: 1; border-radius: 0.35em; vertical-align: middle; margin-left: 0.5rem\">DATE</span>\n",
       "</mark>\n",
       " profession planter widow S, Wilde Durson Magtr]</div></span>"
      ],
      "text/plain": [
       "<IPython.core.display.HTML object>"
      ]
     },
     "metadata": {},
     "output_type": "display_data"
    }
   ],
   "source": [
    "sentence = [x for x in nlp(text[0]).sents]\n",
    "displacy.render(nlp(str(sentence)) , style='ent')"
   ]
  },
  {
   "cell_type": "code",
   "execution_count": 45,
   "id": "98c178ae",
   "metadata": {
    "execution": {
     "iopub.execute_input": "2022-06-02T09:55:32.468882Z",
     "iopub.status.busy": "2022-06-02T09:55:32.468242Z",
     "iopub.status.idle": "2022-06-02T09:55:32.473793Z",
     "shell.execute_reply": "2022-06-02T09:55:32.473106Z"
    },
    "papermill": {
     "duration": 0.046936,
     "end_time": "2022-06-02T09:55:32.476098",
     "exception": false,
     "start_time": "2022-06-02T09:55:32.429162",
     "status": "completed"
    },
    "tags": []
   },
   "outputs": [
    {
     "data": {
      "text/plain": [
       "'I E C Whaley solemnly swear that I have carefully read the Amnesty\\r\\nProclamation issued by Andrew Johnson, President of the United State of America, on May 29th, 1865, and that I am not excepted from the benefits of the Proclamation by any one of the fourteen exceptions therein made [[Strikethrough]] except [[strikethrough/]] \\r\\nE C Whaley\\r\\nSworn to and subscribed before me at Charleston SC this 28\\r\\nday of Sept 1865\\r\\n\\r\\nLevi Steuben\\r\\nMaj. 47th P.M.\\r\\n\\r\\nUnited States of America\\r\\nE C Whaley of the city [[strikethrough]] county [[strikethrough/]] Charleston Sate of South Ca do solemnly swear in the presence of the Almighty God, that I will henceforth faithfully support and defend the Constitution of the United States, and the Union of the States thereunder, and that I will, in like manner, abide by and faithfully support all laws and proclamations which have been made during the existing rebellion with reference to the Emancipation of Slaves-SO HELP ME GOD\\r\\n\\r\\nE C Whaley\\r\\nSworn to and subscribed before me at Charleston SC this 28\\r\\nday of Sept 1865\\r\\n\\r\\nLevi Steuben\\r\\nMay 47 P.M.\\r\\nThe above has fair complexion light hair, and gray eyes; is 5 feet 10\\r\\ninches high and 39 years; by profession a planter\\r\\n\\r\\n\\r\\n(The original Oaths will be transmitted, by the officer administering them, to the Department of State, through intermediate channels, and a certified copy thereof will be furnished to the applicant for pardon, to accompany his petition.)\\r\\n\\r\\n[[Left Margin]] Copy\\r\\nLevi Steuben\\r\\nMaj 47th Pro Marshal\\r\\nCity of Charleston\\r\\n[[Left Margin/]]'"
      ]
     },
     "execution_count": 45,
     "metadata": {},
     "output_type": "execute_result"
    }
   ],
   "source": [
    "t1"
   ]
  },
  {
   "cell_type": "code",
   "execution_count": 46,
   "id": "450e811e",
   "metadata": {
    "execution": {
     "iopub.execute_input": "2022-06-02T09:55:32.553998Z",
     "iopub.status.busy": "2022-06-02T09:55:32.553447Z",
     "iopub.status.idle": "2022-06-02T09:55:32.600760Z",
     "shell.execute_reply": "2022-06-02T09:55:32.599602Z"
    },
    "papermill": {
     "duration": 0.088479,
     "end_time": "2022-06-02T09:55:32.602662",
     "exception": false,
     "start_time": "2022-06-02T09:55:32.514183",
     "status": "completed"
    },
    "tags": []
   },
   "outputs": [
    {
     "data": {
      "text/html": [
       "<span class=\"tex2jax_ignore\"><div class=\"entities\" style=\"line-height: 2.5; direction: ltr\">[I E C \n",
       "<mark class=\"entity\" style=\"background: #aa9cfc; padding: 0.45em 0.6em; margin: 0 0.25em; line-height: 1; border-radius: 0.35em;\">\n",
       "    Whaley\n",
       "    <span style=\"font-size: 0.8em; font-weight: bold; line-height: 1; border-radius: 0.35em; vertical-align: middle; margin-left: 0.5rem\">PERSON</span>\n",
       "</mark>\n",
       " solemnly swear I carefully read \n",
       "<mark class=\"entity\" style=\"background: #7aecec; padding: 0.45em 0.6em; margin: 0 0.25em; line-height: 1; border-radius: 0.35em;\">\n",
       "    Amnesty Proclamation\n",
       "    <span style=\"font-size: 0.8em; font-weight: bold; line-height: 1; border-radius: 0.35em; vertical-align: middle; margin-left: 0.5rem\">ORG</span>\n",
       "</mark>\n",
       " issued \n",
       "<mark class=\"entity\" style=\"background: #aa9cfc; padding: 0.45em 0.6em; margin: 0 0.25em; line-height: 1; border-radius: 0.35em;\">\n",
       "    Andrew Johnson\n",
       "    <span style=\"font-size: 0.8em; font-weight: bold; line-height: 1; border-radius: 0.35em; vertical-align: middle; margin-left: 0.5rem\">PERSON</span>\n",
       "</mark>\n",
       " President of \n",
       "<mark class=\"entity\" style=\"background: #7aecec; padding: 0.45em 0.6em; margin: 0 0.25em; line-height: 1; border-radius: 0.35em;\">\n",
       "    United State of America\n",
       "    <span style=\"font-size: 0.8em; font-weight: bold; line-height: 1; border-radius: 0.35em; vertical-align: middle; margin-left: 0.5rem\">ORG</span>\n",
       "</mark>\n",
       " \n",
       "<mark class=\"entity\" style=\"background: #bfe1d9; padding: 0.45em 0.6em; margin: 0 0.25em; line-height: 1; border-radius: 0.35em;\">\n",
       "    May 29th 1865\n",
       "    <span style=\"font-size: 0.8em; font-weight: bold; line-height: 1; border-radius: 0.35em; vertical-align: middle; margin-left: 0.5rem\">DATE</span>\n",
       "</mark>\n",
       ", I excepted benefit of Proclamation \n",
       "<mark class=\"entity\" style=\"background: #e4e7d2; padding: 0.45em 0.6em; margin: 0 0.25em; line-height: 1; border-radius: 0.35em;\">\n",
       "    one\n",
       "    <span style=\"font-size: 0.8em; font-weight: bold; line-height: 1; border-radius: 0.35em; vertical-align: middle; margin-left: 0.5rem\">CARDINAL</span>\n",
       "</mark>\n",
       " of \n",
       "<mark class=\"entity\" style=\"background: #e4e7d2; padding: 0.45em 0.6em; margin: 0 0.25em; line-height: 1; border-radius: 0.35em;\">\n",
       "    fourteen\n",
       "    <span style=\"font-size: 0.8em; font-weight: bold; line-height: 1; border-radius: 0.35em; vertical-align: middle; margin-left: 0.5rem\">CARDINAL</span>\n",
       "</mark>\n",
       " exception therein made \n",
       "<mark class=\"entity\" style=\"background: #aa9cfc; padding: 0.45em 0.6em; margin: 0 0.25em; line-height: 1; border-radius: 0.35em;\">\n",
       "    Strikethrough\n",
       "    <span style=\"font-size: 0.8em; font-weight: bold; line-height: 1; border-radius: 0.35em; vertical-align: middle; margin-left: 0.5rem\">PERSON</span>\n",
       "</mark>\n",
       " except strikethrough E C \n",
       "<mark class=\"entity\" style=\"background: #7aecec; padding: 0.45em 0.6em; margin: 0 0.25em; line-height: 1; border-radius: 0.35em;\">\n",
       "    Whaley Sworn\n",
       "    <span style=\"font-size: 0.8em; font-weight: bold; line-height: 1; border-radius: 0.35em; vertical-align: middle; margin-left: 0.5rem\">ORG</span>\n",
       "</mark>\n",
       " subscribed \n",
       "<mark class=\"entity\" style=\"background: #feca74; padding: 0.45em 0.6em; margin: 0 0.25em; line-height: 1; border-radius: 0.35em;\">\n",
       "    Charleston\n",
       "    <span style=\"font-size: 0.8em; font-weight: bold; line-height: 1; border-radius: 0.35em; vertical-align: middle; margin-left: 0.5rem\">GPE</span>\n",
       "</mark>\n",
       " SC \n",
       "<mark class=\"entity\" style=\"background: #bfe1d9; padding: 0.45em 0.6em; margin: 0 0.25em; line-height: 1; border-radius: 0.35em;\">\n",
       "    28 day\n",
       "    <span style=\"font-size: 0.8em; font-weight: bold; line-height: 1; border-radius: 0.35em; vertical-align: middle; margin-left: 0.5rem\">DATE</span>\n",
       "</mark>\n",
       " of Sept 1865 Levi Steuben Maj \n",
       "<mark class=\"entity\" style=\"background: #e4e7d2; padding: 0.45em 0.6em; margin: 0 0.25em; line-height: 1; border-radius: 0.35em;\">\n",
       "    47th\n",
       "    <span style=\"font-size: 0.8em; font-weight: bold; line-height: 1; border-radius: 0.35em; vertical-align: middle; margin-left: 0.5rem\">ORDINAL</span>\n",
       "</mark>\n",
       " PM \n",
       "<mark class=\"entity\" style=\"background: #feca74; padding: 0.45em 0.6em; margin: 0 0.25em; line-height: 1; border-radius: 0.35em;\">\n",
       "    United States of America\n",
       "    <span style=\"font-size: 0.8em; font-weight: bold; line-height: 1; border-radius: 0.35em; vertical-align: middle; margin-left: 0.5rem\">GPE</span>\n",
       "</mark>\n",
       " E C Whaley of city strikethrough county strikethrough \n",
       "<mark class=\"entity\" style=\"background: #feca74; padding: 0.45em 0.6em; margin: 0 0.25em; line-height: 1; border-radius: 0.35em;\">\n",
       "    Charleston\n",
       "    <span style=\"font-size: 0.8em; font-weight: bold; line-height: 1; border-radius: 0.35em; vertical-align: middle; margin-left: 0.5rem\">GPE</span>\n",
       "</mark>\n",
       " Sate of South Ca solemnly swear presence of Almighty God I henceforth faithfully support defend Constitution of \n",
       "<mark class=\"entity\" style=\"background: #7aecec; padding: 0.45em 0.6em; margin: 0 0.25em; line-height: 1; border-radius: 0.35em;\">\n",
       "    United States Union\n",
       "    <span style=\"font-size: 0.8em; font-weight: bold; line-height: 1; border-radius: 0.35em; vertical-align: middle; margin-left: 0.5rem\">ORG</span>\n",
       "</mark>\n",
       " of States thereunder I like manner abide faithfully support law proclamation made existing rebellion reference \n",
       "<mark class=\"entity\" style=\"background: #bfeeb7; padding: 0.45em 0.6em; margin: 0 0.25em; line-height: 1; border-radius: 0.35em;\">\n",
       "    Emancipation\n",
       "    <span style=\"font-size: 0.8em; font-weight: bold; line-height: 1; border-radius: 0.35em; vertical-align: middle; margin-left: 0.5rem\">PRODUCT</span>\n",
       "</mark>\n",
       " of SlavesSO HELP ME GOD E C \n",
       "<mark class=\"entity\" style=\"background: #7aecec; padding: 0.45em 0.6em; margin: 0 0.25em; line-height: 1; border-radius: 0.35em;\">\n",
       "    Whaley Sworn\n",
       "    <span style=\"font-size: 0.8em; font-weight: bold; line-height: 1; border-radius: 0.35em; vertical-align: middle; margin-left: 0.5rem\">ORG</span>\n",
       "</mark>\n",
       " subscribed \n",
       "<mark class=\"entity\" style=\"background: #feca74; padding: 0.45em 0.6em; margin: 0 0.25em; line-height: 1; border-radius: 0.35em;\">\n",
       "    Charleston\n",
       "    <span style=\"font-size: 0.8em; font-weight: bold; line-height: 1; border-radius: 0.35em; vertical-align: middle; margin-left: 0.5rem\">GPE</span>\n",
       "</mark>\n",
       " SC \n",
       "<mark class=\"entity\" style=\"background: #bfe1d9; padding: 0.45em 0.6em; margin: 0 0.25em; line-height: 1; border-radius: 0.35em;\">\n",
       "    28 day\n",
       "    <span style=\"font-size: 0.8em; font-weight: bold; line-height: 1; border-radius: 0.35em; vertical-align: middle; margin-left: 0.5rem\">DATE</span>\n",
       "</mark>\n",
       " of Sept 1865 Levi Steuben \n",
       "<mark class=\"entity\" style=\"background: #bfe1d9; padding: 0.45em 0.6em; margin: 0 0.25em; line-height: 1; border-radius: 0.35em;\">\n",
       "    May 47 PM\n",
       "    <span style=\"font-size: 0.8em; font-weight: bold; line-height: 1; border-radius: 0.35em; vertical-align: middle; margin-left: 0.5rem\">DATE</span>\n",
       "</mark>\n",
       ", The fair complexion light hair gray \n",
       "<mark class=\"entity\" style=\"background: #e4e7d2; padding: 0.45em 0.6em; margin: 0 0.25em; line-height: 1; border-radius: 0.35em;\">\n",
       "    eye 5 foot 10 inch\n",
       "    <span style=\"font-size: 0.8em; font-weight: bold; line-height: 1; border-radius: 0.35em; vertical-align: middle; margin-left: 0.5rem\">QUANTITY</span>\n",
       "</mark>\n",
       " high \n",
       "<mark class=\"entity\" style=\"background: #bfe1d9; padding: 0.45em 0.6em; margin: 0 0.25em; line-height: 1; border-radius: 0.35em;\">\n",
       "    39 year\n",
       "    <span style=\"font-size: 0.8em; font-weight: bold; line-height: 1; border-radius: 0.35em; vertical-align: middle; margin-left: 0.5rem\">DATE</span>\n",
       "</mark>\n",
       " profession planter The original \n",
       "<mark class=\"entity\" style=\"background: #aa9cfc; padding: 0.45em 0.6em; margin: 0 0.25em; line-height: 1; border-radius: 0.35em;\">\n",
       "    Oaths\n",
       "    <span style=\"font-size: 0.8em; font-weight: bold; line-height: 1; border-radius: 0.35em; vertical-align: middle; margin-left: 0.5rem\">PERSON</span>\n",
       "</mark>\n",
       " transmitted officer administering \n",
       "<mark class=\"entity\" style=\"background: #7aecec; padding: 0.45em 0.6em; margin: 0 0.25em; line-height: 1; border-radius: 0.35em;\">\n",
       "    Department of State\n",
       "    <span style=\"font-size: 0.8em; font-weight: bold; line-height: 1; border-radius: 0.35em; vertical-align: middle; margin-left: 0.5rem\">ORG</span>\n",
       "</mark>\n",
       " intermediate channel certified copy thereof furnished applicant pardon accompany petition \n",
       "<mark class=\"entity\" style=\"background: #f0d0ff; padding: 0.45em 0.6em; margin: 0 0.25em; line-height: 1; border-radius: 0.35em;\">\n",
       "    Left Margin Copy Levi Steuben\n",
       "    <span style=\"font-size: 0.8em; font-weight: bold; line-height: 1; border-radius: 0.35em; vertical-align: middle; margin-left: 0.5rem\">WORK_OF_ART</span>\n",
       "</mark>\n",
       " Maj \n",
       "<mark class=\"entity\" style=\"background: #e4e7d2; padding: 0.45em 0.6em; margin: 0 0.25em; line-height: 1; border-radius: 0.35em;\">\n",
       "    47th\n",
       "    <span style=\"font-size: 0.8em; font-weight: bold; line-height: 1; border-radius: 0.35em; vertical-align: middle; margin-left: 0.5rem\">ORDINAL</span>\n",
       "</mark>\n",
       " Pro Marshal City of Charleston Left Margin]</div></span>"
      ],
      "text/plain": [
       "<IPython.core.display.HTML object>"
      ]
     },
     "metadata": {},
     "output_type": "display_data"
    }
   ],
   "source": [
    "sentence1 = [x for x in nlp(text[1]).sents]\n",
    "displacy.render(nlp(str(sentence1)) , style='ent')"
   ]
  },
  {
   "cell_type": "code",
   "execution_count": 47,
   "id": "4d96b7ef",
   "metadata": {
    "execution": {
     "iopub.execute_input": "2022-06-02T09:55:32.681902Z",
     "iopub.status.busy": "2022-06-02T09:55:32.681574Z",
     "iopub.status.idle": "2022-06-02T09:55:32.686141Z",
     "shell.execute_reply": "2022-06-02T09:55:32.685544Z"
    },
    "papermill": {
     "duration": 0.046206,
     "end_time": "2022-06-02T09:55:32.687972",
     "exception": false,
     "start_time": "2022-06-02T09:55:32.641766",
     "status": "completed"
    },
    "tags": []
   },
   "outputs": [
    {
     "data": {
      "text/plain": [
       "'43M\\r\\nI Mrs E Montgomery solemnly Swear that I have carefully read the Amnesty Proclamation issued by ANDREW JOHNSON, President of the United States of America, on May 29th, 1865, and that I am not excepted from the benefits of that Proclamation by any one of the fourteen exceptions therein made, \\r\\nSgd in Montgomery\\r\\n\\r\\nSworn to and subscribed before me at Charleston SC this 31 day of Oct 1865.\\r\\nLevi Stuber\\r\\nMajor 47th Pa. Vet. Vols. and Provost Marshal.\\r\\n\\r\\n[[left margin]] Duplicate [[/left margin]]\\r\\n\\r\\nNo.1984\\r\\nUnited States of America.\\r\\nI Mrs E. Montgomery of the [[strikethrough]] County [[/strikethrough]]mnly Swear in the presence of Almighty God, that I will henceforth faithfully support and defend the constitution of the United States, and the Union of the States thereunder, and that I will, in like manner, abide by and faithfully support all laws and proclamations which have been made during the existing rebellion with reference to the Emancipation of Slaves- So HELP ME GOD. \\r\\nSgd in Montgomery\\r\\n\\r\\nSworn to and subscribed before me at Charleston SC this 31 day of Oct 1865.\\r\\nLevi Stuber\\r\\nMajor 47th Pa. Vet. Vols. and Provost Marshal.\\r\\n\\r\\nThe above has Fair complexion, Dark hair, and dark eyes; is 5 feet 4 inches high, and 61 years; by profession a Widow\\r\\n\\r\\n(The original Oaths will be transmitted, by the officer administering them, to the Department of State, through intermediate channels and a certified copy thereof will be furnished to the applicant for pardon, to accompany his petition.)'"
      ]
     },
     "execution_count": 47,
     "metadata": {},
     "output_type": "execute_result"
    }
   ],
   "source": [
    "t2"
   ]
  },
  {
   "cell_type": "code",
   "execution_count": 48,
   "id": "587b1662",
   "metadata": {
    "execution": {
     "iopub.execute_input": "2022-06-02T09:55:32.767628Z",
     "iopub.status.busy": "2022-06-02T09:55:32.766479Z",
     "iopub.status.idle": "2022-06-02T09:55:32.813069Z",
     "shell.execute_reply": "2022-06-02T09:55:32.812589Z"
    },
    "papermill": {
     "duration": 0.088142,
     "end_time": "2022-06-02T09:55:32.815114",
     "exception": false,
     "start_time": "2022-06-02T09:55:32.726972",
     "status": "completed"
    },
    "tags": []
   },
   "outputs": [
    {
     "data": {
      "text/html": [
       "<span class=\"tex2jax_ignore\"><div class=\"entities\" style=\"line-height: 2.5; direction: ltr\">[43M I Mrs E Montgomery solemnly Swear I carefully read \n",
       "<mark class=\"entity\" style=\"background: #7aecec; padding: 0.45em 0.6em; margin: 0 0.25em; line-height: 1; border-radius: 0.35em;\">\n",
       "    Amnesty Proclamation\n",
       "    <span style=\"font-size: 0.8em; font-weight: bold; line-height: 1; border-radius: 0.35em; vertical-align: middle; margin-left: 0.5rem\">ORG</span>\n",
       "</mark>\n",
       " issued \n",
       "<mark class=\"entity\" style=\"background: #7aecec; padding: 0.45em 0.6em; margin: 0 0.25em; line-height: 1; border-radius: 0.35em;\">\n",
       "    ANDREW\n",
       "    <span style=\"font-size: 0.8em; font-weight: bold; line-height: 1; border-radius: 0.35em; vertical-align: middle; margin-left: 0.5rem\">ORG</span>\n",
       "</mark>\n",
       " JOHNSON President of \n",
       "<mark class=\"entity\" style=\"background: #feca74; padding: 0.45em 0.6em; margin: 0 0.25em; line-height: 1; border-radius: 0.35em;\">\n",
       "    United States of America\n",
       "    <span style=\"font-size: 0.8em; font-weight: bold; line-height: 1; border-radius: 0.35em; vertical-align: middle; margin-left: 0.5rem\">GPE</span>\n",
       "</mark>\n",
       " \n",
       "<mark class=\"entity\" style=\"background: #bfe1d9; padding: 0.45em 0.6em; margin: 0 0.25em; line-height: 1; border-radius: 0.35em;\">\n",
       "    May 29th 1865\n",
       "    <span style=\"font-size: 0.8em; font-weight: bold; line-height: 1; border-radius: 0.35em; vertical-align: middle; margin-left: 0.5rem\">DATE</span>\n",
       "</mark>\n",
       " I excepted benefit of Proclamation \n",
       "<mark class=\"entity\" style=\"background: #e4e7d2; padding: 0.45em 0.6em; margin: 0 0.25em; line-height: 1; border-radius: 0.35em;\">\n",
       "    one\n",
       "    <span style=\"font-size: 0.8em; font-weight: bold; line-height: 1; border-radius: 0.35em; vertical-align: middle; margin-left: 0.5rem\">CARDINAL</span>\n",
       "</mark>\n",
       " of \n",
       "<mark class=\"entity\" style=\"background: #e4e7d2; padding: 0.45em 0.6em; margin: 0 0.25em; line-height: 1; border-radius: 0.35em;\">\n",
       "    fourteen\n",
       "    <span style=\"font-size: 0.8em; font-weight: bold; line-height: 1; border-radius: 0.35em; vertical-align: middle; margin-left: 0.5rem\">CARDINAL</span>\n",
       "</mark>\n",
       " exception therein made \n",
       "<mark class=\"entity\" style=\"background: #7aecec; padding: 0.45em 0.6em; margin: 0 0.25em; line-height: 1; border-radius: 0.35em;\">\n",
       "    Sgd Montgomery Sworn\n",
       "    <span style=\"font-size: 0.8em; font-weight: bold; line-height: 1; border-radius: 0.35em; vertical-align: middle; margin-left: 0.5rem\">ORG</span>\n",
       "</mark>\n",
       " subscribed \n",
       "<mark class=\"entity\" style=\"background: #feca74; padding: 0.45em 0.6em; margin: 0 0.25em; line-height: 1; border-radius: 0.35em;\">\n",
       "    Charleston\n",
       "    <span style=\"font-size: 0.8em; font-weight: bold; line-height: 1; border-radius: 0.35em; vertical-align: middle; margin-left: 0.5rem\">GPE</span>\n",
       "</mark>\n",
       " SC \n",
       "<mark class=\"entity\" style=\"background: #bfe1d9; padding: 0.45em 0.6em; margin: 0 0.25em; line-height: 1; border-radius: 0.35em;\">\n",
       "    31 day\n",
       "    <span style=\"font-size: 0.8em; font-weight: bold; line-height: 1; border-radius: 0.35em; vertical-align: middle; margin-left: 0.5rem\">DATE</span>\n",
       "</mark>\n",
       " of Oct \n",
       "<mark class=\"entity\" style=\"background: #bfe1d9; padding: 0.45em 0.6em; margin: 0 0.25em; line-height: 1; border-radius: 0.35em;\">\n",
       "    1865\n",
       "    <span style=\"font-size: 0.8em; font-weight: bold; line-height: 1; border-radius: 0.35em; vertical-align: middle; margin-left: 0.5rem\">DATE</span>\n",
       "</mark>\n",
       " Levi Stuber, Major \n",
       "<mark class=\"entity\" style=\"background: #e4e7d2; padding: 0.45em 0.6em; margin: 0 0.25em; line-height: 1; border-radius: 0.35em;\">\n",
       "    47th\n",
       "    <span style=\"font-size: 0.8em; font-weight: bold; line-height: 1; border-radius: 0.35em; vertical-align: middle; margin-left: 0.5rem\">ORDINAL</span>\n",
       "</mark>\n",
       " Pa Vet Vols Provost Marshal left margin Duplicate left margin \n",
       "<mark class=\"entity\" style=\"background: #feca74; padding: 0.45em 0.6em; margin: 0 0.25em; line-height: 1; border-radius: 0.35em;\">\n",
       "    No1984 United States of America\n",
       "    <span style=\"font-size: 0.8em; font-weight: bold; line-height: 1; border-radius: 0.35em; vertical-align: middle; margin-left: 0.5rem\">GPE</span>\n",
       "</mark>\n",
       " I Mrs E Montgomery of strikethrough County strikethroughmnly Swear presence of Almighty God I henceforth faithfully support defend constitution of \n",
       "<mark class=\"entity\" style=\"background: #7aecec; padding: 0.45em 0.6em; margin: 0 0.25em; line-height: 1; border-radius: 0.35em;\">\n",
       "    United States Union\n",
       "    <span style=\"font-size: 0.8em; font-weight: bold; line-height: 1; border-radius: 0.35em; vertical-align: middle; margin-left: 0.5rem\">ORG</span>\n",
       "</mark>\n",
       " of States thereunder I like manner abide faithfully support law proclamation made existing rebellion reference \n",
       "<mark class=\"entity\" style=\"background: #7aecec; padding: 0.45em 0.6em; margin: 0 0.25em; line-height: 1; border-radius: 0.35em;\">\n",
       "    Emancipation of Slaves\n",
       "    <span style=\"font-size: 0.8em; font-weight: bold; line-height: 1; border-radius: 0.35em; vertical-align: middle; margin-left: 0.5rem\">ORG</span>\n",
       "</mark>\n",
       ", So HELP ME GOD Sgd Montgomery Sworn subscribed \n",
       "<mark class=\"entity\" style=\"background: #feca74; padding: 0.45em 0.6em; margin: 0 0.25em; line-height: 1; border-radius: 0.35em;\">\n",
       "    Charleston\n",
       "    <span style=\"font-size: 0.8em; font-weight: bold; line-height: 1; border-radius: 0.35em; vertical-align: middle; margin-left: 0.5rem\">GPE</span>\n",
       "</mark>\n",
       " SC \n",
       "<mark class=\"entity\" style=\"background: #bfe1d9; padding: 0.45em 0.6em; margin: 0 0.25em; line-height: 1; border-radius: 0.35em;\">\n",
       "    31 day\n",
       "    <span style=\"font-size: 0.8em; font-weight: bold; line-height: 1; border-radius: 0.35em; vertical-align: middle; margin-left: 0.5rem\">DATE</span>\n",
       "</mark>\n",
       " of Oct \n",
       "<mark class=\"entity\" style=\"background: #bfe1d9; padding: 0.45em 0.6em; margin: 0 0.25em; line-height: 1; border-radius: 0.35em;\">\n",
       "    1865\n",
       "    <span style=\"font-size: 0.8em; font-weight: bold; line-height: 1; border-radius: 0.35em; vertical-align: middle; margin-left: 0.5rem\">DATE</span>\n",
       "</mark>\n",
       " Levi Stuber, Major \n",
       "<mark class=\"entity\" style=\"background: #e4e7d2; padding: 0.45em 0.6em; margin: 0 0.25em; line-height: 1; border-radius: 0.35em;\">\n",
       "    47th\n",
       "    <span style=\"font-size: 0.8em; font-weight: bold; line-height: 1; border-radius: 0.35em; vertical-align: middle; margin-left: 0.5rem\">ORDINAL</span>\n",
       "</mark>\n",
       " Pa Vet Vols Provost Marshal, The Fair complexion Dark hair dark eye \n",
       "<mark class=\"entity\" style=\"background: #e4e7d2; padding: 0.45em 0.6em; margin: 0 0.25em; line-height: 1; border-radius: 0.35em;\">\n",
       "    5 foot 4 inch\n",
       "    <span style=\"font-size: 0.8em; font-weight: bold; line-height: 1; border-radius: 0.35em; vertical-align: middle; margin-left: 0.5rem\">QUANTITY</span>\n",
       "</mark>\n",
       " high 61 year profession Widow The original \n",
       "<mark class=\"entity\" style=\"background: #aa9cfc; padding: 0.45em 0.6em; margin: 0 0.25em; line-height: 1; border-radius: 0.35em;\">\n",
       "    Oaths\n",
       "    <span style=\"font-size: 0.8em; font-weight: bold; line-height: 1; border-radius: 0.35em; vertical-align: middle; margin-left: 0.5rem\">PERSON</span>\n",
       "</mark>\n",
       " transmitted officer administering \n",
       "<mark class=\"entity\" style=\"background: #7aecec; padding: 0.45em 0.6em; margin: 0 0.25em; line-height: 1; border-radius: 0.35em;\">\n",
       "    Department of State\n",
       "    <span style=\"font-size: 0.8em; font-weight: bold; line-height: 1; border-radius: 0.35em; vertical-align: middle; margin-left: 0.5rem\">ORG</span>\n",
       "</mark>\n",
       " intermediate channel certified copy thereof furnished applicant pardon accompany petition]</div></span>"
      ],
      "text/plain": [
       "<IPython.core.display.HTML object>"
      ]
     },
     "metadata": {},
     "output_type": "display_data"
    }
   ],
   "source": [
    "sentences = [x for x in nlp(text[2]).sents]\n",
    "displacy.render(nlp(str(sentences)) , style='ent')"
   ]
  },
  {
   "cell_type": "code",
   "execution_count": 49,
   "id": "e091b967",
   "metadata": {
    "execution": {
     "iopub.execute_input": "2022-06-02T09:55:32.896001Z",
     "iopub.status.busy": "2022-06-02T09:55:32.895066Z",
     "iopub.status.idle": "2022-06-02T09:55:32.900660Z",
     "shell.execute_reply": "2022-06-02T09:55:32.899797Z"
    },
    "papermill": {
     "duration": 0.047571,
     "end_time": "2022-06-02T09:55:32.902336",
     "exception": false,
     "start_time": "2022-06-02T09:55:32.854765",
     "status": "completed"
    },
    "tags": []
   },
   "outputs": [
    {
     "data": {
      "text/plain": [
       "array(['1474: DATE', '16 day of October 1865: DATE', '16th day: DATE',\n",
       "       '1865 1865: DATE', '1865: DATE', '1867: DATE',\n",
       "       '20th day of August 1865: DATE', '22nd day of August 1865: DATE',\n",
       "       '27th day: DATE', '28 day: DATE',\n",
       "       '29th day of September 1865: DATE', '29th day: DATE',\n",
       "       '3 day of August 1865: DATE', '3 day: DATE', '31 day: DATE',\n",
       "       '31st day: DATE', '39 year: DATE', '6 day: DATE', '63 year: DATE',\n",
       "       '7th day of September: DATE', '7th day: DATE', 'Age 24 year: DATE',\n",
       "       'August 24 1865: DATE', 'August 29th 1865: DATE', 'July 22: DATE',\n",
       "       'May 29th 1865: DATE', 'May 47 PM: DATE', 'May 4: DATE',\n",
       "       'Miss 31st day: DATE', 'Sept 29th 1865: DATE'], dtype='<U32')"
      ]
     },
     "execution_count": 49,
     "metadata": {},
     "output_type": "execute_result"
    }
   ],
   "source": [
    "np.unique(DATE)"
   ]
  },
  {
   "cell_type": "code",
   "execution_count": null,
   "id": "7e3635b8",
   "metadata": {
    "papermill": {
     "duration": 0.03923,
     "end_time": "2022-06-02T09:55:32.981300",
     "exception": false,
     "start_time": "2022-06-02T09:55:32.942070",
     "status": "completed"
    },
    "tags": []
   },
   "outputs": [],
   "source": []
  },
  {
   "cell_type": "markdown",
   "id": "d5a4cf34",
   "metadata": {
    "papermill": {
     "duration": 0.038735,
     "end_time": "2022-06-02T09:55:33.058811",
     "exception": false,
     "start_time": "2022-06-02T09:55:33.020076",
     "status": "completed"
    },
    "tags": []
   },
   "source": [
    "**extracting sentences with spacy and their interest in NER**"
   ]
  },
  {
   "cell_type": "code",
   "execution_count": 50,
   "id": "47998bb2",
   "metadata": {
    "execution": {
     "iopub.execute_input": "2022-06-02T09:55:33.138567Z",
     "iopub.status.busy": "2022-06-02T09:55:33.138013Z",
     "iopub.status.idle": "2022-06-02T09:55:33.163123Z",
     "shell.execute_reply": "2022-06-02T09:55:33.162050Z"
    },
    "papermill": {
     "duration": 0.067415,
     "end_time": "2022-06-02T09:55:33.165353",
     "exception": false,
     "start_time": "2022-06-02T09:55:33.097938",
     "status": "completed"
    },
    "tags": []
   },
   "outputs": [],
   "source": [
    "doc=nlp(text[1])\n",
    "sentences=list(doc.sents)"
   ]
  },
  {
   "cell_type": "code",
   "execution_count": 51,
   "id": "48ed3836",
   "metadata": {
    "execution": {
     "iopub.execute_input": "2022-06-02T09:55:33.247663Z",
     "iopub.status.busy": "2022-06-02T09:55:33.247124Z",
     "iopub.status.idle": "2022-06-02T09:55:33.251265Z",
     "shell.execute_reply": "2022-06-02T09:55:33.250783Z"
    },
    "papermill": {
     "duration": 0.047336,
     "end_time": "2022-06-02T09:55:33.253297",
     "exception": false,
     "start_time": "2022-06-02T09:55:33.205961",
     "status": "completed"
    },
    "tags": []
   },
   "outputs": [
    {
     "data": {
      "text/plain": [
       "3"
      ]
     },
     "execution_count": 51,
     "metadata": {},
     "output_type": "execute_result"
    }
   ],
   "source": [
    "len(sentences)"
   ]
  },
  {
   "cell_type": "code",
   "execution_count": 52,
   "id": "882d96cd",
   "metadata": {
    "execution": {
     "iopub.execute_input": "2022-06-02T09:55:33.334903Z",
     "iopub.status.busy": "2022-06-02T09:55:33.334360Z",
     "iopub.status.idle": "2022-06-02T09:55:33.339333Z",
     "shell.execute_reply": "2022-06-02T09:55:33.337933Z"
    },
    "papermill": {
     "duration": 0.04846,
     "end_time": "2022-06-02T09:55:33.342130",
     "exception": false,
     "start_time": "2022-06-02T09:55:33.293670",
     "status": "completed"
    },
    "tags": []
   },
   "outputs": [
    {
     "name": "stdout",
     "output_type": "stream",
     "text": [
      "<class 'spacy.tokens.span.Span'>\n",
      "I E C Whaley solemnly swear I carefully read Amnesty Proclamation issued Andrew Johnson President of United State of America May 29th 1865\n",
      "<class 'spacy.tokens.span.Span'>\n",
      "I excepted benefit of Proclamation one of fourteen exception therein made Strikethrough except strikethrough E C Whaley Sworn subscribed Charleston SC 28 day of Sept 1865 Levi Steuben Maj 47th PM United States of America E C Whaley of city strikethrough county strikethrough Charleston Sate of South Ca solemnly swear presence of Almighty God I henceforth faithfully support defend Constitution of United States Union of States thereunder I like manner abide faithfully support law proclamation made existing rebellion reference Emancipation of SlavesSO HELP ME GOD E C Whaley Sworn subscribed Charleston SC 28 day of Sept 1865 Levi Steuben May 47 PM\n",
      "<class 'spacy.tokens.span.Span'>\n",
      "The fair complexion light hair gray eye 5 foot 10 inch high 39 year profession planter The original Oaths transmitted officer administering Department of State intermediate channel certified copy thereof furnished applicant pardon accompany petition Left Margin Copy Levi Steuben Maj 47th Pro Marshal City of Charleston Left Margin\n"
     ]
    }
   ],
   "source": [
    "for sent in sentences:\n",
    "    print(type(sent))\n",
    "    print(sent)"
   ]
  },
  {
   "cell_type": "code",
   "execution_count": 53,
   "id": "607e6ddd",
   "metadata": {
    "execution": {
     "iopub.execute_input": "2022-06-02T09:55:33.425827Z",
     "iopub.status.busy": "2022-06-02T09:55:33.425444Z",
     "iopub.status.idle": "2022-06-02T09:55:33.429682Z",
     "shell.execute_reply": "2022-06-02T09:55:33.429172Z"
    },
    "papermill": {
     "duration": 0.048182,
     "end_time": "2022-06-02T09:55:33.431960",
     "exception": false,
     "start_time": "2022-06-02T09:55:33.383778",
     "status": "completed"
    },
    "tags": []
   },
   "outputs": [
    {
     "name": "stdout",
     "output_type": "stream",
     "text": [
      "Whaley 6 12 PERSON\n",
      "Amnesty Proclamation 45 65 ORG\n",
      "Andrew Johnson 73 87 PERSON\n",
      "United State of America 101 124 ORG\n",
      "May 29th 1865 125 138 DATE\n",
      "one 174 177 CARDINAL\n",
      "fourteen 181 189 CARDINAL\n",
      "Strikethrough 213 226 PERSON\n",
      "Whaley Sworn 252 264 ORG\n",
      "Charleston 276 286 GPE\n",
      "28 day 290 296 DATE\n",
      "47th 327 331 ORDINAL\n",
      "United States of America 335 359 GPE\n",
      "Charleston 414 424 GPE\n",
      "United States Union 537 556 ORG\n",
      "Emancipation 668 680 PRODUCT\n",
      "Whaley Sworn 709 721 ORG\n",
      "Charleston 733 743 GPE\n",
      "28 day 747 753 DATE\n",
      "May 47 PM 780 789 DATE\n",
      "eye 5 foot 10 inch 826 844 QUANTITY\n",
      "39 year 850 857 DATE\n",
      "Oaths 890 895 PERSON\n",
      "Department of State 930 949 ORG\n",
      "Left Margin Copy Levi Steuben 1040 1069 WORK_OF_ART\n",
      "47th 1074 1078 ORDINAL\n"
     ]
    }
   ],
   "source": [
    "for word in doc.ents:\n",
    "    print(word.text, word.start_char, word.end_char, word.label_)\n",
    "    "
   ]
  },
  {
   "cell_type": "markdown",
   "id": "d54d0b74",
   "metadata": {
    "papermill": {
     "duration": 0.040804,
     "end_time": "2022-06-02T09:55:33.513711",
     "exception": false,
     "start_time": "2022-06-02T09:55:33.472907",
     "status": "completed"
    },
    "tags": []
   },
   "source": [
    "**Similarity**"
   ]
  },
  {
   "cell_type": "code",
   "execution_count": 54,
   "id": "d59017ab",
   "metadata": {
    "execution": {
     "iopub.execute_input": "2022-06-02T09:55:33.596613Z",
     "iopub.status.busy": "2022-06-02T09:55:33.596060Z",
     "iopub.status.idle": "2022-06-02T09:55:38.823718Z",
     "shell.execute_reply": "2022-06-02T09:55:38.822821Z"
    },
    "papermill": {
     "duration": 5.271586,
     "end_time": "2022-06-02T09:55:38.826106",
     "exception": false,
     "start_time": "2022-06-02T09:55:33.554520",
     "status": "completed"
    },
    "tags": []
   },
   "outputs": [],
   "source": [
    "nlp = spacy.load(\"en_core_web_lg\")\n",
    "tokens = nlp(text[1])"
   ]
  },
  {
   "cell_type": "markdown",
   "id": "6ce790ca",
   "metadata": {
    "papermill": {
     "duration": 0.039951,
     "end_time": "2022-06-02T09:55:38.906733",
     "exception": false,
     "start_time": "2022-06-02T09:55:38.866782",
     "status": "completed"
    },
    "tags": []
   },
   "source": [
    "*Spacy also provides inbuilt integration of dense, real valued vectors representing distributional similarity information.\n",
    "Models that come with built-in word vectors make them available as the Token.vector attribute. Doc.vector and Span.vector will default to an average of their token vectors. You can also check if a token has a vector assigned, and get the L2 norm, which can be used to normalize vectors.*"
   ]
  },
  {
   "cell_type": "markdown",
   "id": "20fce248",
   "metadata": {
    "papermill": {
     "duration": 0.039804,
     "end_time": "2022-06-02T09:55:38.986876",
     "exception": false,
     "start_time": "2022-06-02T09:55:38.947072",
     "status": "completed"
    },
    "tags": []
   },
   "source": [
    "awesome!"
   ]
  },
  {
   "cell_type": "markdown",
   "id": "bf1481e2",
   "metadata": {
    "papermill": {
     "duration": 0.039457,
     "end_time": "2022-06-02T09:55:39.065775",
     "exception": false,
     "start_time": "2022-06-02T09:55:39.026318",
     "status": "completed"
    },
    "tags": []
   },
   "source": [
    "****"
   ]
  },
  {
   "cell_type": "markdown",
   "id": "8066fd1a",
   "metadata": {
    "papermill": {
     "duration": 0.040551,
     "end_time": "2022-06-02T09:55:39.147882",
     "exception": false,
     "start_time": "2022-06-02T09:55:39.107331",
     "status": "completed"
    },
    "tags": []
   },
   "source": [
    "****"
   ]
  },
  {
   "cell_type": "code",
   "execution_count": 55,
   "id": "388c07f3",
   "metadata": {
    "execution": {
     "iopub.execute_input": "2022-06-02T09:55:39.231767Z",
     "iopub.status.busy": "2022-06-02T09:55:39.231336Z",
     "iopub.status.idle": "2022-06-02T09:55:39.235628Z",
     "shell.execute_reply": "2022-06-02T09:55:39.234895Z"
    },
    "papermill": {
     "duration": 0.048873,
     "end_time": "2022-06-02T09:55:39.237779",
     "exception": false,
     "start_time": "2022-06-02T09:55:39.188906",
     "status": "completed"
    },
    "tags": []
   },
   "outputs": [],
   "source": [
    "from keras.preprocessing import text, sequence\n",
    "tokenizer = text.Tokenizer()"
   ]
  },
  {
   "cell_type": "code",
   "execution_count": null,
   "id": "3e1e1a14",
   "metadata": {
    "papermill": {
     "duration": 0.023158,
     "end_time": "2022-06-02T09:55:39.285211",
     "exception": false,
     "start_time": "2022-06-02T09:55:39.262053",
     "status": "completed"
    },
    "tags": []
   },
   "outputs": [],
   "source": []
  },
  {
   "cell_type": "code",
   "execution_count": 56,
   "id": "83bae4fa",
   "metadata": {
    "execution": {
     "iopub.execute_input": "2022-06-02T09:55:39.333788Z",
     "iopub.status.busy": "2022-06-02T09:55:39.333407Z",
     "iopub.status.idle": "2022-06-02T09:56:02.558511Z",
     "shell.execute_reply": "2022-06-02T09:56:02.557748Z"
    },
    "papermill": {
     "duration": 23.251764,
     "end_time": "2022-06-02T09:56:02.560512",
     "exception": false,
     "start_time": "2022-06-02T09:55:39.308748",
     "status": "completed"
    },
    "tags": []
   },
   "outputs": [
    {
     "name": "stdout",
     "output_type": "stream",
     "text": [
      "Collecting simpletransformers\r\n",
      "  Downloading simpletransformers-0.63.7-py3-none-any.whl (249 kB)\r\n",
      "\u001b[2K     \u001b[90m━━━━━━━━━━━━━━━━━━━━━━━━━━━━━━━━━━━━━━━\u001b[0m \u001b[32m249.8/249.8 kB\u001b[0m \u001b[31m4.4 MB/s\u001b[0m eta \u001b[36m0:00:00\u001b[0m\r\n",
      "\u001b[?25hRequirement already satisfied: sentencepiece in /opt/conda/lib/python3.7/site-packages (from simpletransformers) (0.1.96)\r\n",
      "Requirement already satisfied: transformers>=4.6.0 in /opt/conda/lib/python3.7/site-packages (from simpletransformers) (4.18.0)\r\n",
      "Requirement already satisfied: numpy in /opt/conda/lib/python3.7/site-packages (from simpletransformers) (1.21.6)\r\n",
      "Requirement already satisfied: pandas in /opt/conda/lib/python3.7/site-packages (from simpletransformers) (1.3.5)\r\n",
      "Collecting seqeval\r\n",
      "  Downloading seqeval-1.2.2.tar.gz (43 kB)\r\n",
      "\u001b[2K     \u001b[90m━━━━━━━━━━━━━━━━━━━━━━━━━━━━━━━━━━━━━━━━\u001b[0m \u001b[32m43.6/43.6 kB\u001b[0m \u001b[31m3.4 MB/s\u001b[0m eta \u001b[36m0:00:00\u001b[0m\r\n",
      "\u001b[?25h  Preparing metadata (setup.py) ... \u001b[?25l-\b \bdone\r\n",
      "\u001b[?25hRequirement already satisfied: tqdm>=4.47.0 in /opt/conda/lib/python3.7/site-packages (from simpletransformers) (4.64.0)\r\n",
      "Requirement already satisfied: scipy in /opt/conda/lib/python3.7/site-packages (from simpletransformers) (1.7.3)\r\n",
      "Requirement already satisfied: wandb>=0.10.32 in /opt/conda/lib/python3.7/site-packages (from simpletransformers) (0.12.16)\r\n",
      "Requirement already satisfied: regex in /opt/conda/lib/python3.7/site-packages (from simpletransformers) (2021.11.10)\r\n",
      "Requirement already satisfied: tokenizers in /opt/conda/lib/python3.7/site-packages (from simpletransformers) (0.12.1)\r\n",
      "Requirement already satisfied: requests in /opt/conda/lib/python3.7/site-packages (from simpletransformers) (2.27.1)\r\n",
      "Requirement already satisfied: datasets in /opt/conda/lib/python3.7/site-packages (from simpletransformers) (2.1.0)\r\n",
      "Requirement already satisfied: tensorboard in /opt/conda/lib/python3.7/site-packages (from simpletransformers) (2.6.0)\r\n",
      "Collecting streamlit\r\n",
      "  Downloading streamlit-1.9.2-py2.py3-none-any.whl (10.1 MB)\r\n",
      "\u001b[2K     \u001b[90m━━━━━━━━━━━━━━━━━━━━━━━━━━━━━━━━━━━━━━━━\u001b[0m \u001b[32m10.1/10.1 MB\u001b[0m \u001b[31m59.3 MB/s\u001b[0m eta \u001b[36m0:00:00\u001b[0m\r\n",
      "\u001b[?25hRequirement already satisfied: scikit-learn in /opt/conda/lib/python3.7/site-packages (from simpletransformers) (1.0.2)\r\n",
      "Requirement already satisfied: importlib-metadata in /opt/conda/lib/python3.7/site-packages (from transformers>=4.6.0->simpletransformers) (4.11.4)\r\n",
      "Requirement already satisfied: filelock in /opt/conda/lib/python3.7/site-packages (from transformers>=4.6.0->simpletransformers) (3.6.0)\r\n",
      "Requirement already satisfied: packaging>=20.0 in /opt/conda/lib/python3.7/site-packages (from transformers>=4.6.0->simpletransformers) (21.3)\r\n",
      "Requirement already satisfied: pyyaml>=5.1 in /opt/conda/lib/python3.7/site-packages (from transformers>=4.6.0->simpletransformers) (6.0)\r\n",
      "Requirement already satisfied: sacremoses in /opt/conda/lib/python3.7/site-packages (from transformers>=4.6.0->simpletransformers) (0.0.53)\r\n",
      "Requirement already satisfied: huggingface-hub<1.0,>=0.1.0 in /opt/conda/lib/python3.7/site-packages (from transformers>=4.6.0->simpletransformers) (0.5.1)\r\n",
      "Requirement already satisfied: Click!=8.0.0,>=7.0 in /opt/conda/lib/python3.7/site-packages (from wandb>=0.10.32->simpletransformers) (8.0.4)\r\n",
      "Requirement already satisfied: GitPython>=1.0.0 in /opt/conda/lib/python3.7/site-packages (from wandb>=0.10.32->simpletransformers) (3.1.27)\r\n",
      "Requirement already satisfied: shortuuid>=0.5.0 in /opt/conda/lib/python3.7/site-packages (from wandb>=0.10.32->simpletransformers) (1.0.9)\r\n",
      "Requirement already satisfied: protobuf>=3.12.0 in /opt/conda/lib/python3.7/site-packages (from wandb>=0.10.32->simpletransformers) (3.20.1)\r\n",
      "Requirement already satisfied: promise<3,>=2.0 in /opt/conda/lib/python3.7/site-packages (from wandb>=0.10.32->simpletransformers) (2.3)\r\n",
      "Requirement already satisfied: sentry-sdk>=1.0.0 in /opt/conda/lib/python3.7/site-packages (from wandb>=0.10.32->simpletransformers) (1.5.12)\r\n",
      "Requirement already satisfied: python-dateutil>=2.6.1 in /opt/conda/lib/python3.7/site-packages (from wandb>=0.10.32->simpletransformers) (2.8.2)\r\n",
      "Requirement already satisfied: docker-pycreds>=0.4.0 in /opt/conda/lib/python3.7/site-packages (from wandb>=0.10.32->simpletransformers) (0.4.0)\r\n",
      "Requirement already satisfied: psutil>=5.0.0 in /opt/conda/lib/python3.7/site-packages (from wandb>=0.10.32->simpletransformers) (5.9.0)\r\n",
      "Requirement already satisfied: pathtools in /opt/conda/lib/python3.7/site-packages (from wandb>=0.10.32->simpletransformers) (0.1.2)\r\n",
      "Requirement already satisfied: setproctitle in /opt/conda/lib/python3.7/site-packages (from wandb>=0.10.32->simpletransformers) (1.2.3)\r\n",
      "Requirement already satisfied: six>=1.13.0 in /opt/conda/lib/python3.7/site-packages (from wandb>=0.10.32->simpletransformers) (1.16.0)\r\n",
      "Requirement already satisfied: setuptools in /opt/conda/lib/python3.7/site-packages (from wandb>=0.10.32->simpletransformers) (59.8.0)\r\n",
      "Requirement already satisfied: urllib3<1.27,>=1.21.1 in /opt/conda/lib/python3.7/site-packages (from requests->simpletransformers) (1.26.9)\r\n",
      "Requirement already satisfied: charset-normalizer~=2.0.0 in /opt/conda/lib/python3.7/site-packages (from requests->simpletransformers) (2.0.12)\r\n",
      "Requirement already satisfied: idna<4,>=2.5 in /opt/conda/lib/python3.7/site-packages (from requests->simpletransformers) (3.3)\r\n",
      "Requirement already satisfied: certifi>=2017.4.17 in /opt/conda/lib/python3.7/site-packages (from requests->simpletransformers) (2022.5.18.1)\r\n",
      "Requirement already satisfied: aiohttp in /opt/conda/lib/python3.7/site-packages (from datasets->simpletransformers) (3.8.1)\r\n",
      "Requirement already satisfied: xxhash in /opt/conda/lib/python3.7/site-packages (from datasets->simpletransformers) (3.0.0)\r\n",
      "Requirement already satisfied: dill in /opt/conda/lib/python3.7/site-packages (from datasets->simpletransformers) (0.3.5.1)\r\n",
      "Requirement already satisfied: responses<0.19 in /opt/conda/lib/python3.7/site-packages (from datasets->simpletransformers) (0.18.0)\r\n",
      "Requirement already satisfied: multiprocess in /opt/conda/lib/python3.7/site-packages (from datasets->simpletransformers) (0.70.13)\r\n",
      "Requirement already satisfied: fsspec[http]>=2021.05.0 in /opt/conda/lib/python3.7/site-packages (from datasets->simpletransformers) (2022.5.0)\r\n",
      "Requirement already satisfied: pyarrow>=5.0.0 in /opt/conda/lib/python3.7/site-packages (from datasets->simpletransformers) (8.0.0)\r\n",
      "Requirement already satisfied: pytz>=2017.3 in /opt/conda/lib/python3.7/site-packages (from pandas->simpletransformers) (2022.1)\r\n",
      "Requirement already satisfied: joblib>=0.11 in /opt/conda/lib/python3.7/site-packages (from scikit-learn->simpletransformers) (1.1.0)\r\n",
      "Requirement already satisfied: threadpoolctl>=2.0.0 in /opt/conda/lib/python3.7/site-packages (from scikit-learn->simpletransformers) (3.1.0)\r\n",
      "Requirement already satisfied: cachetools>=4.0 in /opt/conda/lib/python3.7/site-packages (from streamlit->simpletransformers) (4.2.4)\r\n",
      "Collecting validators\r\n",
      "  Downloading validators-0.19.0.tar.gz (30 kB)\r\n",
      "  Preparing metadata (setup.py) ... \u001b[?25l-\b \bdone\r\n",
      "\u001b[?25hCollecting pydeck>=0.1.dev5\r\n",
      "  Downloading pydeck-0.7.1-py2.py3-none-any.whl (4.3 MB)\r\n",
      "\u001b[2K     \u001b[90m━━━━━━━━━━━━━━━━━━━━━━━━━━━━━━━━━━━━━━━━\u001b[0m \u001b[32m4.3/4.3 MB\u001b[0m \u001b[31m57.5 MB/s\u001b[0m eta \u001b[36m0:00:00\u001b[0m\r\n",
      "\u001b[?25hRequirement already satisfied: typing-extensions in /opt/conda/lib/python3.7/site-packages (from streamlit->simpletransformers) (4.2.0)\r\n",
      "Collecting watchdog\r\n",
      "  Downloading watchdog-2.1.8-py3-none-manylinux2014_x86_64.whl (77 kB)\r\n",
      "\u001b[2K     \u001b[90m━━━━━━━━━━━━━━━━━━━━━━━━━━━━━━━━━━━━━━━━\u001b[0m \u001b[32m77.5/77.5 kB\u001b[0m \u001b[31m6.1 MB/s\u001b[0m eta \u001b[36m0:00:00\u001b[0m\r\n",
      "\u001b[?25hRequirement already satisfied: toml in /opt/conda/lib/python3.7/site-packages (from streamlit->simpletransformers) (0.10.2)\r\n",
      "Requirement already satisfied: tzlocal in /opt/conda/lib/python3.7/site-packages (from streamlit->simpletransformers) (4.2)\r\n",
      "Requirement already satisfied: pympler>=0.9 in /opt/conda/lib/python3.7/site-packages (from streamlit->simpletransformers) (1.0.1)\r\n",
      "Requirement already satisfied: altair>=3.2.0 in /opt/conda/lib/python3.7/site-packages (from streamlit->simpletransformers) (4.2.0)\r\n",
      "Requirement already satisfied: blinker in /opt/conda/lib/python3.7/site-packages (from streamlit->simpletransformers) (1.4)\r\n",
      "Requirement already satisfied: pillow>=6.2.0 in /opt/conda/lib/python3.7/site-packages (from streamlit->simpletransformers) (9.1.0)\r\n",
      "Requirement already satisfied: semver in /opt/conda/lib/python3.7/site-packages (from streamlit->simpletransformers) (2.13.0)\r\n",
      "Requirement already satisfied: tornado>=5.0 in /opt/conda/lib/python3.7/site-packages (from streamlit->simpletransformers) (6.1)\r\n",
      "Requirement already satisfied: attrs in /opt/conda/lib/python3.7/site-packages (from streamlit->simpletransformers) (21.4.0)\r\n",
      "Requirement already satisfied: google-auth-oauthlib<0.5,>=0.4.1 in /opt/conda/lib/python3.7/site-packages (from tensorboard->simpletransformers) (0.4.6)\r\n",
      "Requirement already satisfied: tensorboard-plugin-wit>=1.6.0 in /opt/conda/lib/python3.7/site-packages (from tensorboard->simpletransformers) (1.8.1)\r\n",
      "Requirement already satisfied: werkzeug>=0.11.15 in /opt/conda/lib/python3.7/site-packages (from tensorboard->simpletransformers) (2.1.2)\r\n",
      "Requirement already satisfied: google-auth<2,>=1.6.3 in /opt/conda/lib/python3.7/site-packages (from tensorboard->simpletransformers) (1.35.0)\r\n",
      "Requirement already satisfied: absl-py>=0.4 in /opt/conda/lib/python3.7/site-packages (from tensorboard->simpletransformers) (1.0.0)\r\n",
      "Requirement already satisfied: tensorboard-data-server<0.7.0,>=0.6.0 in /opt/conda/lib/python3.7/site-packages (from tensorboard->simpletransformers) (0.6.1)\r\n",
      "Requirement already satisfied: grpcio>=1.24.3 in /opt/conda/lib/python3.7/site-packages (from tensorboard->simpletransformers) (1.43.0)\r\n",
      "Requirement already satisfied: markdown>=2.6.8 in /opt/conda/lib/python3.7/site-packages (from tensorboard->simpletransformers) (3.3.7)\r\n",
      "Requirement already satisfied: wheel>=0.26 in /opt/conda/lib/python3.7/site-packages (from tensorboard->simpletransformers) (0.37.1)\r\n",
      "Requirement already satisfied: entrypoints in /opt/conda/lib/python3.7/site-packages (from altair>=3.2.0->streamlit->simpletransformers) (0.4)\r\n",
      "Requirement already satisfied: toolz in /opt/conda/lib/python3.7/site-packages (from altair>=3.2.0->streamlit->simpletransformers) (0.11.2)\r\n",
      "Requirement already satisfied: jinja2 in /opt/conda/lib/python3.7/site-packages (from altair>=3.2.0->streamlit->simpletransformers) (3.1.2)\r\n",
      "Requirement already satisfied: jsonschema>=3.0 in /opt/conda/lib/python3.7/site-packages (from altair>=3.2.0->streamlit->simpletransformers) (4.5.1)\r\n",
      "Requirement already satisfied: gitdb<5,>=4.0.1 in /opt/conda/lib/python3.7/site-packages (from GitPython>=1.0.0->wandb>=0.10.32->simpletransformers) (4.0.9)\r\n",
      "Requirement already satisfied: rsa<5,>=3.1.4 in /opt/conda/lib/python3.7/site-packages (from google-auth<2,>=1.6.3->tensorboard->simpletransformers) (4.8)\r\n",
      "Requirement already satisfied: pyasn1-modules>=0.2.1 in /opt/conda/lib/python3.7/site-packages (from google-auth<2,>=1.6.3->tensorboard->simpletransformers) (0.2.7)\r\n",
      "Requirement already satisfied: requests-oauthlib>=0.7.0 in /opt/conda/lib/python3.7/site-packages (from google-auth-oauthlib<0.5,>=0.4.1->tensorboard->simpletransformers) (1.3.1)\r\n",
      "Requirement already satisfied: zipp>=0.5 in /opt/conda/lib/python3.7/site-packages (from importlib-metadata->transformers>=4.6.0->simpletransformers) (3.8.0)\r\n",
      "Requirement already satisfied: pyparsing!=3.0.5,>=2.0.2 in /opt/conda/lib/python3.7/site-packages (from packaging>=20.0->transformers>=4.6.0->simpletransformers) (3.0.9)\r\n",
      "Requirement already satisfied: traitlets>=4.3.2 in /opt/conda/lib/python3.7/site-packages (from pydeck>=0.1.dev5->streamlit->simpletransformers) (5.2.0)\r\n",
      "Requirement already satisfied: ipywidgets>=7.0.0 in /opt/conda/lib/python3.7/site-packages (from pydeck>=0.1.dev5->streamlit->simpletransformers) (7.7.0)\r\n",
      "Requirement already satisfied: ipykernel>=5.1.2 in /opt/conda/lib/python3.7/site-packages (from pydeck>=0.1.dev5->streamlit->simpletransformers) (6.13.0)\r\n",
      "Requirement already satisfied: aiosignal>=1.1.2 in /opt/conda/lib/python3.7/site-packages (from aiohttp->datasets->simpletransformers) (1.2.0)\r\n",
      "Requirement already satisfied: asynctest==0.13.0 in /opt/conda/lib/python3.7/site-packages (from aiohttp->datasets->simpletransformers) (0.13.0)\r\n",
      "Requirement already satisfied: multidict<7.0,>=4.5 in /opt/conda/lib/python3.7/site-packages (from aiohttp->datasets->simpletransformers) (6.0.2)\r\n",
      "Requirement already satisfied: frozenlist>=1.1.1 in /opt/conda/lib/python3.7/site-packages (from aiohttp->datasets->simpletransformers) (1.3.0)\r\n",
      "Requirement already satisfied: async-timeout<5.0,>=4.0.0a3 in /opt/conda/lib/python3.7/site-packages (from aiohttp->datasets->simpletransformers) (4.0.2)\r\n",
      "Requirement already satisfied: yarl<2.0,>=1.0 in /opt/conda/lib/python3.7/site-packages (from aiohttp->datasets->simpletransformers) (1.7.2)\r\n",
      "Requirement already satisfied: pytz-deprecation-shim in /opt/conda/lib/python3.7/site-packages (from tzlocal->streamlit->simpletransformers) (0.1.0.post0)\r\n",
      "Requirement already satisfied: backports.zoneinfo in /opt/conda/lib/python3.7/site-packages (from tzlocal->streamlit->simpletransformers) (0.2.1)\r\n",
      "Requirement already satisfied: decorator>=3.4.0 in /opt/conda/lib/python3.7/site-packages (from validators->streamlit->simpletransformers) (5.1.1)\r\n",
      "Requirement already satisfied: smmap<6,>=3.0.1 in /opt/conda/lib/python3.7/site-packages (from gitdb<5,>=4.0.1->GitPython>=1.0.0->wandb>=0.10.32->simpletransformers) (3.0.5)\r\n",
      "Requirement already satisfied: ipython>=7.23.1 in /opt/conda/lib/python3.7/site-packages (from ipykernel>=5.1.2->pydeck>=0.1.dev5->streamlit->simpletransformers) (7.33.0)\r\n",
      "Requirement already satisfied: matplotlib-inline>=0.1 in /opt/conda/lib/python3.7/site-packages (from ipykernel>=5.1.2->pydeck>=0.1.dev5->streamlit->simpletransformers) (0.1.3)\r\n",
      "Requirement already satisfied: debugpy>=1.0 in /opt/conda/lib/python3.7/site-packages (from ipykernel>=5.1.2->pydeck>=0.1.dev5->streamlit->simpletransformers) (1.6.0)\r\n",
      "Requirement already satisfied: nest-asyncio in /opt/conda/lib/python3.7/site-packages (from ipykernel>=5.1.2->pydeck>=0.1.dev5->streamlit->simpletransformers) (1.5.5)\r\n",
      "Requirement already satisfied: jupyter-client>=6.1.12 in /opt/conda/lib/python3.7/site-packages (from ipykernel>=5.1.2->pydeck>=0.1.dev5->streamlit->simpletransformers) (7.3.1)\r\n",
      "Requirement already satisfied: nbformat>=4.2.0 in /opt/conda/lib/python3.7/site-packages (from ipywidgets>=7.0.0->pydeck>=0.1.dev5->streamlit->simpletransformers) (5.4.0)\r\n",
      "Requirement already satisfied: widgetsnbextension~=3.6.0 in /opt/conda/lib/python3.7/site-packages (from ipywidgets>=7.0.0->pydeck>=0.1.dev5->streamlit->simpletransformers) (3.6.0)\r\n",
      "Requirement already satisfied: jupyterlab-widgets>=1.0.0 in /opt/conda/lib/python3.7/site-packages (from ipywidgets>=7.0.0->pydeck>=0.1.dev5->streamlit->simpletransformers) (1.1.0)\r\n",
      "Requirement already satisfied: ipython-genutils~=0.2.0 in /opt/conda/lib/python3.7/site-packages (from ipywidgets>=7.0.0->pydeck>=0.1.dev5->streamlit->simpletransformers) (0.2.0)\r\n",
      "Requirement already satisfied: MarkupSafe>=2.0 in /opt/conda/lib/python3.7/site-packages (from jinja2->altair>=3.2.0->streamlit->simpletransformers) (2.0.1)\r\n",
      "Requirement already satisfied: importlib-resources>=1.4.0 in /opt/conda/lib/python3.7/site-packages (from jsonschema>=3.0->altair>=3.2.0->streamlit->simpletransformers) (5.7.1)\r\n",
      "Requirement already satisfied: pyrsistent!=0.17.0,!=0.17.1,!=0.17.2,>=0.14.0 in /opt/conda/lib/python3.7/site-packages (from jsonschema>=3.0->altair>=3.2.0->streamlit->simpletransformers) (0.18.1)\r\n",
      "Requirement already satisfied: pyasn1<0.5.0,>=0.4.6 in /opt/conda/lib/python3.7/site-packages (from pyasn1-modules>=0.2.1->google-auth<2,>=1.6.3->tensorboard->simpletransformers) (0.4.8)\r\n",
      "Requirement already satisfied: oauthlib>=3.0.0 in /opt/conda/lib/python3.7/site-packages (from requests-oauthlib>=0.7.0->google-auth-oauthlib<0.5,>=0.4.1->tensorboard->simpletransformers) (3.2.0)\r\n",
      "Requirement already satisfied: tzdata in /opt/conda/lib/python3.7/site-packages (from pytz-deprecation-shim->tzlocal->streamlit->simpletransformers) (2022.1)\r\n",
      "Requirement already satisfied: jedi>=0.16 in /opt/conda/lib/python3.7/site-packages (from ipython>=7.23.1->ipykernel>=5.1.2->pydeck>=0.1.dev5->streamlit->simpletransformers) (0.18.1)\r\n",
      "Requirement already satisfied: backcall in /opt/conda/lib/python3.7/site-packages (from ipython>=7.23.1->ipykernel>=5.1.2->pydeck>=0.1.dev5->streamlit->simpletransformers) (0.2.0)\r\n",
      "Requirement already satisfied: prompt-toolkit!=3.0.0,!=3.0.1,<3.1.0,>=2.0.0 in /opt/conda/lib/python3.7/site-packages (from ipython>=7.23.1->ipykernel>=5.1.2->pydeck>=0.1.dev5->streamlit->simpletransformers) (3.0.29)\r\n",
      "Requirement already satisfied: pygments in /opt/conda/lib/python3.7/site-packages (from ipython>=7.23.1->ipykernel>=5.1.2->pydeck>=0.1.dev5->streamlit->simpletransformers) (2.12.0)\r\n",
      "Requirement already satisfied: pickleshare in /opt/conda/lib/python3.7/site-packages (from ipython>=7.23.1->ipykernel>=5.1.2->pydeck>=0.1.dev5->streamlit->simpletransformers) (0.7.5)\r\n",
      "Requirement already satisfied: pexpect>4.3 in /opt/conda/lib/python3.7/site-packages (from ipython>=7.23.1->ipykernel>=5.1.2->pydeck>=0.1.dev5->streamlit->simpletransformers) (4.8.0)\r\n",
      "Requirement already satisfied: pyzmq>=22.3 in /opt/conda/lib/python3.7/site-packages (from jupyter-client>=6.1.12->ipykernel>=5.1.2->pydeck>=0.1.dev5->streamlit->simpletransformers) (22.3.0)\r\n",
      "Requirement already satisfied: jupyter-core>=4.9.2 in /opt/conda/lib/python3.7/site-packages (from jupyter-client>=6.1.12->ipykernel>=5.1.2->pydeck>=0.1.dev5->streamlit->simpletransformers) (4.10.0)\r\n",
      "Requirement already satisfied: fastjsonschema in /opt/conda/lib/python3.7/site-packages (from nbformat>=4.2.0->ipywidgets>=7.0.0->pydeck>=0.1.dev5->streamlit->simpletransformers) (2.15.3)\r\n",
      "Requirement already satisfied: notebook>=4.4.1 in /opt/conda/lib/python3.7/site-packages (from widgetsnbextension~=3.6.0->ipywidgets>=7.0.0->pydeck>=0.1.dev5->streamlit->simpletransformers) (6.4.11)\r\n",
      "Requirement already satisfied: parso<0.9.0,>=0.8.0 in /opt/conda/lib/python3.7/site-packages (from jedi>=0.16->ipython>=7.23.1->ipykernel>=5.1.2->pydeck>=0.1.dev5->streamlit->simpletransformers) (0.8.3)\r\n",
      "Requirement already satisfied: argon2-cffi in /opt/conda/lib/python3.7/site-packages (from notebook>=4.4.1->widgetsnbextension~=3.6.0->ipywidgets>=7.0.0->pydeck>=0.1.dev5->streamlit->simpletransformers) (21.3.0)\r\n",
      "Requirement already satisfied: Send2Trash>=1.8.0 in /opt/conda/lib/python3.7/site-packages (from notebook>=4.4.1->widgetsnbextension~=3.6.0->ipywidgets>=7.0.0->pydeck>=0.1.dev5->streamlit->simpletransformers) (1.8.0)\r\n",
      "Requirement already satisfied: prometheus-client in /opt/conda/lib/python3.7/site-packages (from notebook>=4.4.1->widgetsnbextension~=3.6.0->ipywidgets>=7.0.0->pydeck>=0.1.dev5->streamlit->simpletransformers) (0.14.1)\r\n",
      "Requirement already satisfied: nbconvert>=5 in /opt/conda/lib/python3.7/site-packages (from notebook>=4.4.1->widgetsnbextension~=3.6.0->ipywidgets>=7.0.0->pydeck>=0.1.dev5->streamlit->simpletransformers) (6.4.5)\r\n",
      "Requirement already satisfied: terminado>=0.8.3 in /opt/conda/lib/python3.7/site-packages (from notebook>=4.4.1->widgetsnbextension~=3.6.0->ipywidgets>=7.0.0->pydeck>=0.1.dev5->streamlit->simpletransformers) (0.13.3)\r\n",
      "Requirement already satisfied: ptyprocess>=0.5 in /opt/conda/lib/python3.7/site-packages (from pexpect>4.3->ipython>=7.23.1->ipykernel>=5.1.2->pydeck>=0.1.dev5->streamlit->simpletransformers) (0.7.0)\r\n",
      "Requirement already satisfied: wcwidth in /opt/conda/lib/python3.7/site-packages (from prompt-toolkit!=3.0.0,!=3.0.1,<3.1.0,>=2.0.0->ipython>=7.23.1->ipykernel>=5.1.2->pydeck>=0.1.dev5->streamlit->simpletransformers) (0.2.5)\r\n",
      "Requirement already satisfied: testpath in /opt/conda/lib/python3.7/site-packages (from nbconvert>=5->notebook>=4.4.1->widgetsnbextension~=3.6.0->ipywidgets>=7.0.0->pydeck>=0.1.dev5->streamlit->simpletransformers) (0.6.0)\r\n",
      "Requirement already satisfied: bleach in /opt/conda/lib/python3.7/site-packages (from nbconvert>=5->notebook>=4.4.1->widgetsnbextension~=3.6.0->ipywidgets>=7.0.0->pydeck>=0.1.dev5->streamlit->simpletransformers) (5.0.0)\r\n",
      "Requirement already satisfied: nbclient<0.6.0,>=0.5.0 in /opt/conda/lib/python3.7/site-packages (from nbconvert>=5->notebook>=4.4.1->widgetsnbextension~=3.6.0->ipywidgets>=7.0.0->pydeck>=0.1.dev5->streamlit->simpletransformers) (0.5.13)\r\n",
      "Requirement already satisfied: jupyterlab-pygments in /opt/conda/lib/python3.7/site-packages (from nbconvert>=5->notebook>=4.4.1->widgetsnbextension~=3.6.0->ipywidgets>=7.0.0->pydeck>=0.1.dev5->streamlit->simpletransformers) (0.2.2)\r\n",
      "Requirement already satisfied: beautifulsoup4 in /opt/conda/lib/python3.7/site-packages (from nbconvert>=5->notebook>=4.4.1->widgetsnbextension~=3.6.0->ipywidgets>=7.0.0->pydeck>=0.1.dev5->streamlit->simpletransformers) (4.11.1)\r\n",
      "Requirement already satisfied: mistune<2,>=0.8.1 in /opt/conda/lib/python3.7/site-packages (from nbconvert>=5->notebook>=4.4.1->widgetsnbextension~=3.6.0->ipywidgets>=7.0.0->pydeck>=0.1.dev5->streamlit->simpletransformers) (0.8.4)\r\n",
      "Requirement already satisfied: pandocfilters>=1.4.1 in /opt/conda/lib/python3.7/site-packages (from nbconvert>=5->notebook>=4.4.1->widgetsnbextension~=3.6.0->ipywidgets>=7.0.0->pydeck>=0.1.dev5->streamlit->simpletransformers) (1.5.0)\r\n",
      "Requirement already satisfied: defusedxml in /opt/conda/lib/python3.7/site-packages (from nbconvert>=5->notebook>=4.4.1->widgetsnbextension~=3.6.0->ipywidgets>=7.0.0->pydeck>=0.1.dev5->streamlit->simpletransformers) (0.7.1)\r\n",
      "Requirement already satisfied: argon2-cffi-bindings in /opt/conda/lib/python3.7/site-packages (from argon2-cffi->notebook>=4.4.1->widgetsnbextension~=3.6.0->ipywidgets>=7.0.0->pydeck>=0.1.dev5->streamlit->simpletransformers) (21.2.0)\r\n",
      "Requirement already satisfied: cffi>=1.0.1 in /opt/conda/lib/python3.7/site-packages (from argon2-cffi-bindings->argon2-cffi->notebook>=4.4.1->widgetsnbextension~=3.6.0->ipywidgets>=7.0.0->pydeck>=0.1.dev5->streamlit->simpletransformers) (1.15.0)\r\n",
      "Requirement already satisfied: soupsieve>1.2 in /opt/conda/lib/python3.7/site-packages (from beautifulsoup4->nbconvert>=5->notebook>=4.4.1->widgetsnbextension~=3.6.0->ipywidgets>=7.0.0->pydeck>=0.1.dev5->streamlit->simpletransformers) (2.3.1)\r\n",
      "Requirement already satisfied: webencodings in /opt/conda/lib/python3.7/site-packages (from bleach->nbconvert>=5->notebook>=4.4.1->widgetsnbextension~=3.6.0->ipywidgets>=7.0.0->pydeck>=0.1.dev5->streamlit->simpletransformers) (0.5.1)\r\n",
      "Requirement already satisfied: pycparser in /opt/conda/lib/python3.7/site-packages (from cffi>=1.0.1->argon2-cffi-bindings->argon2-cffi->notebook>=4.4.1->widgetsnbextension~=3.6.0->ipywidgets>=7.0.0->pydeck>=0.1.dev5->streamlit->simpletransformers) (2.21)\r\n",
      "Building wheels for collected packages: seqeval, validators\r\n",
      "  Building wheel for seqeval (setup.py) ... \u001b[?25l-\b \b\\\b \b|\b \bdone\r\n",
      "\u001b[?25h  Created wheel for seqeval: filename=seqeval-1.2.2-py3-none-any.whl size=16180 sha256=7dca9e7b14976963bca2910935a905d7d089e114fa134528aadce5c8e20c3d62\r\n",
      "  Stored in directory: /root/.cache/pip/wheels/05/96/ee/7cac4e74f3b19e3158dce26a20a1c86b3533c43ec72a549fd7\r\n",
      "  Building wheel for validators (setup.py) ... \u001b[?25l-\b \b\\\b \bdone\r\n",
      "\u001b[?25h  Created wheel for validators: filename=validators-0.19.0-py3-none-any.whl size=19553 sha256=e9c5992269cd1078e2d3b01f20774ae39fccb9bfb20748f2b5018a3ffdfa801f\r\n",
      "  Stored in directory: /root/.cache/pip/wheels/fe/5d/69/ff53a908b9f14fb7730a58fdede0fac4cdc99ef3624ec76d05\r\n",
      "Successfully built seqeval validators\r\n",
      "Installing collected packages: watchdog, validators, seqeval, pydeck, streamlit, simpletransformers\r\n",
      "Successfully installed pydeck-0.7.1 seqeval-1.2.2 simpletransformers-0.63.7 streamlit-1.9.2 validators-0.19.0 watchdog-2.1.8\r\n",
      "\u001b[33mWARNING: Running pip as the 'root' user can result in broken permissions and conflicting behaviour with the system package manager. It is recommended to use a virtual environment instead: https://pip.pypa.io/warnings/venv\u001b[0m\u001b[33m\r\n",
      "\u001b[0m"
     ]
    }
   ],
   "source": [
    "!pip install simpletransformers"
   ]
  },
  {
   "cell_type": "code",
   "execution_count": 57,
   "id": "09e29992",
   "metadata": {
    "execution": {
     "iopub.execute_input": "2022-06-02T09:56:02.618147Z",
     "iopub.status.busy": "2022-06-02T09:56:02.617793Z",
     "iopub.status.idle": "2022-06-02T09:57:57.901761Z",
     "shell.execute_reply": "2022-06-02T09:57:57.900417Z"
    },
    "papermill": {
     "duration": 115.315599,
     "end_time": "2022-06-02T09:57:57.904228",
     "exception": false,
     "start_time": "2022-06-02T09:56:02.588629",
     "status": "completed"
    },
    "tags": []
   },
   "outputs": [
    {
     "name": "stdout",
     "output_type": "stream",
     "text": [
      "Collecting package metadata (repodata.json): - \b\b\\ \b\b| \b\b/ \b\b- \b\b\\ \b\b| \b\b/ \b\b- \b\b\\ \b\b| \b\b/ \b\b- \b\b\\ \b\b| \b\b/ \b\b- \b\b\\ \b\b| \b\b/ \b\b- \b\b\\ \b\b| \b\b/ \b\b- \b\b\\ \b\b| \b\b/ \b\b- \b\b\\ \b\b| \b\b/ \b\b- \b\b\\ \b\b| \b\b/ \b\b- \b\b\\ \b\b| \b\b/ \b\b- \b\b\\ \b\b| \b\b/ \b\b- \b\b\\ \b\b| \b\b/ \b\b- \b\b\\ \b\b| \b\b/ \b\b- \b\b\\ \b\b| \b\b/ \b\b- \b\b\\ \b\b| \b\b/ \b\b- \b\b\\ \b\b| \b\b/ \b\b- \b\b\\ \b\b| \b\b/ \b\b- \b\b\\ \b\b| \b\b/ \b\b- \b\b\\ \b\b| \b\b/ \b\b- \b\b\\ \b\b| \b\b/ \b\b- \b\b\\ \b\b| \b\b/ \b\b- \b\b\\ \b\b| \b\b/ \b\b- \b\b\\ \b\b| \b\b/ \b\b- \b\b\\ \b\b| \b\b/ \b\b- \b\b\\ \b\b| \b\b/ \b\b- \b\b\\ \b\b| \b\b/ \b\b- \b\b\\ \b\b| \b\b/ \b\b- \b\b\\ \b\b| \b\b/ \b\b- \b\b\\ \b\b| \b\b/ \b\b- \b\b\\ \b\b| \b\b/ \b\b- \b\b\\ \b\b| \b\b/ \b\b- \b\b\\ \b\b| \b\b/ \b\b- \b\b\\ \b\b| \b\b/ \b\b- \b\b\\ \b\b| \b\b/ \b\b- \b\b\\ \b\b| \b\b/ \b\b- \b\b\\ \b\b| \b\b/ \b\b- \b\b\\ \b\b| \b\b/ \b\b- \b\b\\ \b\b| \b\b/ \b\b- \b\b\\ \b\b| \b\b/ \b\b- \b\b\\ \b\b| \b\b/ \b\b- \b\b\\ \b\b| \b\b/ \b\b- \b\b\\ \b\b| \b\b/ \b\b- \b\b\\ \b\b| \b\b/ \b\b- \b\b\\ \b\b| \b\b/ \b\b- \b\b\\ \b\b| \b\b/ \b\b- \b\b\\ \b\b| \b\b/ \b\b- \b\b\\ \b\b| \b\b/ \b\b- \b\b\\ \b\b| \b\b/ \b\b- \b\b\\ \b\b| \b\b/ \b\b- \b\b\\ \b\b| \b\b/ \b\b- \b\b\\ \b\b| \b\b/ \b\b- \b\b\\ \b\b| \b\b/ \b\b- \b\b\\ \b\b| \b\b/ \b\b- \b\b\\ \b\b| \b\b/ \b\b- \b\b\\ \b\b| \b\b/ \b\b- \b\b\\ \b\b| \b\b/ \b\b- \b\b\\ \b\b| \b\b/ \b\b- \b\b\\ \b\b| \b\b/ \b\b- \b\b\\ \b\b| \b\b/ \b\b- \b\b\\ \b\b| \b\b/ \b\b- \b\b\\ \b\b| \b\b/ \b\b- \b\b\\ \b\b| \b\b/ \b\b- \b\b\\ \b\b| \b\b/ \b\b- \b\b\\ \b\b| \b\b/ \b\b- \b\b\\ \b\b| \b\b/ \b\b- \b\b\\ \b\b| \b\b/ \b\b- \b\b\\ \b\b| \b\b/ \b\b- \b\b\\ \b\b| \b\b/ \b\b- \b\b\\ \b\b| \b\b/ \b\b- \b\b\\ \b\b| \b\b/ \b\b- \b\b\\ \b\b| \b\b/ \b\b- \b\b\\ \b\b| \b\b/ \b\b- \b\b\\ \b\b| \b\b/ \b\b- \b\b\\ \b\b| \b\b/ \b\b- \b\b\\ \b\b| \b\b/ \b\b- \b\b\\ \b\b| \b\b/ \b\b- \b\b\\ \b\b| \b\b/ \b\b- \b\b\\ \b\b| \b\b/ \b\b- \b\b\\ \b\b| \b\b/ \b\b- \b\b\\ \b\b| \b\b/ \b\b- \b\b\\ \b\b| \b\b/ \b\b- \b\b\\ \b\b| \b\b/ \b\b- \b\b\\ \b\b| \b\b/ \b\b- \b\b\\ \b\b| \b\b/ \b\b- \b\b\\ \b\b| \b\b/ \b\b- \b\b\\ \b\b| \b\b/ \b\b- \b\b\\ \b\b| \b\b/ \b\b- \b\b\\ \b\b| \b\b/ \b\b- \b\b\\ \b\b| \b\b/ \b\b- \b\b\\ \b\b| \b\b/ \b\b- \b\b\\ \b\b| \b\b/ \b\b- \b\b\\ \b\b| \b\b/ \b\b- \b\b\\ \b\b| \b\b/ \b\b- \b\b\\ \b\b| \b\b/ \b\b- \b\b\\ \b\b| \b\b/ \b\b- \b\b\\ \b\b| \b\b/ \b\b- \b\b\\ \b\b| \b\b/ \b\b- \b\b\\ \b\b| \b\b/ \b\b- \b\b\\ \b\b| \b\b/ \b\b- \b\b\\ \b\b| \b\b/ \b\b- \b\b\\ \b\b| \b\b/ \b\b- \b\b\\ \b\b| \b\b/ \b\b- \b\b\\ \b\b| \b\b/ \b\b- \b\b\\ \b\b| \b\b/ \b\b- \b\b\\ \b\b| \b\b/ \b\b- \b\b\\ \b\b| \b\b/ \b\b- \b\b\\ \b\b| \b\b/ \b\b- \b\b\\ \b\b| \b\b/ \b\b- \b\b\\ \b\b| \b\b/ \b\b- \b\b\\ \b\b| \b\b/ \b\b- \b\b\\ \b\b| \b\b/ \b\b- \b\b\\ \b\b| \b\b/ \b\b- \b\b\\ \b\b| \b\b/ \b\b- \b\b\\ \b\b| \b\b/ \b\b- \b\b\\ \b\b| \b\b/ \b\b- \b\b\\ \b\b| \b\b/ \b\b- \b\b\\ \b\b| \b\b/ \b\b- \b\b\\ \b\b| \b\b/ \b\b- \b\b\\ \b\b| \b\b/ \b\b- \b\b\\ \b\b| \b\b/ \b\b- \b\b\\ \b\b| \b\b/ \b\b- \b\b\\ \b\b| \b\b/ \b\b- \b\b\\ \b\b| \b\b/ \b\b- \b\b\\ \b\b| \b\b/ \b\b- \b\b\\ \b\b| \b\b/ \b\b- \b\b\\ \b\b| \b\b/ \b\b- \b\b\\ \b\b| \b\b/ \b\b- \b\b\\ \b\b| \b\b/ \b\b- \b\b\\ \b\b| \b\b/ \b\b- \b\b\\ \b\b| \b\b/ \b\b- \b\b\\ \b\b| \b\b/ \b\b- \b\b\\ \b\b| \b\b/ \b\b- \b\b\\ \b\b| \b\b/ \b\b- \b\b\\ \b\b| \b\b/ \b\b- \b\b\\ \b\b| \b\b/ \b\b- \b\b\\ \b\b| \b\b/ \b\b- \b\b\\ \b\b| \b\b/ \b\b- \b\b\\ \b\b| \b\b/ \b\b- \b\b\\ \b\b| \b\b/ \b\b- \b\b\\ \b\b| \b\b/ \b\b- \b\b\\ \b\b| \b\b/ \b\b- \b\b\\ \b\b| \b\b/ \b\b- \b\b\\ \b\b| \b\b/ \b\b- \b\b\\ \b\b| \b\b/ \b\b- \b\b\\ \b\b| \b\b/ \b\b- \b\b\\ \b\b| \b\b/ \b\b- \b\b\\ \b\b| \b\b/ \b\b- \b\b\\ \b\b| \b\b/ \b\b- \b\b\\ \b\b| \b\b/ \b\b- \b\b\\ \b\b| \b\b/ \b\b- \b\b\\ \b\b| \b\b/ \b\b- \b\b\\ \b\b| \b\b/ \b\b- \b\b\\ \b\b| \b\b/ \b\b- \b\b\\ \b\b| \b\b/ \b\b- \b\b\\ \b\b| \b\b/ \b\b- \b\b\\ \b\b| \b\b/ \b\b- \b\b\\ \b\b| \b\b/ \b\b- \b\b\\ \b\b| \b\b/ \b\b- \b\b\\ \b\b| \b\b/ \b\b- \b\b\\ \b\b| \b\b/ \b\b- \b\b\\ \b\b| \b\b/ \b\b- \b\b\\ \b\b| \b\b/ \b\b- \b\b\\ \b\b| \b\b/ \b\b- \b\b\\ \b\b| \b\b/ \b\b- \b\b\\ \b\b| \b\b/ \b\b- \b\b\\ \b\b| \b\b/ \b\b- \b\b\\ \b\b| \b\b/ \b\b- \b\b\\ \b\b| \b\b/ \b\b- \b\b\\ \b\b| \b\b/ \b\b- \b\b\\ \b\b| \b\b/ \b\b- \b\b\\ \b\b| \b\b/ \b\b- \b\b\\ \b\b| \b\b/ \b\b- \b\b\\ \b\b| \b\b/ \b\b- \b\b\\ \b\b| \b\b/ \b\b- \b\b\\ \b\b| \b\b/ \b\b- \b\b\\ \b\b| \b\bdone\r\n",
      "Solving environment: - \b\b\\ \b\b| \b\b/ \b\b- \b\b\\ \b\b| \b\b/ \b\b- \b\b\\ \b\b| \b\b/ \b\b- \b\b\\ \b\b| \b\bfailed\r\n",
      "\r\n",
      "PackagesNotFoundError: The following packages are missing from the target environment:\r\n",
      "  - tokenizers,\r\n",
      "  - transformers\r\n",
      "\r\n",
      "\r\n",
      "Requirement already satisfied: transformers in /opt/conda/lib/python3.7/site-packages (4.18.0)\r\n",
      "Requirement already satisfied: importlib-metadata in /opt/conda/lib/python3.7/site-packages (from transformers) (4.11.4)\r\n",
      "Requirement already satisfied: huggingface-hub<1.0,>=0.1.0 in /opt/conda/lib/python3.7/site-packages (from transformers) (0.5.1)\r\n",
      "Requirement already satisfied: pyyaml>=5.1 in /opt/conda/lib/python3.7/site-packages (from transformers) (6.0)\r\n",
      "Requirement already satisfied: regex!=2019.12.17 in /opt/conda/lib/python3.7/site-packages (from transformers) (2021.11.10)\r\n",
      "Requirement already satisfied: sacremoses in /opt/conda/lib/python3.7/site-packages (from transformers) (0.0.53)\r\n",
      "Requirement already satisfied: tqdm>=4.27 in /opt/conda/lib/python3.7/site-packages (from transformers) (4.64.0)\r\n",
      "Requirement already satisfied: numpy>=1.17 in /opt/conda/lib/python3.7/site-packages (from transformers) (1.21.6)\r\n",
      "Requirement already satisfied: tokenizers!=0.11.3,<0.13,>=0.11.1 in /opt/conda/lib/python3.7/site-packages (from transformers) (0.12.1)\r\n",
      "Requirement already satisfied: requests in /opt/conda/lib/python3.7/site-packages (from transformers) (2.27.1)\r\n",
      "Requirement already satisfied: packaging>=20.0 in /opt/conda/lib/python3.7/site-packages (from transformers) (21.3)\r\n",
      "Requirement already satisfied: filelock in /opt/conda/lib/python3.7/site-packages (from transformers) (3.6.0)\r\n",
      "Requirement already satisfied: typing-extensions>=3.7.4.3 in /opt/conda/lib/python3.7/site-packages (from huggingface-hub<1.0,>=0.1.0->transformers) (4.2.0)\r\n",
      "Requirement already satisfied: pyparsing!=3.0.5,>=2.0.2 in /opt/conda/lib/python3.7/site-packages (from packaging>=20.0->transformers) (3.0.9)\r\n",
      "Requirement already satisfied: zipp>=0.5 in /opt/conda/lib/python3.7/site-packages (from importlib-metadata->transformers) (3.8.0)\r\n",
      "Requirement already satisfied: urllib3<1.27,>=1.21.1 in /opt/conda/lib/python3.7/site-packages (from requests->transformers) (1.26.9)\r\n",
      "Requirement already satisfied: certifi>=2017.4.17 in /opt/conda/lib/python3.7/site-packages (from requests->transformers) (2022.5.18.1)\r\n",
      "Requirement already satisfied: idna<4,>=2.5 in /opt/conda/lib/python3.7/site-packages (from requests->transformers) (3.3)\r\n",
      "Requirement already satisfied: charset-normalizer~=2.0.0 in /opt/conda/lib/python3.7/site-packages (from requests->transformers) (2.0.12)\r\n",
      "Requirement already satisfied: joblib in /opt/conda/lib/python3.7/site-packages (from sacremoses->transformers) (1.1.0)\r\n",
      "Requirement already satisfied: click in /opt/conda/lib/python3.7/site-packages (from sacremoses->transformers) (8.0.4)\r\n",
      "Requirement already satisfied: six in /opt/conda/lib/python3.7/site-packages (from sacremoses->transformers) (1.16.0)\r\n",
      "\u001b[33mWARNING: Running pip as the 'root' user can result in broken permissions and conflicting behaviour with the system package manager. It is recommended to use a virtual environment instead: https://pip.pypa.io/warnings/venv\u001b[0m\u001b[33m\r\n",
      "\u001b[0m"
     ]
    }
   ],
   "source": [
    "!conda uninstall tokenizers, transformers\n",
    "!pip install transformers"
   ]
  },
  {
   "cell_type": "code",
   "execution_count": 58,
   "id": "47c7edd8",
   "metadata": {
    "execution": {
     "iopub.execute_input": "2022-06-02T09:57:58.037364Z",
     "iopub.status.busy": "2022-06-02T09:57:58.036914Z",
     "iopub.status.idle": "2022-06-02T09:58:25.277001Z",
     "shell.execute_reply": "2022-06-02T09:58:25.276120Z"
    },
    "papermill": {
     "duration": 27.310357,
     "end_time": "2022-06-02T09:58:25.279597",
     "exception": false,
     "start_time": "2022-06-02T09:57:57.969240",
     "status": "completed"
    },
    "tags": []
   },
   "outputs": [
    {
     "name": "stdout",
     "output_type": "stream",
     "text": [
      "Requirement already satisfied: tokenizers in /opt/conda/lib/python3.7/site-packages (0.12.1)\r\n",
      "\u001b[33mWARNING: Running pip as the 'root' user can result in broken permissions and conflicting behaviour with the system package manager. It is recommended to use a virtual environment instead: https://pip.pypa.io/warnings/venv\u001b[0m\u001b[33m\r\n",
      "\u001b[0mRequirement already satisfied: transformers in /opt/conda/lib/python3.7/site-packages (4.18.0)\r\n",
      "Collecting transformers\r\n",
      "  Downloading transformers-4.19.2-py3-none-any.whl (4.2 MB)\r\n",
      "\u001b[2K     \u001b[90m━━━━━━━━━━━━━━━━━━━━━━━━━━━━━━━━━━━━━━━━\u001b[0m \u001b[32m4.2/4.2 MB\u001b[0m \u001b[31m37.6 MB/s\u001b[0m eta \u001b[36m0:00:00\u001b[0m\r\n",
      "\u001b[?25hRequirement already satisfied: tqdm>=4.27 in /opt/conda/lib/python3.7/site-packages (from transformers) (4.64.0)\r\n",
      "Requirement already satisfied: regex!=2019.12.17 in /opt/conda/lib/python3.7/site-packages (from transformers) (2021.11.10)\r\n",
      "Requirement already satisfied: numpy>=1.17 in /opt/conda/lib/python3.7/site-packages (from transformers) (1.21.6)\r\n",
      "Requirement already satisfied: pyyaml>=5.1 in /opt/conda/lib/python3.7/site-packages (from transformers) (6.0)\r\n",
      "Requirement already satisfied: importlib-metadata in /opt/conda/lib/python3.7/site-packages (from transformers) (4.11.4)\r\n",
      "Requirement already satisfied: requests in /opt/conda/lib/python3.7/site-packages (from transformers) (2.27.1)\r\n",
      "Requirement already satisfied: filelock in /opt/conda/lib/python3.7/site-packages (from transformers) (3.6.0)\r\n",
      "Requirement already satisfied: packaging>=20.0 in /opt/conda/lib/python3.7/site-packages (from transformers) (21.3)\r\n",
      "Requirement already satisfied: tokenizers!=0.11.3,<0.13,>=0.11.1 in /opt/conda/lib/python3.7/site-packages (from transformers) (0.12.1)\r\n",
      "Requirement already satisfied: huggingface-hub<1.0,>=0.1.0 in /opt/conda/lib/python3.7/site-packages (from transformers) (0.5.1)\r\n",
      "Requirement already satisfied: typing-extensions>=3.7.4.3 in /opt/conda/lib/python3.7/site-packages (from huggingface-hub<1.0,>=0.1.0->transformers) (4.2.0)\r\n",
      "Requirement already satisfied: pyparsing!=3.0.5,>=2.0.2 in /opt/conda/lib/python3.7/site-packages (from packaging>=20.0->transformers) (3.0.9)\r\n",
      "Requirement already satisfied: zipp>=0.5 in /opt/conda/lib/python3.7/site-packages (from importlib-metadata->transformers) (3.8.0)\r\n",
      "Requirement already satisfied: urllib3<1.27,>=1.21.1 in /opt/conda/lib/python3.7/site-packages (from requests->transformers) (1.26.9)\r\n",
      "Requirement already satisfied: charset-normalizer~=2.0.0 in /opt/conda/lib/python3.7/site-packages (from requests->transformers) (2.0.12)\r\n",
      "Requirement already satisfied: idna<4,>=2.5 in /opt/conda/lib/python3.7/site-packages (from requests->transformers) (3.3)\r\n",
      "Requirement already satisfied: certifi>=2017.4.17 in /opt/conda/lib/python3.7/site-packages (from requests->transformers) (2022.5.18.1)\r\n",
      "Installing collected packages: transformers\r\n",
      "  Attempting uninstall: transformers\r\n",
      "    Found existing installation: transformers 4.18.0\r\n",
      "    Uninstalling transformers-4.18.0:\r\n",
      "      Successfully uninstalled transformers-4.18.0\r\n",
      "\u001b[31mERROR: pip's dependency resolver does not currently take into account all the packages that are installed. This behaviour is the source of the following dependency conflicts.\r\n",
      "allennlp 2.9.3 requires transformers<4.19,>=4.1, but you have transformers 4.19.2 which is incompatible.\u001b[0m\u001b[31m\r\n",
      "\u001b[0mSuccessfully installed transformers-4.19.2\r\n",
      "\u001b[33mWARNING: Running pip as the 'root' user can result in broken permissions and conflicting behaviour with the system package manager. It is recommended to use a virtual environment instead: https://pip.pypa.io/warnings/venv\u001b[0m\u001b[33m\r\n",
      "\u001b[0m"
     ]
    }
   ],
   "source": [
    "\n",
    "!pip install tokenizers\n",
    "!pip install --upgrade transformers"
   ]
  },
  {
   "cell_type": "markdown",
   "id": "07035bfd",
   "metadata": {
    "papermill": {
     "duration": 0.111974,
     "end_time": "2022-06-02T09:58:25.503063",
     "exception": false,
     "start_time": "2022-06-02T09:58:25.391089",
     "status": "completed"
    },
    "tags": []
   },
   "source": [
    "****"
   ]
  },
  {
   "cell_type": "markdown",
   "id": "3074003d",
   "metadata": {
    "papermill": {
     "duration": 0.109055,
     "end_time": "2022-06-02T09:58:25.723543",
     "exception": false,
     "start_time": "2022-06-02T09:58:25.614488",
     "status": "completed"
    },
    "tags": []
   },
   "source": [
    "****"
   ]
  },
  {
   "cell_type": "markdown",
   "id": "2de5351c",
   "metadata": {
    "papermill": {
     "duration": 0.111518,
     "end_time": "2022-06-02T09:58:25.947706",
     "exception": false,
     "start_time": "2022-06-02T09:58:25.836188",
     "status": "completed"
    },
    "tags": []
   },
   "source": [
    "********"
   ]
  },
  {
   "cell_type": "markdown",
   "id": "72e6ae06",
   "metadata": {
    "papermill": {
     "duration": 0.112513,
     "end_time": "2022-06-02T09:58:26.171703",
     "exception": false,
     "start_time": "2022-06-02T09:58:26.059190",
     "status": "completed"
    },
    "tags": []
   },
   "source": [
    "# Hugging_Face Pipelines"
   ]
  },
  {
   "cell_type": "markdown",
   "id": "b521aa1e",
   "metadata": {
    "papermill": {
     "duration": 0.111244,
     "end_time": "2022-06-02T09:58:26.393655",
     "exception": false,
     "start_time": "2022-06-02T09:58:26.282411",
     "status": "completed"
    },
    "tags": []
   },
   "source": [
    "**it was a mess up** Xd"
   ]
  },
  {
   "cell_type": "code",
   "execution_count": 59,
   "id": "37e7f6c4",
   "metadata": {
    "execution": {
     "iopub.execute_input": "2022-06-02T09:58:26.617206Z",
     "iopub.status.busy": "2022-06-02T09:58:26.616869Z",
     "iopub.status.idle": "2022-06-02T09:59:20.895499Z",
     "shell.execute_reply": "2022-06-02T09:59:20.894230Z"
    },
    "papermill": {
     "duration": 54.394046,
     "end_time": "2022-06-02T09:59:20.898363",
     "exception": false,
     "start_time": "2022-06-02T09:58:26.504317",
     "status": "completed"
    },
    "tags": []
   },
   "outputs": [
    {
     "name": "stdout",
     "output_type": "stream",
     "text": [
      "\u001b[31mERROR: pip's dependency resolver does not currently take into account all the packages that are installed. This behaviour is the source of the following dependency conflicts.\r\n",
      "torchvision 0.12.0+cpu requires torch==1.11.0, but you have torch 1.4.0 which is incompatible.\r\n",
      "torchtext 0.12.0 requires torch==1.11.0, but you have torch 1.4.0 which is incompatible.\r\n",
      "torchaudio 0.11.0+cpu requires torch==1.11.0, but you have torch 1.4.0 which is incompatible.\r\n",
      "pytorch-lightning 1.6.3 requires torch>=1.8.*, but you have torch 1.4.0 which is incompatible.\r\n",
      "kornia 0.5.8 requires torch>=1.6.0, but you have torch 1.4.0 which is incompatible.\r\n",
      "fastai 2.6.3 requires torch<1.12,>=1.7.0, but you have torch 1.4.0 which is incompatible.\r\n",
      "fairscale 0.4.6 requires torch>=1.8.0, but you have torch 1.4.0 which is incompatible.\r\n",
      "allennlp 2.9.3 requires torch<1.12.0,>=1.6.0, but you have torch 1.4.0 which is incompatible.\r\n",
      "allennlp 2.9.3 requires transformers<4.19,>=4.1, but you have transformers 4.19.2 which is incompatible.\u001b[0m\u001b[31m\r\n",
      "\u001b[0m\u001b[33mWARNING: Running pip as the 'root' user can result in broken permissions and conflicting behaviour with the system package manager. It is recommended to use a virtual environment instead: https://pip.pypa.io/warnings/venv\u001b[0m\u001b[33m\r\n",
      "\u001b[0m"
     ]
    }
   ],
   "source": [
    "!pip install -q torch==1.4.0 -f https://download.pytorch.org/whl/cu101/torch_stable.html\n"
   ]
  },
  {
   "cell_type": "code",
   "execution_count": 60,
   "id": "6f0ce04a",
   "metadata": {
    "execution": {
     "iopub.execute_input": "2022-06-02T09:59:21.132410Z",
     "iopub.status.busy": "2022-06-02T09:59:21.131891Z",
     "iopub.status.idle": "2022-06-02T09:59:23.223108Z",
     "shell.execute_reply": "2022-06-02T09:59:23.221926Z"
    },
    "papermill": {
     "duration": 2.16495,
     "end_time": "2022-06-02T09:59:23.225549",
     "exception": false,
     "start_time": "2022-06-02T09:59:21.060599",
     "status": "completed"
    },
    "tags": []
   },
   "outputs": [],
   "source": [
    "from transformers import pipeline\n",
    "from transformers import AutoModelForTokenClassification, AutoTokenizer\n",
    "import torch\n",
    "from transformers import AutoModel, AutoTokenizer"
   ]
  },
  {
   "cell_type": "code",
   "execution_count": 61,
   "id": "cc8e60f4",
   "metadata": {
    "execution": {
     "iopub.execute_input": "2022-06-02T09:59:23.362529Z",
     "iopub.status.busy": "2022-06-02T09:59:23.362129Z",
     "iopub.status.idle": "2022-06-02T10:00:19.483318Z",
     "shell.execute_reply": "2022-06-02T10:00:19.479751Z"
    },
    "papermill": {
     "duration": 56.191741,
     "end_time": "2022-06-02T10:00:19.485921",
     "exception": false,
     "start_time": "2022-06-02T09:59:23.294180",
     "status": "completed"
    },
    "tags": []
   },
   "outputs": [
    {
     "data": {
      "application/vnd.jupyter.widget-view+json": {
       "model_id": "6be1c51c01334b8bb7435c0e096e25bf",
       "version_major": 2,
       "version_minor": 0
      },
      "text/plain": [
       "Downloading:   0%|          | 0.00/998 [00:00<?, ?B/s]"
      ]
     },
     "metadata": {},
     "output_type": "display_data"
    },
    {
     "data": {
      "application/vnd.jupyter.widget-view+json": {
       "model_id": "f14d2d23ef3c462c9b3aa60ba144b2f1",
       "version_major": 2,
       "version_minor": 0
      },
      "text/plain": [
       "Downloading:   0%|          | 0.00/1.24G [00:00<?, ?B/s]"
      ]
     },
     "metadata": {},
     "output_type": "display_data"
    },
    {
     "name": "stderr",
     "output_type": "stream",
     "text": [
      "Some weights of the model checkpoint at dbmdz/bert-large-cased-finetuned-conll03-english were not used when initializing BertModel: ['classifier.bias', 'classifier.weight']\n",
      "- This IS expected if you are initializing BertModel from the checkpoint of a model trained on another task or with another architecture (e.g. initializing a BertForSequenceClassification model from a BertForPreTraining model).\n",
      "- This IS NOT expected if you are initializing BertModel from the checkpoint of a model that you expect to be exactly identical (initializing a BertForSequenceClassification model from a BertForSequenceClassification model).\n"
     ]
    },
    {
     "data": {
      "application/vnd.jupyter.widget-view+json": {
       "model_id": "a05ae193646b49d38df9a784f1d54991",
       "version_major": 2,
       "version_minor": 0
      },
      "text/plain": [
       "Downloading:   0%|          | 0.00/60.0 [00:00<?, ?B/s]"
      ]
     },
     "metadata": {},
     "output_type": "display_data"
    },
    {
     "data": {
      "application/vnd.jupyter.widget-view+json": {
       "model_id": "4da4f437cbbe4e7099794399518e17d4",
       "version_major": 2,
       "version_minor": 0
      },
      "text/plain": [
       "Downloading:   0%|          | 0.00/208k [00:00<?, ?B/s]"
      ]
     },
     "metadata": {},
     "output_type": "display_data"
    }
   ],
   "source": [
    "model_name = \"dbmdz/bert-large-cased-finetuned-conll03-english\" \n",
    "model = AutoModel.from_pretrained(model_name)\n",
    "tokenizerr = AutoTokenizer.from_pretrained(model_name)\n"
   ]
  },
  {
   "cell_type": "markdown",
   "id": "3744bb8a",
   "metadata": {
    "papermill": {
     "duration": 0.07138,
     "end_time": "2022-06-02T10:00:19.628250",
     "exception": false,
     "start_time": "2022-06-02T10:00:19.556870",
     "status": "completed"
    },
    "tags": []
   },
   "source": [
    "**AutoTokenizer**"
   ]
  },
  {
   "cell_type": "markdown",
   "id": "78a88315",
   "metadata": {
    "papermill": {
     "duration": 0.078973,
     "end_time": "2022-06-02T10:00:19.776971",
     "exception": false,
     "start_time": "2022-06-02T10:00:19.697998",
     "status": "completed"
    },
    "tags": []
   },
   "source": [
    "*This is a generic tokenizer class that will be instantiated as one of the tokenizer classes of the library when created with the AutoTokenizer.from_pretrained() class method*"
   ]
  },
  {
   "cell_type": "code",
   "execution_count": 62,
   "id": "40f82a4a",
   "metadata": {
    "execution": {
     "iopub.execute_input": "2022-06-02T10:00:19.920893Z",
     "iopub.status.busy": "2022-06-02T10:00:19.920298Z",
     "iopub.status.idle": "2022-06-02T10:00:19.938169Z",
     "shell.execute_reply": "2022-06-02T10:00:19.937079Z"
    },
    "papermill": {
     "duration": 0.090529,
     "end_time": "2022-06-02T10:00:19.940652",
     "exception": false,
     "start_time": "2022-06-02T10:00:19.850123",
     "status": "completed"
    },
    "tags": []
   },
   "outputs": [],
   "source": [
    "tokens = tokenizerr(data[\"transcription_text\"][0], return_tensors=\"pt\")"
   ]
  },
  {
   "cell_type": "code",
   "execution_count": 63,
   "id": "b871358a",
   "metadata": {
    "execution": {
     "iopub.execute_input": "2022-06-02T10:00:20.173936Z",
     "iopub.status.busy": "2022-06-02T10:00:20.173382Z",
     "iopub.status.idle": "2022-06-02T10:00:24.745102Z",
     "shell.execute_reply": "2022-06-02T10:00:24.744409Z"
    },
    "papermill": {
     "duration": 4.691112,
     "end_time": "2022-06-02T10:00:24.746998",
     "exception": false,
     "start_time": "2022-06-02T10:00:20.055886",
     "status": "completed"
    },
    "tags": []
   },
   "outputs": [
    {
     "name": "stderr",
     "output_type": "stream",
     "text": [
      "2022-06-02 10:00:20.331838: I tensorflow/core/common_runtime/process_util.cc:146] Creating new thread pool with default inter op setting: 2. Tune using inter_op_parallelism_threads for best performance.\n"
     ]
    }
   ],
   "source": [
    "ner_pipe = pipeline(task='ner', model=model_name,tokenizer=tokenizerr)"
   ]
  },
  {
   "cell_type": "code",
   "execution_count": 64,
   "id": "6d77b4bb",
   "metadata": {
    "execution": {
     "iopub.execute_input": "2022-06-02T10:00:24.885659Z",
     "iopub.status.busy": "2022-06-02T10:00:24.884920Z",
     "iopub.status.idle": "2022-06-02T10:00:27.592942Z",
     "shell.execute_reply": "2022-06-02T10:00:27.592033Z"
    },
    "papermill": {
     "duration": 2.78025,
     "end_time": "2022-06-02T10:00:27.594427",
     "exception": false,
     "start_time": "2022-06-02T10:00:24.814177",
     "status": "completed"
    },
    "tags": []
   },
   "outputs": [
    {
     "data": {
      "text/plain": [
       "{'entity': 'I-PER',\n",
       " 'score': 0.9883646,\n",
       " 'index': 8,\n",
       " 'word': 'H',\n",
       " 'start': 16,\n",
       " 'end': 17}"
      ]
     },
     "execution_count": 64,
     "metadata": {},
     "output_type": "execute_result"
    }
   ],
   "source": [
    "L=[]\n",
    "for ent in ner_pipe(data[\"transcription_text\"][0]):\n",
    "    L.append(ent)\n",
    "L[1]"
   ]
  },
  {
   "cell_type": "markdown",
   "id": "0c2de3b1",
   "metadata": {
    "papermill": {
     "duration": 0.066493,
     "end_time": "2022-06-02T10:00:27.727389",
     "exception": false,
     "start_time": "2022-06-02T10:00:27.660896",
     "status": "completed"
    },
    "tags": []
   },
   "source": [
    "*thanks god (after 2hours of unsigned  error)*"
   ]
  },
  {
   "cell_type": "code",
   "execution_count": 65,
   "id": "0eed1402",
   "metadata": {
    "execution": {
     "iopub.execute_input": "2022-06-02T10:00:27.863548Z",
     "iopub.status.busy": "2022-06-02T10:00:27.863017Z",
     "iopub.status.idle": "2022-06-02T10:00:27.872102Z",
     "shell.execute_reply": "2022-06-02T10:00:27.871482Z"
    },
    "papermill": {
     "duration": 0.079449,
     "end_time": "2022-06-02T10:00:27.873716",
     "exception": false,
     "start_time": "2022-06-02T10:00:27.794267",
     "status": "completed"
    },
    "tags": []
   },
   "outputs": [],
   "source": [
    "Per=[]\n",
    "ORg=[]\n",
    "GPe=[]\n",
    "\n",
    "for i in range(50):\n",
    "    if ( L[i][\"entity\"]=='I-PER') | (L[i][\"entity\"]==\"B-PER\") | (L[i][\"entity\"]==\"O-PER\"):\n",
    "        Per.append(L[i][\"word\"]+\": PERSON\")\n",
    "    elif (L[i][\"entity\"]==\"I-LOC\")| (L[i][\"entity\"]==\"B-LOC\" )|( L[i][\"entity\"]==\"O-LOC\"):\n",
    "        GPe.append(L[i][\"word\"]+\": Location\")\n",
    "    elif (L[i][\"entity\"]==\"I-MISC\")| (L[i][\"entity\"]==\"B-MISC\") | (L[i][\"entity\"]==\"O-MISC\"):\n",
    "        ORg.append(L[i][\"word\"]+\": organization\")\n",
    "   "
   ]
  },
  {
   "cell_type": "markdown",
   "id": "326ae195",
   "metadata": {
    "papermill": {
     "duration": 0.066423,
     "end_time": "2022-06-02T10:00:28.007819",
     "exception": false,
     "start_time": "2022-06-02T10:00:27.941396",
     "status": "completed"
    },
    "tags": []
   },
   "source": [
    "****"
   ]
  },
  {
   "cell_type": "markdown",
   "id": "25c40ff3",
   "metadata": {
    "papermill": {
     "duration": 0.066105,
     "end_time": "2022-06-02T10:00:28.140573",
     "exception": false,
     "start_time": "2022-06-02T10:00:28.074468",
     "status": "completed"
    },
    "tags": []
   },
   "source": [
    "**trying other model ! it's getting better**"
   ]
  },
  {
   "cell_type": "code",
   "execution_count": 66,
   "id": "124c56c9",
   "metadata": {
    "execution": {
     "iopub.execute_input": "2022-06-02T10:00:28.276733Z",
     "iopub.status.busy": "2022-06-02T10:00:28.276162Z",
     "iopub.status.idle": "2022-06-02T10:00:48.103534Z",
     "shell.execute_reply": "2022-06-02T10:00:48.102881Z"
    },
    "papermill": {
     "duration": 19.897968,
     "end_time": "2022-06-02T10:00:48.105790",
     "exception": false,
     "start_time": "2022-06-02T10:00:28.207822",
     "status": "completed"
    },
    "tags": []
   },
   "outputs": [
    {
     "data": {
      "application/vnd.jupyter.widget-view+json": {
       "model_id": "5eb81d07311348ac9bd03fe5afd7dd6c",
       "version_major": 2,
       "version_minor": 0
      },
      "text/plain": [
       "Downloading:   0%|          | 0.00/1.23k [00:00<?, ?B/s]"
      ]
     },
     "metadata": {},
     "output_type": "display_data"
    },
    {
     "data": {
      "application/vnd.jupyter.widget-view+json": {
       "model_id": "e00bd0c7ea2245259b81b68e0702846c",
       "version_major": 2,
       "version_minor": 0
      },
      "text/plain": [
       "Downloading:   0%|          | 0.00/418M [00:00<?, ?B/s]"
      ]
     },
     "metadata": {},
     "output_type": "display_data"
    },
    {
     "data": {
      "application/vnd.jupyter.widget-view+json": {
       "model_id": "5717a3dfefef49f5938e9617fc91bba6",
       "version_major": 2,
       "version_minor": 0
      },
      "text/plain": [
       "Downloading:   0%|          | 0.00/39.0 [00:00<?, ?B/s]"
      ]
     },
     "metadata": {},
     "output_type": "display_data"
    },
    {
     "data": {
      "application/vnd.jupyter.widget-view+json": {
       "model_id": "33a710ad5a77448ba1911ffccc5dbf14",
       "version_major": 2,
       "version_minor": 0
      },
      "text/plain": [
       "Downloading:   0%|          | 0.00/226k [00:00<?, ?B/s]"
      ]
     },
     "metadata": {},
     "output_type": "display_data"
    },
    {
     "data": {
      "application/vnd.jupyter.widget-view+json": {
       "model_id": "b338dd42cf104904a7f38ec5ba19a0d7",
       "version_major": 2,
       "version_minor": 0
      },
      "text/plain": [
       "Downloading:   0%|          | 0.00/112 [00:00<?, ?B/s]"
      ]
     },
     "metadata": {},
     "output_type": "display_data"
    }
   ],
   "source": [
    "pipe = pipeline(task='ner', model=\"dslim/bert-base-NER-uncased\")"
   ]
  },
  {
   "cell_type": "code",
   "execution_count": 67,
   "id": "6d44dbc0",
   "metadata": {
    "execution": {
     "iopub.execute_input": "2022-06-02T10:00:48.245732Z",
     "iopub.status.busy": "2022-06-02T10:00:48.244806Z",
     "iopub.status.idle": "2022-06-02T10:00:48.946490Z",
     "shell.execute_reply": "2022-06-02T10:00:48.945719Z"
    },
    "papermill": {
     "duration": 0.773248,
     "end_time": "2022-06-02T10:00:48.948536",
     "exception": false,
     "start_time": "2022-06-02T10:00:48.175288",
     "status": "completed"
    },
    "tags": []
   },
   "outputs": [
    {
     "data": {
      "text/plain": [
       "42"
      ]
     },
     "execution_count": 67,
     "metadata": {},
     "output_type": "execute_result"
    }
   ],
   "source": [
    "L2=[]\n",
    "for ent in pipe(data[\"transcription_text\"][0]):\n",
    "    L2.append(ent)\n",
    "len(L2)"
   ]
  },
  {
   "cell_type": "code",
   "execution_count": 68,
   "id": "ed1a7a6d",
   "metadata": {
    "execution": {
     "iopub.execute_input": "2022-06-02T10:00:49.086456Z",
     "iopub.status.busy": "2022-06-02T10:00:49.085909Z",
     "iopub.status.idle": "2022-06-02T10:00:49.094389Z",
     "shell.execute_reply": "2022-06-02T10:00:49.093822Z"
    },
    "papermill": {
     "duration": 0.080094,
     "end_time": "2022-06-02T10:00:49.096494",
     "exception": false,
     "start_time": "2022-06-02T10:00:49.016400",
     "status": "completed"
    },
    "tags": []
   },
   "outputs": [],
   "source": [
    "Per=[]\n",
    "ORg=[]\n",
    "GPe=[]\n",
    "\n",
    "for i in range(42):\n",
    "    if ( L2[i][\"entity\"]=='I-PER') | (L2[i][\"entity\"]==\"B-PER\") | (L2[i][\"entity\"]==\"O-PER\"):\n",
    "        Per.append(L2[i][\"word\"]+\": PERSON\")\n",
    "    elif (L2[i][\"entity\"]==\"I-LOC\")| (L2[i][\"entity\"]==\"B-LOC\" )|( L2[i][\"entity\"]==\"O-LOC\"):\n",
    "        GPe.append(L2[i][\"word\"]+\": Location\")\n",
    "    elif (L2[i][\"entity\"]==\"I-MISC\")| (L2[i][\"entity\"]==\"B-MISC\") | (L2[i][\"entity\"]==\"O-MISC\"):\n",
    "        ORg.append(L2[i][\"word\"]+\": organization\")"
   ]
  },
  {
   "cell_type": "markdown",
   "id": "fc58b75e",
   "metadata": {
    "papermill": {
     "duration": 0.066899,
     "end_time": "2022-06-02T10:00:49.231612",
     "exception": false,
     "start_time": "2022-06-02T10:00:49.164713",
     "status": "completed"
    },
    "tags": []
   },
   "source": [
    "****"
   ]
  },
  {
   "cell_type": "markdown",
   "id": "0d99e89c",
   "metadata": {
    "papermill": {
     "duration": 0.068194,
     "end_time": "2022-06-02T10:00:49.367244",
     "exception": false,
     "start_time": "2022-06-02T10:00:49.299050",
     "status": "completed"
    },
    "tags": []
   },
   "source": [
    "****"
   ]
  },
  {
   "cell_type": "markdown",
   "id": "7b5a2b3d",
   "metadata": {
    "papermill": {
     "duration": 0.067643,
     "end_time": "2022-06-02T10:00:49.503211",
     "exception": false,
     "start_time": "2022-06-02T10:00:49.435568",
     "status": "completed"
    },
    "tags": []
   },
   "source": [
    "# Spacy with lg model"
   ]
  },
  {
   "cell_type": "code",
   "execution_count": 69,
   "id": "8f20a8d4",
   "metadata": {
    "execution": {
     "iopub.execute_input": "2022-06-02T10:00:49.639824Z",
     "iopub.status.busy": "2022-06-02T10:00:49.639443Z",
     "iopub.status.idle": "2022-06-02T10:00:55.817369Z",
     "shell.execute_reply": "2022-06-02T10:00:55.816298Z"
    },
    "papermill": {
     "duration": 6.248603,
     "end_time": "2022-06-02T10:00:55.819691",
     "exception": false,
     "start_time": "2022-06-02T10:00:49.571088",
     "status": "completed"
    },
    "tags": []
   },
   "outputs": [],
   "source": [
    "import spacy\n",
    "from spacy import displacy\n",
    "import en_core_web_lg\n",
    "import en_core_web_sm\n",
    "nlp1 = en_core_web_lg.load()"
   ]
  },
  {
   "cell_type": "code",
   "execution_count": 70,
   "id": "70ed8c5b",
   "metadata": {
    "execution": {
     "iopub.execute_input": "2022-06-02T10:00:56.015364Z",
     "iopub.status.busy": "2022-06-02T10:00:56.014965Z",
     "iopub.status.idle": "2022-06-02T10:00:56.021413Z",
     "shell.execute_reply": "2022-06-02T10:00:56.020633Z"
    },
    "papermill": {
     "duration": 0.12359,
     "end_time": "2022-06-02T10:00:56.023433",
     "exception": false,
     "start_time": "2022-06-02T10:00:55.899843",
     "status": "completed"
    },
    "tags": []
   },
   "outputs": [],
   "source": [
    "L1=[]\n",
    "def NER3 (txt):\n",
    "    for i in range(20):\n",
    "        textt =  nlp1(txt[i])\n",
    "        L1.append([(word.text, word.start_char, word.end_char, word.label_,spacy.explain(word.label_)) for word in textt.ents])"
   ]
  },
  {
   "cell_type": "code",
   "execution_count": 71,
   "id": "cf790f0b",
   "metadata": {
    "execution": {
     "iopub.execute_input": "2022-06-02T10:00:56.246363Z",
     "iopub.status.busy": "2022-06-02T10:00:56.245485Z",
     "iopub.status.idle": "2022-06-02T10:00:56.792798Z",
     "shell.execute_reply": "2022-06-02T10:00:56.791399Z"
    },
    "papermill": {
     "duration": 0.65883,
     "end_time": "2022-06-02T10:00:56.795510",
     "exception": false,
     "start_time": "2022-06-02T10:00:56.136680",
     "status": "completed"
    },
    "tags": []
   },
   "outputs": [],
   "source": [
    "NER3(data[\"transcription_text\"])"
   ]
  },
  {
   "cell_type": "code",
   "execution_count": 72,
   "id": "56e6c9fa",
   "metadata": {
    "execution": {
     "iopub.execute_input": "2022-06-02T10:00:57.026549Z",
     "iopub.status.busy": "2022-06-02T10:00:57.026221Z",
     "iopub.status.idle": "2022-06-02T10:00:57.055533Z",
     "shell.execute_reply": "2022-06-02T10:00:57.054939Z"
    },
    "papermill": {
     "duration": 0.147002,
     "end_time": "2022-06-02T10:00:57.057405",
     "exception": false,
     "start_time": "2022-06-02T10:00:56.910403",
     "status": "completed"
    },
    "tags": []
   },
   "outputs": [
    {
     "data": {
      "text/html": [
       "<div>\n",
       "<style scoped>\n",
       "    .dataframe tbody tr th:only-of-type {\n",
       "        vertical-align: middle;\n",
       "    }\n",
       "\n",
       "    .dataframe tbody tr th {\n",
       "        vertical-align: top;\n",
       "    }\n",
       "\n",
       "    .dataframe thead th {\n",
       "        text-align: right;\n",
       "    }\n",
       "</style>\n",
       "<table border=\"1\" class=\"dataframe\">\n",
       "  <thead>\n",
       "    <tr style=\"text-align: right;\">\n",
       "      <th></th>\n",
       "      <th>entities</th>\n",
       "      <th>start_char</th>\n",
       "      <th>end_char</th>\n",
       "      <th>label</th>\n",
       "      <th>explain</th>\n",
       "      <th>frequency</th>\n",
       "    </tr>\n",
       "  </thead>\n",
       "  <tbody>\n",
       "    <tr>\n",
       "      <th>0</th>\n",
       "      <td>8</td>\n",
       "      <td>0</td>\n",
       "      <td>1</td>\n",
       "      <td>CARDINAL</td>\n",
       "      <td>Numerals that do not fall under another type</td>\n",
       "      <td></td>\n",
       "    </tr>\n",
       "    <tr>\n",
       "      <th>1</th>\n",
       "      <td>Anne H Elliott</td>\n",
       "      <td>11</td>\n",
       "      <td>25</td>\n",
       "      <td>PERSON</td>\n",
       "      <td>People, including fictional</td>\n",
       "      <td></td>\n",
       "    </tr>\n",
       "    <tr>\n",
       "      <th>2</th>\n",
       "      <td>Amnesty</td>\n",
       "      <td>54</td>\n",
       "      <td>61</td>\n",
       "      <td>PERSON</td>\n",
       "      <td>People, including fictional</td>\n",
       "      <td></td>\n",
       "    </tr>\n",
       "    <tr>\n",
       "      <th>3</th>\n",
       "      <td>Andrew Johnson</td>\n",
       "      <td>82</td>\n",
       "      <td>96</td>\n",
       "      <td>PERSON</td>\n",
       "      <td>People, including fictional</td>\n",
       "      <td></td>\n",
       "    </tr>\n",
       "    <tr>\n",
       "      <th>4</th>\n",
       "      <td>United States of America</td>\n",
       "      <td>110</td>\n",
       "      <td>134</td>\n",
       "      <td>GPE</td>\n",
       "      <td>Countries, cities, states</td>\n",
       "      <td></td>\n",
       "    </tr>\n",
       "  </tbody>\n",
       "</table>\n",
       "</div>"
      ],
      "text/plain": [
       "                   entities  start_char  end_char     label  \\\n",
       "0                         8           0         1  CARDINAL   \n",
       "1            Anne H Elliott          11        25    PERSON   \n",
       "2                   Amnesty          54        61    PERSON   \n",
       "3            Andrew Johnson          82        96    PERSON   \n",
       "4  United States of America         110       134       GPE   \n",
       "\n",
       "                                        explain frequency  \n",
       "0  Numerals that do not fall under another type            \n",
       "1                   People, including fictional            \n",
       "2                   People, including fictional            \n",
       "3                   People, including fictional            \n",
       "4                     Countries, cities, states            "
      ]
     },
     "execution_count": 72,
     "metadata": {},
     "output_type": "execute_result"
    }
   ],
   "source": [
    "l0=[]\n",
    "l1=[]\n",
    "l2=[]\n",
    "l3=[]\n",
    "l4=[]\n",
    "l5=[]\n",
    "for i in range(len(L1)):\n",
    "    for j in range(len(L1[i])):\n",
    "        l0.append(L1[i][j][0])\n",
    "        l2.append(L1[i][j][1])\n",
    "        l3.append(L1[i][j][2])\n",
    "        l4.append(L1[i][j][3])\n",
    "        l5.append(L1[i][j][4])\n",
    "        \n",
    "df3=pd.DataFrame({\"entities\":l0,\"start_char\":l2,\"end_char\":l3 ,\"label\": l4, \"explain\": l5, \"frequency\":\"\"})\n",
    "df3.head()"
   ]
  },
  {
   "cell_type": "code",
   "execution_count": 73,
   "id": "784403b7",
   "metadata": {
    "execution": {
     "iopub.execute_input": "2022-06-02T10:00:57.287215Z",
     "iopub.status.busy": "2022-06-02T10:00:57.286662Z",
     "iopub.status.idle": "2022-06-02T10:00:57.309463Z",
     "shell.execute_reply": "2022-06-02T10:00:57.308832Z"
    },
    "papermill": {
     "duration": 0.140143,
     "end_time": "2022-06-02T10:00:57.311619",
     "exception": false,
     "start_time": "2022-06-02T10:00:57.171476",
     "status": "completed"
    },
    "tags": []
   },
   "outputs": [],
   "source": [
    "Person1=[]\n",
    "ORG1=[]\n",
    "DATE1=[]\n",
    "GPE1=[]\n",
    "\n",
    "for i in range(df1.shape[0]):\n",
    "    if df3.label.loc[i]==\"PERSON\":\n",
    "        Person1.append(df3.entities.loc[i]+\": PERSON\")\n",
    "    elif df3.label.loc[i]==\"ORG\" :\n",
    "        ORG1.append(df3.entities.loc[i]+\": ORG\")\n",
    "    elif df3.label.loc[i]==\"DATE\" :\n",
    "        DATE1.append(df3.entities.loc[i]+\": DATE\")\n",
    "    elif df3.label.loc[i]==\"GPE\" :\n",
    "        GPE1.append(df3.entities.loc[i]+\": GPE\")"
   ]
  },
  {
   "cell_type": "code",
   "execution_count": 74,
   "id": "a1ff93bf",
   "metadata": {
    "execution": {
     "iopub.execute_input": "2022-06-02T10:00:57.546090Z",
     "iopub.status.busy": "2022-06-02T10:00:57.545497Z",
     "iopub.status.idle": "2022-06-02T10:00:57.549249Z",
     "shell.execute_reply": "2022-06-02T10:00:57.548743Z"
    },
    "papermill": {
     "duration": 0.124216,
     "end_time": "2022-06-02T10:00:57.551616",
     "exception": false,
     "start_time": "2022-06-02T10:00:57.427400",
     "status": "completed"
    },
    "tags": []
   },
   "outputs": [],
   "source": [
    "GPE1=np.array(GPE1)\n",
    "ORG1=np.array(ORG1)\n",
    "Person1=np.array(Person1)\n",
    "DATE1=np.array(DATE1)\n"
   ]
  },
  {
   "cell_type": "code",
   "execution_count": 75,
   "id": "7248027b",
   "metadata": {
    "execution": {
     "iopub.execute_input": "2022-06-02T10:00:57.781695Z",
     "iopub.status.busy": "2022-06-02T10:00:57.781102Z",
     "iopub.status.idle": "2022-06-02T10:00:57.785894Z",
     "shell.execute_reply": "2022-06-02T10:00:57.785171Z"
    },
    "papermill": {
     "duration": 0.121433,
     "end_time": "2022-06-02T10:00:57.787968",
     "exception": false,
     "start_time": "2022-06-02T10:00:57.666535",
     "status": "completed"
    },
    "tags": []
   },
   "outputs": [
    {
     "name": "stdout",
     "output_type": "stream",
     "text": [
      "9\n"
     ]
    }
   ],
   "source": [
    "nb=0\n",
    "for i in range(47):\n",
    "    if GPE[i] ==GPE1[i]:\n",
    "        nb=nb+1\n",
    "print(nb)"
   ]
  },
  {
   "cell_type": "markdown",
   "id": "f7848c78",
   "metadata": {
    "papermill": {
     "duration": 0.113681,
     "end_time": "2022-06-02T10:00:58.108411",
     "exception": false,
     "start_time": "2022-06-02T10:00:57.994730",
     "status": "completed"
    },
    "tags": []
   },
   "source": [
    "****"
   ]
  },
  {
   "cell_type": "markdown",
   "id": "bb0142b1",
   "metadata": {
    "papermill": {
     "duration": 0.114384,
     "end_time": "2022-06-02T10:00:58.337143",
     "exception": false,
     "start_time": "2022-06-02T10:00:58.222759",
     "status": "completed"
    },
    "tags": []
   },
   "source": [
    "# Flair"
   ]
  },
  {
   "cell_type": "code",
   "execution_count": 76,
   "id": "43d56d30",
   "metadata": {
    "execution": {
     "iopub.execute_input": "2022-06-02T10:00:58.569719Z",
     "iopub.status.busy": "2022-06-02T10:00:58.569173Z",
     "iopub.status.idle": "2022-06-02T10:02:13.903483Z",
     "shell.execute_reply": "2022-06-02T10:02:13.902479Z"
    },
    "papermill": {
     "duration": 75.453758,
     "end_time": "2022-06-02T10:02:13.905975",
     "exception": false,
     "start_time": "2022-06-02T10:00:58.452217",
     "status": "completed"
    },
    "tags": []
   },
   "outputs": [
    {
     "name": "stdout",
     "output_type": "stream",
     "text": [
      "huggingface/tokenizers: The current process just got forked, after parallelism has already been used. Disabling parallelism to avoid deadlocks...\n",
      "To disable this warning, you can either:\n",
      "\t- Avoid using `tokenizers` before the fork if possible\n",
      "\t- Explicitly set the environment variable TOKENIZERS_PARALLELISM=(true | false)\n",
      "Collecting flair\r\n",
      "  Downloading flair-0.11.3-py3-none-any.whl (401 kB)\r\n",
      "\u001b[2K     \u001b[90m━━━━━━━━━━━━━━━━━━━━━━━━━━━━━━━━━━━━━━━\u001b[0m \u001b[32m401.9/401.9 kB\u001b[0m \u001b[31m6.2 MB/s\u001b[0m eta \u001b[36m0:00:00\u001b[0m\r\n",
      "\u001b[?25hRequirement already satisfied: matplotlib>=2.2.3 in /opt/conda/lib/python3.7/site-packages (from flair) (3.5.2)\r\n",
      "Collecting mpld3==0.3\r\n",
      "  Downloading mpld3-0.3.tar.gz (788 kB)\r\n",
      "\u001b[2K     \u001b[90m━━━━━━━━━━━━━━━━━━━━━━━━━━━━━━━━━━━━━━\u001b[0m \u001b[32m788.5/788.5 kB\u001b[0m \u001b[31m24.4 MB/s\u001b[0m eta \u001b[36m0:00:00\u001b[0m\r\n",
      "\u001b[?25h  Preparing metadata (setup.py) ... \u001b[?25l-\b \bdone\r\n",
      "\u001b[?25hCollecting sqlitedict>=1.6.0\r\n",
      "  Downloading sqlitedict-2.0.0.tar.gz (46 kB)\r\n",
      "\u001b[2K     \u001b[90m━━━━━━━━━━━━━━━━━━━━━━━━━━━━━━━━━━━━━━━━\u001b[0m \u001b[32m46.3/46.3 kB\u001b[0m \u001b[31m3.9 MB/s\u001b[0m eta \u001b[36m0:00:00\u001b[0m\r\n",
      "\u001b[?25h  Preparing metadata (setup.py) ... \u001b[?25l-\b \bdone\r\n",
      "\u001b[?25hCollecting torch!=1.8,>=1.5.0\r\n",
      "  Downloading torch-1.11.0-cp37-cp37m-manylinux1_x86_64.whl (750.6 MB)\r\n",
      "\u001b[2K     \u001b[90m━━━━━━━━━━━━━━━━━━━━━━━━━━━━━━━━━━━━━━━\u001b[0m \u001b[32m750.6/750.6 MB\u001b[0m \u001b[31m1.3 MB/s\u001b[0m eta \u001b[36m0:00:00\u001b[0m\r\n",
      "\u001b[?25hCollecting pptree\r\n",
      "  Downloading pptree-3.1.tar.gz (3.0 kB)\r\n",
      "  Preparing metadata (setup.py) ... \u001b[?25l-\b \bdone\r\n",
      "\u001b[?25hRequirement already satisfied: regex in /opt/conda/lib/python3.7/site-packages (from flair) (2021.11.10)\r\n",
      "Requirement already satisfied: scikit-learn>=0.21.3 in /opt/conda/lib/python3.7/site-packages (from flair) (1.0.2)\r\n",
      "Collecting langdetect\r\n",
      "  Downloading langdetect-1.0.9.tar.gz (981 kB)\r\n",
      "\u001b[2K     \u001b[90m━━━━━━━━━━━━━━━━━━━━━━━━━━━━━━━━━━━━━━\u001b[0m \u001b[32m981.5/981.5 kB\u001b[0m \u001b[31m48.4 MB/s\u001b[0m eta \u001b[36m0:00:00\u001b[0m\r\n",
      "\u001b[?25h  Preparing metadata (setup.py) ... \u001b[?25l-\b \bdone\r\n",
      "\u001b[?25hCollecting segtok>=1.5.7\r\n",
      "  Downloading segtok-1.5.11-py3-none-any.whl (24 kB)\r\n",
      "Requirement already satisfied: gensim>=3.4.0 in /opt/conda/lib/python3.7/site-packages (from flair) (4.0.1)\r\n",
      "Collecting wikipedia-api\r\n",
      "  Downloading Wikipedia-API-0.5.4.tar.gz (18 kB)\r\n",
      "  Preparing metadata (setup.py) ... \u001b[?25l-\b \bdone\r\n",
      "\u001b[?25hRequirement already satisfied: tabulate in /opt/conda/lib/python3.7/site-packages (from flair) (0.8.9)\r\n",
      "Collecting deprecated>=1.2.4\r\n",
      "  Downloading Deprecated-1.2.13-py2.py3-none-any.whl (9.6 kB)\r\n",
      "Requirement already satisfied: transformers>=4.0.0 in /opt/conda/lib/python3.7/site-packages (from flair) (4.19.2)\r\n",
      "Collecting conllu>=4.0\r\n",
      "  Downloading conllu-4.4.2-py2.py3-none-any.whl (15 kB)\r\n",
      "Requirement already satisfied: huggingface-hub in /opt/conda/lib/python3.7/site-packages (from flair) (0.5.1)\r\n",
      "Collecting bpemb>=0.3.2\r\n",
      "  Downloading bpemb-0.3.3-py3-none-any.whl (19 kB)\r\n",
      "Requirement already satisfied: more-itertools in /opt/conda/lib/python3.7/site-packages (from flair) (8.13.0)\r\n",
      "Collecting konoha<5.0.0,>=4.0.0\r\n",
      "  Downloading konoha-4.6.5-py3-none-any.whl (20 kB)\r\n",
      "Requirement already satisfied: tqdm>=4.26.0 in /opt/conda/lib/python3.7/site-packages (from flair) (4.64.0)\r\n",
      "Requirement already satisfied: lxml in /opt/conda/lib/python3.7/site-packages (from flair) (4.8.0)\r\n",
      "Requirement already satisfied: python-dateutil>=2.6.1 in /opt/conda/lib/python3.7/site-packages (from flair) (2.8.2)\r\n",
      "Requirement already satisfied: hyperopt>=0.2.7 in /opt/conda/lib/python3.7/site-packages (from flair) (0.2.7)\r\n",
      "Collecting ftfy\r\n",
      "  Downloading ftfy-6.1.1-py3-none-any.whl (53 kB)\r\n",
      "\u001b[2K     \u001b[90m━━━━━━━━━━━━━━━━━━━━━━━━━━━━━━━━━━━━━━━━\u001b[0m \u001b[32m53.1/53.1 kB\u001b[0m \u001b[31m4.0 MB/s\u001b[0m eta \u001b[36m0:00:00\u001b[0m\r\n",
      "\u001b[?25hCollecting gdown==4.4.0\r\n",
      "  Downloading gdown-4.4.0.tar.gz (14 kB)\r\n",
      "  Installing build dependencies ... \u001b[?25l-\b \b\\\b \b|\b \b/\b \b-\b \bdone\r\n",
      "\u001b[?25h  Getting requirements to build wheel ... \u001b[?25l-\b \b\\\b \b|\b \b/\b \b-\b \bdone\r\n",
      "\u001b[?25h  Preparing metadata (pyproject.toml) ... \u001b[?25l-\b \b\\\b \b|\b \b/\b \b-\b \b\\\b \b|\b \bdone\r\n",
      "\u001b[?25hRequirement already satisfied: janome in /opt/conda/lib/python3.7/site-packages (from flair) (0.4.2)\r\n",
      "Collecting sentencepiece==0.1.95\r\n",
      "  Downloading sentencepiece-0.1.95-cp37-cp37m-manylinux2014_x86_64.whl (1.2 MB)\r\n",
      "\u001b[2K     \u001b[90m━━━━━━━━━━━━━━━━━━━━━━━━━━━━━━━━━━━━━━━━\u001b[0m \u001b[32m1.2/1.2 MB\u001b[0m \u001b[31m53.4 MB/s\u001b[0m eta \u001b[36m0:00:00\u001b[0m\r\n",
      "\u001b[?25hRequirement already satisfied: beautifulsoup4 in /opt/conda/lib/python3.7/site-packages (from gdown==4.4.0->flair) (4.11.1)\r\n",
      "Requirement already satisfied: filelock in /opt/conda/lib/python3.7/site-packages (from gdown==4.4.0->flair) (3.6.0)\r\n",
      "Requirement already satisfied: requests[socks] in /opt/conda/lib/python3.7/site-packages (from gdown==4.4.0->flair) (2.27.1)\r\n",
      "Requirement already satisfied: six in /opt/conda/lib/python3.7/site-packages (from gdown==4.4.0->flair) (1.16.0)\r\n",
      "Requirement already satisfied: numpy in /opt/conda/lib/python3.7/site-packages (from bpemb>=0.3.2->flair) (1.21.6)\r\n",
      "Requirement already satisfied: wrapt<2,>=1.10 in /opt/conda/lib/python3.7/site-packages (from deprecated>=1.2.4->flair) (1.14.1)\r\n",
      "Requirement already satisfied: scipy>=0.18.1 in /opt/conda/lib/python3.7/site-packages (from gensim>=3.4.0->flair) (1.7.3)\r\n",
      "Requirement already satisfied: smart-open>=1.8.1 in /opt/conda/lib/python3.7/site-packages (from gensim>=3.4.0->flair) (5.2.1)\r\n",
      "Requirement already satisfied: cloudpickle in /opt/conda/lib/python3.7/site-packages (from hyperopt>=0.2.7->flair) (2.0.0)\r\n",
      "Requirement already satisfied: future in /opt/conda/lib/python3.7/site-packages (from hyperopt>=0.2.7->flair) (0.18.2)\r\n",
      "Requirement already satisfied: networkx>=2.2 in /opt/conda/lib/python3.7/site-packages (from hyperopt>=0.2.7->flair) (2.5)\r\n",
      "Requirement already satisfied: py4j in /opt/conda/lib/python3.7/site-packages (from hyperopt>=0.2.7->flair) (0.10.9.5)\r\n",
      "Collecting importlib-metadata<4.0.0,>=3.7.0\r\n",
      "  Downloading importlib_metadata-3.10.1-py3-none-any.whl (14 kB)\r\n",
      "Collecting overrides<4.0.0,>=3.0.0\r\n",
      "  Downloading overrides-3.1.0.tar.gz (11 kB)\r\n",
      "  Preparing metadata (setup.py) ... \u001b[?25l-\b \bdone\r\n",
      "\u001b[?25hRequirement already satisfied: kiwisolver>=1.0.1 in /opt/conda/lib/python3.7/site-packages (from matplotlib>=2.2.3->flair) (1.4.2)\r\n",
      "Requirement already satisfied: fonttools>=4.22.0 in /opt/conda/lib/python3.7/site-packages (from matplotlib>=2.2.3->flair) (4.33.3)\r\n",
      "Requirement already satisfied: pillow>=6.2.0 in /opt/conda/lib/python3.7/site-packages (from matplotlib>=2.2.3->flair) (9.1.0)\r\n",
      "Requirement already satisfied: cycler>=0.10 in /opt/conda/lib/python3.7/site-packages (from matplotlib>=2.2.3->flair) (0.11.0)\r\n",
      "Requirement already satisfied: pyparsing>=2.2.1 in /opt/conda/lib/python3.7/site-packages (from matplotlib>=2.2.3->flair) (3.0.9)\r\n",
      "Requirement already satisfied: packaging>=20.0 in /opt/conda/lib/python3.7/site-packages (from matplotlib>=2.2.3->flair) (21.3)\r\n",
      "Requirement already satisfied: threadpoolctl>=2.0.0 in /opt/conda/lib/python3.7/site-packages (from scikit-learn>=0.21.3->flair) (3.1.0)\r\n",
      "Requirement already satisfied: joblib>=0.11 in /opt/conda/lib/python3.7/site-packages (from scikit-learn>=0.21.3->flair) (1.1.0)\r\n",
      "Requirement already satisfied: typing-extensions in /opt/conda/lib/python3.7/site-packages (from torch!=1.8,>=1.5.0->flair) (4.2.0)\r\n",
      "Requirement already satisfied: pyyaml>=5.1 in /opt/conda/lib/python3.7/site-packages (from transformers>=4.0.0->flair) (6.0)\r\n",
      "Requirement already satisfied: tokenizers!=0.11.3,<0.13,>=0.11.1 in /opt/conda/lib/python3.7/site-packages (from transformers>=4.0.0->flair) (0.12.1)\r\n",
      "Requirement already satisfied: wcwidth>=0.2.5 in /opt/conda/lib/python3.7/site-packages (from ftfy->flair) (0.2.5)\r\n",
      "Requirement already satisfied: zipp>=0.5 in /opt/conda/lib/python3.7/site-packages (from importlib-metadata<4.0.0,>=3.7.0->konoha<5.0.0,>=4.0.0->flair) (3.8.0)\r\n",
      "Requirement already satisfied: decorator>=4.3.0 in /opt/conda/lib/python3.7/site-packages (from networkx>=2.2->hyperopt>=0.2.7->flair) (5.1.1)\r\n",
      "Requirement already satisfied: urllib3<1.27,>=1.21.1 in /opt/conda/lib/python3.7/site-packages (from requests[socks]->gdown==4.4.0->flair) (1.26.9)\r\n",
      "Requirement already satisfied: certifi>=2017.4.17 in /opt/conda/lib/python3.7/site-packages (from requests[socks]->gdown==4.4.0->flair) (2022.5.18.1)\r\n",
      "Requirement already satisfied: idna<4,>=2.5 in /opt/conda/lib/python3.7/site-packages (from requests[socks]->gdown==4.4.0->flair) (3.3)\r\n",
      "Requirement already satisfied: charset-normalizer~=2.0.0 in /opt/conda/lib/python3.7/site-packages (from requests[socks]->gdown==4.4.0->flair) (2.0.12)\r\n",
      "Requirement already satisfied: soupsieve>1.2 in /opt/conda/lib/python3.7/site-packages (from beautifulsoup4->gdown==4.4.0->flair) (2.3.1)\r\n",
      "Requirement already satisfied: PySocks!=1.5.7,>=1.5.6 in /opt/conda/lib/python3.7/site-packages (from requests[socks]->gdown==4.4.0->flair) (1.7.1)\r\n",
      "Building wheels for collected packages: gdown, mpld3, sqlitedict, langdetect, pptree, wikipedia-api, overrides\r\n",
      "  Building wheel for gdown (pyproject.toml) ... \u001b[?25l-\b \b\\\b \b|\b \b/\b \b-\b \b\\\b \b|\b \bdone\r\n",
      "\u001b[?25h  Created wheel for gdown: filename=gdown-4.4.0-py3-none-any.whl size=14759 sha256=0a2a6397a461af0818d1f9250e8f359825b0ee52f6d44bf3982631bdc7b438e1\r\n",
      "  Stored in directory: /root/.cache/pip/wheels/fb/c3/0e/c4d8ff8bfcb0461afff199471449f642179b74968c15b7a69c\r\n",
      "  Building wheel for mpld3 (setup.py) ... \u001b[?25l-\b \b\\\b \bdone\r\n",
      "\u001b[?25h  Created wheel for mpld3: filename=mpld3-0.3-py3-none-any.whl size=116702 sha256=c595b7229fd089dbd74ae40c7ebf626175a387459534ee250789419078f968c9\r\n",
      "  Stored in directory: /root/.cache/pip/wheels/26/70/6a/1c79e59951a41b4045497da187b2724f5659ca64033cf4548e\r\n",
      "  Building wheel for sqlitedict (setup.py) ... \u001b[?25l-\b \bdone\r\n",
      "\u001b[?25h  Created wheel for sqlitedict: filename=sqlitedict-2.0.0-py3-none-any.whl size=15736 sha256=65913064a56d3975cf776174d655baf1d6c570ebfa319243030d4f5c9fd2ab61\r\n",
      "  Stored in directory: /root/.cache/pip/wheels/96/dd/2e/0ed4a25cb73fc30c7ea8d10b50acb7226175736067e40a7ea3\r\n",
      "  Building wheel for langdetect (setup.py) ... \u001b[?25l-\b \b\\\b \b|\b \b/\b \bdone\r\n",
      "\u001b[?25h  Created wheel for langdetect: filename=langdetect-1.0.9-py3-none-any.whl size=993242 sha256=5a5cf3662a1753971de9156b53307a2d95161f7b6aa3092ac5af64a61911f2b1\r\n",
      "  Stored in directory: /root/.cache/pip/wheels/c5/96/8a/f90c59ed25d75e50a8c10a1b1c2d4c402e4dacfa87f3aff36a\r\n",
      "  Building wheel for pptree (setup.py) ... \u001b[?25l-\b \bdone\r\n",
      "\u001b[?25h  Created wheel for pptree: filename=pptree-3.1-py3-none-any.whl size=4629 sha256=64d9b6614c1a14655e7abf5958c18322a953d6128dfa32a0cf4bec50e174ffa2\r\n",
      "  Stored in directory: /root/.cache/pip/wheels/9e/e8/7d/a9c3c19b4722608a0d8b05a38c36bc3f230c43becd2a46794b\r\n",
      "  Building wheel for wikipedia-api (setup.py) ... \u001b[?25l-\b \bdone\r\n",
      "\u001b[?25h  Created wheel for wikipedia-api: filename=Wikipedia_API-0.5.4-py3-none-any.whl size=13477 sha256=8090d0fb572f5517c3b2567e98dea3267d3ecc8862d0d2c839e514cf8434c106\r\n",
      "  Stored in directory: /root/.cache/pip/wheels/d3/24/56/58ba93cf78be162451144e7a9889603f437976ef1ae7013d04\r\n",
      "  Building wheel for overrides (setup.py) ... \u001b[?25l-\b \bdone\r\n",
      "\u001b[?25h  Created wheel for overrides: filename=overrides-3.1.0-py3-none-any.whl size=10187 sha256=3ecfe41d9653409cf1ce80ad811f77e3d073e881fda71ecf770b5a1bda949297\r\n",
      "  Stored in directory: /root/.cache/pip/wheels/3a/0d/38/01a9bc6e20dcfaf0a6a7b552d03137558ba1c38aea47644682\r\n",
      "Successfully built gdown mpld3 sqlitedict langdetect pptree wikipedia-api overrides\r\n",
      "Installing collected packages: sqlitedict, sentencepiece, pptree, overrides, mpld3, torch, segtok, langdetect, importlib-metadata, ftfy, deprecated, conllu, wikipedia-api, konoha, gdown, bpemb, flair\r\n",
      "  Attempting uninstall: sentencepiece\r\n",
      "    Found existing installation: sentencepiece 0.1.96\r\n",
      "    Uninstalling sentencepiece-0.1.96:\r\n",
      "      Successfully uninstalled sentencepiece-0.1.96\r\n",
      "  Attempting uninstall: overrides\r\n",
      "    Found existing installation: overrides 6.1.0\r\n",
      "    Uninstalling overrides-6.1.0:\r\n",
      "      Successfully uninstalled overrides-6.1.0\r\n",
      "  Attempting uninstall: mpld3\r\n",
      "    Found existing installation: mpld3 0.5.7\r\n",
      "    Uninstalling mpld3-0.5.7:\r\n",
      "      Successfully uninstalled mpld3-0.5.7\r\n",
      "  Attempting uninstall: torch\r\n",
      "    Found existing installation: torch 1.4.0\r\n",
      "    Uninstalling torch-1.4.0:\r\n",
      "      Successfully uninstalled torch-1.4.0\r\n",
      "  Attempting uninstall: importlib-metadata\r\n",
      "    Found existing installation: importlib-metadata 4.11.4\r\n",
      "    Uninstalling importlib-metadata-4.11.4:\r\n",
      "      Successfully uninstalled importlib-metadata-4.11.4\r\n",
      "\u001b[31mERROR: pip's dependency resolver does not currently take into account all the packages that are installed. This behaviour is the source of the following dependency conflicts.\r\n",
      "markdown 3.3.7 requires importlib-metadata>=4.4; python_version < \"3.10\", but you have importlib-metadata 3.10.1 which is incompatible.\r\n",
      "ibis-framework 2.1.1 requires importlib-metadata<5,>=4; python_version < \"3.8\", but you have importlib-metadata 3.10.1 which is incompatible.\r\n",
      "gym 0.23.1 requires importlib-metadata>=4.10.0; python_version < \"3.10\", but you have importlib-metadata 3.10.1 which is incompatible.\r\n",
      "google-cloud-pubsublite 1.4.2 requires overrides<7.0.0,>=6.0.1, but you have overrides 3.1.0 which is incompatible.\r\n",
      "allennlp 2.9.3 requires transformers<4.19,>=4.1, but you have transformers 4.19.2 which is incompatible.\u001b[0m\u001b[31m\r\n",
      "\u001b[0mSuccessfully installed bpemb-0.3.3 conllu-4.4.2 deprecated-1.2.13 flair-0.11.3 ftfy-6.1.1 gdown-4.4.0 importlib-metadata-3.10.1 konoha-4.6.5 langdetect-1.0.9 mpld3-0.3 overrides-3.1.0 pptree-3.1 segtok-1.5.11 sentencepiece-0.1.95 sqlitedict-2.0.0 torch-1.11.0 wikipedia-api-0.5.4\r\n",
      "\u001b[33mWARNING: Running pip as the 'root' user can result in broken permissions and conflicting behaviour with the system package manager. It is recommended to use a virtual environment instead: https://pip.pypa.io/warnings/venv\u001b[0m\u001b[33m\r\n",
      "\u001b[0m"
     ]
    }
   ],
   "source": [
    "!pip install flair"
   ]
  },
  {
   "cell_type": "code",
   "execution_count": 77,
   "id": "3489a8c5",
   "metadata": {
    "execution": {
     "iopub.execute_input": "2022-06-02T10:02:14.202442Z",
     "iopub.status.busy": "2022-06-02T10:02:14.202040Z",
     "iopub.status.idle": "2022-06-02T10:04:48.989440Z",
     "shell.execute_reply": "2022-06-02T10:04:48.988612Z"
    },
    "papermill": {
     "duration": 154.938322,
     "end_time": "2022-06-02T10:04:48.991631",
     "exception": false,
     "start_time": "2022-06-02T10:02:14.053309",
     "status": "completed"
    },
    "tags": []
   },
   "outputs": [
    {
     "data": {
      "application/vnd.jupyter.widget-view+json": {
       "model_id": "d81321cb32be43c583d2954b3e12525e",
       "version_major": 2,
       "version_minor": 0
      },
      "text/plain": [
       "Downloading:   0%|          | 0.00/1.51G [00:00<?, ?B/s]"
      ]
     },
     "metadata": {},
     "output_type": "display_data"
    },
    {
     "name": "stdout",
     "output_type": "stream",
     "text": [
      "2022-06-02 10:03:03,908 loading file /root/.flair/models/ner-english-ontonotes/f46dcd14689a594a7dd2a8c9c001a34fd55b02fded2528410913c7e88dbe43d4.1207747bf5ae24291205b6f3e7417c8bedd5c32cacfb5a439f3eff38afda66f7\n",
      "2022-06-02 10:03:11,412 SequenceTagger predicts: Dictionary with 76 tags: <unk>, O, B-CARDINAL, E-CARDINAL, S-PERSON, S-CARDINAL, S-PRODUCT, B-PRODUCT, I-PRODUCT, E-PRODUCT, B-WORK_OF_ART, I-WORK_OF_ART, E-WORK_OF_ART, B-PERSON, E-PERSON, S-GPE, B-DATE, I-DATE, E-DATE, S-ORDINAL, S-LANGUAGE, I-PERSON, S-EVENT, S-DATE, B-QUANTITY, E-QUANTITY, S-TIME, B-TIME, I-TIME, E-TIME, B-GPE, E-GPE, S-ORG, I-GPE, S-NORP, B-FAC, I-FAC, E-FAC, B-NORP, E-NORP, S-PERCENT, B-ORG, E-ORG, B-LANGUAGE, E-LANGUAGE, I-CARDINAL, I-ORG, S-WORK_OF_ART, I-QUANTITY, B-MONEY\n"
     ]
    }
   ],
   "source": [
    "T=[]\n",
    "from flair.data import Sentence\n",
    "from flair.models import SequenceTagger\n",
    "from segtok.segmenter import split_single\n",
    "tagger=SequenceTagger.load('ner-ontonotes')\n",
    "\n",
    "for i in range(20):\n",
    "    text=data[\"transcription_text\"][i]\n",
    "    sentence=[Sentence(sent,use_tokenizer=True)for sent in split_single(text)]\n",
    "    tagger.predict(sentence)\n",
    "    for sent in sentence:\n",
    "            for entity in sent.get_spans('ner'):\n",
    "                 T.append(entity)"
   ]
  },
  {
   "cell_type": "code",
   "execution_count": 78,
   "id": "3abce003",
   "metadata": {
    "execution": {
     "iopub.execute_input": "2022-06-02T10:04:49.174656Z",
     "iopub.status.busy": "2022-06-02T10:04:49.174083Z",
     "iopub.status.idle": "2022-06-02T10:04:49.187342Z",
     "shell.execute_reply": "2022-06-02T10:04:49.186613Z"
    },
    "papermill": {
     "duration": 0.107593,
     "end_time": "2022-06-02T10:04:49.189095",
     "exception": false,
     "start_time": "2022-06-02T10:04:49.081502",
     "status": "completed"
    },
    "tags": []
   },
   "outputs": [
    {
     "data": {
      "text/plain": [
       "[Span[4:7]: \"Anne H Elliott\" → PERSON (0.8023),\n",
       " Span[12:13]: \"Amnesty\" → ORG (0.3231),\n",
       " Span[15:17]: \"Andrew Johnson\" → PERSON (0.9016),\n",
       " Span[19:23]: \"United States of America\" → ORG (0.6651),\n",
       " Span[23:26]: \"May 29th 1865\" → DATE (0.9434),\n",
       " Span[33:34]: \"fourteen\" → CARDINAL (0.9944),\n",
       " Span[39:41]: \"27th day\" → DATE (0.7263),\n",
       " Span[42:50]: \"Novb 1865 S Wilde Durson Magt DD AHE\" → WORK_OF_ART (0.5594),\n",
       " Span[51:53]: \"2 cent\" → MONEY (0.8272),\n",
       " Span[55:58]: \"Anne H Elliott\" → PERSON (0.7771),\n",
       " Span[58:62]: \"United States of America\" → GPE (0.5298),\n",
       " Span[63:66]: \"Anne H Elliott\" → PERSON (0.8255),\n",
       " Span[67:71]: \"District of Beaufort State\" → ORG (0.6853),\n",
       " Span[72:74]: \"South Carolina\" → GPE (0.9963),\n",
       " Span[85:92]: \"Constitution of United States Union of States\" → LAW (0.8941),\n",
       " Span[113:115]: \"27th day\" → DATE (0.7794),\n",
       " Span[120:122]: \"Wilde Durson\" → PERSON (0.7184),\n",
       " Span[126:127]: \"3\" → CARDINAL (0.6127),\n",
       " Span[129:132]: \"Anne H Elliott\" → PERSON (0.803),\n",
       " Span[140:144]: \"5 foot 3 inch\" → QUANTITY (0.945),\n",
       " Span[146:148]: \"63 year\" → DATE (0.8614),\n",
       " Span[153:155]: \"Durson Magtr\" → PERSON (0.7289),\n",
       " Span[1:4]: \"E C Whaley\" → PERSON (0.919),\n",
       " Span[9:11]: \"Amnesty Proclamation\" → ORG (0.5373),\n",
       " Span[12:14]: \"Andrew Johnson\" → PERSON (0.8066),\n",
       " Span[16:20]: \"United State of America\" → ORG (0.746),\n",
       " Span[20:23]: \"May 29th 1865\" → DATE (0.9559),\n",
       " Span[30:31]: \"fourteen\" → CARDINAL (0.928),\n",
       " Span[42:44]: \"Charleston SC\" → ORG (0.3348),\n",
       " Span[44:46]: \"28 day\" → DATE (0.6124),\n",
       " Span[47:49]: \"Sept 1865\" → DATE (0.763),\n",
       " Span[49:51]: \"Levi Steuben\" → PERSON (0.6391),\n",
       " Span[52:53]: \"47th\" → ORDINAL (0.821),\n",
       " Span[66:67]: \"Charleston\" → GPE (0.9264),\n",
       " Span[82:89]: \"Constitution of United States Union of States\" → LAW (0.9035),\n",
       " Span[113:115]: \"Charleston SC\" → ORG (0.3913),\n",
       " Span[115:120]: \"28 day of Sept 1865\" → DATE (0.8787),\n",
       " Span[120:122]: \"Levi Steuben\" → PERSON (0.7228),\n",
       " Span[122:124]: \"May 47\" → DATE (0.7855),\n",
       " Span[132:136]: \"5 foot 10 inch\" → QUANTITY (0.9532),\n",
       " Span[137:139]: \"39 year\" → DATE (0.823),\n",
       " Span[147:150]: \"Department of State\" → ORG (0.9399),\n",
       " Span[166:167]: \"47th\" → ORDINAL (0.9683),\n",
       " Span[3:5]: \"E Montgomery\" → PERSON (0.9307),\n",
       " Span[10:12]: \"Amnesty Proclamation\" → ORG (0.4538),\n",
       " Span[13:15]: \"ANDREW JOHNSON\" → PERSON (0.9307),\n",
       " Span[17:21]: \"United States of America\" → ORG (0.6403),\n",
       " Span[21:24]: \"May 29th 1865\" → DATE (0.9549),\n",
       " Span[31:32]: \"fourteen\" → CARDINAL (0.7587),\n",
       " Span[39:41]: \"Charleston SC\" → ORG (0.5487),\n",
       " Span[41:43]: \"31 day\" → DATE (0.6796),\n",
       " Span[44:46]: \"Oct 1865\" → DATE (0.7171),\n",
       " Span[46:48]: \"Levi Stuber\" → PERSON (0.8513),\n",
       " Span[49:50]: \"47th\" → ORDINAL (0.9958),\n",
       " Span[60:65]: \"No1984 United States of America\" → ORG (0.6491),\n",
       " Span[67:69]: \"E Montgomery\" → PERSON (0.7645),\n",
       " Span[85:90]: \"United States Union of States\" → ORG (0.616),\n",
       " Span[114:116]: \"Charleston SC\" → ORG (0.5158),\n",
       " Span[116:118]: \"31 day\" → DATE (0.6581),\n",
       " Span[119:121]: \"Oct 1865\" → DATE (0.694),\n",
       " Span[121:123]: \"Levi Stuber\" → PERSON (0.8909),\n",
       " Span[124:125]: \"47th\" → ORDINAL (0.9938),\n",
       " Span[137:141]: \"5 foot 4 inch\" → QUANTITY (0.9494),\n",
       " Span[142:144]: \"61 year\" → DATE (0.9049),\n",
       " Span[152:155]: \"Department of State\" → ORG (0.9605),\n",
       " Span[14:21]: \"Constitution of United States Union of States\" → LAW (0.8799),\n",
       " Span[56:62]: \"31st day of August AD 1865\" → DATE (0.7257),\n",
       " Span[62:64]: \"Hu Kennedy\" → PERSON (0.8191),\n",
       " Span[68:70]: \"New Orleans\" → GPE (0.9285),\n",
       " Span[0:3]: \"August 24 1865\" → DATE (0.8473),\n",
       " Span[19:20]: \"66\" → CARDINAL (0.9685),\n",
       " Span[20:21]: \"US\" → GPE (0.7505),\n",
       " Span[1:3]: \"Wm Whaley\" → PERSON (0.8121),\n",
       " Span[8:10]: \"Amnesty Proclamation\" → WORK_OF_ART (0.3602),\n",
       " Span[11:13]: \"ANDREW JOHNSON\" → PERSON (0.8788),\n",
       " Span[15:19]: \"United States of America\" → ORG (0.6576),\n",
       " Span[19:22]: \"May 29th 1865\" → DATE (0.9485),\n",
       " Span[29:30]: \"fourteen\" → CARDINAL (0.9572),\n",
       " Span[34:37]: \"William Whaley Sworn\" → PERSON (0.9356),\n",
       " Span[38:40]: \"Charleston SC\" → ORG (0.5212),\n",
       " Span[40:42]: \"3 day\" → DATE (0.6592),\n",
       " Span[43:45]: \"August 1865\" → DATE (0.6674),\n",
       " Span[45:47]: \"Levi Stuber\" → PERSON (0.9078),\n",
       " Span[47:49]: \"May 4\" → DATE (0.9343),\n",
       " Span[55:56]: \"Charleston\" → GPE (0.953),\n",
       " Span[62:63]: \"38\" → CARDINAL (0.9463),\n",
       " Span[73:75]: \"Charleston State\" → GPE (0.8297),\n",
       " Span[76:78]: \"So Carolina\" → GPE (0.7474),\n",
       " Span[89:96]: \"Constitution of United States Union of State\" → LAW (0.8842),\n",
       " Span[116:118]: \"William Whaley\" → PERSON (0.9165),\n",
       " Span[120:122]: \"Charleston SC\" → ORG (0.534),\n",
       " Span[122:127]: \"3 day of Augt 1865\" → DATE (0.8402),\n",
       " Span[127:129]: \"Levi Stuber\" → PERSON (0.7338),\n",
       " Span[129:131]: \"Maj 47\" → DATE (0.636),\n",
       " Span[142:146]: \"5 foot 8 inch\" → QUANTITY (0.9344),\n",
       " Span[147:149]: \"48 year\" → DATE (0.8816),\n",
       " Span[157:160]: \"Department of State\" → ORG (0.9523),\n",
       " Span[1:4]: \"J F Steinmeyer\" → PERSON (0.846),\n",
       " Span[9:11]: \"Amnesty Proclamation\" → WORK_OF_ART (0.3711),\n",
       " Span[12:14]: \"ANDREW JOHNSON\" → PERSON (0.8275),\n",
       " Span[16:20]: \"United States of America\" → ORG (0.6101),\n",
       " Span[20:23]: \"May 29th 1865\" → DATE (0.9455),\n",
       " Span[30:31]: \"fourteen\" → CARDINAL (0.8796),\n",
       " Span[34:36]: \"JF Steinmeyer\" → PERSON (0.6778),\n",
       " Span[38:45]: \"Charleston Sc 16th day of Sept 1865\" → DATE (0.7076),\n",
       " Span[45:47]: \"Levi Stuber\" → PERSON (0.6366),\n",
       " Span[55:56]: \"1474\" → CARDINAL (0.8269),\n",
       " Span[59:60]: \"America\" → GPE (0.7329),\n",
       " Span[61:64]: \"J F Steinmeyer\" → PERSON (0.9677),\n",
       " Span[80:87]: \"Constitution of United States Union of States\" → LAW (0.8864),\n",
       " Span[110:114]: \"Charleston Sc 16th day\" → DATE (0.5344),\n",
       " Span[115:117]: \"Sept 1865\" → DATE (0.7579),\n",
       " Span[117:121]: \"Levi Stuber Maj 47\" → WORK_OF_ART (0.571),\n",
       " Span[130:134]: \"5 foot 8 inch\" → QUANTITY (0.9336),\n",
       " Span[135:137]: \"58 year\" → DATE (0.9038),\n",
       " Span[145:148]: \"Department of State\" → ORG (0.9569),\n",
       " Span[1:3]: \"Joseph Edings\" → PERSON (0.9872),\n",
       " Span[8:10]: \"Amnesty Proclamation\" → WORK_OF_ART (0.361),\n",
       " Span[11:13]: \"ANDREW JOHNSON\" → PERSON (0.8131),\n",
       " Span[15:19]: \"United States of America\" → ORG (0.6374),\n",
       " Span[19:22]: \"May 29th 1865\" → DATE (0.9386),\n",
       " Span[29:30]: \"fourteen\" → CARDINAL (0.7652),\n",
       " Span[33:36]: \"Joseph Edings Sworn\" → PERSON (0.9003),\n",
       " Span[37:39]: \"Orangeburg SC\" → ORG (0.6559),\n",
       " Span[39:41]: \"16 day\" → DATE (0.8657),\n",
       " Span[42:44]: \"October 1865\" → DATE (0.7162),\n",
       " Span[44:46]: \"Frank Geise\" → PERSON (0.9166),\n",
       " Span[46:49]: \"1st Lt 54th\" → DATE (0.735),\n",
       " Span[59:61]: \"Joseph Edings\" → PERSON (0.9543),\n",
       " Span[66:69]: \"Orangeburg Dist State\" → GPE (0.7367),\n",
       " Span[70:72]: \"South Carolina\" → GPE (0.9877),\n",
       " Span[83:90]: \"Constitution of United States Union of States\" → LAW (0.9041),\n",
       " Span[109:111]: \"Joseph Edings\" → PERSON (0.7828),\n",
       " Span[113:115]: \"Orangeburg SC\" → ORG (0.7205),\n",
       " Span[115:117]: \"16 day\" → DATE (0.8419),\n",
       " Span[118:120]: \"October 1865\" → DATE (0.7182),\n",
       " Span[120:122]: \"Frank Geise\" → PERSON (0.8768),\n",
       " Span[122:125]: \"1st Lt 54th\" → DATE (0.8721),\n",
       " Span[137:141]: \"five foot eight inch\" → QUANTITY (0.9143),\n",
       " Span[142:145]: \"twenty eight year\" → DATE (0.7767),\n",
       " Span[153:156]: \"Department of State\" → ORG (0.9558),\n",
       " Span[0:1]: \"Vicksburg\" → GPE (0.9602),\n",
       " Span[2:5]: \"July 22 1867\" → DATE (0.869),\n",
       " Span[9:12]: \"Loyalty Recd Bureau\" → ORG (0.7818),\n",
       " Span[15:18]: \"July 22 1867\" → DATE (0.9294),\n",
       " Span[0:1]: \"455\" → CARDINAL (0.7675),\n",
       " Span[4:6]: \"Jacob Schroder\" → PERSON (0.8736),\n",
       " Span[11:13]: \"Amnesty Proclamation\" → ORG (0.4785),\n",
       " Span[14:16]: \"ANDREW JOHNSON\" → PERSON (0.9091),\n",
       " Span[18:22]: \"United States of America\" → ORG (0.6384),\n",
       " Span[22:25]: \"May 29th 1865\" → DATE (0.9494),\n",
       " Span[30:31]: \"one\" → CARDINAL (0.5624),\n",
       " Span[32:33]: \"fourteen\" → CARDINAL (0.7887),\n",
       " Span[37:40]: \"Jacob Schroder Sworn\" → PERSON (0.8939),\n",
       " Span[41:47]: \"Walhalla 6 day of Nov 1865\" → DATE (0.7263),\n",
       " Span[58:59]: \"AMERICA\" → GPE (0.9808),\n",
       " Span[60:62]: \"Jacob Schroder\" → PERSON (0.9894),\n",
       " Span[63:65]: \"Walhalla State\" → GPE (0.7361),\n",
       " Span[66:68]: \"South Carolina\" → GPE (0.9957),\n",
       " Span[79:86]: \"Constitution of United States Union of States\" → LAW (0.8895),\n",
       " Span[105:107]: \"Jacob Schroder\" → PERSON (0.7961),\n",
       " Span[109:112]: \"Walhalla 6 day\" → DATE (0.5353),\n",
       " Span[113:115]: \"Nov 1865\" → DATE (0.7713),\n",
       " Span[117:118]: \"Bray\" → PERSON (0.5191),\n",
       " Span[128:132]: \"5 foot 6 inch\" → QUANTITY (0.9169),\n",
       " Span[133:137]: \"58 year of age\" → DATE (0.7895),\n",
       " Span[4:6]: \"Mississippi City\" → GPE (0.7808),\n",
       " Span[7:10]: \"Sept 29 1865\" → DATE (0.8691),\n",
       " Span[25:26]: \"Constitution\" → LAW (0.9514),\n",
       " Span[27:29]: \"United States\" → GPE (0.9149),\n",
       " Span[56:58]: \"Mississippi City\" → GPE (0.5394),\n",
       " Span[58:63]: \"29th day of September 1865\" → DATE (0.7145),\n",
       " Span[67:68]: \"66th\" → ORDINAL (0.9877),\n",
       " Span[68:69]: \"US\" → GPE (0.7698),\n",
       " Span[96:99]: \"Sept 29th 1865\" → DATE (0.8448),\n",
       " Span[102:111]: \"Amnesty Oath prescribed Proclamation of President of United States\" → WORK_OF_ART (0.7041),\n",
       " Span[113:115]: \"JW Baxter\" → PERSON (0.9413),\n",
       " Span[116:118]: \"Harrison Co\" → ORG (0.6644),\n",
       " Span[119:125]: \"29th day of Sept 29 1865\" → DATE (0.7512),\n",
       " Span[125:128]: \"Frank E Miller\" → PERSON (0.7048),\n",
       " Span[128:130]: \"Maj 66th\" → DATE (0.8237),\n",
       " Span[130:131]: \"USCI\" → ORG (0.9248),\n",
       " Span[0:5]: \"OATH I P P Bergevin\" → ORG (0.711),\n",
       " Span[12:14]: \"United States\" → GPE (0.9907),\n",
       " Span[44:46]: \"United States\" → GPE (0.9623),\n",
       " Span[56:58]: \"United States\" → GPE (0.9776),\n",
       " Span[72:73]: \"Constitution\" → LAW (0.9568),\n",
       " Span[74:76]: \"United States\" → GPE (0.9766),\n",
       " Span[111:114]: \"Woodville Wilkinson Co\" → ORG (0.5002),\n",
       " Span[115:120]: \"3d day of February 1868\" → DATE (0.7031),\n",
       " Span[130:131]: \"Mississippi\" → GPE (0.999),\n",
       " Span[0:2]: \"Frank Conner\" → PERSON (0.9559),\n",
       " Span[1:3]: \"Caroline Belitzer\" → PERSON (0.9164),\n",
       " Span[8:10]: \"Amnesty Proclamation\" → ORG (0.4309),\n",
       " Span[11:13]: \"ANDREW JOHNSON\" → PERSON (0.8861),\n",
       " Span[15:19]: \"United States of America\" → ORG (0.6259),\n",
       " Span[19:22]: \"May 29th 1865\" → DATE (0.9432),\n",
       " Span[29:30]: \"fourteen\" → CARDINAL (0.9493),\n",
       " Span[37:41]: \"Charleston SC 7th day\" → DATE (0.5482),\n",
       " Span[42:44]: \"September 186\" → DATE (0.6277),\n",
       " Span[61:62]: \"128\" → CARDINAL (0.9731),\n",
       " Span[68:69]: \"117\" → CARDINAL (0.9315),\n",
       " Span[72:73]: \"America\" → GPE (0.6459),\n",
       " Span[74:76]: \"Caroline Belitzer\" → PERSON (0.8873),\n",
       " Span[82:84]: \"Charleston State\" → GPE (0.6727),\n",
       " Span[86:87]: \"Carolina\" → GPE (0.7079),\n",
       " Span[98:105]: \"Constitution of United States Union of States\" → LAW (0.887),\n",
       " Span[124:127]: \"Caroline Belitzer Sworn\" → PERSON (0.8328),\n",
       " Span[128:129]: \"Charleston\" → GPE (0.563),\n",
       " Span[131:133]: \"7th day\" → DATE (0.6218),\n",
       " Span[134:136]: \"September 186\" → DATE (0.8661),\n",
       " Span[153:157]: \"5 foot 6 inch\" → QUANTITY (0.9315),\n",
       " Span[158:159]: \"45years\" → CARDINAL (0.6202),\n",
       " Span[169:172]: \"Department of State\" → ORG (0.9322),\n",
       " Span[6:9]: \"Aug 20 1865\" → DATE (0.7939),\n",
       " Span[10:12]: \"Hiram Smith\" → PERSON (0.9535),\n",
       " Span[24:25]: \"Constitution\" → LAW (0.9432),\n",
       " Span[26:28]: \"United States\" → GPE (0.9132),\n",
       " Span[51:53]: \"Hiram Smith\" → PERSON (0.771),\n",
       " Span[59:64]: \"20th day of August 1865\" → DATE (0.6975),\n",
       " Span[75:79]: \"Six foot one inch\" → QUANTITY (0.8303),\n",
       " Span[97:100]: \"Aug 20th 1865\" → DATE (0.8232),\n",
       " Span[103:105]: \"Amnesty Oath\" → WORK_OF_ART (0.474),\n",
       " Span[110:112]: \"United States\" → GPE (0.8195),\n",
       " Span[114:116]: \"Hiram Smith\" → PERSON (0.9921),\n",
       " Span[117:118]: \"Gainsville\" → GPE (0.9627),\n",
       " Span[120:125]: \"20th day of August 1865\" → DATE (0.7216),\n",
       " Span[15:18]: \"August 29th 1865\" → DATE (0.8833),\n",
       " Span[33:40]: \"Constitution of United States Union of States\" → LAW (0.8771),\n",
       " Span[62:69]: \"Aiken SC 22nd day of August 1865\" → DATE (0.6773),\n",
       " Span[75:76]: \"54th\" → ORDINAL (0.9255),\n",
       " Span[0:3]: \"Robert A Wilson\" → PERSON (0.9231),\n",
       " Span[14:17]: \"18th Sept 1865\" → DATE (0.7473),\n",
       " Span[3:7]: \"Aug 2 7 66\" → DATE (0.7168),\n",
       " Span[7:9]: \"Thos Gibbs\" → PERSON (0.9114),\n",
       " Span[11:12]: \"NC\" → GPE (0.6101),\n",
       " Span[7:10]: \"Aug 31 1865\" → DATE (0.7935),\n",
       " Span[26:27]: \"Constitution\" → LAW (0.9332),\n",
       " Span[28:30]: \"United States\" → GPE (0.9181),\n",
       " Span[61:66]: \"31st day of Aug 1865\" → DATE (0.8294),\n",
       " Span[66:67]: \"1865\" → DATE (0.6865),\n",
       " Span[101:104]: \"Aug 31 1865\" → DATE (0.8953),\n",
       " Span[107:116]: \"Amnesty Oath prescribed Proclamation of President of United States\" → WORK_OF_ART (0.6923),\n",
       " Span[126:131]: \"31 day of Aug 1865\" → DATE (0.8853),\n",
       " Span[136:137]: \"USCI\" → ORG (0.8554)]"
      ]
     },
     "execution_count": 78,
     "metadata": {},
     "output_type": "execute_result"
    }
   ],
   "source": [
    "T"
   ]
  },
  {
   "cell_type": "code",
   "execution_count": null,
   "id": "a8302b82",
   "metadata": {
    "papermill": {
     "duration": 0.088286,
     "end_time": "2022-06-02T10:04:49.365811",
     "exception": false,
     "start_time": "2022-06-02T10:04:49.277525",
     "status": "completed"
    },
    "tags": []
   },
   "outputs": [],
   "source": []
  },
  {
   "cell_type": "code",
   "execution_count": null,
   "id": "364b5b01",
   "metadata": {
    "papermill": {
     "duration": 0.087391,
     "end_time": "2022-06-02T10:04:49.541710",
     "exception": false,
     "start_time": "2022-06-02T10:04:49.454319",
     "status": "completed"
    },
    "tags": []
   },
   "outputs": [],
   "source": []
  }
 ],
 "metadata": {
  "kernelspec": {
   "display_name": "Python 3",
   "language": "python",
   "name": "python3"
  },
  "language_info": {
   "codemirror_mode": {
    "name": "ipython",
    "version": 3
   },
   "file_extension": ".py",
   "mimetype": "text/x-python",
   "name": "python",
   "nbconvert_exporter": "python",
   "pygments_lexer": "ipython3",
   "version": "3.7.12"
  },
  "papermill": {
   "default_parameters": {},
   "duration": 592.136965,
   "end_time": "2022-06-02T10:04:52.590757",
   "environment_variables": {},
   "exception": null,
   "input_path": "__notebook__.ipynb",
   "output_path": "__notebook__.ipynb",
   "parameters": {},
   "start_time": "2022-06-02T09:55:00.453792",
   "version": "2.3.4"
  },
  "widgets": {
   "application/vnd.jupyter.widget-state+json": {
    "state": {
     "003efd38b3f34339b8c129541c2fc242": {
      "model_module": "@jupyter-widgets/controls",
      "model_module_version": "1.5.0",
      "model_name": "FloatProgressModel",
      "state": {
       "_dom_classes": [],
       "_model_module": "@jupyter-widgets/controls",
       "_model_module_version": "1.5.0",
       "_model_name": "FloatProgressModel",
       "_view_count": null,
       "_view_module": "@jupyter-widgets/controls",
       "_view_module_version": "1.5.0",
       "_view_name": "ProgressView",
       "bar_style": "success",
       "description": "",
       "description_tooltip": null,
       "layout": "IPY_MODEL_0ad36e404b9149c7866edf9cfcc579f6",
       "max": 112.0,
       "min": 0.0,
       "orientation": "horizontal",
       "style": "IPY_MODEL_f38ea0297c564e9e9a65cd849eba71cc",
       "value": 112.0
      }
     },
     "050fcb1e676648958e388d335af298f6": {
      "model_module": "@jupyter-widgets/base",
      "model_module_version": "1.2.0",
      "model_name": "LayoutModel",
      "state": {
       "_model_module": "@jupyter-widgets/base",
       "_model_module_version": "1.2.0",
       "_model_name": "LayoutModel",
       "_view_count": null,
       "_view_module": "@jupyter-widgets/base",
       "_view_module_version": "1.2.0",
       "_view_name": "LayoutView",
       "align_content": null,
       "align_items": null,
       "align_self": null,
       "border": null,
       "bottom": null,
       "display": null,
       "flex": null,
       "flex_flow": null,
       "grid_area": null,
       "grid_auto_columns": null,
       "grid_auto_flow": null,
       "grid_auto_rows": null,
       "grid_column": null,
       "grid_gap": null,
       "grid_row": null,
       "grid_template_areas": null,
       "grid_template_columns": null,
       "grid_template_rows": null,
       "height": null,
       "justify_content": null,
       "justify_items": null,
       "left": null,
       "margin": null,
       "max_height": null,
       "max_width": null,
       "min_height": null,
       "min_width": null,
       "object_fit": null,
       "object_position": null,
       "order": null,
       "overflow": null,
       "overflow_x": null,
       "overflow_y": null,
       "padding": null,
       "right": null,
       "top": null,
       "visibility": null,
       "width": null
      }
     },
     "05786aadf1c14ad092f1c21a6202046a": {
      "model_module": "@jupyter-widgets/base",
      "model_module_version": "1.2.0",
      "model_name": "LayoutModel",
      "state": {
       "_model_module": "@jupyter-widgets/base",
       "_model_module_version": "1.2.0",
       "_model_name": "LayoutModel",
       "_view_count": null,
       "_view_module": "@jupyter-widgets/base",
       "_view_module_version": "1.2.0",
       "_view_name": "LayoutView",
       "align_content": null,
       "align_items": null,
       "align_self": null,
       "border": null,
       "bottom": null,
       "display": null,
       "flex": null,
       "flex_flow": null,
       "grid_area": null,
       "grid_auto_columns": null,
       "grid_auto_flow": null,
       "grid_auto_rows": null,
       "grid_column": null,
       "grid_gap": null,
       "grid_row": null,
       "grid_template_areas": null,
       "grid_template_columns": null,
       "grid_template_rows": null,
       "height": null,
       "justify_content": null,
       "justify_items": null,
       "left": null,
       "margin": null,
       "max_height": null,
       "max_width": null,
       "min_height": null,
       "min_width": null,
       "object_fit": null,
       "object_position": null,
       "order": null,
       "overflow": null,
       "overflow_x": null,
       "overflow_y": null,
       "padding": null,
       "right": null,
       "top": null,
       "visibility": null,
       "width": null
      }
     },
     "07cd2d4f93b34bb2992a7f2f8f7d3619": {
      "model_module": "@jupyter-widgets/controls",
      "model_module_version": "1.5.0",
      "model_name": "ProgressStyleModel",
      "state": {
       "_model_module": "@jupyter-widgets/controls",
       "_model_module_version": "1.5.0",
       "_model_name": "ProgressStyleModel",
       "_view_count": null,
       "_view_module": "@jupyter-widgets/base",
       "_view_module_version": "1.2.0",
       "_view_name": "StyleView",
       "bar_color": null,
       "description_width": ""
      }
     },
     "0ad36e404b9149c7866edf9cfcc579f6": {
      "model_module": "@jupyter-widgets/base",
      "model_module_version": "1.2.0",
      "model_name": "LayoutModel",
      "state": {
       "_model_module": "@jupyter-widgets/base",
       "_model_module_version": "1.2.0",
       "_model_name": "LayoutModel",
       "_view_count": null,
       "_view_module": "@jupyter-widgets/base",
       "_view_module_version": "1.2.0",
       "_view_name": "LayoutView",
       "align_content": null,
       "align_items": null,
       "align_self": null,
       "border": null,
       "bottom": null,
       "display": null,
       "flex": null,
       "flex_flow": null,
       "grid_area": null,
       "grid_auto_columns": null,
       "grid_auto_flow": null,
       "grid_auto_rows": null,
       "grid_column": null,
       "grid_gap": null,
       "grid_row": null,
       "grid_template_areas": null,
       "grid_template_columns": null,
       "grid_template_rows": null,
       "height": null,
       "justify_content": null,
       "justify_items": null,
       "left": null,
       "margin": null,
       "max_height": null,
       "max_width": null,
       "min_height": null,
       "min_width": null,
       "object_fit": null,
       "object_position": null,
       "order": null,
       "overflow": null,
       "overflow_x": null,
       "overflow_y": null,
       "padding": null,
       "right": null,
       "top": null,
       "visibility": null,
       "width": null
      }
     },
     "0c452a71301e468493893298bc4b6ede": {
      "model_module": "@jupyter-widgets/base",
      "model_module_version": "1.2.0",
      "model_name": "LayoutModel",
      "state": {
       "_model_module": "@jupyter-widgets/base",
       "_model_module_version": "1.2.0",
       "_model_name": "LayoutModel",
       "_view_count": null,
       "_view_module": "@jupyter-widgets/base",
       "_view_module_version": "1.2.0",
       "_view_name": "LayoutView",
       "align_content": null,
       "align_items": null,
       "align_self": null,
       "border": null,
       "bottom": null,
       "display": null,
       "flex": null,
       "flex_flow": null,
       "grid_area": null,
       "grid_auto_columns": null,
       "grid_auto_flow": null,
       "grid_auto_rows": null,
       "grid_column": null,
       "grid_gap": null,
       "grid_row": null,
       "grid_template_areas": null,
       "grid_template_columns": null,
       "grid_template_rows": null,
       "height": null,
       "justify_content": null,
       "justify_items": null,
       "left": null,
       "margin": null,
       "max_height": null,
       "max_width": null,
       "min_height": null,
       "min_width": null,
       "object_fit": null,
       "object_position": null,
       "order": null,
       "overflow": null,
       "overflow_x": null,
       "overflow_y": null,
       "padding": null,
       "right": null,
       "top": null,
       "visibility": null,
       "width": null
      }
     },
     "0d5743b768fa444581b3b35f18b938ed": {
      "model_module": "@jupyter-widgets/controls",
      "model_module_version": "1.5.0",
      "model_name": "HTMLModel",
      "state": {
       "_dom_classes": [],
       "_model_module": "@jupyter-widgets/controls",
       "_model_module_version": "1.5.0",
       "_model_name": "HTMLModel",
       "_view_count": null,
       "_view_module": "@jupyter-widgets/controls",
       "_view_module_version": "1.5.0",
       "_view_name": "HTMLView",
       "description": "",
       "description_tooltip": null,
       "layout": "IPY_MODEL_78ca9d5fe7cf4b929e901ce229400302",
       "placeholder": "​",
       "style": "IPY_MODEL_5d6a9e55198a4e60ba0e14aa68344ec1",
       "value": " 998/998 [00:00&lt;00:00, 33.6kB/s]"
      }
     },
     "0eb7fd6291b140f9bfeeebcc1801cef1": {
      "model_module": "@jupyter-widgets/base",
      "model_module_version": "1.2.0",
      "model_name": "LayoutModel",
      "state": {
       "_model_module": "@jupyter-widgets/base",
       "_model_module_version": "1.2.0",
       "_model_name": "LayoutModel",
       "_view_count": null,
       "_view_module": "@jupyter-widgets/base",
       "_view_module_version": "1.2.0",
       "_view_name": "LayoutView",
       "align_content": null,
       "align_items": null,
       "align_self": null,
       "border": null,
       "bottom": null,
       "display": null,
       "flex": null,
       "flex_flow": null,
       "grid_area": null,
       "grid_auto_columns": null,
       "grid_auto_flow": null,
       "grid_auto_rows": null,
       "grid_column": null,
       "grid_gap": null,
       "grid_row": null,
       "grid_template_areas": null,
       "grid_template_columns": null,
       "grid_template_rows": null,
       "height": null,
       "justify_content": null,
       "justify_items": null,
       "left": null,
       "margin": null,
       "max_height": null,
       "max_width": null,
       "min_height": null,
       "min_width": null,
       "object_fit": null,
       "object_position": null,
       "order": null,
       "overflow": null,
       "overflow_x": null,
       "overflow_y": null,
       "padding": null,
       "right": null,
       "top": null,
       "visibility": null,
       "width": null
      }
     },
     "10ff88d844f24fec9f515b4eaa227ea8": {
      "model_module": "@jupyter-widgets/controls",
      "model_module_version": "1.5.0",
      "model_name": "ProgressStyleModel",
      "state": {
       "_model_module": "@jupyter-widgets/controls",
       "_model_module_version": "1.5.0",
       "_model_name": "ProgressStyleModel",
       "_view_count": null,
       "_view_module": "@jupyter-widgets/base",
       "_view_module_version": "1.2.0",
       "_view_name": "StyleView",
       "bar_color": null,
       "description_width": ""
      }
     },
     "14e1dba246ec4899825bfa6d0e361670": {
      "model_module": "@jupyter-widgets/base",
      "model_module_version": "1.2.0",
      "model_name": "LayoutModel",
      "state": {
       "_model_module": "@jupyter-widgets/base",
       "_model_module_version": "1.2.0",
       "_model_name": "LayoutModel",
       "_view_count": null,
       "_view_module": "@jupyter-widgets/base",
       "_view_module_version": "1.2.0",
       "_view_name": "LayoutView",
       "align_content": null,
       "align_items": null,
       "align_self": null,
       "border": null,
       "bottom": null,
       "display": null,
       "flex": null,
       "flex_flow": null,
       "grid_area": null,
       "grid_auto_columns": null,
       "grid_auto_flow": null,
       "grid_auto_rows": null,
       "grid_column": null,
       "grid_gap": null,
       "grid_row": null,
       "grid_template_areas": null,
       "grid_template_columns": null,
       "grid_template_rows": null,
       "height": null,
       "justify_content": null,
       "justify_items": null,
       "left": null,
       "margin": null,
       "max_height": null,
       "max_width": null,
       "min_height": null,
       "min_width": null,
       "object_fit": null,
       "object_position": null,
       "order": null,
       "overflow": null,
       "overflow_x": null,
       "overflow_y": null,
       "padding": null,
       "right": null,
       "top": null,
       "visibility": null,
       "width": null
      }
     },
     "1a80d6cb6a05477796da08d7b607862d": {
      "model_module": "@jupyter-widgets/controls",
      "model_module_version": "1.5.0",
      "model_name": "HTMLModel",
      "state": {
       "_dom_classes": [],
       "_model_module": "@jupyter-widgets/controls",
       "_model_module_version": "1.5.0",
       "_model_name": "HTMLModel",
       "_view_count": null,
       "_view_module": "@jupyter-widgets/controls",
       "_view_module_version": "1.5.0",
       "_view_name": "HTMLView",
       "description": "",
       "description_tooltip": null,
       "layout": "IPY_MODEL_be268fcd808c444592eab6b796a38843",
       "placeholder": "​",
       "style": "IPY_MODEL_f71c308aa5544a2592f899f6e10fffd1",
       "value": "Downloading: 100%"
      }
     },
     "1b552025838c43a0b9d8552ac336fa15": {
      "model_module": "@jupyter-widgets/controls",
      "model_module_version": "1.5.0",
      "model_name": "FloatProgressModel",
      "state": {
       "_dom_classes": [],
       "_model_module": "@jupyter-widgets/controls",
       "_model_module_version": "1.5.0",
       "_model_name": "FloatProgressModel",
       "_view_count": null,
       "_view_module": "@jupyter-widgets/controls",
       "_view_module_version": "1.5.0",
       "_view_name": "ProgressView",
       "bar_style": "success",
       "description": "",
       "description_tooltip": null,
       "layout": "IPY_MODEL_f68f06841ec6465cb6c132cd653928b4",
       "max": 1334448817.0,
       "min": 0.0,
       "orientation": "horizontal",
       "style": "IPY_MODEL_859fc11c250140289c39a7dca390dd6e",
       "value": 1334448817.0
      }
     },
     "1be0bc07f05449fe92cbd905e00794e6": {
      "model_module": "@jupyter-widgets/base",
      "model_module_version": "1.2.0",
      "model_name": "LayoutModel",
      "state": {
       "_model_module": "@jupyter-widgets/base",
       "_model_module_version": "1.2.0",
       "_model_name": "LayoutModel",
       "_view_count": null,
       "_view_module": "@jupyter-widgets/base",
       "_view_module_version": "1.2.0",
       "_view_name": "LayoutView",
       "align_content": null,
       "align_items": null,
       "align_self": null,
       "border": null,
       "bottom": null,
       "display": null,
       "flex": null,
       "flex_flow": null,
       "grid_area": null,
       "grid_auto_columns": null,
       "grid_auto_flow": null,
       "grid_auto_rows": null,
       "grid_column": null,
       "grid_gap": null,
       "grid_row": null,
       "grid_template_areas": null,
       "grid_template_columns": null,
       "grid_template_rows": null,
       "height": null,
       "justify_content": null,
       "justify_items": null,
       "left": null,
       "margin": null,
       "max_height": null,
       "max_width": null,
       "min_height": null,
       "min_width": null,
       "object_fit": null,
       "object_position": null,
       "order": null,
       "overflow": null,
       "overflow_x": null,
       "overflow_y": null,
       "padding": null,
       "right": null,
       "top": null,
       "visibility": null,
       "width": null
      }
     },
     "1dcdac4505d647d18139437d2904bb9c": {
      "model_module": "@jupyter-widgets/controls",
      "model_module_version": "1.5.0",
      "model_name": "DescriptionStyleModel",
      "state": {
       "_model_module": "@jupyter-widgets/controls",
       "_model_module_version": "1.5.0",
       "_model_name": "DescriptionStyleModel",
       "_view_count": null,
       "_view_module": "@jupyter-widgets/base",
       "_view_module_version": "1.2.0",
       "_view_name": "StyleView",
       "description_width": ""
      }
     },
     "1e8031bd829043c693647768996d63af": {
      "model_module": "@jupyter-widgets/base",
      "model_module_version": "1.2.0",
      "model_name": "LayoutModel",
      "state": {
       "_model_module": "@jupyter-widgets/base",
       "_model_module_version": "1.2.0",
       "_model_name": "LayoutModel",
       "_view_count": null,
       "_view_module": "@jupyter-widgets/base",
       "_view_module_version": "1.2.0",
       "_view_name": "LayoutView",
       "align_content": null,
       "align_items": null,
       "align_self": null,
       "border": null,
       "bottom": null,
       "display": null,
       "flex": null,
       "flex_flow": null,
       "grid_area": null,
       "grid_auto_columns": null,
       "grid_auto_flow": null,
       "grid_auto_rows": null,
       "grid_column": null,
       "grid_gap": null,
       "grid_row": null,
       "grid_template_areas": null,
       "grid_template_columns": null,
       "grid_template_rows": null,
       "height": null,
       "justify_content": null,
       "justify_items": null,
       "left": null,
       "margin": null,
       "max_height": null,
       "max_width": null,
       "min_height": null,
       "min_width": null,
       "object_fit": null,
       "object_position": null,
       "order": null,
       "overflow": null,
       "overflow_x": null,
       "overflow_y": null,
       "padding": null,
       "right": null,
       "top": null,
       "visibility": null,
       "width": null
      }
     },
     "1f519ac5f80d4275be519411c763a1d6": {
      "model_module": "@jupyter-widgets/controls",
      "model_module_version": "1.5.0",
      "model_name": "ProgressStyleModel",
      "state": {
       "_model_module": "@jupyter-widgets/controls",
       "_model_module_version": "1.5.0",
       "_model_name": "ProgressStyleModel",
       "_view_count": null,
       "_view_module": "@jupyter-widgets/base",
       "_view_module_version": "1.2.0",
       "_view_name": "StyleView",
       "bar_color": null,
       "description_width": ""
      }
     },
     "20694555974146598dcdf0090b1e3371": {
      "model_module": "@jupyter-widgets/base",
      "model_module_version": "1.2.0",
      "model_name": "LayoutModel",
      "state": {
       "_model_module": "@jupyter-widgets/base",
       "_model_module_version": "1.2.0",
       "_model_name": "LayoutModel",
       "_view_count": null,
       "_view_module": "@jupyter-widgets/base",
       "_view_module_version": "1.2.0",
       "_view_name": "LayoutView",
       "align_content": null,
       "align_items": null,
       "align_self": null,
       "border": null,
       "bottom": null,
       "display": null,
       "flex": null,
       "flex_flow": null,
       "grid_area": null,
       "grid_auto_columns": null,
       "grid_auto_flow": null,
       "grid_auto_rows": null,
       "grid_column": null,
       "grid_gap": null,
       "grid_row": null,
       "grid_template_areas": null,
       "grid_template_columns": null,
       "grid_template_rows": null,
       "height": null,
       "justify_content": null,
       "justify_items": null,
       "left": null,
       "margin": null,
       "max_height": null,
       "max_width": null,
       "min_height": null,
       "min_width": null,
       "object_fit": null,
       "object_position": null,
       "order": null,
       "overflow": null,
       "overflow_x": null,
       "overflow_y": null,
       "padding": null,
       "right": null,
       "top": null,
       "visibility": null,
       "width": null
      }
     },
     "20edad17c9b04faa85ce13a85b3e187f": {
      "model_module": "@jupyter-widgets/base",
      "model_module_version": "1.2.0",
      "model_name": "LayoutModel",
      "state": {
       "_model_module": "@jupyter-widgets/base",
       "_model_module_version": "1.2.0",
       "_model_name": "LayoutModel",
       "_view_count": null,
       "_view_module": "@jupyter-widgets/base",
       "_view_module_version": "1.2.0",
       "_view_name": "LayoutView",
       "align_content": null,
       "align_items": null,
       "align_self": null,
       "border": null,
       "bottom": null,
       "display": null,
       "flex": null,
       "flex_flow": null,
       "grid_area": null,
       "grid_auto_columns": null,
       "grid_auto_flow": null,
       "grid_auto_rows": null,
       "grid_column": null,
       "grid_gap": null,
       "grid_row": null,
       "grid_template_areas": null,
       "grid_template_columns": null,
       "grid_template_rows": null,
       "height": null,
       "justify_content": null,
       "justify_items": null,
       "left": null,
       "margin": null,
       "max_height": null,
       "max_width": null,
       "min_height": null,
       "min_width": null,
       "object_fit": null,
       "object_position": null,
       "order": null,
       "overflow": null,
       "overflow_x": null,
       "overflow_y": null,
       "padding": null,
       "right": null,
       "top": null,
       "visibility": null,
       "width": null
      }
     },
     "2c0d3f009c834f8b846f04de2ab0f30e": {
      "model_module": "@jupyter-widgets/controls",
      "model_module_version": "1.5.0",
      "model_name": "HTMLModel",
      "state": {
       "_dom_classes": [],
       "_model_module": "@jupyter-widgets/controls",
       "_model_module_version": "1.5.0",
       "_model_name": "HTMLModel",
       "_view_count": null,
       "_view_module": "@jupyter-widgets/controls",
       "_view_module_version": "1.5.0",
       "_view_name": "HTMLView",
       "description": "",
       "description_tooltip": null,
       "layout": "IPY_MODEL_89c89edfc9d74002b3e6761e98503d68",
       "placeholder": "​",
       "style": "IPY_MODEL_696e41d3f0f4473b8aadbe383022005a",
       "value": "Downloading: 100%"
      }
     },
     "2e128c1f2cfc4f0bb92b968e155f7674": {
      "model_module": "@jupyter-widgets/controls",
      "model_module_version": "1.5.0",
      "model_name": "HTMLModel",
      "state": {
       "_dom_classes": [],
       "_model_module": "@jupyter-widgets/controls",
       "_model_module_version": "1.5.0",
       "_model_name": "HTMLModel",
       "_view_count": null,
       "_view_module": "@jupyter-widgets/controls",
       "_view_module_version": "1.5.0",
       "_view_name": "HTMLView",
       "description": "",
       "description_tooltip": null,
       "layout": "IPY_MODEL_fa834369c68d47f2a213431d0581a0bf",
       "placeholder": "​",
       "style": "IPY_MODEL_fbef3afb06f747f2992ecb2c19600120",
       "value": "Downloading: 100%"
      }
     },
     "2ef09ea6a5fa40d0b33961ac60e0432c": {
      "model_module": "@jupyter-widgets/base",
      "model_module_version": "1.2.0",
      "model_name": "LayoutModel",
      "state": {
       "_model_module": "@jupyter-widgets/base",
       "_model_module_version": "1.2.0",
       "_model_name": "LayoutModel",
       "_view_count": null,
       "_view_module": "@jupyter-widgets/base",
       "_view_module_version": "1.2.0",
       "_view_name": "LayoutView",
       "align_content": null,
       "align_items": null,
       "align_self": null,
       "border": null,
       "bottom": null,
       "display": null,
       "flex": null,
       "flex_flow": null,
       "grid_area": null,
       "grid_auto_columns": null,
       "grid_auto_flow": null,
       "grid_auto_rows": null,
       "grid_column": null,
       "grid_gap": null,
       "grid_row": null,
       "grid_template_areas": null,
       "grid_template_columns": null,
       "grid_template_rows": null,
       "height": null,
       "justify_content": null,
       "justify_items": null,
       "left": null,
       "margin": null,
       "max_height": null,
       "max_width": null,
       "min_height": null,
       "min_width": null,
       "object_fit": null,
       "object_position": null,
       "order": null,
       "overflow": null,
       "overflow_x": null,
       "overflow_y": null,
       "padding": null,
       "right": null,
       "top": null,
       "visibility": null,
       "width": null
      }
     },
     "31d74613840e4c5a9dfb06fecde239d2": {
      "model_module": "@jupyter-widgets/controls",
      "model_module_version": "1.5.0",
      "model_name": "DescriptionStyleModel",
      "state": {
       "_model_module": "@jupyter-widgets/controls",
       "_model_module_version": "1.5.0",
       "_model_name": "DescriptionStyleModel",
       "_view_count": null,
       "_view_module": "@jupyter-widgets/base",
       "_view_module_version": "1.2.0",
       "_view_name": "StyleView",
       "description_width": ""
      }
     },
     "33a710ad5a77448ba1911ffccc5dbf14": {
      "model_module": "@jupyter-widgets/controls",
      "model_module_version": "1.5.0",
      "model_name": "HBoxModel",
      "state": {
       "_dom_classes": [],
       "_model_module": "@jupyter-widgets/controls",
       "_model_module_version": "1.5.0",
       "_model_name": "HBoxModel",
       "_view_count": null,
       "_view_module": "@jupyter-widgets/controls",
       "_view_module_version": "1.5.0",
       "_view_name": "HBoxView",
       "box_style": "",
       "children": [
        "IPY_MODEL_5bcae3cb25df4f86a73d3724de122c82",
        "IPY_MODEL_f87d5305625c49ebb95e26cee688e8db",
        "IPY_MODEL_61cc7e7b0c624df2804abf78c4ba79f8"
       ],
       "layout": "IPY_MODEL_457dace46eb0401f83f3b5e984233c69"
      }
     },
     "36e05bafe61049f9bf30516d07e3946f": {
      "model_module": "@jupyter-widgets/base",
      "model_module_version": "1.2.0",
      "model_name": "LayoutModel",
      "state": {
       "_model_module": "@jupyter-widgets/base",
       "_model_module_version": "1.2.0",
       "_model_name": "LayoutModel",
       "_view_count": null,
       "_view_module": "@jupyter-widgets/base",
       "_view_module_version": "1.2.0",
       "_view_name": "LayoutView",
       "align_content": null,
       "align_items": null,
       "align_self": null,
       "border": null,
       "bottom": null,
       "display": null,
       "flex": null,
       "flex_flow": null,
       "grid_area": null,
       "grid_auto_columns": null,
       "grid_auto_flow": null,
       "grid_auto_rows": null,
       "grid_column": null,
       "grid_gap": null,
       "grid_row": null,
       "grid_template_areas": null,
       "grid_template_columns": null,
       "grid_template_rows": null,
       "height": null,
       "justify_content": null,
       "justify_items": null,
       "left": null,
       "margin": null,
       "max_height": null,
       "max_width": null,
       "min_height": null,
       "min_width": null,
       "object_fit": null,
       "object_position": null,
       "order": null,
       "overflow": null,
       "overflow_x": null,
       "overflow_y": null,
       "padding": null,
       "right": null,
       "top": null,
       "visibility": null,
       "width": null
      }
     },
     "42d7328e60fb499fa56ddca4adba1171": {
      "model_module": "@jupyter-widgets/base",
      "model_module_version": "1.2.0",
      "model_name": "LayoutModel",
      "state": {
       "_model_module": "@jupyter-widgets/base",
       "_model_module_version": "1.2.0",
       "_model_name": "LayoutModel",
       "_view_count": null,
       "_view_module": "@jupyter-widgets/base",
       "_view_module_version": "1.2.0",
       "_view_name": "LayoutView",
       "align_content": null,
       "align_items": null,
       "align_self": null,
       "border": null,
       "bottom": null,
       "display": null,
       "flex": null,
       "flex_flow": null,
       "grid_area": null,
       "grid_auto_columns": null,
       "grid_auto_flow": null,
       "grid_auto_rows": null,
       "grid_column": null,
       "grid_gap": null,
       "grid_row": null,
       "grid_template_areas": null,
       "grid_template_columns": null,
       "grid_template_rows": null,
       "height": null,
       "justify_content": null,
       "justify_items": null,
       "left": null,
       "margin": null,
       "max_height": null,
       "max_width": null,
       "min_height": null,
       "min_width": null,
       "object_fit": null,
       "object_position": null,
       "order": null,
       "overflow": null,
       "overflow_x": null,
       "overflow_y": null,
       "padding": null,
       "right": null,
       "top": null,
       "visibility": null,
       "width": null
      }
     },
     "457dace46eb0401f83f3b5e984233c69": {
      "model_module": "@jupyter-widgets/base",
      "model_module_version": "1.2.0",
      "model_name": "LayoutModel",
      "state": {
       "_model_module": "@jupyter-widgets/base",
       "_model_module_version": "1.2.0",
       "_model_name": "LayoutModel",
       "_view_count": null,
       "_view_module": "@jupyter-widgets/base",
       "_view_module_version": "1.2.0",
       "_view_name": "LayoutView",
       "align_content": null,
       "align_items": null,
       "align_self": null,
       "border": null,
       "bottom": null,
       "display": null,
       "flex": null,
       "flex_flow": null,
       "grid_area": null,
       "grid_auto_columns": null,
       "grid_auto_flow": null,
       "grid_auto_rows": null,
       "grid_column": null,
       "grid_gap": null,
       "grid_row": null,
       "grid_template_areas": null,
       "grid_template_columns": null,
       "grid_template_rows": null,
       "height": null,
       "justify_content": null,
       "justify_items": null,
       "left": null,
       "margin": null,
       "max_height": null,
       "max_width": null,
       "min_height": null,
       "min_width": null,
       "object_fit": null,
       "object_position": null,
       "order": null,
       "overflow": null,
       "overflow_x": null,
       "overflow_y": null,
       "padding": null,
       "right": null,
       "top": null,
       "visibility": null,
       "width": null
      }
     },
     "48dbcb7c2c2340e0876011fdbdb33791": {
      "model_module": "@jupyter-widgets/controls",
      "model_module_version": "1.5.0",
      "model_name": "DescriptionStyleModel",
      "state": {
       "_model_module": "@jupyter-widgets/controls",
       "_model_module_version": "1.5.0",
       "_model_name": "DescriptionStyleModel",
       "_view_count": null,
       "_view_module": "@jupyter-widgets/base",
       "_view_module_version": "1.2.0",
       "_view_name": "StyleView",
       "description_width": ""
      }
     },
     "4b195ce3b6454c5caed35dd87a045e27": {
      "model_module": "@jupyter-widgets/controls",
      "model_module_version": "1.5.0",
      "model_name": "HTMLModel",
      "state": {
       "_dom_classes": [],
       "_model_module": "@jupyter-widgets/controls",
       "_model_module_version": "1.5.0",
       "_model_name": "HTMLModel",
       "_view_count": null,
       "_view_module": "@jupyter-widgets/controls",
       "_view_module_version": "1.5.0",
       "_view_name": "HTMLView",
       "description": "",
       "description_tooltip": null,
       "layout": "IPY_MODEL_6e2d8f66335a4b4a8a1367e2e4934fac",
       "placeholder": "​",
       "style": "IPY_MODEL_ddcef5bc8f084f71abc8edaed602ae70",
       "value": "Downloading: 100%"
      }
     },
     "4da4f437cbbe4e7099794399518e17d4": {
      "model_module": "@jupyter-widgets/controls",
      "model_module_version": "1.5.0",
      "model_name": "HBoxModel",
      "state": {
       "_dom_classes": [],
       "_model_module": "@jupyter-widgets/controls",
       "_model_module_version": "1.5.0",
       "_model_name": "HBoxModel",
       "_view_count": null,
       "_view_module": "@jupyter-widgets/controls",
       "_view_module_version": "1.5.0",
       "_view_name": "HBoxView",
       "box_style": "",
       "children": [
        "IPY_MODEL_c81c8ed7980146f6abcbd91b07500cfe",
        "IPY_MODEL_df468eba90f94d7fae84987c6c52e896",
        "IPY_MODEL_f7cee74b8c3f4c6fb8639b39e7bd37a4"
       ],
       "layout": "IPY_MODEL_36e05bafe61049f9bf30516d07e3946f"
      }
     },
     "5317950638304951889f8ed981a7b3fc": {
      "model_module": "@jupyter-widgets/controls",
      "model_module_version": "1.5.0",
      "model_name": "FloatProgressModel",
      "state": {
       "_dom_classes": [],
       "_model_module": "@jupyter-widgets/controls",
       "_model_module_version": "1.5.0",
       "_model_name": "FloatProgressModel",
       "_view_count": null,
       "_view_module": "@jupyter-widgets/controls",
       "_view_module_version": "1.5.0",
       "_view_name": "ProgressView",
       "bar_style": "success",
       "description": "",
       "description_tooltip": null,
       "layout": "IPY_MODEL_d8f5fe9fcd974e3586e678f9bb96ba46",
       "max": 39.0,
       "min": 0.0,
       "orientation": "horizontal",
       "style": "IPY_MODEL_1f519ac5f80d4275be519411c763a1d6",
       "value": 39.0
      }
     },
     "53df3593e3124f488711c0fb47e50814": {
      "model_module": "@jupyter-widgets/base",
      "model_module_version": "1.2.0",
      "model_name": "LayoutModel",
      "state": {
       "_model_module": "@jupyter-widgets/base",
       "_model_module_version": "1.2.0",
       "_model_name": "LayoutModel",
       "_view_count": null,
       "_view_module": "@jupyter-widgets/base",
       "_view_module_version": "1.2.0",
       "_view_name": "LayoutView",
       "align_content": null,
       "align_items": null,
       "align_self": null,
       "border": null,
       "bottom": null,
       "display": null,
       "flex": null,
       "flex_flow": null,
       "grid_area": null,
       "grid_auto_columns": null,
       "grid_auto_flow": null,
       "grid_auto_rows": null,
       "grid_column": null,
       "grid_gap": null,
       "grid_row": null,
       "grid_template_areas": null,
       "grid_template_columns": null,
       "grid_template_rows": null,
       "height": null,
       "justify_content": null,
       "justify_items": null,
       "left": null,
       "margin": null,
       "max_height": null,
       "max_width": null,
       "min_height": null,
       "min_width": null,
       "object_fit": null,
       "object_position": null,
       "order": null,
       "overflow": null,
       "overflow_x": null,
       "overflow_y": null,
       "padding": null,
       "right": null,
       "top": null,
       "visibility": null,
       "width": null
      }
     },
     "5717a3dfefef49f5938e9617fc91bba6": {
      "model_module": "@jupyter-widgets/controls",
      "model_module_version": "1.5.0",
      "model_name": "HBoxModel",
      "state": {
       "_dom_classes": [],
       "_model_module": "@jupyter-widgets/controls",
       "_model_module_version": "1.5.0",
       "_model_name": "HBoxModel",
       "_view_count": null,
       "_view_module": "@jupyter-widgets/controls",
       "_view_module_version": "1.5.0",
       "_view_name": "HBoxView",
       "box_style": "",
       "children": [
        "IPY_MODEL_2e128c1f2cfc4f0bb92b968e155f7674",
        "IPY_MODEL_5317950638304951889f8ed981a7b3fc",
        "IPY_MODEL_96c9df4759ce4888a8f25ce5fea2fb04"
       ],
       "layout": "IPY_MODEL_979a1597e2ca4712ba8ccf05ae888025"
      }
     },
     "59a9bfd403e14fd9a3d84405bd8b2897": {
      "model_module": "@jupyter-widgets/base",
      "model_module_version": "1.2.0",
      "model_name": "LayoutModel",
      "state": {
       "_model_module": "@jupyter-widgets/base",
       "_model_module_version": "1.2.0",
       "_model_name": "LayoutModel",
       "_view_count": null,
       "_view_module": "@jupyter-widgets/base",
       "_view_module_version": "1.2.0",
       "_view_name": "LayoutView",
       "align_content": null,
       "align_items": null,
       "align_self": null,
       "border": null,
       "bottom": null,
       "display": null,
       "flex": null,
       "flex_flow": null,
       "grid_area": null,
       "grid_auto_columns": null,
       "grid_auto_flow": null,
       "grid_auto_rows": null,
       "grid_column": null,
       "grid_gap": null,
       "grid_row": null,
       "grid_template_areas": null,
       "grid_template_columns": null,
       "grid_template_rows": null,
       "height": null,
       "justify_content": null,
       "justify_items": null,
       "left": null,
       "margin": null,
       "max_height": null,
       "max_width": null,
       "min_height": null,
       "min_width": null,
       "object_fit": null,
       "object_position": null,
       "order": null,
       "overflow": null,
       "overflow_x": null,
       "overflow_y": null,
       "padding": null,
       "right": null,
       "top": null,
       "visibility": null,
       "width": null
      }
     },
     "5bcae3cb25df4f86a73d3724de122c82": {
      "model_module": "@jupyter-widgets/controls",
      "model_module_version": "1.5.0",
      "model_name": "HTMLModel",
      "state": {
       "_dom_classes": [],
       "_model_module": "@jupyter-widgets/controls",
       "_model_module_version": "1.5.0",
       "_model_name": "HTMLModel",
       "_view_count": null,
       "_view_module": "@jupyter-widgets/controls",
       "_view_module_version": "1.5.0",
       "_view_name": "HTMLView",
       "description": "",
       "description_tooltip": null,
       "layout": "IPY_MODEL_7961dc9735c8475f903b6def2c4b1353",
       "placeholder": "​",
       "style": "IPY_MODEL_7421b891c285437eb34f2acd7f1df7cc",
       "value": "Downloading: 100%"
      }
     },
     "5d6a9e55198a4e60ba0e14aa68344ec1": {
      "model_module": "@jupyter-widgets/controls",
      "model_module_version": "1.5.0",
      "model_name": "DescriptionStyleModel",
      "state": {
       "_model_module": "@jupyter-widgets/controls",
       "_model_module_version": "1.5.0",
       "_model_name": "DescriptionStyleModel",
       "_view_count": null,
       "_view_module": "@jupyter-widgets/base",
       "_view_module_version": "1.2.0",
       "_view_name": "StyleView",
       "description_width": ""
      }
     },
     "5e4c315cf0564f9db71daca259065b40": {
      "model_module": "@jupyter-widgets/base",
      "model_module_version": "1.2.0",
      "model_name": "LayoutModel",
      "state": {
       "_model_module": "@jupyter-widgets/base",
       "_model_module_version": "1.2.0",
       "_model_name": "LayoutModel",
       "_view_count": null,
       "_view_module": "@jupyter-widgets/base",
       "_view_module_version": "1.2.0",
       "_view_name": "LayoutView",
       "align_content": null,
       "align_items": null,
       "align_self": null,
       "border": null,
       "bottom": null,
       "display": null,
       "flex": null,
       "flex_flow": null,
       "grid_area": null,
       "grid_auto_columns": null,
       "grid_auto_flow": null,
       "grid_auto_rows": null,
       "grid_column": null,
       "grid_gap": null,
       "grid_row": null,
       "grid_template_areas": null,
       "grid_template_columns": null,
       "grid_template_rows": null,
       "height": null,
       "justify_content": null,
       "justify_items": null,
       "left": null,
       "margin": null,
       "max_height": null,
       "max_width": null,
       "min_height": null,
       "min_width": null,
       "object_fit": null,
       "object_position": null,
       "order": null,
       "overflow": null,
       "overflow_x": null,
       "overflow_y": null,
       "padding": null,
       "right": null,
       "top": null,
       "visibility": null,
       "width": null
      }
     },
     "5e51f3aeb9b74f35bdd62039677b8082": {
      "model_module": "@jupyter-widgets/base",
      "model_module_version": "1.2.0",
      "model_name": "LayoutModel",
      "state": {
       "_model_module": "@jupyter-widgets/base",
       "_model_module_version": "1.2.0",
       "_model_name": "LayoutModel",
       "_view_count": null,
       "_view_module": "@jupyter-widgets/base",
       "_view_module_version": "1.2.0",
       "_view_name": "LayoutView",
       "align_content": null,
       "align_items": null,
       "align_self": null,
       "border": null,
       "bottom": null,
       "display": null,
       "flex": null,
       "flex_flow": null,
       "grid_area": null,
       "grid_auto_columns": null,
       "grid_auto_flow": null,
       "grid_auto_rows": null,
       "grid_column": null,
       "grid_gap": null,
       "grid_row": null,
       "grid_template_areas": null,
       "grid_template_columns": null,
       "grid_template_rows": null,
       "height": null,
       "justify_content": null,
       "justify_items": null,
       "left": null,
       "margin": null,
       "max_height": null,
       "max_width": null,
       "min_height": null,
       "min_width": null,
       "object_fit": null,
       "object_position": null,
       "order": null,
       "overflow": null,
       "overflow_x": null,
       "overflow_y": null,
       "padding": null,
       "right": null,
       "top": null,
       "visibility": null,
       "width": null
      }
     },
     "5eb81d07311348ac9bd03fe5afd7dd6c": {
      "model_module": "@jupyter-widgets/controls",
      "model_module_version": "1.5.0",
      "model_name": "HBoxModel",
      "state": {
       "_dom_classes": [],
       "_model_module": "@jupyter-widgets/controls",
       "_model_module_version": "1.5.0",
       "_model_name": "HBoxModel",
       "_view_count": null,
       "_view_module": "@jupyter-widgets/controls",
       "_view_module_version": "1.5.0",
       "_view_name": "HBoxView",
       "box_style": "",
       "children": [
        "IPY_MODEL_c1fc80479dab42419369415efbe14eb4",
        "IPY_MODEL_8b8c0e341ad84d7d82308307d0e30b7b",
        "IPY_MODEL_7f6fec2a622345eda4533531971a6159"
       ],
       "layout": "IPY_MODEL_a0979079a3bc42928c1883cf1fd81c8b"
      }
     },
     "5ffd11bc6e8a474da2b847eea99eeaa7": {
      "model_module": "@jupyter-widgets/controls",
      "model_module_version": "1.5.0",
      "model_name": "DescriptionStyleModel",
      "state": {
       "_model_module": "@jupyter-widgets/controls",
       "_model_module_version": "1.5.0",
       "_model_name": "DescriptionStyleModel",
       "_view_count": null,
       "_view_module": "@jupyter-widgets/base",
       "_view_module_version": "1.2.0",
       "_view_name": "StyleView",
       "description_width": ""
      }
     },
     "61caa2693ee0480fb21a80f901ff04da": {
      "model_module": "@jupyter-widgets/controls",
      "model_module_version": "1.5.0",
      "model_name": "HTMLModel",
      "state": {
       "_dom_classes": [],
       "_model_module": "@jupyter-widgets/controls",
       "_model_module_version": "1.5.0",
       "_model_name": "HTMLModel",
       "_view_count": null,
       "_view_module": "@jupyter-widgets/controls",
       "_view_module_version": "1.5.0",
       "_view_name": "HTMLView",
       "description": "",
       "description_tooltip": null,
       "layout": "IPY_MODEL_ba911b9621f6489a9571d03e7612bab1",
       "placeholder": "​",
       "style": "IPY_MODEL_d335162fd04946008d9e8f59826e9660",
       "value": "Downloading: 100%"
      }
     },
     "61cc7e7b0c624df2804abf78c4ba79f8": {
      "model_module": "@jupyter-widgets/controls",
      "model_module_version": "1.5.0",
      "model_name": "HTMLModel",
      "state": {
       "_dom_classes": [],
       "_model_module": "@jupyter-widgets/controls",
       "_model_module_version": "1.5.0",
       "_model_name": "HTMLModel",
       "_view_count": null,
       "_view_module": "@jupyter-widgets/controls",
       "_view_module_version": "1.5.0",
       "_view_name": "HTMLView",
       "description": "",
       "description_tooltip": null,
       "layout": "IPY_MODEL_2ef09ea6a5fa40d0b33961ac60e0432c",
       "placeholder": "​",
       "style": "IPY_MODEL_b96566376240403086eb73f96f8f593d",
       "value": " 226k/226k [00:00&lt;00:00, 3.03MB/s]"
      }
     },
     "696e41d3f0f4473b8aadbe383022005a": {
      "model_module": "@jupyter-widgets/controls",
      "model_module_version": "1.5.0",
      "model_name": "DescriptionStyleModel",
      "state": {
       "_model_module": "@jupyter-widgets/controls",
       "_model_module_version": "1.5.0",
       "_model_name": "DescriptionStyleModel",
       "_view_count": null,
       "_view_module": "@jupyter-widgets/base",
       "_view_module_version": "1.2.0",
       "_view_name": "StyleView",
       "description_width": ""
      }
     },
     "699db200e7c44dbc81e6576a84091013": {
      "model_module": "@jupyter-widgets/controls",
      "model_module_version": "1.5.0",
      "model_name": "HTMLModel",
      "state": {
       "_dom_classes": [],
       "_model_module": "@jupyter-widgets/controls",
       "_model_module_version": "1.5.0",
       "_model_name": "HTMLModel",
       "_view_count": null,
       "_view_module": "@jupyter-widgets/controls",
       "_view_module_version": "1.5.0",
       "_view_name": "HTMLView",
       "description": "",
       "description_tooltip": null,
       "layout": "IPY_MODEL_1e8031bd829043c693647768996d63af",
       "placeholder": "​",
       "style": "IPY_MODEL_8da6e306329a4a47b24b7884cd70f153",
       "value": "Downloading: 100%"
      }
     },
     "6be1c51c01334b8bb7435c0e096e25bf": {
      "model_module": "@jupyter-widgets/controls",
      "model_module_version": "1.5.0",
      "model_name": "HBoxModel",
      "state": {
       "_dom_classes": [],
       "_model_module": "@jupyter-widgets/controls",
       "_model_module_version": "1.5.0",
       "_model_name": "HBoxModel",
       "_view_count": null,
       "_view_module": "@jupyter-widgets/controls",
       "_view_module_version": "1.5.0",
       "_view_name": "HBoxView",
       "box_style": "",
       "children": [
        "IPY_MODEL_61caa2693ee0480fb21a80f901ff04da",
        "IPY_MODEL_e175882d13e94bf18635ffa11128d044",
        "IPY_MODEL_0d5743b768fa444581b3b35f18b938ed"
       ],
       "layout": "IPY_MODEL_ee588c6343ad48b89d208e8b80c6b2cf"
      }
     },
     "6e2d8f66335a4b4a8a1367e2e4934fac": {
      "model_module": "@jupyter-widgets/base",
      "model_module_version": "1.2.0",
      "model_name": "LayoutModel",
      "state": {
       "_model_module": "@jupyter-widgets/base",
       "_model_module_version": "1.2.0",
       "_model_name": "LayoutModel",
       "_view_count": null,
       "_view_module": "@jupyter-widgets/base",
       "_view_module_version": "1.2.0",
       "_view_name": "LayoutView",
       "align_content": null,
       "align_items": null,
       "align_self": null,
       "border": null,
       "bottom": null,
       "display": null,
       "flex": null,
       "flex_flow": null,
       "grid_area": null,
       "grid_auto_columns": null,
       "grid_auto_flow": null,
       "grid_auto_rows": null,
       "grid_column": null,
       "grid_gap": null,
       "grid_row": null,
       "grid_template_areas": null,
       "grid_template_columns": null,
       "grid_template_rows": null,
       "height": null,
       "justify_content": null,
       "justify_items": null,
       "left": null,
       "margin": null,
       "max_height": null,
       "max_width": null,
       "min_height": null,
       "min_width": null,
       "object_fit": null,
       "object_position": null,
       "order": null,
       "overflow": null,
       "overflow_x": null,
       "overflow_y": null,
       "padding": null,
       "right": null,
       "top": null,
       "visibility": null,
       "width": null
      }
     },
     "7055518514cf42bb8e15b5f21821a82d": {
      "model_module": "@jupyter-widgets/base",
      "model_module_version": "1.2.0",
      "model_name": "LayoutModel",
      "state": {
       "_model_module": "@jupyter-widgets/base",
       "_model_module_version": "1.2.0",
       "_model_name": "LayoutModel",
       "_view_count": null,
       "_view_module": "@jupyter-widgets/base",
       "_view_module_version": "1.2.0",
       "_view_name": "LayoutView",
       "align_content": null,
       "align_items": null,
       "align_self": null,
       "border": null,
       "bottom": null,
       "display": null,
       "flex": null,
       "flex_flow": null,
       "grid_area": null,
       "grid_auto_columns": null,
       "grid_auto_flow": null,
       "grid_auto_rows": null,
       "grid_column": null,
       "grid_gap": null,
       "grid_row": null,
       "grid_template_areas": null,
       "grid_template_columns": null,
       "grid_template_rows": null,
       "height": null,
       "justify_content": null,
       "justify_items": null,
       "left": null,
       "margin": null,
       "max_height": null,
       "max_width": null,
       "min_height": null,
       "min_width": null,
       "object_fit": null,
       "object_position": null,
       "order": null,
       "overflow": null,
       "overflow_x": null,
       "overflow_y": null,
       "padding": null,
       "right": null,
       "top": null,
       "visibility": null,
       "width": null
      }
     },
     "73931cff694a41878ecc3332d555a9a8": {
      "model_module": "@jupyter-widgets/base",
      "model_module_version": "1.2.0",
      "model_name": "LayoutModel",
      "state": {
       "_model_module": "@jupyter-widgets/base",
       "_model_module_version": "1.2.0",
       "_model_name": "LayoutModel",
       "_view_count": null,
       "_view_module": "@jupyter-widgets/base",
       "_view_module_version": "1.2.0",
       "_view_name": "LayoutView",
       "align_content": null,
       "align_items": null,
       "align_self": null,
       "border": null,
       "bottom": null,
       "display": null,
       "flex": null,
       "flex_flow": null,
       "grid_area": null,
       "grid_auto_columns": null,
       "grid_auto_flow": null,
       "grid_auto_rows": null,
       "grid_column": null,
       "grid_gap": null,
       "grid_row": null,
       "grid_template_areas": null,
       "grid_template_columns": null,
       "grid_template_rows": null,
       "height": null,
       "justify_content": null,
       "justify_items": null,
       "left": null,
       "margin": null,
       "max_height": null,
       "max_width": null,
       "min_height": null,
       "min_width": null,
       "object_fit": null,
       "object_position": null,
       "order": null,
       "overflow": null,
       "overflow_x": null,
       "overflow_y": null,
       "padding": null,
       "right": null,
       "top": null,
       "visibility": null,
       "width": null
      }
     },
     "741e5502b1be4371a14fc5d6cd2e4b18": {
      "model_module": "@jupyter-widgets/controls",
      "model_module_version": "1.5.0",
      "model_name": "DescriptionStyleModel",
      "state": {
       "_model_module": "@jupyter-widgets/controls",
       "_model_module_version": "1.5.0",
       "_model_name": "DescriptionStyleModel",
       "_view_count": null,
       "_view_module": "@jupyter-widgets/base",
       "_view_module_version": "1.2.0",
       "_view_name": "StyleView",
       "description_width": ""
      }
     },
     "7421b891c285437eb34f2acd7f1df7cc": {
      "model_module": "@jupyter-widgets/controls",
      "model_module_version": "1.5.0",
      "model_name": "DescriptionStyleModel",
      "state": {
       "_model_module": "@jupyter-widgets/controls",
       "_model_module_version": "1.5.0",
       "_model_name": "DescriptionStyleModel",
       "_view_count": null,
       "_view_module": "@jupyter-widgets/base",
       "_view_module_version": "1.2.0",
       "_view_name": "StyleView",
       "description_width": ""
      }
     },
     "77d37964308a47f6974c81a26c80d7d8": {
      "model_module": "@jupyter-widgets/controls",
      "model_module_version": "1.5.0",
      "model_name": "ProgressStyleModel",
      "state": {
       "_model_module": "@jupyter-widgets/controls",
       "_model_module_version": "1.5.0",
       "_model_name": "ProgressStyleModel",
       "_view_count": null,
       "_view_module": "@jupyter-widgets/base",
       "_view_module_version": "1.2.0",
       "_view_name": "StyleView",
       "bar_color": null,
       "description_width": ""
      }
     },
     "78ca9d5fe7cf4b929e901ce229400302": {
      "model_module": "@jupyter-widgets/base",
      "model_module_version": "1.2.0",
      "model_name": "LayoutModel",
      "state": {
       "_model_module": "@jupyter-widgets/base",
       "_model_module_version": "1.2.0",
       "_model_name": "LayoutModel",
       "_view_count": null,
       "_view_module": "@jupyter-widgets/base",
       "_view_module_version": "1.2.0",
       "_view_name": "LayoutView",
       "align_content": null,
       "align_items": null,
       "align_self": null,
       "border": null,
       "bottom": null,
       "display": null,
       "flex": null,
       "flex_flow": null,
       "grid_area": null,
       "grid_auto_columns": null,
       "grid_auto_flow": null,
       "grid_auto_rows": null,
       "grid_column": null,
       "grid_gap": null,
       "grid_row": null,
       "grid_template_areas": null,
       "grid_template_columns": null,
       "grid_template_rows": null,
       "height": null,
       "justify_content": null,
       "justify_items": null,
       "left": null,
       "margin": null,
       "max_height": null,
       "max_width": null,
       "min_height": null,
       "min_width": null,
       "object_fit": null,
       "object_position": null,
       "order": null,
       "overflow": null,
       "overflow_x": null,
       "overflow_y": null,
       "padding": null,
       "right": null,
       "top": null,
       "visibility": null,
       "width": null
      }
     },
     "7961dc9735c8475f903b6def2c4b1353": {
      "model_module": "@jupyter-widgets/base",
      "model_module_version": "1.2.0",
      "model_name": "LayoutModel",
      "state": {
       "_model_module": "@jupyter-widgets/base",
       "_model_module_version": "1.2.0",
       "_model_name": "LayoutModel",
       "_view_count": null,
       "_view_module": "@jupyter-widgets/base",
       "_view_module_version": "1.2.0",
       "_view_name": "LayoutView",
       "align_content": null,
       "align_items": null,
       "align_self": null,
       "border": null,
       "bottom": null,
       "display": null,
       "flex": null,
       "flex_flow": null,
       "grid_area": null,
       "grid_auto_columns": null,
       "grid_auto_flow": null,
       "grid_auto_rows": null,
       "grid_column": null,
       "grid_gap": null,
       "grid_row": null,
       "grid_template_areas": null,
       "grid_template_columns": null,
       "grid_template_rows": null,
       "height": null,
       "justify_content": null,
       "justify_items": null,
       "left": null,
       "margin": null,
       "max_height": null,
       "max_width": null,
       "min_height": null,
       "min_width": null,
       "object_fit": null,
       "object_position": null,
       "order": null,
       "overflow": null,
       "overflow_x": null,
       "overflow_y": null,
       "padding": null,
       "right": null,
       "top": null,
       "visibility": null,
       "width": null
      }
     },
     "7f6fec2a622345eda4533531971a6159": {
      "model_module": "@jupyter-widgets/controls",
      "model_module_version": "1.5.0",
      "model_name": "HTMLModel",
      "state": {
       "_dom_classes": [],
       "_model_module": "@jupyter-widgets/controls",
       "_model_module_version": "1.5.0",
       "_model_name": "HTMLModel",
       "_view_count": null,
       "_view_module": "@jupyter-widgets/controls",
       "_view_module_version": "1.5.0",
       "_view_name": "HTMLView",
       "description": "",
       "description_tooltip": null,
       "layout": "IPY_MODEL_0eb7fd6291b140f9bfeeebcc1801cef1",
       "placeholder": "​",
       "style": "IPY_MODEL_31d74613840e4c5a9dfb06fecde239d2",
       "value": " 1.23k/1.23k [00:00&lt;00:00, 51.8kB/s]"
      }
     },
     "85635bdd7a684ca9af3156d22e490b58": {
      "model_module": "@jupyter-widgets/base",
      "model_module_version": "1.2.0",
      "model_name": "LayoutModel",
      "state": {
       "_model_module": "@jupyter-widgets/base",
       "_model_module_version": "1.2.0",
       "_model_name": "LayoutModel",
       "_view_count": null,
       "_view_module": "@jupyter-widgets/base",
       "_view_module_version": "1.2.0",
       "_view_name": "LayoutView",
       "align_content": null,
       "align_items": null,
       "align_self": null,
       "border": null,
       "bottom": null,
       "display": null,
       "flex": null,
       "flex_flow": null,
       "grid_area": null,
       "grid_auto_columns": null,
       "grid_auto_flow": null,
       "grid_auto_rows": null,
       "grid_column": null,
       "grid_gap": null,
       "grid_row": null,
       "grid_template_areas": null,
       "grid_template_columns": null,
       "grid_template_rows": null,
       "height": null,
       "justify_content": null,
       "justify_items": null,
       "left": null,
       "margin": null,
       "max_height": null,
       "max_width": null,
       "min_height": null,
       "min_width": null,
       "object_fit": null,
       "object_position": null,
       "order": null,
       "overflow": null,
       "overflow_x": null,
       "overflow_y": null,
       "padding": null,
       "right": null,
       "top": null,
       "visibility": null,
       "width": null
      }
     },
     "859fc11c250140289c39a7dca390dd6e": {
      "model_module": "@jupyter-widgets/controls",
      "model_module_version": "1.5.0",
      "model_name": "ProgressStyleModel",
      "state": {
       "_model_module": "@jupyter-widgets/controls",
       "_model_module_version": "1.5.0",
       "_model_name": "ProgressStyleModel",
       "_view_count": null,
       "_view_module": "@jupyter-widgets/base",
       "_view_module_version": "1.2.0",
       "_view_name": "StyleView",
       "bar_color": null,
       "description_width": ""
      }
     },
     "89c89edfc9d74002b3e6761e98503d68": {
      "model_module": "@jupyter-widgets/base",
      "model_module_version": "1.2.0",
      "model_name": "LayoutModel",
      "state": {
       "_model_module": "@jupyter-widgets/base",
       "_model_module_version": "1.2.0",
       "_model_name": "LayoutModel",
       "_view_count": null,
       "_view_module": "@jupyter-widgets/base",
       "_view_module_version": "1.2.0",
       "_view_name": "LayoutView",
       "align_content": null,
       "align_items": null,
       "align_self": null,
       "border": null,
       "bottom": null,
       "display": null,
       "flex": null,
       "flex_flow": null,
       "grid_area": null,
       "grid_auto_columns": null,
       "grid_auto_flow": null,
       "grid_auto_rows": null,
       "grid_column": null,
       "grid_gap": null,
       "grid_row": null,
       "grid_template_areas": null,
       "grid_template_columns": null,
       "grid_template_rows": null,
       "height": null,
       "justify_content": null,
       "justify_items": null,
       "left": null,
       "margin": null,
       "max_height": null,
       "max_width": null,
       "min_height": null,
       "min_width": null,
       "object_fit": null,
       "object_position": null,
       "order": null,
       "overflow": null,
       "overflow_x": null,
       "overflow_y": null,
       "padding": null,
       "right": null,
       "top": null,
       "visibility": null,
       "width": null
      }
     },
     "8b8c0e341ad84d7d82308307d0e30b7b": {
      "model_module": "@jupyter-widgets/controls",
      "model_module_version": "1.5.0",
      "model_name": "FloatProgressModel",
      "state": {
       "_dom_classes": [],
       "_model_module": "@jupyter-widgets/controls",
       "_model_module_version": "1.5.0",
       "_model_name": "FloatProgressModel",
       "_view_count": null,
       "_view_module": "@jupyter-widgets/controls",
       "_view_module_version": "1.5.0",
       "_view_name": "ProgressView",
       "bar_style": "success",
       "description": "",
       "description_tooltip": null,
       "layout": "IPY_MODEL_7055518514cf42bb8e15b5f21821a82d",
       "max": 1257.0,
       "min": 0.0,
       "orientation": "horizontal",
       "style": "IPY_MODEL_e1e4cbbe938b4777bda867a7515ac31f",
       "value": 1257.0
      }
     },
     "8da6e306329a4a47b24b7884cd70f153": {
      "model_module": "@jupyter-widgets/controls",
      "model_module_version": "1.5.0",
      "model_name": "DescriptionStyleModel",
      "state": {
       "_model_module": "@jupyter-widgets/controls",
       "_model_module_version": "1.5.0",
       "_model_name": "DescriptionStyleModel",
       "_view_count": null,
       "_view_module": "@jupyter-widgets/base",
       "_view_module_version": "1.2.0",
       "_view_name": "StyleView",
       "description_width": ""
      }
     },
     "96c9df4759ce4888a8f25ce5fea2fb04": {
      "model_module": "@jupyter-widgets/controls",
      "model_module_version": "1.5.0",
      "model_name": "HTMLModel",
      "state": {
       "_dom_classes": [],
       "_model_module": "@jupyter-widgets/controls",
       "_model_module_version": "1.5.0",
       "_model_name": "HTMLModel",
       "_view_count": null,
       "_view_module": "@jupyter-widgets/controls",
       "_view_module_version": "1.5.0",
       "_view_name": "HTMLView",
       "description": "",
       "description_tooltip": null,
       "layout": "IPY_MODEL_20694555974146598dcdf0090b1e3371",
       "placeholder": "​",
       "style": "IPY_MODEL_ecd7601f8faa48eb8441407aec09d1bc",
       "value": " 39.0/39.0 [00:00&lt;00:00, 1.19kB/s]"
      }
     },
     "979a1597e2ca4712ba8ccf05ae888025": {
      "model_module": "@jupyter-widgets/base",
      "model_module_version": "1.2.0",
      "model_name": "LayoutModel",
      "state": {
       "_model_module": "@jupyter-widgets/base",
       "_model_module_version": "1.2.0",
       "_model_name": "LayoutModel",
       "_view_count": null,
       "_view_module": "@jupyter-widgets/base",
       "_view_module_version": "1.2.0",
       "_view_name": "LayoutView",
       "align_content": null,
       "align_items": null,
       "align_self": null,
       "border": null,
       "bottom": null,
       "display": null,
       "flex": null,
       "flex_flow": null,
       "grid_area": null,
       "grid_auto_columns": null,
       "grid_auto_flow": null,
       "grid_auto_rows": null,
       "grid_column": null,
       "grid_gap": null,
       "grid_row": null,
       "grid_template_areas": null,
       "grid_template_columns": null,
       "grid_template_rows": null,
       "height": null,
       "justify_content": null,
       "justify_items": null,
       "left": null,
       "margin": null,
       "max_height": null,
       "max_width": null,
       "min_height": null,
       "min_width": null,
       "object_fit": null,
       "object_position": null,
       "order": null,
       "overflow": null,
       "overflow_x": null,
       "overflow_y": null,
       "padding": null,
       "right": null,
       "top": null,
       "visibility": null,
       "width": null
      }
     },
     "97bc2dd2168347e693bdd48c93cdb4d7": {
      "model_module": "@jupyter-widgets/controls",
      "model_module_version": "1.5.0",
      "model_name": "FloatProgressModel",
      "state": {
       "_dom_classes": [],
       "_model_module": "@jupyter-widgets/controls",
       "_model_module_version": "1.5.0",
       "_model_name": "FloatProgressModel",
       "_view_count": null,
       "_view_module": "@jupyter-widgets/controls",
       "_view_module_version": "1.5.0",
       "_view_name": "ProgressView",
       "bar_style": "success",
       "description": "",
       "description_tooltip": null,
       "layout": "IPY_MODEL_14e1dba246ec4899825bfa6d0e361670",
       "max": 438006919.0,
       "min": 0.0,
       "orientation": "horizontal",
       "style": "IPY_MODEL_ca3f3a3137154a7f8278a75cb48a1f7d",
       "value": 438006919.0
      }
     },
     "97d23f6376e44f2a984acb047fa5d0c5": {
      "model_module": "@jupyter-widgets/controls",
      "model_module_version": "1.5.0",
      "model_name": "HTMLModel",
      "state": {
       "_dom_classes": [],
       "_model_module": "@jupyter-widgets/controls",
       "_model_module_version": "1.5.0",
       "_model_name": "HTMLModel",
       "_view_count": null,
       "_view_module": "@jupyter-widgets/controls",
       "_view_module_version": "1.5.0",
       "_view_name": "HTMLView",
       "description": "",
       "description_tooltip": null,
       "layout": "IPY_MODEL_b553f090535b4dcd896495f7648f45a1",
       "placeholder": "​",
       "style": "IPY_MODEL_48dbcb7c2c2340e0876011fdbdb33791",
       "value": " 60.0/60.0 [00:00&lt;00:00, 2.54kB/s]"
      }
     },
     "988d7c1043ea4ad7af18ae41edbb49e4": {
      "model_module": "@jupyter-widgets/base",
      "model_module_version": "1.2.0",
      "model_name": "LayoutModel",
      "state": {
       "_model_module": "@jupyter-widgets/base",
       "_model_module_version": "1.2.0",
       "_model_name": "LayoutModel",
       "_view_count": null,
       "_view_module": "@jupyter-widgets/base",
       "_view_module_version": "1.2.0",
       "_view_name": "LayoutView",
       "align_content": null,
       "align_items": null,
       "align_self": null,
       "border": null,
       "bottom": null,
       "display": null,
       "flex": null,
       "flex_flow": null,
       "grid_area": null,
       "grid_auto_columns": null,
       "grid_auto_flow": null,
       "grid_auto_rows": null,
       "grid_column": null,
       "grid_gap": null,
       "grid_row": null,
       "grid_template_areas": null,
       "grid_template_columns": null,
       "grid_template_rows": null,
       "height": null,
       "justify_content": null,
       "justify_items": null,
       "left": null,
       "margin": null,
       "max_height": null,
       "max_width": null,
       "min_height": null,
       "min_width": null,
       "object_fit": null,
       "object_position": null,
       "order": null,
       "overflow": null,
       "overflow_x": null,
       "overflow_y": null,
       "padding": null,
       "right": null,
       "top": null,
       "visibility": null,
       "width": null
      }
     },
     "9b377f2a92c04aae919b21a84a1549c1": {
      "model_module": "@jupyter-widgets/controls",
      "model_module_version": "1.5.0",
      "model_name": "HTMLModel",
      "state": {
       "_dom_classes": [],
       "_model_module": "@jupyter-widgets/controls",
       "_model_module_version": "1.5.0",
       "_model_name": "HTMLModel",
       "_view_count": null,
       "_view_module": "@jupyter-widgets/controls",
       "_view_module_version": "1.5.0",
       "_view_name": "HTMLView",
       "description": "",
       "description_tooltip": null,
       "layout": "IPY_MODEL_988d7c1043ea4ad7af18ae41edbb49e4",
       "placeholder": "​",
       "style": "IPY_MODEL_741e5502b1be4371a14fc5d6cd2e4b18",
       "value": "Downloading: 100%"
      }
     },
     "9b4fd7f606ff49e99d852e3c7cc51830": {
      "model_module": "@jupyter-widgets/controls",
      "model_module_version": "1.5.0",
      "model_name": "DescriptionStyleModel",
      "state": {
       "_model_module": "@jupyter-widgets/controls",
       "_model_module_version": "1.5.0",
       "_model_name": "DescriptionStyleModel",
       "_view_count": null,
       "_view_module": "@jupyter-widgets/base",
       "_view_module_version": "1.2.0",
       "_view_name": "StyleView",
       "description_width": ""
      }
     },
     "9c33e41011834016b8dd8a772387e0b4": {
      "model_module": "@jupyter-widgets/controls",
      "model_module_version": "1.5.0",
      "model_name": "ProgressStyleModel",
      "state": {
       "_model_module": "@jupyter-widgets/controls",
       "_model_module_version": "1.5.0",
       "_model_name": "ProgressStyleModel",
       "_view_count": null,
       "_view_module": "@jupyter-widgets/base",
       "_view_module_version": "1.2.0",
       "_view_name": "StyleView",
       "bar_color": null,
       "description_width": ""
      }
     },
     "a05ae193646b49d38df9a784f1d54991": {
      "model_module": "@jupyter-widgets/controls",
      "model_module_version": "1.5.0",
      "model_name": "HBoxModel",
      "state": {
       "_dom_classes": [],
       "_model_module": "@jupyter-widgets/controls",
       "_model_module_version": "1.5.0",
       "_model_name": "HBoxModel",
       "_view_count": null,
       "_view_module": "@jupyter-widgets/controls",
       "_view_module_version": "1.5.0",
       "_view_name": "HBoxView",
       "box_style": "",
       "children": [
        "IPY_MODEL_2c0d3f009c834f8b846f04de2ab0f30e",
        "IPY_MODEL_f6030a2c9d734905a2490d30008a59b9",
        "IPY_MODEL_97d23f6376e44f2a984acb047fa5d0c5"
       ],
       "layout": "IPY_MODEL_1be0bc07f05449fe92cbd905e00794e6"
      }
     },
     "a0979079a3bc42928c1883cf1fd81c8b": {
      "model_module": "@jupyter-widgets/base",
      "model_module_version": "1.2.0",
      "model_name": "LayoutModel",
      "state": {
       "_model_module": "@jupyter-widgets/base",
       "_model_module_version": "1.2.0",
       "_model_name": "LayoutModel",
       "_view_count": null,
       "_view_module": "@jupyter-widgets/base",
       "_view_module_version": "1.2.0",
       "_view_name": "LayoutView",
       "align_content": null,
       "align_items": null,
       "align_self": null,
       "border": null,
       "bottom": null,
       "display": null,
       "flex": null,
       "flex_flow": null,
       "grid_area": null,
       "grid_auto_columns": null,
       "grid_auto_flow": null,
       "grid_auto_rows": null,
       "grid_column": null,
       "grid_gap": null,
       "grid_row": null,
       "grid_template_areas": null,
       "grid_template_columns": null,
       "grid_template_rows": null,
       "height": null,
       "justify_content": null,
       "justify_items": null,
       "left": null,
       "margin": null,
       "max_height": null,
       "max_width": null,
       "min_height": null,
       "min_width": null,
       "object_fit": null,
       "object_position": null,
       "order": null,
       "overflow": null,
       "overflow_x": null,
       "overflow_y": null,
       "padding": null,
       "right": null,
       "top": null,
       "visibility": null,
       "width": null
      }
     },
     "a5fc8c4bb1994fddb543f2d38372058f": {
      "model_module": "@jupyter-widgets/base",
      "model_module_version": "1.2.0",
      "model_name": "LayoutModel",
      "state": {
       "_model_module": "@jupyter-widgets/base",
       "_model_module_version": "1.2.0",
       "_model_name": "LayoutModel",
       "_view_count": null,
       "_view_module": "@jupyter-widgets/base",
       "_view_module_version": "1.2.0",
       "_view_name": "LayoutView",
       "align_content": null,
       "align_items": null,
       "align_self": null,
       "border": null,
       "bottom": null,
       "display": null,
       "flex": null,
       "flex_flow": null,
       "grid_area": null,
       "grid_auto_columns": null,
       "grid_auto_flow": null,
       "grid_auto_rows": null,
       "grid_column": null,
       "grid_gap": null,
       "grid_row": null,
       "grid_template_areas": null,
       "grid_template_columns": null,
       "grid_template_rows": null,
       "height": null,
       "justify_content": null,
       "justify_items": null,
       "left": null,
       "margin": null,
       "max_height": null,
       "max_width": null,
       "min_height": null,
       "min_width": null,
       "object_fit": null,
       "object_position": null,
       "order": null,
       "overflow": null,
       "overflow_x": null,
       "overflow_y": null,
       "padding": null,
       "right": null,
       "top": null,
       "visibility": null,
       "width": null
      }
     },
     "a8b521dd9369466cb61e9a95ebc5a64a": {
      "model_module": "@jupyter-widgets/controls",
      "model_module_version": "1.5.0",
      "model_name": "HTMLModel",
      "state": {
       "_dom_classes": [],
       "_model_module": "@jupyter-widgets/controls",
       "_model_module_version": "1.5.0",
       "_model_name": "HTMLModel",
       "_view_count": null,
       "_view_module": "@jupyter-widgets/controls",
       "_view_module_version": "1.5.0",
       "_view_name": "HTMLView",
       "description": "",
       "description_tooltip": null,
       "layout": "IPY_MODEL_fb171dc1d3374732940add33a5d682c7",
       "placeholder": "​",
       "style": "IPY_MODEL_e781d3150c7e407784e9b8ee71cb2b35",
       "value": " 418M/418M [00:16&lt;00:00, 33.1MB/s]"
      }
     },
     "ac7c353c3acd42aea16fec30586599aa": {
      "model_module": "@jupyter-widgets/base",
      "model_module_version": "1.2.0",
      "model_name": "LayoutModel",
      "state": {
       "_model_module": "@jupyter-widgets/base",
       "_model_module_version": "1.2.0",
       "_model_name": "LayoutModel",
       "_view_count": null,
       "_view_module": "@jupyter-widgets/base",
       "_view_module_version": "1.2.0",
       "_view_name": "LayoutView",
       "align_content": null,
       "align_items": null,
       "align_self": null,
       "border": null,
       "bottom": null,
       "display": null,
       "flex": null,
       "flex_flow": null,
       "grid_area": null,
       "grid_auto_columns": null,
       "grid_auto_flow": null,
       "grid_auto_rows": null,
       "grid_column": null,
       "grid_gap": null,
       "grid_row": null,
       "grid_template_areas": null,
       "grid_template_columns": null,
       "grid_template_rows": null,
       "height": null,
       "justify_content": null,
       "justify_items": null,
       "left": null,
       "margin": null,
       "max_height": null,
       "max_width": null,
       "min_height": null,
       "min_width": null,
       "object_fit": null,
       "object_position": null,
       "order": null,
       "overflow": null,
       "overflow_x": null,
       "overflow_y": null,
       "padding": null,
       "right": null,
       "top": null,
       "visibility": null,
       "width": null
      }
     },
     "afe31b3ea039455b930226bacba9bc3b": {
      "model_module": "@jupyter-widgets/controls",
      "model_module_version": "1.5.0",
      "model_name": "DescriptionStyleModel",
      "state": {
       "_model_module": "@jupyter-widgets/controls",
       "_model_module_version": "1.5.0",
       "_model_name": "DescriptionStyleModel",
       "_view_count": null,
       "_view_module": "@jupyter-widgets/base",
       "_view_module_version": "1.2.0",
       "_view_name": "StyleView",
       "description_width": ""
      }
     },
     "b07ef56d4dac4f7ab9cc9431820dfb69": {
      "model_module": "@jupyter-widgets/controls",
      "model_module_version": "1.5.0",
      "model_name": "DescriptionStyleModel",
      "state": {
       "_model_module": "@jupyter-widgets/controls",
       "_model_module_version": "1.5.0",
       "_model_name": "DescriptionStyleModel",
       "_view_count": null,
       "_view_module": "@jupyter-widgets/base",
       "_view_module_version": "1.2.0",
       "_view_name": "StyleView",
       "description_width": ""
      }
     },
     "b1291bde3874478ba4cc29c5bc3a2297": {
      "model_module": "@jupyter-widgets/controls",
      "model_module_version": "1.5.0",
      "model_name": "DescriptionStyleModel",
      "state": {
       "_model_module": "@jupyter-widgets/controls",
       "_model_module_version": "1.5.0",
       "_model_name": "DescriptionStyleModel",
       "_view_count": null,
       "_view_module": "@jupyter-widgets/base",
       "_view_module_version": "1.2.0",
       "_view_name": "StyleView",
       "description_width": ""
      }
     },
     "b338dd42cf104904a7f38ec5ba19a0d7": {
      "model_module": "@jupyter-widgets/controls",
      "model_module_version": "1.5.0",
      "model_name": "HBoxModel",
      "state": {
       "_dom_classes": [],
       "_model_module": "@jupyter-widgets/controls",
       "_model_module_version": "1.5.0",
       "_model_name": "HBoxModel",
       "_view_count": null,
       "_view_module": "@jupyter-widgets/controls",
       "_view_module_version": "1.5.0",
       "_view_name": "HBoxView",
       "box_style": "",
       "children": [
        "IPY_MODEL_699db200e7c44dbc81e6576a84091013",
        "IPY_MODEL_003efd38b3f34339b8c129541c2fc242",
        "IPY_MODEL_c784d8eb6a8c4d949870b0a208dfdb4b"
       ],
       "layout": "IPY_MODEL_73931cff694a41878ecc3332d555a9a8"
      }
     },
     "b553f090535b4dcd896495f7648f45a1": {
      "model_module": "@jupyter-widgets/base",
      "model_module_version": "1.2.0",
      "model_name": "LayoutModel",
      "state": {
       "_model_module": "@jupyter-widgets/base",
       "_model_module_version": "1.2.0",
       "_model_name": "LayoutModel",
       "_view_count": null,
       "_view_module": "@jupyter-widgets/base",
       "_view_module_version": "1.2.0",
       "_view_name": "LayoutView",
       "align_content": null,
       "align_items": null,
       "align_self": null,
       "border": null,
       "bottom": null,
       "display": null,
       "flex": null,
       "flex_flow": null,
       "grid_area": null,
       "grid_auto_columns": null,
       "grid_auto_flow": null,
       "grid_auto_rows": null,
       "grid_column": null,
       "grid_gap": null,
       "grid_row": null,
       "grid_template_areas": null,
       "grid_template_columns": null,
       "grid_template_rows": null,
       "height": null,
       "justify_content": null,
       "justify_items": null,
       "left": null,
       "margin": null,
       "max_height": null,
       "max_width": null,
       "min_height": null,
       "min_width": null,
       "object_fit": null,
       "object_position": null,
       "order": null,
       "overflow": null,
       "overflow_x": null,
       "overflow_y": null,
       "padding": null,
       "right": null,
       "top": null,
       "visibility": null,
       "width": null
      }
     },
     "b948c72b553f418c8b30c82735797277": {
      "model_module": "@jupyter-widgets/controls",
      "model_module_version": "1.5.0",
      "model_name": "HTMLModel",
      "state": {
       "_dom_classes": [],
       "_model_module": "@jupyter-widgets/controls",
       "_model_module_version": "1.5.0",
       "_model_name": "HTMLModel",
       "_view_count": null,
       "_view_module": "@jupyter-widgets/controls",
       "_view_module_version": "1.5.0",
       "_view_name": "HTMLView",
       "description": "",
       "description_tooltip": null,
       "layout": "IPY_MODEL_050fcb1e676648958e388d335af298f6",
       "placeholder": "​",
       "style": "IPY_MODEL_5ffd11bc6e8a474da2b847eea99eeaa7",
       "value": " 1.24G/1.24G [00:50&lt;00:00, 33.2MB/s]"
      }
     },
     "b96566376240403086eb73f96f8f593d": {
      "model_module": "@jupyter-widgets/controls",
      "model_module_version": "1.5.0",
      "model_name": "DescriptionStyleModel",
      "state": {
       "_model_module": "@jupyter-widgets/controls",
       "_model_module_version": "1.5.0",
       "_model_name": "DescriptionStyleModel",
       "_view_count": null,
       "_view_module": "@jupyter-widgets/base",
       "_view_module_version": "1.2.0",
       "_view_name": "StyleView",
       "description_width": ""
      }
     },
     "ba911b9621f6489a9571d03e7612bab1": {
      "model_module": "@jupyter-widgets/base",
      "model_module_version": "1.2.0",
      "model_name": "LayoutModel",
      "state": {
       "_model_module": "@jupyter-widgets/base",
       "_model_module_version": "1.2.0",
       "_model_name": "LayoutModel",
       "_view_count": null,
       "_view_module": "@jupyter-widgets/base",
       "_view_module_version": "1.2.0",
       "_view_name": "LayoutView",
       "align_content": null,
       "align_items": null,
       "align_self": null,
       "border": null,
       "bottom": null,
       "display": null,
       "flex": null,
       "flex_flow": null,
       "grid_area": null,
       "grid_auto_columns": null,
       "grid_auto_flow": null,
       "grid_auto_rows": null,
       "grid_column": null,
       "grid_gap": null,
       "grid_row": null,
       "grid_template_areas": null,
       "grid_template_columns": null,
       "grid_template_rows": null,
       "height": null,
       "justify_content": null,
       "justify_items": null,
       "left": null,
       "margin": null,
       "max_height": null,
       "max_width": null,
       "min_height": null,
       "min_width": null,
       "object_fit": null,
       "object_position": null,
       "order": null,
       "overflow": null,
       "overflow_x": null,
       "overflow_y": null,
       "padding": null,
       "right": null,
       "top": null,
       "visibility": null,
       "width": null
      }
     },
     "be268fcd808c444592eab6b796a38843": {
      "model_module": "@jupyter-widgets/base",
      "model_module_version": "1.2.0",
      "model_name": "LayoutModel",
      "state": {
       "_model_module": "@jupyter-widgets/base",
       "_model_module_version": "1.2.0",
       "_model_name": "LayoutModel",
       "_view_count": null,
       "_view_module": "@jupyter-widgets/base",
       "_view_module_version": "1.2.0",
       "_view_name": "LayoutView",
       "align_content": null,
       "align_items": null,
       "align_self": null,
       "border": null,
       "bottom": null,
       "display": null,
       "flex": null,
       "flex_flow": null,
       "grid_area": null,
       "grid_auto_columns": null,
       "grid_auto_flow": null,
       "grid_auto_rows": null,
       "grid_column": null,
       "grid_gap": null,
       "grid_row": null,
       "grid_template_areas": null,
       "grid_template_columns": null,
       "grid_template_rows": null,
       "height": null,
       "justify_content": null,
       "justify_items": null,
       "left": null,
       "margin": null,
       "max_height": null,
       "max_width": null,
       "min_height": null,
       "min_width": null,
       "object_fit": null,
       "object_position": null,
       "order": null,
       "overflow": null,
       "overflow_x": null,
       "overflow_y": null,
       "padding": null,
       "right": null,
       "top": null,
       "visibility": null,
       "width": null
      }
     },
     "c0457a8303f64d7a902a79feb8de3939": {
      "model_module": "@jupyter-widgets/base",
      "model_module_version": "1.2.0",
      "model_name": "LayoutModel",
      "state": {
       "_model_module": "@jupyter-widgets/base",
       "_model_module_version": "1.2.0",
       "_model_name": "LayoutModel",
       "_view_count": null,
       "_view_module": "@jupyter-widgets/base",
       "_view_module_version": "1.2.0",
       "_view_name": "LayoutView",
       "align_content": null,
       "align_items": null,
       "align_self": null,
       "border": null,
       "bottom": null,
       "display": null,
       "flex": null,
       "flex_flow": null,
       "grid_area": null,
       "grid_auto_columns": null,
       "grid_auto_flow": null,
       "grid_auto_rows": null,
       "grid_column": null,
       "grid_gap": null,
       "grid_row": null,
       "grid_template_areas": null,
       "grid_template_columns": null,
       "grid_template_rows": null,
       "height": null,
       "justify_content": null,
       "justify_items": null,
       "left": null,
       "margin": null,
       "max_height": null,
       "max_width": null,
       "min_height": null,
       "min_width": null,
       "object_fit": null,
       "object_position": null,
       "order": null,
       "overflow": null,
       "overflow_x": null,
       "overflow_y": null,
       "padding": null,
       "right": null,
       "top": null,
       "visibility": null,
       "width": null
      }
     },
     "c1fc80479dab42419369415efbe14eb4": {
      "model_module": "@jupyter-widgets/controls",
      "model_module_version": "1.5.0",
      "model_name": "HTMLModel",
      "state": {
       "_dom_classes": [],
       "_model_module": "@jupyter-widgets/controls",
       "_model_module_version": "1.5.0",
       "_model_name": "HTMLModel",
       "_view_count": null,
       "_view_module": "@jupyter-widgets/controls",
       "_view_module_version": "1.5.0",
       "_view_name": "HTMLView",
       "description": "",
       "description_tooltip": null,
       "layout": "IPY_MODEL_0c452a71301e468493893298bc4b6ede",
       "placeholder": "​",
       "style": "IPY_MODEL_b1291bde3874478ba4cc29c5bc3a2297",
       "value": "Downloading: 100%"
      }
     },
     "c784d8eb6a8c4d949870b0a208dfdb4b": {
      "model_module": "@jupyter-widgets/controls",
      "model_module_version": "1.5.0",
      "model_name": "HTMLModel",
      "state": {
       "_dom_classes": [],
       "_model_module": "@jupyter-widgets/controls",
       "_model_module_version": "1.5.0",
       "_model_name": "HTMLModel",
       "_view_count": null,
       "_view_module": "@jupyter-widgets/controls",
       "_view_module_version": "1.5.0",
       "_view_name": "HTMLView",
       "description": "",
       "description_tooltip": null,
       "layout": "IPY_MODEL_5e4c315cf0564f9db71daca259065b40",
       "placeholder": "​",
       "style": "IPY_MODEL_afe31b3ea039455b930226bacba9bc3b",
       "value": " 112/112 [00:00&lt;00:00, 3.05kB/s]"
      }
     },
     "c81c8ed7980146f6abcbd91b07500cfe": {
      "model_module": "@jupyter-widgets/controls",
      "model_module_version": "1.5.0",
      "model_name": "HTMLModel",
      "state": {
       "_dom_classes": [],
       "_model_module": "@jupyter-widgets/controls",
       "_model_module_version": "1.5.0",
       "_model_name": "HTMLModel",
       "_view_count": null,
       "_view_module": "@jupyter-widgets/controls",
       "_view_module_version": "1.5.0",
       "_view_name": "HTMLView",
       "description": "",
       "description_tooltip": null,
       "layout": "IPY_MODEL_53df3593e3124f488711c0fb47e50814",
       "placeholder": "​",
       "style": "IPY_MODEL_b07ef56d4dac4f7ab9cc9431820dfb69",
       "value": "Downloading: 100%"
      }
     },
     "ca3f3a3137154a7f8278a75cb48a1f7d": {
      "model_module": "@jupyter-widgets/controls",
      "model_module_version": "1.5.0",
      "model_name": "ProgressStyleModel",
      "state": {
       "_model_module": "@jupyter-widgets/controls",
       "_model_module_version": "1.5.0",
       "_model_name": "ProgressStyleModel",
       "_view_count": null,
       "_view_module": "@jupyter-widgets/base",
       "_view_module_version": "1.2.0",
       "_view_name": "StyleView",
       "bar_color": null,
       "description_width": ""
      }
     },
     "d335162fd04946008d9e8f59826e9660": {
      "model_module": "@jupyter-widgets/controls",
      "model_module_version": "1.5.0",
      "model_name": "DescriptionStyleModel",
      "state": {
       "_model_module": "@jupyter-widgets/controls",
       "_model_module_version": "1.5.0",
       "_model_name": "DescriptionStyleModel",
       "_view_count": null,
       "_view_module": "@jupyter-widgets/base",
       "_view_module_version": "1.2.0",
       "_view_name": "StyleView",
       "description_width": ""
      }
     },
     "d81321cb32be43c583d2954b3e12525e": {
      "model_module": "@jupyter-widgets/controls",
      "model_module_version": "1.5.0",
      "model_name": "HBoxModel",
      "state": {
       "_dom_classes": [],
       "_model_module": "@jupyter-widgets/controls",
       "_model_module_version": "1.5.0",
       "_model_name": "HBoxModel",
       "_view_count": null,
       "_view_module": "@jupyter-widgets/controls",
       "_view_module_version": "1.5.0",
       "_view_name": "HBoxView",
       "box_style": "",
       "children": [
        "IPY_MODEL_1a80d6cb6a05477796da08d7b607862d",
        "IPY_MODEL_f25eb2a6c216403e86eb9cfec4185ba5",
        "IPY_MODEL_f7f81dcee17e46459065a6cadef7539b"
       ],
       "layout": "IPY_MODEL_59a9bfd403e14fd9a3d84405bd8b2897"
      }
     },
     "d8f5fe9fcd974e3586e678f9bb96ba46": {
      "model_module": "@jupyter-widgets/base",
      "model_module_version": "1.2.0",
      "model_name": "LayoutModel",
      "state": {
       "_model_module": "@jupyter-widgets/base",
       "_model_module_version": "1.2.0",
       "_model_name": "LayoutModel",
       "_view_count": null,
       "_view_module": "@jupyter-widgets/base",
       "_view_module_version": "1.2.0",
       "_view_name": "LayoutView",
       "align_content": null,
       "align_items": null,
       "align_self": null,
       "border": null,
       "bottom": null,
       "display": null,
       "flex": null,
       "flex_flow": null,
       "grid_area": null,
       "grid_auto_columns": null,
       "grid_auto_flow": null,
       "grid_auto_rows": null,
       "grid_column": null,
       "grid_gap": null,
       "grid_row": null,
       "grid_template_areas": null,
       "grid_template_columns": null,
       "grid_template_rows": null,
       "height": null,
       "justify_content": null,
       "justify_items": null,
       "left": null,
       "margin": null,
       "max_height": null,
       "max_width": null,
       "min_height": null,
       "min_width": null,
       "object_fit": null,
       "object_position": null,
       "order": null,
       "overflow": null,
       "overflow_x": null,
       "overflow_y": null,
       "padding": null,
       "right": null,
       "top": null,
       "visibility": null,
       "width": null
      }
     },
     "d8fac763f8d240a5accd3bb553187839": {
      "model_module": "@jupyter-widgets/controls",
      "model_module_version": "1.5.0",
      "model_name": "ProgressStyleModel",
      "state": {
       "_model_module": "@jupyter-widgets/controls",
       "_model_module_version": "1.5.0",
       "_model_name": "ProgressStyleModel",
       "_view_count": null,
       "_view_module": "@jupyter-widgets/base",
       "_view_module_version": "1.2.0",
       "_view_name": "StyleView",
       "bar_color": null,
       "description_width": ""
      }
     },
     "ddcef5bc8f084f71abc8edaed602ae70": {
      "model_module": "@jupyter-widgets/controls",
      "model_module_version": "1.5.0",
      "model_name": "DescriptionStyleModel",
      "state": {
       "_model_module": "@jupyter-widgets/controls",
       "_model_module_version": "1.5.0",
       "_model_name": "DescriptionStyleModel",
       "_view_count": null,
       "_view_module": "@jupyter-widgets/base",
       "_view_module_version": "1.2.0",
       "_view_name": "StyleView",
       "description_width": ""
      }
     },
     "df468eba90f94d7fae84987c6c52e896": {
      "model_module": "@jupyter-widgets/controls",
      "model_module_version": "1.5.0",
      "model_name": "FloatProgressModel",
      "state": {
       "_dom_classes": [],
       "_model_module": "@jupyter-widgets/controls",
       "_model_module_version": "1.5.0",
       "_model_name": "FloatProgressModel",
       "_view_count": null,
       "_view_module": "@jupyter-widgets/controls",
       "_view_module_version": "1.5.0",
       "_view_name": "ProgressView",
       "bar_style": "success",
       "description": "",
       "description_tooltip": null,
       "layout": "IPY_MODEL_42d7328e60fb499fa56ddca4adba1171",
       "max": 213450.0,
       "min": 0.0,
       "orientation": "horizontal",
       "style": "IPY_MODEL_10ff88d844f24fec9f515b4eaa227ea8",
       "value": 213450.0
      }
     },
     "e00bd0c7ea2245259b81b68e0702846c": {
      "model_module": "@jupyter-widgets/controls",
      "model_module_version": "1.5.0",
      "model_name": "HBoxModel",
      "state": {
       "_dom_classes": [],
       "_model_module": "@jupyter-widgets/controls",
       "_model_module_version": "1.5.0",
       "_model_name": "HBoxModel",
       "_view_count": null,
       "_view_module": "@jupyter-widgets/controls",
       "_view_module_version": "1.5.0",
       "_view_name": "HBoxView",
       "box_style": "",
       "children": [
        "IPY_MODEL_4b195ce3b6454c5caed35dd87a045e27",
        "IPY_MODEL_97bc2dd2168347e693bdd48c93cdb4d7",
        "IPY_MODEL_a8b521dd9369466cb61e9a95ebc5a64a"
       ],
       "layout": "IPY_MODEL_05786aadf1c14ad092f1c21a6202046a"
      }
     },
     "e175882d13e94bf18635ffa11128d044": {
      "model_module": "@jupyter-widgets/controls",
      "model_module_version": "1.5.0",
      "model_name": "FloatProgressModel",
      "state": {
       "_dom_classes": [],
       "_model_module": "@jupyter-widgets/controls",
       "_model_module_version": "1.5.0",
       "_model_name": "FloatProgressModel",
       "_view_count": null,
       "_view_module": "@jupyter-widgets/controls",
       "_view_module_version": "1.5.0",
       "_view_name": "ProgressView",
       "bar_style": "success",
       "description": "",
       "description_tooltip": null,
       "layout": "IPY_MODEL_e8bb53ebeed444da92f1e7b2da0e43c2",
       "max": 998.0,
       "min": 0.0,
       "orientation": "horizontal",
       "style": "IPY_MODEL_07cd2d4f93b34bb2992a7f2f8f7d3619",
       "value": 998.0
      }
     },
     "e1e4cbbe938b4777bda867a7515ac31f": {
      "model_module": "@jupyter-widgets/controls",
      "model_module_version": "1.5.0",
      "model_name": "ProgressStyleModel",
      "state": {
       "_model_module": "@jupyter-widgets/controls",
       "_model_module_version": "1.5.0",
       "_model_name": "ProgressStyleModel",
       "_view_count": null,
       "_view_module": "@jupyter-widgets/base",
       "_view_module_version": "1.2.0",
       "_view_name": "StyleView",
       "bar_color": null,
       "description_width": ""
      }
     },
     "e781d3150c7e407784e9b8ee71cb2b35": {
      "model_module": "@jupyter-widgets/controls",
      "model_module_version": "1.5.0",
      "model_name": "DescriptionStyleModel",
      "state": {
       "_model_module": "@jupyter-widgets/controls",
       "_model_module_version": "1.5.0",
       "_model_name": "DescriptionStyleModel",
       "_view_count": null,
       "_view_module": "@jupyter-widgets/base",
       "_view_module_version": "1.2.0",
       "_view_name": "StyleView",
       "description_width": ""
      }
     },
     "e8bb53ebeed444da92f1e7b2da0e43c2": {
      "model_module": "@jupyter-widgets/base",
      "model_module_version": "1.2.0",
      "model_name": "LayoutModel",
      "state": {
       "_model_module": "@jupyter-widgets/base",
       "_model_module_version": "1.2.0",
       "_model_name": "LayoutModel",
       "_view_count": null,
       "_view_module": "@jupyter-widgets/base",
       "_view_module_version": "1.2.0",
       "_view_name": "LayoutView",
       "align_content": null,
       "align_items": null,
       "align_self": null,
       "border": null,
       "bottom": null,
       "display": null,
       "flex": null,
       "flex_flow": null,
       "grid_area": null,
       "grid_auto_columns": null,
       "grid_auto_flow": null,
       "grid_auto_rows": null,
       "grid_column": null,
       "grid_gap": null,
       "grid_row": null,
       "grid_template_areas": null,
       "grid_template_columns": null,
       "grid_template_rows": null,
       "height": null,
       "justify_content": null,
       "justify_items": null,
       "left": null,
       "margin": null,
       "max_height": null,
       "max_width": null,
       "min_height": null,
       "min_width": null,
       "object_fit": null,
       "object_position": null,
       "order": null,
       "overflow": null,
       "overflow_x": null,
       "overflow_y": null,
       "padding": null,
       "right": null,
       "top": null,
       "visibility": null,
       "width": null
      }
     },
     "ecd7601f8faa48eb8441407aec09d1bc": {
      "model_module": "@jupyter-widgets/controls",
      "model_module_version": "1.5.0",
      "model_name": "DescriptionStyleModel",
      "state": {
       "_model_module": "@jupyter-widgets/controls",
       "_model_module_version": "1.5.0",
       "_model_name": "DescriptionStyleModel",
       "_view_count": null,
       "_view_module": "@jupyter-widgets/base",
       "_view_module_version": "1.2.0",
       "_view_name": "StyleView",
       "description_width": ""
      }
     },
     "ee588c6343ad48b89d208e8b80c6b2cf": {
      "model_module": "@jupyter-widgets/base",
      "model_module_version": "1.2.0",
      "model_name": "LayoutModel",
      "state": {
       "_model_module": "@jupyter-widgets/base",
       "_model_module_version": "1.2.0",
       "_model_name": "LayoutModel",
       "_view_count": null,
       "_view_module": "@jupyter-widgets/base",
       "_view_module_version": "1.2.0",
       "_view_name": "LayoutView",
       "align_content": null,
       "align_items": null,
       "align_self": null,
       "border": null,
       "bottom": null,
       "display": null,
       "flex": null,
       "flex_flow": null,
       "grid_area": null,
       "grid_auto_columns": null,
       "grid_auto_flow": null,
       "grid_auto_rows": null,
       "grid_column": null,
       "grid_gap": null,
       "grid_row": null,
       "grid_template_areas": null,
       "grid_template_columns": null,
       "grid_template_rows": null,
       "height": null,
       "justify_content": null,
       "justify_items": null,
       "left": null,
       "margin": null,
       "max_height": null,
       "max_width": null,
       "min_height": null,
       "min_width": null,
       "object_fit": null,
       "object_position": null,
       "order": null,
       "overflow": null,
       "overflow_x": null,
       "overflow_y": null,
       "padding": null,
       "right": null,
       "top": null,
       "visibility": null,
       "width": null
      }
     },
     "f14d2d23ef3c462c9b3aa60ba144b2f1": {
      "model_module": "@jupyter-widgets/controls",
      "model_module_version": "1.5.0",
      "model_name": "HBoxModel",
      "state": {
       "_dom_classes": [],
       "_model_module": "@jupyter-widgets/controls",
       "_model_module_version": "1.5.0",
       "_model_name": "HBoxModel",
       "_view_count": null,
       "_view_module": "@jupyter-widgets/controls",
       "_view_module_version": "1.5.0",
       "_view_name": "HBoxView",
       "box_style": "",
       "children": [
        "IPY_MODEL_9b377f2a92c04aae919b21a84a1549c1",
        "IPY_MODEL_1b552025838c43a0b9d8552ac336fa15",
        "IPY_MODEL_b948c72b553f418c8b30c82735797277"
       ],
       "layout": "IPY_MODEL_5e51f3aeb9b74f35bdd62039677b8082"
      }
     },
     "f25eb2a6c216403e86eb9cfec4185ba5": {
      "model_module": "@jupyter-widgets/controls",
      "model_module_version": "1.5.0",
      "model_name": "FloatProgressModel",
      "state": {
       "_dom_classes": [],
       "_model_module": "@jupyter-widgets/controls",
       "_model_module_version": "1.5.0",
       "_model_name": "FloatProgressModel",
       "_view_count": null,
       "_view_module": "@jupyter-widgets/controls",
       "_view_module_version": "1.5.0",
       "_view_name": "ProgressView",
       "bar_style": "success",
       "description": "",
       "description_tooltip": null,
       "layout": "IPY_MODEL_85635bdd7a684ca9af3156d22e490b58",
       "max": 1510100570.0,
       "min": 0.0,
       "orientation": "horizontal",
       "style": "IPY_MODEL_9c33e41011834016b8dd8a772387e0b4",
       "value": 1510100570.0
      }
     },
     "f38ea0297c564e9e9a65cd849eba71cc": {
      "model_module": "@jupyter-widgets/controls",
      "model_module_version": "1.5.0",
      "model_name": "ProgressStyleModel",
      "state": {
       "_model_module": "@jupyter-widgets/controls",
       "_model_module_version": "1.5.0",
       "_model_name": "ProgressStyleModel",
       "_view_count": null,
       "_view_module": "@jupyter-widgets/base",
       "_view_module_version": "1.2.0",
       "_view_name": "StyleView",
       "bar_color": null,
       "description_width": ""
      }
     },
     "f6030a2c9d734905a2490d30008a59b9": {
      "model_module": "@jupyter-widgets/controls",
      "model_module_version": "1.5.0",
      "model_name": "FloatProgressModel",
      "state": {
       "_dom_classes": [],
       "_model_module": "@jupyter-widgets/controls",
       "_model_module_version": "1.5.0",
       "_model_name": "FloatProgressModel",
       "_view_count": null,
       "_view_module": "@jupyter-widgets/controls",
       "_view_module_version": "1.5.0",
       "_view_name": "ProgressView",
       "bar_style": "success",
       "description": "",
       "description_tooltip": null,
       "layout": "IPY_MODEL_c0457a8303f64d7a902a79feb8de3939",
       "max": 60.0,
       "min": 0.0,
       "orientation": "horizontal",
       "style": "IPY_MODEL_d8fac763f8d240a5accd3bb553187839",
       "value": 60.0
      }
     },
     "f68f06841ec6465cb6c132cd653928b4": {
      "model_module": "@jupyter-widgets/base",
      "model_module_version": "1.2.0",
      "model_name": "LayoutModel",
      "state": {
       "_model_module": "@jupyter-widgets/base",
       "_model_module_version": "1.2.0",
       "_model_name": "LayoutModel",
       "_view_count": null,
       "_view_module": "@jupyter-widgets/base",
       "_view_module_version": "1.2.0",
       "_view_name": "LayoutView",
       "align_content": null,
       "align_items": null,
       "align_self": null,
       "border": null,
       "bottom": null,
       "display": null,
       "flex": null,
       "flex_flow": null,
       "grid_area": null,
       "grid_auto_columns": null,
       "grid_auto_flow": null,
       "grid_auto_rows": null,
       "grid_column": null,
       "grid_gap": null,
       "grid_row": null,
       "grid_template_areas": null,
       "grid_template_columns": null,
       "grid_template_rows": null,
       "height": null,
       "justify_content": null,
       "justify_items": null,
       "left": null,
       "margin": null,
       "max_height": null,
       "max_width": null,
       "min_height": null,
       "min_width": null,
       "object_fit": null,
       "object_position": null,
       "order": null,
       "overflow": null,
       "overflow_x": null,
       "overflow_y": null,
       "padding": null,
       "right": null,
       "top": null,
       "visibility": null,
       "width": null
      }
     },
     "f71c308aa5544a2592f899f6e10fffd1": {
      "model_module": "@jupyter-widgets/controls",
      "model_module_version": "1.5.0",
      "model_name": "DescriptionStyleModel",
      "state": {
       "_model_module": "@jupyter-widgets/controls",
       "_model_module_version": "1.5.0",
       "_model_name": "DescriptionStyleModel",
       "_view_count": null,
       "_view_module": "@jupyter-widgets/base",
       "_view_module_version": "1.2.0",
       "_view_name": "StyleView",
       "description_width": ""
      }
     },
     "f7cee74b8c3f4c6fb8639b39e7bd37a4": {
      "model_module": "@jupyter-widgets/controls",
      "model_module_version": "1.5.0",
      "model_name": "HTMLModel",
      "state": {
       "_dom_classes": [],
       "_model_module": "@jupyter-widgets/controls",
       "_model_module_version": "1.5.0",
       "_model_name": "HTMLModel",
       "_view_count": null,
       "_view_module": "@jupyter-widgets/controls",
       "_view_module_version": "1.5.0",
       "_view_name": "HTMLView",
       "description": "",
       "description_tooltip": null,
       "layout": "IPY_MODEL_ac7c353c3acd42aea16fec30586599aa",
       "placeholder": "​",
       "style": "IPY_MODEL_1dcdac4505d647d18139437d2904bb9c",
       "value": " 208k/208k [00:00&lt;00:00, 2.12MB/s]"
      }
     },
     "f7f81dcee17e46459065a6cadef7539b": {
      "model_module": "@jupyter-widgets/controls",
      "model_module_version": "1.5.0",
      "model_name": "HTMLModel",
      "state": {
       "_dom_classes": [],
       "_model_module": "@jupyter-widgets/controls",
       "_model_module_version": "1.5.0",
       "_model_name": "HTMLModel",
       "_view_count": null,
       "_view_module": "@jupyter-widgets/controls",
       "_view_module_version": "1.5.0",
       "_view_name": "HTMLView",
       "description": "",
       "description_tooltip": null,
       "layout": "IPY_MODEL_a5fc8c4bb1994fddb543f2d38372058f",
       "placeholder": "​",
       "style": "IPY_MODEL_9b4fd7f606ff49e99d852e3c7cc51830",
       "value": " 1.51G/1.51G [00:47&lt;00:00, 32.5MB/s]"
      }
     },
     "f87d5305625c49ebb95e26cee688e8db": {
      "model_module": "@jupyter-widgets/controls",
      "model_module_version": "1.5.0",
      "model_name": "FloatProgressModel",
      "state": {
       "_dom_classes": [],
       "_model_module": "@jupyter-widgets/controls",
       "_model_module_version": "1.5.0",
       "_model_name": "FloatProgressModel",
       "_view_count": null,
       "_view_module": "@jupyter-widgets/controls",
       "_view_module_version": "1.5.0",
       "_view_name": "ProgressView",
       "bar_style": "success",
       "description": "",
       "description_tooltip": null,
       "layout": "IPY_MODEL_20edad17c9b04faa85ce13a85b3e187f",
       "max": 231508.0,
       "min": 0.0,
       "orientation": "horizontal",
       "style": "IPY_MODEL_77d37964308a47f6974c81a26c80d7d8",
       "value": 231508.0
      }
     },
     "fa834369c68d47f2a213431d0581a0bf": {
      "model_module": "@jupyter-widgets/base",
      "model_module_version": "1.2.0",
      "model_name": "LayoutModel",
      "state": {
       "_model_module": "@jupyter-widgets/base",
       "_model_module_version": "1.2.0",
       "_model_name": "LayoutModel",
       "_view_count": null,
       "_view_module": "@jupyter-widgets/base",
       "_view_module_version": "1.2.0",
       "_view_name": "LayoutView",
       "align_content": null,
       "align_items": null,
       "align_self": null,
       "border": null,
       "bottom": null,
       "display": null,
       "flex": null,
       "flex_flow": null,
       "grid_area": null,
       "grid_auto_columns": null,
       "grid_auto_flow": null,
       "grid_auto_rows": null,
       "grid_column": null,
       "grid_gap": null,
       "grid_row": null,
       "grid_template_areas": null,
       "grid_template_columns": null,
       "grid_template_rows": null,
       "height": null,
       "justify_content": null,
       "justify_items": null,
       "left": null,
       "margin": null,
       "max_height": null,
       "max_width": null,
       "min_height": null,
       "min_width": null,
       "object_fit": null,
       "object_position": null,
       "order": null,
       "overflow": null,
       "overflow_x": null,
       "overflow_y": null,
       "padding": null,
       "right": null,
       "top": null,
       "visibility": null,
       "width": null
      }
     },
     "fb171dc1d3374732940add33a5d682c7": {
      "model_module": "@jupyter-widgets/base",
      "model_module_version": "1.2.0",
      "model_name": "LayoutModel",
      "state": {
       "_model_module": "@jupyter-widgets/base",
       "_model_module_version": "1.2.0",
       "_model_name": "LayoutModel",
       "_view_count": null,
       "_view_module": "@jupyter-widgets/base",
       "_view_module_version": "1.2.0",
       "_view_name": "LayoutView",
       "align_content": null,
       "align_items": null,
       "align_self": null,
       "border": null,
       "bottom": null,
       "display": null,
       "flex": null,
       "flex_flow": null,
       "grid_area": null,
       "grid_auto_columns": null,
       "grid_auto_flow": null,
       "grid_auto_rows": null,
       "grid_column": null,
       "grid_gap": null,
       "grid_row": null,
       "grid_template_areas": null,
       "grid_template_columns": null,
       "grid_template_rows": null,
       "height": null,
       "justify_content": null,
       "justify_items": null,
       "left": null,
       "margin": null,
       "max_height": null,
       "max_width": null,
       "min_height": null,
       "min_width": null,
       "object_fit": null,
       "object_position": null,
       "order": null,
       "overflow": null,
       "overflow_x": null,
       "overflow_y": null,
       "padding": null,
       "right": null,
       "top": null,
       "visibility": null,
       "width": null
      }
     },
     "fbef3afb06f747f2992ecb2c19600120": {
      "model_module": "@jupyter-widgets/controls",
      "model_module_version": "1.5.0",
      "model_name": "DescriptionStyleModel",
      "state": {
       "_model_module": "@jupyter-widgets/controls",
       "_model_module_version": "1.5.0",
       "_model_name": "DescriptionStyleModel",
       "_view_count": null,
       "_view_module": "@jupyter-widgets/base",
       "_view_module_version": "1.2.0",
       "_view_name": "StyleView",
       "description_width": ""
      }
     }
    },
    "version_major": 2,
    "version_minor": 0
   }
  }
 },
 "nbformat": 4,
 "nbformat_minor": 5
}
