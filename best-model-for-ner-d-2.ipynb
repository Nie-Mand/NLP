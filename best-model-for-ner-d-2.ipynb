{
 "cells": [
  {
   "cell_type": "code",
   "execution_count": 1,
   "id": "49aa88e0",
   "metadata": {
    "_cell_guid": "b1076dfc-b9ad-4769-8c92-a6c4dae69d19",
    "_uuid": "8f2839f25d086af736a60e9eeb907d3b93b6e0e5",
    "execution": {
     "iopub.execute_input": "2022-06-03T14:28:30.367605Z",
     "iopub.status.busy": "2022-06-03T14:28:30.366997Z",
     "iopub.status.idle": "2022-06-03T14:28:38.728530Z",
     "shell.execute_reply": "2022-06-03T14:28:38.727507Z"
    },
    "papermill": {
     "duration": 8.385585,
     "end_time": "2022-06-03T14:28:38.731194",
     "exception": false,
     "start_time": "2022-06-03T14:28:30.345609",
     "status": "completed"
    },
    "tags": []
   },
   "outputs": [],
   "source": [
    "import numpy as np\n",
    "import pandas as pd \n",
    "import seaborn as sns\n",
    "import matplotlib.pyplot as plt \n",
    "import matplotlib.style as stl \n",
    "from tensorflow import keras \n",
    "from keras.preprocessing.text import Tokenizer\n",
    "from nltk.corpus import stopwords\n",
    "import string\n",
    "from tensorflow.keras.models import Sequential,Model\n",
    "from tensorflow.keras.layers import Dense, LSTM, Embedding,Dropout,SpatialDropout1D,Conv1D,MaxPooling1D,GRU,BatchNormalization\n",
    "import warnings\n",
    "warnings.filterwarnings('ignore')\n",
    "stl.use('ggplot')\n",
    "from tqdm import tqdm\n",
    "import string\n",
    "from nltk.corpus import stopwords\n",
    "from nltk.tokenize import word_tokenize\n",
    "from nltk.stem import WordNetLemmatizer\n",
    "from nltk.stem.snowball import SnowballStemmer\n",
    "import regex as re"
   ]
  },
  {
   "cell_type": "code",
   "execution_count": 2,
   "id": "ac7efb1f",
   "metadata": {
    "execution": {
     "iopub.execute_input": "2022-06-03T14:28:38.767624Z",
     "iopub.status.busy": "2022-06-03T14:28:38.766897Z",
     "iopub.status.idle": "2022-06-03T14:28:38.789968Z",
     "shell.execute_reply": "2022-06-03T14:28:38.788970Z"
    },
    "papermill": {
     "duration": 0.043962,
     "end_time": "2022-06-03T14:28:38.792551",
     "exception": false,
     "start_time": "2022-06-03T14:28:38.748589",
     "status": "completed"
    },
    "tags": []
   },
   "outputs": [],
   "source": [
    "data=pd.read_csv(\"../input/samplcsv/sample-2.csv\")"
   ]
  },
  {
   "cell_type": "code",
   "execution_count": 3,
   "id": "c6c32451",
   "metadata": {
    "execution": {
     "iopub.execute_input": "2022-06-03T14:28:38.829740Z",
     "iopub.status.busy": "2022-06-03T14:28:38.829030Z",
     "iopub.status.idle": "2022-06-03T14:28:38.843361Z",
     "shell.execute_reply": "2022-06-03T14:28:38.842422Z"
    },
    "papermill": {
     "duration": 0.035451,
     "end_time": "2022-06-03T14:28:38.845944",
     "exception": false,
     "start_time": "2022-06-03T14:28:38.810493",
     "status": "completed"
    },
    "tags": []
   },
   "outputs": [
    {
     "data": {
      "text/plain": [
       "'43M\\r\\nI Mrs E Montgomery solemnly Swear that I have carefully read the Amnesty Proclamation issued by ANDREW JOHNSON, President of the United States of America, on May 29th, 1865, and that I am not excepted from the benefits of that Proclamation by any one of the fourteen exceptions therein made, \\r\\nSgd in Montgomery\\r\\n\\r\\nSworn to and subscribed before me at Charleston SC this 31 day of Oct 1865.\\r\\nLevi Stuber\\r\\nMajor 47th Pa. Vet. Vols. and Provost Marshal.\\r\\n\\r\\n[[left margin]] Duplicate [[/left margin]]\\r\\n\\r\\nNo.1984\\r\\nUnited States of America.\\r\\nI Mrs E. Montgomery of the [[strikethrough]] County [[/strikethrough]]mnly Swear in the presence of Almighty God, that I will henceforth faithfully support and defend the constitution of the United States, and the Union of the States thereunder, and that I will, in like manner, abide by and faithfully support all laws and proclamations which have been made during the existing rebellion with reference to the Emancipation of Slaves- So HELP ME GOD. \\r\\nSgd in Montgomery\\r\\n\\r\\nSworn to and subscribed before me at Charleston SC this 31 day of Oct 1865.\\r\\nLevi Stuber\\r\\nMajor 47th Pa. Vet. Vols. and Provost Marshal.\\r\\n\\r\\nThe above has Fair complexion, Dark hair, and dark eyes; is 5 feet 4 inches high, and 61 years; by profession a Widow\\r\\n\\r\\n(The original Oaths will be transmitted, by the officer administering them, to the Department of State, through intermediate channels and a certified copy thereof will be furnished to the applicant for pardon, to accompany his petition.)'"
      ]
     },
     "execution_count": 3,
     "metadata": {},
     "output_type": "execute_result"
    }
   ],
   "source": [
    "data[\"transcription_text\"][2]"
   ]
  },
  {
   "cell_type": "code",
   "execution_count": 4,
   "id": "71c04222",
   "metadata": {
    "execution": {
     "iopub.execute_input": "2022-06-03T14:28:38.883910Z",
     "iopub.status.busy": "2022-06-03T14:28:38.883515Z",
     "iopub.status.idle": "2022-06-03T14:28:38.889628Z",
     "shell.execute_reply": "2022-06-03T14:28:38.888758Z"
    },
    "papermill": {
     "duration": 0.028747,
     "end_time": "2022-06-03T14:28:38.891852",
     "exception": false,
     "start_time": "2022-06-03T14:28:38.863105",
     "status": "completed"
    },
    "tags": []
   },
   "outputs": [
    {
     "data": {
      "text/plain": [
       "'[[image - eagle]]\\r\\nAMNESTY OATH.\\r\\n\\r\\nMississippi City Miss Sept 29 1865.\\r\\n\\r\\nI, J.W. Baxter, do solemnly swear, in presence of Almighty God, that I will henceforth faithfully support, protect and defend the Constitution of the United States and the union of the States thereunder; and that I will, in like manner, abide by and faithfully support all laws and proclamations which have been made during the existing rebellion with reference to the emancipation of slaves. SO HELP ME GOD.\\r\\nJ.W. Baxter\\r\\n\\r\\nSworn to and subscribed at Mississippi City\\r\\nthis 29th day of September 1865, before me\\r\\nJ. H. Mathews Capt 66th\\r\\nU.S Col Infty & Provost Marshal.  Sub port Miss\\r\\n\\r\\nDESCRIPTION:\\r\\nAge 24 years\\r\\nHeight 5ft 8 inches\\r\\nEyes Blue\\r\\nColor of Hair light\\r\\nCharacteristics [[blank]]\\r\\n\\r\\nHEADQUARTERS, Mississippi City Miss\\r\\nSept 29th 1865.\\r\\n\\r\\nI hereby certify, that the Amnesty Oath prescribed by the Proclamation of the President of the United States, was duly administered to J.W. Baxter of Harrison Co by my order, this 29th day of Sept 29 1865.\\r\\nFrank E. Miller\\r\\nMaj 66th USCI Commanding.\\r\\n\\r\\n\\r\\n[TRIPLICATE.]'"
      ]
     },
     "execution_count": 4,
     "metadata": {},
     "output_type": "execute_result"
    }
   ],
   "source": [
    "data[\"transcription_text\"][10]"
   ]
  },
  {
   "cell_type": "code",
   "execution_count": 5,
   "id": "3edc6b5e",
   "metadata": {
    "execution": {
     "iopub.execute_input": "2022-06-03T14:28:38.928659Z",
     "iopub.status.busy": "2022-06-03T14:28:38.927994Z",
     "iopub.status.idle": "2022-06-03T14:28:38.935190Z",
     "shell.execute_reply": "2022-06-03T14:28:38.934174Z"
    },
    "papermill": {
     "duration": 0.027933,
     "end_time": "2022-06-03T14:28:38.937181",
     "exception": false,
     "start_time": "2022-06-03T14:28:38.909248",
     "status": "completed"
    },
    "tags": []
   },
   "outputs": [
    {
     "data": {
      "text/plain": [
       "' ]\\r\\nAMNESTY OATH.\\r\\n\\r\\nMississippi City Miss Sept 29 1865.\\r\\n\\r\\nI, J.W. Baxter, do solemnly swear, in presence of Almighty God, that I will henceforth faithfully support, protect and defend the Constitution of the United States and the union of the States thereunder; and that I will, in like manner, abide by and faithfully support all laws and proclamations which have been made during the existing rebellion with reference to the emancipation of slaves. SO HELP ME GOD.\\r\\nJ.W. Baxter\\r\\n\\r\\nSworn to and subscribed at Mississippi City\\r\\nthis 29th day of September 1865, before me\\r\\nJ. H. Mathews Capt 66th\\r\\nU.S Col Infty & Provost Marshal.  Sub port Miss\\r\\n\\r\\nDESCRIPTION:\\r\\nAge 24 years\\r\\nHeight 5ft 8 inches\\r\\nEyes Blue\\r\\nColor of Hair light\\r\\nCharacteristics  ]\\r\\n\\r\\nHEADQUARTERS, Mississippi City Miss\\r\\nSept 29th 1865.\\r\\n\\r\\nI hereby certify, that the Amnesty Oath prescribed by the Proclamation of the President of the United States, was duly administered to J.W. Baxter of Harrison Co by my order, this 29th day of Sept 29 1865.\\r\\nFrank E. Miller\\r\\nMaj 66th USCI Commanding.\\r\\n\\r\\n\\r\\n '"
      ]
     },
     "execution_count": 5,
     "metadata": {},
     "output_type": "execute_result"
    }
   ],
   "source": [
    "txte= re.sub(\"([\\(\\[]).*?([\\)\\]])\",\" \",data[\"transcription_text\"][10])\n",
    "txte"
   ]
  },
  {
   "cell_type": "markdown",
   "id": "38f75a6f",
   "metadata": {
    "papermill": {
     "duration": 0.017199,
     "end_time": "2022-06-03T14:28:38.971616",
     "exception": false,
     "start_time": "2022-06-03T14:28:38.954417",
     "status": "completed"
    },
    "tags": []
   },
   "source": [
    "# Preprocessing"
   ]
  },
  {
   "cell_type": "code",
   "execution_count": 6,
   "id": "4aba7107",
   "metadata": {
    "execution": {
     "iopub.execute_input": "2022-06-03T14:28:39.009488Z",
     "iopub.status.busy": "2022-06-03T14:28:39.008759Z",
     "iopub.status.idle": "2022-06-03T14:28:39.013387Z",
     "shell.execute_reply": "2022-06-03T14:28:39.012635Z"
    },
    "papermill": {
     "duration": 0.025655,
     "end_time": "2022-06-03T14:28:39.015472",
     "exception": false,
     "start_time": "2022-06-03T14:28:38.989817",
     "status": "completed"
    },
    "tags": []
   },
   "outputs": [],
   "source": [
    "text=data[\"transcription_text\"]"
   ]
  },
  {
   "cell_type": "code",
   "execution_count": 7,
   "id": "94a18cf0",
   "metadata": {
    "execution": {
     "iopub.execute_input": "2022-06-03T14:28:39.053740Z",
     "iopub.status.busy": "2022-06-03T14:28:39.053101Z",
     "iopub.status.idle": "2022-06-03T14:28:39.067195Z",
     "shell.execute_reply": "2022-06-03T14:28:39.066460Z"
    },
    "papermill": {
     "duration": 0.036413,
     "end_time": "2022-06-03T14:28:39.069485",
     "exception": false,
     "start_time": "2022-06-03T14:28:39.033072",
     "status": "completed"
    },
    "tags": []
   },
   "outputs": [],
   "source": [
    "stop_words = set(stopwords.words('english'))\n",
    "punctuation = string.punctuation\n",
    "stemmer = SnowballStemmer(language=\"english\")\n",
    "lemmatizer = WordNetLemmatizer()"
   ]
  },
  {
   "cell_type": "code",
   "execution_count": 8,
   "id": "fdbabe68",
   "metadata": {
    "execution": {
     "iopub.execute_input": "2022-06-03T14:28:39.106535Z",
     "iopub.status.busy": "2022-06-03T14:28:39.105905Z",
     "iopub.status.idle": "2022-06-03T14:28:39.111541Z",
     "shell.execute_reply": "2022-06-03T14:28:39.110686Z"
    },
    "papermill": {
     "duration": 0.026326,
     "end_time": "2022-06-03T14:28:39.113444",
     "exception": false,
     "start_time": "2022-06-03T14:28:39.087118",
     "status": "completed"
    },
    "tags": []
   },
   "outputs": [
    {
     "data": {
      "text/plain": [
       "'!\"#$%&\\'()*+,-./:;<=>?@[\\\\]^_`{|}~'"
      ]
     },
     "execution_count": 8,
     "metadata": {},
     "output_type": "execute_result"
    }
   ],
   "source": [
    "stop_words.remove(\"of\")\n",
    "punctuation"
   ]
  },
  {
   "cell_type": "code",
   "execution_count": 9,
   "id": "1efc28f6",
   "metadata": {
    "execution": {
     "iopub.execute_input": "2022-06-03T14:28:39.150532Z",
     "iopub.status.busy": "2022-06-03T14:28:39.149894Z",
     "iopub.status.idle": "2022-06-03T14:28:39.155410Z",
     "shell.execute_reply": "2022-06-03T14:28:39.154752Z"
    },
    "papermill": {
     "duration": 0.026345,
     "end_time": "2022-06-03T14:28:39.157430",
     "exception": false,
     "start_time": "2022-06-03T14:28:39.131085",
     "status": "completed"
    },
    "tags": []
   },
   "outputs": [],
   "source": [
    "def process(s):\n",
    "    s= re.sub(\"([\\(\\[]).*?([\\)\\]])\",\" \",s)\n",
    "    for p in punctuation:\n",
    "        s = s.replace(p, '')\n",
    "    s = word_tokenize(s)\n",
    "    s = [w for w in s if not w in stop_words] #optional\n",
    "    s = [lemmatizer.lemmatize(word) for word in s]\n",
    "    return s"
   ]
  },
  {
   "cell_type": "code",
   "execution_count": 10,
   "id": "e9e480d8",
   "metadata": {
    "execution": {
     "iopub.execute_input": "2022-06-03T14:28:39.195849Z",
     "iopub.status.busy": "2022-06-03T14:28:39.195431Z",
     "iopub.status.idle": "2022-06-03T14:28:41.554251Z",
     "shell.execute_reply": "2022-06-03T14:28:41.553223Z"
    },
    "papermill": {
     "duration": 2.380036,
     "end_time": "2022-06-03T14:28:41.556740",
     "exception": false,
     "start_time": "2022-06-03T14:28:39.176704",
     "status": "completed"
    },
    "tags": []
   },
   "outputs": [
    {
     "name": "stderr",
     "output_type": "stream",
     "text": [
      "100%|██████████| 20/20 [00:02<00:00,  8.52it/s]\n"
     ]
    }
   ],
   "source": [
    "for i in tqdm(range(data.shape[0])):\n",
    "    text[i] = process(text[i])"
   ]
  },
  {
   "cell_type": "code",
   "execution_count": 11,
   "id": "ba3e4741",
   "metadata": {
    "execution": {
     "iopub.execute_input": "2022-06-03T14:28:41.594377Z",
     "iopub.status.busy": "2022-06-03T14:28:41.594012Z",
     "iopub.status.idle": "2022-06-03T14:28:41.610214Z",
     "shell.execute_reply": "2022-06-03T14:28:41.609175Z"
    },
    "papermill": {
     "duration": 0.037573,
     "end_time": "2022-06-03T14:28:41.612363",
     "exception": false,
     "start_time": "2022-06-03T14:28:41.574790",
     "status": "completed"
    },
    "tags": []
   },
   "outputs": [
    {
     "name": "stderr",
     "output_type": "stream",
     "text": [
      "100%|██████████| 20/20 [00:00<00:00, 2577.54it/s]\n"
     ]
    }
   ],
   "source": [
    "for i in tqdm(range(data.shape[0])):\n",
    "    text[i] = \" \".join(text[i])"
   ]
  },
  {
   "cell_type": "code",
   "execution_count": 12,
   "id": "7f98a099",
   "metadata": {
    "execution": {
     "iopub.execute_input": "2022-06-03T14:28:41.654955Z",
     "iopub.status.busy": "2022-06-03T14:28:41.654539Z",
     "iopub.status.idle": "2022-06-03T14:28:41.660243Z",
     "shell.execute_reply": "2022-06-03T14:28:41.659464Z"
    },
    "papermill": {
     "duration": 0.030909,
     "end_time": "2022-06-03T14:28:41.662059",
     "exception": false,
     "start_time": "2022-06-03T14:28:41.631150",
     "status": "completed"
    },
    "tags": []
   },
   "outputs": [
    {
     "data": {
      "text/plain": [
       "'I E C Whaley solemnly swear I carefully read Amnesty Proclamation issued Andrew Johnson President of United State of America May 29th 1865 I excepted benefit of Proclamation one of fourteen exception therein made except E C Whaley Sworn subscribed Charleston SC 28 day of Sept 1865 Levi Steuben Maj 47th PM United States of America E C Whaley of city county Charleston Sate of South Ca solemnly swear presence of Almighty God I henceforth faithfully support defend Constitution of United States Union of States thereunder I like manner abide faithfully support law proclamation made existing rebellion reference Emancipation of SlavesSO HELP ME GOD E C Whaley Sworn subscribed Charleston SC 28 day of Sept 1865 Levi Steuben May 47 PM The fair complexion light hair gray eye 5 foot 10 inch high 39 year profession planter Copy Levi Steuben Maj 47th Pro Marshal City of Charleston'"
      ]
     },
     "execution_count": 12,
     "metadata": {},
     "output_type": "execute_result"
    }
   ],
   "source": [
    "text[1]"
   ]
  },
  {
   "cell_type": "markdown",
   "id": "8fd57bf6",
   "metadata": {
    "papermill": {
     "duration": 0.018357,
     "end_time": "2022-06-03T14:28:41.699563",
     "exception": false,
     "start_time": "2022-06-03T14:28:41.681206",
     "status": "completed"
    },
    "tags": []
   },
   "source": [
    "# spacy"
   ]
  },
  {
   "cell_type": "code",
   "execution_count": 13,
   "id": "8e0ab599",
   "metadata": {
    "execution": {
     "iopub.execute_input": "2022-06-03T14:28:41.738892Z",
     "iopub.status.busy": "2022-06-03T14:28:41.738353Z",
     "iopub.status.idle": "2022-06-03T14:28:47.677520Z",
     "shell.execute_reply": "2022-06-03T14:28:47.676579Z"
    },
    "papermill": {
     "duration": 5.961306,
     "end_time": "2022-06-03T14:28:47.680111",
     "exception": false,
     "start_time": "2022-06-03T14:28:41.718805",
     "status": "completed"
    },
    "tags": []
   },
   "outputs": [],
   "source": [
    "import spacy\n",
    "from spacy import displacy\n",
    "from collections import Counter\n",
    "import en_core_web_sm\n",
    "nlp = en_core_web_sm.load()"
   ]
  },
  {
   "cell_type": "code",
   "execution_count": 14,
   "id": "826219ce",
   "metadata": {
    "execution": {
     "iopub.execute_input": "2022-06-03T14:28:47.719513Z",
     "iopub.status.busy": "2022-06-03T14:28:47.719133Z",
     "iopub.status.idle": "2022-06-03T14:28:48.257377Z",
     "shell.execute_reply": "2022-06-03T14:28:48.256336Z"
    },
    "papermill": {
     "duration": 0.560665,
     "end_time": "2022-06-03T14:28:48.259552",
     "exception": false,
     "start_time": "2022-06-03T14:28:47.698887",
     "status": "completed"
    },
    "tags": []
   },
   "outputs": [
    {
     "data": {
      "text/html": [
       "<div>\n",
       "<style scoped>\n",
       "    .dataframe tbody tr th:only-of-type {\n",
       "        vertical-align: middle;\n",
       "    }\n",
       "\n",
       "    .dataframe tbody tr th {\n",
       "        vertical-align: top;\n",
       "    }\n",
       "\n",
       "    .dataframe thead th {\n",
       "        text-align: right;\n",
       "    }\n",
       "</style>\n",
       "<table border=\"1\" class=\"dataframe\">\n",
       "  <thead>\n",
       "    <tr style=\"text-align: right;\">\n",
       "      <th></th>\n",
       "      <th>entities</th>\n",
       "      <th>start_char</th>\n",
       "      <th>end_char</th>\n",
       "      <th>label</th>\n",
       "      <th>explain</th>\n",
       "      <th>frequency</th>\n",
       "    </tr>\n",
       "  </thead>\n",
       "  <tbody>\n",
       "    <tr>\n",
       "      <th>0</th>\n",
       "      <td>Anne H Elliott</td>\n",
       "      <td>11</td>\n",
       "      <td>25</td>\n",
       "      <td>PERSON</td>\n",
       "      <td>People, including fictional</td>\n",
       "      <td></td>\n",
       "    </tr>\n",
       "    <tr>\n",
       "      <th>1</th>\n",
       "      <td>Amnesty</td>\n",
       "      <td>54</td>\n",
       "      <td>61</td>\n",
       "      <td>ORG</td>\n",
       "      <td>Companies, agencies, institutions, etc.</td>\n",
       "      <td></td>\n",
       "    </tr>\n",
       "    <tr>\n",
       "      <th>2</th>\n",
       "      <td>Andrew Johnson</td>\n",
       "      <td>82</td>\n",
       "      <td>96</td>\n",
       "      <td>PERSON</td>\n",
       "      <td>People, including fictional</td>\n",
       "      <td></td>\n",
       "    </tr>\n",
       "    <tr>\n",
       "      <th>3</th>\n",
       "      <td>United States of America</td>\n",
       "      <td>110</td>\n",
       "      <td>134</td>\n",
       "      <td>GPE</td>\n",
       "      <td>Countries, cities, states</td>\n",
       "      <td></td>\n",
       "    </tr>\n",
       "    <tr>\n",
       "      <th>4</th>\n",
       "      <td>May 29th 1865</td>\n",
       "      <td>135</td>\n",
       "      <td>148</td>\n",
       "      <td>DATE</td>\n",
       "      <td>Absolute or relative dates or periods</td>\n",
       "      <td></td>\n",
       "    </tr>\n",
       "  </tbody>\n",
       "</table>\n",
       "</div>"
      ],
      "text/plain": [
       "                   entities  start_char  end_char   label  \\\n",
       "0            Anne H Elliott          11        25  PERSON   \n",
       "1                   Amnesty          54        61     ORG   \n",
       "2            Andrew Johnson          82        96  PERSON   \n",
       "3  United States of America         110       134     GPE   \n",
       "4             May 29th 1865         135       148    DATE   \n",
       "\n",
       "                                   explain frequency  \n",
       "0              People, including fictional            \n",
       "1  Companies, agencies, institutions, etc.            \n",
       "2              People, including fictional            \n",
       "3                Countries, cities, states            \n",
       "4    Absolute or relative dates or periods            "
      ]
     },
     "execution_count": 14,
     "metadata": {},
     "output_type": "execute_result"
    }
   ],
   "source": [
    "L1=[]\n",
    "def NER (txt):\n",
    "    for i in range(20):\n",
    "        nlp_text=nlp(txt[i])\n",
    "        L1.append([(word.text, word.start_char, word.end_char, word.label_,spacy.explain(word.label_)) for word in nlp_text.ents])\n",
    "        \n",
    "NER(text)\n",
    "l0=[]\n",
    "l1=[]\n",
    "l2=[]\n",
    "l3=[]\n",
    "l4=[]\n",
    "l5=[]\n",
    "for i in range(len(L1)):\n",
    "    for j in range(len(L1[i])):\n",
    "        l0.append(L1[i][j][0])\n",
    "        l2.append(L1[i][j][1])\n",
    "        l3.append(L1[i][j][2])\n",
    "        l4.append(L1[i][j][3])\n",
    "        l5.append(L1[i][j][4])\n",
    "\n",
    "df1=pd.DataFrame({\"entities\":l0,\"start_char\":l2,\"end_char\":l3 ,\"label\": l4, \"explain\": l5, \"frequency\":\"\"})\n",
    "df1.head()"
   ]
  },
  {
   "cell_type": "code",
   "execution_count": 15,
   "id": "649ca55b",
   "metadata": {
    "execution": {
     "iopub.execute_input": "2022-06-03T14:28:48.299246Z",
     "iopub.status.busy": "2022-06-03T14:28:48.298840Z",
     "iopub.status.idle": "2022-06-03T14:28:48.330281Z",
     "shell.execute_reply": "2022-06-03T14:28:48.329254Z"
    },
    "papermill": {
     "duration": 0.053619,
     "end_time": "2022-06-03T14:28:48.332258",
     "exception": false,
     "start_time": "2022-06-03T14:28:48.278639",
     "status": "completed"
    },
    "tags": []
   },
   "outputs": [],
   "source": [
    "Person=[]\n",
    "ORG=[]\n",
    "DATE=[]\n",
    "GPE=[]\n",
    "\n",
    "for i in range(df1.shape[0]):\n",
    "    if df1.label.loc[i]==\"PERSON\":\n",
    "        Person.append(df1.entities.loc[i])\n",
    "    elif df1.label.loc[i]==\"ORG\" :\n",
    "        ORG.append(df1.entities.loc[i])\n",
    "    elif df1.label.loc[i]==\"DATE\" :\n",
    "        DATE.append(df1.entities.loc[i])\n",
    "    elif df1.label.loc[i]==\"GPE\" :\n",
    "        GPE.append(df1.entities.loc[i])\n",
    "GPE=np.array(GPE)\n",
    "ORG=np.array(ORG)\n",
    "Person=np.array(Person)\n",
    "DATE=np.array(DATE)"
   ]
  },
  {
   "cell_type": "code",
   "execution_count": 16,
   "id": "6f527d0e",
   "metadata": {
    "execution": {
     "iopub.execute_input": "2022-06-03T14:28:48.371925Z",
     "iopub.status.busy": "2022-06-03T14:28:48.371290Z",
     "iopub.status.idle": "2022-06-03T14:28:48.377833Z",
     "shell.execute_reply": "2022-06-03T14:28:48.376885Z"
    },
    "papermill": {
     "duration": 0.028589,
     "end_time": "2022-06-03T14:28:48.379906",
     "exception": false,
     "start_time": "2022-06-03T14:28:48.351317",
     "status": "completed"
    },
    "tags": []
   },
   "outputs": [
    {
     "data": {
      "text/plain": [
       "array(['May 29th 1865', '27th day', '1865', '27th day', '1865', '63 year',\n",
       "       'May 29th 1865', '28 day', '28 day', 'May 47 PM', '39 year',\n",
       "       'May 29th 1865', '31 day', '1865', 'No1984', '31 day', '1865',\n",
       "       '31st day', 'August 24 1865', 'May 29th 1865',\n",
       "       '3 day of August 1865', 'May 4', '3 day', '1865', 'May 29th 1865',\n",
       "       '16th day', '1474', '16th day', 'May 29th 1865',\n",
       "       '16 day of October 1865', '16 day of October 1865', 'July 22',\n",
       "       'July 22', '1867', 'May 29th 1865', '6 day', '6 day',\n",
       "       '29th day of September 1865', 'Age 24 year', 'Sept 29th 1865',\n",
       "       '29th day', 'May 29th 1865', '7th day of September',\n",
       "       '7th day of September', '20th day of August 1865',\n",
       "       '20th day of August 1865', 'August 29th 1865',\n",
       "       '22nd day of August 1865', 'Miss 31st day', '1865 1865', '31 day',\n",
       "       '1865'], dtype='<U26')"
      ]
     },
     "execution_count": 16,
     "metadata": {},
     "output_type": "execute_result"
    }
   ],
   "source": [
    "DATE"
   ]
  },
  {
   "cell_type": "code",
   "execution_count": 17,
   "id": "c544877d",
   "metadata": {
    "execution": {
     "iopub.execute_input": "2022-06-03T14:28:48.419156Z",
     "iopub.status.busy": "2022-06-03T14:28:48.418789Z",
     "iopub.status.idle": "2022-06-03T14:28:48.424372Z",
     "shell.execute_reply": "2022-06-03T14:28:48.423720Z"
    },
    "papermill": {
     "duration": 0.027413,
     "end_time": "2022-06-03T14:28:48.426079",
     "exception": false,
     "start_time": "2022-06-03T14:28:48.398666",
     "status": "completed"
    },
    "tags": []
   },
   "outputs": [
    {
     "data": {
      "text/plain": [
       "array(['Anne H Elliott', 'Andrew Johnson', 'Hazel', 'Whaley',\n",
       "       'Andrew Johnson', 'Copy Levi Steuben', 'Hu Kennedy',\n",
       "       'Amnesty Oath Administered At', 'Hiserodt', 'William Whaley Sworn',\n",
       "       'William Whaley Sworn', 'Brown', 'Charleston Sc',\n",
       "       'JF Steinmeyer Sworn', 'Charleston Sc', 'Gry', 'Joseph Edings',\n",
       "       'Thomas Andrew Oath of', 'Jacob Schroder Sworn', 'Walhalla',\n",
       "       'Walhalla', 'Bray Lieut', 'Laborer', 'Characteristics',\n",
       "       'Amnesty Oath', 'Woodville Wilkinson', 'Frank Conner',\n",
       "       'Triplicate AMNESTY', 'Hiram Smith', 'Hiram Smith',\n",
       "       'Pass Christian', 'Captn', 'Amnesty Oath', 'Hiram Smith',\n",
       "       'Captn Commanding', 'Robert A',\n",
       "       'James D Kendall Amnesty Oath Administered At Oacen Springs',\n",
       "       'Gibbs Henderson', 'City Miss', 'Amnesty Oath', 'Frank E Miller'],\n",
       "      dtype='<U58')"
      ]
     },
     "execution_count": 17,
     "metadata": {},
     "output_type": "execute_result"
    }
   ],
   "source": [
    "Person"
   ]
  },
  {
   "cell_type": "markdown",
   "id": "2ad5ae85",
   "metadata": {
    "papermill": {
     "duration": 0.018852,
     "end_time": "2022-06-03T14:28:48.463777",
     "exception": false,
     "start_time": "2022-06-03T14:28:48.444925",
     "status": "completed"
    },
    "tags": []
   },
   "source": [
    "# Hugging face  : Flair"
   ]
  },
  {
   "cell_type": "markdown",
   "id": "7e4877f6",
   "metadata": {
    "papermill": {
     "duration": 0.018637,
     "end_time": "2022-06-03T14:28:48.501226",
     "exception": false,
     "start_time": "2022-06-03T14:28:48.482589",
     "status": "completed"
    },
    "tags": []
   },
   "source": [
    "**ner-english-ontonotes-large** : the best one on this type of text"
   ]
  },
  {
   "cell_type": "code",
   "execution_count": 18,
   "id": "d154da6a",
   "metadata": {
    "execution": {
     "iopub.execute_input": "2022-06-03T14:28:48.540814Z",
     "iopub.status.busy": "2022-06-03T14:28:48.540402Z",
     "iopub.status.idle": "2022-06-03T14:29:48.364935Z",
     "shell.execute_reply": "2022-06-03T14:29:48.363602Z"
    },
    "papermill": {
     "duration": 59.847852,
     "end_time": "2022-06-03T14:29:48.367952",
     "exception": false,
     "start_time": "2022-06-03T14:28:48.520100",
     "status": "completed"
    },
    "tags": []
   },
   "outputs": [
    {
     "name": "stdout",
     "output_type": "stream",
     "text": [
      "Requirement already satisfied: transformers in /opt/conda/lib/python3.7/site-packages (4.18.0)\r\n",
      "Requirement already satisfied: filelock in /opt/conda/lib/python3.7/site-packages (from transformers) (3.6.0)\r\n",
      "Requirement already satisfied: numpy>=1.17 in /opt/conda/lib/python3.7/site-packages (from transformers) (1.21.6)\r\n",
      "Requirement already satisfied: requests in /opt/conda/lib/python3.7/site-packages (from transformers) (2.27.1)\r\n",
      "Requirement already satisfied: regex!=2019.12.17 in /opt/conda/lib/python3.7/site-packages (from transformers) (2021.11.10)\r\n",
      "Requirement already satisfied: tqdm>=4.27 in /opt/conda/lib/python3.7/site-packages (from transformers) (4.64.0)\r\n",
      "Requirement already satisfied: importlib-metadata in /opt/conda/lib/python3.7/site-packages (from transformers) (4.11.4)\r\n",
      "Requirement already satisfied: huggingface-hub<1.0,>=0.1.0 in /opt/conda/lib/python3.7/site-packages (from transformers) (0.5.1)\r\n",
      "Requirement already satisfied: sacremoses in /opt/conda/lib/python3.7/site-packages (from transformers) (0.0.53)\r\n",
      "Requirement already satisfied: packaging>=20.0 in /opt/conda/lib/python3.7/site-packages (from transformers) (21.3)\r\n",
      "Requirement already satisfied: tokenizers!=0.11.3,<0.13,>=0.11.1 in /opt/conda/lib/python3.7/site-packages (from transformers) (0.12.1)\r\n",
      "Requirement already satisfied: pyyaml>=5.1 in /opt/conda/lib/python3.7/site-packages (from transformers) (6.0)\r\n",
      "Requirement already satisfied: typing-extensions>=3.7.4.3 in /opt/conda/lib/python3.7/site-packages (from huggingface-hub<1.0,>=0.1.0->transformers) (4.2.0)\r\n",
      "Requirement already satisfied: pyparsing!=3.0.5,>=2.0.2 in /opt/conda/lib/python3.7/site-packages (from packaging>=20.0->transformers) (3.0.9)\r\n",
      "Requirement already satisfied: zipp>=0.5 in /opt/conda/lib/python3.7/site-packages (from importlib-metadata->transformers) (3.8.0)\r\n",
      "Requirement already satisfied: idna<4,>=2.5 in /opt/conda/lib/python3.7/site-packages (from requests->transformers) (3.3)\r\n",
      "Requirement already satisfied: urllib3<1.27,>=1.21.1 in /opt/conda/lib/python3.7/site-packages (from requests->transformers) (1.26.9)\r\n",
      "Requirement already satisfied: certifi>=2017.4.17 in /opt/conda/lib/python3.7/site-packages (from requests->transformers) (2022.5.18.1)\r\n",
      "Requirement already satisfied: charset-normalizer~=2.0.0 in /opt/conda/lib/python3.7/site-packages (from requests->transformers) (2.0.12)\r\n",
      "Requirement already satisfied: six in /opt/conda/lib/python3.7/site-packages (from sacremoses->transformers) (1.16.0)\r\n",
      "Requirement already satisfied: joblib in /opt/conda/lib/python3.7/site-packages (from sacremoses->transformers) (1.1.0)\r\n",
      "Requirement already satisfied: click in /opt/conda/lib/python3.7/site-packages (from sacremoses->transformers) (8.0.4)\r\n",
      "\u001b[33mWARNING: Running pip as the 'root' user can result in broken permissions and conflicting behaviour with the system package manager. It is recommended to use a virtual environment instead: https://pip.pypa.io/warnings/venv\u001b[0m\u001b[33m\r\n",
      "\u001b[0mCollecting flair\r\n",
      "  Downloading flair-0.11.3-py3-none-any.whl (401 kB)\r\n",
      "\u001b[2K     \u001b[90m━━━━━━━━━━━━━━━━━━━━━━━━━━━━━━━━━━━━━━━\u001b[0m \u001b[32m401.9/401.9 kB\u001b[0m \u001b[31m7.0 MB/s\u001b[0m eta \u001b[36m0:00:00\u001b[0m\r\n",
      "\u001b[?25hRequirement already satisfied: gensim>=3.4.0 in /opt/conda/lib/python3.7/site-packages (from flair) (4.0.1)\r\n",
      "Requirement already satisfied: matplotlib>=2.2.3 in /opt/conda/lib/python3.7/site-packages (from flair) (3.5.2)\r\n",
      "Requirement already satisfied: tqdm>=4.26.0 in /opt/conda/lib/python3.7/site-packages (from flair) (4.64.0)\r\n",
      "Requirement already satisfied: hyperopt>=0.2.7 in /opt/conda/lib/python3.7/site-packages (from flair) (0.2.7)\r\n",
      "Collecting bpemb>=0.3.2\r\n",
      "  Downloading bpemb-0.3.3-py3-none-any.whl (19 kB)\r\n",
      "Requirement already satisfied: tabulate in /opt/conda/lib/python3.7/site-packages (from flair) (0.8.9)\r\n",
      "Collecting konoha<5.0.0,>=4.0.0\r\n",
      "  Downloading konoha-4.6.5-py3-none-any.whl (20 kB)\r\n",
      "Requirement already satisfied: huggingface-hub in /opt/conda/lib/python3.7/site-packages (from flair) (0.5.1)\r\n",
      "Requirement already satisfied: janome in /opt/conda/lib/python3.7/site-packages (from flair) (0.4.2)\r\n",
      "Collecting segtok>=1.5.7\r\n",
      "  Downloading segtok-1.5.11-py3-none-any.whl (24 kB)\r\n",
      "Requirement already satisfied: python-dateutil>=2.6.1 in /opt/conda/lib/python3.7/site-packages (from flair) (2.8.2)\r\n",
      "Collecting gdown==4.4.0\r\n",
      "  Downloading gdown-4.4.0.tar.gz (14 kB)\r\n",
      "  Installing build dependencies ... \u001b[?25l-\b \b\\\b \b|\b \b/\b \bdone\r\n",
      "\u001b[?25h  Getting requirements to build wheel ... \u001b[?25l-\b \b\\\b \b|\b \b/\b \b-\b \bdone\r\n",
      "\u001b[?25h  Preparing metadata (pyproject.toml) ... \u001b[?25l-\b \b\\\b \b|\b \b/\b \b-\b \bdone\r\n",
      "\u001b[?25hCollecting conllu>=4.0\r\n",
      "  Downloading conllu-4.4.2-py2.py3-none-any.whl (15 kB)\r\n",
      "Requirement already satisfied: more-itertools in /opt/conda/lib/python3.7/site-packages (from flair) (8.13.0)\r\n",
      "Collecting sentencepiece==0.1.95\r\n",
      "  Downloading sentencepiece-0.1.95-cp37-cp37m-manylinux2014_x86_64.whl (1.2 MB)\r\n",
      "\u001b[2K     \u001b[90m━━━━━━━━━━━━━━━━━━━━━━━━━━━━━━━━━━━━━━━━\u001b[0m \u001b[32m1.2/1.2 MB\u001b[0m \u001b[31m37.2 MB/s\u001b[0m eta \u001b[36m0:00:00\u001b[0m\r\n",
      "\u001b[?25hRequirement already satisfied: lxml in /opt/conda/lib/python3.7/site-packages (from flair) (4.8.0)\r\n",
      "Collecting sqlitedict>=1.6.0\r\n",
      "  Downloading sqlitedict-2.0.0.tar.gz (46 kB)\r\n",
      "\u001b[2K     \u001b[90m━━━━━━━━━━━━━━━━━━━━━━━━━━━━━━━━━━━━━━━━\u001b[0m \u001b[32m46.3/46.3 kB\u001b[0m \u001b[31m4.1 MB/s\u001b[0m eta \u001b[36m0:00:00\u001b[0m\r\n",
      "\u001b[?25h  Preparing metadata (setup.py) ... \u001b[?25l-\b \bdone\r\n",
      "\u001b[?25hRequirement already satisfied: transformers>=4.0.0 in /opt/conda/lib/python3.7/site-packages (from flair) (4.18.0)\r\n",
      "Collecting deprecated>=1.2.4\r\n",
      "  Downloading Deprecated-1.2.13-py2.py3-none-any.whl (9.6 kB)\r\n",
      "Collecting wikipedia-api\r\n",
      "  Downloading Wikipedia-API-0.5.4.tar.gz (18 kB)\r\n",
      "  Preparing metadata (setup.py) ... \u001b[?25l-\b \bdone\r\n",
      "\u001b[?25hCollecting pptree\r\n",
      "  Downloading pptree-3.1.tar.gz (3.0 kB)\r\n",
      "  Preparing metadata (setup.py) ... \u001b[?25l-\b \bdone\r\n",
      "\u001b[?25hRequirement already satisfied: torch!=1.8,>=1.5.0 in /opt/conda/lib/python3.7/site-packages (from flair) (1.11.0+cpu)\r\n",
      "Requirement already satisfied: regex in /opt/conda/lib/python3.7/site-packages (from flair) (2021.11.10)\r\n",
      "Collecting ftfy\r\n",
      "  Downloading ftfy-6.1.1-py3-none-any.whl (53 kB)\r\n",
      "\u001b[2K     \u001b[90m━━━━━━━━━━━━━━━━━━━━━━━━━━━━━━━━━━━━━━━━\u001b[0m \u001b[32m53.1/53.1 kB\u001b[0m \u001b[31m4.2 MB/s\u001b[0m eta \u001b[36m0:00:00\u001b[0m\r\n",
      "\u001b[?25hRequirement already satisfied: scikit-learn>=0.21.3 in /opt/conda/lib/python3.7/site-packages (from flair) (1.0.2)\r\n",
      "Collecting langdetect\r\n",
      "  Downloading langdetect-1.0.9.tar.gz (981 kB)\r\n",
      "\u001b[2K     \u001b[90m━━━━━━━━━━━━━━━━━━━━━━━━━━━━━━━━━━━━━━\u001b[0m \u001b[32m981.5/981.5 kB\u001b[0m \u001b[31m39.7 MB/s\u001b[0m eta \u001b[36m0:00:00\u001b[0m\r\n",
      "\u001b[?25h  Preparing metadata (setup.py) ... \u001b[?25l-\b \bdone\r\n",
      "\u001b[?25hCollecting mpld3==0.3\r\n",
      "  Downloading mpld3-0.3.tar.gz (788 kB)\r\n",
      "\u001b[2K     \u001b[90m━━━━━━━━━━━━━━━━━━━━━━━━━━━━━━━━━━━━━━\u001b[0m \u001b[32m788.5/788.5 kB\u001b[0m \u001b[31m34.9 MB/s\u001b[0m eta \u001b[36m0:00:00\u001b[0m\r\n",
      "\u001b[?25h  Preparing metadata (setup.py) ... \u001b[?25l-\b \bdone\r\n",
      "\u001b[?25hRequirement already satisfied: six in /opt/conda/lib/python3.7/site-packages (from gdown==4.4.0->flair) (1.16.0)\r\n",
      "Requirement already satisfied: filelock in /opt/conda/lib/python3.7/site-packages (from gdown==4.4.0->flair) (3.6.0)\r\n",
      "Requirement already satisfied: beautifulsoup4 in /opt/conda/lib/python3.7/site-packages (from gdown==4.4.0->flair) (4.11.1)\r\n",
      "Requirement already satisfied: requests[socks] in /opt/conda/lib/python3.7/site-packages (from gdown==4.4.0->flair) (2.27.1)\r\n",
      "Requirement already satisfied: numpy in /opt/conda/lib/python3.7/site-packages (from bpemb>=0.3.2->flair) (1.21.6)\r\n",
      "Requirement already satisfied: wrapt<2,>=1.10 in /opt/conda/lib/python3.7/site-packages (from deprecated>=1.2.4->flair) (1.14.1)\r\n",
      "Requirement already satisfied: smart-open>=1.8.1 in /opt/conda/lib/python3.7/site-packages (from gensim>=3.4.0->flair) (5.2.1)\r\n",
      "Requirement already satisfied: scipy>=0.18.1 in /opt/conda/lib/python3.7/site-packages (from gensim>=3.4.0->flair) (1.7.3)\r\n",
      "Requirement already satisfied: cloudpickle in /opt/conda/lib/python3.7/site-packages (from hyperopt>=0.2.7->flair) (2.0.0)\r\n",
      "Requirement already satisfied: py4j in /opt/conda/lib/python3.7/site-packages (from hyperopt>=0.2.7->flair) (0.10.9.5)\r\n",
      "Requirement already satisfied: future in /opt/conda/lib/python3.7/site-packages (from hyperopt>=0.2.7->flair) (0.18.2)\r\n",
      "Requirement already satisfied: networkx>=2.2 in /opt/conda/lib/python3.7/site-packages (from hyperopt>=0.2.7->flair) (2.5)\r\n",
      "Collecting overrides<4.0.0,>=3.0.0\r\n",
      "  Downloading overrides-3.1.0.tar.gz (11 kB)\r\n",
      "  Preparing metadata (setup.py) ... \u001b[?25l-\b \bdone\r\n",
      "\u001b[?25hCollecting importlib-metadata<4.0.0,>=3.7.0\r\n",
      "  Downloading importlib_metadata-3.10.1-py3-none-any.whl (14 kB)\r\n",
      "Requirement already satisfied: fonttools>=4.22.0 in /opt/conda/lib/python3.7/site-packages (from matplotlib>=2.2.3->flair) (4.33.3)\r\n",
      "Requirement already satisfied: pyparsing>=2.2.1 in /opt/conda/lib/python3.7/site-packages (from matplotlib>=2.2.3->flair) (3.0.9)\r\n",
      "Requirement already satisfied: packaging>=20.0 in /opt/conda/lib/python3.7/site-packages (from matplotlib>=2.2.3->flair) (21.3)\r\n",
      "Requirement already satisfied: kiwisolver>=1.0.1 in /opt/conda/lib/python3.7/site-packages (from matplotlib>=2.2.3->flair) (1.4.2)\r\n",
      "Requirement already satisfied: pillow>=6.2.0 in /opt/conda/lib/python3.7/site-packages (from matplotlib>=2.2.3->flair) (9.1.0)\r\n",
      "Requirement already satisfied: cycler>=0.10 in /opt/conda/lib/python3.7/site-packages (from matplotlib>=2.2.3->flair) (0.11.0)\r\n",
      "Requirement already satisfied: threadpoolctl>=2.0.0 in /opt/conda/lib/python3.7/site-packages (from scikit-learn>=0.21.3->flair) (3.1.0)\r\n",
      "Requirement already satisfied: joblib>=0.11 in /opt/conda/lib/python3.7/site-packages (from scikit-learn>=0.21.3->flair) (1.1.0)\r\n",
      "Requirement already satisfied: typing-extensions in /opt/conda/lib/python3.7/site-packages (from torch!=1.8,>=1.5.0->flair) (4.2.0)\r\n",
      "Requirement already satisfied: pyyaml>=5.1 in /opt/conda/lib/python3.7/site-packages (from transformers>=4.0.0->flair) (6.0)\r\n",
      "Requirement already satisfied: tokenizers!=0.11.3,<0.13,>=0.11.1 in /opt/conda/lib/python3.7/site-packages (from transformers>=4.0.0->flair) (0.12.1)\r\n",
      "Requirement already satisfied: sacremoses in /opt/conda/lib/python3.7/site-packages (from transformers>=4.0.0->flair) (0.0.53)\r\n",
      "Requirement already satisfied: wcwidth>=0.2.5 in /opt/conda/lib/python3.7/site-packages (from ftfy->flair) (0.2.5)\r\n",
      "Requirement already satisfied: zipp>=0.5 in /opt/conda/lib/python3.7/site-packages (from importlib-metadata<4.0.0,>=3.7.0->konoha<5.0.0,>=4.0.0->flair) (3.8.0)\r\n",
      "Requirement already satisfied: decorator>=4.3.0 in /opt/conda/lib/python3.7/site-packages (from networkx>=2.2->hyperopt>=0.2.7->flair) (5.1.1)\r\n",
      "Requirement already satisfied: urllib3<1.27,>=1.21.1 in /opt/conda/lib/python3.7/site-packages (from requests[socks]->gdown==4.4.0->flair) (1.26.9)\r\n",
      "Requirement already satisfied: certifi>=2017.4.17 in /opt/conda/lib/python3.7/site-packages (from requests[socks]->gdown==4.4.0->flair) (2022.5.18.1)\r\n",
      "Requirement already satisfied: charset-normalizer~=2.0.0 in /opt/conda/lib/python3.7/site-packages (from requests[socks]->gdown==4.4.0->flair) (2.0.12)\r\n",
      "Requirement already satisfied: idna<4,>=2.5 in /opt/conda/lib/python3.7/site-packages (from requests[socks]->gdown==4.4.0->flair) (3.3)\r\n",
      "Requirement already satisfied: soupsieve>1.2 in /opt/conda/lib/python3.7/site-packages (from beautifulsoup4->gdown==4.4.0->flair) (2.3.1)\r\n",
      "Requirement already satisfied: PySocks!=1.5.7,>=1.5.6 in /opt/conda/lib/python3.7/site-packages (from requests[socks]->gdown==4.4.0->flair) (1.7.1)\r\n",
      "Requirement already satisfied: click in /opt/conda/lib/python3.7/site-packages (from sacremoses->transformers>=4.0.0->flair) (8.0.4)\r\n",
      "Building wheels for collected packages: gdown, mpld3, sqlitedict, langdetect, pptree, wikipedia-api, overrides\r\n",
      "  Building wheel for gdown (pyproject.toml) ... \u001b[?25l-\b \b\\\b \b|\b \b/\b \b-\b \b\\\b \b|\b \b/\b \bdone\r\n",
      "\u001b[?25h  Created wheel for gdown: filename=gdown-4.4.0-py3-none-any.whl size=14759 sha256=4d0206257d57bdd1b13845d9c20017d7a322c43c92765cbe8482351b403ad778\r\n",
      "  Stored in directory: /root/.cache/pip/wheels/fb/c3/0e/c4d8ff8bfcb0461afff199471449f642179b74968c15b7a69c\r\n",
      "  Building wheel for mpld3 (setup.py) ... \u001b[?25l-\b \b\\\b \bdone\r\n",
      "\u001b[?25h  Created wheel for mpld3: filename=mpld3-0.3-py3-none-any.whl size=116702 sha256=4519b448196a8c908e4f73824d55fdb0a7f4440f2c4801a49d4542f14f51a977\r\n",
      "  Stored in directory: /root/.cache/pip/wheels/26/70/6a/1c79e59951a41b4045497da187b2724f5659ca64033cf4548e\r\n",
      "  Building wheel for sqlitedict (setup.py) ... \u001b[?25l-\b \bdone\r\n",
      "\u001b[?25h  Created wheel for sqlitedict: filename=sqlitedict-2.0.0-py3-none-any.whl size=15736 sha256=da59579c831cd9ef02ed812f7cb24f2d4a81390033f7f23396383009e24c587a\r\n",
      "  Stored in directory: /root/.cache/pip/wheels/96/dd/2e/0ed4a25cb73fc30c7ea8d10b50acb7226175736067e40a7ea3\r\n",
      "  Building wheel for langdetect (setup.py) ... \u001b[?25l-\b \b\\\b \b|\b \b/\b \bdone\r\n",
      "\u001b[?25h  Created wheel for langdetect: filename=langdetect-1.0.9-py3-none-any.whl size=993242 sha256=d7794e8f9355172930524b9e11287da2ec0899304503b34617df948e3f06a331\r\n",
      "  Stored in directory: /root/.cache/pip/wheels/c5/96/8a/f90c59ed25d75e50a8c10a1b1c2d4c402e4dacfa87f3aff36a\r\n",
      "  Building wheel for pptree (setup.py) ... \u001b[?25l-\b \b\\\b \bdone\r\n",
      "\u001b[?25h  Created wheel for pptree: filename=pptree-3.1-py3-none-any.whl size=4629 sha256=5c996b9c6ef0e0bd311b94d21cef64dd619fabf8aaf9ba6b412727a6ad48b42c\r\n",
      "  Stored in directory: /root/.cache/pip/wheels/9e/e8/7d/a9c3c19b4722608a0d8b05a38c36bc3f230c43becd2a46794b\r\n",
      "  Building wheel for wikipedia-api (setup.py) ... \u001b[?25l-\b \b\\\b \bdone\r\n",
      "\u001b[?25h  Created wheel for wikipedia-api: filename=Wikipedia_API-0.5.4-py3-none-any.whl size=13477 sha256=c0a2b55caaa1fd87e6823d0e6513bb3478b7f635b7fdfdc9821649e56cf67907\r\n",
      "  Stored in directory: /root/.cache/pip/wheels/d3/24/56/58ba93cf78be162451144e7a9889603f437976ef1ae7013d04\r\n",
      "  Building wheel for overrides (setup.py) ... \u001b[?25l-\b \b\\\b \bdone\r\n",
      "\u001b[?25h  Created wheel for overrides: filename=overrides-3.1.0-py3-none-any.whl size=10187 sha256=213698601194be2903a5e063b4fe9957e1f302cc2beca19fb120dd68c1a4d742\r\n",
      "  Stored in directory: /root/.cache/pip/wheels/3a/0d/38/01a9bc6e20dcfaf0a6a7b552d03137558ba1c38aea47644682\r\n",
      "Successfully built gdown mpld3 sqlitedict langdetect pptree wikipedia-api overrides\r\n",
      "Installing collected packages: sqlitedict, sentencepiece, pptree, overrides, mpld3, segtok, langdetect, importlib-metadata, ftfy, deprecated, conllu, wikipedia-api, konoha, gdown, bpemb, flair\r\n",
      "  Attempting uninstall: sentencepiece\r\n",
      "    Found existing installation: sentencepiece 0.1.96\r\n",
      "    Uninstalling sentencepiece-0.1.96:\r\n",
      "      Successfully uninstalled sentencepiece-0.1.96\r\n",
      "  Attempting uninstall: overrides\r\n",
      "    Found existing installation: overrides 6.1.0\r\n",
      "    Uninstalling overrides-6.1.0:\r\n",
      "      Successfully uninstalled overrides-6.1.0\r\n",
      "  Attempting uninstall: mpld3\r\n",
      "    Found existing installation: mpld3 0.5.7\r\n",
      "    Uninstalling mpld3-0.5.7:\r\n",
      "      Successfully uninstalled mpld3-0.5.7\r\n",
      "  Attempting uninstall: importlib-metadata\r\n",
      "    Found existing installation: importlib-metadata 4.11.4\r\n",
      "    Uninstalling importlib-metadata-4.11.4:\r\n",
      "      Successfully uninstalled importlib-metadata-4.11.4\r\n",
      "\u001b[31mERROR: pip's dependency resolver does not currently take into account all the packages that are installed. This behaviour is the source of the following dependency conflicts.\r\n",
      "markdown 3.3.7 requires importlib-metadata>=4.4; python_version < \"3.10\", but you have importlib-metadata 3.10.1 which is incompatible.\r\n",
      "ibis-framework 2.1.1 requires importlib-metadata<5,>=4; python_version < \"3.8\", but you have importlib-metadata 3.10.1 which is incompatible.\r\n",
      "gym 0.23.1 requires importlib-metadata>=4.10.0; python_version < \"3.10\", but you have importlib-metadata 3.10.1 which is incompatible.\r\n",
      "google-cloud-pubsublite 1.4.2 requires overrides<7.0.0,>=6.0.1, but you have overrides 3.1.0 which is incompatible.\u001b[0m\u001b[31m\r\n",
      "\u001b[0mSuccessfully installed bpemb-0.3.3 conllu-4.4.2 deprecated-1.2.13 flair-0.11.3 ftfy-6.1.1 gdown-4.4.0 importlib-metadata-3.10.1 konoha-4.6.5 langdetect-1.0.9 mpld3-0.3 overrides-3.1.0 pptree-3.1 segtok-1.5.11 sentencepiece-0.1.95 sqlitedict-2.0.0 wikipedia-api-0.5.4\r\n",
      "\u001b[33mWARNING: Running pip as the 'root' user can result in broken permissions and conflicting behaviour with the system package manager. It is recommended to use a virtual environment instead: https://pip.pypa.io/warnings/venv\u001b[0m\u001b[33m\r\n",
      "\u001b[0m"
     ]
    }
   ],
   "source": [
    "!pip install transformers\n",
    "!pip install flair"
   ]
  },
  {
   "cell_type": "code",
   "execution_count": 19,
   "id": "b71ac745",
   "metadata": {
    "execution": {
     "iopub.execute_input": "2022-06-03T14:29:48.442036Z",
     "iopub.status.busy": "2022-06-03T14:29:48.441566Z",
     "iopub.status.idle": "2022-06-03T14:31:43.178941Z",
     "shell.execute_reply": "2022-06-03T14:31:43.177925Z"
    },
    "papermill": {
     "duration": 114.779209,
     "end_time": "2022-06-03T14:31:43.181536",
     "exception": false,
     "start_time": "2022-06-03T14:29:48.402327",
     "status": "completed"
    },
    "tags": []
   },
   "outputs": [
    {
     "data": {
      "application/vnd.jupyter.widget-view+json": {
       "model_id": "6f29f8de548f45f591ac8f86ad0e8672",
       "version_major": 2,
       "version_minor": 0
      },
      "text/plain": [
       "Downloading:   0%|          | 0.00/2.24G [00:00<?, ?B/s]"
      ]
     },
     "metadata": {},
     "output_type": "display_data"
    },
    {
     "name": "stdout",
     "output_type": "stream",
     "text": [
      "2022-06-03 14:31:02,449 loading file /root/.flair/models/ner-english-ontonotes-large/2da6c2cdd76e59113033adf670340bfd820f0301ae2e39204d67ba2dc276cc28.ec1bdb304b6c66111532c3b1fc6e522460ae73f1901848a4d0362cdf9760edb1\n"
     ]
    },
    {
     "data": {
      "application/vnd.jupyter.widget-view+json": {
       "model_id": "ceaba5aace454781b9f6d9224e0bed24",
       "version_major": 2,
       "version_minor": 0
      },
      "text/plain": [
       "Downloading:   0%|          | 0.00/616 [00:00<?, ?B/s]"
      ]
     },
     "metadata": {},
     "output_type": "display_data"
    },
    {
     "data": {
      "application/vnd.jupyter.widget-view+json": {
       "model_id": "6b5704478fe644c29ce71d40c104fcc2",
       "version_major": 2,
       "version_minor": 0
      },
      "text/plain": [
       "Downloading:   0%|          | 0.00/4.83M [00:00<?, ?B/s]"
      ]
     },
     "metadata": {},
     "output_type": "display_data"
    },
    {
     "data": {
      "application/vnd.jupyter.widget-view+json": {
       "model_id": "a2142972354a4f1287a882fb1a40c5b5",
       "version_major": 2,
       "version_minor": 0
      },
      "text/plain": [
       "Downloading:   0%|          | 0.00/8.68M [00:00<?, ?B/s]"
      ]
     },
     "metadata": {},
     "output_type": "display_data"
    },
    {
     "name": "stdout",
     "output_type": "stream",
     "text": [
      "2022-06-03 14:31:22,600 SequenceTagger predicts: Dictionary with 76 tags: <unk>, O, B-CARDINAL, E-CARDINAL, S-PERSON, S-CARDINAL, S-PRODUCT, B-PRODUCT, I-PRODUCT, E-PRODUCT, B-WORK_OF_ART, I-WORK_OF_ART, E-WORK_OF_ART, B-PERSON, E-PERSON, S-GPE, B-DATE, I-DATE, E-DATE, S-ORDINAL, S-LANGUAGE, I-PERSON, S-EVENT, S-DATE, B-QUANTITY, E-QUANTITY, S-TIME, B-TIME, I-TIME, E-TIME, B-GPE, E-GPE, S-ORG, I-GPE, S-NORP, B-FAC, I-FAC, E-FAC, B-NORP, E-NORP, S-PERCENT, B-ORG, E-ORG, B-LANGUAGE, E-LANGUAGE, I-CARDINAL, I-ORG, S-WORK_OF_ART, I-QUANTITY, B-MONEY\n"
     ]
    }
   ],
   "source": [
    "from flair.data import Sentence\n",
    "from flair.models import SequenceTagger\n",
    "T2=[]\n",
    "D={}\n",
    "\n",
    "tagger = SequenceTagger.load(\"flair/ner-english-ontonotes-large\")\n",
    "\n",
    "for i in range(20):\n",
    "        sentencess =Sentence(text[i])\n",
    "        tagger.predict(sentencess)\n",
    "        for entity in sentencess.get_spans('ner'):\n",
    "                     T2.append(entity)\n",
    "                     if (entity.get_label(\"ner\").score > 0.98) & (entity.get_label(\"ner\").value != \"CARDINAL\") & (entity.get_label(\"ner\").value != \"LAW\")& (entity.get_label(\"ner\").value != \"QUANTITY\") & (entity.get_label(\"ner\").value != \"WORK_OF_ART\") & (entity.get_label(\"ner\").value != \"LAW\")& (entity.get_label(\"ner\").value != \"QUANTITY\") & (entity.get_label(\"ner\").value != \"EVENT\")  :\n",
    "                         D[entity.text]= entity.get_label(\"ner\").value"
   ]
  },
  {
   "cell_type": "code",
   "execution_count": 20,
   "id": "99499b55",
   "metadata": {
    "execution": {
     "iopub.execute_input": "2022-06-03T14:31:43.240220Z",
     "iopub.status.busy": "2022-06-03T14:31:43.239660Z",
     "iopub.status.idle": "2022-06-03T14:31:43.250365Z",
     "shell.execute_reply": "2022-06-03T14:31:43.249476Z"
    },
    "papermill": {
     "duration": 0.041617,
     "end_time": "2022-06-03T14:31:43.252196",
     "exception": false,
     "start_time": "2022-06-03T14:31:43.210579",
     "status": "completed"
    },
    "tags": []
   },
   "outputs": [
    {
     "data": {
      "text/plain": [
       "104"
      ]
     },
     "execution_count": 20,
     "metadata": {},
     "output_type": "execute_result"
    }
   ],
   "source": [
    "len(D)"
   ]
  },
  {
   "cell_type": "code",
   "execution_count": 21,
   "id": "e31360d9",
   "metadata": {
    "execution": {
     "iopub.execute_input": "2022-06-03T14:31:43.308150Z",
     "iopub.status.busy": "2022-06-03T14:31:43.307551Z",
     "iopub.status.idle": "2022-06-03T14:31:43.312462Z",
     "shell.execute_reply": "2022-06-03T14:31:43.311875Z"
    },
    "papermill": {
     "duration": 0.034954,
     "end_time": "2022-06-03T14:31:43.314327",
     "exception": false,
     "start_time": "2022-06-03T14:31:43.279373",
     "status": "completed"
    },
    "tags": []
   },
   "outputs": [],
   "source": [
    "ent=[]\n",
    "label=[]\n",
    "for i in D :\n",
    "    ent.append(i)\n",
    "    label.append(D[i])"
   ]
  },
  {
   "cell_type": "code",
   "execution_count": 22,
   "id": "5a0d2b8e",
   "metadata": {
    "execution": {
     "iopub.execute_input": "2022-06-03T14:31:43.370708Z",
     "iopub.status.busy": "2022-06-03T14:31:43.370092Z",
     "iopub.status.idle": "2022-06-03T14:31:43.375717Z",
     "shell.execute_reply": "2022-06-03T14:31:43.375104Z"
    },
    "papermill": {
     "duration": 0.035514,
     "end_time": "2022-06-03T14:31:43.377495",
     "exception": false,
     "start_time": "2022-06-03T14:31:43.341981",
     "status": "completed"
    },
    "tags": []
   },
   "outputs": [],
   "source": [
    "final1=pd.DataFrame({\"entities\":ent, \"label\":label})"
   ]
  },
  {
   "cell_type": "code",
   "execution_count": 23,
   "id": "c70c9674",
   "metadata": {
    "execution": {
     "iopub.execute_input": "2022-06-03T14:31:43.434456Z",
     "iopub.status.busy": "2022-06-03T14:31:43.433918Z",
     "iopub.status.idle": "2022-06-03T14:31:43.451621Z",
     "shell.execute_reply": "2022-06-03T14:31:43.450908Z"
    },
    "papermill": {
     "duration": 0.048293,
     "end_time": "2022-06-03T14:31:43.453642",
     "exception": false,
     "start_time": "2022-06-03T14:31:43.405349",
     "status": "completed"
    },
    "tags": []
   },
   "outputs": [],
   "source": [
    "P=[]\n",
    "OR=[]\n",
    "GP=[]\n",
    "Date=[]\n",
    "LOC=[]\n",
    "for i in range(len(D)):\n",
    "    if final1.label.loc[i]==\"PERSON\":\n",
    "        P.append(final1.entities.loc[i])\n",
    "    elif final1.label.loc[i]==\"ORG\":\n",
    "        OR.append(final1.entities.loc[i])\n",
    "    elif final1.label.loc[i]==\"GPE\":\n",
    "        GP.append(final1.entities.loc[i])\n",
    "    elif final1.label.loc[i]==\"DATE\":\n",
    "        Date.append(final1.entities.loc[i])\n",
    "    elif final1.label.loc[i]==\"LOC\":\n",
    "        LOC.append(final1.entities.loc[i])\n",
    "        "
   ]
  },
  {
   "cell_type": "code",
   "execution_count": 24,
   "id": "803d619c",
   "metadata": {
    "execution": {
     "iopub.execute_input": "2022-06-03T14:31:43.511836Z",
     "iopub.status.busy": "2022-06-03T14:31:43.511251Z",
     "iopub.status.idle": "2022-06-03T14:31:43.517035Z",
     "shell.execute_reply": "2022-06-03T14:31:43.516180Z"
    },
    "papermill": {
     "duration": 0.037369,
     "end_time": "2022-06-03T14:31:43.518744",
     "exception": false,
     "start_time": "2022-06-03T14:31:43.481375",
     "status": "completed"
    },
    "tags": []
   },
   "outputs": [
    {
     "data": {
      "text/plain": [
       "43"
      ]
     },
     "execution_count": 24,
     "metadata": {},
     "output_type": "execute_result"
    }
   ],
   "source": [
    "len(Date)"
   ]
  },
  {
   "cell_type": "code",
   "execution_count": 25,
   "id": "99b71494",
   "metadata": {
    "execution": {
     "iopub.execute_input": "2022-06-03T14:31:43.575003Z",
     "iopub.status.busy": "2022-06-03T14:31:43.574365Z",
     "iopub.status.idle": "2022-06-03T14:31:43.580744Z",
     "shell.execute_reply": "2022-06-03T14:31:43.579945Z"
    },
    "papermill": {
     "duration": 0.036342,
     "end_time": "2022-06-03T14:31:43.582518",
     "exception": false,
     "start_time": "2022-06-03T14:31:43.546176",
     "status": "completed"
    },
    "tags": []
   },
   "outputs": [
    {
     "data": {
      "text/plain": [
       "array(['16 day of October 1865', '16th day of Sept 1865',\n",
       "       '18th Sept 1865', '20th day of August 1865',\n",
       "       '22nd day of August 1865', '24 year', '26 Years',\n",
       "       '27th day of Novb 1865', '27th day of Novbr 1865',\n",
       "       '28 day of Sept 1865', '29th day of Sept 29 1865',\n",
       "       '29th day of September 1865', '3 day of Augt 1865',\n",
       "       '3 day of August 1865', '31 day of Aug 1865', '31 day of Oct 1865',\n",
       "       '31st day of Aug 1865', '31st day of August AD 1865', '39 year',\n",
       "       '3d day of February 1868', '48 year', '58 year', '58 year of age',\n",
       "       '6 day of Nov 1865', '61 year', '63 year',\n",
       "       '7th day of September 186', 'Aug 20 1865', 'Aug 20th 1865',\n",
       "       'Aug 31 1865', 'August 24 1865', 'August 29th 1865', 'July 22',\n",
       "       'Maj 47', 'Maj 47th', 'Maj 47th PM', 'May 29th 1865', 'May 4',\n",
       "       'May 47 PM', 'Sept 29 1865', 'Sept 29th 1865', 'Thirty nine',\n",
       "       'twenty eight year'], dtype='<U26')"
      ]
     },
     "execution_count": 25,
     "metadata": {},
     "output_type": "execute_result"
    }
   ],
   "source": [
    "np.unique(Date)"
   ]
  },
  {
   "cell_type": "code",
   "execution_count": 26,
   "id": "a9c5ed87",
   "metadata": {
    "execution": {
     "iopub.execute_input": "2022-06-03T14:31:43.639824Z",
     "iopub.status.busy": "2022-06-03T14:31:43.639229Z",
     "iopub.status.idle": "2022-06-03T14:31:43.645666Z",
     "shell.execute_reply": "2022-06-03T14:31:43.644766Z"
    },
    "papermill": {
     "duration": 0.037614,
     "end_time": "2022-06-03T14:31:43.647640",
     "exception": false,
     "start_time": "2022-06-03T14:31:43.610026",
     "status": "completed"
    },
    "tags": []
   },
   "outputs": [
    {
     "data": {
      "text/plain": [
       "array(['1474', '16 day of October 1865', '16th day', '1865', '1865 1865',\n",
       "       '1867', '20th day of August 1865', '22nd day of August 1865',\n",
       "       '27th day', '28 day', '29th day', '29th day of September 1865',\n",
       "       '3 day', '3 day of August 1865', '31 day', '31st day', '39 year',\n",
       "       '6 day', '63 year', '7th day of September', 'Age 24 year',\n",
       "       'August 24 1865', 'August 29th 1865', 'July 22', 'May 29th 1865',\n",
       "       'May 4', 'May 47 PM', 'Miss 31st day', 'No1984', 'Sept 29th 1865'],\n",
       "      dtype='<U26')"
      ]
     },
     "execution_count": 26,
     "metadata": {},
     "output_type": "execute_result"
    }
   ],
   "source": [
    "np.unique(DATE)"
   ]
  },
  {
   "cell_type": "markdown",
   "id": "095992bf",
   "metadata": {
    "papermill": {
     "duration": 0.027606,
     "end_time": "2022-06-03T14:31:43.703498",
     "exception": false,
     "start_time": "2022-06-03T14:31:43.675892",
     "status": "completed"
    },
    "tags": []
   },
   "source": [
    "> Huge difference !!\n"
   ]
  },
  {
   "cell_type": "code",
   "execution_count": 27,
   "id": "d206b81e",
   "metadata": {
    "execution": {
     "iopub.execute_input": "2022-06-03T14:31:43.761129Z",
     "iopub.status.busy": "2022-06-03T14:31:43.760777Z",
     "iopub.status.idle": "2022-06-03T14:31:43.765609Z",
     "shell.execute_reply": "2022-06-03T14:31:43.764981Z"
    },
    "papermill": {
     "duration": 0.036146,
     "end_time": "2022-06-03T14:31:43.767556",
     "exception": false,
     "start_time": "2022-06-03T14:31:43.731410",
     "status": "completed"
    },
    "tags": []
   },
   "outputs": [
    {
     "data": {
      "text/plain": [
       "40"
      ]
     },
     "execution_count": 27,
     "metadata": {},
     "output_type": "execute_result"
    }
   ],
   "source": [
    "len(P)"
   ]
  },
  {
   "cell_type": "code",
   "execution_count": 28,
   "id": "2d03117b",
   "metadata": {
    "execution": {
     "iopub.execute_input": "2022-06-03T14:31:43.824757Z",
     "iopub.status.busy": "2022-06-03T14:31:43.824307Z",
     "iopub.status.idle": "2022-06-03T14:31:43.829805Z",
     "shell.execute_reply": "2022-06-03T14:31:43.829153Z"
    },
    "papermill": {
     "duration": 0.036485,
     "end_time": "2022-06-03T14:31:43.831746",
     "exception": false,
     "start_time": "2022-06-03T14:31:43.795261",
     "status": "completed"
    },
    "tags": []
   },
   "outputs": [
    {
     "data": {
      "text/plain": [
       "array(['Amnesty Oath', 'Amnesty Oath Administered At', 'Andrew Johnson',\n",
       "       'Anne H Elliott', 'Bray Lieut', 'Brown', 'Captn',\n",
       "       'Captn Commanding', 'Characteristics', 'Charleston Sc',\n",
       "       'City Miss', 'Copy Levi Steuben', 'Frank Conner', 'Frank E Miller',\n",
       "       'Gibbs Henderson', 'Gry', 'Hazel', 'Hiram Smith', 'Hiserodt',\n",
       "       'Hu Kennedy', 'JF Steinmeyer Sworn', 'Jacob Schroder Sworn',\n",
       "       'James D Kendall Amnesty Oath Administered At Oacen Springs',\n",
       "       'Joseph Edings', 'Laborer', 'Pass Christian', 'Robert A',\n",
       "       'Thomas Andrew Oath of', 'Triplicate AMNESTY', 'Walhalla',\n",
       "       'Whaley', 'William Whaley Sworn', 'Woodville Wilkinson'],\n",
       "      dtype='<U58')"
      ]
     },
     "execution_count": 28,
     "metadata": {},
     "output_type": "execute_result"
    }
   ],
   "source": [
    "np.unique(Person)"
   ]
  },
  {
   "cell_type": "code",
   "execution_count": 29,
   "id": "6689d179",
   "metadata": {
    "execution": {
     "iopub.execute_input": "2022-06-03T14:31:43.890592Z",
     "iopub.status.busy": "2022-06-03T14:31:43.889898Z",
     "iopub.status.idle": "2022-06-03T14:31:43.895447Z",
     "shell.execute_reply": "2022-06-03T14:31:43.894838Z"
    },
    "papermill": {
     "duration": 0.036954,
     "end_time": "2022-06-03T14:31:43.897250",
     "exception": false,
     "start_time": "2022-06-03T14:31:43.860296",
     "status": "completed"
    },
    "tags": []
   },
   "outputs": [
    {
     "data": {
      "text/plain": [
       "['Anne H Elliott',\n",
       " 'Andrew Johnson',\n",
       " 'S Wilde Durson',\n",
       " 'I E C Whaley',\n",
       " 'E C Whaley',\n",
       " 'Levi Steuben',\n",
       " 'E',\n",
       " 'ANDREW JOHNSON',\n",
       " 'Levi Stuber Major',\n",
       " 'Hu Kennedy',\n",
       " 'JB Hiserodt',\n",
       " 'Whaley',\n",
       " 'William Whaley Sworn',\n",
       " 'Levi Stuber',\n",
       " 'I J F Steinmeyer',\n",
       " 'JF Steinmeyer',\n",
       " 'Joseph Edings',\n",
       " 'Frank Geise',\n",
       " 'Vicksburg',\n",
       " 'Jacob Schroder',\n",
       " 'Jacob Schroder Sworn',\n",
       " 'JW Baxter',\n",
       " 'J H Mathews',\n",
       " 'Frank E Miller',\n",
       " 'Bergevin',\n",
       " 'P H Joor',\n",
       " 'Frank Conner',\n",
       " 'Caroline Belitzer',\n",
       " 'caroline Belitzer',\n",
       " 'Hiram Smith',\n",
       " 'mark Sworn',\n",
       " 'Geo D Carpenter',\n",
       " 'Aiken Burnwell',\n",
       " 'James E Thuring',\n",
       " 'J E Thuring',\n",
       " 'Robert A Wilson',\n",
       " 'James D Kendall',\n",
       " 'Holwell',\n",
       " 'City',\n",
       " 'JH Mathews']"
      ]
     },
     "execution_count": 29,
     "metadata": {},
     "output_type": "execute_result"
    }
   ],
   "source": [
    "P"
   ]
  },
  {
   "cell_type": "markdown",
   "id": "8708d472",
   "metadata": {
    "papermill": {
     "duration": 0.02845,
     "end_time": "2022-06-03T14:31:43.954249",
     "exception": false,
     "start_time": "2022-06-03T14:31:43.925799",
     "status": "completed"
    },
    "tags": []
   },
   "source": [
    "**still ner-english-ontonotes-large works better than spacy**"
   ]
  },
  {
   "cell_type": "markdown",
   "id": "1ccc0f91",
   "metadata": {
    "papermill": {
     "duration": 0.028005,
     "end_time": "2022-06-03T14:31:44.010219",
     "exception": false,
     "start_time": "2022-06-03T14:31:43.982214",
     "status": "completed"
    },
    "tags": []
   },
   "source": [
    "****xlm-roberta-base-finetuned-panx-ner****\n",
    "for Person"
   ]
  },
  {
   "cell_type": "code",
   "execution_count": 30,
   "id": "cad0ec4c",
   "metadata": {
    "execution": {
     "iopub.execute_input": "2022-06-03T14:31:44.068143Z",
     "iopub.status.busy": "2022-06-03T14:31:44.067768Z",
     "iopub.status.idle": "2022-06-03T14:32:35.240304Z",
     "shell.execute_reply": "2022-06-03T14:32:35.239459Z"
    },
    "papermill": {
     "duration": 51.204659,
     "end_time": "2022-06-03T14:32:35.242966",
     "exception": false,
     "start_time": "2022-06-03T14:31:44.038307",
     "status": "completed"
    },
    "tags": []
   },
   "outputs": [
    {
     "data": {
      "application/vnd.jupyter.widget-view+json": {
       "model_id": "726aceb3b22a42cb886e35c2d9388095",
       "version_major": 2,
       "version_minor": 0
      },
      "text/plain": [
       "Downloading:   0%|          | 0.00/398 [00:00<?, ?B/s]"
      ]
     },
     "metadata": {},
     "output_type": "display_data"
    },
    {
     "data": {
      "application/vnd.jupyter.widget-view+json": {
       "model_id": "24bdbe8c0ba14756abf0edf6506d3156",
       "version_major": 2,
       "version_minor": 0
      },
      "text/plain": [
       "Downloading:   0%|          | 0.00/4.83M [00:00<?, ?B/s]"
      ]
     },
     "metadata": {},
     "output_type": "display_data"
    },
    {
     "data": {
      "application/vnd.jupyter.widget-view+json": {
       "model_id": "fc44efa42da04336bc67143d255e3443",
       "version_major": 2,
       "version_minor": 0
      },
      "text/plain": [
       "Downloading:   0%|          | 0.00/16.3M [00:00<?, ?B/s]"
      ]
     },
     "metadata": {},
     "output_type": "display_data"
    },
    {
     "data": {
      "application/vnd.jupyter.widget-view+json": {
       "model_id": "1f5057e5180e45098be42183d600971b",
       "version_major": 2,
       "version_minor": 0
      },
      "text/plain": [
       "Downloading:   0%|          | 0.00/239 [00:00<?, ?B/s]"
      ]
     },
     "metadata": {},
     "output_type": "display_data"
    },
    {
     "data": {
      "application/vnd.jupyter.widget-view+json": {
       "model_id": "18083beb6c574b1c96c56afd57c1b43c",
       "version_major": 2,
       "version_minor": 0
      },
      "text/plain": [
       "Downloading:   0%|          | 0.00/964 [00:00<?, ?B/s]"
      ]
     },
     "metadata": {},
     "output_type": "display_data"
    },
    {
     "data": {
      "application/vnd.jupyter.widget-view+json": {
       "model_id": "ab4dfc87b3bd40a4bedd21ef70c4bf13",
       "version_major": 2,
       "version_minor": 0
      },
      "text/plain": [
       "Downloading:   0%|          | 0.00/1.03G [00:00<?, ?B/s]"
      ]
     },
     "metadata": {},
     "output_type": "display_data"
    }
   ],
   "source": [
    "from transformers import AutoTokenizer, AutoModelForTokenClassification\n",
    "from transformers import pipeline\n",
    "\n",
    "tokenizer = AutoTokenizer.from_pretrained(\"gunghio/xlm-roberta-base-finetuned-panx-ner\")\n",
    "model = AutoModelForTokenClassification.from_pretrained(\"gunghio/xlm-roberta-base-finetuned-panx-ner\")\n",
    "\n",
    "nlp1 = pipeline(\"ner\", model=model, tokenizer=tokenizer, aggregation_strategy=\"first\")"
   ]
  },
  {
   "cell_type": "code",
   "execution_count": 31,
   "id": "dc857415",
   "metadata": {
    "execution": {
     "iopub.execute_input": "2022-06-03T14:32:35.305301Z",
     "iopub.status.busy": "2022-06-03T14:32:35.304422Z",
     "iopub.status.idle": "2022-06-03T14:32:41.163546Z",
     "shell.execute_reply": "2022-06-03T14:32:41.162753Z"
    },
    "papermill": {
     "duration": 5.892495,
     "end_time": "2022-06-03T14:32:41.165750",
     "exception": false,
     "start_time": "2022-06-03T14:32:35.273255",
     "status": "completed"
    },
    "tags": []
   },
   "outputs": [],
   "source": [
    "T7=[]\n",
    "example = text\n",
    "\n",
    "for i in range(20):\n",
    "        ner_results = nlp1(example[i])\n",
    "        T7.append(ner_results)"
   ]
  },
  {
   "cell_type": "code",
   "execution_count": 32,
   "id": "adb76de8",
   "metadata": {
    "execution": {
     "iopub.execute_input": "2022-06-03T14:32:41.226959Z",
     "iopub.status.busy": "2022-06-03T14:32:41.226328Z",
     "iopub.status.idle": "2022-06-03T14:32:41.232919Z",
     "shell.execute_reply": "2022-06-03T14:32:41.231950Z"
    },
    "papermill": {
     "duration": 0.03968,
     "end_time": "2022-06-03T14:32:41.234804",
     "exception": false,
     "start_time": "2022-06-03T14:32:41.195124",
     "status": "completed"
    },
    "tags": []
   },
   "outputs": [
    {
     "data": {
      "text/plain": [
       "{'entity_group': 'ORG',\n",
       " 'score': 0.86250067,\n",
       " 'word': 'AmnestyProclamation',\n",
       " 'start': 45,\n",
       " 'end': 65}"
      ]
     },
     "execution_count": 32,
     "metadata": {},
     "output_type": "execute_result"
    }
   ],
   "source": [
    "T7[1][1]"
   ]
  },
  {
   "cell_type": "code",
   "execution_count": 33,
   "id": "2df06792",
   "metadata": {
    "execution": {
     "iopub.execute_input": "2022-06-03T14:32:41.296255Z",
     "iopub.status.busy": "2022-06-03T14:32:41.295653Z",
     "iopub.status.idle": "2022-06-03T14:32:41.311184Z",
     "shell.execute_reply": "2022-06-03T14:32:41.310189Z"
    },
    "papermill": {
     "duration": 0.049131,
     "end_time": "2022-06-03T14:32:41.313386",
     "exception": false,
     "start_time": "2022-06-03T14:32:41.264255",
     "status": "completed"
    },
    "tags": []
   },
   "outputs": [],
   "source": [
    "Per2=[]\n",
    "ORg2=[]\n",
    "GPe2=[]\n",
    "for i in range(20):\n",
    "    for j in range(len(T7[i])):\n",
    "        if ( T7[i][j][\"entity_group\"]=='ORG') & ((T7[i][j][\"score\"]) > 0.90):\n",
    "            ORg2.append(T7[i][j][\"word\"])\n",
    "        elif ( T7[i][j][\"entity_group\"]=='PER')  & ((T7[i][j][\"score\"]) > 0.85):\n",
    "            Per2.append(T7[i][j][\"word\"])\n",
    "        elif ( T7[i][j][\"entity_group\"]=='LOC') & ((T7[i][j][\"score\"]) > 0.84) :\n",
    "            GPe2.append(T7[i][j][\"word\"])\n",
    "GPe2=np.array(GPe2)\n",
    "ORg2=np.array(ORg2)\n",
    "Per2=np.array(Per2)\n",
    "\n"
   ]
  },
  {
   "cell_type": "code",
   "execution_count": 34,
   "id": "d0023e3a",
   "metadata": {
    "execution": {
     "iopub.execute_input": "2022-06-03T14:32:41.375540Z",
     "iopub.status.busy": "2022-06-03T14:32:41.374979Z",
     "iopub.status.idle": "2022-06-03T14:32:41.381354Z",
     "shell.execute_reply": "2022-06-03T14:32:41.380467Z"
    },
    "papermill": {
     "duration": 0.039808,
     "end_time": "2022-06-03T14:32:41.383233",
     "exception": false,
     "start_time": "2022-06-03T14:32:41.343425",
     "status": "completed"
    },
    "tags": []
   },
   "outputs": [
    {
     "data": {
      "text/plain": [
       "array(['ANDREWJOHNSON', 'AndrewJohnson', 'AnneHElliott',\n",
       "       'CarolineBelitzer', 'FrankConner', 'HiramSmith', 'JFSteinmeyer',\n",
       "       'JacobSchroder', 'LeviSteuben', 'RobertAWilson', 'WildeDurson'],\n",
       "      dtype='<U16')"
      ]
     },
     "execution_count": 34,
     "metadata": {},
     "output_type": "execute_result"
    }
   ],
   "source": [
    "np.unique(Per2)"
   ]
  },
  {
   "cell_type": "code",
   "execution_count": 35,
   "id": "210bc4a3",
   "metadata": {
    "execution": {
     "iopub.execute_input": "2022-06-03T14:32:41.445290Z",
     "iopub.status.busy": "2022-06-03T14:32:41.444703Z",
     "iopub.status.idle": "2022-06-03T14:32:41.451123Z",
     "shell.execute_reply": "2022-06-03T14:32:41.450228Z"
    },
    "papermill": {
     "duration": 0.039875,
     "end_time": "2022-06-03T14:32:41.452935",
     "exception": false,
     "start_time": "2022-06-03T14:32:41.413060",
     "status": "completed"
    },
    "tags": []
   },
   "outputs": [
    {
     "data": {
      "text/plain": [
       "array(['Amnesty Oath', 'Amnesty Oath Administered At', 'Andrew Johnson',\n",
       "       'Anne H Elliott', 'Bray Lieut', 'Brown', 'Captn',\n",
       "       'Captn Commanding', 'Characteristics', 'Charleston Sc',\n",
       "       'City Miss', 'Copy Levi Steuben', 'Frank Conner', 'Frank E Miller',\n",
       "       'Gibbs Henderson', 'Gry', 'Hazel', 'Hiram Smith', 'Hiserodt',\n",
       "       'Hu Kennedy', 'JF Steinmeyer Sworn', 'Jacob Schroder Sworn',\n",
       "       'James D Kendall Amnesty Oath Administered At Oacen Springs',\n",
       "       'Joseph Edings', 'Laborer', 'Pass Christian', 'Robert A',\n",
       "       'Thomas Andrew Oath of', 'Triplicate AMNESTY', 'Walhalla',\n",
       "       'Whaley', 'William Whaley Sworn', 'Woodville Wilkinson'],\n",
       "      dtype='<U58')"
      ]
     },
     "execution_count": 35,
     "metadata": {},
     "output_type": "execute_result"
    }
   ],
   "source": [
    "np.unique(Person)"
   ]
  },
  {
   "cell_type": "code",
   "execution_count": 36,
   "id": "d08ee164",
   "metadata": {
    "execution": {
     "iopub.execute_input": "2022-06-03T14:32:41.514821Z",
     "iopub.status.busy": "2022-06-03T14:32:41.514385Z",
     "iopub.status.idle": "2022-06-03T14:32:41.521088Z",
     "shell.execute_reply": "2022-06-03T14:32:41.520246Z"
    },
    "papermill": {
     "duration": 0.040179,
     "end_time": "2022-06-03T14:32:41.522938",
     "exception": false,
     "start_time": "2022-06-03T14:32:41.482759",
     "status": "completed"
    },
    "tags": []
   },
   "outputs": [
    {
     "data": {
      "text/plain": [
       "array(['AikenSC', 'AlmightyGod', 'AmnestyOath', 'AmnestyProclamation',\n",
       "       'CharlestonSC',\n",
       "       'ConstitutionofUnitedStatesUnionofStatesthereunder', 'IWmWhaley',\n",
       "       'LawsProclamationsmadeexistingrebellionreferenceemancipationofslave',\n",
       "       'Oath', 'OrangeburgSC',\n",
       "       'UNITEDSTATESFORCESNo1282PROVOSTMARSHALSOFFICE', 'VicksburgMiss',\n",
       "       'WAFleitasAmnestyOath'], dtype='<U66')"
      ]
     },
     "execution_count": 36,
     "metadata": {},
     "output_type": "execute_result"
    }
   ],
   "source": [
    "np.unique(ORg2)"
   ]
  },
  {
   "cell_type": "markdown",
   "id": "fa518cf1",
   "metadata": {
    "papermill": {
     "duration": 0.031771,
     "end_time": "2022-06-03T14:32:41.584836",
     "exception": false,
     "start_time": "2022-06-03T14:32:41.553065",
     "status": "completed"
    },
    "tags": []
   },
   "source": [
    "****"
   ]
  },
  {
   "cell_type": "markdown",
   "id": "7718d09c",
   "metadata": {
    "papermill": {
     "duration": 0.029706,
     "end_time": "2022-06-03T14:32:41.644611",
     "exception": false,
     "start_time": "2022-06-03T14:32:41.614905",
     "status": "completed"
    },
    "tags": []
   },
   "source": [
    "# best result until now"
   ]
  },
  {
   "cell_type": "markdown",
   "id": "1bdde2f9",
   "metadata": {
    "papermill": {
     "duration": 0.029699,
     "end_time": "2022-06-03T14:32:41.704908",
     "exception": false,
     "start_time": "2022-06-03T14:32:41.675209",
     "status": "completed"
    },
    "tags": []
   },
   "source": [
    "***Person***"
   ]
  },
  {
   "cell_type": "code",
   "execution_count": 37,
   "id": "16686111",
   "metadata": {
    "execution": {
     "iopub.execute_input": "2022-06-03T14:32:41.766607Z",
     "iopub.status.busy": "2022-06-03T14:32:41.766232Z",
     "iopub.status.idle": "2022-06-03T14:32:41.772969Z",
     "shell.execute_reply": "2022-06-03T14:32:41.772098Z"
    },
    "papermill": {
     "duration": 0.040067,
     "end_time": "2022-06-03T14:32:41.775093",
     "exception": false,
     "start_time": "2022-06-03T14:32:41.735026",
     "status": "completed"
    },
    "tags": []
   },
   "outputs": [
    {
     "data": {
      "text/plain": [
       "array(['ANDREWJOHNSON', 'AndrewJohnson', 'AnneHElliott',\n",
       "       'CarolineBelitzer', 'FrankConner', 'HiramSmith', 'JFSteinmeyer',\n",
       "       'JacobSchroder', 'LeviSteuben', 'RobertAWilson', 'WildeDurson'],\n",
       "      dtype='<U16')"
      ]
     },
     "execution_count": 37,
     "metadata": {},
     "output_type": "execute_result"
    }
   ],
   "source": [
    "np.unique(Per2)"
   ]
  },
  {
   "cell_type": "code",
   "execution_count": 38,
   "id": "db87ce93",
   "metadata": {
    "execution": {
     "iopub.execute_input": "2022-06-03T14:32:41.837085Z",
     "iopub.status.busy": "2022-06-03T14:32:41.836642Z",
     "iopub.status.idle": "2022-06-03T14:32:41.842885Z",
     "shell.execute_reply": "2022-06-03T14:32:41.842222Z"
    },
    "papermill": {
     "duration": 0.039306,
     "end_time": "2022-06-03T14:32:41.844624",
     "exception": false,
     "start_time": "2022-06-03T14:32:41.805318",
     "status": "completed"
    },
    "tags": []
   },
   "outputs": [
    {
     "data": {
      "text/plain": [
       "array(['ANDREW JOHNSON', 'Aiken Burnwell', 'Andrew Johnson',\n",
       "       'Anne H Elliott', 'Bergevin', 'Caroline Belitzer', 'City', 'E',\n",
       "       'E C Whaley', 'Frank Conner', 'Frank E Miller', 'Frank Geise',\n",
       "       'Geo D Carpenter', 'Hiram Smith', 'Holwell', 'Hu Kennedy',\n",
       "       'I E C Whaley', 'I J F Steinmeyer', 'J E Thuring', 'J H Mathews',\n",
       "       'JB Hiserodt', 'JF Steinmeyer', 'JH Mathews', 'JW Baxter',\n",
       "       'Jacob Schroder', 'Jacob Schroder Sworn', 'James D Kendall',\n",
       "       'James E Thuring', 'Joseph Edings', 'Levi Steuben', 'Levi Stuber',\n",
       "       'Levi Stuber Major', 'P H Joor', 'Robert A Wilson',\n",
       "       'S Wilde Durson', 'Vicksburg', 'Whaley', 'William Whaley Sworn',\n",
       "       'caroline Belitzer', 'mark Sworn'], dtype='<U20')"
      ]
     },
     "execution_count": 38,
     "metadata": {},
     "output_type": "execute_result"
    }
   ],
   "source": [
    "np.unique(P)"
   ]
  },
  {
   "cell_type": "markdown",
   "id": "64118f64",
   "metadata": {
    "papermill": {
     "duration": 0.029993,
     "end_time": "2022-06-03T14:32:41.904984",
     "exception": false,
     "start_time": "2022-06-03T14:32:41.874991",
     "status": "completed"
    },
    "tags": []
   },
   "source": [
    "****"
   ]
  },
  {
   "cell_type": "markdown",
   "id": "c1608cd7",
   "metadata": {
    "papermill": {
     "duration": 0.030244,
     "end_time": "2022-06-03T14:32:41.966326",
     "exception": false,
     "start_time": "2022-06-03T14:32:41.936082",
     "status": "completed"
    },
    "tags": []
   },
   "source": [
    "***Organization***"
   ]
  },
  {
   "cell_type": "code",
   "execution_count": 39,
   "id": "ef6857e2",
   "metadata": {
    "execution": {
     "iopub.execute_input": "2022-06-03T14:32:42.029533Z",
     "iopub.status.busy": "2022-06-03T14:32:42.028931Z",
     "iopub.status.idle": "2022-06-03T14:32:42.034497Z",
     "shell.execute_reply": "2022-06-03T14:32:42.033641Z"
    },
    "papermill": {
     "duration": 0.039304,
     "end_time": "2022-06-03T14:32:42.036421",
     "exception": false,
     "start_time": "2022-06-03T14:32:41.997117",
     "status": "completed"
    },
    "tags": []
   },
   "outputs": [
    {
     "data": {
      "text/plain": [
       "array(['AikenSC', 'AlmightyGod', 'AmnestyOath', 'AmnestyProclamation',\n",
       "       'CharlestonSC',\n",
       "       'ConstitutionofUnitedStatesUnionofStatesthereunder', 'IWmWhaley',\n",
       "       'LawsProclamationsmadeexistingrebellionreferenceemancipationofslave',\n",
       "       'Oath', 'OrangeburgSC',\n",
       "       'UNITEDSTATESFORCESNo1282PROVOSTMARSHALSOFFICE', 'VicksburgMiss',\n",
       "       'WAFleitasAmnestyOath'], dtype='<U66')"
      ]
     },
     "execution_count": 39,
     "metadata": {},
     "output_type": "execute_result"
    }
   ],
   "source": [
    "np.unique(ORg2)"
   ]
  },
  {
   "cell_type": "code",
   "execution_count": 40,
   "id": "61a036fe",
   "metadata": {
    "execution": {
     "iopub.execute_input": "2022-06-03T14:32:42.099799Z",
     "iopub.status.busy": "2022-06-03T14:32:42.099181Z",
     "iopub.status.idle": "2022-06-03T14:32:42.104666Z",
     "shell.execute_reply": "2022-06-03T14:32:42.103780Z"
    },
    "papermill": {
     "duration": 0.039194,
     "end_time": "2022-06-03T14:32:42.106543",
     "exception": false,
     "start_time": "2022-06-03T14:32:42.067349",
     "status": "completed"
    },
    "tags": []
   },
   "outputs": [
    {
     "data": {
      "text/plain": [
       "array(['Amnesty', 'Harrison Co', 'UNITED STATES FORCES', 'USCI',\n",
       "       'Union of States', 'Walhalla'], dtype='<U20')"
      ]
     },
     "execution_count": 40,
     "metadata": {},
     "output_type": "execute_result"
    }
   ],
   "source": [
    "np.unique(OR)"
   ]
  },
  {
   "cell_type": "code",
   "execution_count": 41,
   "id": "f74ccbeb",
   "metadata": {
    "execution": {
     "iopub.execute_input": "2022-06-03T14:32:42.170957Z",
     "iopub.status.busy": "2022-06-03T14:32:42.170521Z",
     "iopub.status.idle": "2022-06-03T14:32:42.176379Z",
     "shell.execute_reply": "2022-06-03T14:32:42.175740Z"
    },
    "papermill": {
     "duration": 0.041087,
     "end_time": "2022-06-03T14:32:42.178127",
     "exception": false,
     "start_time": "2022-06-03T14:32:42.137040",
     "status": "completed"
    },
    "tags": []
   },
   "outputs": [
    {
     "data": {
      "text/plain": [
       "array(['Charleston', 'Charleston S C', 'Charleston SC',\n",
       "       'Mississippi City', 'Orangeburg', 'So Carolina', 'South Carolina',\n",
       "       'UNITED STATES OF', 'US', 'United State of America',\n",
       "       'United States', 'United States of America'], dtype='<U24')"
      ]
     },
     "execution_count": 41,
     "metadata": {},
     "output_type": "execute_result"
    }
   ],
   "source": [
    "np.unique(GP)"
   ]
  },
  {
   "cell_type": "markdown",
   "id": "32d247d5",
   "metadata": {
    "papermill": {
     "duration": 0.030341,
     "end_time": "2022-06-03T14:32:42.239227",
     "exception": false,
     "start_time": "2022-06-03T14:32:42.208886",
     "status": "completed"
    },
    "tags": []
   },
   "source": [
    "****"
   ]
  },
  {
   "cell_type": "markdown",
   "id": "73cb4d53",
   "metadata": {
    "papermill": {
     "duration": 0.030815,
     "end_time": "2022-06-03T14:32:42.300610",
     "exception": false,
     "start_time": "2022-06-03T14:32:42.269795",
     "status": "completed"
    },
    "tags": []
   },
   "source": [
    "***GPE and location***"
   ]
  },
  {
   "cell_type": "code",
   "execution_count": 42,
   "id": "38211186",
   "metadata": {
    "execution": {
     "iopub.execute_input": "2022-06-03T14:32:42.364600Z",
     "iopub.status.busy": "2022-06-03T14:32:42.363603Z",
     "iopub.status.idle": "2022-06-03T14:32:42.369635Z",
     "shell.execute_reply": "2022-06-03T14:32:42.369014Z"
    },
    "papermill": {
     "duration": 0.040036,
     "end_time": "2022-06-03T14:32:42.371619",
     "exception": false,
     "start_time": "2022-06-03T14:32:42.331583",
     "status": "completed"
    },
    "tags": []
   },
   "outputs": [
    {
     "data": {
      "text/plain": [
       "array(['Charleston', 'Gainsville', 'Mississippi', 'Mississippi City',\n",
       "       'NC', 'New Orleans', 'South Carolina', 'States', 'US',\n",
       "       'United States', 'United States of America', 'Vicksburg'],\n",
       "      dtype='<U24')"
      ]
     },
     "execution_count": 42,
     "metadata": {},
     "output_type": "execute_result"
    }
   ],
   "source": [
    "np.unique(GPE)"
   ]
  },
  {
   "cell_type": "markdown",
   "id": "4ce95c1f",
   "metadata": {
    "papermill": {
     "duration": 0.030664,
     "end_time": "2022-06-03T14:32:42.433096",
     "exception": false,
     "start_time": "2022-06-03T14:32:42.402432",
     "status": "completed"
    },
    "tags": []
   },
   "source": [
    "****"
   ]
  },
  {
   "cell_type": "markdown",
   "id": "5c45447c",
   "metadata": {
    "papermill": {
     "duration": 0.030535,
     "end_time": "2022-06-03T14:32:42.494365",
     "exception": false,
     "start_time": "2022-06-03T14:32:42.463830",
     "status": "completed"
    },
    "tags": []
   },
   "source": [
    "***Date***"
   ]
  },
  {
   "cell_type": "code",
   "execution_count": 43,
   "id": "89ee4850",
   "metadata": {
    "execution": {
     "iopub.execute_input": "2022-06-03T14:32:42.558248Z",
     "iopub.status.busy": "2022-06-03T14:32:42.557803Z",
     "iopub.status.idle": "2022-06-03T14:32:42.564024Z",
     "shell.execute_reply": "2022-06-03T14:32:42.563304Z"
    },
    "papermill": {
     "duration": 0.040329,
     "end_time": "2022-06-03T14:32:42.565895",
     "exception": false,
     "start_time": "2022-06-03T14:32:42.525566",
     "status": "completed"
    },
    "tags": []
   },
   "outputs": [
    {
     "data": {
      "text/plain": [
       "array(['16 day of October 1865', '16th day of Sept 1865',\n",
       "       '18th Sept 1865', '20th day of August 1865',\n",
       "       '22nd day of August 1865', '24 year', '26 Years',\n",
       "       '27th day of Novb 1865', '27th day of Novbr 1865',\n",
       "       '28 day of Sept 1865', '29th day of Sept 29 1865',\n",
       "       '29th day of September 1865', '3 day of Augt 1865',\n",
       "       '3 day of August 1865', '31 day of Aug 1865', '31 day of Oct 1865',\n",
       "       '31st day of Aug 1865', '31st day of August AD 1865', '39 year',\n",
       "       '3d day of February 1868', '48 year', '58 year', '58 year of age',\n",
       "       '6 day of Nov 1865', '61 year', '63 year',\n",
       "       '7th day of September 186', 'Aug 20 1865', 'Aug 20th 1865',\n",
       "       'Aug 31 1865', 'August 24 1865', 'August 29th 1865', 'July 22',\n",
       "       'Maj 47', 'Maj 47th', 'Maj 47th PM', 'May 29th 1865', 'May 4',\n",
       "       'May 47 PM', 'Sept 29 1865', 'Sept 29th 1865', 'Thirty nine',\n",
       "       'twenty eight year'], dtype='<U26')"
      ]
     },
     "execution_count": 43,
     "metadata": {},
     "output_type": "execute_result"
    }
   ],
   "source": [
    "np.unique(Date)"
   ]
  },
  {
   "cell_type": "markdown",
   "id": "bb8a2bfb",
   "metadata": {
    "papermill": {
     "duration": 0.041706,
     "end_time": "2022-06-03T14:32:42.642839",
     "exception": false,
     "start_time": "2022-06-03T14:32:42.601133",
     "status": "completed"
    },
    "tags": []
   },
   "source": [
    "****"
   ]
  },
  {
   "cell_type": "markdown",
   "id": "f0902f31",
   "metadata": {
    "papermill": {
     "duration": 0.030786,
     "end_time": "2022-06-03T14:32:42.712374",
     "exception": false,
     "start_time": "2022-06-03T14:32:42.681588",
     "status": "completed"
    },
    "tags": []
   },
   "source": [
    "****"
   ]
  },
  {
   "cell_type": "markdown",
   "id": "86804f18",
   "metadata": {
    "papermill": {
     "duration": 0.030705,
     "end_time": "2022-06-03T14:32:42.774132",
     "exception": false,
     "start_time": "2022-06-03T14:32:42.743427",
     "status": "completed"
    },
    "tags": []
   },
   "source": [
    "**pattern**"
   ]
  },
  {
   "cell_type": "markdown",
   "id": "aa36dcc9",
   "metadata": {
    "papermill": {
     "duration": 0.030757,
     "end_time": "2022-06-03T14:32:42.835899",
     "exception": false,
     "start_time": "2022-06-03T14:32:42.805142",
     "status": "completed"
    },
    "tags": []
   },
   "source": [
    "* num +... +Capital_letter+... + num\n",
    "* Cap_letter + num + num"
   ]
  },
  {
   "cell_type": "code",
   "execution_count": 44,
   "id": "5e21f8f2",
   "metadata": {
    "execution": {
     "iopub.execute_input": "2022-06-03T14:32:42.899627Z",
     "iopub.status.busy": "2022-06-03T14:32:42.898985Z",
     "iopub.status.idle": "2022-06-03T14:32:42.905330Z",
     "shell.execute_reply": "2022-06-03T14:32:42.904627Z"
    },
    "papermill": {
     "duration": 0.040586,
     "end_time": "2022-06-03T14:32:42.907253",
     "exception": false,
     "start_time": "2022-06-03T14:32:42.866667",
     "status": "completed"
    },
    "tags": []
   },
   "outputs": [
    {
     "data": {
      "text/plain": [
       "array(['16 day of October 1865', '16th day of Sept 1865',\n",
       "       '18th Sept 1865', '20th day of August 1865',\n",
       "       '22nd day of August 1865', '24 year', '26 Years',\n",
       "       '27th day of Novb 1865', '27th day of Novbr 1865',\n",
       "       '28 day of Sept 1865', '29th day of Sept 29 1865',\n",
       "       '29th day of September 1865', '3 day of Augt 1865',\n",
       "       '3 day of August 1865', '31 day of Aug 1865', '31 day of Oct 1865',\n",
       "       '31st day of Aug 1865', '31st day of August AD 1865', '39 year',\n",
       "       '3d day of February 1868', '48 year', '58 year', '58 year of age',\n",
       "       '6 day of Nov 1865', '61 year', '63 year',\n",
       "       '7th day of September 186', 'Aug 20 1865', 'Aug 20th 1865',\n",
       "       'Aug 31 1865', 'August 24 1865', 'August 29th 1865', 'July 22',\n",
       "       'Maj 47', 'Maj 47th', 'Maj 47th PM', 'May 29th 1865', 'May 4',\n",
       "       'May 47 PM', 'Sept 29 1865', 'Sept 29th 1865', 'Thirty nine',\n",
       "       'twenty eight year'], dtype='<U26')"
      ]
     },
     "execution_count": 44,
     "metadata": {},
     "output_type": "execute_result"
    }
   ],
   "source": [
    "np.unique(Date)"
   ]
  },
  {
   "cell_type": "code",
   "execution_count": 45,
   "id": "1ec5af75",
   "metadata": {
    "execution": {
     "iopub.execute_input": "2022-06-03T14:32:42.972480Z",
     "iopub.status.busy": "2022-06-03T14:32:42.971811Z",
     "iopub.status.idle": "2022-06-03T14:32:42.977388Z",
     "shell.execute_reply": "2022-06-03T14:32:42.976691Z"
    },
    "papermill": {
     "duration": 0.040363,
     "end_time": "2022-06-03T14:32:42.979230",
     "exception": false,
     "start_time": "2022-06-03T14:32:42.938867",
     "status": "completed"
    },
    "tags": []
   },
   "outputs": [
    {
     "data": {
      "text/plain": [
       "43"
      ]
     },
     "execution_count": 45,
     "metadata": {},
     "output_type": "execute_result"
    }
   ],
   "source": [
    "len(Date)"
   ]
  },
  {
   "cell_type": "code",
   "execution_count": 46,
   "id": "c5de93cf",
   "metadata": {
    "execution": {
     "iopub.execute_input": "2022-06-03T14:32:43.043855Z",
     "iopub.status.busy": "2022-06-03T14:32:43.043158Z",
     "iopub.status.idle": "2022-06-03T14:32:43.048359Z",
     "shell.execute_reply": "2022-06-03T14:32:43.047599Z"
    },
    "papermill": {
     "duration": 0.039495,
     "end_time": "2022-06-03T14:32:43.050212",
     "exception": false,
     "start_time": "2022-06-03T14:32:43.010717",
     "status": "completed"
    },
    "tags": []
   },
   "outputs": [],
   "source": [
    "import regex as re\n",
    "Pattern1=re.compile(r'^\\d\\.*.*\\d\\d$')\n",
    "Pattern2=re.compile(r'^[A-Z]\\.*.*\\d \\.*.*\\d\\d$')"
   ]
  },
  {
   "cell_type": "code",
   "execution_count": 47,
   "id": "90fbce76",
   "metadata": {
    "execution": {
     "iopub.execute_input": "2022-06-03T14:32:43.116072Z",
     "iopub.status.busy": "2022-06-03T14:32:43.115389Z",
     "iopub.status.idle": "2022-06-03T14:32:43.120809Z",
     "shell.execute_reply": "2022-06-03T14:32:43.120133Z"
    },
    "papermill": {
     "duration": 0.040778,
     "end_time": "2022-06-03T14:32:43.122743",
     "exception": false,
     "start_time": "2022-06-03T14:32:43.081965",
     "status": "completed"
    },
    "tags": []
   },
   "outputs": [],
   "source": [
    "M=[]\n",
    "for i in Date:\n",
    "        date=re.search(r'^\\d\\.*.*\\d\\d$' ,i)\n",
    "        date2=re.search(r'^[A-Z]\\.*.*\\d \\.*.*\\d\\d$' ,i)\n",
    "        M.append(date)\n",
    "        M.append(date2)\n",
    "        "
   ]
  },
  {
   "cell_type": "code",
   "execution_count": 48,
   "id": "ac0dc487",
   "metadata": {
    "execution": {
     "iopub.execute_input": "2022-06-03T14:32:43.188132Z",
     "iopub.status.busy": "2022-06-03T14:32:43.187480Z",
     "iopub.status.idle": "2022-06-03T14:32:43.192165Z",
     "shell.execute_reply": "2022-06-03T14:32:43.191515Z"
    },
    "papermill": {
     "duration": 0.039858,
     "end_time": "2022-06-03T14:32:43.193915",
     "exception": false,
     "start_time": "2022-06-03T14:32:43.154057",
     "status": "completed"
    },
    "tags": []
   },
   "outputs": [],
   "source": [
    "F=[]\n",
    "for i in M:\n",
    "    if i!=None:\n",
    "        F.append(i.group())"
   ]
  },
  {
   "cell_type": "code",
   "execution_count": 49,
   "id": "b9ebcc40",
   "metadata": {
    "execution": {
     "iopub.execute_input": "2022-06-03T14:32:43.259746Z",
     "iopub.status.busy": "2022-06-03T14:32:43.259087Z",
     "iopub.status.idle": "2022-06-03T14:32:43.264581Z",
     "shell.execute_reply": "2022-06-03T14:32:43.263734Z"
    },
    "papermill": {
     "duration": 0.041051,
     "end_time": "2022-06-03T14:32:43.266339",
     "exception": false,
     "start_time": "2022-06-03T14:32:43.225288",
     "status": "completed"
    },
    "tags": []
   },
   "outputs": [
    {
     "data": {
      "text/plain": [
       "['27th day of Novb 1865',\n",
       " '27th day of Novbr 1865',\n",
       " '28 day of Sept 1865',\n",
       " '31 day of Oct 1865',\n",
       " '31st day of August AD 1865',\n",
       " 'August 24 1865',\n",
       " '3 day of August 1865',\n",
       " '3 day of Augt 1865',\n",
       " '16th day of Sept 1865',\n",
       " '16 day of October 1865',\n",
       " '6 day of Nov 1865',\n",
       " 'Sept 29 1865',\n",
       " '29th day of September 1865',\n",
       " '29th day of Sept 29 1865',\n",
       " '3d day of February 1868',\n",
       " '7th day of September 186',\n",
       " 'Aug 20 1865',\n",
       " '20th day of August 1865',\n",
       " '22nd day of August 1865',\n",
       " '18th Sept 1865',\n",
       " 'Aug 31 1865',\n",
       " '31st day of Aug 1865',\n",
       " '31 day of Aug 1865']"
      ]
     },
     "execution_count": 49,
     "metadata": {},
     "output_type": "execute_result"
    }
   ],
   "source": [
    "F"
   ]
  },
  {
   "cell_type": "markdown",
   "id": "49c15ead",
   "metadata": {
    "papermill": {
     "duration": 0.031076,
     "end_time": "2022-06-03T14:32:43.328657",
     "exception": false,
     "start_time": "2022-06-03T14:32:43.297581",
     "status": "completed"
    },
    "tags": []
   },
   "source": [
    "> great!"
   ]
  },
  {
   "cell_type": "code",
   "execution_count": 50,
   "id": "a6628553",
   "metadata": {
    "execution": {
     "iopub.execute_input": "2022-06-03T14:32:43.393423Z",
     "iopub.status.busy": "2022-06-03T14:32:43.392768Z",
     "iopub.status.idle": "2022-06-03T14:32:43.398475Z",
     "shell.execute_reply": "2022-06-03T14:32:43.397867Z"
    },
    "papermill": {
     "duration": 0.040114,
     "end_time": "2022-06-03T14:32:43.400175",
     "exception": false,
     "start_time": "2022-06-03T14:32:43.360061",
     "status": "completed"
    },
    "tags": []
   },
   "outputs": [
    {
     "data": {
      "text/plain": [
       "['Anne H Elliott',\n",
       " 'Andrew Johnson',\n",
       " 'S Wilde Durson',\n",
       " 'I E C Whaley',\n",
       " 'E C Whaley',\n",
       " 'Levi Steuben',\n",
       " 'E',\n",
       " 'ANDREW JOHNSON',\n",
       " 'Levi Stuber Major',\n",
       " 'Hu Kennedy',\n",
       " 'JB Hiserodt',\n",
       " 'Whaley',\n",
       " 'William Whaley Sworn',\n",
       " 'Levi Stuber',\n",
       " 'I J F Steinmeyer',\n",
       " 'JF Steinmeyer',\n",
       " 'Joseph Edings',\n",
       " 'Frank Geise',\n",
       " 'Vicksburg',\n",
       " 'Jacob Schroder',\n",
       " 'Jacob Schroder Sworn',\n",
       " 'JW Baxter',\n",
       " 'J H Mathews',\n",
       " 'Frank E Miller',\n",
       " 'Bergevin',\n",
       " 'P H Joor',\n",
       " 'Frank Conner',\n",
       " 'Caroline Belitzer',\n",
       " 'caroline Belitzer',\n",
       " 'Hiram Smith',\n",
       " 'mark Sworn',\n",
       " 'Geo D Carpenter',\n",
       " 'Aiken Burnwell',\n",
       " 'James E Thuring',\n",
       " 'J E Thuring',\n",
       " 'Robert A Wilson',\n",
       " 'James D Kendall',\n",
       " 'Holwell',\n",
       " 'City',\n",
       " 'JH Mathews']"
      ]
     },
     "execution_count": 50,
     "metadata": {},
     "output_type": "execute_result"
    }
   ],
   "source": [
    "P"
   ]
  },
  {
   "cell_type": "code",
   "execution_count": null,
   "id": "db3a5cd8",
   "metadata": {
    "papermill": {
     "duration": 0.031393,
     "end_time": "2022-06-03T14:32:43.463139",
     "exception": false,
     "start_time": "2022-06-03T14:32:43.431746",
     "status": "completed"
    },
    "tags": []
   },
   "outputs": [],
   "source": []
  },
  {
   "cell_type": "code",
   "execution_count": null,
   "id": "d1e9a7ce",
   "metadata": {
    "papermill": {
     "duration": 0.031443,
     "end_time": "2022-06-03T14:32:43.526028",
     "exception": false,
     "start_time": "2022-06-03T14:32:43.494585",
     "status": "completed"
    },
    "tags": []
   },
   "outputs": [],
   "source": []
  },
  {
   "cell_type": "code",
   "execution_count": null,
   "id": "ebe429bf",
   "metadata": {
    "papermill": {
     "duration": 0.031282,
     "end_time": "2022-06-03T14:32:43.588933",
     "exception": false,
     "start_time": "2022-06-03T14:32:43.557651",
     "status": "completed"
    },
    "tags": []
   },
   "outputs": [],
   "source": []
  }
 ],
 "metadata": {
  "kernelspec": {
   "display_name": "Python 3",
   "language": "python",
   "name": "python3"
  },
  "language_info": {
   "codemirror_mode": {
    "name": "ipython",
    "version": 3
   },
   "file_extension": ".py",
   "mimetype": "text/x-python",
   "name": "python",
   "nbconvert_exporter": "python",
   "pygments_lexer": "ipython3",
   "version": "3.7.12"
  },
  "papermill": {
   "default_parameters": {},
   "duration": 266.73004,
   "end_time": "2022-06-03T14:32:47.180931",
   "environment_variables": {},
   "exception": null,
   "input_path": "__notebook__.ipynb",
   "output_path": "__notebook__.ipynb",
   "parameters": {},
   "start_time": "2022-06-03T14:28:20.450891",
   "version": "2.3.4"
  },
  "widgets": {
   "application/vnd.jupyter.widget-state+json": {
    "state": {
     "0195035ffb4243f2ae0e547ada6a0199": {
      "model_module": "@jupyter-widgets/controls",
      "model_module_version": "1.5.0",
      "model_name": "DescriptionStyleModel",
      "state": {
       "_model_module": "@jupyter-widgets/controls",
       "_model_module_version": "1.5.0",
       "_model_name": "DescriptionStyleModel",
       "_view_count": null,
       "_view_module": "@jupyter-widgets/base",
       "_view_module_version": "1.2.0",
       "_view_name": "StyleView",
       "description_width": ""
      }
     },
     "01ab728cc39340a6a82406c2e25ee215": {
      "model_module": "@jupyter-widgets/controls",
      "model_module_version": "1.5.0",
      "model_name": "FloatProgressModel",
      "state": {
       "_dom_classes": [],
       "_model_module": "@jupyter-widgets/controls",
       "_model_module_version": "1.5.0",
       "_model_name": "FloatProgressModel",
       "_view_count": null,
       "_view_module": "@jupyter-widgets/controls",
       "_view_module_version": "1.5.0",
       "_view_name": "ProgressView",
       "bar_style": "success",
       "description": "",
       "description_tooltip": null,
       "layout": "IPY_MODEL_a041b5b0bcf64037a61864f6a10721f6",
       "max": 5069051.0,
       "min": 0.0,
       "orientation": "horizontal",
       "style": "IPY_MODEL_f081c03db27c475c9700a21cd15913e8",
       "value": 5069051.0
      }
     },
     "02b40de7ee3f4e9aab6cca836ca9592e": {
      "model_module": "@jupyter-widgets/base",
      "model_module_version": "1.2.0",
      "model_name": "LayoutModel",
      "state": {
       "_model_module": "@jupyter-widgets/base",
       "_model_module_version": "1.2.0",
       "_model_name": "LayoutModel",
       "_view_count": null,
       "_view_module": "@jupyter-widgets/base",
       "_view_module_version": "1.2.0",
       "_view_name": "LayoutView",
       "align_content": null,
       "align_items": null,
       "align_self": null,
       "border": null,
       "bottom": null,
       "display": null,
       "flex": null,
       "flex_flow": null,
       "grid_area": null,
       "grid_auto_columns": null,
       "grid_auto_flow": null,
       "grid_auto_rows": null,
       "grid_column": null,
       "grid_gap": null,
       "grid_row": null,
       "grid_template_areas": null,
       "grid_template_columns": null,
       "grid_template_rows": null,
       "height": null,
       "justify_content": null,
       "justify_items": null,
       "left": null,
       "margin": null,
       "max_height": null,
       "max_width": null,
       "min_height": null,
       "min_width": null,
       "object_fit": null,
       "object_position": null,
       "order": null,
       "overflow": null,
       "overflow_x": null,
       "overflow_y": null,
       "padding": null,
       "right": null,
       "top": null,
       "visibility": null,
       "width": null
      }
     },
     "03a7eb3388bf47e2aa3645e0ffc80fbd": {
      "model_module": "@jupyter-widgets/controls",
      "model_module_version": "1.5.0",
      "model_name": "HTMLModel",
      "state": {
       "_dom_classes": [],
       "_model_module": "@jupyter-widgets/controls",
       "_model_module_version": "1.5.0",
       "_model_name": "HTMLModel",
       "_view_count": null,
       "_view_module": "@jupyter-widgets/controls",
       "_view_module_version": "1.5.0",
       "_view_name": "HTMLView",
       "description": "",
       "description_tooltip": null,
       "layout": "IPY_MODEL_6dd16744d3be4ff39985e204422b5acc",
       "placeholder": "​",
       "style": "IPY_MODEL_667dfdbef7be4a62b86f1028d707d645",
       "value": "Downloading: 100%"
      }
     },
     "049748c6a4e040678780a876f0c605e9": {
      "model_module": "@jupyter-widgets/base",
      "model_module_version": "1.2.0",
      "model_name": "LayoutModel",
      "state": {
       "_model_module": "@jupyter-widgets/base",
       "_model_module_version": "1.2.0",
       "_model_name": "LayoutModel",
       "_view_count": null,
       "_view_module": "@jupyter-widgets/base",
       "_view_module_version": "1.2.0",
       "_view_name": "LayoutView",
       "align_content": null,
       "align_items": null,
       "align_self": null,
       "border": null,
       "bottom": null,
       "display": null,
       "flex": null,
       "flex_flow": null,
       "grid_area": null,
       "grid_auto_columns": null,
       "grid_auto_flow": null,
       "grid_auto_rows": null,
       "grid_column": null,
       "grid_gap": null,
       "grid_row": null,
       "grid_template_areas": null,
       "grid_template_columns": null,
       "grid_template_rows": null,
       "height": null,
       "justify_content": null,
       "justify_items": null,
       "left": null,
       "margin": null,
       "max_height": null,
       "max_width": null,
       "min_height": null,
       "min_width": null,
       "object_fit": null,
       "object_position": null,
       "order": null,
       "overflow": null,
       "overflow_x": null,
       "overflow_y": null,
       "padding": null,
       "right": null,
       "top": null,
       "visibility": null,
       "width": null
      }
     },
     "079d09d7f9c04743b4911ffc548052de": {
      "model_module": "@jupyter-widgets/controls",
      "model_module_version": "1.5.0",
      "model_name": "ProgressStyleModel",
      "state": {
       "_model_module": "@jupyter-widgets/controls",
       "_model_module_version": "1.5.0",
       "_model_name": "ProgressStyleModel",
       "_view_count": null,
       "_view_module": "@jupyter-widgets/base",
       "_view_module_version": "1.2.0",
       "_view_name": "StyleView",
       "bar_color": null,
       "description_width": ""
      }
     },
     "11c6c69f3e9f4be4b7822fcfca57ac6f": {
      "model_module": "@jupyter-widgets/base",
      "model_module_version": "1.2.0",
      "model_name": "LayoutModel",
      "state": {
       "_model_module": "@jupyter-widgets/base",
       "_model_module_version": "1.2.0",
       "_model_name": "LayoutModel",
       "_view_count": null,
       "_view_module": "@jupyter-widgets/base",
       "_view_module_version": "1.2.0",
       "_view_name": "LayoutView",
       "align_content": null,
       "align_items": null,
       "align_self": null,
       "border": null,
       "bottom": null,
       "display": null,
       "flex": null,
       "flex_flow": null,
       "grid_area": null,
       "grid_auto_columns": null,
       "grid_auto_flow": null,
       "grid_auto_rows": null,
       "grid_column": null,
       "grid_gap": null,
       "grid_row": null,
       "grid_template_areas": null,
       "grid_template_columns": null,
       "grid_template_rows": null,
       "height": null,
       "justify_content": null,
       "justify_items": null,
       "left": null,
       "margin": null,
       "max_height": null,
       "max_width": null,
       "min_height": null,
       "min_width": null,
       "object_fit": null,
       "object_position": null,
       "order": null,
       "overflow": null,
       "overflow_x": null,
       "overflow_y": null,
       "padding": null,
       "right": null,
       "top": null,
       "visibility": null,
       "width": null
      }
     },
     "11e9df3891d741eb8df7d669598c6814": {
      "model_module": "@jupyter-widgets/base",
      "model_module_version": "1.2.0",
      "model_name": "LayoutModel",
      "state": {
       "_model_module": "@jupyter-widgets/base",
       "_model_module_version": "1.2.0",
       "_model_name": "LayoutModel",
       "_view_count": null,
       "_view_module": "@jupyter-widgets/base",
       "_view_module_version": "1.2.0",
       "_view_name": "LayoutView",
       "align_content": null,
       "align_items": null,
       "align_self": null,
       "border": null,
       "bottom": null,
       "display": null,
       "flex": null,
       "flex_flow": null,
       "grid_area": null,
       "grid_auto_columns": null,
       "grid_auto_flow": null,
       "grid_auto_rows": null,
       "grid_column": null,
       "grid_gap": null,
       "grid_row": null,
       "grid_template_areas": null,
       "grid_template_columns": null,
       "grid_template_rows": null,
       "height": null,
       "justify_content": null,
       "justify_items": null,
       "left": null,
       "margin": null,
       "max_height": null,
       "max_width": null,
       "min_height": null,
       "min_width": null,
       "object_fit": null,
       "object_position": null,
       "order": null,
       "overflow": null,
       "overflow_x": null,
       "overflow_y": null,
       "padding": null,
       "right": null,
       "top": null,
       "visibility": null,
       "width": null
      }
     },
     "13a591f6e6484f858b6147526ce22fdd": {
      "model_module": "@jupyter-widgets/controls",
      "model_module_version": "1.5.0",
      "model_name": "DescriptionStyleModel",
      "state": {
       "_model_module": "@jupyter-widgets/controls",
       "_model_module_version": "1.5.0",
       "_model_name": "DescriptionStyleModel",
       "_view_count": null,
       "_view_module": "@jupyter-widgets/base",
       "_view_module_version": "1.2.0",
       "_view_name": "StyleView",
       "description_width": ""
      }
     },
     "14e591889bb94e5daca1194d5881c1b7": {
      "model_module": "@jupyter-widgets/base",
      "model_module_version": "1.2.0",
      "model_name": "LayoutModel",
      "state": {
       "_model_module": "@jupyter-widgets/base",
       "_model_module_version": "1.2.0",
       "_model_name": "LayoutModel",
       "_view_count": null,
       "_view_module": "@jupyter-widgets/base",
       "_view_module_version": "1.2.0",
       "_view_name": "LayoutView",
       "align_content": null,
       "align_items": null,
       "align_self": null,
       "border": null,
       "bottom": null,
       "display": null,
       "flex": null,
       "flex_flow": null,
       "grid_area": null,
       "grid_auto_columns": null,
       "grid_auto_flow": null,
       "grid_auto_rows": null,
       "grid_column": null,
       "grid_gap": null,
       "grid_row": null,
       "grid_template_areas": null,
       "grid_template_columns": null,
       "grid_template_rows": null,
       "height": null,
       "justify_content": null,
       "justify_items": null,
       "left": null,
       "margin": null,
       "max_height": null,
       "max_width": null,
       "min_height": null,
       "min_width": null,
       "object_fit": null,
       "object_position": null,
       "order": null,
       "overflow": null,
       "overflow_x": null,
       "overflow_y": null,
       "padding": null,
       "right": null,
       "top": null,
       "visibility": null,
       "width": null
      }
     },
     "15dcdfcb237f4e57a7fe68c19060b4ac": {
      "model_module": "@jupyter-widgets/controls",
      "model_module_version": "1.5.0",
      "model_name": "DescriptionStyleModel",
      "state": {
       "_model_module": "@jupyter-widgets/controls",
       "_model_module_version": "1.5.0",
       "_model_name": "DescriptionStyleModel",
       "_view_count": null,
       "_view_module": "@jupyter-widgets/base",
       "_view_module_version": "1.2.0",
       "_view_name": "StyleView",
       "description_width": ""
      }
     },
     "17321561e53e4df786f891052f29a422": {
      "model_module": "@jupyter-widgets/controls",
      "model_module_version": "1.5.0",
      "model_name": "ProgressStyleModel",
      "state": {
       "_model_module": "@jupyter-widgets/controls",
       "_model_module_version": "1.5.0",
       "_model_name": "ProgressStyleModel",
       "_view_count": null,
       "_view_module": "@jupyter-widgets/base",
       "_view_module_version": "1.2.0",
       "_view_name": "StyleView",
       "bar_color": null,
       "description_width": ""
      }
     },
     "18083beb6c574b1c96c56afd57c1b43c": {
      "model_module": "@jupyter-widgets/controls",
      "model_module_version": "1.5.0",
      "model_name": "HBoxModel",
      "state": {
       "_dom_classes": [],
       "_model_module": "@jupyter-widgets/controls",
       "_model_module_version": "1.5.0",
       "_model_name": "HBoxModel",
       "_view_count": null,
       "_view_module": "@jupyter-widgets/controls",
       "_view_module_version": "1.5.0",
       "_view_name": "HBoxView",
       "box_style": "",
       "children": [
        "IPY_MODEL_48620555425549259a26a030c127d7a3",
        "IPY_MODEL_dbd8d67e3f5a4b2c82dc9e9d1d34eb7a",
        "IPY_MODEL_5223ba0c31614d9c8466e3b704f546ea"
       ],
       "layout": "IPY_MODEL_1880a843b4104a47968c8bf20e69a6be"
      }
     },
     "1880a843b4104a47968c8bf20e69a6be": {
      "model_module": "@jupyter-widgets/base",
      "model_module_version": "1.2.0",
      "model_name": "LayoutModel",
      "state": {
       "_model_module": "@jupyter-widgets/base",
       "_model_module_version": "1.2.0",
       "_model_name": "LayoutModel",
       "_view_count": null,
       "_view_module": "@jupyter-widgets/base",
       "_view_module_version": "1.2.0",
       "_view_name": "LayoutView",
       "align_content": null,
       "align_items": null,
       "align_self": null,
       "border": null,
       "bottom": null,
       "display": null,
       "flex": null,
       "flex_flow": null,
       "grid_area": null,
       "grid_auto_columns": null,
       "grid_auto_flow": null,
       "grid_auto_rows": null,
       "grid_column": null,
       "grid_gap": null,
       "grid_row": null,
       "grid_template_areas": null,
       "grid_template_columns": null,
       "grid_template_rows": null,
       "height": null,
       "justify_content": null,
       "justify_items": null,
       "left": null,
       "margin": null,
       "max_height": null,
       "max_width": null,
       "min_height": null,
       "min_width": null,
       "object_fit": null,
       "object_position": null,
       "order": null,
       "overflow": null,
       "overflow_x": null,
       "overflow_y": null,
       "padding": null,
       "right": null,
       "top": null,
       "visibility": null,
       "width": null
      }
     },
     "1f2ad4d4e78a43dfaab7f27c97b62107": {
      "model_module": "@jupyter-widgets/base",
      "model_module_version": "1.2.0",
      "model_name": "LayoutModel",
      "state": {
       "_model_module": "@jupyter-widgets/base",
       "_model_module_version": "1.2.0",
       "_model_name": "LayoutModel",
       "_view_count": null,
       "_view_module": "@jupyter-widgets/base",
       "_view_module_version": "1.2.0",
       "_view_name": "LayoutView",
       "align_content": null,
       "align_items": null,
       "align_self": null,
       "border": null,
       "bottom": null,
       "display": null,
       "flex": null,
       "flex_flow": null,
       "grid_area": null,
       "grid_auto_columns": null,
       "grid_auto_flow": null,
       "grid_auto_rows": null,
       "grid_column": null,
       "grid_gap": null,
       "grid_row": null,
       "grid_template_areas": null,
       "grid_template_columns": null,
       "grid_template_rows": null,
       "height": null,
       "justify_content": null,
       "justify_items": null,
       "left": null,
       "margin": null,
       "max_height": null,
       "max_width": null,
       "min_height": null,
       "min_width": null,
       "object_fit": null,
       "object_position": null,
       "order": null,
       "overflow": null,
       "overflow_x": null,
       "overflow_y": null,
       "padding": null,
       "right": null,
       "top": null,
       "visibility": null,
       "width": null
      }
     },
     "1f5057e5180e45098be42183d600971b": {
      "model_module": "@jupyter-widgets/controls",
      "model_module_version": "1.5.0",
      "model_name": "HBoxModel",
      "state": {
       "_dom_classes": [],
       "_model_module": "@jupyter-widgets/controls",
       "_model_module_version": "1.5.0",
       "_model_name": "HBoxModel",
       "_view_count": null,
       "_view_module": "@jupyter-widgets/controls",
       "_view_module_version": "1.5.0",
       "_view_name": "HBoxView",
       "box_style": "",
       "children": [
        "IPY_MODEL_f61b6b7101d54b2595e940cef622880e",
        "IPY_MODEL_30f23d40e6044f5bb6cec2efcd8b6b1a",
        "IPY_MODEL_585c337ba7b74ceca362293afaf3d560"
       ],
       "layout": "IPY_MODEL_3e74f6ecccae462eb1021ffd7ef71540"
      }
     },
     "2259e25cf9c7474c952a977d93ff4dbf": {
      "model_module": "@jupyter-widgets/controls",
      "model_module_version": "1.5.0",
      "model_name": "HTMLModel",
      "state": {
       "_dom_classes": [],
       "_model_module": "@jupyter-widgets/controls",
       "_model_module_version": "1.5.0",
       "_model_name": "HTMLModel",
       "_view_count": null,
       "_view_module": "@jupyter-widgets/controls",
       "_view_module_version": "1.5.0",
       "_view_name": "HTMLView",
       "description": "",
       "description_tooltip": null,
       "layout": "IPY_MODEL_ab99861dd23a44b48941e87f61a1696c",
       "placeholder": "​",
       "style": "IPY_MODEL_b0db1511fbb745c190bcb205fbe1e92c",
       "value": "Downloading: 100%"
      }
     },
     "24bdbe8c0ba14756abf0edf6506d3156": {
      "model_module": "@jupyter-widgets/controls",
      "model_module_version": "1.5.0",
      "model_name": "HBoxModel",
      "state": {
       "_dom_classes": [],
       "_model_module": "@jupyter-widgets/controls",
       "_model_module_version": "1.5.0",
       "_model_name": "HBoxModel",
       "_view_count": null,
       "_view_module": "@jupyter-widgets/controls",
       "_view_module_version": "1.5.0",
       "_view_name": "HBoxView",
       "box_style": "",
       "children": [
        "IPY_MODEL_c0e4ba535c224b0f9afbe7073e7a4ff5",
        "IPY_MODEL_01ab728cc39340a6a82406c2e25ee215",
        "IPY_MODEL_6b4e7f5b056d4f4088e1e3c7786070a5"
       ],
       "layout": "IPY_MODEL_a50ca9baef5d42efb5a512e6c81b7f21"
      }
     },
     "2976c87a3fba4a9fbf3e67d1ac6da7e1": {
      "model_module": "@jupyter-widgets/base",
      "model_module_version": "1.2.0",
      "model_name": "LayoutModel",
      "state": {
       "_model_module": "@jupyter-widgets/base",
       "_model_module_version": "1.2.0",
       "_model_name": "LayoutModel",
       "_view_count": null,
       "_view_module": "@jupyter-widgets/base",
       "_view_module_version": "1.2.0",
       "_view_name": "LayoutView",
       "align_content": null,
       "align_items": null,
       "align_self": null,
       "border": null,
       "bottom": null,
       "display": null,
       "flex": null,
       "flex_flow": null,
       "grid_area": null,
       "grid_auto_columns": null,
       "grid_auto_flow": null,
       "grid_auto_rows": null,
       "grid_column": null,
       "grid_gap": null,
       "grid_row": null,
       "grid_template_areas": null,
       "grid_template_columns": null,
       "grid_template_rows": null,
       "height": null,
       "justify_content": null,
       "justify_items": null,
       "left": null,
       "margin": null,
       "max_height": null,
       "max_width": null,
       "min_height": null,
       "min_width": null,
       "object_fit": null,
       "object_position": null,
       "order": null,
       "overflow": null,
       "overflow_x": null,
       "overflow_y": null,
       "padding": null,
       "right": null,
       "top": null,
       "visibility": null,
       "width": null
      }
     },
     "29a0ca5f5794454f8f8610df8fc99d90": {
      "model_module": "@jupyter-widgets/controls",
      "model_module_version": "1.5.0",
      "model_name": "HTMLModel",
      "state": {
       "_dom_classes": [],
       "_model_module": "@jupyter-widgets/controls",
       "_model_module_version": "1.5.0",
       "_model_name": "HTMLModel",
       "_view_count": null,
       "_view_module": "@jupyter-widgets/controls",
       "_view_module_version": "1.5.0",
       "_view_name": "HTMLView",
       "description": "",
       "description_tooltip": null,
       "layout": "IPY_MODEL_4f397d5e1ae24ed6976e7c26ff0a7f37",
       "placeholder": "​",
       "style": "IPY_MODEL_13a591f6e6484f858b6147526ce22fdd",
       "value": " 2.24G/2.24G [01:12&lt;00:00, 32.9MB/s]"
      }
     },
     "2b901670660848b78012717cf9562a72": {
      "model_module": "@jupyter-widgets/controls",
      "model_module_version": "1.5.0",
      "model_name": "HTMLModel",
      "state": {
       "_dom_classes": [],
       "_model_module": "@jupyter-widgets/controls",
       "_model_module_version": "1.5.0",
       "_model_name": "HTMLModel",
       "_view_count": null,
       "_view_module": "@jupyter-widgets/controls",
       "_view_module_version": "1.5.0",
       "_view_name": "HTMLView",
       "description": "",
       "description_tooltip": null,
       "layout": "IPY_MODEL_049748c6a4e040678780a876f0c605e9",
       "placeholder": "​",
       "style": "IPY_MODEL_e56cc78b88d84b9d8d8a305200a94947",
       "value": " 8.68M/8.68M [00:00&lt;00:00, 33.2MB/s]"
      }
     },
     "2bf0548e32fd4055a77ab13609fa96bb": {
      "model_module": "@jupyter-widgets/controls",
      "model_module_version": "1.5.0",
      "model_name": "HTMLModel",
      "state": {
       "_dom_classes": [],
       "_model_module": "@jupyter-widgets/controls",
       "_model_module_version": "1.5.0",
       "_model_name": "HTMLModel",
       "_view_count": null,
       "_view_module": "@jupyter-widgets/controls",
       "_view_module_version": "1.5.0",
       "_view_name": "HTMLView",
       "description": "",
       "description_tooltip": null,
       "layout": "IPY_MODEL_efe1069e850d4cc9a5b71e50cbd991ef",
       "placeholder": "​",
       "style": "IPY_MODEL_9783b1fd6fba43de9773989ccbc40fca",
       "value": "Downloading: 100%"
      }
     },
     "2e59aa2bbf1547b4ae58af9aac18f6da": {
      "model_module": "@jupyter-widgets/base",
      "model_module_version": "1.2.0",
      "model_name": "LayoutModel",
      "state": {
       "_model_module": "@jupyter-widgets/base",
       "_model_module_version": "1.2.0",
       "_model_name": "LayoutModel",
       "_view_count": null,
       "_view_module": "@jupyter-widgets/base",
       "_view_module_version": "1.2.0",
       "_view_name": "LayoutView",
       "align_content": null,
       "align_items": null,
       "align_self": null,
       "border": null,
       "bottom": null,
       "display": null,
       "flex": null,
       "flex_flow": null,
       "grid_area": null,
       "grid_auto_columns": null,
       "grid_auto_flow": null,
       "grid_auto_rows": null,
       "grid_column": null,
       "grid_gap": null,
       "grid_row": null,
       "grid_template_areas": null,
       "grid_template_columns": null,
       "grid_template_rows": null,
       "height": null,
       "justify_content": null,
       "justify_items": null,
       "left": null,
       "margin": null,
       "max_height": null,
       "max_width": null,
       "min_height": null,
       "min_width": null,
       "object_fit": null,
       "object_position": null,
       "order": null,
       "overflow": null,
       "overflow_x": null,
       "overflow_y": null,
       "padding": null,
       "right": null,
       "top": null,
       "visibility": null,
       "width": null
      }
     },
     "30f23d40e6044f5bb6cec2efcd8b6b1a": {
      "model_module": "@jupyter-widgets/controls",
      "model_module_version": "1.5.0",
      "model_name": "FloatProgressModel",
      "state": {
       "_dom_classes": [],
       "_model_module": "@jupyter-widgets/controls",
       "_model_module_version": "1.5.0",
       "_model_name": "FloatProgressModel",
       "_view_count": null,
       "_view_module": "@jupyter-widgets/controls",
       "_view_module_version": "1.5.0",
       "_view_name": "ProgressView",
       "bar_style": "success",
       "description": "",
       "description_tooltip": null,
       "layout": "IPY_MODEL_1f2ad4d4e78a43dfaab7f27c97b62107",
       "max": 239.0,
       "min": 0.0,
       "orientation": "horizontal",
       "style": "IPY_MODEL_727e66fc34d648859cf6dee8ba6c1361",
       "value": 239.0
      }
     },
     "33270cb258474841839203cfd9b6f0c3": {
      "model_module": "@jupyter-widgets/base",
      "model_module_version": "1.2.0",
      "model_name": "LayoutModel",
      "state": {
       "_model_module": "@jupyter-widgets/base",
       "_model_module_version": "1.2.0",
       "_model_name": "LayoutModel",
       "_view_count": null,
       "_view_module": "@jupyter-widgets/base",
       "_view_module_version": "1.2.0",
       "_view_name": "LayoutView",
       "align_content": null,
       "align_items": null,
       "align_self": null,
       "border": null,
       "bottom": null,
       "display": null,
       "flex": null,
       "flex_flow": null,
       "grid_area": null,
       "grid_auto_columns": null,
       "grid_auto_flow": null,
       "grid_auto_rows": null,
       "grid_column": null,
       "grid_gap": null,
       "grid_row": null,
       "grid_template_areas": null,
       "grid_template_columns": null,
       "grid_template_rows": null,
       "height": null,
       "justify_content": null,
       "justify_items": null,
       "left": null,
       "margin": null,
       "max_height": null,
       "max_width": null,
       "min_height": null,
       "min_width": null,
       "object_fit": null,
       "object_position": null,
       "order": null,
       "overflow": null,
       "overflow_x": null,
       "overflow_y": null,
       "padding": null,
       "right": null,
       "top": null,
       "visibility": null,
       "width": null
      }
     },
     "35b0ac99a8c3416994cd74efd668e029": {
      "model_module": "@jupyter-widgets/controls",
      "model_module_version": "1.5.0",
      "model_name": "HTMLModel",
      "state": {
       "_dom_classes": [],
       "_model_module": "@jupyter-widgets/controls",
       "_model_module_version": "1.5.0",
       "_model_name": "HTMLModel",
       "_view_count": null,
       "_view_module": "@jupyter-widgets/controls",
       "_view_module_version": "1.5.0",
       "_view_name": "HTMLView",
       "description": "",
       "description_tooltip": null,
       "layout": "IPY_MODEL_14e591889bb94e5daca1194d5881c1b7",
       "placeholder": "​",
       "style": "IPY_MODEL_6d87203620ba47c684ab2efa32a33fa7",
       "value": "Downloading: 100%"
      }
     },
     "3640e8e0f748401090372b5329c5b01a": {
      "model_module": "@jupyter-widgets/controls",
      "model_module_version": "1.5.0",
      "model_name": "DescriptionStyleModel",
      "state": {
       "_model_module": "@jupyter-widgets/controls",
       "_model_module_version": "1.5.0",
       "_model_name": "DescriptionStyleModel",
       "_view_count": null,
       "_view_module": "@jupyter-widgets/base",
       "_view_module_version": "1.2.0",
       "_view_name": "StyleView",
       "description_width": ""
      }
     },
     "37408c14c9f4493d8a390af2c1c36588": {
      "model_module": "@jupyter-widgets/controls",
      "model_module_version": "1.5.0",
      "model_name": "DescriptionStyleModel",
      "state": {
       "_model_module": "@jupyter-widgets/controls",
       "_model_module_version": "1.5.0",
       "_model_name": "DescriptionStyleModel",
       "_view_count": null,
       "_view_module": "@jupyter-widgets/base",
       "_view_module_version": "1.2.0",
       "_view_name": "StyleView",
       "description_width": ""
      }
     },
     "39284a1057be47f7b3e31fa1af16b4fa": {
      "model_module": "@jupyter-widgets/base",
      "model_module_version": "1.2.0",
      "model_name": "LayoutModel",
      "state": {
       "_model_module": "@jupyter-widgets/base",
       "_model_module_version": "1.2.0",
       "_model_name": "LayoutModel",
       "_view_count": null,
       "_view_module": "@jupyter-widgets/base",
       "_view_module_version": "1.2.0",
       "_view_name": "LayoutView",
       "align_content": null,
       "align_items": null,
       "align_self": null,
       "border": null,
       "bottom": null,
       "display": null,
       "flex": null,
       "flex_flow": null,
       "grid_area": null,
       "grid_auto_columns": null,
       "grid_auto_flow": null,
       "grid_auto_rows": null,
       "grid_column": null,
       "grid_gap": null,
       "grid_row": null,
       "grid_template_areas": null,
       "grid_template_columns": null,
       "grid_template_rows": null,
       "height": null,
       "justify_content": null,
       "justify_items": null,
       "left": null,
       "margin": null,
       "max_height": null,
       "max_width": null,
       "min_height": null,
       "min_width": null,
       "object_fit": null,
       "object_position": null,
       "order": null,
       "overflow": null,
       "overflow_x": null,
       "overflow_y": null,
       "padding": null,
       "right": null,
       "top": null,
       "visibility": null,
       "width": null
      }
     },
     "3b6de64f23304175a16a26510a38127d": {
      "model_module": "@jupyter-widgets/controls",
      "model_module_version": "1.5.0",
      "model_name": "DescriptionStyleModel",
      "state": {
       "_model_module": "@jupyter-widgets/controls",
       "_model_module_version": "1.5.0",
       "_model_name": "DescriptionStyleModel",
       "_view_count": null,
       "_view_module": "@jupyter-widgets/base",
       "_view_module_version": "1.2.0",
       "_view_name": "StyleView",
       "description_width": ""
      }
     },
     "3cc8652708934d6da218fc8d4cbdc04f": {
      "model_module": "@jupyter-widgets/controls",
      "model_module_version": "1.5.0",
      "model_name": "DescriptionStyleModel",
      "state": {
       "_model_module": "@jupyter-widgets/controls",
       "_model_module_version": "1.5.0",
       "_model_name": "DescriptionStyleModel",
       "_view_count": null,
       "_view_module": "@jupyter-widgets/base",
       "_view_module_version": "1.2.0",
       "_view_name": "StyleView",
       "description_width": ""
      }
     },
     "3e74f6ecccae462eb1021ffd7ef71540": {
      "model_module": "@jupyter-widgets/base",
      "model_module_version": "1.2.0",
      "model_name": "LayoutModel",
      "state": {
       "_model_module": "@jupyter-widgets/base",
       "_model_module_version": "1.2.0",
       "_model_name": "LayoutModel",
       "_view_count": null,
       "_view_module": "@jupyter-widgets/base",
       "_view_module_version": "1.2.0",
       "_view_name": "LayoutView",
       "align_content": null,
       "align_items": null,
       "align_self": null,
       "border": null,
       "bottom": null,
       "display": null,
       "flex": null,
       "flex_flow": null,
       "grid_area": null,
       "grid_auto_columns": null,
       "grid_auto_flow": null,
       "grid_auto_rows": null,
       "grid_column": null,
       "grid_gap": null,
       "grid_row": null,
       "grid_template_areas": null,
       "grid_template_columns": null,
       "grid_template_rows": null,
       "height": null,
       "justify_content": null,
       "justify_items": null,
       "left": null,
       "margin": null,
       "max_height": null,
       "max_width": null,
       "min_height": null,
       "min_width": null,
       "object_fit": null,
       "object_position": null,
       "order": null,
       "overflow": null,
       "overflow_x": null,
       "overflow_y": null,
       "padding": null,
       "right": null,
       "top": null,
       "visibility": null,
       "width": null
      }
     },
     "43b433c943b74d5a98fe97c80065a922": {
      "model_module": "@jupyter-widgets/base",
      "model_module_version": "1.2.0",
      "model_name": "LayoutModel",
      "state": {
       "_model_module": "@jupyter-widgets/base",
       "_model_module_version": "1.2.0",
       "_model_name": "LayoutModel",
       "_view_count": null,
       "_view_module": "@jupyter-widgets/base",
       "_view_module_version": "1.2.0",
       "_view_name": "LayoutView",
       "align_content": null,
       "align_items": null,
       "align_self": null,
       "border": null,
       "bottom": null,
       "display": null,
       "flex": null,
       "flex_flow": null,
       "grid_area": null,
       "grid_auto_columns": null,
       "grid_auto_flow": null,
       "grid_auto_rows": null,
       "grid_column": null,
       "grid_gap": null,
       "grid_row": null,
       "grid_template_areas": null,
       "grid_template_columns": null,
       "grid_template_rows": null,
       "height": null,
       "justify_content": null,
       "justify_items": null,
       "left": null,
       "margin": null,
       "max_height": null,
       "max_width": null,
       "min_height": null,
       "min_width": null,
       "object_fit": null,
       "object_position": null,
       "order": null,
       "overflow": null,
       "overflow_x": null,
       "overflow_y": null,
       "padding": null,
       "right": null,
       "top": null,
       "visibility": null,
       "width": null
      }
     },
     "48620555425549259a26a030c127d7a3": {
      "model_module": "@jupyter-widgets/controls",
      "model_module_version": "1.5.0",
      "model_name": "HTMLModel",
      "state": {
       "_dom_classes": [],
       "_model_module": "@jupyter-widgets/controls",
       "_model_module_version": "1.5.0",
       "_model_name": "HTMLModel",
       "_view_count": null,
       "_view_module": "@jupyter-widgets/controls",
       "_view_module_version": "1.5.0",
       "_view_name": "HTMLView",
       "description": "",
       "description_tooltip": null,
       "layout": "IPY_MODEL_6a59ffa516ba462296242f25f850df77",
       "placeholder": "​",
       "style": "IPY_MODEL_37408c14c9f4493d8a390af2c1c36588",
       "value": "Downloading: 100%"
      }
     },
     "4ca96ae062bc4ccc8a58c9b80c677814": {
      "model_module": "@jupyter-widgets/base",
      "model_module_version": "1.2.0",
      "model_name": "LayoutModel",
      "state": {
       "_model_module": "@jupyter-widgets/base",
       "_model_module_version": "1.2.0",
       "_model_name": "LayoutModel",
       "_view_count": null,
       "_view_module": "@jupyter-widgets/base",
       "_view_module_version": "1.2.0",
       "_view_name": "LayoutView",
       "align_content": null,
       "align_items": null,
       "align_self": null,
       "border": null,
       "bottom": null,
       "display": null,
       "flex": null,
       "flex_flow": null,
       "grid_area": null,
       "grid_auto_columns": null,
       "grid_auto_flow": null,
       "grid_auto_rows": null,
       "grid_column": null,
       "grid_gap": null,
       "grid_row": null,
       "grid_template_areas": null,
       "grid_template_columns": null,
       "grid_template_rows": null,
       "height": null,
       "justify_content": null,
       "justify_items": null,
       "left": null,
       "margin": null,
       "max_height": null,
       "max_width": null,
       "min_height": null,
       "min_width": null,
       "object_fit": null,
       "object_position": null,
       "order": null,
       "overflow": null,
       "overflow_x": null,
       "overflow_y": null,
       "padding": null,
       "right": null,
       "top": null,
       "visibility": null,
       "width": null
      }
     },
     "4dc3764d3aa8435ca14342948c9ae2ea": {
      "model_module": "@jupyter-widgets/controls",
      "model_module_version": "1.5.0",
      "model_name": "FloatProgressModel",
      "state": {
       "_dom_classes": [],
       "_model_module": "@jupyter-widgets/controls",
       "_model_module_version": "1.5.0",
       "_model_name": "FloatProgressModel",
       "_view_count": null,
       "_view_module": "@jupyter-widgets/controls",
       "_view_module_version": "1.5.0",
       "_view_name": "ProgressView",
       "bar_style": "success",
       "description": "",
       "description_tooltip": null,
       "layout": "IPY_MODEL_53e4b444b7cc46d0952448d3af7980bf",
       "max": 616.0,
       "min": 0.0,
       "orientation": "horizontal",
       "style": "IPY_MODEL_079d09d7f9c04743b4911ffc548052de",
       "value": 616.0
      }
     },
     "4f397d5e1ae24ed6976e7c26ff0a7f37": {
      "model_module": "@jupyter-widgets/base",
      "model_module_version": "1.2.0",
      "model_name": "LayoutModel",
      "state": {
       "_model_module": "@jupyter-widgets/base",
       "_model_module_version": "1.2.0",
       "_model_name": "LayoutModel",
       "_view_count": null,
       "_view_module": "@jupyter-widgets/base",
       "_view_module_version": "1.2.0",
       "_view_name": "LayoutView",
       "align_content": null,
       "align_items": null,
       "align_self": null,
       "border": null,
       "bottom": null,
       "display": null,
       "flex": null,
       "flex_flow": null,
       "grid_area": null,
       "grid_auto_columns": null,
       "grid_auto_flow": null,
       "grid_auto_rows": null,
       "grid_column": null,
       "grid_gap": null,
       "grid_row": null,
       "grid_template_areas": null,
       "grid_template_columns": null,
       "grid_template_rows": null,
       "height": null,
       "justify_content": null,
       "justify_items": null,
       "left": null,
       "margin": null,
       "max_height": null,
       "max_width": null,
       "min_height": null,
       "min_width": null,
       "object_fit": null,
       "object_position": null,
       "order": null,
       "overflow": null,
       "overflow_x": null,
       "overflow_y": null,
       "padding": null,
       "right": null,
       "top": null,
       "visibility": null,
       "width": null
      }
     },
     "5223ba0c31614d9c8466e3b704f546ea": {
      "model_module": "@jupyter-widgets/controls",
      "model_module_version": "1.5.0",
      "model_name": "HTMLModel",
      "state": {
       "_dom_classes": [],
       "_model_module": "@jupyter-widgets/controls",
       "_model_module_version": "1.5.0",
       "_model_name": "HTMLModel",
       "_view_count": null,
       "_view_module": "@jupyter-widgets/controls",
       "_view_module_version": "1.5.0",
       "_view_name": "HTMLView",
       "description": "",
       "description_tooltip": null,
       "layout": "IPY_MODEL_de63ed094b814bf096fa4ceeefadb8dd",
       "placeholder": "​",
       "style": "IPY_MODEL_70d6c88e298441358742ebc0b0a21b07",
       "value": " 964/964 [00:00&lt;00:00, 32.2kB/s]"
      }
     },
     "5262d010c4154d76a433c66f293bad47": {
      "model_module": "@jupyter-widgets/controls",
      "model_module_version": "1.5.0",
      "model_name": "ProgressStyleModel",
      "state": {
       "_model_module": "@jupyter-widgets/controls",
       "_model_module_version": "1.5.0",
       "_model_name": "ProgressStyleModel",
       "_view_count": null,
       "_view_module": "@jupyter-widgets/base",
       "_view_module_version": "1.2.0",
       "_view_name": "StyleView",
       "bar_color": null,
       "description_width": ""
      }
     },
     "53e4b444b7cc46d0952448d3af7980bf": {
      "model_module": "@jupyter-widgets/base",
      "model_module_version": "1.2.0",
      "model_name": "LayoutModel",
      "state": {
       "_model_module": "@jupyter-widgets/base",
       "_model_module_version": "1.2.0",
       "_model_name": "LayoutModel",
       "_view_count": null,
       "_view_module": "@jupyter-widgets/base",
       "_view_module_version": "1.2.0",
       "_view_name": "LayoutView",
       "align_content": null,
       "align_items": null,
       "align_self": null,
       "border": null,
       "bottom": null,
       "display": null,
       "flex": null,
       "flex_flow": null,
       "grid_area": null,
       "grid_auto_columns": null,
       "grid_auto_flow": null,
       "grid_auto_rows": null,
       "grid_column": null,
       "grid_gap": null,
       "grid_row": null,
       "grid_template_areas": null,
       "grid_template_columns": null,
       "grid_template_rows": null,
       "height": null,
       "justify_content": null,
       "justify_items": null,
       "left": null,
       "margin": null,
       "max_height": null,
       "max_width": null,
       "min_height": null,
       "min_width": null,
       "object_fit": null,
       "object_position": null,
       "order": null,
       "overflow": null,
       "overflow_x": null,
       "overflow_y": null,
       "padding": null,
       "right": null,
       "top": null,
       "visibility": null,
       "width": null
      }
     },
     "585c337ba7b74ceca362293afaf3d560": {
      "model_module": "@jupyter-widgets/controls",
      "model_module_version": "1.5.0",
      "model_name": "HTMLModel",
      "state": {
       "_dom_classes": [],
       "_model_module": "@jupyter-widgets/controls",
       "_model_module_version": "1.5.0",
       "_model_name": "HTMLModel",
       "_view_count": null,
       "_view_module": "@jupyter-widgets/controls",
       "_view_module_version": "1.5.0",
       "_view_name": "HTMLView",
       "description": "",
       "description_tooltip": null,
       "layout": "IPY_MODEL_6408e8ca003644979d44c19bdf82db14",
       "placeholder": "​",
       "style": "IPY_MODEL_6dacffa14081400a99be8853aa2ece10",
       "value": " 239/239 [00:00&lt;00:00, 7.97kB/s]"
      }
     },
     "59f625db322148d2a8102ecc50b5be55": {
      "model_module": "@jupyter-widgets/base",
      "model_module_version": "1.2.0",
      "model_name": "LayoutModel",
      "state": {
       "_model_module": "@jupyter-widgets/base",
       "_model_module_version": "1.2.0",
       "_model_name": "LayoutModel",
       "_view_count": null,
       "_view_module": "@jupyter-widgets/base",
       "_view_module_version": "1.2.0",
       "_view_name": "LayoutView",
       "align_content": null,
       "align_items": null,
       "align_self": null,
       "border": null,
       "bottom": null,
       "display": null,
       "flex": null,
       "flex_flow": null,
       "grid_area": null,
       "grid_auto_columns": null,
       "grid_auto_flow": null,
       "grid_auto_rows": null,
       "grid_column": null,
       "grid_gap": null,
       "grid_row": null,
       "grid_template_areas": null,
       "grid_template_columns": null,
       "grid_template_rows": null,
       "height": null,
       "justify_content": null,
       "justify_items": null,
       "left": null,
       "margin": null,
       "max_height": null,
       "max_width": null,
       "min_height": null,
       "min_width": null,
       "object_fit": null,
       "object_position": null,
       "order": null,
       "overflow": null,
       "overflow_x": null,
       "overflow_y": null,
       "padding": null,
       "right": null,
       "top": null,
       "visibility": null,
       "width": null
      }
     },
     "5c347b70a4c246ae869996b586a5a446": {
      "model_module": "@jupyter-widgets/controls",
      "model_module_version": "1.5.0",
      "model_name": "FloatProgressModel",
      "state": {
       "_dom_classes": [],
       "_model_module": "@jupyter-widgets/controls",
       "_model_module_version": "1.5.0",
       "_model_name": "FloatProgressModel",
       "_view_count": null,
       "_view_module": "@jupyter-widgets/controls",
       "_view_module_version": "1.5.0",
       "_view_name": "ProgressView",
       "bar_style": "success",
       "description": "",
       "description_tooltip": null,
       "layout": "IPY_MODEL_59f625db322148d2a8102ecc50b5be55",
       "max": 1109918449.0,
       "min": 0.0,
       "orientation": "horizontal",
       "style": "IPY_MODEL_c9e6f8b173d84f538cc21149907bf0b4",
       "value": 1109918449.0
      }
     },
     "6408e8ca003644979d44c19bdf82db14": {
      "model_module": "@jupyter-widgets/base",
      "model_module_version": "1.2.0",
      "model_name": "LayoutModel",
      "state": {
       "_model_module": "@jupyter-widgets/base",
       "_model_module_version": "1.2.0",
       "_model_name": "LayoutModel",
       "_view_count": null,
       "_view_module": "@jupyter-widgets/base",
       "_view_module_version": "1.2.0",
       "_view_name": "LayoutView",
       "align_content": null,
       "align_items": null,
       "align_self": null,
       "border": null,
       "bottom": null,
       "display": null,
       "flex": null,
       "flex_flow": null,
       "grid_area": null,
       "grid_auto_columns": null,
       "grid_auto_flow": null,
       "grid_auto_rows": null,
       "grid_column": null,
       "grid_gap": null,
       "grid_row": null,
       "grid_template_areas": null,
       "grid_template_columns": null,
       "grid_template_rows": null,
       "height": null,
       "justify_content": null,
       "justify_items": null,
       "left": null,
       "margin": null,
       "max_height": null,
       "max_width": null,
       "min_height": null,
       "min_width": null,
       "object_fit": null,
       "object_position": null,
       "order": null,
       "overflow": null,
       "overflow_x": null,
       "overflow_y": null,
       "padding": null,
       "right": null,
       "top": null,
       "visibility": null,
       "width": null
      }
     },
     "667dfdbef7be4a62b86f1028d707d645": {
      "model_module": "@jupyter-widgets/controls",
      "model_module_version": "1.5.0",
      "model_name": "DescriptionStyleModel",
      "state": {
       "_model_module": "@jupyter-widgets/controls",
       "_model_module_version": "1.5.0",
       "_model_name": "DescriptionStyleModel",
       "_view_count": null,
       "_view_module": "@jupyter-widgets/base",
       "_view_module_version": "1.2.0",
       "_view_name": "StyleView",
       "description_width": ""
      }
     },
     "67afab13cada49a7926f3a6205251046": {
      "model_module": "@jupyter-widgets/controls",
      "model_module_version": "1.5.0",
      "model_name": "HTMLModel",
      "state": {
       "_dom_classes": [],
       "_model_module": "@jupyter-widgets/controls",
       "_model_module_version": "1.5.0",
       "_model_name": "HTMLModel",
       "_view_count": null,
       "_view_module": "@jupyter-widgets/controls",
       "_view_module_version": "1.5.0",
       "_view_name": "HTMLView",
       "description": "",
       "description_tooltip": null,
       "layout": "IPY_MODEL_9a5a8cc4eba94ef7a287d2d31f1b72fc",
       "placeholder": "​",
       "style": "IPY_MODEL_e2ad30a260bf48e7813badbf5259a729",
       "value": " 16.3M/16.3M [00:03&lt;00:00, 9.67MB/s]"
      }
     },
     "69d7acb3c44844009afb08b6143a05b7": {
      "model_module": "@jupyter-widgets/controls",
      "model_module_version": "1.5.0",
      "model_name": "HTMLModel",
      "state": {
       "_dom_classes": [],
       "_model_module": "@jupyter-widgets/controls",
       "_model_module_version": "1.5.0",
       "_model_name": "HTMLModel",
       "_view_count": null,
       "_view_module": "@jupyter-widgets/controls",
       "_view_module_version": "1.5.0",
       "_view_name": "HTMLView",
       "description": "",
       "description_tooltip": null,
       "layout": "IPY_MODEL_e6abad6eb8dd405297c1b4da3a940e0e",
       "placeholder": "​",
       "style": "IPY_MODEL_7d09590c97c0433099aa179b1a60106d",
       "value": "Downloading: 100%"
      }
     },
     "6a59ffa516ba462296242f25f850df77": {
      "model_module": "@jupyter-widgets/base",
      "model_module_version": "1.2.0",
      "model_name": "LayoutModel",
      "state": {
       "_model_module": "@jupyter-widgets/base",
       "_model_module_version": "1.2.0",
       "_model_name": "LayoutModel",
       "_view_count": null,
       "_view_module": "@jupyter-widgets/base",
       "_view_module_version": "1.2.0",
       "_view_name": "LayoutView",
       "align_content": null,
       "align_items": null,
       "align_self": null,
       "border": null,
       "bottom": null,
       "display": null,
       "flex": null,
       "flex_flow": null,
       "grid_area": null,
       "grid_auto_columns": null,
       "grid_auto_flow": null,
       "grid_auto_rows": null,
       "grid_column": null,
       "grid_gap": null,
       "grid_row": null,
       "grid_template_areas": null,
       "grid_template_columns": null,
       "grid_template_rows": null,
       "height": null,
       "justify_content": null,
       "justify_items": null,
       "left": null,
       "margin": null,
       "max_height": null,
       "max_width": null,
       "min_height": null,
       "min_width": null,
       "object_fit": null,
       "object_position": null,
       "order": null,
       "overflow": null,
       "overflow_x": null,
       "overflow_y": null,
       "padding": null,
       "right": null,
       "top": null,
       "visibility": null,
       "width": null
      }
     },
     "6b4e7f5b056d4f4088e1e3c7786070a5": {
      "model_module": "@jupyter-widgets/controls",
      "model_module_version": "1.5.0",
      "model_name": "HTMLModel",
      "state": {
       "_dom_classes": [],
       "_model_module": "@jupyter-widgets/controls",
       "_model_module_version": "1.5.0",
       "_model_name": "HTMLModel",
       "_view_count": null,
       "_view_module": "@jupyter-widgets/controls",
       "_view_module_version": "1.5.0",
       "_view_name": "HTMLView",
       "description": "",
       "description_tooltip": null,
       "layout": "IPY_MODEL_b510082a325e4938a81739aa7280d44c",
       "placeholder": "​",
       "style": "IPY_MODEL_a1f9eed27bc94cf4939b1c6b74667fed",
       "value": " 4.83M/4.83M [00:01&lt;00:00, 4.31MB/s]"
      }
     },
     "6b5704478fe644c29ce71d40c104fcc2": {
      "model_module": "@jupyter-widgets/controls",
      "model_module_version": "1.5.0",
      "model_name": "HBoxModel",
      "state": {
       "_dom_classes": [],
       "_model_module": "@jupyter-widgets/controls",
       "_model_module_version": "1.5.0",
       "_model_name": "HBoxModel",
       "_view_count": null,
       "_view_module": "@jupyter-widgets/controls",
       "_view_module_version": "1.5.0",
       "_view_name": "HBoxView",
       "box_style": "",
       "children": [
        "IPY_MODEL_2259e25cf9c7474c952a977d93ff4dbf",
        "IPY_MODEL_b56e0975329842c69d2d6e5f69fab7c6",
        "IPY_MODEL_f8019993f7e5451eb53a90abf6df50b2"
       ],
       "layout": "IPY_MODEL_2e59aa2bbf1547b4ae58af9aac18f6da"
      }
     },
     "6bc07064943d4472ac31429414bad1ff": {
      "model_module": "@jupyter-widgets/base",
      "model_module_version": "1.2.0",
      "model_name": "LayoutModel",
      "state": {
       "_model_module": "@jupyter-widgets/base",
       "_model_module_version": "1.2.0",
       "_model_name": "LayoutModel",
       "_view_count": null,
       "_view_module": "@jupyter-widgets/base",
       "_view_module_version": "1.2.0",
       "_view_name": "LayoutView",
       "align_content": null,
       "align_items": null,
       "align_self": null,
       "border": null,
       "bottom": null,
       "display": null,
       "flex": null,
       "flex_flow": null,
       "grid_area": null,
       "grid_auto_columns": null,
       "grid_auto_flow": null,
       "grid_auto_rows": null,
       "grid_column": null,
       "grid_gap": null,
       "grid_row": null,
       "grid_template_areas": null,
       "grid_template_columns": null,
       "grid_template_rows": null,
       "height": null,
       "justify_content": null,
       "justify_items": null,
       "left": null,
       "margin": null,
       "max_height": null,
       "max_width": null,
       "min_height": null,
       "min_width": null,
       "object_fit": null,
       "object_position": null,
       "order": null,
       "overflow": null,
       "overflow_x": null,
       "overflow_y": null,
       "padding": null,
       "right": null,
       "top": null,
       "visibility": null,
       "width": null
      }
     },
     "6c07756eea4a4facae79a194b8b7d586": {
      "model_module": "@jupyter-widgets/controls",
      "model_module_version": "1.5.0",
      "model_name": "ProgressStyleModel",
      "state": {
       "_model_module": "@jupyter-widgets/controls",
       "_model_module_version": "1.5.0",
       "_model_name": "ProgressStyleModel",
       "_view_count": null,
       "_view_module": "@jupyter-widgets/base",
       "_view_module_version": "1.2.0",
       "_view_name": "StyleView",
       "bar_color": null,
       "description_width": ""
      }
     },
     "6c18851394ff44e691d44a37dc0e6b1e": {
      "model_module": "@jupyter-widgets/controls",
      "model_module_version": "1.5.0",
      "model_name": "HTMLModel",
      "state": {
       "_dom_classes": [],
       "_model_module": "@jupyter-widgets/controls",
       "_model_module_version": "1.5.0",
       "_model_name": "HTMLModel",
       "_view_count": null,
       "_view_module": "@jupyter-widgets/controls",
       "_view_module_version": "1.5.0",
       "_view_name": "HTMLView",
       "description": "",
       "description_tooltip": null,
       "layout": "IPY_MODEL_43b433c943b74d5a98fe97c80065a922",
       "placeholder": "​",
       "style": "IPY_MODEL_76ad36c239224dab8ac9f98c847b7230",
       "value": "Downloading: 100%"
      }
     },
     "6d87203620ba47c684ab2efa32a33fa7": {
      "model_module": "@jupyter-widgets/controls",
      "model_module_version": "1.5.0",
      "model_name": "DescriptionStyleModel",
      "state": {
       "_model_module": "@jupyter-widgets/controls",
       "_model_module_version": "1.5.0",
       "_model_name": "DescriptionStyleModel",
       "_view_count": null,
       "_view_module": "@jupyter-widgets/base",
       "_view_module_version": "1.2.0",
       "_view_name": "StyleView",
       "description_width": ""
      }
     },
     "6dacffa14081400a99be8853aa2ece10": {
      "model_module": "@jupyter-widgets/controls",
      "model_module_version": "1.5.0",
      "model_name": "DescriptionStyleModel",
      "state": {
       "_model_module": "@jupyter-widgets/controls",
       "_model_module_version": "1.5.0",
       "_model_name": "DescriptionStyleModel",
       "_view_count": null,
       "_view_module": "@jupyter-widgets/base",
       "_view_module_version": "1.2.0",
       "_view_name": "StyleView",
       "description_width": ""
      }
     },
     "6dd16744d3be4ff39985e204422b5acc": {
      "model_module": "@jupyter-widgets/base",
      "model_module_version": "1.2.0",
      "model_name": "LayoutModel",
      "state": {
       "_model_module": "@jupyter-widgets/base",
       "_model_module_version": "1.2.0",
       "_model_name": "LayoutModel",
       "_view_count": null,
       "_view_module": "@jupyter-widgets/base",
       "_view_module_version": "1.2.0",
       "_view_name": "LayoutView",
       "align_content": null,
       "align_items": null,
       "align_self": null,
       "border": null,
       "bottom": null,
       "display": null,
       "flex": null,
       "flex_flow": null,
       "grid_area": null,
       "grid_auto_columns": null,
       "grid_auto_flow": null,
       "grid_auto_rows": null,
       "grid_column": null,
       "grid_gap": null,
       "grid_row": null,
       "grid_template_areas": null,
       "grid_template_columns": null,
       "grid_template_rows": null,
       "height": null,
       "justify_content": null,
       "justify_items": null,
       "left": null,
       "margin": null,
       "max_height": null,
       "max_width": null,
       "min_height": null,
       "min_width": null,
       "object_fit": null,
       "object_position": null,
       "order": null,
       "overflow": null,
       "overflow_x": null,
       "overflow_y": null,
       "padding": null,
       "right": null,
       "top": null,
       "visibility": null,
       "width": null
      }
     },
     "6ec676eeb47048d1b78c47e1a2b112df": {
      "model_module": "@jupyter-widgets/base",
      "model_module_version": "1.2.0",
      "model_name": "LayoutModel",
      "state": {
       "_model_module": "@jupyter-widgets/base",
       "_model_module_version": "1.2.0",
       "_model_name": "LayoutModel",
       "_view_count": null,
       "_view_module": "@jupyter-widgets/base",
       "_view_module_version": "1.2.0",
       "_view_name": "LayoutView",
       "align_content": null,
       "align_items": null,
       "align_self": null,
       "border": null,
       "bottom": null,
       "display": null,
       "flex": null,
       "flex_flow": null,
       "grid_area": null,
       "grid_auto_columns": null,
       "grid_auto_flow": null,
       "grid_auto_rows": null,
       "grid_column": null,
       "grid_gap": null,
       "grid_row": null,
       "grid_template_areas": null,
       "grid_template_columns": null,
       "grid_template_rows": null,
       "height": null,
       "justify_content": null,
       "justify_items": null,
       "left": null,
       "margin": null,
       "max_height": null,
       "max_width": null,
       "min_height": null,
       "min_width": null,
       "object_fit": null,
       "object_position": null,
       "order": null,
       "overflow": null,
       "overflow_x": null,
       "overflow_y": null,
       "padding": null,
       "right": null,
       "top": null,
       "visibility": null,
       "width": null
      }
     },
     "6f29f8de548f45f591ac8f86ad0e8672": {
      "model_module": "@jupyter-widgets/controls",
      "model_module_version": "1.5.0",
      "model_name": "HBoxModel",
      "state": {
       "_dom_classes": [],
       "_model_module": "@jupyter-widgets/controls",
       "_model_module_version": "1.5.0",
       "_model_name": "HBoxModel",
       "_view_count": null,
       "_view_module": "@jupyter-widgets/controls",
       "_view_module_version": "1.5.0",
       "_view_name": "HBoxView",
       "box_style": "",
       "children": [
        "IPY_MODEL_03a7eb3388bf47e2aa3645e0ffc80fbd",
        "IPY_MODEL_bf7cec062978480cbda251ad30f9636e",
        "IPY_MODEL_29a0ca5f5794454f8f8610df8fc99d90"
       ],
       "layout": "IPY_MODEL_33270cb258474841839203cfd9b6f0c3"
      }
     },
     "70d6c88e298441358742ebc0b0a21b07": {
      "model_module": "@jupyter-widgets/controls",
      "model_module_version": "1.5.0",
      "model_name": "DescriptionStyleModel",
      "state": {
       "_model_module": "@jupyter-widgets/controls",
       "_model_module_version": "1.5.0",
       "_model_name": "DescriptionStyleModel",
       "_view_count": null,
       "_view_module": "@jupyter-widgets/base",
       "_view_module_version": "1.2.0",
       "_view_name": "StyleView",
       "description_width": ""
      }
     },
     "726aceb3b22a42cb886e35c2d9388095": {
      "model_module": "@jupyter-widgets/controls",
      "model_module_version": "1.5.0",
      "model_name": "HBoxModel",
      "state": {
       "_dom_classes": [],
       "_model_module": "@jupyter-widgets/controls",
       "_model_module_version": "1.5.0",
       "_model_name": "HBoxModel",
       "_view_count": null,
       "_view_module": "@jupyter-widgets/controls",
       "_view_module_version": "1.5.0",
       "_view_name": "HBoxView",
       "box_style": "",
       "children": [
        "IPY_MODEL_2bf0548e32fd4055a77ab13609fa96bb",
        "IPY_MODEL_ff022a033c74433bb7bc9405f2d49895",
        "IPY_MODEL_e4d492d6d37c436e84588d5c0b2a22c8"
       ],
       "layout": "IPY_MODEL_6bc07064943d4472ac31429414bad1ff"
      }
     },
     "727e66fc34d648859cf6dee8ba6c1361": {
      "model_module": "@jupyter-widgets/controls",
      "model_module_version": "1.5.0",
      "model_name": "ProgressStyleModel",
      "state": {
       "_model_module": "@jupyter-widgets/controls",
       "_model_module_version": "1.5.0",
       "_model_name": "ProgressStyleModel",
       "_view_count": null,
       "_view_module": "@jupyter-widgets/base",
       "_view_module_version": "1.2.0",
       "_view_name": "StyleView",
       "bar_color": null,
       "description_width": ""
      }
     },
     "76ad36c239224dab8ac9f98c847b7230": {
      "model_module": "@jupyter-widgets/controls",
      "model_module_version": "1.5.0",
      "model_name": "DescriptionStyleModel",
      "state": {
       "_model_module": "@jupyter-widgets/controls",
       "_model_module_version": "1.5.0",
       "_model_name": "DescriptionStyleModel",
       "_view_count": null,
       "_view_module": "@jupyter-widgets/base",
       "_view_module_version": "1.2.0",
       "_view_name": "StyleView",
       "description_width": ""
      }
     },
     "7c6008cc879b4fe8b819a0b1eac449e0": {
      "model_module": "@jupyter-widgets/controls",
      "model_module_version": "1.5.0",
      "model_name": "HTMLModel",
      "state": {
       "_dom_classes": [],
       "_model_module": "@jupyter-widgets/controls",
       "_model_module_version": "1.5.0",
       "_model_name": "HTMLModel",
       "_view_count": null,
       "_view_module": "@jupyter-widgets/controls",
       "_view_module_version": "1.5.0",
       "_view_name": "HTMLView",
       "description": "",
       "description_tooltip": null,
       "layout": "IPY_MODEL_b2eb2f062a9d427aa613b9596e22c333",
       "placeholder": "​",
       "style": "IPY_MODEL_3b6de64f23304175a16a26510a38127d",
       "value": "Downloading: 100%"
      }
     },
     "7d09590c97c0433099aa179b1a60106d": {
      "model_module": "@jupyter-widgets/controls",
      "model_module_version": "1.5.0",
      "model_name": "DescriptionStyleModel",
      "state": {
       "_model_module": "@jupyter-widgets/controls",
       "_model_module_version": "1.5.0",
       "_model_name": "DescriptionStyleModel",
       "_view_count": null,
       "_view_module": "@jupyter-widgets/base",
       "_view_module_version": "1.2.0",
       "_view_name": "StyleView",
       "description_width": ""
      }
     },
     "827300963ba5441f98e4ea6ba8d232b2": {
      "model_module": "@jupyter-widgets/base",
      "model_module_version": "1.2.0",
      "model_name": "LayoutModel",
      "state": {
       "_model_module": "@jupyter-widgets/base",
       "_model_module_version": "1.2.0",
       "_model_name": "LayoutModel",
       "_view_count": null,
       "_view_module": "@jupyter-widgets/base",
       "_view_module_version": "1.2.0",
       "_view_name": "LayoutView",
       "align_content": null,
       "align_items": null,
       "align_self": null,
       "border": null,
       "bottom": null,
       "display": null,
       "flex": null,
       "flex_flow": null,
       "grid_area": null,
       "grid_auto_columns": null,
       "grid_auto_flow": null,
       "grid_auto_rows": null,
       "grid_column": null,
       "grid_gap": null,
       "grid_row": null,
       "grid_template_areas": null,
       "grid_template_columns": null,
       "grid_template_rows": null,
       "height": null,
       "justify_content": null,
       "justify_items": null,
       "left": null,
       "margin": null,
       "max_height": null,
       "max_width": null,
       "min_height": null,
       "min_width": null,
       "object_fit": null,
       "object_position": null,
       "order": null,
       "overflow": null,
       "overflow_x": null,
       "overflow_y": null,
       "padding": null,
       "right": null,
       "top": null,
       "visibility": null,
       "width": null
      }
     },
     "8f00d59037f147388eb2d54dc5012261": {
      "model_module": "@jupyter-widgets/base",
      "model_module_version": "1.2.0",
      "model_name": "LayoutModel",
      "state": {
       "_model_module": "@jupyter-widgets/base",
       "_model_module_version": "1.2.0",
       "_model_name": "LayoutModel",
       "_view_count": null,
       "_view_module": "@jupyter-widgets/base",
       "_view_module_version": "1.2.0",
       "_view_name": "LayoutView",
       "align_content": null,
       "align_items": null,
       "align_self": null,
       "border": null,
       "bottom": null,
       "display": null,
       "flex": null,
       "flex_flow": null,
       "grid_area": null,
       "grid_auto_columns": null,
       "grid_auto_flow": null,
       "grid_auto_rows": null,
       "grid_column": null,
       "grid_gap": null,
       "grid_row": null,
       "grid_template_areas": null,
       "grid_template_columns": null,
       "grid_template_rows": null,
       "height": null,
       "justify_content": null,
       "justify_items": null,
       "left": null,
       "margin": null,
       "max_height": null,
       "max_width": null,
       "min_height": null,
       "min_width": null,
       "object_fit": null,
       "object_position": null,
       "order": null,
       "overflow": null,
       "overflow_x": null,
       "overflow_y": null,
       "padding": null,
       "right": null,
       "top": null,
       "visibility": null,
       "width": null
      }
     },
     "913b43b2d7a64875a8adc5ee8d2b0c79": {
      "model_module": "@jupyter-widgets/base",
      "model_module_version": "1.2.0",
      "model_name": "LayoutModel",
      "state": {
       "_model_module": "@jupyter-widgets/base",
       "_model_module_version": "1.2.0",
       "_model_name": "LayoutModel",
       "_view_count": null,
       "_view_module": "@jupyter-widgets/base",
       "_view_module_version": "1.2.0",
       "_view_name": "LayoutView",
       "align_content": null,
       "align_items": null,
       "align_self": null,
       "border": null,
       "bottom": null,
       "display": null,
       "flex": null,
       "flex_flow": null,
       "grid_area": null,
       "grid_auto_columns": null,
       "grid_auto_flow": null,
       "grid_auto_rows": null,
       "grid_column": null,
       "grid_gap": null,
       "grid_row": null,
       "grid_template_areas": null,
       "grid_template_columns": null,
       "grid_template_rows": null,
       "height": null,
       "justify_content": null,
       "justify_items": null,
       "left": null,
       "margin": null,
       "max_height": null,
       "max_width": null,
       "min_height": null,
       "min_width": null,
       "object_fit": null,
       "object_position": null,
       "order": null,
       "overflow": null,
       "overflow_x": null,
       "overflow_y": null,
       "padding": null,
       "right": null,
       "top": null,
       "visibility": null,
       "width": null
      }
     },
     "95744fcd10fb472782d399f0b8c6beb7": {
      "model_module": "@jupyter-widgets/base",
      "model_module_version": "1.2.0",
      "model_name": "LayoutModel",
      "state": {
       "_model_module": "@jupyter-widgets/base",
       "_model_module_version": "1.2.0",
       "_model_name": "LayoutModel",
       "_view_count": null,
       "_view_module": "@jupyter-widgets/base",
       "_view_module_version": "1.2.0",
       "_view_name": "LayoutView",
       "align_content": null,
       "align_items": null,
       "align_self": null,
       "border": null,
       "bottom": null,
       "display": null,
       "flex": null,
       "flex_flow": null,
       "grid_area": null,
       "grid_auto_columns": null,
       "grid_auto_flow": null,
       "grid_auto_rows": null,
       "grid_column": null,
       "grid_gap": null,
       "grid_row": null,
       "grid_template_areas": null,
       "grid_template_columns": null,
       "grid_template_rows": null,
       "height": null,
       "justify_content": null,
       "justify_items": null,
       "left": null,
       "margin": null,
       "max_height": null,
       "max_width": null,
       "min_height": null,
       "min_width": null,
       "object_fit": null,
       "object_position": null,
       "order": null,
       "overflow": null,
       "overflow_x": null,
       "overflow_y": null,
       "padding": null,
       "right": null,
       "top": null,
       "visibility": null,
       "width": null
      }
     },
     "9783b1fd6fba43de9773989ccbc40fca": {
      "model_module": "@jupyter-widgets/controls",
      "model_module_version": "1.5.0",
      "model_name": "DescriptionStyleModel",
      "state": {
       "_model_module": "@jupyter-widgets/controls",
       "_model_module_version": "1.5.0",
       "_model_name": "DescriptionStyleModel",
       "_view_count": null,
       "_view_module": "@jupyter-widgets/base",
       "_view_module_version": "1.2.0",
       "_view_name": "StyleView",
       "description_width": ""
      }
     },
     "9a5a8cc4eba94ef7a287d2d31f1b72fc": {
      "model_module": "@jupyter-widgets/base",
      "model_module_version": "1.2.0",
      "model_name": "LayoutModel",
      "state": {
       "_model_module": "@jupyter-widgets/base",
       "_model_module_version": "1.2.0",
       "_model_name": "LayoutModel",
       "_view_count": null,
       "_view_module": "@jupyter-widgets/base",
       "_view_module_version": "1.2.0",
       "_view_name": "LayoutView",
       "align_content": null,
       "align_items": null,
       "align_self": null,
       "border": null,
       "bottom": null,
       "display": null,
       "flex": null,
       "flex_flow": null,
       "grid_area": null,
       "grid_auto_columns": null,
       "grid_auto_flow": null,
       "grid_auto_rows": null,
       "grid_column": null,
       "grid_gap": null,
       "grid_row": null,
       "grid_template_areas": null,
       "grid_template_columns": null,
       "grid_template_rows": null,
       "height": null,
       "justify_content": null,
       "justify_items": null,
       "left": null,
       "margin": null,
       "max_height": null,
       "max_width": null,
       "min_height": null,
       "min_width": null,
       "object_fit": null,
       "object_position": null,
       "order": null,
       "overflow": null,
       "overflow_x": null,
       "overflow_y": null,
       "padding": null,
       "right": null,
       "top": null,
       "visibility": null,
       "width": null
      }
     },
     "9be4dd045c8b49c190be5f8eabbe8e95": {
      "model_module": "@jupyter-widgets/controls",
      "model_module_version": "1.5.0",
      "model_name": "HTMLModel",
      "state": {
       "_dom_classes": [],
       "_model_module": "@jupyter-widgets/controls",
       "_model_module_version": "1.5.0",
       "_model_name": "HTMLModel",
       "_view_count": null,
       "_view_module": "@jupyter-widgets/controls",
       "_view_module_version": "1.5.0",
       "_view_name": "HTMLView",
       "description": "",
       "description_tooltip": null,
       "layout": "IPY_MODEL_6ec676eeb47048d1b78c47e1a2b112df",
       "placeholder": "​",
       "style": "IPY_MODEL_15dcdfcb237f4e57a7fe68c19060b4ac",
       "value": " 616/616 [00:00&lt;00:00, 20.4kB/s]"
      }
     },
     "a002c7f084374faf9df09af8270a886a": {
      "model_module": "@jupyter-widgets/controls",
      "model_module_version": "1.5.0",
      "model_name": "HTMLModel",
      "state": {
       "_dom_classes": [],
       "_model_module": "@jupyter-widgets/controls",
       "_model_module_version": "1.5.0",
       "_model_name": "HTMLModel",
       "_view_count": null,
       "_view_module": "@jupyter-widgets/controls",
       "_view_module_version": "1.5.0",
       "_view_name": "HTMLView",
       "description": "",
       "description_tooltip": null,
       "layout": "IPY_MODEL_aa3cdafac74d4e4f80229cce8b5a5e02",
       "placeholder": "​",
       "style": "IPY_MODEL_bbbd8ef89e3644c0acb8560a9d11d701",
       "value": " 1.03G/1.03G [00:37&lt;00:00, 32.7MB/s]"
      }
     },
     "a041b5b0bcf64037a61864f6a10721f6": {
      "model_module": "@jupyter-widgets/base",
      "model_module_version": "1.2.0",
      "model_name": "LayoutModel",
      "state": {
       "_model_module": "@jupyter-widgets/base",
       "_model_module_version": "1.2.0",
       "_model_name": "LayoutModel",
       "_view_count": null,
       "_view_module": "@jupyter-widgets/base",
       "_view_module_version": "1.2.0",
       "_view_name": "LayoutView",
       "align_content": null,
       "align_items": null,
       "align_self": null,
       "border": null,
       "bottom": null,
       "display": null,
       "flex": null,
       "flex_flow": null,
       "grid_area": null,
       "grid_auto_columns": null,
       "grid_auto_flow": null,
       "grid_auto_rows": null,
       "grid_column": null,
       "grid_gap": null,
       "grid_row": null,
       "grid_template_areas": null,
       "grid_template_columns": null,
       "grid_template_rows": null,
       "height": null,
       "justify_content": null,
       "justify_items": null,
       "left": null,
       "margin": null,
       "max_height": null,
       "max_width": null,
       "min_height": null,
       "min_width": null,
       "object_fit": null,
       "object_position": null,
       "order": null,
       "overflow": null,
       "overflow_x": null,
       "overflow_y": null,
       "padding": null,
       "right": null,
       "top": null,
       "visibility": null,
       "width": null
      }
     },
     "a1f9eed27bc94cf4939b1c6b74667fed": {
      "model_module": "@jupyter-widgets/controls",
      "model_module_version": "1.5.0",
      "model_name": "DescriptionStyleModel",
      "state": {
       "_model_module": "@jupyter-widgets/controls",
       "_model_module_version": "1.5.0",
       "_model_name": "DescriptionStyleModel",
       "_view_count": null,
       "_view_module": "@jupyter-widgets/base",
       "_view_module_version": "1.2.0",
       "_view_name": "StyleView",
       "description_width": ""
      }
     },
     "a2142972354a4f1287a882fb1a40c5b5": {
      "model_module": "@jupyter-widgets/controls",
      "model_module_version": "1.5.0",
      "model_name": "HBoxModel",
      "state": {
       "_dom_classes": [],
       "_model_module": "@jupyter-widgets/controls",
       "_model_module_version": "1.5.0",
       "_model_name": "HBoxModel",
       "_view_count": null,
       "_view_module": "@jupyter-widgets/controls",
       "_view_module_version": "1.5.0",
       "_view_name": "HBoxView",
       "box_style": "",
       "children": [
        "IPY_MODEL_6c18851394ff44e691d44a37dc0e6b1e",
        "IPY_MODEL_e942c6103e284fb89a0fb9f7bc4bd450",
        "IPY_MODEL_2b901670660848b78012717cf9562a72"
       ],
       "layout": "IPY_MODEL_02b40de7ee3f4e9aab6cca836ca9592e"
      }
     },
     "a50ca9baef5d42efb5a512e6c81b7f21": {
      "model_module": "@jupyter-widgets/base",
      "model_module_version": "1.2.0",
      "model_name": "LayoutModel",
      "state": {
       "_model_module": "@jupyter-widgets/base",
       "_model_module_version": "1.2.0",
       "_model_name": "LayoutModel",
       "_view_count": null,
       "_view_module": "@jupyter-widgets/base",
       "_view_module_version": "1.2.0",
       "_view_name": "LayoutView",
       "align_content": null,
       "align_items": null,
       "align_self": null,
       "border": null,
       "bottom": null,
       "display": null,
       "flex": null,
       "flex_flow": null,
       "grid_area": null,
       "grid_auto_columns": null,
       "grid_auto_flow": null,
       "grid_auto_rows": null,
       "grid_column": null,
       "grid_gap": null,
       "grid_row": null,
       "grid_template_areas": null,
       "grid_template_columns": null,
       "grid_template_rows": null,
       "height": null,
       "justify_content": null,
       "justify_items": null,
       "left": null,
       "margin": null,
       "max_height": null,
       "max_width": null,
       "min_height": null,
       "min_width": null,
       "object_fit": null,
       "object_position": null,
       "order": null,
       "overflow": null,
       "overflow_x": null,
       "overflow_y": null,
       "padding": null,
       "right": null,
       "top": null,
       "visibility": null,
       "width": null
      }
     },
     "aa3cdafac74d4e4f80229cce8b5a5e02": {
      "model_module": "@jupyter-widgets/base",
      "model_module_version": "1.2.0",
      "model_name": "LayoutModel",
      "state": {
       "_model_module": "@jupyter-widgets/base",
       "_model_module_version": "1.2.0",
       "_model_name": "LayoutModel",
       "_view_count": null,
       "_view_module": "@jupyter-widgets/base",
       "_view_module_version": "1.2.0",
       "_view_name": "LayoutView",
       "align_content": null,
       "align_items": null,
       "align_self": null,
       "border": null,
       "bottom": null,
       "display": null,
       "flex": null,
       "flex_flow": null,
       "grid_area": null,
       "grid_auto_columns": null,
       "grid_auto_flow": null,
       "grid_auto_rows": null,
       "grid_column": null,
       "grid_gap": null,
       "grid_row": null,
       "grid_template_areas": null,
       "grid_template_columns": null,
       "grid_template_rows": null,
       "height": null,
       "justify_content": null,
       "justify_items": null,
       "left": null,
       "margin": null,
       "max_height": null,
       "max_width": null,
       "min_height": null,
       "min_width": null,
       "object_fit": null,
       "object_position": null,
       "order": null,
       "overflow": null,
       "overflow_x": null,
       "overflow_y": null,
       "padding": null,
       "right": null,
       "top": null,
       "visibility": null,
       "width": null
      }
     },
     "ab4dfc87b3bd40a4bedd21ef70c4bf13": {
      "model_module": "@jupyter-widgets/controls",
      "model_module_version": "1.5.0",
      "model_name": "HBoxModel",
      "state": {
       "_dom_classes": [],
       "_model_module": "@jupyter-widgets/controls",
       "_model_module_version": "1.5.0",
       "_model_name": "HBoxModel",
       "_view_count": null,
       "_view_module": "@jupyter-widgets/controls",
       "_view_module_version": "1.5.0",
       "_view_name": "HBoxView",
       "box_style": "",
       "children": [
        "IPY_MODEL_7c6008cc879b4fe8b819a0b1eac449e0",
        "IPY_MODEL_5c347b70a4c246ae869996b586a5a446",
        "IPY_MODEL_a002c7f084374faf9df09af8270a886a"
       ],
       "layout": "IPY_MODEL_e2517e5edb704652a0c970dcbeb4e6f2"
      }
     },
     "ab99861dd23a44b48941e87f61a1696c": {
      "model_module": "@jupyter-widgets/base",
      "model_module_version": "1.2.0",
      "model_name": "LayoutModel",
      "state": {
       "_model_module": "@jupyter-widgets/base",
       "_model_module_version": "1.2.0",
       "_model_name": "LayoutModel",
       "_view_count": null,
       "_view_module": "@jupyter-widgets/base",
       "_view_module_version": "1.2.0",
       "_view_name": "LayoutView",
       "align_content": null,
       "align_items": null,
       "align_self": null,
       "border": null,
       "bottom": null,
       "display": null,
       "flex": null,
       "flex_flow": null,
       "grid_area": null,
       "grid_auto_columns": null,
       "grid_auto_flow": null,
       "grid_auto_rows": null,
       "grid_column": null,
       "grid_gap": null,
       "grid_row": null,
       "grid_template_areas": null,
       "grid_template_columns": null,
       "grid_template_rows": null,
       "height": null,
       "justify_content": null,
       "justify_items": null,
       "left": null,
       "margin": null,
       "max_height": null,
       "max_width": null,
       "min_height": null,
       "min_width": null,
       "object_fit": null,
       "object_position": null,
       "order": null,
       "overflow": null,
       "overflow_x": null,
       "overflow_y": null,
       "padding": null,
       "right": null,
       "top": null,
       "visibility": null,
       "width": null
      }
     },
     "b0db1511fbb745c190bcb205fbe1e92c": {
      "model_module": "@jupyter-widgets/controls",
      "model_module_version": "1.5.0",
      "model_name": "DescriptionStyleModel",
      "state": {
       "_model_module": "@jupyter-widgets/controls",
       "_model_module_version": "1.5.0",
       "_model_name": "DescriptionStyleModel",
       "_view_count": null,
       "_view_module": "@jupyter-widgets/base",
       "_view_module_version": "1.2.0",
       "_view_name": "StyleView",
       "description_width": ""
      }
     },
     "b2eb2f062a9d427aa613b9596e22c333": {
      "model_module": "@jupyter-widgets/base",
      "model_module_version": "1.2.0",
      "model_name": "LayoutModel",
      "state": {
       "_model_module": "@jupyter-widgets/base",
       "_model_module_version": "1.2.0",
       "_model_name": "LayoutModel",
       "_view_count": null,
       "_view_module": "@jupyter-widgets/base",
       "_view_module_version": "1.2.0",
       "_view_name": "LayoutView",
       "align_content": null,
       "align_items": null,
       "align_self": null,
       "border": null,
       "bottom": null,
       "display": null,
       "flex": null,
       "flex_flow": null,
       "grid_area": null,
       "grid_auto_columns": null,
       "grid_auto_flow": null,
       "grid_auto_rows": null,
       "grid_column": null,
       "grid_gap": null,
       "grid_row": null,
       "grid_template_areas": null,
       "grid_template_columns": null,
       "grid_template_rows": null,
       "height": null,
       "justify_content": null,
       "justify_items": null,
       "left": null,
       "margin": null,
       "max_height": null,
       "max_width": null,
       "min_height": null,
       "min_width": null,
       "object_fit": null,
       "object_position": null,
       "order": null,
       "overflow": null,
       "overflow_x": null,
       "overflow_y": null,
       "padding": null,
       "right": null,
       "top": null,
       "visibility": null,
       "width": null
      }
     },
     "b510082a325e4938a81739aa7280d44c": {
      "model_module": "@jupyter-widgets/base",
      "model_module_version": "1.2.0",
      "model_name": "LayoutModel",
      "state": {
       "_model_module": "@jupyter-widgets/base",
       "_model_module_version": "1.2.0",
       "_model_name": "LayoutModel",
       "_view_count": null,
       "_view_module": "@jupyter-widgets/base",
       "_view_module_version": "1.2.0",
       "_view_name": "LayoutView",
       "align_content": null,
       "align_items": null,
       "align_self": null,
       "border": null,
       "bottom": null,
       "display": null,
       "flex": null,
       "flex_flow": null,
       "grid_area": null,
       "grid_auto_columns": null,
       "grid_auto_flow": null,
       "grid_auto_rows": null,
       "grid_column": null,
       "grid_gap": null,
       "grid_row": null,
       "grid_template_areas": null,
       "grid_template_columns": null,
       "grid_template_rows": null,
       "height": null,
       "justify_content": null,
       "justify_items": null,
       "left": null,
       "margin": null,
       "max_height": null,
       "max_width": null,
       "min_height": null,
       "min_width": null,
       "object_fit": null,
       "object_position": null,
       "order": null,
       "overflow": null,
       "overflow_x": null,
       "overflow_y": null,
       "padding": null,
       "right": null,
       "top": null,
       "visibility": null,
       "width": null
      }
     },
     "b56e0975329842c69d2d6e5f69fab7c6": {
      "model_module": "@jupyter-widgets/controls",
      "model_module_version": "1.5.0",
      "model_name": "FloatProgressModel",
      "state": {
       "_dom_classes": [],
       "_model_module": "@jupyter-widgets/controls",
       "_model_module_version": "1.5.0",
       "_model_name": "FloatProgressModel",
       "_view_count": null,
       "_view_module": "@jupyter-widgets/controls",
       "_view_module_version": "1.5.0",
       "_view_name": "ProgressView",
       "bar_style": "success",
       "description": "",
       "description_tooltip": null,
       "layout": "IPY_MODEL_dc55176b7a3a46d89281c8239b5f05fb",
       "max": 5069051.0,
       "min": 0.0,
       "orientation": "horizontal",
       "style": "IPY_MODEL_5262d010c4154d76a433c66f293bad47",
       "value": 5069051.0
      }
     },
     "bbbd8ef89e3644c0acb8560a9d11d701": {
      "model_module": "@jupyter-widgets/controls",
      "model_module_version": "1.5.0",
      "model_name": "DescriptionStyleModel",
      "state": {
       "_model_module": "@jupyter-widgets/controls",
       "_model_module_version": "1.5.0",
       "_model_name": "DescriptionStyleModel",
       "_view_count": null,
       "_view_module": "@jupyter-widgets/base",
       "_view_module_version": "1.2.0",
       "_view_name": "StyleView",
       "description_width": ""
      }
     },
     "be822c431f9a4536b3b0e612200fe25b": {
      "model_module": "@jupyter-widgets/controls",
      "model_module_version": "1.5.0",
      "model_name": "FloatProgressModel",
      "state": {
       "_dom_classes": [],
       "_model_module": "@jupyter-widgets/controls",
       "_model_module_version": "1.5.0",
       "_model_name": "FloatProgressModel",
       "_view_count": null,
       "_view_module": "@jupyter-widgets/controls",
       "_view_module_version": "1.5.0",
       "_view_name": "ProgressView",
       "bar_style": "success",
       "description": "",
       "description_tooltip": null,
       "layout": "IPY_MODEL_913b43b2d7a64875a8adc5ee8d2b0c79",
       "max": 17082758.0,
       "min": 0.0,
       "orientation": "horizontal",
       "style": "IPY_MODEL_ee90b2cc8e524132bad0877982bb7ad5",
       "value": 17082758.0
      }
     },
     "bf7cec062978480cbda251ad30f9636e": {
      "model_module": "@jupyter-widgets/controls",
      "model_module_version": "1.5.0",
      "model_name": "FloatProgressModel",
      "state": {
       "_dom_classes": [],
       "_model_module": "@jupyter-widgets/controls",
       "_model_module_version": "1.5.0",
       "_model_name": "FloatProgressModel",
       "_view_count": null,
       "_view_module": "@jupyter-widgets/controls",
       "_view_module_version": "1.5.0",
       "_view_name": "ProgressView",
       "bar_style": "success",
       "description": "",
       "description_tooltip": null,
       "layout": "IPY_MODEL_11c6c69f3e9f4be4b7822fcfca57ac6f",
       "max": 2240097289.0,
       "min": 0.0,
       "orientation": "horizontal",
       "style": "IPY_MODEL_17321561e53e4df786f891052f29a422",
       "value": 2240097289.0
      }
     },
     "c0e4ba535c224b0f9afbe7073e7a4ff5": {
      "model_module": "@jupyter-widgets/controls",
      "model_module_version": "1.5.0",
      "model_name": "HTMLModel",
      "state": {
       "_dom_classes": [],
       "_model_module": "@jupyter-widgets/controls",
       "_model_module_version": "1.5.0",
       "_model_name": "HTMLModel",
       "_view_count": null,
       "_view_module": "@jupyter-widgets/controls",
       "_view_module_version": "1.5.0",
       "_view_name": "HTMLView",
       "description": "",
       "description_tooltip": null,
       "layout": "IPY_MODEL_827300963ba5441f98e4ea6ba8d232b2",
       "placeholder": "​",
       "style": "IPY_MODEL_3640e8e0f748401090372b5329c5b01a",
       "value": "Downloading: 100%"
      }
     },
     "c190d720fd3341b3adea70d038ea5b8c": {
      "model_module": "@jupyter-widgets/base",
      "model_module_version": "1.2.0",
      "model_name": "LayoutModel",
      "state": {
       "_model_module": "@jupyter-widgets/base",
       "_model_module_version": "1.2.0",
       "_model_name": "LayoutModel",
       "_view_count": null,
       "_view_module": "@jupyter-widgets/base",
       "_view_module_version": "1.2.0",
       "_view_name": "LayoutView",
       "align_content": null,
       "align_items": null,
       "align_self": null,
       "border": null,
       "bottom": null,
       "display": null,
       "flex": null,
       "flex_flow": null,
       "grid_area": null,
       "grid_auto_columns": null,
       "grid_auto_flow": null,
       "grid_auto_rows": null,
       "grid_column": null,
       "grid_gap": null,
       "grid_row": null,
       "grid_template_areas": null,
       "grid_template_columns": null,
       "grid_template_rows": null,
       "height": null,
       "justify_content": null,
       "justify_items": null,
       "left": null,
       "margin": null,
       "max_height": null,
       "max_width": null,
       "min_height": null,
       "min_width": null,
       "object_fit": null,
       "object_position": null,
       "order": null,
       "overflow": null,
       "overflow_x": null,
       "overflow_y": null,
       "padding": null,
       "right": null,
       "top": null,
       "visibility": null,
       "width": null
      }
     },
     "c9e6f8b173d84f538cc21149907bf0b4": {
      "model_module": "@jupyter-widgets/controls",
      "model_module_version": "1.5.0",
      "model_name": "ProgressStyleModel",
      "state": {
       "_model_module": "@jupyter-widgets/controls",
       "_model_module_version": "1.5.0",
       "_model_name": "ProgressStyleModel",
       "_view_count": null,
       "_view_module": "@jupyter-widgets/base",
       "_view_module_version": "1.2.0",
       "_view_name": "StyleView",
       "bar_color": null,
       "description_width": ""
      }
     },
     "cc2b9ce08d6a4c138669335cbf12520a": {
      "model_module": "@jupyter-widgets/controls",
      "model_module_version": "1.5.0",
      "model_name": "ProgressStyleModel",
      "state": {
       "_model_module": "@jupyter-widgets/controls",
       "_model_module_version": "1.5.0",
       "_model_name": "ProgressStyleModel",
       "_view_count": null,
       "_view_module": "@jupyter-widgets/base",
       "_view_module_version": "1.2.0",
       "_view_name": "StyleView",
       "bar_color": null,
       "description_width": ""
      }
     },
     "ceaba5aace454781b9f6d9224e0bed24": {
      "model_module": "@jupyter-widgets/controls",
      "model_module_version": "1.5.0",
      "model_name": "HBoxModel",
      "state": {
       "_dom_classes": [],
       "_model_module": "@jupyter-widgets/controls",
       "_model_module_version": "1.5.0",
       "_model_name": "HBoxModel",
       "_view_count": null,
       "_view_module": "@jupyter-widgets/controls",
       "_view_module_version": "1.5.0",
       "_view_name": "HBoxView",
       "box_style": "",
       "children": [
        "IPY_MODEL_69d7acb3c44844009afb08b6143a05b7",
        "IPY_MODEL_4dc3764d3aa8435ca14342948c9ae2ea",
        "IPY_MODEL_9be4dd045c8b49c190be5f8eabbe8e95"
       ],
       "layout": "IPY_MODEL_39284a1057be47f7b3e31fa1af16b4fa"
      }
     },
     "d416660573b84bbb9f57cda02291310d": {
      "model_module": "@jupyter-widgets/controls",
      "model_module_version": "1.5.0",
      "model_name": "ProgressStyleModel",
      "state": {
       "_model_module": "@jupyter-widgets/controls",
       "_model_module_version": "1.5.0",
       "_model_name": "ProgressStyleModel",
       "_view_count": null,
       "_view_module": "@jupyter-widgets/base",
       "_view_module_version": "1.2.0",
       "_view_name": "StyleView",
       "bar_color": null,
       "description_width": ""
      }
     },
     "d883186e98844a85bdb6f1bc747db6ab": {
      "model_module": "@jupyter-widgets/base",
      "model_module_version": "1.2.0",
      "model_name": "LayoutModel",
      "state": {
       "_model_module": "@jupyter-widgets/base",
       "_model_module_version": "1.2.0",
       "_model_name": "LayoutModel",
       "_view_count": null,
       "_view_module": "@jupyter-widgets/base",
       "_view_module_version": "1.2.0",
       "_view_name": "LayoutView",
       "align_content": null,
       "align_items": null,
       "align_self": null,
       "border": null,
       "bottom": null,
       "display": null,
       "flex": null,
       "flex_flow": null,
       "grid_area": null,
       "grid_auto_columns": null,
       "grid_auto_flow": null,
       "grid_auto_rows": null,
       "grid_column": null,
       "grid_gap": null,
       "grid_row": null,
       "grid_template_areas": null,
       "grid_template_columns": null,
       "grid_template_rows": null,
       "height": null,
       "justify_content": null,
       "justify_items": null,
       "left": null,
       "margin": null,
       "max_height": null,
       "max_width": null,
       "min_height": null,
       "min_width": null,
       "object_fit": null,
       "object_position": null,
       "order": null,
       "overflow": null,
       "overflow_x": null,
       "overflow_y": null,
       "padding": null,
       "right": null,
       "top": null,
       "visibility": null,
       "width": null
      }
     },
     "dbd8d67e3f5a4b2c82dc9e9d1d34eb7a": {
      "model_module": "@jupyter-widgets/controls",
      "model_module_version": "1.5.0",
      "model_name": "FloatProgressModel",
      "state": {
       "_dom_classes": [],
       "_model_module": "@jupyter-widgets/controls",
       "_model_module_version": "1.5.0",
       "_model_name": "FloatProgressModel",
       "_view_count": null,
       "_view_module": "@jupyter-widgets/controls",
       "_view_module_version": "1.5.0",
       "_view_name": "ProgressView",
       "bar_style": "success",
       "description": "",
       "description_tooltip": null,
       "layout": "IPY_MODEL_95744fcd10fb472782d399f0b8c6beb7",
       "max": 964.0,
       "min": 0.0,
       "orientation": "horizontal",
       "style": "IPY_MODEL_6c07756eea4a4facae79a194b8b7d586",
       "value": 964.0
      }
     },
     "dc55176b7a3a46d89281c8239b5f05fb": {
      "model_module": "@jupyter-widgets/base",
      "model_module_version": "1.2.0",
      "model_name": "LayoutModel",
      "state": {
       "_model_module": "@jupyter-widgets/base",
       "_model_module_version": "1.2.0",
       "_model_name": "LayoutModel",
       "_view_count": null,
       "_view_module": "@jupyter-widgets/base",
       "_view_module_version": "1.2.0",
       "_view_name": "LayoutView",
       "align_content": null,
       "align_items": null,
       "align_self": null,
       "border": null,
       "bottom": null,
       "display": null,
       "flex": null,
       "flex_flow": null,
       "grid_area": null,
       "grid_auto_columns": null,
       "grid_auto_flow": null,
       "grid_auto_rows": null,
       "grid_column": null,
       "grid_gap": null,
       "grid_row": null,
       "grid_template_areas": null,
       "grid_template_columns": null,
       "grid_template_rows": null,
       "height": null,
       "justify_content": null,
       "justify_items": null,
       "left": null,
       "margin": null,
       "max_height": null,
       "max_width": null,
       "min_height": null,
       "min_width": null,
       "object_fit": null,
       "object_position": null,
       "order": null,
       "overflow": null,
       "overflow_x": null,
       "overflow_y": null,
       "padding": null,
       "right": null,
       "top": null,
       "visibility": null,
       "width": null
      }
     },
     "de63ed094b814bf096fa4ceeefadb8dd": {
      "model_module": "@jupyter-widgets/base",
      "model_module_version": "1.2.0",
      "model_name": "LayoutModel",
      "state": {
       "_model_module": "@jupyter-widgets/base",
       "_model_module_version": "1.2.0",
       "_model_name": "LayoutModel",
       "_view_count": null,
       "_view_module": "@jupyter-widgets/base",
       "_view_module_version": "1.2.0",
       "_view_name": "LayoutView",
       "align_content": null,
       "align_items": null,
       "align_self": null,
       "border": null,
       "bottom": null,
       "display": null,
       "flex": null,
       "flex_flow": null,
       "grid_area": null,
       "grid_auto_columns": null,
       "grid_auto_flow": null,
       "grid_auto_rows": null,
       "grid_column": null,
       "grid_gap": null,
       "grid_row": null,
       "grid_template_areas": null,
       "grid_template_columns": null,
       "grid_template_rows": null,
       "height": null,
       "justify_content": null,
       "justify_items": null,
       "left": null,
       "margin": null,
       "max_height": null,
       "max_width": null,
       "min_height": null,
       "min_width": null,
       "object_fit": null,
       "object_position": null,
       "order": null,
       "overflow": null,
       "overflow_x": null,
       "overflow_y": null,
       "padding": null,
       "right": null,
       "top": null,
       "visibility": null,
       "width": null
      }
     },
     "e2517e5edb704652a0c970dcbeb4e6f2": {
      "model_module": "@jupyter-widgets/base",
      "model_module_version": "1.2.0",
      "model_name": "LayoutModel",
      "state": {
       "_model_module": "@jupyter-widgets/base",
       "_model_module_version": "1.2.0",
       "_model_name": "LayoutModel",
       "_view_count": null,
       "_view_module": "@jupyter-widgets/base",
       "_view_module_version": "1.2.0",
       "_view_name": "LayoutView",
       "align_content": null,
       "align_items": null,
       "align_self": null,
       "border": null,
       "bottom": null,
       "display": null,
       "flex": null,
       "flex_flow": null,
       "grid_area": null,
       "grid_auto_columns": null,
       "grid_auto_flow": null,
       "grid_auto_rows": null,
       "grid_column": null,
       "grid_gap": null,
       "grid_row": null,
       "grid_template_areas": null,
       "grid_template_columns": null,
       "grid_template_rows": null,
       "height": null,
       "justify_content": null,
       "justify_items": null,
       "left": null,
       "margin": null,
       "max_height": null,
       "max_width": null,
       "min_height": null,
       "min_width": null,
       "object_fit": null,
       "object_position": null,
       "order": null,
       "overflow": null,
       "overflow_x": null,
       "overflow_y": null,
       "padding": null,
       "right": null,
       "top": null,
       "visibility": null,
       "width": null
      }
     },
     "e2ad30a260bf48e7813badbf5259a729": {
      "model_module": "@jupyter-widgets/controls",
      "model_module_version": "1.5.0",
      "model_name": "DescriptionStyleModel",
      "state": {
       "_model_module": "@jupyter-widgets/controls",
       "_model_module_version": "1.5.0",
       "_model_name": "DescriptionStyleModel",
       "_view_count": null,
       "_view_module": "@jupyter-widgets/base",
       "_view_module_version": "1.2.0",
       "_view_name": "StyleView",
       "description_width": ""
      }
     },
     "e4d492d6d37c436e84588d5c0b2a22c8": {
      "model_module": "@jupyter-widgets/controls",
      "model_module_version": "1.5.0",
      "model_name": "HTMLModel",
      "state": {
       "_dom_classes": [],
       "_model_module": "@jupyter-widgets/controls",
       "_model_module_version": "1.5.0",
       "_model_name": "HTMLModel",
       "_view_count": null,
       "_view_module": "@jupyter-widgets/controls",
       "_view_module_version": "1.5.0",
       "_view_name": "HTMLView",
       "description": "",
       "description_tooltip": null,
       "layout": "IPY_MODEL_2976c87a3fba4a9fbf3e67d1ac6da7e1",
       "placeholder": "​",
       "style": "IPY_MODEL_ea59b4428a774dfebb77c0624b02b791",
       "value": " 398/398 [00:00&lt;00:00, 13.0kB/s]"
      }
     },
     "e56cc78b88d84b9d8d8a305200a94947": {
      "model_module": "@jupyter-widgets/controls",
      "model_module_version": "1.5.0",
      "model_name": "DescriptionStyleModel",
      "state": {
       "_model_module": "@jupyter-widgets/controls",
       "_model_module_version": "1.5.0",
       "_model_name": "DescriptionStyleModel",
       "_view_count": null,
       "_view_module": "@jupyter-widgets/base",
       "_view_module_version": "1.2.0",
       "_view_name": "StyleView",
       "description_width": ""
      }
     },
     "e6abad6eb8dd405297c1b4da3a940e0e": {
      "model_module": "@jupyter-widgets/base",
      "model_module_version": "1.2.0",
      "model_name": "LayoutModel",
      "state": {
       "_model_module": "@jupyter-widgets/base",
       "_model_module_version": "1.2.0",
       "_model_name": "LayoutModel",
       "_view_count": null,
       "_view_module": "@jupyter-widgets/base",
       "_view_module_version": "1.2.0",
       "_view_name": "LayoutView",
       "align_content": null,
       "align_items": null,
       "align_self": null,
       "border": null,
       "bottom": null,
       "display": null,
       "flex": null,
       "flex_flow": null,
       "grid_area": null,
       "grid_auto_columns": null,
       "grid_auto_flow": null,
       "grid_auto_rows": null,
       "grid_column": null,
       "grid_gap": null,
       "grid_row": null,
       "grid_template_areas": null,
       "grid_template_columns": null,
       "grid_template_rows": null,
       "height": null,
       "justify_content": null,
       "justify_items": null,
       "left": null,
       "margin": null,
       "max_height": null,
       "max_width": null,
       "min_height": null,
       "min_width": null,
       "object_fit": null,
       "object_position": null,
       "order": null,
       "overflow": null,
       "overflow_x": null,
       "overflow_y": null,
       "padding": null,
       "right": null,
       "top": null,
       "visibility": null,
       "width": null
      }
     },
     "e942c6103e284fb89a0fb9f7bc4bd450": {
      "model_module": "@jupyter-widgets/controls",
      "model_module_version": "1.5.0",
      "model_name": "FloatProgressModel",
      "state": {
       "_dom_classes": [],
       "_model_module": "@jupyter-widgets/controls",
       "_model_module_version": "1.5.0",
       "_model_name": "FloatProgressModel",
       "_view_count": null,
       "_view_module": "@jupyter-widgets/controls",
       "_view_module_version": "1.5.0",
       "_view_name": "ProgressView",
       "bar_style": "success",
       "description": "",
       "description_tooltip": null,
       "layout": "IPY_MODEL_11e9df3891d741eb8df7d669598c6814",
       "max": 9096718.0,
       "min": 0.0,
       "orientation": "horizontal",
       "style": "IPY_MODEL_cc2b9ce08d6a4c138669335cbf12520a",
       "value": 9096718.0
      }
     },
     "ea59b4428a774dfebb77c0624b02b791": {
      "model_module": "@jupyter-widgets/controls",
      "model_module_version": "1.5.0",
      "model_name": "DescriptionStyleModel",
      "state": {
       "_model_module": "@jupyter-widgets/controls",
       "_model_module_version": "1.5.0",
       "_model_name": "DescriptionStyleModel",
       "_view_count": null,
       "_view_module": "@jupyter-widgets/base",
       "_view_module_version": "1.2.0",
       "_view_name": "StyleView",
       "description_width": ""
      }
     },
     "ee90b2cc8e524132bad0877982bb7ad5": {
      "model_module": "@jupyter-widgets/controls",
      "model_module_version": "1.5.0",
      "model_name": "ProgressStyleModel",
      "state": {
       "_model_module": "@jupyter-widgets/controls",
       "_model_module_version": "1.5.0",
       "_model_name": "ProgressStyleModel",
       "_view_count": null,
       "_view_module": "@jupyter-widgets/base",
       "_view_module_version": "1.2.0",
       "_view_name": "StyleView",
       "bar_color": null,
       "description_width": ""
      }
     },
     "efe1069e850d4cc9a5b71e50cbd991ef": {
      "model_module": "@jupyter-widgets/base",
      "model_module_version": "1.2.0",
      "model_name": "LayoutModel",
      "state": {
       "_model_module": "@jupyter-widgets/base",
       "_model_module_version": "1.2.0",
       "_model_name": "LayoutModel",
       "_view_count": null,
       "_view_module": "@jupyter-widgets/base",
       "_view_module_version": "1.2.0",
       "_view_name": "LayoutView",
       "align_content": null,
       "align_items": null,
       "align_self": null,
       "border": null,
       "bottom": null,
       "display": null,
       "flex": null,
       "flex_flow": null,
       "grid_area": null,
       "grid_auto_columns": null,
       "grid_auto_flow": null,
       "grid_auto_rows": null,
       "grid_column": null,
       "grid_gap": null,
       "grid_row": null,
       "grid_template_areas": null,
       "grid_template_columns": null,
       "grid_template_rows": null,
       "height": null,
       "justify_content": null,
       "justify_items": null,
       "left": null,
       "margin": null,
       "max_height": null,
       "max_width": null,
       "min_height": null,
       "min_width": null,
       "object_fit": null,
       "object_position": null,
       "order": null,
       "overflow": null,
       "overflow_x": null,
       "overflow_y": null,
       "padding": null,
       "right": null,
       "top": null,
       "visibility": null,
       "width": null
      }
     },
     "f081c03db27c475c9700a21cd15913e8": {
      "model_module": "@jupyter-widgets/controls",
      "model_module_version": "1.5.0",
      "model_name": "ProgressStyleModel",
      "state": {
       "_model_module": "@jupyter-widgets/controls",
       "_model_module_version": "1.5.0",
       "_model_name": "ProgressStyleModel",
       "_view_count": null,
       "_view_module": "@jupyter-widgets/base",
       "_view_module_version": "1.2.0",
       "_view_name": "StyleView",
       "bar_color": null,
       "description_width": ""
      }
     },
     "f61b6b7101d54b2595e940cef622880e": {
      "model_module": "@jupyter-widgets/controls",
      "model_module_version": "1.5.0",
      "model_name": "HTMLModel",
      "state": {
       "_dom_classes": [],
       "_model_module": "@jupyter-widgets/controls",
       "_model_module_version": "1.5.0",
       "_model_name": "HTMLModel",
       "_view_count": null,
       "_view_module": "@jupyter-widgets/controls",
       "_view_module_version": "1.5.0",
       "_view_name": "HTMLView",
       "description": "",
       "description_tooltip": null,
       "layout": "IPY_MODEL_c190d720fd3341b3adea70d038ea5b8c",
       "placeholder": "​",
       "style": "IPY_MODEL_3cc8652708934d6da218fc8d4cbdc04f",
       "value": "Downloading: 100%"
      }
     },
     "f8019993f7e5451eb53a90abf6df50b2": {
      "model_module": "@jupyter-widgets/controls",
      "model_module_version": "1.5.0",
      "model_name": "HTMLModel",
      "state": {
       "_dom_classes": [],
       "_model_module": "@jupyter-widgets/controls",
       "_model_module_version": "1.5.0",
       "_model_name": "HTMLModel",
       "_view_count": null,
       "_view_module": "@jupyter-widgets/controls",
       "_view_module_version": "1.5.0",
       "_view_name": "HTMLView",
       "description": "",
       "description_tooltip": null,
       "layout": "IPY_MODEL_4ca96ae062bc4ccc8a58c9b80c677814",
       "placeholder": "​",
       "style": "IPY_MODEL_0195035ffb4243f2ae0e547ada6a0199",
       "value": " 4.83M/4.83M [00:00&lt;00:00, 24.6MB/s]"
      }
     },
     "fc44efa42da04336bc67143d255e3443": {
      "model_module": "@jupyter-widgets/controls",
      "model_module_version": "1.5.0",
      "model_name": "HBoxModel",
      "state": {
       "_dom_classes": [],
       "_model_module": "@jupyter-widgets/controls",
       "_model_module_version": "1.5.0",
       "_model_name": "HBoxModel",
       "_view_count": null,
       "_view_module": "@jupyter-widgets/controls",
       "_view_module_version": "1.5.0",
       "_view_name": "HBoxView",
       "box_style": "",
       "children": [
        "IPY_MODEL_35b0ac99a8c3416994cd74efd668e029",
        "IPY_MODEL_be822c431f9a4536b3b0e612200fe25b",
        "IPY_MODEL_67afab13cada49a7926f3a6205251046"
       ],
       "layout": "IPY_MODEL_8f00d59037f147388eb2d54dc5012261"
      }
     },
     "ff022a033c74433bb7bc9405f2d49895": {
      "model_module": "@jupyter-widgets/controls",
      "model_module_version": "1.5.0",
      "model_name": "FloatProgressModel",
      "state": {
       "_dom_classes": [],
       "_model_module": "@jupyter-widgets/controls",
       "_model_module_version": "1.5.0",
       "_model_name": "FloatProgressModel",
       "_view_count": null,
       "_view_module": "@jupyter-widgets/controls",
       "_view_module_version": "1.5.0",
       "_view_name": "ProgressView",
       "bar_style": "success",
       "description": "",
       "description_tooltip": null,
       "layout": "IPY_MODEL_d883186e98844a85bdb6f1bc747db6ab",
       "max": 398.0,
       "min": 0.0,
       "orientation": "horizontal",
       "style": "IPY_MODEL_d416660573b84bbb9f57cda02291310d",
       "value": 398.0
      }
     }
    },
    "version_major": 2,
    "version_minor": 0
   }
  }
 },
 "nbformat": 4,
 "nbformat_minor": 5
}
