{
 "cells": [
  {
   "cell_type": "code",
   "execution_count": 1,
   "id": "3fffc571",
   "metadata": {
    "_cell_guid": "b1076dfc-b9ad-4769-8c92-a6c4dae69d19",
    "_uuid": "8f2839f25d086af736a60e9eeb907d3b93b6e0e5",
    "execution": {
     "iopub.execute_input": "2022-06-03T13:24:02.424285Z",
     "iopub.status.busy": "2022-06-03T13:24:02.423579Z",
     "iopub.status.idle": "2022-06-03T13:24:11.134156Z",
     "shell.execute_reply": "2022-06-03T13:24:11.133184Z"
    },
    "papermill": {
     "duration": 8.733169,
     "end_time": "2022-06-03T13:24:11.136871",
     "exception": false,
     "start_time": "2022-06-03T13:24:02.403702",
     "status": "completed"
    },
    "tags": []
   },
   "outputs": [],
   "source": [
    "import numpy as np\n",
    "import pandas as pd \n",
    "import seaborn as sns\n",
    "import matplotlib.pyplot as plt \n",
    "import matplotlib.style as stl \n",
    "from tensorflow import keras \n",
    "from keras.preprocessing.text import Tokenizer\n",
    "from nltk.corpus import stopwords\n",
    "import string\n",
    "from tensorflow.keras.models import Sequential,Model\n",
    "from tensorflow.keras.layers import Dense, LSTM, Embedding,Dropout,SpatialDropout1D,Conv1D,MaxPooling1D,GRU,BatchNormalization\n",
    "import warnings\n",
    "warnings.filterwarnings('ignore')\n",
    "stl.use('ggplot')\n",
    "from tqdm import tqdm\n",
    "import string\n",
    "from nltk.corpus import stopwords\n",
    "from nltk.tokenize import word_tokenize\n",
    "from nltk.stem import WordNetLemmatizer\n",
    "from nltk.stem.snowball import SnowballStemmer\n",
    "import regex as re"
   ]
  },
  {
   "cell_type": "code",
   "execution_count": 2,
   "id": "4a2d24e1",
   "metadata": {
    "execution": {
     "iopub.execute_input": "2022-06-03T13:24:11.172431Z",
     "iopub.status.busy": "2022-06-03T13:24:11.171792Z",
     "iopub.status.idle": "2022-06-03T13:24:11.200352Z",
     "shell.execute_reply": "2022-06-03T13:24:11.199590Z"
    },
    "papermill": {
     "duration": 0.048824,
     "end_time": "2022-06-03T13:24:11.202657",
     "exception": false,
     "start_time": "2022-06-03T13:24:11.153833",
     "status": "completed"
    },
    "tags": []
   },
   "outputs": [],
   "source": [
    "data=pd.read_csv(\"../input/samplcsv/sample-2.csv\")"
   ]
  },
  {
   "cell_type": "code",
   "execution_count": 3,
   "id": "4460575f",
   "metadata": {
    "execution": {
     "iopub.execute_input": "2022-06-03T13:24:11.238211Z",
     "iopub.status.busy": "2022-06-03T13:24:11.237823Z",
     "iopub.status.idle": "2022-06-03T13:24:11.252232Z",
     "shell.execute_reply": "2022-06-03T13:24:11.251557Z"
    },
    "papermill": {
     "duration": 0.034939,
     "end_time": "2022-06-03T13:24:11.254894",
     "exception": false,
     "start_time": "2022-06-03T13:24:11.219955",
     "status": "completed"
    },
    "tags": []
   },
   "outputs": [
    {
     "data": {
      "text/plain": [
       "'[[image - eagle]]\\r\\nAMNESTY OATH.\\r\\n\\r\\nMississippi City Miss Sept 29 1865.\\r\\n\\r\\nI, J.W. Baxter, do solemnly swear, in presence of Almighty God, that I will henceforth faithfully support, protect and defend the Constitution of the United States and the union of the States thereunder; and that I will, in like manner, abide by and faithfully support all laws and proclamations which have been made during the existing rebellion with reference to the emancipation of slaves. SO HELP ME GOD.\\r\\nJ.W. Baxter\\r\\n\\r\\nSworn to and subscribed at Mississippi City\\r\\nthis 29th day of September 1865, before me\\r\\nJ. H. Mathews Capt 66th\\r\\nU.S Col Infty & Provost Marshal.  Sub port Miss\\r\\n\\r\\nDESCRIPTION:\\r\\nAge 24 years\\r\\nHeight 5ft 8 inches\\r\\nEyes Blue\\r\\nColor of Hair light\\r\\nCharacteristics [[blank]]\\r\\n\\r\\nHEADQUARTERS, Mississippi City Miss\\r\\nSept 29th 1865.\\r\\n\\r\\nI hereby certify, that the Amnesty Oath prescribed by the Proclamation of the President of the United States, was duly administered to J.W. Baxter of Harrison Co by my order, this 29th day of Sept 29 1865.\\r\\nFrank E. Miller\\r\\nMaj 66th USCI Commanding.\\r\\n\\r\\n\\r\\n[TRIPLICATE.]'"
      ]
     },
     "execution_count": 3,
     "metadata": {},
     "output_type": "execute_result"
    }
   ],
   "source": [
    "data[\"transcription_text\"][10]"
   ]
  },
  {
   "cell_type": "code",
   "execution_count": 4,
   "id": "ce1cc8a3",
   "metadata": {
    "execution": {
     "iopub.execute_input": "2022-06-03T13:24:11.290676Z",
     "iopub.status.busy": "2022-06-03T13:24:11.289980Z",
     "iopub.status.idle": "2022-06-03T13:24:11.296321Z",
     "shell.execute_reply": "2022-06-03T13:24:11.295427Z"
    },
    "papermill": {
     "duration": 0.026702,
     "end_time": "2022-06-03T13:24:11.298248",
     "exception": false,
     "start_time": "2022-06-03T13:24:11.271546",
     "status": "completed"
    },
    "tags": []
   },
   "outputs": [
    {
     "data": {
      "text/plain": [
       "'[[image - eagle]]\\r\\nAMNESTY OATH.\\r\\n\\r\\nMississippi City Miss Sept 29 1865.\\r\\n\\r\\nI, J.W. Baxter, do solemnly swear, in presence of Almighty God, that I will henceforth faithfully support, protect and defend the Constitution of the United States and the union of the States thereunder; and that I will, in like manner, abide by and faithfully support all laws and proclamations which have been made during the existing rebellion with reference to the emancipation of slaves. SO HELP ME GOD.\\r\\nJ.W. Baxter\\r\\n\\r\\nSworn to and subscribed at Mississippi City\\r\\nthis 29th day of September 1865, before me\\r\\nJ. H. Mathews Capt 66th\\r\\nU.S Col Infty & Provost Marshal.  Sub port Miss\\r\\n\\r\\nDESCRIPTION:\\r\\nAge 24 years\\r\\nHeight 5ft 8 inches\\r\\nEyes Blue\\r\\nColor of Hair light\\r\\nCharacteristics [[blank]]\\r\\n\\r\\nHEADQUARTERS, Mississippi City Miss\\r\\nSept 29th 1865.\\r\\n\\r\\nI hereby certify, that the Amnesty Oath prescribed by the Proclamation of the President of the United States, was duly administered to J.W. Baxter of Harrison Co by my order, this 29th day of Sept 29 1865.\\r\\nFrank E. Miller\\r\\nMaj 66th USCI Commanding.\\r\\n\\r\\n\\r\\n[TRIPLICATE.]'"
      ]
     },
     "execution_count": 4,
     "metadata": {},
     "output_type": "execute_result"
    }
   ],
   "source": [
    "data[\"transcription_text\"][10]"
   ]
  },
  {
   "cell_type": "code",
   "execution_count": 5,
   "id": "7e94b6fb",
   "metadata": {
    "execution": {
     "iopub.execute_input": "2022-06-03T13:24:11.333285Z",
     "iopub.status.busy": "2022-06-03T13:24:11.332593Z",
     "iopub.status.idle": "2022-06-03T13:24:11.339697Z",
     "shell.execute_reply": "2022-06-03T13:24:11.338825Z"
    },
    "papermill": {
     "duration": 0.026823,
     "end_time": "2022-06-03T13:24:11.341587",
     "exception": false,
     "start_time": "2022-06-03T13:24:11.314764",
     "status": "completed"
    },
    "tags": []
   },
   "outputs": [
    {
     "data": {
      "text/plain": [
       "'[[image - eagle]]\\r\\nAMNESTY OATH.\\r\\n\\r\\nMississippi City Miss Sept 29 1865.\\r\\n\\r\\nI, J.W. Baxter, do solemnly swear, in presence of Almighty God, that I will henceforth faithfully support, protect and defend the Constitution of the United States and the union of the States thereunder; and that I will, in like manner, abide by and faithfully support all laws and proclamations which have been made during the existing rebellion with reference to the emancipation of slaves. SO HELP ME GOD.\\r\\nJ.W. Baxter\\r\\n\\r\\nSworn to and subscribed at Mississippi City\\r\\nthis 29th day of September 1865, before me\\r\\nJ. H. Mathews Capt 66th\\r\\nU.S Col Infty & Provost Marshal.  Sub port Miss\\r\\n\\r\\nDESCRIPTION:\\r\\nAge 24 years\\r\\nHeight 5ft 8 inches\\r\\nEyes Blue\\r\\nColor of Hair light\\r\\nCharacteristics [[blank]]\\r\\n\\r\\nHEADQUARTERS, Mississippi City Miss\\r\\nSept 29th 1865.\\r\\n\\r\\nI hereby certify, that the Amnesty Oath prescribed by the Proclamation of the President of the United States, was duly administered to J.W. Baxter of Harrison Co by my order, this 29th day of Sept 29 1865.\\r\\nFrank E. Miller\\r\\nMaj 66th USCI Commanding.\\r\\n\\r\\n\\r\\n[TRIPLICATE.]'"
      ]
     },
     "execution_count": 5,
     "metadata": {},
     "output_type": "execute_result"
    }
   ],
   "source": [
    "txt=re.sub(r'^\\[\\w+\\]$',\"\",data[\"transcription_text\"][10])\n",
    "txt"
   ]
  },
  {
   "cell_type": "code",
   "execution_count": null,
   "id": "0d89c2b4",
   "metadata": {
    "papermill": {
     "duration": 0.016426,
     "end_time": "2022-06-03T13:24:11.374590",
     "exception": false,
     "start_time": "2022-06-03T13:24:11.358164",
     "status": "completed"
    },
    "tags": []
   },
   "outputs": [],
   "source": []
  },
  {
   "cell_type": "markdown",
   "id": "4af7ca3c",
   "metadata": {
    "papermill": {
     "duration": 0.016343,
     "end_time": "2022-06-03T13:24:11.407770",
     "exception": false,
     "start_time": "2022-06-03T13:24:11.391427",
     "status": "completed"
    },
    "tags": []
   },
   "source": [
    "# Preprocessing"
   ]
  },
  {
   "cell_type": "code",
   "execution_count": 6,
   "id": "504b75e4",
   "metadata": {
    "execution": {
     "iopub.execute_input": "2022-06-03T13:24:11.443404Z",
     "iopub.status.busy": "2022-06-03T13:24:11.442727Z",
     "iopub.status.idle": "2022-06-03T13:24:11.447070Z",
     "shell.execute_reply": "2022-06-03T13:24:11.446432Z"
    },
    "papermill": {
     "duration": 0.024294,
     "end_time": "2022-06-03T13:24:11.448959",
     "exception": false,
     "start_time": "2022-06-03T13:24:11.424665",
     "status": "completed"
    },
    "tags": []
   },
   "outputs": [],
   "source": [
    "text=data[\"transcription_text\"]"
   ]
  },
  {
   "cell_type": "code",
   "execution_count": 7,
   "id": "2d262911",
   "metadata": {
    "execution": {
     "iopub.execute_input": "2022-06-03T13:24:11.484340Z",
     "iopub.status.busy": "2022-06-03T13:24:11.483659Z",
     "iopub.status.idle": "2022-06-03T13:24:11.496752Z",
     "shell.execute_reply": "2022-06-03T13:24:11.495895Z"
    },
    "papermill": {
     "duration": 0.033524,
     "end_time": "2022-06-03T13:24:11.499048",
     "exception": false,
     "start_time": "2022-06-03T13:24:11.465524",
     "status": "completed"
    },
    "tags": []
   },
   "outputs": [],
   "source": [
    "stop_words = set(stopwords.words('english'))\n",
    "punctuation = string.punctuation\n",
    "stemmer = SnowballStemmer(language=\"english\")\n",
    "lemmatizer = WordNetLemmatizer()"
   ]
  },
  {
   "cell_type": "code",
   "execution_count": 8,
   "id": "5decc88a",
   "metadata": {
    "execution": {
     "iopub.execute_input": "2022-06-03T13:24:11.534294Z",
     "iopub.status.busy": "2022-06-03T13:24:11.533907Z",
     "iopub.status.idle": "2022-06-03T13:24:11.539888Z",
     "shell.execute_reply": "2022-06-03T13:24:11.538945Z"
    },
    "papermill": {
     "duration": 0.026372,
     "end_time": "2022-06-03T13:24:11.542251",
     "exception": false,
     "start_time": "2022-06-03T13:24:11.515879",
     "status": "completed"
    },
    "tags": []
   },
   "outputs": [
    {
     "data": {
      "text/plain": [
       "'!\"#$%&\\'()*+,-./:;<=>?@[\\\\]^_`{|}~'"
      ]
     },
     "execution_count": 8,
     "metadata": {},
     "output_type": "execute_result"
    }
   ],
   "source": [
    "stop_words.remove(\"of\")\n",
    "punctuation"
   ]
  },
  {
   "cell_type": "code",
   "execution_count": 9,
   "id": "ecc03989",
   "metadata": {
    "execution": {
     "iopub.execute_input": "2022-06-03T13:24:11.577925Z",
     "iopub.status.busy": "2022-06-03T13:24:11.577546Z",
     "iopub.status.idle": "2022-06-03T13:24:11.582727Z",
     "shell.execute_reply": "2022-06-03T13:24:11.582002Z"
    },
    "papermill": {
     "duration": 0.025191,
     "end_time": "2022-06-03T13:24:11.584503",
     "exception": false,
     "start_time": "2022-06-03T13:24:11.559312",
     "status": "completed"
    },
    "tags": []
   },
   "outputs": [],
   "source": [
    "def process(s):\n",
    "    for p in punctuation:\n",
    "        s = s.replace(p, '')\n",
    "    s = word_tokenize(s)\n",
    "    s = [w for w in s if not w in stop_words] #optional\n",
    "    s = [lemmatizer.lemmatize(word) for word in s]\n",
    "    return s"
   ]
  },
  {
   "cell_type": "code",
   "execution_count": 10,
   "id": "03b32857",
   "metadata": {
    "execution": {
     "iopub.execute_input": "2022-06-03T13:24:11.620297Z",
     "iopub.status.busy": "2022-06-03T13:24:11.619366Z",
     "iopub.status.idle": "2022-06-03T13:24:13.855394Z",
     "shell.execute_reply": "2022-06-03T13:24:13.854261Z"
    },
    "papermill": {
     "duration": 2.257515,
     "end_time": "2022-06-03T13:24:13.858950",
     "exception": false,
     "start_time": "2022-06-03T13:24:11.601435",
     "status": "completed"
    },
    "tags": []
   },
   "outputs": [
    {
     "name": "stderr",
     "output_type": "stream",
     "text": [
      "100%|██████████| 20/20 [00:02<00:00,  8.99it/s]\n"
     ]
    }
   ],
   "source": [
    "for i in tqdm(range(data.shape[0])):\n",
    "    text[i] = process(text[i])"
   ]
  },
  {
   "cell_type": "code",
   "execution_count": 11,
   "id": "9d6d5567",
   "metadata": {
    "execution": {
     "iopub.execute_input": "2022-06-03T13:24:13.896653Z",
     "iopub.status.busy": "2022-06-03T13:24:13.896242Z",
     "iopub.status.idle": "2022-06-03T13:24:13.913809Z",
     "shell.execute_reply": "2022-06-03T13:24:13.912648Z"
    },
    "papermill": {
     "duration": 0.039251,
     "end_time": "2022-06-03T13:24:13.916982",
     "exception": false,
     "start_time": "2022-06-03T13:24:13.877731",
     "status": "completed"
    },
    "tags": []
   },
   "outputs": [
    {
     "name": "stderr",
     "output_type": "stream",
     "text": [
      "100%|██████████| 20/20 [00:00<00:00, 2210.61it/s]\n"
     ]
    }
   ],
   "source": [
    "for i in tqdm(range(data.shape[0])):\n",
    "    text[i] = \" \".join(text[i])"
   ]
  },
  {
   "cell_type": "code",
   "execution_count": 12,
   "id": "67167010",
   "metadata": {
    "execution": {
     "iopub.execute_input": "2022-06-03T13:24:13.954831Z",
     "iopub.status.busy": "2022-06-03T13:24:13.954404Z",
     "iopub.status.idle": "2022-06-03T13:24:13.960794Z",
     "shell.execute_reply": "2022-06-03T13:24:13.959908Z"
    },
    "papermill": {
     "duration": 0.027161,
     "end_time": "2022-06-03T13:24:13.962810",
     "exception": false,
     "start_time": "2022-06-03T13:24:13.935649",
     "status": "completed"
    },
    "tags": []
   },
   "outputs": [
    {
     "data": {
      "text/plain": [
       "'8 E encl I Anne H Elliott widow solemnly swear I read Amnesty proclamation issued Andrew Johnson President of United States of America May 29th 1865 I excepted benefit of proclamation one of fourteen exception therein made Sworn subscribed 27th day of Novb 1865 S Wilde Durson Magt DD AHE image 2 cent revenue stamp Anne H Elliott United States of America I Anne H Elliott of District of Beaufort State of South Carolina solemnly swear presence of Almighty God I henceforth faithfully support defend Constitution of United States Union of States thereunder I like manner abide faithfully support law proclamation made existing Rebellion reference Emancipation of Slaves So help God Sworn subscribed 27th day of Novbr 1865 Magistrate S Wilde Durson AHE AHE AHE image 3 revenue stamp Anne H Elliott The named fair complexion grey hair Hazel eye 5 foot 3 inch high aged 63 year profession planter widow S Wilde Durson Magtr'"
      ]
     },
     "execution_count": 12,
     "metadata": {},
     "output_type": "execute_result"
    }
   ],
   "source": [
    "text[0]"
   ]
  },
  {
   "cell_type": "markdown",
   "id": "18e4ee16",
   "metadata": {
    "papermill": {
     "duration": 0.017548,
     "end_time": "2022-06-03T13:24:13.998202",
     "exception": false,
     "start_time": "2022-06-03T13:24:13.980654",
     "status": "completed"
    },
    "tags": []
   },
   "source": [
    "# spacy"
   ]
  },
  {
   "cell_type": "code",
   "execution_count": 13,
   "id": "dd5f6414",
   "metadata": {
    "execution": {
     "iopub.execute_input": "2022-06-03T13:24:14.041818Z",
     "iopub.status.busy": "2022-06-03T13:24:14.041435Z",
     "iopub.status.idle": "2022-06-03T13:24:20.157168Z",
     "shell.execute_reply": "2022-06-03T13:24:20.156175Z"
    },
    "papermill": {
     "duration": 6.14115,
     "end_time": "2022-06-03T13:24:20.159764",
     "exception": false,
     "start_time": "2022-06-03T13:24:14.018614",
     "status": "completed"
    },
    "tags": []
   },
   "outputs": [],
   "source": [
    "import spacy\n",
    "from spacy import displacy\n",
    "from collections import Counter\n",
    "import en_core_web_sm\n",
    "nlp = en_core_web_sm.load()"
   ]
  },
  {
   "cell_type": "code",
   "execution_count": 14,
   "id": "5d1e7062",
   "metadata": {
    "execution": {
     "iopub.execute_input": "2022-06-03T13:24:20.197190Z",
     "iopub.status.busy": "2022-06-03T13:24:20.196795Z",
     "iopub.status.idle": "2022-06-03T13:24:20.719526Z",
     "shell.execute_reply": "2022-06-03T13:24:20.718512Z"
    },
    "papermill": {
     "duration": 0.544032,
     "end_time": "2022-06-03T13:24:20.721665",
     "exception": false,
     "start_time": "2022-06-03T13:24:20.177633",
     "status": "completed"
    },
    "tags": []
   },
   "outputs": [
    {
     "data": {
      "text/html": [
       "<div>\n",
       "<style scoped>\n",
       "    .dataframe tbody tr th:only-of-type {\n",
       "        vertical-align: middle;\n",
       "    }\n",
       "\n",
       "    .dataframe tbody tr th {\n",
       "        vertical-align: top;\n",
       "    }\n",
       "\n",
       "    .dataframe thead th {\n",
       "        text-align: right;\n",
       "    }\n",
       "</style>\n",
       "<table border=\"1\" class=\"dataframe\">\n",
       "  <thead>\n",
       "    <tr style=\"text-align: right;\">\n",
       "      <th></th>\n",
       "      <th>entities</th>\n",
       "      <th>start_char</th>\n",
       "      <th>end_char</th>\n",
       "      <th>label</th>\n",
       "      <th>explain</th>\n",
       "      <th>frequency</th>\n",
       "    </tr>\n",
       "  </thead>\n",
       "  <tbody>\n",
       "    <tr>\n",
       "      <th>0</th>\n",
       "      <td>Anne H Elliott</td>\n",
       "      <td>11</td>\n",
       "      <td>25</td>\n",
       "      <td>PERSON</td>\n",
       "      <td>People, including fictional</td>\n",
       "      <td></td>\n",
       "    </tr>\n",
       "    <tr>\n",
       "      <th>1</th>\n",
       "      <td>Amnesty</td>\n",
       "      <td>54</td>\n",
       "      <td>61</td>\n",
       "      <td>ORG</td>\n",
       "      <td>Companies, agencies, institutions, etc.</td>\n",
       "      <td></td>\n",
       "    </tr>\n",
       "    <tr>\n",
       "      <th>2</th>\n",
       "      <td>Andrew Johnson</td>\n",
       "      <td>82</td>\n",
       "      <td>96</td>\n",
       "      <td>PERSON</td>\n",
       "      <td>People, including fictional</td>\n",
       "      <td></td>\n",
       "    </tr>\n",
       "    <tr>\n",
       "      <th>3</th>\n",
       "      <td>United States of America</td>\n",
       "      <td>110</td>\n",
       "      <td>134</td>\n",
       "      <td>GPE</td>\n",
       "      <td>Countries, cities, states</td>\n",
       "      <td></td>\n",
       "    </tr>\n",
       "    <tr>\n",
       "      <th>4</th>\n",
       "      <td>May 29th 1865</td>\n",
       "      <td>135</td>\n",
       "      <td>148</td>\n",
       "      <td>DATE</td>\n",
       "      <td>Absolute or relative dates or periods</td>\n",
       "      <td></td>\n",
       "    </tr>\n",
       "  </tbody>\n",
       "</table>\n",
       "</div>"
      ],
      "text/plain": [
       "                   entities  start_char  end_char   label  \\\n",
       "0            Anne H Elliott          11        25  PERSON   \n",
       "1                   Amnesty          54        61     ORG   \n",
       "2            Andrew Johnson          82        96  PERSON   \n",
       "3  United States of America         110       134     GPE   \n",
       "4             May 29th 1865         135       148    DATE   \n",
       "\n",
       "                                   explain frequency  \n",
       "0              People, including fictional            \n",
       "1  Companies, agencies, institutions, etc.            \n",
       "2              People, including fictional            \n",
       "3                Countries, cities, states            \n",
       "4    Absolute or relative dates or periods            "
      ]
     },
     "execution_count": 14,
     "metadata": {},
     "output_type": "execute_result"
    }
   ],
   "source": [
    "L1=[]\n",
    "def NER (txt):\n",
    "    for i in range(20):\n",
    "        nlp_text=nlp(txt[i])\n",
    "        L1.append([(word.text, word.start_char, word.end_char, word.label_,spacy.explain(word.label_)) for word in nlp_text.ents])\n",
    "        \n",
    "NER(text)\n",
    "l0=[]\n",
    "l1=[]\n",
    "l2=[]\n",
    "l3=[]\n",
    "l4=[]\n",
    "l5=[]\n",
    "for i in range(len(L1)):\n",
    "    for j in range(len(L1[i])):\n",
    "        l0.append(L1[i][j][0])\n",
    "        l2.append(L1[i][j][1])\n",
    "        l3.append(L1[i][j][2])\n",
    "        l4.append(L1[i][j][3])\n",
    "        l5.append(L1[i][j][4])\n",
    "\n",
    "df1=pd.DataFrame({\"entities\":l0,\"start_char\":l2,\"end_char\":l3 ,\"label\": l4, \"explain\": l5, \"frequency\":\"\"})\n",
    "df1.head()"
   ]
  },
  {
   "cell_type": "code",
   "execution_count": 15,
   "id": "d36feb41",
   "metadata": {
    "execution": {
     "iopub.execute_input": "2022-06-03T13:24:20.759641Z",
     "iopub.status.busy": "2022-06-03T13:24:20.759175Z",
     "iopub.status.idle": "2022-06-03T13:24:20.790019Z",
     "shell.execute_reply": "2022-06-03T13:24:20.789028Z"
    },
    "papermill": {
     "duration": 0.052656,
     "end_time": "2022-06-03T13:24:20.792411",
     "exception": false,
     "start_time": "2022-06-03T13:24:20.739755",
     "status": "completed"
    },
    "tags": []
   },
   "outputs": [],
   "source": [
    "Person=[]\n",
    "ORG=[]\n",
    "DATE=[]\n",
    "GPE=[]\n",
    "\n",
    "for i in range(df1.shape[0]):\n",
    "    if df1.label.loc[i]==\"PERSON\":\n",
    "        Person.append(df1.entities.loc[i])\n",
    "    elif df1.label.loc[i]==\"ORG\" :\n",
    "        ORG.append(df1.entities.loc[i])\n",
    "    elif df1.label.loc[i]==\"DATE\" :\n",
    "        DATE.append(df1.entities.loc[i])\n",
    "    elif df1.label.loc[i]==\"GPE\" :\n",
    "        GPE.append(df1.entities.loc[i])\n",
    "GPE=np.array(GPE)\n",
    "ORG=np.array(ORG)\n",
    "Person=np.array(Person)\n",
    "DATE=np.array(DATE)"
   ]
  },
  {
   "cell_type": "code",
   "execution_count": 16,
   "id": "71b93887",
   "metadata": {
    "execution": {
     "iopub.execute_input": "2022-06-03T13:24:20.829817Z",
     "iopub.status.busy": "2022-06-03T13:24:20.829393Z",
     "iopub.status.idle": "2022-06-03T13:24:20.835354Z",
     "shell.execute_reply": "2022-06-03T13:24:20.834663Z"
    },
    "papermill": {
     "duration": 0.02722,
     "end_time": "2022-06-03T13:24:20.837546",
     "exception": false,
     "start_time": "2022-06-03T13:24:20.810326",
     "status": "completed"
    },
    "tags": []
   },
   "outputs": [
    {
     "data": {
      "text/plain": [
       "array(['May 29th 1865', '27th day', '1865', '27th day', '1865', '63 year',\n",
       "       'May 29th 1865', '28 day', '28 day', 'May 47 PM', '39 year',\n",
       "       'May 29th 1865', '31 day', '1865', '31 day', '1865', '31st day',\n",
       "       'August 24 1865', 'May 29th 1865', '3 day of August 1865', 'May 4',\n",
       "       '3 day', '1865', 'May 29th 1865', '16th day', '1474', '16th day',\n",
       "       'May 29th 1865', '16 day of October 1865',\n",
       "       '16 day of October 1865', 'July 22', 'July 22', '1867',\n",
       "       'May 29th 1865', '6 day', '6 day', '29th day of September 1865',\n",
       "       'Age 24 year', 'Sept 29th 1865', '29th day', 'May 29th 1865',\n",
       "       '7th day', '7th day of September', '20th day of August 1865',\n",
       "       '20th day of August 1865', 'August 29th 1865',\n",
       "       '22nd day of August 1865', 'Miss 31st day', '1865 1865', '31 day',\n",
       "       '1865'], dtype='<U26')"
      ]
     },
     "execution_count": 16,
     "metadata": {},
     "output_type": "execute_result"
    }
   ],
   "source": [
    "DATE"
   ]
  },
  {
   "cell_type": "code",
   "execution_count": 17,
   "id": "9dde2f9c",
   "metadata": {
    "execution": {
     "iopub.execute_input": "2022-06-03T13:24:20.875982Z",
     "iopub.status.busy": "2022-06-03T13:24:20.875572Z",
     "iopub.status.idle": "2022-06-03T13:24:20.881846Z",
     "shell.execute_reply": "2022-06-03T13:24:20.880941Z"
    },
    "papermill": {
     "duration": 0.028202,
     "end_time": "2022-06-03T13:24:20.883966",
     "exception": false,
     "start_time": "2022-06-03T13:24:20.855764",
     "status": "completed"
    },
    "tags": []
   },
   "outputs": [
    {
     "data": {
      "text/plain": [
       "array(['Anne H Elliott', 'Andrew Johnson',\n",
       "       'Anne H Elliott United States of America', 'Anne H Elliott',\n",
       "       'Hazel', 'Whaley', 'Andrew Johnson', 'Strikethrough', 'Oaths',\n",
       "       'Oaths', 'Hu Kennedy', 'Amnesty Oath Administered At', 'Hiserodt',\n",
       "       'William Whaley Sworn', 'William Whaley Sworn', 'Brown',\n",
       "       'Charleston Sc', 'County', 'JF Steinmeyer Sworn', 'Charleston Sc',\n",
       "       'Gry', 'Oaths', 'Joseph Edings', 'Thomas Andrew Oath of',\n",
       "       'Jacob Schroder', 'Jacob Schroder Sworn', 'Walhalla', 'Walhalla',\n",
       "       'Laborer', 'Amnesty Oath', 'Woodville Wilkinson', 'Frank Conner',\n",
       "       'Copy F K Field Capt', 'Triplicate AMNESTY', 'Hiram Smith',\n",
       "       'Hiram Smith', 'Pass Christian', 'Captn', 'Amnesty Oath',\n",
       "       'Hiram Smith', 'Captn Commanding TRIPLICATE', 'Retained Copy',\n",
       "       'Bolt Capt 54th', 'Robert A',\n",
       "       'James D Kendall Amnesty Oath Administered At Oacen Springs',\n",
       "       'Gibbs Henderson', 'City Miss', 'Amnesty Oath', 'Frank E Miller'],\n",
       "      dtype='<U58')"
      ]
     },
     "execution_count": 17,
     "metadata": {},
     "output_type": "execute_result"
    }
   ],
   "source": [
    "Person"
   ]
  },
  {
   "cell_type": "markdown",
   "id": "a67fad97",
   "metadata": {
    "papermill": {
     "duration": 0.018101,
     "end_time": "2022-06-03T13:24:20.921569",
     "exception": false,
     "start_time": "2022-06-03T13:24:20.903468",
     "status": "completed"
    },
    "tags": []
   },
   "source": [
    "# Hugging face  : Flair"
   ]
  },
  {
   "cell_type": "markdown",
   "id": "d52efbe5",
   "metadata": {
    "papermill": {
     "duration": 0.018034,
     "end_time": "2022-06-03T13:24:20.957966",
     "exception": false,
     "start_time": "2022-06-03T13:24:20.939932",
     "status": "completed"
    },
    "tags": []
   },
   "source": [
    "**ner-english-ontonotes-large** : the best one on this type of text"
   ]
  },
  {
   "cell_type": "code",
   "execution_count": 18,
   "id": "ebeaa727",
   "metadata": {
    "execution": {
     "iopub.execute_input": "2022-06-03T13:24:20.996304Z",
     "iopub.status.busy": "2022-06-03T13:24:20.995899Z",
     "iopub.status.idle": "2022-06-03T13:25:21.714784Z",
     "shell.execute_reply": "2022-06-03T13:25:21.713871Z"
    },
    "papermill": {
     "duration": 60.741061,
     "end_time": "2022-06-03T13:25:21.717323",
     "exception": false,
     "start_time": "2022-06-03T13:24:20.976262",
     "status": "completed"
    },
    "tags": []
   },
   "outputs": [
    {
     "name": "stdout",
     "output_type": "stream",
     "text": [
      "Requirement already satisfied: transformers in /opt/conda/lib/python3.7/site-packages (4.18.0)\r\n",
      "Requirement already satisfied: packaging>=20.0 in /opt/conda/lib/python3.7/site-packages (from transformers) (21.3)\r\n",
      "Requirement already satisfied: tqdm>=4.27 in /opt/conda/lib/python3.7/site-packages (from transformers) (4.64.0)\r\n",
      "Requirement already satisfied: importlib-metadata in /opt/conda/lib/python3.7/site-packages (from transformers) (4.11.4)\r\n",
      "Requirement already satisfied: sacremoses in /opt/conda/lib/python3.7/site-packages (from transformers) (0.0.53)\r\n",
      "Requirement already satisfied: filelock in /opt/conda/lib/python3.7/site-packages (from transformers) (3.6.0)\r\n",
      "Requirement already satisfied: pyyaml>=5.1 in /opt/conda/lib/python3.7/site-packages (from transformers) (6.0)\r\n",
      "Requirement already satisfied: regex!=2019.12.17 in /opt/conda/lib/python3.7/site-packages (from transformers) (2021.11.10)\r\n",
      "Requirement already satisfied: numpy>=1.17 in /opt/conda/lib/python3.7/site-packages (from transformers) (1.21.6)\r\n",
      "Requirement already satisfied: tokenizers!=0.11.3,<0.13,>=0.11.1 in /opt/conda/lib/python3.7/site-packages (from transformers) (0.12.1)\r\n",
      "Requirement already satisfied: huggingface-hub<1.0,>=0.1.0 in /opt/conda/lib/python3.7/site-packages (from transformers) (0.5.1)\r\n",
      "Requirement already satisfied: requests in /opt/conda/lib/python3.7/site-packages (from transformers) (2.27.1)\r\n",
      "Requirement already satisfied: typing-extensions>=3.7.4.3 in /opt/conda/lib/python3.7/site-packages (from huggingface-hub<1.0,>=0.1.0->transformers) (4.2.0)\r\n",
      "Requirement already satisfied: pyparsing!=3.0.5,>=2.0.2 in /opt/conda/lib/python3.7/site-packages (from packaging>=20.0->transformers) (3.0.9)\r\n",
      "Requirement already satisfied: zipp>=0.5 in /opt/conda/lib/python3.7/site-packages (from importlib-metadata->transformers) (3.8.0)\r\n",
      "Requirement already satisfied: idna<4,>=2.5 in /opt/conda/lib/python3.7/site-packages (from requests->transformers) (3.3)\r\n",
      "Requirement already satisfied: charset-normalizer~=2.0.0 in /opt/conda/lib/python3.7/site-packages (from requests->transformers) (2.0.12)\r\n",
      "Requirement already satisfied: urllib3<1.27,>=1.21.1 in /opt/conda/lib/python3.7/site-packages (from requests->transformers) (1.26.9)\r\n",
      "Requirement already satisfied: certifi>=2017.4.17 in /opt/conda/lib/python3.7/site-packages (from requests->transformers) (2022.5.18.1)\r\n",
      "Requirement already satisfied: six in /opt/conda/lib/python3.7/site-packages (from sacremoses->transformers) (1.16.0)\r\n",
      "Requirement already satisfied: click in /opt/conda/lib/python3.7/site-packages (from sacremoses->transformers) (8.0.4)\r\n",
      "Requirement already satisfied: joblib in /opt/conda/lib/python3.7/site-packages (from sacremoses->transformers) (1.1.0)\r\n",
      "\u001b[33mWARNING: Running pip as the 'root' user can result in broken permissions and conflicting behaviour with the system package manager. It is recommended to use a virtual environment instead: https://pip.pypa.io/warnings/venv\u001b[0m\u001b[33m\r\n",
      "\u001b[0mCollecting flair\r\n",
      "  Downloading flair-0.11.3-py3-none-any.whl (401 kB)\r\n",
      "\u001b[2K     \u001b[90m━━━━━━━━━━━━━━━━━━━━━━━━━━━━━━━━━━━━━━━\u001b[0m \u001b[32m401.9/401.9 kB\u001b[0m \u001b[31m1.9 MB/s\u001b[0m eta \u001b[36m0:00:00\u001b[0m\r\n",
      "\u001b[?25hRequirement already satisfied: python-dateutil>=2.6.1 in /opt/conda/lib/python3.7/site-packages (from flair) (2.8.2)\r\n",
      "Requirement already satisfied: more-itertools in /opt/conda/lib/python3.7/site-packages (from flair) (8.13.0)\r\n",
      "Collecting wikipedia-api\r\n",
      "  Downloading Wikipedia-API-0.5.4.tar.gz (18 kB)\r\n",
      "  Preparing metadata (setup.py) ... \u001b[?25l-\b \bdone\r\n",
      "\u001b[?25hRequirement already satisfied: gensim>=3.4.0 in /opt/conda/lib/python3.7/site-packages (from flair) (4.0.1)\r\n",
      "Collecting conllu>=4.0\r\n",
      "  Downloading conllu-4.4.2-py2.py3-none-any.whl (15 kB)\r\n",
      "Requirement already satisfied: janome in /opt/conda/lib/python3.7/site-packages (from flair) (0.4.2)\r\n",
      "Collecting bpemb>=0.3.2\r\n",
      "  Downloading bpemb-0.3.3-py3-none-any.whl (19 kB)\r\n",
      "Requirement already satisfied: regex in /opt/conda/lib/python3.7/site-packages (from flair) (2021.11.10)\r\n",
      "Requirement already satisfied: torch!=1.8,>=1.5.0 in /opt/conda/lib/python3.7/site-packages (from flair) (1.11.0+cpu)\r\n",
      "Requirement already satisfied: matplotlib>=2.2.3 in /opt/conda/lib/python3.7/site-packages (from flair) (3.5.2)\r\n",
      "Requirement already satisfied: transformers>=4.0.0 in /opt/conda/lib/python3.7/site-packages (from flair) (4.18.0)\r\n",
      "Collecting deprecated>=1.2.4\r\n",
      "  Downloading Deprecated-1.2.13-py2.py3-none-any.whl (9.6 kB)\r\n",
      "Requirement already satisfied: tqdm>=4.26.0 in /opt/conda/lib/python3.7/site-packages (from flair) (4.64.0)\r\n",
      "Collecting pptree\r\n",
      "  Downloading pptree-3.1.tar.gz (3.0 kB)\r\n",
      "  Preparing metadata (setup.py) ... \u001b[?25l-\b \bdone\r\n",
      "\u001b[?25hRequirement already satisfied: scikit-learn>=0.21.3 in /opt/conda/lib/python3.7/site-packages (from flair) (1.0.2)\r\n",
      "Requirement already satisfied: lxml in /opt/conda/lib/python3.7/site-packages (from flair) (4.8.0)\r\n",
      "Collecting segtok>=1.5.7\r\n",
      "  Downloading segtok-1.5.11-py3-none-any.whl (24 kB)\r\n",
      "Requirement already satisfied: huggingface-hub in /opt/conda/lib/python3.7/site-packages (from flair) (0.5.1)\r\n",
      "Collecting sqlitedict>=1.6.0\r\n",
      "  Downloading sqlitedict-2.0.0.tar.gz (46 kB)\r\n",
      "\u001b[2K     \u001b[90m━━━━━━━━━━━━━━━━━━━━━━━━━━━━━━━━━━━━━━━━\u001b[0m \u001b[32m46.3/46.3 kB\u001b[0m \u001b[31m3.2 MB/s\u001b[0m eta \u001b[36m0:00:00\u001b[0m\r\n",
      "\u001b[?25h  Preparing metadata (setup.py) ... \u001b[?25l-\b \bdone\r\n",
      "\u001b[?25hCollecting langdetect\r\n",
      "  Downloading langdetect-1.0.9.tar.gz (981 kB)\r\n",
      "\u001b[2K     \u001b[90m━━━━━━━━━━━━━━━━━━━━━━━━━━━━━━━━━━━━━━\u001b[0m \u001b[32m981.5/981.5 kB\u001b[0m \u001b[31m10.0 MB/s\u001b[0m eta \u001b[36m0:00:00\u001b[0m\r\n",
      "\u001b[?25h  Preparing metadata (setup.py) ... \u001b[?25l-\b \bdone\r\n",
      "\u001b[?25hCollecting sentencepiece==0.1.95\r\n",
      "  Downloading sentencepiece-0.1.95-cp37-cp37m-manylinux2014_x86_64.whl (1.2 MB)\r\n",
      "\u001b[2K     \u001b[90m━━━━━━━━━━━━━━━━━━━━━━━━━━━━━━━━━━━━━━━━\u001b[0m \u001b[32m1.2/1.2 MB\u001b[0m \u001b[31m29.7 MB/s\u001b[0m eta \u001b[36m0:00:00\u001b[0m\r\n",
      "\u001b[?25hRequirement already satisfied: hyperopt>=0.2.7 in /opt/conda/lib/python3.7/site-packages (from flair) (0.2.7)\r\n",
      "Collecting mpld3==0.3\r\n",
      "  Downloading mpld3-0.3.tar.gz (788 kB)\r\n",
      "\u001b[2K     \u001b[90m━━━━━━━━━━━━━━━━━━━━━━━━━━━━━━━━━━━━━━\u001b[0m \u001b[32m788.5/788.5 kB\u001b[0m \u001b[31m37.5 MB/s\u001b[0m eta \u001b[36m0:00:00\u001b[0m\r\n",
      "\u001b[?25h  Preparing metadata (setup.py) ... \u001b[?25l-\b \bdone\r\n",
      "\u001b[?25hCollecting ftfy\r\n",
      "  Downloading ftfy-6.1.1-py3-none-any.whl (53 kB)\r\n",
      "\u001b[2K     \u001b[90m━━━━━━━━━━━━━━━━━━━━━━━━━━━━━━━━━━━━━━━━\u001b[0m \u001b[32m53.1/53.1 kB\u001b[0m \u001b[31m3.9 MB/s\u001b[0m eta \u001b[36m0:00:00\u001b[0m\r\n",
      "\u001b[?25hCollecting gdown==4.4.0\r\n",
      "  Downloading gdown-4.4.0.tar.gz (14 kB)\r\n",
      "  Installing build dependencies ... \u001b[?25l-\b \b\\\b \b|\b \b/\b \b-\b \b\\\b \bdone\r\n",
      "\u001b[?25h  Getting requirements to build wheel ... \u001b[?25l-\b \b\\\b \b|\b \b/\b \b-\b \bdone\r\n",
      "\u001b[?25h  Preparing metadata (pyproject.toml) ... \u001b[?25l-\b \b\\\b \b|\b \b/\b \b-\b \bdone\r\n",
      "\u001b[?25hRequirement already satisfied: tabulate in /opt/conda/lib/python3.7/site-packages (from flair) (0.8.9)\r\n",
      "Collecting konoha<5.0.0,>=4.0.0\r\n",
      "  Downloading konoha-4.6.5-py3-none-any.whl (20 kB)\r\n",
      "Requirement already satisfied: requests[socks] in /opt/conda/lib/python3.7/site-packages (from gdown==4.4.0->flair) (2.27.1)\r\n",
      "Requirement already satisfied: six in /opt/conda/lib/python3.7/site-packages (from gdown==4.4.0->flair) (1.16.0)\r\n",
      "Requirement already satisfied: beautifulsoup4 in /opt/conda/lib/python3.7/site-packages (from gdown==4.4.0->flair) (4.11.1)\r\n",
      "Requirement already satisfied: filelock in /opt/conda/lib/python3.7/site-packages (from gdown==4.4.0->flair) (3.6.0)\r\n",
      "Requirement already satisfied: numpy in /opt/conda/lib/python3.7/site-packages (from bpemb>=0.3.2->flair) (1.21.6)\r\n",
      "Requirement already satisfied: wrapt<2,>=1.10 in /opt/conda/lib/python3.7/site-packages (from deprecated>=1.2.4->flair) (1.14.1)\r\n",
      "Requirement already satisfied: scipy>=0.18.1 in /opt/conda/lib/python3.7/site-packages (from gensim>=3.4.0->flair) (1.7.3)\r\n",
      "Requirement already satisfied: smart-open>=1.8.1 in /opt/conda/lib/python3.7/site-packages (from gensim>=3.4.0->flair) (5.2.1)\r\n",
      "Requirement already satisfied: networkx>=2.2 in /opt/conda/lib/python3.7/site-packages (from hyperopt>=0.2.7->flair) (2.5)\r\n",
      "Requirement already satisfied: cloudpickle in /opt/conda/lib/python3.7/site-packages (from hyperopt>=0.2.7->flair) (2.0.0)\r\n",
      "Requirement already satisfied: future in /opt/conda/lib/python3.7/site-packages (from hyperopt>=0.2.7->flair) (0.18.2)\r\n",
      "Requirement already satisfied: py4j in /opt/conda/lib/python3.7/site-packages (from hyperopt>=0.2.7->flair) (0.10.9.5)\r\n",
      "Collecting importlib-metadata<4.0.0,>=3.7.0\r\n",
      "  Downloading importlib_metadata-3.10.1-py3-none-any.whl (14 kB)\r\n",
      "Collecting overrides<4.0.0,>=3.0.0\r\n",
      "  Downloading overrides-3.1.0.tar.gz (11 kB)\r\n",
      "  Preparing metadata (setup.py) ... \u001b[?25l-\b \bdone\r\n",
      "\u001b[?25hRequirement already satisfied: fonttools>=4.22.0 in /opt/conda/lib/python3.7/site-packages (from matplotlib>=2.2.3->flair) (4.33.3)\r\n",
      "Requirement already satisfied: kiwisolver>=1.0.1 in /opt/conda/lib/python3.7/site-packages (from matplotlib>=2.2.3->flair) (1.4.2)\r\n",
      "Requirement already satisfied: cycler>=0.10 in /opt/conda/lib/python3.7/site-packages (from matplotlib>=2.2.3->flair) (0.11.0)\r\n",
      "Requirement already satisfied: pyparsing>=2.2.1 in /opt/conda/lib/python3.7/site-packages (from matplotlib>=2.2.3->flair) (3.0.9)\r\n",
      "Requirement already satisfied: packaging>=20.0 in /opt/conda/lib/python3.7/site-packages (from matplotlib>=2.2.3->flair) (21.3)\r\n",
      "Requirement already satisfied: pillow>=6.2.0 in /opt/conda/lib/python3.7/site-packages (from matplotlib>=2.2.3->flair) (9.1.0)\r\n",
      "Requirement already satisfied: threadpoolctl>=2.0.0 in /opt/conda/lib/python3.7/site-packages (from scikit-learn>=0.21.3->flair) (3.1.0)\r\n",
      "Requirement already satisfied: joblib>=0.11 in /opt/conda/lib/python3.7/site-packages (from scikit-learn>=0.21.3->flair) (1.1.0)\r\n",
      "Requirement already satisfied: typing-extensions in /opt/conda/lib/python3.7/site-packages (from torch!=1.8,>=1.5.0->flair) (4.2.0)\r\n",
      "Requirement already satisfied: tokenizers!=0.11.3,<0.13,>=0.11.1 in /opt/conda/lib/python3.7/site-packages (from transformers>=4.0.0->flair) (0.12.1)\r\n",
      "Requirement already satisfied: sacremoses in /opt/conda/lib/python3.7/site-packages (from transformers>=4.0.0->flair) (0.0.53)\r\n",
      "Requirement already satisfied: pyyaml>=5.1 in /opt/conda/lib/python3.7/site-packages (from transformers>=4.0.0->flair) (6.0)\r\n",
      "Requirement already satisfied: wcwidth>=0.2.5 in /opt/conda/lib/python3.7/site-packages (from ftfy->flair) (0.2.5)\r\n",
      "Requirement already satisfied: zipp>=0.5 in /opt/conda/lib/python3.7/site-packages (from importlib-metadata<4.0.0,>=3.7.0->konoha<5.0.0,>=4.0.0->flair) (3.8.0)\r\n",
      "Requirement already satisfied: decorator>=4.3.0 in /opt/conda/lib/python3.7/site-packages (from networkx>=2.2->hyperopt>=0.2.7->flair) (5.1.1)\r\n",
      "Requirement already satisfied: urllib3<1.27,>=1.21.1 in /opt/conda/lib/python3.7/site-packages (from requests[socks]->gdown==4.4.0->flair) (1.26.9)\r\n",
      "Requirement already satisfied: idna<4,>=2.5 in /opt/conda/lib/python3.7/site-packages (from requests[socks]->gdown==4.4.0->flair) (3.3)\r\n",
      "Requirement already satisfied: charset-normalizer~=2.0.0 in /opt/conda/lib/python3.7/site-packages (from requests[socks]->gdown==4.4.0->flair) (2.0.12)\r\n",
      "Requirement already satisfied: certifi>=2017.4.17 in /opt/conda/lib/python3.7/site-packages (from requests[socks]->gdown==4.4.0->flair) (2022.5.18.1)\r\n",
      "Requirement already satisfied: soupsieve>1.2 in /opt/conda/lib/python3.7/site-packages (from beautifulsoup4->gdown==4.4.0->flair) (2.3.1)\r\n",
      "Requirement already satisfied: PySocks!=1.5.7,>=1.5.6 in /opt/conda/lib/python3.7/site-packages (from requests[socks]->gdown==4.4.0->flair) (1.7.1)\r\n",
      "Requirement already satisfied: click in /opt/conda/lib/python3.7/site-packages (from sacremoses->transformers>=4.0.0->flair) (8.0.4)\r\n",
      "Building wheels for collected packages: gdown, mpld3, sqlitedict, langdetect, pptree, wikipedia-api, overrides\r\n",
      "  Building wheel for gdown (pyproject.toml) ... \u001b[?25l-\b \b\\\b \b|\b \b/\b \b-\b \b\\\b \b|\b \b/\b \b-\b \bdone\r\n",
      "\u001b[?25h  Created wheel for gdown: filename=gdown-4.4.0-py3-none-any.whl size=14759 sha256=9d069f504f346ef3fe3cab28ed5288b2da15aa17037f3e3d9c1f043de4e02f7d\r\n",
      "  Stored in directory: /root/.cache/pip/wheels/fb/c3/0e/c4d8ff8bfcb0461afff199471449f642179b74968c15b7a69c\r\n",
      "  Building wheel for mpld3 (setup.py) ... \u001b[?25l-\b \b\\\b \bdone\r\n",
      "\u001b[?25h  Created wheel for mpld3: filename=mpld3-0.3-py3-none-any.whl size=116702 sha256=5b2eaa3c1fe84f46f3e6dc8f98b3c6399f8f0e2aeb3c090d4361ce9e923906ef\r\n",
      "  Stored in directory: /root/.cache/pip/wheels/26/70/6a/1c79e59951a41b4045497da187b2724f5659ca64033cf4548e\r\n",
      "  Building wheel for sqlitedict (setup.py) ... \u001b[?25l-\b \bdone\r\n",
      "\u001b[?25h  Created wheel for sqlitedict: filename=sqlitedict-2.0.0-py3-none-any.whl size=15736 sha256=fd1a27d1f9a67b2784efe4cb367365ca40b711e34dacae96f1b3e0f8bfe1f3b5\r\n",
      "  Stored in directory: /root/.cache/pip/wheels/96/dd/2e/0ed4a25cb73fc30c7ea8d10b50acb7226175736067e40a7ea3\r\n",
      "  Building wheel for langdetect (setup.py) ... \u001b[?25l-\b \b\\\b \b|\b \b/\b \bdone\r\n",
      "\u001b[?25h  Created wheel for langdetect: filename=langdetect-1.0.9-py3-none-any.whl size=993242 sha256=1285f9015708d6a850110e4115fc547de2519bcec2ddf14fe7284b8f1be7ae8e\r\n",
      "  Stored in directory: /root/.cache/pip/wheels/c5/96/8a/f90c59ed25d75e50a8c10a1b1c2d4c402e4dacfa87f3aff36a\r\n",
      "  Building wheel for pptree (setup.py) ... \u001b[?25l-\b \b\\\b \bdone\r\n",
      "\u001b[?25h  Created wheel for pptree: filename=pptree-3.1-py3-none-any.whl size=4629 sha256=58027f9daff6ea853e3826d86cd1ec9bce12e1d2f16d1fa50ddd5261bd01d26b\r\n",
      "  Stored in directory: /root/.cache/pip/wheels/9e/e8/7d/a9c3c19b4722608a0d8b05a38c36bc3f230c43becd2a46794b\r\n",
      "  Building wheel for wikipedia-api (setup.py) ... \u001b[?25l-\b \b\\\b \bdone\r\n",
      "\u001b[?25h  Created wheel for wikipedia-api: filename=Wikipedia_API-0.5.4-py3-none-any.whl size=13477 sha256=ea2fd955ab839f9b44bba067fa76a598c584af73125eaf9974c1219d0e04aca5\r\n",
      "  Stored in directory: /root/.cache/pip/wheels/d3/24/56/58ba93cf78be162451144e7a9889603f437976ef1ae7013d04\r\n",
      "  Building wheel for overrides (setup.py) ... \u001b[?25l-\b \b\\\b \bdone\r\n",
      "\u001b[?25h  Created wheel for overrides: filename=overrides-3.1.0-py3-none-any.whl size=10187 sha256=ad2876d3525397a198e42115d85fd600de80dbb81a08f85d62ff88e806894235\r\n",
      "  Stored in directory: /root/.cache/pip/wheels/3a/0d/38/01a9bc6e20dcfaf0a6a7b552d03137558ba1c38aea47644682\r\n",
      "Successfully built gdown mpld3 sqlitedict langdetect pptree wikipedia-api overrides\r\n",
      "Installing collected packages: sqlitedict, sentencepiece, pptree, overrides, mpld3, segtok, langdetect, importlib-metadata, ftfy, deprecated, conllu, wikipedia-api, konoha, gdown, bpemb, flair\r\n",
      "  Attempting uninstall: sentencepiece\r\n",
      "    Found existing installation: sentencepiece 0.1.96\r\n",
      "    Uninstalling sentencepiece-0.1.96:\r\n",
      "      Successfully uninstalled sentencepiece-0.1.96\r\n",
      "  Attempting uninstall: overrides\r\n",
      "    Found existing installation: overrides 6.1.0\r\n",
      "    Uninstalling overrides-6.1.0:\r\n",
      "      Successfully uninstalled overrides-6.1.0\r\n",
      "  Attempting uninstall: mpld3\r\n",
      "    Found existing installation: mpld3 0.5.7\r\n",
      "    Uninstalling mpld3-0.5.7:\r\n",
      "      Successfully uninstalled mpld3-0.5.7\r\n",
      "  Attempting uninstall: importlib-metadata\r\n",
      "    Found existing installation: importlib-metadata 4.11.4\r\n",
      "    Uninstalling importlib-metadata-4.11.4:\r\n",
      "      Successfully uninstalled importlib-metadata-4.11.4\r\n",
      "\u001b[31mERROR: pip's dependency resolver does not currently take into account all the packages that are installed. This behaviour is the source of the following dependency conflicts.\r\n",
      "markdown 3.3.7 requires importlib-metadata>=4.4; python_version < \"3.10\", but you have importlib-metadata 3.10.1 which is incompatible.\r\n",
      "ibis-framework 2.1.1 requires importlib-metadata<5,>=4; python_version < \"3.8\", but you have importlib-metadata 3.10.1 which is incompatible.\r\n",
      "gym 0.23.1 requires importlib-metadata>=4.10.0; python_version < \"3.10\", but you have importlib-metadata 3.10.1 which is incompatible.\r\n",
      "google-cloud-pubsublite 1.4.2 requires overrides<7.0.0,>=6.0.1, but you have overrides 3.1.0 which is incompatible.\u001b[0m\u001b[31m\r\n",
      "\u001b[0mSuccessfully installed bpemb-0.3.3 conllu-4.4.2 deprecated-1.2.13 flair-0.11.3 ftfy-6.1.1 gdown-4.4.0 importlib-metadata-3.10.1 konoha-4.6.5 langdetect-1.0.9 mpld3-0.3 overrides-3.1.0 pptree-3.1 segtok-1.5.11 sentencepiece-0.1.95 sqlitedict-2.0.0 wikipedia-api-0.5.4\r\n",
      "\u001b[33mWARNING: Running pip as the 'root' user can result in broken permissions and conflicting behaviour with the system package manager. It is recommended to use a virtual environment instead: https://pip.pypa.io/warnings/venv\u001b[0m\u001b[33m\r\n",
      "\u001b[0m"
     ]
    }
   ],
   "source": [
    "!pip install transformers\n",
    "!pip install flair"
   ]
  },
  {
   "cell_type": "code",
   "execution_count": 19,
   "id": "6cc9d998",
   "metadata": {
    "execution": {
     "iopub.execute_input": "2022-06-03T13:25:21.775653Z",
     "iopub.status.busy": "2022-06-03T13:25:21.775207Z",
     "iopub.status.idle": "2022-06-03T13:27:50.907151Z",
     "shell.execute_reply": "2022-06-03T13:27:50.906075Z"
    },
    "papermill": {
     "duration": 149.164271,
     "end_time": "2022-06-03T13:27:50.910015",
     "exception": false,
     "start_time": "2022-06-03T13:25:21.745744",
     "status": "completed"
    },
    "tags": []
   },
   "outputs": [
    {
     "data": {
      "application/vnd.jupyter.widget-view+json": {
       "model_id": "1e4a1ca70e744dc696c7d179a5bd07ab",
       "version_major": 2,
       "version_minor": 0
      },
      "text/plain": [
       "Downloading:   0%|          | 0.00/2.24G [00:00<?, ?B/s]"
      ]
     },
     "metadata": {},
     "output_type": "display_data"
    },
    {
     "name": "stdout",
     "output_type": "stream",
     "text": [
      "2022-06-03 13:27:04,191 loading file /root/.flair/models/ner-english-ontonotes-large/2da6c2cdd76e59113033adf670340bfd820f0301ae2e39204d67ba2dc276cc28.ec1bdb304b6c66111532c3b1fc6e522460ae73f1901848a4d0362cdf9760edb1\n"
     ]
    },
    {
     "data": {
      "application/vnd.jupyter.widget-view+json": {
       "model_id": "4e0f64449d1c44fba8227272326dfbb4",
       "version_major": 2,
       "version_minor": 0
      },
      "text/plain": [
       "Downloading:   0%|          | 0.00/616 [00:00<?, ?B/s]"
      ]
     },
     "metadata": {},
     "output_type": "display_data"
    },
    {
     "data": {
      "application/vnd.jupyter.widget-view+json": {
       "model_id": "5d3a0a6acccd458b84fa281cc6c3adc0",
       "version_major": 2,
       "version_minor": 0
      },
      "text/plain": [
       "Downloading:   0%|          | 0.00/4.83M [00:00<?, ?B/s]"
      ]
     },
     "metadata": {},
     "output_type": "display_data"
    },
    {
     "data": {
      "application/vnd.jupyter.widget-view+json": {
       "model_id": "ebf3d508e06e444cbea65ef88def7fbf",
       "version_major": 2,
       "version_minor": 0
      },
      "text/plain": [
       "Downloading:   0%|          | 0.00/8.68M [00:00<?, ?B/s]"
      ]
     },
     "metadata": {},
     "output_type": "display_data"
    },
    {
     "name": "stdout",
     "output_type": "stream",
     "text": [
      "2022-06-03 13:27:28,451 SequenceTagger predicts: Dictionary with 76 tags: <unk>, O, B-CARDINAL, E-CARDINAL, S-PERSON, S-CARDINAL, S-PRODUCT, B-PRODUCT, I-PRODUCT, E-PRODUCT, B-WORK_OF_ART, I-WORK_OF_ART, E-WORK_OF_ART, B-PERSON, E-PERSON, S-GPE, B-DATE, I-DATE, E-DATE, S-ORDINAL, S-LANGUAGE, I-PERSON, S-EVENT, S-DATE, B-QUANTITY, E-QUANTITY, S-TIME, B-TIME, I-TIME, E-TIME, B-GPE, E-GPE, S-ORG, I-GPE, S-NORP, B-FAC, I-FAC, E-FAC, B-NORP, E-NORP, S-PERCENT, B-ORG, E-ORG, B-LANGUAGE, E-LANGUAGE, I-CARDINAL, I-ORG, S-WORK_OF_ART, I-QUANTITY, B-MONEY\n"
     ]
    }
   ],
   "source": [
    "from flair.data import Sentence\n",
    "from flair.models import SequenceTagger\n",
    "T2=[]\n",
    "D={}\n",
    "\n",
    "tagger = SequenceTagger.load(\"flair/ner-english-ontonotes-large\")\n",
    "\n",
    "for i in range(20):\n",
    "        sentencess =Sentence(text[i])\n",
    "        tagger.predict(sentencess)\n",
    "        for entity in sentencess.get_spans('ner'):\n",
    "                     T2.append(entity)\n",
    "                     if (entity.get_label(\"ner\").score > 0.98) & (entity.get_label(\"ner\").value != \"CARDINAL\") & (entity.get_label(\"ner\").value != \"LAW\")& (entity.get_label(\"ner\").value != \"QUANTITY\") & (entity.get_label(\"ner\").value != \"WORK_OF_ART\") & (entity.get_label(\"ner\").value != \"LAW\")& (entity.get_label(\"ner\").value != \"QUANTITY\") & (entity.get_label(\"ner\").value != \"EVENT\")  :\n",
    "                         D[entity.text]= entity.get_label(\"ner\").value"
   ]
  },
  {
   "cell_type": "code",
   "execution_count": 20,
   "id": "ba664f2d",
   "metadata": {
    "execution": {
     "iopub.execute_input": "2022-06-03T13:27:50.968961Z",
     "iopub.status.busy": "2022-06-03T13:27:50.968508Z",
     "iopub.status.idle": "2022-06-03T13:27:50.980010Z",
     "shell.execute_reply": "2022-06-03T13:27:50.979094Z"
    },
    "papermill": {
     "duration": 0.044062,
     "end_time": "2022-06-03T13:27:50.982262",
     "exception": false,
     "start_time": "2022-06-03T13:27:50.938200",
     "status": "completed"
    },
    "tags": []
   },
   "outputs": [
    {
     "data": {
      "text/plain": [
       "114"
      ]
     },
     "execution_count": 20,
     "metadata": {},
     "output_type": "execute_result"
    }
   ],
   "source": [
    "len(D)"
   ]
  },
  {
   "cell_type": "code",
   "execution_count": 21,
   "id": "5ed61239",
   "metadata": {
    "execution": {
     "iopub.execute_input": "2022-06-03T13:27:51.041551Z",
     "iopub.status.busy": "2022-06-03T13:27:51.040893Z",
     "iopub.status.idle": "2022-06-03T13:27:51.045438Z",
     "shell.execute_reply": "2022-06-03T13:27:51.044747Z"
    },
    "papermill": {
     "duration": 0.035969,
     "end_time": "2022-06-03T13:27:51.047507",
     "exception": false,
     "start_time": "2022-06-03T13:27:51.011538",
     "status": "completed"
    },
    "tags": []
   },
   "outputs": [],
   "source": [
    "ent=[]\n",
    "label=[]\n",
    "for i in D :\n",
    "    ent.append(i)\n",
    "    label.append(D[i])"
   ]
  },
  {
   "cell_type": "code",
   "execution_count": 22,
   "id": "5c648794",
   "metadata": {
    "execution": {
     "iopub.execute_input": "2022-06-03T13:27:51.106317Z",
     "iopub.status.busy": "2022-06-03T13:27:51.105726Z",
     "iopub.status.idle": "2022-06-03T13:27:51.113515Z",
     "shell.execute_reply": "2022-06-03T13:27:51.112721Z"
    },
    "papermill": {
     "duration": 0.039799,
     "end_time": "2022-06-03T13:27:51.115730",
     "exception": false,
     "start_time": "2022-06-03T13:27:51.075931",
     "status": "completed"
    },
    "tags": []
   },
   "outputs": [],
   "source": [
    "final1=pd.DataFrame({\"entities\":ent, \"label\":label})"
   ]
  },
  {
   "cell_type": "code",
   "execution_count": 23,
   "id": "99d306df",
   "metadata": {
    "execution": {
     "iopub.execute_input": "2022-06-03T13:27:51.173905Z",
     "iopub.status.busy": "2022-06-03T13:27:51.173441Z",
     "iopub.status.idle": "2022-06-03T13:27:51.193690Z",
     "shell.execute_reply": "2022-06-03T13:27:51.192586Z"
    },
    "papermill": {
     "duration": 0.052192,
     "end_time": "2022-06-03T13:27:51.195874",
     "exception": false,
     "start_time": "2022-06-03T13:27:51.143682",
     "status": "completed"
    },
    "tags": []
   },
   "outputs": [],
   "source": [
    "P=[]\n",
    "OR=[]\n",
    "GP=[]\n",
    "Date=[]\n",
    "LOC=[]\n",
    "for i in range(114):\n",
    "    if final1.label.loc[i]==\"PERSON\":\n",
    "        P.append(final1.entities.loc[i])\n",
    "    elif final1.label.loc[i]==\"ORG\":\n",
    "        OR.append(final1.entities.loc[i])\n",
    "    elif final1.label.loc[i]==\"GPE\":\n",
    "        GP.append(final1.entities.loc[i])\n",
    "    elif final1.label.loc[i]==\"DATE\":\n",
    "        Date.append(final1.entities.loc[i])\n",
    "    elif final1.label.loc[i]==\"LOC\":\n",
    "        LOC.append(final1.entities.loc[i])\n",
    "        "
   ]
  },
  {
   "cell_type": "code",
   "execution_count": 24,
   "id": "1f637a13",
   "metadata": {
    "execution": {
     "iopub.execute_input": "2022-06-03T13:27:51.253516Z",
     "iopub.status.busy": "2022-06-03T13:27:51.253072Z",
     "iopub.status.idle": "2022-06-03T13:27:51.259201Z",
     "shell.execute_reply": "2022-06-03T13:27:51.258227Z"
    },
    "papermill": {
     "duration": 0.037152,
     "end_time": "2022-06-03T13:27:51.261072",
     "exception": false,
     "start_time": "2022-06-03T13:27:51.223920",
     "status": "completed"
    },
    "tags": []
   },
   "outputs": [
    {
     "data": {
      "text/plain": [
       "45"
      ]
     },
     "execution_count": 24,
     "metadata": {},
     "output_type": "execute_result"
    }
   ],
   "source": [
    "len(Date)"
   ]
  },
  {
   "cell_type": "code",
   "execution_count": 25,
   "id": "08fad5be",
   "metadata": {
    "execution": {
     "iopub.execute_input": "2022-06-03T13:27:51.319288Z",
     "iopub.status.busy": "2022-06-03T13:27:51.318872Z",
     "iopub.status.idle": "2022-06-03T13:27:51.325060Z",
     "shell.execute_reply": "2022-06-03T13:27:51.324481Z"
    },
    "papermill": {
     "duration": 0.037258,
     "end_time": "2022-06-03T13:27:51.326870",
     "exception": false,
     "start_time": "2022-06-03T13:27:51.289612",
     "status": "completed"
    },
    "tags": []
   },
   "outputs": [
    {
     "data": {
      "text/plain": [
       "array(['16 day of October 1865', '16th day of Sept 1865',\n",
       "       '18th Sept 1865', '20th day of August 1865',\n",
       "       '22nd day of August 1865', '24 year', '26 Years',\n",
       "       '27th day of Novb 1865', '27th day of Novbr 1865',\n",
       "       '28 day of Sept 1865', '29th day of Sept 29 1865',\n",
       "       '29th day of September 1865', '3 day of Augt 1865',\n",
       "       '3 day of August 1865', '31 day of Aug 1865', '31 day of Oct 1865',\n",
       "       '31st day of Aug 1865', '31st day of August AD 1865', '39 year',\n",
       "       '3d day of February 1868', '45years', '48 year', '58 year',\n",
       "       '58 year of age', '6 day of Nov 1865', '61 year', '63 year',\n",
       "       '7th day of September 186', 'Aug 2 7 66', 'Aug 20 1865',\n",
       "       'Aug 20th 1865', 'Aug 31 1865', 'August 24 1865',\n",
       "       'August 29th 1865', 'July 22', 'Maj 47', 'Maj 47th', 'Maj 66th',\n",
       "       'May 29th 1865', 'May 4', 'May 47 PM', 'Sept 29 1865',\n",
       "       'Sept 29th 1865', 'Thirty nine', 'twenty eight year'], dtype='<U26')"
      ]
     },
     "execution_count": 25,
     "metadata": {},
     "output_type": "execute_result"
    }
   ],
   "source": [
    "np.unique(Date)"
   ]
  },
  {
   "cell_type": "code",
   "execution_count": 26,
   "id": "86b86b9a",
   "metadata": {
    "execution": {
     "iopub.execute_input": "2022-06-03T13:27:51.385563Z",
     "iopub.status.busy": "2022-06-03T13:27:51.384770Z",
     "iopub.status.idle": "2022-06-03T13:27:51.390576Z",
     "shell.execute_reply": "2022-06-03T13:27:51.389838Z"
    },
    "papermill": {
     "duration": 0.037222,
     "end_time": "2022-06-03T13:27:51.392324",
     "exception": false,
     "start_time": "2022-06-03T13:27:51.355102",
     "status": "completed"
    },
    "tags": []
   },
   "outputs": [
    {
     "data": {
      "text/plain": [
       "array(['1474', '16 day of October 1865', '16th day', '1865', '1865 1865',\n",
       "       '1867', '20th day of August 1865', '22nd day of August 1865',\n",
       "       '27th day', '28 day', '29th day', '29th day of September 1865',\n",
       "       '3 day', '3 day of August 1865', '31 day', '31st day', '39 year',\n",
       "       '6 day', '63 year', '7th day', '7th day of September',\n",
       "       'Age 24 year', 'August 24 1865', 'August 29th 1865', 'July 22',\n",
       "       'May 29th 1865', 'May 4', 'May 47 PM', 'Miss 31st day',\n",
       "       'Sept 29th 1865'], dtype='<U26')"
      ]
     },
     "execution_count": 26,
     "metadata": {},
     "output_type": "execute_result"
    }
   ],
   "source": [
    "np.unique(DATE)"
   ]
  },
  {
   "cell_type": "markdown",
   "id": "467c407b",
   "metadata": {
    "papermill": {
     "duration": 0.027979,
     "end_time": "2022-06-03T13:27:51.448919",
     "exception": false,
     "start_time": "2022-06-03T13:27:51.420940",
     "status": "completed"
    },
    "tags": []
   },
   "source": [
    "> Huge difference !!\n"
   ]
  },
  {
   "cell_type": "code",
   "execution_count": 27,
   "id": "4ef2629d",
   "metadata": {
    "execution": {
     "iopub.execute_input": "2022-06-03T13:27:51.507099Z",
     "iopub.status.busy": "2022-06-03T13:27:51.506504Z",
     "iopub.status.idle": "2022-06-03T13:27:51.512149Z",
     "shell.execute_reply": "2022-06-03T13:27:51.511523Z"
    },
    "papermill": {
     "duration": 0.036907,
     "end_time": "2022-06-03T13:27:51.514034",
     "exception": false,
     "start_time": "2022-06-03T13:27:51.477127",
     "status": "completed"
    },
    "tags": []
   },
   "outputs": [
    {
     "data": {
      "text/plain": [
       "43"
      ]
     },
     "execution_count": 27,
     "metadata": {},
     "output_type": "execute_result"
    }
   ],
   "source": [
    "len(P)"
   ]
  },
  {
   "cell_type": "code",
   "execution_count": 28,
   "id": "3fcd586b",
   "metadata": {
    "execution": {
     "iopub.execute_input": "2022-06-03T13:27:51.573724Z",
     "iopub.status.busy": "2022-06-03T13:27:51.573092Z",
     "iopub.status.idle": "2022-06-03T13:27:51.579382Z",
     "shell.execute_reply": "2022-06-03T13:27:51.578393Z"
    },
    "papermill": {
     "duration": 0.03906,
     "end_time": "2022-06-03T13:27:51.581494",
     "exception": false,
     "start_time": "2022-06-03T13:27:51.542434",
     "status": "completed"
    },
    "tags": []
   },
   "outputs": [
    {
     "data": {
      "text/plain": [
       "array(['Amnesty Oath', 'Amnesty Oath Administered At', 'Andrew Johnson',\n",
       "       'Anne H Elliott', 'Anne H Elliott United States of America',\n",
       "       'Bolt Capt 54th', 'Brown', 'Captn', 'Captn Commanding TRIPLICATE',\n",
       "       'Charleston Sc', 'City Miss', 'Copy F K Field Capt', 'County',\n",
       "       'Frank Conner', 'Frank E Miller', 'Gibbs Henderson', 'Gry',\n",
       "       'Hazel', 'Hiram Smith', 'Hiserodt', 'Hu Kennedy',\n",
       "       'JF Steinmeyer Sworn', 'Jacob Schroder', 'Jacob Schroder Sworn',\n",
       "       'James D Kendall Amnesty Oath Administered At Oacen Springs',\n",
       "       'Joseph Edings', 'Laborer', 'Oaths', 'Pass Christian',\n",
       "       'Retained Copy', 'Robert A', 'Strikethrough',\n",
       "       'Thomas Andrew Oath of', 'Triplicate AMNESTY', 'Walhalla',\n",
       "       'Whaley', 'William Whaley Sworn', 'Woodville Wilkinson'],\n",
       "      dtype='<U58')"
      ]
     },
     "execution_count": 28,
     "metadata": {},
     "output_type": "execute_result"
    }
   ],
   "source": [
    "np.unique(Person)"
   ]
  },
  {
   "cell_type": "code",
   "execution_count": 29,
   "id": "8b5a4c4b",
   "metadata": {
    "execution": {
     "iopub.execute_input": "2022-06-03T13:27:51.640741Z",
     "iopub.status.busy": "2022-06-03T13:27:51.640330Z",
     "iopub.status.idle": "2022-06-03T13:27:51.646302Z",
     "shell.execute_reply": "2022-06-03T13:27:51.645385Z"
    },
    "papermill": {
     "duration": 0.03794,
     "end_time": "2022-06-03T13:27:51.648146",
     "exception": false,
     "start_time": "2022-06-03T13:27:51.610206",
     "status": "completed"
    },
    "tags": []
   },
   "outputs": [
    {
     "data": {
      "text/plain": [
       "['Anne H Elliott',\n",
       " 'Andrew Johnson',\n",
       " 'S Wilde Durson',\n",
       " 'Hazel',\n",
       " 'I E C Whaley',\n",
       " 'Levi Steuben',\n",
       " 'E C Whaley',\n",
       " 'E Montgomery',\n",
       " 'ANDREW JOHNSON',\n",
       " 'Levi Stuber Major',\n",
       " 'Montgomery',\n",
       " 'Hu Kennedy',\n",
       " 'JB Hiserodt',\n",
       " 'Whaley',\n",
       " 'William Whaley Sworn',\n",
       " 'Levi Stuber',\n",
       " 'I J F Steinmeyer',\n",
       " 'JF Steinmeyer',\n",
       " 'Joseph Edings',\n",
       " 'Frank Geise',\n",
       " 'Vicksburg',\n",
       " 'Jacob Schroder',\n",
       " 'Jacob Schroder Sworn',\n",
       " 'JW Baxter',\n",
       " 'J H Mathews',\n",
       " 'Frank E Miller',\n",
       " 'Bergevin',\n",
       " 'P H Joor',\n",
       " 'Frank Conner',\n",
       " 'Caroline Belitzer',\n",
       " 'caroline Belitzer',\n",
       " 'Hiram Smith',\n",
       " 'mark Sworn',\n",
       " 'Geo D Carpenter',\n",
       " 'Aiken Burnwell',\n",
       " 'James E Thuring',\n",
       " 'J E Thuring',\n",
       " 'Robert A Wilson',\n",
       " 'James D Kendall',\n",
       " 'Oath',\n",
       " 'I H F Holwell',\n",
       " 'H F Holwell',\n",
       " 'Mathews']"
      ]
     },
     "execution_count": 29,
     "metadata": {},
     "output_type": "execute_result"
    }
   ],
   "source": [
    "P"
   ]
  },
  {
   "cell_type": "markdown",
   "id": "d6553b20",
   "metadata": {
    "papermill": {
     "duration": 0.02844,
     "end_time": "2022-06-03T13:27:51.705656",
     "exception": false,
     "start_time": "2022-06-03T13:27:51.677216",
     "status": "completed"
    },
    "tags": []
   },
   "source": [
    "**still ner-english-ontonotes-large works better than spacy**"
   ]
  },
  {
   "cell_type": "markdown",
   "id": "49c9cd95",
   "metadata": {
    "papermill": {
     "duration": 0.028413,
     "end_time": "2022-06-03T13:27:51.762737",
     "exception": false,
     "start_time": "2022-06-03T13:27:51.734324",
     "status": "completed"
    },
    "tags": []
   },
   "source": [
    "****xlm-roberta-base-finetuned-panx-ner****\n",
    "for Person"
   ]
  },
  {
   "cell_type": "code",
   "execution_count": 30,
   "id": "91cb1ee9",
   "metadata": {
    "execution": {
     "iopub.execute_input": "2022-06-03T13:27:51.832216Z",
     "iopub.status.busy": "2022-06-03T13:27:51.831339Z",
     "iopub.status.idle": "2022-06-03T13:29:00.257609Z",
     "shell.execute_reply": "2022-06-03T13:29:00.256335Z"
    },
    "papermill": {
     "duration": 68.468423,
     "end_time": "2022-06-03T13:29:00.260749",
     "exception": false,
     "start_time": "2022-06-03T13:27:51.792326",
     "status": "completed"
    },
    "tags": []
   },
   "outputs": [
    {
     "data": {
      "application/vnd.jupyter.widget-view+json": {
       "model_id": "3ff0d57772014188a8534a66b4970418",
       "version_major": 2,
       "version_minor": 0
      },
      "text/plain": [
       "Downloading:   0%|          | 0.00/398 [00:00<?, ?B/s]"
      ]
     },
     "metadata": {},
     "output_type": "display_data"
    },
    {
     "data": {
      "application/vnd.jupyter.widget-view+json": {
       "model_id": "74bdbb513a1747ccb3d179f80a0b2fba",
       "version_major": 2,
       "version_minor": 0
      },
      "text/plain": [
       "Downloading:   0%|          | 0.00/4.83M [00:00<?, ?B/s]"
      ]
     },
     "metadata": {},
     "output_type": "display_data"
    },
    {
     "data": {
      "application/vnd.jupyter.widget-view+json": {
       "model_id": "b1f7913f75da4eea85d2d30877ef7700",
       "version_major": 2,
       "version_minor": 0
      },
      "text/plain": [
       "Downloading:   0%|          | 0.00/16.3M [00:00<?, ?B/s]"
      ]
     },
     "metadata": {},
     "output_type": "display_data"
    },
    {
     "data": {
      "application/vnd.jupyter.widget-view+json": {
       "model_id": "8b9a9446c97445c6b4e5c25be92e8ac9",
       "version_major": 2,
       "version_minor": 0
      },
      "text/plain": [
       "Downloading:   0%|          | 0.00/239 [00:00<?, ?B/s]"
      ]
     },
     "metadata": {},
     "output_type": "display_data"
    },
    {
     "data": {
      "application/vnd.jupyter.widget-view+json": {
       "model_id": "1099861e8ce84aaf8dae6f9bfe8e82cd",
       "version_major": 2,
       "version_minor": 0
      },
      "text/plain": [
       "Downloading:   0%|          | 0.00/964 [00:00<?, ?B/s]"
      ]
     },
     "metadata": {},
     "output_type": "display_data"
    },
    {
     "data": {
      "application/vnd.jupyter.widget-view+json": {
       "model_id": "04c117de7f804b28939dea163c7e4a0f",
       "version_major": 2,
       "version_minor": 0
      },
      "text/plain": [
       "Downloading:   0%|          | 0.00/1.03G [00:00<?, ?B/s]"
      ]
     },
     "metadata": {},
     "output_type": "display_data"
    }
   ],
   "source": [
    "from transformers import AutoTokenizer, AutoModelForTokenClassification\n",
    "from transformers import pipeline\n",
    "\n",
    "tokenizer = AutoTokenizer.from_pretrained(\"gunghio/xlm-roberta-base-finetuned-panx-ner\")\n",
    "model = AutoModelForTokenClassification.from_pretrained(\"gunghio/xlm-roberta-base-finetuned-panx-ner\")\n",
    "\n",
    "nlp1 = pipeline(\"ner\", model=model, tokenizer=tokenizer, aggregation_strategy=\"first\")"
   ]
  },
  {
   "cell_type": "code",
   "execution_count": 31,
   "id": "0ff09710",
   "metadata": {
    "execution": {
     "iopub.execute_input": "2022-06-03T13:29:00.327986Z",
     "iopub.status.busy": "2022-06-03T13:29:00.326677Z",
     "iopub.status.idle": "2022-06-03T13:29:06.710824Z",
     "shell.execute_reply": "2022-06-03T13:29:06.709850Z"
    },
    "papermill": {
     "duration": 6.420392,
     "end_time": "2022-06-03T13:29:06.713712",
     "exception": false,
     "start_time": "2022-06-03T13:29:00.293320",
     "status": "completed"
    },
    "tags": []
   },
   "outputs": [],
   "source": [
    "T7=[]\n",
    "example = text\n",
    "\n",
    "for i in range(20):\n",
    "        ner_results = nlp1(example[i])\n",
    "        T7.append(ner_results)"
   ]
  },
  {
   "cell_type": "code",
   "execution_count": 32,
   "id": "d6dc7514",
   "metadata": {
    "execution": {
     "iopub.execute_input": "2022-06-03T13:29:06.775732Z",
     "iopub.status.busy": "2022-06-03T13:29:06.775312Z",
     "iopub.status.idle": "2022-06-03T13:29:06.782154Z",
     "shell.execute_reply": "2022-06-03T13:29:06.781239Z"
    },
    "papermill": {
     "duration": 0.040252,
     "end_time": "2022-06-03T13:29:06.784135",
     "exception": false,
     "start_time": "2022-06-03T13:29:06.743883",
     "status": "completed"
    },
    "tags": []
   },
   "outputs": [
    {
     "data": {
      "text/plain": [
       "{'entity_group': 'ORG',\n",
       " 'score': 0.87107897,\n",
       " 'word': 'AmnestyProclamation',\n",
       " 'start': 45,\n",
       " 'end': 65}"
      ]
     },
     "execution_count": 32,
     "metadata": {},
     "output_type": "execute_result"
    }
   ],
   "source": [
    "T7[1][1]"
   ]
  },
  {
   "cell_type": "code",
   "execution_count": 33,
   "id": "d0d6ad51",
   "metadata": {
    "execution": {
     "iopub.execute_input": "2022-06-03T13:29:06.846726Z",
     "iopub.status.busy": "2022-06-03T13:29:06.845986Z",
     "iopub.status.idle": "2022-06-03T13:29:06.862605Z",
     "shell.execute_reply": "2022-06-03T13:29:06.861785Z"
    },
    "papermill": {
     "duration": 0.050991,
     "end_time": "2022-06-03T13:29:06.864912",
     "exception": false,
     "start_time": "2022-06-03T13:29:06.813921",
     "status": "completed"
    },
    "tags": []
   },
   "outputs": [],
   "source": [
    "Per2=[]\n",
    "ORg2=[]\n",
    "GPe2=[]\n",
    "for i in range(20):\n",
    "    for j in range(len(T7[i])):\n",
    "        if ( T7[i][j][\"entity_group\"]=='ORG') & ((T7[i][j][\"score\"]) > 0.90):\n",
    "            ORg2.append(T7[i][j][\"word\"])\n",
    "        elif ( T7[i][j][\"entity_group\"]=='PER')  & ((T7[i][j][\"score\"]) > 0.85):\n",
    "            Per2.append(T7[i][j][\"word\"])\n",
    "        elif ( T7[i][j][\"entity_group\"]=='LOC') & ((T7[i][j][\"score\"]) > 0.84) :\n",
    "            GPe2.append(T7[i][j][\"word\"])\n",
    "GPe2=np.array(GPe2)\n",
    "ORg2=np.array(ORg2)\n",
    "Per2=np.array(Per2)\n",
    "\n"
   ]
  },
  {
   "cell_type": "code",
   "execution_count": 34,
   "id": "eb4fc6f1",
   "metadata": {
    "execution": {
     "iopub.execute_input": "2022-06-03T13:29:06.928960Z",
     "iopub.status.busy": "2022-06-03T13:29:06.928343Z",
     "iopub.status.idle": "2022-06-03T13:29:06.934878Z",
     "shell.execute_reply": "2022-06-03T13:29:06.933850Z"
    },
    "papermill": {
     "duration": 0.041515,
     "end_time": "2022-06-03T13:29:06.936803",
     "exception": false,
     "start_time": "2022-06-03T13:29:06.895288",
     "status": "completed"
    },
    "tags": []
   },
   "outputs": [
    {
     "data": {
      "text/plain": [
       "array(['ANDREWJOHNSON', 'AndrewJohnson', 'AnneHElliott',\n",
       "       'CarolineBelitzer', 'FrankConner', 'HiramSmith', 'JFSteinmeyer',\n",
       "       'JacobSchroder', 'LeviSteuben', 'RobertAWilson', 'WildeDurson'],\n",
       "      dtype='<U16')"
      ]
     },
     "execution_count": 34,
     "metadata": {},
     "output_type": "execute_result"
    }
   ],
   "source": [
    "np.unique(Per2)"
   ]
  },
  {
   "cell_type": "code",
   "execution_count": 35,
   "id": "291e4bda",
   "metadata": {
    "execution": {
     "iopub.execute_input": "2022-06-03T13:29:06.999163Z",
     "iopub.status.busy": "2022-06-03T13:29:06.998602Z",
     "iopub.status.idle": "2022-06-03T13:29:07.005766Z",
     "shell.execute_reply": "2022-06-03T13:29:07.004656Z"
    },
    "papermill": {
     "duration": 0.041008,
     "end_time": "2022-06-03T13:29:07.007987",
     "exception": false,
     "start_time": "2022-06-03T13:29:06.966979",
     "status": "completed"
    },
    "tags": []
   },
   "outputs": [
    {
     "data": {
      "text/plain": [
       "array(['Amnesty Oath', 'Amnesty Oath Administered At', 'Andrew Johnson',\n",
       "       'Anne H Elliott', 'Anne H Elliott United States of America',\n",
       "       'Bolt Capt 54th', 'Brown', 'Captn', 'Captn Commanding TRIPLICATE',\n",
       "       'Charleston Sc', 'City Miss', 'Copy F K Field Capt', 'County',\n",
       "       'Frank Conner', 'Frank E Miller', 'Gibbs Henderson', 'Gry',\n",
       "       'Hazel', 'Hiram Smith', 'Hiserodt', 'Hu Kennedy',\n",
       "       'JF Steinmeyer Sworn', 'Jacob Schroder', 'Jacob Schroder Sworn',\n",
       "       'James D Kendall Amnesty Oath Administered At Oacen Springs',\n",
       "       'Joseph Edings', 'Laborer', 'Oaths', 'Pass Christian',\n",
       "       'Retained Copy', 'Robert A', 'Strikethrough',\n",
       "       'Thomas Andrew Oath of', 'Triplicate AMNESTY', 'Walhalla',\n",
       "       'Whaley', 'William Whaley Sworn', 'Woodville Wilkinson'],\n",
       "      dtype='<U58')"
      ]
     },
     "execution_count": 35,
     "metadata": {},
     "output_type": "execute_result"
    }
   ],
   "source": [
    "np.unique(Person)"
   ]
  },
  {
   "cell_type": "code",
   "execution_count": 36,
   "id": "172eba41",
   "metadata": {
    "execution": {
     "iopub.execute_input": "2022-06-03T13:29:07.073932Z",
     "iopub.status.busy": "2022-06-03T13:29:07.073330Z",
     "iopub.status.idle": "2022-06-03T13:29:07.079713Z",
     "shell.execute_reply": "2022-06-03T13:29:07.078751Z"
    },
    "papermill": {
     "duration": 0.041486,
     "end_time": "2022-06-03T13:29:07.081573",
     "exception": false,
     "start_time": "2022-06-03T13:29:07.040087",
     "status": "completed"
    },
    "tags": []
   },
   "outputs": [
    {
     "data": {
      "text/plain": [
       "array(['AikenSC', 'AlmightyGod', 'AmnestyOath', 'CharlestonSC',\n",
       "       'ConstitutionofUnitedStatesUnionofStates', 'EmancipationofSlaves',\n",
       "       'IWmWhaley', 'ThosGibbs', 'VicksburgMiss', 'WAFleitasAmnestyOath'],\n",
       "      dtype='<U39')"
      ]
     },
     "execution_count": 36,
     "metadata": {},
     "output_type": "execute_result"
    }
   ],
   "source": [
    "np.unique(ORg2)"
   ]
  },
  {
   "cell_type": "markdown",
   "id": "bde910b5",
   "metadata": {
    "papermill": {
     "duration": 0.030883,
     "end_time": "2022-06-03T13:29:07.144462",
     "exception": false,
     "start_time": "2022-06-03T13:29:07.113579",
     "status": "completed"
    },
    "tags": []
   },
   "source": [
    "****"
   ]
  },
  {
   "cell_type": "markdown",
   "id": "2ae9016e",
   "metadata": {
    "papermill": {
     "duration": 0.030395,
     "end_time": "2022-06-03T13:29:07.205348",
     "exception": false,
     "start_time": "2022-06-03T13:29:07.174953",
     "status": "completed"
    },
    "tags": []
   },
   "source": [
    "# best result until now"
   ]
  },
  {
   "cell_type": "markdown",
   "id": "2ac4457d",
   "metadata": {
    "papermill": {
     "duration": 0.0301,
     "end_time": "2022-06-03T13:29:07.265928",
     "exception": false,
     "start_time": "2022-06-03T13:29:07.235828",
     "status": "completed"
    },
    "tags": []
   },
   "source": [
    "***Person***"
   ]
  },
  {
   "cell_type": "code",
   "execution_count": 37,
   "id": "023925db",
   "metadata": {
    "execution": {
     "iopub.execute_input": "2022-06-03T13:29:07.329535Z",
     "iopub.status.busy": "2022-06-03T13:29:07.328964Z",
     "iopub.status.idle": "2022-06-03T13:29:07.335375Z",
     "shell.execute_reply": "2022-06-03T13:29:07.334519Z"
    },
    "papermill": {
     "duration": 0.040562,
     "end_time": "2022-06-03T13:29:07.337283",
     "exception": false,
     "start_time": "2022-06-03T13:29:07.296721",
     "status": "completed"
    },
    "tags": []
   },
   "outputs": [
    {
     "data": {
      "text/plain": [
       "array(['ANDREWJOHNSON', 'AndrewJohnson', 'AnneHElliott',\n",
       "       'CarolineBelitzer', 'FrankConner', 'HiramSmith', 'JFSteinmeyer',\n",
       "       'JacobSchroder', 'LeviSteuben', 'RobertAWilson', 'WildeDurson'],\n",
       "      dtype='<U16')"
      ]
     },
     "execution_count": 37,
     "metadata": {},
     "output_type": "execute_result"
    }
   ],
   "source": [
    "np.unique(Per2)"
   ]
  },
  {
   "cell_type": "code",
   "execution_count": 38,
   "id": "096feec9",
   "metadata": {
    "execution": {
     "iopub.execute_input": "2022-06-03T13:29:07.400268Z",
     "iopub.status.busy": "2022-06-03T13:29:07.399722Z",
     "iopub.status.idle": "2022-06-03T13:29:07.406390Z",
     "shell.execute_reply": "2022-06-03T13:29:07.405386Z"
    },
    "papermill": {
     "duration": 0.040693,
     "end_time": "2022-06-03T13:29:07.408358",
     "exception": false,
     "start_time": "2022-06-03T13:29:07.367665",
     "status": "completed"
    },
    "tags": []
   },
   "outputs": [
    {
     "data": {
      "text/plain": [
       "array(['ANDREW JOHNSON', 'Aiken Burnwell', 'Andrew Johnson',\n",
       "       'Anne H Elliott', 'Bergevin', 'Caroline Belitzer', 'E C Whaley',\n",
       "       'E Montgomery', 'Frank Conner', 'Frank E Miller', 'Frank Geise',\n",
       "       'Geo D Carpenter', 'H F Holwell', 'Hazel', 'Hiram Smith',\n",
       "       'Hu Kennedy', 'I E C Whaley', 'I H F Holwell', 'I J F Steinmeyer',\n",
       "       'J E Thuring', 'J H Mathews', 'JB Hiserodt', 'JF Steinmeyer',\n",
       "       'JW Baxter', 'Jacob Schroder', 'Jacob Schroder Sworn',\n",
       "       'James D Kendall', 'James E Thuring', 'Joseph Edings',\n",
       "       'Levi Steuben', 'Levi Stuber', 'Levi Stuber Major', 'Mathews',\n",
       "       'Montgomery', 'Oath', 'P H Joor', 'Robert A Wilson',\n",
       "       'S Wilde Durson', 'Vicksburg', 'Whaley', 'William Whaley Sworn',\n",
       "       'caroline Belitzer', 'mark Sworn'], dtype='<U20')"
      ]
     },
     "execution_count": 38,
     "metadata": {},
     "output_type": "execute_result"
    }
   ],
   "source": [
    "np.unique(P)"
   ]
  },
  {
   "cell_type": "markdown",
   "id": "92247ee6",
   "metadata": {
    "papermill": {
     "duration": 0.030133,
     "end_time": "2022-06-03T13:29:07.469074",
     "exception": false,
     "start_time": "2022-06-03T13:29:07.438941",
     "status": "completed"
    },
    "tags": []
   },
   "source": [
    "****"
   ]
  },
  {
   "cell_type": "markdown",
   "id": "7400f7ab",
   "metadata": {
    "papermill": {
     "duration": 0.030083,
     "end_time": "2022-06-03T13:29:07.529625",
     "exception": false,
     "start_time": "2022-06-03T13:29:07.499542",
     "status": "completed"
    },
    "tags": []
   },
   "source": [
    "***Organization***"
   ]
  },
  {
   "cell_type": "code",
   "execution_count": 39,
   "id": "2c92df2c",
   "metadata": {
    "execution": {
     "iopub.execute_input": "2022-06-03T13:29:07.593330Z",
     "iopub.status.busy": "2022-06-03T13:29:07.592764Z",
     "iopub.status.idle": "2022-06-03T13:29:07.599303Z",
     "shell.execute_reply": "2022-06-03T13:29:07.598462Z"
    },
    "papermill": {
     "duration": 0.041184,
     "end_time": "2022-06-03T13:29:07.601406",
     "exception": false,
     "start_time": "2022-06-03T13:29:07.560222",
     "status": "completed"
    },
    "tags": []
   },
   "outputs": [
    {
     "data": {
      "text/plain": [
       "array(['AikenSC', 'AlmightyGod', 'AmnestyOath', 'CharlestonSC',\n",
       "       'ConstitutionofUnitedStatesUnionofStates', 'EmancipationofSlaves',\n",
       "       'IWmWhaley', 'ThosGibbs', 'VicksburgMiss', 'WAFleitasAmnestyOath'],\n",
       "      dtype='<U39')"
      ]
     },
     "execution_count": 39,
     "metadata": {},
     "output_type": "execute_result"
    }
   ],
   "source": [
    "np.unique(ORg2)"
   ]
  },
  {
   "cell_type": "code",
   "execution_count": 40,
   "id": "be4c7f57",
   "metadata": {
    "execution": {
     "iopub.execute_input": "2022-06-03T13:29:07.665679Z",
     "iopub.status.busy": "2022-06-03T13:29:07.664925Z",
     "iopub.status.idle": "2022-06-03T13:29:07.671495Z",
     "shell.execute_reply": "2022-06-03T13:29:07.670556Z"
    },
    "papermill": {
     "duration": 0.040676,
     "end_time": "2022-06-03T13:29:07.673520",
     "exception": false,
     "start_time": "2022-06-03T13:29:07.632844",
     "status": "completed"
    },
    "tags": []
   },
   "outputs": [
    {
     "data": {
      "text/plain": [
       "array(['Amnesty', 'Department of State', 'Harrison Co',\n",
       "       'UNITED STATES FORCES', 'USCI', 'Union of States', 'Walhalla'],\n",
       "      dtype='<U20')"
      ]
     },
     "execution_count": 40,
     "metadata": {},
     "output_type": "execute_result"
    }
   ],
   "source": [
    "np.unique(OR)"
   ]
  },
  {
   "cell_type": "code",
   "execution_count": 41,
   "id": "027e8ae0",
   "metadata": {
    "execution": {
     "iopub.execute_input": "2022-06-03T13:29:07.738044Z",
     "iopub.status.busy": "2022-06-03T13:29:07.737245Z",
     "iopub.status.idle": "2022-06-03T13:29:07.744049Z",
     "shell.execute_reply": "2022-06-03T13:29:07.743099Z"
    },
    "papermill": {
     "duration": 0.041396,
     "end_time": "2022-06-03T13:29:07.746042",
     "exception": false,
     "start_time": "2022-06-03T13:29:07.704646",
     "status": "completed"
    },
    "tags": []
   },
   "outputs": [
    {
     "data": {
      "text/plain": [
       "array(['Charleston', 'Charleston S C', 'Charleston SC', 'Charleston Sc',\n",
       "       'City of Charleston', 'Mississippi City', 'So Carolina',\n",
       "       'South Carolina', 'UNITED STATES OF AMERICA', 'US',\n",
       "       'United States', 'United States of America',\n",
       "       'Walhalla State of South Carolina', 'strikethrough County'],\n",
       "      dtype='<U32')"
      ]
     },
     "execution_count": 41,
     "metadata": {},
     "output_type": "execute_result"
    }
   ],
   "source": [
    "np.unique(GP)"
   ]
  },
  {
   "cell_type": "markdown",
   "id": "4fb8319a",
   "metadata": {
    "papermill": {
     "duration": 0.032286,
     "end_time": "2022-06-03T13:29:07.809442",
     "exception": false,
     "start_time": "2022-06-03T13:29:07.777156",
     "status": "completed"
    },
    "tags": []
   },
   "source": [
    "****"
   ]
  },
  {
   "cell_type": "markdown",
   "id": "a06ace7b",
   "metadata": {
    "papermill": {
     "duration": 0.030596,
     "end_time": "2022-06-03T13:29:07.870960",
     "exception": false,
     "start_time": "2022-06-03T13:29:07.840364",
     "status": "completed"
    },
    "tags": []
   },
   "source": [
    "***GPE and location***"
   ]
  },
  {
   "cell_type": "code",
   "execution_count": 42,
   "id": "2533f021",
   "metadata": {
    "execution": {
     "iopub.execute_input": "2022-06-03T13:29:07.936521Z",
     "iopub.status.busy": "2022-06-03T13:29:07.936100Z",
     "iopub.status.idle": "2022-06-03T13:29:07.942496Z",
     "shell.execute_reply": "2022-06-03T13:29:07.941557Z"
    },
    "papermill": {
     "duration": 0.042607,
     "end_time": "2022-06-03T13:29:07.944689",
     "exception": false,
     "start_time": "2022-06-03T13:29:07.902082",
     "status": "completed"
    },
    "tags": []
   },
   "outputs": [
    {
     "data": {
      "text/plain": [
       "array(['Charleston', 'Gainsville', 'Mississippi', 'Mississippi City',\n",
       "       'NC', 'New Orleans', 'No1984 United States of America',\n",
       "       'South Carolina', 'States', 'US', 'United States',\n",
       "       'United States of America', 'Vicksburg'], dtype='<U31')"
      ]
     },
     "execution_count": 42,
     "metadata": {},
     "output_type": "execute_result"
    }
   ],
   "source": [
    "np.unique(GPE)"
   ]
  },
  {
   "cell_type": "markdown",
   "id": "d9fffb6e",
   "metadata": {
    "papermill": {
     "duration": 0.03205,
     "end_time": "2022-06-03T13:29:08.007726",
     "exception": false,
     "start_time": "2022-06-03T13:29:07.975676",
     "status": "completed"
    },
    "tags": []
   },
   "source": [
    "****"
   ]
  },
  {
   "cell_type": "markdown",
   "id": "bcd04fda",
   "metadata": {
    "papermill": {
     "duration": 0.030824,
     "end_time": "2022-06-03T13:29:08.069665",
     "exception": false,
     "start_time": "2022-06-03T13:29:08.038841",
     "status": "completed"
    },
    "tags": []
   },
   "source": [
    "***Date***"
   ]
  },
  {
   "cell_type": "code",
   "execution_count": 43,
   "id": "bb27466b",
   "metadata": {
    "execution": {
     "iopub.execute_input": "2022-06-03T13:29:08.134197Z",
     "iopub.status.busy": "2022-06-03T13:29:08.133492Z",
     "iopub.status.idle": "2022-06-03T13:29:08.140303Z",
     "shell.execute_reply": "2022-06-03T13:29:08.139461Z"
    },
    "papermill": {
     "duration": 0.041552,
     "end_time": "2022-06-03T13:29:08.142358",
     "exception": false,
     "start_time": "2022-06-03T13:29:08.100806",
     "status": "completed"
    },
    "tags": []
   },
   "outputs": [
    {
     "data": {
      "text/plain": [
       "array(['16 day of October 1865', '16th day of Sept 1865',\n",
       "       '18th Sept 1865', '20th day of August 1865',\n",
       "       '22nd day of August 1865', '24 year', '26 Years',\n",
       "       '27th day of Novb 1865', '27th day of Novbr 1865',\n",
       "       '28 day of Sept 1865', '29th day of Sept 29 1865',\n",
       "       '29th day of September 1865', '3 day of Augt 1865',\n",
       "       '3 day of August 1865', '31 day of Aug 1865', '31 day of Oct 1865',\n",
       "       '31st day of Aug 1865', '31st day of August AD 1865', '39 year',\n",
       "       '3d day of February 1868', '45years', '48 year', '58 year',\n",
       "       '58 year of age', '6 day of Nov 1865', '61 year', '63 year',\n",
       "       '7th day of September 186', 'Aug 2 7 66', 'Aug 20 1865',\n",
       "       'Aug 20th 1865', 'Aug 31 1865', 'August 24 1865',\n",
       "       'August 29th 1865', 'July 22', 'Maj 47', 'Maj 47th', 'Maj 66th',\n",
       "       'May 29th 1865', 'May 4', 'May 47 PM', 'Sept 29 1865',\n",
       "       'Sept 29th 1865', 'Thirty nine', 'twenty eight year'], dtype='<U26')"
      ]
     },
     "execution_count": 43,
     "metadata": {},
     "output_type": "execute_result"
    }
   ],
   "source": [
    "np.unique(Date)"
   ]
  },
  {
   "cell_type": "markdown",
   "id": "85815b89",
   "metadata": {
    "papermill": {
     "duration": 0.031022,
     "end_time": "2022-06-03T13:29:08.204700",
     "exception": false,
     "start_time": "2022-06-03T13:29:08.173678",
     "status": "completed"
    },
    "tags": []
   },
   "source": [
    "****"
   ]
  },
  {
   "cell_type": "markdown",
   "id": "dbcd413c",
   "metadata": {
    "papermill": {
     "duration": 0.030906,
     "end_time": "2022-06-03T13:29:08.266656",
     "exception": false,
     "start_time": "2022-06-03T13:29:08.235750",
     "status": "completed"
    },
    "tags": []
   },
   "source": [
    "****"
   ]
  },
  {
   "cell_type": "markdown",
   "id": "95252726",
   "metadata": {
    "papermill": {
     "duration": 0.031031,
     "end_time": "2022-06-03T13:29:08.328906",
     "exception": false,
     "start_time": "2022-06-03T13:29:08.297875",
     "status": "completed"
    },
    "tags": []
   },
   "source": [
    "**pattern**"
   ]
  },
  {
   "cell_type": "markdown",
   "id": "c233633b",
   "metadata": {
    "papermill": {
     "duration": 0.03142,
     "end_time": "2022-06-03T13:29:08.391579",
     "exception": false,
     "start_time": "2022-06-03T13:29:08.360159",
     "status": "completed"
    },
    "tags": []
   },
   "source": [
    "* num +... +Capital_letter+... + num\n",
    "* Cap_letter + num + num"
   ]
  },
  {
   "cell_type": "code",
   "execution_count": 44,
   "id": "cdca85cd",
   "metadata": {
    "execution": {
     "iopub.execute_input": "2022-06-03T13:29:08.455583Z",
     "iopub.status.busy": "2022-06-03T13:29:08.455173Z",
     "iopub.status.idle": "2022-06-03T13:29:08.462134Z",
     "shell.execute_reply": "2022-06-03T13:29:08.461350Z"
    },
    "papermill": {
     "duration": 0.041435,
     "end_time": "2022-06-03T13:29:08.464103",
     "exception": false,
     "start_time": "2022-06-03T13:29:08.422668",
     "status": "completed"
    },
    "tags": []
   },
   "outputs": [
    {
     "data": {
      "text/plain": [
       "array(['16 day of October 1865', '16th day of Sept 1865',\n",
       "       '18th Sept 1865', '20th day of August 1865',\n",
       "       '22nd day of August 1865', '24 year', '26 Years',\n",
       "       '27th day of Novb 1865', '27th day of Novbr 1865',\n",
       "       '28 day of Sept 1865', '29th day of Sept 29 1865',\n",
       "       '29th day of September 1865', '3 day of Augt 1865',\n",
       "       '3 day of August 1865', '31 day of Aug 1865', '31 day of Oct 1865',\n",
       "       '31st day of Aug 1865', '31st day of August AD 1865', '39 year',\n",
       "       '3d day of February 1868', '45years', '48 year', '58 year',\n",
       "       '58 year of age', '6 day of Nov 1865', '61 year', '63 year',\n",
       "       '7th day of September 186', 'Aug 2 7 66', 'Aug 20 1865',\n",
       "       'Aug 20th 1865', 'Aug 31 1865', 'August 24 1865',\n",
       "       'August 29th 1865', 'July 22', 'Maj 47', 'Maj 47th', 'Maj 66th',\n",
       "       'May 29th 1865', 'May 4', 'May 47 PM', 'Sept 29 1865',\n",
       "       'Sept 29th 1865', 'Thirty nine', 'twenty eight year'], dtype='<U26')"
      ]
     },
     "execution_count": 44,
     "metadata": {},
     "output_type": "execute_result"
    }
   ],
   "source": [
    "np.unique(Date)"
   ]
  },
  {
   "cell_type": "code",
   "execution_count": 45,
   "id": "0faaac96",
   "metadata": {
    "execution": {
     "iopub.execute_input": "2022-06-03T13:29:08.528731Z",
     "iopub.status.busy": "2022-06-03T13:29:08.528013Z",
     "iopub.status.idle": "2022-06-03T13:29:08.533908Z",
     "shell.execute_reply": "2022-06-03T13:29:08.532957Z"
    },
    "papermill": {
     "duration": 0.040636,
     "end_time": "2022-06-03T13:29:08.536052",
     "exception": false,
     "start_time": "2022-06-03T13:29:08.495416",
     "status": "completed"
    },
    "tags": []
   },
   "outputs": [],
   "source": [
    "import regex as re\n",
    "Pattern1=re.compile(r'^\\d\\.*.*\\d\\d$')\n",
    "Pattern2=re.compile(r'^[A-Z]\\.*.*\\d\\d$')"
   ]
  },
  {
   "cell_type": "code",
   "execution_count": 46,
   "id": "3d58879b",
   "metadata": {
    "execution": {
     "iopub.execute_input": "2022-06-03T13:29:08.603361Z",
     "iopub.status.busy": "2022-06-03T13:29:08.602604Z",
     "iopub.status.idle": "2022-06-03T13:29:08.609289Z",
     "shell.execute_reply": "2022-06-03T13:29:08.608463Z"
    },
    "papermill": {
     "duration": 0.042515,
     "end_time": "2022-06-03T13:29:08.611614",
     "exception": false,
     "start_time": "2022-06-03T13:29:08.569099",
     "status": "completed"
    },
    "tags": []
   },
   "outputs": [],
   "source": [
    "M=[]\n",
    "for i in Date:\n",
    "        date=re.search(r'^\\d\\.*.*\\d\\d$' ,i)\n",
    "        date2=re.search(r'^[A-Z]\\.*.*\\d\\d$' ,i)\n",
    "        M.append(date)\n",
    "        M.append(date2)\n",
    "        "
   ]
  },
  {
   "cell_type": "code",
   "execution_count": 47,
   "id": "78a3e2b5",
   "metadata": {
    "execution": {
     "iopub.execute_input": "2022-06-03T13:29:08.677529Z",
     "iopub.status.busy": "2022-06-03T13:29:08.676785Z",
     "iopub.status.idle": "2022-06-03T13:29:08.683461Z",
     "shell.execute_reply": "2022-06-03T13:29:08.682580Z"
    },
    "papermill": {
     "duration": 0.041923,
     "end_time": "2022-06-03T13:29:08.685753",
     "exception": false,
     "start_time": "2022-06-03T13:29:08.643830",
     "status": "completed"
    },
    "tags": []
   },
   "outputs": [],
   "source": [
    "F=[]\n",
    "for i in M:\n",
    "    if i!=None:\n",
    "        F.append(i.group())"
   ]
  },
  {
   "cell_type": "code",
   "execution_count": 48,
   "id": "8a25bb08",
   "metadata": {
    "execution": {
     "iopub.execute_input": "2022-06-03T13:29:08.751075Z",
     "iopub.status.busy": "2022-06-03T13:29:08.750650Z",
     "iopub.status.idle": "2022-06-03T13:29:08.757273Z",
     "shell.execute_reply": "2022-06-03T13:29:08.756278Z"
    },
    "papermill": {
     "duration": 0.041897,
     "end_time": "2022-06-03T13:29:08.759818",
     "exception": false,
     "start_time": "2022-06-03T13:29:08.717921",
     "status": "completed"
    },
    "tags": []
   },
   "outputs": [
    {
     "data": {
      "text/plain": [
       "['May 29th 1865',\n",
       " '27th day of Novb 1865',\n",
       " '27th day of Novbr 1865',\n",
       " '28 day of Sept 1865',\n",
       " '31 day of Oct 1865',\n",
       " '31st day of August AD 1865',\n",
       " 'August 24 1865',\n",
       " '3 day of August 1865',\n",
       " '3 day of Augt 1865',\n",
       " 'Maj 47',\n",
       " '16th day of Sept 1865',\n",
       " '16 day of October 1865',\n",
       " 'July 22',\n",
       " '6 day of Nov 1865',\n",
       " 'Sept 29 1865',\n",
       " '29th day of September 1865',\n",
       " 'Sept 29th 1865',\n",
       " '29th day of Sept 29 1865',\n",
       " '3d day of February 1868',\n",
       " '7th day of September 186',\n",
       " 'Aug 20 1865',\n",
       " '20th day of August 1865',\n",
       " 'Aug 20th 1865',\n",
       " 'August 29th 1865',\n",
       " '22nd day of August 1865',\n",
       " '18th Sept 1865',\n",
       " 'Aug 2 7 66',\n",
       " 'Aug 31 1865',\n",
       " '31st day of Aug 1865',\n",
       " '31 day of Aug 1865']"
      ]
     },
     "execution_count": 48,
     "metadata": {},
     "output_type": "execute_result"
    }
   ],
   "source": [
    "F"
   ]
  },
  {
   "cell_type": "markdown",
   "id": "ad80b14c",
   "metadata": {
    "papermill": {
     "duration": 0.039627,
     "end_time": "2022-06-03T13:29:08.838372",
     "exception": false,
     "start_time": "2022-06-03T13:29:08.798745",
     "status": "completed"
    },
    "tags": []
   },
   "source": [
    "> great!"
   ]
  },
  {
   "cell_type": "code",
   "execution_count": 49,
   "id": "4f6d719a",
   "metadata": {
    "execution": {
     "iopub.execute_input": "2022-06-03T13:29:08.922422Z",
     "iopub.status.busy": "2022-06-03T13:29:08.921868Z",
     "iopub.status.idle": "2022-06-03T13:29:08.928316Z",
     "shell.execute_reply": "2022-06-03T13:29:08.927575Z"
    },
    "papermill": {
     "duration": 0.052885,
     "end_time": "2022-06-03T13:29:08.930428",
     "exception": false,
     "start_time": "2022-06-03T13:29:08.877543",
     "status": "completed"
    },
    "tags": []
   },
   "outputs": [
    {
     "data": {
      "text/plain": [
       "['Anne H Elliott',\n",
       " 'Andrew Johnson',\n",
       " 'S Wilde Durson',\n",
       " 'Hazel',\n",
       " 'I E C Whaley',\n",
       " 'Levi Steuben',\n",
       " 'E C Whaley',\n",
       " 'E Montgomery',\n",
       " 'ANDREW JOHNSON',\n",
       " 'Levi Stuber Major',\n",
       " 'Montgomery',\n",
       " 'Hu Kennedy',\n",
       " 'JB Hiserodt',\n",
       " 'Whaley',\n",
       " 'William Whaley Sworn',\n",
       " 'Levi Stuber',\n",
       " 'I J F Steinmeyer',\n",
       " 'JF Steinmeyer',\n",
       " 'Joseph Edings',\n",
       " 'Frank Geise',\n",
       " 'Vicksburg',\n",
       " 'Jacob Schroder',\n",
       " 'Jacob Schroder Sworn',\n",
       " 'JW Baxter',\n",
       " 'J H Mathews',\n",
       " 'Frank E Miller',\n",
       " 'Bergevin',\n",
       " 'P H Joor',\n",
       " 'Frank Conner',\n",
       " 'Caroline Belitzer',\n",
       " 'caroline Belitzer',\n",
       " 'Hiram Smith',\n",
       " 'mark Sworn',\n",
       " 'Geo D Carpenter',\n",
       " 'Aiken Burnwell',\n",
       " 'James E Thuring',\n",
       " 'J E Thuring',\n",
       " 'Robert A Wilson',\n",
       " 'James D Kendall',\n",
       " 'Oath',\n",
       " 'I H F Holwell',\n",
       " 'H F Holwell',\n",
       " 'Mathews']"
      ]
     },
     "execution_count": 49,
     "metadata": {},
     "output_type": "execute_result"
    }
   ],
   "source": [
    "P"
   ]
  },
  {
   "cell_type": "code",
   "execution_count": null,
   "id": "036485c0",
   "metadata": {
    "papermill": {
     "duration": 0.031974,
     "end_time": "2022-06-03T13:29:08.996931",
     "exception": false,
     "start_time": "2022-06-03T13:29:08.964957",
     "status": "completed"
    },
    "tags": []
   },
   "outputs": [],
   "source": []
  },
  {
   "cell_type": "code",
   "execution_count": null,
   "id": "3c7fac5f",
   "metadata": {
    "papermill": {
     "duration": 0.031752,
     "end_time": "2022-06-03T13:29:09.062188",
     "exception": false,
     "start_time": "2022-06-03T13:29:09.030436",
     "status": "completed"
    },
    "tags": []
   },
   "outputs": [],
   "source": []
  }
 ],
 "metadata": {
  "kernelspec": {
   "display_name": "Python 3",
   "language": "python",
   "name": "python3"
  },
  "language_info": {
   "codemirror_mode": {
    "name": "ipython",
    "version": 3
   },
   "file_extension": ".py",
   "mimetype": "text/x-python",
   "name": "python",
   "nbconvert_exporter": "python",
   "pygments_lexer": "ipython3",
   "version": "3.7.12"
  },
  "papermill": {
   "default_parameters": {},
   "duration": 319.649437,
   "end_time": "2022-06-03T13:29:11.719716",
   "environment_variables": {},
   "exception": null,
   "input_path": "__notebook__.ipynb",
   "output_path": "__notebook__.ipynb",
   "parameters": {},
   "start_time": "2022-06-03T13:23:52.070279",
   "version": "2.3.4"
  },
  "widgets": {
   "application/vnd.jupyter.widget-state+json": {
    "state": {
     "04c117de7f804b28939dea163c7e4a0f": {
      "model_module": "@jupyter-widgets/controls",
      "model_module_version": "1.5.0",
      "model_name": "HBoxModel",
      "state": {
       "_dom_classes": [],
       "_model_module": "@jupyter-widgets/controls",
       "_model_module_version": "1.5.0",
       "_model_name": "HBoxModel",
       "_view_count": null,
       "_view_module": "@jupyter-widgets/controls",
       "_view_module_version": "1.5.0",
       "_view_name": "HBoxView",
       "box_style": "",
       "children": [
        "IPY_MODEL_75539214a7dc4f9380b2819f03b98116",
        "IPY_MODEL_dddc51f6a25d44c28b60db5c9a0de4c4",
        "IPY_MODEL_eeae22bb6b33481c9a9b7ed2fe0dc7b9"
       ],
       "layout": "IPY_MODEL_74c0190528af4f619941496d16270d7f"
      }
     },
     "08559a36cb4644ca91dbd72673241624": {
      "model_module": "@jupyter-widgets/controls",
      "model_module_version": "1.5.0",
      "model_name": "DescriptionStyleModel",
      "state": {
       "_model_module": "@jupyter-widgets/controls",
       "_model_module_version": "1.5.0",
       "_model_name": "DescriptionStyleModel",
       "_view_count": null,
       "_view_module": "@jupyter-widgets/base",
       "_view_module_version": "1.2.0",
       "_view_name": "StyleView",
       "description_width": ""
      }
     },
     "09916f241dfb481ea29de9f3ebaeafe5": {
      "model_module": "@jupyter-widgets/controls",
      "model_module_version": "1.5.0",
      "model_name": "DescriptionStyleModel",
      "state": {
       "_model_module": "@jupyter-widgets/controls",
       "_model_module_version": "1.5.0",
       "_model_name": "DescriptionStyleModel",
       "_view_count": null,
       "_view_module": "@jupyter-widgets/base",
       "_view_module_version": "1.2.0",
       "_view_name": "StyleView",
       "description_width": ""
      }
     },
     "09d9408010af4a818f0e3b1754b8db64": {
      "model_module": "@jupyter-widgets/base",
      "model_module_version": "1.2.0",
      "model_name": "LayoutModel",
      "state": {
       "_model_module": "@jupyter-widgets/base",
       "_model_module_version": "1.2.0",
       "_model_name": "LayoutModel",
       "_view_count": null,
       "_view_module": "@jupyter-widgets/base",
       "_view_module_version": "1.2.0",
       "_view_name": "LayoutView",
       "align_content": null,
       "align_items": null,
       "align_self": null,
       "border": null,
       "bottom": null,
       "display": null,
       "flex": null,
       "flex_flow": null,
       "grid_area": null,
       "grid_auto_columns": null,
       "grid_auto_flow": null,
       "grid_auto_rows": null,
       "grid_column": null,
       "grid_gap": null,
       "grid_row": null,
       "grid_template_areas": null,
       "grid_template_columns": null,
       "grid_template_rows": null,
       "height": null,
       "justify_content": null,
       "justify_items": null,
       "left": null,
       "margin": null,
       "max_height": null,
       "max_width": null,
       "min_height": null,
       "min_width": null,
       "object_fit": null,
       "object_position": null,
       "order": null,
       "overflow": null,
       "overflow_x": null,
       "overflow_y": null,
       "padding": null,
       "right": null,
       "top": null,
       "visibility": null,
       "width": null
      }
     },
     "0b3e917489df4c90ba79d8459e3facb3": {
      "model_module": "@jupyter-widgets/controls",
      "model_module_version": "1.5.0",
      "model_name": "HTMLModel",
      "state": {
       "_dom_classes": [],
       "_model_module": "@jupyter-widgets/controls",
       "_model_module_version": "1.5.0",
       "_model_name": "HTMLModel",
       "_view_count": null,
       "_view_module": "@jupyter-widgets/controls",
       "_view_module_version": "1.5.0",
       "_view_name": "HTMLView",
       "description": "",
       "description_tooltip": null,
       "layout": "IPY_MODEL_d71d0d7e40ee4668bd3a7b9ce2779ca8",
       "placeholder": "​",
       "style": "IPY_MODEL_c769ee20ce4e43da9361fefa70c3f9bb",
       "value": "Downloading: 100%"
      }
     },
     "0c8998aefa4c4e30be08b24c541a386c": {
      "model_module": "@jupyter-widgets/controls",
      "model_module_version": "1.5.0",
      "model_name": "ProgressStyleModel",
      "state": {
       "_model_module": "@jupyter-widgets/controls",
       "_model_module_version": "1.5.0",
       "_model_name": "ProgressStyleModel",
       "_view_count": null,
       "_view_module": "@jupyter-widgets/base",
       "_view_module_version": "1.2.0",
       "_view_name": "StyleView",
       "bar_color": null,
       "description_width": ""
      }
     },
     "0cf2837e98e042bfa80732e51fe123b8": {
      "model_module": "@jupyter-widgets/base",
      "model_module_version": "1.2.0",
      "model_name": "LayoutModel",
      "state": {
       "_model_module": "@jupyter-widgets/base",
       "_model_module_version": "1.2.0",
       "_model_name": "LayoutModel",
       "_view_count": null,
       "_view_module": "@jupyter-widgets/base",
       "_view_module_version": "1.2.0",
       "_view_name": "LayoutView",
       "align_content": null,
       "align_items": null,
       "align_self": null,
       "border": null,
       "bottom": null,
       "display": null,
       "flex": null,
       "flex_flow": null,
       "grid_area": null,
       "grid_auto_columns": null,
       "grid_auto_flow": null,
       "grid_auto_rows": null,
       "grid_column": null,
       "grid_gap": null,
       "grid_row": null,
       "grid_template_areas": null,
       "grid_template_columns": null,
       "grid_template_rows": null,
       "height": null,
       "justify_content": null,
       "justify_items": null,
       "left": null,
       "margin": null,
       "max_height": null,
       "max_width": null,
       "min_height": null,
       "min_width": null,
       "object_fit": null,
       "object_position": null,
       "order": null,
       "overflow": null,
       "overflow_x": null,
       "overflow_y": null,
       "padding": null,
       "right": null,
       "top": null,
       "visibility": null,
       "width": null
      }
     },
     "1099861e8ce84aaf8dae6f9bfe8e82cd": {
      "model_module": "@jupyter-widgets/controls",
      "model_module_version": "1.5.0",
      "model_name": "HBoxModel",
      "state": {
       "_dom_classes": [],
       "_model_module": "@jupyter-widgets/controls",
       "_model_module_version": "1.5.0",
       "_model_name": "HBoxModel",
       "_view_count": null,
       "_view_module": "@jupyter-widgets/controls",
       "_view_module_version": "1.5.0",
       "_view_name": "HBoxView",
       "box_style": "",
       "children": [
        "IPY_MODEL_ab0a2d44ca3546298d94e610f3627273",
        "IPY_MODEL_ef8178031f38414b81ba2801c88988d2",
        "IPY_MODEL_703e249e29254a5d9916b4595981af8b"
       ],
       "layout": "IPY_MODEL_7c03fc5e7ce84063a808855c876c731a"
      }
     },
     "11d85014a1394d92b1758baa093a0c37": {
      "model_module": "@jupyter-widgets/controls",
      "model_module_version": "1.5.0",
      "model_name": "ProgressStyleModel",
      "state": {
       "_model_module": "@jupyter-widgets/controls",
       "_model_module_version": "1.5.0",
       "_model_name": "ProgressStyleModel",
       "_view_count": null,
       "_view_module": "@jupyter-widgets/base",
       "_view_module_version": "1.2.0",
       "_view_name": "StyleView",
       "bar_color": null,
       "description_width": ""
      }
     },
     "1b13081478e3484eaf7d28335f1fde47": {
      "model_module": "@jupyter-widgets/controls",
      "model_module_version": "1.5.0",
      "model_name": "DescriptionStyleModel",
      "state": {
       "_model_module": "@jupyter-widgets/controls",
       "_model_module_version": "1.5.0",
       "_model_name": "DescriptionStyleModel",
       "_view_count": null,
       "_view_module": "@jupyter-widgets/base",
       "_view_module_version": "1.2.0",
       "_view_name": "StyleView",
       "description_width": ""
      }
     },
     "1c3ab6416a2d4ccf885659fae942bc0e": {
      "model_module": "@jupyter-widgets/base",
      "model_module_version": "1.2.0",
      "model_name": "LayoutModel",
      "state": {
       "_model_module": "@jupyter-widgets/base",
       "_model_module_version": "1.2.0",
       "_model_name": "LayoutModel",
       "_view_count": null,
       "_view_module": "@jupyter-widgets/base",
       "_view_module_version": "1.2.0",
       "_view_name": "LayoutView",
       "align_content": null,
       "align_items": null,
       "align_self": null,
       "border": null,
       "bottom": null,
       "display": null,
       "flex": null,
       "flex_flow": null,
       "grid_area": null,
       "grid_auto_columns": null,
       "grid_auto_flow": null,
       "grid_auto_rows": null,
       "grid_column": null,
       "grid_gap": null,
       "grid_row": null,
       "grid_template_areas": null,
       "grid_template_columns": null,
       "grid_template_rows": null,
       "height": null,
       "justify_content": null,
       "justify_items": null,
       "left": null,
       "margin": null,
       "max_height": null,
       "max_width": null,
       "min_height": null,
       "min_width": null,
       "object_fit": null,
       "object_position": null,
       "order": null,
       "overflow": null,
       "overflow_x": null,
       "overflow_y": null,
       "padding": null,
       "right": null,
       "top": null,
       "visibility": null,
       "width": null
      }
     },
     "1e4a1ca70e744dc696c7d179a5bd07ab": {
      "model_module": "@jupyter-widgets/controls",
      "model_module_version": "1.5.0",
      "model_name": "HBoxModel",
      "state": {
       "_dom_classes": [],
       "_model_module": "@jupyter-widgets/controls",
       "_model_module_version": "1.5.0",
       "_model_name": "HBoxModel",
       "_view_count": null,
       "_view_module": "@jupyter-widgets/controls",
       "_view_module_version": "1.5.0",
       "_view_name": "HBoxView",
       "box_style": "",
       "children": [
        "IPY_MODEL_3aa8c9b342ff4eaba4602d5cc12b7fe7",
        "IPY_MODEL_6dfc67b281e44bf0a8f93494fbbcaa03",
        "IPY_MODEL_87bc3fc3025f4f028c7b135f6f8d7acd"
       ],
       "layout": "IPY_MODEL_c8b56bd272df4397ab693cef2da32ab2"
      }
     },
     "21cbd0669002491c8c42bbc6cf9539c4": {
      "model_module": "@jupyter-widgets/base",
      "model_module_version": "1.2.0",
      "model_name": "LayoutModel",
      "state": {
       "_model_module": "@jupyter-widgets/base",
       "_model_module_version": "1.2.0",
       "_model_name": "LayoutModel",
       "_view_count": null,
       "_view_module": "@jupyter-widgets/base",
       "_view_module_version": "1.2.0",
       "_view_name": "LayoutView",
       "align_content": null,
       "align_items": null,
       "align_self": null,
       "border": null,
       "bottom": null,
       "display": null,
       "flex": null,
       "flex_flow": null,
       "grid_area": null,
       "grid_auto_columns": null,
       "grid_auto_flow": null,
       "grid_auto_rows": null,
       "grid_column": null,
       "grid_gap": null,
       "grid_row": null,
       "grid_template_areas": null,
       "grid_template_columns": null,
       "grid_template_rows": null,
       "height": null,
       "justify_content": null,
       "justify_items": null,
       "left": null,
       "margin": null,
       "max_height": null,
       "max_width": null,
       "min_height": null,
       "min_width": null,
       "object_fit": null,
       "object_position": null,
       "order": null,
       "overflow": null,
       "overflow_x": null,
       "overflow_y": null,
       "padding": null,
       "right": null,
       "top": null,
       "visibility": null,
       "width": null
      }
     },
     "2897a4cc89e949cf9dd0d9198d554601": {
      "model_module": "@jupyter-widgets/controls",
      "model_module_version": "1.5.0",
      "model_name": "DescriptionStyleModel",
      "state": {
       "_model_module": "@jupyter-widgets/controls",
       "_model_module_version": "1.5.0",
       "_model_name": "DescriptionStyleModel",
       "_view_count": null,
       "_view_module": "@jupyter-widgets/base",
       "_view_module_version": "1.2.0",
       "_view_name": "StyleView",
       "description_width": ""
      }
     },
     "2a2c08ffbda54bd483963e61efa8cafd": {
      "model_module": "@jupyter-widgets/base",
      "model_module_version": "1.2.0",
      "model_name": "LayoutModel",
      "state": {
       "_model_module": "@jupyter-widgets/base",
       "_model_module_version": "1.2.0",
       "_model_name": "LayoutModel",
       "_view_count": null,
       "_view_module": "@jupyter-widgets/base",
       "_view_module_version": "1.2.0",
       "_view_name": "LayoutView",
       "align_content": null,
       "align_items": null,
       "align_self": null,
       "border": null,
       "bottom": null,
       "display": null,
       "flex": null,
       "flex_flow": null,
       "grid_area": null,
       "grid_auto_columns": null,
       "grid_auto_flow": null,
       "grid_auto_rows": null,
       "grid_column": null,
       "grid_gap": null,
       "grid_row": null,
       "grid_template_areas": null,
       "grid_template_columns": null,
       "grid_template_rows": null,
       "height": null,
       "justify_content": null,
       "justify_items": null,
       "left": null,
       "margin": null,
       "max_height": null,
       "max_width": null,
       "min_height": null,
       "min_width": null,
       "object_fit": null,
       "object_position": null,
       "order": null,
       "overflow": null,
       "overflow_x": null,
       "overflow_y": null,
       "padding": null,
       "right": null,
       "top": null,
       "visibility": null,
       "width": null
      }
     },
     "2cc962c981c24170bc0529a846c5d5d2": {
      "model_module": "@jupyter-widgets/controls",
      "model_module_version": "1.5.0",
      "model_name": "HTMLModel",
      "state": {
       "_dom_classes": [],
       "_model_module": "@jupyter-widgets/controls",
       "_model_module_version": "1.5.0",
       "_model_name": "HTMLModel",
       "_view_count": null,
       "_view_module": "@jupyter-widgets/controls",
       "_view_module_version": "1.5.0",
       "_view_name": "HTMLView",
       "description": "",
       "description_tooltip": null,
       "layout": "IPY_MODEL_a5f730a0698b4a7c8971820b79a378c9",
       "placeholder": "​",
       "style": "IPY_MODEL_09916f241dfb481ea29de9f3ebaeafe5",
       "value": " 16.3M/16.3M [00:03&lt;00:00, 8.33MB/s]"
      }
     },
     "2db9e78e9bf044a0a38bb12e2b7f276c": {
      "model_module": "@jupyter-widgets/controls",
      "model_module_version": "1.5.0",
      "model_name": "ProgressStyleModel",
      "state": {
       "_model_module": "@jupyter-widgets/controls",
       "_model_module_version": "1.5.0",
       "_model_name": "ProgressStyleModel",
       "_view_count": null,
       "_view_module": "@jupyter-widgets/base",
       "_view_module_version": "1.2.0",
       "_view_name": "StyleView",
       "bar_color": null,
       "description_width": ""
      }
     },
     "3245ecb7e02f42c3bf156621857a4cac": {
      "model_module": "@jupyter-widgets/controls",
      "model_module_version": "1.5.0",
      "model_name": "FloatProgressModel",
      "state": {
       "_dom_classes": [],
       "_model_module": "@jupyter-widgets/controls",
       "_model_module_version": "1.5.0",
       "_model_name": "FloatProgressModel",
       "_view_count": null,
       "_view_module": "@jupyter-widgets/controls",
       "_view_module_version": "1.5.0",
       "_view_name": "ProgressView",
       "bar_style": "success",
       "description": "",
       "description_tooltip": null,
       "layout": "IPY_MODEL_0cf2837e98e042bfa80732e51fe123b8",
       "max": 17082758.0,
       "min": 0.0,
       "orientation": "horizontal",
       "style": "IPY_MODEL_0c8998aefa4c4e30be08b24c541a386c",
       "value": 17082758.0
      }
     },
     "347731c0fb064b569eb5d4dd30cef213": {
      "model_module": "@jupyter-widgets/base",
      "model_module_version": "1.2.0",
      "model_name": "LayoutModel",
      "state": {
       "_model_module": "@jupyter-widgets/base",
       "_model_module_version": "1.2.0",
       "_model_name": "LayoutModel",
       "_view_count": null,
       "_view_module": "@jupyter-widgets/base",
       "_view_module_version": "1.2.0",
       "_view_name": "LayoutView",
       "align_content": null,
       "align_items": null,
       "align_self": null,
       "border": null,
       "bottom": null,
       "display": null,
       "flex": null,
       "flex_flow": null,
       "grid_area": null,
       "grid_auto_columns": null,
       "grid_auto_flow": null,
       "grid_auto_rows": null,
       "grid_column": null,
       "grid_gap": null,
       "grid_row": null,
       "grid_template_areas": null,
       "grid_template_columns": null,
       "grid_template_rows": null,
       "height": null,
       "justify_content": null,
       "justify_items": null,
       "left": null,
       "margin": null,
       "max_height": null,
       "max_width": null,
       "min_height": null,
       "min_width": null,
       "object_fit": null,
       "object_position": null,
       "order": null,
       "overflow": null,
       "overflow_x": null,
       "overflow_y": null,
       "padding": null,
       "right": null,
       "top": null,
       "visibility": null,
       "width": null
      }
     },
     "3aa8c9b342ff4eaba4602d5cc12b7fe7": {
      "model_module": "@jupyter-widgets/controls",
      "model_module_version": "1.5.0",
      "model_name": "HTMLModel",
      "state": {
       "_dom_classes": [],
       "_model_module": "@jupyter-widgets/controls",
       "_model_module_version": "1.5.0",
       "_model_name": "HTMLModel",
       "_view_count": null,
       "_view_module": "@jupyter-widgets/controls",
       "_view_module_version": "1.5.0",
       "_view_name": "HTMLView",
       "description": "",
       "description_tooltip": null,
       "layout": "IPY_MODEL_c0a6320d77be4c9f8ea809c25c28d0bf",
       "placeholder": "​",
       "style": "IPY_MODEL_490838ace60b4226936b95390ca4fa91",
       "value": "Downloading: 100%"
      }
     },
     "3d201445a199477fa2baf026ba5305ec": {
      "model_module": "@jupyter-widgets/base",
      "model_module_version": "1.2.0",
      "model_name": "LayoutModel",
      "state": {
       "_model_module": "@jupyter-widgets/base",
       "_model_module_version": "1.2.0",
       "_model_name": "LayoutModel",
       "_view_count": null,
       "_view_module": "@jupyter-widgets/base",
       "_view_module_version": "1.2.0",
       "_view_name": "LayoutView",
       "align_content": null,
       "align_items": null,
       "align_self": null,
       "border": null,
       "bottom": null,
       "display": null,
       "flex": null,
       "flex_flow": null,
       "grid_area": null,
       "grid_auto_columns": null,
       "grid_auto_flow": null,
       "grid_auto_rows": null,
       "grid_column": null,
       "grid_gap": null,
       "grid_row": null,
       "grid_template_areas": null,
       "grid_template_columns": null,
       "grid_template_rows": null,
       "height": null,
       "justify_content": null,
       "justify_items": null,
       "left": null,
       "margin": null,
       "max_height": null,
       "max_width": null,
       "min_height": null,
       "min_width": null,
       "object_fit": null,
       "object_position": null,
       "order": null,
       "overflow": null,
       "overflow_x": null,
       "overflow_y": null,
       "padding": null,
       "right": null,
       "top": null,
       "visibility": null,
       "width": null
      }
     },
     "3ff0d57772014188a8534a66b4970418": {
      "model_module": "@jupyter-widgets/controls",
      "model_module_version": "1.5.0",
      "model_name": "HBoxModel",
      "state": {
       "_dom_classes": [],
       "_model_module": "@jupyter-widgets/controls",
       "_model_module_version": "1.5.0",
       "_model_name": "HBoxModel",
       "_view_count": null,
       "_view_module": "@jupyter-widgets/controls",
       "_view_module_version": "1.5.0",
       "_view_name": "HBoxView",
       "box_style": "",
       "children": [
        "IPY_MODEL_f819e24685bf4bb4ab78047eb63b8233",
        "IPY_MODEL_891244b1d1ef4a0eaa3303415d01ce29",
        "IPY_MODEL_b356e49f8bee45fd9bb1bb1f8551af80"
       ],
       "layout": "IPY_MODEL_2a2c08ffbda54bd483963e61efa8cafd"
      }
     },
     "40423e24f96b4068bf303e352510a153": {
      "model_module": "@jupyter-widgets/controls",
      "model_module_version": "1.5.0",
      "model_name": "DescriptionStyleModel",
      "state": {
       "_model_module": "@jupyter-widgets/controls",
       "_model_module_version": "1.5.0",
       "_model_name": "DescriptionStyleModel",
       "_view_count": null,
       "_view_module": "@jupyter-widgets/base",
       "_view_module_version": "1.2.0",
       "_view_name": "StyleView",
       "description_width": ""
      }
     },
     "40fed2ab15e6497095e884ca4056eac7": {
      "model_module": "@jupyter-widgets/base",
      "model_module_version": "1.2.0",
      "model_name": "LayoutModel",
      "state": {
       "_model_module": "@jupyter-widgets/base",
       "_model_module_version": "1.2.0",
       "_model_name": "LayoutModel",
       "_view_count": null,
       "_view_module": "@jupyter-widgets/base",
       "_view_module_version": "1.2.0",
       "_view_name": "LayoutView",
       "align_content": null,
       "align_items": null,
       "align_self": null,
       "border": null,
       "bottom": null,
       "display": null,
       "flex": null,
       "flex_flow": null,
       "grid_area": null,
       "grid_auto_columns": null,
       "grid_auto_flow": null,
       "grid_auto_rows": null,
       "grid_column": null,
       "grid_gap": null,
       "grid_row": null,
       "grid_template_areas": null,
       "grid_template_columns": null,
       "grid_template_rows": null,
       "height": null,
       "justify_content": null,
       "justify_items": null,
       "left": null,
       "margin": null,
       "max_height": null,
       "max_width": null,
       "min_height": null,
       "min_width": null,
       "object_fit": null,
       "object_position": null,
       "order": null,
       "overflow": null,
       "overflow_x": null,
       "overflow_y": null,
       "padding": null,
       "right": null,
       "top": null,
       "visibility": null,
       "width": null
      }
     },
     "4118de33477c48db8bd23d3e117bc4b8": {
      "model_module": "@jupyter-widgets/controls",
      "model_module_version": "1.5.0",
      "model_name": "DescriptionStyleModel",
      "state": {
       "_model_module": "@jupyter-widgets/controls",
       "_model_module_version": "1.5.0",
       "_model_name": "DescriptionStyleModel",
       "_view_count": null,
       "_view_module": "@jupyter-widgets/base",
       "_view_module_version": "1.2.0",
       "_view_name": "StyleView",
       "description_width": ""
      }
     },
     "4161c40f48b54a579ee9f64ff245f54b": {
      "model_module": "@jupyter-widgets/base",
      "model_module_version": "1.2.0",
      "model_name": "LayoutModel",
      "state": {
       "_model_module": "@jupyter-widgets/base",
       "_model_module_version": "1.2.0",
       "_model_name": "LayoutModel",
       "_view_count": null,
       "_view_module": "@jupyter-widgets/base",
       "_view_module_version": "1.2.0",
       "_view_name": "LayoutView",
       "align_content": null,
       "align_items": null,
       "align_self": null,
       "border": null,
       "bottom": null,
       "display": null,
       "flex": null,
       "flex_flow": null,
       "grid_area": null,
       "grid_auto_columns": null,
       "grid_auto_flow": null,
       "grid_auto_rows": null,
       "grid_column": null,
       "grid_gap": null,
       "grid_row": null,
       "grid_template_areas": null,
       "grid_template_columns": null,
       "grid_template_rows": null,
       "height": null,
       "justify_content": null,
       "justify_items": null,
       "left": null,
       "margin": null,
       "max_height": null,
       "max_width": null,
       "min_height": null,
       "min_width": null,
       "object_fit": null,
       "object_position": null,
       "order": null,
       "overflow": null,
       "overflow_x": null,
       "overflow_y": null,
       "padding": null,
       "right": null,
       "top": null,
       "visibility": null,
       "width": null
      }
     },
     "4462a8df9b4945c4954d21cd644e2756": {
      "model_module": "@jupyter-widgets/controls",
      "model_module_version": "1.5.0",
      "model_name": "DescriptionStyleModel",
      "state": {
       "_model_module": "@jupyter-widgets/controls",
       "_model_module_version": "1.5.0",
       "_model_name": "DescriptionStyleModel",
       "_view_count": null,
       "_view_module": "@jupyter-widgets/base",
       "_view_module_version": "1.2.0",
       "_view_name": "StyleView",
       "description_width": ""
      }
     },
     "48bd734395eb4a7ba34155c033f98c2a": {
      "model_module": "@jupyter-widgets/controls",
      "model_module_version": "1.5.0",
      "model_name": "HTMLModel",
      "state": {
       "_dom_classes": [],
       "_model_module": "@jupyter-widgets/controls",
       "_model_module_version": "1.5.0",
       "_model_name": "HTMLModel",
       "_view_count": null,
       "_view_module": "@jupyter-widgets/controls",
       "_view_module_version": "1.5.0",
       "_view_name": "HTMLView",
       "description": "",
       "description_tooltip": null,
       "layout": "IPY_MODEL_cacd2df3f3f54d17bf00555ffe2c3343",
       "placeholder": "​",
       "style": "IPY_MODEL_cd8ebca6146e4e97b0917e5dc0f59fe4",
       "value": " 4.83M/4.83M [00:01&lt;00:00, 4.43MB/s]"
      }
     },
     "490838ace60b4226936b95390ca4fa91": {
      "model_module": "@jupyter-widgets/controls",
      "model_module_version": "1.5.0",
      "model_name": "DescriptionStyleModel",
      "state": {
       "_model_module": "@jupyter-widgets/controls",
       "_model_module_version": "1.5.0",
       "_model_name": "DescriptionStyleModel",
       "_view_count": null,
       "_view_module": "@jupyter-widgets/base",
       "_view_module_version": "1.2.0",
       "_view_name": "StyleView",
       "description_width": ""
      }
     },
     "499678b602e04184a9219c0042264ea5": {
      "model_module": "@jupyter-widgets/base",
      "model_module_version": "1.2.0",
      "model_name": "LayoutModel",
      "state": {
       "_model_module": "@jupyter-widgets/base",
       "_model_module_version": "1.2.0",
       "_model_name": "LayoutModel",
       "_view_count": null,
       "_view_module": "@jupyter-widgets/base",
       "_view_module_version": "1.2.0",
       "_view_name": "LayoutView",
       "align_content": null,
       "align_items": null,
       "align_self": null,
       "border": null,
       "bottom": null,
       "display": null,
       "flex": null,
       "flex_flow": null,
       "grid_area": null,
       "grid_auto_columns": null,
       "grid_auto_flow": null,
       "grid_auto_rows": null,
       "grid_column": null,
       "grid_gap": null,
       "grid_row": null,
       "grid_template_areas": null,
       "grid_template_columns": null,
       "grid_template_rows": null,
       "height": null,
       "justify_content": null,
       "justify_items": null,
       "left": null,
       "margin": null,
       "max_height": null,
       "max_width": null,
       "min_height": null,
       "min_width": null,
       "object_fit": null,
       "object_position": null,
       "order": null,
       "overflow": null,
       "overflow_x": null,
       "overflow_y": null,
       "padding": null,
       "right": null,
       "top": null,
       "visibility": null,
       "width": null
      }
     },
     "4e0f64449d1c44fba8227272326dfbb4": {
      "model_module": "@jupyter-widgets/controls",
      "model_module_version": "1.5.0",
      "model_name": "HBoxModel",
      "state": {
       "_dom_classes": [],
       "_model_module": "@jupyter-widgets/controls",
       "_model_module_version": "1.5.0",
       "_model_name": "HBoxModel",
       "_view_count": null,
       "_view_module": "@jupyter-widgets/controls",
       "_view_module_version": "1.5.0",
       "_view_name": "HBoxView",
       "box_style": "",
       "children": [
        "IPY_MODEL_c638a74cb01a4caf8692fc49076d2c77",
        "IPY_MODEL_c6cb6c1f6887457ca173f7a90684c6a9",
        "IPY_MODEL_7a2330004c4a4ddf9afed95727761600"
       ],
       "layout": "IPY_MODEL_971c45c5b29a4ba2990e55f4794760ad"
      }
     },
     "4ea7ace71fdb47a6b2f79290c216b66d": {
      "model_module": "@jupyter-widgets/controls",
      "model_module_version": "1.5.0",
      "model_name": "DescriptionStyleModel",
      "state": {
       "_model_module": "@jupyter-widgets/controls",
       "_model_module_version": "1.5.0",
       "_model_name": "DescriptionStyleModel",
       "_view_count": null,
       "_view_module": "@jupyter-widgets/base",
       "_view_module_version": "1.2.0",
       "_view_name": "StyleView",
       "description_width": ""
      }
     },
     "4eec22141ccb4dd197b8ea49f1f46eef": {
      "model_module": "@jupyter-widgets/base",
      "model_module_version": "1.2.0",
      "model_name": "LayoutModel",
      "state": {
       "_model_module": "@jupyter-widgets/base",
       "_model_module_version": "1.2.0",
       "_model_name": "LayoutModel",
       "_view_count": null,
       "_view_module": "@jupyter-widgets/base",
       "_view_module_version": "1.2.0",
       "_view_name": "LayoutView",
       "align_content": null,
       "align_items": null,
       "align_self": null,
       "border": null,
       "bottom": null,
       "display": null,
       "flex": null,
       "flex_flow": null,
       "grid_area": null,
       "grid_auto_columns": null,
       "grid_auto_flow": null,
       "grid_auto_rows": null,
       "grid_column": null,
       "grid_gap": null,
       "grid_row": null,
       "grid_template_areas": null,
       "grid_template_columns": null,
       "grid_template_rows": null,
       "height": null,
       "justify_content": null,
       "justify_items": null,
       "left": null,
       "margin": null,
       "max_height": null,
       "max_width": null,
       "min_height": null,
       "min_width": null,
       "object_fit": null,
       "object_position": null,
       "order": null,
       "overflow": null,
       "overflow_x": null,
       "overflow_y": null,
       "padding": null,
       "right": null,
       "top": null,
       "visibility": null,
       "width": null
      }
     },
     "50a3f3a3e9ea417d9de96772a83189e2": {
      "model_module": "@jupyter-widgets/base",
      "model_module_version": "1.2.0",
      "model_name": "LayoutModel",
      "state": {
       "_model_module": "@jupyter-widgets/base",
       "_model_module_version": "1.2.0",
       "_model_name": "LayoutModel",
       "_view_count": null,
       "_view_module": "@jupyter-widgets/base",
       "_view_module_version": "1.2.0",
       "_view_name": "LayoutView",
       "align_content": null,
       "align_items": null,
       "align_self": null,
       "border": null,
       "bottom": null,
       "display": null,
       "flex": null,
       "flex_flow": null,
       "grid_area": null,
       "grid_auto_columns": null,
       "grid_auto_flow": null,
       "grid_auto_rows": null,
       "grid_column": null,
       "grid_gap": null,
       "grid_row": null,
       "grid_template_areas": null,
       "grid_template_columns": null,
       "grid_template_rows": null,
       "height": null,
       "justify_content": null,
       "justify_items": null,
       "left": null,
       "margin": null,
       "max_height": null,
       "max_width": null,
       "min_height": null,
       "min_width": null,
       "object_fit": null,
       "object_position": null,
       "order": null,
       "overflow": null,
       "overflow_x": null,
       "overflow_y": null,
       "padding": null,
       "right": null,
       "top": null,
       "visibility": null,
       "width": null
      }
     },
     "54e9f6949ebe410f83c825268fb1f990": {
      "model_module": "@jupyter-widgets/base",
      "model_module_version": "1.2.0",
      "model_name": "LayoutModel",
      "state": {
       "_model_module": "@jupyter-widgets/base",
       "_model_module_version": "1.2.0",
       "_model_name": "LayoutModel",
       "_view_count": null,
       "_view_module": "@jupyter-widgets/base",
       "_view_module_version": "1.2.0",
       "_view_name": "LayoutView",
       "align_content": null,
       "align_items": null,
       "align_self": null,
       "border": null,
       "bottom": null,
       "display": null,
       "flex": null,
       "flex_flow": null,
       "grid_area": null,
       "grid_auto_columns": null,
       "grid_auto_flow": null,
       "grid_auto_rows": null,
       "grid_column": null,
       "grid_gap": null,
       "grid_row": null,
       "grid_template_areas": null,
       "grid_template_columns": null,
       "grid_template_rows": null,
       "height": null,
       "justify_content": null,
       "justify_items": null,
       "left": null,
       "margin": null,
       "max_height": null,
       "max_width": null,
       "min_height": null,
       "min_width": null,
       "object_fit": null,
       "object_position": null,
       "order": null,
       "overflow": null,
       "overflow_x": null,
       "overflow_y": null,
       "padding": null,
       "right": null,
       "top": null,
       "visibility": null,
       "width": null
      }
     },
     "58328af70b924d61b87da0063ca49473": {
      "model_module": "@jupyter-widgets/base",
      "model_module_version": "1.2.0",
      "model_name": "LayoutModel",
      "state": {
       "_model_module": "@jupyter-widgets/base",
       "_model_module_version": "1.2.0",
       "_model_name": "LayoutModel",
       "_view_count": null,
       "_view_module": "@jupyter-widgets/base",
       "_view_module_version": "1.2.0",
       "_view_name": "LayoutView",
       "align_content": null,
       "align_items": null,
       "align_self": null,
       "border": null,
       "bottom": null,
       "display": null,
       "flex": null,
       "flex_flow": null,
       "grid_area": null,
       "grid_auto_columns": null,
       "grid_auto_flow": null,
       "grid_auto_rows": null,
       "grid_column": null,
       "grid_gap": null,
       "grid_row": null,
       "grid_template_areas": null,
       "grid_template_columns": null,
       "grid_template_rows": null,
       "height": null,
       "justify_content": null,
       "justify_items": null,
       "left": null,
       "margin": null,
       "max_height": null,
       "max_width": null,
       "min_height": null,
       "min_width": null,
       "object_fit": null,
       "object_position": null,
       "order": null,
       "overflow": null,
       "overflow_x": null,
       "overflow_y": null,
       "padding": null,
       "right": null,
       "top": null,
       "visibility": null,
       "width": null
      }
     },
     "5bf28dd338864a39b64e7bd1584677c0": {
      "model_module": "@jupyter-widgets/controls",
      "model_module_version": "1.5.0",
      "model_name": "ProgressStyleModel",
      "state": {
       "_model_module": "@jupyter-widgets/controls",
       "_model_module_version": "1.5.0",
       "_model_name": "ProgressStyleModel",
       "_view_count": null,
       "_view_module": "@jupyter-widgets/base",
       "_view_module_version": "1.2.0",
       "_view_name": "StyleView",
       "bar_color": null,
       "description_width": ""
      }
     },
     "5d05b6489a6c4661a5a9c95896886a2a": {
      "model_module": "@jupyter-widgets/base",
      "model_module_version": "1.2.0",
      "model_name": "LayoutModel",
      "state": {
       "_model_module": "@jupyter-widgets/base",
       "_model_module_version": "1.2.0",
       "_model_name": "LayoutModel",
       "_view_count": null,
       "_view_module": "@jupyter-widgets/base",
       "_view_module_version": "1.2.0",
       "_view_name": "LayoutView",
       "align_content": null,
       "align_items": null,
       "align_self": null,
       "border": null,
       "bottom": null,
       "display": null,
       "flex": null,
       "flex_flow": null,
       "grid_area": null,
       "grid_auto_columns": null,
       "grid_auto_flow": null,
       "grid_auto_rows": null,
       "grid_column": null,
       "grid_gap": null,
       "grid_row": null,
       "grid_template_areas": null,
       "grid_template_columns": null,
       "grid_template_rows": null,
       "height": null,
       "justify_content": null,
       "justify_items": null,
       "left": null,
       "margin": null,
       "max_height": null,
       "max_width": null,
       "min_height": null,
       "min_width": null,
       "object_fit": null,
       "object_position": null,
       "order": null,
       "overflow": null,
       "overflow_x": null,
       "overflow_y": null,
       "padding": null,
       "right": null,
       "top": null,
       "visibility": null,
       "width": null
      }
     },
     "5d3a0a6acccd458b84fa281cc6c3adc0": {
      "model_module": "@jupyter-widgets/controls",
      "model_module_version": "1.5.0",
      "model_name": "HBoxModel",
      "state": {
       "_dom_classes": [],
       "_model_module": "@jupyter-widgets/controls",
       "_model_module_version": "1.5.0",
       "_model_name": "HBoxModel",
       "_view_count": null,
       "_view_module": "@jupyter-widgets/controls",
       "_view_module_version": "1.5.0",
       "_view_name": "HBoxView",
       "box_style": "",
       "children": [
        "IPY_MODEL_809d6c84c98248609e6fb58fe6ba8904",
        "IPY_MODEL_d4fbcb551ec84eaa83170a6095fc8430",
        "IPY_MODEL_f245c2a80db9496eb2107837ddb28c1f"
       ],
       "layout": "IPY_MODEL_94560a07bda147abbc8fb08d683e261f"
      }
     },
     "6151a48eb151459ebf12675d61681870": {
      "model_module": "@jupyter-widgets/base",
      "model_module_version": "1.2.0",
      "model_name": "LayoutModel",
      "state": {
       "_model_module": "@jupyter-widgets/base",
       "_model_module_version": "1.2.0",
       "_model_name": "LayoutModel",
       "_view_count": null,
       "_view_module": "@jupyter-widgets/base",
       "_view_module_version": "1.2.0",
       "_view_name": "LayoutView",
       "align_content": null,
       "align_items": null,
       "align_self": null,
       "border": null,
       "bottom": null,
       "display": null,
       "flex": null,
       "flex_flow": null,
       "grid_area": null,
       "grid_auto_columns": null,
       "grid_auto_flow": null,
       "grid_auto_rows": null,
       "grid_column": null,
       "grid_gap": null,
       "grid_row": null,
       "grid_template_areas": null,
       "grid_template_columns": null,
       "grid_template_rows": null,
       "height": null,
       "justify_content": null,
       "justify_items": null,
       "left": null,
       "margin": null,
       "max_height": null,
       "max_width": null,
       "min_height": null,
       "min_width": null,
       "object_fit": null,
       "object_position": null,
       "order": null,
       "overflow": null,
       "overflow_x": null,
       "overflow_y": null,
       "padding": null,
       "right": null,
       "top": null,
       "visibility": null,
       "width": null
      }
     },
     "622ada9c16f047c598c4baef2702b7a0": {
      "model_module": "@jupyter-widgets/controls",
      "model_module_version": "1.5.0",
      "model_name": "DescriptionStyleModel",
      "state": {
       "_model_module": "@jupyter-widgets/controls",
       "_model_module_version": "1.5.0",
       "_model_name": "DescriptionStyleModel",
       "_view_count": null,
       "_view_module": "@jupyter-widgets/base",
       "_view_module_version": "1.2.0",
       "_view_name": "StyleView",
       "description_width": ""
      }
     },
     "6dfc67b281e44bf0a8f93494fbbcaa03": {
      "model_module": "@jupyter-widgets/controls",
      "model_module_version": "1.5.0",
      "model_name": "FloatProgressModel",
      "state": {
       "_dom_classes": [],
       "_model_module": "@jupyter-widgets/controls",
       "_model_module_version": "1.5.0",
       "_model_name": "FloatProgressModel",
       "_view_count": null,
       "_view_module": "@jupyter-widgets/controls",
       "_view_module_version": "1.5.0",
       "_view_name": "ProgressView",
       "bar_style": "success",
       "description": "",
       "description_tooltip": null,
       "layout": "IPY_MODEL_e341b0f3f836474388abcbf132576f57",
       "max": 2240097289.0,
       "min": 0.0,
       "orientation": "horizontal",
       "style": "IPY_MODEL_cdcb617dd11e4e0a8d85b032b5ea7343",
       "value": 2240097289.0
      }
     },
     "703e249e29254a5d9916b4595981af8b": {
      "model_module": "@jupyter-widgets/controls",
      "model_module_version": "1.5.0",
      "model_name": "HTMLModel",
      "state": {
       "_dom_classes": [],
       "_model_module": "@jupyter-widgets/controls",
       "_model_module_version": "1.5.0",
       "_model_name": "HTMLModel",
       "_view_count": null,
       "_view_module": "@jupyter-widgets/controls",
       "_view_module_version": "1.5.0",
       "_view_name": "HTMLView",
       "description": "",
       "description_tooltip": null,
       "layout": "IPY_MODEL_79399bab50a44276987a5eb711f6c12e",
       "placeholder": "​",
       "style": "IPY_MODEL_bffe37f11c3b491e89445b90ed305ee2",
       "value": " 964/964 [00:00&lt;00:00, 33.9kB/s]"
      }
     },
     "71f03383ef4f4937a10640ccd0935a7d": {
      "model_module": "@jupyter-widgets/controls",
      "model_module_version": "1.5.0",
      "model_name": "ProgressStyleModel",
      "state": {
       "_model_module": "@jupyter-widgets/controls",
       "_model_module_version": "1.5.0",
       "_model_name": "ProgressStyleModel",
       "_view_count": null,
       "_view_module": "@jupyter-widgets/base",
       "_view_module_version": "1.2.0",
       "_view_name": "StyleView",
       "bar_color": null,
       "description_width": ""
      }
     },
     "72f2df5e8d28431ebc540b936ad4cd11": {
      "model_module": "@jupyter-widgets/base",
      "model_module_version": "1.2.0",
      "model_name": "LayoutModel",
      "state": {
       "_model_module": "@jupyter-widgets/base",
       "_model_module_version": "1.2.0",
       "_model_name": "LayoutModel",
       "_view_count": null,
       "_view_module": "@jupyter-widgets/base",
       "_view_module_version": "1.2.0",
       "_view_name": "LayoutView",
       "align_content": null,
       "align_items": null,
       "align_self": null,
       "border": null,
       "bottom": null,
       "display": null,
       "flex": null,
       "flex_flow": null,
       "grid_area": null,
       "grid_auto_columns": null,
       "grid_auto_flow": null,
       "grid_auto_rows": null,
       "grid_column": null,
       "grid_gap": null,
       "grid_row": null,
       "grid_template_areas": null,
       "grid_template_columns": null,
       "grid_template_rows": null,
       "height": null,
       "justify_content": null,
       "justify_items": null,
       "left": null,
       "margin": null,
       "max_height": null,
       "max_width": null,
       "min_height": null,
       "min_width": null,
       "object_fit": null,
       "object_position": null,
       "order": null,
       "overflow": null,
       "overflow_x": null,
       "overflow_y": null,
       "padding": null,
       "right": null,
       "top": null,
       "visibility": null,
       "width": null
      }
     },
     "73eb83d1b8e84dcfb810d4c67e23c404": {
      "model_module": "@jupyter-widgets/base",
      "model_module_version": "1.2.0",
      "model_name": "LayoutModel",
      "state": {
       "_model_module": "@jupyter-widgets/base",
       "_model_module_version": "1.2.0",
       "_model_name": "LayoutModel",
       "_view_count": null,
       "_view_module": "@jupyter-widgets/base",
       "_view_module_version": "1.2.0",
       "_view_name": "LayoutView",
       "align_content": null,
       "align_items": null,
       "align_self": null,
       "border": null,
       "bottom": null,
       "display": null,
       "flex": null,
       "flex_flow": null,
       "grid_area": null,
       "grid_auto_columns": null,
       "grid_auto_flow": null,
       "grid_auto_rows": null,
       "grid_column": null,
       "grid_gap": null,
       "grid_row": null,
       "grid_template_areas": null,
       "grid_template_columns": null,
       "grid_template_rows": null,
       "height": null,
       "justify_content": null,
       "justify_items": null,
       "left": null,
       "margin": null,
       "max_height": null,
       "max_width": null,
       "min_height": null,
       "min_width": null,
       "object_fit": null,
       "object_position": null,
       "order": null,
       "overflow": null,
       "overflow_x": null,
       "overflow_y": null,
       "padding": null,
       "right": null,
       "top": null,
       "visibility": null,
       "width": null
      }
     },
     "74bdbb513a1747ccb3d179f80a0b2fba": {
      "model_module": "@jupyter-widgets/controls",
      "model_module_version": "1.5.0",
      "model_name": "HBoxModel",
      "state": {
       "_dom_classes": [],
       "_model_module": "@jupyter-widgets/controls",
       "_model_module_version": "1.5.0",
       "_model_name": "HBoxModel",
       "_view_count": null,
       "_view_module": "@jupyter-widgets/controls",
       "_view_module_version": "1.5.0",
       "_view_name": "HBoxView",
       "box_style": "",
       "children": [
        "IPY_MODEL_e0824771676d46fab88748e4e730f645",
        "IPY_MODEL_9b5e45c231b04add903265dd0a94f6a7",
        "IPY_MODEL_48bd734395eb4a7ba34155c033f98c2a"
       ],
       "layout": "IPY_MODEL_eb5f109ec9634cb996cc7f5e2a150206"
      }
     },
     "74c0190528af4f619941496d16270d7f": {
      "model_module": "@jupyter-widgets/base",
      "model_module_version": "1.2.0",
      "model_name": "LayoutModel",
      "state": {
       "_model_module": "@jupyter-widgets/base",
       "_model_module_version": "1.2.0",
       "_model_name": "LayoutModel",
       "_view_count": null,
       "_view_module": "@jupyter-widgets/base",
       "_view_module_version": "1.2.0",
       "_view_name": "LayoutView",
       "align_content": null,
       "align_items": null,
       "align_self": null,
       "border": null,
       "bottom": null,
       "display": null,
       "flex": null,
       "flex_flow": null,
       "grid_area": null,
       "grid_auto_columns": null,
       "grid_auto_flow": null,
       "grid_auto_rows": null,
       "grid_column": null,
       "grid_gap": null,
       "grid_row": null,
       "grid_template_areas": null,
       "grid_template_columns": null,
       "grid_template_rows": null,
       "height": null,
       "justify_content": null,
       "justify_items": null,
       "left": null,
       "margin": null,
       "max_height": null,
       "max_width": null,
       "min_height": null,
       "min_width": null,
       "object_fit": null,
       "object_position": null,
       "order": null,
       "overflow": null,
       "overflow_x": null,
       "overflow_y": null,
       "padding": null,
       "right": null,
       "top": null,
       "visibility": null,
       "width": null
      }
     },
     "75539214a7dc4f9380b2819f03b98116": {
      "model_module": "@jupyter-widgets/controls",
      "model_module_version": "1.5.0",
      "model_name": "HTMLModel",
      "state": {
       "_dom_classes": [],
       "_model_module": "@jupyter-widgets/controls",
       "_model_module_version": "1.5.0",
       "_model_name": "HTMLModel",
       "_view_count": null,
       "_view_module": "@jupyter-widgets/controls",
       "_view_module_version": "1.5.0",
       "_view_name": "HTMLView",
       "description": "",
       "description_tooltip": null,
       "layout": "IPY_MODEL_945b0c4c9e024af8a1b9d37e944d4e82",
       "placeholder": "​",
       "style": "IPY_MODEL_4ea7ace71fdb47a6b2f79290c216b66d",
       "value": "Downloading: 100%"
      }
     },
     "78c4490217a04ff39b96991a8f88c441": {
      "model_module": "@jupyter-widgets/controls",
      "model_module_version": "1.5.0",
      "model_name": "ProgressStyleModel",
      "state": {
       "_model_module": "@jupyter-widgets/controls",
       "_model_module_version": "1.5.0",
       "_model_name": "ProgressStyleModel",
       "_view_count": null,
       "_view_module": "@jupyter-widgets/base",
       "_view_module_version": "1.2.0",
       "_view_name": "StyleView",
       "bar_color": null,
       "description_width": ""
      }
     },
     "79399bab50a44276987a5eb711f6c12e": {
      "model_module": "@jupyter-widgets/base",
      "model_module_version": "1.2.0",
      "model_name": "LayoutModel",
      "state": {
       "_model_module": "@jupyter-widgets/base",
       "_model_module_version": "1.2.0",
       "_model_name": "LayoutModel",
       "_view_count": null,
       "_view_module": "@jupyter-widgets/base",
       "_view_module_version": "1.2.0",
       "_view_name": "LayoutView",
       "align_content": null,
       "align_items": null,
       "align_self": null,
       "border": null,
       "bottom": null,
       "display": null,
       "flex": null,
       "flex_flow": null,
       "grid_area": null,
       "grid_auto_columns": null,
       "grid_auto_flow": null,
       "grid_auto_rows": null,
       "grid_column": null,
       "grid_gap": null,
       "grid_row": null,
       "grid_template_areas": null,
       "grid_template_columns": null,
       "grid_template_rows": null,
       "height": null,
       "justify_content": null,
       "justify_items": null,
       "left": null,
       "margin": null,
       "max_height": null,
       "max_width": null,
       "min_height": null,
       "min_width": null,
       "object_fit": null,
       "object_position": null,
       "order": null,
       "overflow": null,
       "overflow_x": null,
       "overflow_y": null,
       "padding": null,
       "right": null,
       "top": null,
       "visibility": null,
       "width": null
      }
     },
     "7a2330004c4a4ddf9afed95727761600": {
      "model_module": "@jupyter-widgets/controls",
      "model_module_version": "1.5.0",
      "model_name": "HTMLModel",
      "state": {
       "_dom_classes": [],
       "_model_module": "@jupyter-widgets/controls",
       "_model_module_version": "1.5.0",
       "_model_name": "HTMLModel",
       "_view_count": null,
       "_view_module": "@jupyter-widgets/controls",
       "_view_module_version": "1.5.0",
       "_view_name": "HTMLView",
       "description": "",
       "description_tooltip": null,
       "layout": "IPY_MODEL_73eb83d1b8e84dcfb810d4c67e23c404",
       "placeholder": "​",
       "style": "IPY_MODEL_9aea34f1b2f149ec88bc787ff5f31752",
       "value": " 616/616 [00:00&lt;00:00, 20.1kB/s]"
      }
     },
     "7c03fc5e7ce84063a808855c876c731a": {
      "model_module": "@jupyter-widgets/base",
      "model_module_version": "1.2.0",
      "model_name": "LayoutModel",
      "state": {
       "_model_module": "@jupyter-widgets/base",
       "_model_module_version": "1.2.0",
       "_model_name": "LayoutModel",
       "_view_count": null,
       "_view_module": "@jupyter-widgets/base",
       "_view_module_version": "1.2.0",
       "_view_name": "LayoutView",
       "align_content": null,
       "align_items": null,
       "align_self": null,
       "border": null,
       "bottom": null,
       "display": null,
       "flex": null,
       "flex_flow": null,
       "grid_area": null,
       "grid_auto_columns": null,
       "grid_auto_flow": null,
       "grid_auto_rows": null,
       "grid_column": null,
       "grid_gap": null,
       "grid_row": null,
       "grid_template_areas": null,
       "grid_template_columns": null,
       "grid_template_rows": null,
       "height": null,
       "justify_content": null,
       "justify_items": null,
       "left": null,
       "margin": null,
       "max_height": null,
       "max_width": null,
       "min_height": null,
       "min_width": null,
       "object_fit": null,
       "object_position": null,
       "order": null,
       "overflow": null,
       "overflow_x": null,
       "overflow_y": null,
       "padding": null,
       "right": null,
       "top": null,
       "visibility": null,
       "width": null
      }
     },
     "807a331af58546cbaf36363072f3329b": {
      "model_module": "@jupyter-widgets/controls",
      "model_module_version": "1.5.0",
      "model_name": "FloatProgressModel",
      "state": {
       "_dom_classes": [],
       "_model_module": "@jupyter-widgets/controls",
       "_model_module_version": "1.5.0",
       "_model_name": "FloatProgressModel",
       "_view_count": null,
       "_view_module": "@jupyter-widgets/controls",
       "_view_module_version": "1.5.0",
       "_view_name": "ProgressView",
       "bar_style": "success",
       "description": "",
       "description_tooltip": null,
       "layout": "IPY_MODEL_1c3ab6416a2d4ccf885659fae942bc0e",
       "max": 9096718.0,
       "min": 0.0,
       "orientation": "horizontal",
       "style": "IPY_MODEL_78c4490217a04ff39b96991a8f88c441",
       "value": 9096718.0
      }
     },
     "809d6c84c98248609e6fb58fe6ba8904": {
      "model_module": "@jupyter-widgets/controls",
      "model_module_version": "1.5.0",
      "model_name": "HTMLModel",
      "state": {
       "_dom_classes": [],
       "_model_module": "@jupyter-widgets/controls",
       "_model_module_version": "1.5.0",
       "_model_name": "HTMLModel",
       "_view_count": null,
       "_view_module": "@jupyter-widgets/controls",
       "_view_module_version": "1.5.0",
       "_view_name": "HTMLView",
       "description": "",
       "description_tooltip": null,
       "layout": "IPY_MODEL_09d9408010af4a818f0e3b1754b8db64",
       "placeholder": "​",
       "style": "IPY_MODEL_b363c748a11c42e184e35652f6d2fe91",
       "value": "Downloading: 100%"
      }
     },
     "82b00f8b35414c5e88eb63208669273c": {
      "model_module": "@jupyter-widgets/controls",
      "model_module_version": "1.5.0",
      "model_name": "HTMLModel",
      "state": {
       "_dom_classes": [],
       "_model_module": "@jupyter-widgets/controls",
       "_model_module_version": "1.5.0",
       "_model_name": "HTMLModel",
       "_view_count": null,
       "_view_module": "@jupyter-widgets/controls",
       "_view_module_version": "1.5.0",
       "_view_name": "HTMLView",
       "description": "",
       "description_tooltip": null,
       "layout": "IPY_MODEL_72f2df5e8d28431ebc540b936ad4cd11",
       "placeholder": "​",
       "style": "IPY_MODEL_c9f1afdbdfad4553bda3dc9f9cc116e6",
       "value": " 239/239 [00:00&lt;00:00, 7.97kB/s]"
      }
     },
     "87bc3fc3025f4f028c7b135f6f8d7acd": {
      "model_module": "@jupyter-widgets/controls",
      "model_module_version": "1.5.0",
      "model_name": "HTMLModel",
      "state": {
       "_dom_classes": [],
       "_model_module": "@jupyter-widgets/controls",
       "_model_module_version": "1.5.0",
       "_model_name": "HTMLModel",
       "_view_count": null,
       "_view_module": "@jupyter-widgets/controls",
       "_view_module_version": "1.5.0",
       "_view_name": "HTMLView",
       "description": "",
       "description_tooltip": null,
       "layout": "IPY_MODEL_50a3f3a3e9ea417d9de96772a83189e2",
       "placeholder": "​",
       "style": "IPY_MODEL_d59198e385794b9490e4c7b5d8d6700a",
       "value": " 2.24G/2.24G [01:40&lt;00:00, 23.7MB/s]"
      }
     },
     "891244b1d1ef4a0eaa3303415d01ce29": {
      "model_module": "@jupyter-widgets/controls",
      "model_module_version": "1.5.0",
      "model_name": "FloatProgressModel",
      "state": {
       "_dom_classes": [],
       "_model_module": "@jupyter-widgets/controls",
       "_model_module_version": "1.5.0",
       "_model_name": "FloatProgressModel",
       "_view_count": null,
       "_view_module": "@jupyter-widgets/controls",
       "_view_module_version": "1.5.0",
       "_view_name": "ProgressView",
       "bar_style": "success",
       "description": "",
       "description_tooltip": null,
       "layout": "IPY_MODEL_8c9fd6ed9b4748359ad4a98ce9a3bbb3",
       "max": 398.0,
       "min": 0.0,
       "orientation": "horizontal",
       "style": "IPY_MODEL_5bf28dd338864a39b64e7bd1584677c0",
       "value": 398.0
      }
     },
     "8b9a9446c97445c6b4e5c25be92e8ac9": {
      "model_module": "@jupyter-widgets/controls",
      "model_module_version": "1.5.0",
      "model_name": "HBoxModel",
      "state": {
       "_dom_classes": [],
       "_model_module": "@jupyter-widgets/controls",
       "_model_module_version": "1.5.0",
       "_model_name": "HBoxModel",
       "_view_count": null,
       "_view_module": "@jupyter-widgets/controls",
       "_view_module_version": "1.5.0",
       "_view_name": "HBoxView",
       "box_style": "",
       "children": [
        "IPY_MODEL_0b3e917489df4c90ba79d8459e3facb3",
        "IPY_MODEL_cbb1a51ba42f4848830e3e728cd83fb3",
        "IPY_MODEL_82b00f8b35414c5e88eb63208669273c"
       ],
       "layout": "IPY_MODEL_d8f52a2910894ae6ae87ae98f2bbe51d"
      }
     },
     "8c9fd6ed9b4748359ad4a98ce9a3bbb3": {
      "model_module": "@jupyter-widgets/base",
      "model_module_version": "1.2.0",
      "model_name": "LayoutModel",
      "state": {
       "_model_module": "@jupyter-widgets/base",
       "_model_module_version": "1.2.0",
       "_model_name": "LayoutModel",
       "_view_count": null,
       "_view_module": "@jupyter-widgets/base",
       "_view_module_version": "1.2.0",
       "_view_name": "LayoutView",
       "align_content": null,
       "align_items": null,
       "align_self": null,
       "border": null,
       "bottom": null,
       "display": null,
       "flex": null,
       "flex_flow": null,
       "grid_area": null,
       "grid_auto_columns": null,
       "grid_auto_flow": null,
       "grid_auto_rows": null,
       "grid_column": null,
       "grid_gap": null,
       "grid_row": null,
       "grid_template_areas": null,
       "grid_template_columns": null,
       "grid_template_rows": null,
       "height": null,
       "justify_content": null,
       "justify_items": null,
       "left": null,
       "margin": null,
       "max_height": null,
       "max_width": null,
       "min_height": null,
       "min_width": null,
       "object_fit": null,
       "object_position": null,
       "order": null,
       "overflow": null,
       "overflow_x": null,
       "overflow_y": null,
       "padding": null,
       "right": null,
       "top": null,
       "visibility": null,
       "width": null
      }
     },
     "94560a07bda147abbc8fb08d683e261f": {
      "model_module": "@jupyter-widgets/base",
      "model_module_version": "1.2.0",
      "model_name": "LayoutModel",
      "state": {
       "_model_module": "@jupyter-widgets/base",
       "_model_module_version": "1.2.0",
       "_model_name": "LayoutModel",
       "_view_count": null,
       "_view_module": "@jupyter-widgets/base",
       "_view_module_version": "1.2.0",
       "_view_name": "LayoutView",
       "align_content": null,
       "align_items": null,
       "align_self": null,
       "border": null,
       "bottom": null,
       "display": null,
       "flex": null,
       "flex_flow": null,
       "grid_area": null,
       "grid_auto_columns": null,
       "grid_auto_flow": null,
       "grid_auto_rows": null,
       "grid_column": null,
       "grid_gap": null,
       "grid_row": null,
       "grid_template_areas": null,
       "grid_template_columns": null,
       "grid_template_rows": null,
       "height": null,
       "justify_content": null,
       "justify_items": null,
       "left": null,
       "margin": null,
       "max_height": null,
       "max_width": null,
       "min_height": null,
       "min_width": null,
       "object_fit": null,
       "object_position": null,
       "order": null,
       "overflow": null,
       "overflow_x": null,
       "overflow_y": null,
       "padding": null,
       "right": null,
       "top": null,
       "visibility": null,
       "width": null
      }
     },
     "945b0c4c9e024af8a1b9d37e944d4e82": {
      "model_module": "@jupyter-widgets/base",
      "model_module_version": "1.2.0",
      "model_name": "LayoutModel",
      "state": {
       "_model_module": "@jupyter-widgets/base",
       "_model_module_version": "1.2.0",
       "_model_name": "LayoutModel",
       "_view_count": null,
       "_view_module": "@jupyter-widgets/base",
       "_view_module_version": "1.2.0",
       "_view_name": "LayoutView",
       "align_content": null,
       "align_items": null,
       "align_self": null,
       "border": null,
       "bottom": null,
       "display": null,
       "flex": null,
       "flex_flow": null,
       "grid_area": null,
       "grid_auto_columns": null,
       "grid_auto_flow": null,
       "grid_auto_rows": null,
       "grid_column": null,
       "grid_gap": null,
       "grid_row": null,
       "grid_template_areas": null,
       "grid_template_columns": null,
       "grid_template_rows": null,
       "height": null,
       "justify_content": null,
       "justify_items": null,
       "left": null,
       "margin": null,
       "max_height": null,
       "max_width": null,
       "min_height": null,
       "min_width": null,
       "object_fit": null,
       "object_position": null,
       "order": null,
       "overflow": null,
       "overflow_x": null,
       "overflow_y": null,
       "padding": null,
       "right": null,
       "top": null,
       "visibility": null,
       "width": null
      }
     },
     "950c6a16013a451889933fd59a6cb505": {
      "model_module": "@jupyter-widgets/base",
      "model_module_version": "1.2.0",
      "model_name": "LayoutModel",
      "state": {
       "_model_module": "@jupyter-widgets/base",
       "_model_module_version": "1.2.0",
       "_model_name": "LayoutModel",
       "_view_count": null,
       "_view_module": "@jupyter-widgets/base",
       "_view_module_version": "1.2.0",
       "_view_name": "LayoutView",
       "align_content": null,
       "align_items": null,
       "align_self": null,
       "border": null,
       "bottom": null,
       "display": null,
       "flex": null,
       "flex_flow": null,
       "grid_area": null,
       "grid_auto_columns": null,
       "grid_auto_flow": null,
       "grid_auto_rows": null,
       "grid_column": null,
       "grid_gap": null,
       "grid_row": null,
       "grid_template_areas": null,
       "grid_template_columns": null,
       "grid_template_rows": null,
       "height": null,
       "justify_content": null,
       "justify_items": null,
       "left": null,
       "margin": null,
       "max_height": null,
       "max_width": null,
       "min_height": null,
       "min_width": null,
       "object_fit": null,
       "object_position": null,
       "order": null,
       "overflow": null,
       "overflow_x": null,
       "overflow_y": null,
       "padding": null,
       "right": null,
       "top": null,
       "visibility": null,
       "width": null
      }
     },
     "971c45c5b29a4ba2990e55f4794760ad": {
      "model_module": "@jupyter-widgets/base",
      "model_module_version": "1.2.0",
      "model_name": "LayoutModel",
      "state": {
       "_model_module": "@jupyter-widgets/base",
       "_model_module_version": "1.2.0",
       "_model_name": "LayoutModel",
       "_view_count": null,
       "_view_module": "@jupyter-widgets/base",
       "_view_module_version": "1.2.0",
       "_view_name": "LayoutView",
       "align_content": null,
       "align_items": null,
       "align_self": null,
       "border": null,
       "bottom": null,
       "display": null,
       "flex": null,
       "flex_flow": null,
       "grid_area": null,
       "grid_auto_columns": null,
       "grid_auto_flow": null,
       "grid_auto_rows": null,
       "grid_column": null,
       "grid_gap": null,
       "grid_row": null,
       "grid_template_areas": null,
       "grid_template_columns": null,
       "grid_template_rows": null,
       "height": null,
       "justify_content": null,
       "justify_items": null,
       "left": null,
       "margin": null,
       "max_height": null,
       "max_width": null,
       "min_height": null,
       "min_width": null,
       "object_fit": null,
       "object_position": null,
       "order": null,
       "overflow": null,
       "overflow_x": null,
       "overflow_y": null,
       "padding": null,
       "right": null,
       "top": null,
       "visibility": null,
       "width": null
      }
     },
     "97e0ccb841b941e080bf129618288cc4": {
      "model_module": "@jupyter-widgets/base",
      "model_module_version": "1.2.0",
      "model_name": "LayoutModel",
      "state": {
       "_model_module": "@jupyter-widgets/base",
       "_model_module_version": "1.2.0",
       "_model_name": "LayoutModel",
       "_view_count": null,
       "_view_module": "@jupyter-widgets/base",
       "_view_module_version": "1.2.0",
       "_view_name": "LayoutView",
       "align_content": null,
       "align_items": null,
       "align_self": null,
       "border": null,
       "bottom": null,
       "display": null,
       "flex": null,
       "flex_flow": null,
       "grid_area": null,
       "grid_auto_columns": null,
       "grid_auto_flow": null,
       "grid_auto_rows": null,
       "grid_column": null,
       "grid_gap": null,
       "grid_row": null,
       "grid_template_areas": null,
       "grid_template_columns": null,
       "grid_template_rows": null,
       "height": null,
       "justify_content": null,
       "justify_items": null,
       "left": null,
       "margin": null,
       "max_height": null,
       "max_width": null,
       "min_height": null,
       "min_width": null,
       "object_fit": null,
       "object_position": null,
       "order": null,
       "overflow": null,
       "overflow_x": null,
       "overflow_y": null,
       "padding": null,
       "right": null,
       "top": null,
       "visibility": null,
       "width": null
      }
     },
     "9aea34f1b2f149ec88bc787ff5f31752": {
      "model_module": "@jupyter-widgets/controls",
      "model_module_version": "1.5.0",
      "model_name": "DescriptionStyleModel",
      "state": {
       "_model_module": "@jupyter-widgets/controls",
       "_model_module_version": "1.5.0",
       "_model_name": "DescriptionStyleModel",
       "_view_count": null,
       "_view_module": "@jupyter-widgets/base",
       "_view_module_version": "1.2.0",
       "_view_name": "StyleView",
       "description_width": ""
      }
     },
     "9b5e45c231b04add903265dd0a94f6a7": {
      "model_module": "@jupyter-widgets/controls",
      "model_module_version": "1.5.0",
      "model_name": "FloatProgressModel",
      "state": {
       "_dom_classes": [],
       "_model_module": "@jupyter-widgets/controls",
       "_model_module_version": "1.5.0",
       "_model_name": "FloatProgressModel",
       "_view_count": null,
       "_view_module": "@jupyter-widgets/controls",
       "_view_module_version": "1.5.0",
       "_view_name": "ProgressView",
       "bar_style": "success",
       "description": "",
       "description_tooltip": null,
       "layout": "IPY_MODEL_347731c0fb064b569eb5d4dd30cef213",
       "max": 5069051.0,
       "min": 0.0,
       "orientation": "horizontal",
       "style": "IPY_MODEL_be54ba3aa6cf49c1a21150edf4774ac4",
       "value": 5069051.0
      }
     },
     "a0e39579ab5d4921af0e3eba0502c56c": {
      "model_module": "@jupyter-widgets/controls",
      "model_module_version": "1.5.0",
      "model_name": "DescriptionStyleModel",
      "state": {
       "_model_module": "@jupyter-widgets/controls",
       "_model_module_version": "1.5.0",
       "_model_name": "DescriptionStyleModel",
       "_view_count": null,
       "_view_module": "@jupyter-widgets/base",
       "_view_module_version": "1.2.0",
       "_view_name": "StyleView",
       "description_width": ""
      }
     },
     "a5f730a0698b4a7c8971820b79a378c9": {
      "model_module": "@jupyter-widgets/base",
      "model_module_version": "1.2.0",
      "model_name": "LayoutModel",
      "state": {
       "_model_module": "@jupyter-widgets/base",
       "_model_module_version": "1.2.0",
       "_model_name": "LayoutModel",
       "_view_count": null,
       "_view_module": "@jupyter-widgets/base",
       "_view_module_version": "1.2.0",
       "_view_name": "LayoutView",
       "align_content": null,
       "align_items": null,
       "align_self": null,
       "border": null,
       "bottom": null,
       "display": null,
       "flex": null,
       "flex_flow": null,
       "grid_area": null,
       "grid_auto_columns": null,
       "grid_auto_flow": null,
       "grid_auto_rows": null,
       "grid_column": null,
       "grid_gap": null,
       "grid_row": null,
       "grid_template_areas": null,
       "grid_template_columns": null,
       "grid_template_rows": null,
       "height": null,
       "justify_content": null,
       "justify_items": null,
       "left": null,
       "margin": null,
       "max_height": null,
       "max_width": null,
       "min_height": null,
       "min_width": null,
       "object_fit": null,
       "object_position": null,
       "order": null,
       "overflow": null,
       "overflow_x": null,
       "overflow_y": null,
       "padding": null,
       "right": null,
       "top": null,
       "visibility": null,
       "width": null
      }
     },
     "aae431c984d44509bfe0e26acf0874bf": {
      "model_module": "@jupyter-widgets/controls",
      "model_module_version": "1.5.0",
      "model_name": "HTMLModel",
      "state": {
       "_dom_classes": [],
       "_model_module": "@jupyter-widgets/controls",
       "_model_module_version": "1.5.0",
       "_model_name": "HTMLModel",
       "_view_count": null,
       "_view_module": "@jupyter-widgets/controls",
       "_view_module_version": "1.5.0",
       "_view_name": "HTMLView",
       "description": "",
       "description_tooltip": null,
       "layout": "IPY_MODEL_499678b602e04184a9219c0042264ea5",
       "placeholder": "​",
       "style": "IPY_MODEL_2897a4cc89e949cf9dd0d9198d554601",
       "value": "Downloading: 100%"
      }
     },
     "ab0a2d44ca3546298d94e610f3627273": {
      "model_module": "@jupyter-widgets/controls",
      "model_module_version": "1.5.0",
      "model_name": "HTMLModel",
      "state": {
       "_dom_classes": [],
       "_model_module": "@jupyter-widgets/controls",
       "_model_module_version": "1.5.0",
       "_model_name": "HTMLModel",
       "_view_count": null,
       "_view_module": "@jupyter-widgets/controls",
       "_view_module_version": "1.5.0",
       "_view_name": "HTMLView",
       "description": "",
       "description_tooltip": null,
       "layout": "IPY_MODEL_6151a48eb151459ebf12675d61681870",
       "placeholder": "​",
       "style": "IPY_MODEL_4462a8df9b4945c4954d21cd644e2756",
       "value": "Downloading: 100%"
      }
     },
     "b1071254a91e482996ab390129e1b9ac": {
      "model_module": "@jupyter-widgets/controls",
      "model_module_version": "1.5.0",
      "model_name": "ProgressStyleModel",
      "state": {
       "_model_module": "@jupyter-widgets/controls",
       "_model_module_version": "1.5.0",
       "_model_name": "ProgressStyleModel",
       "_view_count": null,
       "_view_module": "@jupyter-widgets/base",
       "_view_module_version": "1.2.0",
       "_view_name": "StyleView",
       "bar_color": null,
       "description_width": ""
      }
     },
     "b1e1fd6f73f54bc3a92ba6dd3d6c9c4e": {
      "model_module": "@jupyter-widgets/controls",
      "model_module_version": "1.5.0",
      "model_name": "HTMLModel",
      "state": {
       "_dom_classes": [],
       "_model_module": "@jupyter-widgets/controls",
       "_model_module_version": "1.5.0",
       "_model_name": "HTMLModel",
       "_view_count": null,
       "_view_module": "@jupyter-widgets/controls",
       "_view_module_version": "1.5.0",
       "_view_name": "HTMLView",
       "description": "",
       "description_tooltip": null,
       "layout": "IPY_MODEL_d9c10b4904ad4a05bd177816615861b2",
       "placeholder": "​",
       "style": "IPY_MODEL_40423e24f96b4068bf303e352510a153",
       "value": "Downloading: 100%"
      }
     },
     "b1f7913f75da4eea85d2d30877ef7700": {
      "model_module": "@jupyter-widgets/controls",
      "model_module_version": "1.5.0",
      "model_name": "HBoxModel",
      "state": {
       "_dom_classes": [],
       "_model_module": "@jupyter-widgets/controls",
       "_model_module_version": "1.5.0",
       "_model_name": "HBoxModel",
       "_view_count": null,
       "_view_module": "@jupyter-widgets/controls",
       "_view_module_version": "1.5.0",
       "_view_name": "HBoxView",
       "box_style": "",
       "children": [
        "IPY_MODEL_b1e1fd6f73f54bc3a92ba6dd3d6c9c4e",
        "IPY_MODEL_3245ecb7e02f42c3bf156621857a4cac",
        "IPY_MODEL_2cc962c981c24170bc0529a846c5d5d2"
       ],
       "layout": "IPY_MODEL_4eec22141ccb4dd197b8ea49f1f46eef"
      }
     },
     "b356e49f8bee45fd9bb1bb1f8551af80": {
      "model_module": "@jupyter-widgets/controls",
      "model_module_version": "1.5.0",
      "model_name": "HTMLModel",
      "state": {
       "_dom_classes": [],
       "_model_module": "@jupyter-widgets/controls",
       "_model_module_version": "1.5.0",
       "_model_name": "HTMLModel",
       "_view_count": null,
       "_view_module": "@jupyter-widgets/controls",
       "_view_module_version": "1.5.0",
       "_view_name": "HTMLView",
       "description": "",
       "description_tooltip": null,
       "layout": "IPY_MODEL_4161c40f48b54a579ee9f64ff245f54b",
       "placeholder": "​",
       "style": "IPY_MODEL_08559a36cb4644ca91dbd72673241624",
       "value": " 398/398 [00:00&lt;00:00, 13.9kB/s]"
      }
     },
     "b363c748a11c42e184e35652f6d2fe91": {
      "model_module": "@jupyter-widgets/controls",
      "model_module_version": "1.5.0",
      "model_name": "DescriptionStyleModel",
      "state": {
       "_model_module": "@jupyter-widgets/controls",
       "_model_module_version": "1.5.0",
       "_model_name": "DescriptionStyleModel",
       "_view_count": null,
       "_view_module": "@jupyter-widgets/base",
       "_view_module_version": "1.2.0",
       "_view_name": "StyleView",
       "description_width": ""
      }
     },
     "be54ba3aa6cf49c1a21150edf4774ac4": {
      "model_module": "@jupyter-widgets/controls",
      "model_module_version": "1.5.0",
      "model_name": "ProgressStyleModel",
      "state": {
       "_model_module": "@jupyter-widgets/controls",
       "_model_module_version": "1.5.0",
       "_model_name": "ProgressStyleModel",
       "_view_count": null,
       "_view_module": "@jupyter-widgets/base",
       "_view_module_version": "1.2.0",
       "_view_name": "StyleView",
       "bar_color": null,
       "description_width": ""
      }
     },
     "bffe37f11c3b491e89445b90ed305ee2": {
      "model_module": "@jupyter-widgets/controls",
      "model_module_version": "1.5.0",
      "model_name": "DescriptionStyleModel",
      "state": {
       "_model_module": "@jupyter-widgets/controls",
       "_model_module_version": "1.5.0",
       "_model_name": "DescriptionStyleModel",
       "_view_count": null,
       "_view_module": "@jupyter-widgets/base",
       "_view_module_version": "1.2.0",
       "_view_name": "StyleView",
       "description_width": ""
      }
     },
     "c0a6320d77be4c9f8ea809c25c28d0bf": {
      "model_module": "@jupyter-widgets/base",
      "model_module_version": "1.2.0",
      "model_name": "LayoutModel",
      "state": {
       "_model_module": "@jupyter-widgets/base",
       "_model_module_version": "1.2.0",
       "_model_name": "LayoutModel",
       "_view_count": null,
       "_view_module": "@jupyter-widgets/base",
       "_view_module_version": "1.2.0",
       "_view_name": "LayoutView",
       "align_content": null,
       "align_items": null,
       "align_self": null,
       "border": null,
       "bottom": null,
       "display": null,
       "flex": null,
       "flex_flow": null,
       "grid_area": null,
       "grid_auto_columns": null,
       "grid_auto_flow": null,
       "grid_auto_rows": null,
       "grid_column": null,
       "grid_gap": null,
       "grid_row": null,
       "grid_template_areas": null,
       "grid_template_columns": null,
       "grid_template_rows": null,
       "height": null,
       "justify_content": null,
       "justify_items": null,
       "left": null,
       "margin": null,
       "max_height": null,
       "max_width": null,
       "min_height": null,
       "min_width": null,
       "object_fit": null,
       "object_position": null,
       "order": null,
       "overflow": null,
       "overflow_x": null,
       "overflow_y": null,
       "padding": null,
       "right": null,
       "top": null,
       "visibility": null,
       "width": null
      }
     },
     "c638a74cb01a4caf8692fc49076d2c77": {
      "model_module": "@jupyter-widgets/controls",
      "model_module_version": "1.5.0",
      "model_name": "HTMLModel",
      "state": {
       "_dom_classes": [],
       "_model_module": "@jupyter-widgets/controls",
       "_model_module_version": "1.5.0",
       "_model_name": "HTMLModel",
       "_view_count": null,
       "_view_module": "@jupyter-widgets/controls",
       "_view_module_version": "1.5.0",
       "_view_name": "HTMLView",
       "description": "",
       "description_tooltip": null,
       "layout": "IPY_MODEL_950c6a16013a451889933fd59a6cb505",
       "placeholder": "​",
       "style": "IPY_MODEL_622ada9c16f047c598c4baef2702b7a0",
       "value": "Downloading: 100%"
      }
     },
     "c6cb6c1f6887457ca173f7a90684c6a9": {
      "model_module": "@jupyter-widgets/controls",
      "model_module_version": "1.5.0",
      "model_name": "FloatProgressModel",
      "state": {
       "_dom_classes": [],
       "_model_module": "@jupyter-widgets/controls",
       "_model_module_version": "1.5.0",
       "_model_name": "FloatProgressModel",
       "_view_count": null,
       "_view_module": "@jupyter-widgets/controls",
       "_view_module_version": "1.5.0",
       "_view_name": "ProgressView",
       "bar_style": "success",
       "description": "",
       "description_tooltip": null,
       "layout": "IPY_MODEL_5d05b6489a6c4661a5a9c95896886a2a",
       "max": 616.0,
       "min": 0.0,
       "orientation": "horizontal",
       "style": "IPY_MODEL_71f03383ef4f4937a10640ccd0935a7d",
       "value": 616.0
      }
     },
     "c769ee20ce4e43da9361fefa70c3f9bb": {
      "model_module": "@jupyter-widgets/controls",
      "model_module_version": "1.5.0",
      "model_name": "DescriptionStyleModel",
      "state": {
       "_model_module": "@jupyter-widgets/controls",
       "_model_module_version": "1.5.0",
       "_model_name": "DescriptionStyleModel",
       "_view_count": null,
       "_view_module": "@jupyter-widgets/base",
       "_view_module_version": "1.2.0",
       "_view_name": "StyleView",
       "description_width": ""
      }
     },
     "c8b56bd272df4397ab693cef2da32ab2": {
      "model_module": "@jupyter-widgets/base",
      "model_module_version": "1.2.0",
      "model_name": "LayoutModel",
      "state": {
       "_model_module": "@jupyter-widgets/base",
       "_model_module_version": "1.2.0",
       "_model_name": "LayoutModel",
       "_view_count": null,
       "_view_module": "@jupyter-widgets/base",
       "_view_module_version": "1.2.0",
       "_view_name": "LayoutView",
       "align_content": null,
       "align_items": null,
       "align_self": null,
       "border": null,
       "bottom": null,
       "display": null,
       "flex": null,
       "flex_flow": null,
       "grid_area": null,
       "grid_auto_columns": null,
       "grid_auto_flow": null,
       "grid_auto_rows": null,
       "grid_column": null,
       "grid_gap": null,
       "grid_row": null,
       "grid_template_areas": null,
       "grid_template_columns": null,
       "grid_template_rows": null,
       "height": null,
       "justify_content": null,
       "justify_items": null,
       "left": null,
       "margin": null,
       "max_height": null,
       "max_width": null,
       "min_height": null,
       "min_width": null,
       "object_fit": null,
       "object_position": null,
       "order": null,
       "overflow": null,
       "overflow_x": null,
       "overflow_y": null,
       "padding": null,
       "right": null,
       "top": null,
       "visibility": null,
       "width": null
      }
     },
     "c9f1afdbdfad4553bda3dc9f9cc116e6": {
      "model_module": "@jupyter-widgets/controls",
      "model_module_version": "1.5.0",
      "model_name": "DescriptionStyleModel",
      "state": {
       "_model_module": "@jupyter-widgets/controls",
       "_model_module_version": "1.5.0",
       "_model_name": "DescriptionStyleModel",
       "_view_count": null,
       "_view_module": "@jupyter-widgets/base",
       "_view_module_version": "1.2.0",
       "_view_name": "StyleView",
       "description_width": ""
      }
     },
     "cacd2df3f3f54d17bf00555ffe2c3343": {
      "model_module": "@jupyter-widgets/base",
      "model_module_version": "1.2.0",
      "model_name": "LayoutModel",
      "state": {
       "_model_module": "@jupyter-widgets/base",
       "_model_module_version": "1.2.0",
       "_model_name": "LayoutModel",
       "_view_count": null,
       "_view_module": "@jupyter-widgets/base",
       "_view_module_version": "1.2.0",
       "_view_name": "LayoutView",
       "align_content": null,
       "align_items": null,
       "align_self": null,
       "border": null,
       "bottom": null,
       "display": null,
       "flex": null,
       "flex_flow": null,
       "grid_area": null,
       "grid_auto_columns": null,
       "grid_auto_flow": null,
       "grid_auto_rows": null,
       "grid_column": null,
       "grid_gap": null,
       "grid_row": null,
       "grid_template_areas": null,
       "grid_template_columns": null,
       "grid_template_rows": null,
       "height": null,
       "justify_content": null,
       "justify_items": null,
       "left": null,
       "margin": null,
       "max_height": null,
       "max_width": null,
       "min_height": null,
       "min_width": null,
       "object_fit": null,
       "object_position": null,
       "order": null,
       "overflow": null,
       "overflow_x": null,
       "overflow_y": null,
       "padding": null,
       "right": null,
       "top": null,
       "visibility": null,
       "width": null
      }
     },
     "cb8da86359f0470b908a534b89f80441": {
      "model_module": "@jupyter-widgets/base",
      "model_module_version": "1.2.0",
      "model_name": "LayoutModel",
      "state": {
       "_model_module": "@jupyter-widgets/base",
       "_model_module_version": "1.2.0",
       "_model_name": "LayoutModel",
       "_view_count": null,
       "_view_module": "@jupyter-widgets/base",
       "_view_module_version": "1.2.0",
       "_view_name": "LayoutView",
       "align_content": null,
       "align_items": null,
       "align_self": null,
       "border": null,
       "bottom": null,
       "display": null,
       "flex": null,
       "flex_flow": null,
       "grid_area": null,
       "grid_auto_columns": null,
       "grid_auto_flow": null,
       "grid_auto_rows": null,
       "grid_column": null,
       "grid_gap": null,
       "grid_row": null,
       "grid_template_areas": null,
       "grid_template_columns": null,
       "grid_template_rows": null,
       "height": null,
       "justify_content": null,
       "justify_items": null,
       "left": null,
       "margin": null,
       "max_height": null,
       "max_width": null,
       "min_height": null,
       "min_width": null,
       "object_fit": null,
       "object_position": null,
       "order": null,
       "overflow": null,
       "overflow_x": null,
       "overflow_y": null,
       "padding": null,
       "right": null,
       "top": null,
       "visibility": null,
       "width": null
      }
     },
     "cbb1a51ba42f4848830e3e728cd83fb3": {
      "model_module": "@jupyter-widgets/controls",
      "model_module_version": "1.5.0",
      "model_name": "FloatProgressModel",
      "state": {
       "_dom_classes": [],
       "_model_module": "@jupyter-widgets/controls",
       "_model_module_version": "1.5.0",
       "_model_name": "FloatProgressModel",
       "_view_count": null,
       "_view_module": "@jupyter-widgets/controls",
       "_view_module_version": "1.5.0",
       "_view_name": "ProgressView",
       "bar_style": "success",
       "description": "",
       "description_tooltip": null,
       "layout": "IPY_MODEL_97e0ccb841b941e080bf129618288cc4",
       "max": 239.0,
       "min": 0.0,
       "orientation": "horizontal",
       "style": "IPY_MODEL_2db9e78e9bf044a0a38bb12e2b7f276c",
       "value": 239.0
      }
     },
     "cd8ebca6146e4e97b0917e5dc0f59fe4": {
      "model_module": "@jupyter-widgets/controls",
      "model_module_version": "1.5.0",
      "model_name": "DescriptionStyleModel",
      "state": {
       "_model_module": "@jupyter-widgets/controls",
       "_model_module_version": "1.5.0",
       "_model_name": "DescriptionStyleModel",
       "_view_count": null,
       "_view_module": "@jupyter-widgets/base",
       "_view_module_version": "1.2.0",
       "_view_name": "StyleView",
       "description_width": ""
      }
     },
     "cdcb617dd11e4e0a8d85b032b5ea7343": {
      "model_module": "@jupyter-widgets/controls",
      "model_module_version": "1.5.0",
      "model_name": "ProgressStyleModel",
      "state": {
       "_model_module": "@jupyter-widgets/controls",
       "_model_module_version": "1.5.0",
       "_model_name": "ProgressStyleModel",
       "_view_count": null,
       "_view_module": "@jupyter-widgets/base",
       "_view_module_version": "1.2.0",
       "_view_name": "StyleView",
       "bar_color": null,
       "description_width": ""
      }
     },
     "d4fbcb551ec84eaa83170a6095fc8430": {
      "model_module": "@jupyter-widgets/controls",
      "model_module_version": "1.5.0",
      "model_name": "FloatProgressModel",
      "state": {
       "_dom_classes": [],
       "_model_module": "@jupyter-widgets/controls",
       "_model_module_version": "1.5.0",
       "_model_name": "FloatProgressModel",
       "_view_count": null,
       "_view_module": "@jupyter-widgets/controls",
       "_view_module_version": "1.5.0",
       "_view_name": "ProgressView",
       "bar_style": "success",
       "description": "",
       "description_tooltip": null,
       "layout": "IPY_MODEL_40fed2ab15e6497095e884ca4056eac7",
       "max": 5069051.0,
       "min": 0.0,
       "orientation": "horizontal",
       "style": "IPY_MODEL_f3c8bc315ebf4806b53a59bd7adebd87",
       "value": 5069051.0
      }
     },
     "d59198e385794b9490e4c7b5d8d6700a": {
      "model_module": "@jupyter-widgets/controls",
      "model_module_version": "1.5.0",
      "model_name": "DescriptionStyleModel",
      "state": {
       "_model_module": "@jupyter-widgets/controls",
       "_model_module_version": "1.5.0",
       "_model_name": "DescriptionStyleModel",
       "_view_count": null,
       "_view_module": "@jupyter-widgets/base",
       "_view_module_version": "1.2.0",
       "_view_name": "StyleView",
       "description_width": ""
      }
     },
     "d71d0d7e40ee4668bd3a7b9ce2779ca8": {
      "model_module": "@jupyter-widgets/base",
      "model_module_version": "1.2.0",
      "model_name": "LayoutModel",
      "state": {
       "_model_module": "@jupyter-widgets/base",
       "_model_module_version": "1.2.0",
       "_model_name": "LayoutModel",
       "_view_count": null,
       "_view_module": "@jupyter-widgets/base",
       "_view_module_version": "1.2.0",
       "_view_name": "LayoutView",
       "align_content": null,
       "align_items": null,
       "align_self": null,
       "border": null,
       "bottom": null,
       "display": null,
       "flex": null,
       "flex_flow": null,
       "grid_area": null,
       "grid_auto_columns": null,
       "grid_auto_flow": null,
       "grid_auto_rows": null,
       "grid_column": null,
       "grid_gap": null,
       "grid_row": null,
       "grid_template_areas": null,
       "grid_template_columns": null,
       "grid_template_rows": null,
       "height": null,
       "justify_content": null,
       "justify_items": null,
       "left": null,
       "margin": null,
       "max_height": null,
       "max_width": null,
       "min_height": null,
       "min_width": null,
       "object_fit": null,
       "object_position": null,
       "order": null,
       "overflow": null,
       "overflow_x": null,
       "overflow_y": null,
       "padding": null,
       "right": null,
       "top": null,
       "visibility": null,
       "width": null
      }
     },
     "d86a2c42ba324197b560942485aea360": {
      "model_module": "@jupyter-widgets/controls",
      "model_module_version": "1.5.0",
      "model_name": "DescriptionStyleModel",
      "state": {
       "_model_module": "@jupyter-widgets/controls",
       "_model_module_version": "1.5.0",
       "_model_name": "DescriptionStyleModel",
       "_view_count": null,
       "_view_module": "@jupyter-widgets/base",
       "_view_module_version": "1.2.0",
       "_view_name": "StyleView",
       "description_width": ""
      }
     },
     "d8f52a2910894ae6ae87ae98f2bbe51d": {
      "model_module": "@jupyter-widgets/base",
      "model_module_version": "1.2.0",
      "model_name": "LayoutModel",
      "state": {
       "_model_module": "@jupyter-widgets/base",
       "_model_module_version": "1.2.0",
       "_model_name": "LayoutModel",
       "_view_count": null,
       "_view_module": "@jupyter-widgets/base",
       "_view_module_version": "1.2.0",
       "_view_name": "LayoutView",
       "align_content": null,
       "align_items": null,
       "align_self": null,
       "border": null,
       "bottom": null,
       "display": null,
       "flex": null,
       "flex_flow": null,
       "grid_area": null,
       "grid_auto_columns": null,
       "grid_auto_flow": null,
       "grid_auto_rows": null,
       "grid_column": null,
       "grid_gap": null,
       "grid_row": null,
       "grid_template_areas": null,
       "grid_template_columns": null,
       "grid_template_rows": null,
       "height": null,
       "justify_content": null,
       "justify_items": null,
       "left": null,
       "margin": null,
       "max_height": null,
       "max_width": null,
       "min_height": null,
       "min_width": null,
       "object_fit": null,
       "object_position": null,
       "order": null,
       "overflow": null,
       "overflow_x": null,
       "overflow_y": null,
       "padding": null,
       "right": null,
       "top": null,
       "visibility": null,
       "width": null
      }
     },
     "d9c10b4904ad4a05bd177816615861b2": {
      "model_module": "@jupyter-widgets/base",
      "model_module_version": "1.2.0",
      "model_name": "LayoutModel",
      "state": {
       "_model_module": "@jupyter-widgets/base",
       "_model_module_version": "1.2.0",
       "_model_name": "LayoutModel",
       "_view_count": null,
       "_view_module": "@jupyter-widgets/base",
       "_view_module_version": "1.2.0",
       "_view_name": "LayoutView",
       "align_content": null,
       "align_items": null,
       "align_self": null,
       "border": null,
       "bottom": null,
       "display": null,
       "flex": null,
       "flex_flow": null,
       "grid_area": null,
       "grid_auto_columns": null,
       "grid_auto_flow": null,
       "grid_auto_rows": null,
       "grid_column": null,
       "grid_gap": null,
       "grid_row": null,
       "grid_template_areas": null,
       "grid_template_columns": null,
       "grid_template_rows": null,
       "height": null,
       "justify_content": null,
       "justify_items": null,
       "left": null,
       "margin": null,
       "max_height": null,
       "max_width": null,
       "min_height": null,
       "min_width": null,
       "object_fit": null,
       "object_position": null,
       "order": null,
       "overflow": null,
       "overflow_x": null,
       "overflow_y": null,
       "padding": null,
       "right": null,
       "top": null,
       "visibility": null,
       "width": null
      }
     },
     "dbce4da51095452f8868e67c5b83b54e": {
      "model_module": "@jupyter-widgets/controls",
      "model_module_version": "1.5.0",
      "model_name": "HTMLModel",
      "state": {
       "_dom_classes": [],
       "_model_module": "@jupyter-widgets/controls",
       "_model_module_version": "1.5.0",
       "_model_name": "HTMLModel",
       "_view_count": null,
       "_view_module": "@jupyter-widgets/controls",
       "_view_module_version": "1.5.0",
       "_view_name": "HTMLView",
       "description": "",
       "description_tooltip": null,
       "layout": "IPY_MODEL_cb8da86359f0470b908a534b89f80441",
       "placeholder": "​",
       "style": "IPY_MODEL_dd58c939c9164f2bbde15b09ccb6b7d9",
       "value": " 8.68M/8.68M [00:00&lt;00:00, 16.8MB/s]"
      }
     },
     "dd58c939c9164f2bbde15b09ccb6b7d9": {
      "model_module": "@jupyter-widgets/controls",
      "model_module_version": "1.5.0",
      "model_name": "DescriptionStyleModel",
      "state": {
       "_model_module": "@jupyter-widgets/controls",
       "_model_module_version": "1.5.0",
       "_model_name": "DescriptionStyleModel",
       "_view_count": null,
       "_view_module": "@jupyter-widgets/base",
       "_view_module_version": "1.2.0",
       "_view_name": "StyleView",
       "description_width": ""
      }
     },
     "dd89c91a8b014eeeae7fa25a93b37ec7": {
      "model_module": "@jupyter-widgets/base",
      "model_module_version": "1.2.0",
      "model_name": "LayoutModel",
      "state": {
       "_model_module": "@jupyter-widgets/base",
       "_model_module_version": "1.2.0",
       "_model_name": "LayoutModel",
       "_view_count": null,
       "_view_module": "@jupyter-widgets/base",
       "_view_module_version": "1.2.0",
       "_view_name": "LayoutView",
       "align_content": null,
       "align_items": null,
       "align_self": null,
       "border": null,
       "bottom": null,
       "display": null,
       "flex": null,
       "flex_flow": null,
       "grid_area": null,
       "grid_auto_columns": null,
       "grid_auto_flow": null,
       "grid_auto_rows": null,
       "grid_column": null,
       "grid_gap": null,
       "grid_row": null,
       "grid_template_areas": null,
       "grid_template_columns": null,
       "grid_template_rows": null,
       "height": null,
       "justify_content": null,
       "justify_items": null,
       "left": null,
       "margin": null,
       "max_height": null,
       "max_width": null,
       "min_height": null,
       "min_width": null,
       "object_fit": null,
       "object_position": null,
       "order": null,
       "overflow": null,
       "overflow_x": null,
       "overflow_y": null,
       "padding": null,
       "right": null,
       "top": null,
       "visibility": null,
       "width": null
      }
     },
     "dddc51f6a25d44c28b60db5c9a0de4c4": {
      "model_module": "@jupyter-widgets/controls",
      "model_module_version": "1.5.0",
      "model_name": "FloatProgressModel",
      "state": {
       "_dom_classes": [],
       "_model_module": "@jupyter-widgets/controls",
       "_model_module_version": "1.5.0",
       "_model_name": "FloatProgressModel",
       "_view_count": null,
       "_view_module": "@jupyter-widgets/controls",
       "_view_module_version": "1.5.0",
       "_view_name": "ProgressView",
       "bar_style": "success",
       "description": "",
       "description_tooltip": null,
       "layout": "IPY_MODEL_dd89c91a8b014eeeae7fa25a93b37ec7",
       "max": 1109918449.0,
       "min": 0.0,
       "orientation": "horizontal",
       "style": "IPY_MODEL_b1071254a91e482996ab390129e1b9ac",
       "value": 1109918449.0
      }
     },
     "e0824771676d46fab88748e4e730f645": {
      "model_module": "@jupyter-widgets/controls",
      "model_module_version": "1.5.0",
      "model_name": "HTMLModel",
      "state": {
       "_dom_classes": [],
       "_model_module": "@jupyter-widgets/controls",
       "_model_module_version": "1.5.0",
       "_model_name": "HTMLModel",
       "_view_count": null,
       "_view_module": "@jupyter-widgets/controls",
       "_view_module_version": "1.5.0",
       "_view_name": "HTMLView",
       "description": "",
       "description_tooltip": null,
       "layout": "IPY_MODEL_58328af70b924d61b87da0063ca49473",
       "placeholder": "​",
       "style": "IPY_MODEL_4118de33477c48db8bd23d3e117bc4b8",
       "value": "Downloading: 100%"
      }
     },
     "e341b0f3f836474388abcbf132576f57": {
      "model_module": "@jupyter-widgets/base",
      "model_module_version": "1.2.0",
      "model_name": "LayoutModel",
      "state": {
       "_model_module": "@jupyter-widgets/base",
       "_model_module_version": "1.2.0",
       "_model_name": "LayoutModel",
       "_view_count": null,
       "_view_module": "@jupyter-widgets/base",
       "_view_module_version": "1.2.0",
       "_view_name": "LayoutView",
       "align_content": null,
       "align_items": null,
       "align_self": null,
       "border": null,
       "bottom": null,
       "display": null,
       "flex": null,
       "flex_flow": null,
       "grid_area": null,
       "grid_auto_columns": null,
       "grid_auto_flow": null,
       "grid_auto_rows": null,
       "grid_column": null,
       "grid_gap": null,
       "grid_row": null,
       "grid_template_areas": null,
       "grid_template_columns": null,
       "grid_template_rows": null,
       "height": null,
       "justify_content": null,
       "justify_items": null,
       "left": null,
       "margin": null,
       "max_height": null,
       "max_width": null,
       "min_height": null,
       "min_width": null,
       "object_fit": null,
       "object_position": null,
       "order": null,
       "overflow": null,
       "overflow_x": null,
       "overflow_y": null,
       "padding": null,
       "right": null,
       "top": null,
       "visibility": null,
       "width": null
      }
     },
     "e85b7426769045ecb1f695527a6036d9": {
      "model_module": "@jupyter-widgets/base",
      "model_module_version": "1.2.0",
      "model_name": "LayoutModel",
      "state": {
       "_model_module": "@jupyter-widgets/base",
       "_model_module_version": "1.2.0",
       "_model_name": "LayoutModel",
       "_view_count": null,
       "_view_module": "@jupyter-widgets/base",
       "_view_module_version": "1.2.0",
       "_view_name": "LayoutView",
       "align_content": null,
       "align_items": null,
       "align_self": null,
       "border": null,
       "bottom": null,
       "display": null,
       "flex": null,
       "flex_flow": null,
       "grid_area": null,
       "grid_auto_columns": null,
       "grid_auto_flow": null,
       "grid_auto_rows": null,
       "grid_column": null,
       "grid_gap": null,
       "grid_row": null,
       "grid_template_areas": null,
       "grid_template_columns": null,
       "grid_template_rows": null,
       "height": null,
       "justify_content": null,
       "justify_items": null,
       "left": null,
       "margin": null,
       "max_height": null,
       "max_width": null,
       "min_height": null,
       "min_width": null,
       "object_fit": null,
       "object_position": null,
       "order": null,
       "overflow": null,
       "overflow_x": null,
       "overflow_y": null,
       "padding": null,
       "right": null,
       "top": null,
       "visibility": null,
       "width": null
      }
     },
     "eb5f109ec9634cb996cc7f5e2a150206": {
      "model_module": "@jupyter-widgets/base",
      "model_module_version": "1.2.0",
      "model_name": "LayoutModel",
      "state": {
       "_model_module": "@jupyter-widgets/base",
       "_model_module_version": "1.2.0",
       "_model_name": "LayoutModel",
       "_view_count": null,
       "_view_module": "@jupyter-widgets/base",
       "_view_module_version": "1.2.0",
       "_view_name": "LayoutView",
       "align_content": null,
       "align_items": null,
       "align_self": null,
       "border": null,
       "bottom": null,
       "display": null,
       "flex": null,
       "flex_flow": null,
       "grid_area": null,
       "grid_auto_columns": null,
       "grid_auto_flow": null,
       "grid_auto_rows": null,
       "grid_column": null,
       "grid_gap": null,
       "grid_row": null,
       "grid_template_areas": null,
       "grid_template_columns": null,
       "grid_template_rows": null,
       "height": null,
       "justify_content": null,
       "justify_items": null,
       "left": null,
       "margin": null,
       "max_height": null,
       "max_width": null,
       "min_height": null,
       "min_width": null,
       "object_fit": null,
       "object_position": null,
       "order": null,
       "overflow": null,
       "overflow_x": null,
       "overflow_y": null,
       "padding": null,
       "right": null,
       "top": null,
       "visibility": null,
       "width": null
      }
     },
     "ebf3d508e06e444cbea65ef88def7fbf": {
      "model_module": "@jupyter-widgets/controls",
      "model_module_version": "1.5.0",
      "model_name": "HBoxModel",
      "state": {
       "_dom_classes": [],
       "_model_module": "@jupyter-widgets/controls",
       "_model_module_version": "1.5.0",
       "_model_name": "HBoxModel",
       "_view_count": null,
       "_view_module": "@jupyter-widgets/controls",
       "_view_module_version": "1.5.0",
       "_view_name": "HBoxView",
       "box_style": "",
       "children": [
        "IPY_MODEL_aae431c984d44509bfe0e26acf0874bf",
        "IPY_MODEL_807a331af58546cbaf36363072f3329b",
        "IPY_MODEL_dbce4da51095452f8868e67c5b83b54e"
       ],
       "layout": "IPY_MODEL_54e9f6949ebe410f83c825268fb1f990"
      }
     },
     "ee0d877afedb4a0fa8f5a15f67881251": {
      "model_module": "@jupyter-widgets/base",
      "model_module_version": "1.2.0",
      "model_name": "LayoutModel",
      "state": {
       "_model_module": "@jupyter-widgets/base",
       "_model_module_version": "1.2.0",
       "_model_name": "LayoutModel",
       "_view_count": null,
       "_view_module": "@jupyter-widgets/base",
       "_view_module_version": "1.2.0",
       "_view_name": "LayoutView",
       "align_content": null,
       "align_items": null,
       "align_self": null,
       "border": null,
       "bottom": null,
       "display": null,
       "flex": null,
       "flex_flow": null,
       "grid_area": null,
       "grid_auto_columns": null,
       "grid_auto_flow": null,
       "grid_auto_rows": null,
       "grid_column": null,
       "grid_gap": null,
       "grid_row": null,
       "grid_template_areas": null,
       "grid_template_columns": null,
       "grid_template_rows": null,
       "height": null,
       "justify_content": null,
       "justify_items": null,
       "left": null,
       "margin": null,
       "max_height": null,
       "max_width": null,
       "min_height": null,
       "min_width": null,
       "object_fit": null,
       "object_position": null,
       "order": null,
       "overflow": null,
       "overflow_x": null,
       "overflow_y": null,
       "padding": null,
       "right": null,
       "top": null,
       "visibility": null,
       "width": null
      }
     },
     "eeae22bb6b33481c9a9b7ed2fe0dc7b9": {
      "model_module": "@jupyter-widgets/controls",
      "model_module_version": "1.5.0",
      "model_name": "HTMLModel",
      "state": {
       "_dom_classes": [],
       "_model_module": "@jupyter-widgets/controls",
       "_model_module_version": "1.5.0",
       "_model_name": "HTMLModel",
       "_view_count": null,
       "_view_module": "@jupyter-widgets/controls",
       "_view_module_version": "1.5.0",
       "_view_name": "HTMLView",
       "description": "",
       "description_tooltip": null,
       "layout": "IPY_MODEL_e85b7426769045ecb1f695527a6036d9",
       "placeholder": "​",
       "style": "IPY_MODEL_1b13081478e3484eaf7d28335f1fde47",
       "value": " 1.03G/1.03G [00:50&lt;00:00, 23.7MB/s]"
      }
     },
     "ef8178031f38414b81ba2801c88988d2": {
      "model_module": "@jupyter-widgets/controls",
      "model_module_version": "1.5.0",
      "model_name": "FloatProgressModel",
      "state": {
       "_dom_classes": [],
       "_model_module": "@jupyter-widgets/controls",
       "_model_module_version": "1.5.0",
       "_model_name": "FloatProgressModel",
       "_view_count": null,
       "_view_module": "@jupyter-widgets/controls",
       "_view_module_version": "1.5.0",
       "_view_name": "ProgressView",
       "bar_style": "success",
       "description": "",
       "description_tooltip": null,
       "layout": "IPY_MODEL_3d201445a199477fa2baf026ba5305ec",
       "max": 964.0,
       "min": 0.0,
       "orientation": "horizontal",
       "style": "IPY_MODEL_11d85014a1394d92b1758baa093a0c37",
       "value": 964.0
      }
     },
     "f245c2a80db9496eb2107837ddb28c1f": {
      "model_module": "@jupyter-widgets/controls",
      "model_module_version": "1.5.0",
      "model_name": "HTMLModel",
      "state": {
       "_dom_classes": [],
       "_model_module": "@jupyter-widgets/controls",
       "_model_module_version": "1.5.0",
       "_model_name": "HTMLModel",
       "_view_count": null,
       "_view_module": "@jupyter-widgets/controls",
       "_view_module_version": "1.5.0",
       "_view_name": "HTMLView",
       "description": "",
       "description_tooltip": null,
       "layout": "IPY_MODEL_21cbd0669002491c8c42bbc6cf9539c4",
       "placeholder": "​",
       "style": "IPY_MODEL_a0e39579ab5d4921af0e3eba0502c56c",
       "value": " 4.83M/4.83M [00:00&lt;00:00, 7.29MB/s]"
      }
     },
     "f3c8bc315ebf4806b53a59bd7adebd87": {
      "model_module": "@jupyter-widgets/controls",
      "model_module_version": "1.5.0",
      "model_name": "ProgressStyleModel",
      "state": {
       "_model_module": "@jupyter-widgets/controls",
       "_model_module_version": "1.5.0",
       "_model_name": "ProgressStyleModel",
       "_view_count": null,
       "_view_module": "@jupyter-widgets/base",
       "_view_module_version": "1.2.0",
       "_view_name": "StyleView",
       "bar_color": null,
       "description_width": ""
      }
     },
     "f819e24685bf4bb4ab78047eb63b8233": {
      "model_module": "@jupyter-widgets/controls",
      "model_module_version": "1.5.0",
      "model_name": "HTMLModel",
      "state": {
       "_dom_classes": [],
       "_model_module": "@jupyter-widgets/controls",
       "_model_module_version": "1.5.0",
       "_model_name": "HTMLModel",
       "_view_count": null,
       "_view_module": "@jupyter-widgets/controls",
       "_view_module_version": "1.5.0",
       "_view_name": "HTMLView",
       "description": "",
       "description_tooltip": null,
       "layout": "IPY_MODEL_ee0d877afedb4a0fa8f5a15f67881251",
       "placeholder": "​",
       "style": "IPY_MODEL_d86a2c42ba324197b560942485aea360",
       "value": "Downloading: 100%"
      }
     }
    },
    "version_major": 2,
    "version_minor": 0
   }
  }
 },
 "nbformat": 4,
 "nbformat_minor": 5
}
