{
 "cells": [
  {
   "cell_type": "code",
   "execution_count": 1,
   "id": "ce84fbcc",
   "metadata": {
    "_cell_guid": "b1076dfc-b9ad-4769-8c92-a6c4dae69d19",
    "_uuid": "8f2839f25d086af736a60e9eeb907d3b93b6e0e5",
    "execution": {
     "iopub.execute_input": "2022-06-14T16:00:18.040689Z",
     "iopub.status.busy": "2022-06-14T16:00:18.039733Z",
     "iopub.status.idle": "2022-06-14T16:00:26.192507Z",
     "shell.execute_reply": "2022-06-14T16:00:26.191504Z"
    },
    "papermill": {
     "duration": 8.187847,
     "end_time": "2022-06-14T16:00:26.195406",
     "exception": false,
     "start_time": "2022-06-14T16:00:18.007559",
     "status": "completed"
    },
    "tags": []
   },
   "outputs": [],
   "source": [
    "import numpy as np\n",
    "import pandas as pd \n",
    "import seaborn as sns\n",
    "import matplotlib.pyplot as plt \n",
    "import matplotlib.style as stl \n",
    "from tensorflow import keras \n",
    "from keras.preprocessing.text import Tokenizer\n",
    "from nltk.corpus import stopwords\n",
    "import string\n",
    "from tensorflow.keras.models import Sequential,Model\n",
    "from tensorflow.keras.layers import Dense, LSTM, Embedding,Dropout,SpatialDropout1D,Conv1D,MaxPooling1D,GRU,BatchNormalization\n",
    "import warnings\n",
    "warnings.filterwarnings('ignore')\n",
    "stl.use('ggplot')\n",
    "from tqdm import tqdm\n",
    "import string\n",
    "from nltk.corpus import stopwords\n",
    "from nltk.tokenize import word_tokenize\n",
    "from nltk.stem import WordNetLemmatizer\n",
    "from nltk.stem.snowball import SnowballStemmer\n",
    "import regex as re"
   ]
  },
  {
   "cell_type": "code",
   "execution_count": 2,
   "id": "7abd0de9",
   "metadata": {
    "execution": {
     "iopub.execute_input": "2022-06-14T16:00:26.251205Z",
     "iopub.status.busy": "2022-06-14T16:00:26.250597Z",
     "iopub.status.idle": "2022-06-14T16:00:26.338229Z",
     "shell.execute_reply": "2022-06-14T16:00:26.337217Z"
    },
    "papermill": {
     "duration": 0.117404,
     "end_time": "2022-06-14T16:00:26.340853",
     "exception": false,
     "start_time": "2022-06-14T16:00:26.223449",
     "status": "completed"
    },
    "tags": []
   },
   "outputs": [],
   "source": [
    "newdata=pd.read_csv(\"../input/oathss/oaths.csv\")"
   ]
  },
  {
   "cell_type": "code",
   "execution_count": 3,
   "id": "66752dde",
   "metadata": {
    "execution": {
     "iopub.execute_input": "2022-06-14T16:00:26.396760Z",
     "iopub.status.busy": "2022-06-14T16:00:26.396443Z",
     "iopub.status.idle": "2022-06-14T16:00:26.409578Z",
     "shell.execute_reply": "2022-06-14T16:00:26.408579Z"
    },
    "papermill": {
     "duration": 0.044513,
     "end_time": "2022-06-14T16:00:26.413068",
     "exception": false,
     "start_time": "2022-06-14T16:00:26.368555",
     "status": "completed"
    },
    "tags": []
   },
   "outputs": [
    {
     "data": {
      "text/plain": [
       "'[M177 ENCL]\\r\\n[[pre-printed]] I, [[handwritten]] I C Meekins [[/handwritten]], of [[handwritten]] Currituck [[/handwritten]] County, State of North Carolina, do solemnly swear or affirm, in presence of Almighty God, that I will henceforth faithfully support, protect and defend the Constitution of the United States and the Union of the States thereunder; and that I will, in like manner, abide by and faithfully support all laws and proclamations which have been made during the existing rebellion with reference to the emancipation of slaves.  So help me God. \\r\\n\\r\\n[[handwritten]] Isaac C. Meekins [[/handwritten]]\\r\\n\\r\\nSworn and subscribed to this the [[handwritten]] 16 [[/handwritten]] day of [[handwritten]] Sept [[/handwritten]] A.D., 1865, before \\r\\n[[handwritten]] E H Walker [[/handwritten]], J.P.\\r\\nIt is hereby certified that the above is a true copy of the original oath taken and subscribed by [[handwritten]] I C Meekins\\r\\nE H Walker, J.P.\\r\\nJohn B Etheridge, J.P.\\r\\n[[\\\\handwritten]] [[/pre-printed]]'"
      ]
     },
     "execution_count": 3,
     "metadata": {},
     "output_type": "execute_result"
    }
   ],
   "source": [
    "newdata[\"transcription_text\"][0]"
   ]
  },
  {
   "cell_type": "code",
   "execution_count": null,
   "id": "3160ff64",
   "metadata": {
    "papermill": {
     "duration": 0.027004,
     "end_time": "2022-06-14T16:00:26.467941",
     "exception": false,
     "start_time": "2022-06-14T16:00:26.440937",
     "status": "completed"
    },
    "tags": []
   },
   "outputs": [],
   "source": []
  },
  {
   "cell_type": "code",
   "execution_count": 4,
   "id": "a8df1dc8",
   "metadata": {
    "execution": {
     "iopub.execute_input": "2022-06-14T16:00:26.535776Z",
     "iopub.status.busy": "2022-06-14T16:00:26.535416Z",
     "iopub.status.idle": "2022-06-14T16:00:26.541975Z",
     "shell.execute_reply": "2022-06-14T16:00:26.541061Z"
    },
    "papermill": {
     "duration": 0.036314,
     "end_time": "2022-06-14T16:00:26.543903",
     "exception": false,
     "start_time": "2022-06-14T16:00:26.507589",
     "status": "completed"
    },
    "tags": []
   },
   "outputs": [
    {
     "data": {
      "text/plain": [
       "' I, T A Dough, of Currituck County, State of North-Carolina, do solemnly swear or affirm, in presence of Almighty God, that I will henceforth faithfully support, protect and defend the Constitution of the United States and the Union of the States thereunder; and that I will, in like manner, abide by and faithfully support all laws and proclamations which have been made during the existing rebellion with reference to the emancipation of slaves. So help me God. \\r\\nThos A Dough\\r\\n\\r\\nSworn and subscribed to this the 16 day of Sept, \\r\\nA.D., 1865, before \\r\\nJohn B Etheridge, J. P.\\r\\n\\r\\nIt is hereby certified that the above is a true copy of the original oath taken and subscribed by T A Dough\\r\\nJohn B Etheridge, J. P.\\r\\nE H Walker, J. P.\\r\\n[[blank line]], J. P.\\r\\n'"
      ]
     },
     "execution_count": 4,
     "metadata": {},
     "output_type": "execute_result"
    }
   ],
   "source": [
    "newdata[\"transcription_text\"][9]"
   ]
  },
  {
   "cell_type": "code",
   "execution_count": 5,
   "id": "a0a2d00e",
   "metadata": {
    "execution": {
     "iopub.execute_input": "2022-06-14T16:00:26.597507Z",
     "iopub.status.busy": "2022-06-14T16:00:26.596534Z",
     "iopub.status.idle": "2022-06-14T16:00:26.603689Z",
     "shell.execute_reply": "2022-06-14T16:00:26.602670Z"
    },
    "papermill": {
     "duration": 0.035635,
     "end_time": "2022-06-14T16:00:26.605712",
     "exception": false,
     "start_time": "2022-06-14T16:00:26.570077",
     "status": "completed"
    },
    "tags": []
   },
   "outputs": [
    {
     "data": {
      "text/plain": [
       "'[[preprinted]]\\r\\nState of North Carolina, }\\r\\n^[[Randolph]] County. }\\r\\n\\r\\nI, ^[[W R Frazier]], do solemnly swear that I have never voluntarily borne arms against the United States since I have been a citizen thereof; that I have voluntarily given no aid, countenance, counsel, or encouragement to persons engaged in armed hostility thereto; that I have neither sought nor accepted, nor attempted to exercise the functions of any office whatever under any authority, or pretended authority, in hostility to the United States; that I have not yielded a voluntary support to any pretended government, authority, power or constitution within the United States, hostile or inimical thereto. And I do further swear, that, to the best of my knowledge and ability, I will support and defend the Constitution of the United States against all enemies, foreign and domestic; that I will bear true faith and allegiance to the same; that I take this obligation freely, without any mental reservation or purpose of evasion; and that I will well and faithfully discharge the duties of the office on which I am about to enter, so help me God.\\r\\n\\r\\n[[signature]] W R Frazer[[/signature]]\\r\\nSworn and subscribed before me, this ^[[6th]] day of ^[[Septr]], 1866.\\r\\n[[/preprinted]]\\r\\n[[signature]] W M Wilson [[/signature]] JP \\r\\n'"
      ]
     },
     "execution_count": 5,
     "metadata": {},
     "output_type": "execute_result"
    }
   ],
   "source": [
    "newdata[\"transcription_text\"][100]"
   ]
  },
  {
   "cell_type": "code",
   "execution_count": null,
   "id": "4df0ce58",
   "metadata": {
    "papermill": {
     "duration": 0.026834,
     "end_time": "2022-06-14T16:00:26.659137",
     "exception": false,
     "start_time": "2022-06-14T16:00:26.632303",
     "status": "completed"
    },
    "tags": []
   },
   "outputs": [],
   "source": []
  },
  {
   "cell_type": "code",
   "execution_count": 6,
   "id": "321ffb66",
   "metadata": {
    "execution": {
     "iopub.execute_input": "2022-06-14T16:00:26.713661Z",
     "iopub.status.busy": "2022-06-14T16:00:26.713272Z",
     "iopub.status.idle": "2022-06-14T16:00:26.719400Z",
     "shell.execute_reply": "2022-06-14T16:00:26.718453Z"
    },
    "papermill": {
     "duration": 0.035607,
     "end_time": "2022-06-14T16:00:26.721596",
     "exception": false,
     "start_time": "2022-06-14T16:00:26.685989",
     "status": "completed"
    },
    "tags": []
   },
   "outputs": [
    {
     "data": {
      "text/plain": [
       "'I J A Sanders solemnly Swear that I have carefully read the Amnesty Proclamation issued by ANDREW JOHNSON, President of the United States of America, on May 29th, 1865, and that I am not excepted from the benefits of that Proclamation by any one of the fourteen exceptions therein made, [[strikethrough]] except [[/strikethrough]]\\r\\nLaura Sanders\\r\\n\\r\\nSworn to and subscribed before me at Charleston SC this 7th day of Oct 1865.\\r\\nJ Milton Thompson\\r\\nCapt 33 U.S.C.T. & Pro. Marshal\\r\\n\\r\\n[[left margin]] Copy  J Milton Thompson capt 33 USCT & Pro Marshal City of Charleston [[/left margin]]\\r\\n\\r\\nNo. 1619\\r\\nUnited States of America.\\r\\n\\r\\nI J A L. Sanders of the County of Charleston State of South Ca do solemnly Swear in the presence of Almighty God, that I will henceforth faithfully support and defend the Constitution of the United States, and the Union of the States thereunder, and that I will, in like manner, abide by and faithfully support all laws and proclamations which have been made during the existing rebellion with reference to the Emancipation of Slaves-SO HELP ME GOD.\\r\\nJ. A: Sanders\\r\\n\\r\\nSworn to and subscribed before me at Charleston SC this 7th day of Oct 1865.\\r\\nJ Milton Thompson\\r\\nCapt 33 U.S.C.T. & PM\\r\\n\\r\\nThe above has Dr complexion, Gry hair, and light eyes; is 5 feet 9 inches high, and 55 years; by profession a Merchant\\r\\n\\r\\n(The original oaths will be transmitted, by the officer administering them, to the Department of State, through intermediate channels, and a certified copy thereof will be furnished to the applicant for pardon, to accompany his petition.)'"
      ]
     },
     "execution_count": 6,
     "metadata": {},
     "output_type": "execute_result"
    }
   ],
   "source": [
    "newdata[\"transcription_text\"][1500]"
   ]
  },
  {
   "cell_type": "code",
   "execution_count": null,
   "id": "b9a1e35b",
   "metadata": {
    "papermill": {
     "duration": 0.025965,
     "end_time": "2022-06-14T16:00:26.773552",
     "exception": false,
     "start_time": "2022-06-14T16:00:26.747587",
     "status": "completed"
    },
    "tags": []
   },
   "outputs": [],
   "source": []
  },
  {
   "cell_type": "code",
   "execution_count": null,
   "id": "d972bd2e",
   "metadata": {
    "papermill": {
     "duration": 0.029273,
     "end_time": "2022-06-14T16:00:26.828882",
     "exception": false,
     "start_time": "2022-06-14T16:00:26.799609",
     "status": "completed"
    },
    "tags": []
   },
   "outputs": [],
   "source": []
  },
  {
   "cell_type": "code",
   "execution_count": null,
   "id": "1b63127e",
   "metadata": {
    "papermill": {
     "duration": 0.02698,
     "end_time": "2022-06-14T16:00:26.883767",
     "exception": false,
     "start_time": "2022-06-14T16:00:26.856787",
     "status": "completed"
    },
    "tags": []
   },
   "outputs": [],
   "source": []
  },
  {
   "cell_type": "code",
   "execution_count": null,
   "id": "3ab80bc2",
   "metadata": {
    "papermill": {
     "duration": 0.027872,
     "end_time": "2022-06-14T16:00:26.937943",
     "exception": false,
     "start_time": "2022-06-14T16:00:26.910071",
     "status": "completed"
    },
    "tags": []
   },
   "outputs": [],
   "source": []
  },
  {
   "cell_type": "code",
   "execution_count": null,
   "id": "4996caac",
   "metadata": {
    "papermill": {
     "duration": 0.02626,
     "end_time": "2022-06-14T16:00:26.991077",
     "exception": false,
     "start_time": "2022-06-14T16:00:26.964817",
     "status": "completed"
    },
    "tags": []
   },
   "outputs": [],
   "source": []
  },
  {
   "cell_type": "code",
   "execution_count": null,
   "id": "aa34099c",
   "metadata": {
    "papermill": {
     "duration": 0.027012,
     "end_time": "2022-06-14T16:00:27.044847",
     "exception": false,
     "start_time": "2022-06-14T16:00:27.017835",
     "status": "completed"
    },
    "tags": []
   },
   "outputs": [],
   "source": []
  },
  {
   "cell_type": "code",
   "execution_count": 7,
   "id": "72185c2a",
   "metadata": {
    "execution": {
     "iopub.execute_input": "2022-06-14T16:00:27.101628Z",
     "iopub.status.busy": "2022-06-14T16:00:27.101242Z",
     "iopub.status.idle": "2022-06-14T16:00:27.107697Z",
     "shell.execute_reply": "2022-06-14T16:00:27.106792Z"
    },
    "papermill": {
     "duration": 0.037822,
     "end_time": "2022-06-14T16:00:27.109928",
     "exception": false,
     "start_time": "2022-06-14T16:00:27.072106",
     "status": "completed"
    },
    "tags": []
   },
   "outputs": [
    {
     "data": {
      "text/plain": [
       "'United States OF AMERICA.\\r\\n[[image]] stamped eagle [[/image]]\\r\\nTEST OATH. \\r\\n\\r\\n\\r\\nI, J. B. Healy - do solemnly swear that I have never voluntarily borne arms against the United States since I have been a citizen thereof; that I have voluntarily given no aid, countenance, counsel, or encouragement to persons engaged in armed hostility thereto; that I have neither sought, nor accepted, nor attempted to exercise the functions of any office whatever, under any authority, or pretended authority, in hostility to the United States; that I have not yielded a voluntary support to any pretended government, authority, power, or constitution within the United States, hostile or inimical thereto.\\r\\nAnd I do further swear, or affirm, that, to the best of my knowledge and ability, I will support and defend the Constitution of the United States against all enemies, foreign and domestic; that I will bear true faith and allegiance to the same; that I take this obligation freely, without any mental reservation or purpose of evasion; and that I will well and faithfully discharge the duties of the office on which I am about to enter : So help me God.\\r\\nJ.B.Healy\\r\\n\\r\\nSWORN TO AND SUBSCRIBED before me, at Columbus Ga\\r\\nthis 24th day of July 1867\\r\\nWm Mills\\r\\nCapt 15th U.S. Inft\\r\\nComdg Post of Columbus.\\r\\n\\r\\n(Required by Act of Congress as a preliminary to holding office under the United States.)'"
      ]
     },
     "execution_count": 7,
     "metadata": {},
     "output_type": "execute_result"
    }
   ],
   "source": [
    "newdata[\"transcription_text\"][1980]"
   ]
  },
  {
   "cell_type": "code",
   "execution_count": 8,
   "id": "f30afe5f",
   "metadata": {
    "execution": {
     "iopub.execute_input": "2022-06-14T16:00:27.165565Z",
     "iopub.status.busy": "2022-06-14T16:00:27.165181Z",
     "iopub.status.idle": "2022-06-14T16:00:27.171684Z",
     "shell.execute_reply": "2022-06-14T16:00:27.170581Z"
    },
    "papermill": {
     "duration": 0.036891,
     "end_time": "2022-06-14T16:00:27.174057",
     "exception": false,
     "start_time": "2022-06-14T16:00:27.137166",
     "status": "completed"
    },
    "tags": []
   },
   "outputs": [
    {
     "data": {
      "text/plain": [
       "'Oath\\r\\nArington Dilworth\\r\\nGuilford Co No Ca\\r\\n\\r\\nAug 14, 66'"
      ]
     },
     "execution_count": 8,
     "metadata": {},
     "output_type": "execute_result"
    }
   ],
   "source": [
    "newdata[\"transcription_text\"][2100]"
   ]
  },
  {
   "cell_type": "markdown",
   "id": "25105ae6",
   "metadata": {
    "papermill": {
     "duration": 0.027683,
     "end_time": "2022-06-14T16:00:27.230966",
     "exception": false,
     "start_time": "2022-06-14T16:00:27.203283",
     "status": "completed"
    },
    "tags": []
   },
   "source": [
    "# Preprocessing"
   ]
  },
  {
   "cell_type": "code",
   "execution_count": 9,
   "id": "766d61a4",
   "metadata": {
    "execution": {
     "iopub.execute_input": "2022-06-14T16:00:27.288100Z",
     "iopub.status.busy": "2022-06-14T16:00:27.287695Z",
     "iopub.status.idle": "2022-06-14T16:00:27.292775Z",
     "shell.execute_reply": "2022-06-14T16:00:27.291732Z"
    },
    "papermill": {
     "duration": 0.03722,
     "end_time": "2022-06-14T16:00:27.295071",
     "exception": false,
     "start_time": "2022-06-14T16:00:27.257851",
     "status": "completed"
    },
    "tags": []
   },
   "outputs": [],
   "source": [
    "all_text=newdata[\"transcription_text\"]"
   ]
  },
  {
   "cell_type": "code",
   "execution_count": 10,
   "id": "bcbec8de",
   "metadata": {
    "execution": {
     "iopub.execute_input": "2022-06-14T16:00:27.352647Z",
     "iopub.status.busy": "2022-06-14T16:00:27.352342Z",
     "iopub.status.idle": "2022-06-14T16:00:27.364148Z",
     "shell.execute_reply": "2022-06-14T16:00:27.363226Z"
    },
    "papermill": {
     "duration": 0.04306,
     "end_time": "2022-06-14T16:00:27.366294",
     "exception": false,
     "start_time": "2022-06-14T16:00:27.323234",
     "status": "completed"
    },
    "tags": []
   },
   "outputs": [],
   "source": [
    "stop_words = set(stopwords.words('english'))\n",
    "punctuation = string.punctuation\n",
    "stemmer = SnowballStemmer(language=\"english\")\n",
    "lemmatizer = WordNetLemmatizer()"
   ]
  },
  {
   "cell_type": "code",
   "execution_count": 11,
   "id": "14969e81",
   "metadata": {
    "execution": {
     "iopub.execute_input": "2022-06-14T16:00:27.423579Z",
     "iopub.status.busy": "2022-06-14T16:00:27.422682Z",
     "iopub.status.idle": "2022-06-14T16:00:27.429683Z",
     "shell.execute_reply": "2022-06-14T16:00:27.428636Z"
    },
    "papermill": {
     "duration": 0.03768,
     "end_time": "2022-06-14T16:00:27.431842",
     "exception": false,
     "start_time": "2022-06-14T16:00:27.394162",
     "status": "completed"
    },
    "tags": []
   },
   "outputs": [
    {
     "data": {
      "text/plain": [
       "'!\"#$%&\\'()*+,-./:;<=>?@[\\\\]^_`{|}~'"
      ]
     },
     "execution_count": 11,
     "metadata": {},
     "output_type": "execute_result"
    }
   ],
   "source": [
    "stop_words.remove(\"of\")\n",
    "punctuation"
   ]
  },
  {
   "cell_type": "code",
   "execution_count": 12,
   "id": "d791120f",
   "metadata": {
    "execution": {
     "iopub.execute_input": "2022-06-14T16:00:27.488693Z",
     "iopub.status.busy": "2022-06-14T16:00:27.487655Z",
     "iopub.status.idle": "2022-06-14T16:00:27.492972Z",
     "shell.execute_reply": "2022-06-14T16:00:27.492079Z"
    },
    "papermill": {
     "duration": 0.036334,
     "end_time": "2022-06-14T16:00:27.495427",
     "exception": false,
     "start_time": "2022-06-14T16:00:27.459093",
     "status": "completed"
    },
    "tags": []
   },
   "outputs": [],
   "source": [
    "punct='!\"#$%&\\'()*+-/<=>?@[\\\\]^`{|}~'"
   ]
  },
  {
   "cell_type": "markdown",
   "id": "d0837026",
   "metadata": {
    "papermill": {
     "duration": 0.026915,
     "end_time": "2022-06-14T16:00:27.550477",
     "exception": false,
     "start_time": "2022-06-14T16:00:27.523562",
     "status": "completed"
    },
    "tags": []
   },
   "source": [
    "# delete just stop words and ('!\"#$%&\\'()*+-/<=>?@[\\\\]^`{|}~')"
   ]
  },
  {
   "cell_type": "code",
   "execution_count": 13,
   "id": "9b366d92",
   "metadata": {
    "execution": {
     "iopub.execute_input": "2022-06-14T16:00:27.608900Z",
     "iopub.status.busy": "2022-06-14T16:00:27.607863Z",
     "iopub.status.idle": "2022-06-14T16:00:27.614642Z",
     "shell.execute_reply": "2022-06-14T16:00:27.613649Z"
    },
    "papermill": {
     "duration": 0.038071,
     "end_time": "2022-06-14T16:00:27.616676",
     "exception": false,
     "start_time": "2022-06-14T16:00:27.578605",
     "status": "completed"
    },
    "tags": []
   },
   "outputs": [],
   "source": [
    "def process(s):\n",
    "    s= re.sub(\"([\\(\\[]).*?([\\)\\]])\",\" \",s)\n",
    "    for p in punct:\n",
    "        s = s.replace(p, '')\n",
    "    s = word_tokenize(s)\n",
    "    s = [w for w in s if not w in stop_words] \n",
    "    s = [lemmatizer.lemmatize(word) for word in s]\n",
    "    return s"
   ]
  },
  {
   "cell_type": "code",
   "execution_count": 14,
   "id": "bba30b5d",
   "metadata": {
    "execution": {
     "iopub.execute_input": "2022-06-14T16:00:27.673446Z",
     "iopub.status.busy": "2022-06-14T16:00:27.672706Z",
     "iopub.status.idle": "2022-06-14T16:00:38.264683Z",
     "shell.execute_reply": "2022-06-14T16:00:38.263569Z"
    },
    "papermill": {
     "duration": 10.622901,
     "end_time": "2022-06-14T16:00:38.267901",
     "exception": false,
     "start_time": "2022-06-14T16:00:27.645000",
     "status": "completed"
    },
    "tags": []
   },
   "outputs": [
    {
     "name": "stderr",
     "output_type": "stream",
     "text": [
      "100%|██████████| 2136/2136 [00:09<00:00, 220.59it/s]\n",
      "100%|██████████| 2136/2136 [00:00<00:00, 2398.11it/s]\n"
     ]
    }
   ],
   "source": [
    "for i in tqdm(range(newdata.shape[0])):\n",
    "    all_text[i] = process(all_text[i])\n",
    "for i in tqdm(range(newdata.shape[0])):\n",
    "    all_text[i] = \" \".join(all_text[i])"
   ]
  },
  {
   "cell_type": "code",
   "execution_count": 15,
   "id": "8b7ff645",
   "metadata": {
    "execution": {
     "iopub.execute_input": "2022-06-14T16:00:38.337439Z",
     "iopub.status.busy": "2022-06-14T16:00:38.337013Z",
     "iopub.status.idle": "2022-06-14T16:00:38.346465Z",
     "shell.execute_reply": "2022-06-14T16:00:38.345368Z"
    },
    "papermill": {
     "duration": 0.046515,
     "end_time": "2022-06-14T16:00:38.348698",
     "exception": false,
     "start_time": "2022-06-14T16:00:38.302183",
     "status": "completed"
    },
    "tags": []
   },
   "outputs": [
    {
     "data": {
      "text/plain": [
       "0       I , I C Meekins , of Currituck County , State ...\n",
       "1       Department of Virginia North Carolina , 1864. ...\n",
       "2       I , W. H. Pearce , of Craven County , State of...\n",
       "3       State of North Carolina , ________ County . I ...\n",
       "4       State of North Carolina , Wake County . I , S....\n",
       "                              ...                        \n",
       "2131    Office Provost Marshal Raleigh , N.C. May 26 6...\n",
       "2132    July 30th 1867 Birnie Wm Agent Bu R F A L Oath...\n",
       "2133    State of North Carolina , Robeson County . I ,...\n",
       "2134    NARA 449 102 We whose name written well person...\n",
       "2135    NARA 450 404 Office Provost Marshall City of W...\n",
       "Name: transcription_text, Length: 2136, dtype: object"
      ]
     },
     "execution_count": 15,
     "metadata": {},
     "output_type": "execute_result"
    }
   ],
   "source": [
    "all_text"
   ]
  },
  {
   "cell_type": "code",
   "execution_count": null,
   "id": "9694f5ec",
   "metadata": {
    "papermill": {
     "duration": 0.033602,
     "end_time": "2022-06-14T16:00:38.416458",
     "exception": false,
     "start_time": "2022-06-14T16:00:38.382856",
     "status": "completed"
    },
    "tags": []
   },
   "outputs": [],
   "source": []
  },
  {
   "cell_type": "markdown",
   "id": "7b29ac6c",
   "metadata": {
    "papermill": {
     "duration": 0.032778,
     "end_time": "2022-06-14T16:00:38.481851",
     "exception": false,
     "start_time": "2022-06-14T16:00:38.449073",
     "status": "completed"
    },
    "tags": []
   },
   "source": [
    "# Flair"
   ]
  },
  {
   "cell_type": "code",
   "execution_count": 16,
   "id": "3e8a92f5",
   "metadata": {
    "execution": {
     "iopub.execute_input": "2022-06-14T16:00:38.550676Z",
     "iopub.status.busy": "2022-06-14T16:00:38.549933Z",
     "iopub.status.idle": "2022-06-14T16:01:55.265310Z",
     "shell.execute_reply": "2022-06-14T16:01:55.264022Z"
    },
    "papermill": {
     "duration": 76.752548,
     "end_time": "2022-06-14T16:01:55.268184",
     "exception": false,
     "start_time": "2022-06-14T16:00:38.515636",
     "status": "completed"
    },
    "tags": []
   },
   "outputs": [
    {
     "name": "stdout",
     "output_type": "stream",
     "text": [
      "Requirement already satisfied: Cython in /opt/conda/lib/python3.7/site-packages (0.29.30)\r\n",
      "\u001b[33mWARNING: Running pip as the 'root' user can result in broken permissions and conflicting behaviour with the system package manager. It is recommended to use a virtual environment instead: https://pip.pypa.io/warnings/venv\u001b[0m\u001b[33m\r\n",
      "\u001b[0mRequirement already satisfied: transformers in /opt/conda/lib/python3.7/site-packages (4.18.0)\r\n",
      "Requirement already satisfied: tqdm>=4.27 in /opt/conda/lib/python3.7/site-packages (from transformers) (4.64.0)\r\n",
      "Requirement already satisfied: pyyaml>=5.1 in /opt/conda/lib/python3.7/site-packages (from transformers) (6.0)\r\n",
      "Requirement already satisfied: numpy>=1.17 in /opt/conda/lib/python3.7/site-packages (from transformers) (1.21.6)\r\n",
      "Requirement already satisfied: sacremoses in /opt/conda/lib/python3.7/site-packages (from transformers) (0.0.53)\r\n",
      "Requirement already satisfied: requests in /opt/conda/lib/python3.7/site-packages (from transformers) (2.27.1)\r\n",
      "Requirement already satisfied: packaging>=20.0 in /opt/conda/lib/python3.7/site-packages (from transformers) (21.3)\r\n",
      "Requirement already satisfied: regex!=2019.12.17 in /opt/conda/lib/python3.7/site-packages (from transformers) (2021.11.10)\r\n",
      "Requirement already satisfied: tokenizers!=0.11.3,<0.13,>=0.11.1 in /opt/conda/lib/python3.7/site-packages (from transformers) (0.12.1)\r\n",
      "Requirement already satisfied: importlib-metadata in /opt/conda/lib/python3.7/site-packages (from transformers) (4.11.4)\r\n",
      "Requirement already satisfied: filelock in /opt/conda/lib/python3.7/site-packages (from transformers) (3.6.0)\r\n",
      "Requirement already satisfied: huggingface-hub<1.0,>=0.1.0 in /opt/conda/lib/python3.7/site-packages (from transformers) (0.5.1)\r\n",
      "Requirement already satisfied: typing-extensions>=3.7.4.3 in /opt/conda/lib/python3.7/site-packages (from huggingface-hub<1.0,>=0.1.0->transformers) (4.2.0)\r\n",
      "Requirement already satisfied: pyparsing!=3.0.5,>=2.0.2 in /opt/conda/lib/python3.7/site-packages (from packaging>=20.0->transformers) (3.0.9)\r\n",
      "Requirement already satisfied: zipp>=0.5 in /opt/conda/lib/python3.7/site-packages (from importlib-metadata->transformers) (3.8.0)\r\n",
      "Requirement already satisfied: idna<4,>=2.5 in /opt/conda/lib/python3.7/site-packages (from requests->transformers) (3.3)\r\n",
      "Requirement already satisfied: charset-normalizer~=2.0.0 in /opt/conda/lib/python3.7/site-packages (from requests->transformers) (2.0.12)\r\n",
      "Requirement already satisfied: urllib3<1.27,>=1.21.1 in /opt/conda/lib/python3.7/site-packages (from requests->transformers) (1.26.9)\r\n",
      "Requirement already satisfied: certifi>=2017.4.17 in /opt/conda/lib/python3.7/site-packages (from requests->transformers) (2022.5.18.1)\r\n",
      "Requirement already satisfied: joblib in /opt/conda/lib/python3.7/site-packages (from sacremoses->transformers) (1.1.0)\r\n",
      "Requirement already satisfied: six in /opt/conda/lib/python3.7/site-packages (from sacremoses->transformers) (1.16.0)\r\n",
      "Requirement already satisfied: click in /opt/conda/lib/python3.7/site-packages (from sacremoses->transformers) (8.0.4)\r\n",
      "\u001b[33mWARNING: Running pip as the 'root' user can result in broken permissions and conflicting behaviour with the system package manager. It is recommended to use a virtual environment instead: https://pip.pypa.io/warnings/venv\u001b[0m\u001b[33m\r\n",
      "\u001b[0mCollecting flair\r\n",
      "  Downloading flair-0.11.3-py3-none-any.whl (401 kB)\r\n",
      "\u001b[2K     \u001b[90m━━━━━━━━━━━━━━━━━━━━━━━━━━━━━━━━━━━━━━━\u001b[0m \u001b[32m401.9/401.9 kB\u001b[0m \u001b[31m1.1 MB/s\u001b[0m eta \u001b[36m0:00:00\u001b[0m\r\n",
      "\u001b[?25hRequirement already satisfied: scikit-learn>=0.21.3 in /opt/conda/lib/python3.7/site-packages (from flair) (1.0.2)\r\n",
      "Collecting langdetect\r\n",
      "  Downloading langdetect-1.0.9.tar.gz (981 kB)\r\n",
      "\u001b[2K     \u001b[90m━━━━━━━━━━━━━━━━━━━━━━━━━━━━━━━━━━━━━━━\u001b[0m \u001b[32m981.5/981.5 kB\u001b[0m \u001b[31m6.0 MB/s\u001b[0m eta \u001b[36m0:00:00\u001b[0m\r\n",
      "\u001b[?25h  Preparing metadata (setup.py) ... \u001b[?25l-\b \bdone\r\n",
      "\u001b[?25hRequirement already satisfied: janome in /opt/conda/lib/python3.7/site-packages (from flair) (0.4.2)\r\n",
      "Requirement already satisfied: tqdm>=4.26.0 in /opt/conda/lib/python3.7/site-packages (from flair) (4.64.0)\r\n",
      "Collecting konoha<5.0.0,>=4.0.0\r\n",
      "  Downloading konoha-4.6.5-py3-none-any.whl (20 kB)\r\n",
      "Requirement already satisfied: tabulate in /opt/conda/lib/python3.7/site-packages (from flair) (0.8.9)\r\n",
      "Collecting ftfy\r\n",
      "  Downloading ftfy-6.1.1-py3-none-any.whl (53 kB)\r\n",
      "\u001b[2K     \u001b[90m━━━━━━━━━━━━━━━━━━━━━━━━━━━━━━━━━━━━━━━━\u001b[0m \u001b[32m53.1/53.1 kB\u001b[0m \u001b[31m3.3 MB/s\u001b[0m eta \u001b[36m0:00:00\u001b[0m\r\n",
      "\u001b[?25hCollecting sentencepiece==0.1.95\r\n",
      "  Downloading sentencepiece-0.1.95-cp37-cp37m-manylinux2014_x86_64.whl (1.2 MB)\r\n",
      "\u001b[2K     \u001b[90m━━━━━━━━━━━━━━━━━━━━━━━━━━━━━━━━━━━━━━━━\u001b[0m \u001b[32m1.2/1.2 MB\u001b[0m \u001b[31m18.5 MB/s\u001b[0m eta \u001b[36m0:00:00\u001b[0m\r\n",
      "\u001b[?25hRequirement already satisfied: transformers>=4.0.0 in /opt/conda/lib/python3.7/site-packages (from flair) (4.18.0)\r\n",
      "Collecting pptree\r\n",
      "  Downloading pptree-3.1.tar.gz (3.0 kB)\r\n",
      "  Preparing metadata (setup.py) ... \u001b[?25l-\b \bdone\r\n",
      "\u001b[?25hCollecting wikipedia-api\r\n",
      "  Downloading Wikipedia-API-0.5.4.tar.gz (18 kB)\r\n",
      "  Preparing metadata (setup.py) ... \u001b[?25l-\b \bdone\r\n",
      "\u001b[?25hCollecting gdown==4.4.0\r\n",
      "  Downloading gdown-4.4.0.tar.gz (14 kB)\r\n",
      "  Installing build dependencies ... \u001b[?25l-\b \b\\\b \b|\b \b/\b \b-\b \b\\\b \bdone\r\n",
      "\u001b[?25h  Getting requirements to build wheel ... \u001b[?25l-\b \b\\\b \b|\b \b/\b \b-\b \bdone\r\n",
      "\u001b[?25h  Preparing metadata (pyproject.toml) ... \u001b[?25l-\b \b\\\b \b|\b \b/\b \b-\b \bdone\r\n",
      "\u001b[?25hRequirement already satisfied: regex in /opt/conda/lib/python3.7/site-packages (from flair) (2021.11.10)\r\n",
      "Collecting sqlitedict>=1.6.0\r\n",
      "  Downloading sqlitedict-2.0.0.tar.gz (46 kB)\r\n",
      "\u001b[2K     \u001b[90m━━━━━━━━━━━━━━━━━━━━━━━━━━━━━━━━━━━━━━━━\u001b[0m \u001b[32m46.3/46.3 kB\u001b[0m \u001b[31m3.3 MB/s\u001b[0m eta \u001b[36m0:00:00\u001b[0m\r\n",
      "\u001b[?25h  Preparing metadata (setup.py) ... \u001b[?25l-\b \bdone\r\n",
      "\u001b[?25hCollecting segtok>=1.5.7\r\n",
      "  Downloading segtok-1.5.11-py3-none-any.whl (24 kB)\r\n",
      "Requirement already satisfied: python-dateutil>=2.6.1 in /opt/conda/lib/python3.7/site-packages (from flair) (2.8.2)\r\n",
      "Collecting conllu>=4.0\r\n",
      "  Downloading conllu-4.4.2-py2.py3-none-any.whl (15 kB)\r\n",
      "Requirement already satisfied: gensim>=3.4.0 in /opt/conda/lib/python3.7/site-packages (from flair) (4.0.1)\r\n",
      "Requirement already satisfied: huggingface-hub in /opt/conda/lib/python3.7/site-packages (from flair) (0.5.1)\r\n",
      "Requirement already satisfied: matplotlib>=2.2.3 in /opt/conda/lib/python3.7/site-packages (from flair) (3.5.2)\r\n",
      "Requirement already satisfied: lxml in /opt/conda/lib/python3.7/site-packages (from flair) (4.8.0)\r\n",
      "Collecting mpld3==0.3\r\n",
      "  Downloading mpld3-0.3.tar.gz (788 kB)\r\n",
      "\u001b[2K     \u001b[90m━━━━━━━━━━━━━━━━━━━━━━━━━━━━━━━━━━━━━━\u001b[0m \u001b[32m788.5/788.5 kB\u001b[0m \u001b[31m31.9 MB/s\u001b[0m eta \u001b[36m0:00:00\u001b[0m\r\n",
      "\u001b[?25h  Preparing metadata (setup.py) ... \u001b[?25l-\b \bdone\r\n",
      "\u001b[?25hRequirement already satisfied: torch!=1.8,>=1.5.0 in /opt/conda/lib/python3.7/site-packages (from flair) (1.11.0)\r\n",
      "Requirement already satisfied: more-itertools in /opt/conda/lib/python3.7/site-packages (from flair) (8.13.0)\r\n",
      "Requirement already satisfied: hyperopt>=0.2.7 in /opt/conda/lib/python3.7/site-packages (from flair) (0.2.7)\r\n",
      "Collecting deprecated>=1.2.4\r\n",
      "  Downloading Deprecated-1.2.13-py2.py3-none-any.whl (9.6 kB)\r\n",
      "Collecting bpemb>=0.3.2\r\n",
      "  Downloading bpemb-0.3.3-py3-none-any.whl (19 kB)\r\n",
      "Requirement already satisfied: requests[socks] in /opt/conda/lib/python3.7/site-packages (from gdown==4.4.0->flair) (2.27.1)\r\n",
      "Requirement already satisfied: beautifulsoup4 in /opt/conda/lib/python3.7/site-packages (from gdown==4.4.0->flair) (4.11.1)\r\n",
      "Requirement already satisfied: six in /opt/conda/lib/python3.7/site-packages (from gdown==4.4.0->flair) (1.16.0)\r\n",
      "Requirement already satisfied: filelock in /opt/conda/lib/python3.7/site-packages (from gdown==4.4.0->flair) (3.6.0)\r\n",
      "Requirement already satisfied: numpy in /opt/conda/lib/python3.7/site-packages (from bpemb>=0.3.2->flair) (1.21.6)\r\n",
      "Requirement already satisfied: wrapt<2,>=1.10 in /opt/conda/lib/python3.7/site-packages (from deprecated>=1.2.4->flair) (1.14.1)\r\n",
      "Requirement already satisfied: scipy>=0.18.1 in /opt/conda/lib/python3.7/site-packages (from gensim>=3.4.0->flair) (1.7.3)\r\n",
      "Requirement already satisfied: smart-open>=1.8.1 in /opt/conda/lib/python3.7/site-packages (from gensim>=3.4.0->flair) (5.2.1)\r\n",
      "Requirement already satisfied: py4j in /opt/conda/lib/python3.7/site-packages (from hyperopt>=0.2.7->flair) (0.10.9.5)\r\n",
      "Requirement already satisfied: future in /opt/conda/lib/python3.7/site-packages (from hyperopt>=0.2.7->flair) (0.18.2)\r\n",
      "Requirement already satisfied: networkx>=2.2 in /opt/conda/lib/python3.7/site-packages (from hyperopt>=0.2.7->flair) (2.5)\r\n",
      "Requirement already satisfied: cloudpickle in /opt/conda/lib/python3.7/site-packages (from hyperopt>=0.2.7->flair) (2.0.0)\r\n",
      "Collecting importlib-metadata<4.0.0,>=3.7.0\r\n",
      "  Downloading importlib_metadata-3.10.1-py3-none-any.whl (14 kB)\r\n",
      "Collecting overrides<4.0.0,>=3.0.0\r\n",
      "  Downloading overrides-3.1.0.tar.gz (11 kB)\r\n",
      "  Preparing metadata (setup.py) ... \u001b[?25l-\b \bdone\r\n",
      "\u001b[?25hRequirement already satisfied: pyparsing>=2.2.1 in /opt/conda/lib/python3.7/site-packages (from matplotlib>=2.2.3->flair) (3.0.9)\r\n",
      "Requirement already satisfied: fonttools>=4.22.0 in /opt/conda/lib/python3.7/site-packages (from matplotlib>=2.2.3->flair) (4.33.3)\r\n",
      "Requirement already satisfied: pillow>=6.2.0 in /opt/conda/lib/python3.7/site-packages (from matplotlib>=2.2.3->flair) (9.1.0)\r\n",
      "Requirement already satisfied: kiwisolver>=1.0.1 in /opt/conda/lib/python3.7/site-packages (from matplotlib>=2.2.3->flair) (1.4.2)\r\n",
      "Requirement already satisfied: cycler>=0.10 in /opt/conda/lib/python3.7/site-packages (from matplotlib>=2.2.3->flair) (0.11.0)\r\n",
      "Requirement already satisfied: packaging>=20.0 in /opt/conda/lib/python3.7/site-packages (from matplotlib>=2.2.3->flair) (21.3)\r\n",
      "Requirement already satisfied: threadpoolctl>=2.0.0 in /opt/conda/lib/python3.7/site-packages (from scikit-learn>=0.21.3->flair) (3.1.0)\r\n",
      "Requirement already satisfied: joblib>=0.11 in /opt/conda/lib/python3.7/site-packages (from scikit-learn>=0.21.3->flair) (1.1.0)\r\n",
      "Requirement already satisfied: typing-extensions in /opt/conda/lib/python3.7/site-packages (from torch!=1.8,>=1.5.0->flair) (4.2.0)\r\n",
      "Requirement already satisfied: pyyaml>=5.1 in /opt/conda/lib/python3.7/site-packages (from transformers>=4.0.0->flair) (6.0)\r\n",
      "Requirement already satisfied: tokenizers!=0.11.3,<0.13,>=0.11.1 in /opt/conda/lib/python3.7/site-packages (from transformers>=4.0.0->flair) (0.12.1)\r\n",
      "Requirement already satisfied: sacremoses in /opt/conda/lib/python3.7/site-packages (from transformers>=4.0.0->flair) (0.0.53)\r\n",
      "Requirement already satisfied: wcwidth>=0.2.5 in /opt/conda/lib/python3.7/site-packages (from ftfy->flair) (0.2.5)\r\n",
      "Requirement already satisfied: zipp>=0.5 in /opt/conda/lib/python3.7/site-packages (from importlib-metadata<4.0.0,>=3.7.0->konoha<5.0.0,>=4.0.0->flair) (3.8.0)\r\n",
      "Requirement already satisfied: decorator>=4.3.0 in /opt/conda/lib/python3.7/site-packages (from networkx>=2.2->hyperopt>=0.2.7->flair) (5.1.1)\r\n",
      "Requirement already satisfied: idna<4,>=2.5 in /opt/conda/lib/python3.7/site-packages (from requests[socks]->gdown==4.4.0->flair) (3.3)\r\n",
      "Requirement already satisfied: certifi>=2017.4.17 in /opt/conda/lib/python3.7/site-packages (from requests[socks]->gdown==4.4.0->flair) (2022.5.18.1)\r\n",
      "Requirement already satisfied: urllib3<1.27,>=1.21.1 in /opt/conda/lib/python3.7/site-packages (from requests[socks]->gdown==4.4.0->flair) (1.26.9)\r\n",
      "Requirement already satisfied: charset-normalizer~=2.0.0 in /opt/conda/lib/python3.7/site-packages (from requests[socks]->gdown==4.4.0->flair) (2.0.12)\r\n",
      "Requirement already satisfied: soupsieve>1.2 in /opt/conda/lib/python3.7/site-packages (from beautifulsoup4->gdown==4.4.0->flair) (2.3.1)\r\n",
      "Requirement already satisfied: PySocks!=1.5.7,>=1.5.6 in /opt/conda/lib/python3.7/site-packages (from requests[socks]->gdown==4.4.0->flair) (1.7.1)\r\n",
      "Requirement already satisfied: click in /opt/conda/lib/python3.7/site-packages (from sacremoses->transformers>=4.0.0->flair) (8.0.4)\r\n",
      "Building wheels for collected packages: gdown, mpld3, sqlitedict, langdetect, pptree, wikipedia-api, overrides\r\n",
      "  Building wheel for gdown (pyproject.toml) ... \u001b[?25l-\b \b\\\b \b|\b \b/\b \b-\b \b\\\b \b|\b \b/\b \b-\b \bdone\r\n",
      "\u001b[?25h  Created wheel for gdown: filename=gdown-4.4.0-py3-none-any.whl size=14759 sha256=e0046ac5b89732f9993f35f7556f8ab7c3afe38735786de756f6602c92f25d0f\r\n",
      "  Stored in directory: /root/.cache/pip/wheels/fb/c3/0e/c4d8ff8bfcb0461afff199471449f642179b74968c15b7a69c\r\n",
      "  Building wheel for mpld3 (setup.py) ... \u001b[?25l-\b \b\\\b \bdone\r\n",
      "\u001b[?25h  Created wheel for mpld3: filename=mpld3-0.3-py3-none-any.whl size=116702 sha256=1dd34838a91730c09dc2d44719929d31f10a7246df9f71c3d7924dbaf2188851\r\n",
      "  Stored in directory: /root/.cache/pip/wheels/26/70/6a/1c79e59951a41b4045497da187b2724f5659ca64033cf4548e\r\n",
      "  Building wheel for sqlitedict (setup.py) ... \u001b[?25l-\b \bdone\r\n",
      "\u001b[?25h  Created wheel for sqlitedict: filename=sqlitedict-2.0.0-py3-none-any.whl size=15736 sha256=fc193a453907b4e0bd5aac820392f31f945145a256378d3dd6653e68e2214ca0\r\n",
      "  Stored in directory: /root/.cache/pip/wheels/96/dd/2e/0ed4a25cb73fc30c7ea8d10b50acb7226175736067e40a7ea3\r\n",
      "  Building wheel for langdetect (setup.py) ... \u001b[?25l-\b \b\\\b \b|\b \b/\b \bdone\r\n",
      "\u001b[?25h  Created wheel for langdetect: filename=langdetect-1.0.9-py3-none-any.whl size=993242 sha256=94dd89ef03d659a5cbf176b022b190f03622e7ab6bbceb711330a08ef99152d6\r\n",
      "  Stored in directory: /root/.cache/pip/wheels/c5/96/8a/f90c59ed25d75e50a8c10a1b1c2d4c402e4dacfa87f3aff36a\r\n",
      "  Building wheel for pptree (setup.py) ... \u001b[?25l-\b \b\\\b \bdone\r\n",
      "\u001b[?25h  Created wheel for pptree: filename=pptree-3.1-py3-none-any.whl size=4629 sha256=9059a6db8180fb003f4601f8ddbe87d98d74a6095ab69222ff8b103ef40583da\r\n",
      "  Stored in directory: /root/.cache/pip/wheels/9e/e8/7d/a9c3c19b4722608a0d8b05a38c36bc3f230c43becd2a46794b\r\n",
      "  Building wheel for wikipedia-api (setup.py) ... \u001b[?25l-\b \b\\\b \bdone\r\n",
      "\u001b[?25h  Created wheel for wikipedia-api: filename=Wikipedia_API-0.5.4-py3-none-any.whl size=13477 sha256=e10184d6b070d80450ef5bef679184eb315ef18838e3dc25773244eecc2128a1\r\n",
      "  Stored in directory: /root/.cache/pip/wheels/d3/24/56/58ba93cf78be162451144e7a9889603f437976ef1ae7013d04\r\n",
      "  Building wheel for overrides (setup.py) ... \u001b[?25l-\b \b\\\b \bdone\r\n",
      "\u001b[?25h  Created wheel for overrides: filename=overrides-3.1.0-py3-none-any.whl size=10187 sha256=14f536ae7996e4bfc8f5839aa92fde3deb6fe7f0a247848bfaa8f39ead91e835\r\n",
      "  Stored in directory: /root/.cache/pip/wheels/3a/0d/38/01a9bc6e20dcfaf0a6a7b552d03137558ba1c38aea47644682\r\n",
      "Successfully built gdown mpld3 sqlitedict langdetect pptree wikipedia-api overrides\r\n",
      "Installing collected packages: sqlitedict, sentencepiece, pptree, overrides, mpld3, segtok, langdetect, importlib-metadata, ftfy, deprecated, conllu, wikipedia-api, konoha, gdown, bpemb, flair\r\n",
      "  Attempting uninstall: sentencepiece\r\n",
      "    Found existing installation: sentencepiece 0.1.96\r\n",
      "    Uninstalling sentencepiece-0.1.96:\r\n",
      "      Successfully uninstalled sentencepiece-0.1.96\r\n",
      "  Attempting uninstall: overrides\r\n",
      "    Found existing installation: overrides 6.1.0\r\n",
      "    Uninstalling overrides-6.1.0:\r\n",
      "      Successfully uninstalled overrides-6.1.0\r\n",
      "  Attempting uninstall: mpld3\r\n",
      "    Found existing installation: mpld3 0.5.7\r\n",
      "    Uninstalling mpld3-0.5.7:\r\n",
      "      Successfully uninstalled mpld3-0.5.7\r\n",
      "  Attempting uninstall: importlib-metadata\r\n",
      "    Found existing installation: importlib-metadata 4.11.4\r\n",
      "    Uninstalling importlib-metadata-4.11.4:\r\n",
      "      Successfully uninstalled importlib-metadata-4.11.4\r\n",
      "\u001b[31mERROR: pip's dependency resolver does not currently take into account all the packages that are installed. This behaviour is the source of the following dependency conflicts.\r\n",
      "markdown 3.3.7 requires importlib-metadata>=4.4; python_version < \"3.10\", but you have importlib-metadata 3.10.1 which is incompatible.\r\n",
      "ibis-framework 2.1.1 requires importlib-metadata<5,>=4; python_version < \"3.8\", but you have importlib-metadata 3.10.1 which is incompatible.\r\n",
      "gym 0.23.1 requires importlib-metadata>=4.10.0; python_version < \"3.10\", but you have importlib-metadata 3.10.1 which is incompatible.\r\n",
      "google-cloud-pubsublite 1.4.2 requires overrides<7.0.0,>=6.0.1, but you have overrides 3.1.0 which is incompatible.\u001b[0m\u001b[31m\r\n",
      "\u001b[0mSuccessfully installed bpemb-0.3.3 conllu-4.4.2 deprecated-1.2.13 flair-0.11.3 ftfy-6.1.1 gdown-4.4.0 importlib-metadata-3.10.1 konoha-4.6.5 langdetect-1.0.9 mpld3-0.3 overrides-3.1.0 pptree-3.1 segtok-1.5.11 sentencepiece-0.1.95 sqlitedict-2.0.0 wikipedia-api-0.5.4\r\n",
      "\u001b[33mWARNING: Running pip as the 'root' user can result in broken permissions and conflicting behaviour with the system package manager. It is recommended to use a virtual environment instead: https://pip.pypa.io/warnings/venv\u001b[0m\u001b[33m\r\n",
      "\u001b[0m"
     ]
    }
   ],
   "source": [
    "!pip3 install Cython\n",
    "!pip install transformers\n",
    "!pip install flair"
   ]
  },
  {
   "cell_type": "markdown",
   "id": "6455d38c",
   "metadata": {
    "papermill": {
     "duration": 0.040582,
     "end_time": "2022-06-14T16:01:55.352818",
     "exception": false,
     "start_time": "2022-06-14T16:01:55.312236",
     "status": "completed"
    },
    "tags": []
   },
   "source": [
    "# Hugging face  : Flair"
   ]
  },
  {
   "cell_type": "code",
   "execution_count": 17,
   "id": "517557c1",
   "metadata": {
    "execution": {
     "iopub.execute_input": "2022-06-14T16:01:55.440328Z",
     "iopub.status.busy": "2022-06-14T16:01:55.439599Z",
     "iopub.status.idle": "2022-06-14T16:01:57.966777Z",
     "shell.execute_reply": "2022-06-14T16:01:57.965580Z"
    },
    "papermill": {
     "duration": 2.573242,
     "end_time": "2022-06-14T16:01:57.969463",
     "exception": false,
     "start_time": "2022-06-14T16:01:55.396221",
     "status": "completed"
    },
    "tags": []
   },
   "outputs": [
    {
     "name": "stdout",
     "output_type": "stream",
     "text": [
      "git: 'lfs' is not a git command. See 'git --help'.\r\n",
      "\r\n",
      "The most similar command is\r\n",
      "\tlog\r\n",
      "Cloning into 'ner-english-large'...\r\n",
      "remote: Enumerating objects: 25, done.\u001b[K\r\n",
      "remote: Counting objects: 100% (25/25), done.\u001b[K\r\n",
      "remote: Compressing objects: 100% (24/24), done.\u001b[K\r\n",
      "remote: Total 25 (delta 10), reused 0 (delta 0), pack-reused 0\u001b[K\r\n",
      "Unpacking objects: 100% (25/25), 11.03 KiB | 513.00 KiB/s, done.\r\n"
     ]
    }
   ],
   "source": [
    "!git lfs install\n",
    "!git clone https://huggingface.co/flair/ner-english-large"
   ]
  },
  {
   "cell_type": "code",
   "execution_count": 18,
   "id": "76b233d4",
   "metadata": {
    "execution": {
     "iopub.execute_input": "2022-06-14T16:01:58.055589Z",
     "iopub.status.busy": "2022-06-14T16:01:58.055136Z",
     "iopub.status.idle": "2022-06-14T16:03:43.982813Z",
     "shell.execute_reply": "2022-06-14T16:03:43.981696Z"
    },
    "papermill": {
     "duration": 105.972716,
     "end_time": "2022-06-14T16:03:43.985464",
     "exception": false,
     "start_time": "2022-06-14T16:01:58.012748",
     "status": "completed"
    },
    "tags": []
   },
   "outputs": [
    {
     "data": {
      "application/vnd.jupyter.widget-view+json": {
       "model_id": "5c7390ffd7cf47f19197f9519c6f2db0",
       "version_major": 2,
       "version_minor": 0
      },
      "text/plain": [
       "Downloading:   0%|          | 0.00/2.24G [00:00<?, ?B/s]"
      ]
     },
     "metadata": {},
     "output_type": "display_data"
    },
    {
     "name": "stdout",
     "output_type": "stream",
     "text": [
      "2022-06-14 16:03:13,787 loading file /root/.flair/models/ner-english-ontonotes-large/2da6c2cdd76e59113033adf670340bfd820f0301ae2e39204d67ba2dc276cc28.ec1bdb304b6c66111532c3b1fc6e522460ae73f1901848a4d0362cdf9760edb1\n"
     ]
    },
    {
     "data": {
      "application/vnd.jupyter.widget-view+json": {
       "model_id": "de0c8f3add40451baef32c67c9d4cfb5",
       "version_major": 2,
       "version_minor": 0
      },
      "text/plain": [
       "Downloading:   0%|          | 0.00/616 [00:00<?, ?B/s]"
      ]
     },
     "metadata": {},
     "output_type": "display_data"
    },
    {
     "data": {
      "application/vnd.jupyter.widget-view+json": {
       "model_id": "349f17c430694c9fb3fd56b6f54e7bb3",
       "version_major": 2,
       "version_minor": 0
      },
      "text/plain": [
       "Downloading:   0%|          | 0.00/4.83M [00:00<?, ?B/s]"
      ]
     },
     "metadata": {},
     "output_type": "display_data"
    },
    {
     "data": {
      "application/vnd.jupyter.widget-view+json": {
       "model_id": "477fbeb69cb04bd39bd23fc945a5f1d6",
       "version_major": 2,
       "version_minor": 0
      },
      "text/plain": [
       "Downloading:   0%|          | 0.00/8.68M [00:00<?, ?B/s]"
      ]
     },
     "metadata": {},
     "output_type": "display_data"
    },
    {
     "name": "stdout",
     "output_type": "stream",
     "text": [
      "2022-06-14 16:03:43,492 SequenceTagger predicts: Dictionary with 76 tags: <unk>, O, B-CARDINAL, E-CARDINAL, S-PERSON, S-CARDINAL, S-PRODUCT, B-PRODUCT, I-PRODUCT, E-PRODUCT, B-WORK_OF_ART, I-WORK_OF_ART, E-WORK_OF_ART, B-PERSON, E-PERSON, S-GPE, B-DATE, I-DATE, E-DATE, S-ORDINAL, S-LANGUAGE, I-PERSON, S-EVENT, S-DATE, B-QUANTITY, E-QUANTITY, S-TIME, B-TIME, I-TIME, E-TIME, B-GPE, E-GPE, S-ORG, I-GPE, S-NORP, B-FAC, I-FAC, E-FAC, B-NORP, E-NORP, S-PERCENT, B-ORG, E-ORG, B-LANGUAGE, E-LANGUAGE, I-CARDINAL, I-ORG, S-WORK_OF_ART, I-QUANTITY, B-MONEY\n"
     ]
    }
   ],
   "source": [
    "from flair.models import SequenceTagger\n",
    "\n",
    "tagger = SequenceTagger.load(\"flair/ner-english-ontonotes-large\")"
   ]
  },
  {
   "cell_type": "code",
   "execution_count": 19,
   "id": "4cc0901b",
   "metadata": {
    "execution": {
     "iopub.execute_input": "2022-06-14T16:03:44.072595Z",
     "iopub.status.busy": "2022-06-14T16:03:44.072281Z",
     "iopub.status.idle": "2022-06-14T16:05:15.447043Z",
     "shell.execute_reply": "2022-06-14T16:05:15.445964Z"
    },
    "papermill": {
     "duration": 91.421359,
     "end_time": "2022-06-14T16:05:15.449996",
     "exception": false,
     "start_time": "2022-06-14T16:03:44.028637",
     "status": "completed"
    },
    "tags": []
   },
   "outputs": [
    {
     "data": {
      "application/vnd.jupyter.widget-view+json": {
       "model_id": "29312df51fc7451d8ed42a9f155dc673",
       "version_major": 2,
       "version_minor": 0
      },
      "text/plain": [
       "Downloading:   0%|          | 0.00/2.24G [00:00<?, ?B/s]"
      ]
     },
     "metadata": {},
     "output_type": "display_data"
    },
    {
     "name": "stdout",
     "output_type": "stream",
     "text": [
      "2022-06-14 16:04:56,284 loading file /root/.flair/models/ner-english-large/07301f59bb8cb113803be316267f06ddf9243cdbba92a4c8067ef92442d2c574.554244d3476d97501a766a98078421817b14654496b86f2f7bd139dc502a4f29\n",
      "2022-06-14 16:05:14,942 SequenceTagger predicts: Dictionary with 20 tags: <unk>, O, S-ORG, S-MISC, B-PER, E-PER, S-LOC, B-ORG, E-ORG, I-PER, S-PER, B-MISC, I-MISC, E-MISC, I-ORG, B-LOC, E-LOC, I-LOC, <START>, <STOP>\n"
     ]
    }
   ],
   "source": [
    "from flair.models import SequenceTagger\n",
    "\n",
    "tagger2 = SequenceTagger.load(\"flair/ner-english-large\")"
   ]
  },
  {
   "cell_type": "code",
   "execution_count": 20,
   "id": "5377bf04",
   "metadata": {
    "execution": {
     "iopub.execute_input": "2022-06-14T16:05:15.569681Z",
     "iopub.status.busy": "2022-06-14T16:05:15.569099Z",
     "iopub.status.idle": "2022-06-14T16:07:43.746638Z",
     "shell.execute_reply": "2022-06-14T16:07:43.745619Z"
    },
    "papermill": {
     "duration": 148.250017,
     "end_time": "2022-06-14T16:07:43.749232",
     "exception": false,
     "start_time": "2022-06-14T16:05:15.499215",
     "status": "completed"
    },
    "tags": []
   },
   "outputs": [],
   "source": [
    "entitiesL=[]\n",
    "label=[]\n",
    "Per=[]\n",
    "ORG=[]\n",
    "LOC=[]\n",
    "from flair.data import Sentence\n",
    "\n",
    "dflarge=pd.DataFrame({\"text\":\"\", \"PERSON-nerenglarge\":[], \"LOC-nerenglarge\":\"\",\"ORG-nerenglarge\":\"\"})\n",
    "for i in range(2136):\n",
    "        sentencess =Sentence(all_text[i])\n",
    "        dflarge.loc[i,\"text\"]=all_text[i]\n",
    "        tagger2.predict(sentencess)\n",
    "        dc={}\n",
    "        P=[]\n",
    "        L=[]\n",
    "        G=[]\n",
    "        O=[]\n",
    "        ent=[]\n",
    "        for entity in sentencess.get_spans('ner'):\n",
    "                     \n",
    "                     if (entity.get_label(\"ner\").score > 0.90) & (entity.get_label(\"ner\").value != \"CARDINAL\") & (entity.get_label(\"ner\").value != \"LAW\")& (entity.get_label(\"ner\").value != \"QUANTITY\") & (entity.get_label(\"ner\").value != \"WORK_OF_ART\") & (entity.get_label(\"ner\").value != \"LAW\")& (entity.get_label(\"ner\").value != \"QUANTITY\") & (entity.get_label(\"ner\").value != \"EVENT\")  :\n",
    "                        dc[entity.text]= entity.get_label(\"ner\").value \n",
    "                        ent.append(entity)\n",
    "        \n",
    "        entitiesL.append(ent)\n",
    "        for j in dc :\n",
    "                if dc[j]==\"PER\":\n",
    "                      P.append(j)\n",
    "                elif (dc[j]==\"ORG\") | (dc[j]==\"MISC\") :\n",
    "                      O.append(j)\n",
    "                elif dc[j]==\"LOC\":\n",
    "                      L.append(j)\n",
    "               \n",
    "        Per.append(P)\n",
    "        ORG.append(O)\n",
    "        LOC.append(L)\n",
    "            \n",
    "\n",
    "dflarge[\"PERSON-nerenglarge\"]=Per\n",
    "dflarge[\"LOC-nerenglarge\"]=LOC\n",
    "dflarge[\"ORG-nerenglarge\"]=ORG                        "
   ]
  },
  {
   "cell_type": "code",
   "execution_count": 21,
   "id": "73d0d847",
   "metadata": {
    "execution": {
     "iopub.execute_input": "2022-06-14T16:07:43.836455Z",
     "iopub.status.busy": "2022-06-14T16:07:43.835808Z",
     "iopub.status.idle": "2022-06-14T16:07:43.870138Z",
     "shell.execute_reply": "2022-06-14T16:07:43.869058Z"
    },
    "papermill": {
     "duration": 0.079427,
     "end_time": "2022-06-14T16:07:43.872359",
     "exception": false,
     "start_time": "2022-06-14T16:07:43.792932",
     "status": "completed"
    },
    "tags": []
   },
   "outputs": [
    {
     "data": {
      "text/html": [
       "<div>\n",
       "<style scoped>\n",
       "    .dataframe tbody tr th:only-of-type {\n",
       "        vertical-align: middle;\n",
       "    }\n",
       "\n",
       "    .dataframe tbody tr th {\n",
       "        vertical-align: top;\n",
       "    }\n",
       "\n",
       "    .dataframe thead th {\n",
       "        text-align: right;\n",
       "    }\n",
       "</style>\n",
       "<table border=\"1\" class=\"dataframe\">\n",
       "  <thead>\n",
       "    <tr style=\"text-align: right;\">\n",
       "      <th></th>\n",
       "      <th>text</th>\n",
       "      <th>PERSON-nerenglarge</th>\n",
       "      <th>LOC-nerenglarge</th>\n",
       "      <th>ORG-nerenglarge</th>\n",
       "    </tr>\n",
       "  </thead>\n",
       "  <tbody>\n",
       "    <tr>\n",
       "      <th>0</th>\n",
       "      <td>I , I C Meekins , of Currituck County , State ...</td>\n",
       "      <td>[I C Meekins, Almighty, God, Isaac C. Meekins,...</td>\n",
       "      <td>[Currituck County, State of North Carolina, Un...</td>\n",
       "      <td>[Constitution]</td>\n",
       "    </tr>\n",
       "    <tr>\n",
       "      <th>1</th>\n",
       "      <td>Department of Virginia North Carolina , 1864. ...</td>\n",
       "      <td>[]</td>\n",
       "      <td>[North Carolina, United States, States]</td>\n",
       "      <td>[Department of Virginia, OATH PAROLE]</td>\n",
       "    </tr>\n",
       "    <tr>\n",
       "      <th>2</th>\n",
       "      <td>I , W. H. Pearce , of Craven County , State of...</td>\n",
       "      <td>[W. H. Pearce, Almighty, God, E. Ampetts, W . ...</td>\n",
       "      <td>[Craven County, State of NorthCarolina, United...</td>\n",
       "      <td>[Constitution]</td>\n",
       "    </tr>\n",
       "    <tr>\n",
       "      <th>3</th>\n",
       "      <td>State of North Carolina , ________ County . I ...</td>\n",
       "      <td>[God]</td>\n",
       "      <td>[State of, North Carolina, United States]</td>\n",
       "      <td>[Constitution]</td>\n",
       "    </tr>\n",
       "    <tr>\n",
       "      <th>4</th>\n",
       "      <td>State of North Carolina , Wake County . I , S....</td>\n",
       "      <td>[S.E, God, T.D, McAlpine]</td>\n",
       "      <td>[State of, North Carolina, Wake County, United...</td>\n",
       "      <td>[Constitution, Res . Corp]</td>\n",
       "    </tr>\n",
       "    <tr>\n",
       "      <th>...</th>\n",
       "      <td>...</td>\n",
       "      <td>...</td>\n",
       "      <td>...</td>\n",
       "      <td>...</td>\n",
       "    </tr>\n",
       "    <tr>\n",
       "      <th>2131</th>\n",
       "      <td>Office Provost Marshal Raleigh , N.C. May 26 6...</td>\n",
       "      <td>[Geo . Little, Geo, B. Ayer, Hugo Hillebrandt]</td>\n",
       "      <td>[Raleigh, N.C., Wake County, State of N.C, Uni...</td>\n",
       "      <td>[]</td>\n",
       "    </tr>\n",
       "    <tr>\n",
       "      <th>2132</th>\n",
       "      <td>July 30th 1867 Birnie Wm Agent Bu R F A L Oath...</td>\n",
       "      <td>[]</td>\n",
       "      <td>[]</td>\n",
       "      <td>[]</td>\n",
       "    </tr>\n",
       "    <tr>\n",
       "      <th>2133</th>\n",
       "      <td>State of North Carolina , Robeson County . I ,...</td>\n",
       "      <td>[William Birnie, God, Wm Birnie, W.A]</td>\n",
       "      <td>[State of, North Carolina, Robeson County, Uni...</td>\n",
       "      <td>[Constitution]</td>\n",
       "    </tr>\n",
       "    <tr>\n",
       "      <th>2134</th>\n",
       "      <td>NARA 449 102 We whose name written well person...</td>\n",
       "      <td>[Price, James Fulton, Sgd W . N. Peden, Miles ...</td>\n",
       "      <td>[State of North Carolina, New Hanover County, ...</td>\n",
       "      <td>[Fulton Price, Confederate Government, Court o...</td>\n",
       "    </tr>\n",
       "    <tr>\n",
       "      <th>2135</th>\n",
       "      <td>NARA 450 404 Office Provost Marshall City of W...</td>\n",
       "      <td>[Marshall, James Fulton, God, Wm A. Cutler, I,...</td>\n",
       "      <td>[City of Wilmington, N.C, United States, North...</td>\n",
       "      <td>[NARA, Constitution of, Slaves]</td>\n",
       "    </tr>\n",
       "  </tbody>\n",
       "</table>\n",
       "<p>2136 rows × 4 columns</p>\n",
       "</div>"
      ],
      "text/plain": [
       "                                                   text  \\\n",
       "0     I , I C Meekins , of Currituck County , State ...   \n",
       "1     Department of Virginia North Carolina , 1864. ...   \n",
       "2     I , W. H. Pearce , of Craven County , State of...   \n",
       "3     State of North Carolina , ________ County . I ...   \n",
       "4     State of North Carolina , Wake County . I , S....   \n",
       "...                                                 ...   \n",
       "2131  Office Provost Marshal Raleigh , N.C. May 26 6...   \n",
       "2132  July 30th 1867 Birnie Wm Agent Bu R F A L Oath...   \n",
       "2133  State of North Carolina , Robeson County . I ,...   \n",
       "2134  NARA 449 102 We whose name written well person...   \n",
       "2135  NARA 450 404 Office Provost Marshall City of W...   \n",
       "\n",
       "                                     PERSON-nerenglarge  \\\n",
       "0     [I C Meekins, Almighty, God, Isaac C. Meekins,...   \n",
       "1                                                    []   \n",
       "2     [W. H. Pearce, Almighty, God, E. Ampetts, W . ...   \n",
       "3                                                 [God]   \n",
       "4                             [S.E, God, T.D, McAlpine]   \n",
       "...                                                 ...   \n",
       "2131     [Geo . Little, Geo, B. Ayer, Hugo Hillebrandt]   \n",
       "2132                                                 []   \n",
       "2133              [William Birnie, God, Wm Birnie, W.A]   \n",
       "2134  [Price, James Fulton, Sgd W . N. Peden, Miles ...   \n",
       "2135  [Marshall, James Fulton, God, Wm A. Cutler, I,...   \n",
       "\n",
       "                                        LOC-nerenglarge  \\\n",
       "0     [Currituck County, State of North Carolina, Un...   \n",
       "1               [North Carolina, United States, States]   \n",
       "2     [Craven County, State of NorthCarolina, United...   \n",
       "3             [State of, North Carolina, United States]   \n",
       "4     [State of, North Carolina, Wake County, United...   \n",
       "...                                                 ...   \n",
       "2131  [Raleigh, N.C., Wake County, State of N.C, Uni...   \n",
       "2132                                                 []   \n",
       "2133  [State of, North Carolina, Robeson County, Uni...   \n",
       "2134  [State of North Carolina, New Hanover County, ...   \n",
       "2135  [City of Wilmington, N.C, United States, North...   \n",
       "\n",
       "                                        ORG-nerenglarge  \n",
       "0                                        [Constitution]  \n",
       "1                 [Department of Virginia, OATH PAROLE]  \n",
       "2                                        [Constitution]  \n",
       "3                                        [Constitution]  \n",
       "4                            [Constitution, Res . Corp]  \n",
       "...                                                 ...  \n",
       "2131                                                 []  \n",
       "2132                                                 []  \n",
       "2133                                     [Constitution]  \n",
       "2134  [Fulton Price, Confederate Government, Court o...  \n",
       "2135                    [NARA, Constitution of, Slaves]  \n",
       "\n",
       "[2136 rows x 4 columns]"
      ]
     },
     "execution_count": 21,
     "metadata": {},
     "output_type": "execute_result"
    }
   ],
   "source": [
    "dflarge"
   ]
  },
  {
   "cell_type": "markdown",
   "id": "9020f29c",
   "metadata": {
    "papermill": {
     "duration": 0.041427,
     "end_time": "2022-06-14T16:07:43.958104",
     "exception": false,
     "start_time": "2022-06-14T16:07:43.916677",
     "status": "completed"
    },
    "tags": []
   },
   "source": [
    "tagger  ontonotes"
   ]
  },
  {
   "cell_type": "code",
   "execution_count": 22,
   "id": "9d3585ae",
   "metadata": {
    "execution": {
     "iopub.execute_input": "2022-06-14T16:07:44.043547Z",
     "iopub.status.busy": "2022-06-14T16:07:44.043154Z",
     "iopub.status.idle": "2022-06-14T16:10:11.408694Z",
     "shell.execute_reply": "2022-06-14T16:10:11.407650Z"
    },
    "papermill": {
     "duration": 147.411654,
     "end_time": "2022-06-14T16:10:11.411365",
     "exception": false,
     "start_time": "2022-06-14T16:07:43.999711",
     "status": "completed"
    },
    "tags": []
   },
   "outputs": [],
   "source": [
    "entitiesAu=[]\n",
    "label=[]\n",
    "Per=[]\n",
    "Date=[]\n",
    "GPE=[]\n",
    "ORG=[]\n",
    "from flair.data import Sentence\n",
    "\n",
    "aldf=pd.DataFrame({\"text\":\"\", \"PERSON-ontonotes\":[], \"GPE-ontonotes\":\"\",\"ORG-ontonotes\":\"\", \"Date-ontonotes\":\"\"})\n",
    "for i in range(2136):\n",
    "        sentencess =Sentence(all_text[i])\n",
    "        aldf.loc[i,\"text\"]=all_text[i]\n",
    "        tagger.predict(sentencess)\n",
    "        dc={}\n",
    "        P=[]\n",
    "        D=[]\n",
    "        G=[]\n",
    "        O=[]\n",
    "        ent=[]\n",
    "        for entity in sentencess.get_spans('ner'):\n",
    "                     \n",
    "                     if (entity.get_label(\"ner\").score > 0.98) & (entity.get_label(\"ner\").value != \"CARDINAL\") & (entity.get_label(\"ner\").value != \"LAW\")& (entity.get_label(\"ner\").value != \"QUANTITY\") & (entity.get_label(\"ner\").value != \"WORK_OF_ART\") & (entity.get_label(\"ner\").value != \"LAW\")& (entity.get_label(\"ner\").value != \"QUANTITY\") & (entity.get_label(\"ner\").value != \"EVENT\")  :\n",
    "                        dc[entity.text]= entity.get_label(\"ner\").value \n",
    "                        ent.append(entity)\n",
    "        \n",
    "        entitiesAu.append(ent)\n",
    "        for j in dc :\n",
    "                if dc[j]==\"PERSON\":\n",
    "                      P.append(j)\n",
    "                elif dc[j]==\"ORG\":\n",
    "                      O.append(j)\n",
    "                elif dc[j]==\"DATE\":\n",
    "                      D.append(j)\n",
    "                elif dc[j]==\"GPE\":\n",
    "                      G.append(j)\n",
    "        Per.append(P)\n",
    "        Date.append(D)\n",
    "        ORG.append(O)\n",
    "        GPE.append(G)\n",
    "            \n",
    "aldf[\"Date-ontonotes\"]=Date\n",
    "aldf[\"PERSON-ontonotes\"]=Per\n",
    "aldf[\"GPE-ontonotes\"]=GPE\n",
    "aldf[\"ORG-ontonotes\"]=ORG    "
   ]
  },
  {
   "cell_type": "code",
   "execution_count": 23,
   "id": "3adc6c0e",
   "metadata": {
    "execution": {
     "iopub.execute_input": "2022-06-14T16:10:11.503696Z",
     "iopub.status.busy": "2022-06-14T16:10:11.502911Z",
     "iopub.status.idle": "2022-06-14T16:10:11.509940Z",
     "shell.execute_reply": "2022-06-14T16:10:11.508894Z"
    },
    "papermill": {
     "duration": 0.057777,
     "end_time": "2022-06-14T16:10:11.512479",
     "exception": false,
     "start_time": "2022-06-14T16:10:11.454702",
     "status": "completed"
    },
    "tags": []
   },
   "outputs": [
    {
     "data": {
      "text/plain": [
       "(2136, 5)"
      ]
     },
     "execution_count": 23,
     "metadata": {},
     "output_type": "execute_result"
    }
   ],
   "source": [
    "aldf.shape"
   ]
  },
  {
   "cell_type": "code",
   "execution_count": 24,
   "id": "5a484b9e",
   "metadata": {
    "execution": {
     "iopub.execute_input": "2022-06-14T16:10:11.600913Z",
     "iopub.status.busy": "2022-06-14T16:10:11.599989Z",
     "iopub.status.idle": "2022-06-14T16:10:11.611003Z",
     "shell.execute_reply": "2022-06-14T16:10:11.609907Z"
    },
    "papermill": {
     "duration": 0.056563,
     "end_time": "2022-06-14T16:10:11.613030",
     "exception": false,
     "start_time": "2022-06-14T16:10:11.556467",
     "status": "completed"
    },
    "tags": []
   },
   "outputs": [
    {
     "data": {
      "text/plain": [
       "4887"
      ]
     },
     "execution_count": 24,
     "metadata": {},
     "output_type": "execute_result"
    }
   ],
   "source": [
    "\n",
    "LDate=[]\n",
    "for i in aldf[\"Date-ontonotes\"]:\n",
    "    for j in i:\n",
    "        LDate.append(j)\n",
    "len(LDate)"
   ]
  },
  {
   "cell_type": "markdown",
   "id": "f93ae28b",
   "metadata": {
    "papermill": {
     "duration": 0.041569,
     "end_time": "2022-06-14T16:10:11.696859",
     "exception": false,
     "start_time": "2022-06-14T16:10:11.655290",
     "status": "completed"
    },
    "tags": []
   },
   "source": [
    "**5000 dates**"
   ]
  },
  {
   "cell_type": "markdown",
   "id": "08ddbd82",
   "metadata": {
    "papermill": {
     "duration": 0.044847,
     "end_time": "2022-06-14T16:10:11.786221",
     "exception": false,
     "start_time": "2022-06-14T16:10:11.741374",
     "status": "completed"
    },
    "tags": []
   },
   "source": [
    "# Post processing"
   ]
  },
  {
   "cell_type": "markdown",
   "id": "0c925dac",
   "metadata": {
    "papermill": {
     "duration": 0.042649,
     "end_time": "2022-06-14T16:10:11.871945",
     "exception": false,
     "start_time": "2022-06-14T16:10:11.829296",
     "status": "completed"
    },
    "tags": []
   },
   "source": [
    "**For dates**"
   ]
  },
  {
   "cell_type": "code",
   "execution_count": 25,
   "id": "cdaf69c9",
   "metadata": {
    "execution": {
     "iopub.execute_input": "2022-06-14T16:10:11.963209Z",
     "iopub.status.busy": "2022-06-14T16:10:11.962269Z",
     "iopub.status.idle": "2022-06-14T16:10:12.037046Z",
     "shell.execute_reply": "2022-06-14T16:10:12.036060Z"
    },
    "papermill": {
     "duration": 0.124595,
     "end_time": "2022-06-14T16:10:12.039429",
     "exception": false,
     "start_time": "2022-06-14T16:10:11.914834",
     "status": "completed"
    },
    "tags": []
   },
   "outputs": [],
   "source": [
    "G=[]\n",
    "for i in aldf[\"Date-ontonotes\"]:\n",
    "    M=[]\n",
    "    for j in i:\n",
    "        date=re.search(r'^\\d\\.*.*\\d\\d$' ,j)\n",
    "        date2=re.search(r'^[A-ZZa-z]\\.*.*\\d\\.*.*\\d\\d$' ,j)\n",
    "        M.append(date)\n",
    "        M.append(date2)\n",
    "    G.append(M)\n",
    "    \n",
    "\n",
    "GF=[]\n",
    "for i in G:\n",
    "    Final_date=[]\n",
    "    for j in i:\n",
    "        if j!=None:\n",
    "            Final_date.append(j.group())\n",
    "    GF.append(Final_date)\n",
    "\n",
    "    \n",
    "aldf[\"postDate-ontonotes\"]=GF\n",
    "            \n",
    "            \n",
    "        "
   ]
  },
  {
   "cell_type": "code",
   "execution_count": 26,
   "id": "8743d7ba",
   "metadata": {
    "execution": {
     "iopub.execute_input": "2022-06-14T16:10:12.129700Z",
     "iopub.status.busy": "2022-06-14T16:10:12.128886Z",
     "iopub.status.idle": "2022-06-14T16:10:12.133208Z",
     "shell.execute_reply": "2022-06-14T16:10:12.132234Z"
    },
    "papermill": {
     "duration": 0.051689,
     "end_time": "2022-06-14T16:10:12.135281",
     "exception": false,
     "start_time": "2022-06-14T16:10:12.083592",
     "status": "completed"
    },
    "tags": []
   },
   "outputs": [],
   "source": [
    "#GF"
   ]
  },
  {
   "cell_type": "code",
   "execution_count": 27,
   "id": "5b39f553",
   "metadata": {
    "execution": {
     "iopub.execute_input": "2022-06-14T16:10:12.221041Z",
     "iopub.status.busy": "2022-06-14T16:10:12.220613Z",
     "iopub.status.idle": "2022-06-14T16:10:12.387608Z",
     "shell.execute_reply": "2022-06-14T16:10:12.386442Z"
    },
    "papermill": {
     "duration": 0.213841,
     "end_time": "2022-06-14T16:10:12.390482",
     "exception": false,
     "start_time": "2022-06-14T16:10:12.176641",
     "status": "completed"
    },
    "tags": []
   },
   "outputs": [],
   "source": [
    "G=[]\n",
    "for i in aldf[\"postDate-ontonotes\"]:\n",
    "    M=[]\n",
    "    for j in i:\n",
    "        Final_date1=re.sub(r'([0-9]{1,2})\\.*.*\\s([A-Z][a-z]\\S*)\\.*.*\\s([0-9]{2,4})',r'\\1-\\2-\\3' ,j)\n",
    "        Final_date2=re.sub(r'([A-Z]\\.*.*)\\s([0-9]{1,2})\\.*.*\\s([0-9]{2,4})',r'\\2-\\1-\\3' ,j)\n",
    "        final_date3=re.sub(r'([A-Z][a-z]\\S*)\\.*.*\\s([A-Z][a-z]\\S*)\\.*.*\\s([0-9]{2,4})',r'\\1-\\2-\\3' ,j)\n",
    "        final_date4=re.sub(r'(^[A-Za-z]\\S*.*.)day\\.*.*\\s([A-Z][a-z]\\S*)\\.*.*\\s([0-9]{2,4})',r'\\1-\\2-\\3' ,j)\n",
    "        if Final_date1 != j:   \n",
    "            M.append(Final_date1)\n",
    "        if Final_date2 != j :\n",
    "            M.append(Final_date2)\n",
    "        if final_date3 != j :\n",
    "            M.append(final_date3)\n",
    "        if final_date4 != j :\n",
    "            M.append(final_date4)\n",
    "    G.append(M)\n",
    "    \n",
    "\n",
    "aldf[\"postDate-ontonotes\"]=G"
   ]
  },
  {
   "cell_type": "markdown",
   "id": "0d47c70c",
   "metadata": {
    "papermill": {
     "duration": 0.04357,
     "end_time": "2022-06-14T16:10:12.479037",
     "exception": false,
     "start_time": "2022-06-14T16:10:12.435467",
     "status": "completed"
    },
    "tags": []
   },
   "source": [
    "**great !**"
   ]
  },
  {
   "cell_type": "markdown",
   "id": "80f6ded7",
   "metadata": {
    "papermill": {
     "duration": 0.089118,
     "end_time": "2022-06-14T16:10:12.651322",
     "exception": false,
     "start_time": "2022-06-14T16:10:12.562204",
     "status": "completed"
    },
    "tags": []
   },
   "source": [
    "****"
   ]
  },
  {
   "cell_type": "markdown",
   "id": "4bb57d45",
   "metadata": {
    "papermill": {
     "duration": 0.07789,
     "end_time": "2022-06-14T16:10:12.808141",
     "exception": false,
     "start_time": "2022-06-14T16:10:12.730251",
     "status": "completed"
    },
    "tags": []
   },
   "source": [
    "****"
   ]
  },
  {
   "cell_type": "code",
   "execution_count": 28,
   "id": "e1689636",
   "metadata": {
    "execution": {
     "iopub.execute_input": "2022-06-14T16:10:12.959979Z",
     "iopub.status.busy": "2022-06-14T16:10:12.959364Z",
     "iopub.status.idle": "2022-06-14T16:10:12.985471Z",
     "shell.execute_reply": "2022-06-14T16:10:12.984357Z"
    },
    "papermill": {
     "duration": 0.105012,
     "end_time": "2022-06-14T16:10:12.988329",
     "exception": false,
     "start_time": "2022-06-14T16:10:12.883317",
     "status": "completed"
    },
    "tags": []
   },
   "outputs": [
    {
     "data": {
      "text/html": [
       "<div>\n",
       "<style scoped>\n",
       "    .dataframe tbody tr th:only-of-type {\n",
       "        vertical-align: middle;\n",
       "    }\n",
       "\n",
       "    .dataframe tbody tr th {\n",
       "        vertical-align: top;\n",
       "    }\n",
       "\n",
       "    .dataframe thead th {\n",
       "        text-align: right;\n",
       "    }\n",
       "</style>\n",
       "<table border=\"1\" class=\"dataframe\">\n",
       "  <thead>\n",
       "    <tr style=\"text-align: right;\">\n",
       "      <th></th>\n",
       "      <th>text</th>\n",
       "      <th>PERSON-nerenglarge</th>\n",
       "      <th>LOC-nerenglarge</th>\n",
       "      <th>ORG-nerenglarge</th>\n",
       "    </tr>\n",
       "  </thead>\n",
       "  <tbody>\n",
       "    <tr>\n",
       "      <th>0</th>\n",
       "      <td>I , I C Meekins , of Currituck County , State ...</td>\n",
       "      <td>[I C Meekins, Almighty, God, Isaac C. Meekins,...</td>\n",
       "      <td>[Currituck County, State of North Carolina, Un...</td>\n",
       "      <td>[Constitution]</td>\n",
       "    </tr>\n",
       "    <tr>\n",
       "      <th>1</th>\n",
       "      <td>Department of Virginia North Carolina , 1864. ...</td>\n",
       "      <td>[]</td>\n",
       "      <td>[North Carolina, United States, States]</td>\n",
       "      <td>[Department of Virginia, OATH PAROLE]</td>\n",
       "    </tr>\n",
       "    <tr>\n",
       "      <th>2</th>\n",
       "      <td>I , W. H. Pearce , of Craven County , State of...</td>\n",
       "      <td>[W. H. Pearce, Almighty, God, E. Ampetts, W . ...</td>\n",
       "      <td>[Craven County, State of NorthCarolina, United...</td>\n",
       "      <td>[Constitution]</td>\n",
       "    </tr>\n",
       "    <tr>\n",
       "      <th>3</th>\n",
       "      <td>State of North Carolina , ________ County . I ...</td>\n",
       "      <td>[God]</td>\n",
       "      <td>[State of, North Carolina, United States]</td>\n",
       "      <td>[Constitution]</td>\n",
       "    </tr>\n",
       "    <tr>\n",
       "      <th>4</th>\n",
       "      <td>State of North Carolina , Wake County . I , S....</td>\n",
       "      <td>[S.E, God, T.D, McAlpine]</td>\n",
       "      <td>[State of, North Carolina, Wake County, United...</td>\n",
       "      <td>[Constitution, Res . Corp]</td>\n",
       "    </tr>\n",
       "  </tbody>\n",
       "</table>\n",
       "</div>"
      ],
      "text/plain": [
       "                                                text  \\\n",
       "0  I , I C Meekins , of Currituck County , State ...   \n",
       "1  Department of Virginia North Carolina , 1864. ...   \n",
       "2  I , W. H. Pearce , of Craven County , State of...   \n",
       "3  State of North Carolina , ________ County . I ...   \n",
       "4  State of North Carolina , Wake County . I , S....   \n",
       "\n",
       "                                  PERSON-nerenglarge  \\\n",
       "0  [I C Meekins, Almighty, God, Isaac C. Meekins,...   \n",
       "1                                                 []   \n",
       "2  [W. H. Pearce, Almighty, God, E. Ampetts, W . ...   \n",
       "3                                              [God]   \n",
       "4                          [S.E, God, T.D, McAlpine]   \n",
       "\n",
       "                                     LOC-nerenglarge  \\\n",
       "0  [Currituck County, State of North Carolina, Un...   \n",
       "1            [North Carolina, United States, States]   \n",
       "2  [Craven County, State of NorthCarolina, United...   \n",
       "3          [State of, North Carolina, United States]   \n",
       "4  [State of, North Carolina, Wake County, United...   \n",
       "\n",
       "                         ORG-nerenglarge  \n",
       "0                         [Constitution]  \n",
       "1  [Department of Virginia, OATH PAROLE]  \n",
       "2                         [Constitution]  \n",
       "3                         [Constitution]  \n",
       "4             [Constitution, Res . Corp]  "
      ]
     },
     "execution_count": 28,
     "metadata": {},
     "output_type": "execute_result"
    }
   ],
   "source": [
    "dflarge.head()"
   ]
  },
  {
   "cell_type": "code",
   "execution_count": 29,
   "id": "da2cd1ea",
   "metadata": {
    "execution": {
     "iopub.execute_input": "2022-06-14T16:10:13.135268Z",
     "iopub.status.busy": "2022-06-14T16:10:13.134853Z",
     "iopub.status.idle": "2022-06-14T16:10:13.143275Z",
     "shell.execute_reply": "2022-06-14T16:10:13.142398Z"
    },
    "papermill": {
     "duration": 0.080799,
     "end_time": "2022-06-14T16:10:13.145469",
     "exception": false,
     "start_time": "2022-06-14T16:10:13.064670",
     "status": "completed"
    },
    "tags": []
   },
   "outputs": [],
   "source": [
    "aldf[\"Person-NerEngLarge\"]=dflarge[\"PERSON-nerenglarge\"]\n",
    "aldf[\"LOC-NerEngLarge\"]=dflarge[\"LOC-nerenglarge\"]\n",
    "aldf[\"ORG-NerEngLarge\"]=dflarge[\"ORG-nerenglarge\"]\n"
   ]
  },
  {
   "cell_type": "code",
   "execution_count": 30,
   "id": "eb5625a4",
   "metadata": {
    "execution": {
     "iopub.execute_input": "2022-06-14T16:10:13.233771Z",
     "iopub.status.busy": "2022-06-14T16:10:13.233409Z",
     "iopub.status.idle": "2022-06-14T16:10:13.245767Z",
     "shell.execute_reply": "2022-06-14T16:10:13.244705Z"
    },
    "papermill": {
     "duration": 0.059229,
     "end_time": "2022-06-14T16:10:13.247939",
     "exception": false,
     "start_time": "2022-06-14T16:10:13.188710",
     "status": "completed"
    },
    "tags": []
   },
   "outputs": [],
   "source": [
    "allPerson=[]\n",
    "for i in aldf[\"PERSON-ontonotes\"]:\n",
    "            allPerson.append(i)\n",
    "allDatess=[]\n",
    "for i in aldf[\"Date-ontonotes\"]:\n",
    "            allDatess.append(i)\n",
    "allpostdates=[]\n",
    "for i in aldf[\"postDate-ontonotes\"]:\n",
    "            allpostdates.append(i)\n",
    "allGPE=[]\n",
    "for i in aldf[\"GPE-ontonotes\"]:\n",
    "            allGPE.append(i)\n",
    "alORGl=[]\n",
    "for i in aldf[\"ORG-ontonotes\"]:\n",
    "            alORGl.append(i)"
   ]
  },
  {
   "cell_type": "markdown",
   "id": "073355c0",
   "metadata": {
    "papermill": {
     "duration": 0.043808,
     "end_time": "2022-06-14T16:10:13.336756",
     "exception": false,
     "start_time": "2022-06-14T16:10:13.292948",
     "status": "completed"
    },
    "tags": []
   },
   "source": [
    "****"
   ]
  },
  {
   "cell_type": "code",
   "execution_count": 31,
   "id": "04dd2481",
   "metadata": {
    "execution": {
     "iopub.execute_input": "2022-06-14T16:10:13.425251Z",
     "iopub.status.busy": "2022-06-14T16:10:13.424322Z",
     "iopub.status.idle": "2022-06-14T16:10:13.433713Z",
     "shell.execute_reply": "2022-06-14T16:10:13.432709Z"
    },
    "papermill": {
     "duration": 0.054454,
     "end_time": "2022-06-14T16:10:13.436030",
     "exception": false,
     "start_time": "2022-06-14T16:10:13.381576",
     "status": "completed"
    },
    "tags": []
   },
   "outputs": [],
   "source": [
    "Personlarge=[]\n",
    "for i in dflarge[\"PERSON-nerenglarge\"]:\n",
    "            Personlarge.append(i)\n",
    "ORGlarge=[]\n",
    "for i in dflarge[\"ORG-nerenglarge\"]:\n",
    "            ORGlarge.append(i) \n",
    "LOClarge=[]\n",
    "for i in dflarge[\"LOC-nerenglarge\"]:\n",
    "            LOClarge.append(i)"
   ]
  },
  {
   "cell_type": "markdown",
   "id": "2eb80686",
   "metadata": {
    "papermill": {
     "duration": 0.042898,
     "end_time": "2022-06-14T16:10:13.522847",
     "exception": false,
     "start_time": "2022-06-14T16:10:13.479949",
     "status": "completed"
    },
    "tags": []
   },
   "source": [
    "* as usual , ner English Large is better in extracting Person \n",
    "* ontonotes is thes best in extracting dates after good postprocessing and filtring almost all pattern \n",
    "* ner Engish Large  also better in Location and Oranization "
   ]
  },
  {
   "cell_type": "code",
   "execution_count": 32,
   "id": "bd18186b",
   "metadata": {
    "execution": {
     "iopub.execute_input": "2022-06-14T16:10:13.614393Z",
     "iopub.status.busy": "2022-06-14T16:10:13.613572Z",
     "iopub.status.idle": "2022-06-14T16:10:13.620956Z",
     "shell.execute_reply": "2022-06-14T16:10:13.619813Z"
    },
    "papermill": {
     "duration": 0.057461,
     "end_time": "2022-06-14T16:10:13.623181",
     "exception": false,
     "start_time": "2022-06-14T16:10:13.565720",
     "status": "completed"
    },
    "tags": []
   },
   "outputs": [
    {
     "data": {
      "text/plain": [
       "[['Constitution'],\n",
       " ['Department of Virginia', 'OATH PAROLE'],\n",
       " ['Constitution'],\n",
       " ['Constitution'],\n",
       " ['Constitution', 'Res . Corp'],\n",
       " ['Constitution'],\n",
       " ['Department of Virginia'],\n",
       " [],\n",
       " ['Slaves'],\n",
       " ['Constitution']]"
      ]
     },
     "execution_count": 32,
     "metadata": {},
     "output_type": "execute_result"
    }
   ],
   "source": [
    "ORGlarge[:10]"
   ]
  },
  {
   "cell_type": "code",
   "execution_count": 33,
   "id": "bb508545",
   "metadata": {
    "execution": {
     "iopub.execute_input": "2022-06-14T16:10:13.764763Z",
     "iopub.status.busy": "2022-06-14T16:10:13.763750Z",
     "iopub.status.idle": "2022-06-14T16:10:13.771372Z",
     "shell.execute_reply": "2022-06-14T16:10:13.770251Z"
    },
    "papermill": {
     "duration": 0.103866,
     "end_time": "2022-06-14T16:10:13.773607",
     "exception": false,
     "start_time": "2022-06-14T16:10:13.669741",
     "status": "completed"
    },
    "tags": []
   },
   "outputs": [
    {
     "data": {
      "text/plain": [
       "[[],\n",
       " ['Department of Virginia', 'State'],\n",
       " [],\n",
       " [],\n",
       " [],\n",
       " [],\n",
       " ['Department of Virginia'],\n",
       " [],\n",
       " ['Union of States'],\n",
       " []]"
      ]
     },
     "execution_count": 33,
     "metadata": {},
     "output_type": "execute_result"
    }
   ],
   "source": [
    "alORGl[:10]"
   ]
  },
  {
   "cell_type": "code",
   "execution_count": 34,
   "id": "692478d1",
   "metadata": {
    "execution": {
     "iopub.execute_input": "2022-06-14T16:10:13.865696Z",
     "iopub.status.busy": "2022-06-14T16:10:13.865308Z",
     "iopub.status.idle": "2022-06-14T16:10:13.872287Z",
     "shell.execute_reply": "2022-06-14T16:10:13.871259Z"
    },
    "papermill": {
     "duration": 0.054888,
     "end_time": "2022-06-14T16:10:13.874602",
     "exception": false,
     "start_time": "2022-06-14T16:10:13.819714",
     "status": "completed"
    },
    "tags": []
   },
   "outputs": [
    {
     "data": {
      "text/plain": [
       "[['Constitution'],\n",
       " ['Department of Virginia', 'OATH PAROLE'],\n",
       " ['Constitution'],\n",
       " ['Constitution'],\n",
       " ['Constitution', 'Res . Corp'],\n",
       " ['Constitution'],\n",
       " ['Department of Virginia'],\n",
       " [],\n",
       " ['Slaves'],\n",
       " ['Constitution']]"
      ]
     },
     "execution_count": 34,
     "metadata": {},
     "output_type": "execute_result"
    }
   ],
   "source": [
    "ORGlarge[:10]"
   ]
  },
  {
   "cell_type": "code",
   "execution_count": 35,
   "id": "ac8e82fc",
   "metadata": {
    "execution": {
     "iopub.execute_input": "2022-06-14T16:10:13.967200Z",
     "iopub.status.busy": "2022-06-14T16:10:13.966766Z",
     "iopub.status.idle": "2022-06-14T16:10:13.974114Z",
     "shell.execute_reply": "2022-06-14T16:10:13.973031Z"
    },
    "papermill": {
     "duration": 0.054948,
     "end_time": "2022-06-14T16:10:13.976306",
     "exception": false,
     "start_time": "2022-06-14T16:10:13.921358",
     "status": "completed"
    },
    "tags": []
   },
   "outputs": [
    {
     "data": {
      "text/plain": [
       "[['Currituck County ,'],\n",
       " ['North Carolina', 'United States', 'States'],\n",
       " [],\n",
       " ['North Carolina', 'United States'],\n",
       " ['North Carolina', 'Wake County', 'United States'],\n",
       " ['Currituck county ,', 'North Carolina'],\n",
       " ['North Carolina', 'Roanoke Island', 'N.C', 'United States'],\n",
       " ['Currituck County ,'],\n",
       " ['Currituck County ,', 'United States'],\n",
       " ['Currituck County ,']]"
      ]
     },
     "execution_count": 35,
     "metadata": {},
     "output_type": "execute_result"
    }
   ],
   "source": [
    "allGPE[:10]"
   ]
  },
  {
   "cell_type": "markdown",
   "id": "764fd020",
   "metadata": {
    "papermill": {
     "duration": 0.043576,
     "end_time": "2022-06-14T16:10:14.068257",
     "exception": false,
     "start_time": "2022-06-14T16:10:14.024681",
     "status": "completed"
    },
    "tags": []
   },
   "source": [
    "****"
   ]
  },
  {
   "cell_type": "markdown",
   "id": "8cb86b8f",
   "metadata": {
    "papermill": {
     "duration": 0.043908,
     "end_time": "2022-06-14T16:10:14.155486",
     "exception": false,
     "start_time": "2022-06-14T16:10:14.111578",
     "status": "completed"
    },
    "tags": []
   },
   "source": [
    "# Person Large (without punct)"
   ]
  },
  {
   "cell_type": "code",
   "execution_count": 36,
   "id": "970f7adb",
   "metadata": {
    "execution": {
     "iopub.execute_input": "2022-06-14T16:10:14.247537Z",
     "iopub.status.busy": "2022-06-14T16:10:14.247111Z",
     "iopub.status.idle": "2022-06-14T16:10:14.254050Z",
     "shell.execute_reply": "2022-06-14T16:10:14.253010Z"
    },
    "papermill": {
     "duration": 0.055431,
     "end_time": "2022-06-14T16:10:14.256282",
     "exception": false,
     "start_time": "2022-06-14T16:10:14.200851",
     "status": "completed"
    },
    "tags": []
   },
   "outputs": [
    {
     "data": {
      "text/plain": [
       "'I , I C Meekins , of Currituck County , State of North Carolina , solemnly swear affirm , presence of Almighty God , I henceforth faithfully support , protect defend Constitution of United States Union of States thereunder ; I , like manner , abide faithfully support law proclamation made existing rebellion reference emancipation of slave . So help God . Isaac C. Meekins Sworn subscribed 16 day of Sept A.D. , 1865 , E H Walker , J.P . It hereby certified true copy of original oath taken subscribed I C Meekins E H Walker , J.P. John B Etheridge , J.P .'"
      ]
     },
     "execution_count": 36,
     "metadata": {},
     "output_type": "execute_result"
    }
   ],
   "source": [
    "all_text[0]"
   ]
  },
  {
   "cell_type": "code",
   "execution_count": 37,
   "id": "0ddb4d21",
   "metadata": {
    "execution": {
     "iopub.execute_input": "2022-06-14T16:10:14.346030Z",
     "iopub.status.busy": "2022-06-14T16:10:14.345391Z",
     "iopub.status.idle": "2022-06-14T16:10:14.354325Z",
     "shell.execute_reply": "2022-06-14T16:10:14.353319Z"
    },
    "papermill": {
     "duration": 0.055561,
     "end_time": "2022-06-14T16:10:14.356452",
     "exception": false,
     "start_time": "2022-06-14T16:10:14.300891",
     "status": "completed"
    },
    "tags": []
   },
   "outputs": [],
   "source": [
    "PL=[]\n",
    "for i in Personlarge:\n",
    "    for j in i:\n",
    "        PL.append(j)"
   ]
  },
  {
   "cell_type": "code",
   "execution_count": 38,
   "id": "d9dac8a6",
   "metadata": {
    "execution": {
     "iopub.execute_input": "2022-06-14T16:10:14.447989Z",
     "iopub.status.busy": "2022-06-14T16:10:14.446986Z",
     "iopub.status.idle": "2022-06-14T16:10:14.454395Z",
     "shell.execute_reply": "2022-06-14T16:10:14.453248Z"
    },
    "papermill": {
     "duration": 0.054909,
     "end_time": "2022-06-14T16:10:14.456460",
     "exception": false,
     "start_time": "2022-06-14T16:10:14.401551",
     "status": "completed"
    },
    "tags": []
   },
   "outputs": [
    {
     "data": {
      "text/plain": [
       "9512"
      ]
     },
     "execution_count": 38,
     "metadata": {},
     "output_type": "execute_result"
    }
   ],
   "source": [
    "len(PL)"
   ]
  },
  {
   "cell_type": "markdown",
   "id": "3aba9815",
   "metadata": {
    "papermill": {
     "duration": 0.045218,
     "end_time": "2022-06-14T16:10:14.546624",
     "exception": false,
     "start_time": "2022-06-14T16:10:14.501406",
     "status": "completed"
    },
    "tags": []
   },
   "source": [
    "# Person ontonotes (without punct and stop words)"
   ]
  },
  {
   "cell_type": "code",
   "execution_count": 39,
   "id": "213375eb",
   "metadata": {
    "execution": {
     "iopub.execute_input": "2022-06-14T16:10:14.635848Z",
     "iopub.status.busy": "2022-06-14T16:10:14.635448Z",
     "iopub.status.idle": "2022-06-14T16:10:14.643111Z",
     "shell.execute_reply": "2022-06-14T16:10:14.642019Z"
    },
    "papermill": {
     "duration": 0.054897,
     "end_time": "2022-06-14T16:10:14.645378",
     "exception": false,
     "start_time": "2022-06-14T16:10:14.590481",
     "status": "completed"
    },
    "tags": []
   },
   "outputs": [],
   "source": [
    "PAu=[]\n",
    "for i in allPerson:\n",
    "    for j in i:\n",
    "        PAu.append(j)"
   ]
  },
  {
   "cell_type": "code",
   "execution_count": 40,
   "id": "b56653ab",
   "metadata": {
    "execution": {
     "iopub.execute_input": "2022-06-14T16:10:14.737407Z",
     "iopub.status.busy": "2022-06-14T16:10:14.736938Z",
     "iopub.status.idle": "2022-06-14T16:10:14.743446Z",
     "shell.execute_reply": "2022-06-14T16:10:14.742422Z"
    },
    "papermill": {
     "duration": 0.05504,
     "end_time": "2022-06-14T16:10:14.745681",
     "exception": false,
     "start_time": "2022-06-14T16:10:14.690641",
     "status": "completed"
    },
    "tags": []
   },
   "outputs": [
    {
     "data": {
      "text/plain": [
       "5393"
      ]
     },
     "execution_count": 40,
     "metadata": {},
     "output_type": "execute_result"
    }
   ],
   "source": [
    "len(PAu)"
   ]
  },
  {
   "cell_type": "code",
   "execution_count": null,
   "id": "ecd983c2",
   "metadata": {
    "papermill": {
     "duration": 0.045734,
     "end_time": "2022-06-14T16:10:14.834861",
     "exception": false,
     "start_time": "2022-06-14T16:10:14.789127",
     "status": "completed"
    },
    "tags": []
   },
   "outputs": [],
   "source": []
  },
  {
   "cell_type": "markdown",
   "id": "b54cbf2c",
   "metadata": {
    "papermill": {
     "duration": 0.045547,
     "end_time": "2022-06-14T16:10:14.925682",
     "exception": false,
     "start_time": "2022-06-14T16:10:14.880135",
     "status": "completed"
    },
    "tags": []
   },
   "source": [
    "****"
   ]
  },
  {
   "cell_type": "markdown",
   "id": "ee9da366",
   "metadata": {
    "papermill": {
     "duration": 0.042991,
     "end_time": "2022-06-14T16:10:15.013725",
     "exception": false,
     "start_time": "2022-06-14T16:10:14.970734",
     "status": "completed"
    },
    "tags": []
   },
   "source": [
    "****"
   ]
  },
  {
   "cell_type": "markdown",
   "id": "89c9240c",
   "metadata": {
    "papermill": {
     "duration": 0.044924,
     "end_time": "2022-06-14T16:10:15.103772",
     "exception": false,
     "start_time": "2022-06-14T16:10:15.058848",
     "status": "completed"
    },
    "tags": []
   },
   "source": [
    "# standardizing dates without punct and stop words"
   ]
  },
  {
   "cell_type": "code",
   "execution_count": 41,
   "id": "1e617b5b",
   "metadata": {
    "execution": {
     "iopub.execute_input": "2022-06-14T16:10:15.195475Z",
     "iopub.status.busy": "2022-06-14T16:10:15.195039Z",
     "iopub.status.idle": "2022-06-14T16:10:15.298877Z",
     "shell.execute_reply": "2022-06-14T16:10:15.297922Z"
    },
    "papermill": {
     "duration": 0.152627,
     "end_time": "2022-06-14T16:10:15.301066",
     "exception": false,
     "start_time": "2022-06-14T16:10:15.148439",
     "status": "completed"
    },
    "tags": []
   },
   "outputs": [],
   "source": [
    "NG=[]\n",
    "for i in G:\n",
    "    ng=[]\n",
    "    for j in i:\n",
    "        \n",
    "        date=re.findall(r'([0-9]{1,2})-([A-Z][a-z]\\S*)-([0-9]{2,4})',j)\n",
    "        if date !=[]:\n",
    "            dates=[]\n",
    "            for k in date:\n",
    "                for l in k:\n",
    "                    dates.append(l)\n",
    "                \n",
    "                \n",
    "                if dates[1] in [\"August\",\"Aug\",\"augt\",\"AUGUST\",\"Augst\",\"Augt\",\"AUG\",\"Augusta\",\"Aug.\"]:\n",
    "                    dates[1]= \"August\"\n",
    "                elif dates[1] in [\"September\",\"Sept\",\"SEP\",\"Sep\",\"Septr\",\"SEPTEMBER\",'Sepr','Septh',\"Sep.\"]:\n",
    "                    dates[1]= \"Septembre\"\n",
    "                elif dates[1] in [\"October\",\"Oct\",\"OCT\",\"OCTOBER\"]:\n",
    "                    dates[1]= \"October\"\n",
    "                elif dates[1] in [\"November\",\"NOV\",\"Nov\",\"Novmbr\",\"Nvbr\",\"Novb\",\"NOVEMBER\", \"The\",\"Dec\"]:\n",
    "                    dates[1]= \"November\"\n",
    "                elif dates[1] in [\"December\",\"Dec\",\"Decbr\",\"DEC\",\"DECEMBER\",\"Decber\"]:\n",
    "                    dates[1]= \"December\"\n",
    "                elif dates[1] in [\"January\",\"Janry\",\"Jan\",\"Jany\",\"JAN\",\"Janur\",\"JANUARY\"]:\n",
    "                    dates[1]= \"January\"\n",
    "                elif dates[1] in [\"February\",\"Feby\",\"Febry\",\"FEB\",\"FEBRUARY\",\"Feb\"]:\n",
    "                    dates[1]= \"February\"\n",
    "                elif dates[1] in [\"March\",\"Mar\"]:\n",
    "                    dates[1]= \"March\"\n",
    "                elif dates[1] in [\"April\",\"Apl\",\"Aprl\",\"APRIL\",\"Apr\"]:\n",
    "                    dates[1]= \"April\"\n",
    "                elif dates[1] in [\"May\",\"MAY\"]:\n",
    "                    dates[1]= \"May\"\n",
    "                elif dates[1] in [\"JUN\",\"Jun\",\"June\"]:\n",
    "                    dates[1]= \"June\"\n",
    "                elif dates[1] in [\"JULY\",\"July\",\"JUL\"]:\n",
    "                    dates[1]= \"July\"\n",
    "                j = dates[0]+\"-\"+dates[1]+\"-\"+dates[2]\n",
    "                ng.append(j)\n",
    "        else :\n",
    "                date = re.findall(r'(^[A-Za-z]\\S*.*.)-([A-Z][a-z]\\S*)-([0-9]{2,4})',j ) \n",
    "                dates=[]\n",
    "                for k in date:\n",
    "                    for l in k:\n",
    "                        dates.append(l)\n",
    "                \n",
    "                \n",
    "                    if dates[1] in [\"August\",\"Aug\",\"augt\",\"AUGUST\",\"Augst\",'Augt',\"AUG\",\"Augusta\",\"Aug.\"]:\n",
    "                        dates[1]= \"August\"\n",
    "                    elif dates[1] in [\"September\",\"Sept\",\"SEP\",\"Sep\",\"Septr\",\"SEPTEMBER\",\"Sepr\",\"Septh\", \"This\", \"This \",\"Sept.\",\"Sep.\"]:\n",
    "                        dates[1]= \"Septembre\"\n",
    "                    elif dates[1] in [\"October\",\"Oct\",\"OCT\",\"OCTOBER\"]:\n",
    "                        dates[1]= \"October\"\n",
    "                    elif dates[1] in [\"November\",\"NOV\",\"Nov\",\"Novmbr\",\"Nvbr\",\"Novb\",\"NOVEMBER\"]:\n",
    "                        dates[1]= \"November\"\n",
    "                    elif dates[1] in [\"December\",\"Dec\",\"Decbr\",\"DEC\",\"DECEMBER\",\"Decber\",\"Dec.\"]:\n",
    "                        dates[1]= \"December\"\n",
    "                    elif dates[1] in [\"January\",\"Janry\",\"Jan\",\"Jany\",\"JAN\",\"Janur\",\"JANUARY\"]:\n",
    "                        dates[1]= \"January\"\n",
    "                    elif dates[1] in [\"February\",\"Feby\",\"Febry\",\"FEB\",\"FEBRUARY\",\"Feb\"]:\n",
    "                        dates[1]= \"February\"\n",
    "                    elif dates[1] in [\"March\",\"Mar\"]:\n",
    "                        dates[1]= \"March\"\n",
    "                    elif dates[1] in [\"April\",\"Apl\",\"Aprl\",\"APRIL\",\"Apr\"]:\n",
    "                        dates[1]= \"April\"\n",
    "                    elif dates[1] in [\"May\",\"MAY\"]:\n",
    "                        dates[1]= \"May\"\n",
    "                    elif dates[1] in [\"JUN\",\"Jun\",\"June\"]:\n",
    "                        dates[1]= \"June\"\n",
    "                    elif dates[1] in [\"JULY\",\"July\",\"JUL\"]:\n",
    "                        dates[1]= \"July\"\n",
    "                    if dates[0]== \"fifteenth\" :\n",
    "                        dates[0]=\"15\"\n",
    "                    elif (dates[0]==\"sixteenth\") |(dates[0]==\"This 16 \"):\n",
    "                        dates[0]=\"16\"\n",
    "                    elif dates[0]==\"Twenty\":\n",
    "                        dates[0]=\"20\" \n",
    "                    elif dates[0]==\"Twentyseventh\":\n",
    "                        dates[0]=\"27\" \n",
    "                    elif (dates[0]==\"Twenty Eighth\") |(dates[0]==\"TwentyEight\") |(dates[0]==\"TwentyEight \") |(dates[0]==\"Twentyeight\"):\n",
    "                        dates[0]=\"28\"\n",
    "                    elif (dates[0]==\"Ninth\") |(dates[0]==\"Ninth \")|(dates[0]==\"Augusta 9th \") |(dates[0]==\"ninth\") |(dates[0]==\"ninth \")|(dates[0]==\"Augusta 9th\"):\n",
    "                        dates[0]=\"9\"\n",
    "                    \n",
    "                    elif dates[0]=='Seventh':\n",
    "                        dates[0]=\"7\" \n",
    "                    elif (dates[0]=='The') |(dates[0]==\"The 9th\") :\n",
    "                        dates[0]=\"9\"\n",
    "                    elif dates[0]==\"the 9\" :\n",
    "                        dates[0]=\"9\"\n",
    "                    elif (dates[0]==\"Eighth \") |(dates[0]==\"Eighth\") |(dates[0]==\"eighth\") |(dates[0]==\"eighth \"):\n",
    "                        dates[0]=\"8\"\n",
    "                    elif dates[0]==\"Seventh \":\n",
    "                        dates[0]=\"7\"\n",
    "                    elif (dates[0]==\"Twenty ninth \")| (dates[0]==\"Twenty ninth\") | (dates[0]==\"twenty ninth \")|(dates[0]==\"Twenty Ninth \")|(dates[0]==\"Twenty Ninth\") :\n",
    "                        dates[0]=\"29\"\n",
    "                    elif (dates[0]==\"Thirty\") |(dates[0]==\"Thirty \") | (dates[0]==\"thirtieth \"):\n",
    "                        dates[0]=\"30\"\n",
    "                    elif (dates[0]==\"Thirty first \") |(dates[0]==\"Thirty first\"):\n",
    "                        dates[0]=\"31\"\n",
    "                  \n",
    "                    \n",
    "                    elif dates[0]==\"first \":\n",
    "                        dates[0]=\"1\"\n",
    "                    elif (dates[0]==\"Second \") |(dates[0]==\"Second\") |(dates[0]==\"second\")|(dates[0]==\"second \"):\n",
    "                        dates[0]=\"2\"\n",
    "                    elif dates[0]==\"fourth \":\n",
    "                        dates[0]=\"4\"\n",
    "                    elif dates[0]==\"tenth \":\n",
    "                        dates[0]=\"10\"\n",
    "                    elif (dates[0]==\"Fifth \")|(dates[0]==\"Fifth\") |(dates[0]==\"fifth \")|(dates[0]==\"fifth\"):\n",
    "                        dates[0]=\"5\"\n",
    "                    elif (dates[0]==\"This\") | (dates[0]==\"This 7th \")|(dates[0]==\"seventh \") |(dates[0]==\"seventh\") |(dates[0]==\"Seventh \"):\n",
    "                        dates[0]=\"7\"\n",
    "                    elif (dates[0]==\"This 31st\") |(dates[0]==\"Thirty-first \"):\n",
    "                        dates[0]=\"31\"\n",
    "                    elif (dates[0]==\"Thirtieth\") |(dates[0]==\"Thirtieth \") |(dates[0]==\"Thirty\"):\n",
    "                        dates[0]=\"30\"\n",
    "                    elif dates[0]==\"twenty fifth \":\n",
    "                        dates[0]=\"25\"\n",
    "                    elif dates[0]==\"Twenty seventh \":\n",
    "                        dates[0]=\"27\"\n",
    "                    elif (dates[0]==\"Twenty sixth \") |(dates[0]==\"Twentysixth \")|(dates[0]==\"Twentysixth\") |(dates[0]==\"twentysixth \"):\n",
    "                        dates[0]=\"26\"\n",
    "                    elif dates[0]==\"third \":\n",
    "                        dates[0]=\"3\" \n",
    "                    elif dates[0]==\"third\":\n",
    "                        dates[0]=\"3\"\n",
    "                    elif dates[0]==\"Third \":\n",
    "                        dates[0]=\"3\"\n",
    "                    elif dates[0]==\"Third\":\n",
    "                        dates[0]=\"3\"\n",
    "                    \n",
    "                    elif dates[0]==\"Tenth\":\n",
    "                        dates[0]=\"10\" \n",
    "                    elif dates[0]==\"Augusta\":\n",
    "                        dates[0]=\"9\" \n",
    "                    elif (dates[0]==\"this_sixth \")|(dates[0]==\"sixth \")| (dates[0]==\"Sixth\") | (dates[0]==\"Sixth \") |(dates[0]==\"this sixth \"):\n",
    "                        dates[0]=\"6\" \n",
    "                        \n",
    "                    elif dates[0]==\"Tenth \":\n",
    "                        dates[0]=\"10\"\n",
    "                    elif (dates[0]==\"twentieth\")|(dates[0]==\"This 20th \"):\n",
    "                        dates[0]=\"20\"\n",
    "                    elif (dates[0]==\"twenty fourth \") |(dates[0]==\"twenty fourth\") |(dates[0]==\"Twenty fourth \") |(dates[0]==\"Twenty fourth\"):\n",
    "                        dates[0]=\"24\"\n",
    "                    elif (dates[0]==\"fifteenth \") |(dates[0]==\"Fifteenth \") |(dates[0]==\"Fifteenth\"):\n",
    "                        dates[0]=\"15\"\n",
    "                    elif dates[0]==\"twentieth \":\n",
    "                        dates[0]=\"20\"\n",
    "                    elif dates[0]==\"Eighteenth \":\n",
    "                        dates[0]=\"18\"\n",
    "                    elif dates[0]==\"Eighteenth\":\n",
    "                        dates[0]=\"18\"\n",
    "                    elif (dates[0]==\"Nineteenth \") |(dates[0]==\"Nineteenth\"):\n",
    "                        dates[0]=\"19\"\n",
    "                    elif dates[0]==\"First \":\n",
    "                        dates[0]=\"1\"\n",
    "                    elif dates[0]==\"First\":\n",
    "                        dates[0]=\"1\"\n",
    "                    elif (dates[0]==\"Sixteenth \")|(dates[0]==\"this 16\") |(dates[0]==\"Sixteenth\"):\n",
    "                        dates[0]=\"16\"\n",
    "                   \n",
    "                    elif dates[0]==\"twenty third \":\n",
    "                        dates[0]=\"23\"\n",
    "                    elif dates[0]==\"twenty third\":\n",
    "                        dates[0]=\"23\"\n",
    "                    elif dates[0]==\"Twenty third \":\n",
    "                        dates[0]=\"23\"\n",
    "                    elif dates[0]==\"Twenty Second \":\n",
    "                        dates[0]=\"22\"\n",
    "                    elif dates[0]==\"Twenty Second\":\n",
    "                        dates[0]=\"22\"\n",
    "                    elif dates[0]==\"Twenty Eighth \":\n",
    "                        dates[0]=\"28\"\n",
    "                    elif dates[0]==\"Twentysenventh \":\n",
    "                        dates[0]=\"27\"\n",
    "                    elif dates[0]==\"twenty third \":\n",
    "                        dates[0]=\"23\"\n",
    "                    elif (dates[0]==\"twenty third\") |(dates[0]==\"Twentythird\")|(dates[0]==\"Twentythird \"):\n",
    "                        dates[0]=\"23\"\n",
    "                    elif (dates[0]==\"fourteenth \") | (dates[0]==\"fourteenth\") | (dates[0]==\"Fourteenth\") | (dates[0]==\"Fourteenth \"):\n",
    "                        dates[0]=\"14\"\n",
    "                    elif (dates[0]==\"Eleventh \") | (dates[0]==\"Eleventh\") |(dates[0]==\"eleventh \") :\n",
    "                        dates[0]=\"11\"\n",
    "                    elif (dates[0]==\"Thirteenth\") | (dates[0]==\"Thirteenth \") :\n",
    "                        dates[0]=\"13\"\n",
    "                    elif (dates[0]==\"seventeenth \") |(dates[0]==\"seventeenth\") |(dates[0]==\"Seventeenth \") :\n",
    "                        dates[0]=\"17\"\n",
    "                     \n",
    "                     \n",
    "                     \n",
    "                    \n",
    "                        \n",
    "                    j = dates[0]+\"-\"+dates[1]+\"-\"+dates[2]\n",
    "                    ng.append(j)\n",
    "            \n",
    "            \n",
    "    NG.append(ng)   "
   ]
  },
  {
   "cell_type": "markdown",
   "id": "cf16088f",
   "metadata": {
    "papermill": {
     "duration": 0.043202,
     "end_time": "2022-06-14T16:10:15.388363",
     "exception": false,
     "start_time": "2022-06-14T16:10:15.345161",
     "status": "completed"
    },
    "tags": []
   },
   "source": [
    "# Final date "
   ]
  },
  {
   "cell_type": "code",
   "execution_count": 42,
   "id": "7d7d42a5",
   "metadata": {
    "execution": {
     "iopub.execute_input": "2022-06-14T16:10:15.479420Z",
     "iopub.status.busy": "2022-06-14T16:10:15.478756Z",
     "iopub.status.idle": "2022-06-14T16:10:15.483248Z",
     "shell.execute_reply": "2022-06-14T16:10:15.482235Z"
    },
    "papermill": {
     "duration": 0.052656,
     "end_time": "2022-06-14T16:10:15.485454",
     "exception": false,
     "start_time": "2022-06-14T16:10:15.432798",
     "status": "completed"
    },
    "tags": []
   },
   "outputs": [],
   "source": [
    "#NG"
   ]
  },
  {
   "cell_type": "code",
   "execution_count": 43,
   "id": "d0c7fea7",
   "metadata": {
    "execution": {
     "iopub.execute_input": "2022-06-14T16:10:15.577203Z",
     "iopub.status.busy": "2022-06-14T16:10:15.576336Z",
     "iopub.status.idle": "2022-06-14T16:10:15.582269Z",
     "shell.execute_reply": "2022-06-14T16:10:15.581263Z"
    },
    "papermill": {
     "duration": 0.053763,
     "end_time": "2022-06-14T16:10:15.584478",
     "exception": false,
     "start_time": "2022-06-14T16:10:15.530715",
     "status": "completed"
    },
    "tags": []
   },
   "outputs": [],
   "source": [
    "Lg=[]\n",
    "for i in G:\n",
    "    for j in i:\n",
    "        Lg.append(j)"
   ]
  },
  {
   "cell_type": "code",
   "execution_count": 44,
   "id": "44788935",
   "metadata": {
    "execution": {
     "iopub.execute_input": "2022-06-14T16:10:15.677465Z",
     "iopub.status.busy": "2022-06-14T16:10:15.676426Z",
     "iopub.status.idle": "2022-06-14T16:10:15.683303Z",
     "shell.execute_reply": "2022-06-14T16:10:15.682266Z"
    },
    "papermill": {
     "duration": 0.05625,
     "end_time": "2022-06-14T16:10:15.685622",
     "exception": false,
     "start_time": "2022-06-14T16:10:15.629372",
     "status": "completed"
    },
    "tags": []
   },
   "outputs": [
    {
     "data": {
      "text/plain": [
       "3648"
      ]
     },
     "execution_count": 44,
     "metadata": {},
     "output_type": "execute_result"
    }
   ],
   "source": [
    "len(Lg)"
   ]
  },
  {
   "cell_type": "code",
   "execution_count": 45,
   "id": "d1313d83",
   "metadata": {
    "execution": {
     "iopub.execute_input": "2022-06-14T16:10:15.778620Z",
     "iopub.status.busy": "2022-06-14T16:10:15.777596Z",
     "iopub.status.idle": "2022-06-14T16:10:15.784381Z",
     "shell.execute_reply": "2022-06-14T16:10:15.783275Z"
    },
    "papermill": {
     "duration": 0.055315,
     "end_time": "2022-06-14T16:10:15.786589",
     "exception": false,
     "start_time": "2022-06-14T16:10:15.731274",
     "status": "completed"
    },
    "tags": []
   },
   "outputs": [],
   "source": [
    "Lng=[]\n",
    "for i in NG:\n",
    "    for j in i:\n",
    "        Lng.append(j)"
   ]
  },
  {
   "cell_type": "code",
   "execution_count": 46,
   "id": "e2ee6412",
   "metadata": {
    "execution": {
     "iopub.execute_input": "2022-06-14T16:10:15.878933Z",
     "iopub.status.busy": "2022-06-14T16:10:15.878012Z",
     "iopub.status.idle": "2022-06-14T16:10:15.884779Z",
     "shell.execute_reply": "2022-06-14T16:10:15.883701Z"
    },
    "papermill": {
     "duration": 0.055676,
     "end_time": "2022-06-14T16:10:15.887195",
     "exception": false,
     "start_time": "2022-06-14T16:10:15.831519",
     "status": "completed"
    },
    "tags": []
   },
   "outputs": [
    {
     "data": {
      "text/plain": [
       "3587"
      ]
     },
     "execution_count": 46,
     "metadata": {},
     "output_type": "execute_result"
    }
   ],
   "source": [
    "len(Lng)"
   ]
  },
  {
   "cell_type": "code",
   "execution_count": 47,
   "id": "acbac29a",
   "metadata": {
    "execution": {
     "iopub.execute_input": "2022-06-14T16:10:15.976455Z",
     "iopub.status.busy": "2022-06-14T16:10:15.975684Z",
     "iopub.status.idle": "2022-06-14T16:10:15.983190Z",
     "shell.execute_reply": "2022-06-14T16:10:15.982072Z"
    },
    "papermill": {
     "duration": 0.055348,
     "end_time": "2022-06-14T16:10:15.985463",
     "exception": false,
     "start_time": "2022-06-14T16:10:15.930115",
     "status": "completed"
    },
    "tags": []
   },
   "outputs": [
    {
     "data": {
      "text/plain": [
       "[[],\n",
       " [],\n",
       " [],\n",
       " [],\n",
       " [],\n",
       " [],\n",
       " [],\n",
       " ['28-March-1868'],\n",
       " [],\n",
       " ['28-March-1868'],\n",
       " ['29-January-1868'],\n",
       " ['2-July-1862'],\n",
       " ['15-January-1868'],\n",
       " ['2-July-1862'],\n",
       " ['31-July-67'],\n",
       " ['31-July-1868'],\n",
       " ['1-August-1868'],\n",
       " ['31-July-1867'],\n",
       " ['31-July-1867'],\n",
       " ['1-August-1867']]"
      ]
     },
     "execution_count": 47,
     "metadata": {},
     "output_type": "execute_result"
    }
   ],
   "source": [
    "NG[100:120]"
   ]
  },
  {
   "cell_type": "markdown",
   "id": "4aa44d13",
   "metadata": {
    "papermill": {
     "duration": 0.044875,
     "end_time": "2022-06-14T16:10:16.075684",
     "exception": false,
     "start_time": "2022-06-14T16:10:16.030809",
     "status": "completed"
    },
    "tags": []
   },
   "source": [
    "****"
   ]
  },
  {
   "cell_type": "markdown",
   "id": "e296a424",
   "metadata": {
    "papermill": {
     "duration": 0.044335,
     "end_time": "2022-06-14T16:10:16.164875",
     "exception": false,
     "start_time": "2022-06-14T16:10:16.120540",
     "status": "completed"
    },
    "tags": []
   },
   "source": [
    "# Pickling"
   ]
  },
  {
   "cell_type": "code",
   "execution_count": 48,
   "id": "756cce7d",
   "metadata": {
    "execution": {
     "iopub.execute_input": "2022-06-14T16:10:16.255124Z",
     "iopub.status.busy": "2022-06-14T16:10:16.254679Z",
     "iopub.status.idle": "2022-06-14T16:10:17.874604Z",
     "shell.execute_reply": "2022-06-14T16:10:17.873505Z"
    },
    "papermill": {
     "duration": 1.667259,
     "end_time": "2022-06-14T16:10:17.877172",
     "exception": false,
     "start_time": "2022-06-14T16:10:16.209913",
     "status": "completed"
    },
    "tags": []
   },
   "outputs": [],
   "source": [
    "import pickle\n",
    "\n",
    "with open('entityAu.pkl', 'wb') as f:\n",
    "    pickle.dump(entitiesAu, f)"
   ]
  },
  {
   "cell_type": "code",
   "execution_count": 49,
   "id": "78ecafe3",
   "metadata": {
    "execution": {
     "iopub.execute_input": "2022-06-14T16:10:17.967954Z",
     "iopub.status.busy": "2022-06-14T16:10:17.967523Z",
     "iopub.status.idle": "2022-06-14T16:10:19.559610Z",
     "shell.execute_reply": "2022-06-14T16:10:19.558572Z"
    },
    "papermill": {
     "duration": 1.6393,
     "end_time": "2022-06-14T16:10:19.562094",
     "exception": false,
     "start_time": "2022-06-14T16:10:17.922794",
     "status": "completed"
    },
    "tags": []
   },
   "outputs": [],
   "source": [
    "import pickle\n",
    "\n",
    "with open('entityL.pkl', 'wb') as f:\n",
    "    pickle.dump(entitiesL, f)"
   ]
  },
  {
   "cell_type": "code",
   "execution_count": 50,
   "id": "66198708",
   "metadata": {
    "execution": {
     "iopub.execute_input": "2022-06-14T16:10:19.655159Z",
     "iopub.status.busy": "2022-06-14T16:10:19.654100Z",
     "iopub.status.idle": "2022-06-14T16:10:23.449283Z",
     "shell.execute_reply": "2022-06-14T16:10:23.448232Z"
    },
    "papermill": {
     "duration": 3.84428,
     "end_time": "2022-06-14T16:10:23.452126",
     "exception": false,
     "start_time": "2022-06-14T16:10:19.607846",
     "status": "completed"
    },
    "tags": []
   },
   "outputs": [],
   "source": [
    "with open('entityAu.pkl', 'rb') as f:\n",
    "    unpickled_entities = pickle.load(f)\n"
   ]
  },
  {
   "cell_type": "code",
   "execution_count": 51,
   "id": "c279b72f",
   "metadata": {
    "execution": {
     "iopub.execute_input": "2022-06-14T16:10:23.622894Z",
     "iopub.status.busy": "2022-06-14T16:10:23.622397Z",
     "iopub.status.idle": "2022-06-14T16:10:23.638853Z",
     "shell.execute_reply": "2022-06-14T16:10:23.630756Z"
    },
    "papermill": {
     "duration": 0.139886,
     "end_time": "2022-06-14T16:10:23.642482",
     "exception": false,
     "start_time": "2022-06-14T16:10:23.502596",
     "status": "completed"
    },
    "tags": []
   },
   "outputs": [
    {
     "data": {
      "text/plain": [
       "'/kaggle/working'"
      ]
     },
     "execution_count": 51,
     "metadata": {},
     "output_type": "execute_result"
    }
   ],
   "source": [
    "import os\n",
    "\n",
    "os.getcwd()"
   ]
  },
  {
   "cell_type": "code",
   "execution_count": 52,
   "id": "21f90027",
   "metadata": {
    "execution": {
     "iopub.execute_input": "2022-06-14T16:10:23.816453Z",
     "iopub.status.busy": "2022-06-14T16:10:23.815738Z",
     "iopub.status.idle": "2022-06-14T16:10:24.202448Z",
     "shell.execute_reply": "2022-06-14T16:10:24.201354Z"
    },
    "papermill": {
     "duration": 0.470945,
     "end_time": "2022-06-14T16:10:24.204922",
     "exception": false,
     "start_time": "2022-06-14T16:10:23.733977",
     "status": "completed"
    },
    "tags": []
   },
   "outputs": [
    {
     "data": {
      "text/plain": [
       "True"
      ]
     },
     "execution_count": 52,
     "metadata": {},
     "output_type": "execute_result"
    }
   ],
   "source": [
    "unpickled_entities==entitiesAu"
   ]
  },
  {
   "cell_type": "markdown",
   "id": "1a824a48",
   "metadata": {
    "papermill": {
     "duration": 0.049952,
     "end_time": "2022-06-14T16:10:24.305801",
     "exception": false,
     "start_time": "2022-06-14T16:10:24.255849",
     "status": "completed"
    },
    "tags": []
   },
   "source": [
    "****"
   ]
  },
  {
   "cell_type": "code",
   "execution_count": null,
   "id": "18ba2a2d",
   "metadata": {
    "papermill": {
     "duration": 0.051355,
     "end_time": "2022-06-14T16:10:24.411057",
     "exception": false,
     "start_time": "2022-06-14T16:10:24.359702",
     "status": "completed"
    },
    "tags": []
   },
   "outputs": [],
   "source": []
  },
  {
   "cell_type": "code",
   "execution_count": 53,
   "id": "2f5e262d",
   "metadata": {
    "execution": {
     "iopub.execute_input": "2022-06-14T16:10:24.512712Z",
     "iopub.status.busy": "2022-06-14T16:10:24.512071Z",
     "iopub.status.idle": "2022-06-14T16:10:24.516865Z",
     "shell.execute_reply": "2022-06-14T16:10:24.515711Z"
    },
    "papermill": {
     "duration": 0.0578,
     "end_time": "2022-06-14T16:10:24.519334",
     "exception": false,
     "start_time": "2022-06-14T16:10:24.461534",
     "status": "completed"
    },
    "tags": []
   },
   "outputs": [],
   "source": [
    "# for i in c:\n",
    "#     final_county=[]\n",
    "#     if j!=None:\n",
    "#             final_county.append(i.group())\n",
    "#     County.append(Final_date)"
   ]
  },
  {
   "cell_type": "code",
   "execution_count": 54,
   "id": "0c5fbee0",
   "metadata": {
    "execution": {
     "iopub.execute_input": "2022-06-14T16:10:24.623756Z",
     "iopub.status.busy": "2022-06-14T16:10:24.623042Z",
     "iopub.status.idle": "2022-06-14T16:10:24.630797Z",
     "shell.execute_reply": "2022-06-14T16:10:24.629562Z"
    },
    "papermill": {
     "duration": 0.063918,
     "end_time": "2022-06-14T16:10:24.634612",
     "exception": false,
     "start_time": "2022-06-14T16:10:24.570694",
     "status": "completed"
    },
    "tags": []
   },
   "outputs": [
    {
     "data": {
      "text/plain": [
       "'I , I C Meekins , of Currituck County , State of North Carolina , solemnly swear affirm , presence of Almighty God , I henceforth faithfully support , protect defend Constitution of United States Union of States thereunder ; I , like manner , abide faithfully support law proclamation made existing rebellion reference emancipation of slave . So help God . Isaac C. Meekins Sworn subscribed 16 day of Sept A.D. , 1865 , E H Walker , J.P . It hereby certified true copy of original oath taken subscribed I C Meekins E H Walker , J.P. John B Etheridge , J.P .'"
      ]
     },
     "execution_count": 54,
     "metadata": {},
     "output_type": "execute_result"
    }
   ],
   "source": [
    "all_text[0]"
   ]
  },
  {
   "cell_type": "code",
   "execution_count": 55,
   "id": "25c9f1d6",
   "metadata": {
    "execution": {
     "iopub.execute_input": "2022-06-14T16:10:24.736309Z",
     "iopub.status.busy": "2022-06-14T16:10:24.735912Z",
     "iopub.status.idle": "2022-06-14T16:10:24.742823Z",
     "shell.execute_reply": "2022-06-14T16:10:24.741705Z"
    },
    "papermill": {
     "duration": 0.062711,
     "end_time": "2022-06-14T16:10:24.745669",
     "exception": false,
     "start_time": "2022-06-14T16:10:24.682958",
     "status": "completed"
    },
    "tags": []
   },
   "outputs": [
    {
     "data": {
      "text/plain": [
       "'I John Bowers solemnly swear I carefully read Amnesty Proclamation issued ANDREW JOHNSON , President of United States of America , May 29th , 1865 , I excepted benefit of Proclamation one of fourteen exception therein made , except John E. Bowers Sworn subscribed Charleston SC 31st day of August 1865 . Levi Stuber Major 47th Pa. Vols . Pro . Marshal . No . 923 United States of America . I , John Bowers of County City of Charleston State of South Ca solemnly swear presence of Almighty God , I henceforth faithfully support defend Constitution of United States , Union of States thereunder , I , like manner , abide faithfully support law proclamation made existing rebellion reference Emancipation of slaves–SO HELP ME GOD . John E. Bowers Sworn subscribed Charleston SC 31st day of August 1865 . Levi Stuber Major 47th Pa. Vols . Pro . Marshal . The named Dark complexion Dark hair , Grey eye ; 5 foot 8 inch high 54 year ; profession Auctioneer Copy Levi Stuber Major 47th Pa. Vols . Pro Marshal City of Charleston'"
      ]
     },
     "execution_count": 55,
     "metadata": {},
     "output_type": "execute_result"
    }
   ],
   "source": [
    "all_text[1000]"
   ]
  },
  {
   "cell_type": "code",
   "execution_count": 56,
   "id": "1afb0c84",
   "metadata": {
    "execution": {
     "iopub.execute_input": "2022-06-14T16:10:24.849959Z",
     "iopub.status.busy": "2022-06-14T16:10:24.848942Z",
     "iopub.status.idle": "2022-06-14T16:10:24.856498Z",
     "shell.execute_reply": "2022-06-14T16:10:24.855236Z"
    },
    "papermill": {
     "duration": 0.063134,
     "end_time": "2022-06-14T16:10:24.859836",
     "exception": false,
     "start_time": "2022-06-14T16:10:24.796702",
     "status": "completed"
    },
    "tags": []
   },
   "outputs": [
    {
     "name": "stdout",
     "output_type": "stream",
     "text": [
      "South Ca \n"
     ]
    }
   ],
   "source": [
    "state=re.search(r'\\bState of ([A-Za-z]\\w+\\s\\w*.|[A-Za-z]*)' ,all_text[1000])\n",
    "print(state.group(1))"
   ]
  },
  {
   "cell_type": "markdown",
   "id": "0cf8196c",
   "metadata": {
    "papermill": {
     "duration": 0.048629,
     "end_time": "2022-06-14T16:10:24.959157",
     "exception": false,
     "start_time": "2022-06-14T16:10:24.910528",
     "status": "completed"
    },
    "tags": []
   },
   "source": [
    "# county"
   ]
  },
  {
   "cell_type": "code",
   "execution_count": 57,
   "id": "2d868f12",
   "metadata": {
    "execution": {
     "iopub.execute_input": "2022-06-14T16:10:25.064479Z",
     "iopub.status.busy": "2022-06-14T16:10:25.063700Z",
     "iopub.status.idle": "2022-06-14T16:10:25.105981Z",
     "shell.execute_reply": "2022-06-14T16:10:25.104759Z"
    },
    "papermill": {
     "duration": 0.098152,
     "end_time": "2022-06-14T16:10:25.108970",
     "exception": false,
     "start_time": "2022-06-14T16:10:25.010818",
     "status": "completed"
    },
    "tags": []
   },
   "outputs": [
    {
     "data": {
      "text/plain": [
       "['of Currituck county',\n",
       " 'of Harrison county',\n",
       " 'of Dist county',\n",
       " 'of City county',\n",
       " 'of city county',\n",
       " 'of Peace county']"
      ]
     },
     "execution_count": 57,
     "metadata": {},
     "output_type": "execute_result"
    }
   ],
   "source": [
    "County=[]\n",
    "c=[]\n",
    "for i in all_text:\n",
    "\n",
    "    county=re.search(r'of [A-Za-z]\\w*.county' ,i)\n",
    "    \n",
    "    c.append(county)\n",
    "\n",
    "\n",
    "for i in c:\n",
    "    if i !=None:\n",
    "        County.append(i.group())\n",
    "County"
   ]
  },
  {
   "cell_type": "markdown",
   "id": "0d6cd040",
   "metadata": {
    "papermill": {
     "duration": 0.052402,
     "end_time": "2022-06-14T16:10:25.213633",
     "exception": false,
     "start_time": "2022-06-14T16:10:25.161231",
     "status": "completed"
    },
    "tags": []
   },
   "source": [
    "****"
   ]
  },
  {
   "cell_type": "code",
   "execution_count": 58,
   "id": "978a34b8",
   "metadata": {
    "execution": {
     "iopub.execute_input": "2022-06-14T16:10:25.320689Z",
     "iopub.status.busy": "2022-06-14T16:10:25.320217Z",
     "iopub.status.idle": "2022-06-14T16:10:25.327625Z",
     "shell.execute_reply": "2022-06-14T16:10:25.326569Z"
    },
    "papermill": {
     "duration": 0.064495,
     "end_time": "2022-06-14T16:10:25.330724",
     "exception": false,
     "start_time": "2022-06-14T16:10:25.266229",
     "status": "completed"
    },
    "tags": []
   },
   "outputs": [
    {
     "data": {
      "text/plain": [
       "'I , W. H. Pearce , of Craven County , State of NorthCarolina , solemnly swear affirm , presence of Almighty God , I henceforth faithfully support , protect defend Constitution of United States Union of States thereunder ; I , like manner , abide faithfully support law proclamation made existing rebellion reference emancipation of slave . So help God . W. H. Pearce Sworn subscribed 3rd day of October , A.D. , 1865 , Jm . E. Ampetts , J. P. It hereby certified true copy of original oath taken subscribed W. H. Pearce . Jm . E. Ampetts , J.P. A . B. Watson , J.P. _______________ , J.P .'"
      ]
     },
     "execution_count": 58,
     "metadata": {},
     "output_type": "execute_result"
    }
   ],
   "source": [
    "all_text[2]"
   ]
  },
  {
   "cell_type": "markdown",
   "id": "1028ad0e",
   "metadata": {
    "papermill": {
     "duration": 0.052382,
     "end_time": "2022-06-14T16:10:25.439016",
     "exception": false,
     "start_time": "2022-06-14T16:10:25.386634",
     "status": "completed"
    },
    "tags": []
   },
   "source": [
    "# state"
   ]
  },
  {
   "cell_type": "code",
   "execution_count": 59,
   "id": "c86a5509",
   "metadata": {
    "execution": {
     "iopub.execute_input": "2022-06-14T16:10:25.544993Z",
     "iopub.status.busy": "2022-06-14T16:10:25.543947Z",
     "iopub.status.idle": "2022-06-14T16:10:25.572193Z",
     "shell.execute_reply": "2022-06-14T16:10:25.570999Z"
    },
    "papermill": {
     "duration": 0.084944,
     "end_time": "2022-06-14T16:10:25.574754",
     "exception": false,
     "start_time": "2022-06-14T16:10:25.489810",
     "status": "completed"
    },
    "tags": []
   },
   "outputs": [],
   "source": [
    "State=[]\n",
    "c=[]\n",
    "for i in all_text:\n",
    "\n",
    "    state=re.search(r'\\bState of ([A-Za-z]\\w+\\s\\w*.|[A-Za-z]*) ,' ,i)\n",
    "    \n",
    "    c.append(state)\n",
    "\n",
    "\n",
    "for i in c:\n",
    "    if i !=None:\n",
    "        State.append(i.group())\n"
   ]
  },
  {
   "cell_type": "code",
   "execution_count": 60,
   "id": "e6bb4892",
   "metadata": {
    "execution": {
     "iopub.execute_input": "2022-06-14T16:10:25.677520Z",
     "iopub.status.busy": "2022-06-14T16:10:25.677073Z",
     "iopub.status.idle": "2022-06-14T16:10:25.683992Z",
     "shell.execute_reply": "2022-06-14T16:10:25.682871Z"
    },
    "papermill": {
     "duration": 0.062799,
     "end_time": "2022-06-14T16:10:25.687158",
     "exception": false,
     "start_time": "2022-06-14T16:10:25.624359",
     "status": "completed"
    },
    "tags": []
   },
   "outputs": [
    {
     "data": {
      "text/plain": [
       "176"
      ]
     },
     "execution_count": 60,
     "metadata": {},
     "output_type": "execute_result"
    }
   ],
   "source": [
    "len(State)"
   ]
  },
  {
   "cell_type": "code",
   "execution_count": 61,
   "id": "23cd1d63",
   "metadata": {
    "execution": {
     "iopub.execute_input": "2022-06-14T16:10:25.795337Z",
     "iopub.status.busy": "2022-06-14T16:10:25.794121Z",
     "iopub.status.idle": "2022-06-14T16:10:25.803586Z",
     "shell.execute_reply": "2022-06-14T16:10:25.802397Z"
    },
    "papermill": {
     "duration": 0.066526,
     "end_time": "2022-06-14T16:10:25.806065",
     "exception": false,
     "start_time": "2022-06-14T16:10:25.739539",
     "status": "completed"
    },
    "tags": []
   },
   "outputs": [
    {
     "data": {
      "text/plain": [
       "['State of North Carolina ,',\n",
       " 'State of North Carolina ,',\n",
       " 'State of North Carolina ,',\n",
       " 'State of North Carolina ,',\n",
       " 'State of North Carolina ,',\n",
       " 'State of North Carolina ,',\n",
       " 'State of North Carolina ,',\n",
       " 'State of North Carolina ,',\n",
       " 'State of North Carolina ,',\n",
       " 'State of North Carolina ,']"
      ]
     },
     "execution_count": 61,
     "metadata": {},
     "output_type": "execute_result"
    }
   ],
   "source": [
    "State[10:20]"
   ]
  },
  {
   "cell_type": "markdown",
   "id": "e20f0b21",
   "metadata": {
    "papermill": {
     "duration": 0.050985,
     "end_time": "2022-06-14T16:10:25.906601",
     "exception": false,
     "start_time": "2022-06-14T16:10:25.855616",
     "status": "completed"
    },
    "tags": []
   },
   "source": [
    "# Witness name"
   ]
  },
  {
   "cell_type": "code",
   "execution_count": 62,
   "id": "31a09e47",
   "metadata": {
    "execution": {
     "iopub.execute_input": "2022-06-14T16:10:26.048648Z",
     "iopub.status.busy": "2022-06-14T16:10:26.047909Z",
     "iopub.status.idle": "2022-06-14T16:10:26.059456Z",
     "shell.execute_reply": "2022-06-14T16:10:26.057980Z"
    },
    "papermill": {
     "duration": 0.107698,
     "end_time": "2022-06-14T16:10:26.065377",
     "exception": false,
     "start_time": "2022-06-14T16:10:25.957679",
     "status": "completed"
    },
    "tags": []
   },
   "outputs": [
    {
     "data": {
      "text/plain": [
       "'I , I C Meekins , of Currituck County , State of North Carolina , solemnly swear affirm , presence of Almighty God , I henceforth faithfully support , protect defend Constitution of United States Union of States thereunder ; I , like manner , abide faithfully support law proclamation made existing rebellion reference emancipation of slave . So help God . Isaac C. Meekins Sworn subscribed 16 day of Sept A.D. , 1865 , E H Walker , J.P . It hereby certified true copy of original oath taken subscribed I C Meekins E H Walker , J.P. John B Etheridge , J.P .'"
      ]
     },
     "execution_count": 62,
     "metadata": {},
     "output_type": "execute_result"
    }
   ],
   "source": [
    "all_text[0]"
   ]
  },
  {
   "cell_type": "code",
   "execution_count": 63,
   "id": "57910d8e",
   "metadata": {
    "execution": {
     "iopub.execute_input": "2022-06-14T16:10:26.233324Z",
     "iopub.status.busy": "2022-06-14T16:10:26.232578Z",
     "iopub.status.idle": "2022-06-14T16:10:26.267896Z",
     "shell.execute_reply": "2022-06-14T16:10:26.266749Z"
    },
    "papermill": {
     "duration": 0.116998,
     "end_time": "2022-06-14T16:10:26.270886",
     "exception": false,
     "start_time": "2022-06-14T16:10:26.153888",
     "status": "completed"
    },
    "tags": []
   },
   "outputs": [],
   "source": [
    "Name=[]\n",
    "c=[]\n",
    "for i in all_text:\n",
    "\n",
    "    name=re.search(r'\\bpresence of ([A-Za-z]\\w+\\s\\w*.|[A-Za-z]*) ,' ,i)\n",
    "    \n",
    "    c.append(name)\n",
    "\n",
    "\n",
    "for i in c:\n",
    "    if i !=None:\n",
    "        Name.append(i.group())"
   ]
  },
  {
   "cell_type": "code",
   "execution_count": 64,
   "id": "8d2de0f1",
   "metadata": {
    "execution": {
     "iopub.execute_input": "2022-06-14T16:10:26.437772Z",
     "iopub.status.busy": "2022-06-14T16:10:26.437183Z",
     "iopub.status.idle": "2022-06-14T16:10:26.448523Z",
     "shell.execute_reply": "2022-06-14T16:10:26.447583Z"
    },
    "papermill": {
     "duration": 0.097952,
     "end_time": "2022-06-14T16:10:26.451572",
     "exception": false,
     "start_time": "2022-06-14T16:10:26.353620",
     "status": "completed"
    },
    "tags": []
   },
   "outputs": [
    {
     "data": {
      "text/plain": [
       "1069"
      ]
     },
     "execution_count": 64,
     "metadata": {},
     "output_type": "execute_result"
    }
   ],
   "source": [
    "len(Name)"
   ]
  },
  {
   "cell_type": "code",
   "execution_count": 65,
   "id": "d929ec3f",
   "metadata": {
    "execution": {
     "iopub.execute_input": "2022-06-14T16:10:26.616965Z",
     "iopub.status.busy": "2022-06-14T16:10:26.616166Z",
     "iopub.status.idle": "2022-06-14T16:10:26.628485Z",
     "shell.execute_reply": "2022-06-14T16:10:26.626141Z"
    },
    "papermill": {
     "duration": 0.096894,
     "end_time": "2022-06-14T16:10:26.631548",
     "exception": false,
     "start_time": "2022-06-14T16:10:26.534654",
     "status": "completed"
    },
    "tags": []
   },
   "outputs": [
    {
     "data": {
      "text/plain": [
       "['presence of Almighty God ,',\n",
       " 'presence of Almighty God ,',\n",
       " 'presence of Almighty God ,',\n",
       " 'presence of Almighty God ,',\n",
       " 'presence of Almighty God ,']"
      ]
     },
     "execution_count": 65,
     "metadata": {},
     "output_type": "execute_result"
    }
   ],
   "source": [
    "Name[10:15]"
   ]
  },
  {
   "cell_type": "code",
   "execution_count": 66,
   "id": "7d5eba12",
   "metadata": {
    "execution": {
     "iopub.execute_input": "2022-06-14T16:10:26.803413Z",
     "iopub.status.busy": "2022-06-14T16:10:26.802877Z",
     "iopub.status.idle": "2022-06-14T16:10:26.810051Z",
     "shell.execute_reply": "2022-06-14T16:10:26.809236Z"
    },
    "papermill": {
     "duration": 0.093544,
     "end_time": "2022-06-14T16:10:26.815533",
     "exception": false,
     "start_time": "2022-06-14T16:10:26.721989",
     "status": "completed"
    },
    "tags": []
   },
   "outputs": [
    {
     "data": {
      "text/plain": [
       "'I , I C Meekins , of Currituck County , State of North Carolina , solemnly swear affirm , presence of Almighty God , I henceforth faithfully support , protect defend Constitution of United States Union of States thereunder ; I , like manner , abide faithfully support law proclamation made existing rebellion reference emancipation of slave . So help God . Isaac C. Meekins Sworn subscribed 16 day of Sept A.D. , 1865 , E H Walker , J.P . It hereby certified true copy of original oath taken subscribed I C Meekins E H Walker , J.P. John B Etheridge , J.P .'"
      ]
     },
     "execution_count": 66,
     "metadata": {},
     "output_type": "execute_result"
    }
   ],
   "source": [
    "all_text[0]"
   ]
  },
  {
   "cell_type": "code",
   "execution_count": 67,
   "id": "ec9f66c2",
   "metadata": {
    "execution": {
     "iopub.execute_input": "2022-06-14T16:10:26.976033Z",
     "iopub.status.busy": "2022-06-14T16:10:26.975276Z",
     "iopub.status.idle": "2022-06-14T16:10:26.985818Z",
     "shell.execute_reply": "2022-06-14T16:10:26.984945Z"
    },
    "papermill": {
     "duration": 0.094034,
     "end_time": "2022-06-14T16:10:26.988685",
     "exception": false,
     "start_time": "2022-06-14T16:10:26.894651",
     "status": "completed"
    },
    "tags": []
   },
   "outputs": [
    {
     "data": {
      "text/plain": [
       "['God', 'W R Frazer', 'W M Wilson JP']"
      ]
     },
     "execution_count": 67,
     "metadata": {},
     "output_type": "execute_result"
    }
   ],
   "source": [
    "Personlarge[100]"
   ]
  },
  {
   "cell_type": "code",
   "execution_count": 68,
   "id": "45757f6f",
   "metadata": {
    "execution": {
     "iopub.execute_input": "2022-06-14T16:10:27.152499Z",
     "iopub.status.busy": "2022-06-14T16:10:27.152019Z",
     "iopub.status.idle": "2022-06-14T16:10:27.162384Z",
     "shell.execute_reply": "2022-06-14T16:10:27.161574Z"
    },
    "papermill": {
     "duration": 0.095376,
     "end_time": "2022-06-14T16:10:27.165024",
     "exception": false,
     "start_time": "2022-06-14T16:10:27.069648",
     "status": "completed"
    },
    "tags": []
   },
   "outputs": [
    {
     "data": {
      "text/plain": [
       "'State of North Carolina , County . I , , solemnly swear I never voluntarily borne arm United States since I citizen thereof ; I voluntarily given aid , countenance , counsel , encouragement person engaged armed hostility thereto ; I neither sought accepted , attempted exercise function of office whatever authority , pretended authority , hostility United States ; I yielded voluntary support pretended government , authority , power constitution within United States , hostile inimical thereto . And I swear , , best of knowledge ability , I support defend Constitution of United States enemy , foreign domestic ; I bear true faith allegiance ; I take obligation freely , without mental reservation purpose of evasion ; I well faithfully discharge duty of office I enter , help God . W R Frazer Sworn subscribed , day of , 1866 . W M Wilson JP'"
      ]
     },
     "execution_count": 68,
     "metadata": {},
     "output_type": "execute_result"
    }
   ],
   "source": [
    "all_text[100]"
   ]
  },
  {
   "cell_type": "code",
   "execution_count": 69,
   "id": "15806bc2",
   "metadata": {
    "execution": {
     "iopub.execute_input": "2022-06-14T16:10:27.326417Z",
     "iopub.status.busy": "2022-06-14T16:10:27.325859Z",
     "iopub.status.idle": "2022-06-14T16:10:27.336397Z",
     "shell.execute_reply": "2022-06-14T16:10:27.335459Z"
    },
    "papermill": {
     "duration": 0.094822,
     "end_time": "2022-06-14T16:10:27.339199",
     "exception": false,
     "start_time": "2022-06-14T16:10:27.244377",
     "status": "completed"
    },
    "tags": []
   },
   "outputs": [
    {
     "data": {
      "text/plain": [
       "'State of North Carolina , Wake County . I , S.E . Allen , solemnly swear I never voluntarily borne arm United States since I citizen thereof ; I voluntarily given aid , countenance , counsel , encouragement person engaged armed hostility thereto ; I neither sought accepted , attempted exercise function of office whatever authority , pretended authority , hostility United States ; I yielded voluntary support pretended government , authority , power constitution within United States , hostile inimical thereto . And I swear , , best of knowledge ability , I support defend Constitution of United States enemy , foreign domestic ; I bear true faith allegiance ; I take obligation freely , without mental reservation purpose of evasion ; I well faithfully discharge duty of office I enter , help God . S.E . Allen Sworn subscribed , 31st day of May , 1867 . T.D . McAlpine Lieut . Vet . Res . Corp'"
      ]
     },
     "execution_count": 69,
     "metadata": {},
     "output_type": "execute_result"
    }
   ],
   "source": [
    "all_text[4]"
   ]
  },
  {
   "cell_type": "code",
   "execution_count": 70,
   "id": "bf3dec37",
   "metadata": {
    "execution": {
     "iopub.execute_input": "2022-06-14T16:10:27.505228Z",
     "iopub.status.busy": "2022-06-14T16:10:27.504736Z",
     "iopub.status.idle": "2022-06-14T16:10:27.515759Z",
     "shell.execute_reply": "2022-06-14T16:10:27.514839Z"
    },
    "papermill": {
     "duration": 0.099152,
     "end_time": "2022-06-14T16:10:27.518481",
     "exception": false,
     "start_time": "2022-06-14T16:10:27.419329",
     "status": "completed"
    },
    "tags": []
   },
   "outputs": [
    {
     "data": {
      "text/plain": [
       "['S.E', 'God', 'T.D', 'McAlpine']"
      ]
     },
     "execution_count": 70,
     "metadata": {},
     "output_type": "execute_result"
    }
   ],
   "source": [
    "Personlarge[4]"
   ]
  },
  {
   "cell_type": "code",
   "execution_count": 71,
   "id": "1df7673b",
   "metadata": {
    "execution": {
     "iopub.execute_input": "2022-06-14T16:10:27.625615Z",
     "iopub.status.busy": "2022-06-14T16:10:27.625192Z",
     "iopub.status.idle": "2022-06-14T16:10:27.632151Z",
     "shell.execute_reply": "2022-06-14T16:10:27.630948Z"
    },
    "papermill": {
     "duration": 0.057449,
     "end_time": "2022-06-14T16:10:27.635748",
     "exception": false,
     "start_time": "2022-06-14T16:10:27.578299",
     "status": "completed"
    },
    "tags": []
   },
   "outputs": [
    {
     "data": {
      "text/plain": [
       "'I Sarah E Dough , of Currituck county , State of North Carolina solemnly swear affirm presence of Almighty God , I hence forth faithfully support , protect defend Constitution of United States Union of States thereunder ; I , like manner , abide faithfully support law proclamation made existing rebellion reference emancipation of slave . So help God Sarah . E. Dough sworn subscribed 1st day of Dec. A.D. 1866 , Isaac C. Merkins , J.P .'"
      ]
     },
     "execution_count": 71,
     "metadata": {},
     "output_type": "execute_result"
    }
   ],
   "source": [
    "all_text[5]"
   ]
  },
  {
   "cell_type": "code",
   "execution_count": 72,
   "id": "9bdf3c76",
   "metadata": {
    "execution": {
     "iopub.execute_input": "2022-06-14T16:10:27.733656Z",
     "iopub.status.busy": "2022-06-14T16:10:27.733265Z",
     "iopub.status.idle": "2022-06-14T16:10:27.739727Z",
     "shell.execute_reply": "2022-06-14T16:10:27.738675Z"
    },
    "papermill": {
     "duration": 0.057574,
     "end_time": "2022-06-14T16:10:27.741948",
     "exception": false,
     "start_time": "2022-06-14T16:10:27.684374",
     "status": "completed"
    },
    "tags": []
   },
   "outputs": [
    {
     "data": {
      "text/plain": [
       "['S C Holland', 'Levi Stuber Major', 'Levi Stuber']"
      ]
     },
     "execution_count": 72,
     "metadata": {},
     "output_type": "execute_result"
    }
   ],
   "source": [
    "allPerson[1250]"
   ]
  },
  {
   "cell_type": "code",
   "execution_count": 73,
   "id": "008dde0c",
   "metadata": {
    "execution": {
     "iopub.execute_input": "2022-06-14T16:10:27.841281Z",
     "iopub.status.busy": "2022-06-14T16:10:27.840858Z",
     "iopub.status.idle": "2022-06-14T16:10:27.847572Z",
     "shell.execute_reply": "2022-06-14T16:10:27.846562Z"
    },
    "papermill": {
     "duration": 0.059644,
     "end_time": "2022-06-14T16:10:27.849770",
     "exception": false,
     "start_time": "2022-06-14T16:10:27.790126",
     "status": "completed"
    },
    "tags": []
   },
   "outputs": [
    {
     "data": {
      "text/plain": [
       "['God', 'William Birnie Sworn', 'W A Dick J.P']"
      ]
     },
     "execution_count": 73,
     "metadata": {},
     "output_type": "execute_result"
    }
   ],
   "source": [
    "Personlarge[36]"
   ]
  },
  {
   "cell_type": "code",
   "execution_count": 74,
   "id": "ed6a9985",
   "metadata": {
    "execution": {
     "iopub.execute_input": "2022-06-14T16:10:27.944739Z",
     "iopub.status.busy": "2022-06-14T16:10:27.943705Z",
     "iopub.status.idle": "2022-06-14T16:10:27.951880Z",
     "shell.execute_reply": "2022-06-14T16:10:27.950908Z"
    },
    "papermill": {
     "duration": 0.058144,
     "end_time": "2022-06-14T16:10:27.953998",
     "exception": false,
     "start_time": "2022-06-14T16:10:27.895854",
     "status": "completed"
    },
    "tags": []
   },
   "outputs": [
    {
     "data": {
      "text/plain": [
       "'State of South Carolina Barnwell District I , Emmeline L. Mathews solemnly swear I carefully read Amnesty Proclamation issued ANDREW JOHNSON , President of United States of America , May 29th , 1865 , I excepted benefit of Proclamation one of fourteen exception therein made , except Emmeline L. Mathews Sworn subscribed Aiken S.C Seventeenth day of October 1865 . Frank A. Ford Magistrate Barnwell Dist S.C No . 22 . United States of America . I , Emmeline L. Mathews of County District of Charleston State of South Carolina solemnly swear presence of Almighty God , I henceforth faithfully support defend Constitution of United States , Union of States thereunder , I , like manner , abide faithfully support law proclamation made existing rebellion reference Emancipation of slave SO HELP ME GOD . Emmeline L Matthews Sworn subscribed , Aiken , S.C. Seventeenth day of October 1865 . Frank A Ford Magistrate Barnwell Dist SC By Authencity of Reeclamation of . Gov Perry The named Fair complexion light hair , Grey eye ; 5 foot 4 inch high , 50 year ; profession _____________ PO Aclieale'"
      ]
     },
     "execution_count": 74,
     "metadata": {},
     "output_type": "execute_result"
    }
   ],
   "source": [
    "all_text[1350]"
   ]
  },
  {
   "cell_type": "code",
   "execution_count": 75,
   "id": "430cf501",
   "metadata": {
    "execution": {
     "iopub.execute_input": "2022-06-14T16:10:28.054293Z",
     "iopub.status.busy": "2022-06-14T16:10:28.053344Z",
     "iopub.status.idle": "2022-06-14T16:10:28.061879Z",
     "shell.execute_reply": "2022-06-14T16:10:28.060639Z"
    },
    "papermill": {
     "duration": 0.06209,
     "end_time": "2022-06-14T16:10:28.064370",
     "exception": false,
     "start_time": "2022-06-14T16:10:28.002280",
     "status": "completed"
    },
    "tags": []
   },
   "outputs": [
    {
     "data": {
      "text/plain": [
       "'State of North Carolina , County . I , , solemnly swear I never voluntarily borne arm United States since I citizen thereof ; I voluntarily given aid , countenance , counsel , encouragement person engaged armed hostility thereto ; I neither sought accepted , attempted exercise function of office whatever authority , pretended authority , hostility United States ; I yielded voluntary support pretended government , authority , power constitution within United States , Hostile inimical thereto . And I swear , , best of knowledge ability , I support defend Constitution of United States enemy , foreign domestic ; I bear true faith allegiance ; I take obligation freely , without mental reservation purpose of evasion ; I well faithfully discharge duty of office I enter , help God . John G. Colgrove Sworn subscribed , day of , 186 D.C. Pearson J.P .'"
      ]
     },
     "execution_count": 75,
     "metadata": {},
     "output_type": "execute_result"
    }
   ],
   "source": [
    "all_text[58]"
   ]
  },
  {
   "cell_type": "code",
   "execution_count": null,
   "id": "78d8ea38",
   "metadata": {
    "execution": {
     "iopub.execute_input": "2022-06-14T15:18:30.143202Z",
     "iopub.status.busy": "2022-06-14T15:18:30.142841Z",
     "iopub.status.idle": "2022-06-14T15:18:30.156630Z",
     "shell.execute_reply": "2022-06-14T15:18:30.155438Z",
     "shell.execute_reply.started": "2022-06-14T15:18:30.143173Z"
    },
    "papermill": {
     "duration": 0.048978,
     "end_time": "2022-06-14T16:10:28.162605",
     "exception": false,
     "start_time": "2022-06-14T16:10:28.113627",
     "status": "completed"
    },
    "tags": []
   },
   "outputs": [],
   "source": []
  },
  {
   "cell_type": "code",
   "execution_count": 76,
   "id": "a3c3130f",
   "metadata": {
    "execution": {
     "iopub.execute_input": "2022-06-14T16:10:28.262625Z",
     "iopub.status.busy": "2022-06-14T16:10:28.262192Z",
     "iopub.status.idle": "2022-06-14T16:10:28.274570Z",
     "shell.execute_reply": "2022-06-14T16:10:28.273449Z"
    },
    "papermill": {
     "duration": 0.064674,
     "end_time": "2022-06-14T16:10:28.276684",
     "exception": false,
     "start_time": "2022-06-14T16:10:28.212010",
     "status": "completed"
    },
    "tags": []
   },
   "outputs": [],
   "source": [
    "NewPerson=[]\n",
    "for i in Personlarge:\n",
    "    p=[]\n",
    "    for j in i:\n",
    "        j=j.replace('.','')\n",
    "        p.append(j)\n",
    "    NewPerson.append(p)\n",
    "    \n",
    "        "
   ]
  },
  {
   "cell_type": "code",
   "execution_count": 77,
   "id": "5a32429b",
   "metadata": {
    "execution": {
     "iopub.execute_input": "2022-06-14T16:10:28.372446Z",
     "iopub.status.busy": "2022-06-14T16:10:28.371618Z",
     "iopub.status.idle": "2022-06-14T16:10:28.378218Z",
     "shell.execute_reply": "2022-06-14T16:10:28.377220Z"
    },
    "papermill": {
     "duration": 0.056399,
     "end_time": "2022-06-14T16:10:28.380834",
     "exception": false,
     "start_time": "2022-06-14T16:10:28.324435",
     "status": "completed"
    },
    "tags": []
   },
   "outputs": [
    {
     "data": {
      "text/plain": [
       "2136"
      ]
     },
     "execution_count": 77,
     "metadata": {},
     "output_type": "execute_result"
    }
   ],
   "source": [
    "len(NewPerson)"
   ]
  },
  {
   "cell_type": "code",
   "execution_count": 78,
   "id": "737017fb",
   "metadata": {
    "execution": {
     "iopub.execute_input": "2022-06-14T16:10:28.478937Z",
     "iopub.status.busy": "2022-06-14T16:10:28.477977Z",
     "iopub.status.idle": "2022-06-14T16:10:28.492160Z",
     "shell.execute_reply": "2022-06-14T16:10:28.491071Z"
    },
    "papermill": {
     "duration": 0.065597,
     "end_time": "2022-06-14T16:10:28.494311",
     "exception": false,
     "start_time": "2022-06-14T16:10:28.428714",
     "status": "completed"
    },
    "tags": []
   },
   "outputs": [],
   "source": [
    "Per=[]\n",
    "for i in NewPerson:\n",
    "    p=[]\n",
    "    for j in i:\n",
    "        if (j!=\"God\") &(j!=\"GOD\") &(j!=\"god\")&(j!='ANDREW JOHNSON')&(j!=\"andrew jonhson\")&(j!='Andrew Johnson')&(j!=\"I\"):\n",
    "            p.append(j)\n",
    "    Per.append(p)"
   ]
  },
  {
   "cell_type": "code",
   "execution_count": 79,
   "id": "0f6a48ab",
   "metadata": {
    "execution": {
     "iopub.execute_input": "2022-06-14T16:10:28.602080Z",
     "iopub.status.busy": "2022-06-14T16:10:28.601635Z",
     "iopub.status.idle": "2022-06-14T16:10:28.608189Z",
     "shell.execute_reply": "2022-06-14T16:10:28.607113Z"
    },
    "papermill": {
     "duration": 0.066196,
     "end_time": "2022-06-14T16:10:28.610609",
     "exception": false,
     "start_time": "2022-06-14T16:10:28.544413",
     "status": "completed"
    },
    "tags": []
   },
   "outputs": [
    {
     "data": {
      "text/plain": [
       "'North Carolina Davidson County I John Haines Clerk of Court of Pleas Quarter Sessions of said County hereby Certify W. Adams , foregoing affidavit made Justice of Peace said County Commissioned qualified Official act legal signature purporting genuine In testimony whereof I herewith set hand affixed Seal of said Court Office Lexington 28th day of March A.D. 1868 Jn . Haines C.C.C .'"
      ]
     },
     "execution_count": 79,
     "metadata": {},
     "output_type": "execute_result"
    }
   ],
   "source": [
    "all_text[109]"
   ]
  },
  {
   "cell_type": "code",
   "execution_count": 80,
   "id": "62921c0a",
   "metadata": {
    "execution": {
     "iopub.execute_input": "2022-06-14T16:10:28.710367Z",
     "iopub.status.busy": "2022-06-14T16:10:28.709447Z",
     "iopub.status.idle": "2022-06-14T16:10:28.717045Z",
     "shell.execute_reply": "2022-06-14T16:10:28.715821Z"
    },
    "papermill": {
     "duration": 0.060678,
     "end_time": "2022-06-14T16:10:28.719518",
     "exception": false,
     "start_time": "2022-06-14T16:10:28.658840",
     "status": "completed"
    },
    "tags": []
   },
   "outputs": [
    {
     "data": {
      "text/plain": [
       "['I J',\n",
       " 'Lockwood',\n",
       " 'ANDREW JOHNSON',\n",
       " 'Levi Stuber',\n",
       " 'I J Lockwood',\n",
       " 'God',\n",
       " 'GOD',\n",
       " 'J. Lockwood']"
      ]
     },
     "execution_count": 80,
     "metadata": {},
     "output_type": "execute_result"
    }
   ],
   "source": [
    "Personlarge[1013]"
   ]
  },
  {
   "cell_type": "code",
   "execution_count": 81,
   "id": "4f2f88ab",
   "metadata": {
    "execution": {
     "iopub.execute_input": "2022-06-14T16:10:28.819321Z",
     "iopub.status.busy": "2022-06-14T16:10:28.818848Z",
     "iopub.status.idle": "2022-06-14T16:10:28.825987Z",
     "shell.execute_reply": "2022-06-14T16:10:28.824974Z"
    },
    "papermill": {
     "duration": 0.060931,
     "end_time": "2022-06-14T16:10:28.828908",
     "exception": false,
     "start_time": "2022-06-14T16:10:28.767977",
     "status": "completed"
    },
    "tags": []
   },
   "outputs": [
    {
     "data": {
      "text/plain": [
       "['I J', 'Lockwood', 'Levi Stuber', 'I J Lockwood', 'J Lockwood']"
      ]
     },
     "execution_count": 81,
     "metadata": {},
     "output_type": "execute_result"
    }
   ],
   "source": [
    "Per[1013]"
   ]
  },
  {
   "cell_type": "code",
   "execution_count": 82,
   "id": "a66ac2d5",
   "metadata": {
    "execution": {
     "iopub.execute_input": "2022-06-14T16:10:28.931897Z",
     "iopub.status.busy": "2022-06-14T16:10:28.931010Z",
     "iopub.status.idle": "2022-06-14T16:10:28.940685Z",
     "shell.execute_reply": "2022-06-14T16:10:28.939697Z"
    },
    "papermill": {
     "duration": 0.063243,
     "end_time": "2022-06-14T16:10:28.942888",
     "exception": false,
     "start_time": "2022-06-14T16:10:28.879645",
     "status": "completed"
    },
    "tags": []
   },
   "outputs": [
    {
     "data": {
      "text/plain": [
       "'I J. Lockwood solemnly swear I carefully read Amnesty Proclamation issued ANDREW JOHNSON , President of United States of America , May 29th , 1865 , I excepted benefit of Proclamation one of fourteen exception therein made , except J. Lockwood Sworn subscribed Charleston SC 2nd day of Sept 1865 . Levi Stuber Maj 47 Pa Vols P M Duplicate No . 1161 United States of America . I J Lockwood of City of Charleston State of South Ca solemnly swear presence of Almighty God , I henceforth faithfully support defend Constitution of United States , Union of States thereunder , I , like manner , abide faithfully support law proclamation made existing rebellion reference Emancipation of slaves——SO HELP ME GOD . J. Lockwood Sworn subscribed Charleston SC 2nd day of Sept 1865 . Levi Stuber Maj 47 Pro Ma The named drk complexion drk hair drk eye ; 5 foot 6 inch high , 19 year ; profession None'"
      ]
     },
     "execution_count": 82,
     "metadata": {},
     "output_type": "execute_result"
    }
   ],
   "source": [
    "all_text[1013]"
   ]
  },
  {
   "cell_type": "code",
   "execution_count": null,
   "id": "76dc0e45",
   "metadata": {
    "papermill": {
     "duration": 0.048862,
     "end_time": "2022-06-14T16:10:29.045411",
     "exception": false,
     "start_time": "2022-06-14T16:10:28.996549",
     "status": "completed"
    },
    "tags": []
   },
   "outputs": [],
   "source": []
  },
  {
   "cell_type": "code",
   "execution_count": null,
   "id": "4a66dcca",
   "metadata": {
    "papermill": {
     "duration": 0.048121,
     "end_time": "2022-06-14T16:10:29.141947",
     "exception": false,
     "start_time": "2022-06-14T16:10:29.093826",
     "status": "completed"
    },
    "tags": []
   },
   "outputs": [],
   "source": []
  },
  {
   "cell_type": "code",
   "execution_count": null,
   "id": "b027e9bd",
   "metadata": {
    "papermill": {
     "duration": 0.046791,
     "end_time": "2022-06-14T16:10:29.236676",
     "exception": false,
     "start_time": "2022-06-14T16:10:29.189885",
     "status": "completed"
    },
    "tags": []
   },
   "outputs": [],
   "source": []
  },
  {
   "cell_type": "code",
   "execution_count": null,
   "id": "c2566303",
   "metadata": {
    "papermill": {
     "duration": 0.045619,
     "end_time": "2022-06-14T16:10:29.330112",
     "exception": false,
     "start_time": "2022-06-14T16:10:29.284493",
     "status": "completed"
    },
    "tags": []
   },
   "outputs": [],
   "source": []
  }
 ],
 "metadata": {
  "kernelspec": {
   "display_name": "Python 3",
   "language": "python",
   "name": "python3"
  },
  "language_info": {
   "codemirror_mode": {
    "name": "ipython",
    "version": 3
   },
   "file_extension": ".py",
   "mimetype": "text/x-python",
   "name": "python",
   "nbconvert_exporter": "python",
   "pygments_lexer": "ipython3",
   "version": "3.7.12"
  },
  "papermill": {
   "default_parameters": {},
   "duration": 623.683188,
   "end_time": "2022-06-14T16:10:32.300858",
   "environment_variables": {},
   "exception": null,
   "input_path": "__notebook__.ipynb",
   "output_path": "__notebook__.ipynb",
   "parameters": {},
   "start_time": "2022-06-14T16:00:08.617670",
   "version": "2.3.4"
  },
  "widgets": {
   "application/vnd.jupyter.widget-state+json": {
    "state": {
     "04d99119e6a64eabba3f9b3360b0404e": {
      "model_module": "@jupyter-widgets/controls",
      "model_module_version": "1.5.0",
      "model_name": "HTMLModel",
      "state": {
       "_dom_classes": [],
       "_model_module": "@jupyter-widgets/controls",
       "_model_module_version": "1.5.0",
       "_model_name": "HTMLModel",
       "_view_count": null,
       "_view_module": "@jupyter-widgets/controls",
       "_view_module_version": "1.5.0",
       "_view_name": "HTMLView",
       "description": "",
       "description_tooltip": null,
       "layout": "IPY_MODEL_d519b90c7ddc4e63bb1662e97c5e104c",
       "placeholder": "​",
       "style": "IPY_MODEL_dd722d2c2ddf482596952701ce1246c5",
       "value": "Downloading: 100%"
      }
     },
     "1060ba3857014af8a31769ca98755a1d": {
      "model_module": "@jupyter-widgets/base",
      "model_module_version": "1.2.0",
      "model_name": "LayoutModel",
      "state": {
       "_model_module": "@jupyter-widgets/base",
       "_model_module_version": "1.2.0",
       "_model_name": "LayoutModel",
       "_view_count": null,
       "_view_module": "@jupyter-widgets/base",
       "_view_module_version": "1.2.0",
       "_view_name": "LayoutView",
       "align_content": null,
       "align_items": null,
       "align_self": null,
       "border": null,
       "bottom": null,
       "display": null,
       "flex": null,
       "flex_flow": null,
       "grid_area": null,
       "grid_auto_columns": null,
       "grid_auto_flow": null,
       "grid_auto_rows": null,
       "grid_column": null,
       "grid_gap": null,
       "grid_row": null,
       "grid_template_areas": null,
       "grid_template_columns": null,
       "grid_template_rows": null,
       "height": null,
       "justify_content": null,
       "justify_items": null,
       "left": null,
       "margin": null,
       "max_height": null,
       "max_width": null,
       "min_height": null,
       "min_width": null,
       "object_fit": null,
       "object_position": null,
       "order": null,
       "overflow": null,
       "overflow_x": null,
       "overflow_y": null,
       "padding": null,
       "right": null,
       "top": null,
       "visibility": null,
       "width": null
      }
     },
     "109778a5a55a4b3c877bca55fb7fcbdf": {
      "model_module": "@jupyter-widgets/controls",
      "model_module_version": "1.5.0",
      "model_name": "DescriptionStyleModel",
      "state": {
       "_model_module": "@jupyter-widgets/controls",
       "_model_module_version": "1.5.0",
       "_model_name": "DescriptionStyleModel",
       "_view_count": null,
       "_view_module": "@jupyter-widgets/base",
       "_view_module_version": "1.2.0",
       "_view_name": "StyleView",
       "description_width": ""
      }
     },
     "12ec841dc2614d80a5438b5580eaba87": {
      "model_module": "@jupyter-widgets/controls",
      "model_module_version": "1.5.0",
      "model_name": "DescriptionStyleModel",
      "state": {
       "_model_module": "@jupyter-widgets/controls",
       "_model_module_version": "1.5.0",
       "_model_name": "DescriptionStyleModel",
       "_view_count": null,
       "_view_module": "@jupyter-widgets/base",
       "_view_module_version": "1.2.0",
       "_view_name": "StyleView",
       "description_width": ""
      }
     },
     "1cfe3481cd7a4bd3ab9e69ad470d6331": {
      "model_module": "@jupyter-widgets/base",
      "model_module_version": "1.2.0",
      "model_name": "LayoutModel",
      "state": {
       "_model_module": "@jupyter-widgets/base",
       "_model_module_version": "1.2.0",
       "_model_name": "LayoutModel",
       "_view_count": null,
       "_view_module": "@jupyter-widgets/base",
       "_view_module_version": "1.2.0",
       "_view_name": "LayoutView",
       "align_content": null,
       "align_items": null,
       "align_self": null,
       "border": null,
       "bottom": null,
       "display": null,
       "flex": null,
       "flex_flow": null,
       "grid_area": null,
       "grid_auto_columns": null,
       "grid_auto_flow": null,
       "grid_auto_rows": null,
       "grid_column": null,
       "grid_gap": null,
       "grid_row": null,
       "grid_template_areas": null,
       "grid_template_columns": null,
       "grid_template_rows": null,
       "height": null,
       "justify_content": null,
       "justify_items": null,
       "left": null,
       "margin": null,
       "max_height": null,
       "max_width": null,
       "min_height": null,
       "min_width": null,
       "object_fit": null,
       "object_position": null,
       "order": null,
       "overflow": null,
       "overflow_x": null,
       "overflow_y": null,
       "padding": null,
       "right": null,
       "top": null,
       "visibility": null,
       "width": null
      }
     },
     "22dae827b1b34bd490ac84e9f7006d53": {
      "model_module": "@jupyter-widgets/controls",
      "model_module_version": "1.5.0",
      "model_name": "DescriptionStyleModel",
      "state": {
       "_model_module": "@jupyter-widgets/controls",
       "_model_module_version": "1.5.0",
       "_model_name": "DescriptionStyleModel",
       "_view_count": null,
       "_view_module": "@jupyter-widgets/base",
       "_view_module_version": "1.2.0",
       "_view_name": "StyleView",
       "description_width": ""
      }
     },
     "29312df51fc7451d8ed42a9f155dc673": {
      "model_module": "@jupyter-widgets/controls",
      "model_module_version": "1.5.0",
      "model_name": "HBoxModel",
      "state": {
       "_dom_classes": [],
       "_model_module": "@jupyter-widgets/controls",
       "_model_module_version": "1.5.0",
       "_model_name": "HBoxModel",
       "_view_count": null,
       "_view_module": "@jupyter-widgets/controls",
       "_view_module_version": "1.5.0",
       "_view_name": "HBoxView",
       "box_style": "",
       "children": [
        "IPY_MODEL_f7a382b1f7454459ba240e869d2cb243",
        "IPY_MODEL_e5786b716d2145e6accb42959e878aa5",
        "IPY_MODEL_d0407cd0fec44a7da1d4fc9e0cf922fb"
       ],
       "layout": "IPY_MODEL_37fff28da2ed4692ab586c9b1a745def"
      }
     },
     "349f17c430694c9fb3fd56b6f54e7bb3": {
      "model_module": "@jupyter-widgets/controls",
      "model_module_version": "1.5.0",
      "model_name": "HBoxModel",
      "state": {
       "_dom_classes": [],
       "_model_module": "@jupyter-widgets/controls",
       "_model_module_version": "1.5.0",
       "_model_name": "HBoxModel",
       "_view_count": null,
       "_view_module": "@jupyter-widgets/controls",
       "_view_module_version": "1.5.0",
       "_view_name": "HBoxView",
       "box_style": "",
       "children": [
        "IPY_MODEL_04d99119e6a64eabba3f9b3360b0404e",
        "IPY_MODEL_7e7825f6cf5649dd99bb8ed66fe90dd2",
        "IPY_MODEL_9547e0dbf98840beb9d33667976a9e4c"
       ],
       "layout": "IPY_MODEL_a0000b1e848741f2b7ee5fadab812dd7"
      }
     },
     "34b6c7961fe945818eb56bbcdc6b1c30": {
      "model_module": "@jupyter-widgets/controls",
      "model_module_version": "1.5.0",
      "model_name": "HTMLModel",
      "state": {
       "_dom_classes": [],
       "_model_module": "@jupyter-widgets/controls",
       "_model_module_version": "1.5.0",
       "_model_name": "HTMLModel",
       "_view_count": null,
       "_view_module": "@jupyter-widgets/controls",
       "_view_module_version": "1.5.0",
       "_view_name": "HTMLView",
       "description": "",
       "description_tooltip": null,
       "layout": "IPY_MODEL_abcc12ae97fb4784b545df35d45c5a71",
       "placeholder": "​",
       "style": "IPY_MODEL_d0c7835b49134d3a8830882cfaf91661",
       "value": " 616/616 [00:00&lt;00:00, 21.0kB/s]"
      }
     },
     "37fff28da2ed4692ab586c9b1a745def": {
      "model_module": "@jupyter-widgets/base",
      "model_module_version": "1.2.0",
      "model_name": "LayoutModel",
      "state": {
       "_model_module": "@jupyter-widgets/base",
       "_model_module_version": "1.2.0",
       "_model_name": "LayoutModel",
       "_view_count": null,
       "_view_module": "@jupyter-widgets/base",
       "_view_module_version": "1.2.0",
       "_view_name": "LayoutView",
       "align_content": null,
       "align_items": null,
       "align_self": null,
       "border": null,
       "bottom": null,
       "display": null,
       "flex": null,
       "flex_flow": null,
       "grid_area": null,
       "grid_auto_columns": null,
       "grid_auto_flow": null,
       "grid_auto_rows": null,
       "grid_column": null,
       "grid_gap": null,
       "grid_row": null,
       "grid_template_areas": null,
       "grid_template_columns": null,
       "grid_template_rows": null,
       "height": null,
       "justify_content": null,
       "justify_items": null,
       "left": null,
       "margin": null,
       "max_height": null,
       "max_width": null,
       "min_height": null,
       "min_width": null,
       "object_fit": null,
       "object_position": null,
       "order": null,
       "overflow": null,
       "overflow_x": null,
       "overflow_y": null,
       "padding": null,
       "right": null,
       "top": null,
       "visibility": null,
       "width": null
      }
     },
     "449a247fee7941f9bf937690b8284fba": {
      "model_module": "@jupyter-widgets/controls",
      "model_module_version": "1.5.0",
      "model_name": "ProgressStyleModel",
      "state": {
       "_model_module": "@jupyter-widgets/controls",
       "_model_module_version": "1.5.0",
       "_model_name": "ProgressStyleModel",
       "_view_count": null,
       "_view_module": "@jupyter-widgets/base",
       "_view_module_version": "1.2.0",
       "_view_name": "StyleView",
       "bar_color": null,
       "description_width": ""
      }
     },
     "477fbeb69cb04bd39bd23fc945a5f1d6": {
      "model_module": "@jupyter-widgets/controls",
      "model_module_version": "1.5.0",
      "model_name": "HBoxModel",
      "state": {
       "_dom_classes": [],
       "_model_module": "@jupyter-widgets/controls",
       "_model_module_version": "1.5.0",
       "_model_name": "HBoxModel",
       "_view_count": null,
       "_view_module": "@jupyter-widgets/controls",
       "_view_module_version": "1.5.0",
       "_view_name": "HBoxView",
       "box_style": "",
       "children": [
        "IPY_MODEL_fe621279631a4c52a92cfa35f51ac971",
        "IPY_MODEL_ed8cd69bdaf54dc486e9b53ea4b8c343",
        "IPY_MODEL_d85e23137ac54e38900c531dc0cb006b"
       ],
       "layout": "IPY_MODEL_1060ba3857014af8a31769ca98755a1d"
      }
     },
     "52b657e032b741079cccbffe73e6bb3c": {
      "model_module": "@jupyter-widgets/base",
      "model_module_version": "1.2.0",
      "model_name": "LayoutModel",
      "state": {
       "_model_module": "@jupyter-widgets/base",
       "_model_module_version": "1.2.0",
       "_model_name": "LayoutModel",
       "_view_count": null,
       "_view_module": "@jupyter-widgets/base",
       "_view_module_version": "1.2.0",
       "_view_name": "LayoutView",
       "align_content": null,
       "align_items": null,
       "align_self": null,
       "border": null,
       "bottom": null,
       "display": null,
       "flex": null,
       "flex_flow": null,
       "grid_area": null,
       "grid_auto_columns": null,
       "grid_auto_flow": null,
       "grid_auto_rows": null,
       "grid_column": null,
       "grid_gap": null,
       "grid_row": null,
       "grid_template_areas": null,
       "grid_template_columns": null,
       "grid_template_rows": null,
       "height": null,
       "justify_content": null,
       "justify_items": null,
       "left": null,
       "margin": null,
       "max_height": null,
       "max_width": null,
       "min_height": null,
       "min_width": null,
       "object_fit": null,
       "object_position": null,
       "order": null,
       "overflow": null,
       "overflow_x": null,
       "overflow_y": null,
       "padding": null,
       "right": null,
       "top": null,
       "visibility": null,
       "width": null
      }
     },
     "5c7390ffd7cf47f19197f9519c6f2db0": {
      "model_module": "@jupyter-widgets/controls",
      "model_module_version": "1.5.0",
      "model_name": "HBoxModel",
      "state": {
       "_dom_classes": [],
       "_model_module": "@jupyter-widgets/controls",
       "_model_module_version": "1.5.0",
       "_model_name": "HBoxModel",
       "_view_count": null,
       "_view_module": "@jupyter-widgets/controls",
       "_view_module_version": "1.5.0",
       "_view_name": "HBoxView",
       "box_style": "",
       "children": [
        "IPY_MODEL_8d18f79b11734f139f415eb7a113f328",
        "IPY_MODEL_903fa6b3243d414481eae8e8a02a691a",
        "IPY_MODEL_d85586f2bb864ae989a7c2d6d1c630a6"
       ],
       "layout": "IPY_MODEL_bff654fc39ce477f96148c0c35a0a031"
      }
     },
     "6769c61c26774b8f88035f3d882b5260": {
      "model_module": "@jupyter-widgets/base",
      "model_module_version": "1.2.0",
      "model_name": "LayoutModel",
      "state": {
       "_model_module": "@jupyter-widgets/base",
       "_model_module_version": "1.2.0",
       "_model_name": "LayoutModel",
       "_view_count": null,
       "_view_module": "@jupyter-widgets/base",
       "_view_module_version": "1.2.0",
       "_view_name": "LayoutView",
       "align_content": null,
       "align_items": null,
       "align_self": null,
       "border": null,
       "bottom": null,
       "display": null,
       "flex": null,
       "flex_flow": null,
       "grid_area": null,
       "grid_auto_columns": null,
       "grid_auto_flow": null,
       "grid_auto_rows": null,
       "grid_column": null,
       "grid_gap": null,
       "grid_row": null,
       "grid_template_areas": null,
       "grid_template_columns": null,
       "grid_template_rows": null,
       "height": null,
       "justify_content": null,
       "justify_items": null,
       "left": null,
       "margin": null,
       "max_height": null,
       "max_width": null,
       "min_height": null,
       "min_width": null,
       "object_fit": null,
       "object_position": null,
       "order": null,
       "overflow": null,
       "overflow_x": null,
       "overflow_y": null,
       "padding": null,
       "right": null,
       "top": null,
       "visibility": null,
       "width": null
      }
     },
     "697a8f0928ea4f168227507606d10f1b": {
      "model_module": "@jupyter-widgets/base",
      "model_module_version": "1.2.0",
      "model_name": "LayoutModel",
      "state": {
       "_model_module": "@jupyter-widgets/base",
       "_model_module_version": "1.2.0",
       "_model_name": "LayoutModel",
       "_view_count": null,
       "_view_module": "@jupyter-widgets/base",
       "_view_module_version": "1.2.0",
       "_view_name": "LayoutView",
       "align_content": null,
       "align_items": null,
       "align_self": null,
       "border": null,
       "bottom": null,
       "display": null,
       "flex": null,
       "flex_flow": null,
       "grid_area": null,
       "grid_auto_columns": null,
       "grid_auto_flow": null,
       "grid_auto_rows": null,
       "grid_column": null,
       "grid_gap": null,
       "grid_row": null,
       "grid_template_areas": null,
       "grid_template_columns": null,
       "grid_template_rows": null,
       "height": null,
       "justify_content": null,
       "justify_items": null,
       "left": null,
       "margin": null,
       "max_height": null,
       "max_width": null,
       "min_height": null,
       "min_width": null,
       "object_fit": null,
       "object_position": null,
       "order": null,
       "overflow": null,
       "overflow_x": null,
       "overflow_y": null,
       "padding": null,
       "right": null,
       "top": null,
       "visibility": null,
       "width": null
      }
     },
     "784fd29ea87b4e118020003f4a304ddc": {
      "model_module": "@jupyter-widgets/base",
      "model_module_version": "1.2.0",
      "model_name": "LayoutModel",
      "state": {
       "_model_module": "@jupyter-widgets/base",
       "_model_module_version": "1.2.0",
       "_model_name": "LayoutModel",
       "_view_count": null,
       "_view_module": "@jupyter-widgets/base",
       "_view_module_version": "1.2.0",
       "_view_name": "LayoutView",
       "align_content": null,
       "align_items": null,
       "align_self": null,
       "border": null,
       "bottom": null,
       "display": null,
       "flex": null,
       "flex_flow": null,
       "grid_area": null,
       "grid_auto_columns": null,
       "grid_auto_flow": null,
       "grid_auto_rows": null,
       "grid_column": null,
       "grid_gap": null,
       "grid_row": null,
       "grid_template_areas": null,
       "grid_template_columns": null,
       "grid_template_rows": null,
       "height": null,
       "justify_content": null,
       "justify_items": null,
       "left": null,
       "margin": null,
       "max_height": null,
       "max_width": null,
       "min_height": null,
       "min_width": null,
       "object_fit": null,
       "object_position": null,
       "order": null,
       "overflow": null,
       "overflow_x": null,
       "overflow_y": null,
       "padding": null,
       "right": null,
       "top": null,
       "visibility": null,
       "width": null
      }
     },
     "7e7825f6cf5649dd99bb8ed66fe90dd2": {
      "model_module": "@jupyter-widgets/controls",
      "model_module_version": "1.5.0",
      "model_name": "FloatProgressModel",
      "state": {
       "_dom_classes": [],
       "_model_module": "@jupyter-widgets/controls",
       "_model_module_version": "1.5.0",
       "_model_name": "FloatProgressModel",
       "_view_count": null,
       "_view_module": "@jupyter-widgets/controls",
       "_view_module_version": "1.5.0",
       "_view_name": "ProgressView",
       "bar_style": "success",
       "description": "",
       "description_tooltip": null,
       "layout": "IPY_MODEL_784fd29ea87b4e118020003f4a304ddc",
       "max": 5069051.0,
       "min": 0.0,
       "orientation": "horizontal",
       "style": "IPY_MODEL_d6140b88dc3249a9a893539c3ccfa90d",
       "value": 5069051.0
      }
     },
     "7fae8e10136b4688ba41d01d83c2438a": {
      "model_module": "@jupyter-widgets/controls",
      "model_module_version": "1.5.0",
      "model_name": "ProgressStyleModel",
      "state": {
       "_model_module": "@jupyter-widgets/controls",
       "_model_module_version": "1.5.0",
       "_model_name": "ProgressStyleModel",
       "_view_count": null,
       "_view_module": "@jupyter-widgets/base",
       "_view_module_version": "1.2.0",
       "_view_name": "StyleView",
       "bar_color": null,
       "description_width": ""
      }
     },
     "83ca5184d1c44f3394317216bafd6b9d": {
      "model_module": "@jupyter-widgets/controls",
      "model_module_version": "1.5.0",
      "model_name": "ProgressStyleModel",
      "state": {
       "_model_module": "@jupyter-widgets/controls",
       "_model_module_version": "1.5.0",
       "_model_name": "ProgressStyleModel",
       "_view_count": null,
       "_view_module": "@jupyter-widgets/base",
       "_view_module_version": "1.2.0",
       "_view_name": "StyleView",
       "bar_color": null,
       "description_width": ""
      }
     },
     "89c2a920c6a246349b318c29760f2436": {
      "model_module": "@jupyter-widgets/controls",
      "model_module_version": "1.5.0",
      "model_name": "ProgressStyleModel",
      "state": {
       "_model_module": "@jupyter-widgets/controls",
       "_model_module_version": "1.5.0",
       "_model_name": "ProgressStyleModel",
       "_view_count": null,
       "_view_module": "@jupyter-widgets/base",
       "_view_module_version": "1.2.0",
       "_view_name": "StyleView",
       "bar_color": null,
       "description_width": ""
      }
     },
     "8d18f79b11734f139f415eb7a113f328": {
      "model_module": "@jupyter-widgets/controls",
      "model_module_version": "1.5.0",
      "model_name": "HTMLModel",
      "state": {
       "_dom_classes": [],
       "_model_module": "@jupyter-widgets/controls",
       "_model_module_version": "1.5.0",
       "_model_name": "HTMLModel",
       "_view_count": null,
       "_view_module": "@jupyter-widgets/controls",
       "_view_module_version": "1.5.0",
       "_view_name": "HTMLView",
       "description": "",
       "description_tooltip": null,
       "layout": "IPY_MODEL_52b657e032b741079cccbffe73e6bb3c",
       "placeholder": "​",
       "style": "IPY_MODEL_9282fcab8246470bafe957c4caa1696d",
       "value": "Downloading: 100%"
      }
     },
     "8f859fb990434e4e84e64f743add72f3": {
      "model_module": "@jupyter-widgets/controls",
      "model_module_version": "1.5.0",
      "model_name": "DescriptionStyleModel",
      "state": {
       "_model_module": "@jupyter-widgets/controls",
       "_model_module_version": "1.5.0",
       "_model_name": "DescriptionStyleModel",
       "_view_count": null,
       "_view_module": "@jupyter-widgets/base",
       "_view_module_version": "1.2.0",
       "_view_name": "StyleView",
       "description_width": ""
      }
     },
     "903fa6b3243d414481eae8e8a02a691a": {
      "model_module": "@jupyter-widgets/controls",
      "model_module_version": "1.5.0",
      "model_name": "FloatProgressModel",
      "state": {
       "_dom_classes": [],
       "_model_module": "@jupyter-widgets/controls",
       "_model_module_version": "1.5.0",
       "_model_name": "FloatProgressModel",
       "_view_count": null,
       "_view_module": "@jupyter-widgets/controls",
       "_view_module_version": "1.5.0",
       "_view_name": "ProgressView",
       "bar_style": "success",
       "description": "",
       "description_tooltip": null,
       "layout": "IPY_MODEL_b8f4e5dbace8422d8d8d1163cd134de3",
       "max": 2240097289.0,
       "min": 0.0,
       "orientation": "horizontal",
       "style": "IPY_MODEL_7fae8e10136b4688ba41d01d83c2438a",
       "value": 2240097289.0
      }
     },
     "91427ddbb5654d91a86b85f18f84d66b": {
      "model_module": "@jupyter-widgets/controls",
      "model_module_version": "1.5.0",
      "model_name": "DescriptionStyleModel",
      "state": {
       "_model_module": "@jupyter-widgets/controls",
       "_model_module_version": "1.5.0",
       "_model_name": "DescriptionStyleModel",
       "_view_count": null,
       "_view_module": "@jupyter-widgets/base",
       "_view_module_version": "1.2.0",
       "_view_name": "StyleView",
       "description_width": ""
      }
     },
     "918432fd81984204bf218936d07380fd": {
      "model_module": "@jupyter-widgets/controls",
      "model_module_version": "1.5.0",
      "model_name": "DescriptionStyleModel",
      "state": {
       "_model_module": "@jupyter-widgets/controls",
       "_model_module_version": "1.5.0",
       "_model_name": "DescriptionStyleModel",
       "_view_count": null,
       "_view_module": "@jupyter-widgets/base",
       "_view_module_version": "1.2.0",
       "_view_name": "StyleView",
       "description_width": ""
      }
     },
     "9282fcab8246470bafe957c4caa1696d": {
      "model_module": "@jupyter-widgets/controls",
      "model_module_version": "1.5.0",
      "model_name": "DescriptionStyleModel",
      "state": {
       "_model_module": "@jupyter-widgets/controls",
       "_model_module_version": "1.5.0",
       "_model_name": "DescriptionStyleModel",
       "_view_count": null,
       "_view_module": "@jupyter-widgets/base",
       "_view_module_version": "1.2.0",
       "_view_name": "StyleView",
       "description_width": ""
      }
     },
     "951097b60c2446f690bf9cb7aa32d927": {
      "model_module": "@jupyter-widgets/base",
      "model_module_version": "1.2.0",
      "model_name": "LayoutModel",
      "state": {
       "_model_module": "@jupyter-widgets/base",
       "_model_module_version": "1.2.0",
       "_model_name": "LayoutModel",
       "_view_count": null,
       "_view_module": "@jupyter-widgets/base",
       "_view_module_version": "1.2.0",
       "_view_name": "LayoutView",
       "align_content": null,
       "align_items": null,
       "align_self": null,
       "border": null,
       "bottom": null,
       "display": null,
       "flex": null,
       "flex_flow": null,
       "grid_area": null,
       "grid_auto_columns": null,
       "grid_auto_flow": null,
       "grid_auto_rows": null,
       "grid_column": null,
       "grid_gap": null,
       "grid_row": null,
       "grid_template_areas": null,
       "grid_template_columns": null,
       "grid_template_rows": null,
       "height": null,
       "justify_content": null,
       "justify_items": null,
       "left": null,
       "margin": null,
       "max_height": null,
       "max_width": null,
       "min_height": null,
       "min_width": null,
       "object_fit": null,
       "object_position": null,
       "order": null,
       "overflow": null,
       "overflow_x": null,
       "overflow_y": null,
       "padding": null,
       "right": null,
       "top": null,
       "visibility": null,
       "width": null
      }
     },
     "9547e0dbf98840beb9d33667976a9e4c": {
      "model_module": "@jupyter-widgets/controls",
      "model_module_version": "1.5.0",
      "model_name": "HTMLModel",
      "state": {
       "_dom_classes": [],
       "_model_module": "@jupyter-widgets/controls",
       "_model_module_version": "1.5.0",
       "_model_name": "HTMLModel",
       "_view_count": null,
       "_view_module": "@jupyter-widgets/controls",
       "_view_module_version": "1.5.0",
       "_view_name": "HTMLView",
       "description": "",
       "description_tooltip": null,
       "layout": "IPY_MODEL_d6882173a7df46a48c09ca373d8c32a5",
       "placeholder": "​",
       "style": "IPY_MODEL_8f859fb990434e4e84e64f743add72f3",
       "value": " 4.83M/4.83M [00:00&lt;00:00, 8.30MB/s]"
      }
     },
     "a0000b1e848741f2b7ee5fadab812dd7": {
      "model_module": "@jupyter-widgets/base",
      "model_module_version": "1.2.0",
      "model_name": "LayoutModel",
      "state": {
       "_model_module": "@jupyter-widgets/base",
       "_model_module_version": "1.2.0",
       "_model_name": "LayoutModel",
       "_view_count": null,
       "_view_module": "@jupyter-widgets/base",
       "_view_module_version": "1.2.0",
       "_view_name": "LayoutView",
       "align_content": null,
       "align_items": null,
       "align_self": null,
       "border": null,
       "bottom": null,
       "display": null,
       "flex": null,
       "flex_flow": null,
       "grid_area": null,
       "grid_auto_columns": null,
       "grid_auto_flow": null,
       "grid_auto_rows": null,
       "grid_column": null,
       "grid_gap": null,
       "grid_row": null,
       "grid_template_areas": null,
       "grid_template_columns": null,
       "grid_template_rows": null,
       "height": null,
       "justify_content": null,
       "justify_items": null,
       "left": null,
       "margin": null,
       "max_height": null,
       "max_width": null,
       "min_height": null,
       "min_width": null,
       "object_fit": null,
       "object_position": null,
       "order": null,
       "overflow": null,
       "overflow_x": null,
       "overflow_y": null,
       "padding": null,
       "right": null,
       "top": null,
       "visibility": null,
       "width": null
      }
     },
     "a4d94c40ef6c43099644a343f15db06d": {
      "model_module": "@jupyter-widgets/controls",
      "model_module_version": "1.5.0",
      "model_name": "FloatProgressModel",
      "state": {
       "_dom_classes": [],
       "_model_module": "@jupyter-widgets/controls",
       "_model_module_version": "1.5.0",
       "_model_name": "FloatProgressModel",
       "_view_count": null,
       "_view_module": "@jupyter-widgets/controls",
       "_view_module_version": "1.5.0",
       "_view_name": "ProgressView",
       "bar_style": "success",
       "description": "",
       "description_tooltip": null,
       "layout": "IPY_MODEL_de51c4a5b8fb4d0899a2f65e972bacb4",
       "max": 616.0,
       "min": 0.0,
       "orientation": "horizontal",
       "style": "IPY_MODEL_89c2a920c6a246349b318c29760f2436",
       "value": 616.0
      }
     },
     "aae9b93bbce5412abeba908d439bfaca": {
      "model_module": "@jupyter-widgets/controls",
      "model_module_version": "1.5.0",
      "model_name": "DescriptionStyleModel",
      "state": {
       "_model_module": "@jupyter-widgets/controls",
       "_model_module_version": "1.5.0",
       "_model_name": "DescriptionStyleModel",
       "_view_count": null,
       "_view_module": "@jupyter-widgets/base",
       "_view_module_version": "1.2.0",
       "_view_name": "StyleView",
       "description_width": ""
      }
     },
     "abcc12ae97fb4784b545df35d45c5a71": {
      "model_module": "@jupyter-widgets/base",
      "model_module_version": "1.2.0",
      "model_name": "LayoutModel",
      "state": {
       "_model_module": "@jupyter-widgets/base",
       "_model_module_version": "1.2.0",
       "_model_name": "LayoutModel",
       "_view_count": null,
       "_view_module": "@jupyter-widgets/base",
       "_view_module_version": "1.2.0",
       "_view_name": "LayoutView",
       "align_content": null,
       "align_items": null,
       "align_self": null,
       "border": null,
       "bottom": null,
       "display": null,
       "flex": null,
       "flex_flow": null,
       "grid_area": null,
       "grid_auto_columns": null,
       "grid_auto_flow": null,
       "grid_auto_rows": null,
       "grid_column": null,
       "grid_gap": null,
       "grid_row": null,
       "grid_template_areas": null,
       "grid_template_columns": null,
       "grid_template_rows": null,
       "height": null,
       "justify_content": null,
       "justify_items": null,
       "left": null,
       "margin": null,
       "max_height": null,
       "max_width": null,
       "min_height": null,
       "min_width": null,
       "object_fit": null,
       "object_position": null,
       "order": null,
       "overflow": null,
       "overflow_x": null,
       "overflow_y": null,
       "padding": null,
       "right": null,
       "top": null,
       "visibility": null,
       "width": null
      }
     },
     "abdddd57b35b458aa2a808810d71171f": {
      "model_module": "@jupyter-widgets/base",
      "model_module_version": "1.2.0",
      "model_name": "LayoutModel",
      "state": {
       "_model_module": "@jupyter-widgets/base",
       "_model_module_version": "1.2.0",
       "_model_name": "LayoutModel",
       "_view_count": null,
       "_view_module": "@jupyter-widgets/base",
       "_view_module_version": "1.2.0",
       "_view_name": "LayoutView",
       "align_content": null,
       "align_items": null,
       "align_self": null,
       "border": null,
       "bottom": null,
       "display": null,
       "flex": null,
       "flex_flow": null,
       "grid_area": null,
       "grid_auto_columns": null,
       "grid_auto_flow": null,
       "grid_auto_rows": null,
       "grid_column": null,
       "grid_gap": null,
       "grid_row": null,
       "grid_template_areas": null,
       "grid_template_columns": null,
       "grid_template_rows": null,
       "height": null,
       "justify_content": null,
       "justify_items": null,
       "left": null,
       "margin": null,
       "max_height": null,
       "max_width": null,
       "min_height": null,
       "min_width": null,
       "object_fit": null,
       "object_position": null,
       "order": null,
       "overflow": null,
       "overflow_x": null,
       "overflow_y": null,
       "padding": null,
       "right": null,
       "top": null,
       "visibility": null,
       "width": null
      }
     },
     "ad1d57c683f94673aa410122b78e6cc0": {
      "model_module": "@jupyter-widgets/base",
      "model_module_version": "1.2.0",
      "model_name": "LayoutModel",
      "state": {
       "_model_module": "@jupyter-widgets/base",
       "_model_module_version": "1.2.0",
       "_model_name": "LayoutModel",
       "_view_count": null,
       "_view_module": "@jupyter-widgets/base",
       "_view_module_version": "1.2.0",
       "_view_name": "LayoutView",
       "align_content": null,
       "align_items": null,
       "align_self": null,
       "border": null,
       "bottom": null,
       "display": null,
       "flex": null,
       "flex_flow": null,
       "grid_area": null,
       "grid_auto_columns": null,
       "grid_auto_flow": null,
       "grid_auto_rows": null,
       "grid_column": null,
       "grid_gap": null,
       "grid_row": null,
       "grid_template_areas": null,
       "grid_template_columns": null,
       "grid_template_rows": null,
       "height": null,
       "justify_content": null,
       "justify_items": null,
       "left": null,
       "margin": null,
       "max_height": null,
       "max_width": null,
       "min_height": null,
       "min_width": null,
       "object_fit": null,
       "object_position": null,
       "order": null,
       "overflow": null,
       "overflow_x": null,
       "overflow_y": null,
       "padding": null,
       "right": null,
       "top": null,
       "visibility": null,
       "width": null
      }
     },
     "b8f4e5dbace8422d8d8d1163cd134de3": {
      "model_module": "@jupyter-widgets/base",
      "model_module_version": "1.2.0",
      "model_name": "LayoutModel",
      "state": {
       "_model_module": "@jupyter-widgets/base",
       "_model_module_version": "1.2.0",
       "_model_name": "LayoutModel",
       "_view_count": null,
       "_view_module": "@jupyter-widgets/base",
       "_view_module_version": "1.2.0",
       "_view_name": "LayoutView",
       "align_content": null,
       "align_items": null,
       "align_self": null,
       "border": null,
       "bottom": null,
       "display": null,
       "flex": null,
       "flex_flow": null,
       "grid_area": null,
       "grid_auto_columns": null,
       "grid_auto_flow": null,
       "grid_auto_rows": null,
       "grid_column": null,
       "grid_gap": null,
       "grid_row": null,
       "grid_template_areas": null,
       "grid_template_columns": null,
       "grid_template_rows": null,
       "height": null,
       "justify_content": null,
       "justify_items": null,
       "left": null,
       "margin": null,
       "max_height": null,
       "max_width": null,
       "min_height": null,
       "min_width": null,
       "object_fit": null,
       "object_position": null,
       "order": null,
       "overflow": null,
       "overflow_x": null,
       "overflow_y": null,
       "padding": null,
       "right": null,
       "top": null,
       "visibility": null,
       "width": null
      }
     },
     "bff654fc39ce477f96148c0c35a0a031": {
      "model_module": "@jupyter-widgets/base",
      "model_module_version": "1.2.0",
      "model_name": "LayoutModel",
      "state": {
       "_model_module": "@jupyter-widgets/base",
       "_model_module_version": "1.2.0",
       "_model_name": "LayoutModel",
       "_view_count": null,
       "_view_module": "@jupyter-widgets/base",
       "_view_module_version": "1.2.0",
       "_view_name": "LayoutView",
       "align_content": null,
       "align_items": null,
       "align_self": null,
       "border": null,
       "bottom": null,
       "display": null,
       "flex": null,
       "flex_flow": null,
       "grid_area": null,
       "grid_auto_columns": null,
       "grid_auto_flow": null,
       "grid_auto_rows": null,
       "grid_column": null,
       "grid_gap": null,
       "grid_row": null,
       "grid_template_areas": null,
       "grid_template_columns": null,
       "grid_template_rows": null,
       "height": null,
       "justify_content": null,
       "justify_items": null,
       "left": null,
       "margin": null,
       "max_height": null,
       "max_width": null,
       "min_height": null,
       "min_width": null,
       "object_fit": null,
       "object_position": null,
       "order": null,
       "overflow": null,
       "overflow_x": null,
       "overflow_y": null,
       "padding": null,
       "right": null,
       "top": null,
       "visibility": null,
       "width": null
      }
     },
     "d0407cd0fec44a7da1d4fc9e0cf922fb": {
      "model_module": "@jupyter-widgets/controls",
      "model_module_version": "1.5.0",
      "model_name": "HTMLModel",
      "state": {
       "_dom_classes": [],
       "_model_module": "@jupyter-widgets/controls",
       "_model_module_version": "1.5.0",
       "_model_name": "HTMLModel",
       "_view_count": null,
       "_view_module": "@jupyter-widgets/controls",
       "_view_module_version": "1.5.0",
       "_view_name": "HTMLView",
       "description": "",
       "description_tooltip": null,
       "layout": "IPY_MODEL_697a8f0928ea4f168227507606d10f1b",
       "placeholder": "​",
       "style": "IPY_MODEL_918432fd81984204bf218936d07380fd",
       "value": " 2.24G/2.24G [01:11&lt;00:00, 34.1MB/s]"
      }
     },
     "d0c7835b49134d3a8830882cfaf91661": {
      "model_module": "@jupyter-widgets/controls",
      "model_module_version": "1.5.0",
      "model_name": "DescriptionStyleModel",
      "state": {
       "_model_module": "@jupyter-widgets/controls",
       "_model_module_version": "1.5.0",
       "_model_name": "DescriptionStyleModel",
       "_view_count": null,
       "_view_module": "@jupyter-widgets/base",
       "_view_module_version": "1.2.0",
       "_view_name": "StyleView",
       "description_width": ""
      }
     },
     "d519b90c7ddc4e63bb1662e97c5e104c": {
      "model_module": "@jupyter-widgets/base",
      "model_module_version": "1.2.0",
      "model_name": "LayoutModel",
      "state": {
       "_model_module": "@jupyter-widgets/base",
       "_model_module_version": "1.2.0",
       "_model_name": "LayoutModel",
       "_view_count": null,
       "_view_module": "@jupyter-widgets/base",
       "_view_module_version": "1.2.0",
       "_view_name": "LayoutView",
       "align_content": null,
       "align_items": null,
       "align_self": null,
       "border": null,
       "bottom": null,
       "display": null,
       "flex": null,
       "flex_flow": null,
       "grid_area": null,
       "grid_auto_columns": null,
       "grid_auto_flow": null,
       "grid_auto_rows": null,
       "grid_column": null,
       "grid_gap": null,
       "grid_row": null,
       "grid_template_areas": null,
       "grid_template_columns": null,
       "grid_template_rows": null,
       "height": null,
       "justify_content": null,
       "justify_items": null,
       "left": null,
       "margin": null,
       "max_height": null,
       "max_width": null,
       "min_height": null,
       "min_width": null,
       "object_fit": null,
       "object_position": null,
       "order": null,
       "overflow": null,
       "overflow_x": null,
       "overflow_y": null,
       "padding": null,
       "right": null,
       "top": null,
       "visibility": null,
       "width": null
      }
     },
     "d55782e887ba4244aeea351d66491056": {
      "model_module": "@jupyter-widgets/base",
      "model_module_version": "1.2.0",
      "model_name": "LayoutModel",
      "state": {
       "_model_module": "@jupyter-widgets/base",
       "_model_module_version": "1.2.0",
       "_model_name": "LayoutModel",
       "_view_count": null,
       "_view_module": "@jupyter-widgets/base",
       "_view_module_version": "1.2.0",
       "_view_name": "LayoutView",
       "align_content": null,
       "align_items": null,
       "align_self": null,
       "border": null,
       "bottom": null,
       "display": null,
       "flex": null,
       "flex_flow": null,
       "grid_area": null,
       "grid_auto_columns": null,
       "grid_auto_flow": null,
       "grid_auto_rows": null,
       "grid_column": null,
       "grid_gap": null,
       "grid_row": null,
       "grid_template_areas": null,
       "grid_template_columns": null,
       "grid_template_rows": null,
       "height": null,
       "justify_content": null,
       "justify_items": null,
       "left": null,
       "margin": null,
       "max_height": null,
       "max_width": null,
       "min_height": null,
       "min_width": null,
       "object_fit": null,
       "object_position": null,
       "order": null,
       "overflow": null,
       "overflow_x": null,
       "overflow_y": null,
       "padding": null,
       "right": null,
       "top": null,
       "visibility": null,
       "width": null
      }
     },
     "d6140b88dc3249a9a893539c3ccfa90d": {
      "model_module": "@jupyter-widgets/controls",
      "model_module_version": "1.5.0",
      "model_name": "ProgressStyleModel",
      "state": {
       "_model_module": "@jupyter-widgets/controls",
       "_model_module_version": "1.5.0",
       "_model_name": "ProgressStyleModel",
       "_view_count": null,
       "_view_module": "@jupyter-widgets/base",
       "_view_module_version": "1.2.0",
       "_view_name": "StyleView",
       "bar_color": null,
       "description_width": ""
      }
     },
     "d6882173a7df46a48c09ca373d8c32a5": {
      "model_module": "@jupyter-widgets/base",
      "model_module_version": "1.2.0",
      "model_name": "LayoutModel",
      "state": {
       "_model_module": "@jupyter-widgets/base",
       "_model_module_version": "1.2.0",
       "_model_name": "LayoutModel",
       "_view_count": null,
       "_view_module": "@jupyter-widgets/base",
       "_view_module_version": "1.2.0",
       "_view_name": "LayoutView",
       "align_content": null,
       "align_items": null,
       "align_self": null,
       "border": null,
       "bottom": null,
       "display": null,
       "flex": null,
       "flex_flow": null,
       "grid_area": null,
       "grid_auto_columns": null,
       "grid_auto_flow": null,
       "grid_auto_rows": null,
       "grid_column": null,
       "grid_gap": null,
       "grid_row": null,
       "grid_template_areas": null,
       "grid_template_columns": null,
       "grid_template_rows": null,
       "height": null,
       "justify_content": null,
       "justify_items": null,
       "left": null,
       "margin": null,
       "max_height": null,
       "max_width": null,
       "min_height": null,
       "min_width": null,
       "object_fit": null,
       "object_position": null,
       "order": null,
       "overflow": null,
       "overflow_x": null,
       "overflow_y": null,
       "padding": null,
       "right": null,
       "top": null,
       "visibility": null,
       "width": null
      }
     },
     "d85586f2bb864ae989a7c2d6d1c630a6": {
      "model_module": "@jupyter-widgets/controls",
      "model_module_version": "1.5.0",
      "model_name": "HTMLModel",
      "state": {
       "_dom_classes": [],
       "_model_module": "@jupyter-widgets/controls",
       "_model_module_version": "1.5.0",
       "_model_name": "HTMLModel",
       "_view_count": null,
       "_view_module": "@jupyter-widgets/controls",
       "_view_module_version": "1.5.0",
       "_view_name": "HTMLView",
       "description": "",
       "description_tooltip": null,
       "layout": "IPY_MODEL_ad1d57c683f94673aa410122b78e6cc0",
       "placeholder": "​",
       "style": "IPY_MODEL_12ec841dc2614d80a5438b5580eaba87",
       "value": " 2.24G/2.24G [01:10&lt;00:00, 37.0MB/s]"
      }
     },
     "d85e23137ac54e38900c531dc0cb006b": {
      "model_module": "@jupyter-widgets/controls",
      "model_module_version": "1.5.0",
      "model_name": "HTMLModel",
      "state": {
       "_dom_classes": [],
       "_model_module": "@jupyter-widgets/controls",
       "_model_module_version": "1.5.0",
       "_model_name": "HTMLModel",
       "_view_count": null,
       "_view_module": "@jupyter-widgets/controls",
       "_view_module_version": "1.5.0",
       "_view_name": "HTMLView",
       "description": "",
       "description_tooltip": null,
       "layout": "IPY_MODEL_6769c61c26774b8f88035f3d882b5260",
       "placeholder": "​",
       "style": "IPY_MODEL_91427ddbb5654d91a86b85f18f84d66b",
       "value": " 8.68M/8.68M [00:00&lt;00:00, 15.6MB/s]"
      }
     },
     "dc2e877ab3814cc6b807525f8d453f82": {
      "model_module": "@jupyter-widgets/controls",
      "model_module_version": "1.5.0",
      "model_name": "HTMLModel",
      "state": {
       "_dom_classes": [],
       "_model_module": "@jupyter-widgets/controls",
       "_model_module_version": "1.5.0",
       "_model_name": "HTMLModel",
       "_view_count": null,
       "_view_module": "@jupyter-widgets/controls",
       "_view_module_version": "1.5.0",
       "_view_name": "HTMLView",
       "description": "",
       "description_tooltip": null,
       "layout": "IPY_MODEL_f001dff83f8545df8ec1a048eaff4516",
       "placeholder": "​",
       "style": "IPY_MODEL_aae9b93bbce5412abeba908d439bfaca",
       "value": "Downloading: 100%"
      }
     },
     "dd722d2c2ddf482596952701ce1246c5": {
      "model_module": "@jupyter-widgets/controls",
      "model_module_version": "1.5.0",
      "model_name": "DescriptionStyleModel",
      "state": {
       "_model_module": "@jupyter-widgets/controls",
       "_model_module_version": "1.5.0",
       "_model_name": "DescriptionStyleModel",
       "_view_count": null,
       "_view_module": "@jupyter-widgets/base",
       "_view_module_version": "1.2.0",
       "_view_name": "StyleView",
       "description_width": ""
      }
     },
     "de0c8f3add40451baef32c67c9d4cfb5": {
      "model_module": "@jupyter-widgets/controls",
      "model_module_version": "1.5.0",
      "model_name": "HBoxModel",
      "state": {
       "_dom_classes": [],
       "_model_module": "@jupyter-widgets/controls",
       "_model_module_version": "1.5.0",
       "_model_name": "HBoxModel",
       "_view_count": null,
       "_view_module": "@jupyter-widgets/controls",
       "_view_module_version": "1.5.0",
       "_view_name": "HBoxView",
       "box_style": "",
       "children": [
        "IPY_MODEL_dc2e877ab3814cc6b807525f8d453f82",
        "IPY_MODEL_a4d94c40ef6c43099644a343f15db06d",
        "IPY_MODEL_34b6c7961fe945818eb56bbcdc6b1c30"
       ],
       "layout": "IPY_MODEL_d55782e887ba4244aeea351d66491056"
      }
     },
     "de51c4a5b8fb4d0899a2f65e972bacb4": {
      "model_module": "@jupyter-widgets/base",
      "model_module_version": "1.2.0",
      "model_name": "LayoutModel",
      "state": {
       "_model_module": "@jupyter-widgets/base",
       "_model_module_version": "1.2.0",
       "_model_name": "LayoutModel",
       "_view_count": null,
       "_view_module": "@jupyter-widgets/base",
       "_view_module_version": "1.2.0",
       "_view_name": "LayoutView",
       "align_content": null,
       "align_items": null,
       "align_self": null,
       "border": null,
       "bottom": null,
       "display": null,
       "flex": null,
       "flex_flow": null,
       "grid_area": null,
       "grid_auto_columns": null,
       "grid_auto_flow": null,
       "grid_auto_rows": null,
       "grid_column": null,
       "grid_gap": null,
       "grid_row": null,
       "grid_template_areas": null,
       "grid_template_columns": null,
       "grid_template_rows": null,
       "height": null,
       "justify_content": null,
       "justify_items": null,
       "left": null,
       "margin": null,
       "max_height": null,
       "max_width": null,
       "min_height": null,
       "min_width": null,
       "object_fit": null,
       "object_position": null,
       "order": null,
       "overflow": null,
       "overflow_x": null,
       "overflow_y": null,
       "padding": null,
       "right": null,
       "top": null,
       "visibility": null,
       "width": null
      }
     },
     "e5786b716d2145e6accb42959e878aa5": {
      "model_module": "@jupyter-widgets/controls",
      "model_module_version": "1.5.0",
      "model_name": "FloatProgressModel",
      "state": {
       "_dom_classes": [],
       "_model_module": "@jupyter-widgets/controls",
       "_model_module_version": "1.5.0",
       "_model_name": "FloatProgressModel",
       "_view_count": null,
       "_view_module": "@jupyter-widgets/controls",
       "_view_module_version": "1.5.0",
       "_view_name": "ProgressView",
       "bar_style": "success",
       "description": "",
       "description_tooltip": null,
       "layout": "IPY_MODEL_951097b60c2446f690bf9cb7aa32d927",
       "max": 2239866761.0,
       "min": 0.0,
       "orientation": "horizontal",
       "style": "IPY_MODEL_449a247fee7941f9bf937690b8284fba",
       "value": 2239866761.0
      }
     },
     "e6957f909eca44bdaf793f575dd88c4d": {
      "model_module": "@jupyter-widgets/base",
      "model_module_version": "1.2.0",
      "model_name": "LayoutModel",
      "state": {
       "_model_module": "@jupyter-widgets/base",
       "_model_module_version": "1.2.0",
       "_model_name": "LayoutModel",
       "_view_count": null,
       "_view_module": "@jupyter-widgets/base",
       "_view_module_version": "1.2.0",
       "_view_name": "LayoutView",
       "align_content": null,
       "align_items": null,
       "align_self": null,
       "border": null,
       "bottom": null,
       "display": null,
       "flex": null,
       "flex_flow": null,
       "grid_area": null,
       "grid_auto_columns": null,
       "grid_auto_flow": null,
       "grid_auto_rows": null,
       "grid_column": null,
       "grid_gap": null,
       "grid_row": null,
       "grid_template_areas": null,
       "grid_template_columns": null,
       "grid_template_rows": null,
       "height": null,
       "justify_content": null,
       "justify_items": null,
       "left": null,
       "margin": null,
       "max_height": null,
       "max_width": null,
       "min_height": null,
       "min_width": null,
       "object_fit": null,
       "object_position": null,
       "order": null,
       "overflow": null,
       "overflow_x": null,
       "overflow_y": null,
       "padding": null,
       "right": null,
       "top": null,
       "visibility": null,
       "width": null
      }
     },
     "ed8cd69bdaf54dc486e9b53ea4b8c343": {
      "model_module": "@jupyter-widgets/controls",
      "model_module_version": "1.5.0",
      "model_name": "FloatProgressModel",
      "state": {
       "_dom_classes": [],
       "_model_module": "@jupyter-widgets/controls",
       "_model_module_version": "1.5.0",
       "_model_name": "FloatProgressModel",
       "_view_count": null,
       "_view_module": "@jupyter-widgets/controls",
       "_view_module_version": "1.5.0",
       "_view_name": "ProgressView",
       "bar_style": "success",
       "description": "",
       "description_tooltip": null,
       "layout": "IPY_MODEL_e6957f909eca44bdaf793f575dd88c4d",
       "max": 9096718.0,
       "min": 0.0,
       "orientation": "horizontal",
       "style": "IPY_MODEL_83ca5184d1c44f3394317216bafd6b9d",
       "value": 9096718.0
      }
     },
     "f001dff83f8545df8ec1a048eaff4516": {
      "model_module": "@jupyter-widgets/base",
      "model_module_version": "1.2.0",
      "model_name": "LayoutModel",
      "state": {
       "_model_module": "@jupyter-widgets/base",
       "_model_module_version": "1.2.0",
       "_model_name": "LayoutModel",
       "_view_count": null,
       "_view_module": "@jupyter-widgets/base",
       "_view_module_version": "1.2.0",
       "_view_name": "LayoutView",
       "align_content": null,
       "align_items": null,
       "align_self": null,
       "border": null,
       "bottom": null,
       "display": null,
       "flex": null,
       "flex_flow": null,
       "grid_area": null,
       "grid_auto_columns": null,
       "grid_auto_flow": null,
       "grid_auto_rows": null,
       "grid_column": null,
       "grid_gap": null,
       "grid_row": null,
       "grid_template_areas": null,
       "grid_template_columns": null,
       "grid_template_rows": null,
       "height": null,
       "justify_content": null,
       "justify_items": null,
       "left": null,
       "margin": null,
       "max_height": null,
       "max_width": null,
       "min_height": null,
       "min_width": null,
       "object_fit": null,
       "object_position": null,
       "order": null,
       "overflow": null,
       "overflow_x": null,
       "overflow_y": null,
       "padding": null,
       "right": null,
       "top": null,
       "visibility": null,
       "width": null
      }
     },
     "f7a382b1f7454459ba240e869d2cb243": {
      "model_module": "@jupyter-widgets/controls",
      "model_module_version": "1.5.0",
      "model_name": "HTMLModel",
      "state": {
       "_dom_classes": [],
       "_model_module": "@jupyter-widgets/controls",
       "_model_module_version": "1.5.0",
       "_model_name": "HTMLModel",
       "_view_count": null,
       "_view_module": "@jupyter-widgets/controls",
       "_view_module_version": "1.5.0",
       "_view_name": "HTMLView",
       "description": "",
       "description_tooltip": null,
       "layout": "IPY_MODEL_1cfe3481cd7a4bd3ab9e69ad470d6331",
       "placeholder": "​",
       "style": "IPY_MODEL_22dae827b1b34bd490ac84e9f7006d53",
       "value": "Downloading: 100%"
      }
     },
     "fe621279631a4c52a92cfa35f51ac971": {
      "model_module": "@jupyter-widgets/controls",
      "model_module_version": "1.5.0",
      "model_name": "HTMLModel",
      "state": {
       "_dom_classes": [],
       "_model_module": "@jupyter-widgets/controls",
       "_model_module_version": "1.5.0",
       "_model_name": "HTMLModel",
       "_view_count": null,
       "_view_module": "@jupyter-widgets/controls",
       "_view_module_version": "1.5.0",
       "_view_name": "HTMLView",
       "description": "",
       "description_tooltip": null,
       "layout": "IPY_MODEL_abdddd57b35b458aa2a808810d71171f",
       "placeholder": "​",
       "style": "IPY_MODEL_109778a5a55a4b3c877bca55fb7fcbdf",
       "value": "Downloading: 100%"
      }
     }
    },
    "version_major": 2,
    "version_minor": 0
   }
  }
 },
 "nbformat": 4,
 "nbformat_minor": 5
}
