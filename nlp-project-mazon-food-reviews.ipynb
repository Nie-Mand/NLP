{
 "cells": [
  {
   "cell_type": "markdown",
   "id": "fac2c89a",
   "metadata": {
    "_cell_guid": "b1076dfc-b9ad-4769-8c92-a6c4dae69d19",
    "_uuid": "8f2839f25d086af736a60e9eeb907d3b93b6e0e5",
    "execution": {
     "iopub.execute_input": "2022-04-28T00:22:12.374273Z",
     "iopub.status.busy": "2022-04-28T00:22:12.373661Z",
     "iopub.status.idle": "2022-04-28T00:22:20.040425Z",
     "shell.execute_reply": "2022-04-28T00:22:20.039418Z",
     "shell.execute_reply.started": "2022-04-28T00:22:12.374171Z"
    },
    "papermill": {
     "duration": 0.039362,
     "end_time": "2022-04-29T02:58:44.270989",
     "exception": false,
     "start_time": "2022-04-29T02:58:44.231627",
     "status": "completed"
    },
    "tags": []
   },
   "source": [
    "# Reference :\n",
    "https://www.kaggle.com/code/mahmoudlimam/basic-nlp-text-classification"
   ]
  },
  {
   "cell_type": "code",
   "execution_count": 1,
   "id": "f3ae45d4",
   "metadata": {
    "execution": {
     "iopub.execute_input": "2022-04-29T02:58:44.354535Z",
     "iopub.status.busy": "2022-04-29T02:58:44.353033Z",
     "iopub.status.idle": "2022-04-29T02:58:50.799986Z",
     "shell.execute_reply": "2022-04-29T02:58:50.799358Z",
     "shell.execute_reply.started": "2022-04-29T02:50:13.705356Z"
    },
    "papermill": {
     "duration": 6.488826,
     "end_time": "2022-04-29T02:58:50.800149",
     "exception": false,
     "start_time": "2022-04-29T02:58:44.311323",
     "status": "completed"
    },
    "tags": []
   },
   "outputs": [],
   "source": [
    "\n",
    "import numpy as np\n",
    "import pandas as pd \n",
    "from tqdm import tqdm\n",
    "import seaborn as sns\n",
    "import matplotlib.pyplot as plt \n",
    "from tensorflow import keras \n",
    "from keras.preprocessing.text import Tokenizer\n",
    "from nltk.corpus import stopwords\n",
    "import string\n",
    "from tensorflow.keras.models import Sequential,Model\n",
    "from tensorflow.keras.layers import Dense, LSTM, Embedding,Dropout,SpatialDropout1D,Conv1D,MaxPooling1D,GRU,BatchNormalization\n",
    "from tensorflow.keras.layers import Input,Bidirectional,GlobalAveragePooling1D,GlobalMaxPooling1D,concatenate,LeakyReLU\n",
    "from tensorflow.keras import regularizers\n",
    "from tensorflow.keras import backend as K\n",
    "from keras.preprocessing import sequence\n",
    "import warnings\n",
    "warnings.filterwarnings('ignore')"
   ]
  },
  {
   "cell_type": "code",
   "execution_count": 2,
   "id": "e0bc5124",
   "metadata": {
    "execution": {
     "iopub.execute_input": "2022-04-29T02:58:50.883445Z",
     "iopub.status.busy": "2022-04-29T02:58:50.882874Z",
     "iopub.status.idle": "2022-04-29T02:58:57.718801Z",
     "shell.execute_reply": "2022-04-29T02:58:57.718330Z",
     "shell.execute_reply.started": "2022-04-29T02:50:13.733608Z"
    },
    "papermill": {
     "duration": 6.878144,
     "end_time": "2022-04-29T02:58:57.718987",
     "exception": false,
     "start_time": "2022-04-29T02:58:50.840843",
     "status": "completed"
    },
    "tags": []
   },
   "outputs": [],
   "source": [
    "data=pd.read_csv(\"../input/amazon-fine-food-reviews/Reviews.csv\")"
   ]
  },
  {
   "cell_type": "code",
   "execution_count": 3,
   "id": "1874ca57",
   "metadata": {
    "execution": {
     "iopub.execute_input": "2022-04-29T02:58:57.821590Z",
     "iopub.status.busy": "2022-04-29T02:58:57.820057Z",
     "iopub.status.idle": "2022-04-29T02:58:57.847099Z",
     "shell.execute_reply": "2022-04-29T02:58:57.846233Z",
     "shell.execute_reply.started": "2022-04-29T02:50:17.452050Z"
    },
    "papermill": {
     "duration": 0.088972,
     "end_time": "2022-04-29T02:58:57.847216",
     "exception": false,
     "start_time": "2022-04-29T02:58:57.758244",
     "status": "completed"
    },
    "tags": []
   },
   "outputs": [
    {
     "data": {
      "text/html": [
       "<div>\n",
       "<style scoped>\n",
       "    .dataframe tbody tr th:only-of-type {\n",
       "        vertical-align: middle;\n",
       "    }\n",
       "\n",
       "    .dataframe tbody tr th {\n",
       "        vertical-align: top;\n",
       "    }\n",
       "\n",
       "    .dataframe thead th {\n",
       "        text-align: right;\n",
       "    }\n",
       "</style>\n",
       "<table border=\"1\" class=\"dataframe\">\n",
       "  <thead>\n",
       "    <tr style=\"text-align: right;\">\n",
       "      <th></th>\n",
       "      <th>Id</th>\n",
       "      <th>ProductId</th>\n",
       "      <th>UserId</th>\n",
       "      <th>ProfileName</th>\n",
       "      <th>HelpfulnessNumerator</th>\n",
       "      <th>HelpfulnessDenominator</th>\n",
       "      <th>Score</th>\n",
       "      <th>Time</th>\n",
       "      <th>Summary</th>\n",
       "      <th>Text</th>\n",
       "    </tr>\n",
       "  </thead>\n",
       "  <tbody>\n",
       "    <tr>\n",
       "      <th>0</th>\n",
       "      <td>1</td>\n",
       "      <td>B001E4KFG0</td>\n",
       "      <td>A3SGXH7AUHU8GW</td>\n",
       "      <td>delmartian</td>\n",
       "      <td>1</td>\n",
       "      <td>1</td>\n",
       "      <td>5</td>\n",
       "      <td>1303862400</td>\n",
       "      <td>Good Quality Dog Food</td>\n",
       "      <td>I have bought several of the Vitality canned d...</td>\n",
       "    </tr>\n",
       "    <tr>\n",
       "      <th>1</th>\n",
       "      <td>2</td>\n",
       "      <td>B00813GRG4</td>\n",
       "      <td>A1D87F6ZCVE5NK</td>\n",
       "      <td>dll pa</td>\n",
       "      <td>0</td>\n",
       "      <td>0</td>\n",
       "      <td>1</td>\n",
       "      <td>1346976000</td>\n",
       "      <td>Not as Advertised</td>\n",
       "      <td>Product arrived labeled as Jumbo Salted Peanut...</td>\n",
       "    </tr>\n",
       "    <tr>\n",
       "      <th>2</th>\n",
       "      <td>3</td>\n",
       "      <td>B000LQOCH0</td>\n",
       "      <td>ABXLMWJIXXAIN</td>\n",
       "      <td>Natalia Corres \"Natalia Corres\"</td>\n",
       "      <td>1</td>\n",
       "      <td>1</td>\n",
       "      <td>4</td>\n",
       "      <td>1219017600</td>\n",
       "      <td>\"Delight\" says it all</td>\n",
       "      <td>This is a confection that has been around a fe...</td>\n",
       "    </tr>\n",
       "    <tr>\n",
       "      <th>3</th>\n",
       "      <td>4</td>\n",
       "      <td>B000UA0QIQ</td>\n",
       "      <td>A395BORC6FGVXV</td>\n",
       "      <td>Karl</td>\n",
       "      <td>3</td>\n",
       "      <td>3</td>\n",
       "      <td>2</td>\n",
       "      <td>1307923200</td>\n",
       "      <td>Cough Medicine</td>\n",
       "      <td>If you are looking for the secret ingredient i...</td>\n",
       "    </tr>\n",
       "    <tr>\n",
       "      <th>4</th>\n",
       "      <td>5</td>\n",
       "      <td>B006K2ZZ7K</td>\n",
       "      <td>A1UQRSCLF8GW1T</td>\n",
       "      <td>Michael D. Bigham \"M. Wassir\"</td>\n",
       "      <td>0</td>\n",
       "      <td>0</td>\n",
       "      <td>5</td>\n",
       "      <td>1350777600</td>\n",
       "      <td>Great taffy</td>\n",
       "      <td>Great taffy at a great price.  There was a wid...</td>\n",
       "    </tr>\n",
       "  </tbody>\n",
       "</table>\n",
       "</div>"
      ],
      "text/plain": [
       "   Id   ProductId          UserId                      ProfileName  \\\n",
       "0   1  B001E4KFG0  A3SGXH7AUHU8GW                       delmartian   \n",
       "1   2  B00813GRG4  A1D87F6ZCVE5NK                           dll pa   \n",
       "2   3  B000LQOCH0   ABXLMWJIXXAIN  Natalia Corres \"Natalia Corres\"   \n",
       "3   4  B000UA0QIQ  A395BORC6FGVXV                             Karl   \n",
       "4   5  B006K2ZZ7K  A1UQRSCLF8GW1T    Michael D. Bigham \"M. Wassir\"   \n",
       "\n",
       "   HelpfulnessNumerator  HelpfulnessDenominator  Score        Time  \\\n",
       "0                     1                       1      5  1303862400   \n",
       "1                     0                       0      1  1346976000   \n",
       "2                     1                       1      4  1219017600   \n",
       "3                     3                       3      2  1307923200   \n",
       "4                     0                       0      5  1350777600   \n",
       "\n",
       "                 Summary                                               Text  \n",
       "0  Good Quality Dog Food  I have bought several of the Vitality canned d...  \n",
       "1      Not as Advertised  Product arrived labeled as Jumbo Salted Peanut...  \n",
       "2  \"Delight\" says it all  This is a confection that has been around a fe...  \n",
       "3         Cough Medicine  If you are looking for the secret ingredient i...  \n",
       "4            Great taffy  Great taffy at a great price.  There was a wid...  "
      ]
     },
     "execution_count": 3,
     "metadata": {},
     "output_type": "execute_result"
    }
   ],
   "source": [
    "data.head()"
   ]
  },
  {
   "cell_type": "code",
   "execution_count": 4,
   "id": "dea92697",
   "metadata": {
    "execution": {
     "iopub.execute_input": "2022-04-29T02:58:57.983252Z",
     "iopub.status.busy": "2022-04-29T02:58:57.982438Z",
     "iopub.status.idle": "2022-04-29T02:58:57.985480Z",
     "shell.execute_reply": "2022-04-29T02:58:57.986212Z",
     "shell.execute_reply.started": "2022-04-29T02:50:17.468032Z"
    },
    "papermill": {
     "duration": 0.083598,
     "end_time": "2022-04-29T02:58:57.986425",
     "exception": false,
     "start_time": "2022-04-29T02:58:57.902827",
     "status": "completed"
    },
    "tags": []
   },
   "outputs": [
    {
     "data": {
      "text/plain": [
       "(568454, 10)"
      ]
     },
     "execution_count": 4,
     "metadata": {},
     "output_type": "execute_result"
    }
   ],
   "source": [
    "data.shape"
   ]
  },
  {
   "cell_type": "code",
   "execution_count": 5,
   "id": "74582195",
   "metadata": {
    "execution": {
     "iopub.execute_input": "2022-04-29T02:58:58.122670Z",
     "iopub.status.busy": "2022-04-29T02:58:58.121999Z",
     "iopub.status.idle": "2022-04-29T02:58:58.341795Z",
     "shell.execute_reply": "2022-04-29T02:58:58.342838Z",
     "shell.execute_reply.started": "2022-04-29T02:50:17.477773Z"
    },
    "papermill": {
     "duration": 0.292897,
     "end_time": "2022-04-29T02:58:58.343058",
     "exception": false,
     "start_time": "2022-04-29T02:58:58.050161",
     "status": "completed"
    },
    "tags": []
   },
   "outputs": [
    {
     "data": {
      "text/plain": [
       "295742"
      ]
     },
     "execution_count": 5,
     "metadata": {},
     "output_type": "execute_result"
    }
   ],
   "source": [
    "data[\"Summary\"].nunique()\n"
   ]
  },
  {
   "cell_type": "code",
   "execution_count": 6,
   "id": "0c491d62",
   "metadata": {
    "execution": {
     "iopub.execute_input": "2022-04-29T02:58:58.452641Z",
     "iopub.status.busy": "2022-04-29T02:58:58.451884Z",
     "iopub.status.idle": "2022-04-29T02:58:58.454406Z",
     "shell.execute_reply": "2022-04-29T02:58:58.453976Z",
     "shell.execute_reply.started": "2022-04-29T02:50:17.638704Z"
    },
    "papermill": {
     "duration": 0.046622,
     "end_time": "2022-04-29T02:58:58.454514",
     "exception": false,
     "start_time": "2022-04-29T02:58:58.407892",
     "status": "completed"
    },
    "tags": []
   },
   "outputs": [],
   "source": [
    "data.columns = data.columns.str.lower()"
   ]
  },
  {
   "cell_type": "code",
   "execution_count": 7,
   "id": "e10dacb3",
   "metadata": {
    "execution": {
     "iopub.execute_input": "2022-04-29T02:58:58.545816Z",
     "iopub.status.busy": "2022-04-29T02:58:58.545312Z",
     "iopub.status.idle": "2022-04-29T02:58:58.549903Z",
     "shell.execute_reply": "2022-04-29T02:58:58.550316Z",
     "shell.execute_reply.started": "2022-04-29T02:50:17.645218Z"
    },
    "papermill": {
     "duration": 0.055771,
     "end_time": "2022-04-29T02:58:58.550442",
     "exception": false,
     "start_time": "2022-04-29T02:58:58.494671",
     "status": "completed"
    },
    "tags": []
   },
   "outputs": [
    {
     "data": {
      "text/html": [
       "<div>\n",
       "<style scoped>\n",
       "    .dataframe tbody tr th:only-of-type {\n",
       "        vertical-align: middle;\n",
       "    }\n",
       "\n",
       "    .dataframe tbody tr th {\n",
       "        vertical-align: top;\n",
       "    }\n",
       "\n",
       "    .dataframe thead th {\n",
       "        text-align: right;\n",
       "    }\n",
       "</style>\n",
       "<table border=\"1\" class=\"dataframe\">\n",
       "  <thead>\n",
       "    <tr style=\"text-align: right;\">\n",
       "      <th></th>\n",
       "      <th>id</th>\n",
       "      <th>productid</th>\n",
       "      <th>userid</th>\n",
       "      <th>profilename</th>\n",
       "      <th>helpfulnessnumerator</th>\n",
       "      <th>helpfulnessdenominator</th>\n",
       "      <th>score</th>\n",
       "      <th>time</th>\n",
       "      <th>summary</th>\n",
       "      <th>text</th>\n",
       "    </tr>\n",
       "  </thead>\n",
       "  <tbody>\n",
       "    <tr>\n",
       "      <th>0</th>\n",
       "      <td>1</td>\n",
       "      <td>B001E4KFG0</td>\n",
       "      <td>A3SGXH7AUHU8GW</td>\n",
       "      <td>delmartian</td>\n",
       "      <td>1</td>\n",
       "      <td>1</td>\n",
       "      <td>5</td>\n",
       "      <td>1303862400</td>\n",
       "      <td>Good Quality Dog Food</td>\n",
       "      <td>I have bought several of the Vitality canned d...</td>\n",
       "    </tr>\n",
       "    <tr>\n",
       "      <th>1</th>\n",
       "      <td>2</td>\n",
       "      <td>B00813GRG4</td>\n",
       "      <td>A1D87F6ZCVE5NK</td>\n",
       "      <td>dll pa</td>\n",
       "      <td>0</td>\n",
       "      <td>0</td>\n",
       "      <td>1</td>\n",
       "      <td>1346976000</td>\n",
       "      <td>Not as Advertised</td>\n",
       "      <td>Product arrived labeled as Jumbo Salted Peanut...</td>\n",
       "    </tr>\n",
       "    <tr>\n",
       "      <th>2</th>\n",
       "      <td>3</td>\n",
       "      <td>B000LQOCH0</td>\n",
       "      <td>ABXLMWJIXXAIN</td>\n",
       "      <td>Natalia Corres \"Natalia Corres\"</td>\n",
       "      <td>1</td>\n",
       "      <td>1</td>\n",
       "      <td>4</td>\n",
       "      <td>1219017600</td>\n",
       "      <td>\"Delight\" says it all</td>\n",
       "      <td>This is a confection that has been around a fe...</td>\n",
       "    </tr>\n",
       "    <tr>\n",
       "      <th>3</th>\n",
       "      <td>4</td>\n",
       "      <td>B000UA0QIQ</td>\n",
       "      <td>A395BORC6FGVXV</td>\n",
       "      <td>Karl</td>\n",
       "      <td>3</td>\n",
       "      <td>3</td>\n",
       "      <td>2</td>\n",
       "      <td>1307923200</td>\n",
       "      <td>Cough Medicine</td>\n",
       "      <td>If you are looking for the secret ingredient i...</td>\n",
       "    </tr>\n",
       "    <tr>\n",
       "      <th>4</th>\n",
       "      <td>5</td>\n",
       "      <td>B006K2ZZ7K</td>\n",
       "      <td>A1UQRSCLF8GW1T</td>\n",
       "      <td>Michael D. Bigham \"M. Wassir\"</td>\n",
       "      <td>0</td>\n",
       "      <td>0</td>\n",
       "      <td>5</td>\n",
       "      <td>1350777600</td>\n",
       "      <td>Great taffy</td>\n",
       "      <td>Great taffy at a great price.  There was a wid...</td>\n",
       "    </tr>\n",
       "  </tbody>\n",
       "</table>\n",
       "</div>"
      ],
      "text/plain": [
       "   id   productid          userid                      profilename  \\\n",
       "0   1  B001E4KFG0  A3SGXH7AUHU8GW                       delmartian   \n",
       "1   2  B00813GRG4  A1D87F6ZCVE5NK                           dll pa   \n",
       "2   3  B000LQOCH0   ABXLMWJIXXAIN  Natalia Corres \"Natalia Corres\"   \n",
       "3   4  B000UA0QIQ  A395BORC6FGVXV                             Karl   \n",
       "4   5  B006K2ZZ7K  A1UQRSCLF8GW1T    Michael D. Bigham \"M. Wassir\"   \n",
       "\n",
       "   helpfulnessnumerator  helpfulnessdenominator  score        time  \\\n",
       "0                     1                       1      5  1303862400   \n",
       "1                     0                       0      1  1346976000   \n",
       "2                     1                       1      4  1219017600   \n",
       "3                     3                       3      2  1307923200   \n",
       "4                     0                       0      5  1350777600   \n",
       "\n",
       "                 summary                                               text  \n",
       "0  Good Quality Dog Food  I have bought several of the Vitality canned d...  \n",
       "1      Not as Advertised  Product arrived labeled as Jumbo Salted Peanut...  \n",
       "2  \"Delight\" says it all  This is a confection that has been around a fe...  \n",
       "3         Cough Medicine  If you are looking for the secret ingredient i...  \n",
       "4            Great taffy  Great taffy at a great price.  There was a wid...  "
      ]
     },
     "execution_count": 7,
     "metadata": {},
     "output_type": "execute_result"
    }
   ],
   "source": [
    "data.head()"
   ]
  },
  {
   "cell_type": "code",
   "execution_count": 8,
   "id": "de004200",
   "metadata": {
    "execution": {
     "iopub.execute_input": "2022-04-29T02:58:58.638880Z",
     "iopub.status.busy": "2022-04-29T02:58:58.637301Z",
     "iopub.status.idle": "2022-04-29T02:58:58.639501Z",
     "shell.execute_reply": "2022-04-29T02:58:58.639931Z",
     "shell.execute_reply.started": "2022-04-29T02:50:17.663496Z"
    },
    "papermill": {
     "duration": 0.048199,
     "end_time": "2022-04-29T02:58:58.640064",
     "exception": false,
     "start_time": "2022-04-29T02:58:58.591865",
     "status": "completed"
    },
    "tags": []
   },
   "outputs": [],
   "source": [
    "data.columns = data.columns.str.strip().str.replace(' ', '_')"
   ]
  },
  {
   "cell_type": "code",
   "execution_count": 9,
   "id": "06025305",
   "metadata": {
    "execution": {
     "iopub.execute_input": "2022-04-29T02:58:58.733963Z",
     "iopub.status.busy": "2022-04-29T02:58:58.733401Z",
     "iopub.status.idle": "2022-04-29T02:58:58.738200Z",
     "shell.execute_reply": "2022-04-29T02:58:58.737752Z",
     "shell.execute_reply.started": "2022-04-29T02:50:17.673481Z"
    },
    "papermill": {
     "duration": 0.057756,
     "end_time": "2022-04-29T02:58:58.738311",
     "exception": false,
     "start_time": "2022-04-29T02:58:58.680555",
     "status": "completed"
    },
    "tags": []
   },
   "outputs": [
    {
     "data": {
      "text/html": [
       "<div>\n",
       "<style scoped>\n",
       "    .dataframe tbody tr th:only-of-type {\n",
       "        vertical-align: middle;\n",
       "    }\n",
       "\n",
       "    .dataframe tbody tr th {\n",
       "        vertical-align: top;\n",
       "    }\n",
       "\n",
       "    .dataframe thead th {\n",
       "        text-align: right;\n",
       "    }\n",
       "</style>\n",
       "<table border=\"1\" class=\"dataframe\">\n",
       "  <thead>\n",
       "    <tr style=\"text-align: right;\">\n",
       "      <th></th>\n",
       "      <th>id</th>\n",
       "      <th>productid</th>\n",
       "      <th>userid</th>\n",
       "      <th>profilename</th>\n",
       "      <th>helpfulnessnumerator</th>\n",
       "      <th>helpfulnessdenominator</th>\n",
       "      <th>score</th>\n",
       "      <th>time</th>\n",
       "      <th>summary</th>\n",
       "      <th>text</th>\n",
       "    </tr>\n",
       "  </thead>\n",
       "  <tbody>\n",
       "    <tr>\n",
       "      <th>0</th>\n",
       "      <td>1</td>\n",
       "      <td>B001E4KFG0</td>\n",
       "      <td>A3SGXH7AUHU8GW</td>\n",
       "      <td>delmartian</td>\n",
       "      <td>1</td>\n",
       "      <td>1</td>\n",
       "      <td>5</td>\n",
       "      <td>1303862400</td>\n",
       "      <td>Good Quality Dog Food</td>\n",
       "      <td>I have bought several of the Vitality canned d...</td>\n",
       "    </tr>\n",
       "    <tr>\n",
       "      <th>1</th>\n",
       "      <td>2</td>\n",
       "      <td>B00813GRG4</td>\n",
       "      <td>A1D87F6ZCVE5NK</td>\n",
       "      <td>dll pa</td>\n",
       "      <td>0</td>\n",
       "      <td>0</td>\n",
       "      <td>1</td>\n",
       "      <td>1346976000</td>\n",
       "      <td>Not as Advertised</td>\n",
       "      <td>Product arrived labeled as Jumbo Salted Peanut...</td>\n",
       "    </tr>\n",
       "    <tr>\n",
       "      <th>2</th>\n",
       "      <td>3</td>\n",
       "      <td>B000LQOCH0</td>\n",
       "      <td>ABXLMWJIXXAIN</td>\n",
       "      <td>Natalia Corres \"Natalia Corres\"</td>\n",
       "      <td>1</td>\n",
       "      <td>1</td>\n",
       "      <td>4</td>\n",
       "      <td>1219017600</td>\n",
       "      <td>\"Delight\" says it all</td>\n",
       "      <td>This is a confection that has been around a fe...</td>\n",
       "    </tr>\n",
       "    <tr>\n",
       "      <th>3</th>\n",
       "      <td>4</td>\n",
       "      <td>B000UA0QIQ</td>\n",
       "      <td>A395BORC6FGVXV</td>\n",
       "      <td>Karl</td>\n",
       "      <td>3</td>\n",
       "      <td>3</td>\n",
       "      <td>2</td>\n",
       "      <td>1307923200</td>\n",
       "      <td>Cough Medicine</td>\n",
       "      <td>If you are looking for the secret ingredient i...</td>\n",
       "    </tr>\n",
       "    <tr>\n",
       "      <th>4</th>\n",
       "      <td>5</td>\n",
       "      <td>B006K2ZZ7K</td>\n",
       "      <td>A1UQRSCLF8GW1T</td>\n",
       "      <td>Michael D. Bigham \"M. Wassir\"</td>\n",
       "      <td>0</td>\n",
       "      <td>0</td>\n",
       "      <td>5</td>\n",
       "      <td>1350777600</td>\n",
       "      <td>Great taffy</td>\n",
       "      <td>Great taffy at a great price.  There was a wid...</td>\n",
       "    </tr>\n",
       "  </tbody>\n",
       "</table>\n",
       "</div>"
      ],
      "text/plain": [
       "   id   productid          userid                      profilename  \\\n",
       "0   1  B001E4KFG0  A3SGXH7AUHU8GW                       delmartian   \n",
       "1   2  B00813GRG4  A1D87F6ZCVE5NK                           dll pa   \n",
       "2   3  B000LQOCH0   ABXLMWJIXXAIN  Natalia Corres \"Natalia Corres\"   \n",
       "3   4  B000UA0QIQ  A395BORC6FGVXV                             Karl   \n",
       "4   5  B006K2ZZ7K  A1UQRSCLF8GW1T    Michael D. Bigham \"M. Wassir\"   \n",
       "\n",
       "   helpfulnessnumerator  helpfulnessdenominator  score        time  \\\n",
       "0                     1                       1      5  1303862400   \n",
       "1                     0                       0      1  1346976000   \n",
       "2                     1                       1      4  1219017600   \n",
       "3                     3                       3      2  1307923200   \n",
       "4                     0                       0      5  1350777600   \n",
       "\n",
       "                 summary                                               text  \n",
       "0  Good Quality Dog Food  I have bought several of the Vitality canned d...  \n",
       "1      Not as Advertised  Product arrived labeled as Jumbo Salted Peanut...  \n",
       "2  \"Delight\" says it all  This is a confection that has been around a fe...  \n",
       "3         Cough Medicine  If you are looking for the secret ingredient i...  \n",
       "4            Great taffy  Great taffy at a great price.  There was a wid...  "
      ]
     },
     "execution_count": 9,
     "metadata": {},
     "output_type": "execute_result"
    }
   ],
   "source": [
    "data.head()"
   ]
  },
  {
   "cell_type": "code",
   "execution_count": 10,
   "id": "e5c378ad",
   "metadata": {
    "execution": {
     "iopub.execute_input": "2022-04-29T02:58:58.854620Z",
     "iopub.status.busy": "2022-04-29T02:58:58.853782Z",
     "iopub.status.idle": "2022-04-29T02:58:58.884471Z",
     "shell.execute_reply": "2022-04-29T02:58:58.884869Z",
     "shell.execute_reply.started": "2022-04-29T02:50:17.690664Z"
    },
    "papermill": {
     "duration": 0.105527,
     "end_time": "2022-04-29T02:58:58.885013",
     "exception": false,
     "start_time": "2022-04-29T02:58:58.779486",
     "status": "completed"
    },
    "tags": []
   },
   "outputs": [
    {
     "data": {
      "text/plain": [
       "74258"
      ]
     },
     "execution_count": 10,
     "metadata": {},
     "output_type": "execute_result"
    }
   ],
   "source": [
    "data['productid'].nunique()"
   ]
  },
  {
   "cell_type": "code",
   "execution_count": 11,
   "id": "966c4b6c",
   "metadata": {
    "execution": {
     "iopub.execute_input": "2022-04-29T02:58:59.261899Z",
     "iopub.status.busy": "2022-04-29T02:58:59.260983Z",
     "iopub.status.idle": "2022-04-29T02:58:59.274435Z",
     "shell.execute_reply": "2022-04-29T02:58:59.273993Z",
     "shell.execute_reply.started": "2022-04-29T02:50:17.754738Z"
    },
    "papermill": {
     "duration": 0.348402,
     "end_time": "2022-04-29T02:58:59.274562",
     "exception": false,
     "start_time": "2022-04-29T02:58:58.926160",
     "status": "completed"
    },
    "tags": []
   },
   "outputs": [
    {
     "data": {
      "text/plain": [
       "id                         0\n",
       "productid                  0\n",
       "userid                     0\n",
       "profilename               16\n",
       "helpfulnessnumerator       0\n",
       "helpfulnessdenominator     0\n",
       "score                      0\n",
       "time                       0\n",
       "summary                   27\n",
       "text                       0\n",
       "dtype: int64"
      ]
     },
     "execution_count": 11,
     "metadata": {},
     "output_type": "execute_result"
    }
   ],
   "source": [
    "data.isna().sum()"
   ]
  },
  {
   "cell_type": "code",
   "execution_count": 12,
   "id": "2da61a91",
   "metadata": {
    "execution": {
     "iopub.execute_input": "2022-04-29T02:58:59.362271Z",
     "iopub.status.busy": "2022-04-29T02:58:59.361718Z",
     "iopub.status.idle": "2022-04-29T02:58:59.370718Z",
     "shell.execute_reply": "2022-04-29T02:58:59.370282Z",
     "shell.execute_reply.started": "2022-04-29T02:50:18.061567Z"
    },
    "papermill": {
     "duration": 0.0534,
     "end_time": "2022-04-29T02:58:59.370857",
     "exception": false,
     "start_time": "2022-04-29T02:58:59.317457",
     "status": "completed"
    },
    "tags": []
   },
   "outputs": [],
   "source": [
    "import sqlite3 \n",
    "database = sqlite3.connect(\"../input/amazon-fine-food-reviews/database.sqlite\")"
   ]
  },
  {
   "cell_type": "code",
   "execution_count": 13,
   "id": "fb07d02c",
   "metadata": {
    "execution": {
     "iopub.execute_input": "2022-04-29T02:58:59.458420Z",
     "iopub.status.busy": "2022-04-29T02:58:59.457782Z",
     "iopub.status.idle": "2022-04-29T02:59:07.785720Z",
     "shell.execute_reply": "2022-04-29T02:59:07.786138Z",
     "shell.execute_reply.started": "2022-04-29T02:50:18.069806Z"
    },
    "papermill": {
     "duration": 8.373439,
     "end_time": "2022-04-29T02:59:07.786294",
     "exception": false,
     "start_time": "2022-04-29T02:58:59.412855",
     "status": "completed"
    },
    "tags": []
   },
   "outputs": [
    {
     "data": {
      "text/html": [
       "<div>\n",
       "<style scoped>\n",
       "    .dataframe tbody tr th:only-of-type {\n",
       "        vertical-align: middle;\n",
       "    }\n",
       "\n",
       "    .dataframe tbody tr th {\n",
       "        vertical-align: top;\n",
       "    }\n",
       "\n",
       "    .dataframe thead th {\n",
       "        text-align: right;\n",
       "    }\n",
       "</style>\n",
       "<table border=\"1\" class=\"dataframe\">\n",
       "  <thead>\n",
       "    <tr style=\"text-align: right;\">\n",
       "      <th></th>\n",
       "      <th>Id</th>\n",
       "      <th>ProductId</th>\n",
       "      <th>UserId</th>\n",
       "      <th>ProfileName</th>\n",
       "      <th>HelpfulnessNumerator</th>\n",
       "      <th>HelpfulnessDenominator</th>\n",
       "      <th>Score</th>\n",
       "      <th>Time</th>\n",
       "      <th>Summary</th>\n",
       "      <th>Text</th>\n",
       "    </tr>\n",
       "  </thead>\n",
       "  <tbody>\n",
       "    <tr>\n",
       "      <th>0</th>\n",
       "      <td>1</td>\n",
       "      <td>B001E4KFG0</td>\n",
       "      <td>A3SGXH7AUHU8GW</td>\n",
       "      <td>delmartian</td>\n",
       "      <td>1</td>\n",
       "      <td>1</td>\n",
       "      <td>5</td>\n",
       "      <td>1303862400</td>\n",
       "      <td>Good Quality Dog Food</td>\n",
       "      <td>I have bought several of the Vitality canned d...</td>\n",
       "    </tr>\n",
       "    <tr>\n",
       "      <th>1</th>\n",
       "      <td>2</td>\n",
       "      <td>B00813GRG4</td>\n",
       "      <td>A1D87F6ZCVE5NK</td>\n",
       "      <td>dll pa</td>\n",
       "      <td>0</td>\n",
       "      <td>0</td>\n",
       "      <td>1</td>\n",
       "      <td>1346976000</td>\n",
       "      <td>Not as Advertised</td>\n",
       "      <td>Product arrived labeled as Jumbo Salted Peanut...</td>\n",
       "    </tr>\n",
       "    <tr>\n",
       "      <th>2</th>\n",
       "      <td>3</td>\n",
       "      <td>B000LQOCH0</td>\n",
       "      <td>ABXLMWJIXXAIN</td>\n",
       "      <td>Natalia Corres \"Natalia Corres\"</td>\n",
       "      <td>1</td>\n",
       "      <td>1</td>\n",
       "      <td>4</td>\n",
       "      <td>1219017600</td>\n",
       "      <td>\"Delight\" says it all</td>\n",
       "      <td>This is a confection that has been around a fe...</td>\n",
       "    </tr>\n",
       "    <tr>\n",
       "      <th>3</th>\n",
       "      <td>4</td>\n",
       "      <td>B000UA0QIQ</td>\n",
       "      <td>A395BORC6FGVXV</td>\n",
       "      <td>Karl</td>\n",
       "      <td>3</td>\n",
       "      <td>3</td>\n",
       "      <td>2</td>\n",
       "      <td>1307923200</td>\n",
       "      <td>Cough Medicine</td>\n",
       "      <td>If you are looking for the secret ingredient i...</td>\n",
       "    </tr>\n",
       "    <tr>\n",
       "      <th>4</th>\n",
       "      <td>5</td>\n",
       "      <td>B006K2ZZ7K</td>\n",
       "      <td>A1UQRSCLF8GW1T</td>\n",
       "      <td>Michael D. Bigham \"M. Wassir\"</td>\n",
       "      <td>0</td>\n",
       "      <td>0</td>\n",
       "      <td>5</td>\n",
       "      <td>1350777600</td>\n",
       "      <td>Great taffy</td>\n",
       "      <td>Great taffy at a great price.  There was a wid...</td>\n",
       "    </tr>\n",
       "  </tbody>\n",
       "</table>\n",
       "</div>"
      ],
      "text/plain": [
       "   Id   ProductId          UserId                      ProfileName  \\\n",
       "0   1  B001E4KFG0  A3SGXH7AUHU8GW                       delmartian   \n",
       "1   2  B00813GRG4  A1D87F6ZCVE5NK                           dll pa   \n",
       "2   3  B000LQOCH0   ABXLMWJIXXAIN  Natalia Corres \"Natalia Corres\"   \n",
       "3   4  B000UA0QIQ  A395BORC6FGVXV                             Karl   \n",
       "4   5  B006K2ZZ7K  A1UQRSCLF8GW1T    Michael D. Bigham \"M. Wassir\"   \n",
       "\n",
       "   HelpfulnessNumerator  HelpfulnessDenominator  Score        Time  \\\n",
       "0                     1                       1      5  1303862400   \n",
       "1                     0                       0      1  1346976000   \n",
       "2                     1                       1      4  1219017600   \n",
       "3                     3                       3      2  1307923200   \n",
       "4                     0                       0      5  1350777600   \n",
       "\n",
       "                 Summary                                               Text  \n",
       "0  Good Quality Dog Food  I have bought several of the Vitality canned d...  \n",
       "1      Not as Advertised  Product arrived labeled as Jumbo Salted Peanut...  \n",
       "2  \"Delight\" says it all  This is a confection that has been around a fe...  \n",
       "3         Cough Medicine  If you are looking for the secret ingredient i...  \n",
       "4            Great taffy  Great taffy at a great price.  There was a wid...  "
      ]
     },
     "execution_count": 13,
     "metadata": {},
     "output_type": "execute_result"
    }
   ],
   "source": [
    "database = pd.read_sql_query(\"\"\"SELECT * FROM Reviews \"\"\",database)\n",
    "database.head()"
   ]
  },
  {
   "cell_type": "code",
   "execution_count": 14,
   "id": "8be8c948",
   "metadata": {
    "execution": {
     "iopub.execute_input": "2022-04-29T02:59:07.875770Z",
     "iopub.status.busy": "2022-04-29T02:59:07.874662Z",
     "iopub.status.idle": "2022-04-29T02:59:07.877914Z",
     "shell.execute_reply": "2022-04-29T02:59:07.878317Z",
     "shell.execute_reply.started": "2022-04-29T02:50:25.853540Z"
    },
    "papermill": {
     "duration": 0.049943,
     "end_time": "2022-04-29T02:59:07.878447",
     "exception": false,
     "start_time": "2022-04-29T02:59:07.828504",
     "status": "completed"
    },
    "tags": []
   },
   "outputs": [
    {
     "data": {
      "text/plain": [
       "(568454, 10)"
      ]
     },
     "execution_count": 14,
     "metadata": {},
     "output_type": "execute_result"
    }
   ],
   "source": [
    "database.shape"
   ]
  },
  {
   "cell_type": "code",
   "execution_count": 15,
   "id": "ad5e2ec6",
   "metadata": {
    "execution": {
     "iopub.execute_input": "2022-04-29T02:59:07.969123Z",
     "iopub.status.busy": "2022-04-29T02:59:07.968347Z",
     "iopub.status.idle": "2022-04-29T02:59:07.970727Z",
     "shell.execute_reply": "2022-04-29T02:59:07.970324Z",
     "shell.execute_reply.started": "2022-04-29T02:50:25.861584Z"
    },
    "papermill": {
     "duration": 0.047696,
     "end_time": "2022-04-29T02:59:07.970859",
     "exception": false,
     "start_time": "2022-04-29T02:59:07.923163",
     "status": "completed"
    },
    "tags": []
   },
   "outputs": [],
   "source": [
    "Y=database[\"Score\"]"
   ]
  },
  {
   "cell_type": "code",
   "execution_count": 16,
   "id": "4e923ab6",
   "metadata": {
    "execution": {
     "iopub.execute_input": "2022-04-29T02:59:08.059069Z",
     "iopub.status.busy": "2022-04-29T02:59:08.058361Z",
     "iopub.status.idle": "2022-04-29T02:59:08.066715Z",
     "shell.execute_reply": "2022-04-29T02:59:08.066270Z",
     "shell.execute_reply.started": "2022-04-29T02:50:25.869398Z"
    },
    "papermill": {
     "duration": 0.0542,
     "end_time": "2022-04-29T02:59:08.066846",
     "exception": false,
     "start_time": "2022-04-29T02:59:08.012646",
     "status": "completed"
    },
    "tags": []
   },
   "outputs": [
    {
     "data": {
      "text/plain": [
       "array([5, 1, 4, 2, 3])"
      ]
     },
     "execution_count": 16,
     "metadata": {},
     "output_type": "execute_result"
    }
   ],
   "source": [
    "Y.unique()"
   ]
  },
  {
   "cell_type": "code",
   "execution_count": 17,
   "id": "e09d0159",
   "metadata": {
    "execution": {
     "iopub.execute_input": "2022-04-29T02:59:08.155991Z",
     "iopub.status.busy": "2022-04-29T02:59:08.154429Z",
     "iopub.status.idle": "2022-04-29T02:59:08.156614Z",
     "shell.execute_reply": "2022-04-29T02:59:08.157125Z",
     "shell.execute_reply.started": "2022-04-29T02:50:25.884861Z"
    },
    "papermill": {
     "duration": 0.04833,
     "end_time": "2022-04-29T02:59:08.157266",
     "exception": false,
     "start_time": "2022-04-29T02:59:08.108936",
     "status": "completed"
    },
    "tags": []
   },
   "outputs": [],
   "source": [
    "new_data=data.loc[0:5000,:]"
   ]
  },
  {
   "cell_type": "code",
   "execution_count": 18,
   "id": "97e3ca26",
   "metadata": {
    "execution": {
     "iopub.execute_input": "2022-04-29T02:59:08.246873Z",
     "iopub.status.busy": "2022-04-29T02:59:08.246161Z",
     "iopub.status.idle": "2022-04-29T02:59:08.248867Z",
     "shell.execute_reply": "2022-04-29T02:59:08.249264Z",
     "shell.execute_reply.started": "2022-04-29T02:50:25.892416Z"
    },
    "papermill": {
     "duration": 0.049907,
     "end_time": "2022-04-29T02:59:08.249379",
     "exception": false,
     "start_time": "2022-04-29T02:59:08.199472",
     "status": "completed"
    },
    "tags": []
   },
   "outputs": [
    {
     "data": {
      "text/plain": [
       "(5001, 10)"
      ]
     },
     "execution_count": 18,
     "metadata": {},
     "output_type": "execute_result"
    }
   ],
   "source": [
    "new_data.shape"
   ]
  },
  {
   "cell_type": "code",
   "execution_count": 19,
   "id": "b03b81d2",
   "metadata": {
    "execution": {
     "iopub.execute_input": "2022-04-29T02:59:08.352404Z",
     "iopub.status.busy": "2022-04-29T02:59:08.351589Z",
     "iopub.status.idle": "2022-04-29T02:59:08.420324Z",
     "shell.execute_reply": "2022-04-29T02:59:08.420809Z",
     "shell.execute_reply.started": "2022-04-29T02:50:25.902595Z"
    },
    "papermill": {
     "duration": 0.129247,
     "end_time": "2022-04-29T02:59:08.420982",
     "exception": false,
     "start_time": "2022-04-29T02:59:08.291735",
     "status": "completed"
    },
    "tags": []
   },
   "outputs": [
    {
     "data": {
      "text/html": [
       "<div>\n",
       "<style scoped>\n",
       "    .dataframe tbody tr th:only-of-type {\n",
       "        vertical-align: middle;\n",
       "    }\n",
       "\n",
       "    .dataframe tbody tr th {\n",
       "        vertical-align: top;\n",
       "    }\n",
       "\n",
       "    .dataframe thead th {\n",
       "        text-align: right;\n",
       "    }\n",
       "</style>\n",
       "<table border=\"1\" class=\"dataframe\">\n",
       "  <thead>\n",
       "    <tr style=\"text-align: right;\">\n",
       "      <th></th>\n",
       "      <th>Id</th>\n",
       "      <th>HelpfulnessNumerator</th>\n",
       "      <th>HelpfulnessDenominator</th>\n",
       "      <th>Score</th>\n",
       "      <th>Time</th>\n",
       "    </tr>\n",
       "  </thead>\n",
       "  <tbody>\n",
       "    <tr>\n",
       "      <th>count</th>\n",
       "      <td>568454.000000</td>\n",
       "      <td>568454.000000</td>\n",
       "      <td>568454.00000</td>\n",
       "      <td>568454.000000</td>\n",
       "      <td>5.684540e+05</td>\n",
       "    </tr>\n",
       "    <tr>\n",
       "      <th>mean</th>\n",
       "      <td>284227.500000</td>\n",
       "      <td>1.743817</td>\n",
       "      <td>2.22881</td>\n",
       "      <td>4.183199</td>\n",
       "      <td>1.296257e+09</td>\n",
       "    </tr>\n",
       "    <tr>\n",
       "      <th>std</th>\n",
       "      <td>164098.679298</td>\n",
       "      <td>7.636513</td>\n",
       "      <td>8.28974</td>\n",
       "      <td>1.310436</td>\n",
       "      <td>4.804331e+07</td>\n",
       "    </tr>\n",
       "    <tr>\n",
       "      <th>min</th>\n",
       "      <td>1.000000</td>\n",
       "      <td>0.000000</td>\n",
       "      <td>0.00000</td>\n",
       "      <td>1.000000</td>\n",
       "      <td>9.393408e+08</td>\n",
       "    </tr>\n",
       "    <tr>\n",
       "      <th>25%</th>\n",
       "      <td>142114.250000</td>\n",
       "      <td>0.000000</td>\n",
       "      <td>0.00000</td>\n",
       "      <td>4.000000</td>\n",
       "      <td>1.271290e+09</td>\n",
       "    </tr>\n",
       "    <tr>\n",
       "      <th>50%</th>\n",
       "      <td>284227.500000</td>\n",
       "      <td>0.000000</td>\n",
       "      <td>1.00000</td>\n",
       "      <td>5.000000</td>\n",
       "      <td>1.311120e+09</td>\n",
       "    </tr>\n",
       "    <tr>\n",
       "      <th>75%</th>\n",
       "      <td>426340.750000</td>\n",
       "      <td>2.000000</td>\n",
       "      <td>2.00000</td>\n",
       "      <td>5.000000</td>\n",
       "      <td>1.332720e+09</td>\n",
       "    </tr>\n",
       "    <tr>\n",
       "      <th>max</th>\n",
       "      <td>568454.000000</td>\n",
       "      <td>866.000000</td>\n",
       "      <td>923.00000</td>\n",
       "      <td>5.000000</td>\n",
       "      <td>1.351210e+09</td>\n",
       "    </tr>\n",
       "  </tbody>\n",
       "</table>\n",
       "</div>"
      ],
      "text/plain": [
       "                  Id  HelpfulnessNumerator  HelpfulnessDenominator  \\\n",
       "count  568454.000000         568454.000000            568454.00000   \n",
       "mean   284227.500000              1.743817                 2.22881   \n",
       "std    164098.679298              7.636513                 8.28974   \n",
       "min         1.000000              0.000000                 0.00000   \n",
       "25%    142114.250000              0.000000                 0.00000   \n",
       "50%    284227.500000              0.000000                 1.00000   \n",
       "75%    426340.750000              2.000000                 2.00000   \n",
       "max    568454.000000            866.000000               923.00000   \n",
       "\n",
       "               Score          Time  \n",
       "count  568454.000000  5.684540e+05  \n",
       "mean        4.183199  1.296257e+09  \n",
       "std         1.310436  4.804331e+07  \n",
       "min         1.000000  9.393408e+08  \n",
       "25%         4.000000  1.271290e+09  \n",
       "50%         5.000000  1.311120e+09  \n",
       "75%         5.000000  1.332720e+09  \n",
       "max         5.000000  1.351210e+09  "
      ]
     },
     "execution_count": 19,
     "metadata": {},
     "output_type": "execute_result"
    }
   ],
   "source": [
    "database.describe()"
   ]
  },
  {
   "cell_type": "code",
   "execution_count": 20,
   "id": "5c54c806",
   "metadata": {
    "execution": {
     "iopub.execute_input": "2022-04-29T02:59:08.514577Z",
     "iopub.status.busy": "2022-04-29T02:59:08.513957Z",
     "iopub.status.idle": "2022-04-29T02:59:08.521204Z",
     "shell.execute_reply": "2022-04-29T02:59:08.520732Z",
     "shell.execute_reply.started": "2022-04-29T02:50:25.986129Z"
    },
    "papermill": {
     "duration": 0.05633,
     "end_time": "2022-04-29T02:59:08.521316",
     "exception": false,
     "start_time": "2022-04-29T02:59:08.464986",
     "status": "completed"
    },
    "tags": []
   },
   "outputs": [],
   "source": [
    "import string\n",
    "from nltk.tokenize import word_tokenize\n",
    "from nltk.stem.snowball import SnowballStemmer\n",
    "stemmer = SnowballStemmer(language=\"english\")\n",
    "from nltk.corpus import stopwords\n",
    "stop_words = set(stopwords.words('english'))\n",
    "punctuation = string.punctuation"
   ]
  },
  {
   "cell_type": "code",
   "execution_count": 21,
   "id": "0d3bdc9c",
   "metadata": {
    "execution": {
     "iopub.execute_input": "2022-04-29T02:59:08.612966Z",
     "iopub.status.busy": "2022-04-29T02:59:08.612194Z",
     "iopub.status.idle": "2022-04-29T02:59:08.614788Z",
     "shell.execute_reply": "2022-04-29T02:59:08.614361Z",
     "shell.execute_reply.started": "2022-04-29T02:50:25.995099Z"
    },
    "papermill": {
     "duration": 0.050395,
     "end_time": "2022-04-29T02:59:08.614922",
     "exception": false,
     "start_time": "2022-04-29T02:59:08.564527",
     "status": "completed"
    },
    "tags": []
   },
   "outputs": [],
   "source": [
    "def transform(c):\n",
    "    return (str(c[\"profilename\"]) + \" \" + str(c[\"summary\"]) + \" \" + str(c[\"text\"]))\n"
   ]
  },
  {
   "cell_type": "code",
   "execution_count": 22,
   "id": "b9e0bdc7",
   "metadata": {
    "execution": {
     "iopub.execute_input": "2022-04-29T02:59:08.711470Z",
     "iopub.status.busy": "2022-04-29T02:59:08.710677Z",
     "iopub.status.idle": "2022-04-29T02:59:08.848515Z",
     "shell.execute_reply": "2022-04-29T02:59:08.849709Z",
     "shell.execute_reply.started": "2022-04-29T02:50:26.003215Z"
    },
    "papermill": {
     "duration": 0.19033,
     "end_time": "2022-04-29T02:59:08.849953",
     "exception": false,
     "start_time": "2022-04-29T02:59:08.659623",
     "status": "completed"
    },
    "tags": []
   },
   "outputs": [],
   "source": [
    "new_data = new_data.apply(transform, axis=1)\n"
   ]
  },
  {
   "cell_type": "code",
   "execution_count": 23,
   "id": "685c7a16",
   "metadata": {
    "execution": {
     "iopub.execute_input": "2022-04-29T02:59:09.018720Z",
     "iopub.status.busy": "2022-04-29T02:59:09.018117Z",
     "iopub.status.idle": "2022-04-29T02:59:09.022220Z",
     "shell.execute_reply": "2022-04-29T02:59:09.023018Z",
     "shell.execute_reply.started": "2022-04-29T02:50:26.122270Z"
    },
    "papermill": {
     "duration": 0.088656,
     "end_time": "2022-04-29T02:59:09.023209",
     "exception": false,
     "start_time": "2022-04-29T02:59:08.934553",
     "status": "completed"
    },
    "tags": []
   },
   "outputs": [
    {
     "data": {
      "text/plain": [
       "0    delmartian Good Quality Dog Food I have bought...\n",
       "1    dll pa Not as Advertised Product arrived label...\n",
       "2    Natalia Corres \"Natalia Corres\" \"Delight\" says...\n",
       "3    Karl Cough Medicine If you are looking for the...\n",
       "4    Michael D. Bigham \"M. Wassir\" Great taffy Grea...\n",
       "dtype: object"
      ]
     },
     "execution_count": 23,
     "metadata": {},
     "output_type": "execute_result"
    }
   ],
   "source": [
    "new_data.head()"
   ]
  },
  {
   "cell_type": "code",
   "execution_count": 24,
   "id": "3a136b84",
   "metadata": {
    "execution": {
     "iopub.execute_input": "2022-04-29T02:59:09.190959Z",
     "iopub.status.busy": "2022-04-29T02:59:09.190188Z",
     "iopub.status.idle": "2022-04-29T02:59:09.193254Z",
     "shell.execute_reply": "2022-04-29T02:59:09.193981Z",
     "shell.execute_reply.started": "2022-04-29T02:50:26.131085Z"
    },
    "papermill": {
     "duration": 0.088875,
     "end_time": "2022-04-29T02:59:09.194172",
     "exception": false,
     "start_time": "2022-04-29T02:59:09.105297",
     "status": "completed"
    },
    "tags": []
   },
   "outputs": [],
   "source": [
    "def process(s):\n",
    "    for p in punctuation:\n",
    "        s = s.replace(p, '')\n",
    "    s = s.lower()\n",
    "    s = word_tokenize(s)\n",
    "    s = [w for w in s if not w in stop_words] #optional\n",
    "    s = [stemmer.stem(word) for word in s]\n",
    "    return s"
   ]
  },
  {
   "cell_type": "code",
   "execution_count": 25,
   "id": "cc52365e",
   "metadata": {
    "execution": {
     "iopub.execute_input": "2022-04-29T02:59:09.351857Z",
     "iopub.status.busy": "2022-04-29T02:59:09.351107Z",
     "iopub.status.idle": "2022-04-29T02:59:09.357232Z",
     "shell.execute_reply": "2022-04-29T02:59:09.354308Z",
     "shell.execute_reply.started": "2022-04-29T02:50:26.138412Z"
    },
    "papermill": {
     "duration": 0.08728,
     "end_time": "2022-04-29T02:59:09.357448",
     "exception": false,
     "start_time": "2022-04-29T02:59:09.270168",
     "status": "completed"
    },
    "tags": []
   },
   "outputs": [],
   "source": [
    "N=new_data.shape[0]"
   ]
  },
  {
   "cell_type": "code",
   "execution_count": 26,
   "id": "30814c6d",
   "metadata": {
    "execution": {
     "iopub.execute_input": "2022-04-29T02:59:09.457609Z",
     "iopub.status.busy": "2022-04-29T02:59:09.457015Z",
     "iopub.status.idle": "2022-04-29T02:59:16.324792Z",
     "shell.execute_reply": "2022-04-29T02:59:16.324344Z",
     "shell.execute_reply.started": "2022-04-29T02:50:26.148525Z"
    },
    "papermill": {
     "duration": 6.916256,
     "end_time": "2022-04-29T02:59:16.324974",
     "exception": false,
     "start_time": "2022-04-29T02:59:09.408718",
     "status": "completed"
    },
    "tags": []
   },
   "outputs": [
    {
     "name": "stderr",
     "output_type": "stream",
     "text": [
      "100%|██████████| 5001/5001 [00:06<00:00, 729.08it/s]\n"
     ]
    }
   ],
   "source": [
    "num_sampl = N\n",
    "\n",
    "from tqdm import tqdm\n",
    "\n",
    "for i in tqdm(range(num_sampl)):\n",
    "    new_data[i] = process(new_data[i])"
   ]
  },
  {
   "cell_type": "code",
   "execution_count": 27,
   "id": "f9771a14",
   "metadata": {
    "execution": {
     "iopub.execute_input": "2022-04-29T02:59:16.459144Z",
     "iopub.status.busy": "2022-04-29T02:59:16.458219Z",
     "iopub.status.idle": "2022-04-29T02:59:16.531333Z",
     "shell.execute_reply": "2022-04-29T02:59:16.531761Z",
     "shell.execute_reply.started": "2022-04-29T02:50:33.036204Z"
    },
    "papermill": {
     "duration": 0.142458,
     "end_time": "2022-04-29T02:59:16.531958",
     "exception": false,
     "start_time": "2022-04-29T02:59:16.389500",
     "status": "completed"
    },
    "tags": []
   },
   "outputs": [
    {
     "name": "stderr",
     "output_type": "stream",
     "text": [
      "100%|██████████| 5001/5001 [00:00<00:00, 74423.40it/s]\n"
     ]
    }
   ],
   "source": [
    "for i in tqdm(range(N)):\n",
    "    new_data[i] = \" \".join(new_data[i])"
   ]
  },
  {
   "cell_type": "code",
   "execution_count": 28,
   "id": "7787286b",
   "metadata": {
    "execution": {
     "iopub.execute_input": "2022-04-29T02:59:16.668142Z",
     "iopub.status.busy": "2022-04-29T02:59:16.667379Z",
     "iopub.status.idle": "2022-04-29T02:59:16.670251Z",
     "shell.execute_reply": "2022-04-29T02:59:16.670654Z",
     "shell.execute_reply.started": "2022-04-29T02:50:33.163868Z"
    },
    "papermill": {
     "duration": 0.073824,
     "end_time": "2022-04-29T02:59:16.670780",
     "exception": false,
     "start_time": "2022-04-29T02:59:16.596956",
     "status": "completed"
    },
    "tags": []
   },
   "outputs": [
    {
     "data": {
      "text/plain": [
       "0    delmartian good qualiti dog food bought sever ...\n",
       "1    dll pa advertis product arriv label jumbo salt...\n",
       "2    natalia corr natalia corr delight say confect ...\n",
       "3    karl cough medicin look secret ingredi robitus...\n",
       "4    michael bigham wassir great taffi great taffi ...\n",
       "dtype: object"
      ]
     },
     "execution_count": 28,
     "metadata": {},
     "output_type": "execute_result"
    }
   ],
   "source": [
    "new_data.head()"
   ]
  },
  {
   "cell_type": "code",
   "execution_count": 29,
   "id": "d09f15e1",
   "metadata": {
    "execution": {
     "iopub.execute_input": "2022-04-29T02:59:16.805973Z",
     "iopub.status.busy": "2022-04-29T02:59:16.804587Z",
     "iopub.status.idle": "2022-04-29T02:59:16.808897Z",
     "shell.execute_reply": "2022-04-29T02:59:16.809339Z",
     "shell.execute_reply.started": "2022-04-29T02:50:33.186010Z"
    },
    "papermill": {
     "duration": 0.072965,
     "end_time": "2022-04-29T02:59:16.809461",
     "exception": false,
     "start_time": "2022-04-29T02:59:16.736496",
     "status": "completed"
    },
    "tags": []
   },
   "outputs": [
    {
     "data": {
      "text/plain": [
       "(5001,)"
      ]
     },
     "execution_count": 29,
     "metadata": {},
     "output_type": "execute_result"
    }
   ],
   "source": [
    "new_data.shape"
   ]
  },
  {
   "cell_type": "code",
   "execution_count": 30,
   "id": "1f32f32a",
   "metadata": {
    "execution": {
     "iopub.execute_input": "2022-04-29T02:59:16.944841Z",
     "iopub.status.busy": "2022-04-29T02:59:16.944214Z",
     "iopub.status.idle": "2022-04-29T02:59:16.946773Z",
     "shell.execute_reply": "2022-04-29T02:59:16.946363Z",
     "shell.execute_reply.started": "2022-04-29T02:50:33.199457Z"
    },
    "papermill": {
     "duration": 0.07174,
     "end_time": "2022-04-29T02:59:16.946911",
     "exception": false,
     "start_time": "2022-04-29T02:59:16.875171",
     "status": "completed"
    },
    "tags": []
   },
   "outputs": [],
   "source": [
    "from sklearn.feature_extraction.text import CountVectorizer, TfidfVectorizer\n",
    "vectorizer = CountVectorizer()"
   ]
  },
  {
   "cell_type": "code",
   "execution_count": 31,
   "id": "c767a6f9",
   "metadata": {
    "execution": {
     "iopub.execute_input": "2022-04-29T02:59:17.101240Z",
     "iopub.status.busy": "2022-04-29T02:59:17.092342Z",
     "iopub.status.idle": "2022-04-29T02:59:17.336141Z",
     "shell.execute_reply": "2022-04-29T02:59:17.335563Z",
     "shell.execute_reply.started": "2022-04-29T02:50:33.209806Z"
    },
    "papermill": {
     "duration": 0.323581,
     "end_time": "2022-04-29T02:59:17.336261",
     "exception": false,
     "start_time": "2022-04-29T02:59:17.012680",
     "status": "completed"
    },
    "tags": []
   },
   "outputs": [],
   "source": [
    "bow_data = vectorizer.fit_transform(new_data)"
   ]
  },
  {
   "cell_type": "code",
   "execution_count": 32,
   "id": "a7dcfb70",
   "metadata": {
    "execution": {
     "iopub.execute_input": "2022-04-29T02:59:17.471323Z",
     "iopub.status.busy": "2022-04-29T02:59:17.470535Z",
     "iopub.status.idle": "2022-04-29T02:59:17.927631Z",
     "shell.execute_reply": "2022-04-29T02:59:17.926975Z",
     "shell.execute_reply.started": "2022-04-29T02:50:33.560440Z"
    },
    "papermill": {
     "duration": 0.52524,
     "end_time": "2022-04-29T02:59:17.927779",
     "exception": false,
     "start_time": "2022-04-29T02:59:17.402539",
     "status": "completed"
    },
    "tags": []
   },
   "outputs": [],
   "source": [
    "vectorizer = CountVectorizer(max_features=100000)\n",
    "bow_data = vectorizer.fit_transform(new_data).toarray()\n",
    "features = vectorizer.get_feature_names_out()\n",
    "bow_data = pd.DataFrame(bow_data, columns=features)"
   ]
  },
  {
   "cell_type": "code",
   "execution_count": 33,
   "id": "6e79113a",
   "metadata": {
    "execution": {
     "iopub.execute_input": "2022-04-29T02:59:18.068545Z",
     "iopub.status.busy": "2022-04-29T02:59:18.067582Z",
     "iopub.status.idle": "2022-04-29T02:59:18.087605Z",
     "shell.execute_reply": "2022-04-29T02:59:18.088136Z",
     "shell.execute_reply.started": "2022-04-29T02:50:34.015264Z"
    },
    "papermill": {
     "duration": 0.094079,
     "end_time": "2022-04-29T02:59:18.088283",
     "exception": false,
     "start_time": "2022-04-29T02:59:17.994204",
     "status": "completed"
    },
    "tags": []
   },
   "outputs": [
    {
     "data": {
      "text/html": [
       "<div>\n",
       "<style scoped>\n",
       "    .dataframe tbody tr th:only-of-type {\n",
       "        vertical-align: middle;\n",
       "    }\n",
       "\n",
       "    .dataframe tbody tr th {\n",
       "        vertical-align: top;\n",
       "    }\n",
       "\n",
       "    .dataframe thead th {\n",
       "        text-align: right;\n",
       "    }\n",
       "</style>\n",
       "<table border=\"1\" class=\"dataframe\">\n",
       "  <thead>\n",
       "    <tr style=\"text-align: right;\">\n",
       "      <th></th>\n",
       "      <th>00</th>\n",
       "      <th>002</th>\n",
       "      <th>01</th>\n",
       "      <th>0174organ</th>\n",
       "      <th>0212</th>\n",
       "      <th>02122012br</th>\n",
       "      <th>026</th>\n",
       "      <th>028</th>\n",
       "      <th>029</th>\n",
       "      <th>02ounc</th>\n",
       "      <th>...</th>\n",
       "      <th>ztardust</th>\n",
       "      <th>zuccarino</th>\n",
       "      <th>zucchini</th>\n",
       "      <th>zucchinibr</th>\n",
       "      <th>zugg</th>\n",
       "      <th>zuke</th>\n",
       "      <th>zulli</th>\n",
       "      <th>zupa</th>\n",
       "      <th>zuppa</th>\n",
       "      <th>îts</th>\n",
       "    </tr>\n",
       "  </thead>\n",
       "  <tbody>\n",
       "    <tr>\n",
       "      <th>0</th>\n",
       "      <td>0</td>\n",
       "      <td>0</td>\n",
       "      <td>0</td>\n",
       "      <td>0</td>\n",
       "      <td>0</td>\n",
       "      <td>0</td>\n",
       "      <td>0</td>\n",
       "      <td>0</td>\n",
       "      <td>0</td>\n",
       "      <td>0</td>\n",
       "      <td>...</td>\n",
       "      <td>0</td>\n",
       "      <td>0</td>\n",
       "      <td>0</td>\n",
       "      <td>0</td>\n",
       "      <td>0</td>\n",
       "      <td>0</td>\n",
       "      <td>0</td>\n",
       "      <td>0</td>\n",
       "      <td>0</td>\n",
       "      <td>0</td>\n",
       "    </tr>\n",
       "    <tr>\n",
       "      <th>1</th>\n",
       "      <td>0</td>\n",
       "      <td>0</td>\n",
       "      <td>0</td>\n",
       "      <td>0</td>\n",
       "      <td>0</td>\n",
       "      <td>0</td>\n",
       "      <td>0</td>\n",
       "      <td>0</td>\n",
       "      <td>0</td>\n",
       "      <td>0</td>\n",
       "      <td>...</td>\n",
       "      <td>0</td>\n",
       "      <td>0</td>\n",
       "      <td>0</td>\n",
       "      <td>0</td>\n",
       "      <td>0</td>\n",
       "      <td>0</td>\n",
       "      <td>0</td>\n",
       "      <td>0</td>\n",
       "      <td>0</td>\n",
       "      <td>0</td>\n",
       "    </tr>\n",
       "    <tr>\n",
       "      <th>2</th>\n",
       "      <td>0</td>\n",
       "      <td>0</td>\n",
       "      <td>0</td>\n",
       "      <td>0</td>\n",
       "      <td>0</td>\n",
       "      <td>0</td>\n",
       "      <td>0</td>\n",
       "      <td>0</td>\n",
       "      <td>0</td>\n",
       "      <td>0</td>\n",
       "      <td>...</td>\n",
       "      <td>0</td>\n",
       "      <td>0</td>\n",
       "      <td>0</td>\n",
       "      <td>0</td>\n",
       "      <td>0</td>\n",
       "      <td>0</td>\n",
       "      <td>0</td>\n",
       "      <td>0</td>\n",
       "      <td>0</td>\n",
       "      <td>0</td>\n",
       "    </tr>\n",
       "    <tr>\n",
       "      <th>3</th>\n",
       "      <td>0</td>\n",
       "      <td>0</td>\n",
       "      <td>0</td>\n",
       "      <td>0</td>\n",
       "      <td>0</td>\n",
       "      <td>0</td>\n",
       "      <td>0</td>\n",
       "      <td>0</td>\n",
       "      <td>0</td>\n",
       "      <td>0</td>\n",
       "      <td>...</td>\n",
       "      <td>0</td>\n",
       "      <td>0</td>\n",
       "      <td>0</td>\n",
       "      <td>0</td>\n",
       "      <td>0</td>\n",
       "      <td>0</td>\n",
       "      <td>0</td>\n",
       "      <td>0</td>\n",
       "      <td>0</td>\n",
       "      <td>0</td>\n",
       "    </tr>\n",
       "    <tr>\n",
       "      <th>4</th>\n",
       "      <td>0</td>\n",
       "      <td>0</td>\n",
       "      <td>0</td>\n",
       "      <td>0</td>\n",
       "      <td>0</td>\n",
       "      <td>0</td>\n",
       "      <td>0</td>\n",
       "      <td>0</td>\n",
       "      <td>0</td>\n",
       "      <td>0</td>\n",
       "      <td>...</td>\n",
       "      <td>0</td>\n",
       "      <td>0</td>\n",
       "      <td>0</td>\n",
       "      <td>0</td>\n",
       "      <td>0</td>\n",
       "      <td>0</td>\n",
       "      <td>0</td>\n",
       "      <td>0</td>\n",
       "      <td>0</td>\n",
       "      <td>0</td>\n",
       "    </tr>\n",
       "    <tr>\n",
       "      <th>...</th>\n",
       "      <td>...</td>\n",
       "      <td>...</td>\n",
       "      <td>...</td>\n",
       "      <td>...</td>\n",
       "      <td>...</td>\n",
       "      <td>...</td>\n",
       "      <td>...</td>\n",
       "      <td>...</td>\n",
       "      <td>...</td>\n",
       "      <td>...</td>\n",
       "      <td>...</td>\n",
       "      <td>...</td>\n",
       "      <td>...</td>\n",
       "      <td>...</td>\n",
       "      <td>...</td>\n",
       "      <td>...</td>\n",
       "      <td>...</td>\n",
       "      <td>...</td>\n",
       "      <td>...</td>\n",
       "      <td>...</td>\n",
       "      <td>...</td>\n",
       "    </tr>\n",
       "    <tr>\n",
       "      <th>4996</th>\n",
       "      <td>0</td>\n",
       "      <td>0</td>\n",
       "      <td>0</td>\n",
       "      <td>0</td>\n",
       "      <td>0</td>\n",
       "      <td>0</td>\n",
       "      <td>0</td>\n",
       "      <td>0</td>\n",
       "      <td>0</td>\n",
       "      <td>0</td>\n",
       "      <td>...</td>\n",
       "      <td>0</td>\n",
       "      <td>0</td>\n",
       "      <td>0</td>\n",
       "      <td>0</td>\n",
       "      <td>0</td>\n",
       "      <td>0</td>\n",
       "      <td>0</td>\n",
       "      <td>0</td>\n",
       "      <td>0</td>\n",
       "      <td>0</td>\n",
       "    </tr>\n",
       "    <tr>\n",
       "      <th>4997</th>\n",
       "      <td>0</td>\n",
       "      <td>0</td>\n",
       "      <td>0</td>\n",
       "      <td>0</td>\n",
       "      <td>0</td>\n",
       "      <td>0</td>\n",
       "      <td>0</td>\n",
       "      <td>0</td>\n",
       "      <td>0</td>\n",
       "      <td>0</td>\n",
       "      <td>...</td>\n",
       "      <td>0</td>\n",
       "      <td>0</td>\n",
       "      <td>0</td>\n",
       "      <td>0</td>\n",
       "      <td>0</td>\n",
       "      <td>0</td>\n",
       "      <td>0</td>\n",
       "      <td>0</td>\n",
       "      <td>0</td>\n",
       "      <td>0</td>\n",
       "    </tr>\n",
       "    <tr>\n",
       "      <th>4998</th>\n",
       "      <td>0</td>\n",
       "      <td>0</td>\n",
       "      <td>0</td>\n",
       "      <td>0</td>\n",
       "      <td>0</td>\n",
       "      <td>0</td>\n",
       "      <td>0</td>\n",
       "      <td>0</td>\n",
       "      <td>0</td>\n",
       "      <td>0</td>\n",
       "      <td>...</td>\n",
       "      <td>0</td>\n",
       "      <td>0</td>\n",
       "      <td>0</td>\n",
       "      <td>0</td>\n",
       "      <td>0</td>\n",
       "      <td>0</td>\n",
       "      <td>0</td>\n",
       "      <td>0</td>\n",
       "      <td>0</td>\n",
       "      <td>0</td>\n",
       "    </tr>\n",
       "    <tr>\n",
       "      <th>4999</th>\n",
       "      <td>0</td>\n",
       "      <td>0</td>\n",
       "      <td>0</td>\n",
       "      <td>0</td>\n",
       "      <td>0</td>\n",
       "      <td>0</td>\n",
       "      <td>0</td>\n",
       "      <td>0</td>\n",
       "      <td>0</td>\n",
       "      <td>0</td>\n",
       "      <td>...</td>\n",
       "      <td>0</td>\n",
       "      <td>0</td>\n",
       "      <td>0</td>\n",
       "      <td>0</td>\n",
       "      <td>0</td>\n",
       "      <td>0</td>\n",
       "      <td>0</td>\n",
       "      <td>0</td>\n",
       "      <td>0</td>\n",
       "      <td>0</td>\n",
       "    </tr>\n",
       "    <tr>\n",
       "      <th>5000</th>\n",
       "      <td>0</td>\n",
       "      <td>0</td>\n",
       "      <td>0</td>\n",
       "      <td>0</td>\n",
       "      <td>0</td>\n",
       "      <td>0</td>\n",
       "      <td>0</td>\n",
       "      <td>0</td>\n",
       "      <td>0</td>\n",
       "      <td>0</td>\n",
       "      <td>...</td>\n",
       "      <td>0</td>\n",
       "      <td>0</td>\n",
       "      <td>0</td>\n",
       "      <td>0</td>\n",
       "      <td>0</td>\n",
       "      <td>0</td>\n",
       "      <td>0</td>\n",
       "      <td>0</td>\n",
       "      <td>0</td>\n",
       "      <td>0</td>\n",
       "    </tr>\n",
       "  </tbody>\n",
       "</table>\n",
       "<p>5001 rows × 17397 columns</p>\n",
       "</div>"
      ],
      "text/plain": [
       "      00  002  01  0174organ  0212  02122012br  026  028  029  02ounc  ...  \\\n",
       "0      0    0   0          0     0           0    0    0    0       0  ...   \n",
       "1      0    0   0          0     0           0    0    0    0       0  ...   \n",
       "2      0    0   0          0     0           0    0    0    0       0  ...   \n",
       "3      0    0   0          0     0           0    0    0    0       0  ...   \n",
       "4      0    0   0          0     0           0    0    0    0       0  ...   \n",
       "...   ..  ...  ..        ...   ...         ...  ...  ...  ...     ...  ...   \n",
       "4996   0    0   0          0     0           0    0    0    0       0  ...   \n",
       "4997   0    0   0          0     0           0    0    0    0       0  ...   \n",
       "4998   0    0   0          0     0           0    0    0    0       0  ...   \n",
       "4999   0    0   0          0     0           0    0    0    0       0  ...   \n",
       "5000   0    0   0          0     0           0    0    0    0       0  ...   \n",
       "\n",
       "      ztardust  zuccarino  zucchini  zucchinibr  zugg  zuke  zulli  zupa  \\\n",
       "0            0          0         0           0     0     0      0     0   \n",
       "1            0          0         0           0     0     0      0     0   \n",
       "2            0          0         0           0     0     0      0     0   \n",
       "3            0          0         0           0     0     0      0     0   \n",
       "4            0          0         0           0     0     0      0     0   \n",
       "...        ...        ...       ...         ...   ...   ...    ...   ...   \n",
       "4996         0          0         0           0     0     0      0     0   \n",
       "4997         0          0         0           0     0     0      0     0   \n",
       "4998         0          0         0           0     0     0      0     0   \n",
       "4999         0          0         0           0     0     0      0     0   \n",
       "5000         0          0         0           0     0     0      0     0   \n",
       "\n",
       "      zuppa  îts  \n",
       "0         0    0  \n",
       "1         0    0  \n",
       "2         0    0  \n",
       "3         0    0  \n",
       "4         0    0  \n",
       "...     ...  ...  \n",
       "4996      0    0  \n",
       "4997      0    0  \n",
       "4998      0    0  \n",
       "4999      0    0  \n",
       "5000      0    0  \n",
       "\n",
       "[5001 rows x 17397 columns]"
      ]
     },
     "execution_count": 33,
     "metadata": {},
     "output_type": "execute_result"
    }
   ],
   "source": [
    "bow_data"
   ]
  },
  {
   "cell_type": "code",
   "execution_count": 34,
   "id": "cc69c022",
   "metadata": {
    "execution": {
     "iopub.execute_input": "2022-04-29T02:59:18.240007Z",
     "iopub.status.busy": "2022-04-29T02:59:18.239167Z",
     "iopub.status.idle": "2022-04-29T02:59:18.241043Z",
     "shell.execute_reply": "2022-04-29T02:59:18.241514Z",
     "shell.execute_reply.started": "2022-04-29T02:50:34.043388Z"
    },
    "papermill": {
     "duration": 0.086746,
     "end_time": "2022-04-29T02:59:18.241660",
     "exception": false,
     "start_time": "2022-04-29T02:59:18.154914",
     "status": "completed"
    },
    "tags": []
   },
   "outputs": [],
   "source": [
    "from sklearn.model_selection import train_test_split\n",
    "from sklearn.metrics import classification_report\n",
    "from sklearn.metrics import accuracy_score\n",
    "from sklearn.svm import SVC\n",
    "sv = SVC()"
   ]
  },
  {
   "cell_type": "code",
   "execution_count": 35,
   "id": "6cb1ffb9",
   "metadata": {
    "execution": {
     "iopub.execute_input": "2022-04-29T02:59:18.380598Z",
     "iopub.status.busy": "2022-04-29T02:59:18.379755Z",
     "iopub.status.idle": "2022-04-29T02:59:18.382220Z",
     "shell.execute_reply": "2022-04-29T02:59:18.381802Z",
     "shell.execute_reply.started": "2022-04-29T02:50:34.051354Z"
    },
    "papermill": {
     "duration": 0.074296,
     "end_time": "2022-04-29T02:59:18.382330",
     "exception": false,
     "start_time": "2022-04-29T02:59:18.308034",
     "status": "completed"
    },
    "tags": []
   },
   "outputs": [],
   "source": [
    "def train_and_evaluate(x, y):\n",
    "    xtrain, xtest, ytrain, ytest = train_test_split(x, y, test_size=0.2)\n",
    "    sv.fit(xtrain, ytrain)\n",
    "    ypred_tr = sv.predict(xtrain)\n",
    "    ypred_ts = sv.predict(xtest)\n",
    "    print(\"Training Results:\\n\")\n",
    "    print(classification_report(ytrain, ypred_tr))\n",
    "    print(\"\\n\\nTesting Results:\\n\")\n",
    "    print(classification_report(ytest, ypred_ts))"
   ]
  },
  {
   "cell_type": "code",
   "execution_count": 36,
   "id": "b9ea7aa5",
   "metadata": {
    "execution": {
     "iopub.execute_input": "2022-04-29T02:59:18.521072Z",
     "iopub.status.busy": "2022-04-29T02:59:18.520333Z",
     "iopub.status.idle": "2022-04-29T02:59:18.522653Z",
     "shell.execute_reply": "2022-04-29T02:59:18.523093Z",
     "shell.execute_reply.started": "2022-04-29T02:50:34.059813Z"
    },
    "papermill": {
     "duration": 0.074009,
     "end_time": "2022-04-29T02:59:18.523225",
     "exception": false,
     "start_time": "2022-04-29T02:59:18.449216",
     "status": "completed"
    },
    "tags": []
   },
   "outputs": [],
   "source": [
    "Y=Y[:5001]"
   ]
  },
  {
   "cell_type": "code",
   "execution_count": 37,
   "id": "8554ad35",
   "metadata": {
    "execution": {
     "iopub.execute_input": "2022-04-29T02:59:18.661351Z",
     "iopub.status.busy": "2022-04-29T02:59:18.660428Z",
     "iopub.status.idle": "2022-04-29T02:59:18.664007Z",
     "shell.execute_reply": "2022-04-29T02:59:18.663576Z",
     "shell.execute_reply.started": "2022-04-29T02:50:34.068583Z"
    },
    "papermill": {
     "duration": 0.072857,
     "end_time": "2022-04-29T02:59:18.664122",
     "exception": false,
     "start_time": "2022-04-29T02:59:18.591265",
     "status": "completed"
    },
    "tags": []
   },
   "outputs": [],
   "source": [
    "# train_and_evaluate(bow_data, Y)"
   ]
  },
  {
   "cell_type": "code",
   "execution_count": 38,
   "id": "e6fc5342",
   "metadata": {
    "execution": {
     "iopub.execute_input": "2022-04-29T02:59:18.806988Z",
     "iopub.status.busy": "2022-04-29T02:59:18.806280Z",
     "iopub.status.idle": "2022-04-29T02:59:18.934270Z",
     "shell.execute_reply": "2022-04-29T02:59:18.933782Z",
     "shell.execute_reply.started": "2022-04-29T02:50:34.077285Z"
    },
    "papermill": {
     "duration": 0.203363,
     "end_time": "2022-04-29T02:59:18.934390",
     "exception": false,
     "start_time": "2022-04-29T02:59:18.731027",
     "status": "completed"
    },
    "tags": []
   },
   "outputs": [],
   "source": [
    "from sklearn.neighbors import KNeighborsClassifier\n",
    "from sklearn.tree import DecisionTreeClassifier\n",
    "from sklearn.naive_bayes import  MultinomialNB\n",
    "from sklearn.svm import LinearSVC\n",
    "from sklearn.ensemble import RandomForestClassifier\n",
    "from sklearn.linear_model import SGDClassifier\n",
    "from sklearn.model_selection import GridSearchCV"
   ]
  },
  {
   "cell_type": "code",
   "execution_count": 39,
   "id": "d14c8f1b",
   "metadata": {
    "execution": {
     "iopub.execute_input": "2022-04-29T02:59:19.077064Z",
     "iopub.status.busy": "2022-04-29T02:59:19.075991Z",
     "iopub.status.idle": "2022-04-29T02:59:19.351215Z",
     "shell.execute_reply": "2022-04-29T02:59:19.350709Z",
     "shell.execute_reply.started": "2022-04-29T02:50:34.086815Z"
    },
    "papermill": {
     "duration": 0.349188,
     "end_time": "2022-04-29T02:59:19.351349",
     "exception": false,
     "start_time": "2022-04-29T02:59:19.002161",
     "status": "completed"
    },
    "tags": []
   },
   "outputs": [],
   "source": [
    "xtrain, xtest, ytrain, ytest = train_test_split(bow_data, Y, test_size=0.2)"
   ]
  },
  {
   "cell_type": "code",
   "execution_count": 40,
   "id": "39de3537",
   "metadata": {
    "execution": {
     "iopub.execute_input": "2022-04-29T02:59:19.497730Z",
     "iopub.status.busy": "2022-04-29T02:59:19.496794Z",
     "iopub.status.idle": "2022-04-29T02:59:19.498757Z",
     "shell.execute_reply": "2022-04-29T02:59:19.499292Z",
     "shell.execute_reply.started": "2022-04-29T02:50:34.370182Z"
    },
    "papermill": {
     "duration": 0.080943,
     "end_time": "2022-04-29T02:59:19.499430",
     "exception": false,
     "start_time": "2022-04-29T02:59:19.418487",
     "status": "completed"
    },
    "tags": []
   },
   "outputs": [],
   "source": [
    "models = [\n",
    "    { \"estimater\": KNeighborsClassifier(),\n",
    "      \"params\": {\n",
    "          \"n_neighbors\": [25,30,35,45],\n",
    "          \"weights\": ['uniform','distance'],\n",
    "          \"leaf_size\": [25,30,35]\n",
    "        }\n",
    "    },\n",
    "    { \"estimater\": DecisionTreeClassifier(),\n",
    "      \"params\": {\n",
    "          \"criterion\": ['gini','entropy'],\n",
    "          \"splitter\": ['best','random'],\n",
    "          \"max_depth\": [None,90,95,100],\n",
    "          \"max_features\": [None, \"auto\",\"sqrt\",\"log2\"],\n",
    "          \"random_state\": [42]\n",
    "      }\n",
    "    },\n",
    "    { \"estimater\": MultinomialNB(),\n",
    "      \"params\": {\n",
    "          \"fit_prior\": [True, False]    \n",
    "      }\n",
    "    },\n",
    "    { \"estimater\": LinearSVC(),\n",
    "      \"params\": {\n",
    "          \"loss\": ['hinge','squared_hinge'],\n",
    "          \"multi_class\": ['ovr', 'crammer_singer'],\n",
    "          \"fit_intercept\": [True, False],\n",
    "          \"random_state\": [42],\n",
    "          \"max_iter\": [50, 100, 200]\n",
    "      }\n",
    "    },\n",
    "    \n",
    "    { \"estimater\": RandomForestClassifier(),\n",
    "      \"params\": {\n",
    "      \"criterion\": ['gini','entropy'],\n",
    "      \"bootstrap\": [True, False],\n",
    "      \"max_depth\": [85,90,95,100],\n",
    "      \"max_features\": ['sqrt','log2'],\n",
    "      \"n_estimators\": [60, 80, 90],\n",
    "      \"random_state\": [42]\n",
    "      }\n",
    "    },\n",
    "    { \"estimater\": SGDClassifier(),\n",
    "      \"params\": {\n",
    "          \"loss\": ['hinge','log','perceptron'], \n",
    "          \"penalty\": ['l2', 'l1'], \n",
    "          \"alpha\": [0.0001, 0.0003, 0.0010],\n",
    "          \"early_stopping\": [True],\n",
    "          \"max_iter\": [1000, 1500],\n",
    "          \"random_state\": [42]\n",
    "      }\n",
    "    }\n",
    "]\n",
    "\n",
    "column_names = [\"KNeighbors\", \"DecisionTree\", \"MultiNB\", \"SVC\", \"RFC\", \"SGDClassifier\"]\n",
    "entries = []\n",
    "\n",
    "highest_acc = 0\n",
    "best_model = None\n"
   ]
  },
  {
   "cell_type": "code",
   "execution_count": 41,
   "id": "69ad64a0",
   "metadata": {
    "execution": {
     "iopub.execute_input": "2022-04-29T02:59:19.640018Z",
     "iopub.status.busy": "2022-04-29T02:59:19.639209Z",
     "iopub.status.idle": "2022-04-29T04:04:08.534008Z",
     "shell.execute_reply": "2022-04-29T04:04:08.534466Z",
     "shell.execute_reply.started": "2022-04-29T02:50:34.383989Z"
    },
    "papermill": {
     "duration": 3888.967629,
     "end_time": "2022-04-29T04:04:08.534627",
     "exception": false,
     "start_time": "2022-04-29T02:59:19.566998",
     "status": "completed"
    },
    "tags": []
   },
   "outputs": [
    {
     "name": "stdout",
     "output_type": "stream",
     "text": [
      "KNeighborsClassifier()\n",
      "0.5964035964035964\n",
      "{'leaf_size': 25, 'n_neighbors': 30, 'weights': 'distance'}\n",
      "DecisionTreeClassifier()\n",
      "0.5814185814185814\n",
      "{'criterion': 'gini', 'max_depth': 90, 'max_features': 'log2', 'random_state': 42, 'splitter': 'random'}\n",
      "MultinomialNB()\n",
      "0.6213786213786214\n",
      "{'fit_prior': False}\n",
      "LinearSVC()\n",
      "0.6453546453546454\n",
      "{'fit_intercept': True, 'loss': 'squared_hinge', 'max_iter': 100, 'multi_class': 'ovr', 'random_state': 42}\n",
      "RandomForestClassifier()\n",
      "0.6153846153846154\n",
      "{'bootstrap': False, 'criterion': 'gini', 'max_depth': 95, 'max_features': 'sqrt', 'n_estimators': 60, 'random_state': 42}\n",
      "SGDClassifier()\n",
      "0.6653346653346653\n",
      "{'alpha': 0.001, 'early_stopping': True, 'loss': 'log', 'max_iter': 1000, 'penalty': 'l2', 'random_state': 42}\n"
     ]
    }
   ],
   "source": [
    "for model in models:\n",
    "    print(model[\"estimater\"])\n",
    "\n",
    "    clf = model[\"estimater\"]\n",
    "    grid_search = GridSearchCV(estimator = clf, param_grid = model[\"params\"], \n",
    "                            cv = 3, n_jobs = 1)\n",
    "    grid_search.fit(xtrain, ytrain);\n",
    "\n",
    "    predicted = grid_search.predict(xtest)\n",
    "    acc = accuracy_score(predicted, ytest)\n",
    "    print(acc)\n",
    "    entries.append(acc)\n",
    "\n",
    "    print(grid_search.best_params_)\n",
    "\n",
    "    if acc > highest_acc:\n",
    "        highest_acc = acc\n",
    "        best_model = grid_search"
   ]
  },
  {
   "cell_type": "code",
   "execution_count": 42,
   "id": "03c87576",
   "metadata": {
    "execution": {
     "iopub.execute_input": "2022-04-29T04:04:08.693202Z",
     "iopub.status.busy": "2022-04-29T04:04:08.687847Z",
     "iopub.status.idle": "2022-04-29T04:04:08.915510Z",
     "shell.execute_reply": "2022-04-29T04:04:08.915919Z",
     "shell.execute_reply.started": "2022-04-29T02:58:06.599899Z"
    },
    "papermill": {
     "duration": 0.311417,
     "end_time": "2022-04-29T04:04:08.916074",
     "exception": false,
     "start_time": "2022-04-29T04:04:08.604657",
     "status": "completed"
    },
    "tags": []
   },
   "outputs": [
    {
     "name": "stdout",
     "output_type": "stream",
     "text": [
      "       Estimater  Accuracy\n",
      "0     KNeighbors  0.596404\n",
      "1   DecisionTree  0.581419\n",
      "2        MultiNB  0.621379\n",
      "3            SVC  0.645355\n",
      "4            RFC  0.615385\n",
      "5  SGDClassifier  0.665335\n"
     ]
    },
    {
     "data": {
      "image/png": "[encoded data removed]",
      "text/plain": [
       "<Figure size 576x360 with 1 Axes>"
      ]
     },
     "metadata": {},
     "output_type": "display_data"
    }
   ],
   "source": [
    "column_name = [\"KNeighbors\", \"DecisionTree\", \"MultiNB\", \"SVC\", \"RFC\", \"SGDClassifier\"]\n",
    "plt.style.use('ggplot')\n",
    "plt.figure(figsize=(8, 5))\n",
    "\n",
    "df = pd.DataFrame({\"Estimater\": column_name, \n",
    "                   \"Accuracy\": entries\n",
    "                  })\n",
    "\n",
    "sns.barplot(x='Estimater', y='Accuracy', data=df)\n",
    "\n",
    "print(df)"
   ]
  },
  {
   "cell_type": "code",
   "execution_count": 43,
   "id": "50aa6513",
   "metadata": {
    "execution": {
     "iopub.execute_input": "2022-04-29T04:04:09.064780Z",
     "iopub.status.busy": "2022-04-29T04:04:09.063203Z",
     "iopub.status.idle": "2022-04-29T04:04:09.065378Z",
     "shell.execute_reply": "2022-04-29T04:04:09.065767Z",
     "shell.execute_reply.started": "2022-04-29T02:58:06.601977Z"
    },
    "papermill": {
     "duration": 0.079564,
     "end_time": "2022-04-29T04:04:09.065940",
     "exception": false,
     "start_time": "2022-04-29T04:04:08.986376",
     "status": "completed"
    },
    "tags": []
   },
   "outputs": [],
   "source": [
    "from sklearn.metrics import accuracy_score, precision_score, recall_score, f1_score\n",
    "from sklearn.metrics import classification_report\n",
    "\n",
    "def evaluate_preds(y_true, y_preds):\n",
    "    \n",
    "\n",
    "    accuracy = accuracy_score(y_true, y_preds)\n",
    "    precision = precision_score(y_true, y_preds, average='micro')\n",
    "    recall = recall_score(y_true, y_preds, average='micro')\n",
    "    f1 = f1_score(y_true, y_preds, average='micro')\n",
    "    metric_dict = {\"accuracy\": round(accuracy, 2),\n",
    "                   \"precision\": round(precision, 2),\n",
    "                   \"recall\": round(recall, 2),\n",
    "                   \"f1\": round(f1, 2)}\n",
    "    print(f\"Acc: {accuracy * 100:.2f}%\")\n",
    "    print(f\"Precision: {precision:.2f}\")\n",
    "    print(f\"Recall: {recall:.2f}\")\n",
    "    print(f\"F1 score: {f1:.2f}\")\n",
    "    \n",
    "    return metric_dict"
   ]
  },
  {
   "cell_type": "code",
   "execution_count": 44,
   "id": "c046310b",
   "metadata": {
    "execution": {
     "iopub.execute_input": "2022-04-29T04:04:09.213762Z",
     "iopub.status.busy": "2022-04-29T04:04:09.212980Z",
     "iopub.status.idle": "2022-04-29T04:04:09.435252Z",
     "shell.execute_reply": "2022-04-29T04:04:09.434472Z",
     "shell.execute_reply.started": "2022-04-29T02:58:06.603910Z"
    },
    "papermill": {
     "duration": 0.300005,
     "end_time": "2022-04-29T04:04:09.435446",
     "exception": false,
     "start_time": "2022-04-29T04:04:09.135441",
     "status": "completed"
    },
    "tags": []
   },
   "outputs": [
    {
     "name": "stdout",
     "output_type": "stream",
     "text": [
      "Acc: 66.53%\n",
      "Precision: 0.67\n",
      "Recall: 0.67\n",
      "F1 score: 0.67\n"
     ]
    },
    {
     "data": {
      "text/plain": [
       "{'accuracy': 0.67, 'precision': 0.67, 'recall': 0.67, 'f1': 0.67}"
      ]
     },
     "execution_count": 44,
     "metadata": {},
     "output_type": "execute_result"
    }
   ],
   "source": [
    "predicted = best_model.predict(xtest)\n",
    "evaluate_preds(ytest, predicted)"
   ]
  },
  {
   "cell_type": "code",
   "execution_count": null,
   "id": "5dac3b4a",
   "metadata": {
    "papermill": {
     "duration": 0.070078,
     "end_time": "2022-04-29T04:04:09.628986",
     "exception": false,
     "start_time": "2022-04-29T04:04:09.558908",
     "status": "completed"
    },
    "tags": []
   },
   "outputs": [],
   "source": []
  }
 ],
 "metadata": {
  "kernelspec": {
   "display_name": "Python 3",
   "language": "python",
   "name": "python3"
  },
  "language_info": {
   "codemirror_mode": {
    "name": "ipython",
    "version": 3
   },
   "file_extension": ".py",
   "mimetype": "text/x-python",
   "name": "python",
   "nbconvert_exporter": "python",
   "pygments_lexer": "ipython3",
   "version": "3.7.12"
  },
  "papermill": {
   "default_parameters": {},
   "duration": 3937.228539,
   "end_time": "2022-04-29T04:04:13.255648",
   "environment_variables": {},
   "exception": null,
   "input_path": "__notebook__.ipynb",
   "output_path": "__notebook__.ipynb",
   "parameters": {},
   "start_time": "2022-04-29T02:58:36.027109",
   "version": "2.3.3"
  }
 },
 "nbformat": 4,
 "nbformat_minor": 5
}
