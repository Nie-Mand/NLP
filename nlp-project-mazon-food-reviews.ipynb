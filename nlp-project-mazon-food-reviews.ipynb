{
 "cells": [
  {
   "cell_type": "markdown",
   "id": "8b577610",
   "metadata": {
    "_cell_guid": "b1076dfc-b9ad-4769-8c92-a6c4dae69d19",
    "_uuid": "8f2839f25d086af736a60e9eeb907d3b93b6e0e5",
    "execution": {
     "iopub.execute_input": "2022-04-28T00:22:12.374273Z",
     "iopub.status.busy": "2022-04-28T00:22:12.373661Z",
     "iopub.status.idle": "2022-04-28T00:22:20.040425Z",
     "shell.execute_reply": "2022-04-28T00:22:20.039418Z",
     "shell.execute_reply.started": "2022-04-28T00:22:12.374171Z"
    },
    "papermill": {
     "duration": 0.037253,
     "end_time": "2022-04-29T11:24:36.037770",
     "exception": false,
     "start_time": "2022-04-29T11:24:36.000517",
     "status": "completed"
    },
    "tags": []
   },
   "source": [
    "# Reference :\n",
    "https://www.kaggle.com/code/mahmoudlimam/basic-nlp-text-classification"
   ]
  },
  {
   "cell_type": "code",
   "execution_count": 1,
   "id": "23a14de6",
   "metadata": {
    "execution": {
     "iopub.execute_input": "2022-04-29T11:24:36.120738Z",
     "iopub.status.busy": "2022-04-29T11:24:36.119929Z",
     "iopub.status.idle": "2022-04-29T11:24:42.540210Z",
     "shell.execute_reply": "2022-04-29T11:24:42.540662Z",
     "shell.execute_reply.started": "2022-04-29T02:50:13.705356Z"
    },
    "papermill": {
     "duration": 6.467462,
     "end_time": "2022-04-29T11:24:42.540980",
     "exception": false,
     "start_time": "2022-04-29T11:24:36.073518",
     "status": "completed"
    },
    "tags": []
   },
   "outputs": [],
   "source": [
    "\n",
    "import numpy as np\n",
    "import pandas as pd \n",
    "from tqdm import tqdm\n",
    "import seaborn as sns\n",
    "import matplotlib.pyplot as plt \n",
    "from tensorflow import keras \n",
    "from keras.preprocessing.text import Tokenizer\n",
    "from nltk.corpus import stopwords\n",
    "import string\n",
    "from tensorflow.keras.models import Sequential,Model\n",
    "from tensorflow.keras.layers import Dense, LSTM, Embedding,Dropout,SpatialDropout1D,Conv1D,MaxPooling1D,GRU,BatchNormalization\n",
    "from tensorflow.keras.layers import Input,Bidirectional,GlobalAveragePooling1D,GlobalMaxPooling1D,concatenate,LeakyReLU\n",
    "from tensorflow.keras import regularizers\n",
    "from tensorflow.keras import backend as K\n",
    "from keras.preprocessing import sequence\n",
    "import warnings\n",
    "warnings.filterwarnings('ignore')"
   ]
  },
  {
   "cell_type": "code",
   "execution_count": 2,
   "id": "58d9104c",
   "metadata": {
    "execution": {
     "iopub.execute_input": "2022-04-29T11:24:42.620113Z",
     "iopub.status.busy": "2022-04-29T11:24:42.619530Z",
     "iopub.status.idle": "2022-04-29T11:24:48.790948Z",
     "shell.execute_reply": "2022-04-29T11:24:48.790448Z",
     "shell.execute_reply.started": "2022-04-29T02:50:13.733608Z"
    },
    "papermill": {
     "duration": 6.212324,
     "end_time": "2022-04-29T11:24:48.791093",
     "exception": false,
     "start_time": "2022-04-29T11:24:42.578769",
     "status": "completed"
    },
    "tags": []
   },
   "outputs": [],
   "source": [
    "data=pd.read_csv(\"../input/amazon-fine-food-reviews/Reviews.csv\")"
   ]
  },
  {
   "cell_type": "code",
   "execution_count": 3,
   "id": "4dc6aa40",
   "metadata": {
    "execution": {
     "iopub.execute_input": "2022-04-29T11:24:48.870058Z",
     "iopub.status.busy": "2022-04-29T11:24:48.869446Z",
     "iopub.status.idle": "2022-04-29T11:24:48.883923Z",
     "shell.execute_reply": "2022-04-29T11:24:48.884324Z",
     "shell.execute_reply.started": "2022-04-29T02:50:17.452050Z"
    },
    "papermill": {
     "duration": 0.057296,
     "end_time": "2022-04-29T11:24:48.884441",
     "exception": false,
     "start_time": "2022-04-29T11:24:48.827145",
     "status": "completed"
    },
    "tags": []
   },
   "outputs": [
    {
     "data": {
      "text/html": [
       "<div>\n",
       "<style scoped>\n",
       "    .dataframe tbody tr th:only-of-type {\n",
       "        vertical-align: middle;\n",
       "    }\n",
       "\n",
       "    .dataframe tbody tr th {\n",
       "        vertical-align: top;\n",
       "    }\n",
       "\n",
       "    .dataframe thead th {\n",
       "        text-align: right;\n",
       "    }\n",
       "</style>\n",
       "<table border=\"1\" class=\"dataframe\">\n",
       "  <thead>\n",
       "    <tr style=\"text-align: right;\">\n",
       "      <th></th>\n",
       "      <th>Id</th>\n",
       "      <th>ProductId</th>\n",
       "      <th>UserId</th>\n",
       "      <th>ProfileName</th>\n",
       "      <th>HelpfulnessNumerator</th>\n",
       "      <th>HelpfulnessDenominator</th>\n",
       "      <th>Score</th>\n",
       "      <th>Time</th>\n",
       "      <th>Summary</th>\n",
       "      <th>Text</th>\n",
       "    </tr>\n",
       "  </thead>\n",
       "  <tbody>\n",
       "    <tr>\n",
       "      <th>0</th>\n",
       "      <td>1</td>\n",
       "      <td>B001E4KFG0</td>\n",
       "      <td>A3SGXH7AUHU8GW</td>\n",
       "      <td>delmartian</td>\n",
       "      <td>1</td>\n",
       "      <td>1</td>\n",
       "      <td>5</td>\n",
       "      <td>1303862400</td>\n",
       "      <td>Good Quality Dog Food</td>\n",
       "      <td>I have bought several of the Vitality canned d...</td>\n",
       "    </tr>\n",
       "    <tr>\n",
       "      <th>1</th>\n",
       "      <td>2</td>\n",
       "      <td>B00813GRG4</td>\n",
       "      <td>A1D87F6ZCVE5NK</td>\n",
       "      <td>dll pa</td>\n",
       "      <td>0</td>\n",
       "      <td>0</td>\n",
       "      <td>1</td>\n",
       "      <td>1346976000</td>\n",
       "      <td>Not as Advertised</td>\n",
       "      <td>Product arrived labeled as Jumbo Salted Peanut...</td>\n",
       "    </tr>\n",
       "    <tr>\n",
       "      <th>2</th>\n",
       "      <td>3</td>\n",
       "      <td>B000LQOCH0</td>\n",
       "      <td>ABXLMWJIXXAIN</td>\n",
       "      <td>Natalia Corres \"Natalia Corres\"</td>\n",
       "      <td>1</td>\n",
       "      <td>1</td>\n",
       "      <td>4</td>\n",
       "      <td>1219017600</td>\n",
       "      <td>\"Delight\" says it all</td>\n",
       "      <td>This is a confection that has been around a fe...</td>\n",
       "    </tr>\n",
       "    <tr>\n",
       "      <th>3</th>\n",
       "      <td>4</td>\n",
       "      <td>B000UA0QIQ</td>\n",
       "      <td>A395BORC6FGVXV</td>\n",
       "      <td>Karl</td>\n",
       "      <td>3</td>\n",
       "      <td>3</td>\n",
       "      <td>2</td>\n",
       "      <td>1307923200</td>\n",
       "      <td>Cough Medicine</td>\n",
       "      <td>If you are looking for the secret ingredient i...</td>\n",
       "    </tr>\n",
       "    <tr>\n",
       "      <th>4</th>\n",
       "      <td>5</td>\n",
       "      <td>B006K2ZZ7K</td>\n",
       "      <td>A1UQRSCLF8GW1T</td>\n",
       "      <td>Michael D. Bigham \"M. Wassir\"</td>\n",
       "      <td>0</td>\n",
       "      <td>0</td>\n",
       "      <td>5</td>\n",
       "      <td>1350777600</td>\n",
       "      <td>Great taffy</td>\n",
       "      <td>Great taffy at a great price.  There was a wid...</td>\n",
       "    </tr>\n",
       "  </tbody>\n",
       "</table>\n",
       "</div>"
      ],
      "text/plain": [
       "   Id   ProductId          UserId                      ProfileName  \\\n",
       "0   1  B001E4KFG0  A3SGXH7AUHU8GW                       delmartian   \n",
       "1   2  B00813GRG4  A1D87F6ZCVE5NK                           dll pa   \n",
       "2   3  B000LQOCH0   ABXLMWJIXXAIN  Natalia Corres \"Natalia Corres\"   \n",
       "3   4  B000UA0QIQ  A395BORC6FGVXV                             Karl   \n",
       "4   5  B006K2ZZ7K  A1UQRSCLF8GW1T    Michael D. Bigham \"M. Wassir\"   \n",
       "\n",
       "   HelpfulnessNumerator  HelpfulnessDenominator  Score        Time  \\\n",
       "0                     1                       1      5  1303862400   \n",
       "1                     0                       0      1  1346976000   \n",
       "2                     1                       1      4  1219017600   \n",
       "3                     3                       3      2  1307923200   \n",
       "4                     0                       0      5  1350777600   \n",
       "\n",
       "                 Summary                                               Text  \n",
       "0  Good Quality Dog Food  I have bought several of the Vitality canned d...  \n",
       "1      Not as Advertised  Product arrived labeled as Jumbo Salted Peanut...  \n",
       "2  \"Delight\" says it all  This is a confection that has been around a fe...  \n",
       "3         Cough Medicine  If you are looking for the secret ingredient i...  \n",
       "4            Great taffy  Great taffy at a great price.  There was a wid...  "
      ]
     },
     "execution_count": 3,
     "metadata": {},
     "output_type": "execute_result"
    }
   ],
   "source": [
    "data.head()"
   ]
  },
  {
   "cell_type": "code",
   "execution_count": 4,
   "id": "4878181b",
   "metadata": {
    "execution": {
     "iopub.execute_input": "2022-04-29T11:24:48.965077Z",
     "iopub.status.busy": "2022-04-29T11:24:48.964426Z",
     "iopub.status.idle": "2022-04-29T11:24:48.967080Z",
     "shell.execute_reply": "2022-04-29T11:24:48.967475Z",
     "shell.execute_reply.started": "2022-04-29T02:50:17.468032Z"
    },
    "papermill": {
     "duration": 0.04547,
     "end_time": "2022-04-29T11:24:48.967586",
     "exception": false,
     "start_time": "2022-04-29T11:24:48.922116",
     "status": "completed"
    },
    "tags": []
   },
   "outputs": [
    {
     "data": {
      "text/plain": [
       "(568454, 10)"
      ]
     },
     "execution_count": 4,
     "metadata": {},
     "output_type": "execute_result"
    }
   ],
   "source": [
    "data.shape"
   ]
  },
  {
   "cell_type": "code",
   "execution_count": 5,
   "id": "5358cf19",
   "metadata": {
    "execution": {
     "iopub.execute_input": "2022-04-29T11:24:49.183010Z",
     "iopub.status.busy": "2022-04-29T11:24:49.181840Z",
     "iopub.status.idle": "2022-04-29T11:24:49.193215Z",
     "shell.execute_reply": "2022-04-29T11:24:49.192750Z",
     "shell.execute_reply.started": "2022-04-29T02:50:17.477773Z"
    },
    "papermill": {
     "duration": 0.188939,
     "end_time": "2022-04-29T11:24:49.193347",
     "exception": false,
     "start_time": "2022-04-29T11:24:49.004408",
     "status": "completed"
    },
    "tags": []
   },
   "outputs": [
    {
     "data": {
      "text/plain": [
       "295742"
      ]
     },
     "execution_count": 5,
     "metadata": {},
     "output_type": "execute_result"
    }
   ],
   "source": [
    "data[\"Summary\"].nunique()\n"
   ]
  },
  {
   "cell_type": "code",
   "execution_count": 6,
   "id": "3e38eedf",
   "metadata": {
    "execution": {
     "iopub.execute_input": "2022-04-29T11:24:49.272120Z",
     "iopub.status.busy": "2022-04-29T11:24:49.271526Z",
     "iopub.status.idle": "2022-04-29T11:24:49.274710Z",
     "shell.execute_reply": "2022-04-29T11:24:49.274279Z",
     "shell.execute_reply.started": "2022-04-29T02:50:17.638704Z"
    },
    "papermill": {
     "duration": 0.044548,
     "end_time": "2022-04-29T11:24:49.274845",
     "exception": false,
     "start_time": "2022-04-29T11:24:49.230297",
     "status": "completed"
    },
    "tags": []
   },
   "outputs": [],
   "source": [
    "data.columns = data.columns.str.lower()"
   ]
  },
  {
   "cell_type": "code",
   "execution_count": 7,
   "id": "6ca219ff",
   "metadata": {
    "execution": {
     "iopub.execute_input": "2022-04-29T11:24:49.360578Z",
     "iopub.status.busy": "2022-04-29T11:24:49.360008Z",
     "iopub.status.idle": "2022-04-29T11:24:49.363696Z",
     "shell.execute_reply": "2022-04-29T11:24:49.363284Z",
     "shell.execute_reply.started": "2022-04-29T02:50:17.645218Z"
    },
    "papermill": {
     "duration": 0.052049,
     "end_time": "2022-04-29T11:24:49.363809",
     "exception": false,
     "start_time": "2022-04-29T11:24:49.311760",
     "status": "completed"
    },
    "tags": []
   },
   "outputs": [
    {
     "data": {
      "text/html": [
       "<div>\n",
       "<style scoped>\n",
       "    .dataframe tbody tr th:only-of-type {\n",
       "        vertical-align: middle;\n",
       "    }\n",
       "\n",
       "    .dataframe tbody tr th {\n",
       "        vertical-align: top;\n",
       "    }\n",
       "\n",
       "    .dataframe thead th {\n",
       "        text-align: right;\n",
       "    }\n",
       "</style>\n",
       "<table border=\"1\" class=\"dataframe\">\n",
       "  <thead>\n",
       "    <tr style=\"text-align: right;\">\n",
       "      <th></th>\n",
       "      <th>id</th>\n",
       "      <th>productid</th>\n",
       "      <th>userid</th>\n",
       "      <th>profilename</th>\n",
       "      <th>helpfulnessnumerator</th>\n",
       "      <th>helpfulnessdenominator</th>\n",
       "      <th>score</th>\n",
       "      <th>time</th>\n",
       "      <th>summary</th>\n",
       "      <th>text</th>\n",
       "    </tr>\n",
       "  </thead>\n",
       "  <tbody>\n",
       "    <tr>\n",
       "      <th>0</th>\n",
       "      <td>1</td>\n",
       "      <td>B001E4KFG0</td>\n",
       "      <td>A3SGXH7AUHU8GW</td>\n",
       "      <td>delmartian</td>\n",
       "      <td>1</td>\n",
       "      <td>1</td>\n",
       "      <td>5</td>\n",
       "      <td>1303862400</td>\n",
       "      <td>Good Quality Dog Food</td>\n",
       "      <td>I have bought several of the Vitality canned d...</td>\n",
       "    </tr>\n",
       "    <tr>\n",
       "      <th>1</th>\n",
       "      <td>2</td>\n",
       "      <td>B00813GRG4</td>\n",
       "      <td>A1D87F6ZCVE5NK</td>\n",
       "      <td>dll pa</td>\n",
       "      <td>0</td>\n",
       "      <td>0</td>\n",
       "      <td>1</td>\n",
       "      <td>1346976000</td>\n",
       "      <td>Not as Advertised</td>\n",
       "      <td>Product arrived labeled as Jumbo Salted Peanut...</td>\n",
       "    </tr>\n",
       "    <tr>\n",
       "      <th>2</th>\n",
       "      <td>3</td>\n",
       "      <td>B000LQOCH0</td>\n",
       "      <td>ABXLMWJIXXAIN</td>\n",
       "      <td>Natalia Corres \"Natalia Corres\"</td>\n",
       "      <td>1</td>\n",
       "      <td>1</td>\n",
       "      <td>4</td>\n",
       "      <td>1219017600</td>\n",
       "      <td>\"Delight\" says it all</td>\n",
       "      <td>This is a confection that has been around a fe...</td>\n",
       "    </tr>\n",
       "    <tr>\n",
       "      <th>3</th>\n",
       "      <td>4</td>\n",
       "      <td>B000UA0QIQ</td>\n",
       "      <td>A395BORC6FGVXV</td>\n",
       "      <td>Karl</td>\n",
       "      <td>3</td>\n",
       "      <td>3</td>\n",
       "      <td>2</td>\n",
       "      <td>1307923200</td>\n",
       "      <td>Cough Medicine</td>\n",
       "      <td>If you are looking for the secret ingredient i...</td>\n",
       "    </tr>\n",
       "    <tr>\n",
       "      <th>4</th>\n",
       "      <td>5</td>\n",
       "      <td>B006K2ZZ7K</td>\n",
       "      <td>A1UQRSCLF8GW1T</td>\n",
       "      <td>Michael D. Bigham \"M. Wassir\"</td>\n",
       "      <td>0</td>\n",
       "      <td>0</td>\n",
       "      <td>5</td>\n",
       "      <td>1350777600</td>\n",
       "      <td>Great taffy</td>\n",
       "      <td>Great taffy at a great price.  There was a wid...</td>\n",
       "    </tr>\n",
       "  </tbody>\n",
       "</table>\n",
       "</div>"
      ],
      "text/plain": [
       "   id   productid          userid                      profilename  \\\n",
       "0   1  B001E4KFG0  A3SGXH7AUHU8GW                       delmartian   \n",
       "1   2  B00813GRG4  A1D87F6ZCVE5NK                           dll pa   \n",
       "2   3  B000LQOCH0   ABXLMWJIXXAIN  Natalia Corres \"Natalia Corres\"   \n",
       "3   4  B000UA0QIQ  A395BORC6FGVXV                             Karl   \n",
       "4   5  B006K2ZZ7K  A1UQRSCLF8GW1T    Michael D. Bigham \"M. Wassir\"   \n",
       "\n",
       "   helpfulnessnumerator  helpfulnessdenominator  score        time  \\\n",
       "0                     1                       1      5  1303862400   \n",
       "1                     0                       0      1  1346976000   \n",
       "2                     1                       1      4  1219017600   \n",
       "3                     3                       3      2  1307923200   \n",
       "4                     0                       0      5  1350777600   \n",
       "\n",
       "                 summary                                               text  \n",
       "0  Good Quality Dog Food  I have bought several of the Vitality canned d...  \n",
       "1      Not as Advertised  Product arrived labeled as Jumbo Salted Peanut...  \n",
       "2  \"Delight\" says it all  This is a confection that has been around a fe...  \n",
       "3         Cough Medicine  If you are looking for the secret ingredient i...  \n",
       "4            Great taffy  Great taffy at a great price.  There was a wid...  "
      ]
     },
     "execution_count": 7,
     "metadata": {},
     "output_type": "execute_result"
    }
   ],
   "source": [
    "data.head()"
   ]
  },
  {
   "cell_type": "code",
   "execution_count": 8,
   "id": "488a6c2f",
   "metadata": {
    "execution": {
     "iopub.execute_input": "2022-04-29T11:24:49.443200Z",
     "iopub.status.busy": "2022-04-29T11:24:49.441677Z",
     "iopub.status.idle": "2022-04-29T11:24:49.443865Z",
     "shell.execute_reply": "2022-04-29T11:24:49.444273Z",
     "shell.execute_reply.started": "2022-04-29T02:50:17.663496Z"
    },
    "papermill": {
     "duration": 0.043792,
     "end_time": "2022-04-29T11:24:49.444387",
     "exception": false,
     "start_time": "2022-04-29T11:24:49.400595",
     "status": "completed"
    },
    "tags": []
   },
   "outputs": [],
   "source": [
    "data.columns = data.columns.str.strip().str.replace(' ', '_')"
   ]
  },
  {
   "cell_type": "code",
   "execution_count": 9,
   "id": "f37fc46c",
   "metadata": {
    "execution": {
     "iopub.execute_input": "2022-04-29T11:24:49.529544Z",
     "iopub.status.busy": "2022-04-29T11:24:49.528943Z",
     "iopub.status.idle": "2022-04-29T11:24:49.532071Z",
     "shell.execute_reply": "2022-04-29T11:24:49.532471Z",
     "shell.execute_reply.started": "2022-04-29T02:50:17.673481Z"
    },
    "papermill": {
     "duration": 0.051401,
     "end_time": "2022-04-29T11:24:49.532582",
     "exception": false,
     "start_time": "2022-04-29T11:24:49.481181",
     "status": "completed"
    },
    "tags": []
   },
   "outputs": [
    {
     "data": {
      "text/html": [
       "<div>\n",
       "<style scoped>\n",
       "    .dataframe tbody tr th:only-of-type {\n",
       "        vertical-align: middle;\n",
       "    }\n",
       "\n",
       "    .dataframe tbody tr th {\n",
       "        vertical-align: top;\n",
       "    }\n",
       "\n",
       "    .dataframe thead th {\n",
       "        text-align: right;\n",
       "    }\n",
       "</style>\n",
       "<table border=\"1\" class=\"dataframe\">\n",
       "  <thead>\n",
       "    <tr style=\"text-align: right;\">\n",
       "      <th></th>\n",
       "      <th>id</th>\n",
       "      <th>productid</th>\n",
       "      <th>userid</th>\n",
       "      <th>profilename</th>\n",
       "      <th>helpfulnessnumerator</th>\n",
       "      <th>helpfulnessdenominator</th>\n",
       "      <th>score</th>\n",
       "      <th>time</th>\n",
       "      <th>summary</th>\n",
       "      <th>text</th>\n",
       "    </tr>\n",
       "  </thead>\n",
       "  <tbody>\n",
       "    <tr>\n",
       "      <th>0</th>\n",
       "      <td>1</td>\n",
       "      <td>B001E4KFG0</td>\n",
       "      <td>A3SGXH7AUHU8GW</td>\n",
       "      <td>delmartian</td>\n",
       "      <td>1</td>\n",
       "      <td>1</td>\n",
       "      <td>5</td>\n",
       "      <td>1303862400</td>\n",
       "      <td>Good Quality Dog Food</td>\n",
       "      <td>I have bought several of the Vitality canned d...</td>\n",
       "    </tr>\n",
       "    <tr>\n",
       "      <th>1</th>\n",
       "      <td>2</td>\n",
       "      <td>B00813GRG4</td>\n",
       "      <td>A1D87F6ZCVE5NK</td>\n",
       "      <td>dll pa</td>\n",
       "      <td>0</td>\n",
       "      <td>0</td>\n",
       "      <td>1</td>\n",
       "      <td>1346976000</td>\n",
       "      <td>Not as Advertised</td>\n",
       "      <td>Product arrived labeled as Jumbo Salted Peanut...</td>\n",
       "    </tr>\n",
       "    <tr>\n",
       "      <th>2</th>\n",
       "      <td>3</td>\n",
       "      <td>B000LQOCH0</td>\n",
       "      <td>ABXLMWJIXXAIN</td>\n",
       "      <td>Natalia Corres \"Natalia Corres\"</td>\n",
       "      <td>1</td>\n",
       "      <td>1</td>\n",
       "      <td>4</td>\n",
       "      <td>1219017600</td>\n",
       "      <td>\"Delight\" says it all</td>\n",
       "      <td>This is a confection that has been around a fe...</td>\n",
       "    </tr>\n",
       "    <tr>\n",
       "      <th>3</th>\n",
       "      <td>4</td>\n",
       "      <td>B000UA0QIQ</td>\n",
       "      <td>A395BORC6FGVXV</td>\n",
       "      <td>Karl</td>\n",
       "      <td>3</td>\n",
       "      <td>3</td>\n",
       "      <td>2</td>\n",
       "      <td>1307923200</td>\n",
       "      <td>Cough Medicine</td>\n",
       "      <td>If you are looking for the secret ingredient i...</td>\n",
       "    </tr>\n",
       "    <tr>\n",
       "      <th>4</th>\n",
       "      <td>5</td>\n",
       "      <td>B006K2ZZ7K</td>\n",
       "      <td>A1UQRSCLF8GW1T</td>\n",
       "      <td>Michael D. Bigham \"M. Wassir\"</td>\n",
       "      <td>0</td>\n",
       "      <td>0</td>\n",
       "      <td>5</td>\n",
       "      <td>1350777600</td>\n",
       "      <td>Great taffy</td>\n",
       "      <td>Great taffy at a great price.  There was a wid...</td>\n",
       "    </tr>\n",
       "  </tbody>\n",
       "</table>\n",
       "</div>"
      ],
      "text/plain": [
       "   id   productid          userid                      profilename  \\\n",
       "0   1  B001E4KFG0  A3SGXH7AUHU8GW                       delmartian   \n",
       "1   2  B00813GRG4  A1D87F6ZCVE5NK                           dll pa   \n",
       "2   3  B000LQOCH0   ABXLMWJIXXAIN  Natalia Corres \"Natalia Corres\"   \n",
       "3   4  B000UA0QIQ  A395BORC6FGVXV                             Karl   \n",
       "4   5  B006K2ZZ7K  A1UQRSCLF8GW1T    Michael D. Bigham \"M. Wassir\"   \n",
       "\n",
       "   helpfulnessnumerator  helpfulnessdenominator  score        time  \\\n",
       "0                     1                       1      5  1303862400   \n",
       "1                     0                       0      1  1346976000   \n",
       "2                     1                       1      4  1219017600   \n",
       "3                     3                       3      2  1307923200   \n",
       "4                     0                       0      5  1350777600   \n",
       "\n",
       "                 summary                                               text  \n",
       "0  Good Quality Dog Food  I have bought several of the Vitality canned d...  \n",
       "1      Not as Advertised  Product arrived labeled as Jumbo Salted Peanut...  \n",
       "2  \"Delight\" says it all  This is a confection that has been around a fe...  \n",
       "3         Cough Medicine  If you are looking for the secret ingredient i...  \n",
       "4            Great taffy  Great taffy at a great price.  There was a wid...  "
      ]
     },
     "execution_count": 9,
     "metadata": {},
     "output_type": "execute_result"
    }
   ],
   "source": [
    "data.head()"
   ]
  },
  {
   "cell_type": "code",
   "execution_count": 10,
   "id": "d710284a",
   "metadata": {
    "execution": {
     "iopub.execute_input": "2022-04-29T11:24:49.641998Z",
     "iopub.status.busy": "2022-04-29T11:24:49.641168Z",
     "iopub.status.idle": "2022-04-29T11:24:49.671008Z",
     "shell.execute_reply": "2022-04-29T11:24:49.670572Z",
     "shell.execute_reply.started": "2022-04-29T02:50:17.690664Z"
    },
    "papermill": {
     "duration": 0.100753,
     "end_time": "2022-04-29T11:24:49.671122",
     "exception": false,
     "start_time": "2022-04-29T11:24:49.570369",
     "status": "completed"
    },
    "tags": []
   },
   "outputs": [
    {
     "data": {
      "text/plain": [
       "74258"
      ]
     },
     "execution_count": 10,
     "metadata": {},
     "output_type": "execute_result"
    }
   ],
   "source": [
    "data['productid'].nunique()"
   ]
  },
  {
   "cell_type": "code",
   "execution_count": 11,
   "id": "cbd673ec",
   "metadata": {
    "execution": {
     "iopub.execute_input": "2022-04-29T11:24:49.752105Z",
     "iopub.status.busy": "2022-04-29T11:24:49.751381Z",
     "iopub.status.idle": "2022-04-29T11:24:50.104534Z",
     "shell.execute_reply": "2022-04-29T11:24:50.103811Z",
     "shell.execute_reply.started": "2022-04-29T02:50:17.754738Z"
    },
    "papermill": {
     "duration": 0.394858,
     "end_time": "2022-04-29T11:24:50.104717",
     "exception": false,
     "start_time": "2022-04-29T11:24:49.709859",
     "status": "completed"
    },
    "tags": []
   },
   "outputs": [
    {
     "data": {
      "text/plain": [
       "id                         0\n",
       "productid                  0\n",
       "userid                     0\n",
       "profilename               16\n",
       "helpfulnessnumerator       0\n",
       "helpfulnessdenominator     0\n",
       "score                      0\n",
       "time                       0\n",
       "summary                   27\n",
       "text                       0\n",
       "dtype: int64"
      ]
     },
     "execution_count": 11,
     "metadata": {},
     "output_type": "execute_result"
    }
   ],
   "source": [
    "data.isna().sum()"
   ]
  },
  {
   "cell_type": "code",
   "execution_count": 12,
   "id": "0cb2fcf0",
   "metadata": {
    "execution": {
     "iopub.execute_input": "2022-04-29T11:24:50.245519Z",
     "iopub.status.busy": "2022-04-29T11:24:50.244553Z",
     "iopub.status.idle": "2022-04-29T11:24:50.253368Z",
     "shell.execute_reply": "2022-04-29T11:24:50.252590Z",
     "shell.execute_reply.started": "2022-04-29T02:50:18.061567Z"
    },
    "papermill": {
     "duration": 0.0757,
     "end_time": "2022-04-29T11:24:50.253526",
     "exception": false,
     "start_time": "2022-04-29T11:24:50.177826",
     "status": "completed"
    },
    "tags": []
   },
   "outputs": [],
   "source": [
    "import sqlite3 \n",
    "database = sqlite3.connect(\"../input/amazon-fine-food-reviews/database.sqlite\")"
   ]
  },
  {
   "cell_type": "code",
   "execution_count": 13,
   "id": "a1a59e70",
   "metadata": {
    "execution": {
     "iopub.execute_input": "2022-04-29T11:24:50.398725Z",
     "iopub.status.busy": "2022-04-29T11:24:50.397586Z",
     "iopub.status.idle": "2022-04-29T11:24:58.071886Z",
     "shell.execute_reply": "2022-04-29T11:24:58.071433Z",
     "shell.execute_reply.started": "2022-04-29T02:50:18.069806Z"
    },
    "papermill": {
     "duration": 7.747929,
     "end_time": "2022-04-29T11:24:58.072011",
     "exception": false,
     "start_time": "2022-04-29T11:24:50.324082",
     "status": "completed"
    },
    "tags": []
   },
   "outputs": [
    {
     "data": {
      "text/html": [
       "<div>\n",
       "<style scoped>\n",
       "    .dataframe tbody tr th:only-of-type {\n",
       "        vertical-align: middle;\n",
       "    }\n",
       "\n",
       "    .dataframe tbody tr th {\n",
       "        vertical-align: top;\n",
       "    }\n",
       "\n",
       "    .dataframe thead th {\n",
       "        text-align: right;\n",
       "    }\n",
       "</style>\n",
       "<table border=\"1\" class=\"dataframe\">\n",
       "  <thead>\n",
       "    <tr style=\"text-align: right;\">\n",
       "      <th></th>\n",
       "      <th>Id</th>\n",
       "      <th>ProductId</th>\n",
       "      <th>UserId</th>\n",
       "      <th>ProfileName</th>\n",
       "      <th>HelpfulnessNumerator</th>\n",
       "      <th>HelpfulnessDenominator</th>\n",
       "      <th>Score</th>\n",
       "      <th>Time</th>\n",
       "      <th>Summary</th>\n",
       "      <th>Text</th>\n",
       "    </tr>\n",
       "  </thead>\n",
       "  <tbody>\n",
       "    <tr>\n",
       "      <th>0</th>\n",
       "      <td>1</td>\n",
       "      <td>B001E4KFG0</td>\n",
       "      <td>A3SGXH7AUHU8GW</td>\n",
       "      <td>delmartian</td>\n",
       "      <td>1</td>\n",
       "      <td>1</td>\n",
       "      <td>5</td>\n",
       "      <td>1303862400</td>\n",
       "      <td>Good Quality Dog Food</td>\n",
       "      <td>I have bought several of the Vitality canned d...</td>\n",
       "    </tr>\n",
       "    <tr>\n",
       "      <th>1</th>\n",
       "      <td>2</td>\n",
       "      <td>B00813GRG4</td>\n",
       "      <td>A1D87F6ZCVE5NK</td>\n",
       "      <td>dll pa</td>\n",
       "      <td>0</td>\n",
       "      <td>0</td>\n",
       "      <td>1</td>\n",
       "      <td>1346976000</td>\n",
       "      <td>Not as Advertised</td>\n",
       "      <td>Product arrived labeled as Jumbo Salted Peanut...</td>\n",
       "    </tr>\n",
       "    <tr>\n",
       "      <th>2</th>\n",
       "      <td>3</td>\n",
       "      <td>B000LQOCH0</td>\n",
       "      <td>ABXLMWJIXXAIN</td>\n",
       "      <td>Natalia Corres \"Natalia Corres\"</td>\n",
       "      <td>1</td>\n",
       "      <td>1</td>\n",
       "      <td>4</td>\n",
       "      <td>1219017600</td>\n",
       "      <td>\"Delight\" says it all</td>\n",
       "      <td>This is a confection that has been around a fe...</td>\n",
       "    </tr>\n",
       "    <tr>\n",
       "      <th>3</th>\n",
       "      <td>4</td>\n",
       "      <td>B000UA0QIQ</td>\n",
       "      <td>A395BORC6FGVXV</td>\n",
       "      <td>Karl</td>\n",
       "      <td>3</td>\n",
       "      <td>3</td>\n",
       "      <td>2</td>\n",
       "      <td>1307923200</td>\n",
       "      <td>Cough Medicine</td>\n",
       "      <td>If you are looking for the secret ingredient i...</td>\n",
       "    </tr>\n",
       "    <tr>\n",
       "      <th>4</th>\n",
       "      <td>5</td>\n",
       "      <td>B006K2ZZ7K</td>\n",
       "      <td>A1UQRSCLF8GW1T</td>\n",
       "      <td>Michael D. Bigham \"M. Wassir\"</td>\n",
       "      <td>0</td>\n",
       "      <td>0</td>\n",
       "      <td>5</td>\n",
       "      <td>1350777600</td>\n",
       "      <td>Great taffy</td>\n",
       "      <td>Great taffy at a great price.  There was a wid...</td>\n",
       "    </tr>\n",
       "  </tbody>\n",
       "</table>\n",
       "</div>"
      ],
      "text/plain": [
       "   Id   ProductId          UserId                      ProfileName  \\\n",
       "0   1  B001E4KFG0  A3SGXH7AUHU8GW                       delmartian   \n",
       "1   2  B00813GRG4  A1D87F6ZCVE5NK                           dll pa   \n",
       "2   3  B000LQOCH0   ABXLMWJIXXAIN  Natalia Corres \"Natalia Corres\"   \n",
       "3   4  B000UA0QIQ  A395BORC6FGVXV                             Karl   \n",
       "4   5  B006K2ZZ7K  A1UQRSCLF8GW1T    Michael D. Bigham \"M. Wassir\"   \n",
       "\n",
       "   HelpfulnessNumerator  HelpfulnessDenominator  Score        Time  \\\n",
       "0                     1                       1      5  1303862400   \n",
       "1                     0                       0      1  1346976000   \n",
       "2                     1                       1      4  1219017600   \n",
       "3                     3                       3      2  1307923200   \n",
       "4                     0                       0      5  1350777600   \n",
       "\n",
       "                 Summary                                               Text  \n",
       "0  Good Quality Dog Food  I have bought several of the Vitality canned d...  \n",
       "1      Not as Advertised  Product arrived labeled as Jumbo Salted Peanut...  \n",
       "2  \"Delight\" says it all  This is a confection that has been around a fe...  \n",
       "3         Cough Medicine  If you are looking for the secret ingredient i...  \n",
       "4            Great taffy  Great taffy at a great price.  There was a wid...  "
      ]
     },
     "execution_count": 13,
     "metadata": {},
     "output_type": "execute_result"
    }
   ],
   "source": [
    "database = pd.read_sql_query(\"\"\"SELECT * FROM Reviews \"\"\",database)\n",
    "database.head()"
   ]
  },
  {
   "cell_type": "code",
   "execution_count": 14,
   "id": "f2b0d3c3",
   "metadata": {
    "execution": {
     "iopub.execute_input": "2022-04-29T11:24:58.154673Z",
     "iopub.status.busy": "2022-04-29T11:24:58.153963Z",
     "iopub.status.idle": "2022-04-29T11:24:58.156680Z",
     "shell.execute_reply": "2022-04-29T11:24:58.157103Z",
     "shell.execute_reply.started": "2022-04-29T02:50:25.853540Z"
    },
    "papermill": {
     "duration": 0.045769,
     "end_time": "2022-04-29T11:24:58.157222",
     "exception": false,
     "start_time": "2022-04-29T11:24:58.111453",
     "status": "completed"
    },
    "tags": []
   },
   "outputs": [
    {
     "data": {
      "text/plain": [
       "(568454, 10)"
      ]
     },
     "execution_count": 14,
     "metadata": {},
     "output_type": "execute_result"
    }
   ],
   "source": [
    "database.shape"
   ]
  },
  {
   "cell_type": "code",
   "execution_count": 15,
   "id": "ec0a7e40",
   "metadata": {
    "execution": {
     "iopub.execute_input": "2022-04-29T11:24:58.238664Z",
     "iopub.status.busy": "2022-04-29T11:24:58.237181Z",
     "iopub.status.idle": "2022-04-29T11:24:58.240756Z",
     "shell.execute_reply": "2022-04-29T11:24:58.240377Z",
     "shell.execute_reply.started": "2022-04-29T02:50:25.861584Z"
    },
    "papermill": {
     "duration": 0.044849,
     "end_time": "2022-04-29T11:24:58.240895",
     "exception": false,
     "start_time": "2022-04-29T11:24:58.196046",
     "status": "completed"
    },
    "tags": []
   },
   "outputs": [],
   "source": [
    "Y=database[\"Score\"]"
   ]
  },
  {
   "cell_type": "code",
   "execution_count": 16,
   "id": "3a6f7170",
   "metadata": {
    "execution": {
     "iopub.execute_input": "2022-04-29T11:24:58.323139Z",
     "iopub.status.busy": "2022-04-29T11:24:58.322451Z",
     "iopub.status.idle": "2022-04-29T11:24:58.330155Z",
     "shell.execute_reply": "2022-04-29T11:24:58.330572Z",
     "shell.execute_reply.started": "2022-04-29T02:50:25.869398Z"
    },
    "papermill": {
     "duration": 0.050587,
     "end_time": "2022-04-29T11:24:58.330683",
     "exception": false,
     "start_time": "2022-04-29T11:24:58.280096",
     "status": "completed"
    },
    "tags": []
   },
   "outputs": [
    {
     "data": {
      "text/plain": [
       "array([5, 1, 4, 2, 3])"
      ]
     },
     "execution_count": 16,
     "metadata": {},
     "output_type": "execute_result"
    }
   ],
   "source": [
    "Y.unique()"
   ]
  },
  {
   "cell_type": "code",
   "execution_count": 17,
   "id": "28bf136c",
   "metadata": {
    "execution": {
     "iopub.execute_input": "2022-04-29T11:24:58.414338Z",
     "iopub.status.busy": "2022-04-29T11:24:58.412794Z",
     "iopub.status.idle": "2022-04-29T11:24:58.414909Z",
     "shell.execute_reply": "2022-04-29T11:24:58.415311Z",
     "shell.execute_reply.started": "2022-04-29T02:50:25.884861Z"
    },
    "papermill": {
     "duration": 0.045375,
     "end_time": "2022-04-29T11:24:58.415422",
     "exception": false,
     "start_time": "2022-04-29T11:24:58.370047",
     "status": "completed"
    },
    "tags": []
   },
   "outputs": [],
   "source": [
    "new_data=data.loc[0:5000,:]"
   ]
  },
  {
   "cell_type": "code",
   "execution_count": 18,
   "id": "56eacbc2",
   "metadata": {
    "execution": {
     "iopub.execute_input": "2022-04-29T11:24:58.497765Z",
     "iopub.status.busy": "2022-04-29T11:24:58.497186Z",
     "iopub.status.idle": "2022-04-29T11:24:58.499729Z",
     "shell.execute_reply": "2022-04-29T11:24:58.500130Z",
     "shell.execute_reply.started": "2022-04-29T02:50:25.892416Z"
    },
    "papermill": {
     "duration": 0.045632,
     "end_time": "2022-04-29T11:24:58.500240",
     "exception": false,
     "start_time": "2022-04-29T11:24:58.454608",
     "status": "completed"
    },
    "tags": []
   },
   "outputs": [
    {
     "data": {
      "text/plain": [
       "(5001, 10)"
      ]
     },
     "execution_count": 18,
     "metadata": {},
     "output_type": "execute_result"
    }
   ],
   "source": [
    "new_data.shape"
   ]
  },
  {
   "cell_type": "code",
   "execution_count": 19,
   "id": "037eea4e",
   "metadata": {
    "execution": {
     "iopub.execute_input": "2022-04-29T11:24:58.595751Z",
     "iopub.status.busy": "2022-04-29T11:24:58.594970Z",
     "iopub.status.idle": "2022-04-29T11:24:58.660735Z",
     "shell.execute_reply": "2022-04-29T11:24:58.661173Z",
     "shell.execute_reply.started": "2022-04-29T02:50:25.902595Z"
    },
    "papermill": {
     "duration": 0.121613,
     "end_time": "2022-04-29T11:24:58.661327",
     "exception": false,
     "start_time": "2022-04-29T11:24:58.539714",
     "status": "completed"
    },
    "tags": []
   },
   "outputs": [
    {
     "data": {
      "text/html": [
       "<div>\n",
       "<style scoped>\n",
       "    .dataframe tbody tr th:only-of-type {\n",
       "        vertical-align: middle;\n",
       "    }\n",
       "\n",
       "    .dataframe tbody tr th {\n",
       "        vertical-align: top;\n",
       "    }\n",
       "\n",
       "    .dataframe thead th {\n",
       "        text-align: right;\n",
       "    }\n",
       "</style>\n",
       "<table border=\"1\" class=\"dataframe\">\n",
       "  <thead>\n",
       "    <tr style=\"text-align: right;\">\n",
       "      <th></th>\n",
       "      <th>Id</th>\n",
       "      <th>HelpfulnessNumerator</th>\n",
       "      <th>HelpfulnessDenominator</th>\n",
       "      <th>Score</th>\n",
       "      <th>Time</th>\n",
       "    </tr>\n",
       "  </thead>\n",
       "  <tbody>\n",
       "    <tr>\n",
       "      <th>count</th>\n",
       "      <td>568454.000000</td>\n",
       "      <td>568454.000000</td>\n",
       "      <td>568454.00000</td>\n",
       "      <td>568454.000000</td>\n",
       "      <td>5.684540e+05</td>\n",
       "    </tr>\n",
       "    <tr>\n",
       "      <th>mean</th>\n",
       "      <td>284227.500000</td>\n",
       "      <td>1.743817</td>\n",
       "      <td>2.22881</td>\n",
       "      <td>4.183199</td>\n",
       "      <td>1.296257e+09</td>\n",
       "    </tr>\n",
       "    <tr>\n",
       "      <th>std</th>\n",
       "      <td>164098.679298</td>\n",
       "      <td>7.636513</td>\n",
       "      <td>8.28974</td>\n",
       "      <td>1.310436</td>\n",
       "      <td>4.804331e+07</td>\n",
       "    </tr>\n",
       "    <tr>\n",
       "      <th>min</th>\n",
       "      <td>1.000000</td>\n",
       "      <td>0.000000</td>\n",
       "      <td>0.00000</td>\n",
       "      <td>1.000000</td>\n",
       "      <td>9.393408e+08</td>\n",
       "    </tr>\n",
       "    <tr>\n",
       "      <th>25%</th>\n",
       "      <td>142114.250000</td>\n",
       "      <td>0.000000</td>\n",
       "      <td>0.00000</td>\n",
       "      <td>4.000000</td>\n",
       "      <td>1.271290e+09</td>\n",
       "    </tr>\n",
       "    <tr>\n",
       "      <th>50%</th>\n",
       "      <td>284227.500000</td>\n",
       "      <td>0.000000</td>\n",
       "      <td>1.00000</td>\n",
       "      <td>5.000000</td>\n",
       "      <td>1.311120e+09</td>\n",
       "    </tr>\n",
       "    <tr>\n",
       "      <th>75%</th>\n",
       "      <td>426340.750000</td>\n",
       "      <td>2.000000</td>\n",
       "      <td>2.00000</td>\n",
       "      <td>5.000000</td>\n",
       "      <td>1.332720e+09</td>\n",
       "    </tr>\n",
       "    <tr>\n",
       "      <th>max</th>\n",
       "      <td>568454.000000</td>\n",
       "      <td>866.000000</td>\n",
       "      <td>923.00000</td>\n",
       "      <td>5.000000</td>\n",
       "      <td>1.351210e+09</td>\n",
       "    </tr>\n",
       "  </tbody>\n",
       "</table>\n",
       "</div>"
      ],
      "text/plain": [
       "                  Id  HelpfulnessNumerator  HelpfulnessDenominator  \\\n",
       "count  568454.000000         568454.000000            568454.00000   \n",
       "mean   284227.500000              1.743817                 2.22881   \n",
       "std    164098.679298              7.636513                 8.28974   \n",
       "min         1.000000              0.000000                 0.00000   \n",
       "25%    142114.250000              0.000000                 0.00000   \n",
       "50%    284227.500000              0.000000                 1.00000   \n",
       "75%    426340.750000              2.000000                 2.00000   \n",
       "max    568454.000000            866.000000               923.00000   \n",
       "\n",
       "               Score          Time  \n",
       "count  568454.000000  5.684540e+05  \n",
       "mean        4.183199  1.296257e+09  \n",
       "std         1.310436  4.804331e+07  \n",
       "min         1.000000  9.393408e+08  \n",
       "25%         4.000000  1.271290e+09  \n",
       "50%         5.000000  1.311120e+09  \n",
       "75%         5.000000  1.332720e+09  \n",
       "max         5.000000  1.351210e+09  "
      ]
     },
     "execution_count": 19,
     "metadata": {},
     "output_type": "execute_result"
    }
   ],
   "source": [
    "database.describe()"
   ]
  },
  {
   "cell_type": "code",
   "execution_count": 20,
   "id": "78356d89",
   "metadata": {
    "execution": {
     "iopub.execute_input": "2022-04-29T11:24:58.747645Z",
     "iopub.status.busy": "2022-04-29T11:24:58.747022Z",
     "iopub.status.idle": "2022-04-29T11:24:58.753561Z",
     "shell.execute_reply": "2022-04-29T11:24:58.753102Z",
     "shell.execute_reply.started": "2022-04-29T02:50:25.986129Z"
    },
    "papermill": {
     "duration": 0.051551,
     "end_time": "2022-04-29T11:24:58.753664",
     "exception": false,
     "start_time": "2022-04-29T11:24:58.702113",
     "status": "completed"
    },
    "tags": []
   },
   "outputs": [],
   "source": [
    "import string\n",
    "from nltk.tokenize import word_tokenize\n",
    "from nltk.stem.snowball import SnowballStemmer\n",
    "stemmer = SnowballStemmer(language=\"english\")\n",
    "from nltk.corpus import stopwords\n",
    "stop_words = set(stopwords.words('english'))\n",
    "punctuation = string.punctuation"
   ]
  },
  {
   "cell_type": "code",
   "execution_count": 21,
   "id": "c8abd386",
   "metadata": {
    "execution": {
     "iopub.execute_input": "2022-04-29T11:24:58.840407Z",
     "iopub.status.busy": "2022-04-29T11:24:58.838869Z",
     "iopub.status.idle": "2022-04-29T11:24:58.841050Z",
     "shell.execute_reply": "2022-04-29T11:24:58.841466Z",
     "shell.execute_reply.started": "2022-04-29T02:50:25.995099Z"
    },
    "papermill": {
     "duration": 0.047565,
     "end_time": "2022-04-29T11:24:58.841586",
     "exception": false,
     "start_time": "2022-04-29T11:24:58.794021",
     "status": "completed"
    },
    "tags": []
   },
   "outputs": [],
   "source": [
    "def transform(c):\n",
    "    return (str(c[\"profilename\"]) + \" \" + str(c[\"summary\"]) + \" \" + str(c[\"text\"]))\n"
   ]
  },
  {
   "cell_type": "code",
   "execution_count": 22,
   "id": "18d28c47",
   "metadata": {
    "execution": {
     "iopub.execute_input": "2022-04-29T11:24:58.936485Z",
     "iopub.status.busy": "2022-04-29T11:24:58.931628Z",
     "iopub.status.idle": "2022-04-29T11:24:59.035076Z",
     "shell.execute_reply": "2022-04-29T11:24:59.034638Z",
     "shell.execute_reply.started": "2022-04-29T02:50:26.003215Z"
    },
    "papermill": {
     "duration": 0.153101,
     "end_time": "2022-04-29T11:24:59.035186",
     "exception": false,
     "start_time": "2022-04-29T11:24:58.882085",
     "status": "completed"
    },
    "tags": []
   },
   "outputs": [],
   "source": [
    "new_data = new_data.apply(transform, axis=1)\n"
   ]
  },
  {
   "cell_type": "code",
   "execution_count": 23,
   "id": "b7f4bb11",
   "metadata": {
    "execution": {
     "iopub.execute_input": "2022-04-29T11:24:59.121855Z",
     "iopub.status.busy": "2022-04-29T11:24:59.121266Z",
     "iopub.status.idle": "2022-04-29T11:24:59.123763Z",
     "shell.execute_reply": "2022-04-29T11:24:59.124171Z",
     "shell.execute_reply.started": "2022-04-29T02:50:26.122270Z"
    },
    "papermill": {
     "duration": 0.048615,
     "end_time": "2022-04-29T11:24:59.124283",
     "exception": false,
     "start_time": "2022-04-29T11:24:59.075668",
     "status": "completed"
    },
    "tags": []
   },
   "outputs": [
    {
     "data": {
      "text/plain": [
       "0    delmartian Good Quality Dog Food I have bought...\n",
       "1    dll pa Not as Advertised Product arrived label...\n",
       "2    Natalia Corres \"Natalia Corres\" \"Delight\" says...\n",
       "3    Karl Cough Medicine If you are looking for the...\n",
       "4    Michael D. Bigham \"M. Wassir\" Great taffy Grea...\n",
       "dtype: object"
      ]
     },
     "execution_count": 23,
     "metadata": {},
     "output_type": "execute_result"
    }
   ],
   "source": [
    "new_data.head()"
   ]
  },
  {
   "cell_type": "code",
   "execution_count": 24,
   "id": "5db567f5",
   "metadata": {
    "execution": {
     "iopub.execute_input": "2022-04-29T11:24:59.211390Z",
     "iopub.status.busy": "2022-04-29T11:24:59.209897Z",
     "iopub.status.idle": "2022-04-29T11:24:59.212017Z",
     "shell.execute_reply": "2022-04-29T11:24:59.212409Z",
     "shell.execute_reply.started": "2022-04-29T02:50:26.131085Z"
    },
    "papermill": {
     "duration": 0.047471,
     "end_time": "2022-04-29T11:24:59.212520",
     "exception": false,
     "start_time": "2022-04-29T11:24:59.165049",
     "status": "completed"
    },
    "tags": []
   },
   "outputs": [],
   "source": [
    "def process(s):\n",
    "    for p in punctuation:\n",
    "        s = s.replace(p, '')\n",
    "    s = s.lower()\n",
    "    s = word_tokenize(s)\n",
    "    s = [w for w in s if not w in stop_words] #optional\n",
    "    s = [stemmer.stem(word) for word in s]\n",
    "    return s"
   ]
  },
  {
   "cell_type": "code",
   "execution_count": 25,
   "id": "2b674957",
   "metadata": {
    "execution": {
     "iopub.execute_input": "2022-04-29T11:24:59.299363Z",
     "iopub.status.busy": "2022-04-29T11:24:59.297843Z",
     "iopub.status.idle": "2022-04-29T11:24:59.299972Z",
     "shell.execute_reply": "2022-04-29T11:24:59.300404Z",
     "shell.execute_reply.started": "2022-04-29T02:50:26.138412Z"
    },
    "papermill": {
     "duration": 0.046871,
     "end_time": "2022-04-29T11:24:59.300525",
     "exception": false,
     "start_time": "2022-04-29T11:24:59.253654",
     "status": "completed"
    },
    "tags": []
   },
   "outputs": [],
   "source": [
    "N=new_data.shape[0]"
   ]
  },
  {
   "cell_type": "code",
   "execution_count": 26,
   "id": "2e14d98c",
   "metadata": {
    "execution": {
     "iopub.execute_input": "2022-04-29T11:24:59.386878Z",
     "iopub.status.busy": "2022-04-29T11:24:59.386035Z",
     "iopub.status.idle": "2022-04-29T11:25:06.200409Z",
     "shell.execute_reply": "2022-04-29T11:25:06.199992Z",
     "shell.execute_reply.started": "2022-04-29T02:50:26.148525Z"
    },
    "papermill": {
     "duration": 6.859089,
     "end_time": "2022-04-29T11:25:06.200530",
     "exception": false,
     "start_time": "2022-04-29T11:24:59.341441",
     "status": "completed"
    },
    "tags": []
   },
   "outputs": [
    {
     "name": "stderr",
     "output_type": "stream",
     "text": [
      "100%|██████████| 5001/5001 [00:06<00:00, 734.76it/s]\n"
     ]
    }
   ],
   "source": [
    "num_sampl = N\n",
    "\n",
    "from tqdm import tqdm\n",
    "\n",
    "for i in tqdm(range(num_sampl)):\n",
    "    new_data[i] = process(new_data[i])"
   ]
  },
  {
   "cell_type": "code",
   "execution_count": 27,
   "id": "04be731d",
   "metadata": {
    "execution": {
     "iopub.execute_input": "2022-04-29T11:25:06.326547Z",
     "iopub.status.busy": "2022-04-29T11:25:06.325676Z",
     "iopub.status.idle": "2022-04-29T11:25:06.395630Z",
     "shell.execute_reply": "2022-04-29T11:25:06.396078Z",
     "shell.execute_reply.started": "2022-04-29T02:50:33.036204Z"
    },
    "papermill": {
     "duration": 0.134109,
     "end_time": "2022-04-29T11:25:06.396261",
     "exception": false,
     "start_time": "2022-04-29T11:25:06.262152",
     "status": "completed"
    },
    "tags": []
   },
   "outputs": [
    {
     "name": "stderr",
     "output_type": "stream",
     "text": [
      "100%|██████████| 5001/5001 [00:00<00:00, 78008.82it/s]\n"
     ]
    }
   ],
   "source": [
    "for i in tqdm(range(N)):\n",
    "    new_data[i] = \" \".join(new_data[i])"
   ]
  },
  {
   "cell_type": "code",
   "execution_count": 28,
   "id": "429a207b",
   "metadata": {
    "execution": {
     "iopub.execute_input": "2022-04-29T11:25:06.523995Z",
     "iopub.status.busy": "2022-04-29T11:25:06.523301Z",
     "iopub.status.idle": "2022-04-29T11:25:06.525963Z",
     "shell.execute_reply": "2022-04-29T11:25:06.526487Z",
     "shell.execute_reply.started": "2022-04-29T02:50:33.163868Z"
    },
    "papermill": {
     "duration": 0.069026,
     "end_time": "2022-04-29T11:25:06.526610",
     "exception": false,
     "start_time": "2022-04-29T11:25:06.457584",
     "status": "completed"
    },
    "tags": []
   },
   "outputs": [
    {
     "data": {
      "text/plain": [
       "0    delmartian good qualiti dog food bought sever ...\n",
       "1    dll pa advertis product arriv label jumbo salt...\n",
       "2    natalia corr natalia corr delight say confect ...\n",
       "3    karl cough medicin look secret ingredi robitus...\n",
       "4    michael bigham wassir great taffi great taffi ...\n",
       "dtype: object"
      ]
     },
     "execution_count": 28,
     "metadata": {},
     "output_type": "execute_result"
    }
   ],
   "source": [
    "new_data.head()"
   ]
  },
  {
   "cell_type": "code",
   "execution_count": 29,
   "id": "1decd531",
   "metadata": {
    "execution": {
     "iopub.execute_input": "2022-04-29T11:25:06.653869Z",
     "iopub.status.busy": "2022-04-29T11:25:06.653260Z",
     "iopub.status.idle": "2022-04-29T11:25:06.655821Z",
     "shell.execute_reply": "2022-04-29T11:25:06.656217Z",
     "shell.execute_reply.started": "2022-04-29T02:50:33.186010Z"
    },
    "papermill": {
     "duration": 0.068663,
     "end_time": "2022-04-29T11:25:06.656329",
     "exception": false,
     "start_time": "2022-04-29T11:25:06.587666",
     "status": "completed"
    },
    "tags": []
   },
   "outputs": [
    {
     "data": {
      "text/plain": [
       "(5001,)"
      ]
     },
     "execution_count": 29,
     "metadata": {},
     "output_type": "execute_result"
    }
   ],
   "source": [
    "new_data.shape"
   ]
  },
  {
   "cell_type": "code",
   "execution_count": 30,
   "id": "0393b80d",
   "metadata": {
    "execution": {
     "iopub.execute_input": "2022-04-29T11:25:06.783852Z",
     "iopub.status.busy": "2022-04-29T11:25:06.783186Z",
     "iopub.status.idle": "2022-04-29T11:25:06.785704Z",
     "shell.execute_reply": "2022-04-29T11:25:06.785230Z",
     "shell.execute_reply.started": "2022-04-29T02:50:33.199457Z"
    },
    "papermill": {
     "duration": 0.06692,
     "end_time": "2022-04-29T11:25:06.785834",
     "exception": false,
     "start_time": "2022-04-29T11:25:06.718914",
     "status": "completed"
    },
    "tags": []
   },
   "outputs": [],
   "source": [
    "from sklearn.feature_extraction.text import CountVectorizer, TfidfVectorizer\n",
    "vectorizer = CountVectorizer()"
   ]
  },
  {
   "cell_type": "code",
   "execution_count": 31,
   "id": "0e672fb2",
   "metadata": {
    "execution": {
     "iopub.execute_input": "2022-04-29T11:25:06.946890Z",
     "iopub.status.busy": "2022-04-29T11:25:06.912596Z",
     "iopub.status.idle": "2022-04-29T11:25:07.169198Z",
     "shell.execute_reply": "2022-04-29T11:25:07.168608Z",
     "shell.execute_reply.started": "2022-04-29T02:50:33.209806Z"
    },
    "papermill": {
     "duration": 0.32204,
     "end_time": "2022-04-29T11:25:07.169336",
     "exception": false,
     "start_time": "2022-04-29T11:25:06.847296",
     "status": "completed"
    },
    "tags": []
   },
   "outputs": [],
   "source": [
    "bow_data = vectorizer.fit_transform(new_data)"
   ]
  },
  {
   "cell_type": "code",
   "execution_count": 32,
   "id": "614467a5",
   "metadata": {
    "execution": {
     "iopub.execute_input": "2022-04-29T11:25:07.332064Z",
     "iopub.status.busy": "2022-04-29T11:25:07.296602Z",
     "iopub.status.idle": "2022-04-29T11:25:07.739325Z",
     "shell.execute_reply": "2022-04-29T11:25:07.738837Z",
     "shell.execute_reply.started": "2022-04-29T02:50:33.560440Z"
    },
    "papermill": {
     "duration": 0.508106,
     "end_time": "2022-04-29T11:25:07.739457",
     "exception": false,
     "start_time": "2022-04-29T11:25:07.231351",
     "status": "completed"
    },
    "tags": []
   },
   "outputs": [],
   "source": [
    "vectorizer = CountVectorizer(max_features=100000)\n",
    "bow_data = vectorizer.fit_transform(new_data).toarray()\n",
    "features = vectorizer.get_feature_names_out()\n",
    "bow_data = pd.DataFrame(bow_data, columns=features)"
   ]
  },
  {
   "cell_type": "code",
   "execution_count": 33,
   "id": "d3aca504",
   "metadata": {
    "execution": {
     "iopub.execute_input": "2022-04-29T11:25:07.869911Z",
     "iopub.status.busy": "2022-04-29T11:25:07.869117Z",
     "iopub.status.idle": "2022-04-29T11:25:07.888710Z",
     "shell.execute_reply": "2022-04-29T11:25:07.889104Z",
     "shell.execute_reply.started": "2022-04-29T02:50:34.015264Z"
    },
    "papermill": {
     "duration": 0.087595,
     "end_time": "2022-04-29T11:25:07.889226",
     "exception": false,
     "start_time": "2022-04-29T11:25:07.801631",
     "status": "completed"
    },
    "tags": []
   },
   "outputs": [
    {
     "data": {
      "text/html": [
       "<div>\n",
       "<style scoped>\n",
       "    .dataframe tbody tr th:only-of-type {\n",
       "        vertical-align: middle;\n",
       "    }\n",
       "\n",
       "    .dataframe tbody tr th {\n",
       "        vertical-align: top;\n",
       "    }\n",
       "\n",
       "    .dataframe thead th {\n",
       "        text-align: right;\n",
       "    }\n",
       "</style>\n",
       "<table border=\"1\" class=\"dataframe\">\n",
       "  <thead>\n",
       "    <tr style=\"text-align: right;\">\n",
       "      <th></th>\n",
       "      <th>00</th>\n",
       "      <th>002</th>\n",
       "      <th>01</th>\n",
       "      <th>0174organ</th>\n",
       "      <th>0212</th>\n",
       "      <th>02122012br</th>\n",
       "      <th>026</th>\n",
       "      <th>028</th>\n",
       "      <th>029</th>\n",
       "      <th>02ounc</th>\n",
       "      <th>...</th>\n",
       "      <th>ztardust</th>\n",
       "      <th>zuccarino</th>\n",
       "      <th>zucchini</th>\n",
       "      <th>zucchinibr</th>\n",
       "      <th>zugg</th>\n",
       "      <th>zuke</th>\n",
       "      <th>zulli</th>\n",
       "      <th>zupa</th>\n",
       "      <th>zuppa</th>\n",
       "      <th>îts</th>\n",
       "    </tr>\n",
       "  </thead>\n",
       "  <tbody>\n",
       "    <tr>\n",
       "      <th>0</th>\n",
       "      <td>0</td>\n",
       "      <td>0</td>\n",
       "      <td>0</td>\n",
       "      <td>0</td>\n",
       "      <td>0</td>\n",
       "      <td>0</td>\n",
       "      <td>0</td>\n",
       "      <td>0</td>\n",
       "      <td>0</td>\n",
       "      <td>0</td>\n",
       "      <td>...</td>\n",
       "      <td>0</td>\n",
       "      <td>0</td>\n",
       "      <td>0</td>\n",
       "      <td>0</td>\n",
       "      <td>0</td>\n",
       "      <td>0</td>\n",
       "      <td>0</td>\n",
       "      <td>0</td>\n",
       "      <td>0</td>\n",
       "      <td>0</td>\n",
       "    </tr>\n",
       "    <tr>\n",
       "      <th>1</th>\n",
       "      <td>0</td>\n",
       "      <td>0</td>\n",
       "      <td>0</td>\n",
       "      <td>0</td>\n",
       "      <td>0</td>\n",
       "      <td>0</td>\n",
       "      <td>0</td>\n",
       "      <td>0</td>\n",
       "      <td>0</td>\n",
       "      <td>0</td>\n",
       "      <td>...</td>\n",
       "      <td>0</td>\n",
       "      <td>0</td>\n",
       "      <td>0</td>\n",
       "      <td>0</td>\n",
       "      <td>0</td>\n",
       "      <td>0</td>\n",
       "      <td>0</td>\n",
       "      <td>0</td>\n",
       "      <td>0</td>\n",
       "      <td>0</td>\n",
       "    </tr>\n",
       "    <tr>\n",
       "      <th>2</th>\n",
       "      <td>0</td>\n",
       "      <td>0</td>\n",
       "      <td>0</td>\n",
       "      <td>0</td>\n",
       "      <td>0</td>\n",
       "      <td>0</td>\n",
       "      <td>0</td>\n",
       "      <td>0</td>\n",
       "      <td>0</td>\n",
       "      <td>0</td>\n",
       "      <td>...</td>\n",
       "      <td>0</td>\n",
       "      <td>0</td>\n",
       "      <td>0</td>\n",
       "      <td>0</td>\n",
       "      <td>0</td>\n",
       "      <td>0</td>\n",
       "      <td>0</td>\n",
       "      <td>0</td>\n",
       "      <td>0</td>\n",
       "      <td>0</td>\n",
       "    </tr>\n",
       "    <tr>\n",
       "      <th>3</th>\n",
       "      <td>0</td>\n",
       "      <td>0</td>\n",
       "      <td>0</td>\n",
       "      <td>0</td>\n",
       "      <td>0</td>\n",
       "      <td>0</td>\n",
       "      <td>0</td>\n",
       "      <td>0</td>\n",
       "      <td>0</td>\n",
       "      <td>0</td>\n",
       "      <td>...</td>\n",
       "      <td>0</td>\n",
       "      <td>0</td>\n",
       "      <td>0</td>\n",
       "      <td>0</td>\n",
       "      <td>0</td>\n",
       "      <td>0</td>\n",
       "      <td>0</td>\n",
       "      <td>0</td>\n",
       "      <td>0</td>\n",
       "      <td>0</td>\n",
       "    </tr>\n",
       "    <tr>\n",
       "      <th>4</th>\n",
       "      <td>0</td>\n",
       "      <td>0</td>\n",
       "      <td>0</td>\n",
       "      <td>0</td>\n",
       "      <td>0</td>\n",
       "      <td>0</td>\n",
       "      <td>0</td>\n",
       "      <td>0</td>\n",
       "      <td>0</td>\n",
       "      <td>0</td>\n",
       "      <td>...</td>\n",
       "      <td>0</td>\n",
       "      <td>0</td>\n",
       "      <td>0</td>\n",
       "      <td>0</td>\n",
       "      <td>0</td>\n",
       "      <td>0</td>\n",
       "      <td>0</td>\n",
       "      <td>0</td>\n",
       "      <td>0</td>\n",
       "      <td>0</td>\n",
       "    </tr>\n",
       "    <tr>\n",
       "      <th>...</th>\n",
       "      <td>...</td>\n",
       "      <td>...</td>\n",
       "      <td>...</td>\n",
       "      <td>...</td>\n",
       "      <td>...</td>\n",
       "      <td>...</td>\n",
       "      <td>...</td>\n",
       "      <td>...</td>\n",
       "      <td>...</td>\n",
       "      <td>...</td>\n",
       "      <td>...</td>\n",
       "      <td>...</td>\n",
       "      <td>...</td>\n",
       "      <td>...</td>\n",
       "      <td>...</td>\n",
       "      <td>...</td>\n",
       "      <td>...</td>\n",
       "      <td>...</td>\n",
       "      <td>...</td>\n",
       "      <td>...</td>\n",
       "      <td>...</td>\n",
       "    </tr>\n",
       "    <tr>\n",
       "      <th>4996</th>\n",
       "      <td>0</td>\n",
       "      <td>0</td>\n",
       "      <td>0</td>\n",
       "      <td>0</td>\n",
       "      <td>0</td>\n",
       "      <td>0</td>\n",
       "      <td>0</td>\n",
       "      <td>0</td>\n",
       "      <td>0</td>\n",
       "      <td>0</td>\n",
       "      <td>...</td>\n",
       "      <td>0</td>\n",
       "      <td>0</td>\n",
       "      <td>0</td>\n",
       "      <td>0</td>\n",
       "      <td>0</td>\n",
       "      <td>0</td>\n",
       "      <td>0</td>\n",
       "      <td>0</td>\n",
       "      <td>0</td>\n",
       "      <td>0</td>\n",
       "    </tr>\n",
       "    <tr>\n",
       "      <th>4997</th>\n",
       "      <td>0</td>\n",
       "      <td>0</td>\n",
       "      <td>0</td>\n",
       "      <td>0</td>\n",
       "      <td>0</td>\n",
       "      <td>0</td>\n",
       "      <td>0</td>\n",
       "      <td>0</td>\n",
       "      <td>0</td>\n",
       "      <td>0</td>\n",
       "      <td>...</td>\n",
       "      <td>0</td>\n",
       "      <td>0</td>\n",
       "      <td>0</td>\n",
       "      <td>0</td>\n",
       "      <td>0</td>\n",
       "      <td>0</td>\n",
       "      <td>0</td>\n",
       "      <td>0</td>\n",
       "      <td>0</td>\n",
       "      <td>0</td>\n",
       "    </tr>\n",
       "    <tr>\n",
       "      <th>4998</th>\n",
       "      <td>0</td>\n",
       "      <td>0</td>\n",
       "      <td>0</td>\n",
       "      <td>0</td>\n",
       "      <td>0</td>\n",
       "      <td>0</td>\n",
       "      <td>0</td>\n",
       "      <td>0</td>\n",
       "      <td>0</td>\n",
       "      <td>0</td>\n",
       "      <td>...</td>\n",
       "      <td>0</td>\n",
       "      <td>0</td>\n",
       "      <td>0</td>\n",
       "      <td>0</td>\n",
       "      <td>0</td>\n",
       "      <td>0</td>\n",
       "      <td>0</td>\n",
       "      <td>0</td>\n",
       "      <td>0</td>\n",
       "      <td>0</td>\n",
       "    </tr>\n",
       "    <tr>\n",
       "      <th>4999</th>\n",
       "      <td>0</td>\n",
       "      <td>0</td>\n",
       "      <td>0</td>\n",
       "      <td>0</td>\n",
       "      <td>0</td>\n",
       "      <td>0</td>\n",
       "      <td>0</td>\n",
       "      <td>0</td>\n",
       "      <td>0</td>\n",
       "      <td>0</td>\n",
       "      <td>...</td>\n",
       "      <td>0</td>\n",
       "      <td>0</td>\n",
       "      <td>0</td>\n",
       "      <td>0</td>\n",
       "      <td>0</td>\n",
       "      <td>0</td>\n",
       "      <td>0</td>\n",
       "      <td>0</td>\n",
       "      <td>0</td>\n",
       "      <td>0</td>\n",
       "    </tr>\n",
       "    <tr>\n",
       "      <th>5000</th>\n",
       "      <td>0</td>\n",
       "      <td>0</td>\n",
       "      <td>0</td>\n",
       "      <td>0</td>\n",
       "      <td>0</td>\n",
       "      <td>0</td>\n",
       "      <td>0</td>\n",
       "      <td>0</td>\n",
       "      <td>0</td>\n",
       "      <td>0</td>\n",
       "      <td>...</td>\n",
       "      <td>0</td>\n",
       "      <td>0</td>\n",
       "      <td>0</td>\n",
       "      <td>0</td>\n",
       "      <td>0</td>\n",
       "      <td>0</td>\n",
       "      <td>0</td>\n",
       "      <td>0</td>\n",
       "      <td>0</td>\n",
       "      <td>0</td>\n",
       "    </tr>\n",
       "  </tbody>\n",
       "</table>\n",
       "<p>5001 rows × 17397 columns</p>\n",
       "</div>"
      ],
      "text/plain": [
       "      00  002  01  0174organ  0212  02122012br  026  028  029  02ounc  ...  \\\n",
       "0      0    0   0          0     0           0    0    0    0       0  ...   \n",
       "1      0    0   0          0     0           0    0    0    0       0  ...   \n",
       "2      0    0   0          0     0           0    0    0    0       0  ...   \n",
       "3      0    0   0          0     0           0    0    0    0       0  ...   \n",
       "4      0    0   0          0     0           0    0    0    0       0  ...   \n",
       "...   ..  ...  ..        ...   ...         ...  ...  ...  ...     ...  ...   \n",
       "4996   0    0   0          0     0           0    0    0    0       0  ...   \n",
       "4997   0    0   0          0     0           0    0    0    0       0  ...   \n",
       "4998   0    0   0          0     0           0    0    0    0       0  ...   \n",
       "4999   0    0   0          0     0           0    0    0    0       0  ...   \n",
       "5000   0    0   0          0     0           0    0    0    0       0  ...   \n",
       "\n",
       "      ztardust  zuccarino  zucchini  zucchinibr  zugg  zuke  zulli  zupa  \\\n",
       "0            0          0         0           0     0     0      0     0   \n",
       "1            0          0         0           0     0     0      0     0   \n",
       "2            0          0         0           0     0     0      0     0   \n",
       "3            0          0         0           0     0     0      0     0   \n",
       "4            0          0         0           0     0     0      0     0   \n",
       "...        ...        ...       ...         ...   ...   ...    ...   ...   \n",
       "4996         0          0         0           0     0     0      0     0   \n",
       "4997         0          0         0           0     0     0      0     0   \n",
       "4998         0          0         0           0     0     0      0     0   \n",
       "4999         0          0         0           0     0     0      0     0   \n",
       "5000         0          0         0           0     0     0      0     0   \n",
       "\n",
       "      zuppa  îts  \n",
       "0         0    0  \n",
       "1         0    0  \n",
       "2         0    0  \n",
       "3         0    0  \n",
       "4         0    0  \n",
       "...     ...  ...  \n",
       "4996      0    0  \n",
       "4997      0    0  \n",
       "4998      0    0  \n",
       "4999      0    0  \n",
       "5000      0    0  \n",
       "\n",
       "[5001 rows x 17397 columns]"
      ]
     },
     "execution_count": 33,
     "metadata": {},
     "output_type": "execute_result"
    }
   ],
   "source": [
    "bow_data"
   ]
  },
  {
   "cell_type": "code",
   "execution_count": 34,
   "id": "68331b84",
   "metadata": {
    "execution": {
     "iopub.execute_input": "2022-04-29T11:25:08.019835Z",
     "iopub.status.busy": "2022-04-29T11:25:08.019213Z",
     "iopub.status.idle": "2022-04-29T11:25:08.022007Z",
     "shell.execute_reply": "2022-04-29T11:25:08.021500Z",
     "shell.execute_reply.started": "2022-04-29T02:50:34.043388Z"
    },
    "papermill": {
     "duration": 0.070007,
     "end_time": "2022-04-29T11:25:08.022113",
     "exception": false,
     "start_time": "2022-04-29T11:25:07.952106",
     "status": "completed"
    },
    "tags": []
   },
   "outputs": [],
   "source": [
    "from sklearn.model_selection import train_test_split\n",
    "from sklearn.metrics import classification_report\n",
    "from sklearn.metrics import accuracy_score\n"
   ]
  },
  {
   "cell_type": "code",
   "execution_count": 35,
   "id": "cd51d0fa",
   "metadata": {
    "execution": {
     "iopub.execute_input": "2022-04-29T11:25:08.150932Z",
     "iopub.status.busy": "2022-04-29T11:25:08.150339Z",
     "iopub.status.idle": "2022-04-29T11:25:08.153013Z",
     "shell.execute_reply": "2022-04-29T11:25:08.152538Z",
     "shell.execute_reply.started": "2022-04-29T02:50:34.059813Z"
    },
    "papermill": {
     "duration": 0.068196,
     "end_time": "2022-04-29T11:25:08.153118",
     "exception": false,
     "start_time": "2022-04-29T11:25:08.084922",
     "status": "completed"
    },
    "tags": []
   },
   "outputs": [],
   "source": [
    "Y=Y[:5001]"
   ]
  },
  {
   "cell_type": "code",
   "execution_count": 36,
   "id": "c59b9878",
   "metadata": {
    "execution": {
     "iopub.execute_input": "2022-04-29T11:25:08.282611Z",
     "iopub.status.busy": "2022-04-29T11:25:08.282006Z",
     "iopub.status.idle": "2022-04-29T11:25:08.406122Z",
     "shell.execute_reply": "2022-04-29T11:25:08.405680Z",
     "shell.execute_reply.started": "2022-04-29T02:50:34.077285Z"
    },
    "papermill": {
     "duration": 0.190951,
     "end_time": "2022-04-29T11:25:08.406234",
     "exception": false,
     "start_time": "2022-04-29T11:25:08.215283",
     "status": "completed"
    },
    "tags": []
   },
   "outputs": [],
   "source": [
    "from sklearn.neighbors import KNeighborsClassifier\n",
    "from sklearn.tree import DecisionTreeClassifier\n",
    "from sklearn.naive_bayes import  MultinomialNB\n",
    "from sklearn.svm import LinearSVC\n",
    "from sklearn.ensemble import RandomForestClassifier\n",
    "from sklearn.linear_model import SGDClassifier\n",
    "from sklearn.model_selection import GridSearchCV"
   ]
  },
  {
   "cell_type": "code",
   "execution_count": 37,
   "id": "04e6f8ff",
   "metadata": {
    "execution": {
     "iopub.execute_input": "2022-04-29T11:25:08.538724Z",
     "iopub.status.busy": "2022-04-29T11:25:08.537773Z",
     "iopub.status.idle": "2022-04-29T11:25:08.805492Z",
     "shell.execute_reply": "2022-04-29T11:25:08.804538Z",
     "shell.execute_reply.started": "2022-04-29T02:50:34.086815Z"
    },
    "papermill": {
     "duration": 0.335229,
     "end_time": "2022-04-29T11:25:08.805644",
     "exception": false,
     "start_time": "2022-04-29T11:25:08.470415",
     "status": "completed"
    },
    "tags": []
   },
   "outputs": [],
   "source": [
    "xtrain, xtest, ytrain, ytest = train_test_split(bow_data, Y, test_size=0.2)"
   ]
  },
  {
   "cell_type": "code",
   "execution_count": 38,
   "id": "8a45ebd9",
   "metadata": {
    "execution": {
     "iopub.execute_input": "2022-04-29T11:25:08.942744Z",
     "iopub.status.busy": "2022-04-29T11:25:08.941881Z",
     "iopub.status.idle": "2022-04-29T11:25:08.944591Z",
     "shell.execute_reply": "2022-04-29T11:25:08.944059Z",
     "shell.execute_reply.started": "2022-04-29T02:50:34.370182Z"
    },
    "papermill": {
     "duration": 0.076119,
     "end_time": "2022-04-29T11:25:08.944709",
     "exception": false,
     "start_time": "2022-04-29T11:25:08.868590",
     "status": "completed"
    },
    "tags": []
   },
   "outputs": [],
   "source": [
    "models = [\n",
    "    { \"estimater\": KNeighborsClassifier(),\n",
    "      \"params\": {\n",
    "          \"n_neighbors\": [25,30,35,45],\n",
    "          \"weights\": ['uniform','distance'],\n",
    "          \"leaf_size\": [25,30,35]\n",
    "        }\n",
    "    },\n",
    "    { \"estimater\": DecisionTreeClassifier(),\n",
    "      \"params\": {\n",
    "          \"criterion\": ['gini','entropy'],\n",
    "          \"splitter\": ['best','random'],\n",
    "          \"max_depth\": [None,90,95,100],\n",
    "          \"max_features\": [None, \"auto\",\"sqrt\",\"log2\"],\n",
    "          \"random_state\": [42]\n",
    "      }\n",
    "    },\n",
    "    { \"estimater\": MultinomialNB(),\n",
    "      \"params\": {\n",
    "          \"fit_prior\": [True, False]    \n",
    "      }\n",
    "    },\n",
    "    { \"estimater\": LinearSVC(),\n",
    "      \"params\": {\n",
    "          \"loss\": ['hinge','squared_hinge'],\n",
    "          \"multi_class\": ['ovr', 'crammer_singer'],\n",
    "          \"fit_intercept\": [True, False],\n",
    "          \"random_state\": [42],\n",
    "          \"max_iter\": [50, 100, 200]\n",
    "      }\n",
    "    },\n",
    "    \n",
    "    { \"estimater\": RandomForestClassifier(),\n",
    "      \"params\": {\n",
    "      \"criterion\": ['gini','entropy'],\n",
    "      \"bootstrap\": [True, False],\n",
    "      \"max_depth\": [85,90,95,100],\n",
    "      \"max_features\": ['sqrt','log2'],\n",
    "      \"n_estimators\": [60, 80, 90],\n",
    "      \"random_state\": [42]\n",
    "      }\n",
    "    },\n",
    "    { \"estimater\": SGDClassifier(),\n",
    "      \"params\": {\n",
    "          \"loss\": ['hinge','log','perceptron'], \n",
    "          \"penalty\": ['l2', 'l1'], \n",
    "          \"alpha\": [0.0001, 0.0003, 0.0010],\n",
    "          \"early_stopping\": [True],\n",
    "          \"max_iter\": [1000, 1500],\n",
    "          \"random_state\": [42]\n",
    "      }\n",
    "    }\n",
    "]\n",
    "\n",
    "column_names = [\"KNeighbors\", \"DecisionTree\", \"MultiNB\", \"SVC\", \"RFC\", \"SGDClassifier\"]\n",
    "entries = []\n",
    "\n",
    "highest_acc = 0\n",
    "best_model = None\n"
   ]
  },
  {
   "cell_type": "code",
   "execution_count": 39,
   "id": "272fea77",
   "metadata": {
    "execution": {
     "iopub.execute_input": "2022-04-29T11:25:09.075588Z",
     "iopub.status.busy": "2022-04-29T11:25:09.074802Z",
     "iopub.status.idle": "2022-04-29T12:29:03.535532Z",
     "shell.execute_reply": "2022-04-29T12:29:03.536312Z"
    },
    "papermill": {
     "duration": 3834.528816,
     "end_time": "2022-04-29T12:29:03.536542",
     "exception": false,
     "start_time": "2022-04-29T11:25:09.007726",
     "status": "completed"
    },
    "tags": []
   },
   "outputs": [
    {
     "name": "stdout",
     "output_type": "stream",
     "text": [
      "KNeighborsClassifier()\n",
      "0.6173826173826173\n",
      "{'leaf_size': 25, 'n_neighbors': 25, 'weights': 'distance'}\n",
      "DecisionTreeClassifier()\n",
      "0.5944055944055944\n",
      "{'criterion': 'gini', 'max_depth': 95, 'max_features': 'log2', 'random_state': 42, 'splitter': 'random'}\n",
      "MultinomialNB()\n",
      "0.6413586413586414\n",
      "{'fit_prior': True}\n",
      "LinearSVC()\n",
      "0.6513486513486514\n",
      "{'fit_intercept': True, 'loss': 'squared_hinge', 'max_iter': 100, 'multi_class': 'ovr', 'random_state': 42}\n",
      "RandomForestClassifier()\n",
      "0.6363636363636364\n",
      "{'bootstrap': False, 'criterion': 'gini', 'max_depth': 100, 'max_features': 'sqrt', 'n_estimators': 90, 'random_state': 42}\n",
      "SGDClassifier()\n",
      "0.6733266733266733\n",
      "{'alpha': 0.001, 'early_stopping': True, 'loss': 'log', 'max_iter': 1000, 'penalty': 'l2', 'random_state': 42}\n"
     ]
    }
   ],
   "source": [
    "for model in models:\n",
    "    print(model[\"estimater\"])\n",
    "\n",
    "    clf = model[\"estimater\"]\n",
    "    grid_search = GridSearchCV(estimator = clf, param_grid = model[\"params\"], \n",
    "                            cv = 3, n_jobs = 1)\n",
    "    grid_search.fit(xtrain, ytrain);\n",
    "\n",
    "    predicted = grid_search.predict(xtest)\n",
    "    acc = accuracy_score(predicted, ytest)\n",
    "    print(acc)\n",
    "    entries.append(acc)\n",
    "\n",
    "    print(grid_search.best_params_)\n",
    "\n",
    "    if acc > highest_acc:\n",
    "        highest_acc = acc\n",
    "        best_model = grid_search"
   ]
  },
  {
   "cell_type": "code",
   "execution_count": 40,
   "id": "397fae27",
   "metadata": {
    "execution": {
     "iopub.execute_input": "2022-04-29T12:29:03.681589Z",
     "iopub.status.busy": "2022-04-29T12:29:03.680759Z",
     "iopub.status.idle": "2022-04-29T12:29:03.915722Z",
     "shell.execute_reply": "2022-04-29T12:29:03.915261Z",
     "shell.execute_reply.started": "2022-04-29T11:23:12.692218Z"
    },
    "papermill": {
     "duration": 0.311768,
     "end_time": "2022-04-29T12:29:03.915885",
     "exception": false,
     "start_time": "2022-04-29T12:29:03.604117",
     "status": "completed"
    },
    "tags": []
   },
   "outputs": [
    {
     "name": "stdout",
     "output_type": "stream",
     "text": [
      "       Estimater  Accuracy\n",
      "0     KNeighbors  0.617383\n",
      "1   DecisionTree  0.594406\n",
      "2        MultiNB  0.641359\n",
      "3            SVC  0.651349\n",
      "4            RFC  0.636364\n",
      "5  SGDClassifier  0.673327\n"
     ]
    },
    {
     "data": {
      "image/png": "[encoded data removed]",
      "text/plain": [
       "<Figure size 576x360 with 1 Axes>"
      ]
     },
     "metadata": {},
     "output_type": "display_data"
    }
   ],
   "source": [
    "column_name = [\"KNeighbors\", \"DecisionTree\", \"MultiNB\", \"SVC\", \"RFC\", \"SGDClassifier\"]\n",
    "plt.style.use('ggplot')\n",
    "plt.figure(figsize=(8, 5))\n",
    "\n",
    "df = pd.DataFrame({\"Estimater\": column_name, \n",
    "                   \"Accuracy\": entries\n",
    "                  })\n",
    "\n",
    "sns.barplot(x='Estimater', y='Accuracy', data=df)\n",
    "\n",
    "print(df)"
   ]
  },
  {
   "cell_type": "code",
   "execution_count": 41,
   "id": "3288b00a",
   "metadata": {
    "execution": {
     "iopub.execute_input": "2022-04-29T12:29:04.058246Z",
     "iopub.status.busy": "2022-04-29T12:29:04.057503Z",
     "iopub.status.idle": "2022-04-29T12:29:04.060045Z",
     "shell.execute_reply": "2022-04-29T12:29:04.059610Z",
     "shell.execute_reply.started": "2022-04-29T02:58:06.601977Z"
    },
    "papermill": {
     "duration": 0.077456,
     "end_time": "2022-04-29T12:29:04.060156",
     "exception": false,
     "start_time": "2022-04-29T12:29:03.982700",
     "status": "completed"
    },
    "tags": []
   },
   "outputs": [],
   "source": [
    "from sklearn.metrics import accuracy_score, precision_score, recall_score, f1_score\n",
    "from sklearn.metrics import classification_report\n",
    "\n",
    "def evaluate_preds(y_true, y_preds):\n",
    "    \n",
    "\n",
    "    accuracy = accuracy_score(y_true, y_preds)\n",
    "    precision = precision_score(y_true, y_preds, average='micro')\n",
    "    recall = recall_score(y_true, y_preds, average='micro')\n",
    "    f1 = f1_score(y_true, y_preds, average='micro')\n",
    "    metric_dict = {\"accuracy\": round(accuracy, 2),\n",
    "                   \"precision\": round(precision, 2),\n",
    "                   \"recall\": round(recall, 2),\n",
    "                   \"f1\": round(f1, 2)}\n",
    "    print(f\"Acc: {accuracy * 100:.2f}%\")\n",
    "    print(f\"Precision: {precision:.2f}\")\n",
    "    print(f\"Recall: {recall:.2f}\")\n",
    "    print(f\"F1 score: {f1:.2f}\")\n",
    "    \n",
    "    return metric_dict"
   ]
  },
  {
   "cell_type": "code",
   "execution_count": 42,
   "id": "09f4a0cd",
   "metadata": {
    "execution": {
     "iopub.execute_input": "2022-04-29T12:29:04.215551Z",
     "iopub.status.busy": "2022-04-29T12:29:04.209568Z",
     "iopub.status.idle": "2022-04-29T12:29:04.425769Z",
     "shell.execute_reply": "2022-04-29T12:29:04.426870Z",
     "shell.execute_reply.started": "2022-04-29T02:58:06.603910Z"
    },
    "papermill": {
     "duration": 0.298619,
     "end_time": "2022-04-29T12:29:04.427101",
     "exception": false,
     "start_time": "2022-04-29T12:29:04.128482",
     "status": "completed"
    },
    "tags": []
   },
   "outputs": [
    {
     "name": "stdout",
     "output_type": "stream",
     "text": [
      "Acc: 67.33%\n",
      "Precision: 0.67\n",
      "Recall: 0.67\n",
      "F1 score: 0.67\n"
     ]
    },
    {
     "data": {
      "text/plain": [
       "{'accuracy': 0.67, 'precision': 0.67, 'recall': 0.67, 'f1': 0.67}"
      ]
     },
     "execution_count": 42,
     "metadata": {},
     "output_type": "execute_result"
    }
   ],
   "source": [
    "predicted = best_model.predict(xtest)\n",
    "evaluate_preds(ytest, predicted)"
   ]
  },
  {
   "cell_type": "code",
   "execution_count": null,
   "id": "5fec6b06",
   "metadata": {
    "papermill": {
     "duration": 0.069281,
     "end_time": "2022-04-29T12:29:04.615805",
     "exception": false,
     "start_time": "2022-04-29T12:29:04.546524",
     "status": "completed"
    },
    "tags": []
   },
   "outputs": [],
   "source": []
  }
 ],
 "metadata": {
  "kernelspec": {
   "display_name": "Python 3",
   "language": "python",
   "name": "python3"
  },
  "language_info": {
   "codemirror_mode": {
    "name": "ipython",
    "version": 3
   },
   "file_extension": ".py",
   "mimetype": "text/x-python",
   "name": "python",
   "nbconvert_exporter": "python",
   "pygments_lexer": "ipython3",
   "version": "3.7.12"
  },
  "papermill": {
   "default_parameters": {},
   "duration": 3880.120984,
   "end_time": "2022-04-29T12:29:08.008124",
   "environment_variables": {},
   "exception": null,
   "input_path": "__notebook__.ipynb",
   "output_path": "__notebook__.ipynb",
   "parameters": {},
   "start_time": "2022-04-29T11:24:27.887140",
   "version": "2.3.3"
  }
 },
 "nbformat": 4,
 "nbformat_minor": 5
}
