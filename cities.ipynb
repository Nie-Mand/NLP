{
 "cells": [
  {
   "cell_type": "code",
   "execution_count": 1,
   "id": "24139535",
   "metadata": {
    "_kg_hide-input": false,
    "execution": {
     "iopub.execute_input": "2022-06-17T09:58:11.499295Z",
     "iopub.status.busy": "2022-06-17T09:58:11.498506Z",
     "iopub.status.idle": "2022-06-17T09:58:19.124320Z",
     "shell.execute_reply": "2022-06-17T09:58:19.123363Z"
    },
    "papermill": {
     "duration": 7.643329,
     "end_time": "2022-06-17T09:58:19.127173",
     "exception": false,
     "start_time": "2022-06-17T09:58:11.483844",
     "status": "completed"
    },
    "tags": []
   },
   "outputs": [],
   "source": [
    "import numpy as np\n",
    "import pandas as pd \n",
    "import seaborn as sns\n",
    "import matplotlib.pyplot as plt \n",
    "import matplotlib.style as stl \n",
    "from tensorflow import keras \n",
    "from keras.preprocessing.text import Tokenizer\n",
    "from nltk.corpus import stopwords\n",
    "import string\n",
    "from tensorflow.keras.models import Sequential,Model\n",
    "from tensorflow.keras.layers import Dense, LSTM, Embedding,Dropout,SpatialDropout1D,Conv1D,MaxPooling1D,GRU,BatchNormalization\n",
    "import warnings\n",
    "warnings.filterwarnings('ignore')\n",
    "stl.use('ggplot')\n",
    "from tqdm import tqdm\n",
    "import string\n",
    "from nltk.corpus import stopwords\n",
    "from nltk.tokenize import word_tokenize\n",
    "from nltk.stem import WordNetLemmatizer\n",
    "from nltk.stem.snowball import SnowballStemmer\n",
    "import regex as re\n",
    "import pickle"
   ]
  },
  {
   "cell_type": "code",
   "execution_count": 2,
   "id": "14fd91a4",
   "metadata": {
    "execution": {
     "iopub.execute_input": "2022-06-17T09:58:19.154249Z",
     "iopub.status.busy": "2022-06-17T09:58:19.153632Z",
     "iopub.status.idle": "2022-06-17T09:59:04.795992Z",
     "shell.execute_reply": "2022-06-17T09:59:04.794973Z"
    },
    "papermill": {
     "duration": 45.657945,
     "end_time": "2022-06-17T09:59:04.798122",
     "exception": false,
     "start_time": "2022-06-17T09:58:19.140177",
     "status": "completed"
    },
    "tags": []
   },
   "outputs": [
    {
     "name": "stdout",
     "output_type": "stream",
     "text": [
      "Collecting flair\r\n",
      "  Downloading flair-0.11.3-py3-none-any.whl (401 kB)\r\n",
      "\u001b[2K     \u001b[90m━━━━━━━━━━━━━━━━━━━━━━━━━━━━━━━━━━━━━━━\u001b[0m \u001b[32m401.9/401.9 kB\u001b[0m \u001b[31m6.1 MB/s\u001b[0m eta \u001b[36m0:00:00\u001b[0m\r\n",
      "\u001b[?25hCollecting sentencepiece==0.1.95\r\n",
      "  Downloading sentencepiece-0.1.95-cp37-cp37m-manylinux2014_x86_64.whl (1.2 MB)\r\n",
      "\u001b[2K     \u001b[90m━━━━━━━━━━━━━━━━━━━━━━━━━━━━━━━━━━━━━━━━\u001b[0m \u001b[32m1.2/1.2 MB\u001b[0m \u001b[31m26.6 MB/s\u001b[0m eta \u001b[36m0:00:00\u001b[0m\r\n",
      "\u001b[?25hCollecting conllu>=4.0\r\n",
      "  Downloading conllu-4.4.2-py2.py3-none-any.whl (15 kB)\r\n",
      "Requirement already satisfied: regex in /opt/conda/lib/python3.7/site-packages (from flair) (2021.11.10)\r\n",
      "Requirement already satisfied: gensim>=3.4.0 in /opt/conda/lib/python3.7/site-packages (from flair) (4.0.1)\r\n",
      "Collecting wikipedia-api\r\n",
      "  Downloading Wikipedia-API-0.5.4.tar.gz (18 kB)\r\n",
      "  Preparing metadata (setup.py) ... \u001b[?25l-\b \bdone\r\n",
      "\u001b[?25hRequirement already satisfied: more-itertools in /opt/conda/lib/python3.7/site-packages (from flair) (8.13.0)\r\n",
      "Collecting pptree\r\n",
      "  Downloading pptree-3.1.tar.gz (3.0 kB)\r\n",
      "  Preparing metadata (setup.py) ... \u001b[?25l-\b \bdone\r\n",
      "\u001b[?25hRequirement already satisfied: huggingface-hub in /opt/conda/lib/python3.7/site-packages (from flair) (0.5.1)\r\n",
      "Collecting gdown==4.4.0\r\n",
      "  Downloading gdown-4.4.0.tar.gz (14 kB)\r\n",
      "  Installing build dependencies ... \u001b[?25l-\b \b\\\b \b|\b \b/\b \bdone\r\n",
      "\u001b[?25h  Getting requirements to build wheel ... \u001b[?25l-\b \b\\\b \b|\b \b/\b \b-\b \bdone\r\n",
      "\u001b[?25h  Preparing metadata (pyproject.toml) ... \u001b[?25l-\b \b\\\b \b|\b \b/\b \b-\b \bdone\r\n",
      "\u001b[?25hRequirement already satisfied: matplotlib>=2.2.3 in /opt/conda/lib/python3.7/site-packages (from flair) (3.5.2)\r\n",
      "Collecting deprecated>=1.2.4\r\n",
      "  Downloading Deprecated-1.2.13-py2.py3-none-any.whl (9.6 kB)\r\n",
      "Collecting langdetect\r\n",
      "  Downloading langdetect-1.0.9.tar.gz (981 kB)\r\n",
      "\u001b[2K     \u001b[90m━━━━━━━━━━━━━━━━━━━━━━━━━━━━━━━━━━━━━━\u001b[0m \u001b[32m981.5/981.5 kB\u001b[0m \u001b[31m46.6 MB/s\u001b[0m eta \u001b[36m0:00:00\u001b[0m\r\n",
      "\u001b[?25h  Preparing metadata (setup.py) ... \u001b[?25l-\b \bdone\r\n",
      "\u001b[?25hCollecting bpemb>=0.3.2\r\n",
      "  Downloading bpemb-0.3.3-py3-none-any.whl (19 kB)\r\n",
      "Requirement already satisfied: tabulate in /opt/conda/lib/python3.7/site-packages (from flair) (0.8.9)\r\n",
      "Collecting konoha<5.0.0,>=4.0.0\r\n",
      "  Downloading konoha-4.6.5-py3-none-any.whl (20 kB)\r\n",
      "Collecting mpld3==0.3\r\n",
      "  Downloading mpld3-0.3.tar.gz (788 kB)\r\n",
      "\u001b[2K     \u001b[90m━━━━━━━━━━━━━━━━━━━━━━━━━━━━━━━━━━━━━━\u001b[0m \u001b[32m788.5/788.5 kB\u001b[0m \u001b[31m49.1 MB/s\u001b[0m eta \u001b[36m0:00:00\u001b[0m\r\n",
      "\u001b[?25h  Preparing metadata (setup.py) ... \u001b[?25l-\b \bdone\r\n",
      "\u001b[?25hRequirement already satisfied: tqdm>=4.26.0 in /opt/conda/lib/python3.7/site-packages (from flair) (4.64.0)\r\n",
      "Requirement already satisfied: python-dateutil>=2.6.1 in /opt/conda/lib/python3.7/site-packages (from flair) (2.8.2)\r\n",
      "Requirement already satisfied: scikit-learn>=0.21.3 in /opt/conda/lib/python3.7/site-packages (from flair) (1.0.2)\r\n",
      "Collecting sqlitedict>=1.6.0\r\n",
      "  Downloading sqlitedict-2.0.0.tar.gz (46 kB)\r\n",
      "\u001b[2K     \u001b[90m━━━━━━━━━━━━━━━━━━━━━━━━━━━━━━━━━━━━━━━━\u001b[0m \u001b[32m46.3/46.3 kB\u001b[0m \u001b[31m4.2 MB/s\u001b[0m eta \u001b[36m0:00:00\u001b[0m\r\n",
      "\u001b[?25h  Preparing metadata (setup.py) ... \u001b[?25l-\b \bdone\r\n",
      "\u001b[?25hRequirement already satisfied: lxml in /opt/conda/lib/python3.7/site-packages (from flair) (4.8.0)\r\n",
      "Requirement already satisfied: janome in /opt/conda/lib/python3.7/site-packages (from flair) (0.4.2)\r\n",
      "Requirement already satisfied: torch!=1.8,>=1.5.0 in /opt/conda/lib/python3.7/site-packages (from flair) (1.11.0)\r\n",
      "Requirement already satisfied: hyperopt>=0.2.7 in /opt/conda/lib/python3.7/site-packages (from flair) (0.2.7)\r\n",
      "Requirement already satisfied: transformers>=4.0.0 in /opt/conda/lib/python3.7/site-packages (from flair) (4.18.0)\r\n",
      "Collecting segtok>=1.5.7\r\n",
      "  Downloading segtok-1.5.11-py3-none-any.whl (24 kB)\r\n",
      "Collecting ftfy\r\n",
      "  Downloading ftfy-6.1.1-py3-none-any.whl (53 kB)\r\n",
      "\u001b[2K     \u001b[90m━━━━━━━━━━━━━━━━━━━━━━━━━━━━━━━━━━━━━━━━\u001b[0m \u001b[32m53.1/53.1 kB\u001b[0m \u001b[31m5.1 MB/s\u001b[0m eta \u001b[36m0:00:00\u001b[0m\r\n",
      "\u001b[?25hRequirement already satisfied: requests[socks] in /opt/conda/lib/python3.7/site-packages (from gdown==4.4.0->flair) (2.27.1)\r\n",
      "Requirement already satisfied: filelock in /opt/conda/lib/python3.7/site-packages (from gdown==4.4.0->flair) (3.6.0)\r\n",
      "Requirement already satisfied: six in /opt/conda/lib/python3.7/site-packages (from gdown==4.4.0->flair) (1.16.0)\r\n",
      "Requirement already satisfied: beautifulsoup4 in /opt/conda/lib/python3.7/site-packages (from gdown==4.4.0->flair) (4.11.1)\r\n",
      "Requirement already satisfied: numpy in /opt/conda/lib/python3.7/site-packages (from bpemb>=0.3.2->flair) (1.21.6)\r\n",
      "Requirement already satisfied: wrapt<2,>=1.10 in /opt/conda/lib/python3.7/site-packages (from deprecated>=1.2.4->flair) (1.14.1)\r\n",
      "Requirement already satisfied: scipy>=0.18.1 in /opt/conda/lib/python3.7/site-packages (from gensim>=3.4.0->flair) (1.7.3)\r\n",
      "Requirement already satisfied: smart-open>=1.8.1 in /opt/conda/lib/python3.7/site-packages (from gensim>=3.4.0->flair) (5.2.1)\r\n",
      "Requirement already satisfied: networkx>=2.2 in /opt/conda/lib/python3.7/site-packages (from hyperopt>=0.2.7->flair) (2.5)\r\n",
      "Requirement already satisfied: future in /opt/conda/lib/python3.7/site-packages (from hyperopt>=0.2.7->flair) (0.18.2)\r\n",
      "Requirement already satisfied: cloudpickle in /opt/conda/lib/python3.7/site-packages (from hyperopt>=0.2.7->flair) (2.0.0)\r\n",
      "Requirement already satisfied: py4j in /opt/conda/lib/python3.7/site-packages (from hyperopt>=0.2.7->flair) (0.10.9.5)\r\n",
      "Collecting overrides<4.0.0,>=3.0.0\r\n",
      "  Downloading overrides-3.1.0.tar.gz (11 kB)\r\n",
      "  Preparing metadata (setup.py) ... \u001b[?25l-\b \bdone\r\n",
      "\u001b[?25hCollecting importlib-metadata<4.0.0,>=3.7.0\r\n",
      "  Downloading importlib_metadata-3.10.1-py3-none-any.whl (14 kB)\r\n",
      "Requirement already satisfied: packaging>=20.0 in /opt/conda/lib/python3.7/site-packages (from matplotlib>=2.2.3->flair) (21.3)\r\n",
      "Requirement already satisfied: pillow>=6.2.0 in /opt/conda/lib/python3.7/site-packages (from matplotlib>=2.2.3->flair) (9.1.0)\r\n",
      "Requirement already satisfied: pyparsing>=2.2.1 in /opt/conda/lib/python3.7/site-packages (from matplotlib>=2.2.3->flair) (3.0.9)\r\n",
      "Requirement already satisfied: kiwisolver>=1.0.1 in /opt/conda/lib/python3.7/site-packages (from matplotlib>=2.2.3->flair) (1.4.2)\r\n",
      "Requirement already satisfied: fonttools>=4.22.0 in /opt/conda/lib/python3.7/site-packages (from matplotlib>=2.2.3->flair) (4.33.3)\r\n",
      "Requirement already satisfied: cycler>=0.10 in /opt/conda/lib/python3.7/site-packages (from matplotlib>=2.2.3->flair) (0.11.0)\r\n",
      "Requirement already satisfied: joblib>=0.11 in /opt/conda/lib/python3.7/site-packages (from scikit-learn>=0.21.3->flair) (1.1.0)\r\n",
      "Requirement already satisfied: threadpoolctl>=2.0.0 in /opt/conda/lib/python3.7/site-packages (from scikit-learn>=0.21.3->flair) (3.1.0)\r\n",
      "Requirement already satisfied: typing-extensions in /opt/conda/lib/python3.7/site-packages (from torch!=1.8,>=1.5.0->flair) (4.2.0)\r\n",
      "Requirement already satisfied: tokenizers!=0.11.3,<0.13,>=0.11.1 in /opt/conda/lib/python3.7/site-packages (from transformers>=4.0.0->flair) (0.12.1)\r\n",
      "Requirement already satisfied: pyyaml>=5.1 in /opt/conda/lib/python3.7/site-packages (from transformers>=4.0.0->flair) (6.0)\r\n",
      "Requirement already satisfied: sacremoses in /opt/conda/lib/python3.7/site-packages (from transformers>=4.0.0->flair) (0.0.53)\r\n",
      "Requirement already satisfied: wcwidth>=0.2.5 in /opt/conda/lib/python3.7/site-packages (from ftfy->flair) (0.2.5)\r\n",
      "Requirement already satisfied: zipp>=0.5 in /opt/conda/lib/python3.7/site-packages (from importlib-metadata<4.0.0,>=3.7.0->konoha<5.0.0,>=4.0.0->flair) (3.8.0)\r\n",
      "Requirement already satisfied: decorator>=4.3.0 in /opt/conda/lib/python3.7/site-packages (from networkx>=2.2->hyperopt>=0.2.7->flair) (5.1.1)\r\n",
      "Requirement already satisfied: charset-normalizer~=2.0.0 in /opt/conda/lib/python3.7/site-packages (from requests[socks]->gdown==4.4.0->flair) (2.0.12)\r\n",
      "Requirement already satisfied: urllib3<1.27,>=1.21.1 in /opt/conda/lib/python3.7/site-packages (from requests[socks]->gdown==4.4.0->flair) (1.26.9)\r\n",
      "Requirement already satisfied: idna<4,>=2.5 in /opt/conda/lib/python3.7/site-packages (from requests[socks]->gdown==4.4.0->flair) (3.3)\r\n",
      "Requirement already satisfied: certifi>=2017.4.17 in /opt/conda/lib/python3.7/site-packages (from requests[socks]->gdown==4.4.0->flair) (2022.5.18.1)\r\n",
      "Requirement already satisfied: soupsieve>1.2 in /opt/conda/lib/python3.7/site-packages (from beautifulsoup4->gdown==4.4.0->flair) (2.3.1)\r\n",
      "Requirement already satisfied: PySocks!=1.5.7,>=1.5.6 in /opt/conda/lib/python3.7/site-packages (from requests[socks]->gdown==4.4.0->flair) (1.7.1)\r\n",
      "Requirement already satisfied: click in /opt/conda/lib/python3.7/site-packages (from sacremoses->transformers>=4.0.0->flair) (8.0.4)\r\n",
      "Building wheels for collected packages: gdown, mpld3, sqlitedict, langdetect, pptree, wikipedia-api, overrides\r\n",
      "  Building wheel for gdown (pyproject.toml) ... \u001b[?25l-\b \b\\\b \b|\b \b/\b \b-\b \b\\\b \b|\b \b/\b \b-\b \bdone\r\n",
      "\u001b[?25h  Created wheel for gdown: filename=gdown-4.4.0-py3-none-any.whl size=14759 sha256=5ef7dfd371fb93ff7147ac7fa167b2722f6767e3b5c9d984802186de47bc00b7\r\n",
      "  Stored in directory: /root/.cache/pip/wheels/fb/c3/0e/c4d8ff8bfcb0461afff199471449f642179b74968c15b7a69c\r\n",
      "  Building wheel for mpld3 (setup.py) ... \u001b[?25l-\b \b\\\b \bdone\r\n",
      "\u001b[?25h  Created wheel for mpld3: filename=mpld3-0.3-py3-none-any.whl size=116702 sha256=a3ad082eb6773fc71aeda9411abc393c96f9c8521428a00c7162a3066d739f8f\r\n",
      "  Stored in directory: /root/.cache/pip/wheels/26/70/6a/1c79e59951a41b4045497da187b2724f5659ca64033cf4548e\r\n",
      "  Building wheel for sqlitedict (setup.py) ... \u001b[?25l-\b \bdone\r\n",
      "\u001b[?25h  Created wheel for sqlitedict: filename=sqlitedict-2.0.0-py3-none-any.whl size=15736 sha256=c7d96c39f4888dfd5945340acf87db13cc482ffb7d7c43148bccd190dc842876\r\n",
      "  Stored in directory: /root/.cache/pip/wheels/96/dd/2e/0ed4a25cb73fc30c7ea8d10b50acb7226175736067e40a7ea3\r\n",
      "  Building wheel for langdetect (setup.py) ... \u001b[?25l-\b \b\\\b \b|\b \b/\b \bdone\r\n",
      "\u001b[?25h  Created wheel for langdetect: filename=langdetect-1.0.9-py3-none-any.whl size=993242 sha256=84be977198e2af21e03c3a75803b6374e8a7bae9f615a54170b321977ddf37d1\r\n",
      "  Stored in directory: /root/.cache/pip/wheels/c5/96/8a/f90c59ed25d75e50a8c10a1b1c2d4c402e4dacfa87f3aff36a\r\n",
      "  Building wheel for pptree (setup.py) ... \u001b[?25l-\b \bdone\r\n",
      "\u001b[?25h  Created wheel for pptree: filename=pptree-3.1-py3-none-any.whl size=4629 sha256=c272ae9060e52890587d1aa6c0542c40b747c3521c1880e05674eaea6d5c154a\r\n",
      "  Stored in directory: /root/.cache/pip/wheels/9e/e8/7d/a9c3c19b4722608a0d8b05a38c36bc3f230c43becd2a46794b\r\n",
      "  Building wheel for wikipedia-api (setup.py) ... \u001b[?25l-\b \bdone\r\n",
      "\u001b[?25h  Created wheel for wikipedia-api: filename=Wikipedia_API-0.5.4-py3-none-any.whl size=13477 sha256=c87fc08b2da4f8d0254f36a63afc34463fb915b299eeea91da84e9b62c2aca6a\r\n",
      "  Stored in directory: /root/.cache/pip/wheels/d3/24/56/58ba93cf78be162451144e7a9889603f437976ef1ae7013d04\r\n",
      "  Building wheel for overrides (setup.py) ... \u001b[?25l-\b \b\\\b \bdone\r\n",
      "\u001b[?25h  Created wheel for overrides: filename=overrides-3.1.0-py3-none-any.whl size=10187 sha256=90c9b19f213856366d3c26d1586b58be4568eeb4c1fa0a487a6527fb263530c9\r\n",
      "  Stored in directory: /root/.cache/pip/wheels/3a/0d/38/01a9bc6e20dcfaf0a6a7b552d03137558ba1c38aea47644682\r\n",
      "Successfully built gdown mpld3 sqlitedict langdetect pptree wikipedia-api overrides\r\n",
      "Installing collected packages: sqlitedict, sentencepiece, pptree, overrides, mpld3, segtok, langdetect, importlib-metadata, ftfy, deprecated, conllu, wikipedia-api, konoha, gdown, bpemb, flair\r\n",
      "  Attempting uninstall: sentencepiece\r\n",
      "    Found existing installation: sentencepiece 0.1.96\r\n",
      "    Uninstalling sentencepiece-0.1.96:\r\n",
      "      Successfully uninstalled sentencepiece-0.1.96\r\n",
      "  Attempting uninstall: overrides\r\n",
      "    Found existing installation: overrides 6.1.0\r\n",
      "    Uninstalling overrides-6.1.0:\r\n",
      "      Successfully uninstalled overrides-6.1.0\r\n",
      "  Attempting uninstall: mpld3\r\n",
      "    Found existing installation: mpld3 0.5.7\r\n",
      "    Uninstalling mpld3-0.5.7:\r\n",
      "      Successfully uninstalled mpld3-0.5.7\r\n",
      "  Attempting uninstall: importlib-metadata\r\n",
      "    Found existing installation: importlib-metadata 4.11.4\r\n",
      "    Uninstalling importlib-metadata-4.11.4:\r\n",
      "      Successfully uninstalled importlib-metadata-4.11.4\r\n",
      "\u001b[31mERROR: pip's dependency resolver does not currently take into account all the packages that are installed. This behaviour is the source of the following dependency conflicts.\r\n",
      "markdown 3.3.7 requires importlib-metadata>=4.4; python_version < \"3.10\", but you have importlib-metadata 3.10.1 which is incompatible.\r\n",
      "ibis-framework 2.1.1 requires importlib-metadata<5,>=4; python_version < \"3.8\", but you have importlib-metadata 3.10.1 which is incompatible.\r\n",
      "gym 0.23.1 requires importlib-metadata>=4.10.0; python_version < \"3.10\", but you have importlib-metadata 3.10.1 which is incompatible.\r\n",
      "google-cloud-pubsublite 1.4.2 requires overrides<7.0.0,>=6.0.1, but you have overrides 3.1.0 which is incompatible.\u001b[0m\u001b[31m\r\n",
      "\u001b[0mSuccessfully installed bpemb-0.3.3 conllu-4.4.2 deprecated-1.2.13 flair-0.11.3 ftfy-6.1.1 gdown-4.4.0 importlib-metadata-3.10.1 konoha-4.6.5 langdetect-1.0.9 mpld3-0.3 overrides-3.1.0 pptree-3.1 segtok-1.5.11 sentencepiece-0.1.95 sqlitedict-2.0.0 wikipedia-api-0.5.4\r\n",
      "\u001b[33mWARNING: Running pip as the 'root' user can result in broken permissions and conflicting behaviour with the system package manager. It is recommended to use a virtual environment instead: https://pip.pypa.io/warnings/venv\u001b[0m\u001b[33m\r\n",
      "\u001b[0m"
     ]
    }
   ],
   "source": [
    "!pip install flair"
   ]
  },
  {
   "cell_type": "markdown",
   "id": "871431d0",
   "metadata": {
    "papermill": {
     "duration": 0.018791,
     "end_time": "2022-06-17T09:59:04.834641",
     "exception": false,
     "start_time": "2022-06-17T09:59:04.815850",
     "status": "completed"
    },
    "tags": []
   },
   "source": [
    "# Audf"
   ]
  },
  {
   "cell_type": "code",
   "execution_count": 3,
   "id": "f524d2a1",
   "metadata": {
    "execution": {
     "iopub.execute_input": "2022-06-17T09:59:04.872102Z",
     "iopub.status.busy": "2022-06-17T09:59:04.871691Z",
     "iopub.status.idle": "2022-06-17T09:59:11.277136Z",
     "shell.execute_reply": "2022-06-17T09:59:11.276241Z"
    },
    "papermill": {
     "duration": 6.427034,
     "end_time": "2022-06-17T09:59:11.279836",
     "exception": false,
     "start_time": "2022-06-17T09:59:04.852802",
     "status": "completed"
    },
    "tags": []
   },
   "outputs": [],
   "source": [
    "with open('../input/entities/entityAu.pkl', 'rb') as f:\n",
    "    entitiesA = pickle.load(f)"
   ]
  },
  {
   "cell_type": "code",
   "execution_count": 4,
   "id": "4d1fcb80",
   "metadata": {
    "execution": {
     "iopub.execute_input": "2022-06-17T09:59:11.315780Z",
     "iopub.status.busy": "2022-06-17T09:59:11.315441Z",
     "iopub.status.idle": "2022-06-17T09:59:11.753251Z",
     "shell.execute_reply": "2022-06-17T09:59:11.752168Z"
    },
    "papermill": {
     "duration": 0.458336,
     "end_time": "2022-06-17T09:59:11.755816",
     "exception": false,
     "start_time": "2022-06-17T09:59:11.297480",
     "status": "completed"
    },
    "tags": []
   },
   "outputs": [],
   "source": [
    "Per=[]\n",
    "Date=[]\n",
    "GPE=[]\n",
    "ORG=[]\n",
    "from flair.data import Sentence\n",
    "\n",
    "Audf=pd.DataFrame({\"text\":\"\", \"PERSON-ontonotes\":[], \"GPE-ontonotes\":\"\",\"ORG-ontonotes\":\"\", \"Date-ontonotes\":\"\"})\n",
    "\n",
    "\n",
    "\n",
    "for i in entitiesA:\n",
    "    \n",
    " dc={}\n",
    " P=[]\n",
    " D=[]\n",
    " G=[]\n",
    " O=[]\n",
    " for entity in i:\n",
    "    if (entity.get_label(\"ner\").score > 0.98) & (entity.get_label(\"ner\").value != \"CARDINAL\") & (entity.get_label(\"ner\").value != \"LAW\")& (entity.get_label(\"ner\").value != \"QUANTITY\") & (entity.get_label(\"ner\").value != \"WORK_OF_ART\") & (entity.get_label(\"ner\").value != \"LAW\")& (entity.get_label(\"ner\").value != \"QUANTITY\") & (entity.get_label(\"ner\").value != \"EVENT\")  :\n",
    "                        dc[entity.text]= entity.get_label(\"ner\").value \n",
    "                        \n",
    "        \n",
    "        \n",
    " for j in dc :\n",
    "                if dc[j]==\"PERSON\":\n",
    "                      P.append(j)\n",
    "                elif dc[j]==\"ORG\":\n",
    "                      O.append(j)\n",
    "                elif dc[j]==\"DATE\":\n",
    "                      D.append(j)\n",
    "                elif dc[j]==\"GPE\":\n",
    "                      G.append(j)\n",
    " Per.append(P)\n",
    " Date.append(D)\n",
    " ORG.append(O)\n",
    " GPE.append(G)\n",
    "            \n",
    "Audf[\"Date-ontonotes\"]=Date\n",
    "Audf[\"PERSON-ontonotes\"]=Per\n",
    "Audf[\"GPE-ontonotes\"]=GPE\n",
    "Audf[\"ORG-ontonotes\"]=ORG    "
   ]
  },
  {
   "cell_type": "code",
   "execution_count": 5,
   "id": "b948da33",
   "metadata": {
    "execution": {
     "iopub.execute_input": "2022-06-17T09:59:11.791548Z",
     "iopub.status.busy": "2022-06-17T09:59:11.791225Z",
     "iopub.status.idle": "2022-06-17T09:59:11.822517Z",
     "shell.execute_reply": "2022-06-17T09:59:11.821668Z"
    },
    "papermill": {
     "duration": 0.051422,
     "end_time": "2022-06-17T09:59:11.824774",
     "exception": false,
     "start_time": "2022-06-17T09:59:11.773352",
     "status": "completed"
    },
    "tags": []
   },
   "outputs": [
    {
     "data": {
      "text/html": [
       "<div>\n",
       "<style scoped>\n",
       "    .dataframe tbody tr th:only-of-type {\n",
       "        vertical-align: middle;\n",
       "    }\n",
       "\n",
       "    .dataframe tbody tr th {\n",
       "        vertical-align: top;\n",
       "    }\n",
       "\n",
       "    .dataframe thead th {\n",
       "        text-align: right;\n",
       "    }\n",
       "</style>\n",
       "<table border=\"1\" class=\"dataframe\">\n",
       "  <thead>\n",
       "    <tr style=\"text-align: right;\">\n",
       "      <th></th>\n",
       "      <th>text</th>\n",
       "      <th>PERSON-ontonotes</th>\n",
       "      <th>GPE-ontonotes</th>\n",
       "      <th>ORG-ontonotes</th>\n",
       "      <th>Date-ontonotes</th>\n",
       "    </tr>\n",
       "  </thead>\n",
       "  <tbody>\n",
       "    <tr>\n",
       "      <th>0</th>\n",
       "      <td>NaN</td>\n",
       "      <td>[I C Meekins, Isaac C. Meekins, E H Walker, Jo...</td>\n",
       "      <td>[Currituck County ,]</td>\n",
       "      <td>[]</td>\n",
       "      <td>[16 day of Sept A.D . , 1865]</td>\n",
       "    </tr>\n",
       "    <tr>\n",
       "      <th>1</th>\n",
       "      <td>NaN</td>\n",
       "      <td>[]</td>\n",
       "      <td>[North Carolina, United States, States]</td>\n",
       "      <td>[Department of Virginia, State]</td>\n",
       "      <td>[1864]</td>\n",
       "    </tr>\n",
       "    <tr>\n",
       "      <th>2</th>\n",
       "      <td>NaN</td>\n",
       "      <td>[W. H. Pearce, W . H. Pearce]</td>\n",
       "      <td>[]</td>\n",
       "      <td>[]</td>\n",
       "      <td>[3rd day of October , A.D. , 1865]</td>\n",
       "    </tr>\n",
       "    <tr>\n",
       "      <th>3</th>\n",
       "      <td>NaN</td>\n",
       "      <td>[]</td>\n",
       "      <td>[North Carolina, United States]</td>\n",
       "      <td>[]</td>\n",
       "      <td>[______ day of ____________ , 1866]</td>\n",
       "    </tr>\n",
       "    <tr>\n",
       "      <th>4</th>\n",
       "      <td>NaN</td>\n",
       "      <td>[S.E . Allen]</td>\n",
       "      <td>[North Carolina, Wake County, United States]</td>\n",
       "      <td>[]</td>\n",
       "      <td>[31st day of May , 1867]</td>\n",
       "    </tr>\n",
       "    <tr>\n",
       "      <th>...</th>\n",
       "      <td>...</td>\n",
       "      <td>...</td>\n",
       "      <td>...</td>\n",
       "      <td>...</td>\n",
       "      <td>...</td>\n",
       "    </tr>\n",
       "    <tr>\n",
       "      <th>2131</th>\n",
       "      <td>NaN</td>\n",
       "      <td>[Geo . Little, Geo . B. Ayer]</td>\n",
       "      <td>[Raleigh, N.C., Wake County, N.C, United State...</td>\n",
       "      <td>[]</td>\n",
       "      <td>[May 26, July 14]</td>\n",
       "    </tr>\n",
       "    <tr>\n",
       "      <th>2132</th>\n",
       "      <td>NaN</td>\n",
       "      <td>[Birnie]</td>\n",
       "      <td>[]</td>\n",
       "      <td>[]</td>\n",
       "      <td>[July 30th 1867]</td>\n",
       "    </tr>\n",
       "    <tr>\n",
       "      <th>2133</th>\n",
       "      <td>NaN</td>\n",
       "      <td>[William Birnie]</td>\n",
       "      <td>[North Carolina, Robeson County, United States]</td>\n",
       "      <td>[]</td>\n",
       "      <td>[30 day of July]</td>\n",
       "    </tr>\n",
       "    <tr>\n",
       "      <th>2134</th>\n",
       "      <td>NaN</td>\n",
       "      <td>[A.L . Price, James Fulton, John D Conoley, Al...</td>\n",
       "      <td>[North Carolina, New Hanover County, New Hanov...</td>\n",
       "      <td>[Fulton Price]</td>\n",
       "      <td>[May 29 1865, 15th Sept 1865, 15th September A...</td>\n",
       "    </tr>\n",
       "    <tr>\n",
       "      <th>2135</th>\n",
       "      <td>NaN</td>\n",
       "      <td>[James Fulton, Wm A. Cutler, Geo W. Pollock, F...</td>\n",
       "      <td>[Wilmington N.C, New Hanover County]</td>\n",
       "      <td>[]</td>\n",
       "      <td>[Sept 22 . 1865, Twentyseventh day of Septembe...</td>\n",
       "    </tr>\n",
       "  </tbody>\n",
       "</table>\n",
       "<p>2136 rows × 5 columns</p>\n",
       "</div>"
      ],
      "text/plain": [
       "     text                                   PERSON-ontonotes  \\\n",
       "0     NaN  [I C Meekins, Isaac C. Meekins, E H Walker, Jo...   \n",
       "1     NaN                                                 []   \n",
       "2     NaN                      [W. H. Pearce, W . H. Pearce]   \n",
       "3     NaN                                                 []   \n",
       "4     NaN                                      [S.E . Allen]   \n",
       "...   ...                                                ...   \n",
       "2131  NaN                      [Geo . Little, Geo . B. Ayer]   \n",
       "2132  NaN                                           [Birnie]   \n",
       "2133  NaN                                   [William Birnie]   \n",
       "2134  NaN  [A.L . Price, James Fulton, John D Conoley, Al...   \n",
       "2135  NaN  [James Fulton, Wm A. Cutler, Geo W. Pollock, F...   \n",
       "\n",
       "                                          GPE-ontonotes  \\\n",
       "0                                  [Currituck County ,]   \n",
       "1               [North Carolina, United States, States]   \n",
       "2                                                    []   \n",
       "3                       [North Carolina, United States]   \n",
       "4          [North Carolina, Wake County, United States]   \n",
       "...                                                 ...   \n",
       "2131  [Raleigh, N.C., Wake County, N.C, United State...   \n",
       "2132                                                 []   \n",
       "2133    [North Carolina, Robeson County, United States]   \n",
       "2134  [North Carolina, New Hanover County, New Hanov...   \n",
       "2135               [Wilmington N.C, New Hanover County]   \n",
       "\n",
       "                        ORG-ontonotes  \\\n",
       "0                                  []   \n",
       "1     [Department of Virginia, State]   \n",
       "2                                  []   \n",
       "3                                  []   \n",
       "4                                  []   \n",
       "...                               ...   \n",
       "2131                               []   \n",
       "2132                               []   \n",
       "2133                               []   \n",
       "2134                   [Fulton Price]   \n",
       "2135                               []   \n",
       "\n",
       "                                         Date-ontonotes  \n",
       "0                         [16 day of Sept A.D . , 1865]  \n",
       "1                                                [1864]  \n",
       "2                    [3rd day of October , A.D. , 1865]  \n",
       "3                   [______ day of ____________ , 1866]  \n",
       "4                              [31st day of May , 1867]  \n",
       "...                                                 ...  \n",
       "2131                                  [May 26, July 14]  \n",
       "2132                                   [July 30th 1867]  \n",
       "2133                                   [30 day of July]  \n",
       "2134  [May 29 1865, 15th Sept 1865, 15th September A...  \n",
       "2135  [Sept 22 . 1865, Twentyseventh day of Septembe...  \n",
       "\n",
       "[2136 rows x 5 columns]"
      ]
     },
     "execution_count": 5,
     "metadata": {},
     "output_type": "execute_result"
    }
   ],
   "source": [
    "Audf"
   ]
  },
  {
   "cell_type": "code",
   "execution_count": 6,
   "id": "8719ceee",
   "metadata": {
    "execution": {
     "iopub.execute_input": "2022-06-17T09:59:11.860570Z",
     "iopub.status.busy": "2022-06-17T09:59:11.860264Z",
     "iopub.status.idle": "2022-06-17T09:59:11.924751Z",
     "shell.execute_reply": "2022-06-17T09:59:11.923675Z"
    },
    "papermill": {
     "duration": 0.084388,
     "end_time": "2022-06-17T09:59:11.926716",
     "exception": false,
     "start_time": "2022-06-17T09:59:11.842328",
     "status": "completed"
    },
    "tags": []
   },
   "outputs": [],
   "source": [
    "G=[]\n",
    "for i in Audf[\"Date-ontonotes\"]:\n",
    "    M=[]\n",
    "    for j in i:\n",
    "        date=re.search(r'^\\d\\.*.*\\d\\d$' ,j)\n",
    "        date2=re.search(r'^[A-ZZa-z]\\.*.*\\d\\.*.*\\d\\d$' ,j)\n",
    "        M.append(date)\n",
    "        M.append(date2)\n",
    "    G.append(M)\n",
    "    \n",
    "\n",
    "GF=[]\n",
    "for i in G:\n",
    "    Final_date=[]\n",
    "    for j in i:\n",
    "        if j!=None:\n",
    "            Final_date.append(j.group())\n",
    "    GF.append(Final_date)\n",
    "\n",
    "    \n",
    "Audf[\"postDate-ontonotes\"]=GF"
   ]
  },
  {
   "cell_type": "code",
   "execution_count": 7,
   "id": "1cd922aa",
   "metadata": {
    "execution": {
     "iopub.execute_input": "2022-06-17T09:59:11.964561Z",
     "iopub.status.busy": "2022-06-17T09:59:11.964258Z",
     "iopub.status.idle": "2022-06-17T09:59:12.103920Z",
     "shell.execute_reply": "2022-06-17T09:59:12.103007Z"
    },
    "jupyter": {
     "source_hidden": true
    },
    "papermill": {
     "duration": 0.160497,
     "end_time": "2022-06-17T09:59:12.106010",
     "exception": false,
     "start_time": "2022-06-17T09:59:11.945513",
     "status": "completed"
    },
    "tags": []
   },
   "outputs": [],
   "source": [
    "G=[]\n",
    "for i in Audf[\"postDate-ontonotes\"]:\n",
    "    M=[]\n",
    "    for j in i:\n",
    "        Final_date1=re.sub(r'([0-9]{1,2})\\.*.*\\s([A-Z][a-z]\\S*)\\.*.*\\s([0-9]{2,4})',r'\\1-\\2-\\3' ,j)\n",
    "        Final_date2=re.sub(r'([A-Z]\\.*.*)\\s([0-9]{1,2})\\.*.*\\s([0-9]{2,4})',r'\\2-\\1-\\3' ,j)\n",
    "        final_date3=re.sub(r'([A-Z][a-z]\\S*)\\.*.*\\s([A-Z][a-z]\\S*)\\.*.*\\s([0-9]{2,4})',r'\\1-\\2-\\3' ,j)\n",
    "        final_date4=re.sub(r'(^[A-Za-z]\\S*.*.)day\\.*.*\\s([A-Z][a-z]\\S*)\\.*.*\\s([0-9]{2,4})',r'\\1-\\2-\\3' ,j)\n",
    "        if Final_date1 != j:   \n",
    "            M.append(Final_date1)\n",
    "        if Final_date2 != j :\n",
    "            M.append(Final_date2)\n",
    "        if final_date3 != j :\n",
    "            M.append(final_date3)\n",
    "        if final_date4 != j :\n",
    "            M.append(final_date4)\n",
    "    G.append(M)\n",
    "    \n",
    "\n",
    "Audf[\"postDate-ontonotes\"]=G"
   ]
  },
  {
   "cell_type": "code",
   "execution_count": 8,
   "id": "de7f1ff1",
   "metadata": {
    "execution": {
     "iopub.execute_input": "2022-06-17T09:59:12.143317Z",
     "iopub.status.busy": "2022-06-17T09:59:12.142993Z",
     "iopub.status.idle": "2022-06-17T09:59:12.235737Z",
     "shell.execute_reply": "2022-06-17T09:59:12.234876Z"
    },
    "jupyter": {
     "source_hidden": true
    },
    "papermill": {
     "duration": 0.114641,
     "end_time": "2022-06-17T09:59:12.237964",
     "exception": false,
     "start_time": "2022-06-17T09:59:12.123323",
     "status": "completed"
    },
    "tags": []
   },
   "outputs": [],
   "source": [
    "NG=[]\n",
    "for i in G:\n",
    "    ng=[]\n",
    "    for j in i:\n",
    "        \n",
    "        date=re.findall(r'([0-9]{1,2})-([A-Z][a-z]\\S*)-([0-9]{2,4})',j)\n",
    "        if date !=[]:\n",
    "            dates=[]\n",
    "            for k in date:\n",
    "                for l in k:\n",
    "                    dates.append(l)\n",
    "                \n",
    "                \n",
    "                if dates[1] in [\"August\",\"Aug\",\"augt\",\"AUGUST\",\"Augst\",\"Augt\",\"AUG\",\"Augusta\",\"Aug.\",'Agusut']:\n",
    "                    dates[1]= \"August\"\n",
    "                elif dates[1] in [\"September\",\"Sept\",\"SEP\",\"Sep\",\"Septr\",\"SEPTEMBER\",'Sepr','Septh',\"Sep.\",\"Sept.\"]:\n",
    "                    dates[1]= \"Septembre\"\n",
    "                elif dates[1] in [\"October\",\"Oct\",\"OCT\",\"OCTOBER\"]:\n",
    "                    dates[1]= \"October\"\n",
    "                elif dates[1] in [\"November\",\"NOV\",\"Nov\",\"Novmbr\",\"Nvbr\",\"Novb\",\"NOVEMBER\", \"The\",\"Dec\"]:\n",
    "                    dates[1]= \"November\"\n",
    "                elif dates[1] in [\"December\",\"Dec\",\"Decbr\",\"DEC\",\"DECEMBER\",\"Decber\",'Dec.']:\n",
    "                    dates[1]= \"December\"\n",
    "                elif dates[1] in [\"January\",\"Janry\",\"Jan\",\"Jany\",\"JAN\",\"Janur\",\"JANUARY\",'Jan.']:\n",
    "                    dates[1]= \"January\"\n",
    "                elif dates[1] in [\"February\",\"Feby\",\"Febry\",\"FEB\",\"FEBRUARY\",\"Feb\"]:\n",
    "                    dates[1]= \"February\"\n",
    "                elif dates[1] in [\"March\",\"Mar\"]:\n",
    "                    dates[1]= \"March\"\n",
    "                elif dates[1] in [\"April\",\"Apl\",\"Aprl\",\"APRIL\",\"Apr\"]:\n",
    "                    dates[1]= \"April\"\n",
    "                elif dates[1] in [\"May\",\"MAY\"]:\n",
    "                    dates[1]= \"May\"\n",
    "                elif dates[1] in [\"JUN\",\"Jun\",\"June\"]:\n",
    "                    dates[1]= \"June\"\n",
    "                elif dates[1] in [\"JULY\",\"July\",\"JUL\"]:\n",
    "                    dates[1]= \"July\"\n",
    "                j = dates[0]+\"-\"+dates[1]+\"-\"+dates[2]\n",
    "                ng.append(j)\n",
    "        else :\n",
    "                date = re.findall(r'(^[A-Za-z]\\S*.*.)-([A-Z][a-z]\\S*)-([0-9]{2,4})',j ) \n",
    "                dates=[]\n",
    "                for k in date:\n",
    "                    for l in k:\n",
    "                        dates.append(l)\n",
    "                \n",
    "                \n",
    "                    if dates[1] in [\"August\",\"Aug\",\"augt\",\"AUGUST\",\"Augst\",'Augt',\"AUG\",\"Augusta\",\"Aug.\",\"Agusut\"]:\n",
    "                        dates[1]= \"August\"\n",
    "                    elif dates[1] in [\"September\",\"Sept\",\"SEP\",\"Sep\",\"Septr\",\"SEPTEMBER\",\"Sepr\",\"Septh\", \"This\", \"This \",\"Sept.\",\"Sep.\"]:\n",
    "                        dates[1]= \"Septembre\"\n",
    "                    elif dates[1] in [\"October\",\"Oct\",\"OCT\",\"OCTOBER\"]:\n",
    "                        dates[1]= \"October\"\n",
    "                    elif dates[1] in [\"November\",\"NOV\",\"Nov\",\"Novmbr\",\"Nvbr\",\"Novb\",\"NOVEMBER\"]:\n",
    "                        dates[1]= \"November\"\n",
    "                    elif dates[1] in [\"December\",\"Dec\",\"Decbr\",\"DEC\",\"DECEMBER\",\"Decber\",\"Dec.\"]:\n",
    "                        dates[1]= \"December\"\n",
    "                    elif dates[1] in [\"January\",\"Janry\",\"Jan\",\"Jany\",\"JAN\",\"Janur\",\"JANUARY\",\"Jan.\"]:\n",
    "                        dates[1]= \"January\"\n",
    "                    elif dates[1] in [\"February\",\"Feby\",\"Febry\",\"FEB\",\"FEBRUARY\",\"Feb\",\"Feb.\"]:\n",
    "                        dates[1]= \"February\"\n",
    "                    elif dates[1] in [\"March\",\"Mar\"]:\n",
    "                        dates[1]= \"March\"\n",
    "                    elif dates[1] in [\"April\",\"Apl\",\"Aprl\",\"APRIL\",\"Apr\"]:\n",
    "                        dates[1]= \"April\"\n",
    "                    elif dates[1] in [\"May\",\"MAY\"]:\n",
    "                        dates[1]= \"May\"\n",
    "                    elif dates[1] in [\"JUN\",\"Jun\",\"June\"]:\n",
    "                        dates[1]= \"June\"\n",
    "                    elif dates[1] in [\"JULY\",\"July\",\"JUL\"]:\n",
    "                        dates[1]= \"July\"\n",
    "                    if dates[0]== \"fifteenth\" :\n",
    "                        dates[0]=\"15\"\n",
    "                    elif (dates[0]==\"sixteenth\") |(dates[0]==\"This 16 \"):\n",
    "                        dates[0]=\"16\"\n",
    "                    elif dates[0]==\"Twenty\":\n",
    "                        dates[0]=\"20\" \n",
    "                    elif dates[0]==\"Twentyseventh\":\n",
    "                        dates[0]=\"27\" \n",
    "                    elif (dates[0]==\"Twenty Eighth\") |(dates[0]==\"TwentyEight\") |(dates[0]==\"TwentyEight \") |(dates[0]==\"Twentyeight\"):\n",
    "                        dates[0]=\"28\"\n",
    "                    elif (dates[0]==\"Ninth\")|(dates[0]==\"The 9th \") |(dates[0]==\"Ninth \")|(dates[0]==\"Augusta 9th \") |(dates[0]==\"ninth\") |(dates[0]==\"ninth \")|(dates[0]==\"Augusta 9th\"):\n",
    "                        dates[0]=\"9\"\n",
    "                    \n",
    "                    elif dates[0]=='Seventh':\n",
    "                        dates[0]=\"7\" \n",
    "                    elif (dates[0]=='The') |(dates[0]==\"The 9th\") :\n",
    "                        dates[0]=\"9\"\n",
    "                    elif dates[0]==\"the 9\" :\n",
    "                        dates[0]=\"9\"\n",
    "                    elif (dates[0]==\"Eighth \") |(dates[0]==\"Eighth\") |(dates[0]==\"eighth\") |(dates[0]==\"eighth \"):\n",
    "                        dates[0]=\"8\"\n",
    "                    elif dates[0]==\"Seventh \":\n",
    "                        dates[0]=\"7\"\n",
    "                    elif (dates[0]==\"Twenty ninth \")| (dates[0]==\"Twenty ninth\") | (dates[0]==\"twenty ninth \")|(dates[0]==\"Twenty Ninth \")|(dates[0]==\"Twenty Ninth\") :\n",
    "                        dates[0]=\"29\"\n",
    "                    elif (dates[0]==\"Thirty\") |(dates[0]==\"Thirty \") | (dates[0]==\"thirtieth \"):\n",
    "                        dates[0]=\"30\"\n",
    "                    elif (dates[0]==\"Thirty first \") |(dates[0]==\"Thirty first\"):\n",
    "                        dates[0]=\"31\"\n",
    "                  \n",
    "                    \n",
    "                    elif dates[0]==\"first \":\n",
    "                        dates[0]=\"1\"\n",
    "                    elif (dates[0]==\"Second \") |(dates[0]==\"Second\") |(dates[0]==\"second\")|(dates[0]==\"second \"):\n",
    "                        dates[0]=\"2\"\n",
    "                    elif dates[0]==\"fourth \":\n",
    "                        dates[0]=\"4\"\n",
    "                    elif dates[0]==\"tenth \":\n",
    "                        dates[0]=\"10\"\n",
    "                    elif (dates[0]==\"Fifth \")|(dates[0]==\"Fifth\") |(dates[0]==\"fifth \")|(dates[0]==\"fifth\"):\n",
    "                        dates[0]=\"5\"\n",
    "                    elif (dates[0]==\"This\") | (dates[0]==\"This 7th \")|(dates[0]==\"seventh \") |(dates[0]==\"seventh\") |(dates[0]==\"Seventh \"):\n",
    "                        dates[0]=\"7\"\n",
    "                    elif (dates[0]==\"This 31st\") |(dates[0]==\"Thirty-first \"):\n",
    "                        dates[0]=\"31\"\n",
    "                    elif (dates[0]==\"Thirtieth\") |(dates[0]==\"Thirtieth \") |(dates[0]==\"Thirty\"):\n",
    "                        dates[0]=\"30\"\n",
    "                    elif dates[0]==\"twenty fifth \":\n",
    "                        dates[0]=\"25\"\n",
    "                    elif dates[0]==\"Twenty seventh \":\n",
    "                        dates[0]=\"27\"\n",
    "                    elif (dates[0]==\"Twenty sixth \") |(dates[0]==\"Twentysixth \")|(dates[0]==\"Twentysixth\") |(dates[0]==\"twentysixth \"):\n",
    "                        dates[0]=\"26\"\n",
    "                    elif dates[0]==\"third \":\n",
    "                        dates[0]=\"3\" \n",
    "                    elif dates[0]==\"third\":\n",
    "                        dates[0]=\"3\"\n",
    "                    elif dates[0]==\"Third \":\n",
    "                        dates[0]=\"3\"\n",
    "                    elif dates[0]==\"Third\":\n",
    "                        dates[0]=\"3\"\n",
    "                    \n",
    "                    elif dates[0]==\"Tenth\":\n",
    "                        dates[0]=\"10\" \n",
    "                    elif dates[0]==\"Augusta\":\n",
    "                        dates[0]=\"9\" \n",
    "                    elif (dates[0]==\"this_sixth \")|(dates[0]==\"sixth \")| (dates[0]==\"Sixth\") | (dates[0]==\"Sixth \") |(dates[0]==\"this sixth \"):\n",
    "                        dates[0]=\"6\" \n",
    "                        \n",
    "                    elif dates[0]==\"Tenth \":\n",
    "                        dates[0]=\"10\"\n",
    "                    elif (dates[0]==\"twentieth\")|(dates[0]==\"This 20th \"):\n",
    "                        dates[0]=\"20\"\n",
    "                    elif (dates[0]==\"twenty fourth \") |(dates[0]==\"twenty fourth\") |(dates[0]==\"Twenty fourth \") |(dates[0]==\"Twenty fourth\"):\n",
    "                        dates[0]=\"24\"\n",
    "                    elif (dates[0]==\"fifteenth \") |(dates[0]==\"Fifteenth \") |(dates[0]==\"Fifteenth\"):\n",
    "                        dates[0]=\"15\"\n",
    "                    elif dates[0]==\"twentieth \":\n",
    "                        dates[0]=\"20\"\n",
    "                    elif dates[0]==\"Eighteenth \":\n",
    "                        dates[0]=\"18\"\n",
    "                    elif dates[0]==\"Eighteenth\":\n",
    "                        dates[0]=\"18\"\n",
    "                    elif (dates[0]==\"Nineteenth \") |(dates[0]==\"Nineteenth\"):\n",
    "                        dates[0]=\"19\"\n",
    "                    elif dates[0]==\"First \":\n",
    "                        dates[0]=\"1\"\n",
    "                    elif dates[0]==\"First\":\n",
    "                        dates[0]=\"1\"\n",
    "                    elif (dates[0]==\"Sixteenth \")|(dates[0]==\"this 16\") |(dates[0]==\"Sixteenth\"):\n",
    "                        dates[0]=\"16\"\n",
    "                   \n",
    "                    elif dates[0]==\"twenty third \":\n",
    "                        dates[0]=\"23\"\n",
    "                    elif dates[0]==\"twenty third\":\n",
    "                        dates[0]=\"23\"\n",
    "                    elif dates[0]==\"Twenty third \":\n",
    "                        dates[0]=\"23\"\n",
    "                    elif dates[0]==\"Twenty Second \":\n",
    "                        dates[0]=\"22\"\n",
    "                    elif dates[0]==\"Twenty Second\":\n",
    "                        dates[0]=\"22\"\n",
    "                    elif dates[0]==\"Twenty Eighth \":\n",
    "                        dates[0]=\"28\"\n",
    "                    elif dates[0]==\"Twentysenventh \":\n",
    "                        dates[0]=\"27\"\n",
    "                    elif dates[0]==\"twenty third \":\n",
    "                        dates[0]=\"23\"\n",
    "                    elif (dates[0]==\"twenty third\") |(dates[0]==\"Twentythird\")|(dates[0]==\"Twentythird \"):\n",
    "                        dates[0]=\"23\"\n",
    "                    elif (dates[0]==\"fourteenth \") | (dates[0]==\"fourteenth\") | (dates[0]==\"Fourteenth\") | (dates[0]==\"Fourteenth \"):\n",
    "                        dates[0]=\"14\"\n",
    "                    elif (dates[0]==\"Eleventh \") | (dates[0]==\"Eleventh\") |(dates[0]==\"eleventh \") :\n",
    "                        dates[0]=\"11\"\n",
    "                    elif (dates[0]==\"Thirteenth\") | (dates[0]==\"Thirteenth \") :\n",
    "                        dates[0]=\"13\"\n",
    "                    elif (dates[0]==\"seventeenth \")|(dates[0]==\"Seventeenth\") |(dates[0]==\"seventeenth\") |(dates[0]==\"Seventeenth \") :\n",
    "                        dates[0]=\"17\"\n",
    "                     \n",
    "                     \n",
    "                     \n",
    "                    \n",
    "                        \n",
    "                    j = dates[0]+\"-\"+dates[1]+\"-\"+dates[2]\n",
    "                    ng.append(j)\n",
    "            \n",
    "            \n",
    "    NG.append(ng)   "
   ]
  },
  {
   "cell_type": "code",
   "execution_count": 9,
   "id": "9e3cc32f",
   "metadata": {
    "execution": {
     "iopub.execute_input": "2022-06-17T09:59:12.276292Z",
     "iopub.status.busy": "2022-06-17T09:59:12.275447Z",
     "iopub.status.idle": "2022-06-17T09:59:12.282435Z",
     "shell.execute_reply": "2022-06-17T09:59:12.281603Z"
    },
    "papermill": {
     "duration": 0.028337,
     "end_time": "2022-06-17T09:59:12.284204",
     "exception": false,
     "start_time": "2022-06-17T09:59:12.255867",
     "status": "completed"
    },
    "tags": []
   },
   "outputs": [],
   "source": [
    "Audf[\"Dates\"]=NG"
   ]
  },
  {
   "cell_type": "code",
   "execution_count": 10,
   "id": "b1a5b9ef",
   "metadata": {
    "execution": {
     "iopub.execute_input": "2022-06-17T09:59:12.320593Z",
     "iopub.status.busy": "2022-06-17T09:59:12.320253Z",
     "iopub.status.idle": "2022-06-17T09:59:12.340307Z",
     "shell.execute_reply": "2022-06-17T09:59:12.339582Z"
    },
    "papermill": {
     "duration": 0.040284,
     "end_time": "2022-06-17T09:59:12.342024",
     "exception": false,
     "start_time": "2022-06-17T09:59:12.301740",
     "status": "completed"
    },
    "tags": []
   },
   "outputs": [
    {
     "data": {
      "text/html": [
       "<div>\n",
       "<style scoped>\n",
       "    .dataframe tbody tr th:only-of-type {\n",
       "        vertical-align: middle;\n",
       "    }\n",
       "\n",
       "    .dataframe tbody tr th {\n",
       "        vertical-align: top;\n",
       "    }\n",
       "\n",
       "    .dataframe thead th {\n",
       "        text-align: right;\n",
       "    }\n",
       "</style>\n",
       "<table border=\"1\" class=\"dataframe\">\n",
       "  <thead>\n",
       "    <tr style=\"text-align: right;\">\n",
       "      <th></th>\n",
       "      <th>text</th>\n",
       "      <th>PERSON-ontonotes</th>\n",
       "      <th>GPE-ontonotes</th>\n",
       "      <th>ORG-ontonotes</th>\n",
       "      <th>Date-ontonotes</th>\n",
       "      <th>postDate-ontonotes</th>\n",
       "      <th>Dates</th>\n",
       "    </tr>\n",
       "  </thead>\n",
       "  <tbody>\n",
       "    <tr>\n",
       "      <th>0</th>\n",
       "      <td>NaN</td>\n",
       "      <td>[I C Meekins, Isaac C. Meekins, E H Walker, Jo...</td>\n",
       "      <td>[Currituck County ,]</td>\n",
       "      <td>[]</td>\n",
       "      <td>[16 day of Sept A.D . , 1865]</td>\n",
       "      <td>[16-Sept-1865]</td>\n",
       "      <td>[16-Septembre-1865]</td>\n",
       "    </tr>\n",
       "    <tr>\n",
       "      <th>1</th>\n",
       "      <td>NaN</td>\n",
       "      <td>[]</td>\n",
       "      <td>[North Carolina, United States, States]</td>\n",
       "      <td>[Department of Virginia, State]</td>\n",
       "      <td>[1864]</td>\n",
       "      <td>[]</td>\n",
       "      <td>[]</td>\n",
       "    </tr>\n",
       "    <tr>\n",
       "      <th>2</th>\n",
       "      <td>NaN</td>\n",
       "      <td>[W. H. Pearce, W . H. Pearce]</td>\n",
       "      <td>[]</td>\n",
       "      <td>[]</td>\n",
       "      <td>[3rd day of October , A.D. , 1865]</td>\n",
       "      <td>[3-October-1865]</td>\n",
       "      <td>[3-October-1865]</td>\n",
       "    </tr>\n",
       "    <tr>\n",
       "      <th>3</th>\n",
       "      <td>NaN</td>\n",
       "      <td>[]</td>\n",
       "      <td>[North Carolina, United States]</td>\n",
       "      <td>[]</td>\n",
       "      <td>[______ day of ____________ , 1866]</td>\n",
       "      <td>[]</td>\n",
       "      <td>[]</td>\n",
       "    </tr>\n",
       "    <tr>\n",
       "      <th>4</th>\n",
       "      <td>NaN</td>\n",
       "      <td>[S.E . Allen]</td>\n",
       "      <td>[North Carolina, Wake County, United States]</td>\n",
       "      <td>[]</td>\n",
       "      <td>[31st day of May , 1867]</td>\n",
       "      <td>[31-May-1867]</td>\n",
       "      <td>[31-May-1867]</td>\n",
       "    </tr>\n",
       "  </tbody>\n",
       "</table>\n",
       "</div>"
      ],
      "text/plain": [
       "  text                                   PERSON-ontonotes  \\\n",
       "0  NaN  [I C Meekins, Isaac C. Meekins, E H Walker, Jo...   \n",
       "1  NaN                                                 []   \n",
       "2  NaN                      [W. H. Pearce, W . H. Pearce]   \n",
       "3  NaN                                                 []   \n",
       "4  NaN                                      [S.E . Allen]   \n",
       "\n",
       "                                  GPE-ontonotes  \\\n",
       "0                          [Currituck County ,]   \n",
       "1       [North Carolina, United States, States]   \n",
       "2                                            []   \n",
       "3               [North Carolina, United States]   \n",
       "4  [North Carolina, Wake County, United States]   \n",
       "\n",
       "                     ORG-ontonotes                       Date-ontonotes  \\\n",
       "0                               []        [16 day of Sept A.D . , 1865]   \n",
       "1  [Department of Virginia, State]                               [1864]   \n",
       "2                               []   [3rd day of October , A.D. , 1865]   \n",
       "3                               []  [______ day of ____________ , 1866]   \n",
       "4                               []             [31st day of May , 1867]   \n",
       "\n",
       "  postDate-ontonotes                Dates  \n",
       "0     [16-Sept-1865]  [16-Septembre-1865]  \n",
       "1                 []                   []  \n",
       "2   [3-October-1865]     [3-October-1865]  \n",
       "3                 []                   []  \n",
       "4      [31-May-1867]        [31-May-1867]  "
      ]
     },
     "execution_count": 10,
     "metadata": {},
     "output_type": "execute_result"
    }
   ],
   "source": [
    "Audf.head()"
   ]
  },
  {
   "cell_type": "code",
   "execution_count": 11,
   "id": "45cc1203",
   "metadata": {
    "execution": {
     "iopub.execute_input": "2022-06-17T09:59:12.380204Z",
     "iopub.status.busy": "2022-06-17T09:59:12.379459Z",
     "iopub.status.idle": "2022-06-17T09:59:12.385478Z",
     "shell.execute_reply": "2022-06-17T09:59:12.384745Z"
    },
    "papermill": {
     "duration": 0.027277,
     "end_time": "2022-06-17T09:59:12.387138",
     "exception": false,
     "start_time": "2022-06-17T09:59:12.359861",
     "status": "completed"
    },
    "tags": []
   },
   "outputs": [],
   "source": [
    "Audf[\"text\"]=range(2136)"
   ]
  },
  {
   "cell_type": "code",
   "execution_count": 12,
   "id": "fbc4fc52",
   "metadata": {
    "execution": {
     "iopub.execute_input": "2022-06-17T09:59:12.423571Z",
     "iopub.status.busy": "2022-06-17T09:59:12.422811Z",
     "iopub.status.idle": "2022-06-17T09:59:12.429315Z",
     "shell.execute_reply": "2022-06-17T09:59:12.428573Z"
    },
    "papermill": {
     "duration": 0.026342,
     "end_time": "2022-06-17T09:59:12.431179",
     "exception": false,
     "start_time": "2022-06-17T09:59:12.404837",
     "status": "completed"
    },
    "tags": []
   },
   "outputs": [
    {
     "data": {
      "text/plain": [
       "2136"
      ]
     },
     "execution_count": 12,
     "metadata": {},
     "output_type": "execute_result"
    }
   ],
   "source": [
    "len(NG)"
   ]
  },
  {
   "cell_type": "code",
   "execution_count": 13,
   "id": "68917a88",
   "metadata": {
    "execution": {
     "iopub.execute_input": "2022-06-17T09:59:12.467341Z",
     "iopub.status.busy": "2022-06-17T09:59:12.467056Z",
     "iopub.status.idle": "2022-06-17T09:59:12.474350Z",
     "shell.execute_reply": "2022-06-17T09:59:12.473572Z"
    },
    "jupyter": {
     "source_hidden": true
    },
    "papermill": {
     "duration": 0.027193,
     "end_time": "2022-06-17T09:59:12.476034",
     "exception": false,
     "start_time": "2022-06-17T09:59:12.448841",
     "status": "completed"
    },
    "tags": []
   },
   "outputs": [
    {
     "data": {
      "text/plain": [
       "3587"
      ]
     },
     "execution_count": 13,
     "metadata": {},
     "output_type": "execute_result"
    }
   ],
   "source": [
    "PL=[]\n",
    "for i in NG:\n",
    "    for j in i:\n",
    "        PL.append(j)\n",
    "len(PL)"
   ]
  },
  {
   "cell_type": "code",
   "execution_count": 14,
   "id": "f966a228",
   "metadata": {
    "execution": {
     "iopub.execute_input": "2022-06-17T09:59:12.512281Z",
     "iopub.status.busy": "2022-06-17T09:59:12.511594Z",
     "iopub.status.idle": "2022-06-17T09:59:12.519827Z",
     "shell.execute_reply": "2022-06-17T09:59:12.519110Z"
    },
    "papermill": {
     "duration": 0.02805,
     "end_time": "2022-06-17T09:59:12.521500",
     "exception": false,
     "start_time": "2022-06-17T09:59:12.493450",
     "status": "completed"
    },
    "tags": []
   },
   "outputs": [],
   "source": [
    "def uniqueName(iterable):\n",
    "    seen = set()\n",
    "    result = []\n",
    "    for item in iterable:\n",
    "        if item not in seen:\n",
    "            seen.add(item)\n",
    "            result.append(item)\n",
    "    return result\n",
    "NGG=[]\n",
    "for i in NG:\n",
    "    i=uniqueName(i)\n",
    "    NGG.append(i)"
   ]
  },
  {
   "cell_type": "code",
   "execution_count": 15,
   "id": "3d1b8451",
   "metadata": {
    "execution": {
     "iopub.execute_input": "2022-06-17T09:59:12.558533Z",
     "iopub.status.busy": "2022-06-17T09:59:12.557810Z",
     "iopub.status.idle": "2022-06-17T09:59:12.564392Z",
     "shell.execute_reply": "2022-06-17T09:59:12.563677Z"
    },
    "papermill": {
     "duration": 0.027202,
     "end_time": "2022-06-17T09:59:12.566144",
     "exception": false,
     "start_time": "2022-06-17T09:59:12.538942",
     "status": "completed"
    },
    "tags": []
   },
   "outputs": [
    {
     "data": {
      "text/plain": [
       "2887"
      ]
     },
     "execution_count": 15,
     "metadata": {},
     "output_type": "execute_result"
    }
   ],
   "source": [
    "PL=[]\n",
    "for i in NGG:\n",
    "    for j in i:\n",
    "        PL.append(j)\n",
    "len(PL)"
   ]
  },
  {
   "cell_type": "code",
   "execution_count": 16,
   "id": "5e7e2919",
   "metadata": {
    "execution": {
     "iopub.execute_input": "2022-06-17T09:59:12.602867Z",
     "iopub.status.busy": "2022-06-17T09:59:12.602584Z",
     "iopub.status.idle": "2022-06-17T09:59:12.607372Z",
     "shell.execute_reply": "2022-06-17T09:59:12.606486Z"
    },
    "papermill": {
     "duration": 0.024737,
     "end_time": "2022-06-17T09:59:12.609016",
     "exception": false,
     "start_time": "2022-06-17T09:59:12.584279",
     "status": "completed"
    },
    "tags": []
   },
   "outputs": [],
   "source": [
    "\n",
    "for i in NGG:\n",
    "    for j in i:\n",
    "        if j==\"29-May-1865\":\n",
    "            i.remove(j)"
   ]
  },
  {
   "cell_type": "code",
   "execution_count": 17,
   "id": "1900117a",
   "metadata": {
    "execution": {
     "iopub.execute_input": "2022-06-17T09:59:12.647089Z",
     "iopub.status.busy": "2022-06-17T09:59:12.645659Z",
     "iopub.status.idle": "2022-06-17T09:59:12.652625Z",
     "shell.execute_reply": "2022-06-17T09:59:12.651912Z"
    },
    "papermill": {
     "duration": 0.027329,
     "end_time": "2022-06-17T09:59:12.654381",
     "exception": false,
     "start_time": "2022-06-17T09:59:12.627052",
     "status": "completed"
    },
    "tags": []
   },
   "outputs": [],
   "source": [
    "for i in range(len(NGG)):\n",
    "    if len(NGG[i])==2:\n",
    "        NGG[i].remove(NGG[i][1])\n",
    "    elif (len(NGG[i])>2):\n",
    "        v=NGG[i][1]\n",
    "        del(NGG[i][0:])\n",
    "        NGG[i]=[v]\n",
    "        "
   ]
  },
  {
   "cell_type": "markdown",
   "id": "f394e0e7",
   "metadata": {
    "papermill": {
     "duration": 0.017665,
     "end_time": "2022-06-17T09:59:12.689795",
     "exception": false,
     "start_time": "2022-06-17T09:59:12.672130",
     "status": "completed"
    },
    "tags": []
   },
   "source": [
    "****"
   ]
  },
  {
   "cell_type": "markdown",
   "id": "7a7d0dab",
   "metadata": {
    "papermill": {
     "duration": 0.017685,
     "end_time": "2022-06-17T09:59:12.724951",
     "exception": false,
     "start_time": "2022-06-17T09:59:12.707266",
     "status": "completed"
    },
    "tags": []
   },
   "source": [
    "# dflarge"
   ]
  },
  {
   "cell_type": "code",
   "execution_count": 18,
   "id": "d1ce1953",
   "metadata": {
    "execution": {
     "iopub.execute_input": "2022-06-17T09:59:12.762563Z",
     "iopub.status.busy": "2022-06-17T09:59:12.761761Z",
     "iopub.status.idle": "2022-06-17T09:59:16.980922Z",
     "shell.execute_reply": "2022-06-17T09:59:16.979833Z"
    },
    "papermill": {
     "duration": 4.24077,
     "end_time": "2022-06-17T09:59:16.983183",
     "exception": false,
     "start_time": "2022-06-17T09:59:12.742413",
     "status": "completed"
    },
    "tags": []
   },
   "outputs": [],
   "source": [
    "with open('../input/entities/entityL.pkl', 'rb') as f:\n",
    "    entitiesL= pickle.load(f)"
   ]
  },
  {
   "cell_type": "code",
   "execution_count": 19,
   "id": "83a8022e",
   "metadata": {
    "execution": {
     "iopub.execute_input": "2022-06-17T09:59:17.024210Z",
     "iopub.status.busy": "2022-06-17T09:59:17.023852Z",
     "iopub.status.idle": "2022-06-17T09:59:17.029023Z",
     "shell.execute_reply": "2022-06-17T09:59:17.028305Z"
    },
    "papermill": {
     "duration": 0.028045,
     "end_time": "2022-06-17T09:59:17.031133",
     "exception": false,
     "start_time": "2022-06-17T09:59:17.003088",
     "status": "completed"
    },
    "tags": []
   },
   "outputs": [
    {
     "data": {
      "text/plain": [
       "2136"
      ]
     },
     "execution_count": 19,
     "metadata": {},
     "output_type": "execute_result"
    }
   ],
   "source": [
    "len(entitiesL)"
   ]
  },
  {
   "cell_type": "code",
   "execution_count": 20,
   "id": "4c1f6bf5",
   "metadata": {
    "execution": {
     "iopub.execute_input": "2022-06-17T09:59:17.070068Z",
     "iopub.status.busy": "2022-06-17T09:59:17.069691Z",
     "iopub.status.idle": "2022-06-17T09:59:17.634195Z",
     "shell.execute_reply": "2022-06-17T09:59:17.633365Z"
    },
    "papermill": {
     "duration": 0.587011,
     "end_time": "2022-06-17T09:59:17.636255",
     "exception": false,
     "start_time": "2022-06-17T09:59:17.049244",
     "status": "completed"
    },
    "tags": []
   },
   "outputs": [],
   "source": [
    "Per=[]\n",
    "ORG=[]\n",
    "LOC=[]\n",
    "from flair.data import Sentence\n",
    "\n",
    "dflarge=pd.DataFrame({\"text\":\"\", \"PERSON-nerenglarge\":[], \"LOC-nerenglarge\":\"\",\"ORG-nerenglarge\":\"\"})\n",
    "for i in entitiesL:\n",
    "    dc={}\n",
    "    P=[]\n",
    "    L=[]\n",
    "    G=[]\n",
    "    O=[]\n",
    "    for entity in i :\n",
    "\n",
    "                     \n",
    "                     if (entity.get_label(\"ner\").score > 0.90) & (entity.get_label(\"ner\").value != \"CARDINAL\") & (entity.get_label(\"ner\").value != \"LAW\")& (entity.get_label(\"ner\").value != \"QUANTITY\") & (entity.get_label(\"ner\").value != \"WORK_OF_ART\") & (entity.get_label(\"ner\").value != \"LAW\")& (entity.get_label(\"ner\").value != \"QUANTITY\") & (entity.get_label(\"ner\").value != \"EVENT\")  :\n",
    "                        dc[entity.text]= entity.get_label(\"ner\").value \n",
    "                       \n",
    "        \n",
    "      \n",
    "    for j in dc :\n",
    "                if dc[j]==\"PER\":\n",
    "                      P.append(j)\n",
    "                elif (dc[j]==\"ORG\") | (dc[j]==\"MISC\") :\n",
    "                      O.append(j)\n",
    "                elif dc[j]==\"LOC\":\n",
    "                      L.append(j)\n",
    "               \n",
    "    Per.append(P)\n",
    "    ORG.append(O)\n",
    "    LOC.append(L)\n",
    "            \n",
    "\n",
    "dflarge[\"PERSON-nerenglarge\"]=Per\n",
    "dflarge[\"LOC-nerenglarge\"]=LOC\n",
    "dflarge[\"ORG-nerenglarge\"]=ORG   "
   ]
  },
  {
   "cell_type": "code",
   "execution_count": 21,
   "id": "53ea7bae",
   "metadata": {
    "execution": {
     "iopub.execute_input": "2022-06-17T09:59:17.675611Z",
     "iopub.status.busy": "2022-06-17T09:59:17.675284Z",
     "iopub.status.idle": "2022-06-17T09:59:17.691481Z",
     "shell.execute_reply": "2022-06-17T09:59:17.690746Z"
    },
    "papermill": {
     "duration": 0.037438,
     "end_time": "2022-06-17T09:59:17.693214",
     "exception": false,
     "start_time": "2022-06-17T09:59:17.655776",
     "status": "completed"
    },
    "tags": []
   },
   "outputs": [
    {
     "data": {
      "text/html": [
       "<div>\n",
       "<style scoped>\n",
       "    .dataframe tbody tr th:only-of-type {\n",
       "        vertical-align: middle;\n",
       "    }\n",
       "\n",
       "    .dataframe tbody tr th {\n",
       "        vertical-align: top;\n",
       "    }\n",
       "\n",
       "    .dataframe thead th {\n",
       "        text-align: right;\n",
       "    }\n",
       "</style>\n",
       "<table border=\"1\" class=\"dataframe\">\n",
       "  <thead>\n",
       "    <tr style=\"text-align: right;\">\n",
       "      <th></th>\n",
       "      <th>text</th>\n",
       "      <th>PERSON-nerenglarge</th>\n",
       "      <th>LOC-nerenglarge</th>\n",
       "      <th>ORG-nerenglarge</th>\n",
       "    </tr>\n",
       "  </thead>\n",
       "  <tbody>\n",
       "    <tr>\n",
       "      <th>0</th>\n",
       "      <td>NaN</td>\n",
       "      <td>[I C Meekins, Almighty, God, Isaac C. Meekins,...</td>\n",
       "      <td>[Currituck County, State of North Carolina, Un...</td>\n",
       "      <td>[Constitution]</td>\n",
       "    </tr>\n",
       "    <tr>\n",
       "      <th>1</th>\n",
       "      <td>NaN</td>\n",
       "      <td>[]</td>\n",
       "      <td>[North Carolina, United States, States]</td>\n",
       "      <td>[Department of Virginia, OATH PAROLE]</td>\n",
       "    </tr>\n",
       "    <tr>\n",
       "      <th>2</th>\n",
       "      <td>NaN</td>\n",
       "      <td>[W. H. Pearce, Almighty, God, E. Ampetts, W . ...</td>\n",
       "      <td>[Craven County, State of NorthCarolina, United...</td>\n",
       "      <td>[Constitution]</td>\n",
       "    </tr>\n",
       "    <tr>\n",
       "      <th>3</th>\n",
       "      <td>NaN</td>\n",
       "      <td>[God]</td>\n",
       "      <td>[State of, North Carolina, United States]</td>\n",
       "      <td>[Constitution]</td>\n",
       "    </tr>\n",
       "    <tr>\n",
       "      <th>4</th>\n",
       "      <td>NaN</td>\n",
       "      <td>[S.E, God, T.D, McAlpine]</td>\n",
       "      <td>[State of, North Carolina, Wake County, United...</td>\n",
       "      <td>[Constitution, Res . Corp]</td>\n",
       "    </tr>\n",
       "  </tbody>\n",
       "</table>\n",
       "</div>"
      ],
      "text/plain": [
       "  text                                 PERSON-nerenglarge  \\\n",
       "0  NaN  [I C Meekins, Almighty, God, Isaac C. Meekins,...   \n",
       "1  NaN                                                 []   \n",
       "2  NaN  [W. H. Pearce, Almighty, God, E. Ampetts, W . ...   \n",
       "3  NaN                                              [God]   \n",
       "4  NaN                          [S.E, God, T.D, McAlpine]   \n",
       "\n",
       "                                     LOC-nerenglarge  \\\n",
       "0  [Currituck County, State of North Carolina, Un...   \n",
       "1            [North Carolina, United States, States]   \n",
       "2  [Craven County, State of NorthCarolina, United...   \n",
       "3          [State of, North Carolina, United States]   \n",
       "4  [State of, North Carolina, Wake County, United...   \n",
       "\n",
       "                         ORG-nerenglarge  \n",
       "0                         [Constitution]  \n",
       "1  [Department of Virginia, OATH PAROLE]  \n",
       "2                         [Constitution]  \n",
       "3                         [Constitution]  \n",
       "4             [Constitution, Res . Corp]  "
      ]
     },
     "execution_count": 21,
     "metadata": {},
     "output_type": "execute_result"
    }
   ],
   "source": [
    "dflarge.head()"
   ]
  },
  {
   "cell_type": "markdown",
   "id": "37e9fd70",
   "metadata": {
    "papermill": {
     "duration": 0.018307,
     "end_time": "2022-06-17T09:59:17.729482",
     "exception": false,
     "start_time": "2022-06-17T09:59:17.711175",
     "status": "completed"
    },
    "tags": []
   },
   "source": [
    "# final df"
   ]
  },
  {
   "cell_type": "code",
   "execution_count": 22,
   "id": "7c828d8c",
   "metadata": {
    "execution": {
     "iopub.execute_input": "2022-06-17T09:59:17.769390Z",
     "iopub.status.busy": "2022-06-17T09:59:17.768526Z",
     "iopub.status.idle": "2022-06-17T09:59:17.775914Z",
     "shell.execute_reply": "2022-06-17T09:59:17.775144Z"
    },
    "papermill": {
     "duration": 0.029178,
     "end_time": "2022-06-17T09:59:17.777582",
     "exception": false,
     "start_time": "2022-06-17T09:59:17.748404",
     "status": "completed"
    },
    "tags": []
   },
   "outputs": [],
   "source": [
    "Audf[\"Person-NerEngLarge\"]=dflarge[\"PERSON-nerenglarge\"]\n",
    "Audf[\"LOC-NerEngLarge\"]=dflarge[\"LOC-nerenglarge\"]\n",
    "Audf[\"ORG-NerEngLarge\"]=dflarge[\"ORG-nerenglarge\"]"
   ]
  },
  {
   "cell_type": "code",
   "execution_count": 23,
   "id": "1a269002",
   "metadata": {
    "execution": {
     "iopub.execute_input": "2022-06-17T09:59:17.818058Z",
     "iopub.status.busy": "2022-06-17T09:59:17.817114Z",
     "iopub.status.idle": "2022-06-17T09:59:17.842722Z",
     "shell.execute_reply": "2022-06-17T09:59:17.841884Z"
    },
    "papermill": {
     "duration": 0.048063,
     "end_time": "2022-06-17T09:59:17.844782",
     "exception": false,
     "start_time": "2022-06-17T09:59:17.796719",
     "status": "completed"
    },
    "tags": []
   },
   "outputs": [
    {
     "data": {
      "text/html": [
       "<div>\n",
       "<style scoped>\n",
       "    .dataframe tbody tr th:only-of-type {\n",
       "        vertical-align: middle;\n",
       "    }\n",
       "\n",
       "    .dataframe tbody tr th {\n",
       "        vertical-align: top;\n",
       "    }\n",
       "\n",
       "    .dataframe thead th {\n",
       "        text-align: right;\n",
       "    }\n",
       "</style>\n",
       "<table border=\"1\" class=\"dataframe\">\n",
       "  <thead>\n",
       "    <tr style=\"text-align: right;\">\n",
       "      <th></th>\n",
       "      <th>text</th>\n",
       "      <th>PERSON-ontonotes</th>\n",
       "      <th>GPE-ontonotes</th>\n",
       "      <th>ORG-ontonotes</th>\n",
       "      <th>Date-ontonotes</th>\n",
       "      <th>postDate-ontonotes</th>\n",
       "      <th>Dates</th>\n",
       "      <th>Person-NerEngLarge</th>\n",
       "      <th>LOC-NerEngLarge</th>\n",
       "      <th>ORG-NerEngLarge</th>\n",
       "    </tr>\n",
       "  </thead>\n",
       "  <tbody>\n",
       "    <tr>\n",
       "      <th>0</th>\n",
       "      <td>0</td>\n",
       "      <td>[I C Meekins, Isaac C. Meekins, E H Walker, Jo...</td>\n",
       "      <td>[Currituck County ,]</td>\n",
       "      <td>[]</td>\n",
       "      <td>[16 day of Sept A.D . , 1865]</td>\n",
       "      <td>[16-Sept-1865]</td>\n",
       "      <td>[16-Septembre-1865]</td>\n",
       "      <td>[I C Meekins, Almighty, God, Isaac C. Meekins,...</td>\n",
       "      <td>[Currituck County, State of North Carolina, Un...</td>\n",
       "      <td>[Constitution]</td>\n",
       "    </tr>\n",
       "    <tr>\n",
       "      <th>1</th>\n",
       "      <td>1</td>\n",
       "      <td>[]</td>\n",
       "      <td>[North Carolina, United States, States]</td>\n",
       "      <td>[Department of Virginia, State]</td>\n",
       "      <td>[1864]</td>\n",
       "      <td>[]</td>\n",
       "      <td>[]</td>\n",
       "      <td>[]</td>\n",
       "      <td>[North Carolina, United States, States]</td>\n",
       "      <td>[Department of Virginia, OATH PAROLE]</td>\n",
       "    </tr>\n",
       "    <tr>\n",
       "      <th>2</th>\n",
       "      <td>2</td>\n",
       "      <td>[W. H. Pearce, W . H. Pearce]</td>\n",
       "      <td>[]</td>\n",
       "      <td>[]</td>\n",
       "      <td>[3rd day of October , A.D. , 1865]</td>\n",
       "      <td>[3-October-1865]</td>\n",
       "      <td>[3-October-1865]</td>\n",
       "      <td>[W. H. Pearce, Almighty, God, E. Ampetts, W . ...</td>\n",
       "      <td>[Craven County, State of NorthCarolina, United...</td>\n",
       "      <td>[Constitution]</td>\n",
       "    </tr>\n",
       "    <tr>\n",
       "      <th>3</th>\n",
       "      <td>3</td>\n",
       "      <td>[]</td>\n",
       "      <td>[North Carolina, United States]</td>\n",
       "      <td>[]</td>\n",
       "      <td>[______ day of ____________ , 1866]</td>\n",
       "      <td>[]</td>\n",
       "      <td>[]</td>\n",
       "      <td>[God]</td>\n",
       "      <td>[State of, North Carolina, United States]</td>\n",
       "      <td>[Constitution]</td>\n",
       "    </tr>\n",
       "    <tr>\n",
       "      <th>4</th>\n",
       "      <td>4</td>\n",
       "      <td>[S.E . Allen]</td>\n",
       "      <td>[North Carolina, Wake County, United States]</td>\n",
       "      <td>[]</td>\n",
       "      <td>[31st day of May , 1867]</td>\n",
       "      <td>[31-May-1867]</td>\n",
       "      <td>[31-May-1867]</td>\n",
       "      <td>[S.E, God, T.D, McAlpine]</td>\n",
       "      <td>[State of, North Carolina, Wake County, United...</td>\n",
       "      <td>[Constitution, Res . Corp]</td>\n",
       "    </tr>\n",
       "  </tbody>\n",
       "</table>\n",
       "</div>"
      ],
      "text/plain": [
       "   text                                   PERSON-ontonotes  \\\n",
       "0     0  [I C Meekins, Isaac C. Meekins, E H Walker, Jo...   \n",
       "1     1                                                 []   \n",
       "2     2                      [W. H. Pearce, W . H. Pearce]   \n",
       "3     3                                                 []   \n",
       "4     4                                      [S.E . Allen]   \n",
       "\n",
       "                                  GPE-ontonotes  \\\n",
       "0                          [Currituck County ,]   \n",
       "1       [North Carolina, United States, States]   \n",
       "2                                            []   \n",
       "3               [North Carolina, United States]   \n",
       "4  [North Carolina, Wake County, United States]   \n",
       "\n",
       "                     ORG-ontonotes                       Date-ontonotes  \\\n",
       "0                               []        [16 day of Sept A.D . , 1865]   \n",
       "1  [Department of Virginia, State]                               [1864]   \n",
       "2                               []   [3rd day of October , A.D. , 1865]   \n",
       "3                               []  [______ day of ____________ , 1866]   \n",
       "4                               []             [31st day of May , 1867]   \n",
       "\n",
       "  postDate-ontonotes                Dates  \\\n",
       "0     [16-Sept-1865]  [16-Septembre-1865]   \n",
       "1                 []                   []   \n",
       "2   [3-October-1865]     [3-October-1865]   \n",
       "3                 []                   []   \n",
       "4      [31-May-1867]        [31-May-1867]   \n",
       "\n",
       "                                  Person-NerEngLarge  \\\n",
       "0  [I C Meekins, Almighty, God, Isaac C. Meekins,...   \n",
       "1                                                 []   \n",
       "2  [W. H. Pearce, Almighty, God, E. Ampetts, W . ...   \n",
       "3                                              [God]   \n",
       "4                          [S.E, God, T.D, McAlpine]   \n",
       "\n",
       "                                     LOC-NerEngLarge  \\\n",
       "0  [Currituck County, State of North Carolina, Un...   \n",
       "1            [North Carolina, United States, States]   \n",
       "2  [Craven County, State of NorthCarolina, United...   \n",
       "3          [State of, North Carolina, United States]   \n",
       "4  [State of, North Carolina, Wake County, United...   \n",
       "\n",
       "                         ORG-NerEngLarge  \n",
       "0                         [Constitution]  \n",
       "1  [Department of Virginia, OATH PAROLE]  \n",
       "2                         [Constitution]  \n",
       "3                         [Constitution]  \n",
       "4             [Constitution, Res . Corp]  "
      ]
     },
     "execution_count": 23,
     "metadata": {},
     "output_type": "execute_result"
    }
   ],
   "source": [
    "Audf.head()"
   ]
  },
  {
   "cell_type": "code",
   "execution_count": 24,
   "id": "843af231",
   "metadata": {
    "execution": {
     "iopub.execute_input": "2022-06-17T09:59:17.884264Z",
     "iopub.status.busy": "2022-06-17T09:59:17.883469Z",
     "iopub.status.idle": "2022-06-17T09:59:17.888810Z",
     "shell.execute_reply": "2022-06-17T09:59:17.888064Z"
    },
    "papermill": {
     "duration": 0.026874,
     "end_time": "2022-06-17T09:59:17.890726",
     "exception": false,
     "start_time": "2022-06-17T09:59:17.863852",
     "status": "completed"
    },
    "tags": []
   },
   "outputs": [
    {
     "data": {
      "text/plain": [
       "'/kaggle/working'"
      ]
     },
     "execution_count": 24,
     "metadata": {},
     "output_type": "execute_result"
    }
   ],
   "source": [
    "import os \n",
    "os.getcwd()"
   ]
  },
  {
   "cell_type": "code",
   "execution_count": 25,
   "id": "225c73e8",
   "metadata": {
    "execution": {
     "iopub.execute_input": "2022-06-17T09:59:17.929787Z",
     "iopub.status.busy": "2022-06-17T09:59:17.929045Z",
     "iopub.status.idle": "2022-06-17T09:59:17.949672Z",
     "shell.execute_reply": "2022-06-17T09:59:17.948802Z"
    },
    "papermill": {
     "duration": 0.042038,
     "end_time": "2022-06-17T09:59:17.951714",
     "exception": false,
     "start_time": "2022-06-17T09:59:17.909676",
     "status": "completed"
    },
    "tags": []
   },
   "outputs": [],
   "source": [
    "Audf.to_pickle(\"data.pkl\")"
   ]
  },
  {
   "cell_type": "code",
   "execution_count": 26,
   "id": "e6b405eb",
   "metadata": {
    "execution": {
     "iopub.execute_input": "2022-06-17T09:59:17.991530Z",
     "iopub.status.busy": "2022-06-17T09:59:17.990753Z",
     "iopub.status.idle": "2022-06-17T09:59:18.034295Z",
     "shell.execute_reply": "2022-06-17T09:59:18.033522Z"
    },
    "papermill": {
     "duration": 0.064868,
     "end_time": "2022-06-17T09:59:18.036269",
     "exception": false,
     "start_time": "2022-06-17T09:59:17.971401",
     "status": "completed"
    },
    "tags": []
   },
   "outputs": [],
   "source": [
    "with open('../input/audfff/data.pkl', 'rb') as f:\n",
    "    data= pickle.load(f)"
   ]
  },
  {
   "cell_type": "code",
   "execution_count": 27,
   "id": "eec0fd05",
   "metadata": {
    "execution": {
     "iopub.execute_input": "2022-06-17T09:59:18.075624Z",
     "iopub.status.busy": "2022-06-17T09:59:18.074981Z",
     "iopub.status.idle": "2022-06-17T09:59:18.116859Z",
     "shell.execute_reply": "2022-06-17T09:59:18.116132Z"
    },
    "papermill": {
     "duration": 0.063768,
     "end_time": "2022-06-17T09:59:18.118999",
     "exception": false,
     "start_time": "2022-06-17T09:59:18.055231",
     "status": "completed"
    },
    "tags": []
   },
   "outputs": [
    {
     "data": {
      "text/html": [
       "<div>\n",
       "<style scoped>\n",
       "    .dataframe tbody tr th:only-of-type {\n",
       "        vertical-align: middle;\n",
       "    }\n",
       "\n",
       "    .dataframe tbody tr th {\n",
       "        vertical-align: top;\n",
       "    }\n",
       "\n",
       "    .dataframe thead th {\n",
       "        text-align: right;\n",
       "    }\n",
       "</style>\n",
       "<table border=\"1\" class=\"dataframe\">\n",
       "  <thead>\n",
       "    <tr style=\"text-align: right;\">\n",
       "      <th></th>\n",
       "      <th>text</th>\n",
       "      <th>PERSON-ontonotes</th>\n",
       "      <th>GPE-ontonotes</th>\n",
       "      <th>ORG-ontonotes</th>\n",
       "      <th>Date-ontonotes</th>\n",
       "      <th>postDate-ontonotes</th>\n",
       "      <th>Dates</th>\n",
       "      <th>Person-NerEngLarge</th>\n",
       "      <th>LOC-NerEngLarge</th>\n",
       "      <th>ORG-NerEngLarge</th>\n",
       "    </tr>\n",
       "  </thead>\n",
       "  <tbody>\n",
       "    <tr>\n",
       "      <th>0</th>\n",
       "      <td>0</td>\n",
       "      <td>[I C Meekins, Isaac C. Meekins, E H Walker, Jo...</td>\n",
       "      <td>[Currituck County ,]</td>\n",
       "      <td>[]</td>\n",
       "      <td>[16 day of Sept A.D . , 1865]</td>\n",
       "      <td>[16-Sept-1865]</td>\n",
       "      <td>[16-Septembre-1865]</td>\n",
       "      <td>[I C Meekins, Almighty, God, Isaac C. Meekins,...</td>\n",
       "      <td>[Currituck County, State of North Carolina, Un...</td>\n",
       "      <td>[Constitution]</td>\n",
       "    </tr>\n",
       "    <tr>\n",
       "      <th>1</th>\n",
       "      <td>1</td>\n",
       "      <td>[]</td>\n",
       "      <td>[North Carolina, United States, States]</td>\n",
       "      <td>[Department of Virginia, State]</td>\n",
       "      <td>[1864]</td>\n",
       "      <td>[]</td>\n",
       "      <td>[]</td>\n",
       "      <td>[]</td>\n",
       "      <td>[North Carolina, United States, States]</td>\n",
       "      <td>[Department of Virginia, OATH PAROLE]</td>\n",
       "    </tr>\n",
       "    <tr>\n",
       "      <th>2</th>\n",
       "      <td>2</td>\n",
       "      <td>[W. H. Pearce, W . H. Pearce]</td>\n",
       "      <td>[]</td>\n",
       "      <td>[]</td>\n",
       "      <td>[3rd day of October , A.D. , 1865]</td>\n",
       "      <td>[3-October-1865]</td>\n",
       "      <td>[3-October-1865]</td>\n",
       "      <td>[W. H. Pearce, Almighty, God, E. Ampetts, W . ...</td>\n",
       "      <td>[Craven County, State of NorthCarolina, United...</td>\n",
       "      <td>[Constitution]</td>\n",
       "    </tr>\n",
       "    <tr>\n",
       "      <th>3</th>\n",
       "      <td>3</td>\n",
       "      <td>[]</td>\n",
       "      <td>[North Carolina, United States]</td>\n",
       "      <td>[]</td>\n",
       "      <td>[______ day of ____________ , 1866]</td>\n",
       "      <td>[]</td>\n",
       "      <td>[]</td>\n",
       "      <td>[God]</td>\n",
       "      <td>[State of, North Carolina, United States]</td>\n",
       "      <td>[Constitution]</td>\n",
       "    </tr>\n",
       "    <tr>\n",
       "      <th>4</th>\n",
       "      <td>4</td>\n",
       "      <td>[S.E . Allen]</td>\n",
       "      <td>[North Carolina, Wake County, United States]</td>\n",
       "      <td>[]</td>\n",
       "      <td>[31st day of May , 1867]</td>\n",
       "      <td>[31-May-1867]</td>\n",
       "      <td>[31-May-1867]</td>\n",
       "      <td>[S.E, God, T.D, McAlpine]</td>\n",
       "      <td>[State of, North Carolina, Wake County, United...</td>\n",
       "      <td>[Constitution, Res . Corp]</td>\n",
       "    </tr>\n",
       "    <tr>\n",
       "      <th>...</th>\n",
       "      <td>...</td>\n",
       "      <td>...</td>\n",
       "      <td>...</td>\n",
       "      <td>...</td>\n",
       "      <td>...</td>\n",
       "      <td>...</td>\n",
       "      <td>...</td>\n",
       "      <td>...</td>\n",
       "      <td>...</td>\n",
       "      <td>...</td>\n",
       "    </tr>\n",
       "    <tr>\n",
       "      <th>2131</th>\n",
       "      <td>2131</td>\n",
       "      <td>[Geo . Little, Geo . B. Ayer]</td>\n",
       "      <td>[Raleigh, N.C., Wake County, N.C, United State...</td>\n",
       "      <td>[]</td>\n",
       "      <td>[May 26, July 14]</td>\n",
       "      <td>[]</td>\n",
       "      <td>[]</td>\n",
       "      <td>[Geo . Little, Geo, B. Ayer, Hugo Hillebrandt]</td>\n",
       "      <td>[Raleigh, N.C., Wake County, State of N.C, Uni...</td>\n",
       "      <td>[]</td>\n",
       "    </tr>\n",
       "    <tr>\n",
       "      <th>2132</th>\n",
       "      <td>2132</td>\n",
       "      <td>[Birnie]</td>\n",
       "      <td>[]</td>\n",
       "      <td>[]</td>\n",
       "      <td>[July 30th 1867]</td>\n",
       "      <td>[30-July-1867]</td>\n",
       "      <td>[30-July-1867]</td>\n",
       "      <td>[]</td>\n",
       "      <td>[]</td>\n",
       "      <td>[]</td>\n",
       "    </tr>\n",
       "    <tr>\n",
       "      <th>2133</th>\n",
       "      <td>2133</td>\n",
       "      <td>[William Birnie]</td>\n",
       "      <td>[North Carolina, Robeson County, United States]</td>\n",
       "      <td>[]</td>\n",
       "      <td>[30 day of July]</td>\n",
       "      <td>[]</td>\n",
       "      <td>[]</td>\n",
       "      <td>[William Birnie, God, Wm Birnie, W.A]</td>\n",
       "      <td>[State of, North Carolina, Robeson County, Uni...</td>\n",
       "      <td>[Constitution]</td>\n",
       "    </tr>\n",
       "    <tr>\n",
       "      <th>2134</th>\n",
       "      <td>2134</td>\n",
       "      <td>[A.L . Price, James Fulton, John D Conoley, Al...</td>\n",
       "      <td>[North Carolina, New Hanover County, New Hanov...</td>\n",
       "      <td>[Fulton Price]</td>\n",
       "      <td>[May 29 1865, 15th Sept 1865, 15th September A...</td>\n",
       "      <td>[29-May-1865, 15-Sept-1865, 15-September-1865,...</td>\n",
       "      <td>[29-May-1865, 15-Septembre-1865, 15-Septembre-...</td>\n",
       "      <td>[Price, James Fulton, Sgd W . N. Peden, Miles ...</td>\n",
       "      <td>[State of North Carolina, New Hanover County, ...</td>\n",
       "      <td>[Fulton Price, Confederate Government, Court o...</td>\n",
       "    </tr>\n",
       "    <tr>\n",
       "      <th>2135</th>\n",
       "      <td>2135</td>\n",
       "      <td>[James Fulton, Wm A. Cutler, Geo W. Pollock, F...</td>\n",
       "      <td>[Wilmington N.C, New Hanover County]</td>\n",
       "      <td>[]</td>\n",
       "      <td>[Sept 22 . 1865, Twentyseventh day of Septembe...</td>\n",
       "      <td>[22-Sept-1865, Twentyseventh-September-1865, T...</td>\n",
       "      <td>[22-Septembre-1865, 27-Septembre-1865, Twentys...</td>\n",
       "      <td>[Marshall, James Fulton, God, Wm A. Cutler, I,...</td>\n",
       "      <td>[City of Wilmington, N.C, United States, North...</td>\n",
       "      <td>[NARA, Constitution of, Slaves]</td>\n",
       "    </tr>\n",
       "  </tbody>\n",
       "</table>\n",
       "<p>2136 rows × 10 columns</p>\n",
       "</div>"
      ],
      "text/plain": [
       "      text                                   PERSON-ontonotes  \\\n",
       "0        0  [I C Meekins, Isaac C. Meekins, E H Walker, Jo...   \n",
       "1        1                                                 []   \n",
       "2        2                      [W. H. Pearce, W . H. Pearce]   \n",
       "3        3                                                 []   \n",
       "4        4                                      [S.E . Allen]   \n",
       "...    ...                                                ...   \n",
       "2131  2131                      [Geo . Little, Geo . B. Ayer]   \n",
       "2132  2132                                           [Birnie]   \n",
       "2133  2133                                   [William Birnie]   \n",
       "2134  2134  [A.L . Price, James Fulton, John D Conoley, Al...   \n",
       "2135  2135  [James Fulton, Wm A. Cutler, Geo W. Pollock, F...   \n",
       "\n",
       "                                          GPE-ontonotes  \\\n",
       "0                                  [Currituck County ,]   \n",
       "1               [North Carolina, United States, States]   \n",
       "2                                                    []   \n",
       "3                       [North Carolina, United States]   \n",
       "4          [North Carolina, Wake County, United States]   \n",
       "...                                                 ...   \n",
       "2131  [Raleigh, N.C., Wake County, N.C, United State...   \n",
       "2132                                                 []   \n",
       "2133    [North Carolina, Robeson County, United States]   \n",
       "2134  [North Carolina, New Hanover County, New Hanov...   \n",
       "2135               [Wilmington N.C, New Hanover County]   \n",
       "\n",
       "                        ORG-ontonotes  \\\n",
       "0                                  []   \n",
       "1     [Department of Virginia, State]   \n",
       "2                                  []   \n",
       "3                                  []   \n",
       "4                                  []   \n",
       "...                               ...   \n",
       "2131                               []   \n",
       "2132                               []   \n",
       "2133                               []   \n",
       "2134                   [Fulton Price]   \n",
       "2135                               []   \n",
       "\n",
       "                                         Date-ontonotes  \\\n",
       "0                         [16 day of Sept A.D . , 1865]   \n",
       "1                                                [1864]   \n",
       "2                    [3rd day of October , A.D. , 1865]   \n",
       "3                   [______ day of ____________ , 1866]   \n",
       "4                              [31st day of May , 1867]   \n",
       "...                                                 ...   \n",
       "2131                                  [May 26, July 14]   \n",
       "2132                                   [July 30th 1867]   \n",
       "2133                                   [30 day of July]   \n",
       "2134  [May 29 1865, 15th Sept 1865, 15th September A...   \n",
       "2135  [Sept 22 . 1865, Twentyseventh day of Septembe...   \n",
       "\n",
       "                                     postDate-ontonotes  \\\n",
       "0                                        [16-Sept-1865]   \n",
       "1                                                    []   \n",
       "2                                      [3-October-1865]   \n",
       "3                                                    []   \n",
       "4                                         [31-May-1867]   \n",
       "...                                                 ...   \n",
       "2131                                                 []   \n",
       "2132                                     [30-July-1867]   \n",
       "2133                                                 []   \n",
       "2134  [29-May-1865, 15-Sept-1865, 15-September-1865,...   \n",
       "2135  [22-Sept-1865, Twentyseventh-September-1865, T...   \n",
       "\n",
       "                                                  Dates  \\\n",
       "0                                   [16-Septembre-1865]   \n",
       "1                                                    []   \n",
       "2                                      [3-October-1865]   \n",
       "3                                                    []   \n",
       "4                                         [31-May-1867]   \n",
       "...                                                 ...   \n",
       "2131                                                 []   \n",
       "2132                                     [30-July-1867]   \n",
       "2133                                                 []   \n",
       "2134  [29-May-1865, 15-Septembre-1865, 15-Septembre-...   \n",
       "2135  [22-Septembre-1865, 27-Septembre-1865, Twentys...   \n",
       "\n",
       "                                     Person-NerEngLarge  \\\n",
       "0     [I C Meekins, Almighty, God, Isaac C. Meekins,...   \n",
       "1                                                    []   \n",
       "2     [W. H. Pearce, Almighty, God, E. Ampetts, W . ...   \n",
       "3                                                 [God]   \n",
       "4                             [S.E, God, T.D, McAlpine]   \n",
       "...                                                 ...   \n",
       "2131     [Geo . Little, Geo, B. Ayer, Hugo Hillebrandt]   \n",
       "2132                                                 []   \n",
       "2133              [William Birnie, God, Wm Birnie, W.A]   \n",
       "2134  [Price, James Fulton, Sgd W . N. Peden, Miles ...   \n",
       "2135  [Marshall, James Fulton, God, Wm A. Cutler, I,...   \n",
       "\n",
       "                                        LOC-NerEngLarge  \\\n",
       "0     [Currituck County, State of North Carolina, Un...   \n",
       "1               [North Carolina, United States, States]   \n",
       "2     [Craven County, State of NorthCarolina, United...   \n",
       "3             [State of, North Carolina, United States]   \n",
       "4     [State of, North Carolina, Wake County, United...   \n",
       "...                                                 ...   \n",
       "2131  [Raleigh, N.C., Wake County, State of N.C, Uni...   \n",
       "2132                                                 []   \n",
       "2133  [State of, North Carolina, Robeson County, Uni...   \n",
       "2134  [State of North Carolina, New Hanover County, ...   \n",
       "2135  [City of Wilmington, N.C, United States, North...   \n",
       "\n",
       "                                        ORG-NerEngLarge  \n",
       "0                                        [Constitution]  \n",
       "1                 [Department of Virginia, OATH PAROLE]  \n",
       "2                                        [Constitution]  \n",
       "3                                        [Constitution]  \n",
       "4                            [Constitution, Res . Corp]  \n",
       "...                                                 ...  \n",
       "2131                                                 []  \n",
       "2132                                                 []  \n",
       "2133                                     [Constitution]  \n",
       "2134  [Fulton Price, Confederate Government, Court o...  \n",
       "2135                    [NARA, Constitution of, Slaves]  \n",
       "\n",
       "[2136 rows x 10 columns]"
      ]
     },
     "execution_count": 27,
     "metadata": {},
     "output_type": "execute_result"
    }
   ],
   "source": [
    "data"
   ]
  },
  {
   "cell_type": "markdown",
   "id": "84bf3021",
   "metadata": {
    "papermill": {
     "duration": 0.019324,
     "end_time": "2022-06-17T09:59:18.157775",
     "exception": false,
     "start_time": "2022-06-17T09:59:18.138451",
     "status": "completed"
    },
    "tags": []
   },
   "source": [
    "# Separate Oath maker and witness name"
   ]
  },
  {
   "cell_type": "code",
   "execution_count": 28,
   "id": "258717f4",
   "metadata": {
    "execution": {
     "iopub.execute_input": "2022-06-17T09:59:18.197775Z",
     "iopub.status.busy": "2022-06-17T09:59:18.197155Z",
     "iopub.status.idle": "2022-06-17T09:59:18.273059Z",
     "shell.execute_reply": "2022-06-17T09:59:18.272220Z"
    },
    "papermill": {
     "duration": 0.098611,
     "end_time": "2022-06-17T09:59:18.275116",
     "exception": false,
     "start_time": "2022-06-17T09:59:18.176505",
     "status": "completed"
    },
    "tags": []
   },
   "outputs": [],
   "source": [
    "newdata=pd.read_csv(\"../input/oathss/oaths.csv\")"
   ]
  },
  {
   "cell_type": "code",
   "execution_count": 29,
   "id": "faf692c5",
   "metadata": {
    "execution": {
     "iopub.execute_input": "2022-06-17T09:59:18.316489Z",
     "iopub.status.busy": "2022-06-17T09:59:18.316150Z",
     "iopub.status.idle": "2022-06-17T09:59:18.328192Z",
     "shell.execute_reply": "2022-06-17T09:59:18.327291Z"
    },
    "papermill": {
     "duration": 0.035374,
     "end_time": "2022-06-17T09:59:18.330861",
     "exception": false,
     "start_time": "2022-06-17T09:59:18.295487",
     "status": "completed"
    },
    "tags": []
   },
   "outputs": [
    {
     "data": {
      "text/plain": [
       "'[[image - eagle]]\\r\\nAMNESTY OATH. \\r\\n\\r\\nMississippi City Sept 12th 1865.\\r\\n\\r\\nI, Redick Cruthirds do solemnly swear, in presence of Almighty God, that I will henceforth faithfully support, protect and defend the Constitution of the United States and the union of the States thereunder; and that I will, in like manner, abide by and faithfully support all laws and proclamations which have been made during the existing rebellion with reference to the emancipation of slaves. SO HELP ME GOD.\\r\\n\\r\\nRedick his X mark Cruthirds\\r\\n\\r\\nSworn to and subscribed at Mississippi City\\r\\nthis 12 day of Sept\\r\\n1865, before me,\\r\\nJ H Mathews Capt\\r\\n66th US Col Infantry &\\r\\nProvost Marshal.\\r\\n\\r\\nDESCRIPTION:\\r\\nAge 51 years\\r\\nHeight 5 feet 8 inches\\r\\nColor of Eyes Blue\\r\\nColor of Hair Dark\\r\\nCharacteristics\\r\\n\\r\\nHEADQUARTERS Port Mississippi City Miss\\r\\nSept 12th 1865\\r\\n\\r\\nI hereby certify, that the Amnesty Oath prescribed by the Proclamation of the President of the United States, was duly administered to Redick Cruthirds of Harrison County by my order, this 12 day of Sept 1865.\\r\\n\\r\\nFrank E. Miller\\r\\nMajor 66th U.S.C.I.\\r\\nCommanding.\\r\\n\\r\\n[TRIPLICATE.]'"
      ]
     },
     "execution_count": 29,
     "metadata": {},
     "output_type": "execute_result"
    }
   ],
   "source": [
    "newdata[\"transcription_text\"][500]"
   ]
  },
  {
   "cell_type": "code",
   "execution_count": 30,
   "id": "7d67a0d9",
   "metadata": {
    "execution": {
     "iopub.execute_input": "2022-06-17T09:59:18.404377Z",
     "iopub.status.busy": "2022-06-17T09:59:18.403728Z",
     "iopub.status.idle": "2022-06-17T09:59:18.411933Z",
     "shell.execute_reply": "2022-06-17T09:59:18.410945Z"
    },
    "papermill": {
     "duration": 0.052838,
     "end_time": "2022-06-17T09:59:18.416817",
     "exception": false,
     "start_time": "2022-06-17T09:59:18.363979",
     "status": "completed"
    },
    "tags": []
   },
   "outputs": [
    {
     "data": {
      "text/plain": [
       "'I Sarah E Dough, of Currituck county, State of North  Carolina do solemnly swear or affirm in presence of Almighty God, that I will hence forth faithfully support, protect and defend the Constitution of the United States and the Union of the States thereunder; and that I will, in like manner, abide by and faithfully support all laws and proclamations which have been made during the existing rebellion with reference to the emancipation of slave. So help me God\\r\\n\\r\\nSarah. E. Dough\\r\\nsworn and subscribed to this the 1^st day of {Dec.\\r\\nA.D. 1866, before\\r\\n\\r\\nIsaac C. Merkins, J.P.'"
      ]
     },
     "execution_count": 30,
     "metadata": {},
     "output_type": "execute_result"
    }
   ],
   "source": [
    "newdata[\"transcription_text\"][5]"
   ]
  },
  {
   "cell_type": "code",
   "execution_count": 31,
   "id": "781678c7",
   "metadata": {
    "execution": {
     "iopub.execute_input": "2022-06-17T09:59:18.489197Z",
     "iopub.status.busy": "2022-06-17T09:59:18.487838Z",
     "iopub.status.idle": "2022-06-17T09:59:18.494651Z",
     "shell.execute_reply": "2022-06-17T09:59:18.493613Z"
    },
    "papermill": {
     "duration": 0.042243,
     "end_time": "2022-06-17T09:59:18.498086",
     "exception": false,
     "start_time": "2022-06-17T09:59:18.455843",
     "status": "completed"
    },
    "tags": []
   },
   "outputs": [
    {
     "data": {
      "text/plain": [
       "'[D 93 ENCL]\\r\\n\\r\\nI William S Skarren hereby agree to serve in the Bureau of Refugees Freedmen and Abandoned Lands in the Capacity of Clerk, to perform all duties pertaining to that office. And that I will accept in payment for said service $50 fifty dollars per month for each and every month I shall continue to perform the services above stated.\\r\\nNovember 4th, 1867\\r\\n\\r\\nRichard Dillon  seal\\r\\nCapt V.R.C. Bvt Maj U.S.V. A.S.A.C.\\r\\n\\r\\nWilliam E. Skarren  seal\\r\\n\\r\\nSigned Sealed & Delivered\\r\\nin presence of \\r\\nJohn N. Niles\\r\\nA.A. Surg USA\\r\\n     '"
      ]
     },
     "execution_count": 31,
     "metadata": {},
     "output_type": "execute_result"
    }
   ],
   "source": [
    "newdata[\"transcription_text\"][10]"
   ]
  },
  {
   "cell_type": "code",
   "execution_count": 32,
   "id": "0f277361",
   "metadata": {
    "execution": {
     "iopub.execute_input": "2022-06-17T09:59:18.568346Z",
     "iopub.status.busy": "2022-06-17T09:59:18.567792Z",
     "iopub.status.idle": "2022-06-17T09:59:18.574577Z",
     "shell.execute_reply": "2022-06-17T09:59:18.573835Z"
    },
    "papermill": {
     "duration": 0.047085,
     "end_time": "2022-06-17T09:59:18.578074",
     "exception": false,
     "start_time": "2022-06-17T09:59:18.530989",
     "status": "completed"
    },
    "tags": []
   },
   "outputs": [
    {
     "data": {
      "text/plain": [
       "'[D93 ENCL]\\r\\n\\r\\nI William E Skarren hereby agree to serve the Bureau of Refugees Freedmen and Abandoned Lands in the Capacity of Clerk, to perform all duties pertaining to the Office, and that I will accept in payment for said Service $50 fifty dollars  per month, for each and every month I should continue to perform the services above stated.\\r\\nNovember 4th 1867\\r\\n\\r\\nRichard Dillon  seal\\r\\nCapt. V.R.C. Bvt. Maj U.S.V. A.S.A.C.\\r\\nWilliam E. Skarren  seal\\r\\n\\r\\nSigned Sealed and Delivered\\r\\nin presence of\\r\\nJohn N. Niles \\r\\nA.A. Surg US.A\\r\\n\\r\\n'"
      ]
     },
     "execution_count": 32,
     "metadata": {},
     "output_type": "execute_result"
    }
   ],
   "source": [
    "newdata[\"transcription_text\"][11]"
   ]
  },
  {
   "cell_type": "code",
   "execution_count": 33,
   "id": "19b85f55",
   "metadata": {
    "execution": {
     "iopub.execute_input": "2022-06-17T09:59:18.645210Z",
     "iopub.status.busy": "2022-06-17T09:59:18.644726Z",
     "iopub.status.idle": "2022-06-17T09:59:18.657696Z",
     "shell.execute_reply": "2022-06-17T09:59:18.656818Z"
    },
    "papermill": {
     "duration": 0.048987,
     "end_time": "2022-06-17T09:59:18.659786",
     "exception": false,
     "start_time": "2022-06-17T09:59:18.610799",
     "status": "completed"
    },
    "tags": []
   },
   "outputs": [],
   "source": [
    "all_text=newdata[\"transcription_text\"]\n",
    "stop_words = set(stopwords.words('english'))\n",
    "punctuation = string.punctuation\n",
    "stemmer = SnowballStemmer(language=\"english\")\n",
    "lemmatizer = WordNetLemmatizer()\n",
    "stop_words.remove(\"of\")\n",
    "punctuation\n",
    "punct='!\"#$%&\\'()*+-/<=>?@[\\\\]^`{|}~'"
   ]
  },
  {
   "cell_type": "code",
   "execution_count": 34,
   "id": "5338dcff",
   "metadata": {
    "execution": {
     "iopub.execute_input": "2022-06-17T09:59:18.726713Z",
     "iopub.status.busy": "2022-06-17T09:59:18.726311Z",
     "iopub.status.idle": "2022-06-17T09:59:29.997276Z",
     "shell.execute_reply": "2022-06-17T09:59:29.996376Z"
    },
    "papermill": {
     "duration": 11.308157,
     "end_time": "2022-06-17T09:59:30.000346",
     "exception": false,
     "start_time": "2022-06-17T09:59:18.692189",
     "status": "completed"
    },
    "tags": []
   },
   "outputs": [
    {
     "name": "stderr",
     "output_type": "stream",
     "text": [
      "100%|██████████| 2136/2136 [00:10<00:00, 208.69it/s]\n",
      "100%|██████████| 2136/2136 [00:01<00:00, 2130.48it/s]\n"
     ]
    }
   ],
   "source": [
    "def process(s):\n",
    "    s= re.sub(\"([\\(\\[]).*?([\\)\\]])\",\" \",s)\n",
    "    for p in punct:\n",
    "        s = s.replace(p, '')\n",
    "    s = word_tokenize(s)\n",
    "    s = [w for w in s if not w in stop_words] \n",
    "    s = [lemmatizer.lemmatize(word) for word in s]\n",
    "    return s\n",
    "\n",
    "for i in tqdm(range(newdata.shape[0])):\n",
    "    all_text[i] = process(all_text[i])\n",
    "for i in tqdm(range(newdata.shape[0])):\n",
    "    all_text[i] = \" \".join(all_text[i])"
   ]
  },
  {
   "cell_type": "code",
   "execution_count": 35,
   "id": "22618549",
   "metadata": {
    "execution": {
     "iopub.execute_input": "2022-06-17T09:59:30.089067Z",
     "iopub.status.busy": "2022-06-17T09:59:30.088662Z",
     "iopub.status.idle": "2022-06-17T09:59:30.095209Z",
     "shell.execute_reply": "2022-06-17T09:59:30.094230Z"
    },
    "papermill": {
     "duration": 0.042427,
     "end_time": "2022-06-17T09:59:30.097648",
     "exception": false,
     "start_time": "2022-06-17T09:59:30.055221",
     "status": "completed"
    },
    "tags": []
   },
   "outputs": [
    {
     "data": {
      "text/plain": [
       "'I , I C Meekins , of Currituck County , State of North Carolina , solemnly swear affirm , presence of Almighty God , I henceforth faithfully support , protect defend Constitution of United States Union of States thereunder ; I , like manner , abide faithfully support law proclamation made existing rebellion reference emancipation of slave . So help God . Isaac C. Meekins Sworn subscribed 16 day of Sept A.D. , 1865 , E H Walker , J.P . It hereby certified true copy of original oath taken subscribed I C Meekins E H Walker , J.P. John B Etheridge , J.P .'"
      ]
     },
     "execution_count": 35,
     "metadata": {},
     "output_type": "execute_result"
    }
   ],
   "source": [
    "all_text[0]"
   ]
  },
  {
   "cell_type": "markdown",
   "id": "ef48a251",
   "metadata": {
    "papermill": {
     "duration": 0.028599,
     "end_time": "2022-06-17T09:59:30.155540",
     "exception": false,
     "start_time": "2022-06-17T09:59:30.126941",
     "status": "completed"
    },
    "tags": []
   },
   "source": [
    "# City with regex"
   ]
  },
  {
   "cell_type": "code",
   "execution_count": 36,
   "id": "68be38c1",
   "metadata": {
    "execution": {
     "iopub.execute_input": "2022-06-17T09:59:30.216538Z",
     "iopub.status.busy": "2022-06-17T09:59:30.215635Z",
     "iopub.status.idle": "2022-06-17T09:59:30.330359Z",
     "shell.execute_reply": "2022-06-17T09:59:30.329197Z"
    },
    "papermill": {
     "duration": 0.149672,
     "end_time": "2022-06-17T09:59:30.334706",
     "exception": false,
     "start_time": "2022-06-17T09:59:30.185034",
     "status": "completed"
    },
    "tags": []
   },
   "outputs": [
    {
     "data": {
      "text/plain": [
       "['JP Of City',\n",
       " 'MAYOR Of City',\n",
       " 'MAYOR Of City',\n",
       " 'of Albany City',\n",
       " 'office The City',\n",
       " 'At Mississippi City',\n",
       " 'subscribed Mississippi City',\n",
       " 'At Miss City',\n",
       " 'Post Miss City',\n",
       " 'At Miss City']"
      ]
     },
     "execution_count": 36,
     "metadata": {},
     "output_type": "execute_result"
    }
   ],
   "source": [
    "City=[]\n",
    "c=[]\n",
    "for i in all_text:\n",
    "\n",
    "    city=re.search(r'[A-Za-z]\\w*\\s[A-Za-z]\\w*.City' ,i)\n",
    "    \n",
    "    c.append(city)\n",
    "\n",
    "\n",
    "for i in c:\n",
    "    if i !=None:\n",
    "        City.append(i.group())\n",
    "City[:10]"
   ]
  },
  {
   "cell_type": "code",
   "execution_count": 37,
   "id": "c68d04cc",
   "metadata": {
    "execution": {
     "iopub.execute_input": "2022-06-17T09:59:30.402360Z",
     "iopub.status.busy": "2022-06-17T09:59:30.400996Z",
     "iopub.status.idle": "2022-06-17T09:59:30.410548Z",
     "shell.execute_reply": "2022-06-17T09:59:30.409602Z"
    },
    "papermill": {
     "duration": 0.048267,
     "end_time": "2022-06-17T09:59:30.412812",
     "exception": false,
     "start_time": "2022-06-17T09:59:30.364545",
     "status": "completed"
    },
    "tags": []
   },
   "outputs": [
    {
     "data": {
      "text/plain": [
       "'Department of Virginia North Carolina , 1864. taken subscribed OATH PAROLE required General Orders No . 49 , Loyal Citizen of United States , residing State ever rebellion , sympathized seceding States .'"
      ]
     },
     "execution_count": 37,
     "metadata": {},
     "output_type": "execute_result"
    }
   ],
   "source": [
    "all_text[1]"
   ]
  },
  {
   "cell_type": "code",
   "execution_count": 38,
   "id": "1af1901b",
   "metadata": {
    "execution": {
     "iopub.execute_input": "2022-06-17T09:59:30.473107Z",
     "iopub.status.busy": "2022-06-17T09:59:30.472737Z",
     "iopub.status.idle": "2022-06-17T09:59:30.478490Z",
     "shell.execute_reply": "2022-06-17T09:59:30.477574Z"
    },
    "papermill": {
     "duration": 0.038935,
     "end_time": "2022-06-17T09:59:30.481056",
     "exception": false,
     "start_time": "2022-06-17T09:59:30.442121",
     "status": "completed"
    },
    "tags": []
   },
   "outputs": [
    {
     "data": {
      "text/plain": [
       "'AMNESTY OATH . Mississippi City Sept 12th 1865 . I , Redick Cruthirds solemnly swear , presence of Almighty God , I henceforth faithfully support , protect defend Constitution of United States union of States thereunder ; I , like manner , abide faithfully support law proclamation made existing rebellion reference emancipation of slave . SO HELP ME GOD . Redick X mark Cruthirds Sworn subscribed Mississippi City 12 day of Sept 1865 , , J H Mathews Capt 66th US Col Infantry Provost Marshal . DESCRIPTION : Age 51 year Height 5 foot 8 inch Color of Eyes Blue Color of Hair Dark Characteristics HEADQUARTERS Port Mississippi City Miss Sept 12th 1865 I hereby certify , Amnesty Oath prescribed Proclamation of President of United States , duly administered Redick Cruthirds of Harrison County order , 12 day of Sept 1865 . Frank E. Miller Major 66th U.S.C.I . Commanding .'"
      ]
     },
     "execution_count": 38,
     "metadata": {},
     "output_type": "execute_result"
    }
   ],
   "source": [
    "all_text[500]"
   ]
  },
  {
   "cell_type": "code",
   "execution_count": 39,
   "id": "def15317",
   "metadata": {
    "execution": {
     "iopub.execute_input": "2022-06-17T09:59:30.542590Z",
     "iopub.status.busy": "2022-06-17T09:59:30.541823Z",
     "iopub.status.idle": "2022-06-17T09:59:30.550583Z",
     "shell.execute_reply": "2022-06-17T09:59:30.549771Z"
    },
    "papermill": {
     "duration": 0.041986,
     "end_time": "2022-06-17T09:59:30.552705",
     "exception": false,
     "start_time": "2022-06-17T09:59:30.510719",
     "status": "completed"
    },
    "tags": []
   },
   "outputs": [
    {
     "data": {
      "text/plain": [
       "'AMNESTY OATH . Mississippi City Sept 12th 1865 . I , Redick Cruthirds solemnly swear , presence of Almighty God , I henceforth faithfully support , protect defend Constitution of United States union of States thereunder ; I , like manner , abide faithfully support law proclamation made existing rebellion reference emancipation of slave . SO HELP ME GOD . Redick X mark Cruthirds Sworn subscribed Mississippi City 12 day of Sept 1865 , , J H Mathews Capt 66th US Col Infantry Provost Marshal . DESCRIPTION : Age 51 year Height 5 foot 8 inch Color of Eyes Blue Color of Hair Dark Characteristics HEADQUARTERS Port Mississippi City Miss Sept 12th 1865 I hereby certify , Amnesty Oath prescribed Proclamation of President of United States , duly administered Redick Cruthirds of Harrison County order , 12 day of Sept 1865 . Frank E. Miller Major 66th U.S.C.I . Commanding .'"
      ]
     },
     "execution_count": 39,
     "metadata": {},
     "output_type": "execute_result"
    }
   ],
   "source": [
    "all_text[500]"
   ]
  },
  {
   "cell_type": "code",
   "execution_count": 40,
   "id": "32630040",
   "metadata": {
    "execution": {
     "iopub.execute_input": "2022-06-17T09:59:30.613633Z",
     "iopub.status.busy": "2022-06-17T09:59:30.612869Z",
     "iopub.status.idle": "2022-06-17T09:59:30.618858Z",
     "shell.execute_reply": "2022-06-17T09:59:30.617960Z"
    },
    "papermill": {
     "duration": 0.038946,
     "end_time": "2022-06-17T09:59:30.621284",
     "exception": false,
     "start_time": "2022-06-17T09:59:30.582338",
     "status": "completed"
    },
    "tags": []
   },
   "outputs": [
    {
     "data": {
      "text/plain": [
       "'I Sarah E Dough , of Currituck county , State of North Carolina solemnly swear affirm presence of Almighty God , I hence forth faithfully support , protect defend Constitution of United States Union of States thereunder ; I , like manner , abide faithfully support law proclamation made existing rebellion reference emancipation of slave . So help God Sarah . E. Dough sworn subscribed 1st day of Dec. A.D. 1866 , Isaac C. Merkins , J.P .'"
      ]
     },
     "execution_count": 40,
     "metadata": {},
     "output_type": "execute_result"
    }
   ],
   "source": [
    "all_text[5]"
   ]
  },
  {
   "cell_type": "code",
   "execution_count": 41,
   "id": "ef931a05",
   "metadata": {
    "execution": {
     "iopub.execute_input": "2022-06-17T09:59:30.680677Z",
     "iopub.status.busy": "2022-06-17T09:59:30.679974Z",
     "iopub.status.idle": "2022-06-17T09:59:30.686077Z",
     "shell.execute_reply": "2022-06-17T09:59:30.685153Z"
    },
    "papermill": {
     "duration": 0.038064,
     "end_time": "2022-06-17T09:59:30.688116",
     "exception": false,
     "start_time": "2022-06-17T09:59:30.650052",
     "status": "completed"
    },
    "tags": []
   },
   "outputs": [
    {
     "data": {
      "text/plain": [
       "'I John Bowers solemnly swear I carefully read Amnesty Proclamation issued ANDREW JOHNSON , President of United States of America , May 29th , 1865 , I excepted benefit of Proclamation one of fourteen exception therein made , except John E. Bowers Sworn subscribed Charleston SC 31st day of August 1865 . Levi Stuber Major 47th Pa. Vols . Pro . Marshal . No . 923 United States of America . I , John Bowers of County City of Charleston State of South Ca solemnly swear presence of Almighty God , I henceforth faithfully support defend Constitution of United States , Union of States thereunder , I , like manner , abide faithfully support law proclamation made existing rebellion reference Emancipation of slaves–SO HELP ME GOD . John E. Bowers Sworn subscribed Charleston SC 31st day of August 1865 . Levi Stuber Major 47th Pa. Vols . Pro . Marshal . The named Dark complexion Dark hair , Grey eye ; 5 foot 8 inch high 54 year ; profession Auctioneer Copy Levi Stuber Major 47th Pa. Vols . Pro Marshal City of Charleston'"
      ]
     },
     "execution_count": 41,
     "metadata": {},
     "output_type": "execute_result"
    }
   ],
   "source": [
    "all_text[1000]"
   ]
  },
  {
   "cell_type": "code",
   "execution_count": 42,
   "id": "2efeed7a",
   "metadata": {
    "execution": {
     "iopub.execute_input": "2022-06-17T09:59:30.747659Z",
     "iopub.status.busy": "2022-06-17T09:59:30.746952Z",
     "iopub.status.idle": "2022-06-17T09:59:30.752857Z",
     "shell.execute_reply": "2022-06-17T09:59:30.751947Z"
    },
    "papermill": {
     "duration": 0.039031,
     "end_time": "2022-06-17T09:59:30.756249",
     "exception": false,
     "start_time": "2022-06-17T09:59:30.717218",
     "status": "completed"
    },
    "tags": []
   },
   "outputs": [
    {
     "data": {
      "text/plain": [
       "'UNITED STATES OF AMERICA . TEST OATH . I , W.C. Arthur solemnly swear I never voluntarily borne arm United States since I citizen thereof ; I voluntarily given aid , countenance , counsel , encouragement person engaged armed hostility thereto ; I neither sought , accepted , attempted exercise function of office whatever , authority , pretended authority , hostility United States ; I yielded voluntary support pretended government , authority , power , constitution within United States , hostile inimical thereto . And I swear , affirm , , best of knowledge ability , I support defend Constitution of United States enemy , foreign domestic ; I bear true faith allegiance ; I take obligation freely , without mental reservation purpose of evasion ; I well faithfully discharge duty of office I enter : So help God . W.C. Arthur SWORN TO AND SUBSCRIBED , Montgomery , Alabama , 1st day of August 1867 S C Greene Captain 24th Infty Bvt Maj USA . A.A.A.G .'"
      ]
     },
     "execution_count": 42,
     "metadata": {},
     "output_type": "execute_result"
    }
   ],
   "source": [
    "all_text[1900]"
   ]
  },
  {
   "cell_type": "code",
   "execution_count": 43,
   "id": "bb3756f0",
   "metadata": {
    "execution": {
     "iopub.execute_input": "2022-06-17T09:59:30.814992Z",
     "iopub.status.busy": "2022-06-17T09:59:30.814599Z",
     "iopub.status.idle": "2022-06-17T09:59:30.821355Z",
     "shell.execute_reply": "2022-06-17T09:59:30.820586Z"
    },
    "papermill": {
     "duration": 0.039001,
     "end_time": "2022-06-17T09:59:30.823252",
     "exception": false,
     "start_time": "2022-06-17T09:59:30.784251",
     "status": "completed"
    },
    "tags": []
   },
   "outputs": [
    {
     "data": {
      "text/plain": [
       "'No . Office Provost Marshal , Parish of Orleans , DEPARTMENT OF THE GULF . New Orleans , 1865 . I late C. S. solemnly swear presence of Almighty God , I henceforth faithfully support , protect defend Constitution of United States Union of States thereunder , I , like manner , abide faithfully support Acts of Congress passed existing rebellion reference slave , long far repealed , modified , held void Congress decision of Supreme Court , I , like manner , abide faithfully support Proclamations of President made existing rebellion , reference slave , long far modified declared void decision of Supreme Court . So help God . Sworn Subscribed Before day of 1865 . J P Evans The named complexion , hair , eye , aged year , foot inch high . Doherty Capt . 16th Indiana Vols. , Asst . Provost Marshal .'"
      ]
     },
     "execution_count": 43,
     "metadata": {},
     "output_type": "execute_result"
    }
   ],
   "source": [
    "all_text[248]"
   ]
  },
  {
   "cell_type": "code",
   "execution_count": null,
   "id": "a6e98db4",
   "metadata": {
    "papermill": {
     "duration": 0.02832,
     "end_time": "2022-06-17T09:59:30.881457",
     "exception": false,
     "start_time": "2022-06-17T09:59:30.853137",
     "status": "completed"
    },
    "tags": []
   },
   "outputs": [],
   "source": []
  }
 ],
 "metadata": {
  "kernelspec": {
   "display_name": "Python 3",
   "language": "python",
   "name": "python3"
  },
  "language_info": {
   "codemirror_mode": {
    "name": "ipython",
    "version": 3
   },
   "file_extension": ".py",
   "mimetype": "text/x-python",
   "name": "python",
   "nbconvert_exporter": "python",
   "pygments_lexer": "ipython3",
   "version": "3.7.12"
  },
  "papermill": {
   "default_parameters": {},
   "duration": 90.379369,
   "end_time": "2022-06-17T09:59:33.530195",
   "environment_variables": {},
   "exception": null,
   "input_path": "__notebook__.ipynb",
   "output_path": "__notebook__.ipynb",
   "parameters": {},
   "start_time": "2022-06-17T09:58:03.150826",
   "version": "2.3.4"
  }
 },
 "nbformat": 4,
 "nbformat_minor": 5
}
