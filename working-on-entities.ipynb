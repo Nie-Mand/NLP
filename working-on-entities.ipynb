{
 "cells": [
  {
   "cell_type": "code",
   "execution_count": 1,
   "id": "a9179a89",
   "metadata": {
    "_cell_guid": "b1076dfc-b9ad-4769-8c92-a6c4dae69d19",
    "_uuid": "8f2839f25d086af736a60e9eeb907d3b93b6e0e5",
    "execution": {
     "iopub.execute_input": "2022-06-15T18:31:46.318723Z",
     "iopub.status.busy": "2022-06-15T18:31:46.318198Z",
     "iopub.status.idle": "2022-06-15T18:31:56.171771Z",
     "shell.execute_reply": "2022-06-15T18:31:56.170336Z"
    },
    "papermill": {
     "duration": 9.880772,
     "end_time": "2022-06-15T18:31:56.175304",
     "exception": false,
     "start_time": "2022-06-15T18:31:46.294532",
     "status": "completed"
    },
    "tags": []
   },
   "outputs": [],
   "source": [
    "import numpy as np\n",
    "import pandas as pd \n",
    "import seaborn as sns\n",
    "import matplotlib.pyplot as plt \n",
    "import matplotlib.style as stl \n",
    "from tensorflow import keras \n",
    "from keras.preprocessing.text import Tokenizer\n",
    "from nltk.corpus import stopwords\n",
    "import string\n",
    "from tensorflow.keras.models import Sequential,Model\n",
    "from tensorflow.keras.layers import Dense, LSTM, Embedding,Dropout,SpatialDropout1D,Conv1D,MaxPooling1D,GRU,BatchNormalization\n",
    "import warnings\n",
    "warnings.filterwarnings('ignore')\n",
    "stl.use('ggplot')\n",
    "from tqdm import tqdm\n",
    "import string\n",
    "from nltk.corpus import stopwords\n",
    "from nltk.tokenize import word_tokenize\n",
    "from nltk.stem import WordNetLemmatizer\n",
    "from nltk.stem.snowball import SnowballStemmer\n",
    "import regex as re\n",
    "import pickle"
   ]
  },
  {
   "cell_type": "code",
   "execution_count": 2,
   "id": "3d8fad10",
   "metadata": {
    "execution": {
     "iopub.execute_input": "2022-06-15T18:31:56.221794Z",
     "iopub.status.busy": "2022-06-15T18:31:56.220520Z",
     "iopub.status.idle": "2022-06-15T18:32:52.321384Z",
     "shell.execute_reply": "2022-06-15T18:32:52.319974Z"
    },
    "papermill": {
     "duration": 56.127381,
     "end_time": "2022-06-15T18:32:52.324441",
     "exception": false,
     "start_time": "2022-06-15T18:31:56.197060",
     "status": "completed"
    },
    "tags": []
   },
   "outputs": [
    {
     "name": "stdout",
     "output_type": "stream",
     "text": [
      "Collecting flair\r\n",
      "  Downloading flair-0.11.3-py3-none-any.whl (401 kB)\r\n",
      "\u001b[2K     \u001b[90m━━━━━━━━━━━━━━━━━━━━━━━━━━━━━━━━━━━━━━━\u001b[0m \u001b[32m401.9/401.9 kB\u001b[0m \u001b[31m1.9 MB/s\u001b[0m eta \u001b[36m0:00:00\u001b[0m\r\n",
      "\u001b[?25hCollecting sqlitedict>=1.6.0\r\n",
      "  Downloading sqlitedict-2.0.0.tar.gz (46 kB)\r\n",
      "\u001b[2K     \u001b[90m━━━━━━━━━━━━━━━━━━━━━━━━━━━━━━━━━━━━━━━━\u001b[0m \u001b[32m46.3/46.3 kB\u001b[0m \u001b[31m2.5 MB/s\u001b[0m eta \u001b[36m0:00:00\u001b[0m\r\n",
      "\u001b[?25h  Preparing metadata (setup.py) ... \u001b[?25l-\b \bdone\r\n",
      "\u001b[?25hRequirement already satisfied: gensim>=3.4.0 in /opt/conda/lib/python3.7/site-packages (from flair) (4.0.1)\r\n",
      "Collecting conllu>=4.0\r\n",
      "  Downloading conllu-4.4.2-py2.py3-none-any.whl (15 kB)\r\n",
      "Collecting konoha<5.0.0,>=4.0.0\r\n",
      "  Downloading konoha-4.6.5-py3-none-any.whl (20 kB)\r\n",
      "Requirement already satisfied: huggingface-hub in /opt/conda/lib/python3.7/site-packages (from flair) (0.5.1)\r\n",
      "Collecting wikipedia-api\r\n",
      "  Downloading Wikipedia-API-0.5.4.tar.gz (18 kB)\r\n",
      "  Preparing metadata (setup.py) ... \u001b[?25l-\b \bdone\r\n",
      "\u001b[?25hCollecting bpemb>=0.3.2\r\n",
      "  Downloading bpemb-0.3.3-py3-none-any.whl (19 kB)\r\n",
      "Requirement already satisfied: janome in /opt/conda/lib/python3.7/site-packages (from flair) (0.4.2)\r\n",
      "Collecting mpld3==0.3\r\n",
      "  Downloading mpld3-0.3.tar.gz (788 kB)\r\n",
      "\u001b[2K     \u001b[90m━━━━━━━━━━━━━━━━━━━━━━━━━━━━━━━━━━━━━━━\u001b[0m \u001b[32m788.5/788.5 kB\u001b[0m \u001b[31m8.9 MB/s\u001b[0m eta \u001b[36m0:00:00\u001b[0m\r\n",
      "\u001b[?25h  Preparing metadata (setup.py) ... \u001b[?25l-\b \bdone\r\n",
      "\u001b[?25hRequirement already satisfied: torch!=1.8,>=1.5.0 in /opt/conda/lib/python3.7/site-packages (from flair) (1.11.0+cpu)\r\n",
      "Requirement already satisfied: more-itertools in /opt/conda/lib/python3.7/site-packages (from flair) (8.13.0)\r\n",
      "Requirement already satisfied: python-dateutil>=2.6.1 in /opt/conda/lib/python3.7/site-packages (from flair) (2.8.2)\r\n",
      "Collecting deprecated>=1.2.4\r\n",
      "  Downloading Deprecated-1.2.13-py2.py3-none-any.whl (9.6 kB)\r\n",
      "Requirement already satisfied: tabulate in /opt/conda/lib/python3.7/site-packages (from flair) (0.8.9)\r\n",
      "Requirement already satisfied: hyperopt>=0.2.7 in /opt/conda/lib/python3.7/site-packages (from flair) (0.2.7)\r\n",
      "Requirement already satisfied: regex in /opt/conda/lib/python3.7/site-packages (from flair) (2021.11.10)\r\n",
      "Collecting ftfy\r\n",
      "  Downloading ftfy-6.1.1-py3-none-any.whl (53 kB)\r\n",
      "\u001b[2K     \u001b[90m━━━━━━━━━━━━━━━━━━━━━━━━━━━━━━━━━━━━━━━━\u001b[0m \u001b[32m53.1/53.1 kB\u001b[0m \u001b[31m3.1 MB/s\u001b[0m eta \u001b[36m0:00:00\u001b[0m\r\n",
      "\u001b[?25hCollecting gdown==4.4.0\r\n",
      "  Downloading gdown-4.4.0.tar.gz (14 kB)\r\n",
      "  Installing build dependencies ... \u001b[?25l-\b \b\\\b \b|\b \b/\b \b-\b \b\\\b \bdone\r\n",
      "\u001b[?25h  Getting requirements to build wheel ... \u001b[?25l-\b \b\\\b \b|\b \b/\b \b-\b \bdone\r\n",
      "\u001b[?25h  Preparing metadata (pyproject.toml) ... \u001b[?25l-\b \b\\\b \b|\b \b/\b \b-\b \bdone\r\n",
      "\u001b[?25hRequirement already satisfied: transformers>=4.0.0 in /opt/conda/lib/python3.7/site-packages (from flair) (4.18.0)\r\n",
      "Collecting segtok>=1.5.7\r\n",
      "  Downloading segtok-1.5.11-py3-none-any.whl (24 kB)\r\n",
      "Requirement already satisfied: tqdm>=4.26.0 in /opt/conda/lib/python3.7/site-packages (from flair) (4.64.0)\r\n",
      "Requirement already satisfied: lxml in /opt/conda/lib/python3.7/site-packages (from flair) (4.8.0)\r\n",
      "Requirement already satisfied: matplotlib>=2.2.3 in /opt/conda/lib/python3.7/site-packages (from flair) (3.5.2)\r\n",
      "Collecting sentencepiece==0.1.95\r\n",
      "  Downloading sentencepiece-0.1.95-cp37-cp37m-manylinux2014_x86_64.whl (1.2 MB)\r\n",
      "\u001b[2K     \u001b[90m━━━━━━━━━━━━━━━━━━━━━━━━━━━━━━━━━━━━━━━━\u001b[0m \u001b[32m1.2/1.2 MB\u001b[0m \u001b[31m16.4 MB/s\u001b[0m eta \u001b[36m0:00:00\u001b[0m\r\n",
      "\u001b[?25hRequirement already satisfied: scikit-learn>=0.21.3 in /opt/conda/lib/python3.7/site-packages (from flair) (1.0.2)\r\n",
      "Collecting langdetect\r\n",
      "  Downloading langdetect-1.0.9.tar.gz (981 kB)\r\n",
      "\u001b[2K     \u001b[90m━━━━━━━━━━━━━━━━━━━━━━━━━━━━━━━━━━━━━━\u001b[0m \u001b[32m981.5/981.5 kB\u001b[0m \u001b[31m36.4 MB/s\u001b[0m eta \u001b[36m0:00:00\u001b[0m\r\n",
      "\u001b[?25h  Preparing metadata (setup.py) ... \u001b[?25l-\b \bdone\r\n",
      "\u001b[?25hCollecting pptree\r\n",
      "  Downloading pptree-3.1.tar.gz (3.0 kB)\r\n",
      "  Preparing metadata (setup.py) ... \u001b[?25l-\b \bdone\r\n",
      "\u001b[?25hRequirement already satisfied: six in /opt/conda/lib/python3.7/site-packages (from gdown==4.4.0->flair) (1.16.0)\r\n",
      "Requirement already satisfied: filelock in /opt/conda/lib/python3.7/site-packages (from gdown==4.4.0->flair) (3.6.0)\r\n",
      "Requirement already satisfied: beautifulsoup4 in /opt/conda/lib/python3.7/site-packages (from gdown==4.4.0->flair) (4.11.1)\r\n",
      "Requirement already satisfied: requests[socks] in /opt/conda/lib/python3.7/site-packages (from gdown==4.4.0->flair) (2.27.1)\r\n",
      "Requirement already satisfied: numpy in /opt/conda/lib/python3.7/site-packages (from bpemb>=0.3.2->flair) (1.21.6)\r\n",
      "Requirement already satisfied: wrapt<2,>=1.10 in /opt/conda/lib/python3.7/site-packages (from deprecated>=1.2.4->flair) (1.14.1)\r\n",
      "Requirement already satisfied: smart-open>=1.8.1 in /opt/conda/lib/python3.7/site-packages (from gensim>=3.4.0->flair) (5.2.1)\r\n",
      "Requirement already satisfied: scipy>=0.18.1 in /opt/conda/lib/python3.7/site-packages (from gensim>=3.4.0->flair) (1.7.3)\r\n",
      "Requirement already satisfied: future in /opt/conda/lib/python3.7/site-packages (from hyperopt>=0.2.7->flair) (0.18.2)\r\n",
      "Requirement already satisfied: cloudpickle in /opt/conda/lib/python3.7/site-packages (from hyperopt>=0.2.7->flair) (2.0.0)\r\n",
      "Requirement already satisfied: networkx>=2.2 in /opt/conda/lib/python3.7/site-packages (from hyperopt>=0.2.7->flair) (2.5)\r\n",
      "Requirement already satisfied: py4j in /opt/conda/lib/python3.7/site-packages (from hyperopt>=0.2.7->flair) (0.10.9.5)\r\n",
      "Collecting importlib-metadata<4.0.0,>=3.7.0\r\n",
      "  Downloading importlib_metadata-3.10.1-py3-none-any.whl (14 kB)\r\n",
      "Collecting overrides<4.0.0,>=3.0.0\r\n",
      "  Downloading overrides-3.1.0.tar.gz (11 kB)\r\n",
      "  Preparing metadata (setup.py) ... \u001b[?25l-\b \bdone\r\n",
      "\u001b[?25hRequirement already satisfied: packaging>=20.0 in /opt/conda/lib/python3.7/site-packages (from matplotlib>=2.2.3->flair) (21.3)\r\n",
      "Requirement already satisfied: cycler>=0.10 in /opt/conda/lib/python3.7/site-packages (from matplotlib>=2.2.3->flair) (0.11.0)\r\n",
      "Requirement already satisfied: fonttools>=4.22.0 in /opt/conda/lib/python3.7/site-packages (from matplotlib>=2.2.3->flair) (4.33.3)\r\n",
      "Requirement already satisfied: kiwisolver>=1.0.1 in /opt/conda/lib/python3.7/site-packages (from matplotlib>=2.2.3->flair) (1.4.2)\r\n",
      "Requirement already satisfied: pillow>=6.2.0 in /opt/conda/lib/python3.7/site-packages (from matplotlib>=2.2.3->flair) (9.1.0)\r\n",
      "Requirement already satisfied: pyparsing>=2.2.1 in /opt/conda/lib/python3.7/site-packages (from matplotlib>=2.2.3->flair) (3.0.9)\r\n",
      "Requirement already satisfied: joblib>=0.11 in /opt/conda/lib/python3.7/site-packages (from scikit-learn>=0.21.3->flair) (1.1.0)\r\n",
      "Requirement already satisfied: threadpoolctl>=2.0.0 in /opt/conda/lib/python3.7/site-packages (from scikit-learn>=0.21.3->flair) (3.1.0)\r\n",
      "Requirement already satisfied: typing-extensions in /opt/conda/lib/python3.7/site-packages (from torch!=1.8,>=1.5.0->flair) (4.2.0)\r\n",
      "Requirement already satisfied: tokenizers!=0.11.3,<0.13,>=0.11.1 in /opt/conda/lib/python3.7/site-packages (from transformers>=4.0.0->flair) (0.12.1)\r\n",
      "Requirement already satisfied: pyyaml>=5.1 in /opt/conda/lib/python3.7/site-packages (from transformers>=4.0.0->flair) (6.0)\r\n",
      "Requirement already satisfied: sacremoses in /opt/conda/lib/python3.7/site-packages (from transformers>=4.0.0->flair) (0.0.53)\r\n",
      "Requirement already satisfied: wcwidth>=0.2.5 in /opt/conda/lib/python3.7/site-packages (from ftfy->flair) (0.2.5)\r\n",
      "Requirement already satisfied: zipp>=0.5 in /opt/conda/lib/python3.7/site-packages (from importlib-metadata<4.0.0,>=3.7.0->konoha<5.0.0,>=4.0.0->flair) (3.8.0)\r\n",
      "Requirement already satisfied: decorator>=4.3.0 in /opt/conda/lib/python3.7/site-packages (from networkx>=2.2->hyperopt>=0.2.7->flair) (5.1.1)\r\n",
      "Requirement already satisfied: certifi>=2017.4.17 in /opt/conda/lib/python3.7/site-packages (from requests[socks]->gdown==4.4.0->flair) (2022.5.18.1)\r\n",
      "Requirement already satisfied: charset-normalizer~=2.0.0 in /opt/conda/lib/python3.7/site-packages (from requests[socks]->gdown==4.4.0->flair) (2.0.12)\r\n",
      "Requirement already satisfied: urllib3<1.27,>=1.21.1 in /opt/conda/lib/python3.7/site-packages (from requests[socks]->gdown==4.4.0->flair) (1.26.9)\r\n",
      "Requirement already satisfied: idna<4,>=2.5 in /opt/conda/lib/python3.7/site-packages (from requests[socks]->gdown==4.4.0->flair) (3.3)\r\n",
      "Requirement already satisfied: soupsieve>1.2 in /opt/conda/lib/python3.7/site-packages (from beautifulsoup4->gdown==4.4.0->flair) (2.3.1)\r\n",
      "Requirement already satisfied: PySocks!=1.5.7,>=1.5.6 in /opt/conda/lib/python3.7/site-packages (from requests[socks]->gdown==4.4.0->flair) (1.7.1)\r\n",
      "Requirement already satisfied: click in /opt/conda/lib/python3.7/site-packages (from sacremoses->transformers>=4.0.0->flair) (8.0.4)\r\n",
      "Building wheels for collected packages: gdown, mpld3, sqlitedict, langdetect, pptree, wikipedia-api, overrides\r\n",
      "  Building wheel for gdown (pyproject.toml) ... \u001b[?25l-\b \b\\\b \b|\b \b/\b \b-\b \b\\\b \b|\b \b/\b \b-\b \bdone\r\n",
      "\u001b[?25h  Created wheel for gdown: filename=gdown-4.4.0-py3-none-any.whl size=14759 sha256=468417f9d6e80cb569a8f1460866f24bb1b3fc9ee31f73f85cdd6cd0bec9a3ab\r\n",
      "  Stored in directory: /root/.cache/pip/wheels/fb/c3/0e/c4d8ff8bfcb0461afff199471449f642179b74968c15b7a69c\r\n",
      "  Building wheel for mpld3 (setup.py) ... \u001b[?25l-\b \b\\\b \bdone\r\n",
      "\u001b[?25h  Created wheel for mpld3: filename=mpld3-0.3-py3-none-any.whl size=116702 sha256=af3229beaaa24f8f0b59c38825aed5f8ae3d2a4f4f7688708aef138114c14c60\r\n",
      "  Stored in directory: /root/.cache/pip/wheels/26/70/6a/1c79e59951a41b4045497da187b2724f5659ca64033cf4548e\r\n",
      "  Building wheel for sqlitedict (setup.py) ... \u001b[?25l-\b \b\\\b \bdone\r\n",
      "\u001b[?25h  Created wheel for sqlitedict: filename=sqlitedict-2.0.0-py3-none-any.whl size=15736 sha256=2a1acc2d1f54a53d53e81d7aa1f7e0829f701543e3773fabedb933844d21575c\r\n",
      "  Stored in directory: /root/.cache/pip/wheels/96/dd/2e/0ed4a25cb73fc30c7ea8d10b50acb7226175736067e40a7ea3\r\n",
      "  Building wheel for langdetect (setup.py) ... \u001b[?25l-\b \b\\\b \b|\b \b/\b \b-\b \bdone\r\n",
      "\u001b[?25h  Created wheel for langdetect: filename=langdetect-1.0.9-py3-none-any.whl size=993242 sha256=8cb41566bbd8d55487922b05984e4f382307f5a150efc7aad8e4fb0eb36e52eb\r\n",
      "  Stored in directory: /root/.cache/pip/wheels/c5/96/8a/f90c59ed25d75e50a8c10a1b1c2d4c402e4dacfa87f3aff36a\r\n",
      "  Building wheel for pptree (setup.py) ... \u001b[?25l-\b \b\\\b \bdone\r\n",
      "\u001b[?25h  Created wheel for pptree: filename=pptree-3.1-py3-none-any.whl size=4629 sha256=1ef0573f0b83b5055c0cb52531920d10d3b203bf9712dde0f1cfe514832bba0f\r\n",
      "  Stored in directory: /root/.cache/pip/wheels/9e/e8/7d/a9c3c19b4722608a0d8b05a38c36bc3f230c43becd2a46794b\r\n",
      "  Building wheel for wikipedia-api (setup.py) ... \u001b[?25l-\b \b\\\b \bdone\r\n",
      "\u001b[?25h  Created wheel for wikipedia-api: filename=Wikipedia_API-0.5.4-py3-none-any.whl size=13477 sha256=742494ad59ccd953da9675ef46da125f781c46efbf1673afd32cec4b5ccbce3f\r\n",
      "  Stored in directory: /root/.cache/pip/wheels/d3/24/56/58ba93cf78be162451144e7a9889603f437976ef1ae7013d04\r\n",
      "  Building wheel for overrides (setup.py) ... \u001b[?25l-\b \b\\\b \bdone\r\n",
      "\u001b[?25h  Created wheel for overrides: filename=overrides-3.1.0-py3-none-any.whl size=10187 sha256=7fbf31f9432033a74f74795edac696cd0175a292ee9bbe08d33bbce674393770\r\n",
      "  Stored in directory: /root/.cache/pip/wheels/3a/0d/38/01a9bc6e20dcfaf0a6a7b552d03137558ba1c38aea47644682\r\n",
      "Successfully built gdown mpld3 sqlitedict langdetect pptree wikipedia-api overrides\r\n",
      "Installing collected packages: sqlitedict, sentencepiece, pptree, overrides, mpld3, segtok, langdetect, importlib-metadata, ftfy, deprecated, conllu, wikipedia-api, konoha, gdown, bpemb, flair\r\n",
      "  Attempting uninstall: sentencepiece\r\n",
      "    Found existing installation: sentencepiece 0.1.96\r\n",
      "    Uninstalling sentencepiece-0.1.96:\r\n",
      "      Successfully uninstalled sentencepiece-0.1.96\r\n",
      "  Attempting uninstall: overrides\r\n",
      "    Found existing installation: overrides 6.1.0\r\n",
      "    Uninstalling overrides-6.1.0:\r\n",
      "      Successfully uninstalled overrides-6.1.0\r\n",
      "  Attempting uninstall: mpld3\r\n",
      "    Found existing installation: mpld3 0.5.7\r\n",
      "    Uninstalling mpld3-0.5.7:\r\n",
      "      Successfully uninstalled mpld3-0.5.7\r\n",
      "  Attempting uninstall: importlib-metadata\r\n",
      "    Found existing installation: importlib-metadata 4.11.4\r\n",
      "    Uninstalling importlib-metadata-4.11.4:\r\n",
      "      Successfully uninstalled importlib-metadata-4.11.4\r\n",
      "\u001b[31mERROR: pip's dependency resolver does not currently take into account all the packages that are installed. This behaviour is the source of the following dependency conflicts.\r\n",
      "markdown 3.3.7 requires importlib-metadata>=4.4; python_version < \"3.10\", but you have importlib-metadata 3.10.1 which is incompatible.\r\n",
      "ibis-framework 2.1.1 requires importlib-metadata<5,>=4; python_version < \"3.8\", but you have importlib-metadata 3.10.1 which is incompatible.\r\n",
      "gym 0.23.1 requires importlib-metadata>=4.10.0; python_version < \"3.10\", but you have importlib-metadata 3.10.1 which is incompatible.\r\n",
      "google-cloud-pubsublite 1.4.2 requires overrides<7.0.0,>=6.0.1, but you have overrides 3.1.0 which is incompatible.\u001b[0m\u001b[31m\r\n",
      "\u001b[0mSuccessfully installed bpemb-0.3.3 conllu-4.4.2 deprecated-1.2.13 flair-0.11.3 ftfy-6.1.1 gdown-4.4.0 importlib-metadata-3.10.1 konoha-4.6.5 langdetect-1.0.9 mpld3-0.3 overrides-3.1.0 pptree-3.1 segtok-1.5.11 sentencepiece-0.1.95 sqlitedict-2.0.0 wikipedia-api-0.5.4\r\n",
      "\u001b[33mWARNING: Running pip as the 'root' user can result in broken permissions and conflicting behaviour with the system package manager. It is recommended to use a virtual environment instead: https://pip.pypa.io/warnings/venv\u001b[0m\u001b[33m\r\n",
      "\u001b[0m"
     ]
    }
   ],
   "source": [
    "!pip install flair"
   ]
  },
  {
   "cell_type": "markdown",
   "id": "79fe592e",
   "metadata": {
    "papermill": {
     "duration": 0.027936,
     "end_time": "2022-06-15T18:32:52.381916",
     "exception": false,
     "start_time": "2022-06-15T18:32:52.353980",
     "status": "completed"
    },
    "tags": []
   },
   "source": [
    "# Audf"
   ]
  },
  {
   "cell_type": "code",
   "execution_count": 3,
   "id": "b0256857",
   "metadata": {
    "execution": {
     "iopub.execute_input": "2022-06-15T18:32:52.441199Z",
     "iopub.status.busy": "2022-06-15T18:32:52.440683Z",
     "iopub.status.idle": "2022-06-15T18:33:00.843831Z",
     "shell.execute_reply": "2022-06-15T18:33:00.842453Z"
    },
    "papermill": {
     "duration": 8.436624,
     "end_time": "2022-06-15T18:33:00.847103",
     "exception": false,
     "start_time": "2022-06-15T18:32:52.410479",
     "status": "completed"
    },
    "tags": []
   },
   "outputs": [],
   "source": [
    "with open('../input/entities/entityAu.pkl', 'rb') as f:\n",
    "    entitiesA = pickle.load(f)"
   ]
  },
  {
   "cell_type": "code",
   "execution_count": 4,
   "id": "7e6d2920",
   "metadata": {
    "execution": {
     "iopub.execute_input": "2022-06-15T18:33:00.907053Z",
     "iopub.status.busy": "2022-06-15T18:33:00.906550Z",
     "iopub.status.idle": "2022-06-15T18:33:01.464154Z",
     "shell.execute_reply": "2022-06-15T18:33:01.463005Z"
    },
    "papermill": {
     "duration": 0.590931,
     "end_time": "2022-06-15T18:33:01.467073",
     "exception": false,
     "start_time": "2022-06-15T18:33:00.876142",
     "status": "completed"
    },
    "tags": []
   },
   "outputs": [],
   "source": [
    "Per=[]\n",
    "Date=[]\n",
    "GPE=[]\n",
    "ORG=[]\n",
    "from flair.data import Sentence\n",
    "\n",
    "Audf=pd.DataFrame({\"text\":\"\", \"PERSON-ontonotes\":[], \"GPE-ontonotes\":\"\",\"ORG-ontonotes\":\"\", \"Date-ontonotes\":\"\"})\n",
    "\n",
    "\n",
    "\n",
    "for i in entitiesA:\n",
    "    \n",
    " dc={}\n",
    " P=[]\n",
    " D=[]\n",
    " G=[]\n",
    " O=[]\n",
    " for entity in i:\n",
    "    if (entity.get_label(\"ner\").score > 0.98) & (entity.get_label(\"ner\").value != \"CARDINAL\") & (entity.get_label(\"ner\").value != \"LAW\")& (entity.get_label(\"ner\").value != \"QUANTITY\") & (entity.get_label(\"ner\").value != \"WORK_OF_ART\") & (entity.get_label(\"ner\").value != \"LAW\")& (entity.get_label(\"ner\").value != \"QUANTITY\") & (entity.get_label(\"ner\").value != \"EVENT\")  :\n",
    "                        dc[entity.text]= entity.get_label(\"ner\").value \n",
    "                        \n",
    "        \n",
    "        \n",
    " for j in dc :\n",
    "                if dc[j]==\"PERSON\":\n",
    "                      P.append(j)\n",
    "                elif dc[j]==\"ORG\":\n",
    "                      O.append(j)\n",
    "                elif dc[j]==\"DATE\":\n",
    "                      D.append(j)\n",
    "                elif dc[j]==\"GPE\":\n",
    "                      G.append(j)\n",
    " Per.append(P)\n",
    " Date.append(D)\n",
    " ORG.append(O)\n",
    " GPE.append(G)\n",
    "            \n",
    "Audf[\"Date-ontonotes\"]=Date\n",
    "Audf[\"PERSON-ontonotes\"]=Per\n",
    "Audf[\"GPE-ontonotes\"]=GPE\n",
    "Audf[\"ORG-ontonotes\"]=ORG    "
   ]
  },
  {
   "cell_type": "code",
   "execution_count": 5,
   "id": "4417b7ac",
   "metadata": {
    "execution": {
     "iopub.execute_input": "2022-06-15T18:33:01.526037Z",
     "iopub.status.busy": "2022-06-15T18:33:01.525520Z",
     "iopub.status.idle": "2022-06-15T18:33:01.566577Z",
     "shell.execute_reply": "2022-06-15T18:33:01.565458Z"
    },
    "papermill": {
     "duration": 0.073279,
     "end_time": "2022-06-15T18:33:01.569402",
     "exception": false,
     "start_time": "2022-06-15T18:33:01.496123",
     "status": "completed"
    },
    "tags": []
   },
   "outputs": [
    {
     "data": {
      "text/html": [
       "<div>\n",
       "<style scoped>\n",
       "    .dataframe tbody tr th:only-of-type {\n",
       "        vertical-align: middle;\n",
       "    }\n",
       "\n",
       "    .dataframe tbody tr th {\n",
       "        vertical-align: top;\n",
       "    }\n",
       "\n",
       "    .dataframe thead th {\n",
       "        text-align: right;\n",
       "    }\n",
       "</style>\n",
       "<table border=\"1\" class=\"dataframe\">\n",
       "  <thead>\n",
       "    <tr style=\"text-align: right;\">\n",
       "      <th></th>\n",
       "      <th>text</th>\n",
       "      <th>PERSON-ontonotes</th>\n",
       "      <th>GPE-ontonotes</th>\n",
       "      <th>ORG-ontonotes</th>\n",
       "      <th>Date-ontonotes</th>\n",
       "    </tr>\n",
       "  </thead>\n",
       "  <tbody>\n",
       "    <tr>\n",
       "      <th>0</th>\n",
       "      <td>NaN</td>\n",
       "      <td>[I C Meekins, Isaac C. Meekins, E H Walker, Jo...</td>\n",
       "      <td>[Currituck County ,]</td>\n",
       "      <td>[]</td>\n",
       "      <td>[16 day of Sept A.D . , 1865]</td>\n",
       "    </tr>\n",
       "    <tr>\n",
       "      <th>1</th>\n",
       "      <td>NaN</td>\n",
       "      <td>[]</td>\n",
       "      <td>[North Carolina, United States, States]</td>\n",
       "      <td>[Department of Virginia, State]</td>\n",
       "      <td>[1864]</td>\n",
       "    </tr>\n",
       "    <tr>\n",
       "      <th>2</th>\n",
       "      <td>NaN</td>\n",
       "      <td>[W. H. Pearce, W . H. Pearce]</td>\n",
       "      <td>[]</td>\n",
       "      <td>[]</td>\n",
       "      <td>[3rd day of October , A.D. , 1865]</td>\n",
       "    </tr>\n",
       "    <tr>\n",
       "      <th>3</th>\n",
       "      <td>NaN</td>\n",
       "      <td>[]</td>\n",
       "      <td>[North Carolina, United States]</td>\n",
       "      <td>[]</td>\n",
       "      <td>[______ day of ____________ , 1866]</td>\n",
       "    </tr>\n",
       "    <tr>\n",
       "      <th>4</th>\n",
       "      <td>NaN</td>\n",
       "      <td>[S.E . Allen]</td>\n",
       "      <td>[North Carolina, Wake County, United States]</td>\n",
       "      <td>[]</td>\n",
       "      <td>[31st day of May , 1867]</td>\n",
       "    </tr>\n",
       "    <tr>\n",
       "      <th>...</th>\n",
       "      <td>...</td>\n",
       "      <td>...</td>\n",
       "      <td>...</td>\n",
       "      <td>...</td>\n",
       "      <td>...</td>\n",
       "    </tr>\n",
       "    <tr>\n",
       "      <th>2131</th>\n",
       "      <td>NaN</td>\n",
       "      <td>[Geo . Little, Geo . B. Ayer]</td>\n",
       "      <td>[Raleigh, N.C., Wake County, N.C, United State...</td>\n",
       "      <td>[]</td>\n",
       "      <td>[May 26, July 14]</td>\n",
       "    </tr>\n",
       "    <tr>\n",
       "      <th>2132</th>\n",
       "      <td>NaN</td>\n",
       "      <td>[Birnie]</td>\n",
       "      <td>[]</td>\n",
       "      <td>[]</td>\n",
       "      <td>[July 30th 1867]</td>\n",
       "    </tr>\n",
       "    <tr>\n",
       "      <th>2133</th>\n",
       "      <td>NaN</td>\n",
       "      <td>[William Birnie]</td>\n",
       "      <td>[North Carolina, Robeson County, United States]</td>\n",
       "      <td>[]</td>\n",
       "      <td>[30 day of July]</td>\n",
       "    </tr>\n",
       "    <tr>\n",
       "      <th>2134</th>\n",
       "      <td>NaN</td>\n",
       "      <td>[A.L . Price, James Fulton, John D Conoley, Al...</td>\n",
       "      <td>[North Carolina, New Hanover County, New Hanov...</td>\n",
       "      <td>[Fulton Price]</td>\n",
       "      <td>[May 29 1865, 15th Sept 1865, 15th September A...</td>\n",
       "    </tr>\n",
       "    <tr>\n",
       "      <th>2135</th>\n",
       "      <td>NaN</td>\n",
       "      <td>[James Fulton, Wm A. Cutler, Geo W. Pollock, F...</td>\n",
       "      <td>[Wilmington N.C, New Hanover County]</td>\n",
       "      <td>[]</td>\n",
       "      <td>[Sept 22 . 1865, Twentyseventh day of Septembe...</td>\n",
       "    </tr>\n",
       "  </tbody>\n",
       "</table>\n",
       "<p>2136 rows × 5 columns</p>\n",
       "</div>"
      ],
      "text/plain": [
       "     text                                   PERSON-ontonotes  \\\n",
       "0     NaN  [I C Meekins, Isaac C. Meekins, E H Walker, Jo...   \n",
       "1     NaN                                                 []   \n",
       "2     NaN                      [W. H. Pearce, W . H. Pearce]   \n",
       "3     NaN                                                 []   \n",
       "4     NaN                                      [S.E . Allen]   \n",
       "...   ...                                                ...   \n",
       "2131  NaN                      [Geo . Little, Geo . B. Ayer]   \n",
       "2132  NaN                                           [Birnie]   \n",
       "2133  NaN                                   [William Birnie]   \n",
       "2134  NaN  [A.L . Price, James Fulton, John D Conoley, Al...   \n",
       "2135  NaN  [James Fulton, Wm A. Cutler, Geo W. Pollock, F...   \n",
       "\n",
       "                                          GPE-ontonotes  \\\n",
       "0                                  [Currituck County ,]   \n",
       "1               [North Carolina, United States, States]   \n",
       "2                                                    []   \n",
       "3                       [North Carolina, United States]   \n",
       "4          [North Carolina, Wake County, United States]   \n",
       "...                                                 ...   \n",
       "2131  [Raleigh, N.C., Wake County, N.C, United State...   \n",
       "2132                                                 []   \n",
       "2133    [North Carolina, Robeson County, United States]   \n",
       "2134  [North Carolina, New Hanover County, New Hanov...   \n",
       "2135               [Wilmington N.C, New Hanover County]   \n",
       "\n",
       "                        ORG-ontonotes  \\\n",
       "0                                  []   \n",
       "1     [Department of Virginia, State]   \n",
       "2                                  []   \n",
       "3                                  []   \n",
       "4                                  []   \n",
       "...                               ...   \n",
       "2131                               []   \n",
       "2132                               []   \n",
       "2133                               []   \n",
       "2134                   [Fulton Price]   \n",
       "2135                               []   \n",
       "\n",
       "                                         Date-ontonotes  \n",
       "0                         [16 day of Sept A.D . , 1865]  \n",
       "1                                                [1864]  \n",
       "2                    [3rd day of October , A.D. , 1865]  \n",
       "3                   [______ day of ____________ , 1866]  \n",
       "4                              [31st day of May , 1867]  \n",
       "...                                                 ...  \n",
       "2131                                  [May 26, July 14]  \n",
       "2132                                   [July 30th 1867]  \n",
       "2133                                   [30 day of July]  \n",
       "2134  [May 29 1865, 15th Sept 1865, 15th September A...  \n",
       "2135  [Sept 22 . 1865, Twentyseventh day of Septembe...  \n",
       "\n",
       "[2136 rows x 5 columns]"
      ]
     },
     "execution_count": 5,
     "metadata": {},
     "output_type": "execute_result"
    }
   ],
   "source": [
    "Audf"
   ]
  },
  {
   "cell_type": "code",
   "execution_count": 6,
   "id": "fa08b449",
   "metadata": {
    "execution": {
     "iopub.execute_input": "2022-06-15T18:33:01.629410Z",
     "iopub.status.busy": "2022-06-15T18:33:01.628615Z",
     "iopub.status.idle": "2022-06-15T18:33:01.707216Z",
     "shell.execute_reply": "2022-06-15T18:33:01.705816Z"
    },
    "papermill": {
     "duration": 0.111929,
     "end_time": "2022-06-15T18:33:01.710316",
     "exception": false,
     "start_time": "2022-06-15T18:33:01.598387",
     "status": "completed"
    },
    "tags": []
   },
   "outputs": [],
   "source": [
    "G=[]\n",
    "for i in Audf[\"Date-ontonotes\"]:\n",
    "    M=[]\n",
    "    for j in i:\n",
    "        date=re.search(r'^\\d\\.*.*\\d\\d$' ,j)\n",
    "        date2=re.search(r'^[A-ZZa-z]\\.*.*\\d\\.*.*\\d\\d$' ,j)\n",
    "        M.append(date)\n",
    "        M.append(date2)\n",
    "    G.append(M)\n",
    "    \n",
    "\n",
    "GF=[]\n",
    "for i in G:\n",
    "    Final_date=[]\n",
    "    for j in i:\n",
    "        if j!=None:\n",
    "            Final_date.append(j.group())\n",
    "    GF.append(Final_date)\n",
    "\n",
    "    \n",
    "Audf[\"postDate-ontonotes\"]=GF"
   ]
  },
  {
   "cell_type": "code",
   "execution_count": 7,
   "id": "3e5f50f4",
   "metadata": {
    "execution": {
     "iopub.execute_input": "2022-06-15T18:33:01.770047Z",
     "iopub.status.busy": "2022-06-15T18:33:01.769547Z",
     "iopub.status.idle": "2022-06-15T18:33:01.927784Z",
     "shell.execute_reply": "2022-06-15T18:33:01.926573Z"
    },
    "papermill": {
     "duration": 0.19117,
     "end_time": "2022-06-15T18:33:01.930660",
     "exception": false,
     "start_time": "2022-06-15T18:33:01.739490",
     "status": "completed"
    },
    "tags": []
   },
   "outputs": [],
   "source": [
    "G=[]\n",
    "for i in Audf[\"postDate-ontonotes\"]:\n",
    "    M=[]\n",
    "    for j in i:\n",
    "        Final_date1=re.sub(r'([0-9]{1,2})\\.*.*\\s([A-Z][a-z]\\S*)\\.*.*\\s([0-9]{2,4})',r'\\1-\\2-\\3' ,j)\n",
    "        Final_date2=re.sub(r'([A-Z]\\.*.*)\\s([0-9]{1,2})\\.*.*\\s([0-9]{2,4})',r'\\2-\\1-\\3' ,j)\n",
    "        final_date3=re.sub(r'([A-Z][a-z]\\S*)\\.*.*\\s([A-Z][a-z]\\S*)\\.*.*\\s([0-9]{2,4})',r'\\1-\\2-\\3' ,j)\n",
    "        final_date4=re.sub(r'(^[A-Za-z]\\S*.*.)day\\.*.*\\s([A-Z][a-z]\\S*)\\.*.*\\s([0-9]{2,4})',r'\\1-\\2-\\3' ,j)\n",
    "        if Final_date1 != j:   \n",
    "            M.append(Final_date1)\n",
    "        if Final_date2 != j :\n",
    "            M.append(Final_date2)\n",
    "        if final_date3 != j :\n",
    "            M.append(final_date3)\n",
    "        if final_date4 != j :\n",
    "            M.append(final_date4)\n",
    "    G.append(M)\n",
    "    \n",
    "\n",
    "Audf[\"postDate-ontonotes\"]=G"
   ]
  },
  {
   "cell_type": "code",
   "execution_count": 8,
   "id": "beea94f7",
   "metadata": {
    "execution": {
     "iopub.execute_input": "2022-06-15T18:33:01.990380Z",
     "iopub.status.busy": "2022-06-15T18:33:01.989851Z",
     "iopub.status.idle": "2022-06-15T18:33:02.102563Z",
     "shell.execute_reply": "2022-06-15T18:33:02.101305Z"
    },
    "papermill": {
     "duration": 0.145868,
     "end_time": "2022-06-15T18:33:02.105301",
     "exception": false,
     "start_time": "2022-06-15T18:33:01.959433",
     "status": "completed"
    },
    "tags": []
   },
   "outputs": [],
   "source": [
    "NG=[]\n",
    "for i in G:\n",
    "    ng=[]\n",
    "    for j in i:\n",
    "        \n",
    "        date=re.findall(r'([0-9]{1,2})-([A-Z][a-z]\\S*)-([0-9]{2,4})',j)\n",
    "        if date !=[]:\n",
    "            dates=[]\n",
    "            for k in date:\n",
    "                for l in k:\n",
    "                    dates.append(l)\n",
    "                \n",
    "                \n",
    "                if dates[1] in [\"August\",\"Aug\",\"augt\",\"AUGUST\",\"Augst\",\"Augt\",\"AUG\",\"Augusta\",\"Aug.\"]:\n",
    "                    dates[1]= \"August\"\n",
    "                elif dates[1] in [\"September\",\"Sept\",\"SEP\",\"Sep\",\"Septr\",\"SEPTEMBER\",'Sepr','Septh',\"Sep.\"]:\n",
    "                    dates[1]= \"Septembre\"\n",
    "                elif dates[1] in [\"October\",\"Oct\",\"OCT\",\"OCTOBER\"]:\n",
    "                    dates[1]= \"October\"\n",
    "                elif dates[1] in [\"November\",\"NOV\",\"Nov\",\"Novmbr\",\"Nvbr\",\"Novb\",\"NOVEMBER\", \"The\",\"Dec\"]:\n",
    "                    dates[1]= \"November\"\n",
    "                elif dates[1] in [\"December\",\"Dec\",\"Decbr\",\"DEC\",\"DECEMBER\",\"Decber\"]:\n",
    "                    dates[1]= \"December\"\n",
    "                elif dates[1] in [\"January\",\"Janry\",\"Jan\",\"Jany\",\"JAN\",\"Janur\",\"JANUARY\"]:\n",
    "                    dates[1]= \"January\"\n",
    "                elif dates[1] in [\"February\",\"Feby\",\"Febry\",\"FEB\",\"FEBRUARY\",\"Feb\"]:\n",
    "                    dates[1]= \"February\"\n",
    "                elif dates[1] in [\"March\",\"Mar\"]:\n",
    "                    dates[1]= \"March\"\n",
    "                elif dates[1] in [\"April\",\"Apl\",\"Aprl\",\"APRIL\",\"Apr\"]:\n",
    "                    dates[1]= \"April\"\n",
    "                elif dates[1] in [\"May\",\"MAY\"]:\n",
    "                    dates[1]= \"May\"\n",
    "                elif dates[1] in [\"JUN\",\"Jun\",\"June\"]:\n",
    "                    dates[1]= \"June\"\n",
    "                elif dates[1] in [\"JULY\",\"July\",\"JUL\"]:\n",
    "                    dates[1]= \"July\"\n",
    "                j = dates[0]+\"-\"+dates[1]+\"-\"+dates[2]\n",
    "                ng.append(j)\n",
    "        else :\n",
    "                date = re.findall(r'(^[A-Za-z]\\S*.*.)-([A-Z][a-z]\\S*)-([0-9]{2,4})',j ) \n",
    "                dates=[]\n",
    "                for k in date:\n",
    "                    for l in k:\n",
    "                        dates.append(l)\n",
    "                \n",
    "                \n",
    "                    if dates[1] in [\"August\",\"Aug\",\"augt\",\"AUGUST\",\"Augst\",'Augt',\"AUG\",\"Augusta\",\"Aug.\"]:\n",
    "                        dates[1]= \"August\"\n",
    "                    elif dates[1] in [\"September\",\"Sept\",\"SEP\",\"Sep\",\"Septr\",\"SEPTEMBER\",\"Sepr\",\"Septh\", \"This\", \"This \",\"Sept.\",\"Sep.\"]:\n",
    "                        dates[1]= \"Septembre\"\n",
    "                    elif dates[1] in [\"October\",\"Oct\",\"OCT\",\"OCTOBER\"]:\n",
    "                        dates[1]= \"October\"\n",
    "                    elif dates[1] in [\"November\",\"NOV\",\"Nov\",\"Novmbr\",\"Nvbr\",\"Novb\",\"NOVEMBER\"]:\n",
    "                        dates[1]= \"November\"\n",
    "                    elif dates[1] in [\"December\",\"Dec\",\"Decbr\",\"DEC\",\"DECEMBER\",\"Decber\",\"Dec.\"]:\n",
    "                        dates[1]= \"December\"\n",
    "                    elif dates[1] in [\"January\",\"Janry\",\"Jan\",\"Jany\",\"JAN\",\"Janur\",\"JANUARY\"]:\n",
    "                        dates[1]= \"January\"\n",
    "                    elif dates[1] in [\"February\",\"Feby\",\"Febry\",\"FEB\",\"FEBRUARY\",\"Feb\"]:\n",
    "                        dates[1]= \"February\"\n",
    "                    elif dates[1] in [\"March\",\"Mar\"]:\n",
    "                        dates[1]= \"March\"\n",
    "                    elif dates[1] in [\"April\",\"Apl\",\"Aprl\",\"APRIL\",\"Apr\"]:\n",
    "                        dates[1]= \"April\"\n",
    "                    elif dates[1] in [\"May\",\"MAY\"]:\n",
    "                        dates[1]= \"May\"\n",
    "                    elif dates[1] in [\"JUN\",\"Jun\",\"June\"]:\n",
    "                        dates[1]= \"June\"\n",
    "                    elif dates[1] in [\"JULY\",\"July\",\"JUL\"]:\n",
    "                        dates[1]= \"July\"\n",
    "                    if dates[0]== \"fifteenth\" :\n",
    "                        dates[0]=\"15\"\n",
    "                    elif (dates[0]==\"sixteenth\") |(dates[0]==\"This 16 \"):\n",
    "                        dates[0]=\"16\"\n",
    "                    elif dates[0]==\"Twenty\":\n",
    "                        dates[0]=\"20\" \n",
    "                    elif dates[0]==\"Twentyseventh\":\n",
    "                        dates[0]=\"27\" \n",
    "                    elif (dates[0]==\"Twenty Eighth\") |(dates[0]==\"TwentyEight\") |(dates[0]==\"TwentyEight \") |(dates[0]==\"Twentyeight\"):\n",
    "                        dates[0]=\"28\"\n",
    "                    elif (dates[0]==\"Ninth\") |(dates[0]==\"Ninth \")|(dates[0]==\"Augusta 9th \") |(dates[0]==\"ninth\") |(dates[0]==\"ninth \")|(dates[0]==\"Augusta 9th\"):\n",
    "                        dates[0]=\"9\"\n",
    "                    \n",
    "                    elif dates[0]=='Seventh':\n",
    "                        dates[0]=\"7\" \n",
    "                    elif (dates[0]=='The') |(dates[0]==\"The 9th\") :\n",
    "                        dates[0]=\"9\"\n",
    "                    elif dates[0]==\"the 9\" :\n",
    "                        dates[0]=\"9\"\n",
    "                    elif (dates[0]==\"Eighth \") |(dates[0]==\"Eighth\") |(dates[0]==\"eighth\") |(dates[0]==\"eighth \"):\n",
    "                        dates[0]=\"8\"\n",
    "                    elif dates[0]==\"Seventh \":\n",
    "                        dates[0]=\"7\"\n",
    "                    elif (dates[0]==\"Twenty ninth \")| (dates[0]==\"Twenty ninth\") | (dates[0]==\"twenty ninth \")|(dates[0]==\"Twenty Ninth \")|(dates[0]==\"Twenty Ninth\") :\n",
    "                        dates[0]=\"29\"\n",
    "                    elif (dates[0]==\"Thirty\") |(dates[0]==\"Thirty \") | (dates[0]==\"thirtieth \"):\n",
    "                        dates[0]=\"30\"\n",
    "                    elif (dates[0]==\"Thirty first \") |(dates[0]==\"Thirty first\"):\n",
    "                        dates[0]=\"31\"\n",
    "                  \n",
    "                    \n",
    "                    elif dates[0]==\"first \":\n",
    "                        dates[0]=\"1\"\n",
    "                    elif (dates[0]==\"Second \") |(dates[0]==\"Second\") |(dates[0]==\"second\")|(dates[0]==\"second \"):\n",
    "                        dates[0]=\"2\"\n",
    "                    elif dates[0]==\"fourth \":\n",
    "                        dates[0]=\"4\"\n",
    "                    elif dates[0]==\"tenth \":\n",
    "                        dates[0]=\"10\"\n",
    "                    elif (dates[0]==\"Fifth \")|(dates[0]==\"Fifth\") |(dates[0]==\"fifth \")|(dates[0]==\"fifth\"):\n",
    "                        dates[0]=\"5\"\n",
    "                    elif (dates[0]==\"This\") | (dates[0]==\"This 7th \")|(dates[0]==\"seventh \") |(dates[0]==\"seventh\") |(dates[0]==\"Seventh \"):\n",
    "                        dates[0]=\"7\"\n",
    "                    elif (dates[0]==\"This 31st\") |(dates[0]==\"Thirty-first \"):\n",
    "                        dates[0]=\"31\"\n",
    "                    elif (dates[0]==\"Thirtieth\") |(dates[0]==\"Thirtieth \") |(dates[0]==\"Thirty\"):\n",
    "                        dates[0]=\"30\"\n",
    "                    elif dates[0]==\"twenty fifth \":\n",
    "                        dates[0]=\"25\"\n",
    "                    elif dates[0]==\"Twenty seventh \":\n",
    "                        dates[0]=\"27\"\n",
    "                    elif (dates[0]==\"Twenty sixth \") |(dates[0]==\"Twentysixth \")|(dates[0]==\"Twentysixth\") |(dates[0]==\"twentysixth \"):\n",
    "                        dates[0]=\"26\"\n",
    "                    elif dates[0]==\"third \":\n",
    "                        dates[0]=\"3\" \n",
    "                    elif dates[0]==\"third\":\n",
    "                        dates[0]=\"3\"\n",
    "                    elif dates[0]==\"Third \":\n",
    "                        dates[0]=\"3\"\n",
    "                    elif dates[0]==\"Third\":\n",
    "                        dates[0]=\"3\"\n",
    "                    \n",
    "                    elif dates[0]==\"Tenth\":\n",
    "                        dates[0]=\"10\" \n",
    "                    elif dates[0]==\"Augusta\":\n",
    "                        dates[0]=\"9\" \n",
    "                    elif (dates[0]==\"this_sixth \")|(dates[0]==\"sixth \")| (dates[0]==\"Sixth\") | (dates[0]==\"Sixth \") |(dates[0]==\"this sixth \"):\n",
    "                        dates[0]=\"6\" \n",
    "                        \n",
    "                    elif dates[0]==\"Tenth \":\n",
    "                        dates[0]=\"10\"\n",
    "                    elif (dates[0]==\"twentieth\")|(dates[0]==\"This 20th \"):\n",
    "                        dates[0]=\"20\"\n",
    "                    elif (dates[0]==\"twenty fourth \") |(dates[0]==\"twenty fourth\") |(dates[0]==\"Twenty fourth \") |(dates[0]==\"Twenty fourth\"):\n",
    "                        dates[0]=\"24\"\n",
    "                    elif (dates[0]==\"fifteenth \") |(dates[0]==\"Fifteenth \") |(dates[0]==\"Fifteenth\"):\n",
    "                        dates[0]=\"15\"\n",
    "                    elif dates[0]==\"twentieth \":\n",
    "                        dates[0]=\"20\"\n",
    "                    elif dates[0]==\"Eighteenth \":\n",
    "                        dates[0]=\"18\"\n",
    "                    elif dates[0]==\"Eighteenth\":\n",
    "                        dates[0]=\"18\"\n",
    "                    elif (dates[0]==\"Nineteenth \") |(dates[0]==\"Nineteenth\"):\n",
    "                        dates[0]=\"19\"\n",
    "                    elif dates[0]==\"First \":\n",
    "                        dates[0]=\"1\"\n",
    "                    elif dates[0]==\"First\":\n",
    "                        dates[0]=\"1\"\n",
    "                    elif (dates[0]==\"Sixteenth \")|(dates[0]==\"this 16\") |(dates[0]==\"Sixteenth\"):\n",
    "                        dates[0]=\"16\"\n",
    "                   \n",
    "                    elif dates[0]==\"twenty third \":\n",
    "                        dates[0]=\"23\"\n",
    "                    elif dates[0]==\"twenty third\":\n",
    "                        dates[0]=\"23\"\n",
    "                    elif dates[0]==\"Twenty third \":\n",
    "                        dates[0]=\"23\"\n",
    "                    elif dates[0]==\"Twenty Second \":\n",
    "                        dates[0]=\"22\"\n",
    "                    elif dates[0]==\"Twenty Second\":\n",
    "                        dates[0]=\"22\"\n",
    "                    elif dates[0]==\"Twenty Eighth \":\n",
    "                        dates[0]=\"28\"\n",
    "                    elif dates[0]==\"Twentysenventh \":\n",
    "                        dates[0]=\"27\"\n",
    "                    elif dates[0]==\"twenty third \":\n",
    "                        dates[0]=\"23\"\n",
    "                    elif (dates[0]==\"twenty third\") |(dates[0]==\"Twentythird\")|(dates[0]==\"Twentythird \"):\n",
    "                        dates[0]=\"23\"\n",
    "                    elif (dates[0]==\"fourteenth \") | (dates[0]==\"fourteenth\") | (dates[0]==\"Fourteenth\") | (dates[0]==\"Fourteenth \"):\n",
    "                        dates[0]=\"14\"\n",
    "                    elif (dates[0]==\"Eleventh \") | (dates[0]==\"Eleventh\") |(dates[0]==\"eleventh \") :\n",
    "                        dates[0]=\"11\"\n",
    "                    elif (dates[0]==\"Thirteenth\") | (dates[0]==\"Thirteenth \") :\n",
    "                        dates[0]=\"13\"\n",
    "                    elif (dates[0]==\"seventeenth \") |(dates[0]==\"seventeenth\") |(dates[0]==\"Seventeenth \") :\n",
    "                        dates[0]=\"17\"\n",
    "                     \n",
    "                     \n",
    "                     \n",
    "                    \n",
    "                        \n",
    "                    j = dates[0]+\"-\"+dates[1]+\"-\"+dates[2]\n",
    "                    ng.append(j)\n",
    "            \n",
    "            \n",
    "    NG.append(ng)   "
   ]
  },
  {
   "cell_type": "markdown",
   "id": "875f1a3b",
   "metadata": {
    "papermill": {
     "duration": 0.028358,
     "end_time": "2022-06-15T18:33:02.167344",
     "exception": false,
     "start_time": "2022-06-15T18:33:02.138986",
     "status": "completed"
    },
    "tags": []
   },
   "source": [
    "**removing duplicated dates**"
   ]
  },
  {
   "cell_type": "code",
   "execution_count": 9,
   "id": "ad319443",
   "metadata": {
    "execution": {
     "iopub.execute_input": "2022-06-15T18:33:02.227178Z",
     "iopub.status.busy": "2022-06-15T18:33:02.226637Z",
     "iopub.status.idle": "2022-06-15T18:33:02.237155Z",
     "shell.execute_reply": "2022-06-15T18:33:02.236301Z"
    },
    "papermill": {
     "duration": 0.043454,
     "end_time": "2022-06-15T18:33:02.239526",
     "exception": false,
     "start_time": "2022-06-15T18:33:02.196072",
     "status": "completed"
    },
    "tags": []
   },
   "outputs": [],
   "source": [
    "def uniqueDate(ite):\n",
    "    seen = set()\n",
    "    result = []\n",
    "    for item in ite:\n",
    "        if item not in seen:\n",
    "            seen.add(item)\n",
    "            result.append(item)\n",
    "    return result\n",
    "Nd=[]\n",
    "for i in NG:\n",
    "    i=uniqueDate(i)\n",
    "    Nd.append(i)"
   ]
  },
  {
   "cell_type": "markdown",
   "id": "a721ce36",
   "metadata": {
    "papermill": {
     "duration": 0.02794,
     "end_time": "2022-06-15T18:33:02.296480",
     "exception": false,
     "start_time": "2022-06-15T18:33:02.268540",
     "status": "completed"
    },
    "tags": []
   },
   "source": [
    "**removing the date of the issue of low**"
   ]
  },
  {
   "cell_type": "code",
   "execution_count": 10,
   "id": "d11f7a20",
   "metadata": {
    "execution": {
     "iopub.execute_input": "2022-06-15T18:33:02.355384Z",
     "iopub.status.busy": "2022-06-15T18:33:02.354334Z",
     "iopub.status.idle": "2022-06-15T18:33:02.360849Z",
     "shell.execute_reply": "2022-06-15T18:33:02.359831Z"
    },
    "papermill": {
     "duration": 0.038832,
     "end_time": "2022-06-15T18:33:02.363485",
     "exception": false,
     "start_time": "2022-06-15T18:33:02.324653",
     "status": "completed"
    },
    "tags": []
   },
   "outputs": [],
   "source": [
    "for i in Nd:\n",
    "    for j in i:\n",
    "        if j==\"29-May-1865\":\n",
    "            i.remove(j)"
   ]
  },
  {
   "cell_type": "markdown",
   "id": "d3d7c742",
   "metadata": {
    "papermill": {
     "duration": 0.028193,
     "end_time": "2022-06-15T18:33:02.419968",
     "exception": false,
     "start_time": "2022-06-15T18:33:02.391775",
     "status": "completed"
    },
    "tags": []
   },
   "source": [
    "1. if there is 2 dates : the first one almost is the right one \n",
    "1. if there is more than  2 dates the second one almost the right one"
   ]
  },
  {
   "cell_type": "code",
   "execution_count": 11,
   "id": "eb0e8721",
   "metadata": {
    "execution": {
     "iopub.execute_input": "2022-06-15T18:33:02.478045Z",
     "iopub.status.busy": "2022-06-15T18:33:02.477542Z",
     "iopub.status.idle": "2022-06-15T18:33:02.486178Z",
     "shell.execute_reply": "2022-06-15T18:33:02.484957Z"
    },
    "papermill": {
     "duration": 0.040254,
     "end_time": "2022-06-15T18:33:02.488324",
     "exception": false,
     "start_time": "2022-06-15T18:33:02.448070",
     "status": "completed"
    },
    "tags": []
   },
   "outputs": [],
   "source": [
    "for i in range(len(Nd)):\n",
    "    if len(Nd[i])==2:\n",
    "        Nd[i].remove(Nd[i][1])\n",
    "    elif (len(Nd[i])>2):\n",
    "        v=Nd[i][1]\n",
    "        del(Nd[i][0:])\n",
    "        Nd[i]=[v]"
   ]
  },
  {
   "cell_type": "code",
   "execution_count": 12,
   "id": "5d63d7b3",
   "metadata": {
    "execution": {
     "iopub.execute_input": "2022-06-15T18:33:02.547850Z",
     "iopub.status.busy": "2022-06-15T18:33:02.547399Z",
     "iopub.status.idle": "2022-06-15T18:33:02.554439Z",
     "shell.execute_reply": "2022-06-15T18:33:02.553316Z"
    },
    "papermill": {
     "duration": 0.040388,
     "end_time": "2022-06-15T18:33:02.556654",
     "exception": false,
     "start_time": "2022-06-15T18:33:02.516266",
     "status": "completed"
    },
    "tags": []
   },
   "outputs": [],
   "source": [
    "Audf[\"Dates\"]=Nd"
   ]
  },
  {
   "cell_type": "code",
   "execution_count": 13,
   "id": "fdcee0ad",
   "metadata": {
    "execution": {
     "iopub.execute_input": "2022-06-15T18:33:02.614973Z",
     "iopub.status.busy": "2022-06-15T18:33:02.614223Z",
     "iopub.status.idle": "2022-06-15T18:33:02.639308Z",
     "shell.execute_reply": "2022-06-15T18:33:02.638328Z"
    },
    "papermill": {
     "duration": 0.057071,
     "end_time": "2022-06-15T18:33:02.641705",
     "exception": false,
     "start_time": "2022-06-15T18:33:02.584634",
     "status": "completed"
    },
    "tags": []
   },
   "outputs": [
    {
     "data": {
      "text/html": [
       "<div>\n",
       "<style scoped>\n",
       "    .dataframe tbody tr th:only-of-type {\n",
       "        vertical-align: middle;\n",
       "    }\n",
       "\n",
       "    .dataframe tbody tr th {\n",
       "        vertical-align: top;\n",
       "    }\n",
       "\n",
       "    .dataframe thead th {\n",
       "        text-align: right;\n",
       "    }\n",
       "</style>\n",
       "<table border=\"1\" class=\"dataframe\">\n",
       "  <thead>\n",
       "    <tr style=\"text-align: right;\">\n",
       "      <th></th>\n",
       "      <th>text</th>\n",
       "      <th>PERSON-ontonotes</th>\n",
       "      <th>GPE-ontonotes</th>\n",
       "      <th>ORG-ontonotes</th>\n",
       "      <th>Date-ontonotes</th>\n",
       "      <th>postDate-ontonotes</th>\n",
       "      <th>Dates</th>\n",
       "    </tr>\n",
       "  </thead>\n",
       "  <tbody>\n",
       "    <tr>\n",
       "      <th>0</th>\n",
       "      <td>NaN</td>\n",
       "      <td>[I C Meekins, Isaac C. Meekins, E H Walker, Jo...</td>\n",
       "      <td>[Currituck County ,]</td>\n",
       "      <td>[]</td>\n",
       "      <td>[16 day of Sept A.D . , 1865]</td>\n",
       "      <td>[16-Sept-1865]</td>\n",
       "      <td>[16-Septembre-1865]</td>\n",
       "    </tr>\n",
       "    <tr>\n",
       "      <th>1</th>\n",
       "      <td>NaN</td>\n",
       "      <td>[]</td>\n",
       "      <td>[North Carolina, United States, States]</td>\n",
       "      <td>[Department of Virginia, State]</td>\n",
       "      <td>[1864]</td>\n",
       "      <td>[]</td>\n",
       "      <td>[]</td>\n",
       "    </tr>\n",
       "    <tr>\n",
       "      <th>2</th>\n",
       "      <td>NaN</td>\n",
       "      <td>[W. H. Pearce, W . H. Pearce]</td>\n",
       "      <td>[]</td>\n",
       "      <td>[]</td>\n",
       "      <td>[3rd day of October , A.D. , 1865]</td>\n",
       "      <td>[3-October-1865]</td>\n",
       "      <td>[3-October-1865]</td>\n",
       "    </tr>\n",
       "    <tr>\n",
       "      <th>3</th>\n",
       "      <td>NaN</td>\n",
       "      <td>[]</td>\n",
       "      <td>[North Carolina, United States]</td>\n",
       "      <td>[]</td>\n",
       "      <td>[______ day of ____________ , 1866]</td>\n",
       "      <td>[]</td>\n",
       "      <td>[]</td>\n",
       "    </tr>\n",
       "    <tr>\n",
       "      <th>4</th>\n",
       "      <td>NaN</td>\n",
       "      <td>[S.E . Allen]</td>\n",
       "      <td>[North Carolina, Wake County, United States]</td>\n",
       "      <td>[]</td>\n",
       "      <td>[31st day of May , 1867]</td>\n",
       "      <td>[31-May-1867]</td>\n",
       "      <td>[31-May-1867]</td>\n",
       "    </tr>\n",
       "  </tbody>\n",
       "</table>\n",
       "</div>"
      ],
      "text/plain": [
       "  text                                   PERSON-ontonotes  \\\n",
       "0  NaN  [I C Meekins, Isaac C. Meekins, E H Walker, Jo...   \n",
       "1  NaN                                                 []   \n",
       "2  NaN                      [W. H. Pearce, W . H. Pearce]   \n",
       "3  NaN                                                 []   \n",
       "4  NaN                                      [S.E . Allen]   \n",
       "\n",
       "                                  GPE-ontonotes  \\\n",
       "0                          [Currituck County ,]   \n",
       "1       [North Carolina, United States, States]   \n",
       "2                                            []   \n",
       "3               [North Carolina, United States]   \n",
       "4  [North Carolina, Wake County, United States]   \n",
       "\n",
       "                     ORG-ontonotes                       Date-ontonotes  \\\n",
       "0                               []        [16 day of Sept A.D . , 1865]   \n",
       "1  [Department of Virginia, State]                               [1864]   \n",
       "2                               []   [3rd day of October , A.D. , 1865]   \n",
       "3                               []  [______ day of ____________ , 1866]   \n",
       "4                               []             [31st day of May , 1867]   \n",
       "\n",
       "  postDate-ontonotes                Dates  \n",
       "0     [16-Sept-1865]  [16-Septembre-1865]  \n",
       "1                 []                   []  \n",
       "2   [3-October-1865]     [3-October-1865]  \n",
       "3                 []                   []  \n",
       "4      [31-May-1867]        [31-May-1867]  "
      ]
     },
     "execution_count": 13,
     "metadata": {},
     "output_type": "execute_result"
    }
   ],
   "source": [
    "Audf.head()"
   ]
  },
  {
   "cell_type": "code",
   "execution_count": 14,
   "id": "937733d9",
   "metadata": {
    "execution": {
     "iopub.execute_input": "2022-06-15T18:33:02.702077Z",
     "iopub.status.busy": "2022-06-15T18:33:02.701093Z",
     "iopub.status.idle": "2022-06-15T18:33:02.706826Z",
     "shell.execute_reply": "2022-06-15T18:33:02.706007Z"
    },
    "papermill": {
     "duration": 0.038155,
     "end_time": "2022-06-15T18:33:02.709101",
     "exception": false,
     "start_time": "2022-06-15T18:33:02.670946",
     "status": "completed"
    },
    "tags": []
   },
   "outputs": [],
   "source": [
    "Audf[\"text\"]=range(2136)"
   ]
  },
  {
   "cell_type": "markdown",
   "id": "da458934",
   "metadata": {
    "papermill": {
     "duration": 0.028163,
     "end_time": "2022-06-15T18:33:02.765663",
     "exception": false,
     "start_time": "2022-06-15T18:33:02.737500",
     "status": "completed"
    },
    "tags": []
   },
   "source": [
    "# dflarge"
   ]
  },
  {
   "cell_type": "code",
   "execution_count": 15,
   "id": "99c2ecba",
   "metadata": {
    "execution": {
     "iopub.execute_input": "2022-06-15T18:33:02.825709Z",
     "iopub.status.busy": "2022-06-15T18:33:02.824598Z",
     "iopub.status.idle": "2022-06-15T18:33:09.124253Z",
     "shell.execute_reply": "2022-06-15T18:33:09.123150Z"
    },
    "papermill": {
     "duration": 6.332051,
     "end_time": "2022-06-15T18:33:09.126947",
     "exception": false,
     "start_time": "2022-06-15T18:33:02.794896",
     "status": "completed"
    },
    "tags": []
   },
   "outputs": [],
   "source": [
    "with open('../input/entities/entityL.pkl', 'rb') as f:\n",
    "    entitiesL= pickle.load(f)"
   ]
  },
  {
   "cell_type": "code",
   "execution_count": 16,
   "id": "54ab3932",
   "metadata": {
    "execution": {
     "iopub.execute_input": "2022-06-15T18:33:09.191305Z",
     "iopub.status.busy": "2022-06-15T18:33:09.190464Z",
     "iopub.status.idle": "2022-06-15T18:33:09.197633Z",
     "shell.execute_reply": "2022-06-15T18:33:09.196428Z"
    },
    "papermill": {
     "duration": 0.042274,
     "end_time": "2022-06-15T18:33:09.200421",
     "exception": false,
     "start_time": "2022-06-15T18:33:09.158147",
     "status": "completed"
    },
    "tags": []
   },
   "outputs": [
    {
     "data": {
      "text/plain": [
       "2136"
      ]
     },
     "execution_count": 16,
     "metadata": {},
     "output_type": "execute_result"
    }
   ],
   "source": [
    "len(entitiesL)"
   ]
  },
  {
   "cell_type": "code",
   "execution_count": 17,
   "id": "6c62ebaa",
   "metadata": {
    "execution": {
     "iopub.execute_input": "2022-06-15T18:33:09.262273Z",
     "iopub.status.busy": "2022-06-15T18:33:09.261302Z",
     "iopub.status.idle": "2022-06-15T18:33:10.001861Z",
     "shell.execute_reply": "2022-06-15T18:33:10.000608Z"
    },
    "papermill": {
     "duration": 0.774272,
     "end_time": "2022-06-15T18:33:10.004676",
     "exception": false,
     "start_time": "2022-06-15T18:33:09.230404",
     "status": "completed"
    },
    "tags": []
   },
   "outputs": [],
   "source": [
    "Per=[]\n",
    "ORG=[]\n",
    "LOC=[]\n",
    "from flair.data import Sentence\n",
    "\n",
    "dflarge=pd.DataFrame({\"text\":\"\", \"PERSON-nerenglarge\":[], \"LOC-nerenglarge\":\"\",\"ORG-nerenglarge\":\"\"})\n",
    "for i in entitiesL:\n",
    "    dc={}\n",
    "    P=[]\n",
    "    L=[]\n",
    "    G=[]\n",
    "    O=[]\n",
    "    for entity in i :\n",
    "\n",
    "                     \n",
    "                     if (entity.get_label(\"ner\").score > 0.90) & (entity.get_label(\"ner\").value != \"CARDINAL\") & (entity.get_label(\"ner\").value != \"LAW\")& (entity.get_label(\"ner\").value != \"QUANTITY\") & (entity.get_label(\"ner\").value != \"WORK_OF_ART\") & (entity.get_label(\"ner\").value != \"LAW\")& (entity.get_label(\"ner\").value != \"QUANTITY\") & (entity.get_label(\"ner\").value != \"EVENT\")  :\n",
    "                        dc[entity.text]= entity.get_label(\"ner\").value \n",
    "                       \n",
    "        \n",
    "      \n",
    "    for j in dc :\n",
    "                if dc[j]==\"PER\":\n",
    "                      P.append(j)\n",
    "                elif (dc[j]==\"ORG\") | (dc[j]==\"MISC\") :\n",
    "                      O.append(j)\n",
    "                elif dc[j]==\"LOC\":\n",
    "                      L.append(j)\n",
    "               \n",
    "    Per.append(P)\n",
    "    ORG.append(O)\n",
    "    LOC.append(L)\n",
    "            \n",
    "\n",
    "dflarge[\"PERSON-nerenglarge\"]=Per\n",
    "dflarge[\"LOC-nerenglarge\"]=LOC\n",
    "dflarge[\"ORG-nerenglarge\"]=ORG   "
   ]
  },
  {
   "cell_type": "code",
   "execution_count": 18,
   "id": "197fa1b6",
   "metadata": {
    "execution": {
     "iopub.execute_input": "2022-06-15T18:33:10.070881Z",
     "iopub.status.busy": "2022-06-15T18:33:10.069528Z",
     "iopub.status.idle": "2022-06-15T18:33:10.088506Z",
     "shell.execute_reply": "2022-06-15T18:33:10.087652Z"
    },
    "papermill": {
     "duration": 0.055364,
     "end_time": "2022-06-15T18:33:10.091285",
     "exception": false,
     "start_time": "2022-06-15T18:33:10.035921",
     "status": "completed"
    },
    "tags": []
   },
   "outputs": [
    {
     "data": {
      "text/html": [
       "<div>\n",
       "<style scoped>\n",
       "    .dataframe tbody tr th:only-of-type {\n",
       "        vertical-align: middle;\n",
       "    }\n",
       "\n",
       "    .dataframe tbody tr th {\n",
       "        vertical-align: top;\n",
       "    }\n",
       "\n",
       "    .dataframe thead th {\n",
       "        text-align: right;\n",
       "    }\n",
       "</style>\n",
       "<table border=\"1\" class=\"dataframe\">\n",
       "  <thead>\n",
       "    <tr style=\"text-align: right;\">\n",
       "      <th></th>\n",
       "      <th>text</th>\n",
       "      <th>PERSON-nerenglarge</th>\n",
       "      <th>LOC-nerenglarge</th>\n",
       "      <th>ORG-nerenglarge</th>\n",
       "    </tr>\n",
       "  </thead>\n",
       "  <tbody>\n",
       "    <tr>\n",
       "      <th>0</th>\n",
       "      <td>NaN</td>\n",
       "      <td>[I C Meekins, Almighty, God, Isaac C. Meekins,...</td>\n",
       "      <td>[Currituck County, State of North Carolina, Un...</td>\n",
       "      <td>[Constitution]</td>\n",
       "    </tr>\n",
       "    <tr>\n",
       "      <th>1</th>\n",
       "      <td>NaN</td>\n",
       "      <td>[]</td>\n",
       "      <td>[North Carolina, United States, States]</td>\n",
       "      <td>[Department of Virginia, OATH PAROLE]</td>\n",
       "    </tr>\n",
       "    <tr>\n",
       "      <th>2</th>\n",
       "      <td>NaN</td>\n",
       "      <td>[W. H. Pearce, Almighty, God, E. Ampetts, W . ...</td>\n",
       "      <td>[Craven County, State of NorthCarolina, United...</td>\n",
       "      <td>[Constitution]</td>\n",
       "    </tr>\n",
       "    <tr>\n",
       "      <th>3</th>\n",
       "      <td>NaN</td>\n",
       "      <td>[God]</td>\n",
       "      <td>[State of, North Carolina, United States]</td>\n",
       "      <td>[Constitution]</td>\n",
       "    </tr>\n",
       "    <tr>\n",
       "      <th>4</th>\n",
       "      <td>NaN</td>\n",
       "      <td>[S.E, God, T.D, McAlpine]</td>\n",
       "      <td>[State of, North Carolina, Wake County, United...</td>\n",
       "      <td>[Constitution, Res . Corp]</td>\n",
       "    </tr>\n",
       "  </tbody>\n",
       "</table>\n",
       "</div>"
      ],
      "text/plain": [
       "  text                                 PERSON-nerenglarge  \\\n",
       "0  NaN  [I C Meekins, Almighty, God, Isaac C. Meekins,...   \n",
       "1  NaN                                                 []   \n",
       "2  NaN  [W. H. Pearce, Almighty, God, E. Ampetts, W . ...   \n",
       "3  NaN                                              [God]   \n",
       "4  NaN                          [S.E, God, T.D, McAlpine]   \n",
       "\n",
       "                                     LOC-nerenglarge  \\\n",
       "0  [Currituck County, State of North Carolina, Un...   \n",
       "1            [North Carolina, United States, States]   \n",
       "2  [Craven County, State of NorthCarolina, United...   \n",
       "3          [State of, North Carolina, United States]   \n",
       "4  [State of, North Carolina, Wake County, United...   \n",
       "\n",
       "                         ORG-nerenglarge  \n",
       "0                         [Constitution]  \n",
       "1  [Department of Virginia, OATH PAROLE]  \n",
       "2                         [Constitution]  \n",
       "3                         [Constitution]  \n",
       "4             [Constitution, Res . Corp]  "
      ]
     },
     "execution_count": 18,
     "metadata": {},
     "output_type": "execute_result"
    }
   ],
   "source": [
    "dflarge.head()"
   ]
  },
  {
   "cell_type": "markdown",
   "id": "7244341c",
   "metadata": {
    "papermill": {
     "duration": 0.031688,
     "end_time": "2022-06-15T18:33:10.153787",
     "exception": false,
     "start_time": "2022-06-15T18:33:10.122099",
     "status": "completed"
    },
    "tags": []
   },
   "source": [
    "# final df"
   ]
  },
  {
   "cell_type": "code",
   "execution_count": 19,
   "id": "295c4333",
   "metadata": {
    "execution": {
     "iopub.execute_input": "2022-06-15T18:33:10.219041Z",
     "iopub.status.busy": "2022-06-15T18:33:10.218012Z",
     "iopub.status.idle": "2022-06-15T18:33:10.226433Z",
     "shell.execute_reply": "2022-06-15T18:33:10.225516Z"
    },
    "papermill": {
     "duration": 0.044116,
     "end_time": "2022-06-15T18:33:10.229154",
     "exception": false,
     "start_time": "2022-06-15T18:33:10.185038",
     "status": "completed"
    },
    "tags": []
   },
   "outputs": [],
   "source": [
    "Audf[\"Person-NerEngLarge\"]=dflarge[\"PERSON-nerenglarge\"]\n",
    "Audf[\"LOC-NerEngLarge\"]=dflarge[\"LOC-nerenglarge\"]\n",
    "Audf[\"ORG-NerEngLarge\"]=dflarge[\"ORG-nerenglarge\"]"
   ]
  },
  {
   "cell_type": "code",
   "execution_count": 20,
   "id": "89dcb78f",
   "metadata": {
    "execution": {
     "iopub.execute_input": "2022-06-15T18:33:10.292729Z",
     "iopub.status.busy": "2022-06-15T18:33:10.291904Z",
     "iopub.status.idle": "2022-06-15T18:33:10.333395Z",
     "shell.execute_reply": "2022-06-15T18:33:10.331559Z"
    },
    "papermill": {
     "duration": 0.077293,
     "end_time": "2022-06-15T18:33:10.336266",
     "exception": false,
     "start_time": "2022-06-15T18:33:10.258973",
     "status": "completed"
    },
    "tags": []
   },
   "outputs": [
    {
     "data": {
      "text/html": [
       "<div>\n",
       "<style scoped>\n",
       "    .dataframe tbody tr th:only-of-type {\n",
       "        vertical-align: middle;\n",
       "    }\n",
       "\n",
       "    .dataframe tbody tr th {\n",
       "        vertical-align: top;\n",
       "    }\n",
       "\n",
       "    .dataframe thead th {\n",
       "        text-align: right;\n",
       "    }\n",
       "</style>\n",
       "<table border=\"1\" class=\"dataframe\">\n",
       "  <thead>\n",
       "    <tr style=\"text-align: right;\">\n",
       "      <th></th>\n",
       "      <th>text</th>\n",
       "      <th>PERSON-ontonotes</th>\n",
       "      <th>GPE-ontonotes</th>\n",
       "      <th>ORG-ontonotes</th>\n",
       "      <th>Date-ontonotes</th>\n",
       "      <th>postDate-ontonotes</th>\n",
       "      <th>Dates</th>\n",
       "      <th>Person-NerEngLarge</th>\n",
       "      <th>LOC-NerEngLarge</th>\n",
       "      <th>ORG-NerEngLarge</th>\n",
       "    </tr>\n",
       "  </thead>\n",
       "  <tbody>\n",
       "    <tr>\n",
       "      <th>0</th>\n",
       "      <td>0</td>\n",
       "      <td>[I C Meekins, Isaac C. Meekins, E H Walker, Jo...</td>\n",
       "      <td>[Currituck County ,]</td>\n",
       "      <td>[]</td>\n",
       "      <td>[16 day of Sept A.D . , 1865]</td>\n",
       "      <td>[16-Sept-1865]</td>\n",
       "      <td>[16-Septembre-1865]</td>\n",
       "      <td>[I C Meekins, Almighty, God, Isaac C. Meekins,...</td>\n",
       "      <td>[Currituck County, State of North Carolina, Un...</td>\n",
       "      <td>[Constitution]</td>\n",
       "    </tr>\n",
       "    <tr>\n",
       "      <th>1</th>\n",
       "      <td>1</td>\n",
       "      <td>[]</td>\n",
       "      <td>[North Carolina, United States, States]</td>\n",
       "      <td>[Department of Virginia, State]</td>\n",
       "      <td>[1864]</td>\n",
       "      <td>[]</td>\n",
       "      <td>[]</td>\n",
       "      <td>[]</td>\n",
       "      <td>[North Carolina, United States, States]</td>\n",
       "      <td>[Department of Virginia, OATH PAROLE]</td>\n",
       "    </tr>\n",
       "    <tr>\n",
       "      <th>2</th>\n",
       "      <td>2</td>\n",
       "      <td>[W. H. Pearce, W . H. Pearce]</td>\n",
       "      <td>[]</td>\n",
       "      <td>[]</td>\n",
       "      <td>[3rd day of October , A.D. , 1865]</td>\n",
       "      <td>[3-October-1865]</td>\n",
       "      <td>[3-October-1865]</td>\n",
       "      <td>[W. H. Pearce, Almighty, God, E. Ampetts, W . ...</td>\n",
       "      <td>[Craven County, State of NorthCarolina, United...</td>\n",
       "      <td>[Constitution]</td>\n",
       "    </tr>\n",
       "    <tr>\n",
       "      <th>3</th>\n",
       "      <td>3</td>\n",
       "      <td>[]</td>\n",
       "      <td>[North Carolina, United States]</td>\n",
       "      <td>[]</td>\n",
       "      <td>[______ day of ____________ , 1866]</td>\n",
       "      <td>[]</td>\n",
       "      <td>[]</td>\n",
       "      <td>[God]</td>\n",
       "      <td>[State of, North Carolina, United States]</td>\n",
       "      <td>[Constitution]</td>\n",
       "    </tr>\n",
       "    <tr>\n",
       "      <th>4</th>\n",
       "      <td>4</td>\n",
       "      <td>[S.E . Allen]</td>\n",
       "      <td>[North Carolina, Wake County, United States]</td>\n",
       "      <td>[]</td>\n",
       "      <td>[31st day of May , 1867]</td>\n",
       "      <td>[31-May-1867]</td>\n",
       "      <td>[31-May-1867]</td>\n",
       "      <td>[S.E, God, T.D, McAlpine]</td>\n",
       "      <td>[State of, North Carolina, Wake County, United...</td>\n",
       "      <td>[Constitution, Res . Corp]</td>\n",
       "    </tr>\n",
       "  </tbody>\n",
       "</table>\n",
       "</div>"
      ],
      "text/plain": [
       "   text                                   PERSON-ontonotes  \\\n",
       "0     0  [I C Meekins, Isaac C. Meekins, E H Walker, Jo...   \n",
       "1     1                                                 []   \n",
       "2     2                      [W. H. Pearce, W . H. Pearce]   \n",
       "3     3                                                 []   \n",
       "4     4                                      [S.E . Allen]   \n",
       "\n",
       "                                  GPE-ontonotes  \\\n",
       "0                          [Currituck County ,]   \n",
       "1       [North Carolina, United States, States]   \n",
       "2                                            []   \n",
       "3               [North Carolina, United States]   \n",
       "4  [North Carolina, Wake County, United States]   \n",
       "\n",
       "                     ORG-ontonotes                       Date-ontonotes  \\\n",
       "0                               []        [16 day of Sept A.D . , 1865]   \n",
       "1  [Department of Virginia, State]                               [1864]   \n",
       "2                               []   [3rd day of October , A.D. , 1865]   \n",
       "3                               []  [______ day of ____________ , 1866]   \n",
       "4                               []             [31st day of May , 1867]   \n",
       "\n",
       "  postDate-ontonotes                Dates  \\\n",
       "0     [16-Sept-1865]  [16-Septembre-1865]   \n",
       "1                 []                   []   \n",
       "2   [3-October-1865]     [3-October-1865]   \n",
       "3                 []                   []   \n",
       "4      [31-May-1867]        [31-May-1867]   \n",
       "\n",
       "                                  Person-NerEngLarge  \\\n",
       "0  [I C Meekins, Almighty, God, Isaac C. Meekins,...   \n",
       "1                                                 []   \n",
       "2  [W. H. Pearce, Almighty, God, E. Ampetts, W . ...   \n",
       "3                                              [God]   \n",
       "4                          [S.E, God, T.D, McAlpine]   \n",
       "\n",
       "                                     LOC-NerEngLarge  \\\n",
       "0  [Currituck County, State of North Carolina, Un...   \n",
       "1            [North Carolina, United States, States]   \n",
       "2  [Craven County, State of NorthCarolina, United...   \n",
       "3          [State of, North Carolina, United States]   \n",
       "4  [State of, North Carolina, Wake County, United...   \n",
       "\n",
       "                         ORG-NerEngLarge  \n",
       "0                         [Constitution]  \n",
       "1  [Department of Virginia, OATH PAROLE]  \n",
       "2                         [Constitution]  \n",
       "3                         [Constitution]  \n",
       "4             [Constitution, Res . Corp]  "
      ]
     },
     "execution_count": 20,
     "metadata": {},
     "output_type": "execute_result"
    }
   ],
   "source": [
    "Audf.head()"
   ]
  },
  {
   "cell_type": "code",
   "execution_count": 21,
   "id": "2400eba0",
   "metadata": {
    "execution": {
     "iopub.execute_input": "2022-06-15T18:33:10.398066Z",
     "iopub.status.busy": "2022-06-15T18:33:10.397522Z",
     "iopub.status.idle": "2022-06-15T18:33:10.404924Z",
     "shell.execute_reply": "2022-06-15T18:33:10.404106Z"
    },
    "papermill": {
     "duration": 0.041364,
     "end_time": "2022-06-15T18:33:10.407585",
     "exception": false,
     "start_time": "2022-06-15T18:33:10.366221",
     "status": "completed"
    },
    "tags": []
   },
   "outputs": [
    {
     "data": {
      "text/plain": [
       "'/kaggle/working'"
      ]
     },
     "execution_count": 21,
     "metadata": {},
     "output_type": "execute_result"
    }
   ],
   "source": [
    "import os \n",
    "os.getcwd()"
   ]
  },
  {
   "cell_type": "code",
   "execution_count": 22,
   "id": "b3d5e374",
   "metadata": {
    "execution": {
     "iopub.execute_input": "2022-06-15T18:33:10.469573Z",
     "iopub.status.busy": "2022-06-15T18:33:10.469050Z",
     "iopub.status.idle": "2022-06-15T18:33:10.502512Z",
     "shell.execute_reply": "2022-06-15T18:33:10.501266Z"
    },
    "papermill": {
     "duration": 0.067791,
     "end_time": "2022-06-15T18:33:10.505342",
     "exception": false,
     "start_time": "2022-06-15T18:33:10.437551",
     "status": "completed"
    },
    "tags": []
   },
   "outputs": [],
   "source": [
    "Audf.to_pickle(\"data.pkl\")"
   ]
  },
  {
   "cell_type": "code",
   "execution_count": 23,
   "id": "4e7677e4",
   "metadata": {
    "execution": {
     "iopub.execute_input": "2022-06-15T18:33:10.569464Z",
     "iopub.status.busy": "2022-06-15T18:33:10.568918Z",
     "iopub.status.idle": "2022-06-15T18:33:10.624386Z",
     "shell.execute_reply": "2022-06-15T18:33:10.623167Z"
    },
    "papermill": {
     "duration": 0.090935,
     "end_time": "2022-06-15T18:33:10.627133",
     "exception": false,
     "start_time": "2022-06-15T18:33:10.536198",
     "status": "completed"
    },
    "tags": []
   },
   "outputs": [],
   "source": [
    "with open('../input/audfff/data.pkl', 'rb') as f:\n",
    "    data= pickle.load(f)"
   ]
  },
  {
   "cell_type": "code",
   "execution_count": 24,
   "id": "1a255c3f",
   "metadata": {
    "execution": {
     "iopub.execute_input": "2022-06-15T18:33:10.693229Z",
     "iopub.status.busy": "2022-06-15T18:33:10.692688Z",
     "iopub.status.idle": "2022-06-15T18:33:10.755798Z",
     "shell.execute_reply": "2022-06-15T18:33:10.754415Z"
    },
    "papermill": {
     "duration": 0.100191,
     "end_time": "2022-06-15T18:33:10.758677",
     "exception": false,
     "start_time": "2022-06-15T18:33:10.658486",
     "status": "completed"
    },
    "tags": []
   },
   "outputs": [
    {
     "data": {
      "text/html": [
       "<div>\n",
       "<style scoped>\n",
       "    .dataframe tbody tr th:only-of-type {\n",
       "        vertical-align: middle;\n",
       "    }\n",
       "\n",
       "    .dataframe tbody tr th {\n",
       "        vertical-align: top;\n",
       "    }\n",
       "\n",
       "    .dataframe thead th {\n",
       "        text-align: right;\n",
       "    }\n",
       "</style>\n",
       "<table border=\"1\" class=\"dataframe\">\n",
       "  <thead>\n",
       "    <tr style=\"text-align: right;\">\n",
       "      <th></th>\n",
       "      <th>text</th>\n",
       "      <th>PERSON-ontonotes</th>\n",
       "      <th>GPE-ontonotes</th>\n",
       "      <th>ORG-ontonotes</th>\n",
       "      <th>Date-ontonotes</th>\n",
       "      <th>postDate-ontonotes</th>\n",
       "      <th>Dates</th>\n",
       "      <th>Person-NerEngLarge</th>\n",
       "      <th>LOC-NerEngLarge</th>\n",
       "      <th>ORG-NerEngLarge</th>\n",
       "    </tr>\n",
       "  </thead>\n",
       "  <tbody>\n",
       "    <tr>\n",
       "      <th>0</th>\n",
       "      <td>0</td>\n",
       "      <td>[I C Meekins, Isaac C. Meekins, E H Walker, Jo...</td>\n",
       "      <td>[Currituck County ,]</td>\n",
       "      <td>[]</td>\n",
       "      <td>[16 day of Sept A.D . , 1865]</td>\n",
       "      <td>[16-Sept-1865]</td>\n",
       "      <td>[16-Septembre-1865]</td>\n",
       "      <td>[I C Meekins, Almighty, God, Isaac C. Meekins,...</td>\n",
       "      <td>[Currituck County, State of North Carolina, Un...</td>\n",
       "      <td>[Constitution]</td>\n",
       "    </tr>\n",
       "    <tr>\n",
       "      <th>1</th>\n",
       "      <td>1</td>\n",
       "      <td>[]</td>\n",
       "      <td>[North Carolina, United States, States]</td>\n",
       "      <td>[Department of Virginia, State]</td>\n",
       "      <td>[1864]</td>\n",
       "      <td>[]</td>\n",
       "      <td>[]</td>\n",
       "      <td>[]</td>\n",
       "      <td>[North Carolina, United States, States]</td>\n",
       "      <td>[Department of Virginia, OATH PAROLE]</td>\n",
       "    </tr>\n",
       "    <tr>\n",
       "      <th>2</th>\n",
       "      <td>2</td>\n",
       "      <td>[W. H. Pearce, W . H. Pearce]</td>\n",
       "      <td>[]</td>\n",
       "      <td>[]</td>\n",
       "      <td>[3rd day of October , A.D. , 1865]</td>\n",
       "      <td>[3-October-1865]</td>\n",
       "      <td>[3-October-1865]</td>\n",
       "      <td>[W. H. Pearce, Almighty, God, E. Ampetts, W . ...</td>\n",
       "      <td>[Craven County, State of NorthCarolina, United...</td>\n",
       "      <td>[Constitution]</td>\n",
       "    </tr>\n",
       "    <tr>\n",
       "      <th>3</th>\n",
       "      <td>3</td>\n",
       "      <td>[]</td>\n",
       "      <td>[North Carolina, United States]</td>\n",
       "      <td>[]</td>\n",
       "      <td>[______ day of ____________ , 1866]</td>\n",
       "      <td>[]</td>\n",
       "      <td>[]</td>\n",
       "      <td>[God]</td>\n",
       "      <td>[State of, North Carolina, United States]</td>\n",
       "      <td>[Constitution]</td>\n",
       "    </tr>\n",
       "    <tr>\n",
       "      <th>4</th>\n",
       "      <td>4</td>\n",
       "      <td>[S.E . Allen]</td>\n",
       "      <td>[North Carolina, Wake County, United States]</td>\n",
       "      <td>[]</td>\n",
       "      <td>[31st day of May , 1867]</td>\n",
       "      <td>[31-May-1867]</td>\n",
       "      <td>[31-May-1867]</td>\n",
       "      <td>[S.E, God, T.D, McAlpine]</td>\n",
       "      <td>[State of, North Carolina, Wake County, United...</td>\n",
       "      <td>[Constitution, Res . Corp]</td>\n",
       "    </tr>\n",
       "    <tr>\n",
       "      <th>...</th>\n",
       "      <td>...</td>\n",
       "      <td>...</td>\n",
       "      <td>...</td>\n",
       "      <td>...</td>\n",
       "      <td>...</td>\n",
       "      <td>...</td>\n",
       "      <td>...</td>\n",
       "      <td>...</td>\n",
       "      <td>...</td>\n",
       "      <td>...</td>\n",
       "    </tr>\n",
       "    <tr>\n",
       "      <th>2131</th>\n",
       "      <td>2131</td>\n",
       "      <td>[Geo . Little, Geo . B. Ayer]</td>\n",
       "      <td>[Raleigh, N.C., Wake County, N.C, United State...</td>\n",
       "      <td>[]</td>\n",
       "      <td>[May 26, July 14]</td>\n",
       "      <td>[]</td>\n",
       "      <td>[]</td>\n",
       "      <td>[Geo . Little, Geo, B. Ayer, Hugo Hillebrandt]</td>\n",
       "      <td>[Raleigh, N.C., Wake County, State of N.C, Uni...</td>\n",
       "      <td>[]</td>\n",
       "    </tr>\n",
       "    <tr>\n",
       "      <th>2132</th>\n",
       "      <td>2132</td>\n",
       "      <td>[Birnie]</td>\n",
       "      <td>[]</td>\n",
       "      <td>[]</td>\n",
       "      <td>[July 30th 1867]</td>\n",
       "      <td>[30-July-1867]</td>\n",
       "      <td>[30-July-1867]</td>\n",
       "      <td>[]</td>\n",
       "      <td>[]</td>\n",
       "      <td>[]</td>\n",
       "    </tr>\n",
       "    <tr>\n",
       "      <th>2133</th>\n",
       "      <td>2133</td>\n",
       "      <td>[William Birnie]</td>\n",
       "      <td>[North Carolina, Robeson County, United States]</td>\n",
       "      <td>[]</td>\n",
       "      <td>[30 day of July]</td>\n",
       "      <td>[]</td>\n",
       "      <td>[]</td>\n",
       "      <td>[William Birnie, God, Wm Birnie, W.A]</td>\n",
       "      <td>[State of, North Carolina, Robeson County, Uni...</td>\n",
       "      <td>[Constitution]</td>\n",
       "    </tr>\n",
       "    <tr>\n",
       "      <th>2134</th>\n",
       "      <td>2134</td>\n",
       "      <td>[A.L . Price, James Fulton, John D Conoley, Al...</td>\n",
       "      <td>[North Carolina, New Hanover County, New Hanov...</td>\n",
       "      <td>[Fulton Price]</td>\n",
       "      <td>[May 29 1865, 15th Sept 1865, 15th September A...</td>\n",
       "      <td>[29-May-1865, 15-Sept-1865, 15-September-1865,...</td>\n",
       "      <td>[29-May-1865, 15-Septembre-1865, 15-Septembre-...</td>\n",
       "      <td>[Price, James Fulton, Sgd W . N. Peden, Miles ...</td>\n",
       "      <td>[State of North Carolina, New Hanover County, ...</td>\n",
       "      <td>[Fulton Price, Confederate Government, Court o...</td>\n",
       "    </tr>\n",
       "    <tr>\n",
       "      <th>2135</th>\n",
       "      <td>2135</td>\n",
       "      <td>[James Fulton, Wm A. Cutler, Geo W. Pollock, F...</td>\n",
       "      <td>[Wilmington N.C, New Hanover County]</td>\n",
       "      <td>[]</td>\n",
       "      <td>[Sept 22 . 1865, Twentyseventh day of Septembe...</td>\n",
       "      <td>[22-Sept-1865, Twentyseventh-September-1865, T...</td>\n",
       "      <td>[22-Septembre-1865, 27-Septembre-1865, Twentys...</td>\n",
       "      <td>[Marshall, James Fulton, God, Wm A. Cutler, I,...</td>\n",
       "      <td>[City of Wilmington, N.C, United States, North...</td>\n",
       "      <td>[NARA, Constitution of, Slaves]</td>\n",
       "    </tr>\n",
       "  </tbody>\n",
       "</table>\n",
       "<p>2136 rows × 10 columns</p>\n",
       "</div>"
      ],
      "text/plain": [
       "      text                                   PERSON-ontonotes  \\\n",
       "0        0  [I C Meekins, Isaac C. Meekins, E H Walker, Jo...   \n",
       "1        1                                                 []   \n",
       "2        2                      [W. H. Pearce, W . H. Pearce]   \n",
       "3        3                                                 []   \n",
       "4        4                                      [S.E . Allen]   \n",
       "...    ...                                                ...   \n",
       "2131  2131                      [Geo . Little, Geo . B. Ayer]   \n",
       "2132  2132                                           [Birnie]   \n",
       "2133  2133                                   [William Birnie]   \n",
       "2134  2134  [A.L . Price, James Fulton, John D Conoley, Al...   \n",
       "2135  2135  [James Fulton, Wm A. Cutler, Geo W. Pollock, F...   \n",
       "\n",
       "                                          GPE-ontonotes  \\\n",
       "0                                  [Currituck County ,]   \n",
       "1               [North Carolina, United States, States]   \n",
       "2                                                    []   \n",
       "3                       [North Carolina, United States]   \n",
       "4          [North Carolina, Wake County, United States]   \n",
       "...                                                 ...   \n",
       "2131  [Raleigh, N.C., Wake County, N.C, United State...   \n",
       "2132                                                 []   \n",
       "2133    [North Carolina, Robeson County, United States]   \n",
       "2134  [North Carolina, New Hanover County, New Hanov...   \n",
       "2135               [Wilmington N.C, New Hanover County]   \n",
       "\n",
       "                        ORG-ontonotes  \\\n",
       "0                                  []   \n",
       "1     [Department of Virginia, State]   \n",
       "2                                  []   \n",
       "3                                  []   \n",
       "4                                  []   \n",
       "...                               ...   \n",
       "2131                               []   \n",
       "2132                               []   \n",
       "2133                               []   \n",
       "2134                   [Fulton Price]   \n",
       "2135                               []   \n",
       "\n",
       "                                         Date-ontonotes  \\\n",
       "0                         [16 day of Sept A.D . , 1865]   \n",
       "1                                                [1864]   \n",
       "2                    [3rd day of October , A.D. , 1865]   \n",
       "3                   [______ day of ____________ , 1866]   \n",
       "4                              [31st day of May , 1867]   \n",
       "...                                                 ...   \n",
       "2131                                  [May 26, July 14]   \n",
       "2132                                   [July 30th 1867]   \n",
       "2133                                   [30 day of July]   \n",
       "2134  [May 29 1865, 15th Sept 1865, 15th September A...   \n",
       "2135  [Sept 22 . 1865, Twentyseventh day of Septembe...   \n",
       "\n",
       "                                     postDate-ontonotes  \\\n",
       "0                                        [16-Sept-1865]   \n",
       "1                                                    []   \n",
       "2                                      [3-October-1865]   \n",
       "3                                                    []   \n",
       "4                                         [31-May-1867]   \n",
       "...                                                 ...   \n",
       "2131                                                 []   \n",
       "2132                                     [30-July-1867]   \n",
       "2133                                                 []   \n",
       "2134  [29-May-1865, 15-Sept-1865, 15-September-1865,...   \n",
       "2135  [22-Sept-1865, Twentyseventh-September-1865, T...   \n",
       "\n",
       "                                                  Dates  \\\n",
       "0                                   [16-Septembre-1865]   \n",
       "1                                                    []   \n",
       "2                                      [3-October-1865]   \n",
       "3                                                    []   \n",
       "4                                         [31-May-1867]   \n",
       "...                                                 ...   \n",
       "2131                                                 []   \n",
       "2132                                     [30-July-1867]   \n",
       "2133                                                 []   \n",
       "2134  [29-May-1865, 15-Septembre-1865, 15-Septembre-...   \n",
       "2135  [22-Septembre-1865, 27-Septembre-1865, Twentys...   \n",
       "\n",
       "                                     Person-NerEngLarge  \\\n",
       "0     [I C Meekins, Almighty, God, Isaac C. Meekins,...   \n",
       "1                                                    []   \n",
       "2     [W. H. Pearce, Almighty, God, E. Ampetts, W . ...   \n",
       "3                                                 [God]   \n",
       "4                             [S.E, God, T.D, McAlpine]   \n",
       "...                                                 ...   \n",
       "2131     [Geo . Little, Geo, B. Ayer, Hugo Hillebrandt]   \n",
       "2132                                                 []   \n",
       "2133              [William Birnie, God, Wm Birnie, W.A]   \n",
       "2134  [Price, James Fulton, Sgd W . N. Peden, Miles ...   \n",
       "2135  [Marshall, James Fulton, God, Wm A. Cutler, I,...   \n",
       "\n",
       "                                        LOC-NerEngLarge  \\\n",
       "0     [Currituck County, State of North Carolina, Un...   \n",
       "1               [North Carolina, United States, States]   \n",
       "2     [Craven County, State of NorthCarolina, United...   \n",
       "3             [State of, North Carolina, United States]   \n",
       "4     [State of, North Carolina, Wake County, United...   \n",
       "...                                                 ...   \n",
       "2131  [Raleigh, N.C., Wake County, State of N.C, Uni...   \n",
       "2132                                                 []   \n",
       "2133  [State of, North Carolina, Robeson County, Uni...   \n",
       "2134  [State of North Carolina, New Hanover County, ...   \n",
       "2135  [City of Wilmington, N.C, United States, North...   \n",
       "\n",
       "                                        ORG-NerEngLarge  \n",
       "0                                        [Constitution]  \n",
       "1                 [Department of Virginia, OATH PAROLE]  \n",
       "2                                        [Constitution]  \n",
       "3                                        [Constitution]  \n",
       "4                            [Constitution, Res . Corp]  \n",
       "...                                                 ...  \n",
       "2131                                                 []  \n",
       "2132                                                 []  \n",
       "2133                                     [Constitution]  \n",
       "2134  [Fulton Price, Confederate Government, Court o...  \n",
       "2135                    [NARA, Constitution of, Slaves]  \n",
       "\n",
       "[2136 rows x 10 columns]"
      ]
     },
     "execution_count": 24,
     "metadata": {},
     "output_type": "execute_result"
    }
   ],
   "source": [
    "data"
   ]
  },
  {
   "cell_type": "markdown",
   "id": "4af504fb",
   "metadata": {
    "papermill": {
     "duration": 0.031914,
     "end_time": "2022-06-15T18:33:10.823120",
     "exception": false,
     "start_time": "2022-06-15T18:33:10.791206",
     "status": "completed"
    },
    "tags": []
   },
   "source": [
    "# Separate Oath maker and witness name"
   ]
  },
  {
   "cell_type": "code",
   "execution_count": 25,
   "id": "77df96a4",
   "metadata": {
    "execution": {
     "iopub.execute_input": "2022-06-15T18:33:10.888681Z",
     "iopub.status.busy": "2022-06-15T18:33:10.888198Z",
     "iopub.status.idle": "2022-06-15T18:33:10.981818Z",
     "shell.execute_reply": "2022-06-15T18:33:10.980752Z"
    },
    "papermill": {
     "duration": 0.130852,
     "end_time": "2022-06-15T18:33:10.984442",
     "exception": false,
     "start_time": "2022-06-15T18:33:10.853590",
     "status": "completed"
    },
    "tags": []
   },
   "outputs": [],
   "source": [
    "newdata=pd.read_csv(\"../input/oathss/oaths.csv\")"
   ]
  },
  {
   "cell_type": "code",
   "execution_count": 26,
   "id": "475766e8",
   "metadata": {
    "execution": {
     "iopub.execute_input": "2022-06-15T18:33:11.081233Z",
     "iopub.status.busy": "2022-06-15T18:33:11.079446Z",
     "iopub.status.idle": "2022-06-15T18:33:11.104490Z",
     "shell.execute_reply": "2022-06-15T18:33:11.103086Z"
    },
    "papermill": {
     "duration": 0.079497,
     "end_time": "2022-06-15T18:33:11.108121",
     "exception": false,
     "start_time": "2022-06-15T18:33:11.028624",
     "status": "completed"
    },
    "tags": []
   },
   "outputs": [],
   "source": [
    "all_text=newdata[\"transcription_text\"]\n",
    "stop_words = set(stopwords.words('english'))\n",
    "punctuation = string.punctuation\n",
    "stemmer = SnowballStemmer(language=\"english\")\n",
    "lemmatizer = WordNetLemmatizer()\n",
    "stop_words.remove(\"of\")\n",
    "punctuation\n",
    "punct='!\"#$%&\\'()*+-/<=>?@[\\\\]^`{|}~'"
   ]
  },
  {
   "cell_type": "code",
   "execution_count": 27,
   "id": "fdb5fd43",
   "metadata": {
    "execution": {
     "iopub.execute_input": "2022-06-15T18:33:11.193945Z",
     "iopub.status.busy": "2022-06-15T18:33:11.192598Z",
     "iopub.status.idle": "2022-06-15T18:33:24.467769Z",
     "shell.execute_reply": "2022-06-15T18:33:24.466540Z"
    },
    "papermill": {
     "duration": 13.313766,
     "end_time": "2022-06-15T18:33:24.470134",
     "exception": false,
     "start_time": "2022-06-15T18:33:11.156368",
     "status": "completed"
    },
    "tags": []
   },
   "outputs": [
    {
     "name": "stderr",
     "output_type": "stream",
     "text": [
      "100%|██████████| 2136/2136 [00:12<00:00, 170.63it/s]\n",
      "100%|██████████| 2136/2136 [00:00<00:00, 2935.83it/s]\n"
     ]
    }
   ],
   "source": [
    "def process(s):\n",
    "    s= re.sub(\"([\\(\\[]).*?([\\)\\]])\",\" \",s)\n",
    "    for p in punct:\n",
    "        s = s.replace(p, '')\n",
    "    s = word_tokenize(s)\n",
    "    s = [w for w in s if not w in stop_words] \n",
    "    s = [lemmatizer.lemmatize(word) for word in s]\n",
    "    return s\n",
    "\n",
    "for i in tqdm(range(newdata.shape[0])):\n",
    "    all_text[i] = process(all_text[i])\n",
    "for i in tqdm(range(newdata.shape[0])):\n",
    "    all_text[i] = \" \".join(all_text[i])"
   ]
  },
  {
   "cell_type": "code",
   "execution_count": 28,
   "id": "81f22226",
   "metadata": {
    "execution": {
     "iopub.execute_input": "2022-06-15T18:33:24.545571Z",
     "iopub.status.busy": "2022-06-15T18:33:24.545113Z",
     "iopub.status.idle": "2022-06-15T18:33:24.558296Z",
     "shell.execute_reply": "2022-06-15T18:33:24.557104Z"
    },
    "papermill": {
     "duration": 0.053682,
     "end_time": "2022-06-15T18:33:24.560493",
     "exception": false,
     "start_time": "2022-06-15T18:33:24.506811",
     "status": "completed"
    },
    "tags": []
   },
   "outputs": [],
   "source": [
    "allPerson=[]\n",
    "for i in Audf[\"PERSON-ontonotes\"]:\n",
    "            allPerson.append(i)\n",
    "allDatess=[]\n",
    "for i in Audf[\"Date-ontonotes\"]:\n",
    "            allDatess.append(i)\n",
    "allpostdates=[]\n",
    "for i in Audf[\"postDate-ontonotes\"]:\n",
    "            allpostdates.append(i)\n",
    "allGPE=[]\n",
    "for i in Audf[\"GPE-ontonotes\"]:\n",
    "            allGPE.append(i)\n",
    "alORGl=[]\n",
    "for i in Audf[\"ORG-ontonotes\"]:\n",
    "            alORGl.append(i)"
   ]
  },
  {
   "cell_type": "code",
   "execution_count": 29,
   "id": "6f794e4e",
   "metadata": {
    "execution": {
     "iopub.execute_input": "2022-06-15T18:33:24.634626Z",
     "iopub.status.busy": "2022-06-15T18:33:24.634196Z",
     "iopub.status.idle": "2022-06-15T18:33:24.642986Z",
     "shell.execute_reply": "2022-06-15T18:33:24.642173Z"
    },
    "papermill": {
     "duration": 0.048471,
     "end_time": "2022-06-15T18:33:24.645058",
     "exception": false,
     "start_time": "2022-06-15T18:33:24.596587",
     "status": "completed"
    },
    "tags": []
   },
   "outputs": [],
   "source": [
    "Personlarge=[]\n",
    "for i in dflarge[\"PERSON-nerenglarge\"]:\n",
    "            Personlarge.append(i)\n",
    "ORGlarge=[]\n",
    "for i in dflarge[\"ORG-nerenglarge\"]:\n",
    "            ORGlarge.append(i) \n",
    "LOClarge=[]\n",
    "for i in dflarge[\"LOC-nerenglarge\"]:\n",
    "            LOClarge.append(i)"
   ]
  },
  {
   "cell_type": "code",
   "execution_count": 30,
   "id": "d163ecb8",
   "metadata": {
    "execution": {
     "iopub.execute_input": "2022-06-15T18:33:24.720388Z",
     "iopub.status.busy": "2022-06-15T18:33:24.719256Z",
     "iopub.status.idle": "2022-06-15T18:33:24.724043Z",
     "shell.execute_reply": "2022-06-15T18:33:24.723247Z"
    },
    "papermill": {
     "duration": 0.044831,
     "end_time": "2022-06-15T18:33:24.726288",
     "exception": false,
     "start_time": "2022-06-15T18:33:24.681457",
     "status": "completed"
    },
    "tags": []
   },
   "outputs": [],
   "source": [
    "# NewPerson[10]"
   ]
  },
  {
   "cell_type": "code",
   "execution_count": 31,
   "id": "2dff7788",
   "metadata": {
    "execution": {
     "iopub.execute_input": "2022-06-15T18:33:24.801298Z",
     "iopub.status.busy": "2022-06-15T18:33:24.800396Z",
     "iopub.status.idle": "2022-06-15T18:33:24.805497Z",
     "shell.execute_reply": "2022-06-15T18:33:24.804576Z"
    },
    "papermill": {
     "duration": 0.045585,
     "end_time": "2022-06-15T18:33:24.808177",
     "exception": false,
     "start_time": "2022-06-15T18:33:24.762592",
     "status": "completed"
    },
    "tags": []
   },
   "outputs": [],
   "source": [
    "# Perr[10]"
   ]
  },
  {
   "cell_type": "code",
   "execution_count": 32,
   "id": "e3ce49bf",
   "metadata": {
    "execution": {
     "iopub.execute_input": "2022-06-15T18:33:24.891053Z",
     "iopub.status.busy": "2022-06-15T18:33:24.890159Z",
     "iopub.status.idle": "2022-06-15T18:33:24.895072Z",
     "shell.execute_reply": "2022-06-15T18:33:24.894275Z"
    },
    "papermill": {
     "duration": 0.052706,
     "end_time": "2022-06-15T18:33:24.897554",
     "exception": false,
     "start_time": "2022-06-15T18:33:24.844848",
     "status": "completed"
    },
    "tags": []
   },
   "outputs": [],
   "source": [
    "# NewPerson[25]"
   ]
  },
  {
   "cell_type": "code",
   "execution_count": 33,
   "id": "7034be09",
   "metadata": {
    "execution": {
     "iopub.execute_input": "2022-06-15T18:33:24.973046Z",
     "iopub.status.busy": "2022-06-15T18:33:24.971812Z",
     "iopub.status.idle": "2022-06-15T18:33:24.977426Z",
     "shell.execute_reply": "2022-06-15T18:33:24.976557Z"
    },
    "papermill": {
     "duration": 0.046075,
     "end_time": "2022-06-15T18:33:24.979896",
     "exception": false,
     "start_time": "2022-06-15T18:33:24.933821",
     "status": "completed"
    },
    "tags": []
   },
   "outputs": [],
   "source": [
    "# Perr[25]"
   ]
  },
  {
   "cell_type": "code",
   "execution_count": 34,
   "id": "9ae9607b",
   "metadata": {
    "execution": {
     "iopub.execute_input": "2022-06-15T18:33:25.055843Z",
     "iopub.status.busy": "2022-06-15T18:33:25.054966Z",
     "iopub.status.idle": "2022-06-15T18:33:25.059826Z",
     "shell.execute_reply": "2022-06-15T18:33:25.059019Z"
    },
    "papermill": {
     "duration": 0.045623,
     "end_time": "2022-06-15T18:33:25.062206",
     "exception": false,
     "start_time": "2022-06-15T18:33:25.016583",
     "status": "completed"
    },
    "tags": []
   },
   "outputs": [],
   "source": [
    "# NewPerson[112]"
   ]
  },
  {
   "cell_type": "code",
   "execution_count": 35,
   "id": "802f106b",
   "metadata": {
    "execution": {
     "iopub.execute_input": "2022-06-15T18:33:25.139217Z",
     "iopub.status.busy": "2022-06-15T18:33:25.138347Z",
     "iopub.status.idle": "2022-06-15T18:33:25.143155Z",
     "shell.execute_reply": "2022-06-15T18:33:25.142346Z"
    },
    "papermill": {
     "duration": 0.045825,
     "end_time": "2022-06-15T18:33:25.145634",
     "exception": false,
     "start_time": "2022-06-15T18:33:25.099809",
     "status": "completed"
    },
    "tags": []
   },
   "outputs": [],
   "source": [
    "# Perr[112]"
   ]
  },
  {
   "cell_type": "code",
   "execution_count": 36,
   "id": "f5ce5d79",
   "metadata": {
    "execution": {
     "iopub.execute_input": "2022-06-15T18:33:25.226332Z",
     "iopub.status.busy": "2022-06-15T18:33:25.225467Z",
     "iopub.status.idle": "2022-06-15T18:33:25.230528Z",
     "shell.execute_reply": "2022-06-15T18:33:25.229565Z"
    },
    "papermill": {
     "duration": 0.048547,
     "end_time": "2022-06-15T18:33:25.232733",
     "exception": false,
     "start_time": "2022-06-15T18:33:25.184186",
     "status": "completed"
    },
    "tags": []
   },
   "outputs": [],
   "source": [
    "# NewPerson[211]"
   ]
  },
  {
   "cell_type": "code",
   "execution_count": 37,
   "id": "b0c11544",
   "metadata": {
    "execution": {
     "iopub.execute_input": "2022-06-15T18:33:25.309095Z",
     "iopub.status.busy": "2022-06-15T18:33:25.308246Z",
     "iopub.status.idle": "2022-06-15T18:33:25.313322Z",
     "shell.execute_reply": "2022-06-15T18:33:25.312314Z"
    },
    "papermill": {
     "duration": 0.046631,
     "end_time": "2022-06-15T18:33:25.315745",
     "exception": false,
     "start_time": "2022-06-15T18:33:25.269114",
     "status": "completed"
    },
    "tags": []
   },
   "outputs": [],
   "source": [
    "# Perr[211]"
   ]
  },
  {
   "cell_type": "code",
   "execution_count": 38,
   "id": "9fac7245",
   "metadata": {
    "execution": {
     "iopub.execute_input": "2022-06-15T18:33:25.392978Z",
     "iopub.status.busy": "2022-06-15T18:33:25.392152Z",
     "iopub.status.idle": "2022-06-15T18:33:25.396450Z",
     "shell.execute_reply": "2022-06-15T18:33:25.395541Z"
    },
    "papermill": {
     "duration": 0.045522,
     "end_time": "2022-06-15T18:33:25.399111",
     "exception": false,
     "start_time": "2022-06-15T18:33:25.353589",
     "status": "completed"
    },
    "tags": []
   },
   "outputs": [],
   "source": [
    "# NewPerson[218]"
   ]
  },
  {
   "cell_type": "code",
   "execution_count": 39,
   "id": "b66cda7e",
   "metadata": {
    "execution": {
     "iopub.execute_input": "2022-06-15T18:33:25.483294Z",
     "iopub.status.busy": "2022-06-15T18:33:25.482121Z",
     "iopub.status.idle": "2022-06-15T18:33:25.486526Z",
     "shell.execute_reply": "2022-06-15T18:33:25.485711Z"
    },
    "papermill": {
     "duration": 0.051255,
     "end_time": "2022-06-15T18:33:25.488848",
     "exception": false,
     "start_time": "2022-06-15T18:33:25.437593",
     "status": "completed"
    },
    "tags": []
   },
   "outputs": [],
   "source": [
    "# Perr[218]"
   ]
  },
  {
   "cell_type": "code",
   "execution_count": 40,
   "id": "3cbc3045",
   "metadata": {
    "execution": {
     "iopub.execute_input": "2022-06-15T18:33:25.564957Z",
     "iopub.status.busy": "2022-06-15T18:33:25.563764Z",
     "iopub.status.idle": "2022-06-15T18:33:25.584150Z",
     "shell.execute_reply": "2022-06-15T18:33:25.583314Z"
    },
    "papermill": {
     "duration": 0.060849,
     "end_time": "2022-06-15T18:33:25.586656",
     "exception": false,
     "start_time": "2022-06-15T18:33:25.525807",
     "status": "completed"
    },
    "tags": []
   },
   "outputs": [],
   "source": [
    "NewPerson=[]\n",
    "for i in Personlarge:\n",
    "    p=[]\n",
    "    for j in i:\n",
    "        j=j.replace('.','')\n",
    "        j=j.replace('Oath','')\n",
    "        j=j.replace('Sworn','')\n",
    "        j=j.replace('Path of','')\n",
    "        j=j.replace('  ',' ')\n",
    "        p.append(j)\n",
    "    NewPerson.append(p)\n",
    "    \n",
    "        "
   ]
  },
  {
   "cell_type": "code",
   "execution_count": 41,
   "id": "aad77d85",
   "metadata": {
    "execution": {
     "iopub.execute_input": "2022-06-15T18:33:25.662050Z",
     "iopub.status.busy": "2022-06-15T18:33:25.661225Z",
     "iopub.status.idle": "2022-06-15T18:33:25.667463Z",
     "shell.execute_reply": "2022-06-15T18:33:25.666511Z"
    },
    "papermill": {
     "duration": 0.046546,
     "end_time": "2022-06-15T18:33:25.669784",
     "exception": false,
     "start_time": "2022-06-15T18:33:25.623238",
     "status": "completed"
    },
    "tags": []
   },
   "outputs": [
    {
     "data": {
      "text/plain": [
       "2136"
      ]
     },
     "execution_count": 41,
     "metadata": {},
     "output_type": "execute_result"
    }
   ],
   "source": [
    "len(NewPerson)"
   ]
  },
  {
   "cell_type": "code",
   "execution_count": 42,
   "id": "e5e36f06",
   "metadata": {
    "execution": {
     "iopub.execute_input": "2022-06-15T18:33:25.748033Z",
     "iopub.status.busy": "2022-06-15T18:33:25.747211Z",
     "iopub.status.idle": "2022-06-15T18:33:25.757849Z",
     "shell.execute_reply": "2022-06-15T18:33:25.757088Z"
    },
    "papermill": {
     "duration": 0.052306,
     "end_time": "2022-06-15T18:33:25.760238",
     "exception": false,
     "start_time": "2022-06-15T18:33:25.707932",
     "status": "completed"
    },
    "tags": []
   },
   "outputs": [
    {
     "data": {
      "text/plain": [
       "9512"
      ]
     },
     "execution_count": 42,
     "metadata": {},
     "output_type": "execute_result"
    }
   ],
   "source": [
    "PL=[]\n",
    "for i in NewPerson:\n",
    "    for j in i:\n",
    "        PL.append(j)\n",
    "len(PL)"
   ]
  },
  {
   "cell_type": "markdown",
   "id": "161b13cb",
   "metadata": {
    "papermill": {
     "duration": 0.03676,
     "end_time": "2022-06-15T18:33:25.834028",
     "exception": false,
     "start_time": "2022-06-15T18:33:25.797268",
     "status": "completed"
    },
    "tags": []
   },
   "source": [
    "# removing outliers"
   ]
  },
  {
   "cell_type": "code",
   "execution_count": 43,
   "id": "6ce827d0",
   "metadata": {
    "execution": {
     "iopub.execute_input": "2022-06-15T18:33:25.911426Z",
     "iopub.status.busy": "2022-06-15T18:33:25.910471Z",
     "iopub.status.idle": "2022-06-15T18:33:25.917719Z",
     "shell.execute_reply": "2022-06-15T18:33:25.916882Z"
    },
    "papermill": {
     "duration": 0.049627,
     "end_time": "2022-06-15T18:33:25.920184",
     "exception": false,
     "start_time": "2022-06-15T18:33:25.870557",
     "status": "completed"
    },
    "tags": []
   },
   "outputs": [],
   "source": [
    "L=[\"God\",\"GOD\",\"god\",\"ANDREW JOHNSON\",\"AB\",\"CE\",\"andrew jonhson\",\"Justice of Peace\",\"Almighty God\",\"Andrew Johnson\",\"SE\",\"TD\",\"Jm\",\"I\",\"I J\",\"MW\",\"M\",\"JH\",\"JB\",\"WD\",\"JK\",\"J P\",\"C\",\"G\",\"HA\",\"J\",\"A\",\"F A\",\"DS\",\"CT\",\"RF\",'JE',\"Ashe\",\"JL\",\"H\",\"JP\",\"Mr\",\"Sworn\",\"sworn\",\"JF\",\"Bonnell\",\"B\",\"ER\",\"WHé\",\"JH\",\"JW\",\"F\",\"Wm\",\"W\",\"WF\"]"
   ]
  },
  {
   "cell_type": "code",
   "execution_count": 44,
   "id": "6dfb6e8b",
   "metadata": {
    "execution": {
     "iopub.execute_input": "2022-06-15T18:33:25.997658Z",
     "iopub.status.busy": "2022-06-15T18:33:25.996846Z",
     "iopub.status.idle": "2022-06-15T18:33:26.015525Z",
     "shell.execute_reply": "2022-06-15T18:33:26.014236Z"
    },
    "papermill": {
     "duration": 0.060556,
     "end_time": "2022-06-15T18:33:26.017971",
     "exception": false,
     "start_time": "2022-06-15T18:33:25.957415",
     "status": "completed"
    },
    "tags": []
   },
   "outputs": [],
   "source": [
    "Per=[]\n",
    "for i in NewPerson:\n",
    "    p=[]\n",
    "    for j in i:\n",
    "        if j==\"Almighty\":\n",
    "            j=\"Almighty God\"\n",
    "        if j not in L:\n",
    "            p.append(j)\n",
    "        \n",
    "    Per.append(p)"
   ]
  },
  {
   "cell_type": "code",
   "execution_count": null,
   "id": "c92e3dad",
   "metadata": {
    "papermill": {
     "duration": 0.035975,
     "end_time": "2022-06-15T18:33:26.090347",
     "exception": false,
     "start_time": "2022-06-15T18:33:26.054372",
     "status": "completed"
    },
    "tags": []
   },
   "outputs": [],
   "source": []
  },
  {
   "cell_type": "code",
   "execution_count": 45,
   "id": "49d5f128",
   "metadata": {
    "execution": {
     "iopub.execute_input": "2022-06-15T18:33:26.167617Z",
     "iopub.status.busy": "2022-06-15T18:33:26.167092Z",
     "iopub.status.idle": "2022-06-15T18:33:26.173127Z",
     "shell.execute_reply": "2022-06-15T18:33:26.172368Z"
    },
    "papermill": {
     "duration": 0.047733,
     "end_time": "2022-06-15T18:33:26.175131",
     "exception": false,
     "start_time": "2022-06-15T18:33:26.127398",
     "status": "completed"
    },
    "tags": []
   },
   "outputs": [
    {
     "data": {
      "text/plain": [
       "'United States of America I , Elizabeth W. Bonnell of Barnwell District State of South Carolina , solemnly swear affirm presence of Almighty God , I henceforth support defend Consitution of United States , service of States thereunder , I like manner abide support law proclamation made existing rebellion reference emancipation of slave help God . Elizabeth W Bonnell Subscribed sworn Blackville 21st day of October A.D. 1865 James E. Robinson Magst .'"
      ]
     },
     "execution_count": 45,
     "metadata": {},
     "output_type": "execute_result"
    }
   ],
   "source": [
    "all_text[1006]"
   ]
  },
  {
   "cell_type": "code",
   "execution_count": 46,
   "id": "ff14cfde",
   "metadata": {
    "execution": {
     "iopub.execute_input": "2022-06-15T18:33:26.250772Z",
     "iopub.status.busy": "2022-06-15T18:33:26.249778Z",
     "iopub.status.idle": "2022-06-15T18:33:26.256520Z",
     "shell.execute_reply": "2022-06-15T18:33:26.255500Z"
    },
    "papermill": {
     "duration": 0.047019,
     "end_time": "2022-06-15T18:33:26.258768",
     "exception": false,
     "start_time": "2022-06-15T18:33:26.211749",
     "status": "completed"
    },
    "tags": []
   },
   "outputs": [
    {
     "data": {
      "text/plain": [
       "['Elizabeth W Bonnell', 'Elizabeth W Bonnell', 'James E Robinson Magst']"
      ]
     },
     "execution_count": 46,
     "metadata": {},
     "output_type": "execute_result"
    }
   ],
   "source": [
    "Per[1006]"
   ]
  },
  {
   "cell_type": "code",
   "execution_count": 47,
   "id": "52d0d064",
   "metadata": {
    "execution": {
     "iopub.execute_input": "2022-06-15T18:33:26.336056Z",
     "iopub.status.busy": "2022-06-15T18:33:26.335303Z",
     "iopub.status.idle": "2022-06-15T18:33:26.340239Z",
     "shell.execute_reply": "2022-06-15T18:33:26.339111Z"
    },
    "papermill": {
     "duration": 0.045768,
     "end_time": "2022-06-15T18:33:26.342355",
     "exception": false,
     "start_time": "2022-06-15T18:33:26.296587",
     "status": "completed"
    },
    "tags": []
   },
   "outputs": [],
   "source": [
    "# Perr[1006]"
   ]
  },
  {
   "cell_type": "code",
   "execution_count": 48,
   "id": "9d6c96e0",
   "metadata": {
    "execution": {
     "iopub.execute_input": "2022-06-15T18:33:26.419927Z",
     "iopub.status.busy": "2022-06-15T18:33:26.419216Z",
     "iopub.status.idle": "2022-06-15T18:33:26.429624Z",
     "shell.execute_reply": "2022-06-15T18:33:26.428453Z"
    },
    "papermill": {
     "duration": 0.050938,
     "end_time": "2022-06-15T18:33:26.431801",
     "exception": false,
     "start_time": "2022-06-15T18:33:26.380863",
     "status": "completed"
    },
    "tags": []
   },
   "outputs": [
    {
     "data": {
      "text/plain": [
       "5683"
      ]
     },
     "execution_count": 48,
     "metadata": {},
     "output_type": "execute_result"
    }
   ],
   "source": [
    "PLl=[]\n",
    "for i in Per:\n",
    "    for j in i:\n",
    "        PLl.append(j)\n",
    "len(PLl)"
   ]
  },
  {
   "cell_type": "markdown",
   "id": "86e653f4",
   "metadata": {
    "papermill": {
     "duration": 0.038979,
     "end_time": "2022-06-15T18:33:26.509360",
     "exception": false,
     "start_time": "2022-06-15T18:33:26.470381",
     "status": "completed"
    },
    "tags": []
   },
   "source": [
    "# removing redundant name"
   ]
  },
  {
   "cell_type": "code",
   "execution_count": 49,
   "id": "52451f21",
   "metadata": {
    "execution": {
     "iopub.execute_input": "2022-06-15T18:33:26.587905Z",
     "iopub.status.busy": "2022-06-15T18:33:26.587107Z",
     "iopub.status.idle": "2022-06-15T18:33:26.597494Z",
     "shell.execute_reply": "2022-06-15T18:33:26.596582Z"
    },
    "papermill": {
     "duration": 0.053465,
     "end_time": "2022-06-15T18:33:26.600439",
     "exception": false,
     "start_time": "2022-06-15T18:33:26.546974",
     "status": "completed"
    },
    "tags": []
   },
   "outputs": [],
   "source": [
    "def uniqueName(iterable):\n",
    "    seen = set()\n",
    "    result = []\n",
    "    for item in iterable:\n",
    "        if item not in seen:\n",
    "            seen.add(item)\n",
    "            result.append(item)\n",
    "    return result\n",
    "Perr=[]\n",
    "for i in Per:\n",
    "    i=uniqueName(i)\n",
    "    Perr.append(i)\n",
    "    "
   ]
  },
  {
   "cell_type": "code",
   "execution_count": 50,
   "id": "96e945e4",
   "metadata": {
    "execution": {
     "iopub.execute_input": "2022-06-15T18:33:26.678924Z",
     "iopub.status.busy": "2022-06-15T18:33:26.678109Z",
     "iopub.status.idle": "2022-06-15T18:33:26.687766Z",
     "shell.execute_reply": "2022-06-15T18:33:26.686865Z"
    },
    "papermill": {
     "duration": 0.052413,
     "end_time": "2022-06-15T18:33:26.690173",
     "exception": false,
     "start_time": "2022-06-15T18:33:26.637760",
     "status": "completed"
    },
    "tags": []
   },
   "outputs": [
    {
     "data": {
      "text/plain": [
       "5318"
      ]
     },
     "execution_count": 50,
     "metadata": {},
     "output_type": "execute_result"
    }
   ],
   "source": [
    "PL=[]\n",
    "for i in Perr:\n",
    "    for j in i:\n",
    "        PL.append(j)\n",
    "len(PL)"
   ]
  },
  {
   "cell_type": "code",
   "execution_count": 51,
   "id": "2bbeb8a1",
   "metadata": {
    "execution": {
     "iopub.execute_input": "2022-06-15T18:33:26.772349Z",
     "iopub.status.busy": "2022-06-15T18:33:26.770813Z",
     "iopub.status.idle": "2022-06-15T18:33:26.783518Z",
     "shell.execute_reply": "2022-06-15T18:33:26.782535Z"
    },
    "papermill": {
     "duration": 0.056106,
     "end_time": "2022-06-15T18:33:26.786240",
     "exception": false,
     "start_time": "2022-06-15T18:33:26.730134",
     "status": "completed"
    },
    "tags": []
   },
   "outputs": [],
   "source": [
    "P=[]\n",
    "for i in Perr:\n",
    "    L=[]\n",
    "    for j in range(len(i)):\n",
    "        L.append(i[j].split())\n",
    "    P.append(L)\n"
   ]
  },
  {
   "cell_type": "code",
   "execution_count": 52,
   "id": "6d8da2ef",
   "metadata": {
    "execution": {
     "iopub.execute_input": "2022-06-15T18:33:26.865824Z",
     "iopub.status.busy": "2022-06-15T18:33:26.864918Z",
     "iopub.status.idle": "2022-06-15T18:33:26.876339Z",
     "shell.execute_reply": "2022-06-15T18:33:26.875264Z"
    },
    "papermill": {
     "duration": 0.055388,
     "end_time": "2022-06-15T18:33:26.878642",
     "exception": false,
     "start_time": "2022-06-15T18:33:26.823254",
     "status": "completed"
    },
    "tags": []
   },
   "outputs": [
    {
     "data": {
      "text/plain": [
       "[['John Bowers', 'John E Bowers', 'Levi Stuber'],\n",
       " ['J Cheesborough', 'Levi Stuber'],\n",
       " ['Wm H Gilliland', 'Levi Stuber'],\n",
       " ['WA Wardlaw', 'J Miller Thompson', 'Daniel Lesesne', 'B Eaton'],\n",
       " ['Levi Stuber', 'Thomas Bonnell'],\n",
       " ['John Bonnell', 'James E Robinson Magst'],\n",
       " ['Elizabeth W Bonnell', 'James E Robinson Magst'],\n",
       " ['Caroline B Bonnell', 'James E Robinson Magstr'],\n",
       " ['Wm S Lanneau', 'Wm S Lamreau', 'Levi Stuber'],\n",
       " ['Thomas Bonnell', 'Levi Stuber'],\n",
       " ['Mary J Lockwood', 'Laurens', 'J E Ashe', 'GOD '],\n",
       " ['Caroline L Lockwood', 'JE Ashe'],\n",
       " ['Jane B Lockwood', 'J W Lockwood', 'Laurens', 'JW Lockwood'],\n",
       " ['Lockwood', 'Levi Stuber', 'I J Lockwood', 'J Lockwood'],\n",
       " ['James Bancroft', 'Levi Stuber', 'Jas Bancroft'],\n",
       " ['Walter Blake', 'Johnsons', 'BF', 'Perry'],\n",
       " ['Adeline E Brisbane', 'A E Brisbane', 'O', 'Shepherd', 'GOD ', 'O Shepherd'],\n",
       " ['Regina M Baker', 'Levi Stuber'],\n",
       " ['Esther Lynch Bowman',\n",
       "  'EL Bowman',\n",
       "  'Sumter',\n",
       "  'So Carol',\n",
       "  'TB Johnston',\n",
       "  'E L Bowman'],\n",
       " ['James E Thuring', 'J E Thuring'],\n",
       " ['James E Thuring', 'J E Thuring', 'Fredk A Ford'],\n",
       " ['Isabella C Thuring', 'Fredk A Ford', 'Govr Perry'],\n",
       " ['Charles F Benson', 'Chas F Benson', 'Levi Stuber', 'Chas', 'F Benson'],\n",
       " ['Eliza M Bonneau', 'W Burgess', 'Sumter , So Carol'],\n",
       " ['Mary Evelina Bull', 'Fredk A Ford', 'Perry'],\n",
       " ['Edmund Bull', 'E Bull', 'Levi Stuber'],\n",
       " ['RM Butler', 'Levi Stuber'],\n",
       " ['M P Browning', 'Levi Stuber'],\n",
       " ['G L Fickett', 'RW', 'Barnwell', 'R W Barnwell', 'GL Fickett'],\n",
       " ['John G Barnwell', 'Frank Geise'],\n",
       " ['Sarah E Brown', 'B G Read'],\n",
       " ['S E Brown', 'Levi Stuber'],\n",
       " ['John L Bell', 'Jno L Bell', 'Frank Geise'],\n",
       " ['Caroline L Brown', 'Frank Geise'],\n",
       " ['Margaret Brown', 'Margaret E Brown', 'Frank Geise'],\n",
       " ['Edward Barnwell', 'Ed Barnwell', 'M Burgess', 'Frank Geise'],\n",
       " ['James P Boyce', 'William H Seward'],\n",
       " ['Benjamin F Perry', 'James P Boyce'],\n",
       " ['Jno A Buchmyer', 'John A Buchmyer', 'Archibald Bogh'],\n",
       " ['I T A Whitney', 'T A Whitney', 'Archibald Boyle'],\n",
       " ['John E Bowers', 'Archibald Bogle'],\n",
       " ['Alexander Bowie', 'Cook'],\n",
       " ['Eliza A Bowie', 'W P Cook'],\n",
       " ['James A Bowie', 'Jas A Bowie', 'WP Cook'],\n",
       " ['E M Clark', 'Frank Geise'],\n",
       " ['Levi Stuber', 'John P Clement', 'J P Clement'],\n",
       " ['M W Clement', 'Levi Stuber'],\n",
       " ['I J M Curtis', 'Jas M Curtis', 'J Milton Thompson'],\n",
       " ['James M Curtis'],\n",
       " ['A J Clark', 'AJ Clark', 'Frank Geise']]"
      ]
     },
     "execution_count": 52,
     "metadata": {},
     "output_type": "execute_result"
    }
   ],
   "source": [
    "Perr[1000:1050]"
   ]
  },
  {
   "cell_type": "code",
   "execution_count": 53,
   "id": "20c0189f",
   "metadata": {
    "execution": {
     "iopub.execute_input": "2022-06-15T18:33:26.958423Z",
     "iopub.status.busy": "2022-06-15T18:33:26.957839Z",
     "iopub.status.idle": "2022-06-15T18:33:26.963851Z",
     "shell.execute_reply": "2022-06-15T18:33:26.963044Z"
    },
    "papermill": {
     "duration": 0.047524,
     "end_time": "2022-06-15T18:33:26.966435",
     "exception": false,
     "start_time": "2022-06-15T18:33:26.918911",
     "status": "completed"
    },
    "tags": []
   },
   "outputs": [
    {
     "data": {
      "text/plain": [
       "['I C Meekins', 'Isaac C Meekins', 'E H Walker']"
      ]
     },
     "execution_count": 53,
     "metadata": {},
     "output_type": "execute_result"
    }
   ],
   "source": [
    "Perr[0]"
   ]
  },
  {
   "cell_type": "code",
   "execution_count": 54,
   "id": "720df5c1",
   "metadata": {
    "execution": {
     "iopub.execute_input": "2022-06-15T18:33:27.045952Z",
     "iopub.status.busy": "2022-06-15T18:33:27.045087Z",
     "iopub.status.idle": "2022-06-15T18:33:27.052465Z",
     "shell.execute_reply": "2022-06-15T18:33:27.051343Z"
    },
    "papermill": {
     "duration": 0.050332,
     "end_time": "2022-06-15T18:33:27.054973",
     "exception": false,
     "start_time": "2022-06-15T18:33:27.004641",
     "status": "completed"
    },
    "tags": []
   },
   "outputs": [
    {
     "data": {
      "text/plain": [
       "[['John', 'Bowers'], ['John', 'E', 'Bowers'], ['Levi', 'Stuber']]"
      ]
     },
     "execution_count": 54,
     "metadata": {},
     "output_type": "execute_result"
    }
   ],
   "source": [
    "P[1000]"
   ]
  },
  {
   "cell_type": "code",
   "execution_count": 55,
   "id": "d8592ead",
   "metadata": {
    "execution": {
     "iopub.execute_input": "2022-06-15T18:33:27.135376Z",
     "iopub.status.busy": "2022-06-15T18:33:27.134581Z",
     "iopub.status.idle": "2022-06-15T18:33:27.141179Z",
     "shell.execute_reply": "2022-06-15T18:33:27.140404Z"
    },
    "papermill": {
     "duration": 0.049367,
     "end_time": "2022-06-15T18:33:27.143325",
     "exception": false,
     "start_time": "2022-06-15T18:33:27.093958",
     "status": "completed"
    },
    "tags": []
   },
   "outputs": [
    {
     "data": {
      "text/plain": [
       "[['I', 'C', 'Meekins'], ['Isaac', 'C', 'Meekins'], ['E', 'H', 'Walker']]"
      ]
     },
     "execution_count": 55,
     "metadata": {},
     "output_type": "execute_result"
    }
   ],
   "source": [
    "P[0]"
   ]
  },
  {
   "cell_type": "code",
   "execution_count": 56,
   "id": "c70ba25d",
   "metadata": {
    "execution": {
     "iopub.execute_input": "2022-06-15T18:33:27.224103Z",
     "iopub.status.busy": "2022-06-15T18:33:27.223284Z",
     "iopub.status.idle": "2022-06-15T18:33:27.229732Z",
     "shell.execute_reply": "2022-06-15T18:33:27.228740Z"
    },
    "papermill": {
     "duration": 0.048728,
     "end_time": "2022-06-15T18:33:27.231903",
     "exception": false,
     "start_time": "2022-06-15T18:33:27.183175",
     "status": "completed"
    },
    "tags": []
   },
   "outputs": [
    {
     "data": {
      "text/plain": [
       "[['Albert', 'C', 'Beals'], ['Jas', 'C', 'Davis']]"
      ]
     },
     "execution_count": 56,
     "metadata": {},
     "output_type": "execute_result"
    }
   ],
   "source": [
    "P[50]"
   ]
  },
  {
   "cell_type": "code",
   "execution_count": 57,
   "id": "06e165d0",
   "metadata": {
    "execution": {
     "iopub.execute_input": "2022-06-15T18:33:27.310462Z",
     "iopub.status.busy": "2022-06-15T18:33:27.309688Z",
     "iopub.status.idle": "2022-06-15T18:33:27.316529Z",
     "shell.execute_reply": "2022-06-15T18:33:27.315746Z"
    },
    "papermill": {
     "duration": 0.048954,
     "end_time": "2022-06-15T18:33:27.318863",
     "exception": false,
     "start_time": "2022-06-15T18:33:27.269909",
     "status": "completed"
    },
    "tags": []
   },
   "outputs": [
    {
     "data": {
      "text/plain": [
       "[['John', 'Bowers'], ['John', 'E', 'Bowers'], ['Levi', 'Stuber']]"
      ]
     },
     "execution_count": 57,
     "metadata": {},
     "output_type": "execute_result"
    }
   ],
   "source": [
    "P[1000]"
   ]
  },
  {
   "cell_type": "code",
   "execution_count": 58,
   "id": "8da402a7",
   "metadata": {
    "execution": {
     "iopub.execute_input": "2022-06-15T18:33:27.399075Z",
     "iopub.status.busy": "2022-06-15T18:33:27.398238Z",
     "iopub.status.idle": "2022-06-15T18:33:27.403980Z",
     "shell.execute_reply": "2022-06-15T18:33:27.403101Z"
    },
    "papermill": {
     "duration": 0.049656,
     "end_time": "2022-06-15T18:33:27.406757",
     "exception": false,
     "start_time": "2022-06-15T18:33:27.357101",
     "status": "completed"
    },
    "tags": []
   },
   "outputs": [],
   "source": [
    "l=[[['I', 'C', 'Meekins'], ['Isaac', 'C', 'Meekins'], ['E', 'H', 'Walker']],[['John', 'Bowers'], ['John', 'E', 'Bowers'], ['Levi', 'Stuber']]]"
   ]
  },
  {
   "cell_type": "code",
   "execution_count": 59,
   "id": "1c5e58c1",
   "metadata": {
    "execution": {
     "iopub.execute_input": "2022-06-15T18:33:27.486851Z",
     "iopub.status.busy": "2022-06-15T18:33:27.486036Z",
     "iopub.status.idle": "2022-06-15T18:33:27.490109Z",
     "shell.execute_reply": "2022-06-15T18:33:27.489373Z"
    },
    "papermill": {
     "duration": 0.046719,
     "end_time": "2022-06-15T18:33:27.492522",
     "exception": false,
     "start_time": "2022-06-15T18:33:27.445803",
     "status": "completed"
    },
    "tags": []
   },
   "outputs": [],
   "source": [
    "# fiPer=[]\n",
    "# for i in l:\n",
    "   \n",
    "#     L=[]\n",
    "#     for j in range(len(i)-1):\n",
    "#         if ((i[j][0]==i[j+1][0]) & (i[j][len(i[j])]==i[j+1][len(i[j])])) |(i[j][0]==i[j+1][0]):\n",
    "#                 continue\n",
    "#         L.append(i[j])\n",
    "#     fiPer.append(L)"
   ]
  },
  {
   "cell_type": "code",
   "execution_count": 60,
   "id": "006cf796",
   "metadata": {
    "execution": {
     "iopub.execute_input": "2022-06-15T18:33:27.573045Z",
     "iopub.status.busy": "2022-06-15T18:33:27.572314Z",
     "iopub.status.idle": "2022-06-15T18:33:27.576579Z",
     "shell.execute_reply": "2022-06-15T18:33:27.575575Z"
    },
    "papermill": {
     "duration": 0.047287,
     "end_time": "2022-06-15T18:33:27.579580",
     "exception": false,
     "start_time": "2022-06-15T18:33:27.532293",
     "status": "completed"
    },
    "tags": []
   },
   "outputs": [],
   "source": [
    "# fiPer"
   ]
  },
  {
   "cell_type": "code",
   "execution_count": 61,
   "id": "8d212518",
   "metadata": {
    "execution": {
     "iopub.execute_input": "2022-06-15T18:33:27.659868Z",
     "iopub.status.busy": "2022-06-15T18:33:27.659074Z",
     "iopub.status.idle": "2022-06-15T18:33:27.663759Z",
     "shell.execute_reply": "2022-06-15T18:33:27.662941Z"
    },
    "papermill": {
     "duration": 0.047013,
     "end_time": "2022-06-15T18:33:27.666191",
     "exception": false,
     "start_time": "2022-06-15T18:33:27.619178",
     "status": "completed"
    },
    "tags": []
   },
   "outputs": [],
   "source": [
    "# fiPer=[]\n",
    "# for i in l:\n",
    "   \n",
    "#     L=[]\n",
    "#     for j in range(len(i)):\n",
    "#         if ((i[j][0]==i[j+1][0]) & (i[j][len(i[j])-1]==i[j+1][len(i[j])-1])) | (i[j][0]==i[j+1][0]):\n",
    "#                  print(i[j])\n",
    "\n",
    "        \n",
    "                \n",
    "                \n",
    "            \n",
    "        \n",
    "        "
   ]
  },
  {
   "cell_type": "code",
   "execution_count": null,
   "id": "f89d9392",
   "metadata": {
    "papermill": {
     "duration": 0.037714,
     "end_time": "2022-06-15T18:33:27.747050",
     "exception": false,
     "start_time": "2022-06-15T18:33:27.709336",
     "status": "completed"
    },
    "tags": []
   },
   "outputs": [],
   "source": []
  },
  {
   "cell_type": "markdown",
   "id": "5aa9bfb9",
   "metadata": {
    "papermill": {
     "duration": 0.038462,
     "end_time": "2022-06-15T18:33:27.823853",
     "exception": false,
     "start_time": "2022-06-15T18:33:27.785391",
     "status": "completed"
    },
    "tags": []
   },
   "source": [
    "##### "
   ]
  }
 ],
 "metadata": {
  "kernelspec": {
   "display_name": "Python 3",
   "language": "python",
   "name": "python3"
  },
  "language_info": {
   "codemirror_mode": {
    "name": "ipython",
    "version": 3
   },
   "file_extension": ".py",
   "mimetype": "text/x-python",
   "name": "python",
   "nbconvert_exporter": "python",
   "pygments_lexer": "ipython3",
   "version": "3.7.12"
  },
  "papermill": {
   "default_parameters": {},
   "duration": 116.716337,
   "end_time": "2022-06-15T18:33:30.488534",
   "environment_variables": {},
   "exception": null,
   "input_path": "__notebook__.ipynb",
   "output_path": "__notebook__.ipynb",
   "parameters": {},
   "start_time": "2022-06-15T18:31:33.772197",
   "version": "2.3.4"
  }
 },
 "nbformat": 4,
 "nbformat_minor": 5
}
