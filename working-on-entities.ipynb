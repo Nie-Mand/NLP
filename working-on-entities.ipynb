{
 "cells": [
  {
   "cell_type": "code",
   "execution_count": 1,
   "id": "f0f89758",
   "metadata": {
    "_cell_guid": "b1076dfc-b9ad-4769-8c92-a6c4dae69d19",
    "_uuid": "8f2839f25d086af736a60e9eeb907d3b93b6e0e5",
    "execution": {
     "iopub.execute_input": "2022-06-15T18:27:38.094857Z",
     "iopub.status.busy": "2022-06-15T18:27:38.093900Z",
     "iopub.status.idle": "2022-06-15T18:27:46.719299Z",
     "shell.execute_reply": "2022-06-15T18:27:46.718058Z"
    },
    "papermill": {
     "duration": 8.649963,
     "end_time": "2022-06-15T18:27:46.722340",
     "exception": false,
     "start_time": "2022-06-15T18:27:38.072377",
     "status": "completed"
    },
    "tags": []
   },
   "outputs": [],
   "source": [
    "import numpy as np\n",
    "import pandas as pd \n",
    "import seaborn as sns\n",
    "import matplotlib.pyplot as plt \n",
    "import matplotlib.style as stl \n",
    "from tensorflow import keras \n",
    "from keras.preprocessing.text import Tokenizer\n",
    "from nltk.corpus import stopwords\n",
    "import string\n",
    "from tensorflow.keras.models import Sequential,Model\n",
    "from tensorflow.keras.layers import Dense, LSTM, Embedding,Dropout,SpatialDropout1D,Conv1D,MaxPooling1D,GRU,BatchNormalization\n",
    "import warnings\n",
    "warnings.filterwarnings('ignore')\n",
    "stl.use('ggplot')\n",
    "from tqdm import tqdm\n",
    "import string\n",
    "from nltk.corpus import stopwords\n",
    "from nltk.tokenize import word_tokenize\n",
    "from nltk.stem import WordNetLemmatizer\n",
    "from nltk.stem.snowball import SnowballStemmer\n",
    "import regex as re\n",
    "import pickle"
   ]
  },
  {
   "cell_type": "code",
   "execution_count": 2,
   "id": "3aab5a7c",
   "metadata": {
    "execution": {
     "iopub.execute_input": "2022-06-15T18:27:46.762191Z",
     "iopub.status.busy": "2022-06-15T18:27:46.761337Z",
     "iopub.status.idle": "2022-06-15T18:28:43.895588Z",
     "shell.execute_reply": "2022-06-15T18:28:43.894108Z"
    },
    "papermill": {
     "duration": 57.157201,
     "end_time": "2022-06-15T18:28:43.898521",
     "exception": false,
     "start_time": "2022-06-15T18:27:46.741320",
     "status": "completed"
    },
    "tags": []
   },
   "outputs": [
    {
     "name": "stdout",
     "output_type": "stream",
     "text": [
      "Collecting flair\r\n",
      "  Downloading flair-0.11.3-py3-none-any.whl (401 kB)\r\n",
      "\u001b[2K     \u001b[90m━━━━━━━━━━━━━━━━━━━━━━━━━━━━━━━━━━━━━\u001b[0m \u001b[32m401.9/401.9 kB\u001b[0m \u001b[31m652.3 kB/s\u001b[0m eta \u001b[36m0:00:00\u001b[0m\r\n",
      "\u001b[?25hCollecting gdown==4.4.0\r\n",
      "  Downloading gdown-4.4.0.tar.gz (14 kB)\r\n",
      "  Installing build dependencies ... \u001b[?25l-\b \b\\\b \b|\b \b/\b \b-\b \b\\\b \bdone\r\n",
      "\u001b[?25h  Getting requirements to build wheel ... \u001b[?25l-\b \b\\\b \b|\b \b/\b \b-\b \bdone\r\n",
      "\u001b[?25h  Preparing metadata (pyproject.toml) ... \u001b[?25l-\b \b\\\b \b|\b \b/\b \b-\b \bdone\r\n",
      "\u001b[?25hRequirement already satisfied: hyperopt>=0.2.7 in /opt/conda/lib/python3.7/site-packages (from flair) (0.2.7)\r\n",
      "Requirement already satisfied: tabulate in /opt/conda/lib/python3.7/site-packages (from flair) (0.8.9)\r\n",
      "Collecting langdetect\r\n",
      "  Downloading langdetect-1.0.9.tar.gz (981 kB)\r\n",
      "\u001b[2K     \u001b[90m━━━━━━━━━━━━━━━━━━━━━━━━━━━━━━━━━━━━━━━\u001b[0m \u001b[32m981.5/981.5 kB\u001b[0m \u001b[31m3.6 MB/s\u001b[0m eta \u001b[36m0:00:00\u001b[0m\r\n",
      "\u001b[?25h  Preparing metadata (setup.py) ... \u001b[?25l-\b \bdone\r\n",
      "\u001b[?25hRequirement already satisfied: more-itertools in /opt/conda/lib/python3.7/site-packages (from flair) (8.13.0)\r\n",
      "Collecting sentencepiece==0.1.95\r\n",
      "  Downloading sentencepiece-0.1.95-cp37-cp37m-manylinux2014_x86_64.whl (1.2 MB)\r\n",
      "\u001b[2K     \u001b[90m━━━━━━━━━━━━━━━━━━━━━━━━━━━━━━━━━━━━━━━━\u001b[0m \u001b[32m1.2/1.2 MB\u001b[0m \u001b[31m10.7 MB/s\u001b[0m eta \u001b[36m0:00:00\u001b[0m\r\n",
      "\u001b[?25hRequirement already satisfied: transformers>=4.0.0 in /opt/conda/lib/python3.7/site-packages (from flair) (4.18.0)\r\n",
      "Collecting konoha<5.0.0,>=4.0.0\r\n",
      "  Downloading konoha-4.6.5-py3-none-any.whl (20 kB)\r\n",
      "Collecting sqlitedict>=1.6.0\r\n",
      "  Downloading sqlitedict-2.0.0.tar.gz (46 kB)\r\n",
      "\u001b[2K     \u001b[90m━━━━━━━━━━━━━━━━━━━━━━━━━━━━━━━━━━━━━━━━\u001b[0m \u001b[32m46.3/46.3 kB\u001b[0m \u001b[31m3.1 MB/s\u001b[0m eta \u001b[36m0:00:00\u001b[0m\r\n",
      "\u001b[?25h  Preparing metadata (setup.py) ... \u001b[?25l-\b \bdone\r\n",
      "\u001b[?25hCollecting pptree\r\n",
      "  Downloading pptree-3.1.tar.gz (3.0 kB)\r\n",
      "  Preparing metadata (setup.py) ... \u001b[?25l-\b \bdone\r\n",
      "\u001b[?25hRequirement already satisfied: gensim>=3.4.0 in /opt/conda/lib/python3.7/site-packages (from flair) (4.0.1)\r\n",
      "Requirement already satisfied: torch!=1.8,>=1.5.0 in /opt/conda/lib/python3.7/site-packages (from flair) (1.11.0+cpu)\r\n",
      "Collecting wikipedia-api\r\n",
      "  Downloading Wikipedia-API-0.5.4.tar.gz (18 kB)\r\n",
      "  Preparing metadata (setup.py) ... \u001b[?25l-\b \bdone\r\n",
      "\u001b[?25hRequirement already satisfied: janome in /opt/conda/lib/python3.7/site-packages (from flair) (0.4.2)\r\n",
      "Requirement already satisfied: huggingface-hub in /opt/conda/lib/python3.7/site-packages (from flair) (0.5.1)\r\n",
      "Collecting deprecated>=1.2.4\r\n",
      "  Downloading Deprecated-1.2.13-py2.py3-none-any.whl (9.6 kB)\r\n",
      "Collecting conllu>=4.0\r\n",
      "  Downloading conllu-4.4.2-py2.py3-none-any.whl (15 kB)\r\n",
      "Requirement already satisfied: lxml in /opt/conda/lib/python3.7/site-packages (from flair) (4.8.0)\r\n",
      "Collecting mpld3==0.3\r\n",
      "  Downloading mpld3-0.3.tar.gz (788 kB)\r\n",
      "\u001b[2K     \u001b[90m━━━━━━━━━━━━━━━━━━━━━━━━━━━━━━━━━━━━━━\u001b[0m \u001b[32m788.5/788.5 kB\u001b[0m \u001b[31m15.2 MB/s\u001b[0m eta \u001b[36m0:00:00\u001b[0m\r\n",
      "\u001b[?25h  Preparing metadata (setup.py) ... \u001b[?25l-\b \bdone\r\n",
      "\u001b[?25hRequirement already satisfied: tqdm>=4.26.0 in /opt/conda/lib/python3.7/site-packages (from flair) (4.64.0)\r\n",
      "Requirement already satisfied: python-dateutil>=2.6.1 in /opt/conda/lib/python3.7/site-packages (from flair) (2.8.2)\r\n",
      "Requirement already satisfied: scikit-learn>=0.21.3 in /opt/conda/lib/python3.7/site-packages (from flair) (1.0.2)\r\n",
      "Requirement already satisfied: regex in /opt/conda/lib/python3.7/site-packages (from flair) (2021.11.10)\r\n",
      "Collecting bpemb>=0.3.2\r\n",
      "  Downloading bpemb-0.3.3-py3-none-any.whl (19 kB)\r\n",
      "Collecting ftfy\r\n",
      "  Downloading ftfy-6.1.1-py3-none-any.whl (53 kB)\r\n",
      "\u001b[2K     \u001b[90m━━━━━━━━━━━━━━━━━━━━━━━━━━━━━━━━━━━━━━━━\u001b[0m \u001b[32m53.1/53.1 kB\u001b[0m \u001b[31m3.5 MB/s\u001b[0m eta \u001b[36m0:00:00\u001b[0m\r\n",
      "\u001b[?25hRequirement already satisfied: matplotlib>=2.2.3 in /opt/conda/lib/python3.7/site-packages (from flair) (3.5.2)\r\n",
      "Collecting segtok>=1.5.7\r\n",
      "  Downloading segtok-1.5.11-py3-none-any.whl (24 kB)\r\n",
      "Requirement already satisfied: beautifulsoup4 in /opt/conda/lib/python3.7/site-packages (from gdown==4.4.0->flair) (4.11.1)\r\n",
      "Requirement already satisfied: requests[socks] in /opt/conda/lib/python3.7/site-packages (from gdown==4.4.0->flair) (2.27.1)\r\n",
      "Requirement already satisfied: filelock in /opt/conda/lib/python3.7/site-packages (from gdown==4.4.0->flair) (3.6.0)\r\n",
      "Requirement already satisfied: six in /opt/conda/lib/python3.7/site-packages (from gdown==4.4.0->flair) (1.16.0)\r\n",
      "Requirement already satisfied: numpy in /opt/conda/lib/python3.7/site-packages (from bpemb>=0.3.2->flair) (1.21.6)\r\n",
      "Requirement already satisfied: wrapt<2,>=1.10 in /opt/conda/lib/python3.7/site-packages (from deprecated>=1.2.4->flair) (1.14.1)\r\n",
      "Requirement already satisfied: smart-open>=1.8.1 in /opt/conda/lib/python3.7/site-packages (from gensim>=3.4.0->flair) (5.2.1)\r\n",
      "Requirement already satisfied: scipy>=0.18.1 in /opt/conda/lib/python3.7/site-packages (from gensim>=3.4.0->flair) (1.7.3)\r\n",
      "Requirement already satisfied: cloudpickle in /opt/conda/lib/python3.7/site-packages (from hyperopt>=0.2.7->flair) (2.0.0)\r\n",
      "Requirement already satisfied: py4j in /opt/conda/lib/python3.7/site-packages (from hyperopt>=0.2.7->flair) (0.10.9.5)\r\n",
      "Requirement already satisfied: networkx>=2.2 in /opt/conda/lib/python3.7/site-packages (from hyperopt>=0.2.7->flair) (2.5)\r\n",
      "Requirement already satisfied: future in /opt/conda/lib/python3.7/site-packages (from hyperopt>=0.2.7->flair) (0.18.2)\r\n",
      "Collecting overrides<4.0.0,>=3.0.0\r\n",
      "  Downloading overrides-3.1.0.tar.gz (11 kB)\r\n",
      "  Preparing metadata (setup.py) ... \u001b[?25l-\b \bdone\r\n",
      "\u001b[?25hCollecting importlib-metadata<4.0.0,>=3.7.0\r\n",
      "  Downloading importlib_metadata-3.10.1-py3-none-any.whl (14 kB)\r\n",
      "Requirement already satisfied: kiwisolver>=1.0.1 in /opt/conda/lib/python3.7/site-packages (from matplotlib>=2.2.3->flair) (1.4.2)\r\n",
      "Requirement already satisfied: pyparsing>=2.2.1 in /opt/conda/lib/python3.7/site-packages (from matplotlib>=2.2.3->flair) (3.0.9)\r\n",
      "Requirement already satisfied: cycler>=0.10 in /opt/conda/lib/python3.7/site-packages (from matplotlib>=2.2.3->flair) (0.11.0)\r\n",
      "Requirement already satisfied: packaging>=20.0 in /opt/conda/lib/python3.7/site-packages (from matplotlib>=2.2.3->flair) (21.3)\r\n",
      "Requirement already satisfied: fonttools>=4.22.0 in /opt/conda/lib/python3.7/site-packages (from matplotlib>=2.2.3->flair) (4.33.3)\r\n",
      "Requirement already satisfied: pillow>=6.2.0 in /opt/conda/lib/python3.7/site-packages (from matplotlib>=2.2.3->flair) (9.1.0)\r\n",
      "Requirement already satisfied: threadpoolctl>=2.0.0 in /opt/conda/lib/python3.7/site-packages (from scikit-learn>=0.21.3->flair) (3.1.0)\r\n",
      "Requirement already satisfied: joblib>=0.11 in /opt/conda/lib/python3.7/site-packages (from scikit-learn>=0.21.3->flair) (1.1.0)\r\n",
      "Requirement already satisfied: typing-extensions in /opt/conda/lib/python3.7/site-packages (from torch!=1.8,>=1.5.0->flair) (4.2.0)\r\n",
      "Requirement already satisfied: tokenizers!=0.11.3,<0.13,>=0.11.1 in /opt/conda/lib/python3.7/site-packages (from transformers>=4.0.0->flair) (0.12.1)\r\n",
      "Requirement already satisfied: pyyaml>=5.1 in /opt/conda/lib/python3.7/site-packages (from transformers>=4.0.0->flair) (6.0)\r\n",
      "Requirement already satisfied: sacremoses in /opt/conda/lib/python3.7/site-packages (from transformers>=4.0.0->flair) (0.0.53)\r\n",
      "Requirement already satisfied: wcwidth>=0.2.5 in /opt/conda/lib/python3.7/site-packages (from ftfy->flair) (0.2.5)\r\n",
      "Requirement already satisfied: zipp>=0.5 in /opt/conda/lib/python3.7/site-packages (from importlib-metadata<4.0.0,>=3.7.0->konoha<5.0.0,>=4.0.0->flair) (3.8.0)\r\n",
      "Requirement already satisfied: decorator>=4.3.0 in /opt/conda/lib/python3.7/site-packages (from networkx>=2.2->hyperopt>=0.2.7->flair) (5.1.1)\r\n",
      "Requirement already satisfied: idna<4,>=2.5 in /opt/conda/lib/python3.7/site-packages (from requests[socks]->gdown==4.4.0->flair) (3.3)\r\n",
      "Requirement already satisfied: urllib3<1.27,>=1.21.1 in /opt/conda/lib/python3.7/site-packages (from requests[socks]->gdown==4.4.0->flair) (1.26.9)\r\n",
      "Requirement already satisfied: charset-normalizer~=2.0.0 in /opt/conda/lib/python3.7/site-packages (from requests[socks]->gdown==4.4.0->flair) (2.0.12)\r\n",
      "Requirement already satisfied: certifi>=2017.4.17 in /opt/conda/lib/python3.7/site-packages (from requests[socks]->gdown==4.4.0->flair) (2022.5.18.1)\r\n",
      "Requirement already satisfied: soupsieve>1.2 in /opt/conda/lib/python3.7/site-packages (from beautifulsoup4->gdown==4.4.0->flair) (2.3.1)\r\n",
      "Requirement already satisfied: PySocks!=1.5.7,>=1.5.6 in /opt/conda/lib/python3.7/site-packages (from requests[socks]->gdown==4.4.0->flair) (1.7.1)\r\n",
      "Requirement already satisfied: click in /opt/conda/lib/python3.7/site-packages (from sacremoses->transformers>=4.0.0->flair) (8.0.4)\r\n",
      "Building wheels for collected packages: gdown, mpld3, sqlitedict, langdetect, pptree, wikipedia-api, overrides\r\n",
      "  Building wheel for gdown (pyproject.toml) ... \u001b[?25l-\b \b\\\b \b|\b \b/\b \b-\b \b\\\b \b|\b \b/\b \b-\b \bdone\r\n",
      "\u001b[?25h  Created wheel for gdown: filename=gdown-4.4.0-py3-none-any.whl size=14759 sha256=6ee006b18fa77f772656c1bee3efa0efc1fc7ffcc0440a4c5f2af1fef627282b\r\n",
      "  Stored in directory: /root/.cache/pip/wheels/fb/c3/0e/c4d8ff8bfcb0461afff199471449f642179b74968c15b7a69c\r\n",
      "  Building wheel for mpld3 (setup.py) ... \u001b[?25l-\b \b\\\b \bdone\r\n",
      "\u001b[?25h  Created wheel for mpld3: filename=mpld3-0.3-py3-none-any.whl size=116702 sha256=96f0da89cdfec0471b891d4b02b89c2bb48fef9ee8a141383e3cc46aeb6ace5e\r\n",
      "  Stored in directory: /root/.cache/pip/wheels/26/70/6a/1c79e59951a41b4045497da187b2724f5659ca64033cf4548e\r\n",
      "  Building wheel for sqlitedict (setup.py) ... \u001b[?25l-\b \bdone\r\n",
      "\u001b[?25h  Created wheel for sqlitedict: filename=sqlitedict-2.0.0-py3-none-any.whl size=15736 sha256=b6953aacfc3cf5901fa15583ad0fb9ae10063d2c193d3663edb23b5a09fe9263\r\n",
      "  Stored in directory: /root/.cache/pip/wheels/96/dd/2e/0ed4a25cb73fc30c7ea8d10b50acb7226175736067e40a7ea3\r\n",
      "  Building wheel for langdetect (setup.py) ... \u001b[?25l-\b \b\\\b \b|\b \b/\b \bdone\r\n",
      "\u001b[?25h  Created wheel for langdetect: filename=langdetect-1.0.9-py3-none-any.whl size=993242 sha256=8c7d6388d04158cd11e8d22b100a9118cff9ea67ef41ec8e873724a5721f33df\r\n",
      "  Stored in directory: /root/.cache/pip/wheels/c5/96/8a/f90c59ed25d75e50a8c10a1b1c2d4c402e4dacfa87f3aff36a\r\n",
      "  Building wheel for pptree (setup.py) ... \u001b[?25l-\b \b\\\b \bdone\r\n",
      "\u001b[?25h  Created wheel for pptree: filename=pptree-3.1-py3-none-any.whl size=4629 sha256=c2eb7919403bb80f755e65e61f7a75ae25086eaa8072e834724f441c9cda7849\r\n",
      "  Stored in directory: /root/.cache/pip/wheels/9e/e8/7d/a9c3c19b4722608a0d8b05a38c36bc3f230c43becd2a46794b\r\n",
      "  Building wheel for wikipedia-api (setup.py) ... \u001b[?25l-\b \b\\\b \bdone\r\n",
      "\u001b[?25h  Created wheel for wikipedia-api: filename=Wikipedia_API-0.5.4-py3-none-any.whl size=13477 sha256=37a57082f0109f9c19da3c2d01a36034f1ee9dfef6c52bd68eba45176f95088a\r\n",
      "  Stored in directory: /root/.cache/pip/wheels/d3/24/56/58ba93cf78be162451144e7a9889603f437976ef1ae7013d04\r\n",
      "  Building wheel for overrides (setup.py) ... \u001b[?25l-\b \b\\\b \bdone\r\n",
      "\u001b[?25h  Created wheel for overrides: filename=overrides-3.1.0-py3-none-any.whl size=10187 sha256=c7f5e737f195ddeb955f25d8a88d0f69816cf29435b1aa5c84dd7b867c231902\r\n",
      "  Stored in directory: /root/.cache/pip/wheels/3a/0d/38/01a9bc6e20dcfaf0a6a7b552d03137558ba1c38aea47644682\r\n",
      "Successfully built gdown mpld3 sqlitedict langdetect pptree wikipedia-api overrides\r\n",
      "Installing collected packages: sqlitedict, sentencepiece, pptree, overrides, mpld3, segtok, langdetect, importlib-metadata, ftfy, deprecated, conllu, wikipedia-api, konoha, gdown, bpemb, flair\r\n",
      "  Attempting uninstall: sentencepiece\r\n",
      "    Found existing installation: sentencepiece 0.1.96\r\n",
      "    Uninstalling sentencepiece-0.1.96:\r\n",
      "      Successfully uninstalled sentencepiece-0.1.96\r\n",
      "  Attempting uninstall: overrides\r\n",
      "    Found existing installation: overrides 6.1.0\r\n",
      "    Uninstalling overrides-6.1.0:\r\n",
      "      Successfully uninstalled overrides-6.1.0\r\n",
      "  Attempting uninstall: mpld3\r\n",
      "    Found existing installation: mpld3 0.5.7\r\n",
      "    Uninstalling mpld3-0.5.7:\r\n",
      "      Successfully uninstalled mpld3-0.5.7\r\n",
      "  Attempting uninstall: importlib-metadata\r\n",
      "    Found existing installation: importlib-metadata 4.11.4\r\n",
      "    Uninstalling importlib-metadata-4.11.4:\r\n",
      "      Successfully uninstalled importlib-metadata-4.11.4\r\n",
      "\u001b[31mERROR: pip's dependency resolver does not currently take into account all the packages that are installed. This behaviour is the source of the following dependency conflicts.\r\n",
      "markdown 3.3.7 requires importlib-metadata>=4.4; python_version < \"3.10\", but you have importlib-metadata 3.10.1 which is incompatible.\r\n",
      "ibis-framework 2.1.1 requires importlib-metadata<5,>=4; python_version < \"3.8\", but you have importlib-metadata 3.10.1 which is incompatible.\r\n",
      "gym 0.23.1 requires importlib-metadata>=4.10.0; python_version < \"3.10\", but you have importlib-metadata 3.10.1 which is incompatible.\r\n",
      "google-cloud-pubsublite 1.4.2 requires overrides<7.0.0,>=6.0.1, but you have overrides 3.1.0 which is incompatible.\u001b[0m\u001b[31m\r\n",
      "\u001b[0mSuccessfully installed bpemb-0.3.3 conllu-4.4.2 deprecated-1.2.13 flair-0.11.3 ftfy-6.1.1 gdown-4.4.0 importlib-metadata-3.10.1 konoha-4.6.5 langdetect-1.0.9 mpld3-0.3 overrides-3.1.0 pptree-3.1 segtok-1.5.11 sentencepiece-0.1.95 sqlitedict-2.0.0 wikipedia-api-0.5.4\r\n",
      "\u001b[33mWARNING: Running pip as the 'root' user can result in broken permissions and conflicting behaviour with the system package manager. It is recommended to use a virtual environment instead: https://pip.pypa.io/warnings/venv\u001b[0m\u001b[33m\r\n",
      "\u001b[0m"
     ]
    }
   ],
   "source": [
    "!pip install flair"
   ]
  },
  {
   "cell_type": "markdown",
   "id": "cb25eba7",
   "metadata": {
    "papermill": {
     "duration": 0.033394,
     "end_time": "2022-06-15T18:28:43.968753",
     "exception": false,
     "start_time": "2022-06-15T18:28:43.935359",
     "status": "completed"
    },
    "tags": []
   },
   "source": [
    "# Audf"
   ]
  },
  {
   "cell_type": "code",
   "execution_count": 3,
   "id": "0fea65ad",
   "metadata": {
    "execution": {
     "iopub.execute_input": "2022-06-15T18:28:44.038824Z",
     "iopub.status.busy": "2022-06-15T18:28:44.038320Z",
     "iopub.status.idle": "2022-06-15T18:28:51.473813Z",
     "shell.execute_reply": "2022-06-15T18:28:51.472799Z"
    },
    "papermill": {
     "duration": 7.4726,
     "end_time": "2022-06-15T18:28:51.476634",
     "exception": false,
     "start_time": "2022-06-15T18:28:44.004034",
     "status": "completed"
    },
    "tags": []
   },
   "outputs": [],
   "source": [
    "with open('../input/entities/entityAu.pkl', 'rb') as f:\n",
    "    entitiesA = pickle.load(f)"
   ]
  },
  {
   "cell_type": "code",
   "execution_count": 4,
   "id": "db1ebddc",
   "metadata": {
    "execution": {
     "iopub.execute_input": "2022-06-15T18:28:51.534869Z",
     "iopub.status.busy": "2022-06-15T18:28:51.534499Z",
     "iopub.status.idle": "2022-06-15T18:28:52.040828Z",
     "shell.execute_reply": "2022-06-15T18:28:52.039788Z"
    },
    "papermill": {
     "duration": 0.538674,
     "end_time": "2022-06-15T18:28:52.043631",
     "exception": false,
     "start_time": "2022-06-15T18:28:51.504957",
     "status": "completed"
    },
    "tags": []
   },
   "outputs": [],
   "source": [
    "Per=[]\n",
    "Date=[]\n",
    "GPE=[]\n",
    "ORG=[]\n",
    "from flair.data import Sentence\n",
    "\n",
    "Audf=pd.DataFrame({\"text\":\"\", \"PERSON-ontonotes\":[], \"GPE-ontonotes\":\"\",\"ORG-ontonotes\":\"\", \"Date-ontonotes\":\"\"})\n",
    "\n",
    "\n",
    "\n",
    "for i in entitiesA:\n",
    "    \n",
    " dc={}\n",
    " P=[]\n",
    " D=[]\n",
    " G=[]\n",
    " O=[]\n",
    " for entity in i:\n",
    "    if (entity.get_label(\"ner\").score > 0.98) & (entity.get_label(\"ner\").value != \"CARDINAL\") & (entity.get_label(\"ner\").value != \"LAW\")& (entity.get_label(\"ner\").value != \"QUANTITY\") & (entity.get_label(\"ner\").value != \"WORK_OF_ART\") & (entity.get_label(\"ner\").value != \"LAW\")& (entity.get_label(\"ner\").value != \"QUANTITY\") & (entity.get_label(\"ner\").value != \"EVENT\")  :\n",
    "                        dc[entity.text]= entity.get_label(\"ner\").value \n",
    "                        \n",
    "        \n",
    "        \n",
    " for j in dc :\n",
    "                if dc[j]==\"PERSON\":\n",
    "                      P.append(j)\n",
    "                elif dc[j]==\"ORG\":\n",
    "                      O.append(j)\n",
    "                elif dc[j]==\"DATE\":\n",
    "                      D.append(j)\n",
    "                elif dc[j]==\"GPE\":\n",
    "                      G.append(j)\n",
    " Per.append(P)\n",
    " Date.append(D)\n",
    " ORG.append(O)\n",
    " GPE.append(G)\n",
    "            \n",
    "Audf[\"Date-ontonotes\"]=Date\n",
    "Audf[\"PERSON-ontonotes\"]=Per\n",
    "Audf[\"GPE-ontonotes\"]=GPE\n",
    "Audf[\"ORG-ontonotes\"]=ORG    "
   ]
  },
  {
   "cell_type": "code",
   "execution_count": 5,
   "id": "64289a76",
   "metadata": {
    "execution": {
     "iopub.execute_input": "2022-06-15T18:28:52.101343Z",
     "iopub.status.busy": "2022-06-15T18:28:52.100927Z",
     "iopub.status.idle": "2022-06-15T18:28:52.138853Z",
     "shell.execute_reply": "2022-06-15T18:28:52.138020Z"
    },
    "papermill": {
     "duration": 0.06915,
     "end_time": "2022-06-15T18:28:52.140681",
     "exception": false,
     "start_time": "2022-06-15T18:28:52.071531",
     "status": "completed"
    },
    "tags": []
   },
   "outputs": [
    {
     "data": {
      "text/html": [
       "<div>\n",
       "<style scoped>\n",
       "    .dataframe tbody tr th:only-of-type {\n",
       "        vertical-align: middle;\n",
       "    }\n",
       "\n",
       "    .dataframe tbody tr th {\n",
       "        vertical-align: top;\n",
       "    }\n",
       "\n",
       "    .dataframe thead th {\n",
       "        text-align: right;\n",
       "    }\n",
       "</style>\n",
       "<table border=\"1\" class=\"dataframe\">\n",
       "  <thead>\n",
       "    <tr style=\"text-align: right;\">\n",
       "      <th></th>\n",
       "      <th>text</th>\n",
       "      <th>PERSON-ontonotes</th>\n",
       "      <th>GPE-ontonotes</th>\n",
       "      <th>ORG-ontonotes</th>\n",
       "      <th>Date-ontonotes</th>\n",
       "    </tr>\n",
       "  </thead>\n",
       "  <tbody>\n",
       "    <tr>\n",
       "      <th>0</th>\n",
       "      <td>NaN</td>\n",
       "      <td>[I C Meekins, Isaac C. Meekins, E H Walker, Jo...</td>\n",
       "      <td>[Currituck County ,]</td>\n",
       "      <td>[]</td>\n",
       "      <td>[16 day of Sept A.D . , 1865]</td>\n",
       "    </tr>\n",
       "    <tr>\n",
       "      <th>1</th>\n",
       "      <td>NaN</td>\n",
       "      <td>[]</td>\n",
       "      <td>[North Carolina, United States, States]</td>\n",
       "      <td>[Department of Virginia, State]</td>\n",
       "      <td>[1864]</td>\n",
       "    </tr>\n",
       "    <tr>\n",
       "      <th>2</th>\n",
       "      <td>NaN</td>\n",
       "      <td>[W. H. Pearce, W . H. Pearce]</td>\n",
       "      <td>[]</td>\n",
       "      <td>[]</td>\n",
       "      <td>[3rd day of October , A.D. , 1865]</td>\n",
       "    </tr>\n",
       "    <tr>\n",
       "      <th>3</th>\n",
       "      <td>NaN</td>\n",
       "      <td>[]</td>\n",
       "      <td>[North Carolina, United States]</td>\n",
       "      <td>[]</td>\n",
       "      <td>[______ day of ____________ , 1866]</td>\n",
       "    </tr>\n",
       "    <tr>\n",
       "      <th>4</th>\n",
       "      <td>NaN</td>\n",
       "      <td>[S.E . Allen]</td>\n",
       "      <td>[North Carolina, Wake County, United States]</td>\n",
       "      <td>[]</td>\n",
       "      <td>[31st day of May , 1867]</td>\n",
       "    </tr>\n",
       "    <tr>\n",
       "      <th>...</th>\n",
       "      <td>...</td>\n",
       "      <td>...</td>\n",
       "      <td>...</td>\n",
       "      <td>...</td>\n",
       "      <td>...</td>\n",
       "    </tr>\n",
       "    <tr>\n",
       "      <th>2131</th>\n",
       "      <td>NaN</td>\n",
       "      <td>[Geo . Little, Geo . B. Ayer]</td>\n",
       "      <td>[Raleigh, N.C., Wake County, N.C, United State...</td>\n",
       "      <td>[]</td>\n",
       "      <td>[May 26, July 14]</td>\n",
       "    </tr>\n",
       "    <tr>\n",
       "      <th>2132</th>\n",
       "      <td>NaN</td>\n",
       "      <td>[Birnie]</td>\n",
       "      <td>[]</td>\n",
       "      <td>[]</td>\n",
       "      <td>[July 30th 1867]</td>\n",
       "    </tr>\n",
       "    <tr>\n",
       "      <th>2133</th>\n",
       "      <td>NaN</td>\n",
       "      <td>[William Birnie]</td>\n",
       "      <td>[North Carolina, Robeson County, United States]</td>\n",
       "      <td>[]</td>\n",
       "      <td>[30 day of July]</td>\n",
       "    </tr>\n",
       "    <tr>\n",
       "      <th>2134</th>\n",
       "      <td>NaN</td>\n",
       "      <td>[A.L . Price, James Fulton, John D Conoley, Al...</td>\n",
       "      <td>[North Carolina, New Hanover County, New Hanov...</td>\n",
       "      <td>[Fulton Price]</td>\n",
       "      <td>[May 29 1865, 15th Sept 1865, 15th September A...</td>\n",
       "    </tr>\n",
       "    <tr>\n",
       "      <th>2135</th>\n",
       "      <td>NaN</td>\n",
       "      <td>[James Fulton, Wm A. Cutler, Geo W. Pollock, F...</td>\n",
       "      <td>[Wilmington N.C, New Hanover County]</td>\n",
       "      <td>[]</td>\n",
       "      <td>[Sept 22 . 1865, Twentyseventh day of Septembe...</td>\n",
       "    </tr>\n",
       "  </tbody>\n",
       "</table>\n",
       "<p>2136 rows × 5 columns</p>\n",
       "</div>"
      ],
      "text/plain": [
       "     text                                   PERSON-ontonotes  \\\n",
       "0     NaN  [I C Meekins, Isaac C. Meekins, E H Walker, Jo...   \n",
       "1     NaN                                                 []   \n",
       "2     NaN                      [W. H. Pearce, W . H. Pearce]   \n",
       "3     NaN                                                 []   \n",
       "4     NaN                                      [S.E . Allen]   \n",
       "...   ...                                                ...   \n",
       "2131  NaN                      [Geo . Little, Geo . B. Ayer]   \n",
       "2132  NaN                                           [Birnie]   \n",
       "2133  NaN                                   [William Birnie]   \n",
       "2134  NaN  [A.L . Price, James Fulton, John D Conoley, Al...   \n",
       "2135  NaN  [James Fulton, Wm A. Cutler, Geo W. Pollock, F...   \n",
       "\n",
       "                                          GPE-ontonotes  \\\n",
       "0                                  [Currituck County ,]   \n",
       "1               [North Carolina, United States, States]   \n",
       "2                                                    []   \n",
       "3                       [North Carolina, United States]   \n",
       "4          [North Carolina, Wake County, United States]   \n",
       "...                                                 ...   \n",
       "2131  [Raleigh, N.C., Wake County, N.C, United State...   \n",
       "2132                                                 []   \n",
       "2133    [North Carolina, Robeson County, United States]   \n",
       "2134  [North Carolina, New Hanover County, New Hanov...   \n",
       "2135               [Wilmington N.C, New Hanover County]   \n",
       "\n",
       "                        ORG-ontonotes  \\\n",
       "0                                  []   \n",
       "1     [Department of Virginia, State]   \n",
       "2                                  []   \n",
       "3                                  []   \n",
       "4                                  []   \n",
       "...                               ...   \n",
       "2131                               []   \n",
       "2132                               []   \n",
       "2133                               []   \n",
       "2134                   [Fulton Price]   \n",
       "2135                               []   \n",
       "\n",
       "                                         Date-ontonotes  \n",
       "0                         [16 day of Sept A.D . , 1865]  \n",
       "1                                                [1864]  \n",
       "2                    [3rd day of October , A.D. , 1865]  \n",
       "3                   [______ day of ____________ , 1866]  \n",
       "4                              [31st day of May , 1867]  \n",
       "...                                                 ...  \n",
       "2131                                  [May 26, July 14]  \n",
       "2132                                   [July 30th 1867]  \n",
       "2133                                   [30 day of July]  \n",
       "2134  [May 29 1865, 15th Sept 1865, 15th September A...  \n",
       "2135  [Sept 22 . 1865, Twentyseventh day of Septembe...  \n",
       "\n",
       "[2136 rows x 5 columns]"
      ]
     },
     "execution_count": 5,
     "metadata": {},
     "output_type": "execute_result"
    }
   ],
   "source": [
    "Audf"
   ]
  },
  {
   "cell_type": "code",
   "execution_count": 6,
   "id": "77dc3bee",
   "metadata": {
    "execution": {
     "iopub.execute_input": "2022-06-15T18:28:52.199454Z",
     "iopub.status.busy": "2022-06-15T18:28:52.198270Z",
     "iopub.status.idle": "2022-06-15T18:28:52.274957Z",
     "shell.execute_reply": "2022-06-15T18:28:52.273711Z"
    },
    "papermill": {
     "duration": 0.10891,
     "end_time": "2022-06-15T18:28:52.277608",
     "exception": false,
     "start_time": "2022-06-15T18:28:52.168698",
     "status": "completed"
    },
    "tags": []
   },
   "outputs": [],
   "source": [
    "G=[]\n",
    "for i in Audf[\"Date-ontonotes\"]:\n",
    "    M=[]\n",
    "    for j in i:\n",
    "        date=re.search(r'^\\d\\.*.*\\d\\d$' ,j)\n",
    "        date2=re.search(r'^[A-ZZa-z]\\.*.*\\d\\.*.*\\d\\d$' ,j)\n",
    "        M.append(date)\n",
    "        M.append(date2)\n",
    "    G.append(M)\n",
    "    \n",
    "\n",
    "GF=[]\n",
    "for i in G:\n",
    "    Final_date=[]\n",
    "    for j in i:\n",
    "        if j!=None:\n",
    "            Final_date.append(j.group())\n",
    "    GF.append(Final_date)\n",
    "\n",
    "    \n",
    "Audf[\"postDate-ontonotes\"]=GF"
   ]
  },
  {
   "cell_type": "code",
   "execution_count": 7,
   "id": "0fa3b10f",
   "metadata": {
    "execution": {
     "iopub.execute_input": "2022-06-15T18:28:52.335740Z",
     "iopub.status.busy": "2022-06-15T18:28:52.335334Z",
     "iopub.status.idle": "2022-06-15T18:28:52.494423Z",
     "shell.execute_reply": "2022-06-15T18:28:52.493208Z"
    },
    "papermill": {
     "duration": 0.191573,
     "end_time": "2022-06-15T18:28:52.497312",
     "exception": false,
     "start_time": "2022-06-15T18:28:52.305739",
     "status": "completed"
    },
    "tags": []
   },
   "outputs": [],
   "source": [
    "G=[]\n",
    "for i in Audf[\"postDate-ontonotes\"]:\n",
    "    M=[]\n",
    "    for j in i:\n",
    "        Final_date1=re.sub(r'([0-9]{1,2})\\.*.*\\s([A-Z][a-z]\\S*)\\.*.*\\s([0-9]{2,4})',r'\\1-\\2-\\3' ,j)\n",
    "        Final_date2=re.sub(r'([A-Z]\\.*.*)\\s([0-9]{1,2})\\.*.*\\s([0-9]{2,4})',r'\\2-\\1-\\3' ,j)\n",
    "        final_date3=re.sub(r'([A-Z][a-z]\\S*)\\.*.*\\s([A-Z][a-z]\\S*)\\.*.*\\s([0-9]{2,4})',r'\\1-\\2-\\3' ,j)\n",
    "        final_date4=re.sub(r'(^[A-Za-z]\\S*.*.)day\\.*.*\\s([A-Z][a-z]\\S*)\\.*.*\\s([0-9]{2,4})',r'\\1-\\2-\\3' ,j)\n",
    "        if Final_date1 != j:   \n",
    "            M.append(Final_date1)\n",
    "        if Final_date2 != j :\n",
    "            M.append(Final_date2)\n",
    "        if final_date3 != j :\n",
    "            M.append(final_date3)\n",
    "        if final_date4 != j :\n",
    "            M.append(final_date4)\n",
    "    G.append(M)\n",
    "    \n",
    "\n",
    "Audf[\"postDate-ontonotes\"]=G"
   ]
  },
  {
   "cell_type": "code",
   "execution_count": 8,
   "id": "97cceaf8",
   "metadata": {
    "execution": {
     "iopub.execute_input": "2022-06-15T18:28:52.557731Z",
     "iopub.status.busy": "2022-06-15T18:28:52.557304Z",
     "iopub.status.idle": "2022-06-15T18:28:52.664658Z",
     "shell.execute_reply": "2022-06-15T18:28:52.663611Z"
    },
    "papermill": {
     "duration": 0.141774,
     "end_time": "2022-06-15T18:28:52.667349",
     "exception": false,
     "start_time": "2022-06-15T18:28:52.525575",
     "status": "completed"
    },
    "tags": []
   },
   "outputs": [],
   "source": [
    "NG=[]\n",
    "for i in G:\n",
    "    ng=[]\n",
    "    for j in i:\n",
    "        \n",
    "        date=re.findall(r'([0-9]{1,2})-([A-Z][a-z]\\S*)-([0-9]{2,4})',j)\n",
    "        if date !=[]:\n",
    "            dates=[]\n",
    "            for k in date:\n",
    "                for l in k:\n",
    "                    dates.append(l)\n",
    "                \n",
    "                \n",
    "                if dates[1] in [\"August\",\"Aug\",\"augt\",\"AUGUST\",\"Augst\",\"Augt\",\"AUG\",\"Augusta\",\"Aug.\"]:\n",
    "                    dates[1]= \"August\"\n",
    "                elif dates[1] in [\"September\",\"Sept\",\"SEP\",\"Sep\",\"Septr\",\"SEPTEMBER\",'Sepr','Septh',\"Sep.\"]:\n",
    "                    dates[1]= \"Septembre\"\n",
    "                elif dates[1] in [\"October\",\"Oct\",\"OCT\",\"OCTOBER\"]:\n",
    "                    dates[1]= \"October\"\n",
    "                elif dates[1] in [\"November\",\"NOV\",\"Nov\",\"Novmbr\",\"Nvbr\",\"Novb\",\"NOVEMBER\", \"The\",\"Dec\"]:\n",
    "                    dates[1]= \"November\"\n",
    "                elif dates[1] in [\"December\",\"Dec\",\"Decbr\",\"DEC\",\"DECEMBER\",\"Decber\"]:\n",
    "                    dates[1]= \"December\"\n",
    "                elif dates[1] in [\"January\",\"Janry\",\"Jan\",\"Jany\",\"JAN\",\"Janur\",\"JANUARY\"]:\n",
    "                    dates[1]= \"January\"\n",
    "                elif dates[1] in [\"February\",\"Feby\",\"Febry\",\"FEB\",\"FEBRUARY\",\"Feb\"]:\n",
    "                    dates[1]= \"February\"\n",
    "                elif dates[1] in [\"March\",\"Mar\"]:\n",
    "                    dates[1]= \"March\"\n",
    "                elif dates[1] in [\"April\",\"Apl\",\"Aprl\",\"APRIL\",\"Apr\"]:\n",
    "                    dates[1]= \"April\"\n",
    "                elif dates[1] in [\"May\",\"MAY\"]:\n",
    "                    dates[1]= \"May\"\n",
    "                elif dates[1] in [\"JUN\",\"Jun\",\"June\"]:\n",
    "                    dates[1]= \"June\"\n",
    "                elif dates[1] in [\"JULY\",\"July\",\"JUL\"]:\n",
    "                    dates[1]= \"July\"\n",
    "                j = dates[0]+\"-\"+dates[1]+\"-\"+dates[2]\n",
    "                ng.append(j)\n",
    "        else :\n",
    "                date = re.findall(r'(^[A-Za-z]\\S*.*.)-([A-Z][a-z]\\S*)-([0-9]{2,4})',j ) \n",
    "                dates=[]\n",
    "                for k in date:\n",
    "                    for l in k:\n",
    "                        dates.append(l)\n",
    "                \n",
    "                \n",
    "                    if dates[1] in [\"August\",\"Aug\",\"augt\",\"AUGUST\",\"Augst\",'Augt',\"AUG\",\"Augusta\",\"Aug.\"]:\n",
    "                        dates[1]= \"August\"\n",
    "                    elif dates[1] in [\"September\",\"Sept\",\"SEP\",\"Sep\",\"Septr\",\"SEPTEMBER\",\"Sepr\",\"Septh\", \"This\", \"This \",\"Sept.\",\"Sep.\"]:\n",
    "                        dates[1]= \"Septembre\"\n",
    "                    elif dates[1] in [\"October\",\"Oct\",\"OCT\",\"OCTOBER\"]:\n",
    "                        dates[1]= \"October\"\n",
    "                    elif dates[1] in [\"November\",\"NOV\",\"Nov\",\"Novmbr\",\"Nvbr\",\"Novb\",\"NOVEMBER\"]:\n",
    "                        dates[1]= \"November\"\n",
    "                    elif dates[1] in [\"December\",\"Dec\",\"Decbr\",\"DEC\",\"DECEMBER\",\"Decber\",\"Dec.\"]:\n",
    "                        dates[1]= \"December\"\n",
    "                    elif dates[1] in [\"January\",\"Janry\",\"Jan\",\"Jany\",\"JAN\",\"Janur\",\"JANUARY\"]:\n",
    "                        dates[1]= \"January\"\n",
    "                    elif dates[1] in [\"February\",\"Feby\",\"Febry\",\"FEB\",\"FEBRUARY\",\"Feb\"]:\n",
    "                        dates[1]= \"February\"\n",
    "                    elif dates[1] in [\"March\",\"Mar\"]:\n",
    "                        dates[1]= \"March\"\n",
    "                    elif dates[1] in [\"April\",\"Apl\",\"Aprl\",\"APRIL\",\"Apr\"]:\n",
    "                        dates[1]= \"April\"\n",
    "                    elif dates[1] in [\"May\",\"MAY\"]:\n",
    "                        dates[1]= \"May\"\n",
    "                    elif dates[1] in [\"JUN\",\"Jun\",\"June\"]:\n",
    "                        dates[1]= \"June\"\n",
    "                    elif dates[1] in [\"JULY\",\"July\",\"JUL\"]:\n",
    "                        dates[1]= \"July\"\n",
    "                    if dates[0]== \"fifteenth\" :\n",
    "                        dates[0]=\"15\"\n",
    "                    elif (dates[0]==\"sixteenth\") |(dates[0]==\"This 16 \"):\n",
    "                        dates[0]=\"16\"\n",
    "                    elif dates[0]==\"Twenty\":\n",
    "                        dates[0]=\"20\" \n",
    "                    elif dates[0]==\"Twentyseventh\":\n",
    "                        dates[0]=\"27\" \n",
    "                    elif (dates[0]==\"Twenty Eighth\") |(dates[0]==\"TwentyEight\") |(dates[0]==\"TwentyEight \") |(dates[0]==\"Twentyeight\"):\n",
    "                        dates[0]=\"28\"\n",
    "                    elif (dates[0]==\"Ninth\") |(dates[0]==\"Ninth \")|(dates[0]==\"Augusta 9th \") |(dates[0]==\"ninth\") |(dates[0]==\"ninth \")|(dates[0]==\"Augusta 9th\"):\n",
    "                        dates[0]=\"9\"\n",
    "                    \n",
    "                    elif dates[0]=='Seventh':\n",
    "                        dates[0]=\"7\" \n",
    "                    elif (dates[0]=='The') |(dates[0]==\"The 9th\") :\n",
    "                        dates[0]=\"9\"\n",
    "                    elif dates[0]==\"the 9\" :\n",
    "                        dates[0]=\"9\"\n",
    "                    elif (dates[0]==\"Eighth \") |(dates[0]==\"Eighth\") |(dates[0]==\"eighth\") |(dates[0]==\"eighth \"):\n",
    "                        dates[0]=\"8\"\n",
    "                    elif dates[0]==\"Seventh \":\n",
    "                        dates[0]=\"7\"\n",
    "                    elif (dates[0]==\"Twenty ninth \")| (dates[0]==\"Twenty ninth\") | (dates[0]==\"twenty ninth \")|(dates[0]==\"Twenty Ninth \")|(dates[0]==\"Twenty Ninth\") :\n",
    "                        dates[0]=\"29\"\n",
    "                    elif (dates[0]==\"Thirty\") |(dates[0]==\"Thirty \") | (dates[0]==\"thirtieth \"):\n",
    "                        dates[0]=\"30\"\n",
    "                    elif (dates[0]==\"Thirty first \") |(dates[0]==\"Thirty first\"):\n",
    "                        dates[0]=\"31\"\n",
    "                  \n",
    "                    \n",
    "                    elif dates[0]==\"first \":\n",
    "                        dates[0]=\"1\"\n",
    "                    elif (dates[0]==\"Second \") |(dates[0]==\"Second\") |(dates[0]==\"second\")|(dates[0]==\"second \"):\n",
    "                        dates[0]=\"2\"\n",
    "                    elif dates[0]==\"fourth \":\n",
    "                        dates[0]=\"4\"\n",
    "                    elif dates[0]==\"tenth \":\n",
    "                        dates[0]=\"10\"\n",
    "                    elif (dates[0]==\"Fifth \")|(dates[0]==\"Fifth\") |(dates[0]==\"fifth \")|(dates[0]==\"fifth\"):\n",
    "                        dates[0]=\"5\"\n",
    "                    elif (dates[0]==\"This\") | (dates[0]==\"This 7th \")|(dates[0]==\"seventh \") |(dates[0]==\"seventh\") |(dates[0]==\"Seventh \"):\n",
    "                        dates[0]=\"7\"\n",
    "                    elif (dates[0]==\"This 31st\") |(dates[0]==\"Thirty-first \"):\n",
    "                        dates[0]=\"31\"\n",
    "                    elif (dates[0]==\"Thirtieth\") |(dates[0]==\"Thirtieth \") |(dates[0]==\"Thirty\"):\n",
    "                        dates[0]=\"30\"\n",
    "                    elif dates[0]==\"twenty fifth \":\n",
    "                        dates[0]=\"25\"\n",
    "                    elif dates[0]==\"Twenty seventh \":\n",
    "                        dates[0]=\"27\"\n",
    "                    elif (dates[0]==\"Twenty sixth \") |(dates[0]==\"Twentysixth \")|(dates[0]==\"Twentysixth\") |(dates[0]==\"twentysixth \"):\n",
    "                        dates[0]=\"26\"\n",
    "                    elif dates[0]==\"third \":\n",
    "                        dates[0]=\"3\" \n",
    "                    elif dates[0]==\"third\":\n",
    "                        dates[0]=\"3\"\n",
    "                    elif dates[0]==\"Third \":\n",
    "                        dates[0]=\"3\"\n",
    "                    elif dates[0]==\"Third\":\n",
    "                        dates[0]=\"3\"\n",
    "                    \n",
    "                    elif dates[0]==\"Tenth\":\n",
    "                        dates[0]=\"10\" \n",
    "                    elif dates[0]==\"Augusta\":\n",
    "                        dates[0]=\"9\" \n",
    "                    elif (dates[0]==\"this_sixth \")|(dates[0]==\"sixth \")| (dates[0]==\"Sixth\") | (dates[0]==\"Sixth \") |(dates[0]==\"this sixth \"):\n",
    "                        dates[0]=\"6\" \n",
    "                        \n",
    "                    elif dates[0]==\"Tenth \":\n",
    "                        dates[0]=\"10\"\n",
    "                    elif (dates[0]==\"twentieth\")|(dates[0]==\"This 20th \"):\n",
    "                        dates[0]=\"20\"\n",
    "                    elif (dates[0]==\"twenty fourth \") |(dates[0]==\"twenty fourth\") |(dates[0]==\"Twenty fourth \") |(dates[0]==\"Twenty fourth\"):\n",
    "                        dates[0]=\"24\"\n",
    "                    elif (dates[0]==\"fifteenth \") |(dates[0]==\"Fifteenth \") |(dates[0]==\"Fifteenth\"):\n",
    "                        dates[0]=\"15\"\n",
    "                    elif dates[0]==\"twentieth \":\n",
    "                        dates[0]=\"20\"\n",
    "                    elif dates[0]==\"Eighteenth \":\n",
    "                        dates[0]=\"18\"\n",
    "                    elif dates[0]==\"Eighteenth\":\n",
    "                        dates[0]=\"18\"\n",
    "                    elif (dates[0]==\"Nineteenth \") |(dates[0]==\"Nineteenth\"):\n",
    "                        dates[0]=\"19\"\n",
    "                    elif dates[0]==\"First \":\n",
    "                        dates[0]=\"1\"\n",
    "                    elif dates[0]==\"First\":\n",
    "                        dates[0]=\"1\"\n",
    "                    elif (dates[0]==\"Sixteenth \")|(dates[0]==\"this 16\") |(dates[0]==\"Sixteenth\"):\n",
    "                        dates[0]=\"16\"\n",
    "                   \n",
    "                    elif dates[0]==\"twenty third \":\n",
    "                        dates[0]=\"23\"\n",
    "                    elif dates[0]==\"twenty third\":\n",
    "                        dates[0]=\"23\"\n",
    "                    elif dates[0]==\"Twenty third \":\n",
    "                        dates[0]=\"23\"\n",
    "                    elif dates[0]==\"Twenty Second \":\n",
    "                        dates[0]=\"22\"\n",
    "                    elif dates[0]==\"Twenty Second\":\n",
    "                        dates[0]=\"22\"\n",
    "                    elif dates[0]==\"Twenty Eighth \":\n",
    "                        dates[0]=\"28\"\n",
    "                    elif dates[0]==\"Twentysenventh \":\n",
    "                        dates[0]=\"27\"\n",
    "                    elif dates[0]==\"twenty third \":\n",
    "                        dates[0]=\"23\"\n",
    "                    elif (dates[0]==\"twenty third\") |(dates[0]==\"Twentythird\")|(dates[0]==\"Twentythird \"):\n",
    "                        dates[0]=\"23\"\n",
    "                    elif (dates[0]==\"fourteenth \") | (dates[0]==\"fourteenth\") | (dates[0]==\"Fourteenth\") | (dates[0]==\"Fourteenth \"):\n",
    "                        dates[0]=\"14\"\n",
    "                    elif (dates[0]==\"Eleventh \") | (dates[0]==\"Eleventh\") |(dates[0]==\"eleventh \") :\n",
    "                        dates[0]=\"11\"\n",
    "                    elif (dates[0]==\"Thirteenth\") | (dates[0]==\"Thirteenth \") :\n",
    "                        dates[0]=\"13\"\n",
    "                    elif (dates[0]==\"seventeenth \") |(dates[0]==\"seventeenth\") |(dates[0]==\"Seventeenth \") :\n",
    "                        dates[0]=\"17\"\n",
    "                     \n",
    "                     \n",
    "                     \n",
    "                    \n",
    "                        \n",
    "                    j = dates[0]+\"-\"+dates[1]+\"-\"+dates[2]\n",
    "                    ng.append(j)\n",
    "            \n",
    "            \n",
    "    NG.append(ng)   "
   ]
  },
  {
   "cell_type": "markdown",
   "id": "e677e5ff",
   "metadata": {
    "papermill": {
     "duration": 0.027694,
     "end_time": "2022-06-15T18:28:52.723100",
     "exception": false,
     "start_time": "2022-06-15T18:28:52.695406",
     "status": "completed"
    },
    "tags": []
   },
   "source": [
    "**removing duplicated dates**"
   ]
  },
  {
   "cell_type": "code",
   "execution_count": 9,
   "id": "c6b5f96b",
   "metadata": {
    "execution": {
     "iopub.execute_input": "2022-06-15T18:28:52.781245Z",
     "iopub.status.busy": "2022-06-15T18:28:52.780206Z",
     "iopub.status.idle": "2022-06-15T18:28:52.790289Z",
     "shell.execute_reply": "2022-06-15T18:28:52.789513Z"
    },
    "papermill": {
     "duration": 0.041166,
     "end_time": "2022-06-15T18:28:52.792263",
     "exception": false,
     "start_time": "2022-06-15T18:28:52.751097",
     "status": "completed"
    },
    "tags": []
   },
   "outputs": [],
   "source": [
    "def uniqueDate(ite):\n",
    "    seen = set()\n",
    "    result = []\n",
    "    for item in ite:\n",
    "        if item not in seen:\n",
    "            seen.add(item)\n",
    "            result.append(item)\n",
    "    return result\n",
    "Nd=[]\n",
    "for i in NG:\n",
    "    i=uniqueDate(i)\n",
    "    Nd.append(i)"
   ]
  },
  {
   "cell_type": "markdown",
   "id": "403f98bb",
   "metadata": {
    "papermill": {
     "duration": 0.027984,
     "end_time": "2022-06-15T18:28:52.848216",
     "exception": false,
     "start_time": "2022-06-15T18:28:52.820232",
     "status": "completed"
    },
    "tags": []
   },
   "source": [
    "**removing the date of the issue of low**"
   ]
  },
  {
   "cell_type": "code",
   "execution_count": 10,
   "id": "878feecc",
   "metadata": {
    "execution": {
     "iopub.execute_input": "2022-06-15T18:28:52.907174Z",
     "iopub.status.busy": "2022-06-15T18:28:52.906670Z",
     "iopub.status.idle": "2022-06-15T18:28:52.913402Z",
     "shell.execute_reply": "2022-06-15T18:28:52.912139Z"
    },
    "papermill": {
     "duration": 0.039049,
     "end_time": "2022-06-15T18:28:52.915628",
     "exception": false,
     "start_time": "2022-06-15T18:28:52.876579",
     "status": "completed"
    },
    "tags": []
   },
   "outputs": [],
   "source": [
    "for i in Nd:\n",
    "    for j in i:\n",
    "        if j==\"29-May-1865\":\n",
    "            i.remove(j)"
   ]
  },
  {
   "cell_type": "markdown",
   "id": "956f3ec0",
   "metadata": {
    "papermill": {
     "duration": 0.027896,
     "end_time": "2022-06-15T18:28:52.972057",
     "exception": false,
     "start_time": "2022-06-15T18:28:52.944161",
     "status": "completed"
    },
    "tags": []
   },
   "source": [
    "1. if there is 2 dates : the first one almost is the right one \n",
    "1. if there is more than  2 dates the second one almost the right one"
   ]
  },
  {
   "cell_type": "code",
   "execution_count": 11,
   "id": "cddd3c9a",
   "metadata": {
    "execution": {
     "iopub.execute_input": "2022-06-15T18:28:53.030679Z",
     "iopub.status.busy": "2022-06-15T18:28:53.030182Z",
     "iopub.status.idle": "2022-06-15T18:28:53.037967Z",
     "shell.execute_reply": "2022-06-15T18:28:53.037163Z"
    },
    "papermill": {
     "duration": 0.03935,
     "end_time": "2022-06-15T18:28:53.039832",
     "exception": false,
     "start_time": "2022-06-15T18:28:53.000482",
     "status": "completed"
    },
    "tags": []
   },
   "outputs": [],
   "source": [
    "for i in range(len(Nd)):\n",
    "    if len(Nd[i])==2:\n",
    "        Nd[i].remove(Nd[i][1])\n",
    "    elif (len(Nd[i])>2):\n",
    "        v=Nd[i][1]\n",
    "        del(Nd[i][0:])\n",
    "        Nd[i]=[v]"
   ]
  },
  {
   "cell_type": "code",
   "execution_count": 12,
   "id": "91dd3b2e",
   "metadata": {
    "execution": {
     "iopub.execute_input": "2022-06-15T18:28:53.097848Z",
     "iopub.status.busy": "2022-06-15T18:28:53.097350Z",
     "iopub.status.idle": "2022-06-15T18:28:53.104411Z",
     "shell.execute_reply": "2022-06-15T18:28:53.103458Z"
    },
    "papermill": {
     "duration": 0.038907,
     "end_time": "2022-06-15T18:28:53.106644",
     "exception": false,
     "start_time": "2022-06-15T18:28:53.067737",
     "status": "completed"
    },
    "tags": []
   },
   "outputs": [],
   "source": [
    "Audf[\"Dates\"]=Nd"
   ]
  },
  {
   "cell_type": "code",
   "execution_count": 13,
   "id": "d51c2c27",
   "metadata": {
    "execution": {
     "iopub.execute_input": "2022-06-15T18:28:53.165799Z",
     "iopub.status.busy": "2022-06-15T18:28:53.164735Z",
     "iopub.status.idle": "2022-06-15T18:28:53.188488Z",
     "shell.execute_reply": "2022-06-15T18:28:53.187708Z"
    },
    "papermill": {
     "duration": 0.055368,
     "end_time": "2022-06-15T18:28:53.190461",
     "exception": false,
     "start_time": "2022-06-15T18:28:53.135093",
     "status": "completed"
    },
    "tags": []
   },
   "outputs": [
    {
     "data": {
      "text/html": [
       "<div>\n",
       "<style scoped>\n",
       "    .dataframe tbody tr th:only-of-type {\n",
       "        vertical-align: middle;\n",
       "    }\n",
       "\n",
       "    .dataframe tbody tr th {\n",
       "        vertical-align: top;\n",
       "    }\n",
       "\n",
       "    .dataframe thead th {\n",
       "        text-align: right;\n",
       "    }\n",
       "</style>\n",
       "<table border=\"1\" class=\"dataframe\">\n",
       "  <thead>\n",
       "    <tr style=\"text-align: right;\">\n",
       "      <th></th>\n",
       "      <th>text</th>\n",
       "      <th>PERSON-ontonotes</th>\n",
       "      <th>GPE-ontonotes</th>\n",
       "      <th>ORG-ontonotes</th>\n",
       "      <th>Date-ontonotes</th>\n",
       "      <th>postDate-ontonotes</th>\n",
       "      <th>Dates</th>\n",
       "    </tr>\n",
       "  </thead>\n",
       "  <tbody>\n",
       "    <tr>\n",
       "      <th>0</th>\n",
       "      <td>NaN</td>\n",
       "      <td>[I C Meekins, Isaac C. Meekins, E H Walker, Jo...</td>\n",
       "      <td>[Currituck County ,]</td>\n",
       "      <td>[]</td>\n",
       "      <td>[16 day of Sept A.D . , 1865]</td>\n",
       "      <td>[16-Sept-1865]</td>\n",
       "      <td>[16-Septembre-1865]</td>\n",
       "    </tr>\n",
       "    <tr>\n",
       "      <th>1</th>\n",
       "      <td>NaN</td>\n",
       "      <td>[]</td>\n",
       "      <td>[North Carolina, United States, States]</td>\n",
       "      <td>[Department of Virginia, State]</td>\n",
       "      <td>[1864]</td>\n",
       "      <td>[]</td>\n",
       "      <td>[]</td>\n",
       "    </tr>\n",
       "    <tr>\n",
       "      <th>2</th>\n",
       "      <td>NaN</td>\n",
       "      <td>[W. H. Pearce, W . H. Pearce]</td>\n",
       "      <td>[]</td>\n",
       "      <td>[]</td>\n",
       "      <td>[3rd day of October , A.D. , 1865]</td>\n",
       "      <td>[3-October-1865]</td>\n",
       "      <td>[3-October-1865]</td>\n",
       "    </tr>\n",
       "    <tr>\n",
       "      <th>3</th>\n",
       "      <td>NaN</td>\n",
       "      <td>[]</td>\n",
       "      <td>[North Carolina, United States]</td>\n",
       "      <td>[]</td>\n",
       "      <td>[______ day of ____________ , 1866]</td>\n",
       "      <td>[]</td>\n",
       "      <td>[]</td>\n",
       "    </tr>\n",
       "    <tr>\n",
       "      <th>4</th>\n",
       "      <td>NaN</td>\n",
       "      <td>[S.E . Allen]</td>\n",
       "      <td>[North Carolina, Wake County, United States]</td>\n",
       "      <td>[]</td>\n",
       "      <td>[31st day of May , 1867]</td>\n",
       "      <td>[31-May-1867]</td>\n",
       "      <td>[31-May-1867]</td>\n",
       "    </tr>\n",
       "  </tbody>\n",
       "</table>\n",
       "</div>"
      ],
      "text/plain": [
       "  text                                   PERSON-ontonotes  \\\n",
       "0  NaN  [I C Meekins, Isaac C. Meekins, E H Walker, Jo...   \n",
       "1  NaN                                                 []   \n",
       "2  NaN                      [W. H. Pearce, W . H. Pearce]   \n",
       "3  NaN                                                 []   \n",
       "4  NaN                                      [S.E . Allen]   \n",
       "\n",
       "                                  GPE-ontonotes  \\\n",
       "0                          [Currituck County ,]   \n",
       "1       [North Carolina, United States, States]   \n",
       "2                                            []   \n",
       "3               [North Carolina, United States]   \n",
       "4  [North Carolina, Wake County, United States]   \n",
       "\n",
       "                     ORG-ontonotes                       Date-ontonotes  \\\n",
       "0                               []        [16 day of Sept A.D . , 1865]   \n",
       "1  [Department of Virginia, State]                               [1864]   \n",
       "2                               []   [3rd day of October , A.D. , 1865]   \n",
       "3                               []  [______ day of ____________ , 1866]   \n",
       "4                               []             [31st day of May , 1867]   \n",
       "\n",
       "  postDate-ontonotes                Dates  \n",
       "0     [16-Sept-1865]  [16-Septembre-1865]  \n",
       "1                 []                   []  \n",
       "2   [3-October-1865]     [3-October-1865]  \n",
       "3                 []                   []  \n",
       "4      [31-May-1867]        [31-May-1867]  "
      ]
     },
     "execution_count": 13,
     "metadata": {},
     "output_type": "execute_result"
    }
   ],
   "source": [
    "Audf.head()"
   ]
  },
  {
   "cell_type": "code",
   "execution_count": 14,
   "id": "425dbcc1",
   "metadata": {
    "execution": {
     "iopub.execute_input": "2022-06-15T18:28:53.249722Z",
     "iopub.status.busy": "2022-06-15T18:28:53.249247Z",
     "iopub.status.idle": "2022-06-15T18:28:53.255120Z",
     "shell.execute_reply": "2022-06-15T18:28:53.253926Z"
    },
    "papermill": {
     "duration": 0.038118,
     "end_time": "2022-06-15T18:28:53.257249",
     "exception": false,
     "start_time": "2022-06-15T18:28:53.219131",
     "status": "completed"
    },
    "tags": []
   },
   "outputs": [],
   "source": [
    "Audf[\"text\"]=range(2136)"
   ]
  },
  {
   "cell_type": "markdown",
   "id": "a279c4b5",
   "metadata": {
    "papermill": {
     "duration": 0.027952,
     "end_time": "2022-06-15T18:28:53.313412",
     "exception": false,
     "start_time": "2022-06-15T18:28:53.285460",
     "status": "completed"
    },
    "tags": []
   },
   "source": [
    "# dflarge"
   ]
  },
  {
   "cell_type": "code",
   "execution_count": 15,
   "id": "60129708",
   "metadata": {
    "execution": {
     "iopub.execute_input": "2022-06-15T18:28:53.371634Z",
     "iopub.status.busy": "2022-06-15T18:28:53.371240Z",
     "iopub.status.idle": "2022-06-15T18:28:58.921393Z",
     "shell.execute_reply": "2022-06-15T18:28:58.920019Z"
    },
    "papermill": {
     "duration": 5.58229,
     "end_time": "2022-06-15T18:28:58.924058",
     "exception": false,
     "start_time": "2022-06-15T18:28:53.341768",
     "status": "completed"
    },
    "tags": []
   },
   "outputs": [],
   "source": [
    "with open('../input/entities/entityL.pkl', 'rb') as f:\n",
    "    entitiesL= pickle.load(f)"
   ]
  },
  {
   "cell_type": "code",
   "execution_count": 16,
   "id": "a816c275",
   "metadata": {
    "execution": {
     "iopub.execute_input": "2022-06-15T18:28:58.984125Z",
     "iopub.status.busy": "2022-06-15T18:28:58.983369Z",
     "iopub.status.idle": "2022-06-15T18:28:58.989312Z",
     "shell.execute_reply": "2022-06-15T18:28:58.988145Z"
    },
    "papermill": {
     "duration": 0.038203,
     "end_time": "2022-06-15T18:28:58.991179",
     "exception": false,
     "start_time": "2022-06-15T18:28:58.952976",
     "status": "completed"
    },
    "tags": []
   },
   "outputs": [
    {
     "data": {
      "text/plain": [
       "2136"
      ]
     },
     "execution_count": 16,
     "metadata": {},
     "output_type": "execute_result"
    }
   ],
   "source": [
    "len(entitiesL)"
   ]
  },
  {
   "cell_type": "code",
   "execution_count": 17,
   "id": "99c63914",
   "metadata": {
    "execution": {
     "iopub.execute_input": "2022-06-15T18:28:59.051126Z",
     "iopub.status.busy": "2022-06-15T18:28:59.050338Z",
     "iopub.status.idle": "2022-06-15T18:28:59.732473Z",
     "shell.execute_reply": "2022-06-15T18:28:59.731270Z"
    },
    "papermill": {
     "duration": 0.714947,
     "end_time": "2022-06-15T18:28:59.735117",
     "exception": false,
     "start_time": "2022-06-15T18:28:59.020170",
     "status": "completed"
    },
    "tags": []
   },
   "outputs": [],
   "source": [
    "Per=[]\n",
    "ORG=[]\n",
    "LOC=[]\n",
    "from flair.data import Sentence\n",
    "\n",
    "dflarge=pd.DataFrame({\"text\":\"\", \"PERSON-nerenglarge\":[], \"LOC-nerenglarge\":\"\",\"ORG-nerenglarge\":\"\"})\n",
    "for i in entitiesL:\n",
    "    dc={}\n",
    "    P=[]\n",
    "    L=[]\n",
    "    G=[]\n",
    "    O=[]\n",
    "    for entity in i :\n",
    "\n",
    "                     \n",
    "                     if (entity.get_label(\"ner\").score > 0.90) & (entity.get_label(\"ner\").value != \"CARDINAL\") & (entity.get_label(\"ner\").value != \"LAW\")& (entity.get_label(\"ner\").value != \"QUANTITY\") & (entity.get_label(\"ner\").value != \"WORK_OF_ART\") & (entity.get_label(\"ner\").value != \"LAW\")& (entity.get_label(\"ner\").value != \"QUANTITY\") & (entity.get_label(\"ner\").value != \"EVENT\")  :\n",
    "                        dc[entity.text]= entity.get_label(\"ner\").value \n",
    "                       \n",
    "        \n",
    "      \n",
    "    for j in dc :\n",
    "                if dc[j]==\"PER\":\n",
    "                      P.append(j)\n",
    "                elif (dc[j]==\"ORG\") | (dc[j]==\"MISC\") :\n",
    "                      O.append(j)\n",
    "                elif dc[j]==\"LOC\":\n",
    "                      L.append(j)\n",
    "               \n",
    "    Per.append(P)\n",
    "    ORG.append(O)\n",
    "    LOC.append(L)\n",
    "            \n",
    "\n",
    "dflarge[\"PERSON-nerenglarge\"]=Per\n",
    "dflarge[\"LOC-nerenglarge\"]=LOC\n",
    "dflarge[\"ORG-nerenglarge\"]=ORG   "
   ]
  },
  {
   "cell_type": "code",
   "execution_count": 18,
   "id": "91cf75cc",
   "metadata": {
    "execution": {
     "iopub.execute_input": "2022-06-15T18:28:59.794757Z",
     "iopub.status.busy": "2022-06-15T18:28:59.793911Z",
     "iopub.status.idle": "2022-06-15T18:28:59.813075Z",
     "shell.execute_reply": "2022-06-15T18:28:59.812072Z"
    },
    "papermill": {
     "duration": 0.051397,
     "end_time": "2022-06-15T18:28:59.815052",
     "exception": false,
     "start_time": "2022-06-15T18:28:59.763655",
     "status": "completed"
    },
    "tags": []
   },
   "outputs": [
    {
     "data": {
      "text/html": [
       "<div>\n",
       "<style scoped>\n",
       "    .dataframe tbody tr th:only-of-type {\n",
       "        vertical-align: middle;\n",
       "    }\n",
       "\n",
       "    .dataframe tbody tr th {\n",
       "        vertical-align: top;\n",
       "    }\n",
       "\n",
       "    .dataframe thead th {\n",
       "        text-align: right;\n",
       "    }\n",
       "</style>\n",
       "<table border=\"1\" class=\"dataframe\">\n",
       "  <thead>\n",
       "    <tr style=\"text-align: right;\">\n",
       "      <th></th>\n",
       "      <th>text</th>\n",
       "      <th>PERSON-nerenglarge</th>\n",
       "      <th>LOC-nerenglarge</th>\n",
       "      <th>ORG-nerenglarge</th>\n",
       "    </tr>\n",
       "  </thead>\n",
       "  <tbody>\n",
       "    <tr>\n",
       "      <th>0</th>\n",
       "      <td>NaN</td>\n",
       "      <td>[I C Meekins, Almighty, God, Isaac C. Meekins,...</td>\n",
       "      <td>[Currituck County, State of North Carolina, Un...</td>\n",
       "      <td>[Constitution]</td>\n",
       "    </tr>\n",
       "    <tr>\n",
       "      <th>1</th>\n",
       "      <td>NaN</td>\n",
       "      <td>[]</td>\n",
       "      <td>[North Carolina, United States, States]</td>\n",
       "      <td>[Department of Virginia, OATH PAROLE]</td>\n",
       "    </tr>\n",
       "    <tr>\n",
       "      <th>2</th>\n",
       "      <td>NaN</td>\n",
       "      <td>[W. H. Pearce, Almighty, God, E. Ampetts, W . ...</td>\n",
       "      <td>[Craven County, State of NorthCarolina, United...</td>\n",
       "      <td>[Constitution]</td>\n",
       "    </tr>\n",
       "    <tr>\n",
       "      <th>3</th>\n",
       "      <td>NaN</td>\n",
       "      <td>[God]</td>\n",
       "      <td>[State of, North Carolina, United States]</td>\n",
       "      <td>[Constitution]</td>\n",
       "    </tr>\n",
       "    <tr>\n",
       "      <th>4</th>\n",
       "      <td>NaN</td>\n",
       "      <td>[S.E, God, T.D, McAlpine]</td>\n",
       "      <td>[State of, North Carolina, Wake County, United...</td>\n",
       "      <td>[Constitution, Res . Corp]</td>\n",
       "    </tr>\n",
       "  </tbody>\n",
       "</table>\n",
       "</div>"
      ],
      "text/plain": [
       "  text                                 PERSON-nerenglarge  \\\n",
       "0  NaN  [I C Meekins, Almighty, God, Isaac C. Meekins,...   \n",
       "1  NaN                                                 []   \n",
       "2  NaN  [W. H. Pearce, Almighty, God, E. Ampetts, W . ...   \n",
       "3  NaN                                              [God]   \n",
       "4  NaN                          [S.E, God, T.D, McAlpine]   \n",
       "\n",
       "                                     LOC-nerenglarge  \\\n",
       "0  [Currituck County, State of North Carolina, Un...   \n",
       "1            [North Carolina, United States, States]   \n",
       "2  [Craven County, State of NorthCarolina, United...   \n",
       "3          [State of, North Carolina, United States]   \n",
       "4  [State of, North Carolina, Wake County, United...   \n",
       "\n",
       "                         ORG-nerenglarge  \n",
       "0                         [Constitution]  \n",
       "1  [Department of Virginia, OATH PAROLE]  \n",
       "2                         [Constitution]  \n",
       "3                         [Constitution]  \n",
       "4             [Constitution, Res . Corp]  "
      ]
     },
     "execution_count": 18,
     "metadata": {},
     "output_type": "execute_result"
    }
   ],
   "source": [
    "dflarge.head()"
   ]
  },
  {
   "cell_type": "markdown",
   "id": "99e4f192",
   "metadata": {
    "papermill": {
     "duration": 0.028812,
     "end_time": "2022-06-15T18:28:59.872371",
     "exception": false,
     "start_time": "2022-06-15T18:28:59.843559",
     "status": "completed"
    },
    "tags": []
   },
   "source": [
    "# final df"
   ]
  },
  {
   "cell_type": "code",
   "execution_count": 19,
   "id": "cf473022",
   "metadata": {
    "execution": {
     "iopub.execute_input": "2022-06-15T18:28:59.931884Z",
     "iopub.status.busy": "2022-06-15T18:28:59.931373Z",
     "iopub.status.idle": "2022-06-15T18:28:59.941345Z",
     "shell.execute_reply": "2022-06-15T18:28:59.940018Z"
    },
    "papermill": {
     "duration": 0.042659,
     "end_time": "2022-06-15T18:28:59.943582",
     "exception": false,
     "start_time": "2022-06-15T18:28:59.900923",
     "status": "completed"
    },
    "tags": []
   },
   "outputs": [],
   "source": [
    "Audf[\"Person-NerEngLarge\"]=dflarge[\"PERSON-nerenglarge\"]\n",
    "Audf[\"LOC-NerEngLarge\"]=dflarge[\"LOC-nerenglarge\"]\n",
    "Audf[\"ORG-NerEngLarge\"]=dflarge[\"ORG-nerenglarge\"]"
   ]
  },
  {
   "cell_type": "code",
   "execution_count": 20,
   "id": "d34d9bd5",
   "metadata": {
    "execution": {
     "iopub.execute_input": "2022-06-15T18:29:00.002967Z",
     "iopub.status.busy": "2022-06-15T18:29:00.002584Z",
     "iopub.status.idle": "2022-06-15T18:29:00.033731Z",
     "shell.execute_reply": "2022-06-15T18:29:00.032552Z"
    },
    "papermill": {
     "duration": 0.063872,
     "end_time": "2022-06-15T18:29:00.036050",
     "exception": false,
     "start_time": "2022-06-15T18:28:59.972178",
     "status": "completed"
    },
    "tags": []
   },
   "outputs": [
    {
     "data": {
      "text/html": [
       "<div>\n",
       "<style scoped>\n",
       "    .dataframe tbody tr th:only-of-type {\n",
       "        vertical-align: middle;\n",
       "    }\n",
       "\n",
       "    .dataframe tbody tr th {\n",
       "        vertical-align: top;\n",
       "    }\n",
       "\n",
       "    .dataframe thead th {\n",
       "        text-align: right;\n",
       "    }\n",
       "</style>\n",
       "<table border=\"1\" class=\"dataframe\">\n",
       "  <thead>\n",
       "    <tr style=\"text-align: right;\">\n",
       "      <th></th>\n",
       "      <th>text</th>\n",
       "      <th>PERSON-ontonotes</th>\n",
       "      <th>GPE-ontonotes</th>\n",
       "      <th>ORG-ontonotes</th>\n",
       "      <th>Date-ontonotes</th>\n",
       "      <th>postDate-ontonotes</th>\n",
       "      <th>Dates</th>\n",
       "      <th>Person-NerEngLarge</th>\n",
       "      <th>LOC-NerEngLarge</th>\n",
       "      <th>ORG-NerEngLarge</th>\n",
       "    </tr>\n",
       "  </thead>\n",
       "  <tbody>\n",
       "    <tr>\n",
       "      <th>0</th>\n",
       "      <td>0</td>\n",
       "      <td>[I C Meekins, Isaac C. Meekins, E H Walker, Jo...</td>\n",
       "      <td>[Currituck County ,]</td>\n",
       "      <td>[]</td>\n",
       "      <td>[16 day of Sept A.D . , 1865]</td>\n",
       "      <td>[16-Sept-1865]</td>\n",
       "      <td>[16-Septembre-1865]</td>\n",
       "      <td>[I C Meekins, Almighty, God, Isaac C. Meekins,...</td>\n",
       "      <td>[Currituck County, State of North Carolina, Un...</td>\n",
       "      <td>[Constitution]</td>\n",
       "    </tr>\n",
       "    <tr>\n",
       "      <th>1</th>\n",
       "      <td>1</td>\n",
       "      <td>[]</td>\n",
       "      <td>[North Carolina, United States, States]</td>\n",
       "      <td>[Department of Virginia, State]</td>\n",
       "      <td>[1864]</td>\n",
       "      <td>[]</td>\n",
       "      <td>[]</td>\n",
       "      <td>[]</td>\n",
       "      <td>[North Carolina, United States, States]</td>\n",
       "      <td>[Department of Virginia, OATH PAROLE]</td>\n",
       "    </tr>\n",
       "    <tr>\n",
       "      <th>2</th>\n",
       "      <td>2</td>\n",
       "      <td>[W. H. Pearce, W . H. Pearce]</td>\n",
       "      <td>[]</td>\n",
       "      <td>[]</td>\n",
       "      <td>[3rd day of October , A.D. , 1865]</td>\n",
       "      <td>[3-October-1865]</td>\n",
       "      <td>[3-October-1865]</td>\n",
       "      <td>[W. H. Pearce, Almighty, God, E. Ampetts, W . ...</td>\n",
       "      <td>[Craven County, State of NorthCarolina, United...</td>\n",
       "      <td>[Constitution]</td>\n",
       "    </tr>\n",
       "    <tr>\n",
       "      <th>3</th>\n",
       "      <td>3</td>\n",
       "      <td>[]</td>\n",
       "      <td>[North Carolina, United States]</td>\n",
       "      <td>[]</td>\n",
       "      <td>[______ day of ____________ , 1866]</td>\n",
       "      <td>[]</td>\n",
       "      <td>[]</td>\n",
       "      <td>[God]</td>\n",
       "      <td>[State of, North Carolina, United States]</td>\n",
       "      <td>[Constitution]</td>\n",
       "    </tr>\n",
       "    <tr>\n",
       "      <th>4</th>\n",
       "      <td>4</td>\n",
       "      <td>[S.E . Allen]</td>\n",
       "      <td>[North Carolina, Wake County, United States]</td>\n",
       "      <td>[]</td>\n",
       "      <td>[31st day of May , 1867]</td>\n",
       "      <td>[31-May-1867]</td>\n",
       "      <td>[31-May-1867]</td>\n",
       "      <td>[S.E, God, T.D, McAlpine]</td>\n",
       "      <td>[State of, North Carolina, Wake County, United...</td>\n",
       "      <td>[Constitution, Res . Corp]</td>\n",
       "    </tr>\n",
       "  </tbody>\n",
       "</table>\n",
       "</div>"
      ],
      "text/plain": [
       "   text                                   PERSON-ontonotes  \\\n",
       "0     0  [I C Meekins, Isaac C. Meekins, E H Walker, Jo...   \n",
       "1     1                                                 []   \n",
       "2     2                      [W. H. Pearce, W . H. Pearce]   \n",
       "3     3                                                 []   \n",
       "4     4                                      [S.E . Allen]   \n",
       "\n",
       "                                  GPE-ontonotes  \\\n",
       "0                          [Currituck County ,]   \n",
       "1       [North Carolina, United States, States]   \n",
       "2                                            []   \n",
       "3               [North Carolina, United States]   \n",
       "4  [North Carolina, Wake County, United States]   \n",
       "\n",
       "                     ORG-ontonotes                       Date-ontonotes  \\\n",
       "0                               []        [16 day of Sept A.D . , 1865]   \n",
       "1  [Department of Virginia, State]                               [1864]   \n",
       "2                               []   [3rd day of October , A.D. , 1865]   \n",
       "3                               []  [______ day of ____________ , 1866]   \n",
       "4                               []             [31st day of May , 1867]   \n",
       "\n",
       "  postDate-ontonotes                Dates  \\\n",
       "0     [16-Sept-1865]  [16-Septembre-1865]   \n",
       "1                 []                   []   \n",
       "2   [3-October-1865]     [3-October-1865]   \n",
       "3                 []                   []   \n",
       "4      [31-May-1867]        [31-May-1867]   \n",
       "\n",
       "                                  Person-NerEngLarge  \\\n",
       "0  [I C Meekins, Almighty, God, Isaac C. Meekins,...   \n",
       "1                                                 []   \n",
       "2  [W. H. Pearce, Almighty, God, E. Ampetts, W . ...   \n",
       "3                                              [God]   \n",
       "4                          [S.E, God, T.D, McAlpine]   \n",
       "\n",
       "                                     LOC-NerEngLarge  \\\n",
       "0  [Currituck County, State of North Carolina, Un...   \n",
       "1            [North Carolina, United States, States]   \n",
       "2  [Craven County, State of NorthCarolina, United...   \n",
       "3          [State of, North Carolina, United States]   \n",
       "4  [State of, North Carolina, Wake County, United...   \n",
       "\n",
       "                         ORG-NerEngLarge  \n",
       "0                         [Constitution]  \n",
       "1  [Department of Virginia, OATH PAROLE]  \n",
       "2                         [Constitution]  \n",
       "3                         [Constitution]  \n",
       "4             [Constitution, Res . Corp]  "
      ]
     },
     "execution_count": 20,
     "metadata": {},
     "output_type": "execute_result"
    }
   ],
   "source": [
    "Audf.head()"
   ]
  },
  {
   "cell_type": "code",
   "execution_count": 21,
   "id": "fb037f4b",
   "metadata": {
    "execution": {
     "iopub.execute_input": "2022-06-15T18:29:00.095676Z",
     "iopub.status.busy": "2022-06-15T18:29:00.095240Z",
     "iopub.status.idle": "2022-06-15T18:29:00.101209Z",
     "shell.execute_reply": "2022-06-15T18:29:00.100080Z"
    },
    "papermill": {
     "duration": 0.038392,
     "end_time": "2022-06-15T18:29:00.103268",
     "exception": false,
     "start_time": "2022-06-15T18:29:00.064876",
     "status": "completed"
    },
    "tags": []
   },
   "outputs": [
    {
     "data": {
      "text/plain": [
       "'/kaggle/working'"
      ]
     },
     "execution_count": 21,
     "metadata": {},
     "output_type": "execute_result"
    }
   ],
   "source": [
    "import os \n",
    "os.getcwd()"
   ]
  },
  {
   "cell_type": "code",
   "execution_count": 22,
   "id": "d603f2f1",
   "metadata": {
    "execution": {
     "iopub.execute_input": "2022-06-15T18:29:00.163172Z",
     "iopub.status.busy": "2022-06-15T18:29:00.162647Z",
     "iopub.status.idle": "2022-06-15T18:29:00.194666Z",
     "shell.execute_reply": "2022-06-15T18:29:00.193635Z"
    },
    "papermill": {
     "duration": 0.06548,
     "end_time": "2022-06-15T18:29:00.197649",
     "exception": false,
     "start_time": "2022-06-15T18:29:00.132169",
     "status": "completed"
    },
    "tags": []
   },
   "outputs": [],
   "source": [
    "Audf.to_pickle(\"data.pkl\")"
   ]
  },
  {
   "cell_type": "code",
   "execution_count": 23,
   "id": "ab31c89d",
   "metadata": {
    "execution": {
     "iopub.execute_input": "2022-06-15T18:29:00.261590Z",
     "iopub.status.busy": "2022-06-15T18:29:00.260907Z",
     "iopub.status.idle": "2022-06-15T18:29:00.316454Z",
     "shell.execute_reply": "2022-06-15T18:29:00.315489Z"
    },
    "papermill": {
     "duration": 0.089962,
     "end_time": "2022-06-15T18:29:00.319130",
     "exception": false,
     "start_time": "2022-06-15T18:29:00.229168",
     "status": "completed"
    },
    "tags": []
   },
   "outputs": [],
   "source": [
    "with open('../input/audfff/data.pkl', 'rb') as f:\n",
    "    data= pickle.load(f)"
   ]
  },
  {
   "cell_type": "code",
   "execution_count": 24,
   "id": "f58567e4",
   "metadata": {
    "execution": {
     "iopub.execute_input": "2022-06-15T18:29:00.382061Z",
     "iopub.status.busy": "2022-06-15T18:29:00.381389Z",
     "iopub.status.idle": "2022-06-15T18:29:00.433191Z",
     "shell.execute_reply": "2022-06-15T18:29:00.431821Z"
    },
    "papermill": {
     "duration": 0.086149,
     "end_time": "2022-06-15T18:29:00.435981",
     "exception": false,
     "start_time": "2022-06-15T18:29:00.349832",
     "status": "completed"
    },
    "tags": []
   },
   "outputs": [
    {
     "data": {
      "text/html": [
       "<div>\n",
       "<style scoped>\n",
       "    .dataframe tbody tr th:only-of-type {\n",
       "        vertical-align: middle;\n",
       "    }\n",
       "\n",
       "    .dataframe tbody tr th {\n",
       "        vertical-align: top;\n",
       "    }\n",
       "\n",
       "    .dataframe thead th {\n",
       "        text-align: right;\n",
       "    }\n",
       "</style>\n",
       "<table border=\"1\" class=\"dataframe\">\n",
       "  <thead>\n",
       "    <tr style=\"text-align: right;\">\n",
       "      <th></th>\n",
       "      <th>text</th>\n",
       "      <th>PERSON-ontonotes</th>\n",
       "      <th>GPE-ontonotes</th>\n",
       "      <th>ORG-ontonotes</th>\n",
       "      <th>Date-ontonotes</th>\n",
       "      <th>postDate-ontonotes</th>\n",
       "      <th>Dates</th>\n",
       "      <th>Person-NerEngLarge</th>\n",
       "      <th>LOC-NerEngLarge</th>\n",
       "      <th>ORG-NerEngLarge</th>\n",
       "    </tr>\n",
       "  </thead>\n",
       "  <tbody>\n",
       "    <tr>\n",
       "      <th>0</th>\n",
       "      <td>0</td>\n",
       "      <td>[I C Meekins, Isaac C. Meekins, E H Walker, Jo...</td>\n",
       "      <td>[Currituck County ,]</td>\n",
       "      <td>[]</td>\n",
       "      <td>[16 day of Sept A.D . , 1865]</td>\n",
       "      <td>[16-Sept-1865]</td>\n",
       "      <td>[16-Septembre-1865]</td>\n",
       "      <td>[I C Meekins, Almighty, God, Isaac C. Meekins,...</td>\n",
       "      <td>[Currituck County, State of North Carolina, Un...</td>\n",
       "      <td>[Constitution]</td>\n",
       "    </tr>\n",
       "    <tr>\n",
       "      <th>1</th>\n",
       "      <td>1</td>\n",
       "      <td>[]</td>\n",
       "      <td>[North Carolina, United States, States]</td>\n",
       "      <td>[Department of Virginia, State]</td>\n",
       "      <td>[1864]</td>\n",
       "      <td>[]</td>\n",
       "      <td>[]</td>\n",
       "      <td>[]</td>\n",
       "      <td>[North Carolina, United States, States]</td>\n",
       "      <td>[Department of Virginia, OATH PAROLE]</td>\n",
       "    </tr>\n",
       "    <tr>\n",
       "      <th>2</th>\n",
       "      <td>2</td>\n",
       "      <td>[W. H. Pearce, W . H. Pearce]</td>\n",
       "      <td>[]</td>\n",
       "      <td>[]</td>\n",
       "      <td>[3rd day of October , A.D. , 1865]</td>\n",
       "      <td>[3-October-1865]</td>\n",
       "      <td>[3-October-1865]</td>\n",
       "      <td>[W. H. Pearce, Almighty, God, E. Ampetts, W . ...</td>\n",
       "      <td>[Craven County, State of NorthCarolina, United...</td>\n",
       "      <td>[Constitution]</td>\n",
       "    </tr>\n",
       "    <tr>\n",
       "      <th>3</th>\n",
       "      <td>3</td>\n",
       "      <td>[]</td>\n",
       "      <td>[North Carolina, United States]</td>\n",
       "      <td>[]</td>\n",
       "      <td>[______ day of ____________ , 1866]</td>\n",
       "      <td>[]</td>\n",
       "      <td>[]</td>\n",
       "      <td>[God]</td>\n",
       "      <td>[State of, North Carolina, United States]</td>\n",
       "      <td>[Constitution]</td>\n",
       "    </tr>\n",
       "    <tr>\n",
       "      <th>4</th>\n",
       "      <td>4</td>\n",
       "      <td>[S.E . Allen]</td>\n",
       "      <td>[North Carolina, Wake County, United States]</td>\n",
       "      <td>[]</td>\n",
       "      <td>[31st day of May , 1867]</td>\n",
       "      <td>[31-May-1867]</td>\n",
       "      <td>[31-May-1867]</td>\n",
       "      <td>[S.E, God, T.D, McAlpine]</td>\n",
       "      <td>[State of, North Carolina, Wake County, United...</td>\n",
       "      <td>[Constitution, Res . Corp]</td>\n",
       "    </tr>\n",
       "    <tr>\n",
       "      <th>...</th>\n",
       "      <td>...</td>\n",
       "      <td>...</td>\n",
       "      <td>...</td>\n",
       "      <td>...</td>\n",
       "      <td>...</td>\n",
       "      <td>...</td>\n",
       "      <td>...</td>\n",
       "      <td>...</td>\n",
       "      <td>...</td>\n",
       "      <td>...</td>\n",
       "    </tr>\n",
       "    <tr>\n",
       "      <th>2131</th>\n",
       "      <td>2131</td>\n",
       "      <td>[Geo . Little, Geo . B. Ayer]</td>\n",
       "      <td>[Raleigh, N.C., Wake County, N.C, United State...</td>\n",
       "      <td>[]</td>\n",
       "      <td>[May 26, July 14]</td>\n",
       "      <td>[]</td>\n",
       "      <td>[]</td>\n",
       "      <td>[Geo . Little, Geo, B. Ayer, Hugo Hillebrandt]</td>\n",
       "      <td>[Raleigh, N.C., Wake County, State of N.C, Uni...</td>\n",
       "      <td>[]</td>\n",
       "    </tr>\n",
       "    <tr>\n",
       "      <th>2132</th>\n",
       "      <td>2132</td>\n",
       "      <td>[Birnie]</td>\n",
       "      <td>[]</td>\n",
       "      <td>[]</td>\n",
       "      <td>[July 30th 1867]</td>\n",
       "      <td>[30-July-1867]</td>\n",
       "      <td>[30-July-1867]</td>\n",
       "      <td>[]</td>\n",
       "      <td>[]</td>\n",
       "      <td>[]</td>\n",
       "    </tr>\n",
       "    <tr>\n",
       "      <th>2133</th>\n",
       "      <td>2133</td>\n",
       "      <td>[William Birnie]</td>\n",
       "      <td>[North Carolina, Robeson County, United States]</td>\n",
       "      <td>[]</td>\n",
       "      <td>[30 day of July]</td>\n",
       "      <td>[]</td>\n",
       "      <td>[]</td>\n",
       "      <td>[William Birnie, God, Wm Birnie, W.A]</td>\n",
       "      <td>[State of, North Carolina, Robeson County, Uni...</td>\n",
       "      <td>[Constitution]</td>\n",
       "    </tr>\n",
       "    <tr>\n",
       "      <th>2134</th>\n",
       "      <td>2134</td>\n",
       "      <td>[A.L . Price, James Fulton, John D Conoley, Al...</td>\n",
       "      <td>[North Carolina, New Hanover County, New Hanov...</td>\n",
       "      <td>[Fulton Price]</td>\n",
       "      <td>[May 29 1865, 15th Sept 1865, 15th September A...</td>\n",
       "      <td>[29-May-1865, 15-Sept-1865, 15-September-1865,...</td>\n",
       "      <td>[29-May-1865, 15-Septembre-1865, 15-Septembre-...</td>\n",
       "      <td>[Price, James Fulton, Sgd W . N. Peden, Miles ...</td>\n",
       "      <td>[State of North Carolina, New Hanover County, ...</td>\n",
       "      <td>[Fulton Price, Confederate Government, Court o...</td>\n",
       "    </tr>\n",
       "    <tr>\n",
       "      <th>2135</th>\n",
       "      <td>2135</td>\n",
       "      <td>[James Fulton, Wm A. Cutler, Geo W. Pollock, F...</td>\n",
       "      <td>[Wilmington N.C, New Hanover County]</td>\n",
       "      <td>[]</td>\n",
       "      <td>[Sept 22 . 1865, Twentyseventh day of Septembe...</td>\n",
       "      <td>[22-Sept-1865, Twentyseventh-September-1865, T...</td>\n",
       "      <td>[22-Septembre-1865, 27-Septembre-1865, Twentys...</td>\n",
       "      <td>[Marshall, James Fulton, God, Wm A. Cutler, I,...</td>\n",
       "      <td>[City of Wilmington, N.C, United States, North...</td>\n",
       "      <td>[NARA, Constitution of, Slaves]</td>\n",
       "    </tr>\n",
       "  </tbody>\n",
       "</table>\n",
       "<p>2136 rows × 10 columns</p>\n",
       "</div>"
      ],
      "text/plain": [
       "      text                                   PERSON-ontonotes  \\\n",
       "0        0  [I C Meekins, Isaac C. Meekins, E H Walker, Jo...   \n",
       "1        1                                                 []   \n",
       "2        2                      [W. H. Pearce, W . H. Pearce]   \n",
       "3        3                                                 []   \n",
       "4        4                                      [S.E . Allen]   \n",
       "...    ...                                                ...   \n",
       "2131  2131                      [Geo . Little, Geo . B. Ayer]   \n",
       "2132  2132                                           [Birnie]   \n",
       "2133  2133                                   [William Birnie]   \n",
       "2134  2134  [A.L . Price, James Fulton, John D Conoley, Al...   \n",
       "2135  2135  [James Fulton, Wm A. Cutler, Geo W. Pollock, F...   \n",
       "\n",
       "                                          GPE-ontonotes  \\\n",
       "0                                  [Currituck County ,]   \n",
       "1               [North Carolina, United States, States]   \n",
       "2                                                    []   \n",
       "3                       [North Carolina, United States]   \n",
       "4          [North Carolina, Wake County, United States]   \n",
       "...                                                 ...   \n",
       "2131  [Raleigh, N.C., Wake County, N.C, United State...   \n",
       "2132                                                 []   \n",
       "2133    [North Carolina, Robeson County, United States]   \n",
       "2134  [North Carolina, New Hanover County, New Hanov...   \n",
       "2135               [Wilmington N.C, New Hanover County]   \n",
       "\n",
       "                        ORG-ontonotes  \\\n",
       "0                                  []   \n",
       "1     [Department of Virginia, State]   \n",
       "2                                  []   \n",
       "3                                  []   \n",
       "4                                  []   \n",
       "...                               ...   \n",
       "2131                               []   \n",
       "2132                               []   \n",
       "2133                               []   \n",
       "2134                   [Fulton Price]   \n",
       "2135                               []   \n",
       "\n",
       "                                         Date-ontonotes  \\\n",
       "0                         [16 day of Sept A.D . , 1865]   \n",
       "1                                                [1864]   \n",
       "2                    [3rd day of October , A.D. , 1865]   \n",
       "3                   [______ day of ____________ , 1866]   \n",
       "4                              [31st day of May , 1867]   \n",
       "...                                                 ...   \n",
       "2131                                  [May 26, July 14]   \n",
       "2132                                   [July 30th 1867]   \n",
       "2133                                   [30 day of July]   \n",
       "2134  [May 29 1865, 15th Sept 1865, 15th September A...   \n",
       "2135  [Sept 22 . 1865, Twentyseventh day of Septembe...   \n",
       "\n",
       "                                     postDate-ontonotes  \\\n",
       "0                                        [16-Sept-1865]   \n",
       "1                                                    []   \n",
       "2                                      [3-October-1865]   \n",
       "3                                                    []   \n",
       "4                                         [31-May-1867]   \n",
       "...                                                 ...   \n",
       "2131                                                 []   \n",
       "2132                                     [30-July-1867]   \n",
       "2133                                                 []   \n",
       "2134  [29-May-1865, 15-Sept-1865, 15-September-1865,...   \n",
       "2135  [22-Sept-1865, Twentyseventh-September-1865, T...   \n",
       "\n",
       "                                                  Dates  \\\n",
       "0                                   [16-Septembre-1865]   \n",
       "1                                                    []   \n",
       "2                                      [3-October-1865]   \n",
       "3                                                    []   \n",
       "4                                         [31-May-1867]   \n",
       "...                                                 ...   \n",
       "2131                                                 []   \n",
       "2132                                     [30-July-1867]   \n",
       "2133                                                 []   \n",
       "2134  [29-May-1865, 15-Septembre-1865, 15-Septembre-...   \n",
       "2135  [22-Septembre-1865, 27-Septembre-1865, Twentys...   \n",
       "\n",
       "                                     Person-NerEngLarge  \\\n",
       "0     [I C Meekins, Almighty, God, Isaac C. Meekins,...   \n",
       "1                                                    []   \n",
       "2     [W. H. Pearce, Almighty, God, E. Ampetts, W . ...   \n",
       "3                                                 [God]   \n",
       "4                             [S.E, God, T.D, McAlpine]   \n",
       "...                                                 ...   \n",
       "2131     [Geo . Little, Geo, B. Ayer, Hugo Hillebrandt]   \n",
       "2132                                                 []   \n",
       "2133              [William Birnie, God, Wm Birnie, W.A]   \n",
       "2134  [Price, James Fulton, Sgd W . N. Peden, Miles ...   \n",
       "2135  [Marshall, James Fulton, God, Wm A. Cutler, I,...   \n",
       "\n",
       "                                        LOC-NerEngLarge  \\\n",
       "0     [Currituck County, State of North Carolina, Un...   \n",
       "1               [North Carolina, United States, States]   \n",
       "2     [Craven County, State of NorthCarolina, United...   \n",
       "3             [State of, North Carolina, United States]   \n",
       "4     [State of, North Carolina, Wake County, United...   \n",
       "...                                                 ...   \n",
       "2131  [Raleigh, N.C., Wake County, State of N.C, Uni...   \n",
       "2132                                                 []   \n",
       "2133  [State of, North Carolina, Robeson County, Uni...   \n",
       "2134  [State of North Carolina, New Hanover County, ...   \n",
       "2135  [City of Wilmington, N.C, United States, North...   \n",
       "\n",
       "                                        ORG-NerEngLarge  \n",
       "0                                        [Constitution]  \n",
       "1                 [Department of Virginia, OATH PAROLE]  \n",
       "2                                        [Constitution]  \n",
       "3                                        [Constitution]  \n",
       "4                            [Constitution, Res . Corp]  \n",
       "...                                                 ...  \n",
       "2131                                                 []  \n",
       "2132                                                 []  \n",
       "2133                                     [Constitution]  \n",
       "2134  [Fulton Price, Confederate Government, Court o...  \n",
       "2135                    [NARA, Constitution of, Slaves]  \n",
       "\n",
       "[2136 rows x 10 columns]"
      ]
     },
     "execution_count": 24,
     "metadata": {},
     "output_type": "execute_result"
    }
   ],
   "source": [
    "data"
   ]
  },
  {
   "cell_type": "markdown",
   "id": "24aa00c0",
   "metadata": {
    "papermill": {
     "duration": 0.032172,
     "end_time": "2022-06-15T18:29:00.499948",
     "exception": false,
     "start_time": "2022-06-15T18:29:00.467776",
     "status": "completed"
    },
    "tags": []
   },
   "source": [
    "# Separate Oath maker and witness name"
   ]
  },
  {
   "cell_type": "code",
   "execution_count": 25,
   "id": "446895c1",
   "metadata": {
    "execution": {
     "iopub.execute_input": "2022-06-15T18:29:00.566920Z",
     "iopub.status.busy": "2022-06-15T18:29:00.566450Z",
     "iopub.status.idle": "2022-06-15T18:29:00.644593Z",
     "shell.execute_reply": "2022-06-15T18:29:00.643783Z"
    },
    "papermill": {
     "duration": 0.115704,
     "end_time": "2022-06-15T18:29:00.647180",
     "exception": false,
     "start_time": "2022-06-15T18:29:00.531476",
     "status": "completed"
    },
    "tags": []
   },
   "outputs": [],
   "source": [
    "newdata=pd.read_csv(\"../input/oathss/oaths.csv\")"
   ]
  },
  {
   "cell_type": "code",
   "execution_count": 26,
   "id": "0eddb4b1",
   "metadata": {
    "execution": {
     "iopub.execute_input": "2022-06-15T18:29:00.710515Z",
     "iopub.status.busy": "2022-06-15T18:29:00.709111Z",
     "iopub.status.idle": "2022-06-15T18:29:00.725504Z",
     "shell.execute_reply": "2022-06-15T18:29:00.724443Z"
    },
    "papermill": {
     "duration": 0.050727,
     "end_time": "2022-06-15T18:29:00.728355",
     "exception": false,
     "start_time": "2022-06-15T18:29:00.677628",
     "status": "completed"
    },
    "tags": []
   },
   "outputs": [],
   "source": [
    "all_text=newdata[\"transcription_text\"]\n",
    "stop_words = set(stopwords.words('english'))\n",
    "punctuation = string.punctuation\n",
    "stemmer = SnowballStemmer(language=\"english\")\n",
    "lemmatizer = WordNetLemmatizer()\n",
    "stop_words.remove(\"of\")\n",
    "punctuation\n",
    "punct='!\"#$%&\\'()*+-/<=>?@[\\\\]^`{|}~'"
   ]
  },
  {
   "cell_type": "code",
   "execution_count": 27,
   "id": "e4ed7f78",
   "metadata": {
    "execution": {
     "iopub.execute_input": "2022-06-15T18:29:00.791711Z",
     "iopub.status.busy": "2022-06-15T18:29:00.791084Z",
     "iopub.status.idle": "2022-06-15T18:29:12.602758Z",
     "shell.execute_reply": "2022-06-15T18:29:12.601772Z"
    },
    "papermill": {
     "duration": 11.846516,
     "end_time": "2022-06-15T18:29:12.605644",
     "exception": false,
     "start_time": "2022-06-15T18:29:00.759128",
     "status": "completed"
    },
    "tags": []
   },
   "outputs": [
    {
     "name": "stderr",
     "output_type": "stream",
     "text": [
      "100%|██████████| 2136/2136 [00:10<00:00, 194.35it/s]\n",
      "100%|██████████| 2136/2136 [00:00<00:00, 2669.04it/s]\n"
     ]
    }
   ],
   "source": [
    "def process(s):\n",
    "    s= re.sub(\"([\\(\\[]).*?([\\)\\]])\",\" \",s)\n",
    "    for p in punct:\n",
    "        s = s.replace(p, '')\n",
    "    s = word_tokenize(s)\n",
    "    s = [w for w in s if not w in stop_words] \n",
    "    s = [lemmatizer.lemmatize(word) for word in s]\n",
    "    return s\n",
    "\n",
    "for i in tqdm(range(newdata.shape[0])):\n",
    "    all_text[i] = process(all_text[i])\n",
    "for i in tqdm(range(newdata.shape[0])):\n",
    "    all_text[i] = \" \".join(all_text[i])"
   ]
  },
  {
   "cell_type": "code",
   "execution_count": 28,
   "id": "2100c696",
   "metadata": {
    "execution": {
     "iopub.execute_input": "2022-06-15T18:29:12.680664Z",
     "iopub.status.busy": "2022-06-15T18:29:12.679659Z",
     "iopub.status.idle": "2022-06-15T18:29:12.693095Z",
     "shell.execute_reply": "2022-06-15T18:29:12.692170Z"
    },
    "papermill": {
     "duration": 0.053845,
     "end_time": "2022-06-15T18:29:12.695641",
     "exception": false,
     "start_time": "2022-06-15T18:29:12.641796",
     "status": "completed"
    },
    "tags": []
   },
   "outputs": [],
   "source": [
    "allPerson=[]\n",
    "for i in Audf[\"PERSON-ontonotes\"]:\n",
    "            allPerson.append(i)\n",
    "allDatess=[]\n",
    "for i in Audf[\"Date-ontonotes\"]:\n",
    "            allDatess.append(i)\n",
    "allpostdates=[]\n",
    "for i in Audf[\"postDate-ontonotes\"]:\n",
    "            allpostdates.append(i)\n",
    "allGPE=[]\n",
    "for i in Audf[\"GPE-ontonotes\"]:\n",
    "            allGPE.append(i)\n",
    "alORGl=[]\n",
    "for i in Audf[\"ORG-ontonotes\"]:\n",
    "            alORGl.append(i)"
   ]
  },
  {
   "cell_type": "code",
   "execution_count": 29,
   "id": "65c47e55",
   "metadata": {
    "execution": {
     "iopub.execute_input": "2022-06-15T18:29:12.771895Z",
     "iopub.status.busy": "2022-06-15T18:29:12.770764Z",
     "iopub.status.idle": "2022-06-15T18:29:12.781157Z",
     "shell.execute_reply": "2022-06-15T18:29:12.780261Z"
    },
    "papermill": {
     "duration": 0.051296,
     "end_time": "2022-06-15T18:29:12.783569",
     "exception": false,
     "start_time": "2022-06-15T18:29:12.732273",
     "status": "completed"
    },
    "tags": []
   },
   "outputs": [],
   "source": [
    "Personlarge=[]\n",
    "for i in dflarge[\"PERSON-nerenglarge\"]:\n",
    "            Personlarge.append(i)\n",
    "ORGlarge=[]\n",
    "for i in dflarge[\"ORG-nerenglarge\"]:\n",
    "            ORGlarge.append(i) \n",
    "LOClarge=[]\n",
    "for i in dflarge[\"LOC-nerenglarge\"]:\n",
    "            LOClarge.append(i)"
   ]
  },
  {
   "cell_type": "code",
   "execution_count": 30,
   "id": "d410d175",
   "metadata": {
    "execution": {
     "iopub.execute_input": "2022-06-15T18:29:12.858310Z",
     "iopub.status.busy": "2022-06-15T18:29:12.857827Z",
     "iopub.status.idle": "2022-06-15T18:29:12.862535Z",
     "shell.execute_reply": "2022-06-15T18:29:12.861377Z"
    },
    "papermill": {
     "duration": 0.044248,
     "end_time": "2022-06-15T18:29:12.864412",
     "exception": false,
     "start_time": "2022-06-15T18:29:12.820164",
     "status": "completed"
    },
    "tags": []
   },
   "outputs": [],
   "source": [
    "# NewPerson[10]"
   ]
  },
  {
   "cell_type": "code",
   "execution_count": 31,
   "id": "9419e9ae",
   "metadata": {
    "execution": {
     "iopub.execute_input": "2022-06-15T18:29:12.939773Z",
     "iopub.status.busy": "2022-06-15T18:29:12.939349Z",
     "iopub.status.idle": "2022-06-15T18:29:12.943909Z",
     "shell.execute_reply": "2022-06-15T18:29:12.942726Z"
    },
    "papermill": {
     "duration": 0.045391,
     "end_time": "2022-06-15T18:29:12.946227",
     "exception": false,
     "start_time": "2022-06-15T18:29:12.900836",
     "status": "completed"
    },
    "tags": []
   },
   "outputs": [],
   "source": [
    "# Perr[10]"
   ]
  },
  {
   "cell_type": "code",
   "execution_count": 32,
   "id": "4357a25d",
   "metadata": {
    "execution": {
     "iopub.execute_input": "2022-06-15T18:29:13.020452Z",
     "iopub.status.busy": "2022-06-15T18:29:13.020053Z",
     "iopub.status.idle": "2022-06-15T18:29:13.024346Z",
     "shell.execute_reply": "2022-06-15T18:29:13.023204Z"
    },
    "papermill": {
     "duration": 0.043747,
     "end_time": "2022-06-15T18:29:13.026248",
     "exception": false,
     "start_time": "2022-06-15T18:29:12.982501",
     "status": "completed"
    },
    "tags": []
   },
   "outputs": [],
   "source": [
    "# NewPerson[25]"
   ]
  },
  {
   "cell_type": "code",
   "execution_count": 33,
   "id": "f21f8e5e",
   "metadata": {
    "execution": {
     "iopub.execute_input": "2022-06-15T18:29:13.102142Z",
     "iopub.status.busy": "2022-06-15T18:29:13.101740Z",
     "iopub.status.idle": "2022-06-15T18:29:13.105977Z",
     "shell.execute_reply": "2022-06-15T18:29:13.104805Z"
    },
    "papermill": {
     "duration": 0.043906,
     "end_time": "2022-06-15T18:29:13.107980",
     "exception": false,
     "start_time": "2022-06-15T18:29:13.064074",
     "status": "completed"
    },
    "tags": []
   },
   "outputs": [],
   "source": [
    "# Perr[25]"
   ]
  },
  {
   "cell_type": "code",
   "execution_count": 34,
   "id": "f2c001fa",
   "metadata": {
    "execution": {
     "iopub.execute_input": "2022-06-15T18:29:13.183732Z",
     "iopub.status.busy": "2022-06-15T18:29:13.183033Z",
     "iopub.status.idle": "2022-06-15T18:29:13.187195Z",
     "shell.execute_reply": "2022-06-15T18:29:13.186389Z"
    },
    "papermill": {
     "duration": 0.044378,
     "end_time": "2022-06-15T18:29:13.189044",
     "exception": false,
     "start_time": "2022-06-15T18:29:13.144666",
     "status": "completed"
    },
    "tags": []
   },
   "outputs": [],
   "source": [
    "# NewPerson[112]"
   ]
  },
  {
   "cell_type": "code",
   "execution_count": 35,
   "id": "b69954df",
   "metadata": {
    "execution": {
     "iopub.execute_input": "2022-06-15T18:29:13.262065Z",
     "iopub.status.busy": "2022-06-15T18:29:13.261328Z",
     "iopub.status.idle": "2022-06-15T18:29:13.265682Z",
     "shell.execute_reply": "2022-06-15T18:29:13.265044Z"
    },
    "papermill": {
     "duration": 0.043035,
     "end_time": "2022-06-15T18:29:13.267531",
     "exception": false,
     "start_time": "2022-06-15T18:29:13.224496",
     "status": "completed"
    },
    "tags": []
   },
   "outputs": [],
   "source": [
    "# Perr[112]"
   ]
  },
  {
   "cell_type": "code",
   "execution_count": 36,
   "id": "5f1e5d75",
   "metadata": {
    "execution": {
     "iopub.execute_input": "2022-06-15T18:29:13.341232Z",
     "iopub.status.busy": "2022-06-15T18:29:13.340522Z",
     "iopub.status.idle": "2022-06-15T18:29:13.344430Z",
     "shell.execute_reply": "2022-06-15T18:29:13.343467Z"
    },
    "papermill": {
     "duration": 0.042709,
     "end_time": "2022-06-15T18:29:13.346435",
     "exception": false,
     "start_time": "2022-06-15T18:29:13.303726",
     "status": "completed"
    },
    "tags": []
   },
   "outputs": [],
   "source": [
    "# NewPerson[211]"
   ]
  },
  {
   "cell_type": "code",
   "execution_count": 37,
   "id": "e8ece020",
   "metadata": {
    "execution": {
     "iopub.execute_input": "2022-06-15T18:29:13.420328Z",
     "iopub.status.busy": "2022-06-15T18:29:13.419610Z",
     "iopub.status.idle": "2022-06-15T18:29:13.423258Z",
     "shell.execute_reply": "2022-06-15T18:29:13.422569Z"
    },
    "papermill": {
     "duration": 0.042885,
     "end_time": "2022-06-15T18:29:13.425066",
     "exception": false,
     "start_time": "2022-06-15T18:29:13.382181",
     "status": "completed"
    },
    "tags": []
   },
   "outputs": [],
   "source": [
    "# Perr[211]"
   ]
  },
  {
   "cell_type": "code",
   "execution_count": 38,
   "id": "ba6eb2c5",
   "metadata": {
    "execution": {
     "iopub.execute_input": "2022-06-15T18:29:13.498688Z",
     "iopub.status.busy": "2022-06-15T18:29:13.497971Z",
     "iopub.status.idle": "2022-06-15T18:29:13.501932Z",
     "shell.execute_reply": "2022-06-15T18:29:13.501294Z"
    },
    "papermill": {
     "duration": 0.042901,
     "end_time": "2022-06-15T18:29:13.504020",
     "exception": false,
     "start_time": "2022-06-15T18:29:13.461119",
     "status": "completed"
    },
    "tags": []
   },
   "outputs": [],
   "source": [
    "# NewPerson[218]"
   ]
  },
  {
   "cell_type": "code",
   "execution_count": 39,
   "id": "3ae53740",
   "metadata": {
    "execution": {
     "iopub.execute_input": "2022-06-15T18:29:13.576606Z",
     "iopub.status.busy": "2022-06-15T18:29:13.575935Z",
     "iopub.status.idle": "2022-06-15T18:29:13.579644Z",
     "shell.execute_reply": "2022-06-15T18:29:13.578993Z"
    },
    "papermill": {
     "duration": 0.042311,
     "end_time": "2022-06-15T18:29:13.581440",
     "exception": false,
     "start_time": "2022-06-15T18:29:13.539129",
     "status": "completed"
    },
    "tags": []
   },
   "outputs": [],
   "source": [
    "# Perr[218]"
   ]
  },
  {
   "cell_type": "code",
   "execution_count": 40,
   "id": "653a614e",
   "metadata": {
    "execution": {
     "iopub.execute_input": "2022-06-15T18:29:13.653696Z",
     "iopub.status.busy": "2022-06-15T18:29:13.653112Z",
     "iopub.status.idle": "2022-06-15T18:29:13.673919Z",
     "shell.execute_reply": "2022-06-15T18:29:13.673137Z"
    },
    "papermill": {
     "duration": 0.059763,
     "end_time": "2022-06-15T18:29:13.676170",
     "exception": false,
     "start_time": "2022-06-15T18:29:13.616407",
     "status": "completed"
    },
    "tags": []
   },
   "outputs": [],
   "source": [
    "NewPerson=[]\n",
    "for i in Personlarge:\n",
    "    p=[]\n",
    "    for j in i:\n",
    "        j=j.replace('.','')\n",
    "        j=j.replace('Oath','')\n",
    "        j=j.replace('Sworn','')\n",
    "        j=j.replace('Path of','')\n",
    "        j=j.replace('  ',' ')\n",
    "        p.append(j)\n",
    "    NewPerson.append(p)\n",
    "    \n",
    "        "
   ]
  },
  {
   "cell_type": "code",
   "execution_count": 41,
   "id": "d5d67c78",
   "metadata": {
    "execution": {
     "iopub.execute_input": "2022-06-15T18:29:13.749200Z",
     "iopub.status.busy": "2022-06-15T18:29:13.748598Z",
     "iopub.status.idle": "2022-06-15T18:29:13.755221Z",
     "shell.execute_reply": "2022-06-15T18:29:13.754119Z"
    },
    "papermill": {
     "duration": 0.04604,
     "end_time": "2022-06-15T18:29:13.757575",
     "exception": false,
     "start_time": "2022-06-15T18:29:13.711535",
     "status": "completed"
    },
    "tags": []
   },
   "outputs": [
    {
     "data": {
      "text/plain": [
       "2136"
      ]
     },
     "execution_count": 41,
     "metadata": {},
     "output_type": "execute_result"
    }
   ],
   "source": [
    "len(NewPerson)"
   ]
  },
  {
   "cell_type": "code",
   "execution_count": 42,
   "id": "ff0aeacb",
   "metadata": {
    "execution": {
     "iopub.execute_input": "2022-06-15T18:29:13.830189Z",
     "iopub.status.busy": "2022-06-15T18:29:13.829150Z",
     "iopub.status.idle": "2022-06-15T18:29:13.839741Z",
     "shell.execute_reply": "2022-06-15T18:29:13.838877Z"
    },
    "papermill": {
     "duration": 0.048848,
     "end_time": "2022-06-15T18:29:13.841684",
     "exception": false,
     "start_time": "2022-06-15T18:29:13.792836",
     "status": "completed"
    },
    "tags": []
   },
   "outputs": [
    {
     "data": {
      "text/plain": [
       "9512"
      ]
     },
     "execution_count": 42,
     "metadata": {},
     "output_type": "execute_result"
    }
   ],
   "source": [
    "PL=[]\n",
    "for i in NewPerson:\n",
    "    for j in i:\n",
    "        PL.append(j)\n",
    "len(PL)"
   ]
  },
  {
   "cell_type": "markdown",
   "id": "95c5dc60",
   "metadata": {
    "papermill": {
     "duration": 0.035628,
     "end_time": "2022-06-15T18:29:13.913464",
     "exception": false,
     "start_time": "2022-06-15T18:29:13.877836",
     "status": "completed"
    },
    "tags": []
   },
   "source": [
    "# removing outliers"
   ]
  },
  {
   "cell_type": "code",
   "execution_count": 43,
   "id": "df9b37cc",
   "metadata": {
    "execution": {
     "iopub.execute_input": "2022-06-15T18:29:13.988364Z",
     "iopub.status.busy": "2022-06-15T18:29:13.987390Z",
     "iopub.status.idle": "2022-06-15T18:29:13.994537Z",
     "shell.execute_reply": "2022-06-15T18:29:13.993512Z"
    },
    "papermill": {
     "duration": 0.046698,
     "end_time": "2022-06-15T18:29:13.996572",
     "exception": false,
     "start_time": "2022-06-15T18:29:13.949874",
     "status": "completed"
    },
    "tags": []
   },
   "outputs": [],
   "source": [
    "L=[\"God\",\"GOD\",\"god\",\"ANDREW JOHNSON\",\"AB\",\"CE\",\"andrew jonhson\",\"Justice of Peace\",\"Almighty God\",\"Andrew Johnson\",\"SE\",\"TD\",\"Jm\",\"I\",\"I J\",\"MW\",\"M\",\"JH\",\"JB\",\"WD\",\"JK\",\"J P\",\"C\",\"G\",\"HA\",\"J\",\"A\",\"F A\",\"DS\",\"CT\",\"RF\",'JE',\"Ashe\",\"JL\",\"H\",\"JP\",\"Mr\",\"Sworn\",\"sworn\",\"JF\",\"Bonnell\",\"B\",\"ER\",\"WHé\",\"JH\",\"JW\",\"F\",\"Wm\",\"W\",\"WF\"]"
   ]
  },
  {
   "cell_type": "code",
   "execution_count": 44,
   "id": "3368d723",
   "metadata": {
    "execution": {
     "iopub.execute_input": "2022-06-15T18:29:14.069713Z",
     "iopub.status.busy": "2022-06-15T18:29:14.069278Z",
     "iopub.status.idle": "2022-06-15T18:29:14.085384Z",
     "shell.execute_reply": "2022-06-15T18:29:14.084624Z"
    },
    "papermill": {
     "duration": 0.055055,
     "end_time": "2022-06-15T18:29:14.087483",
     "exception": false,
     "start_time": "2022-06-15T18:29:14.032428",
     "status": "completed"
    },
    "tags": []
   },
   "outputs": [],
   "source": [
    "Per=[]\n",
    "for i in NewPerson:\n",
    "    p=[]\n",
    "    for j in i:\n",
    "        if j==\"Almighty\":\n",
    "            j=\"Almighty God\"\n",
    "        if j not in L:\n",
    "            p.append(j)\n",
    "        \n",
    "    Per.append(p)"
   ]
  },
  {
   "cell_type": "code",
   "execution_count": null,
   "id": "fe375a0a",
   "metadata": {
    "papermill": {
     "duration": 0.035554,
     "end_time": "2022-06-15T18:29:14.158965",
     "exception": false,
     "start_time": "2022-06-15T18:29:14.123411",
     "status": "completed"
    },
    "tags": []
   },
   "outputs": [],
   "source": []
  },
  {
   "cell_type": "code",
   "execution_count": 45,
   "id": "7f8f246f",
   "metadata": {
    "execution": {
     "iopub.execute_input": "2022-06-15T18:29:14.235509Z",
     "iopub.status.busy": "2022-06-15T18:29:14.234685Z",
     "iopub.status.idle": "2022-06-15T18:29:14.241056Z",
     "shell.execute_reply": "2022-06-15T18:29:14.240264Z"
    },
    "papermill": {
     "duration": 0.047253,
     "end_time": "2022-06-15T18:29:14.243086",
     "exception": false,
     "start_time": "2022-06-15T18:29:14.195833",
     "status": "completed"
    },
    "tags": []
   },
   "outputs": [
    {
     "data": {
      "text/plain": [
       "'United States of America I , Elizabeth W. Bonnell of Barnwell District State of South Carolina , solemnly swear affirm presence of Almighty God , I henceforth support defend Consitution of United States , service of States thereunder , I like manner abide support law proclamation made existing rebellion reference emancipation of slave help God . Elizabeth W Bonnell Subscribed sworn Blackville 21st day of October A.D. 1865 James E. Robinson Magst .'"
      ]
     },
     "execution_count": 45,
     "metadata": {},
     "output_type": "execute_result"
    }
   ],
   "source": [
    "all_text[1006]"
   ]
  },
  {
   "cell_type": "code",
   "execution_count": 46,
   "id": "51fc324d",
   "metadata": {
    "execution": {
     "iopub.execute_input": "2022-06-15T18:29:14.317586Z",
     "iopub.status.busy": "2022-06-15T18:29:14.317104Z",
     "iopub.status.idle": "2022-06-15T18:29:14.323524Z",
     "shell.execute_reply": "2022-06-15T18:29:14.322293Z"
    },
    "papermill": {
     "duration": 0.046163,
     "end_time": "2022-06-15T18:29:14.325464",
     "exception": false,
     "start_time": "2022-06-15T18:29:14.279301",
     "status": "completed"
    },
    "tags": []
   },
   "outputs": [
    {
     "data": {
      "text/plain": [
       "['Elizabeth W Bonnell', 'Elizabeth W Bonnell', 'James E Robinson Magst']"
      ]
     },
     "execution_count": 46,
     "metadata": {},
     "output_type": "execute_result"
    }
   ],
   "source": [
    "Per[1006]"
   ]
  },
  {
   "cell_type": "code",
   "execution_count": 47,
   "id": "16eb5781",
   "metadata": {
    "execution": {
     "iopub.execute_input": "2022-06-15T18:29:14.400064Z",
     "iopub.status.busy": "2022-06-15T18:29:14.399211Z",
     "iopub.status.idle": "2022-06-15T18:29:14.403418Z",
     "shell.execute_reply": "2022-06-15T18:29:14.402474Z"
    },
    "papermill": {
     "duration": 0.044036,
     "end_time": "2022-06-15T18:29:14.405266",
     "exception": false,
     "start_time": "2022-06-15T18:29:14.361230",
     "status": "completed"
    },
    "tags": []
   },
   "outputs": [],
   "source": [
    "# Perr[1006]"
   ]
  },
  {
   "cell_type": "code",
   "execution_count": 48,
   "id": "16352f69",
   "metadata": {
    "execution": {
     "iopub.execute_input": "2022-06-15T18:29:14.478933Z",
     "iopub.status.busy": "2022-06-15T18:29:14.478024Z",
     "iopub.status.idle": "2022-06-15T18:29:14.487075Z",
     "shell.execute_reply": "2022-06-15T18:29:14.486133Z"
    },
    "papermill": {
     "duration": 0.04833,
     "end_time": "2022-06-15T18:29:14.489150",
     "exception": false,
     "start_time": "2022-06-15T18:29:14.440820",
     "status": "completed"
    },
    "tags": []
   },
   "outputs": [
    {
     "data": {
      "text/plain": [
       "5683"
      ]
     },
     "execution_count": 48,
     "metadata": {},
     "output_type": "execute_result"
    }
   ],
   "source": [
    "PLl=[]\n",
    "for i in Per:\n",
    "    for j in i:\n",
    "        PLl.append(j)\n",
    "len(PLl)"
   ]
  },
  {
   "cell_type": "markdown",
   "id": "61ba30c2",
   "metadata": {
    "papermill": {
     "duration": 0.035755,
     "end_time": "2022-06-15T18:29:14.561112",
     "exception": false,
     "start_time": "2022-06-15T18:29:14.525357",
     "status": "completed"
    },
    "tags": []
   },
   "source": [
    "# removing redundant name"
   ]
  },
  {
   "cell_type": "code",
   "execution_count": 49,
   "id": "04c2dea8",
   "metadata": {
    "execution": {
     "iopub.execute_input": "2022-06-15T18:29:14.637892Z",
     "iopub.status.busy": "2022-06-15T18:29:14.637173Z",
     "iopub.status.idle": "2022-06-15T18:29:14.647094Z",
     "shell.execute_reply": "2022-06-15T18:29:14.646243Z"
    },
    "papermill": {
     "duration": 0.050016,
     "end_time": "2022-06-15T18:29:14.649124",
     "exception": false,
     "start_time": "2022-06-15T18:29:14.599108",
     "status": "completed"
    },
    "tags": []
   },
   "outputs": [],
   "source": [
    "def uniqueName(iterable):\n",
    "    seen = set()\n",
    "    result = []\n",
    "    for item in iterable:\n",
    "        if item not in seen:\n",
    "            seen.add(item)\n",
    "            result.append(item)\n",
    "    return result\n",
    "Perr=[]\n",
    "for i in Per:\n",
    "    i=uniqueName(i)\n",
    "    Perr.append(i)\n",
    "    "
   ]
  },
  {
   "cell_type": "code",
   "execution_count": 50,
   "id": "962e267c",
   "metadata": {
    "execution": {
     "iopub.execute_input": "2022-06-15T18:29:14.722705Z",
     "iopub.status.busy": "2022-06-15T18:29:14.721880Z",
     "iopub.status.idle": "2022-06-15T18:29:14.730742Z",
     "shell.execute_reply": "2022-06-15T18:29:14.730015Z"
    },
    "papermill": {
     "duration": 0.047807,
     "end_time": "2022-06-15T18:29:14.732517",
     "exception": false,
     "start_time": "2022-06-15T18:29:14.684710",
     "status": "completed"
    },
    "tags": []
   },
   "outputs": [
    {
     "data": {
      "text/plain": [
       "5318"
      ]
     },
     "execution_count": 50,
     "metadata": {},
     "output_type": "execute_result"
    }
   ],
   "source": [
    "PL=[]\n",
    "for i in Perr:\n",
    "    for j in i:\n",
    "        PL.append(j)\n",
    "len(PL)"
   ]
  },
  {
   "cell_type": "code",
   "execution_count": 51,
   "id": "a0090cdc",
   "metadata": {
    "execution": {
     "iopub.execute_input": "2022-06-15T18:29:14.806692Z",
     "iopub.status.busy": "2022-06-15T18:29:14.805972Z",
     "iopub.status.idle": "2022-06-15T18:29:14.817671Z",
     "shell.execute_reply": "2022-06-15T18:29:14.816760Z"
    },
    "papermill": {
     "duration": 0.0516,
     "end_time": "2022-06-15T18:29:14.819848",
     "exception": false,
     "start_time": "2022-06-15T18:29:14.768248",
     "status": "completed"
    },
    "tags": []
   },
   "outputs": [],
   "source": [
    "P=[]\n",
    "for i in Perr:\n",
    "    L=[]\n",
    "    for j in range(len(i)):\n",
    "        L.append(i[j].split())\n",
    "    P.append(L)\n"
   ]
  },
  {
   "cell_type": "code",
   "execution_count": 52,
   "id": "00337d3c",
   "metadata": {
    "execution": {
     "iopub.execute_input": "2022-06-15T18:29:14.894627Z",
     "iopub.status.busy": "2022-06-15T18:29:14.893836Z",
     "iopub.status.idle": "2022-06-15T18:29:14.903732Z",
     "shell.execute_reply": "2022-06-15T18:29:14.902581Z"
    },
    "papermill": {
     "duration": 0.049933,
     "end_time": "2022-06-15T18:29:14.905664",
     "exception": false,
     "start_time": "2022-06-15T18:29:14.855731",
     "status": "completed"
    },
    "tags": []
   },
   "outputs": [
    {
     "data": {
      "text/plain": [
       "[['John Bowers', 'John E Bowers', 'Levi Stuber'],\n",
       " ['J Cheesborough', 'Levi Stuber'],\n",
       " ['Wm H Gilliland', 'Levi Stuber'],\n",
       " ['WA Wardlaw', 'J Miller Thompson', 'Daniel Lesesne', 'B Eaton'],\n",
       " ['Levi Stuber', 'Thomas Bonnell'],\n",
       " ['John Bonnell', 'James E Robinson Magst'],\n",
       " ['Elizabeth W Bonnell', 'James E Robinson Magst'],\n",
       " ['Caroline B Bonnell', 'James E Robinson Magstr'],\n",
       " ['Wm S Lanneau', 'Wm S Lamreau', 'Levi Stuber'],\n",
       " ['Thomas Bonnell', 'Levi Stuber'],\n",
       " ['Mary J Lockwood', 'Laurens', 'J E Ashe', 'GOD '],\n",
       " ['Caroline L Lockwood', 'JE Ashe'],\n",
       " ['Jane B Lockwood', 'J W Lockwood', 'Laurens', 'JW Lockwood'],\n",
       " ['Lockwood', 'Levi Stuber', 'I J Lockwood', 'J Lockwood'],\n",
       " ['James Bancroft', 'Levi Stuber', 'Jas Bancroft'],\n",
       " ['Walter Blake', 'Johnsons', 'BF', 'Perry'],\n",
       " ['Adeline E Brisbane', 'A E Brisbane', 'O', 'Shepherd', 'GOD ', 'O Shepherd'],\n",
       " ['Regina M Baker', 'Levi Stuber'],\n",
       " ['Esther Lynch Bowman',\n",
       "  'EL Bowman',\n",
       "  'Sumter',\n",
       "  'So Carol',\n",
       "  'TB Johnston',\n",
       "  'E L Bowman'],\n",
       " ['James E Thuring', 'J E Thuring'],\n",
       " ['James E Thuring', 'J E Thuring', 'Fredk A Ford'],\n",
       " ['Isabella C Thuring', 'Fredk A Ford', 'Govr Perry'],\n",
       " ['Charles F Benson', 'Chas F Benson', 'Levi Stuber', 'Chas', 'F Benson'],\n",
       " ['Eliza M Bonneau', 'W Burgess', 'Sumter , So Carol'],\n",
       " ['Mary Evelina Bull', 'Fredk A Ford', 'Perry'],\n",
       " ['Edmund Bull', 'E Bull', 'Levi Stuber'],\n",
       " ['RM Butler', 'Levi Stuber'],\n",
       " ['M P Browning', 'Levi Stuber'],\n",
       " ['G L Fickett', 'RW', 'Barnwell', 'R W Barnwell', 'GL Fickett'],\n",
       " ['John G Barnwell', 'Frank Geise'],\n",
       " ['Sarah E Brown', 'B G Read'],\n",
       " ['S E Brown', 'Levi Stuber'],\n",
       " ['John L Bell', 'Jno L Bell', 'Frank Geise'],\n",
       " ['Caroline L Brown', 'Frank Geise'],\n",
       " ['Margaret Brown', 'Margaret E Brown', 'Frank Geise'],\n",
       " ['Edward Barnwell', 'Ed Barnwell', 'M Burgess', 'Frank Geise'],\n",
       " ['James P Boyce', 'William H Seward'],\n",
       " ['Benjamin F Perry', 'James P Boyce'],\n",
       " ['Jno A Buchmyer', 'John A Buchmyer', 'Archibald Bogh'],\n",
       " ['I T A Whitney', 'T A Whitney', 'Archibald Boyle'],\n",
       " ['John E Bowers', 'Archibald Bogle'],\n",
       " ['Alexander Bowie', 'Cook'],\n",
       " ['Eliza A Bowie', 'W P Cook'],\n",
       " ['James A Bowie', 'Jas A Bowie', 'WP Cook'],\n",
       " ['E M Clark', 'Frank Geise'],\n",
       " ['Levi Stuber', 'John P Clement', 'J P Clement'],\n",
       " ['M W Clement', 'Levi Stuber'],\n",
       " ['I J M Curtis', 'Jas M Curtis', 'J Milton Thompson'],\n",
       " ['James M Curtis'],\n",
       " ['A J Clark', 'AJ Clark', 'Frank Geise']]"
      ]
     },
     "execution_count": 52,
     "metadata": {},
     "output_type": "execute_result"
    }
   ],
   "source": [
    "Perr[1000:1050]"
   ]
  },
  {
   "cell_type": "code",
   "execution_count": 53,
   "id": "cece9436",
   "metadata": {
    "execution": {
     "iopub.execute_input": "2022-06-15T18:29:14.984407Z",
     "iopub.status.busy": "2022-06-15T18:29:14.983360Z",
     "iopub.status.idle": "2022-06-15T18:29:14.993401Z",
     "shell.execute_reply": "2022-06-15T18:29:14.992401Z"
    },
    "papermill": {
     "duration": 0.053651,
     "end_time": "2022-06-15T18:29:14.995968",
     "exception": false,
     "start_time": "2022-06-15T18:29:14.942317",
     "status": "completed"
    },
    "tags": []
   },
   "outputs": [
    {
     "data": {
      "text/plain": [
       "['I C Meekins', 'Isaac C Meekins', 'E H Walker']"
      ]
     },
     "execution_count": 53,
     "metadata": {},
     "output_type": "execute_result"
    }
   ],
   "source": [
    "Perr[0]"
   ]
  },
  {
   "cell_type": "code",
   "execution_count": 54,
   "id": "c9a84559",
   "metadata": {
    "execution": {
     "iopub.execute_input": "2022-06-15T18:29:15.080164Z",
     "iopub.status.busy": "2022-06-15T18:29:15.079564Z",
     "iopub.status.idle": "2022-06-15T18:29:15.086374Z",
     "shell.execute_reply": "2022-06-15T18:29:15.085401Z"
    },
    "papermill": {
     "duration": 0.049244,
     "end_time": "2022-06-15T18:29:15.089155",
     "exception": false,
     "start_time": "2022-06-15T18:29:15.039911",
     "status": "completed"
    },
    "tags": []
   },
   "outputs": [
    {
     "data": {
      "text/plain": [
       "[['John', 'Bowers'], ['John', 'E', 'Bowers'], ['Levi', 'Stuber']]"
      ]
     },
     "execution_count": 54,
     "metadata": {},
     "output_type": "execute_result"
    }
   ],
   "source": [
    "P[1000]"
   ]
  },
  {
   "cell_type": "code",
   "execution_count": 55,
   "id": "f1e60af5",
   "metadata": {
    "execution": {
     "iopub.execute_input": "2022-06-15T18:29:15.171122Z",
     "iopub.status.busy": "2022-06-15T18:29:15.170023Z",
     "iopub.status.idle": "2022-06-15T18:29:15.176663Z",
     "shell.execute_reply": "2022-06-15T18:29:15.175936Z"
    },
    "papermill": {
     "duration": 0.050153,
     "end_time": "2022-06-15T18:29:15.178393",
     "exception": false,
     "start_time": "2022-06-15T18:29:15.128240",
     "status": "completed"
    },
    "tags": []
   },
   "outputs": [
    {
     "data": {
      "text/plain": [
       "[['I', 'C', 'Meekins'], ['Isaac', 'C', 'Meekins'], ['E', 'H', 'Walker']]"
      ]
     },
     "execution_count": 55,
     "metadata": {},
     "output_type": "execute_result"
    }
   ],
   "source": [
    "P[0]"
   ]
  },
  {
   "cell_type": "code",
   "execution_count": 56,
   "id": "f7605cc1",
   "metadata": {
    "execution": {
     "iopub.execute_input": "2022-06-15T18:29:15.257259Z",
     "iopub.status.busy": "2022-06-15T18:29:15.256641Z",
     "iopub.status.idle": "2022-06-15T18:29:15.262098Z",
     "shell.execute_reply": "2022-06-15T18:29:15.261423Z"
    },
    "papermill": {
     "duration": 0.047666,
     "end_time": "2022-06-15T18:29:15.263881",
     "exception": false,
     "start_time": "2022-06-15T18:29:15.216215",
     "status": "completed"
    },
    "tags": []
   },
   "outputs": [
    {
     "data": {
      "text/plain": [
       "[['Albert', 'C', 'Beals'], ['Jas', 'C', 'Davis']]"
      ]
     },
     "execution_count": 56,
     "metadata": {},
     "output_type": "execute_result"
    }
   ],
   "source": [
    "P[50]"
   ]
  },
  {
   "cell_type": "code",
   "execution_count": 57,
   "id": "71fa743d",
   "metadata": {
    "execution": {
     "iopub.execute_input": "2022-06-15T18:29:15.341443Z",
     "iopub.status.busy": "2022-06-15T18:29:15.340825Z",
     "iopub.status.idle": "2022-06-15T18:29:15.345987Z",
     "shell.execute_reply": "2022-06-15T18:29:15.345372Z"
    },
    "papermill": {
     "duration": 0.046071,
     "end_time": "2022-06-15T18:29:15.347853",
     "exception": false,
     "start_time": "2022-06-15T18:29:15.301782",
     "status": "completed"
    },
    "tags": []
   },
   "outputs": [
    {
     "data": {
      "text/plain": [
       "[['John', 'Bowers'], ['John', 'E', 'Bowers'], ['Levi', 'Stuber']]"
      ]
     },
     "execution_count": 57,
     "metadata": {},
     "output_type": "execute_result"
    }
   ],
   "source": [
    "P[1000]"
   ]
  },
  {
   "cell_type": "code",
   "execution_count": 58,
   "id": "7318adde",
   "metadata": {
    "execution": {
     "iopub.execute_input": "2022-06-15T18:29:15.426010Z",
     "iopub.status.busy": "2022-06-15T18:29:15.425373Z",
     "iopub.status.idle": "2022-06-15T18:29:15.430017Z",
     "shell.execute_reply": "2022-06-15T18:29:15.429393Z"
    },
    "papermill": {
     "duration": 0.046027,
     "end_time": "2022-06-15T18:29:15.431902",
     "exception": false,
     "start_time": "2022-06-15T18:29:15.385875",
     "status": "completed"
    },
    "tags": []
   },
   "outputs": [],
   "source": [
    "l=[[['I', 'C', 'Meekins'], ['Isaac', 'C', 'Meekins'], ['E', 'H', 'Walker']],[['John', 'Bowers'], ['John', 'E', 'Bowers'], ['Levi', 'Stuber']]]"
   ]
  },
  {
   "cell_type": "code",
   "execution_count": 59,
   "id": "0aeff60f",
   "metadata": {
    "execution": {
     "iopub.execute_input": "2022-06-15T18:29:15.509484Z",
     "iopub.status.busy": "2022-06-15T18:29:15.508720Z",
     "iopub.status.idle": "2022-06-15T18:29:15.512703Z",
     "shell.execute_reply": "2022-06-15T18:29:15.512045Z"
    },
    "papermill": {
     "duration": 0.045072,
     "end_time": "2022-06-15T18:29:15.514683",
     "exception": false,
     "start_time": "2022-06-15T18:29:15.469611",
     "status": "completed"
    },
    "tags": []
   },
   "outputs": [],
   "source": [
    "# fiPer=[]\n",
    "# for i in l:\n",
    "   \n",
    "#     L=[]\n",
    "#     for j in range(len(i)-1):\n",
    "#         if ((i[j][0]==i[j+1][0]) & (i[j][len(i[j])]==i[j+1][len(i[j])])) |(i[j][0]==i[j+1][0]):\n",
    "#                 continue\n",
    "#         L.append(i[j])\n",
    "#     fiPer.append(L)"
   ]
  },
  {
   "cell_type": "code",
   "execution_count": 60,
   "id": "ec3ef3c9",
   "metadata": {
    "execution": {
     "iopub.execute_input": "2022-06-15T18:29:15.594376Z",
     "iopub.status.busy": "2022-06-15T18:29:15.593714Z",
     "iopub.status.idle": "2022-06-15T18:29:15.597480Z",
     "shell.execute_reply": "2022-06-15T18:29:15.596537Z"
    },
    "papermill": {
     "duration": 0.04692,
     "end_time": "2022-06-15T18:29:15.599589",
     "exception": false,
     "start_time": "2022-06-15T18:29:15.552669",
     "status": "completed"
    },
    "tags": []
   },
   "outputs": [],
   "source": [
    "# fiPer"
   ]
  },
  {
   "cell_type": "code",
   "execution_count": 61,
   "id": "1de8e3cc",
   "metadata": {
    "execution": {
     "iopub.execute_input": "2022-06-15T18:29:15.677803Z",
     "iopub.status.busy": "2022-06-15T18:29:15.677194Z",
     "iopub.status.idle": "2022-06-15T18:29:15.680783Z",
     "shell.execute_reply": "2022-06-15T18:29:15.680168Z"
    },
    "papermill": {
     "duration": 0.044857,
     "end_time": "2022-06-15T18:29:15.682728",
     "exception": false,
     "start_time": "2022-06-15T18:29:15.637871",
     "status": "completed"
    },
    "tags": []
   },
   "outputs": [],
   "source": [
    "# fiPer=[]\n",
    "# for i in l:\n",
    "   \n",
    "#     L=[]\n",
    "#     for j in range(len(i)):\n",
    "#         if ((i[j][0]==i[j+1][0]) & (i[j][len(i[j])-1]==i[j+1][len(i[j])-1])) | (i[j][0]==i[j+1][0]):\n",
    "#                  print(i[j])\n",
    "\n",
    "        \n",
    "                \n",
    "                \n",
    "            \n",
    "        \n",
    "        "
   ]
  },
  {
   "cell_type": "code",
   "execution_count": null,
   "id": "84b4ba50",
   "metadata": {
    "papermill": {
     "duration": 0.037277,
     "end_time": "2022-06-15T18:29:15.758396",
     "exception": false,
     "start_time": "2022-06-15T18:29:15.721119",
     "status": "completed"
    },
    "tags": []
   },
   "outputs": [],
   "source": []
  },
  {
   "cell_type": "markdown",
   "id": "31f086ba",
   "metadata": {
    "papermill": {
     "duration": 0.037461,
     "end_time": "2022-06-15T18:29:15.833537",
     "exception": false,
     "start_time": "2022-06-15T18:29:15.796076",
     "status": "completed"
    },
    "tags": []
   },
   "source": [
    "##### "
   ]
  }
 ],
 "metadata": {
  "kernelspec": {
   "display_name": "Python 3",
   "language": "python",
   "name": "python3"
  },
  "language_info": {
   "codemirror_mode": {
    "name": "ipython",
    "version": 3
   },
   "file_extension": ".py",
   "mimetype": "text/x-python",
   "name": "python",
   "nbconvert_exporter": "python",
   "pygments_lexer": "ipython3",
   "version": "3.7.12"
  },
  "papermill": {
   "default_parameters": {},
   "duration": 110.644945,
   "end_time": "2022-06-15T18:29:18.492993",
   "environment_variables": {},
   "exception": null,
   "input_path": "__notebook__.ipynb",
   "output_path": "__notebook__.ipynb",
   "parameters": {},
   "start_time": "2022-06-15T18:27:27.848048",
   "version": "2.3.4"
  }
 },
 "nbformat": 4,
 "nbformat_minor": 5
}
