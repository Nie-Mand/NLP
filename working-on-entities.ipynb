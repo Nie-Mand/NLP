{
 "cells": [
  {
   "cell_type": "code",
   "execution_count": 1,
   "id": "68397aff",
   "metadata": {
    "_cell_guid": "b1076dfc-b9ad-4769-8c92-a6c4dae69d19",
    "_uuid": "8f2839f25d086af736a60e9eeb907d3b93b6e0e5",
    "execution": {
     "iopub.execute_input": "2022-06-15T11:53:35.778635Z",
     "iopub.status.busy": "2022-06-15T11:53:35.778007Z",
     "iopub.status.idle": "2022-06-15T11:53:45.068932Z",
     "shell.execute_reply": "2022-06-15T11:53:45.067696Z"
    },
    "papermill": {
     "duration": 9.314217,
     "end_time": "2022-06-15T11:53:45.071844",
     "exception": false,
     "start_time": "2022-06-15T11:53:35.757627",
     "status": "completed"
    },
    "tags": []
   },
   "outputs": [],
   "source": [
    "import numpy as np\n",
    "import pandas as pd \n",
    "import seaborn as sns\n",
    "import matplotlib.pyplot as plt \n",
    "import matplotlib.style as stl \n",
    "from tensorflow import keras \n",
    "from keras.preprocessing.text import Tokenizer\n",
    "from nltk.corpus import stopwords\n",
    "import string\n",
    "from tensorflow.keras.models import Sequential,Model\n",
    "from tensorflow.keras.layers import Dense, LSTM, Embedding,Dropout,SpatialDropout1D,Conv1D,MaxPooling1D,GRU,BatchNormalization\n",
    "import warnings\n",
    "warnings.filterwarnings('ignore')\n",
    "stl.use('ggplot')\n",
    "from tqdm import tqdm\n",
    "import string\n",
    "from nltk.corpus import stopwords\n",
    "from nltk.tokenize import word_tokenize\n",
    "from nltk.stem import WordNetLemmatizer\n",
    "from nltk.stem.snowball import SnowballStemmer\n",
    "import regex as re\n",
    "import pickle"
   ]
  },
  {
   "cell_type": "code",
   "execution_count": 2,
   "id": "b5513173",
   "metadata": {
    "execution": {
     "iopub.execute_input": "2022-06-15T11:53:45.110042Z",
     "iopub.status.busy": "2022-06-15T11:53:45.109375Z",
     "iopub.status.idle": "2022-06-15T11:54:34.096984Z",
     "shell.execute_reply": "2022-06-15T11:54:34.095717Z"
    },
    "papermill": {
     "duration": 49.009638,
     "end_time": "2022-06-15T11:54:34.099632",
     "exception": false,
     "start_time": "2022-06-15T11:53:45.089994",
     "status": "completed"
    },
    "tags": []
   },
   "outputs": [
    {
     "name": "stdout",
     "output_type": "stream",
     "text": [
      "Collecting flair\r\n",
      "  Downloading flair-0.11.3-py3-none-any.whl (401 kB)\r\n",
      "\u001b[2K     \u001b[90m━━━━━━━━━━━━━━━━━━━━━━━━━━━━━━━━━━━━━━━\u001b[0m \u001b[32m401.9/401.9 kB\u001b[0m \u001b[31m4.2 MB/s\u001b[0m eta \u001b[36m0:00:00\u001b[0m\r\n",
      "\u001b[?25hCollecting bpemb>=0.3.2\r\n",
      "  Downloading bpemb-0.3.3-py3-none-any.whl (19 kB)\r\n",
      "Collecting conllu>=4.0\r\n",
      "  Downloading conllu-4.4.2-py2.py3-none-any.whl (15 kB)\r\n",
      "Requirement already satisfied: huggingface-hub in /opt/conda/lib/python3.7/site-packages (from flair) (0.5.1)\r\n",
      "Requirement already satisfied: transformers>=4.0.0 in /opt/conda/lib/python3.7/site-packages (from flair) (4.18.0)\r\n",
      "Collecting langdetect\r\n",
      "  Downloading langdetect-1.0.9.tar.gz (981 kB)\r\n",
      "\u001b[2K     \u001b[90m━━━━━━━━━━━━━━━━━━━━━━━━━━━━━━━━━━━━━━\u001b[0m \u001b[32m981.5/981.5 kB\u001b[0m \u001b[31m17.8 MB/s\u001b[0m eta \u001b[36m0:00:00\u001b[0m\r\n",
      "\u001b[?25h  Preparing metadata (setup.py) ... \u001b[?25l-\b \bdone\r\n",
      "\u001b[?25hCollecting konoha<5.0.0,>=4.0.0\r\n",
      "  Downloading konoha-4.6.5-py3-none-any.whl (20 kB)\r\n",
      "Collecting deprecated>=1.2.4\r\n",
      "  Downloading Deprecated-1.2.13-py2.py3-none-any.whl (9.6 kB)\r\n",
      "Requirement already satisfied: scikit-learn>=0.21.3 in /opt/conda/lib/python3.7/site-packages (from flair) (1.0.2)\r\n",
      "Collecting mpld3==0.3\r\n",
      "  Downloading mpld3-0.3.tar.gz (788 kB)\r\n",
      "\u001b[2K     \u001b[90m━━━━━━━━━━━━━━━━━━━━━━━━━━━━━━━━━━━━━━\u001b[0m \u001b[32m788.5/788.5 kB\u001b[0m \u001b[31m35.1 MB/s\u001b[0m eta \u001b[36m0:00:00\u001b[0m\r\n",
      "\u001b[?25h  Preparing metadata (setup.py) ... \u001b[?25l-\b \bdone\r\n",
      "\u001b[?25hRequirement already satisfied: hyperopt>=0.2.7 in /opt/conda/lib/python3.7/site-packages (from flair) (0.2.7)\r\n",
      "Requirement already satisfied: janome in /opt/conda/lib/python3.7/site-packages (from flair) (0.4.2)\r\n",
      "Collecting sqlitedict>=1.6.0\r\n",
      "  Downloading sqlitedict-2.0.0.tar.gz (46 kB)\r\n",
      "\u001b[2K     \u001b[90m━━━━━━━━━━━━━━━━━━━━━━━━━━━━━━━━━━━━━━━━\u001b[0m \u001b[32m46.3/46.3 kB\u001b[0m \u001b[31m3.1 MB/s\u001b[0m eta \u001b[36m0:00:00\u001b[0m\r\n",
      "\u001b[?25h  Preparing metadata (setup.py) ... \u001b[?25l-\b \bdone\r\n",
      "\u001b[?25hRequirement already satisfied: more-itertools in /opt/conda/lib/python3.7/site-packages (from flair) (8.13.0)\r\n",
      "Requirement already satisfied: torch!=1.8,>=1.5.0 in /opt/conda/lib/python3.7/site-packages (from flair) (1.11.0+cpu)\r\n",
      "Collecting ftfy\r\n",
      "  Downloading ftfy-6.1.1-py3-none-any.whl (53 kB)\r\n",
      "\u001b[2K     \u001b[90m━━━━━━━━━━━━━━━━━━━━━━━━━━━━━━━━━━━━━━━━\u001b[0m \u001b[32m53.1/53.1 kB\u001b[0m \u001b[31m4.2 MB/s\u001b[0m eta \u001b[36m0:00:00\u001b[0m\r\n",
      "\u001b[?25hCollecting wikipedia-api\r\n",
      "  Downloading Wikipedia-API-0.5.4.tar.gz (18 kB)\r\n",
      "  Preparing metadata (setup.py) ... \u001b[?25l-\b \bdone\r\n",
      "\u001b[?25hRequirement already satisfied: matplotlib>=2.2.3 in /opt/conda/lib/python3.7/site-packages (from flair) (3.5.2)\r\n",
      "Requirement already satisfied: lxml in /opt/conda/lib/python3.7/site-packages (from flair) (4.8.0)\r\n",
      "Requirement already satisfied: gensim>=3.4.0 in /opt/conda/lib/python3.7/site-packages (from flair) (4.0.1)\r\n",
      "Requirement already satisfied: tabulate in /opt/conda/lib/python3.7/site-packages (from flair) (0.8.9)\r\n",
      "Collecting sentencepiece==0.1.95\r\n",
      "  Downloading sentencepiece-0.1.95-cp37-cp37m-manylinux2014_x86_64.whl (1.2 MB)\r\n",
      "\u001b[2K     \u001b[90m━━━━━━━━━━━━━━━━━━━━━━━━━━━━━━━━━━━━━━━━\u001b[0m \u001b[32m1.2/1.2 MB\u001b[0m \u001b[31m23.6 MB/s\u001b[0m eta \u001b[36m0:00:00\u001b[0m\r\n",
      "\u001b[?25hRequirement already satisfied: regex in /opt/conda/lib/python3.7/site-packages (from flair) (2021.11.10)\r\n",
      "Requirement already satisfied: tqdm>=4.26.0 in /opt/conda/lib/python3.7/site-packages (from flair) (4.64.0)\r\n",
      "Collecting segtok>=1.5.7\r\n",
      "  Downloading segtok-1.5.11-py3-none-any.whl (24 kB)\r\n",
      "Requirement already satisfied: python-dateutil>=2.6.1 in /opt/conda/lib/python3.7/site-packages (from flair) (2.8.2)\r\n",
      "Collecting gdown==4.4.0\r\n",
      "  Downloading gdown-4.4.0.tar.gz (14 kB)\r\n",
      "  Installing build dependencies ... \u001b[?25l-\b \b\\\b \b|\b \b/\b \b-\b \b\\\b \bdone\r\n",
      "\u001b[?25h  Getting requirements to build wheel ... \u001b[?25l-\b \b\\\b \b|\b \b/\b \b-\b \bdone\r\n",
      "\u001b[?25h  Preparing metadata (pyproject.toml) ... \u001b[?25l-\b \b\\\b \b|\b \b/\b \b-\b \bdone\r\n",
      "\u001b[?25hCollecting pptree\r\n",
      "  Downloading pptree-3.1.tar.gz (3.0 kB)\r\n",
      "  Preparing metadata (setup.py) ... \u001b[?25l-\b \bdone\r\n",
      "\u001b[?25hRequirement already satisfied: beautifulsoup4 in /opt/conda/lib/python3.7/site-packages (from gdown==4.4.0->flair) (4.11.1)\r\n",
      "Requirement already satisfied: requests[socks] in /opt/conda/lib/python3.7/site-packages (from gdown==4.4.0->flair) (2.27.1)\r\n",
      "Requirement already satisfied: filelock in /opt/conda/lib/python3.7/site-packages (from gdown==4.4.0->flair) (3.6.0)\r\n",
      "Requirement already satisfied: six in /opt/conda/lib/python3.7/site-packages (from gdown==4.4.0->flair) (1.16.0)\r\n",
      "Requirement already satisfied: numpy in /opt/conda/lib/python3.7/site-packages (from bpemb>=0.3.2->flair) (1.21.6)\r\n",
      "Requirement already satisfied: wrapt<2,>=1.10 in /opt/conda/lib/python3.7/site-packages (from deprecated>=1.2.4->flair) (1.14.1)\r\n",
      "Requirement already satisfied: smart-open>=1.8.1 in /opt/conda/lib/python3.7/site-packages (from gensim>=3.4.0->flair) (5.2.1)\r\n",
      "Requirement already satisfied: scipy>=0.18.1 in /opt/conda/lib/python3.7/site-packages (from gensim>=3.4.0->flair) (1.7.3)\r\n",
      "Requirement already satisfied: cloudpickle in /opt/conda/lib/python3.7/site-packages (from hyperopt>=0.2.7->flair) (2.0.0)\r\n",
      "Requirement already satisfied: future in /opt/conda/lib/python3.7/site-packages (from hyperopt>=0.2.7->flair) (0.18.2)\r\n",
      "Requirement already satisfied: py4j in /opt/conda/lib/python3.7/site-packages (from hyperopt>=0.2.7->flair) (0.10.9.5)\r\n",
      "Requirement already satisfied: networkx>=2.2 in /opt/conda/lib/python3.7/site-packages (from hyperopt>=0.2.7->flair) (2.5)\r\n",
      "Collecting overrides<4.0.0,>=3.0.0\r\n",
      "  Downloading overrides-3.1.0.tar.gz (11 kB)\r\n",
      "  Preparing metadata (setup.py) ... \u001b[?25l-\b \bdone\r\n",
      "\u001b[?25hCollecting importlib-metadata<4.0.0,>=3.7.0\r\n",
      "  Downloading importlib_metadata-3.10.1-py3-none-any.whl (14 kB)\r\n",
      "Requirement already satisfied: kiwisolver>=1.0.1 in /opt/conda/lib/python3.7/site-packages (from matplotlib>=2.2.3->flair) (1.4.2)\r\n",
      "Requirement already satisfied: pyparsing>=2.2.1 in /opt/conda/lib/python3.7/site-packages (from matplotlib>=2.2.3->flair) (3.0.9)\r\n",
      "Requirement already satisfied: pillow>=6.2.0 in /opt/conda/lib/python3.7/site-packages (from matplotlib>=2.2.3->flair) (9.1.0)\r\n",
      "Requirement already satisfied: fonttools>=4.22.0 in /opt/conda/lib/python3.7/site-packages (from matplotlib>=2.2.3->flair) (4.33.3)\r\n",
      "Requirement already satisfied: packaging>=20.0 in /opt/conda/lib/python3.7/site-packages (from matplotlib>=2.2.3->flair) (21.3)\r\n",
      "Requirement already satisfied: cycler>=0.10 in /opt/conda/lib/python3.7/site-packages (from matplotlib>=2.2.3->flair) (0.11.0)\r\n",
      "Requirement already satisfied: joblib>=0.11 in /opt/conda/lib/python3.7/site-packages (from scikit-learn>=0.21.3->flair) (1.1.0)\r\n",
      "Requirement already satisfied: threadpoolctl>=2.0.0 in /opt/conda/lib/python3.7/site-packages (from scikit-learn>=0.21.3->flair) (3.1.0)\r\n",
      "Requirement already satisfied: typing-extensions in /opt/conda/lib/python3.7/site-packages (from torch!=1.8,>=1.5.0->flair) (4.2.0)\r\n",
      "Requirement already satisfied: sacremoses in /opt/conda/lib/python3.7/site-packages (from transformers>=4.0.0->flair) (0.0.53)\r\n",
      "Requirement already satisfied: tokenizers!=0.11.3,<0.13,>=0.11.1 in /opt/conda/lib/python3.7/site-packages (from transformers>=4.0.0->flair) (0.12.1)\r\n",
      "Requirement already satisfied: pyyaml>=5.1 in /opt/conda/lib/python3.7/site-packages (from transformers>=4.0.0->flair) (6.0)\r\n",
      "Requirement already satisfied: wcwidth>=0.2.5 in /opt/conda/lib/python3.7/site-packages (from ftfy->flair) (0.2.5)\r\n",
      "Requirement already satisfied: zipp>=0.5 in /opt/conda/lib/python3.7/site-packages (from importlib-metadata<4.0.0,>=3.7.0->konoha<5.0.0,>=4.0.0->flair) (3.8.0)\r\n",
      "Requirement already satisfied: decorator>=4.3.0 in /opt/conda/lib/python3.7/site-packages (from networkx>=2.2->hyperopt>=0.2.7->flair) (5.1.1)\r\n",
      "Requirement already satisfied: certifi>=2017.4.17 in /opt/conda/lib/python3.7/site-packages (from requests[socks]->gdown==4.4.0->flair) (2022.5.18.1)\r\n",
      "Requirement already satisfied: idna<4,>=2.5 in /opt/conda/lib/python3.7/site-packages (from requests[socks]->gdown==4.4.0->flair) (3.3)\r\n",
      "Requirement already satisfied: urllib3<1.27,>=1.21.1 in /opt/conda/lib/python3.7/site-packages (from requests[socks]->gdown==4.4.0->flair) (1.26.9)\r\n",
      "Requirement already satisfied: charset-normalizer~=2.0.0 in /opt/conda/lib/python3.7/site-packages (from requests[socks]->gdown==4.4.0->flair) (2.0.12)\r\n",
      "Requirement already satisfied: soupsieve>1.2 in /opt/conda/lib/python3.7/site-packages (from beautifulsoup4->gdown==4.4.0->flair) (2.3.1)\r\n",
      "Requirement already satisfied: PySocks!=1.5.7,>=1.5.6 in /opt/conda/lib/python3.7/site-packages (from requests[socks]->gdown==4.4.0->flair) (1.7.1)\r\n",
      "Requirement already satisfied: click in /opt/conda/lib/python3.7/site-packages (from sacremoses->transformers>=4.0.0->flair) (8.0.4)\r\n",
      "Building wheels for collected packages: gdown, mpld3, sqlitedict, langdetect, pptree, wikipedia-api, overrides\r\n",
      "  Building wheel for gdown (pyproject.toml) ... \u001b[?25l-\b \b\\\b \b|\b \b/\b \b-\b \b\\\b \b|\b \b/\b \bdone\r\n",
      "\u001b[?25h  Created wheel for gdown: filename=gdown-4.4.0-py3-none-any.whl size=14759 sha256=ac901884ee2ace06a963ed9ff046c5e38c86598a56be3ee2617a5f673e80be7f\r\n",
      "  Stored in directory: /root/.cache/pip/wheels/fb/c3/0e/c4d8ff8bfcb0461afff199471449f642179b74968c15b7a69c\r\n",
      "  Building wheel for mpld3 (setup.py) ... \u001b[?25l-\b \b\\\b \bdone\r\n",
      "\u001b[?25h  Created wheel for mpld3: filename=mpld3-0.3-py3-none-any.whl size=116702 sha256=5ce885522674b8d49d6697de366b8a795f346c61467b7d91e52e065c2c93f3dc\r\n",
      "  Stored in directory: /root/.cache/pip/wheels/26/70/6a/1c79e59951a41b4045497da187b2724f5659ca64033cf4548e\r\n",
      "  Building wheel for sqlitedict (setup.py) ... \u001b[?25l-\b \bdone\r\n",
      "\u001b[?25h  Created wheel for sqlitedict: filename=sqlitedict-2.0.0-py3-none-any.whl size=15736 sha256=a2d8799fe8d7b92902b9aae9baa5ed38df8b720a8032f639a7841eef202add49\r\n",
      "  Stored in directory: /root/.cache/pip/wheels/96/dd/2e/0ed4a25cb73fc30c7ea8d10b50acb7226175736067e40a7ea3\r\n",
      "  Building wheel for langdetect (setup.py) ... \u001b[?25l-\b \b\\\b \b|\b \b/\b \bdone\r\n",
      "\u001b[?25h  Created wheel for langdetect: filename=langdetect-1.0.9-py3-none-any.whl size=993242 sha256=9a18155e4873f04c936ab4e727830848f849e81090918737f4ef6719b130da49\r\n",
      "  Stored in directory: /root/.cache/pip/wheels/c5/96/8a/f90c59ed25d75e50a8c10a1b1c2d4c402e4dacfa87f3aff36a\r\n",
      "  Building wheel for pptree (setup.py) ... \u001b[?25l-\b \b\\\b \bdone\r\n",
      "\u001b[?25h  Created wheel for pptree: filename=pptree-3.1-py3-none-any.whl size=4629 sha256=2b946118cba964beb4ac2d43623827e24557bc09882e298162a8c0f1b7eebfe5\r\n",
      "  Stored in directory: /root/.cache/pip/wheels/9e/e8/7d/a9c3c19b4722608a0d8b05a38c36bc3f230c43becd2a46794b\r\n",
      "  Building wheel for wikipedia-api (setup.py) ... \u001b[?25l-\b \b\\\b \bdone\r\n",
      "\u001b[?25h  Created wheel for wikipedia-api: filename=Wikipedia_API-0.5.4-py3-none-any.whl size=13477 sha256=b1f45e4c45d84efe733f3dfe38e4b9d0025bcc6d91c53e923bbc7bd3e84c67d1\r\n",
      "  Stored in directory: /root/.cache/pip/wheels/d3/24/56/58ba93cf78be162451144e7a9889603f437976ef1ae7013d04\r\n",
      "  Building wheel for overrides (setup.py) ... \u001b[?25l-\b \b\\\b \bdone\r\n",
      "\u001b[?25h  Created wheel for overrides: filename=overrides-3.1.0-py3-none-any.whl size=10187 sha256=ee891901a4f82c604d817afb84847c6cb3ca812ac194cf67a4c80dee447c91d6\r\n",
      "  Stored in directory: /root/.cache/pip/wheels/3a/0d/38/01a9bc6e20dcfaf0a6a7b552d03137558ba1c38aea47644682\r\n",
      "Successfully built gdown mpld3 sqlitedict langdetect pptree wikipedia-api overrides\r\n",
      "Installing collected packages: sqlitedict, sentencepiece, pptree, overrides, mpld3, segtok, langdetect, importlib-metadata, ftfy, deprecated, conllu, wikipedia-api, konoha, gdown, bpemb, flair\r\n",
      "  Attempting uninstall: sentencepiece\r\n",
      "    Found existing installation: sentencepiece 0.1.96\r\n",
      "    Uninstalling sentencepiece-0.1.96:\r\n",
      "      Successfully uninstalled sentencepiece-0.1.96\r\n",
      "  Attempting uninstall: overrides\r\n",
      "    Found existing installation: overrides 6.1.0\r\n",
      "    Uninstalling overrides-6.1.0:\r\n",
      "      Successfully uninstalled overrides-6.1.0\r\n",
      "  Attempting uninstall: mpld3\r\n",
      "    Found existing installation: mpld3 0.5.7\r\n",
      "    Uninstalling mpld3-0.5.7:\r\n",
      "      Successfully uninstalled mpld3-0.5.7\r\n",
      "  Attempting uninstall: importlib-metadata\r\n",
      "    Found existing installation: importlib-metadata 4.11.4\r\n",
      "    Uninstalling importlib-metadata-4.11.4:\r\n",
      "      Successfully uninstalled importlib-metadata-4.11.4\r\n",
      "\u001b[31mERROR: pip's dependency resolver does not currently take into account all the packages that are installed. This behaviour is the source of the following dependency conflicts.\r\n",
      "markdown 3.3.7 requires importlib-metadata>=4.4; python_version < \"3.10\", but you have importlib-metadata 3.10.1 which is incompatible.\r\n",
      "ibis-framework 2.1.1 requires importlib-metadata<5,>=4; python_version < \"3.8\", but you have importlib-metadata 3.10.1 which is incompatible.\r\n",
      "gym 0.23.1 requires importlib-metadata>=4.10.0; python_version < \"3.10\", but you have importlib-metadata 3.10.1 which is incompatible.\r\n",
      "google-cloud-pubsublite 1.4.2 requires overrides<7.0.0,>=6.0.1, but you have overrides 3.1.0 which is incompatible.\u001b[0m\u001b[31m\r\n",
      "\u001b[0mSuccessfully installed bpemb-0.3.3 conllu-4.4.2 deprecated-1.2.13 flair-0.11.3 ftfy-6.1.1 gdown-4.4.0 importlib-metadata-3.10.1 konoha-4.6.5 langdetect-1.0.9 mpld3-0.3 overrides-3.1.0 pptree-3.1 segtok-1.5.11 sentencepiece-0.1.95 sqlitedict-2.0.0 wikipedia-api-0.5.4\r\n",
      "\u001b[33mWARNING: Running pip as the 'root' user can result in broken permissions and conflicting behaviour with the system package manager. It is recommended to use a virtual environment instead: https://pip.pypa.io/warnings/venv\u001b[0m\u001b[33m\r\n",
      "\u001b[0m"
     ]
    }
   ],
   "source": [
    "!pip install flair"
   ]
  },
  {
   "cell_type": "markdown",
   "id": "32c08406",
   "metadata": {
    "papermill": {
     "duration": 0.02443,
     "end_time": "2022-06-15T11:54:34.150438",
     "exception": false,
     "start_time": "2022-06-15T11:54:34.126008",
     "status": "completed"
    },
    "tags": []
   },
   "source": [
    "# Audf"
   ]
  },
  {
   "cell_type": "code",
   "execution_count": 3,
   "id": "5af31677",
   "metadata": {
    "execution": {
     "iopub.execute_input": "2022-06-15T11:54:34.203548Z",
     "iopub.status.busy": "2022-06-15T11:54:34.203076Z",
     "iopub.status.idle": "2022-06-15T11:54:41.658026Z",
     "shell.execute_reply": "2022-06-15T11:54:41.656822Z"
    },
    "papermill": {
     "duration": 7.483727,
     "end_time": "2022-06-15T11:54:41.660586",
     "exception": false,
     "start_time": "2022-06-15T11:54:34.176859",
     "status": "completed"
    },
    "tags": []
   },
   "outputs": [],
   "source": [
    "with open('../input/entities/entityAu.pkl', 'rb') as f:\n",
    "    entitiesA = pickle.load(f)"
   ]
  },
  {
   "cell_type": "code",
   "execution_count": 4,
   "id": "e2eaa1cc",
   "metadata": {
    "execution": {
     "iopub.execute_input": "2022-06-15T11:54:41.719490Z",
     "iopub.status.busy": "2022-06-15T11:54:41.718281Z",
     "iopub.status.idle": "2022-06-15T11:54:42.238901Z",
     "shell.execute_reply": "2022-06-15T11:54:42.237825Z"
    },
    "papermill": {
     "duration": 0.555056,
     "end_time": "2022-06-15T11:54:42.241509",
     "exception": false,
     "start_time": "2022-06-15T11:54:41.686453",
     "status": "completed"
    },
    "tags": []
   },
   "outputs": [],
   "source": [
    "Per=[]\n",
    "Date=[]\n",
    "GPE=[]\n",
    "ORG=[]\n",
    "from flair.data import Sentence\n",
    "\n",
    "Audf=pd.DataFrame({\"text\":\"\", \"PERSON-ontonotes\":[], \"GPE-ontonotes\":\"\",\"ORG-ontonotes\":\"\", \"Date-ontonotes\":\"\"})\n",
    "\n",
    "\n",
    "\n",
    "for i in entitiesA:\n",
    "    \n",
    " dc={}\n",
    " P=[]\n",
    " D=[]\n",
    " G=[]\n",
    " O=[]\n",
    " for entity in i:\n",
    "    if (entity.get_label(\"ner\").score > 0.98) & (entity.get_label(\"ner\").value != \"CARDINAL\") & (entity.get_label(\"ner\").value != \"LAW\")& (entity.get_label(\"ner\").value != \"QUANTITY\") & (entity.get_label(\"ner\").value != \"WORK_OF_ART\") & (entity.get_label(\"ner\").value != \"LAW\")& (entity.get_label(\"ner\").value != \"QUANTITY\") & (entity.get_label(\"ner\").value != \"EVENT\")  :\n",
    "                        dc[entity.text]= entity.get_label(\"ner\").value \n",
    "                        \n",
    "        \n",
    "        \n",
    " for j in dc :\n",
    "                if dc[j]==\"PERSON\":\n",
    "                      P.append(j)\n",
    "                elif dc[j]==\"ORG\":\n",
    "                      O.append(j)\n",
    "                elif dc[j]==\"DATE\":\n",
    "                      D.append(j)\n",
    "                elif dc[j]==\"GPE\":\n",
    "                      G.append(j)\n",
    " Per.append(P)\n",
    " Date.append(D)\n",
    " ORG.append(O)\n",
    " GPE.append(G)\n",
    "            \n",
    "Audf[\"Date-ontonotes\"]=Date\n",
    "Audf[\"PERSON-ontonotes\"]=Per\n",
    "Audf[\"GPE-ontonotes\"]=GPE\n",
    "Audf[\"ORG-ontonotes\"]=ORG    "
   ]
  },
  {
   "cell_type": "code",
   "execution_count": 5,
   "id": "1595aa5d",
   "metadata": {
    "execution": {
     "iopub.execute_input": "2022-06-15T11:54:42.294635Z",
     "iopub.status.busy": "2022-06-15T11:54:42.294220Z",
     "iopub.status.idle": "2022-06-15T11:54:42.331876Z",
     "shell.execute_reply": "2022-06-15T11:54:42.330821Z"
    },
    "papermill": {
     "duration": 0.067,
     "end_time": "2022-06-15T11:54:42.334419",
     "exception": false,
     "start_time": "2022-06-15T11:54:42.267419",
     "status": "completed"
    },
    "tags": []
   },
   "outputs": [
    {
     "data": {
      "text/html": [
       "<div>\n",
       "<style scoped>\n",
       "    .dataframe tbody tr th:only-of-type {\n",
       "        vertical-align: middle;\n",
       "    }\n",
       "\n",
       "    .dataframe tbody tr th {\n",
       "        vertical-align: top;\n",
       "    }\n",
       "\n",
       "    .dataframe thead th {\n",
       "        text-align: right;\n",
       "    }\n",
       "</style>\n",
       "<table border=\"1\" class=\"dataframe\">\n",
       "  <thead>\n",
       "    <tr style=\"text-align: right;\">\n",
       "      <th></th>\n",
       "      <th>text</th>\n",
       "      <th>PERSON-ontonotes</th>\n",
       "      <th>GPE-ontonotes</th>\n",
       "      <th>ORG-ontonotes</th>\n",
       "      <th>Date-ontonotes</th>\n",
       "    </tr>\n",
       "  </thead>\n",
       "  <tbody>\n",
       "    <tr>\n",
       "      <th>0</th>\n",
       "      <td>NaN</td>\n",
       "      <td>[I C Meekins, Isaac C. Meekins, E H Walker, Jo...</td>\n",
       "      <td>[Currituck County ,]</td>\n",
       "      <td>[]</td>\n",
       "      <td>[16 day of Sept A.D . , 1865]</td>\n",
       "    </tr>\n",
       "    <tr>\n",
       "      <th>1</th>\n",
       "      <td>NaN</td>\n",
       "      <td>[]</td>\n",
       "      <td>[North Carolina, United States, States]</td>\n",
       "      <td>[Department of Virginia, State]</td>\n",
       "      <td>[1864]</td>\n",
       "    </tr>\n",
       "    <tr>\n",
       "      <th>2</th>\n",
       "      <td>NaN</td>\n",
       "      <td>[W. H. Pearce, W . H. Pearce]</td>\n",
       "      <td>[]</td>\n",
       "      <td>[]</td>\n",
       "      <td>[3rd day of October , A.D. , 1865]</td>\n",
       "    </tr>\n",
       "    <tr>\n",
       "      <th>3</th>\n",
       "      <td>NaN</td>\n",
       "      <td>[]</td>\n",
       "      <td>[North Carolina, United States]</td>\n",
       "      <td>[]</td>\n",
       "      <td>[______ day of ____________ , 1866]</td>\n",
       "    </tr>\n",
       "    <tr>\n",
       "      <th>4</th>\n",
       "      <td>NaN</td>\n",
       "      <td>[S.E . Allen]</td>\n",
       "      <td>[North Carolina, Wake County, United States]</td>\n",
       "      <td>[]</td>\n",
       "      <td>[31st day of May , 1867]</td>\n",
       "    </tr>\n",
       "    <tr>\n",
       "      <th>...</th>\n",
       "      <td>...</td>\n",
       "      <td>...</td>\n",
       "      <td>...</td>\n",
       "      <td>...</td>\n",
       "      <td>...</td>\n",
       "    </tr>\n",
       "    <tr>\n",
       "      <th>2131</th>\n",
       "      <td>NaN</td>\n",
       "      <td>[Geo . Little, Geo . B. Ayer]</td>\n",
       "      <td>[Raleigh, N.C., Wake County, N.C, United State...</td>\n",
       "      <td>[]</td>\n",
       "      <td>[May 26, July 14]</td>\n",
       "    </tr>\n",
       "    <tr>\n",
       "      <th>2132</th>\n",
       "      <td>NaN</td>\n",
       "      <td>[Birnie]</td>\n",
       "      <td>[]</td>\n",
       "      <td>[]</td>\n",
       "      <td>[July 30th 1867]</td>\n",
       "    </tr>\n",
       "    <tr>\n",
       "      <th>2133</th>\n",
       "      <td>NaN</td>\n",
       "      <td>[William Birnie]</td>\n",
       "      <td>[North Carolina, Robeson County, United States]</td>\n",
       "      <td>[]</td>\n",
       "      <td>[30 day of July]</td>\n",
       "    </tr>\n",
       "    <tr>\n",
       "      <th>2134</th>\n",
       "      <td>NaN</td>\n",
       "      <td>[A.L . Price, James Fulton, John D Conoley, Al...</td>\n",
       "      <td>[North Carolina, New Hanover County, New Hanov...</td>\n",
       "      <td>[Fulton Price]</td>\n",
       "      <td>[May 29 1865, 15th Sept 1865, 15th September A...</td>\n",
       "    </tr>\n",
       "    <tr>\n",
       "      <th>2135</th>\n",
       "      <td>NaN</td>\n",
       "      <td>[James Fulton, Wm A. Cutler, Geo W. Pollock, F...</td>\n",
       "      <td>[Wilmington N.C, New Hanover County]</td>\n",
       "      <td>[]</td>\n",
       "      <td>[Sept 22 . 1865, Twentyseventh day of Septembe...</td>\n",
       "    </tr>\n",
       "  </tbody>\n",
       "</table>\n",
       "<p>2136 rows × 5 columns</p>\n",
       "</div>"
      ],
      "text/plain": [
       "     text                                   PERSON-ontonotes  \\\n",
       "0     NaN  [I C Meekins, Isaac C. Meekins, E H Walker, Jo...   \n",
       "1     NaN                                                 []   \n",
       "2     NaN                      [W. H. Pearce, W . H. Pearce]   \n",
       "3     NaN                                                 []   \n",
       "4     NaN                                      [S.E . Allen]   \n",
       "...   ...                                                ...   \n",
       "2131  NaN                      [Geo . Little, Geo . B. Ayer]   \n",
       "2132  NaN                                           [Birnie]   \n",
       "2133  NaN                                   [William Birnie]   \n",
       "2134  NaN  [A.L . Price, James Fulton, John D Conoley, Al...   \n",
       "2135  NaN  [James Fulton, Wm A. Cutler, Geo W. Pollock, F...   \n",
       "\n",
       "                                          GPE-ontonotes  \\\n",
       "0                                  [Currituck County ,]   \n",
       "1               [North Carolina, United States, States]   \n",
       "2                                                    []   \n",
       "3                       [North Carolina, United States]   \n",
       "4          [North Carolina, Wake County, United States]   \n",
       "...                                                 ...   \n",
       "2131  [Raleigh, N.C., Wake County, N.C, United State...   \n",
       "2132                                                 []   \n",
       "2133    [North Carolina, Robeson County, United States]   \n",
       "2134  [North Carolina, New Hanover County, New Hanov...   \n",
       "2135               [Wilmington N.C, New Hanover County]   \n",
       "\n",
       "                        ORG-ontonotes  \\\n",
       "0                                  []   \n",
       "1     [Department of Virginia, State]   \n",
       "2                                  []   \n",
       "3                                  []   \n",
       "4                                  []   \n",
       "...                               ...   \n",
       "2131                               []   \n",
       "2132                               []   \n",
       "2133                               []   \n",
       "2134                   [Fulton Price]   \n",
       "2135                               []   \n",
       "\n",
       "                                         Date-ontonotes  \n",
       "0                         [16 day of Sept A.D . , 1865]  \n",
       "1                                                [1864]  \n",
       "2                    [3rd day of October , A.D. , 1865]  \n",
       "3                   [______ day of ____________ , 1866]  \n",
       "4                              [31st day of May , 1867]  \n",
       "...                                                 ...  \n",
       "2131                                  [May 26, July 14]  \n",
       "2132                                   [July 30th 1867]  \n",
       "2133                                   [30 day of July]  \n",
       "2134  [May 29 1865, 15th Sept 1865, 15th September A...  \n",
       "2135  [Sept 22 . 1865, Twentyseventh day of Septembe...  \n",
       "\n",
       "[2136 rows x 5 columns]"
      ]
     },
     "execution_count": 5,
     "metadata": {},
     "output_type": "execute_result"
    }
   ],
   "source": [
    "Audf"
   ]
  },
  {
   "cell_type": "code",
   "execution_count": 6,
   "id": "391becc1",
   "metadata": {
    "execution": {
     "iopub.execute_input": "2022-06-15T11:54:42.388867Z",
     "iopub.status.busy": "2022-06-15T11:54:42.388348Z",
     "iopub.status.idle": "2022-06-15T11:54:42.466439Z",
     "shell.execute_reply": "2022-06-15T11:54:42.465390Z"
    },
    "papermill": {
     "duration": 0.108132,
     "end_time": "2022-06-15T11:54:42.468952",
     "exception": false,
     "start_time": "2022-06-15T11:54:42.360820",
     "status": "completed"
    },
    "tags": []
   },
   "outputs": [],
   "source": [
    "G=[]\n",
    "for i in Audf[\"Date-ontonotes\"]:\n",
    "    M=[]\n",
    "    for j in i:\n",
    "        date=re.search(r'^\\d\\.*.*\\d\\d$' ,j)\n",
    "        date2=re.search(r'^[A-ZZa-z]\\.*.*\\d\\.*.*\\d\\d$' ,j)\n",
    "        M.append(date)\n",
    "        M.append(date2)\n",
    "    G.append(M)\n",
    "    \n",
    "\n",
    "GF=[]\n",
    "for i in G:\n",
    "    Final_date=[]\n",
    "    for j in i:\n",
    "        if j!=None:\n",
    "            Final_date.append(j.group())\n",
    "    GF.append(Final_date)\n",
    "\n",
    "    \n",
    "Audf[\"postDate-ontonotes\"]=GF"
   ]
  },
  {
   "cell_type": "code",
   "execution_count": 7,
   "id": "c72a64b3",
   "metadata": {
    "execution": {
     "iopub.execute_input": "2022-06-15T11:54:42.522883Z",
     "iopub.status.busy": "2022-06-15T11:54:42.522362Z",
     "iopub.status.idle": "2022-06-15T11:54:42.681074Z",
     "shell.execute_reply": "2022-06-15T11:54:42.680085Z"
    },
    "papermill": {
     "duration": 0.189113,
     "end_time": "2022-06-15T11:54:42.683640",
     "exception": false,
     "start_time": "2022-06-15T11:54:42.494527",
     "status": "completed"
    },
    "tags": []
   },
   "outputs": [],
   "source": [
    "G=[]\n",
    "for i in Audf[\"postDate-ontonotes\"]:\n",
    "    M=[]\n",
    "    for j in i:\n",
    "        Final_date1=re.sub(r'([0-9]{1,2})\\.*.*\\s([A-Z][a-z]\\S*)\\.*.*\\s([0-9]{2,4})',r'\\1-\\2-\\3' ,j)\n",
    "        Final_date2=re.sub(r'([A-Z]\\.*.*)\\s([0-9]{1,2})\\.*.*\\s([0-9]{2,4})',r'\\2-\\1-\\3' ,j)\n",
    "        final_date3=re.sub(r'([A-Z][a-z]\\S*)\\.*.*\\s([A-Z][a-z]\\S*)\\.*.*\\s([0-9]{2,4})',r'\\1-\\2-\\3' ,j)\n",
    "        final_date4=re.sub(r'(^[A-Za-z]\\S*.*.)day\\.*.*\\s([A-Z][a-z]\\S*)\\.*.*\\s([0-9]{2,4})',r'\\1-\\2-\\3' ,j)\n",
    "        if Final_date1 != j:   \n",
    "            M.append(Final_date1)\n",
    "        if Final_date2 != j :\n",
    "            M.append(Final_date2)\n",
    "        if final_date3 != j :\n",
    "            M.append(final_date3)\n",
    "        if final_date4 != j :\n",
    "            M.append(final_date4)\n",
    "    G.append(M)\n",
    "    \n",
    "\n",
    "Audf[\"postDate-ontonotes\"]=G"
   ]
  },
  {
   "cell_type": "code",
   "execution_count": 8,
   "id": "20269199",
   "metadata": {
    "execution": {
     "iopub.execute_input": "2022-06-15T11:54:42.736267Z",
     "iopub.status.busy": "2022-06-15T11:54:42.735803Z",
     "iopub.status.idle": "2022-06-15T11:54:42.843866Z",
     "shell.execute_reply": "2022-06-15T11:54:42.842862Z"
    },
    "papermill": {
     "duration": 0.137584,
     "end_time": "2022-06-15T11:54:42.846340",
     "exception": false,
     "start_time": "2022-06-15T11:54:42.708756",
     "status": "completed"
    },
    "tags": []
   },
   "outputs": [],
   "source": [
    "NG=[]\n",
    "for i in G:\n",
    "    ng=[]\n",
    "    for j in i:\n",
    "        \n",
    "        date=re.findall(r'([0-9]{1,2})-([A-Z][a-z]\\S*)-([0-9]{2,4})',j)\n",
    "        if date !=[]:\n",
    "            dates=[]\n",
    "            for k in date:\n",
    "                for l in k:\n",
    "                    dates.append(l)\n",
    "                \n",
    "                \n",
    "                if dates[1] in [\"August\",\"Aug\",\"augt\",\"AUGUST\",\"Augst\",\"Augt\",\"AUG\",\"Augusta\",\"Aug.\"]:\n",
    "                    dates[1]= \"August\"\n",
    "                elif dates[1] in [\"September\",\"Sept\",\"SEP\",\"Sep\",\"Septr\",\"SEPTEMBER\",'Sepr','Septh',\"Sep.\"]:\n",
    "                    dates[1]= \"Septembre\"\n",
    "                elif dates[1] in [\"October\",\"Oct\",\"OCT\",\"OCTOBER\"]:\n",
    "                    dates[1]= \"October\"\n",
    "                elif dates[1] in [\"November\",\"NOV\",\"Nov\",\"Novmbr\",\"Nvbr\",\"Novb\",\"NOVEMBER\", \"The\",\"Dec\"]:\n",
    "                    dates[1]= \"November\"\n",
    "                elif dates[1] in [\"December\",\"Dec\",\"Decbr\",\"DEC\",\"DECEMBER\",\"Decber\"]:\n",
    "                    dates[1]= \"December\"\n",
    "                elif dates[1] in [\"January\",\"Janry\",\"Jan\",\"Jany\",\"JAN\",\"Janur\",\"JANUARY\"]:\n",
    "                    dates[1]= \"January\"\n",
    "                elif dates[1] in [\"February\",\"Feby\",\"Febry\",\"FEB\",\"FEBRUARY\",\"Feb\"]:\n",
    "                    dates[1]= \"February\"\n",
    "                elif dates[1] in [\"March\",\"Mar\"]:\n",
    "                    dates[1]= \"March\"\n",
    "                elif dates[1] in [\"April\",\"Apl\",\"Aprl\",\"APRIL\",\"Apr\"]:\n",
    "                    dates[1]= \"April\"\n",
    "                elif dates[1] in [\"May\",\"MAY\"]:\n",
    "                    dates[1]= \"May\"\n",
    "                elif dates[1] in [\"JUN\",\"Jun\",\"June\"]:\n",
    "                    dates[1]= \"June\"\n",
    "                elif dates[1] in [\"JULY\",\"July\",\"JUL\"]:\n",
    "                    dates[1]= \"July\"\n",
    "                j = dates[0]+\"-\"+dates[1]+\"-\"+dates[2]\n",
    "                ng.append(j)\n",
    "        else :\n",
    "                date = re.findall(r'(^[A-Za-z]\\S*.*.)-([A-Z][a-z]\\S*)-([0-9]{2,4})',j ) \n",
    "                dates=[]\n",
    "                for k in date:\n",
    "                    for l in k:\n",
    "                        dates.append(l)\n",
    "                \n",
    "                \n",
    "                    if dates[1] in [\"August\",\"Aug\",\"augt\",\"AUGUST\",\"Augst\",'Augt',\"AUG\",\"Augusta\",\"Aug.\"]:\n",
    "                        dates[1]= \"August\"\n",
    "                    elif dates[1] in [\"September\",\"Sept\",\"SEP\",\"Sep\",\"Septr\",\"SEPTEMBER\",\"Sepr\",\"Septh\", \"This\", \"This \",\"Sept.\",\"Sep.\"]:\n",
    "                        dates[1]= \"Septembre\"\n",
    "                    elif dates[1] in [\"October\",\"Oct\",\"OCT\",\"OCTOBER\"]:\n",
    "                        dates[1]= \"October\"\n",
    "                    elif dates[1] in [\"November\",\"NOV\",\"Nov\",\"Novmbr\",\"Nvbr\",\"Novb\",\"NOVEMBER\"]:\n",
    "                        dates[1]= \"November\"\n",
    "                    elif dates[1] in [\"December\",\"Dec\",\"Decbr\",\"DEC\",\"DECEMBER\",\"Decber\",\"Dec.\"]:\n",
    "                        dates[1]= \"December\"\n",
    "                    elif dates[1] in [\"January\",\"Janry\",\"Jan\",\"Jany\",\"JAN\",\"Janur\",\"JANUARY\"]:\n",
    "                        dates[1]= \"January\"\n",
    "                    elif dates[1] in [\"February\",\"Feby\",\"Febry\",\"FEB\",\"FEBRUARY\",\"Feb\"]:\n",
    "                        dates[1]= \"February\"\n",
    "                    elif dates[1] in [\"March\",\"Mar\"]:\n",
    "                        dates[1]= \"March\"\n",
    "                    elif dates[1] in [\"April\",\"Apl\",\"Aprl\",\"APRIL\",\"Apr\"]:\n",
    "                        dates[1]= \"April\"\n",
    "                    elif dates[1] in [\"May\",\"MAY\"]:\n",
    "                        dates[1]= \"May\"\n",
    "                    elif dates[1] in [\"JUN\",\"Jun\",\"June\"]:\n",
    "                        dates[1]= \"June\"\n",
    "                    elif dates[1] in [\"JULY\",\"July\",\"JUL\"]:\n",
    "                        dates[1]= \"July\"\n",
    "                    if dates[0]== \"fifteenth\" :\n",
    "                        dates[0]=\"15\"\n",
    "                    elif (dates[0]==\"sixteenth\") |(dates[0]==\"This 16 \"):\n",
    "                        dates[0]=\"16\"\n",
    "                    elif dates[0]==\"Twenty\":\n",
    "                        dates[0]=\"20\" \n",
    "                    elif dates[0]==\"Twentyseventh\":\n",
    "                        dates[0]=\"27\" \n",
    "                    elif (dates[0]==\"Twenty Eighth\") |(dates[0]==\"TwentyEight\") |(dates[0]==\"TwentyEight \") |(dates[0]==\"Twentyeight\"):\n",
    "                        dates[0]=\"28\"\n",
    "                    elif (dates[0]==\"Ninth\") |(dates[0]==\"Ninth \")|(dates[0]==\"Augusta 9th \") |(dates[0]==\"ninth\") |(dates[0]==\"ninth \")|(dates[0]==\"Augusta 9th\"):\n",
    "                        dates[0]=\"9\"\n",
    "                    \n",
    "                    elif dates[0]=='Seventh':\n",
    "                        dates[0]=\"7\" \n",
    "                    elif (dates[0]=='The') |(dates[0]==\"The 9th\") :\n",
    "                        dates[0]=\"9\"\n",
    "                    elif dates[0]==\"the 9\" :\n",
    "                        dates[0]=\"9\"\n",
    "                    elif (dates[0]==\"Eighth \") |(dates[0]==\"Eighth\") |(dates[0]==\"eighth\") |(dates[0]==\"eighth \"):\n",
    "                        dates[0]=\"8\"\n",
    "                    elif dates[0]==\"Seventh \":\n",
    "                        dates[0]=\"7\"\n",
    "                    elif (dates[0]==\"Twenty ninth \")| (dates[0]==\"Twenty ninth\") | (dates[0]==\"twenty ninth \")|(dates[0]==\"Twenty Ninth \")|(dates[0]==\"Twenty Ninth\") :\n",
    "                        dates[0]=\"29\"\n",
    "                    elif (dates[0]==\"Thirty\") |(dates[0]==\"Thirty \") | (dates[0]==\"thirtieth \"):\n",
    "                        dates[0]=\"30\"\n",
    "                    elif (dates[0]==\"Thirty first \") |(dates[0]==\"Thirty first\"):\n",
    "                        dates[0]=\"31\"\n",
    "                  \n",
    "                    \n",
    "                    elif dates[0]==\"first \":\n",
    "                        dates[0]=\"1\"\n",
    "                    elif (dates[0]==\"Second \") |(dates[0]==\"Second\") |(dates[0]==\"second\")|(dates[0]==\"second \"):\n",
    "                        dates[0]=\"2\"\n",
    "                    elif dates[0]==\"fourth \":\n",
    "                        dates[0]=\"4\"\n",
    "                    elif dates[0]==\"tenth \":\n",
    "                        dates[0]=\"10\"\n",
    "                    elif (dates[0]==\"Fifth \")|(dates[0]==\"Fifth\") |(dates[0]==\"fifth \")|(dates[0]==\"fifth\"):\n",
    "                        dates[0]=\"5\"\n",
    "                    elif (dates[0]==\"This\") | (dates[0]==\"This 7th \")|(dates[0]==\"seventh \") |(dates[0]==\"seventh\") |(dates[0]==\"Seventh \"):\n",
    "                        dates[0]=\"7\"\n",
    "                    elif (dates[0]==\"This 31st\") |(dates[0]==\"Thirty-first \"):\n",
    "                        dates[0]=\"31\"\n",
    "                    elif (dates[0]==\"Thirtieth\") |(dates[0]==\"Thirtieth \") |(dates[0]==\"Thirty\"):\n",
    "                        dates[0]=\"30\"\n",
    "                    elif dates[0]==\"twenty fifth \":\n",
    "                        dates[0]=\"25\"\n",
    "                    elif dates[0]==\"Twenty seventh \":\n",
    "                        dates[0]=\"27\"\n",
    "                    elif (dates[0]==\"Twenty sixth \") |(dates[0]==\"Twentysixth \")|(dates[0]==\"Twentysixth\") |(dates[0]==\"twentysixth \"):\n",
    "                        dates[0]=\"26\"\n",
    "                    elif dates[0]==\"third \":\n",
    "                        dates[0]=\"3\" \n",
    "                    elif dates[0]==\"third\":\n",
    "                        dates[0]=\"3\"\n",
    "                    elif dates[0]==\"Third \":\n",
    "                        dates[0]=\"3\"\n",
    "                    elif dates[0]==\"Third\":\n",
    "                        dates[0]=\"3\"\n",
    "                    \n",
    "                    elif dates[0]==\"Tenth\":\n",
    "                        dates[0]=\"10\" \n",
    "                    elif dates[0]==\"Augusta\":\n",
    "                        dates[0]=\"9\" \n",
    "                    elif (dates[0]==\"this_sixth \")|(dates[0]==\"sixth \")| (dates[0]==\"Sixth\") | (dates[0]==\"Sixth \") |(dates[0]==\"this sixth \"):\n",
    "                        dates[0]=\"6\" \n",
    "                        \n",
    "                    elif dates[0]==\"Tenth \":\n",
    "                        dates[0]=\"10\"\n",
    "                    elif (dates[0]==\"twentieth\")|(dates[0]==\"This 20th \"):\n",
    "                        dates[0]=\"20\"\n",
    "                    elif (dates[0]==\"twenty fourth \") |(dates[0]==\"twenty fourth\") |(dates[0]==\"Twenty fourth \") |(dates[0]==\"Twenty fourth\"):\n",
    "                        dates[0]=\"24\"\n",
    "                    elif (dates[0]==\"fifteenth \") |(dates[0]==\"Fifteenth \") |(dates[0]==\"Fifteenth\"):\n",
    "                        dates[0]=\"15\"\n",
    "                    elif dates[0]==\"twentieth \":\n",
    "                        dates[0]=\"20\"\n",
    "                    elif dates[0]==\"Eighteenth \":\n",
    "                        dates[0]=\"18\"\n",
    "                    elif dates[0]==\"Eighteenth\":\n",
    "                        dates[0]=\"18\"\n",
    "                    elif (dates[0]==\"Nineteenth \") |(dates[0]==\"Nineteenth\"):\n",
    "                        dates[0]=\"19\"\n",
    "                    elif dates[0]==\"First \":\n",
    "                        dates[0]=\"1\"\n",
    "                    elif dates[0]==\"First\":\n",
    "                        dates[0]=\"1\"\n",
    "                    elif (dates[0]==\"Sixteenth \")|(dates[0]==\"this 16\") |(dates[0]==\"Sixteenth\"):\n",
    "                        dates[0]=\"16\"\n",
    "                   \n",
    "                    elif dates[0]==\"twenty third \":\n",
    "                        dates[0]=\"23\"\n",
    "                    elif dates[0]==\"twenty third\":\n",
    "                        dates[0]=\"23\"\n",
    "                    elif dates[0]==\"Twenty third \":\n",
    "                        dates[0]=\"23\"\n",
    "                    elif dates[0]==\"Twenty Second \":\n",
    "                        dates[0]=\"22\"\n",
    "                    elif dates[0]==\"Twenty Second\":\n",
    "                        dates[0]=\"22\"\n",
    "                    elif dates[0]==\"Twenty Eighth \":\n",
    "                        dates[0]=\"28\"\n",
    "                    elif dates[0]==\"Twentysenventh \":\n",
    "                        dates[0]=\"27\"\n",
    "                    elif dates[0]==\"twenty third \":\n",
    "                        dates[0]=\"23\"\n",
    "                    elif (dates[0]==\"twenty third\") |(dates[0]==\"Twentythird\")|(dates[0]==\"Twentythird \"):\n",
    "                        dates[0]=\"23\"\n",
    "                    elif (dates[0]==\"fourteenth \") | (dates[0]==\"fourteenth\") | (dates[0]==\"Fourteenth\") | (dates[0]==\"Fourteenth \"):\n",
    "                        dates[0]=\"14\"\n",
    "                    elif (dates[0]==\"Eleventh \") | (dates[0]==\"Eleventh\") |(dates[0]==\"eleventh \") :\n",
    "                        dates[0]=\"11\"\n",
    "                    elif (dates[0]==\"Thirteenth\") | (dates[0]==\"Thirteenth \") :\n",
    "                        dates[0]=\"13\"\n",
    "                    elif (dates[0]==\"seventeenth \") |(dates[0]==\"seventeenth\") |(dates[0]==\"Seventeenth \") :\n",
    "                        dates[0]=\"17\"\n",
    "                     \n",
    "                     \n",
    "                     \n",
    "                    \n",
    "                        \n",
    "                    j = dates[0]+\"-\"+dates[1]+\"-\"+dates[2]\n",
    "                    ng.append(j)\n",
    "            \n",
    "            \n",
    "    NG.append(ng)   "
   ]
  },
  {
   "cell_type": "code",
   "execution_count": 9,
   "id": "5e370369",
   "metadata": {
    "execution": {
     "iopub.execute_input": "2022-06-15T11:54:42.898024Z",
     "iopub.status.busy": "2022-06-15T11:54:42.897591Z",
     "iopub.status.idle": "2022-06-15T11:54:42.904224Z",
     "shell.execute_reply": "2022-06-15T11:54:42.903223Z"
    },
    "papermill": {
     "duration": 0.035093,
     "end_time": "2022-06-15T11:54:42.906421",
     "exception": false,
     "start_time": "2022-06-15T11:54:42.871328",
     "status": "completed"
    },
    "tags": []
   },
   "outputs": [],
   "source": [
    "Audf[\"Dates\"]=NG"
   ]
  },
  {
   "cell_type": "code",
   "execution_count": 10,
   "id": "598752bd",
   "metadata": {
    "execution": {
     "iopub.execute_input": "2022-06-15T11:54:42.958189Z",
     "iopub.status.busy": "2022-06-15T11:54:42.957737Z",
     "iopub.status.idle": "2022-06-15T11:54:42.982115Z",
     "shell.execute_reply": "2022-06-15T11:54:42.981029Z"
    },
    "papermill": {
     "duration": 0.052844,
     "end_time": "2022-06-15T11:54:42.984304",
     "exception": false,
     "start_time": "2022-06-15T11:54:42.931460",
     "status": "completed"
    },
    "tags": []
   },
   "outputs": [
    {
     "data": {
      "text/html": [
       "<div>\n",
       "<style scoped>\n",
       "    .dataframe tbody tr th:only-of-type {\n",
       "        vertical-align: middle;\n",
       "    }\n",
       "\n",
       "    .dataframe tbody tr th {\n",
       "        vertical-align: top;\n",
       "    }\n",
       "\n",
       "    .dataframe thead th {\n",
       "        text-align: right;\n",
       "    }\n",
       "</style>\n",
       "<table border=\"1\" class=\"dataframe\">\n",
       "  <thead>\n",
       "    <tr style=\"text-align: right;\">\n",
       "      <th></th>\n",
       "      <th>text</th>\n",
       "      <th>PERSON-ontonotes</th>\n",
       "      <th>GPE-ontonotes</th>\n",
       "      <th>ORG-ontonotes</th>\n",
       "      <th>Date-ontonotes</th>\n",
       "      <th>postDate-ontonotes</th>\n",
       "      <th>Dates</th>\n",
       "    </tr>\n",
       "  </thead>\n",
       "  <tbody>\n",
       "    <tr>\n",
       "      <th>0</th>\n",
       "      <td>NaN</td>\n",
       "      <td>[I C Meekins, Isaac C. Meekins, E H Walker, Jo...</td>\n",
       "      <td>[Currituck County ,]</td>\n",
       "      <td>[]</td>\n",
       "      <td>[16 day of Sept A.D . , 1865]</td>\n",
       "      <td>[16-Sept-1865]</td>\n",
       "      <td>[16-Septembre-1865]</td>\n",
       "    </tr>\n",
       "    <tr>\n",
       "      <th>1</th>\n",
       "      <td>NaN</td>\n",
       "      <td>[]</td>\n",
       "      <td>[North Carolina, United States, States]</td>\n",
       "      <td>[Department of Virginia, State]</td>\n",
       "      <td>[1864]</td>\n",
       "      <td>[]</td>\n",
       "      <td>[]</td>\n",
       "    </tr>\n",
       "    <tr>\n",
       "      <th>2</th>\n",
       "      <td>NaN</td>\n",
       "      <td>[W. H. Pearce, W . H. Pearce]</td>\n",
       "      <td>[]</td>\n",
       "      <td>[]</td>\n",
       "      <td>[3rd day of October , A.D. , 1865]</td>\n",
       "      <td>[3-October-1865]</td>\n",
       "      <td>[3-October-1865]</td>\n",
       "    </tr>\n",
       "    <tr>\n",
       "      <th>3</th>\n",
       "      <td>NaN</td>\n",
       "      <td>[]</td>\n",
       "      <td>[North Carolina, United States]</td>\n",
       "      <td>[]</td>\n",
       "      <td>[______ day of ____________ , 1866]</td>\n",
       "      <td>[]</td>\n",
       "      <td>[]</td>\n",
       "    </tr>\n",
       "    <tr>\n",
       "      <th>4</th>\n",
       "      <td>NaN</td>\n",
       "      <td>[S.E . Allen]</td>\n",
       "      <td>[North Carolina, Wake County, United States]</td>\n",
       "      <td>[]</td>\n",
       "      <td>[31st day of May , 1867]</td>\n",
       "      <td>[31-May-1867]</td>\n",
       "      <td>[31-May-1867]</td>\n",
       "    </tr>\n",
       "  </tbody>\n",
       "</table>\n",
       "</div>"
      ],
      "text/plain": [
       "  text                                   PERSON-ontonotes  \\\n",
       "0  NaN  [I C Meekins, Isaac C. Meekins, E H Walker, Jo...   \n",
       "1  NaN                                                 []   \n",
       "2  NaN                      [W. H. Pearce, W . H. Pearce]   \n",
       "3  NaN                                                 []   \n",
       "4  NaN                                      [S.E . Allen]   \n",
       "\n",
       "                                  GPE-ontonotes  \\\n",
       "0                          [Currituck County ,]   \n",
       "1       [North Carolina, United States, States]   \n",
       "2                                            []   \n",
       "3               [North Carolina, United States]   \n",
       "4  [North Carolina, Wake County, United States]   \n",
       "\n",
       "                     ORG-ontonotes                       Date-ontonotes  \\\n",
       "0                               []        [16 day of Sept A.D . , 1865]   \n",
       "1  [Department of Virginia, State]                               [1864]   \n",
       "2                               []   [3rd day of October , A.D. , 1865]   \n",
       "3                               []  [______ day of ____________ , 1866]   \n",
       "4                               []             [31st day of May , 1867]   \n",
       "\n",
       "  postDate-ontonotes                Dates  \n",
       "0     [16-Sept-1865]  [16-Septembre-1865]  \n",
       "1                 []                   []  \n",
       "2   [3-October-1865]     [3-October-1865]  \n",
       "3                 []                   []  \n",
       "4      [31-May-1867]        [31-May-1867]  "
      ]
     },
     "execution_count": 10,
     "metadata": {},
     "output_type": "execute_result"
    }
   ],
   "source": [
    "Audf.head()"
   ]
  },
  {
   "cell_type": "code",
   "execution_count": 11,
   "id": "1ad8fa6e",
   "metadata": {
    "execution": {
     "iopub.execute_input": "2022-06-15T11:54:43.036610Z",
     "iopub.status.busy": "2022-06-15T11:54:43.036208Z",
     "iopub.status.idle": "2022-06-15T11:54:43.041669Z",
     "shell.execute_reply": "2022-06-15T11:54:43.040901Z"
    },
    "papermill": {
     "duration": 0.03395,
     "end_time": "2022-06-15T11:54:43.043714",
     "exception": false,
     "start_time": "2022-06-15T11:54:43.009764",
     "status": "completed"
    },
    "tags": []
   },
   "outputs": [],
   "source": [
    "Audf[\"text\"]=range(2136)"
   ]
  },
  {
   "cell_type": "markdown",
   "id": "fc499093",
   "metadata": {
    "papermill": {
     "duration": 0.025239,
     "end_time": "2022-06-15T11:54:43.094483",
     "exception": false,
     "start_time": "2022-06-15T11:54:43.069244",
     "status": "completed"
    },
    "tags": []
   },
   "source": [
    "# dflarge"
   ]
  },
  {
   "cell_type": "code",
   "execution_count": 12,
   "id": "a2713f9b",
   "metadata": {
    "execution": {
     "iopub.execute_input": "2022-06-15T11:54:43.147621Z",
     "iopub.status.busy": "2022-06-15T11:54:43.147208Z",
     "iopub.status.idle": "2022-06-15T11:54:48.081792Z",
     "shell.execute_reply": "2022-06-15T11:54:48.080671Z"
    },
    "papermill": {
     "duration": 4.964321,
     "end_time": "2022-06-15T11:54:48.084706",
     "exception": false,
     "start_time": "2022-06-15T11:54:43.120385",
     "status": "completed"
    },
    "tags": []
   },
   "outputs": [],
   "source": [
    "with open('../input/entities/entityL.pkl', 'rb') as f:\n",
    "    entitiesL= pickle.load(f)"
   ]
  },
  {
   "cell_type": "code",
   "execution_count": 13,
   "id": "4b05d4a2",
   "metadata": {
    "execution": {
     "iopub.execute_input": "2022-06-15T11:54:48.137980Z",
     "iopub.status.busy": "2022-06-15T11:54:48.137226Z",
     "iopub.status.idle": "2022-06-15T11:54:48.143516Z",
     "shell.execute_reply": "2022-06-15T11:54:48.142641Z"
    },
    "papermill": {
     "duration": 0.034975,
     "end_time": "2022-06-15T11:54:48.145515",
     "exception": false,
     "start_time": "2022-06-15T11:54:48.110540",
     "status": "completed"
    },
    "tags": []
   },
   "outputs": [
    {
     "data": {
      "text/plain": [
       "2136"
      ]
     },
     "execution_count": 13,
     "metadata": {},
     "output_type": "execute_result"
    }
   ],
   "source": [
    "len(entitiesL)"
   ]
  },
  {
   "cell_type": "code",
   "execution_count": 14,
   "id": "153fb134",
   "metadata": {
    "execution": {
     "iopub.execute_input": "2022-06-15T11:54:48.200050Z",
     "iopub.status.busy": "2022-06-15T11:54:48.199479Z",
     "iopub.status.idle": "2022-06-15T11:54:48.875558Z",
     "shell.execute_reply": "2022-06-15T11:54:48.874719Z"
    },
    "papermill": {
     "duration": 0.706574,
     "end_time": "2022-06-15T11:54:48.877907",
     "exception": false,
     "start_time": "2022-06-15T11:54:48.171333",
     "status": "completed"
    },
    "tags": []
   },
   "outputs": [],
   "source": [
    "Per=[]\n",
    "ORG=[]\n",
    "LOC=[]\n",
    "from flair.data import Sentence\n",
    "\n",
    "dflarge=pd.DataFrame({\"text\":\"\", \"PERSON-nerenglarge\":[], \"LOC-nerenglarge\":\"\",\"ORG-nerenglarge\":\"\"})\n",
    "for i in entitiesL:\n",
    "    dc={}\n",
    "    P=[]\n",
    "    L=[]\n",
    "    G=[]\n",
    "    O=[]\n",
    "    for entity in i :\n",
    "\n",
    "                     \n",
    "                     if (entity.get_label(\"ner\").score > 0.90) & (entity.get_label(\"ner\").value != \"CARDINAL\") & (entity.get_label(\"ner\").value != \"LAW\")& (entity.get_label(\"ner\").value != \"QUANTITY\") & (entity.get_label(\"ner\").value != \"WORK_OF_ART\") & (entity.get_label(\"ner\").value != \"LAW\")& (entity.get_label(\"ner\").value != \"QUANTITY\") & (entity.get_label(\"ner\").value != \"EVENT\")  :\n",
    "                        dc[entity.text]= entity.get_label(\"ner\").value \n",
    "                       \n",
    "        \n",
    "      \n",
    "    for j in dc :\n",
    "                if dc[j]==\"PER\":\n",
    "                      P.append(j)\n",
    "                elif (dc[j]==\"ORG\") | (dc[j]==\"MISC\") :\n",
    "                      O.append(j)\n",
    "                elif dc[j]==\"LOC\":\n",
    "                      L.append(j)\n",
    "               \n",
    "    Per.append(P)\n",
    "    ORG.append(O)\n",
    "    LOC.append(L)\n",
    "            \n",
    "\n",
    "dflarge[\"PERSON-nerenglarge\"]=Per\n",
    "dflarge[\"LOC-nerenglarge\"]=LOC\n",
    "dflarge[\"ORG-nerenglarge\"]=ORG   "
   ]
  },
  {
   "cell_type": "code",
   "execution_count": 15,
   "id": "bc69d16b",
   "metadata": {
    "execution": {
     "iopub.execute_input": "2022-06-15T11:54:48.930750Z",
     "iopub.status.busy": "2022-06-15T11:54:48.930338Z",
     "iopub.status.idle": "2022-06-15T11:54:48.946915Z",
     "shell.execute_reply": "2022-06-15T11:54:48.945945Z"
    },
    "papermill": {
     "duration": 0.046156,
     "end_time": "2022-06-15T11:54:48.949418",
     "exception": false,
     "start_time": "2022-06-15T11:54:48.903262",
     "status": "completed"
    },
    "tags": []
   },
   "outputs": [
    {
     "data": {
      "text/html": [
       "<div>\n",
       "<style scoped>\n",
       "    .dataframe tbody tr th:only-of-type {\n",
       "        vertical-align: middle;\n",
       "    }\n",
       "\n",
       "    .dataframe tbody tr th {\n",
       "        vertical-align: top;\n",
       "    }\n",
       "\n",
       "    .dataframe thead th {\n",
       "        text-align: right;\n",
       "    }\n",
       "</style>\n",
       "<table border=\"1\" class=\"dataframe\">\n",
       "  <thead>\n",
       "    <tr style=\"text-align: right;\">\n",
       "      <th></th>\n",
       "      <th>text</th>\n",
       "      <th>PERSON-nerenglarge</th>\n",
       "      <th>LOC-nerenglarge</th>\n",
       "      <th>ORG-nerenglarge</th>\n",
       "    </tr>\n",
       "  </thead>\n",
       "  <tbody>\n",
       "    <tr>\n",
       "      <th>0</th>\n",
       "      <td>NaN</td>\n",
       "      <td>[I C Meekins, Almighty, God, Isaac C. Meekins,...</td>\n",
       "      <td>[Currituck County, State of North Carolina, Un...</td>\n",
       "      <td>[Constitution]</td>\n",
       "    </tr>\n",
       "    <tr>\n",
       "      <th>1</th>\n",
       "      <td>NaN</td>\n",
       "      <td>[]</td>\n",
       "      <td>[North Carolina, United States, States]</td>\n",
       "      <td>[Department of Virginia, OATH PAROLE]</td>\n",
       "    </tr>\n",
       "    <tr>\n",
       "      <th>2</th>\n",
       "      <td>NaN</td>\n",
       "      <td>[W. H. Pearce, Almighty, God, E. Ampetts, W . ...</td>\n",
       "      <td>[Craven County, State of NorthCarolina, United...</td>\n",
       "      <td>[Constitution]</td>\n",
       "    </tr>\n",
       "    <tr>\n",
       "      <th>3</th>\n",
       "      <td>NaN</td>\n",
       "      <td>[God]</td>\n",
       "      <td>[State of, North Carolina, United States]</td>\n",
       "      <td>[Constitution]</td>\n",
       "    </tr>\n",
       "    <tr>\n",
       "      <th>4</th>\n",
       "      <td>NaN</td>\n",
       "      <td>[S.E, God, T.D, McAlpine]</td>\n",
       "      <td>[State of, North Carolina, Wake County, United...</td>\n",
       "      <td>[Constitution, Res . Corp]</td>\n",
       "    </tr>\n",
       "  </tbody>\n",
       "</table>\n",
       "</div>"
      ],
      "text/plain": [
       "  text                                 PERSON-nerenglarge  \\\n",
       "0  NaN  [I C Meekins, Almighty, God, Isaac C. Meekins,...   \n",
       "1  NaN                                                 []   \n",
       "2  NaN  [W. H. Pearce, Almighty, God, E. Ampetts, W . ...   \n",
       "3  NaN                                              [God]   \n",
       "4  NaN                          [S.E, God, T.D, McAlpine]   \n",
       "\n",
       "                                     LOC-nerenglarge  \\\n",
       "0  [Currituck County, State of North Carolina, Un...   \n",
       "1            [North Carolina, United States, States]   \n",
       "2  [Craven County, State of NorthCarolina, United...   \n",
       "3          [State of, North Carolina, United States]   \n",
       "4  [State of, North Carolina, Wake County, United...   \n",
       "\n",
       "                         ORG-nerenglarge  \n",
       "0                         [Constitution]  \n",
       "1  [Department of Virginia, OATH PAROLE]  \n",
       "2                         [Constitution]  \n",
       "3                         [Constitution]  \n",
       "4             [Constitution, Res . Corp]  "
      ]
     },
     "execution_count": 15,
     "metadata": {},
     "output_type": "execute_result"
    }
   ],
   "source": [
    "dflarge.head()"
   ]
  },
  {
   "cell_type": "markdown",
   "id": "4e9e5eb1",
   "metadata": {
    "papermill": {
     "duration": 0.025979,
     "end_time": "2022-06-15T11:54:49.001735",
     "exception": false,
     "start_time": "2022-06-15T11:54:48.975756",
     "status": "completed"
    },
    "tags": []
   },
   "source": [
    "# final df"
   ]
  },
  {
   "cell_type": "code",
   "execution_count": 16,
   "id": "b985f1d6",
   "metadata": {
    "execution": {
     "iopub.execute_input": "2022-06-15T11:54:49.055200Z",
     "iopub.status.busy": "2022-06-15T11:54:49.054628Z",
     "iopub.status.idle": "2022-06-15T11:54:49.061532Z",
     "shell.execute_reply": "2022-06-15T11:54:49.060880Z"
    },
    "papermill": {
     "duration": 0.036024,
     "end_time": "2022-06-15T11:54:49.063483",
     "exception": false,
     "start_time": "2022-06-15T11:54:49.027459",
     "status": "completed"
    },
    "tags": []
   },
   "outputs": [],
   "source": [
    "Audf[\"Person-NerEngLarge\"]=dflarge[\"PERSON-nerenglarge\"]\n",
    "Audf[\"LOC-NerEngLarge\"]=dflarge[\"LOC-nerenglarge\"]\n",
    "Audf[\"ORG-NerEngLarge\"]=dflarge[\"ORG-nerenglarge\"]"
   ]
  },
  {
   "cell_type": "code",
   "execution_count": 17,
   "id": "94fcde03",
   "metadata": {
    "execution": {
     "iopub.execute_input": "2022-06-15T11:54:49.117994Z",
     "iopub.status.busy": "2022-06-15T11:54:49.117419Z",
     "iopub.status.idle": "2022-06-15T11:54:49.147075Z",
     "shell.execute_reply": "2022-06-15T11:54:49.146187Z"
    },
    "papermill": {
     "duration": 0.059536,
     "end_time": "2022-06-15T11:54:49.149063",
     "exception": false,
     "start_time": "2022-06-15T11:54:49.089527",
     "status": "completed"
    },
    "tags": []
   },
   "outputs": [
    {
     "data": {
      "text/html": [
       "<div>\n",
       "<style scoped>\n",
       "    .dataframe tbody tr th:only-of-type {\n",
       "        vertical-align: middle;\n",
       "    }\n",
       "\n",
       "    .dataframe tbody tr th {\n",
       "        vertical-align: top;\n",
       "    }\n",
       "\n",
       "    .dataframe thead th {\n",
       "        text-align: right;\n",
       "    }\n",
       "</style>\n",
       "<table border=\"1\" class=\"dataframe\">\n",
       "  <thead>\n",
       "    <tr style=\"text-align: right;\">\n",
       "      <th></th>\n",
       "      <th>text</th>\n",
       "      <th>PERSON-ontonotes</th>\n",
       "      <th>GPE-ontonotes</th>\n",
       "      <th>ORG-ontonotes</th>\n",
       "      <th>Date-ontonotes</th>\n",
       "      <th>postDate-ontonotes</th>\n",
       "      <th>Dates</th>\n",
       "      <th>Person-NerEngLarge</th>\n",
       "      <th>LOC-NerEngLarge</th>\n",
       "      <th>ORG-NerEngLarge</th>\n",
       "    </tr>\n",
       "  </thead>\n",
       "  <tbody>\n",
       "    <tr>\n",
       "      <th>0</th>\n",
       "      <td>0</td>\n",
       "      <td>[I C Meekins, Isaac C. Meekins, E H Walker, Jo...</td>\n",
       "      <td>[Currituck County ,]</td>\n",
       "      <td>[]</td>\n",
       "      <td>[16 day of Sept A.D . , 1865]</td>\n",
       "      <td>[16-Sept-1865]</td>\n",
       "      <td>[16-Septembre-1865]</td>\n",
       "      <td>[I C Meekins, Almighty, God, Isaac C. Meekins,...</td>\n",
       "      <td>[Currituck County, State of North Carolina, Un...</td>\n",
       "      <td>[Constitution]</td>\n",
       "    </tr>\n",
       "    <tr>\n",
       "      <th>1</th>\n",
       "      <td>1</td>\n",
       "      <td>[]</td>\n",
       "      <td>[North Carolina, United States, States]</td>\n",
       "      <td>[Department of Virginia, State]</td>\n",
       "      <td>[1864]</td>\n",
       "      <td>[]</td>\n",
       "      <td>[]</td>\n",
       "      <td>[]</td>\n",
       "      <td>[North Carolina, United States, States]</td>\n",
       "      <td>[Department of Virginia, OATH PAROLE]</td>\n",
       "    </tr>\n",
       "    <tr>\n",
       "      <th>2</th>\n",
       "      <td>2</td>\n",
       "      <td>[W. H. Pearce, W . H. Pearce]</td>\n",
       "      <td>[]</td>\n",
       "      <td>[]</td>\n",
       "      <td>[3rd day of October , A.D. , 1865]</td>\n",
       "      <td>[3-October-1865]</td>\n",
       "      <td>[3-October-1865]</td>\n",
       "      <td>[W. H. Pearce, Almighty, God, E. Ampetts, W . ...</td>\n",
       "      <td>[Craven County, State of NorthCarolina, United...</td>\n",
       "      <td>[Constitution]</td>\n",
       "    </tr>\n",
       "    <tr>\n",
       "      <th>3</th>\n",
       "      <td>3</td>\n",
       "      <td>[]</td>\n",
       "      <td>[North Carolina, United States]</td>\n",
       "      <td>[]</td>\n",
       "      <td>[______ day of ____________ , 1866]</td>\n",
       "      <td>[]</td>\n",
       "      <td>[]</td>\n",
       "      <td>[God]</td>\n",
       "      <td>[State of, North Carolina, United States]</td>\n",
       "      <td>[Constitution]</td>\n",
       "    </tr>\n",
       "    <tr>\n",
       "      <th>4</th>\n",
       "      <td>4</td>\n",
       "      <td>[S.E . Allen]</td>\n",
       "      <td>[North Carolina, Wake County, United States]</td>\n",
       "      <td>[]</td>\n",
       "      <td>[31st day of May , 1867]</td>\n",
       "      <td>[31-May-1867]</td>\n",
       "      <td>[31-May-1867]</td>\n",
       "      <td>[S.E, God, T.D, McAlpine]</td>\n",
       "      <td>[State of, North Carolina, Wake County, United...</td>\n",
       "      <td>[Constitution, Res . Corp]</td>\n",
       "    </tr>\n",
       "  </tbody>\n",
       "</table>\n",
       "</div>"
      ],
      "text/plain": [
       "   text                                   PERSON-ontonotes  \\\n",
       "0     0  [I C Meekins, Isaac C. Meekins, E H Walker, Jo...   \n",
       "1     1                                                 []   \n",
       "2     2                      [W. H. Pearce, W . H. Pearce]   \n",
       "3     3                                                 []   \n",
       "4     4                                      [S.E . Allen]   \n",
       "\n",
       "                                  GPE-ontonotes  \\\n",
       "0                          [Currituck County ,]   \n",
       "1       [North Carolina, United States, States]   \n",
       "2                                            []   \n",
       "3               [North Carolina, United States]   \n",
       "4  [North Carolina, Wake County, United States]   \n",
       "\n",
       "                     ORG-ontonotes                       Date-ontonotes  \\\n",
       "0                               []        [16 day of Sept A.D . , 1865]   \n",
       "1  [Department of Virginia, State]                               [1864]   \n",
       "2                               []   [3rd day of October , A.D. , 1865]   \n",
       "3                               []  [______ day of ____________ , 1866]   \n",
       "4                               []             [31st day of May , 1867]   \n",
       "\n",
       "  postDate-ontonotes                Dates  \\\n",
       "0     [16-Sept-1865]  [16-Septembre-1865]   \n",
       "1                 []                   []   \n",
       "2   [3-October-1865]     [3-October-1865]   \n",
       "3                 []                   []   \n",
       "4      [31-May-1867]        [31-May-1867]   \n",
       "\n",
       "                                  Person-NerEngLarge  \\\n",
       "0  [I C Meekins, Almighty, God, Isaac C. Meekins,...   \n",
       "1                                                 []   \n",
       "2  [W. H. Pearce, Almighty, God, E. Ampetts, W . ...   \n",
       "3                                              [God]   \n",
       "4                          [S.E, God, T.D, McAlpine]   \n",
       "\n",
       "                                     LOC-NerEngLarge  \\\n",
       "0  [Currituck County, State of North Carolina, Un...   \n",
       "1            [North Carolina, United States, States]   \n",
       "2  [Craven County, State of NorthCarolina, United...   \n",
       "3          [State of, North Carolina, United States]   \n",
       "4  [State of, North Carolina, Wake County, United...   \n",
       "\n",
       "                         ORG-NerEngLarge  \n",
       "0                         [Constitution]  \n",
       "1  [Department of Virginia, OATH PAROLE]  \n",
       "2                         [Constitution]  \n",
       "3                         [Constitution]  \n",
       "4             [Constitution, Res . Corp]  "
      ]
     },
     "execution_count": 17,
     "metadata": {},
     "output_type": "execute_result"
    }
   ],
   "source": [
    "Audf.head()"
   ]
  },
  {
   "cell_type": "code",
   "execution_count": 18,
   "id": "c4e1c61d",
   "metadata": {
    "execution": {
     "iopub.execute_input": "2022-06-15T11:54:49.203912Z",
     "iopub.status.busy": "2022-06-15T11:54:49.203334Z",
     "iopub.status.idle": "2022-06-15T11:54:49.209574Z",
     "shell.execute_reply": "2022-06-15T11:54:49.208553Z"
    },
    "papermill": {
     "duration": 0.036422,
     "end_time": "2022-06-15T11:54:49.211641",
     "exception": false,
     "start_time": "2022-06-15T11:54:49.175219",
     "status": "completed"
    },
    "tags": []
   },
   "outputs": [
    {
     "data": {
      "text/plain": [
       "'/kaggle/working'"
      ]
     },
     "execution_count": 18,
     "metadata": {},
     "output_type": "execute_result"
    }
   ],
   "source": [
    "import os \n",
    "os.getcwd()"
   ]
  },
  {
   "cell_type": "code",
   "execution_count": 19,
   "id": "27cdffba",
   "metadata": {
    "execution": {
     "iopub.execute_input": "2022-06-15T11:54:49.266094Z",
     "iopub.status.busy": "2022-06-15T11:54:49.265692Z",
     "iopub.status.idle": "2022-06-15T11:54:49.289165Z",
     "shell.execute_reply": "2022-06-15T11:54:49.288416Z"
    },
    "papermill": {
     "duration": 0.053253,
     "end_time": "2022-06-15T11:54:49.291366",
     "exception": false,
     "start_time": "2022-06-15T11:54:49.238113",
     "status": "completed"
    },
    "tags": []
   },
   "outputs": [],
   "source": [
    "Audf.to_pickle(\"data.pkl\")"
   ]
  },
  {
   "cell_type": "code",
   "execution_count": 20,
   "id": "bffbaf26",
   "metadata": {
    "execution": {
     "iopub.execute_input": "2022-06-15T11:54:49.346185Z",
     "iopub.status.busy": "2022-06-15T11:54:49.345469Z",
     "iopub.status.idle": "2022-06-15T11:54:49.398709Z",
     "shell.execute_reply": "2022-06-15T11:54:49.397927Z"
    },
    "papermill": {
     "duration": 0.083138,
     "end_time": "2022-06-15T11:54:49.400961",
     "exception": false,
     "start_time": "2022-06-15T11:54:49.317823",
     "status": "completed"
    },
    "tags": []
   },
   "outputs": [],
   "source": [
    "with open('../input/audfff/data.pkl', 'rb') as f:\n",
    "    data= pickle.load(f)"
   ]
  },
  {
   "cell_type": "code",
   "execution_count": 21,
   "id": "f5ca7356",
   "metadata": {
    "execution": {
     "iopub.execute_input": "2022-06-15T11:54:49.456879Z",
     "iopub.status.busy": "2022-06-15T11:54:49.456387Z",
     "iopub.status.idle": "2022-06-15T11:54:49.504962Z",
     "shell.execute_reply": "2022-06-15T11:54:49.504224Z"
    },
    "papermill": {
     "duration": 0.078781,
     "end_time": "2022-06-15T11:54:49.506964",
     "exception": false,
     "start_time": "2022-06-15T11:54:49.428183",
     "status": "completed"
    },
    "tags": []
   },
   "outputs": [
    {
     "data": {
      "text/html": [
       "<div>\n",
       "<style scoped>\n",
       "    .dataframe tbody tr th:only-of-type {\n",
       "        vertical-align: middle;\n",
       "    }\n",
       "\n",
       "    .dataframe tbody tr th {\n",
       "        vertical-align: top;\n",
       "    }\n",
       "\n",
       "    .dataframe thead th {\n",
       "        text-align: right;\n",
       "    }\n",
       "</style>\n",
       "<table border=\"1\" class=\"dataframe\">\n",
       "  <thead>\n",
       "    <tr style=\"text-align: right;\">\n",
       "      <th></th>\n",
       "      <th>text</th>\n",
       "      <th>PERSON-ontonotes</th>\n",
       "      <th>GPE-ontonotes</th>\n",
       "      <th>ORG-ontonotes</th>\n",
       "      <th>Date-ontonotes</th>\n",
       "      <th>postDate-ontonotes</th>\n",
       "      <th>Dates</th>\n",
       "      <th>Person-NerEngLarge</th>\n",
       "      <th>LOC-NerEngLarge</th>\n",
       "      <th>ORG-NerEngLarge</th>\n",
       "    </tr>\n",
       "  </thead>\n",
       "  <tbody>\n",
       "    <tr>\n",
       "      <th>0</th>\n",
       "      <td>0</td>\n",
       "      <td>[I C Meekins, Isaac C. Meekins, E H Walker, Jo...</td>\n",
       "      <td>[Currituck County ,]</td>\n",
       "      <td>[]</td>\n",
       "      <td>[16 day of Sept A.D . , 1865]</td>\n",
       "      <td>[16-Sept-1865]</td>\n",
       "      <td>[16-Septembre-1865]</td>\n",
       "      <td>[I C Meekins, Almighty, God, Isaac C. Meekins,...</td>\n",
       "      <td>[Currituck County, State of North Carolina, Un...</td>\n",
       "      <td>[Constitution]</td>\n",
       "    </tr>\n",
       "    <tr>\n",
       "      <th>1</th>\n",
       "      <td>1</td>\n",
       "      <td>[]</td>\n",
       "      <td>[North Carolina, United States, States]</td>\n",
       "      <td>[Department of Virginia, State]</td>\n",
       "      <td>[1864]</td>\n",
       "      <td>[]</td>\n",
       "      <td>[]</td>\n",
       "      <td>[]</td>\n",
       "      <td>[North Carolina, United States, States]</td>\n",
       "      <td>[Department of Virginia, OATH PAROLE]</td>\n",
       "    </tr>\n",
       "    <tr>\n",
       "      <th>2</th>\n",
       "      <td>2</td>\n",
       "      <td>[W. H. Pearce, W . H. Pearce]</td>\n",
       "      <td>[]</td>\n",
       "      <td>[]</td>\n",
       "      <td>[3rd day of October , A.D. , 1865]</td>\n",
       "      <td>[3-October-1865]</td>\n",
       "      <td>[3-October-1865]</td>\n",
       "      <td>[W. H. Pearce, Almighty, God, E. Ampetts, W . ...</td>\n",
       "      <td>[Craven County, State of NorthCarolina, United...</td>\n",
       "      <td>[Constitution]</td>\n",
       "    </tr>\n",
       "    <tr>\n",
       "      <th>3</th>\n",
       "      <td>3</td>\n",
       "      <td>[]</td>\n",
       "      <td>[North Carolina, United States]</td>\n",
       "      <td>[]</td>\n",
       "      <td>[______ day of ____________ , 1866]</td>\n",
       "      <td>[]</td>\n",
       "      <td>[]</td>\n",
       "      <td>[God]</td>\n",
       "      <td>[State of, North Carolina, United States]</td>\n",
       "      <td>[Constitution]</td>\n",
       "    </tr>\n",
       "    <tr>\n",
       "      <th>4</th>\n",
       "      <td>4</td>\n",
       "      <td>[S.E . Allen]</td>\n",
       "      <td>[North Carolina, Wake County, United States]</td>\n",
       "      <td>[]</td>\n",
       "      <td>[31st day of May , 1867]</td>\n",
       "      <td>[31-May-1867]</td>\n",
       "      <td>[31-May-1867]</td>\n",
       "      <td>[S.E, God, T.D, McAlpine]</td>\n",
       "      <td>[State of, North Carolina, Wake County, United...</td>\n",
       "      <td>[Constitution, Res . Corp]</td>\n",
       "    </tr>\n",
       "    <tr>\n",
       "      <th>...</th>\n",
       "      <td>...</td>\n",
       "      <td>...</td>\n",
       "      <td>...</td>\n",
       "      <td>...</td>\n",
       "      <td>...</td>\n",
       "      <td>...</td>\n",
       "      <td>...</td>\n",
       "      <td>...</td>\n",
       "      <td>...</td>\n",
       "      <td>...</td>\n",
       "    </tr>\n",
       "    <tr>\n",
       "      <th>2131</th>\n",
       "      <td>2131</td>\n",
       "      <td>[Geo . Little, Geo . B. Ayer]</td>\n",
       "      <td>[Raleigh, N.C., Wake County, N.C, United State...</td>\n",
       "      <td>[]</td>\n",
       "      <td>[May 26, July 14]</td>\n",
       "      <td>[]</td>\n",
       "      <td>[]</td>\n",
       "      <td>[Geo . Little, Geo, B. Ayer, Hugo Hillebrandt]</td>\n",
       "      <td>[Raleigh, N.C., Wake County, State of N.C, Uni...</td>\n",
       "      <td>[]</td>\n",
       "    </tr>\n",
       "    <tr>\n",
       "      <th>2132</th>\n",
       "      <td>2132</td>\n",
       "      <td>[Birnie]</td>\n",
       "      <td>[]</td>\n",
       "      <td>[]</td>\n",
       "      <td>[July 30th 1867]</td>\n",
       "      <td>[30-July-1867]</td>\n",
       "      <td>[30-July-1867]</td>\n",
       "      <td>[]</td>\n",
       "      <td>[]</td>\n",
       "      <td>[]</td>\n",
       "    </tr>\n",
       "    <tr>\n",
       "      <th>2133</th>\n",
       "      <td>2133</td>\n",
       "      <td>[William Birnie]</td>\n",
       "      <td>[North Carolina, Robeson County, United States]</td>\n",
       "      <td>[]</td>\n",
       "      <td>[30 day of July]</td>\n",
       "      <td>[]</td>\n",
       "      <td>[]</td>\n",
       "      <td>[William Birnie, God, Wm Birnie, W.A]</td>\n",
       "      <td>[State of, North Carolina, Robeson County, Uni...</td>\n",
       "      <td>[Constitution]</td>\n",
       "    </tr>\n",
       "    <tr>\n",
       "      <th>2134</th>\n",
       "      <td>2134</td>\n",
       "      <td>[A.L . Price, James Fulton, John D Conoley, Al...</td>\n",
       "      <td>[North Carolina, New Hanover County, New Hanov...</td>\n",
       "      <td>[Fulton Price]</td>\n",
       "      <td>[May 29 1865, 15th Sept 1865, 15th September A...</td>\n",
       "      <td>[29-May-1865, 15-Sept-1865, 15-September-1865,...</td>\n",
       "      <td>[29-May-1865, 15-Septembre-1865, 15-Septembre-...</td>\n",
       "      <td>[Price, James Fulton, Sgd W . N. Peden, Miles ...</td>\n",
       "      <td>[State of North Carolina, New Hanover County, ...</td>\n",
       "      <td>[Fulton Price, Confederate Government, Court o...</td>\n",
       "    </tr>\n",
       "    <tr>\n",
       "      <th>2135</th>\n",
       "      <td>2135</td>\n",
       "      <td>[James Fulton, Wm A. Cutler, Geo W. Pollock, F...</td>\n",
       "      <td>[Wilmington N.C, New Hanover County]</td>\n",
       "      <td>[]</td>\n",
       "      <td>[Sept 22 . 1865, Twentyseventh day of Septembe...</td>\n",
       "      <td>[22-Sept-1865, Twentyseventh-September-1865, T...</td>\n",
       "      <td>[22-Septembre-1865, 27-Septembre-1865, Twentys...</td>\n",
       "      <td>[Marshall, James Fulton, God, Wm A. Cutler, I,...</td>\n",
       "      <td>[City of Wilmington, N.C, United States, North...</td>\n",
       "      <td>[NARA, Constitution of, Slaves]</td>\n",
       "    </tr>\n",
       "  </tbody>\n",
       "</table>\n",
       "<p>2136 rows × 10 columns</p>\n",
       "</div>"
      ],
      "text/plain": [
       "      text                                   PERSON-ontonotes  \\\n",
       "0        0  [I C Meekins, Isaac C. Meekins, E H Walker, Jo...   \n",
       "1        1                                                 []   \n",
       "2        2                      [W. H. Pearce, W . H. Pearce]   \n",
       "3        3                                                 []   \n",
       "4        4                                      [S.E . Allen]   \n",
       "...    ...                                                ...   \n",
       "2131  2131                      [Geo . Little, Geo . B. Ayer]   \n",
       "2132  2132                                           [Birnie]   \n",
       "2133  2133                                   [William Birnie]   \n",
       "2134  2134  [A.L . Price, James Fulton, John D Conoley, Al...   \n",
       "2135  2135  [James Fulton, Wm A. Cutler, Geo W. Pollock, F...   \n",
       "\n",
       "                                          GPE-ontonotes  \\\n",
       "0                                  [Currituck County ,]   \n",
       "1               [North Carolina, United States, States]   \n",
       "2                                                    []   \n",
       "3                       [North Carolina, United States]   \n",
       "4          [North Carolina, Wake County, United States]   \n",
       "...                                                 ...   \n",
       "2131  [Raleigh, N.C., Wake County, N.C, United State...   \n",
       "2132                                                 []   \n",
       "2133    [North Carolina, Robeson County, United States]   \n",
       "2134  [North Carolina, New Hanover County, New Hanov...   \n",
       "2135               [Wilmington N.C, New Hanover County]   \n",
       "\n",
       "                        ORG-ontonotes  \\\n",
       "0                                  []   \n",
       "1     [Department of Virginia, State]   \n",
       "2                                  []   \n",
       "3                                  []   \n",
       "4                                  []   \n",
       "...                               ...   \n",
       "2131                               []   \n",
       "2132                               []   \n",
       "2133                               []   \n",
       "2134                   [Fulton Price]   \n",
       "2135                               []   \n",
       "\n",
       "                                         Date-ontonotes  \\\n",
       "0                         [16 day of Sept A.D . , 1865]   \n",
       "1                                                [1864]   \n",
       "2                    [3rd day of October , A.D. , 1865]   \n",
       "3                   [______ day of ____________ , 1866]   \n",
       "4                              [31st day of May , 1867]   \n",
       "...                                                 ...   \n",
       "2131                                  [May 26, July 14]   \n",
       "2132                                   [July 30th 1867]   \n",
       "2133                                   [30 day of July]   \n",
       "2134  [May 29 1865, 15th Sept 1865, 15th September A...   \n",
       "2135  [Sept 22 . 1865, Twentyseventh day of Septembe...   \n",
       "\n",
       "                                     postDate-ontonotes  \\\n",
       "0                                        [16-Sept-1865]   \n",
       "1                                                    []   \n",
       "2                                      [3-October-1865]   \n",
       "3                                                    []   \n",
       "4                                         [31-May-1867]   \n",
       "...                                                 ...   \n",
       "2131                                                 []   \n",
       "2132                                     [30-July-1867]   \n",
       "2133                                                 []   \n",
       "2134  [29-May-1865, 15-Sept-1865, 15-September-1865,...   \n",
       "2135  [22-Sept-1865, Twentyseventh-September-1865, T...   \n",
       "\n",
       "                                                  Dates  \\\n",
       "0                                   [16-Septembre-1865]   \n",
       "1                                                    []   \n",
       "2                                      [3-October-1865]   \n",
       "3                                                    []   \n",
       "4                                         [31-May-1867]   \n",
       "...                                                 ...   \n",
       "2131                                                 []   \n",
       "2132                                     [30-July-1867]   \n",
       "2133                                                 []   \n",
       "2134  [29-May-1865, 15-Septembre-1865, 15-Septembre-...   \n",
       "2135  [22-Septembre-1865, 27-Septembre-1865, Twentys...   \n",
       "\n",
       "                                     Person-NerEngLarge  \\\n",
       "0     [I C Meekins, Almighty, God, Isaac C. Meekins,...   \n",
       "1                                                    []   \n",
       "2     [W. H. Pearce, Almighty, God, E. Ampetts, W . ...   \n",
       "3                                                 [God]   \n",
       "4                             [S.E, God, T.D, McAlpine]   \n",
       "...                                                 ...   \n",
       "2131     [Geo . Little, Geo, B. Ayer, Hugo Hillebrandt]   \n",
       "2132                                                 []   \n",
       "2133              [William Birnie, God, Wm Birnie, W.A]   \n",
       "2134  [Price, James Fulton, Sgd W . N. Peden, Miles ...   \n",
       "2135  [Marshall, James Fulton, God, Wm A. Cutler, I,...   \n",
       "\n",
       "                                        LOC-NerEngLarge  \\\n",
       "0     [Currituck County, State of North Carolina, Un...   \n",
       "1               [North Carolina, United States, States]   \n",
       "2     [Craven County, State of NorthCarolina, United...   \n",
       "3             [State of, North Carolina, United States]   \n",
       "4     [State of, North Carolina, Wake County, United...   \n",
       "...                                                 ...   \n",
       "2131  [Raleigh, N.C., Wake County, State of N.C, Uni...   \n",
       "2132                                                 []   \n",
       "2133  [State of, North Carolina, Robeson County, Uni...   \n",
       "2134  [State of North Carolina, New Hanover County, ...   \n",
       "2135  [City of Wilmington, N.C, United States, North...   \n",
       "\n",
       "                                        ORG-NerEngLarge  \n",
       "0                                        [Constitution]  \n",
       "1                 [Department of Virginia, OATH PAROLE]  \n",
       "2                                        [Constitution]  \n",
       "3                                        [Constitution]  \n",
       "4                            [Constitution, Res . Corp]  \n",
       "...                                                 ...  \n",
       "2131                                                 []  \n",
       "2132                                                 []  \n",
       "2133                                     [Constitution]  \n",
       "2134  [Fulton Price, Confederate Government, Court o...  \n",
       "2135                    [NARA, Constitution of, Slaves]  \n",
       "\n",
       "[2136 rows x 10 columns]"
      ]
     },
     "execution_count": 21,
     "metadata": {},
     "output_type": "execute_result"
    }
   ],
   "source": [
    "data"
   ]
  },
  {
   "cell_type": "markdown",
   "id": "6b4a3e3c",
   "metadata": {
    "papermill": {
     "duration": 0.026796,
     "end_time": "2022-06-15T11:54:49.561267",
     "exception": false,
     "start_time": "2022-06-15T11:54:49.534471",
     "status": "completed"
    },
    "tags": []
   },
   "source": [
    "# Separate Oath maker and witness name"
   ]
  },
  {
   "cell_type": "code",
   "execution_count": 22,
   "id": "fa079f47",
   "metadata": {
    "execution": {
     "iopub.execute_input": "2022-06-15T11:54:49.616780Z",
     "iopub.status.busy": "2022-06-15T11:54:49.616367Z",
     "iopub.status.idle": "2022-06-15T11:54:49.696784Z",
     "shell.execute_reply": "2022-06-15T11:54:49.696005Z"
    },
    "papermill": {
     "duration": 0.110858,
     "end_time": "2022-06-15T11:54:49.699059",
     "exception": false,
     "start_time": "2022-06-15T11:54:49.588201",
     "status": "completed"
    },
    "tags": []
   },
   "outputs": [],
   "source": [
    "newdata=pd.read_csv(\"../input/oathss/oaths.csv\")"
   ]
  },
  {
   "cell_type": "code",
   "execution_count": 23,
   "id": "66d31297",
   "metadata": {
    "execution": {
     "iopub.execute_input": "2022-06-15T11:54:49.755538Z",
     "iopub.status.busy": "2022-06-15T11:54:49.754458Z",
     "iopub.status.idle": "2022-06-15T11:54:49.768601Z",
     "shell.execute_reply": "2022-06-15T11:54:49.767733Z"
    },
    "papermill": {
     "duration": 0.044196,
     "end_time": "2022-06-15T11:54:49.770846",
     "exception": false,
     "start_time": "2022-06-15T11:54:49.726650",
     "status": "completed"
    },
    "tags": []
   },
   "outputs": [],
   "source": [
    "all_text=newdata[\"transcription_text\"]\n",
    "stop_words = set(stopwords.words('english'))\n",
    "punctuation = string.punctuation\n",
    "stemmer = SnowballStemmer(language=\"english\")\n",
    "lemmatizer = WordNetLemmatizer()\n",
    "stop_words.remove(\"of\")\n",
    "punctuation\n",
    "punct='!\"#$%&\\'()*+-/<=>?@[\\\\]^`{|}~'"
   ]
  },
  {
   "cell_type": "code",
   "execution_count": 24,
   "id": "39cfd005",
   "metadata": {
    "execution": {
     "iopub.execute_input": "2022-06-15T11:54:49.827378Z",
     "iopub.status.busy": "2022-06-15T11:54:49.826726Z",
     "iopub.status.idle": "2022-06-15T11:55:01.896599Z",
     "shell.execute_reply": "2022-06-15T11:55:01.895671Z"
    },
    "papermill": {
     "duration": 12.100299,
     "end_time": "2022-06-15T11:55:01.898671",
     "exception": false,
     "start_time": "2022-06-15T11:54:49.798372",
     "status": "completed"
    },
    "tags": []
   },
   "outputs": [
    {
     "name": "stderr",
     "output_type": "stream",
     "text": [
      "100%|██████████| 2136/2136 [00:11<00:00, 189.20it/s]\n",
      "100%|██████████| 2136/2136 [00:00<00:00, 2810.68it/s]\n"
     ]
    }
   ],
   "source": [
    "def process(s):\n",
    "    s= re.sub(\"([\\(\\[]).*?([\\)\\]])\",\" \",s)\n",
    "    for p in punct:\n",
    "        s = s.replace(p, '')\n",
    "    s = word_tokenize(s)\n",
    "    s = [w for w in s if not w in stop_words] \n",
    "    s = [lemmatizer.lemmatize(word) for word in s]\n",
    "    return s\n",
    "\n",
    "for i in tqdm(range(newdata.shape[0])):\n",
    "    all_text[i] = process(all_text[i])\n",
    "for i in tqdm(range(newdata.shape[0])):\n",
    "    all_text[i] = \" \".join(all_text[i])"
   ]
  },
  {
   "cell_type": "code",
   "execution_count": 25,
   "id": "3b783114",
   "metadata": {
    "execution": {
     "iopub.execute_input": "2022-06-15T11:55:01.966700Z",
     "iopub.status.busy": "2022-06-15T11:55:01.965710Z",
     "iopub.status.idle": "2022-06-15T11:55:01.978382Z",
     "shell.execute_reply": "2022-06-15T11:55:01.977434Z"
    },
    "papermill": {
     "duration": 0.049449,
     "end_time": "2022-06-15T11:55:01.980895",
     "exception": false,
     "start_time": "2022-06-15T11:55:01.931446",
     "status": "completed"
    },
    "tags": []
   },
   "outputs": [],
   "source": [
    "allPerson=[]\n",
    "for i in Audf[\"PERSON-ontonotes\"]:\n",
    "            allPerson.append(i)\n",
    "allDatess=[]\n",
    "for i in Audf[\"Date-ontonotes\"]:\n",
    "            allDatess.append(i)\n",
    "allpostdates=[]\n",
    "for i in Audf[\"postDate-ontonotes\"]:\n",
    "            allpostdates.append(i)\n",
    "allGPE=[]\n",
    "for i in Audf[\"GPE-ontonotes\"]:\n",
    "            allGPE.append(i)\n",
    "alORGl=[]\n",
    "for i in Audf[\"ORG-ontonotes\"]:\n",
    "            alORGl.append(i)"
   ]
  },
  {
   "cell_type": "code",
   "execution_count": 26,
   "id": "5e9c4999",
   "metadata": {
    "execution": {
     "iopub.execute_input": "2022-06-15T11:55:02.050031Z",
     "iopub.status.busy": "2022-06-15T11:55:02.049199Z",
     "iopub.status.idle": "2022-06-15T11:55:02.058702Z",
     "shell.execute_reply": "2022-06-15T11:55:02.057335Z"
    },
    "papermill": {
     "duration": 0.046928,
     "end_time": "2022-06-15T11:55:02.061293",
     "exception": false,
     "start_time": "2022-06-15T11:55:02.014365",
     "status": "completed"
    },
    "tags": []
   },
   "outputs": [],
   "source": [
    "Personlarge=[]\n",
    "for i in dflarge[\"PERSON-nerenglarge\"]:\n",
    "            Personlarge.append(i)\n",
    "ORGlarge=[]\n",
    "for i in dflarge[\"ORG-nerenglarge\"]:\n",
    "            ORGlarge.append(i) \n",
    "LOClarge=[]\n",
    "for i in dflarge[\"LOC-nerenglarge\"]:\n",
    "            LOClarge.append(i)"
   ]
  },
  {
   "cell_type": "code",
   "execution_count": 27,
   "id": "dd8da785",
   "metadata": {
    "execution": {
     "iopub.execute_input": "2022-06-15T11:55:02.130529Z",
     "iopub.status.busy": "2022-06-15T11:55:02.130049Z",
     "iopub.status.idle": "2022-06-15T11:55:02.133682Z",
     "shell.execute_reply": "2022-06-15T11:55:02.132986Z"
    },
    "papermill": {
     "duration": 0.040793,
     "end_time": "2022-06-15T11:55:02.135688",
     "exception": false,
     "start_time": "2022-06-15T11:55:02.094895",
     "status": "completed"
    },
    "tags": []
   },
   "outputs": [],
   "source": [
    "# NewPerson[10]"
   ]
  },
  {
   "cell_type": "code",
   "execution_count": 28,
   "id": "ae6b6a30",
   "metadata": {
    "execution": {
     "iopub.execute_input": "2022-06-15T11:55:02.204015Z",
     "iopub.status.busy": "2022-06-15T11:55:02.203044Z",
     "iopub.status.idle": "2022-06-15T11:55:02.207087Z",
     "shell.execute_reply": "2022-06-15T11:55:02.206398Z"
    },
    "papermill": {
     "duration": 0.040269,
     "end_time": "2022-06-15T11:55:02.209029",
     "exception": false,
     "start_time": "2022-06-15T11:55:02.168760",
     "status": "completed"
    },
    "tags": []
   },
   "outputs": [],
   "source": [
    "# Perr[10]"
   ]
  },
  {
   "cell_type": "code",
   "execution_count": 29,
   "id": "92f6ef3a",
   "metadata": {
    "execution": {
     "iopub.execute_input": "2022-06-15T11:55:02.279350Z",
     "iopub.status.busy": "2022-06-15T11:55:02.278725Z",
     "iopub.status.idle": "2022-06-15T11:55:02.282456Z",
     "shell.execute_reply": "2022-06-15T11:55:02.281512Z"
    },
    "papermill": {
     "duration": 0.041294,
     "end_time": "2022-06-15T11:55:02.284646",
     "exception": false,
     "start_time": "2022-06-15T11:55:02.243352",
     "status": "completed"
    },
    "tags": []
   },
   "outputs": [],
   "source": [
    "# NewPerson[25]"
   ]
  },
  {
   "cell_type": "code",
   "execution_count": 30,
   "id": "1e83b607",
   "metadata": {
    "execution": {
     "iopub.execute_input": "2022-06-15T11:55:02.353423Z",
     "iopub.status.busy": "2022-06-15T11:55:02.352848Z",
     "iopub.status.idle": "2022-06-15T11:55:02.356560Z",
     "shell.execute_reply": "2022-06-15T11:55:02.355877Z"
    },
    "papermill": {
     "duration": 0.040153,
     "end_time": "2022-06-15T11:55:02.358564",
     "exception": false,
     "start_time": "2022-06-15T11:55:02.318411",
     "status": "completed"
    },
    "tags": []
   },
   "outputs": [],
   "source": [
    "# Perr[25]"
   ]
  },
  {
   "cell_type": "code",
   "execution_count": 31,
   "id": "21670784",
   "metadata": {
    "execution": {
     "iopub.execute_input": "2022-06-15T11:55:02.426760Z",
     "iopub.status.busy": "2022-06-15T11:55:02.425779Z",
     "iopub.status.idle": "2022-06-15T11:55:02.429786Z",
     "shell.execute_reply": "2022-06-15T11:55:02.429084Z"
    },
    "papermill": {
     "duration": 0.040265,
     "end_time": "2022-06-15T11:55:02.431803",
     "exception": false,
     "start_time": "2022-06-15T11:55:02.391538",
     "status": "completed"
    },
    "tags": []
   },
   "outputs": [],
   "source": [
    "# NewPerson[112]"
   ]
  },
  {
   "cell_type": "code",
   "execution_count": 32,
   "id": "7b1a4b79",
   "metadata": {
    "execution": {
     "iopub.execute_input": "2022-06-15T11:55:02.500845Z",
     "iopub.status.busy": "2022-06-15T11:55:02.500231Z",
     "iopub.status.idle": "2022-06-15T11:55:02.504022Z",
     "shell.execute_reply": "2022-06-15T11:55:02.503147Z"
    },
    "papermill": {
     "duration": 0.040663,
     "end_time": "2022-06-15T11:55:02.506101",
     "exception": false,
     "start_time": "2022-06-15T11:55:02.465438",
     "status": "completed"
    },
    "tags": []
   },
   "outputs": [],
   "source": [
    "# Perr[112]"
   ]
  },
  {
   "cell_type": "code",
   "execution_count": 33,
   "id": "c78bd448",
   "metadata": {
    "execution": {
     "iopub.execute_input": "2022-06-15T11:55:02.575537Z",
     "iopub.status.busy": "2022-06-15T11:55:02.574714Z",
     "iopub.status.idle": "2022-06-15T11:55:02.578629Z",
     "shell.execute_reply": "2022-06-15T11:55:02.577932Z"
    },
    "papermill": {
     "duration": 0.041299,
     "end_time": "2022-06-15T11:55:02.580493",
     "exception": false,
     "start_time": "2022-06-15T11:55:02.539194",
     "status": "completed"
    },
    "tags": []
   },
   "outputs": [],
   "source": [
    "# NewPerson[211]"
   ]
  },
  {
   "cell_type": "code",
   "execution_count": 34,
   "id": "f7fb572f",
   "metadata": {
    "execution": {
     "iopub.execute_input": "2022-06-15T11:55:02.648495Z",
     "iopub.status.busy": "2022-06-15T11:55:02.647868Z",
     "iopub.status.idle": "2022-06-15T11:55:02.651398Z",
     "shell.execute_reply": "2022-06-15T11:55:02.650576Z"
    },
    "papermill": {
     "duration": 0.039778,
     "end_time": "2022-06-15T11:55:02.653435",
     "exception": false,
     "start_time": "2022-06-15T11:55:02.613657",
     "status": "completed"
    },
    "tags": []
   },
   "outputs": [],
   "source": [
    "# Perr[211]"
   ]
  },
  {
   "cell_type": "code",
   "execution_count": 35,
   "id": "0c90f94c",
   "metadata": {
    "execution": {
     "iopub.execute_input": "2022-06-15T11:55:02.722029Z",
     "iopub.status.busy": "2022-06-15T11:55:02.721060Z",
     "iopub.status.idle": "2022-06-15T11:55:02.724896Z",
     "shell.execute_reply": "2022-06-15T11:55:02.724208Z"
    },
    "papermill": {
     "duration": 0.039893,
     "end_time": "2022-06-15T11:55:02.726827",
     "exception": false,
     "start_time": "2022-06-15T11:55:02.686934",
     "status": "completed"
    },
    "tags": []
   },
   "outputs": [],
   "source": [
    "# NewPerson[218]"
   ]
  },
  {
   "cell_type": "code",
   "execution_count": 36,
   "id": "e5b07211",
   "metadata": {
    "execution": {
     "iopub.execute_input": "2022-06-15T11:55:02.795556Z",
     "iopub.status.busy": "2022-06-15T11:55:02.794292Z",
     "iopub.status.idle": "2022-06-15T11:55:02.798694Z",
     "shell.execute_reply": "2022-06-15T11:55:02.797831Z"
    },
    "papermill": {
     "duration": 0.041073,
     "end_time": "2022-06-15T11:55:02.800918",
     "exception": false,
     "start_time": "2022-06-15T11:55:02.759845",
     "status": "completed"
    },
    "tags": []
   },
   "outputs": [],
   "source": [
    "# Perr[218]"
   ]
  },
  {
   "cell_type": "code",
   "execution_count": 37,
   "id": "9a7fba2b",
   "metadata": {
    "execution": {
     "iopub.execute_input": "2022-06-15T11:55:02.869477Z",
     "iopub.status.busy": "2022-06-15T11:55:02.868370Z",
     "iopub.status.idle": "2022-06-15T11:55:02.888005Z",
     "shell.execute_reply": "2022-06-15T11:55:02.886927Z"
    },
    "papermill": {
     "duration": 0.056063,
     "end_time": "2022-06-15T11:55:02.890282",
     "exception": false,
     "start_time": "2022-06-15T11:55:02.834219",
     "status": "completed"
    },
    "tags": []
   },
   "outputs": [],
   "source": [
    "NewPerson=[]\n",
    "for i in Personlarge:\n",
    "    p=[]\n",
    "    for j in i:\n",
    "        j=j.replace('.','')\n",
    "        j=j.replace('Oath','')\n",
    "        j=j.replace('Sworn','')\n",
    "        j=j.replace('Path of','')\n",
    "        j=j.replace('  ',' ')\n",
    "        p.append(j)\n",
    "    NewPerson.append(p)\n",
    "    \n",
    "        "
   ]
  },
  {
   "cell_type": "code",
   "execution_count": 38,
   "id": "aa986af9",
   "metadata": {
    "execution": {
     "iopub.execute_input": "2022-06-15T11:55:02.958626Z",
     "iopub.status.busy": "2022-06-15T11:55:02.958207Z",
     "iopub.status.idle": "2022-06-15T11:55:02.963742Z",
     "shell.execute_reply": "2022-06-15T11:55:02.963147Z"
    },
    "papermill": {
     "duration": 0.042057,
     "end_time": "2022-06-15T11:55:02.965492",
     "exception": false,
     "start_time": "2022-06-15T11:55:02.923435",
     "status": "completed"
    },
    "tags": []
   },
   "outputs": [
    {
     "data": {
      "text/plain": [
       "2136"
      ]
     },
     "execution_count": 38,
     "metadata": {},
     "output_type": "execute_result"
    }
   ],
   "source": [
    "len(NewPerson)"
   ]
  },
  {
   "cell_type": "code",
   "execution_count": 39,
   "id": "236b3431",
   "metadata": {
    "execution": {
     "iopub.execute_input": "2022-06-15T11:55:03.034489Z",
     "iopub.status.busy": "2022-06-15T11:55:03.033835Z",
     "iopub.status.idle": "2022-06-15T11:55:03.043989Z",
     "shell.execute_reply": "2022-06-15T11:55:03.043207Z"
    },
    "papermill": {
     "duration": 0.046574,
     "end_time": "2022-06-15T11:55:03.045983",
     "exception": false,
     "start_time": "2022-06-15T11:55:02.999409",
     "status": "completed"
    },
    "tags": []
   },
   "outputs": [
    {
     "data": {
      "text/plain": [
       "9512"
      ]
     },
     "execution_count": 39,
     "metadata": {},
     "output_type": "execute_result"
    }
   ],
   "source": [
    "PL=[]\n",
    "for i in NewPerson:\n",
    "    for j in i:\n",
    "        PL.append(j)\n",
    "len(PL)"
   ]
  },
  {
   "cell_type": "markdown",
   "id": "0bb94618",
   "metadata": {
    "papermill": {
     "duration": 0.032696,
     "end_time": "2022-06-15T11:55:03.112630",
     "exception": false,
     "start_time": "2022-06-15T11:55:03.079934",
     "status": "completed"
    },
    "tags": []
   },
   "source": [
    "# removing outliers"
   ]
  },
  {
   "cell_type": "code",
   "execution_count": 40,
   "id": "6abe4568",
   "metadata": {
    "execution": {
     "iopub.execute_input": "2022-06-15T11:55:03.181496Z",
     "iopub.status.busy": "2022-06-15T11:55:03.180422Z",
     "iopub.status.idle": "2022-06-15T11:55:03.187379Z",
     "shell.execute_reply": "2022-06-15T11:55:03.186320Z"
    },
    "papermill": {
     "duration": 0.043834,
     "end_time": "2022-06-15T11:55:03.189752",
     "exception": false,
     "start_time": "2022-06-15T11:55:03.145918",
     "status": "completed"
    },
    "tags": []
   },
   "outputs": [],
   "source": [
    "L=[\"God\",\"GOD\",\"god\",\"ANDREW JOHNSON\",\"AB\",\"CE\",\"andrew jonhson\",\"Justice of Peace\",\"Almighty God\",\"Andrew Johnson\",\"SE\",\"TD\",\"Jm\",\"I\",\"I J\",\"MW\",\"M\",\"JH\",\"JB\",\"WD\",\"JK\",\"J P\",\"C\",\"G\",\"HA\",\"J\",\"A\",\"F A\",\"DS\",\"CT\",\"RF\",'JE',\"Ashe\",\"JL\",\"H\",\"JP\",\"Mr\",\"Sworn\",\"sworn\",\"JF\",\"Bonnell\",\"B\",\"ER\",\"WHé\",\"JH\",\"JW\",\"F\",\"Wm\",\"W\",\"WF\"]"
   ]
  },
  {
   "cell_type": "code",
   "execution_count": 41,
   "id": "5e366326",
   "metadata": {
    "execution": {
     "iopub.execute_input": "2022-06-15T11:55:03.259522Z",
     "iopub.status.busy": "2022-06-15T11:55:03.258830Z",
     "iopub.status.idle": "2022-06-15T11:55:03.271877Z",
     "shell.execute_reply": "2022-06-15T11:55:03.271157Z"
    },
    "papermill": {
     "duration": 0.049662,
     "end_time": "2022-06-15T11:55:03.274080",
     "exception": false,
     "start_time": "2022-06-15T11:55:03.224418",
     "status": "completed"
    },
    "tags": []
   },
   "outputs": [],
   "source": [
    "Per=[]\n",
    "for i in NewPerson:\n",
    "    p=[]\n",
    "    for j in i:\n",
    "        if j==\"Almighty\":\n",
    "            j=\"Almighty God\"\n",
    "        if j not in L:\n",
    "            p.append(j)\n",
    "        \n",
    "    Per.append(p)"
   ]
  },
  {
   "cell_type": "code",
   "execution_count": null,
   "id": "2569adf9",
   "metadata": {
    "papermill": {
     "duration": 0.03288,
     "end_time": "2022-06-15T11:55:03.341253",
     "exception": false,
     "start_time": "2022-06-15T11:55:03.308373",
     "status": "completed"
    },
    "tags": []
   },
   "outputs": [],
   "source": []
  },
  {
   "cell_type": "code",
   "execution_count": 42,
   "id": "879321ab",
   "metadata": {
    "execution": {
     "iopub.execute_input": "2022-06-15T11:55:03.409235Z",
     "iopub.status.busy": "2022-06-15T11:55:03.408617Z",
     "iopub.status.idle": "2022-06-15T11:55:03.413827Z",
     "shell.execute_reply": "2022-06-15T11:55:03.413012Z"
    },
    "papermill": {
     "duration": 0.041524,
     "end_time": "2022-06-15T11:55:03.415909",
     "exception": false,
     "start_time": "2022-06-15T11:55:03.374385",
     "status": "completed"
    },
    "tags": []
   },
   "outputs": [
    {
     "data": {
      "text/plain": [
       "'United States of America I , Elizabeth W. Bonnell of Barnwell District State of South Carolina , solemnly swear affirm presence of Almighty God , I henceforth support defend Consitution of United States , service of States thereunder , I like manner abide support law proclamation made existing rebellion reference emancipation of slave help God . Elizabeth W Bonnell Subscribed sworn Blackville 21st day of October A.D. 1865 James E. Robinson Magst .'"
      ]
     },
     "execution_count": 42,
     "metadata": {},
     "output_type": "execute_result"
    }
   ],
   "source": [
    "all_text[1006]"
   ]
  },
  {
   "cell_type": "code",
   "execution_count": 43,
   "id": "f899daf6",
   "metadata": {
    "execution": {
     "iopub.execute_input": "2022-06-15T11:55:03.484877Z",
     "iopub.status.busy": "2022-06-15T11:55:03.484239Z",
     "iopub.status.idle": "2022-06-15T11:55:03.489472Z",
     "shell.execute_reply": "2022-06-15T11:55:03.488649Z"
    },
    "papermill": {
     "duration": 0.041673,
     "end_time": "2022-06-15T11:55:03.491509",
     "exception": false,
     "start_time": "2022-06-15T11:55:03.449836",
     "status": "completed"
    },
    "tags": []
   },
   "outputs": [
    {
     "data": {
      "text/plain": [
       "['Elizabeth W Bonnell', 'Elizabeth W Bonnell', 'James E Robinson Magst']"
      ]
     },
     "execution_count": 43,
     "metadata": {},
     "output_type": "execute_result"
    }
   ],
   "source": [
    "Per[1006]"
   ]
  },
  {
   "cell_type": "code",
   "execution_count": 44,
   "id": "7130ba3e",
   "metadata": {
    "execution": {
     "iopub.execute_input": "2022-06-15T11:55:03.560882Z",
     "iopub.status.busy": "2022-06-15T11:55:03.560241Z",
     "iopub.status.idle": "2022-06-15T11:55:03.564063Z",
     "shell.execute_reply": "2022-06-15T11:55:03.563362Z"
    },
    "papermill": {
     "duration": 0.040775,
     "end_time": "2022-06-15T11:55:03.566102",
     "exception": false,
     "start_time": "2022-06-15T11:55:03.525327",
     "status": "completed"
    },
    "tags": []
   },
   "outputs": [],
   "source": [
    "# Perr[1006]"
   ]
  },
  {
   "cell_type": "code",
   "execution_count": 45,
   "id": "1affaba6",
   "metadata": {
    "execution": {
     "iopub.execute_input": "2022-06-15T11:55:03.635833Z",
     "iopub.status.busy": "2022-06-15T11:55:03.635219Z",
     "iopub.status.idle": "2022-06-15T11:55:03.642926Z",
     "shell.execute_reply": "2022-06-15T11:55:03.642243Z"
    },
    "papermill": {
     "duration": 0.044192,
     "end_time": "2022-06-15T11:55:03.644751",
     "exception": false,
     "start_time": "2022-06-15T11:55:03.600559",
     "status": "completed"
    },
    "tags": []
   },
   "outputs": [
    {
     "data": {
      "text/plain": [
       "5683"
      ]
     },
     "execution_count": 45,
     "metadata": {},
     "output_type": "execute_result"
    }
   ],
   "source": [
    "PLl=[]\n",
    "for i in Per:\n",
    "    for j in i:\n",
    "        PLl.append(j)\n",
    "len(PLl)"
   ]
  },
  {
   "cell_type": "markdown",
   "id": "6357fee6",
   "metadata": {
    "papermill": {
     "duration": 0.033197,
     "end_time": "2022-06-15T11:55:03.711268",
     "exception": false,
     "start_time": "2022-06-15T11:55:03.678071",
     "status": "completed"
    },
    "tags": []
   },
   "source": [
    "# removing redundant name"
   ]
  },
  {
   "cell_type": "code",
   "execution_count": 46,
   "id": "7fd1653a",
   "metadata": {
    "execution": {
     "iopub.execute_input": "2022-06-15T11:55:03.780172Z",
     "iopub.status.busy": "2022-06-15T11:55:03.779508Z",
     "iopub.status.idle": "2022-06-15T11:55:03.790703Z",
     "shell.execute_reply": "2022-06-15T11:55:03.789596Z"
    },
    "papermill": {
     "duration": 0.048233,
     "end_time": "2022-06-15T11:55:03.793019",
     "exception": false,
     "start_time": "2022-06-15T11:55:03.744786",
     "status": "completed"
    },
    "tags": []
   },
   "outputs": [],
   "source": [
    "def uniqueName(iterable):\n",
    "    seen = set()\n",
    "    result = []\n",
    "    for item in iterable:\n",
    "        if item not in seen:\n",
    "            seen.add(item)\n",
    "            result.append(item)\n",
    "    return result\n",
    "Perr=[]\n",
    "for i in Per:\n",
    "    i=uniqueName(i)\n",
    "    Perr.append(i)\n",
    "    "
   ]
  },
  {
   "cell_type": "code",
   "execution_count": 47,
   "id": "308be7eb",
   "metadata": {
    "execution": {
     "iopub.execute_input": "2022-06-15T11:55:03.863464Z",
     "iopub.status.busy": "2022-06-15T11:55:03.862844Z",
     "iopub.status.idle": "2022-06-15T11:55:03.870276Z",
     "shell.execute_reply": "2022-06-15T11:55:03.869575Z"
    },
    "papermill": {
     "duration": 0.044454,
     "end_time": "2022-06-15T11:55:03.872112",
     "exception": false,
     "start_time": "2022-06-15T11:55:03.827658",
     "status": "completed"
    },
    "tags": []
   },
   "outputs": [
    {
     "data": {
      "text/plain": [
       "5318"
      ]
     },
     "execution_count": 47,
     "metadata": {},
     "output_type": "execute_result"
    }
   ],
   "source": [
    "PL=[]\n",
    "for i in Perr:\n",
    "    for j in i:\n",
    "        PL.append(j)\n",
    "len(PL)"
   ]
  },
  {
   "cell_type": "code",
   "execution_count": 48,
   "id": "010162d5",
   "metadata": {
    "execution": {
     "iopub.execute_input": "2022-06-15T11:55:03.941990Z",
     "iopub.status.busy": "2022-06-15T11:55:03.941426Z",
     "iopub.status.idle": "2022-06-15T11:55:03.951618Z",
     "shell.execute_reply": "2022-06-15T11:55:03.950870Z"
    },
    "papermill": {
     "duration": 0.04837,
     "end_time": "2022-06-15T11:55:03.954180",
     "exception": false,
     "start_time": "2022-06-15T11:55:03.905810",
     "status": "completed"
    },
    "tags": []
   },
   "outputs": [],
   "source": [
    "P=[]\n",
    "for i in Perr:\n",
    "    L=[]\n",
    "    for j in range(len(i)):\n",
    "        L.append(i[j].split())\n",
    "    P.append(L)\n"
   ]
  },
  {
   "cell_type": "code",
   "execution_count": 49,
   "id": "16626f59",
   "metadata": {
    "execution": {
     "iopub.execute_input": "2022-06-15T11:55:04.027246Z",
     "iopub.status.busy": "2022-06-15T11:55:04.026824Z",
     "iopub.status.idle": "2022-06-15T11:55:04.036183Z",
     "shell.execute_reply": "2022-06-15T11:55:04.035206Z"
    },
    "papermill": {
     "duration": 0.048531,
     "end_time": "2022-06-15T11:55:04.038396",
     "exception": false,
     "start_time": "2022-06-15T11:55:03.989865",
     "status": "completed"
    },
    "tags": []
   },
   "outputs": [
    {
     "data": {
      "text/plain": [
       "[['John Bowers', 'John E Bowers', 'Levi Stuber'],\n",
       " ['J Cheesborough', 'Levi Stuber'],\n",
       " ['Wm H Gilliland', 'Levi Stuber'],\n",
       " ['WA Wardlaw', 'J Miller Thompson', 'Daniel Lesesne', 'B Eaton'],\n",
       " ['Levi Stuber', 'Thomas Bonnell'],\n",
       " ['John Bonnell', 'James E Robinson Magst'],\n",
       " ['Elizabeth W Bonnell', 'James E Robinson Magst'],\n",
       " ['Caroline B Bonnell', 'James E Robinson Magstr'],\n",
       " ['Wm S Lanneau', 'Wm S Lamreau', 'Levi Stuber'],\n",
       " ['Thomas Bonnell', 'Levi Stuber'],\n",
       " ['Mary J Lockwood', 'Laurens', 'J E Ashe', 'GOD '],\n",
       " ['Caroline L Lockwood', 'JE Ashe'],\n",
       " ['Jane B Lockwood', 'J W Lockwood', 'Laurens', 'JW Lockwood'],\n",
       " ['Lockwood', 'Levi Stuber', 'I J Lockwood', 'J Lockwood'],\n",
       " ['James Bancroft', 'Levi Stuber', 'Jas Bancroft'],\n",
       " ['Walter Blake', 'Johnsons', 'BF', 'Perry'],\n",
       " ['Adeline E Brisbane', 'A E Brisbane', 'O', 'Shepherd', 'GOD ', 'O Shepherd'],\n",
       " ['Regina M Baker', 'Levi Stuber'],\n",
       " ['Esther Lynch Bowman',\n",
       "  'EL Bowman',\n",
       "  'Sumter',\n",
       "  'So Carol',\n",
       "  'TB Johnston',\n",
       "  'E L Bowman'],\n",
       " ['James E Thuring', 'J E Thuring'],\n",
       " ['James E Thuring', 'J E Thuring', 'Fredk A Ford'],\n",
       " ['Isabella C Thuring', 'Fredk A Ford', 'Govr Perry'],\n",
       " ['Charles F Benson', 'Chas F Benson', 'Levi Stuber', 'Chas', 'F Benson'],\n",
       " ['Eliza M Bonneau', 'W Burgess', 'Sumter , So Carol'],\n",
       " ['Mary Evelina Bull', 'Fredk A Ford', 'Perry'],\n",
       " ['Edmund Bull', 'E Bull', 'Levi Stuber'],\n",
       " ['RM Butler', 'Levi Stuber'],\n",
       " ['M P Browning', 'Levi Stuber'],\n",
       " ['G L Fickett', 'RW', 'Barnwell', 'R W Barnwell', 'GL Fickett'],\n",
       " ['John G Barnwell', 'Frank Geise'],\n",
       " ['Sarah E Brown', 'B G Read'],\n",
       " ['S E Brown', 'Levi Stuber'],\n",
       " ['John L Bell', 'Jno L Bell', 'Frank Geise'],\n",
       " ['Caroline L Brown', 'Frank Geise'],\n",
       " ['Margaret Brown', 'Margaret E Brown', 'Frank Geise'],\n",
       " ['Edward Barnwell', 'Ed Barnwell', 'M Burgess', 'Frank Geise'],\n",
       " ['James P Boyce', 'William H Seward'],\n",
       " ['Benjamin F Perry', 'James P Boyce'],\n",
       " ['Jno A Buchmyer', 'John A Buchmyer', 'Archibald Bogh'],\n",
       " ['I T A Whitney', 'T A Whitney', 'Archibald Boyle'],\n",
       " ['John E Bowers', 'Archibald Bogle'],\n",
       " ['Alexander Bowie', 'Cook'],\n",
       " ['Eliza A Bowie', 'W P Cook'],\n",
       " ['James A Bowie', 'Jas A Bowie', 'WP Cook'],\n",
       " ['E M Clark', 'Frank Geise'],\n",
       " ['Levi Stuber', 'John P Clement', 'J P Clement'],\n",
       " ['M W Clement', 'Levi Stuber'],\n",
       " ['I J M Curtis', 'Jas M Curtis', 'J Milton Thompson'],\n",
       " ['James M Curtis'],\n",
       " ['A J Clark', 'AJ Clark', 'Frank Geise']]"
      ]
     },
     "execution_count": 49,
     "metadata": {},
     "output_type": "execute_result"
    }
   ],
   "source": [
    "Perr[1000:1050]"
   ]
  },
  {
   "cell_type": "code",
   "execution_count": 50,
   "id": "e176bbc7",
   "metadata": {
    "execution": {
     "iopub.execute_input": "2022-06-15T11:55:04.110938Z",
     "iopub.status.busy": "2022-06-15T11:55:04.110546Z",
     "iopub.status.idle": "2022-06-15T11:55:04.117101Z",
     "shell.execute_reply": "2022-06-15T11:55:04.116077Z"
    },
    "papermill": {
     "duration": 0.046047,
     "end_time": "2022-06-15T11:55:04.119518",
     "exception": false,
     "start_time": "2022-06-15T11:55:04.073471",
     "status": "completed"
    },
    "tags": []
   },
   "outputs": [
    {
     "data": {
      "text/plain": [
       "['I C Meekins', 'Isaac C Meekins', 'E H Walker']"
      ]
     },
     "execution_count": 50,
     "metadata": {},
     "output_type": "execute_result"
    }
   ],
   "source": [
    "Perr[0]"
   ]
  },
  {
   "cell_type": "code",
   "execution_count": 51,
   "id": "acf5ce95",
   "metadata": {
    "execution": {
     "iopub.execute_input": "2022-06-15T11:55:04.190105Z",
     "iopub.status.busy": "2022-06-15T11:55:04.189122Z",
     "iopub.status.idle": "2022-06-15T11:55:04.195932Z",
     "shell.execute_reply": "2022-06-15T11:55:04.194981Z"
    },
    "papermill": {
     "duration": 0.043931,
     "end_time": "2022-06-15T11:55:04.198046",
     "exception": false,
     "start_time": "2022-06-15T11:55:04.154115",
     "status": "completed"
    },
    "tags": []
   },
   "outputs": [
    {
     "data": {
      "text/plain": [
       "[['John', 'Bowers'], ['John', 'E', 'Bowers'], ['Levi', 'Stuber']]"
      ]
     },
     "execution_count": 51,
     "metadata": {},
     "output_type": "execute_result"
    }
   ],
   "source": [
    "P[1000]"
   ]
  },
  {
   "cell_type": "code",
   "execution_count": 52,
   "id": "bd2e4956",
   "metadata": {
    "execution": {
     "iopub.execute_input": "2022-06-15T11:55:04.269923Z",
     "iopub.status.busy": "2022-06-15T11:55:04.269177Z",
     "iopub.status.idle": "2022-06-15T11:55:04.275706Z",
     "shell.execute_reply": "2022-06-15T11:55:04.274967Z"
    },
    "papermill": {
     "duration": 0.044389,
     "end_time": "2022-06-15T11:55:04.277636",
     "exception": false,
     "start_time": "2022-06-15T11:55:04.233247",
     "status": "completed"
    },
    "tags": []
   },
   "outputs": [
    {
     "data": {
      "text/plain": [
       "[['I', 'C', 'Meekins'], ['Isaac', 'C', 'Meekins'], ['E', 'H', 'Walker']]"
      ]
     },
     "execution_count": 52,
     "metadata": {},
     "output_type": "execute_result"
    }
   ],
   "source": [
    "P[0]"
   ]
  },
  {
   "cell_type": "code",
   "execution_count": 53,
   "id": "7f6794ad",
   "metadata": {
    "execution": {
     "iopub.execute_input": "2022-06-15T11:55:04.347683Z",
     "iopub.status.busy": "2022-06-15T11:55:04.346778Z",
     "iopub.status.idle": "2022-06-15T11:55:04.353385Z",
     "shell.execute_reply": "2022-06-15T11:55:04.352300Z"
    },
    "papermill": {
     "duration": 0.043534,
     "end_time": "2022-06-15T11:55:04.355431",
     "exception": false,
     "start_time": "2022-06-15T11:55:04.311897",
     "status": "completed"
    },
    "tags": []
   },
   "outputs": [
    {
     "data": {
      "text/plain": [
       "[['Albert', 'C', 'Beals'], ['Jas', 'C', 'Davis']]"
      ]
     },
     "execution_count": 53,
     "metadata": {},
     "output_type": "execute_result"
    }
   ],
   "source": [
    "P[50]"
   ]
  },
  {
   "cell_type": "code",
   "execution_count": 54,
   "id": "0efa12d5",
   "metadata": {
    "execution": {
     "iopub.execute_input": "2022-06-15T11:55:04.426242Z",
     "iopub.status.busy": "2022-06-15T11:55:04.425793Z",
     "iopub.status.idle": "2022-06-15T11:55:04.431598Z",
     "shell.execute_reply": "2022-06-15T11:55:04.430899Z"
    },
    "papermill": {
     "duration": 0.043515,
     "end_time": "2022-06-15T11:55:04.433461",
     "exception": false,
     "start_time": "2022-06-15T11:55:04.389946",
     "status": "completed"
    },
    "tags": []
   },
   "outputs": [
    {
     "data": {
      "text/plain": [
       "[['John', 'Bowers'], ['John', 'E', 'Bowers'], ['Levi', 'Stuber']]"
      ]
     },
     "execution_count": 54,
     "metadata": {},
     "output_type": "execute_result"
    }
   ],
   "source": [
    "P[1000]"
   ]
  },
  {
   "cell_type": "code",
   "execution_count": 55,
   "id": "a6f8029e",
   "metadata": {
    "execution": {
     "iopub.execute_input": "2022-06-15T11:55:04.505999Z",
     "iopub.status.busy": "2022-06-15T11:55:04.505221Z",
     "iopub.status.idle": "2022-06-15T11:55:04.511204Z",
     "shell.execute_reply": "2022-06-15T11:55:04.510215Z"
    },
    "papermill": {
     "duration": 0.044597,
     "end_time": "2022-06-15T11:55:04.513428",
     "exception": false,
     "start_time": "2022-06-15T11:55:04.468831",
     "status": "completed"
    },
    "tags": []
   },
   "outputs": [],
   "source": [
    "l=[[['I', 'C', 'Meekins'], ['Isaac', 'C', 'Meekins'], ['E', 'H', 'Walker']],[['John', 'Bowers'], ['John', 'E', 'Bowers'], ['Levi', 'Stuber']]]"
   ]
  },
  {
   "cell_type": "code",
   "execution_count": 56,
   "id": "3a3e4fc8",
   "metadata": {
    "execution": {
     "iopub.execute_input": "2022-06-15T11:55:04.585221Z",
     "iopub.status.busy": "2022-06-15T11:55:04.584149Z",
     "iopub.status.idle": "2022-06-15T11:55:04.588730Z",
     "shell.execute_reply": "2022-06-15T11:55:04.587872Z"
    },
    "papermill": {
     "duration": 0.042671,
     "end_time": "2022-06-15T11:55:04.590873",
     "exception": false,
     "start_time": "2022-06-15T11:55:04.548202",
     "status": "completed"
    },
    "tags": []
   },
   "outputs": [],
   "source": [
    "# fiPer=[]\n",
    "# for i in l:\n",
    "   \n",
    "#     L=[]\n",
    "#     for j in range(len(i)-1):\n",
    "#         if ((i[j][0]==i[j+1][0]) & (i[j][len(i[j])]==i[j+1][len(i[j])])) |(i[j][0]==i[j+1][0]):\n",
    "#                 continue\n",
    "#         L.append(i[j])\n",
    "#     fiPer.append(L)"
   ]
  },
  {
   "cell_type": "code",
   "execution_count": 57,
   "id": "ebed13f3",
   "metadata": {
    "execution": {
     "iopub.execute_input": "2022-06-15T11:55:04.661068Z",
     "iopub.status.busy": "2022-06-15T11:55:04.660634Z",
     "iopub.status.idle": "2022-06-15T11:55:04.664680Z",
     "shell.execute_reply": "2022-06-15T11:55:04.663682Z"
    },
    "papermill": {
     "duration": 0.042097,
     "end_time": "2022-06-15T11:55:04.666853",
     "exception": false,
     "start_time": "2022-06-15T11:55:04.624756",
     "status": "completed"
    },
    "tags": []
   },
   "outputs": [],
   "source": [
    "# fiPer"
   ]
  },
  {
   "cell_type": "code",
   "execution_count": 58,
   "id": "115a1d4d",
   "metadata": {
    "execution": {
     "iopub.execute_input": "2022-06-15T11:55:04.737949Z",
     "iopub.status.busy": "2022-06-15T11:55:04.736989Z",
     "iopub.status.idle": "2022-06-15T11:55:04.741914Z",
     "shell.execute_reply": "2022-06-15T11:55:04.740982Z"
    },
    "papermill": {
     "duration": 0.042851,
     "end_time": "2022-06-15T11:55:04.744092",
     "exception": false,
     "start_time": "2022-06-15T11:55:04.701241",
     "status": "completed"
    },
    "tags": []
   },
   "outputs": [],
   "source": [
    "# fiPer=[]\n",
    "# for i in l:\n",
    "   \n",
    "#     L=[]\n",
    "#     for j in range(len(i)):\n",
    "#         if ((i[j][0]==i[j+1][0]) & (i[j][len(i[j])-1]==i[j+1][len(i[j])-1])) | (i[j][0]==i[j+1][0]):\n",
    "#                  print(i[j])\n",
    "\n",
    "        \n",
    "                \n",
    "                \n",
    "            \n",
    "        \n",
    "        "
   ]
  },
  {
   "cell_type": "code",
   "execution_count": null,
   "id": "54ad15fc",
   "metadata": {
    "papermill": {
     "duration": 0.033658,
     "end_time": "2022-06-15T11:55:04.812619",
     "exception": false,
     "start_time": "2022-06-15T11:55:04.778961",
     "status": "completed"
    },
    "tags": []
   },
   "outputs": [],
   "source": []
  },
  {
   "cell_type": "markdown",
   "id": "e7dbe841",
   "metadata": {
    "papermill": {
     "duration": 0.033486,
     "end_time": "2022-06-15T11:55:04.880350",
     "exception": false,
     "start_time": "2022-06-15T11:55:04.846864",
     "status": "completed"
    },
    "tags": []
   },
   "source": [
    "##### "
   ]
  }
 ],
 "metadata": {
  "kernelspec": {
   "display_name": "Python 3",
   "language": "python",
   "name": "python3"
  },
  "language_info": {
   "codemirror_mode": {
    "name": "ipython",
    "version": 3
   },
   "file_extension": ".py",
   "mimetype": "text/x-python",
   "name": "python",
   "nbconvert_exporter": "python",
   "pygments_lexer": "ipython3",
   "version": "3.7.12"
  },
  "papermill": {
   "default_parameters": {},
   "duration": 102.16126,
   "end_time": "2022-06-15T11:55:07.534938",
   "environment_variables": {},
   "exception": null,
   "input_path": "__notebook__.ipynb",
   "output_path": "__notebook__.ipynb",
   "parameters": {},
   "start_time": "2022-06-15T11:53:25.373678",
   "version": "2.3.4"
  }
 },
 "nbformat": 4,
 "nbformat_minor": 5
}
