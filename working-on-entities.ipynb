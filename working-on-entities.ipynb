{
 "cells": [
  {
   "cell_type": "code",
   "execution_count": 1,
   "id": "0d8660d7",
   "metadata": {
    "_cell_guid": "b1076dfc-b9ad-4769-8c92-a6c4dae69d19",
    "_uuid": "8f2839f25d086af736a60e9eeb907d3b93b6e0e5",
    "execution": {
     "iopub.execute_input": "2022-06-15T11:49:57.698322Z",
     "iopub.status.busy": "2022-06-15T11:49:57.697302Z",
     "iopub.status.idle": "2022-06-15T11:50:06.598419Z",
     "shell.execute_reply": "2022-06-15T11:50:06.597232Z"
    },
    "papermill": {
     "duration": 8.920378,
     "end_time": "2022-06-15T11:50:06.601391",
     "exception": false,
     "start_time": "2022-06-15T11:49:57.681013",
     "status": "completed"
    },
    "tags": []
   },
   "outputs": [],
   "source": [
    "import numpy as np\n",
    "import pandas as pd \n",
    "import seaborn as sns\n",
    "import matplotlib.pyplot as plt \n",
    "import matplotlib.style as stl \n",
    "from tensorflow import keras \n",
    "from keras.preprocessing.text import Tokenizer\n",
    "from nltk.corpus import stopwords\n",
    "import string\n",
    "from tensorflow.keras.models import Sequential,Model\n",
    "from tensorflow.keras.layers import Dense, LSTM, Embedding,Dropout,SpatialDropout1D,Conv1D,MaxPooling1D,GRU,BatchNormalization\n",
    "import warnings\n",
    "warnings.filterwarnings('ignore')\n",
    "stl.use('ggplot')\n",
    "from tqdm import tqdm\n",
    "import string\n",
    "from nltk.corpus import stopwords\n",
    "from nltk.tokenize import word_tokenize\n",
    "from nltk.stem import WordNetLemmatizer\n",
    "from nltk.stem.snowball import SnowballStemmer\n",
    "import regex as re\n",
    "import pickle"
   ]
  },
  {
   "cell_type": "code",
   "execution_count": 2,
   "id": "aa707183",
   "metadata": {
    "execution": {
     "iopub.execute_input": "2022-06-15T11:50:06.630554Z",
     "iopub.status.busy": "2022-06-15T11:50:06.629167Z",
     "iopub.status.idle": "2022-06-15T11:50:55.620991Z",
     "shell.execute_reply": "2022-06-15T11:50:55.619905Z"
    },
    "papermill": {
     "duration": 49.008777,
     "end_time": "2022-06-15T11:50:55.623702",
     "exception": false,
     "start_time": "2022-06-15T11:50:06.614925",
     "status": "completed"
    },
    "tags": []
   },
   "outputs": [
    {
     "name": "stdout",
     "output_type": "stream",
     "text": [
      "Collecting flair\r\n",
      "  Downloading flair-0.11.3-py3-none-any.whl (401 kB)\r\n",
      "\u001b[2K     \u001b[90m━━━━━━━━━━━━━━━━━━━━━━━━━━━━━━━━━━━━━\u001b[0m \u001b[32m401.9/401.9 kB\u001b[0m \u001b[31m645.6 kB/s\u001b[0m eta \u001b[36m0:00:00\u001b[0m\r\n",
      "\u001b[?25hCollecting konoha<5.0.0,>=4.0.0\r\n",
      "  Downloading konoha-4.6.5-py3-none-any.whl (20 kB)\r\n",
      "Collecting sentencepiece==0.1.95\r\n",
      "  Downloading sentencepiece-0.1.95-cp37-cp37m-manylinux2014_x86_64.whl (1.2 MB)\r\n",
      "\u001b[2K     \u001b[90m━━━━━━━━━━━━━━━━━━━━━━━━━━━━━━━━━━━━━━━━\u001b[0m \u001b[32m1.2/1.2 MB\u001b[0m \u001b[31m4.2 MB/s\u001b[0m eta \u001b[36m0:00:00\u001b[0m\r\n",
      "\u001b[?25hCollecting pptree\r\n",
      "  Downloading pptree-3.1.tar.gz (3.0 kB)\r\n",
      "  Preparing metadata (setup.py) ... \u001b[?25l-\b \bdone\r\n",
      "\u001b[?25hRequirement already satisfied: python-dateutil>=2.6.1 in /opt/conda/lib/python3.7/site-packages (from flair) (2.8.2)\r\n",
      "Collecting sqlitedict>=1.6.0\r\n",
      "  Downloading sqlitedict-2.0.0.tar.gz (46 kB)\r\n",
      "\u001b[2K     \u001b[90m━━━━━━━━━━━━━━━━━━━━━━━━━━━━━━━━━━━━━━━━\u001b[0m \u001b[32m46.3/46.3 kB\u001b[0m \u001b[31m2.7 MB/s\u001b[0m eta \u001b[36m0:00:00\u001b[0m\r\n",
      "\u001b[?25h  Preparing metadata (setup.py) ... \u001b[?25l-\b \bdone\r\n",
      "\u001b[?25hRequirement already satisfied: tqdm>=4.26.0 in /opt/conda/lib/python3.7/site-packages (from flair) (4.64.0)\r\n",
      "Collecting langdetect\r\n",
      "  Downloading langdetect-1.0.9.tar.gz (981 kB)\r\n",
      "\u001b[2K     \u001b[90m━━━━━━━━━━━━━━━━━━━━━━━━━━━━━━━━━━━━━━\u001b[0m \u001b[32m981.5/981.5 kB\u001b[0m \u001b[31m14.5 MB/s\u001b[0m eta \u001b[36m0:00:00\u001b[0m\r\n",
      "\u001b[?25h  Preparing metadata (setup.py) ... \u001b[?25l-\b \bdone\r\n",
      "\u001b[?25hCollecting deprecated>=1.2.4\r\n",
      "  Downloading Deprecated-1.2.13-py2.py3-none-any.whl (9.6 kB)\r\n",
      "Collecting wikipedia-api\r\n",
      "  Downloading Wikipedia-API-0.5.4.tar.gz (18 kB)\r\n",
      "  Preparing metadata (setup.py) ... \u001b[?25l-\b \bdone\r\n",
      "\u001b[?25hRequirement already satisfied: transformers>=4.0.0 in /opt/conda/lib/python3.7/site-packages (from flair) (4.18.0)\r\n",
      "Collecting gdown==4.4.0\r\n",
      "  Downloading gdown-4.4.0.tar.gz (14 kB)\r\n",
      "  Installing build dependencies ... \u001b[?25l-\b \b\\\b \b|\b \b/\b \b-\b \b\\\b \bdone\r\n",
      "\u001b[?25h  Getting requirements to build wheel ... \u001b[?25l-\b \b\\\b \b|\b \b/\b \b-\b \bdone\r\n",
      "\u001b[?25h  Preparing metadata (pyproject.toml) ... \u001b[?25l-\b \b\\\b \b|\b \b/\b \b-\b \bdone\r\n",
      "\u001b[?25hRequirement already satisfied: gensim>=3.4.0 in /opt/conda/lib/python3.7/site-packages (from flair) (4.0.1)\r\n",
      "Requirement already satisfied: hyperopt>=0.2.7 in /opt/conda/lib/python3.7/site-packages (from flair) (0.2.7)\r\n",
      "Requirement already satisfied: regex in /opt/conda/lib/python3.7/site-packages (from flair) (2021.11.10)\r\n",
      "Collecting ftfy\r\n",
      "  Downloading ftfy-6.1.1-py3-none-any.whl (53 kB)\r\n",
      "\u001b[2K     \u001b[90m━━━━━━━━━━━━━━━━━━━━━━━━━━━━━━━━━━━━━━━━\u001b[0m \u001b[32m53.1/53.1 kB\u001b[0m \u001b[31m3.4 MB/s\u001b[0m eta \u001b[36m0:00:00\u001b[0m\r\n",
      "\u001b[?25hRequirement already satisfied: matplotlib>=2.2.3 in /opt/conda/lib/python3.7/site-packages (from flair) (3.5.2)\r\n",
      "Requirement already satisfied: more-itertools in /opt/conda/lib/python3.7/site-packages (from flair) (8.13.0)\r\n",
      "Requirement already satisfied: janome in /opt/conda/lib/python3.7/site-packages (from flair) (0.4.2)\r\n",
      "Requirement already satisfied: scikit-learn>=0.21.3 in /opt/conda/lib/python3.7/site-packages (from flair) (1.0.2)\r\n",
      "Requirement already satisfied: tabulate in /opt/conda/lib/python3.7/site-packages (from flair) (0.8.9)\r\n",
      "Requirement already satisfied: lxml in /opt/conda/lib/python3.7/site-packages (from flair) (4.8.0)\r\n",
      "Requirement already satisfied: huggingface-hub in /opt/conda/lib/python3.7/site-packages (from flair) (0.5.1)\r\n",
      "Collecting bpemb>=0.3.2\r\n",
      "  Downloading bpemb-0.3.3-py3-none-any.whl (19 kB)\r\n",
      "Collecting conllu>=4.0\r\n",
      "  Downloading conllu-4.4.2-py2.py3-none-any.whl (15 kB)\r\n",
      "Collecting segtok>=1.5.7\r\n",
      "  Downloading segtok-1.5.11-py3-none-any.whl (24 kB)\r\n",
      "Requirement already satisfied: torch!=1.8,>=1.5.0 in /opt/conda/lib/python3.7/site-packages (from flair) (1.11.0+cpu)\r\n",
      "Collecting mpld3==0.3\r\n",
      "  Downloading mpld3-0.3.tar.gz (788 kB)\r\n",
      "\u001b[2K     \u001b[90m━━━━━━━━━━━━━━━━━━━━━━━━━━━━━━━━━━━━━━\u001b[0m \u001b[32m788.5/788.5 kB\u001b[0m \u001b[31m16.9 MB/s\u001b[0m eta \u001b[36m0:00:00\u001b[0m\r\n",
      "\u001b[?25h  Preparing metadata (setup.py) ... \u001b[?25l-\b \bdone\r\n",
      "\u001b[?25hRequirement already satisfied: filelock in /opt/conda/lib/python3.7/site-packages (from gdown==4.4.0->flair) (3.6.0)\r\n",
      "Requirement already satisfied: six in /opt/conda/lib/python3.7/site-packages (from gdown==4.4.0->flair) (1.16.0)\r\n",
      "Requirement already satisfied: beautifulsoup4 in /opt/conda/lib/python3.7/site-packages (from gdown==4.4.0->flair) (4.11.1)\r\n",
      "Requirement already satisfied: requests[socks] in /opt/conda/lib/python3.7/site-packages (from gdown==4.4.0->flair) (2.27.1)\r\n",
      "Requirement already satisfied: numpy in /opt/conda/lib/python3.7/site-packages (from bpemb>=0.3.2->flair) (1.21.6)\r\n",
      "Requirement already satisfied: wrapt<2,>=1.10 in /opt/conda/lib/python3.7/site-packages (from deprecated>=1.2.4->flair) (1.14.1)\r\n",
      "Requirement already satisfied: smart-open>=1.8.1 in /opt/conda/lib/python3.7/site-packages (from gensim>=3.4.0->flair) (5.2.1)\r\n",
      "Requirement already satisfied: scipy>=0.18.1 in /opt/conda/lib/python3.7/site-packages (from gensim>=3.4.0->flair) (1.7.3)\r\n",
      "Requirement already satisfied: cloudpickle in /opt/conda/lib/python3.7/site-packages (from hyperopt>=0.2.7->flair) (2.0.0)\r\n",
      "Requirement already satisfied: py4j in /opt/conda/lib/python3.7/site-packages (from hyperopt>=0.2.7->flair) (0.10.9.5)\r\n",
      "Requirement already satisfied: networkx>=2.2 in /opt/conda/lib/python3.7/site-packages (from hyperopt>=0.2.7->flair) (2.5)\r\n",
      "Requirement already satisfied: future in /opt/conda/lib/python3.7/site-packages (from hyperopt>=0.2.7->flair) (0.18.2)\r\n",
      "Collecting importlib-metadata<4.0.0,>=3.7.0\r\n",
      "  Downloading importlib_metadata-3.10.1-py3-none-any.whl (14 kB)\r\n",
      "Collecting overrides<4.0.0,>=3.0.0\r\n",
      "  Downloading overrides-3.1.0.tar.gz (11 kB)\r\n",
      "  Preparing metadata (setup.py) ... \u001b[?25l-\b \bdone\r\n",
      "\u001b[?25hRequirement already satisfied: kiwisolver>=1.0.1 in /opt/conda/lib/python3.7/site-packages (from matplotlib>=2.2.3->flair) (1.4.2)\r\n",
      "Requirement already satisfied: packaging>=20.0 in /opt/conda/lib/python3.7/site-packages (from matplotlib>=2.2.3->flair) (21.3)\r\n",
      "Requirement already satisfied: fonttools>=4.22.0 in /opt/conda/lib/python3.7/site-packages (from matplotlib>=2.2.3->flair) (4.33.3)\r\n",
      "Requirement already satisfied: pillow>=6.2.0 in /opt/conda/lib/python3.7/site-packages (from matplotlib>=2.2.3->flair) (9.1.0)\r\n",
      "Requirement already satisfied: cycler>=0.10 in /opt/conda/lib/python3.7/site-packages (from matplotlib>=2.2.3->flair) (0.11.0)\r\n",
      "Requirement already satisfied: pyparsing>=2.2.1 in /opt/conda/lib/python3.7/site-packages (from matplotlib>=2.2.3->flair) (3.0.9)\r\n",
      "Requirement already satisfied: threadpoolctl>=2.0.0 in /opt/conda/lib/python3.7/site-packages (from scikit-learn>=0.21.3->flair) (3.1.0)\r\n",
      "Requirement already satisfied: joblib>=0.11 in /opt/conda/lib/python3.7/site-packages (from scikit-learn>=0.21.3->flair) (1.1.0)\r\n",
      "Requirement already satisfied: typing-extensions in /opt/conda/lib/python3.7/site-packages (from torch!=1.8,>=1.5.0->flair) (4.2.0)\r\n",
      "Requirement already satisfied: tokenizers!=0.11.3,<0.13,>=0.11.1 in /opt/conda/lib/python3.7/site-packages (from transformers>=4.0.0->flair) (0.12.1)\r\n",
      "Requirement already satisfied: pyyaml>=5.1 in /opt/conda/lib/python3.7/site-packages (from transformers>=4.0.0->flair) (6.0)\r\n",
      "Requirement already satisfied: sacremoses in /opt/conda/lib/python3.7/site-packages (from transformers>=4.0.0->flair) (0.0.53)\r\n",
      "Requirement already satisfied: wcwidth>=0.2.5 in /opt/conda/lib/python3.7/site-packages (from ftfy->flair) (0.2.5)\r\n",
      "Requirement already satisfied: zipp>=0.5 in /opt/conda/lib/python3.7/site-packages (from importlib-metadata<4.0.0,>=3.7.0->konoha<5.0.0,>=4.0.0->flair) (3.8.0)\r\n",
      "Requirement already satisfied: decorator>=4.3.0 in /opt/conda/lib/python3.7/site-packages (from networkx>=2.2->hyperopt>=0.2.7->flair) (5.1.1)\r\n",
      "Requirement already satisfied: charset-normalizer~=2.0.0 in /opt/conda/lib/python3.7/site-packages (from requests[socks]->gdown==4.4.0->flair) (2.0.12)\r\n",
      "Requirement already satisfied: certifi>=2017.4.17 in /opt/conda/lib/python3.7/site-packages (from requests[socks]->gdown==4.4.0->flair) (2022.5.18.1)\r\n",
      "Requirement already satisfied: urllib3<1.27,>=1.21.1 in /opt/conda/lib/python3.7/site-packages (from requests[socks]->gdown==4.4.0->flair) (1.26.9)\r\n",
      "Requirement already satisfied: idna<4,>=2.5 in /opt/conda/lib/python3.7/site-packages (from requests[socks]->gdown==4.4.0->flair) (3.3)\r\n",
      "Requirement already satisfied: soupsieve>1.2 in /opt/conda/lib/python3.7/site-packages (from beautifulsoup4->gdown==4.4.0->flair) (2.3.1)\r\n",
      "Requirement already satisfied: PySocks!=1.5.7,>=1.5.6 in /opt/conda/lib/python3.7/site-packages (from requests[socks]->gdown==4.4.0->flair) (1.7.1)\r\n",
      "Requirement already satisfied: click in /opt/conda/lib/python3.7/site-packages (from sacremoses->transformers>=4.0.0->flair) (8.0.4)\r\n",
      "Building wheels for collected packages: gdown, mpld3, sqlitedict, langdetect, pptree, wikipedia-api, overrides\r\n",
      "  Building wheel for gdown (pyproject.toml) ... \u001b[?25l-\b \b\\\b \b|\b \b/\b \b-\b \b\\\b \b|\b \bdone\r\n",
      "\u001b[?25h  Created wheel for gdown: filename=gdown-4.4.0-py3-none-any.whl size=14759 sha256=2e2fe3543a07044df3ec6502c9105874a5aeb9b261f4db0e6b22e508b98c826c\r\n",
      "  Stored in directory: /root/.cache/pip/wheels/fb/c3/0e/c4d8ff8bfcb0461afff199471449f642179b74968c15b7a69c\r\n",
      "  Building wheel for mpld3 (setup.py) ... \u001b[?25l-\b \b\\\b \bdone\r\n",
      "\u001b[?25h  Created wheel for mpld3: filename=mpld3-0.3-py3-none-any.whl size=116702 sha256=844e83bf29b9471e99d8549ce020304b37567ff54cce19d68c4ce087c0deeb16\r\n",
      "  Stored in directory: /root/.cache/pip/wheels/26/70/6a/1c79e59951a41b4045497da187b2724f5659ca64033cf4548e\r\n",
      "  Building wheel for sqlitedict (setup.py) ... \u001b[?25l-\b \bdone\r\n",
      "\u001b[?25h  Created wheel for sqlitedict: filename=sqlitedict-2.0.0-py3-none-any.whl size=15736 sha256=87890d6e207c024a9fce5cd5cf0f231455efa3e19dfdbdcff1a51752d3842b8a\r\n",
      "  Stored in directory: /root/.cache/pip/wheels/96/dd/2e/0ed4a25cb73fc30c7ea8d10b50acb7226175736067e40a7ea3\r\n",
      "  Building wheel for langdetect (setup.py) ... \u001b[?25l-\b \b\\\b \b|\b \b/\b \bdone\r\n",
      "\u001b[?25h  Created wheel for langdetect: filename=langdetect-1.0.9-py3-none-any.whl size=993242 sha256=5f5f1cd5477e8a89e2cec4eb122cbe018aa56ec3fd3f90c6c92fe0f7bc94409e\r\n",
      "  Stored in directory: /root/.cache/pip/wheels/c5/96/8a/f90c59ed25d75e50a8c10a1b1c2d4c402e4dacfa87f3aff36a\r\n",
      "  Building wheel for pptree (setup.py) ... \u001b[?25l-\b \b\\\b \bdone\r\n",
      "\u001b[?25h  Created wheel for pptree: filename=pptree-3.1-py3-none-any.whl size=4629 sha256=c5113b5784c6c8dd5227cbe609c1ca47b5bcb35a8fa08f2470fa8cf97656e3b0\r\n",
      "  Stored in directory: /root/.cache/pip/wheels/9e/e8/7d/a9c3c19b4722608a0d8b05a38c36bc3f230c43becd2a46794b\r\n",
      "  Building wheel for wikipedia-api (setup.py) ... \u001b[?25l-\b \b\\\b \bdone\r\n",
      "\u001b[?25h  Created wheel for wikipedia-api: filename=Wikipedia_API-0.5.4-py3-none-any.whl size=13477 sha256=7df3008ffc7b227a93a96a6dd475ed6f5f0eb549d8180e3629345467dd7f177a\r\n",
      "  Stored in directory: /root/.cache/pip/wheels/d3/24/56/58ba93cf78be162451144e7a9889603f437976ef1ae7013d04\r\n",
      "  Building wheel for overrides (setup.py) ... \u001b[?25l-\b \b\\\b \bdone\r\n",
      "\u001b[?25h  Created wheel for overrides: filename=overrides-3.1.0-py3-none-any.whl size=10187 sha256=f18393902ee765bcb30b40d62fcfec5c6bf2bb4ae2469da9c6ccc8d27e13f935\r\n",
      "  Stored in directory: /root/.cache/pip/wheels/3a/0d/38/01a9bc6e20dcfaf0a6a7b552d03137558ba1c38aea47644682\r\n",
      "Successfully built gdown mpld3 sqlitedict langdetect pptree wikipedia-api overrides\r\n",
      "Installing collected packages: sqlitedict, sentencepiece, pptree, overrides, mpld3, segtok, langdetect, importlib-metadata, ftfy, deprecated, conllu, wikipedia-api, konoha, gdown, bpemb, flair\r\n",
      "  Attempting uninstall: sentencepiece\r\n",
      "    Found existing installation: sentencepiece 0.1.96\r\n",
      "    Uninstalling sentencepiece-0.1.96:\r\n",
      "      Successfully uninstalled sentencepiece-0.1.96\r\n",
      "  Attempting uninstall: overrides\r\n",
      "    Found existing installation: overrides 6.1.0\r\n",
      "    Uninstalling overrides-6.1.0:\r\n",
      "      Successfully uninstalled overrides-6.1.0\r\n",
      "  Attempting uninstall: mpld3\r\n",
      "    Found existing installation: mpld3 0.5.7\r\n",
      "    Uninstalling mpld3-0.5.7:\r\n",
      "      Successfully uninstalled mpld3-0.5.7\r\n",
      "  Attempting uninstall: importlib-metadata\r\n",
      "    Found existing installation: importlib-metadata 4.11.4\r\n",
      "    Uninstalling importlib-metadata-4.11.4:\r\n",
      "      Successfully uninstalled importlib-metadata-4.11.4\r\n",
      "\u001b[31mERROR: pip's dependency resolver does not currently take into account all the packages that are installed. This behaviour is the source of the following dependency conflicts.\r\n",
      "markdown 3.3.7 requires importlib-metadata>=4.4; python_version < \"3.10\", but you have importlib-metadata 3.10.1 which is incompatible.\r\n",
      "ibis-framework 2.1.1 requires importlib-metadata<5,>=4; python_version < \"3.8\", but you have importlib-metadata 3.10.1 which is incompatible.\r\n",
      "gym 0.23.1 requires importlib-metadata>=4.10.0; python_version < \"3.10\", but you have importlib-metadata 3.10.1 which is incompatible.\r\n",
      "google-cloud-pubsublite 1.4.2 requires overrides<7.0.0,>=6.0.1, but you have overrides 3.1.0 which is incompatible.\u001b[0m\u001b[31m\r\n",
      "\u001b[0mSuccessfully installed bpemb-0.3.3 conllu-4.4.2 deprecated-1.2.13 flair-0.11.3 ftfy-6.1.1 gdown-4.4.0 importlib-metadata-3.10.1 konoha-4.6.5 langdetect-1.0.9 mpld3-0.3 overrides-3.1.0 pptree-3.1 segtok-1.5.11 sentencepiece-0.1.95 sqlitedict-2.0.0 wikipedia-api-0.5.4\r\n",
      "\u001b[33mWARNING: Running pip as the 'root' user can result in broken permissions and conflicting behaviour with the system package manager. It is recommended to use a virtual environment instead: https://pip.pypa.io/warnings/venv\u001b[0m\u001b[33m\r\n",
      "\u001b[0m"
     ]
    }
   ],
   "source": [
    "!pip install flair"
   ]
  },
  {
   "cell_type": "markdown",
   "id": "4b999f9d",
   "metadata": {
    "papermill": {
     "duration": 0.018465,
     "end_time": "2022-06-15T11:50:55.662424",
     "exception": false,
     "start_time": "2022-06-15T11:50:55.643959",
     "status": "completed"
    },
    "tags": []
   },
   "source": [
    "# Audf"
   ]
  },
  {
   "cell_type": "code",
   "execution_count": 3,
   "id": "bb12467b",
   "metadata": {
    "execution": {
     "iopub.execute_input": "2022-06-15T11:50:55.703482Z",
     "iopub.status.busy": "2022-06-15T11:50:55.703041Z",
     "iopub.status.idle": "2022-06-15T11:51:02.655899Z",
     "shell.execute_reply": "2022-06-15T11:51:02.654430Z"
    },
    "papermill": {
     "duration": 6.976718,
     "end_time": "2022-06-15T11:51:02.658747",
     "exception": false,
     "start_time": "2022-06-15T11:50:55.682029",
     "status": "completed"
    },
    "tags": []
   },
   "outputs": [],
   "source": [
    "with open('../input/entities/entityAu.pkl', 'rb') as f:\n",
    "    entitiesA = pickle.load(f)"
   ]
  },
  {
   "cell_type": "code",
   "execution_count": 4,
   "id": "f0d6e66e",
   "metadata": {
    "execution": {
     "iopub.execute_input": "2022-06-15T11:51:02.701516Z",
     "iopub.status.busy": "2022-06-15T11:51:02.700835Z",
     "iopub.status.idle": "2022-06-15T11:51:03.077333Z",
     "shell.execute_reply": "2022-06-15T11:51:03.076118Z"
    },
    "papermill": {
     "duration": 0.400764,
     "end_time": "2022-06-15T11:51:03.080306",
     "exception": false,
     "start_time": "2022-06-15T11:51:02.679542",
     "status": "completed"
    },
    "tags": []
   },
   "outputs": [],
   "source": [
    "Per=[]\n",
    "Date=[]\n",
    "GPE=[]\n",
    "ORG=[]\n",
    "from flair.data import Sentence\n",
    "\n",
    "Audf=pd.DataFrame({\"text\":\"\", \"PERSON-ontonotes\":[], \"GPE-ontonotes\":\"\",\"ORG-ontonotes\":\"\", \"Date-ontonotes\":\"\"})\n",
    "\n",
    "\n",
    "\n",
    "for i in entitiesA:\n",
    "    \n",
    " dc={}\n",
    " P=[]\n",
    " D=[]\n",
    " G=[]\n",
    " O=[]\n",
    " for entity in i:\n",
    "    if (entity.get_label(\"ner\").score > 0.98) & (entity.get_label(\"ner\").value != \"CARDINAL\") & (entity.get_label(\"ner\").value != \"LAW\")& (entity.get_label(\"ner\").value != \"QUANTITY\") & (entity.get_label(\"ner\").value != \"WORK_OF_ART\") & (entity.get_label(\"ner\").value != \"LAW\")& (entity.get_label(\"ner\").value != \"QUANTITY\") & (entity.get_label(\"ner\").value != \"EVENT\")  :\n",
    "                        dc[entity.text]= entity.get_label(\"ner\").value \n",
    "                        \n",
    "        \n",
    "        \n",
    " for j in dc :\n",
    "                if dc[j]==\"PERSON\":\n",
    "                      P.append(j)\n",
    "                elif dc[j]==\"ORG\":\n",
    "                      O.append(j)\n",
    "                elif dc[j]==\"DATE\":\n",
    "                      D.append(j)\n",
    "                elif dc[j]==\"GPE\":\n",
    "                      G.append(j)\n",
    " Per.append(P)\n",
    " Date.append(D)\n",
    " ORG.append(O)\n",
    " GPE.append(G)\n",
    "            \n",
    "Audf[\"Date-ontonotes\"]=Date\n",
    "Audf[\"PERSON-ontonotes\"]=Per\n",
    "Audf[\"GPE-ontonotes\"]=GPE\n",
    "Audf[\"ORG-ontonotes\"]=ORG    "
   ]
  },
  {
   "cell_type": "code",
   "execution_count": 5,
   "id": "f26e0d4c",
   "metadata": {
    "execution": {
     "iopub.execute_input": "2022-06-15T11:51:03.121014Z",
     "iopub.status.busy": "2022-06-15T11:51:03.120594Z",
     "iopub.status.idle": "2022-06-15T11:51:03.156344Z",
     "shell.execute_reply": "2022-06-15T11:51:03.155091Z"
    },
    "papermill": {
     "duration": 0.058744,
     "end_time": "2022-06-15T11:51:03.158667",
     "exception": false,
     "start_time": "2022-06-15T11:51:03.099923",
     "status": "completed"
    },
    "tags": []
   },
   "outputs": [
    {
     "data": {
      "text/html": [
       "<div>\n",
       "<style scoped>\n",
       "    .dataframe tbody tr th:only-of-type {\n",
       "        vertical-align: middle;\n",
       "    }\n",
       "\n",
       "    .dataframe tbody tr th {\n",
       "        vertical-align: top;\n",
       "    }\n",
       "\n",
       "    .dataframe thead th {\n",
       "        text-align: right;\n",
       "    }\n",
       "</style>\n",
       "<table border=\"1\" class=\"dataframe\">\n",
       "  <thead>\n",
       "    <tr style=\"text-align: right;\">\n",
       "      <th></th>\n",
       "      <th>text</th>\n",
       "      <th>PERSON-ontonotes</th>\n",
       "      <th>GPE-ontonotes</th>\n",
       "      <th>ORG-ontonotes</th>\n",
       "      <th>Date-ontonotes</th>\n",
       "    </tr>\n",
       "  </thead>\n",
       "  <tbody>\n",
       "    <tr>\n",
       "      <th>0</th>\n",
       "      <td>NaN</td>\n",
       "      <td>[I C Meekins, Isaac C. Meekins, E H Walker, Jo...</td>\n",
       "      <td>[Currituck County ,]</td>\n",
       "      <td>[]</td>\n",
       "      <td>[16 day of Sept A.D . , 1865]</td>\n",
       "    </tr>\n",
       "    <tr>\n",
       "      <th>1</th>\n",
       "      <td>NaN</td>\n",
       "      <td>[]</td>\n",
       "      <td>[North Carolina, United States, States]</td>\n",
       "      <td>[Department of Virginia, State]</td>\n",
       "      <td>[1864]</td>\n",
       "    </tr>\n",
       "    <tr>\n",
       "      <th>2</th>\n",
       "      <td>NaN</td>\n",
       "      <td>[W. H. Pearce, W . H. Pearce]</td>\n",
       "      <td>[]</td>\n",
       "      <td>[]</td>\n",
       "      <td>[3rd day of October , A.D. , 1865]</td>\n",
       "    </tr>\n",
       "    <tr>\n",
       "      <th>3</th>\n",
       "      <td>NaN</td>\n",
       "      <td>[]</td>\n",
       "      <td>[North Carolina, United States]</td>\n",
       "      <td>[]</td>\n",
       "      <td>[______ day of ____________ , 1866]</td>\n",
       "    </tr>\n",
       "    <tr>\n",
       "      <th>4</th>\n",
       "      <td>NaN</td>\n",
       "      <td>[S.E . Allen]</td>\n",
       "      <td>[North Carolina, Wake County, United States]</td>\n",
       "      <td>[]</td>\n",
       "      <td>[31st day of May , 1867]</td>\n",
       "    </tr>\n",
       "    <tr>\n",
       "      <th>...</th>\n",
       "      <td>...</td>\n",
       "      <td>...</td>\n",
       "      <td>...</td>\n",
       "      <td>...</td>\n",
       "      <td>...</td>\n",
       "    </tr>\n",
       "    <tr>\n",
       "      <th>2131</th>\n",
       "      <td>NaN</td>\n",
       "      <td>[Geo . Little, Geo . B. Ayer]</td>\n",
       "      <td>[Raleigh, N.C., Wake County, N.C, United State...</td>\n",
       "      <td>[]</td>\n",
       "      <td>[May 26, July 14]</td>\n",
       "    </tr>\n",
       "    <tr>\n",
       "      <th>2132</th>\n",
       "      <td>NaN</td>\n",
       "      <td>[Birnie]</td>\n",
       "      <td>[]</td>\n",
       "      <td>[]</td>\n",
       "      <td>[July 30th 1867]</td>\n",
       "    </tr>\n",
       "    <tr>\n",
       "      <th>2133</th>\n",
       "      <td>NaN</td>\n",
       "      <td>[William Birnie]</td>\n",
       "      <td>[North Carolina, Robeson County, United States]</td>\n",
       "      <td>[]</td>\n",
       "      <td>[30 day of July]</td>\n",
       "    </tr>\n",
       "    <tr>\n",
       "      <th>2134</th>\n",
       "      <td>NaN</td>\n",
       "      <td>[A.L . Price, James Fulton, John D Conoley, Al...</td>\n",
       "      <td>[North Carolina, New Hanover County, New Hanov...</td>\n",
       "      <td>[Fulton Price]</td>\n",
       "      <td>[May 29 1865, 15th Sept 1865, 15th September A...</td>\n",
       "    </tr>\n",
       "    <tr>\n",
       "      <th>2135</th>\n",
       "      <td>NaN</td>\n",
       "      <td>[James Fulton, Wm A. Cutler, Geo W. Pollock, F...</td>\n",
       "      <td>[Wilmington N.C, New Hanover County]</td>\n",
       "      <td>[]</td>\n",
       "      <td>[Sept 22 . 1865, Twentyseventh day of Septembe...</td>\n",
       "    </tr>\n",
       "  </tbody>\n",
       "</table>\n",
       "<p>2136 rows × 5 columns</p>\n",
       "</div>"
      ],
      "text/plain": [
       "     text                                   PERSON-ontonotes  \\\n",
       "0     NaN  [I C Meekins, Isaac C. Meekins, E H Walker, Jo...   \n",
       "1     NaN                                                 []   \n",
       "2     NaN                      [W. H. Pearce, W . H. Pearce]   \n",
       "3     NaN                                                 []   \n",
       "4     NaN                                      [S.E . Allen]   \n",
       "...   ...                                                ...   \n",
       "2131  NaN                      [Geo . Little, Geo . B. Ayer]   \n",
       "2132  NaN                                           [Birnie]   \n",
       "2133  NaN                                   [William Birnie]   \n",
       "2134  NaN  [A.L . Price, James Fulton, John D Conoley, Al...   \n",
       "2135  NaN  [James Fulton, Wm A. Cutler, Geo W. Pollock, F...   \n",
       "\n",
       "                                          GPE-ontonotes  \\\n",
       "0                                  [Currituck County ,]   \n",
       "1               [North Carolina, United States, States]   \n",
       "2                                                    []   \n",
       "3                       [North Carolina, United States]   \n",
       "4          [North Carolina, Wake County, United States]   \n",
       "...                                                 ...   \n",
       "2131  [Raleigh, N.C., Wake County, N.C, United State...   \n",
       "2132                                                 []   \n",
       "2133    [North Carolina, Robeson County, United States]   \n",
       "2134  [North Carolina, New Hanover County, New Hanov...   \n",
       "2135               [Wilmington N.C, New Hanover County]   \n",
       "\n",
       "                        ORG-ontonotes  \\\n",
       "0                                  []   \n",
       "1     [Department of Virginia, State]   \n",
       "2                                  []   \n",
       "3                                  []   \n",
       "4                                  []   \n",
       "...                               ...   \n",
       "2131                               []   \n",
       "2132                               []   \n",
       "2133                               []   \n",
       "2134                   [Fulton Price]   \n",
       "2135                               []   \n",
       "\n",
       "                                         Date-ontonotes  \n",
       "0                         [16 day of Sept A.D . , 1865]  \n",
       "1                                                [1864]  \n",
       "2                    [3rd day of October , A.D. , 1865]  \n",
       "3                   [______ day of ____________ , 1866]  \n",
       "4                              [31st day of May , 1867]  \n",
       "...                                                 ...  \n",
       "2131                                  [May 26, July 14]  \n",
       "2132                                   [July 30th 1867]  \n",
       "2133                                   [30 day of July]  \n",
       "2134  [May 29 1865, 15th Sept 1865, 15th September A...  \n",
       "2135  [Sept 22 . 1865, Twentyseventh day of Septembe...  \n",
       "\n",
       "[2136 rows x 5 columns]"
      ]
     },
     "execution_count": 5,
     "metadata": {},
     "output_type": "execute_result"
    }
   ],
   "source": [
    "Audf"
   ]
  },
  {
   "cell_type": "code",
   "execution_count": 6,
   "id": "509172f4",
   "metadata": {
    "execution": {
     "iopub.execute_input": "2022-06-15T11:51:03.201160Z",
     "iopub.status.busy": "2022-06-15T11:51:03.200206Z",
     "iopub.status.idle": "2022-06-15T11:51:03.256446Z",
     "shell.execute_reply": "2022-06-15T11:51:03.255494Z"
    },
    "papermill": {
     "duration": 0.080075,
     "end_time": "2022-06-15T11:51:03.259237",
     "exception": false,
     "start_time": "2022-06-15T11:51:03.179162",
     "status": "completed"
    },
    "tags": []
   },
   "outputs": [],
   "source": [
    "G=[]\n",
    "for i in Audf[\"Date-ontonotes\"]:\n",
    "    M=[]\n",
    "    for j in i:\n",
    "        date=re.search(r'^\\d\\.*.*\\d\\d$' ,j)\n",
    "        date2=re.search(r'^[A-ZZa-z]\\.*.*\\d\\.*.*\\d\\d$' ,j)\n",
    "        M.append(date)\n",
    "        M.append(date2)\n",
    "    G.append(M)\n",
    "    \n",
    "\n",
    "GF=[]\n",
    "for i in G:\n",
    "    Final_date=[]\n",
    "    for j in i:\n",
    "        if j!=None:\n",
    "            Final_date.append(j.group())\n",
    "    GF.append(Final_date)\n",
    "\n",
    "    \n",
    "Audf[\"postDate-ontonotes\"]=GF"
   ]
  },
  {
   "cell_type": "code",
   "execution_count": 7,
   "id": "e790d058",
   "metadata": {
    "execution": {
     "iopub.execute_input": "2022-06-15T11:51:03.303430Z",
     "iopub.status.busy": "2022-06-15T11:51:03.302993Z",
     "iopub.status.idle": "2022-06-15T11:51:03.409975Z",
     "shell.execute_reply": "2022-06-15T11:51:03.408596Z"
    },
    "papermill": {
     "duration": 0.132097,
     "end_time": "2022-06-15T11:51:03.412790",
     "exception": false,
     "start_time": "2022-06-15T11:51:03.280693",
     "status": "completed"
    },
    "tags": []
   },
   "outputs": [],
   "source": [
    "G=[]\n",
    "for i in Audf[\"postDate-ontonotes\"]:\n",
    "    M=[]\n",
    "    for j in i:\n",
    "        Final_date1=re.sub(r'([0-9]{1,2})\\.*.*\\s([A-Z][a-z]\\S*)\\.*.*\\s([0-9]{2,4})',r'\\1-\\2-\\3' ,j)\n",
    "        Final_date2=re.sub(r'([A-Z]\\.*.*)\\s([0-9]{1,2})\\.*.*\\s([0-9]{2,4})',r'\\2-\\1-\\3' ,j)\n",
    "        final_date3=re.sub(r'([A-Z][a-z]\\S*)\\.*.*\\s([A-Z][a-z]\\S*)\\.*.*\\s([0-9]{2,4})',r'\\1-\\2-\\3' ,j)\n",
    "        final_date4=re.sub(r'(^[A-Za-z]\\S*.*.)day\\.*.*\\s([A-Z][a-z]\\S*)\\.*.*\\s([0-9]{2,4})',r'\\1-\\2-\\3' ,j)\n",
    "        if Final_date1 != j:   \n",
    "            M.append(Final_date1)\n",
    "        if Final_date2 != j :\n",
    "            M.append(Final_date2)\n",
    "        if final_date3 != j :\n",
    "            M.append(final_date3)\n",
    "        if final_date4 != j :\n",
    "            M.append(final_date4)\n",
    "    G.append(M)\n",
    "    \n",
    "\n",
    "Audf[\"postDate-ontonotes\"]=G"
   ]
  },
  {
   "cell_type": "code",
   "execution_count": 8,
   "id": "02238ce7",
   "metadata": {
    "execution": {
     "iopub.execute_input": "2022-06-15T11:51:03.455471Z",
     "iopub.status.busy": "2022-06-15T11:51:03.454515Z",
     "iopub.status.idle": "2022-06-15T11:51:03.536123Z",
     "shell.execute_reply": "2022-06-15T11:51:03.535034Z"
    },
    "papermill": {
     "duration": 0.105628,
     "end_time": "2022-06-15T11:51:03.538754",
     "exception": false,
     "start_time": "2022-06-15T11:51:03.433126",
     "status": "completed"
    },
    "tags": []
   },
   "outputs": [],
   "source": [
    "NG=[]\n",
    "for i in G:\n",
    "    ng=[]\n",
    "    for j in i:\n",
    "        \n",
    "        date=re.findall(r'([0-9]{1,2})-([A-Z][a-z]\\S*)-([0-9]{2,4})',j)\n",
    "        if date !=[]:\n",
    "            dates=[]\n",
    "            for k in date:\n",
    "                for l in k:\n",
    "                    dates.append(l)\n",
    "                \n",
    "                \n",
    "                if dates[1] in [\"August\",\"Aug\",\"augt\",\"AUGUST\",\"Augst\",\"Augt\",\"AUG\",\"Augusta\",\"Aug.\"]:\n",
    "                    dates[1]= \"August\"\n",
    "                elif dates[1] in [\"September\",\"Sept\",\"SEP\",\"Sep\",\"Septr\",\"SEPTEMBER\",'Sepr','Septh',\"Sep.\"]:\n",
    "                    dates[1]= \"Septembre\"\n",
    "                elif dates[1] in [\"October\",\"Oct\",\"OCT\",\"OCTOBER\"]:\n",
    "                    dates[1]= \"October\"\n",
    "                elif dates[1] in [\"November\",\"NOV\",\"Nov\",\"Novmbr\",\"Nvbr\",\"Novb\",\"NOVEMBER\", \"The\",\"Dec\"]:\n",
    "                    dates[1]= \"November\"\n",
    "                elif dates[1] in [\"December\",\"Dec\",\"Decbr\",\"DEC\",\"DECEMBER\",\"Decber\"]:\n",
    "                    dates[1]= \"December\"\n",
    "                elif dates[1] in [\"January\",\"Janry\",\"Jan\",\"Jany\",\"JAN\",\"Janur\",\"JANUARY\"]:\n",
    "                    dates[1]= \"January\"\n",
    "                elif dates[1] in [\"February\",\"Feby\",\"Febry\",\"FEB\",\"FEBRUARY\",\"Feb\"]:\n",
    "                    dates[1]= \"February\"\n",
    "                elif dates[1] in [\"March\",\"Mar\"]:\n",
    "                    dates[1]= \"March\"\n",
    "                elif dates[1] in [\"April\",\"Apl\",\"Aprl\",\"APRIL\",\"Apr\"]:\n",
    "                    dates[1]= \"April\"\n",
    "                elif dates[1] in [\"May\",\"MAY\"]:\n",
    "                    dates[1]= \"May\"\n",
    "                elif dates[1] in [\"JUN\",\"Jun\",\"June\"]:\n",
    "                    dates[1]= \"June\"\n",
    "                elif dates[1] in [\"JULY\",\"July\",\"JUL\"]:\n",
    "                    dates[1]= \"July\"\n",
    "                j = dates[0]+\"-\"+dates[1]+\"-\"+dates[2]\n",
    "                ng.append(j)\n",
    "        else :\n",
    "                date = re.findall(r'(^[A-Za-z]\\S*.*.)-([A-Z][a-z]\\S*)-([0-9]{2,4})',j ) \n",
    "                dates=[]\n",
    "                for k in date:\n",
    "                    for l in k:\n",
    "                        dates.append(l)\n",
    "                \n",
    "                \n",
    "                    if dates[1] in [\"August\",\"Aug\",\"augt\",\"AUGUST\",\"Augst\",'Augt',\"AUG\",\"Augusta\",\"Aug.\"]:\n",
    "                        dates[1]= \"August\"\n",
    "                    elif dates[1] in [\"September\",\"Sept\",\"SEP\",\"Sep\",\"Septr\",\"SEPTEMBER\",\"Sepr\",\"Septh\", \"This\", \"This \",\"Sept.\",\"Sep.\"]:\n",
    "                        dates[1]= \"Septembre\"\n",
    "                    elif dates[1] in [\"October\",\"Oct\",\"OCT\",\"OCTOBER\"]:\n",
    "                        dates[1]= \"October\"\n",
    "                    elif dates[1] in [\"November\",\"NOV\",\"Nov\",\"Novmbr\",\"Nvbr\",\"Novb\",\"NOVEMBER\"]:\n",
    "                        dates[1]= \"November\"\n",
    "                    elif dates[1] in [\"December\",\"Dec\",\"Decbr\",\"DEC\",\"DECEMBER\",\"Decber\",\"Dec.\"]:\n",
    "                        dates[1]= \"December\"\n",
    "                    elif dates[1] in [\"January\",\"Janry\",\"Jan\",\"Jany\",\"JAN\",\"Janur\",\"JANUARY\"]:\n",
    "                        dates[1]= \"January\"\n",
    "                    elif dates[1] in [\"February\",\"Feby\",\"Febry\",\"FEB\",\"FEBRUARY\",\"Feb\"]:\n",
    "                        dates[1]= \"February\"\n",
    "                    elif dates[1] in [\"March\",\"Mar\"]:\n",
    "                        dates[1]= \"March\"\n",
    "                    elif dates[1] in [\"April\",\"Apl\",\"Aprl\",\"APRIL\",\"Apr\"]:\n",
    "                        dates[1]= \"April\"\n",
    "                    elif dates[1] in [\"May\",\"MAY\"]:\n",
    "                        dates[1]= \"May\"\n",
    "                    elif dates[1] in [\"JUN\",\"Jun\",\"June\"]:\n",
    "                        dates[1]= \"June\"\n",
    "                    elif dates[1] in [\"JULY\",\"July\",\"JUL\"]:\n",
    "                        dates[1]= \"July\"\n",
    "                    if dates[0]== \"fifteenth\" :\n",
    "                        dates[0]=\"15\"\n",
    "                    elif (dates[0]==\"sixteenth\") |(dates[0]==\"This 16 \"):\n",
    "                        dates[0]=\"16\"\n",
    "                    elif dates[0]==\"Twenty\":\n",
    "                        dates[0]=\"20\" \n",
    "                    elif dates[0]==\"Twentyseventh\":\n",
    "                        dates[0]=\"27\" \n",
    "                    elif (dates[0]==\"Twenty Eighth\") |(dates[0]==\"TwentyEight\") |(dates[0]==\"TwentyEight \") |(dates[0]==\"Twentyeight\"):\n",
    "                        dates[0]=\"28\"\n",
    "                    elif (dates[0]==\"Ninth\") |(dates[0]==\"Ninth \")|(dates[0]==\"Augusta 9th \") |(dates[0]==\"ninth\") |(dates[0]==\"ninth \")|(dates[0]==\"Augusta 9th\"):\n",
    "                        dates[0]=\"9\"\n",
    "                    \n",
    "                    elif dates[0]=='Seventh':\n",
    "                        dates[0]=\"7\" \n",
    "                    elif (dates[0]=='The') |(dates[0]==\"The 9th\") :\n",
    "                        dates[0]=\"9\"\n",
    "                    elif dates[0]==\"the 9\" :\n",
    "                        dates[0]=\"9\"\n",
    "                    elif (dates[0]==\"Eighth \") |(dates[0]==\"Eighth\") |(dates[0]==\"eighth\") |(dates[0]==\"eighth \"):\n",
    "                        dates[0]=\"8\"\n",
    "                    elif dates[0]==\"Seventh \":\n",
    "                        dates[0]=\"7\"\n",
    "                    elif (dates[0]==\"Twenty ninth \")| (dates[0]==\"Twenty ninth\") | (dates[0]==\"twenty ninth \")|(dates[0]==\"Twenty Ninth \")|(dates[0]==\"Twenty Ninth\") :\n",
    "                        dates[0]=\"29\"\n",
    "                    elif (dates[0]==\"Thirty\") |(dates[0]==\"Thirty \") | (dates[0]==\"thirtieth \"):\n",
    "                        dates[0]=\"30\"\n",
    "                    elif (dates[0]==\"Thirty first \") |(dates[0]==\"Thirty first\"):\n",
    "                        dates[0]=\"31\"\n",
    "                  \n",
    "                    \n",
    "                    elif dates[0]==\"first \":\n",
    "                        dates[0]=\"1\"\n",
    "                    elif (dates[0]==\"Second \") |(dates[0]==\"Second\") |(dates[0]==\"second\")|(dates[0]==\"second \"):\n",
    "                        dates[0]=\"2\"\n",
    "                    elif dates[0]==\"fourth \":\n",
    "                        dates[0]=\"4\"\n",
    "                    elif dates[0]==\"tenth \":\n",
    "                        dates[0]=\"10\"\n",
    "                    elif (dates[0]==\"Fifth \")|(dates[0]==\"Fifth\") |(dates[0]==\"fifth \")|(dates[0]==\"fifth\"):\n",
    "                        dates[0]=\"5\"\n",
    "                    elif (dates[0]==\"This\") | (dates[0]==\"This 7th \")|(dates[0]==\"seventh \") |(dates[0]==\"seventh\") |(dates[0]==\"Seventh \"):\n",
    "                        dates[0]=\"7\"\n",
    "                    elif (dates[0]==\"This 31st\") |(dates[0]==\"Thirty-first \"):\n",
    "                        dates[0]=\"31\"\n",
    "                    elif (dates[0]==\"Thirtieth\") |(dates[0]==\"Thirtieth \") |(dates[0]==\"Thirty\"):\n",
    "                        dates[0]=\"30\"\n",
    "                    elif dates[0]==\"twenty fifth \":\n",
    "                        dates[0]=\"25\"\n",
    "                    elif dates[0]==\"Twenty seventh \":\n",
    "                        dates[0]=\"27\"\n",
    "                    elif (dates[0]==\"Twenty sixth \") |(dates[0]==\"Twentysixth \")|(dates[0]==\"Twentysixth\") |(dates[0]==\"twentysixth \"):\n",
    "                        dates[0]=\"26\"\n",
    "                    elif dates[0]==\"third \":\n",
    "                        dates[0]=\"3\" \n",
    "                    elif dates[0]==\"third\":\n",
    "                        dates[0]=\"3\"\n",
    "                    elif dates[0]==\"Third \":\n",
    "                        dates[0]=\"3\"\n",
    "                    elif dates[0]==\"Third\":\n",
    "                        dates[0]=\"3\"\n",
    "                    \n",
    "                    elif dates[0]==\"Tenth\":\n",
    "                        dates[0]=\"10\" \n",
    "                    elif dates[0]==\"Augusta\":\n",
    "                        dates[0]=\"9\" \n",
    "                    elif (dates[0]==\"this_sixth \")|(dates[0]==\"sixth \")| (dates[0]==\"Sixth\") | (dates[0]==\"Sixth \") |(dates[0]==\"this sixth \"):\n",
    "                        dates[0]=\"6\" \n",
    "                        \n",
    "                    elif dates[0]==\"Tenth \":\n",
    "                        dates[0]=\"10\"\n",
    "                    elif (dates[0]==\"twentieth\")|(dates[0]==\"This 20th \"):\n",
    "                        dates[0]=\"20\"\n",
    "                    elif (dates[0]==\"twenty fourth \") |(dates[0]==\"twenty fourth\") |(dates[0]==\"Twenty fourth \") |(dates[0]==\"Twenty fourth\"):\n",
    "                        dates[0]=\"24\"\n",
    "                    elif (dates[0]==\"fifteenth \") |(dates[0]==\"Fifteenth \") |(dates[0]==\"Fifteenth\"):\n",
    "                        dates[0]=\"15\"\n",
    "                    elif dates[0]==\"twentieth \":\n",
    "                        dates[0]=\"20\"\n",
    "                    elif dates[0]==\"Eighteenth \":\n",
    "                        dates[0]=\"18\"\n",
    "                    elif dates[0]==\"Eighteenth\":\n",
    "                        dates[0]=\"18\"\n",
    "                    elif (dates[0]==\"Nineteenth \") |(dates[0]==\"Nineteenth\"):\n",
    "                        dates[0]=\"19\"\n",
    "                    elif dates[0]==\"First \":\n",
    "                        dates[0]=\"1\"\n",
    "                    elif dates[0]==\"First\":\n",
    "                        dates[0]=\"1\"\n",
    "                    elif (dates[0]==\"Sixteenth \")|(dates[0]==\"this 16\") |(dates[0]==\"Sixteenth\"):\n",
    "                        dates[0]=\"16\"\n",
    "                   \n",
    "                    elif dates[0]==\"twenty third \":\n",
    "                        dates[0]=\"23\"\n",
    "                    elif dates[0]==\"twenty third\":\n",
    "                        dates[0]=\"23\"\n",
    "                    elif dates[0]==\"Twenty third \":\n",
    "                        dates[0]=\"23\"\n",
    "                    elif dates[0]==\"Twenty Second \":\n",
    "                        dates[0]=\"22\"\n",
    "                    elif dates[0]==\"Twenty Second\":\n",
    "                        dates[0]=\"22\"\n",
    "                    elif dates[0]==\"Twenty Eighth \":\n",
    "                        dates[0]=\"28\"\n",
    "                    elif dates[0]==\"Twentysenventh \":\n",
    "                        dates[0]=\"27\"\n",
    "                    elif dates[0]==\"twenty third \":\n",
    "                        dates[0]=\"23\"\n",
    "                    elif (dates[0]==\"twenty third\") |(dates[0]==\"Twentythird\")|(dates[0]==\"Twentythird \"):\n",
    "                        dates[0]=\"23\"\n",
    "                    elif (dates[0]==\"fourteenth \") | (dates[0]==\"fourteenth\") | (dates[0]==\"Fourteenth\") | (dates[0]==\"Fourteenth \"):\n",
    "                        dates[0]=\"14\"\n",
    "                    elif (dates[0]==\"Eleventh \") | (dates[0]==\"Eleventh\") |(dates[0]==\"eleventh \") :\n",
    "                        dates[0]=\"11\"\n",
    "                    elif (dates[0]==\"Thirteenth\") | (dates[0]==\"Thirteenth \") :\n",
    "                        dates[0]=\"13\"\n",
    "                    elif (dates[0]==\"seventeenth \") |(dates[0]==\"seventeenth\") |(dates[0]==\"Seventeenth \") :\n",
    "                        dates[0]=\"17\"\n",
    "                     \n",
    "                     \n",
    "                     \n",
    "                    \n",
    "                        \n",
    "                    j = dates[0]+\"-\"+dates[1]+\"-\"+dates[2]\n",
    "                    ng.append(j)\n",
    "            \n",
    "            \n",
    "    NG.append(ng)   "
   ]
  },
  {
   "cell_type": "code",
   "execution_count": 9,
   "id": "89617a7c",
   "metadata": {
    "execution": {
     "iopub.execute_input": "2022-06-15T11:51:03.580867Z",
     "iopub.status.busy": "2022-06-15T11:51:03.580503Z",
     "iopub.status.idle": "2022-06-15T11:51:03.586804Z",
     "shell.execute_reply": "2022-06-15T11:51:03.585631Z"
    },
    "papermill": {
     "duration": 0.028759,
     "end_time": "2022-06-15T11:51:03.588974",
     "exception": false,
     "start_time": "2022-06-15T11:51:03.560215",
     "status": "completed"
    },
    "tags": []
   },
   "outputs": [],
   "source": [
    "Audf[\"Dates\"]=NG"
   ]
  },
  {
   "cell_type": "code",
   "execution_count": 10,
   "id": "aaf942db",
   "metadata": {
    "execution": {
     "iopub.execute_input": "2022-06-15T11:51:03.627758Z",
     "iopub.status.busy": "2022-06-15T11:51:03.627403Z",
     "iopub.status.idle": "2022-06-15T11:51:03.647965Z",
     "shell.execute_reply": "2022-06-15T11:51:03.647164Z"
    },
    "papermill": {
     "duration": 0.04274,
     "end_time": "2022-06-15T11:51:03.650192",
     "exception": false,
     "start_time": "2022-06-15T11:51:03.607452",
     "status": "completed"
    },
    "tags": []
   },
   "outputs": [
    {
     "data": {
      "text/html": [
       "<div>\n",
       "<style scoped>\n",
       "    .dataframe tbody tr th:only-of-type {\n",
       "        vertical-align: middle;\n",
       "    }\n",
       "\n",
       "    .dataframe tbody tr th {\n",
       "        vertical-align: top;\n",
       "    }\n",
       "\n",
       "    .dataframe thead th {\n",
       "        text-align: right;\n",
       "    }\n",
       "</style>\n",
       "<table border=\"1\" class=\"dataframe\">\n",
       "  <thead>\n",
       "    <tr style=\"text-align: right;\">\n",
       "      <th></th>\n",
       "      <th>text</th>\n",
       "      <th>PERSON-ontonotes</th>\n",
       "      <th>GPE-ontonotes</th>\n",
       "      <th>ORG-ontonotes</th>\n",
       "      <th>Date-ontonotes</th>\n",
       "      <th>postDate-ontonotes</th>\n",
       "      <th>Dates</th>\n",
       "    </tr>\n",
       "  </thead>\n",
       "  <tbody>\n",
       "    <tr>\n",
       "      <th>0</th>\n",
       "      <td>NaN</td>\n",
       "      <td>[I C Meekins, Isaac C. Meekins, E H Walker, Jo...</td>\n",
       "      <td>[Currituck County ,]</td>\n",
       "      <td>[]</td>\n",
       "      <td>[16 day of Sept A.D . , 1865]</td>\n",
       "      <td>[16-Sept-1865]</td>\n",
       "      <td>[16-Septembre-1865]</td>\n",
       "    </tr>\n",
       "    <tr>\n",
       "      <th>1</th>\n",
       "      <td>NaN</td>\n",
       "      <td>[]</td>\n",
       "      <td>[North Carolina, United States, States]</td>\n",
       "      <td>[Department of Virginia, State]</td>\n",
       "      <td>[1864]</td>\n",
       "      <td>[]</td>\n",
       "      <td>[]</td>\n",
       "    </tr>\n",
       "    <tr>\n",
       "      <th>2</th>\n",
       "      <td>NaN</td>\n",
       "      <td>[W. H. Pearce, W . H. Pearce]</td>\n",
       "      <td>[]</td>\n",
       "      <td>[]</td>\n",
       "      <td>[3rd day of October , A.D. , 1865]</td>\n",
       "      <td>[3-October-1865]</td>\n",
       "      <td>[3-October-1865]</td>\n",
       "    </tr>\n",
       "    <tr>\n",
       "      <th>3</th>\n",
       "      <td>NaN</td>\n",
       "      <td>[]</td>\n",
       "      <td>[North Carolina, United States]</td>\n",
       "      <td>[]</td>\n",
       "      <td>[______ day of ____________ , 1866]</td>\n",
       "      <td>[]</td>\n",
       "      <td>[]</td>\n",
       "    </tr>\n",
       "    <tr>\n",
       "      <th>4</th>\n",
       "      <td>NaN</td>\n",
       "      <td>[S.E . Allen]</td>\n",
       "      <td>[North Carolina, Wake County, United States]</td>\n",
       "      <td>[]</td>\n",
       "      <td>[31st day of May , 1867]</td>\n",
       "      <td>[31-May-1867]</td>\n",
       "      <td>[31-May-1867]</td>\n",
       "    </tr>\n",
       "  </tbody>\n",
       "</table>\n",
       "</div>"
      ],
      "text/plain": [
       "  text                                   PERSON-ontonotes  \\\n",
       "0  NaN  [I C Meekins, Isaac C. Meekins, E H Walker, Jo...   \n",
       "1  NaN                                                 []   \n",
       "2  NaN                      [W. H. Pearce, W . H. Pearce]   \n",
       "3  NaN                                                 []   \n",
       "4  NaN                                      [S.E . Allen]   \n",
       "\n",
       "                                  GPE-ontonotes  \\\n",
       "0                          [Currituck County ,]   \n",
       "1       [North Carolina, United States, States]   \n",
       "2                                            []   \n",
       "3               [North Carolina, United States]   \n",
       "4  [North Carolina, Wake County, United States]   \n",
       "\n",
       "                     ORG-ontonotes                       Date-ontonotes  \\\n",
       "0                               []        [16 day of Sept A.D . , 1865]   \n",
       "1  [Department of Virginia, State]                               [1864]   \n",
       "2                               []   [3rd day of October , A.D. , 1865]   \n",
       "3                               []  [______ day of ____________ , 1866]   \n",
       "4                               []             [31st day of May , 1867]   \n",
       "\n",
       "  postDate-ontonotes                Dates  \n",
       "0     [16-Sept-1865]  [16-Septembre-1865]  \n",
       "1                 []                   []  \n",
       "2   [3-October-1865]     [3-October-1865]  \n",
       "3                 []                   []  \n",
       "4      [31-May-1867]        [31-May-1867]  "
      ]
     },
     "execution_count": 10,
     "metadata": {},
     "output_type": "execute_result"
    }
   ],
   "source": [
    "Audf.head()"
   ]
  },
  {
   "cell_type": "code",
   "execution_count": 11,
   "id": "b2b15f22",
   "metadata": {
    "execution": {
     "iopub.execute_input": "2022-06-15T11:51:03.691828Z",
     "iopub.status.busy": "2022-06-15T11:51:03.690548Z",
     "iopub.status.idle": "2022-06-15T11:51:03.697173Z",
     "shell.execute_reply": "2022-06-15T11:51:03.696348Z"
    },
    "papermill": {
     "duration": 0.029319,
     "end_time": "2022-06-15T11:51:03.699155",
     "exception": false,
     "start_time": "2022-06-15T11:51:03.669836",
     "status": "completed"
    },
    "tags": []
   },
   "outputs": [],
   "source": [
    "Audf[\"text\"]=range(2136)"
   ]
  },
  {
   "cell_type": "markdown",
   "id": "df88f159",
   "metadata": {
    "papermill": {
     "duration": 0.020344,
     "end_time": "2022-06-15T11:51:03.740988",
     "exception": false,
     "start_time": "2022-06-15T11:51:03.720644",
     "status": "completed"
    },
    "tags": []
   },
   "source": [
    "# dflarge"
   ]
  },
  {
   "cell_type": "code",
   "execution_count": 12,
   "id": "9ab90909",
   "metadata": {
    "execution": {
     "iopub.execute_input": "2022-06-15T11:51:03.784420Z",
     "iopub.status.busy": "2022-06-15T11:51:03.783739Z",
     "iopub.status.idle": "2022-06-15T11:51:09.142158Z",
     "shell.execute_reply": "2022-06-15T11:51:09.140824Z"
    },
    "papermill": {
     "duration": 5.383086,
     "end_time": "2022-06-15T11:51:09.144822",
     "exception": false,
     "start_time": "2022-06-15T11:51:03.761736",
     "status": "completed"
    },
    "tags": []
   },
   "outputs": [],
   "source": [
    "with open('../input/entities/entityL.pkl', 'rb') as f:\n",
    "    entitiesL= pickle.load(f)"
   ]
  },
  {
   "cell_type": "code",
   "execution_count": 13,
   "id": "9a869dbc",
   "metadata": {
    "execution": {
     "iopub.execute_input": "2022-06-15T11:51:09.185756Z",
     "iopub.status.busy": "2022-06-15T11:51:09.185116Z",
     "iopub.status.idle": "2022-06-15T11:51:09.190905Z",
     "shell.execute_reply": "2022-06-15T11:51:09.189955Z"
    },
    "papermill": {
     "duration": 0.028425,
     "end_time": "2022-06-15T11:51:09.192852",
     "exception": false,
     "start_time": "2022-06-15T11:51:09.164427",
     "status": "completed"
    },
    "tags": []
   },
   "outputs": [
    {
     "data": {
      "text/plain": [
       "2136"
      ]
     },
     "execution_count": 13,
     "metadata": {},
     "output_type": "execute_result"
    }
   ],
   "source": [
    "len(entitiesL)"
   ]
  },
  {
   "cell_type": "code",
   "execution_count": 14,
   "id": "f312154e",
   "metadata": {
    "execution": {
     "iopub.execute_input": "2022-06-15T11:51:09.233562Z",
     "iopub.status.busy": "2022-06-15T11:51:09.232922Z",
     "iopub.status.idle": "2022-06-15T11:51:09.676261Z",
     "shell.execute_reply": "2022-06-15T11:51:09.675142Z"
    },
    "papermill": {
     "duration": 0.466304,
     "end_time": "2022-06-15T11:51:09.678711",
     "exception": false,
     "start_time": "2022-06-15T11:51:09.212407",
     "status": "completed"
    },
    "tags": []
   },
   "outputs": [],
   "source": [
    "Per=[]\n",
    "ORG=[]\n",
    "LOC=[]\n",
    "from flair.data import Sentence\n",
    "\n",
    "dflarge=pd.DataFrame({\"text\":\"\", \"PERSON-nerenglarge\":[], \"LOC-nerenglarge\":\"\",\"ORG-nerenglarge\":\"\"})\n",
    "for i in entitiesL:\n",
    "    dc={}\n",
    "    P=[]\n",
    "    L=[]\n",
    "    G=[]\n",
    "    O=[]\n",
    "    for entity in i :\n",
    "\n",
    "                     \n",
    "                     if (entity.get_label(\"ner\").score > 0.90) & (entity.get_label(\"ner\").value != \"CARDINAL\") & (entity.get_label(\"ner\").value != \"LAW\")& (entity.get_label(\"ner\").value != \"QUANTITY\") & (entity.get_label(\"ner\").value != \"WORK_OF_ART\") & (entity.get_label(\"ner\").value != \"LAW\")& (entity.get_label(\"ner\").value != \"QUANTITY\") & (entity.get_label(\"ner\").value != \"EVENT\")  :\n",
    "                        dc[entity.text]= entity.get_label(\"ner\").value \n",
    "                       \n",
    "        \n",
    "      \n",
    "    for j in dc :\n",
    "                if dc[j]==\"PER\":\n",
    "                      P.append(j)\n",
    "                elif (dc[j]==\"ORG\") | (dc[j]==\"MISC\") :\n",
    "                      O.append(j)\n",
    "                elif dc[j]==\"LOC\":\n",
    "                      L.append(j)\n",
    "               \n",
    "    Per.append(P)\n",
    "    ORG.append(O)\n",
    "    LOC.append(L)\n",
    "            \n",
    "\n",
    "dflarge[\"PERSON-nerenglarge\"]=Per\n",
    "dflarge[\"LOC-nerenglarge\"]=LOC\n",
    "dflarge[\"ORG-nerenglarge\"]=ORG   "
   ]
  },
  {
   "cell_type": "code",
   "execution_count": 15,
   "id": "b32219a1",
   "metadata": {
    "execution": {
     "iopub.execute_input": "2022-06-15T11:51:09.721748Z",
     "iopub.status.busy": "2022-06-15T11:51:09.721283Z",
     "iopub.status.idle": "2022-06-15T11:51:09.736905Z",
     "shell.execute_reply": "2022-06-15T11:51:09.735771Z"
    },
    "papermill": {
     "duration": 0.03995,
     "end_time": "2022-06-15T11:51:09.739097",
     "exception": false,
     "start_time": "2022-06-15T11:51:09.699147",
     "status": "completed"
    },
    "tags": []
   },
   "outputs": [
    {
     "data": {
      "text/html": [
       "<div>\n",
       "<style scoped>\n",
       "    .dataframe tbody tr th:only-of-type {\n",
       "        vertical-align: middle;\n",
       "    }\n",
       "\n",
       "    .dataframe tbody tr th {\n",
       "        vertical-align: top;\n",
       "    }\n",
       "\n",
       "    .dataframe thead th {\n",
       "        text-align: right;\n",
       "    }\n",
       "</style>\n",
       "<table border=\"1\" class=\"dataframe\">\n",
       "  <thead>\n",
       "    <tr style=\"text-align: right;\">\n",
       "      <th></th>\n",
       "      <th>text</th>\n",
       "      <th>PERSON-nerenglarge</th>\n",
       "      <th>LOC-nerenglarge</th>\n",
       "      <th>ORG-nerenglarge</th>\n",
       "    </tr>\n",
       "  </thead>\n",
       "  <tbody>\n",
       "    <tr>\n",
       "      <th>0</th>\n",
       "      <td>NaN</td>\n",
       "      <td>[I C Meekins, Almighty, God, Isaac C. Meekins,...</td>\n",
       "      <td>[Currituck County, State of North Carolina, Un...</td>\n",
       "      <td>[Constitution]</td>\n",
       "    </tr>\n",
       "    <tr>\n",
       "      <th>1</th>\n",
       "      <td>NaN</td>\n",
       "      <td>[]</td>\n",
       "      <td>[North Carolina, United States, States]</td>\n",
       "      <td>[Department of Virginia, OATH PAROLE]</td>\n",
       "    </tr>\n",
       "    <tr>\n",
       "      <th>2</th>\n",
       "      <td>NaN</td>\n",
       "      <td>[W. H. Pearce, Almighty, God, E. Ampetts, W . ...</td>\n",
       "      <td>[Craven County, State of NorthCarolina, United...</td>\n",
       "      <td>[Constitution]</td>\n",
       "    </tr>\n",
       "    <tr>\n",
       "      <th>3</th>\n",
       "      <td>NaN</td>\n",
       "      <td>[God]</td>\n",
       "      <td>[State of, North Carolina, United States]</td>\n",
       "      <td>[Constitution]</td>\n",
       "    </tr>\n",
       "    <tr>\n",
       "      <th>4</th>\n",
       "      <td>NaN</td>\n",
       "      <td>[S.E, God, T.D, McAlpine]</td>\n",
       "      <td>[State of, North Carolina, Wake County, United...</td>\n",
       "      <td>[Constitution, Res . Corp]</td>\n",
       "    </tr>\n",
       "  </tbody>\n",
       "</table>\n",
       "</div>"
      ],
      "text/plain": [
       "  text                                 PERSON-nerenglarge  \\\n",
       "0  NaN  [I C Meekins, Almighty, God, Isaac C. Meekins,...   \n",
       "1  NaN                                                 []   \n",
       "2  NaN  [W. H. Pearce, Almighty, God, E. Ampetts, W . ...   \n",
       "3  NaN                                              [God]   \n",
       "4  NaN                          [S.E, God, T.D, McAlpine]   \n",
       "\n",
       "                                     LOC-nerenglarge  \\\n",
       "0  [Currituck County, State of North Carolina, Un...   \n",
       "1            [North Carolina, United States, States]   \n",
       "2  [Craven County, State of NorthCarolina, United...   \n",
       "3          [State of, North Carolina, United States]   \n",
       "4  [State of, North Carolina, Wake County, United...   \n",
       "\n",
       "                         ORG-nerenglarge  \n",
       "0                         [Constitution]  \n",
       "1  [Department of Virginia, OATH PAROLE]  \n",
       "2                         [Constitution]  \n",
       "3                         [Constitution]  \n",
       "4             [Constitution, Res . Corp]  "
      ]
     },
     "execution_count": 15,
     "metadata": {},
     "output_type": "execute_result"
    }
   ],
   "source": [
    "dflarge.head()"
   ]
  },
  {
   "cell_type": "markdown",
   "id": "6a6750cc",
   "metadata": {
    "papermill": {
     "duration": 0.020136,
     "end_time": "2022-06-15T11:51:09.779255",
     "exception": false,
     "start_time": "2022-06-15T11:51:09.759119",
     "status": "completed"
    },
    "tags": []
   },
   "source": [
    "# final df"
   ]
  },
  {
   "cell_type": "code",
   "execution_count": 16,
   "id": "fcdbece5",
   "metadata": {
    "execution": {
     "iopub.execute_input": "2022-06-15T11:51:09.822971Z",
     "iopub.status.busy": "2022-06-15T11:51:09.821840Z",
     "iopub.status.idle": "2022-06-15T11:51:09.829738Z",
     "shell.execute_reply": "2022-06-15T11:51:09.828538Z"
    },
    "papermill": {
     "duration": 0.031887,
     "end_time": "2022-06-15T11:51:09.832030",
     "exception": false,
     "start_time": "2022-06-15T11:51:09.800143",
     "status": "completed"
    },
    "tags": []
   },
   "outputs": [],
   "source": [
    "Audf[\"Person-NerEngLarge\"]=dflarge[\"PERSON-nerenglarge\"]\n",
    "Audf[\"LOC-NerEngLarge\"]=dflarge[\"LOC-nerenglarge\"]\n",
    "Audf[\"ORG-NerEngLarge\"]=dflarge[\"ORG-nerenglarge\"]"
   ]
  },
  {
   "cell_type": "code",
   "execution_count": 17,
   "id": "66006829",
   "metadata": {
    "execution": {
     "iopub.execute_input": "2022-06-15T11:51:09.873799Z",
     "iopub.status.busy": "2022-06-15T11:51:09.872772Z",
     "iopub.status.idle": "2022-06-15T11:51:09.899357Z",
     "shell.execute_reply": "2022-06-15T11:51:09.898318Z"
    },
    "papermill": {
     "duration": 0.049717,
     "end_time": "2022-06-15T11:51:09.901529",
     "exception": false,
     "start_time": "2022-06-15T11:51:09.851812",
     "status": "completed"
    },
    "tags": []
   },
   "outputs": [
    {
     "data": {
      "text/html": [
       "<div>\n",
       "<style scoped>\n",
       "    .dataframe tbody tr th:only-of-type {\n",
       "        vertical-align: middle;\n",
       "    }\n",
       "\n",
       "    .dataframe tbody tr th {\n",
       "        vertical-align: top;\n",
       "    }\n",
       "\n",
       "    .dataframe thead th {\n",
       "        text-align: right;\n",
       "    }\n",
       "</style>\n",
       "<table border=\"1\" class=\"dataframe\">\n",
       "  <thead>\n",
       "    <tr style=\"text-align: right;\">\n",
       "      <th></th>\n",
       "      <th>text</th>\n",
       "      <th>PERSON-ontonotes</th>\n",
       "      <th>GPE-ontonotes</th>\n",
       "      <th>ORG-ontonotes</th>\n",
       "      <th>Date-ontonotes</th>\n",
       "      <th>postDate-ontonotes</th>\n",
       "      <th>Dates</th>\n",
       "      <th>Person-NerEngLarge</th>\n",
       "      <th>LOC-NerEngLarge</th>\n",
       "      <th>ORG-NerEngLarge</th>\n",
       "    </tr>\n",
       "  </thead>\n",
       "  <tbody>\n",
       "    <tr>\n",
       "      <th>0</th>\n",
       "      <td>0</td>\n",
       "      <td>[I C Meekins, Isaac C. Meekins, E H Walker, Jo...</td>\n",
       "      <td>[Currituck County ,]</td>\n",
       "      <td>[]</td>\n",
       "      <td>[16 day of Sept A.D . , 1865]</td>\n",
       "      <td>[16-Sept-1865]</td>\n",
       "      <td>[16-Septembre-1865]</td>\n",
       "      <td>[I C Meekins, Almighty, God, Isaac C. Meekins,...</td>\n",
       "      <td>[Currituck County, State of North Carolina, Un...</td>\n",
       "      <td>[Constitution]</td>\n",
       "    </tr>\n",
       "    <tr>\n",
       "      <th>1</th>\n",
       "      <td>1</td>\n",
       "      <td>[]</td>\n",
       "      <td>[North Carolina, United States, States]</td>\n",
       "      <td>[Department of Virginia, State]</td>\n",
       "      <td>[1864]</td>\n",
       "      <td>[]</td>\n",
       "      <td>[]</td>\n",
       "      <td>[]</td>\n",
       "      <td>[North Carolina, United States, States]</td>\n",
       "      <td>[Department of Virginia, OATH PAROLE]</td>\n",
       "    </tr>\n",
       "    <tr>\n",
       "      <th>2</th>\n",
       "      <td>2</td>\n",
       "      <td>[W. H. Pearce, W . H. Pearce]</td>\n",
       "      <td>[]</td>\n",
       "      <td>[]</td>\n",
       "      <td>[3rd day of October , A.D. , 1865]</td>\n",
       "      <td>[3-October-1865]</td>\n",
       "      <td>[3-October-1865]</td>\n",
       "      <td>[W. H. Pearce, Almighty, God, E. Ampetts, W . ...</td>\n",
       "      <td>[Craven County, State of NorthCarolina, United...</td>\n",
       "      <td>[Constitution]</td>\n",
       "    </tr>\n",
       "    <tr>\n",
       "      <th>3</th>\n",
       "      <td>3</td>\n",
       "      <td>[]</td>\n",
       "      <td>[North Carolina, United States]</td>\n",
       "      <td>[]</td>\n",
       "      <td>[______ day of ____________ , 1866]</td>\n",
       "      <td>[]</td>\n",
       "      <td>[]</td>\n",
       "      <td>[God]</td>\n",
       "      <td>[State of, North Carolina, United States]</td>\n",
       "      <td>[Constitution]</td>\n",
       "    </tr>\n",
       "    <tr>\n",
       "      <th>4</th>\n",
       "      <td>4</td>\n",
       "      <td>[S.E . Allen]</td>\n",
       "      <td>[North Carolina, Wake County, United States]</td>\n",
       "      <td>[]</td>\n",
       "      <td>[31st day of May , 1867]</td>\n",
       "      <td>[31-May-1867]</td>\n",
       "      <td>[31-May-1867]</td>\n",
       "      <td>[S.E, God, T.D, McAlpine]</td>\n",
       "      <td>[State of, North Carolina, Wake County, United...</td>\n",
       "      <td>[Constitution, Res . Corp]</td>\n",
       "    </tr>\n",
       "  </tbody>\n",
       "</table>\n",
       "</div>"
      ],
      "text/plain": [
       "   text                                   PERSON-ontonotes  \\\n",
       "0     0  [I C Meekins, Isaac C. Meekins, E H Walker, Jo...   \n",
       "1     1                                                 []   \n",
       "2     2                      [W. H. Pearce, W . H. Pearce]   \n",
       "3     3                                                 []   \n",
       "4     4                                      [S.E . Allen]   \n",
       "\n",
       "                                  GPE-ontonotes  \\\n",
       "0                          [Currituck County ,]   \n",
       "1       [North Carolina, United States, States]   \n",
       "2                                            []   \n",
       "3               [North Carolina, United States]   \n",
       "4  [North Carolina, Wake County, United States]   \n",
       "\n",
       "                     ORG-ontonotes                       Date-ontonotes  \\\n",
       "0                               []        [16 day of Sept A.D . , 1865]   \n",
       "1  [Department of Virginia, State]                               [1864]   \n",
       "2                               []   [3rd day of October , A.D. , 1865]   \n",
       "3                               []  [______ day of ____________ , 1866]   \n",
       "4                               []             [31st day of May , 1867]   \n",
       "\n",
       "  postDate-ontonotes                Dates  \\\n",
       "0     [16-Sept-1865]  [16-Septembre-1865]   \n",
       "1                 []                   []   \n",
       "2   [3-October-1865]     [3-October-1865]   \n",
       "3                 []                   []   \n",
       "4      [31-May-1867]        [31-May-1867]   \n",
       "\n",
       "                                  Person-NerEngLarge  \\\n",
       "0  [I C Meekins, Almighty, God, Isaac C. Meekins,...   \n",
       "1                                                 []   \n",
       "2  [W. H. Pearce, Almighty, God, E. Ampetts, W . ...   \n",
       "3                                              [God]   \n",
       "4                          [S.E, God, T.D, McAlpine]   \n",
       "\n",
       "                                     LOC-NerEngLarge  \\\n",
       "0  [Currituck County, State of North Carolina, Un...   \n",
       "1            [North Carolina, United States, States]   \n",
       "2  [Craven County, State of NorthCarolina, United...   \n",
       "3          [State of, North Carolina, United States]   \n",
       "4  [State of, North Carolina, Wake County, United...   \n",
       "\n",
       "                         ORG-NerEngLarge  \n",
       "0                         [Constitution]  \n",
       "1  [Department of Virginia, OATH PAROLE]  \n",
       "2                         [Constitution]  \n",
       "3                         [Constitution]  \n",
       "4             [Constitution, Res . Corp]  "
      ]
     },
     "execution_count": 17,
     "metadata": {},
     "output_type": "execute_result"
    }
   ],
   "source": [
    "Audf.head()"
   ]
  },
  {
   "cell_type": "code",
   "execution_count": 18,
   "id": "761550b4",
   "metadata": {
    "execution": {
     "iopub.execute_input": "2022-06-15T11:51:09.944002Z",
     "iopub.status.busy": "2022-06-15T11:51:09.942574Z",
     "iopub.status.idle": "2022-06-15T11:51:09.949099Z",
     "shell.execute_reply": "2022-06-15T11:51:09.948216Z"
    },
    "papermill": {
     "duration": 0.029508,
     "end_time": "2022-06-15T11:51:09.951076",
     "exception": false,
     "start_time": "2022-06-15T11:51:09.921568",
     "status": "completed"
    },
    "tags": []
   },
   "outputs": [
    {
     "data": {
      "text/plain": [
       "'/kaggle/working'"
      ]
     },
     "execution_count": 18,
     "metadata": {},
     "output_type": "execute_result"
    }
   ],
   "source": [
    "import os \n",
    "os.getcwd()"
   ]
  },
  {
   "cell_type": "code",
   "execution_count": 19,
   "id": "435af2a5",
   "metadata": {
    "execution": {
     "iopub.execute_input": "2022-06-15T11:51:09.992386Z",
     "iopub.status.busy": "2022-06-15T11:51:09.992001Z",
     "iopub.status.idle": "2022-06-15T11:51:10.016891Z",
     "shell.execute_reply": "2022-06-15T11:51:10.016133Z"
    },
    "papermill": {
     "duration": 0.047742,
     "end_time": "2022-06-15T11:51:10.019012",
     "exception": false,
     "start_time": "2022-06-15T11:51:09.971270",
     "status": "completed"
    },
    "tags": []
   },
   "outputs": [],
   "source": [
    "Audf.to_pickle(\"data.pkl\")"
   ]
  },
  {
   "cell_type": "code",
   "execution_count": 20,
   "id": "61017198",
   "metadata": {
    "execution": {
     "iopub.execute_input": "2022-06-15T11:51:10.060748Z",
     "iopub.status.busy": "2022-06-15T11:51:10.060110Z",
     "iopub.status.idle": "2022-06-15T11:51:10.108818Z",
     "shell.execute_reply": "2022-06-15T11:51:10.107912Z"
    },
    "papermill": {
     "duration": 0.072577,
     "end_time": "2022-06-15T11:51:10.111024",
     "exception": false,
     "start_time": "2022-06-15T11:51:10.038447",
     "status": "completed"
    },
    "tags": []
   },
   "outputs": [],
   "source": [
    "with open('../input/audfff/data.pkl', 'rb') as f:\n",
    "    data= pickle.load(f)"
   ]
  },
  {
   "cell_type": "code",
   "execution_count": 21,
   "id": "1e2fb1da",
   "metadata": {
    "execution": {
     "iopub.execute_input": "2022-06-15T11:51:10.151398Z",
     "iopub.status.busy": "2022-06-15T11:51:10.150875Z",
     "iopub.status.idle": "2022-06-15T11:51:10.189217Z",
     "shell.execute_reply": "2022-06-15T11:51:10.188265Z"
    },
    "papermill": {
     "duration": 0.06157,
     "end_time": "2022-06-15T11:51:10.191743",
     "exception": false,
     "start_time": "2022-06-15T11:51:10.130173",
     "status": "completed"
    },
    "tags": []
   },
   "outputs": [
    {
     "data": {
      "text/html": [
       "<div>\n",
       "<style scoped>\n",
       "    .dataframe tbody tr th:only-of-type {\n",
       "        vertical-align: middle;\n",
       "    }\n",
       "\n",
       "    .dataframe tbody tr th {\n",
       "        vertical-align: top;\n",
       "    }\n",
       "\n",
       "    .dataframe thead th {\n",
       "        text-align: right;\n",
       "    }\n",
       "</style>\n",
       "<table border=\"1\" class=\"dataframe\">\n",
       "  <thead>\n",
       "    <tr style=\"text-align: right;\">\n",
       "      <th></th>\n",
       "      <th>text</th>\n",
       "      <th>PERSON-ontonotes</th>\n",
       "      <th>GPE-ontonotes</th>\n",
       "      <th>ORG-ontonotes</th>\n",
       "      <th>Date-ontonotes</th>\n",
       "      <th>postDate-ontonotes</th>\n",
       "      <th>Dates</th>\n",
       "      <th>Person-NerEngLarge</th>\n",
       "      <th>LOC-NerEngLarge</th>\n",
       "      <th>ORG-NerEngLarge</th>\n",
       "    </tr>\n",
       "  </thead>\n",
       "  <tbody>\n",
       "    <tr>\n",
       "      <th>0</th>\n",
       "      <td>0</td>\n",
       "      <td>[I C Meekins, Isaac C. Meekins, E H Walker, Jo...</td>\n",
       "      <td>[Currituck County ,]</td>\n",
       "      <td>[]</td>\n",
       "      <td>[16 day of Sept A.D . , 1865]</td>\n",
       "      <td>[16-Sept-1865]</td>\n",
       "      <td>[16-Septembre-1865]</td>\n",
       "      <td>[I C Meekins, Almighty, God, Isaac C. Meekins,...</td>\n",
       "      <td>[Currituck County, State of North Carolina, Un...</td>\n",
       "      <td>[Constitution]</td>\n",
       "    </tr>\n",
       "    <tr>\n",
       "      <th>1</th>\n",
       "      <td>1</td>\n",
       "      <td>[]</td>\n",
       "      <td>[North Carolina, United States, States]</td>\n",
       "      <td>[Department of Virginia, State]</td>\n",
       "      <td>[1864]</td>\n",
       "      <td>[]</td>\n",
       "      <td>[]</td>\n",
       "      <td>[]</td>\n",
       "      <td>[North Carolina, United States, States]</td>\n",
       "      <td>[Department of Virginia, OATH PAROLE]</td>\n",
       "    </tr>\n",
       "    <tr>\n",
       "      <th>2</th>\n",
       "      <td>2</td>\n",
       "      <td>[W. H. Pearce, W . H. Pearce]</td>\n",
       "      <td>[]</td>\n",
       "      <td>[]</td>\n",
       "      <td>[3rd day of October , A.D. , 1865]</td>\n",
       "      <td>[3-October-1865]</td>\n",
       "      <td>[3-October-1865]</td>\n",
       "      <td>[W. H. Pearce, Almighty, God, E. Ampetts, W . ...</td>\n",
       "      <td>[Craven County, State of NorthCarolina, United...</td>\n",
       "      <td>[Constitution]</td>\n",
       "    </tr>\n",
       "    <tr>\n",
       "      <th>3</th>\n",
       "      <td>3</td>\n",
       "      <td>[]</td>\n",
       "      <td>[North Carolina, United States]</td>\n",
       "      <td>[]</td>\n",
       "      <td>[______ day of ____________ , 1866]</td>\n",
       "      <td>[]</td>\n",
       "      <td>[]</td>\n",
       "      <td>[God]</td>\n",
       "      <td>[State of, North Carolina, United States]</td>\n",
       "      <td>[Constitution]</td>\n",
       "    </tr>\n",
       "    <tr>\n",
       "      <th>4</th>\n",
       "      <td>4</td>\n",
       "      <td>[S.E . Allen]</td>\n",
       "      <td>[North Carolina, Wake County, United States]</td>\n",
       "      <td>[]</td>\n",
       "      <td>[31st day of May , 1867]</td>\n",
       "      <td>[31-May-1867]</td>\n",
       "      <td>[31-May-1867]</td>\n",
       "      <td>[S.E, God, T.D, McAlpine]</td>\n",
       "      <td>[State of, North Carolina, Wake County, United...</td>\n",
       "      <td>[Constitution, Res . Corp]</td>\n",
       "    </tr>\n",
       "    <tr>\n",
       "      <th>...</th>\n",
       "      <td>...</td>\n",
       "      <td>...</td>\n",
       "      <td>...</td>\n",
       "      <td>...</td>\n",
       "      <td>...</td>\n",
       "      <td>...</td>\n",
       "      <td>...</td>\n",
       "      <td>...</td>\n",
       "      <td>...</td>\n",
       "      <td>...</td>\n",
       "    </tr>\n",
       "    <tr>\n",
       "      <th>2131</th>\n",
       "      <td>2131</td>\n",
       "      <td>[Geo . Little, Geo . B. Ayer]</td>\n",
       "      <td>[Raleigh, N.C., Wake County, N.C, United State...</td>\n",
       "      <td>[]</td>\n",
       "      <td>[May 26, July 14]</td>\n",
       "      <td>[]</td>\n",
       "      <td>[]</td>\n",
       "      <td>[Geo . Little, Geo, B. Ayer, Hugo Hillebrandt]</td>\n",
       "      <td>[Raleigh, N.C., Wake County, State of N.C, Uni...</td>\n",
       "      <td>[]</td>\n",
       "    </tr>\n",
       "    <tr>\n",
       "      <th>2132</th>\n",
       "      <td>2132</td>\n",
       "      <td>[Birnie]</td>\n",
       "      <td>[]</td>\n",
       "      <td>[]</td>\n",
       "      <td>[July 30th 1867]</td>\n",
       "      <td>[30-July-1867]</td>\n",
       "      <td>[30-July-1867]</td>\n",
       "      <td>[]</td>\n",
       "      <td>[]</td>\n",
       "      <td>[]</td>\n",
       "    </tr>\n",
       "    <tr>\n",
       "      <th>2133</th>\n",
       "      <td>2133</td>\n",
       "      <td>[William Birnie]</td>\n",
       "      <td>[North Carolina, Robeson County, United States]</td>\n",
       "      <td>[]</td>\n",
       "      <td>[30 day of July]</td>\n",
       "      <td>[]</td>\n",
       "      <td>[]</td>\n",
       "      <td>[William Birnie, God, Wm Birnie, W.A]</td>\n",
       "      <td>[State of, North Carolina, Robeson County, Uni...</td>\n",
       "      <td>[Constitution]</td>\n",
       "    </tr>\n",
       "    <tr>\n",
       "      <th>2134</th>\n",
       "      <td>2134</td>\n",
       "      <td>[A.L . Price, James Fulton, John D Conoley, Al...</td>\n",
       "      <td>[North Carolina, New Hanover County, New Hanov...</td>\n",
       "      <td>[Fulton Price]</td>\n",
       "      <td>[May 29 1865, 15th Sept 1865, 15th September A...</td>\n",
       "      <td>[29-May-1865, 15-Sept-1865, 15-September-1865,...</td>\n",
       "      <td>[29-May-1865, 15-Septembre-1865, 15-Septembre-...</td>\n",
       "      <td>[Price, James Fulton, Sgd W . N. Peden, Miles ...</td>\n",
       "      <td>[State of North Carolina, New Hanover County, ...</td>\n",
       "      <td>[Fulton Price, Confederate Government, Court o...</td>\n",
       "    </tr>\n",
       "    <tr>\n",
       "      <th>2135</th>\n",
       "      <td>2135</td>\n",
       "      <td>[James Fulton, Wm A. Cutler, Geo W. Pollock, F...</td>\n",
       "      <td>[Wilmington N.C, New Hanover County]</td>\n",
       "      <td>[]</td>\n",
       "      <td>[Sept 22 . 1865, Twentyseventh day of Septembe...</td>\n",
       "      <td>[22-Sept-1865, Twentyseventh-September-1865, T...</td>\n",
       "      <td>[22-Septembre-1865, 27-Septembre-1865, Twentys...</td>\n",
       "      <td>[Marshall, James Fulton, God, Wm A. Cutler, I,...</td>\n",
       "      <td>[City of Wilmington, N.C, United States, North...</td>\n",
       "      <td>[NARA, Constitution of, Slaves]</td>\n",
       "    </tr>\n",
       "  </tbody>\n",
       "</table>\n",
       "<p>2136 rows × 10 columns</p>\n",
       "</div>"
      ],
      "text/plain": [
       "      text                                   PERSON-ontonotes  \\\n",
       "0        0  [I C Meekins, Isaac C. Meekins, E H Walker, Jo...   \n",
       "1        1                                                 []   \n",
       "2        2                      [W. H. Pearce, W . H. Pearce]   \n",
       "3        3                                                 []   \n",
       "4        4                                      [S.E . Allen]   \n",
       "...    ...                                                ...   \n",
       "2131  2131                      [Geo . Little, Geo . B. Ayer]   \n",
       "2132  2132                                           [Birnie]   \n",
       "2133  2133                                   [William Birnie]   \n",
       "2134  2134  [A.L . Price, James Fulton, John D Conoley, Al...   \n",
       "2135  2135  [James Fulton, Wm A. Cutler, Geo W. Pollock, F...   \n",
       "\n",
       "                                          GPE-ontonotes  \\\n",
       "0                                  [Currituck County ,]   \n",
       "1               [North Carolina, United States, States]   \n",
       "2                                                    []   \n",
       "3                       [North Carolina, United States]   \n",
       "4          [North Carolina, Wake County, United States]   \n",
       "...                                                 ...   \n",
       "2131  [Raleigh, N.C., Wake County, N.C, United State...   \n",
       "2132                                                 []   \n",
       "2133    [North Carolina, Robeson County, United States]   \n",
       "2134  [North Carolina, New Hanover County, New Hanov...   \n",
       "2135               [Wilmington N.C, New Hanover County]   \n",
       "\n",
       "                        ORG-ontonotes  \\\n",
       "0                                  []   \n",
       "1     [Department of Virginia, State]   \n",
       "2                                  []   \n",
       "3                                  []   \n",
       "4                                  []   \n",
       "...                               ...   \n",
       "2131                               []   \n",
       "2132                               []   \n",
       "2133                               []   \n",
       "2134                   [Fulton Price]   \n",
       "2135                               []   \n",
       "\n",
       "                                         Date-ontonotes  \\\n",
       "0                         [16 day of Sept A.D . , 1865]   \n",
       "1                                                [1864]   \n",
       "2                    [3rd day of October , A.D. , 1865]   \n",
       "3                   [______ day of ____________ , 1866]   \n",
       "4                              [31st day of May , 1867]   \n",
       "...                                                 ...   \n",
       "2131                                  [May 26, July 14]   \n",
       "2132                                   [July 30th 1867]   \n",
       "2133                                   [30 day of July]   \n",
       "2134  [May 29 1865, 15th Sept 1865, 15th September A...   \n",
       "2135  [Sept 22 . 1865, Twentyseventh day of Septembe...   \n",
       "\n",
       "                                     postDate-ontonotes  \\\n",
       "0                                        [16-Sept-1865]   \n",
       "1                                                    []   \n",
       "2                                      [3-October-1865]   \n",
       "3                                                    []   \n",
       "4                                         [31-May-1867]   \n",
       "...                                                 ...   \n",
       "2131                                                 []   \n",
       "2132                                     [30-July-1867]   \n",
       "2133                                                 []   \n",
       "2134  [29-May-1865, 15-Sept-1865, 15-September-1865,...   \n",
       "2135  [22-Sept-1865, Twentyseventh-September-1865, T...   \n",
       "\n",
       "                                                  Dates  \\\n",
       "0                                   [16-Septembre-1865]   \n",
       "1                                                    []   \n",
       "2                                      [3-October-1865]   \n",
       "3                                                    []   \n",
       "4                                         [31-May-1867]   \n",
       "...                                                 ...   \n",
       "2131                                                 []   \n",
       "2132                                     [30-July-1867]   \n",
       "2133                                                 []   \n",
       "2134  [29-May-1865, 15-Septembre-1865, 15-Septembre-...   \n",
       "2135  [22-Septembre-1865, 27-Septembre-1865, Twentys...   \n",
       "\n",
       "                                     Person-NerEngLarge  \\\n",
       "0     [I C Meekins, Almighty, God, Isaac C. Meekins,...   \n",
       "1                                                    []   \n",
       "2     [W. H. Pearce, Almighty, God, E. Ampetts, W . ...   \n",
       "3                                                 [God]   \n",
       "4                             [S.E, God, T.D, McAlpine]   \n",
       "...                                                 ...   \n",
       "2131     [Geo . Little, Geo, B. Ayer, Hugo Hillebrandt]   \n",
       "2132                                                 []   \n",
       "2133              [William Birnie, God, Wm Birnie, W.A]   \n",
       "2134  [Price, James Fulton, Sgd W . N. Peden, Miles ...   \n",
       "2135  [Marshall, James Fulton, God, Wm A. Cutler, I,...   \n",
       "\n",
       "                                        LOC-NerEngLarge  \\\n",
       "0     [Currituck County, State of North Carolina, Un...   \n",
       "1               [North Carolina, United States, States]   \n",
       "2     [Craven County, State of NorthCarolina, United...   \n",
       "3             [State of, North Carolina, United States]   \n",
       "4     [State of, North Carolina, Wake County, United...   \n",
       "...                                                 ...   \n",
       "2131  [Raleigh, N.C., Wake County, State of N.C, Uni...   \n",
       "2132                                                 []   \n",
       "2133  [State of, North Carolina, Robeson County, Uni...   \n",
       "2134  [State of North Carolina, New Hanover County, ...   \n",
       "2135  [City of Wilmington, N.C, United States, North...   \n",
       "\n",
       "                                        ORG-NerEngLarge  \n",
       "0                                        [Constitution]  \n",
       "1                 [Department of Virginia, OATH PAROLE]  \n",
       "2                                        [Constitution]  \n",
       "3                                        [Constitution]  \n",
       "4                            [Constitution, Res . Corp]  \n",
       "...                                                 ...  \n",
       "2131                                                 []  \n",
       "2132                                                 []  \n",
       "2133                                     [Constitution]  \n",
       "2134  [Fulton Price, Confederate Government, Court o...  \n",
       "2135                    [NARA, Constitution of, Slaves]  \n",
       "\n",
       "[2136 rows x 10 columns]"
      ]
     },
     "execution_count": 21,
     "metadata": {},
     "output_type": "execute_result"
    }
   ],
   "source": [
    "data"
   ]
  },
  {
   "cell_type": "markdown",
   "id": "01ccab41",
   "metadata": {
    "papermill": {
     "duration": 0.020062,
     "end_time": "2022-06-15T11:51:10.232427",
     "exception": false,
     "start_time": "2022-06-15T11:51:10.212365",
     "status": "completed"
    },
    "tags": []
   },
   "source": [
    "# Separate Oath maker and witness name"
   ]
  },
  {
   "cell_type": "code",
   "execution_count": 22,
   "id": "daa0ffe0",
   "metadata": {
    "execution": {
     "iopub.execute_input": "2022-06-15T11:51:10.274820Z",
     "iopub.status.busy": "2022-06-15T11:51:10.273798Z",
     "iopub.status.idle": "2022-06-15T11:51:10.353550Z",
     "shell.execute_reply": "2022-06-15T11:51:10.352403Z"
    },
    "papermill": {
     "duration": 0.103951,
     "end_time": "2022-06-15T11:51:10.356360",
     "exception": false,
     "start_time": "2022-06-15T11:51:10.252409",
     "status": "completed"
    },
    "tags": []
   },
   "outputs": [],
   "source": [
    "newdata=pd.read_csv(\"../input/oathss/oaths.csv\")"
   ]
  },
  {
   "cell_type": "code",
   "execution_count": 23,
   "id": "aba7778d",
   "metadata": {
    "execution": {
     "iopub.execute_input": "2022-06-15T11:51:10.400988Z",
     "iopub.status.busy": "2022-06-15T11:51:10.400156Z",
     "iopub.status.idle": "2022-06-15T11:51:10.415407Z",
     "shell.execute_reply": "2022-06-15T11:51:10.414311Z"
    },
    "papermill": {
     "duration": 0.040351,
     "end_time": "2022-06-15T11:51:10.417869",
     "exception": false,
     "start_time": "2022-06-15T11:51:10.377518",
     "status": "completed"
    },
    "tags": []
   },
   "outputs": [],
   "source": [
    "all_text=newdata[\"transcription_text\"]\n",
    "stop_words = set(stopwords.words('english'))\n",
    "punctuation = string.punctuation\n",
    "stemmer = SnowballStemmer(language=\"english\")\n",
    "lemmatizer = WordNetLemmatizer()\n",
    "stop_words.remove(\"of\")\n",
    "punctuation\n",
    "punct='!\"#$%&\\'()*+-/<=>?@[\\\\]^`{|}~'"
   ]
  },
  {
   "cell_type": "code",
   "execution_count": 24,
   "id": "89fe44f7",
   "metadata": {
    "execution": {
     "iopub.execute_input": "2022-06-15T11:51:10.460966Z",
     "iopub.status.busy": "2022-06-15T11:51:10.459765Z",
     "iopub.status.idle": "2022-06-15T11:51:19.276872Z",
     "shell.execute_reply": "2022-06-15T11:51:19.275537Z"
    },
    "papermill": {
     "duration": 8.841257,
     "end_time": "2022-06-15T11:51:19.279305",
     "exception": false,
     "start_time": "2022-06-15T11:51:10.438048",
     "status": "completed"
    },
    "tags": []
   },
   "outputs": [
    {
     "name": "stderr",
     "output_type": "stream",
     "text": [
      "100%|██████████| 2136/2136 [00:08<00:00, 261.88it/s]\n",
      "100%|██████████| 2136/2136 [00:00<00:00, 3342.27it/s]\n"
     ]
    }
   ],
   "source": [
    "def process(s):\n",
    "    s= re.sub(\"([\\(\\[]).*?([\\)\\]])\",\" \",s)\n",
    "    for p in punct:\n",
    "        s = s.replace(p, '')\n",
    "    s = word_tokenize(s)\n",
    "    s = [w for w in s if not w in stop_words] \n",
    "    s = [lemmatizer.lemmatize(word) for word in s]\n",
    "    return s\n",
    "\n",
    "for i in tqdm(range(newdata.shape[0])):\n",
    "    all_text[i] = process(all_text[i])\n",
    "for i in tqdm(range(newdata.shape[0])):\n",
    "    all_text[i] = \" \".join(all_text[i])"
   ]
  },
  {
   "cell_type": "code",
   "execution_count": 25,
   "id": "b352b43a",
   "metadata": {
    "execution": {
     "iopub.execute_input": "2022-06-15T11:51:19.329590Z",
     "iopub.status.busy": "2022-06-15T11:51:19.329151Z",
     "iopub.status.idle": "2022-06-15T11:51:19.341321Z",
     "shell.execute_reply": "2022-06-15T11:51:19.340440Z"
    },
    "papermill": {
     "duration": 0.039066,
     "end_time": "2022-06-15T11:51:19.343311",
     "exception": false,
     "start_time": "2022-06-15T11:51:19.304245",
     "status": "completed"
    },
    "tags": []
   },
   "outputs": [],
   "source": [
    "allPerson=[]\n",
    "for i in Audf[\"PERSON-ontonotes\"]:\n",
    "            allPerson.append(i)\n",
    "allDatess=[]\n",
    "for i in Audf[\"Date-ontonotes\"]:\n",
    "            allDatess.append(i)\n",
    "allpostdates=[]\n",
    "for i in Audf[\"postDate-ontonotes\"]:\n",
    "            allpostdates.append(i)\n",
    "allGPE=[]\n",
    "for i in Audf[\"GPE-ontonotes\"]:\n",
    "            allGPE.append(i)\n",
    "alORGl=[]\n",
    "for i in Audf[\"ORG-ontonotes\"]:\n",
    "            alORGl.append(i)"
   ]
  },
  {
   "cell_type": "code",
   "execution_count": 26,
   "id": "1290926b",
   "metadata": {
    "execution": {
     "iopub.execute_input": "2022-06-15T11:51:19.395519Z",
     "iopub.status.busy": "2022-06-15T11:51:19.395144Z",
     "iopub.status.idle": "2022-06-15T11:51:19.403425Z",
     "shell.execute_reply": "2022-06-15T11:51:19.402475Z"
    },
    "papermill": {
     "duration": 0.037328,
     "end_time": "2022-06-15T11:51:19.405313",
     "exception": false,
     "start_time": "2022-06-15T11:51:19.367985",
     "status": "completed"
    },
    "tags": []
   },
   "outputs": [],
   "source": [
    "Personlarge=[]\n",
    "for i in dflarge[\"PERSON-nerenglarge\"]:\n",
    "            Personlarge.append(i)\n",
    "ORGlarge=[]\n",
    "for i in dflarge[\"ORG-nerenglarge\"]:\n",
    "            ORGlarge.append(i) \n",
    "LOClarge=[]\n",
    "for i in dflarge[\"LOC-nerenglarge\"]:\n",
    "            LOClarge.append(i)"
   ]
  },
  {
   "cell_type": "code",
   "execution_count": 27,
   "id": "be9a1904",
   "metadata": {
    "execution": {
     "iopub.execute_input": "2022-06-15T11:51:19.454130Z",
     "iopub.status.busy": "2022-06-15T11:51:19.453733Z",
     "iopub.status.idle": "2022-06-15T11:51:19.457733Z",
     "shell.execute_reply": "2022-06-15T11:51:19.456648Z"
    },
    "papermill": {
     "duration": 0.030777,
     "end_time": "2022-06-15T11:51:19.459934",
     "exception": false,
     "start_time": "2022-06-15T11:51:19.429157",
     "status": "completed"
    },
    "tags": []
   },
   "outputs": [],
   "source": [
    "# NewPerson[10]"
   ]
  },
  {
   "cell_type": "code",
   "execution_count": 28,
   "id": "0a9c248c",
   "metadata": {
    "execution": {
     "iopub.execute_input": "2022-06-15T11:51:19.510097Z",
     "iopub.status.busy": "2022-06-15T11:51:19.509690Z",
     "iopub.status.idle": "2022-06-15T11:51:19.513862Z",
     "shell.execute_reply": "2022-06-15T11:51:19.512779Z"
    },
    "papermill": {
     "duration": 0.031177,
     "end_time": "2022-06-15T11:51:19.515678",
     "exception": false,
     "start_time": "2022-06-15T11:51:19.484501",
     "status": "completed"
    },
    "tags": []
   },
   "outputs": [],
   "source": [
    "# Perr[10]"
   ]
  },
  {
   "cell_type": "code",
   "execution_count": 29,
   "id": "2f869866",
   "metadata": {
    "execution": {
     "iopub.execute_input": "2022-06-15T11:51:19.563712Z",
     "iopub.status.busy": "2022-06-15T11:51:19.563289Z",
     "iopub.status.idle": "2022-06-15T11:51:19.567299Z",
     "shell.execute_reply": "2022-06-15T11:51:19.566354Z"
    },
    "papermill": {
     "duration": 0.030537,
     "end_time": "2022-06-15T11:51:19.569353",
     "exception": false,
     "start_time": "2022-06-15T11:51:19.538816",
     "status": "completed"
    },
    "tags": []
   },
   "outputs": [],
   "source": [
    "# NewPerson[25]"
   ]
  },
  {
   "cell_type": "code",
   "execution_count": 30,
   "id": "2a471f3e",
   "metadata": {
    "execution": {
     "iopub.execute_input": "2022-06-15T11:51:19.617903Z",
     "iopub.status.busy": "2022-06-15T11:51:19.617503Z",
     "iopub.status.idle": "2022-06-15T11:51:19.621092Z",
     "shell.execute_reply": "2022-06-15T11:51:19.620431Z"
    },
    "papermill": {
     "duration": 0.029717,
     "end_time": "2022-06-15T11:51:19.622734",
     "exception": false,
     "start_time": "2022-06-15T11:51:19.593017",
     "status": "completed"
    },
    "tags": []
   },
   "outputs": [],
   "source": [
    "# Perr[25]"
   ]
  },
  {
   "cell_type": "code",
   "execution_count": 31,
   "id": "9303a9a3",
   "metadata": {
    "execution": {
     "iopub.execute_input": "2022-06-15T11:51:19.671544Z",
     "iopub.status.busy": "2022-06-15T11:51:19.671137Z",
     "iopub.status.idle": "2022-06-15T11:51:19.674968Z",
     "shell.execute_reply": "2022-06-15T11:51:19.674114Z"
    },
    "papermill": {
     "duration": 0.030719,
     "end_time": "2022-06-15T11:51:19.676967",
     "exception": false,
     "start_time": "2022-06-15T11:51:19.646248",
     "status": "completed"
    },
    "tags": []
   },
   "outputs": [],
   "source": [
    "# NewPerson[112]"
   ]
  },
  {
   "cell_type": "code",
   "execution_count": 32,
   "id": "badac11e",
   "metadata": {
    "execution": {
     "iopub.execute_input": "2022-06-15T11:51:19.726031Z",
     "iopub.status.busy": "2022-06-15T11:51:19.725655Z",
     "iopub.status.idle": "2022-06-15T11:51:19.730888Z",
     "shell.execute_reply": "2022-06-15T11:51:19.730216Z"
    },
    "papermill": {
     "duration": 0.031821,
     "end_time": "2022-06-15T11:51:19.732832",
     "exception": false,
     "start_time": "2022-06-15T11:51:19.701011",
     "status": "completed"
    },
    "tags": []
   },
   "outputs": [],
   "source": [
    "# Perr[112]"
   ]
  },
  {
   "cell_type": "code",
   "execution_count": 33,
   "id": "fe81bf9a",
   "metadata": {
    "execution": {
     "iopub.execute_input": "2022-06-15T11:51:19.781139Z",
     "iopub.status.busy": "2022-06-15T11:51:19.780762Z",
     "iopub.status.idle": "2022-06-15T11:51:19.785646Z",
     "shell.execute_reply": "2022-06-15T11:51:19.784370Z"
    },
    "papermill": {
     "duration": 0.031165,
     "end_time": "2022-06-15T11:51:19.787841",
     "exception": false,
     "start_time": "2022-06-15T11:51:19.756676",
     "status": "completed"
    },
    "tags": []
   },
   "outputs": [],
   "source": [
    "# NewPerson[211]"
   ]
  },
  {
   "cell_type": "code",
   "execution_count": 34,
   "id": "7a735747",
   "metadata": {
    "execution": {
     "iopub.execute_input": "2022-06-15T11:51:19.837170Z",
     "iopub.status.busy": "2022-06-15T11:51:19.836671Z",
     "iopub.status.idle": "2022-06-15T11:51:19.841360Z",
     "shell.execute_reply": "2022-06-15T11:51:19.840162Z"
    },
    "papermill": {
     "duration": 0.031762,
     "end_time": "2022-06-15T11:51:19.843481",
     "exception": false,
     "start_time": "2022-06-15T11:51:19.811719",
     "status": "completed"
    },
    "tags": []
   },
   "outputs": [],
   "source": [
    "# Perr[211]"
   ]
  },
  {
   "cell_type": "code",
   "execution_count": 35,
   "id": "67cff402",
   "metadata": {
    "execution": {
     "iopub.execute_input": "2022-06-15T11:51:19.893140Z",
     "iopub.status.busy": "2022-06-15T11:51:19.892468Z",
     "iopub.status.idle": "2022-06-15T11:51:19.895928Z",
     "shell.execute_reply": "2022-06-15T11:51:19.895284Z"
    },
    "papermill": {
     "duration": 0.03064,
     "end_time": "2022-06-15T11:51:19.897915",
     "exception": false,
     "start_time": "2022-06-15T11:51:19.867275",
     "status": "completed"
    },
    "tags": []
   },
   "outputs": [],
   "source": [
    "# NewPerson[218]"
   ]
  },
  {
   "cell_type": "code",
   "execution_count": 36,
   "id": "a77d060e",
   "metadata": {
    "execution": {
     "iopub.execute_input": "2022-06-15T11:51:19.949284Z",
     "iopub.status.busy": "2022-06-15T11:51:19.948904Z",
     "iopub.status.idle": "2022-06-15T11:51:19.952126Z",
     "shell.execute_reply": "2022-06-15T11:51:19.951462Z"
    },
    "papermill": {
     "duration": 0.032205,
     "end_time": "2022-06-15T11:51:19.954014",
     "exception": false,
     "start_time": "2022-06-15T11:51:19.921809",
     "status": "completed"
    },
    "tags": []
   },
   "outputs": [],
   "source": [
    "# Perr[218]"
   ]
  },
  {
   "cell_type": "code",
   "execution_count": 37,
   "id": "a304e6cd",
   "metadata": {
    "execution": {
     "iopub.execute_input": "2022-06-15T11:51:20.004469Z",
     "iopub.status.busy": "2022-06-15T11:51:20.003918Z",
     "iopub.status.idle": "2022-06-15T11:51:20.021394Z",
     "shell.execute_reply": "2022-06-15T11:51:20.020657Z"
    },
    "papermill": {
     "duration": 0.045483,
     "end_time": "2022-06-15T11:51:20.023885",
     "exception": false,
     "start_time": "2022-06-15T11:51:19.978402",
     "status": "completed"
    },
    "tags": []
   },
   "outputs": [],
   "source": [
    "NewPerson=[]\n",
    "for i in Personlarge:\n",
    "    p=[]\n",
    "    for j in i:\n",
    "        j=j.replace('.','')\n",
    "        j=j.replace('Oath','')\n",
    "        j=j.replace('Sworn','')\n",
    "        j=j.replace('Path of','')\n",
    "        j=j.replace('  ',' ')\n",
    "        p.append(j)\n",
    "    NewPerson.append(p)\n",
    "    \n",
    "        "
   ]
  },
  {
   "cell_type": "code",
   "execution_count": 38,
   "id": "b7aef81b",
   "metadata": {
    "execution": {
     "iopub.execute_input": "2022-06-15T11:51:20.074136Z",
     "iopub.status.busy": "2022-06-15T11:51:20.073567Z",
     "iopub.status.idle": "2022-06-15T11:51:20.078216Z",
     "shell.execute_reply": "2022-06-15T11:51:20.077618Z"
    },
    "papermill": {
     "duration": 0.032371,
     "end_time": "2022-06-15T11:51:20.080029",
     "exception": false,
     "start_time": "2022-06-15T11:51:20.047658",
     "status": "completed"
    },
    "tags": []
   },
   "outputs": [
    {
     "data": {
      "text/plain": [
       "2136"
      ]
     },
     "execution_count": 38,
     "metadata": {},
     "output_type": "execute_result"
    }
   ],
   "source": [
    "len(NewPerson)"
   ]
  },
  {
   "cell_type": "code",
   "execution_count": 39,
   "id": "e1bd1567",
   "metadata": {
    "execution": {
     "iopub.execute_input": "2022-06-15T11:51:20.130892Z",
     "iopub.status.busy": "2022-06-15T11:51:20.129661Z",
     "iopub.status.idle": "2022-06-15T11:51:20.140101Z",
     "shell.execute_reply": "2022-06-15T11:51:20.139340Z"
    },
    "papermill": {
     "duration": 0.03763,
     "end_time": "2022-06-15T11:51:20.142142",
     "exception": false,
     "start_time": "2022-06-15T11:51:20.104512",
     "status": "completed"
    },
    "tags": []
   },
   "outputs": [
    {
     "data": {
      "text/plain": [
       "9512"
      ]
     },
     "execution_count": 39,
     "metadata": {},
     "output_type": "execute_result"
    }
   ],
   "source": [
    "PL=[]\n",
    "for i in NewPerson:\n",
    "    for j in i:\n",
    "        PL.append(j)\n",
    "len(PL)"
   ]
  },
  {
   "cell_type": "markdown",
   "id": "2bebee13",
   "metadata": {
    "papermill": {
     "duration": 0.02375,
     "end_time": "2022-06-15T11:51:20.190322",
     "exception": false,
     "start_time": "2022-06-15T11:51:20.166572",
     "status": "completed"
    },
    "tags": []
   },
   "source": [
    "# removing outliers"
   ]
  },
  {
   "cell_type": "code",
   "execution_count": 40,
   "id": "8364809d",
   "metadata": {
    "execution": {
     "iopub.execute_input": "2022-06-15T11:51:20.240200Z",
     "iopub.status.busy": "2022-06-15T11:51:20.238935Z",
     "iopub.status.idle": "2022-06-15T11:51:20.245530Z",
     "shell.execute_reply": "2022-06-15T11:51:20.244755Z"
    },
    "papermill": {
     "duration": 0.033702,
     "end_time": "2022-06-15T11:51:20.247663",
     "exception": false,
     "start_time": "2022-06-15T11:51:20.213961",
     "status": "completed"
    },
    "tags": []
   },
   "outputs": [],
   "source": [
    "L=[\"God\",\"GOD\",\"god\",\"ANDREW JOHNSON\",\"AB\",\"CE\",\"andrew jonhson\",\"Justice of Peace\",\"Almighty God\",\"Andrew Johnson\",\"SE\",\"TD\",\"Jm\",\"I\",\"I J\",\"MW\",\"M\",\"JH\",\"JB\",\"WD\",\"JK\",\"J P\",\"C\",\"G\",\"HA\",\"J\",\"A\",\"F A\",\"DS\",\"CT\",\"RF\",'JE',\"Ashe\",\"JL\",\"H\",\"JP\",\"Mr\",\"Sworn\",\"sworn\",\"JF\",\"Bonnell\",\"B\",\"ER\",\"WHé\",\"JH\",\"JW\",\"F\",\"Wm\",\"W\",\"WF\"]"
   ]
  },
  {
   "cell_type": "code",
   "execution_count": 41,
   "id": "b6de868b",
   "metadata": {
    "execution": {
     "iopub.execute_input": "2022-06-15T11:51:20.300050Z",
     "iopub.status.busy": "2022-06-15T11:51:20.299216Z",
     "iopub.status.idle": "2022-06-15T11:51:20.312489Z",
     "shell.execute_reply": "2022-06-15T11:51:20.311553Z"
    },
    "papermill": {
     "duration": 0.043276,
     "end_time": "2022-06-15T11:51:20.314889",
     "exception": false,
     "start_time": "2022-06-15T11:51:20.271613",
     "status": "completed"
    },
    "tags": []
   },
   "outputs": [],
   "source": [
    "Per=[]\n",
    "for i in NewPerson:\n",
    "    p=[]\n",
    "    for j in i:\n",
    "        if j==\"Almighty\":\n",
    "            j=\"Almighty God\"\n",
    "        if j not in L:\n",
    "            p.append(j)\n",
    "        \n",
    "    Per.append(p)"
   ]
  },
  {
   "cell_type": "code",
   "execution_count": null,
   "id": "5c957281",
   "metadata": {
    "papermill": {
     "duration": 0.022978,
     "end_time": "2022-06-15T11:51:20.361573",
     "exception": false,
     "start_time": "2022-06-15T11:51:20.338595",
     "status": "completed"
    },
    "tags": []
   },
   "outputs": [],
   "source": []
  },
  {
   "cell_type": "code",
   "execution_count": 42,
   "id": "ceda67e4",
   "metadata": {
    "execution": {
     "iopub.execute_input": "2022-06-15T11:51:20.411263Z",
     "iopub.status.busy": "2022-06-15T11:51:20.410849Z",
     "iopub.status.idle": "2022-06-15T11:51:20.415785Z",
     "shell.execute_reply": "2022-06-15T11:51:20.415126Z"
    },
    "papermill": {
     "duration": 0.032605,
     "end_time": "2022-06-15T11:51:20.417714",
     "exception": false,
     "start_time": "2022-06-15T11:51:20.385109",
     "status": "completed"
    },
    "tags": []
   },
   "outputs": [
    {
     "data": {
      "text/plain": [
       "'United States of America I , Elizabeth W. Bonnell of Barnwell District State of South Carolina , solemnly swear affirm presence of Almighty God , I henceforth support defend Consitution of United States , service of States thereunder , I like manner abide support law proclamation made existing rebellion reference emancipation of slave help God . Elizabeth W Bonnell Subscribed sworn Blackville 21st day of October A.D. 1865 James E. Robinson Magst .'"
      ]
     },
     "execution_count": 42,
     "metadata": {},
     "output_type": "execute_result"
    }
   ],
   "source": [
    "all_text[1006]"
   ]
  },
  {
   "cell_type": "code",
   "execution_count": 43,
   "id": "6067c225",
   "metadata": {
    "execution": {
     "iopub.execute_input": "2022-06-15T11:51:20.466976Z",
     "iopub.status.busy": "2022-06-15T11:51:20.466374Z",
     "iopub.status.idle": "2022-06-15T11:51:20.471091Z",
     "shell.execute_reply": "2022-06-15T11:51:20.470496Z"
    },
    "papermill": {
     "duration": 0.031617,
     "end_time": "2022-06-15T11:51:20.472795",
     "exception": false,
     "start_time": "2022-06-15T11:51:20.441178",
     "status": "completed"
    },
    "tags": []
   },
   "outputs": [
    {
     "data": {
      "text/plain": [
       "['Elizabeth W Bonnell', 'Elizabeth W Bonnell', 'James E Robinson Magst']"
      ]
     },
     "execution_count": 43,
     "metadata": {},
     "output_type": "execute_result"
    }
   ],
   "source": [
    "Per[1006]"
   ]
  },
  {
   "cell_type": "code",
   "execution_count": 44,
   "id": "1a806f3e",
   "metadata": {
    "execution": {
     "iopub.execute_input": "2022-06-15T11:51:20.522591Z",
     "iopub.status.busy": "2022-06-15T11:51:20.521691Z",
     "iopub.status.idle": "2022-06-15T11:51:20.525715Z",
     "shell.execute_reply": "2022-06-15T11:51:20.525003Z"
    },
    "papermill": {
     "duration": 0.031315,
     "end_time": "2022-06-15T11:51:20.527713",
     "exception": false,
     "start_time": "2022-06-15T11:51:20.496398",
     "status": "completed"
    },
    "tags": []
   },
   "outputs": [],
   "source": [
    "# Perr[1006]"
   ]
  },
  {
   "cell_type": "code",
   "execution_count": 45,
   "id": "6fe2f638",
   "metadata": {
    "execution": {
     "iopub.execute_input": "2022-06-15T11:51:20.577572Z",
     "iopub.status.busy": "2022-06-15T11:51:20.576907Z",
     "iopub.status.idle": "2022-06-15T11:51:20.584451Z",
     "shell.execute_reply": "2022-06-15T11:51:20.583422Z"
    },
    "papermill": {
     "duration": 0.034556,
     "end_time": "2022-06-15T11:51:20.586312",
     "exception": false,
     "start_time": "2022-06-15T11:51:20.551756",
     "status": "completed"
    },
    "tags": []
   },
   "outputs": [
    {
     "data": {
      "text/plain": [
       "5683"
      ]
     },
     "execution_count": 45,
     "metadata": {},
     "output_type": "execute_result"
    }
   ],
   "source": [
    "PLl=[]\n",
    "for i in Per:\n",
    "    for j in i:\n",
    "        PLl.append(j)\n",
    "len(PLl)"
   ]
  },
  {
   "cell_type": "markdown",
   "id": "26d4ee68",
   "metadata": {
    "papermill": {
     "duration": 0.025202,
     "end_time": "2022-06-15T11:51:20.635570",
     "exception": false,
     "start_time": "2022-06-15T11:51:20.610368",
     "status": "completed"
    },
    "tags": []
   },
   "source": [
    "# removing redundant name"
   ]
  },
  {
   "cell_type": "code",
   "execution_count": 46,
   "id": "deed8a5e",
   "metadata": {
    "execution": {
     "iopub.execute_input": "2022-06-15T11:51:20.686923Z",
     "iopub.status.busy": "2022-06-15T11:51:20.685351Z",
     "iopub.status.idle": "2022-06-15T11:51:20.696340Z",
     "shell.execute_reply": "2022-06-15T11:51:20.695152Z"
    },
    "papermill": {
     "duration": 0.038464,
     "end_time": "2022-06-15T11:51:20.698496",
     "exception": false,
     "start_time": "2022-06-15T11:51:20.660032",
     "status": "completed"
    },
    "tags": []
   },
   "outputs": [],
   "source": [
    "def uniqueName(iterable):\n",
    "    seen = set()\n",
    "    result = []\n",
    "    for item in iterable:\n",
    "        if item not in seen:\n",
    "            seen.add(item)\n",
    "            result.append(item)\n",
    "    return result\n",
    "Perr=[]\n",
    "for i in Per:\n",
    "    i=uniqueName(i)\n",
    "    Perr.append(i)\n",
    "    "
   ]
  },
  {
   "cell_type": "code",
   "execution_count": 47,
   "id": "b3862635",
   "metadata": {
    "execution": {
     "iopub.execute_input": "2022-06-15T11:51:20.749542Z",
     "iopub.status.busy": "2022-06-15T11:51:20.749139Z",
     "iopub.status.idle": "2022-06-15T11:51:20.757117Z",
     "shell.execute_reply": "2022-06-15T11:51:20.756457Z"
    },
    "papermill": {
     "duration": 0.035335,
     "end_time": "2022-06-15T11:51:20.758883",
     "exception": false,
     "start_time": "2022-06-15T11:51:20.723548",
     "status": "completed"
    },
    "tags": []
   },
   "outputs": [
    {
     "data": {
      "text/plain": [
       "5318"
      ]
     },
     "execution_count": 47,
     "metadata": {},
     "output_type": "execute_result"
    }
   ],
   "source": [
    "PL=[]\n",
    "for i in Perr:\n",
    "    for j in i:\n",
    "        PL.append(j)\n",
    "len(PL)"
   ]
  },
  {
   "cell_type": "code",
   "execution_count": 48,
   "id": "186a320f",
   "metadata": {
    "execution": {
     "iopub.execute_input": "2022-06-15T11:51:20.809310Z",
     "iopub.status.busy": "2022-06-15T11:51:20.808615Z",
     "iopub.status.idle": "2022-06-15T11:51:20.818981Z",
     "shell.execute_reply": "2022-06-15T11:51:20.818161Z"
    },
    "papermill": {
     "duration": 0.037909,
     "end_time": "2022-06-15T11:51:20.820831",
     "exception": false,
     "start_time": "2022-06-15T11:51:20.782922",
     "status": "completed"
    },
    "tags": []
   },
   "outputs": [],
   "source": [
    "P=[]\n",
    "for i in Perr:\n",
    "    L=[]\n",
    "    for j in range(len(i)):\n",
    "        L.append(i[j].split())\n",
    "    P.append(L)\n"
   ]
  },
  {
   "cell_type": "code",
   "execution_count": 49,
   "id": "d5bc92b5",
   "metadata": {
    "execution": {
     "iopub.execute_input": "2022-06-15T11:51:20.870981Z",
     "iopub.status.busy": "2022-06-15T11:51:20.869878Z",
     "iopub.status.idle": "2022-06-15T11:51:20.879106Z",
     "shell.execute_reply": "2022-06-15T11:51:20.878387Z"
    },
    "papermill": {
     "duration": 0.036807,
     "end_time": "2022-06-15T11:51:20.881544",
     "exception": false,
     "start_time": "2022-06-15T11:51:20.844737",
     "status": "completed"
    },
    "tags": []
   },
   "outputs": [
    {
     "data": {
      "text/plain": [
       "[['John Bowers', 'John E Bowers', 'Levi Stuber'],\n",
       " ['J Cheesborough', 'Levi Stuber'],\n",
       " ['Wm H Gilliland', 'Levi Stuber'],\n",
       " ['WA Wardlaw', 'J Miller Thompson', 'Daniel Lesesne', 'B Eaton'],\n",
       " ['Levi Stuber', 'Thomas Bonnell'],\n",
       " ['John Bonnell', 'James E Robinson Magst'],\n",
       " ['Elizabeth W Bonnell', 'James E Robinson Magst'],\n",
       " ['Caroline B Bonnell', 'James E Robinson Magstr'],\n",
       " ['Wm S Lanneau', 'Wm S Lamreau', 'Levi Stuber'],\n",
       " ['Thomas Bonnell', 'Levi Stuber'],\n",
       " ['Mary J Lockwood', 'Laurens', 'J E Ashe', 'GOD '],\n",
       " ['Caroline L Lockwood', 'JE Ashe'],\n",
       " ['Jane B Lockwood', 'J W Lockwood', 'Laurens', 'JW Lockwood'],\n",
       " ['Lockwood', 'Levi Stuber', 'I J Lockwood', 'J Lockwood'],\n",
       " ['James Bancroft', 'Levi Stuber', 'Jas Bancroft'],\n",
       " ['Walter Blake', 'Johnsons', 'BF', 'Perry'],\n",
       " ['Adeline E Brisbane', 'A E Brisbane', 'O', 'Shepherd', 'GOD ', 'O Shepherd'],\n",
       " ['Regina M Baker', 'Levi Stuber'],\n",
       " ['Esther Lynch Bowman',\n",
       "  'EL Bowman',\n",
       "  'Sumter',\n",
       "  'So Carol',\n",
       "  'TB Johnston',\n",
       "  'E L Bowman'],\n",
       " ['James E Thuring', 'J E Thuring'],\n",
       " ['James E Thuring', 'J E Thuring', 'Fredk A Ford'],\n",
       " ['Isabella C Thuring', 'Fredk A Ford', 'Govr Perry'],\n",
       " ['Charles F Benson', 'Chas F Benson', 'Levi Stuber', 'Chas', 'F Benson'],\n",
       " ['Eliza M Bonneau', 'W Burgess', 'Sumter , So Carol'],\n",
       " ['Mary Evelina Bull', 'Fredk A Ford', 'Perry'],\n",
       " ['Edmund Bull', 'E Bull', 'Levi Stuber'],\n",
       " ['RM Butler', 'Levi Stuber'],\n",
       " ['M P Browning', 'Levi Stuber'],\n",
       " ['G L Fickett', 'RW', 'Barnwell', 'R W Barnwell', 'GL Fickett'],\n",
       " ['John G Barnwell', 'Frank Geise'],\n",
       " ['Sarah E Brown', 'B G Read'],\n",
       " ['S E Brown', 'Levi Stuber'],\n",
       " ['John L Bell', 'Jno L Bell', 'Frank Geise'],\n",
       " ['Caroline L Brown', 'Frank Geise'],\n",
       " ['Margaret Brown', 'Margaret E Brown', 'Frank Geise'],\n",
       " ['Edward Barnwell', 'Ed Barnwell', 'M Burgess', 'Frank Geise'],\n",
       " ['James P Boyce', 'William H Seward'],\n",
       " ['Benjamin F Perry', 'James P Boyce'],\n",
       " ['Jno A Buchmyer', 'John A Buchmyer', 'Archibald Bogh'],\n",
       " ['I T A Whitney', 'T A Whitney', 'Archibald Boyle'],\n",
       " ['John E Bowers', 'Archibald Bogle'],\n",
       " ['Alexander Bowie', 'Cook'],\n",
       " ['Eliza A Bowie', 'W P Cook'],\n",
       " ['James A Bowie', 'Jas A Bowie', 'WP Cook'],\n",
       " ['E M Clark', 'Frank Geise'],\n",
       " ['Levi Stuber', 'John P Clement', 'J P Clement'],\n",
       " ['M W Clement', 'Levi Stuber'],\n",
       " ['I J M Curtis', 'Jas M Curtis', 'J Milton Thompson'],\n",
       " ['James M Curtis'],\n",
       " ['A J Clark', 'AJ Clark', 'Frank Geise']]"
      ]
     },
     "execution_count": 49,
     "metadata": {},
     "output_type": "execute_result"
    }
   ],
   "source": [
    "Perr[1000:1050]"
   ]
  },
  {
   "cell_type": "code",
   "execution_count": 50,
   "id": "9ecf9d32",
   "metadata": {
    "execution": {
     "iopub.execute_input": "2022-06-15T11:51:20.932886Z",
     "iopub.status.busy": "2022-06-15T11:51:20.931979Z",
     "iopub.status.idle": "2022-06-15T11:51:20.938585Z",
     "shell.execute_reply": "2022-06-15T11:51:20.937480Z"
    },
    "papermill": {
     "duration": 0.034256,
     "end_time": "2022-06-15T11:51:20.940674",
     "exception": false,
     "start_time": "2022-06-15T11:51:20.906418",
     "status": "completed"
    },
    "tags": []
   },
   "outputs": [
    {
     "data": {
      "text/plain": [
       "['I C Meekins', 'Isaac C Meekins', 'E H Walker']"
      ]
     },
     "execution_count": 50,
     "metadata": {},
     "output_type": "execute_result"
    }
   ],
   "source": [
    "Perr[0]"
   ]
  },
  {
   "cell_type": "code",
   "execution_count": 51,
   "id": "b6c235e5",
   "metadata": {
    "execution": {
     "iopub.execute_input": "2022-06-15T11:51:20.992235Z",
     "iopub.status.busy": "2022-06-15T11:51:20.991288Z",
     "iopub.status.idle": "2022-06-15T11:51:20.997003Z",
     "shell.execute_reply": "2022-06-15T11:51:20.996138Z"
    },
    "papermill": {
     "duration": 0.033891,
     "end_time": "2022-06-15T11:51:20.999158",
     "exception": false,
     "start_time": "2022-06-15T11:51:20.965267",
     "status": "completed"
    },
    "tags": []
   },
   "outputs": [
    {
     "data": {
      "text/plain": [
       "[['John', 'Bowers'], ['John', 'E', 'Bowers'], ['Levi', 'Stuber']]"
      ]
     },
     "execution_count": 51,
     "metadata": {},
     "output_type": "execute_result"
    }
   ],
   "source": [
    "P[1000]"
   ]
  },
  {
   "cell_type": "code",
   "execution_count": 52,
   "id": "05744281",
   "metadata": {
    "execution": {
     "iopub.execute_input": "2022-06-15T11:51:21.049672Z",
     "iopub.status.busy": "2022-06-15T11:51:21.049304Z",
     "iopub.status.idle": "2022-06-15T11:51:21.054595Z",
     "shell.execute_reply": "2022-06-15T11:51:21.053941Z"
    },
    "papermill": {
     "duration": 0.032158,
     "end_time": "2022-06-15T11:51:21.056358",
     "exception": false,
     "start_time": "2022-06-15T11:51:21.024200",
     "status": "completed"
    },
    "tags": []
   },
   "outputs": [
    {
     "data": {
      "text/plain": [
       "[['I', 'C', 'Meekins'], ['Isaac', 'C', 'Meekins'], ['E', 'H', 'Walker']]"
      ]
     },
     "execution_count": 52,
     "metadata": {},
     "output_type": "execute_result"
    }
   ],
   "source": [
    "P[0]"
   ]
  },
  {
   "cell_type": "code",
   "execution_count": 53,
   "id": "4936f652",
   "metadata": {
    "execution": {
     "iopub.execute_input": "2022-06-15T11:51:21.107763Z",
     "iopub.status.busy": "2022-06-15T11:51:21.106535Z",
     "iopub.status.idle": "2022-06-15T11:51:21.113241Z",
     "shell.execute_reply": "2022-06-15T11:51:21.112243Z"
    },
    "papermill": {
     "duration": 0.034807,
     "end_time": "2022-06-15T11:51:21.115181",
     "exception": false,
     "start_time": "2022-06-15T11:51:21.080374",
     "status": "completed"
    },
    "tags": []
   },
   "outputs": [
    {
     "data": {
      "text/plain": [
       "[['Albert', 'C', 'Beals'], ['Jas', 'C', 'Davis']]"
      ]
     },
     "execution_count": 53,
     "metadata": {},
     "output_type": "execute_result"
    }
   ],
   "source": [
    "P[50]"
   ]
  },
  {
   "cell_type": "code",
   "execution_count": 54,
   "id": "64e32583",
   "metadata": {
    "execution": {
     "iopub.execute_input": "2022-06-15T11:51:21.166379Z",
     "iopub.status.busy": "2022-06-15T11:51:21.165678Z",
     "iopub.status.idle": "2022-06-15T11:51:21.171418Z",
     "shell.execute_reply": "2022-06-15T11:51:21.170554Z"
    },
    "papermill": {
     "duration": 0.033624,
     "end_time": "2022-06-15T11:51:21.173522",
     "exception": false,
     "start_time": "2022-06-15T11:51:21.139898",
     "status": "completed"
    },
    "tags": []
   },
   "outputs": [
    {
     "data": {
      "text/plain": [
       "[['John', 'Bowers'], ['John', 'E', 'Bowers'], ['Levi', 'Stuber']]"
      ]
     },
     "execution_count": 54,
     "metadata": {},
     "output_type": "execute_result"
    }
   ],
   "source": [
    "P[1000]"
   ]
  },
  {
   "cell_type": "code",
   "execution_count": 55,
   "id": "670af49a",
   "metadata": {
    "execution": {
     "iopub.execute_input": "2022-06-15T11:51:21.223905Z",
     "iopub.status.busy": "2022-06-15T11:51:21.223519Z",
     "iopub.status.idle": "2022-06-15T11:51:21.228092Z",
     "shell.execute_reply": "2022-06-15T11:51:21.227406Z"
    },
    "papermill": {
     "duration": 0.032021,
     "end_time": "2022-06-15T11:51:21.230252",
     "exception": false,
     "start_time": "2022-06-15T11:51:21.198231",
     "status": "completed"
    },
    "tags": []
   },
   "outputs": [],
   "source": [
    "l=[[['I', 'C', 'Meekins'], ['Isaac', 'C', 'Meekins'], ['E', 'H', 'Walker']],[['John', 'Bowers'], ['John', 'E', 'Bowers'], ['Levi', 'Stuber']]]"
   ]
  },
  {
   "cell_type": "code",
   "execution_count": 56,
   "id": "fbf5a33a",
   "metadata": {
    "execution": {
     "iopub.execute_input": "2022-06-15T11:51:21.280989Z",
     "iopub.status.busy": "2022-06-15T11:51:21.280433Z",
     "iopub.status.idle": "2022-06-15T11:51:21.283755Z",
     "shell.execute_reply": "2022-06-15T11:51:21.283122Z"
    },
    "papermill": {
     "duration": 0.030968,
     "end_time": "2022-06-15T11:51:21.285720",
     "exception": false,
     "start_time": "2022-06-15T11:51:21.254752",
     "status": "completed"
    },
    "tags": []
   },
   "outputs": [],
   "source": [
    "# fiPer=[]\n",
    "# for i in l:\n",
    "   \n",
    "#     L=[]\n",
    "#     for j in range(len(i)-1):\n",
    "#         if ((i[j][0]==i[j+1][0]) & (i[j][len(i[j])]==i[j+1][len(i[j])])) |(i[j][0]==i[j+1][0]):\n",
    "#                 continue\n",
    "#         L.append(i[j])\n",
    "#     fiPer.append(L)"
   ]
  },
  {
   "cell_type": "code",
   "execution_count": 57,
   "id": "b2af90c1",
   "metadata": {
    "execution": {
     "iopub.execute_input": "2022-06-15T11:51:21.335799Z",
     "iopub.status.busy": "2022-06-15T11:51:21.335230Z",
     "iopub.status.idle": "2022-06-15T11:51:21.338398Z",
     "shell.execute_reply": "2022-06-15T11:51:21.337792Z"
    },
    "papermill": {
     "duration": 0.030339,
     "end_time": "2022-06-15T11:51:21.340334",
     "exception": false,
     "start_time": "2022-06-15T11:51:21.309995",
     "status": "completed"
    },
    "tags": []
   },
   "outputs": [],
   "source": [
    "# fiPer"
   ]
  },
  {
   "cell_type": "code",
   "execution_count": 58,
   "id": "21fc7872",
   "metadata": {
    "execution": {
     "iopub.execute_input": "2022-06-15T11:51:21.390824Z",
     "iopub.status.busy": "2022-06-15T11:51:21.390405Z",
     "iopub.status.idle": "2022-06-15T11:51:21.395147Z",
     "shell.execute_reply": "2022-06-15T11:51:21.394222Z"
    },
    "papermill": {
     "duration": 0.032072,
     "end_time": "2022-06-15T11:51:21.397016",
     "exception": false,
     "start_time": "2022-06-15T11:51:21.364944",
     "status": "completed"
    },
    "tags": []
   },
   "outputs": [],
   "source": [
    "# fiPer=[]\n",
    "# for i in l:\n",
    "   \n",
    "#     L=[]\n",
    "#     for j in range(len(i)):\n",
    "#         if ((i[j][0]==i[j+1][0]) & (i[j][len(i[j])-1]==i[j+1][len(i[j])-1])) | (i[j][0]==i[j+1][0]):\n",
    "#                  print(i[j])\n",
    "\n",
    "        \n",
    "                \n",
    "                \n",
    "            \n",
    "        \n",
    "        "
   ]
  },
  {
   "cell_type": "code",
   "execution_count": null,
   "id": "79432209",
   "metadata": {
    "papermill": {
     "duration": 0.024166,
     "end_time": "2022-06-15T11:51:21.446052",
     "exception": false,
     "start_time": "2022-06-15T11:51:21.421886",
     "status": "completed"
    },
    "tags": []
   },
   "outputs": [],
   "source": []
  },
  {
   "cell_type": "markdown",
   "id": "16f2694b",
   "metadata": {
    "papermill": {
     "duration": 0.025274,
     "end_time": "2022-06-15T11:51:21.495704",
     "exception": false,
     "start_time": "2022-06-15T11:51:21.470430",
     "status": "completed"
    },
    "tags": []
   },
   "source": [
    "##### "
   ]
  }
 ],
 "metadata": {
  "kernelspec": {
   "display_name": "Python 3",
   "language": "python",
   "name": "python3"
  },
  "language_info": {
   "codemirror_mode": {
    "name": "ipython",
    "version": 3
   },
   "file_extension": ".py",
   "mimetype": "text/x-python",
   "name": "python",
   "nbconvert_exporter": "python",
   "pygments_lexer": "ipython3",
   "version": "3.7.12"
  },
  "papermill": {
   "default_parameters": {},
   "duration": 95.863932,
   "end_time": "2022-06-15T11:51:24.141047",
   "environment_variables": {},
   "exception": null,
   "input_path": "__notebook__.ipynb",
   "output_path": "__notebook__.ipynb",
   "parameters": {},
   "start_time": "2022-06-15T11:49:48.277115",
   "version": "2.3.4"
  }
 },
 "nbformat": 4,
 "nbformat_minor": 5
}
