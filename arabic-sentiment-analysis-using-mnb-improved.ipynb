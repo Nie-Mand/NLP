{
 "cells": [
  {
   "cell_type": "code",
   "execution_count": 1,
   "id": "female-albuquerque",
   "metadata": {
    "execution": {
     "iopub.execute_input": "2022-05-15T02:03:55.700773Z",
     "iopub.status.busy": "2022-05-15T02:03:55.699222Z",
     "iopub.status.idle": "2022-05-15T02:03:55.712259Z",
     "shell.execute_reply": "2022-05-15T02:03:55.711632Z",
     "shell.execute_reply.started": "2022-05-15T01:54:02.266811Z"
    },
    "papermill": {
     "duration": 0.04938,
     "end_time": "2022-05-15T02:03:55.712418",
     "exception": false,
     "start_time": "2022-05-15T02:03:55.663038",
     "status": "completed"
    },
    "tags": []
   },
   "outputs": [],
   "source": [
    "import os\n",
    "import re\n",
    "from tqdm import tqdm\n",
    "import numpy as np\n",
    "import pandas as pd\n",
    "import matplotlib.pyplot as plt\n",
    "import csv\n",
    "\n",
    "%matplotlib inline"
   ]
  },
  {
   "cell_type": "code",
   "execution_count": 2,
   "id": "english-clinton",
   "metadata": {
    "execution": {
     "iopub.execute_input": "2022-05-15T02:03:55.787992Z",
     "iopub.status.busy": "2022-05-15T02:03:55.787346Z",
     "iopub.status.idle": "2022-05-15T02:03:56.992123Z",
     "shell.execute_reply": "2022-05-15T02:03:56.993369Z",
     "shell.execute_reply.started": "2022-05-15T01:54:02.275300Z"
    },
    "papermill": {
     "duration": 1.25143,
     "end_time": "2022-05-15T02:03:56.993620",
     "exception": false,
     "start_time": "2022-05-15T02:03:55.742190",
     "status": "completed"
    },
    "tags": []
   },
   "outputs": [],
   "source": [
    "pd.set_option('display.max_colwidth', 280)\n",
    "train_neg = pd.read_csv(\"../input/arabic-sentiment-twitter-corpus/train_Arabic_tweets_negative_20190413.tsv\", sep=\"\\t\", header=None,  quoting=csv.QUOTE_NONE)\n",
    "train_neg.rename(columns={0:'label', 1:'tweet'}, inplace=True)\n",
    "train_neg['label'] = 0\n",
    "\n",
    "train_pos = pd.read_csv(\"../input/arabic-sentiment-twitter-corpus/train_Arabic_tweets_positive_20190413.tsv\", sep=\"\\t\", header=None,  quoting=csv.QUOTE_NONE)\n",
    "train_pos.rename(columns={0:'label', 1:'tweet'}, inplace=True)\n",
    "train_pos['label'] = 1\n",
    "\n",
    "\n",
    "train_df = pd.concat([train_neg, train_pos], axis=0).reset_index(drop=True)\n",
    "\n",
    "\n",
    "from sklearn.model_selection import train_test_split\n",
    "X = train_df.tweet.values\n",
    "y = train_df.label.values\n",
    "\n",
    "# The train val split is used by the DL approach but not classical ML\n",
    "X_train, X_val, y_train, y_val = train_test_split(X,y,test_size=0.1, random_state=2020)\n",
    "# Load test subset\n",
    "test_pos = pd.read_csv(\"../input/arabic-sentiment-twitter-corpus/test_Arabic_tweets_positive_20190413.tsv\", sep=\"\\t\", header=None,  quoting=csv.QUOTE_NONE)\n",
    "test_pos.rename(columns={0:'label', 1:'tweet'}, inplace=True)\n",
    "test_pos['label']=1\n",
    "\n",
    "test_neg = pd.read_csv(\"../input/arabic-sentiment-twitter-corpus/test_Arabic_tweets_negative_20190413.tsv\", sep=\"\\t\", header=None,  quoting=csv.QUOTE_NONE)\n",
    "test_neg.rename(columns={0:'label', 1:'tweet'}, inplace=True)\n",
    "test_neg['label']=0\n",
    "\n",
    "test_df = pd.concat([test_neg, test_pos], axis=0).reset_index(drop=True)\n",
    "X_test = test_df.tweet.values\n",
    "y_test = test_df.label.values"
   ]
  },
  {
   "cell_type": "code",
   "execution_count": 3,
   "id": "tender-storm",
   "metadata": {
    "execution": {
     "iopub.execute_input": "2022-05-15T02:03:57.115252Z",
     "iopub.status.busy": "2022-05-15T02:03:57.114477Z",
     "iopub.status.idle": "2022-05-15T02:03:57.133271Z",
     "shell.execute_reply": "2022-05-15T02:03:57.133812Z",
     "shell.execute_reply.started": "2022-05-15T01:54:02.405582Z"
    },
    "papermill": {
     "duration": 0.076694,
     "end_time": "2022-05-15T02:03:57.134053",
     "exception": false,
     "start_time": "2022-05-15T02:03:57.057359",
     "status": "completed"
    },
    "tags": []
   },
   "outputs": [
    {
     "data": {
      "text/html": [
       "<div>\n",
       "<style scoped>\n",
       "    .dataframe tbody tr th:only-of-type {\n",
       "        vertical-align: middle;\n",
       "    }\n",
       "\n",
       "    .dataframe tbody tr th {\n",
       "        vertical-align: top;\n",
       "    }\n",
       "\n",
       "    .dataframe thead th {\n",
       "        text-align: right;\n",
       "    }\n",
       "</style>\n",
       "<table border=\"1\" class=\"dataframe\">\n",
       "  <thead>\n",
       "    <tr style=\"text-align: right;\">\n",
       "      <th></th>\n",
       "      <th>label</th>\n",
       "      <th>tweet</th>\n",
       "    </tr>\n",
       "  </thead>\n",
       "  <tbody>\n",
       "    <tr>\n",
       "      <th>0</th>\n",
       "      <td>0</td>\n",
       "      <td>اعترف ان بتس كانو شوي شوي يجيبو راسي لكن اليوم بالزايد 😭</td>\n",
       "    </tr>\n",
       "    <tr>\n",
       "      <th>1</th>\n",
       "      <td>0</td>\n",
       "      <td>توقعت اذا جات داريا بشوفهم كاملين بس لي للحين احس فيه احد ناقصهم 💔 #Avlu</td>\n",
       "    </tr>\n",
       "    <tr>\n",
       "      <th>2</th>\n",
       "      <td>0</td>\n",
       "      <td>#الاهلي_الهلال اكتب توقعك لنتيجة لقاء الهلال والاهلي تحت التاق 👇 #تحدي_اسرع_روقان وادخل في سحب قيمة ايفون X على…</td>\n",
       "    </tr>\n",
       "    <tr>\n",
       "      <th>3</th>\n",
       "      <td>0</td>\n",
       "      <td>نعمة المضادات الحيوية . تضع قطرة💧مضاد بنسلين على بكتيريا 🦠 فتنفجر 💥 و تموت . الأخيرة يبدو انها بكتيريا مقاومة فأخذ…</td>\n",
       "    </tr>\n",
       "    <tr>\n",
       "      <th>4</th>\n",
       "      <td>0</td>\n",
       "      <td>الدودو جايه تكمل علي 💔</td>\n",
       "    </tr>\n",
       "  </tbody>\n",
       "</table>\n",
       "</div>"
      ],
      "text/plain": [
       "   label  \\\n",
       "0      0   \n",
       "1      0   \n",
       "2      0   \n",
       "3      0   \n",
       "4      0   \n",
       "\n",
       "                                                                                                                 tweet  \n",
       "0                                                             اعترف ان بتس كانو شوي شوي يجيبو راسي لكن اليوم بالزايد 😭  \n",
       "1                                             توقعت اذا جات داريا بشوفهم كاملين بس لي للحين احس فيه احد ناقصهم 💔 #Avlu  \n",
       "2     #الاهلي_الهلال اكتب توقعك لنتيجة لقاء الهلال والاهلي تحت التاق 👇 #تحدي_اسرع_روقان وادخل في سحب قيمة ايفون X على…  \n",
       "3  نعمة المضادات الحيوية . تضع قطرة💧مضاد بنسلين على بكتيريا 🦠 فتنفجر 💥 و تموت . الأخيرة يبدو انها بكتيريا مقاومة فأخذ…  \n",
       "4                                                                                               الدودو جايه تكمل علي 💔  "
      ]
     },
     "execution_count": 3,
     "metadata": {},
     "output_type": "execute_result"
    }
   ],
   "source": [
    "train_df.head()"
   ]
  },
  {
   "cell_type": "code",
   "execution_count": 4,
   "id": "intelligent-supervisor",
   "metadata": {
    "execution": {
     "iopub.execute_input": "2022-05-15T02:03:57.241737Z",
     "iopub.status.busy": "2022-05-15T02:03:57.239953Z",
     "iopub.status.idle": "2022-05-15T02:03:57.245102Z",
     "shell.execute_reply": "2022-05-15T02:03:57.244340Z",
     "shell.execute_reply.started": "2022-05-15T01:54:02.418032Z"
    },
    "papermill": {
     "duration": 0.062204,
     "end_time": "2022-05-15T02:03:57.245278",
     "exception": false,
     "start_time": "2022-05-15T02:03:57.183074",
     "status": "completed"
    },
    "tags": []
   },
   "outputs": [
    {
     "data": {
      "text/plain": [
       "(47000, 2)"
      ]
     },
     "execution_count": 4,
     "metadata": {},
     "output_type": "execute_result"
    }
   ],
   "source": [
    "train_df.shape"
   ]
  },
  {
   "cell_type": "code",
   "execution_count": 5,
   "id": "directed-matter",
   "metadata": {
    "execution": {
     "iopub.execute_input": "2022-05-15T02:03:57.355731Z",
     "iopub.status.busy": "2022-05-15T02:03:57.354645Z",
     "iopub.status.idle": "2022-05-15T02:03:57.401092Z",
     "shell.execute_reply": "2022-05-15T02:03:57.400279Z",
     "shell.execute_reply.started": "2022-05-15T01:54:02.425609Z"
    },
    "papermill": {
     "duration": 0.105724,
     "end_time": "2022-05-15T02:03:57.401282",
     "exception": false,
     "start_time": "2022-05-15T02:03:57.295558",
     "status": "completed"
    },
    "tags": []
   },
   "outputs": [],
   "source": [
    "df_ss2030 = pd.read_csv(\"../input/arabic-sentiment-analysis-dataset-ss2030-dataset/Arabic Sentiment Analysis Dataset - SS2030.csv\")\n",
    "# Rename columns to match convention\n",
    "df_ss2030 = df_ss2030.rename(columns = {\"text\":\"tweet\", \"Sentiment\": \"label\"})"
   ]
  },
  {
   "cell_type": "code",
   "execution_count": 6,
   "id": "suffering-halifax",
   "metadata": {
    "execution": {
     "iopub.execute_input": "2022-05-15T02:03:57.518687Z",
     "iopub.status.busy": "2022-05-15T02:03:57.517008Z",
     "iopub.status.idle": "2022-05-15T02:03:57.527000Z",
     "shell.execute_reply": "2022-05-15T02:03:57.527898Z",
     "shell.execute_reply.started": "2022-05-15T01:54:02.452221Z"
    },
    "papermill": {
     "duration": 0.07469,
     "end_time": "2022-05-15T02:03:57.528154",
     "exception": false,
     "start_time": "2022-05-15T02:03:57.453464",
     "status": "completed"
    },
    "tags": []
   },
   "outputs": [
    {
     "data": {
      "text/html": [
       "<div>\n",
       "<style scoped>\n",
       "    .dataframe tbody tr th:only-of-type {\n",
       "        vertical-align: middle;\n",
       "    }\n",
       "\n",
       "    .dataframe tbody tr th {\n",
       "        vertical-align: top;\n",
       "    }\n",
       "\n",
       "    .dataframe thead th {\n",
       "        text-align: right;\n",
       "    }\n",
       "</style>\n",
       "<table border=\"1\" class=\"dataframe\">\n",
       "  <thead>\n",
       "    <tr style=\"text-align: right;\">\n",
       "      <th></th>\n",
       "      <th>tweet</th>\n",
       "      <th>label</th>\n",
       "    </tr>\n",
       "  </thead>\n",
       "  <tbody>\n",
       "    <tr>\n",
       "      <th>0</th>\n",
       "      <td>حقوق المرأة 💚💚💚 https://t.co/Mzf90Ta5g1</td>\n",
       "      <td>1</td>\n",
       "    </tr>\n",
       "    <tr>\n",
       "      <th>1</th>\n",
       "      <td>RT @___IHAVENOIDEA: حقوق المرأة في الإسلام. https://t.co/ps3qNw1CbB</td>\n",
       "      <td>1</td>\n",
       "    </tr>\n",
       "    <tr>\n",
       "      <th>2</th>\n",
       "      <td>RT @saud_talep: Retweeted لجنة التنمية بشبرا (@Shubratanmyeh):\\n \\n ما زال التسجيل مستمر في دورة حقوق المرأة بعد الطلاق ✨ #وعيك_يحميك... https://t.co/c2NXzNCdLU</td>\n",
       "      <td>1</td>\n",
       "    </tr>\n",
       "    <tr>\n",
       "      <th>3</th>\n",
       "      <td>RT @MojKsa: حقوق المرأة التي تضمنها لها وزارة العدل https://t.co/QUGzWwubFk</td>\n",
       "      <td>1</td>\n",
       "    </tr>\n",
       "    <tr>\n",
       "      <th>4</th>\n",
       "      <td>RT @abm112211: ولي امر الزوجة او ولي الزوجة او ولي المراة من الاخطاء الشائعة \\n \\n  هذا الكلام غلط في الشريعة والقانون\\n فلا يوجد ولي للزوجة او المراة الا اذا كانت قاصرا ويكون الولي ابوها ...الخ وليس الزوج منهم\\n نعم له حقوق عليها لكنها ليست ولاية\\n الولاية مصطلح فقهي قانوني ...</td>\n",
       "      <td>1</td>\n",
       "    </tr>\n",
       "  </tbody>\n",
       "</table>\n",
       "</div>"
      ],
      "text/plain": [
       "                                                                                                                                                                                                                                                                                     tweet  \\\n",
       "0                                                                                                                                                                                                                                                  حقوق المرأة 💚💚💚 https://t.co/Mzf90Ta5g1   \n",
       "1                                                                                                                                                                                                                      RT @___IHAVENOIDEA: حقوق المرأة في الإسلام. https://t.co/ps3qNw1CbB   \n",
       "2                                                                                                                         RT @saud_talep: Retweeted لجنة التنمية بشبرا (@Shubratanmyeh):\\n \\n ما زال التسجيل مستمر في دورة حقوق المرأة بعد الطلاق ✨ #وعيك_يحميك... https://t.co/c2NXzNCdLU   \n",
       "3                                                                                                                                                                                                              RT @MojKsa: حقوق المرأة التي تضمنها لها وزارة العدل https://t.co/QUGzWwubFk   \n",
       "4  RT @abm112211: ولي امر الزوجة او ولي الزوجة او ولي المراة من الاخطاء الشائعة \\n \\n  هذا الكلام غلط في الشريعة والقانون\\n فلا يوجد ولي للزوجة او المراة الا اذا كانت قاصرا ويكون الولي ابوها ...الخ وليس الزوج منهم\\n نعم له حقوق عليها لكنها ليست ولاية\\n الولاية مصطلح فقهي قانوني ...   \n",
       "\n",
       "   label  \n",
       "0      1  \n",
       "1      1  \n",
       "2      1  \n",
       "3      1  \n",
       "4      1  "
      ]
     },
     "execution_count": 6,
     "metadata": {},
     "output_type": "execute_result"
    }
   ],
   "source": [
    "df_ss2030.head()"
   ]
  },
  {
   "cell_type": "code",
   "execution_count": 7,
   "id": "round-creek",
   "metadata": {
    "execution": {
     "iopub.execute_input": "2022-05-15T02:03:57.624488Z",
     "iopub.status.busy": "2022-05-15T02:03:57.623476Z",
     "iopub.status.idle": "2022-05-15T02:03:57.627259Z",
     "shell.execute_reply": "2022-05-15T02:03:57.627754Z",
     "shell.execute_reply.started": "2022-05-15T01:54:02.462842Z"
    },
    "papermill": {
     "duration": 0.048217,
     "end_time": "2022-05-15T02:03:57.627927",
     "exception": false,
     "start_time": "2022-05-15T02:03:57.579710",
     "status": "completed"
    },
    "tags": []
   },
   "outputs": [
    {
     "data": {
      "text/plain": [
       "(4252, 2)"
      ]
     },
     "execution_count": 7,
     "metadata": {},
     "output_type": "execute_result"
    }
   ],
   "source": [
    "df_ss2030.shape"
   ]
  },
  {
   "cell_type": "code",
   "execution_count": 8,
   "id": "basic-bronze",
   "metadata": {
    "execution": {
     "iopub.execute_input": "2022-05-15T02:03:57.701592Z",
     "iopub.status.busy": "2022-05-15T02:03:57.700898Z",
     "iopub.status.idle": "2022-05-15T02:03:58.975670Z",
     "shell.execute_reply": "2022-05-15T02:03:58.975117Z",
     "shell.execute_reply.started": "2022-05-15T01:54:02.474230Z"
    },
    "papermill": {
     "duration": 1.316301,
     "end_time": "2022-05-15T02:03:58.975843",
     "exception": false,
     "start_time": "2022-05-15T02:03:57.659542",
     "status": "completed"
    },
    "tags": []
   },
   "outputs": [],
   "source": [
    "df_reviews = pd.read_csv(\"../input/arabic-100k-reviews/ar_reviews_100k.tsv\", delimiter=\"\\t\")\n",
    "# Create a mapping for the labels such that we use the same convention across all datasets\n",
    "label_mapping = {\"Positive\": 1, \"Negative\":0}\n",
    "# Filter to only have pos and neg tweets, i.e: remove mixed tweets\n",
    "df_reviews = df_reviews[df_reviews.label != \"Mixed\"]\n",
    "df_reviews[\"label\"] = df_reviews[\"label\"].map(label_mapping)\n",
    "# Rename columns to match convention\n",
    "df_reviews = df_reviews.rename(columns = {\"text\":\"tweet\"})"
   ]
  },
  {
   "cell_type": "code",
   "execution_count": 9,
   "id": "hybrid-lighter",
   "metadata": {
    "execution": {
     "iopub.execute_input": "2022-05-15T02:03:59.052763Z",
     "iopub.status.busy": "2022-05-15T02:03:59.052080Z",
     "iopub.status.idle": "2022-05-15T02:03:59.058064Z",
     "shell.execute_reply": "2022-05-15T02:03:59.057544Z",
     "shell.execute_reply.started": "2022-05-15T01:54:03.053990Z"
    },
    "papermill": {
     "duration": 0.04819,
     "end_time": "2022-05-15T02:03:59.058201",
     "exception": false,
     "start_time": "2022-05-15T02:03:59.010011",
     "status": "completed"
    },
    "tags": []
   },
   "outputs": [
    {
     "data": {
      "text/html": [
       "<div>\n",
       "<style scoped>\n",
       "    .dataframe tbody tr th:only-of-type {\n",
       "        vertical-align: middle;\n",
       "    }\n",
       "\n",
       "    .dataframe tbody tr th {\n",
       "        vertical-align: top;\n",
       "    }\n",
       "\n",
       "    .dataframe thead th {\n",
       "        text-align: right;\n",
       "    }\n",
       "</style>\n",
       "<table border=\"1\" class=\"dataframe\">\n",
       "  <thead>\n",
       "    <tr style=\"text-align: right;\">\n",
       "      <th></th>\n",
       "      <th>label</th>\n",
       "      <th>tweet</th>\n",
       "    </tr>\n",
       "  </thead>\n",
       "  <tbody>\n",
       "    <tr>\n",
       "      <th>0</th>\n",
       "      <td>1</td>\n",
       "      <td>ممتاز نوعا ما . النظافة والموقع والتجهيز والشاطيء. المطعم</td>\n",
       "    </tr>\n",
       "    <tr>\n",
       "      <th>1</th>\n",
       "      <td>1</td>\n",
       "      <td>أحد أسباب نجاح الإمارات أن كل شخص في هذه الدولة يعشق ترابها. نحن نحب الإمارات. ومضات من فكر. نصائح لدولة تطمح بالصفوف الأولى و قائد لا يقبل إلا براحة شعبه وتوفر كل سب العيش الكريم. حكم و مواقف ونصائح لكل فرد فينا ليس بمجرد كتاب سياسي كما كنت اعتقد. يستحق القراءة مرات كثيرة</td>\n",
       "    </tr>\n",
       "    <tr>\n",
       "      <th>2</th>\n",
       "      <td>1</td>\n",
       "      <td>هادفة .. وقوية. تنقلك من صخب شوارع القاهرة الى هدوء جبال الشيشان .. للتعرف على حقيقة ما يجرى فى تلك البلاد من حروب ضاربة بحق المسلمين و جزء كبير من تاريخ تلك المنطقة. التضحية .. الرجولة .. الوفاء والكثير من القيم الأخرى اثبتت وجودها فى تلك الرواية البسيطة</td>\n",
       "    </tr>\n",
       "    <tr>\n",
       "      <th>3</th>\n",
       "      <td>1</td>\n",
       "      <td>خلصنا .. مبدئيا اللي مستني ابهار زي الفيل الازرق ميقراش احسن.. احمد مراد تخطى مرحلة ان القارئ يخلص الرواية وهو فاتح بؤه لمرحلة ان القارئ يخلص الرواية وهو محترم الكاتب.. اتقان مخيف.. بصرف النظر عن اخطاء لا تذكر ف الحوار.. انما احمد مراد سافر عاش حبة ف اوائل القرن العشرين وجه ي...</td>\n",
       "    </tr>\n",
       "    <tr>\n",
       "      <th>4</th>\n",
       "      <td>1</td>\n",
       "      <td>ياسات جلوريا جزء لا يتجزأ من دبي . فندق متكامل الخدمات مريح نفسيا. لا يوجد</td>\n",
       "    </tr>\n",
       "  </tbody>\n",
       "</table>\n",
       "</div>"
      ],
      "text/plain": [
       "   label  \\\n",
       "0      1   \n",
       "1      1   \n",
       "2      1   \n",
       "3      1   \n",
       "4      1   \n",
       "\n",
       "                                                                                                                                                                                                                                                                                     tweet  \n",
       "0                                                                                                                                                                                                                                ممتاز نوعا ما . النظافة والموقع والتجهيز والشاطيء. المطعم  \n",
       "1        أحد أسباب نجاح الإمارات أن كل شخص في هذه الدولة يعشق ترابها. نحن نحب الإمارات. ومضات من فكر. نصائح لدولة تطمح بالصفوف الأولى و قائد لا يقبل إلا براحة شعبه وتوفر كل سب العيش الكريم. حكم و مواقف ونصائح لكل فرد فينا ليس بمجرد كتاب سياسي كما كنت اعتقد. يستحق القراءة مرات كثيرة  \n",
       "2                          هادفة .. وقوية. تنقلك من صخب شوارع القاهرة الى هدوء جبال الشيشان .. للتعرف على حقيقة ما يجرى فى تلك البلاد من حروب ضاربة بحق المسلمين و جزء كبير من تاريخ تلك المنطقة. التضحية .. الرجولة .. الوفاء والكثير من القيم الأخرى اثبتت وجودها فى تلك الرواية البسيطة  \n",
       "3  خلصنا .. مبدئيا اللي مستني ابهار زي الفيل الازرق ميقراش احسن.. احمد مراد تخطى مرحلة ان القارئ يخلص الرواية وهو فاتح بؤه لمرحلة ان القارئ يخلص الرواية وهو محترم الكاتب.. اتقان مخيف.. بصرف النظر عن اخطاء لا تذكر ف الحوار.. انما احمد مراد سافر عاش حبة ف اوائل القرن العشرين وجه ي...  \n",
       "4                                                                                                                                                                                                               ياسات جلوريا جزء لا يتجزأ من دبي . فندق متكامل الخدمات مريح نفسيا. لا يوجد  "
      ]
     },
     "execution_count": 9,
     "metadata": {},
     "output_type": "execute_result"
    }
   ],
   "source": [
    "df_reviews.head()"
   ]
  },
  {
   "cell_type": "code",
   "execution_count": 10,
   "id": "small-harvest",
   "metadata": {
    "execution": {
     "iopub.execute_input": "2022-05-15T02:03:59.129583Z",
     "iopub.status.busy": "2022-05-15T02:03:59.128629Z",
     "iopub.status.idle": "2022-05-15T02:03:59.133819Z",
     "shell.execute_reply": "2022-05-15T02:03:59.133318Z",
     "shell.execute_reply.started": "2022-05-15T01:54:03.066438Z"
    },
    "papermill": {
     "duration": 0.042553,
     "end_time": "2022-05-15T02:03:59.133986",
     "exception": false,
     "start_time": "2022-05-15T02:03:59.091433",
     "status": "completed"
    },
    "tags": []
   },
   "outputs": [
    {
     "data": {
      "text/plain": [
       "(66666, 2)"
      ]
     },
     "execution_count": 10,
     "metadata": {},
     "output_type": "execute_result"
    }
   ],
   "source": [
    "df_reviews.shape"
   ]
  },
  {
   "cell_type": "code",
   "execution_count": 11,
   "id": "distinct-country",
   "metadata": {
    "execution": {
     "iopub.execute_input": "2022-05-15T02:03:59.207929Z",
     "iopub.status.busy": "2022-05-15T02:03:59.207168Z",
     "iopub.status.idle": "2022-05-15T02:03:59.225842Z",
     "shell.execute_reply": "2022-05-15T02:03:59.225280Z",
     "shell.execute_reply.started": "2022-05-15T01:54:03.074311Z"
    },
    "papermill": {
     "duration": 0.058542,
     "end_time": "2022-05-15T02:03:59.226026",
     "exception": false,
     "start_time": "2022-05-15T02:03:59.167484",
     "status": "completed"
    },
    "tags": []
   },
   "outputs": [],
   "source": [
    "# Helper functions \n",
    "from sklearn.feature_extraction.text import CountVectorizer\n",
    "from sklearn.feature_extraction.text import TfidfTransformer\n",
    "from sklearn.pipeline import Pipeline\n",
    "def train_model(model, data, targets):\n",
    "    text_clf = Pipeline([\n",
    "    ('vect', CountVectorizer()),\n",
    "    ('tfidf', TfidfTransformer()),\n",
    "    ('clf', model),\n",
    "    ])\n",
    "    text_clf.fit(data, targets)\n",
    "    return text_clf\n",
    "def get_accuracy(trained_model,X, y):\n",
    "    predicted = trained_model.predict(X)\n",
    "    accuracy = np.mean(predicted == y)\n",
    "    return accuracy"
   ]
  },
  {
   "cell_type": "code",
   "execution_count": 12,
   "id": "conscious-carolina",
   "metadata": {
    "execution": {
     "iopub.execute_input": "2022-05-15T02:03:59.298803Z",
     "iopub.status.busy": "2022-05-15T02:03:59.298146Z",
     "iopub.status.idle": "2022-05-15T02:04:00.767927Z",
     "shell.execute_reply": "2022-05-15T02:04:00.767388Z",
     "shell.execute_reply.started": "2022-05-15T01:54:03.083086Z"
    },
    "papermill": {
     "duration": 1.508713,
     "end_time": "2022-05-15T02:04:00.768073",
     "exception": false,
     "start_time": "2022-05-15T02:03:59.259360",
     "status": "completed"
    },
    "tags": []
   },
   "outputs": [
    {
     "name": "stdout",
     "output_type": "stream",
     "text": [
      "Test dataset accuracy with MultinomialNB: 0.79\n"
     ]
    }
   ],
   "source": [
    "from sklearn.naive_bayes import MultinomialNB\n",
    "trained_clf_multinomial_nb = train_model(MultinomialNB(), X, y)\n",
    "accuracy = get_accuracy(trained_clf_multinomial_nb,X_test, y_test)\n",
    "print(f\"Test dataset accuracy with MultinomialNB: {accuracy:.2f}\")"
   ]
  },
  {
   "cell_type": "code",
   "execution_count": 13,
   "id": "worse-collectible",
   "metadata": {
    "execution": {
     "iopub.execute_input": "2022-05-15T02:04:00.844281Z",
     "iopub.status.busy": "2022-05-15T02:04:00.842957Z",
     "iopub.status.idle": "2022-05-15T02:04:00.846213Z",
     "shell.execute_reply": "2022-05-15T02:04:00.845653Z",
     "shell.execute_reply.started": "2022-05-15T01:54:04.468644Z"
    },
    "papermill": {
     "duration": 0.043795,
     "end_time": "2022-05-15T02:04:00.846358",
     "exception": false,
     "start_time": "2022-05-15T02:04:00.802563",
     "status": "completed"
    },
    "tags": []
   },
   "outputs": [],
   "source": [
    "def print_all_accuracies(dataset_name, dataset):\n",
    "  accuracy = get_accuracy(trained_clf_multinomial_nb,dataset.tweet.values, dataset.label.values)\n",
    "  print(f\"{dataset_name} dataset accuracy with Multinomial NB: {accuracy:.2f}\")\n",
    "\n"
   ]
  },
  {
   "cell_type": "code",
   "execution_count": 14,
   "id": "hazardous-dictionary",
   "metadata": {
    "execution": {
     "iopub.execute_input": "2022-05-15T02:04:00.950674Z",
     "iopub.status.busy": "2022-05-15T02:04:00.949719Z",
     "iopub.status.idle": "2022-05-15T02:04:05.698085Z",
     "shell.execute_reply": "2022-05-15T02:04:05.698803Z",
     "shell.execute_reply.started": "2022-05-15T01:54:04.476034Z"
    },
    "papermill": {
     "duration": 4.818943,
     "end_time": "2022-05-15T02:04:05.699023",
     "exception": false,
     "start_time": "2022-05-15T02:04:00.880080",
     "status": "completed"
    },
    "tags": []
   },
   "outputs": [
    {
     "name": "stdout",
     "output_type": "stream",
     "text": [
      "SS2030 dataset accuracy with Multinomial NB: 0.59\n",
      "100k Arabic Reviews dataset accuracy with Multinomial NB: 0.60\n"
     ]
    }
   ],
   "source": [
    "print_all_accuracies(\"SS2030\", df_ss2030)\n",
    "print_all_accuracies(\"100k Arabic Reviews\", df_reviews)"
   ]
  },
  {
   "cell_type": "code",
   "execution_count": 15,
   "id": "gentle-spell",
   "metadata": {
    "execution": {
     "iopub.execute_input": "2022-05-15T02:04:05.771747Z",
     "iopub.status.busy": "2022-05-15T02:04:05.770883Z",
     "iopub.status.idle": "2022-05-15T02:04:17.717865Z",
     "shell.execute_reply": "2022-05-15T02:04:17.718333Z",
     "shell.execute_reply.started": "2022-05-15T01:54:08.451590Z"
    },
    "papermill": {
     "duration": 11.985029,
     "end_time": "2022-05-15T02:04:17.718509",
     "exception": false,
     "start_time": "2022-05-15T02:04:05.733480",
     "status": "completed"
    },
    "tags": []
   },
   "outputs": [
    {
     "data": {
      "text/plain": [
       "array([0.77304965, 0.76638298, 0.77078014, 0.77198582, 0.77375887,\n",
       "       0.76943262, 0.76950355, 0.77120567, 0.77368794, 0.77425532])"
      ]
     },
     "execution_count": 15,
     "metadata": {},
     "output_type": "execute_result"
    }
   ],
   "source": [
    "from sklearn.model_selection import ShuffleSplit\n",
    "from sklearn.model_selection import cross_val_score\n",
    "import warnings\n",
    "warnings.filterwarnings('ignore')\n",
    "cv=ShuffleSplit(10,test_size=0.3, random_state=1)\n",
    "cross_val_score(trained_clf_multinomial_nb,X,y, cv=cv , scoring='accuracy')"
   ]
  },
  {
   "cell_type": "markdown",
   "id": "excited-lucas",
   "metadata": {
    "papermill": {
     "duration": 0.033262,
     "end_time": "2022-05-15T02:04:17.790201",
     "exception": false,
     "start_time": "2022-05-15T02:04:17.756939",
     "status": "completed"
    },
    "tags": []
   },
   "source": [
    "# GridSearchCV"
   ]
  },
  {
   "cell_type": "code",
   "execution_count": 16,
   "id": "curious-positive",
   "metadata": {
    "execution": {
     "iopub.execute_input": "2022-05-15T02:04:17.909643Z",
     "iopub.status.busy": "2022-05-15T02:04:17.897991Z",
     "iopub.status.idle": "2022-05-15T02:04:23.975540Z",
     "shell.execute_reply": "2022-05-15T02:04:23.975993Z",
     "shell.execute_reply.started": "2022-05-15T01:54:17.871076Z"
    },
    "papermill": {
     "duration": 6.152468,
     "end_time": "2022-05-15T02:04:23.976164",
     "exception": false,
     "start_time": "2022-05-15T02:04:17.823696",
     "status": "completed"
    },
    "tags": []
   },
   "outputs": [
    {
     "data": {
      "text/plain": [
       "Pipeline(steps=[('vect', CountVectorizer()), ('tfidf', TfidfTransformer()),\n",
       "                ('clf',\n",
       "                 GridSearchCV(cv=10, estimator=MultinomialNB(), n_jobs=-1,\n",
       "                              param_grid={'alpha': (0, 0.1, 0.2, 0.3, 0.4, 0.5,\n",
       "                                                    0.8, 0.88, 0.9, 1, 2, 3, 4,\n",
       "                                                    5, 6)},\n",
       "                              scoring='accuracy'))])"
      ]
     },
     "execution_count": 16,
     "metadata": {},
     "output_type": "execute_result"
    }
   ],
   "source": [
    "from sklearn.model_selection import GridSearchCV\n",
    "hyperparameters = {\"alpha\":(0,0.1, 0.2, 0.3, 0.4, 0.5 ,  0.8 , 0.88, 0.9, 1 ,2, 3,4 ,5, 6)}\n",
    "Grid= GridSearchCV(estimator=MultinomialNB(), param_grid=hyperparameters, cv=10, scoring=\"accuracy\", n_jobs=-1)\n",
    "train_model(Grid, X, y)"
   ]
  },
  {
   "cell_type": "code",
   "execution_count": 17,
   "id": "permanent-magic",
   "metadata": {
    "execution": {
     "iopub.execute_input": "2022-05-15T02:04:24.049861Z",
     "iopub.status.busy": "2022-05-15T02:04:24.049079Z",
     "iopub.status.idle": "2022-05-15T02:04:24.052397Z",
     "shell.execute_reply": "2022-05-15T02:04:24.052901Z",
     "shell.execute_reply.started": "2022-05-15T01:54:23.021326Z"
    },
    "papermill": {
     "duration": 0.043415,
     "end_time": "2022-05-15T02:04:24.053070",
     "exception": false,
     "start_time": "2022-05-15T02:04:24.009655",
     "status": "completed"
    },
    "tags": []
   },
   "outputs": [
    {
     "data": {
      "text/plain": [
       "MultinomialNB(alpha=0.2)"
      ]
     },
     "execution_count": 17,
     "metadata": {},
     "output_type": "execute_result"
    }
   ],
   "source": [
    "Grid.best_estimator_"
   ]
  },
  {
   "cell_type": "code",
   "execution_count": 18,
   "id": "adolescent-transition",
   "metadata": {
    "execution": {
     "iopub.execute_input": "2022-05-15T02:04:24.127227Z",
     "iopub.status.busy": "2022-05-15T02:04:24.126486Z",
     "iopub.status.idle": "2022-05-15T02:04:24.129636Z",
     "shell.execute_reply": "2022-05-15T02:04:24.130118Z",
     "shell.execute_reply.started": "2022-05-15T01:54:23.030659Z"
    },
    "papermill": {
     "duration": 0.042576,
     "end_time": "2022-05-15T02:04:24.130269",
     "exception": false,
     "start_time": "2022-05-15T02:04:24.087693",
     "status": "completed"
    },
    "tags": []
   },
   "outputs": [
    {
     "data": {
      "text/plain": [
       "{'alpha': 0.2}"
      ]
     },
     "execution_count": 18,
     "metadata": {},
     "output_type": "execute_result"
    }
   ],
   "source": [
    "Grid.best_params_"
   ]
  },
  {
   "cell_type": "code",
   "execution_count": 19,
   "id": "respiratory-inquiry",
   "metadata": {
    "execution": {
     "iopub.execute_input": "2022-05-15T02:04:24.204243Z",
     "iopub.status.busy": "2022-05-15T02:04:24.203488Z",
     "iopub.status.idle": "2022-05-15T02:04:24.206589Z",
     "shell.execute_reply": "2022-05-15T02:04:24.207098Z",
     "shell.execute_reply.started": "2022-05-15T01:54:23.042681Z"
    },
    "papermill": {
     "duration": 0.042265,
     "end_time": "2022-05-15T02:04:24.207247",
     "exception": false,
     "start_time": "2022-05-15T02:04:24.164982",
     "status": "completed"
    },
    "tags": []
   },
   "outputs": [
    {
     "data": {
      "text/plain": [
       "0.7890212765957447"
      ]
     },
     "execution_count": 19,
     "metadata": {},
     "output_type": "execute_result"
    }
   ],
   "source": [
    "Grid.best_score_"
   ]
  },
  {
   "cell_type": "code",
   "execution_count": 20,
   "id": "collected-disclosure",
   "metadata": {
    "execution": {
     "iopub.execute_input": "2022-05-15T02:04:24.320968Z",
     "iopub.status.busy": "2022-05-15T02:04:24.317062Z",
     "iopub.status.idle": "2022-05-15T02:04:25.765296Z",
     "shell.execute_reply": "2022-05-15T02:04:25.764629Z",
     "shell.execute_reply.started": "2022-05-15T01:54:23.051695Z"
    },
    "papermill": {
     "duration": 1.523134,
     "end_time": "2022-05-15T02:04:25.765440",
     "exception": false,
     "start_time": "2022-05-15T02:04:24.242306",
     "status": "completed"
    },
    "tags": []
   },
   "outputs": [
    {
     "name": "stdout",
     "output_type": "stream",
     "text": [
      "Test dataset accuracy with MultinomialNB: 0.79\n"
     ]
    }
   ],
   "source": [
    "trained_clf_multinomial_nb_imm = train_model(MultinomialNB(alpha=0.2), X, y)\n",
    "accuracy = get_accuracy(trained_clf_multinomial_nb_imm,X_test, y_test)\n",
    "print(f\"Test dataset accuracy with MultinomialNB: {accuracy:.2f}\")"
   ]
  },
  {
   "cell_type": "code",
   "execution_count": 21,
   "id": "russian-appreciation",
   "metadata": {
    "execution": {
     "iopub.execute_input": "2022-05-15T02:04:25.886137Z",
     "iopub.status.busy": "2022-05-15T02:04:25.875707Z",
     "iopub.status.idle": "2022-05-15T02:04:29.031867Z",
     "shell.execute_reply": "2022-05-15T02:04:29.031185Z",
     "shell.execute_reply.started": "2022-05-15T01:54:24.270126Z"
    },
    "papermill": {
     "duration": 3.230821,
     "end_time": "2022-05-15T02:04:29.032019",
     "exception": false,
     "start_time": "2022-05-15T02:04:25.801198",
     "status": "completed"
    },
    "tags": []
   },
   "outputs": [
    {
     "data": {
      "text/plain": [
       "Pipeline(steps=[('vect', CountVectorizer()), ('tfidf', TfidfTransformer()),\n",
       "                ('clf',\n",
       "                 GridSearchCV(cv=10, estimator=MultinomialNB(), n_jobs=-1,\n",
       "                              param_grid={'alpha': (0, 0.8, 0.88, 0.9, 1, 2, 3,\n",
       "                                                    4, 5, 6)},\n",
       "                              scoring='accuracy'))])"
      ]
     },
     "execution_count": 21,
     "metadata": {},
     "output_type": "execute_result"
    }
   ],
   "source": [
    "from sklearn.model_selection import GridSearchCV\n",
    "hyperparameters = {\"alpha\":(0, 0.8,0.88, 0.9, 1 ,2,3,4,5,6)}\n",
    "Grid= GridSearchCV(estimator=MultinomialNB(), param_grid=hyperparameters, cv=10, scoring=\"accuracy\", n_jobs=-1)\n",
    "train_model(Grid, X, y)"
   ]
  },
  {
   "cell_type": "code",
   "execution_count": 22,
   "id": "unlimited-auckland",
   "metadata": {
    "execution": {
     "iopub.execute_input": "2022-05-15T02:04:29.113124Z",
     "iopub.status.busy": "2022-05-15T02:04:29.112215Z",
     "iopub.status.idle": "2022-05-15T02:04:29.115803Z",
     "shell.execute_reply": "2022-05-15T02:04:29.116255Z",
     "shell.execute_reply.started": "2022-05-15T01:54:28.199168Z"
    },
    "papermill": {
     "duration": 0.046855,
     "end_time": "2022-05-15T02:04:29.116426",
     "exception": false,
     "start_time": "2022-05-15T02:04:29.069571",
     "status": "completed"
    },
    "tags": []
   },
   "outputs": [
    {
     "data": {
      "text/plain": [
       "MultinomialNB(alpha=0.8)"
      ]
     },
     "execution_count": 22,
     "metadata": {},
     "output_type": "execute_result"
    }
   ],
   "source": [
    "Grid.best_estimator_"
   ]
  },
  {
   "cell_type": "code",
   "execution_count": 23,
   "id": "outer-thesis",
   "metadata": {
    "execution": {
     "iopub.execute_input": "2022-05-15T02:04:29.195144Z",
     "iopub.status.busy": "2022-05-15T02:04:29.194304Z",
     "iopub.status.idle": "2022-05-15T02:04:29.197540Z",
     "shell.execute_reply": "2022-05-15T02:04:29.198018Z",
     "shell.execute_reply.started": "2022-05-15T01:54:28.210717Z"
    },
    "papermill": {
     "duration": 0.044859,
     "end_time": "2022-05-15T02:04:29.198176",
     "exception": false,
     "start_time": "2022-05-15T02:04:29.153317",
     "status": "completed"
    },
    "tags": []
   },
   "outputs": [
    {
     "data": {
      "text/plain": [
       "{'alpha': 0.8}"
      ]
     },
     "execution_count": 23,
     "metadata": {},
     "output_type": "execute_result"
    }
   ],
   "source": [
    "Grid.best_params_"
   ]
  },
  {
   "cell_type": "code",
   "execution_count": 24,
   "id": "tender-speed",
   "metadata": {
    "execution": {
     "iopub.execute_input": "2022-05-15T02:04:29.278124Z",
     "iopub.status.busy": "2022-05-15T02:04:29.277306Z",
     "iopub.status.idle": "2022-05-15T02:04:29.281286Z",
     "shell.execute_reply": "2022-05-15T02:04:29.280673Z",
     "shell.execute_reply.started": "2022-05-15T01:54:28.220200Z"
    },
    "papermill": {
     "duration": 0.045476,
     "end_time": "2022-05-15T02:04:29.281416",
     "exception": false,
     "start_time": "2022-05-15T02:04:29.235940",
     "status": "completed"
    },
    "tags": []
   },
   "outputs": [
    {
     "data": {
      "text/plain": [
       "0.7826595744680851"
      ]
     },
     "execution_count": 24,
     "metadata": {},
     "output_type": "execute_result"
    }
   ],
   "source": [
    "Grid.best_score_"
   ]
  },
  {
   "cell_type": "code",
   "execution_count": 25,
   "id": "consolidated-ceremony",
   "metadata": {
    "execution": {
     "iopub.execute_input": "2022-05-15T02:04:29.410805Z",
     "iopub.status.busy": "2022-05-15T02:04:29.391097Z",
     "iopub.status.idle": "2022-05-15T02:04:31.066705Z",
     "shell.execute_reply": "2022-05-15T02:04:31.067314Z",
     "shell.execute_reply.started": "2022-05-15T01:54:28.230375Z"
    },
    "papermill": {
     "duration": 1.748868,
     "end_time": "2022-05-15T02:04:31.067504",
     "exception": false,
     "start_time": "2022-05-15T02:04:29.318636",
     "status": "completed"
    },
    "tags": []
   },
   "outputs": [
    {
     "name": "stdout",
     "output_type": "stream",
     "text": [
      "Test dataset accuracy with MultinomialNB: 0.79\n"
     ]
    }
   ],
   "source": [
    "trained_clf_multinomial_nb_im = train_model(MultinomialNB(alpha=0.8), X, y)\n",
    "accuracy = get_accuracy(trained_clf_multinomial_nb_im,X_test, y_test)\n",
    "print(f\"Test dataset accuracy with MultinomialNB: {accuracy:.2f}\")"
   ]
  },
  {
   "cell_type": "code",
   "execution_count": 26,
   "id": "amino-lexington",
   "metadata": {
    "execution": {
     "iopub.execute_input": "2022-05-15T02:04:31.150244Z",
     "iopub.status.busy": "2022-05-15T02:04:31.148359Z",
     "iopub.status.idle": "2022-05-15T02:04:31.151181Z",
     "shell.execute_reply": "2022-05-15T02:04:31.151716Z",
     "shell.execute_reply.started": "2022-05-15T01:54:29.458429Z"
    },
    "papermill": {
     "duration": 0.046301,
     "end_time": "2022-05-15T02:04:31.151896",
     "exception": false,
     "start_time": "2022-05-15T02:04:31.105595",
     "status": "completed"
    },
    "tags": []
   },
   "outputs": [],
   "source": [
    "def print_all_im_accuracies(dataset_name, dataset):\n",
    "  accuracy = get_accuracy(trained_clf_multinomial_nb_im,dataset.tweet.values, dataset.label.values)\n",
    "  print(f\"{dataset_name} dataset accuracy with Multinomial NB: {accuracy:.2f}\")"
   ]
  },
  {
   "cell_type": "code",
   "execution_count": 27,
   "id": "extra-mother",
   "metadata": {
    "execution": {
     "iopub.execute_input": "2022-05-15T02:04:31.286222Z",
     "iopub.status.busy": "2022-05-15T02:04:31.250195Z",
     "iopub.status.idle": "2022-05-15T02:04:35.922186Z",
     "shell.execute_reply": "2022-05-15T02:04:35.921549Z",
     "shell.execute_reply.started": "2022-05-15T01:54:29.465764Z"
    },
    "papermill": {
     "duration": 4.733032,
     "end_time": "2022-05-15T02:04:35.922340",
     "exception": false,
     "start_time": "2022-05-15T02:04:31.189308",
     "status": "completed"
    },
    "tags": []
   },
   "outputs": [
    {
     "name": "stdout",
     "output_type": "stream",
     "text": [
      "SS2030 dataset accuracy with Multinomial NB: 0.59\n",
      "100k Arabic Reviews dataset accuracy with Multinomial NB: 0.60\n"
     ]
    }
   ],
   "source": [
    "print_all_im_accuracies(\"SS2030\", df_ss2030)\n",
    "print_all_im_accuracies(\"100k Arabic Reviews\", df_reviews)"
   ]
  },
  {
   "cell_type": "code",
   "execution_count": 28,
   "id": "prime-circumstances",
   "metadata": {
    "execution": {
     "iopub.execute_input": "2022-05-15T02:04:36.041319Z",
     "iopub.status.busy": "2022-05-15T02:04:36.036994Z",
     "iopub.status.idle": "2022-05-15T02:04:37.561307Z",
     "shell.execute_reply": "2022-05-15T02:04:37.561729Z",
     "shell.execute_reply.started": "2022-05-15T02:02:07.485191Z"
    },
    "papermill": {
     "duration": 1.603013,
     "end_time": "2022-05-15T02:04:37.561935",
     "exception": false,
     "start_time": "2022-05-15T02:04:35.958922",
     "status": "completed"
    },
    "tags": []
   },
   "outputs": [
    {
     "name": "stdout",
     "output_type": "stream",
     "text": [
      "Fitting 2 folds for each of 7 candidates, totalling 14 fits\n",
      "Best score: 0.771\n",
      "Best parameters set:\n",
      "\tnb__alpha: 0.1\n"
     ]
    }
   ],
   "source": [
    "from sklearn import  pipeline\n",
    "nb_model = MultinomialNB()\n",
    "clf = pipeline.Pipeline([('nb', nb_model)])\n",
    "param_grid = {'nb__alpha': [0.001, 0.01,0.8, 0.1, 1, 10, 100]}\n",
    "model = GridSearchCV(estimator=clf, param_grid=param_grid, scoring=\"accuracy\",\n",
    "                                 verbose=10, n_jobs=-1, refit=True, cv=2)\n",
    "\n",
    "# Fit Grid Search Model\n",
    "train_model(model, X, y) # we can use the full data here but im only using xtrain. \n",
    "print(\"Best score: %0.3f\" % model.best_score_)\n",
    "print(\"Best parameters set:\")\n",
    "best_parameters = model.best_estimator_.get_params()\n",
    "for param_name in sorted(param_grid.keys()):\n",
    "    print(\"\\t%s: %r\" % (param_name, best_parameters[param_name]))"
   ]
  },
  {
   "cell_type": "code",
   "execution_count": null,
   "id": "considered-kidney",
   "metadata": {
    "papermill": {
     "duration": 0.037714,
     "end_time": "2022-05-15T02:04:37.636789",
     "exception": false,
     "start_time": "2022-05-15T02:04:37.599075",
     "status": "completed"
    },
    "tags": []
   },
   "outputs": [],
   "source": []
  },
  {
   "cell_type": "markdown",
   "id": "sublime-gibraltar",
   "metadata": {
    "papermill": {
     "duration": 0.040553,
     "end_time": "2022-05-15T02:04:37.718316",
     "exception": false,
     "start_time": "2022-05-15T02:04:37.677763",
     "status": "completed"
    },
    "tags": []
   },
   "source": [
    "# ensemble learning"
   ]
  },
  {
   "cell_type": "markdown",
   "id": "assigned-stupid",
   "metadata": {
    "papermill": {
     "duration": 0.040384,
     "end_time": "2022-05-15T02:04:37.799658",
     "exception": false,
     "start_time": "2022-05-15T02:04:37.759274",
     "status": "completed"
    },
    "tags": []
   },
   "source": [
    "# StackingClassifier"
   ]
  },
  {
   "cell_type": "code",
   "execution_count": 29,
   "id": "worthy-thickness",
   "metadata": {
    "execution": {
     "iopub.execute_input": "2022-05-15T02:04:37.886454Z",
     "iopub.status.busy": "2022-05-15T02:04:37.885693Z",
     "iopub.status.idle": "2022-05-15T02:04:39.746071Z",
     "shell.execute_reply": "2022-05-15T02:04:39.745049Z"
    },
    "papermill": {
     "duration": 1.90603,
     "end_time": "2022-05-15T02:04:39.746232",
     "exception": false,
     "start_time": "2022-05-15T02:04:37.840202",
     "status": "completed"
    },
    "tags": []
   },
   "outputs": [],
   "source": [
    "from sklearn.ensemble import  StackingClassifier\n",
    "model1= StackingClassifier([('MNB1',MultinomialNB(alpha=0.8)),('MNB2',MultinomialNB(alpha=0.2)),\n",
    "                         ('MNB3',MultinomialNB(alpha=1))], final_estimator=MultinomialNB(alpha=1))\n",
    "\n",
    "\n",
    "\n",
    "trained_clf_multinomial_nb_im2= train_model(model1, X, y)"
   ]
  },
  {
   "cell_type": "code",
   "execution_count": 30,
   "id": "double-europe",
   "metadata": {
    "execution": {
     "iopub.execute_input": "2022-05-15T02:04:39.865116Z",
     "iopub.status.busy": "2022-05-15T02:04:39.854997Z",
     "iopub.status.idle": "2022-05-15T02:04:40.069923Z",
     "shell.execute_reply": "2022-05-15T02:04:40.070381Z"
    },
    "papermill": {
     "duration": 0.286798,
     "end_time": "2022-05-15T02:04:40.070544",
     "exception": false,
     "start_time": "2022-05-15T02:04:39.783746",
     "status": "completed"
    },
    "tags": []
   },
   "outputs": [
    {
     "name": "stdout",
     "output_type": "stream",
     "text": [
      "Test dataset accuracy with MultinomialNB: 0.51\n"
     ]
    }
   ],
   "source": [
    "accuracy = get_accuracy(trained_clf_multinomial_nb_im2 ,X_test, y_test)\n",
    "print(f\"Test dataset accuracy with MultinomialNB: {accuracy:.2f}\")"
   ]
  },
  {
   "cell_type": "markdown",
   "id": "incredible-transcript",
   "metadata": {
    "papermill": {
     "duration": 0.040253,
     "end_time": "2022-05-15T02:04:40.153529",
     "exception": false,
     "start_time": "2022-05-15T02:04:40.113276",
     "status": "completed"
    },
    "tags": []
   },
   "source": [
    "# BaggingClassifier "
   ]
  },
  {
   "cell_type": "code",
   "execution_count": 31,
   "id": "impaired-likelihood",
   "metadata": {
    "execution": {
     "iopub.execute_input": "2022-05-15T02:04:40.272078Z",
     "iopub.status.busy": "2022-05-15T02:04:40.256641Z",
     "iopub.status.idle": "2022-05-15T02:04:46.181962Z",
     "shell.execute_reply": "2022-05-15T02:04:46.181432Z"
    },
    "papermill": {
     "duration": 5.987591,
     "end_time": "2022-05-15T02:04:46.182116",
     "exception": false,
     "start_time": "2022-05-15T02:04:40.194525",
     "status": "completed"
    },
    "tags": []
   },
   "outputs": [],
   "source": [
    "from sklearn.ensemble import BaggingClassifier \n",
    "modell =BaggingClassifier(base_estimator=MultinomialNB(alpha=1), n_estimators=200)\n",
    "trained_clf_multinomial_nb_im3= train_model(modell, X, y)"
   ]
  },
  {
   "cell_type": "code",
   "execution_count": 32,
   "id": "sensitive-joshua",
   "metadata": {
    "execution": {
     "iopub.execute_input": "2022-05-15T02:04:46.302792Z",
     "iopub.status.busy": "2022-05-15T02:04:46.294040Z",
     "iopub.status.idle": "2022-05-15T02:04:47.427786Z",
     "shell.execute_reply": "2022-05-15T02:04:47.428534Z"
    },
    "papermill": {
     "duration": 1.208831,
     "end_time": "2022-05-15T02:04:47.428770",
     "exception": false,
     "start_time": "2022-05-15T02:04:46.219939",
     "status": "completed"
    },
    "tags": []
   },
   "outputs": [
    {
     "name": "stdout",
     "output_type": "stream",
     "text": [
      "Test dataset accuracy with MultinomialNB: 0.78\n"
     ]
    }
   ],
   "source": [
    "accuracy = get_accuracy(trained_clf_multinomial_nb_im3 ,X_test, y_test)\n",
    "print(f\"Test dataset accuracy with MultinomialNB: {accuracy:.2f}\")"
   ]
  },
  {
   "cell_type": "code",
   "execution_count": 33,
   "id": "continued-ribbon",
   "metadata": {
    "execution": {
     "iopub.execute_input": "2022-05-15T02:04:47.561532Z",
     "iopub.status.busy": "2022-05-15T02:04:47.551954Z",
     "iopub.status.idle": "2022-05-15T02:05:00.392374Z",
     "shell.execute_reply": "2022-05-15T02:05:00.392892Z"
    },
    "papermill": {
     "duration": 12.920772,
     "end_time": "2022-05-15T02:05:00.393083",
     "exception": false,
     "start_time": "2022-05-15T02:04:47.472311",
     "status": "completed"
    },
    "tags": []
   },
   "outputs": [
    {
     "name": "stdout",
     "output_type": "stream",
     "text": [
      "SS2030 dataset accuracy with Multinomial NB: 0.59\n",
      "100k Arabic Reviews dataset accuracy with Multinomial NB: 0.60\n"
     ]
    }
   ],
   "source": [
    "def print_all_im3_accuracies(dataset_name, dataset):\n",
    "  accuracy = get_accuracy(trained_clf_multinomial_nb_im3,dataset.tweet.values, dataset.label.values)\n",
    "  print(f\"{dataset_name} dataset accuracy with Multinomial NB: {accuracy:.2f}\")\n",
    "print_all_im3_accuracies(\"SS2030\", df_ss2030)\n",
    "print_all_im3_accuracies(\"100k Arabic Reviews\", df_reviews)"
   ]
  },
  {
   "cell_type": "markdown",
   "id": "broadband-disney",
   "metadata": {
    "execution": {
     "iopub.execute_input": "2022-05-15T01:16:34.599179Z",
     "iopub.status.busy": "2022-05-15T01:16:34.598861Z",
     "iopub.status.idle": "2022-05-15T01:16:34.602759Z",
     "shell.execute_reply": "2022-05-15T01:16:34.601658Z",
     "shell.execute_reply.started": "2022-05-15T01:16:34.599151Z"
    },
    "papermill": {
     "duration": 0.040808,
     "end_time": "2022-05-15T02:05:00.475130",
     "exception": false,
     "start_time": "2022-05-15T02:05:00.434322",
     "status": "completed"
    },
    "tags": []
   },
   "source": [
    "# VotingClassifier"
   ]
  },
  {
   "cell_type": "code",
   "execution_count": 34,
   "id": "played-culture",
   "metadata": {
    "execution": {
     "iopub.execute_input": "2022-05-15T02:05:00.595934Z",
     "iopub.status.busy": "2022-05-15T02:05:00.581042Z",
     "iopub.status.idle": "2022-05-15T02:05:07.923335Z",
     "shell.execute_reply": "2022-05-15T02:05:07.922649Z"
    },
    "papermill": {
     "duration": 7.407067,
     "end_time": "2022-05-15T02:05:07.923521",
     "exception": false,
     "start_time": "2022-05-15T02:05:00.516454",
     "status": "completed"
    },
    "tags": []
   },
   "outputs": [
    {
     "name": "stdout",
     "output_type": "stream",
     "text": [
      "Test dataset accuracy with MultinomialNB: 0.79\n",
      "Test dataset accuracy with MultinomialNB: 0.79\n",
      "Test dataset accuracy with MultinomialNB: 0.79\n",
      "Test dataset accuracy with MultinomialNB: 0.79\n"
     ]
    }
   ],
   "source": [
    "from sklearn.ensemble import VotingClassifier\n",
    "model1=MultinomialNB(alpha=1)\n",
    "model2=MultinomialNB(alpha=1)\n",
    "model21=MultinomialNB(alpha=1)\n",
    "model3= VotingClassifier([('mnb1',model1),\n",
    "                         ('mnb2',model2),('mnb3',model21)\n",
    "                         ],voting='hard')\n",
    "trained_clf_multinomial_nb_im41= train_model(model3, X, y)\n",
    "for model in (model1,model2,model21, model3):\n",
    "    \n",
    "    trained_clf_multinomial_nb_im4= train_model(model, X, y)\n",
    "    accuracy = get_accuracy(trained_clf_multinomial_nb_im4 ,X_test, y_test)\n",
    "    print(f\"Test dataset accuracy with MultinomialNB: {accuracy:.2f}\")"
   ]
  },
  {
   "cell_type": "code",
   "execution_count": 35,
   "id": "stupid-airport",
   "metadata": {
    "execution": {
     "iopub.execute_input": "2022-05-15T02:05:08.047154Z",
     "iopub.status.busy": "2022-05-15T02:05:08.045985Z",
     "iopub.status.idle": "2022-05-15T02:05:13.278247Z",
     "shell.execute_reply": "2022-05-15T02:05:13.278854Z"
    },
    "papermill": {
     "duration": 5.315568,
     "end_time": "2022-05-15T02:05:13.279067",
     "exception": false,
     "start_time": "2022-05-15T02:05:07.963499",
     "status": "completed"
    },
    "tags": []
   },
   "outputs": [
    {
     "name": "stdout",
     "output_type": "stream",
     "text": [
      "SS2030 dataset accuracy with Multinomial NB: 0.59\n",
      "100k Arabic Reviews dataset accuracy with Multinomial NB: 0.60\n"
     ]
    }
   ],
   "source": [
    "def print_all_im4_accuracies(dataset_name, dataset):\n",
    "  accuracy = get_accuracy(trained_clf_multinomial_nb_im41,dataset.tweet.values, dataset.label.values)\n",
    "  print(f\"{dataset_name} dataset accuracy with Multinomial NB: {accuracy:.2f}\")\n",
    "print_all_im4_accuracies(\"SS2030\", df_ss2030)\n",
    "print_all_im4_accuracies(\"100k Arabic Reviews\", df_reviews)"
   ]
  },
  {
   "cell_type": "code",
   "execution_count": null,
   "id": "immediate-moldova",
   "metadata": {
    "papermill": {
     "duration": 0.04096,
     "end_time": "2022-05-15T02:05:13.360502",
     "exception": false,
     "start_time": "2022-05-15T02:05:13.319542",
     "status": "completed"
    },
    "tags": []
   },
   "outputs": [],
   "source": []
  }
 ],
 "metadata": {
  "kernelspec": {
   "display_name": "Python 3",
   "language": "python",
   "name": "python3"
  },
  "language_info": {
   "codemirror_mode": {
    "name": "ipython",
    "version": 3
   },
   "file_extension": ".py",
   "mimetype": "text/x-python",
   "name": "python",
   "nbconvert_exporter": "python",
   "pygments_lexer": "ipython3",
   "version": "3.7.10"
  },
  "papermill": {
   "default_parameters": {},
   "duration": 86.877195,
   "end_time": "2022-05-15T02:05:14.866743",
   "environment_variables": {},
   "exception": null,
   "input_path": "__notebook__.ipynb",
   "output_path": "__notebook__.ipynb",
   "parameters": {},
   "start_time": "2022-05-15T02:03:47.989548",
   "version": "2.3.3"
  }
 },
 "nbformat": 4,
 "nbformat_minor": 5
}
