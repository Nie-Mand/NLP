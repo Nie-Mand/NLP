{
 "cells": [
  {
   "cell_type": "code",
   "execution_count": 1,
   "id": "above-infrared",
   "metadata": {
    "execution": {
     "iopub.execute_input": "2022-05-18T18:12:46.229682Z",
     "iopub.status.busy": "2022-05-18T18:12:46.228217Z",
     "iopub.status.idle": "2022-05-18T18:12:46.239043Z",
     "shell.execute_reply": "2022-05-18T18:12:46.238562Z",
     "shell.execute_reply.started": "2022-05-18T18:08:19.136883Z"
    },
    "papermill": {
     "duration": 0.047372,
     "end_time": "2022-05-18T18:12:46.239168",
     "exception": false,
     "start_time": "2022-05-18T18:12:46.191796",
     "status": "completed"
    },
    "tags": []
   },
   "outputs": [],
   "source": [
    "import os\n",
    "import re\n",
    "from tqdm import tqdm\n",
    "import numpy as np\n",
    "import pandas as pd\n",
    "import matplotlib.pyplot as plt\n",
    "import csv\n",
    "\n",
    "%matplotlib inline\n",
    "import unicodedata"
   ]
  },
  {
   "cell_type": "code",
   "execution_count": 2,
   "id": "ranking-township",
   "metadata": {
    "execution": {
     "iopub.execute_input": "2022-05-18T18:12:46.307111Z",
     "iopub.status.busy": "2022-05-18T18:12:46.306378Z",
     "iopub.status.idle": "2022-05-18T18:12:46.309109Z",
     "shell.execute_reply": "2022-05-18T18:12:46.308715Z",
     "shell.execute_reply.started": "2022-05-18T18:08:19.157271Z"
    },
    "papermill": {
     "duration": 0.039051,
     "end_time": "2022-05-18T18:12:46.309210",
     "exception": false,
     "start_time": "2022-05-18T18:12:46.270159",
     "status": "completed"
    },
    "tags": []
   },
   "outputs": [],
   "source": [
    "def text_preprocessing(text):\n",
    "    \"\"\"\n",
    "    - Remove entity mentions (eg. '@united')\n",
    "    - Correct errors (eg. '&amp;' to '&')\n",
    "    @param    text (str): a string to be processed.\n",
    "    @return   text (Str): the processed string.\n",
    "    \"\"\"\n",
    "  \n",
    "\n",
    "    # Normalize unicode encoding\n",
    "    text = unicodedata.normalize('NFC', text)\n",
    "    # Remove '@name'\n",
    "    text = re.sub(r'(@.*?)[\\s]', ' ', text)\n",
    "\n",
    "    # Replace '&amp;' with '&'\n",
    "    text = re.sub(r'&amp;', '&', text)\n",
    "\n",
    "    # Remove trailing whitespace\n",
    "    text = re.sub(r'\\s+', ' ', text).strip()\n",
    "    \n",
    "    #Remove URLs\n",
    "    text = re.sub(r'^https?:\\/\\/.*[\\r\\n]*', '<URL>', text)\n",
    "\n",
    "\n",
    "    return text"
   ]
  },
  {
   "cell_type": "code",
   "execution_count": 3,
   "id": "usual-insider",
   "metadata": {
    "execution": {
     "iopub.execute_input": "2022-05-18T18:12:46.383807Z",
     "iopub.status.busy": "2022-05-18T18:12:46.383238Z",
     "iopub.status.idle": "2022-05-18T18:12:46.582099Z",
     "shell.execute_reply": "2022-05-18T18:12:46.581222Z",
     "shell.execute_reply.started": "2022-05-18T18:08:19.169255Z"
    },
    "papermill": {
     "duration": 0.242168,
     "end_time": "2022-05-18T18:12:46.582230",
     "exception": false,
     "start_time": "2022-05-18T18:12:46.340062",
     "status": "completed"
    },
    "tags": []
   },
   "outputs": [],
   "source": [
    "pd.set_option('display.max_colwidth', 280)\n",
    "train_neg = pd.read_csv(\"../input/arabic-sentiment-twitter-corpus/train_Arabic_tweets_negative_20190413.tsv\", sep=\"\\t\", header=None,  quoting=csv.QUOTE_NONE)\n",
    "train_neg.rename(columns={0:'label', 1:'tweet'}, inplace=True)\n",
    "train_neg['label'] = 0\n",
    "\n",
    "train_pos = pd.read_csv(\"../input/arabic-sentiment-twitter-corpus/train_Arabic_tweets_positive_20190413.tsv\", sep=\"\\t\", header=None,  quoting=csv.QUOTE_NONE)\n",
    "train_pos.rename(columns={0:'label', 1:'tweet'}, inplace=True)\n",
    "train_pos['label'] = 1\n",
    "\n",
    "\n",
    "train_df = pd.concat([train_neg, train_pos], axis=0).reset_index(drop=True)\n",
    "\n",
    "\n",
    "# from sklearn.model_selection import train_test_split\n",
    "# X = train_df.tweet.values\n",
    "# y = train_df.label.values\n",
    "\n",
    "# # The train val split is used by the DL approach but not classical ML\n",
    "# X_train, X_val, y_train, y_val = train_test_split(X,y,test_size=0.1, random_state=2020)\n",
    "# Load test subset\n",
    "test_pos = pd.read_csv(\"../input/arabic-sentiment-twitter-corpus/test_Arabic_tweets_positive_20190413.tsv\", sep=\"\\t\", header=None,  quoting=csv.QUOTE_NONE)\n",
    "test_pos.rename(columns={0:'label', 1:'tweet'}, inplace=True)\n",
    "test_pos['label']=1\n",
    "\n",
    "test_neg = pd.read_csv(\"../input/arabic-sentiment-twitter-corpus/test_Arabic_tweets_negative_20190413.tsv\", sep=\"\\t\", header=None,  quoting=csv.QUOTE_NONE)\n",
    "test_neg.rename(columns={0:'label', 1:'tweet'}, inplace=True)\n",
    "test_neg['label']=0\n",
    "\n",
    "test_df = pd.concat([test_neg, test_pos], axis=0).reset_index(drop=True)\n",
    "X_test = test_df.tweet.values\n",
    "y_test = test_df.label.values"
   ]
  },
  {
   "cell_type": "code",
   "execution_count": 4,
   "id": "attached-hampton",
   "metadata": {
    "execution": {
     "iopub.execute_input": "2022-05-18T18:12:46.651252Z",
     "iopub.status.busy": "2022-05-18T18:12:46.650548Z",
     "iopub.status.idle": "2022-05-18T18:12:46.653709Z",
     "shell.execute_reply": "2022-05-18T18:12:46.654100Z",
     "shell.execute_reply.started": "2022-05-18T18:08:19.295773Z"
    },
    "papermill": {
     "duration": 0.040169,
     "end_time": "2022-05-18T18:12:46.654223",
     "exception": false,
     "start_time": "2022-05-18T18:12:46.614054",
     "status": "completed"
    },
    "tags": []
   },
   "outputs": [
    {
     "data": {
      "text/plain": [
       "(47000, 2)"
      ]
     },
     "execution_count": 4,
     "metadata": {},
     "output_type": "execute_result"
    }
   ],
   "source": [
    "train_df.shape"
   ]
  },
  {
   "cell_type": "code",
   "execution_count": 5,
   "id": "italian-camel",
   "metadata": {
    "execution": {
     "iopub.execute_input": "2022-05-18T18:12:46.724791Z",
     "iopub.status.busy": "2022-05-18T18:12:46.724208Z",
     "iopub.status.idle": "2022-05-18T18:12:46.731866Z",
     "shell.execute_reply": "2022-05-18T18:12:46.731326Z",
     "shell.execute_reply.started": "2022-05-18T18:08:19.346458Z"
    },
    "papermill": {
     "duration": 0.046308,
     "end_time": "2022-05-18T18:12:46.731970",
     "exception": false,
     "start_time": "2022-05-18T18:12:46.685662",
     "status": "completed"
    },
    "tags": []
   },
   "outputs": [
    {
     "data": {
      "text/html": [
       "<div>\n",
       "<style scoped>\n",
       "    .dataframe tbody tr th:only-of-type {\n",
       "        vertical-align: middle;\n",
       "    }\n",
       "\n",
       "    .dataframe tbody tr th {\n",
       "        vertical-align: top;\n",
       "    }\n",
       "\n",
       "    .dataframe thead th {\n",
       "        text-align: right;\n",
       "    }\n",
       "</style>\n",
       "<table border=\"1\" class=\"dataframe\">\n",
       "  <thead>\n",
       "    <tr style=\"text-align: right;\">\n",
       "      <th></th>\n",
       "      <th>label</th>\n",
       "      <th>tweet</th>\n",
       "    </tr>\n",
       "  </thead>\n",
       "  <tbody>\n",
       "    <tr>\n",
       "      <th>0</th>\n",
       "      <td>0</td>\n",
       "      <td>اعترف ان بتس كانو شوي شوي يجيبو راسي لكن اليوم بالزايد 😭</td>\n",
       "    </tr>\n",
       "    <tr>\n",
       "      <th>1</th>\n",
       "      <td>0</td>\n",
       "      <td>توقعت اذا جات داريا بشوفهم كاملين بس لي للحين احس فيه احد ناقصهم 💔 #Avlu</td>\n",
       "    </tr>\n",
       "    <tr>\n",
       "      <th>2</th>\n",
       "      <td>0</td>\n",
       "      <td>#الاهلي_الهلال اكتب توقعك لنتيجة لقاء الهلال والاهلي تحت التاق 👇 #تحدي_اسرع_روقان وادخل في سحب قيمة ايفون X على…</td>\n",
       "    </tr>\n",
       "    <tr>\n",
       "      <th>3</th>\n",
       "      <td>0</td>\n",
       "      <td>نعمة المضادات الحيوية . تضع قطرة💧مضاد بنسلين على بكتيريا 🦠 فتنفجر 💥 و تموت . الأخيرة يبدو انها بكتيريا مقاومة فأخذ…</td>\n",
       "    </tr>\n",
       "    <tr>\n",
       "      <th>4</th>\n",
       "      <td>0</td>\n",
       "      <td>الدودو جايه تكمل علي 💔</td>\n",
       "    </tr>\n",
       "  </tbody>\n",
       "</table>\n",
       "</div>"
      ],
      "text/plain": [
       "   label  \\\n",
       "0      0   \n",
       "1      0   \n",
       "2      0   \n",
       "3      0   \n",
       "4      0   \n",
       "\n",
       "                                                                                                                 tweet  \n",
       "0                                                             اعترف ان بتس كانو شوي شوي يجيبو راسي لكن اليوم بالزايد 😭  \n",
       "1                                             توقعت اذا جات داريا بشوفهم كاملين بس لي للحين احس فيه احد ناقصهم 💔 #Avlu  \n",
       "2     #الاهلي_الهلال اكتب توقعك لنتيجة لقاء الهلال والاهلي تحت التاق 👇 #تحدي_اسرع_روقان وادخل في سحب قيمة ايفون X على…  \n",
       "3  نعمة المضادات الحيوية . تضع قطرة💧مضاد بنسلين على بكتيريا 🦠 فتنفجر 💥 و تموت . الأخيرة يبدو انها بكتيريا مقاومة فأخذ…  \n",
       "4                                                                                               الدودو جايه تكمل علي 💔  "
      ]
     },
     "execution_count": 5,
     "metadata": {},
     "output_type": "execute_result"
    }
   ],
   "source": [
    "train_df.head()"
   ]
  },
  {
   "cell_type": "code",
   "execution_count": null,
   "id": "fixed-finance",
   "metadata": {
    "papermill": {
     "duration": 0.031493,
     "end_time": "2022-05-18T18:12:46.795339",
     "exception": false,
     "start_time": "2022-05-18T18:12:46.763846",
     "status": "completed"
    },
    "tags": []
   },
   "outputs": [],
   "source": []
  },
  {
   "cell_type": "code",
   "execution_count": 6,
   "id": "sought-values",
   "metadata": {
    "execution": {
     "iopub.execute_input": "2022-05-18T18:12:46.863596Z",
     "iopub.status.busy": "2022-05-18T18:12:46.863038Z",
     "iopub.status.idle": "2022-05-18T18:13:01.790030Z",
     "shell.execute_reply": "2022-05-18T18:13:01.789261Z",
     "shell.execute_reply.started": "2022-05-18T18:08:19.366227Z"
    },
    "papermill": {
     "duration": 14.963101,
     "end_time": "2022-05-18T18:13:01.790155",
     "exception": false,
     "start_time": "2022-05-18T18:12:46.827054",
     "status": "completed"
    },
    "tags": []
   },
   "outputs": [
    {
     "name": "stderr",
     "output_type": "stream",
     "text": [
      "  0%|          | 0/47000 [00:00<?, ?it/s]/opt/conda/lib/python3.7/site-packages/ipykernel_launcher.py:4: SettingWithCopyWarning: \n",
      "A value is trying to be set on a copy of a slice from a DataFrame\n",
      "\n",
      "See the caveats in the documentation: https://pandas.pydata.org/pandas-docs/stable/user_guide/indexing.html#returning-a-view-versus-a-copy\n",
      "  after removing the cwd from sys.path.\n",
      "100%|██████████| 47000/47000 [00:14<00:00, 3151.37it/s]\n"
     ]
    }
   ],
   "source": [
    "from tqdm import tqdm\n",
    "\n",
    "for i in tqdm(range(train_df.shape[0])):\n",
    "    train_df.tweet[i] = text_preprocessing(train_df.tweet[i])"
   ]
  },
  {
   "cell_type": "code",
   "execution_count": 7,
   "id": "dying-english",
   "metadata": {
    "execution": {
     "iopub.execute_input": "2022-05-18T18:13:01.932033Z",
     "iopub.status.busy": "2022-05-18T18:13:01.931287Z",
     "iopub.status.idle": "2022-05-18T18:13:02.618698Z",
     "shell.execute_reply": "2022-05-18T18:13:02.618192Z",
     "shell.execute_reply.started": "2022-05-18T18:08:36.563510Z"
    },
    "papermill": {
     "duration": 0.759948,
     "end_time": "2022-05-18T18:13:02.618868",
     "exception": false,
     "start_time": "2022-05-18T18:13:01.858920",
     "status": "completed"
    },
    "tags": []
   },
   "outputs": [],
   "source": [
    "from sklearn.model_selection import train_test_split\n",
    "X = train_df.tweet.values\n",
    "y = train_df.label.values\n",
    "\n",
    "# The train val split is used by the DL approach but not classical ML\n",
    "X_train, X_val, y_train, y_val = train_test_split(X,y,test_size=0.1, random_state=2020)"
   ]
  },
  {
   "cell_type": "code",
   "execution_count": 8,
   "id": "looking-stream",
   "metadata": {
    "execution": {
     "iopub.execute_input": "2022-05-18T18:13:02.879966Z",
     "iopub.status.busy": "2022-05-18T18:13:02.878987Z",
     "iopub.status.idle": "2022-05-18T18:13:02.937280Z",
     "shell.execute_reply": "2022-05-18T18:13:02.936173Z",
     "shell.execute_reply.started": "2022-05-18T18:08:36.576057Z"
    },
    "papermill": {
     "duration": 0.205369,
     "end_time": "2022-05-18T18:13:02.937489",
     "exception": false,
     "start_time": "2022-05-18T18:13:02.732120",
     "status": "completed"
    },
    "tags": []
   },
   "outputs": [],
   "source": [
    "df_ss2030 = pd.read_csv(\"../input/arabic-sentiment-analysis-dataset-ss2030-dataset/Arabic Sentiment Analysis Dataset - SS2030.csv\")\n",
    "# Rename columns to match convention\n",
    "df_ss2030 = df_ss2030.rename(columns = {\"text\":\"tweet\", \"Sentiment\": \"label\"})"
   ]
  },
  {
   "cell_type": "code",
   "execution_count": 9,
   "id": "defensive-egyptian",
   "metadata": {
    "execution": {
     "iopub.execute_input": "2022-05-18T18:13:03.188570Z",
     "iopub.status.busy": "2022-05-18T18:13:03.187737Z",
     "iopub.status.idle": "2022-05-18T18:13:03.195312Z",
     "shell.execute_reply": "2022-05-18T18:13:03.196010Z",
     "shell.execute_reply.started": "2022-05-18T18:08:36.601021Z"
    },
    "papermill": {
     "duration": 0.128141,
     "end_time": "2022-05-18T18:13:03.196155",
     "exception": false,
     "start_time": "2022-05-18T18:13:03.068014",
     "status": "completed"
    },
    "tags": []
   },
   "outputs": [
    {
     "data": {
      "text/html": [
       "<div>\n",
       "<style scoped>\n",
       "    .dataframe tbody tr th:only-of-type {\n",
       "        vertical-align: middle;\n",
       "    }\n",
       "\n",
       "    .dataframe tbody tr th {\n",
       "        vertical-align: top;\n",
       "    }\n",
       "\n",
       "    .dataframe thead th {\n",
       "        text-align: right;\n",
       "    }\n",
       "</style>\n",
       "<table border=\"1\" class=\"dataframe\">\n",
       "  <thead>\n",
       "    <tr style=\"text-align: right;\">\n",
       "      <th></th>\n",
       "      <th>tweet</th>\n",
       "      <th>label</th>\n",
       "    </tr>\n",
       "  </thead>\n",
       "  <tbody>\n",
       "    <tr>\n",
       "      <th>0</th>\n",
       "      <td>حقوق المرأة 💚💚💚 https://t.co/Mzf90Ta5g1</td>\n",
       "      <td>1</td>\n",
       "    </tr>\n",
       "    <tr>\n",
       "      <th>1</th>\n",
       "      <td>RT @___IHAVENOIDEA: حقوق المرأة في الإسلام. https://t.co/ps3qNw1CbB</td>\n",
       "      <td>1</td>\n",
       "    </tr>\n",
       "    <tr>\n",
       "      <th>2</th>\n",
       "      <td>RT @saud_talep: Retweeted لجنة التنمية بشبرا (@Shubratanmyeh):\\n \\n ما زال التسجيل مستمر في دورة حقوق المرأة بعد الطلاق ✨ #وعيك_يحميك... https://t.co/c2NXzNCdLU</td>\n",
       "      <td>1</td>\n",
       "    </tr>\n",
       "    <tr>\n",
       "      <th>3</th>\n",
       "      <td>RT @MojKsa: حقوق المرأة التي تضمنها لها وزارة العدل https://t.co/QUGzWwubFk</td>\n",
       "      <td>1</td>\n",
       "    </tr>\n",
       "    <tr>\n",
       "      <th>4</th>\n",
       "      <td>RT @abm112211: ولي امر الزوجة او ولي الزوجة او ولي المراة من الاخطاء الشائعة \\n \\n  هذا الكلام غلط في الشريعة والقانون\\n فلا يوجد ولي للزوجة او المراة الا اذا كانت قاصرا ويكون الولي ابوها ...الخ وليس الزوج منهم\\n نعم له حقوق عليها لكنها ليست ولاية\\n الولاية مصطلح فقهي قانوني ...</td>\n",
       "      <td>1</td>\n",
       "    </tr>\n",
       "  </tbody>\n",
       "</table>\n",
       "</div>"
      ],
      "text/plain": [
       "                                                                                                                                                                                                                                                                                     tweet  \\\n",
       "0                                                                                                                                                                                                                                                  حقوق المرأة 💚💚💚 https://t.co/Mzf90Ta5g1   \n",
       "1                                                                                                                                                                                                                      RT @___IHAVENOIDEA: حقوق المرأة في الإسلام. https://t.co/ps3qNw1CbB   \n",
       "2                                                                                                                         RT @saud_talep: Retweeted لجنة التنمية بشبرا (@Shubratanmyeh):\\n \\n ما زال التسجيل مستمر في دورة حقوق المرأة بعد الطلاق ✨ #وعيك_يحميك... https://t.co/c2NXzNCdLU   \n",
       "3                                                                                                                                                                                                              RT @MojKsa: حقوق المرأة التي تضمنها لها وزارة العدل https://t.co/QUGzWwubFk   \n",
       "4  RT @abm112211: ولي امر الزوجة او ولي الزوجة او ولي المراة من الاخطاء الشائعة \\n \\n  هذا الكلام غلط في الشريعة والقانون\\n فلا يوجد ولي للزوجة او المراة الا اذا كانت قاصرا ويكون الولي ابوها ...الخ وليس الزوج منهم\\n نعم له حقوق عليها لكنها ليست ولاية\\n الولاية مصطلح فقهي قانوني ...   \n",
       "\n",
       "   label  \n",
       "0      1  \n",
       "1      1  \n",
       "2      1  \n",
       "3      1  \n",
       "4      1  "
      ]
     },
     "execution_count": 9,
     "metadata": {},
     "output_type": "execute_result"
    }
   ],
   "source": [
    "df_ss2030.head()"
   ]
  },
  {
   "cell_type": "code",
   "execution_count": 10,
   "id": "random-rally",
   "metadata": {
    "execution": {
     "iopub.execute_input": "2022-05-18T18:13:03.379939Z",
     "iopub.status.busy": "2022-05-18T18:13:03.378836Z",
     "iopub.status.idle": "2022-05-18T18:13:03.382367Z",
     "shell.execute_reply": "2022-05-18T18:13:03.382757Z",
     "shell.execute_reply.started": "2022-05-18T18:08:36.614314Z"
    },
    "papermill": {
     "duration": 0.077394,
     "end_time": "2022-05-18T18:13:03.382887",
     "exception": false,
     "start_time": "2022-05-18T18:13:03.305493",
     "status": "completed"
    },
    "tags": []
   },
   "outputs": [
    {
     "data": {
      "text/plain": [
       "(4252, 2)"
      ]
     },
     "execution_count": 10,
     "metadata": {},
     "output_type": "execute_result"
    }
   ],
   "source": [
    "df_ss2030.shape"
   ]
  },
  {
   "cell_type": "code",
   "execution_count": 11,
   "id": "tribal-windows",
   "metadata": {
    "execution": {
     "iopub.execute_input": "2022-05-18T18:13:03.532172Z",
     "iopub.status.busy": "2022-05-18T18:13:03.531662Z",
     "iopub.status.idle": "2022-05-18T18:13:04.505848Z",
     "shell.execute_reply": "2022-05-18T18:13:04.505151Z",
     "shell.execute_reply.started": "2022-05-18T18:08:36.621588Z"
    },
    "papermill": {
     "duration": 1.052317,
     "end_time": "2022-05-18T18:13:04.505997",
     "exception": false,
     "start_time": "2022-05-18T18:13:03.453680",
     "status": "completed"
    },
    "tags": []
   },
   "outputs": [],
   "source": [
    "df_reviews = pd.read_csv(\"../input/arabic-100k-reviews/ar_reviews_100k.tsv\", delimiter=\"\\t\")\n",
    "# Create a mapping for the labels such that we use the same convention across all datasets\n",
    "label_mapping = {\"Positive\": 1, \"Negative\":0}\n",
    "# Filter to only have pos and neg tweets, i.e: remove mixed tweets\n",
    "df_reviews = df_reviews[df_reviews.label != \"Mixed\"]\n",
    "df_reviews[\"label\"] = df_reviews[\"label\"].map(label_mapping)\n",
    "# Rename columns to match convention\n",
    "df_reviews = df_reviews.rename(columns = {\"text\":\"tweet\"})"
   ]
  },
  {
   "cell_type": "code",
   "execution_count": 12,
   "id": "satisfied-snake",
   "metadata": {
    "execution": {
     "iopub.execute_input": "2022-05-18T18:13:04.653819Z",
     "iopub.status.busy": "2022-05-18T18:13:04.653134Z",
     "iopub.status.idle": "2022-05-18T18:13:04.658046Z",
     "shell.execute_reply": "2022-05-18T18:13:04.657638Z",
     "shell.execute_reply.started": "2022-05-18T18:08:37.211966Z"
    },
    "papermill": {
     "duration": 0.081945,
     "end_time": "2022-05-18T18:13:04.658154",
     "exception": false,
     "start_time": "2022-05-18T18:13:04.576209",
     "status": "completed"
    },
    "tags": []
   },
   "outputs": [
    {
     "data": {
      "text/html": [
       "<div>\n",
       "<style scoped>\n",
       "    .dataframe tbody tr th:only-of-type {\n",
       "        vertical-align: middle;\n",
       "    }\n",
       "\n",
       "    .dataframe tbody tr th {\n",
       "        vertical-align: top;\n",
       "    }\n",
       "\n",
       "    .dataframe thead th {\n",
       "        text-align: right;\n",
       "    }\n",
       "</style>\n",
       "<table border=\"1\" class=\"dataframe\">\n",
       "  <thead>\n",
       "    <tr style=\"text-align: right;\">\n",
       "      <th></th>\n",
       "      <th>label</th>\n",
       "      <th>tweet</th>\n",
       "    </tr>\n",
       "  </thead>\n",
       "  <tbody>\n",
       "    <tr>\n",
       "      <th>0</th>\n",
       "      <td>1</td>\n",
       "      <td>ممتاز نوعا ما . النظافة والموقع والتجهيز والشاطيء. المطعم</td>\n",
       "    </tr>\n",
       "    <tr>\n",
       "      <th>1</th>\n",
       "      <td>1</td>\n",
       "      <td>أحد أسباب نجاح الإمارات أن كل شخص في هذه الدولة يعشق ترابها. نحن نحب الإمارات. ومضات من فكر. نصائح لدولة تطمح بالصفوف الأولى و قائد لا يقبل إلا براحة شعبه وتوفر كل سب العيش الكريم. حكم و مواقف ونصائح لكل فرد فينا ليس بمجرد كتاب سياسي كما كنت اعتقد. يستحق القراءة مرات كثيرة</td>\n",
       "    </tr>\n",
       "    <tr>\n",
       "      <th>2</th>\n",
       "      <td>1</td>\n",
       "      <td>هادفة .. وقوية. تنقلك من صخب شوارع القاهرة الى هدوء جبال الشيشان .. للتعرف على حقيقة ما يجرى فى تلك البلاد من حروب ضاربة بحق المسلمين و جزء كبير من تاريخ تلك المنطقة. التضحية .. الرجولة .. الوفاء والكثير من القيم الأخرى اثبتت وجودها فى تلك الرواية البسيطة</td>\n",
       "    </tr>\n",
       "    <tr>\n",
       "      <th>3</th>\n",
       "      <td>1</td>\n",
       "      <td>خلصنا .. مبدئيا اللي مستني ابهار زي الفيل الازرق ميقراش احسن.. احمد مراد تخطى مرحلة ان القارئ يخلص الرواية وهو فاتح بؤه لمرحلة ان القارئ يخلص الرواية وهو محترم الكاتب.. اتقان مخيف.. بصرف النظر عن اخطاء لا تذكر ف الحوار.. انما احمد مراد سافر عاش حبة ف اوائل القرن العشرين وجه ي...</td>\n",
       "    </tr>\n",
       "    <tr>\n",
       "      <th>4</th>\n",
       "      <td>1</td>\n",
       "      <td>ياسات جلوريا جزء لا يتجزأ من دبي . فندق متكامل الخدمات مريح نفسيا. لا يوجد</td>\n",
       "    </tr>\n",
       "  </tbody>\n",
       "</table>\n",
       "</div>"
      ],
      "text/plain": [
       "   label  \\\n",
       "0      1   \n",
       "1      1   \n",
       "2      1   \n",
       "3      1   \n",
       "4      1   \n",
       "\n",
       "                                                                                                                                                                                                                                                                                     tweet  \n",
       "0                                                                                                                                                                                                                                ممتاز نوعا ما . النظافة والموقع والتجهيز والشاطيء. المطعم  \n",
       "1        أحد أسباب نجاح الإمارات أن كل شخص في هذه الدولة يعشق ترابها. نحن نحب الإمارات. ومضات من فكر. نصائح لدولة تطمح بالصفوف الأولى و قائد لا يقبل إلا براحة شعبه وتوفر كل سب العيش الكريم. حكم و مواقف ونصائح لكل فرد فينا ليس بمجرد كتاب سياسي كما كنت اعتقد. يستحق القراءة مرات كثيرة  \n",
       "2                          هادفة .. وقوية. تنقلك من صخب شوارع القاهرة الى هدوء جبال الشيشان .. للتعرف على حقيقة ما يجرى فى تلك البلاد من حروب ضاربة بحق المسلمين و جزء كبير من تاريخ تلك المنطقة. التضحية .. الرجولة .. الوفاء والكثير من القيم الأخرى اثبتت وجودها فى تلك الرواية البسيطة  \n",
       "3  خلصنا .. مبدئيا اللي مستني ابهار زي الفيل الازرق ميقراش احسن.. احمد مراد تخطى مرحلة ان القارئ يخلص الرواية وهو فاتح بؤه لمرحلة ان القارئ يخلص الرواية وهو محترم الكاتب.. اتقان مخيف.. بصرف النظر عن اخطاء لا تذكر ف الحوار.. انما احمد مراد سافر عاش حبة ف اوائل القرن العشرين وجه ي...  \n",
       "4                                                                                                                                                                                                               ياسات جلوريا جزء لا يتجزأ من دبي . فندق متكامل الخدمات مريح نفسيا. لا يوجد  "
      ]
     },
     "execution_count": 12,
     "metadata": {},
     "output_type": "execute_result"
    }
   ],
   "source": [
    "df_reviews.head()"
   ]
  },
  {
   "cell_type": "code",
   "execution_count": 13,
   "id": "motivated-destruction",
   "metadata": {
    "execution": {
     "iopub.execute_input": "2022-05-18T18:13:04.804813Z",
     "iopub.status.busy": "2022-05-18T18:13:04.804031Z",
     "iopub.status.idle": "2022-05-18T18:13:04.807318Z",
     "shell.execute_reply": "2022-05-18T18:13:04.807773Z",
     "shell.execute_reply.started": "2022-05-18T18:08:37.223326Z"
    },
    "papermill": {
     "duration": 0.078857,
     "end_time": "2022-05-18T18:13:04.807904",
     "exception": false,
     "start_time": "2022-05-18T18:13:04.729047",
     "status": "completed"
    },
    "tags": []
   },
   "outputs": [
    {
     "data": {
      "text/plain": [
       "(66666, 2)"
      ]
     },
     "execution_count": 13,
     "metadata": {},
     "output_type": "execute_result"
    }
   ],
   "source": [
    "df_reviews.shape"
   ]
  },
  {
   "cell_type": "code",
   "execution_count": 14,
   "id": "lesser-geneva",
   "metadata": {
    "execution": {
     "iopub.execute_input": "2022-05-18T18:13:04.954092Z",
     "iopub.status.busy": "2022-05-18T18:13:04.953192Z",
     "iopub.status.idle": "2022-05-18T18:13:04.959393Z",
     "shell.execute_reply": "2022-05-18T18:13:04.958883Z",
     "shell.execute_reply.started": "2022-05-18T18:08:37.236804Z"
    },
    "papermill": {
     "duration": 0.081219,
     "end_time": "2022-05-18T18:13:04.959542",
     "exception": false,
     "start_time": "2022-05-18T18:13:04.878323",
     "status": "completed"
    },
    "tags": []
   },
   "outputs": [],
   "source": [
    "data=pd.concat([df_reviews[:33333],df_ss2030[:2000], train_df[:25000] ])"
   ]
  },
  {
   "cell_type": "code",
   "execution_count": 15,
   "id": "appropriate-dating",
   "metadata": {
    "execution": {
     "iopub.execute_input": "2022-05-18T18:13:05.105220Z",
     "iopub.status.busy": "2022-05-18T18:13:05.104729Z",
     "iopub.status.idle": "2022-05-18T18:13:05.110192Z",
     "shell.execute_reply": "2022-05-18T18:13:05.109794Z",
     "shell.execute_reply.started": "2022-05-18T18:08:37.250002Z"
    },
    "papermill": {
     "duration": 0.079773,
     "end_time": "2022-05-18T18:13:05.110304",
     "exception": false,
     "start_time": "2022-05-18T18:13:05.030531",
     "status": "completed"
    },
    "tags": []
   },
   "outputs": [
    {
     "data": {
      "text/plain": [
       "(60333, 2)"
      ]
     },
     "execution_count": 15,
     "metadata": {},
     "output_type": "execute_result"
    }
   ],
   "source": [
    "data.shape"
   ]
  },
  {
   "cell_type": "code",
   "execution_count": 16,
   "id": "fewer-bristol",
   "metadata": {
    "execution": {
     "iopub.execute_input": "2022-05-18T18:13:05.256099Z",
     "iopub.status.busy": "2022-05-18T18:13:05.255266Z",
     "iopub.status.idle": "2022-05-18T18:13:05.257802Z",
     "shell.execute_reply": "2022-05-18T18:13:05.258162Z",
     "shell.execute_reply.started": "2022-05-18T18:08:37.257495Z"
    },
    "papermill": {
     "duration": 0.076757,
     "end_time": "2022-05-18T18:13:05.258291",
     "exception": false,
     "start_time": "2022-05-18T18:13:05.181534",
     "status": "completed"
    },
    "tags": []
   },
   "outputs": [],
   "source": [
    "# from sklearn.model_selection import train_test_split\n",
    "# X = data.tweet.values\n",
    "# y = data.label.values\n",
    "\n",
    "# # The train val split is used by the DL approach but not classical ML\n",
    "# X_train, X_val, y_train, y_val = train_test_split(X,y,test_size=0.1, random_state=2020)"
   ]
  },
  {
   "cell_type": "code",
   "execution_count": 17,
   "id": "damaged-afghanistan",
   "metadata": {
    "execution": {
     "iopub.execute_input": "2022-05-18T18:13:05.406070Z",
     "iopub.status.busy": "2022-05-18T18:13:05.405508Z",
     "iopub.status.idle": "2022-05-18T18:13:05.420430Z",
     "shell.execute_reply": "2022-05-18T18:13:05.419991Z",
     "shell.execute_reply.started": "2022-05-18T18:08:37.265640Z"
    },
    "papermill": {
     "duration": 0.090748,
     "end_time": "2022-05-18T18:13:05.420558",
     "exception": false,
     "start_time": "2022-05-18T18:13:05.329810",
     "status": "completed"
    },
    "tags": []
   },
   "outputs": [],
   "source": [
    "# Helper functions \n",
    "from sklearn.feature_extraction.text import CountVectorizer\n",
    "from sklearn.feature_extraction.text import TfidfTransformer\n",
    "from sklearn.pipeline import Pipeline\n",
    "def train_model(model, data, targets):\n",
    "    text_clf = Pipeline([\n",
    "    ('vect', CountVectorizer()),\n",
    "    ('tfidf', TfidfTransformer()),\n",
    "    ('clf', model),\n",
    "    ])\n",
    "    text_clf.fit(data, targets)\n",
    "    return text_clf\n",
    "def get_accuracy(trained_model,X, y):\n",
    "    predicted = trained_model.predict(X)\n",
    "    accuracy = np.mean(predicted == y)\n",
    "    return accuracy"
   ]
  },
  {
   "cell_type": "code",
   "execution_count": 18,
   "id": "generic-addiction",
   "metadata": {
    "execution": {
     "iopub.execute_input": "2022-05-18T18:13:05.567805Z",
     "iopub.status.busy": "2022-05-18T18:13:05.567082Z",
     "iopub.status.idle": "2022-05-18T18:13:06.730638Z",
     "shell.execute_reply": "2022-05-18T18:13:06.731057Z",
     "shell.execute_reply.started": "2022-05-18T18:08:37.275843Z"
    },
    "papermill": {
     "duration": 1.238347,
     "end_time": "2022-05-18T18:13:06.731200",
     "exception": false,
     "start_time": "2022-05-18T18:13:05.492853",
     "status": "completed"
    },
    "tags": []
   },
   "outputs": [
    {
     "name": "stdout",
     "output_type": "stream",
     "text": [
      "Test dataset accuracy with MultinomialNB: 0.79\n"
     ]
    }
   ],
   "source": [
    "from sklearn.naive_bayes import MultinomialNB\n",
    "trained_clf_multinomial_nb = train_model(MultinomialNB(), X, y)\n",
    "accuracy = get_accuracy(trained_clf_multinomial_nb,X_test, y_test)\n",
    "print(f\"Test dataset accuracy with MultinomialNB: {accuracy:.2f}\")"
   ]
  },
  {
   "cell_type": "code",
   "execution_count": 19,
   "id": "apparent-substitute",
   "metadata": {
    "execution": {
     "iopub.execute_input": "2022-05-18T18:13:06.880596Z",
     "iopub.status.busy": "2022-05-18T18:13:06.879502Z",
     "iopub.status.idle": "2022-05-18T18:13:06.882622Z",
     "shell.execute_reply": "2022-05-18T18:13:06.882150Z",
     "shell.execute_reply.started": "2022-05-18T18:08:38.521640Z"
    },
    "papermill": {
     "duration": 0.079646,
     "end_time": "2022-05-18T18:13:06.882738",
     "exception": false,
     "start_time": "2022-05-18T18:13:06.803092",
     "status": "completed"
    },
    "tags": []
   },
   "outputs": [],
   "source": [
    "def print_all_accuracies(dataset_name, dataset):\n",
    "  accuracy = get_accuracy(trained_clf_multinomial_nb,dataset.tweet.values, dataset.label.values)\n",
    "  print(f\"{dataset_name} dataset accuracy with Multinomial NB: {accuracy:.2f}\")\n",
    "\n"
   ]
  },
  {
   "cell_type": "code",
   "execution_count": 20,
   "id": "current-dylan",
   "metadata": {
    "execution": {
     "iopub.execute_input": "2022-05-18T18:13:07.060565Z",
     "iopub.status.busy": "2022-05-18T18:13:07.045136Z",
     "iopub.status.idle": "2022-05-18T18:13:11.034548Z",
     "shell.execute_reply": "2022-05-18T18:13:11.033755Z",
     "shell.execute_reply.started": "2022-05-18T18:08:38.528709Z"
    },
    "papermill": {
     "duration": 4.080127,
     "end_time": "2022-05-18T18:13:11.034674",
     "exception": false,
     "start_time": "2022-05-18T18:13:06.954547",
     "status": "completed"
    },
    "tags": []
   },
   "outputs": [
    {
     "name": "stdout",
     "output_type": "stream",
     "text": [
      "SS2030 dataset accuracy with Multinomial NB: 0.59\n",
      "100k Arabic Reviews dataset accuracy with Multinomial NB: 0.60\n"
     ]
    }
   ],
   "source": [
    "print_all_accuracies(\"SS2030\", df_ss2030)\n",
    "print_all_accuracies(\"100k Arabic Reviews\", df_reviews)"
   ]
  },
  {
   "cell_type": "code",
   "execution_count": 21,
   "id": "imposed-highland",
   "metadata": {
    "execution": {
     "iopub.execute_input": "2022-05-18T18:13:11.188831Z",
     "iopub.status.busy": "2022-05-18T18:13:11.188022Z",
     "iopub.status.idle": "2022-05-18T18:13:20.829839Z",
     "shell.execute_reply": "2022-05-18T18:13:20.829358Z",
     "shell.execute_reply.started": "2022-05-18T18:08:42.635802Z"
    },
    "papermill": {
     "duration": 9.722893,
     "end_time": "2022-05-18T18:13:20.829984",
     "exception": false,
     "start_time": "2022-05-18T18:13:11.107091",
     "status": "completed"
    },
    "tags": []
   },
   "outputs": [
    {
     "data": {
      "text/plain": [
       "array([0.77304965, 0.76638298, 0.77078014, 0.77198582, 0.77390071,\n",
       "       0.76950355, 0.76943262, 0.77120567, 0.7735461 , 0.7741844 ])"
      ]
     },
     "execution_count": 21,
     "metadata": {},
     "output_type": "execute_result"
    }
   ],
   "source": [
    "from sklearn.model_selection import ShuffleSplit\n",
    "from sklearn.model_selection import cross_val_score\n",
    "import warnings\n",
    "warnings.filterwarnings('ignore')\n",
    "cv=ShuffleSplit(10,test_size=0.3, random_state=1)\n",
    "cross_val_score(trained_clf_multinomial_nb,X,y, cv=cv , scoring='accuracy')"
   ]
  },
  {
   "cell_type": "markdown",
   "id": "royal-radio",
   "metadata": {
    "papermill": {
     "duration": 0.071259,
     "end_time": "2022-05-18T18:13:20.973971",
     "exception": false,
     "start_time": "2022-05-18T18:13:20.902712",
     "status": "completed"
    },
    "tags": []
   },
   "source": [
    "# GridSearchCV"
   ]
  },
  {
   "cell_type": "code",
   "execution_count": 22,
   "id": "raised-phenomenon",
   "metadata": {
    "execution": {
     "iopub.execute_input": "2022-05-18T18:13:21.171979Z",
     "iopub.status.busy": "2022-05-18T18:13:21.156719Z",
     "iopub.status.idle": "2022-05-18T18:13:29.154903Z",
     "shell.execute_reply": "2022-05-18T18:13:29.154462Z",
     "shell.execute_reply.started": "2022-05-18T18:08:52.691490Z"
    },
    "papermill": {
     "duration": 8.108323,
     "end_time": "2022-05-18T18:13:29.155025",
     "exception": false,
     "start_time": "2022-05-18T18:13:21.046702",
     "status": "completed"
    },
    "tags": []
   },
   "outputs": [
    {
     "data": {
      "text/plain": [
       "Pipeline(steps=[('vect', CountVectorizer()), ('tfidf', TfidfTransformer()),\n",
       "                ('clf',\n",
       "                 GridSearchCV(cv=10, estimator=MultinomialNB(), n_jobs=-1,\n",
       "                              param_grid={'alpha': (0, 0.1, 0.2, 0.3, 0.4, 0.5,\n",
       "                                                    0.8, 0.88, 0.9, 1, 2, 3, 4,\n",
       "                                                    5, 6),\n",
       "                                          'fit_prior': (0.5, 0.5)},\n",
       "                              scoring='accuracy'))])"
      ]
     },
     "execution_count": 22,
     "metadata": {},
     "output_type": "execute_result"
    }
   ],
   "source": [
    "from sklearn.model_selection import GridSearchCV\n",
    "hyperparameters = {\"alpha\":(0,0.1, 0.2, 0.3, 0.4, 0.5 ,  0.8 , 0.88, 0.9, 1 ,2, 3,4 ,5, 6), \"fit_prior\":(0.5,0.5)}\n",
    "Grid= GridSearchCV(estimator=MultinomialNB(), param_grid=hyperparameters, cv=10, scoring=\"accuracy\", n_jobs=-1)\n",
    "train_model(Grid, X, y)"
   ]
  },
  {
   "cell_type": "code",
   "execution_count": 23,
   "id": "photographic-hammer",
   "metadata": {
    "execution": {
     "iopub.execute_input": "2022-05-18T18:13:29.305409Z",
     "iopub.status.busy": "2022-05-18T18:13:29.304699Z",
     "iopub.status.idle": "2022-05-18T18:13:29.308220Z",
     "shell.execute_reply": "2022-05-18T18:13:29.307787Z",
     "shell.execute_reply.started": "2022-05-18T18:09:01.409309Z"
    },
    "papermill": {
     "duration": 0.080213,
     "end_time": "2022-05-18T18:13:29.308326",
     "exception": false,
     "start_time": "2022-05-18T18:13:29.228113",
     "status": "completed"
    },
    "tags": []
   },
   "outputs": [
    {
     "data": {
      "text/plain": [
       "MultinomialNB(alpha=0.2, fit_prior=0.5)"
      ]
     },
     "execution_count": 23,
     "metadata": {},
     "output_type": "execute_result"
    }
   ],
   "source": [
    "Grid.best_estimator_"
   ]
  },
  {
   "cell_type": "code",
   "execution_count": 24,
   "id": "biblical-litigation",
   "metadata": {
    "execution": {
     "iopub.execute_input": "2022-05-18T18:13:29.458686Z",
     "iopub.status.busy": "2022-05-18T18:13:29.457937Z",
     "iopub.status.idle": "2022-05-18T18:13:29.461035Z",
     "shell.execute_reply": "2022-05-18T18:13:29.461467Z",
     "shell.execute_reply.started": "2022-05-18T18:09:01.418135Z"
    },
    "papermill": {
     "duration": 0.079941,
     "end_time": "2022-05-18T18:13:29.461598",
     "exception": false,
     "start_time": "2022-05-18T18:13:29.381657",
     "status": "completed"
    },
    "tags": []
   },
   "outputs": [
    {
     "data": {
      "text/plain": [
       "{'alpha': 0.2, 'fit_prior': 0.5}"
      ]
     },
     "execution_count": 24,
     "metadata": {},
     "output_type": "execute_result"
    }
   ],
   "source": [
    "Grid.best_params_"
   ]
  },
  {
   "cell_type": "code",
   "execution_count": 25,
   "id": "fatty-bowling",
   "metadata": {
    "execution": {
     "iopub.execute_input": "2022-05-18T18:13:29.610750Z",
     "iopub.status.busy": "2022-05-18T18:13:29.610050Z",
     "iopub.status.idle": "2022-05-18T18:13:29.613123Z",
     "shell.execute_reply": "2022-05-18T18:13:29.613577Z",
     "shell.execute_reply.started": "2022-05-18T18:09:01.431364Z"
    },
    "papermill": {
     "duration": 0.07982,
     "end_time": "2022-05-18T18:13:29.613737",
     "exception": false,
     "start_time": "2022-05-18T18:13:29.533917",
     "status": "completed"
    },
    "tags": []
   },
   "outputs": [
    {
     "data": {
      "text/plain": [
       "0.7890425531914893"
      ]
     },
     "execution_count": 25,
     "metadata": {},
     "output_type": "execute_result"
    }
   ],
   "source": [
    "Grid.best_score_"
   ]
  },
  {
   "cell_type": "code",
   "execution_count": 26,
   "id": "duplicate-calendar",
   "metadata": {
    "execution": {
     "iopub.execute_input": "2022-05-18T18:13:29.862927Z",
     "iopub.status.busy": "2022-05-18T18:13:29.853353Z",
     "iopub.status.idle": "2022-05-18T18:13:31.077269Z",
     "shell.execute_reply": "2022-05-18T18:13:31.076839Z",
     "shell.execute_reply.started": "2022-05-18T18:09:01.442079Z"
    },
    "papermill": {
     "duration": 1.352565,
     "end_time": "2022-05-18T18:13:31.077390",
     "exception": false,
     "start_time": "2022-05-18T18:13:29.724825",
     "status": "completed"
    },
    "tags": []
   },
   "outputs": [
    {
     "name": "stdout",
     "output_type": "stream",
     "text": [
      "Test dataset accuracy with MultinomialNB: 0.79\n"
     ]
    }
   ],
   "source": [
    "trained_clf_multinomial_nb_imm = train_model(MultinomialNB(alpha=0.2, fit_prior=[0.5,0.5]), X, y)\n",
    "accuracy = get_accuracy(trained_clf_multinomial_nb_imm,X_test, y_test)\n",
    "print(f\"Test dataset accuracy with MultinomialNB: {accuracy:.2f}\")"
   ]
  },
  {
   "cell_type": "code",
   "execution_count": 27,
   "id": "conditional-counter",
   "metadata": {
    "execution": {
     "iopub.execute_input": "2022-05-18T18:13:31.257222Z",
     "iopub.status.busy": "2022-05-18T18:13:31.252324Z",
     "iopub.status.idle": "2022-05-18T18:13:33.948374Z",
     "shell.execute_reply": "2022-05-18T18:13:33.948900Z",
     "shell.execute_reply.started": "2022-05-18T18:09:02.714812Z"
    },
    "papermill": {
     "duration": 2.798914,
     "end_time": "2022-05-18T18:13:33.949054",
     "exception": false,
     "start_time": "2022-05-18T18:13:31.150140",
     "status": "completed"
    },
    "tags": []
   },
   "outputs": [
    {
     "name": "stdout",
     "output_type": "stream",
     "text": [
      "Best score: 0.783\n",
      "Best parameters set:\n",
      "\talpha: 0.8\n"
     ]
    }
   ],
   "source": [
    "from sklearn.model_selection import GridSearchCV\n",
    "hyperparameters = {\"alpha\":(0, 0.8,0.88, 0.9, 1 ,2,3,4,5,6),}\n",
    "Grid= GridSearchCV(estimator=MultinomialNB(), param_grid=hyperparameters, cv=10, scoring=\"accuracy\", n_jobs=-1)\n",
    "train_model(Grid, X, y)\n",
    "print(\"Best score: %0.3f\" % Grid.best_score_)\n",
    "print(\"Best parameters set:\")\n",
    "best_parameters = Grid.best_estimator_.get_params()\n",
    "for param_name in sorted(hyperparameters.keys()):\n",
    "    print(\"\\t%s: %r\" % (param_name, best_parameters[param_name]))"
   ]
  },
  {
   "cell_type": "code",
   "execution_count": 28,
   "id": "legal-console",
   "metadata": {
    "execution": {
     "iopub.execute_input": "2022-05-18T18:13:34.101200Z",
     "iopub.status.busy": "2022-05-18T18:13:34.100704Z",
     "iopub.status.idle": "2022-05-18T18:13:34.105631Z",
     "shell.execute_reply": "2022-05-18T18:13:34.105159Z",
     "shell.execute_reply.started": "2022-05-18T18:09:05.657984Z"
    },
    "papermill": {
     "duration": 0.082934,
     "end_time": "2022-05-18T18:13:34.105745",
     "exception": false,
     "start_time": "2022-05-18T18:13:34.022811",
     "status": "completed"
    },
    "tags": []
   },
   "outputs": [
    {
     "data": {
      "text/plain": [
       "MultinomialNB(alpha=0.8)"
      ]
     },
     "execution_count": 28,
     "metadata": {},
     "output_type": "execute_result"
    }
   ],
   "source": [
    "Grid.best_estimator_"
   ]
  },
  {
   "cell_type": "code",
   "execution_count": 29,
   "id": "appreciated-maintenance",
   "metadata": {
    "execution": {
     "iopub.execute_input": "2022-05-18T18:13:34.260197Z",
     "iopub.status.busy": "2022-05-18T18:13:34.259295Z",
     "iopub.status.idle": "2022-05-18T18:13:34.263202Z",
     "shell.execute_reply": "2022-05-18T18:13:34.263899Z",
     "shell.execute_reply.started": "2022-05-18T18:09:05.667321Z"
    },
    "papermill": {
     "duration": 0.084159,
     "end_time": "2022-05-18T18:13:34.264101",
     "exception": false,
     "start_time": "2022-05-18T18:13:34.179942",
     "status": "completed"
    },
    "tags": []
   },
   "outputs": [
    {
     "data": {
      "text/plain": [
       "{'alpha': 0.8}"
      ]
     },
     "execution_count": 29,
     "metadata": {},
     "output_type": "execute_result"
    }
   ],
   "source": [
    "Grid.best_params_"
   ]
  },
  {
   "cell_type": "code",
   "execution_count": 30,
   "id": "toxic-vehicle",
   "metadata": {
    "execution": {
     "iopub.execute_input": "2022-05-18T18:13:34.429595Z",
     "iopub.status.busy": "2022-05-18T18:13:34.428825Z",
     "iopub.status.idle": "2022-05-18T18:13:34.432416Z",
     "shell.execute_reply": "2022-05-18T18:13:34.432015Z",
     "shell.execute_reply.started": "2022-05-18T18:09:05.675827Z"
    },
    "papermill": {
     "duration": 0.085873,
     "end_time": "2022-05-18T18:13:34.432542",
     "exception": false,
     "start_time": "2022-05-18T18:13:34.346669",
     "status": "completed"
    },
    "tags": []
   },
   "outputs": [
    {
     "data": {
      "text/plain": [
       "0.7826808510638299"
      ]
     },
     "execution_count": 30,
     "metadata": {},
     "output_type": "execute_result"
    }
   ],
   "source": [
    "Grid.best_score_"
   ]
  },
  {
   "cell_type": "code",
   "execution_count": 31,
   "id": "diagnostic-potter",
   "metadata": {
    "execution": {
     "iopub.execute_input": "2022-05-18T18:13:34.649230Z",
     "iopub.status.busy": "2022-05-18T18:13:34.628363Z",
     "iopub.status.idle": "2022-05-18T18:13:35.901306Z",
     "shell.execute_reply": "2022-05-18T18:13:35.902365Z",
     "shell.execute_reply.started": "2022-05-18T18:09:05.685945Z"
    },
    "papermill": {
     "duration": 1.392197,
     "end_time": "2022-05-18T18:13:35.902628",
     "exception": false,
     "start_time": "2022-05-18T18:13:34.510431",
     "status": "completed"
    },
    "tags": []
   },
   "outputs": [
    {
     "name": "stdout",
     "output_type": "stream",
     "text": [
      "Test dataset accuracy with MultinomialNB: 0.79\n"
     ]
    }
   ],
   "source": [
    "trained_clf_multinomial_nb_im = train_model(MultinomialNB(alpha=0.8, fit_prior=(0.5,0.5)), X, y)\n",
    "accuracy = get_accuracy(trained_clf_multinomial_nb_im,X_test, y_test)\n",
    "print(f\"Test dataset accuracy with MultinomialNB: {accuracy:.2f}\")"
   ]
  },
  {
   "cell_type": "code",
   "execution_count": 32,
   "id": "opposed-citizen",
   "metadata": {
    "execution": {
     "iopub.execute_input": "2022-05-18T18:13:36.171510Z",
     "iopub.status.busy": "2022-05-18T18:13:36.170673Z",
     "iopub.status.idle": "2022-05-18T18:13:36.172849Z",
     "shell.execute_reply": "2022-05-18T18:13:36.172196Z",
     "shell.execute_reply.started": "2022-05-18T18:09:07.137502Z"
    },
    "papermill": {
     "duration": 0.13465,
     "end_time": "2022-05-18T18:13:36.173002",
     "exception": false,
     "start_time": "2022-05-18T18:13:36.038352",
     "status": "completed"
    },
    "tags": []
   },
   "outputs": [],
   "source": [
    "def print_all_im_accuracies(dataset_name, dataset):\n",
    "  accuracy = get_accuracy(trained_clf_multinomial_nb_im,dataset.tweet.values, dataset.label.values)\n",
    "  print(f\"{dataset_name} dataset accuracy with Multinomial NB: {accuracy:.2f}\")"
   ]
  },
  {
   "cell_type": "code",
   "execution_count": 33,
   "id": "historic-renaissance",
   "metadata": {
    "execution": {
     "iopub.execute_input": "2022-05-18T18:13:36.380322Z",
     "iopub.status.busy": "2022-05-18T18:13:36.370340Z",
     "iopub.status.idle": "2022-05-18T18:13:40.469906Z",
     "shell.execute_reply": "2022-05-18T18:13:40.470916Z",
     "shell.execute_reply.started": "2022-05-18T18:09:07.144780Z"
    },
    "papermill": {
     "duration": 4.194806,
     "end_time": "2022-05-18T18:13:40.471117",
     "exception": false,
     "start_time": "2022-05-18T18:13:36.276311",
     "status": "completed"
    },
    "tags": []
   },
   "outputs": [
    {
     "name": "stdout",
     "output_type": "stream",
     "text": [
      "SS2030 dataset accuracy with Multinomial NB: 0.59\n",
      "100k Arabic Reviews dataset accuracy with Multinomial NB: 0.60\n"
     ]
    }
   ],
   "source": [
    "print_all_im_accuracies(\"SS2030\", df_ss2030)\n",
    "print_all_im_accuracies(\"100k Arabic Reviews\", df_reviews)"
   ]
  },
  {
   "cell_type": "code",
   "execution_count": 34,
   "id": "double-moral",
   "metadata": {
    "execution": {
     "iopub.execute_input": "2022-05-18T18:13:40.655320Z",
     "iopub.status.busy": "2022-05-18T18:13:40.645022Z",
     "iopub.status.idle": "2022-05-18T18:13:41.973860Z",
     "shell.execute_reply": "2022-05-18T18:13:41.973160Z",
     "shell.execute_reply.started": "2022-05-18T18:09:11.261049Z"
    },
    "papermill": {
     "duration": 1.426974,
     "end_time": "2022-05-18T18:13:41.974031",
     "exception": false,
     "start_time": "2022-05-18T18:13:40.547057",
     "status": "completed"
    },
    "tags": []
   },
   "outputs": [
    {
     "name": "stdout",
     "output_type": "stream",
     "text": [
      "Fitting 2 folds for each of 7 candidates, totalling 14 fits\n",
      "Best score: 0.771\n",
      "Best parameters set:\n",
      "\tnb__alpha: 0.1\n"
     ]
    }
   ],
   "source": [
    "from sklearn import  pipeline\n",
    "nb_model = MultinomialNB()\n",
    "clf = pipeline.Pipeline([('nb', nb_model)])\n",
    "param_grid = {'nb__alpha': [0.001, 0.01,0.8, 0.1, 1, 10, 100]}\n",
    "model = GridSearchCV(estimator=clf, param_grid=param_grid, scoring=\"accuracy\",\n",
    "                                 verbose=10, n_jobs=-1, refit=True, cv=2)\n",
    "\n",
    "# Fit Grid Search Model\n",
    "train_model(model, X, y) # we can use the full data here but im only using xtrain. \n",
    "print(\"Best score: %0.3f\" % model.best_score_)\n",
    "print(\"Best parameters set:\")\n",
    "best_parameters = model.best_estimator_.get_params()\n",
    "for param_name in sorted(param_grid.keys()):\n",
    "    print(\"\\t%s: %r\" % (param_name, best_parameters[param_name]))"
   ]
  },
  {
   "cell_type": "code",
   "execution_count": null,
   "id": "solar-yellow",
   "metadata": {
    "papermill": {
     "duration": 0.074933,
     "end_time": "2022-05-18T18:13:42.130263",
     "exception": false,
     "start_time": "2022-05-18T18:13:42.055330",
     "status": "completed"
    },
    "tags": []
   },
   "outputs": [],
   "source": []
  },
  {
   "cell_type": "markdown",
   "id": "vanilla-chair",
   "metadata": {
    "papermill": {
     "duration": 0.074812,
     "end_time": "2022-05-18T18:13:42.280273",
     "exception": false,
     "start_time": "2022-05-18T18:13:42.205461",
     "status": "completed"
    },
    "tags": []
   },
   "source": [
    "# ensemble learning"
   ]
  },
  {
   "cell_type": "markdown",
   "id": "caroline-journal",
   "metadata": {
    "papermill": {
     "duration": 0.074448,
     "end_time": "2022-05-18T18:13:42.431014",
     "exception": false,
     "start_time": "2022-05-18T18:13:42.356566",
     "status": "completed"
    },
    "tags": []
   },
   "source": [
    "# StackingClassifier"
   ]
  },
  {
   "cell_type": "code",
   "execution_count": 35,
   "id": "first-immigration",
   "metadata": {
    "execution": {
     "iopub.execute_input": "2022-05-18T18:13:42.585635Z",
     "iopub.status.busy": "2022-05-18T18:13:42.584983Z",
     "iopub.status.idle": "2022-05-18T18:13:44.121795Z",
     "shell.execute_reply": "2022-05-18T18:13:44.121290Z",
     "shell.execute_reply.started": "2022-05-18T18:09:12.689827Z"
    },
    "papermill": {
     "duration": 1.6162,
     "end_time": "2022-05-18T18:13:44.121929",
     "exception": false,
     "start_time": "2022-05-18T18:13:42.505729",
     "status": "completed"
    },
    "tags": []
   },
   "outputs": [],
   "source": [
    "from sklearn.ensemble import  StackingClassifier\n",
    "model1= StackingClassifier([('MNB1',MultinomialNB(alpha=0.1, fit_prior=[0.5,0.5])),('MNB2',MultinomialNB(alpha=0.2)),\n",
    "                         ('MNB3',MultinomialNB(alpha=1))], final_estimator=MultinomialNB(alpha=0.1))\n",
    "\n",
    "\n",
    "\n",
    "trained_clf_multinomial_nb_im2= train_model(model1, X, y)"
   ]
  },
  {
   "cell_type": "code",
   "execution_count": 36,
   "id": "listed-timeline",
   "metadata": {
    "execution": {
     "iopub.execute_input": "2022-05-18T18:13:44.333124Z",
     "iopub.status.busy": "2022-05-18T18:13:44.312707Z",
     "iopub.status.idle": "2022-05-18T18:13:44.482093Z",
     "shell.execute_reply": "2022-05-18T18:13:44.482646Z",
     "shell.execute_reply.started": "2022-05-18T18:09:14.201061Z"
    },
    "papermill": {
     "duration": 0.284007,
     "end_time": "2022-05-18T18:13:44.482844",
     "exception": false,
     "start_time": "2022-05-18T18:13:44.198837",
     "status": "completed"
    },
    "tags": []
   },
   "outputs": [
    {
     "name": "stdout",
     "output_type": "stream",
     "text": [
      "Test dataset accuracy with MultinomialNB: 0.53\n"
     ]
    }
   ],
   "source": [
    "accuracy = get_accuracy(trained_clf_multinomial_nb_im2 ,X_test, y_test)\n",
    "print(f\"Test dataset accuracy with MultinomialNB: {accuracy:.2f}\")"
   ]
  },
  {
   "cell_type": "markdown",
   "id": "discrete-clerk",
   "metadata": {
    "papermill": {
     "duration": 0.075555,
     "end_time": "2022-05-18T18:13:44.635865",
     "exception": false,
     "start_time": "2022-05-18T18:13:44.560310",
     "status": "completed"
    },
    "tags": []
   },
   "source": [
    "# BaggingClassifier "
   ]
  },
  {
   "cell_type": "code",
   "execution_count": 37,
   "id": "static-witness",
   "metadata": {
    "execution": {
     "iopub.execute_input": "2022-05-18T18:13:44.841146Z",
     "iopub.status.busy": "2022-05-18T18:13:44.828411Z",
     "iopub.status.idle": "2022-05-18T18:13:49.972225Z",
     "shell.execute_reply": "2022-05-18T18:13:49.971760Z"
    },
    "papermill": {
     "duration": 5.260624,
     "end_time": "2022-05-18T18:13:49.972367",
     "exception": false,
     "start_time": "2022-05-18T18:13:44.711743",
     "status": "completed"
    },
    "tags": []
   },
   "outputs": [],
   "source": [
    "from sklearn.ensemble import BaggingClassifier \n",
    "modell =BaggingClassifier(base_estimator=MultinomialNB(alpha=1, fit_prior=[0.5,0.5]), n_estimators=200)\n",
    "trained_clf_multinomial_nb_im3= train_model(modell, X, y)"
   ]
  },
  {
   "cell_type": "code",
   "execution_count": 38,
   "id": "higher-education",
   "metadata": {
    "execution": {
     "iopub.execute_input": "2022-05-18T18:13:50.168731Z",
     "iopub.status.busy": "2022-05-18T18:13:50.163578Z",
     "iopub.status.idle": "2022-05-18T18:13:51.108023Z",
     "shell.execute_reply": "2022-05-18T18:13:51.108661Z"
    },
    "papermill": {
     "duration": 1.059753,
     "end_time": "2022-05-18T18:13:51.108885",
     "exception": false,
     "start_time": "2022-05-18T18:13:50.049132",
     "status": "completed"
    },
    "tags": []
   },
   "outputs": [
    {
     "name": "stdout",
     "output_type": "stream",
     "text": [
      "Test dataset accuracy with MultinomialNB: 0.78\n"
     ]
    }
   ],
   "source": [
    "accuracy = get_accuracy(trained_clf_multinomial_nb_im3 ,X_test, y_test)\n",
    "print(f\"Test dataset accuracy with MultinomialNB: {accuracy:.2f}\")"
   ]
  },
  {
   "cell_type": "code",
   "execution_count": 39,
   "id": "exposed-employment",
   "metadata": {
    "execution": {
     "iopub.execute_input": "2022-05-18T18:13:51.331854Z",
     "iopub.status.busy": "2022-05-18T18:13:51.312309Z",
     "iopub.status.idle": "2022-05-18T18:14:02.147515Z",
     "shell.execute_reply": "2022-05-18T18:14:02.148109Z"
    },
    "papermill": {
     "duration": 10.954006,
     "end_time": "2022-05-18T18:14:02.148322",
     "exception": false,
     "start_time": "2022-05-18T18:13:51.194316",
     "status": "completed"
    },
    "tags": []
   },
   "outputs": [
    {
     "name": "stdout",
     "output_type": "stream",
     "text": [
      "SS2030 dataset accuracy with Multinomial NB: 0.59\n",
      "100k Arabic Reviews dataset accuracy with Multinomial NB: 0.60\n"
     ]
    }
   ],
   "source": [
    "def print_all_im3_accuracies(dataset_name, dataset):\n",
    "  accuracy = get_accuracy(trained_clf_multinomial_nb_im3,dataset.tweet.values, dataset.label.values)\n",
    "  print(f\"{dataset_name} dataset accuracy with Multinomial NB: {accuracy:.2f}\")\n",
    "print_all_im3_accuracies(\"SS2030\", df_ss2030)\n",
    "print_all_im3_accuracies(\"100k Arabic Reviews\", df_reviews)"
   ]
  },
  {
   "cell_type": "markdown",
   "id": "heavy-entity",
   "metadata": {
    "execution": {
     "iopub.execute_input": "2022-05-15T01:16:34.599179Z",
     "iopub.status.busy": "2022-05-15T01:16:34.598861Z",
     "iopub.status.idle": "2022-05-15T01:16:34.602759Z",
     "shell.execute_reply": "2022-05-15T01:16:34.601658Z",
     "shell.execute_reply.started": "2022-05-15T01:16:34.599151Z"
    },
    "papermill": {
     "duration": 0.07633,
     "end_time": "2022-05-18T18:14:02.303820",
     "exception": false,
     "start_time": "2022-05-18T18:14:02.227490",
     "status": "completed"
    },
    "tags": []
   },
   "source": [
    "# VotingClassifier"
   ]
  },
  {
   "cell_type": "code",
   "execution_count": 40,
   "id": "apart-fitness",
   "metadata": {
    "execution": {
     "iopub.execute_input": "2022-05-18T18:14:02.479784Z",
     "iopub.status.busy": "2022-05-18T18:14:02.464356Z",
     "iopub.status.idle": "2022-05-18T18:14:08.199646Z",
     "shell.execute_reply": "2022-05-18T18:14:08.200266Z"
    },
    "papermill": {
     "duration": 5.819657,
     "end_time": "2022-05-18T18:14:08.200426",
     "exception": false,
     "start_time": "2022-05-18T18:14:02.380769",
     "status": "completed"
    },
    "tags": []
   },
   "outputs": [
    {
     "name": "stdout",
     "output_type": "stream",
     "text": [
      "Test dataset accuracy with MultinomialNB: 0.79\n",
      "Test dataset accuracy with MultinomialNB: 0.79\n",
      "Test dataset accuracy with MultinomialNB: 0.79\n",
      "Test dataset accuracy with MultinomialNB: 0.79\n"
     ]
    }
   ],
   "source": [
    "from sklearn.ensemble import VotingClassifier\n",
    "model1=MultinomialNB(alpha=1, fit_prior=[0.4,0.6])\n",
    "model2=MultinomialNB(alpha=1, fit_prior=[0.3,0.7])\n",
    "model21=MultinomialNB(alpha=1, fit_prior=[0.6,0.4])\n",
    "model3= VotingClassifier([('mnb1',model1),\n",
    "                         ('mnb2',model2),('mnb3',model21)\n",
    "                         ],voting='hard')\n",
    "trained_clf_multinomial_nb_im41= train_model(model3, X, y)\n",
    "for model in (model1,model2,model21, model3):\n",
    "    \n",
    "    trained_clf_multinomial_nb_im4= train_model(model, X, y)\n",
    "    accuracy = get_accuracy(trained_clf_multinomial_nb_im4 ,X_test, y_test)\n",
    "    print(f\"Test dataset accuracy with MultinomialNB: {accuracy:.2f}\")"
   ]
  },
  {
   "cell_type": "code",
   "execution_count": 41,
   "id": "wound-powder",
   "metadata": {
    "execution": {
     "iopub.execute_input": "2022-05-18T18:14:08.379955Z",
     "iopub.status.busy": "2022-05-18T18:14:08.379177Z",
     "iopub.status.idle": "2022-05-18T18:14:13.126230Z",
     "shell.execute_reply": "2022-05-18T18:14:13.127086Z"
    },
    "papermill": {
     "duration": 4.848256,
     "end_time": "2022-05-18T18:14:13.127293",
     "exception": false,
     "start_time": "2022-05-18T18:14:08.279037",
     "status": "completed"
    },
    "tags": []
   },
   "outputs": [
    {
     "name": "stdout",
     "output_type": "stream",
     "text": [
      "SS2030 dataset accuracy with Multinomial NB: 0.59\n",
      "100k Arabic Reviews dataset accuracy with Multinomial NB: 0.60\n"
     ]
    }
   ],
   "source": [
    "def print_all_im4_accuracies(dataset_name, dataset):\n",
    "  accuracy = get_accuracy(trained_clf_multinomial_nb_im41,dataset.tweet.values, dataset.label.values)\n",
    "  print(f\"{dataset_name} dataset accuracy with Multinomial NB: {accuracy:.2f}\")\n",
    "print_all_im4_accuracies(\"SS2030\", df_ss2030)\n",
    "print_all_im4_accuracies(\"100k Arabic Reviews\", df_reviews)"
   ]
  },
  {
   "cell_type": "code",
   "execution_count": null,
   "id": "statistical-convert",
   "metadata": {
    "papermill": {
     "duration": 0.078217,
     "end_time": "2022-05-18T18:14:13.285372",
     "exception": false,
     "start_time": "2022-05-18T18:14:13.207155",
     "status": "completed"
    },
    "tags": []
   },
   "outputs": [],
   "source": []
  },
  {
   "cell_type": "code",
   "execution_count": null,
   "id": "italian-membrane",
   "metadata": {
    "papermill": {
     "duration": 0.078585,
     "end_time": "2022-05-18T18:14:13.442536",
     "exception": false,
     "start_time": "2022-05-18T18:14:13.363951",
     "status": "completed"
    },
    "tags": []
   },
   "outputs": [],
   "source": []
  },
  {
   "cell_type": "code",
   "execution_count": null,
   "id": "expired-venue",
   "metadata": {
    "papermill": {
     "duration": 0.077842,
     "end_time": "2022-05-18T18:14:13.598243",
     "exception": false,
     "start_time": "2022-05-18T18:14:13.520401",
     "status": "completed"
    },
    "tags": []
   },
   "outputs": [],
   "source": []
  }
 ],
 "metadata": {
  "kernelspec": {
   "display_name": "Python 3",
   "language": "python",
   "name": "python3"
  },
  "language_info": {
   "codemirror_mode": {
    "name": "ipython",
    "version": 3
   },
   "file_extension": ".py",
   "mimetype": "text/x-python",
   "name": "python",
   "nbconvert_exporter": "python",
   "pygments_lexer": "ipython3",
   "version": "3.7.10"
  },
  "papermill": {
   "default_parameters": {},
   "duration": 95.711466,
   "end_time": "2022-05-18T18:14:15.379135",
   "environment_variables": {},
   "exception": null,
   "input_path": "__notebook__.ipynb",
   "output_path": "__notebook__.ipynb",
   "parameters": {},
   "start_time": "2022-05-18T18:12:39.667669",
   "version": "2.3.3"
  }
 },
 "nbformat": 4,
 "nbformat_minor": 5
}
