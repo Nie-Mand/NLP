{
 "cells": [
  {
   "cell_type": "code",
   "execution_count": 1,
   "id": "adequate-accreditation",
   "metadata": {
    "execution": {
     "iopub.execute_input": "2022-05-15T01:41:24.661817Z",
     "iopub.status.busy": "2022-05-15T01:41:24.660188Z",
     "iopub.status.idle": "2022-05-15T01:41:24.672001Z",
     "shell.execute_reply": "2022-05-15T01:41:24.671488Z",
     "shell.execute_reply.started": "2022-05-14T23:44:51.519242Z"
    },
    "papermill": {
     "duration": 0.043844,
     "end_time": "2022-05-15T01:41:24.672132",
     "exception": false,
     "start_time": "2022-05-15T01:41:24.628288",
     "status": "completed"
    },
    "tags": []
   },
   "outputs": [],
   "source": [
    "import os\n",
    "import re\n",
    "from tqdm import tqdm\n",
    "import numpy as np\n",
    "import pandas as pd\n",
    "import matplotlib.pyplot as plt\n",
    "import csv\n",
    "\n",
    "%matplotlib inline"
   ]
  },
  {
   "cell_type": "code",
   "execution_count": 2,
   "id": "textile-delta",
   "metadata": {
    "execution": {
     "iopub.execute_input": "2022-05-15T01:41:24.737478Z",
     "iopub.status.busy": "2022-05-15T01:41:24.736940Z",
     "iopub.status.idle": "2022-05-15T01:41:25.699421Z",
     "shell.execute_reply": "2022-05-15T01:41:25.698936Z",
     "shell.execute_reply.started": "2022-05-14T23:44:51.820648Z"
    },
    "papermill": {
     "duration": 1.001217,
     "end_time": "2022-05-15T01:41:25.699559",
     "exception": false,
     "start_time": "2022-05-15T01:41:24.698342",
     "status": "completed"
    },
    "tags": []
   },
   "outputs": [],
   "source": [
    "pd.set_option('display.max_colwidth', 280)\n",
    "train_neg = pd.read_csv(\"../input/arabic-sentiment-twitter-corpus/train_Arabic_tweets_negative_20190413.tsv\", sep=\"\\t\", header=None,  quoting=csv.QUOTE_NONE)\n",
    "train_neg.rename(columns={0:'label', 1:'tweet'}, inplace=True)\n",
    "train_neg['label'] = 0\n",
    "\n",
    "train_pos = pd.read_csv(\"../input/arabic-sentiment-twitter-corpus/train_Arabic_tweets_positive_20190413.tsv\", sep=\"\\t\", header=None,  quoting=csv.QUOTE_NONE)\n",
    "train_pos.rename(columns={0:'label', 1:'tweet'}, inplace=True)\n",
    "train_pos['label'] = 1\n",
    "\n",
    "\n",
    "train_df = pd.concat([train_neg, train_pos], axis=0).reset_index(drop=True)\n",
    "\n",
    "\n",
    "from sklearn.model_selection import train_test_split\n",
    "X = train_df.tweet.values\n",
    "y = train_df.label.values\n",
    "\n",
    "# The train val split is used by the DL approach but not classical ML\n",
    "X_train, X_val, y_train, y_val = train_test_split(X,y,test_size=0.1, random_state=2020)\n",
    "# Load test subset\n",
    "test_pos = pd.read_csv(\"../input/arabic-sentiment-twitter-corpus/test_Arabic_tweets_positive_20190413.tsv\", sep=\"\\t\", header=None,  quoting=csv.QUOTE_NONE)\n",
    "test_pos.rename(columns={0:'label', 1:'tweet'}, inplace=True)\n",
    "test_pos['label']=1\n",
    "\n",
    "test_neg = pd.read_csv(\"../input/arabic-sentiment-twitter-corpus/test_Arabic_tweets_negative_20190413.tsv\", sep=\"\\t\", header=None,  quoting=csv.QUOTE_NONE)\n",
    "test_neg.rename(columns={0:'label', 1:'tweet'}, inplace=True)\n",
    "test_neg['label']=0\n",
    "\n",
    "test_df = pd.concat([test_neg, test_pos], axis=0).reset_index(drop=True)\n",
    "X_test = test_df.tweet.values\n",
    "y_test = test_df.label.values"
   ]
  },
  {
   "cell_type": "code",
   "execution_count": 3,
   "id": "documented-ukraine",
   "metadata": {
    "execution": {
     "iopub.execute_input": "2022-05-15T01:41:25.763541Z",
     "iopub.status.busy": "2022-05-15T01:41:25.762761Z",
     "iopub.status.idle": "2022-05-15T01:41:25.771079Z",
     "shell.execute_reply": "2022-05-15T01:41:25.771584Z",
     "shell.execute_reply.started": "2022-05-14T23:52:28.979767Z"
    },
    "papermill": {
     "duration": 0.045034,
     "end_time": "2022-05-15T01:41:25.771739",
     "exception": false,
     "start_time": "2022-05-15T01:41:25.726705",
     "status": "completed"
    },
    "tags": []
   },
   "outputs": [
    {
     "data": {
      "text/html": [
       "<div>\n",
       "<style scoped>\n",
       "    .dataframe tbody tr th:only-of-type {\n",
       "        vertical-align: middle;\n",
       "    }\n",
       "\n",
       "    .dataframe tbody tr th {\n",
       "        vertical-align: top;\n",
       "    }\n",
       "\n",
       "    .dataframe thead th {\n",
       "        text-align: right;\n",
       "    }\n",
       "</style>\n",
       "<table border=\"1\" class=\"dataframe\">\n",
       "  <thead>\n",
       "    <tr style=\"text-align: right;\">\n",
       "      <th></th>\n",
       "      <th>label</th>\n",
       "      <th>tweet</th>\n",
       "    </tr>\n",
       "  </thead>\n",
       "  <tbody>\n",
       "    <tr>\n",
       "      <th>0</th>\n",
       "      <td>0</td>\n",
       "      <td>اعترف ان بتس كانو شوي شوي يجيبو راسي لكن اليوم بالزايد 😭</td>\n",
       "    </tr>\n",
       "    <tr>\n",
       "      <th>1</th>\n",
       "      <td>0</td>\n",
       "      <td>توقعت اذا جات داريا بشوفهم كاملين بس لي للحين احس فيه احد ناقصهم 💔 #Avlu</td>\n",
       "    </tr>\n",
       "    <tr>\n",
       "      <th>2</th>\n",
       "      <td>0</td>\n",
       "      <td>#الاهلي_الهلال اكتب توقعك لنتيجة لقاء الهلال والاهلي تحت التاق 👇 #تحدي_اسرع_روقان وادخل في سحب قيمة ايفون X على…</td>\n",
       "    </tr>\n",
       "    <tr>\n",
       "      <th>3</th>\n",
       "      <td>0</td>\n",
       "      <td>نعمة المضادات الحيوية . تضع قطرة💧مضاد بنسلين على بكتيريا 🦠 فتنفجر 💥 و تموت . الأخيرة يبدو انها بكتيريا مقاومة فأخذ…</td>\n",
       "    </tr>\n",
       "    <tr>\n",
       "      <th>4</th>\n",
       "      <td>0</td>\n",
       "      <td>الدودو جايه تكمل علي 💔</td>\n",
       "    </tr>\n",
       "  </tbody>\n",
       "</table>\n",
       "</div>"
      ],
      "text/plain": [
       "   label  \\\n",
       "0      0   \n",
       "1      0   \n",
       "2      0   \n",
       "3      0   \n",
       "4      0   \n",
       "\n",
       "                                                                                                                 tweet  \n",
       "0                                                             اعترف ان بتس كانو شوي شوي يجيبو راسي لكن اليوم بالزايد 😭  \n",
       "1                                             توقعت اذا جات داريا بشوفهم كاملين بس لي للحين احس فيه احد ناقصهم 💔 #Avlu  \n",
       "2     #الاهلي_الهلال اكتب توقعك لنتيجة لقاء الهلال والاهلي تحت التاق 👇 #تحدي_اسرع_روقان وادخل في سحب قيمة ايفون X على…  \n",
       "3  نعمة المضادات الحيوية . تضع قطرة💧مضاد بنسلين على بكتيريا 🦠 فتنفجر 💥 و تموت . الأخيرة يبدو انها بكتيريا مقاومة فأخذ…  \n",
       "4                                                                                               الدودو جايه تكمل علي 💔  "
      ]
     },
     "execution_count": 3,
     "metadata": {},
     "output_type": "execute_result"
    }
   ],
   "source": [
    "train_df.head()"
   ]
  },
  {
   "cell_type": "code",
   "execution_count": 4,
   "id": "swiss-feeling",
   "metadata": {
    "execution": {
     "iopub.execute_input": "2022-05-15T01:41:25.838485Z",
     "iopub.status.busy": "2022-05-15T01:41:25.837876Z",
     "iopub.status.idle": "2022-05-15T01:41:25.844245Z",
     "shell.execute_reply": "2022-05-15T01:41:25.843354Z",
     "shell.execute_reply.started": "2022-05-14T23:52:48.832523Z"
    },
    "papermill": {
     "duration": 0.041541,
     "end_time": "2022-05-15T01:41:25.844404",
     "exception": false,
     "start_time": "2022-05-15T01:41:25.802863",
     "status": "completed"
    },
    "tags": []
   },
   "outputs": [
    {
     "data": {
      "text/plain": [
       "(47000, 2)"
      ]
     },
     "execution_count": 4,
     "metadata": {},
     "output_type": "execute_result"
    }
   ],
   "source": [
    "train_df.shape"
   ]
  },
  {
   "cell_type": "code",
   "execution_count": 5,
   "id": "classified-memory",
   "metadata": {
    "execution": {
     "iopub.execute_input": "2022-05-15T01:41:25.915864Z",
     "iopub.status.busy": "2022-05-15T01:41:25.914979Z",
     "iopub.status.idle": "2022-05-15T01:41:25.952239Z",
     "shell.execute_reply": "2022-05-15T01:41:25.953439Z",
     "shell.execute_reply.started": "2022-05-14T23:44:53.726350Z"
    },
    "papermill": {
     "duration": 0.078314,
     "end_time": "2022-05-15T01:41:25.953632",
     "exception": false,
     "start_time": "2022-05-15T01:41:25.875318",
     "status": "completed"
    },
    "tags": []
   },
   "outputs": [],
   "source": [
    "df_ss2030 = pd.read_csv(\"../input/arabic-sentiment-analysis-dataset-ss2030-dataset/Arabic Sentiment Analysis Dataset - SS2030.csv\")\n",
    "# Rename columns to match convention\n",
    "df_ss2030 = df_ss2030.rename(columns = {\"text\":\"tweet\", \"Sentiment\": \"label\"})"
   ]
  },
  {
   "cell_type": "code",
   "execution_count": 6,
   "id": "metropolitan-diploma",
   "metadata": {
    "execution": {
     "iopub.execute_input": "2022-05-15T01:41:26.040906Z",
     "iopub.status.busy": "2022-05-15T01:41:26.039975Z",
     "iopub.status.idle": "2022-05-15T01:41:26.044110Z",
     "shell.execute_reply": "2022-05-15T01:41:26.043681Z",
     "shell.execute_reply.started": "2022-05-14T23:51:43.078592Z"
    },
    "papermill": {
     "duration": 0.057077,
     "end_time": "2022-05-15T01:41:26.044217",
     "exception": false,
     "start_time": "2022-05-15T01:41:25.987140",
     "status": "completed"
    },
    "tags": []
   },
   "outputs": [
    {
     "data": {
      "text/html": [
       "<div>\n",
       "<style scoped>\n",
       "    .dataframe tbody tr th:only-of-type {\n",
       "        vertical-align: middle;\n",
       "    }\n",
       "\n",
       "    .dataframe tbody tr th {\n",
       "        vertical-align: top;\n",
       "    }\n",
       "\n",
       "    .dataframe thead th {\n",
       "        text-align: right;\n",
       "    }\n",
       "</style>\n",
       "<table border=\"1\" class=\"dataframe\">\n",
       "  <thead>\n",
       "    <tr style=\"text-align: right;\">\n",
       "      <th></th>\n",
       "      <th>tweet</th>\n",
       "      <th>label</th>\n",
       "    </tr>\n",
       "  </thead>\n",
       "  <tbody>\n",
       "    <tr>\n",
       "      <th>0</th>\n",
       "      <td>حقوق المرأة 💚💚💚 https://t.co/Mzf90Ta5g1</td>\n",
       "      <td>1</td>\n",
       "    </tr>\n",
       "    <tr>\n",
       "      <th>1</th>\n",
       "      <td>RT @___IHAVENOIDEA: حقوق المرأة في الإسلام. https://t.co/ps3qNw1CbB</td>\n",
       "      <td>1</td>\n",
       "    </tr>\n",
       "    <tr>\n",
       "      <th>2</th>\n",
       "      <td>RT @saud_talep: Retweeted لجنة التنمية بشبرا (@Shubratanmyeh):\\n \\n ما زال التسجيل مستمر في دورة حقوق المرأة بعد الطلاق ✨ #وعيك_يحميك... https://t.co/c2NXzNCdLU</td>\n",
       "      <td>1</td>\n",
       "    </tr>\n",
       "    <tr>\n",
       "      <th>3</th>\n",
       "      <td>RT @MojKsa: حقوق المرأة التي تضمنها لها وزارة العدل https://t.co/QUGzWwubFk</td>\n",
       "      <td>1</td>\n",
       "    </tr>\n",
       "    <tr>\n",
       "      <th>4</th>\n",
       "      <td>RT @abm112211: ولي امر الزوجة او ولي الزوجة او ولي المراة من الاخطاء الشائعة \\n \\n  هذا الكلام غلط في الشريعة والقانون\\n فلا يوجد ولي للزوجة او المراة الا اذا كانت قاصرا ويكون الولي ابوها ...الخ وليس الزوج منهم\\n نعم له حقوق عليها لكنها ليست ولاية\\n الولاية مصطلح فقهي قانوني ...</td>\n",
       "      <td>1</td>\n",
       "    </tr>\n",
       "  </tbody>\n",
       "</table>\n",
       "</div>"
      ],
      "text/plain": [
       "                                                                                                                                                                                                                                                                                     tweet  \\\n",
       "0                                                                                                                                                                                                                                                  حقوق المرأة 💚💚💚 https://t.co/Mzf90Ta5g1   \n",
       "1                                                                                                                                                                                                                      RT @___IHAVENOIDEA: حقوق المرأة في الإسلام. https://t.co/ps3qNw1CbB   \n",
       "2                                                                                                                         RT @saud_talep: Retweeted لجنة التنمية بشبرا (@Shubratanmyeh):\\n \\n ما زال التسجيل مستمر في دورة حقوق المرأة بعد الطلاق ✨ #وعيك_يحميك... https://t.co/c2NXzNCdLU   \n",
       "3                                                                                                                                                                                                              RT @MojKsa: حقوق المرأة التي تضمنها لها وزارة العدل https://t.co/QUGzWwubFk   \n",
       "4  RT @abm112211: ولي امر الزوجة او ولي الزوجة او ولي المراة من الاخطاء الشائعة \\n \\n  هذا الكلام غلط في الشريعة والقانون\\n فلا يوجد ولي للزوجة او المراة الا اذا كانت قاصرا ويكون الولي ابوها ...الخ وليس الزوج منهم\\n نعم له حقوق عليها لكنها ليست ولاية\\n الولاية مصطلح فقهي قانوني ...   \n",
       "\n",
       "   label  \n",
       "0      1  \n",
       "1      1  \n",
       "2      1  \n",
       "3      1  \n",
       "4      1  "
      ]
     },
     "execution_count": 6,
     "metadata": {},
     "output_type": "execute_result"
    }
   ],
   "source": [
    "df_ss2030.head()"
   ]
  },
  {
   "cell_type": "code",
   "execution_count": 7,
   "id": "compatible-furniture",
   "metadata": {
    "execution": {
     "iopub.execute_input": "2022-05-15T01:41:26.105161Z",
     "iopub.status.busy": "2022-05-15T01:41:26.104201Z",
     "iopub.status.idle": "2022-05-15T01:41:26.107911Z",
     "shell.execute_reply": "2022-05-15T01:41:26.108274Z",
     "shell.execute_reply.started": "2022-05-14T23:51:53.578437Z"
    },
    "papermill": {
     "duration": 0.035742,
     "end_time": "2022-05-15T01:41:26.108409",
     "exception": false,
     "start_time": "2022-05-15T01:41:26.072667",
     "status": "completed"
    },
    "tags": []
   },
   "outputs": [
    {
     "data": {
      "text/plain": [
       "(4252, 2)"
      ]
     },
     "execution_count": 7,
     "metadata": {},
     "output_type": "execute_result"
    }
   ],
   "source": [
    "df_ss2030.shape"
   ]
  },
  {
   "cell_type": "code",
   "execution_count": 8,
   "id": "other-integrity",
   "metadata": {
    "execution": {
     "iopub.execute_input": "2022-05-15T01:41:26.169940Z",
     "iopub.status.busy": "2022-05-15T01:41:26.169417Z",
     "iopub.status.idle": "2022-05-15T01:41:27.225977Z",
     "shell.execute_reply": "2022-05-15T01:41:27.225394Z",
     "shell.execute_reply.started": "2022-05-14T23:45:07.687142Z"
    },
    "papermill": {
     "duration": 1.090096,
     "end_time": "2022-05-15T01:41:27.226113",
     "exception": false,
     "start_time": "2022-05-15T01:41:26.136017",
     "status": "completed"
    },
    "tags": []
   },
   "outputs": [],
   "source": [
    "df_reviews = pd.read_csv(\"../input/arabic-100k-reviews/ar_reviews_100k.tsv\", delimiter=\"\\t\")\n",
    "# Create a mapping for the labels such that we use the same convention across all datasets\n",
    "label_mapping = {\"Positive\": 1, \"Negative\":0}\n",
    "# Filter to only have pos and neg tweets, i.e: remove mixed tweets\n",
    "df_reviews = df_reviews[df_reviews.label != \"Mixed\"]\n",
    "df_reviews[\"label\"] = df_reviews[\"label\"].map(label_mapping)\n",
    "# Rename columns to match convention\n",
    "df_reviews = df_reviews.rename(columns = {\"text\":\"tweet\"})"
   ]
  },
  {
   "cell_type": "code",
   "execution_count": 9,
   "id": "disciplinary-adrian",
   "metadata": {
    "execution": {
     "iopub.execute_input": "2022-05-15T01:41:27.289837Z",
     "iopub.status.busy": "2022-05-15T01:41:27.289277Z",
     "iopub.status.idle": "2022-05-15T01:41:27.294763Z",
     "shell.execute_reply": "2022-05-15T01:41:27.294275Z",
     "shell.execute_reply.started": "2022-05-14T23:53:02.491299Z"
    },
    "papermill": {
     "duration": 0.040446,
     "end_time": "2022-05-15T01:41:27.294874",
     "exception": false,
     "start_time": "2022-05-15T01:41:27.254428",
     "status": "completed"
    },
    "tags": []
   },
   "outputs": [
    {
     "data": {
      "text/html": [
       "<div>\n",
       "<style scoped>\n",
       "    .dataframe tbody tr th:only-of-type {\n",
       "        vertical-align: middle;\n",
       "    }\n",
       "\n",
       "    .dataframe tbody tr th {\n",
       "        vertical-align: top;\n",
       "    }\n",
       "\n",
       "    .dataframe thead th {\n",
       "        text-align: right;\n",
       "    }\n",
       "</style>\n",
       "<table border=\"1\" class=\"dataframe\">\n",
       "  <thead>\n",
       "    <tr style=\"text-align: right;\">\n",
       "      <th></th>\n",
       "      <th>label</th>\n",
       "      <th>tweet</th>\n",
       "    </tr>\n",
       "  </thead>\n",
       "  <tbody>\n",
       "    <tr>\n",
       "      <th>0</th>\n",
       "      <td>1</td>\n",
       "      <td>ممتاز نوعا ما . النظافة والموقع والتجهيز والشاطيء. المطعم</td>\n",
       "    </tr>\n",
       "    <tr>\n",
       "      <th>1</th>\n",
       "      <td>1</td>\n",
       "      <td>أحد أسباب نجاح الإمارات أن كل شخص في هذه الدولة يعشق ترابها. نحن نحب الإمارات. ومضات من فكر. نصائح لدولة تطمح بالصفوف الأولى و قائد لا يقبل إلا براحة شعبه وتوفر كل سب العيش الكريم. حكم و مواقف ونصائح لكل فرد فينا ليس بمجرد كتاب سياسي كما كنت اعتقد. يستحق القراءة مرات كثيرة</td>\n",
       "    </tr>\n",
       "    <tr>\n",
       "      <th>2</th>\n",
       "      <td>1</td>\n",
       "      <td>هادفة .. وقوية. تنقلك من صخب شوارع القاهرة الى هدوء جبال الشيشان .. للتعرف على حقيقة ما يجرى فى تلك البلاد من حروب ضاربة بحق المسلمين و جزء كبير من تاريخ تلك المنطقة. التضحية .. الرجولة .. الوفاء والكثير من القيم الأخرى اثبتت وجودها فى تلك الرواية البسيطة</td>\n",
       "    </tr>\n",
       "    <tr>\n",
       "      <th>3</th>\n",
       "      <td>1</td>\n",
       "      <td>خلصنا .. مبدئيا اللي مستني ابهار زي الفيل الازرق ميقراش احسن.. احمد مراد تخطى مرحلة ان القارئ يخلص الرواية وهو فاتح بؤه لمرحلة ان القارئ يخلص الرواية وهو محترم الكاتب.. اتقان مخيف.. بصرف النظر عن اخطاء لا تذكر ف الحوار.. انما احمد مراد سافر عاش حبة ف اوائل القرن العشرين وجه ي...</td>\n",
       "    </tr>\n",
       "    <tr>\n",
       "      <th>4</th>\n",
       "      <td>1</td>\n",
       "      <td>ياسات جلوريا جزء لا يتجزأ من دبي . فندق متكامل الخدمات مريح نفسيا. لا يوجد</td>\n",
       "    </tr>\n",
       "  </tbody>\n",
       "</table>\n",
       "</div>"
      ],
      "text/plain": [
       "   label  \\\n",
       "0      1   \n",
       "1      1   \n",
       "2      1   \n",
       "3      1   \n",
       "4      1   \n",
       "\n",
       "                                                                                                                                                                                                                                                                                     tweet  \n",
       "0                                                                                                                                                                                                                                ممتاز نوعا ما . النظافة والموقع والتجهيز والشاطيء. المطعم  \n",
       "1        أحد أسباب نجاح الإمارات أن كل شخص في هذه الدولة يعشق ترابها. نحن نحب الإمارات. ومضات من فكر. نصائح لدولة تطمح بالصفوف الأولى و قائد لا يقبل إلا براحة شعبه وتوفر كل سب العيش الكريم. حكم و مواقف ونصائح لكل فرد فينا ليس بمجرد كتاب سياسي كما كنت اعتقد. يستحق القراءة مرات كثيرة  \n",
       "2                          هادفة .. وقوية. تنقلك من صخب شوارع القاهرة الى هدوء جبال الشيشان .. للتعرف على حقيقة ما يجرى فى تلك البلاد من حروب ضاربة بحق المسلمين و جزء كبير من تاريخ تلك المنطقة. التضحية .. الرجولة .. الوفاء والكثير من القيم الأخرى اثبتت وجودها فى تلك الرواية البسيطة  \n",
       "3  خلصنا .. مبدئيا اللي مستني ابهار زي الفيل الازرق ميقراش احسن.. احمد مراد تخطى مرحلة ان القارئ يخلص الرواية وهو فاتح بؤه لمرحلة ان القارئ يخلص الرواية وهو محترم الكاتب.. اتقان مخيف.. بصرف النظر عن اخطاء لا تذكر ف الحوار.. انما احمد مراد سافر عاش حبة ف اوائل القرن العشرين وجه ي...  \n",
       "4                                                                                                                                                                                                               ياسات جلوريا جزء لا يتجزأ من دبي . فندق متكامل الخدمات مريح نفسيا. لا يوجد  "
      ]
     },
     "execution_count": 9,
     "metadata": {},
     "output_type": "execute_result"
    }
   ],
   "source": [
    "df_reviews.head()"
   ]
  },
  {
   "cell_type": "code",
   "execution_count": 10,
   "id": "cloudy-authentication",
   "metadata": {
    "execution": {
     "iopub.execute_input": "2022-05-15T01:41:27.354893Z",
     "iopub.status.busy": "2022-05-15T01:41:27.354174Z",
     "iopub.status.idle": "2022-05-15T01:41:27.359477Z",
     "shell.execute_reply": "2022-05-15T01:41:27.359046Z",
     "shell.execute_reply.started": "2022-05-14T23:53:07.478573Z"
    },
    "papermill": {
     "duration": 0.036636,
     "end_time": "2022-05-15T01:41:27.359587",
     "exception": false,
     "start_time": "2022-05-15T01:41:27.322951",
     "status": "completed"
    },
    "tags": []
   },
   "outputs": [
    {
     "data": {
      "text/plain": [
       "(66666, 2)"
      ]
     },
     "execution_count": 10,
     "metadata": {},
     "output_type": "execute_result"
    }
   ],
   "source": [
    "df_reviews.shape"
   ]
  },
  {
   "cell_type": "code",
   "execution_count": 11,
   "id": "double-conference",
   "metadata": {
    "execution": {
     "iopub.execute_input": "2022-05-15T01:41:27.422634Z",
     "iopub.status.busy": "2022-05-15T01:41:27.422004Z",
     "iopub.status.idle": "2022-05-15T01:41:27.438215Z",
     "shell.execute_reply": "2022-05-15T01:41:27.437802Z",
     "shell.execute_reply.started": "2022-05-14T23:45:33.760286Z"
    },
    "papermill": {
     "duration": 0.049638,
     "end_time": "2022-05-15T01:41:27.438313",
     "exception": false,
     "start_time": "2022-05-15T01:41:27.388675",
     "status": "completed"
    },
    "tags": []
   },
   "outputs": [],
   "source": [
    "# Helper functions \n",
    "from sklearn.feature_extraction.text import CountVectorizer\n",
    "from sklearn.feature_extraction.text import TfidfTransformer\n",
    "from sklearn.pipeline import Pipeline\n",
    "def train_model(model, data, targets):\n",
    "    text_clf = Pipeline([\n",
    "    ('vect', CountVectorizer()),\n",
    "    ('tfidf', TfidfTransformer()),\n",
    "    ('clf', model),\n",
    "    ])\n",
    "    text_clf.fit(data, targets)\n",
    "    return text_clf\n",
    "def get_accuracy(trained_model,X, y):\n",
    "    predicted = trained_model.predict(X)\n",
    "    accuracy = np.mean(predicted == y)\n",
    "    return accuracy"
   ]
  },
  {
   "cell_type": "code",
   "execution_count": 12,
   "id": "encouraging-sigma",
   "metadata": {
    "execution": {
     "iopub.execute_input": "2022-05-15T01:41:27.498771Z",
     "iopub.status.busy": "2022-05-15T01:41:27.498157Z",
     "iopub.status.idle": "2022-05-15T01:41:28.937721Z",
     "shell.execute_reply": "2022-05-15T01:41:28.937175Z",
     "shell.execute_reply.started": "2022-05-14T23:45:46.998605Z"
    },
    "papermill": {
     "duration": 1.471657,
     "end_time": "2022-05-15T01:41:28.937857",
     "exception": false,
     "start_time": "2022-05-15T01:41:27.466200",
     "status": "completed"
    },
    "tags": []
   },
   "outputs": [
    {
     "name": "stdout",
     "output_type": "stream",
     "text": [
      "Test dataset accuracy with MultinomialNB: 0.79\n"
     ]
    }
   ],
   "source": [
    "from sklearn.naive_bayes import MultinomialNB\n",
    "trained_clf_multinomial_nb = train_model(MultinomialNB(), X, y)\n",
    "accuracy = get_accuracy(trained_clf_multinomial_nb,X_test, y_test)\n",
    "print(f\"Test dataset accuracy with MultinomialNB: {accuracy:.2f}\")"
   ]
  },
  {
   "cell_type": "code",
   "execution_count": 13,
   "id": "spectacular-variation",
   "metadata": {
    "execution": {
     "iopub.execute_input": "2022-05-15T01:41:29.003787Z",
     "iopub.status.busy": "2022-05-15T01:41:29.002496Z",
     "iopub.status.idle": "2022-05-15T01:41:29.005255Z",
     "shell.execute_reply": "2022-05-15T01:41:29.004860Z",
     "shell.execute_reply.started": "2022-05-14T23:47:31.559477Z"
    },
    "papermill": {
     "duration": 0.037344,
     "end_time": "2022-05-15T01:41:29.005363",
     "exception": false,
     "start_time": "2022-05-15T01:41:28.968019",
     "status": "completed"
    },
    "tags": []
   },
   "outputs": [],
   "source": [
    "def print_all_accuracies(dataset_name, dataset):\n",
    "  accuracy = get_accuracy(trained_clf_multinomial_nb,dataset.tweet.values, dataset.label.values)\n",
    "  print(f\"{dataset_name} dataset accuracy with Multinomial NB: {accuracy:.2f}\")\n",
    "\n"
   ]
  },
  {
   "cell_type": "code",
   "execution_count": 14,
   "id": "fresh-conference",
   "metadata": {
    "execution": {
     "iopub.execute_input": "2022-05-15T01:41:29.112784Z",
     "iopub.status.busy": "2022-05-15T01:41:29.102534Z",
     "iopub.status.idle": "2022-05-15T01:41:33.168445Z",
     "shell.execute_reply": "2022-05-15T01:41:33.169029Z",
     "shell.execute_reply.started": "2022-05-14T23:47:52.979101Z"
    },
    "papermill": {
     "duration": 4.134837,
     "end_time": "2022-05-15T01:41:33.169237",
     "exception": false,
     "start_time": "2022-05-15T01:41:29.034400",
     "status": "completed"
    },
    "tags": []
   },
   "outputs": [
    {
     "name": "stdout",
     "output_type": "stream",
     "text": [
      "SS2030 dataset accuracy with Multinomial NB: 0.59\n",
      "100k Arabic Reviews dataset accuracy with Multinomial NB: 0.60\n"
     ]
    }
   ],
   "source": [
    "print_all_accuracies(\"SS2030\", df_ss2030)\n",
    "print_all_accuracies(\"100k Arabic Reviews\", df_reviews)"
   ]
  },
  {
   "cell_type": "code",
   "execution_count": 15,
   "id": "possible-election",
   "metadata": {
    "execution": {
     "iopub.execute_input": "2022-05-15T01:41:33.237651Z",
     "iopub.status.busy": "2022-05-15T01:41:33.235622Z",
     "iopub.status.idle": "2022-05-15T01:41:43.063700Z",
     "shell.execute_reply": "2022-05-15T01:41:43.063119Z",
     "shell.execute_reply.started": "2022-05-15T01:33:22.384791Z"
    },
    "papermill": {
     "duration": 9.864449,
     "end_time": "2022-05-15T01:41:43.063837",
     "exception": false,
     "start_time": "2022-05-15T01:41:33.199388",
     "status": "completed"
    },
    "tags": []
   },
   "outputs": [
    {
     "data": {
      "text/plain": [
       "array([0.77304965, 0.76638298, 0.77078014, 0.77198582, 0.77375887,\n",
       "       0.76943262, 0.76950355, 0.77120567, 0.77368794, 0.77425532])"
      ]
     },
     "execution_count": 15,
     "metadata": {},
     "output_type": "execute_result"
    }
   ],
   "source": [
    "from sklearn.model_selection import ShuffleSplit\n",
    "from sklearn.model_selection import cross_val_score\n",
    "import warnings\n",
    "warnings.filterwarnings('ignore')\n",
    "cv=ShuffleSplit(10,test_size=0.3, random_state=1)\n",
    "cross_val_score(trained_clf_multinomial_nb,X,y, cv=cv , scoring='accuracy')"
   ]
  },
  {
   "cell_type": "markdown",
   "id": "other-campus",
   "metadata": {
    "papermill": {
     "duration": 0.029847,
     "end_time": "2022-05-15T01:41:43.127153",
     "exception": false,
     "start_time": "2022-05-15T01:41:43.097306",
     "status": "completed"
    },
    "tags": []
   },
   "source": [
    "# GridSearchCV"
   ]
  },
  {
   "cell_type": "code",
   "execution_count": 16,
   "id": "numerous-editing",
   "metadata": {
    "execution": {
     "iopub.execute_input": "2022-05-15T01:41:43.260341Z",
     "iopub.status.busy": "2022-05-15T01:41:43.224473Z",
     "iopub.status.idle": "2022-05-15T01:41:48.491695Z",
     "shell.execute_reply": "2022-05-15T01:41:48.490809Z",
     "shell.execute_reply.started": "2022-05-15T01:33:45.843842Z"
    },
    "papermill": {
     "duration": 5.3353,
     "end_time": "2022-05-15T01:41:48.491860",
     "exception": false,
     "start_time": "2022-05-15T01:41:43.156560",
     "status": "completed"
    },
    "tags": []
   },
   "outputs": [
    {
     "data": {
      "text/plain": [
       "Pipeline(steps=[('vect', CountVectorizer()), ('tfidf', TfidfTransformer()),\n",
       "                ('clf',\n",
       "                 GridSearchCV(cv=10, estimator=MultinomialNB(), n_jobs=-1,\n",
       "                              param_grid={'alpha': (0, 0.1, 0.2, 0.3, 0.4, 0.5,\n",
       "                                                    0.8, 0.88, 0.9, 1, 2, 3, 4,\n",
       "                                                    5, 6)},\n",
       "                              scoring='accuracy'))])"
      ]
     },
     "execution_count": 16,
     "metadata": {},
     "output_type": "execute_result"
    }
   ],
   "source": [
    "from sklearn.model_selection import GridSearchCV\n",
    "hyperparameters = {\"alpha\":(0,0.1, 0.2, 0.3, 0.4, 0.5 ,  0.8 , 0.88, 0.9, 1 ,2, 3,4 ,5, 6)}\n",
    "Grid= GridSearchCV(estimator=MultinomialNB(), param_grid=hyperparameters, cv=10, scoring=\"accuracy\", n_jobs=-1)\n",
    "train_model(Grid, X, y)"
   ]
  },
  {
   "cell_type": "code",
   "execution_count": 17,
   "id": "affected-hobby",
   "metadata": {
    "execution": {
     "iopub.execute_input": "2022-05-15T01:41:48.557250Z",
     "iopub.status.busy": "2022-05-15T01:41:48.556571Z",
     "iopub.status.idle": "2022-05-15T01:41:48.559841Z",
     "shell.execute_reply": "2022-05-15T01:41:48.560218Z",
     "shell.execute_reply.started": "2022-05-15T01:33:50.960220Z"
    },
    "papermill": {
     "duration": 0.038078,
     "end_time": "2022-05-15T01:41:48.560346",
     "exception": false,
     "start_time": "2022-05-15T01:41:48.522268",
     "status": "completed"
    },
    "tags": []
   },
   "outputs": [
    {
     "data": {
      "text/plain": [
       "MultinomialNB(alpha=0.2)"
      ]
     },
     "execution_count": 17,
     "metadata": {},
     "output_type": "execute_result"
    }
   ],
   "source": [
    "Grid.best_estimator_"
   ]
  },
  {
   "cell_type": "code",
   "execution_count": 18,
   "id": "amended-candy",
   "metadata": {
    "execution": {
     "iopub.execute_input": "2022-05-15T01:41:48.627320Z",
     "iopub.status.busy": "2022-05-15T01:41:48.626599Z",
     "iopub.status.idle": "2022-05-15T01:41:48.630331Z",
     "shell.execute_reply": "2022-05-15T01:41:48.629877Z",
     "shell.execute_reply.started": "2022-05-15T01:33:50.968697Z"
    },
    "papermill": {
     "duration": 0.039726,
     "end_time": "2022-05-15T01:41:48.630447",
     "exception": false,
     "start_time": "2022-05-15T01:41:48.590721",
     "status": "completed"
    },
    "tags": []
   },
   "outputs": [
    {
     "data": {
      "text/plain": [
       "{'alpha': 0.2}"
      ]
     },
     "execution_count": 18,
     "metadata": {},
     "output_type": "execute_result"
    }
   ],
   "source": [
    "Grid.best_params_"
   ]
  },
  {
   "cell_type": "code",
   "execution_count": 19,
   "id": "multiple-prescription",
   "metadata": {
    "execution": {
     "iopub.execute_input": "2022-05-15T01:41:48.694586Z",
     "iopub.status.busy": "2022-05-15T01:41:48.693832Z",
     "iopub.status.idle": "2022-05-15T01:41:48.697403Z",
     "shell.execute_reply": "2022-05-15T01:41:48.696974Z",
     "shell.execute_reply.started": "2022-05-15T01:33:50.984622Z"
    },
    "papermill": {
     "duration": 0.036837,
     "end_time": "2022-05-15T01:41:48.697506",
     "exception": false,
     "start_time": "2022-05-15T01:41:48.660669",
     "status": "completed"
    },
    "tags": []
   },
   "outputs": [
    {
     "data": {
      "text/plain": [
       "0.7890212765957447"
      ]
     },
     "execution_count": 19,
     "metadata": {},
     "output_type": "execute_result"
    }
   ],
   "source": [
    "Grid.best_score_"
   ]
  },
  {
   "cell_type": "code",
   "execution_count": 20,
   "id": "based-faculty",
   "metadata": {
    "execution": {
     "iopub.execute_input": "2022-05-15T01:41:48.781229Z",
     "iopub.status.busy": "2022-05-15T01:41:48.771159Z",
     "iopub.status.idle": "2022-05-15T01:41:50.191289Z",
     "shell.execute_reply": "2022-05-15T01:41:50.190855Z",
     "shell.execute_reply.started": "2022-05-15T01:40:56.684838Z"
    },
    "papermill": {
     "duration": 1.463341,
     "end_time": "2022-05-15T01:41:50.191439",
     "exception": false,
     "start_time": "2022-05-15T01:41:48.728098",
     "status": "completed"
    },
    "tags": []
   },
   "outputs": [
    {
     "name": "stdout",
     "output_type": "stream",
     "text": [
      "Test dataset accuracy with MultinomialNB: 0.79\n"
     ]
    }
   ],
   "source": [
    "trained_clf_multinomial_nb_imm = train_model(MultinomialNB(alpha=0.2), X, y)\n",
    "accuracy = get_accuracy(trained_clf_multinomial_nb_imm,X_test, y_test)\n",
    "print(f\"Test dataset accuracy with MultinomialNB: {accuracy:.2f}\")"
   ]
  },
  {
   "cell_type": "code",
   "execution_count": 21,
   "id": "prerequisite-still",
   "metadata": {
    "execution": {
     "iopub.execute_input": "2022-05-15T01:41:50.281966Z",
     "iopub.status.busy": "2022-05-15T01:41:50.277300Z",
     "iopub.status.idle": "2022-05-15T01:41:52.972778Z",
     "shell.execute_reply": "2022-05-15T01:41:52.972278Z",
     "shell.execute_reply.started": "2022-05-15T01:27:30.765219Z"
    },
    "papermill": {
     "duration": 2.749831,
     "end_time": "2022-05-15T01:41:52.972911",
     "exception": false,
     "start_time": "2022-05-15T01:41:50.223080",
     "status": "completed"
    },
    "tags": []
   },
   "outputs": [
    {
     "data": {
      "text/plain": [
       "Pipeline(steps=[('vect', CountVectorizer()), ('tfidf', TfidfTransformer()),\n",
       "                ('clf',\n",
       "                 GridSearchCV(cv=10, estimator=MultinomialNB(), n_jobs=-1,\n",
       "                              param_grid={'alpha': (0, 0.8, 0.88, 0.9, 1, 2, 3,\n",
       "                                                    4, 5, 6)},\n",
       "                              scoring='accuracy'))])"
      ]
     },
     "execution_count": 21,
     "metadata": {},
     "output_type": "execute_result"
    }
   ],
   "source": [
    "from sklearn.model_selection import GridSearchCV\n",
    "hyperparameters = {\"alpha\":(0, 0.8,0.88, 0.9, 1 ,2,3,4,5,6)}\n",
    "Grid= GridSearchCV(estimator=MultinomialNB(), param_grid=hyperparameters, cv=10, scoring=\"accuracy\", n_jobs=-1)\n",
    "train_model(Grid, X, y)"
   ]
  },
  {
   "cell_type": "code",
   "execution_count": 22,
   "id": "spare-netherlands",
   "metadata": {
    "execution": {
     "iopub.execute_input": "2022-05-15T01:41:53.040019Z",
     "iopub.status.busy": "2022-05-15T01:41:53.039517Z",
     "iopub.status.idle": "2022-05-15T01:41:53.044758Z",
     "shell.execute_reply": "2022-05-15T01:41:53.044252Z",
     "shell.execute_reply.started": "2022-05-15T01:27:33.441950Z"
    },
    "papermill": {
     "duration": 0.040078,
     "end_time": "2022-05-15T01:41:53.044867",
     "exception": false,
     "start_time": "2022-05-15T01:41:53.004789",
     "status": "completed"
    },
    "tags": []
   },
   "outputs": [
    {
     "data": {
      "text/plain": [
       "MultinomialNB(alpha=0.8)"
      ]
     },
     "execution_count": 22,
     "metadata": {},
     "output_type": "execute_result"
    }
   ],
   "source": [
    "Grid.best_estimator_"
   ]
  },
  {
   "cell_type": "code",
   "execution_count": 23,
   "id": "virgin-table",
   "metadata": {
    "execution": {
     "iopub.execute_input": "2022-05-15T01:41:53.112966Z",
     "iopub.status.busy": "2022-05-15T01:41:53.112319Z",
     "iopub.status.idle": "2022-05-15T01:41:53.115086Z",
     "shell.execute_reply": "2022-05-15T01:41:53.115486Z",
     "shell.execute_reply.started": "2022-05-15T01:27:33.449286Z"
    },
    "papermill": {
     "duration": 0.039889,
     "end_time": "2022-05-15T01:41:53.115613",
     "exception": false,
     "start_time": "2022-05-15T01:41:53.075724",
     "status": "completed"
    },
    "tags": []
   },
   "outputs": [
    {
     "data": {
      "text/plain": [
       "{'alpha': 0.8}"
      ]
     },
     "execution_count": 23,
     "metadata": {},
     "output_type": "execute_result"
    }
   ],
   "source": [
    "Grid.best_params_"
   ]
  },
  {
   "cell_type": "code",
   "execution_count": 24,
   "id": "agricultural-handling",
   "metadata": {
    "execution": {
     "iopub.execute_input": "2022-05-15T01:41:53.183765Z",
     "iopub.status.busy": "2022-05-15T01:41:53.183197Z",
     "iopub.status.idle": "2022-05-15T01:41:53.188163Z",
     "shell.execute_reply": "2022-05-15T01:41:53.187731Z",
     "shell.execute_reply.started": "2022-05-15T01:27:33.458636Z"
    },
    "papermill": {
     "duration": 0.039983,
     "end_time": "2022-05-15T01:41:53.188268",
     "exception": false,
     "start_time": "2022-05-15T01:41:53.148285",
     "status": "completed"
    },
    "tags": []
   },
   "outputs": [
    {
     "data": {
      "text/plain": [
       "0.7826595744680851"
      ]
     },
     "execution_count": 24,
     "metadata": {},
     "output_type": "execute_result"
    }
   ],
   "source": [
    "Grid.best_score_"
   ]
  },
  {
   "cell_type": "code",
   "execution_count": 25,
   "id": "several-enlargement",
   "metadata": {
    "execution": {
     "iopub.execute_input": "2022-05-15T01:41:53.275953Z",
     "iopub.status.busy": "2022-05-15T01:41:53.270768Z",
     "iopub.status.idle": "2022-05-15T01:41:54.441296Z",
     "shell.execute_reply": "2022-05-15T01:41:54.441855Z",
     "shell.execute_reply.started": "2022-05-15T01:27:45.662392Z"
    },
    "papermill": {
     "duration": 1.220829,
     "end_time": "2022-05-15T01:41:54.442054",
     "exception": false,
     "start_time": "2022-05-15T01:41:53.221225",
     "status": "completed"
    },
    "tags": []
   },
   "outputs": [
    {
     "name": "stdout",
     "output_type": "stream",
     "text": [
      "Test dataset accuracy with MultinomialNB: 0.79\n"
     ]
    }
   ],
   "source": [
    "trained_clf_multinomial_nb_im = train_model(MultinomialNB(alpha=0.8), X, y)\n",
    "accuracy = get_accuracy(trained_clf_multinomial_nb_im,X_test, y_test)\n",
    "print(f\"Test dataset accuracy with MultinomialNB: {accuracy:.2f}\")"
   ]
  },
  {
   "cell_type": "code",
   "execution_count": 26,
   "id": "quick-kitchen",
   "metadata": {
    "execution": {
     "iopub.execute_input": "2022-05-15T01:41:54.511647Z",
     "iopub.status.busy": "2022-05-15T01:41:54.510975Z",
     "iopub.status.idle": "2022-05-15T01:41:54.513861Z",
     "shell.execute_reply": "2022-05-15T01:41:54.513425Z",
     "shell.execute_reply.started": "2022-05-15T01:27:48.422339Z"
    },
    "papermill": {
     "duration": 0.038966,
     "end_time": "2022-05-15T01:41:54.513984",
     "exception": false,
     "start_time": "2022-05-15T01:41:54.475018",
     "status": "completed"
    },
    "tags": []
   },
   "outputs": [],
   "source": [
    "def print_all_im_accuracies(dataset_name, dataset):\n",
    "  accuracy = get_accuracy(trained_clf_multinomial_nb_im,dataset.tweet.values, dataset.label.values)\n",
    "  print(f\"{dataset_name} dataset accuracy with Multinomial NB: {accuracy:.2f}\")"
   ]
  },
  {
   "cell_type": "code",
   "execution_count": 27,
   "id": "cosmetic-illustration",
   "metadata": {
    "execution": {
     "iopub.execute_input": "2022-05-15T01:41:54.637084Z",
     "iopub.status.busy": "2022-05-15T01:41:54.616541Z",
     "iopub.status.idle": "2022-05-15T01:41:59.243725Z",
     "shell.execute_reply": "2022-05-15T01:41:59.244125Z",
     "shell.execute_reply.started": "2022-05-15T01:27:49.982637Z"
    },
    "papermill": {
     "duration": 4.697931,
     "end_time": "2022-05-15T01:41:59.244278",
     "exception": false,
     "start_time": "2022-05-15T01:41:54.546347",
     "status": "completed"
    },
    "tags": []
   },
   "outputs": [
    {
     "name": "stdout",
     "output_type": "stream",
     "text": [
      "SS2030 dataset accuracy with Multinomial NB: 0.59\n",
      "100k Arabic Reviews dataset accuracy with Multinomial NB: 0.60\n"
     ]
    }
   ],
   "source": [
    "print_all_im_accuracies(\"SS2030\", df_ss2030)\n",
    "print_all_im_accuracies(\"100k Arabic Reviews\", df_reviews)"
   ]
  },
  {
   "cell_type": "markdown",
   "id": "broad-jerusalem",
   "metadata": {
    "papermill": {
     "duration": 0.03284,
     "end_time": "2022-05-15T01:41:59.310925",
     "exception": false,
     "start_time": "2022-05-15T01:41:59.278085",
     "status": "completed"
    },
    "tags": []
   },
   "source": [
    "# ensemble learning"
   ]
  },
  {
   "cell_type": "markdown",
   "id": "cheap-praise",
   "metadata": {
    "papermill": {
     "duration": 0.032641,
     "end_time": "2022-05-15T01:41:59.375936",
     "exception": false,
     "start_time": "2022-05-15T01:41:59.343295",
     "status": "completed"
    },
    "tags": []
   },
   "source": [
    "# StackingClassifier"
   ]
  },
  {
   "cell_type": "code",
   "execution_count": 28,
   "id": "sacred-inventory",
   "metadata": {
    "execution": {
     "iopub.execute_input": "2022-05-15T01:41:59.445609Z",
     "iopub.status.busy": "2022-05-15T01:41:59.444894Z",
     "iopub.status.idle": "2022-05-15T01:42:01.305521Z",
     "shell.execute_reply": "2022-05-15T01:42:01.304979Z",
     "shell.execute_reply.started": "2022-05-15T01:34:43.403149Z"
    },
    "papermill": {
     "duration": 1.897482,
     "end_time": "2022-05-15T01:42:01.305660",
     "exception": false,
     "start_time": "2022-05-15T01:41:59.408178",
     "status": "completed"
    },
    "tags": []
   },
   "outputs": [],
   "source": [
    "from sklearn.ensemble import  StackingClassifier\n",
    "model1= StackingClassifier([('MNB1',MultinomialNB(alpha=0.8)),('MNB2',MultinomialNB(alpha=0.2)),\n",
    "                         ('MNB3',MultinomialNB(alpha=1))], final_estimator=MultinomialNB(alpha=1))\n",
    "\n",
    "\n",
    "\n",
    "trained_clf_multinomial_nb_im2= train_model(model1, X, y)"
   ]
  },
  {
   "cell_type": "code",
   "execution_count": 29,
   "id": "incorrect-funeral",
   "metadata": {
    "execution": {
     "iopub.execute_input": "2022-05-15T01:42:01.446696Z",
     "iopub.status.busy": "2022-05-15T01:42:01.410836Z",
     "iopub.status.idle": "2022-05-15T01:42:01.586737Z",
     "shell.execute_reply": "2022-05-15T01:42:01.586182Z",
     "shell.execute_reply.started": "2022-05-15T01:34:47.700363Z"
    },
    "papermill": {
     "duration": 0.247516,
     "end_time": "2022-05-15T01:42:01.586871",
     "exception": false,
     "start_time": "2022-05-15T01:42:01.339355",
     "status": "completed"
    },
    "tags": []
   },
   "outputs": [
    {
     "name": "stdout",
     "output_type": "stream",
     "text": [
      "Test dataset accuracy with MultinomialNB: 0.51\n"
     ]
    }
   ],
   "source": [
    "accuracy = get_accuracy(trained_clf_multinomial_nb_im2 ,X_test, y_test)\n",
    "print(f\"Test dataset accuracy with MultinomialNB: {accuracy:.2f}\")"
   ]
  },
  {
   "cell_type": "markdown",
   "id": "ethical-future",
   "metadata": {
    "papermill": {
     "duration": 0.033367,
     "end_time": "2022-05-15T01:42:01.657114",
     "exception": false,
     "start_time": "2022-05-15T01:42:01.623747",
     "status": "completed"
    },
    "tags": []
   },
   "source": [
    "# BaggingClassifier "
   ]
  },
  {
   "cell_type": "code",
   "execution_count": 30,
   "id": "genuine-membership",
   "metadata": {
    "execution": {
     "iopub.execute_input": "2022-05-15T01:42:01.772531Z",
     "iopub.status.busy": "2022-05-15T01:42:01.752064Z",
     "iopub.status.idle": "2022-05-15T01:42:06.661186Z",
     "shell.execute_reply": "2022-05-15T01:42:06.660253Z",
     "shell.execute_reply.started": "2022-05-15T01:25:47.483332Z"
    },
    "papermill": {
     "duration": 4.970683,
     "end_time": "2022-05-15T01:42:06.661326",
     "exception": false,
     "start_time": "2022-05-15T01:42:01.690643",
     "status": "completed"
    },
    "tags": []
   },
   "outputs": [],
   "source": [
    "from sklearn.ensemble import BaggingClassifier \n",
    "modell =BaggingClassifier(base_estimator=MultinomialNB(alpha=1), n_estimators=200)\n",
    "trained_clf_multinomial_nb_im3= train_model(modell, X, y)"
   ]
  },
  {
   "cell_type": "code",
   "execution_count": 31,
   "id": "responsible-penalty",
   "metadata": {
    "execution": {
     "iopub.execute_input": "2022-05-15T01:42:06.773693Z",
     "iopub.status.busy": "2022-05-15T01:42:06.769215Z",
     "iopub.status.idle": "2022-05-15T01:42:07.793909Z",
     "shell.execute_reply": "2022-05-15T01:42:07.794681Z",
     "shell.execute_reply.started": "2022-05-15T01:25:52.413021Z"
    },
    "papermill": {
     "duration": 1.098557,
     "end_time": "2022-05-15T01:42:07.794909",
     "exception": false,
     "start_time": "2022-05-15T01:42:06.696352",
     "status": "completed"
    },
    "tags": []
   },
   "outputs": [
    {
     "name": "stdout",
     "output_type": "stream",
     "text": [
      "Test dataset accuracy with MultinomialNB: 0.78\n"
     ]
    }
   ],
   "source": [
    "accuracy = get_accuracy(trained_clf_multinomial_nb_im3 ,X_test, y_test)\n",
    "print(f\"Test dataset accuracy with MultinomialNB: {accuracy:.2f}\")"
   ]
  },
  {
   "cell_type": "code",
   "execution_count": 32,
   "id": "sealed-minnesota",
   "metadata": {
    "execution": {
     "iopub.execute_input": "2022-05-15T01:42:07.901627Z",
     "iopub.status.busy": "2022-05-15T01:42:07.886185Z",
     "iopub.status.idle": "2022-05-15T01:42:18.669292Z",
     "shell.execute_reply": "2022-05-15T01:42:18.668494Z",
     "shell.execute_reply.started": "2022-05-15T01:22:28.723055Z"
    },
    "papermill": {
     "duration": 10.840207,
     "end_time": "2022-05-15T01:42:18.669456",
     "exception": false,
     "start_time": "2022-05-15T01:42:07.829249",
     "status": "completed"
    },
    "tags": []
   },
   "outputs": [
    {
     "name": "stdout",
     "output_type": "stream",
     "text": [
      "SS2030 dataset accuracy with Multinomial NB: 0.59\n",
      "100k Arabic Reviews dataset accuracy with Multinomial NB: 0.60\n"
     ]
    }
   ],
   "source": [
    "def print_all_im3_accuracies(dataset_name, dataset):\n",
    "  accuracy = get_accuracy(trained_clf_multinomial_nb_im3,dataset.tweet.values, dataset.label.values)\n",
    "  print(f\"{dataset_name} dataset accuracy with Multinomial NB: {accuracy:.2f}\")\n",
    "print_all_im3_accuracies(\"SS2030\", df_ss2030)\n",
    "print_all_im3_accuracies(\"100k Arabic Reviews\", df_reviews)"
   ]
  },
  {
   "cell_type": "markdown",
   "id": "pleasant-albuquerque",
   "metadata": {
    "execution": {
     "iopub.execute_input": "2022-05-15T01:16:34.599179Z",
     "iopub.status.busy": "2022-05-15T01:16:34.598861Z",
     "iopub.status.idle": "2022-05-15T01:16:34.602759Z",
     "shell.execute_reply": "2022-05-15T01:16:34.601658Z",
     "shell.execute_reply.started": "2022-05-15T01:16:34.599151Z"
    },
    "papermill": {
     "duration": 0.03455,
     "end_time": "2022-05-15T01:42:18.738351",
     "exception": false,
     "start_time": "2022-05-15T01:42:18.703801",
     "status": "completed"
    },
    "tags": []
   },
   "source": [
    "# VotingClassifier"
   ]
  },
  {
   "cell_type": "code",
   "execution_count": 33,
   "id": "binary-liberal",
   "metadata": {
    "execution": {
     "iopub.execute_input": "2022-05-15T01:42:18.865075Z",
     "iopub.status.busy": "2022-05-15T01:42:18.844477Z",
     "iopub.status.idle": "2022-05-15T01:42:24.908174Z",
     "shell.execute_reply": "2022-05-15T01:42:24.908793Z",
     "shell.execute_reply.started": "2022-05-15T01:24:14.382373Z"
    },
    "papermill": {
     "duration": 6.13644,
     "end_time": "2022-05-15T01:42:24.908955",
     "exception": false,
     "start_time": "2022-05-15T01:42:18.772515",
     "status": "completed"
    },
    "tags": []
   },
   "outputs": [
    {
     "name": "stdout",
     "output_type": "stream",
     "text": [
      "Test dataset accuracy with MultinomialNB: 0.79\n",
      "Test dataset accuracy with MultinomialNB: 0.79\n",
      "Test dataset accuracy with MultinomialNB: 0.79\n",
      "Test dataset accuracy with MultinomialNB: 0.79\n"
     ]
    }
   ],
   "source": [
    "from sklearn.ensemble import VotingClassifier\n",
    "model1=MultinomialNB(alpha=1)\n",
    "model2=MultinomialNB(alpha=1)\n",
    "model21=MultinomialNB(alpha=1)\n",
    "model3= VotingClassifier([('mnb1',model1),\n",
    "                         ('mnb2',model2),('mnb3',model21)\n",
    "                         ],voting='hard')\n",
    "trained_clf_multinomial_nb_im41= train_model(model3, X, y)\n",
    "for model in (model1,model2,model21, model3):\n",
    "    \n",
    "    trained_clf_multinomial_nb_im4= train_model(model, X, y)\n",
    "    accuracy = get_accuracy(trained_clf_multinomial_nb_im4 ,X_test, y_test)\n",
    "    print(f\"Test dataset accuracy with MultinomialNB: {accuracy:.2f}\")"
   ]
  },
  {
   "cell_type": "code",
   "execution_count": 34,
   "id": "internal-universal",
   "metadata": {
    "execution": {
     "iopub.execute_input": "2022-05-15T01:42:25.034277Z",
     "iopub.status.busy": "2022-05-15T01:42:25.018912Z",
     "iopub.status.idle": "2022-05-15T01:42:30.200085Z",
     "shell.execute_reply": "2022-05-15T01:42:30.200664Z",
     "shell.execute_reply.started": "2022-05-15T01:24:21.244196Z"
    },
    "papermill": {
     "duration": 5.256007,
     "end_time": "2022-05-15T01:42:30.200864",
     "exception": false,
     "start_time": "2022-05-15T01:42:24.944857",
     "status": "completed"
    },
    "tags": []
   },
   "outputs": [
    {
     "name": "stdout",
     "output_type": "stream",
     "text": [
      "SS2030 dataset accuracy with Multinomial NB: 0.59\n",
      "100k Arabic Reviews dataset accuracy with Multinomial NB: 0.60\n"
     ]
    }
   ],
   "source": [
    "def print_all_im4_accuracies(dataset_name, dataset):\n",
    "  accuracy = get_accuracy(trained_clf_multinomial_nb_im41,dataset.tweet.values, dataset.label.values)\n",
    "  print(f\"{dataset_name} dataset accuracy with Multinomial NB: {accuracy:.2f}\")\n",
    "print_all_im4_accuracies(\"SS2030\", df_ss2030)\n",
    "print_all_im4_accuracies(\"100k Arabic Reviews\", df_reviews)"
   ]
  },
  {
   "cell_type": "code",
   "execution_count": null,
   "id": "incorrect-charge",
   "metadata": {
    "papermill": {
     "duration": 0.036362,
     "end_time": "2022-05-15T01:42:30.274026",
     "exception": false,
     "start_time": "2022-05-15T01:42:30.237664",
     "status": "completed"
    },
    "tags": []
   },
   "outputs": [],
   "source": []
  }
 ],
 "metadata": {
  "kernelspec": {
   "display_name": "Python 3",
   "language": "python",
   "name": "python3"
  },
  "language_info": {
   "codemirror_mode": {
    "name": "ipython",
    "version": 3
   },
   "file_extension": ".py",
   "mimetype": "text/x-python",
   "name": "python",
   "nbconvert_exporter": "python",
   "pygments_lexer": "ipython3",
   "version": "3.7.10"
  },
  "papermill": {
   "default_parameters": {},
   "duration": 73.673693,
   "end_time": "2022-05-15T01:42:31.017815",
   "environment_variables": {},
   "exception": null,
   "input_path": "__notebook__.ipynb",
   "output_path": "__notebook__.ipynb",
   "parameters": {},
   "start_time": "2022-05-15T01:41:17.344122",
   "version": "2.3.3"
  }
 },
 "nbformat": 4,
 "nbformat_minor": 5
}
