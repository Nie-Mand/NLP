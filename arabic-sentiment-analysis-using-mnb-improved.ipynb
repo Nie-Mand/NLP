{
 "cells": [
  {
   "cell_type": "code",
   "execution_count": 1,
   "id": "desperate-needle",
   "metadata": {
    "execution": {
     "iopub.execute_input": "2022-05-15T01:35:45.148281Z",
     "iopub.status.busy": "2022-05-15T01:35:45.146556Z",
     "iopub.status.idle": "2022-05-15T01:35:45.158391Z",
     "shell.execute_reply": "2022-05-15T01:35:45.157834Z",
     "shell.execute_reply.started": "2022-05-14T23:44:51.519242Z"
    },
    "papermill": {
     "duration": 0.043524,
     "end_time": "2022-05-15T01:35:45.158531",
     "exception": false,
     "start_time": "2022-05-15T01:35:45.115007",
     "status": "completed"
    },
    "tags": []
   },
   "outputs": [],
   "source": [
    "import os\n",
    "import re\n",
    "from tqdm import tqdm\n",
    "import numpy as np\n",
    "import pandas as pd\n",
    "import matplotlib.pyplot as plt\n",
    "import csv\n",
    "\n",
    "%matplotlib inline"
   ]
  },
  {
   "cell_type": "code",
   "execution_count": 2,
   "id": "continued-freedom",
   "metadata": {
    "execution": {
     "iopub.execute_input": "2022-05-15T01:35:45.228420Z",
     "iopub.status.busy": "2022-05-15T01:35:45.227847Z",
     "iopub.status.idle": "2022-05-15T01:35:46.198722Z",
     "shell.execute_reply": "2022-05-15T01:35:46.197726Z",
     "shell.execute_reply.started": "2022-05-14T23:44:51.820648Z"
    },
    "papermill": {
     "duration": 1.013698,
     "end_time": "2022-05-15T01:35:46.198895",
     "exception": false,
     "start_time": "2022-05-15T01:35:45.185197",
     "status": "completed"
    },
    "tags": []
   },
   "outputs": [],
   "source": [
    "pd.set_option('display.max_colwidth', 280)\n",
    "train_neg = pd.read_csv(\"../input/arabic-sentiment-twitter-corpus/train_Arabic_tweets_negative_20190413.tsv\", sep=\"\\t\", header=None,  quoting=csv.QUOTE_NONE)\n",
    "train_neg.rename(columns={0:'label', 1:'tweet'}, inplace=True)\n",
    "train_neg['label'] = 0\n",
    "\n",
    "train_pos = pd.read_csv(\"../input/arabic-sentiment-twitter-corpus/train_Arabic_tweets_positive_20190413.tsv\", sep=\"\\t\", header=None,  quoting=csv.QUOTE_NONE)\n",
    "train_pos.rename(columns={0:'label', 1:'tweet'}, inplace=True)\n",
    "train_pos['label'] = 1\n",
    "\n",
    "\n",
    "train_df = pd.concat([train_neg, train_pos], axis=0).reset_index(drop=True)\n",
    "\n",
    "\n",
    "from sklearn.model_selection import train_test_split\n",
    "X = train_df.tweet.values\n",
    "y = train_df.label.values\n",
    "\n",
    "# The train val split is used by the DL approach but not classical ML\n",
    "X_train, X_val, y_train, y_val = train_test_split(X,y,test_size=0.1, random_state=2020)\n",
    "# Load test subset\n",
    "test_pos = pd.read_csv(\"../input/arabic-sentiment-twitter-corpus/test_Arabic_tweets_positive_20190413.tsv\", sep=\"\\t\", header=None,  quoting=csv.QUOTE_NONE)\n",
    "test_pos.rename(columns={0:'label', 1:'tweet'}, inplace=True)\n",
    "test_pos['label']=1\n",
    "\n",
    "test_neg = pd.read_csv(\"../input/arabic-sentiment-twitter-corpus/test_Arabic_tweets_negative_20190413.tsv\", sep=\"\\t\", header=None,  quoting=csv.QUOTE_NONE)\n",
    "test_neg.rename(columns={0:'label', 1:'tweet'}, inplace=True)\n",
    "test_neg['label']=0\n",
    "\n",
    "test_df = pd.concat([test_neg, test_pos], axis=0).reset_index(drop=True)\n",
    "X_test = test_df.tweet.values\n",
    "y_test = test_df.label.values"
   ]
  },
  {
   "cell_type": "code",
   "execution_count": 3,
   "id": "published-asian",
   "metadata": {
    "execution": {
     "iopub.execute_input": "2022-05-15T01:35:46.260007Z",
     "iopub.status.busy": "2022-05-15T01:35:46.259123Z",
     "iopub.status.idle": "2022-05-15T01:35:46.266059Z",
     "shell.execute_reply": "2022-05-15T01:35:46.266472Z",
     "shell.execute_reply.started": "2022-05-14T23:52:28.979767Z"
    },
    "papermill": {
     "duration": 0.041887,
     "end_time": "2022-05-15T01:35:46.266607",
     "exception": false,
     "start_time": "2022-05-15T01:35:46.224720",
     "status": "completed"
    },
    "tags": []
   },
   "outputs": [
    {
     "data": {
      "text/html": [
       "<div>\n",
       "<style scoped>\n",
       "    .dataframe tbody tr th:only-of-type {\n",
       "        vertical-align: middle;\n",
       "    }\n",
       "\n",
       "    .dataframe tbody tr th {\n",
       "        vertical-align: top;\n",
       "    }\n",
       "\n",
       "    .dataframe thead th {\n",
       "        text-align: right;\n",
       "    }\n",
       "</style>\n",
       "<table border=\"1\" class=\"dataframe\">\n",
       "  <thead>\n",
       "    <tr style=\"text-align: right;\">\n",
       "      <th></th>\n",
       "      <th>label</th>\n",
       "      <th>tweet</th>\n",
       "    </tr>\n",
       "  </thead>\n",
       "  <tbody>\n",
       "    <tr>\n",
       "      <th>0</th>\n",
       "      <td>0</td>\n",
       "      <td>اعترف ان بتس كانو شوي شوي يجيبو راسي لكن اليوم بالزايد 😭</td>\n",
       "    </tr>\n",
       "    <tr>\n",
       "      <th>1</th>\n",
       "      <td>0</td>\n",
       "      <td>توقعت اذا جات داريا بشوفهم كاملين بس لي للحين احس فيه احد ناقصهم 💔 #Avlu</td>\n",
       "    </tr>\n",
       "    <tr>\n",
       "      <th>2</th>\n",
       "      <td>0</td>\n",
       "      <td>#الاهلي_الهلال اكتب توقعك لنتيجة لقاء الهلال والاهلي تحت التاق 👇 #تحدي_اسرع_روقان وادخل في سحب قيمة ايفون X على…</td>\n",
       "    </tr>\n",
       "    <tr>\n",
       "      <th>3</th>\n",
       "      <td>0</td>\n",
       "      <td>نعمة المضادات الحيوية . تضع قطرة💧مضاد بنسلين على بكتيريا 🦠 فتنفجر 💥 و تموت . الأخيرة يبدو انها بكتيريا مقاومة فأخذ…</td>\n",
       "    </tr>\n",
       "    <tr>\n",
       "      <th>4</th>\n",
       "      <td>0</td>\n",
       "      <td>الدودو جايه تكمل علي 💔</td>\n",
       "    </tr>\n",
       "  </tbody>\n",
       "</table>\n",
       "</div>"
      ],
      "text/plain": [
       "   label  \\\n",
       "0      0   \n",
       "1      0   \n",
       "2      0   \n",
       "3      0   \n",
       "4      0   \n",
       "\n",
       "                                                                                                                 tweet  \n",
       "0                                                             اعترف ان بتس كانو شوي شوي يجيبو راسي لكن اليوم بالزايد 😭  \n",
       "1                                             توقعت اذا جات داريا بشوفهم كاملين بس لي للحين احس فيه احد ناقصهم 💔 #Avlu  \n",
       "2     #الاهلي_الهلال اكتب توقعك لنتيجة لقاء الهلال والاهلي تحت التاق 👇 #تحدي_اسرع_روقان وادخل في سحب قيمة ايفون X على…  \n",
       "3  نعمة المضادات الحيوية . تضع قطرة💧مضاد بنسلين على بكتيريا 🦠 فتنفجر 💥 و تموت . الأخيرة يبدو انها بكتيريا مقاومة فأخذ…  \n",
       "4                                                                                               الدودو جايه تكمل علي 💔  "
      ]
     },
     "execution_count": 3,
     "metadata": {},
     "output_type": "execute_result"
    }
   ],
   "source": [
    "train_df.head()"
   ]
  },
  {
   "cell_type": "code",
   "execution_count": 4,
   "id": "horizontal-checkout",
   "metadata": {
    "execution": {
     "iopub.execute_input": "2022-05-15T01:35:46.322483Z",
     "iopub.status.busy": "2022-05-15T01:35:46.321986Z",
     "iopub.status.idle": "2022-05-15T01:35:46.326678Z",
     "shell.execute_reply": "2022-05-15T01:35:46.326232Z",
     "shell.execute_reply.started": "2022-05-14T23:52:48.832523Z"
    },
    "papermill": {
     "duration": 0.033536,
     "end_time": "2022-05-15T01:35:46.326795",
     "exception": false,
     "start_time": "2022-05-15T01:35:46.293259",
     "status": "completed"
    },
    "tags": []
   },
   "outputs": [
    {
     "data": {
      "text/plain": [
       "(47000, 2)"
      ]
     },
     "execution_count": 4,
     "metadata": {},
     "output_type": "execute_result"
    }
   ],
   "source": [
    "train_df.shape"
   ]
  },
  {
   "cell_type": "code",
   "execution_count": 5,
   "id": "several-reserve",
   "metadata": {
    "execution": {
     "iopub.execute_input": "2022-05-15T01:35:46.384299Z",
     "iopub.status.busy": "2022-05-15T01:35:46.383703Z",
     "iopub.status.idle": "2022-05-15T01:35:46.418150Z",
     "shell.execute_reply": "2022-05-15T01:35:46.417599Z",
     "shell.execute_reply.started": "2022-05-14T23:44:53.726350Z"
    },
    "papermill": {
     "duration": 0.065698,
     "end_time": "2022-05-15T01:35:46.418270",
     "exception": false,
     "start_time": "2022-05-15T01:35:46.352572",
     "status": "completed"
    },
    "tags": []
   },
   "outputs": [],
   "source": [
    "df_ss2030 = pd.read_csv(\"../input/arabic-sentiment-analysis-dataset-ss2030-dataset/Arabic Sentiment Analysis Dataset - SS2030.csv\")\n",
    "# Rename columns to match convention\n",
    "df_ss2030 = df_ss2030.rename(columns = {\"text\":\"tweet\", \"Sentiment\": \"label\"})"
   ]
  },
  {
   "cell_type": "code",
   "execution_count": 6,
   "id": "median-billion",
   "metadata": {
    "execution": {
     "iopub.execute_input": "2022-05-15T01:35:46.478440Z",
     "iopub.status.busy": "2022-05-15T01:35:46.477527Z",
     "iopub.status.idle": "2022-05-15T01:35:46.481430Z",
     "shell.execute_reply": "2022-05-15T01:35:46.480976Z",
     "shell.execute_reply.started": "2022-05-14T23:51:43.078592Z"
    },
    "papermill": {
     "duration": 0.036561,
     "end_time": "2022-05-15T01:35:46.481541",
     "exception": false,
     "start_time": "2022-05-15T01:35:46.444980",
     "status": "completed"
    },
    "tags": []
   },
   "outputs": [
    {
     "data": {
      "text/html": [
       "<div>\n",
       "<style scoped>\n",
       "    .dataframe tbody tr th:only-of-type {\n",
       "        vertical-align: middle;\n",
       "    }\n",
       "\n",
       "    .dataframe tbody tr th {\n",
       "        vertical-align: top;\n",
       "    }\n",
       "\n",
       "    .dataframe thead th {\n",
       "        text-align: right;\n",
       "    }\n",
       "</style>\n",
       "<table border=\"1\" class=\"dataframe\">\n",
       "  <thead>\n",
       "    <tr style=\"text-align: right;\">\n",
       "      <th></th>\n",
       "      <th>tweet</th>\n",
       "      <th>label</th>\n",
       "    </tr>\n",
       "  </thead>\n",
       "  <tbody>\n",
       "    <tr>\n",
       "      <th>0</th>\n",
       "      <td>حقوق المرأة 💚💚💚 https://t.co/Mzf90Ta5g1</td>\n",
       "      <td>1</td>\n",
       "    </tr>\n",
       "    <tr>\n",
       "      <th>1</th>\n",
       "      <td>RT @___IHAVENOIDEA: حقوق المرأة في الإسلام. https://t.co/ps3qNw1CbB</td>\n",
       "      <td>1</td>\n",
       "    </tr>\n",
       "    <tr>\n",
       "      <th>2</th>\n",
       "      <td>RT @saud_talep: Retweeted لجنة التنمية بشبرا (@Shubratanmyeh):\\n \\n ما زال التسجيل مستمر في دورة حقوق المرأة بعد الطلاق ✨ #وعيك_يحميك... https://t.co/c2NXzNCdLU</td>\n",
       "      <td>1</td>\n",
       "    </tr>\n",
       "    <tr>\n",
       "      <th>3</th>\n",
       "      <td>RT @MojKsa: حقوق المرأة التي تضمنها لها وزارة العدل https://t.co/QUGzWwubFk</td>\n",
       "      <td>1</td>\n",
       "    </tr>\n",
       "    <tr>\n",
       "      <th>4</th>\n",
       "      <td>RT @abm112211: ولي امر الزوجة او ولي الزوجة او ولي المراة من الاخطاء الشائعة \\n \\n  هذا الكلام غلط في الشريعة والقانون\\n فلا يوجد ولي للزوجة او المراة الا اذا كانت قاصرا ويكون الولي ابوها ...الخ وليس الزوج منهم\\n نعم له حقوق عليها لكنها ليست ولاية\\n الولاية مصطلح فقهي قانوني ...</td>\n",
       "      <td>1</td>\n",
       "    </tr>\n",
       "  </tbody>\n",
       "</table>\n",
       "</div>"
      ],
      "text/plain": [
       "                                                                                                                                                                                                                                                                                     tweet  \\\n",
       "0                                                                                                                                                                                                                                                  حقوق المرأة 💚💚💚 https://t.co/Mzf90Ta5g1   \n",
       "1                                                                                                                                                                                                                      RT @___IHAVENOIDEA: حقوق المرأة في الإسلام. https://t.co/ps3qNw1CbB   \n",
       "2                                                                                                                         RT @saud_talep: Retweeted لجنة التنمية بشبرا (@Shubratanmyeh):\\n \\n ما زال التسجيل مستمر في دورة حقوق المرأة بعد الطلاق ✨ #وعيك_يحميك... https://t.co/c2NXzNCdLU   \n",
       "3                                                                                                                                                                                                              RT @MojKsa: حقوق المرأة التي تضمنها لها وزارة العدل https://t.co/QUGzWwubFk   \n",
       "4  RT @abm112211: ولي امر الزوجة او ولي الزوجة او ولي المراة من الاخطاء الشائعة \\n \\n  هذا الكلام غلط في الشريعة والقانون\\n فلا يوجد ولي للزوجة او المراة الا اذا كانت قاصرا ويكون الولي ابوها ...الخ وليس الزوج منهم\\n نعم له حقوق عليها لكنها ليست ولاية\\n الولاية مصطلح فقهي قانوني ...   \n",
       "\n",
       "   label  \n",
       "0      1  \n",
       "1      1  \n",
       "2      1  \n",
       "3      1  \n",
       "4      1  "
      ]
     },
     "execution_count": 6,
     "metadata": {},
     "output_type": "execute_result"
    }
   ],
   "source": [
    "df_ss2030.head()"
   ]
  },
  {
   "cell_type": "code",
   "execution_count": 7,
   "id": "curious-andrews",
   "metadata": {
    "execution": {
     "iopub.execute_input": "2022-05-15T01:35:46.538129Z",
     "iopub.status.busy": "2022-05-15T01:35:46.537488Z",
     "iopub.status.idle": "2022-05-15T01:35:46.542369Z",
     "shell.execute_reply": "2022-05-15T01:35:46.541901Z",
     "shell.execute_reply.started": "2022-05-14T23:51:53.578437Z"
    },
    "papermill": {
     "duration": 0.034519,
     "end_time": "2022-05-15T01:35:46.542477",
     "exception": false,
     "start_time": "2022-05-15T01:35:46.507958",
     "status": "completed"
    },
    "tags": []
   },
   "outputs": [
    {
     "data": {
      "text/plain": [
       "(4252, 2)"
      ]
     },
     "execution_count": 7,
     "metadata": {},
     "output_type": "execute_result"
    }
   ],
   "source": [
    "df_ss2030.shape"
   ]
  },
  {
   "cell_type": "code",
   "execution_count": 8,
   "id": "intensive-uganda",
   "metadata": {
    "execution": {
     "iopub.execute_input": "2022-05-15T01:35:46.603781Z",
     "iopub.status.busy": "2022-05-15T01:35:46.603268Z",
     "iopub.status.idle": "2022-05-15T01:35:47.716088Z",
     "shell.execute_reply": "2022-05-15T01:35:47.715581Z",
     "shell.execute_reply.started": "2022-05-14T23:45:07.687142Z"
    },
    "papermill": {
     "duration": 1.147299,
     "end_time": "2022-05-15T01:35:47.716237",
     "exception": false,
     "start_time": "2022-05-15T01:35:46.568938",
     "status": "completed"
    },
    "tags": []
   },
   "outputs": [],
   "source": [
    "df_reviews = pd.read_csv(\"../input/arabic-100k-reviews/ar_reviews_100k.tsv\", delimiter=\"\\t\")\n",
    "# Create a mapping for the labels such that we use the same convention across all datasets\n",
    "label_mapping = {\"Positive\": 1, \"Negative\":0}\n",
    "# Filter to only have pos and neg tweets, i.e: remove mixed tweets\n",
    "df_reviews = df_reviews[df_reviews.label != \"Mixed\"]\n",
    "df_reviews[\"label\"] = df_reviews[\"label\"].map(label_mapping)\n",
    "# Rename columns to match convention\n",
    "df_reviews = df_reviews.rename(columns = {\"text\":\"tweet\"})"
   ]
  },
  {
   "cell_type": "code",
   "execution_count": 9,
   "id": "streaming-blocking",
   "metadata": {
    "execution": {
     "iopub.execute_input": "2022-05-15T01:35:47.821530Z",
     "iopub.status.busy": "2022-05-15T01:35:47.821004Z",
     "iopub.status.idle": "2022-05-15T01:35:47.827069Z",
     "shell.execute_reply": "2022-05-15T01:35:47.826569Z",
     "shell.execute_reply.started": "2022-05-14T23:53:02.491299Z"
    },
    "papermill": {
     "duration": 0.055116,
     "end_time": "2022-05-15T01:35:47.827203",
     "exception": false,
     "start_time": "2022-05-15T01:35:47.772087",
     "status": "completed"
    },
    "tags": []
   },
   "outputs": [
    {
     "data": {
      "text/html": [
       "<div>\n",
       "<style scoped>\n",
       "    .dataframe tbody tr th:only-of-type {\n",
       "        vertical-align: middle;\n",
       "    }\n",
       "\n",
       "    .dataframe tbody tr th {\n",
       "        vertical-align: top;\n",
       "    }\n",
       "\n",
       "    .dataframe thead th {\n",
       "        text-align: right;\n",
       "    }\n",
       "</style>\n",
       "<table border=\"1\" class=\"dataframe\">\n",
       "  <thead>\n",
       "    <tr style=\"text-align: right;\">\n",
       "      <th></th>\n",
       "      <th>label</th>\n",
       "      <th>tweet</th>\n",
       "    </tr>\n",
       "  </thead>\n",
       "  <tbody>\n",
       "    <tr>\n",
       "      <th>0</th>\n",
       "      <td>1</td>\n",
       "      <td>ممتاز نوعا ما . النظافة والموقع والتجهيز والشاطيء. المطعم</td>\n",
       "    </tr>\n",
       "    <tr>\n",
       "      <th>1</th>\n",
       "      <td>1</td>\n",
       "      <td>أحد أسباب نجاح الإمارات أن كل شخص في هذه الدولة يعشق ترابها. نحن نحب الإمارات. ومضات من فكر. نصائح لدولة تطمح بالصفوف الأولى و قائد لا يقبل إلا براحة شعبه وتوفر كل سب العيش الكريم. حكم و مواقف ونصائح لكل فرد فينا ليس بمجرد كتاب سياسي كما كنت اعتقد. يستحق القراءة مرات كثيرة</td>\n",
       "    </tr>\n",
       "    <tr>\n",
       "      <th>2</th>\n",
       "      <td>1</td>\n",
       "      <td>هادفة .. وقوية. تنقلك من صخب شوارع القاهرة الى هدوء جبال الشيشان .. للتعرف على حقيقة ما يجرى فى تلك البلاد من حروب ضاربة بحق المسلمين و جزء كبير من تاريخ تلك المنطقة. التضحية .. الرجولة .. الوفاء والكثير من القيم الأخرى اثبتت وجودها فى تلك الرواية البسيطة</td>\n",
       "    </tr>\n",
       "    <tr>\n",
       "      <th>3</th>\n",
       "      <td>1</td>\n",
       "      <td>خلصنا .. مبدئيا اللي مستني ابهار زي الفيل الازرق ميقراش احسن.. احمد مراد تخطى مرحلة ان القارئ يخلص الرواية وهو فاتح بؤه لمرحلة ان القارئ يخلص الرواية وهو محترم الكاتب.. اتقان مخيف.. بصرف النظر عن اخطاء لا تذكر ف الحوار.. انما احمد مراد سافر عاش حبة ف اوائل القرن العشرين وجه ي...</td>\n",
       "    </tr>\n",
       "    <tr>\n",
       "      <th>4</th>\n",
       "      <td>1</td>\n",
       "      <td>ياسات جلوريا جزء لا يتجزأ من دبي . فندق متكامل الخدمات مريح نفسيا. لا يوجد</td>\n",
       "    </tr>\n",
       "  </tbody>\n",
       "</table>\n",
       "</div>"
      ],
      "text/plain": [
       "   label  \\\n",
       "0      1   \n",
       "1      1   \n",
       "2      1   \n",
       "3      1   \n",
       "4      1   \n",
       "\n",
       "                                                                                                                                                                                                                                                                                     tweet  \n",
       "0                                                                                                                                                                                                                                ممتاز نوعا ما . النظافة والموقع والتجهيز والشاطيء. المطعم  \n",
       "1        أحد أسباب نجاح الإمارات أن كل شخص في هذه الدولة يعشق ترابها. نحن نحب الإمارات. ومضات من فكر. نصائح لدولة تطمح بالصفوف الأولى و قائد لا يقبل إلا براحة شعبه وتوفر كل سب العيش الكريم. حكم و مواقف ونصائح لكل فرد فينا ليس بمجرد كتاب سياسي كما كنت اعتقد. يستحق القراءة مرات كثيرة  \n",
       "2                          هادفة .. وقوية. تنقلك من صخب شوارع القاهرة الى هدوء جبال الشيشان .. للتعرف على حقيقة ما يجرى فى تلك البلاد من حروب ضاربة بحق المسلمين و جزء كبير من تاريخ تلك المنطقة. التضحية .. الرجولة .. الوفاء والكثير من القيم الأخرى اثبتت وجودها فى تلك الرواية البسيطة  \n",
       "3  خلصنا .. مبدئيا اللي مستني ابهار زي الفيل الازرق ميقراش احسن.. احمد مراد تخطى مرحلة ان القارئ يخلص الرواية وهو فاتح بؤه لمرحلة ان القارئ يخلص الرواية وهو محترم الكاتب.. اتقان مخيف.. بصرف النظر عن اخطاء لا تذكر ف الحوار.. انما احمد مراد سافر عاش حبة ف اوائل القرن العشرين وجه ي...  \n",
       "4                                                                                                                                                                                                               ياسات جلوريا جزء لا يتجزأ من دبي . فندق متكامل الخدمات مريح نفسيا. لا يوجد  "
      ]
     },
     "execution_count": 9,
     "metadata": {},
     "output_type": "execute_result"
    }
   ],
   "source": [
    "df_reviews.head()"
   ]
  },
  {
   "cell_type": "code",
   "execution_count": 10,
   "id": "complicated-ecuador",
   "metadata": {
    "execution": {
     "iopub.execute_input": "2022-05-15T01:35:47.885627Z",
     "iopub.status.busy": "2022-05-15T01:35:47.885131Z",
     "iopub.status.idle": "2022-05-15T01:35:47.890288Z",
     "shell.execute_reply": "2022-05-15T01:35:47.889826Z",
     "shell.execute_reply.started": "2022-05-14T23:53:07.478573Z"
    },
    "papermill": {
     "duration": 0.036209,
     "end_time": "2022-05-15T01:35:47.890397",
     "exception": false,
     "start_time": "2022-05-15T01:35:47.854188",
     "status": "completed"
    },
    "tags": []
   },
   "outputs": [
    {
     "data": {
      "text/plain": [
       "(66666, 2)"
      ]
     },
     "execution_count": 10,
     "metadata": {},
     "output_type": "execute_result"
    }
   ],
   "source": [
    "df_reviews.shape"
   ]
  },
  {
   "cell_type": "code",
   "execution_count": 11,
   "id": "supported-ultimate",
   "metadata": {
    "execution": {
     "iopub.execute_input": "2022-05-15T01:35:47.951392Z",
     "iopub.status.busy": "2022-05-15T01:35:47.950747Z",
     "iopub.status.idle": "2022-05-15T01:35:47.966555Z",
     "shell.execute_reply": "2022-05-15T01:35:47.966112Z",
     "shell.execute_reply.started": "2022-05-14T23:45:33.760286Z"
    },
    "papermill": {
     "duration": 0.048869,
     "end_time": "2022-05-15T01:35:47.966661",
     "exception": false,
     "start_time": "2022-05-15T01:35:47.917792",
     "status": "completed"
    },
    "tags": []
   },
   "outputs": [],
   "source": [
    "# Helper functions \n",
    "from sklearn.feature_extraction.text import CountVectorizer\n",
    "from sklearn.feature_extraction.text import TfidfTransformer\n",
    "from sklearn.pipeline import Pipeline\n",
    "def train_model(model, data, targets):\n",
    "    text_clf = Pipeline([\n",
    "    ('vect', CountVectorizer()),\n",
    "    ('tfidf', TfidfTransformer()),\n",
    "    ('clf', model),\n",
    "    ])\n",
    "    text_clf.fit(data, targets)\n",
    "    return text_clf\n",
    "def get_accuracy(trained_model,X, y):\n",
    "    predicted = trained_model.predict(X)\n",
    "    accuracy = np.mean(predicted == y)\n",
    "    return accuracy"
   ]
  },
  {
   "cell_type": "code",
   "execution_count": 12,
   "id": "correct-deadline",
   "metadata": {
    "execution": {
     "iopub.execute_input": "2022-05-15T01:35:48.025320Z",
     "iopub.status.busy": "2022-05-15T01:35:48.024774Z",
     "iopub.status.idle": "2022-05-15T01:35:49.372999Z",
     "shell.execute_reply": "2022-05-15T01:35:49.373794Z",
     "shell.execute_reply.started": "2022-05-14T23:45:46.998605Z"
    },
    "papermill": {
     "duration": 1.379817,
     "end_time": "2022-05-15T01:35:49.374022",
     "exception": false,
     "start_time": "2022-05-15T01:35:47.994205",
     "status": "completed"
    },
    "tags": []
   },
   "outputs": [
    {
     "name": "stdout",
     "output_type": "stream",
     "text": [
      "Test dataset accuracy with MultinomialNB: 0.79\n"
     ]
    }
   ],
   "source": [
    "from sklearn.naive_bayes import MultinomialNB\n",
    "trained_clf_multinomial_nb = train_model(MultinomialNB(), X, y)\n",
    "accuracy = get_accuracy(trained_clf_multinomial_nb,X_test, y_test)\n",
    "print(f\"Test dataset accuracy with MultinomialNB: {accuracy:.2f}\")"
   ]
  },
  {
   "cell_type": "code",
   "execution_count": 13,
   "id": "uniform-milwaukee",
   "metadata": {
    "execution": {
     "iopub.execute_input": "2022-05-15T01:35:49.474771Z",
     "iopub.status.busy": "2022-05-15T01:35:49.473934Z",
     "iopub.status.idle": "2022-05-15T01:35:49.476114Z",
     "shell.execute_reply": "2022-05-15T01:35:49.475465Z",
     "shell.execute_reply.started": "2022-05-14T23:47:31.559477Z"
    },
    "papermill": {
     "duration": 0.054991,
     "end_time": "2022-05-15T01:35:49.476273",
     "exception": false,
     "start_time": "2022-05-15T01:35:49.421282",
     "status": "completed"
    },
    "tags": []
   },
   "outputs": [],
   "source": [
    "def print_all_accuracies(dataset_name, dataset):\n",
    "  accuracy = get_accuracy(trained_clf_multinomial_nb,dataset.tweet.values, dataset.label.values)\n",
    "  print(f\"{dataset_name} dataset accuracy with Multinomial NB: {accuracy:.2f}\")\n",
    "\n"
   ]
  },
  {
   "cell_type": "code",
   "execution_count": 14,
   "id": "adapted-suspect",
   "metadata": {
    "execution": {
     "iopub.execute_input": "2022-05-15T01:35:49.579194Z",
     "iopub.status.busy": "2022-05-15T01:35:49.578424Z",
     "iopub.status.idle": "2022-05-15T01:35:53.615902Z",
     "shell.execute_reply": "2022-05-15T01:35:53.615460Z",
     "shell.execute_reply.started": "2022-05-14T23:47:52.979101Z"
    },
    "papermill": {
     "duration": 4.094409,
     "end_time": "2022-05-15T01:35:53.616038",
     "exception": false,
     "start_time": "2022-05-15T01:35:49.521629",
     "status": "completed"
    },
    "tags": []
   },
   "outputs": [
    {
     "name": "stdout",
     "output_type": "stream",
     "text": [
      "SS2030 dataset accuracy with Multinomial NB: 0.59\n",
      "100k Arabic Reviews dataset accuracy with Multinomial NB: 0.60\n"
     ]
    }
   ],
   "source": [
    "print_all_accuracies(\"SS2030\", df_ss2030)\n",
    "print_all_accuracies(\"100k Arabic Reviews\", df_reviews)"
   ]
  },
  {
   "cell_type": "code",
   "execution_count": 15,
   "id": "general-studio",
   "metadata": {
    "execution": {
     "iopub.execute_input": "2022-05-15T01:35:53.682624Z",
     "iopub.status.busy": "2022-05-15T01:35:53.678891Z",
     "iopub.status.idle": "2022-05-15T01:36:03.416014Z",
     "shell.execute_reply": "2022-05-15T01:36:03.415525Z",
     "shell.execute_reply.started": "2022-05-15T01:33:22.384791Z"
    },
    "papermill": {
     "duration": 9.771719,
     "end_time": "2022-05-15T01:36:03.416152",
     "exception": false,
     "start_time": "2022-05-15T01:35:53.644433",
     "status": "completed"
    },
    "tags": []
   },
   "outputs": [
    {
     "data": {
      "text/plain": [
       "array([0.77304965, 0.76638298, 0.77078014, 0.77198582, 0.77375887,\n",
       "       0.76943262, 0.76950355, 0.77120567, 0.77368794, 0.77425532])"
      ]
     },
     "execution_count": 15,
     "metadata": {},
     "output_type": "execute_result"
    }
   ],
   "source": [
    "from sklearn.model_selection import ShuffleSplit\n",
    "from sklearn.model_selection import cross_val_score\n",
    "import warnings\n",
    "warnings.filterwarnings('ignore')\n",
    "cv=ShuffleSplit(10,test_size=0.3, random_state=1)\n",
    "cross_val_score(trained_clf_multinomial_nb,X,y, cv=cv , scoring='accuracy')"
   ]
  },
  {
   "cell_type": "markdown",
   "id": "billion-governor",
   "metadata": {
    "papermill": {
     "duration": 0.028561,
     "end_time": "2022-05-15T01:36:03.474286",
     "exception": false,
     "start_time": "2022-05-15T01:36:03.445725",
     "status": "completed"
    },
    "tags": []
   },
   "source": [
    "# GridSearchCV"
   ]
  },
  {
   "cell_type": "code",
   "execution_count": 16,
   "id": "stylish-liabilities",
   "metadata": {
    "execution": {
     "iopub.execute_input": "2022-05-15T01:36:03.574621Z",
     "iopub.status.busy": "2022-05-15T01:36:03.569688Z",
     "iopub.status.idle": "2022-05-15T01:36:09.243375Z",
     "shell.execute_reply": "2022-05-15T01:36:09.242916Z",
     "shell.execute_reply.started": "2022-05-15T01:33:45.843842Z"
    },
    "papermill": {
     "duration": 5.740585,
     "end_time": "2022-05-15T01:36:09.243501",
     "exception": false,
     "start_time": "2022-05-15T01:36:03.502916",
     "status": "completed"
    },
    "tags": []
   },
   "outputs": [
    {
     "data": {
      "text/plain": [
       "Pipeline(steps=[('vect', CountVectorizer()), ('tfidf', TfidfTransformer()),\n",
       "                ('clf',\n",
       "                 GridSearchCV(cv=10, estimator=MultinomialNB(), n_jobs=-1,\n",
       "                              param_grid={'alpha': (0, 0.1, 0.2, 0.3, 0.4, 0.5,\n",
       "                                                    0.8, 0.88, 0.9, 1, 2, 3, 4,\n",
       "                                                    5, 6)},\n",
       "                              scoring='accuracy'))])"
      ]
     },
     "execution_count": 16,
     "metadata": {},
     "output_type": "execute_result"
    }
   ],
   "source": [
    "from sklearn.model_selection import GridSearchCV\n",
    "hyperparameters = {\"alpha\":(0,0.1, 0.2, 0.3, 0.4, 0.5 ,  0.8 , 0.88, 0.9, 1 ,2, 3,4 ,5, 6)}\n",
    "Grid= GridSearchCV(estimator=MultinomialNB(), param_grid=hyperparameters, cv=10, scoring=\"accuracy\", n_jobs=-1)\n",
    "train_model(Grid, X, y)"
   ]
  },
  {
   "cell_type": "code",
   "execution_count": 17,
   "id": "fresh-lancaster",
   "metadata": {
    "execution": {
     "iopub.execute_input": "2022-05-15T01:36:09.307240Z",
     "iopub.status.busy": "2022-05-15T01:36:09.306543Z",
     "iopub.status.idle": "2022-05-15T01:36:09.309655Z",
     "shell.execute_reply": "2022-05-15T01:36:09.310117Z",
     "shell.execute_reply.started": "2022-05-15T01:33:50.960220Z"
    },
    "papermill": {
     "duration": 0.037646,
     "end_time": "2022-05-15T01:36:09.310262",
     "exception": false,
     "start_time": "2022-05-15T01:36:09.272616",
     "status": "completed"
    },
    "tags": []
   },
   "outputs": [
    {
     "data": {
      "text/plain": [
       "MultinomialNB(alpha=0.2)"
      ]
     },
     "execution_count": 17,
     "metadata": {},
     "output_type": "execute_result"
    }
   ],
   "source": [
    "Grid.best_estimator_"
   ]
  },
  {
   "cell_type": "code",
   "execution_count": 18,
   "id": "hourly-target",
   "metadata": {
    "execution": {
     "iopub.execute_input": "2022-05-15T01:36:09.372065Z",
     "iopub.status.busy": "2022-05-15T01:36:09.371242Z",
     "iopub.status.idle": "2022-05-15T01:36:09.374748Z",
     "shell.execute_reply": "2022-05-15T01:36:09.374252Z",
     "shell.execute_reply.started": "2022-05-15T01:33:50.968697Z"
    },
    "papermill": {
     "duration": 0.035943,
     "end_time": "2022-05-15T01:36:09.374849",
     "exception": false,
     "start_time": "2022-05-15T01:36:09.338906",
     "status": "completed"
    },
    "tags": []
   },
   "outputs": [
    {
     "data": {
      "text/plain": [
       "{'alpha': 0.2}"
      ]
     },
     "execution_count": 18,
     "metadata": {},
     "output_type": "execute_result"
    }
   ],
   "source": [
    "Grid.best_params_"
   ]
  },
  {
   "cell_type": "code",
   "execution_count": 19,
   "id": "reliable-algebra",
   "metadata": {
    "execution": {
     "iopub.execute_input": "2022-05-15T01:36:09.437482Z",
     "iopub.status.busy": "2022-05-15T01:36:09.436732Z",
     "iopub.status.idle": "2022-05-15T01:36:09.440525Z",
     "shell.execute_reply": "2022-05-15T01:36:09.440110Z",
     "shell.execute_reply.started": "2022-05-15T01:33:50.984622Z"
    },
    "papermill": {
     "duration": 0.036301,
     "end_time": "2022-05-15T01:36:09.440630",
     "exception": false,
     "start_time": "2022-05-15T01:36:09.404329",
     "status": "completed"
    },
    "tags": []
   },
   "outputs": [
    {
     "data": {
      "text/plain": [
       "0.7890212765957447"
      ]
     },
     "execution_count": 19,
     "metadata": {},
     "output_type": "execute_result"
    }
   ],
   "source": [
    "Grid.best_score_"
   ]
  },
  {
   "cell_type": "code",
   "execution_count": 20,
   "id": "european-nitrogen",
   "metadata": {
    "execution": {
     "iopub.execute_input": "2022-05-15T01:36:09.543317Z",
     "iopub.status.busy": "2022-05-15T01:36:09.523722Z",
     "iopub.status.idle": "2022-05-15T01:36:12.522426Z",
     "shell.execute_reply": "2022-05-15T01:36:12.521793Z",
     "shell.execute_reply.started": "2022-05-15T01:27:30.765219Z"
    },
    "papermill": {
     "duration": 3.052205,
     "end_time": "2022-05-15T01:36:12.522553",
     "exception": false,
     "start_time": "2022-05-15T01:36:09.470348",
     "status": "completed"
    },
    "tags": []
   },
   "outputs": [
    {
     "data": {
      "text/plain": [
       "Pipeline(steps=[('vect', CountVectorizer()), ('tfidf', TfidfTransformer()),\n",
       "                ('clf',\n",
       "                 GridSearchCV(cv=10, estimator=MultinomialNB(), n_jobs=-1,\n",
       "                              param_grid={'alpha': (0, 0.8, 0.88, 0.9, 1, 2, 3,\n",
       "                                                    4, 5, 6)},\n",
       "                              scoring='accuracy'))])"
      ]
     },
     "execution_count": 20,
     "metadata": {},
     "output_type": "execute_result"
    }
   ],
   "source": [
    "from sklearn.model_selection import GridSearchCV\n",
    "hyperparameters = {\"alpha\":(0, 0.8,0.88, 0.9, 1 ,2,3,4,5,6)}\n",
    "Grid= GridSearchCV(estimator=MultinomialNB(), param_grid=hyperparameters, cv=10, scoring=\"accuracy\", n_jobs=-1)\n",
    "train_model(Grid, X, y)"
   ]
  },
  {
   "cell_type": "code",
   "execution_count": 21,
   "id": "established-violin",
   "metadata": {
    "execution": {
     "iopub.execute_input": "2022-05-15T01:36:12.587404Z",
     "iopub.status.busy": "2022-05-15T01:36:12.586723Z",
     "iopub.status.idle": "2022-05-15T01:36:12.589777Z",
     "shell.execute_reply": "2022-05-15T01:36:12.590260Z",
     "shell.execute_reply.started": "2022-05-15T01:27:33.441950Z"
    },
    "papermill": {
     "duration": 0.03734,
     "end_time": "2022-05-15T01:36:12.590406",
     "exception": false,
     "start_time": "2022-05-15T01:36:12.553066",
     "status": "completed"
    },
    "tags": []
   },
   "outputs": [
    {
     "data": {
      "text/plain": [
       "MultinomialNB(alpha=0.8)"
      ]
     },
     "execution_count": 21,
     "metadata": {},
     "output_type": "execute_result"
    }
   ],
   "source": [
    "Grid.best_estimator_"
   ]
  },
  {
   "cell_type": "code",
   "execution_count": 22,
   "id": "assured-spiritual",
   "metadata": {
    "execution": {
     "iopub.execute_input": "2022-05-15T01:36:12.654670Z",
     "iopub.status.busy": "2022-05-15T01:36:12.654177Z",
     "iopub.status.idle": "2022-05-15T01:36:12.658888Z",
     "shell.execute_reply": "2022-05-15T01:36:12.658458Z",
     "shell.execute_reply.started": "2022-05-15T01:27:33.449286Z"
    },
    "papermill": {
     "duration": 0.038523,
     "end_time": "2022-05-15T01:36:12.658996",
     "exception": false,
     "start_time": "2022-05-15T01:36:12.620473",
     "status": "completed"
    },
    "tags": []
   },
   "outputs": [
    {
     "data": {
      "text/plain": [
       "{'alpha': 0.8}"
      ]
     },
     "execution_count": 22,
     "metadata": {},
     "output_type": "execute_result"
    }
   ],
   "source": [
    "Grid.best_params_"
   ]
  },
  {
   "cell_type": "code",
   "execution_count": 23,
   "id": "acquired-animation",
   "metadata": {
    "execution": {
     "iopub.execute_input": "2022-05-15T01:36:12.724704Z",
     "iopub.status.busy": "2022-05-15T01:36:12.723923Z",
     "iopub.status.idle": "2022-05-15T01:36:12.727040Z",
     "shell.execute_reply": "2022-05-15T01:36:12.727414Z",
     "shell.execute_reply.started": "2022-05-15T01:27:33.458636Z"
    },
    "papermill": {
     "duration": 0.038024,
     "end_time": "2022-05-15T01:36:12.727543",
     "exception": false,
     "start_time": "2022-05-15T01:36:12.689519",
     "status": "completed"
    },
    "tags": []
   },
   "outputs": [
    {
     "data": {
      "text/plain": [
       "0.7826595744680851"
      ]
     },
     "execution_count": 23,
     "metadata": {},
     "output_type": "execute_result"
    }
   ],
   "source": [
    "Grid.best_score_"
   ]
  },
  {
   "cell_type": "code",
   "execution_count": 24,
   "id": "common-haven",
   "metadata": {
    "execution": {
     "iopub.execute_input": "2022-05-15T01:36:12.812195Z",
     "iopub.status.busy": "2022-05-15T01:36:12.797639Z",
     "iopub.status.idle": "2022-05-15T01:36:13.988333Z",
     "shell.execute_reply": "2022-05-15T01:36:13.989264Z",
     "shell.execute_reply.started": "2022-05-15T01:27:45.662392Z"
    },
    "papermill": {
     "duration": 1.230848,
     "end_time": "2022-05-15T01:36:13.989498",
     "exception": false,
     "start_time": "2022-05-15T01:36:12.758650",
     "status": "completed"
    },
    "tags": []
   },
   "outputs": [
    {
     "name": "stdout",
     "output_type": "stream",
     "text": [
      "Test dataset accuracy with MultinomialNB: 0.79\n"
     ]
    }
   ],
   "source": [
    "trained_clf_multinomial_nb_im = train_model(MultinomialNB(alpha=0.8), X, y)\n",
    "accuracy = get_accuracy(trained_clf_multinomial_nb_im,X_test, y_test)\n",
    "print(f\"Test dataset accuracy with MultinomialNB: {accuracy:.2f}\")"
   ]
  },
  {
   "cell_type": "code",
   "execution_count": 25,
   "id": "perceived-times",
   "metadata": {
    "execution": {
     "iopub.execute_input": "2022-05-15T01:36:14.057488Z",
     "iopub.status.busy": "2022-05-15T01:36:14.056732Z",
     "iopub.status.idle": "2022-05-15T01:36:14.059552Z",
     "shell.execute_reply": "2022-05-15T01:36:14.059105Z",
     "shell.execute_reply.started": "2022-05-15T01:27:48.422339Z"
    },
    "papermill": {
     "duration": 0.037348,
     "end_time": "2022-05-15T01:36:14.059677",
     "exception": false,
     "start_time": "2022-05-15T01:36:14.022329",
     "status": "completed"
    },
    "tags": []
   },
   "outputs": [],
   "source": [
    "def print_all_im_accuracies(dataset_name, dataset):\n",
    "  accuracy = get_accuracy(trained_clf_multinomial_nb_im,dataset.tweet.values, dataset.label.values)\n",
    "  print(f\"{dataset_name} dataset accuracy with Multinomial NB: {accuracy:.2f}\")"
   ]
  },
  {
   "cell_type": "code",
   "execution_count": 26,
   "id": "sacred-excerpt",
   "metadata": {
    "execution": {
     "iopub.execute_input": "2022-05-15T01:36:14.180229Z",
     "iopub.status.busy": "2022-05-15T01:36:14.159758Z",
     "iopub.status.idle": "2022-05-15T01:36:18.275775Z",
     "shell.execute_reply": "2022-05-15T01:36:18.276169Z",
     "shell.execute_reply.started": "2022-05-15T01:27:49.982637Z"
    },
    "papermill": {
     "duration": 4.185887,
     "end_time": "2022-05-15T01:36:18.276323",
     "exception": false,
     "start_time": "2022-05-15T01:36:14.090436",
     "status": "completed"
    },
    "tags": []
   },
   "outputs": [
    {
     "name": "stdout",
     "output_type": "stream",
     "text": [
      "SS2030 dataset accuracy with Multinomial NB: 0.59\n",
      "100k Arabic Reviews dataset accuracy with Multinomial NB: 0.60\n"
     ]
    }
   ],
   "source": [
    "print_all_im_accuracies(\"SS2030\", df_ss2030)\n",
    "print_all_im_accuracies(\"100k Arabic Reviews\", df_reviews)"
   ]
  },
  {
   "cell_type": "markdown",
   "id": "finnish-gauge",
   "metadata": {
    "papermill": {
     "duration": 0.031552,
     "end_time": "2022-05-15T01:36:18.339957",
     "exception": false,
     "start_time": "2022-05-15T01:36:18.308405",
     "status": "completed"
    },
    "tags": []
   },
   "source": [
    "# ensemble learning"
   ]
  },
  {
   "cell_type": "markdown",
   "id": "limited-testimony",
   "metadata": {
    "papermill": {
     "duration": 0.031319,
     "end_time": "2022-05-15T01:36:18.402694",
     "exception": false,
     "start_time": "2022-05-15T01:36:18.371375",
     "status": "completed"
    },
    "tags": []
   },
   "source": [
    "# StackingClassifier"
   ]
  },
  {
   "cell_type": "code",
   "execution_count": 27,
   "id": "august-position",
   "metadata": {
    "execution": {
     "iopub.execute_input": "2022-05-15T01:36:18.470113Z",
     "iopub.status.busy": "2022-05-15T01:36:18.469370Z",
     "iopub.status.idle": "2022-05-15T01:36:20.103742Z",
     "shell.execute_reply": "2022-05-15T01:36:20.103261Z",
     "shell.execute_reply.started": "2022-05-15T01:34:43.403149Z"
    },
    "papermill": {
     "duration": 1.670091,
     "end_time": "2022-05-15T01:36:20.103900",
     "exception": false,
     "start_time": "2022-05-15T01:36:18.433809",
     "status": "completed"
    },
    "tags": []
   },
   "outputs": [],
   "source": [
    "from sklearn.ensemble import  StackingClassifier\n",
    "model1= StackingClassifier([('MNB1',MultinomialNB(alpha=0.8)),('MNB2',MultinomialNB(alpha=0.2)),\n",
    "                         ('MNB3',MultinomialNB(alpha=1))], final_estimator=MultinomialNB(alpha=1))\n",
    "\n",
    "\n",
    "\n",
    "trained_clf_multinomial_nb_im2= train_model(model1, X, y)"
   ]
  },
  {
   "cell_type": "code",
   "execution_count": 28,
   "id": "removable-solid",
   "metadata": {
    "execution": {
     "iopub.execute_input": "2022-05-15T01:36:20.221802Z",
     "iopub.status.busy": "2022-05-15T01:36:20.206764Z",
     "iopub.status.idle": "2022-05-15T01:36:20.380895Z",
     "shell.execute_reply": "2022-05-15T01:36:20.381510Z",
     "shell.execute_reply.started": "2022-05-15T01:34:47.700363Z"
    },
    "papermill": {
     "duration": 0.245068,
     "end_time": "2022-05-15T01:36:20.381718",
     "exception": false,
     "start_time": "2022-05-15T01:36:20.136650",
     "status": "completed"
    },
    "tags": []
   },
   "outputs": [
    {
     "name": "stdout",
     "output_type": "stream",
     "text": [
      "Test dataset accuracy with MultinomialNB: 0.51\n"
     ]
    }
   ],
   "source": [
    "accuracy = get_accuracy(trained_clf_multinomial_nb_im2 ,X_test, y_test)\n",
    "print(f\"Test dataset accuracy with MultinomialNB: {accuracy:.2f}\")"
   ]
  },
  {
   "cell_type": "markdown",
   "id": "acknowledged-tuner",
   "metadata": {
    "papermill": {
     "duration": 0.031309,
     "end_time": "2022-05-15T01:36:20.446454",
     "exception": false,
     "start_time": "2022-05-15T01:36:20.415145",
     "status": "completed"
    },
    "tags": []
   },
   "source": [
    "# BaggingClassifier "
   ]
  },
  {
   "cell_type": "code",
   "execution_count": 29,
   "id": "basic-baptist",
   "metadata": {
    "execution": {
     "iopub.execute_input": "2022-05-15T01:36:20.543127Z",
     "iopub.status.busy": "2022-05-15T01:36:20.527818Z",
     "iopub.status.idle": "2022-05-15T01:36:25.727052Z",
     "shell.execute_reply": "2022-05-15T01:36:25.726503Z",
     "shell.execute_reply.started": "2022-05-15T01:25:47.483332Z"
    },
    "papermill": {
     "duration": 5.249233,
     "end_time": "2022-05-15T01:36:25.727185",
     "exception": false,
     "start_time": "2022-05-15T01:36:20.477952",
     "status": "completed"
    },
    "tags": []
   },
   "outputs": [],
   "source": [
    "from sklearn.ensemble import BaggingClassifier \n",
    "modell =BaggingClassifier(base_estimator=MultinomialNB(alpha=1), n_estimators=200)\n",
    "trained_clf_multinomial_nb_im3= train_model(modell, X, y)"
   ]
  },
  {
   "cell_type": "code",
   "execution_count": 30,
   "id": "caring-maryland",
   "metadata": {
    "execution": {
     "iopub.execute_input": "2022-05-15T01:36:25.840395Z",
     "iopub.status.busy": "2022-05-15T01:36:25.830899Z",
     "iopub.status.idle": "2022-05-15T01:36:26.775565Z",
     "shell.execute_reply": "2022-05-15T01:36:26.775142Z",
     "shell.execute_reply.started": "2022-05-15T01:25:52.413021Z"
    },
    "papermill": {
     "duration": 1.015659,
     "end_time": "2022-05-15T01:36:26.775687",
     "exception": false,
     "start_time": "2022-05-15T01:36:25.760028",
     "status": "completed"
    },
    "tags": []
   },
   "outputs": [
    {
     "name": "stdout",
     "output_type": "stream",
     "text": [
      "Test dataset accuracy with MultinomialNB: 0.78\n"
     ]
    }
   ],
   "source": [
    "accuracy = get_accuracy(trained_clf_multinomial_nb_im3 ,X_test, y_test)\n",
    "print(f\"Test dataset accuracy with MultinomialNB: {accuracy:.2f}\")"
   ]
  },
  {
   "cell_type": "code",
   "execution_count": 31,
   "id": "composite-overhead",
   "metadata": {
    "execution": {
     "iopub.execute_input": "2022-05-15T01:36:26.900062Z",
     "iopub.status.busy": "2022-05-15T01:36:26.879482Z",
     "iopub.status.idle": "2022-05-15T01:36:37.984845Z",
     "shell.execute_reply": "2022-05-15T01:36:37.986755Z",
     "shell.execute_reply.started": "2022-05-15T01:22:28.723055Z"
    },
    "papermill": {
     "duration": 11.17804,
     "end_time": "2022-05-15T01:36:37.987111",
     "exception": false,
     "start_time": "2022-05-15T01:36:26.809071",
     "status": "completed"
    },
    "tags": []
   },
   "outputs": [
    {
     "name": "stdout",
     "output_type": "stream",
     "text": [
      "SS2030 dataset accuracy with Multinomial NB: 0.59\n",
      "100k Arabic Reviews dataset accuracy with Multinomial NB: 0.60\n"
     ]
    }
   ],
   "source": [
    "def print_all_im3_accuracies(dataset_name, dataset):\n",
    "  accuracy = get_accuracy(trained_clf_multinomial_nb_im3,dataset.tweet.values, dataset.label.values)\n",
    "  print(f\"{dataset_name} dataset accuracy with Multinomial NB: {accuracy:.2f}\")\n",
    "print_all_im3_accuracies(\"SS2030\", df_ss2030)\n",
    "print_all_im3_accuracies(\"100k Arabic Reviews\", df_reviews)"
   ]
  },
  {
   "cell_type": "markdown",
   "id": "induced-expense",
   "metadata": {
    "execution": {
     "iopub.execute_input": "2022-05-15T01:16:34.599179Z",
     "iopub.status.busy": "2022-05-15T01:16:34.598861Z",
     "iopub.status.idle": "2022-05-15T01:16:34.602759Z",
     "shell.execute_reply": "2022-05-15T01:16:34.601658Z",
     "shell.execute_reply.started": "2022-05-15T01:16:34.599151Z"
    },
    "papermill": {
     "duration": 0.032288,
     "end_time": "2022-05-15T01:36:38.054635",
     "exception": false,
     "start_time": "2022-05-15T01:36:38.022347",
     "status": "completed"
    },
    "tags": []
   },
   "source": [
    "# VotingClassifier"
   ]
  },
  {
   "cell_type": "code",
   "execution_count": 32,
   "id": "completed-future",
   "metadata": {
    "execution": {
     "iopub.execute_input": "2022-05-15T01:36:38.153111Z",
     "iopub.status.busy": "2022-05-15T01:36:38.143696Z",
     "iopub.status.idle": "2022-05-15T01:36:44.015343Z",
     "shell.execute_reply": "2022-05-15T01:36:44.014708Z",
     "shell.execute_reply.started": "2022-05-15T01:24:14.382373Z"
    },
    "papermill": {
     "duration": 5.928226,
     "end_time": "2022-05-15T01:36:44.015518",
     "exception": false,
     "start_time": "2022-05-15T01:36:38.087292",
     "status": "completed"
    },
    "tags": []
   },
   "outputs": [
    {
     "name": "stdout",
     "output_type": "stream",
     "text": [
      "Test dataset accuracy with MultinomialNB: 0.79\n",
      "Test dataset accuracy with MultinomialNB: 0.79\n",
      "Test dataset accuracy with MultinomialNB: 0.79\n",
      "Test dataset accuracy with MultinomialNB: 0.79\n"
     ]
    }
   ],
   "source": [
    "from sklearn.ensemble import VotingClassifier\n",
    "model1=MultinomialNB(alpha=1)\n",
    "model2=MultinomialNB(alpha=1)\n",
    "model21=MultinomialNB(alpha=1)\n",
    "model3= VotingClassifier([('mnb1',model1),\n",
    "                         ('mnb2',model2),('mnb3',model21)\n",
    "                         ],voting='hard')\n",
    "trained_clf_multinomial_nb_im41= train_model(model3, X, y)\n",
    "for model in (model1,model2,model21, model3):\n",
    "    \n",
    "    trained_clf_multinomial_nb_im4= train_model(model, X, y)\n",
    "    accuracy = get_accuracy(trained_clf_multinomial_nb_im4 ,X_test, y_test)\n",
    "    print(f\"Test dataset accuracy with MultinomialNB: {accuracy:.2f}\")"
   ]
  },
  {
   "cell_type": "code",
   "execution_count": 33,
   "id": "direct-photograph",
   "metadata": {
    "execution": {
     "iopub.execute_input": "2022-05-15T01:36:44.133346Z",
     "iopub.status.busy": "2022-05-15T01:36:44.132348Z",
     "iopub.status.idle": "2022-05-15T01:36:49.102401Z",
     "shell.execute_reply": "2022-05-15T01:36:49.101813Z",
     "shell.execute_reply.started": "2022-05-15T01:24:21.244196Z"
    },
    "papermill": {
     "duration": 5.050673,
     "end_time": "2022-05-15T01:36:49.102564",
     "exception": false,
     "start_time": "2022-05-15T01:36:44.051891",
     "status": "completed"
    },
    "tags": []
   },
   "outputs": [
    {
     "name": "stdout",
     "output_type": "stream",
     "text": [
      "SS2030 dataset accuracy with Multinomial NB: 0.59\n",
      "100k Arabic Reviews dataset accuracy with Multinomial NB: 0.60\n"
     ]
    }
   ],
   "source": [
    "def print_all_im4_accuracies(dataset_name, dataset):\n",
    "  accuracy = get_accuracy(trained_clf_multinomial_nb_im41,dataset.tweet.values, dataset.label.values)\n",
    "  print(f\"{dataset_name} dataset accuracy with Multinomial NB: {accuracy:.2f}\")\n",
    "print_all_im4_accuracies(\"SS2030\", df_ss2030)\n",
    "print_all_im4_accuracies(\"100k Arabic Reviews\", df_reviews)"
   ]
  },
  {
   "cell_type": "code",
   "execution_count": null,
   "id": "chinese-medicaid",
   "metadata": {
    "papermill": {
     "duration": 0.034416,
     "end_time": "2022-05-15T01:36:49.172476",
     "exception": false,
     "start_time": "2022-05-15T01:36:49.138060",
     "status": "completed"
    },
    "tags": []
   },
   "outputs": [],
   "source": []
  }
 ],
 "metadata": {
  "kernelspec": {
   "display_name": "Python 3",
   "language": "python",
   "name": "python3"
  },
  "language_info": {
   "codemirror_mode": {
    "name": "ipython",
    "version": 3
   },
   "file_extension": ".py",
   "mimetype": "text/x-python",
   "name": "python",
   "nbconvert_exporter": "python",
   "pygments_lexer": "ipython3",
   "version": "3.7.10"
  },
  "papermill": {
   "default_parameters": {},
   "duration": 71.302966,
   "end_time": "2022-05-15T01:36:49.916801",
   "environment_variables": {},
   "exception": null,
   "input_path": "__notebook__.ipynb",
   "output_path": "__notebook__.ipynb",
   "parameters": {},
   "start_time": "2022-05-15T01:35:38.613835",
   "version": "2.3.3"
  }
 },
 "nbformat": 4,
 "nbformat_minor": 5
}
