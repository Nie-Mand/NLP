{
 "cells": [
  {
   "cell_type": "code",
   "execution_count": 1,
   "id": "inside-acting",
   "metadata": {
    "execution": {
     "iopub.execute_input": "2022-05-16T22:26:51.506323Z",
     "iopub.status.busy": "2022-05-16T22:26:51.505567Z",
     "iopub.status.idle": "2022-05-16T22:26:51.508784Z",
     "shell.execute_reply": "2022-05-16T22:26:51.508244Z",
     "shell.execute_reply.started": "2022-05-16T22:21:33.691699Z"
    },
    "papermill": {
     "duration": 0.048273,
     "end_time": "2022-05-16T22:26:51.508949",
     "exception": false,
     "start_time": "2022-05-16T22:26:51.460676",
     "status": "completed"
    },
    "tags": []
   },
   "outputs": [],
   "source": [
    "import os\n",
    "import re\n",
    "from tqdm import tqdm\n",
    "import numpy as np\n",
    "import pandas as pd\n",
    "import matplotlib.pyplot as plt\n",
    "import csv\n",
    "\n",
    "%matplotlib inline"
   ]
  },
  {
   "cell_type": "code",
   "execution_count": 2,
   "id": "impaired-nicaragua",
   "metadata": {
    "execution": {
     "iopub.execute_input": "2022-05-16T22:26:51.584082Z",
     "iopub.status.busy": "2022-05-16T22:26:51.583454Z",
     "iopub.status.idle": "2022-05-16T22:26:52.526495Z",
     "shell.execute_reply": "2022-05-16T22:26:52.525934Z",
     "shell.execute_reply.started": "2022-05-16T22:21:33.702552Z"
    },
    "papermill": {
     "duration": 0.987117,
     "end_time": "2022-05-16T22:26:52.526633",
     "exception": false,
     "start_time": "2022-05-16T22:26:51.539516",
     "status": "completed"
    },
    "tags": []
   },
   "outputs": [],
   "source": [
    "pd.set_option('display.max_colwidth', 280)\n",
    "train_neg = pd.read_csv(\"../input/arabic-sentiment-twitter-corpus/train_Arabic_tweets_negative_20190413.tsv\", sep=\"\\t\", header=None,  quoting=csv.QUOTE_NONE)\n",
    "train_neg.rename(columns={0:'label', 1:'tweet'}, inplace=True)\n",
    "train_neg['label'] = 0\n",
    "\n",
    "train_pos = pd.read_csv(\"../input/arabic-sentiment-twitter-corpus/train_Arabic_tweets_positive_20190413.tsv\", sep=\"\\t\", header=None,  quoting=csv.QUOTE_NONE)\n",
    "train_pos.rename(columns={0:'label', 1:'tweet'}, inplace=True)\n",
    "train_pos['label'] = 1\n",
    "\n",
    "\n",
    "train_df = pd.concat([train_neg, train_pos], axis=0).reset_index(drop=True)\n",
    "\n",
    "\n",
    "from sklearn.model_selection import train_test_split\n",
    "X = train_df.tweet.values\n",
    "y = train_df.label.values\n",
    "\n",
    "# The train val split is used by the DL approach but not classical ML\n",
    "X_train, X_val, y_train, y_val = train_test_split(X,y,test_size=0.1, random_state=2020)\n",
    "# Load test subset\n",
    "test_pos = pd.read_csv(\"../input/arabic-sentiment-twitter-corpus/test_Arabic_tweets_positive_20190413.tsv\", sep=\"\\t\", header=None,  quoting=csv.QUOTE_NONE)\n",
    "test_pos.rename(columns={0:'label', 1:'tweet'}, inplace=True)\n",
    "test_pos['label']=1\n",
    "\n",
    "test_neg = pd.read_csv(\"../input/arabic-sentiment-twitter-corpus/test_Arabic_tweets_negative_20190413.tsv\", sep=\"\\t\", header=None,  quoting=csv.QUOTE_NONE)\n",
    "test_neg.rename(columns={0:'label', 1:'tweet'}, inplace=True)\n",
    "test_neg['label']=0\n",
    "\n",
    "test_df = pd.concat([test_neg, test_pos], axis=0).reset_index(drop=True)\n",
    "X_test = test_df.tweet.values\n",
    "y_test = test_df.label.values"
   ]
  },
  {
   "cell_type": "code",
   "execution_count": 3,
   "id": "cardiovascular-civilian",
   "metadata": {
    "execution": {
     "iopub.execute_input": "2022-05-16T22:26:52.590187Z",
     "iopub.status.busy": "2022-05-16T22:26:52.589646Z",
     "iopub.status.idle": "2022-05-16T22:26:52.597729Z",
     "shell.execute_reply": "2022-05-16T22:26:52.598192Z",
     "shell.execute_reply.started": "2022-05-16T22:21:34.730799Z"
    },
    "papermill": {
     "duration": 0.043166,
     "end_time": "2022-05-16T22:26:52.598323",
     "exception": false,
     "start_time": "2022-05-16T22:26:52.555157",
     "status": "completed"
    },
    "tags": []
   },
   "outputs": [
    {
     "data": {
      "text/html": [
       "<div>\n",
       "<style scoped>\n",
       "    .dataframe tbody tr th:only-of-type {\n",
       "        vertical-align: middle;\n",
       "    }\n",
       "\n",
       "    .dataframe tbody tr th {\n",
       "        vertical-align: top;\n",
       "    }\n",
       "\n",
       "    .dataframe thead th {\n",
       "        text-align: right;\n",
       "    }\n",
       "</style>\n",
       "<table border=\"1\" class=\"dataframe\">\n",
       "  <thead>\n",
       "    <tr style=\"text-align: right;\">\n",
       "      <th></th>\n",
       "      <th>label</th>\n",
       "      <th>tweet</th>\n",
       "    </tr>\n",
       "  </thead>\n",
       "  <tbody>\n",
       "    <tr>\n",
       "      <th>0</th>\n",
       "      <td>0</td>\n",
       "      <td>اعترف ان بتس كانو شوي شوي يجيبو راسي لكن اليوم بالزايد 😭</td>\n",
       "    </tr>\n",
       "    <tr>\n",
       "      <th>1</th>\n",
       "      <td>0</td>\n",
       "      <td>توقعت اذا جات داريا بشوفهم كاملين بس لي للحين احس فيه احد ناقصهم 💔 #Avlu</td>\n",
       "    </tr>\n",
       "    <tr>\n",
       "      <th>2</th>\n",
       "      <td>0</td>\n",
       "      <td>#الاهلي_الهلال اكتب توقعك لنتيجة لقاء الهلال والاهلي تحت التاق 👇 #تحدي_اسرع_روقان وادخل في سحب قيمة ايفون X على…</td>\n",
       "    </tr>\n",
       "    <tr>\n",
       "      <th>3</th>\n",
       "      <td>0</td>\n",
       "      <td>نعمة المضادات الحيوية . تضع قطرة💧مضاد بنسلين على بكتيريا 🦠 فتنفجر 💥 و تموت . الأخيرة يبدو انها بكتيريا مقاومة فأخذ…</td>\n",
       "    </tr>\n",
       "    <tr>\n",
       "      <th>4</th>\n",
       "      <td>0</td>\n",
       "      <td>الدودو جايه تكمل علي 💔</td>\n",
       "    </tr>\n",
       "  </tbody>\n",
       "</table>\n",
       "</div>"
      ],
      "text/plain": [
       "   label  \\\n",
       "0      0   \n",
       "1      0   \n",
       "2      0   \n",
       "3      0   \n",
       "4      0   \n",
       "\n",
       "                                                                                                                 tweet  \n",
       "0                                                             اعترف ان بتس كانو شوي شوي يجيبو راسي لكن اليوم بالزايد 😭  \n",
       "1                                             توقعت اذا جات داريا بشوفهم كاملين بس لي للحين احس فيه احد ناقصهم 💔 #Avlu  \n",
       "2     #الاهلي_الهلال اكتب توقعك لنتيجة لقاء الهلال والاهلي تحت التاق 👇 #تحدي_اسرع_روقان وادخل في سحب قيمة ايفون X على…  \n",
       "3  نعمة المضادات الحيوية . تضع قطرة💧مضاد بنسلين على بكتيريا 🦠 فتنفجر 💥 و تموت . الأخيرة يبدو انها بكتيريا مقاومة فأخذ…  \n",
       "4                                                                                               الدودو جايه تكمل علي 💔  "
      ]
     },
     "execution_count": 3,
     "metadata": {},
     "output_type": "execute_result"
    }
   ],
   "source": [
    "train_df.head()"
   ]
  },
  {
   "cell_type": "code",
   "execution_count": 4,
   "id": "fabulous-avenue",
   "metadata": {
    "execution": {
     "iopub.execute_input": "2022-05-16T22:26:52.655325Z",
     "iopub.status.busy": "2022-05-16T22:26:52.654774Z",
     "iopub.status.idle": "2022-05-16T22:26:52.659593Z",
     "shell.execute_reply": "2022-05-16T22:26:52.659201Z",
     "shell.execute_reply.started": "2022-05-16T22:21:34.749026Z"
    },
    "papermill": {
     "duration": 0.034458,
     "end_time": "2022-05-16T22:26:52.659694",
     "exception": false,
     "start_time": "2022-05-16T22:26:52.625236",
     "status": "completed"
    },
    "tags": []
   },
   "outputs": [
    {
     "data": {
      "text/plain": [
       "(47000, 2)"
      ]
     },
     "execution_count": 4,
     "metadata": {},
     "output_type": "execute_result"
    }
   ],
   "source": [
    "train_df.shape"
   ]
  },
  {
   "cell_type": "code",
   "execution_count": 5,
   "id": "golden-orbit",
   "metadata": {
    "execution": {
     "iopub.execute_input": "2022-05-16T22:26:52.719935Z",
     "iopub.status.busy": "2022-05-16T22:26:52.719359Z",
     "iopub.status.idle": "2022-05-16T22:26:52.753328Z",
     "shell.execute_reply": "2022-05-16T22:26:52.752700Z",
     "shell.execute_reply.started": "2022-05-16T22:21:34.755824Z"
    },
    "papermill": {
     "duration": 0.066754,
     "end_time": "2022-05-16T22:26:52.753453",
     "exception": false,
     "start_time": "2022-05-16T22:26:52.686699",
     "status": "completed"
    },
    "tags": []
   },
   "outputs": [],
   "source": [
    "df_ss2030 = pd.read_csv(\"../input/arabic-sentiment-analysis-dataset-ss2030-dataset/Arabic Sentiment Analysis Dataset - SS2030.csv\")\n",
    "# Rename columns to match convention\n",
    "df_ss2030 = df_ss2030.rename(columns = {\"text\":\"tweet\", \"Sentiment\": \"label\"})"
   ]
  },
  {
   "cell_type": "code",
   "execution_count": 6,
   "id": "several-institution",
   "metadata": {
    "execution": {
     "iopub.execute_input": "2022-05-16T22:26:52.826498Z",
     "iopub.status.busy": "2022-05-16T22:26:52.825588Z",
     "iopub.status.idle": "2022-05-16T22:26:52.829150Z",
     "shell.execute_reply": "2022-05-16T22:26:52.829634Z",
     "shell.execute_reply.started": "2022-05-16T22:21:34.805480Z"
    },
    "papermill": {
     "duration": 0.043699,
     "end_time": "2022-05-16T22:26:52.829770",
     "exception": false,
     "start_time": "2022-05-16T22:26:52.786071",
     "status": "completed"
    },
    "tags": []
   },
   "outputs": [
    {
     "data": {
      "text/html": [
       "<div>\n",
       "<style scoped>\n",
       "    .dataframe tbody tr th:only-of-type {\n",
       "        vertical-align: middle;\n",
       "    }\n",
       "\n",
       "    .dataframe tbody tr th {\n",
       "        vertical-align: top;\n",
       "    }\n",
       "\n",
       "    .dataframe thead th {\n",
       "        text-align: right;\n",
       "    }\n",
       "</style>\n",
       "<table border=\"1\" class=\"dataframe\">\n",
       "  <thead>\n",
       "    <tr style=\"text-align: right;\">\n",
       "      <th></th>\n",
       "      <th>tweet</th>\n",
       "      <th>label</th>\n",
       "    </tr>\n",
       "  </thead>\n",
       "  <tbody>\n",
       "    <tr>\n",
       "      <th>0</th>\n",
       "      <td>حقوق المرأة 💚💚💚 https://t.co/Mzf90Ta5g1</td>\n",
       "      <td>1</td>\n",
       "    </tr>\n",
       "    <tr>\n",
       "      <th>1</th>\n",
       "      <td>RT @___IHAVENOIDEA: حقوق المرأة في الإسلام. https://t.co/ps3qNw1CbB</td>\n",
       "      <td>1</td>\n",
       "    </tr>\n",
       "    <tr>\n",
       "      <th>2</th>\n",
       "      <td>RT @saud_talep: Retweeted لجنة التنمية بشبرا (@Shubratanmyeh):\\n \\n ما زال التسجيل مستمر في دورة حقوق المرأة بعد الطلاق ✨ #وعيك_يحميك... https://t.co/c2NXzNCdLU</td>\n",
       "      <td>1</td>\n",
       "    </tr>\n",
       "    <tr>\n",
       "      <th>3</th>\n",
       "      <td>RT @MojKsa: حقوق المرأة التي تضمنها لها وزارة العدل https://t.co/QUGzWwubFk</td>\n",
       "      <td>1</td>\n",
       "    </tr>\n",
       "    <tr>\n",
       "      <th>4</th>\n",
       "      <td>RT @abm112211: ولي امر الزوجة او ولي الزوجة او ولي المراة من الاخطاء الشائعة \\n \\n  هذا الكلام غلط في الشريعة والقانون\\n فلا يوجد ولي للزوجة او المراة الا اذا كانت قاصرا ويكون الولي ابوها ...الخ وليس الزوج منهم\\n نعم له حقوق عليها لكنها ليست ولاية\\n الولاية مصطلح فقهي قانوني ...</td>\n",
       "      <td>1</td>\n",
       "    </tr>\n",
       "  </tbody>\n",
       "</table>\n",
       "</div>"
      ],
      "text/plain": [
       "                                                                                                                                                                                                                                                                                     tweet  \\\n",
       "0                                                                                                                                                                                                                                                  حقوق المرأة 💚💚💚 https://t.co/Mzf90Ta5g1   \n",
       "1                                                                                                                                                                                                                      RT @___IHAVENOIDEA: حقوق المرأة في الإسلام. https://t.co/ps3qNw1CbB   \n",
       "2                                                                                                                         RT @saud_talep: Retweeted لجنة التنمية بشبرا (@Shubratanmyeh):\\n \\n ما زال التسجيل مستمر في دورة حقوق المرأة بعد الطلاق ✨ #وعيك_يحميك... https://t.co/c2NXzNCdLU   \n",
       "3                                                                                                                                                                                                              RT @MojKsa: حقوق المرأة التي تضمنها لها وزارة العدل https://t.co/QUGzWwubFk   \n",
       "4  RT @abm112211: ولي امر الزوجة او ولي الزوجة او ولي المراة من الاخطاء الشائعة \\n \\n  هذا الكلام غلط في الشريعة والقانون\\n فلا يوجد ولي للزوجة او المراة الا اذا كانت قاصرا ويكون الولي ابوها ...الخ وليس الزوج منهم\\n نعم له حقوق عليها لكنها ليست ولاية\\n الولاية مصطلح فقهي قانوني ...   \n",
       "\n",
       "   label  \n",
       "0      1  \n",
       "1      1  \n",
       "2      1  \n",
       "3      1  \n",
       "4      1  "
      ]
     },
     "execution_count": 6,
     "metadata": {},
     "output_type": "execute_result"
    }
   ],
   "source": [
    "df_ss2030.head()"
   ]
  },
  {
   "cell_type": "code",
   "execution_count": 7,
   "id": "toxic-metropolitan",
   "metadata": {
    "execution": {
     "iopub.execute_input": "2022-05-16T22:26:52.899257Z",
     "iopub.status.busy": "2022-05-16T22:26:52.898411Z",
     "iopub.status.idle": "2022-05-16T22:26:52.901963Z",
     "shell.execute_reply": "2022-05-16T22:26:52.902474Z",
     "shell.execute_reply.started": "2022-05-16T22:21:34.817533Z"
    },
    "papermill": {
     "duration": 0.040321,
     "end_time": "2022-05-16T22:26:52.902611",
     "exception": false,
     "start_time": "2022-05-16T22:26:52.862290",
     "status": "completed"
    },
    "tags": []
   },
   "outputs": [
    {
     "data": {
      "text/plain": [
       "(4252, 2)"
      ]
     },
     "execution_count": 7,
     "metadata": {},
     "output_type": "execute_result"
    }
   ],
   "source": [
    "df_ss2030.shape"
   ]
  },
  {
   "cell_type": "code",
   "execution_count": 8,
   "id": "young-publication",
   "metadata": {
    "execution": {
     "iopub.execute_input": "2022-05-16T22:26:52.974612Z",
     "iopub.status.busy": "2022-05-16T22:26:52.973960Z",
     "iopub.status.idle": "2022-05-16T22:26:54.140025Z",
     "shell.execute_reply": "2022-05-16T22:26:54.139438Z",
     "shell.execute_reply.started": "2022-05-16T22:21:34.828342Z"
    },
    "papermill": {
     "duration": 1.204855,
     "end_time": "2022-05-16T22:26:54.140252",
     "exception": false,
     "start_time": "2022-05-16T22:26:52.935397",
     "status": "completed"
    },
    "tags": []
   },
   "outputs": [],
   "source": [
    "df_reviews = pd.read_csv(\"../input/arabic-100k-reviews/ar_reviews_100k.tsv\", delimiter=\"\\t\")\n",
    "# Create a mapping for the labels such that we use the same convention across all datasets\n",
    "label_mapping = {\"Positive\": 1, \"Negative\":0}\n",
    "# Filter to only have pos and neg tweets, i.e: remove mixed tweets\n",
    "df_reviews = df_reviews[df_reviews.label != \"Mixed\"]\n",
    "df_reviews[\"label\"] = df_reviews[\"label\"].map(label_mapping)\n",
    "# Rename columns to match convention\n",
    "df_reviews = df_reviews.rename(columns = {\"text\":\"tweet\"})"
   ]
  },
  {
   "cell_type": "code",
   "execution_count": 9,
   "id": "major-reasoning",
   "metadata": {
    "execution": {
     "iopub.execute_input": "2022-05-16T22:26:54.216612Z",
     "iopub.status.busy": "2022-05-16T22:26:54.215619Z",
     "iopub.status.idle": "2022-05-16T22:26:54.219293Z",
     "shell.execute_reply": "2022-05-16T22:26:54.219820Z",
     "shell.execute_reply.started": "2022-05-16T22:21:35.993148Z"
    },
    "papermill": {
     "duration": 0.045073,
     "end_time": "2022-05-16T22:26:54.219967",
     "exception": false,
     "start_time": "2022-05-16T22:26:54.174894",
     "status": "completed"
    },
    "tags": []
   },
   "outputs": [
    {
     "data": {
      "text/html": [
       "<div>\n",
       "<style scoped>\n",
       "    .dataframe tbody tr th:only-of-type {\n",
       "        vertical-align: middle;\n",
       "    }\n",
       "\n",
       "    .dataframe tbody tr th {\n",
       "        vertical-align: top;\n",
       "    }\n",
       "\n",
       "    .dataframe thead th {\n",
       "        text-align: right;\n",
       "    }\n",
       "</style>\n",
       "<table border=\"1\" class=\"dataframe\">\n",
       "  <thead>\n",
       "    <tr style=\"text-align: right;\">\n",
       "      <th></th>\n",
       "      <th>label</th>\n",
       "      <th>tweet</th>\n",
       "    </tr>\n",
       "  </thead>\n",
       "  <tbody>\n",
       "    <tr>\n",
       "      <th>0</th>\n",
       "      <td>1</td>\n",
       "      <td>ممتاز نوعا ما . النظافة والموقع والتجهيز والشاطيء. المطعم</td>\n",
       "    </tr>\n",
       "    <tr>\n",
       "      <th>1</th>\n",
       "      <td>1</td>\n",
       "      <td>أحد أسباب نجاح الإمارات أن كل شخص في هذه الدولة يعشق ترابها. نحن نحب الإمارات. ومضات من فكر. نصائح لدولة تطمح بالصفوف الأولى و قائد لا يقبل إلا براحة شعبه وتوفر كل سب العيش الكريم. حكم و مواقف ونصائح لكل فرد فينا ليس بمجرد كتاب سياسي كما كنت اعتقد. يستحق القراءة مرات كثيرة</td>\n",
       "    </tr>\n",
       "    <tr>\n",
       "      <th>2</th>\n",
       "      <td>1</td>\n",
       "      <td>هادفة .. وقوية. تنقلك من صخب شوارع القاهرة الى هدوء جبال الشيشان .. للتعرف على حقيقة ما يجرى فى تلك البلاد من حروب ضاربة بحق المسلمين و جزء كبير من تاريخ تلك المنطقة. التضحية .. الرجولة .. الوفاء والكثير من القيم الأخرى اثبتت وجودها فى تلك الرواية البسيطة</td>\n",
       "    </tr>\n",
       "    <tr>\n",
       "      <th>3</th>\n",
       "      <td>1</td>\n",
       "      <td>خلصنا .. مبدئيا اللي مستني ابهار زي الفيل الازرق ميقراش احسن.. احمد مراد تخطى مرحلة ان القارئ يخلص الرواية وهو فاتح بؤه لمرحلة ان القارئ يخلص الرواية وهو محترم الكاتب.. اتقان مخيف.. بصرف النظر عن اخطاء لا تذكر ف الحوار.. انما احمد مراد سافر عاش حبة ف اوائل القرن العشرين وجه ي...</td>\n",
       "    </tr>\n",
       "    <tr>\n",
       "      <th>4</th>\n",
       "      <td>1</td>\n",
       "      <td>ياسات جلوريا جزء لا يتجزأ من دبي . فندق متكامل الخدمات مريح نفسيا. لا يوجد</td>\n",
       "    </tr>\n",
       "  </tbody>\n",
       "</table>\n",
       "</div>"
      ],
      "text/plain": [
       "   label  \\\n",
       "0      1   \n",
       "1      1   \n",
       "2      1   \n",
       "3      1   \n",
       "4      1   \n",
       "\n",
       "                                                                                                                                                                                                                                                                                     tweet  \n",
       "0                                                                                                                                                                                                                                ممتاز نوعا ما . النظافة والموقع والتجهيز والشاطيء. المطعم  \n",
       "1        أحد أسباب نجاح الإمارات أن كل شخص في هذه الدولة يعشق ترابها. نحن نحب الإمارات. ومضات من فكر. نصائح لدولة تطمح بالصفوف الأولى و قائد لا يقبل إلا براحة شعبه وتوفر كل سب العيش الكريم. حكم و مواقف ونصائح لكل فرد فينا ليس بمجرد كتاب سياسي كما كنت اعتقد. يستحق القراءة مرات كثيرة  \n",
       "2                          هادفة .. وقوية. تنقلك من صخب شوارع القاهرة الى هدوء جبال الشيشان .. للتعرف على حقيقة ما يجرى فى تلك البلاد من حروب ضاربة بحق المسلمين و جزء كبير من تاريخ تلك المنطقة. التضحية .. الرجولة .. الوفاء والكثير من القيم الأخرى اثبتت وجودها فى تلك الرواية البسيطة  \n",
       "3  خلصنا .. مبدئيا اللي مستني ابهار زي الفيل الازرق ميقراش احسن.. احمد مراد تخطى مرحلة ان القارئ يخلص الرواية وهو فاتح بؤه لمرحلة ان القارئ يخلص الرواية وهو محترم الكاتب.. اتقان مخيف.. بصرف النظر عن اخطاء لا تذكر ف الحوار.. انما احمد مراد سافر عاش حبة ف اوائل القرن العشرين وجه ي...  \n",
       "4                                                                                                                                                                                                               ياسات جلوريا جزء لا يتجزأ من دبي . فندق متكامل الخدمات مريح نفسيا. لا يوجد  "
      ]
     },
     "execution_count": 9,
     "metadata": {},
     "output_type": "execute_result"
    }
   ],
   "source": [
    "df_reviews.head()"
   ]
  },
  {
   "cell_type": "code",
   "execution_count": 10,
   "id": "silent-picking",
   "metadata": {
    "execution": {
     "iopub.execute_input": "2022-05-16T22:26:54.282685Z",
     "iopub.status.busy": "2022-05-16T22:26:54.282182Z",
     "iopub.status.idle": "2022-05-16T22:26:54.287313Z",
     "shell.execute_reply": "2022-05-16T22:26:54.286848Z",
     "shell.execute_reply.started": "2022-05-16T22:21:36.005075Z"
    },
    "papermill": {
     "duration": 0.036735,
     "end_time": "2022-05-16T22:26:54.287428",
     "exception": false,
     "start_time": "2022-05-16T22:26:54.250693",
     "status": "completed"
    },
    "tags": []
   },
   "outputs": [
    {
     "data": {
      "text/plain": [
       "(66666, 2)"
      ]
     },
     "execution_count": 10,
     "metadata": {},
     "output_type": "execute_result"
    }
   ],
   "source": [
    "df_reviews.shape"
   ]
  },
  {
   "cell_type": "code",
   "execution_count": 11,
   "id": "efficient-russell",
   "metadata": {
    "execution": {
     "iopub.execute_input": "2022-05-16T22:26:54.350451Z",
     "iopub.status.busy": "2022-05-16T22:26:54.349848Z",
     "iopub.status.idle": "2022-05-16T22:26:54.366139Z",
     "shell.execute_reply": "2022-05-16T22:26:54.366523Z",
     "shell.execute_reply.started": "2022-05-16T22:21:36.014549Z"
    },
    "papermill": {
     "duration": 0.050585,
     "end_time": "2022-05-16T22:26:54.366664",
     "exception": false,
     "start_time": "2022-05-16T22:26:54.316079",
     "status": "completed"
    },
    "tags": []
   },
   "outputs": [],
   "source": [
    "# Helper functions \n",
    "from sklearn.feature_extraction.text import CountVectorizer\n",
    "from sklearn.feature_extraction.text import TfidfTransformer\n",
    "from sklearn.pipeline import Pipeline\n",
    "def train_model(model, data, targets):\n",
    "    text_clf = Pipeline([\n",
    "    ('vect', CountVectorizer()),\n",
    "    ('tfidf', TfidfTransformer()),\n",
    "    ('clf', model),\n",
    "    ])\n",
    "    text_clf.fit(data, targets)\n",
    "    return text_clf\n",
    "def get_accuracy(trained_model,X, y):\n",
    "    predicted = trained_model.predict(X)\n",
    "    accuracy = np.mean(predicted == y)\n",
    "    return accuracy"
   ]
  },
  {
   "cell_type": "code",
   "execution_count": 12,
   "id": "together-powell",
   "metadata": {
    "execution": {
     "iopub.execute_input": "2022-05-16T22:26:54.427395Z",
     "iopub.status.busy": "2022-05-16T22:26:54.426847Z",
     "iopub.status.idle": "2022-05-16T22:26:55.825176Z",
     "shell.execute_reply": "2022-05-16T22:26:55.824474Z",
     "shell.execute_reply.started": "2022-05-16T22:21:36.037514Z"
    },
    "papermill": {
     "duration": 1.430264,
     "end_time": "2022-05-16T22:26:55.825314",
     "exception": false,
     "start_time": "2022-05-16T22:26:54.395050",
     "status": "completed"
    },
    "tags": []
   },
   "outputs": [
    {
     "name": "stdout",
     "output_type": "stream",
     "text": [
      "Test dataset accuracy with MultinomialNB: 0.79\n"
     ]
    }
   ],
   "source": [
    "from sklearn.naive_bayes import MultinomialNB\n",
    "trained_clf_multinomial_nb = train_model(MultinomialNB(), X, y)\n",
    "accuracy = get_accuracy(trained_clf_multinomial_nb,X_test, y_test)\n",
    "print(f\"Test dataset accuracy with MultinomialNB: {accuracy:.2f}\")"
   ]
  },
  {
   "cell_type": "code",
   "execution_count": 13,
   "id": "entire-sculpture",
   "metadata": {
    "execution": {
     "iopub.execute_input": "2022-05-16T22:26:55.889370Z",
     "iopub.status.busy": "2022-05-16T22:26:55.888665Z",
     "iopub.status.idle": "2022-05-16T22:26:55.891472Z",
     "shell.execute_reply": "2022-05-16T22:26:55.891061Z",
     "shell.execute_reply.started": "2022-05-16T22:21:37.284555Z"
    },
    "papermill": {
     "duration": 0.03646,
     "end_time": "2022-05-16T22:26:55.891603",
     "exception": false,
     "start_time": "2022-05-16T22:26:55.855143",
     "status": "completed"
    },
    "tags": []
   },
   "outputs": [],
   "source": [
    "def print_all_accuracies(dataset_name, dataset):\n",
    "  accuracy = get_accuracy(trained_clf_multinomial_nb,dataset.tweet.values, dataset.label.values)\n",
    "  print(f\"{dataset_name} dataset accuracy with Multinomial NB: {accuracy:.2f}\")\n",
    "\n"
   ]
  },
  {
   "cell_type": "code",
   "execution_count": 14,
   "id": "dutch-fortune",
   "metadata": {
    "execution": {
     "iopub.execute_input": "2022-05-16T22:26:55.968874Z",
     "iopub.status.busy": "2022-05-16T22:26:55.968146Z",
     "iopub.status.idle": "2022-05-16T22:27:00.544860Z",
     "shell.execute_reply": "2022-05-16T22:27:00.544447Z",
     "shell.execute_reply.started": "2022-05-16T22:21:37.291442Z"
    },
    "papermill": {
     "duration": 4.624532,
     "end_time": "2022-05-16T22:27:00.544983",
     "exception": false,
     "start_time": "2022-05-16T22:26:55.920451",
     "status": "completed"
    },
    "tags": []
   },
   "outputs": [
    {
     "name": "stdout",
     "output_type": "stream",
     "text": [
      "SS2030 dataset accuracy with Multinomial NB: 0.59\n",
      "100k Arabic Reviews dataset accuracy with Multinomial NB: 0.60\n"
     ]
    }
   ],
   "source": [
    "print_all_accuracies(\"SS2030\", df_ss2030)\n",
    "print_all_accuracies(\"100k Arabic Reviews\", df_reviews)"
   ]
  },
  {
   "cell_type": "code",
   "execution_count": 15,
   "id": "inclusive-brazil",
   "metadata": {
    "execution": {
     "iopub.execute_input": "2022-05-16T22:27:00.613449Z",
     "iopub.status.busy": "2022-05-16T22:27:00.612639Z",
     "iopub.status.idle": "2022-05-16T22:27:10.321245Z",
     "shell.execute_reply": "2022-05-16T22:27:10.321639Z",
     "shell.execute_reply.started": "2022-05-16T22:21:41.483688Z"
    },
    "papermill": {
     "duration": 9.746741,
     "end_time": "2022-05-16T22:27:10.321790",
     "exception": false,
     "start_time": "2022-05-16T22:27:00.575049",
     "status": "completed"
    },
    "tags": []
   },
   "outputs": [
    {
     "data": {
      "text/plain": [
       "array([0.77304965, 0.76638298, 0.77078014, 0.77198582, 0.77375887,\n",
       "       0.76943262, 0.76950355, 0.77120567, 0.77368794, 0.77425532])"
      ]
     },
     "execution_count": 15,
     "metadata": {},
     "output_type": "execute_result"
    }
   ],
   "source": [
    "from sklearn.model_selection import ShuffleSplit\n",
    "from sklearn.model_selection import cross_val_score\n",
    "import warnings\n",
    "warnings.filterwarnings('ignore')\n",
    "cv=ShuffleSplit(10,test_size=0.3, random_state=1)\n",
    "cross_val_score(trained_clf_multinomial_nb,X,y, cv=cv , scoring='accuracy')"
   ]
  },
  {
   "cell_type": "markdown",
   "id": "integrated-complexity",
   "metadata": {
    "papermill": {
     "duration": 0.029657,
     "end_time": "2022-05-16T22:27:10.381889",
     "exception": false,
     "start_time": "2022-05-16T22:27:10.352232",
     "status": "completed"
    },
    "tags": []
   },
   "source": [
    "# GridSearchCV"
   ]
  },
  {
   "cell_type": "code",
   "execution_count": 16,
   "id": "separate-qatar",
   "metadata": {
    "execution": {
     "iopub.execute_input": "2022-05-16T22:27:10.500870Z",
     "iopub.status.busy": "2022-05-16T22:27:10.465070Z",
     "iopub.status.idle": "2022-05-16T22:27:18.404396Z",
     "shell.execute_reply": "2022-05-16T22:27:18.403892Z",
     "shell.execute_reply.started": "2022-05-16T22:21:50.895400Z"
    },
    "papermill": {
     "duration": 7.992318,
     "end_time": "2022-05-16T22:27:18.404524",
     "exception": false,
     "start_time": "2022-05-16T22:27:10.412206",
     "status": "completed"
    },
    "tags": []
   },
   "outputs": [
    {
     "data": {
      "text/plain": [
       "Pipeline(steps=[('vect', CountVectorizer()), ('tfidf', TfidfTransformer()),\n",
       "                ('clf',\n",
       "                 GridSearchCV(cv=10, estimator=MultinomialNB(), n_jobs=-1,\n",
       "                              param_grid={'alpha': (0, 0.1, 0.2, 0.3, 0.4, 0.5,\n",
       "                                                    0.8, 0.88, 0.9, 1, 2, 3, 4,\n",
       "                                                    5, 6),\n",
       "                                          'fit_prior': (0.5, 0.5)},\n",
       "                              scoring='accuracy'))])"
      ]
     },
     "execution_count": 16,
     "metadata": {},
     "output_type": "execute_result"
    }
   ],
   "source": [
    "from sklearn.model_selection import GridSearchCV\n",
    "hyperparameters = {\"alpha\":(0,0.1, 0.2, 0.3, 0.4, 0.5 ,  0.8 , 0.88, 0.9, 1 ,2, 3,4 ,5, 6), \"fit_prior\":(0.5,0.5)}\n",
    "Grid= GridSearchCV(estimator=MultinomialNB(), param_grid=hyperparameters, cv=10, scoring=\"accuracy\", n_jobs=-1)\n",
    "train_model(Grid, X, y)"
   ]
  },
  {
   "cell_type": "code",
   "execution_count": 17,
   "id": "brief-certification",
   "metadata": {
    "execution": {
     "iopub.execute_input": "2022-05-16T22:27:18.469309Z",
     "iopub.status.busy": "2022-05-16T22:27:18.468555Z",
     "iopub.status.idle": "2022-05-16T22:27:18.472343Z",
     "shell.execute_reply": "2022-05-16T22:27:18.471900Z",
     "shell.execute_reply.started": "2022-05-16T22:21:58.785572Z"
    },
    "papermill": {
     "duration": 0.037723,
     "end_time": "2022-05-16T22:27:18.472455",
     "exception": false,
     "start_time": "2022-05-16T22:27:18.434732",
     "status": "completed"
    },
    "tags": []
   },
   "outputs": [
    {
     "data": {
      "text/plain": [
       "MultinomialNB(alpha=0.2, fit_prior=0.5)"
      ]
     },
     "execution_count": 17,
     "metadata": {},
     "output_type": "execute_result"
    }
   ],
   "source": [
    "Grid.best_estimator_"
   ]
  },
  {
   "cell_type": "code",
   "execution_count": 18,
   "id": "innovative-talent",
   "metadata": {
    "execution": {
     "iopub.execute_input": "2022-05-16T22:27:18.537405Z",
     "iopub.status.busy": "2022-05-16T22:27:18.536663Z",
     "iopub.status.idle": "2022-05-16T22:27:18.540371Z",
     "shell.execute_reply": "2022-05-16T22:27:18.539880Z",
     "shell.execute_reply.started": "2022-05-16T22:21:58.794683Z"
    },
    "papermill": {
     "duration": 0.037188,
     "end_time": "2022-05-16T22:27:18.540477",
     "exception": false,
     "start_time": "2022-05-16T22:27:18.503289",
     "status": "completed"
    },
    "tags": []
   },
   "outputs": [
    {
     "data": {
      "text/plain": [
       "{'alpha': 0.2, 'fit_prior': 0.5}"
      ]
     },
     "execution_count": 18,
     "metadata": {},
     "output_type": "execute_result"
    }
   ],
   "source": [
    "Grid.best_params_"
   ]
  },
  {
   "cell_type": "code",
   "execution_count": 19,
   "id": "employed-thailand",
   "metadata": {
    "execution": {
     "iopub.execute_input": "2022-05-16T22:27:18.605114Z",
     "iopub.status.busy": "2022-05-16T22:27:18.604340Z",
     "iopub.status.idle": "2022-05-16T22:27:18.607836Z",
     "shell.execute_reply": "2022-05-16T22:27:18.607438Z",
     "shell.execute_reply.started": "2022-05-16T22:21:58.804587Z"
    },
    "papermill": {
     "duration": 0.037128,
     "end_time": "2022-05-16T22:27:18.607941",
     "exception": false,
     "start_time": "2022-05-16T22:27:18.570813",
     "status": "completed"
    },
    "tags": []
   },
   "outputs": [
    {
     "data": {
      "text/plain": [
       "0.7890212765957447"
      ]
     },
     "execution_count": 19,
     "metadata": {},
     "output_type": "execute_result"
    }
   ],
   "source": [
    "Grid.best_score_"
   ]
  },
  {
   "cell_type": "code",
   "execution_count": 20,
   "id": "suspected-trailer",
   "metadata": {
    "execution": {
     "iopub.execute_input": "2022-05-16T22:27:18.722758Z",
     "iopub.status.busy": "2022-05-16T22:27:18.707768Z",
     "iopub.status.idle": "2022-05-16T22:27:19.899204Z",
     "shell.execute_reply": "2022-05-16T22:27:19.898371Z",
     "shell.execute_reply.started": "2022-05-16T22:21:58.813675Z"
    },
    "papermill": {
     "duration": 1.260545,
     "end_time": "2022-05-16T22:27:19.899336",
     "exception": false,
     "start_time": "2022-05-16T22:27:18.638791",
     "status": "completed"
    },
    "tags": []
   },
   "outputs": [
    {
     "name": "stdout",
     "output_type": "stream",
     "text": [
      "Test dataset accuracy with MultinomialNB: 0.79\n"
     ]
    }
   ],
   "source": [
    "trained_clf_multinomial_nb_imm = train_model(MultinomialNB(alpha=0.2, fit_prior=[0.5,0.5]), X, y)\n",
    "accuracy = get_accuracy(trained_clf_multinomial_nb_imm,X_test, y_test)\n",
    "print(f\"Test dataset accuracy with MultinomialNB: {accuracy:.2f}\")"
   ]
  },
  {
   "cell_type": "code",
   "execution_count": 21,
   "id": "hearing-escape",
   "metadata": {
    "execution": {
     "iopub.execute_input": "2022-05-16T22:27:20.009892Z",
     "iopub.status.busy": "2022-05-16T22:27:19.999551Z",
     "iopub.status.idle": "2022-05-16T22:27:22.684623Z",
     "shell.execute_reply": "2022-05-16T22:27:22.683830Z",
     "shell.execute_reply.started": "2022-05-16T22:22:00.203235Z"
    },
    "papermill": {
     "duration": 2.754096,
     "end_time": "2022-05-16T22:27:22.684751",
     "exception": false,
     "start_time": "2022-05-16T22:27:19.930655",
     "status": "completed"
    },
    "tags": []
   },
   "outputs": [
    {
     "data": {
      "text/plain": [
       "Pipeline(steps=[('vect', CountVectorizer()), ('tfidf', TfidfTransformer()),\n",
       "                ('clf',\n",
       "                 GridSearchCV(cv=10, estimator=MultinomialNB(), n_jobs=-1,\n",
       "                              param_grid={'alpha': (0, 0.8, 0.88, 0.9, 1, 2, 3,\n",
       "                                                    4, 5, 6)},\n",
       "                              scoring='accuracy'))])"
      ]
     },
     "execution_count": 21,
     "metadata": {},
     "output_type": "execute_result"
    }
   ],
   "source": [
    "from sklearn.model_selection import GridSearchCV\n",
    "hyperparameters = {\"alpha\":(0, 0.8,0.88, 0.9, 1 ,2,3,4,5,6),}\n",
    "Grid= GridSearchCV(estimator=MultinomialNB(), param_grid=hyperparameters, cv=10, scoring=\"accuracy\", n_jobs=-1)\n",
    "train_model(Grid, X, y)"
   ]
  },
  {
   "cell_type": "code",
   "execution_count": 22,
   "id": "fatty-terrace",
   "metadata": {
    "execution": {
     "iopub.execute_input": "2022-05-16T22:27:22.751739Z",
     "iopub.status.busy": "2022-05-16T22:27:22.751043Z",
     "iopub.status.idle": "2022-05-16T22:27:22.754247Z",
     "shell.execute_reply": "2022-05-16T22:27:22.754708Z",
     "shell.execute_reply.started": "2022-05-16T22:22:02.754495Z"
    },
    "papermill": {
     "duration": 0.038603,
     "end_time": "2022-05-16T22:27:22.754837",
     "exception": false,
     "start_time": "2022-05-16T22:27:22.716234",
     "status": "completed"
    },
    "tags": []
   },
   "outputs": [
    {
     "data": {
      "text/plain": [
       "MultinomialNB(alpha=0.8)"
      ]
     },
     "execution_count": 22,
     "metadata": {},
     "output_type": "execute_result"
    }
   ],
   "source": [
    "Grid.best_estimator_"
   ]
  },
  {
   "cell_type": "code",
   "execution_count": 23,
   "id": "compressed-description",
   "metadata": {
    "execution": {
     "iopub.execute_input": "2022-05-16T22:27:22.821475Z",
     "iopub.status.busy": "2022-05-16T22:27:22.820768Z",
     "iopub.status.idle": "2022-05-16T22:27:22.824193Z",
     "shell.execute_reply": "2022-05-16T22:27:22.823747Z",
     "shell.execute_reply.started": "2022-05-16T22:22:02.766449Z"
    },
    "papermill": {
     "duration": 0.038208,
     "end_time": "2022-05-16T22:27:22.824307",
     "exception": false,
     "start_time": "2022-05-16T22:27:22.786099",
     "status": "completed"
    },
    "tags": []
   },
   "outputs": [
    {
     "data": {
      "text/plain": [
       "{'alpha': 0.8}"
      ]
     },
     "execution_count": 23,
     "metadata": {},
     "output_type": "execute_result"
    }
   ],
   "source": [
    "Grid.best_params_"
   ]
  },
  {
   "cell_type": "code",
   "execution_count": 24,
   "id": "spectacular-observer",
   "metadata": {
    "execution": {
     "iopub.execute_input": "2022-05-16T22:27:22.891643Z",
     "iopub.status.busy": "2022-05-16T22:27:22.890947Z",
     "iopub.status.idle": "2022-05-16T22:27:22.894357Z",
     "shell.execute_reply": "2022-05-16T22:27:22.893876Z",
     "shell.execute_reply.started": "2022-05-16T22:22:02.774839Z"
    },
    "papermill": {
     "duration": 0.038243,
     "end_time": "2022-05-16T22:27:22.894456",
     "exception": false,
     "start_time": "2022-05-16T22:27:22.856213",
     "status": "completed"
    },
    "tags": []
   },
   "outputs": [
    {
     "data": {
      "text/plain": [
       "0.7826595744680851"
      ]
     },
     "execution_count": 24,
     "metadata": {},
     "output_type": "execute_result"
    }
   ],
   "source": [
    "Grid.best_score_"
   ]
  },
  {
   "cell_type": "code",
   "execution_count": 25,
   "id": "spare-fiber",
   "metadata": {
    "execution": {
     "iopub.execute_input": "2022-05-16T22:27:23.001349Z",
     "iopub.status.busy": "2022-05-16T22:27:22.986815Z",
     "iopub.status.idle": "2022-05-16T22:27:24.198338Z",
     "shell.execute_reply": "2022-05-16T22:27:24.199050Z",
     "shell.execute_reply.started": "2022-05-16T22:26:28.690984Z"
    },
    "papermill": {
     "duration": 1.272937,
     "end_time": "2022-05-16T22:27:24.199251",
     "exception": false,
     "start_time": "2022-05-16T22:27:22.926314",
     "status": "completed"
    },
    "tags": []
   },
   "outputs": [
    {
     "name": "stdout",
     "output_type": "stream",
     "text": [
      "Test dataset accuracy with MultinomialNB: 0.79\n"
     ]
    }
   ],
   "source": [
    "trained_clf_multinomial_nb_im = train_model(MultinomialNB(alpha=0.8, fit_prior=(0.5,0.5)), X, y)\n",
    "accuracy = get_accuracy(trained_clf_multinomial_nb_im,X_test, y_test)\n",
    "print(f\"Test dataset accuracy with MultinomialNB: {accuracy:.2f}\")"
   ]
  },
  {
   "cell_type": "code",
   "execution_count": 26,
   "id": "final-legend",
   "metadata": {
    "execution": {
     "iopub.execute_input": "2022-05-16T22:27:24.269815Z",
     "iopub.status.busy": "2022-05-16T22:27:24.269012Z",
     "iopub.status.idle": "2022-05-16T22:27:24.271704Z",
     "shell.execute_reply": "2022-05-16T22:27:24.271278Z",
     "shell.execute_reply.started": "2022-05-16T22:22:03.944716Z"
    },
    "papermill": {
     "duration": 0.038954,
     "end_time": "2022-05-16T22:27:24.271818",
     "exception": false,
     "start_time": "2022-05-16T22:27:24.232864",
     "status": "completed"
    },
    "tags": []
   },
   "outputs": [],
   "source": [
    "def print_all_im_accuracies(dataset_name, dataset):\n",
    "  accuracy = get_accuracy(trained_clf_multinomial_nb_im,dataset.tweet.values, dataset.label.values)\n",
    "  print(f\"{dataset_name} dataset accuracy with Multinomial NB: {accuracy:.2f}\")"
   ]
  },
  {
   "cell_type": "code",
   "execution_count": 27,
   "id": "noticed-premises",
   "metadata": {
    "execution": {
     "iopub.execute_input": "2022-05-16T22:27:24.354338Z",
     "iopub.status.busy": "2022-05-16T22:27:24.344814Z",
     "iopub.status.idle": "2022-05-16T22:27:28.584815Z",
     "shell.execute_reply": "2022-05-16T22:27:28.585532Z",
     "shell.execute_reply.started": "2022-05-16T22:22:03.951370Z"
    },
    "papermill": {
     "duration": 4.28179,
     "end_time": "2022-05-16T22:27:28.585753",
     "exception": false,
     "start_time": "2022-05-16T22:27:24.303963",
     "status": "completed"
    },
    "tags": []
   },
   "outputs": [
    {
     "name": "stdout",
     "output_type": "stream",
     "text": [
      "SS2030 dataset accuracy with Multinomial NB: 0.59\n",
      "100k Arabic Reviews dataset accuracy with Multinomial NB: 0.60\n"
     ]
    }
   ],
   "source": [
    "print_all_im_accuracies(\"SS2030\", df_ss2030)\n",
    "print_all_im_accuracies(\"100k Arabic Reviews\", df_reviews)"
   ]
  },
  {
   "cell_type": "code",
   "execution_count": 28,
   "id": "brutal-carroll",
   "metadata": {
    "execution": {
     "iopub.execute_input": "2022-05-16T22:27:28.706804Z",
     "iopub.status.busy": "2022-05-16T22:27:28.706016Z",
     "iopub.status.idle": "2022-05-16T22:27:30.546963Z",
     "shell.execute_reply": "2022-05-16T22:27:30.546248Z",
     "shell.execute_reply.started": "2022-05-16T22:22:07.996545Z"
    },
    "papermill": {
     "duration": 1.906346,
     "end_time": "2022-05-16T22:27:30.547108",
     "exception": false,
     "start_time": "2022-05-16T22:27:28.640762",
     "status": "completed"
    },
    "tags": []
   },
   "outputs": [
    {
     "name": "stdout",
     "output_type": "stream",
     "text": [
      "Fitting 2 folds for each of 7 candidates, totalling 14 fits\n",
      "Best score: 0.771\n",
      "Best parameters set:\n",
      "\tnb__alpha: 0.1\n"
     ]
    }
   ],
   "source": [
    "from sklearn import  pipeline\n",
    "nb_model = MultinomialNB()\n",
    "clf = pipeline.Pipeline([('nb', nb_model)])\n",
    "param_grid = {'nb__alpha': [0.001, 0.01,0.8, 0.1, 1, 10, 100]}\n",
    "model = GridSearchCV(estimator=clf, param_grid=param_grid, scoring=\"accuracy\",\n",
    "                                 verbose=10, n_jobs=-1, refit=True, cv=2)\n",
    "\n",
    "# Fit Grid Search Model\n",
    "train_model(model, X, y) # we can use the full data here but im only using xtrain. \n",
    "print(\"Best score: %0.3f\" % model.best_score_)\n",
    "print(\"Best parameters set:\")\n",
    "best_parameters = model.best_estimator_.get_params()\n",
    "for param_name in sorted(param_grid.keys()):\n",
    "    print(\"\\t%s: %r\" % (param_name, best_parameters[param_name]))"
   ]
  },
  {
   "cell_type": "code",
   "execution_count": null,
   "id": "potential-english",
   "metadata": {
    "papermill": {
     "duration": 0.03317,
     "end_time": "2022-05-16T22:27:30.614747",
     "exception": false,
     "start_time": "2022-05-16T22:27:30.581577",
     "status": "completed"
    },
    "tags": []
   },
   "outputs": [],
   "source": []
  },
  {
   "cell_type": "markdown",
   "id": "confused-framing",
   "metadata": {
    "papermill": {
     "duration": 0.033141,
     "end_time": "2022-05-16T22:27:30.681446",
     "exception": false,
     "start_time": "2022-05-16T22:27:30.648305",
     "status": "completed"
    },
    "tags": []
   },
   "source": [
    "# ensemble learning"
   ]
  },
  {
   "cell_type": "markdown",
   "id": "geographic-member",
   "metadata": {
    "papermill": {
     "duration": 0.033269,
     "end_time": "2022-05-16T22:27:30.747882",
     "exception": false,
     "start_time": "2022-05-16T22:27:30.714613",
     "status": "completed"
    },
    "tags": []
   },
   "source": [
    "# StackingClassifier"
   ]
  },
  {
   "cell_type": "code",
   "execution_count": 29,
   "id": "pursuant-hungary",
   "metadata": {
    "execution": {
     "iopub.execute_input": "2022-05-16T22:27:30.819941Z",
     "iopub.status.busy": "2022-05-16T22:27:30.819313Z",
     "iopub.status.idle": "2022-05-16T22:27:32.426329Z",
     "shell.execute_reply": "2022-05-16T22:27:32.425370Z",
     "shell.execute_reply.started": "2022-05-16T22:22:52.450695Z"
    },
    "papermill": {
     "duration": 1.645291,
     "end_time": "2022-05-16T22:27:32.426486",
     "exception": false,
     "start_time": "2022-05-16T22:27:30.781195",
     "status": "completed"
    },
    "tags": []
   },
   "outputs": [],
   "source": [
    "from sklearn.ensemble import  StackingClassifier\n",
    "model1= StackingClassifier([('MNB1',MultinomialNB(alpha=0.8, fit_prior=[0.5,0.5])),('MNB2',MultinomialNB(alpha=0.2)),\n",
    "                         ('MNB3',MultinomialNB(alpha=1))], final_estimator=MultinomialNB(alpha=1))\n",
    "\n",
    "\n",
    "\n",
    "trained_clf_multinomial_nb_im2= train_model(model1, X, y)"
   ]
  },
  {
   "cell_type": "code",
   "execution_count": 30,
   "id": "facial-sydney",
   "metadata": {
    "execution": {
     "iopub.execute_input": "2022-05-16T22:27:32.537591Z",
     "iopub.status.busy": "2022-05-16T22:27:32.532382Z",
     "iopub.status.idle": "2022-05-16T22:27:32.717297Z",
     "shell.execute_reply": "2022-05-16T22:27:32.718063Z",
     "shell.execute_reply.started": "2022-05-16T22:22:53.862747Z"
    },
    "papermill": {
     "duration": 0.257812,
     "end_time": "2022-05-16T22:27:32.718292",
     "exception": false,
     "start_time": "2022-05-16T22:27:32.460480",
     "status": "completed"
    },
    "tags": []
   },
   "outputs": [
    {
     "name": "stdout",
     "output_type": "stream",
     "text": [
      "Test dataset accuracy with MultinomialNB: 0.51\n"
     ]
    }
   ],
   "source": [
    "accuracy = get_accuracy(trained_clf_multinomial_nb_im2 ,X_test, y_test)\n",
    "print(f\"Test dataset accuracy with MultinomialNB: {accuracy:.2f}\")"
   ]
  },
  {
   "cell_type": "markdown",
   "id": "short-person",
   "metadata": {
    "papermill": {
     "duration": 0.038412,
     "end_time": "2022-05-16T22:27:32.799841",
     "exception": false,
     "start_time": "2022-05-16T22:27:32.761429",
     "status": "completed"
    },
    "tags": []
   },
   "source": [
    "# BaggingClassifier "
   ]
  },
  {
   "cell_type": "code",
   "execution_count": 31,
   "id": "artificial-chile",
   "metadata": {
    "execution": {
     "iopub.execute_input": "2022-05-16T22:27:32.921629Z",
     "iopub.status.busy": "2022-05-16T22:27:32.916891Z",
     "iopub.status.idle": "2022-05-16T22:27:37.946905Z",
     "shell.execute_reply": "2022-05-16T22:27:37.946437Z",
     "shell.execute_reply.started": "2022-05-16T22:22:11.299897Z"
    },
    "papermill": {
     "duration": 5.108038,
     "end_time": "2022-05-16T22:27:37.947071",
     "exception": false,
     "start_time": "2022-05-16T22:27:32.839033",
     "status": "completed"
    },
    "tags": []
   },
   "outputs": [],
   "source": [
    "from sklearn.ensemble import BaggingClassifier \n",
    "modell =BaggingClassifier(base_estimator=MultinomialNB(alpha=1, fit_prior=[0.5,0.5]), n_estimators=200)\n",
    "trained_clf_multinomial_nb_im3= train_model(modell, X, y)"
   ]
  },
  {
   "cell_type": "code",
   "execution_count": 32,
   "id": "freelance-photographer",
   "metadata": {
    "execution": {
     "iopub.execute_input": "2022-05-16T22:27:38.070665Z",
     "iopub.status.busy": "2022-05-16T22:27:38.056912Z",
     "iopub.status.idle": "2022-05-16T22:27:39.109054Z",
     "shell.execute_reply": "2022-05-16T22:27:39.108220Z",
     "shell.execute_reply.started": "2022-05-16T22:22:16.064789Z"
    },
    "papermill": {
     "duration": 1.127592,
     "end_time": "2022-05-16T22:27:39.109250",
     "exception": false,
     "start_time": "2022-05-16T22:27:37.981658",
     "status": "completed"
    },
    "tags": []
   },
   "outputs": [
    {
     "name": "stdout",
     "output_type": "stream",
     "text": [
      "Test dataset accuracy with MultinomialNB: 0.78\n"
     ]
    }
   ],
   "source": [
    "accuracy = get_accuracy(trained_clf_multinomial_nb_im3 ,X_test, y_test)\n",
    "print(f\"Test dataset accuracy with MultinomialNB: {accuracy:.2f}\")"
   ]
  },
  {
   "cell_type": "code",
   "execution_count": 33,
   "id": "sufficient-theorem",
   "metadata": {
    "execution": {
     "iopub.execute_input": "2022-05-16T22:27:39.200524Z",
     "iopub.status.busy": "2022-05-16T22:27:39.199691Z",
     "iopub.status.idle": "2022-05-16T22:27:49.975190Z",
     "shell.execute_reply": "2022-05-16T22:27:49.974660Z",
     "shell.execute_reply.started": "2022-05-16T22:22:17.058922Z"
    },
    "papermill": {
     "duration": 10.831815,
     "end_time": "2022-05-16T22:27:49.975340",
     "exception": false,
     "start_time": "2022-05-16T22:27:39.143525",
     "status": "completed"
    },
    "tags": []
   },
   "outputs": [
    {
     "name": "stdout",
     "output_type": "stream",
     "text": [
      "SS2030 dataset accuracy with Multinomial NB: 0.59\n",
      "100k Arabic Reviews dataset accuracy with Multinomial NB: 0.60\n"
     ]
    }
   ],
   "source": [
    "def print_all_im3_accuracies(dataset_name, dataset):\n",
    "  accuracy = get_accuracy(trained_clf_multinomial_nb_im3,dataset.tweet.values, dataset.label.values)\n",
    "  print(f\"{dataset_name} dataset accuracy with Multinomial NB: {accuracy:.2f}\")\n",
    "print_all_im3_accuracies(\"SS2030\", df_ss2030)\n",
    "print_all_im3_accuracies(\"100k Arabic Reviews\", df_reviews)"
   ]
  },
  {
   "cell_type": "markdown",
   "id": "proper-stock",
   "metadata": {
    "execution": {
     "iopub.execute_input": "2022-05-15T01:16:34.599179Z",
     "iopub.status.busy": "2022-05-15T01:16:34.598861Z",
     "iopub.status.idle": "2022-05-15T01:16:34.602759Z",
     "shell.execute_reply": "2022-05-15T01:16:34.601658Z",
     "shell.execute_reply.started": "2022-05-15T01:16:34.599151Z"
    },
    "papermill": {
     "duration": 0.040286,
     "end_time": "2022-05-16T22:27:50.057064",
     "exception": false,
     "start_time": "2022-05-16T22:27:50.016778",
     "status": "completed"
    },
    "tags": []
   },
   "source": [
    "# VotingClassifier"
   ]
  },
  {
   "cell_type": "code",
   "execution_count": 34,
   "id": "following-chaos",
   "metadata": {
    "execution": {
     "iopub.execute_input": "2022-05-16T22:27:50.160035Z",
     "iopub.status.busy": "2022-05-16T22:27:50.154912Z",
     "iopub.status.idle": "2022-05-16T22:27:56.426925Z",
     "shell.execute_reply": "2022-05-16T22:27:56.426157Z",
     "shell.execute_reply.started": "2022-05-16T22:23:50.591997Z"
    },
    "papermill": {
     "duration": 6.329748,
     "end_time": "2022-05-16T22:27:56.427087",
     "exception": false,
     "start_time": "2022-05-16T22:27:50.097339",
     "status": "completed"
    },
    "tags": []
   },
   "outputs": [
    {
     "name": "stdout",
     "output_type": "stream",
     "text": [
      "Test dataset accuracy with MultinomialNB: 0.79\n",
      "Test dataset accuracy with MultinomialNB: 0.79\n",
      "Test dataset accuracy with MultinomialNB: 0.79\n",
      "Test dataset accuracy with MultinomialNB: 0.79\n"
     ]
    }
   ],
   "source": [
    "from sklearn.ensemble import VotingClassifier\n",
    "model1=MultinomialNB(alpha=1, fit_prior=[0.4,0.6])\n",
    "model2=MultinomialNB(alpha=1, fit_prior=[0.3,0.7])\n",
    "model21=MultinomialNB(alpha=1, fit_prior=[0.6,0.4])\n",
    "model3= VotingClassifier([('mnb1',model1),\n",
    "                         ('mnb2',model2),('mnb3',model21)\n",
    "                         ],voting='hard')\n",
    "trained_clf_multinomial_nb_im41= train_model(model3, X, y)\n",
    "for model in (model1,model2,model21, model3):\n",
    "    \n",
    "    trained_clf_multinomial_nb_im4= train_model(model, X, y)\n",
    "    accuracy = get_accuracy(trained_clf_multinomial_nb_im4 ,X_test, y_test)\n",
    "    print(f\"Test dataset accuracy with MultinomialNB: {accuracy:.2f}\")"
   ]
  },
  {
   "cell_type": "code",
   "execution_count": 35,
   "id": "favorite-heaven",
   "metadata": {
    "execution": {
     "iopub.execute_input": "2022-05-16T22:27:56.557527Z",
     "iopub.status.busy": "2022-05-16T22:27:56.536872Z",
     "iopub.status.idle": "2022-05-16T22:28:01.327907Z",
     "shell.execute_reply": "2022-05-16T22:28:01.329033Z",
     "shell.execute_reply.started": "2022-05-16T22:22:34.058352Z"
    },
    "papermill": {
     "duration": 4.866344,
     "end_time": "2022-05-16T22:28:01.329245",
     "exception": false,
     "start_time": "2022-05-16T22:27:56.462901",
     "status": "completed"
    },
    "tags": []
   },
   "outputs": [
    {
     "name": "stdout",
     "output_type": "stream",
     "text": [
      "SS2030 dataset accuracy with Multinomial NB: 0.59\n",
      "100k Arabic Reviews dataset accuracy with Multinomial NB: 0.60\n"
     ]
    }
   ],
   "source": [
    "def print_all_im4_accuracies(dataset_name, dataset):\n",
    "  accuracy = get_accuracy(trained_clf_multinomial_nb_im41,dataset.tweet.values, dataset.label.values)\n",
    "  print(f\"{dataset_name} dataset accuracy with Multinomial NB: {accuracy:.2f}\")\n",
    "print_all_im4_accuracies(\"SS2030\", df_ss2030)\n",
    "print_all_im4_accuracies(\"100k Arabic Reviews\", df_reviews)"
   ]
  },
  {
   "cell_type": "code",
   "execution_count": null,
   "id": "complex-uruguay",
   "metadata": {
    "papermill": {
     "duration": 0.067377,
     "end_time": "2022-05-16T22:28:01.466069",
     "exception": false,
     "start_time": "2022-05-16T22:28:01.398692",
     "status": "completed"
    },
    "tags": []
   },
   "outputs": [],
   "source": []
  }
 ],
 "metadata": {
  "kernelspec": {
   "display_name": "Python 3",
   "language": "python",
   "name": "python3"
  },
  "language_info": {
   "codemirror_mode": {
    "name": "ipython",
    "version": 3
   },
   "file_extension": ".py",
   "mimetype": "text/x-python",
   "name": "python",
   "nbconvert_exporter": "python",
   "pygments_lexer": "ipython3",
   "version": "3.7.10"
  },
  "papermill": {
   "default_parameters": {},
   "duration": 77.577131,
   "end_time": "2022-05-16T22:28:02.446834",
   "environment_variables": {},
   "exception": null,
   "input_path": "__notebook__.ipynb",
   "output_path": "__notebook__.ipynb",
   "parameters": {},
   "start_time": "2022-05-16T22:26:44.869703",
   "version": "2.3.3"
  }
 },
 "nbformat": 4,
 "nbformat_minor": 5
}
