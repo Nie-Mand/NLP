{
 "cells": [
  {
   "cell_type": "code",
   "execution_count": 1,
   "id": "115acf8f",
   "metadata": {
    "_cell_guid": "b1076dfc-b9ad-4769-8c92-a6c4dae69d19",
    "_uuid": "8f2839f25d086af736a60e9eeb907d3b93b6e0e5",
    "execution": {
     "iopub.execute_input": "2022-05-01T16:24:02.645159Z",
     "iopub.status.busy": "2022-05-01T16:24:02.644669Z",
     "iopub.status.idle": "2022-05-01T16:24:10.483230Z",
     "shell.execute_reply": "2022-05-01T16:24:10.482263Z"
    },
    "papermill": {
     "duration": 7.860899,
     "end_time": "2022-05-01T16:24:10.486422",
     "exception": false,
     "start_time": "2022-05-01T16:24:02.625523",
     "status": "completed"
    },
    "tags": []
   },
   "outputs": [],
   "source": [
    "import numpy as np\n",
    "import pandas as pd \n",
    "import seaborn as sns\n",
    "import matplotlib.pyplot as plt \n",
    "from tqdm import tqdm\n",
    "from tensorflow import keras \n",
    "from keras.preprocessing.text import Tokenizer\n",
    "from nltk.corpus import stopwords\n",
    "import string\n",
    "from tensorflow.keras.models import Sequential,Model\n",
    "from tensorflow.keras.layers import Dense, LSTM, Embedding,Dropout,SpatialDropout1D,Conv1D,MaxPooling1D,GRU,BatchNormalization\n",
    "import warnings\n",
    "warnings.filterwarnings('ignore')"
   ]
  },
  {
   "cell_type": "code",
   "execution_count": 2,
   "id": "896460d2",
   "metadata": {
    "execution": {
     "iopub.execute_input": "2022-05-01T16:24:10.518963Z",
     "iopub.status.busy": "2022-05-01T16:24:10.518637Z",
     "iopub.status.idle": "2022-05-01T16:24:10.784320Z",
     "shell.execute_reply": "2022-05-01T16:24:10.783272Z"
    },
    "papermill": {
     "duration": 0.284467,
     "end_time": "2022-05-01T16:24:10.786943",
     "exception": false,
     "start_time": "2022-05-01T16:24:10.502476",
     "status": "completed"
    },
    "tags": []
   },
   "outputs": [],
   "source": [
    "data=pd.read_csv(\"../input/covid-19-nlp-text-classification/Corona_NLP_train.csv\", encoding='latin-1')"
   ]
  },
  {
   "cell_type": "code",
   "execution_count": 3,
   "id": "16fc82a2",
   "metadata": {
    "execution": {
     "iopub.execute_input": "2022-05-01T16:24:10.819546Z",
     "iopub.status.busy": "2022-05-01T16:24:10.819267Z",
     "iopub.status.idle": "2022-05-01T16:24:10.840391Z",
     "shell.execute_reply": "2022-05-01T16:24:10.839775Z"
    },
    "papermill": {
     "duration": 0.041039,
     "end_time": "2022-05-01T16:24:10.843110",
     "exception": false,
     "start_time": "2022-05-01T16:24:10.802071",
     "status": "completed"
    },
    "tags": []
   },
   "outputs": [
    {
     "data": {
      "text/html": [
       "<div>\n",
       "<style scoped>\n",
       "    .dataframe tbody tr th:only-of-type {\n",
       "        vertical-align: middle;\n",
       "    }\n",
       "\n",
       "    .dataframe tbody tr th {\n",
       "        vertical-align: top;\n",
       "    }\n",
       "\n",
       "    .dataframe thead th {\n",
       "        text-align: right;\n",
       "    }\n",
       "</style>\n",
       "<table border=\"1\" class=\"dataframe\">\n",
       "  <thead>\n",
       "    <tr style=\"text-align: right;\">\n",
       "      <th></th>\n",
       "      <th>UserName</th>\n",
       "      <th>ScreenName</th>\n",
       "      <th>Location</th>\n",
       "      <th>TweetAt</th>\n",
       "      <th>OriginalTweet</th>\n",
       "      <th>Sentiment</th>\n",
       "    </tr>\n",
       "  </thead>\n",
       "  <tbody>\n",
       "    <tr>\n",
       "      <th>0</th>\n",
       "      <td>3799</td>\n",
       "      <td>48751</td>\n",
       "      <td>London</td>\n",
       "      <td>16-03-2020</td>\n",
       "      <td>@MeNyrbie @Phil_Gahan @Chrisitv https://t.co/i...</td>\n",
       "      <td>Neutral</td>\n",
       "    </tr>\n",
       "    <tr>\n",
       "      <th>1</th>\n",
       "      <td>3800</td>\n",
       "      <td>48752</td>\n",
       "      <td>UK</td>\n",
       "      <td>16-03-2020</td>\n",
       "      <td>advice Talk to your neighbours family to excha...</td>\n",
       "      <td>Positive</td>\n",
       "    </tr>\n",
       "    <tr>\n",
       "      <th>2</th>\n",
       "      <td>3801</td>\n",
       "      <td>48753</td>\n",
       "      <td>Vagabonds</td>\n",
       "      <td>16-03-2020</td>\n",
       "      <td>Coronavirus Australia: Woolworths to give elde...</td>\n",
       "      <td>Positive</td>\n",
       "    </tr>\n",
       "    <tr>\n",
       "      <th>3</th>\n",
       "      <td>3802</td>\n",
       "      <td>48754</td>\n",
       "      <td>NaN</td>\n",
       "      <td>16-03-2020</td>\n",
       "      <td>My food stock is not the only one which is emp...</td>\n",
       "      <td>Positive</td>\n",
       "    </tr>\n",
       "    <tr>\n",
       "      <th>4</th>\n",
       "      <td>3803</td>\n",
       "      <td>48755</td>\n",
       "      <td>NaN</td>\n",
       "      <td>16-03-2020</td>\n",
       "      <td>Me, ready to go at supermarket during the #COV...</td>\n",
       "      <td>Extremely Negative</td>\n",
       "    </tr>\n",
       "  </tbody>\n",
       "</table>\n",
       "</div>"
      ],
      "text/plain": [
       "   UserName  ScreenName   Location     TweetAt  \\\n",
       "0      3799       48751     London  16-03-2020   \n",
       "1      3800       48752         UK  16-03-2020   \n",
       "2      3801       48753  Vagabonds  16-03-2020   \n",
       "3      3802       48754        NaN  16-03-2020   \n",
       "4      3803       48755        NaN  16-03-2020   \n",
       "\n",
       "                                       OriginalTweet           Sentiment  \n",
       "0  @MeNyrbie @Phil_Gahan @Chrisitv https://t.co/i...             Neutral  \n",
       "1  advice Talk to your neighbours family to excha...            Positive  \n",
       "2  Coronavirus Australia: Woolworths to give elde...            Positive  \n",
       "3  My food stock is not the only one which is emp...            Positive  \n",
       "4  Me, ready to go at supermarket during the #COV...  Extremely Negative  "
      ]
     },
     "execution_count": 3,
     "metadata": {},
     "output_type": "execute_result"
    }
   ],
   "source": [
    "data.head()"
   ]
  },
  {
   "cell_type": "code",
   "execution_count": 4,
   "id": "8c0448b3",
   "metadata": {
    "execution": {
     "iopub.execute_input": "2022-05-01T16:24:10.877048Z",
     "iopub.status.busy": "2022-05-01T16:24:10.876398Z",
     "iopub.status.idle": "2022-05-01T16:24:10.881631Z",
     "shell.execute_reply": "2022-05-01T16:24:10.881080Z"
    },
    "papermill": {
     "duration": 0.024351,
     "end_time": "2022-05-01T16:24:10.883607",
     "exception": false,
     "start_time": "2022-05-01T16:24:10.859256",
     "status": "completed"
    },
    "tags": []
   },
   "outputs": [
    {
     "data": {
      "text/plain": [
       "(41157, 6)"
      ]
     },
     "execution_count": 4,
     "metadata": {},
     "output_type": "execute_result"
    }
   ],
   "source": [
    "data.shape"
   ]
  },
  {
   "cell_type": "code",
   "execution_count": 5,
   "id": "89d897f7",
   "metadata": {
    "execution": {
     "iopub.execute_input": "2022-05-01T16:24:10.917518Z",
     "iopub.status.busy": "2022-05-01T16:24:10.916988Z",
     "iopub.status.idle": "2022-05-01T16:24:10.932678Z",
     "shell.execute_reply": "2022-05-01T16:24:10.932015Z"
    },
    "papermill": {
     "duration": 0.035113,
     "end_time": "2022-05-01T16:24:10.934740",
     "exception": false,
     "start_time": "2022-05-01T16:24:10.899627",
     "status": "completed"
    },
    "tags": []
   },
   "outputs": [
    {
     "data": {
      "text/plain": [
       "array(['Neutral', 'Positive', 'Extremely Negative', 'Negative',\n",
       "       'Extremely Positive'], dtype=object)"
      ]
     },
     "execution_count": 5,
     "metadata": {},
     "output_type": "execute_result"
    }
   ],
   "source": [
    "data[\"Sentiment\"].unique()"
   ]
  },
  {
   "cell_type": "code",
   "execution_count": 6,
   "id": "cf8c7455",
   "metadata": {
    "execution": {
     "iopub.execute_input": "2022-05-01T16:24:10.970215Z",
     "iopub.status.busy": "2022-05-01T16:24:10.969482Z",
     "iopub.status.idle": "2022-05-01T16:24:10.995276Z",
     "shell.execute_reply": "2022-05-01T16:24:10.994654Z"
    },
    "papermill": {
     "duration": 0.045419,
     "end_time": "2022-05-01T16:24:10.997353",
     "exception": false,
     "start_time": "2022-05-01T16:24:10.951934",
     "status": "completed"
    },
    "tags": []
   },
   "outputs": [
    {
     "data": {
      "text/plain": [
       "UserName            0\n",
       "ScreenName          0\n",
       "Location         8590\n",
       "TweetAt             0\n",
       "OriginalTweet       0\n",
       "Sentiment           0\n",
       "dtype: int64"
      ]
     },
     "execution_count": 6,
     "metadata": {},
     "output_type": "execute_result"
    }
   ],
   "source": [
    "data.isna().sum()"
   ]
  },
  {
   "cell_type": "code",
   "execution_count": 7,
   "id": "78549d15",
   "metadata": {
    "execution": {
     "iopub.execute_input": "2022-05-01T16:24:11.033823Z",
     "iopub.status.busy": "2022-05-01T16:24:11.033260Z",
     "iopub.status.idle": "2022-05-01T16:24:11.037371Z",
     "shell.execute_reply": "2022-05-01T16:24:11.036761Z"
    },
    "papermill": {
     "duration": 0.024324,
     "end_time": "2022-05-01T16:24:11.039287",
     "exception": false,
     "start_time": "2022-05-01T16:24:11.014963",
     "status": "completed"
    },
    "tags": []
   },
   "outputs": [],
   "source": [
    "def transform(data):\n",
    "    return (str(data[\"Location\"]) + \" \" + str(data[\"Sentiment\"]) + \" \" + str(data[\"OriginalTweet\"]))"
   ]
  },
  {
   "cell_type": "code",
   "execution_count": 8,
   "id": "974ad290",
   "metadata": {
    "execution": {
     "iopub.execute_input": "2022-05-01T16:24:11.075296Z",
     "iopub.status.busy": "2022-05-01T16:24:11.074815Z",
     "iopub.status.idle": "2022-05-01T16:24:12.113257Z",
     "shell.execute_reply": "2022-05-01T16:24:12.112255Z"
    },
    "papermill": {
     "duration": 1.059628,
     "end_time": "2022-05-01T16:24:12.116513",
     "exception": false,
     "start_time": "2022-05-01T16:24:11.056885",
     "status": "completed"
    },
    "tags": []
   },
   "outputs": [],
   "source": [
    "ndata = data.apply(transform, axis=1)"
   ]
  },
  {
   "cell_type": "code",
   "execution_count": 9,
   "id": "40452fba",
   "metadata": {
    "execution": {
     "iopub.execute_input": "2022-05-01T16:24:12.153533Z",
     "iopub.status.busy": "2022-05-01T16:24:12.152755Z",
     "iopub.status.idle": "2022-05-01T16:24:12.160795Z",
     "shell.execute_reply": "2022-05-01T16:24:12.159962Z"
    },
    "papermill": {
     "duration": 0.028405,
     "end_time": "2022-05-01T16:24:12.162960",
     "exception": false,
     "start_time": "2022-05-01T16:24:12.134555",
     "status": "completed"
    },
    "tags": []
   },
   "outputs": [
    {
     "data": {
      "text/plain": [
       "0        London Neutral @MeNyrbie @Phil_Gahan @Chrisitv...\n",
       "1        UK Positive advice Talk to your neighbours fam...\n",
       "2        Vagabonds Positive Coronavirus Australia: Wool...\n",
       "3        nan Positive My food stock is not the only one...\n",
       "4        nan Extremely Negative Me, ready to go at supe...\n",
       "                               ...                        \n",
       "41152    Wellington City, New Zealand Neutral Airline p...\n",
       "41153    nan Extremely Negative Response to complaint n...\n",
       "41154    nan Positive You know itÂs getting tough when...\n",
       "41155    nan Neutral Is it wrong that the smell of hand...\n",
       "41156    i love you so much || he/him Negative @TartiiC...\n",
       "Length: 41157, dtype: object"
      ]
     },
     "execution_count": 9,
     "metadata": {},
     "output_type": "execute_result"
    }
   ],
   "source": [
    "ndata"
   ]
  },
  {
   "cell_type": "code",
   "execution_count": 10,
   "id": "174b0abb",
   "metadata": {
    "execution": {
     "iopub.execute_input": "2022-05-01T16:24:12.199615Z",
     "iopub.status.busy": "2022-05-01T16:24:12.199305Z",
     "iopub.status.idle": "2022-05-01T16:24:12.212263Z",
     "shell.execute_reply": "2022-05-01T16:24:12.211277Z"
    },
    "papermill": {
     "duration": 0.034389,
     "end_time": "2022-05-01T16:24:12.214514",
     "exception": false,
     "start_time": "2022-05-01T16:24:12.180125",
     "status": "completed"
    },
    "tags": []
   },
   "outputs": [],
   "source": [
    "from nltk.tokenize import word_tokenize\n",
    "from nltk.stem.snowball import SnowballStemmer\n",
    "stemmer = SnowballStemmer(language=\"english\")\n",
    "from nltk.corpus import stopwords\n",
    "stop_words = set(stopwords.words('english'))\n",
    "punctuation = string.punctuation"
   ]
  },
  {
   "cell_type": "code",
   "execution_count": 11,
   "id": "2b5aaf6d",
   "metadata": {
    "execution": {
     "iopub.execute_input": "2022-05-01T16:24:12.251643Z",
     "iopub.status.busy": "2022-05-01T16:24:12.250864Z",
     "iopub.status.idle": "2022-05-01T16:24:12.256731Z",
     "shell.execute_reply": "2022-05-01T16:24:12.256043Z"
    },
    "papermill": {
     "duration": 0.026849,
     "end_time": "2022-05-01T16:24:12.258843",
     "exception": false,
     "start_time": "2022-05-01T16:24:12.231994",
     "status": "completed"
    },
    "tags": []
   },
   "outputs": [],
   "source": [
    "def process(s):\n",
    "    for p in punctuation:\n",
    "        s = s.replace(p, '')\n",
    "    s = s.lower()\n",
    "    s = word_tokenize(s)\n",
    "    s = [w for w in s if not w in stop_words] #optional\n",
    "    s = [stemmer.stem(word) for word in s]\n",
    "    return s"
   ]
  },
  {
   "cell_type": "code",
   "execution_count": 12,
   "id": "a1f58f3f",
   "metadata": {
    "execution": {
     "iopub.execute_input": "2022-05-01T16:24:12.295245Z",
     "iopub.status.busy": "2022-05-01T16:24:12.294498Z",
     "iopub.status.idle": "2022-05-01T16:24:49.201741Z",
     "shell.execute_reply": "2022-05-01T16:24:49.201009Z"
    },
    "papermill": {
     "duration": 36.928298,
     "end_time": "2022-05-01T16:24:49.204306",
     "exception": false,
     "start_time": "2022-05-01T16:24:12.276008",
     "status": "completed"
    },
    "tags": []
   },
   "outputs": [
    {
     "name": "stderr",
     "output_type": "stream",
     "text": [
      "100%|██████████| 41157/41157 [00:36<00:00, 1115.46it/s]\n"
     ]
    }
   ],
   "source": [
    "from tqdm import tqdm\n",
    "\n",
    "for i in tqdm(range(ndata.shape[0])):\n",
    "    ndata[i] = process(ndata[i])"
   ]
  },
  {
   "cell_type": "code",
   "execution_count": 13,
   "id": "490a3502",
   "metadata": {
    "execution": {
     "iopub.execute_input": "2022-05-01T16:24:49.509207Z",
     "iopub.status.busy": "2022-05-01T16:24:49.508446Z",
     "iopub.status.idle": "2022-05-01T16:24:49.517513Z",
     "shell.execute_reply": "2022-05-01T16:24:49.516934Z"
    },
    "papermill": {
     "duration": 0.162166,
     "end_time": "2022-05-01T16:24:49.519338",
     "exception": false,
     "start_time": "2022-05-01T16:24:49.357172",
     "status": "completed"
    },
    "tags": []
   },
   "outputs": [
    {
     "data": {
      "text/plain": [
       "0        [london, neutral, menyrbi, philgahan, chrisitv...\n",
       "1        [uk, posit, advic, talk, neighbour, famili, ex...\n",
       "2        [vagabond, posit, coronavirus, australia, wool...\n",
       "3        [nan, posit, food, stock, one, empti, pleas, d...\n",
       "4        [nan, extrem, negat, readi, go, supermarket, c...\n",
       "                               ...                        \n",
       "41152    [wellington, citi, new, zealand, neutral, airl...\n",
       "41153    [nan, extrem, negat, respons, complaint, provi...\n",
       "41154    [nan, posit, know, itâ, get, tough, kameronwi...\n",
       "41155    [nan, neutral, wrong, smell, hand, sanit, star...\n",
       "41156    [love, much, hehim, negat, tartiicat, well, ne...\n",
       "Length: 41157, dtype: object"
      ]
     },
     "execution_count": 13,
     "metadata": {},
     "output_type": "execute_result"
    }
   ],
   "source": [
    "ndata"
   ]
  },
  {
   "cell_type": "code",
   "execution_count": null,
   "id": "21f7ff79",
   "metadata": {
    "papermill": {
     "duration": 0.152652,
     "end_time": "2022-05-01T16:24:49.820115",
     "exception": false,
     "start_time": "2022-05-01T16:24:49.667463",
     "status": "completed"
    },
    "tags": []
   },
   "outputs": [],
   "source": []
  }
 ],
 "metadata": {
  "kernelspec": {
   "display_name": "Python 3",
   "language": "python",
   "name": "python3"
  },
  "language_info": {
   "codemirror_mode": {
    "name": "ipython",
    "version": 3
   },
   "file_extension": ".py",
   "mimetype": "text/x-python",
   "name": "python",
   "nbconvert_exporter": "python",
   "pygments_lexer": "ipython3",
   "version": "3.7.12"
  },
  "papermill": {
   "default_parameters": {},
   "duration": 60.666165,
   "end_time": "2022-05-01T16:24:53.032116",
   "environment_variables": {},
   "exception": null,
   "input_path": "__notebook__.ipynb",
   "output_path": "__notebook__.ipynb",
   "parameters": {},
   "start_time": "2022-05-01T16:23:52.365951",
   "version": "2.3.4"
  }
 },
 "nbformat": 4,
 "nbformat_minor": 5
}
