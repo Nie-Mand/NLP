{
 "cells": [
  {
   "cell_type": "code",
   "execution_count": 1,
   "id": "f094de22",
   "metadata": {
    "_cell_guid": "b1076dfc-b9ad-4769-8c92-a6c4dae69d19",
    "_uuid": "8f2839f25d086af736a60e9eeb907d3b93b6e0e5",
    "execution": {
     "iopub.execute_input": "2022-06-10T09:13:43.121289Z",
     "iopub.status.busy": "2022-06-10T09:13:43.120560Z",
     "iopub.status.idle": "2022-06-10T09:13:49.420907Z",
     "shell.execute_reply": "2022-06-10T09:13:49.420047Z"
    },
    "papermill": {
     "duration": 6.326633,
     "end_time": "2022-06-10T09:13:49.423128",
     "exception": false,
     "start_time": "2022-06-10T09:13:43.096495",
     "status": "completed"
    },
    "tags": []
   },
   "outputs": [],
   "source": [
    "import numpy as np\n",
    "import pandas as pd \n",
    "import seaborn as sns\n",
    "import matplotlib.pyplot as plt \n",
    "import matplotlib.style as stl \n",
    "from tensorflow import keras \n",
    "from keras.preprocessing.text import Tokenizer\n",
    "from nltk.corpus import stopwords\n",
    "import string\n",
    "from tensorflow.keras.models import Sequential,Model\n",
    "from tensorflow.keras.layers import Dense, LSTM, Embedding,Dropout,SpatialDropout1D,Conv1D,MaxPooling1D,GRU,BatchNormalization\n",
    "import warnings\n",
    "warnings.filterwarnings('ignore')\n",
    "stl.use('ggplot')\n",
    "from tqdm import tqdm\n",
    "import string\n",
    "from nltk.corpus import stopwords\n",
    "from nltk.tokenize import word_tokenize\n",
    "from nltk.stem import WordNetLemmatizer\n",
    "from nltk.stem.snowball import SnowballStemmer\n",
    "import regex as re"
   ]
  },
  {
   "cell_type": "code",
   "execution_count": 2,
   "id": "a2e3f24b",
   "metadata": {
    "execution": {
     "iopub.execute_input": "2022-06-10T09:13:49.454031Z",
     "iopub.status.busy": "2022-06-10T09:13:49.452775Z",
     "iopub.status.idle": "2022-06-10T09:13:49.527736Z",
     "shell.execute_reply": "2022-06-10T09:13:49.526928Z"
    },
    "papermill": {
     "duration": 0.092117,
     "end_time": "2022-06-10T09:13:49.529738",
     "exception": false,
     "start_time": "2022-06-10T09:13:49.437621",
     "status": "completed"
    },
    "tags": []
   },
   "outputs": [],
   "source": [
    "newdata=pd.read_csv(\"../input/oathss/oaths.csv\")"
   ]
  },
  {
   "cell_type": "markdown",
   "id": "e238f4c5",
   "metadata": {
    "papermill": {
     "duration": 0.013794,
     "end_time": "2022-06-10T09:13:49.557992",
     "exception": false,
     "start_time": "2022-06-10T09:13:49.544198",
     "status": "completed"
    },
    "tags": []
   },
   "source": [
    "# Preprocessing"
   ]
  },
  {
   "cell_type": "code",
   "execution_count": 3,
   "id": "66cb9375",
   "metadata": {
    "execution": {
     "iopub.execute_input": "2022-06-10T09:13:49.588055Z",
     "iopub.status.busy": "2022-06-10T09:13:49.587416Z",
     "iopub.status.idle": "2022-06-10T09:13:49.594798Z",
     "shell.execute_reply": "2022-06-10T09:13:49.594005Z"
    },
    "papermill": {
     "duration": 0.023801,
     "end_time": "2022-06-10T09:13:49.596434",
     "exception": false,
     "start_time": "2022-06-10T09:13:49.572633",
     "status": "completed"
    },
    "tags": []
   },
   "outputs": [],
   "source": [
    "all_text=newdata[\"transcription_text\"]"
   ]
  },
  {
   "cell_type": "code",
   "execution_count": 4,
   "id": "57bc9edb",
   "metadata": {
    "execution": {
     "iopub.execute_input": "2022-06-10T09:13:49.626360Z",
     "iopub.status.busy": "2022-06-10T09:13:49.625753Z",
     "iopub.status.idle": "2022-06-10T09:13:49.635223Z",
     "shell.execute_reply": "2022-06-10T09:13:49.634510Z"
    },
    "papermill": {
     "duration": 0.026287,
     "end_time": "2022-06-10T09:13:49.637172",
     "exception": false,
     "start_time": "2022-06-10T09:13:49.610885",
     "status": "completed"
    },
    "tags": []
   },
   "outputs": [],
   "source": [
    "stop_words = set(stopwords.words('english'))\n",
    "punctuation = string.punctuation\n",
    "stemmer = SnowballStemmer(language=\"english\")\n",
    "lemmatizer = WordNetLemmatizer()"
   ]
  },
  {
   "cell_type": "code",
   "execution_count": 5,
   "id": "b10cdeeb",
   "metadata": {
    "execution": {
     "iopub.execute_input": "2022-06-10T09:13:49.666864Z",
     "iopub.status.busy": "2022-06-10T09:13:49.666391Z",
     "iopub.status.idle": "2022-06-10T09:13:49.673228Z",
     "shell.execute_reply": "2022-06-10T09:13:49.672524Z"
    },
    "papermill": {
     "duration": 0.023853,
     "end_time": "2022-06-10T09:13:49.675580",
     "exception": false,
     "start_time": "2022-06-10T09:13:49.651727",
     "status": "completed"
    },
    "tags": []
   },
   "outputs": [
    {
     "data": {
      "text/plain": [
       "'!\"#$%&\\'()*+,-./:;<=>?@[\\\\]^_`{|}~'"
      ]
     },
     "execution_count": 5,
     "metadata": {},
     "output_type": "execute_result"
    }
   ],
   "source": [
    "stop_words.remove(\"of\")\n",
    "punctuation"
   ]
  },
  {
   "cell_type": "code",
   "execution_count": 6,
   "id": "2b30a707",
   "metadata": {
    "execution": {
     "iopub.execute_input": "2022-06-10T09:13:49.705282Z",
     "iopub.status.busy": "2022-06-10T09:13:49.704733Z",
     "iopub.status.idle": "2022-06-10T09:13:49.710627Z",
     "shell.execute_reply": "2022-06-10T09:13:49.709883Z"
    },
    "papermill": {
     "duration": 0.022611,
     "end_time": "2022-06-10T09:13:49.712314",
     "exception": false,
     "start_time": "2022-06-10T09:13:49.689703",
     "status": "completed"
    },
    "tags": []
   },
   "outputs": [],
   "source": [
    "def process(s):\n",
    "    s= re.sub(\"([\\(\\[]).*?([\\)\\]])\",\" \",s)\n",
    "    for p in punctuation:\n",
    "        s = s.replace(p, '')\n",
    "    s = word_tokenize(s)\n",
    "    s = [w for w in s if not w in stop_words] #optional\n",
    "    s = [lemmatizer.lemmatize(word) for word in s]\n",
    "    return s"
   ]
  },
  {
   "cell_type": "code",
   "execution_count": 7,
   "id": "b9bcedab",
   "metadata": {
    "execution": {
     "iopub.execute_input": "2022-06-10T09:13:49.741660Z",
     "iopub.status.busy": "2022-06-10T09:13:49.741120Z",
     "iopub.status.idle": "2022-06-10T09:13:56.807867Z",
     "shell.execute_reply": "2022-06-10T09:13:56.806630Z"
    },
    "papermill": {
     "duration": 7.083586,
     "end_time": "2022-06-10T09:13:56.809763",
     "exception": false,
     "start_time": "2022-06-10T09:13:49.726177",
     "status": "completed"
    },
    "tags": []
   },
   "outputs": [
    {
     "name": "stderr",
     "output_type": "stream",
     "text": [
      "100%|██████████| 2136/2136 [00:07<00:00, 302.88it/s]\n"
     ]
    }
   ],
   "source": [
    "for i in tqdm(range(newdata.shape[0])):\n",
    "    all_text[i] = process(all_text[i])"
   ]
  },
  {
   "cell_type": "code",
   "execution_count": 8,
   "id": "7a5c08c3",
   "metadata": {
    "execution": {
     "iopub.execute_input": "2022-06-10T09:13:56.847069Z",
     "iopub.status.busy": "2022-06-10T09:13:56.846334Z",
     "iopub.status.idle": "2022-06-10T09:13:57.477186Z",
     "shell.execute_reply": "2022-06-10T09:13:57.476286Z"
    },
    "papermill": {
     "duration": 0.651647,
     "end_time": "2022-06-10T09:13:57.479213",
     "exception": false,
     "start_time": "2022-06-10T09:13:56.827566",
     "status": "completed"
    },
    "tags": []
   },
   "outputs": [
    {
     "name": "stderr",
     "output_type": "stream",
     "text": [
      "100%|██████████| 2136/2136 [00:00<00:00, 3438.39it/s]\n"
     ]
    }
   ],
   "source": [
    "for i in tqdm(range(newdata.shape[0])):\n",
    "    all_text[i] = \" \".join(all_text[i])"
   ]
  },
  {
   "cell_type": "code",
   "execution_count": 9,
   "id": "f2ad0072",
   "metadata": {
    "execution": {
     "iopub.execute_input": "2022-06-10T09:13:57.516121Z",
     "iopub.status.busy": "2022-06-10T09:13:57.515791Z",
     "iopub.status.idle": "2022-06-10T09:13:57.522807Z",
     "shell.execute_reply": "2022-06-10T09:13:57.522043Z"
    },
    "papermill": {
     "duration": 0.027239,
     "end_time": "2022-06-10T09:13:57.524588",
     "exception": false,
     "start_time": "2022-06-10T09:13:57.497349",
     "status": "completed"
    },
    "tags": []
   },
   "outputs": [
    {
     "data": {
      "text/plain": [
       "0       I I C Meekins of Currituck County State of Nor...\n",
       "1       Department of Virginia North Carolina 1864 tak...\n",
       "2       I W H Pearce of Craven County State of NorthCa...\n",
       "3       State of North Carolina County I solemnly swea...\n",
       "4       State of North Carolina Wake County I SE Allen...\n",
       "                              ...                        \n",
       "2131    Office Provost Marshal Raleigh NC May 26 65 Th...\n",
       "2132    July 30th 1867 Birnie Wm Agent Bu R F A L Oath...\n",
       "2133    State of North Carolina Robeson County I Willi...\n",
       "2134    NARA 449 102 We whose name written well person...\n",
       "2135    NARA 450 404 Office Provost Marshall City of W...\n",
       "Name: transcription_text, Length: 2136, dtype: object"
      ]
     },
     "execution_count": 9,
     "metadata": {},
     "output_type": "execute_result"
    }
   ],
   "source": [
    "all_text"
   ]
  },
  {
   "cell_type": "code",
   "execution_count": null,
   "id": "4d46c29e",
   "metadata": {
    "papermill": {
     "duration": 0.017739,
     "end_time": "2022-06-10T09:13:57.559794",
     "exception": false,
     "start_time": "2022-06-10T09:13:57.542055",
     "status": "completed"
    },
    "tags": []
   },
   "outputs": [],
   "source": []
  },
  {
   "cell_type": "markdown",
   "id": "616a5182",
   "metadata": {
    "papermill": {
     "duration": 0.017288,
     "end_time": "2022-06-10T09:13:57.594623",
     "exception": false,
     "start_time": "2022-06-10T09:13:57.577335",
     "status": "completed"
    },
    "tags": []
   },
   "source": [
    "# Flair"
   ]
  },
  {
   "cell_type": "code",
   "execution_count": 10,
   "id": "a3be68d7",
   "metadata": {
    "execution": {
     "iopub.execute_input": "2022-06-10T09:13:57.631217Z",
     "iopub.status.busy": "2022-06-10T09:13:57.630438Z",
     "iopub.status.idle": "2022-06-10T09:14:58.346277Z",
     "shell.execute_reply": "2022-06-10T09:14:58.345235Z"
    },
    "papermill": {
     "duration": 60.736407,
     "end_time": "2022-06-10T09:14:58.348450",
     "exception": false,
     "start_time": "2022-06-10T09:13:57.612043",
     "status": "completed"
    },
    "tags": []
   },
   "outputs": [
    {
     "name": "stdout",
     "output_type": "stream",
     "text": [
      "Requirement already satisfied: Cython in /opt/conda/lib/python3.7/site-packages (0.29.30)\r\n",
      "\u001b[33mWARNING: Running pip as the 'root' user can result in broken permissions and conflicting behaviour with the system package manager. It is recommended to use a virtual environment instead: https://pip.pypa.io/warnings/venv\u001b[0m\u001b[33m\r\n",
      "\u001b[0mRequirement already satisfied: transformers in /opt/conda/lib/python3.7/site-packages (4.18.0)\r\n",
      "Requirement already satisfied: tokenizers!=0.11.3,<0.13,>=0.11.1 in /opt/conda/lib/python3.7/site-packages (from transformers) (0.12.1)\r\n",
      "Requirement already satisfied: numpy>=1.17 in /opt/conda/lib/python3.7/site-packages (from transformers) (1.21.6)\r\n",
      "Requirement already satisfied: requests in /opt/conda/lib/python3.7/site-packages (from transformers) (2.27.1)\r\n",
      "Requirement already satisfied: packaging>=20.0 in /opt/conda/lib/python3.7/site-packages (from transformers) (21.3)\r\n",
      "Requirement already satisfied: filelock in /opt/conda/lib/python3.7/site-packages (from transformers) (3.6.0)\r\n",
      "Requirement already satisfied: huggingface-hub<1.0,>=0.1.0 in /opt/conda/lib/python3.7/site-packages (from transformers) (0.5.1)\r\n",
      "Requirement already satisfied: tqdm>=4.27 in /opt/conda/lib/python3.7/site-packages (from transformers) (4.64.0)\r\n",
      "Requirement already satisfied: pyyaml>=5.1 in /opt/conda/lib/python3.7/site-packages (from transformers) (6.0)\r\n",
      "Requirement already satisfied: regex!=2019.12.17 in /opt/conda/lib/python3.7/site-packages (from transformers) (2021.11.10)\r\n",
      "Requirement already satisfied: importlib-metadata in /opt/conda/lib/python3.7/site-packages (from transformers) (4.11.4)\r\n",
      "Requirement already satisfied: sacremoses in /opt/conda/lib/python3.7/site-packages (from transformers) (0.0.53)\r\n",
      "Requirement already satisfied: typing-extensions>=3.7.4.3 in /opt/conda/lib/python3.7/site-packages (from huggingface-hub<1.0,>=0.1.0->transformers) (4.2.0)\r\n",
      "Requirement already satisfied: pyparsing!=3.0.5,>=2.0.2 in /opt/conda/lib/python3.7/site-packages (from packaging>=20.0->transformers) (3.0.9)\r\n",
      "Requirement already satisfied: zipp>=0.5 in /opt/conda/lib/python3.7/site-packages (from importlib-metadata->transformers) (3.8.0)\r\n",
      "Requirement already satisfied: certifi>=2017.4.17 in /opt/conda/lib/python3.7/site-packages (from requests->transformers) (2022.5.18.1)\r\n",
      "Requirement already satisfied: idna<4,>=2.5 in /opt/conda/lib/python3.7/site-packages (from requests->transformers) (3.3)\r\n",
      "Requirement already satisfied: urllib3<1.27,>=1.21.1 in /opt/conda/lib/python3.7/site-packages (from requests->transformers) (1.26.9)\r\n",
      "Requirement already satisfied: charset-normalizer~=2.0.0 in /opt/conda/lib/python3.7/site-packages (from requests->transformers) (2.0.12)\r\n",
      "Requirement already satisfied: joblib in /opt/conda/lib/python3.7/site-packages (from sacremoses->transformers) (1.1.0)\r\n",
      "Requirement already satisfied: six in /opt/conda/lib/python3.7/site-packages (from sacremoses->transformers) (1.16.0)\r\n",
      "Requirement already satisfied: click in /opt/conda/lib/python3.7/site-packages (from sacremoses->transformers) (8.0.4)\r\n",
      "\u001b[33mWARNING: Running pip as the 'root' user can result in broken permissions and conflicting behaviour with the system package manager. It is recommended to use a virtual environment instead: https://pip.pypa.io/warnings/venv\u001b[0m\u001b[33m\r\n",
      "\u001b[0mCollecting flair\r\n",
      "  Downloading flair-0.11.3-py3-none-any.whl (401 kB)\r\n",
      "\u001b[2K     \u001b[90m━━━━━━━━━━━━━━━━━━━━━━━━━━━━━━━━━━━━━━━\u001b[0m \u001b[32m401.9/401.9 kB\u001b[0m \u001b[31m2.0 MB/s\u001b[0m eta \u001b[36m0:00:00\u001b[0m\r\n",
      "\u001b[?25hRequirement already satisfied: janome in /opt/conda/lib/python3.7/site-packages (from flair) (0.4.2)\r\n",
      "Collecting mpld3==0.3\r\n",
      "  Downloading mpld3-0.3.tar.gz (788 kB)\r\n",
      "\u001b[2K     \u001b[90m━━━━━━━━━━━━━━━━━━━━━━━━━━━━━━━━━━━━━━━\u001b[0m \u001b[32m788.5/788.5 kB\u001b[0m \u001b[31m9.6 MB/s\u001b[0m eta \u001b[36m0:00:00\u001b[0m\r\n",
      "\u001b[?25h  Preparing metadata (setup.py) ... \u001b[?25l-\b \bdone\r\n",
      "\u001b[?25hCollecting ftfy\r\n",
      "  Downloading ftfy-6.1.1-py3-none-any.whl (53 kB)\r\n",
      "\u001b[2K     \u001b[90m━━━━━━━━━━━━━━━━━━━━━━━━━━━━━━━━━━━━━━━━\u001b[0m \u001b[32m53.1/53.1 kB\u001b[0m \u001b[31m4.6 MB/s\u001b[0m eta \u001b[36m0:00:00\u001b[0m\r\n",
      "\u001b[?25hRequirement already satisfied: huggingface-hub in /opt/conda/lib/python3.7/site-packages (from flair) (0.5.1)\r\n",
      "Collecting konoha<5.0.0,>=4.0.0\r\n",
      "  Downloading konoha-4.6.5-py3-none-any.whl (20 kB)\r\n",
      "Requirement already satisfied: torch!=1.8,>=1.5.0 in /opt/conda/lib/python3.7/site-packages (from flair) (1.11.0)\r\n",
      "Requirement already satisfied: matplotlib>=2.2.3 in /opt/conda/lib/python3.7/site-packages (from flair) (3.5.2)\r\n",
      "Requirement already satisfied: transformers>=4.0.0 in /opt/conda/lib/python3.7/site-packages (from flair) (4.18.0)\r\n",
      "Collecting sqlitedict>=1.6.0\r\n",
      "  Downloading sqlitedict-2.0.0.tar.gz (46 kB)\r\n",
      "\u001b[2K     \u001b[90m━━━━━━━━━━━━━━━━━━━━━━━━━━━━━━━━━━━━━━━━\u001b[0m \u001b[32m46.3/46.3 kB\u001b[0m \u001b[31m4.1 MB/s\u001b[0m eta \u001b[36m0:00:00\u001b[0m\r\n",
      "\u001b[?25h  Preparing metadata (setup.py) ... \u001b[?25l-\b \bdone\r\n",
      "\u001b[?25hCollecting gdown==4.4.0\r\n",
      "  Downloading gdown-4.4.0.tar.gz (14 kB)\r\n",
      "  Installing build dependencies ... \u001b[?25l-\b \b\\\b \b|\b \b/\b \b-\b \b\\\b \bdone\r\n",
      "\u001b[?25h  Getting requirements to build wheel ... \u001b[?25l-\b \b\\\b \b|\b \b/\b \b-\b \bdone\r\n",
      "\u001b[?25h  Preparing metadata (pyproject.toml) ... \u001b[?25l-\b \b\\\b \b|\b \b/\b \b-\b \bdone\r\n",
      "\u001b[?25hCollecting deprecated>=1.2.4\r\n",
      "  Downloading Deprecated-1.2.13-py2.py3-none-any.whl (9.6 kB)\r\n",
      "Collecting sentencepiece==0.1.95\r\n",
      "  Downloading sentencepiece-0.1.95-cp37-cp37m-manylinux2014_x86_64.whl (1.2 MB)\r\n",
      "\u001b[2K     \u001b[90m━━━━━━━━━━━━━━━━━━━━━━━━━━━━━━━━━━━━━━━━\u001b[0m \u001b[32m1.2/1.2 MB\u001b[0m \u001b[31m17.5 MB/s\u001b[0m eta \u001b[36m0:00:00\u001b[0m\r\n",
      "\u001b[?25hRequirement already satisfied: scikit-learn>=0.21.3 in /opt/conda/lib/python3.7/site-packages (from flair) (1.0.2)\r\n",
      "Requirement already satisfied: tqdm>=4.26.0 in /opt/conda/lib/python3.7/site-packages (from flair) (4.64.0)\r\n",
      "Requirement already satisfied: more-itertools in /opt/conda/lib/python3.7/site-packages (from flair) (8.13.0)\r\n",
      "Collecting wikipedia-api\r\n",
      "  Downloading Wikipedia-API-0.5.4.tar.gz (18 kB)\r\n",
      "  Preparing metadata (setup.py) ... \u001b[?25l-\b \bdone\r\n",
      "\u001b[?25hCollecting segtok>=1.5.7\r\n",
      "  Downloading segtok-1.5.11-py3-none-any.whl (24 kB)\r\n",
      "Requirement already satisfied: hyperopt>=0.2.7 in /opt/conda/lib/python3.7/site-packages (from flair) (0.2.7)\r\n",
      "Collecting bpemb>=0.3.2\r\n",
      "  Downloading bpemb-0.3.3-py3-none-any.whl (19 kB)\r\n",
      "Requirement already satisfied: regex in /opt/conda/lib/python3.7/site-packages (from flair) (2021.11.10)\r\n",
      "Requirement already satisfied: python-dateutil>=2.6.1 in /opt/conda/lib/python3.7/site-packages (from flair) (2.8.2)\r\n",
      "Requirement already satisfied: gensim>=3.4.0 in /opt/conda/lib/python3.7/site-packages (from flair) (4.0.1)\r\n",
      "Requirement already satisfied: tabulate in /opt/conda/lib/python3.7/site-packages (from flair) (0.8.9)\r\n",
      "Collecting langdetect\r\n",
      "  Downloading langdetect-1.0.9.tar.gz (981 kB)\r\n",
      "\u001b[2K     \u001b[90m━━━━━━━━━━━━━━━━━━━━━━━━━━━━━━━━━━━━━━\u001b[0m \u001b[32m981.5/981.5 kB\u001b[0m \u001b[31m52.1 MB/s\u001b[0m eta \u001b[36m0:00:00\u001b[0m\r\n",
      "\u001b[?25h  Preparing metadata (setup.py) ... \u001b[?25l-\b \bdone\r\n",
      "\u001b[?25hRequirement already satisfied: lxml in /opt/conda/lib/python3.7/site-packages (from flair) (4.8.0)\r\n",
      "Collecting pptree\r\n",
      "  Downloading pptree-3.1.tar.gz (3.0 kB)\r\n",
      "  Preparing metadata (setup.py) ... \u001b[?25l-\b \bdone\r\n",
      "\u001b[?25hCollecting conllu>=4.0\r\n",
      "  Downloading conllu-4.4.2-py2.py3-none-any.whl (15 kB)\r\n",
      "Requirement already satisfied: filelock in /opt/conda/lib/python3.7/site-packages (from gdown==4.4.0->flair) (3.6.0)\r\n",
      "Requirement already satisfied: beautifulsoup4 in /opt/conda/lib/python3.7/site-packages (from gdown==4.4.0->flair) (4.11.1)\r\n",
      "Requirement already satisfied: six in /opt/conda/lib/python3.7/site-packages (from gdown==4.4.0->flair) (1.16.0)\r\n",
      "Requirement already satisfied: requests[socks] in /opt/conda/lib/python3.7/site-packages (from gdown==4.4.0->flair) (2.27.1)\r\n",
      "Requirement already satisfied: numpy in /opt/conda/lib/python3.7/site-packages (from bpemb>=0.3.2->flair) (1.21.6)\r\n",
      "Requirement already satisfied: wrapt<2,>=1.10 in /opt/conda/lib/python3.7/site-packages (from deprecated>=1.2.4->flair) (1.14.1)\r\n",
      "Requirement already satisfied: scipy>=0.18.1 in /opt/conda/lib/python3.7/site-packages (from gensim>=3.4.0->flair) (1.7.3)\r\n",
      "Requirement already satisfied: smart-open>=1.8.1 in /opt/conda/lib/python3.7/site-packages (from gensim>=3.4.0->flair) (5.2.1)\r\n",
      "Requirement already satisfied: cloudpickle in /opt/conda/lib/python3.7/site-packages (from hyperopt>=0.2.7->flair) (2.0.0)\r\n",
      "Requirement already satisfied: future in /opt/conda/lib/python3.7/site-packages (from hyperopt>=0.2.7->flair) (0.18.2)\r\n",
      "Requirement already satisfied: py4j in /opt/conda/lib/python3.7/site-packages (from hyperopt>=0.2.7->flair) (0.10.9.5)\r\n",
      "Requirement already satisfied: networkx>=2.2 in /opt/conda/lib/python3.7/site-packages (from hyperopt>=0.2.7->flair) (2.5)\r\n",
      "Collecting importlib-metadata<4.0.0,>=3.7.0\r\n",
      "  Downloading importlib_metadata-3.10.1-py3-none-any.whl (14 kB)\r\n",
      "Collecting overrides<4.0.0,>=3.0.0\r\n",
      "  Downloading overrides-3.1.0.tar.gz (11 kB)\r\n",
      "  Preparing metadata (setup.py) ... \u001b[?25l-\b \bdone\r\n",
      "\u001b[?25hRequirement already satisfied: fonttools>=4.22.0 in /opt/conda/lib/python3.7/site-packages (from matplotlib>=2.2.3->flair) (4.33.3)\r\n",
      "Requirement already satisfied: packaging>=20.0 in /opt/conda/lib/python3.7/site-packages (from matplotlib>=2.2.3->flair) (21.3)\r\n",
      "Requirement already satisfied: pillow>=6.2.0 in /opt/conda/lib/python3.7/site-packages (from matplotlib>=2.2.3->flair) (9.1.0)\r\n",
      "Requirement already satisfied: kiwisolver>=1.0.1 in /opt/conda/lib/python3.7/site-packages (from matplotlib>=2.2.3->flair) (1.4.2)\r\n",
      "Requirement already satisfied: pyparsing>=2.2.1 in /opt/conda/lib/python3.7/site-packages (from matplotlib>=2.2.3->flair) (3.0.9)\r\n",
      "Requirement already satisfied: cycler>=0.10 in /opt/conda/lib/python3.7/site-packages (from matplotlib>=2.2.3->flair) (0.11.0)\r\n",
      "Requirement already satisfied: threadpoolctl>=2.0.0 in /opt/conda/lib/python3.7/site-packages (from scikit-learn>=0.21.3->flair) (3.1.0)\r\n",
      "Requirement already satisfied: joblib>=0.11 in /opt/conda/lib/python3.7/site-packages (from scikit-learn>=0.21.3->flair) (1.1.0)\r\n",
      "Requirement already satisfied: typing-extensions in /opt/conda/lib/python3.7/site-packages (from torch!=1.8,>=1.5.0->flair) (4.2.0)\r\n",
      "Requirement already satisfied: pyyaml>=5.1 in /opt/conda/lib/python3.7/site-packages (from transformers>=4.0.0->flair) (6.0)\r\n",
      "Requirement already satisfied: tokenizers!=0.11.3,<0.13,>=0.11.1 in /opt/conda/lib/python3.7/site-packages (from transformers>=4.0.0->flair) (0.12.1)\r\n",
      "Requirement already satisfied: sacremoses in /opt/conda/lib/python3.7/site-packages (from transformers>=4.0.0->flair) (0.0.53)\r\n",
      "Requirement already satisfied: wcwidth>=0.2.5 in /opt/conda/lib/python3.7/site-packages (from ftfy->flair) (0.2.5)\r\n",
      "Requirement already satisfied: zipp>=0.5 in /opt/conda/lib/python3.7/site-packages (from importlib-metadata<4.0.0,>=3.7.0->konoha<5.0.0,>=4.0.0->flair) (3.8.0)\r\n",
      "Requirement already satisfied: decorator>=4.3.0 in /opt/conda/lib/python3.7/site-packages (from networkx>=2.2->hyperopt>=0.2.7->flair) (5.1.1)\r\n",
      "Requirement already satisfied: charset-normalizer~=2.0.0 in /opt/conda/lib/python3.7/site-packages (from requests[socks]->gdown==4.4.0->flair) (2.0.12)\r\n",
      "Requirement already satisfied: certifi>=2017.4.17 in /opt/conda/lib/python3.7/site-packages (from requests[socks]->gdown==4.4.0->flair) (2022.5.18.1)\r\n",
      "Requirement already satisfied: idna<4,>=2.5 in /opt/conda/lib/python3.7/site-packages (from requests[socks]->gdown==4.4.0->flair) (3.3)\r\n",
      "Requirement already satisfied: urllib3<1.27,>=1.21.1 in /opt/conda/lib/python3.7/site-packages (from requests[socks]->gdown==4.4.0->flair) (1.26.9)\r\n",
      "Requirement already satisfied: soupsieve>1.2 in /opt/conda/lib/python3.7/site-packages (from beautifulsoup4->gdown==4.4.0->flair) (2.3.1)\r\n",
      "Requirement already satisfied: PySocks!=1.5.7,>=1.5.6 in /opt/conda/lib/python3.7/site-packages (from requests[socks]->gdown==4.4.0->flair) (1.7.1)\r\n",
      "Requirement already satisfied: click in /opt/conda/lib/python3.7/site-packages (from sacremoses->transformers>=4.0.0->flair) (8.0.4)\r\n",
      "Building wheels for collected packages: gdown, mpld3, sqlitedict, langdetect, pptree, wikipedia-api, overrides\r\n",
      "  Building wheel for gdown (pyproject.toml) ... \u001b[?25l-\b \b\\\b \b|\b \b/\b \b-\b \b\\\b \b|\b \bdone\r\n",
      "\u001b[?25h  Created wheel for gdown: filename=gdown-4.4.0-py3-none-any.whl size=14759 sha256=1c0f6e01d07f9ec64880770bc751f3a1e797d1a69b9fc6d470feeb18312be93e\r\n",
      "  Stored in directory: /root/.cache/pip/wheels/fb/c3/0e/c4d8ff8bfcb0461afff199471449f642179b74968c15b7a69c\r\n",
      "  Building wheel for mpld3 (setup.py) ... \u001b[?25l-\b \b\\\b \bdone\r\n",
      "\u001b[?25h  Created wheel for mpld3: filename=mpld3-0.3-py3-none-any.whl size=116702 sha256=c429080a176ac09c3f5ded3a38b9ca7a77a3da0316ad766f552e05df6205c6db\r\n",
      "  Stored in directory: /root/.cache/pip/wheels/26/70/6a/1c79e59951a41b4045497da187b2724f5659ca64033cf4548e\r\n",
      "  Building wheel for sqlitedict (setup.py) ... \u001b[?25l-\b \bdone\r\n",
      "\u001b[?25h  Created wheel for sqlitedict: filename=sqlitedict-2.0.0-py3-none-any.whl size=15736 sha256=2dbe068bea13e6135a2c9c16fb5230c4e5b9c0fc022d30b814b0f0749248813b\r\n",
      "  Stored in directory: /root/.cache/pip/wheels/96/dd/2e/0ed4a25cb73fc30c7ea8d10b50acb7226175736067e40a7ea3\r\n",
      "  Building wheel for langdetect (setup.py) ... \u001b[?25l-\b \b\\\b \b|\b \b/\b \bdone\r\n",
      "\u001b[?25h  Created wheel for langdetect: filename=langdetect-1.0.9-py3-none-any.whl size=993242 sha256=b86cfaf49e03daf1d1e5474a2c5af8e157fc21b8e5bac6a32ebec64237117758\r\n",
      "  Stored in directory: /root/.cache/pip/wheels/c5/96/8a/f90c59ed25d75e50a8c10a1b1c2d4c402e4dacfa87f3aff36a\r\n",
      "  Building wheel for pptree (setup.py) ... \u001b[?25l-\b \bdone\r\n",
      "\u001b[?25h  Created wheel for pptree: filename=pptree-3.1-py3-none-any.whl size=4629 sha256=84754abbbd5262a0e7edc617dfb3fc275aa32ab6f9f9ad97d725e8ac15cbe225\r\n",
      "  Stored in directory: /root/.cache/pip/wheels/9e/e8/7d/a9c3c19b4722608a0d8b05a38c36bc3f230c43becd2a46794b\r\n",
      "  Building wheel for wikipedia-api (setup.py) ... \u001b[?25l-\b \bdone\r\n",
      "\u001b[?25h  Created wheel for wikipedia-api: filename=Wikipedia_API-0.5.4-py3-none-any.whl size=13477 sha256=aabb5ed69df922b6f273bb354cc9484e0d843974f2da230508a4463993a08898\r\n",
      "  Stored in directory: /root/.cache/pip/wheels/d3/24/56/58ba93cf78be162451144e7a9889603f437976ef1ae7013d04\r\n",
      "  Building wheel for overrides (setup.py) ... \u001b[?25l-\b \bdone\r\n",
      "\u001b[?25h  Created wheel for overrides: filename=overrides-3.1.0-py3-none-any.whl size=10187 sha256=aca27da897b4cfa9e1b3e7e017dd6a1e00abd9e640ddc42113e9b3c4e4fd8f5c\r\n",
      "  Stored in directory: /root/.cache/pip/wheels/3a/0d/38/01a9bc6e20dcfaf0a6a7b552d03137558ba1c38aea47644682\r\n",
      "Successfully built gdown mpld3 sqlitedict langdetect pptree wikipedia-api overrides\r\n",
      "Installing collected packages: sqlitedict, sentencepiece, pptree, overrides, mpld3, segtok, langdetect, importlib-metadata, ftfy, deprecated, conllu, wikipedia-api, konoha, gdown, bpemb, flair\r\n",
      "  Attempting uninstall: sentencepiece\r\n",
      "    Found existing installation: sentencepiece 0.1.96\r\n",
      "    Uninstalling sentencepiece-0.1.96:\r\n",
      "      Successfully uninstalled sentencepiece-0.1.96\r\n",
      "  Attempting uninstall: overrides\r\n",
      "    Found existing installation: overrides 6.1.0\r\n",
      "    Uninstalling overrides-6.1.0:\r\n",
      "      Successfully uninstalled overrides-6.1.0\r\n",
      "  Attempting uninstall: mpld3\r\n",
      "    Found existing installation: mpld3 0.5.7\r\n",
      "    Uninstalling mpld3-0.5.7:\r\n",
      "      Successfully uninstalled mpld3-0.5.7\r\n",
      "  Attempting uninstall: importlib-metadata\r\n",
      "    Found existing installation: importlib-metadata 4.11.4\r\n",
      "    Uninstalling importlib-metadata-4.11.4:\r\n",
      "      Successfully uninstalled importlib-metadata-4.11.4\r\n",
      "\u001b[31mERROR: pip's dependency resolver does not currently take into account all the packages that are installed. This behaviour is the source of the following dependency conflicts.\r\n",
      "markdown 3.3.7 requires importlib-metadata>=4.4; python_version < \"3.10\", but you have importlib-metadata 3.10.1 which is incompatible.\r\n",
      "ibis-framework 2.1.1 requires importlib-metadata<5,>=4; python_version < \"3.8\", but you have importlib-metadata 3.10.1 which is incompatible.\r\n",
      "gym 0.23.1 requires importlib-metadata>=4.10.0; python_version < \"3.10\", but you have importlib-metadata 3.10.1 which is incompatible.\r\n",
      "google-cloud-pubsublite 1.4.2 requires overrides<7.0.0,>=6.0.1, but you have overrides 3.1.0 which is incompatible.\u001b[0m\u001b[31m\r\n",
      "\u001b[0mSuccessfully installed bpemb-0.3.3 conllu-4.4.2 deprecated-1.2.13 flair-0.11.3 ftfy-6.1.1 gdown-4.4.0 importlib-metadata-3.10.1 konoha-4.6.5 langdetect-1.0.9 mpld3-0.3 overrides-3.1.0 pptree-3.1 segtok-1.5.11 sentencepiece-0.1.95 sqlitedict-2.0.0 wikipedia-api-0.5.4\r\n",
      "\u001b[33mWARNING: Running pip as the 'root' user can result in broken permissions and conflicting behaviour with the system package manager. It is recommended to use a virtual environment instead: https://pip.pypa.io/warnings/venv\u001b[0m\u001b[33m\r\n",
      "\u001b[0m"
     ]
    }
   ],
   "source": [
    "!pip3 install Cython\n",
    "!pip install transformers\n",
    "!pip install flair"
   ]
  },
  {
   "cell_type": "markdown",
   "id": "9d4eb19a",
   "metadata": {
    "papermill": {
     "duration": 0.024258,
     "end_time": "2022-06-10T09:14:58.398057",
     "exception": false,
     "start_time": "2022-06-10T09:14:58.373799",
     "status": "completed"
    },
    "tags": []
   },
   "source": [
    "# Hugging face  : Flair"
   ]
  },
  {
   "cell_type": "markdown",
   "id": "6ae003c3",
   "metadata": {
    "papermill": {
     "duration": 0.024321,
     "end_time": "2022-06-10T09:14:58.447055",
     "exception": false,
     "start_time": "2022-06-10T09:14:58.422734",
     "status": "completed"
    },
    "tags": []
   },
   "source": [
    "**ner-english** "
   ]
  },
  {
   "cell_type": "code",
   "execution_count": 11,
   "id": "5f72fc8d",
   "metadata": {
    "execution": {
     "iopub.execute_input": "2022-06-10T09:14:58.498515Z",
     "iopub.status.busy": "2022-06-10T09:14:58.497646Z",
     "iopub.status.idle": "2022-06-10T09:15:00.696924Z",
     "shell.execute_reply": "2022-06-10T09:15:00.695877Z"
    },
    "papermill": {
     "duration": 2.22775,
     "end_time": "2022-06-10T09:15:00.699151",
     "exception": false,
     "start_time": "2022-06-10T09:14:58.471401",
     "status": "completed"
    },
    "tags": []
   },
   "outputs": [
    {
     "name": "stdout",
     "output_type": "stream",
     "text": [
      "git: 'lfs' is not a git command. See 'git --help'.\r\n",
      "\r\n",
      "The most similar command is\r\n",
      "\tlog\r\n",
      "Cloning into 'ner-english-large'...\r\n",
      "remote: Enumerating objects: 25, done.\u001b[K\r\n",
      "remote: Counting objects: 100% (25/25), done.\u001b[K\r\n",
      "remote: Compressing objects: 100% (24/24), done.\u001b[K\r\n",
      "remote: Total 25 (delta 10), reused 0 (delta 0), pack-reused 0\u001b[K\r\n",
      "Unpacking objects: 100% (25/25), 11.03 KiB | 752.00 KiB/s, done.\r\n"
     ]
    }
   ],
   "source": [
    "!git lfs install\n",
    "!git clone https://huggingface.co/flair/ner-english-large"
   ]
  },
  {
   "cell_type": "code",
   "execution_count": 12,
   "id": "a47409bb",
   "metadata": {
    "execution": {
     "iopub.execute_input": "2022-06-10T09:15:00.784992Z",
     "iopub.status.busy": "2022-06-10T09:15:00.784569Z",
     "iopub.status.idle": "2022-06-10T09:17:11.174427Z",
     "shell.execute_reply": "2022-06-10T09:17:11.173525Z"
    },
    "papermill": {
     "duration": 130.435168,
     "end_time": "2022-06-10T09:17:11.176548",
     "exception": false,
     "start_time": "2022-06-10T09:15:00.741380",
     "status": "completed"
    },
    "tags": []
   },
   "outputs": [
    {
     "data": {
      "application/vnd.jupyter.widget-view+json": {
       "model_id": "48f0c3cd9df54c42a684880cc2be31d4",
       "version_major": 2,
       "version_minor": 0
      },
      "text/plain": [
       "Downloading:   0%|          | 0.00/2.24G [00:00<?, ?B/s]"
      ]
     },
     "metadata": {},
     "output_type": "display_data"
    },
    {
     "name": "stdout",
     "output_type": "stream",
     "text": [
      "2022-06-10 09:16:44,730 loading file /root/.flair/models/ner-english-ontonotes-large/2da6c2cdd76e59113033adf670340bfd820f0301ae2e39204d67ba2dc276cc28.ec1bdb304b6c66111532c3b1fc6e522460ae73f1901848a4d0362cdf9760edb1\n"
     ]
    },
    {
     "data": {
      "application/vnd.jupyter.widget-view+json": {
       "model_id": "a0ff31cb03a04fda84270f7a1167c673",
       "version_major": 2,
       "version_minor": 0
      },
      "text/plain": [
       "Downloading:   0%|          | 0.00/616 [00:00<?, ?B/s]"
      ]
     },
     "metadata": {},
     "output_type": "display_data"
    },
    {
     "data": {
      "application/vnd.jupyter.widget-view+json": {
       "model_id": "b9d83378c18449ae8a73a7aa033534e0",
       "version_major": 2,
       "version_minor": 0
      },
      "text/plain": [
       "Downloading:   0%|          | 0.00/4.83M [00:00<?, ?B/s]"
      ]
     },
     "metadata": {},
     "output_type": "display_data"
    },
    {
     "data": {
      "application/vnd.jupyter.widget-view+json": {
       "model_id": "1db64a94bea94218872563870e0a91a7",
       "version_major": 2,
       "version_minor": 0
      },
      "text/plain": [
       "Downloading:   0%|          | 0.00/8.68M [00:00<?, ?B/s]"
      ]
     },
     "metadata": {},
     "output_type": "display_data"
    },
    {
     "name": "stdout",
     "output_type": "stream",
     "text": [
      "2022-06-10 09:17:10,450 SequenceTagger predicts: Dictionary with 76 tags: <unk>, O, B-CARDINAL, E-CARDINAL, S-PERSON, S-CARDINAL, S-PRODUCT, B-PRODUCT, I-PRODUCT, E-PRODUCT, B-WORK_OF_ART, I-WORK_OF_ART, E-WORK_OF_ART, B-PERSON, E-PERSON, S-GPE, B-DATE, I-DATE, E-DATE, S-ORDINAL, S-LANGUAGE, I-PERSON, S-EVENT, S-DATE, B-QUANTITY, E-QUANTITY, S-TIME, B-TIME, I-TIME, E-TIME, B-GPE, E-GPE, S-ORG, I-GPE, S-NORP, B-FAC, I-FAC, E-FAC, B-NORP, E-NORP, S-PERCENT, B-ORG, E-ORG, B-LANGUAGE, E-LANGUAGE, I-CARDINAL, I-ORG, S-WORK_OF_ART, I-QUANTITY, B-MONEY\n"
     ]
    }
   ],
   "source": [
    "from flair.models import SequenceTagger\n",
    "\n",
    "tagger = SequenceTagger.load(\"flair/ner-english-ontonotes-large\")"
   ]
  },
  {
   "cell_type": "code",
   "execution_count": 13,
   "id": "ea74f065",
   "metadata": {
    "execution": {
     "iopub.execute_input": "2022-06-10T09:17:11.229770Z",
     "iopub.status.busy": "2022-06-10T09:17:11.229443Z",
     "iopub.status.idle": "2022-06-10T09:17:34.934153Z",
     "shell.execute_reply": "2022-06-10T09:17:34.933300Z"
    },
    "papermill": {
     "duration": 23.732794,
     "end_time": "2022-06-10T09:17:34.936197",
     "exception": false,
     "start_time": "2022-06-10T09:17:11.203403",
     "status": "completed"
    },
    "tags": []
   },
   "outputs": [
    {
     "data": {
      "application/vnd.jupyter.widget-view+json": {
       "model_id": "f7270da2e8ea4de6bec659ad24a38987",
       "version_major": 2,
       "version_minor": 0
      },
      "text/plain": [
       "Downloading:   0%|          | 0.00/432M [00:00<?, ?B/s]"
      ]
     },
     "metadata": {},
     "output_type": "display_data"
    },
    {
     "name": "stdout",
     "output_type": "stream",
     "text": [
      "2022-06-10 09:17:31,967 loading file /root/.flair/models/ner-english/4f4cdab26f24cb98b732b389e6cebc646c36f54cfd6e0b7d3b90b25656e4262f.8baa8ae8795f4df80b28e7f7b61d788ecbb057d1dc85aacb316f1bd02837a4a4\n",
      "2022-06-10 09:17:33,910 SequenceTagger predicts: Dictionary with 20 tags: <unk>, O, S-ORG, S-MISC, B-PER, E-PER, S-LOC, B-ORG, E-ORG, I-PER, S-PER, B-MISC, I-MISC, E-MISC, I-ORG, B-LOC, E-LOC, I-LOC, <START>, <STOP>\n"
     ]
    }
   ],
   "source": [
    "from flair.models import SequenceTagger\n",
    "\n",
    "tagger1 = SequenceTagger.load(\"flair/ner-english\")"
   ]
  },
  {
   "cell_type": "code",
   "execution_count": 14,
   "id": "843320a2",
   "metadata": {
    "execution": {
     "iopub.execute_input": "2022-06-10T09:17:34.999063Z",
     "iopub.status.busy": "2022-06-10T09:17:34.998486Z",
     "iopub.status.idle": "2022-06-10T09:19:32.710484Z",
     "shell.execute_reply": "2022-06-10T09:19:32.709529Z"
    },
    "papermill": {
     "duration": 117.745415,
     "end_time": "2022-06-10T09:19:32.712895",
     "exception": false,
     "start_time": "2022-06-10T09:17:34.967480",
     "status": "completed"
    },
    "tags": []
   },
   "outputs": [
    {
     "data": {
      "application/vnd.jupyter.widget-view+json": {
       "model_id": "8e464a6bbae741f09d9bf5fba9648b96",
       "version_major": 2,
       "version_minor": 0
      },
      "text/plain": [
       "Downloading:   0%|          | 0.00/2.24G [00:00<?, ?B/s]"
      ]
     },
     "metadata": {},
     "output_type": "display_data"
    },
    {
     "name": "stdout",
     "output_type": "stream",
     "text": [
      "2022-06-10 09:19:14,394 loading file /root/.flair/models/ner-english-large/07301f59bb8cb113803be316267f06ddf9243cdbba92a4c8067ef92442d2c574.554244d3476d97501a766a98078421817b14654496b86f2f7bd139dc502a4f29\n",
      "2022-06-10 09:19:32,077 SequenceTagger predicts: Dictionary with 20 tags: <unk>, O, S-ORG, S-MISC, B-PER, E-PER, S-LOC, B-ORG, E-ORG, I-PER, S-PER, B-MISC, I-MISC, E-MISC, I-ORG, B-LOC, E-LOC, I-LOC, <START>, <STOP>\n"
     ]
    }
   ],
   "source": [
    "from flair.models import SequenceTagger\n",
    "\n",
    "tagger2 = SequenceTagger.load(\"flair/ner-english-large\")"
   ]
  },
  {
   "cell_type": "markdown",
   "id": "ebe71e65",
   "metadata": {
    "papermill": {
     "duration": 0.025877,
     "end_time": "2022-06-10T09:19:32.766281",
     "exception": false,
     "start_time": "2022-06-10T09:19:32.740404",
     "status": "completed"
    },
    "tags": []
   },
   "source": [
    "tagger3 nerenglishlarge"
   ]
  },
  {
   "cell_type": "code",
   "execution_count": 15,
   "id": "4886e9d7",
   "metadata": {
    "execution": {
     "iopub.execute_input": "2022-06-10T09:19:32.820697Z",
     "iopub.status.busy": "2022-06-10T09:19:32.820331Z",
     "iopub.status.idle": "2022-06-10T09:21:16.583313Z",
     "shell.execute_reply": "2022-06-10T09:21:16.582512Z"
    },
    "papermill": {
     "duration": 103.79323,
     "end_time": "2022-06-10T09:21:16.585621",
     "exception": false,
     "start_time": "2022-06-10T09:19:32.792391",
     "status": "completed"
    },
    "tags": []
   },
   "outputs": [],
   "source": [
    "listenglarge=[]\n",
    "label=[]\n",
    "Per=[]\n",
    "ORG=[]\n",
    "LOC=[]\n",
    "from flair.data import Sentence\n",
    "\n",
    "dflarge=pd.DataFrame({\"text\":\"\", \"PERSON-nerenglarge\":[], \"LOC-nerenglarge\":\"\",\"ORG-nerenglarge\":\"\"})\n",
    "for i in range(2136):\n",
    "        sentencess =Sentence(all_text[i])\n",
    "        dflarge.loc[i,\"text\"]=all_text[i]\n",
    "        tagger2.predict(sentencess)\n",
    "        dc={}\n",
    "        P=[]\n",
    "        L=[]\n",
    "        G=[]\n",
    "        O=[]\n",
    "        for entity in sentencess.get_spans('ner'):\n",
    "                     \n",
    "                     if (entity.get_label(\"ner\").score > 0.90) & (entity.get_label(\"ner\").value != \"CARDINAL\") & (entity.get_label(\"ner\").value != \"LAW\")& (entity.get_label(\"ner\").value != \"QUANTITY\") & (entity.get_label(\"ner\").value != \"WORK_OF_ART\") & (entity.get_label(\"ner\").value != \"LAW\")& (entity.get_label(\"ner\").value != \"QUANTITY\") & (entity.get_label(\"ner\").value != \"EVENT\")  :\n",
    "                        dc[entity.text]= entity.get_label(\"ner\").value \n",
    "                        listenglarge.append(entity)\n",
    "        \n",
    "        \n",
    "        for j in dc :\n",
    "                if dc[j]==\"PER\":\n",
    "                      P.append(j)\n",
    "                elif (dc[j]==\"ORG\") | (dc[j]==\"MISC\") :\n",
    "                      O.append(j)\n",
    "                elif dc[j]==\"LOC\":\n",
    "                      L.append(j)\n",
    "               \n",
    "        Per.append(P)\n",
    "        ORG.append(O)\n",
    "        LOC.append(L)\n",
    "            \n",
    "\n",
    "dflarge[\"PERSON-nerenglarge\"]=Per\n",
    "dflarge[\"LOC-nerenglarge\"]=LOC\n",
    "dflarge[\"ORG-nerenglarge\"]=ORG                        "
   ]
  },
  {
   "cell_type": "code",
   "execution_count": 16,
   "id": "cf4ca966",
   "metadata": {
    "execution": {
     "iopub.execute_input": "2022-06-10T09:21:16.640240Z",
     "iopub.status.busy": "2022-06-10T09:21:16.639451Z",
     "iopub.status.idle": "2022-06-10T09:21:16.667538Z",
     "shell.execute_reply": "2022-06-10T09:21:16.666625Z"
    },
    "papermill": {
     "duration": 0.057347,
     "end_time": "2022-06-10T09:21:16.669583",
     "exception": false,
     "start_time": "2022-06-10T09:21:16.612236",
     "status": "completed"
    },
    "tags": []
   },
   "outputs": [
    {
     "data": {
      "text/html": [
       "<div>\n",
       "<style scoped>\n",
       "    .dataframe tbody tr th:only-of-type {\n",
       "        vertical-align: middle;\n",
       "    }\n",
       "\n",
       "    .dataframe tbody tr th {\n",
       "        vertical-align: top;\n",
       "    }\n",
       "\n",
       "    .dataframe thead th {\n",
       "        text-align: right;\n",
       "    }\n",
       "</style>\n",
       "<table border=\"1\" class=\"dataframe\">\n",
       "  <thead>\n",
       "    <tr style=\"text-align: right;\">\n",
       "      <th></th>\n",
       "      <th>text</th>\n",
       "      <th>PERSON-nerenglarge</th>\n",
       "      <th>LOC-nerenglarge</th>\n",
       "      <th>ORG-nerenglarge</th>\n",
       "    </tr>\n",
       "  </thead>\n",
       "  <tbody>\n",
       "    <tr>\n",
       "      <th>0</th>\n",
       "      <td>I I C Meekins of Currituck County State of Nor...</td>\n",
       "      <td>[I I C Meekins, God, Isaac C Meekins, E H Walk...</td>\n",
       "      <td>[Currituck County State of North Carolina, Uni...</td>\n",
       "      <td>[]</td>\n",
       "    </tr>\n",
       "    <tr>\n",
       "      <th>1</th>\n",
       "      <td>Department of Virginia North Carolina 1864 tak...</td>\n",
       "      <td>[]</td>\n",
       "      <td>[North Carolina, United States, States]</td>\n",
       "      <td>[Department of Virginia]</td>\n",
       "    </tr>\n",
       "    <tr>\n",
       "      <th>2</th>\n",
       "      <td>I W H Pearce of Craven County State of NorthCa...</td>\n",
       "      <td>[W H Pearce, Almighty, God, Jm E Ampetts, A B ...</td>\n",
       "      <td>[Craven County State of NorthCarolina, United ...</td>\n",
       "      <td>[]</td>\n",
       "    </tr>\n",
       "    <tr>\n",
       "      <th>3</th>\n",
       "      <td>State of North Carolina County I solemnly swea...</td>\n",
       "      <td>[God]</td>\n",
       "      <td>[State of North Carolina County, United States]</td>\n",
       "      <td>[]</td>\n",
       "    </tr>\n",
       "    <tr>\n",
       "      <th>4</th>\n",
       "      <td>State of North Carolina Wake County I SE Allen...</td>\n",
       "      <td>[SE Allen, God SE Allen Sworn, McAlpine]</td>\n",
       "      <td>[State of North Carolina, Wake County, United ...</td>\n",
       "      <td>[Res Corp]</td>\n",
       "    </tr>\n",
       "    <tr>\n",
       "      <th>...</th>\n",
       "      <td>...</td>\n",
       "      <td>...</td>\n",
       "      <td>...</td>\n",
       "      <td>...</td>\n",
       "    </tr>\n",
       "    <tr>\n",
       "      <th>2131</th>\n",
       "      <td>Office Provost Marshal Raleigh NC May 26 65 Th...</td>\n",
       "      <td>[Geo Little, Geo B Ayer, DH Grave, Hugo Hilleb...</td>\n",
       "      <td>[Raleigh, NC, Wake County State of NC, United ...</td>\n",
       "      <td>[]</td>\n",
       "    </tr>\n",
       "    <tr>\n",
       "      <th>2132</th>\n",
       "      <td>July 30th 1867 Birnie Wm Agent Bu R F A L Oath...</td>\n",
       "      <td>[]</td>\n",
       "      <td>[]</td>\n",
       "      <td>[]</td>\n",
       "    </tr>\n",
       "    <tr>\n",
       "      <th>2133</th>\n",
       "      <td>State of North Carolina Robeson County I Willi...</td>\n",
       "      <td>[William Birnie, God, Wm Birnie, Dick JP]</td>\n",
       "      <td>[Robeson County, United States]</td>\n",
       "      <td>[]</td>\n",
       "    </tr>\n",
       "    <tr>\n",
       "      <th>2134</th>\n",
       "      <td>NARA 449 102 We whose name written well person...</td>\n",
       "      <td>[AL Price, James Fulton, Fulton Price, Sgd W N...</td>\n",
       "      <td>[State of North Carolina, New Hanover County, ...</td>\n",
       "      <td>[NARA, Confederate Government, Court of Pleas,...</td>\n",
       "    </tr>\n",
       "    <tr>\n",
       "      <th>2135</th>\n",
       "      <td>NARA 450 404 Office Provost Marshall City of W...</td>\n",
       "      <td>[James Fulton, God, Wm A Cutler, I, Geo W Poll...</td>\n",
       "      <td>[Marshall, City of Wilmington NC, United State...</td>\n",
       "      <td>[NARA]</td>\n",
       "    </tr>\n",
       "  </tbody>\n",
       "</table>\n",
       "<p>2136 rows × 4 columns</p>\n",
       "</div>"
      ],
      "text/plain": [
       "                                                   text  \\\n",
       "0     I I C Meekins of Currituck County State of Nor...   \n",
       "1     Department of Virginia North Carolina 1864 tak...   \n",
       "2     I W H Pearce of Craven County State of NorthCa...   \n",
       "3     State of North Carolina County I solemnly swea...   \n",
       "4     State of North Carolina Wake County I SE Allen...   \n",
       "...                                                 ...   \n",
       "2131  Office Provost Marshal Raleigh NC May 26 65 Th...   \n",
       "2132  July 30th 1867 Birnie Wm Agent Bu R F A L Oath...   \n",
       "2133  State of North Carolina Robeson County I Willi...   \n",
       "2134  NARA 449 102 We whose name written well person...   \n",
       "2135  NARA 450 404 Office Provost Marshall City of W...   \n",
       "\n",
       "                                     PERSON-nerenglarge  \\\n",
       "0     [I I C Meekins, God, Isaac C Meekins, E H Walk...   \n",
       "1                                                    []   \n",
       "2     [W H Pearce, Almighty, God, Jm E Ampetts, A B ...   \n",
       "3                                                 [God]   \n",
       "4              [SE Allen, God SE Allen Sworn, McAlpine]   \n",
       "...                                                 ...   \n",
       "2131  [Geo Little, Geo B Ayer, DH Grave, Hugo Hilleb...   \n",
       "2132                                                 []   \n",
       "2133          [William Birnie, God, Wm Birnie, Dick JP]   \n",
       "2134  [AL Price, James Fulton, Fulton Price, Sgd W N...   \n",
       "2135  [James Fulton, God, Wm A Cutler, I, Geo W Poll...   \n",
       "\n",
       "                                        LOC-nerenglarge  \\\n",
       "0     [Currituck County State of North Carolina, Uni...   \n",
       "1               [North Carolina, United States, States]   \n",
       "2     [Craven County State of NorthCarolina, United ...   \n",
       "3       [State of North Carolina County, United States]   \n",
       "4     [State of North Carolina, Wake County, United ...   \n",
       "...                                                 ...   \n",
       "2131  [Raleigh, NC, Wake County State of NC, United ...   \n",
       "2132                                                 []   \n",
       "2133                    [Robeson County, United States]   \n",
       "2134  [State of North Carolina, New Hanover County, ...   \n",
       "2135  [Marshall, City of Wilmington NC, United State...   \n",
       "\n",
       "                                        ORG-nerenglarge  \n",
       "0                                                    []  \n",
       "1                              [Department of Virginia]  \n",
       "2                                                    []  \n",
       "3                                                    []  \n",
       "4                                            [Res Corp]  \n",
       "...                                                 ...  \n",
       "2131                                                 []  \n",
       "2132                                                 []  \n",
       "2133                                                 []  \n",
       "2134  [NARA, Confederate Government, Court of Pleas,...  \n",
       "2135                                             [NARA]  \n",
       "\n",
       "[2136 rows x 4 columns]"
      ]
     },
     "execution_count": 16,
     "metadata": {},
     "output_type": "execute_result"
    }
   ],
   "source": [
    "dflarge"
   ]
  },
  {
   "cell_type": "markdown",
   "id": "ff16e9e5",
   "metadata": {
    "papermill": {
     "duration": 0.025932,
     "end_time": "2022-06-10T09:21:16.721685",
     "exception": false,
     "start_time": "2022-06-10T09:21:16.695753",
     "status": "completed"
    },
    "tags": []
   },
   "source": [
    "tagger 2 ontonotes"
   ]
  },
  {
   "cell_type": "code",
   "execution_count": 17,
   "id": "5aac78fc",
   "metadata": {
    "execution": {
     "iopub.execute_input": "2022-06-10T09:21:16.776260Z",
     "iopub.status.busy": "2022-06-10T09:21:16.775638Z",
     "iopub.status.idle": "2022-06-10T09:23:00.022174Z",
     "shell.execute_reply": "2022-06-10T09:23:00.021318Z"
    },
    "papermill": {
     "duration": 103.276072,
     "end_time": "2022-06-10T09:23:00.024458",
     "exception": false,
     "start_time": "2022-06-10T09:21:16.748386",
     "status": "completed"
    },
    "tags": []
   },
   "outputs": [],
   "source": [
    "listoto=[]\n",
    "label=[]\n",
    "Per=[]\n",
    "Date=[]\n",
    "GPE=[]\n",
    "ORG=[]\n",
    "from flair.data import Sentence\n",
    "\n",
    "aldf=pd.DataFrame({\"text\":\"\", \"PERSON-ontonotes\":[], \"GPE-ontonotes\":\"\",\"ORG-ontonotes\":\"\", \"Date-ontonotes\":\"\"})\n",
    "for i in range(2136):\n",
    "        sentencess =Sentence(all_text[i])\n",
    "        aldf.loc[i,\"text\"]=all_text[i]\n",
    "        tagger.predict(sentencess)\n",
    "        dc={}\n",
    "        P=[]\n",
    "        D=[]\n",
    "        G=[]\n",
    "        O=[]\n",
    "        for entity in sentencess.get_spans('ner'):\n",
    "                     \n",
    "                     if (entity.get_label(\"ner\").score > 0.98) & (entity.get_label(\"ner\").value != \"CARDINAL\") & (entity.get_label(\"ner\").value != \"LAW\")& (entity.get_label(\"ner\").value != \"QUANTITY\") & (entity.get_label(\"ner\").value != \"WORK_OF_ART\") & (entity.get_label(\"ner\").value != \"LAW\")& (entity.get_label(\"ner\").value != \"QUANTITY\") & (entity.get_label(\"ner\").value != \"EVENT\")  :\n",
    "                        dc[entity.text]= entity.get_label(\"ner\").value \n",
    "                        listoto.append(entity)\n",
    "        \n",
    "        \n",
    "        for j in dc :\n",
    "                if dc[j]==\"PERSON\":\n",
    "                      P.append(j)\n",
    "                elif dc[j]==\"ORG\":\n",
    "                      O.append(j)\n",
    "                elif dc[j]==\"DATE\":\n",
    "                      D.append(j)\n",
    "                elif dc[j]==\"GPE\":\n",
    "                      G.append(j)\n",
    "        Per.append(P)\n",
    "        Date.append(D)\n",
    "        ORG.append(O)\n",
    "        GPE.append(G)\n",
    "            \n",
    "aldf[\"Date-ontonotes\"]=Date\n",
    "aldf[\"PERSON-ontonotes\"]=Per\n",
    "aldf[\"GPE-ontonotes\"]=GPE\n",
    "aldf[\"ORG-ontonotes\"]=ORG    "
   ]
  },
  {
   "cell_type": "code",
   "execution_count": 18,
   "id": "91ab6d21",
   "metadata": {
    "execution": {
     "iopub.execute_input": "2022-06-10T09:23:00.080038Z",
     "iopub.status.busy": "2022-06-10T09:23:00.079699Z",
     "iopub.status.idle": "2022-06-10T09:23:00.084860Z",
     "shell.execute_reply": "2022-06-10T09:23:00.084127Z"
    },
    "papermill": {
     "duration": 0.034339,
     "end_time": "2022-06-10T09:23:00.086661",
     "exception": false,
     "start_time": "2022-06-10T09:23:00.052322",
     "status": "completed"
    },
    "tags": []
   },
   "outputs": [
    {
     "data": {
      "text/plain": [
       "(2136, 5)"
      ]
     },
     "execution_count": 18,
     "metadata": {},
     "output_type": "execute_result"
    }
   ],
   "source": [
    "aldf.shape"
   ]
  },
  {
   "cell_type": "code",
   "execution_count": 19,
   "id": "662f96bd",
   "metadata": {
    "execution": {
     "iopub.execute_input": "2022-06-10T09:23:00.140822Z",
     "iopub.status.busy": "2022-06-10T09:23:00.140041Z",
     "iopub.status.idle": "2022-06-10T09:23:00.156725Z",
     "shell.execute_reply": "2022-06-10T09:23:00.155993Z"
    },
    "papermill": {
     "duration": 0.045704,
     "end_time": "2022-06-10T09:23:00.158382",
     "exception": false,
     "start_time": "2022-06-10T09:23:00.112678",
     "status": "completed"
    },
    "tags": []
   },
   "outputs": [
    {
     "data": {
      "text/html": [
       "<div>\n",
       "<style scoped>\n",
       "    .dataframe tbody tr th:only-of-type {\n",
       "        vertical-align: middle;\n",
       "    }\n",
       "\n",
       "    .dataframe tbody tr th {\n",
       "        vertical-align: top;\n",
       "    }\n",
       "\n",
       "    .dataframe thead th {\n",
       "        text-align: right;\n",
       "    }\n",
       "</style>\n",
       "<table border=\"1\" class=\"dataframe\">\n",
       "  <thead>\n",
       "    <tr style=\"text-align: right;\">\n",
       "      <th></th>\n",
       "      <th>text</th>\n",
       "      <th>PERSON-ontonotes</th>\n",
       "      <th>GPE-ontonotes</th>\n",
       "      <th>ORG-ontonotes</th>\n",
       "      <th>Date-ontonotes</th>\n",
       "    </tr>\n",
       "  </thead>\n",
       "  <tbody>\n",
       "    <tr>\n",
       "      <th>0</th>\n",
       "      <td>I I C Meekins of Currituck County State of Nor...</td>\n",
       "      <td>[I I C Meekins, Isaac C Meekins, E H Walker JP...</td>\n",
       "      <td>[North Carolina]</td>\n",
       "      <td>[]</td>\n",
       "      <td>[16 day of Sept AD 1865]</td>\n",
       "    </tr>\n",
       "    <tr>\n",
       "      <th>1</th>\n",
       "      <td>Department of Virginia North Carolina 1864 tak...</td>\n",
       "      <td>[]</td>\n",
       "      <td>[North Carolina, United States]</td>\n",
       "      <td>[Department of Virginia]</td>\n",
       "      <td>[1864]</td>\n",
       "    </tr>\n",
       "    <tr>\n",
       "      <th>2</th>\n",
       "      <td>I W H Pearce of Craven County State of NorthCa...</td>\n",
       "      <td>[W H Pearce, Watson]</td>\n",
       "      <td>[]</td>\n",
       "      <td>[]</td>\n",
       "      <td>[3rd day of October AD 1865]</td>\n",
       "    </tr>\n",
       "    <tr>\n",
       "      <th>3</th>\n",
       "      <td>State of North Carolina County I solemnly swea...</td>\n",
       "      <td>[]</td>\n",
       "      <td>[North Carolina County, United States]</td>\n",
       "      <td>[]</td>\n",
       "      <td>[]</td>\n",
       "    </tr>\n",
       "    <tr>\n",
       "      <th>4</th>\n",
       "      <td>State of North Carolina Wake County I SE Allen...</td>\n",
       "      <td>[Allen]</td>\n",
       "      <td>[North Carolina, Wake County, United States]</td>\n",
       "      <td>[]</td>\n",
       "      <td>[31st day of May 1867]</td>\n",
       "    </tr>\n",
       "  </tbody>\n",
       "</table>\n",
       "</div>"
      ],
      "text/plain": [
       "                                                text  \\\n",
       "0  I I C Meekins of Currituck County State of Nor...   \n",
       "1  Department of Virginia North Carolina 1864 tak...   \n",
       "2  I W H Pearce of Craven County State of NorthCa...   \n",
       "3  State of North Carolina County I solemnly swea...   \n",
       "4  State of North Carolina Wake County I SE Allen...   \n",
       "\n",
       "                                    PERSON-ontonotes  \\\n",
       "0  [I I C Meekins, Isaac C Meekins, E H Walker JP...   \n",
       "1                                                 []   \n",
       "2                               [W H Pearce, Watson]   \n",
       "3                                                 []   \n",
       "4                                            [Allen]   \n",
       "\n",
       "                                  GPE-ontonotes             ORG-ontonotes  \\\n",
       "0                              [North Carolina]                        []   \n",
       "1               [North Carolina, United States]  [Department of Virginia]   \n",
       "2                                            []                        []   \n",
       "3        [North Carolina County, United States]                        []   \n",
       "4  [North Carolina, Wake County, United States]                        []   \n",
       "\n",
       "                 Date-ontonotes  \n",
       "0      [16 day of Sept AD 1865]  \n",
       "1                        [1864]  \n",
       "2  [3rd day of October AD 1865]  \n",
       "3                            []  \n",
       "4        [31st day of May 1867]  "
      ]
     },
     "execution_count": 19,
     "metadata": {},
     "output_type": "execute_result"
    }
   ],
   "source": [
    "aldf.head()"
   ]
  },
  {
   "cell_type": "code",
   "execution_count": 20,
   "id": "07225a40",
   "metadata": {
    "execution": {
     "iopub.execute_input": "2022-06-10T09:23:00.214454Z",
     "iopub.status.busy": "2022-06-10T09:23:00.213705Z",
     "iopub.status.idle": "2022-06-10T09:23:00.218991Z",
     "shell.execute_reply": "2022-06-10T09:23:00.218279Z"
    },
    "papermill": {
     "duration": 0.035628,
     "end_time": "2022-06-10T09:23:00.220892",
     "exception": false,
     "start_time": "2022-06-10T09:23:00.185264",
     "status": "completed"
    },
    "tags": []
   },
   "outputs": [
    {
     "data": {
      "text/plain": [
       "(2136, 5)"
      ]
     },
     "execution_count": 20,
     "metadata": {},
     "output_type": "execute_result"
    }
   ],
   "source": [
    "aldf.shape"
   ]
  },
  {
   "cell_type": "markdown",
   "id": "fcf6e640",
   "metadata": {
    "papermill": {
     "duration": 0.026185,
     "end_time": "2022-06-10T09:23:00.274171",
     "exception": false,
     "start_time": "2022-06-10T09:23:00.247986",
     "status": "completed"
    },
    "tags": []
   },
   "source": [
    "# Post processing"
   ]
  },
  {
   "cell_type": "markdown",
   "id": "591b9560",
   "metadata": {
    "papermill": {
     "duration": 0.02655,
     "end_time": "2022-06-10T09:23:00.327229",
     "exception": false,
     "start_time": "2022-06-10T09:23:00.300679",
     "status": "completed"
    },
    "tags": []
   },
   "source": [
    "**For dates**"
   ]
  },
  {
   "cell_type": "code",
   "execution_count": 21,
   "id": "61c6f7df",
   "metadata": {
    "execution": {
     "iopub.execute_input": "2022-06-10T09:23:00.383090Z",
     "iopub.status.busy": "2022-06-10T09:23:00.381597Z",
     "iopub.status.idle": "2022-06-10T09:23:00.442910Z",
     "shell.execute_reply": "2022-06-10T09:23:00.442133Z"
    },
    "papermill": {
     "duration": 0.0912,
     "end_time": "2022-06-10T09:23:00.445169",
     "exception": false,
     "start_time": "2022-06-10T09:23:00.353969",
     "status": "completed"
    },
    "tags": []
   },
   "outputs": [],
   "source": [
    "G=[]\n",
    "for i in aldf[\"Date-ontonotes\"]:\n",
    "    M=[]\n",
    "    for j in i:\n",
    "        date=re.search(r'^\\d\\.*.*\\d\\d$' ,j)\n",
    "        date2=re.search(r'^[A-ZZa-z]\\.*.*\\d\\.*.*\\d\\d$' ,j)\n",
    "        M.append(date)\n",
    "        M.append(date2)\n",
    "    G.append(M)\n",
    "    \n",
    "\n",
    "GF=[]\n",
    "for i in G:\n",
    "    Final_date=[]\n",
    "    for j in i:\n",
    "        if j!=None:\n",
    "            Final_date.append(j.group())\n",
    "    GF.append(Final_date)\n",
    "\n",
    "    \n",
    "aldf[\"postDate-ontonotes\"]=GF\n",
    "            \n",
    "            \n",
    "        "
   ]
  },
  {
   "cell_type": "markdown",
   "id": "5c982618",
   "metadata": {
    "papermill": {
     "duration": 0.0267,
     "end_time": "2022-06-10T09:23:00.498702",
     "exception": false,
     "start_time": "2022-06-10T09:23:00.472002",
     "status": "completed"
    },
    "tags": []
   },
   "source": [
    "# Run this to see the extracted dates before filtring them "
   ]
  },
  {
   "cell_type": "code",
   "execution_count": 22,
   "id": "2d97f962",
   "metadata": {
    "execution": {
     "iopub.execute_input": "2022-06-10T09:23:00.552900Z",
     "iopub.status.busy": "2022-06-10T09:23:00.552556Z",
     "iopub.status.idle": "2022-06-10T09:23:00.556092Z",
     "shell.execute_reply": "2022-06-10T09:23:00.555338Z"
    },
    "papermill": {
     "duration": 0.032589,
     "end_time": "2022-06-10T09:23:00.557747",
     "exception": false,
     "start_time": "2022-06-10T09:23:00.525158",
     "status": "completed"
    },
    "tags": []
   },
   "outputs": [],
   "source": [
    "#GF"
   ]
  },
  {
   "cell_type": "code",
   "execution_count": 23,
   "id": "ddbb8288",
   "metadata": {
    "execution": {
     "iopub.execute_input": "2022-06-10T09:23:00.612802Z",
     "iopub.status.busy": "2022-06-10T09:23:00.612024Z",
     "iopub.status.idle": "2022-06-10T09:23:00.740021Z",
     "shell.execute_reply": "2022-06-10T09:23:00.739203Z"
    },
    "papermill": {
     "duration": 0.1577,
     "end_time": "2022-06-10T09:23:00.742014",
     "exception": false,
     "start_time": "2022-06-10T09:23:00.584314",
     "status": "completed"
    },
    "tags": []
   },
   "outputs": [],
   "source": [
    "G=[]\n",
    "for i in aldf[\"postDate-ontonotes\"]:\n",
    "    M=[]\n",
    "    for j in i:\n",
    "        Final_date1=re.sub(r'([0-9]{1,2})\\.*.*\\s([A-Z][a-z]\\S*)\\.*.*\\s([0-9]{2,4})',r'\\1-\\2-\\3' ,j)\n",
    "        Final_date2=re.sub(r'([A-Z]\\.*.*)\\s([0-9]{1,2})\\.*.*\\s([0-9]{2,4})',r'\\2-\\1-\\3' ,j)\n",
    "        final_date3=re.sub(r'([A-Z][a-z]\\S*)\\.*.*\\s([A-Z][a-z]\\S*)\\.*.*\\s([0-9]{2,4})',r'\\1-\\2-\\3' ,j)\n",
    "        final_date4=re.sub(r'(^[A-Za-z]\\S*.*.)day\\.*.*\\s([A-Z][a-z]\\S*)\\.*.*\\s([0-9]{2,4})',r'\\1-\\2-\\3' ,j)\n",
    "        if Final_date1 != j:   \n",
    "            M.append(Final_date1)\n",
    "        if Final_date2 != j :\n",
    "            M.append(Final_date2)\n",
    "        if final_date3 != j :\n",
    "            M.append(final_date3)\n",
    "        if final_date4 != j :\n",
    "            M.append(final_date4)\n",
    "    G.append(M)\n",
    "    \n",
    "\n",
    "aldf[\"postDate-ontonotes\"]=G"
   ]
  },
  {
   "cell_type": "markdown",
   "id": "dfc3df8f",
   "metadata": {
    "papermill": {
     "duration": 0.026574,
     "end_time": "2022-06-10T09:23:00.796190",
     "exception": false,
     "start_time": "2022-06-10T09:23:00.769616",
     "status": "completed"
    },
    "tags": []
   },
   "source": [
    "**great !**"
   ]
  },
  {
   "cell_type": "markdown",
   "id": "6fbe07a5",
   "metadata": {
    "papermill": {
     "duration": 0.02681,
     "end_time": "2022-06-10T09:23:00.849523",
     "exception": false,
     "start_time": "2022-06-10T09:23:00.822713",
     "status": "completed"
    },
    "tags": []
   },
   "source": [
    "****"
   ]
  },
  {
   "cell_type": "markdown",
   "id": "f1d9f64d",
   "metadata": {
    "papermill": {
     "duration": 0.026352,
     "end_time": "2022-06-10T09:23:00.902674",
     "exception": false,
     "start_time": "2022-06-10T09:23:00.876322",
     "status": "completed"
    },
    "tags": []
   },
   "source": [
    "****"
   ]
  },
  {
   "cell_type": "code",
   "execution_count": 24,
   "id": "27dcc4a7",
   "metadata": {
    "execution": {
     "iopub.execute_input": "2022-06-10T09:23:00.957741Z",
     "iopub.status.busy": "2022-06-10T09:23:00.957343Z",
     "iopub.status.idle": "2022-06-10T09:23:00.972154Z",
     "shell.execute_reply": "2022-06-10T09:23:00.971401Z"
    },
    "papermill": {
     "duration": 0.044392,
     "end_time": "2022-06-10T09:23:00.974203",
     "exception": false,
     "start_time": "2022-06-10T09:23:00.929811",
     "status": "completed"
    },
    "tags": []
   },
   "outputs": [
    {
     "data": {
      "text/html": [
       "<div>\n",
       "<style scoped>\n",
       "    .dataframe tbody tr th:only-of-type {\n",
       "        vertical-align: middle;\n",
       "    }\n",
       "\n",
       "    .dataframe tbody tr th {\n",
       "        vertical-align: top;\n",
       "    }\n",
       "\n",
       "    .dataframe thead th {\n",
       "        text-align: right;\n",
       "    }\n",
       "</style>\n",
       "<table border=\"1\" class=\"dataframe\">\n",
       "  <thead>\n",
       "    <tr style=\"text-align: right;\">\n",
       "      <th></th>\n",
       "      <th>text</th>\n",
       "      <th>PERSON-nerenglarge</th>\n",
       "      <th>LOC-nerenglarge</th>\n",
       "      <th>ORG-nerenglarge</th>\n",
       "    </tr>\n",
       "  </thead>\n",
       "  <tbody>\n",
       "    <tr>\n",
       "      <th>0</th>\n",
       "      <td>I I C Meekins of Currituck County State of Nor...</td>\n",
       "      <td>[I I C Meekins, God, Isaac C Meekins, E H Walk...</td>\n",
       "      <td>[Currituck County State of North Carolina, Uni...</td>\n",
       "      <td>[]</td>\n",
       "    </tr>\n",
       "    <tr>\n",
       "      <th>1</th>\n",
       "      <td>Department of Virginia North Carolina 1864 tak...</td>\n",
       "      <td>[]</td>\n",
       "      <td>[North Carolina, United States, States]</td>\n",
       "      <td>[Department of Virginia]</td>\n",
       "    </tr>\n",
       "    <tr>\n",
       "      <th>2</th>\n",
       "      <td>I W H Pearce of Craven County State of NorthCa...</td>\n",
       "      <td>[W H Pearce, Almighty, God, Jm E Ampetts, A B ...</td>\n",
       "      <td>[Craven County State of NorthCarolina, United ...</td>\n",
       "      <td>[]</td>\n",
       "    </tr>\n",
       "    <tr>\n",
       "      <th>3</th>\n",
       "      <td>State of North Carolina County I solemnly swea...</td>\n",
       "      <td>[God]</td>\n",
       "      <td>[State of North Carolina County, United States]</td>\n",
       "      <td>[]</td>\n",
       "    </tr>\n",
       "    <tr>\n",
       "      <th>4</th>\n",
       "      <td>State of North Carolina Wake County I SE Allen...</td>\n",
       "      <td>[SE Allen, God SE Allen Sworn, McAlpine]</td>\n",
       "      <td>[State of North Carolina, Wake County, United ...</td>\n",
       "      <td>[Res Corp]</td>\n",
       "    </tr>\n",
       "  </tbody>\n",
       "</table>\n",
       "</div>"
      ],
      "text/plain": [
       "                                                text  \\\n",
       "0  I I C Meekins of Currituck County State of Nor...   \n",
       "1  Department of Virginia North Carolina 1864 tak...   \n",
       "2  I W H Pearce of Craven County State of NorthCa...   \n",
       "3  State of North Carolina County I solemnly swea...   \n",
       "4  State of North Carolina Wake County I SE Allen...   \n",
       "\n",
       "                                  PERSON-nerenglarge  \\\n",
       "0  [I I C Meekins, God, Isaac C Meekins, E H Walk...   \n",
       "1                                                 []   \n",
       "2  [W H Pearce, Almighty, God, Jm E Ampetts, A B ...   \n",
       "3                                              [God]   \n",
       "4           [SE Allen, God SE Allen Sworn, McAlpine]   \n",
       "\n",
       "                                     LOC-nerenglarge           ORG-nerenglarge  \n",
       "0  [Currituck County State of North Carolina, Uni...                        []  \n",
       "1            [North Carolina, United States, States]  [Department of Virginia]  \n",
       "2  [Craven County State of NorthCarolina, United ...                        []  \n",
       "3    [State of North Carolina County, United States]                        []  \n",
       "4  [State of North Carolina, Wake County, United ...                [Res Corp]  "
      ]
     },
     "execution_count": 24,
     "metadata": {},
     "output_type": "execute_result"
    }
   ],
   "source": [
    "dflarge.head()"
   ]
  },
  {
   "cell_type": "code",
   "execution_count": 25,
   "id": "133a1b8f",
   "metadata": {
    "execution": {
     "iopub.execute_input": "2022-06-10T09:23:01.029720Z",
     "iopub.status.busy": "2022-06-10T09:23:01.029367Z",
     "iopub.status.idle": "2022-06-10T09:23:01.036591Z",
     "shell.execute_reply": "2022-06-10T09:23:01.035875Z"
    },
    "papermill": {
     "duration": 0.036569,
     "end_time": "2022-06-10T09:23:01.038246",
     "exception": false,
     "start_time": "2022-06-10T09:23:01.001677",
     "status": "completed"
    },
    "tags": []
   },
   "outputs": [],
   "source": [
    "aldf[\"Person-NerEngLarge\"]=dflarge[\"PERSON-nerenglarge\"]\n",
    "aldf[\"LOC-NerEngLarge\"]=dflarge[\"LOC-nerenglarge\"]\n",
    "aldf[\"ORG-NerEngLarge\"]=dflarge[\"ORG-nerenglarge\"]\n"
   ]
  },
  {
   "cell_type": "code",
   "execution_count": 26,
   "id": "c01e5ec4",
   "metadata": {
    "execution": {
     "iopub.execute_input": "2022-06-10T09:23:01.094103Z",
     "iopub.status.busy": "2022-06-10T09:23:01.093583Z",
     "iopub.status.idle": "2022-06-10T09:23:01.104549Z",
     "shell.execute_reply": "2022-06-10T09:23:01.103389Z"
    },
    "papermill": {
     "duration": 0.040574,
     "end_time": "2022-06-10T09:23:01.106345",
     "exception": false,
     "start_time": "2022-06-10T09:23:01.065771",
     "status": "completed"
    },
    "tags": []
   },
   "outputs": [],
   "source": [
    "allPerson=[]\n",
    "for i in aldf[\"PERSON-ontonotes\"]:\n",
    "            allPerson.append(i)\n",
    "allDatess=[]\n",
    "for i in aldf[\"Date-ontonotes\"]:\n",
    "            allDatess.append(i)\n",
    "allpostdates=[]\n",
    "for i in aldf[\"postDate-ontonotes\"]:\n",
    "            allpostdates.append(i)\n",
    "allGPE=[]\n",
    "for i in aldf[\"GPE-ontonotes\"]:\n",
    "            allGPE.append(i)\n",
    "alORGl=[]\n",
    "for i in aldf[\"ORG-ontonotes\"]:\n",
    "            alORGl.append(i)"
   ]
  },
  {
   "cell_type": "markdown",
   "id": "d4cbe1cd",
   "metadata": {
    "papermill": {
     "duration": 0.027156,
     "end_time": "2022-06-10T09:23:01.160100",
     "exception": false,
     "start_time": "2022-06-10T09:23:01.132944",
     "status": "completed"
    },
    "tags": []
   },
   "source": [
    "****"
   ]
  },
  {
   "cell_type": "code",
   "execution_count": 27,
   "id": "28f24232",
   "metadata": {
    "execution": {
     "iopub.execute_input": "2022-06-10T09:23:01.215961Z",
     "iopub.status.busy": "2022-06-10T09:23:01.215618Z",
     "iopub.status.idle": "2022-06-10T09:23:01.223970Z",
     "shell.execute_reply": "2022-06-10T09:23:01.223140Z"
    },
    "papermill": {
     "duration": 0.038581,
     "end_time": "2022-06-10T09:23:01.225631",
     "exception": false,
     "start_time": "2022-06-10T09:23:01.187050",
     "status": "completed"
    },
    "tags": []
   },
   "outputs": [],
   "source": [
    "Personlarge=[]\n",
    "for i in dflarge[\"PERSON-nerenglarge\"]:\n",
    "            Personlarge.append(i)\n",
    "ORGlarge=[]\n",
    "for i in dflarge[\"ORG-nerenglarge\"]:\n",
    "            ORGlarge.append(i) \n",
    "LOClarge=[]\n",
    "for i in dflarge[\"LOC-nerenglarge\"]:\n",
    "            LOClarge.append(i)"
   ]
  },
  {
   "cell_type": "markdown",
   "id": "edf1010f",
   "metadata": {
    "papermill": {
     "duration": 0.026385,
     "end_time": "2022-06-10T09:23:01.279144",
     "exception": false,
     "start_time": "2022-06-10T09:23:01.252759",
     "status": "completed"
    },
    "tags": []
   },
   "source": [
    "* as usual , ner English Large is better in extracting Person \n",
    "* ontonotes is thes best in extracting dates after good postprocessing and filtring almost all pattern \n",
    "* ner Engish Large  also better in Location and Oranization "
   ]
  },
  {
   "cell_type": "markdown",
   "id": "a85ea837",
   "metadata": {
    "papermill": {
     "duration": 0.026635,
     "end_time": "2022-06-10T09:23:01.332667",
     "exception": false,
     "start_time": "2022-06-10T09:23:01.306032",
     "status": "completed"
    },
    "tags": []
   },
   "source": [
    "# dates"
   ]
  },
  {
   "cell_type": "markdown",
   "id": "5836ecff",
   "metadata": {
    "papermill": {
     "duration": 0.026362,
     "end_time": "2022-06-10T09:23:01.385592",
     "exception": false,
     "start_time": "2022-06-10T09:23:01.359230",
     "status": "completed"
    },
    "tags": []
   },
   "source": [
    "**run those cells to take a look at the result more clearly**"
   ]
  },
  {
   "cell_type": "code",
   "execution_count": 28,
   "id": "cebf2100",
   "metadata": {
    "execution": {
     "iopub.execute_input": "2022-06-10T09:23:01.441337Z",
     "iopub.status.busy": "2022-06-10T09:23:01.440523Z",
     "iopub.status.idle": "2022-06-10T09:23:01.444986Z",
     "shell.execute_reply": "2022-06-10T09:23:01.444151Z"
    },
    "papermill": {
     "duration": 0.034529,
     "end_time": "2022-06-10T09:23:01.446736",
     "exception": false,
     "start_time": "2022-06-10T09:23:01.412207",
     "status": "completed"
    },
    "tags": []
   },
   "outputs": [],
   "source": [
    "#G"
   ]
  },
  {
   "cell_type": "markdown",
   "id": "0c916c86",
   "metadata": {
    "papermill": {
     "duration": 0.026522,
     "end_time": "2022-06-10T09:23:01.501564",
     "exception": false,
     "start_time": "2022-06-10T09:23:01.475042",
     "status": "completed"
    },
    "tags": []
   },
   "source": [
    "# Person"
   ]
  },
  {
   "cell_type": "code",
   "execution_count": 29,
   "id": "ccd6cc03",
   "metadata": {
    "execution": {
     "iopub.execute_input": "2022-06-10T09:23:01.557107Z",
     "iopub.status.busy": "2022-06-10T09:23:01.556307Z",
     "iopub.status.idle": "2022-06-10T09:23:01.560295Z",
     "shell.execute_reply": "2022-06-10T09:23:01.559435Z"
    },
    "papermill": {
     "duration": 0.034012,
     "end_time": "2022-06-10T09:23:01.562094",
     "exception": false,
     "start_time": "2022-06-10T09:23:01.528082",
     "status": "completed"
    },
    "tags": []
   },
   "outputs": [],
   "source": [
    " # Personlarge"
   ]
  },
  {
   "cell_type": "markdown",
   "id": "94c0e143",
   "metadata": {
    "papermill": {
     "duration": 0.026582,
     "end_time": "2022-06-10T09:23:01.615424",
     "exception": false,
     "start_time": "2022-06-10T09:23:01.588842",
     "status": "completed"
    },
    "tags": []
   },
   "source": [
    "# LOC and ORG "
   ]
  },
  {
   "cell_type": "code",
   "execution_count": 30,
   "id": "23148471",
   "metadata": {
    "execution": {
     "iopub.execute_input": "2022-06-10T09:23:01.670580Z",
     "iopub.status.busy": "2022-06-10T09:23:01.669747Z",
     "iopub.status.idle": "2022-06-10T09:23:01.673509Z",
     "shell.execute_reply": "2022-06-10T09:23:01.672733Z"
    },
    "papermill": {
     "duration": 0.032986,
     "end_time": "2022-06-10T09:23:01.675122",
     "exception": false,
     "start_time": "2022-06-10T09:23:01.642136",
     "status": "completed"
    },
    "tags": []
   },
   "outputs": [],
   "source": [
    "# LOClarge"
   ]
  },
  {
   "cell_type": "code",
   "execution_count": 31,
   "id": "f186e3d4",
   "metadata": {
    "execution": {
     "iopub.execute_input": "2022-06-10T09:23:01.731247Z",
     "iopub.status.busy": "2022-06-10T09:23:01.730491Z",
     "iopub.status.idle": "2022-06-10T09:23:01.737044Z",
     "shell.execute_reply": "2022-06-10T09:23:01.736300Z"
    },
    "papermill": {
     "duration": 0.037201,
     "end_time": "2022-06-10T09:23:01.738999",
     "exception": false,
     "start_time": "2022-06-10T09:23:01.701798",
     "status": "completed"
    },
    "tags": []
   },
   "outputs": [
    {
     "data": {
      "text/plain": [
       "[['United States of America', 'Charleston SC'],\n",
       " ['United States of America', 'South Carolina', 'Charleston SC'],\n",
       " ['United States of America', 'Charleston'],\n",
       " ['Charleston', 'Charleston SC', 'United States'],\n",
       " ['Charleston', 'United States of America', 'Charleston SC'],\n",
       " ['United States of America', 'Blackville'],\n",
       " ['United States of America', 'South Carolina', 'United States', 'Blackville'],\n",
       " ['United States of America', 'Blackville'],\n",
       " ['United States of America', 'Charleston SC', 'Charleston', 'South Carolina'],\n",
       " ['United States of America', 'Charleston SC'],\n",
       " ['United States of America',\n",
       "  'NO UNITED STATES OF AMERICA',\n",
       "  'Charlestown',\n",
       "  'South Carolina'],\n",
       " ['United States of America', 'South Carolina'],\n",
       " ['United States of America',\n",
       "  'UNITED STATES OF AMERICA',\n",
       "  'Charleston District',\n",
       "  'South Carolina'],\n",
       " ['United States of America', 'Charleston SC'],\n",
       " ['United States Of America',\n",
       "  'Charleston SC',\n",
       "  'UNITED STATES OF America',\n",
       "  'Charleston'],\n",
       " ['South Carolina'],\n",
       " ['United States of America', 'Brisbane', 'Albany'],\n",
       " ['United States of America', 'Charleston'],\n",
       " ['United States of America'],\n",
       " []]"
      ]
     },
     "execution_count": 31,
     "metadata": {},
     "output_type": "execute_result"
    }
   ],
   "source": [
    "allGPE[1000:1020]"
   ]
  },
  {
   "cell_type": "code",
   "execution_count": 32,
   "id": "21a43541",
   "metadata": {
    "execution": {
     "iopub.execute_input": "2022-06-10T09:23:01.795948Z",
     "iopub.status.busy": "2022-06-10T09:23:01.795178Z",
     "iopub.status.idle": "2022-06-10T09:23:01.800509Z",
     "shell.execute_reply": "2022-06-10T09:23:01.799732Z"
    },
    "papermill": {
     "duration": 0.035413,
     "end_time": "2022-06-10T09:23:01.802293",
     "exception": false,
     "start_time": "2022-06-10T09:23:01.766880",
     "status": "completed"
    },
    "tags": []
   },
   "outputs": [
    {
     "data": {
      "text/plain": [
       "'State of South Carolina I James E Thuring of Barnwell District solemnly swear I carefully read amnesty proclamation issued Andrew Johnson President of United States of America May 29 1865 I excepted benefit Proclamation one of fourteen exception therein made J E Thuring Sworn subscribed 23d day of November AD 1865 Aiken SC Fredk A Ford Magistrate Barnwell Dist SC'"
      ]
     },
     "execution_count": 32,
     "metadata": {},
     "output_type": "execute_result"
    }
   ],
   "source": [
    "all_text[1020]"
   ]
  },
  {
   "cell_type": "code",
   "execution_count": 33,
   "id": "f4d5b4e1",
   "metadata": {
    "execution": {
     "iopub.execute_input": "2022-06-10T09:23:01.858225Z",
     "iopub.status.busy": "2022-06-10T09:23:01.857426Z",
     "iopub.status.idle": "2022-06-10T09:23:01.862887Z",
     "shell.execute_reply": "2022-06-10T09:23:01.862139Z"
    },
    "papermill": {
     "duration": 0.0356,
     "end_time": "2022-06-10T09:23:01.864791",
     "exception": false,
     "start_time": "2022-06-10T09:23:01.829191",
     "status": "completed"
    },
    "tags": []
   },
   "outputs": [
    {
     "data": {
      "text/plain": [
       "['United States of America',\n",
       " 'Charleston',\n",
       " 'SC',\n",
       " 'Unites States of America',\n",
       " 'City of Charleston',\n",
       " 'State of South Carolina',\n",
       " 'United States Union of States']"
      ]
     },
     "execution_count": 33,
     "metadata": {},
     "output_type": "execute_result"
    }
   ],
   "source": [
    "LOClarge[1200]"
   ]
  },
  {
   "cell_type": "markdown",
   "id": "b2f2de0a",
   "metadata": {
    "papermill": {
     "duration": 0.026572,
     "end_time": "2022-06-10T09:23:01.918679",
     "exception": false,
     "start_time": "2022-06-10T09:23:01.892107",
     "status": "completed"
    },
    "tags": []
   },
   "source": [
    "# the final dataset :"
   ]
  },
  {
   "cell_type": "code",
   "execution_count": 34,
   "id": "9f181a29",
   "metadata": {
    "execution": {
     "iopub.execute_input": "2022-06-10T09:23:01.973836Z",
     "iopub.status.busy": "2022-06-10T09:23:01.973171Z",
     "iopub.status.idle": "2022-06-10T09:23:01.979252Z",
     "shell.execute_reply": "2022-06-10T09:23:01.978519Z"
    },
    "papermill": {
     "duration": 0.035717,
     "end_time": "2022-06-10T09:23:01.981118",
     "exception": false,
     "start_time": "2022-06-10T09:23:01.945401",
     "status": "completed"
    },
    "tags": []
   },
   "outputs": [
    {
     "data": {
      "text/plain": [
       "[['I I C Meekins',\n",
       "  'God',\n",
       "  'Isaac C Meekins',\n",
       "  'E H Walker',\n",
       "  'I C Meekins',\n",
       "  'John B Etheridge'],\n",
       " [],\n",
       " ['W H Pearce', 'Almighty', 'God', 'Jm E Ampetts', 'A B Watson'],\n",
       " ['God'],\n",
       " ['SE Allen', 'God SE Allen Sworn', 'McAlpine'],\n",
       " ['Sarah E Dough', 'God', 'Isaac C Merkins'],\n",
       " ['Sarah E Dough', 'JM Wilson'],\n",
       " ['I', 'W T Dough', 'God', 'E H Walker', 'John B Etheridge'],\n",
       " ['Jesse E Dough', 'Almighty', 'God', 'Isaac C Meekins', 'A D Etheridge'],\n",
       " ['I T A Dough', 'God', 'John B Etheridge', 'T A Dough']]"
      ]
     },
     "execution_count": 34,
     "metadata": {},
     "output_type": "execute_result"
    }
   ],
   "source": [
    "Personlarge[:10]"
   ]
  },
  {
   "cell_type": "code",
   "execution_count": 35,
   "id": "77f58649",
   "metadata": {
    "execution": {
     "iopub.execute_input": "2022-06-10T09:23:02.038029Z",
     "iopub.status.busy": "2022-06-10T09:23:02.037438Z",
     "iopub.status.idle": "2022-06-10T09:23:02.062152Z",
     "shell.execute_reply": "2022-06-10T09:23:02.061439Z"
    },
    "papermill": {
     "duration": 0.05537,
     "end_time": "2022-06-10T09:23:02.063954",
     "exception": false,
     "start_time": "2022-06-10T09:23:02.008584",
     "status": "completed"
    },
    "tags": []
   },
   "outputs": [
    {
     "data": {
      "text/html": [
       "<div>\n",
       "<style scoped>\n",
       "    .dataframe tbody tr th:only-of-type {\n",
       "        vertical-align: middle;\n",
       "    }\n",
       "\n",
       "    .dataframe tbody tr th {\n",
       "        vertical-align: top;\n",
       "    }\n",
       "\n",
       "    .dataframe thead th {\n",
       "        text-align: right;\n",
       "    }\n",
       "</style>\n",
       "<table border=\"1\" class=\"dataframe\">\n",
       "  <thead>\n",
       "    <tr style=\"text-align: right;\">\n",
       "      <th></th>\n",
       "      <th>text</th>\n",
       "      <th>PERSON-ontonotes</th>\n",
       "      <th>GPE-ontonotes</th>\n",
       "      <th>ORG-ontonotes</th>\n",
       "      <th>Date-ontonotes</th>\n",
       "      <th>postDate-ontonotes</th>\n",
       "      <th>Person-NerEngLarge</th>\n",
       "      <th>LOC-NerEngLarge</th>\n",
       "      <th>ORG-NerEngLarge</th>\n",
       "    </tr>\n",
       "  </thead>\n",
       "  <tbody>\n",
       "    <tr>\n",
       "      <th>0</th>\n",
       "      <td>I I C Meekins of Currituck County State of Nor...</td>\n",
       "      <td>[I I C Meekins, Isaac C Meekins, E H Walker JP...</td>\n",
       "      <td>[North Carolina]</td>\n",
       "      <td>[]</td>\n",
       "      <td>[16 day of Sept AD 1865]</td>\n",
       "      <td>[16-Sept-1865]</td>\n",
       "      <td>[I I C Meekins, God, Isaac C Meekins, E H Walk...</td>\n",
       "      <td>[Currituck County State of North Carolina, Uni...</td>\n",
       "      <td>[]</td>\n",
       "    </tr>\n",
       "    <tr>\n",
       "      <th>1</th>\n",
       "      <td>Department of Virginia North Carolina 1864 tak...</td>\n",
       "      <td>[]</td>\n",
       "      <td>[North Carolina, United States]</td>\n",
       "      <td>[Department of Virginia]</td>\n",
       "      <td>[1864]</td>\n",
       "      <td>[]</td>\n",
       "      <td>[]</td>\n",
       "      <td>[North Carolina, United States, States]</td>\n",
       "      <td>[Department of Virginia]</td>\n",
       "    </tr>\n",
       "    <tr>\n",
       "      <th>2</th>\n",
       "      <td>I W H Pearce of Craven County State of NorthCa...</td>\n",
       "      <td>[W H Pearce, Watson]</td>\n",
       "      <td>[]</td>\n",
       "      <td>[]</td>\n",
       "      <td>[3rd day of October AD 1865]</td>\n",
       "      <td>[3-October-1865]</td>\n",
       "      <td>[W H Pearce, Almighty, God, Jm E Ampetts, A B ...</td>\n",
       "      <td>[Craven County State of NorthCarolina, United ...</td>\n",
       "      <td>[]</td>\n",
       "    </tr>\n",
       "    <tr>\n",
       "      <th>3</th>\n",
       "      <td>State of North Carolina County I solemnly swea...</td>\n",
       "      <td>[]</td>\n",
       "      <td>[North Carolina County, United States]</td>\n",
       "      <td>[]</td>\n",
       "      <td>[]</td>\n",
       "      <td>[]</td>\n",
       "      <td>[God]</td>\n",
       "      <td>[State of North Carolina County, United States]</td>\n",
       "      <td>[]</td>\n",
       "    </tr>\n",
       "    <tr>\n",
       "      <th>4</th>\n",
       "      <td>State of North Carolina Wake County I SE Allen...</td>\n",
       "      <td>[Allen]</td>\n",
       "      <td>[North Carolina, Wake County, United States]</td>\n",
       "      <td>[]</td>\n",
       "      <td>[31st day of May 1867]</td>\n",
       "      <td>[31-May-1867]</td>\n",
       "      <td>[SE Allen, God SE Allen Sworn, McAlpine]</td>\n",
       "      <td>[State of North Carolina, Wake County, United ...</td>\n",
       "      <td>[Res Corp]</td>\n",
       "    </tr>\n",
       "  </tbody>\n",
       "</table>\n",
       "</div>"
      ],
      "text/plain": [
       "                                                text  \\\n",
       "0  I I C Meekins of Currituck County State of Nor...   \n",
       "1  Department of Virginia North Carolina 1864 tak...   \n",
       "2  I W H Pearce of Craven County State of NorthCa...   \n",
       "3  State of North Carolina County I solemnly swea...   \n",
       "4  State of North Carolina Wake County I SE Allen...   \n",
       "\n",
       "                                    PERSON-ontonotes  \\\n",
       "0  [I I C Meekins, Isaac C Meekins, E H Walker JP...   \n",
       "1                                                 []   \n",
       "2                               [W H Pearce, Watson]   \n",
       "3                                                 []   \n",
       "4                                            [Allen]   \n",
       "\n",
       "                                  GPE-ontonotes             ORG-ontonotes  \\\n",
       "0                              [North Carolina]                        []   \n",
       "1               [North Carolina, United States]  [Department of Virginia]   \n",
       "2                                            []                        []   \n",
       "3        [North Carolina County, United States]                        []   \n",
       "4  [North Carolina, Wake County, United States]                        []   \n",
       "\n",
       "                 Date-ontonotes postDate-ontonotes  \\\n",
       "0      [16 day of Sept AD 1865]     [16-Sept-1865]   \n",
       "1                        [1864]                 []   \n",
       "2  [3rd day of October AD 1865]   [3-October-1865]   \n",
       "3                            []                 []   \n",
       "4        [31st day of May 1867]      [31-May-1867]   \n",
       "\n",
       "                                  Person-NerEngLarge  \\\n",
       "0  [I I C Meekins, God, Isaac C Meekins, E H Walk...   \n",
       "1                                                 []   \n",
       "2  [W H Pearce, Almighty, God, Jm E Ampetts, A B ...   \n",
       "3                                              [God]   \n",
       "4           [SE Allen, God SE Allen Sworn, McAlpine]   \n",
       "\n",
       "                                     LOC-NerEngLarge           ORG-NerEngLarge  \n",
       "0  [Currituck County State of North Carolina, Uni...                        []  \n",
       "1            [North Carolina, United States, States]  [Department of Virginia]  \n",
       "2  [Craven County State of NorthCarolina, United ...                        []  \n",
       "3    [State of North Carolina County, United States]                        []  \n",
       "4  [State of North Carolina, Wake County, United ...                [Res Corp]  "
      ]
     },
     "execution_count": 35,
     "metadata": {},
     "output_type": "execute_result"
    }
   ],
   "source": [
    "aldf.head()"
   ]
  },
  {
   "cell_type": "markdown",
   "id": "34f492ef",
   "metadata": {
    "papermill": {
     "duration": 0.027168,
     "end_time": "2022-06-10T09:23:02.118593",
     "exception": false,
     "start_time": "2022-06-10T09:23:02.091425",
     "status": "completed"
    },
    "tags": []
   },
   "source": [
    "# list of ontonotes entity"
   ]
  },
  {
   "cell_type": "markdown",
   "id": "63767c45",
   "metadata": {
    "papermill": {
     "duration": 0.027161,
     "end_time": "2022-06-10T09:23:02.173317",
     "exception": false,
     "start_time": "2022-06-10T09:23:02.146156",
     "status": "completed"
    },
    "tags": []
   },
   "source": [
    "# abdesslem  please tell me if those lists i will pickle them ? because like that i won't know which one belongs to the first or the second text ??"
   ]
  },
  {
   "cell_type": "markdown",
   "id": "2e5a4061",
   "metadata": {
    "papermill": {
     "duration": 0.026835,
     "end_time": "2022-06-10T09:23:02.227427",
     "exception": false,
     "start_time": "2022-06-10T09:23:02.200592",
     "status": "completed"
    },
    "tags": []
   },
   "source": [
    "# Pickle"
   ]
  },
  {
   "cell_type": "code",
   "execution_count": 36,
   "id": "f0a464d3",
   "metadata": {
    "execution": {
     "iopub.execute_input": "2022-06-10T09:23:02.284167Z",
     "iopub.status.busy": "2022-06-10T09:23:02.283820Z",
     "iopub.status.idle": "2022-06-10T09:23:02.287611Z",
     "shell.execute_reply": "2022-06-10T09:23:02.286836Z"
    },
    "papermill": {
     "duration": 0.034434,
     "end_time": "2022-06-10T09:23:02.289276",
     "exception": false,
     "start_time": "2022-06-10T09:23:02.254842",
     "status": "completed"
    },
    "tags": []
   },
   "outputs": [],
   "source": [
    "# import pickle\n",
    "# my_pickled_list = pickle.dumps(listoto)  # Pickling the object\n",
    "# print(f\"This is my pickled object:\\n{my_pickled_list}\\n\")\n",
    "\n",
    "# my_pickled_list\n",
    "\n",
    "# my_unpickled_object = pickle.loads(my_pickled_list)  # Unpickling the object\n",
    "# print(\n",
    "#     f\"This is a_dict of the unpickled object:\\n{my_unpickled_object}\\n\")\n",
    "\n",
    "\n",
    "# my_unpickled_object"
   ]
  },
  {
   "cell_type": "code",
   "execution_count": 37,
   "id": "fe97149e",
   "metadata": {
    "execution": {
     "iopub.execute_input": "2022-06-10T09:23:02.346627Z",
     "iopub.status.busy": "2022-06-10T09:23:02.345888Z",
     "iopub.status.idle": "2022-06-10T09:23:02.349956Z",
     "shell.execute_reply": "2022-06-10T09:23:02.349151Z"
    },
    "papermill": {
     "duration": 0.034715,
     "end_time": "2022-06-10T09:23:02.351682",
     "exception": false,
     "start_time": "2022-06-10T09:23:02.316967",
     "status": "completed"
    },
    "tags": []
   },
   "outputs": [],
   "source": [
    "# L=[]\n",
    "# for i in G:\n",
    "#        for j in range(len(i)):\n",
    "#             while i[j]!=\"-\":\n",
    "#                 L.append(i[j])\n",
    "#             j=j+1\n",
    "        "
   ]
  },
  {
   "cell_type": "code",
   "execution_count": 38,
   "id": "fcf7a919",
   "metadata": {
    "execution": {
     "iopub.execute_input": "2022-06-10T09:23:02.409086Z",
     "iopub.status.busy": "2022-06-10T09:23:02.408760Z",
     "iopub.status.idle": "2022-06-10T09:23:02.412952Z",
     "shell.execute_reply": "2022-06-10T09:23:02.412225Z"
    },
    "papermill": {
     "duration": 0.035337,
     "end_time": "2022-06-10T09:23:02.414591",
     "exception": false,
     "start_time": "2022-06-10T09:23:02.379254",
     "status": "completed"
    },
    "tags": []
   },
   "outputs": [],
   "source": [
    "# if i[1] in [\"August\",\"Aug\",\"augt\",\"AUGUST\"]:\n",
    "#         i[1]= \"August\"\n",
    "#     elif i[1] in [\"September\",\"Sept\",\"SEP\",\"Sep\",\"Septr\",\"SEPTEMBER\"]:\n",
    "#         i[1]= \"Septembre\"\n",
    "#     elif i[1] in [\"October\",\"Oct\",\"OCT\",\"OCTOBER\"]:\n",
    "#         i[1]= \"October\"\n",
    "#     elif i[1] in [\"November\",\"NOV\",\"Nov\",\"Novmbr\",\"Nvbr\",\"Novb\",\"NOVEMBER\"]:\n",
    "#         i[1]= \"November\"\n",
    "#     elif i[1] in [\"December\",\"Dec\",\"Decbr\",\"DEC\",\"DECEMBER\"]:\n",
    "#         i[1]= \"December\"\n",
    "#     elif i[1] in [\"January\",\"Janry\",\"Jan\",\"Jany\",\"JAN\",\"Janur\",\"JANUARY\"]:\n",
    "#         i[1]= \"January\"\n",
    "#     elif i[1] in [\"February\",\"Feby\",\"Febry\",\"FEB\",\"FEBRUARY\"]:\n",
    "#         i[1]= \"February\"\n",
    "#     elif i[1] in [\"March\",\"Mar\"]:\n",
    "#         i[1]= \"March\"\n",
    "#     elif i[1] in [\"April\",\"Apl\",\"Aprl\",\"APRIL\"]:\n",
    "#         i[1]= \"April\"\n",
    "#     elif i[1] in [\"May\",\"MAY\"]:\n",
    "#         i[1]= \"May\"\n",
    "#     elif i[1] in [\"JUN\",\"Jun\",\"June\"]:\n",
    "#         i[1]= \"June\"\n",
    "#     elif i[1] in [\"JULY\",\"July\",\"JUL\"]:\n",
    "#         i[1]= \"July\"\n",
    "    "
   ]
  },
  {
   "cell_type": "code",
   "execution_count": 39,
   "id": "2687cb53",
   "metadata": {
    "execution": {
     "iopub.execute_input": "2022-06-10T09:23:02.472098Z",
     "iopub.status.busy": "2022-06-10T09:23:02.471232Z",
     "iopub.status.idle": "2022-06-10T09:23:02.475430Z",
     "shell.execute_reply": "2022-06-10T09:23:02.474740Z"
    },
    "papermill": {
     "duration": 0.034216,
     "end_time": "2022-06-10T09:23:02.477131",
     "exception": false,
     "start_time": "2022-06-10T09:23:02.442915",
     "status": "completed"
    },
    "tags": []
   },
   "outputs": [],
   "source": [
    "# date=re.findall(r'([0-9]{1,2})\\.*.*\\s([A-Z][a-z]\\S*)\\.*.*\\s([0-9]{2,4})',\"21st Aug 2022\")\n",
    "# dates=[]\n",
    "# for i in date:\n",
    "#     for j in i:\n",
    "#         dates.append(j)"
   ]
  },
  {
   "cell_type": "code",
   "execution_count": 40,
   "id": "8591f9f8",
   "metadata": {
    "execution": {
     "iopub.execute_input": "2022-06-10T09:23:02.532807Z",
     "iopub.status.busy": "2022-06-10T09:23:02.532529Z",
     "iopub.status.idle": "2022-06-10T09:23:02.535759Z",
     "shell.execute_reply": "2022-06-10T09:23:02.535035Z"
    },
    "papermill": {
     "duration": 0.033038,
     "end_time": "2022-06-10T09:23:02.537446",
     "exception": false,
     "start_time": "2022-06-10T09:23:02.504408",
     "status": "completed"
    },
    "tags": []
   },
   "outputs": [],
   "source": [
    "# if dates[1] in [\"August\",\"Aug\",\"augt\",\"AUGUST\"]:\n",
    "#         dates[1]= \"August\""
   ]
  },
  {
   "cell_type": "code",
   "execution_count": 41,
   "id": "88acf96a",
   "metadata": {
    "execution": {
     "iopub.execute_input": "2022-06-10T09:23:02.593520Z",
     "iopub.status.busy": "2022-06-10T09:23:02.592768Z",
     "iopub.status.idle": "2022-06-10T09:23:02.596971Z",
     "shell.execute_reply": "2022-06-10T09:23:02.596261Z"
    },
    "papermill": {
     "duration": 0.033959,
     "end_time": "2022-06-10T09:23:02.598666",
     "exception": false,
     "start_time": "2022-06-10T09:23:02.564707",
     "status": "completed"
    },
    "tags": []
   },
   "outputs": [],
   "source": [
    "# ch=[\"21st Sep 2022\", \"33 Aug 2022\"]\n",
    "# nL=[]\n",
    "# for i in ch:\n",
    "#     L=[]\n",
    "#     datee=re.findall(r'([0-9]{1,2})\\.*.*\\s([A-Z][a-z]\\S*)\\.*.*\\s([0-9]{2,4})',i)\n",
    "#     dates=[]\n",
    "#     for i in datee:\n",
    "#         for j in i:\n",
    "#             dates.append(j)\n",
    "        \n",
    "        \n",
    "#         if dates[1] in [\"August\",\"Aug\",\"augt\",\"AUGUST\"]:\n",
    "#             dates[1]= \"August\"\n",
    "#         elif dates[1] in [\"September\",\"Sept\",\"SEP\",\"Sep\",\"sep\",\"Septr\",\"SEPTEMBER\"]:\n",
    "#             dates[1]= \"Septembre\"\n",
    "   \n",
    "        \n",
    "#         ch = dates[0]+\"-\"+dates[1]+\"-\"+dates[2]\n",
    "\n",
    "#         L.append(ch)\n",
    "#     nL.append(L)\n",
    "    "
   ]
  },
  {
   "cell_type": "code",
   "execution_count": 42,
   "id": "88890428",
   "metadata": {
    "execution": {
     "iopub.execute_input": "2022-06-10T09:23:02.656851Z",
     "iopub.status.busy": "2022-06-10T09:23:02.656235Z",
     "iopub.status.idle": "2022-06-10T09:23:02.664166Z",
     "shell.execute_reply": "2022-06-10T09:23:02.663445Z"
    },
    "papermill": {
     "duration": 0.038103,
     "end_time": "2022-06-10T09:23:02.666595",
     "exception": false,
     "start_time": "2022-06-10T09:23:02.628492",
     "status": "completed"
    },
    "tags": []
   },
   "outputs": [
    {
     "name": "stdout",
     "output_type": "stream",
     "text": [
      "helo\n",
      "[('twenty', 'July', '1865')]\n"
     ]
    }
   ],
   "source": [
    "date=re.findall(r'([0-9]{1,2})-([A-Z][a-z]\\S*)-([0-9]{2,4})',\"twenty-July-1865\")\n",
    "date\n",
    "if date!=[]:\n",
    "    print(\"hello\")\n",
    "else :\n",
    "    date = re.findall(r'(^[A-Za-z]\\S*.*.)-([A-Z][a-z]\\S*)-([0-9]{2,4})', \"twenty-July-1865\")\n",
    "    print(\"helo\")\n",
    "\n",
    "    if date!=[]:\n",
    "        print(date)\n",
    "    "
   ]
  },
  {
   "cell_type": "code",
   "execution_count": null,
   "id": "90d6d623",
   "metadata": {
    "papermill": {
     "duration": 0.027507,
     "end_time": "2022-06-10T09:23:02.723435",
     "exception": false,
     "start_time": "2022-06-10T09:23:02.695928",
     "status": "completed"
    },
    "tags": []
   },
   "outputs": [],
   "source": []
  },
  {
   "cell_type": "code",
   "execution_count": 43,
   "id": "b93eec3d",
   "metadata": {
    "execution": {
     "iopub.execute_input": "2022-06-10T09:23:02.781004Z",
     "iopub.status.busy": "2022-06-10T09:23:02.780343Z",
     "iopub.status.idle": "2022-06-10T09:23:02.791708Z",
     "shell.execute_reply": "2022-06-10T09:23:02.790838Z"
    },
    "papermill": {
     "duration": 0.04249,
     "end_time": "2022-06-10T09:23:02.793489",
     "exception": false,
     "start_time": "2022-06-10T09:23:02.750999",
     "status": "completed"
    },
    "tags": []
   },
   "outputs": [],
   "source": [
    "Gi=[[\"fifteenth-Aug-2022\"],[\"15-Sep-2022\"],[\"eight-Aug-2022\"]]\n",
    "NG=[]\n",
    "for i in Gi:\n",
    "    ng=[]\n",
    "    for j in i:\n",
    "        \n",
    "        date=re.findall(r'([0-9]{1,2})-([A-Z][a-z]\\S*)-([0-9]{2,4})',j)\n",
    "        if (date !=[]):\n",
    "            dates=[]\n",
    "            for k in date:\n",
    "                for l in k:\n",
    "                    dates.append(l)\n",
    "                \n",
    "                \n",
    "                if dates[1] in [\"August\",\"Aug\",\"augt\",\"AUGUST\"]:\n",
    "                    dates[1]= \"August\"\n",
    "                elif dates[1] in [\"September\",\"Sept\",\"SEP\",\"Sep\",\"Septr\",\"SEPTEMBER\"]:\n",
    "                    dates[1]= \"Septembre\"\n",
    "                j = dates[0]+\"-\"+dates[1]+\"-\"+dates[2]\n",
    "                ng.append(j)\n",
    "        else :\n",
    "            date = re.findall(r'(^[A-Za-z]\\S*.*.)-([A-Z][a-z]\\S*)-([0-9]{2,4})',j )\n",
    "            dates=[]\n",
    "            for k in date:\n",
    "                for l in k:\n",
    "                    dates.append(l)\n",
    "\n",
    "                   \n",
    "                \n",
    "                \n",
    "                if dates[1] in [\"August\",\"Aug\",\"augt\",\"AUGUST\"]:\n",
    "                    dates[1]= \"August\"\n",
    "                elif dates[1] in [\"JUN\",\"Jun\",\"June\"]:\n",
    "                    dates[1]=\"Jun\"\n",
    "                if dates[0]== \"fifteenth\" :\n",
    "                    dates[0]=\"15\"\n",
    "                elif dates[0]== \"eight\" :\n",
    "                    dates[0]=\"8\"\n",
    "                j = dates[0]+\"-\"+dates[1]+\"-\"+dates[2]\n",
    "                ng.append(j)\n",
    "            \n",
    "            \n",
    "    NG.append(ng)   "
   ]
  },
  {
   "cell_type": "markdown",
   "id": "5ee465ad",
   "metadata": {
    "papermill": {
     "duration": 0.036704,
     "end_time": "2022-06-10T09:23:02.858986",
     "exception": false,
     "start_time": "2022-06-10T09:23:02.822282",
     "status": "completed"
    },
    "tags": []
   },
   "source": [
    "# standardizing dates"
   ]
  },
  {
   "cell_type": "code",
   "execution_count": 44,
   "id": "414398d8",
   "metadata": {
    "execution": {
     "iopub.execute_input": "2022-06-10T09:23:02.925424Z",
     "iopub.status.busy": "2022-06-10T09:23:02.925071Z",
     "iopub.status.idle": "2022-06-10T09:23:02.997656Z",
     "shell.execute_reply": "2022-06-10T09:23:02.996814Z"
    },
    "papermill": {
     "duration": 0.10401,
     "end_time": "2022-06-10T09:23:02.999633",
     "exception": false,
     "start_time": "2022-06-10T09:23:02.895623",
     "status": "completed"
    },
    "tags": []
   },
   "outputs": [],
   "source": [
    "NG=[]\n",
    "for i in G:\n",
    "    ng=[]\n",
    "    for j in i:\n",
    "        \n",
    "        date=re.findall(r'([0-9]{1,2})-([A-Z][a-z]\\S*)-([0-9]{2,4})',j)\n",
    "        if date !=[]:\n",
    "            dates=[]\n",
    "            for k in date:\n",
    "                for l in k:\n",
    "                    dates.append(l)\n",
    "                \n",
    "                \n",
    "                if dates[1] in [\"August\",\"Aug\",\"augt\",\"AUGUST\",\"Augst\",\"Augt\",\"AUG\"]:\n",
    "                    dates[1]= \"August\"\n",
    "                elif dates[1] in [\"September\",\"Sept\",\"SEP\",\"Sep\",\"Septr\",\"SEPTEMBER\",'Sepr']:\n",
    "                    dates[1]= \"Septembre\"\n",
    "                elif dates[1] in [\"October\",\"Oct\",\"OCT\",\"OCTOBER\"]:\n",
    "                    dates[1]= \"October\"\n",
    "                elif dates[1] in [\"November\",\"NOV\",\"Nov\",\"Novmbr\",\"Nvbr\",\"Novb\",\"NOVEMBER\"]:\n",
    "                    dates[1]= \"November\"\n",
    "                elif dates[1] in [\"December\",\"Dec\",\"Decbr\",\"DEC\",\"DECEMBER\"]:\n",
    "                    dates[1]= \"December\"\n",
    "                elif dates[1] in [\"January\",\"Janry\",\"Jan\",\"Jany\",\"JAN\",\"Janur\",\"JANUARY\"]:\n",
    "                    dates[1]= \"January\"\n",
    "                elif dates[1] in [\"February\",\"Feby\",\"Febry\",\"FEB\",\"FEBRUARY\"]:\n",
    "                    dates[1]= \"February\"\n",
    "                elif dates[1] in [\"March\",\"Mar\"]:\n",
    "                    dates[1]= \"March\"\n",
    "                elif dates[1] in [\"April\",\"Apl\",\"Aprl\",\"APRIL\"]:\n",
    "                    dates[1]= \"April\"\n",
    "                elif dates[1] in [\"May\",\"MAY\"]:\n",
    "                    dates[1]= \"May\"\n",
    "                elif dates[1] in [\"JUN\",\"Jun\",\"June\"]:\n",
    "                    dates[1]= \"June\"\n",
    "                elif dates[1] in [\"JULY\",\"July\",\"JUL\"]:\n",
    "                    dates[1]= \"July\"\n",
    "                j = dates[0]+\"-\"+dates[1]+\"-\"+dates[2]\n",
    "                ng.append(j)\n",
    "        else :\n",
    "                date = re.findall(r'(^[A-Za-z]\\S*.*.)-([A-Z][a-z]\\S*)-([0-9]{2,4})',j ) \n",
    "                dates=[]\n",
    "                for k in date:\n",
    "                    for l in k:\n",
    "                        dates.append(l)\n",
    "                \n",
    "                \n",
    "                    if dates[1] in [\"August\",\"Aug\",\"augt\",\"AUGUST\",\"Augst\",'Augt',\"AUG\"]:\n",
    "                        dates[1]= \"August\"\n",
    "                    elif dates[1] in [\"September\",\"Sept\",\"SEP\",\"Sep\",\"Septr\",\"SEPTEMBER\",\"Sepr\"]:\n",
    "                        dates[1]= \"Septembre\"\n",
    "                    elif dates[1] in [\"October\",\"Oct\",\"OCT\",\"OCTOBER\"]:\n",
    "                        dates[1]= \"October\"\n",
    "                    elif dates[1] in [\"November\",\"NOV\",\"Nov\",\"Novmbr\",\"Nvbr\",\"Novb\",\"NOVEMBER\"]:\n",
    "                        dates[1]= \"November\"\n",
    "                    elif dates[1] in [\"December\",\"Dec\",\"Decbr\",\"DEC\",\"DECEMBER\"]:\n",
    "                        dates[1]= \"December\"\n",
    "                    elif dates[1] in [\"January\",\"Janry\",\"Jan\",\"Jany\",\"JAN\",\"Janur\",\"JANUARY\"]:\n",
    "                        dates[1]= \"January\"\n",
    "                    elif dates[1] in [\"February\",\"Feby\",\"Febry\",\"FEB\",\"FEBRUARY\"]:\n",
    "                        dates[1]= \"February\"\n",
    "                    elif dates[1] in [\"March\",\"Mar\"]:\n",
    "                        dates[1]= \"March\"\n",
    "                    elif dates[1] in [\"April\",\"Apl\",\"Aprl\",\"APRIL\"]:\n",
    "                        dates[1]= \"April\"\n",
    "                    elif dates[1] in [\"May\",\"MAY\"]:\n",
    "                        dates[1]= \"May\"\n",
    "                    elif dates[1] in [\"JUN\",\"Jun\",\"June\"]:\n",
    "                        dates[1]= \"June\"\n",
    "                    elif dates[1] in [\"JULY\",\"July\",\"JUL\"]:\n",
    "                        dates[1]= \"July\"\n",
    "                    if dates[0]== \"fifteenth\" :\n",
    "                        dates[0]=\"15\"\n",
    "                    elif dates[0]==\"sixteenth\":\n",
    "                        dates[0]=\"16\"\n",
    "                    elif dates[0]==\"Twenty\":\n",
    "                        dates[0]=\"20\" \n",
    "                    elif dates[0]==\"Twenty Eighth\":\n",
    "                        dates[0]=\"28\"\n",
    "                    elif dates[0]==\"Ninth\":\n",
    "                        dates[0]=\"9\"\n",
    "                    elif dates[0]==\"Ninth \":\n",
    "                        dates[0]=\"9\"\n",
    "                    elif dates[0]=='Seventh':\n",
    "                        dates[0]=\"7\" \n",
    "                    elif dates[0]==\"Eighth \":\n",
    "                        dates[0]=\"8\"\n",
    "                    elif dates[0]==\"Eighth\":\n",
    "                        dates[0]=\"8\"\n",
    "                    elif dates[0]==\"Seventh \":\n",
    "                        dates[0]=\"7\"\n",
    "                    elif dates[0]==\"Twenty ninth \":\n",
    "                        dates[0]=\"29\"\n",
    "                    elif dates[0]==\"twenty ninth \":\n",
    "                        dates[0]=\"29\"\n",
    "                    elif dates[0]==\"first \":\n",
    "                        dates[0]=\"1\"\n",
    "                    elif dates[0]==\"fourth \":\n",
    "                        dates[0]=\"4\"\n",
    "                    elif dates[0]==\"tenth \":\n",
    "                        dates[0]=\"10\"\n",
    "                    elif dates[0]==\"Fifth \":\n",
    "                        dates[0]=\"5\"\n",
    "                    elif dates[0]==\"Fifth\":\n",
    "                        dates[0]=\"5\"\n",
    "                    elif dates[0]==\"Twenty seventh \":\n",
    "                        dates[0]=\"27\"\n",
    "                    elif dates[0]==\"third \":\n",
    "                        dates[0]=\"3\" \n",
    "                    elif dates[0]==\"third\":\n",
    "                        dates[0]=\"3\"\n",
    "                    elif dates[0]==\"Tenth\":\n",
    "                        dates[0]=\"10\" \n",
    "                    elif dates[0]==\"Tenth \":\n",
    "                        dates[0]=\"10\"\n",
    "                    elif dates[0]==\"twentieth\":\n",
    "                        dates[0]=\"20\"\n",
    "                    elif dates[0]==\"wenty fourth \":\n",
    "                        dates[0]=\"24\"\n",
    "                    elif dates[0]==\"wenty fourth\":\n",
    "                        dates[0]=\"24\"\n",
    "                    elif dates[0]==\"fifteenth \":\n",
    "                        dates[0]=\"15\"\n",
    "                    elif dates[0]==\"twentieth \":\n",
    "                        dates[0]=\"20\"\n",
    "                    elif dates[0]==\"Eighteenth \":\n",
    "                        dates[0]=\"18\"\n",
    "                    elif dates[0]==\"First \":\n",
    "                        dates[0]=\"1\"\n",
    "                    elif dates[0]==\"First\":\n",
    "                        dates[0]=\"1\"\n",
    "                    elif dates[0]==\"Sixteenth \":\n",
    "                        dates[0]=\"16\"\n",
    "                    elif dates[0]==\"Sixteenth\":\n",
    "                        dates[0]=\"16\"\n",
    "                    elif dates[0]==\"twenty third \":\n",
    "                        dates[0]=\"23\"\n",
    "                    elif dates[0]==\"twenty third\":\n",
    "                        dates[0]=\"23\"\n",
    "                    elif dates[0]==\"Twenty Second \":\n",
    "                        dates[0]=\"22\"\n",
    "                    elif dates[0]==\"Twenty Second\":\n",
    "                        dates[0]=\"22\"\n",
    "                    elif dates[0]==\"Twenty Eighth \":\n",
    "                        dates[0]=\"28\"\n",
    "                    elif dates[0]==\"twenty third\":\n",
    "                        dates[0]=\"23\"\n",
    "                    elif dates[0]==\"twenty third\":\n",
    "                        dates[0]=\"23\"\n",
    "                     \n",
    "                     \n",
    "                     \n",
    "                    \n",
    "                        \n",
    "                    j = dates[0]+\"-\"+dates[1]+\"-\"+dates[2]\n",
    "                    ng.append(j)\n",
    "            \n",
    "            \n",
    "    NG.append(ng)   "
   ]
  },
  {
   "cell_type": "code",
   "execution_count": null,
   "id": "0c1fcb7f",
   "metadata": {
    "papermill": {
     "duration": 0.027352,
     "end_time": "2022-06-10T09:23:03.055144",
     "exception": false,
     "start_time": "2022-06-10T09:23:03.027792",
     "status": "completed"
    },
    "tags": []
   },
   "outputs": [],
   "source": []
  },
  {
   "cell_type": "code",
   "execution_count": null,
   "id": "eb73544d",
   "metadata": {
    "papermill": {
     "duration": 0.027998,
     "end_time": "2022-06-10T09:23:03.110872",
     "exception": false,
     "start_time": "2022-06-10T09:23:03.082874",
     "status": "completed"
    },
    "tags": []
   },
   "outputs": [],
   "source": []
  },
  {
   "cell_type": "code",
   "execution_count": null,
   "id": "70b15ff8",
   "metadata": {
    "papermill": {
     "duration": 0.028498,
     "end_time": "2022-06-10T09:23:03.166907",
     "exception": false,
     "start_time": "2022-06-10T09:23:03.138409",
     "status": "completed"
    },
    "tags": []
   },
   "outputs": [],
   "source": []
  },
  {
   "cell_type": "code",
   "execution_count": null,
   "id": "1bd769a6",
   "metadata": {
    "papermill": {
     "duration": 0.027291,
     "end_time": "2022-06-10T09:23:03.221822",
     "exception": false,
     "start_time": "2022-06-10T09:23:03.194531",
     "status": "completed"
    },
    "tags": []
   },
   "outputs": [],
   "source": []
  }
 ],
 "metadata": {
  "kernelspec": {
   "display_name": "Python 3",
   "language": "python",
   "name": "python3"
  },
  "language_info": {
   "codemirror_mode": {
    "name": "ipython",
    "version": 3
   },
   "file_extension": ".py",
   "mimetype": "text/x-python",
   "name": "python",
   "nbconvert_exporter": "python",
   "pygments_lexer": "ipython3",
   "version": "3.7.12"
  },
  "papermill": {
   "default_parameters": {},
   "duration": 571.491857,
   "end_time": "2022-06-10T09:23:06.787752",
   "environment_variables": {},
   "exception": null,
   "input_path": "__notebook__.ipynb",
   "output_path": "__notebook__.ipynb",
   "parameters": {},
   "start_time": "2022-06-10T09:13:35.295895",
   "version": "2.3.4"
  },
  "widgets": {
   "application/vnd.jupyter.widget-state+json": {
    "state": {
     "00cee2b9a80a4d23958db0d6f443b991": {
      "model_module": "@jupyter-widgets/base",
      "model_module_version": "1.2.0",
      "model_name": "LayoutModel",
      "state": {
       "_model_module": "@jupyter-widgets/base",
       "_model_module_version": "1.2.0",
       "_model_name": "LayoutModel",
       "_view_count": null,
       "_view_module": "@jupyter-widgets/base",
       "_view_module_version": "1.2.0",
       "_view_name": "LayoutView",
       "align_content": null,
       "align_items": null,
       "align_self": null,
       "border": null,
       "bottom": null,
       "display": null,
       "flex": null,
       "flex_flow": null,
       "grid_area": null,
       "grid_auto_columns": null,
       "grid_auto_flow": null,
       "grid_auto_rows": null,
       "grid_column": null,
       "grid_gap": null,
       "grid_row": null,
       "grid_template_areas": null,
       "grid_template_columns": null,
       "grid_template_rows": null,
       "height": null,
       "justify_content": null,
       "justify_items": null,
       "left": null,
       "margin": null,
       "max_height": null,
       "max_width": null,
       "min_height": null,
       "min_width": null,
       "object_fit": null,
       "object_position": null,
       "order": null,
       "overflow": null,
       "overflow_x": null,
       "overflow_y": null,
       "padding": null,
       "right": null,
       "top": null,
       "visibility": null,
       "width": null
      }
     },
     "0b3ee7607c984dae8edd958cf0cb1c4f": {
      "model_module": "@jupyter-widgets/base",
      "model_module_version": "1.2.0",
      "model_name": "LayoutModel",
      "state": {
       "_model_module": "@jupyter-widgets/base",
       "_model_module_version": "1.2.0",
       "_model_name": "LayoutModel",
       "_view_count": null,
       "_view_module": "@jupyter-widgets/base",
       "_view_module_version": "1.2.0",
       "_view_name": "LayoutView",
       "align_content": null,
       "align_items": null,
       "align_self": null,
       "border": null,
       "bottom": null,
       "display": null,
       "flex": null,
       "flex_flow": null,
       "grid_area": null,
       "grid_auto_columns": null,
       "grid_auto_flow": null,
       "grid_auto_rows": null,
       "grid_column": null,
       "grid_gap": null,
       "grid_row": null,
       "grid_template_areas": null,
       "grid_template_columns": null,
       "grid_template_rows": null,
       "height": null,
       "justify_content": null,
       "justify_items": null,
       "left": null,
       "margin": null,
       "max_height": null,
       "max_width": null,
       "min_height": null,
       "min_width": null,
       "object_fit": null,
       "object_position": null,
       "order": null,
       "overflow": null,
       "overflow_x": null,
       "overflow_y": null,
       "padding": null,
       "right": null,
       "top": null,
       "visibility": null,
       "width": null
      }
     },
     "0c25d732693e431d8fb888314a3221a4": {
      "model_module": "@jupyter-widgets/base",
      "model_module_version": "1.2.0",
      "model_name": "LayoutModel",
      "state": {
       "_model_module": "@jupyter-widgets/base",
       "_model_module_version": "1.2.0",
       "_model_name": "LayoutModel",
       "_view_count": null,
       "_view_module": "@jupyter-widgets/base",
       "_view_module_version": "1.2.0",
       "_view_name": "LayoutView",
       "align_content": null,
       "align_items": null,
       "align_self": null,
       "border": null,
       "bottom": null,
       "display": null,
       "flex": null,
       "flex_flow": null,
       "grid_area": null,
       "grid_auto_columns": null,
       "grid_auto_flow": null,
       "grid_auto_rows": null,
       "grid_column": null,
       "grid_gap": null,
       "grid_row": null,
       "grid_template_areas": null,
       "grid_template_columns": null,
       "grid_template_rows": null,
       "height": null,
       "justify_content": null,
       "justify_items": null,
       "left": null,
       "margin": null,
       "max_height": null,
       "max_width": null,
       "min_height": null,
       "min_width": null,
       "object_fit": null,
       "object_position": null,
       "order": null,
       "overflow": null,
       "overflow_x": null,
       "overflow_y": null,
       "padding": null,
       "right": null,
       "top": null,
       "visibility": null,
       "width": null
      }
     },
     "0ddcd5ceb8b04c77a1cb55b0c8d42293": {
      "model_module": "@jupyter-widgets/controls",
      "model_module_version": "1.5.0",
      "model_name": "FloatProgressModel",
      "state": {
       "_dom_classes": [],
       "_model_module": "@jupyter-widgets/controls",
       "_model_module_version": "1.5.0",
       "_model_name": "FloatProgressModel",
       "_view_count": null,
       "_view_module": "@jupyter-widgets/controls",
       "_view_module_version": "1.5.0",
       "_view_name": "ProgressView",
       "bar_style": "success",
       "description": "",
       "description_tooltip": null,
       "layout": "IPY_MODEL_473de30ecf7c46f1a2b162da263a570a",
       "max": 2239866761.0,
       "min": 0.0,
       "orientation": "horizontal",
       "style": "IPY_MODEL_c6532cff21be4147bd588dc6a583375f",
       "value": 2239866761.0
      }
     },
     "1049711e6eb74bfba8a6ef295b8d8afe": {
      "model_module": "@jupyter-widgets/controls",
      "model_module_version": "1.5.0",
      "model_name": "FloatProgressModel",
      "state": {
       "_dom_classes": [],
       "_model_module": "@jupyter-widgets/controls",
       "_model_module_version": "1.5.0",
       "_model_name": "FloatProgressModel",
       "_view_count": null,
       "_view_module": "@jupyter-widgets/controls",
       "_view_module_version": "1.5.0",
       "_view_name": "ProgressView",
       "bar_style": "success",
       "description": "",
       "description_tooltip": null,
       "layout": "IPY_MODEL_f04a5b0be9994a9a9a3b2c6a473dac8e",
       "max": 432176557.0,
       "min": 0.0,
       "orientation": "horizontal",
       "style": "IPY_MODEL_36ecd8b73a3d4b22824afee3793358bc",
       "value": 432176557.0
      }
     },
     "1db64a94bea94218872563870e0a91a7": {
      "model_module": "@jupyter-widgets/controls",
      "model_module_version": "1.5.0",
      "model_name": "HBoxModel",
      "state": {
       "_dom_classes": [],
       "_model_module": "@jupyter-widgets/controls",
       "_model_module_version": "1.5.0",
       "_model_name": "HBoxModel",
       "_view_count": null,
       "_view_module": "@jupyter-widgets/controls",
       "_view_module_version": "1.5.0",
       "_view_name": "HBoxView",
       "box_style": "",
       "children": [
        "IPY_MODEL_804d988dbab5414fa6d02d3dbae1c51d",
        "IPY_MODEL_85afda2611c74f449f52ea8260f7e830",
        "IPY_MODEL_efa2b3e24f2f45dfada435efe8174bb9"
       ],
       "layout": "IPY_MODEL_4e15fd9d63334148966cef0989dd5d78"
      }
     },
     "22952ebc18da40c58fead3e6bfd50901": {
      "model_module": "@jupyter-widgets/controls",
      "model_module_version": "1.5.0",
      "model_name": "DescriptionStyleModel",
      "state": {
       "_model_module": "@jupyter-widgets/controls",
       "_model_module_version": "1.5.0",
       "_model_name": "DescriptionStyleModel",
       "_view_count": null,
       "_view_module": "@jupyter-widgets/base",
       "_view_module_version": "1.2.0",
       "_view_name": "StyleView",
       "description_width": ""
      }
     },
     "2325da59a20d443f848d100d4ac345a2": {
      "model_module": "@jupyter-widgets/controls",
      "model_module_version": "1.5.0",
      "model_name": "DescriptionStyleModel",
      "state": {
       "_model_module": "@jupyter-widgets/controls",
       "_model_module_version": "1.5.0",
       "_model_name": "DescriptionStyleModel",
       "_view_count": null,
       "_view_module": "@jupyter-widgets/base",
       "_view_module_version": "1.2.0",
       "_view_name": "StyleView",
       "description_width": ""
      }
     },
     "25e13a4b97c14561bc888a51ac9f49bc": {
      "model_module": "@jupyter-widgets/controls",
      "model_module_version": "1.5.0",
      "model_name": "DescriptionStyleModel",
      "state": {
       "_model_module": "@jupyter-widgets/controls",
       "_model_module_version": "1.5.0",
       "_model_name": "DescriptionStyleModel",
       "_view_count": null,
       "_view_module": "@jupyter-widgets/base",
       "_view_module_version": "1.2.0",
       "_view_name": "StyleView",
       "description_width": ""
      }
     },
     "2ccf66a271ae4f63aff67917ddd69591": {
      "model_module": "@jupyter-widgets/base",
      "model_module_version": "1.2.0",
      "model_name": "LayoutModel",
      "state": {
       "_model_module": "@jupyter-widgets/base",
       "_model_module_version": "1.2.0",
       "_model_name": "LayoutModel",
       "_view_count": null,
       "_view_module": "@jupyter-widgets/base",
       "_view_module_version": "1.2.0",
       "_view_name": "LayoutView",
       "align_content": null,
       "align_items": null,
       "align_self": null,
       "border": null,
       "bottom": null,
       "display": null,
       "flex": null,
       "flex_flow": null,
       "grid_area": null,
       "grid_auto_columns": null,
       "grid_auto_flow": null,
       "grid_auto_rows": null,
       "grid_column": null,
       "grid_gap": null,
       "grid_row": null,
       "grid_template_areas": null,
       "grid_template_columns": null,
       "grid_template_rows": null,
       "height": null,
       "justify_content": null,
       "justify_items": null,
       "left": null,
       "margin": null,
       "max_height": null,
       "max_width": null,
       "min_height": null,
       "min_width": null,
       "object_fit": null,
       "object_position": null,
       "order": null,
       "overflow": null,
       "overflow_x": null,
       "overflow_y": null,
       "padding": null,
       "right": null,
       "top": null,
       "visibility": null,
       "width": null
      }
     },
     "36ecd8b73a3d4b22824afee3793358bc": {
      "model_module": "@jupyter-widgets/controls",
      "model_module_version": "1.5.0",
      "model_name": "ProgressStyleModel",
      "state": {
       "_model_module": "@jupyter-widgets/controls",
       "_model_module_version": "1.5.0",
       "_model_name": "ProgressStyleModel",
       "_view_count": null,
       "_view_module": "@jupyter-widgets/base",
       "_view_module_version": "1.2.0",
       "_view_name": "StyleView",
       "bar_color": null,
       "description_width": ""
      }
     },
     "40de0f8b05c348049050dba0ff8ddc6e": {
      "model_module": "@jupyter-widgets/base",
      "model_module_version": "1.2.0",
      "model_name": "LayoutModel",
      "state": {
       "_model_module": "@jupyter-widgets/base",
       "_model_module_version": "1.2.0",
       "_model_name": "LayoutModel",
       "_view_count": null,
       "_view_module": "@jupyter-widgets/base",
       "_view_module_version": "1.2.0",
       "_view_name": "LayoutView",
       "align_content": null,
       "align_items": null,
       "align_self": null,
       "border": null,
       "bottom": null,
       "display": null,
       "flex": null,
       "flex_flow": null,
       "grid_area": null,
       "grid_auto_columns": null,
       "grid_auto_flow": null,
       "grid_auto_rows": null,
       "grid_column": null,
       "grid_gap": null,
       "grid_row": null,
       "grid_template_areas": null,
       "grid_template_columns": null,
       "grid_template_rows": null,
       "height": null,
       "justify_content": null,
       "justify_items": null,
       "left": null,
       "margin": null,
       "max_height": null,
       "max_width": null,
       "min_height": null,
       "min_width": null,
       "object_fit": null,
       "object_position": null,
       "order": null,
       "overflow": null,
       "overflow_x": null,
       "overflow_y": null,
       "padding": null,
       "right": null,
       "top": null,
       "visibility": null,
       "width": null
      }
     },
     "427e93aafb6942419598b1eeaf529432": {
      "model_module": "@jupyter-widgets/base",
      "model_module_version": "1.2.0",
      "model_name": "LayoutModel",
      "state": {
       "_model_module": "@jupyter-widgets/base",
       "_model_module_version": "1.2.0",
       "_model_name": "LayoutModel",
       "_view_count": null,
       "_view_module": "@jupyter-widgets/base",
       "_view_module_version": "1.2.0",
       "_view_name": "LayoutView",
       "align_content": null,
       "align_items": null,
       "align_self": null,
       "border": null,
       "bottom": null,
       "display": null,
       "flex": null,
       "flex_flow": null,
       "grid_area": null,
       "grid_auto_columns": null,
       "grid_auto_flow": null,
       "grid_auto_rows": null,
       "grid_column": null,
       "grid_gap": null,
       "grid_row": null,
       "grid_template_areas": null,
       "grid_template_columns": null,
       "grid_template_rows": null,
       "height": null,
       "justify_content": null,
       "justify_items": null,
       "left": null,
       "margin": null,
       "max_height": null,
       "max_width": null,
       "min_height": null,
       "min_width": null,
       "object_fit": null,
       "object_position": null,
       "order": null,
       "overflow": null,
       "overflow_x": null,
       "overflow_y": null,
       "padding": null,
       "right": null,
       "top": null,
       "visibility": null,
       "width": null
      }
     },
     "42f0992118ce48e7972edf64418413de": {
      "model_module": "@jupyter-widgets/controls",
      "model_module_version": "1.5.0",
      "model_name": "DescriptionStyleModel",
      "state": {
       "_model_module": "@jupyter-widgets/controls",
       "_model_module_version": "1.5.0",
       "_model_name": "DescriptionStyleModel",
       "_view_count": null,
       "_view_module": "@jupyter-widgets/base",
       "_view_module_version": "1.2.0",
       "_view_name": "StyleView",
       "description_width": ""
      }
     },
     "446c1b9113744be09b66d069ed5f18d5": {
      "model_module": "@jupyter-widgets/base",
      "model_module_version": "1.2.0",
      "model_name": "LayoutModel",
      "state": {
       "_model_module": "@jupyter-widgets/base",
       "_model_module_version": "1.2.0",
       "_model_name": "LayoutModel",
       "_view_count": null,
       "_view_module": "@jupyter-widgets/base",
       "_view_module_version": "1.2.0",
       "_view_name": "LayoutView",
       "align_content": null,
       "align_items": null,
       "align_self": null,
       "border": null,
       "bottom": null,
       "display": null,
       "flex": null,
       "flex_flow": null,
       "grid_area": null,
       "grid_auto_columns": null,
       "grid_auto_flow": null,
       "grid_auto_rows": null,
       "grid_column": null,
       "grid_gap": null,
       "grid_row": null,
       "grid_template_areas": null,
       "grid_template_columns": null,
       "grid_template_rows": null,
       "height": null,
       "justify_content": null,
       "justify_items": null,
       "left": null,
       "margin": null,
       "max_height": null,
       "max_width": null,
       "min_height": null,
       "min_width": null,
       "object_fit": null,
       "object_position": null,
       "order": null,
       "overflow": null,
       "overflow_x": null,
       "overflow_y": null,
       "padding": null,
       "right": null,
       "top": null,
       "visibility": null,
       "width": null
      }
     },
     "473de30ecf7c46f1a2b162da263a570a": {
      "model_module": "@jupyter-widgets/base",
      "model_module_version": "1.2.0",
      "model_name": "LayoutModel",
      "state": {
       "_model_module": "@jupyter-widgets/base",
       "_model_module_version": "1.2.0",
       "_model_name": "LayoutModel",
       "_view_count": null,
       "_view_module": "@jupyter-widgets/base",
       "_view_module_version": "1.2.0",
       "_view_name": "LayoutView",
       "align_content": null,
       "align_items": null,
       "align_self": null,
       "border": null,
       "bottom": null,
       "display": null,
       "flex": null,
       "flex_flow": null,
       "grid_area": null,
       "grid_auto_columns": null,
       "grid_auto_flow": null,
       "grid_auto_rows": null,
       "grid_column": null,
       "grid_gap": null,
       "grid_row": null,
       "grid_template_areas": null,
       "grid_template_columns": null,
       "grid_template_rows": null,
       "height": null,
       "justify_content": null,
       "justify_items": null,
       "left": null,
       "margin": null,
       "max_height": null,
       "max_width": null,
       "min_height": null,
       "min_width": null,
       "object_fit": null,
       "object_position": null,
       "order": null,
       "overflow": null,
       "overflow_x": null,
       "overflow_y": null,
       "padding": null,
       "right": null,
       "top": null,
       "visibility": null,
       "width": null
      }
     },
     "48f0c3cd9df54c42a684880cc2be31d4": {
      "model_module": "@jupyter-widgets/controls",
      "model_module_version": "1.5.0",
      "model_name": "HBoxModel",
      "state": {
       "_dom_classes": [],
       "_model_module": "@jupyter-widgets/controls",
       "_model_module_version": "1.5.0",
       "_model_name": "HBoxModel",
       "_view_count": null,
       "_view_module": "@jupyter-widgets/controls",
       "_view_module_version": "1.5.0",
       "_view_name": "HBoxView",
       "box_style": "",
       "children": [
        "IPY_MODEL_7372cf776b74411fac793f1c6114648d",
        "IPY_MODEL_630f66b5d6194499819d71739fcc2a05",
        "IPY_MODEL_9ac5aabc56164d08b982edfe2f1bed01"
       ],
       "layout": "IPY_MODEL_b6fd417efcc54298b40622e84897a060"
      }
     },
     "4d2fdc8f37ba44a29809a0755141ab2b": {
      "model_module": "@jupyter-widgets/base",
      "model_module_version": "1.2.0",
      "model_name": "LayoutModel",
      "state": {
       "_model_module": "@jupyter-widgets/base",
       "_model_module_version": "1.2.0",
       "_model_name": "LayoutModel",
       "_view_count": null,
       "_view_module": "@jupyter-widgets/base",
       "_view_module_version": "1.2.0",
       "_view_name": "LayoutView",
       "align_content": null,
       "align_items": null,
       "align_self": null,
       "border": null,
       "bottom": null,
       "display": null,
       "flex": null,
       "flex_flow": null,
       "grid_area": null,
       "grid_auto_columns": null,
       "grid_auto_flow": null,
       "grid_auto_rows": null,
       "grid_column": null,
       "grid_gap": null,
       "grid_row": null,
       "grid_template_areas": null,
       "grid_template_columns": null,
       "grid_template_rows": null,
       "height": null,
       "justify_content": null,
       "justify_items": null,
       "left": null,
       "margin": null,
       "max_height": null,
       "max_width": null,
       "min_height": null,
       "min_width": null,
       "object_fit": null,
       "object_position": null,
       "order": null,
       "overflow": null,
       "overflow_x": null,
       "overflow_y": null,
       "padding": null,
       "right": null,
       "top": null,
       "visibility": null,
       "width": null
      }
     },
     "4e15fd9d63334148966cef0989dd5d78": {
      "model_module": "@jupyter-widgets/base",
      "model_module_version": "1.2.0",
      "model_name": "LayoutModel",
      "state": {
       "_model_module": "@jupyter-widgets/base",
       "_model_module_version": "1.2.0",
       "_model_name": "LayoutModel",
       "_view_count": null,
       "_view_module": "@jupyter-widgets/base",
       "_view_module_version": "1.2.0",
       "_view_name": "LayoutView",
       "align_content": null,
       "align_items": null,
       "align_self": null,
       "border": null,
       "bottom": null,
       "display": null,
       "flex": null,
       "flex_flow": null,
       "grid_area": null,
       "grid_auto_columns": null,
       "grid_auto_flow": null,
       "grid_auto_rows": null,
       "grid_column": null,
       "grid_gap": null,
       "grid_row": null,
       "grid_template_areas": null,
       "grid_template_columns": null,
       "grid_template_rows": null,
       "height": null,
       "justify_content": null,
       "justify_items": null,
       "left": null,
       "margin": null,
       "max_height": null,
       "max_width": null,
       "min_height": null,
       "min_width": null,
       "object_fit": null,
       "object_position": null,
       "order": null,
       "overflow": null,
       "overflow_x": null,
       "overflow_y": null,
       "padding": null,
       "right": null,
       "top": null,
       "visibility": null,
       "width": null
      }
     },
     "4fdc211b1550493d8b8ec85b7a924e9e": {
      "model_module": "@jupyter-widgets/base",
      "model_module_version": "1.2.0",
      "model_name": "LayoutModel",
      "state": {
       "_model_module": "@jupyter-widgets/base",
       "_model_module_version": "1.2.0",
       "_model_name": "LayoutModel",
       "_view_count": null,
       "_view_module": "@jupyter-widgets/base",
       "_view_module_version": "1.2.0",
       "_view_name": "LayoutView",
       "align_content": null,
       "align_items": null,
       "align_self": null,
       "border": null,
       "bottom": null,
       "display": null,
       "flex": null,
       "flex_flow": null,
       "grid_area": null,
       "grid_auto_columns": null,
       "grid_auto_flow": null,
       "grid_auto_rows": null,
       "grid_column": null,
       "grid_gap": null,
       "grid_row": null,
       "grid_template_areas": null,
       "grid_template_columns": null,
       "grid_template_rows": null,
       "height": null,
       "justify_content": null,
       "justify_items": null,
       "left": null,
       "margin": null,
       "max_height": null,
       "max_width": null,
       "min_height": null,
       "min_width": null,
       "object_fit": null,
       "object_position": null,
       "order": null,
       "overflow": null,
       "overflow_x": null,
       "overflow_y": null,
       "padding": null,
       "right": null,
       "top": null,
       "visibility": null,
       "width": null
      }
     },
     "513551882564417a82f4e4caf98f9883": {
      "model_module": "@jupyter-widgets/controls",
      "model_module_version": "1.5.0",
      "model_name": "HTMLModel",
      "state": {
       "_dom_classes": [],
       "_model_module": "@jupyter-widgets/controls",
       "_model_module_version": "1.5.0",
       "_model_name": "HTMLModel",
       "_view_count": null,
       "_view_module": "@jupyter-widgets/controls",
       "_view_module_version": "1.5.0",
       "_view_name": "HTMLView",
       "description": "",
       "description_tooltip": null,
       "layout": "IPY_MODEL_00cee2b9a80a4d23958db0d6f443b991",
       "placeholder": "​",
       "style": "IPY_MODEL_2325da59a20d443f848d100d4ac345a2",
       "value": "Downloading: 100%"
      }
     },
     "54810ce2fdf04182b076137cd1121627": {
      "model_module": "@jupyter-widgets/controls",
      "model_module_version": "1.5.0",
      "model_name": "HTMLModel",
      "state": {
       "_dom_classes": [],
       "_model_module": "@jupyter-widgets/controls",
       "_model_module_version": "1.5.0",
       "_model_name": "HTMLModel",
       "_view_count": null,
       "_view_module": "@jupyter-widgets/controls",
       "_view_module_version": "1.5.0",
       "_view_name": "HTMLView",
       "description": "",
       "description_tooltip": null,
       "layout": "IPY_MODEL_0c25d732693e431d8fb888314a3221a4",
       "placeholder": "​",
       "style": "IPY_MODEL_25e13a4b97c14561bc888a51ac9f49bc",
       "value": " 2.24G/2.24G [01:38&lt;00:00, 23.8MB/s]"
      }
     },
     "5f8cbe448acc4322952c833a93127def": {
      "model_module": "@jupyter-widgets/controls",
      "model_module_version": "1.5.0",
      "model_name": "HTMLModel",
      "state": {
       "_dom_classes": [],
       "_model_module": "@jupyter-widgets/controls",
       "_model_module_version": "1.5.0",
       "_model_name": "HTMLModel",
       "_view_count": null,
       "_view_module": "@jupyter-widgets/controls",
       "_view_module_version": "1.5.0",
       "_view_name": "HTMLView",
       "description": "",
       "description_tooltip": null,
       "layout": "IPY_MODEL_0b3ee7607c984dae8edd958cf0cb1c4f",
       "placeholder": "​",
       "style": "IPY_MODEL_d76190d591c84f9092f12f0458214f23",
       "value": "Downloading: 100%"
      }
     },
     "620e4e3a87884d708fbe92b75065ff9a": {
      "model_module": "@jupyter-widgets/controls",
      "model_module_version": "1.5.0",
      "model_name": "DescriptionStyleModel",
      "state": {
       "_model_module": "@jupyter-widgets/controls",
       "_model_module_version": "1.5.0",
       "_model_name": "DescriptionStyleModel",
       "_view_count": null,
       "_view_module": "@jupyter-widgets/base",
       "_view_module_version": "1.2.0",
       "_view_name": "StyleView",
       "description_width": ""
      }
     },
     "62ef07d7f6b2492b820dc8018b60d8bb": {
      "model_module": "@jupyter-widgets/base",
      "model_module_version": "1.2.0",
      "model_name": "LayoutModel",
      "state": {
       "_model_module": "@jupyter-widgets/base",
       "_model_module_version": "1.2.0",
       "_model_name": "LayoutModel",
       "_view_count": null,
       "_view_module": "@jupyter-widgets/base",
       "_view_module_version": "1.2.0",
       "_view_name": "LayoutView",
       "align_content": null,
       "align_items": null,
       "align_self": null,
       "border": null,
       "bottom": null,
       "display": null,
       "flex": null,
       "flex_flow": null,
       "grid_area": null,
       "grid_auto_columns": null,
       "grid_auto_flow": null,
       "grid_auto_rows": null,
       "grid_column": null,
       "grid_gap": null,
       "grid_row": null,
       "grid_template_areas": null,
       "grid_template_columns": null,
       "grid_template_rows": null,
       "height": null,
       "justify_content": null,
       "justify_items": null,
       "left": null,
       "margin": null,
       "max_height": null,
       "max_width": null,
       "min_height": null,
       "min_width": null,
       "object_fit": null,
       "object_position": null,
       "order": null,
       "overflow": null,
       "overflow_x": null,
       "overflow_y": null,
       "padding": null,
       "right": null,
       "top": null,
       "visibility": null,
       "width": null
      }
     },
     "630f66b5d6194499819d71739fcc2a05": {
      "model_module": "@jupyter-widgets/controls",
      "model_module_version": "1.5.0",
      "model_name": "FloatProgressModel",
      "state": {
       "_dom_classes": [],
       "_model_module": "@jupyter-widgets/controls",
       "_model_module_version": "1.5.0",
       "_model_name": "FloatProgressModel",
       "_view_count": null,
       "_view_module": "@jupyter-widgets/controls",
       "_view_module_version": "1.5.0",
       "_view_name": "ProgressView",
       "bar_style": "success",
       "description": "",
       "description_tooltip": null,
       "layout": "IPY_MODEL_aa36ca3530e74bb496cffe5d37803201",
       "max": 2240097289.0,
       "min": 0.0,
       "orientation": "horizontal",
       "style": "IPY_MODEL_be478bff4cc0450c92abc7145e62104f",
       "value": 2240097289.0
      }
     },
     "7372cf776b74411fac793f1c6114648d": {
      "model_module": "@jupyter-widgets/controls",
      "model_module_version": "1.5.0",
      "model_name": "HTMLModel",
      "state": {
       "_dom_classes": [],
       "_model_module": "@jupyter-widgets/controls",
       "_model_module_version": "1.5.0",
       "_model_name": "HTMLModel",
       "_view_count": null,
       "_view_module": "@jupyter-widgets/controls",
       "_view_module_version": "1.5.0",
       "_view_name": "HTMLView",
       "description": "",
       "description_tooltip": null,
       "layout": "IPY_MODEL_8ef5cd775c284bfeba0066ca3942dd5c",
       "placeholder": "​",
       "style": "IPY_MODEL_d3336d7e869a43ddb0cb19fb444b5b0c",
       "value": "Downloading: 100%"
      }
     },
     "73a668024e4a4650a2de4eb78b9d417b": {
      "model_module": "@jupyter-widgets/controls",
      "model_module_version": "1.5.0",
      "model_name": "HTMLModel",
      "state": {
       "_dom_classes": [],
       "_model_module": "@jupyter-widgets/controls",
       "_model_module_version": "1.5.0",
       "_model_name": "HTMLModel",
       "_view_count": null,
       "_view_module": "@jupyter-widgets/controls",
       "_view_module_version": "1.5.0",
       "_view_name": "HTMLView",
       "description": "",
       "description_tooltip": null,
       "layout": "IPY_MODEL_4fdc211b1550493d8b8ec85b7a924e9e",
       "placeholder": "​",
       "style": "IPY_MODEL_d67b30e33bab420fbee4af0194f63594",
       "value": " 616/616 [00:00&lt;00:00, 22.0kB/s]"
      }
     },
     "7409ebe6411d4ad2b26e81e4234a5226": {
      "model_module": "@jupyter-widgets/controls",
      "model_module_version": "1.5.0",
      "model_name": "DescriptionStyleModel",
      "state": {
       "_model_module": "@jupyter-widgets/controls",
       "_model_module_version": "1.5.0",
       "_model_name": "DescriptionStyleModel",
       "_view_count": null,
       "_view_module": "@jupyter-widgets/base",
       "_view_module_version": "1.2.0",
       "_view_name": "StyleView",
       "description_width": ""
      }
     },
     "7c4310a6264a4ca48fd25020ef66a12c": {
      "model_module": "@jupyter-widgets/controls",
      "model_module_version": "1.5.0",
      "model_name": "HTMLModel",
      "state": {
       "_dom_classes": [],
       "_model_module": "@jupyter-widgets/controls",
       "_model_module_version": "1.5.0",
       "_model_name": "HTMLModel",
       "_view_count": null,
       "_view_module": "@jupyter-widgets/controls",
       "_view_module_version": "1.5.0",
       "_view_name": "HTMLView",
       "description": "",
       "description_tooltip": null,
       "layout": "IPY_MODEL_2ccf66a271ae4f63aff67917ddd69591",
       "placeholder": "​",
       "style": "IPY_MODEL_42f0992118ce48e7972edf64418413de",
       "value": "Downloading: 100%"
      }
     },
     "804d988dbab5414fa6d02d3dbae1c51d": {
      "model_module": "@jupyter-widgets/controls",
      "model_module_version": "1.5.0",
      "model_name": "HTMLModel",
      "state": {
       "_dom_classes": [],
       "_model_module": "@jupyter-widgets/controls",
       "_model_module_version": "1.5.0",
       "_model_name": "HTMLModel",
       "_view_count": null,
       "_view_module": "@jupyter-widgets/controls",
       "_view_module_version": "1.5.0",
       "_view_name": "HTMLView",
       "description": "",
       "description_tooltip": null,
       "layout": "IPY_MODEL_d6422fae73c343ea95a50a7ed8b0df90",
       "placeholder": "​",
       "style": "IPY_MODEL_c821b09696e7431ebe57ace913aee9b4",
       "value": "Downloading: 100%"
      }
     },
     "833281dbb3ef48b284bed85774fcd7cd": {
      "model_module": "@jupyter-widgets/base",
      "model_module_version": "1.2.0",
      "model_name": "LayoutModel",
      "state": {
       "_model_module": "@jupyter-widgets/base",
       "_model_module_version": "1.2.0",
       "_model_name": "LayoutModel",
       "_view_count": null,
       "_view_module": "@jupyter-widgets/base",
       "_view_module_version": "1.2.0",
       "_view_name": "LayoutView",
       "align_content": null,
       "align_items": null,
       "align_self": null,
       "border": null,
       "bottom": null,
       "display": null,
       "flex": null,
       "flex_flow": null,
       "grid_area": null,
       "grid_auto_columns": null,
       "grid_auto_flow": null,
       "grid_auto_rows": null,
       "grid_column": null,
       "grid_gap": null,
       "grid_row": null,
       "grid_template_areas": null,
       "grid_template_columns": null,
       "grid_template_rows": null,
       "height": null,
       "justify_content": null,
       "justify_items": null,
       "left": null,
       "margin": null,
       "max_height": null,
       "max_width": null,
       "min_height": null,
       "min_width": null,
       "object_fit": null,
       "object_position": null,
       "order": null,
       "overflow": null,
       "overflow_x": null,
       "overflow_y": null,
       "padding": null,
       "right": null,
       "top": null,
       "visibility": null,
       "width": null
      }
     },
     "83658868d3834b818248860d3c7e5d4e": {
      "model_module": "@jupyter-widgets/controls",
      "model_module_version": "1.5.0",
      "model_name": "ProgressStyleModel",
      "state": {
       "_model_module": "@jupyter-widgets/controls",
       "_model_module_version": "1.5.0",
       "_model_name": "ProgressStyleModel",
       "_view_count": null,
       "_view_module": "@jupyter-widgets/base",
       "_view_module_version": "1.2.0",
       "_view_name": "StyleView",
       "bar_color": null,
       "description_width": ""
      }
     },
     "85afda2611c74f449f52ea8260f7e830": {
      "model_module": "@jupyter-widgets/controls",
      "model_module_version": "1.5.0",
      "model_name": "FloatProgressModel",
      "state": {
       "_dom_classes": [],
       "_model_module": "@jupyter-widgets/controls",
       "_model_module_version": "1.5.0",
       "_model_name": "FloatProgressModel",
       "_view_count": null,
       "_view_module": "@jupyter-widgets/controls",
       "_view_module_version": "1.5.0",
       "_view_name": "ProgressView",
       "bar_style": "success",
       "description": "",
       "description_tooltip": null,
       "layout": "IPY_MODEL_e04bbc65b89f4b509bdd90297fb93af9",
       "max": 9096718.0,
       "min": 0.0,
       "orientation": "horizontal",
       "style": "IPY_MODEL_de481e55298249dfb4379948723094e5",
       "value": 9096718.0
      }
     },
     "8e464a6bbae741f09d9bf5fba9648b96": {
      "model_module": "@jupyter-widgets/controls",
      "model_module_version": "1.5.0",
      "model_name": "HBoxModel",
      "state": {
       "_dom_classes": [],
       "_model_module": "@jupyter-widgets/controls",
       "_model_module_version": "1.5.0",
       "_model_name": "HBoxModel",
       "_view_count": null,
       "_view_module": "@jupyter-widgets/controls",
       "_view_module_version": "1.5.0",
       "_view_name": "HBoxView",
       "box_style": "",
       "children": [
        "IPY_MODEL_513551882564417a82f4e4caf98f9883",
        "IPY_MODEL_0ddcd5ceb8b04c77a1cb55b0c8d42293",
        "IPY_MODEL_54810ce2fdf04182b076137cd1121627"
       ],
       "layout": "IPY_MODEL_4d2fdc8f37ba44a29809a0755141ab2b"
      }
     },
     "8e848662aeea4a73a7118530d35c3c82": {
      "model_module": "@jupyter-widgets/base",
      "model_module_version": "1.2.0",
      "model_name": "LayoutModel",
      "state": {
       "_model_module": "@jupyter-widgets/base",
       "_model_module_version": "1.2.0",
       "_model_name": "LayoutModel",
       "_view_count": null,
       "_view_module": "@jupyter-widgets/base",
       "_view_module_version": "1.2.0",
       "_view_name": "LayoutView",
       "align_content": null,
       "align_items": null,
       "align_self": null,
       "border": null,
       "bottom": null,
       "display": null,
       "flex": null,
       "flex_flow": null,
       "grid_area": null,
       "grid_auto_columns": null,
       "grid_auto_flow": null,
       "grid_auto_rows": null,
       "grid_column": null,
       "grid_gap": null,
       "grid_row": null,
       "grid_template_areas": null,
       "grid_template_columns": null,
       "grid_template_rows": null,
       "height": null,
       "justify_content": null,
       "justify_items": null,
       "left": null,
       "margin": null,
       "max_height": null,
       "max_width": null,
       "min_height": null,
       "min_width": null,
       "object_fit": null,
       "object_position": null,
       "order": null,
       "overflow": null,
       "overflow_x": null,
       "overflow_y": null,
       "padding": null,
       "right": null,
       "top": null,
       "visibility": null,
       "width": null
      }
     },
     "8ef5cd775c284bfeba0066ca3942dd5c": {
      "model_module": "@jupyter-widgets/base",
      "model_module_version": "1.2.0",
      "model_name": "LayoutModel",
      "state": {
       "_model_module": "@jupyter-widgets/base",
       "_model_module_version": "1.2.0",
       "_model_name": "LayoutModel",
       "_view_count": null,
       "_view_module": "@jupyter-widgets/base",
       "_view_module_version": "1.2.0",
       "_view_name": "LayoutView",
       "align_content": null,
       "align_items": null,
       "align_self": null,
       "border": null,
       "bottom": null,
       "display": null,
       "flex": null,
       "flex_flow": null,
       "grid_area": null,
       "grid_auto_columns": null,
       "grid_auto_flow": null,
       "grid_auto_rows": null,
       "grid_column": null,
       "grid_gap": null,
       "grid_row": null,
       "grid_template_areas": null,
       "grid_template_columns": null,
       "grid_template_rows": null,
       "height": null,
       "justify_content": null,
       "justify_items": null,
       "left": null,
       "margin": null,
       "max_height": null,
       "max_width": null,
       "min_height": null,
       "min_width": null,
       "object_fit": null,
       "object_position": null,
       "order": null,
       "overflow": null,
       "overflow_x": null,
       "overflow_y": null,
       "padding": null,
       "right": null,
       "top": null,
       "visibility": null,
       "width": null
      }
     },
     "9ac5aabc56164d08b982edfe2f1bed01": {
      "model_module": "@jupyter-widgets/controls",
      "model_module_version": "1.5.0",
      "model_name": "HTMLModel",
      "state": {
       "_dom_classes": [],
       "_model_module": "@jupyter-widgets/controls",
       "_model_module_version": "1.5.0",
       "_model_name": "HTMLModel",
       "_view_count": null,
       "_view_module": "@jupyter-widgets/controls",
       "_view_module_version": "1.5.0",
       "_view_name": "HTMLView",
       "description": "",
       "description_tooltip": null,
       "layout": "IPY_MODEL_a2b24a2d0b83468c8e93b5f465bffeab",
       "placeholder": "​",
       "style": "IPY_MODEL_22952ebc18da40c58fead3e6bfd50901",
       "value": " 2.24G/2.24G [01:39&lt;00:00, 23.3MB/s]"
      }
     },
     "a0ff31cb03a04fda84270f7a1167c673": {
      "model_module": "@jupyter-widgets/controls",
      "model_module_version": "1.5.0",
      "model_name": "HBoxModel",
      "state": {
       "_dom_classes": [],
       "_model_module": "@jupyter-widgets/controls",
       "_model_module_version": "1.5.0",
       "_model_name": "HBoxModel",
       "_view_count": null,
       "_view_module": "@jupyter-widgets/controls",
       "_view_module_version": "1.5.0",
       "_view_name": "HBoxView",
       "box_style": "",
       "children": [
        "IPY_MODEL_ee84d85c310141f98b668a4b6e565de2",
        "IPY_MODEL_cd0e5d32a4524dd6875b357b509fea8e",
        "IPY_MODEL_73a668024e4a4650a2de4eb78b9d417b"
       ],
       "layout": "IPY_MODEL_427e93aafb6942419598b1eeaf529432"
      }
     },
     "a2b24a2d0b83468c8e93b5f465bffeab": {
      "model_module": "@jupyter-widgets/base",
      "model_module_version": "1.2.0",
      "model_name": "LayoutModel",
      "state": {
       "_model_module": "@jupyter-widgets/base",
       "_model_module_version": "1.2.0",
       "_model_name": "LayoutModel",
       "_view_count": null,
       "_view_module": "@jupyter-widgets/base",
       "_view_module_version": "1.2.0",
       "_view_name": "LayoutView",
       "align_content": null,
       "align_items": null,
       "align_self": null,
       "border": null,
       "bottom": null,
       "display": null,
       "flex": null,
       "flex_flow": null,
       "grid_area": null,
       "grid_auto_columns": null,
       "grid_auto_flow": null,
       "grid_auto_rows": null,
       "grid_column": null,
       "grid_gap": null,
       "grid_row": null,
       "grid_template_areas": null,
       "grid_template_columns": null,
       "grid_template_rows": null,
       "height": null,
       "justify_content": null,
       "justify_items": null,
       "left": null,
       "margin": null,
       "max_height": null,
       "max_width": null,
       "min_height": null,
       "min_width": null,
       "object_fit": null,
       "object_position": null,
       "order": null,
       "overflow": null,
       "overflow_x": null,
       "overflow_y": null,
       "padding": null,
       "right": null,
       "top": null,
       "visibility": null,
       "width": null
      }
     },
     "aa36ca3530e74bb496cffe5d37803201": {
      "model_module": "@jupyter-widgets/base",
      "model_module_version": "1.2.0",
      "model_name": "LayoutModel",
      "state": {
       "_model_module": "@jupyter-widgets/base",
       "_model_module_version": "1.2.0",
       "_model_name": "LayoutModel",
       "_view_count": null,
       "_view_module": "@jupyter-widgets/base",
       "_view_module_version": "1.2.0",
       "_view_name": "LayoutView",
       "align_content": null,
       "align_items": null,
       "align_self": null,
       "border": null,
       "bottom": null,
       "display": null,
       "flex": null,
       "flex_flow": null,
       "grid_area": null,
       "grid_auto_columns": null,
       "grid_auto_flow": null,
       "grid_auto_rows": null,
       "grid_column": null,
       "grid_gap": null,
       "grid_row": null,
       "grid_template_areas": null,
       "grid_template_columns": null,
       "grid_template_rows": null,
       "height": null,
       "justify_content": null,
       "justify_items": null,
       "left": null,
       "margin": null,
       "max_height": null,
       "max_width": null,
       "min_height": null,
       "min_width": null,
       "object_fit": null,
       "object_position": null,
       "order": null,
       "overflow": null,
       "overflow_x": null,
       "overflow_y": null,
       "padding": null,
       "right": null,
       "top": null,
       "visibility": null,
       "width": null
      }
     },
     "b3a36505b7dc4e86a254a83f9555a9e1": {
      "model_module": "@jupyter-widgets/controls",
      "model_module_version": "1.5.0",
      "model_name": "ProgressStyleModel",
      "state": {
       "_model_module": "@jupyter-widgets/controls",
       "_model_module_version": "1.5.0",
       "_model_name": "ProgressStyleModel",
       "_view_count": null,
       "_view_module": "@jupyter-widgets/base",
       "_view_module_version": "1.2.0",
       "_view_name": "StyleView",
       "bar_color": null,
       "description_width": ""
      }
     },
     "b6fd417efcc54298b40622e84897a060": {
      "model_module": "@jupyter-widgets/base",
      "model_module_version": "1.2.0",
      "model_name": "LayoutModel",
      "state": {
       "_model_module": "@jupyter-widgets/base",
       "_model_module_version": "1.2.0",
       "_model_name": "LayoutModel",
       "_view_count": null,
       "_view_module": "@jupyter-widgets/base",
       "_view_module_version": "1.2.0",
       "_view_name": "LayoutView",
       "align_content": null,
       "align_items": null,
       "align_self": null,
       "border": null,
       "bottom": null,
       "display": null,
       "flex": null,
       "flex_flow": null,
       "grid_area": null,
       "grid_auto_columns": null,
       "grid_auto_flow": null,
       "grid_auto_rows": null,
       "grid_column": null,
       "grid_gap": null,
       "grid_row": null,
       "grid_template_areas": null,
       "grid_template_columns": null,
       "grid_template_rows": null,
       "height": null,
       "justify_content": null,
       "justify_items": null,
       "left": null,
       "margin": null,
       "max_height": null,
       "max_width": null,
       "min_height": null,
       "min_width": null,
       "object_fit": null,
       "object_position": null,
       "order": null,
       "overflow": null,
       "overflow_x": null,
       "overflow_y": null,
       "padding": null,
       "right": null,
       "top": null,
       "visibility": null,
       "width": null
      }
     },
     "b9d83378c18449ae8a73a7aa033534e0": {
      "model_module": "@jupyter-widgets/controls",
      "model_module_version": "1.5.0",
      "model_name": "HBoxModel",
      "state": {
       "_dom_classes": [],
       "_model_module": "@jupyter-widgets/controls",
       "_model_module_version": "1.5.0",
       "_model_name": "HBoxModel",
       "_view_count": null,
       "_view_module": "@jupyter-widgets/controls",
       "_view_module_version": "1.5.0",
       "_view_name": "HBoxView",
       "box_style": "",
       "children": [
        "IPY_MODEL_7c4310a6264a4ca48fd25020ef66a12c",
        "IPY_MODEL_e368a9c33faf428d871de49687668269",
        "IPY_MODEL_f6378ca5f0a74416a3c73dddd10cf279"
       ],
       "layout": "IPY_MODEL_446c1b9113744be09b66d069ed5f18d5"
      }
     },
     "be478bff4cc0450c92abc7145e62104f": {
      "model_module": "@jupyter-widgets/controls",
      "model_module_version": "1.5.0",
      "model_name": "ProgressStyleModel",
      "state": {
       "_model_module": "@jupyter-widgets/controls",
       "_model_module_version": "1.5.0",
       "_model_name": "ProgressStyleModel",
       "_view_count": null,
       "_view_module": "@jupyter-widgets/base",
       "_view_module_version": "1.2.0",
       "_view_name": "StyleView",
       "bar_color": null,
       "description_width": ""
      }
     },
     "be6dce002b0e42b2a3fd6a502a3f6b11": {
      "model_module": "@jupyter-widgets/controls",
      "model_module_version": "1.5.0",
      "model_name": "DescriptionStyleModel",
      "state": {
       "_model_module": "@jupyter-widgets/controls",
       "_model_module_version": "1.5.0",
       "_model_name": "DescriptionStyleModel",
       "_view_count": null,
       "_view_module": "@jupyter-widgets/base",
       "_view_module_version": "1.2.0",
       "_view_name": "StyleView",
       "description_width": ""
      }
     },
     "c6532cff21be4147bd588dc6a583375f": {
      "model_module": "@jupyter-widgets/controls",
      "model_module_version": "1.5.0",
      "model_name": "ProgressStyleModel",
      "state": {
       "_model_module": "@jupyter-widgets/controls",
       "_model_module_version": "1.5.0",
       "_model_name": "ProgressStyleModel",
       "_view_count": null,
       "_view_module": "@jupyter-widgets/base",
       "_view_module_version": "1.2.0",
       "_view_name": "StyleView",
       "bar_color": null,
       "description_width": ""
      }
     },
     "c6e711dd6c624596a2bda5aea2923ee1": {
      "model_module": "@jupyter-widgets/base",
      "model_module_version": "1.2.0",
      "model_name": "LayoutModel",
      "state": {
       "_model_module": "@jupyter-widgets/base",
       "_model_module_version": "1.2.0",
       "_model_name": "LayoutModel",
       "_view_count": null,
       "_view_module": "@jupyter-widgets/base",
       "_view_module_version": "1.2.0",
       "_view_name": "LayoutView",
       "align_content": null,
       "align_items": null,
       "align_self": null,
       "border": null,
       "bottom": null,
       "display": null,
       "flex": null,
       "flex_flow": null,
       "grid_area": null,
       "grid_auto_columns": null,
       "grid_auto_flow": null,
       "grid_auto_rows": null,
       "grid_column": null,
       "grid_gap": null,
       "grid_row": null,
       "grid_template_areas": null,
       "grid_template_columns": null,
       "grid_template_rows": null,
       "height": null,
       "justify_content": null,
       "justify_items": null,
       "left": null,
       "margin": null,
       "max_height": null,
       "max_width": null,
       "min_height": null,
       "min_width": null,
       "object_fit": null,
       "object_position": null,
       "order": null,
       "overflow": null,
       "overflow_x": null,
       "overflow_y": null,
       "padding": null,
       "right": null,
       "top": null,
       "visibility": null,
       "width": null
      }
     },
     "c821b09696e7431ebe57ace913aee9b4": {
      "model_module": "@jupyter-widgets/controls",
      "model_module_version": "1.5.0",
      "model_name": "DescriptionStyleModel",
      "state": {
       "_model_module": "@jupyter-widgets/controls",
       "_model_module_version": "1.5.0",
       "_model_name": "DescriptionStyleModel",
       "_view_count": null,
       "_view_module": "@jupyter-widgets/base",
       "_view_module_version": "1.2.0",
       "_view_name": "StyleView",
       "description_width": ""
      }
     },
     "cd0e5d32a4524dd6875b357b509fea8e": {
      "model_module": "@jupyter-widgets/controls",
      "model_module_version": "1.5.0",
      "model_name": "FloatProgressModel",
      "state": {
       "_dom_classes": [],
       "_model_module": "@jupyter-widgets/controls",
       "_model_module_version": "1.5.0",
       "_model_name": "FloatProgressModel",
       "_view_count": null,
       "_view_module": "@jupyter-widgets/controls",
       "_view_module_version": "1.5.0",
       "_view_name": "ProgressView",
       "bar_style": "success",
       "description": "",
       "description_tooltip": null,
       "layout": "IPY_MODEL_e909e02f39ee4562986ddb82f7558a7a",
       "max": 616.0,
       "min": 0.0,
       "orientation": "horizontal",
       "style": "IPY_MODEL_b3a36505b7dc4e86a254a83f9555a9e1",
       "value": 616.0
      }
     },
     "d21fe66b5fcf478f86c4c9a9824eb08b": {
      "model_module": "@jupyter-widgets/controls",
      "model_module_version": "1.5.0",
      "model_name": "HTMLModel",
      "state": {
       "_dom_classes": [],
       "_model_module": "@jupyter-widgets/controls",
       "_model_module_version": "1.5.0",
       "_model_name": "HTMLModel",
       "_view_count": null,
       "_view_module": "@jupyter-widgets/controls",
       "_view_module_version": "1.5.0",
       "_view_name": "HTMLView",
       "description": "",
       "description_tooltip": null,
       "layout": "IPY_MODEL_c6e711dd6c624596a2bda5aea2923ee1",
       "placeholder": "​",
       "style": "IPY_MODEL_620e4e3a87884d708fbe92b75065ff9a",
       "value": " 432M/432M [00:19&lt;00:00, 23.5MB/s]"
      }
     },
     "d3336d7e869a43ddb0cb19fb444b5b0c": {
      "model_module": "@jupyter-widgets/controls",
      "model_module_version": "1.5.0",
      "model_name": "DescriptionStyleModel",
      "state": {
       "_model_module": "@jupyter-widgets/controls",
       "_model_module_version": "1.5.0",
       "_model_name": "DescriptionStyleModel",
       "_view_count": null,
       "_view_module": "@jupyter-widgets/base",
       "_view_module_version": "1.2.0",
       "_view_name": "StyleView",
       "description_width": ""
      }
     },
     "d6422fae73c343ea95a50a7ed8b0df90": {
      "model_module": "@jupyter-widgets/base",
      "model_module_version": "1.2.0",
      "model_name": "LayoutModel",
      "state": {
       "_model_module": "@jupyter-widgets/base",
       "_model_module_version": "1.2.0",
       "_model_name": "LayoutModel",
       "_view_count": null,
       "_view_module": "@jupyter-widgets/base",
       "_view_module_version": "1.2.0",
       "_view_name": "LayoutView",
       "align_content": null,
       "align_items": null,
       "align_self": null,
       "border": null,
       "bottom": null,
       "display": null,
       "flex": null,
       "flex_flow": null,
       "grid_area": null,
       "grid_auto_columns": null,
       "grid_auto_flow": null,
       "grid_auto_rows": null,
       "grid_column": null,
       "grid_gap": null,
       "grid_row": null,
       "grid_template_areas": null,
       "grid_template_columns": null,
       "grid_template_rows": null,
       "height": null,
       "justify_content": null,
       "justify_items": null,
       "left": null,
       "margin": null,
       "max_height": null,
       "max_width": null,
       "min_height": null,
       "min_width": null,
       "object_fit": null,
       "object_position": null,
       "order": null,
       "overflow": null,
       "overflow_x": null,
       "overflow_y": null,
       "padding": null,
       "right": null,
       "top": null,
       "visibility": null,
       "width": null
      }
     },
     "d67b30e33bab420fbee4af0194f63594": {
      "model_module": "@jupyter-widgets/controls",
      "model_module_version": "1.5.0",
      "model_name": "DescriptionStyleModel",
      "state": {
       "_model_module": "@jupyter-widgets/controls",
       "_model_module_version": "1.5.0",
       "_model_name": "DescriptionStyleModel",
       "_view_count": null,
       "_view_module": "@jupyter-widgets/base",
       "_view_module_version": "1.2.0",
       "_view_name": "StyleView",
       "description_width": ""
      }
     },
     "d76190d591c84f9092f12f0458214f23": {
      "model_module": "@jupyter-widgets/controls",
      "model_module_version": "1.5.0",
      "model_name": "DescriptionStyleModel",
      "state": {
       "_model_module": "@jupyter-widgets/controls",
       "_model_module_version": "1.5.0",
       "_model_name": "DescriptionStyleModel",
       "_view_count": null,
       "_view_module": "@jupyter-widgets/base",
       "_view_module_version": "1.2.0",
       "_view_name": "StyleView",
       "description_width": ""
      }
     },
     "d8506efec3f84eb3a66a1a907d4072e3": {
      "model_module": "@jupyter-widgets/controls",
      "model_module_version": "1.5.0",
      "model_name": "DescriptionStyleModel",
      "state": {
       "_model_module": "@jupyter-widgets/controls",
       "_model_module_version": "1.5.0",
       "_model_name": "DescriptionStyleModel",
       "_view_count": null,
       "_view_module": "@jupyter-widgets/base",
       "_view_module_version": "1.2.0",
       "_view_name": "StyleView",
       "description_width": ""
      }
     },
     "de481e55298249dfb4379948723094e5": {
      "model_module": "@jupyter-widgets/controls",
      "model_module_version": "1.5.0",
      "model_name": "ProgressStyleModel",
      "state": {
       "_model_module": "@jupyter-widgets/controls",
       "_model_module_version": "1.5.0",
       "_model_name": "ProgressStyleModel",
       "_view_count": null,
       "_view_module": "@jupyter-widgets/base",
       "_view_module_version": "1.2.0",
       "_view_name": "StyleView",
       "bar_color": null,
       "description_width": ""
      }
     },
     "e04bbc65b89f4b509bdd90297fb93af9": {
      "model_module": "@jupyter-widgets/base",
      "model_module_version": "1.2.0",
      "model_name": "LayoutModel",
      "state": {
       "_model_module": "@jupyter-widgets/base",
       "_model_module_version": "1.2.0",
       "_model_name": "LayoutModel",
       "_view_count": null,
       "_view_module": "@jupyter-widgets/base",
       "_view_module_version": "1.2.0",
       "_view_name": "LayoutView",
       "align_content": null,
       "align_items": null,
       "align_self": null,
       "border": null,
       "bottom": null,
       "display": null,
       "flex": null,
       "flex_flow": null,
       "grid_area": null,
       "grid_auto_columns": null,
       "grid_auto_flow": null,
       "grid_auto_rows": null,
       "grid_column": null,
       "grid_gap": null,
       "grid_row": null,
       "grid_template_areas": null,
       "grid_template_columns": null,
       "grid_template_rows": null,
       "height": null,
       "justify_content": null,
       "justify_items": null,
       "left": null,
       "margin": null,
       "max_height": null,
       "max_width": null,
       "min_height": null,
       "min_width": null,
       "object_fit": null,
       "object_position": null,
       "order": null,
       "overflow": null,
       "overflow_x": null,
       "overflow_y": null,
       "padding": null,
       "right": null,
       "top": null,
       "visibility": null,
       "width": null
      }
     },
     "e368a9c33faf428d871de49687668269": {
      "model_module": "@jupyter-widgets/controls",
      "model_module_version": "1.5.0",
      "model_name": "FloatProgressModel",
      "state": {
       "_dom_classes": [],
       "_model_module": "@jupyter-widgets/controls",
       "_model_module_version": "1.5.0",
       "_model_name": "FloatProgressModel",
       "_view_count": null,
       "_view_module": "@jupyter-widgets/controls",
       "_view_module_version": "1.5.0",
       "_view_name": "ProgressView",
       "bar_style": "success",
       "description": "",
       "description_tooltip": null,
       "layout": "IPY_MODEL_8e848662aeea4a73a7118530d35c3c82",
       "max": 5069051.0,
       "min": 0.0,
       "orientation": "horizontal",
       "style": "IPY_MODEL_83658868d3834b818248860d3c7e5d4e",
       "value": 5069051.0
      }
     },
     "e648d90bc4ad4f4c885c09036b8bf34a": {
      "model_module": "@jupyter-widgets/base",
      "model_module_version": "1.2.0",
      "model_name": "LayoutModel",
      "state": {
       "_model_module": "@jupyter-widgets/base",
       "_model_module_version": "1.2.0",
       "_model_name": "LayoutModel",
       "_view_count": null,
       "_view_module": "@jupyter-widgets/base",
       "_view_module_version": "1.2.0",
       "_view_name": "LayoutView",
       "align_content": null,
       "align_items": null,
       "align_self": null,
       "border": null,
       "bottom": null,
       "display": null,
       "flex": null,
       "flex_flow": null,
       "grid_area": null,
       "grid_auto_columns": null,
       "grid_auto_flow": null,
       "grid_auto_rows": null,
       "grid_column": null,
       "grid_gap": null,
       "grid_row": null,
       "grid_template_areas": null,
       "grid_template_columns": null,
       "grid_template_rows": null,
       "height": null,
       "justify_content": null,
       "justify_items": null,
       "left": null,
       "margin": null,
       "max_height": null,
       "max_width": null,
       "min_height": null,
       "min_width": null,
       "object_fit": null,
       "object_position": null,
       "order": null,
       "overflow": null,
       "overflow_x": null,
       "overflow_y": null,
       "padding": null,
       "right": null,
       "top": null,
       "visibility": null,
       "width": null
      }
     },
     "e909e02f39ee4562986ddb82f7558a7a": {
      "model_module": "@jupyter-widgets/base",
      "model_module_version": "1.2.0",
      "model_name": "LayoutModel",
      "state": {
       "_model_module": "@jupyter-widgets/base",
       "_model_module_version": "1.2.0",
       "_model_name": "LayoutModel",
       "_view_count": null,
       "_view_module": "@jupyter-widgets/base",
       "_view_module_version": "1.2.0",
       "_view_name": "LayoutView",
       "align_content": null,
       "align_items": null,
       "align_self": null,
       "border": null,
       "bottom": null,
       "display": null,
       "flex": null,
       "flex_flow": null,
       "grid_area": null,
       "grid_auto_columns": null,
       "grid_auto_flow": null,
       "grid_auto_rows": null,
       "grid_column": null,
       "grid_gap": null,
       "grid_row": null,
       "grid_template_areas": null,
       "grid_template_columns": null,
       "grid_template_rows": null,
       "height": null,
       "justify_content": null,
       "justify_items": null,
       "left": null,
       "margin": null,
       "max_height": null,
       "max_width": null,
       "min_height": null,
       "min_width": null,
       "object_fit": null,
       "object_position": null,
       "order": null,
       "overflow": null,
       "overflow_x": null,
       "overflow_y": null,
       "padding": null,
       "right": null,
       "top": null,
       "visibility": null,
       "width": null
      }
     },
     "ee84d85c310141f98b668a4b6e565de2": {
      "model_module": "@jupyter-widgets/controls",
      "model_module_version": "1.5.0",
      "model_name": "HTMLModel",
      "state": {
       "_dom_classes": [],
       "_model_module": "@jupyter-widgets/controls",
       "_model_module_version": "1.5.0",
       "_model_name": "HTMLModel",
       "_view_count": null,
       "_view_module": "@jupyter-widgets/controls",
       "_view_module_version": "1.5.0",
       "_view_name": "HTMLView",
       "description": "",
       "description_tooltip": null,
       "layout": "IPY_MODEL_833281dbb3ef48b284bed85774fcd7cd",
       "placeholder": "​",
       "style": "IPY_MODEL_be6dce002b0e42b2a3fd6a502a3f6b11",
       "value": "Downloading: 100%"
      }
     },
     "efa2b3e24f2f45dfada435efe8174bb9": {
      "model_module": "@jupyter-widgets/controls",
      "model_module_version": "1.5.0",
      "model_name": "HTMLModel",
      "state": {
       "_dom_classes": [],
       "_model_module": "@jupyter-widgets/controls",
       "_model_module_version": "1.5.0",
       "_model_name": "HTMLModel",
       "_view_count": null,
       "_view_module": "@jupyter-widgets/controls",
       "_view_module_version": "1.5.0",
       "_view_name": "HTMLView",
       "description": "",
       "description_tooltip": null,
       "layout": "IPY_MODEL_62ef07d7f6b2492b820dc8018b60d8bb",
       "placeholder": "​",
       "style": "IPY_MODEL_7409ebe6411d4ad2b26e81e4234a5226",
       "value": " 8.68M/8.68M [00:00&lt;00:00, 18.1MB/s]"
      }
     },
     "f04a5b0be9994a9a9a3b2c6a473dac8e": {
      "model_module": "@jupyter-widgets/base",
      "model_module_version": "1.2.0",
      "model_name": "LayoutModel",
      "state": {
       "_model_module": "@jupyter-widgets/base",
       "_model_module_version": "1.2.0",
       "_model_name": "LayoutModel",
       "_view_count": null,
       "_view_module": "@jupyter-widgets/base",
       "_view_module_version": "1.2.0",
       "_view_name": "LayoutView",
       "align_content": null,
       "align_items": null,
       "align_self": null,
       "border": null,
       "bottom": null,
       "display": null,
       "flex": null,
       "flex_flow": null,
       "grid_area": null,
       "grid_auto_columns": null,
       "grid_auto_flow": null,
       "grid_auto_rows": null,
       "grid_column": null,
       "grid_gap": null,
       "grid_row": null,
       "grid_template_areas": null,
       "grid_template_columns": null,
       "grid_template_rows": null,
       "height": null,
       "justify_content": null,
       "justify_items": null,
       "left": null,
       "margin": null,
       "max_height": null,
       "max_width": null,
       "min_height": null,
       "min_width": null,
       "object_fit": null,
       "object_position": null,
       "order": null,
       "overflow": null,
       "overflow_x": null,
       "overflow_y": null,
       "padding": null,
       "right": null,
       "top": null,
       "visibility": null,
       "width": null
      }
     },
     "f6378ca5f0a74416a3c73dddd10cf279": {
      "model_module": "@jupyter-widgets/controls",
      "model_module_version": "1.5.0",
      "model_name": "HTMLModel",
      "state": {
       "_dom_classes": [],
       "_model_module": "@jupyter-widgets/controls",
       "_model_module_version": "1.5.0",
       "_model_name": "HTMLModel",
       "_view_count": null,
       "_view_module": "@jupyter-widgets/controls",
       "_view_module_version": "1.5.0",
       "_view_name": "HTMLView",
       "description": "",
       "description_tooltip": null,
       "layout": "IPY_MODEL_40de0f8b05c348049050dba0ff8ddc6e",
       "placeholder": "​",
       "style": "IPY_MODEL_d8506efec3f84eb3a66a1a907d4072e3",
       "value": " 4.83M/4.83M [00:00&lt;00:00, 10.3MB/s]"
      }
     },
     "f7270da2e8ea4de6bec659ad24a38987": {
      "model_module": "@jupyter-widgets/controls",
      "model_module_version": "1.5.0",
      "model_name": "HBoxModel",
      "state": {
       "_dom_classes": [],
       "_model_module": "@jupyter-widgets/controls",
       "_model_module_version": "1.5.0",
       "_model_name": "HBoxModel",
       "_view_count": null,
       "_view_module": "@jupyter-widgets/controls",
       "_view_module_version": "1.5.0",
       "_view_name": "HBoxView",
       "box_style": "",
       "children": [
        "IPY_MODEL_5f8cbe448acc4322952c833a93127def",
        "IPY_MODEL_1049711e6eb74bfba8a6ef295b8d8afe",
        "IPY_MODEL_d21fe66b5fcf478f86c4c9a9824eb08b"
       ],
       "layout": "IPY_MODEL_e648d90bc4ad4f4c885c09036b8bf34a"
      }
     }
    },
    "version_major": 2,
    "version_minor": 0
   }
  }
 },
 "nbformat": 4,
 "nbformat_minor": 5
}
