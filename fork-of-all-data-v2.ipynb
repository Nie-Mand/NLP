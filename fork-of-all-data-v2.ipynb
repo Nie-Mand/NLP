{
 "cells": [
  {
   "cell_type": "code",
   "execution_count": 1,
   "id": "4a18b394",
   "metadata": {
    "_cell_guid": "b1076dfc-b9ad-4769-8c92-a6c4dae69d19",
    "_uuid": "8f2839f25d086af736a60e9eeb907d3b93b6e0e5",
    "execution": {
     "iopub.execute_input": "2022-06-10T11:17:19.397014Z",
     "iopub.status.busy": "2022-06-10T11:17:19.395077Z",
     "iopub.status.idle": "2022-06-10T11:17:26.142324Z",
     "shell.execute_reply": "2022-06-10T11:17:26.141500Z"
    },
    "papermill": {
     "duration": 6.76855,
     "end_time": "2022-06-10T11:17:26.144568",
     "exception": false,
     "start_time": "2022-06-10T11:17:19.376018",
     "status": "completed"
    },
    "tags": []
   },
   "outputs": [],
   "source": [
    "import numpy as np\n",
    "import pandas as pd \n",
    "import seaborn as sns\n",
    "import matplotlib.pyplot as plt \n",
    "import matplotlib.style as stl \n",
    "from tensorflow import keras \n",
    "from keras.preprocessing.text import Tokenizer\n",
    "from nltk.corpus import stopwords\n",
    "import string\n",
    "from tensorflow.keras.models import Sequential,Model\n",
    "from tensorflow.keras.layers import Dense, LSTM, Embedding,Dropout,SpatialDropout1D,Conv1D,MaxPooling1D,GRU,BatchNormalization\n",
    "import warnings\n",
    "warnings.filterwarnings('ignore')\n",
    "stl.use('ggplot')\n",
    "from tqdm import tqdm\n",
    "import string\n",
    "from nltk.corpus import stopwords\n",
    "from nltk.tokenize import word_tokenize\n",
    "from nltk.stem import WordNetLemmatizer\n",
    "from nltk.stem.snowball import SnowballStemmer\n",
    "import regex as re"
   ]
  },
  {
   "cell_type": "code",
   "execution_count": 2,
   "id": "8f3bdc03",
   "metadata": {
    "execution": {
     "iopub.execute_input": "2022-06-10T11:17:26.174600Z",
     "iopub.status.busy": "2022-06-10T11:17:26.173507Z",
     "iopub.status.idle": "2022-06-10T11:17:26.305754Z",
     "shell.execute_reply": "2022-06-10T11:17:26.304937Z"
    },
    "papermill": {
     "duration": 0.149273,
     "end_time": "2022-06-10T11:17:26.308106",
     "exception": false,
     "start_time": "2022-06-10T11:17:26.158833",
     "status": "completed"
    },
    "tags": []
   },
   "outputs": [],
   "source": [
    "newdata=pd.read_csv(\"../input/oathss/oaths.csv\")"
   ]
  },
  {
   "cell_type": "markdown",
   "id": "e255c9ef",
   "metadata": {
    "papermill": {
     "duration": 0.01408,
     "end_time": "2022-06-10T11:17:26.336454",
     "exception": false,
     "start_time": "2022-06-10T11:17:26.322374",
     "status": "completed"
    },
    "tags": []
   },
   "source": [
    "# Preprocessing"
   ]
  },
  {
   "cell_type": "code",
   "execution_count": 3,
   "id": "cdf1bf30",
   "metadata": {
    "execution": {
     "iopub.execute_input": "2022-06-10T11:17:26.365979Z",
     "iopub.status.busy": "2022-06-10T11:17:26.365641Z",
     "iopub.status.idle": "2022-06-10T11:17:26.373370Z",
     "shell.execute_reply": "2022-06-10T11:17:26.372543Z"
    },
    "papermill": {
     "duration": 0.024209,
     "end_time": "2022-06-10T11:17:26.375159",
     "exception": false,
     "start_time": "2022-06-10T11:17:26.350950",
     "status": "completed"
    },
    "tags": []
   },
   "outputs": [],
   "source": [
    "all_text=newdata[\"transcription_text\"]"
   ]
  },
  {
   "cell_type": "code",
   "execution_count": 4,
   "id": "abf765b2",
   "metadata": {
    "execution": {
     "iopub.execute_input": "2022-06-10T11:17:26.404723Z",
     "iopub.status.busy": "2022-06-10T11:17:26.404045Z",
     "iopub.status.idle": "2022-06-10T11:17:26.413924Z",
     "shell.execute_reply": "2022-06-10T11:17:26.413203Z"
    },
    "papermill": {
     "duration": 0.026742,
     "end_time": "2022-06-10T11:17:26.415891",
     "exception": false,
     "start_time": "2022-06-10T11:17:26.389149",
     "status": "completed"
    },
    "tags": []
   },
   "outputs": [],
   "source": [
    "stop_words = set(stopwords.words('english'))\n",
    "punctuation = string.punctuation\n",
    "stemmer = SnowballStemmer(language=\"english\")\n",
    "lemmatizer = WordNetLemmatizer()"
   ]
  },
  {
   "cell_type": "code",
   "execution_count": 5,
   "id": "d2e770ca",
   "metadata": {
    "execution": {
     "iopub.execute_input": "2022-06-10T11:17:26.445633Z",
     "iopub.status.busy": "2022-06-10T11:17:26.444959Z",
     "iopub.status.idle": "2022-06-10T11:17:26.451842Z",
     "shell.execute_reply": "2022-06-10T11:17:26.451104Z"
    },
    "papermill": {
     "duration": 0.023906,
     "end_time": "2022-06-10T11:17:26.454291",
     "exception": false,
     "start_time": "2022-06-10T11:17:26.430385",
     "status": "completed"
    },
    "tags": []
   },
   "outputs": [
    {
     "data": {
      "text/plain": [
       "'!\"#$%&\\'()*+,-./:;<=>?@[\\\\]^_`{|}~'"
      ]
     },
     "execution_count": 5,
     "metadata": {},
     "output_type": "execute_result"
    }
   ],
   "source": [
    "stop_words.remove(\"of\")\n",
    "punctuation"
   ]
  },
  {
   "cell_type": "code",
   "execution_count": 6,
   "id": "ffa16414",
   "metadata": {
    "execution": {
     "iopub.execute_input": "2022-06-10T11:17:26.483276Z",
     "iopub.status.busy": "2022-06-10T11:17:26.483004Z",
     "iopub.status.idle": "2022-06-10T11:17:26.488364Z",
     "shell.execute_reply": "2022-06-10T11:17:26.487643Z"
    },
    "papermill": {
     "duration": 0.021679,
     "end_time": "2022-06-10T11:17:26.489963",
     "exception": false,
     "start_time": "2022-06-10T11:17:26.468284",
     "status": "completed"
    },
    "tags": []
   },
   "outputs": [],
   "source": [
    "def process(s):\n",
    "    s= re.sub(\"([\\(\\[]).*?([\\)\\]])\",\" \",s)\n",
    "    for p in punctuation:\n",
    "        s = s.replace(p, '')\n",
    "    s = word_tokenize(s)\n",
    "    s = [w for w in s if not w in stop_words] #optional\n",
    "    s = [lemmatizer.lemmatize(word) for word in s]\n",
    "    return s"
   ]
  },
  {
   "cell_type": "code",
   "execution_count": 7,
   "id": "21e557fa",
   "metadata": {
    "execution": {
     "iopub.execute_input": "2022-06-10T11:17:26.518952Z",
     "iopub.status.busy": "2022-06-10T11:17:26.518252Z",
     "iopub.status.idle": "2022-06-10T11:17:33.020424Z",
     "shell.execute_reply": "2022-06-10T11:17:33.019537Z"
    },
    "papermill": {
     "duration": 6.518868,
     "end_time": "2022-06-10T11:17:33.022548",
     "exception": false,
     "start_time": "2022-06-10T11:17:26.503680",
     "status": "completed"
    },
    "tags": []
   },
   "outputs": [
    {
     "name": "stderr",
     "output_type": "stream",
     "text": [
      "100%|██████████| 2136/2136 [00:06<00:00, 328.98it/s]\n"
     ]
    }
   ],
   "source": [
    "for i in tqdm(range(newdata.shape[0])):\n",
    "    all_text[i] = process(all_text[i])"
   ]
  },
  {
   "cell_type": "code",
   "execution_count": 8,
   "id": "2204347e",
   "metadata": {
    "execution": {
     "iopub.execute_input": "2022-06-10T11:17:33.058674Z",
     "iopub.status.busy": "2022-06-10T11:17:33.058365Z",
     "iopub.status.idle": "2022-06-10T11:17:33.716559Z",
     "shell.execute_reply": "2022-06-10T11:17:33.715365Z"
    },
    "papermill": {
     "duration": 0.677663,
     "end_time": "2022-06-10T11:17:33.718386",
     "exception": false,
     "start_time": "2022-06-10T11:17:33.040723",
     "status": "completed"
    },
    "tags": []
   },
   "outputs": [
    {
     "name": "stderr",
     "output_type": "stream",
     "text": [
      "100%|██████████| 2136/2136 [00:00<00:00, 3290.91it/s]\n"
     ]
    }
   ],
   "source": [
    "for i in tqdm(range(newdata.shape[0])):\n",
    "    all_text[i] = \" \".join(all_text[i])"
   ]
  },
  {
   "cell_type": "code",
   "execution_count": 9,
   "id": "d3f1822f",
   "metadata": {
    "execution": {
     "iopub.execute_input": "2022-06-10T11:17:33.754153Z",
     "iopub.status.busy": "2022-06-10T11:17:33.753502Z",
     "iopub.status.idle": "2022-06-10T11:17:33.761125Z",
     "shell.execute_reply": "2022-06-10T11:17:33.760355Z"
    },
    "papermill": {
     "duration": 0.027005,
     "end_time": "2022-06-10T11:17:33.762760",
     "exception": false,
     "start_time": "2022-06-10T11:17:33.735755",
     "status": "completed"
    },
    "tags": []
   },
   "outputs": [
    {
     "data": {
      "text/plain": [
       "0       I I C Meekins of Currituck County State of Nor...\n",
       "1       Department of Virginia North Carolina 1864 tak...\n",
       "2       I W H Pearce of Craven County State of NorthCa...\n",
       "3       State of North Carolina County I solemnly swea...\n",
       "4       State of North Carolina Wake County I SE Allen...\n",
       "                              ...                        \n",
       "2131    Office Provost Marshal Raleigh NC May 26 65 Th...\n",
       "2132    July 30th 1867 Birnie Wm Agent Bu R F A L Oath...\n",
       "2133    State of North Carolina Robeson County I Willi...\n",
       "2134    NARA 449 102 We whose name written well person...\n",
       "2135    NARA 450 404 Office Provost Marshall City of W...\n",
       "Name: transcription_text, Length: 2136, dtype: object"
      ]
     },
     "execution_count": 9,
     "metadata": {},
     "output_type": "execute_result"
    }
   ],
   "source": [
    "all_text"
   ]
  },
  {
   "cell_type": "code",
   "execution_count": null,
   "id": "f365d85e",
   "metadata": {
    "papermill": {
     "duration": 0.016971,
     "end_time": "2022-06-10T11:17:33.797437",
     "exception": false,
     "start_time": "2022-06-10T11:17:33.780466",
     "status": "completed"
    },
    "tags": []
   },
   "outputs": [],
   "source": []
  },
  {
   "cell_type": "markdown",
   "id": "18f83a8b",
   "metadata": {
    "papermill": {
     "duration": 0.016741,
     "end_time": "2022-06-10T11:17:33.831169",
     "exception": false,
     "start_time": "2022-06-10T11:17:33.814428",
     "status": "completed"
    },
    "tags": []
   },
   "source": [
    "# Flair"
   ]
  },
  {
   "cell_type": "code",
   "execution_count": 10,
   "id": "3c55fb43",
   "metadata": {
    "execution": {
     "iopub.execute_input": "2022-06-10T11:17:33.867461Z",
     "iopub.status.busy": "2022-06-10T11:17:33.867116Z",
     "iopub.status.idle": "2022-06-10T11:18:37.551049Z",
     "shell.execute_reply": "2022-06-10T11:18:37.549998Z"
    },
    "papermill": {
     "duration": 63.704637,
     "end_time": "2022-06-10T11:18:37.553141",
     "exception": false,
     "start_time": "2022-06-10T11:17:33.848504",
     "status": "completed"
    },
    "tags": []
   },
   "outputs": [
    {
     "name": "stdout",
     "output_type": "stream",
     "text": [
      "Requirement already satisfied: Cython in /opt/conda/lib/python3.7/site-packages (0.29.30)\r\n",
      "\u001b[33mWARNING: Running pip as the 'root' user can result in broken permissions and conflicting behaviour with the system package manager. It is recommended to use a virtual environment instead: https://pip.pypa.io/warnings/venv\u001b[0m\u001b[33m\r\n",
      "\u001b[0mRequirement already satisfied: transformers in /opt/conda/lib/python3.7/site-packages (4.18.0)\r\n",
      "Requirement already satisfied: sacremoses in /opt/conda/lib/python3.7/site-packages (from transformers) (0.0.53)\r\n",
      "Requirement already satisfied: numpy>=1.17 in /opt/conda/lib/python3.7/site-packages (from transformers) (1.21.6)\r\n",
      "Requirement already satisfied: importlib-metadata in /opt/conda/lib/python3.7/site-packages (from transformers) (4.11.4)\r\n",
      "Requirement already satisfied: regex!=2019.12.17 in /opt/conda/lib/python3.7/site-packages (from transformers) (2021.11.10)\r\n",
      "Requirement already satisfied: pyyaml>=5.1 in /opt/conda/lib/python3.7/site-packages (from transformers) (6.0)\r\n",
      "Requirement already satisfied: tokenizers!=0.11.3,<0.13,>=0.11.1 in /opt/conda/lib/python3.7/site-packages (from transformers) (0.12.1)\r\n",
      "Requirement already satisfied: filelock in /opt/conda/lib/python3.7/site-packages (from transformers) (3.6.0)\r\n",
      "Requirement already satisfied: huggingface-hub<1.0,>=0.1.0 in /opt/conda/lib/python3.7/site-packages (from transformers) (0.5.1)\r\n",
      "Requirement already satisfied: tqdm>=4.27 in /opt/conda/lib/python3.7/site-packages (from transformers) (4.64.0)\r\n",
      "Requirement already satisfied: packaging>=20.0 in /opt/conda/lib/python3.7/site-packages (from transformers) (21.3)\r\n",
      "Requirement already satisfied: requests in /opt/conda/lib/python3.7/site-packages (from transformers) (2.27.1)\r\n",
      "Requirement already satisfied: typing-extensions>=3.7.4.3 in /opt/conda/lib/python3.7/site-packages (from huggingface-hub<1.0,>=0.1.0->transformers) (4.2.0)\r\n",
      "Requirement already satisfied: pyparsing!=3.0.5,>=2.0.2 in /opt/conda/lib/python3.7/site-packages (from packaging>=20.0->transformers) (3.0.9)\r\n",
      "Requirement already satisfied: zipp>=0.5 in /opt/conda/lib/python3.7/site-packages (from importlib-metadata->transformers) (3.8.0)\r\n",
      "Requirement already satisfied: idna<4,>=2.5 in /opt/conda/lib/python3.7/site-packages (from requests->transformers) (3.3)\r\n",
      "Requirement already satisfied: certifi>=2017.4.17 in /opt/conda/lib/python3.7/site-packages (from requests->transformers) (2022.5.18.1)\r\n",
      "Requirement already satisfied: urllib3<1.27,>=1.21.1 in /opt/conda/lib/python3.7/site-packages (from requests->transformers) (1.26.9)\r\n",
      "Requirement already satisfied: charset-normalizer~=2.0.0 in /opt/conda/lib/python3.7/site-packages (from requests->transformers) (2.0.12)\r\n",
      "Requirement already satisfied: click in /opt/conda/lib/python3.7/site-packages (from sacremoses->transformers) (8.0.4)\r\n",
      "Requirement already satisfied: joblib in /opt/conda/lib/python3.7/site-packages (from sacremoses->transformers) (1.1.0)\r\n",
      "Requirement already satisfied: six in /opt/conda/lib/python3.7/site-packages (from sacremoses->transformers) (1.16.0)\r\n",
      "\u001b[33mWARNING: Running pip as the 'root' user can result in broken permissions and conflicting behaviour with the system package manager. It is recommended to use a virtual environment instead: https://pip.pypa.io/warnings/venv\u001b[0m\u001b[33m\r\n",
      "\u001b[0mCollecting flair\r\n",
      "  Downloading flair-0.11.3-py3-none-any.whl (401 kB)\r\n",
      "\u001b[2K     \u001b[90m━━━━━━━━━━━━━━━━━━━━━━━━━━━━━━━━━━━━━━━\u001b[0m \u001b[32m401.9/401.9 kB\u001b[0m \u001b[31m1.3 MB/s\u001b[0m eta \u001b[36m0:00:00\u001b[0m\r\n",
      "\u001b[?25hCollecting mpld3==0.3\r\n",
      "  Downloading mpld3-0.3.tar.gz (788 kB)\r\n",
      "\u001b[2K     \u001b[90m━━━━━━━━━━━━━━━━━━━━━━━━━━━━━━━━━━━━━━━\u001b[0m \u001b[32m788.5/788.5 kB\u001b[0m \u001b[31m6.5 MB/s\u001b[0m eta \u001b[36m0:00:00\u001b[0m\r\n",
      "\u001b[?25h  Preparing metadata (setup.py) ... \u001b[?25l-\b \bdone\r\n",
      "\u001b[?25hCollecting sentencepiece==0.1.95\r\n",
      "  Downloading sentencepiece-0.1.95-cp37-cp37m-manylinux2014_x86_64.whl (1.2 MB)\r\n",
      "\u001b[2K     \u001b[90m━━━━━━━━━━━━━━━━━━━━━━━━━━━━━━━━━━━━━━━━\u001b[0m \u001b[32m1.2/1.2 MB\u001b[0m \u001b[31m11.9 MB/s\u001b[0m eta \u001b[36m0:00:00\u001b[0m\r\n",
      "\u001b[?25hRequirement already satisfied: scikit-learn>=0.21.3 in /opt/conda/lib/python3.7/site-packages (from flair) (1.0.2)\r\n",
      "Requirement already satisfied: tabulate in /opt/conda/lib/python3.7/site-packages (from flair) (0.8.9)\r\n",
      "Requirement already satisfied: tqdm>=4.26.0 in /opt/conda/lib/python3.7/site-packages (from flair) (4.64.0)\r\n",
      "Requirement already satisfied: regex in /opt/conda/lib/python3.7/site-packages (from flair) (2021.11.10)\r\n",
      "Collecting sqlitedict>=1.6.0\r\n",
      "  Downloading sqlitedict-2.0.0.tar.gz (46 kB)\r\n",
      "\u001b[2K     \u001b[90m━━━━━━━━━━━━━━━━━━━━━━━━━━━━━━━━━━━━━━━━\u001b[0m \u001b[32m46.3/46.3 kB\u001b[0m \u001b[31m4.2 MB/s\u001b[0m eta \u001b[36m0:00:00\u001b[0m\r\n",
      "\u001b[?25h  Preparing metadata (setup.py) ... \u001b[?25l-\b \bdone\r\n",
      "\u001b[?25hCollecting ftfy\r\n",
      "  Downloading ftfy-6.1.1-py3-none-any.whl (53 kB)\r\n",
      "\u001b[2K     \u001b[90m━━━━━━━━━━━━━━━━━━━━━━━━━━━━━━━━━━━━━━━━\u001b[0m \u001b[32m53.1/53.1 kB\u001b[0m \u001b[31m4.4 MB/s\u001b[0m eta \u001b[36m0:00:00\u001b[0m\r\n",
      "\u001b[?25hRequirement already satisfied: huggingface-hub in /opt/conda/lib/python3.7/site-packages (from flair) (0.5.1)\r\n",
      "Collecting pptree\r\n",
      "  Downloading pptree-3.1.tar.gz (3.0 kB)\r\n",
      "  Preparing metadata (setup.py) ... \u001b[?25l-\b \bdone\r\n",
      "\u001b[?25hRequirement already satisfied: hyperopt>=0.2.7 in /opt/conda/lib/python3.7/site-packages (from flair) (0.2.7)\r\n",
      "Requirement already satisfied: transformers>=4.0.0 in /opt/conda/lib/python3.7/site-packages (from flair) (4.18.0)\r\n",
      "Collecting wikipedia-api\r\n",
      "  Downloading Wikipedia-API-0.5.4.tar.gz (18 kB)\r\n",
      "  Preparing metadata (setup.py) ... \u001b[?25l-\b \bdone\r\n",
      "\u001b[?25hRequirement already satisfied: lxml in /opt/conda/lib/python3.7/site-packages (from flair) (4.8.0)\r\n",
      "Collecting konoha<5.0.0,>=4.0.0\r\n",
      "  Downloading konoha-4.6.5-py3-none-any.whl (20 kB)\r\n",
      "Requirement already satisfied: janome in /opt/conda/lib/python3.7/site-packages (from flair) (0.4.2)\r\n",
      "Requirement already satisfied: torch!=1.8,>=1.5.0 in /opt/conda/lib/python3.7/site-packages (from flair) (1.11.0)\r\n",
      "Collecting langdetect\r\n",
      "  Downloading langdetect-1.0.9.tar.gz (981 kB)\r\n",
      "\u001b[2K     \u001b[90m━━━━━━━━━━━━━━━━━━━━━━━━━━━━━━━━━━━━━━\u001b[0m \u001b[32m981.5/981.5 kB\u001b[0m \u001b[31m37.6 MB/s\u001b[0m eta \u001b[36m0:00:00\u001b[0m\r\n",
      "\u001b[?25h  Preparing metadata (setup.py) ... \u001b[?25l-\b \bdone\r\n",
      "\u001b[?25hCollecting segtok>=1.5.7\r\n",
      "  Downloading segtok-1.5.11-py3-none-any.whl (24 kB)\r\n",
      "Collecting gdown==4.4.0\r\n",
      "  Downloading gdown-4.4.0.tar.gz (14 kB)\r\n",
      "  Installing build dependencies ... \u001b[?25l-\b \b\\\b \b|\b \b/\b \b-\b \b\\\b \bdone\r\n",
      "\u001b[?25h  Getting requirements to build wheel ... \u001b[?25l-\b \b\\\b \b|\b \b/\b \b-\b \bdone\r\n",
      "\u001b[?25h  Preparing metadata (pyproject.toml) ... \u001b[?25l-\b \b\\\b \b|\b \b/\b \b-\b \bdone\r\n",
      "\u001b[?25hCollecting bpemb>=0.3.2\r\n",
      "  Downloading bpemb-0.3.3-py3-none-any.whl (19 kB)\r\n",
      "Requirement already satisfied: more-itertools in /opt/conda/lib/python3.7/site-packages (from flair) (8.13.0)\r\n",
      "Requirement already satisfied: gensim>=3.4.0 in /opt/conda/lib/python3.7/site-packages (from flair) (4.0.1)\r\n",
      "Collecting conllu>=4.0\r\n",
      "  Downloading conllu-4.4.2-py2.py3-none-any.whl (15 kB)\r\n",
      "Requirement already satisfied: matplotlib>=2.2.3 in /opt/conda/lib/python3.7/site-packages (from flair) (3.5.2)\r\n",
      "Requirement already satisfied: python-dateutil>=2.6.1 in /opt/conda/lib/python3.7/site-packages (from flair) (2.8.2)\r\n",
      "Collecting deprecated>=1.2.4\r\n",
      "  Downloading Deprecated-1.2.13-py2.py3-none-any.whl (9.6 kB)\r\n",
      "Requirement already satisfied: filelock in /opt/conda/lib/python3.7/site-packages (from gdown==4.4.0->flair) (3.6.0)\r\n",
      "Requirement already satisfied: six in /opt/conda/lib/python3.7/site-packages (from gdown==4.4.0->flair) (1.16.0)\r\n",
      "Requirement already satisfied: requests[socks] in /opt/conda/lib/python3.7/site-packages (from gdown==4.4.0->flair) (2.27.1)\r\n",
      "Requirement already satisfied: beautifulsoup4 in /opt/conda/lib/python3.7/site-packages (from gdown==4.4.0->flair) (4.11.1)\r\n",
      "Requirement already satisfied: numpy in /opt/conda/lib/python3.7/site-packages (from bpemb>=0.3.2->flair) (1.21.6)\r\n",
      "Requirement already satisfied: wrapt<2,>=1.10 in /opt/conda/lib/python3.7/site-packages (from deprecated>=1.2.4->flair) (1.14.1)\r\n",
      "Requirement already satisfied: smart-open>=1.8.1 in /opt/conda/lib/python3.7/site-packages (from gensim>=3.4.0->flair) (5.2.1)\r\n",
      "Requirement already satisfied: scipy>=0.18.1 in /opt/conda/lib/python3.7/site-packages (from gensim>=3.4.0->flair) (1.7.3)\r\n",
      "Requirement already satisfied: networkx>=2.2 in /opt/conda/lib/python3.7/site-packages (from hyperopt>=0.2.7->flair) (2.5)\r\n",
      "Requirement already satisfied: future in /opt/conda/lib/python3.7/site-packages (from hyperopt>=0.2.7->flair) (0.18.2)\r\n",
      "Requirement already satisfied: cloudpickle in /opt/conda/lib/python3.7/site-packages (from hyperopt>=0.2.7->flair) (2.0.0)\r\n",
      "Requirement already satisfied: py4j in /opt/conda/lib/python3.7/site-packages (from hyperopt>=0.2.7->flair) (0.10.9.5)\r\n",
      "Collecting overrides<4.0.0,>=3.0.0\r\n",
      "  Downloading overrides-3.1.0.tar.gz (11 kB)\r\n",
      "  Preparing metadata (setup.py) ... \u001b[?25l-\b \bdone\r\n",
      "\u001b[?25hCollecting importlib-metadata<4.0.0,>=3.7.0\r\n",
      "  Downloading importlib_metadata-3.10.1-py3-none-any.whl (14 kB)\r\n",
      "Requirement already satisfied: fonttools>=4.22.0 in /opt/conda/lib/python3.7/site-packages (from matplotlib>=2.2.3->flair) (4.33.3)\r\n",
      "Requirement already satisfied: pillow>=6.2.0 in /opt/conda/lib/python3.7/site-packages (from matplotlib>=2.2.3->flair) (9.1.0)\r\n",
      "Requirement already satisfied: pyparsing>=2.2.1 in /opt/conda/lib/python3.7/site-packages (from matplotlib>=2.2.3->flair) (3.0.9)\r\n",
      "Requirement already satisfied: packaging>=20.0 in /opt/conda/lib/python3.7/site-packages (from matplotlib>=2.2.3->flair) (21.3)\r\n",
      "Requirement already satisfied: kiwisolver>=1.0.1 in /opt/conda/lib/python3.7/site-packages (from matplotlib>=2.2.3->flair) (1.4.2)\r\n",
      "Requirement already satisfied: cycler>=0.10 in /opt/conda/lib/python3.7/site-packages (from matplotlib>=2.2.3->flair) (0.11.0)\r\n",
      "Requirement already satisfied: joblib>=0.11 in /opt/conda/lib/python3.7/site-packages (from scikit-learn>=0.21.3->flair) (1.1.0)\r\n",
      "Requirement already satisfied: threadpoolctl>=2.0.0 in /opt/conda/lib/python3.7/site-packages (from scikit-learn>=0.21.3->flair) (3.1.0)\r\n",
      "Requirement already satisfied: typing-extensions in /opt/conda/lib/python3.7/site-packages (from torch!=1.8,>=1.5.0->flair) (4.2.0)\r\n",
      "Requirement already satisfied: sacremoses in /opt/conda/lib/python3.7/site-packages (from transformers>=4.0.0->flair) (0.0.53)\r\n",
      "Requirement already satisfied: pyyaml>=5.1 in /opt/conda/lib/python3.7/site-packages (from transformers>=4.0.0->flair) (6.0)\r\n",
      "Requirement already satisfied: tokenizers!=0.11.3,<0.13,>=0.11.1 in /opt/conda/lib/python3.7/site-packages (from transformers>=4.0.0->flair) (0.12.1)\r\n",
      "Requirement already satisfied: wcwidth>=0.2.5 in /opt/conda/lib/python3.7/site-packages (from ftfy->flair) (0.2.5)\r\n",
      "Requirement already satisfied: zipp>=0.5 in /opt/conda/lib/python3.7/site-packages (from importlib-metadata<4.0.0,>=3.7.0->konoha<5.0.0,>=4.0.0->flair) (3.8.0)\r\n",
      "Requirement already satisfied: decorator>=4.3.0 in /opt/conda/lib/python3.7/site-packages (from networkx>=2.2->hyperopt>=0.2.7->flair) (5.1.1)\r\n",
      "Requirement already satisfied: charset-normalizer~=2.0.0 in /opt/conda/lib/python3.7/site-packages (from requests[socks]->gdown==4.4.0->flair) (2.0.12)\r\n",
      "Requirement already satisfied: idna<4,>=2.5 in /opt/conda/lib/python3.7/site-packages (from requests[socks]->gdown==4.4.0->flair) (3.3)\r\n",
      "Requirement already satisfied: certifi>=2017.4.17 in /opt/conda/lib/python3.7/site-packages (from requests[socks]->gdown==4.4.0->flair) (2022.5.18.1)\r\n",
      "Requirement already satisfied: urllib3<1.27,>=1.21.1 in /opt/conda/lib/python3.7/site-packages (from requests[socks]->gdown==4.4.0->flair) (1.26.9)\r\n",
      "Requirement already satisfied: soupsieve>1.2 in /opt/conda/lib/python3.7/site-packages (from beautifulsoup4->gdown==4.4.0->flair) (2.3.1)\r\n",
      "Requirement already satisfied: PySocks!=1.5.7,>=1.5.6 in /opt/conda/lib/python3.7/site-packages (from requests[socks]->gdown==4.4.0->flair) (1.7.1)\r\n",
      "Requirement already satisfied: click in /opt/conda/lib/python3.7/site-packages (from sacremoses->transformers>=4.0.0->flair) (8.0.4)\r\n",
      "Building wheels for collected packages: gdown, mpld3, sqlitedict, langdetect, pptree, wikipedia-api, overrides\r\n",
      "  Building wheel for gdown (pyproject.toml) ... \u001b[?25l-\b \b\\\b \b|\b \b/\b \b-\b \b\\\b \b|\b \bdone\r\n",
      "\u001b[?25h  Created wheel for gdown: filename=gdown-4.4.0-py3-none-any.whl size=14759 sha256=758548097b91bc61e76d2901bc6136baf35f10fddd03b5af332e9554fc5de3b7\r\n",
      "  Stored in directory: /root/.cache/pip/wheels/fb/c3/0e/c4d8ff8bfcb0461afff199471449f642179b74968c15b7a69c\r\n",
      "  Building wheel for mpld3 (setup.py) ... \u001b[?25l-\b \b\\\b \bdone\r\n",
      "\u001b[?25h  Created wheel for mpld3: filename=mpld3-0.3-py3-none-any.whl size=116702 sha256=63c841a18bed1b6c2187d472235e7162ede8fe77f21837fa3f612d7199da1318\r\n",
      "  Stored in directory: /root/.cache/pip/wheels/26/70/6a/1c79e59951a41b4045497da187b2724f5659ca64033cf4548e\r\n",
      "  Building wheel for sqlitedict (setup.py) ... \u001b[?25l-\b \bdone\r\n",
      "\u001b[?25h  Created wheel for sqlitedict: filename=sqlitedict-2.0.0-py3-none-any.whl size=15736 sha256=1c4f716d04da32829b18f8818d70b29ac5c85ccd237b75b4e1581b87fe5c14f4\r\n",
      "  Stored in directory: /root/.cache/pip/wheels/96/dd/2e/0ed4a25cb73fc30c7ea8d10b50acb7226175736067e40a7ea3\r\n",
      "  Building wheel for langdetect (setup.py) ... \u001b[?25l-\b \b\\\b \b|\b \b/\b \bdone\r\n",
      "\u001b[?25h  Created wheel for langdetect: filename=langdetect-1.0.9-py3-none-any.whl size=993242 sha256=0dc4b95486c0f15db5c2e6562d9da0195b439f6b54e052bd0a671ae36d17dc56\r\n",
      "  Stored in directory: /root/.cache/pip/wheels/c5/96/8a/f90c59ed25d75e50a8c10a1b1c2d4c402e4dacfa87f3aff36a\r\n",
      "  Building wheel for pptree (setup.py) ... \u001b[?25l-\b \b\\\b \bdone\r\n",
      "\u001b[?25h  Created wheel for pptree: filename=pptree-3.1-py3-none-any.whl size=4629 sha256=7e729606049cbe74288a7ea12b9fc39b03c66c28fcebdf43e02659a450f34d0b\r\n",
      "  Stored in directory: /root/.cache/pip/wheels/9e/e8/7d/a9c3c19b4722608a0d8b05a38c36bc3f230c43becd2a46794b\r\n",
      "  Building wheel for wikipedia-api (setup.py) ... \u001b[?25l-\b \bdone\r\n",
      "\u001b[?25h  Created wheel for wikipedia-api: filename=Wikipedia_API-0.5.4-py3-none-any.whl size=13477 sha256=976fc10de3a1105bb6f7a8ca7eef9ddf2bbb676fd035b29579196b879731e7be\r\n",
      "  Stored in directory: /root/.cache/pip/wheels/d3/24/56/58ba93cf78be162451144e7a9889603f437976ef1ae7013d04\r\n",
      "  Building wheel for overrides (setup.py) ... \u001b[?25l-\b \b\\\b \bdone\r\n",
      "\u001b[?25h  Created wheel for overrides: filename=overrides-3.1.0-py3-none-any.whl size=10187 sha256=b6f39db27c6c5b781702bff23535163821e03baaeb14bea8d4728fe3f0ce210c\r\n",
      "  Stored in directory: /root/.cache/pip/wheels/3a/0d/38/01a9bc6e20dcfaf0a6a7b552d03137558ba1c38aea47644682\r\n",
      "Successfully built gdown mpld3 sqlitedict langdetect pptree wikipedia-api overrides\r\n",
      "Installing collected packages: sqlitedict, sentencepiece, pptree, overrides, mpld3, segtok, langdetect, importlib-metadata, ftfy, deprecated, conllu, wikipedia-api, konoha, gdown, bpemb, flair\r\n",
      "  Attempting uninstall: sentencepiece\r\n",
      "    Found existing installation: sentencepiece 0.1.96\r\n",
      "    Uninstalling sentencepiece-0.1.96:\r\n",
      "      Successfully uninstalled sentencepiece-0.1.96\r\n",
      "  Attempting uninstall: overrides\r\n",
      "    Found existing installation: overrides 6.1.0\r\n",
      "    Uninstalling overrides-6.1.0:\r\n",
      "      Successfully uninstalled overrides-6.1.0\r\n",
      "  Attempting uninstall: mpld3\r\n",
      "    Found existing installation: mpld3 0.5.7\r\n",
      "    Uninstalling mpld3-0.5.7:\r\n",
      "      Successfully uninstalled mpld3-0.5.7\r\n",
      "  Attempting uninstall: importlib-metadata\r\n",
      "    Found existing installation: importlib-metadata 4.11.4\r\n",
      "    Uninstalling importlib-metadata-4.11.4:\r\n",
      "      Successfully uninstalled importlib-metadata-4.11.4\r\n",
      "\u001b[31mERROR: pip's dependency resolver does not currently take into account all the packages that are installed. This behaviour is the source of the following dependency conflicts.\r\n",
      "markdown 3.3.7 requires importlib-metadata>=4.4; python_version < \"3.10\", but you have importlib-metadata 3.10.1 which is incompatible.\r\n",
      "ibis-framework 2.1.1 requires importlib-metadata<5,>=4; python_version < \"3.8\", but you have importlib-metadata 3.10.1 which is incompatible.\r\n",
      "gym 0.23.1 requires importlib-metadata>=4.10.0; python_version < \"3.10\", but you have importlib-metadata 3.10.1 which is incompatible.\r\n",
      "google-cloud-pubsublite 1.4.2 requires overrides<7.0.0,>=6.0.1, but you have overrides 3.1.0 which is incompatible.\u001b[0m\u001b[31m\r\n",
      "\u001b[0mSuccessfully installed bpemb-0.3.3 conllu-4.4.2 deprecated-1.2.13 flair-0.11.3 ftfy-6.1.1 gdown-4.4.0 importlib-metadata-3.10.1 konoha-4.6.5 langdetect-1.0.9 mpld3-0.3 overrides-3.1.0 pptree-3.1 segtok-1.5.11 sentencepiece-0.1.95 sqlitedict-2.0.0 wikipedia-api-0.5.4\r\n",
      "\u001b[33mWARNING: Running pip as the 'root' user can result in broken permissions and conflicting behaviour with the system package manager. It is recommended to use a virtual environment instead: https://pip.pypa.io/warnings/venv\u001b[0m\u001b[33m\r\n",
      "\u001b[0m"
     ]
    }
   ],
   "source": [
    "!pip3 install Cython\n",
    "!pip install transformers\n",
    "!pip install flair"
   ]
  },
  {
   "cell_type": "markdown",
   "id": "103681c5",
   "metadata": {
    "papermill": {
     "duration": 0.024675,
     "end_time": "2022-06-10T11:18:37.603167",
     "exception": false,
     "start_time": "2022-06-10T11:18:37.578492",
     "status": "completed"
    },
    "tags": []
   },
   "source": [
    "# Hugging face  : Flair"
   ]
  },
  {
   "cell_type": "markdown",
   "id": "60e223a8",
   "metadata": {
    "papermill": {
     "duration": 0.024276,
     "end_time": "2022-06-10T11:18:37.651990",
     "exception": false,
     "start_time": "2022-06-10T11:18:37.627714",
     "status": "completed"
    },
    "tags": []
   },
   "source": [
    "**ner-english** "
   ]
  },
  {
   "cell_type": "code",
   "execution_count": 11,
   "id": "cbda4665",
   "metadata": {
    "execution": {
     "iopub.execute_input": "2022-06-10T11:18:37.705229Z",
     "iopub.status.busy": "2022-06-10T11:18:37.704507Z",
     "iopub.status.idle": "2022-06-10T11:18:40.153356Z",
     "shell.execute_reply": "2022-06-10T11:18:40.152353Z"
    },
    "papermill": {
     "duration": 2.477494,
     "end_time": "2022-06-10T11:18:40.155733",
     "exception": false,
     "start_time": "2022-06-10T11:18:37.678239",
     "status": "completed"
    },
    "tags": []
   },
   "outputs": [
    {
     "name": "stdout",
     "output_type": "stream",
     "text": [
      "git: 'lfs' is not a git command. See 'git --help'.\r\n",
      "\r\n",
      "The most similar command is\r\n",
      "\tlog\r\n",
      "Cloning into 'ner-english-large'...\r\n",
      "remote: Enumerating objects: 25, done.\u001b[K\r\n",
      "remote: Counting objects: 100% (25/25), done.\u001b[K\r\n",
      "remote: Compressing objects: 100% (24/24), done.\u001b[K\r\n",
      "remote: Total 25 (delta 10), reused 0 (delta 0), pack-reused 0\u001b[K\r\n",
      "Unpacking objects: 100% (25/25), 11.03 KiB | 1.22 MiB/s, done.\r\n"
     ]
    }
   ],
   "source": [
    "!git lfs install\n",
    "!git clone https://huggingface.co/flair/ner-english-large"
   ]
  },
  {
   "cell_type": "code",
   "execution_count": 12,
   "id": "796b3c9f",
   "metadata": {
    "execution": {
     "iopub.execute_input": "2022-06-10T11:18:40.209064Z",
     "iopub.status.busy": "2022-06-10T11:18:40.208709Z",
     "iopub.status.idle": "2022-06-10T11:20:00.034034Z",
     "shell.execute_reply": "2022-06-10T11:20:00.032773Z"
    },
    "papermill": {
     "duration": 79.854575,
     "end_time": "2022-06-10T11:20:00.036728",
     "exception": false,
     "start_time": "2022-06-10T11:18:40.182153",
     "status": "completed"
    },
    "tags": []
   },
   "outputs": [
    {
     "data": {
      "application/vnd.jupyter.widget-view+json": {
       "model_id": "9d5c0266797b457791c0bd761ebb4609",
       "version_major": 2,
       "version_minor": 0
      },
      "text/plain": [
       "Downloading:   0%|          | 0.00/2.24G [00:00<?, ?B/s]"
      ]
     },
     "metadata": {},
     "output_type": "display_data"
    },
    {
     "name": "stdout",
     "output_type": "stream",
     "text": [
      "2022-06-10 11:19:31,451 loading file /root/.flair/models/ner-english-ontonotes-large/2da6c2cdd76e59113033adf670340bfd820f0301ae2e39204d67ba2dc276cc28.ec1bdb304b6c66111532c3b1fc6e522460ae73f1901848a4d0362cdf9760edb1\n"
     ]
    },
    {
     "data": {
      "application/vnd.jupyter.widget-view+json": {
       "model_id": "7c08d86fde204a249d9c502767ef6ab4",
       "version_major": 2,
       "version_minor": 0
      },
      "text/plain": [
       "Downloading:   0%|          | 0.00/616 [00:00<?, ?B/s]"
      ]
     },
     "metadata": {},
     "output_type": "display_data"
    },
    {
     "data": {
      "application/vnd.jupyter.widget-view+json": {
       "model_id": "2108b0a5ffad427dad596c6f1a68634a",
       "version_major": 2,
       "version_minor": 0
      },
      "text/plain": [
       "Downloading:   0%|          | 0.00/4.83M [00:00<?, ?B/s]"
      ]
     },
     "metadata": {},
     "output_type": "display_data"
    },
    {
     "data": {
      "application/vnd.jupyter.widget-view+json": {
       "model_id": "761226b89d92478d87fc1754525c1f2f",
       "version_major": 2,
       "version_minor": 0
      },
      "text/plain": [
       "Downloading:   0%|          | 0.00/8.68M [00:00<?, ?B/s]"
      ]
     },
     "metadata": {},
     "output_type": "display_data"
    },
    {
     "name": "stdout",
     "output_type": "stream",
     "text": [
      "2022-06-10 11:19:59,405 SequenceTagger predicts: Dictionary with 76 tags: <unk>, O, B-CARDINAL, E-CARDINAL, S-PERSON, S-CARDINAL, S-PRODUCT, B-PRODUCT, I-PRODUCT, E-PRODUCT, B-WORK_OF_ART, I-WORK_OF_ART, E-WORK_OF_ART, B-PERSON, E-PERSON, S-GPE, B-DATE, I-DATE, E-DATE, S-ORDINAL, S-LANGUAGE, I-PERSON, S-EVENT, S-DATE, B-QUANTITY, E-QUANTITY, S-TIME, B-TIME, I-TIME, E-TIME, B-GPE, E-GPE, S-ORG, I-GPE, S-NORP, B-FAC, I-FAC, E-FAC, B-NORP, E-NORP, S-PERCENT, B-ORG, E-ORG, B-LANGUAGE, E-LANGUAGE, I-CARDINAL, I-ORG, S-WORK_OF_ART, I-QUANTITY, B-MONEY\n"
     ]
    }
   ],
   "source": [
    "from flair.models import SequenceTagger\n",
    "\n",
    "tagger = SequenceTagger.load(\"flair/ner-english-ontonotes-large\")"
   ]
  },
  {
   "cell_type": "code",
   "execution_count": 13,
   "id": "5e11505e",
   "metadata": {
    "execution": {
     "iopub.execute_input": "2022-06-10T11:20:00.090688Z",
     "iopub.status.busy": "2022-06-10T11:20:00.090333Z",
     "iopub.status.idle": "2022-06-10T11:20:12.660412Z",
     "shell.execute_reply": "2022-06-10T11:20:12.659540Z"
    },
    "papermill": {
     "duration": 12.599957,
     "end_time": "2022-06-10T11:20:12.662806",
     "exception": false,
     "start_time": "2022-06-10T11:20:00.062849",
     "status": "completed"
    },
    "tags": []
   },
   "outputs": [
    {
     "data": {
      "application/vnd.jupyter.widget-view+json": {
       "model_id": "1d819b02fdb4455db2cd8ec9963ba253",
       "version_major": 2,
       "version_minor": 0
      },
      "text/plain": [
       "Downloading:   0%|          | 0.00/432M [00:00<?, ?B/s]"
      ]
     },
     "metadata": {},
     "output_type": "display_data"
    },
    {
     "name": "stdout",
     "output_type": "stream",
     "text": [
      "2022-06-10 11:20:09,741 loading file /root/.flair/models/ner-english/4f4cdab26f24cb98b732b389e6cebc646c36f54cfd6e0b7d3b90b25656e4262f.8baa8ae8795f4df80b28e7f7b61d788ecbb057d1dc85aacb316f1bd02837a4a4\n",
      "2022-06-10 11:20:11,584 SequenceTagger predicts: Dictionary with 20 tags: <unk>, O, S-ORG, S-MISC, B-PER, E-PER, S-LOC, B-ORG, E-ORG, I-PER, S-PER, B-MISC, I-MISC, E-MISC, I-ORG, B-LOC, E-LOC, I-LOC, <START>, <STOP>\n"
     ]
    }
   ],
   "source": [
    "from flair.models import SequenceTagger\n",
    "\n",
    "tagger1 = SequenceTagger.load(\"flair/ner-english\")"
   ]
  },
  {
   "cell_type": "code",
   "execution_count": 14,
   "id": "24701ca0",
   "metadata": {
    "execution": {
     "iopub.execute_input": "2022-06-10T11:20:12.716555Z",
     "iopub.status.busy": "2022-06-10T11:20:12.715189Z",
     "iopub.status.idle": "2022-06-10T11:21:21.242841Z",
     "shell.execute_reply": "2022-06-10T11:21:21.241952Z"
    },
    "papermill": {
     "duration": 68.556363,
     "end_time": "2022-06-10T11:21:21.245131",
     "exception": false,
     "start_time": "2022-06-10T11:20:12.688768",
     "status": "completed"
    },
    "tags": []
   },
   "outputs": [
    {
     "data": {
      "application/vnd.jupyter.widget-view+json": {
       "model_id": "df2a9c646f2f4dfa9170958805579145",
       "version_major": 2,
       "version_minor": 0
      },
      "text/plain": [
       "Downloading:   0%|          | 0.00/2.24G [00:00<?, ?B/s]"
      ]
     },
     "metadata": {},
     "output_type": "display_data"
    },
    {
     "name": "stdout",
     "output_type": "stream",
     "text": [
      "2022-06-10 11:21:02,073 loading file /root/.flair/models/ner-english-large/07301f59bb8cb113803be316267f06ddf9243cdbba92a4c8067ef92442d2c574.554244d3476d97501a766a98078421817b14654496b86f2f7bd139dc502a4f29\n",
      "2022-06-10 11:21:20,603 SequenceTagger predicts: Dictionary with 20 tags: <unk>, O, S-ORG, S-MISC, B-PER, E-PER, S-LOC, B-ORG, E-ORG, I-PER, S-PER, B-MISC, I-MISC, E-MISC, I-ORG, B-LOC, E-LOC, I-LOC, <START>, <STOP>\n"
     ]
    }
   ],
   "source": [
    "from flair.models import SequenceTagger\n",
    "\n",
    "tagger2 = SequenceTagger.load(\"flair/ner-english-large\")"
   ]
  },
  {
   "cell_type": "markdown",
   "id": "ce1a7b9f",
   "metadata": {
    "papermill": {
     "duration": 0.026547,
     "end_time": "2022-06-10T11:21:21.298142",
     "exception": false,
     "start_time": "2022-06-10T11:21:21.271595",
     "status": "completed"
    },
    "tags": []
   },
   "source": [
    "tagger3 nerenglishlarge"
   ]
  },
  {
   "cell_type": "code",
   "execution_count": 15,
   "id": "dec5b3e3",
   "metadata": {
    "execution": {
     "iopub.execute_input": "2022-06-10T11:21:21.353207Z",
     "iopub.status.busy": "2022-06-10T11:21:21.352387Z",
     "iopub.status.idle": "2022-06-10T11:23:06.304562Z",
     "shell.execute_reply": "2022-06-10T11:23:06.303654Z"
    },
    "papermill": {
     "duration": 104.982533,
     "end_time": "2022-06-10T11:23:06.306865",
     "exception": false,
     "start_time": "2022-06-10T11:21:21.324332",
     "status": "completed"
    },
    "tags": []
   },
   "outputs": [],
   "source": [
    "listenglarge=[]\n",
    "label=[]\n",
    "Per=[]\n",
    "ORG=[]\n",
    "LOC=[]\n",
    "from flair.data import Sentence\n",
    "\n",
    "dflarge=pd.DataFrame({\"text\":\"\", \"PERSON-nerenglarge\":[], \"LOC-nerenglarge\":\"\",\"ORG-nerenglarge\":\"\"})\n",
    "for i in range(2136):\n",
    "        sentencess =Sentence(all_text[i])\n",
    "        dflarge.loc[i,\"text\"]=all_text[i]\n",
    "        tagger2.predict(sentencess)\n",
    "        dc={}\n",
    "        P=[]\n",
    "        L=[]\n",
    "        G=[]\n",
    "        O=[]\n",
    "        for entity in sentencess.get_spans('ner'):\n",
    "                     \n",
    "                     if (entity.get_label(\"ner\").score > 0.90) & (entity.get_label(\"ner\").value != \"CARDINAL\") & (entity.get_label(\"ner\").value != \"LAW\")& (entity.get_label(\"ner\").value != \"QUANTITY\") & (entity.get_label(\"ner\").value != \"WORK_OF_ART\") & (entity.get_label(\"ner\").value != \"LAW\")& (entity.get_label(\"ner\").value != \"QUANTITY\") & (entity.get_label(\"ner\").value != \"EVENT\")  :\n",
    "                        dc[entity.text]= entity.get_label(\"ner\").value \n",
    "                        listenglarge.append(entity)\n",
    "        \n",
    "        \n",
    "        for j in dc :\n",
    "                if dc[j]==\"PER\":\n",
    "                      P.append(j)\n",
    "                elif (dc[j]==\"ORG\") | (dc[j]==\"MISC\") :\n",
    "                      O.append(j)\n",
    "                elif dc[j]==\"LOC\":\n",
    "                      L.append(j)\n",
    "               \n",
    "        Per.append(P)\n",
    "        ORG.append(O)\n",
    "        LOC.append(L)\n",
    "            \n",
    "\n",
    "dflarge[\"PERSON-nerenglarge\"]=Per\n",
    "dflarge[\"LOC-nerenglarge\"]=LOC\n",
    "dflarge[\"ORG-nerenglarge\"]=ORG                        "
   ]
  },
  {
   "cell_type": "code",
   "execution_count": 16,
   "id": "797dd14f",
   "metadata": {
    "execution": {
     "iopub.execute_input": "2022-06-10T11:23:06.362423Z",
     "iopub.status.busy": "2022-06-10T11:23:06.362101Z",
     "iopub.status.idle": "2022-06-10T11:23:06.391520Z",
     "shell.execute_reply": "2022-06-10T11:23:06.390654Z"
    },
    "papermill": {
     "duration": 0.059367,
     "end_time": "2022-06-10T11:23:06.393308",
     "exception": false,
     "start_time": "2022-06-10T11:23:06.333941",
     "status": "completed"
    },
    "tags": []
   },
   "outputs": [
    {
     "data": {
      "text/html": [
       "<div>\n",
       "<style scoped>\n",
       "    .dataframe tbody tr th:only-of-type {\n",
       "        vertical-align: middle;\n",
       "    }\n",
       "\n",
       "    .dataframe tbody tr th {\n",
       "        vertical-align: top;\n",
       "    }\n",
       "\n",
       "    .dataframe thead th {\n",
       "        text-align: right;\n",
       "    }\n",
       "</style>\n",
       "<table border=\"1\" class=\"dataframe\">\n",
       "  <thead>\n",
       "    <tr style=\"text-align: right;\">\n",
       "      <th></th>\n",
       "      <th>text</th>\n",
       "      <th>PERSON-nerenglarge</th>\n",
       "      <th>LOC-nerenglarge</th>\n",
       "      <th>ORG-nerenglarge</th>\n",
       "    </tr>\n",
       "  </thead>\n",
       "  <tbody>\n",
       "    <tr>\n",
       "      <th>0</th>\n",
       "      <td>I I C Meekins of Currituck County State of Nor...</td>\n",
       "      <td>[I I C Meekins, God, Isaac C Meekins, E H Walk...</td>\n",
       "      <td>[Currituck County State of North Carolina, Uni...</td>\n",
       "      <td>[]</td>\n",
       "    </tr>\n",
       "    <tr>\n",
       "      <th>1</th>\n",
       "      <td>Department of Virginia North Carolina 1864 tak...</td>\n",
       "      <td>[]</td>\n",
       "      <td>[North Carolina, United States, States]</td>\n",
       "      <td>[Department of Virginia]</td>\n",
       "    </tr>\n",
       "    <tr>\n",
       "      <th>2</th>\n",
       "      <td>I W H Pearce of Craven County State of NorthCa...</td>\n",
       "      <td>[W H Pearce, Almighty, God, Jm E Ampetts, A B ...</td>\n",
       "      <td>[Craven County State of NorthCarolina, United ...</td>\n",
       "      <td>[]</td>\n",
       "    </tr>\n",
       "    <tr>\n",
       "      <th>3</th>\n",
       "      <td>State of North Carolina County I solemnly swea...</td>\n",
       "      <td>[God]</td>\n",
       "      <td>[State of North Carolina County, United States]</td>\n",
       "      <td>[]</td>\n",
       "    </tr>\n",
       "    <tr>\n",
       "      <th>4</th>\n",
       "      <td>State of North Carolina Wake County I SE Allen...</td>\n",
       "      <td>[SE Allen, God SE Allen Sworn, McAlpine]</td>\n",
       "      <td>[State of North Carolina, Wake County, United ...</td>\n",
       "      <td>[Res Corp]</td>\n",
       "    </tr>\n",
       "    <tr>\n",
       "      <th>...</th>\n",
       "      <td>...</td>\n",
       "      <td>...</td>\n",
       "      <td>...</td>\n",
       "      <td>...</td>\n",
       "    </tr>\n",
       "    <tr>\n",
       "      <th>2131</th>\n",
       "      <td>Office Provost Marshal Raleigh NC May 26 65 Th...</td>\n",
       "      <td>[Geo Little, Geo B Ayer, DH Grave, Hugo Hilleb...</td>\n",
       "      <td>[Raleigh, NC, Wake County State of NC, United ...</td>\n",
       "      <td>[]</td>\n",
       "    </tr>\n",
       "    <tr>\n",
       "      <th>2132</th>\n",
       "      <td>July 30th 1867 Birnie Wm Agent Bu R F A L Oath...</td>\n",
       "      <td>[]</td>\n",
       "      <td>[]</td>\n",
       "      <td>[]</td>\n",
       "    </tr>\n",
       "    <tr>\n",
       "      <th>2133</th>\n",
       "      <td>State of North Carolina Robeson County I Willi...</td>\n",
       "      <td>[William Birnie, God, Wm Birnie, Dick JP]</td>\n",
       "      <td>[Robeson County, United States]</td>\n",
       "      <td>[]</td>\n",
       "    </tr>\n",
       "    <tr>\n",
       "      <th>2134</th>\n",
       "      <td>NARA 449 102 We whose name written well person...</td>\n",
       "      <td>[AL Price, James Fulton, Fulton Price, Sgd W N...</td>\n",
       "      <td>[State of North Carolina, New Hanover County, ...</td>\n",
       "      <td>[NARA, Confederate Government, Court of Pleas,...</td>\n",
       "    </tr>\n",
       "    <tr>\n",
       "      <th>2135</th>\n",
       "      <td>NARA 450 404 Office Provost Marshall City of W...</td>\n",
       "      <td>[James Fulton, God, Wm A Cutler, I, Geo W Poll...</td>\n",
       "      <td>[Marshall, City of Wilmington NC, United State...</td>\n",
       "      <td>[NARA]</td>\n",
       "    </tr>\n",
       "  </tbody>\n",
       "</table>\n",
       "<p>2136 rows × 4 columns</p>\n",
       "</div>"
      ],
      "text/plain": [
       "                                                   text  \\\n",
       "0     I I C Meekins of Currituck County State of Nor...   \n",
       "1     Department of Virginia North Carolina 1864 tak...   \n",
       "2     I W H Pearce of Craven County State of NorthCa...   \n",
       "3     State of North Carolina County I solemnly swea...   \n",
       "4     State of North Carolina Wake County I SE Allen...   \n",
       "...                                                 ...   \n",
       "2131  Office Provost Marshal Raleigh NC May 26 65 Th...   \n",
       "2132  July 30th 1867 Birnie Wm Agent Bu R F A L Oath...   \n",
       "2133  State of North Carolina Robeson County I Willi...   \n",
       "2134  NARA 449 102 We whose name written well person...   \n",
       "2135  NARA 450 404 Office Provost Marshall City of W...   \n",
       "\n",
       "                                     PERSON-nerenglarge  \\\n",
       "0     [I I C Meekins, God, Isaac C Meekins, E H Walk...   \n",
       "1                                                    []   \n",
       "2     [W H Pearce, Almighty, God, Jm E Ampetts, A B ...   \n",
       "3                                                 [God]   \n",
       "4              [SE Allen, God SE Allen Sworn, McAlpine]   \n",
       "...                                                 ...   \n",
       "2131  [Geo Little, Geo B Ayer, DH Grave, Hugo Hilleb...   \n",
       "2132                                                 []   \n",
       "2133          [William Birnie, God, Wm Birnie, Dick JP]   \n",
       "2134  [AL Price, James Fulton, Fulton Price, Sgd W N...   \n",
       "2135  [James Fulton, God, Wm A Cutler, I, Geo W Poll...   \n",
       "\n",
       "                                        LOC-nerenglarge  \\\n",
       "0     [Currituck County State of North Carolina, Uni...   \n",
       "1               [North Carolina, United States, States]   \n",
       "2     [Craven County State of NorthCarolina, United ...   \n",
       "3       [State of North Carolina County, United States]   \n",
       "4     [State of North Carolina, Wake County, United ...   \n",
       "...                                                 ...   \n",
       "2131  [Raleigh, NC, Wake County State of NC, United ...   \n",
       "2132                                                 []   \n",
       "2133                    [Robeson County, United States]   \n",
       "2134  [State of North Carolina, New Hanover County, ...   \n",
       "2135  [Marshall, City of Wilmington NC, United State...   \n",
       "\n",
       "                                        ORG-nerenglarge  \n",
       "0                                                    []  \n",
       "1                              [Department of Virginia]  \n",
       "2                                                    []  \n",
       "3                                                    []  \n",
       "4                                            [Res Corp]  \n",
       "...                                                 ...  \n",
       "2131                                                 []  \n",
       "2132                                                 []  \n",
       "2133                                                 []  \n",
       "2134  [NARA, Confederate Government, Court of Pleas,...  \n",
       "2135                                             [NARA]  \n",
       "\n",
       "[2136 rows x 4 columns]"
      ]
     },
     "execution_count": 16,
     "metadata": {},
     "output_type": "execute_result"
    }
   ],
   "source": [
    "dflarge"
   ]
  },
  {
   "cell_type": "markdown",
   "id": "53763822",
   "metadata": {
    "papermill": {
     "duration": 0.02611,
     "end_time": "2022-06-10T11:23:06.446481",
     "exception": false,
     "start_time": "2022-06-10T11:23:06.420371",
     "status": "completed"
    },
    "tags": []
   },
   "source": [
    "tagger 2 ontonotes"
   ]
  },
  {
   "cell_type": "code",
   "execution_count": 17,
   "id": "840511f5",
   "metadata": {
    "execution": {
     "iopub.execute_input": "2022-06-10T11:23:06.501243Z",
     "iopub.status.busy": "2022-06-10T11:23:06.500282Z",
     "iopub.status.idle": "2022-06-10T11:24:51.237825Z",
     "shell.execute_reply": "2022-06-10T11:24:51.236980Z"
    },
    "papermill": {
     "duration": 104.767164,
     "end_time": "2022-06-10T11:24:51.240032",
     "exception": false,
     "start_time": "2022-06-10T11:23:06.472868",
     "status": "completed"
    },
    "tags": []
   },
   "outputs": [],
   "source": [
    "listoto=[]\n",
    "label=[]\n",
    "Per=[]\n",
    "Date=[]\n",
    "GPE=[]\n",
    "ORG=[]\n",
    "from flair.data import Sentence\n",
    "\n",
    "aldf=pd.DataFrame({\"text\":\"\", \"PERSON-ontonotes\":[], \"GPE-ontonotes\":\"\",\"ORG-ontonotes\":\"\", \"Date-ontonotes\":\"\"})\n",
    "for i in range(2136):\n",
    "        sentencess =Sentence(all_text[i])\n",
    "        aldf.loc[i,\"text\"]=all_text[i]\n",
    "        tagger.predict(sentencess)\n",
    "        dc={}\n",
    "        P=[]\n",
    "        D=[]\n",
    "        G=[]\n",
    "        O=[]\n",
    "        for entity in sentencess.get_spans('ner'):\n",
    "                     \n",
    "                     if (entity.get_label(\"ner\").score > 0.98) & (entity.get_label(\"ner\").value != \"CARDINAL\") & (entity.get_label(\"ner\").value != \"LAW\")& (entity.get_label(\"ner\").value != \"QUANTITY\") & (entity.get_label(\"ner\").value != \"WORK_OF_ART\") & (entity.get_label(\"ner\").value != \"LAW\")& (entity.get_label(\"ner\").value != \"QUANTITY\") & (entity.get_label(\"ner\").value != \"EVENT\")  :\n",
    "                        dc[entity.text]= entity.get_label(\"ner\").value \n",
    "                        listoto.append(entity)\n",
    "        \n",
    "        \n",
    "        for j in dc :\n",
    "                if dc[j]==\"PERSON\":\n",
    "                      P.append(j)\n",
    "                elif dc[j]==\"ORG\":\n",
    "                      O.append(j)\n",
    "                elif dc[j]==\"DATE\":\n",
    "                      D.append(j)\n",
    "                elif dc[j]==\"GPE\":\n",
    "                      G.append(j)\n",
    "        Per.append(P)\n",
    "        Date.append(D)\n",
    "        ORG.append(O)\n",
    "        GPE.append(G)\n",
    "            \n",
    "aldf[\"Date-ontonotes\"]=Date\n",
    "aldf[\"PERSON-ontonotes\"]=Per\n",
    "aldf[\"GPE-ontonotes\"]=GPE\n",
    "aldf[\"ORG-ontonotes\"]=ORG    "
   ]
  },
  {
   "cell_type": "code",
   "execution_count": 18,
   "id": "988603ed",
   "metadata": {
    "execution": {
     "iopub.execute_input": "2022-06-10T11:24:51.294671Z",
     "iopub.status.busy": "2022-06-10T11:24:51.294288Z",
     "iopub.status.idle": "2022-06-10T11:24:51.299503Z",
     "shell.execute_reply": "2022-06-10T11:24:51.298798Z"
    },
    "papermill": {
     "duration": 0.034448,
     "end_time": "2022-06-10T11:24:51.301347",
     "exception": false,
     "start_time": "2022-06-10T11:24:51.266899",
     "status": "completed"
    },
    "tags": []
   },
   "outputs": [
    {
     "data": {
      "text/plain": [
       "(2136, 5)"
      ]
     },
     "execution_count": 18,
     "metadata": {},
     "output_type": "execute_result"
    }
   ],
   "source": [
    "aldf.shape"
   ]
  },
  {
   "cell_type": "code",
   "execution_count": 19,
   "id": "bcf9ac41",
   "metadata": {
    "execution": {
     "iopub.execute_input": "2022-06-10T11:24:51.355824Z",
     "iopub.status.busy": "2022-06-10T11:24:51.355118Z",
     "iopub.status.idle": "2022-06-10T11:24:51.371394Z",
     "shell.execute_reply": "2022-06-10T11:24:51.370545Z"
    },
    "papermill": {
     "duration": 0.046374,
     "end_time": "2022-06-10T11:24:51.374229",
     "exception": false,
     "start_time": "2022-06-10T11:24:51.327855",
     "status": "completed"
    },
    "tags": []
   },
   "outputs": [
    {
     "data": {
      "text/html": [
       "<div>\n",
       "<style scoped>\n",
       "    .dataframe tbody tr th:only-of-type {\n",
       "        vertical-align: middle;\n",
       "    }\n",
       "\n",
       "    .dataframe tbody tr th {\n",
       "        vertical-align: top;\n",
       "    }\n",
       "\n",
       "    .dataframe thead th {\n",
       "        text-align: right;\n",
       "    }\n",
       "</style>\n",
       "<table border=\"1\" class=\"dataframe\">\n",
       "  <thead>\n",
       "    <tr style=\"text-align: right;\">\n",
       "      <th></th>\n",
       "      <th>text</th>\n",
       "      <th>PERSON-ontonotes</th>\n",
       "      <th>GPE-ontonotes</th>\n",
       "      <th>ORG-ontonotes</th>\n",
       "      <th>Date-ontonotes</th>\n",
       "    </tr>\n",
       "  </thead>\n",
       "  <tbody>\n",
       "    <tr>\n",
       "      <th>0</th>\n",
       "      <td>I I C Meekins of Currituck County State of Nor...</td>\n",
       "      <td>[I I C Meekins, Isaac C Meekins, E H Walker JP...</td>\n",
       "      <td>[North Carolina]</td>\n",
       "      <td>[]</td>\n",
       "      <td>[16 day of Sept AD 1865]</td>\n",
       "    </tr>\n",
       "    <tr>\n",
       "      <th>1</th>\n",
       "      <td>Department of Virginia North Carolina 1864 tak...</td>\n",
       "      <td>[]</td>\n",
       "      <td>[North Carolina, United States]</td>\n",
       "      <td>[Department of Virginia]</td>\n",
       "      <td>[1864]</td>\n",
       "    </tr>\n",
       "    <tr>\n",
       "      <th>2</th>\n",
       "      <td>I W H Pearce of Craven County State of NorthCa...</td>\n",
       "      <td>[W H Pearce, Watson]</td>\n",
       "      <td>[]</td>\n",
       "      <td>[]</td>\n",
       "      <td>[3rd day of October AD 1865]</td>\n",
       "    </tr>\n",
       "    <tr>\n",
       "      <th>3</th>\n",
       "      <td>State of North Carolina County I solemnly swea...</td>\n",
       "      <td>[]</td>\n",
       "      <td>[North Carolina County, United States]</td>\n",
       "      <td>[]</td>\n",
       "      <td>[]</td>\n",
       "    </tr>\n",
       "    <tr>\n",
       "      <th>4</th>\n",
       "      <td>State of North Carolina Wake County I SE Allen...</td>\n",
       "      <td>[Allen]</td>\n",
       "      <td>[North Carolina, Wake County, United States]</td>\n",
       "      <td>[]</td>\n",
       "      <td>[31st day of May 1867]</td>\n",
       "    </tr>\n",
       "  </tbody>\n",
       "</table>\n",
       "</div>"
      ],
      "text/plain": [
       "                                                text  \\\n",
       "0  I I C Meekins of Currituck County State of Nor...   \n",
       "1  Department of Virginia North Carolina 1864 tak...   \n",
       "2  I W H Pearce of Craven County State of NorthCa...   \n",
       "3  State of North Carolina County I solemnly swea...   \n",
       "4  State of North Carolina Wake County I SE Allen...   \n",
       "\n",
       "                                    PERSON-ontonotes  \\\n",
       "0  [I I C Meekins, Isaac C Meekins, E H Walker JP...   \n",
       "1                                                 []   \n",
       "2                               [W H Pearce, Watson]   \n",
       "3                                                 []   \n",
       "4                                            [Allen]   \n",
       "\n",
       "                                  GPE-ontonotes             ORG-ontonotes  \\\n",
       "0                              [North Carolina]                        []   \n",
       "1               [North Carolina, United States]  [Department of Virginia]   \n",
       "2                                            []                        []   \n",
       "3        [North Carolina County, United States]                        []   \n",
       "4  [North Carolina, Wake County, United States]                        []   \n",
       "\n",
       "                 Date-ontonotes  \n",
       "0      [16 day of Sept AD 1865]  \n",
       "1                        [1864]  \n",
       "2  [3rd day of October AD 1865]  \n",
       "3                            []  \n",
       "4        [31st day of May 1867]  "
      ]
     },
     "execution_count": 19,
     "metadata": {},
     "output_type": "execute_result"
    }
   ],
   "source": [
    "aldf.head()"
   ]
  },
  {
   "cell_type": "code",
   "execution_count": 20,
   "id": "5200674a",
   "metadata": {
    "execution": {
     "iopub.execute_input": "2022-06-10T11:24:51.432536Z",
     "iopub.status.busy": "2022-06-10T11:24:51.432212Z",
     "iopub.status.idle": "2022-06-10T11:24:51.437348Z",
     "shell.execute_reply": "2022-06-10T11:24:51.436598Z"
    },
    "papermill": {
     "duration": 0.035202,
     "end_time": "2022-06-10T11:24:51.439370",
     "exception": false,
     "start_time": "2022-06-10T11:24:51.404168",
     "status": "completed"
    },
    "tags": []
   },
   "outputs": [
    {
     "data": {
      "text/plain": [
       "(2136, 5)"
      ]
     },
     "execution_count": 20,
     "metadata": {},
     "output_type": "execute_result"
    }
   ],
   "source": [
    "aldf.shape"
   ]
  },
  {
   "cell_type": "markdown",
   "id": "3242e7b6",
   "metadata": {
    "papermill": {
     "duration": 0.026223,
     "end_time": "2022-06-10T11:24:51.491993",
     "exception": false,
     "start_time": "2022-06-10T11:24:51.465770",
     "status": "completed"
    },
    "tags": []
   },
   "source": [
    "# Post processing"
   ]
  },
  {
   "cell_type": "markdown",
   "id": "4e50ee39",
   "metadata": {
    "papermill": {
     "duration": 0.025879,
     "end_time": "2022-06-10T11:24:51.544114",
     "exception": false,
     "start_time": "2022-06-10T11:24:51.518235",
     "status": "completed"
    },
    "tags": []
   },
   "source": [
    "**For dates**"
   ]
  },
  {
   "cell_type": "code",
   "execution_count": 21,
   "id": "935d8c12",
   "metadata": {
    "execution": {
     "iopub.execute_input": "2022-06-10T11:24:51.598989Z",
     "iopub.status.busy": "2022-06-10T11:24:51.598449Z",
     "iopub.status.idle": "2022-06-10T11:24:51.657890Z",
     "shell.execute_reply": "2022-06-10T11:24:51.657171Z"
    },
    "papermill": {
     "duration": 0.08873,
     "end_time": "2022-06-10T11:24:51.659752",
     "exception": false,
     "start_time": "2022-06-10T11:24:51.571022",
     "status": "completed"
    },
    "tags": []
   },
   "outputs": [],
   "source": [
    "G=[]\n",
    "for i in aldf[\"Date-ontonotes\"]:\n",
    "    M=[]\n",
    "    for j in i:\n",
    "        date=re.search(r'^\\d\\.*.*\\d\\d$' ,j)\n",
    "        date2=re.search(r'^[A-ZZa-z]\\.*.*\\d\\.*.*\\d\\d$' ,j)\n",
    "        M.append(date)\n",
    "        M.append(date2)\n",
    "    G.append(M)\n",
    "    \n",
    "\n",
    "GF=[]\n",
    "for i in G:\n",
    "    Final_date=[]\n",
    "    for j in i:\n",
    "        if j!=None:\n",
    "            Final_date.append(j.group())\n",
    "    GF.append(Final_date)\n",
    "\n",
    "    \n",
    "aldf[\"postDate-ontonotes\"]=GF\n",
    "            \n",
    "            \n",
    "        "
   ]
  },
  {
   "cell_type": "markdown",
   "id": "214a3b59",
   "metadata": {
    "papermill": {
     "duration": 0.026075,
     "end_time": "2022-06-10T11:24:51.711964",
     "exception": false,
     "start_time": "2022-06-10T11:24:51.685889",
     "status": "completed"
    },
    "tags": []
   },
   "source": [
    "# Run this to see the extracted dates before filtring them "
   ]
  },
  {
   "cell_type": "code",
   "execution_count": 22,
   "id": "54a1aee8",
   "metadata": {
    "execution": {
     "iopub.execute_input": "2022-06-10T11:24:51.766855Z",
     "iopub.status.busy": "2022-06-10T11:24:51.766203Z",
     "iopub.status.idle": "2022-06-10T11:24:51.769883Z",
     "shell.execute_reply": "2022-06-10T11:24:51.769126Z"
    },
    "papermill": {
     "duration": 0.032606,
     "end_time": "2022-06-10T11:24:51.771502",
     "exception": false,
     "start_time": "2022-06-10T11:24:51.738896",
     "status": "completed"
    },
    "tags": []
   },
   "outputs": [],
   "source": [
    "#GF"
   ]
  },
  {
   "cell_type": "code",
   "execution_count": 23,
   "id": "da86afda",
   "metadata": {
    "execution": {
     "iopub.execute_input": "2022-06-10T11:24:51.826232Z",
     "iopub.status.busy": "2022-06-10T11:24:51.825950Z",
     "iopub.status.idle": "2022-06-10T11:24:51.953958Z",
     "shell.execute_reply": "2022-06-10T11:24:51.953191Z"
    },
    "papermill": {
     "duration": 0.15736,
     "end_time": "2022-06-10T11:24:51.955986",
     "exception": false,
     "start_time": "2022-06-10T11:24:51.798626",
     "status": "completed"
    },
    "tags": []
   },
   "outputs": [],
   "source": [
    "G=[]\n",
    "for i in aldf[\"postDate-ontonotes\"]:\n",
    "    M=[]\n",
    "    for j in i:\n",
    "        Final_date1=re.sub(r'([0-9]{1,2})\\.*.*\\s([A-Z][a-z]\\S*)\\.*.*\\s([0-9]{2,4})',r'\\1-\\2-\\3' ,j)\n",
    "        Final_date2=re.sub(r'([A-Z]\\.*.*)\\s([0-9]{1,2})\\.*.*\\s([0-9]{2,4})',r'\\2-\\1-\\3' ,j)\n",
    "        final_date3=re.sub(r'([A-Z][a-z]\\S*)\\.*.*\\s([A-Z][a-z]\\S*)\\.*.*\\s([0-9]{2,4})',r'\\1-\\2-\\3' ,j)\n",
    "        final_date4=re.sub(r'(^[A-Za-z]\\S*.*.)day\\.*.*\\s([A-Z][a-z]\\S*)\\.*.*\\s([0-9]{2,4})',r'\\1-\\2-\\3' ,j)\n",
    "        if Final_date1 != j:   \n",
    "            M.append(Final_date1)\n",
    "        if Final_date2 != j :\n",
    "            M.append(Final_date2)\n",
    "        if final_date3 != j :\n",
    "            M.append(final_date3)\n",
    "        if final_date4 != j :\n",
    "            M.append(final_date4)\n",
    "    G.append(M)\n",
    "    \n",
    "\n",
    "aldf[\"postDate-ontonotes\"]=G"
   ]
  },
  {
   "cell_type": "markdown",
   "id": "069b1954",
   "metadata": {
    "papermill": {
     "duration": 0.026114,
     "end_time": "2022-06-10T11:24:52.009595",
     "exception": false,
     "start_time": "2022-06-10T11:24:51.983481",
     "status": "completed"
    },
    "tags": []
   },
   "source": [
    "**great !**"
   ]
  },
  {
   "cell_type": "markdown",
   "id": "0823d7ed",
   "metadata": {
    "papermill": {
     "duration": 0.026684,
     "end_time": "2022-06-10T11:24:52.062339",
     "exception": false,
     "start_time": "2022-06-10T11:24:52.035655",
     "status": "completed"
    },
    "tags": []
   },
   "source": [
    "****"
   ]
  },
  {
   "cell_type": "markdown",
   "id": "0ad2c2c6",
   "metadata": {
    "papermill": {
     "duration": 0.025809,
     "end_time": "2022-06-10T11:24:52.114110",
     "exception": false,
     "start_time": "2022-06-10T11:24:52.088301",
     "status": "completed"
    },
    "tags": []
   },
   "source": [
    "****"
   ]
  },
  {
   "cell_type": "code",
   "execution_count": 24,
   "id": "cb9f797a",
   "metadata": {
    "execution": {
     "iopub.execute_input": "2022-06-10T11:24:52.167974Z",
     "iopub.status.busy": "2022-06-10T11:24:52.167627Z",
     "iopub.status.idle": "2022-06-10T11:24:52.182611Z",
     "shell.execute_reply": "2022-06-10T11:24:52.181832Z"
    },
    "papermill": {
     "duration": 0.044178,
     "end_time": "2022-06-10T11:24:52.184328",
     "exception": false,
     "start_time": "2022-06-10T11:24:52.140150",
     "status": "completed"
    },
    "tags": []
   },
   "outputs": [
    {
     "data": {
      "text/html": [
       "<div>\n",
       "<style scoped>\n",
       "    .dataframe tbody tr th:only-of-type {\n",
       "        vertical-align: middle;\n",
       "    }\n",
       "\n",
       "    .dataframe tbody tr th {\n",
       "        vertical-align: top;\n",
       "    }\n",
       "\n",
       "    .dataframe thead th {\n",
       "        text-align: right;\n",
       "    }\n",
       "</style>\n",
       "<table border=\"1\" class=\"dataframe\">\n",
       "  <thead>\n",
       "    <tr style=\"text-align: right;\">\n",
       "      <th></th>\n",
       "      <th>text</th>\n",
       "      <th>PERSON-nerenglarge</th>\n",
       "      <th>LOC-nerenglarge</th>\n",
       "      <th>ORG-nerenglarge</th>\n",
       "    </tr>\n",
       "  </thead>\n",
       "  <tbody>\n",
       "    <tr>\n",
       "      <th>0</th>\n",
       "      <td>I I C Meekins of Currituck County State of Nor...</td>\n",
       "      <td>[I I C Meekins, God, Isaac C Meekins, E H Walk...</td>\n",
       "      <td>[Currituck County State of North Carolina, Uni...</td>\n",
       "      <td>[]</td>\n",
       "    </tr>\n",
       "    <tr>\n",
       "      <th>1</th>\n",
       "      <td>Department of Virginia North Carolina 1864 tak...</td>\n",
       "      <td>[]</td>\n",
       "      <td>[North Carolina, United States, States]</td>\n",
       "      <td>[Department of Virginia]</td>\n",
       "    </tr>\n",
       "    <tr>\n",
       "      <th>2</th>\n",
       "      <td>I W H Pearce of Craven County State of NorthCa...</td>\n",
       "      <td>[W H Pearce, Almighty, God, Jm E Ampetts, A B ...</td>\n",
       "      <td>[Craven County State of NorthCarolina, United ...</td>\n",
       "      <td>[]</td>\n",
       "    </tr>\n",
       "    <tr>\n",
       "      <th>3</th>\n",
       "      <td>State of North Carolina County I solemnly swea...</td>\n",
       "      <td>[God]</td>\n",
       "      <td>[State of North Carolina County, United States]</td>\n",
       "      <td>[]</td>\n",
       "    </tr>\n",
       "    <tr>\n",
       "      <th>4</th>\n",
       "      <td>State of North Carolina Wake County I SE Allen...</td>\n",
       "      <td>[SE Allen, God SE Allen Sworn, McAlpine]</td>\n",
       "      <td>[State of North Carolina, Wake County, United ...</td>\n",
       "      <td>[Res Corp]</td>\n",
       "    </tr>\n",
       "  </tbody>\n",
       "</table>\n",
       "</div>"
      ],
      "text/plain": [
       "                                                text  \\\n",
       "0  I I C Meekins of Currituck County State of Nor...   \n",
       "1  Department of Virginia North Carolina 1864 tak...   \n",
       "2  I W H Pearce of Craven County State of NorthCa...   \n",
       "3  State of North Carolina County I solemnly swea...   \n",
       "4  State of North Carolina Wake County I SE Allen...   \n",
       "\n",
       "                                  PERSON-nerenglarge  \\\n",
       "0  [I I C Meekins, God, Isaac C Meekins, E H Walk...   \n",
       "1                                                 []   \n",
       "2  [W H Pearce, Almighty, God, Jm E Ampetts, A B ...   \n",
       "3                                              [God]   \n",
       "4           [SE Allen, God SE Allen Sworn, McAlpine]   \n",
       "\n",
       "                                     LOC-nerenglarge           ORG-nerenglarge  \n",
       "0  [Currituck County State of North Carolina, Uni...                        []  \n",
       "1            [North Carolina, United States, States]  [Department of Virginia]  \n",
       "2  [Craven County State of NorthCarolina, United ...                        []  \n",
       "3    [State of North Carolina County, United States]                        []  \n",
       "4  [State of North Carolina, Wake County, United ...                [Res Corp]  "
      ]
     },
     "execution_count": 24,
     "metadata": {},
     "output_type": "execute_result"
    }
   ],
   "source": [
    "dflarge.head()"
   ]
  },
  {
   "cell_type": "code",
   "execution_count": 25,
   "id": "ac3a4009",
   "metadata": {
    "execution": {
     "iopub.execute_input": "2022-06-10T11:24:52.240056Z",
     "iopub.status.busy": "2022-06-10T11:24:52.239379Z",
     "iopub.status.idle": "2022-06-10T11:24:52.246623Z",
     "shell.execute_reply": "2022-06-10T11:24:52.245909Z"
    },
    "papermill": {
     "duration": 0.036839,
     "end_time": "2022-06-10T11:24:52.248307",
     "exception": false,
     "start_time": "2022-06-10T11:24:52.211468",
     "status": "completed"
    },
    "tags": []
   },
   "outputs": [],
   "source": [
    "aldf[\"Person-NerEngLarge\"]=dflarge[\"PERSON-nerenglarge\"]\n",
    "aldf[\"LOC-NerEngLarge\"]=dflarge[\"LOC-nerenglarge\"]\n",
    "aldf[\"ORG-NerEngLarge\"]=dflarge[\"ORG-nerenglarge\"]\n"
   ]
  },
  {
   "cell_type": "code",
   "execution_count": 26,
   "id": "edbc092c",
   "metadata": {
    "execution": {
     "iopub.execute_input": "2022-06-10T11:24:52.302491Z",
     "iopub.status.busy": "2022-06-10T11:24:52.302232Z",
     "iopub.status.idle": "2022-06-10T11:24:52.312444Z",
     "shell.execute_reply": "2022-06-10T11:24:52.311642Z"
    },
    "papermill": {
     "duration": 0.039696,
     "end_time": "2022-06-10T11:24:52.314210",
     "exception": false,
     "start_time": "2022-06-10T11:24:52.274514",
     "status": "completed"
    },
    "tags": []
   },
   "outputs": [],
   "source": [
    "allPerson=[]\n",
    "for i in aldf[\"PERSON-ontonotes\"]:\n",
    "            allPerson.append(i)\n",
    "allDatess=[]\n",
    "for i in aldf[\"Date-ontonotes\"]:\n",
    "            allDatess.append(i)\n",
    "allpostdates=[]\n",
    "for i in aldf[\"postDate-ontonotes\"]:\n",
    "            allpostdates.append(i)\n",
    "allGPE=[]\n",
    "for i in aldf[\"GPE-ontonotes\"]:\n",
    "            allGPE.append(i)\n",
    "alORGl=[]\n",
    "for i in aldf[\"ORG-ontonotes\"]:\n",
    "            alORGl.append(i)"
   ]
  },
  {
   "cell_type": "markdown",
   "id": "a404d4ad",
   "metadata": {
    "papermill": {
     "duration": 0.02636,
     "end_time": "2022-06-10T11:24:52.366919",
     "exception": false,
     "start_time": "2022-06-10T11:24:52.340559",
     "status": "completed"
    },
    "tags": []
   },
   "source": [
    "****"
   ]
  },
  {
   "cell_type": "code",
   "execution_count": 27,
   "id": "21efc10b",
   "metadata": {
    "execution": {
     "iopub.execute_input": "2022-06-10T11:24:52.442626Z",
     "iopub.status.busy": "2022-06-10T11:24:52.442125Z",
     "iopub.status.idle": "2022-06-10T11:24:52.461190Z",
     "shell.execute_reply": "2022-06-10T11:24:52.458720Z"
    },
    "papermill": {
     "duration": 0.069522,
     "end_time": "2022-06-10T11:24:52.463524",
     "exception": false,
     "start_time": "2022-06-10T11:24:52.394002",
     "status": "completed"
    },
    "tags": []
   },
   "outputs": [],
   "source": [
    "Personlarge=[]\n",
    "for i in dflarge[\"PERSON-nerenglarge\"]:\n",
    "            Personlarge.append(i)\n",
    "ORGlarge=[]\n",
    "for i in dflarge[\"ORG-nerenglarge\"]:\n",
    "            ORGlarge.append(i) \n",
    "LOClarge=[]\n",
    "for i in dflarge[\"LOC-nerenglarge\"]:\n",
    "            LOClarge.append(i)"
   ]
  },
  {
   "cell_type": "markdown",
   "id": "bb80afc3",
   "metadata": {
    "papermill": {
     "duration": 0.045242,
     "end_time": "2022-06-10T11:24:52.559522",
     "exception": false,
     "start_time": "2022-06-10T11:24:52.514280",
     "status": "completed"
    },
    "tags": []
   },
   "source": [
    "* as usual , ner English Large is better in extracting Person \n",
    "* ontonotes is thes best in extracting dates after good postprocessing and filtring almost all pattern \n",
    "* ner Engish Large  also better in Location and Oranization "
   ]
  },
  {
   "cell_type": "markdown",
   "id": "dd92ca3b",
   "metadata": {
    "papermill": {
     "duration": 0.043896,
     "end_time": "2022-06-10T11:24:52.647801",
     "exception": false,
     "start_time": "2022-06-10T11:24:52.603905",
     "status": "completed"
    },
    "tags": []
   },
   "source": [
    "# dates"
   ]
  },
  {
   "cell_type": "markdown",
   "id": "86dff5e2",
   "metadata": {
    "papermill": {
     "duration": 0.042888,
     "end_time": "2022-06-10T11:24:52.734074",
     "exception": false,
     "start_time": "2022-06-10T11:24:52.691186",
     "status": "completed"
    },
    "tags": []
   },
   "source": [
    "**run those cells to take a look at the result more clearly**"
   ]
  },
  {
   "cell_type": "code",
   "execution_count": 28,
   "id": "387aefd8",
   "metadata": {
    "execution": {
     "iopub.execute_input": "2022-06-10T11:24:52.823391Z",
     "iopub.status.busy": "2022-06-10T11:24:52.822817Z",
     "iopub.status.idle": "2022-06-10T11:24:52.827138Z",
     "shell.execute_reply": "2022-06-10T11:24:52.826354Z"
    },
    "papermill": {
     "duration": 0.051388,
     "end_time": "2022-06-10T11:24:52.828816",
     "exception": false,
     "start_time": "2022-06-10T11:24:52.777428",
     "status": "completed"
    },
    "tags": []
   },
   "outputs": [],
   "source": [
    "#G"
   ]
  },
  {
   "cell_type": "markdown",
   "id": "6b3675d1",
   "metadata": {
    "papermill": {
     "duration": 0.044129,
     "end_time": "2022-06-10T11:24:52.917136",
     "exception": false,
     "start_time": "2022-06-10T11:24:52.873007",
     "status": "completed"
    },
    "tags": []
   },
   "source": [
    "# Person"
   ]
  },
  {
   "cell_type": "code",
   "execution_count": 29,
   "id": "0309f974",
   "metadata": {
    "execution": {
     "iopub.execute_input": "2022-06-10T11:24:52.994347Z",
     "iopub.status.busy": "2022-06-10T11:24:52.993983Z",
     "iopub.status.idle": "2022-06-10T11:24:52.997805Z",
     "shell.execute_reply": "2022-06-10T11:24:52.997009Z"
    },
    "papermill": {
     "duration": 0.037105,
     "end_time": "2022-06-10T11:24:52.999471",
     "exception": false,
     "start_time": "2022-06-10T11:24:52.962366",
     "status": "completed"
    },
    "tags": []
   },
   "outputs": [],
   "source": [
    " # Personlarge"
   ]
  },
  {
   "cell_type": "markdown",
   "id": "49dc0387",
   "metadata": {
    "papermill": {
     "duration": 0.026694,
     "end_time": "2022-06-10T11:24:53.053394",
     "exception": false,
     "start_time": "2022-06-10T11:24:53.026700",
     "status": "completed"
    },
    "tags": []
   },
   "source": [
    "# LOC and ORG "
   ]
  },
  {
   "cell_type": "code",
   "execution_count": 30,
   "id": "e4c57534",
   "metadata": {
    "execution": {
     "iopub.execute_input": "2022-06-10T11:24:53.108772Z",
     "iopub.status.busy": "2022-06-10T11:24:53.108383Z",
     "iopub.status.idle": "2022-06-10T11:24:53.112317Z",
     "shell.execute_reply": "2022-06-10T11:24:53.111544Z"
    },
    "papermill": {
     "duration": 0.033241,
     "end_time": "2022-06-10T11:24:53.113986",
     "exception": false,
     "start_time": "2022-06-10T11:24:53.080745",
     "status": "completed"
    },
    "tags": []
   },
   "outputs": [],
   "source": [
    "# LOClarge"
   ]
  },
  {
   "cell_type": "code",
   "execution_count": 31,
   "id": "a82512d7",
   "metadata": {
    "execution": {
     "iopub.execute_input": "2022-06-10T11:24:53.169548Z",
     "iopub.status.busy": "2022-06-10T11:24:53.168962Z",
     "iopub.status.idle": "2022-06-10T11:24:53.175261Z",
     "shell.execute_reply": "2022-06-10T11:24:53.174573Z"
    },
    "papermill": {
     "duration": 0.035526,
     "end_time": "2022-06-10T11:24:53.176977",
     "exception": false,
     "start_time": "2022-06-10T11:24:53.141451",
     "status": "completed"
    },
    "tags": []
   },
   "outputs": [
    {
     "data": {
      "text/plain": [
       "[['United States of America', 'Charleston SC'],\n",
       " ['United States of America', 'South Carolina', 'Charleston SC'],\n",
       " ['United States of America', 'Charleston'],\n",
       " ['Charleston', 'Charleston SC', 'United States'],\n",
       " ['Charleston', 'United States of America', 'Charleston SC'],\n",
       " ['United States of America', 'Blackville'],\n",
       " ['United States of America', 'South Carolina', 'United States', 'Blackville'],\n",
       " ['United States of America', 'Blackville'],\n",
       " ['United States of America', 'Charleston SC', 'Charleston', 'South Carolina'],\n",
       " ['United States of America', 'Charleston SC'],\n",
       " ['United States of America',\n",
       "  'NO UNITED STATES OF AMERICA',\n",
       "  'Charlestown',\n",
       "  'South Carolina'],\n",
       " ['United States of America', 'South Carolina'],\n",
       " ['United States of America',\n",
       "  'UNITED STATES OF AMERICA',\n",
       "  'Charleston District',\n",
       "  'South Carolina'],\n",
       " ['United States of America', 'Charleston SC'],\n",
       " ['United States Of America',\n",
       "  'Charleston SC',\n",
       "  'UNITED STATES OF America',\n",
       "  'Charleston'],\n",
       " ['South Carolina'],\n",
       " ['United States of America', 'Brisbane', 'Albany'],\n",
       " ['United States of America', 'Charleston'],\n",
       " ['United States of America'],\n",
       " []]"
      ]
     },
     "execution_count": 31,
     "metadata": {},
     "output_type": "execute_result"
    }
   ],
   "source": [
    "allGPE[1000:1020]"
   ]
  },
  {
   "cell_type": "code",
   "execution_count": 32,
   "id": "f88f698c",
   "metadata": {
    "execution": {
     "iopub.execute_input": "2022-06-10T11:24:53.232211Z",
     "iopub.status.busy": "2022-06-10T11:24:53.231383Z",
     "iopub.status.idle": "2022-06-10T11:24:53.236800Z",
     "shell.execute_reply": "2022-06-10T11:24:53.236049Z"
    },
    "papermill": {
     "duration": 0.035077,
     "end_time": "2022-06-10T11:24:53.238669",
     "exception": false,
     "start_time": "2022-06-10T11:24:53.203592",
     "status": "completed"
    },
    "tags": []
   },
   "outputs": [
    {
     "data": {
      "text/plain": [
       "'State of South Carolina I James E Thuring of Barnwell District solemnly swear I carefully read amnesty proclamation issued Andrew Johnson President of United States of America May 29 1865 I excepted benefit Proclamation one of fourteen exception therein made J E Thuring Sworn subscribed 23d day of November AD 1865 Aiken SC Fredk A Ford Magistrate Barnwell Dist SC'"
      ]
     },
     "execution_count": 32,
     "metadata": {},
     "output_type": "execute_result"
    }
   ],
   "source": [
    "all_text[1020]"
   ]
  },
  {
   "cell_type": "code",
   "execution_count": 33,
   "id": "0437282d",
   "metadata": {
    "execution": {
     "iopub.execute_input": "2022-06-10T11:24:53.293559Z",
     "iopub.status.busy": "2022-06-10T11:24:53.292864Z",
     "iopub.status.idle": "2022-06-10T11:24:53.298491Z",
     "shell.execute_reply": "2022-06-10T11:24:53.297783Z"
    },
    "papermill": {
     "duration": 0.035005,
     "end_time": "2022-06-10T11:24:53.300498",
     "exception": false,
     "start_time": "2022-06-10T11:24:53.265493",
     "status": "completed"
    },
    "tags": []
   },
   "outputs": [
    {
     "data": {
      "text/plain": [
       "['United States of America',\n",
       " 'Charleston',\n",
       " 'SC',\n",
       " 'Unites States of America',\n",
       " 'City of Charleston',\n",
       " 'State of South Carolina',\n",
       " 'United States Union of States']"
      ]
     },
     "execution_count": 33,
     "metadata": {},
     "output_type": "execute_result"
    }
   ],
   "source": [
    "LOClarge[1200]"
   ]
  },
  {
   "cell_type": "markdown",
   "id": "6037b444",
   "metadata": {
    "papermill": {
     "duration": 0.027287,
     "end_time": "2022-06-10T11:24:53.355033",
     "exception": false,
     "start_time": "2022-06-10T11:24:53.327746",
     "status": "completed"
    },
    "tags": []
   },
   "source": [
    "# the final dataset :"
   ]
  },
  {
   "cell_type": "code",
   "execution_count": 34,
   "id": "ee5c4917",
   "metadata": {
    "execution": {
     "iopub.execute_input": "2022-06-10T11:24:53.411658Z",
     "iopub.status.busy": "2022-06-10T11:24:53.410738Z",
     "iopub.status.idle": "2022-06-10T11:24:53.417647Z",
     "shell.execute_reply": "2022-06-10T11:24:53.416874Z"
    },
    "papermill": {
     "duration": 0.037334,
     "end_time": "2022-06-10T11:24:53.419330",
     "exception": false,
     "start_time": "2022-06-10T11:24:53.381996",
     "status": "completed"
    },
    "tags": []
   },
   "outputs": [
    {
     "data": {
      "text/plain": [
       "[['I I C Meekins',\n",
       "  'God',\n",
       "  'Isaac C Meekins',\n",
       "  'E H Walker',\n",
       "  'I C Meekins',\n",
       "  'John B Etheridge'],\n",
       " [],\n",
       " ['W H Pearce', 'Almighty', 'God', 'Jm E Ampetts', 'A B Watson'],\n",
       " ['God'],\n",
       " ['SE Allen', 'God SE Allen Sworn', 'McAlpine'],\n",
       " ['Sarah E Dough', 'God', 'Isaac C Merkins'],\n",
       " ['Sarah E Dough', 'JM Wilson'],\n",
       " ['I', 'W T Dough', 'God', 'E H Walker', 'John B Etheridge'],\n",
       " ['Jesse E Dough', 'Almighty', 'God', 'Isaac C Meekins', 'A D Etheridge'],\n",
       " ['I T A Dough', 'God', 'John B Etheridge', 'T A Dough']]"
      ]
     },
     "execution_count": 34,
     "metadata": {},
     "output_type": "execute_result"
    }
   ],
   "source": [
    "Personlarge[:10]"
   ]
  },
  {
   "cell_type": "code",
   "execution_count": 35,
   "id": "ac985f94",
   "metadata": {
    "execution": {
     "iopub.execute_input": "2022-06-10T11:24:53.475044Z",
     "iopub.status.busy": "2022-06-10T11:24:53.474734Z",
     "iopub.status.idle": "2022-06-10T11:24:53.499055Z",
     "shell.execute_reply": "2022-06-10T11:24:53.498178Z"
    },
    "papermill": {
     "duration": 0.053821,
     "end_time": "2022-06-10T11:24:53.500922",
     "exception": false,
     "start_time": "2022-06-10T11:24:53.447101",
     "status": "completed"
    },
    "tags": []
   },
   "outputs": [
    {
     "data": {
      "text/html": [
       "<div>\n",
       "<style scoped>\n",
       "    .dataframe tbody tr th:only-of-type {\n",
       "        vertical-align: middle;\n",
       "    }\n",
       "\n",
       "    .dataframe tbody tr th {\n",
       "        vertical-align: top;\n",
       "    }\n",
       "\n",
       "    .dataframe thead th {\n",
       "        text-align: right;\n",
       "    }\n",
       "</style>\n",
       "<table border=\"1\" class=\"dataframe\">\n",
       "  <thead>\n",
       "    <tr style=\"text-align: right;\">\n",
       "      <th></th>\n",
       "      <th>text</th>\n",
       "      <th>PERSON-ontonotes</th>\n",
       "      <th>GPE-ontonotes</th>\n",
       "      <th>ORG-ontonotes</th>\n",
       "      <th>Date-ontonotes</th>\n",
       "      <th>postDate-ontonotes</th>\n",
       "      <th>Person-NerEngLarge</th>\n",
       "      <th>LOC-NerEngLarge</th>\n",
       "      <th>ORG-NerEngLarge</th>\n",
       "    </tr>\n",
       "  </thead>\n",
       "  <tbody>\n",
       "    <tr>\n",
       "      <th>0</th>\n",
       "      <td>I I C Meekins of Currituck County State of Nor...</td>\n",
       "      <td>[I I C Meekins, Isaac C Meekins, E H Walker JP...</td>\n",
       "      <td>[North Carolina]</td>\n",
       "      <td>[]</td>\n",
       "      <td>[16 day of Sept AD 1865]</td>\n",
       "      <td>[16-Sept-1865]</td>\n",
       "      <td>[I I C Meekins, God, Isaac C Meekins, E H Walk...</td>\n",
       "      <td>[Currituck County State of North Carolina, Uni...</td>\n",
       "      <td>[]</td>\n",
       "    </tr>\n",
       "    <tr>\n",
       "      <th>1</th>\n",
       "      <td>Department of Virginia North Carolina 1864 tak...</td>\n",
       "      <td>[]</td>\n",
       "      <td>[North Carolina, United States]</td>\n",
       "      <td>[Department of Virginia]</td>\n",
       "      <td>[1864]</td>\n",
       "      <td>[]</td>\n",
       "      <td>[]</td>\n",
       "      <td>[North Carolina, United States, States]</td>\n",
       "      <td>[Department of Virginia]</td>\n",
       "    </tr>\n",
       "    <tr>\n",
       "      <th>2</th>\n",
       "      <td>I W H Pearce of Craven County State of NorthCa...</td>\n",
       "      <td>[W H Pearce, Watson]</td>\n",
       "      <td>[]</td>\n",
       "      <td>[]</td>\n",
       "      <td>[3rd day of October AD 1865]</td>\n",
       "      <td>[3-October-1865]</td>\n",
       "      <td>[W H Pearce, Almighty, God, Jm E Ampetts, A B ...</td>\n",
       "      <td>[Craven County State of NorthCarolina, United ...</td>\n",
       "      <td>[]</td>\n",
       "    </tr>\n",
       "    <tr>\n",
       "      <th>3</th>\n",
       "      <td>State of North Carolina County I solemnly swea...</td>\n",
       "      <td>[]</td>\n",
       "      <td>[North Carolina County, United States]</td>\n",
       "      <td>[]</td>\n",
       "      <td>[]</td>\n",
       "      <td>[]</td>\n",
       "      <td>[God]</td>\n",
       "      <td>[State of North Carolina County, United States]</td>\n",
       "      <td>[]</td>\n",
       "    </tr>\n",
       "    <tr>\n",
       "      <th>4</th>\n",
       "      <td>State of North Carolina Wake County I SE Allen...</td>\n",
       "      <td>[Allen]</td>\n",
       "      <td>[North Carolina, Wake County, United States]</td>\n",
       "      <td>[]</td>\n",
       "      <td>[31st day of May 1867]</td>\n",
       "      <td>[31-May-1867]</td>\n",
       "      <td>[SE Allen, God SE Allen Sworn, McAlpine]</td>\n",
       "      <td>[State of North Carolina, Wake County, United ...</td>\n",
       "      <td>[Res Corp]</td>\n",
       "    </tr>\n",
       "  </tbody>\n",
       "</table>\n",
       "</div>"
      ],
      "text/plain": [
       "                                                text  \\\n",
       "0  I I C Meekins of Currituck County State of Nor...   \n",
       "1  Department of Virginia North Carolina 1864 tak...   \n",
       "2  I W H Pearce of Craven County State of NorthCa...   \n",
       "3  State of North Carolina County I solemnly swea...   \n",
       "4  State of North Carolina Wake County I SE Allen...   \n",
       "\n",
       "                                    PERSON-ontonotes  \\\n",
       "0  [I I C Meekins, Isaac C Meekins, E H Walker JP...   \n",
       "1                                                 []   \n",
       "2                               [W H Pearce, Watson]   \n",
       "3                                                 []   \n",
       "4                                            [Allen]   \n",
       "\n",
       "                                  GPE-ontonotes             ORG-ontonotes  \\\n",
       "0                              [North Carolina]                        []   \n",
       "1               [North Carolina, United States]  [Department of Virginia]   \n",
       "2                                            []                        []   \n",
       "3        [North Carolina County, United States]                        []   \n",
       "4  [North Carolina, Wake County, United States]                        []   \n",
       "\n",
       "                 Date-ontonotes postDate-ontonotes  \\\n",
       "0      [16 day of Sept AD 1865]     [16-Sept-1865]   \n",
       "1                        [1864]                 []   \n",
       "2  [3rd day of October AD 1865]   [3-October-1865]   \n",
       "3                            []                 []   \n",
       "4        [31st day of May 1867]      [31-May-1867]   \n",
       "\n",
       "                                  Person-NerEngLarge  \\\n",
       "0  [I I C Meekins, God, Isaac C Meekins, E H Walk...   \n",
       "1                                                 []   \n",
       "2  [W H Pearce, Almighty, God, Jm E Ampetts, A B ...   \n",
       "3                                              [God]   \n",
       "4           [SE Allen, God SE Allen Sworn, McAlpine]   \n",
       "\n",
       "                                     LOC-NerEngLarge           ORG-NerEngLarge  \n",
       "0  [Currituck County State of North Carolina, Uni...                        []  \n",
       "1            [North Carolina, United States, States]  [Department of Virginia]  \n",
       "2  [Craven County State of NorthCarolina, United ...                        []  \n",
       "3    [State of North Carolina County, United States]                        []  \n",
       "4  [State of North Carolina, Wake County, United ...                [Res Corp]  "
      ]
     },
     "execution_count": 35,
     "metadata": {},
     "output_type": "execute_result"
    }
   ],
   "source": [
    "aldf.head()"
   ]
  },
  {
   "cell_type": "markdown",
   "id": "9864cf03",
   "metadata": {
    "papermill": {
     "duration": 0.027272,
     "end_time": "2022-06-10T11:24:53.555400",
     "exception": false,
     "start_time": "2022-06-10T11:24:53.528128",
     "status": "completed"
    },
    "tags": []
   },
   "source": [
    "# list of ontonotes entity"
   ]
  },
  {
   "cell_type": "markdown",
   "id": "eaf02ee1",
   "metadata": {
    "papermill": {
     "duration": 0.027039,
     "end_time": "2022-06-10T11:24:53.609854",
     "exception": false,
     "start_time": "2022-06-10T11:24:53.582815",
     "status": "completed"
    },
    "tags": []
   },
   "source": [
    "# abdesslem  please tell me if those lists i will pickle them ? because like that i won't know which one belongs to the first or the second text ??"
   ]
  },
  {
   "cell_type": "markdown",
   "id": "c9ae9f85",
   "metadata": {
    "papermill": {
     "duration": 0.026929,
     "end_time": "2022-06-10T11:24:53.664522",
     "exception": false,
     "start_time": "2022-06-10T11:24:53.637593",
     "status": "completed"
    },
    "tags": []
   },
   "source": [
    "# Pickle"
   ]
  },
  {
   "cell_type": "code",
   "execution_count": 36,
   "id": "4d68f197",
   "metadata": {
    "execution": {
     "iopub.execute_input": "2022-06-10T11:24:53.720798Z",
     "iopub.status.busy": "2022-06-10T11:24:53.720040Z",
     "iopub.status.idle": "2022-06-10T11:24:53.724172Z",
     "shell.execute_reply": "2022-06-10T11:24:53.723392Z"
    },
    "papermill": {
     "duration": 0.034104,
     "end_time": "2022-06-10T11:24:53.725861",
     "exception": false,
     "start_time": "2022-06-10T11:24:53.691757",
     "status": "completed"
    },
    "tags": []
   },
   "outputs": [],
   "source": [
    "# import pickle\n",
    "# my_pickled_list = pickle.dumps(listoto)  # Pickling the object\n",
    "# print(f\"This is my pickled object:\\n{my_pickled_list}\\n\")\n",
    "\n",
    "# my_pickled_list\n",
    "\n",
    "# my_unpickled_object = pickle.loads(my_pickled_list)  # Unpickling the object\n",
    "# print(\n",
    "#     f\"This is a_dict of the unpickled object:\\n{my_unpickled_object}\\n\")\n",
    "\n",
    "\n",
    "# my_unpickled_object"
   ]
  },
  {
   "cell_type": "code",
   "execution_count": 37,
   "id": "616c8087",
   "metadata": {
    "execution": {
     "iopub.execute_input": "2022-06-10T11:24:53.782897Z",
     "iopub.status.busy": "2022-06-10T11:24:53.781868Z",
     "iopub.status.idle": "2022-06-10T11:24:53.785990Z",
     "shell.execute_reply": "2022-06-10T11:24:53.785208Z"
    },
    "papermill": {
     "duration": 0.0343,
     "end_time": "2022-06-10T11:24:53.787771",
     "exception": false,
     "start_time": "2022-06-10T11:24:53.753471",
     "status": "completed"
    },
    "tags": []
   },
   "outputs": [],
   "source": [
    "# L=[]\n",
    "# for i in G:\n",
    "#        for j in range(len(i)):\n",
    "#             while i[j]!=\"-\":\n",
    "#                 L.append(i[j])\n",
    "#             j=j+1\n",
    "        "
   ]
  },
  {
   "cell_type": "code",
   "execution_count": 38,
   "id": "cf09ce07",
   "metadata": {
    "execution": {
     "iopub.execute_input": "2022-06-10T11:24:53.844653Z",
     "iopub.status.busy": "2022-06-10T11:24:53.843886Z",
     "iopub.status.idle": "2022-06-10T11:24:53.848303Z",
     "shell.execute_reply": "2022-06-10T11:24:53.847536Z"
    },
    "papermill": {
     "duration": 0.035015,
     "end_time": "2022-06-10T11:24:53.850050",
     "exception": false,
     "start_time": "2022-06-10T11:24:53.815035",
     "status": "completed"
    },
    "tags": []
   },
   "outputs": [],
   "source": [
    "# if i[1] in [\"August\",\"Aug\",\"augt\",\"AUGUST\"]:\n",
    "#         i[1]= \"August\"\n",
    "#     elif i[1] in [\"September\",\"Sept\",\"SEP\",\"Sep\",\"Septr\",\"SEPTEMBER\"]:\n",
    "#         i[1]= \"Septembre\"\n",
    "#     elif i[1] in [\"October\",\"Oct\",\"OCT\",\"OCTOBER\"]:\n",
    "#         i[1]= \"October\"\n",
    "#     elif i[1] in [\"November\",\"NOV\",\"Nov\",\"Novmbr\",\"Nvbr\",\"Novb\",\"NOVEMBER\"]:\n",
    "#         i[1]= \"November\"\n",
    "#     elif i[1] in [\"December\",\"Dec\",\"Decbr\",\"DEC\",\"DECEMBER\"]:\n",
    "#         i[1]= \"December\"\n",
    "#     elif i[1] in [\"January\",\"Janry\",\"Jan\",\"Jany\",\"JAN\",\"Janur\",\"JANUARY\"]:\n",
    "#         i[1]= \"January\"\n",
    "#     elif i[1] in [\"February\",\"Feby\",\"Febry\",\"FEB\",\"FEBRUARY\"]:\n",
    "#         i[1]= \"February\"\n",
    "#     elif i[1] in [\"March\",\"Mar\"]:\n",
    "#         i[1]= \"March\"\n",
    "#     elif i[1] in [\"April\",\"Apl\",\"Aprl\",\"APRIL\"]:\n",
    "#         i[1]= \"April\"\n",
    "#     elif i[1] in [\"May\",\"MAY\"]:\n",
    "#         i[1]= \"May\"\n",
    "#     elif i[1] in [\"JUN\",\"Jun\",\"June\"]:\n",
    "#         i[1]= \"June\"\n",
    "#     elif i[1] in [\"JULY\",\"July\",\"JUL\"]:\n",
    "#         i[1]= \"July\"\n",
    "    "
   ]
  },
  {
   "cell_type": "code",
   "execution_count": 39,
   "id": "004790bb",
   "metadata": {
    "execution": {
     "iopub.execute_input": "2022-06-10T11:24:53.906543Z",
     "iopub.status.busy": "2022-06-10T11:24:53.905697Z",
     "iopub.status.idle": "2022-06-10T11:24:53.910122Z",
     "shell.execute_reply": "2022-06-10T11:24:53.909419Z"
    },
    "papermill": {
     "duration": 0.034563,
     "end_time": "2022-06-10T11:24:53.911800",
     "exception": false,
     "start_time": "2022-06-10T11:24:53.877237",
     "status": "completed"
    },
    "tags": []
   },
   "outputs": [],
   "source": [
    "# date=re.findall(r'([0-9]{1,2})\\.*.*\\s([A-Z][a-z]\\S*)\\.*.*\\s([0-9]{2,4})',\"21st Aug 2022\")\n",
    "# dates=[]\n",
    "# for i in date:\n",
    "#     for j in i:\n",
    "#         dates.append(j)"
   ]
  },
  {
   "cell_type": "code",
   "execution_count": 40,
   "id": "a3989fb8",
   "metadata": {
    "execution": {
     "iopub.execute_input": "2022-06-10T11:24:53.970296Z",
     "iopub.status.busy": "2022-06-10T11:24:53.969560Z",
     "iopub.status.idle": "2022-06-10T11:24:53.973197Z",
     "shell.execute_reply": "2022-06-10T11:24:53.972488Z"
    },
    "papermill": {
     "duration": 0.035862,
     "end_time": "2022-06-10T11:24:53.974902",
     "exception": false,
     "start_time": "2022-06-10T11:24:53.939040",
     "status": "completed"
    },
    "tags": []
   },
   "outputs": [],
   "source": [
    "# if dates[1] in [\"August\",\"Aug\",\"augt\",\"AUGUST\"]:\n",
    "#         dates[1]= \"August\""
   ]
  },
  {
   "cell_type": "code",
   "execution_count": 41,
   "id": "1da9444a",
   "metadata": {
    "execution": {
     "iopub.execute_input": "2022-06-10T11:24:54.030391Z",
     "iopub.status.busy": "2022-06-10T11:24:54.029911Z",
     "iopub.status.idle": "2022-06-10T11:24:54.033767Z",
     "shell.execute_reply": "2022-06-10T11:24:54.033043Z"
    },
    "papermill": {
     "duration": 0.033836,
     "end_time": "2022-06-10T11:24:54.035432",
     "exception": false,
     "start_time": "2022-06-10T11:24:54.001596",
     "status": "completed"
    },
    "tags": []
   },
   "outputs": [],
   "source": [
    "# ch=[\"21st Sep 2022\", \"33 Aug 2022\"]\n",
    "# nL=[]\n",
    "# for i in ch:\n",
    "#     L=[]\n",
    "#     datee=re.findall(r'([0-9]{1,2})\\.*.*\\s([A-Z][a-z]\\S*)\\.*.*\\s([0-9]{2,4})',i)\n",
    "#     dates=[]\n",
    "#     for i in datee:\n",
    "#         for j in i:\n",
    "#             dates.append(j)\n",
    "        \n",
    "        \n",
    "#         if dates[1] in [\"August\",\"Aug\",\"augt\",\"AUGUST\"]:\n",
    "#             dates[1]= \"August\"\n",
    "#         elif dates[1] in [\"September\",\"Sept\",\"SEP\",\"Sep\",\"sep\",\"Septr\",\"SEPTEMBER\"]:\n",
    "#             dates[1]= \"Septembre\"\n",
    "   \n",
    "        \n",
    "#         ch = dates[0]+\"-\"+dates[1]+\"-\"+dates[2]\n",
    "\n",
    "#         L.append(ch)\n",
    "#     nL.append(L)\n",
    "    "
   ]
  },
  {
   "cell_type": "code",
   "execution_count": 42,
   "id": "8532ee68",
   "metadata": {
    "execution": {
     "iopub.execute_input": "2022-06-10T11:24:54.091976Z",
     "iopub.status.busy": "2022-06-10T11:24:54.091356Z",
     "iopub.status.idle": "2022-06-10T11:24:54.099146Z",
     "shell.execute_reply": "2022-06-10T11:24:54.098398Z"
    },
    "papermill": {
     "duration": 0.038051,
     "end_time": "2022-06-10T11:24:54.101103",
     "exception": false,
     "start_time": "2022-06-10T11:24:54.063052",
     "status": "completed"
    },
    "tags": []
   },
   "outputs": [
    {
     "name": "stdout",
     "output_type": "stream",
     "text": [
      "helo\n",
      "[('twenty', 'July', '1865')]\n"
     ]
    }
   ],
   "source": [
    "date=re.findall(r'([0-9]{1,2})-([A-Z][a-z]\\S*)-([0-9]{2,4})',\"twenty-July-1865\")\n",
    "date\n",
    "if date!=[]:\n",
    "    print(\"hello\")\n",
    "else :\n",
    "    date = re.findall(r'(^[A-Za-z]\\S*.*.)-([A-Z][a-z]\\S*)-([0-9]{2,4})', \"twenty-July-1865\")\n",
    "    print(\"helo\")\n",
    "\n",
    "    if date!=[]:\n",
    "        print(date)\n",
    "    "
   ]
  },
  {
   "cell_type": "code",
   "execution_count": null,
   "id": "c1aedeb4",
   "metadata": {
    "papermill": {
     "duration": 0.026791,
     "end_time": "2022-06-10T11:24:54.154737",
     "exception": false,
     "start_time": "2022-06-10T11:24:54.127946",
     "status": "completed"
    },
    "tags": []
   },
   "outputs": [],
   "source": []
  },
  {
   "cell_type": "code",
   "execution_count": 43,
   "id": "1070c551",
   "metadata": {
    "execution": {
     "iopub.execute_input": "2022-06-10T11:24:54.211329Z",
     "iopub.status.busy": "2022-06-10T11:24:54.210497Z",
     "iopub.status.idle": "2022-06-10T11:24:54.221704Z",
     "shell.execute_reply": "2022-06-10T11:24:54.220841Z"
    },
    "papermill": {
     "duration": 0.041344,
     "end_time": "2022-06-10T11:24:54.223428",
     "exception": false,
     "start_time": "2022-06-10T11:24:54.182084",
     "status": "completed"
    },
    "tags": []
   },
   "outputs": [],
   "source": [
    "Gi=[[\"fifteenth-Aug-2022\"],[\"15-Sep-2022\"],[\"eight-Aug-2022\"]]\n",
    "NG=[]\n",
    "for i in Gi:\n",
    "    ng=[]\n",
    "    for j in i:\n",
    "        \n",
    "        date=re.findall(r'([0-9]{1,2})-([A-Z][a-z]\\S*)-([0-9]{2,4})',j)\n",
    "        if (date !=[]):\n",
    "            dates=[]\n",
    "            for k in date:\n",
    "                for l in k:\n",
    "                    dates.append(l)\n",
    "                \n",
    "                \n",
    "                if dates[1] in [\"August\",\"Aug\",\"augt\",\"AUGUST\"]:\n",
    "                    dates[1]= \"August\"\n",
    "                elif dates[1] in [\"September\",\"Sept\",\"SEP\",\"Sep\",\"Septr\",\"SEPTEMBER\"]:\n",
    "                    dates[1]= \"Septembre\"\n",
    "                j = dates[0]+\"-\"+dates[1]+\"-\"+dates[2]\n",
    "                ng.append(j)\n",
    "        else :\n",
    "            date = re.findall(r'(^[A-Za-z]\\S*.*.)-([A-Z][a-z]\\S*)-([0-9]{2,4})',j )\n",
    "            dates=[]\n",
    "            for k in date:\n",
    "                for l in k:\n",
    "                    dates.append(l)\n",
    "\n",
    "                   \n",
    "                \n",
    "                \n",
    "                if dates[1] in [\"August\",\"Aug\",\"augt\",\"AUGUST\"]:\n",
    "                    dates[1]= \"August\"\n",
    "                elif dates[1] in [\"JUN\",\"Jun\",\"June\"]:\n",
    "                    dates[1]=\"Jun\"\n",
    "                if dates[0]== \"fifteenth\" :\n",
    "                    dates[0]=\"15\"\n",
    "                elif dates[0]== \"eight\" :\n",
    "                    dates[0]=\"8\"\n",
    "                j = dates[0]+\"-\"+dates[1]+\"-\"+dates[2]\n",
    "                ng.append(j)\n",
    "            \n",
    "            \n",
    "    NG.append(ng)   "
   ]
  },
  {
   "cell_type": "markdown",
   "id": "73099e9a",
   "metadata": {
    "papermill": {
     "duration": 0.027249,
     "end_time": "2022-06-10T11:24:54.278558",
     "exception": false,
     "start_time": "2022-06-10T11:24:54.251309",
     "status": "completed"
    },
    "tags": []
   },
   "source": [
    "# standardizing dates"
   ]
  },
  {
   "cell_type": "code",
   "execution_count": 44,
   "id": "54918e60",
   "metadata": {
    "execution": {
     "iopub.execute_input": "2022-06-10T11:24:54.336338Z",
     "iopub.status.busy": "2022-06-10T11:24:54.335976Z",
     "iopub.status.idle": "2022-06-10T11:24:54.420490Z",
     "shell.execute_reply": "2022-06-10T11:24:54.419752Z"
    },
    "papermill": {
     "duration": 0.115482,
     "end_time": "2022-06-10T11:24:54.422255",
     "exception": false,
     "start_time": "2022-06-10T11:24:54.306773",
     "status": "completed"
    },
    "tags": []
   },
   "outputs": [],
   "source": [
    "NG=[]\n",
    "for i in G:\n",
    "    ng=[]\n",
    "    for j in i:\n",
    "        \n",
    "        date=re.findall(r'([0-9]{1,2})-([A-Z][a-z]\\S*)-([0-9]{2,4})',j)\n",
    "        if date !=[]:\n",
    "            dates=[]\n",
    "            for k in date:\n",
    "                for l in k:\n",
    "                    dates.append(l)\n",
    "                \n",
    "                \n",
    "                if dates[1] in [\"August\",\"Aug\",\"augt\",\"AUGUST\",\"Augst\",\"Augt\",\"AUG\",\"Augusta\"]:\n",
    "                    dates[1]= \"August\"\n",
    "                elif dates[1] in [\"September\",\"Sept\",\"SEP\",\"Sep\",\"Septr\",\"SEPTEMBER\",'Sepr','Septh']:\n",
    "                    dates[1]= \"Septembre\"\n",
    "                elif dates[1] in [\"October\",\"Oct\",\"OCT\",\"OCTOBER\"]:\n",
    "                    dates[1]= \"October\"\n",
    "                elif dates[1] in [\"November\",\"NOV\",\"Nov\",\"Novmbr\",\"Nvbr\",\"Novb\",\"NOVEMBER\"]:\n",
    "                    dates[1]= \"November\"\n",
    "                elif dates[1] in [\"December\",\"Dec\",\"Decbr\",\"DEC\",\"DECEMBER\",\"Decber\"]:\n",
    "                    dates[1]= \"December\"\n",
    "                elif dates[1] in [\"January\",\"Janry\",\"Jan\",\"Jany\",\"JAN\",\"Janur\",\"JANUARY\"]:\n",
    "                    dates[1]= \"January\"\n",
    "                elif dates[1] in [\"February\",\"Feby\",\"Febry\",\"FEB\",\"FEBRUARY\"]:\n",
    "                    dates[1]= \"February\"\n",
    "                elif dates[1] in [\"March\",\"Mar\"]:\n",
    "                    dates[1]= \"March\"\n",
    "                elif dates[1] in [\"April\",\"Apl\",\"Aprl\",\"APRIL\",\"Apr\"]:\n",
    "                    dates[1]= \"April\"\n",
    "                elif dates[1] in [\"May\",\"MAY\"]:\n",
    "                    dates[1]= \"May\"\n",
    "                elif dates[1] in [\"JUN\",\"Jun\",\"June\"]:\n",
    "                    dates[1]= \"June\"\n",
    "                elif dates[1] in [\"JULY\",\"July\",\"JUL\"]:\n",
    "                    dates[1]= \"July\"\n",
    "                j = dates[0]+\"-\"+dates[1]+\"-\"+dates[2]\n",
    "                ng.append(j)\n",
    "        else :\n",
    "                date = re.findall(r'(^[A-Za-z]\\S*.*.)-([A-Z][a-z]\\S*)-([0-9]{2,4})',j ) \n",
    "                dates=[]\n",
    "                for k in date:\n",
    "                    for l in k:\n",
    "                        dates.append(l)\n",
    "                \n",
    "                \n",
    "                    if dates[1] in [\"August\",\"Aug\",\"augt\",\"AUGUST\",\"Augst\",'Augt',\"AUG\",\"Augusta\"]:\n",
    "                        dates[1]= \"August\"\n",
    "                    elif dates[1] in [\"September\",\"Sept\",\"SEP\",\"Sep\",\"Septr\",\"SEPTEMBER\",\"Sepr\",\"Septh\", \"This\"]:\n",
    "                        dates[1]= \"Septembre\"\n",
    "                    elif dates[1] in [\"October\",\"Oct\",\"OCT\",\"OCTOBER\"]:\n",
    "                        dates[1]= \"October\"\n",
    "                    elif dates[1] in [\"November\",\"NOV\",\"Nov\",\"Novmbr\",\"Nvbr\",\"Novb\",\"NOVEMBER\"]:\n",
    "                        dates[1]= \"November\"\n",
    "                    elif dates[1] in [\"December\",\"Dec\",\"Decbr\",\"DEC\",\"DECEMBER\",\"Decber\"]:\n",
    "                        dates[1]= \"December\"\n",
    "                    elif dates[1] in [\"January\",\"Janry\",\"Jan\",\"Jany\",\"JAN\",\"Janur\",\"JANUARY\"]:\n",
    "                        dates[1]= \"January\"\n",
    "                    elif dates[1] in [\"February\",\"Feby\",\"Febry\",\"FEB\",\"FEBRUARY\"]:\n",
    "                        dates[1]= \"February\"\n",
    "                    elif dates[1] in [\"March\",\"Mar\"]:\n",
    "                        dates[1]= \"March\"\n",
    "                    elif dates[1] in [\"April\",\"Apl\",\"Aprl\",\"APRIL\",\"Apr\"]:\n",
    "                        dates[1]= \"April\"\n",
    "                    elif dates[1] in [\"May\",\"MAY\"]:\n",
    "                        dates[1]= \"May\"\n",
    "                    elif dates[1] in [\"JUN\",\"Jun\",\"June\"]:\n",
    "                        dates[1]= \"June\"\n",
    "                    elif dates[1] in [\"JULY\",\"July\",\"JUL\"]:\n",
    "                        dates[1]= \"July\"\n",
    "                    if dates[0]== \"fifteenth\" :\n",
    "                        dates[0]=\"15\"\n",
    "                    elif dates[0]==\"sixteenth\":\n",
    "                        dates[0]=\"16\"\n",
    "                    elif dates[0]==\"Twenty\":\n",
    "                        dates[0]=\"20\" \n",
    "                    elif dates[0]==\"Twentyseventh\":\n",
    "                        dates[0]=\"27\" \n",
    "                    elif (dates[0]==\"Twenty Eighth\") |(dates[0]==\"TwentyEight\") |(dates[0]==\"TwentyEight \") |(dates[0]==\"Twentyeight\"):\n",
    "                        dates[0]=\"28\"\n",
    "                    elif (dates[0]==\"Ninth\") |(dates[0]==\"Ninth \") |(dates[0]==\"ninth\") |(dates[0]==\"ninth \")|(dates[0]==\"Augusta 9th\"):\n",
    "                        dates[0]=\"9\"\n",
    "                    \n",
    "                    elif dates[0]=='Seventh':\n",
    "                        dates[0]=\"7\" \n",
    "                    elif (dates[0]==\"Eighth \") |(dates[0]==\"Eighth\") |(dates[0]==\"eighth\") |(dates[0]==\"eighth \"):\n",
    "                        dates[0]=\"8\"\n",
    "                    elif dates[0]==\"Seventh \":\n",
    "                        dates[0]=\"7\"\n",
    "                    elif (dates[0]==\"Twenty ninth \")| (dates[0]==\"Twenty ninth\") | (dates[0]==\"twenty ninth \")|(dates[0]==\"Twenty Ninth \")|(dates[0]==\"Twenty Ninth\") :\n",
    "                        dates[0]=\"29\"\n",
    "                    elif (dates[0]==\"Thirty\") |(dates[0]==\"Thirty \"):\n",
    "                        dates[0]=\"30\"\n",
    "                    elif (dates[0]==\"Thirty first \") |(dates[0]==\"Thirty first\"):\n",
    "                        dates[0]=\"31\"\n",
    "                  \n",
    "                    \n",
    "                    elif dates[0]==\"first \":\n",
    "                        dates[0]=\"1\"\n",
    "                    elif (dates[0]==\"Second \") |(dates[0]==\"Second\") |(dates[0]==\"second\")|(dates[0]==\"second \"):\n",
    "                        dates[0]=\"2\"\n",
    "                    elif dates[0]==\"fourth \":\n",
    "                        dates[0]=\"4\"\n",
    "                    elif dates[0]==\"tenth \":\n",
    "                        dates[0]=\"10\"\n",
    "                    elif (dates[0]==\"Fifth \")|(dates[0]==\"Fifth\") |(dates[0]==\"fifth \")|(dates[0]==\"fifth\"):\n",
    "                        dates[0]=\"5\"\n",
    "                    elif (dates[0]==\"This\") | (dates[0]==\"This 7th \")|(dates[0]==\"seventh \") |(dates[0]==\"seventh\") |(dates[0]==\"Seventh \"):\n",
    "                        dates[0]=\"7\"\n",
    "                    elif (dates[0]==\"This 31st\") |(dates[0]==\"Thirty-first \"):\n",
    "                        dates[0]=\"31\"\n",
    "                    elif (dates[0]==\"Thirtieth\") |(dates[0]==\"Thirtieth \") |(dates[0]==\"Thirty\"):\n",
    "                        dates[0]=\"30\"\n",
    "                    \n",
    "                    elif dates[0]==\"Twenty seventh \":\n",
    "                        dates[0]=\"27\"\n",
    "                    elif (dates[0]==\"Twenty sixth \") |(dates[0]==\"Twentysixth \")|(dates[0]==\"Twentysixth\") |(dates[0]==\"twentysixth \"):\n",
    "                        dates[0]=\"26\"\n",
    "                    elif dates[0]==\"third \":\n",
    "                        dates[0]=\"3\" \n",
    "                    elif dates[0]==\"third\":\n",
    "                        dates[0]=\"3\"\n",
    "                    elif dates[0]==\"Third \":\n",
    "                        dates[0]=\"3\"\n",
    "                    elif dates[0]==\"Third\":\n",
    "                        dates[0]=\"3\"\n",
    "                    \n",
    "                    elif dates[0]==\"Tenth\":\n",
    "                        dates[0]=\"10\" \n",
    "                    elif (dates[0]==\"this_sixth \")|(dates[0]==\"sixth \")| (dates[0]==\"Sixth\") | (dates[0]==\"Sixth \"):\n",
    "                        dates[0]=\"6\" \n",
    "                        \n",
    "                    elif dates[0]==\"Tenth \":\n",
    "                        dates[0]=\"10\"\n",
    "                    elif (dates[0]==\"twentieth\")|(dates[0]==\"This 20th \"):\n",
    "                        dates[0]=\"20\"\n",
    "                    elif (dates[0]==\"twenty fourth \") |(dates[0]==\"twenty fourth\") |(dates[0]==\"Twenty fourth \") |(dates[0]==\"Twenty fourth\"):\n",
    "                        dates[0]=\"24\"\n",
    "                    elif (dates[0]==\"fifteenth \") |(dates[0]==\"Fifteenth \") |(dates[0]==\"Fifteenth\"):\n",
    "                        dates[0]=\"15\"\n",
    "                    elif dates[0]==\"twentieth \":\n",
    "                        dates[0]=\"20\"\n",
    "                    elif dates[0]==\"Eighteenth \":\n",
    "                        dates[0]=\"18\"\n",
    "                    elif (dates[0]==\"Nineteenth \") |(dates[0]==\"Nineteenth\"):\n",
    "                        dates[0]=\"18\"\n",
    "                    elif dates[0]==\"First \":\n",
    "                        dates[0]=\"1\"\n",
    "                    elif dates[0]==\"First\":\n",
    "                        dates[0]=\"1\"\n",
    "                    elif (dates[0]==\"Sixteenth \")|(dates[0]==\"this 16\") |(dates[0]==\"Sixteenth\"):\n",
    "                        dates[0]=\"16\"\n",
    "                   \n",
    "                    elif dates[0]==\"twenty third \":\n",
    "                        dates[0]=\"23\"\n",
    "                    elif dates[0]==\"twenty third\":\n",
    "                        dates[0]=\"23\"\n",
    "                    elif dates[0]==\"Twenty Second \":\n",
    "                        dates[0]=\"22\"\n",
    "                    elif dates[0]==\"Twenty Second\":\n",
    "                        dates[0]=\"22\"\n",
    "                    elif dates[0]==\"Twenty Eighth \":\n",
    "                        dates[0]=\"28\"\n",
    "                    elif dates[0]==\"twenty third\":\n",
    "                        dates[0]=\"23\"\n",
    "                    elif (dates[0]==\"twenty third\") |(dates[0]==\"Twentythird\")|(dates[0]==\"Twentythird \"):\n",
    "                        dates[0]=\"23\"\n",
    "                    elif (dates[0]==\"fourteenth \") | (dates[0]==\"fourteenth\") | (dates[0]==\"Fourteenth\") | (dates[0]==\"Fourteenth \"):\n",
    "                        dates[0]=\"14\"\n",
    "                    elif (dates[0]==\"Eleventh \") | (dates[0]==\"Eleventh\") |(dates[0]==\"eleventh \") :\n",
    "                        dates[0]=\"11\"\n",
    "                    elif (dates[0]==\"Thirteenth\") | (dates[0]==\"Thirteenth \") :\n",
    "                        dates[0]=\"13\"\n",
    "                    elif (dates[0]==\"senventeenth \") |(dates[0]==\"senventeenth\") :\n",
    "                        dates[0]=\"17\"\n",
    "                     \n",
    "                     \n",
    "                     \n",
    "                    \n",
    "                        \n",
    "                    j = dates[0]+\"-\"+dates[1]+\"-\"+dates[2]\n",
    "                    ng.append(j)\n",
    "            \n",
    "            \n",
    "    NG.append(ng)   "
   ]
  },
  {
   "cell_type": "code",
   "execution_count": 45,
   "id": "efa927e6",
   "metadata": {
    "execution": {
     "iopub.execute_input": "2022-06-10T11:24:54.478101Z",
     "iopub.status.busy": "2022-06-10T11:24:54.477802Z",
     "iopub.status.idle": "2022-06-10T11:24:54.496261Z",
     "shell.execute_reply": "2022-06-10T11:24:54.495599Z"
    },
    "papermill": {
     "duration": 0.048035,
     "end_time": "2022-06-10T11:24:54.497940",
     "exception": false,
     "start_time": "2022-06-10T11:24:54.449905",
     "status": "completed"
    },
    "tags": []
   },
   "outputs": [
    {
     "data": {
      "text/plain": [
       "[['16-Septembre-1865'],\n",
       " [],\n",
       " ['3-October-1865'],\n",
       " [],\n",
       " ['31-May-1867'],\n",
       " ['1-December-1866'],\n",
       " ['30-May-1864'],\n",
       " ['16-Septembre-1865'],\n",
       " ['16-November-1866'],\n",
       " ['16-Septembre-1865'],\n",
       " ['4-November-1867'],\n",
       " ['4-November-1867'],\n",
       " ['2-October-1865'],\n",
       " [],\n",
       " ['31-December-1867'],\n",
       " ['19-June-1865', '19-June-1865'],\n",
       " ['4-November-1865'],\n",
       " ['9-November-1866',\n",
       "  '9-The-1866',\n",
       "  'The-November-1866',\n",
       "  'The 9th -November-1866'],\n",
       " ['1-December-1866', '1-December-1866'],\n",
       " ['25-June-1864'],\n",
       " ['20-October-1866'],\n",
       " ['3-December-1866', '3-December-1866'],\n",
       " ['20-July-1867', '24-July-1867'],\n",
       " ['19-May-1865', '18-May-1865', '18-May-1865'],\n",
       " [],\n",
       " ['20-October-1866'],\n",
       " ['15-January-1868'],\n",
       " ['1-July-1867'],\n",
       " [],\n",
       " [],\n",
       " [],\n",
       " ['3-August-67'],\n",
       " ['3-August-1867'],\n",
       " ['15-December-67'],\n",
       " [],\n",
       " [],\n",
       " [],\n",
       " ['15-April-67'],\n",
       " [],\n",
       " ['23-July-67'],\n",
       " ['23-July-1867'],\n",
       " ['26-July-1867'],\n",
       " ['25-July-1867'],\n",
       " [],\n",
       " [],\n",
       " [],\n",
       " [],\n",
       " [],\n",
       " [],\n",
       " ['29-August-66'],\n",
       " [],\n",
       " ['1-November-1866'],\n",
       " [],\n",
       " ['9-November-66'],\n",
       " [],\n",
       " [],\n",
       " ['26-July-1867'],\n",
       " ['31-July-1868'],\n",
       " [],\n",
       " ['18-January-1868'],\n",
       " [],\n",
       " ['14-January-1868'],\n",
       " [],\n",
       " ['14-January-1868'],\n",
       " [],\n",
       " ['2-August-67'],\n",
       " [],\n",
       " ['1-May-67'],\n",
       " [],\n",
       " ['24-August-66'],\n",
       " [],\n",
       " [],\n",
       " [],\n",
       " [],\n",
       " ['27-August-1867'],\n",
       " ['4-June-67'],\n",
       " [],\n",
       " ['4-June-67'],\n",
       " [],\n",
       " ['1-June-67'],\n",
       " [],\n",
       " ['1-June-67'],\n",
       " [],\n",
       " [],\n",
       " [],\n",
       " [],\n",
       " [],\n",
       " [],\n",
       " [],\n",
       " ['22-August-67'],\n",
       " [],\n",
       " [],\n",
       " [],\n",
       " ['29-July-1866'],\n",
       " [],\n",
       " ['19-June-1867'],\n",
       " [],\n",
       " [],\n",
       " ['21-January-1867'],\n",
       " [],\n",
       " [],\n",
       " [],\n",
       " [],\n",
       " ['29-January-1879'],\n",
       " [],\n",
       " [],\n",
       " [],\n",
       " ['28-March-1868'],\n",
       " [],\n",
       " ['28-March-1868'],\n",
       " ['29-January-1868'],\n",
       " [],\n",
       " ['15-January-1868'],\n",
       " [],\n",
       " ['31-July-67'],\n",
       " ['31-July-1868'],\n",
       " ['1-August-1868'],\n",
       " ['31-July-1867'],\n",
       " ['31-July-1867'],\n",
       " ['1-August-1867'],\n",
       " [],\n",
       " [],\n",
       " ['1-August-1867'],\n",
       " ['26-July-1867'],\n",
       " [],\n",
       " ['26-July-1867'],\n",
       " ['24-February-67'],\n",
       " [],\n",
       " [],\n",
       " [],\n",
       " [],\n",
       " [],\n",
       " ['21-Septembre-1868'],\n",
       " [],\n",
       " ['20-January-1868'],\n",
       " [],\n",
       " ['13-November-67'],\n",
       " [],\n",
       " ['26-November-67'],\n",
       " [],\n",
       " ['2-July-1862'],\n",
       " [],\n",
       " [],\n",
       " ['18-May-1867'],\n",
       " [],\n",
       " ['1-February-67'],\n",
       " [],\n",
       " ['24-August-66'],\n",
       " [],\n",
       " [],\n",
       " [],\n",
       " [],\n",
       " ['6-June-1868'],\n",
       " [],\n",
       " [],\n",
       " [],\n",
       " [],\n",
       " [],\n",
       " ['14-January-1868'],\n",
       " [],\n",
       " ['25-December-67'],\n",
       " [],\n",
       " ['15-December-67'],\n",
       " [],\n",
       " [],\n",
       " ['15-December-1867'],\n",
       " [],\n",
       " ['15-December-1867'],\n",
       " [],\n",
       " [],\n",
       " [],\n",
       " [],\n",
       " [],\n",
       " [],\n",
       " [],\n",
       " [],\n",
       " ['15-January-1868'],\n",
       " [],\n",
       " ['3-Septembre-66'],\n",
       " [],\n",
       " [],\n",
       " [],\n",
       " [],\n",
       " [],\n",
       " ['28-July-1868'],\n",
       " ['28-July-1868'],\n",
       " ['9-May-1868'],\n",
       " [],\n",
       " ['6-February-1868'],\n",
       " [],\n",
       " ['9-Septembre-67'],\n",
       " [],\n",
       " [],\n",
       " ['18-May-1867'],\n",
       " [],\n",
       " ['19-October-66'],\n",
       " [],\n",
       " [],\n",
       " [],\n",
       " ['15-August-66'],\n",
       " [],\n",
       " ['24-July-67'],\n",
       " [],\n",
       " ['18-May-67'],\n",
       " [],\n",
       " ['1-October-66'],\n",
       " [],\n",
       " ['4-Septembre-66'],\n",
       " [],\n",
       " [],\n",
       " [],\n",
       " [],\n",
       " [],\n",
       " [],\n",
       " ['26-February-1868'],\n",
       " ['28-January-1868'],\n",
       " [],\n",
       " ['1-November-67'],\n",
       " [],\n",
       " ['14-August-67'],\n",
       " [],\n",
       " ['11-July-1868'],\n",
       " [],\n",
       " [],\n",
       " [],\n",
       " ['1-May-68'],\n",
       " [],\n",
       " ['1-February-1868'],\n",
       " ['2-July-1862'],\n",
       " [],\n",
       " [],\n",
       " ['1-January-68'],\n",
       " [],\n",
       " ['29-July-1867'],\n",
       " [],\n",
       " [],\n",
       " [],\n",
       " [],\n",
       " [],\n",
       " [],\n",
       " [],\n",
       " ['31-July-1866'],\n",
       " [],\n",
       " [],\n",
       " [],\n",
       " ['22-August-66'],\n",
       " [],\n",
       " [],\n",
       " [],\n",
       " [],\n",
       " [],\n",
       " [],\n",
       " ['24-December-1866', '24-December-1866'],\n",
       " ['25-Septembre-1865', '25-Septembre-1865'],\n",
       " [],\n",
       " ['25-Septembre-1865'],\n",
       " ['31-July-1863', '6-January-1866'],\n",
       " ['31-July-1865', '20-May-1865'],\n",
       " ['1-July-1865', '1-July-1865'],\n",
       " ['26-August-1865', '26-August-1865'],\n",
       " ['31-August-1865'],\n",
       " ['12-July-1865'],\n",
       " ['8-July-1865', '8-July-1865'],\n",
       " ['13-April-1866', '13-April-1866'],\n",
       " [],\n",
       " ['8-November-1867', '8-November-1867'],\n",
       " ['18-June-1867', '19-June-1867'],\n",
       " ['17-June-1867'],\n",
       " ['10-Feb-1868'],\n",
       " ['3-February-1868'],\n",
       " [],\n",
       " ['2-July-1862', '24-January-1868'],\n",
       " ['6-October-1867'],\n",
       " ['6-October-1867'],\n",
       " ['1-January-1867'],\n",
       " ['1-January-1867'],\n",
       " ['25-April-1868', '25-April-1868'],\n",
       " ['25-April-1868'],\n",
       " [],\n",
       " [],\n",
       " ['22-June-1867'],\n",
       " ['7-January-1868', '7-January-1868'],\n",
       " ['7-January-1868'],\n",
       " ['2-July-1862', '16-January-1868', '16-January-1868'],\n",
       " ['11-Septembre-1867', '11-Septembre-67'],\n",
       " ['11-Septembre-1867'],\n",
       " [],\n",
       " ['18-December-1867'],\n",
       " ['19-December-1867'],\n",
       " ['19-December-1867'],\n",
       " [],\n",
       " ['2-July-1862', 'Eighteenth-January-1868', '18-January-1868'],\n",
       " [],\n",
       " ['31-July-1867'],\n",
       " ['13-January-1868'],\n",
       " ['13-January-1868'],\n",
       " [],\n",
       " ['11-April-1868'],\n",
       " ['12-August-1867'],\n",
       " ['12-August-1867'],\n",
       " ['30-January-1868'],\n",
       " ['2-July-1862', '25-January-1868'],\n",
       " ['6-February-1868', '6-Feb-1868'],\n",
       " ['6-February-1868'],\n",
       " ['10-June-1867'],\n",
       " ['10-June-1867'],\n",
       " [],\n",
       " ['28-July-1868'],\n",
       " ['8-November-1867', '8-November-1867'],\n",
       " ['8-November-1867'],\n",
       " ['16-Septembre-1868'],\n",
       " ['16-Septembre-1868'],\n",
       " ['11-Septembre-1867'],\n",
       " ['11-Septembre-1867'],\n",
       " ['8-February-1868'],\n",
       " ['10-February-1868'],\n",
       " [],\n",
       " ['20-July-1867'],\n",
       " ['7-August-1867'],\n",
       " ['7-August-1867'],\n",
       " ['1-October-1867'],\n",
       " ['10-February-1868'],\n",
       " ['1-October-1867'],\n",
       " [],\n",
       " ['30-November-1868'],\n",
       " ['25-February-1867'],\n",
       " ['25-February-1869'],\n",
       " ['11-July-1868'],\n",
       " ['11-July-1868'],\n",
       " ['12-June-1867'],\n",
       " ['12-June-1867'],\n",
       " [],\n",
       " ['8-June-1867'],\n",
       " ['4-July-1868'],\n",
       " ['4-July-1868'],\n",
       " ['3-Septembre-1867'],\n",
       " ['3-Septembre-1867'],\n",
       " ['3-January-1868'],\n",
       " ['3-January-1868'],\n",
       " ['7-August-1867', '10-August-1867'],\n",
       " ['7-August-1867'],\n",
       " [],\n",
       " ['25-Septembre-1867'],\n",
       " ['7-December-1868'],\n",
       " ['7-December-1868'],\n",
       " ['8-December-1868', '7-December-1868'],\n",
       " [],\n",
       " ['1-August-1867'],\n",
       " ['16-Septembre-1867'],\n",
       " ['16-Septembre-1867'],\n",
       " ['13-January-1868'],\n",
       " ['13-January-1868'],\n",
       " ['7-Septembre-1867'],\n",
       " ['7-Septembre-1867'],\n",
       " [],\n",
       " ['5-Septembre-1867'],\n",
       " ['23-January-1868'],\n",
       " ['2-July-1862', '23-January-1868'],\n",
       " ['26-June-1867'],\n",
       " ['26-June-1867'],\n",
       " ['3-Septembre-1867', '4-Septembre-1867'],\n",
       " ['3-Septembre-1867'],\n",
       " ['12-June-1867'],\n",
       " ['2-June-1867'],\n",
       " [],\n",
       " ['25-June-1867'],\n",
       " ['22-May-1864'],\n",
       " ['22-May-1867', '1-June-1867'],\n",
       " ['22-May-1867'],\n",
       " [],\n",
       " ['2-July-1862', '18-January-1868'],\n",
       " [],\n",
       " ['13-June-1867'],\n",
       " ['29-April-1868'],\n",
       " ['29-April-1868'],\n",
       " ['9-Septembre-1867'],\n",
       " ['9-Septembre-1867'],\n",
       " ['18-April-1868', '18-April-1868'],\n",
       " ['18-April-1868'],\n",
       " ['27-June-1867'],\n",
       " ['27-June-1867'],\n",
       " ['27-June-1867'],\n",
       " [],\n",
       " ['22-February-1868'],\n",
       " ['3-Septembre-1867'],\n",
       " ['3-Septembre-1867'],\n",
       " ['21-Septembre-1867', '9-August-1897'],\n",
       " ['21-Septembre-1867'],\n",
       " ['3-Septembre-1867', '4-Septembre-1867'],\n",
       " ['3-Septembre-1867'],\n",
       " ['18-June-1867', '18-June-1867'],\n",
       " ['18-June-1867'],\n",
       " [],\n",
       " ['2-July-1862', '20-January-1868', '22-January-1868'],\n",
       " ['9-July-1868'],\n",
       " ['9-July-1868'],\n",
       " ['20-December-1867', '20-December-1868'],\n",
       " ['20-December-1867'],\n",
       " ['11-Septembre-1867', '12-Septembre-1867'],\n",
       " ['11-Septembre-1867'],\n",
       " [],\n",
       " ['22-July-1867'],\n",
       " ['7-Septembre-1867'],\n",
       " ['7-Septembre-1867'],\n",
       " ['28-July-1868'],\n",
       " ['2-July-1862', '20-July-1868', '28-July-1868'],\n",
       " ['6-December-1866'],\n",
       " ['6-January-1865'],\n",
       " ['19-Septembre-1868'],\n",
       " ['19-Septembre-1868'],\n",
       " [],\n",
       " [],\n",
       " ['30-Septembre-1867'],\n",
       " ['28-Septembre-1867'],\n",
       " ['28-Septembre-1867'],\n",
       " ['26-August-1867'],\n",
       " ['26-August-1867'],\n",
       " [],\n",
       " ['6-July-1867'],\n",
       " ['26-August-1867'],\n",
       " ['3-Septembre-1867'],\n",
       " ['3-Septembre-1867'],\n",
       " [],\n",
       " ['17-August-1867'],\n",
       " ['10-July-1867', '13-July-1867'],\n",
       " ['10-July-1867'],\n",
       " ['16-January-1868', '17-January-1868'],\n",
       " ['2-July-1862', '15-January-1868'],\n",
       " [],\n",
       " ['26-August-1865', '26-August-1865', '26-August-1865'],\n",
       " ['14-Septembre-1865'],\n",
       " ['14-Septembre-1865', '14-Septembre-1865', '16-Septembre-1865'],\n",
       " ['26-Septembre-1865'],\n",
       " ['26-Septembre-1865', '26-Septembre-1865'],\n",
       " ['29-Septembre-1865'],\n",
       " ['29-Septembre-1865', '29-Septembre-1865', '29-Septembre-1865'],\n",
       " ['13-Septembre-1865'],\n",
       " ['13-Septembre-1805', '13-Septembre-1865', '13-Septembre-1865'],\n",
       " ['2-Septembre-1865'],\n",
       " ['2-Septembre-1865', '2-Septembre-1865', '2-Septembre-1865'],\n",
       " ['20-Septembre-1865'],\n",
       " ['2-Septembre-1865', '2-Septembre-1865', '2-Septembre-1865'],\n",
       " ['20-Septembre-1865'],\n",
       " ['2-Septembre-1865', '2-Septembre-1865', '2-Septembre-1865'],\n",
       " ['4-Septembre-1865'],\n",
       " ['4-Septembre-1865', '4-Septembre-1865', '4-Septembre-1865'],\n",
       " ['18-Septembre-1865'],\n",
       " ['22-Septembre-1865', '22-Septembre-1865'],\n",
       " ['14-Septembre-1865'],\n",
       " ['14-Septembre-1865', '14-Septembre-1865'],\n",
       " ['16-Septembre-1865'],\n",
       " ['16-Septembre-1865', '16-Septembre-1865', '16-Septembre-1865'],\n",
       " ['29-Septembre-1865'],\n",
       " ['29-Septembre-1865',\n",
       "  '29-Septembre-1865',\n",
       "  '29-Septembre-1865',\n",
       "  '29-Septembre-1865',\n",
       "  '29-Septembre-1865'],\n",
       " ['27-Septembre-1865'],\n",
       " ['27-Septembre-1865', '27-Septembre-1865', '27-Septembre-1865'],\n",
       " ['27-Septembre-1865'],\n",
       " ['27-Septembre-1865', '27-Septembre-1865'],\n",
       " ['18-Septembre-1865'],\n",
       " ['22-Septembre-1865', '22-Septembre-1865', '22-Septembre-1865'],\n",
       " ['18-Septembre-1865'],\n",
       " ['18-Septembre-1865', '18-Septembre-1865'],\n",
       " ['18-Septembre-1865'],\n",
       " ['18-Septembre-1865', '18-Septembre-1865'],\n",
       " ['19-August-1865'],\n",
       " ['19-August-1865', '19-August-1865', '19-August-1865'],\n",
       " ['12-August-1865'],\n",
       " ['12-August-1805', '29-May-1865'],\n",
       " ['12-August-1865', '12-August-1865', '29-May-1865'],\n",
       " ['12-August-1865', '12-August-1865'],\n",
       " ['15-August-1865'],\n",
       " ['15-August-1865'],\n",
       " ['15-August-1865', '29-May-1865'],\n",
       " ['15-August-1865', '15-August-1865', '29-May-1865'],\n",
       " ['15-August-1865', '15-August-1865'],\n",
       " ['20-August-1865'],\n",
       " ['20-August-1865', '20-August-1865'],\n",
       " ['26-August-1865'],\n",
       " ['26-August-1865', '26-August-1865', '26-August-1865', '26-August-1865'],\n",
       " ['21-August-1865'],\n",
       " ['21-August-1865', '21-August-1865'],\n",
       " ['30-August-1865'],\n",
       " ['30-August-1865', '30-August-1865', '30-August-1865'],\n",
       " ['21-August-1865'],\n",
       " ['21-August-1865', '21-August-1865', '21-Agusut-1865'],\n",
       " ['21-August-1865'],\n",
       " ['21-August-1865', '21-August-1865'],\n",
       " ['21-August-1865'],\n",
       " ['26-August-1865', '26-August-1865'],\n",
       " ['20-August-1865'],\n",
       " ['20-August-1865', '29-May-1865'],\n",
       " ['21-August-1865', '20-August-1865', '29-May-1865'],\n",
       " ['20-August-1865', '20-August-1865', '20-August-1865'],\n",
       " ['1-Septembre-1865'],\n",
       " ['1-Septembre-1865', '1-Septembre-1865', '1-Septembre-1865'],\n",
       " ['28-August-1865'],\n",
       " ['28-August-1865', '28-August-1865'],\n",
       " ['2-Septembre-1865'],\n",
       " ['31-August-1865', '31-August-1865', '31-August-1865'],\n",
       " ['12-Septembre-1865']]"
      ]
     },
     "execution_count": 45,
     "metadata": {},
     "output_type": "execute_result"
    }
   ],
   "source": [
    "NG[:500]"
   ]
  },
  {
   "cell_type": "code",
   "execution_count": null,
   "id": "923198e5",
   "metadata": {
    "papermill": {
     "duration": 0.027796,
     "end_time": "2022-06-10T11:24:54.553458",
     "exception": false,
     "start_time": "2022-06-10T11:24:54.525662",
     "status": "completed"
    },
    "tags": []
   },
   "outputs": [],
   "source": []
  },
  {
   "cell_type": "code",
   "execution_count": null,
   "id": "64021f01",
   "metadata": {
    "papermill": {
     "duration": 0.027741,
     "end_time": "2022-06-10T11:24:54.608600",
     "exception": false,
     "start_time": "2022-06-10T11:24:54.580859",
     "status": "completed"
    },
    "tags": []
   },
   "outputs": [],
   "source": []
  },
  {
   "cell_type": "code",
   "execution_count": null,
   "id": "a211ec84",
   "metadata": {
    "papermill": {
     "duration": 0.028492,
     "end_time": "2022-06-10T11:24:54.665368",
     "exception": false,
     "start_time": "2022-06-10T11:24:54.636876",
     "status": "completed"
    },
    "tags": []
   },
   "outputs": [],
   "source": []
  }
 ],
 "metadata": {
  "kernelspec": {
   "display_name": "Python 3",
   "language": "python",
   "name": "python3"
  },
  "language_info": {
   "codemirror_mode": {
    "name": "ipython",
    "version": 3
   },
   "file_extension": ".py",
   "mimetype": "text/x-python",
   "name": "python",
   "nbconvert_exporter": "python",
   "pygments_lexer": "ipython3",
   "version": "3.7.12"
  },
  "papermill": {
   "default_parameters": {},
   "duration": 467.522697,
   "end_time": "2022-06-10T11:24:58.451910",
   "environment_variables": {},
   "exception": null,
   "input_path": "__notebook__.ipynb",
   "output_path": "__notebook__.ipynb",
   "parameters": {},
   "start_time": "2022-06-10T11:17:10.929213",
   "version": "2.3.4"
  },
  "widgets": {
   "application/vnd.jupyter.widget-state+json": {
    "state": {
     "01da410d40294b6d834acd81fdda4e99": {
      "model_module": "@jupyter-widgets/controls",
      "model_module_version": "1.5.0",
      "model_name": "DescriptionStyleModel",
      "state": {
       "_model_module": "@jupyter-widgets/controls",
       "_model_module_version": "1.5.0",
       "_model_name": "DescriptionStyleModel",
       "_view_count": null,
       "_view_module": "@jupyter-widgets/base",
       "_view_module_version": "1.2.0",
       "_view_name": "StyleView",
       "description_width": ""
      }
     },
     "0a22ed67f0444d00b7ff50575c90e88c": {
      "model_module": "@jupyter-widgets/controls",
      "model_module_version": "1.5.0",
      "model_name": "DescriptionStyleModel",
      "state": {
       "_model_module": "@jupyter-widgets/controls",
       "_model_module_version": "1.5.0",
       "_model_name": "DescriptionStyleModel",
       "_view_count": null,
       "_view_module": "@jupyter-widgets/base",
       "_view_module_version": "1.2.0",
       "_view_name": "StyleView",
       "description_width": ""
      }
     },
     "0ee2600974d74ce08dab90cf76861fcc": {
      "model_module": "@jupyter-widgets/controls",
      "model_module_version": "1.5.0",
      "model_name": "HTMLModel",
      "state": {
       "_dom_classes": [],
       "_model_module": "@jupyter-widgets/controls",
       "_model_module_version": "1.5.0",
       "_model_name": "HTMLModel",
       "_view_count": null,
       "_view_module": "@jupyter-widgets/controls",
       "_view_module_version": "1.5.0",
       "_view_name": "HTMLView",
       "description": "",
       "description_tooltip": null,
       "layout": "IPY_MODEL_91e650de26b043419a9eca15872f05aa",
       "placeholder": "​",
       "style": "IPY_MODEL_ad37623baa7e43a399646fd3a5495123",
       "value": " 4.83M/4.83M [00:00&lt;00:00, 11.4MB/s]"
      }
     },
     "10faf9db44e44a81a5a05361ce9f8985": {
      "model_module": "@jupyter-widgets/controls",
      "model_module_version": "1.5.0",
      "model_name": "HTMLModel",
      "state": {
       "_dom_classes": [],
       "_model_module": "@jupyter-widgets/controls",
       "_model_module_version": "1.5.0",
       "_model_name": "HTMLModel",
       "_view_count": null,
       "_view_module": "@jupyter-widgets/controls",
       "_view_module_version": "1.5.0",
       "_view_name": "HTMLView",
       "description": "",
       "description_tooltip": null,
       "layout": "IPY_MODEL_c75c792071fb48e8ad9c387d4af3474c",
       "placeholder": "​",
       "style": "IPY_MODEL_1df6cf5e9e4741eb8554d0c5a7d9b970",
       "value": " 2.24G/2.24G [00:48&lt;00:00, 25.6MB/s]"
      }
     },
     "12a1d6d9fcc646c7ad0a80a1f991770f": {
      "model_module": "@jupyter-widgets/controls",
      "model_module_version": "1.5.0",
      "model_name": "HTMLModel",
      "state": {
       "_dom_classes": [],
       "_model_module": "@jupyter-widgets/controls",
       "_model_module_version": "1.5.0",
       "_model_name": "HTMLModel",
       "_view_count": null,
       "_view_module": "@jupyter-widgets/controls",
       "_view_module_version": "1.5.0",
       "_view_name": "HTMLView",
       "description": "",
       "description_tooltip": null,
       "layout": "IPY_MODEL_dcb1c314aec944e59bae6906ca711627",
       "placeholder": "​",
       "style": "IPY_MODEL_01da410d40294b6d834acd81fdda4e99",
       "value": "Downloading: 100%"
      }
     },
     "194690fb3bc44eddbe9fc536ad7c56a9": {
      "model_module": "@jupyter-widgets/base",
      "model_module_version": "1.2.0",
      "model_name": "LayoutModel",
      "state": {
       "_model_module": "@jupyter-widgets/base",
       "_model_module_version": "1.2.0",
       "_model_name": "LayoutModel",
       "_view_count": null,
       "_view_module": "@jupyter-widgets/base",
       "_view_module_version": "1.2.0",
       "_view_name": "LayoutView",
       "align_content": null,
       "align_items": null,
       "align_self": null,
       "border": null,
       "bottom": null,
       "display": null,
       "flex": null,
       "flex_flow": null,
       "grid_area": null,
       "grid_auto_columns": null,
       "grid_auto_flow": null,
       "grid_auto_rows": null,
       "grid_column": null,
       "grid_gap": null,
       "grid_row": null,
       "grid_template_areas": null,
       "grid_template_columns": null,
       "grid_template_rows": null,
       "height": null,
       "justify_content": null,
       "justify_items": null,
       "left": null,
       "margin": null,
       "max_height": null,
       "max_width": null,
       "min_height": null,
       "min_width": null,
       "object_fit": null,
       "object_position": null,
       "order": null,
       "overflow": null,
       "overflow_x": null,
       "overflow_y": null,
       "padding": null,
       "right": null,
       "top": null,
       "visibility": null,
       "width": null
      }
     },
     "1a81afe7b8814d76bce0612a34fa071d": {
      "model_module": "@jupyter-widgets/controls",
      "model_module_version": "1.5.0",
      "model_name": "ProgressStyleModel",
      "state": {
       "_model_module": "@jupyter-widgets/controls",
       "_model_module_version": "1.5.0",
       "_model_name": "ProgressStyleModel",
       "_view_count": null,
       "_view_module": "@jupyter-widgets/base",
       "_view_module_version": "1.2.0",
       "_view_name": "StyleView",
       "bar_color": null,
       "description_width": ""
      }
     },
     "1d819b02fdb4455db2cd8ec9963ba253": {
      "model_module": "@jupyter-widgets/controls",
      "model_module_version": "1.5.0",
      "model_name": "HBoxModel",
      "state": {
       "_dom_classes": [],
       "_model_module": "@jupyter-widgets/controls",
       "_model_module_version": "1.5.0",
       "_model_name": "HBoxModel",
       "_view_count": null,
       "_view_module": "@jupyter-widgets/controls",
       "_view_module_version": "1.5.0",
       "_view_name": "HBoxView",
       "box_style": "",
       "children": [
        "IPY_MODEL_d88e49689db44726b3dab7cbe33db58b",
        "IPY_MODEL_718da997e7974566877e66f0b68d6b13",
        "IPY_MODEL_fc7b42e4c84b4c9ea6c70fb1be408d94"
       ],
       "layout": "IPY_MODEL_194690fb3bc44eddbe9fc536ad7c56a9"
      }
     },
     "1db124ff09df413aa27ea3cef68d9529": {
      "model_module": "@jupyter-widgets/controls",
      "model_module_version": "1.5.0",
      "model_name": "FloatProgressModel",
      "state": {
       "_dom_classes": [],
       "_model_module": "@jupyter-widgets/controls",
       "_model_module_version": "1.5.0",
       "_model_name": "FloatProgressModel",
       "_view_count": null,
       "_view_module": "@jupyter-widgets/controls",
       "_view_module_version": "1.5.0",
       "_view_name": "ProgressView",
       "bar_style": "success",
       "description": "",
       "description_tooltip": null,
       "layout": "IPY_MODEL_d3516117917d455aac001b40a3352c42",
       "max": 5069051.0,
       "min": 0.0,
       "orientation": "horizontal",
       "style": "IPY_MODEL_d71826b4c170464998533721a27e1266",
       "value": 5069051.0
      }
     },
     "1df6cf5e9e4741eb8554d0c5a7d9b970": {
      "model_module": "@jupyter-widgets/controls",
      "model_module_version": "1.5.0",
      "model_name": "DescriptionStyleModel",
      "state": {
       "_model_module": "@jupyter-widgets/controls",
       "_model_module_version": "1.5.0",
       "_model_name": "DescriptionStyleModel",
       "_view_count": null,
       "_view_module": "@jupyter-widgets/base",
       "_view_module_version": "1.2.0",
       "_view_name": "StyleView",
       "description_width": ""
      }
     },
     "2108b0a5ffad427dad596c6f1a68634a": {
      "model_module": "@jupyter-widgets/controls",
      "model_module_version": "1.5.0",
      "model_name": "HBoxModel",
      "state": {
       "_dom_classes": [],
       "_model_module": "@jupyter-widgets/controls",
       "_model_module_version": "1.5.0",
       "_model_name": "HBoxModel",
       "_view_count": null,
       "_view_module": "@jupyter-widgets/controls",
       "_view_module_version": "1.5.0",
       "_view_name": "HBoxView",
       "box_style": "",
       "children": [
        "IPY_MODEL_d3976fd5d98c4b08b61728ad4c12e5f7",
        "IPY_MODEL_1db124ff09df413aa27ea3cef68d9529",
        "IPY_MODEL_0ee2600974d74ce08dab90cf76861fcc"
       ],
       "layout": "IPY_MODEL_eee4a08e27314753b92355b82846ff26"
      }
     },
     "243e715feb544745a704b66b0efbfda0": {
      "model_module": "@jupyter-widgets/base",
      "model_module_version": "1.2.0",
      "model_name": "LayoutModel",
      "state": {
       "_model_module": "@jupyter-widgets/base",
       "_model_module_version": "1.2.0",
       "_model_name": "LayoutModel",
       "_view_count": null,
       "_view_module": "@jupyter-widgets/base",
       "_view_module_version": "1.2.0",
       "_view_name": "LayoutView",
       "align_content": null,
       "align_items": null,
       "align_self": null,
       "border": null,
       "bottom": null,
       "display": null,
       "flex": null,
       "flex_flow": null,
       "grid_area": null,
       "grid_auto_columns": null,
       "grid_auto_flow": null,
       "grid_auto_rows": null,
       "grid_column": null,
       "grid_gap": null,
       "grid_row": null,
       "grid_template_areas": null,
       "grid_template_columns": null,
       "grid_template_rows": null,
       "height": null,
       "justify_content": null,
       "justify_items": null,
       "left": null,
       "margin": null,
       "max_height": null,
       "max_width": null,
       "min_height": null,
       "min_width": null,
       "object_fit": null,
       "object_position": null,
       "order": null,
       "overflow": null,
       "overflow_x": null,
       "overflow_y": null,
       "padding": null,
       "right": null,
       "top": null,
       "visibility": null,
       "width": null
      }
     },
     "26d4f8ae77c84d1ba7f0d10d3f77daab": {
      "model_module": "@jupyter-widgets/controls",
      "model_module_version": "1.5.0",
      "model_name": "HTMLModel",
      "state": {
       "_dom_classes": [],
       "_model_module": "@jupyter-widgets/controls",
       "_model_module_version": "1.5.0",
       "_model_name": "HTMLModel",
       "_view_count": null,
       "_view_module": "@jupyter-widgets/controls",
       "_view_module_version": "1.5.0",
       "_view_name": "HTMLView",
       "description": "",
       "description_tooltip": null,
       "layout": "IPY_MODEL_ba8aa9617ab0435bb3f0e289d4f5af52",
       "placeholder": "​",
       "style": "IPY_MODEL_35d00738a8304428a6ac7eb2dbeff751",
       "value": "Downloading: 100%"
      }
     },
     "2ec80be1a54a436c8a4daa4f9e07f9a2": {
      "model_module": "@jupyter-widgets/controls",
      "model_module_version": "1.5.0",
      "model_name": "HTMLModel",
      "state": {
       "_dom_classes": [],
       "_model_module": "@jupyter-widgets/controls",
       "_model_module_version": "1.5.0",
       "_model_name": "HTMLModel",
       "_view_count": null,
       "_view_module": "@jupyter-widgets/controls",
       "_view_module_version": "1.5.0",
       "_view_name": "HTMLView",
       "description": "",
       "description_tooltip": null,
       "layout": "IPY_MODEL_d33a43425b0d4134ad55cdfb71731425",
       "placeholder": "​",
       "style": "IPY_MODEL_53aea73e976247feaad6cb90b6dbe233",
       "value": " 8.68M/8.68M [00:00&lt;00:00, 13.7MB/s]"
      }
     },
     "32ee42513a6b4552b087767faceaf840": {
      "model_module": "@jupyter-widgets/controls",
      "model_module_version": "1.5.0",
      "model_name": "DescriptionStyleModel",
      "state": {
       "_model_module": "@jupyter-widgets/controls",
       "_model_module_version": "1.5.0",
       "_model_name": "DescriptionStyleModel",
       "_view_count": null,
       "_view_module": "@jupyter-widgets/base",
       "_view_module_version": "1.2.0",
       "_view_name": "StyleView",
       "description_width": ""
      }
     },
     "35d00738a8304428a6ac7eb2dbeff751": {
      "model_module": "@jupyter-widgets/controls",
      "model_module_version": "1.5.0",
      "model_name": "DescriptionStyleModel",
      "state": {
       "_model_module": "@jupyter-widgets/controls",
       "_model_module_version": "1.5.0",
       "_model_name": "DescriptionStyleModel",
       "_view_count": null,
       "_view_module": "@jupyter-widgets/base",
       "_view_module_version": "1.2.0",
       "_view_name": "StyleView",
       "description_width": ""
      }
     },
     "391b74324cdb4dbfae90d6120ab47d1f": {
      "model_module": "@jupyter-widgets/controls",
      "model_module_version": "1.5.0",
      "model_name": "ProgressStyleModel",
      "state": {
       "_model_module": "@jupyter-widgets/controls",
       "_model_module_version": "1.5.0",
       "_model_name": "ProgressStyleModel",
       "_view_count": null,
       "_view_module": "@jupyter-widgets/base",
       "_view_module_version": "1.2.0",
       "_view_name": "StyleView",
       "bar_color": null,
       "description_width": ""
      }
     },
     "4894eb330c1444809ca78b4950e6546c": {
      "model_module": "@jupyter-widgets/base",
      "model_module_version": "1.2.0",
      "model_name": "LayoutModel",
      "state": {
       "_model_module": "@jupyter-widgets/base",
       "_model_module_version": "1.2.0",
       "_model_name": "LayoutModel",
       "_view_count": null,
       "_view_module": "@jupyter-widgets/base",
       "_view_module_version": "1.2.0",
       "_view_name": "LayoutView",
       "align_content": null,
       "align_items": null,
       "align_self": null,
       "border": null,
       "bottom": null,
       "display": null,
       "flex": null,
       "flex_flow": null,
       "grid_area": null,
       "grid_auto_columns": null,
       "grid_auto_flow": null,
       "grid_auto_rows": null,
       "grid_column": null,
       "grid_gap": null,
       "grid_row": null,
       "grid_template_areas": null,
       "grid_template_columns": null,
       "grid_template_rows": null,
       "height": null,
       "justify_content": null,
       "justify_items": null,
       "left": null,
       "margin": null,
       "max_height": null,
       "max_width": null,
       "min_height": null,
       "min_width": null,
       "object_fit": null,
       "object_position": null,
       "order": null,
       "overflow": null,
       "overflow_x": null,
       "overflow_y": null,
       "padding": null,
       "right": null,
       "top": null,
       "visibility": null,
       "width": null
      }
     },
     "4b6a5c12641443618f639206f65a0830": {
      "model_module": "@jupyter-widgets/controls",
      "model_module_version": "1.5.0",
      "model_name": "DescriptionStyleModel",
      "state": {
       "_model_module": "@jupyter-widgets/controls",
       "_model_module_version": "1.5.0",
       "_model_name": "DescriptionStyleModel",
       "_view_count": null,
       "_view_module": "@jupyter-widgets/base",
       "_view_module_version": "1.2.0",
       "_view_name": "StyleView",
       "description_width": ""
      }
     },
     "53aea73e976247feaad6cb90b6dbe233": {
      "model_module": "@jupyter-widgets/controls",
      "model_module_version": "1.5.0",
      "model_name": "DescriptionStyleModel",
      "state": {
       "_model_module": "@jupyter-widgets/controls",
       "_model_module_version": "1.5.0",
       "_model_name": "DescriptionStyleModel",
       "_view_count": null,
       "_view_module": "@jupyter-widgets/base",
       "_view_module_version": "1.2.0",
       "_view_name": "StyleView",
       "description_width": ""
      }
     },
     "6151567c43ff41559730247d67ac4cb9": {
      "model_module": "@jupyter-widgets/controls",
      "model_module_version": "1.5.0",
      "model_name": "HTMLModel",
      "state": {
       "_dom_classes": [],
       "_model_module": "@jupyter-widgets/controls",
       "_model_module_version": "1.5.0",
       "_model_name": "HTMLModel",
       "_view_count": null,
       "_view_module": "@jupyter-widgets/controls",
       "_view_module_version": "1.5.0",
       "_view_name": "HTMLView",
       "description": "",
       "description_tooltip": null,
       "layout": "IPY_MODEL_fa1a9aab7c364de89aef5471623d135c",
       "placeholder": "​",
       "style": "IPY_MODEL_aef44477a56046699443bb802195a2dd",
       "value": "Downloading: 100%"
      }
     },
     "64a725f6f48a46298db2882677191f04": {
      "model_module": "@jupyter-widgets/base",
      "model_module_version": "1.2.0",
      "model_name": "LayoutModel",
      "state": {
       "_model_module": "@jupyter-widgets/base",
       "_model_module_version": "1.2.0",
       "_model_name": "LayoutModel",
       "_view_count": null,
       "_view_module": "@jupyter-widgets/base",
       "_view_module_version": "1.2.0",
       "_view_name": "LayoutView",
       "align_content": null,
       "align_items": null,
       "align_self": null,
       "border": null,
       "bottom": null,
       "display": null,
       "flex": null,
       "flex_flow": null,
       "grid_area": null,
       "grid_auto_columns": null,
       "grid_auto_flow": null,
       "grid_auto_rows": null,
       "grid_column": null,
       "grid_gap": null,
       "grid_row": null,
       "grid_template_areas": null,
       "grid_template_columns": null,
       "grid_template_rows": null,
       "height": null,
       "justify_content": null,
       "justify_items": null,
       "left": null,
       "margin": null,
       "max_height": null,
       "max_width": null,
       "min_height": null,
       "min_width": null,
       "object_fit": null,
       "object_position": null,
       "order": null,
       "overflow": null,
       "overflow_x": null,
       "overflow_y": null,
       "padding": null,
       "right": null,
       "top": null,
       "visibility": null,
       "width": null
      }
     },
     "6a25e4c6028a403b9c9df8ac7ede2550": {
      "model_module": "@jupyter-widgets/base",
      "model_module_version": "1.2.0",
      "model_name": "LayoutModel",
      "state": {
       "_model_module": "@jupyter-widgets/base",
       "_model_module_version": "1.2.0",
       "_model_name": "LayoutModel",
       "_view_count": null,
       "_view_module": "@jupyter-widgets/base",
       "_view_module_version": "1.2.0",
       "_view_name": "LayoutView",
       "align_content": null,
       "align_items": null,
       "align_self": null,
       "border": null,
       "bottom": null,
       "display": null,
       "flex": null,
       "flex_flow": null,
       "grid_area": null,
       "grid_auto_columns": null,
       "grid_auto_flow": null,
       "grid_auto_rows": null,
       "grid_column": null,
       "grid_gap": null,
       "grid_row": null,
       "grid_template_areas": null,
       "grid_template_columns": null,
       "grid_template_rows": null,
       "height": null,
       "justify_content": null,
       "justify_items": null,
       "left": null,
       "margin": null,
       "max_height": null,
       "max_width": null,
       "min_height": null,
       "min_width": null,
       "object_fit": null,
       "object_position": null,
       "order": null,
       "overflow": null,
       "overflow_x": null,
       "overflow_y": null,
       "padding": null,
       "right": null,
       "top": null,
       "visibility": null,
       "width": null
      }
     },
     "718da997e7974566877e66f0b68d6b13": {
      "model_module": "@jupyter-widgets/controls",
      "model_module_version": "1.5.0",
      "model_name": "FloatProgressModel",
      "state": {
       "_dom_classes": [],
       "_model_module": "@jupyter-widgets/controls",
       "_model_module_version": "1.5.0",
       "_model_name": "FloatProgressModel",
       "_view_count": null,
       "_view_module": "@jupyter-widgets/controls",
       "_view_module_version": "1.5.0",
       "_view_name": "ProgressView",
       "bar_style": "success",
       "description": "",
       "description_tooltip": null,
       "layout": "IPY_MODEL_dea158a232ce4b1a8a068516ddf2a3bf",
       "max": 432176557.0,
       "min": 0.0,
       "orientation": "horizontal",
       "style": "IPY_MODEL_814693774e604fedb4084b4d630071b7",
       "value": 432176557.0
      }
     },
     "72dcafe137a24dc490d9d02548b6fa15": {
      "model_module": "@jupyter-widgets/controls",
      "model_module_version": "1.5.0",
      "model_name": "HTMLModel",
      "state": {
       "_dom_classes": [],
       "_model_module": "@jupyter-widgets/controls",
       "_model_module_version": "1.5.0",
       "_model_name": "HTMLModel",
       "_view_count": null,
       "_view_module": "@jupyter-widgets/controls",
       "_view_module_version": "1.5.0",
       "_view_name": "HTMLView",
       "description": "",
       "description_tooltip": null,
       "layout": "IPY_MODEL_d2babd8729de4932a4c5318e966df235",
       "placeholder": "​",
       "style": "IPY_MODEL_dae0545b984b462d8b972329e3fdc038",
       "value": " 2.24G/2.24G [00:47&lt;00:00, 49.3MB/s]"
      }
     },
     "761226b89d92478d87fc1754525c1f2f": {
      "model_module": "@jupyter-widgets/controls",
      "model_module_version": "1.5.0",
      "model_name": "HBoxModel",
      "state": {
       "_dom_classes": [],
       "_model_module": "@jupyter-widgets/controls",
       "_model_module_version": "1.5.0",
       "_model_name": "HBoxModel",
       "_view_count": null,
       "_view_module": "@jupyter-widgets/controls",
       "_view_module_version": "1.5.0",
       "_view_name": "HBoxView",
       "box_style": "",
       "children": [
        "IPY_MODEL_f6142ae89b9e44c4b4c87ba24282f31f",
        "IPY_MODEL_cc134e56370f4948a24a29514f254924",
        "IPY_MODEL_2ec80be1a54a436c8a4daa4f9e07f9a2"
       ],
       "layout": "IPY_MODEL_7794bf63e77044bf99d93c2fc09c1e8f"
      }
     },
     "7794bf63e77044bf99d93c2fc09c1e8f": {
      "model_module": "@jupyter-widgets/base",
      "model_module_version": "1.2.0",
      "model_name": "LayoutModel",
      "state": {
       "_model_module": "@jupyter-widgets/base",
       "_model_module_version": "1.2.0",
       "_model_name": "LayoutModel",
       "_view_count": null,
       "_view_module": "@jupyter-widgets/base",
       "_view_module_version": "1.2.0",
       "_view_name": "LayoutView",
       "align_content": null,
       "align_items": null,
       "align_self": null,
       "border": null,
       "bottom": null,
       "display": null,
       "flex": null,
       "flex_flow": null,
       "grid_area": null,
       "grid_auto_columns": null,
       "grid_auto_flow": null,
       "grid_auto_rows": null,
       "grid_column": null,
       "grid_gap": null,
       "grid_row": null,
       "grid_template_areas": null,
       "grid_template_columns": null,
       "grid_template_rows": null,
       "height": null,
       "justify_content": null,
       "justify_items": null,
       "left": null,
       "margin": null,
       "max_height": null,
       "max_width": null,
       "min_height": null,
       "min_width": null,
       "object_fit": null,
       "object_position": null,
       "order": null,
       "overflow": null,
       "overflow_x": null,
       "overflow_y": null,
       "padding": null,
       "right": null,
       "top": null,
       "visibility": null,
       "width": null
      }
     },
     "78a26d9a1614481b94bda20bf75e5dee": {
      "model_module": "@jupyter-widgets/controls",
      "model_module_version": "1.5.0",
      "model_name": "FloatProgressModel",
      "state": {
       "_dom_classes": [],
       "_model_module": "@jupyter-widgets/controls",
       "_model_module_version": "1.5.0",
       "_model_name": "FloatProgressModel",
       "_view_count": null,
       "_view_module": "@jupyter-widgets/controls",
       "_view_module_version": "1.5.0",
       "_view_name": "ProgressView",
       "bar_style": "success",
       "description": "",
       "description_tooltip": null,
       "layout": "IPY_MODEL_64a725f6f48a46298db2882677191f04",
       "max": 616.0,
       "min": 0.0,
       "orientation": "horizontal",
       "style": "IPY_MODEL_a4eaf4b3dcf14bfa97aeb3aef11f8969",
       "value": 616.0
      }
     },
     "7b1ea4fc80984095a479baa1963fef37": {
      "model_module": "@jupyter-widgets/base",
      "model_module_version": "1.2.0",
      "model_name": "LayoutModel",
      "state": {
       "_model_module": "@jupyter-widgets/base",
       "_model_module_version": "1.2.0",
       "_model_name": "LayoutModel",
       "_view_count": null,
       "_view_module": "@jupyter-widgets/base",
       "_view_module_version": "1.2.0",
       "_view_name": "LayoutView",
       "align_content": null,
       "align_items": null,
       "align_self": null,
       "border": null,
       "bottom": null,
       "display": null,
       "flex": null,
       "flex_flow": null,
       "grid_area": null,
       "grid_auto_columns": null,
       "grid_auto_flow": null,
       "grid_auto_rows": null,
       "grid_column": null,
       "grid_gap": null,
       "grid_row": null,
       "grid_template_areas": null,
       "grid_template_columns": null,
       "grid_template_rows": null,
       "height": null,
       "justify_content": null,
       "justify_items": null,
       "left": null,
       "margin": null,
       "max_height": null,
       "max_width": null,
       "min_height": null,
       "min_width": null,
       "object_fit": null,
       "object_position": null,
       "order": null,
       "overflow": null,
       "overflow_x": null,
       "overflow_y": null,
       "padding": null,
       "right": null,
       "top": null,
       "visibility": null,
       "width": null
      }
     },
     "7c08d86fde204a249d9c502767ef6ab4": {
      "model_module": "@jupyter-widgets/controls",
      "model_module_version": "1.5.0",
      "model_name": "HBoxModel",
      "state": {
       "_dom_classes": [],
       "_model_module": "@jupyter-widgets/controls",
       "_model_module_version": "1.5.0",
       "_model_name": "HBoxModel",
       "_view_count": null,
       "_view_module": "@jupyter-widgets/controls",
       "_view_module_version": "1.5.0",
       "_view_name": "HBoxView",
       "box_style": "",
       "children": [
        "IPY_MODEL_12a1d6d9fcc646c7ad0a80a1f991770f",
        "IPY_MODEL_78a26d9a1614481b94bda20bf75e5dee",
        "IPY_MODEL_e89b78efa4f84a07854cc7e78762e9b8"
       ],
       "layout": "IPY_MODEL_243e715feb544745a704b66b0efbfda0"
      }
     },
     "814693774e604fedb4084b4d630071b7": {
      "model_module": "@jupyter-widgets/controls",
      "model_module_version": "1.5.0",
      "model_name": "ProgressStyleModel",
      "state": {
       "_model_module": "@jupyter-widgets/controls",
       "_model_module_version": "1.5.0",
       "_model_name": "ProgressStyleModel",
       "_view_count": null,
       "_view_module": "@jupyter-widgets/base",
       "_view_module_version": "1.2.0",
       "_view_name": "StyleView",
       "bar_color": null,
       "description_width": ""
      }
     },
     "879e9b3344a54abcb45c65227aa17533": {
      "model_module": "@jupyter-widgets/controls",
      "model_module_version": "1.5.0",
      "model_name": "ProgressStyleModel",
      "state": {
       "_model_module": "@jupyter-widgets/controls",
       "_model_module_version": "1.5.0",
       "_model_name": "ProgressStyleModel",
       "_view_count": null,
       "_view_module": "@jupyter-widgets/base",
       "_view_module_version": "1.2.0",
       "_view_name": "StyleView",
       "bar_color": null,
       "description_width": ""
      }
     },
     "91e650de26b043419a9eca15872f05aa": {
      "model_module": "@jupyter-widgets/base",
      "model_module_version": "1.2.0",
      "model_name": "LayoutModel",
      "state": {
       "_model_module": "@jupyter-widgets/base",
       "_model_module_version": "1.2.0",
       "_model_name": "LayoutModel",
       "_view_count": null,
       "_view_module": "@jupyter-widgets/base",
       "_view_module_version": "1.2.0",
       "_view_name": "LayoutView",
       "align_content": null,
       "align_items": null,
       "align_self": null,
       "border": null,
       "bottom": null,
       "display": null,
       "flex": null,
       "flex_flow": null,
       "grid_area": null,
       "grid_auto_columns": null,
       "grid_auto_flow": null,
       "grid_auto_rows": null,
       "grid_column": null,
       "grid_gap": null,
       "grid_row": null,
       "grid_template_areas": null,
       "grid_template_columns": null,
       "grid_template_rows": null,
       "height": null,
       "justify_content": null,
       "justify_items": null,
       "left": null,
       "margin": null,
       "max_height": null,
       "max_width": null,
       "min_height": null,
       "min_width": null,
       "object_fit": null,
       "object_position": null,
       "order": null,
       "overflow": null,
       "overflow_x": null,
       "overflow_y": null,
       "padding": null,
       "right": null,
       "top": null,
       "visibility": null,
       "width": null
      }
     },
     "9d5c0266797b457791c0bd761ebb4609": {
      "model_module": "@jupyter-widgets/controls",
      "model_module_version": "1.5.0",
      "model_name": "HBoxModel",
      "state": {
       "_dom_classes": [],
       "_model_module": "@jupyter-widgets/controls",
       "_model_module_version": "1.5.0",
       "_model_name": "HBoxModel",
       "_view_count": null,
       "_view_module": "@jupyter-widgets/controls",
       "_view_module_version": "1.5.0",
       "_view_name": "HBoxView",
       "box_style": "",
       "children": [
        "IPY_MODEL_26d4f8ae77c84d1ba7f0d10d3f77daab",
        "IPY_MODEL_f52b5e220cb34a859c8ffb7becf3b292",
        "IPY_MODEL_72dcafe137a24dc490d9d02548b6fa15"
       ],
       "layout": "IPY_MODEL_fc111294f8f547b595cc28ab5f60087b"
      }
     },
     "9fbdced4552f4adcb14a451f5c6db328": {
      "model_module": "@jupyter-widgets/base",
      "model_module_version": "1.2.0",
      "model_name": "LayoutModel",
      "state": {
       "_model_module": "@jupyter-widgets/base",
       "_model_module_version": "1.2.0",
       "_model_name": "LayoutModel",
       "_view_count": null,
       "_view_module": "@jupyter-widgets/base",
       "_view_module_version": "1.2.0",
       "_view_name": "LayoutView",
       "align_content": null,
       "align_items": null,
       "align_self": null,
       "border": null,
       "bottom": null,
       "display": null,
       "flex": null,
       "flex_flow": null,
       "grid_area": null,
       "grid_auto_columns": null,
       "grid_auto_flow": null,
       "grid_auto_rows": null,
       "grid_column": null,
       "grid_gap": null,
       "grid_row": null,
       "grid_template_areas": null,
       "grid_template_columns": null,
       "grid_template_rows": null,
       "height": null,
       "justify_content": null,
       "justify_items": null,
       "left": null,
       "margin": null,
       "max_height": null,
       "max_width": null,
       "min_height": null,
       "min_width": null,
       "object_fit": null,
       "object_position": null,
       "order": null,
       "overflow": null,
       "overflow_x": null,
       "overflow_y": null,
       "padding": null,
       "right": null,
       "top": null,
       "visibility": null,
       "width": null
      }
     },
     "a4eaf4b3dcf14bfa97aeb3aef11f8969": {
      "model_module": "@jupyter-widgets/controls",
      "model_module_version": "1.5.0",
      "model_name": "ProgressStyleModel",
      "state": {
       "_model_module": "@jupyter-widgets/controls",
       "_model_module_version": "1.5.0",
       "_model_name": "ProgressStyleModel",
       "_view_count": null,
       "_view_module": "@jupyter-widgets/base",
       "_view_module_version": "1.2.0",
       "_view_name": "StyleView",
       "bar_color": null,
       "description_width": ""
      }
     },
     "ad37623baa7e43a399646fd3a5495123": {
      "model_module": "@jupyter-widgets/controls",
      "model_module_version": "1.5.0",
      "model_name": "DescriptionStyleModel",
      "state": {
       "_model_module": "@jupyter-widgets/controls",
       "_model_module_version": "1.5.0",
       "_model_name": "DescriptionStyleModel",
       "_view_count": null,
       "_view_module": "@jupyter-widgets/base",
       "_view_module_version": "1.2.0",
       "_view_name": "StyleView",
       "description_width": ""
      }
     },
     "aef44477a56046699443bb802195a2dd": {
      "model_module": "@jupyter-widgets/controls",
      "model_module_version": "1.5.0",
      "model_name": "DescriptionStyleModel",
      "state": {
       "_model_module": "@jupyter-widgets/controls",
       "_model_module_version": "1.5.0",
       "_model_name": "DescriptionStyleModel",
       "_view_count": null,
       "_view_module": "@jupyter-widgets/base",
       "_view_module_version": "1.2.0",
       "_view_name": "StyleView",
       "description_width": ""
      }
     },
     "b42593f683d44ab187d93c94ad6531db": {
      "model_module": "@jupyter-widgets/controls",
      "model_module_version": "1.5.0",
      "model_name": "FloatProgressModel",
      "state": {
       "_dom_classes": [],
       "_model_module": "@jupyter-widgets/controls",
       "_model_module_version": "1.5.0",
       "_model_name": "FloatProgressModel",
       "_view_count": null,
       "_view_module": "@jupyter-widgets/controls",
       "_view_module_version": "1.5.0",
       "_view_name": "ProgressView",
       "bar_style": "success",
       "description": "",
       "description_tooltip": null,
       "layout": "IPY_MODEL_d966d2b60f13473eab892806c855baa4",
       "max": 2239866761.0,
       "min": 0.0,
       "orientation": "horizontal",
       "style": "IPY_MODEL_879e9b3344a54abcb45c65227aa17533",
       "value": 2239866761.0
      }
     },
     "ba8aa9617ab0435bb3f0e289d4f5af52": {
      "model_module": "@jupyter-widgets/base",
      "model_module_version": "1.2.0",
      "model_name": "LayoutModel",
      "state": {
       "_model_module": "@jupyter-widgets/base",
       "_model_module_version": "1.2.0",
       "_model_name": "LayoutModel",
       "_view_count": null,
       "_view_module": "@jupyter-widgets/base",
       "_view_module_version": "1.2.0",
       "_view_name": "LayoutView",
       "align_content": null,
       "align_items": null,
       "align_self": null,
       "border": null,
       "bottom": null,
       "display": null,
       "flex": null,
       "flex_flow": null,
       "grid_area": null,
       "grid_auto_columns": null,
       "grid_auto_flow": null,
       "grid_auto_rows": null,
       "grid_column": null,
       "grid_gap": null,
       "grid_row": null,
       "grid_template_areas": null,
       "grid_template_columns": null,
       "grid_template_rows": null,
       "height": null,
       "justify_content": null,
       "justify_items": null,
       "left": null,
       "margin": null,
       "max_height": null,
       "max_width": null,
       "min_height": null,
       "min_width": null,
       "object_fit": null,
       "object_position": null,
       "order": null,
       "overflow": null,
       "overflow_x": null,
       "overflow_y": null,
       "padding": null,
       "right": null,
       "top": null,
       "visibility": null,
       "width": null
      }
     },
     "c75c792071fb48e8ad9c387d4af3474c": {
      "model_module": "@jupyter-widgets/base",
      "model_module_version": "1.2.0",
      "model_name": "LayoutModel",
      "state": {
       "_model_module": "@jupyter-widgets/base",
       "_model_module_version": "1.2.0",
       "_model_name": "LayoutModel",
       "_view_count": null,
       "_view_module": "@jupyter-widgets/base",
       "_view_module_version": "1.2.0",
       "_view_name": "LayoutView",
       "align_content": null,
       "align_items": null,
       "align_self": null,
       "border": null,
       "bottom": null,
       "display": null,
       "flex": null,
       "flex_flow": null,
       "grid_area": null,
       "grid_auto_columns": null,
       "grid_auto_flow": null,
       "grid_auto_rows": null,
       "grid_column": null,
       "grid_gap": null,
       "grid_row": null,
       "grid_template_areas": null,
       "grid_template_columns": null,
       "grid_template_rows": null,
       "height": null,
       "justify_content": null,
       "justify_items": null,
       "left": null,
       "margin": null,
       "max_height": null,
       "max_width": null,
       "min_height": null,
       "min_width": null,
       "object_fit": null,
       "object_position": null,
       "order": null,
       "overflow": null,
       "overflow_x": null,
       "overflow_y": null,
       "padding": null,
       "right": null,
       "top": null,
       "visibility": null,
       "width": null
      }
     },
     "cc134e56370f4948a24a29514f254924": {
      "model_module": "@jupyter-widgets/controls",
      "model_module_version": "1.5.0",
      "model_name": "FloatProgressModel",
      "state": {
       "_dom_classes": [],
       "_model_module": "@jupyter-widgets/controls",
       "_model_module_version": "1.5.0",
       "_model_name": "FloatProgressModel",
       "_view_count": null,
       "_view_module": "@jupyter-widgets/controls",
       "_view_module_version": "1.5.0",
       "_view_name": "ProgressView",
       "bar_style": "success",
       "description": "",
       "description_tooltip": null,
       "layout": "IPY_MODEL_7b1ea4fc80984095a479baa1963fef37",
       "max": 9096718.0,
       "min": 0.0,
       "orientation": "horizontal",
       "style": "IPY_MODEL_391b74324cdb4dbfae90d6120ab47d1f",
       "value": 9096718.0
      }
     },
     "d2babd8729de4932a4c5318e966df235": {
      "model_module": "@jupyter-widgets/base",
      "model_module_version": "1.2.0",
      "model_name": "LayoutModel",
      "state": {
       "_model_module": "@jupyter-widgets/base",
       "_model_module_version": "1.2.0",
       "_model_name": "LayoutModel",
       "_view_count": null,
       "_view_module": "@jupyter-widgets/base",
       "_view_module_version": "1.2.0",
       "_view_name": "LayoutView",
       "align_content": null,
       "align_items": null,
       "align_self": null,
       "border": null,
       "bottom": null,
       "display": null,
       "flex": null,
       "flex_flow": null,
       "grid_area": null,
       "grid_auto_columns": null,
       "grid_auto_flow": null,
       "grid_auto_rows": null,
       "grid_column": null,
       "grid_gap": null,
       "grid_row": null,
       "grid_template_areas": null,
       "grid_template_columns": null,
       "grid_template_rows": null,
       "height": null,
       "justify_content": null,
       "justify_items": null,
       "left": null,
       "margin": null,
       "max_height": null,
       "max_width": null,
       "min_height": null,
       "min_width": null,
       "object_fit": null,
       "object_position": null,
       "order": null,
       "overflow": null,
       "overflow_x": null,
       "overflow_y": null,
       "padding": null,
       "right": null,
       "top": null,
       "visibility": null,
       "width": null
      }
     },
     "d33a43425b0d4134ad55cdfb71731425": {
      "model_module": "@jupyter-widgets/base",
      "model_module_version": "1.2.0",
      "model_name": "LayoutModel",
      "state": {
       "_model_module": "@jupyter-widgets/base",
       "_model_module_version": "1.2.0",
       "_model_name": "LayoutModel",
       "_view_count": null,
       "_view_module": "@jupyter-widgets/base",
       "_view_module_version": "1.2.0",
       "_view_name": "LayoutView",
       "align_content": null,
       "align_items": null,
       "align_self": null,
       "border": null,
       "bottom": null,
       "display": null,
       "flex": null,
       "flex_flow": null,
       "grid_area": null,
       "grid_auto_columns": null,
       "grid_auto_flow": null,
       "grid_auto_rows": null,
       "grid_column": null,
       "grid_gap": null,
       "grid_row": null,
       "grid_template_areas": null,
       "grid_template_columns": null,
       "grid_template_rows": null,
       "height": null,
       "justify_content": null,
       "justify_items": null,
       "left": null,
       "margin": null,
       "max_height": null,
       "max_width": null,
       "min_height": null,
       "min_width": null,
       "object_fit": null,
       "object_position": null,
       "order": null,
       "overflow": null,
       "overflow_x": null,
       "overflow_y": null,
       "padding": null,
       "right": null,
       "top": null,
       "visibility": null,
       "width": null
      }
     },
     "d3516117917d455aac001b40a3352c42": {
      "model_module": "@jupyter-widgets/base",
      "model_module_version": "1.2.0",
      "model_name": "LayoutModel",
      "state": {
       "_model_module": "@jupyter-widgets/base",
       "_model_module_version": "1.2.0",
       "_model_name": "LayoutModel",
       "_view_count": null,
       "_view_module": "@jupyter-widgets/base",
       "_view_module_version": "1.2.0",
       "_view_name": "LayoutView",
       "align_content": null,
       "align_items": null,
       "align_self": null,
       "border": null,
       "bottom": null,
       "display": null,
       "flex": null,
       "flex_flow": null,
       "grid_area": null,
       "grid_auto_columns": null,
       "grid_auto_flow": null,
       "grid_auto_rows": null,
       "grid_column": null,
       "grid_gap": null,
       "grid_row": null,
       "grid_template_areas": null,
       "grid_template_columns": null,
       "grid_template_rows": null,
       "height": null,
       "justify_content": null,
       "justify_items": null,
       "left": null,
       "margin": null,
       "max_height": null,
       "max_width": null,
       "min_height": null,
       "min_width": null,
       "object_fit": null,
       "object_position": null,
       "order": null,
       "overflow": null,
       "overflow_x": null,
       "overflow_y": null,
       "padding": null,
       "right": null,
       "top": null,
       "visibility": null,
       "width": null
      }
     },
     "d3976fd5d98c4b08b61728ad4c12e5f7": {
      "model_module": "@jupyter-widgets/controls",
      "model_module_version": "1.5.0",
      "model_name": "HTMLModel",
      "state": {
       "_dom_classes": [],
       "_model_module": "@jupyter-widgets/controls",
       "_model_module_version": "1.5.0",
       "_model_name": "HTMLModel",
       "_view_count": null,
       "_view_module": "@jupyter-widgets/controls",
       "_view_module_version": "1.5.0",
       "_view_name": "HTMLView",
       "description": "",
       "description_tooltip": null,
       "layout": "IPY_MODEL_9fbdced4552f4adcb14a451f5c6db328",
       "placeholder": "​",
       "style": "IPY_MODEL_4b6a5c12641443618f639206f65a0830",
       "value": "Downloading: 100%"
      }
     },
     "d452625989df4774a2ad23b3b6544691": {
      "model_module": "@jupyter-widgets/controls",
      "model_module_version": "1.5.0",
      "model_name": "DescriptionStyleModel",
      "state": {
       "_model_module": "@jupyter-widgets/controls",
       "_model_module_version": "1.5.0",
       "_model_name": "DescriptionStyleModel",
       "_view_count": null,
       "_view_module": "@jupyter-widgets/base",
       "_view_module_version": "1.2.0",
       "_view_name": "StyleView",
       "description_width": ""
      }
     },
     "d71826b4c170464998533721a27e1266": {
      "model_module": "@jupyter-widgets/controls",
      "model_module_version": "1.5.0",
      "model_name": "ProgressStyleModel",
      "state": {
       "_model_module": "@jupyter-widgets/controls",
       "_model_module_version": "1.5.0",
       "_model_name": "ProgressStyleModel",
       "_view_count": null,
       "_view_module": "@jupyter-widgets/base",
       "_view_module_version": "1.2.0",
       "_view_name": "StyleView",
       "bar_color": null,
       "description_width": ""
      }
     },
     "d88e49689db44726b3dab7cbe33db58b": {
      "model_module": "@jupyter-widgets/controls",
      "model_module_version": "1.5.0",
      "model_name": "HTMLModel",
      "state": {
       "_dom_classes": [],
       "_model_module": "@jupyter-widgets/controls",
       "_model_module_version": "1.5.0",
       "_model_name": "HTMLModel",
       "_view_count": null,
       "_view_module": "@jupyter-widgets/controls",
       "_view_module_version": "1.5.0",
       "_view_name": "HTMLView",
       "description": "",
       "description_tooltip": null,
       "layout": "IPY_MODEL_dd9277e43d8f49d19757da42dab07d76",
       "placeholder": "​",
       "style": "IPY_MODEL_d452625989df4774a2ad23b3b6544691",
       "value": "Downloading: 100%"
      }
     },
     "d966d2b60f13473eab892806c855baa4": {
      "model_module": "@jupyter-widgets/base",
      "model_module_version": "1.2.0",
      "model_name": "LayoutModel",
      "state": {
       "_model_module": "@jupyter-widgets/base",
       "_model_module_version": "1.2.0",
       "_model_name": "LayoutModel",
       "_view_count": null,
       "_view_module": "@jupyter-widgets/base",
       "_view_module_version": "1.2.0",
       "_view_name": "LayoutView",
       "align_content": null,
       "align_items": null,
       "align_self": null,
       "border": null,
       "bottom": null,
       "display": null,
       "flex": null,
       "flex_flow": null,
       "grid_area": null,
       "grid_auto_columns": null,
       "grid_auto_flow": null,
       "grid_auto_rows": null,
       "grid_column": null,
       "grid_gap": null,
       "grid_row": null,
       "grid_template_areas": null,
       "grid_template_columns": null,
       "grid_template_rows": null,
       "height": null,
       "justify_content": null,
       "justify_items": null,
       "left": null,
       "margin": null,
       "max_height": null,
       "max_width": null,
       "min_height": null,
       "min_width": null,
       "object_fit": null,
       "object_position": null,
       "order": null,
       "overflow": null,
       "overflow_x": null,
       "overflow_y": null,
       "padding": null,
       "right": null,
       "top": null,
       "visibility": null,
       "width": null
      }
     },
     "dae0545b984b462d8b972329e3fdc038": {
      "model_module": "@jupyter-widgets/controls",
      "model_module_version": "1.5.0",
      "model_name": "DescriptionStyleModel",
      "state": {
       "_model_module": "@jupyter-widgets/controls",
       "_model_module_version": "1.5.0",
       "_model_name": "DescriptionStyleModel",
       "_view_count": null,
       "_view_module": "@jupyter-widgets/base",
       "_view_module_version": "1.2.0",
       "_view_name": "StyleView",
       "description_width": ""
      }
     },
     "dcb1c314aec944e59bae6906ca711627": {
      "model_module": "@jupyter-widgets/base",
      "model_module_version": "1.2.0",
      "model_name": "LayoutModel",
      "state": {
       "_model_module": "@jupyter-widgets/base",
       "_model_module_version": "1.2.0",
       "_model_name": "LayoutModel",
       "_view_count": null,
       "_view_module": "@jupyter-widgets/base",
       "_view_module_version": "1.2.0",
       "_view_name": "LayoutView",
       "align_content": null,
       "align_items": null,
       "align_self": null,
       "border": null,
       "bottom": null,
       "display": null,
       "flex": null,
       "flex_flow": null,
       "grid_area": null,
       "grid_auto_columns": null,
       "grid_auto_flow": null,
       "grid_auto_rows": null,
       "grid_column": null,
       "grid_gap": null,
       "grid_row": null,
       "grid_template_areas": null,
       "grid_template_columns": null,
       "grid_template_rows": null,
       "height": null,
       "justify_content": null,
       "justify_items": null,
       "left": null,
       "margin": null,
       "max_height": null,
       "max_width": null,
       "min_height": null,
       "min_width": null,
       "object_fit": null,
       "object_position": null,
       "order": null,
       "overflow": null,
       "overflow_x": null,
       "overflow_y": null,
       "padding": null,
       "right": null,
       "top": null,
       "visibility": null,
       "width": null
      }
     },
     "dd9277e43d8f49d19757da42dab07d76": {
      "model_module": "@jupyter-widgets/base",
      "model_module_version": "1.2.0",
      "model_name": "LayoutModel",
      "state": {
       "_model_module": "@jupyter-widgets/base",
       "_model_module_version": "1.2.0",
       "_model_name": "LayoutModel",
       "_view_count": null,
       "_view_module": "@jupyter-widgets/base",
       "_view_module_version": "1.2.0",
       "_view_name": "LayoutView",
       "align_content": null,
       "align_items": null,
       "align_self": null,
       "border": null,
       "bottom": null,
       "display": null,
       "flex": null,
       "flex_flow": null,
       "grid_area": null,
       "grid_auto_columns": null,
       "grid_auto_flow": null,
       "grid_auto_rows": null,
       "grid_column": null,
       "grid_gap": null,
       "grid_row": null,
       "grid_template_areas": null,
       "grid_template_columns": null,
       "grid_template_rows": null,
       "height": null,
       "justify_content": null,
       "justify_items": null,
       "left": null,
       "margin": null,
       "max_height": null,
       "max_width": null,
       "min_height": null,
       "min_width": null,
       "object_fit": null,
       "object_position": null,
       "order": null,
       "overflow": null,
       "overflow_x": null,
       "overflow_y": null,
       "padding": null,
       "right": null,
       "top": null,
       "visibility": null,
       "width": null
      }
     },
     "dea158a232ce4b1a8a068516ddf2a3bf": {
      "model_module": "@jupyter-widgets/base",
      "model_module_version": "1.2.0",
      "model_name": "LayoutModel",
      "state": {
       "_model_module": "@jupyter-widgets/base",
       "_model_module_version": "1.2.0",
       "_model_name": "LayoutModel",
       "_view_count": null,
       "_view_module": "@jupyter-widgets/base",
       "_view_module_version": "1.2.0",
       "_view_name": "LayoutView",
       "align_content": null,
       "align_items": null,
       "align_self": null,
       "border": null,
       "bottom": null,
       "display": null,
       "flex": null,
       "flex_flow": null,
       "grid_area": null,
       "grid_auto_columns": null,
       "grid_auto_flow": null,
       "grid_auto_rows": null,
       "grid_column": null,
       "grid_gap": null,
       "grid_row": null,
       "grid_template_areas": null,
       "grid_template_columns": null,
       "grid_template_rows": null,
       "height": null,
       "justify_content": null,
       "justify_items": null,
       "left": null,
       "margin": null,
       "max_height": null,
       "max_width": null,
       "min_height": null,
       "min_width": null,
       "object_fit": null,
       "object_position": null,
       "order": null,
       "overflow": null,
       "overflow_x": null,
       "overflow_y": null,
       "padding": null,
       "right": null,
       "top": null,
       "visibility": null,
       "width": null
      }
     },
     "df2a9c646f2f4dfa9170958805579145": {
      "model_module": "@jupyter-widgets/controls",
      "model_module_version": "1.5.0",
      "model_name": "HBoxModel",
      "state": {
       "_dom_classes": [],
       "_model_module": "@jupyter-widgets/controls",
       "_model_module_version": "1.5.0",
       "_model_name": "HBoxModel",
       "_view_count": null,
       "_view_module": "@jupyter-widgets/controls",
       "_view_module_version": "1.5.0",
       "_view_name": "HBoxView",
       "box_style": "",
       "children": [
        "IPY_MODEL_6151567c43ff41559730247d67ac4cb9",
        "IPY_MODEL_b42593f683d44ab187d93c94ad6531db",
        "IPY_MODEL_10faf9db44e44a81a5a05361ce9f8985"
       ],
       "layout": "IPY_MODEL_6a25e4c6028a403b9c9df8ac7ede2550"
      }
     },
     "dff3cf75f093413baa66270b33ad6907": {
      "model_module": "@jupyter-widgets/base",
      "model_module_version": "1.2.0",
      "model_name": "LayoutModel",
      "state": {
       "_model_module": "@jupyter-widgets/base",
       "_model_module_version": "1.2.0",
       "_model_name": "LayoutModel",
       "_view_count": null,
       "_view_module": "@jupyter-widgets/base",
       "_view_module_version": "1.2.0",
       "_view_name": "LayoutView",
       "align_content": null,
       "align_items": null,
       "align_self": null,
       "border": null,
       "bottom": null,
       "display": null,
       "flex": null,
       "flex_flow": null,
       "grid_area": null,
       "grid_auto_columns": null,
       "grid_auto_flow": null,
       "grid_auto_rows": null,
       "grid_column": null,
       "grid_gap": null,
       "grid_row": null,
       "grid_template_areas": null,
       "grid_template_columns": null,
       "grid_template_rows": null,
       "height": null,
       "justify_content": null,
       "justify_items": null,
       "left": null,
       "margin": null,
       "max_height": null,
       "max_width": null,
       "min_height": null,
       "min_width": null,
       "object_fit": null,
       "object_position": null,
       "order": null,
       "overflow": null,
       "overflow_x": null,
       "overflow_y": null,
       "padding": null,
       "right": null,
       "top": null,
       "visibility": null,
       "width": null
      }
     },
     "e89b78efa4f84a07854cc7e78762e9b8": {
      "model_module": "@jupyter-widgets/controls",
      "model_module_version": "1.5.0",
      "model_name": "HTMLModel",
      "state": {
       "_dom_classes": [],
       "_model_module": "@jupyter-widgets/controls",
       "_model_module_version": "1.5.0",
       "_model_name": "HTMLModel",
       "_view_count": null,
       "_view_module": "@jupyter-widgets/controls",
       "_view_module_version": "1.5.0",
       "_view_name": "HTMLView",
       "description": "",
       "description_tooltip": null,
       "layout": "IPY_MODEL_dff3cf75f093413baa66270b33ad6907",
       "placeholder": "​",
       "style": "IPY_MODEL_e930ea5c6d0942969412588c4f4f6656",
       "value": " 616/616 [00:00&lt;00:00, 12.2kB/s]"
      }
     },
     "e930ea5c6d0942969412588c4f4f6656": {
      "model_module": "@jupyter-widgets/controls",
      "model_module_version": "1.5.0",
      "model_name": "DescriptionStyleModel",
      "state": {
       "_model_module": "@jupyter-widgets/controls",
       "_model_module_version": "1.5.0",
       "_model_name": "DescriptionStyleModel",
       "_view_count": null,
       "_view_module": "@jupyter-widgets/base",
       "_view_module_version": "1.2.0",
       "_view_name": "StyleView",
       "description_width": ""
      }
     },
     "eb6910ec00c249739c4baa67450306d2": {
      "model_module": "@jupyter-widgets/base",
      "model_module_version": "1.2.0",
      "model_name": "LayoutModel",
      "state": {
       "_model_module": "@jupyter-widgets/base",
       "_model_module_version": "1.2.0",
       "_model_name": "LayoutModel",
       "_view_count": null,
       "_view_module": "@jupyter-widgets/base",
       "_view_module_version": "1.2.0",
       "_view_name": "LayoutView",
       "align_content": null,
       "align_items": null,
       "align_self": null,
       "border": null,
       "bottom": null,
       "display": null,
       "flex": null,
       "flex_flow": null,
       "grid_area": null,
       "grid_auto_columns": null,
       "grid_auto_flow": null,
       "grid_auto_rows": null,
       "grid_column": null,
       "grid_gap": null,
       "grid_row": null,
       "grid_template_areas": null,
       "grid_template_columns": null,
       "grid_template_rows": null,
       "height": null,
       "justify_content": null,
       "justify_items": null,
       "left": null,
       "margin": null,
       "max_height": null,
       "max_width": null,
       "min_height": null,
       "min_width": null,
       "object_fit": null,
       "object_position": null,
       "order": null,
       "overflow": null,
       "overflow_x": null,
       "overflow_y": null,
       "padding": null,
       "right": null,
       "top": null,
       "visibility": null,
       "width": null
      }
     },
     "eee4a08e27314753b92355b82846ff26": {
      "model_module": "@jupyter-widgets/base",
      "model_module_version": "1.2.0",
      "model_name": "LayoutModel",
      "state": {
       "_model_module": "@jupyter-widgets/base",
       "_model_module_version": "1.2.0",
       "_model_name": "LayoutModel",
       "_view_count": null,
       "_view_module": "@jupyter-widgets/base",
       "_view_module_version": "1.2.0",
       "_view_name": "LayoutView",
       "align_content": null,
       "align_items": null,
       "align_self": null,
       "border": null,
       "bottom": null,
       "display": null,
       "flex": null,
       "flex_flow": null,
       "grid_area": null,
       "grid_auto_columns": null,
       "grid_auto_flow": null,
       "grid_auto_rows": null,
       "grid_column": null,
       "grid_gap": null,
       "grid_row": null,
       "grid_template_areas": null,
       "grid_template_columns": null,
       "grid_template_rows": null,
       "height": null,
       "justify_content": null,
       "justify_items": null,
       "left": null,
       "margin": null,
       "max_height": null,
       "max_width": null,
       "min_height": null,
       "min_width": null,
       "object_fit": null,
       "object_position": null,
       "order": null,
       "overflow": null,
       "overflow_x": null,
       "overflow_y": null,
       "padding": null,
       "right": null,
       "top": null,
       "visibility": null,
       "width": null
      }
     },
     "f52b5e220cb34a859c8ffb7becf3b292": {
      "model_module": "@jupyter-widgets/controls",
      "model_module_version": "1.5.0",
      "model_name": "FloatProgressModel",
      "state": {
       "_dom_classes": [],
       "_model_module": "@jupyter-widgets/controls",
       "_model_module_version": "1.5.0",
       "_model_name": "FloatProgressModel",
       "_view_count": null,
       "_view_module": "@jupyter-widgets/controls",
       "_view_module_version": "1.5.0",
       "_view_name": "ProgressView",
       "bar_style": "success",
       "description": "",
       "description_tooltip": null,
       "layout": "IPY_MODEL_f56d3cf2e83644d0861fb2c13d27b39d",
       "max": 2240097289.0,
       "min": 0.0,
       "orientation": "horizontal",
       "style": "IPY_MODEL_1a81afe7b8814d76bce0612a34fa071d",
       "value": 2240097289.0
      }
     },
     "f56d3cf2e83644d0861fb2c13d27b39d": {
      "model_module": "@jupyter-widgets/base",
      "model_module_version": "1.2.0",
      "model_name": "LayoutModel",
      "state": {
       "_model_module": "@jupyter-widgets/base",
       "_model_module_version": "1.2.0",
       "_model_name": "LayoutModel",
       "_view_count": null,
       "_view_module": "@jupyter-widgets/base",
       "_view_module_version": "1.2.0",
       "_view_name": "LayoutView",
       "align_content": null,
       "align_items": null,
       "align_self": null,
       "border": null,
       "bottom": null,
       "display": null,
       "flex": null,
       "flex_flow": null,
       "grid_area": null,
       "grid_auto_columns": null,
       "grid_auto_flow": null,
       "grid_auto_rows": null,
       "grid_column": null,
       "grid_gap": null,
       "grid_row": null,
       "grid_template_areas": null,
       "grid_template_columns": null,
       "grid_template_rows": null,
       "height": null,
       "justify_content": null,
       "justify_items": null,
       "left": null,
       "margin": null,
       "max_height": null,
       "max_width": null,
       "min_height": null,
       "min_width": null,
       "object_fit": null,
       "object_position": null,
       "order": null,
       "overflow": null,
       "overflow_x": null,
       "overflow_y": null,
       "padding": null,
       "right": null,
       "top": null,
       "visibility": null,
       "width": null
      }
     },
     "f6142ae89b9e44c4b4c87ba24282f31f": {
      "model_module": "@jupyter-widgets/controls",
      "model_module_version": "1.5.0",
      "model_name": "HTMLModel",
      "state": {
       "_dom_classes": [],
       "_model_module": "@jupyter-widgets/controls",
       "_model_module_version": "1.5.0",
       "_model_name": "HTMLModel",
       "_view_count": null,
       "_view_module": "@jupyter-widgets/controls",
       "_view_module_version": "1.5.0",
       "_view_name": "HTMLView",
       "description": "",
       "description_tooltip": null,
       "layout": "IPY_MODEL_eb6910ec00c249739c4baa67450306d2",
       "placeholder": "​",
       "style": "IPY_MODEL_32ee42513a6b4552b087767faceaf840",
       "value": "Downloading: 100%"
      }
     },
     "fa1a9aab7c364de89aef5471623d135c": {
      "model_module": "@jupyter-widgets/base",
      "model_module_version": "1.2.0",
      "model_name": "LayoutModel",
      "state": {
       "_model_module": "@jupyter-widgets/base",
       "_model_module_version": "1.2.0",
       "_model_name": "LayoutModel",
       "_view_count": null,
       "_view_module": "@jupyter-widgets/base",
       "_view_module_version": "1.2.0",
       "_view_name": "LayoutView",
       "align_content": null,
       "align_items": null,
       "align_self": null,
       "border": null,
       "bottom": null,
       "display": null,
       "flex": null,
       "flex_flow": null,
       "grid_area": null,
       "grid_auto_columns": null,
       "grid_auto_flow": null,
       "grid_auto_rows": null,
       "grid_column": null,
       "grid_gap": null,
       "grid_row": null,
       "grid_template_areas": null,
       "grid_template_columns": null,
       "grid_template_rows": null,
       "height": null,
       "justify_content": null,
       "justify_items": null,
       "left": null,
       "margin": null,
       "max_height": null,
       "max_width": null,
       "min_height": null,
       "min_width": null,
       "object_fit": null,
       "object_position": null,
       "order": null,
       "overflow": null,
       "overflow_x": null,
       "overflow_y": null,
       "padding": null,
       "right": null,
       "top": null,
       "visibility": null,
       "width": null
      }
     },
     "fc111294f8f547b595cc28ab5f60087b": {
      "model_module": "@jupyter-widgets/base",
      "model_module_version": "1.2.0",
      "model_name": "LayoutModel",
      "state": {
       "_model_module": "@jupyter-widgets/base",
       "_model_module_version": "1.2.0",
       "_model_name": "LayoutModel",
       "_view_count": null,
       "_view_module": "@jupyter-widgets/base",
       "_view_module_version": "1.2.0",
       "_view_name": "LayoutView",
       "align_content": null,
       "align_items": null,
       "align_self": null,
       "border": null,
       "bottom": null,
       "display": null,
       "flex": null,
       "flex_flow": null,
       "grid_area": null,
       "grid_auto_columns": null,
       "grid_auto_flow": null,
       "grid_auto_rows": null,
       "grid_column": null,
       "grid_gap": null,
       "grid_row": null,
       "grid_template_areas": null,
       "grid_template_columns": null,
       "grid_template_rows": null,
       "height": null,
       "justify_content": null,
       "justify_items": null,
       "left": null,
       "margin": null,
       "max_height": null,
       "max_width": null,
       "min_height": null,
       "min_width": null,
       "object_fit": null,
       "object_position": null,
       "order": null,
       "overflow": null,
       "overflow_x": null,
       "overflow_y": null,
       "padding": null,
       "right": null,
       "top": null,
       "visibility": null,
       "width": null
      }
     },
     "fc7b42e4c84b4c9ea6c70fb1be408d94": {
      "model_module": "@jupyter-widgets/controls",
      "model_module_version": "1.5.0",
      "model_name": "HTMLModel",
      "state": {
       "_dom_classes": [],
       "_model_module": "@jupyter-widgets/controls",
       "_model_module_version": "1.5.0",
       "_model_name": "HTMLModel",
       "_view_count": null,
       "_view_module": "@jupyter-widgets/controls",
       "_view_module_version": "1.5.0",
       "_view_name": "HTMLView",
       "description": "",
       "description_tooltip": null,
       "layout": "IPY_MODEL_4894eb330c1444809ca78b4950e6546c",
       "placeholder": "​",
       "style": "IPY_MODEL_0a22ed67f0444d00b7ff50575c90e88c",
       "value": " 432M/432M [00:09&lt;00:00, 46.4MB/s]"
      }
     }
    },
    "version_major": 2,
    "version_minor": 0
   }
  }
 },
 "nbformat": 4,
 "nbformat_minor": 5
}
