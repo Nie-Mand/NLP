{
 "cells": [
  {
   "cell_type": "code",
   "execution_count": 1,
   "id": "ecc06a17",
   "metadata": {
    "_cell_guid": "b1076dfc-b9ad-4769-8c92-a6c4dae69d19",
    "_uuid": "8f2839f25d086af736a60e9eeb907d3b93b6e0e5",
    "execution": {
     "iopub.execute_input": "2022-06-10T15:10:09.753800Z",
     "iopub.status.busy": "2022-06-10T15:10:09.753045Z",
     "iopub.status.idle": "2022-06-10T15:10:17.776310Z",
     "shell.execute_reply": "2022-06-10T15:10:17.775160Z"
    },
    "papermill": {
     "duration": 8.060913,
     "end_time": "2022-06-10T15:10:17.778871",
     "exception": false,
     "start_time": "2022-06-10T15:10:09.717958",
     "status": "completed"
    },
    "tags": []
   },
   "outputs": [],
   "source": [
    "import numpy as np\n",
    "import pandas as pd \n",
    "import seaborn as sns\n",
    "import matplotlib.pyplot as plt \n",
    "import matplotlib.style as stl \n",
    "from tensorflow import keras \n",
    "from keras.preprocessing.text import Tokenizer\n",
    "from nltk.corpus import stopwords\n",
    "import string\n",
    "from tensorflow.keras.models import Sequential,Model\n",
    "from tensorflow.keras.layers import Dense, LSTM, Embedding,Dropout,SpatialDropout1D,Conv1D,MaxPooling1D,GRU,BatchNormalization\n",
    "import warnings\n",
    "warnings.filterwarnings('ignore')\n",
    "stl.use('ggplot')\n",
    "from tqdm import tqdm\n",
    "import string\n",
    "from nltk.corpus import stopwords\n",
    "from nltk.tokenize import word_tokenize\n",
    "from nltk.stem import WordNetLemmatizer\n",
    "from nltk.stem.snowball import SnowballStemmer\n",
    "import regex as re"
   ]
  },
  {
   "cell_type": "code",
   "execution_count": 2,
   "id": "0cc165d6",
   "metadata": {
    "execution": {
     "iopub.execute_input": "2022-06-10T15:10:17.812131Z",
     "iopub.status.busy": "2022-06-10T15:10:17.811482Z",
     "iopub.status.idle": "2022-06-10T15:10:17.900414Z",
     "shell.execute_reply": "2022-06-10T15:10:17.899372Z"
    },
    "papermill": {
     "duration": 0.10792,
     "end_time": "2022-06-10T15:10:17.903088",
     "exception": false,
     "start_time": "2022-06-10T15:10:17.795168",
     "status": "completed"
    },
    "tags": []
   },
   "outputs": [],
   "source": [
    "newdata=pd.read_csv(\"../input/oathss/oaths.csv\")"
   ]
  },
  {
   "cell_type": "markdown",
   "id": "c1ca6d12",
   "metadata": {
    "papermill": {
     "duration": 0.014901,
     "end_time": "2022-06-10T15:10:17.932942",
     "exception": false,
     "start_time": "2022-06-10T15:10:17.918041",
     "status": "completed"
    },
    "tags": []
   },
   "source": [
    "# Preprocessing"
   ]
  },
  {
   "cell_type": "code",
   "execution_count": 3,
   "id": "a1aa99d0",
   "metadata": {
    "execution": {
     "iopub.execute_input": "2022-06-10T15:10:17.963954Z",
     "iopub.status.busy": "2022-06-10T15:10:17.963583Z",
     "iopub.status.idle": "2022-06-10T15:10:17.972574Z",
     "shell.execute_reply": "2022-06-10T15:10:17.971464Z"
    },
    "papermill": {
     "duration": 0.027127,
     "end_time": "2022-06-10T15:10:17.974779",
     "exception": false,
     "start_time": "2022-06-10T15:10:17.947652",
     "status": "completed"
    },
    "tags": []
   },
   "outputs": [],
   "source": [
    "all_text=newdata[\"transcription_text\"]"
   ]
  },
  {
   "cell_type": "code",
   "execution_count": 4,
   "id": "4ab5b5b6",
   "metadata": {
    "execution": {
     "iopub.execute_input": "2022-06-10T15:10:18.006494Z",
     "iopub.status.busy": "2022-06-10T15:10:18.006053Z",
     "iopub.status.idle": "2022-06-10T15:10:18.017611Z",
     "shell.execute_reply": "2022-06-10T15:10:18.016637Z"
    },
    "papermill": {
     "duration": 0.029804,
     "end_time": "2022-06-10T15:10:18.019953",
     "exception": false,
     "start_time": "2022-06-10T15:10:17.990149",
     "status": "completed"
    },
    "tags": []
   },
   "outputs": [],
   "source": [
    "stop_words = set(stopwords.words('english'))\n",
    "punctuation = string.punctuation\n",
    "stemmer = SnowballStemmer(language=\"english\")\n",
    "lemmatizer = WordNetLemmatizer()"
   ]
  },
  {
   "cell_type": "code",
   "execution_count": 5,
   "id": "a07afc45",
   "metadata": {
    "execution": {
     "iopub.execute_input": "2022-06-10T15:10:18.051163Z",
     "iopub.status.busy": "2022-06-10T15:10:18.050783Z",
     "iopub.status.idle": "2022-06-10T15:10:18.059305Z",
     "shell.execute_reply": "2022-06-10T15:10:18.058216Z"
    },
    "papermill": {
     "duration": 0.027716,
     "end_time": "2022-06-10T15:10:18.062460",
     "exception": false,
     "start_time": "2022-06-10T15:10:18.034744",
     "status": "completed"
    },
    "tags": []
   },
   "outputs": [
    {
     "data": {
      "text/plain": [
       "'!\"#$%&\\'()*+,-./:;<=>?@[\\\\]^_`{|}~'"
      ]
     },
     "execution_count": 5,
     "metadata": {},
     "output_type": "execute_result"
    }
   ],
   "source": [
    "stop_words.remove(\"of\")\n",
    "punctuation"
   ]
  },
  {
   "cell_type": "code",
   "execution_count": 6,
   "id": "115033dd",
   "metadata": {
    "execution": {
     "iopub.execute_input": "2022-06-10T15:10:18.094573Z",
     "iopub.status.busy": "2022-06-10T15:10:18.094243Z",
     "iopub.status.idle": "2022-06-10T15:10:18.100169Z",
     "shell.execute_reply": "2022-06-10T15:10:18.099083Z"
    },
    "papermill": {
     "duration": 0.024403,
     "end_time": "2022-06-10T15:10:18.102400",
     "exception": false,
     "start_time": "2022-06-10T15:10:18.077997",
     "status": "completed"
    },
    "tags": []
   },
   "outputs": [],
   "source": [
    "def process(s):\n",
    "    s= re.sub(\"([\\(\\[]).*?([\\)\\]])\",\" \",s)\n",
    "    for p in punctuation:\n",
    "        s = s.replace(p, '')\n",
    "    s = word_tokenize(s)\n",
    "    s = [w for w in s if not w in stop_words] #optional\n",
    "    s = [lemmatizer.lemmatize(word) for word in s]\n",
    "    return s"
   ]
  },
  {
   "cell_type": "code",
   "execution_count": 7,
   "id": "a9f29aff",
   "metadata": {
    "execution": {
     "iopub.execute_input": "2022-06-10T15:10:18.134945Z",
     "iopub.status.busy": "2022-06-10T15:10:18.134105Z",
     "iopub.status.idle": "2022-06-10T15:10:25.634213Z",
     "shell.execute_reply": "2022-06-10T15:10:25.632972Z"
    },
    "papermill": {
     "duration": 7.518995,
     "end_time": "2022-06-10T15:10:25.636985",
     "exception": false,
     "start_time": "2022-06-10T15:10:18.117990",
     "status": "completed"
    },
    "tags": []
   },
   "outputs": [
    {
     "name": "stderr",
     "output_type": "stream",
     "text": [
      "100%|██████████| 2136/2136 [00:07<00:00, 285.23it/s]\n"
     ]
    }
   ],
   "source": [
    "for i in tqdm(range(newdata.shape[0])):\n",
    "    all_text[i] = process(all_text[i])"
   ]
  },
  {
   "cell_type": "code",
   "execution_count": 8,
   "id": "689a2a42",
   "metadata": {
    "execution": {
     "iopub.execute_input": "2022-06-10T15:10:25.677261Z",
     "iopub.status.busy": "2022-06-10T15:10:25.676912Z",
     "iopub.status.idle": "2022-06-10T15:10:26.692658Z",
     "shell.execute_reply": "2022-06-10T15:10:26.691399Z"
    },
    "papermill": {
     "duration": 1.037503,
     "end_time": "2022-06-10T15:10:26.695015",
     "exception": false,
     "start_time": "2022-06-10T15:10:25.657512",
     "status": "completed"
    },
    "tags": []
   },
   "outputs": [
    {
     "name": "stderr",
     "output_type": "stream",
     "text": [
      "100%|██████████| 2136/2136 [00:01<00:00, 2123.97it/s]\n"
     ]
    }
   ],
   "source": [
    "for i in tqdm(range(newdata.shape[0])):\n",
    "    all_text[i] = \" \".join(all_text[i])"
   ]
  },
  {
   "cell_type": "code",
   "execution_count": 9,
   "id": "170d52f7",
   "metadata": {
    "execution": {
     "iopub.execute_input": "2022-06-10T15:10:26.737409Z",
     "iopub.status.busy": "2022-06-10T15:10:26.736323Z",
     "iopub.status.idle": "2022-06-10T15:10:26.746925Z",
     "shell.execute_reply": "2022-06-10T15:10:26.745891Z"
    },
    "papermill": {
     "duration": 0.033751,
     "end_time": "2022-06-10T15:10:26.749324",
     "exception": false,
     "start_time": "2022-06-10T15:10:26.715573",
     "status": "completed"
    },
    "tags": []
   },
   "outputs": [
    {
     "data": {
      "text/plain": [
       "0       I I C Meekins of Currituck County State of Nor...\n",
       "1       Department of Virginia North Carolina 1864 tak...\n",
       "2       I W H Pearce of Craven County State of NorthCa...\n",
       "3       State of North Carolina County I solemnly swea...\n",
       "4       State of North Carolina Wake County I SE Allen...\n",
       "                              ...                        \n",
       "2131    Office Provost Marshal Raleigh NC May 26 65 Th...\n",
       "2132    July 30th 1867 Birnie Wm Agent Bu R F A L Oath...\n",
       "2133    State of North Carolina Robeson County I Willi...\n",
       "2134    NARA 449 102 We whose name written well person...\n",
       "2135    NARA 450 404 Office Provost Marshall City of W...\n",
       "Name: transcription_text, Length: 2136, dtype: object"
      ]
     },
     "execution_count": 9,
     "metadata": {},
     "output_type": "execute_result"
    }
   ],
   "source": [
    "all_text"
   ]
  },
  {
   "cell_type": "code",
   "execution_count": null,
   "id": "bf092baa",
   "metadata": {
    "papermill": {
     "duration": 0.019432,
     "end_time": "2022-06-10T15:10:26.788577",
     "exception": false,
     "start_time": "2022-06-10T15:10:26.769145",
     "status": "completed"
    },
    "tags": []
   },
   "outputs": [],
   "source": []
  },
  {
   "cell_type": "markdown",
   "id": "2ba9a20b",
   "metadata": {
    "papermill": {
     "duration": 0.019826,
     "end_time": "2022-06-10T15:10:26.828599",
     "exception": false,
     "start_time": "2022-06-10T15:10:26.808773",
     "status": "completed"
    },
    "tags": []
   },
   "source": [
    "# Flair"
   ]
  },
  {
   "cell_type": "code",
   "execution_count": 10,
   "id": "83704660",
   "metadata": {
    "execution": {
     "iopub.execute_input": "2022-06-10T15:10:26.871001Z",
     "iopub.status.busy": "2022-06-10T15:10:26.869064Z",
     "iopub.status.idle": "2022-06-10T15:11:46.623164Z",
     "shell.execute_reply": "2022-06-10T15:11:46.621913Z"
    },
    "papermill": {
     "duration": 79.778035,
     "end_time": "2022-06-10T15:11:46.626257",
     "exception": false,
     "start_time": "2022-06-10T15:10:26.848222",
     "status": "completed"
    },
    "tags": []
   },
   "outputs": [
    {
     "name": "stdout",
     "output_type": "stream",
     "text": [
      "Requirement already satisfied: Cython in /opt/conda/lib/python3.7/site-packages (0.29.30)\r\n",
      "\u001b[33mWARNING: Running pip as the 'root' user can result in broken permissions and conflicting behaviour with the system package manager. It is recommended to use a virtual environment instead: https://pip.pypa.io/warnings/venv\u001b[0m\u001b[33m\r\n",
      "\u001b[0mRequirement already satisfied: transformers in /opt/conda/lib/python3.7/site-packages (4.18.0)\r\n",
      "Requirement already satisfied: sacremoses in /opt/conda/lib/python3.7/site-packages (from transformers) (0.0.53)\r\n",
      "Requirement already satisfied: tokenizers!=0.11.3,<0.13,>=0.11.1 in /opt/conda/lib/python3.7/site-packages (from transformers) (0.12.1)\r\n",
      "Requirement already satisfied: pyyaml>=5.1 in /opt/conda/lib/python3.7/site-packages (from transformers) (6.0)\r\n",
      "Requirement already satisfied: packaging>=20.0 in /opt/conda/lib/python3.7/site-packages (from transformers) (21.3)\r\n",
      "Requirement already satisfied: importlib-metadata in /opt/conda/lib/python3.7/site-packages (from transformers) (4.11.4)\r\n",
      "Requirement already satisfied: requests in /opt/conda/lib/python3.7/site-packages (from transformers) (2.27.1)\r\n",
      "Requirement already satisfied: regex!=2019.12.17 in /opt/conda/lib/python3.7/site-packages (from transformers) (2021.11.10)\r\n",
      "Requirement already satisfied: numpy>=1.17 in /opt/conda/lib/python3.7/site-packages (from transformers) (1.21.6)\r\n",
      "Requirement already satisfied: huggingface-hub<1.0,>=0.1.0 in /opt/conda/lib/python3.7/site-packages (from transformers) (0.5.1)\r\n",
      "Requirement already satisfied: filelock in /opt/conda/lib/python3.7/site-packages (from transformers) (3.6.0)\r\n",
      "Requirement already satisfied: tqdm>=4.27 in /opt/conda/lib/python3.7/site-packages (from transformers) (4.64.0)\r\n",
      "Requirement already satisfied: typing-extensions>=3.7.4.3 in /opt/conda/lib/python3.7/site-packages (from huggingface-hub<1.0,>=0.1.0->transformers) (4.2.0)\r\n",
      "Requirement already satisfied: pyparsing!=3.0.5,>=2.0.2 in /opt/conda/lib/python3.7/site-packages (from packaging>=20.0->transformers) (3.0.9)\r\n",
      "Requirement already satisfied: zipp>=0.5 in /opt/conda/lib/python3.7/site-packages (from importlib-metadata->transformers) (3.8.0)\r\n",
      "Requirement already satisfied: charset-normalizer~=2.0.0 in /opt/conda/lib/python3.7/site-packages (from requests->transformers) (2.0.12)\r\n",
      "Requirement already satisfied: urllib3<1.27,>=1.21.1 in /opt/conda/lib/python3.7/site-packages (from requests->transformers) (1.26.9)\r\n",
      "Requirement already satisfied: certifi>=2017.4.17 in /opt/conda/lib/python3.7/site-packages (from requests->transformers) (2022.5.18.1)\r\n",
      "Requirement already satisfied: idna<4,>=2.5 in /opt/conda/lib/python3.7/site-packages (from requests->transformers) (3.3)\r\n",
      "Requirement already satisfied: click in /opt/conda/lib/python3.7/site-packages (from sacremoses->transformers) (8.0.4)\r\n",
      "Requirement already satisfied: joblib in /opt/conda/lib/python3.7/site-packages (from sacremoses->transformers) (1.1.0)\r\n",
      "Requirement already satisfied: six in /opt/conda/lib/python3.7/site-packages (from sacremoses->transformers) (1.16.0)\r\n",
      "\u001b[33mWARNING: Running pip as the 'root' user can result in broken permissions and conflicting behaviour with the system package manager. It is recommended to use a virtual environment instead: https://pip.pypa.io/warnings/venv\u001b[0m\u001b[33m\r\n",
      "\u001b[0mCollecting flair\r\n",
      "  Downloading flair-0.11.3-py3-none-any.whl (401 kB)\r\n",
      "\u001b[2K     \u001b[90m━━━━━━━━━━━━━━━━━━━━━━━━━━━━━━━━━━━━━━━\u001b[0m \u001b[32m401.9/401.9 kB\u001b[0m \u001b[31m1.2 MB/s\u001b[0m eta \u001b[36m0:00:00\u001b[0m\r\n",
      "\u001b[?25hRequirement already satisfied: tabulate in /opt/conda/lib/python3.7/site-packages (from flair) (0.8.9)\r\n",
      "Requirement already satisfied: scikit-learn>=0.21.3 in /opt/conda/lib/python3.7/site-packages (from flair) (1.0.2)\r\n",
      "Collecting konoha<5.0.0,>=4.0.0\r\n",
      "  Downloading konoha-4.6.5-py3-none-any.whl (20 kB)\r\n",
      "Collecting sqlitedict>=1.6.0\r\n",
      "  Downloading sqlitedict-2.0.0.tar.gz (46 kB)\r\n",
      "\u001b[2K     \u001b[90m━━━━━━━━━━━━━━━━━━━━━━━━━━━━━━━━━━━━━━━━\u001b[0m \u001b[32m46.3/46.3 kB\u001b[0m \u001b[31m3.5 MB/s\u001b[0m eta \u001b[36m0:00:00\u001b[0m\r\n",
      "\u001b[?25h  Preparing metadata (setup.py) ... \u001b[?25l-\b \bdone\r\n",
      "\u001b[?25hRequirement already satisfied: huggingface-hub in /opt/conda/lib/python3.7/site-packages (from flair) (0.5.1)\r\n",
      "Collecting deprecated>=1.2.4\r\n",
      "  Downloading Deprecated-1.2.13-py2.py3-none-any.whl (9.6 kB)\r\n",
      "Requirement already satisfied: python-dateutil>=2.6.1 in /opt/conda/lib/python3.7/site-packages (from flair) (2.8.2)\r\n",
      "Collecting conllu>=4.0\r\n",
      "  Downloading conllu-4.4.2-py2.py3-none-any.whl (15 kB)\r\n",
      "Collecting mpld3==0.3\r\n",
      "  Downloading mpld3-0.3.tar.gz (788 kB)\r\n",
      "\u001b[2K     \u001b[90m━━━━━━━━━━━━━━━━━━━━━━━━━━━━━━━━━━━━━━━\u001b[0m \u001b[32m788.5/788.5 kB\u001b[0m \u001b[31m5.2 MB/s\u001b[0m eta \u001b[36m0:00:00\u001b[0m\r\n",
      "\u001b[?25h  Preparing metadata (setup.py) ... \u001b[?25l-\b \bdone\r\n",
      "\u001b[?25hRequirement already satisfied: torch!=1.8,>=1.5.0 in /opt/conda/lib/python3.7/site-packages (from flair) (1.11.0)\r\n",
      "Collecting pptree\r\n",
      "  Downloading pptree-3.1.tar.gz (3.0 kB)\r\n",
      "  Preparing metadata (setup.py) ... \u001b[?25l-\b \bdone\r\n",
      "\u001b[?25hRequirement already satisfied: transformers>=4.0.0 in /opt/conda/lib/python3.7/site-packages (from flair) (4.18.0)\r\n",
      "Collecting wikipedia-api\r\n",
      "  Downloading Wikipedia-API-0.5.4.tar.gz (18 kB)\r\n",
      "  Preparing metadata (setup.py) ... \u001b[?25l-\b \bdone\r\n",
      "\u001b[?25hRequirement already satisfied: regex in /opt/conda/lib/python3.7/site-packages (from flair) (2021.11.10)\r\n",
      "Requirement already satisfied: hyperopt>=0.2.7 in /opt/conda/lib/python3.7/site-packages (from flair) (0.2.7)\r\n",
      "Requirement already satisfied: more-itertools in /opt/conda/lib/python3.7/site-packages (from flair) (8.13.0)\r\n",
      "Collecting ftfy\r\n",
      "  Downloading ftfy-6.1.1-py3-none-any.whl (53 kB)\r\n",
      "\u001b[2K     \u001b[90m━━━━━━━━━━━━━━━━━━━━━━━━━━━━━━━━━━━━━━━━\u001b[0m \u001b[32m53.1/53.1 kB\u001b[0m \u001b[31m4.6 MB/s\u001b[0m eta \u001b[36m0:00:00\u001b[0m\r\n",
      "\u001b[?25hRequirement already satisfied: janome in /opt/conda/lib/python3.7/site-packages (from flair) (0.4.2)\r\n",
      "Collecting sentencepiece==0.1.95\r\n",
      "  Downloading sentencepiece-0.1.95-cp37-cp37m-manylinux2014_x86_64.whl (1.2 MB)\r\n",
      "\u001b[2K     \u001b[90m━━━━━━━━━━━━━━━━━━━━━━━━━━━━━━━━━━━━━━━━\u001b[0m \u001b[32m1.2/1.2 MB\u001b[0m \u001b[31m10.6 MB/s\u001b[0m eta \u001b[36m0:00:00\u001b[0m\r\n",
      "\u001b[?25hRequirement already satisfied: tqdm>=4.26.0 in /opt/conda/lib/python3.7/site-packages (from flair) (4.64.0)\r\n",
      "Collecting gdown==4.4.0\r\n",
      "  Downloading gdown-4.4.0.tar.gz (14 kB)\r\n",
      "  Installing build dependencies ... \u001b[?25l-\b \b\\\b \b|\b \b/\b \b-\b \b\\\b \bdone\r\n",
      "\u001b[?25h  Getting requirements to build wheel ... \u001b[?25l-\b \b\\\b \b|\b \b/\b \b-\b \bdone\r\n",
      "\u001b[?25h  Preparing metadata (pyproject.toml) ... \u001b[?25l-\b \b\\\b \b|\b \b/\b \b-\b \b\\\b \b|\b \b/\b \bdone\r\n",
      "\u001b[?25hCollecting segtok>=1.5.7\r\n",
      "  Downloading segtok-1.5.11-py3-none-any.whl (24 kB)\r\n",
      "Requirement already satisfied: gensim>=3.4.0 in /opt/conda/lib/python3.7/site-packages (from flair) (4.0.1)\r\n",
      "Collecting langdetect\r\n",
      "  Downloading langdetect-1.0.9.tar.gz (981 kB)\r\n",
      "\u001b[2K     \u001b[90m━━━━━━━━━━━━━━━━━━━━━━━━━━━━━━━━━━━━━━\u001b[0m \u001b[32m981.5/981.5 kB\u001b[0m \u001b[31m32.3 MB/s\u001b[0m eta \u001b[36m0:00:00\u001b[0m\r\n",
      "\u001b[?25h  Preparing metadata (setup.py) ... \u001b[?25l-\b \bdone\r\n",
      "\u001b[?25hCollecting bpemb>=0.3.2\r\n",
      "  Downloading bpemb-0.3.3-py3-none-any.whl (19 kB)\r\n",
      "Requirement already satisfied: matplotlib>=2.2.3 in /opt/conda/lib/python3.7/site-packages (from flair) (3.5.2)\r\n",
      "Requirement already satisfied: lxml in /opt/conda/lib/python3.7/site-packages (from flair) (4.8.0)\r\n",
      "Requirement already satisfied: filelock in /opt/conda/lib/python3.7/site-packages (from gdown==4.4.0->flair) (3.6.0)\r\n",
      "Requirement already satisfied: requests[socks] in /opt/conda/lib/python3.7/site-packages (from gdown==4.4.0->flair) (2.27.1)\r\n",
      "Requirement already satisfied: beautifulsoup4 in /opt/conda/lib/python3.7/site-packages (from gdown==4.4.0->flair) (4.11.1)\r\n",
      "Requirement already satisfied: six in /opt/conda/lib/python3.7/site-packages (from gdown==4.4.0->flair) (1.16.0)\r\n",
      "Requirement already satisfied: numpy in /opt/conda/lib/python3.7/site-packages (from bpemb>=0.3.2->flair) (1.21.6)\r\n",
      "Requirement already satisfied: wrapt<2,>=1.10 in /opt/conda/lib/python3.7/site-packages (from deprecated>=1.2.4->flair) (1.14.1)\r\n",
      "Requirement already satisfied: scipy>=0.18.1 in /opt/conda/lib/python3.7/site-packages (from gensim>=3.4.0->flair) (1.7.3)\r\n",
      "Requirement already satisfied: smart-open>=1.8.1 in /opt/conda/lib/python3.7/site-packages (from gensim>=3.4.0->flair) (5.2.1)\r\n",
      "Requirement already satisfied: future in /opt/conda/lib/python3.7/site-packages (from hyperopt>=0.2.7->flair) (0.18.2)\r\n",
      "Requirement already satisfied: py4j in /opt/conda/lib/python3.7/site-packages (from hyperopt>=0.2.7->flair) (0.10.9.5)\r\n",
      "Requirement already satisfied: cloudpickle in /opt/conda/lib/python3.7/site-packages (from hyperopt>=0.2.7->flair) (2.0.0)\r\n",
      "Requirement already satisfied: networkx>=2.2 in /opt/conda/lib/python3.7/site-packages (from hyperopt>=0.2.7->flair) (2.5)\r\n",
      "Collecting importlib-metadata<4.0.0,>=3.7.0\r\n",
      "  Downloading importlib_metadata-3.10.1-py3-none-any.whl (14 kB)\r\n",
      "Collecting overrides<4.0.0,>=3.0.0\r\n",
      "  Downloading overrides-3.1.0.tar.gz (11 kB)\r\n",
      "  Preparing metadata (setup.py) ... \u001b[?25l-\b \bdone\r\n",
      "\u001b[?25hRequirement already satisfied: pyparsing>=2.2.1 in /opt/conda/lib/python3.7/site-packages (from matplotlib>=2.2.3->flair) (3.0.9)\r\n",
      "Requirement already satisfied: fonttools>=4.22.0 in /opt/conda/lib/python3.7/site-packages (from matplotlib>=2.2.3->flair) (4.33.3)\r\n",
      "Requirement already satisfied: pillow>=6.2.0 in /opt/conda/lib/python3.7/site-packages (from matplotlib>=2.2.3->flair) (9.1.0)\r\n",
      "Requirement already satisfied: kiwisolver>=1.0.1 in /opt/conda/lib/python3.7/site-packages (from matplotlib>=2.2.3->flair) (1.4.2)\r\n",
      "Requirement already satisfied: cycler>=0.10 in /opt/conda/lib/python3.7/site-packages (from matplotlib>=2.2.3->flair) (0.11.0)\r\n",
      "Requirement already satisfied: packaging>=20.0 in /opt/conda/lib/python3.7/site-packages (from matplotlib>=2.2.3->flair) (21.3)\r\n",
      "Requirement already satisfied: joblib>=0.11 in /opt/conda/lib/python3.7/site-packages (from scikit-learn>=0.21.3->flair) (1.1.0)\r\n",
      "Requirement already satisfied: threadpoolctl>=2.0.0 in /opt/conda/lib/python3.7/site-packages (from scikit-learn>=0.21.3->flair) (3.1.0)\r\n",
      "Requirement already satisfied: typing-extensions in /opt/conda/lib/python3.7/site-packages (from torch!=1.8,>=1.5.0->flair) (4.2.0)\r\n",
      "Requirement already satisfied: sacremoses in /opt/conda/lib/python3.7/site-packages (from transformers>=4.0.0->flair) (0.0.53)\r\n",
      "Requirement already satisfied: tokenizers!=0.11.3,<0.13,>=0.11.1 in /opt/conda/lib/python3.7/site-packages (from transformers>=4.0.0->flair) (0.12.1)\r\n",
      "Requirement already satisfied: pyyaml>=5.1 in /opt/conda/lib/python3.7/site-packages (from transformers>=4.0.0->flair) (6.0)\r\n",
      "Requirement already satisfied: wcwidth>=0.2.5 in /opt/conda/lib/python3.7/site-packages (from ftfy->flair) (0.2.5)\r\n",
      "Requirement already satisfied: zipp>=0.5 in /opt/conda/lib/python3.7/site-packages (from importlib-metadata<4.0.0,>=3.7.0->konoha<5.0.0,>=4.0.0->flair) (3.8.0)\r\n",
      "Requirement already satisfied: decorator>=4.3.0 in /opt/conda/lib/python3.7/site-packages (from networkx>=2.2->hyperopt>=0.2.7->flair) (5.1.1)\r\n",
      "Requirement already satisfied: certifi>=2017.4.17 in /opt/conda/lib/python3.7/site-packages (from requests[socks]->gdown==4.4.0->flair) (2022.5.18.1)\r\n",
      "Requirement already satisfied: urllib3<1.27,>=1.21.1 in /opt/conda/lib/python3.7/site-packages (from requests[socks]->gdown==4.4.0->flair) (1.26.9)\r\n",
      "Requirement already satisfied: charset-normalizer~=2.0.0 in /opt/conda/lib/python3.7/site-packages (from requests[socks]->gdown==4.4.0->flair) (2.0.12)\r\n",
      "Requirement already satisfied: idna<4,>=2.5 in /opt/conda/lib/python3.7/site-packages (from requests[socks]->gdown==4.4.0->flair) (3.3)\r\n",
      "Requirement already satisfied: soupsieve>1.2 in /opt/conda/lib/python3.7/site-packages (from beautifulsoup4->gdown==4.4.0->flair) (2.3.1)\r\n",
      "Requirement already satisfied: PySocks!=1.5.7,>=1.5.6 in /opt/conda/lib/python3.7/site-packages (from requests[socks]->gdown==4.4.0->flair) (1.7.1)\r\n",
      "Requirement already satisfied: click in /opt/conda/lib/python3.7/site-packages (from sacremoses->transformers>=4.0.0->flair) (8.0.4)\r\n",
      "Building wheels for collected packages: gdown, mpld3, sqlitedict, langdetect, pptree, wikipedia-api, overrides\r\n",
      "  Building wheel for gdown (pyproject.toml) ... \u001b[?25l-\b \b\\\b \b|\b \b/\b \b-\b \b\\\b \b|\b \b/\b \b-\b \bdone\r\n",
      "\u001b[?25h  Created wheel for gdown: filename=gdown-4.4.0-py3-none-any.whl size=14759 sha256=f8cf17b14b396d5a906f1c27b8a431a4ca7925b1fad3aaa9c973010a714153df\r\n",
      "  Stored in directory: /root/.cache/pip/wheels/fb/c3/0e/c4d8ff8bfcb0461afff199471449f642179b74968c15b7a69c\r\n",
      "  Building wheel for mpld3 (setup.py) ... \u001b[?25l-\b \b\\\b \bdone\r\n",
      "\u001b[?25h  Created wheel for mpld3: filename=mpld3-0.3-py3-none-any.whl size=116702 sha256=8cc5185a8cfb39375007f1858c0ef25c7dd7cecc29a91012e641f281c58d2d5c\r\n",
      "  Stored in directory: /root/.cache/pip/wheels/26/70/6a/1c79e59951a41b4045497da187b2724f5659ca64033cf4548e\r\n",
      "  Building wheel for sqlitedict (setup.py) ... \u001b[?25l-\b \bdone\r\n",
      "\u001b[?25h  Created wheel for sqlitedict: filename=sqlitedict-2.0.0-py3-none-any.whl size=15736 sha256=32b2cd1a9aa743e81c8734cef37d686be0b500826c4099463e2531ed6729e387\r\n",
      "  Stored in directory: /root/.cache/pip/wheels/96/dd/2e/0ed4a25cb73fc30c7ea8d10b50acb7226175736067e40a7ea3\r\n",
      "  Building wheel for langdetect (setup.py) ... \u001b[?25l-\b \b\\\b \b|\b \b/\b \bdone\r\n",
      "\u001b[?25h  Created wheel for langdetect: filename=langdetect-1.0.9-py3-none-any.whl size=993242 sha256=5fad423099bdb08f9296c5413f4c3d7c2624c8b6221beadd4d59010687da8f68\r\n",
      "  Stored in directory: /root/.cache/pip/wheels/c5/96/8a/f90c59ed25d75e50a8c10a1b1c2d4c402e4dacfa87f3aff36a\r\n",
      "  Building wheel for pptree (setup.py) ... \u001b[?25l-\b \b\\\b \bdone\r\n",
      "\u001b[?25h  Created wheel for pptree: filename=pptree-3.1-py3-none-any.whl size=4629 sha256=bbdeea129b26ea4622b5c217f2f95bd6367aa811edc330d5104f9576fcaa199d\r\n",
      "  Stored in directory: /root/.cache/pip/wheels/9e/e8/7d/a9c3c19b4722608a0d8b05a38c36bc3f230c43becd2a46794b\r\n",
      "  Building wheel for wikipedia-api (setup.py) ... \u001b[?25l-\b \b\\\b \bdone\r\n",
      "\u001b[?25h  Created wheel for wikipedia-api: filename=Wikipedia_API-0.5.4-py3-none-any.whl size=13477 sha256=ac3230b0bbb5b8c4198a8cc8fd9f4cbd53e9b8ddf39c2f22c9bf7a62d84bc50a\r\n",
      "  Stored in directory: /root/.cache/pip/wheels/d3/24/56/58ba93cf78be162451144e7a9889603f437976ef1ae7013d04\r\n",
      "  Building wheel for overrides (setup.py) ... \u001b[?25l-\b \b\\\b \bdone\r\n",
      "\u001b[?25h  Created wheel for overrides: filename=overrides-3.1.0-py3-none-any.whl size=10187 sha256=8df9ac788cd2c562fcc476e6a2f34efdd952671255d043a7df6bfb4b7f1e0724\r\n",
      "  Stored in directory: /root/.cache/pip/wheels/3a/0d/38/01a9bc6e20dcfaf0a6a7b552d03137558ba1c38aea47644682\r\n",
      "Successfully built gdown mpld3 sqlitedict langdetect pptree wikipedia-api overrides\r\n",
      "Installing collected packages: sqlitedict, sentencepiece, pptree, overrides, mpld3, segtok, langdetect, importlib-metadata, ftfy, deprecated, conllu, wikipedia-api, konoha, gdown, bpemb, flair\r\n",
      "  Attempting uninstall: sentencepiece\r\n",
      "    Found existing installation: sentencepiece 0.1.96\r\n",
      "    Uninstalling sentencepiece-0.1.96:\r\n",
      "      Successfully uninstalled sentencepiece-0.1.96\r\n",
      "  Attempting uninstall: overrides\r\n",
      "    Found existing installation: overrides 6.1.0\r\n",
      "    Uninstalling overrides-6.1.0:\r\n",
      "      Successfully uninstalled overrides-6.1.0\r\n",
      "  Attempting uninstall: mpld3\r\n",
      "    Found existing installation: mpld3 0.5.7\r\n",
      "    Uninstalling mpld3-0.5.7:\r\n",
      "      Successfully uninstalled mpld3-0.5.7\r\n",
      "  Attempting uninstall: importlib-metadata\r\n",
      "    Found existing installation: importlib-metadata 4.11.4\r\n",
      "    Uninstalling importlib-metadata-4.11.4:\r\n",
      "      Successfully uninstalled importlib-metadata-4.11.4\r\n",
      "\u001b[31mERROR: pip's dependency resolver does not currently take into account all the packages that are installed. This behaviour is the source of the following dependency conflicts.\r\n",
      "markdown 3.3.7 requires importlib-metadata>=4.4; python_version < \"3.10\", but you have importlib-metadata 3.10.1 which is incompatible.\r\n",
      "ibis-framework 2.1.1 requires importlib-metadata<5,>=4; python_version < \"3.8\", but you have importlib-metadata 3.10.1 which is incompatible.\r\n",
      "gym 0.23.1 requires importlib-metadata>=4.10.0; python_version < \"3.10\", but you have importlib-metadata 3.10.1 which is incompatible.\r\n",
      "google-cloud-pubsublite 1.4.2 requires overrides<7.0.0,>=6.0.1, but you have overrides 3.1.0 which is incompatible.\u001b[0m\u001b[31m\r\n",
      "\u001b[0mSuccessfully installed bpemb-0.3.3 conllu-4.4.2 deprecated-1.2.13 flair-0.11.3 ftfy-6.1.1 gdown-4.4.0 importlib-metadata-3.10.1 konoha-4.6.5 langdetect-1.0.9 mpld3-0.3 overrides-3.1.0 pptree-3.1 segtok-1.5.11 sentencepiece-0.1.95 sqlitedict-2.0.0 wikipedia-api-0.5.4\r\n",
      "\u001b[33mWARNING: Running pip as the 'root' user can result in broken permissions and conflicting behaviour with the system package manager. It is recommended to use a virtual environment instead: https://pip.pypa.io/warnings/venv\u001b[0m\u001b[33m\r\n",
      "\u001b[0m"
     ]
    }
   ],
   "source": [
    "!pip3 install Cython\n",
    "!pip install transformers\n",
    "!pip install flair"
   ]
  },
  {
   "cell_type": "markdown",
   "id": "542ae9fd",
   "metadata": {
    "papermill": {
     "duration": 0.029395,
     "end_time": "2022-06-10T15:11:46.686588",
     "exception": false,
     "start_time": "2022-06-10T15:11:46.657193",
     "status": "completed"
    },
    "tags": []
   },
   "source": [
    "# Hugging face  : Flair"
   ]
  },
  {
   "cell_type": "markdown",
   "id": "cba54da2",
   "metadata": {
    "papermill": {
     "duration": 0.029321,
     "end_time": "2022-06-10T15:11:46.745283",
     "exception": false,
     "start_time": "2022-06-10T15:11:46.715962",
     "status": "completed"
    },
    "tags": []
   },
   "source": [
    "**ner-english** "
   ]
  },
  {
   "cell_type": "code",
   "execution_count": 11,
   "id": "763efe32",
   "metadata": {
    "execution": {
     "iopub.execute_input": "2022-06-10T15:11:46.808172Z",
     "iopub.status.busy": "2022-06-10T15:11:46.806217Z",
     "iopub.status.idle": "2022-06-10T15:11:49.439446Z",
     "shell.execute_reply": "2022-06-10T15:11:49.438036Z"
    },
    "papermill": {
     "duration": 2.667029,
     "end_time": "2022-06-10T15:11:49.441930",
     "exception": false,
     "start_time": "2022-06-10T15:11:46.774901",
     "status": "completed"
    },
    "tags": []
   },
   "outputs": [
    {
     "name": "stdout",
     "output_type": "stream",
     "text": [
      "git: 'lfs' is not a git command. See 'git --help'.\r\n",
      "\r\n",
      "The most similar command is\r\n",
      "\tlog\r\n",
      "Cloning into 'ner-english-large'...\r\n",
      "remote: Enumerating objects: 25, done.\u001b[K\r\n",
      "remote: Counting objects: 100% (25/25), done.\u001b[K\r\n",
      "remote: Compressing objects: 100% (24/24), done.\u001b[K\r\n",
      "remote: Total 25 (delta 10), reused 0 (delta 0), pack-reused 0\r\n",
      "Unpacking objects: 100% (25/25), 11.03 KiB | 1.00 MiB/s, done.\r\n"
     ]
    }
   ],
   "source": [
    "!git lfs install\n",
    "!git clone https://huggingface.co/flair/ner-english-large"
   ]
  },
  {
   "cell_type": "code",
   "execution_count": 12,
   "id": "eb387fe1",
   "metadata": {
    "execution": {
     "iopub.execute_input": "2022-06-10T15:11:49.504251Z",
     "iopub.status.busy": "2022-06-10T15:11:49.503041Z",
     "iopub.status.idle": "2022-06-10T15:13:40.454120Z",
     "shell.execute_reply": "2022-06-10T15:13:40.453014Z"
    },
    "papermill": {
     "duration": 110.984695,
     "end_time": "2022-06-10T15:13:40.456983",
     "exception": false,
     "start_time": "2022-06-10T15:11:49.472288",
     "status": "completed"
    },
    "tags": []
   },
   "outputs": [
    {
     "data": {
      "application/vnd.jupyter.widget-view+json": {
       "model_id": "ca75fb1dff694d45bbcbd2af62c5427e",
       "version_major": 2,
       "version_minor": 0
      },
      "text/plain": [
       "Downloading:   0%|          | 0.00/2.24G [00:00<?, ?B/s]"
      ]
     },
     "metadata": {},
     "output_type": "display_data"
    },
    {
     "name": "stdout",
     "output_type": "stream",
     "text": [
      "2022-06-10 15:13:10,046 loading file /root/.flair/models/ner-english-ontonotes-large/2da6c2cdd76e59113033adf670340bfd820f0301ae2e39204d67ba2dc276cc28.ec1bdb304b6c66111532c3b1fc6e522460ae73f1901848a4d0362cdf9760edb1\n"
     ]
    },
    {
     "data": {
      "application/vnd.jupyter.widget-view+json": {
       "model_id": "dea1fcf9b38246fca0473f1a1ab2cf93",
       "version_major": 2,
       "version_minor": 0
      },
      "text/plain": [
       "Downloading:   0%|          | 0.00/616 [00:00<?, ?B/s]"
      ]
     },
     "metadata": {},
     "output_type": "display_data"
    },
    {
     "data": {
      "application/vnd.jupyter.widget-view+json": {
       "model_id": "e4088560971445d28597663a0c9751be",
       "version_major": 2,
       "version_minor": 0
      },
      "text/plain": [
       "Downloading:   0%|          | 0.00/4.83M [00:00<?, ?B/s]"
      ]
     },
     "metadata": {},
     "output_type": "display_data"
    },
    {
     "data": {
      "application/vnd.jupyter.widget-view+json": {
       "model_id": "277500dc83e6433dbace2403788a6219",
       "version_major": 2,
       "version_minor": 0
      },
      "text/plain": [
       "Downloading:   0%|          | 0.00/8.68M [00:00<?, ?B/s]"
      ]
     },
     "metadata": {},
     "output_type": "display_data"
    },
    {
     "name": "stdout",
     "output_type": "stream",
     "text": [
      "2022-06-10 15:13:39,969 SequenceTagger predicts: Dictionary with 76 tags: <unk>, O, B-CARDINAL, E-CARDINAL, S-PERSON, S-CARDINAL, S-PRODUCT, B-PRODUCT, I-PRODUCT, E-PRODUCT, B-WORK_OF_ART, I-WORK_OF_ART, E-WORK_OF_ART, B-PERSON, E-PERSON, S-GPE, B-DATE, I-DATE, E-DATE, S-ORDINAL, S-LANGUAGE, I-PERSON, S-EVENT, S-DATE, B-QUANTITY, E-QUANTITY, S-TIME, B-TIME, I-TIME, E-TIME, B-GPE, E-GPE, S-ORG, I-GPE, S-NORP, B-FAC, I-FAC, E-FAC, B-NORP, E-NORP, S-PERCENT, B-ORG, E-ORG, B-LANGUAGE, E-LANGUAGE, I-CARDINAL, I-ORG, S-WORK_OF_ART, I-QUANTITY, B-MONEY\n"
     ]
    }
   ],
   "source": [
    "from flair.models import SequenceTagger\n",
    "\n",
    "tagger = SequenceTagger.load(\"flair/ner-english-ontonotes-large\")"
   ]
  },
  {
   "cell_type": "code",
   "execution_count": 13,
   "id": "8ce55141",
   "metadata": {
    "execution": {
     "iopub.execute_input": "2022-06-10T15:13:40.520030Z",
     "iopub.status.busy": "2022-06-10T15:13:40.519689Z",
     "iopub.status.idle": "2022-06-10T15:13:58.266397Z",
     "shell.execute_reply": "2022-06-10T15:13:58.265229Z"
    },
    "papermill": {
     "duration": 17.780961,
     "end_time": "2022-06-10T15:13:58.269228",
     "exception": false,
     "start_time": "2022-06-10T15:13:40.488267",
     "status": "completed"
    },
    "tags": []
   },
   "outputs": [
    {
     "data": {
      "application/vnd.jupyter.widget-view+json": {
       "model_id": "81e75fc9d7da43718060d6f044ba93cc",
       "version_major": 2,
       "version_minor": 0
      },
      "text/plain": [
       "Downloading:   0%|          | 0.00/432M [00:00<?, ?B/s]"
      ]
     },
     "metadata": {},
     "output_type": "display_data"
    },
    {
     "name": "stdout",
     "output_type": "stream",
     "text": [
      "2022-06-10 15:13:55,037 loading file /root/.flair/models/ner-english/4f4cdab26f24cb98b732b389e6cebc646c36f54cfd6e0b7d3b90b25656e4262f.8baa8ae8795f4df80b28e7f7b61d788ecbb057d1dc85aacb316f1bd02837a4a4\n",
      "2022-06-10 15:13:57,058 SequenceTagger predicts: Dictionary with 20 tags: <unk>, O, S-ORG, S-MISC, B-PER, E-PER, S-LOC, B-ORG, E-ORG, I-PER, S-PER, B-MISC, I-MISC, E-MISC, I-ORG, B-LOC, E-LOC, I-LOC, <START>, <STOP>\n"
     ]
    }
   ],
   "source": [
    "from flair.models import SequenceTagger\n",
    "\n",
    "tagger1 = SequenceTagger.load(\"flair/ner-english\")"
   ]
  },
  {
   "cell_type": "code",
   "execution_count": 14,
   "id": "6d2297d9",
   "metadata": {
    "execution": {
     "iopub.execute_input": "2022-06-10T15:13:58.335700Z",
     "iopub.status.busy": "2022-06-10T15:13:58.335361Z",
     "iopub.status.idle": "2022-06-10T15:15:36.051928Z",
     "shell.execute_reply": "2022-06-10T15:15:36.050753Z"
    },
    "papermill": {
     "duration": 97.753715,
     "end_time": "2022-06-10T15:15:36.054962",
     "exception": false,
     "start_time": "2022-06-10T15:13:58.301247",
     "status": "completed"
    },
    "tags": []
   },
   "outputs": [
    {
     "data": {
      "application/vnd.jupyter.widget-view+json": {
       "model_id": "8faa031392424e488cdeab8a0379ea3c",
       "version_major": 2,
       "version_minor": 0
      },
      "text/plain": [
       "Downloading:   0%|          | 0.00/2.24G [00:00<?, ?B/s]"
      ]
     },
     "metadata": {},
     "output_type": "display_data"
    },
    {
     "name": "stdout",
     "output_type": "stream",
     "text": [
      "2022-06-10 15:15:16,253 loading file /root/.flair/models/ner-english-large/07301f59bb8cb113803be316267f06ddf9243cdbba92a4c8067ef92442d2c574.554244d3476d97501a766a98078421817b14654496b86f2f7bd139dc502a4f29\n",
      "2022-06-10 15:15:35,548 SequenceTagger predicts: Dictionary with 20 tags: <unk>, O, S-ORG, S-MISC, B-PER, E-PER, S-LOC, B-ORG, E-ORG, I-PER, S-PER, B-MISC, I-MISC, E-MISC, I-ORG, B-LOC, E-LOC, I-LOC, <START>, <STOP>\n"
     ]
    }
   ],
   "source": [
    "from flair.models import SequenceTagger\n",
    "\n",
    "tagger2 = SequenceTagger.load(\"flair/ner-english-large\")"
   ]
  },
  {
   "cell_type": "markdown",
   "id": "a16d1cc9",
   "metadata": {
    "papermill": {
     "duration": 0.031231,
     "end_time": "2022-06-10T15:15:36.118150",
     "exception": false,
     "start_time": "2022-06-10T15:15:36.086919",
     "status": "completed"
    },
    "tags": []
   },
   "source": [
    "tagger3 nerenglishlarge"
   ]
  },
  {
   "cell_type": "code",
   "execution_count": 15,
   "id": "d0fcbddb",
   "metadata": {
    "execution": {
     "iopub.execute_input": "2022-06-10T15:15:36.182325Z",
     "iopub.status.busy": "2022-06-10T15:15:36.181948Z",
     "iopub.status.idle": "2022-06-10T15:17:46.322074Z",
     "shell.execute_reply": "2022-06-10T15:17:46.319566Z"
    },
    "papermill": {
     "duration": 130.176529,
     "end_time": "2022-06-10T15:17:46.325950",
     "exception": false,
     "start_time": "2022-06-10T15:15:36.149421",
     "status": "completed"
    },
    "tags": []
   },
   "outputs": [],
   "source": [
    "listenglarge=[]\n",
    "label=[]\n",
    "Per=[]\n",
    "ORG=[]\n",
    "LOC=[]\n",
    "from flair.data import Sentence\n",
    "\n",
    "dflarge=pd.DataFrame({\"text\":\"\", \"PERSON-nerenglarge\":[], \"LOC-nerenglarge\":\"\",\"ORG-nerenglarge\":\"\"})\n",
    "for i in range(2136):\n",
    "        sentencess =Sentence(all_text[i])\n",
    "        dflarge.loc[i,\"text\"]=all_text[i]\n",
    "        tagger2.predict(sentencess)\n",
    "        dc={}\n",
    "        P=[]\n",
    "        L=[]\n",
    "        G=[]\n",
    "        O=[]\n",
    "        for entity in sentencess.get_spans('ner'):\n",
    "                     \n",
    "                     if (entity.get_label(\"ner\").score > 0.90) & (entity.get_label(\"ner\").value != \"CARDINAL\") & (entity.get_label(\"ner\").value != \"LAW\")& (entity.get_label(\"ner\").value != \"QUANTITY\") & (entity.get_label(\"ner\").value != \"WORK_OF_ART\") & (entity.get_label(\"ner\").value != \"LAW\")& (entity.get_label(\"ner\").value != \"QUANTITY\") & (entity.get_label(\"ner\").value != \"EVENT\")  :\n",
    "                        dc[entity.text]= entity.get_label(\"ner\").value \n",
    "                        listenglarge.append(entity)\n",
    "        \n",
    "        \n",
    "        for j in dc :\n",
    "                if dc[j]==\"PER\":\n",
    "                      P.append(j)\n",
    "                elif (dc[j]==\"ORG\") | (dc[j]==\"MISC\") :\n",
    "                      O.append(j)\n",
    "                elif dc[j]==\"LOC\":\n",
    "                      L.append(j)\n",
    "               \n",
    "        Per.append(P)\n",
    "        ORG.append(O)\n",
    "        LOC.append(L)\n",
    "            \n",
    "\n",
    "dflarge[\"PERSON-nerenglarge\"]=Per\n",
    "dflarge[\"LOC-nerenglarge\"]=LOC\n",
    "dflarge[\"ORG-nerenglarge\"]=ORG                        "
   ]
  },
  {
   "cell_type": "code",
   "execution_count": 16,
   "id": "c19d4489",
   "metadata": {
    "execution": {
     "iopub.execute_input": "2022-06-10T15:17:46.398708Z",
     "iopub.status.busy": "2022-06-10T15:17:46.398383Z",
     "iopub.status.idle": "2022-06-10T15:17:46.432933Z",
     "shell.execute_reply": "2022-06-10T15:17:46.431873Z"
    },
    "papermill": {
     "duration": 0.072765,
     "end_time": "2022-06-10T15:17:46.435171",
     "exception": false,
     "start_time": "2022-06-10T15:17:46.362406",
     "status": "completed"
    },
    "tags": []
   },
   "outputs": [
    {
     "data": {
      "text/html": [
       "<div>\n",
       "<style scoped>\n",
       "    .dataframe tbody tr th:only-of-type {\n",
       "        vertical-align: middle;\n",
       "    }\n",
       "\n",
       "    .dataframe tbody tr th {\n",
       "        vertical-align: top;\n",
       "    }\n",
       "\n",
       "    .dataframe thead th {\n",
       "        text-align: right;\n",
       "    }\n",
       "</style>\n",
       "<table border=\"1\" class=\"dataframe\">\n",
       "  <thead>\n",
       "    <tr style=\"text-align: right;\">\n",
       "      <th></th>\n",
       "      <th>text</th>\n",
       "      <th>PERSON-nerenglarge</th>\n",
       "      <th>LOC-nerenglarge</th>\n",
       "      <th>ORG-nerenglarge</th>\n",
       "    </tr>\n",
       "  </thead>\n",
       "  <tbody>\n",
       "    <tr>\n",
       "      <th>0</th>\n",
       "      <td>I I C Meekins of Currituck County State of Nor...</td>\n",
       "      <td>[I I C Meekins, God, Isaac C Meekins, E H Walk...</td>\n",
       "      <td>[Currituck County State of North Carolina, Uni...</td>\n",
       "      <td>[]</td>\n",
       "    </tr>\n",
       "    <tr>\n",
       "      <th>1</th>\n",
       "      <td>Department of Virginia North Carolina 1864 tak...</td>\n",
       "      <td>[]</td>\n",
       "      <td>[North Carolina, United States, States]</td>\n",
       "      <td>[Department of Virginia]</td>\n",
       "    </tr>\n",
       "    <tr>\n",
       "      <th>2</th>\n",
       "      <td>I W H Pearce of Craven County State of NorthCa...</td>\n",
       "      <td>[W H Pearce, Almighty, God, Jm E Ampetts, A B ...</td>\n",
       "      <td>[Craven County State of NorthCarolina, United ...</td>\n",
       "      <td>[]</td>\n",
       "    </tr>\n",
       "    <tr>\n",
       "      <th>3</th>\n",
       "      <td>State of North Carolina County I solemnly swea...</td>\n",
       "      <td>[God]</td>\n",
       "      <td>[State of North Carolina County, United States]</td>\n",
       "      <td>[]</td>\n",
       "    </tr>\n",
       "    <tr>\n",
       "      <th>4</th>\n",
       "      <td>State of North Carolina Wake County I SE Allen...</td>\n",
       "      <td>[SE Allen, God SE Allen Sworn, McAlpine]</td>\n",
       "      <td>[State of North Carolina, Wake County, United ...</td>\n",
       "      <td>[Res Corp]</td>\n",
       "    </tr>\n",
       "    <tr>\n",
       "      <th>...</th>\n",
       "      <td>...</td>\n",
       "      <td>...</td>\n",
       "      <td>...</td>\n",
       "      <td>...</td>\n",
       "    </tr>\n",
       "    <tr>\n",
       "      <th>2131</th>\n",
       "      <td>Office Provost Marshal Raleigh NC May 26 65 Th...</td>\n",
       "      <td>[Geo Little, Geo B Ayer, DH Grave, Hugo Hilleb...</td>\n",
       "      <td>[Raleigh, NC, Wake County State of NC, United ...</td>\n",
       "      <td>[]</td>\n",
       "    </tr>\n",
       "    <tr>\n",
       "      <th>2132</th>\n",
       "      <td>July 30th 1867 Birnie Wm Agent Bu R F A L Oath...</td>\n",
       "      <td>[]</td>\n",
       "      <td>[]</td>\n",
       "      <td>[]</td>\n",
       "    </tr>\n",
       "    <tr>\n",
       "      <th>2133</th>\n",
       "      <td>State of North Carolina Robeson County I Willi...</td>\n",
       "      <td>[William Birnie, God, Wm Birnie, Dick JP]</td>\n",
       "      <td>[Robeson County, United States]</td>\n",
       "      <td>[]</td>\n",
       "    </tr>\n",
       "    <tr>\n",
       "      <th>2134</th>\n",
       "      <td>NARA 449 102 We whose name written well person...</td>\n",
       "      <td>[AL Price, James Fulton, Fulton Price, Sgd W N...</td>\n",
       "      <td>[State of North Carolina, New Hanover County, ...</td>\n",
       "      <td>[NARA, Confederate Government, Court of Pleas,...</td>\n",
       "    </tr>\n",
       "    <tr>\n",
       "      <th>2135</th>\n",
       "      <td>NARA 450 404 Office Provost Marshall City of W...</td>\n",
       "      <td>[James Fulton, God, Wm A Cutler, I, Geo W Poll...</td>\n",
       "      <td>[Marshall, City of Wilmington NC, United State...</td>\n",
       "      <td>[NARA]</td>\n",
       "    </tr>\n",
       "  </tbody>\n",
       "</table>\n",
       "<p>2136 rows × 4 columns</p>\n",
       "</div>"
      ],
      "text/plain": [
       "                                                   text  \\\n",
       "0     I I C Meekins of Currituck County State of Nor...   \n",
       "1     Department of Virginia North Carolina 1864 tak...   \n",
       "2     I W H Pearce of Craven County State of NorthCa...   \n",
       "3     State of North Carolina County I solemnly swea...   \n",
       "4     State of North Carolina Wake County I SE Allen...   \n",
       "...                                                 ...   \n",
       "2131  Office Provost Marshal Raleigh NC May 26 65 Th...   \n",
       "2132  July 30th 1867 Birnie Wm Agent Bu R F A L Oath...   \n",
       "2133  State of North Carolina Robeson County I Willi...   \n",
       "2134  NARA 449 102 We whose name written well person...   \n",
       "2135  NARA 450 404 Office Provost Marshall City of W...   \n",
       "\n",
       "                                     PERSON-nerenglarge  \\\n",
       "0     [I I C Meekins, God, Isaac C Meekins, E H Walk...   \n",
       "1                                                    []   \n",
       "2     [W H Pearce, Almighty, God, Jm E Ampetts, A B ...   \n",
       "3                                                 [God]   \n",
       "4              [SE Allen, God SE Allen Sworn, McAlpine]   \n",
       "...                                                 ...   \n",
       "2131  [Geo Little, Geo B Ayer, DH Grave, Hugo Hilleb...   \n",
       "2132                                                 []   \n",
       "2133          [William Birnie, God, Wm Birnie, Dick JP]   \n",
       "2134  [AL Price, James Fulton, Fulton Price, Sgd W N...   \n",
       "2135  [James Fulton, God, Wm A Cutler, I, Geo W Poll...   \n",
       "\n",
       "                                        LOC-nerenglarge  \\\n",
       "0     [Currituck County State of North Carolina, Uni...   \n",
       "1               [North Carolina, United States, States]   \n",
       "2     [Craven County State of NorthCarolina, United ...   \n",
       "3       [State of North Carolina County, United States]   \n",
       "4     [State of North Carolina, Wake County, United ...   \n",
       "...                                                 ...   \n",
       "2131  [Raleigh, NC, Wake County State of NC, United ...   \n",
       "2132                                                 []   \n",
       "2133                    [Robeson County, United States]   \n",
       "2134  [State of North Carolina, New Hanover County, ...   \n",
       "2135  [Marshall, City of Wilmington NC, United State...   \n",
       "\n",
       "                                        ORG-nerenglarge  \n",
       "0                                                    []  \n",
       "1                              [Department of Virginia]  \n",
       "2                                                    []  \n",
       "3                                                    []  \n",
       "4                                            [Res Corp]  \n",
       "...                                                 ...  \n",
       "2131                                                 []  \n",
       "2132                                                 []  \n",
       "2133                                                 []  \n",
       "2134  [NARA, Confederate Government, Court of Pleas,...  \n",
       "2135                                             [NARA]  \n",
       "\n",
       "[2136 rows x 4 columns]"
      ]
     },
     "execution_count": 16,
     "metadata": {},
     "output_type": "execute_result"
    }
   ],
   "source": [
    "dflarge"
   ]
  },
  {
   "cell_type": "markdown",
   "id": "2d37aeb7",
   "metadata": {
    "papermill": {
     "duration": 0.03157,
     "end_time": "2022-06-10T15:17:46.498269",
     "exception": false,
     "start_time": "2022-06-10T15:17:46.466699",
     "status": "completed"
    },
    "tags": []
   },
   "source": [
    "tagger 2 ontonotes"
   ]
  },
  {
   "cell_type": "code",
   "execution_count": 17,
   "id": "9c2fbba0",
   "metadata": {
    "execution": {
     "iopub.execute_input": "2022-06-10T15:17:46.563262Z",
     "iopub.status.busy": "2022-06-10T15:17:46.562700Z",
     "iopub.status.idle": "2022-06-10T15:19:55.218586Z",
     "shell.execute_reply": "2022-06-10T15:19:55.217158Z"
    },
    "papermill": {
     "duration": 128.69211,
     "end_time": "2022-06-10T15:19:55.222237",
     "exception": false,
     "start_time": "2022-06-10T15:17:46.530127",
     "status": "completed"
    },
    "tags": []
   },
   "outputs": [],
   "source": [
    "listoto=[]\n",
    "label=[]\n",
    "Per=[]\n",
    "Date=[]\n",
    "GPE=[]\n",
    "ORG=[]\n",
    "from flair.data import Sentence\n",
    "\n",
    "aldf=pd.DataFrame({\"text\":\"\", \"PERSON-ontonotes\":[], \"GPE-ontonotes\":\"\",\"ORG-ontonotes\":\"\", \"Date-ontonotes\":\"\"})\n",
    "for i in range(2136):\n",
    "        sentencess =Sentence(all_text[i])\n",
    "        aldf.loc[i,\"text\"]=all_text[i]\n",
    "        tagger.predict(sentencess)\n",
    "        dc={}\n",
    "        P=[]\n",
    "        D=[]\n",
    "        G=[]\n",
    "        O=[]\n",
    "        for entity in sentencess.get_spans('ner'):\n",
    "                     \n",
    "                     if (entity.get_label(\"ner\").score > 0.98) & (entity.get_label(\"ner\").value != \"CARDINAL\") & (entity.get_label(\"ner\").value != \"LAW\")& (entity.get_label(\"ner\").value != \"QUANTITY\") & (entity.get_label(\"ner\").value != \"WORK_OF_ART\") & (entity.get_label(\"ner\").value != \"LAW\")& (entity.get_label(\"ner\").value != \"QUANTITY\") & (entity.get_label(\"ner\").value != \"EVENT\")  :\n",
    "                        dc[entity.text]= entity.get_label(\"ner\").value \n",
    "                        listoto.append(entity)\n",
    "        \n",
    "        \n",
    "        for j in dc :\n",
    "                if dc[j]==\"PERSON\":\n",
    "                      P.append(j)\n",
    "                elif dc[j]==\"ORG\":\n",
    "                      O.append(j)\n",
    "                elif dc[j]==\"DATE\":\n",
    "                      D.append(j)\n",
    "                elif dc[j]==\"GPE\":\n",
    "                      G.append(j)\n",
    "        Per.append(P)\n",
    "        Date.append(D)\n",
    "        ORG.append(O)\n",
    "        GPE.append(G)\n",
    "            \n",
    "aldf[\"Date-ontonotes\"]=Date\n",
    "aldf[\"PERSON-ontonotes\"]=Per\n",
    "aldf[\"GPE-ontonotes\"]=GPE\n",
    "aldf[\"ORG-ontonotes\"]=ORG    "
   ]
  },
  {
   "cell_type": "code",
   "execution_count": 18,
   "id": "5761d8c0",
   "metadata": {
    "execution": {
     "iopub.execute_input": "2022-06-10T15:19:55.297188Z",
     "iopub.status.busy": "2022-06-10T15:19:55.296716Z",
     "iopub.status.idle": "2022-06-10T15:19:55.303926Z",
     "shell.execute_reply": "2022-06-10T15:19:55.302753Z"
    },
    "papermill": {
     "duration": 0.04767,
     "end_time": "2022-06-10T15:19:55.307206",
     "exception": false,
     "start_time": "2022-06-10T15:19:55.259536",
     "status": "completed"
    },
    "tags": []
   },
   "outputs": [
    {
     "data": {
      "text/plain": [
       "(2136, 5)"
      ]
     },
     "execution_count": 18,
     "metadata": {},
     "output_type": "execute_result"
    }
   ],
   "source": [
    "aldf.shape"
   ]
  },
  {
   "cell_type": "code",
   "execution_count": 19,
   "id": "ef4568d3",
   "metadata": {
    "execution": {
     "iopub.execute_input": "2022-06-10T15:19:55.381159Z",
     "iopub.status.busy": "2022-06-10T15:19:55.380175Z",
     "iopub.status.idle": "2022-06-10T15:19:55.403202Z",
     "shell.execute_reply": "2022-06-10T15:19:55.401891Z"
    },
    "papermill": {
     "duration": 0.064375,
     "end_time": "2022-06-10T15:19:55.407103",
     "exception": false,
     "start_time": "2022-06-10T15:19:55.342728",
     "status": "completed"
    },
    "tags": []
   },
   "outputs": [
    {
     "data": {
      "text/html": [
       "<div>\n",
       "<style scoped>\n",
       "    .dataframe tbody tr th:only-of-type {\n",
       "        vertical-align: middle;\n",
       "    }\n",
       "\n",
       "    .dataframe tbody tr th {\n",
       "        vertical-align: top;\n",
       "    }\n",
       "\n",
       "    .dataframe thead th {\n",
       "        text-align: right;\n",
       "    }\n",
       "</style>\n",
       "<table border=\"1\" class=\"dataframe\">\n",
       "  <thead>\n",
       "    <tr style=\"text-align: right;\">\n",
       "      <th></th>\n",
       "      <th>text</th>\n",
       "      <th>PERSON-ontonotes</th>\n",
       "      <th>GPE-ontonotes</th>\n",
       "      <th>ORG-ontonotes</th>\n",
       "      <th>Date-ontonotes</th>\n",
       "    </tr>\n",
       "  </thead>\n",
       "  <tbody>\n",
       "    <tr>\n",
       "      <th>0</th>\n",
       "      <td>I I C Meekins of Currituck County State of Nor...</td>\n",
       "      <td>[I I C Meekins, Isaac C Meekins, E H Walker JP...</td>\n",
       "      <td>[North Carolina]</td>\n",
       "      <td>[]</td>\n",
       "      <td>[16 day of Sept AD 1865]</td>\n",
       "    </tr>\n",
       "    <tr>\n",
       "      <th>1</th>\n",
       "      <td>Department of Virginia North Carolina 1864 tak...</td>\n",
       "      <td>[]</td>\n",
       "      <td>[North Carolina, United States]</td>\n",
       "      <td>[Department of Virginia]</td>\n",
       "      <td>[1864]</td>\n",
       "    </tr>\n",
       "    <tr>\n",
       "      <th>2</th>\n",
       "      <td>I W H Pearce of Craven County State of NorthCa...</td>\n",
       "      <td>[W H Pearce, Watson]</td>\n",
       "      <td>[]</td>\n",
       "      <td>[]</td>\n",
       "      <td>[3rd day of October AD 1865]</td>\n",
       "    </tr>\n",
       "    <tr>\n",
       "      <th>3</th>\n",
       "      <td>State of North Carolina County I solemnly swea...</td>\n",
       "      <td>[]</td>\n",
       "      <td>[North Carolina County, United States]</td>\n",
       "      <td>[]</td>\n",
       "      <td>[]</td>\n",
       "    </tr>\n",
       "    <tr>\n",
       "      <th>4</th>\n",
       "      <td>State of North Carolina Wake County I SE Allen...</td>\n",
       "      <td>[Allen]</td>\n",
       "      <td>[North Carolina, Wake County, United States]</td>\n",
       "      <td>[]</td>\n",
       "      <td>[31st day of May 1867]</td>\n",
       "    </tr>\n",
       "  </tbody>\n",
       "</table>\n",
       "</div>"
      ],
      "text/plain": [
       "                                                text  \\\n",
       "0  I I C Meekins of Currituck County State of Nor...   \n",
       "1  Department of Virginia North Carolina 1864 tak...   \n",
       "2  I W H Pearce of Craven County State of NorthCa...   \n",
       "3  State of North Carolina County I solemnly swea...   \n",
       "4  State of North Carolina Wake County I SE Allen...   \n",
       "\n",
       "                                    PERSON-ontonotes  \\\n",
       "0  [I I C Meekins, Isaac C Meekins, E H Walker JP...   \n",
       "1                                                 []   \n",
       "2                               [W H Pearce, Watson]   \n",
       "3                                                 []   \n",
       "4                                            [Allen]   \n",
       "\n",
       "                                  GPE-ontonotes             ORG-ontonotes  \\\n",
       "0                              [North Carolina]                        []   \n",
       "1               [North Carolina, United States]  [Department of Virginia]   \n",
       "2                                            []                        []   \n",
       "3        [North Carolina County, United States]                        []   \n",
       "4  [North Carolina, Wake County, United States]                        []   \n",
       "\n",
       "                 Date-ontonotes  \n",
       "0      [16 day of Sept AD 1865]  \n",
       "1                        [1864]  \n",
       "2  [3rd day of October AD 1865]  \n",
       "3                            []  \n",
       "4        [31st day of May 1867]  "
      ]
     },
     "execution_count": 19,
     "metadata": {},
     "output_type": "execute_result"
    }
   ],
   "source": [
    "aldf.head()"
   ]
  },
  {
   "cell_type": "code",
   "execution_count": 20,
   "id": "deb19423",
   "metadata": {
    "execution": {
     "iopub.execute_input": "2022-06-10T15:19:55.481215Z",
     "iopub.status.busy": "2022-06-10T15:19:55.480172Z",
     "iopub.status.idle": "2022-06-10T15:19:55.487786Z",
     "shell.execute_reply": "2022-06-10T15:19:55.486250Z"
    },
    "papermill": {
     "duration": 0.048195,
     "end_time": "2022-06-10T15:19:55.491431",
     "exception": false,
     "start_time": "2022-06-10T15:19:55.443236",
     "status": "completed"
    },
    "tags": []
   },
   "outputs": [
    {
     "data": {
      "text/plain": [
       "(2136, 5)"
      ]
     },
     "execution_count": 20,
     "metadata": {},
     "output_type": "execute_result"
    }
   ],
   "source": [
    "aldf.shape"
   ]
  },
  {
   "cell_type": "markdown",
   "id": "7cc19f36",
   "metadata": {
    "papermill": {
     "duration": 0.036048,
     "end_time": "2022-06-10T15:19:55.563691",
     "exception": false,
     "start_time": "2022-06-10T15:19:55.527643",
     "status": "completed"
    },
    "tags": []
   },
   "source": [
    "# Post processing"
   ]
  },
  {
   "cell_type": "markdown",
   "id": "6d12c351",
   "metadata": {
    "papermill": {
     "duration": 0.037125,
     "end_time": "2022-06-10T15:19:55.636808",
     "exception": false,
     "start_time": "2022-06-10T15:19:55.599683",
     "status": "completed"
    },
    "tags": []
   },
   "source": [
    "**For dates**"
   ]
  },
  {
   "cell_type": "code",
   "execution_count": 21,
   "id": "fa57ba9c",
   "metadata": {
    "execution": {
     "iopub.execute_input": "2022-06-10T15:19:55.710166Z",
     "iopub.status.busy": "2022-06-10T15:19:55.709664Z",
     "iopub.status.idle": "2022-06-10T15:19:55.787667Z",
     "shell.execute_reply": "2022-06-10T15:19:55.786545Z"
    },
    "papermill": {
     "duration": 0.117585,
     "end_time": "2022-06-10T15:19:55.790227",
     "exception": false,
     "start_time": "2022-06-10T15:19:55.672642",
     "status": "completed"
    },
    "tags": []
   },
   "outputs": [],
   "source": [
    "G=[]\n",
    "for i in aldf[\"Date-ontonotes\"]:\n",
    "    M=[]\n",
    "    for j in i:\n",
    "        date=re.search(r'^\\d\\.*.*\\d\\d$' ,j)\n",
    "        date2=re.search(r'^[A-ZZa-z]\\.*.*\\d\\.*.*\\d\\d$' ,j)\n",
    "        M.append(date)\n",
    "        M.append(date2)\n",
    "    G.append(M)\n",
    "    \n",
    "\n",
    "GF=[]\n",
    "for i in G:\n",
    "    Final_date=[]\n",
    "    for j in i:\n",
    "        if j!=None:\n",
    "            Final_date.append(j.group())\n",
    "    GF.append(Final_date)\n",
    "\n",
    "    \n",
    "aldf[\"postDate-ontonotes\"]=GF\n",
    "            \n",
    "            \n",
    "        "
   ]
  },
  {
   "cell_type": "markdown",
   "id": "4610a47b",
   "metadata": {
    "papermill": {
     "duration": 0.035813,
     "end_time": "2022-06-10T15:19:55.862374",
     "exception": false,
     "start_time": "2022-06-10T15:19:55.826561",
     "status": "completed"
    },
    "tags": []
   },
   "source": [
    "# Run this to see the extracted dates before filtring them "
   ]
  },
  {
   "cell_type": "code",
   "execution_count": 22,
   "id": "f7d90494",
   "metadata": {
    "execution": {
     "iopub.execute_input": "2022-06-10T15:19:55.936528Z",
     "iopub.status.busy": "2022-06-10T15:19:55.935518Z",
     "iopub.status.idle": "2022-06-10T15:19:55.942058Z",
     "shell.execute_reply": "2022-06-10T15:19:55.939657Z"
    },
    "papermill": {
     "duration": 0.046646,
     "end_time": "2022-06-10T15:19:55.945315",
     "exception": false,
     "start_time": "2022-06-10T15:19:55.898669",
     "status": "completed"
    },
    "tags": []
   },
   "outputs": [],
   "source": [
    "#GF"
   ]
  },
  {
   "cell_type": "code",
   "execution_count": 23,
   "id": "947fb935",
   "metadata": {
    "execution": {
     "iopub.execute_input": "2022-06-10T15:19:56.018476Z",
     "iopub.status.busy": "2022-06-10T15:19:56.017322Z",
     "iopub.status.idle": "2022-06-10T15:19:56.194380Z",
     "shell.execute_reply": "2022-06-10T15:19:56.193060Z"
    },
    "papermill": {
     "duration": 0.216687,
     "end_time": "2022-06-10T15:19:56.197502",
     "exception": false,
     "start_time": "2022-06-10T15:19:55.980815",
     "status": "completed"
    },
    "tags": []
   },
   "outputs": [],
   "source": [
    "G=[]\n",
    "for i in aldf[\"postDate-ontonotes\"]:\n",
    "    M=[]\n",
    "    for j in i:\n",
    "        Final_date1=re.sub(r'([0-9]{1,2})\\.*.*\\s([A-Z][a-z]\\S*)\\.*.*\\s([0-9]{2,4})',r'\\1-\\2-\\3' ,j)\n",
    "        Final_date2=re.sub(r'([A-Z]\\.*.*)\\s([0-9]{1,2})\\.*.*\\s([0-9]{2,4})',r'\\2-\\1-\\3' ,j)\n",
    "        final_date3=re.sub(r'([A-Z][a-z]\\S*)\\.*.*\\s([A-Z][a-z]\\S*)\\.*.*\\s([0-9]{2,4})',r'\\1-\\2-\\3' ,j)\n",
    "        final_date4=re.sub(r'(^[A-Za-z]\\S*.*.)day\\.*.*\\s([A-Z][a-z]\\S*)\\.*.*\\s([0-9]{2,4})',r'\\1-\\2-\\3' ,j)\n",
    "        if Final_date1 != j:   \n",
    "            M.append(Final_date1)\n",
    "        if Final_date2 != j :\n",
    "            M.append(Final_date2)\n",
    "        if final_date3 != j :\n",
    "            M.append(final_date3)\n",
    "        if final_date4 != j :\n",
    "            M.append(final_date4)\n",
    "    G.append(M)\n",
    "    \n",
    "\n",
    "aldf[\"postDate-ontonotes\"]=G"
   ]
  },
  {
   "cell_type": "markdown",
   "id": "0f1b2d40",
   "metadata": {
    "papermill": {
     "duration": 0.032173,
     "end_time": "2022-06-10T15:19:56.264443",
     "exception": false,
     "start_time": "2022-06-10T15:19:56.232270",
     "status": "completed"
    },
    "tags": []
   },
   "source": [
    "**great !**"
   ]
  },
  {
   "cell_type": "markdown",
   "id": "586dcf90",
   "metadata": {
    "papermill": {
     "duration": 0.032144,
     "end_time": "2022-06-10T15:19:56.329245",
     "exception": false,
     "start_time": "2022-06-10T15:19:56.297101",
     "status": "completed"
    },
    "tags": []
   },
   "source": [
    "****"
   ]
  },
  {
   "cell_type": "markdown",
   "id": "611e125a",
   "metadata": {
    "papermill": {
     "duration": 0.031952,
     "end_time": "2022-06-10T15:19:56.393955",
     "exception": false,
     "start_time": "2022-06-10T15:19:56.362003",
     "status": "completed"
    },
    "tags": []
   },
   "source": [
    "****"
   ]
  },
  {
   "cell_type": "code",
   "execution_count": 24,
   "id": "d5f4cda0",
   "metadata": {
    "execution": {
     "iopub.execute_input": "2022-06-10T15:19:56.459723Z",
     "iopub.status.busy": "2022-06-10T15:19:56.459396Z",
     "iopub.status.idle": "2022-06-10T15:19:56.477639Z",
     "shell.execute_reply": "2022-06-10T15:19:56.476406Z"
    },
    "papermill": {
     "duration": 0.053944,
     "end_time": "2022-06-10T15:19:56.480279",
     "exception": false,
     "start_time": "2022-06-10T15:19:56.426335",
     "status": "completed"
    },
    "tags": []
   },
   "outputs": [
    {
     "data": {
      "text/html": [
       "<div>\n",
       "<style scoped>\n",
       "    .dataframe tbody tr th:only-of-type {\n",
       "        vertical-align: middle;\n",
       "    }\n",
       "\n",
       "    .dataframe tbody tr th {\n",
       "        vertical-align: top;\n",
       "    }\n",
       "\n",
       "    .dataframe thead th {\n",
       "        text-align: right;\n",
       "    }\n",
       "</style>\n",
       "<table border=\"1\" class=\"dataframe\">\n",
       "  <thead>\n",
       "    <tr style=\"text-align: right;\">\n",
       "      <th></th>\n",
       "      <th>text</th>\n",
       "      <th>PERSON-nerenglarge</th>\n",
       "      <th>LOC-nerenglarge</th>\n",
       "      <th>ORG-nerenglarge</th>\n",
       "    </tr>\n",
       "  </thead>\n",
       "  <tbody>\n",
       "    <tr>\n",
       "      <th>0</th>\n",
       "      <td>I I C Meekins of Currituck County State of Nor...</td>\n",
       "      <td>[I I C Meekins, God, Isaac C Meekins, E H Walk...</td>\n",
       "      <td>[Currituck County State of North Carolina, Uni...</td>\n",
       "      <td>[]</td>\n",
       "    </tr>\n",
       "    <tr>\n",
       "      <th>1</th>\n",
       "      <td>Department of Virginia North Carolina 1864 tak...</td>\n",
       "      <td>[]</td>\n",
       "      <td>[North Carolina, United States, States]</td>\n",
       "      <td>[Department of Virginia]</td>\n",
       "    </tr>\n",
       "    <tr>\n",
       "      <th>2</th>\n",
       "      <td>I W H Pearce of Craven County State of NorthCa...</td>\n",
       "      <td>[W H Pearce, Almighty, God, Jm E Ampetts, A B ...</td>\n",
       "      <td>[Craven County State of NorthCarolina, United ...</td>\n",
       "      <td>[]</td>\n",
       "    </tr>\n",
       "    <tr>\n",
       "      <th>3</th>\n",
       "      <td>State of North Carolina County I solemnly swea...</td>\n",
       "      <td>[God]</td>\n",
       "      <td>[State of North Carolina County, United States]</td>\n",
       "      <td>[]</td>\n",
       "    </tr>\n",
       "    <tr>\n",
       "      <th>4</th>\n",
       "      <td>State of North Carolina Wake County I SE Allen...</td>\n",
       "      <td>[SE Allen, God SE Allen Sworn, McAlpine]</td>\n",
       "      <td>[State of North Carolina, Wake County, United ...</td>\n",
       "      <td>[Res Corp]</td>\n",
       "    </tr>\n",
       "  </tbody>\n",
       "</table>\n",
       "</div>"
      ],
      "text/plain": [
       "                                                text  \\\n",
       "0  I I C Meekins of Currituck County State of Nor...   \n",
       "1  Department of Virginia North Carolina 1864 tak...   \n",
       "2  I W H Pearce of Craven County State of NorthCa...   \n",
       "3  State of North Carolina County I solemnly swea...   \n",
       "4  State of North Carolina Wake County I SE Allen...   \n",
       "\n",
       "                                  PERSON-nerenglarge  \\\n",
       "0  [I I C Meekins, God, Isaac C Meekins, E H Walk...   \n",
       "1                                                 []   \n",
       "2  [W H Pearce, Almighty, God, Jm E Ampetts, A B ...   \n",
       "3                                              [God]   \n",
       "4           [SE Allen, God SE Allen Sworn, McAlpine]   \n",
       "\n",
       "                                     LOC-nerenglarge           ORG-nerenglarge  \n",
       "0  [Currituck County State of North Carolina, Uni...                        []  \n",
       "1            [North Carolina, United States, States]  [Department of Virginia]  \n",
       "2  [Craven County State of NorthCarolina, United ...                        []  \n",
       "3    [State of North Carolina County, United States]                        []  \n",
       "4  [State of North Carolina, Wake County, United ...                [Res Corp]  "
      ]
     },
     "execution_count": 24,
     "metadata": {},
     "output_type": "execute_result"
    }
   ],
   "source": [
    "dflarge.head()"
   ]
  },
  {
   "cell_type": "code",
   "execution_count": 25,
   "id": "c142b49c",
   "metadata": {
    "execution": {
     "iopub.execute_input": "2022-06-10T15:19:56.546067Z",
     "iopub.status.busy": "2022-06-10T15:19:56.545246Z",
     "iopub.status.idle": "2022-06-10T15:19:56.553617Z",
     "shell.execute_reply": "2022-06-10T15:19:56.552383Z"
    },
    "papermill": {
     "duration": 0.043909,
     "end_time": "2022-06-10T15:19:56.556381",
     "exception": false,
     "start_time": "2022-06-10T15:19:56.512472",
     "status": "completed"
    },
    "tags": []
   },
   "outputs": [],
   "source": [
    "aldf[\"Person-NerEngLarge\"]=dflarge[\"PERSON-nerenglarge\"]\n",
    "aldf[\"LOC-NerEngLarge\"]=dflarge[\"LOC-nerenglarge\"]\n",
    "aldf[\"ORG-NerEngLarge\"]=dflarge[\"ORG-nerenglarge\"]\n"
   ]
  },
  {
   "cell_type": "code",
   "execution_count": 26,
   "id": "d2a3d6f8",
   "metadata": {
    "execution": {
     "iopub.execute_input": "2022-06-10T15:19:56.622463Z",
     "iopub.status.busy": "2022-06-10T15:19:56.622149Z",
     "iopub.status.idle": "2022-06-10T15:19:56.634585Z",
     "shell.execute_reply": "2022-06-10T15:19:56.633503Z"
    },
    "papermill": {
     "duration": 0.047986,
     "end_time": "2022-06-10T15:19:56.636783",
     "exception": false,
     "start_time": "2022-06-10T15:19:56.588797",
     "status": "completed"
    },
    "tags": []
   },
   "outputs": [],
   "source": [
    "allPerson=[]\n",
    "for i in aldf[\"PERSON-ontonotes\"]:\n",
    "            allPerson.append(i)\n",
    "allDatess=[]\n",
    "for i in aldf[\"Date-ontonotes\"]:\n",
    "            allDatess.append(i)\n",
    "allpostdates=[]\n",
    "for i in aldf[\"postDate-ontonotes\"]:\n",
    "            allpostdates.append(i)\n",
    "allGPE=[]\n",
    "for i in aldf[\"GPE-ontonotes\"]:\n",
    "            allGPE.append(i)\n",
    "alORGl=[]\n",
    "for i in aldf[\"ORG-ontonotes\"]:\n",
    "            alORGl.append(i)"
   ]
  },
  {
   "cell_type": "markdown",
   "id": "f9c9d4e9",
   "metadata": {
    "papermill": {
     "duration": 0.031929,
     "end_time": "2022-06-10T15:19:56.700722",
     "exception": false,
     "start_time": "2022-06-10T15:19:56.668793",
     "status": "completed"
    },
    "tags": []
   },
   "source": [
    "****"
   ]
  },
  {
   "cell_type": "code",
   "execution_count": 27,
   "id": "75622699",
   "metadata": {
    "execution": {
     "iopub.execute_input": "2022-06-10T15:19:56.766629Z",
     "iopub.status.busy": "2022-06-10T15:19:56.766309Z",
     "iopub.status.idle": "2022-06-10T15:19:56.775565Z",
     "shell.execute_reply": "2022-06-10T15:19:56.773758Z"
    },
    "papermill": {
     "duration": 0.044572,
     "end_time": "2022-06-10T15:19:56.777761",
     "exception": false,
     "start_time": "2022-06-10T15:19:56.733189",
     "status": "completed"
    },
    "tags": []
   },
   "outputs": [],
   "source": [
    "Personlarge=[]\n",
    "for i in dflarge[\"PERSON-nerenglarge\"]:\n",
    "            Personlarge.append(i)\n",
    "ORGlarge=[]\n",
    "for i in dflarge[\"ORG-nerenglarge\"]:\n",
    "            ORGlarge.append(i) \n",
    "LOClarge=[]\n",
    "for i in dflarge[\"LOC-nerenglarge\"]:\n",
    "            LOClarge.append(i)"
   ]
  },
  {
   "cell_type": "markdown",
   "id": "302d2ddf",
   "metadata": {
    "papermill": {
     "duration": 0.031663,
     "end_time": "2022-06-10T15:19:56.841603",
     "exception": false,
     "start_time": "2022-06-10T15:19:56.809940",
     "status": "completed"
    },
    "tags": []
   },
   "source": [
    "# Person large"
   ]
  },
  {
   "cell_type": "code",
   "execution_count": 28,
   "id": "d2ce411b",
   "metadata": {
    "execution": {
     "iopub.execute_input": "2022-06-10T15:19:56.908093Z",
     "iopub.status.busy": "2022-06-10T15:19:56.907669Z",
     "iopub.status.idle": "2022-06-10T15:19:56.915676Z",
     "shell.execute_reply": "2022-06-10T15:19:56.914603Z"
    },
    "papermill": {
     "duration": 0.044688,
     "end_time": "2022-06-10T15:19:56.918130",
     "exception": false,
     "start_time": "2022-06-10T15:19:56.873442",
     "status": "completed"
    },
    "tags": []
   },
   "outputs": [],
   "source": [
    "PL=[]\n",
    "for i in Personlarge:\n",
    "    for j in i:\n",
    "        PL.append(j)"
   ]
  },
  {
   "cell_type": "code",
   "execution_count": 29,
   "id": "105efb65",
   "metadata": {
    "execution": {
     "iopub.execute_input": "2022-06-10T15:19:56.983661Z",
     "iopub.status.busy": "2022-06-10T15:19:56.983293Z",
     "iopub.status.idle": "2022-06-10T15:19:56.989909Z",
     "shell.execute_reply": "2022-06-10T15:19:56.988876Z"
    },
    "papermill": {
     "duration": 0.042017,
     "end_time": "2022-06-10T15:19:56.992227",
     "exception": false,
     "start_time": "2022-06-10T15:19:56.950210",
     "status": "completed"
    },
    "tags": []
   },
   "outputs": [
    {
     "data": {
      "text/plain": [
       "8339"
      ]
     },
     "execution_count": 29,
     "metadata": {},
     "output_type": "execute_result"
    }
   ],
   "source": [
    "len(PL)"
   ]
  },
  {
   "cell_type": "markdown",
   "id": "f973e33e",
   "metadata": {
    "papermill": {
     "duration": 0.032088,
     "end_time": "2022-06-10T15:19:57.056386",
     "exception": false,
     "start_time": "2022-06-10T15:19:57.024298",
     "status": "completed"
    },
    "tags": []
   },
   "source": [
    "# Person auto"
   ]
  },
  {
   "cell_type": "code",
   "execution_count": 30,
   "id": "28338917",
   "metadata": {
    "execution": {
     "iopub.execute_input": "2022-06-10T15:19:57.121845Z",
     "iopub.status.busy": "2022-06-10T15:19:57.121497Z",
     "iopub.status.idle": "2022-06-10T15:19:57.128565Z",
     "shell.execute_reply": "2022-06-10T15:19:57.127496Z"
    },
    "papermill": {
     "duration": 0.042528,
     "end_time": "2022-06-10T15:19:57.131004",
     "exception": false,
     "start_time": "2022-06-10T15:19:57.088476",
     "status": "completed"
    },
    "tags": []
   },
   "outputs": [],
   "source": [
    "PAu=[]\n",
    "for i in Personlarge:\n",
    "    for j in i:\n",
    "        PAu.append(j)"
   ]
  },
  {
   "cell_type": "code",
   "execution_count": 31,
   "id": "6a389ad1",
   "metadata": {
    "execution": {
     "iopub.execute_input": "2022-06-10T15:19:57.197144Z",
     "iopub.status.busy": "2022-06-10T15:19:57.196766Z",
     "iopub.status.idle": "2022-06-10T15:19:57.203197Z",
     "shell.execute_reply": "2022-06-10T15:19:57.202003Z"
    },
    "papermill": {
     "duration": 0.042179,
     "end_time": "2022-06-10T15:19:57.205748",
     "exception": false,
     "start_time": "2022-06-10T15:19:57.163569",
     "status": "completed"
    },
    "tags": []
   },
   "outputs": [
    {
     "data": {
      "text/plain": [
       "8339"
      ]
     },
     "execution_count": 31,
     "metadata": {},
     "output_type": "execute_result"
    }
   ],
   "source": [
    "len(PAu)"
   ]
  },
  {
   "cell_type": "markdown",
   "id": "413f051e",
   "metadata": {
    "papermill": {
     "duration": 0.031676,
     "end_time": "2022-06-10T15:19:57.270036",
     "exception": false,
     "start_time": "2022-06-10T15:19:57.238360",
     "status": "completed"
    },
    "tags": []
   },
   "source": [
    "* as usual , ner English Large is better in extracting Person \n",
    "* ontonotes is thes best in extracting dates after good postprocessing and filtring almost all pattern \n",
    "* ner Engish Large  also better in Location and Oranization "
   ]
  },
  {
   "cell_type": "markdown",
   "id": "4fcee853",
   "metadata": {
    "papermill": {
     "duration": 0.032667,
     "end_time": "2022-06-10T15:19:57.335736",
     "exception": false,
     "start_time": "2022-06-10T15:19:57.303069",
     "status": "completed"
    },
    "tags": []
   },
   "source": [
    "# dates"
   ]
  },
  {
   "cell_type": "markdown",
   "id": "2cdbe035",
   "metadata": {
    "papermill": {
     "duration": 0.032323,
     "end_time": "2022-06-10T15:19:57.400137",
     "exception": false,
     "start_time": "2022-06-10T15:19:57.367814",
     "status": "completed"
    },
    "tags": []
   },
   "source": [
    "**run those cells to take a look at the result more clearly**"
   ]
  },
  {
   "cell_type": "code",
   "execution_count": 32,
   "id": "1b085dd0",
   "metadata": {
    "execution": {
     "iopub.execute_input": "2022-06-10T15:19:57.467063Z",
     "iopub.status.busy": "2022-06-10T15:19:57.466333Z",
     "iopub.status.idle": "2022-06-10T15:19:57.470878Z",
     "shell.execute_reply": "2022-06-10T15:19:57.469784Z"
    },
    "papermill": {
     "duration": 0.040358,
     "end_time": "2022-06-10T15:19:57.473203",
     "exception": false,
     "start_time": "2022-06-10T15:19:57.432845",
     "status": "completed"
    },
    "tags": []
   },
   "outputs": [],
   "source": [
    "#G"
   ]
  },
  {
   "cell_type": "code",
   "execution_count": 33,
   "id": "7f4d1ca7",
   "metadata": {
    "execution": {
     "iopub.execute_input": "2022-06-10T15:19:57.540101Z",
     "iopub.status.busy": "2022-06-10T15:19:57.539266Z",
     "iopub.status.idle": "2022-06-10T15:19:57.543877Z",
     "shell.execute_reply": "2022-06-10T15:19:57.542839Z"
    },
    "papermill": {
     "duration": 0.040387,
     "end_time": "2022-06-10T15:19:57.546154",
     "exception": false,
     "start_time": "2022-06-10T15:19:57.505767",
     "status": "completed"
    },
    "tags": []
   },
   "outputs": [],
   "source": [
    "# import pickle\n",
    "# my_pickled_list = pickle.dumps(listoto)  # Pickling the object\n",
    "# print(f\"This is my pickled object:\\n{my_pickled_list}\\n\")\n",
    "\n",
    "# my_pickled_list\n",
    "\n",
    "# my_unpickled_object = pickle.loads(my_pickled_list)  # Unpickling the object\n",
    "# print(\n",
    "#     f\"This is a_dict of the unpickled object:\\n{my_unpickled_object}\\n\")\n",
    "\n",
    "\n",
    "# my_unpickled_object"
   ]
  },
  {
   "cell_type": "markdown",
   "id": "b56fefd2",
   "metadata": {
    "papermill": {
     "duration": 0.05844,
     "end_time": "2022-06-10T15:19:57.636747",
     "exception": false,
     "start_time": "2022-06-10T15:19:57.578307",
     "status": "completed"
    },
    "tags": []
   },
   "source": [
    "# standardizing dates"
   ]
  },
  {
   "cell_type": "code",
   "execution_count": 34,
   "id": "7c5a6c9b",
   "metadata": {
    "execution": {
     "iopub.execute_input": "2022-06-10T15:19:57.722469Z",
     "iopub.status.busy": "2022-06-10T15:19:57.722090Z",
     "iopub.status.idle": "2022-06-10T15:19:57.836379Z",
     "shell.execute_reply": "2022-06-10T15:19:57.835383Z"
    },
    "papermill": {
     "duration": 0.154339,
     "end_time": "2022-06-10T15:19:57.838680",
     "exception": false,
     "start_time": "2022-06-10T15:19:57.684341",
     "status": "completed"
    },
    "tags": []
   },
   "outputs": [],
   "source": [
    "NG=[]\n",
    "for i in G:\n",
    "    ng=[]\n",
    "    for j in i:\n",
    "        \n",
    "        date=re.findall(r'([0-9]{1,2})-([A-Z][a-z]\\S*)-([0-9]{2,4})',j)\n",
    "        if date !=[]:\n",
    "            dates=[]\n",
    "            for k in date:\n",
    "                for l in k:\n",
    "                    dates.append(l)\n",
    "                \n",
    "                \n",
    "                if dates[1] in [\"August\",\"Aug\",\"augt\",\"AUGUST\",\"Augst\",\"Augt\",\"AUG\",\"Augusta\"]:\n",
    "                    dates[1]= \"August\"\n",
    "                elif dates[1] in [\"September\",\"Sept\",\"SEP\",\"Sep\",\"Septr\",\"SEPTEMBER\",'Sepr','Septh']:\n",
    "                    dates[1]= \"Septembre\"\n",
    "                elif dates[1] in [\"October\",\"Oct\",\"OCT\",\"OCTOBER\"]:\n",
    "                    dates[1]= \"October\"\n",
    "                elif dates[1] in [\"November\",\"NOV\",\"Nov\",\"Novmbr\",\"Nvbr\",\"Novb\",\"NOVEMBER\", \"The\"]:\n",
    "                    dates[1]= \"November\"\n",
    "                elif dates[1] in [\"December\",\"Dec\",\"Decbr\",\"DEC\",\"DECEMBER\",\"Decber\"]:\n",
    "                    dates[1]= \"December\"\n",
    "                elif dates[1] in [\"January\",\"Janry\",\"Jan\",\"Jany\",\"JAN\",\"Janur\",\"JANUARY\"]:\n",
    "                    dates[1]= \"January\"\n",
    "                elif dates[1] in [\"February\",\"Feby\",\"Febry\",\"FEB\",\"FEBRUARY\"]:\n",
    "                    dates[1]= \"February\"\n",
    "                elif dates[1] in [\"March\",\"Mar\"]:\n",
    "                    dates[1]= \"March\"\n",
    "                elif dates[1] in [\"April\",\"Apl\",\"Aprl\",\"APRIL\",\"Apr\"]:\n",
    "                    dates[1]= \"April\"\n",
    "                elif dates[1] in [\"May\",\"MAY\"]:\n",
    "                    dates[1]= \"May\"\n",
    "                elif dates[1] in [\"JUN\",\"Jun\",\"June\"]:\n",
    "                    dates[1]= \"June\"\n",
    "                elif dates[1] in [\"JULY\",\"July\",\"JUL\"]:\n",
    "                    dates[1]= \"July\"\n",
    "                j = dates[0]+\"-\"+dates[1]+\"-\"+dates[2]\n",
    "                ng.append(j)\n",
    "        else :\n",
    "                date = re.findall(r'(^[A-Za-z]\\S*.*.)-([A-Z][a-z]\\S*)-([0-9]{2,4})',j ) \n",
    "                dates=[]\n",
    "                for k in date:\n",
    "                    for l in k:\n",
    "                        dates.append(l)\n",
    "                \n",
    "                \n",
    "                    if dates[1] in [\"August\",\"Aug\",\"augt\",\"AUGUST\",\"Augst\",'Augt',\"AUG\",\"Augusta\"]:\n",
    "                        dates[1]= \"August\"\n",
    "                    elif dates[1] in [\"September\",\"Sept\",\"SEP\",\"Sep\",\"Septr\",\"SEPTEMBER\",\"Sepr\",\"Septh\", \"This\", \"This \"]:\n",
    "                        dates[1]= \"Septembre\"\n",
    "                    elif dates[1] in [\"October\",\"Oct\",\"OCT\",\"OCTOBER\"]:\n",
    "                        dates[1]= \"October\"\n",
    "                    elif dates[1] in [\"November\",\"NOV\",\"Nov\",\"Novmbr\",\"Nvbr\",\"Novb\",\"NOVEMBER\"]:\n",
    "                        dates[1]= \"November\"\n",
    "                    elif dates[1] in [\"December\",\"Dec\",\"Decbr\",\"DEC\",\"DECEMBER\",\"Decber\"]:\n",
    "                        dates[1]= \"December\"\n",
    "                    elif dates[1] in [\"January\",\"Janry\",\"Jan\",\"Jany\",\"JAN\",\"Janur\",\"JANUARY\"]:\n",
    "                        dates[1]= \"January\"\n",
    "                    elif dates[1] in [\"February\",\"Feby\",\"Febry\",\"FEB\",\"FEBRUARY\"]:\n",
    "                        dates[1]= \"February\"\n",
    "                    elif dates[1] in [\"March\",\"Mar\"]:\n",
    "                        dates[1]= \"March\"\n",
    "                    elif dates[1] in [\"April\",\"Apl\",\"Aprl\",\"APRIL\",\"Apr\"]:\n",
    "                        dates[1]= \"April\"\n",
    "                    elif dates[1] in [\"May\",\"MAY\"]:\n",
    "                        dates[1]= \"May\"\n",
    "                    elif dates[1] in [\"JUN\",\"Jun\",\"June\"]:\n",
    "                        dates[1]= \"June\"\n",
    "                    elif dates[1] in [\"JULY\",\"July\",\"JUL\"]:\n",
    "                        dates[1]= \"July\"\n",
    "                    if dates[0]== \"fifteenth\" :\n",
    "                        dates[0]=\"15\"\n",
    "                    elif (dates[0]==\"sixteenth\") |(dates[0]==\"This 16 \"):\n",
    "                        dates[0]=\"16\"\n",
    "                    elif dates[0]==\"Twenty\":\n",
    "                        dates[0]=\"20\" \n",
    "                    elif dates[0]==\"Twentyseventh\":\n",
    "                        dates[0]=\"27\" \n",
    "                    elif (dates[0]==\"Twenty Eighth\") |(dates[0]==\"TwentyEight\") |(dates[0]==\"TwentyEight \") |(dates[0]==\"Twentyeight\"):\n",
    "                        dates[0]=\"28\"\n",
    "                    elif (dates[0]==\"Ninth\") |(dates[0]==\"Ninth \")|(dates[0]==\"Augusta 9th \") |(dates[0]==\"ninth\") |(dates[0]==\"ninth \")|(dates[0]==\"Augusta 9th\"):\n",
    "                        dates[0]=\"9\"\n",
    "                    \n",
    "                    elif dates[0]=='Seventh':\n",
    "                        dates[0]=\"7\" \n",
    "                    elif (dates[0]=='The') |(dates[0]==\"The 9th\") :\n",
    "                        dates[0]=\"9\"\n",
    "                    elif dates[0]==\"the 9\" :\n",
    "                        dates[0]=\"9\"\n",
    "                    elif (dates[0]==\"Eighth \") |(dates[0]==\"Eighth\") |(dates[0]==\"eighth\") |(dates[0]==\"eighth \"):\n",
    "                        dates[0]=\"8\"\n",
    "                    elif dates[0]==\"Seventh \":\n",
    "                        dates[0]=\"7\"\n",
    "                    elif (dates[0]==\"Twenty ninth \")| (dates[0]==\"Twenty ninth\") | (dates[0]==\"twenty ninth \")|(dates[0]==\"Twenty Ninth \")|(dates[0]==\"Twenty Ninth\") :\n",
    "                        dates[0]=\"29\"\n",
    "                    elif (dates[0]==\"Thirty\") |(dates[0]==\"Thirty \") | (dates[0]==\"thirtieth \"):\n",
    "                        dates[0]=\"30\"\n",
    "                    elif (dates[0]==\"Thirty first \") |(dates[0]==\"Thirty first\"):\n",
    "                        dates[0]=\"31\"\n",
    "                  \n",
    "                    \n",
    "                    elif dates[0]==\"first \":\n",
    "                        dates[0]=\"1\"\n",
    "                    elif (dates[0]==\"Second \") |(dates[0]==\"Second\") |(dates[0]==\"second\")|(dates[0]==\"second \"):\n",
    "                        dates[0]=\"2\"\n",
    "                    elif dates[0]==\"fourth \":\n",
    "                        dates[0]=\"4\"\n",
    "                    elif dates[0]==\"tenth \":\n",
    "                        dates[0]=\"10\"\n",
    "                    elif (dates[0]==\"Fifth \")|(dates[0]==\"Fifth\") |(dates[0]==\"fifth \")|(dates[0]==\"fifth\"):\n",
    "                        dates[0]=\"5\"\n",
    "                    elif (dates[0]==\"This\") | (dates[0]==\"This 7th \")|(dates[0]==\"seventh \") |(dates[0]==\"seventh\") |(dates[0]==\"Seventh \"):\n",
    "                        dates[0]=\"7\"\n",
    "                    elif (dates[0]==\"This 31st\") |(dates[0]==\"Thirty-first \"):\n",
    "                        dates[0]=\"31\"\n",
    "                    elif (dates[0]==\"Thirtieth\") |(dates[0]==\"Thirtieth \") |(dates[0]==\"Thirty\"):\n",
    "                        dates[0]=\"30\"\n",
    "                    elif dates[0]==\"twenty fifth \":\n",
    "                        dates[0]=\"25\"\n",
    "                    elif dates[0]==\"Twenty seventh \":\n",
    "                        dates[0]=\"27\"\n",
    "                    elif (dates[0]==\"Twenty sixth \") |(dates[0]==\"Twentysixth \")|(dates[0]==\"Twentysixth\") |(dates[0]==\"twentysixth \"):\n",
    "                        dates[0]=\"26\"\n",
    "                    elif dates[0]==\"third \":\n",
    "                        dates[0]=\"3\" \n",
    "                    elif dates[0]==\"third\":\n",
    "                        dates[0]=\"3\"\n",
    "                    elif dates[0]==\"Third \":\n",
    "                        dates[0]=\"3\"\n",
    "                    elif dates[0]==\"Third\":\n",
    "                        dates[0]=\"3\"\n",
    "                    \n",
    "                    elif dates[0]==\"Tenth\":\n",
    "                        dates[0]=\"10\" \n",
    "                    elif dates[0]==\"Augusta\":\n",
    "                        dates[0]=\"9\" \n",
    "                    elif (dates[0]==\"this_sixth \")|(dates[0]==\"sixth \")| (dates[0]==\"Sixth\") | (dates[0]==\"Sixth \") |(dates[0]==\"this sixth \"):\n",
    "                        dates[0]=\"6\" \n",
    "                        \n",
    "                    elif dates[0]==\"Tenth \":\n",
    "                        dates[0]=\"10\"\n",
    "                    elif (dates[0]==\"twentieth\")|(dates[0]==\"This 20th \"):\n",
    "                        dates[0]=\"20\"\n",
    "                    elif (dates[0]==\"twenty fourth \") |(dates[0]==\"twenty fourth\") |(dates[0]==\"Twenty fourth \") |(dates[0]==\"Twenty fourth\"):\n",
    "                        dates[0]=\"24\"\n",
    "                    elif (dates[0]==\"fifteenth \") |(dates[0]==\"Fifteenth \") |(dates[0]==\"Fifteenth\"):\n",
    "                        dates[0]=\"15\"\n",
    "                    elif dates[0]==\"twentieth \":\n",
    "                        dates[0]=\"20\"\n",
    "                    elif dates[0]==\"Eighteenth \":\n",
    "                        dates[0]=\"18\"\n",
    "                    elif dates[0]==\"Eighteenth\":\n",
    "                        dates[0]=\"18\"\n",
    "                    elif (dates[0]==\"Nineteenth \") |(dates[0]==\"Nineteenth\"):\n",
    "                        dates[0]=\"19\"\n",
    "                    elif dates[0]==\"First \":\n",
    "                        dates[0]=\"1\"\n",
    "                    elif dates[0]==\"First\":\n",
    "                        dates[0]=\"1\"\n",
    "                    elif (dates[0]==\"Sixteenth \")|(dates[0]==\"this 16\") |(dates[0]==\"Sixteenth\"):\n",
    "                        dates[0]=\"16\"\n",
    "                   \n",
    "                    elif dates[0]==\"twenty third \":\n",
    "                        dates[0]=\"23\"\n",
    "                    elif dates[0]==\"twenty third\":\n",
    "                        dates[0]=\"23\"\n",
    "                    elif dates[0]==\"Twenty third \":\n",
    "                        dates[0]=\"23\"\n",
    "                    elif dates[0]==\"Twenty Second \":\n",
    "                        dates[0]=\"22\"\n",
    "                    elif dates[0]==\"Twenty Second\":\n",
    "                        dates[0]=\"22\"\n",
    "                    elif dates[0]==\"Twenty Eighth \":\n",
    "                        dates[0]=\"28\"\n",
    "                    elif dates[0]==\"Twentysenventh \":\n",
    "                        dates[0]=\"27\"\n",
    "                    elif dates[0]==\"twenty third \":\n",
    "                        dates[0]=\"23\"\n",
    "                    elif (dates[0]==\"twenty third\") |(dates[0]==\"Twentythird\")|(dates[0]==\"Twentythird \"):\n",
    "                        dates[0]=\"23\"\n",
    "                    elif (dates[0]==\"fourteenth \") | (dates[0]==\"fourteenth\") | (dates[0]==\"Fourteenth\") | (dates[0]==\"Fourteenth \"):\n",
    "                        dates[0]=\"14\"\n",
    "                    elif (dates[0]==\"Eleventh \") | (dates[0]==\"Eleventh\") |(dates[0]==\"eleventh \") :\n",
    "                        dates[0]=\"11\"\n",
    "                    elif (dates[0]==\"Thirteenth\") | (dates[0]==\"Thirteenth \") :\n",
    "                        dates[0]=\"13\"\n",
    "                    elif (dates[0]==\"seventeenth \") |(dates[0]==\"seventeenth\") |(dates[0]==\"Seventeenth \") :\n",
    "                        dates[0]=\"17\"\n",
    "                     \n",
    "                     \n",
    "                     \n",
    "                    \n",
    "                        \n",
    "                    j = dates[0]+\"-\"+dates[1]+\"-\"+dates[2]\n",
    "                    ng.append(j)\n",
    "            \n",
    "            \n",
    "    NG.append(ng)   "
   ]
  },
  {
   "cell_type": "markdown",
   "id": "ef9b8961",
   "metadata": {
    "papermill": {
     "duration": 0.032961,
     "end_time": "2022-06-10T15:19:57.904611",
     "exception": false,
     "start_time": "2022-06-10T15:19:57.871650",
     "status": "completed"
    },
    "tags": []
   },
   "source": [
    "# Final date "
   ]
  },
  {
   "cell_type": "code",
   "execution_count": 35,
   "id": "7404cf33",
   "metadata": {
    "execution": {
     "iopub.execute_input": "2022-06-10T15:19:57.971589Z",
     "iopub.status.busy": "2022-06-10T15:19:57.971156Z",
     "iopub.status.idle": "2022-06-10T15:19:57.975686Z",
     "shell.execute_reply": "2022-06-10T15:19:57.974618Z"
    },
    "papermill": {
     "duration": 0.040289,
     "end_time": "2022-06-10T15:19:57.977966",
     "exception": false,
     "start_time": "2022-06-10T15:19:57.937677",
     "status": "completed"
    },
    "tags": []
   },
   "outputs": [],
   "source": [
    "#NG"
   ]
  },
  {
   "cell_type": "code",
   "execution_count": 36,
   "id": "61f9d29c",
   "metadata": {
    "execution": {
     "iopub.execute_input": "2022-06-10T15:19:58.043938Z",
     "iopub.status.busy": "2022-06-10T15:19:58.043571Z",
     "iopub.status.idle": "2022-06-10T15:19:58.049230Z",
     "shell.execute_reply": "2022-06-10T15:19:58.048150Z"
    },
    "papermill": {
     "duration": 0.041214,
     "end_time": "2022-06-10T15:19:58.051579",
     "exception": false,
     "start_time": "2022-06-10T15:19:58.010365",
     "status": "completed"
    },
    "tags": []
   },
   "outputs": [],
   "source": [
    "Lg=[]\n",
    "for i in G:\n",
    "    for j in i:\n",
    "        Lg.append(j)"
   ]
  },
  {
   "cell_type": "code",
   "execution_count": 37,
   "id": "ab85e657",
   "metadata": {
    "execution": {
     "iopub.execute_input": "2022-06-10T15:19:58.117547Z",
     "iopub.status.busy": "2022-06-10T15:19:58.117233Z",
     "iopub.status.idle": "2022-06-10T15:19:58.123391Z",
     "shell.execute_reply": "2022-06-10T15:19:58.122340Z"
    },
    "papermill": {
     "duration": 0.042312,
     "end_time": "2022-06-10T15:19:58.125708",
     "exception": false,
     "start_time": "2022-06-10T15:19:58.083396",
     "status": "completed"
    },
    "tags": []
   },
   "outputs": [
    {
     "data": {
      "text/plain": [
       "3622"
      ]
     },
     "execution_count": 37,
     "metadata": {},
     "output_type": "execute_result"
    }
   ],
   "source": [
    "len(Lg)"
   ]
  },
  {
   "cell_type": "code",
   "execution_count": 38,
   "id": "a6e361e5",
   "metadata": {
    "execution": {
     "iopub.execute_input": "2022-06-10T15:19:58.192440Z",
     "iopub.status.busy": "2022-06-10T15:19:58.191532Z",
     "iopub.status.idle": "2022-06-10T15:19:58.197938Z",
     "shell.execute_reply": "2022-06-10T15:19:58.196476Z"
    },
    "papermill": {
     "duration": 0.042011,
     "end_time": "2022-06-10T15:19:58.200311",
     "exception": false,
     "start_time": "2022-06-10T15:19:58.158300",
     "status": "completed"
    },
    "tags": []
   },
   "outputs": [],
   "source": [
    "Lng=[]\n",
    "for i in G:\n",
    "    for j in i:\n",
    "        Lng.append(j)"
   ]
  },
  {
   "cell_type": "code",
   "execution_count": 39,
   "id": "f3a8499e",
   "metadata": {
    "execution": {
     "iopub.execute_input": "2022-06-10T15:19:58.267412Z",
     "iopub.status.busy": "2022-06-10T15:19:58.267014Z",
     "iopub.status.idle": "2022-06-10T15:19:58.273451Z",
     "shell.execute_reply": "2022-06-10T15:19:58.272391Z"
    },
    "papermill": {
     "duration": 0.042511,
     "end_time": "2022-06-10T15:19:58.275801",
     "exception": false,
     "start_time": "2022-06-10T15:19:58.233290",
     "status": "completed"
    },
    "tags": []
   },
   "outputs": [
    {
     "data": {
      "text/plain": [
       "3622"
      ]
     },
     "execution_count": 39,
     "metadata": {},
     "output_type": "execute_result"
    }
   ],
   "source": [
    "len(Lng)"
   ]
  },
  {
   "cell_type": "code",
   "execution_count": null,
   "id": "c03f57ce",
   "metadata": {
    "papermill": {
     "duration": 0.03274,
     "end_time": "2022-06-10T15:19:58.342840",
     "exception": false,
     "start_time": "2022-06-10T15:19:58.310100",
     "status": "completed"
    },
    "tags": []
   },
   "outputs": [],
   "source": []
  },
  {
   "cell_type": "code",
   "execution_count": null,
   "id": "a8a6e257",
   "metadata": {
    "papermill": {
     "duration": 0.032325,
     "end_time": "2022-06-10T15:19:58.408122",
     "exception": false,
     "start_time": "2022-06-10T15:19:58.375797",
     "status": "completed"
    },
    "tags": []
   },
   "outputs": [],
   "source": []
  },
  {
   "cell_type": "code",
   "execution_count": null,
   "id": "08a083cf",
   "metadata": {
    "papermill": {
     "duration": 0.032316,
     "end_time": "2022-06-10T15:19:58.472663",
     "exception": false,
     "start_time": "2022-06-10T15:19:58.440347",
     "status": "completed"
    },
    "tags": []
   },
   "outputs": [],
   "source": []
  }
 ],
 "metadata": {
  "kernelspec": {
   "display_name": "Python 3",
   "language": "python",
   "name": "python3"
  },
  "language_info": {
   "codemirror_mode": {
    "name": "ipython",
    "version": 3
   },
   "file_extension": ".py",
   "mimetype": "text/x-python",
   "name": "python",
   "nbconvert_exporter": "python",
   "pygments_lexer": "ipython3",
   "version": "3.7.12"
  },
  "papermill": {
   "default_parameters": {},
   "duration": 601.924142,
   "end_time": "2022-06-10T15:20:01.918694",
   "environment_variables": {},
   "exception": null,
   "input_path": "__notebook__.ipynb",
   "output_path": "__notebook__.ipynb",
   "parameters": {},
   "start_time": "2022-06-10T15:09:59.994552",
   "version": "2.3.4"
  },
  "widgets": {
   "application/vnd.jupyter.widget-state+json": {
    "state": {
     "030b4b1f17644a7bbcea7d428273ec28": {
      "model_module": "@jupyter-widgets/controls",
      "model_module_version": "1.5.0",
      "model_name": "HTMLModel",
      "state": {
       "_dom_classes": [],
       "_model_module": "@jupyter-widgets/controls",
       "_model_module_version": "1.5.0",
       "_model_name": "HTMLModel",
       "_view_count": null,
       "_view_module": "@jupyter-widgets/controls",
       "_view_module_version": "1.5.0",
       "_view_name": "HTMLView",
       "description": "",
       "description_tooltip": null,
       "layout": "IPY_MODEL_bfd33d5cb36c45be8caa6aa5e65ba03b",
       "placeholder": "​",
       "style": "IPY_MODEL_5e1210438a9a447b8ec5e3c6b4608e58",
       "value": "Downloading: 100%"
      }
     },
     "0a1de27389144a09954d134d07064688": {
      "model_module": "@jupyter-widgets/controls",
      "model_module_version": "1.5.0",
      "model_name": "ProgressStyleModel",
      "state": {
       "_model_module": "@jupyter-widgets/controls",
       "_model_module_version": "1.5.0",
       "_model_name": "ProgressStyleModel",
       "_view_count": null,
       "_view_module": "@jupyter-widgets/base",
       "_view_module_version": "1.2.0",
       "_view_name": "StyleView",
       "bar_color": null,
       "description_width": ""
      }
     },
     "0ad7c0bb599246bcaf57c0b40f595e11": {
      "model_module": "@jupyter-widgets/controls",
      "model_module_version": "1.5.0",
      "model_name": "HTMLModel",
      "state": {
       "_dom_classes": [],
       "_model_module": "@jupyter-widgets/controls",
       "_model_module_version": "1.5.0",
       "_model_name": "HTMLModel",
       "_view_count": null,
       "_view_module": "@jupyter-widgets/controls",
       "_view_module_version": "1.5.0",
       "_view_name": "HTMLView",
       "description": "",
       "description_tooltip": null,
       "layout": "IPY_MODEL_e526dc0d119f46a9b3851ce93effe130",
       "placeholder": "​",
       "style": "IPY_MODEL_ef3cdb7a91514629a4735186b9b29cf2",
       "value": " 8.68M/8.68M [00:00&lt;00:00, 17.6MB/s]"
      }
     },
     "0c7a7275dc6243c792e4f109dff6513f": {
      "model_module": "@jupyter-widgets/base",
      "model_module_version": "1.2.0",
      "model_name": "LayoutModel",
      "state": {
       "_model_module": "@jupyter-widgets/base",
       "_model_module_version": "1.2.0",
       "_model_name": "LayoutModel",
       "_view_count": null,
       "_view_module": "@jupyter-widgets/base",
       "_view_module_version": "1.2.0",
       "_view_name": "LayoutView",
       "align_content": null,
       "align_items": null,
       "align_self": null,
       "border": null,
       "bottom": null,
       "display": null,
       "flex": null,
       "flex_flow": null,
       "grid_area": null,
       "grid_auto_columns": null,
       "grid_auto_flow": null,
       "grid_auto_rows": null,
       "grid_column": null,
       "grid_gap": null,
       "grid_row": null,
       "grid_template_areas": null,
       "grid_template_columns": null,
       "grid_template_rows": null,
       "height": null,
       "justify_content": null,
       "justify_items": null,
       "left": null,
       "margin": null,
       "max_height": null,
       "max_width": null,
       "min_height": null,
       "min_width": null,
       "object_fit": null,
       "object_position": null,
       "order": null,
       "overflow": null,
       "overflow_x": null,
       "overflow_y": null,
       "padding": null,
       "right": null,
       "top": null,
       "visibility": null,
       "width": null
      }
     },
     "11f9112b95d0435c85a6b8c12e61569b": {
      "model_module": "@jupyter-widgets/base",
      "model_module_version": "1.2.0",
      "model_name": "LayoutModel",
      "state": {
       "_model_module": "@jupyter-widgets/base",
       "_model_module_version": "1.2.0",
       "_model_name": "LayoutModel",
       "_view_count": null,
       "_view_module": "@jupyter-widgets/base",
       "_view_module_version": "1.2.0",
       "_view_name": "LayoutView",
       "align_content": null,
       "align_items": null,
       "align_self": null,
       "border": null,
       "bottom": null,
       "display": null,
       "flex": null,
       "flex_flow": null,
       "grid_area": null,
       "grid_auto_columns": null,
       "grid_auto_flow": null,
       "grid_auto_rows": null,
       "grid_column": null,
       "grid_gap": null,
       "grid_row": null,
       "grid_template_areas": null,
       "grid_template_columns": null,
       "grid_template_rows": null,
       "height": null,
       "justify_content": null,
       "justify_items": null,
       "left": null,
       "margin": null,
       "max_height": null,
       "max_width": null,
       "min_height": null,
       "min_width": null,
       "object_fit": null,
       "object_position": null,
       "order": null,
       "overflow": null,
       "overflow_x": null,
       "overflow_y": null,
       "padding": null,
       "right": null,
       "top": null,
       "visibility": null,
       "width": null
      }
     },
     "14fe9a3dfd2246a9972788b1be92f341": {
      "model_module": "@jupyter-widgets/base",
      "model_module_version": "1.2.0",
      "model_name": "LayoutModel",
      "state": {
       "_model_module": "@jupyter-widgets/base",
       "_model_module_version": "1.2.0",
       "_model_name": "LayoutModel",
       "_view_count": null,
       "_view_module": "@jupyter-widgets/base",
       "_view_module_version": "1.2.0",
       "_view_name": "LayoutView",
       "align_content": null,
       "align_items": null,
       "align_self": null,
       "border": null,
       "bottom": null,
       "display": null,
       "flex": null,
       "flex_flow": null,
       "grid_area": null,
       "grid_auto_columns": null,
       "grid_auto_flow": null,
       "grid_auto_rows": null,
       "grid_column": null,
       "grid_gap": null,
       "grid_row": null,
       "grid_template_areas": null,
       "grid_template_columns": null,
       "grid_template_rows": null,
       "height": null,
       "justify_content": null,
       "justify_items": null,
       "left": null,
       "margin": null,
       "max_height": null,
       "max_width": null,
       "min_height": null,
       "min_width": null,
       "object_fit": null,
       "object_position": null,
       "order": null,
       "overflow": null,
       "overflow_x": null,
       "overflow_y": null,
       "padding": null,
       "right": null,
       "top": null,
       "visibility": null,
       "width": null
      }
     },
     "15a2fbf559b54e57a547943dad40d3b5": {
      "model_module": "@jupyter-widgets/base",
      "model_module_version": "1.2.0",
      "model_name": "LayoutModel",
      "state": {
       "_model_module": "@jupyter-widgets/base",
       "_model_module_version": "1.2.0",
       "_model_name": "LayoutModel",
       "_view_count": null,
       "_view_module": "@jupyter-widgets/base",
       "_view_module_version": "1.2.0",
       "_view_name": "LayoutView",
       "align_content": null,
       "align_items": null,
       "align_self": null,
       "border": null,
       "bottom": null,
       "display": null,
       "flex": null,
       "flex_flow": null,
       "grid_area": null,
       "grid_auto_columns": null,
       "grid_auto_flow": null,
       "grid_auto_rows": null,
       "grid_column": null,
       "grid_gap": null,
       "grid_row": null,
       "grid_template_areas": null,
       "grid_template_columns": null,
       "grid_template_rows": null,
       "height": null,
       "justify_content": null,
       "justify_items": null,
       "left": null,
       "margin": null,
       "max_height": null,
       "max_width": null,
       "min_height": null,
       "min_width": null,
       "object_fit": null,
       "object_position": null,
       "order": null,
       "overflow": null,
       "overflow_x": null,
       "overflow_y": null,
       "padding": null,
       "right": null,
       "top": null,
       "visibility": null,
       "width": null
      }
     },
     "1627764e0bdd408aa47d9d8b2edb0def": {
      "model_module": "@jupyter-widgets/base",
      "model_module_version": "1.2.0",
      "model_name": "LayoutModel",
      "state": {
       "_model_module": "@jupyter-widgets/base",
       "_model_module_version": "1.2.0",
       "_model_name": "LayoutModel",
       "_view_count": null,
       "_view_module": "@jupyter-widgets/base",
       "_view_module_version": "1.2.0",
       "_view_name": "LayoutView",
       "align_content": null,
       "align_items": null,
       "align_self": null,
       "border": null,
       "bottom": null,
       "display": null,
       "flex": null,
       "flex_flow": null,
       "grid_area": null,
       "grid_auto_columns": null,
       "grid_auto_flow": null,
       "grid_auto_rows": null,
       "grid_column": null,
       "grid_gap": null,
       "grid_row": null,
       "grid_template_areas": null,
       "grid_template_columns": null,
       "grid_template_rows": null,
       "height": null,
       "justify_content": null,
       "justify_items": null,
       "left": null,
       "margin": null,
       "max_height": null,
       "max_width": null,
       "min_height": null,
       "min_width": null,
       "object_fit": null,
       "object_position": null,
       "order": null,
       "overflow": null,
       "overflow_x": null,
       "overflow_y": null,
       "padding": null,
       "right": null,
       "top": null,
       "visibility": null,
       "width": null
      }
     },
     "1aa4d75c5dd34811a9a6caa340f2b31f": {
      "model_module": "@jupyter-widgets/controls",
      "model_module_version": "1.5.0",
      "model_name": "DescriptionStyleModel",
      "state": {
       "_model_module": "@jupyter-widgets/controls",
       "_model_module_version": "1.5.0",
       "_model_name": "DescriptionStyleModel",
       "_view_count": null,
       "_view_module": "@jupyter-widgets/base",
       "_view_module_version": "1.2.0",
       "_view_name": "StyleView",
       "description_width": ""
      }
     },
     "1e3cd541949b449d87bb62f30ba117cb": {
      "model_module": "@jupyter-widgets/base",
      "model_module_version": "1.2.0",
      "model_name": "LayoutModel",
      "state": {
       "_model_module": "@jupyter-widgets/base",
       "_model_module_version": "1.2.0",
       "_model_name": "LayoutModel",
       "_view_count": null,
       "_view_module": "@jupyter-widgets/base",
       "_view_module_version": "1.2.0",
       "_view_name": "LayoutView",
       "align_content": null,
       "align_items": null,
       "align_self": null,
       "border": null,
       "bottom": null,
       "display": null,
       "flex": null,
       "flex_flow": null,
       "grid_area": null,
       "grid_auto_columns": null,
       "grid_auto_flow": null,
       "grid_auto_rows": null,
       "grid_column": null,
       "grid_gap": null,
       "grid_row": null,
       "grid_template_areas": null,
       "grid_template_columns": null,
       "grid_template_rows": null,
       "height": null,
       "justify_content": null,
       "justify_items": null,
       "left": null,
       "margin": null,
       "max_height": null,
       "max_width": null,
       "min_height": null,
       "min_width": null,
       "object_fit": null,
       "object_position": null,
       "order": null,
       "overflow": null,
       "overflow_x": null,
       "overflow_y": null,
       "padding": null,
       "right": null,
       "top": null,
       "visibility": null,
       "width": null
      }
     },
     "1f87ecb89acf4859840d61743b561f74": {
      "model_module": "@jupyter-widgets/base",
      "model_module_version": "1.2.0",
      "model_name": "LayoutModel",
      "state": {
       "_model_module": "@jupyter-widgets/base",
       "_model_module_version": "1.2.0",
       "_model_name": "LayoutModel",
       "_view_count": null,
       "_view_module": "@jupyter-widgets/base",
       "_view_module_version": "1.2.0",
       "_view_name": "LayoutView",
       "align_content": null,
       "align_items": null,
       "align_self": null,
       "border": null,
       "bottom": null,
       "display": null,
       "flex": null,
       "flex_flow": null,
       "grid_area": null,
       "grid_auto_columns": null,
       "grid_auto_flow": null,
       "grid_auto_rows": null,
       "grid_column": null,
       "grid_gap": null,
       "grid_row": null,
       "grid_template_areas": null,
       "grid_template_columns": null,
       "grid_template_rows": null,
       "height": null,
       "justify_content": null,
       "justify_items": null,
       "left": null,
       "margin": null,
       "max_height": null,
       "max_width": null,
       "min_height": null,
       "min_width": null,
       "object_fit": null,
       "object_position": null,
       "order": null,
       "overflow": null,
       "overflow_x": null,
       "overflow_y": null,
       "padding": null,
       "right": null,
       "top": null,
       "visibility": null,
       "width": null
      }
     },
     "20235c97c1f94d2da4bfab1d10e66bfe": {
      "model_module": "@jupyter-widgets/base",
      "model_module_version": "1.2.0",
      "model_name": "LayoutModel",
      "state": {
       "_model_module": "@jupyter-widgets/base",
       "_model_module_version": "1.2.0",
       "_model_name": "LayoutModel",
       "_view_count": null,
       "_view_module": "@jupyter-widgets/base",
       "_view_module_version": "1.2.0",
       "_view_name": "LayoutView",
       "align_content": null,
       "align_items": null,
       "align_self": null,
       "border": null,
       "bottom": null,
       "display": null,
       "flex": null,
       "flex_flow": null,
       "grid_area": null,
       "grid_auto_columns": null,
       "grid_auto_flow": null,
       "grid_auto_rows": null,
       "grid_column": null,
       "grid_gap": null,
       "grid_row": null,
       "grid_template_areas": null,
       "grid_template_columns": null,
       "grid_template_rows": null,
       "height": null,
       "justify_content": null,
       "justify_items": null,
       "left": null,
       "margin": null,
       "max_height": null,
       "max_width": null,
       "min_height": null,
       "min_width": null,
       "object_fit": null,
       "object_position": null,
       "order": null,
       "overflow": null,
       "overflow_x": null,
       "overflow_y": null,
       "padding": null,
       "right": null,
       "top": null,
       "visibility": null,
       "width": null
      }
     },
     "277500dc83e6433dbace2403788a6219": {
      "model_module": "@jupyter-widgets/controls",
      "model_module_version": "1.5.0",
      "model_name": "HBoxModel",
      "state": {
       "_dom_classes": [],
       "_model_module": "@jupyter-widgets/controls",
       "_model_module_version": "1.5.0",
       "_model_name": "HBoxModel",
       "_view_count": null,
       "_view_module": "@jupyter-widgets/controls",
       "_view_module_version": "1.5.0",
       "_view_name": "HBoxView",
       "box_style": "",
       "children": [
        "IPY_MODEL_3a92147822e4432f9f9b7537fb7f2e7c",
        "IPY_MODEL_e294d1c8d0b644ec81bc4af2fdb7dcc4",
        "IPY_MODEL_0ad7c0bb599246bcaf57c0b40f595e11"
       ],
       "layout": "IPY_MODEL_11f9112b95d0435c85a6b8c12e61569b"
      }
     },
     "28f45036d7fe49bb9caca8693634aa57": {
      "model_module": "@jupyter-widgets/base",
      "model_module_version": "1.2.0",
      "model_name": "LayoutModel",
      "state": {
       "_model_module": "@jupyter-widgets/base",
       "_model_module_version": "1.2.0",
       "_model_name": "LayoutModel",
       "_view_count": null,
       "_view_module": "@jupyter-widgets/base",
       "_view_module_version": "1.2.0",
       "_view_name": "LayoutView",
       "align_content": null,
       "align_items": null,
       "align_self": null,
       "border": null,
       "bottom": null,
       "display": null,
       "flex": null,
       "flex_flow": null,
       "grid_area": null,
       "grid_auto_columns": null,
       "grid_auto_flow": null,
       "grid_auto_rows": null,
       "grid_column": null,
       "grid_gap": null,
       "grid_row": null,
       "grid_template_areas": null,
       "grid_template_columns": null,
       "grid_template_rows": null,
       "height": null,
       "justify_content": null,
       "justify_items": null,
       "left": null,
       "margin": null,
       "max_height": null,
       "max_width": null,
       "min_height": null,
       "min_width": null,
       "object_fit": null,
       "object_position": null,
       "order": null,
       "overflow": null,
       "overflow_x": null,
       "overflow_y": null,
       "padding": null,
       "right": null,
       "top": null,
       "visibility": null,
       "width": null
      }
     },
     "2fe8e75b4f694c929706e981c6ad6caf": {
      "model_module": "@jupyter-widgets/controls",
      "model_module_version": "1.5.0",
      "model_name": "ProgressStyleModel",
      "state": {
       "_model_module": "@jupyter-widgets/controls",
       "_model_module_version": "1.5.0",
       "_model_name": "ProgressStyleModel",
       "_view_count": null,
       "_view_module": "@jupyter-widgets/base",
       "_view_module_version": "1.2.0",
       "_view_name": "StyleView",
       "bar_color": null,
       "description_width": ""
      }
     },
     "344fc23f2de244debee72c0cd9a30bd6": {
      "model_module": "@jupyter-widgets/base",
      "model_module_version": "1.2.0",
      "model_name": "LayoutModel",
      "state": {
       "_model_module": "@jupyter-widgets/base",
       "_model_module_version": "1.2.0",
       "_model_name": "LayoutModel",
       "_view_count": null,
       "_view_module": "@jupyter-widgets/base",
       "_view_module_version": "1.2.0",
       "_view_name": "LayoutView",
       "align_content": null,
       "align_items": null,
       "align_self": null,
       "border": null,
       "bottom": null,
       "display": null,
       "flex": null,
       "flex_flow": null,
       "grid_area": null,
       "grid_auto_columns": null,
       "grid_auto_flow": null,
       "grid_auto_rows": null,
       "grid_column": null,
       "grid_gap": null,
       "grid_row": null,
       "grid_template_areas": null,
       "grid_template_columns": null,
       "grid_template_rows": null,
       "height": null,
       "justify_content": null,
       "justify_items": null,
       "left": null,
       "margin": null,
       "max_height": null,
       "max_width": null,
       "min_height": null,
       "min_width": null,
       "object_fit": null,
       "object_position": null,
       "order": null,
       "overflow": null,
       "overflow_x": null,
       "overflow_y": null,
       "padding": null,
       "right": null,
       "top": null,
       "visibility": null,
       "width": null
      }
     },
     "3a92147822e4432f9f9b7537fb7f2e7c": {
      "model_module": "@jupyter-widgets/controls",
      "model_module_version": "1.5.0",
      "model_name": "HTMLModel",
      "state": {
       "_dom_classes": [],
       "_model_module": "@jupyter-widgets/controls",
       "_model_module_version": "1.5.0",
       "_model_name": "HTMLModel",
       "_view_count": null,
       "_view_module": "@jupyter-widgets/controls",
       "_view_module_version": "1.5.0",
       "_view_name": "HTMLView",
       "description": "",
       "description_tooltip": null,
       "layout": "IPY_MODEL_dbafff553b794673a2986afe6bb33087",
       "placeholder": "​",
       "style": "IPY_MODEL_99849541daf14828a57a4a373cfc5f68",
       "value": "Downloading: 100%"
      }
     },
     "3ac40a9f73ac4e079255260faaa6e730": {
      "model_module": "@jupyter-widgets/base",
      "model_module_version": "1.2.0",
      "model_name": "LayoutModel",
      "state": {
       "_model_module": "@jupyter-widgets/base",
       "_model_module_version": "1.2.0",
       "_model_name": "LayoutModel",
       "_view_count": null,
       "_view_module": "@jupyter-widgets/base",
       "_view_module_version": "1.2.0",
       "_view_name": "LayoutView",
       "align_content": null,
       "align_items": null,
       "align_self": null,
       "border": null,
       "bottom": null,
       "display": null,
       "flex": null,
       "flex_flow": null,
       "grid_area": null,
       "grid_auto_columns": null,
       "grid_auto_flow": null,
       "grid_auto_rows": null,
       "grid_column": null,
       "grid_gap": null,
       "grid_row": null,
       "grid_template_areas": null,
       "grid_template_columns": null,
       "grid_template_rows": null,
       "height": null,
       "justify_content": null,
       "justify_items": null,
       "left": null,
       "margin": null,
       "max_height": null,
       "max_width": null,
       "min_height": null,
       "min_width": null,
       "object_fit": null,
       "object_position": null,
       "order": null,
       "overflow": null,
       "overflow_x": null,
       "overflow_y": null,
       "padding": null,
       "right": null,
       "top": null,
       "visibility": null,
       "width": null
      }
     },
     "433e2295646d4c53ab8e8e79e28f36ce": {
      "model_module": "@jupyter-widgets/controls",
      "model_module_version": "1.5.0",
      "model_name": "DescriptionStyleModel",
      "state": {
       "_model_module": "@jupyter-widgets/controls",
       "_model_module_version": "1.5.0",
       "_model_name": "DescriptionStyleModel",
       "_view_count": null,
       "_view_module": "@jupyter-widgets/base",
       "_view_module_version": "1.2.0",
       "_view_name": "StyleView",
       "description_width": ""
      }
     },
     "4a19bd850cb04fd68c4860ae76d24bcc": {
      "model_module": "@jupyter-widgets/base",
      "model_module_version": "1.2.0",
      "model_name": "LayoutModel",
      "state": {
       "_model_module": "@jupyter-widgets/base",
       "_model_module_version": "1.2.0",
       "_model_name": "LayoutModel",
       "_view_count": null,
       "_view_module": "@jupyter-widgets/base",
       "_view_module_version": "1.2.0",
       "_view_name": "LayoutView",
       "align_content": null,
       "align_items": null,
       "align_self": null,
       "border": null,
       "bottom": null,
       "display": null,
       "flex": null,
       "flex_flow": null,
       "grid_area": null,
       "grid_auto_columns": null,
       "grid_auto_flow": null,
       "grid_auto_rows": null,
       "grid_column": null,
       "grid_gap": null,
       "grid_row": null,
       "grid_template_areas": null,
       "grid_template_columns": null,
       "grid_template_rows": null,
       "height": null,
       "justify_content": null,
       "justify_items": null,
       "left": null,
       "margin": null,
       "max_height": null,
       "max_width": null,
       "min_height": null,
       "min_width": null,
       "object_fit": null,
       "object_position": null,
       "order": null,
       "overflow": null,
       "overflow_x": null,
       "overflow_y": null,
       "padding": null,
       "right": null,
       "top": null,
       "visibility": null,
       "width": null
      }
     },
     "4bec5369b85e4d33916d0caad9089f05": {
      "model_module": "@jupyter-widgets/base",
      "model_module_version": "1.2.0",
      "model_name": "LayoutModel",
      "state": {
       "_model_module": "@jupyter-widgets/base",
       "_model_module_version": "1.2.0",
       "_model_name": "LayoutModel",
       "_view_count": null,
       "_view_module": "@jupyter-widgets/base",
       "_view_module_version": "1.2.0",
       "_view_name": "LayoutView",
       "align_content": null,
       "align_items": null,
       "align_self": null,
       "border": null,
       "bottom": null,
       "display": null,
       "flex": null,
       "flex_flow": null,
       "grid_area": null,
       "grid_auto_columns": null,
       "grid_auto_flow": null,
       "grid_auto_rows": null,
       "grid_column": null,
       "grid_gap": null,
       "grid_row": null,
       "grid_template_areas": null,
       "grid_template_columns": null,
       "grid_template_rows": null,
       "height": null,
       "justify_content": null,
       "justify_items": null,
       "left": null,
       "margin": null,
       "max_height": null,
       "max_width": null,
       "min_height": null,
       "min_width": null,
       "object_fit": null,
       "object_position": null,
       "order": null,
       "overflow": null,
       "overflow_x": null,
       "overflow_y": null,
       "padding": null,
       "right": null,
       "top": null,
       "visibility": null,
       "width": null
      }
     },
     "5b3f4d2054aa4218ab6185fcb4c6ebe3": {
      "model_module": "@jupyter-widgets/controls",
      "model_module_version": "1.5.0",
      "model_name": "DescriptionStyleModel",
      "state": {
       "_model_module": "@jupyter-widgets/controls",
       "_model_module_version": "1.5.0",
       "_model_name": "DescriptionStyleModel",
       "_view_count": null,
       "_view_module": "@jupyter-widgets/base",
       "_view_module_version": "1.2.0",
       "_view_name": "StyleView",
       "description_width": ""
      }
     },
     "5e1210438a9a447b8ec5e3c6b4608e58": {
      "model_module": "@jupyter-widgets/controls",
      "model_module_version": "1.5.0",
      "model_name": "DescriptionStyleModel",
      "state": {
       "_model_module": "@jupyter-widgets/controls",
       "_model_module_version": "1.5.0",
       "_model_name": "DescriptionStyleModel",
       "_view_count": null,
       "_view_module": "@jupyter-widgets/base",
       "_view_module_version": "1.2.0",
       "_view_name": "StyleView",
       "description_width": ""
      }
     },
     "66a9eee3f40540bc99a14d1eb73629db": {
      "model_module": "@jupyter-widgets/base",
      "model_module_version": "1.2.0",
      "model_name": "LayoutModel",
      "state": {
       "_model_module": "@jupyter-widgets/base",
       "_model_module_version": "1.2.0",
       "_model_name": "LayoutModel",
       "_view_count": null,
       "_view_module": "@jupyter-widgets/base",
       "_view_module_version": "1.2.0",
       "_view_name": "LayoutView",
       "align_content": null,
       "align_items": null,
       "align_self": null,
       "border": null,
       "bottom": null,
       "display": null,
       "flex": null,
       "flex_flow": null,
       "grid_area": null,
       "grid_auto_columns": null,
       "grid_auto_flow": null,
       "grid_auto_rows": null,
       "grid_column": null,
       "grid_gap": null,
       "grid_row": null,
       "grid_template_areas": null,
       "grid_template_columns": null,
       "grid_template_rows": null,
       "height": null,
       "justify_content": null,
       "justify_items": null,
       "left": null,
       "margin": null,
       "max_height": null,
       "max_width": null,
       "min_height": null,
       "min_width": null,
       "object_fit": null,
       "object_position": null,
       "order": null,
       "overflow": null,
       "overflow_x": null,
       "overflow_y": null,
       "padding": null,
       "right": null,
       "top": null,
       "visibility": null,
       "width": null
      }
     },
     "694a596b552848cb8a1579b2b8235acc": {
      "model_module": "@jupyter-widgets/base",
      "model_module_version": "1.2.0",
      "model_name": "LayoutModel",
      "state": {
       "_model_module": "@jupyter-widgets/base",
       "_model_module_version": "1.2.0",
       "_model_name": "LayoutModel",
       "_view_count": null,
       "_view_module": "@jupyter-widgets/base",
       "_view_module_version": "1.2.0",
       "_view_name": "LayoutView",
       "align_content": null,
       "align_items": null,
       "align_self": null,
       "border": null,
       "bottom": null,
       "display": null,
       "flex": null,
       "flex_flow": null,
       "grid_area": null,
       "grid_auto_columns": null,
       "grid_auto_flow": null,
       "grid_auto_rows": null,
       "grid_column": null,
       "grid_gap": null,
       "grid_row": null,
       "grid_template_areas": null,
       "grid_template_columns": null,
       "grid_template_rows": null,
       "height": null,
       "justify_content": null,
       "justify_items": null,
       "left": null,
       "margin": null,
       "max_height": null,
       "max_width": null,
       "min_height": null,
       "min_width": null,
       "object_fit": null,
       "object_position": null,
       "order": null,
       "overflow": null,
       "overflow_x": null,
       "overflow_y": null,
       "padding": null,
       "right": null,
       "top": null,
       "visibility": null,
       "width": null
      }
     },
     "7142738f96b64883b9cbb057763d4749": {
      "model_module": "@jupyter-widgets/controls",
      "model_module_version": "1.5.0",
      "model_name": "DescriptionStyleModel",
      "state": {
       "_model_module": "@jupyter-widgets/controls",
       "_model_module_version": "1.5.0",
       "_model_name": "DescriptionStyleModel",
       "_view_count": null,
       "_view_module": "@jupyter-widgets/base",
       "_view_module_version": "1.2.0",
       "_view_name": "StyleView",
       "description_width": ""
      }
     },
     "716190af6af1431e8bc701628d2be231": {
      "model_module": "@jupyter-widgets/base",
      "model_module_version": "1.2.0",
      "model_name": "LayoutModel",
      "state": {
       "_model_module": "@jupyter-widgets/base",
       "_model_module_version": "1.2.0",
       "_model_name": "LayoutModel",
       "_view_count": null,
       "_view_module": "@jupyter-widgets/base",
       "_view_module_version": "1.2.0",
       "_view_name": "LayoutView",
       "align_content": null,
       "align_items": null,
       "align_self": null,
       "border": null,
       "bottom": null,
       "display": null,
       "flex": null,
       "flex_flow": null,
       "grid_area": null,
       "grid_auto_columns": null,
       "grid_auto_flow": null,
       "grid_auto_rows": null,
       "grid_column": null,
       "grid_gap": null,
       "grid_row": null,
       "grid_template_areas": null,
       "grid_template_columns": null,
       "grid_template_rows": null,
       "height": null,
       "justify_content": null,
       "justify_items": null,
       "left": null,
       "margin": null,
       "max_height": null,
       "max_width": null,
       "min_height": null,
       "min_width": null,
       "object_fit": null,
       "object_position": null,
       "order": null,
       "overflow": null,
       "overflow_x": null,
       "overflow_y": null,
       "padding": null,
       "right": null,
       "top": null,
       "visibility": null,
       "width": null
      }
     },
     "722bb41e265f418b878230a27ed5e95d": {
      "model_module": "@jupyter-widgets/controls",
      "model_module_version": "1.5.0",
      "model_name": "HTMLModel",
      "state": {
       "_dom_classes": [],
       "_model_module": "@jupyter-widgets/controls",
       "_model_module_version": "1.5.0",
       "_model_name": "HTMLModel",
       "_view_count": null,
       "_view_module": "@jupyter-widgets/controls",
       "_view_module_version": "1.5.0",
       "_view_name": "HTMLView",
       "description": "",
       "description_tooltip": null,
       "layout": "IPY_MODEL_4a19bd850cb04fd68c4860ae76d24bcc",
       "placeholder": "​",
       "style": "IPY_MODEL_9a9b1b864e8143ff8a976f8d86cfbe94",
       "value": "Downloading: 100%"
      }
     },
     "79a48ce790a94a9eb8d39aac2e0bfb4b": {
      "model_module": "@jupyter-widgets/base",
      "model_module_version": "1.2.0",
      "model_name": "LayoutModel",
      "state": {
       "_model_module": "@jupyter-widgets/base",
       "_model_module_version": "1.2.0",
       "_model_name": "LayoutModel",
       "_view_count": null,
       "_view_module": "@jupyter-widgets/base",
       "_view_module_version": "1.2.0",
       "_view_name": "LayoutView",
       "align_content": null,
       "align_items": null,
       "align_self": null,
       "border": null,
       "bottom": null,
       "display": null,
       "flex": null,
       "flex_flow": null,
       "grid_area": null,
       "grid_auto_columns": null,
       "grid_auto_flow": null,
       "grid_auto_rows": null,
       "grid_column": null,
       "grid_gap": null,
       "grid_row": null,
       "grid_template_areas": null,
       "grid_template_columns": null,
       "grid_template_rows": null,
       "height": null,
       "justify_content": null,
       "justify_items": null,
       "left": null,
       "margin": null,
       "max_height": null,
       "max_width": null,
       "min_height": null,
       "min_width": null,
       "object_fit": null,
       "object_position": null,
       "order": null,
       "overflow": null,
       "overflow_x": null,
       "overflow_y": null,
       "padding": null,
       "right": null,
       "top": null,
       "visibility": null,
       "width": null
      }
     },
     "817997329f464074864784a22988991b": {
      "model_module": "@jupyter-widgets/base",
      "model_module_version": "1.2.0",
      "model_name": "LayoutModel",
      "state": {
       "_model_module": "@jupyter-widgets/base",
       "_model_module_version": "1.2.0",
       "_model_name": "LayoutModel",
       "_view_count": null,
       "_view_module": "@jupyter-widgets/base",
       "_view_module_version": "1.2.0",
       "_view_name": "LayoutView",
       "align_content": null,
       "align_items": null,
       "align_self": null,
       "border": null,
       "bottom": null,
       "display": null,
       "flex": null,
       "flex_flow": null,
       "grid_area": null,
       "grid_auto_columns": null,
       "grid_auto_flow": null,
       "grid_auto_rows": null,
       "grid_column": null,
       "grid_gap": null,
       "grid_row": null,
       "grid_template_areas": null,
       "grid_template_columns": null,
       "grid_template_rows": null,
       "height": null,
       "justify_content": null,
       "justify_items": null,
       "left": null,
       "margin": null,
       "max_height": null,
       "max_width": null,
       "min_height": null,
       "min_width": null,
       "object_fit": null,
       "object_position": null,
       "order": null,
       "overflow": null,
       "overflow_x": null,
       "overflow_y": null,
       "padding": null,
       "right": null,
       "top": null,
       "visibility": null,
       "width": null
      }
     },
     "81e75fc9d7da43718060d6f044ba93cc": {
      "model_module": "@jupyter-widgets/controls",
      "model_module_version": "1.5.0",
      "model_name": "HBoxModel",
      "state": {
       "_dom_classes": [],
       "_model_module": "@jupyter-widgets/controls",
       "_model_module_version": "1.5.0",
       "_model_name": "HBoxModel",
       "_view_count": null,
       "_view_module": "@jupyter-widgets/controls",
       "_view_module_version": "1.5.0",
       "_view_name": "HBoxView",
       "box_style": "",
       "children": [
        "IPY_MODEL_030b4b1f17644a7bbcea7d428273ec28",
        "IPY_MODEL_a2fbd4278fee489c88eb1f369df4f54a",
        "IPY_MODEL_92b23a2914ff40ffacf3a85c549ad035"
       ],
       "layout": "IPY_MODEL_1627764e0bdd408aa47d9d8b2edb0def"
      }
     },
     "8253df1e8a734a529161e69b55a7b314": {
      "model_module": "@jupyter-widgets/controls",
      "model_module_version": "1.5.0",
      "model_name": "HTMLModel",
      "state": {
       "_dom_classes": [],
       "_model_module": "@jupyter-widgets/controls",
       "_model_module_version": "1.5.0",
       "_model_name": "HTMLModel",
       "_view_count": null,
       "_view_module": "@jupyter-widgets/controls",
       "_view_module_version": "1.5.0",
       "_view_name": "HTMLView",
       "description": "",
       "description_tooltip": null,
       "layout": "IPY_MODEL_716190af6af1431e8bc701628d2be231",
       "placeholder": "​",
       "style": "IPY_MODEL_7142738f96b64883b9cbb057763d4749",
       "value": "Downloading: 100%"
      }
     },
     "86120397267c4c8daf6b349737768748": {
      "model_module": "@jupyter-widgets/controls",
      "model_module_version": "1.5.0",
      "model_name": "HTMLModel",
      "state": {
       "_dom_classes": [],
       "_model_module": "@jupyter-widgets/controls",
       "_model_module_version": "1.5.0",
       "_model_name": "HTMLModel",
       "_view_count": null,
       "_view_module": "@jupyter-widgets/controls",
       "_view_module_version": "1.5.0",
       "_view_name": "HTMLView",
       "description": "",
       "description_tooltip": null,
       "layout": "IPY_MODEL_817997329f464074864784a22988991b",
       "placeholder": "​",
       "style": "IPY_MODEL_d6179e4f79044c1385f09521c4e4efb3",
       "value": "Downloading: 100%"
      }
     },
     "8617d6ca0b794f8aa4c2e2c844b72764": {
      "model_module": "@jupyter-widgets/controls",
      "model_module_version": "1.5.0",
      "model_name": "ProgressStyleModel",
      "state": {
       "_model_module": "@jupyter-widgets/controls",
       "_model_module_version": "1.5.0",
       "_model_name": "ProgressStyleModel",
       "_view_count": null,
       "_view_module": "@jupyter-widgets/base",
       "_view_module_version": "1.2.0",
       "_view_name": "StyleView",
       "bar_color": null,
       "description_width": ""
      }
     },
     "8a93f2d2e151481d824a9ab2255bc624": {
      "model_module": "@jupyter-widgets/controls",
      "model_module_version": "1.5.0",
      "model_name": "FloatProgressModel",
      "state": {
       "_dom_classes": [],
       "_model_module": "@jupyter-widgets/controls",
       "_model_module_version": "1.5.0",
       "_model_name": "FloatProgressModel",
       "_view_count": null,
       "_view_module": "@jupyter-widgets/controls",
       "_view_module_version": "1.5.0",
       "_view_name": "ProgressView",
       "bar_style": "success",
       "description": "",
       "description_tooltip": null,
       "layout": "IPY_MODEL_28f45036d7fe49bb9caca8693634aa57",
       "max": 5069051.0,
       "min": 0.0,
       "orientation": "horizontal",
       "style": "IPY_MODEL_a379e79ef1954ecc8e2dd3e171d07c13",
       "value": 5069051.0
      }
     },
     "8afdcb0e591e4c8d81f01e259071261e": {
      "model_module": "@jupyter-widgets/controls",
      "model_module_version": "1.5.0",
      "model_name": "HTMLModel",
      "state": {
       "_dom_classes": [],
       "_model_module": "@jupyter-widgets/controls",
       "_model_module_version": "1.5.0",
       "_model_name": "HTMLModel",
       "_view_count": null,
       "_view_module": "@jupyter-widgets/controls",
       "_view_module_version": "1.5.0",
       "_view_name": "HTMLView",
       "description": "",
       "description_tooltip": null,
       "layout": "IPY_MODEL_14fe9a3dfd2246a9972788b1be92f341",
       "placeholder": "​",
       "style": "IPY_MODEL_433e2295646d4c53ab8e8e79e28f36ce",
       "value": " 2.24G/2.24G [01:17&lt;00:00, 32.7MB/s]"
      }
     },
     "8f439519f0d74daaab16bf14068f535a": {
      "model_module": "@jupyter-widgets/controls",
      "model_module_version": "1.5.0",
      "model_name": "ProgressStyleModel",
      "state": {
       "_model_module": "@jupyter-widgets/controls",
       "_model_module_version": "1.5.0",
       "_model_name": "ProgressStyleModel",
       "_view_count": null,
       "_view_module": "@jupyter-widgets/base",
       "_view_module_version": "1.2.0",
       "_view_name": "StyleView",
       "bar_color": null,
       "description_width": ""
      }
     },
     "8faa031392424e488cdeab8a0379ea3c": {
      "model_module": "@jupyter-widgets/controls",
      "model_module_version": "1.5.0",
      "model_name": "HBoxModel",
      "state": {
       "_dom_classes": [],
       "_model_module": "@jupyter-widgets/controls",
       "_model_module_version": "1.5.0",
       "_model_name": "HBoxModel",
       "_view_count": null,
       "_view_module": "@jupyter-widgets/controls",
       "_view_module_version": "1.5.0",
       "_view_name": "HBoxView",
       "box_style": "",
       "children": [
        "IPY_MODEL_a60d9c4baac14d03bd04d1dff6263e22",
        "IPY_MODEL_c54776d5cc0a458b8b6dd27bad5a03f2",
        "IPY_MODEL_8afdcb0e591e4c8d81f01e259071261e"
       ],
       "layout": "IPY_MODEL_694a596b552848cb8a1579b2b8235acc"
      }
     },
     "92b23a2914ff40ffacf3a85c549ad035": {
      "model_module": "@jupyter-widgets/controls",
      "model_module_version": "1.5.0",
      "model_name": "HTMLModel",
      "state": {
       "_dom_classes": [],
       "_model_module": "@jupyter-widgets/controls",
       "_model_module_version": "1.5.0",
       "_model_name": "HTMLModel",
       "_view_count": null,
       "_view_module": "@jupyter-widgets/controls",
       "_view_module_version": "1.5.0",
       "_view_name": "HTMLView",
       "description": "",
       "description_tooltip": null,
       "layout": "IPY_MODEL_15a2fbf559b54e57a547943dad40d3b5",
       "placeholder": "​",
       "style": "IPY_MODEL_1aa4d75c5dd34811a9a6caa340f2b31f",
       "value": " 432M/432M [00:13&lt;00:00, 32.4MB/s]"
      }
     },
     "99849541daf14828a57a4a373cfc5f68": {
      "model_module": "@jupyter-widgets/controls",
      "model_module_version": "1.5.0",
      "model_name": "DescriptionStyleModel",
      "state": {
       "_model_module": "@jupyter-widgets/controls",
       "_model_module_version": "1.5.0",
       "_model_name": "DescriptionStyleModel",
       "_view_count": null,
       "_view_module": "@jupyter-widgets/base",
       "_view_module_version": "1.2.0",
       "_view_name": "StyleView",
       "description_width": ""
      }
     },
     "9a9b1b864e8143ff8a976f8d86cfbe94": {
      "model_module": "@jupyter-widgets/controls",
      "model_module_version": "1.5.0",
      "model_name": "DescriptionStyleModel",
      "state": {
       "_model_module": "@jupyter-widgets/controls",
       "_model_module_version": "1.5.0",
       "_model_name": "DescriptionStyleModel",
       "_view_count": null,
       "_view_module": "@jupyter-widgets/base",
       "_view_module_version": "1.2.0",
       "_view_name": "StyleView",
       "description_width": ""
      }
     },
     "a2fbd4278fee489c88eb1f369df4f54a": {
      "model_module": "@jupyter-widgets/controls",
      "model_module_version": "1.5.0",
      "model_name": "FloatProgressModel",
      "state": {
       "_dom_classes": [],
       "_model_module": "@jupyter-widgets/controls",
       "_model_module_version": "1.5.0",
       "_model_name": "FloatProgressModel",
       "_view_count": null,
       "_view_module": "@jupyter-widgets/controls",
       "_view_module_version": "1.5.0",
       "_view_name": "ProgressView",
       "bar_style": "success",
       "description": "",
       "description_tooltip": null,
       "layout": "IPY_MODEL_4bec5369b85e4d33916d0caad9089f05",
       "max": 432176557.0,
       "min": 0.0,
       "orientation": "horizontal",
       "style": "IPY_MODEL_0a1de27389144a09954d134d07064688",
       "value": 432176557.0
      }
     },
     "a379e79ef1954ecc8e2dd3e171d07c13": {
      "model_module": "@jupyter-widgets/controls",
      "model_module_version": "1.5.0",
      "model_name": "ProgressStyleModel",
      "state": {
       "_model_module": "@jupyter-widgets/controls",
       "_model_module_version": "1.5.0",
       "_model_name": "ProgressStyleModel",
       "_view_count": null,
       "_view_module": "@jupyter-widgets/base",
       "_view_module_version": "1.2.0",
       "_view_name": "StyleView",
       "bar_color": null,
       "description_width": ""
      }
     },
     "a60d9c4baac14d03bd04d1dff6263e22": {
      "model_module": "@jupyter-widgets/controls",
      "model_module_version": "1.5.0",
      "model_name": "HTMLModel",
      "state": {
       "_dom_classes": [],
       "_model_module": "@jupyter-widgets/controls",
       "_model_module_version": "1.5.0",
       "_model_name": "HTMLModel",
       "_view_count": null,
       "_view_module": "@jupyter-widgets/controls",
       "_view_module_version": "1.5.0",
       "_view_name": "HTMLView",
       "description": "",
       "description_tooltip": null,
       "layout": "IPY_MODEL_daf9d6bdc10d47c689ce0a8079c08690",
       "placeholder": "​",
       "style": "IPY_MODEL_daf8aef981ee4e91864d9c2874bf9d68",
       "value": "Downloading: 100%"
      }
     },
     "a6cb8347f0774399aa520fcbbefb1cfd": {
      "model_module": "@jupyter-widgets/controls",
      "model_module_version": "1.5.0",
      "model_name": "FloatProgressModel",
      "state": {
       "_dom_classes": [],
       "_model_module": "@jupyter-widgets/controls",
       "_model_module_version": "1.5.0",
       "_model_name": "FloatProgressModel",
       "_view_count": null,
       "_view_module": "@jupyter-widgets/controls",
       "_view_module_version": "1.5.0",
       "_view_name": "ProgressView",
       "bar_style": "success",
       "description": "",
       "description_tooltip": null,
       "layout": "IPY_MODEL_1f87ecb89acf4859840d61743b561f74",
       "max": 2240097289.0,
       "min": 0.0,
       "orientation": "horizontal",
       "style": "IPY_MODEL_2fe8e75b4f694c929706e981c6ad6caf",
       "value": 2240097289.0
      }
     },
     "a90c2126259a45b18ce31bfe3e80c97d": {
      "model_module": "@jupyter-widgets/controls",
      "model_module_version": "1.5.0",
      "model_name": "HTMLModel",
      "state": {
       "_dom_classes": [],
       "_model_module": "@jupyter-widgets/controls",
       "_model_module_version": "1.5.0",
       "_model_name": "HTMLModel",
       "_view_count": null,
       "_view_module": "@jupyter-widgets/controls",
       "_view_module_version": "1.5.0",
       "_view_name": "HTMLView",
       "description": "",
       "description_tooltip": null,
       "layout": "IPY_MODEL_344fc23f2de244debee72c0cd9a30bd6",
       "placeholder": "​",
       "style": "IPY_MODEL_df3ba05abb9c44ea9b1ab4c4d7c91b1d",
       "value": " 4.83M/4.83M [00:00&lt;00:00, 11.0MB/s]"
      }
     },
     "a9a7bcfe55fd4526ba6c818ec9a8d663": {
      "model_module": "@jupyter-widgets/controls",
      "model_module_version": "1.5.0",
      "model_name": "HTMLModel",
      "state": {
       "_dom_classes": [],
       "_model_module": "@jupyter-widgets/controls",
       "_model_module_version": "1.5.0",
       "_model_name": "HTMLModel",
       "_view_count": null,
       "_view_module": "@jupyter-widgets/controls",
       "_view_module_version": "1.5.0",
       "_view_name": "HTMLView",
       "description": "",
       "description_tooltip": null,
       "layout": "IPY_MODEL_c98d04f408f044d69f8deee9fd65be86",
       "placeholder": "​",
       "style": "IPY_MODEL_e9e9e5f815ff4d26a8061f9c251d737e",
       "value": " 2.24G/2.24G [01:16&lt;00:00, 33.9MB/s]"
      }
     },
     "b505098d900746d7bf04aa151765982b": {
      "model_module": "@jupyter-widgets/controls",
      "model_module_version": "1.5.0",
      "model_name": "HTMLModel",
      "state": {
       "_dom_classes": [],
       "_model_module": "@jupyter-widgets/controls",
       "_model_module_version": "1.5.0",
       "_model_name": "HTMLModel",
       "_view_count": null,
       "_view_module": "@jupyter-widgets/controls",
       "_view_module_version": "1.5.0",
       "_view_name": "HTMLView",
       "description": "",
       "description_tooltip": null,
       "layout": "IPY_MODEL_c07ddc461dbc4dee9b0ea4b454dcdc3c",
       "placeholder": "​",
       "style": "IPY_MODEL_5b3f4d2054aa4218ab6185fcb4c6ebe3",
       "value": " 616/616 [00:00&lt;00:00, 18.2kB/s]"
      }
     },
     "bfd33d5cb36c45be8caa6aa5e65ba03b": {
      "model_module": "@jupyter-widgets/base",
      "model_module_version": "1.2.0",
      "model_name": "LayoutModel",
      "state": {
       "_model_module": "@jupyter-widgets/base",
       "_model_module_version": "1.2.0",
       "_model_name": "LayoutModel",
       "_view_count": null,
       "_view_module": "@jupyter-widgets/base",
       "_view_module_version": "1.2.0",
       "_view_name": "LayoutView",
       "align_content": null,
       "align_items": null,
       "align_self": null,
       "border": null,
       "bottom": null,
       "display": null,
       "flex": null,
       "flex_flow": null,
       "grid_area": null,
       "grid_auto_columns": null,
       "grid_auto_flow": null,
       "grid_auto_rows": null,
       "grid_column": null,
       "grid_gap": null,
       "grid_row": null,
       "grid_template_areas": null,
       "grid_template_columns": null,
       "grid_template_rows": null,
       "height": null,
       "justify_content": null,
       "justify_items": null,
       "left": null,
       "margin": null,
       "max_height": null,
       "max_width": null,
       "min_height": null,
       "min_width": null,
       "object_fit": null,
       "object_position": null,
       "order": null,
       "overflow": null,
       "overflow_x": null,
       "overflow_y": null,
       "padding": null,
       "right": null,
       "top": null,
       "visibility": null,
       "width": null
      }
     },
     "bff5edf2fa3445f597effa4ccf1fece3": {
      "model_module": "@jupyter-widgets/controls",
      "model_module_version": "1.5.0",
      "model_name": "FloatProgressModel",
      "state": {
       "_dom_classes": [],
       "_model_module": "@jupyter-widgets/controls",
       "_model_module_version": "1.5.0",
       "_model_name": "FloatProgressModel",
       "_view_count": null,
       "_view_module": "@jupyter-widgets/controls",
       "_view_module_version": "1.5.0",
       "_view_name": "ProgressView",
       "bar_style": "success",
       "description": "",
       "description_tooltip": null,
       "layout": "IPY_MODEL_66a9eee3f40540bc99a14d1eb73629db",
       "max": 616.0,
       "min": 0.0,
       "orientation": "horizontal",
       "style": "IPY_MODEL_8617d6ca0b794f8aa4c2e2c844b72764",
       "value": 616.0
      }
     },
     "c07ddc461dbc4dee9b0ea4b454dcdc3c": {
      "model_module": "@jupyter-widgets/base",
      "model_module_version": "1.2.0",
      "model_name": "LayoutModel",
      "state": {
       "_model_module": "@jupyter-widgets/base",
       "_model_module_version": "1.2.0",
       "_model_name": "LayoutModel",
       "_view_count": null,
       "_view_module": "@jupyter-widgets/base",
       "_view_module_version": "1.2.0",
       "_view_name": "LayoutView",
       "align_content": null,
       "align_items": null,
       "align_self": null,
       "border": null,
       "bottom": null,
       "display": null,
       "flex": null,
       "flex_flow": null,
       "grid_area": null,
       "grid_auto_columns": null,
       "grid_auto_flow": null,
       "grid_auto_rows": null,
       "grid_column": null,
       "grid_gap": null,
       "grid_row": null,
       "grid_template_areas": null,
       "grid_template_columns": null,
       "grid_template_rows": null,
       "height": null,
       "justify_content": null,
       "justify_items": null,
       "left": null,
       "margin": null,
       "max_height": null,
       "max_width": null,
       "min_height": null,
       "min_width": null,
       "object_fit": null,
       "object_position": null,
       "order": null,
       "overflow": null,
       "overflow_x": null,
       "overflow_y": null,
       "padding": null,
       "right": null,
       "top": null,
       "visibility": null,
       "width": null
      }
     },
     "c54776d5cc0a458b8b6dd27bad5a03f2": {
      "model_module": "@jupyter-widgets/controls",
      "model_module_version": "1.5.0",
      "model_name": "FloatProgressModel",
      "state": {
       "_dom_classes": [],
       "_model_module": "@jupyter-widgets/controls",
       "_model_module_version": "1.5.0",
       "_model_name": "FloatProgressModel",
       "_view_count": null,
       "_view_module": "@jupyter-widgets/controls",
       "_view_module_version": "1.5.0",
       "_view_name": "ProgressView",
       "bar_style": "success",
       "description": "",
       "description_tooltip": null,
       "layout": "IPY_MODEL_20235c97c1f94d2da4bfab1d10e66bfe",
       "max": 2239866761.0,
       "min": 0.0,
       "orientation": "horizontal",
       "style": "IPY_MODEL_dbbc62ab0f9e46d48f410527e3247b30",
       "value": 2239866761.0
      }
     },
     "c98d04f408f044d69f8deee9fd65be86": {
      "model_module": "@jupyter-widgets/base",
      "model_module_version": "1.2.0",
      "model_name": "LayoutModel",
      "state": {
       "_model_module": "@jupyter-widgets/base",
       "_model_module_version": "1.2.0",
       "_model_name": "LayoutModel",
       "_view_count": null,
       "_view_module": "@jupyter-widgets/base",
       "_view_module_version": "1.2.0",
       "_view_name": "LayoutView",
       "align_content": null,
       "align_items": null,
       "align_self": null,
       "border": null,
       "bottom": null,
       "display": null,
       "flex": null,
       "flex_flow": null,
       "grid_area": null,
       "grid_auto_columns": null,
       "grid_auto_flow": null,
       "grid_auto_rows": null,
       "grid_column": null,
       "grid_gap": null,
       "grid_row": null,
       "grid_template_areas": null,
       "grid_template_columns": null,
       "grid_template_rows": null,
       "height": null,
       "justify_content": null,
       "justify_items": null,
       "left": null,
       "margin": null,
       "max_height": null,
       "max_width": null,
       "min_height": null,
       "min_width": null,
       "object_fit": null,
       "object_position": null,
       "order": null,
       "overflow": null,
       "overflow_x": null,
       "overflow_y": null,
       "padding": null,
       "right": null,
       "top": null,
       "visibility": null,
       "width": null
      }
     },
     "ca75fb1dff694d45bbcbd2af62c5427e": {
      "model_module": "@jupyter-widgets/controls",
      "model_module_version": "1.5.0",
      "model_name": "HBoxModel",
      "state": {
       "_dom_classes": [],
       "_model_module": "@jupyter-widgets/controls",
       "_model_module_version": "1.5.0",
       "_model_name": "HBoxModel",
       "_view_count": null,
       "_view_module": "@jupyter-widgets/controls",
       "_view_module_version": "1.5.0",
       "_view_name": "HBoxView",
       "box_style": "",
       "children": [
        "IPY_MODEL_8253df1e8a734a529161e69b55a7b314",
        "IPY_MODEL_a6cb8347f0774399aa520fcbbefb1cfd",
        "IPY_MODEL_a9a7bcfe55fd4526ba6c818ec9a8d663"
       ],
       "layout": "IPY_MODEL_1e3cd541949b449d87bb62f30ba117cb"
      }
     },
     "d6179e4f79044c1385f09521c4e4efb3": {
      "model_module": "@jupyter-widgets/controls",
      "model_module_version": "1.5.0",
      "model_name": "DescriptionStyleModel",
      "state": {
       "_model_module": "@jupyter-widgets/controls",
       "_model_module_version": "1.5.0",
       "_model_name": "DescriptionStyleModel",
       "_view_count": null,
       "_view_module": "@jupyter-widgets/base",
       "_view_module_version": "1.2.0",
       "_view_name": "StyleView",
       "description_width": ""
      }
     },
     "daf8aef981ee4e91864d9c2874bf9d68": {
      "model_module": "@jupyter-widgets/controls",
      "model_module_version": "1.5.0",
      "model_name": "DescriptionStyleModel",
      "state": {
       "_model_module": "@jupyter-widgets/controls",
       "_model_module_version": "1.5.0",
       "_model_name": "DescriptionStyleModel",
       "_view_count": null,
       "_view_module": "@jupyter-widgets/base",
       "_view_module_version": "1.2.0",
       "_view_name": "StyleView",
       "description_width": ""
      }
     },
     "daf9d6bdc10d47c689ce0a8079c08690": {
      "model_module": "@jupyter-widgets/base",
      "model_module_version": "1.2.0",
      "model_name": "LayoutModel",
      "state": {
       "_model_module": "@jupyter-widgets/base",
       "_model_module_version": "1.2.0",
       "_model_name": "LayoutModel",
       "_view_count": null,
       "_view_module": "@jupyter-widgets/base",
       "_view_module_version": "1.2.0",
       "_view_name": "LayoutView",
       "align_content": null,
       "align_items": null,
       "align_self": null,
       "border": null,
       "bottom": null,
       "display": null,
       "flex": null,
       "flex_flow": null,
       "grid_area": null,
       "grid_auto_columns": null,
       "grid_auto_flow": null,
       "grid_auto_rows": null,
       "grid_column": null,
       "grid_gap": null,
       "grid_row": null,
       "grid_template_areas": null,
       "grid_template_columns": null,
       "grid_template_rows": null,
       "height": null,
       "justify_content": null,
       "justify_items": null,
       "left": null,
       "margin": null,
       "max_height": null,
       "max_width": null,
       "min_height": null,
       "min_width": null,
       "object_fit": null,
       "object_position": null,
       "order": null,
       "overflow": null,
       "overflow_x": null,
       "overflow_y": null,
       "padding": null,
       "right": null,
       "top": null,
       "visibility": null,
       "width": null
      }
     },
     "dbafff553b794673a2986afe6bb33087": {
      "model_module": "@jupyter-widgets/base",
      "model_module_version": "1.2.0",
      "model_name": "LayoutModel",
      "state": {
       "_model_module": "@jupyter-widgets/base",
       "_model_module_version": "1.2.0",
       "_model_name": "LayoutModel",
       "_view_count": null,
       "_view_module": "@jupyter-widgets/base",
       "_view_module_version": "1.2.0",
       "_view_name": "LayoutView",
       "align_content": null,
       "align_items": null,
       "align_self": null,
       "border": null,
       "bottom": null,
       "display": null,
       "flex": null,
       "flex_flow": null,
       "grid_area": null,
       "grid_auto_columns": null,
       "grid_auto_flow": null,
       "grid_auto_rows": null,
       "grid_column": null,
       "grid_gap": null,
       "grid_row": null,
       "grid_template_areas": null,
       "grid_template_columns": null,
       "grid_template_rows": null,
       "height": null,
       "justify_content": null,
       "justify_items": null,
       "left": null,
       "margin": null,
       "max_height": null,
       "max_width": null,
       "min_height": null,
       "min_width": null,
       "object_fit": null,
       "object_position": null,
       "order": null,
       "overflow": null,
       "overflow_x": null,
       "overflow_y": null,
       "padding": null,
       "right": null,
       "top": null,
       "visibility": null,
       "width": null
      }
     },
     "dbbc62ab0f9e46d48f410527e3247b30": {
      "model_module": "@jupyter-widgets/controls",
      "model_module_version": "1.5.0",
      "model_name": "ProgressStyleModel",
      "state": {
       "_model_module": "@jupyter-widgets/controls",
       "_model_module_version": "1.5.0",
       "_model_name": "ProgressStyleModel",
       "_view_count": null,
       "_view_module": "@jupyter-widgets/base",
       "_view_module_version": "1.2.0",
       "_view_name": "StyleView",
       "bar_color": null,
       "description_width": ""
      }
     },
     "dea1fcf9b38246fca0473f1a1ab2cf93": {
      "model_module": "@jupyter-widgets/controls",
      "model_module_version": "1.5.0",
      "model_name": "HBoxModel",
      "state": {
       "_dom_classes": [],
       "_model_module": "@jupyter-widgets/controls",
       "_model_module_version": "1.5.0",
       "_model_name": "HBoxModel",
       "_view_count": null,
       "_view_module": "@jupyter-widgets/controls",
       "_view_module_version": "1.5.0",
       "_view_name": "HBoxView",
       "box_style": "",
       "children": [
        "IPY_MODEL_722bb41e265f418b878230a27ed5e95d",
        "IPY_MODEL_bff5edf2fa3445f597effa4ccf1fece3",
        "IPY_MODEL_b505098d900746d7bf04aa151765982b"
       ],
       "layout": "IPY_MODEL_3ac40a9f73ac4e079255260faaa6e730"
      }
     },
     "df3ba05abb9c44ea9b1ab4c4d7c91b1d": {
      "model_module": "@jupyter-widgets/controls",
      "model_module_version": "1.5.0",
      "model_name": "DescriptionStyleModel",
      "state": {
       "_model_module": "@jupyter-widgets/controls",
       "_model_module_version": "1.5.0",
       "_model_name": "DescriptionStyleModel",
       "_view_count": null,
       "_view_module": "@jupyter-widgets/base",
       "_view_module_version": "1.2.0",
       "_view_name": "StyleView",
       "description_width": ""
      }
     },
     "e294d1c8d0b644ec81bc4af2fdb7dcc4": {
      "model_module": "@jupyter-widgets/controls",
      "model_module_version": "1.5.0",
      "model_name": "FloatProgressModel",
      "state": {
       "_dom_classes": [],
       "_model_module": "@jupyter-widgets/controls",
       "_model_module_version": "1.5.0",
       "_model_name": "FloatProgressModel",
       "_view_count": null,
       "_view_module": "@jupyter-widgets/controls",
       "_view_module_version": "1.5.0",
       "_view_name": "ProgressView",
       "bar_style": "success",
       "description": "",
       "description_tooltip": null,
       "layout": "IPY_MODEL_0c7a7275dc6243c792e4f109dff6513f",
       "max": 9096718.0,
       "min": 0.0,
       "orientation": "horizontal",
       "style": "IPY_MODEL_8f439519f0d74daaab16bf14068f535a",
       "value": 9096718.0
      }
     },
     "e4088560971445d28597663a0c9751be": {
      "model_module": "@jupyter-widgets/controls",
      "model_module_version": "1.5.0",
      "model_name": "HBoxModel",
      "state": {
       "_dom_classes": [],
       "_model_module": "@jupyter-widgets/controls",
       "_model_module_version": "1.5.0",
       "_model_name": "HBoxModel",
       "_view_count": null,
       "_view_module": "@jupyter-widgets/controls",
       "_view_module_version": "1.5.0",
       "_view_name": "HBoxView",
       "box_style": "",
       "children": [
        "IPY_MODEL_86120397267c4c8daf6b349737768748",
        "IPY_MODEL_8a93f2d2e151481d824a9ab2255bc624",
        "IPY_MODEL_a90c2126259a45b18ce31bfe3e80c97d"
       ],
       "layout": "IPY_MODEL_79a48ce790a94a9eb8d39aac2e0bfb4b"
      }
     },
     "e526dc0d119f46a9b3851ce93effe130": {
      "model_module": "@jupyter-widgets/base",
      "model_module_version": "1.2.0",
      "model_name": "LayoutModel",
      "state": {
       "_model_module": "@jupyter-widgets/base",
       "_model_module_version": "1.2.0",
       "_model_name": "LayoutModel",
       "_view_count": null,
       "_view_module": "@jupyter-widgets/base",
       "_view_module_version": "1.2.0",
       "_view_name": "LayoutView",
       "align_content": null,
       "align_items": null,
       "align_self": null,
       "border": null,
       "bottom": null,
       "display": null,
       "flex": null,
       "flex_flow": null,
       "grid_area": null,
       "grid_auto_columns": null,
       "grid_auto_flow": null,
       "grid_auto_rows": null,
       "grid_column": null,
       "grid_gap": null,
       "grid_row": null,
       "grid_template_areas": null,
       "grid_template_columns": null,
       "grid_template_rows": null,
       "height": null,
       "justify_content": null,
       "justify_items": null,
       "left": null,
       "margin": null,
       "max_height": null,
       "max_width": null,
       "min_height": null,
       "min_width": null,
       "object_fit": null,
       "object_position": null,
       "order": null,
       "overflow": null,
       "overflow_x": null,
       "overflow_y": null,
       "padding": null,
       "right": null,
       "top": null,
       "visibility": null,
       "width": null
      }
     },
     "e9e9e5f815ff4d26a8061f9c251d737e": {
      "model_module": "@jupyter-widgets/controls",
      "model_module_version": "1.5.0",
      "model_name": "DescriptionStyleModel",
      "state": {
       "_model_module": "@jupyter-widgets/controls",
       "_model_module_version": "1.5.0",
       "_model_name": "DescriptionStyleModel",
       "_view_count": null,
       "_view_module": "@jupyter-widgets/base",
       "_view_module_version": "1.2.0",
       "_view_name": "StyleView",
       "description_width": ""
      }
     },
     "ef3cdb7a91514629a4735186b9b29cf2": {
      "model_module": "@jupyter-widgets/controls",
      "model_module_version": "1.5.0",
      "model_name": "DescriptionStyleModel",
      "state": {
       "_model_module": "@jupyter-widgets/controls",
       "_model_module_version": "1.5.0",
       "_model_name": "DescriptionStyleModel",
       "_view_count": null,
       "_view_module": "@jupyter-widgets/base",
       "_view_module_version": "1.2.0",
       "_view_name": "StyleView",
       "description_width": ""
      }
     }
    },
    "version_major": 2,
    "version_minor": 0
   }
  }
 },
 "nbformat": 4,
 "nbformat_minor": 5
}
