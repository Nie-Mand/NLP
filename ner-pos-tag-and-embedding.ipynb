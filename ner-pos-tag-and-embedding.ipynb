{
 "cells": [
  {
   "cell_type": "code",
   "execution_count": 1,
   "id": "5933c648",
   "metadata": {
    "_cell_guid": "b1076dfc-b9ad-4769-8c92-a6c4dae69d19",
    "_uuid": "8f2839f25d086af736a60e9eeb907d3b93b6e0e5",
    "execution": {
     "iopub.execute_input": "2022-05-31T14:28:07.175403Z",
     "iopub.status.busy": "2022-05-31T14:28:07.174498Z",
     "iopub.status.idle": "2022-05-31T14:28:15.982765Z",
     "shell.execute_reply": "2022-05-31T14:28:15.981907Z"
    },
    "papermill": {
     "duration": 8.842131,
     "end_time": "2022-05-31T14:28:15.984994",
     "exception": false,
     "start_time": "2022-05-31T14:28:07.142863",
     "status": "completed"
    },
    "tags": []
   },
   "outputs": [],
   "source": [
    "import numpy as np\n",
    "import pandas as pd \n",
    "import seaborn as sns\n",
    "import matplotlib.pyplot as plt \n",
    "import matplotlib.style as stl \n",
    "from tqdm import tqdm\n",
    "from tensorflow import keras \n",
    "from keras.preprocessing.text import Tokenizer\n",
    "from nltk.corpus import stopwords\n",
    "import string\n",
    "from tensorflow.keras.models import Sequential,Model\n",
    "from tensorflow.keras.layers import Dense, LSTM, Embedding,Dropout,SpatialDropout1D,Conv1D,MaxPooling1D,GRU,BatchNormalization\n",
    "import warnings\n",
    "warnings.filterwarnings('ignore')\n",
    "stl.use('ggplot')"
   ]
  },
  {
   "cell_type": "code",
   "execution_count": 2,
   "id": "97278643",
   "metadata": {
    "execution": {
     "iopub.execute_input": "2022-05-31T14:28:16.038688Z",
     "iopub.status.busy": "2022-05-31T14:28:16.038019Z",
     "iopub.status.idle": "2022-05-31T14:28:16.059103Z",
     "shell.execute_reply": "2022-05-31T14:28:16.058207Z"
    },
    "papermill": {
     "duration": 0.049623,
     "end_time": "2022-05-31T14:28:16.061266",
     "exception": false,
     "start_time": "2022-05-31T14:28:16.011643",
     "status": "completed"
    },
    "tags": []
   },
   "outputs": [],
   "source": [
    "data=pd.read_csv(\"../input/sample/sample-2.csv\")"
   ]
  },
  {
   "cell_type": "code",
   "execution_count": 3,
   "id": "5d7b6fdc",
   "metadata": {
    "execution": {
     "iopub.execute_input": "2022-05-31T14:28:16.111985Z",
     "iopub.status.busy": "2022-05-31T14:28:16.111271Z",
     "iopub.status.idle": "2022-05-31T14:28:16.137127Z",
     "shell.execute_reply": "2022-05-31T14:28:16.136375Z"
    },
    "papermill": {
     "duration": 0.053535,
     "end_time": "2022-05-31T14:28:16.139273",
     "exception": false,
     "start_time": "2022-05-31T14:28:16.085738",
     "status": "completed"
    },
    "tags": []
   },
   "outputs": [
    {
     "data": {
      "text/html": [
       "<div>\n",
       "<style scoped>\n",
       "    .dataframe tbody tr th:only-of-type {\n",
       "        vertical-align: middle;\n",
       "    }\n",
       "\n",
       "    .dataframe tbody tr th {\n",
       "        vertical-align: top;\n",
       "    }\n",
       "\n",
       "    .dataframe thead th {\n",
       "        text-align: right;\n",
       "    }\n",
       "</style>\n",
       "<table border=\"1\" class=\"dataframe\">\n",
       "  <thead>\n",
       "    <tr style=\"text-align: right;\">\n",
       "      <th></th>\n",
       "      <th>document_id</th>\n",
       "      <th>status</th>\n",
       "      <th>document_url</th>\n",
       "      <th>media_type</th>\n",
       "      <th>media_link</th>\n",
       "      <th>relative_media_path</th>\n",
       "      <th>is_media_downloaded</th>\n",
       "      <th>transcription_text</th>\n",
       "      <th>transcription_text_relative_path</th>\n",
       "      <th>from_time</th>\n",
       "      <th>to_time</th>\n",
       "      <th>project_id</th>\n",
       "      <th>Category</th>\n",
       "      <th>Unnamed: 13</th>\n",
       "      <th>Unnamed: 14</th>\n",
       "    </tr>\n",
       "  </thead>\n",
       "  <tbody>\n",
       "    <tr>\n",
       "      <th>0</th>\n",
       "      <td>NMAAHC-007676813_00577</td>\n",
       "      <td>Complete</td>\n",
       "      <td>https://transcription.si.edu/transcribe/32203/...</td>\n",
       "      <td>image</td>\n",
       "      <td>https://ids.si.edu/ids/deliveryService?max_w=&amp;...</td>\n",
       "      <td>/32203/image/NMAAHC-007676813_00577.jpg</td>\n",
       "      <td>1</td>\n",
       "      <td>8 E encl\\r\\n\\r\\nI Anne H. Elliott, widow do so...</td>\n",
       "      <td>/32203/transcriptions/NMAAHC-007676813_00577.txt</td>\n",
       "      <td>\\N</td>\n",
       "      <td>\\N</td>\n",
       "      <td>32203</td>\n",
       "      <td>Oaths/Pardons</td>\n",
       "      <td>NaN</td>\n",
       "      <td>NaN</td>\n",
       "    </tr>\n",
       "    <tr>\n",
       "      <th>1</th>\n",
       "      <td>NMAAHC-007676818_00567</td>\n",
       "      <td>Complete</td>\n",
       "      <td>https://transcription.si.edu/transcribe/32796/...</td>\n",
       "      <td>image</td>\n",
       "      <td>https://ids.si.edu/ids/deliveryService?max_w=&amp;...</td>\n",
       "      <td>/32796/image/NMAAHC-007676818_00567.jpg</td>\n",
       "      <td>1</td>\n",
       "      <td>I E C Whaley solemnly swear that I have carefu...</td>\n",
       "      <td>/32796/transcriptions/NMAAHC-007676818_00567.txt</td>\n",
       "      <td>\\N</td>\n",
       "      <td>\\N</td>\n",
       "      <td>32796</td>\n",
       "      <td>Oaths/Pardons</td>\n",
       "      <td>NaN</td>\n",
       "      <td>NaN</td>\n",
       "    </tr>\n",
       "    <tr>\n",
       "      <th>2</th>\n",
       "      <td>NMAAHC-007676815_00488-000001</td>\n",
       "      <td>Complete</td>\n",
       "      <td>https://transcription.si.edu/transcribe/32218/...</td>\n",
       "      <td>image</td>\n",
       "      <td>https://ids.si.edu/ids/deliveryService?max_w=&amp;...</td>\n",
       "      <td>/32218/image/NMAAHC-007676815_00488-000001.jpg</td>\n",
       "      <td>1</td>\n",
       "      <td>43M\\r\\nI Mrs E Montgomery solemnly Swear that ...</td>\n",
       "      <td>/32218/transcriptions/NMAAHC-007676815_00488-0...</td>\n",
       "      <td>\\N</td>\n",
       "      <td>\\N</td>\n",
       "      <td>32218</td>\n",
       "      <td>Oaths/Pardons</td>\n",
       "      <td>NaN</td>\n",
       "      <td>NaN</td>\n",
       "    </tr>\n",
       "    <tr>\n",
       "      <th>3</th>\n",
       "      <td>NMAAHC-007677400_00375</td>\n",
       "      <td>Complete</td>\n",
       "      <td>https://transcription.si.edu/transcribe/26149/...</td>\n",
       "      <td>image</td>\n",
       "      <td>https://ids.si.edu/ids/deliveryService?max_w=&amp;...</td>\n",
       "      <td>/26149/image/NMAAHC-007677400_00375.jpg</td>\n",
       "      <td>1</td>\n",
       "      <td>No. 2324\\r\\nI do solemnly swear or affirm, in ...</td>\n",
       "      <td>/26149/transcriptions/NMAAHC-007677400_00375.txt</td>\n",
       "      <td>\\N</td>\n",
       "      <td>\\N</td>\n",
       "      <td>26149</td>\n",
       "      <td>Oaths/Pardons</td>\n",
       "      <td>NaN</td>\n",
       "      <td>NaN</td>\n",
       "    </tr>\n",
       "    <tr>\n",
       "      <th>4</th>\n",
       "      <td>NMAAHC-007677378_00480</td>\n",
       "      <td>Complete</td>\n",
       "      <td>https://transcription.si.edu/transcribe/27345/...</td>\n",
       "      <td>image</td>\n",
       "      <td>https://ids.si.edu/ids/deliveryService?max_w=&amp;...</td>\n",
       "      <td>/27345/image/NMAAHC-007677378_00480.jpg</td>\n",
       "      <td>1</td>\n",
       "      <td>August 24. 1865\\r\\nAPPLICATION AND CERTIFICATE...</td>\n",
       "      <td>/27345/transcriptions/NMAAHC-007677378_00480.txt</td>\n",
       "      <td>\\N</td>\n",
       "      <td>\\N</td>\n",
       "      <td>27345</td>\n",
       "      <td>Oaths/Pardons</td>\n",
       "      <td>NaN</td>\n",
       "      <td>NaN</td>\n",
       "    </tr>\n",
       "  </tbody>\n",
       "</table>\n",
       "</div>"
      ],
      "text/plain": [
       "                     document_id    status  \\\n",
       "0         NMAAHC-007676813_00577  Complete   \n",
       "1         NMAAHC-007676818_00567  Complete   \n",
       "2  NMAAHC-007676815_00488-000001  Complete   \n",
       "3         NMAAHC-007677400_00375  Complete   \n",
       "4         NMAAHC-007677378_00480  Complete   \n",
       "\n",
       "                                        document_url media_type  \\\n",
       "0  https://transcription.si.edu/transcribe/32203/...      image   \n",
       "1  https://transcription.si.edu/transcribe/32796/...      image   \n",
       "2  https://transcription.si.edu/transcribe/32218/...      image   \n",
       "3  https://transcription.si.edu/transcribe/26149/...      image   \n",
       "4  https://transcription.si.edu/transcribe/27345/...      image   \n",
       "\n",
       "                                          media_link  \\\n",
       "0  https://ids.si.edu/ids/deliveryService?max_w=&...   \n",
       "1  https://ids.si.edu/ids/deliveryService?max_w=&...   \n",
       "2  https://ids.si.edu/ids/deliveryService?max_w=&...   \n",
       "3  https://ids.si.edu/ids/deliveryService?max_w=&...   \n",
       "4  https://ids.si.edu/ids/deliveryService?max_w=&...   \n",
       "\n",
       "                              relative_media_path  is_media_downloaded  \\\n",
       "0         /32203/image/NMAAHC-007676813_00577.jpg                    1   \n",
       "1         /32796/image/NMAAHC-007676818_00567.jpg                    1   \n",
       "2  /32218/image/NMAAHC-007676815_00488-000001.jpg                    1   \n",
       "3         /26149/image/NMAAHC-007677400_00375.jpg                    1   \n",
       "4         /27345/image/NMAAHC-007677378_00480.jpg                    1   \n",
       "\n",
       "                                  transcription_text  \\\n",
       "0  8 E encl\\r\\n\\r\\nI Anne H. Elliott, widow do so...   \n",
       "1  I E C Whaley solemnly swear that I have carefu...   \n",
       "2  43M\\r\\nI Mrs E Montgomery solemnly Swear that ...   \n",
       "3  No. 2324\\r\\nI do solemnly swear or affirm, in ...   \n",
       "4  August 24. 1865\\r\\nAPPLICATION AND CERTIFICATE...   \n",
       "\n",
       "                    transcription_text_relative_path from_time to_time  \\\n",
       "0   /32203/transcriptions/NMAAHC-007676813_00577.txt        \\N      \\N   \n",
       "1   /32796/transcriptions/NMAAHC-007676818_00567.txt        \\N      \\N   \n",
       "2  /32218/transcriptions/NMAAHC-007676815_00488-0...        \\N      \\N   \n",
       "3   /26149/transcriptions/NMAAHC-007677400_00375.txt        \\N      \\N   \n",
       "4   /27345/transcriptions/NMAAHC-007677378_00480.txt        \\N      \\N   \n",
       "\n",
       "   project_id       Category  Unnamed: 13  Unnamed: 14  \n",
       "0       32203  Oaths/Pardons          NaN          NaN  \n",
       "1       32796  Oaths/Pardons          NaN          NaN  \n",
       "2       32218  Oaths/Pardons          NaN          NaN  \n",
       "3       26149  Oaths/Pardons          NaN          NaN  \n",
       "4       27345  Oaths/Pardons          NaN          NaN  "
      ]
     },
     "execution_count": 3,
     "metadata": {},
     "output_type": "execute_result"
    }
   ],
   "source": [
    "data.head()"
   ]
  },
  {
   "cell_type": "code",
   "execution_count": 4,
   "id": "8c43bb01",
   "metadata": {
    "execution": {
     "iopub.execute_input": "2022-05-31T14:28:16.193007Z",
     "iopub.status.busy": "2022-05-31T14:28:16.192279Z",
     "iopub.status.idle": "2022-05-31T14:28:16.201982Z",
     "shell.execute_reply": "2022-05-31T14:28:16.201277Z"
    },
    "papermill": {
     "duration": 0.038738,
     "end_time": "2022-05-31T14:28:16.203930",
     "exception": false,
     "start_time": "2022-05-31T14:28:16.165192",
     "status": "completed"
    },
    "tags": []
   },
   "outputs": [
    {
     "data": {
      "text/plain": [
       "'I E C Whaley solemnly swear that I have carefully read the Amnesty\\r\\nProclamation issued by Andrew Johnson, President of the United State of America, on May 29th, 1865, and that I am not excepted from the benefits of the Proclamation by any one of the fourteen exceptions therein made [[Strikethrough]] except [[strikethrough/]] \\r\\nE C Whaley\\r\\nSworn to and subscribed before me at Charleston SC this 28\\r\\nday of Sept 1865\\r\\n\\r\\nLevi Steuben\\r\\nMaj. 47th P.M.\\r\\n\\r\\nUnited States of America\\r\\nE C Whaley of the city [[strikethrough]] county [[strikethrough/]] Charleston Sate of South Ca do solemnly swear in the presence of the Almighty God, that I will henceforth faithfully support and defend the Constitution of the United States, and the Union of the States thereunder, and that I will, in like manner, abide by and faithfully support all laws and proclamations which have been made during the existing rebellion with reference to the Emancipation of Slaves-SO HELP ME GOD\\r\\n\\r\\nE C Whaley\\r\\nSworn to and subscribed before me at Charleston SC this 28\\r\\nday of Sept 1865\\r\\n\\r\\nLevi Steuben\\r\\nMay 47 P.M.\\r\\nThe above has fair complexion light hair, and gray eyes; is 5 feet 10\\r\\ninches high and 39 years; by profession a planter\\r\\n\\r\\n\\r\\n(The original Oaths will be transmitted, by the officer administering them, to the Department of State, through intermediate channels, and a certified copy thereof will be furnished to the applicant for pardon, to accompany his petition.)\\r\\n\\r\\n[[Left Margin]] Copy\\r\\nLevi Steuben\\r\\nMaj 47th Pro Marshal\\r\\nCity of Charleston\\r\\n[[Left Margin/]]'"
      ]
     },
     "execution_count": 4,
     "metadata": {},
     "output_type": "execute_result"
    }
   ],
   "source": [
    "data[\"transcription_text\"][1]"
   ]
  },
  {
   "cell_type": "code",
   "execution_count": 5,
   "id": "d39a9d16",
   "metadata": {
    "execution": {
     "iopub.execute_input": "2022-05-31T14:28:16.257058Z",
     "iopub.status.busy": "2022-05-31T14:28:16.256409Z",
     "iopub.status.idle": "2022-05-31T14:28:16.260075Z",
     "shell.execute_reply": "2022-05-31T14:28:16.259428Z"
    },
    "papermill": {
     "duration": 0.031769,
     "end_time": "2022-05-31T14:28:16.261845",
     "exception": false,
     "start_time": "2022-05-31T14:28:16.230076",
     "status": "completed"
    },
    "tags": []
   },
   "outputs": [],
   "source": [
    "text=data[\"transcription_text\"]"
   ]
  },
  {
   "cell_type": "markdown",
   "id": "1eacd2cd",
   "metadata": {
    "papermill": {
     "duration": 0.027325,
     "end_time": "2022-05-31T14:28:16.315990",
     "exception": false,
     "start_time": "2022-05-31T14:28:16.288665",
     "status": "completed"
    },
    "tags": []
   },
   "source": [
    "*extract transcription_text from the dataset*"
   ]
  },
  {
   "cell_type": "code",
   "execution_count": 6,
   "id": "32e63e3d",
   "metadata": {
    "execution": {
     "iopub.execute_input": "2022-05-31T14:28:16.369175Z",
     "iopub.status.busy": "2022-05-31T14:28:16.368542Z",
     "iopub.status.idle": "2022-05-31T14:28:16.375520Z",
     "shell.execute_reply": "2022-05-31T14:28:16.374491Z"
    },
    "papermill": {
     "duration": 0.036145,
     "end_time": "2022-05-31T14:28:16.377707",
     "exception": false,
     "start_time": "2022-05-31T14:28:16.341562",
     "status": "completed"
    },
    "tags": []
   },
   "outputs": [
    {
     "data": {
      "text/plain": [
       "0    8 E encl\\r\\n\\r\\nI Anne H. Elliott, widow do so...\n",
       "1    I E C Whaley solemnly swear that I have carefu...\n",
       "2    43M\\r\\nI Mrs E Montgomery solemnly Swear that ...\n",
       "3    No. 2324\\r\\nI do solemnly swear or affirm, in ...\n",
       "4    August 24. 1865\\r\\nAPPLICATION AND CERTIFICATE...\n",
       "Name: transcription_text, dtype: object"
      ]
     },
     "execution_count": 6,
     "metadata": {},
     "output_type": "execute_result"
    }
   ],
   "source": [
    "text.head()"
   ]
  },
  {
   "cell_type": "markdown",
   "id": "b943e1a2",
   "metadata": {
    "papermill": {
     "duration": 0.025346,
     "end_time": "2022-05-31T14:28:16.428948",
     "exception": false,
     "start_time": "2022-05-31T14:28:16.403602",
     "status": "completed"
    },
    "tags": []
   },
   "source": [
    "*trying nltk*"
   ]
  },
  {
   "cell_type": "code",
   "execution_count": 7,
   "id": "12e5cd99",
   "metadata": {
    "execution": {
     "iopub.execute_input": "2022-05-31T14:28:16.484801Z",
     "iopub.status.busy": "2022-05-31T14:28:16.484006Z",
     "iopub.status.idle": "2022-05-31T14:28:16.490027Z",
     "shell.execute_reply": "2022-05-31T14:28:16.489274Z"
    },
    "papermill": {
     "duration": 0.037414,
     "end_time": "2022-05-31T14:28:16.492406",
     "exception": false,
     "start_time": "2022-05-31T14:28:16.454992",
     "status": "completed"
    },
    "tags": []
   },
   "outputs": [],
   "source": [
    "import nltk\n",
    "from nltk.tokenize import word_tokenize\n",
    "from nltk.tag import pos_tag"
   ]
  },
  {
   "cell_type": "markdown",
   "id": "03524680",
   "metadata": {
    "papermill": {
     "duration": 0.034447,
     "end_time": "2022-05-31T14:28:16.560384",
     "exception": false,
     "start_time": "2022-05-31T14:28:16.525937",
     "status": "completed"
    },
    "tags": []
   },
   "source": [
    "extract token from each paragraph"
   ]
  },
  {
   "cell_type": "code",
   "execution_count": 8,
   "id": "050154fe",
   "metadata": {
    "execution": {
     "iopub.execute_input": "2022-05-31T14:28:16.613576Z",
     "iopub.status.busy": "2022-05-31T14:28:16.612918Z",
     "iopub.status.idle": "2022-05-31T14:28:16.634597Z",
     "shell.execute_reply": "2022-05-31T14:28:16.633509Z"
    },
    "papermill": {
     "duration": 0.05135,
     "end_time": "2022-05-31T14:28:16.636930",
     "exception": false,
     "start_time": "2022-05-31T14:28:16.585580",
     "status": "completed"
    },
    "tags": []
   },
   "outputs": [],
   "source": [
    "tokens=[word for word in nltk.word_tokenize(text[1])]"
   ]
  },
  {
   "cell_type": "code",
   "execution_count": 9,
   "id": "bf484b28",
   "metadata": {
    "execution": {
     "iopub.execute_input": "2022-05-31T14:28:16.688624Z",
     "iopub.status.busy": "2022-05-31T14:28:16.688237Z",
     "iopub.status.idle": "2022-05-31T14:28:16.693874Z",
     "shell.execute_reply": "2022-05-31T14:28:16.692908Z"
    },
    "papermill": {
     "duration": 0.033895,
     "end_time": "2022-05-31T14:28:16.695964",
     "exception": false,
     "start_time": "2022-05-31T14:28:16.662069",
     "status": "completed"
    },
    "tags": []
   },
   "outputs": [
    {
     "data": {
      "text/plain": [
       "['I',\n",
       " 'E',\n",
       " 'C',\n",
       " 'Whaley',\n",
       " 'solemnly',\n",
       " 'swear',\n",
       " 'that',\n",
       " 'I',\n",
       " 'have',\n",
       " 'carefully']"
      ]
     },
     "execution_count": 9,
     "metadata": {},
     "output_type": "execute_result"
    }
   ],
   "source": [
    "tokens[:10]"
   ]
  },
  {
   "cell_type": "markdown",
   "id": "1a4553a6",
   "metadata": {
    "papermill": {
     "duration": 0.024932,
     "end_time": "2022-05-31T14:28:16.746239",
     "exception": false,
     "start_time": "2022-05-31T14:28:16.721307",
     "status": "completed"
    },
    "tags": []
   },
   "source": [
    "**position tag of each token**"
   ]
  },
  {
   "cell_type": "code",
   "execution_count": 10,
   "id": "163ad8a7",
   "metadata": {
    "execution": {
     "iopub.execute_input": "2022-05-31T14:28:16.799111Z",
     "iopub.status.busy": "2022-05-31T14:28:16.798009Z",
     "iopub.status.idle": "2022-05-31T14:28:16.945697Z",
     "shell.execute_reply": "2022-05-31T14:28:16.944798Z"
    },
    "papermill": {
     "duration": 0.176629,
     "end_time": "2022-05-31T14:28:16.948134",
     "exception": false,
     "start_time": "2022-05-31T14:28:16.771505",
     "status": "completed"
    },
    "tags": []
   },
   "outputs": [],
   "source": [
    " word_tag = nltk.pos_tag(tokens)"
   ]
  },
  {
   "cell_type": "code",
   "execution_count": 11,
   "id": "3a395384",
   "metadata": {
    "execution": {
     "iopub.execute_input": "2022-05-31T14:28:17.000975Z",
     "iopub.status.busy": "2022-05-31T14:28:17.000605Z",
     "iopub.status.idle": "2022-05-31T14:28:17.006456Z",
     "shell.execute_reply": "2022-05-31T14:28:17.005526Z"
    },
    "papermill": {
     "duration": 0.034262,
     "end_time": "2022-05-31T14:28:17.008412",
     "exception": false,
     "start_time": "2022-05-31T14:28:16.974150",
     "status": "completed"
    },
    "tags": []
   },
   "outputs": [
    {
     "data": {
      "text/plain": [
       "[('I', 'PRP'),\n",
       " ('E', 'VBP'),\n",
       " ('C', 'NNP'),\n",
       " ('Whaley', 'NNP'),\n",
       " ('solemnly', 'RB'),\n",
       " ('swear', 'VBP'),\n",
       " ('that', 'IN'),\n",
       " ('I', 'PRP'),\n",
       " ('have', 'VBP'),\n",
       " ('carefully', 'RB')]"
      ]
     },
     "execution_count": 11,
     "metadata": {},
     "output_type": "execute_result"
    }
   ],
   "source": [
    "word_tag[:10]"
   ]
  },
  {
   "cell_type": "markdown",
   "id": "467e6f07",
   "metadata": {
    "papermill": {
     "duration": 0.02491,
     "end_time": "2022-05-31T14:28:17.058425",
     "exception": false,
     "start_time": "2022-05-31T14:28:17.033515",
     "status": "completed"
    },
    "tags": []
   },
   "source": [
    "****"
   ]
  },
  {
   "cell_type": "markdown",
   "id": "fada3775",
   "metadata": {
    "papermill": {
     "duration": 0.02475,
     "end_time": "2022-05-31T14:28:17.108234",
     "exception": false,
     "start_time": "2022-05-31T14:28:17.083484",
     "status": "completed"
    },
    "tags": []
   },
   "source": [
    "**transforming the tree tag to column tag and adding iob (in, out, begin) tag**"
   ]
  },
  {
   "cell_type": "code",
   "execution_count": 12,
   "id": "5953cfed",
   "metadata": {
    "execution": {
     "iopub.execute_input": "2022-05-31T14:28:17.159983Z",
     "iopub.status.busy": "2022-05-31T14:28:17.159613Z",
     "iopub.status.idle": "2022-05-31T14:28:17.165902Z",
     "shell.execute_reply": "2022-05-31T14:28:17.164966Z"
    },
    "papermill": {
     "duration": 0.034347,
     "end_time": "2022-05-31T14:28:17.167710",
     "exception": false,
     "start_time": "2022-05-31T14:28:17.133363",
     "status": "completed"
    },
    "tags": []
   },
   "outputs": [
    {
     "data": {
      "text/plain": [
       "[('I', 'PRP', 'O'),\n",
       " ('E', 'VBP', 'O'),\n",
       " ('C', 'NNP', 'O'),\n",
       " ('Whaley', 'NNP', 'O'),\n",
       " ('solemnly', 'RB', 'O')]"
      ]
     },
     "execution_count": 12,
     "metadata": {},
     "output_type": "execute_result"
    }
   ],
   "source": [
    "from nltk.chunk import  tree2conlltags\n",
    "iob_tag = tree2conlltags(word_tag)\n",
    "iob_tag[:5]"
   ]
  },
  {
   "cell_type": "markdown",
   "id": "0a86b5a5",
   "metadata": {
    "papermill": {
     "duration": 0.025071,
     "end_time": "2022-05-31T14:28:17.218158",
     "exception": false,
     "start_time": "2022-05-31T14:28:17.193087",
     "status": "completed"
    },
    "tags": []
   },
   "source": [
    "**creating dataframe from extracted entities and their position tag  for using it later**"
   ]
  },
  {
   "cell_type": "code",
   "execution_count": 13,
   "id": "dc9b57f8",
   "metadata": {
    "execution": {
     "iopub.execute_input": "2022-05-31T14:28:17.270577Z",
     "iopub.status.busy": "2022-05-31T14:28:17.270169Z",
     "iopub.status.idle": "2022-05-31T14:28:17.275401Z",
     "shell.execute_reply": "2022-05-31T14:28:17.274328Z"
    },
    "papermill": {
     "duration": 0.033814,
     "end_time": "2022-05-31T14:28:17.277317",
     "exception": false,
     "start_time": "2022-05-31T14:28:17.243503",
     "status": "completed"
    },
    "tags": []
   },
   "outputs": [],
   "source": [
    "l1=[]\n",
    "l2=[]\n",
    "l3=[]\n",
    "for i in range(20):\n",
    "    l1.append(iob_tag[i][0])\n",
    "    l2.append(iob_tag[i][1])\n",
    "    l3.append(iob_tag[i][2])"
   ]
  },
  {
   "cell_type": "code",
   "execution_count": 14,
   "id": "ffd896e5",
   "metadata": {
    "execution": {
     "iopub.execute_input": "2022-05-31T14:28:17.329856Z",
     "iopub.status.busy": "2022-05-31T14:28:17.329477Z",
     "iopub.status.idle": "2022-05-31T14:28:17.334306Z",
     "shell.execute_reply": "2022-05-31T14:28:17.333349Z"
    },
    "papermill": {
     "duration": 0.033251,
     "end_time": "2022-05-31T14:28:17.336129",
     "exception": false,
     "start_time": "2022-05-31T14:28:17.302878",
     "status": "completed"
    },
    "tags": []
   },
   "outputs": [],
   "source": [
    "df=pd.DataFrame({\"entities\":l1, \"pos_tag\": l2, \"iob_tag\":l3})"
   ]
  },
  {
   "cell_type": "code",
   "execution_count": 15,
   "id": "2c113b14",
   "metadata": {
    "execution": {
     "iopub.execute_input": "2022-05-31T14:28:17.389121Z",
     "iopub.status.busy": "2022-05-31T14:28:17.388706Z",
     "iopub.status.idle": "2022-05-31T14:28:17.397972Z",
     "shell.execute_reply": "2022-05-31T14:28:17.397273Z"
    },
    "papermill": {
     "duration": 0.038239,
     "end_time": "2022-05-31T14:28:17.399998",
     "exception": false,
     "start_time": "2022-05-31T14:28:17.361759",
     "status": "completed"
    },
    "tags": []
   },
   "outputs": [
    {
     "data": {
      "text/html": [
       "<div>\n",
       "<style scoped>\n",
       "    .dataframe tbody tr th:only-of-type {\n",
       "        vertical-align: middle;\n",
       "    }\n",
       "\n",
       "    .dataframe tbody tr th {\n",
       "        vertical-align: top;\n",
       "    }\n",
       "\n",
       "    .dataframe thead th {\n",
       "        text-align: right;\n",
       "    }\n",
       "</style>\n",
       "<table border=\"1\" class=\"dataframe\">\n",
       "  <thead>\n",
       "    <tr style=\"text-align: right;\">\n",
       "      <th></th>\n",
       "      <th>entities</th>\n",
       "      <th>pos_tag</th>\n",
       "      <th>iob_tag</th>\n",
       "    </tr>\n",
       "  </thead>\n",
       "  <tbody>\n",
       "    <tr>\n",
       "      <th>0</th>\n",
       "      <td>I</td>\n",
       "      <td>PRP</td>\n",
       "      <td>O</td>\n",
       "    </tr>\n",
       "    <tr>\n",
       "      <th>1</th>\n",
       "      <td>E</td>\n",
       "      <td>VBP</td>\n",
       "      <td>O</td>\n",
       "    </tr>\n",
       "    <tr>\n",
       "      <th>2</th>\n",
       "      <td>C</td>\n",
       "      <td>NNP</td>\n",
       "      <td>O</td>\n",
       "    </tr>\n",
       "    <tr>\n",
       "      <th>3</th>\n",
       "      <td>Whaley</td>\n",
       "      <td>NNP</td>\n",
       "      <td>O</td>\n",
       "    </tr>\n",
       "    <tr>\n",
       "      <th>4</th>\n",
       "      <td>solemnly</td>\n",
       "      <td>RB</td>\n",
       "      <td>O</td>\n",
       "    </tr>\n",
       "  </tbody>\n",
       "</table>\n",
       "</div>"
      ],
      "text/plain": [
       "   entities pos_tag iob_tag\n",
       "0         I     PRP       O\n",
       "1         E     VBP       O\n",
       "2         C     NNP       O\n",
       "3    Whaley     NNP       O\n",
       "4  solemnly      RB       O"
      ]
     },
     "execution_count": 15,
     "metadata": {},
     "output_type": "execute_result"
    }
   ],
   "source": [
    "df.head()"
   ]
  },
  {
   "cell_type": "markdown",
   "id": "1b55bece",
   "metadata": {
    "papermill": {
     "duration": 0.025568,
     "end_time": "2022-05-31T14:28:17.451377",
     "exception": false,
     "start_time": "2022-05-31T14:28:17.425809",
     "status": "completed"
    },
    "tags": []
   },
   "source": [
    "**trying other method like ne_chunk , it can be more accurate and helpful in term of identifying of PERSON ORGANIZATION and GPE**"
   ]
  },
  {
   "cell_type": "code",
   "execution_count": 16,
   "id": "e78d3b45",
   "metadata": {
    "execution": {
     "iopub.execute_input": "2022-05-31T14:28:17.505617Z",
     "iopub.status.busy": "2022-05-31T14:28:17.505182Z",
     "iopub.status.idle": "2022-05-31T14:28:17.707624Z",
     "shell.execute_reply": "2022-05-31T14:28:17.706697Z"
    },
    "papermill": {
     "duration": 0.232221,
     "end_time": "2022-05-31T14:28:17.709707",
     "exception": false,
     "start_time": "2022-05-31T14:28:17.477486",
     "status": "completed"
    },
    "tags": []
   },
   "outputs": [
    {
     "name": "stdout",
     "output_type": "stream",
     "text": [
      "[('[', 'NN'), ('[', 'NNP'), ('image', 'NN'), ('-', ':'), ('eagle', 'NN'), (']', 'NN'), (']', 'NNP'), ('AMNESTY', 'NNP'), ('OATH', 'NNP'), ('.', '.')]\n"
     ]
    }
   ],
   "source": [
    "ne_tree = nltk.ne_chunk(pos_tag(word_tokenize(text[10])))\n",
    "print(ne_tree[:10])"
   ]
  },
  {
   "cell_type": "markdown",
   "id": "f28fff56",
   "metadata": {
    "papermill": {
     "duration": 0.026171,
     "end_time": "2022-05-31T14:28:17.762964",
     "exception": false,
     "start_time": "2022-05-31T14:28:17.736793",
     "status": "completed"
    },
    "tags": []
   },
   "source": [
    "# Spacy"
   ]
  },
  {
   "cell_type": "markdown",
   "id": "a361d133",
   "metadata": {
    "papermill": {
     "duration": 0.027008,
     "end_time": "2022-05-31T14:28:17.817189",
     "exception": false,
     "start_time": "2022-05-31T14:28:17.790181",
     "status": "completed"
    },
    "tags": []
   },
   "source": [
    "*SpaCy’s named entity recognition has been trained on the OntoNotes 5 corpus and it supports the following entity types:*"
   ]
  },
  {
   "cell_type": "markdown",
   "id": "84695eab",
   "metadata": {
    "papermill": {
     "duration": 0.025367,
     "end_time": "2022-05-31T14:28:17.868325",
     "exception": false,
     "start_time": "2022-05-31T14:28:17.842958",
     "status": "completed"
    },
    "tags": []
   },
   "source": [
    "![](https://miro.medium.com/max/1400/1*qQggIPMugLcy-ndJ8X_aAA.png)"
   ]
  },
  {
   "cell_type": "markdown",
   "id": "b9a99db1",
   "metadata": {
    "papermill": {
     "duration": 0.026147,
     "end_time": "2022-05-31T14:28:17.920680",
     "exception": false,
     "start_time": "2022-05-31T14:28:17.894533",
     "status": "completed"
    },
    "tags": []
   },
   "source": [
    "importing the necessary libraries"
   ]
  },
  {
   "cell_type": "code",
   "execution_count": 17,
   "id": "16c2835e",
   "metadata": {
    "execution": {
     "iopub.execute_input": "2022-05-31T14:28:17.978490Z",
     "iopub.status.busy": "2022-05-31T14:28:17.977584Z",
     "iopub.status.idle": "2022-05-31T14:28:23.811552Z",
     "shell.execute_reply": "2022-05-31T14:28:23.810508Z"
    },
    "papermill": {
     "duration": 5.866302,
     "end_time": "2022-05-31T14:28:23.813845",
     "exception": false,
     "start_time": "2022-05-31T14:28:17.947543",
     "status": "completed"
    },
    "tags": []
   },
   "outputs": [],
   "source": [
    "import spacy\n",
    "from spacy import displacy\n",
    "from collections import Counter\n",
    "import en_core_web_sm\n",
    "nlp = en_core_web_sm.load()"
   ]
  },
  {
   "cell_type": "markdown",
   "id": "d29424c7",
   "metadata": {
    "papermill": {
     "duration": 0.025645,
     "end_time": "2022-05-31T14:28:23.866532",
     "exception": false,
     "start_time": "2022-05-31T14:28:23.840887",
     "status": "completed"
    },
    "tags": []
   },
   "source": [
    "**trying to extract all useful information about the entity in text  from Doc(nlp(text) like : the entity | the lemmatization of the entity | the label of the entity and the explanation of the label**"
   ]
  },
  {
   "cell_type": "code",
   "execution_count": 18,
   "id": "03777085",
   "metadata": {
    "execution": {
     "iopub.execute_input": "2022-05-31T14:28:23.922568Z",
     "iopub.status.busy": "2022-05-31T14:28:23.922169Z",
     "iopub.status.idle": "2022-05-31T14:28:23.927495Z",
     "shell.execute_reply": "2022-05-31T14:28:23.926492Z"
    },
    "papermill": {
     "duration": 0.036704,
     "end_time": "2022-05-31T14:28:23.929427",
     "exception": false,
     "start_time": "2022-05-31T14:28:23.892723",
     "status": "completed"
    },
    "tags": []
   },
   "outputs": [],
   "source": [
    "L1=[]\n",
    "def NER (txt):\n",
    "    for i in range(20):\n",
    "        nlp_text=nlp(txt[i])\n",
    "        L1.append([(word.text,word.lemma_, word.start_char, word.end_char, word.label_,spacy.explain(word.label_)) for word in nlp_text.ents])"
   ]
  },
  {
   "cell_type": "code",
   "execution_count": 19,
   "id": "a5f9a16e",
   "metadata": {
    "execution": {
     "iopub.execute_input": "2022-05-31T14:28:23.984036Z",
     "iopub.status.busy": "2022-05-31T14:28:23.983109Z",
     "iopub.status.idle": "2022-05-31T14:28:23.988145Z",
     "shell.execute_reply": "2022-05-31T14:28:23.987464Z"
    },
    "papermill": {
     "duration": 0.034654,
     "end_time": "2022-05-31T14:28:23.990203",
     "exception": false,
     "start_time": "2022-05-31T14:28:23.955549",
     "status": "completed"
    },
    "tags": []
   },
   "outputs": [],
   "source": [
    "L2=[]\n",
    "def NER1 (txt):\n",
    "    for i in range(20):\n",
    "        nlp_text=nlp(txt[i])\n",
    "        L2.append([(word,word.lemma_, word.ent_iob_, word.ent_type_, word.pos) for word in nlp_text])"
   ]
  },
  {
   "cell_type": "code",
   "execution_count": 20,
   "id": "a64a68bc",
   "metadata": {
    "execution": {
     "iopub.execute_input": "2022-05-31T14:28:24.045598Z",
     "iopub.status.busy": "2022-05-31T14:28:24.044914Z",
     "iopub.status.idle": "2022-05-31T14:28:25.232615Z",
     "shell.execute_reply": "2022-05-31T14:28:25.231503Z"
    },
    "papermill": {
     "duration": 1.218135,
     "end_time": "2022-05-31T14:28:25.234937",
     "exception": false,
     "start_time": "2022-05-31T14:28:24.016802",
     "status": "completed"
    },
    "tags": []
   },
   "outputs": [],
   "source": [
    "NER(text)\n",
    "NER1(text)"
   ]
  },
  {
   "cell_type": "code",
   "execution_count": 21,
   "id": "674d3d5b",
   "metadata": {
    "execution": {
     "iopub.execute_input": "2022-05-31T14:28:25.288558Z",
     "iopub.status.busy": "2022-05-31T14:28:25.288140Z",
     "iopub.status.idle": "2022-05-31T14:28:25.297500Z",
     "shell.execute_reply": "2022-05-31T14:28:25.296811Z"
    },
    "papermill": {
     "duration": 0.038386,
     "end_time": "2022-05-31T14:28:25.299228",
     "exception": false,
     "start_time": "2022-05-31T14:28:25.260842",
     "status": "completed"
    },
    "tags": []
   },
   "outputs": [
    {
     "data": {
      "text/plain": [
       "[('Anne H. Elliott',\n",
       "  'Anne H. Elliott',\n",
       "  14,\n",
       "  29,\n",
       "  'PERSON',\n",
       "  'People, including fictional'),\n",
       " ('Amnesty',\n",
       "  'Amnesty',\n",
       "  76,\n",
       "  83,\n",
       "  'ORG',\n",
       "  'Companies, agencies, institutions, etc.'),\n",
       " ('Andrew Johnson',\n",
       "  'Andrew Johnson',\n",
       "  107,\n",
       "  121,\n",
       "  'PERSON',\n",
       "  'People, including fictional'),\n",
       " ('the United States of America',\n",
       "  'the United States of America',\n",
       "  135,\n",
       "  163,\n",
       "  'GPE',\n",
       "  'Countries, cities, states'),\n",
       " ('May 29th 1865',\n",
       "  'May 29th 1865',\n",
       "  167,\n",
       "  180,\n",
       "  'DATE',\n",
       "  'Absolute or relative dates or periods'),\n",
       " ('one',\n",
       "  'one',\n",
       "  254,\n",
       "  257,\n",
       "  'CARDINAL',\n",
       "  'Numerals that do not fall under another type'),\n",
       " ('fourteen',\n",
       "  'fourteen',\n",
       "  265,\n",
       "  273,\n",
       "  'CARDINAL',\n",
       "  'Numerals that do not fall under another type'),\n",
       " ('1865', '1865', 358, 362, 'DATE', 'Absolute or relative dates or periods'),\n",
       " ('S. Wilde Durson',\n",
       "  'S. Wilde Durson',\n",
       "  364,\n",
       "  379,\n",
       "  'PERSON',\n",
       "  'People, including fictional'),\n",
       " ('Magt', 'Magt', 381, 385, 'GPE', 'Countries, cities, states'),\n",
       " ('2 cent', '2 cent', 409, 415, 'MONEY', 'Monetary values, including unit'),\n",
       " ('Anne H Elliott',\n",
       "  'Anne H Elliott',\n",
       "  436,\n",
       "  450,\n",
       "  'PERSON',\n",
       "  'People, including fictional'),\n",
       " ('United States of America',\n",
       "  'United States of America',\n",
       "  454,\n",
       "  478,\n",
       "  'GPE',\n",
       "  'Countries, cities, states'),\n",
       " ('Anne H Elliott',\n",
       "  'Anne H Elliott',\n",
       "  482,\n",
       "  496,\n",
       "  'PERSON',\n",
       "  'People, including fictional'),\n",
       " ('the District of Beaufort',\n",
       "  'the District of Beaufort',\n",
       "  501,\n",
       "  525,\n",
       "  'GPE',\n",
       "  'Countries, cities, states'),\n",
       " ('State',\n",
       "  'State',\n",
       "  527,\n",
       "  532,\n",
       "  'ORG',\n",
       "  'Companies, agencies, institutions, etc.'),\n",
       " ('South Carolina',\n",
       "  'South Carolina',\n",
       "  536,\n",
       "  550,\n",
       "  'GPE',\n",
       "  'Countries, cities, states'),\n",
       " ('the United States',\n",
       "  'the United States',\n",
       "  674,\n",
       "  691,\n",
       "  'GPE',\n",
       "  'Countries, cities, states'),\n",
       " ('the Union of the States',\n",
       "  'the Union of the States',\n",
       "  696,\n",
       "  719,\n",
       "  'ORG',\n",
       "  'Companies, agencies, institutions, etc.'),\n",
       " ('Rebellion',\n",
       "  'rebellion',\n",
       "  863,\n",
       "  872,\n",
       "  'ORG',\n",
       "  'Companies, agencies, institutions, etc.'),\n",
       " ('Sworn',\n",
       "  'swear',\n",
       "  937,\n",
       "  942,\n",
       "  'ORG',\n",
       "  'Companies, agencies, institutions, etc.'),\n",
       " ('Novbr',\n",
       "  'Novbr',\n",
       "  989,\n",
       "  994,\n",
       "  'ORG',\n",
       "  'Companies, agencies, institutions, etc.'),\n",
       " ('1865', '1865', 996, 1000, 'DATE', 'Absolute or relative dates or periods'),\n",
       " ('Magistrate',\n",
       "  'Magistrate',\n",
       "  1004,\n",
       "  1014,\n",
       "  'ORG',\n",
       "  'Companies, agencies, institutions, etc.'),\n",
       " ('S. Wilde', 'S. Wilde', 1016, 1024, 'PERSON', 'People, including fictional'),\n",
       " ('3',\n",
       "  '3',\n",
       "  1063,\n",
       "  1064,\n",
       "  'CARDINAL',\n",
       "  'Numerals that do not fall under another type'),\n",
       " ('Hazel', 'Hazel', 1152, 1157, 'PERSON', 'People, including fictional'),\n",
       " ('5 feet 3 inches',\n",
       "  '5 foot 3 inch',\n",
       "  1166,\n",
       "  1181,\n",
       "  'QUANTITY',\n",
       "  'Measurements, as of weight or distance'),\n",
       " ('63 years',\n",
       "  '63 year',\n",
       "  1193,\n",
       "  1201,\n",
       "  'DATE',\n",
       "  'Absolute or relative dates or periods'),\n",
       " ('S. Wilde Durson',\n",
       "  'S. Wilde Durson',\n",
       "  1236,\n",
       "  1251,\n",
       "  'PERSON',\n",
       "  'People, including fictional'),\n",
       " ('Magtr',\n",
       "  'magtr',\n",
       "  1253,\n",
       "  1258,\n",
       "  'ORG',\n",
       "  'Companies, agencies, institutions, etc.')]"
      ]
     },
     "execution_count": 21,
     "metadata": {},
     "output_type": "execute_result"
    }
   ],
   "source": [
    "L1[0]"
   ]
  },
  {
   "cell_type": "markdown",
   "id": "9df07ad5",
   "metadata": {
    "papermill": {
     "duration": 0.025425,
     "end_time": "2022-05-31T14:28:25.351096",
     "exception": false,
     "start_time": "2022-05-31T14:28:25.325671",
     "status": "completed"
    },
    "tags": []
   },
   "source": [
    "**structered the extracted information in a dataframe for using it in the next stage**"
   ]
  },
  {
   "cell_type": "code",
   "execution_count": 22,
   "id": "cf15ed35",
   "metadata": {
    "execution": {
     "iopub.execute_input": "2022-05-31T14:28:25.404748Z",
     "iopub.status.busy": "2022-05-31T14:28:25.403744Z",
     "iopub.status.idle": "2022-05-31T14:28:25.411521Z",
     "shell.execute_reply": "2022-05-31T14:28:25.410585Z"
    },
    "papermill": {
     "duration": 0.036846,
     "end_time": "2022-05-31T14:28:25.413747",
     "exception": false,
     "start_time": "2022-05-31T14:28:25.376901",
     "status": "completed"
    },
    "tags": []
   },
   "outputs": [],
   "source": [
    "l0=[]\n",
    "l1=[]\n",
    "l2=[]\n",
    "l3=[]\n",
    "l4=[]\n",
    "l5=[]\n",
    "for i in range(len(L1)):\n",
    "    for j in range(len(L1[i])):\n",
    "        l0.append(L1[i][j][0])\n",
    "        l1.append(L1[i][j][1])\n",
    "        l2.append(L1[i][j][2])\n",
    "        l3.append(L1[i][j][3])\n",
    "        l4.append(L1[i][j][4])\n",
    "        l5.append(L1[i][j][5])\n",
    "   "
   ]
  },
  {
   "cell_type": "code",
   "execution_count": 23,
   "id": "cfcfe70f",
   "metadata": {
    "execution": {
     "iopub.execute_input": "2022-05-31T14:28:25.466803Z",
     "iopub.status.busy": "2022-05-31T14:28:25.466394Z",
     "iopub.status.idle": "2022-05-31T14:28:25.481251Z",
     "shell.execute_reply": "2022-05-31T14:28:25.480308Z"
    },
    "papermill": {
     "duration": 0.043361,
     "end_time": "2022-05-31T14:28:25.482991",
     "exception": false,
     "start_time": "2022-05-31T14:28:25.439630",
     "status": "completed"
    },
    "tags": []
   },
   "outputs": [
    {
     "data": {
      "text/html": [
       "<div>\n",
       "<style scoped>\n",
       "    .dataframe tbody tr th:only-of-type {\n",
       "        vertical-align: middle;\n",
       "    }\n",
       "\n",
       "    .dataframe tbody tr th {\n",
       "        vertical-align: top;\n",
       "    }\n",
       "\n",
       "    .dataframe thead th {\n",
       "        text-align: right;\n",
       "    }\n",
       "</style>\n",
       "<table border=\"1\" class=\"dataframe\">\n",
       "  <thead>\n",
       "    <tr style=\"text-align: right;\">\n",
       "      <th></th>\n",
       "      <th>entities</th>\n",
       "      <th>lemmatization</th>\n",
       "      <th>start_char</th>\n",
       "      <th>end_char</th>\n",
       "      <th>label</th>\n",
       "      <th>explain</th>\n",
       "      <th>frequency</th>\n",
       "    </tr>\n",
       "  </thead>\n",
       "  <tbody>\n",
       "    <tr>\n",
       "      <th>0</th>\n",
       "      <td>Anne H. Elliott</td>\n",
       "      <td>Anne H. Elliott</td>\n",
       "      <td>14</td>\n",
       "      <td>29</td>\n",
       "      <td>PERSON</td>\n",
       "      <td>People, including fictional</td>\n",
       "      <td></td>\n",
       "    </tr>\n",
       "    <tr>\n",
       "      <th>1</th>\n",
       "      <td>Amnesty</td>\n",
       "      <td>Amnesty</td>\n",
       "      <td>76</td>\n",
       "      <td>83</td>\n",
       "      <td>ORG</td>\n",
       "      <td>Companies, agencies, institutions, etc.</td>\n",
       "      <td></td>\n",
       "    </tr>\n",
       "    <tr>\n",
       "      <th>2</th>\n",
       "      <td>Andrew Johnson</td>\n",
       "      <td>Andrew Johnson</td>\n",
       "      <td>107</td>\n",
       "      <td>121</td>\n",
       "      <td>PERSON</td>\n",
       "      <td>People, including fictional</td>\n",
       "      <td></td>\n",
       "    </tr>\n",
       "    <tr>\n",
       "      <th>3</th>\n",
       "      <td>the United States of America</td>\n",
       "      <td>the United States of America</td>\n",
       "      <td>135</td>\n",
       "      <td>163</td>\n",
       "      <td>GPE</td>\n",
       "      <td>Countries, cities, states</td>\n",
       "      <td></td>\n",
       "    </tr>\n",
       "    <tr>\n",
       "      <th>4</th>\n",
       "      <td>May 29th 1865</td>\n",
       "      <td>May 29th 1865</td>\n",
       "      <td>167</td>\n",
       "      <td>180</td>\n",
       "      <td>DATE</td>\n",
       "      <td>Absolute or relative dates or periods</td>\n",
       "      <td></td>\n",
       "    </tr>\n",
       "  </tbody>\n",
       "</table>\n",
       "</div>"
      ],
      "text/plain": [
       "                       entities                 lemmatization  start_char  \\\n",
       "0               Anne H. Elliott               Anne H. Elliott          14   \n",
       "1                       Amnesty                       Amnesty          76   \n",
       "2                Andrew Johnson                Andrew Johnson         107   \n",
       "3  the United States of America  the United States of America         135   \n",
       "4                 May 29th 1865                 May 29th 1865         167   \n",
       "\n",
       "   end_char   label                                  explain frequency  \n",
       "0        29  PERSON              People, including fictional            \n",
       "1        83     ORG  Companies, agencies, institutions, etc.            \n",
       "2       121  PERSON              People, including fictional            \n",
       "3       163     GPE                Countries, cities, states            \n",
       "4       180    DATE    Absolute or relative dates or periods            "
      ]
     },
     "execution_count": 23,
     "metadata": {},
     "output_type": "execute_result"
    }
   ],
   "source": [
    "df1=pd.DataFrame({\"entities\":l0, \"lemmatization\": l1,\"start_char\":l2,\"end_char\":l3 ,\"label\": l4, \"explain\": l5, \"frequency\":\"\"})\n",
    "df1.head()\n"
   ]
  },
  {
   "cell_type": "code",
   "execution_count": 24,
   "id": "9baf7438",
   "metadata": {
    "execution": {
     "iopub.execute_input": "2022-05-31T14:28:25.538439Z",
     "iopub.status.busy": "2022-05-31T14:28:25.538032Z",
     "iopub.status.idle": "2022-05-31T14:28:25.544805Z",
     "shell.execute_reply": "2022-05-31T14:28:25.543559Z"
    },
    "papermill": {
     "duration": 0.037276,
     "end_time": "2022-05-31T14:28:25.546821",
     "exception": false,
     "start_time": "2022-05-31T14:28:25.509545",
     "status": "completed"
    },
    "tags": []
   },
   "outputs": [
    {
     "data": {
      "text/plain": [
       "(394, 7)"
      ]
     },
     "execution_count": 24,
     "metadata": {},
     "output_type": "execute_result"
    }
   ],
   "source": [
    "df1.shape"
   ]
  },
  {
   "cell_type": "markdown",
   "id": "a74fb5ff",
   "metadata": {
    "papermill": {
     "duration": 0.026461,
     "end_time": "2022-05-31T14:28:25.600086",
     "exception": false,
     "start_time": "2022-05-31T14:28:25.573625",
     "status": "completed"
    },
    "tags": []
   },
   "source": [
    "**adding the frequency of each entities in the text maybe it may help in improving the model later**"
   ]
  },
  {
   "cell_type": "code",
   "execution_count": 25,
   "id": "651ab3c9",
   "metadata": {
    "execution": {
     "iopub.execute_input": "2022-05-31T14:28:25.654713Z",
     "iopub.status.busy": "2022-05-31T14:28:25.654042Z",
     "iopub.status.idle": "2022-05-31T14:28:25.660494Z",
     "shell.execute_reply": "2022-05-31T14:28:25.659744Z"
    },
    "papermill": {
     "duration": 0.036096,
     "end_time": "2022-05-31T14:28:25.662412",
     "exception": false,
     "start_time": "2022-05-31T14:28:25.626316",
     "status": "completed"
    },
    "tags": []
   },
   "outputs": [
    {
     "data": {
      "text/plain": [
       "Counter({'Anne H. Elliott': 1,\n",
       "         'Amnesty': 1,\n",
       "         'Andrew Johnson': 1,\n",
       "         'the United States of America': 1,\n",
       "         'May 29th 1865': 1,\n",
       "         'one': 1,\n",
       "         'fourteen': 1,\n",
       "         '1865': 1,\n",
       "         'S. Wilde Durson': 1,\n",
       "         'Magt': 1})"
      ]
     },
     "execution_count": 25,
     "metadata": {},
     "output_type": "execute_result"
    }
   ],
   "source": [
    "Counter(df1[\"entities\"][:10])"
   ]
  },
  {
   "cell_type": "code",
   "execution_count": 26,
   "id": "7fbabcbe",
   "metadata": {
    "execution": {
     "iopub.execute_input": "2022-05-31T14:28:25.717522Z",
     "iopub.status.busy": "2022-05-31T14:28:25.717091Z",
     "iopub.status.idle": "2022-05-31T14:28:25.721842Z",
     "shell.execute_reply": "2022-05-31T14:28:25.720856Z"
    },
    "papermill": {
     "duration": 0.034817,
     "end_time": "2022-05-31T14:28:25.723887",
     "exception": false,
     "start_time": "2022-05-31T14:28:25.689070",
     "status": "completed"
    },
    "tags": []
   },
   "outputs": [],
   "source": [
    "dict=Counter(df1[\"entities\"])"
   ]
  },
  {
   "cell_type": "code",
   "execution_count": 27,
   "id": "3de97191",
   "metadata": {
    "execution": {
     "iopub.execute_input": "2022-05-31T14:28:25.779481Z",
     "iopub.status.busy": "2022-05-31T14:28:25.779043Z",
     "iopub.status.idle": "2022-05-31T14:28:25.911431Z",
     "shell.execute_reply": "2022-05-31T14:28:25.910230Z"
    },
    "papermill": {
     "duration": 0.162705,
     "end_time": "2022-05-31T14:28:25.913740",
     "exception": false,
     "start_time": "2022-05-31T14:28:25.751035",
     "status": "completed"
    },
    "tags": []
   },
   "outputs": [],
   "source": [
    "for i in range(df1.shape[0]):\n",
    "    df1[\"frequency\"][i]=dict[df1[\"entities\"].loc[i]]"
   ]
  },
  {
   "cell_type": "code",
   "execution_count": 28,
   "id": "64b92833",
   "metadata": {
    "execution": {
     "iopub.execute_input": "2022-05-31T14:28:25.975258Z",
     "iopub.status.busy": "2022-05-31T14:28:25.974237Z",
     "iopub.status.idle": "2022-05-31T14:28:25.991911Z",
     "shell.execute_reply": "2022-05-31T14:28:25.990908Z"
    },
    "papermill": {
     "duration": 0.04998,
     "end_time": "2022-05-31T14:28:25.994430",
     "exception": false,
     "start_time": "2022-05-31T14:28:25.944450",
     "status": "completed"
    },
    "tags": []
   },
   "outputs": [
    {
     "data": {
      "text/html": [
       "<div>\n",
       "<style scoped>\n",
       "    .dataframe tbody tr th:only-of-type {\n",
       "        vertical-align: middle;\n",
       "    }\n",
       "\n",
       "    .dataframe tbody tr th {\n",
       "        vertical-align: top;\n",
       "    }\n",
       "\n",
       "    .dataframe thead th {\n",
       "        text-align: right;\n",
       "    }\n",
       "</style>\n",
       "<table border=\"1\" class=\"dataframe\">\n",
       "  <thead>\n",
       "    <tr style=\"text-align: right;\">\n",
       "      <th></th>\n",
       "      <th>entities</th>\n",
       "      <th>lemmatization</th>\n",
       "      <th>start_char</th>\n",
       "      <th>end_char</th>\n",
       "      <th>label</th>\n",
       "      <th>explain</th>\n",
       "      <th>frequency</th>\n",
       "    </tr>\n",
       "  </thead>\n",
       "  <tbody>\n",
       "    <tr>\n",
       "      <th>0</th>\n",
       "      <td>Anne H. Elliott</td>\n",
       "      <td>Anne H. Elliott</td>\n",
       "      <td>14</td>\n",
       "      <td>29</td>\n",
       "      <td>PERSON</td>\n",
       "      <td>People, including fictional</td>\n",
       "      <td>1</td>\n",
       "    </tr>\n",
       "    <tr>\n",
       "      <th>1</th>\n",
       "      <td>Amnesty</td>\n",
       "      <td>Amnesty</td>\n",
       "      <td>76</td>\n",
       "      <td>83</td>\n",
       "      <td>ORG</td>\n",
       "      <td>Companies, agencies, institutions, etc.</td>\n",
       "      <td>2</td>\n",
       "    </tr>\n",
       "    <tr>\n",
       "      <th>2</th>\n",
       "      <td>Andrew Johnson</td>\n",
       "      <td>Andrew Johnson</td>\n",
       "      <td>107</td>\n",
       "      <td>121</td>\n",
       "      <td>PERSON</td>\n",
       "      <td>People, including fictional</td>\n",
       "      <td>2</td>\n",
       "    </tr>\n",
       "    <tr>\n",
       "      <th>3</th>\n",
       "      <td>the United States of America</td>\n",
       "      <td>the United States of America</td>\n",
       "      <td>135</td>\n",
       "      <td>163</td>\n",
       "      <td>GPE</td>\n",
       "      <td>Countries, cities, states</td>\n",
       "      <td>7</td>\n",
       "    </tr>\n",
       "    <tr>\n",
       "      <th>4</th>\n",
       "      <td>May 29th 1865</td>\n",
       "      <td>May 29th 1865</td>\n",
       "      <td>167</td>\n",
       "      <td>180</td>\n",
       "      <td>DATE</td>\n",
       "      <td>Absolute or relative dates or periods</td>\n",
       "      <td>1</td>\n",
       "    </tr>\n",
       "    <tr>\n",
       "      <th>...</th>\n",
       "      <td>...</td>\n",
       "      <td>...</td>\n",
       "      <td>...</td>\n",
       "      <td>...</td>\n",
       "      <td>...</td>\n",
       "      <td>...</td>\n",
       "      <td>...</td>\n",
       "    </tr>\n",
       "    <tr>\n",
       "      <th>389</th>\n",
       "      <td>Warren Co Miss</td>\n",
       "      <td>Warren Co Miss</td>\n",
       "      <td>985</td>\n",
       "      <td>999</td>\n",
       "      <td>PERSON</td>\n",
       "      <td>People, including fictional</td>\n",
       "      <td>1</td>\n",
       "    </tr>\n",
       "    <tr>\n",
       "      <th>390</th>\n",
       "      <td>1865</td>\n",
       "      <td>1865</td>\n",
       "      <td>1033</td>\n",
       "      <td>1037</td>\n",
       "      <td>DATE</td>\n",
       "      <td>Absolute or relative dates or periods</td>\n",
       "      <td>14</td>\n",
       "    </tr>\n",
       "    <tr>\n",
       "      <th>391</th>\n",
       "      <td>Frank E. Miller</td>\n",
       "      <td>Frank E. Miller</td>\n",
       "      <td>1042</td>\n",
       "      <td>1057</td>\n",
       "      <td>PERSON</td>\n",
       "      <td>People, including fictional</td>\n",
       "      <td>2</td>\n",
       "    </tr>\n",
       "    <tr>\n",
       "      <th>392</th>\n",
       "      <td>66th</td>\n",
       "      <td>66th</td>\n",
       "      <td>1065</td>\n",
       "      <td>1069</td>\n",
       "      <td>ORDINAL</td>\n",
       "      <td>\"first\", \"second\", etc.</td>\n",
       "      <td>3</td>\n",
       "    </tr>\n",
       "    <tr>\n",
       "      <th>393</th>\n",
       "      <td>U.S.C.I. Commanding</td>\n",
       "      <td>U.S.C.I. Commanding</td>\n",
       "      <td>1070</td>\n",
       "      <td>1089</td>\n",
       "      <td>ORG</td>\n",
       "      <td>Companies, agencies, institutions, etc.</td>\n",
       "      <td>1</td>\n",
       "    </tr>\n",
       "  </tbody>\n",
       "</table>\n",
       "<p>394 rows × 7 columns</p>\n",
       "</div>"
      ],
      "text/plain": [
       "                         entities                 lemmatization  start_char  \\\n",
       "0                 Anne H. Elliott               Anne H. Elliott          14   \n",
       "1                         Amnesty                       Amnesty          76   \n",
       "2                  Andrew Johnson                Andrew Johnson         107   \n",
       "3    the United States of America  the United States of America         135   \n",
       "4                   May 29th 1865                 May 29th 1865         167   \n",
       "..                            ...                           ...         ...   \n",
       "389                Warren Co Miss                Warren Co Miss         985   \n",
       "390                          1865                          1865        1033   \n",
       "391               Frank E. Miller               Frank E. Miller        1042   \n",
       "392                          66th                          66th        1065   \n",
       "393           U.S.C.I. Commanding           U.S.C.I. Commanding        1070   \n",
       "\n",
       "     end_char    label                                  explain frequency  \n",
       "0          29   PERSON              People, including fictional         1  \n",
       "1          83      ORG  Companies, agencies, institutions, etc.         2  \n",
       "2         121   PERSON              People, including fictional         2  \n",
       "3         163      GPE                Countries, cities, states         7  \n",
       "4         180     DATE    Absolute or relative dates or periods         1  \n",
       "..        ...      ...                                      ...       ...  \n",
       "389       999   PERSON              People, including fictional         1  \n",
       "390      1037     DATE    Absolute or relative dates or periods        14  \n",
       "391      1057   PERSON              People, including fictional         2  \n",
       "392      1069  ORDINAL                  \"first\", \"second\", etc.         3  \n",
       "393      1089      ORG  Companies, agencies, institutions, etc.         1  \n",
       "\n",
       "[394 rows x 7 columns]"
      ]
     },
     "execution_count": 28,
     "metadata": {},
     "output_type": "execute_result"
    }
   ],
   "source": [
    "df1"
   ]
  },
  {
   "cell_type": "code",
   "execution_count": 29,
   "id": "f951f31f",
   "metadata": {
    "execution": {
     "iopub.execute_input": "2022-05-31T14:28:26.053787Z",
     "iopub.status.busy": "2022-05-31T14:28:26.053186Z",
     "iopub.status.idle": "2022-05-31T14:28:26.059395Z",
     "shell.execute_reply": "2022-05-31T14:28:26.058661Z"
    },
    "papermill": {
     "duration": 0.037154,
     "end_time": "2022-05-31T14:28:26.061207",
     "exception": false,
     "start_time": "2022-05-31T14:28:26.024053",
     "status": "completed"
    },
    "tags": []
   },
   "outputs": [
    {
     "data": {
      "text/plain": [
       "'Amnesty'"
      ]
     },
     "execution_count": 29,
     "metadata": {},
     "output_type": "execute_result"
    }
   ],
   "source": [
    "df1[\"entities\"].loc[1]"
   ]
  },
  {
   "cell_type": "code",
   "execution_count": 30,
   "id": "515fdb3c",
   "metadata": {
    "execution": {
     "iopub.execute_input": "2022-05-31T14:28:26.117729Z",
     "iopub.status.busy": "2022-05-31T14:28:26.116701Z",
     "iopub.status.idle": "2022-05-31T14:28:26.123387Z",
     "shell.execute_reply": "2022-05-31T14:28:26.122470Z"
    },
    "papermill": {
     "duration": 0.036507,
     "end_time": "2022-05-31T14:28:26.125267",
     "exception": false,
     "start_time": "2022-05-31T14:28:26.088760",
     "status": "completed"
    },
    "tags": []
   },
   "outputs": [
    {
     "data": {
      "text/plain": [
       "[(I, 'I', 'O', '', 95),\n",
       " (E, 'e', 'O', '', 92),\n",
       " (C, 'C', 'O', '', 96),\n",
       " (Whaley, 'Whaley', 'B', 'PERSON', 96),\n",
       " (solemnly, 'solemnly', 'O', '', 86)]"
      ]
     },
     "execution_count": 30,
     "metadata": {},
     "output_type": "execute_result"
    }
   ],
   "source": [
    "L2[1][:5]"
   ]
  },
  {
   "cell_type": "code",
   "execution_count": 31,
   "id": "6b2054bc",
   "metadata": {
    "execution": {
     "iopub.execute_input": "2022-05-31T14:28:26.181911Z",
     "iopub.status.busy": "2022-05-31T14:28:26.181336Z",
     "iopub.status.idle": "2022-05-31T14:28:26.188070Z",
     "shell.execute_reply": "2022-05-31T14:28:26.187362Z"
    },
    "papermill": {
     "duration": 0.036948,
     "end_time": "2022-05-31T14:28:26.189674",
     "exception": false,
     "start_time": "2022-05-31T14:28:26.152726",
     "status": "completed"
    },
    "tags": []
   },
   "outputs": [
    {
     "data": {
      "text/plain": [
       "[(8, '8', 'O', '', 93),\n",
       " (E, 'e', 'O', '', 92),\n",
       " (encl, 'encl', 'O', '', 92),\n",
       " (\n",
       "  , '\\r\\n\\r\\n', 'O', '', 103),\n",
       " (I, 'i', 'O', '', 100),\n",
       " (Anne, 'Anne', 'B', 'PERSON', 96),\n",
       " (H., 'H.', 'I', 'PERSON', 96),\n",
       " (Elliott, 'Elliott', 'I', 'PERSON', 96),\n",
       " (,, ',', 'O', '', 97),\n",
       " (widow, 'widow', 'O', '', 92)]"
      ]
     },
     "execution_count": 31,
     "metadata": {},
     "output_type": "execute_result"
    }
   ],
   "source": [
    "L2[0][:10]"
   ]
  },
  {
   "cell_type": "code",
   "execution_count": 32,
   "id": "9c9f81a9",
   "metadata": {
    "execution": {
     "iopub.execute_input": "2022-05-31T14:28:26.246358Z",
     "iopub.status.busy": "2022-05-31T14:28:26.245712Z",
     "iopub.status.idle": "2022-05-31T14:28:26.253719Z",
     "shell.execute_reply": "2022-05-31T14:28:26.252972Z"
    },
    "papermill": {
     "duration": 0.038942,
     "end_time": "2022-05-31T14:28:26.255745",
     "exception": false,
     "start_time": "2022-05-31T14:28:26.216803",
     "status": "completed"
    },
    "tags": []
   },
   "outputs": [],
   "source": [
    "l1=[]\n",
    "l2=[]\n",
    "l3=[]\n",
    "l4=[]\n",
    "for i in range(20):\n",
    "    for j in range(len(L2[i])):\n",
    "        l1.append(L2[i][j][0])\n",
    "        l2.append(L2[i][j][1])\n",
    "        l3.append(L2[i][j][2])\n",
    "        l4.append(L2[i][j][3])"
   ]
  },
  {
   "cell_type": "code",
   "execution_count": 33,
   "id": "7be94e05",
   "metadata": {
    "execution": {
     "iopub.execute_input": "2022-05-31T14:28:26.313221Z",
     "iopub.status.busy": "2022-05-31T14:28:26.312505Z",
     "iopub.status.idle": "2022-05-31T14:28:26.333363Z",
     "shell.execute_reply": "2022-05-31T14:28:26.332557Z"
    },
    "papermill": {
     "duration": 0.052481,
     "end_time": "2022-05-31T14:28:26.335425",
     "exception": false,
     "start_time": "2022-05-31T14:28:26.282944",
     "status": "completed"
    },
    "tags": []
   },
   "outputs": [
    {
     "data": {
      "text/html": [
       "<div>\n",
       "<style scoped>\n",
       "    .dataframe tbody tr th:only-of-type {\n",
       "        vertical-align: middle;\n",
       "    }\n",
       "\n",
       "    .dataframe tbody tr th {\n",
       "        vertical-align: top;\n",
       "    }\n",
       "\n",
       "    .dataframe thead th {\n",
       "        text-align: right;\n",
       "    }\n",
       "</style>\n",
       "<table border=\"1\" class=\"dataframe\">\n",
       "  <thead>\n",
       "    <tr style=\"text-align: right;\">\n",
       "      <th></th>\n",
       "      <th>entities</th>\n",
       "      <th>lemmatizaton</th>\n",
       "      <th>iob_tag</th>\n",
       "      <th>label</th>\n",
       "      <th>pos_tag</th>\n",
       "      <th>explain_tag</th>\n",
       "      <th>relationship</th>\n",
       "    </tr>\n",
       "  </thead>\n",
       "  <tbody>\n",
       "    <tr>\n",
       "      <th>0</th>\n",
       "      <td>8</td>\n",
       "      <td>8</td>\n",
       "      <td>O</td>\n",
       "      <td></td>\n",
       "      <td></td>\n",
       "      <td></td>\n",
       "      <td></td>\n",
       "    </tr>\n",
       "    <tr>\n",
       "      <th>1</th>\n",
       "      <td>E</td>\n",
       "      <td>e</td>\n",
       "      <td>O</td>\n",
       "      <td></td>\n",
       "      <td></td>\n",
       "      <td></td>\n",
       "      <td></td>\n",
       "    </tr>\n",
       "    <tr>\n",
       "      <th>2</th>\n",
       "      <td>encl</td>\n",
       "      <td>encl</td>\n",
       "      <td>O</td>\n",
       "      <td></td>\n",
       "      <td></td>\n",
       "      <td></td>\n",
       "      <td></td>\n",
       "    </tr>\n",
       "    <tr>\n",
       "      <th>3</th>\n",
       "      <td>\\r\\n\\r\\n</td>\n",
       "      <td>\\r\\n\\r\\n</td>\n",
       "      <td>O</td>\n",
       "      <td></td>\n",
       "      <td></td>\n",
       "      <td></td>\n",
       "      <td></td>\n",
       "    </tr>\n",
       "    <tr>\n",
       "      <th>4</th>\n",
       "      <td>I</td>\n",
       "      <td>i</td>\n",
       "      <td>O</td>\n",
       "      <td></td>\n",
       "      <td></td>\n",
       "      <td></td>\n",
       "      <td></td>\n",
       "    </tr>\n",
       "    <tr>\n",
       "      <th>5</th>\n",
       "      <td>Anne</td>\n",
       "      <td>Anne</td>\n",
       "      <td>B</td>\n",
       "      <td>PERSON</td>\n",
       "      <td></td>\n",
       "      <td></td>\n",
       "      <td></td>\n",
       "    </tr>\n",
       "    <tr>\n",
       "      <th>6</th>\n",
       "      <td>H.</td>\n",
       "      <td>H.</td>\n",
       "      <td>I</td>\n",
       "      <td>PERSON</td>\n",
       "      <td></td>\n",
       "      <td></td>\n",
       "      <td></td>\n",
       "    </tr>\n",
       "    <tr>\n",
       "      <th>7</th>\n",
       "      <td>Elliott</td>\n",
       "      <td>Elliott</td>\n",
       "      <td>I</td>\n",
       "      <td>PERSON</td>\n",
       "      <td></td>\n",
       "      <td></td>\n",
       "      <td></td>\n",
       "    </tr>\n",
       "    <tr>\n",
       "      <th>8</th>\n",
       "      <td>,</td>\n",
       "      <td>,</td>\n",
       "      <td>O</td>\n",
       "      <td></td>\n",
       "      <td></td>\n",
       "      <td></td>\n",
       "      <td></td>\n",
       "    </tr>\n",
       "    <tr>\n",
       "      <th>9</th>\n",
       "      <td>widow</td>\n",
       "      <td>widow</td>\n",
       "      <td>O</td>\n",
       "      <td></td>\n",
       "      <td></td>\n",
       "      <td></td>\n",
       "      <td></td>\n",
       "    </tr>\n",
       "  </tbody>\n",
       "</table>\n",
       "</div>"
      ],
      "text/plain": [
       "   entities lemmatizaton iob_tag   label pos_tag explain_tag relationship\n",
       "0         8            8       O                                         \n",
       "1         E            e       O                                         \n",
       "2      encl         encl       O                                         \n",
       "3  \\r\\n\\r\\n     \\r\\n\\r\\n       O                                         \n",
       "4         I            i       O                                         \n",
       "5      Anne         Anne       B  PERSON                                 \n",
       "6        H.           H.       I  PERSON                                 \n",
       "7   Elliott      Elliott       I  PERSON                                 \n",
       "8         ,            ,       O                                         \n",
       "9     widow        widow       O                                         "
      ]
     },
     "execution_count": 33,
     "metadata": {},
     "output_type": "execute_result"
    }
   ],
   "source": [
    "df2=pd.DataFrame({\"entities\":l1,\"lemmatizaton\":l2, \"iob_tag\": l3, \"label\":l4, \"pos_tag\": \"\", \"explain_tag\":\"\",\"relationship\": \"\"})\n",
    "df2.head(10)\n"
   ]
  },
  {
   "cell_type": "markdown",
   "id": "e8360ea7",
   "metadata": {
    "papermill": {
     "duration": 0.027702,
     "end_time": "2022-05-31T14:28:26.392846",
     "exception": false,
     "start_time": "2022-05-31T14:28:26.365144",
     "status": "completed"
    },
    "tags": []
   },
   "source": [
    "**adding pos_tag and its explanation to the dataframe to be more simpl and easy to understand**"
   ]
  },
  {
   "cell_type": "code",
   "execution_count": 34,
   "id": "ca5d7813",
   "metadata": {
    "execution": {
     "iopub.execute_input": "2022-05-31T14:28:26.454576Z",
     "iopub.status.busy": "2022-05-31T14:28:26.453900Z",
     "iopub.status.idle": "2022-05-31T14:28:27.296451Z",
     "shell.execute_reply": "2022-05-31T14:28:27.295348Z"
    },
    "papermill": {
     "duration": 0.878284,
     "end_time": "2022-05-31T14:28:27.298924",
     "exception": false,
     "start_time": "2022-05-31T14:28:26.420640",
     "status": "completed"
    },
    "tags": []
   },
   "outputs": [],
   "source": [
    "L=[]\n",
    "t=[]\n",
    "for i in range(df2.shape[0]) :\n",
    "    x = df2[\"entities\"].loc[i]\n",
    "    L.append((x.pos_))\n",
    "    t.append(spacy.explain(x.tag_))\n",
    "    df2[\"pos_tag\"].loc[i]=L[i]\n",
    "    df2[\"explain_tag\"].loc[i]=t[i]"
   ]
  },
  {
   "cell_type": "code",
   "execution_count": 35,
   "id": "92f45feb",
   "metadata": {
    "execution": {
     "iopub.execute_input": "2022-05-31T14:28:27.363102Z",
     "iopub.status.busy": "2022-05-31T14:28:27.362661Z",
     "iopub.status.idle": "2022-05-31T14:28:27.378493Z",
     "shell.execute_reply": "2022-05-31T14:28:27.377284Z"
    },
    "papermill": {
     "duration": 0.052918,
     "end_time": "2022-05-31T14:28:27.380803",
     "exception": false,
     "start_time": "2022-05-31T14:28:27.327885",
     "status": "completed"
    },
    "tags": []
   },
   "outputs": [
    {
     "data": {
      "text/html": [
       "<div>\n",
       "<style scoped>\n",
       "    .dataframe tbody tr th:only-of-type {\n",
       "        vertical-align: middle;\n",
       "    }\n",
       "\n",
       "    .dataframe tbody tr th {\n",
       "        vertical-align: top;\n",
       "    }\n",
       "\n",
       "    .dataframe thead th {\n",
       "        text-align: right;\n",
       "    }\n",
       "</style>\n",
       "<table border=\"1\" class=\"dataframe\">\n",
       "  <thead>\n",
       "    <tr style=\"text-align: right;\">\n",
       "      <th></th>\n",
       "      <th>entities</th>\n",
       "      <th>lemmatizaton</th>\n",
       "      <th>iob_tag</th>\n",
       "      <th>label</th>\n",
       "      <th>pos_tag</th>\n",
       "      <th>explain_tag</th>\n",
       "      <th>relationship</th>\n",
       "    </tr>\n",
       "  </thead>\n",
       "  <tbody>\n",
       "    <tr>\n",
       "      <th>0</th>\n",
       "      <td>8</td>\n",
       "      <td>8</td>\n",
       "      <td>O</td>\n",
       "      <td></td>\n",
       "      <td>NUM</td>\n",
       "      <td>cardinal number</td>\n",
       "      <td></td>\n",
       "    </tr>\n",
       "    <tr>\n",
       "      <th>1</th>\n",
       "      <td>E</td>\n",
       "      <td>e</td>\n",
       "      <td>O</td>\n",
       "      <td></td>\n",
       "      <td>NOUN</td>\n",
       "      <td>noun, singular or mass</td>\n",
       "      <td></td>\n",
       "    </tr>\n",
       "    <tr>\n",
       "      <th>2</th>\n",
       "      <td>encl</td>\n",
       "      <td>encl</td>\n",
       "      <td>O</td>\n",
       "      <td></td>\n",
       "      <td>NOUN</td>\n",
       "      <td>noun, singular or mass</td>\n",
       "      <td></td>\n",
       "    </tr>\n",
       "    <tr>\n",
       "      <th>3</th>\n",
       "      <td>\\r\\n\\r\\n</td>\n",
       "      <td>\\r\\n\\r\\n</td>\n",
       "      <td>O</td>\n",
       "      <td></td>\n",
       "      <td>SPACE</td>\n",
       "      <td>whitespace</td>\n",
       "      <td></td>\n",
       "    </tr>\n",
       "    <tr>\n",
       "      <th>4</th>\n",
       "      <td>I</td>\n",
       "      <td>i</td>\n",
       "      <td>O</td>\n",
       "      <td></td>\n",
       "      <td>VERB</td>\n",
       "      <td>verb, non-3rd person singular present</td>\n",
       "      <td></td>\n",
       "    </tr>\n",
       "    <tr>\n",
       "      <th>...</th>\n",
       "      <td>...</td>\n",
       "      <td>...</td>\n",
       "      <td>...</td>\n",
       "      <td>...</td>\n",
       "      <td>...</td>\n",
       "      <td>...</td>\n",
       "      <td>...</td>\n",
       "    </tr>\n",
       "    <tr>\n",
       "      <th>3761</th>\n",
       "      <td>\\r\\n\\r\\n</td>\n",
       "      <td>\\r\\n\\r\\n</td>\n",
       "      <td>O</td>\n",
       "      <td></td>\n",
       "      <td>SPACE</td>\n",
       "      <td>whitespace</td>\n",
       "      <td></td>\n",
       "    </tr>\n",
       "    <tr>\n",
       "      <th>3762</th>\n",
       "      <td>[</td>\n",
       "      <td>[</td>\n",
       "      <td>O</td>\n",
       "      <td></td>\n",
       "      <td>X</td>\n",
       "      <td>unknown</td>\n",
       "      <td></td>\n",
       "    </tr>\n",
       "    <tr>\n",
       "      <th>3763</th>\n",
       "      <td>DUPLICATE</td>\n",
       "      <td>duplicate</td>\n",
       "      <td>O</td>\n",
       "      <td></td>\n",
       "      <td>X</td>\n",
       "      <td>unknown</td>\n",
       "      <td></td>\n",
       "    </tr>\n",
       "    <tr>\n",
       "      <th>3764</th>\n",
       "      <td>]</td>\n",
       "      <td>]</td>\n",
       "      <td>O</td>\n",
       "      <td></td>\n",
       "      <td>PUNCT</td>\n",
       "      <td>right round bracket</td>\n",
       "      <td></td>\n",
       "    </tr>\n",
       "    <tr>\n",
       "      <th>3765</th>\n",
       "      <td>\\r\\n</td>\n",
       "      <td>\\r\\n</td>\n",
       "      <td>O</td>\n",
       "      <td></td>\n",
       "      <td>SPACE</td>\n",
       "      <td>whitespace</td>\n",
       "      <td></td>\n",
       "    </tr>\n",
       "  </tbody>\n",
       "</table>\n",
       "<p>3766 rows × 7 columns</p>\n",
       "</div>"
      ],
      "text/plain": [
       "       entities lemmatizaton iob_tag label pos_tag  \\\n",
       "0             8            8       O           NUM   \n",
       "1             E            e       O          NOUN   \n",
       "2          encl         encl       O          NOUN   \n",
       "3      \\r\\n\\r\\n     \\r\\n\\r\\n       O         SPACE   \n",
       "4             I            i       O          VERB   \n",
       "...         ...          ...     ...   ...     ...   \n",
       "3761   \\r\\n\\r\\n     \\r\\n\\r\\n       O         SPACE   \n",
       "3762          [            [       O             X   \n",
       "3763  DUPLICATE    duplicate       O             X   \n",
       "3764          ]            ]       O         PUNCT   \n",
       "3765       \\r\\n         \\r\\n       O         SPACE   \n",
       "\n",
       "                                explain_tag relationship  \n",
       "0                           cardinal number               \n",
       "1                    noun, singular or mass               \n",
       "2                    noun, singular or mass               \n",
       "3                                whitespace               \n",
       "4     verb, non-3rd person singular present               \n",
       "...                                     ...          ...  \n",
       "3761                             whitespace               \n",
       "3762                                unknown               \n",
       "3763                                unknown               \n",
       "3764                    right round bracket               \n",
       "3765                             whitespace               \n",
       "\n",
       "[3766 rows x 7 columns]"
      ]
     },
     "execution_count": 35,
     "metadata": {},
     "output_type": "execute_result"
    }
   ],
   "source": [
    "df2"
   ]
  },
  {
   "cell_type": "markdown",
   "id": "2103c341",
   "metadata": {
    "papermill": {
     "duration": 0.030744,
     "end_time": "2022-05-31T14:28:27.440751",
     "exception": false,
     "start_time": "2022-05-31T14:28:27.410007",
     "status": "completed"
    },
    "tags": []
   },
   "source": [
    "**extract the relationship of the entity with its parent (dep_)**"
   ]
  },
  {
   "cell_type": "code",
   "execution_count": 36,
   "id": "46299be6",
   "metadata": {
    "execution": {
     "iopub.execute_input": "2022-05-31T14:28:27.512391Z",
     "iopub.status.busy": "2022-05-31T14:28:27.511685Z",
     "iopub.status.idle": "2022-05-31T14:28:27.986341Z",
     "shell.execute_reply": "2022-05-31T14:28:27.985337Z"
    },
    "papermill": {
     "duration": 0.510628,
     "end_time": "2022-05-31T14:28:27.988777",
     "exception": false,
     "start_time": "2022-05-31T14:28:27.478149",
     "status": "completed"
    },
    "tags": []
   },
   "outputs": [],
   "source": [
    "L=[]\n",
    "for i in range(df2.shape[0]) :\n",
    "    x = df2[\"entities\"].loc[i]\n",
    "    L.append((x.dep_))\n",
    "    df2[\"relationship\"].loc[i]=L[i]"
   ]
  },
  {
   "cell_type": "code",
   "execution_count": 37,
   "id": "d39456f0",
   "metadata": {
    "execution": {
     "iopub.execute_input": "2022-05-31T14:28:28.046050Z",
     "iopub.status.busy": "2022-05-31T14:28:28.045633Z",
     "iopub.status.idle": "2022-05-31T14:28:28.062273Z",
     "shell.execute_reply": "2022-05-31T14:28:28.061123Z"
    },
    "papermill": {
     "duration": 0.047787,
     "end_time": "2022-05-31T14:28:28.064589",
     "exception": false,
     "start_time": "2022-05-31T14:28:28.016802",
     "status": "completed"
    },
    "tags": []
   },
   "outputs": [
    {
     "data": {
      "text/html": [
       "<div>\n",
       "<style scoped>\n",
       "    .dataframe tbody tr th:only-of-type {\n",
       "        vertical-align: middle;\n",
       "    }\n",
       "\n",
       "    .dataframe tbody tr th {\n",
       "        vertical-align: top;\n",
       "    }\n",
       "\n",
       "    .dataframe thead th {\n",
       "        text-align: right;\n",
       "    }\n",
       "</style>\n",
       "<table border=\"1\" class=\"dataframe\">\n",
       "  <thead>\n",
       "    <tr style=\"text-align: right;\">\n",
       "      <th></th>\n",
       "      <th>entities</th>\n",
       "      <th>lemmatizaton</th>\n",
       "      <th>iob_tag</th>\n",
       "      <th>label</th>\n",
       "      <th>pos_tag</th>\n",
       "      <th>explain_tag</th>\n",
       "      <th>relationship</th>\n",
       "    </tr>\n",
       "  </thead>\n",
       "  <tbody>\n",
       "    <tr>\n",
       "      <th>0</th>\n",
       "      <td>8</td>\n",
       "      <td>8</td>\n",
       "      <td>O</td>\n",
       "      <td></td>\n",
       "      <td>NUM</td>\n",
       "      <td>cardinal number</td>\n",
       "      <td>nummod</td>\n",
       "    </tr>\n",
       "    <tr>\n",
       "      <th>1</th>\n",
       "      <td>E</td>\n",
       "      <td>e</td>\n",
       "      <td>O</td>\n",
       "      <td></td>\n",
       "      <td>NOUN</td>\n",
       "      <td>noun, singular or mass</td>\n",
       "      <td>compound</td>\n",
       "    </tr>\n",
       "    <tr>\n",
       "      <th>2</th>\n",
       "      <td>encl</td>\n",
       "      <td>encl</td>\n",
       "      <td>O</td>\n",
       "      <td></td>\n",
       "      <td>NOUN</td>\n",
       "      <td>noun, singular or mass</td>\n",
       "      <td>nsubj</td>\n",
       "    </tr>\n",
       "    <tr>\n",
       "      <th>3</th>\n",
       "      <td>\\r\\n\\r\\n</td>\n",
       "      <td>\\r\\n\\r\\n</td>\n",
       "      <td>O</td>\n",
       "      <td></td>\n",
       "      <td>SPACE</td>\n",
       "      <td>whitespace</td>\n",
       "      <td>dep</td>\n",
       "    </tr>\n",
       "    <tr>\n",
       "      <th>4</th>\n",
       "      <td>I</td>\n",
       "      <td>i</td>\n",
       "      <td>O</td>\n",
       "      <td></td>\n",
       "      <td>VERB</td>\n",
       "      <td>verb, non-3rd person singular present</td>\n",
       "      <td>punct</td>\n",
       "    </tr>\n",
       "    <tr>\n",
       "      <th>...</th>\n",
       "      <td>...</td>\n",
       "      <td>...</td>\n",
       "      <td>...</td>\n",
       "      <td>...</td>\n",
       "      <td>...</td>\n",
       "      <td>...</td>\n",
       "      <td>...</td>\n",
       "    </tr>\n",
       "    <tr>\n",
       "      <th>3761</th>\n",
       "      <td>\\r\\n\\r\\n</td>\n",
       "      <td>\\r\\n\\r\\n</td>\n",
       "      <td>O</td>\n",
       "      <td></td>\n",
       "      <td>SPACE</td>\n",
       "      <td>whitespace</td>\n",
       "      <td>dep</td>\n",
       "    </tr>\n",
       "    <tr>\n",
       "      <th>3762</th>\n",
       "      <td>[</td>\n",
       "      <td>[</td>\n",
       "      <td>O</td>\n",
       "      <td></td>\n",
       "      <td>X</td>\n",
       "      <td>unknown</td>\n",
       "      <td>punct</td>\n",
       "    </tr>\n",
       "    <tr>\n",
       "      <th>3763</th>\n",
       "      <td>DUPLICATE</td>\n",
       "      <td>duplicate</td>\n",
       "      <td>O</td>\n",
       "      <td></td>\n",
       "      <td>X</td>\n",
       "      <td>unknown</td>\n",
       "      <td>appos</td>\n",
       "    </tr>\n",
       "    <tr>\n",
       "      <th>3764</th>\n",
       "      <td>]</td>\n",
       "      <td>]</td>\n",
       "      <td>O</td>\n",
       "      <td></td>\n",
       "      <td>PUNCT</td>\n",
       "      <td>right round bracket</td>\n",
       "      <td>punct</td>\n",
       "    </tr>\n",
       "    <tr>\n",
       "      <th>3765</th>\n",
       "      <td>\\r\\n</td>\n",
       "      <td>\\r\\n</td>\n",
       "      <td>O</td>\n",
       "      <td></td>\n",
       "      <td>SPACE</td>\n",
       "      <td>whitespace</td>\n",
       "      <td>dep</td>\n",
       "    </tr>\n",
       "  </tbody>\n",
       "</table>\n",
       "<p>3766 rows × 7 columns</p>\n",
       "</div>"
      ],
      "text/plain": [
       "       entities lemmatizaton iob_tag label pos_tag  \\\n",
       "0             8            8       O           NUM   \n",
       "1             E            e       O          NOUN   \n",
       "2          encl         encl       O          NOUN   \n",
       "3      \\r\\n\\r\\n     \\r\\n\\r\\n       O         SPACE   \n",
       "4             I            i       O          VERB   \n",
       "...         ...          ...     ...   ...     ...   \n",
       "3761   \\r\\n\\r\\n     \\r\\n\\r\\n       O         SPACE   \n",
       "3762          [            [       O             X   \n",
       "3763  DUPLICATE    duplicate       O             X   \n",
       "3764          ]            ]       O         PUNCT   \n",
       "3765       \\r\\n         \\r\\n       O         SPACE   \n",
       "\n",
       "                                explain_tag relationship  \n",
       "0                           cardinal number       nummod  \n",
       "1                    noun, singular or mass     compound  \n",
       "2                    noun, singular or mass        nsubj  \n",
       "3                                whitespace          dep  \n",
       "4     verb, non-3rd person singular present        punct  \n",
       "...                                     ...          ...  \n",
       "3761                             whitespace          dep  \n",
       "3762                                unknown        punct  \n",
       "3763                                unknown        appos  \n",
       "3764                    right round bracket        punct  \n",
       "3765                             whitespace          dep  \n",
       "\n",
       "[3766 rows x 7 columns]"
      ]
     },
     "execution_count": 37,
     "metadata": {},
     "output_type": "execute_result"
    }
   ],
   "source": [
    "df2"
   ]
  },
  {
   "cell_type": "markdown",
   "id": "23e28a16",
   "metadata": {
    "papermill": {
     "duration": 0.029346,
     "end_time": "2022-05-31T14:28:28.122517",
     "exception": false,
     "start_time": "2022-05-31T14:28:28.093171",
     "status": "completed"
    },
    "tags": []
   },
   "source": [
    "trying to more understand the use  and the advantages of display_render in spacy "
   ]
  },
  {
   "cell_type": "code",
   "execution_count": 38,
   "id": "385113e3",
   "metadata": {
    "execution": {
     "iopub.execute_input": "2022-05-31T14:28:28.182108Z",
     "iopub.status.busy": "2022-05-31T14:28:28.181700Z",
     "iopub.status.idle": "2022-05-31T14:28:28.235425Z",
     "shell.execute_reply": "2022-05-31T14:28:28.234048Z"
    },
    "papermill": {
     "duration": 0.085135,
     "end_time": "2022-05-31T14:28:28.237612",
     "exception": false,
     "start_time": "2022-05-31T14:28:28.152477",
     "status": "completed"
    },
    "tags": []
   },
   "outputs": [
    {
     "name": "stdout",
     "output_type": "stream",
     "text": [
      "[I E C Whaley solemnly swear that I have carefully read the Amnesty\r\n",
      "Proclamation issued by Andrew Johnson, President of the United State of America, on May 29th, 1865, and that I am not excepted from the benefits of the Proclamation by any one of the fourteen exceptions therein made [[Strikethrough]] except [[strikethrough/]] \r\n",
      "E C Whaley\r\n",
      "Sworn to and subscribed before me at Charleston SC this 28\r\n",
      "day of Sept 1865\r\n",
      "\r\n",
      "Levi Steuben\r\n",
      "Maj. 47th P.M.\r\n",
      "\r\n",
      "United States of America\r\n",
      "E C Whaley of the city, [[strikethrough]] county [[strikethrough/]] Charleston Sate of South Ca do solemnly swear in the presence of the Almighty God, that I will henceforth faithfully support and defend the Constitution of the United States, and the Union of the States thereunder, and that I will, in like manner, abide by and faithfully support all laws and proclamations which have been made during the existing rebellion with reference to the Emancipation of Slaves-SO HELP ME GOD\r\n",
      "\r\n",
      "E C Whaley\r\n",
      "Sworn to and subscribed before me at Charleston SC this 28\r\n",
      "day of Sept 1865\r\n",
      "\r\n",
      "Levi Steuben\r\n",
      "May 47 P.M.\r\n",
      "The above has fair complexion light hair, and gray eyes; is 5 feet 10\r\n",
      "inches high and 39 years; by profession a planter\r\n",
      "\r\n",
      "\r\n",
      "(The original Oaths will be transmitted, by the officer administering them, to the Department of State, through intermediate channels, and a certified copy thereof will be furnished to the applicant for pardon, to accompany his petition.), \r\n",
      "\r\n",
      "[[Left Margin]] Copy\r\n",
      "Levi Steuben\r\n",
      "Maj 47th Pro Marshal\r\n",
      "City of Charleston\r\n",
      "[[Left Margin/]]]\n"
     ]
    }
   ],
   "source": [
    "sentences = [x for x in nlp(text[1]).sents]\n",
    "print(sentences)"
   ]
  },
  {
   "cell_type": "code",
   "execution_count": 39,
   "id": "969beb67",
   "metadata": {
    "execution": {
     "iopub.execute_input": "2022-05-31T14:28:28.295898Z",
     "iopub.status.busy": "2022-05-31T14:28:28.295357Z",
     "iopub.status.idle": "2022-05-31T14:28:28.320515Z",
     "shell.execute_reply": "2022-05-31T14:28:28.319569Z"
    },
    "papermill": {
     "duration": 0.056326,
     "end_time": "2022-05-31T14:28:28.322421",
     "exception": false,
     "start_time": "2022-05-31T14:28:28.266095",
     "status": "completed"
    },
    "tags": []
   },
   "outputs": [
    {
     "data": {
      "text/html": [
       "<span class=\"tex2jax_ignore\"><div class=\"entities\" style=\"line-height: 2.5; direction: ltr\">\n",
       "<mark class=\"entity\" style=\"background: #e4e7d2; padding: 0.45em 0.6em; margin: 0 0.25em; line-height: 1; border-radius: 0.35em;\">\n",
       "    0                   \n",
       "    <span style=\"font-size: 0.8em; font-weight: bold; line-height: 1; border-radius: 0.35em; vertical-align: middle; margin-left: 0.5rem\">PERCENT</span>\n",
       "</mark>\n",
       "\n",
       "<mark class=\"entity\" style=\"background: #aa9cfc; padding: 0.45em 0.6em; margin: 0 0.25em; line-height: 1; border-radius: 0.35em;\">\n",
       "    Anne H. Elliott\n",
       "    <span style=\"font-size: 0.8em; font-weight: bold; line-height: 1; border-radius: 0.35em; vertical-align: middle; margin-left: 0.5rem\">PERSON</span>\n",
       "</mark>\n",
       "</br>1                           \n",
       "<mark class=\"entity\" style=\"background: #7aecec; padding: 0.45em 0.6em; margin: 0 0.25em; line-height: 1; border-radius: 0.35em;\">\n",
       "    Amnesty\n",
       "    <span style=\"font-size: 0.8em; font-weight: bold; line-height: 1; border-radius: 0.35em; vertical-align: middle; margin-left: 0.5rem\">ORG</span>\n",
       "</mark>\n",
       "</br>2                    \n",
       "<mark class=\"entity\" style=\"background: #aa9cfc; padding: 0.45em 0.6em; margin: 0 0.25em; line-height: 1; border-radius: 0.35em;\">\n",
       "    Andrew Johnson\n",
       "    <span style=\"font-size: 0.8em; font-weight: bold; line-height: 1; border-radius: 0.35em; vertical-align: middle; margin-left: 0.5rem\">PERSON</span>\n",
       "</mark>\n",
       "</br>\n",
       "<mark class=\"entity\" style=\"background: #e4e7d2; padding: 0.45em 0.6em; margin: 0 0.25em; line-height: 1; border-radius: 0.35em;\">\n",
       "    3      \n",
       "    <span style=\"font-size: 0.8em; font-weight: bold; line-height: 1; border-radius: 0.35em; vertical-align: middle; margin-left: 0.5rem\">PERCENT</span>\n",
       "</mark>\n",
       "\n",
       "<mark class=\"entity\" style=\"background: #feca74; padding: 0.45em 0.6em; margin: 0 0.25em; line-height: 1; border-radius: 0.35em;\">\n",
       "    the United States of America\n",
       "    <span style=\"font-size: 0.8em; font-weight: bold; line-height: 1; border-radius: 0.35em; vertical-align: middle; margin-left: 0.5rem\">GPE</span>\n",
       "</mark>\n",
       "</br>\n",
       "<mark class=\"entity\" style=\"background: #e4e7d2; padding: 0.45em 0.6em; margin: 0 0.25em; line-height: 1; border-radius: 0.35em;\">\n",
       "    4\n",
       "    <span style=\"font-size: 0.8em; font-weight: bold; line-height: 1; border-radius: 0.35em; vertical-align: middle; margin-left: 0.5rem\">CARDINAL</span>\n",
       "</mark>\n",
       "                     \n",
       "<mark class=\"entity\" style=\"background: #bfe1d9; padding: 0.45em 0.6em; margin: 0 0.25em; line-height: 1; border-radius: 0.35em;\">\n",
       "    May 29th 1865\n",
       "    <span style=\"font-size: 0.8em; font-weight: bold; line-height: 1; border-radius: 0.35em; vertical-align: middle; margin-left: 0.5rem\">DATE</span>\n",
       "</mark>\n",
       "</br>                   ...             </br>\n",
       "<mark class=\"entity\" style=\"background: #e4e7d2; padding: 0.45em 0.6em; margin: 0 0.25em; line-height: 1; border-radius: 0.35em;\">\n",
       "    389\n",
       "    <span style=\"font-size: 0.8em; font-weight: bold; line-height: 1; border-radius: 0.35em; vertical-align: middle; margin-left: 0.5rem\">CARDINAL</span>\n",
       "</mark>\n",
       "                  \n",
       "<mark class=\"entity\" style=\"background: #aa9cfc; padding: 0.45em 0.6em; margin: 0 0.25em; line-height: 1; border-radius: 0.35em;\">\n",
       "    Warren Co\n",
       "    <span style=\"font-size: 0.8em; font-weight: bold; line-height: 1; border-radius: 0.35em; vertical-align: middle; margin-left: 0.5rem\">PERSON</span>\n",
       "</mark>\n",
       " Miss</br>\n",
       "<mark class=\"entity\" style=\"background: #e4e7d2; padding: 0.45em 0.6em; margin: 0 0.25em; line-height: 1; border-radius: 0.35em;\">\n",
       "    390\n",
       "    <span style=\"font-size: 0.8em; font-weight: bold; line-height: 1; border-radius: 0.35em; vertical-align: middle; margin-left: 0.5rem\">CARDINAL</span>\n",
       "</mark>\n",
       "                            \n",
       "<mark class=\"entity\" style=\"background: #bfe1d9; padding: 0.45em 0.6em; margin: 0 0.25em; line-height: 1; border-radius: 0.35em;\">\n",
       "    1865\n",
       "    <span style=\"font-size: 0.8em; font-weight: bold; line-height: 1; border-radius: 0.35em; vertical-align: middle; margin-left: 0.5rem\">DATE</span>\n",
       "</mark>\n",
       "</br>\n",
       "<mark class=\"entity\" style=\"background: #e4e7d2; padding: 0.45em 0.6em; margin: 0 0.25em; line-height: 1; border-radius: 0.35em;\">\n",
       "    391\n",
       "    <span style=\"font-size: 0.8em; font-weight: bold; line-height: 1; border-radius: 0.35em; vertical-align: middle; margin-left: 0.5rem\">CARDINAL</span>\n",
       "</mark>\n",
       "                 \n",
       "<mark class=\"entity\" style=\"background: #aa9cfc; padding: 0.45em 0.6em; margin: 0 0.25em; line-height: 1; border-radius: 0.35em;\">\n",
       "    Frank E. Miller\n",
       "    <span style=\"font-size: 0.8em; font-weight: bold; line-height: 1; border-radius: 0.35em; vertical-align: middle; margin-left: 0.5rem\">PERSON</span>\n",
       "</mark>\n",
       "</br>\n",
       "<mark class=\"entity\" style=\"background: #e4e7d2; padding: 0.45em 0.6em; margin: 0 0.25em; line-height: 1; border-radius: 0.35em;\">\n",
       "    392\n",
       "    <span style=\"font-size: 0.8em; font-weight: bold; line-height: 1; border-radius: 0.35em; vertical-align: middle; margin-left: 0.5rem\">CARDINAL</span>\n",
       "</mark>\n",
       "                            66th</br>\n",
       "<mark class=\"entity\" style=\"background: #e4e7d2; padding: 0.45em 0.6em; margin: 0 0.25em; line-height: 1; border-radius: 0.35em;\">\n",
       "    393\n",
       "    <span style=\"font-size: 0.8em; font-weight: bold; line-height: 1; border-radius: 0.35em; vertical-align: middle; margin-left: 0.5rem\">CARDINAL</span>\n",
       "</mark>\n",
       "             \n",
       "<mark class=\"entity\" style=\"background: #feca74; padding: 0.45em 0.6em; margin: 0 0.25em; line-height: 1; border-radius: 0.35em;\">\n",
       "    U.S.C.I.\n",
       "    <span style=\"font-size: 0.8em; font-weight: bold; line-height: 1; border-radius: 0.35em; vertical-align: middle; margin-left: 0.5rem\">GPE</span>\n",
       "</mark>\n",
       " Commanding</br>Name: entities, \n",
       "<mark class=\"entity\" style=\"background: #aa9cfc; padding: 0.45em 0.6em; margin: 0 0.25em; line-height: 1; border-radius: 0.35em;\">\n",
       "    Length\n",
       "    <span style=\"font-size: 0.8em; font-weight: bold; line-height: 1; border-radius: 0.35em; vertical-align: middle; margin-left: 0.5rem\">PERSON</span>\n",
       "</mark>\n",
       ": \n",
       "<mark class=\"entity\" style=\"background: #e4e7d2; padding: 0.45em 0.6em; margin: 0 0.25em; line-height: 1; border-radius: 0.35em;\">\n",
       "    394\n",
       "    <span style=\"font-size: 0.8em; font-weight: bold; line-height: 1; border-radius: 0.35em; vertical-align: middle; margin-left: 0.5rem\">CARDINAL</span>\n",
       "</mark>\n",
       ", dtype: object</div></span>"
      ],
      "text/plain": [
       "<IPython.core.display.HTML object>"
      ]
     },
     "metadata": {},
     "output_type": "display_data"
    }
   ],
   "source": [
    "displacy.render(nlp(str(df1.entities)), style='ent')"
   ]
  },
  {
   "cell_type": "code",
   "execution_count": 40,
   "id": "f0369858",
   "metadata": {
    "execution": {
     "iopub.execute_input": "2022-05-31T14:28:28.380729Z",
     "iopub.status.busy": "2022-05-31T14:28:28.380347Z",
     "iopub.status.idle": "2022-05-31T14:28:28.433366Z",
     "shell.execute_reply": "2022-05-31T14:28:28.432630Z"
    },
    "papermill": {
     "duration": 0.08484,
     "end_time": "2022-05-31T14:28:28.435472",
     "exception": false,
     "start_time": "2022-05-31T14:28:28.350632",
     "status": "completed"
    },
    "tags": []
   },
   "outputs": [
    {
     "data": {
      "text/html": [
       "<span class=\"tex2jax_ignore\"><div class=\"entities\" style=\"line-height: 2.5; direction: ltr\">[I E C \n",
       "<mark class=\"entity\" style=\"background: #aa9cfc; padding: 0.45em 0.6em; margin: 0 0.25em; line-height: 1; border-radius: 0.35em;\">\n",
       "    Whaley\n",
       "    <span style=\"font-size: 0.8em; font-weight: bold; line-height: 1; border-radius: 0.35em; vertical-align: middle; margin-left: 0.5rem\">PERSON</span>\n",
       "</mark>\n",
       " solemnly swear that I have carefully read the \n",
       "<mark class=\"entity\" style=\"background: #7aecec; padding: 0.45em 0.6em; margin: 0 0.25em; line-height: 1; border-radius: 0.35em;\">\n",
       "    Amnesty\n",
       "    <span style=\"font-size: 0.8em; font-weight: bold; line-height: 1; border-radius: 0.35em; vertical-align: middle; margin-left: 0.5rem\">ORG</span>\n",
       "</mark>\n",
       "\r",
       "</br>Proclamation issued by \n",
       "<mark class=\"entity\" style=\"background: #aa9cfc; padding: 0.45em 0.6em; margin: 0 0.25em; line-height: 1; border-radius: 0.35em;\">\n",
       "    Andrew Johnson\n",
       "    <span style=\"font-size: 0.8em; font-weight: bold; line-height: 1; border-radius: 0.35em; vertical-align: middle; margin-left: 0.5rem\">PERSON</span>\n",
       "</mark>\n",
       ", President of \n",
       "<mark class=\"entity\" style=\"background: #7aecec; padding: 0.45em 0.6em; margin: 0 0.25em; line-height: 1; border-radius: 0.35em;\">\n",
       "    the United State of America\n",
       "    <span style=\"font-size: 0.8em; font-weight: bold; line-height: 1; border-radius: 0.35em; vertical-align: middle; margin-left: 0.5rem\">ORG</span>\n",
       "</mark>\n",
       ", on \n",
       "<mark class=\"entity\" style=\"background: #bfe1d9; padding: 0.45em 0.6em; margin: 0 0.25em; line-height: 1; border-radius: 0.35em;\">\n",
       "    May 29th, 1865\n",
       "    <span style=\"font-size: 0.8em; font-weight: bold; line-height: 1; border-radius: 0.35em; vertical-align: middle; margin-left: 0.5rem\">DATE</span>\n",
       "</mark>\n",
       ", and that I am not excepted from the benefits of the \n",
       "<mark class=\"entity\" style=\"background: #ff9561; padding: 0.45em 0.6em; margin: 0 0.25em; line-height: 1; border-radius: 0.35em;\">\n",
       "    Proclamation\n",
       "    <span style=\"font-size: 0.8em; font-weight: bold; line-height: 1; border-radius: 0.35em; vertical-align: middle; margin-left: 0.5rem\">LOC</span>\n",
       "</mark>\n",
       " by any \n",
       "<mark class=\"entity\" style=\"background: #e4e7d2; padding: 0.45em 0.6em; margin: 0 0.25em; line-height: 1; border-radius: 0.35em;\">\n",
       "    one\n",
       "    <span style=\"font-size: 0.8em; font-weight: bold; line-height: 1; border-radius: 0.35em; vertical-align: middle; margin-left: 0.5rem\">CARDINAL</span>\n",
       "</mark>\n",
       " of the \n",
       "<mark class=\"entity\" style=\"background: #e4e7d2; padding: 0.45em 0.6em; margin: 0 0.25em; line-height: 1; border-radius: 0.35em;\">\n",
       "    fourteen\n",
       "    <span style=\"font-size: 0.8em; font-weight: bold; line-height: 1; border-radius: 0.35em; vertical-align: middle; margin-left: 0.5rem\">CARDINAL</span>\n",
       "</mark>\n",
       " exceptions therein made [[Strikethrough]] except [[strikethrough/]] \r",
       "</br>E \n",
       "<mark class=\"entity\" style=\"background: #7aecec; padding: 0.45em 0.6em; margin: 0 0.25em; line-height: 1; border-radius: 0.35em;\">\n",
       "    C Whaley\n",
       "    <span style=\"font-size: 0.8em; font-weight: bold; line-height: 1; border-radius: 0.35em; vertical-align: middle; margin-left: 0.5rem\">ORG</span>\n",
       "</mark>\n",
       "\r",
       "</br>Sworn to and subscribed before me at \n",
       "<mark class=\"entity\" style=\"background: #7aecec; padding: 0.45em 0.6em; margin: 0 0.25em; line-height: 1; border-radius: 0.35em;\">\n",
       "    Charleston SC\n",
       "    <span style=\"font-size: 0.8em; font-weight: bold; line-height: 1; border-radius: 0.35em; vertical-align: middle; margin-left: 0.5rem\">ORG</span>\n",
       "</mark>\n",
       " \n",
       "<mark class=\"entity\" style=\"background: #bfe1d9; padding: 0.45em 0.6em; margin: 0 0.25em; line-height: 1; border-radius: 0.35em;\">\n",
       "    this 28\r\n",
       "day of\n",
       "    <span style=\"font-size: 0.8em; font-weight: bold; line-height: 1; border-radius: 0.35em; vertical-align: middle; margin-left: 0.5rem\">DATE</span>\n",
       "</mark>\n",
       " \n",
       "<mark class=\"entity\" style=\"background: #bfe1d9; padding: 0.45em 0.6em; margin: 0 0.25em; line-height: 1; border-radius: 0.35em;\">\n",
       "    Sept 1865\n",
       "    <span style=\"font-size: 0.8em; font-weight: bold; line-height: 1; border-radius: 0.35em; vertical-align: middle; margin-left: 0.5rem\">DATE</span>\n",
       "</mark>\n",
       "\r",
       "</br>\r",
       "</br>\n",
       "<mark class=\"entity\" style=\"background: #aa9cfc; padding: 0.45em 0.6em; margin: 0 0.25em; line-height: 1; border-radius: 0.35em;\">\n",
       "    Levi Steuben\n",
       "    <span style=\"font-size: 0.8em; font-weight: bold; line-height: 1; border-radius: 0.35em; vertical-align: middle; margin-left: 0.5rem\">PERSON</span>\n",
       "</mark>\n",
       "\r",
       "</br>Maj. \n",
       "<mark class=\"entity\" style=\"background: #e4e7d2; padding: 0.45em 0.6em; margin: 0 0.25em; line-height: 1; border-radius: 0.35em;\">\n",
       "    47th\n",
       "    <span style=\"font-size: 0.8em; font-weight: bold; line-height: 1; border-radius: 0.35em; vertical-align: middle; margin-left: 0.5rem\">ORDINAL</span>\n",
       "</mark>\n",
       " \n",
       "<mark class=\"entity\" style=\"background: #feca74; padding: 0.45em 0.6em; margin: 0 0.25em; line-height: 1; border-radius: 0.35em;\">\n",
       "    P.M.\n",
       "    <span style=\"font-size: 0.8em; font-weight: bold; line-height: 1; border-radius: 0.35em; vertical-align: middle; margin-left: 0.5rem\">GPE</span>\n",
       "</mark>\n",
       "\r",
       "</br>\r",
       "</br>\n",
       "<mark class=\"entity\" style=\"background: #feca74; padding: 0.45em 0.6em; margin: 0 0.25em; line-height: 1; border-radius: 0.35em;\">\n",
       "    United States of America\n",
       "    <span style=\"font-size: 0.8em; font-weight: bold; line-height: 1; border-radius: 0.35em; vertical-align: middle; margin-left: 0.5rem\">GPE</span>\n",
       "</mark>\n",
       "\r",
       "</br>E C \n",
       "<mark class=\"entity\" style=\"background: #aa9cfc; padding: 0.45em 0.6em; margin: 0 0.25em; line-height: 1; border-radius: 0.35em;\">\n",
       "    Whaley\n",
       "    <span style=\"font-size: 0.8em; font-weight: bold; line-height: 1; border-radius: 0.35em; vertical-align: middle; margin-left: 0.5rem\">PERSON</span>\n",
       "</mark>\n",
       " of the city, [[strikethrough]] county [[strikethrough/]] Charleston Sate of South Ca do solemnly swear in the presence of the Almighty God, that I will henceforth faithfully support and defend the Constitution of \n",
       "<mark class=\"entity\" style=\"background: #feca74; padding: 0.45em 0.6em; margin: 0 0.25em; line-height: 1; border-radius: 0.35em;\">\n",
       "    the United States\n",
       "    <span style=\"font-size: 0.8em; font-weight: bold; line-height: 1; border-radius: 0.35em; vertical-align: middle; margin-left: 0.5rem\">GPE</span>\n",
       "</mark>\n",
       ", and \n",
       "<mark class=\"entity\" style=\"background: #7aecec; padding: 0.45em 0.6em; margin: 0 0.25em; line-height: 1; border-radius: 0.35em;\">\n",
       "    the Union of the States\n",
       "    <span style=\"font-size: 0.8em; font-weight: bold; line-height: 1; border-radius: 0.35em; vertical-align: middle; margin-left: 0.5rem\">ORG</span>\n",
       "</mark>\n",
       " thereunder, and that I will, in like manner, abide by and faithfully support all laws and proclamations which have been made during the existing rebellion with reference to \n",
       "<mark class=\"entity\" style=\"background: #7aecec; padding: 0.45em 0.6em; margin: 0 0.25em; line-height: 1; border-radius: 0.35em;\">\n",
       "    the Emancipation of Slaves-SO\n",
       "    <span style=\"font-size: 0.8em; font-weight: bold; line-height: 1; border-radius: 0.35em; vertical-align: middle; margin-left: 0.5rem\">ORG</span>\n",
       "</mark>\n",
       " HELP ME GOD\r",
       "</br>\r",
       "</br>E \n",
       "<mark class=\"entity\" style=\"background: #7aecec; padding: 0.45em 0.6em; margin: 0 0.25em; line-height: 1; border-radius: 0.35em;\">\n",
       "    C Whaley\n",
       "    <span style=\"font-size: 0.8em; font-weight: bold; line-height: 1; border-radius: 0.35em; vertical-align: middle; margin-left: 0.5rem\">ORG</span>\n",
       "</mark>\n",
       "\r",
       "</br>Sworn to and subscribed before me at \n",
       "<mark class=\"entity\" style=\"background: #7aecec; padding: 0.45em 0.6em; margin: 0 0.25em; line-height: 1; border-radius: 0.35em;\">\n",
       "    Charleston SC\n",
       "    <span style=\"font-size: 0.8em; font-weight: bold; line-height: 1; border-radius: 0.35em; vertical-align: middle; margin-left: 0.5rem\">ORG</span>\n",
       "</mark>\n",
       " \n",
       "<mark class=\"entity\" style=\"background: #bfe1d9; padding: 0.45em 0.6em; margin: 0 0.25em; line-height: 1; border-radius: 0.35em;\">\n",
       "    this 28\r\n",
       "day of\n",
       "    <span style=\"font-size: 0.8em; font-weight: bold; line-height: 1; border-radius: 0.35em; vertical-align: middle; margin-left: 0.5rem\">DATE</span>\n",
       "</mark>\n",
       " \n",
       "<mark class=\"entity\" style=\"background: #bfe1d9; padding: 0.45em 0.6em; margin: 0 0.25em; line-height: 1; border-radius: 0.35em;\">\n",
       "    Sept 1865\n",
       "    <span style=\"font-size: 0.8em; font-weight: bold; line-height: 1; border-radius: 0.35em; vertical-align: middle; margin-left: 0.5rem\">DATE</span>\n",
       "</mark>\n",
       "\r",
       "</br>\r",
       "</br>\n",
       "<mark class=\"entity\" style=\"background: #aa9cfc; padding: 0.45em 0.6em; margin: 0 0.25em; line-height: 1; border-radius: 0.35em;\">\n",
       "    Levi Steuben\n",
       "    <span style=\"font-size: 0.8em; font-weight: bold; line-height: 1; border-radius: 0.35em; vertical-align: middle; margin-left: 0.5rem\">PERSON</span>\n",
       "</mark>\n",
       "\r",
       "</br>\n",
       "<mark class=\"entity\" style=\"background: #bfe1d9; padding: 0.45em 0.6em; margin: 0 0.25em; line-height: 1; border-radius: 0.35em;\">\n",
       "    May 47\n",
       "    <span style=\"font-size: 0.8em; font-weight: bold; line-height: 1; border-radius: 0.35em; vertical-align: middle; margin-left: 0.5rem\">DATE</span>\n",
       "</mark>\n",
       " \n",
       "<mark class=\"entity\" style=\"background: #c887fb; padding: 0.45em 0.6em; margin: 0 0.25em; line-height: 1; border-radius: 0.35em;\">\n",
       "    P.M.\n",
       "    <span style=\"font-size: 0.8em; font-weight: bold; line-height: 1; border-radius: 0.35em; vertical-align: middle; margin-left: 0.5rem\">NORP</span>\n",
       "</mark>\n",
       "\r",
       "</br>The above has fair complexion light hair, and gray eyes; is \n",
       "<mark class=\"entity\" style=\"background: #e4e7d2; padding: 0.45em 0.6em; margin: 0 0.25em; line-height: 1; border-radius: 0.35em;\">\n",
       "    5 feet 10\r\n",
       "inches\n",
       "    <span style=\"font-size: 0.8em; font-weight: bold; line-height: 1; border-radius: 0.35em; vertical-align: middle; margin-left: 0.5rem\">MONEY</span>\n",
       "</mark>\n",
       " high and \n",
       "<mark class=\"entity\" style=\"background: #bfe1d9; padding: 0.45em 0.6em; margin: 0 0.25em; line-height: 1; border-radius: 0.35em;\">\n",
       "    39 years\n",
       "    <span style=\"font-size: 0.8em; font-weight: bold; line-height: 1; border-radius: 0.35em; vertical-align: middle; margin-left: 0.5rem\">DATE</span>\n",
       "</mark>\n",
       "; by profession a planter\r",
       "</br>\r",
       "</br>\r",
       "</br>(The original \n",
       "<mark class=\"entity\" style=\"background: #aa9cfc; padding: 0.45em 0.6em; margin: 0 0.25em; line-height: 1; border-radius: 0.35em;\">\n",
       "    Oaths\n",
       "    <span style=\"font-size: 0.8em; font-weight: bold; line-height: 1; border-radius: 0.35em; vertical-align: middle; margin-left: 0.5rem\">PERSON</span>\n",
       "</mark>\n",
       " will be transmitted, by the officer administering them, to \n",
       "<mark class=\"entity\" style=\"background: #7aecec; padding: 0.45em 0.6em; margin: 0 0.25em; line-height: 1; border-radius: 0.35em;\">\n",
       "    the Department of State\n",
       "    <span style=\"font-size: 0.8em; font-weight: bold; line-height: 1; border-radius: 0.35em; vertical-align: middle; margin-left: 0.5rem\">ORG</span>\n",
       "</mark>\n",
       ", through intermediate channels, and a certified copy thereof will be furnished to the applicant for pardon, to accompany his petition.), \r",
       "</br>\r",
       "</br>[[Left Margin]] Copy\r",
       "</br>\n",
       "<mark class=\"entity\" style=\"background: #aa9cfc; padding: 0.45em 0.6em; margin: 0 0.25em; line-height: 1; border-radius: 0.35em;\">\n",
       "    Levi Steuben\n",
       "    <span style=\"font-size: 0.8em; font-weight: bold; line-height: 1; border-radius: 0.35em; vertical-align: middle; margin-left: 0.5rem\">PERSON</span>\n",
       "</mark>\n",
       "\r",
       "</br>Maj \n",
       "<mark class=\"entity\" style=\"background: #e4e7d2; padding: 0.45em 0.6em; margin: 0 0.25em; line-height: 1; border-radius: 0.35em;\">\n",
       "    47th\n",
       "    <span style=\"font-size: 0.8em; font-weight: bold; line-height: 1; border-radius: 0.35em; vertical-align: middle; margin-left: 0.5rem\">ORDINAL</span>\n",
       "</mark>\n",
       " Pro Marshal\r",
       "</br>\n",
       "<mark class=\"entity\" style=\"background: #7aecec; padding: 0.45em 0.6em; margin: 0 0.25em; line-height: 1; border-radius: 0.35em;\">\n",
       "    City of Charleston\n",
       "    <span style=\"font-size: 0.8em; font-weight: bold; line-height: 1; border-radius: 0.35em; vertical-align: middle; margin-left: 0.5rem\">ORG</span>\n",
       "</mark>\n",
       "\r",
       "</br>[[Left Margin/]]]</div></span>"
      ],
      "text/plain": [
       "<IPython.core.display.HTML object>"
      ]
     },
     "metadata": {},
     "output_type": "display_data"
    }
   ],
   "source": [
    "displacy.render(nlp(str(sentences)) , style='ent')"
   ]
  },
  {
   "cell_type": "markdown",
   "id": "76a6d3ff",
   "metadata": {
    "papermill": {
     "duration": 0.029586,
     "end_time": "2022-05-31T14:28:28.494546",
     "exception": false,
     "start_time": "2022-05-31T14:28:28.464960",
     "status": "completed"
    },
    "tags": []
   },
   "source": [
    "**extracting sentences with spacy and their interest in NER**"
   ]
  },
  {
   "cell_type": "code",
   "execution_count": 41,
   "id": "0b758477",
   "metadata": {
    "execution": {
     "iopub.execute_input": "2022-05-31T14:28:28.554822Z",
     "iopub.status.busy": "2022-05-31T14:28:28.553876Z",
     "iopub.status.idle": "2022-05-31T14:28:28.603144Z",
     "shell.execute_reply": "2022-05-31T14:28:28.602389Z"
    },
    "papermill": {
     "duration": 0.081055,
     "end_time": "2022-05-31T14:28:28.605270",
     "exception": false,
     "start_time": "2022-05-31T14:28:28.524215",
     "status": "completed"
    },
    "tags": []
   },
   "outputs": [],
   "source": [
    "doc=nlp(text[1])\n",
    "sentences=list(doc.sents)"
   ]
  },
  {
   "cell_type": "code",
   "execution_count": 42,
   "id": "4146007d",
   "metadata": {
    "execution": {
     "iopub.execute_input": "2022-05-31T14:28:28.665140Z",
     "iopub.status.busy": "2022-05-31T14:28:28.664141Z",
     "iopub.status.idle": "2022-05-31T14:28:28.669508Z",
     "shell.execute_reply": "2022-05-31T14:28:28.668739Z"
    },
    "papermill": {
     "duration": 0.0371,
     "end_time": "2022-05-31T14:28:28.671243",
     "exception": false,
     "start_time": "2022-05-31T14:28:28.634143",
     "status": "completed"
    },
    "tags": []
   },
   "outputs": [
    {
     "data": {
      "text/plain": [
       "3"
      ]
     },
     "execution_count": 42,
     "metadata": {},
     "output_type": "execute_result"
    }
   ],
   "source": [
    "len(sentences)"
   ]
  },
  {
   "cell_type": "code",
   "execution_count": 43,
   "id": "a23ba7d3",
   "metadata": {
    "execution": {
     "iopub.execute_input": "2022-05-31T14:28:28.730554Z",
     "iopub.status.busy": "2022-05-31T14:28:28.729625Z",
     "iopub.status.idle": "2022-05-31T14:28:28.734920Z",
     "shell.execute_reply": "2022-05-31T14:28:28.734225Z"
    },
    "papermill": {
     "duration": 0.036716,
     "end_time": "2022-05-31T14:28:28.736790",
     "exception": false,
     "start_time": "2022-05-31T14:28:28.700074",
     "status": "completed"
    },
    "tags": []
   },
   "outputs": [
    {
     "name": "stdout",
     "output_type": "stream",
     "text": [
      "<class 'spacy.tokens.span.Span'>\n",
      "I E C Whaley solemnly swear that I have carefully read the Amnesty\r\n",
      "Proclamation issued by Andrew Johnson, President of the United State of America, on May 29th, 1865, and that I am not excepted from the benefits of the Proclamation by any one of the fourteen exceptions therein made [[Strikethrough]] except [[strikethrough/]] \r\n",
      "E C Whaley\r\n",
      "Sworn to and subscribed before me at Charleston SC this 28\r\n",
      "day of Sept 1865\r\n",
      "\r\n",
      "Levi Steuben\r\n",
      "Maj. 47th P.M.\r\n",
      "\r\n",
      "United States of America\r\n",
      "E C Whaley of the city\n",
      "<class 'spacy.tokens.span.Span'>\n",
      "[[strikethrough]] county [[strikethrough/]] Charleston Sate of South Ca do solemnly swear in the presence of the Almighty God, that I will henceforth faithfully support and defend the Constitution of the United States, and the Union of the States thereunder, and that I will, in like manner, abide by and faithfully support all laws and proclamations which have been made during the existing rebellion with reference to the Emancipation of Slaves-SO HELP ME GOD\r\n",
      "\r\n",
      "E C Whaley\r\n",
      "Sworn to and subscribed before me at Charleston SC this 28\r\n",
      "day of Sept 1865\r\n",
      "\r\n",
      "Levi Steuben\r\n",
      "May 47 P.M.\r\n",
      "The above has fair complexion light hair, and gray eyes; is 5 feet 10\r\n",
      "inches high and 39 years; by profession a planter\r\n",
      "\r\n",
      "\r\n",
      "(The original Oaths will be transmitted, by the officer administering them, to the Department of State, through intermediate channels, and a certified copy thereof will be furnished to the applicant for pardon, to accompany his petition.)\n",
      "<class 'spacy.tokens.span.Span'>\n",
      "\r\n",
      "\r\n",
      "[[Left Margin]] Copy\r\n",
      "Levi Steuben\r\n",
      "Maj 47th Pro Marshal\r\n",
      "City of Charleston\r\n",
      "[[Left Margin/]]\n"
     ]
    }
   ],
   "source": [
    "for sent in sentences:\n",
    "    print(type(sent))\n",
    "    print(sent)"
   ]
  },
  {
   "cell_type": "code",
   "execution_count": 44,
   "id": "66f77e33",
   "metadata": {
    "execution": {
     "iopub.execute_input": "2022-05-31T14:28:28.797236Z",
     "iopub.status.busy": "2022-05-31T14:28:28.796623Z",
     "iopub.status.idle": "2022-05-31T14:28:28.802296Z",
     "shell.execute_reply": "2022-05-31T14:28:28.801618Z"
    },
    "papermill": {
     "duration": 0.038368,
     "end_time": "2022-05-31T14:28:28.804414",
     "exception": false,
     "start_time": "2022-05-31T14:28:28.766046",
     "status": "completed"
    },
    "tags": []
   },
   "outputs": [
    {
     "name": "stdout",
     "output_type": "stream",
     "text": [
      "Whaley 6 12 PERSON\n",
      "Amnesty 59 66 ORG\n",
      "Andrew Johnson 91 105 PERSON\n",
      "the United State of America 120 147 ORG\n",
      "May 29th, 1865 152 166 DATE\n",
      "Proclamation 220 232 LOC\n",
      "one 240 243 CARDINAL\n",
      "fourteen 251 259 CARDINAL\n",
      "C Whaley 332 340 ORG\n",
      "Charleston SC 379 392 ORG\n",
      "this 28\r\n",
      "day of 393 408 DATE\n",
      "Sept 1865 409 418 DATE\n",
      "Levi Steuben 422 434 PERSON\n",
      "47th 441 445 ORDINAL\n",
      "P.M. 446 450 GPE\n",
      "United States of America 454 478 GPE\n",
      "Whaley 484 490 PERSON\n",
      "the United States 703 720 GPE\n",
      "the Union of the States 726 749 ORG\n",
      "the Emancipation of Slaves-SO 923 952 ORG\n",
      "C Whaley 970 978 ORG\n",
      "Charleston SC 1017 1030 ORG\n",
      "this 28\r\n",
      "day of 1031 1046 DATE\n",
      "Sept 1865 1047 1056 DATE\n",
      "Levi Steuben 1060 1072 PERSON\n",
      "May 47 1074 1080 DATE\n",
      "P.M. 1081 1085 NORP\n",
      "5 feet 10\r\n",
      "inches 1147 1164 MONEY\n",
      "39 years 1174 1182 DATE\n",
      "Oaths 1227 1232 PERSON\n",
      "the Department of State 1292 1315 ORG\n",
      "Levi Steuben 1477 1489 PERSON\n",
      "47th 1495 1499 ORDINAL\n",
      "City of Charleston 1513 1531 ORG\n"
     ]
    }
   ],
   "source": [
    "for word in doc.ents:\n",
    "    print(word.text, word.start_char, word.end_char, word.label_)\n",
    "    "
   ]
  },
  {
   "cell_type": "markdown",
   "id": "219838b2",
   "metadata": {
    "papermill": {
     "duration": 0.028782,
     "end_time": "2022-05-31T14:28:28.862973",
     "exception": false,
     "start_time": "2022-05-31T14:28:28.834191",
     "status": "completed"
    },
    "tags": []
   },
   "source": [
    "**Similarity**"
   ]
  },
  {
   "cell_type": "code",
   "execution_count": 45,
   "id": "ef6a5a9b",
   "metadata": {
    "execution": {
     "iopub.execute_input": "2022-05-31T14:28:28.923719Z",
     "iopub.status.busy": "2022-05-31T14:28:28.922970Z",
     "iopub.status.idle": "2022-05-31T14:28:34.064682Z",
     "shell.execute_reply": "2022-05-31T14:28:34.063633Z"
    },
    "papermill": {
     "duration": 5.175108,
     "end_time": "2022-05-31T14:28:34.067080",
     "exception": false,
     "start_time": "2022-05-31T14:28:28.891972",
     "status": "completed"
    },
    "tags": []
   },
   "outputs": [],
   "source": [
    "nlp = spacy.load(\"en_core_web_lg\")\n",
    "tokens = nlp(text[1])"
   ]
  },
  {
   "cell_type": "markdown",
   "id": "40e8dcbc",
   "metadata": {
    "papermill": {
     "duration": 0.038855,
     "end_time": "2022-05-31T14:28:34.146957",
     "exception": false,
     "start_time": "2022-05-31T14:28:34.108102",
     "status": "completed"
    },
    "tags": []
   },
   "source": [
    "*Spacy also provides inbuilt integration of dense, real valued vectors representing distributional similarity information.\n",
    "Models that come with built-in word vectors make them available as the Token.vector attribute. Doc.vector and Span.vector will default to an average of their token vectors. You can also check if a token has a vector assigned, and get the L2 norm, which can be used to normalize vectors.*"
   ]
  },
  {
   "cell_type": "code",
   "execution_count": 46,
   "id": "2fc01314",
   "metadata": {
    "execution": {
     "iopub.execute_input": "2022-05-31T14:28:34.216820Z",
     "iopub.status.busy": "2022-05-31T14:28:34.216431Z",
     "iopub.status.idle": "2022-05-31T14:28:34.222370Z",
     "shell.execute_reply": "2022-05-31T14:28:34.221359Z"
    },
    "papermill": {
     "duration": 0.040305,
     "end_time": "2022-05-31T14:28:34.224863",
     "exception": false,
     "start_time": "2022-05-31T14:28:34.184558",
     "status": "completed"
    },
    "tags": []
   },
   "outputs": [
    {
     "name": "stdout",
     "output_type": "stream",
     "text": [
      "I True 6.4231944 False\n",
      "E True 7.0117927 False\n",
      "C True 6.1874003 False\n",
      "Whaley True 7.778265 False\n",
      "solemnly True 6.533941 False\n",
      "swear True 5.3750224 False\n",
      "that True 4.8260193 False\n",
      "I True 6.4231944 False\n",
      "have True 5.036123 False\n",
      "carefully True 6.058085 False\n"
     ]
    }
   ],
   "source": [
    "for token in tokens[:10]:\n",
    "    print(token.text, token.has_vector, token.vector_norm, token.is_oov)"
   ]
  },
  {
   "cell_type": "markdown",
   "id": "2f77ab83",
   "metadata": {
    "papermill": {
     "duration": 0.028688,
     "end_time": "2022-05-31T14:28:34.282660",
     "exception": false,
     "start_time": "2022-05-31T14:28:34.253972",
     "status": "completed"
    },
    "tags": []
   },
   "source": [
    "**calculate similarity between tokens**"
   ]
  },
  {
   "cell_type": "code",
   "execution_count": 47,
   "id": "dfb709e1",
   "metadata": {
    "execution": {
     "iopub.execute_input": "2022-05-31T14:28:34.344417Z",
     "iopub.status.busy": "2022-05-31T14:28:34.343957Z",
     "iopub.status.idle": "2022-05-31T14:28:34.361782Z",
     "shell.execute_reply": "2022-05-31T14:28:34.360777Z"
    },
    "papermill": {
     "duration": 0.052033,
     "end_time": "2022-05-31T14:28:34.364307",
     "exception": false,
     "start_time": "2022-05-31T14:28:34.312274",
     "status": "completed"
    },
    "tags": []
   },
   "outputs": [
    {
     "name": "stdout",
     "output_type": "stream",
     "text": [
      "I I 1.0\n",
      "I E 0.3861718475818634\n",
      "I C 0.35280120372772217\n",
      "I Whaley -0.036032456904649734\n",
      "I solemnly 0.13830667734146118\n",
      "I swear 0.5402541756629944\n",
      "I that 0.45158401131629944\n",
      "I I 1.0\n",
      "I have 0.5313224196434021\n",
      "I carefully 0.26356905698776245\n",
      "E I 0.3861718475818634\n",
      "E E 1.0\n",
      "E C 0.5150542855262756\n",
      "E Whaley -0.0038583450950682163\n",
      "E solemnly 0.007434697821736336\n",
      "E swear 0.12622001767158508\n",
      "E that 0.15877665579319\n",
      "E I 0.3861718475818634\n",
      "E have 0.1498286873102188\n",
      "E carefully 0.05362604558467865\n",
      "C I 0.35280120372772217\n",
      "C E 0.5150542855262756\n",
      "C C 1.0\n",
      "C Whaley -0.00789939146488905\n",
      "C solemnly 0.032800860702991486\n",
      "C swear 0.1354278326034546\n",
      "C that 0.17746229469776154\n",
      "C I 0.35280120372772217\n",
      "C have 0.13458862900733948\n",
      "C carefully 0.11058475822210312\n",
      "Whaley I -0.036032456904649734\n",
      "Whaley E -0.0038583450950682163\n",
      "Whaley C -0.00789939146488905\n",
      "Whaley Whaley 1.0\n",
      "Whaley solemnly 0.060280606150627136\n",
      "Whaley swear -0.08309495449066162\n",
      "Whaley that -0.25064030289649963\n",
      "Whaley I -0.036032456904649734\n",
      "Whaley have -0.24583233892917633\n",
      "Whaley carefully -0.18828308582305908\n",
      "solemnly I 0.13830667734146118\n",
      "solemnly E 0.007434697821736336\n",
      "solemnly C 0.032800860702991486\n",
      "solemnly Whaley 0.060280606150627136\n",
      "solemnly solemnly 1.0\n",
      "solemnly swear 0.4558905363082886\n",
      "solemnly that 0.21722550690174103\n",
      "solemnly I 0.13830667734146118\n",
      "solemnly have 0.15809352695941925\n",
      "solemnly carefully 0.3687545955181122\n",
      "swear I 0.5402541756629944\n",
      "swear E 0.12622001767158508\n",
      "swear C 0.1354278326034546\n",
      "swear Whaley -0.08309495449066162\n",
      "swear solemnly 0.4558905363082886\n",
      "swear swear 1.0\n",
      "swear that 0.4769379198551178\n",
      "swear I 0.5402541756629944\n",
      "swear have 0.44700461626052856\n",
      "swear carefully 0.29109716415405273\n",
      "that I 0.45158401131629944\n",
      "that E 0.15877665579319\n",
      "that C 0.17746229469776154\n",
      "that Whaley -0.25064030289649963\n",
      "that solemnly 0.21722550690174103\n",
      "that swear 0.4769379198551178\n",
      "that that 1.0\n",
      "that I 0.45158401131629944\n",
      "that have 0.7213270664215088\n",
      "that carefully 0.47004827857017517\n",
      "I I 1.0\n",
      "I E 0.3861718475818634\n",
      "I C 0.35280120372772217\n",
      "I Whaley -0.036032456904649734\n",
      "I solemnly 0.13830667734146118\n",
      "I swear 0.5402541756629944\n",
      "I that 0.45158401131629944\n",
      "I I 1.0\n",
      "I have 0.5313224196434021\n",
      "I carefully 0.26356905698776245\n",
      "have I 0.5313224196434021\n",
      "have E 0.1498286873102188\n",
      "have C 0.13458862900733948\n",
      "have Whaley -0.24583233892917633\n",
      "have solemnly 0.15809352695941925\n",
      "have swear 0.44700461626052856\n",
      "have that 0.7213270664215088\n",
      "have I 0.5313224196434021\n",
      "have have 1.0\n",
      "have carefully 0.40519267320632935\n",
      "carefully I 0.26356905698776245\n",
      "carefully E 0.05362604558467865\n",
      "carefully C 0.11058475822210312\n",
      "carefully Whaley -0.18828308582305908\n",
      "carefully solemnly 0.3687545955181122\n",
      "carefully swear 0.29109716415405273\n",
      "carefully that 0.47004827857017517\n",
      "carefully I 0.26356905698776245\n",
      "carefully have 0.40519267320632935\n",
      "carefully carefully 1.0\n"
     ]
    }
   ],
   "source": [
    "for token1 in tokens[:10]:\n",
    "    for token2 in tokens[:10]:\n",
    "        print(token1.text, token2.text, token1.similarity(token2))"
   ]
  },
  {
   "cell_type": "markdown",
   "id": "707e18bb",
   "metadata": {
    "papermill": {
     "duration": 0.029238,
     "end_time": "2022-05-31T14:28:34.423666",
     "exception": false,
     "start_time": "2022-05-31T14:28:34.394428",
     "status": "completed"
    },
    "tags": []
   },
   "source": [
    "awesome!"
   ]
  },
  {
   "cell_type": "markdown",
   "id": "e4529ca0",
   "metadata": {
    "papermill": {
     "duration": 0.0292,
     "end_time": "2022-05-31T14:28:34.482345",
     "exception": false,
     "start_time": "2022-05-31T14:28:34.453145",
     "status": "completed"
    },
    "tags": []
   },
   "source": [
    "# Embedding"
   ]
  },
  {
   "cell_type": "markdown",
   "id": "2209db53",
   "metadata": {
    "papermill": {
     "duration": 0.029517,
     "end_time": "2022-05-31T14:28:34.541162",
     "exception": false,
     "start_time": "2022-05-31T14:28:34.511645",
     "status": "completed"
    },
    "tags": []
   },
   "source": [
    "<h2>word2vec </h2>"
   ]
  },
  {
   "cell_type": "markdown",
   "id": "f2177fbe",
   "metadata": {
    "papermill": {
     "duration": 0.029076,
     "end_time": "2022-05-31T14:28:34.600491",
     "exception": false,
     "start_time": "2022-05-31T14:28:34.571415",
     "status": "completed"
    },
    "tags": []
   },
   "source": [
    "The underlying assumption of Word2Vec is that two words sharing similar contexts also share a similar meaning and consequently a similar vector representation from the model. For instance: \"dog\", \"puppy\" and \"pup\" are often used in similar situations, with similar surrounding words like \"good\", \"fluffy\" or \"cute\", and according to Word2Vec they will therefore share a similar vector representation.\n",
    "\n",
    "From this assumption, Word2Vec can be used to find out the relations between words in a dataset, compute the similarity between them, or use the vector representation of those words as input for other applications such as text classification or clustering."
   ]
  },
  {
   "cell_type": "code",
   "execution_count": 48,
   "id": "1da448ee",
   "metadata": {
    "execution": {
     "iopub.execute_input": "2022-05-31T14:28:34.660647Z",
     "iopub.status.busy": "2022-05-31T14:28:34.659913Z",
     "iopub.status.idle": "2022-05-31T14:28:34.833729Z",
     "shell.execute_reply": "2022-05-31T14:28:34.832468Z"
    },
    "papermill": {
     "duration": 0.206582,
     "end_time": "2022-05-31T14:28:34.836109",
     "exception": false,
     "start_time": "2022-05-31T14:28:34.629527",
     "status": "completed"
    },
    "tags": []
   },
   "outputs": [],
   "source": [
    "from gensim.models import Word2Vec\n",
    "tokens = text.apply(lambda x: nltk.word_tokenize(x))"
   ]
  },
  {
   "cell_type": "code",
   "execution_count": 49,
   "id": "3d3698a1",
   "metadata": {
    "execution": {
     "iopub.execute_input": "2022-05-31T14:28:34.898321Z",
     "iopub.status.busy": "2022-05-31T14:28:34.897904Z",
     "iopub.status.idle": "2022-05-31T14:28:34.903214Z",
     "shell.execute_reply": "2022-05-31T14:28:34.902324Z"
    },
    "papermill": {
     "duration": 0.03875,
     "end_time": "2022-05-31T14:28:34.905074",
     "exception": false,
     "start_time": "2022-05-31T14:28:34.866324",
     "status": "completed"
    },
    "tags": []
   },
   "outputs": [],
   "source": [
    "w2v_model = Word2Vec(min_count=1,\n",
    "                     window=10,\n",
    "                     vector_size=100,\n",
    "                     alpha=0.03, \n",
    "                     min_alpha=0.0007,\n",
    "                     workers = 4,\n",
    "                     negative=20,\n",
    "                     seed = 42)"
   ]
  },
  {
   "cell_type": "code",
   "execution_count": 50,
   "id": "756a36fe",
   "metadata": {
    "execution": {
     "iopub.execute_input": "2022-05-31T14:28:34.967137Z",
     "iopub.status.busy": "2022-05-31T14:28:34.966758Z",
     "iopub.status.idle": "2022-05-31T14:28:34.986406Z",
     "shell.execute_reply": "2022-05-31T14:28:34.985324Z"
    },
    "papermill": {
     "duration": 0.052948,
     "end_time": "2022-05-31T14:28:34.988437",
     "exception": false,
     "start_time": "2022-05-31T14:28:34.935489",
     "status": "completed"
    },
    "tags": []
   },
   "outputs": [],
   "source": [
    "w2v_model.build_vocab(tokens, progress_per=1000)"
   ]
  },
  {
   "cell_type": "code",
   "execution_count": 51,
   "id": "df18cbbb",
   "metadata": {
    "execution": {
     "iopub.execute_input": "2022-05-31T14:28:35.048713Z",
     "iopub.status.busy": "2022-05-31T14:28:35.048340Z",
     "iopub.status.idle": "2022-05-31T14:28:35.053026Z",
     "shell.execute_reply": "2022-05-31T14:28:35.052448Z"
    },
    "papermill": {
     "duration": 0.036912,
     "end_time": "2022-05-31T14:28:35.054847",
     "exception": false,
     "start_time": "2022-05-31T14:28:35.017935",
     "status": "completed"
    },
    "tags": []
   },
   "outputs": [
    {
     "data": {
      "text/plain": [
       "<gensim.models.word2vec.Word2Vec at 0x7f3df47150d0>"
      ]
     },
     "execution_count": 51,
     "metadata": {},
     "output_type": "execute_result"
    }
   ],
   "source": [
    "w2v_model"
   ]
  },
  {
   "cell_type": "markdown",
   "id": "6eca980a",
   "metadata": {
    "papermill": {
     "duration": 0.029518,
     "end_time": "2022-05-31T14:28:35.113445",
     "exception": false,
     "start_time": "2022-05-31T14:28:35.083927",
     "status": "completed"
    },
    "tags": []
   },
   "source": [
    "**train the model**"
   ]
  },
  {
   "cell_type": "code",
   "execution_count": 52,
   "id": "93ed1261",
   "metadata": {
    "execution": {
     "iopub.execute_input": "2022-05-31T14:28:35.177004Z",
     "iopub.status.busy": "2022-05-31T14:28:35.176626Z",
     "iopub.status.idle": "2022-05-31T14:28:35.416511Z",
     "shell.execute_reply": "2022-05-31T14:28:35.415383Z"
    },
    "papermill": {
     "duration": 0.27408,
     "end_time": "2022-05-31T14:28:35.418879",
     "exception": false,
     "start_time": "2022-05-31T14:28:35.144799",
     "status": "completed"
    },
    "tags": []
   },
   "outputs": [
    {
     "data": {
      "text/plain": [
       "(44302, 71200)"
      ]
     },
     "execution_count": 52,
     "metadata": {},
     "output_type": "execute_result"
    }
   ],
   "source": [
    "w2v_model.train(tokens, total_examples=w2v_model.corpus_count, epochs=20, report_delay=1)"
   ]
  },
  {
   "cell_type": "markdown",
   "id": "697053b0",
   "metadata": {
    "papermill": {
     "duration": 0.029576,
     "end_time": "2022-05-31T14:28:35.478152",
     "exception": false,
     "start_time": "2022-05-31T14:28:35.448576",
     "status": "completed"
    },
    "tags": []
   },
   "source": [
    "we are calling init_sims(), which will make the model much more memory-efficient:"
   ]
  },
  {
   "cell_type": "code",
   "execution_count": 53,
   "id": "4a42f7e5",
   "metadata": {
    "execution": {
     "iopub.execute_input": "2022-05-31T14:28:35.538887Z",
     "iopub.status.busy": "2022-05-31T14:28:35.538304Z",
     "iopub.status.idle": "2022-05-31T14:28:35.543239Z",
     "shell.execute_reply": "2022-05-31T14:28:35.542520Z"
    },
    "papermill": {
     "duration": 0.037228,
     "end_time": "2022-05-31T14:28:35.545115",
     "exception": false,
     "start_time": "2022-05-31T14:28:35.507887",
     "status": "completed"
    },
    "tags": []
   },
   "outputs": [],
   "source": [
    "w2v_model.init_sims(replace=True)"
   ]
  },
  {
   "cell_type": "code",
   "execution_count": 54,
   "id": "f09cc72a",
   "metadata": {
    "execution": {
     "iopub.execute_input": "2022-05-31T14:28:35.605887Z",
     "iopub.status.busy": "2022-05-31T14:28:35.605242Z",
     "iopub.status.idle": "2022-05-31T14:28:35.616121Z",
     "shell.execute_reply": "2022-05-31T14:28:35.614484Z"
    },
    "papermill": {
     "duration": 0.044918,
     "end_time": "2022-05-31T14:28:35.619276",
     "exception": false,
     "start_time": "2022-05-31T14:28:35.574358",
     "status": "completed"
    },
    "tags": []
   },
   "outputs": [
    {
     "name": "stdout",
     "output_type": "stream",
     "text": [
      "[-0.04951133  0.11050034  0.06967741  0.01490528 -0.14971273  0.13183625\n",
      "  0.16652586  0.18385077 -0.12037469 -0.03434359 -0.15926217 -0.00971843\n",
      " -0.03694363  0.13860089  0.05176211  0.06452275  0.00438655 -0.12337547\n",
      " -0.10607462 -0.0390372  -0.04318861  0.13785346  0.16397966  0.06532136\n",
      "  0.11919588 -0.03828365  0.01789892  0.06706134 -0.03277326 -0.1054505\n",
      " -0.20866978  0.09919342 -0.09137964  0.05076228  0.0548308  -0.04937703\n",
      " -0.0408196  -0.04357161  0.05971956  0.08942538  0.06713237  0.00954733\n",
      "  0.09845223 -0.1301692  -0.06910615 -0.09488161  0.08490355  0.09767488\n",
      "  0.25551638 -0.18004262 -0.00666728 -0.22700728 -0.00283213 -0.10839704\n",
      "  0.1387851  -0.15287912 -0.09863934  0.04882066  0.11808014  0.1021429\n",
      "  0.049704   -0.01037023  0.08013137  0.08121086  0.00820129  0.02508541\n",
      " -0.14553453 -0.1559451   0.03794904  0.05087738 -0.08719241  0.05104979\n",
      "  0.07355057 -0.02540811  0.06243912 -0.00612438  0.04333055 -0.00455278\n",
      " -0.05771075 -0.09066517  0.06920934 -0.06129282 -0.06813171 -0.08392871\n",
      " -0.06261113 -0.0897888  -0.09126166 -0.05436165  0.05840306  0.03284963\n",
      " -0.14893167  0.15472426  0.08889531 -0.0819902   0.23374695 -0.0233033\n",
      "  0.13239355  0.08743975 -0.02648463 -0.14696868]\n"
     ]
    }
   ],
   "source": [
    "v1 = w2v_model.wv['swear']\n",
    "print(v1)"
   ]
  },
  {
   "cell_type": "code",
   "execution_count": 55,
   "id": "a5616198",
   "metadata": {
    "execution": {
     "iopub.execute_input": "2022-05-31T14:28:35.680599Z",
     "iopub.status.busy": "2022-05-31T14:28:35.679698Z",
     "iopub.status.idle": "2022-05-31T14:28:35.685879Z",
     "shell.execute_reply": "2022-05-31T14:28:35.684947Z"
    },
    "papermill": {
     "duration": 0.038705,
     "end_time": "2022-05-31T14:28:35.688107",
     "exception": false,
     "start_time": "2022-05-31T14:28:35.649402",
     "status": "completed"
    },
    "tags": []
   },
   "outputs": [
    {
     "name": "stdout",
     "output_type": "stream",
     "text": [
      "[-0.03355386  0.0850593   0.06520668 -0.00869624 -0.11729058  0.08438323\n",
      "  0.23168522  0.13944061 -0.13306405 -0.02794871 -0.18150134 -0.00799644\n",
      " -0.05531769  0.14335701  0.09144988  0.06343899  0.00627084 -0.09336287\n",
      " -0.11740535 -0.03837593 -0.04850276  0.08359201  0.13445622  0.11711897\n",
      "  0.12204808 -0.01301487  0.02914257  0.11971885  0.00347008 -0.09400827\n",
      " -0.17491528  0.05253549 -0.07208994  0.04086263  0.04168912 -0.00863961\n",
      " -0.03971607 -0.02586753  0.09354465  0.0640052   0.03691046  0.03474906\n",
      "  0.10817763 -0.12889865 -0.03907118 -0.11685736  0.06201011  0.0823691\n",
      "  0.2716881  -0.17302963  0.035468   -0.27619278  0.00759571 -0.10265193\n",
      "  0.16806716 -0.15096553 -0.12910491  0.03597796  0.11254589  0.07849076\n",
      "  0.02760053  0.01151614  0.06140382  0.08909655 -0.01965523  0.00603168\n",
      " -0.12647793 -0.12920146  0.004031    0.03953175 -0.07599505  0.06291182\n",
      "  0.04273269 -0.04979329  0.08354251  0.00121884  0.0560913   0.0008169\n",
      " -0.05486426 -0.1206376   0.04465338 -0.06244987 -0.05445626 -0.09986681\n",
      " -0.04881719 -0.03967041 -0.1101476  -0.04643839  0.02191591  0.02079102\n",
      " -0.19551826  0.14938025  0.06925539 -0.08150813  0.21878365  0.0102724\n",
      "  0.14716719  0.11685681 -0.07465451 -0.14203799]\n"
     ]
    }
   ],
   "source": [
    "v2 = w2v_model.wv['carefully']\n",
    "print(v2)"
   ]
  },
  {
   "cell_type": "markdown",
   "id": "6553b899",
   "metadata": {
    "papermill": {
     "duration": 0.028809,
     "end_time": "2022-05-31T14:28:35.746984",
     "exception": false,
     "start_time": "2022-05-31T14:28:35.718175",
     "status": "completed"
    },
    "tags": []
   },
   "source": [
    "<h2>Similar words using Word2vec</h2>"
   ]
  },
  {
   "cell_type": "code",
   "execution_count": 56,
   "id": "8ec45860",
   "metadata": {
    "execution": {
     "iopub.execute_input": "2022-05-31T14:28:35.808920Z",
     "iopub.status.busy": "2022-05-31T14:28:35.808531Z",
     "iopub.status.idle": "2022-05-31T14:28:35.815216Z",
     "shell.execute_reply": "2022-05-31T14:28:35.814280Z"
    },
    "papermill": {
     "duration": 0.040348,
     "end_time": "2022-05-31T14:28:35.817170",
     "exception": false,
     "start_time": "2022-05-31T14:28:35.776822",
     "status": "completed"
    },
    "tags": []
   },
   "outputs": [
    {
     "data": {
      "text/plain": [
       "0     8 E encl\\r\\n\\r\\nI Anne H. Elliott, widow do so...\n",
       "1     I E C Whaley solemnly swear that I have carefu...\n",
       "2     43M\\r\\nI Mrs E Montgomery solemnly Swear that ...\n",
       "3     No. 2324\\r\\nI do solemnly swear or affirm, in ...\n",
       "4     August 24. 1865\\r\\nAPPLICATION AND CERTIFICATE...\n",
       "5     I Wm Whaley solemnly swear that I have careful...\n",
       "6     I J F Steinmeyer solemnly swear that I have ca...\n",
       "7     I Joseph Edings solemnly swear that I have car...\n",
       "8     Vicksburg Miss. \\r\\nJuly 22 1867 \\r\\n\\r\\nThoma...\n",
       "9     455\\r\\n(RETAINED COPY.)\\r\\nI, Jacob Schroder. ...\n",
       "10    [[image - eagle]]\\r\\nAMNESTY OATH.\\r\\n\\r\\nMiss...\n",
       "11    OATH.\\r\\nI, P. P. Bergevin, \\r\\ndo solemnly sw...\n",
       "12                                        Frank Conner \n",
       "13    I Caroline Belitzer solemnly Swear that I have...\n",
       "14    Triplicate\\r\\nAMNESTY OATH. \\r\\n\\r\\nPass Chris...\n",
       "15    [Retained Copy.]\\r\\nHEADQUARTERS, UNITED STATE...\n",
       "16                                     Robert A. Wilson\n",
       "17    APPLICATION AND CERTIFICATE OF \\r\\nJames D Ken...\n",
       "18    [[underlined]] Oath [[/underlined]] Aug. 2  7,...\n",
       "19    [[image - eagle]]\\r\\n\\r\\nAMNESTY OATH. \\r\\n\\r\\...\n",
       "Name: transcription_text, dtype: object"
      ]
     },
     "execution_count": 56,
     "metadata": {},
     "output_type": "execute_result"
    }
   ],
   "source": [
    "text"
   ]
  },
  {
   "cell_type": "code",
   "execution_count": 57,
   "id": "4e514f5b",
   "metadata": {
    "execution": {
     "iopub.execute_input": "2022-05-31T14:28:35.877722Z",
     "iopub.status.busy": "2022-05-31T14:28:35.877337Z",
     "iopub.status.idle": "2022-05-31T14:28:35.893634Z",
     "shell.execute_reply": "2022-05-31T14:28:35.892367Z"
    },
    "papermill": {
     "duration": 0.050591,
     "end_time": "2022-05-31T14:28:35.897047",
     "exception": false,
     "start_time": "2022-05-31T14:28:35.846456",
     "status": "completed"
    },
    "tags": []
   },
   "outputs": [
    {
     "name": "stdout",
     "output_type": "stream",
     "text": [
      "[('Mississippi', 0.9992218613624573), ('eagle', 0.99918532371521), ('OATH', 0.99915611743927), ('Major', 0.9990241527557373), ('66th', 0.9990025162696838), ('47th', 0.9989596605300903), ('Steuben', 0.9989490509033203), ('Frank', 0.9989179372787476), ('August', 0.99875807762146), ('Bray', 0.998724102973938)]\n"
     ]
    }
   ],
   "source": [
    "sim_words = w2v_model.wv.most_similar('AMNESTY')\n",
    "print(sim_words)"
   ]
  },
  {
   "cell_type": "code",
   "execution_count": 58,
   "id": "2861e0d4",
   "metadata": {
    "execution": {
     "iopub.execute_input": "2022-05-31T14:28:36.018805Z",
     "iopub.status.busy": "2022-05-31T14:28:36.018443Z",
     "iopub.status.idle": "2022-05-31T14:28:36.028360Z",
     "shell.execute_reply": "2022-05-31T14:28:36.026777Z"
    },
    "papermill": {
     "duration": 0.070655,
     "end_time": "2022-05-31T14:28:36.031734",
     "exception": false,
     "start_time": "2022-05-31T14:28:35.961079",
     "status": "completed"
    },
    "tags": []
   },
   "outputs": [
    {
     "name": "stdout",
     "output_type": "stream",
     "text": [
      "[('OF', 0.9996607303619385), ('Administered', 0.9996067881584167), ('AND', 0.9995856881141663), ('1867', 0.9995724558830261), ('July', 0.9995355010032654), ('22', 0.9995344877243042), ('At', 0.9994920492172241), ('Kennedy', 0.9994633197784424), ('STATES', 0.9994415044784546), ('Of', 0.9994299411773682)]\n"
     ]
    }
   ],
   "source": [
    "sim_words = w2v_model.wv.most_similar('CERTIFICATE')\n",
    "print(sim_words)"
   ]
  },
  {
   "cell_type": "code",
   "execution_count": 59,
   "id": "92b2a8f9",
   "metadata": {
    "execution": {
     "iopub.execute_input": "2022-05-31T14:28:36.154684Z",
     "iopub.status.busy": "2022-05-31T14:28:36.154318Z",
     "iopub.status.idle": "2022-05-31T14:28:36.163850Z",
     "shell.execute_reply": "2022-05-31T14:28:36.161962Z"
    },
    "papermill": {
     "duration": 0.066845,
     "end_time": "2022-05-31T14:28:36.166976",
     "exception": false,
     "start_time": "2022-05-31T14:28:36.100131",
     "status": "completed"
    },
    "tags": []
   },
   "outputs": [
    {
     "name": "stdout",
     "output_type": "stream",
     "text": [
      "[('Laws', 0.9891179203987122), ('which', 0.9876135587692261), ('Proclamations', 0.9825489521026611), ('been', 0.9797759056091309), ('all', 0.9754819869995117), ('made', 0.9725536108016968), ('and', 0.9632009267807007), ('existing', 0.9512723684310913), ('Rebellion', 0.9500448703765869), ('laws', 0.9491156339645386)]\n"
     ]
    }
   ],
   "source": [
    "sim_words = w2v_model.wv.most_similar('have')\n",
    "print(sim_words)"
   ]
  },
  {
   "cell_type": "code",
   "execution_count": 60,
   "id": "6850ca24",
   "metadata": {
    "execution": {
     "iopub.execute_input": "2022-05-31T14:28:36.287483Z",
     "iopub.status.busy": "2022-05-31T14:28:36.286493Z",
     "iopub.status.idle": "2022-05-31T14:28:36.292566Z",
     "shell.execute_reply": "2022-05-31T14:28:36.291683Z"
    },
    "papermill": {
     "duration": 0.064277,
     "end_time": "2022-05-31T14:28:36.294581",
     "exception": false,
     "start_time": "2022-05-31T14:28:36.230304",
     "status": "completed"
    },
    "tags": []
   },
   "outputs": [
    {
     "data": {
      "text/plain": [
       "0.9994015"
      ]
     },
     "execution_count": 60,
     "metadata": {},
     "output_type": "execute_result"
    }
   ],
   "source": [
    "w2v_model.wv.similarity(\"CERTIFICATE\", 'APPLICATION')"
   ]
  },
  {
   "cell_type": "markdown",
   "id": "aed8d344",
   "metadata": {
    "papermill": {
     "duration": 0.029711,
     "end_time": "2022-05-31T14:28:36.354204",
     "exception": false,
     "start_time": "2022-05-31T14:28:36.324493",
     "status": "completed"
    },
    "tags": []
   },
   "source": [
    "**Odd-One-Out**"
   ]
  },
  {
   "cell_type": "markdown",
   "id": "1d51d74f",
   "metadata": {
    "papermill": {
     "duration": 0.030095,
     "end_time": "2022-05-31T14:28:36.414324",
     "exception": false,
     "start_time": "2022-05-31T14:28:36.384229",
     "status": "completed"
    },
    "tags": []
   },
   "source": [
    "*Here, we ask our model to give us the word that does not belong to the list!*"
   ]
  },
  {
   "cell_type": "code",
   "execution_count": 61,
   "id": "396f13be",
   "metadata": {
    "execution": {
     "iopub.execute_input": "2022-05-31T14:28:36.476660Z",
     "iopub.status.busy": "2022-05-31T14:28:36.475968Z",
     "iopub.status.idle": "2022-05-31T14:28:36.481911Z",
     "shell.execute_reply": "2022-05-31T14:28:36.481316Z"
    },
    "papermill": {
     "duration": 0.039527,
     "end_time": "2022-05-31T14:28:36.483704",
     "exception": false,
     "start_time": "2022-05-31T14:28:36.444177",
     "status": "completed"
    },
    "tags": []
   },
   "outputs": [
    {
     "data": {
      "text/plain": [
       "'swear'"
      ]
     },
     "execution_count": 61,
     "metadata": {},
     "output_type": "execute_result"
    }
   ],
   "source": [
    "w2v_model.wv.doesnt_match(['monday', 'tuesday', 'swear','friday','sunday'])"
   ]
  },
  {
   "cell_type": "code",
   "execution_count": 62,
   "id": "41a78e9d",
   "metadata": {
    "execution": {
     "iopub.execute_input": "2022-05-31T14:28:36.547273Z",
     "iopub.status.busy": "2022-05-31T14:28:36.546522Z",
     "iopub.status.idle": "2022-05-31T14:28:36.552476Z",
     "shell.execute_reply": "2022-05-31T14:28:36.551624Z"
    },
    "papermill": {
     "duration": 0.03956,
     "end_time": "2022-05-31T14:28:36.554202",
     "exception": false,
     "start_time": "2022-05-31T14:28:36.514642",
     "status": "completed"
    },
    "tags": []
   },
   "outputs": [
    {
     "data": {
      "text/plain": [
       "'AMNESTY'"
      ]
     },
     "execution_count": 62,
     "metadata": {},
     "output_type": "execute_result"
    }
   ],
   "source": [
    "w2v_model.wv.doesnt_match(['breakfast', 'AMNESTY', 'dinner', 'lunch'])"
   ]
  },
  {
   "cell_type": "code",
   "execution_count": 63,
   "id": "f4b54133",
   "metadata": {
    "execution": {
     "iopub.execute_input": "2022-05-31T14:28:36.617733Z",
     "iopub.status.busy": "2022-05-31T14:28:36.616731Z",
     "iopub.status.idle": "2022-05-31T14:28:36.623042Z",
     "shell.execute_reply": "2022-05-31T14:28:36.622062Z"
    },
    "papermill": {
     "duration": 0.040144,
     "end_time": "2022-05-31T14:28:36.625341",
     "exception": false,
     "start_time": "2022-05-31T14:28:36.585197",
     "status": "completed"
    },
    "tags": []
   },
   "outputs": [
    {
     "data": {
      "text/plain": [
       "'No. 2324\\r\\nI do solemnly swear or affirm, in the presence of Almighty God, that I will henceforth faithfully defend the Constitution of the United States, and the Union of States thereunder, and that I will in like manner abide by and faithfully support all Laws and Proclamations which have been made during the existing rebellion, with reference to the emancipation of slaves.\\r\\nSO HELP ME GOD,\\r\\nE.B. Towne\\r\\n\\r\\n[[stamp]] INTER.REVENUE 5 5 FIVE IMAGE CENTS 5 5 INLDEXCHANGE [[stamp]]\\r\\n\\r\\nSworn to and Subscribed before me, this 31st day of August A.D. 1865.\\r\\nHu Kennedy\\r\\nMAYOR\\r\\nOf the City of New Orleans.'"
      ]
     },
     "execution_count": 63,
     "metadata": {},
     "output_type": "execute_result"
    }
   ],
   "source": [
    "text[3]"
   ]
  },
  {
   "cell_type": "markdown",
   "id": "6e68c996",
   "metadata": {
    "papermill": {
     "duration": 0.032217,
     "end_time": "2022-05-31T14:28:36.688678",
     "exception": false,
     "start_time": "2022-05-31T14:28:36.656461",
     "status": "completed"
    },
    "tags": []
   },
   "source": [
    "*Find the top-N most similar words. Positive words contribute positively towards the similarity, negative words negatively.*"
   ]
  },
  {
   "cell_type": "code",
   "execution_count": 64,
   "id": "1932d999",
   "metadata": {
    "execution": {
     "iopub.execute_input": "2022-05-31T14:28:36.752091Z",
     "iopub.status.busy": "2022-05-31T14:28:36.751686Z",
     "iopub.status.idle": "2022-05-31T14:28:36.764898Z",
     "shell.execute_reply": "2022-05-31T14:28:36.763630Z"
    },
    "papermill": {
     "duration": 0.047827,
     "end_time": "2022-05-31T14:28:36.768090",
     "exception": false,
     "start_time": "2022-05-31T14:28:36.720263",
     "status": "completed"
    },
    "tags": []
   },
   "outputs": [
    {
     "data": {
      "text/plain": [
       "[('Swear', 0.9882302284240723),\n",
       " ('Carolina', 0.9882285594940186),\n",
       " ('South', 0.9862900972366333),\n",
       " ('do', 0.9862668514251709),\n",
       " ('affirm', 0.9849430322647095),\n",
       " ('mnly', 0.9832674264907837),\n",
       " ('constitution', 0.9828163385391235),\n",
       " ('20', 0.9798821806907654),\n",
       " ('knowledge', 0.9798389673233032),\n",
       " ('o', 0.979705810546875)]"
      ]
     },
     "execution_count": 64,
     "metadata": {},
     "output_type": "execute_result"
    }
   ],
   "source": [
    "w2v_model.wv.most_similar(positive=['Whaley', 'swear'], negative=['Andrew'])"
   ]
  },
  {
   "cell_type": "code",
   "execution_count": 65,
   "id": "6a6fb824",
   "metadata": {
    "execution": {
     "iopub.execute_input": "2022-05-31T14:28:36.890923Z",
     "iopub.status.busy": "2022-05-31T14:28:36.890479Z",
     "iopub.status.idle": "2022-05-31T14:28:36.902562Z",
     "shell.execute_reply": "2022-05-31T14:28:36.901335Z"
    },
    "papermill": {
     "duration": 0.073538,
     "end_time": "2022-05-31T14:28:36.906336",
     "exception": false,
     "start_time": "2022-05-31T14:28:36.832798",
     "status": "completed"
    },
    "tags": []
   },
   "outputs": [
    {
     "data": {
      "text/plain": [
       "[('Swear', 0.9882302284240723),\n",
       " ('Carolina', 0.9882285594940186),\n",
       " ('South', 0.9862900972366333),\n",
       " ('do', 0.9862668514251709),\n",
       " ('affirm', 0.9849430322647095),\n",
       " ('mnly', 0.9832674264907837),\n",
       " ('constitution', 0.9828163385391235),\n",
       " ('20', 0.9798821806907654),\n",
       " ('knowledge', 0.9798389673233032),\n",
       " ('o', 0.979705810546875)]"
      ]
     },
     "execution_count": 65,
     "metadata": {},
     "output_type": "execute_result"
    }
   ],
   "source": [
    "w2v_model.wv.most_similar(positive=['Whaley', 'swear'], negative=['Andrew'])"
   ]
  },
  {
   "cell_type": "markdown",
   "id": "f5e3618c",
   "metadata": {
    "papermill": {
     "duration": 0.055665,
     "end_time": "2022-05-31T14:28:37.026649",
     "exception": false,
     "start_time": "2022-05-31T14:28:36.970984",
     "status": "completed"
    },
    "tags": []
   },
   "source": [
    "<h2>Glove</h2>"
   ]
  },
  {
   "cell_type": "markdown",
   "id": "d66bc937",
   "metadata": {
    "papermill": {
     "duration": 0.031164,
     "end_time": "2022-05-31T14:28:37.090769",
     "exception": false,
     "start_time": "2022-05-31T14:28:37.059605",
     "status": "completed"
    },
    "tags": []
   },
   "source": [
    "GloVe: GloVe is based on matrix factorization techniques on the word-context matrix. It first constructs a large matrix of (words x context) co-occurrence information, i.e. for each “word” (the rows), you count how frequently we see this word in some “context” (the columns) in a large corpus. The number of “contexts” is of course large, since it is essentially combinatorial in size. So then we factorize this matrix to yield a lower-dimensional (word x features) matrix, where each row now yields a vector representation for each word. In general, this is done by minimizing a “reconstruction loss”. This loss tries to find the lower-dimensional representations which can explain most of the variance in the high-dimensional data."
   ]
  },
  {
   "cell_type": "markdown",
   "id": "2403f0b4",
   "metadata": {
    "papermill": {
     "duration": 0.030131,
     "end_time": "2022-05-31T14:28:37.151465",
     "exception": false,
     "start_time": "2022-05-31T14:28:37.121334",
     "status": "completed"
    },
    "tags": []
   },
   "source": [
    "![](data:image/png;base64,iVBORw0KGgoAAAANSUhEUgAAAVsAAADoCAYAAABB5keCAAAgAElEQVR4Ae2dbWhVV/bGg9/zJR9S8mEICEHyIYShSCSD4JBABvxDFYwvDJEKSqwMQtvoTCJDZjJTTR3GygyYKkKN5E2dWG3FzmTiqEVIiZFMNGrG0jbQNk41pBpsTEjM+rP2sE/vvd4b77nrrLiSPBcu9+2sc9Z5nr1+d5+9902yCDcoAAWgABRQVyBL/Qg4ABSAAlAAChBgi0YABaAAFJgHBZY0bCcmJqi6utrd+TluUAAKQAEtBZYMbBsaGqiiooJGR0cDLRcDbIeGhqi4uJhaWlqC87L2JJn21nJcSPlAz4Xk1o+5ArYLvGcL2P7YmJfKM8B2YToN2AK26i0XcIhWYugZrZ7ztbdFD1s/VJCVlUWxdx5S+Prrr4Mx29u3b9OOHTsoJyeHVqxYQe+//z5NT0/H+XDz5k3atm2b2yY7O5sqKyvpxo0bNDs7G7ddui+ePXtG//rXv2jdunXE++NjV1VV0aeffur2eerUKSorK3Ofce6c1969e+n+/fvuENeuXYs7J39+UQ0pcH7//Oc/XQ68b87v//7v/6itrY1mZmZcHm+88YbLiz/nc/jFL35BH330EXHsXNrHDuekq1ey7fg4fDzWiXPIz8+nffv20YMHD4LNvU6XLl1yuZeUlLhc2b979+4F20XxJPZY3IbYM87p8OHDTo+vvvrKtSHWavXq1dTT0xMcln192XoGyeBJ5AosetgyFPr7+x1Iuci4MC9fvuwa+ffff+9gm5eX5wpiy5Yt9M4777ixXS6Gc+fOBYJfuXKFCgoKaOfOnXThwgV35+25kLjAwt4Y0K2tra7oeT+8zxMnTrgC5Ek7BtXBgwdpz549dPbsWZfzyZMnac2aNQ7yY2Nj9PDhQzdWy3nV19e7bfjchoeHw6aTdPv29nbKzc2lX/3qV9TV1eXu3Kuqra11+TGo+MvnL3/5C3V3d7vPf/3rX7sY1m4u7ScnJ5MeM8ybvP8///nPcTmyhitXrqTXXnuN/vvf/7rdeQCyTkVFRQ7Gb731lvvyYOCyllHdYo/FMGW9+Bj8RcA6rlq1irZv3+7e5zx/9rOfEQOYby9bz6g0wH6SK7DoYetPO9mll+95MYR7e3uDHioX3/r162nXrl309OlTV4z8urGxMa63+/jxY9q6dSu9+eabNDU15Q+V1uOXX35JfNy6urq4fT558oQ6OjoczJLt6OrVq8RfDn19fe5jrTFbPm8+fwbDDz/8kCyVpO/xthwTq0ky7ZMGh3xzcHCQCgsLXa8x9urizp07btKQQczvewDyFxLr62+dnZ3uyy62d+k/y/TRH+u9994j/4Xy6NEj+uUvf+n8jm1n/AXFX+rnz59Pebj51DNlEvggEgUA2yRjth40vofJxci9Ir6858vf2DvDMnGVQzrOMFBjoZkshi+Rb9265XpBa9euDS7XuZfERc03bdhy7+w///lPsvTce/yFc/r0aXr99dddr5zhwfl57XgjLdg2Nze7nurdu3fj8uMvPob9hg0biEHnAeg18xuzr5xv4vv+80wekx3Ltyefj99vMu9epp4+LzzqKADYJoEtS82A8MDgMVAGSKp7JrDl/ZeWlqa85OfxYu5J8zG5B8zjkMePH6cjR4649zwgkhVsVE2Fh054mIRz4MtfHj7g4/qxbO5Bcm5+rPlPf/oTcW+Rx6C9dl7LTDR60XmwhuXl5XHjsz4mVt9kAOTtvHZeSx8reUx1LM4nUQN/fD/G/rL1lJw3Yl+sAGCbJmx5rC+xB/VieVNvEQuDZFvxMAH3fPfv3x9cjvJ2icWcWLDJ9iV575tvvnGThRs3bgzA+5vf/IbGx8dd75Fhy71vf/NDM4Bt/Dj+i2Dre+MvU0/vIR51FABs04Ctv9zkSaKobtybmWsYgT9PBvj5hm3s+TJIGbSvvvqqG+PmnhqPg8aOl84nbHkYgYd3BgYGYtN04+c8jMBDLzz+nqiZ39h/UfHnUd1SHetFsOWhqZetZ1QaYD/JFVhSsE285EwGBi8TF4fvnY2MjLjL1c2bNz93yco9vA8++CDlhJbfX+Kjn9z5wx/+EFyW8zacE68++Pjjj93l+8WLF4NQnnA5evRo0mEEBk+UN59H7IQS75+Pw7DlFR68TI0nfnhc1N8+//xzBw2vHb/PWiZq77eXPHoNEycuU02QJULVEmy5Hb1sPSVeIPbFCiwZ2PLSKp4M4R7PJ5984i7Pv/32WwfUWDB4yWJhy+/58UueMOLlRTyT/O6777reZ7J4v59Uj37ZEufkl36dOXMmANUXX3zhAMVjpjU1NQ5YfGzuyfEYqgcHT6hs2rTJzb7zUi3Oba7Z7VT5JL7vv4i4d81rRHlJ2aFDh9wk3dtvv+2GNngMmXPhtbe8ZI51WL58ueuxx2qSTPsolluxhrw8jjX0y9PmWvrlNfPnagm2nNPL1tPrgkcdBZYMbHlSxy8y5+LkJVthYMvyc3EyrP2kES9Y5/Wa3JOKvZRO1ypebZD4owZet/rZZ5+5/fEYMS8585Nk/GMCXpgfC1s+Fq/P5LWcfF6cU+z64HRzSdyOz4fPK/Z8eTyxqakp6MVzT5sn7FgPniTjH4Xwj0MYtLGwTaZ9FLDlnHnfPCmXzo8arMPWgp6J7QCvo1NgycA2OsmwJygABaBAeAUA2/CaIQIKQAEoEFoBwDa0ZAiAAlAACoRXALANrxkioAAUgAKhFQBsQ0uGACgABaBAeAUA2/CaIQIKQAEoEFoBwDa0ZAiAAlAACoRXALANrxkioAAUgAKhFQBsQ0uGACgABaBAeAUA2/CaIQIKQAEoEFoBwDa0ZAiAAlAACoRXALANrxkioAAUgAKhFQBsQ0uGACgABaBAeAUWJGz5T/pZvr/yyivIT+AR9JO37/AoQIS2AgsWttrCSPbPsLB8Q34yd6zrxx0R3OwpANgqeGK9GJGfzHTr+gG2Mn+1ogFbBWWtFyPyk5luXT/AVuavVjRgq6Cs9WJEfjLTresH2Mr81YoGbBWUtV6MyE9munX9AFuZv1rRgK2CstaLEfnJTLeuH2Ar81crGrBVUNZ6MSI/menW9QNsZf5qRQO2CspaL0bkJzPdun6ArcxfrWjAVkFZ68WI/GSmW9cPsJX5qxX9QthOTExQdXW1u/NzCzfrjcl6MSI/WSu2rp/1+pCpv3Cj42Db0NBAFRUVNDo6GpwRYBtIkfYT68WI/NK2MumG1vUDbJPa9tLfBGwVLLBejMhPZrp1/QBbmb9a0YCtgrLWixH5yUy3rh9gK/NXK9rB1g8VZGVlUeydhxS+/vrrYMz29u3btGPHDsrJyaEVK1bQ+++/T9PT03G53bx5k7Zt2+a2yc7OpsrKSrpx4wbNzs7GbSd5EUVj4nNuamqioqIid85lZWXU2dn53PlkkmeUxTg+Pk5VVVXU0tKSSSpJY6LID/ollTb0mxr+RlEfoU8EAS9UwMF2ZmaG+vv7HUhLSkroo48+osuXL1NPTw99//33DrZ5eXmUn59PW7ZsoXfeeceN7TJMz507FxzkypUrVFBQQDt37qQLFy64O2/PcdeuXQu2kz6RNib+gmhsbHRfCAcOHKDu7m6qqamh3Nxcam9vl6ZHUcCMk5iamqK2tjZi7S3BFvpF81fdtPyV1oe4ALCDpAqkPYzAEO7t7Q16qGNjY7R+/XratWsXPX36lPxrhlhsb/fx48e0detWevPNNx08kmYR8k1pYxocHKTCwkI6duxYcD6cc11dHZWXl9PIyEjIjOI3jwK2DNfYqwxLsIV+cthq+iutj/jWjFdRKZA2bHn5F186+hsDlkHr3+deMPdqP/30U7eagVc0+DtDLHGVg99PJo/SxtTR0eFyHRgYiDt8V1cXcW+dz0VyiwK2rDXrx19wPNRhCbbQTw5bTX+l9SFp+4hNrUDGsOVd8lIxD9vEb+rYXhk/twRbzru0tJSGh4fjlOnr64vkkj0K2PrEhoaGqLi42BRsoZ8ctpr+ArZeXVuPkcKWe2B3795VP0NJY+KJuvr6+qTw92Brbm4WncNihi30o8jG5LmR+TYX5ZWLpD5EDR/BcyoQGWz50psvwflSXPsmaUx8+ca98WQ9bd/wuecmuS1m2EI/wFZSG0s59jnY8gTRgwcPAk18cfnhguCDhGEEnlTi2M2bN8fF8/a8vOWDDz6IG/ON3U/Y5xLY8sqL2traOWGLnm1qR6AfYJu6deCTuRSIgy0v1+LeKa8c+OSTT2j//v307bffup7gi2DLB+GlX7zMa/Xq1XTixAm3pOrdd991EzzJ4udKbK7PJLDl/WLMUTbmCP1k+sW2bX81hWGEWFUW5/M42PLyJ/6hAv9ggaHLS7bCwJYl4sbDsGbo8sQY7+utt96iO3fuBMuspFJKYbsQZtO9RhrFKB3mgH6ArW+feExfgTjYph/2creUwjbZOtHJyUnavXu3mXW2XmGLsIV+gK1vn3hMX4ElCdu5fgHV2toq7oFLe45sHy9L41/x8eUlr1/mFRT8mn/px+Omkps0P+gnh62mv9LOiKRtITa1AksStiwHT/xZ/tsIqdYtRzH2LYUt9JPDVtNfwDY18F7mJ0sWtpqiRwEz5KepgGzf1v0FbGX+akUDtgrKWi9G5Ccz3bp+gK3MX61owFZBWevFiPxkplvXD7CV+asVDdgqKGu9GJGfzHTr+gG2Mn+1ogFbBWWtFyPyk5luXT/AVuavVjRgq6Cs9WJEfjLTresH2Mr81YoGbBWUtV6MyE9munX9AFuZv1rRgK2CstaLEfnJTLeuH2Ar81crGrBVUNZ6MSI/menW9QNsZf5qRQO2CspaL0bkJzPdun6ArcxfrWjAVkFZ68WI/GSmW9cPsJX5qxUN2Cooa70YkZ/MdOv6AbYyf7WiAVsFZa0XI/KTmW5dP8BW5q9W9IKELTd2y/dly5YhP4FH0E/evrWAgf1mrsCChK31b27rPR/kl3nBcKR1/azXh0z9hRsN2Cp4Z70YkZ/MdOv6AbYyf7WiAVsFZa0XI/KTmW5dP8BW5q9WNGCroKz1YkR+MtOt6wfYyvzVigZsFZS1XozIT2a6df0AW5m/WtGArYKy1osR+clMt64fYCvzVysasFVQ1noxIj+Z6db1A2xl/mpFA7YKylovRuQnM926foCtzF+taMBWQVnrxYj8ZKZb1w+wlfmrFQ3YKihrvRiRn8x06/oBtjJ/taIBWwVlrRcj8pOZbl0/wFbmr1Y0YKugrPViRH4y063rB9jK/NWKjhy2ExMTVF1d7e78XONmvTFZL0bkJ2uV1vWzXh8y9Rdu9JKH7fj4OFVVVVFLS0tkLkZRjPxF1dTUREVFRZSVlUVlZWXU2dlJ09PT4jyjyM8nAf28EuEeNf0FbMN5MV9bL2nYTk1NUVtbG+Xl5ZmCLQO1sbGRcnJy6MCBA9Td3U01NTWUm5tL7e3t4rYRFWyhX2ZWaPsL2Gbmi3ZUHGxnZ2fp3//+N23bts0VenZ2Nq1bt44+/PBD16MaGhqijRs3Un5+vuttMQwqKyupp6eHOHZ0dJQqKircZ9wb83ceVohySCGKxsQ9WZ8fP1rq2Q4ODlJhYSEdO3bM6cqNgAu0rq6OysvLaWRkRNQuooAt9MvcAm1/o6iPzM8OkakUiIPtlStXHEgZmGfOnHF3No5fM0gZqnzJffz4cbp8+TJduHCBduzY4WKuX79Ok5OTdPXqVQdohvQ//vEPt11/fz/NzMykyiH0+1E0JoY/n1Nvb6+7VLcE246ODiooKKCBgYE4bbq6uoi/ANkHyS0K2EK/zB3Q9jeK+sj87BCZSoEAtmNjY7R+/XraunUrPX78ONiee1SnT58m/jzZ7cGDB663dejQIfcxF+FCmiDj3npxcbGpnm1DQwOVlpbS8PBwnOR9fX2RDHlEAVufGPTzSqT/qO0vYJu+F/O5ZQBb7i1xr+n8+fNzHv+7775zPdvNmzfTqlWrgktxbkB8A2xlf8mfh2Pq6+uDq4lYMzzYmpubY98O/Xwxw9a6fvORH2AbuiTmJSCALV9G80QR955S3fwwA4/ZvvHGG8S92b/97W9UUlJCgO2Pqklg5r+s/NDNj3sl8rD1Wsd+Fua5JL/E4/icrAzDWNdvPvIDbBNbqY3XacP20aNHtGHDBnrttdfom2++CbL3k2IeAL4xRT0pFhyQiKJsTNZgwWPbtbW16NnGGh7iuXX95iO/KOsjhPTY9AUKBLC9du2aGxJINYzgoZR4CQvYPq+wtOfIX1wYs31e13Tfsa6fdn6AbbotZX63C2DLy4l4WRGvLnjy5EmQBU+Qffzxx3T79m1as2YN7d27N1hYz+NPn332mZtgSuzZbt++nX744YdgP1E+ibIx+S8RK5fBrJP2bLX0yyDWS+gXq0Z6z7X9jbI+0jsjbJWOAgFseWNedcBrZ/3SL17atWXLFveaJ8Z++9vfukk0fo8X3fPj8uXLXYyHLe/nr3/9q9vuj3/8o1se9t5775lbZ+vFsQiLZOsweVnd7t27zayzhX5egfCP2v4CtuE9mY+IONhyTzXZjxr+/ve/u94s/zSTgctA5kmyffv20Z07dxyMY2HLPePf/e53bhvelhfjP336NLLziaIx8bIqXivMPVpe08orAPh1FGuCpT3HuX5h1NraGvzQIVNBpfnxcaFfpur/7wcqqX4hGIW/UdRH5meHyFQKxME21UbW3o+iMTFkY39B5p9HMbEXBcx4otHy30aAfrKq0PQ3ivqQnR2ikymwZGGbTIyo3osCtlHlkmw/yC+ZKum/Z10/wDZ9L+dzS8BWQW3rxYj8ZKZb1w+wlfmrFQ3YKihrvRiRn8x06/oBtjJ/taIBWwVlrRcj8pOZbl0/wFbmr1Y0YKugrPViRH4y063rB9jK/NWKBmwVlLVejMhPZrp1/QBbmb9a0YCtgrLWixH5yUy3rh9gK/NXKxqwVVDWejEiP5np1vUDbGX+akUDtgrKWi9G5Ccz3bp+gK3MX61owFZBWevFiPxkplvXD7CV+asVDdgqKGu9GJGfzHTr+gG2Mn+1ogFbBWWtFyPyk5luXT/AVuavVjRgq6Cs9WJEfjLTresH2Mr81YpekLDlxm75vmzZMuQn8Aj6ydu3FjCw38wVWJCwtf7Nbb3ng/wyLxiOtK6f9fqQqb9wowFbBe+sFyPyk5luXT/AVuavVjRgq6Cs9WJEfjLTresH2Mr81YoGbBWUtV6MyE9munX9AFuZv1rRgK2CstaLEfnJTLeuH2Ar81crGrBVUNZ6MSI/menW9QNsZf5qRQO2CspaL0bkJzPdun6ArcxfrWjAVkFZ68WI/GSmW9cPsJX5qxUN2Cooa70YkZ/MdOv6AbYyf7WiAVsFZa0XI/KTmW5dP8BW5q9WNGCroKz1YkR+MtOt6wfYyvzVigZsFZS1XozIT2a6df0AW5m/WtGArYKy1osR+clMt64fYCvzVyt6ycJ2YmKCmpqaqKioiLKysqisrIw6OztpenparHWUxTg+Pk5VVVXU0tIizsvvIIr8oJ9XM7NHTf0A28w80Y6KHLZDQ0NUXFwcKRwSRZA2JgZqY2Mj5eTk0IEDB6i7u5tqamooNzeX2tvbEw8X+nUUMOODTk1NUVtbG+Xl5UWqpzQ/6PdK6DYRG6Ctn7Q+YnPF8+gUWJKwHRwcpMLCQjp27BjNzs46NbkA6urqqLy8nEZGRkQKS2HGB+eeLPe4/d1Szxb6yWCrrR9gKypfteAlCduOjg4qKCiggYGBOGG7urooOzubenp64t4P+yIK2PJl5ujoKPX29rqhDkuwhX4y2GrrB9iGrdj52T4Otg8ePKB9+/ZRfn6+61H99Kc/pd27d9Pw8LDL5tSpU25sk4HEPa4VK1bQ3r176f79++7za9euBT0x3yPjxyhBwQeSNqaGhgYqLS0NzstL3dfXF8klexSw9TlpDMtI84N+Mthq6yetD9/28BitAgFsGbTr16+nlStX0okTJ+jy5cvU2trqJmd8T+/gwYO0Z88eOnv2rPv85MmTtGbNGqqsrKSxsTF6+PChAyv3Guvr6902vB8P66hSlzQmHjbg3CoqKlzPMTYnD7bm5ubYt0M/l8Is9oA+pyi/sCT5QT/Zf2qYD/0k9RHb9vA8WgUC2DJQucd69erVUEfg7XkCh3uFfNOAQ2JCksbEl+fV1dVzwpZ7HpKbBGaJx9XQU5If9JPBdj70k9RHYvvD6+gUeA62hw8fpsnJyaRHePbsGd26dYsYRmvXrnXDCH64gIcQ+KYBh8RkJI1pZmaGamtr54QteraJiv/4GvrJYDsf+knq40en8SxqBQLYPnnyhHbt2uXGXHnMduPGjXT8+HH67rvv3DH9chWGa0lJiRvb5c+PHDniYhYKbPlktMfMJD3HRIM1vryk+UE/jNkmtlO8frECAWx5U+7R8hgr9/xWrVoVTILxEIGfPNq/f39cz9dPii0k2GrPBkthFmubRdhCPxlstfVDzza2guw8j4NtbFo8kH/9+nW3HpUByxM0/Guru3fvxm5GCxG2ydY58hcNr7ywss7Wi2wRttBPBltt/QBbXz22HgPY8ppTXtPJkPU3XqHA8GHY8hpUHkK4ePGi/9j1cI8ePZp0GEE67hkcJMkTaWPyQyLJfkHGKzBiNUhy+Be+FUXPlldw8FUGf8nFru7o7+8nHveT3KT5QT8ZbLX1k9aHpG0hNrUCAWy5h8qrEbZu3UoXLlxw9y1btrg1t9zD5V9VMXh5PJd/2srjdqtXr3YgYAj7YYTHjx/Tpk2b3E92+aevvIzs/PnzqTPI4JMoGhPPClv+2wgMWT/5GPvIKyk4d8lNCls+NvSTOKCrXxT1ITs7RCdTIIAtT5Bxr47/IAsXN/f6tm3bRjdv3gzieAiB1+Ly5zxJxr/bv3TpUlzPlje+d++eW3vL8OYfPpw7dy7YRxRPrDemKGAWhU6p9oH8UimT3vvW9bNeH+mpvPi2CmC7kE7NemOyXozIT9baretnvT5k6i/caMBWwTvrxYj8ZKZb1w+wlfmrFQ3YKihrvRiRn8x06/oBtjJ/taIBWwVlrRcj8pOZbl0/wFbmr1Y0YKugrPViRH4y063rB9jK/NWKBmwVlLVejMhPZrp1/QBbmb9a0YCtgrLWixH5yUy3rh9gK/NXKxqwVVDWejEiP5np1vUDbGX+akUDtgrKWi9G5Ccz3bp+gK3MX61owFZBWevFiPxkplvXD7CV+asVDdgqKGu9GJGfzHTr+gG2Mn+1ogFbBWWtFyPyk5luXT/AVuavVvSChC03dsv3ZcuWIT+BR9BP3r61gIH9Zq7AgoSt9W9u6z0f5Jd5wXCkdf2s14dM/YUbDdgqeGe9GJGfzHTr+gG2Mn+1ogFbBWWtFyPyk5luXT/AVuavVjRgq6Cs9WJEfjLTresH2Mr81YoGbBWUtV6MyE9munX9AFuZv1rRgK2CstaLEfnJTLeuH2Ar81crGrBVUNZ6MSI/menW9QNsZf5qRQO2CspaL0bkJzPdun6ArcxfrWjAVkFZ68WI/GSmW9cPsJX5qxUN2Cooa70YkZ/MdOv6AbYyf7WiAVsFZa0XI/KTmW5dP8BW5q9WNGCroKz1YkR+MtOt6wfYyvzVigZsFZS1XozIT2a6df0AW5m/WtFLHrbj4+NUVVVFLS0tkWkcRTFOTExQU1MTFRUVUVZWFpWVlVFnZydNT0+L84wiP58E9PNKhHvU9BewDefFfG29pGE7NTVFbW1tlJeXZwq2DNTGxkbKycmhAwcOUHd3N9XU1FBubi61t7eL20ZUsIV+mVmh7S9gm5kv2lFLFrbck+Ueo79b6tkODg5SYWEhHTt2jGZnZ10b4AKtq6uj8vJyGhkZEbWLKGAL/TK3QNtfwDZzbzQjlyxs+TJudHSUent73aW6Jdh2dHRQQUEBDQwMxHnf1dVF2dnZ1NPTE/d+2BdRwBb6hVX9x+21/QVsf9Ta0rMlC1tvwtDQEBUXF5saRmhoaKDS0lIaHh72abrHvr6+SIY8ooCtTwz6eSXSf9T2F7BN34v53BKwNQZbHjaor6+niooK1/OObQwebM3NzbFvh36+mGFrXb/5yA+wDV0S8xIQB1tuCHyJum7dOne5yhM0O3bsoK+++ipIhi+9GQS///3v6caNG1RZWem2LSkpoQ8//DAYYwwCFJ5E2Zg8wKwMI/DleXV19Zyw5Z6R5LaYYWtdv/nIL8r6kLQzxMYrEAfb06dPuxnwLVu20IULF+jMmTOu6Bmkd+7ccZEetj/5yU+I7wwGLv6VK1dSfn4+Xb9+Pf4ICq+ibEzWYDszM0O1tbVzwhY929SNyrp+85FflPWRWml8ElaBALY8w80z3W+//TZNTk4G+7l//z6tXbuWdu/e7d73sOX3vvjii2C7L7/8khjK+/fvD97TehJlY7IGW9ZMe0xvMfdsF4J+2v5GWR9aNbwU9xvA9urVq24ZFD8m3g4dOhRM2HjYJl7Kjo2NOSgnvp+4ryheR9mYLMJWe7Z6scPWun7a+UVZH1HUK/bxPwUC2PKYJf9a6e7du89pw5/xwn+eDU8FWz8WBdjK/9V1snWYfLXBVxdW1tn6RmLxy8q6ftr5Aba+ddp6XLKw5WVVly9fdku+eE0rrwDg1/39/cTjapKbtOc41y+MWltbxZOQ0vxYG+iXeQvR9hewzdwbzcgAtn4YgRfOJ954GOHVV1+lzz//fNH0bLm37n89FvvIE37cS5fcooAZ52D5byNAP0kLIdfGtPwFbGXeaEUHsPUTZLt27aInT54Ex0s1QZY4XLBQhxGCE43wSRSwjTCd53aF/J6TJNQb1vUDbEPZOW8bB7DlI/IfOeGfg6az9AuwTe2R9WJEfqm9S+cT6/oBtum4OP/bxMGWf9Rw5cqVtH7UANimNst6MSK/1N6l84l1/QDbdFyc/23iYDv/h8/siNYbk/ViRH6ZtTsfZV0/6/XhdVxqj4Ctgp1q+WAAAAb1SURBVOPWixH5yUy3rh9gK/NXKxqwVVDWejEiP5np1vUDbGX+akUDtgrKWi9G5Ccz3bp+gK3MX61owFZBWevFiPxkplvXD7CV+asVDdgqKGu9GJGfzHTr+gG2Mn+1ogFbBWWtFyPyk5luXT/AVuavVjRgq6Cs9WJEfjLTresH2Mr81YoGbBWUtV6MyE9munX9AFuZv1rRgK2CstaLEfnJTLeuH2Ar81crekHClhu75fuyZcuQn8Aj6Cdv31rAwH4zV2BBwtb6N7f1ng/yy7xgONK6ftbrQ6b+wo0GbBW8s16MyE9munX9AFuZv1rRgK2CstaLEfnJTLeuH2Ar81crGrBVUNZ6MSI/menW9QNsZf5qRQO2CspaL0bkJzPdun6ArcxfrWjAVkFZ68WI/GSmW9cPsJX5qxUN2Cooa70YkZ/MdOv6AbYyf7WiAVsFZa0XI/KTmW5dP8BW5q9WNGCroKz1YkR+MtOt6wfYyvzVigZsFZS1XozIT2a6df0AW5m/WtGArYKy1osR+clMt64fYCvzVysasFVQ1noxIj+Z6db1A2xl/mpFA7YKylovRuQnM926foCtzF+t6CUP2/HxcaqqqqKWlpbINI6iGCcmJqipqYmKioooKyuLysrKqLOzk6anp8V5Ij+ZhNb1A2xl/mpFL2nYTk1NUVtbG+Xl5ZmCLQO1sbGRcnJy6MCBA9Td3U01NTWUm5tL7e3t4rYghQXye0XkgbZ+gK3IHrXgJQtb7slyj9HfLfVsBwcHqbCwkI4dO0azs7POfC7Quro6Ki8vp5GREVGDkMIW+clgq60fYCsqD7XgJQtbvkwfHR2l3t5ed6luCbYdHR1UUFBAAwMDccZ3dXVRdnY29fT0xL0f9oUUtshPBltt/QDbsBUxP9svWdh6eYeGhqi4uNjUMEJDQwOVlpbS8PCwT9M99vX1RTLkIYUt8pPBVls/wDaubMy8mFfYRgW2KBtTVDnFOiqBGQ8b1NfXU0VFhet5x+7X59rc3Bz7dujnyG9x6xdlfYRuXAhIqQBga6xny8Mb1dXVc8KWe0aSmwS2yE/2b3HmQz/AVlIderGArTHYzszMUG1t7ZywfZk9W+Qng+186AfY6gFTsucAtv4bl3tVN27coMrKSjcZs379eurv76fJyUm3TIrXffKSJL7UffLkSXDsU6dOubWgPIHDM/wrVqygvXv30v379902165dC2b+/QoAfsxkYirKxuQvzTPJIzj5hCeSniPvSntMD/nJ1lRb1y/K+kho2ngpUOA52PKa0+XLl7tLWV5qxNBcvXo17dy5k1auXOlAsH37dgfiw4cPB0uTDh48SHv27KGzZ8/S5cuX6eTJk7RmzRoH7bGxMXr48KEDK8+yM6h5G74nTgKlcy5RNiaLsNWerZbCAvnJJsi09YuyPtKpR2yTngLPwfbnP/853blzJ4i+ePGi65HG9mS5R/v666/Thg0b6NGjR8G2iU+uXr3qZs95Fp1vUYEtysYUVU6x5y6FWbJ1mHxlsXv3brPrbJFfbAuY+7m2v1HWx9xngk/DKPAcbHkYgYcU/I3XdPLQwPnz5/1b7pEvdWNnzJ89e0a3bt1yPd+1a9e6HrEfLuAhBL5FBbYoGhP3qLlnzcMHsb1tHjLhcTXJTQrbuX5h1NraGlxNZJoj8vvfD0UWq35R1Eem2iAutQIvhG0qQMbC1sOB4VpSUkL79u2j48eP05EjR1yv2CJsGbL+yyD2MfHLJrV0qT+Rwoz3zF94+NsIqTV+0SdLWT/A9kWt4+V8Hgls/WL7/fv3u4k0fyp+UswibH2OGo9RwFYjL79P5OeVyOzRun6AbWa+akdFAlvuJfIqhbt378blC9jGyWHmhXVYID9ZUwFsZfppRUcCW/7NPl+K82Sav/GEydGjR5MOI0jXiVpvTICFbwWZPUK/zHTzUdbrw+e51B4jgS3/FSr+a1T5+fnuTwHyeC4vF+OJJ4awH0Z4/Pgxbdq0yf0tAv5TgSdOnHhu4i0dA6w3JsAiHRdTbwP9UmuTzifW6yOdc1iM20QCWxaGhxD4BxAMV54k478Te+nSpTjY8nb37t0LfjDBa3jPnTsXWlfrjQmwCG1pXAD0i5Mj9Avr9RH6hBZJQADbhXQ+1hsTYCFrTdBPpp/1+pCd3cKNBmwVvAMsZKJCP5l+gK1MP61owFZBWcBCJir0k+kH2Mr004oGbBWUBSxkokI/mX6ArUw/rWjAVkFZwEImKvST6QfYyvTTigZsFZQFLGSiQj+ZfoCtTD+taMBWQVnAQiYq9JPpB9jK9NOKBmwVlAUsZKJCP5l+gK1MP63oBQtbblBW7wwLq7lxXshP1nas68ce42ZPgQUJW3syIiMoAAWgwNwK/D+x7YegVPajOgAAAABJRU5ErkJggg==)"
   ]
  },
  {
   "cell_type": "code",
   "execution_count": 66,
   "id": "84e19322",
   "metadata": {
    "execution": {
     "iopub.execute_input": "2022-05-31T14:28:37.215416Z",
     "iopub.status.busy": "2022-05-31T14:28:37.214965Z",
     "iopub.status.idle": "2022-05-31T14:28:46.728322Z",
     "shell.execute_reply": "2022-05-31T14:28:46.727390Z"
    },
    "papermill": {
     "duration": 9.54776,
     "end_time": "2022-05-31T14:28:46.730525",
     "exception": false,
     "start_time": "2022-05-31T14:28:37.182765",
     "status": "completed"
    },
    "tags": []
   },
   "outputs": [],
   "source": [
    "embedding_dict={}\n",
    "with open('../input/glove-global-vectors-for-word-representation/glove.6B.100d.txt','r') as f:\n",
    "    for line in f:\n",
    "        values=line.split()\n",
    "        word=values[0]\n",
    "        vectors=np.asarray(values[1:],'float32')\n",
    "        embedding_dict[word]=vectors\n",
    "f.close()"
   ]
  },
  {
   "cell_type": "code",
   "execution_count": 67,
   "id": "7b27efd2",
   "metadata": {
    "execution": {
     "iopub.execute_input": "2022-05-31T14:28:46.796203Z",
     "iopub.status.busy": "2022-05-31T14:28:46.795547Z",
     "iopub.status.idle": "2022-05-31T14:28:46.804305Z",
     "shell.execute_reply": "2022-05-31T14:28:46.803597Z"
    },
    "papermill": {
     "duration": 0.043503,
     "end_time": "2022-05-31T14:28:46.806371",
     "exception": false,
     "start_time": "2022-05-31T14:28:46.762868",
     "status": "completed"
    },
    "tags": []
   },
   "outputs": [],
   "source": [
    "from keras.preprocessing.text import Tokenizer\n",
    "MAX_LEN=50\n",
    "tokenizer_obj=Tokenizer()\n",
    "tokenizer_obj.fit_on_texts(tokens)\n",
    "sequences=tokenizer_obj.texts_to_sequences(tokens)"
   ]
  },
  {
   "cell_type": "code",
   "execution_count": 68,
   "id": "180040a6",
   "metadata": {
    "execution": {
     "iopub.execute_input": "2022-05-31T14:28:46.868478Z",
     "iopub.status.busy": "2022-05-31T14:28:46.867829Z",
     "iopub.status.idle": "2022-05-31T14:28:46.872298Z",
     "shell.execute_reply": "2022-05-31T14:28:46.871436Z"
    },
    "papermill": {
     "duration": 0.038411,
     "end_time": "2022-05-31T14:28:46.875000",
     "exception": false,
     "start_time": "2022-05-31T14:28:46.836589",
     "status": "completed"
    },
    "tags": []
   },
   "outputs": [
    {
     "name": "stdout",
     "output_type": "stream",
     "text": [
      "Number of unique words: 507\n"
     ]
    }
   ],
   "source": [
    "word_index=tokenizer_obj.word_index\n",
    "print('Number of unique words:',len(word_index))"
   ]
  },
  {
   "cell_type": "code",
   "execution_count": 69,
   "id": "9b20f94c",
   "metadata": {
    "execution": {
     "iopub.execute_input": "2022-05-31T14:28:46.941282Z",
     "iopub.status.busy": "2022-05-31T14:28:46.940910Z",
     "iopub.status.idle": "2022-05-31T14:28:46.951193Z",
     "shell.execute_reply": "2022-05-31T14:28:46.950299Z"
    },
    "papermill": {
     "duration": 0.045363,
     "end_time": "2022-05-31T14:28:46.953343",
     "exception": false,
     "start_time": "2022-05-31T14:28:46.907980",
     "status": "completed"
    },
    "tags": []
   },
   "outputs": [
    {
     "name": "stderr",
     "output_type": "stream",
     "text": [
      "100%|██████████| 507/507 [00:00<00:00, 331077.71it/s]\n"
     ]
    }
   ],
   "source": [
    "num_words=len(word_index)+1\n",
    "embedding_matrix=np.zeros((num_words,100))\n",
    "\n",
    "for word,i in tqdm(word_index.items()):\n",
    "    if i > num_words:\n",
    "        continue\n",
    "    \n",
    "    emb_vec=embedding_dict.get(word)\n",
    "    if emb_vec is not None:\n",
    "        embedding_matrix[i]=emb_vec"
   ]
  },
  {
   "cell_type": "code",
   "execution_count": 70,
   "id": "269d393a",
   "metadata": {
    "execution": {
     "iopub.execute_input": "2022-05-31T14:28:47.017919Z",
     "iopub.status.busy": "2022-05-31T14:28:47.017534Z",
     "iopub.status.idle": "2022-05-31T14:28:47.023091Z",
     "shell.execute_reply": "2022-05-31T14:28:47.022181Z"
    },
    "papermill": {
     "duration": 0.040221,
     "end_time": "2022-05-31T14:28:47.025005",
     "exception": false,
     "start_time": "2022-05-31T14:28:46.984784",
     "status": "completed"
    },
    "tags": []
   },
   "outputs": [
    {
     "data": {
      "text/plain": [
       "(508, 100)"
      ]
     },
     "execution_count": 70,
     "metadata": {},
     "output_type": "execute_result"
    }
   ],
   "source": [
    "embedding_matrix.shape"
   ]
  },
  {
   "cell_type": "markdown",
   "id": "3b09a50e",
   "metadata": {
    "papermill": {
     "duration": 0.031172,
     "end_time": "2022-05-31T14:28:47.087790",
     "exception": false,
     "start_time": "2022-05-31T14:28:47.056618",
     "status": "completed"
    },
    "tags": []
   },
   "source": [
    "****"
   ]
  },
  {
   "cell_type": "markdown",
   "id": "7f79da6b",
   "metadata": {
    "papermill": {
     "duration": 0.031579,
     "end_time": "2022-05-31T14:28:47.151416",
     "exception": false,
     "start_time": "2022-05-31T14:28:47.119837",
     "status": "completed"
    },
    "tags": []
   },
   "source": [
    "****"
   ]
  },
  {
   "cell_type": "markdown",
   "id": "9565d13d",
   "metadata": {
    "papermill": {
     "duration": 0.031408,
     "end_time": "2022-05-31T14:28:47.214495",
     "exception": false,
     "start_time": "2022-05-31T14:28:47.183087",
     "status": "completed"
    },
    "tags": []
   },
   "source": [
    "****"
   ]
  },
  {
   "cell_type": "markdown",
   "id": "0139c762",
   "metadata": {
    "papermill": {
     "duration": 0.034147,
     "end_time": "2022-05-31T14:28:47.280204",
     "exception": false,
     "start_time": "2022-05-31T14:28:47.246057",
     "status": "completed"
    },
    "tags": []
   },
   "source": [
    "****"
   ]
  },
  {
   "cell_type": "code",
   "execution_count": 71,
   "id": "ea879d67",
   "metadata": {
    "execution": {
     "iopub.execute_input": "2022-05-31T14:28:47.346409Z",
     "iopub.status.busy": "2022-05-31T14:28:47.345988Z",
     "iopub.status.idle": "2022-05-31T14:28:47.799698Z",
     "shell.execute_reply": "2022-05-31T14:28:47.798559Z"
    },
    "papermill": {
     "duration": 0.489561,
     "end_time": "2022-05-31T14:28:47.802076",
     "exception": false,
     "start_time": "2022-05-31T14:28:47.312515",
     "status": "completed"
    },
    "tags": []
   },
   "outputs": [
    {
     "name": "stderr",
     "output_type": "stream",
     "text": [
      "2022-05-31 14:28:47.387073: I tensorflow/core/common_runtime/process_util.cc:146] Creating new thread pool with default inter op setting: 2. Tune using inter_op_parallelism_threads for best performance.\n"
     ]
    }
   ],
   "source": [
    "model = Sequential()\n",
    "#Non-trainable embeddidng layer\n",
    "model.add(Embedding(num_words, output_dim=100, weights=[embedding_matrix], input_length=100, trainable=False))\n",
    "#LSTM \n",
    "model.add(LSTM(units=128 , return_sequences = True , recurrent_dropout = 0.25 , dropout = 0.25))\n",
    "model.add(LSTM(units=64 , recurrent_dropout = 0.1 , dropout = 0.1))\n",
    "model.add(Dense(units = 32 , activation = 'relu'))\n",
    "model.add(Dense(1, activation='sigmoid'))\n",
    "model.compile(optimizer=keras.optimizers.Adam(lr = 0.01), loss='binary_crossentropy', metrics=['accuracy'])"
   ]
  },
  {
   "cell_type": "code",
   "execution_count": 72,
   "id": "88118c28",
   "metadata": {
    "execution": {
     "iopub.execute_input": "2022-05-31T14:28:47.867271Z",
     "iopub.status.busy": "2022-05-31T14:28:47.866841Z",
     "iopub.status.idle": "2022-05-31T14:28:47.872934Z",
     "shell.execute_reply": "2022-05-31T14:28:47.872188Z"
    },
    "papermill": {
     "duration": 0.041067,
     "end_time": "2022-05-31T14:28:47.875549",
     "exception": false,
     "start_time": "2022-05-31T14:28:47.834482",
     "status": "completed"
    },
    "tags": []
   },
   "outputs": [
    {
     "name": "stdout",
     "output_type": "stream",
     "text": [
      "Model: \"sequential\"\n",
      "_________________________________________________________________\n",
      "Layer (type)                 Output Shape              Param #   \n",
      "=================================================================\n",
      "embedding (Embedding)        (None, 100, 100)          50800     \n",
      "_________________________________________________________________\n",
      "lstm (LSTM)                  (None, 100, 128)          117248    \n",
      "_________________________________________________________________\n",
      "lstm_1 (LSTM)                (None, 64)                49408     \n",
      "_________________________________________________________________\n",
      "dense (Dense)                (None, 32)                2080      \n",
      "_________________________________________________________________\n",
      "dense_1 (Dense)              (None, 1)                 33        \n",
      "=================================================================\n",
      "Total params: 219,569\n",
      "Trainable params: 168,769\n",
      "Non-trainable params: 50,800\n",
      "_________________________________________________________________\n"
     ]
    }
   ],
   "source": [
    "model.summary()"
   ]
  },
  {
   "cell_type": "code",
   "execution_count": 73,
   "id": "2f9233b1",
   "metadata": {
    "execution": {
     "iopub.execute_input": "2022-05-31T14:28:47.945830Z",
     "iopub.status.busy": "2022-05-31T14:28:47.944831Z",
     "iopub.status.idle": "2022-05-31T14:28:47.949686Z",
     "shell.execute_reply": "2022-05-31T14:28:47.948768Z"
    },
    "papermill": {
     "duration": 0.04114,
     "end_time": "2022-05-31T14:28:47.951747",
     "exception": false,
     "start_time": "2022-05-31T14:28:47.910607",
     "status": "completed"
    },
    "tags": []
   },
   "outputs": [],
   "source": [
    "from keras.callbacks import ReduceLROnPlateau\n",
    "learning_rate_reduction = ReduceLROnPlateau(monitor='val_accuracy', patience = 2, verbose=1,factor=0.5, min_lr=0.00001)"
   ]
  },
  {
   "cell_type": "code",
   "execution_count": 74,
   "id": "703e8866",
   "metadata": {
    "execution": {
     "iopub.execute_input": "2022-05-31T14:28:48.017143Z",
     "iopub.status.busy": "2022-05-31T14:28:48.016090Z",
     "iopub.status.idle": "2022-05-31T14:28:48.032187Z",
     "shell.execute_reply": "2022-05-31T14:28:48.031122Z"
    },
    "papermill": {
     "duration": 0.049959,
     "end_time": "2022-05-31T14:28:48.034039",
     "exception": false,
     "start_time": "2022-05-31T14:28:47.984080",
     "status": "completed"
    },
    "tags": []
   },
   "outputs": [
    {
     "data": {
      "text/html": [
       "<div>\n",
       "<style scoped>\n",
       "    .dataframe tbody tr th:only-of-type {\n",
       "        vertical-align: middle;\n",
       "    }\n",
       "\n",
       "    .dataframe tbody tr th {\n",
       "        vertical-align: top;\n",
       "    }\n",
       "\n",
       "    .dataframe thead th {\n",
       "        text-align: right;\n",
       "    }\n",
       "</style>\n",
       "<table border=\"1\" class=\"dataframe\">\n",
       "  <thead>\n",
       "    <tr style=\"text-align: right;\">\n",
       "      <th></th>\n",
       "      <th>entities</th>\n",
       "      <th>lemmatization</th>\n",
       "      <th>start_char</th>\n",
       "      <th>end_char</th>\n",
       "      <th>label</th>\n",
       "      <th>explain</th>\n",
       "      <th>frequency</th>\n",
       "    </tr>\n",
       "  </thead>\n",
       "  <tbody>\n",
       "    <tr>\n",
       "      <th>0</th>\n",
       "      <td>Anne H. Elliott</td>\n",
       "      <td>Anne H. Elliott</td>\n",
       "      <td>14</td>\n",
       "      <td>29</td>\n",
       "      <td>PERSON</td>\n",
       "      <td>People, including fictional</td>\n",
       "      <td>1</td>\n",
       "    </tr>\n",
       "    <tr>\n",
       "      <th>1</th>\n",
       "      <td>Amnesty</td>\n",
       "      <td>Amnesty</td>\n",
       "      <td>76</td>\n",
       "      <td>83</td>\n",
       "      <td>ORG</td>\n",
       "      <td>Companies, agencies, institutions, etc.</td>\n",
       "      <td>2</td>\n",
       "    </tr>\n",
       "    <tr>\n",
       "      <th>2</th>\n",
       "      <td>Andrew Johnson</td>\n",
       "      <td>Andrew Johnson</td>\n",
       "      <td>107</td>\n",
       "      <td>121</td>\n",
       "      <td>PERSON</td>\n",
       "      <td>People, including fictional</td>\n",
       "      <td>2</td>\n",
       "    </tr>\n",
       "    <tr>\n",
       "      <th>3</th>\n",
       "      <td>the United States of America</td>\n",
       "      <td>the United States of America</td>\n",
       "      <td>135</td>\n",
       "      <td>163</td>\n",
       "      <td>GPE</td>\n",
       "      <td>Countries, cities, states</td>\n",
       "      <td>7</td>\n",
       "    </tr>\n",
       "    <tr>\n",
       "      <th>4</th>\n",
       "      <td>May 29th 1865</td>\n",
       "      <td>May 29th 1865</td>\n",
       "      <td>167</td>\n",
       "      <td>180</td>\n",
       "      <td>DATE</td>\n",
       "      <td>Absolute or relative dates or periods</td>\n",
       "      <td>1</td>\n",
       "    </tr>\n",
       "    <tr>\n",
       "      <th>...</th>\n",
       "      <td>...</td>\n",
       "      <td>...</td>\n",
       "      <td>...</td>\n",
       "      <td>...</td>\n",
       "      <td>...</td>\n",
       "      <td>...</td>\n",
       "      <td>...</td>\n",
       "    </tr>\n",
       "    <tr>\n",
       "      <th>389</th>\n",
       "      <td>Warren Co Miss</td>\n",
       "      <td>Warren Co Miss</td>\n",
       "      <td>985</td>\n",
       "      <td>999</td>\n",
       "      <td>PERSON</td>\n",
       "      <td>People, including fictional</td>\n",
       "      <td>1</td>\n",
       "    </tr>\n",
       "    <tr>\n",
       "      <th>390</th>\n",
       "      <td>1865</td>\n",
       "      <td>1865</td>\n",
       "      <td>1033</td>\n",
       "      <td>1037</td>\n",
       "      <td>DATE</td>\n",
       "      <td>Absolute or relative dates or periods</td>\n",
       "      <td>14</td>\n",
       "    </tr>\n",
       "    <tr>\n",
       "      <th>391</th>\n",
       "      <td>Frank E. Miller</td>\n",
       "      <td>Frank E. Miller</td>\n",
       "      <td>1042</td>\n",
       "      <td>1057</td>\n",
       "      <td>PERSON</td>\n",
       "      <td>People, including fictional</td>\n",
       "      <td>2</td>\n",
       "    </tr>\n",
       "    <tr>\n",
       "      <th>392</th>\n",
       "      <td>66th</td>\n",
       "      <td>66th</td>\n",
       "      <td>1065</td>\n",
       "      <td>1069</td>\n",
       "      <td>ORDINAL</td>\n",
       "      <td>\"first\", \"second\", etc.</td>\n",
       "      <td>3</td>\n",
       "    </tr>\n",
       "    <tr>\n",
       "      <th>393</th>\n",
       "      <td>U.S.C.I. Commanding</td>\n",
       "      <td>U.S.C.I. Commanding</td>\n",
       "      <td>1070</td>\n",
       "      <td>1089</td>\n",
       "      <td>ORG</td>\n",
       "      <td>Companies, agencies, institutions, etc.</td>\n",
       "      <td>1</td>\n",
       "    </tr>\n",
       "  </tbody>\n",
       "</table>\n",
       "<p>394 rows × 7 columns</p>\n",
       "</div>"
      ],
      "text/plain": [
       "                         entities                 lemmatization  start_char  \\\n",
       "0                 Anne H. Elliott               Anne H. Elliott          14   \n",
       "1                         Amnesty                       Amnesty          76   \n",
       "2                  Andrew Johnson                Andrew Johnson         107   \n",
       "3    the United States of America  the United States of America         135   \n",
       "4                   May 29th 1865                 May 29th 1865         167   \n",
       "..                            ...                           ...         ...   \n",
       "389                Warren Co Miss                Warren Co Miss         985   \n",
       "390                          1865                          1865        1033   \n",
       "391               Frank E. Miller               Frank E. Miller        1042   \n",
       "392                          66th                          66th        1065   \n",
       "393           U.S.C.I. Commanding           U.S.C.I. Commanding        1070   \n",
       "\n",
       "     end_char    label                                  explain frequency  \n",
       "0          29   PERSON              People, including fictional         1  \n",
       "1          83      ORG  Companies, agencies, institutions, etc.         2  \n",
       "2         121   PERSON              People, including fictional         2  \n",
       "3         163      GPE                Countries, cities, states         7  \n",
       "4         180     DATE    Absolute or relative dates or periods         1  \n",
       "..        ...      ...                                      ...       ...  \n",
       "389       999   PERSON              People, including fictional         1  \n",
       "390      1037     DATE    Absolute or relative dates or periods        14  \n",
       "391      1057   PERSON              People, including fictional         2  \n",
       "392      1069  ORDINAL                  \"first\", \"second\", etc.         3  \n",
       "393      1089      ORG  Companies, agencies, institutions, etc.         1  \n",
       "\n",
       "[394 rows x 7 columns]"
      ]
     },
     "execution_count": 74,
     "metadata": {},
     "output_type": "execute_result"
    }
   ],
   "source": [
    "df1"
   ]
  },
  {
   "cell_type": "code",
   "execution_count": 75,
   "id": "cba9e1a7",
   "metadata": {
    "execution": {
     "iopub.execute_input": "2022-05-31T14:28:48.098486Z",
     "iopub.status.busy": "2022-05-31T14:28:48.097609Z",
     "iopub.status.idle": "2022-05-31T14:28:48.101577Z",
     "shell.execute_reply": "2022-05-31T14:28:48.100948Z"
    },
    "papermill": {
     "duration": 0.037743,
     "end_time": "2022-05-31T14:28:48.103281",
     "exception": false,
     "start_time": "2022-05-31T14:28:48.065538",
     "status": "completed"
    },
    "tags": []
   },
   "outputs": [],
   "source": [
    "from keras.preprocessing import text, sequence\n",
    "tokenizer = text.Tokenizer()"
   ]
  },
  {
   "cell_type": "code",
   "execution_count": null,
   "id": "b56f4d13",
   "metadata": {
    "papermill": {
     "duration": 0.030951,
     "end_time": "2022-05-31T14:28:48.165495",
     "exception": false,
     "start_time": "2022-05-31T14:28:48.134544",
     "status": "completed"
    },
    "tags": []
   },
   "outputs": [],
   "source": []
  },
  {
   "cell_type": "code",
   "execution_count": 76,
   "id": "fc09d65c",
   "metadata": {
    "execution": {
     "iopub.execute_input": "2022-05-31T14:28:48.232879Z",
     "iopub.status.busy": "2022-05-31T14:28:48.232212Z",
     "iopub.status.idle": "2022-05-31T14:29:11.405003Z",
     "shell.execute_reply": "2022-05-31T14:29:11.403262Z"
    },
    "papermill": {
     "duration": 23.210598,
     "end_time": "2022-05-31T14:29:11.408309",
     "exception": false,
     "start_time": "2022-05-31T14:28:48.197711",
     "status": "completed"
    },
    "tags": []
   },
   "outputs": [
    {
     "name": "stdout",
     "output_type": "stream",
     "text": [
      "Collecting simpletransformers\r\n",
      "  Downloading simpletransformers-0.63.7-py3-none-any.whl (249 kB)\r\n",
      "\u001b[2K     \u001b[90m━━━━━━━━━━━━━━━━━━━━━━━━━━━━━━━━━━━━━━━\u001b[0m \u001b[32m249.8/249.8 kB\u001b[0m \u001b[31m4.6 MB/s\u001b[0m eta \u001b[36m0:00:00\u001b[0m\r\n",
      "\u001b[?25hCollecting streamlit\r\n",
      "  Downloading streamlit-1.9.2-py2.py3-none-any.whl (10.1 MB)\r\n",
      "\u001b[2K     \u001b[90m━━━━━━━━━━━━━━━━━━━━━━━━━━━━━━━━━━━━━━━━\u001b[0m \u001b[32m10.1/10.1 MB\u001b[0m \u001b[31m24.6 MB/s\u001b[0m eta \u001b[36m0:00:00\u001b[0m\r\n",
      "\u001b[?25hRequirement already satisfied: scikit-learn in /opt/conda/lib/python3.7/site-packages (from simpletransformers) (1.0.2)\r\n",
      "Collecting seqeval\r\n",
      "  Downloading seqeval-1.2.2.tar.gz (43 kB)\r\n",
      "\u001b[2K     \u001b[90m━━━━━━━━━━━━━━━━━━━━━━━━━━━━━━━━━━━━━━━━\u001b[0m \u001b[32m43.6/43.6 kB\u001b[0m \u001b[31m2.5 MB/s\u001b[0m eta \u001b[36m0:00:00\u001b[0m\r\n",
      "\u001b[?25h  Preparing metadata (setup.py) ... \u001b[?25l-\b \bdone\r\n",
      "\u001b[?25hRequirement already satisfied: regex in /opt/conda/lib/python3.7/site-packages (from simpletransformers) (2021.11.10)\r\n",
      "Requirement already satisfied: requests in /opt/conda/lib/python3.7/site-packages (from simpletransformers) (2.27.1)\r\n",
      "Requirement already satisfied: numpy in /opt/conda/lib/python3.7/site-packages (from simpletransformers) (1.21.6)\r\n",
      "Requirement already satisfied: tokenizers in /opt/conda/lib/python3.7/site-packages (from simpletransformers) (0.12.1)\r\n",
      "Requirement already satisfied: transformers>=4.6.0 in /opt/conda/lib/python3.7/site-packages (from simpletransformers) (4.18.0)\r\n",
      "Requirement already satisfied: pandas in /opt/conda/lib/python3.7/site-packages (from simpletransformers) (1.3.5)\r\n",
      "Requirement already satisfied: wandb>=0.10.32 in /opt/conda/lib/python3.7/site-packages (from simpletransformers) (0.12.16)\r\n",
      "Requirement already satisfied: scipy in /opt/conda/lib/python3.7/site-packages (from simpletransformers) (1.7.3)\r\n",
      "Requirement already satisfied: tensorboard in /opt/conda/lib/python3.7/site-packages (from simpletransformers) (2.6.0)\r\n",
      "Requirement already satisfied: sentencepiece in /opt/conda/lib/python3.7/site-packages (from simpletransformers) (0.1.96)\r\n",
      "Requirement already satisfied: datasets in /opt/conda/lib/python3.7/site-packages (from simpletransformers) (2.1.0)\r\n",
      "Requirement already satisfied: tqdm>=4.47.0 in /opt/conda/lib/python3.7/site-packages (from simpletransformers) (4.64.0)\r\n",
      "Requirement already satisfied: huggingface-hub<1.0,>=0.1.0 in /opt/conda/lib/python3.7/site-packages (from transformers>=4.6.0->simpletransformers) (0.5.1)\r\n",
      "Requirement already satisfied: packaging>=20.0 in /opt/conda/lib/python3.7/site-packages (from transformers>=4.6.0->simpletransformers) (21.3)\r\n",
      "Requirement already satisfied: filelock in /opt/conda/lib/python3.7/site-packages (from transformers>=4.6.0->simpletransformers) (3.6.0)\r\n",
      "Requirement already satisfied: pyyaml>=5.1 in /opt/conda/lib/python3.7/site-packages (from transformers>=4.6.0->simpletransformers) (6.0)\r\n",
      "Requirement already satisfied: sacremoses in /opt/conda/lib/python3.7/site-packages (from transformers>=4.6.0->simpletransformers) (0.0.53)\r\n",
      "Requirement already satisfied: importlib-metadata in /opt/conda/lib/python3.7/site-packages (from transformers>=4.6.0->simpletransformers) (4.11.4)\r\n",
      "Requirement already satisfied: sentry-sdk>=1.0.0 in /opt/conda/lib/python3.7/site-packages (from wandb>=0.10.32->simpletransformers) (1.5.12)\r\n",
      "Requirement already satisfied: protobuf>=3.12.0 in /opt/conda/lib/python3.7/site-packages (from wandb>=0.10.32->simpletransformers) (3.20.1)\r\n",
      "Requirement already satisfied: setproctitle in /opt/conda/lib/python3.7/site-packages (from wandb>=0.10.32->simpletransformers) (1.2.3)\r\n",
      "Requirement already satisfied: docker-pycreds>=0.4.0 in /opt/conda/lib/python3.7/site-packages (from wandb>=0.10.32->simpletransformers) (0.4.0)\r\n",
      "Requirement already satisfied: shortuuid>=0.5.0 in /opt/conda/lib/python3.7/site-packages (from wandb>=0.10.32->simpletransformers) (1.0.9)\r\n",
      "Requirement already satisfied: setuptools in /opt/conda/lib/python3.7/site-packages (from wandb>=0.10.32->simpletransformers) (59.8.0)\r\n",
      "Requirement already satisfied: Click!=8.0.0,>=7.0 in /opt/conda/lib/python3.7/site-packages (from wandb>=0.10.32->simpletransformers) (8.0.4)\r\n",
      "Requirement already satisfied: GitPython>=1.0.0 in /opt/conda/lib/python3.7/site-packages (from wandb>=0.10.32->simpletransformers) (3.1.27)\r\n",
      "Requirement already satisfied: promise<3,>=2.0 in /opt/conda/lib/python3.7/site-packages (from wandb>=0.10.32->simpletransformers) (2.3)\r\n",
      "Requirement already satisfied: psutil>=5.0.0 in /opt/conda/lib/python3.7/site-packages (from wandb>=0.10.32->simpletransformers) (5.9.0)\r\n",
      "Requirement already satisfied: pathtools in /opt/conda/lib/python3.7/site-packages (from wandb>=0.10.32->simpletransformers) (0.1.2)\r\n",
      "Requirement already satisfied: six>=1.13.0 in /opt/conda/lib/python3.7/site-packages (from wandb>=0.10.32->simpletransformers) (1.16.0)\r\n",
      "Requirement already satisfied: python-dateutil>=2.6.1 in /opt/conda/lib/python3.7/site-packages (from wandb>=0.10.32->simpletransformers) (2.8.2)\r\n",
      "Requirement already satisfied: urllib3<1.27,>=1.21.1 in /opt/conda/lib/python3.7/site-packages (from requests->simpletransformers) (1.26.9)\r\n",
      "Requirement already satisfied: charset-normalizer~=2.0.0 in /opt/conda/lib/python3.7/site-packages (from requests->simpletransformers) (2.0.12)\r\n",
      "Requirement already satisfied: certifi>=2017.4.17 in /opt/conda/lib/python3.7/site-packages (from requests->simpletransformers) (2022.5.18.1)\r\n",
      "Requirement already satisfied: idna<4,>=2.5 in /opt/conda/lib/python3.7/site-packages (from requests->simpletransformers) (3.3)\r\n",
      "Requirement already satisfied: multiprocess in /opt/conda/lib/python3.7/site-packages (from datasets->simpletransformers) (0.70.13)\r\n",
      "Requirement already satisfied: dill in /opt/conda/lib/python3.7/site-packages (from datasets->simpletransformers) (0.3.5.1)\r\n",
      "Requirement already satisfied: responses<0.19 in /opt/conda/lib/python3.7/site-packages (from datasets->simpletransformers) (0.18.0)\r\n",
      "Requirement already satisfied: aiohttp in /opt/conda/lib/python3.7/site-packages (from datasets->simpletransformers) (3.8.1)\r\n",
      "Requirement already satisfied: xxhash in /opt/conda/lib/python3.7/site-packages (from datasets->simpletransformers) (3.0.0)\r\n",
      "Requirement already satisfied: pyarrow>=5.0.0 in /opt/conda/lib/python3.7/site-packages (from datasets->simpletransformers) (8.0.0)\r\n",
      "Requirement already satisfied: fsspec[http]>=2021.05.0 in /opt/conda/lib/python3.7/site-packages (from datasets->simpletransformers) (2022.5.0)\r\n",
      "Requirement already satisfied: pytz>=2017.3 in /opt/conda/lib/python3.7/site-packages (from pandas->simpletransformers) (2022.1)\r\n",
      "Requirement already satisfied: threadpoolctl>=2.0.0 in /opt/conda/lib/python3.7/site-packages (from scikit-learn->simpletransformers) (3.1.0)\r\n",
      "Requirement already satisfied: joblib>=0.11 in /opt/conda/lib/python3.7/site-packages (from scikit-learn->simpletransformers) (1.1.0)\r\n",
      "Requirement already satisfied: tzlocal in /opt/conda/lib/python3.7/site-packages (from streamlit->simpletransformers) (4.2)\r\n",
      "Collecting watchdog\r\n",
      "  Downloading watchdog-2.1.8-py3-none-manylinux2014_x86_64.whl (77 kB)\r\n",
      "\u001b[2K     \u001b[90m━━━━━━━━━━━━━━━━━━━━━━━━━━━━━━━━━━━━━━━━\u001b[0m \u001b[32m77.5/77.5 kB\u001b[0m \u001b[31m4.8 MB/s\u001b[0m eta \u001b[36m0:00:00\u001b[0m\r\n",
      "\u001b[?25hRequirement already satisfied: semver in /opt/conda/lib/python3.7/site-packages (from streamlit->simpletransformers) (2.13.0)\r\n",
      "Requirement already satisfied: typing-extensions in /opt/conda/lib/python3.7/site-packages (from streamlit->simpletransformers) (4.2.0)\r\n",
      "Requirement already satisfied: tornado>=5.0 in /opt/conda/lib/python3.7/site-packages (from streamlit->simpletransformers) (6.1)\r\n",
      "Collecting pydeck>=0.1.dev5\r\n",
      "  Downloading pydeck-0.7.1-py2.py3-none-any.whl (4.3 MB)\r\n",
      "\u001b[2K     \u001b[90m━━━━━━━━━━━━━━━━━━━━━━━━━━━━━━━━━━━━━━━━\u001b[0m \u001b[32m4.3/4.3 MB\u001b[0m \u001b[31m17.6 MB/s\u001b[0m eta \u001b[36m0:00:00\u001b[0m\r\n",
      "\u001b[?25hRequirement already satisfied: altair>=3.2.0 in /opt/conda/lib/python3.7/site-packages (from streamlit->simpletransformers) (4.2.0)\r\n",
      "Requirement already satisfied: pympler>=0.9 in /opt/conda/lib/python3.7/site-packages (from streamlit->simpletransformers) (1.0.1)\r\n",
      "Collecting validators\r\n",
      "  Downloading validators-0.19.0.tar.gz (30 kB)\r\n",
      "  Preparing metadata (setup.py) ... \u001b[?25l-\b \bdone\r\n",
      "\u001b[?25hRequirement already satisfied: cachetools>=4.0 in /opt/conda/lib/python3.7/site-packages (from streamlit->simpletransformers) (4.2.4)\r\n",
      "Requirement already satisfied: pillow>=6.2.0 in /opt/conda/lib/python3.7/site-packages (from streamlit->simpletransformers) (9.1.0)\r\n",
      "Requirement already satisfied: toml in /opt/conda/lib/python3.7/site-packages (from streamlit->simpletransformers) (0.10.2)\r\n",
      "Requirement already satisfied: attrs in /opt/conda/lib/python3.7/site-packages (from streamlit->simpletransformers) (21.4.0)\r\n",
      "Requirement already satisfied: blinker in /opt/conda/lib/python3.7/site-packages (from streamlit->simpletransformers) (1.4)\r\n",
      "Requirement already satisfied: werkzeug>=0.11.15 in /opt/conda/lib/python3.7/site-packages (from tensorboard->simpletransformers) (2.1.2)\r\n",
      "Requirement already satisfied: google-auth<2,>=1.6.3 in /opt/conda/lib/python3.7/site-packages (from tensorboard->simpletransformers) (1.35.0)\r\n",
      "Requirement already satisfied: wheel>=0.26 in /opt/conda/lib/python3.7/site-packages (from tensorboard->simpletransformers) (0.37.1)\r\n",
      "Requirement already satisfied: absl-py>=0.4 in /opt/conda/lib/python3.7/site-packages (from tensorboard->simpletransformers) (1.0.0)\r\n",
      "Requirement already satisfied: google-auth-oauthlib<0.5,>=0.4.1 in /opt/conda/lib/python3.7/site-packages (from tensorboard->simpletransformers) (0.4.6)\r\n",
      "Requirement already satisfied: grpcio>=1.24.3 in /opt/conda/lib/python3.7/site-packages (from tensorboard->simpletransformers) (1.43.0)\r\n",
      "Requirement already satisfied: tensorboard-data-server<0.7.0,>=0.6.0 in /opt/conda/lib/python3.7/site-packages (from tensorboard->simpletransformers) (0.6.1)\r\n",
      "Requirement already satisfied: tensorboard-plugin-wit>=1.6.0 in /opt/conda/lib/python3.7/site-packages (from tensorboard->simpletransformers) (1.8.1)\r\n",
      "Requirement already satisfied: markdown>=2.6.8 in /opt/conda/lib/python3.7/site-packages (from tensorboard->simpletransformers) (3.3.7)\r\n",
      "Requirement already satisfied: jsonschema>=3.0 in /opt/conda/lib/python3.7/site-packages (from altair>=3.2.0->streamlit->simpletransformers) (4.5.1)\r\n",
      "Requirement already satisfied: toolz in /opt/conda/lib/python3.7/site-packages (from altair>=3.2.0->streamlit->simpletransformers) (0.11.2)\r\n",
      "Requirement already satisfied: entrypoints in /opt/conda/lib/python3.7/site-packages (from altair>=3.2.0->streamlit->simpletransformers) (0.4)\r\n",
      "Requirement already satisfied: jinja2 in /opt/conda/lib/python3.7/site-packages (from altair>=3.2.0->streamlit->simpletransformers) (3.1.2)\r\n",
      "Requirement already satisfied: gitdb<5,>=4.0.1 in /opt/conda/lib/python3.7/site-packages (from GitPython>=1.0.0->wandb>=0.10.32->simpletransformers) (4.0.9)\r\n",
      "Requirement already satisfied: rsa<5,>=3.1.4 in /opt/conda/lib/python3.7/site-packages (from google-auth<2,>=1.6.3->tensorboard->simpletransformers) (4.8)\r\n",
      "Requirement already satisfied: pyasn1-modules>=0.2.1 in /opt/conda/lib/python3.7/site-packages (from google-auth<2,>=1.6.3->tensorboard->simpletransformers) (0.2.7)\r\n",
      "Requirement already satisfied: requests-oauthlib>=0.7.0 in /opt/conda/lib/python3.7/site-packages (from google-auth-oauthlib<0.5,>=0.4.1->tensorboard->simpletransformers) (1.3.1)\r\n",
      "Requirement already satisfied: zipp>=0.5 in /opt/conda/lib/python3.7/site-packages (from importlib-metadata->transformers>=4.6.0->simpletransformers) (3.8.0)\r\n",
      "Requirement already satisfied: pyparsing!=3.0.5,>=2.0.2 in /opt/conda/lib/python3.7/site-packages (from packaging>=20.0->transformers>=4.6.0->simpletransformers) (3.0.9)\r\n",
      "Requirement already satisfied: ipywidgets>=7.0.0 in /opt/conda/lib/python3.7/site-packages (from pydeck>=0.1.dev5->streamlit->simpletransformers) (7.7.0)\r\n",
      "Requirement already satisfied: traitlets>=4.3.2 in /opt/conda/lib/python3.7/site-packages (from pydeck>=0.1.dev5->streamlit->simpletransformers) (5.2.0)\r\n",
      "Requirement already satisfied: ipykernel>=5.1.2 in /opt/conda/lib/python3.7/site-packages (from pydeck>=0.1.dev5->streamlit->simpletransformers) (6.13.0)\r\n",
      "Requirement already satisfied: asynctest==0.13.0 in /opt/conda/lib/python3.7/site-packages (from aiohttp->datasets->simpletransformers) (0.13.0)\r\n",
      "Requirement already satisfied: async-timeout<5.0,>=4.0.0a3 in /opt/conda/lib/python3.7/site-packages (from aiohttp->datasets->simpletransformers) (4.0.2)\r\n",
      "Requirement already satisfied: multidict<7.0,>=4.5 in /opt/conda/lib/python3.7/site-packages (from aiohttp->datasets->simpletransformers) (6.0.2)\r\n",
      "Requirement already satisfied: frozenlist>=1.1.1 in /opt/conda/lib/python3.7/site-packages (from aiohttp->datasets->simpletransformers) (1.3.0)\r\n",
      "Requirement already satisfied: yarl<2.0,>=1.0 in /opt/conda/lib/python3.7/site-packages (from aiohttp->datasets->simpletransformers) (1.7.2)\r\n",
      "Requirement already satisfied: aiosignal>=1.1.2 in /opt/conda/lib/python3.7/site-packages (from aiohttp->datasets->simpletransformers) (1.2.0)\r\n",
      "Requirement already satisfied: pytz-deprecation-shim in /opt/conda/lib/python3.7/site-packages (from tzlocal->streamlit->simpletransformers) (0.1.0.post0)\r\n",
      "Requirement already satisfied: backports.zoneinfo in /opt/conda/lib/python3.7/site-packages (from tzlocal->streamlit->simpletransformers) (0.2.1)\r\n",
      "Requirement already satisfied: decorator>=3.4.0 in /opt/conda/lib/python3.7/site-packages (from validators->streamlit->simpletransformers) (5.1.1)\r\n",
      "Requirement already satisfied: smmap<6,>=3.0.1 in /opt/conda/lib/python3.7/site-packages (from gitdb<5,>=4.0.1->GitPython>=1.0.0->wandb>=0.10.32->simpletransformers) (3.0.5)\r\n",
      "Requirement already satisfied: ipython>=7.23.1 in /opt/conda/lib/python3.7/site-packages (from ipykernel>=5.1.2->pydeck>=0.1.dev5->streamlit->simpletransformers) (7.33.0)\r\n",
      "Requirement already satisfied: debugpy>=1.0 in /opt/conda/lib/python3.7/site-packages (from ipykernel>=5.1.2->pydeck>=0.1.dev5->streamlit->simpletransformers) (1.6.0)\r\n",
      "Requirement already satisfied: nest-asyncio in /opt/conda/lib/python3.7/site-packages (from ipykernel>=5.1.2->pydeck>=0.1.dev5->streamlit->simpletransformers) (1.5.5)\r\n",
      "Requirement already satisfied: jupyter-client>=6.1.12 in /opt/conda/lib/python3.7/site-packages (from ipykernel>=5.1.2->pydeck>=0.1.dev5->streamlit->simpletransformers) (7.3.1)\r\n",
      "Requirement already satisfied: matplotlib-inline>=0.1 in /opt/conda/lib/python3.7/site-packages (from ipykernel>=5.1.2->pydeck>=0.1.dev5->streamlit->simpletransformers) (0.1.3)\r\n",
      "Requirement already satisfied: widgetsnbextension~=3.6.0 in /opt/conda/lib/python3.7/site-packages (from ipywidgets>=7.0.0->pydeck>=0.1.dev5->streamlit->simpletransformers) (3.6.0)\r\n",
      "Requirement already satisfied: nbformat>=4.2.0 in /opt/conda/lib/python3.7/site-packages (from ipywidgets>=7.0.0->pydeck>=0.1.dev5->streamlit->simpletransformers) (5.4.0)\r\n",
      "Requirement already satisfied: jupyterlab-widgets>=1.0.0 in /opt/conda/lib/python3.7/site-packages (from ipywidgets>=7.0.0->pydeck>=0.1.dev5->streamlit->simpletransformers) (1.1.0)\r\n",
      "Requirement already satisfied: ipython-genutils~=0.2.0 in /opt/conda/lib/python3.7/site-packages (from ipywidgets>=7.0.0->pydeck>=0.1.dev5->streamlit->simpletransformers) (0.2.0)\r\n",
      "Requirement already satisfied: MarkupSafe>=2.0 in /opt/conda/lib/python3.7/site-packages (from jinja2->altair>=3.2.0->streamlit->simpletransformers) (2.0.1)\r\n",
      "Requirement already satisfied: importlib-resources>=1.4.0 in /opt/conda/lib/python3.7/site-packages (from jsonschema>=3.0->altair>=3.2.0->streamlit->simpletransformers) (5.7.1)\r\n",
      "Requirement already satisfied: pyrsistent!=0.17.0,!=0.17.1,!=0.17.2,>=0.14.0 in /opt/conda/lib/python3.7/site-packages (from jsonschema>=3.0->altair>=3.2.0->streamlit->simpletransformers) (0.18.1)\r\n",
      "Requirement already satisfied: pyasn1<0.5.0,>=0.4.6 in /opt/conda/lib/python3.7/site-packages (from pyasn1-modules>=0.2.1->google-auth<2,>=1.6.3->tensorboard->simpletransformers) (0.4.8)\r\n",
      "Requirement already satisfied: oauthlib>=3.0.0 in /opt/conda/lib/python3.7/site-packages (from requests-oauthlib>=0.7.0->google-auth-oauthlib<0.5,>=0.4.1->tensorboard->simpletransformers) (3.2.0)\r\n",
      "Requirement already satisfied: tzdata in /opt/conda/lib/python3.7/site-packages (from pytz-deprecation-shim->tzlocal->streamlit->simpletransformers) (2022.1)\r\n",
      "Requirement already satisfied: pickleshare in /opt/conda/lib/python3.7/site-packages (from ipython>=7.23.1->ipykernel>=5.1.2->pydeck>=0.1.dev5->streamlit->simpletransformers) (0.7.5)\r\n",
      "Requirement already satisfied: jedi>=0.16 in /opt/conda/lib/python3.7/site-packages (from ipython>=7.23.1->ipykernel>=5.1.2->pydeck>=0.1.dev5->streamlit->simpletransformers) (0.18.1)\r\n",
      "Requirement already satisfied: pexpect>4.3 in /opt/conda/lib/python3.7/site-packages (from ipython>=7.23.1->ipykernel>=5.1.2->pydeck>=0.1.dev5->streamlit->simpletransformers) (4.8.0)\r\n",
      "Requirement already satisfied: backcall in /opt/conda/lib/python3.7/site-packages (from ipython>=7.23.1->ipykernel>=5.1.2->pydeck>=0.1.dev5->streamlit->simpletransformers) (0.2.0)\r\n",
      "Requirement already satisfied: pygments in /opt/conda/lib/python3.7/site-packages (from ipython>=7.23.1->ipykernel>=5.1.2->pydeck>=0.1.dev5->streamlit->simpletransformers) (2.12.0)\r\n",
      "Requirement already satisfied: prompt-toolkit!=3.0.0,!=3.0.1,<3.1.0,>=2.0.0 in /opt/conda/lib/python3.7/site-packages (from ipython>=7.23.1->ipykernel>=5.1.2->pydeck>=0.1.dev5->streamlit->simpletransformers) (3.0.29)\r\n",
      "Requirement already satisfied: jupyter-core>=4.9.2 in /opt/conda/lib/python3.7/site-packages (from jupyter-client>=6.1.12->ipykernel>=5.1.2->pydeck>=0.1.dev5->streamlit->simpletransformers) (4.10.0)\r\n",
      "Requirement already satisfied: pyzmq>=22.3 in /opt/conda/lib/python3.7/site-packages (from jupyter-client>=6.1.12->ipykernel>=5.1.2->pydeck>=0.1.dev5->streamlit->simpletransformers) (22.3.0)\r\n",
      "Requirement already satisfied: fastjsonschema in /opt/conda/lib/python3.7/site-packages (from nbformat>=4.2.0->ipywidgets>=7.0.0->pydeck>=0.1.dev5->streamlit->simpletransformers) (2.15.3)\r\n",
      "Requirement already satisfied: notebook>=4.4.1 in /opt/conda/lib/python3.7/site-packages (from widgetsnbextension~=3.6.0->ipywidgets>=7.0.0->pydeck>=0.1.dev5->streamlit->simpletransformers) (6.4.11)\r\n",
      "Requirement already satisfied: parso<0.9.0,>=0.8.0 in /opt/conda/lib/python3.7/site-packages (from jedi>=0.16->ipython>=7.23.1->ipykernel>=5.1.2->pydeck>=0.1.dev5->streamlit->simpletransformers) (0.8.3)\r\n",
      "Requirement already satisfied: Send2Trash>=1.8.0 in /opt/conda/lib/python3.7/site-packages (from notebook>=4.4.1->widgetsnbextension~=3.6.0->ipywidgets>=7.0.0->pydeck>=0.1.dev5->streamlit->simpletransformers) (1.8.0)\r\n",
      "Requirement already satisfied: argon2-cffi in /opt/conda/lib/python3.7/site-packages (from notebook>=4.4.1->widgetsnbextension~=3.6.0->ipywidgets>=7.0.0->pydeck>=0.1.dev5->streamlit->simpletransformers) (21.3.0)\r\n",
      "Requirement already satisfied: terminado>=0.8.3 in /opt/conda/lib/python3.7/site-packages (from notebook>=4.4.1->widgetsnbextension~=3.6.0->ipywidgets>=7.0.0->pydeck>=0.1.dev5->streamlit->simpletransformers) (0.13.3)\r\n",
      "Requirement already satisfied: prometheus-client in /opt/conda/lib/python3.7/site-packages (from notebook>=4.4.1->widgetsnbextension~=3.6.0->ipywidgets>=7.0.0->pydeck>=0.1.dev5->streamlit->simpletransformers) (0.14.1)\r\n",
      "Requirement already satisfied: nbconvert>=5 in /opt/conda/lib/python3.7/site-packages (from notebook>=4.4.1->widgetsnbextension~=3.6.0->ipywidgets>=7.0.0->pydeck>=0.1.dev5->streamlit->simpletransformers) (6.4.5)\r\n",
      "Requirement already satisfied: ptyprocess>=0.5 in /opt/conda/lib/python3.7/site-packages (from pexpect>4.3->ipython>=7.23.1->ipykernel>=5.1.2->pydeck>=0.1.dev5->streamlit->simpletransformers) (0.7.0)\r\n",
      "Requirement already satisfied: wcwidth in /opt/conda/lib/python3.7/site-packages (from prompt-toolkit!=3.0.0,!=3.0.1,<3.1.0,>=2.0.0->ipython>=7.23.1->ipykernel>=5.1.2->pydeck>=0.1.dev5->streamlit->simpletransformers) (0.2.5)\r\n",
      "Requirement already satisfied: bleach in /opt/conda/lib/python3.7/site-packages (from nbconvert>=5->notebook>=4.4.1->widgetsnbextension~=3.6.0->ipywidgets>=7.0.0->pydeck>=0.1.dev5->streamlit->simpletransformers) (5.0.0)\r\n",
      "Requirement already satisfied: jupyterlab-pygments in /opt/conda/lib/python3.7/site-packages (from nbconvert>=5->notebook>=4.4.1->widgetsnbextension~=3.6.0->ipywidgets>=7.0.0->pydeck>=0.1.dev5->streamlit->simpletransformers) (0.2.2)\r\n",
      "Requirement already satisfied: defusedxml in /opt/conda/lib/python3.7/site-packages (from nbconvert>=5->notebook>=4.4.1->widgetsnbextension~=3.6.0->ipywidgets>=7.0.0->pydeck>=0.1.dev5->streamlit->simpletransformers) (0.7.1)\r\n",
      "Requirement already satisfied: pandocfilters>=1.4.1 in /opt/conda/lib/python3.7/site-packages (from nbconvert>=5->notebook>=4.4.1->widgetsnbextension~=3.6.0->ipywidgets>=7.0.0->pydeck>=0.1.dev5->streamlit->simpletransformers) (1.5.0)\r\n",
      "Requirement already satisfied: nbclient<0.6.0,>=0.5.0 in /opt/conda/lib/python3.7/site-packages (from nbconvert>=5->notebook>=4.4.1->widgetsnbextension~=3.6.0->ipywidgets>=7.0.0->pydeck>=0.1.dev5->streamlit->simpletransformers) (0.5.13)\r\n",
      "Requirement already satisfied: beautifulsoup4 in /opt/conda/lib/python3.7/site-packages (from nbconvert>=5->notebook>=4.4.1->widgetsnbextension~=3.6.0->ipywidgets>=7.0.0->pydeck>=0.1.dev5->streamlit->simpletransformers) (4.11.1)\r\n",
      "Requirement already satisfied: testpath in /opt/conda/lib/python3.7/site-packages (from nbconvert>=5->notebook>=4.4.1->widgetsnbextension~=3.6.0->ipywidgets>=7.0.0->pydeck>=0.1.dev5->streamlit->simpletransformers) (0.6.0)\r\n",
      "Requirement already satisfied: mistune<2,>=0.8.1 in /opt/conda/lib/python3.7/site-packages (from nbconvert>=5->notebook>=4.4.1->widgetsnbextension~=3.6.0->ipywidgets>=7.0.0->pydeck>=0.1.dev5->streamlit->simpletransformers) (0.8.4)\r\n",
      "Requirement already satisfied: argon2-cffi-bindings in /opt/conda/lib/python3.7/site-packages (from argon2-cffi->notebook>=4.4.1->widgetsnbextension~=3.6.0->ipywidgets>=7.0.0->pydeck>=0.1.dev5->streamlit->simpletransformers) (21.2.0)\r\n",
      "Requirement already satisfied: cffi>=1.0.1 in /opt/conda/lib/python3.7/site-packages (from argon2-cffi-bindings->argon2-cffi->notebook>=4.4.1->widgetsnbextension~=3.6.0->ipywidgets>=7.0.0->pydeck>=0.1.dev5->streamlit->simpletransformers) (1.15.0)\r\n",
      "Requirement already satisfied: soupsieve>1.2 in /opt/conda/lib/python3.7/site-packages (from beautifulsoup4->nbconvert>=5->notebook>=4.4.1->widgetsnbextension~=3.6.0->ipywidgets>=7.0.0->pydeck>=0.1.dev5->streamlit->simpletransformers) (2.3.1)\r\n",
      "Requirement already satisfied: webencodings in /opt/conda/lib/python3.7/site-packages (from bleach->nbconvert>=5->notebook>=4.4.1->widgetsnbextension~=3.6.0->ipywidgets>=7.0.0->pydeck>=0.1.dev5->streamlit->simpletransformers) (0.5.1)\r\n",
      "Requirement already satisfied: pycparser in /opt/conda/lib/python3.7/site-packages (from cffi>=1.0.1->argon2-cffi-bindings->argon2-cffi->notebook>=4.4.1->widgetsnbextension~=3.6.0->ipywidgets>=7.0.0->pydeck>=0.1.dev5->streamlit->simpletransformers) (2.21)\r\n",
      "Building wheels for collected packages: seqeval, validators\r\n",
      "  Building wheel for seqeval (setup.py) ... \u001b[?25l-\b \b\\\b \b|\b \bdone\r\n",
      "\u001b[?25h  Created wheel for seqeval: filename=seqeval-1.2.2-py3-none-any.whl size=16180 sha256=d2546c0cbcd9e7b48697cd47197d84001c84a7a979709641c34d8b5757df5d4c\r\n",
      "  Stored in directory: /root/.cache/pip/wheels/05/96/ee/7cac4e74f3b19e3158dce26a20a1c86b3533c43ec72a549fd7\r\n",
      "  Building wheel for validators (setup.py) ... \u001b[?25l-\b \b\\\b \bdone\r\n",
      "\u001b[?25h  Created wheel for validators: filename=validators-0.19.0-py3-none-any.whl size=19553 sha256=685b78a9c1d0c7936bd67b5b3f36679aa44c2eb93b13b764f217c37ac205a78e\r\n",
      "  Stored in directory: /root/.cache/pip/wheels/fe/5d/69/ff53a908b9f14fb7730a58fdede0fac4cdc99ef3624ec76d05\r\n",
      "Successfully built seqeval validators\r\n",
      "Installing collected packages: watchdog, validators, seqeval, pydeck, streamlit, simpletransformers\r\n",
      "Successfully installed pydeck-0.7.1 seqeval-1.2.2 simpletransformers-0.63.7 streamlit-1.9.2 validators-0.19.0 watchdog-2.1.8\r\n",
      "\u001b[33mWARNING: Running pip as the 'root' user can result in broken permissions and conflicting behaviour with the system package manager. It is recommended to use a virtual environment instead: https://pip.pypa.io/warnings/venv\u001b[0m\u001b[33m\r\n",
      "\u001b[0m"
     ]
    }
   ],
   "source": [
    "!pip install simpletransformers"
   ]
  },
  {
   "cell_type": "code",
   "execution_count": 77,
   "id": "00d447c1",
   "metadata": {
    "execution": {
     "iopub.execute_input": "2022-05-31T14:29:11.497753Z",
     "iopub.status.busy": "2022-05-31T14:29:11.496254Z",
     "iopub.status.idle": "2022-05-31T14:30:46.978738Z",
     "shell.execute_reply": "2022-05-31T14:30:46.977415Z"
    },
    "papermill": {
     "duration": 95.530925,
     "end_time": "2022-05-31T14:30:46.981090",
     "exception": false,
     "start_time": "2022-05-31T14:29:11.450165",
     "status": "completed"
    },
    "tags": []
   },
   "outputs": [
    {
     "name": "stdout",
     "output_type": "stream",
     "text": [
      "Collecting package metadata (repodata.json): - \b\b\\ \b\b| \b\b/ \b\b- \b\b\\ \b\b| \b\b/ \b\b- \b\b\\ \b\b| \b\b/ \b\b- \b\b\\ \b\b| \b\b/ \b\b- \b\b\\ \b\b| \b\b/ \b\b- \b\b\\ \b\b| \b\b/ \b\b- \b\b\\ \b\b| \b\b/ \b\b- \b\b\\ \b\b| \b\b/ \b\b- \b\b\\ \b\b| \b\b/ \b\b- \b\b\\ \b\b| \b\b/ \b\b- \b\b\\ \b\b| \b\b/ \b\b- \b\b\\ \b\b| \b\b/ \b\b- \b\b\\ \b\b| \b\b/ \b\b- \b\b\\ \b\b| \b\b/ \b\b- \b\b\\ \b\b| \b\b/ \b\b- \b\b\\ \b\b| \b\b/ \b\b- \b\b\\ \b\b| \b\b/ \b\b- \b\b\\ \b\b| \b\b/ \b\b- \b\b\\ \b\b| \b\b/ \b\b- \b\b\\ \b\b| \b\b/ \b\b- \b\b\\ \b\b| \b\b/ \b\b- \b\b\\ \b\b| \b\b/ \b\b- \b\b\\ \b\b| \b\b/ \b\b- \b\b\\ \b\b| \b\b/ \b\b- \b\b\\ \b\b| \b\b/ \b\b- \b\b\\ \b\b| \b\b/ \b\b- \b\b\\ \b\b| \b\b/ \b\b- \b\b\\ \b\b| \b\b/ \b\b- \b\b\\ \b\b| \b\b/ \b\b- \b\b\\ \b\b| \b\b/ \b\b- \b\b\\ \b\b| \b\b/ \b\b- \b\b\\ \b\b| \b\b/ \b\b- \b\b\\ \b\b| \b\b/ \b\b- \b\b\\ \b\b| \b\b/ \b\b- \b\b\\ \b\b| \b\b/ \b\b- \b\b\\ \b\b| \b\b/ \b\b- \b\b\\ \b\b| \b\b/ \b\b- \b\b\\ \b\b| \b\b/ \b\b- \b\b\\ \b\b| \b\b/ \b\b- \b\b\\ \b\b| \b\b/ \b\b- \b\b\\ \b\b| \b\b/ \b\b- \b\b\\ \b\b| \b\b/ \b\b- \b\b\\ \b\b| \b\b/ \b\b- \b\b\\ \b\b| \b\b/ \b\b- \b\b\\ \b\b| \b\b/ \b\b- \b\b\\ \b\b| \b\b/ \b\b- \b\b\\ \b\b| \b\b/ \b\b- \b\b\\ \b\b| \b\b/ \b\b- \b\b\\ \b\b| \b\b/ \b\b- \b\b\\ \b\b| \b\b/ \b\b- \b\b\\ \b\b| \b\b/ \b\b- \b\b\\ \b\b| \b\b/ \b\b- \b\b\\ \b\b| \b\b/ \b\b- \b\b\\ \b\b| \b\b/ \b\b- \b\b\\ \b\b| \b\b/ \b\b- \b\b\\ \b\b| \b\b/ \b\b- \b\b\\ \b\b| \b\b/ \b\b- \b\b\\ \b\b| \b\b/ \b\b- \b\b\\ \b\b| \b\b/ \b\b- \b\b\\ \b\b| \b\b/ \b\b- \b\b\\ \b\b| \b\b/ \b\b- \b\b\\ \b\b| \b\b/ \b\b- \b\b\\ \b\b| \b\b/ \b\b- \b\b\\ \b\b| \b\b/ \b\b- \b\b\\ \b\b| \b\b/ \b\b- \b\b\\ \b\b| \b\b/ \b\b- \b\b\\ \b\b| \b\b/ \b\b- \b\b\\ \b\b| \b\b/ \b\b- \b\b\\ \b\b| \b\b/ \b\b- \b\b\\ \b\b| \b\b/ \b\b- \b\b\\ \b\b| \b\b/ \b\b- \b\b\\ \b\b| \b\b/ \b\b- \b\b\\ \b\b| \b\b/ \b\b- \b\b\\ \b\b| \b\b/ \b\b- \b\b\\ \b\b| \b\b/ \b\b- \b\b\\ \b\b| \b\b/ \b\b- \b\b\\ \b\b| \b\b/ \b\b- \b\b\\ \b\b| \b\b/ \b\b- \b\b\\ \b\b| \b\b/ \b\b- \b\b\\ \b\b| \b\b/ \b\b- \b\b\\ \b\b| \b\b/ \b\b- \b\b\\ \b\b| \b\b/ \b\b- \b\b\\ \b\b| \b\b/ \b\b- \b\b\\ \b\b| \b\b/ \b\b- \b\b\\ \b\b| \b\b/ \b\b- \b\b\\ \b\b| \b\b/ \b\b- \b\b\\ \b\b| \b\b/ \b\b- \b\b\\ \b\b| \b\b/ \b\b- \b\b\\ \b\b| \b\b/ \b\b- \b\b\\ \b\b| \b\b/ \b\b- \b\b\\ \b\b| \b\b/ \b\b- \b\b\\ \b\b| \b\b/ \b\b- \b\b\\ \b\b| \b\b/ \b\b- \b\b\\ \b\b| \b\b/ \b\b- \b\b\\ \b\b| \b\b/ \b\b- \b\b\\ \b\b| \b\b/ \b\b- \b\b\\ \b\b| \b\b/ \b\b- \b\b\\ \b\b| \b\b/ \b\b- \b\b\\ \b\b| \b\b/ \b\b- \b\b\\ \b\b| \b\b/ \b\b- \b\b\\ \b\b| \b\b/ \b\b- \b\b\\ \b\b| \b\b/ \b\b- \b\b\\ \b\b| \b\b/ \b\b- \b\b\\ \b\b| \b\b/ \b\b- \b\b\\ \b\b| \b\b/ \b\b- \b\b\\ \b\b| \b\b/ \b\b- \b\b\\ \b\b| \b\b/ \b\b- \b\b\\ \b\b| \b\b/ \b\b- \b\b\\ \b\b| \b\b/ \b\b- \b\b\\ \b\b| \b\b/ \b\b- \b\b\\ \b\b| \b\b/ \b\b- \b\b\\ \b\b| \b\b/ \b\b- \b\b\\ \b\b| \b\b/ \b\b- \b\b\\ \b\b| \b\b/ \b\b- \b\b\\ \b\b| \b\b/ \b\b- \b\b\\ \b\b| \b\b/ \b\b- \b\b\\ \b\b| \b\b/ \b\b- \b\b\\ \b\b| \b\b/ \b\b- \b\b\\ \b\b| \b\b/ \b\b- \b\b\\ \b\b| \b\b/ \b\b- \b\b\\ \b\b| \b\b/ \b\b- \b\b\\ \b\b| \b\b/ \b\b- \b\b\\ \b\b| \b\b/ \b\b- \b\b\\ \b\b| \b\b/ \b\b- \b\b\\ \b\b| \b\b/ \b\b- \b\b\\ \b\b| \b\b/ \b\b- \b\b\\ \b\b| \b\b/ \b\b- \b\b\\ \b\b| \b\b/ \b\b- \b\b\\ \b\b| \b\b/ \b\b- \b\b\\ \b\b| \b\b/ \b\b- \b\b\\ \b\b| \b\b/ \b\b- \b\b\\ \b\b| \b\b/ \b\b- \b\b\\ \b\b| \b\b/ \b\b- \b\b\\ \b\b| \b\b/ \b\b- \b\b\\ \b\b| \b\b/ \b\b- \b\b\\ \b\b| \b\b/ \b\b- \b\b\\ \b\b| \b\b/ \b\b- \b\b\\ \b\b| \b\b/ \b\b- \b\b\\ \b\b| \b\b/ \b\b- \b\b\\ \b\b| \b\b/ \b\b- \b\b\\ \b\b| \b\b/ \b\b- \b\b\\ \b\b| \b\bdone\r\n",
      "Solving environment: - \b\b\\ \b\b| \b\b/ \b\b- \b\b\\ \b\b| \b\b/ \b\b- \b\b\\ \b\b| \b\b/ \b\b- \b\b\\ \b\bfailed\r\n",
      "\r\n",
      "PackagesNotFoundError: The following packages are missing from the target environment:\r\n",
      "  - tokenizers,\r\n",
      "  - transformers\r\n",
      "\r\n",
      "\r\n",
      "Requirement already satisfied: transformers in /opt/conda/lib/python3.7/site-packages (4.18.0)\r\n",
      "Requirement already satisfied: packaging>=20.0 in /opt/conda/lib/python3.7/site-packages (from transformers) (21.3)\r\n",
      "Requirement already satisfied: pyyaml>=5.1 in /opt/conda/lib/python3.7/site-packages (from transformers) (6.0)\r\n",
      "Requirement already satisfied: regex!=2019.12.17 in /opt/conda/lib/python3.7/site-packages (from transformers) (2021.11.10)\r\n",
      "Requirement already satisfied: tqdm>=4.27 in /opt/conda/lib/python3.7/site-packages (from transformers) (4.64.0)\r\n",
      "Requirement already satisfied: tokenizers!=0.11.3,<0.13,>=0.11.1 in /opt/conda/lib/python3.7/site-packages (from transformers) (0.12.1)\r\n",
      "Requirement already satisfied: importlib-metadata in /opt/conda/lib/python3.7/site-packages (from transformers) (4.11.4)\r\n",
      "Requirement already satisfied: requests in /opt/conda/lib/python3.7/site-packages (from transformers) (2.27.1)\r\n",
      "Requirement already satisfied: huggingface-hub<1.0,>=0.1.0 in /opt/conda/lib/python3.7/site-packages (from transformers) (0.5.1)\r\n",
      "Requirement already satisfied: numpy>=1.17 in /opt/conda/lib/python3.7/site-packages (from transformers) (1.21.6)\r\n",
      "Requirement already satisfied: filelock in /opt/conda/lib/python3.7/site-packages (from transformers) (3.6.0)\r\n",
      "Requirement already satisfied: sacremoses in /opt/conda/lib/python3.7/site-packages (from transformers) (0.0.53)\r\n",
      "Requirement already satisfied: typing-extensions>=3.7.4.3 in /opt/conda/lib/python3.7/site-packages (from huggingface-hub<1.0,>=0.1.0->transformers) (4.2.0)\r\n",
      "Requirement already satisfied: pyparsing!=3.0.5,>=2.0.2 in /opt/conda/lib/python3.7/site-packages (from packaging>=20.0->transformers) (3.0.9)\r\n",
      "Requirement already satisfied: zipp>=0.5 in /opt/conda/lib/python3.7/site-packages (from importlib-metadata->transformers) (3.8.0)\r\n",
      "Requirement already satisfied: charset-normalizer~=2.0.0 in /opt/conda/lib/python3.7/site-packages (from requests->transformers) (2.0.12)\r\n",
      "Requirement already satisfied: idna<4,>=2.5 in /opt/conda/lib/python3.7/site-packages (from requests->transformers) (3.3)\r\n",
      "Requirement already satisfied: urllib3<1.27,>=1.21.1 in /opt/conda/lib/python3.7/site-packages (from requests->transformers) (1.26.9)\r\n",
      "Requirement already satisfied: certifi>=2017.4.17 in /opt/conda/lib/python3.7/site-packages (from requests->transformers) (2022.5.18.1)\r\n",
      "Requirement already satisfied: joblib in /opt/conda/lib/python3.7/site-packages (from sacremoses->transformers) (1.1.0)\r\n",
      "Requirement already satisfied: six in /opt/conda/lib/python3.7/site-packages (from sacremoses->transformers) (1.16.0)\r\n",
      "Requirement already satisfied: click in /opt/conda/lib/python3.7/site-packages (from sacremoses->transformers) (8.0.4)\r\n",
      "\u001b[33mWARNING: Running pip as the 'root' user can result in broken permissions and conflicting behaviour with the system package manager. It is recommended to use a virtual environment instead: https://pip.pypa.io/warnings/venv\u001b[0m\u001b[33m\r\n",
      "\u001b[0m"
     ]
    }
   ],
   "source": [
    "!conda uninstall tokenizers, transformers\n",
    "!pip install transformers"
   ]
  },
  {
   "cell_type": "code",
   "execution_count": 78,
   "id": "6e4e8929",
   "metadata": {
    "execution": {
     "iopub.execute_input": "2022-05-31T14:30:47.111810Z",
     "iopub.status.busy": "2022-05-31T14:30:47.110641Z",
     "iopub.status.idle": "2022-05-31T14:31:13.285730Z",
     "shell.execute_reply": "2022-05-31T14:31:13.284396Z"
    },
    "papermill": {
     "duration": 26.244738,
     "end_time": "2022-05-31T14:31:13.288229",
     "exception": false,
     "start_time": "2022-05-31T14:30:47.043491",
     "status": "completed"
    },
    "tags": []
   },
   "outputs": [
    {
     "name": "stdout",
     "output_type": "stream",
     "text": [
      "Requirement already satisfied: tokenizers in /opt/conda/lib/python3.7/site-packages (0.12.1)\r\n",
      "\u001b[33mWARNING: Running pip as the 'root' user can result in broken permissions and conflicting behaviour with the system package manager. It is recommended to use a virtual environment instead: https://pip.pypa.io/warnings/venv\u001b[0m\u001b[33m\r\n",
      "\u001b[0mRequirement already satisfied: transformers in /opt/conda/lib/python3.7/site-packages (4.18.0)\r\n",
      "Collecting transformers\r\n",
      "  Downloading transformers-4.19.2-py3-none-any.whl (4.2 MB)\r\n",
      "\u001b[2K     \u001b[90m━━━━━━━━━━━━━━━━━━━━━━━━━━━━━━━━━━━━━━━━\u001b[0m \u001b[32m4.2/4.2 MB\u001b[0m \u001b[31m35.8 MB/s\u001b[0m eta \u001b[36m0:00:00\u001b[0m\r\n",
      "\u001b[?25hRequirement already satisfied: tqdm>=4.27 in /opt/conda/lib/python3.7/site-packages (from transformers) (4.64.0)\r\n",
      "Requirement already satisfied: huggingface-hub<1.0,>=0.1.0 in /opt/conda/lib/python3.7/site-packages (from transformers) (0.5.1)\r\n",
      "Requirement already satisfied: numpy>=1.17 in /opt/conda/lib/python3.7/site-packages (from transformers) (1.21.6)\r\n",
      "Requirement already satisfied: packaging>=20.0 in /opt/conda/lib/python3.7/site-packages (from transformers) (21.3)\r\n",
      "Requirement already satisfied: tokenizers!=0.11.3,<0.13,>=0.11.1 in /opt/conda/lib/python3.7/site-packages (from transformers) (0.12.1)\r\n",
      "Requirement already satisfied: regex!=2019.12.17 in /opt/conda/lib/python3.7/site-packages (from transformers) (2021.11.10)\r\n",
      "Requirement already satisfied: requests in /opt/conda/lib/python3.7/site-packages (from transformers) (2.27.1)\r\n",
      "Requirement already satisfied: filelock in /opt/conda/lib/python3.7/site-packages (from transformers) (3.6.0)\r\n",
      "Requirement already satisfied: importlib-metadata in /opt/conda/lib/python3.7/site-packages (from transformers) (4.11.4)\r\n",
      "Requirement already satisfied: pyyaml>=5.1 in /opt/conda/lib/python3.7/site-packages (from transformers) (6.0)\r\n",
      "Requirement already satisfied: typing-extensions>=3.7.4.3 in /opt/conda/lib/python3.7/site-packages (from huggingface-hub<1.0,>=0.1.0->transformers) (4.2.0)\r\n",
      "Requirement already satisfied: pyparsing!=3.0.5,>=2.0.2 in /opt/conda/lib/python3.7/site-packages (from packaging>=20.0->transformers) (3.0.9)\r\n",
      "Requirement already satisfied: zipp>=0.5 in /opt/conda/lib/python3.7/site-packages (from importlib-metadata->transformers) (3.8.0)\r\n",
      "Requirement already satisfied: charset-normalizer~=2.0.0 in /opt/conda/lib/python3.7/site-packages (from requests->transformers) (2.0.12)\r\n",
      "Requirement already satisfied: certifi>=2017.4.17 in /opt/conda/lib/python3.7/site-packages (from requests->transformers) (2022.5.18.1)\r\n",
      "Requirement already satisfied: urllib3<1.27,>=1.21.1 in /opt/conda/lib/python3.7/site-packages (from requests->transformers) (1.26.9)\r\n",
      "Requirement already satisfied: idna<4,>=2.5 in /opt/conda/lib/python3.7/site-packages (from requests->transformers) (3.3)\r\n",
      "Installing collected packages: transformers\r\n",
      "  Attempting uninstall: transformers\r\n",
      "    Found existing installation: transformers 4.18.0\r\n",
      "    Uninstalling transformers-4.18.0:\r\n",
      "      Successfully uninstalled transformers-4.18.0\r\n",
      "\u001b[31mERROR: pip's dependency resolver does not currently take into account all the packages that are installed. This behaviour is the source of the following dependency conflicts.\r\n",
      "allennlp 2.9.3 requires transformers<4.19,>=4.1, but you have transformers 4.19.2 which is incompatible.\u001b[0m\u001b[31m\r\n",
      "\u001b[0mSuccessfully installed transformers-4.19.2\r\n",
      "\u001b[33mWARNING: Running pip as the 'root' user can result in broken permissions and conflicting behaviour with the system package manager. It is recommended to use a virtual environment instead: https://pip.pypa.io/warnings/venv\u001b[0m\u001b[33m\r\n",
      "\u001b[0m"
     ]
    }
   ],
   "source": [
    "\n",
    "!pip install tokenizers\n",
    "!pip install --upgrade transformers"
   ]
  },
  {
   "cell_type": "code",
   "execution_count": 79,
   "id": "b8f3866f",
   "metadata": {
    "execution": {
     "iopub.execute_input": "2022-05-31T14:31:13.419521Z",
     "iopub.status.busy": "2022-05-31T14:31:13.419068Z",
     "iopub.status.idle": "2022-05-31T14:31:13.447653Z",
     "shell.execute_reply": "2022-05-31T14:31:13.446371Z"
    },
    "papermill": {
     "duration": 0.098153,
     "end_time": "2022-05-31T14:31:13.451059",
     "exception": false,
     "start_time": "2022-05-31T14:31:13.352906",
     "status": "completed"
    },
    "tags": []
   },
   "outputs": [],
   "source": [
    "from sklearn.metrics import classification_report,confusion_matrix,accuracy_score\n",
    "from sklearn.model_selection import train_test_split\n",
    "x_train,x_test,y_train,y_test = train_test_split(df1.drop(\"label\", axis=1),df1.label,random_state = 0)\n"
   ]
  },
  {
   "cell_type": "code",
   "execution_count": 80,
   "id": "eb09a594",
   "metadata": {
    "execution": {
     "iopub.execute_input": "2022-05-31T14:31:13.581750Z",
     "iopub.status.busy": "2022-05-31T14:31:13.580501Z",
     "iopub.status.idle": "2022-05-31T14:31:13.597382Z",
     "shell.execute_reply": "2022-05-31T14:31:13.596374Z"
    },
    "papermill": {
     "duration": 0.082752,
     "end_time": "2022-05-31T14:31:13.599479",
     "exception": false,
     "start_time": "2022-05-31T14:31:13.516727",
     "status": "completed"
    },
    "tags": []
   },
   "outputs": [
    {
     "data": {
      "text/html": [
       "<div>\n",
       "<style scoped>\n",
       "    .dataframe tbody tr th:only-of-type {\n",
       "        vertical-align: middle;\n",
       "    }\n",
       "\n",
       "    .dataframe tbody tr th {\n",
       "        vertical-align: top;\n",
       "    }\n",
       "\n",
       "    .dataframe thead th {\n",
       "        text-align: right;\n",
       "    }\n",
       "</style>\n",
       "<table border=\"1\" class=\"dataframe\">\n",
       "  <thead>\n",
       "    <tr style=\"text-align: right;\">\n",
       "      <th></th>\n",
       "      <th>entities</th>\n",
       "      <th>lemmatization</th>\n",
       "      <th>start_char</th>\n",
       "      <th>end_char</th>\n",
       "      <th>explain</th>\n",
       "      <th>frequency</th>\n",
       "    </tr>\n",
       "  </thead>\n",
       "  <tbody>\n",
       "    <tr>\n",
       "      <th>113</th>\n",
       "      <td>J.B. Hiserodt</td>\n",
       "      <td>J.B. Hiserodt</td>\n",
       "      <td>124</td>\n",
       "      <td>137</td>\n",
       "      <td>People, including fictional</td>\n",
       "      <td>1</td>\n",
       "    </tr>\n",
       "  </tbody>\n",
       "</table>\n",
       "</div>"
      ],
      "text/plain": [
       "          entities  lemmatization  start_char  end_char  \\\n",
       "113  J.B. Hiserodt  J.B. Hiserodt         124       137   \n",
       "\n",
       "                         explain frequency  \n",
       "113  People, including fictional         1  "
      ]
     },
     "execution_count": 80,
     "metadata": {},
     "output_type": "execute_result"
    }
   ],
   "source": [
    "x_test.head(1)"
   ]
  },
  {
   "cell_type": "code",
   "execution_count": 81,
   "id": "84509cd4",
   "metadata": {
    "execution": {
     "iopub.execute_input": "2022-05-31T14:31:13.725957Z",
     "iopub.status.busy": "2022-05-31T14:31:13.725582Z",
     "iopub.status.idle": "2022-05-31T14:31:13.736399Z",
     "shell.execute_reply": "2022-05-31T14:31:13.735735Z"
    },
    "papermill": {
     "duration": 0.075985,
     "end_time": "2022-05-31T14:31:13.738072",
     "exception": false,
     "start_time": "2022-05-31T14:31:13.662087",
     "status": "completed"
    },
    "tags": []
   },
   "outputs": [
    {
     "data": {
      "text/html": [
       "<div>\n",
       "<style scoped>\n",
       "    .dataframe tbody tr th:only-of-type {\n",
       "        vertical-align: middle;\n",
       "    }\n",
       "\n",
       "    .dataframe tbody tr th {\n",
       "        vertical-align: top;\n",
       "    }\n",
       "\n",
       "    .dataframe thead th {\n",
       "        text-align: right;\n",
       "    }\n",
       "</style>\n",
       "<table border=\"1\" class=\"dataframe\">\n",
       "  <thead>\n",
       "    <tr style=\"text-align: right;\">\n",
       "      <th></th>\n",
       "      <th>entities</th>\n",
       "      <th>lemmatization</th>\n",
       "      <th>start_char</th>\n",
       "      <th>end_char</th>\n",
       "      <th>explain</th>\n",
       "      <th>frequency</th>\n",
       "    </tr>\n",
       "  </thead>\n",
       "  <tbody>\n",
       "    <tr>\n",
       "      <th>219</th>\n",
       "      <td>Jacob Schroder</td>\n",
       "      <td>Jacob Schroder</td>\n",
       "      <td>327</td>\n",
       "      <td>341</td>\n",
       "      <td>People, including fictional</td>\n",
       "      <td>4</td>\n",
       "    </tr>\n",
       "    <tr>\n",
       "      <th>246</th>\n",
       "      <td>J.W. Baxter</td>\n",
       "      <td>J.W. Baxter</td>\n",
       "      <td>485</td>\n",
       "      <td>496</td>\n",
       "      <td>Companies, agencies, institutions, etc.</td>\n",
       "      <td>3</td>\n",
       "    </tr>\n",
       "  </tbody>\n",
       "</table>\n",
       "</div>"
      ],
      "text/plain": [
       "           entities   lemmatization  start_char  end_char  \\\n",
       "219  Jacob Schroder  Jacob Schroder         327       341   \n",
       "246     J.W. Baxter     J.W. Baxter         485       496   \n",
       "\n",
       "                                     explain frequency  \n",
       "219              People, including fictional         4  \n",
       "246  Companies, agencies, institutions, etc.         3  "
      ]
     },
     "execution_count": 81,
     "metadata": {},
     "output_type": "execute_result"
    }
   ],
   "source": [
    "x_train.head(2)"
   ]
  },
  {
   "cell_type": "code",
   "execution_count": 82,
   "id": "fc5d2f40",
   "metadata": {
    "execution": {
     "iopub.execute_input": "2022-05-31T14:31:13.976147Z",
     "iopub.status.busy": "2022-05-31T14:31:13.975416Z",
     "iopub.status.idle": "2022-05-31T14:31:13.984209Z",
     "shell.execute_reply": "2022-05-31T14:31:13.983475Z"
    },
    "papermill": {
     "duration": 0.185573,
     "end_time": "2022-05-31T14:31:13.986331",
     "exception": false,
     "start_time": "2022-05-31T14:31:13.800758",
     "status": "completed"
    },
    "tags": []
   },
   "outputs": [],
   "source": [
    "tr_data=pd.DataFrame({\"entities\":x_train[\"entities\"], \"lemmatization\":x_train[\"lemmatization\"], \"start_char\":x_train[\"start_char\"], \"end_char\": x_train[\"end_char\"],\"label\":y_train, \"explain\":x_train[\"explain\"],\"frequency\":x_train[\"frequency\"]})\n",
    "ts_data=pd.DataFrame({\"entities\":x_test[\"entities\"], \"lemmatization\":x_test[\"lemmatization\"], \"start_char\":x_test[\"start_char\"], \"end_char\": x_test[\"end_char\"],\"label\":y_test, \"explain\":x_test[\"explain\"],\"frequency\":x_test[\"frequency\"]})"
   ]
  },
  {
   "cell_type": "code",
   "execution_count": 83,
   "id": "b79cee65",
   "metadata": {
    "execution": {
     "iopub.execute_input": "2022-05-31T14:31:14.119856Z",
     "iopub.status.busy": "2022-05-31T14:31:14.119182Z",
     "iopub.status.idle": "2022-05-31T14:31:14.130455Z",
     "shell.execute_reply": "2022-05-31T14:31:14.129740Z"
    },
    "papermill": {
     "duration": 0.08137,
     "end_time": "2022-05-31T14:31:14.132441",
     "exception": false,
     "start_time": "2022-05-31T14:31:14.051071",
     "status": "completed"
    },
    "tags": []
   },
   "outputs": [
    {
     "data": {
      "text/html": [
       "<div>\n",
       "<style scoped>\n",
       "    .dataframe tbody tr th:only-of-type {\n",
       "        vertical-align: middle;\n",
       "    }\n",
       "\n",
       "    .dataframe tbody tr th {\n",
       "        vertical-align: top;\n",
       "    }\n",
       "\n",
       "    .dataframe thead th {\n",
       "        text-align: right;\n",
       "    }\n",
       "</style>\n",
       "<table border=\"1\" class=\"dataframe\">\n",
       "  <thead>\n",
       "    <tr style=\"text-align: right;\">\n",
       "      <th></th>\n",
       "      <th>entities</th>\n",
       "      <th>lemmatization</th>\n",
       "      <th>start_char</th>\n",
       "      <th>end_char</th>\n",
       "      <th>label</th>\n",
       "      <th>explain</th>\n",
       "      <th>frequency</th>\n",
       "    </tr>\n",
       "  </thead>\n",
       "  <tbody>\n",
       "    <tr>\n",
       "      <th>0</th>\n",
       "      <td>Anne H. Elliott</td>\n",
       "      <td>Anne H. Elliott</td>\n",
       "      <td>14</td>\n",
       "      <td>29</td>\n",
       "      <td>PERSON</td>\n",
       "      <td>People, including fictional</td>\n",
       "      <td>1</td>\n",
       "    </tr>\n",
       "    <tr>\n",
       "      <th>1</th>\n",
       "      <td>Amnesty</td>\n",
       "      <td>Amnesty</td>\n",
       "      <td>76</td>\n",
       "      <td>83</td>\n",
       "      <td>ORG</td>\n",
       "      <td>Companies, agencies, institutions, etc.</td>\n",
       "      <td>2</td>\n",
       "    </tr>\n",
       "    <tr>\n",
       "      <th>2</th>\n",
       "      <td>Andrew Johnson</td>\n",
       "      <td>Andrew Johnson</td>\n",
       "      <td>107</td>\n",
       "      <td>121</td>\n",
       "      <td>PERSON</td>\n",
       "      <td>People, including fictional</td>\n",
       "      <td>2</td>\n",
       "    </tr>\n",
       "  </tbody>\n",
       "</table>\n",
       "</div>"
      ],
      "text/plain": [
       "          entities    lemmatization  start_char  end_char   label  \\\n",
       "0  Anne H. Elliott  Anne H. Elliott          14        29  PERSON   \n",
       "1          Amnesty          Amnesty          76        83     ORG   \n",
       "2   Andrew Johnson   Andrew Johnson         107       121  PERSON   \n",
       "\n",
       "                                   explain frequency  \n",
       "0              People, including fictional         1  \n",
       "1  Companies, agencies, institutions, etc.         2  \n",
       "2              People, including fictional         2  "
      ]
     },
     "execution_count": 83,
     "metadata": {},
     "output_type": "execute_result"
    }
   ],
   "source": [
    "df1.head(3)"
   ]
  },
  {
   "cell_type": "code",
   "execution_count": 84,
   "id": "4ce5ea5c",
   "metadata": {
    "execution": {
     "iopub.execute_input": "2022-05-31T14:31:14.263186Z",
     "iopub.status.busy": "2022-05-31T14:31:14.262512Z",
     "iopub.status.idle": "2022-05-31T14:31:14.268200Z",
     "shell.execute_reply": "2022-05-31T14:31:14.267495Z"
    },
    "papermill": {
     "duration": 0.0733,
     "end_time": "2022-05-31T14:31:14.270480",
     "exception": false,
     "start_time": "2022-05-31T14:31:14.197180",
     "status": "completed"
    },
    "tags": []
   },
   "outputs": [],
   "source": [
    "lab=df1[\"label\"].unique().tolist()\n"
   ]
  },
  {
   "cell_type": "markdown",
   "id": "75d9e6a1",
   "metadata": {
    "papermill": {
     "duration": 0.0627,
     "end_time": "2022-05-31T14:31:14.396602",
     "exception": false,
     "start_time": "2022-05-31T14:31:14.333902",
     "status": "completed"
    },
    "tags": []
   },
   "source": [
    "**Trying simpl bert model**"
   ]
  },
  {
   "cell_type": "code",
   "execution_count": 85,
   "id": "476c13ec",
   "metadata": {
    "execution": {
     "iopub.execute_input": "2022-05-31T14:31:14.525204Z",
     "iopub.status.busy": "2022-05-31T14:31:14.524652Z",
     "iopub.status.idle": "2022-05-31T14:31:18.871976Z",
     "shell.execute_reply": "2022-05-31T14:31:18.870835Z"
    },
    "papermill": {
     "duration": 4.414026,
     "end_time": "2022-05-31T14:31:18.874213",
     "exception": false,
     "start_time": "2022-05-31T14:31:14.460187",
     "status": "completed"
    },
    "tags": []
   },
   "outputs": [],
   "source": [
    "from simpletransformers.ner import NERModel , NERArgs"
   ]
  },
  {
   "cell_type": "code",
   "execution_count": 86,
   "id": "648a98b8",
   "metadata": {
    "execution": {
     "iopub.execute_input": "2022-05-31T14:31:19.006957Z",
     "iopub.status.busy": "2022-05-31T14:31:19.005264Z",
     "iopub.status.idle": "2022-05-31T14:31:19.017012Z",
     "shell.execute_reply": "2022-05-31T14:31:19.016268Z"
    },
    "papermill": {
     "duration": 0.080865,
     "end_time": "2022-05-31T14:31:19.018854",
     "exception": false,
     "start_time": "2022-05-31T14:31:18.937989",
     "status": "completed"
    },
    "tags": []
   },
   "outputs": [],
   "source": [
    "args=NERArgs()\n",
    "args.num_train_epoch=5\n",
    "args.learning_rate=1e-3\n",
    "args.overwrite_output_dir=True\n",
    "args.train_batch_size=2\n",
    "args.eval_batch_size=2"
   ]
  },
  {
   "cell_type": "code",
   "execution_count": 87,
   "id": "6ae95ab1",
   "metadata": {
    "execution": {
     "iopub.execute_input": "2022-05-31T14:31:19.149332Z",
     "iopub.status.busy": "2022-05-31T14:31:19.148665Z",
     "iopub.status.idle": "2022-05-31T14:31:19.152388Z",
     "shell.execute_reply": "2022-05-31T14:31:19.151691Z"
    },
    "papermill": {
     "duration": 0.070842,
     "end_time": "2022-05-31T14:31:19.154058",
     "exception": false,
     "start_time": "2022-05-31T14:31:19.083216",
     "status": "completed"
    },
    "tags": []
   },
   "outputs": [],
   "source": [
    "# m=NERModel('bert', 'bert-base-cased', labels=lab, args=args, use_cuda= False)"
   ]
  },
  {
   "cell_type": "code",
   "execution_count": 88,
   "id": "4deef788",
   "metadata": {
    "execution": {
     "iopub.execute_input": "2022-05-31T14:31:19.283555Z",
     "iopub.status.busy": "2022-05-31T14:31:19.282839Z",
     "iopub.status.idle": "2022-05-31T14:31:19.286791Z",
     "shell.execute_reply": "2022-05-31T14:31:19.286061Z"
    },
    "papermill": {
     "duration": 0.071889,
     "end_time": "2022-05-31T14:31:19.288646",
     "exception": false,
     "start_time": "2022-05-31T14:31:19.216757",
     "status": "completed"
    },
    "tags": []
   },
   "outputs": [],
   "source": [
    "# m.train_model(train_data, eval_data=test_data, acc=accuracy_score)"
   ]
  },
  {
   "cell_type": "code",
   "execution_count": null,
   "id": "e68da483",
   "metadata": {
    "papermill": {
     "duration": 0.064355,
     "end_time": "2022-05-31T14:31:19.417629",
     "exception": false,
     "start_time": "2022-05-31T14:31:19.353274",
     "status": "completed"
    },
    "tags": []
   },
   "outputs": [],
   "source": []
  },
  {
   "cell_type": "code",
   "execution_count": 89,
   "id": "010193b9",
   "metadata": {
    "execution": {
     "iopub.execute_input": "2022-05-31T14:31:19.549612Z",
     "iopub.status.busy": "2022-05-31T14:31:19.548958Z",
     "iopub.status.idle": "2022-05-31T14:31:19.554261Z",
     "shell.execute_reply": "2022-05-31T14:31:19.553604Z"
    },
    "papermill": {
     "duration": 0.073171,
     "end_time": "2022-05-31T14:31:19.556172",
     "exception": false,
     "start_time": "2022-05-31T14:31:19.483001",
     "status": "completed"
    },
    "tags": []
   },
   "outputs": [
    {
     "data": {
      "text/plain": [
       "295"
      ]
     },
     "execution_count": 89,
     "metadata": {},
     "output_type": "execute_result"
    }
   ],
   "source": [
    "len(x_train)"
   ]
  },
  {
   "cell_type": "code",
   "execution_count": 90,
   "id": "8731f79e",
   "metadata": {
    "execution": {
     "iopub.execute_input": "2022-05-31T14:31:19.689068Z",
     "iopub.status.busy": "2022-05-31T14:31:19.688372Z",
     "iopub.status.idle": "2022-05-31T14:31:19.693605Z",
     "shell.execute_reply": "2022-05-31T14:31:19.692837Z"
    },
    "papermill": {
     "duration": 0.073651,
     "end_time": "2022-05-31T14:31:19.695337",
     "exception": false,
     "start_time": "2022-05-31T14:31:19.621686",
     "status": "completed"
    },
    "tags": []
   },
   "outputs": [
    {
     "data": {
      "text/plain": [
       "99"
      ]
     },
     "execution_count": 90,
     "metadata": {},
     "output_type": "execute_result"
    }
   ],
   "source": [
    "len(x_test)"
   ]
  },
  {
   "cell_type": "code",
   "execution_count": 91,
   "id": "d04d75dd",
   "metadata": {
    "execution": {
     "iopub.execute_input": "2022-05-31T14:31:19.823921Z",
     "iopub.status.busy": "2022-05-31T14:31:19.823543Z",
     "iopub.status.idle": "2022-05-31T14:31:19.842562Z",
     "shell.execute_reply": "2022-05-31T14:31:19.841566Z"
    },
    "papermill": {
     "duration": 0.086074,
     "end_time": "2022-05-31T14:31:19.844556",
     "exception": false,
     "start_time": "2022-05-31T14:31:19.758482",
     "status": "completed"
    },
    "tags": []
   },
   "outputs": [
    {
     "data": {
      "text/html": [
       "<div>\n",
       "<style scoped>\n",
       "    .dataframe tbody tr th:only-of-type {\n",
       "        vertical-align: middle;\n",
       "    }\n",
       "\n",
       "    .dataframe tbody tr th {\n",
       "        vertical-align: top;\n",
       "    }\n",
       "\n",
       "    .dataframe thead th {\n",
       "        text-align: right;\n",
       "    }\n",
       "</style>\n",
       "<table border=\"1\" class=\"dataframe\">\n",
       "  <thead>\n",
       "    <tr style=\"text-align: right;\">\n",
       "      <th></th>\n",
       "      <th>entities</th>\n",
       "      <th>lemmatization</th>\n",
       "      <th>start_char</th>\n",
       "      <th>end_char</th>\n",
       "      <th>explain</th>\n",
       "      <th>frequency</th>\n",
       "    </tr>\n",
       "  </thead>\n",
       "  <tbody>\n",
       "    <tr>\n",
       "      <th>113</th>\n",
       "      <td>J.B. Hiserodt</td>\n",
       "      <td>J.B. Hiserodt</td>\n",
       "      <td>124</td>\n",
       "      <td>137</td>\n",
       "      <td>People, including fictional</td>\n",
       "      <td>1</td>\n",
       "    </tr>\n",
       "    <tr>\n",
       "      <th>281</th>\n",
       "      <td>ANDREW JOHNSON</td>\n",
       "      <td>ANDREW JOHNSON</td>\n",
       "      <td>97</td>\n",
       "      <td>111</td>\n",
       "      <td>Companies, agencies, institutions, etc.</td>\n",
       "      <td>5</td>\n",
       "    </tr>\n",
       "    <tr>\n",
       "      <th>68</th>\n",
       "      <td>the United States of America</td>\n",
       "      <td>the United States of America</td>\n",
       "      <td>130</td>\n",
       "      <td>158</td>\n",
       "      <td>Countries, cities, states</td>\n",
       "      <td>7</td>\n",
       "    </tr>\n",
       "    <tr>\n",
       "      <th>155</th>\n",
       "      <td>this 16th day</td>\n",
       "      <td>this 16th day</td>\n",
       "      <td>360</td>\n",
       "      <td>373</td>\n",
       "      <td>Absolute or relative dates or periods</td>\n",
       "      <td>2</td>\n",
       "    </tr>\n",
       "    <tr>\n",
       "      <th>329</th>\n",
       "      <td>20th 1865</td>\n",
       "      <td>20th 1865</td>\n",
       "      <td>814</td>\n",
       "      <td>823</td>\n",
       "      <td>Absolute or relative dates or periods</td>\n",
       "      <td>1</td>\n",
       "    </tr>\n",
       "    <tr>\n",
       "      <th>...</th>\n",
       "      <td>...</td>\n",
       "      <td>...</td>\n",
       "      <td>...</td>\n",
       "      <td>...</td>\n",
       "      <td>...</td>\n",
       "      <td>...</td>\n",
       "    </tr>\n",
       "    <tr>\n",
       "      <th>307</th>\n",
       "      <td>5 feet 6 inches</td>\n",
       "      <td>5 foot 6 inch</td>\n",
       "      <td>1353</td>\n",
       "      <td>1368</td>\n",
       "      <td>Measurements, as of weight or distance</td>\n",
       "      <td>2</td>\n",
       "    </tr>\n",
       "    <tr>\n",
       "      <th>278</th>\n",
       "      <td>Frank Conner</td>\n",
       "      <td>Frank Conner</td>\n",
       "      <td>0</td>\n",
       "      <td>12</td>\n",
       "      <td>People, including fictional</td>\n",
       "      <td>1</td>\n",
       "    </tr>\n",
       "    <tr>\n",
       "      <th>81</th>\n",
       "      <td>Mrs E. Montgomery</td>\n",
       "      <td>Mrs E. Montgomery</td>\n",
       "      <td>544</td>\n",
       "      <td>561</td>\n",
       "      <td>People, including fictional</td>\n",
       "      <td>1</td>\n",
       "    </tr>\n",
       "    <tr>\n",
       "      <th>343</th>\n",
       "      <td>the United States</td>\n",
       "      <td>the United States</td>\n",
       "      <td>282</td>\n",
       "      <td>299</td>\n",
       "      <td>Countries, cities, states</td>\n",
       "      <td>20</td>\n",
       "    </tr>\n",
       "    <tr>\n",
       "      <th>102</th>\n",
       "      <td>SO</td>\n",
       "      <td>so</td>\n",
       "      <td>379</td>\n",
       "      <td>381</td>\n",
       "      <td>People, including fictional</td>\n",
       "      <td>1</td>\n",
       "    </tr>\n",
       "  </tbody>\n",
       "</table>\n",
       "<p>99 rows × 6 columns</p>\n",
       "</div>"
      ],
      "text/plain": [
       "                         entities                 lemmatization  start_char  \\\n",
       "113                 J.B. Hiserodt                 J.B. Hiserodt         124   \n",
       "281                ANDREW JOHNSON                ANDREW JOHNSON          97   \n",
       "68   the United States of America  the United States of America         130   \n",
       "155                 this 16th day                 this 16th day         360   \n",
       "329                     20th 1865                     20th 1865         814   \n",
       "..                            ...                           ...         ...   \n",
       "307               5 feet 6 inches                 5 foot 6 inch        1353   \n",
       "278                  Frank Conner                  Frank Conner           0   \n",
       "81              Mrs E. Montgomery             Mrs E. Montgomery         544   \n",
       "343             the United States             the United States         282   \n",
       "102                            SO                            so         379   \n",
       "\n",
       "     end_char                                  explain frequency  \n",
       "113       137              People, including fictional         1  \n",
       "281       111  Companies, agencies, institutions, etc.         5  \n",
       "68        158                Countries, cities, states         7  \n",
       "155       373    Absolute or relative dates or periods         2  \n",
       "329       823    Absolute or relative dates or periods         1  \n",
       "..        ...                                      ...       ...  \n",
       "307      1368   Measurements, as of weight or distance         2  \n",
       "278        12              People, including fictional         1  \n",
       "81        561              People, including fictional         1  \n",
       "343       299                Countries, cities, states        20  \n",
       "102       381              People, including fictional         1  \n",
       "\n",
       "[99 rows x 6 columns]"
      ]
     },
     "execution_count": 91,
     "metadata": {},
     "output_type": "execute_result"
    }
   ],
   "source": [
    "x_test"
   ]
  },
  {
   "cell_type": "code",
   "execution_count": 92,
   "id": "0f2cb6f1",
   "metadata": {
    "execution": {
     "iopub.execute_input": "2022-05-31T14:31:19.976795Z",
     "iopub.status.busy": "2022-05-31T14:31:19.976089Z",
     "iopub.status.idle": "2022-05-31T14:31:19.980835Z",
     "shell.execute_reply": "2022-05-31T14:31:19.980176Z"
    },
    "papermill": {
     "duration": 0.072771,
     "end_time": "2022-05-31T14:31:19.982695",
     "exception": false,
     "start_time": "2022-05-31T14:31:19.909924",
     "status": "completed"
    },
    "tags": []
   },
   "outputs": [],
   "source": [
    "tokenized_test = tokenizer.texts_to_sequences(x_test)"
   ]
  },
  {
   "cell_type": "code",
   "execution_count": 93,
   "id": "319b18ff",
   "metadata": {
    "execution": {
     "iopub.execute_input": "2022-05-31T14:31:20.111402Z",
     "iopub.status.busy": "2022-05-31T14:31:20.110382Z",
     "iopub.status.idle": "2022-05-31T14:31:20.117385Z",
     "shell.execute_reply": "2022-05-31T14:31:20.116505Z"
    },
    "papermill": {
     "duration": 0.073538,
     "end_time": "2022-05-31T14:31:20.119399",
     "exception": false,
     "start_time": "2022-05-31T14:31:20.045861",
     "status": "completed"
    },
    "tags": []
   },
   "outputs": [
    {
     "data": {
      "text/plain": [
       "[[], [], [], [], [], []]"
      ]
     },
     "execution_count": 93,
     "metadata": {},
     "output_type": "execute_result"
    }
   ],
   "source": [
    "tokenized_test"
   ]
  },
  {
   "cell_type": "code",
   "execution_count": 94,
   "id": "d683e19b",
   "metadata": {
    "execution": {
     "iopub.execute_input": "2022-05-31T14:31:20.254958Z",
     "iopub.status.busy": "2022-05-31T14:31:20.254527Z",
     "iopub.status.idle": "2022-05-31T14:31:20.259570Z",
     "shell.execute_reply": "2022-05-31T14:31:20.258520Z"
    },
    "papermill": {
     "duration": 0.075377,
     "end_time": "2022-05-31T14:31:20.261516",
     "exception": false,
     "start_time": "2022-05-31T14:31:20.186139",
     "status": "completed"
    },
    "tags": []
   },
   "outputs": [],
   "source": [
    "\n",
    "X_test = sequence.pad_sequences(tokenized_test)"
   ]
  },
  {
   "cell_type": "code",
   "execution_count": 95,
   "id": "6d5f6cae",
   "metadata": {
    "execution": {
     "iopub.execute_input": "2022-05-31T14:31:20.392173Z",
     "iopub.status.busy": "2022-05-31T14:31:20.391583Z",
     "iopub.status.idle": "2022-05-31T14:31:20.397990Z",
     "shell.execute_reply": "2022-05-31T14:31:20.397092Z"
    },
    "papermill": {
     "duration": 0.074129,
     "end_time": "2022-05-31T14:31:20.399938",
     "exception": false,
     "start_time": "2022-05-31T14:31:20.325809",
     "status": "completed"
    },
    "tags": []
   },
   "outputs": [
    {
     "data": {
      "text/plain": [
       "array([], shape=(6, 0), dtype=int32)"
      ]
     },
     "execution_count": 95,
     "metadata": {},
     "output_type": "execute_result"
    }
   ],
   "source": [
    "X_test"
   ]
  },
  {
   "cell_type": "code",
   "execution_count": 96,
   "id": "15abe767",
   "metadata": {
    "execution": {
     "iopub.execute_input": "2022-05-31T14:31:20.530482Z",
     "iopub.status.busy": "2022-05-31T14:31:20.530034Z",
     "iopub.status.idle": "2022-05-31T14:31:20.535704Z",
     "shell.execute_reply": "2022-05-31T14:31:20.534763Z"
    },
    "papermill": {
     "duration": 0.073505,
     "end_time": "2022-05-31T14:31:20.537817",
     "exception": false,
     "start_time": "2022-05-31T14:31:20.464312",
     "status": "completed"
    },
    "tags": []
   },
   "outputs": [],
   "source": [
    "tokenizer = text.Tokenizer()\n",
    "tokenizer.fit_on_texts(x_train)\n",
    "tokenized_train = tokenizer.texts_to_sequences(x_train)\n",
    "x_train = sequence.pad_sequences(tokenized_train)"
   ]
  },
  {
   "cell_type": "code",
   "execution_count": 97,
   "id": "648acf0d",
   "metadata": {
    "execution": {
     "iopub.execute_input": "2022-05-31T14:31:20.670925Z",
     "iopub.status.busy": "2022-05-31T14:31:20.670216Z",
     "iopub.status.idle": "2022-05-31T14:31:20.675192Z",
     "shell.execute_reply": "2022-05-31T14:31:20.674540Z"
    },
    "papermill": {
     "duration": 0.073616,
     "end_time": "2022-05-31T14:31:20.677136",
     "exception": false,
     "start_time": "2022-05-31T14:31:20.603520",
     "status": "completed"
    },
    "tags": []
   },
   "outputs": [
    {
     "data": {
      "text/plain": [
       "6"
      ]
     },
     "execution_count": 97,
     "metadata": {},
     "output_type": "execute_result"
    }
   ],
   "source": [
    "len(x_train)"
   ]
  },
  {
   "cell_type": "code",
   "execution_count": 98,
   "id": "5b390fdc",
   "metadata": {
    "execution": {
     "iopub.execute_input": "2022-05-31T14:31:20.811324Z",
     "iopub.status.busy": "2022-05-31T14:31:20.810601Z",
     "iopub.status.idle": "2022-05-31T14:31:20.815872Z",
     "shell.execute_reply": "2022-05-31T14:31:20.815187Z"
    },
    "papermill": {
     "duration": 0.073208,
     "end_time": "2022-05-31T14:31:20.817627",
     "exception": false,
     "start_time": "2022-05-31T14:31:20.744419",
     "status": "completed"
    },
    "tags": []
   },
   "outputs": [
    {
     "data": {
      "text/plain": [
       "295"
      ]
     },
     "execution_count": 98,
     "metadata": {},
     "output_type": "execute_result"
    }
   ],
   "source": [
    "len(y_train)"
   ]
  },
  {
   "cell_type": "code",
   "execution_count": 99,
   "id": "1a2c7386",
   "metadata": {
    "execution": {
     "iopub.execute_input": "2022-05-31T14:31:20.948705Z",
     "iopub.status.busy": "2022-05-31T14:31:20.947954Z",
     "iopub.status.idle": "2022-05-31T14:31:20.953066Z",
     "shell.execute_reply": "2022-05-31T14:31:20.952370Z"
    },
    "papermill": {
     "duration": 0.073417,
     "end_time": "2022-05-31T14:31:20.954911",
     "exception": false,
     "start_time": "2022-05-31T14:31:20.881494",
     "status": "completed"
    },
    "tags": []
   },
   "outputs": [
    {
     "data": {
      "text/plain": [
       "6"
      ]
     },
     "execution_count": 99,
     "metadata": {},
     "output_type": "execute_result"
    }
   ],
   "source": [
    "len(X_test)"
   ]
  },
  {
   "cell_type": "markdown",
   "id": "03eaa953",
   "metadata": {
    "papermill": {
     "duration": 0.066714,
     "end_time": "2022-05-31T14:31:21.089185",
     "exception": false,
     "start_time": "2022-05-31T14:31:21.022471",
     "status": "completed"
    },
    "tags": []
   },
   "source": [
    "why the length of xtrain and xtest change after the transormation!!! although the padsequences is alright "
   ]
  },
  {
   "cell_type": "code",
   "execution_count": 100,
   "id": "aaaa3912",
   "metadata": {
    "execution": {
     "iopub.execute_input": "2022-05-31T14:31:21.222924Z",
     "iopub.status.busy": "2022-05-31T14:31:21.222005Z",
     "iopub.status.idle": "2022-05-31T14:31:21.226157Z",
     "shell.execute_reply": "2022-05-31T14:31:21.225383Z"
    },
    "papermill": {
     "duration": 0.072798,
     "end_time": "2022-05-31T14:31:21.228020",
     "exception": false,
     "start_time": "2022-05-31T14:31:21.155222",
     "status": "completed"
    },
    "tags": []
   },
   "outputs": [],
   "source": [
    "# history = model.fit(x_train, y_train, batch_size = 2 , validation_data = (X_test,y_test) , epochs = 20 , callbacks = [learning_rate_reduction])"
   ]
  },
  {
   "cell_type": "markdown",
   "id": "53174bbf",
   "metadata": {
    "papermill": {
     "duration": 0.063802,
     "end_time": "2022-05-31T14:31:21.355941",
     "exception": false,
     "start_time": "2022-05-31T14:31:21.292139",
     "status": "completed"
    },
    "tags": []
   },
   "source": [
    "****"
   ]
  },
  {
   "cell_type": "markdown",
   "id": "84408716",
   "metadata": {
    "papermill": {
     "duration": 0.066837,
     "end_time": "2022-05-31T14:31:21.487803",
     "exception": false,
     "start_time": "2022-05-31T14:31:21.420966",
     "status": "completed"
    },
    "tags": []
   },
   "source": [
    "****"
   ]
  },
  {
   "cell_type": "markdown",
   "id": "84aed87d",
   "metadata": {
    "papermill": {
     "duration": 0.065277,
     "end_time": "2022-05-31T14:31:21.619217",
     "exception": false,
     "start_time": "2022-05-31T14:31:21.553940",
     "status": "completed"
    },
    "tags": []
   },
   "source": [
    "********"
   ]
  },
  {
   "cell_type": "markdown",
   "id": "565e0362",
   "metadata": {
    "papermill": {
     "duration": 0.068245,
     "end_time": "2022-05-31T14:31:21.753911",
     "exception": false,
     "start_time": "2022-05-31T14:31:21.685666",
     "status": "completed"
    },
    "tags": []
   },
   "source": [
    "# Hugging_Face Pipelines"
   ]
  },
  {
   "cell_type": "markdown",
   "id": "55f679b8",
   "metadata": {
    "papermill": {
     "duration": 0.124491,
     "end_time": "2022-05-31T14:31:21.945590",
     "exception": false,
     "start_time": "2022-05-31T14:31:21.821099",
     "status": "completed"
    },
    "tags": []
   },
   "source": [
    "**it was a mess up** Xd"
   ]
  },
  {
   "cell_type": "code",
   "execution_count": 101,
   "id": "0f9e85ba",
   "metadata": {
    "execution": {
     "iopub.execute_input": "2022-05-31T14:31:22.080966Z",
     "iopub.status.busy": "2022-05-31T14:31:22.080157Z",
     "iopub.status.idle": "2022-05-31T14:32:19.401218Z",
     "shell.execute_reply": "2022-05-31T14:32:19.397916Z"
    },
    "papermill": {
     "duration": 57.391414,
     "end_time": "2022-05-31T14:32:19.405176",
     "exception": false,
     "start_time": "2022-05-31T14:31:22.013762",
     "status": "completed"
    },
    "tags": []
   },
   "outputs": [
    {
     "name": "stdout",
     "output_type": "stream",
     "text": [
      "\u001b[31mERROR: pip's dependency resolver does not currently take into account all the packages that are installed. This behaviour is the source of the following dependency conflicts.\r\n",
      "torchvision 0.12.0+cpu requires torch==1.11.0, but you have torch 1.4.0 which is incompatible.\r\n",
      "torchtext 0.12.0 requires torch==1.11.0, but you have torch 1.4.0 which is incompatible.\r\n",
      "torchaudio 0.11.0+cpu requires torch==1.11.0, but you have torch 1.4.0 which is incompatible.\r\n",
      "pytorch-lightning 1.6.3 requires torch>=1.8.*, but you have torch 1.4.0 which is incompatible.\r\n",
      "kornia 0.5.8 requires torch>=1.6.0, but you have torch 1.4.0 which is incompatible.\r\n",
      "fastai 2.6.3 requires torch<1.12,>=1.7.0, but you have torch 1.4.0 which is incompatible.\r\n",
      "fairscale 0.4.6 requires torch>=1.8.0, but you have torch 1.4.0 which is incompatible.\r\n",
      "allennlp 2.9.3 requires torch<1.12.0,>=1.6.0, but you have torch 1.4.0 which is incompatible.\r\n",
      "allennlp 2.9.3 requires transformers<4.19,>=4.1, but you have transformers 4.19.2 which is incompatible.\u001b[0m\u001b[31m\r\n",
      "\u001b[0m\u001b[33mWARNING: Running pip as the 'root' user can result in broken permissions and conflicting behaviour with the system package manager. It is recommended to use a virtual environment instead: https://pip.pypa.io/warnings/venv\u001b[0m\u001b[33m\r\n",
      "\u001b[0m"
     ]
    }
   ],
   "source": [
    "!pip install -q torch==1.4.0 -f https://download.pytorch.org/whl/cu101/torch_stable.html\n"
   ]
  },
  {
   "cell_type": "code",
   "execution_count": 102,
   "id": "04d3b28f",
   "metadata": {
    "execution": {
     "iopub.execute_input": "2022-05-31T14:32:19.592574Z",
     "iopub.status.busy": "2022-05-31T14:32:19.591955Z",
     "iopub.status.idle": "2022-05-31T14:32:19.598459Z",
     "shell.execute_reply": "2022-05-31T14:32:19.597360Z"
    },
    "papermill": {
     "duration": 0.098593,
     "end_time": "2022-05-31T14:32:19.600587",
     "exception": false,
     "start_time": "2022-05-31T14:32:19.501994",
     "status": "completed"
    },
    "tags": []
   },
   "outputs": [],
   "source": [
    "from transformers import pipeline\n",
    "from transformers import AutoModelForTokenClassification, AutoTokenizer\n",
    "import torch\n",
    "from transformers import AutoModel, AutoTokenizer"
   ]
  },
  {
   "cell_type": "code",
   "execution_count": 103,
   "id": "743e4a1d",
   "metadata": {
    "execution": {
     "iopub.execute_input": "2022-05-31T14:32:19.769166Z",
     "iopub.status.busy": "2022-05-31T14:32:19.768436Z",
     "iopub.status.idle": "2022-05-31T14:33:10.344147Z",
     "shell.execute_reply": "2022-05-31T14:33:10.343325Z"
    },
    "papermill": {
     "duration": 50.665877,
     "end_time": "2022-05-31T14:33:10.346390",
     "exception": false,
     "start_time": "2022-05-31T14:32:19.680513",
     "status": "completed"
    },
    "tags": []
   },
   "outputs": [
    {
     "data": {
      "application/vnd.jupyter.widget-view+json": {
       "model_id": "01d42af091a5440093463d0591cbfa15",
       "version_major": 2,
       "version_minor": 0
      },
      "text/plain": [
       "Downloading:   0%|          | 0.00/998 [00:00<?, ?B/s]"
      ]
     },
     "metadata": {},
     "output_type": "display_data"
    },
    {
     "data": {
      "application/vnd.jupyter.widget-view+json": {
       "model_id": "a8cd934614db4a3d8f365f6ff6c0c2e6",
       "version_major": 2,
       "version_minor": 0
      },
      "text/plain": [
       "Downloading:   0%|          | 0.00/1.24G [00:00<?, ?B/s]"
      ]
     },
     "metadata": {},
     "output_type": "display_data"
    },
    {
     "name": "stderr",
     "output_type": "stream",
     "text": [
      "Some weights of the model checkpoint at dbmdz/bert-large-cased-finetuned-conll03-english were not used when initializing BertModel: ['classifier.bias', 'classifier.weight']\n",
      "- This IS expected if you are initializing BertModel from the checkpoint of a model trained on another task or with another architecture (e.g. initializing a BertForSequenceClassification model from a BertForPreTraining model).\n",
      "- This IS NOT expected if you are initializing BertModel from the checkpoint of a model that you expect to be exactly identical (initializing a BertForSequenceClassification model from a BertForSequenceClassification model).\n"
     ]
    },
    {
     "data": {
      "application/vnd.jupyter.widget-view+json": {
       "model_id": "d17e8802f2eb4aa6957dca526157a1ee",
       "version_major": 2,
       "version_minor": 0
      },
      "text/plain": [
       "Downloading:   0%|          | 0.00/60.0 [00:00<?, ?B/s]"
      ]
     },
     "metadata": {},
     "output_type": "display_data"
    },
    {
     "data": {
      "application/vnd.jupyter.widget-view+json": {
       "model_id": "db5c52dfafb6462d823c5dc96b8d302d",
       "version_major": 2,
       "version_minor": 0
      },
      "text/plain": [
       "Downloading:   0%|          | 0.00/208k [00:00<?, ?B/s]"
      ]
     },
     "metadata": {},
     "output_type": "display_data"
    }
   ],
   "source": [
    "model_name = \"dbmdz/bert-large-cased-finetuned-conll03-english\" \n",
    "model = AutoModel.from_pretrained(model_name)\n",
    "tokenizerr = AutoTokenizer.from_pretrained(model_name)\n"
   ]
  },
  {
   "cell_type": "markdown",
   "id": "e1cf402b",
   "metadata": {
    "papermill": {
     "duration": 0.06789,
     "end_time": "2022-05-31T14:33:10.480766",
     "exception": false,
     "start_time": "2022-05-31T14:33:10.412876",
     "status": "completed"
    },
    "tags": []
   },
   "source": [
    "**AutoTokenizer**"
   ]
  },
  {
   "cell_type": "code",
   "execution_count": 104,
   "id": "46cc76e6",
   "metadata": {
    "execution": {
     "iopub.execute_input": "2022-05-31T14:33:10.613835Z",
     "iopub.status.busy": "2022-05-31T14:33:10.613034Z",
     "iopub.status.idle": "2022-05-31T14:33:10.634371Z",
     "shell.execute_reply": "2022-05-31T14:33:10.633510Z"
    },
    "papermill": {
     "duration": 0.090886,
     "end_time": "2022-05-31T14:33:10.636426",
     "exception": false,
     "start_time": "2022-05-31T14:33:10.545540",
     "status": "completed"
    },
    "tags": []
   },
   "outputs": [],
   "source": [
    "tokens = tokenizerr(data[\"transcription_text\"][0], return_tensors=\"pt\")"
   ]
  },
  {
   "cell_type": "code",
   "execution_count": 105,
   "id": "09bc2b1a",
   "metadata": {
    "execution": {
     "iopub.execute_input": "2022-05-31T14:33:10.769605Z",
     "iopub.status.busy": "2022-05-31T14:33:10.768917Z",
     "iopub.status.idle": "2022-05-31T14:33:10.778000Z",
     "shell.execute_reply": "2022-05-31T14:33:10.777347Z"
    },
    "papermill": {
     "duration": 0.078396,
     "end_time": "2022-05-31T14:33:10.780093",
     "exception": false,
     "start_time": "2022-05-31T14:33:10.701697",
     "status": "completed"
    },
    "tags": []
   },
   "outputs": [
    {
     "data": {
      "text/plain": [
       "{'input_ids': tensor([[  101,   129,   142,  4035,  1665,  1233,   146,  3967,   145,   119,\n",
       "          9657,   117,  8244,  1202, 22752,  1193,  8222,  1115,   146,  1138,\n",
       "          2373,  1103, 25072, 22684,  3010,  1118,  3217,  2921,  1697,  1104,\n",
       "          1103,  1244,  1311,  1104,  1738,  1113,  1318, 17333,  6127,  1105,\n",
       "          1115,   146,  1821,  1136,  2589,  1174,  1121,  1103,  6245,  1104,\n",
       "          1115, 22684,  1118,  1251,  1141,  1104,  1103,  7840, 12408,  1175,\n",
       "          1394,  1189,   119,   156, 12821,  4558,  1106,  1105,  4841, 25626,\n",
       "          1196,  1143,  1120,  1142, 15757,  1285,  1104, 14152,  1830,  6127,\n",
       "           156,   119, 20280, 12786, 15379,  7085, 19815,   117, 23232,   138,\n",
       "           119,   145,   119,   142,   119,   164,   164,  3077,   131,   123,\n",
       "          9848,  7143, 13182,   166,   166,  3967,   145,  9657,  1244,  1311,\n",
       "          1104,  1738,   146,  3967,   145,  9657,   117,  1104,  1103,  1574,\n",
       "          1104, 26427,   117,  1426,  1104,  1375,  2938,  1202, 22752,  1193,\n",
       "          8222,  1107,  1103,  2915,  1104,  2586,  3080, 27390,  1875,  1115,\n",
       "           146,  1209,  7544, 15396, 12969,  1193,  1619,  1105,  6472,  1103,\n",
       "          5317,  1104,  1103,  1244,  1311,  1105,  1103,  1913,  1104,  1103,\n",
       "          1311,  1175,  6775,  1200,   117,  1105,  1115,   146,  1209,  1107,\n",
       "          1176,  4758,   170, 22742,  1118,  1105, 12969,  1193,  1619,  1155,\n",
       "          3892,  1105, 22684,  1116,  1134,  1138,  1151,  1189,  1219,  1103,\n",
       "          3685, 16066,  1114,  3835,  1106,  1103, 18653, 25305,  1104, 23425,\n",
       "          1116,   118,  1573,  1494,  1143,  1875,   119,   156, 12821,  4558,\n",
       "          1106,   111,  4841, 25626,  1196,  1143,  1120,  1142, 15757,  1285,\n",
       "          1104, 14152,  1830,  1197,   112,  6127,  7085, 25019, 18775,   156,\n",
       "           119, 20280, 12786, 15379,   138,   119,   145,   119,   142,   119,\n",
       "           138,   119,   145,   119,   142,   119,   138,   119,   145,   119,\n",
       "           142,   119,   164,   164,  4351,   131,   124,  7143, 13321,   166,\n",
       "           166,   164,   164,  3967,   166,   166,   145,   119,  9657,  1109,\n",
       "          1807,  1417,  1144,  4652,  2703,  1988,  5583,  1716, 21021,  1257,\n",
       "          1110,   126,  1623,   124,  4519,  1344,   117,  4079,  5519,  1201,\n",
       "          1118,  9545,   170,  2582,  1468,  8244,   119,   156,   119, 20280,\n",
       "         12786, 15379,  7085, 19815,  1197,   102]]), 'token_type_ids': tensor([[0, 0, 0, 0, 0, 0, 0, 0, 0, 0, 0, 0, 0, 0, 0, 0, 0, 0, 0, 0, 0, 0, 0, 0,\n",
       "         0, 0, 0, 0, 0, 0, 0, 0, 0, 0, 0, 0, 0, 0, 0, 0, 0, 0, 0, 0, 0, 0, 0, 0,\n",
       "         0, 0, 0, 0, 0, 0, 0, 0, 0, 0, 0, 0, 0, 0, 0, 0, 0, 0, 0, 0, 0, 0, 0, 0,\n",
       "         0, 0, 0, 0, 0, 0, 0, 0, 0, 0, 0, 0, 0, 0, 0, 0, 0, 0, 0, 0, 0, 0, 0, 0,\n",
       "         0, 0, 0, 0, 0, 0, 0, 0, 0, 0, 0, 0, 0, 0, 0, 0, 0, 0, 0, 0, 0, 0, 0, 0,\n",
       "         0, 0, 0, 0, 0, 0, 0, 0, 0, 0, 0, 0, 0, 0, 0, 0, 0, 0, 0, 0, 0, 0, 0, 0,\n",
       "         0, 0, 0, 0, 0, 0, 0, 0, 0, 0, 0, 0, 0, 0, 0, 0, 0, 0, 0, 0, 0, 0, 0, 0,\n",
       "         0, 0, 0, 0, 0, 0, 0, 0, 0, 0, 0, 0, 0, 0, 0, 0, 0, 0, 0, 0, 0, 0, 0, 0,\n",
       "         0, 0, 0, 0, 0, 0, 0, 0, 0, 0, 0, 0, 0, 0, 0, 0, 0, 0, 0, 0, 0, 0, 0, 0,\n",
       "         0, 0, 0, 0, 0, 0, 0, 0, 0, 0, 0, 0, 0, 0, 0, 0, 0, 0, 0, 0, 0, 0, 0, 0,\n",
       "         0, 0, 0, 0, 0, 0, 0, 0, 0, 0, 0, 0, 0, 0, 0, 0, 0, 0, 0, 0, 0, 0, 0, 0,\n",
       "         0, 0, 0, 0, 0, 0, 0, 0, 0, 0, 0, 0, 0, 0, 0, 0, 0, 0, 0, 0, 0, 0, 0, 0,\n",
       "         0, 0, 0, 0, 0, 0, 0, 0, 0, 0, 0, 0, 0, 0, 0, 0, 0, 0]]), 'attention_mask': tensor([[1, 1, 1, 1, 1, 1, 1, 1, 1, 1, 1, 1, 1, 1, 1, 1, 1, 1, 1, 1, 1, 1, 1, 1,\n",
       "         1, 1, 1, 1, 1, 1, 1, 1, 1, 1, 1, 1, 1, 1, 1, 1, 1, 1, 1, 1, 1, 1, 1, 1,\n",
       "         1, 1, 1, 1, 1, 1, 1, 1, 1, 1, 1, 1, 1, 1, 1, 1, 1, 1, 1, 1, 1, 1, 1, 1,\n",
       "         1, 1, 1, 1, 1, 1, 1, 1, 1, 1, 1, 1, 1, 1, 1, 1, 1, 1, 1, 1, 1, 1, 1, 1,\n",
       "         1, 1, 1, 1, 1, 1, 1, 1, 1, 1, 1, 1, 1, 1, 1, 1, 1, 1, 1, 1, 1, 1, 1, 1,\n",
       "         1, 1, 1, 1, 1, 1, 1, 1, 1, 1, 1, 1, 1, 1, 1, 1, 1, 1, 1, 1, 1, 1, 1, 1,\n",
       "         1, 1, 1, 1, 1, 1, 1, 1, 1, 1, 1, 1, 1, 1, 1, 1, 1, 1, 1, 1, 1, 1, 1, 1,\n",
       "         1, 1, 1, 1, 1, 1, 1, 1, 1, 1, 1, 1, 1, 1, 1, 1, 1, 1, 1, 1, 1, 1, 1, 1,\n",
       "         1, 1, 1, 1, 1, 1, 1, 1, 1, 1, 1, 1, 1, 1, 1, 1, 1, 1, 1, 1, 1, 1, 1, 1,\n",
       "         1, 1, 1, 1, 1, 1, 1, 1, 1, 1, 1, 1, 1, 1, 1, 1, 1, 1, 1, 1, 1, 1, 1, 1,\n",
       "         1, 1, 1, 1, 1, 1, 1, 1, 1, 1, 1, 1, 1, 1, 1, 1, 1, 1, 1, 1, 1, 1, 1, 1,\n",
       "         1, 1, 1, 1, 1, 1, 1, 1, 1, 1, 1, 1, 1, 1, 1, 1, 1, 1, 1, 1, 1, 1, 1, 1,\n",
       "         1, 1, 1, 1, 1, 1, 1, 1, 1, 1, 1, 1, 1, 1, 1, 1, 1, 1]])}"
      ]
     },
     "execution_count": 105,
     "metadata": {},
     "output_type": "execute_result"
    }
   ],
   "source": [
    "tokens"
   ]
  },
  {
   "cell_type": "code",
   "execution_count": 106,
   "id": "76fc1894",
   "metadata": {
    "execution": {
     "iopub.execute_input": "2022-05-31T14:33:10.915382Z",
     "iopub.status.busy": "2022-05-31T14:33:10.914626Z",
     "iopub.status.idle": "2022-05-31T14:33:15.104606Z",
     "shell.execute_reply": "2022-05-31T14:33:15.103549Z"
    },
    "papermill": {
     "duration": 4.262048,
     "end_time": "2022-05-31T14:33:15.107211",
     "exception": false,
     "start_time": "2022-05-31T14:33:10.845163",
     "status": "completed"
    },
    "tags": []
   },
   "outputs": [],
   "source": [
    "ner_pipe = pipeline(task='ner', model=model_name,tokenizer=tokenizerr)"
   ]
  },
  {
   "cell_type": "code",
   "execution_count": 107,
   "id": "d6b3f4b4",
   "metadata": {
    "execution": {
     "iopub.execute_input": "2022-05-31T14:33:15.244578Z",
     "iopub.status.busy": "2022-05-31T14:33:15.244146Z",
     "iopub.status.idle": "2022-05-31T14:33:17.034113Z",
     "shell.execute_reply": "2022-05-31T14:33:17.033345Z"
    },
    "papermill": {
     "duration": 1.862511,
     "end_time": "2022-05-31T14:33:17.035893",
     "exception": false,
     "start_time": "2022-05-31T14:33:15.173382",
     "status": "completed"
    },
    "tags": []
   },
   "outputs": [
    {
     "data": {
      "text/plain": [
       "[{'entity': 'I-PER',\n",
       "  'score': 0.9989004,\n",
       "  'index': 7,\n",
       "  'word': 'Anne',\n",
       "  'start': 14,\n",
       "  'end': 18},\n",
       " {'entity': 'I-PER',\n",
       "  'score': 0.9988207,\n",
       "  'index': 8,\n",
       "  'word': 'H',\n",
       "  'start': 19,\n",
       "  'end': 20},\n",
       " {'entity': 'I-PER',\n",
       "  'score': 0.99461913,\n",
       "  'index': 9,\n",
       "  'word': '.',\n",
       "  'start': 20,\n",
       "  'end': 21},\n",
       " {'entity': 'I-PER',\n",
       "  'score': 0.9994429,\n",
       "  'index': 10,\n",
       "  'word': 'Elliott',\n",
       "  'start': 22,\n",
       "  'end': 29},\n",
       " {'entity': 'I-MISC',\n",
       "  'score': 0.837695,\n",
       "  'index': 22,\n",
       "  'word': 'Amnesty',\n",
       "  'start': 76,\n",
       "  'end': 83}]"
      ]
     },
     "execution_count": 107,
     "metadata": {},
     "output_type": "execute_result"
    }
   ],
   "source": [
    "L=[]\n",
    "for ent in ner_pipe(data[\"transcription_text\"][0]):\n",
    "    L.append(ent)\n",
    "L[:5]"
   ]
  },
  {
   "cell_type": "markdown",
   "id": "e10e71a9",
   "metadata": {
    "papermill": {
     "duration": 0.064446,
     "end_time": "2022-05-31T14:33:17.164519",
     "exception": false,
     "start_time": "2022-05-31T14:33:17.100073",
     "status": "completed"
    },
    "tags": []
   },
   "source": [
    "*thanks god (after 2hour of unsigned  error)*"
   ]
  },
  {
   "cell_type": "markdown",
   "id": "9dca7253",
   "metadata": {
    "papermill": {
     "duration": 0.063929,
     "end_time": "2022-05-31T14:33:17.296884",
     "exception": false,
     "start_time": "2022-05-31T14:33:17.232955",
     "status": "completed"
    },
    "tags": []
   },
   "source": [
    "**trying other model ! it's getting better**"
   ]
  },
  {
   "cell_type": "code",
   "execution_count": 108,
   "id": "6aa94ff3",
   "metadata": {
    "execution": {
     "iopub.execute_input": "2022-05-31T14:33:17.429432Z",
     "iopub.status.busy": "2022-05-31T14:33:17.428992Z",
     "iopub.status.idle": "2022-05-31T14:33:34.600313Z",
     "shell.execute_reply": "2022-05-31T14:33:34.599390Z"
    },
    "papermill": {
     "duration": 17.241659,
     "end_time": "2022-05-31T14:33:34.602726",
     "exception": false,
     "start_time": "2022-05-31T14:33:17.361067",
     "status": "completed"
    },
    "tags": []
   },
   "outputs": [
    {
     "data": {
      "application/vnd.jupyter.widget-view+json": {
       "model_id": "f0c066712cdc4263995dd49c8ce69ce0",
       "version_major": 2,
       "version_minor": 0
      },
      "text/plain": [
       "Downloading:   0%|          | 0.00/1.23k [00:00<?, ?B/s]"
      ]
     },
     "metadata": {},
     "output_type": "display_data"
    },
    {
     "data": {
      "application/vnd.jupyter.widget-view+json": {
       "model_id": "84f745546c40429489474a81c0faca49",
       "version_major": 2,
       "version_minor": 0
      },
      "text/plain": [
       "Downloading:   0%|          | 0.00/418M [00:00<?, ?B/s]"
      ]
     },
     "metadata": {},
     "output_type": "display_data"
    },
    {
     "data": {
      "application/vnd.jupyter.widget-view+json": {
       "model_id": "7e20debbe8924101b7c62f1e3c207a00",
       "version_major": 2,
       "version_minor": 0
      },
      "text/plain": [
       "Downloading:   0%|          | 0.00/39.0 [00:00<?, ?B/s]"
      ]
     },
     "metadata": {},
     "output_type": "display_data"
    },
    {
     "data": {
      "application/vnd.jupyter.widget-view+json": {
       "model_id": "c74abaf1b6714bae9135217c0c286f4c",
       "version_major": 2,
       "version_minor": 0
      },
      "text/plain": [
       "Downloading:   0%|          | 0.00/226k [00:00<?, ?B/s]"
      ]
     },
     "metadata": {},
     "output_type": "display_data"
    },
    {
     "data": {
      "application/vnd.jupyter.widget-view+json": {
       "model_id": "3d3aa65f6c9a42f5a8f6b5120261290d",
       "version_major": 2,
       "version_minor": 0
      },
      "text/plain": [
       "Downloading:   0%|          | 0.00/112 [00:00<?, ?B/s]"
      ]
     },
     "metadata": {},
     "output_type": "display_data"
    }
   ],
   "source": [
    "pipe = pipeline(task='ner', model=\"dslim/bert-base-NER-uncased\")"
   ]
  },
  {
   "cell_type": "code",
   "execution_count": 109,
   "id": "888fc13f",
   "metadata": {
    "execution": {
     "iopub.execute_input": "2022-05-31T14:33:34.736345Z",
     "iopub.status.busy": "2022-05-31T14:33:34.735351Z",
     "iopub.status.idle": "2022-05-31T14:33:35.237458Z",
     "shell.execute_reply": "2022-05-31T14:33:35.236278Z"
    },
    "papermill": {
     "duration": 0.571847,
     "end_time": "2022-05-31T14:33:35.240508",
     "exception": false,
     "start_time": "2022-05-31T14:33:34.668661",
     "status": "completed"
    },
    "tags": []
   },
   "outputs": [
    {
     "data": {
      "text/plain": [
       "[{'entity': 'B-PER',\n",
       "  'score': 0.994024,\n",
       "  'index': 6,\n",
       "  'word': 'anne',\n",
       "  'start': 14,\n",
       "  'end': 18},\n",
       " {'entity': 'I-PER',\n",
       "  'score': 0.9914391,\n",
       "  'index': 7,\n",
       "  'word': 'h',\n",
       "  'start': 19,\n",
       "  'end': 20},\n",
       " {'entity': 'I-PER',\n",
       "  'score': 0.94614685,\n",
       "  'index': 8,\n",
       "  'word': '.',\n",
       "  'start': 20,\n",
       "  'end': 21},\n",
       " {'entity': 'I-PER',\n",
       "  'score': 0.9913291,\n",
       "  'index': 9,\n",
       "  'word': 'elliott',\n",
       "  'start': 22,\n",
       "  'end': 29},\n",
       " {'entity': 'B-PER',\n",
       "  'score': 0.99484974,\n",
       "  'index': 24,\n",
       "  'word': 'andrew',\n",
       "  'start': 107,\n",
       "  'end': 113}]"
      ]
     },
     "execution_count": 109,
     "metadata": {},
     "output_type": "execute_result"
    }
   ],
   "source": [
    "L=[]\n",
    "for ent in pipe(data[\"transcription_text\"][0]):\n",
    "    L.append(ent)\n",
    "L[:5]"
   ]
  },
  {
   "cell_type": "code",
   "execution_count": null,
   "id": "d7aae65a",
   "metadata": {
    "papermill": {
     "duration": 0.064827,
     "end_time": "2022-05-31T14:33:35.371886",
     "exception": false,
     "start_time": "2022-05-31T14:33:35.307059",
     "status": "completed"
    },
    "tags": []
   },
   "outputs": [],
   "source": []
  }
 ],
 "metadata": {
  "kernelspec": {
   "display_name": "Python 3",
   "language": "python",
   "name": "python3"
  },
  "language_info": {
   "codemirror_mode": {
    "name": "ipython",
    "version": 3
   },
   "file_extension": ".py",
   "mimetype": "text/x-python",
   "name": "python",
   "nbconvert_exporter": "python",
   "pygments_lexer": "ipython3",
   "version": "3.7.12"
  },
  "papermill": {
   "default_parameters": {},
   "duration": 341.920481,
   "end_time": "2022-05-31T14:33:39.220016",
   "environment_variables": {},
   "exception": null,
   "input_path": "__notebook__.ipynb",
   "output_path": "__notebook__.ipynb",
   "parameters": {},
   "start_time": "2022-05-31T14:27:57.299535",
   "version": "2.3.4"
  },
  "widgets": {
   "application/vnd.jupyter.widget-state+json": {
    "state": {
     "01cdd51b52cf44efa8ad41d4f22417e2": {
      "model_module": "@jupyter-widgets/controls",
      "model_module_version": "1.5.0",
      "model_name": "DescriptionStyleModel",
      "state": {
       "_model_module": "@jupyter-widgets/controls",
       "_model_module_version": "1.5.0",
       "_model_name": "DescriptionStyleModel",
       "_view_count": null,
       "_view_module": "@jupyter-widgets/base",
       "_view_module_version": "1.2.0",
       "_view_name": "StyleView",
       "description_width": ""
      }
     },
     "01d42af091a5440093463d0591cbfa15": {
      "model_module": "@jupyter-widgets/controls",
      "model_module_version": "1.5.0",
      "model_name": "HBoxModel",
      "state": {
       "_dom_classes": [],
       "_model_module": "@jupyter-widgets/controls",
       "_model_module_version": "1.5.0",
       "_model_name": "HBoxModel",
       "_view_count": null,
       "_view_module": "@jupyter-widgets/controls",
       "_view_module_version": "1.5.0",
       "_view_name": "HBoxView",
       "box_style": "",
       "children": [
        "IPY_MODEL_7ceb6d9123824892ab03b211d722fa79",
        "IPY_MODEL_93cb493c4fcb4b91bde18837aababe62",
        "IPY_MODEL_477a48a2a1904f92a9a7fc2c6dde7ac2"
       ],
       "layout": "IPY_MODEL_ee6e44a5be724d3f978d104532b99900"
      }
     },
     "01ecb02930f94b8faeb5a22a5bf328f8": {
      "model_module": "@jupyter-widgets/controls",
      "model_module_version": "1.5.0",
      "model_name": "ProgressStyleModel",
      "state": {
       "_model_module": "@jupyter-widgets/controls",
       "_model_module_version": "1.5.0",
       "_model_name": "ProgressStyleModel",
       "_view_count": null,
       "_view_module": "@jupyter-widgets/base",
       "_view_module_version": "1.2.0",
       "_view_name": "StyleView",
       "bar_color": null,
       "description_width": ""
      }
     },
     "04e2b8c181c447f8a366f6d078b35d58": {
      "model_module": "@jupyter-widgets/controls",
      "model_module_version": "1.5.0",
      "model_name": "HTMLModel",
      "state": {
       "_dom_classes": [],
       "_model_module": "@jupyter-widgets/controls",
       "_model_module_version": "1.5.0",
       "_model_name": "HTMLModel",
       "_view_count": null,
       "_view_module": "@jupyter-widgets/controls",
       "_view_module_version": "1.5.0",
       "_view_name": "HTMLView",
       "description": "",
       "description_tooltip": null,
       "layout": "IPY_MODEL_1b99ed383ad148da99452b8372729df9",
       "placeholder": "​",
       "style": "IPY_MODEL_786727427e7348e6a3f09a5174d63b07",
       "value": "Downloading: 100%"
      }
     },
     "054afbfeb344452585003c280a7ecc8e": {
      "model_module": "@jupyter-widgets/controls",
      "model_module_version": "1.5.0",
      "model_name": "FloatProgressModel",
      "state": {
       "_dom_classes": [],
       "_model_module": "@jupyter-widgets/controls",
       "_model_module_version": "1.5.0",
       "_model_name": "FloatProgressModel",
       "_view_count": null,
       "_view_module": "@jupyter-widgets/controls",
       "_view_module_version": "1.5.0",
       "_view_name": "ProgressView",
       "bar_style": "success",
       "description": "",
       "description_tooltip": null,
       "layout": "IPY_MODEL_75684ba13cf646f6881ad036a73f65b4",
       "max": 112.0,
       "min": 0.0,
       "orientation": "horizontal",
       "style": "IPY_MODEL_ff378029d2b6465c97174ce7738161a4",
       "value": 112.0
      }
     },
     "061fa6f82ada4b9cb7a7cf1396a3827f": {
      "model_module": "@jupyter-widgets/controls",
      "model_module_version": "1.5.0",
      "model_name": "DescriptionStyleModel",
      "state": {
       "_model_module": "@jupyter-widgets/controls",
       "_model_module_version": "1.5.0",
       "_model_name": "DescriptionStyleModel",
       "_view_count": null,
       "_view_module": "@jupyter-widgets/base",
       "_view_module_version": "1.2.0",
       "_view_name": "StyleView",
       "description_width": ""
      }
     },
     "06459ade0f3d4605a37eb88ef1f36d78": {
      "model_module": "@jupyter-widgets/base",
      "model_module_version": "1.2.0",
      "model_name": "LayoutModel",
      "state": {
       "_model_module": "@jupyter-widgets/base",
       "_model_module_version": "1.2.0",
       "_model_name": "LayoutModel",
       "_view_count": null,
       "_view_module": "@jupyter-widgets/base",
       "_view_module_version": "1.2.0",
       "_view_name": "LayoutView",
       "align_content": null,
       "align_items": null,
       "align_self": null,
       "border": null,
       "bottom": null,
       "display": null,
       "flex": null,
       "flex_flow": null,
       "grid_area": null,
       "grid_auto_columns": null,
       "grid_auto_flow": null,
       "grid_auto_rows": null,
       "grid_column": null,
       "grid_gap": null,
       "grid_row": null,
       "grid_template_areas": null,
       "grid_template_columns": null,
       "grid_template_rows": null,
       "height": null,
       "justify_content": null,
       "justify_items": null,
       "left": null,
       "margin": null,
       "max_height": null,
       "max_width": null,
       "min_height": null,
       "min_width": null,
       "object_fit": null,
       "object_position": null,
       "order": null,
       "overflow": null,
       "overflow_x": null,
       "overflow_y": null,
       "padding": null,
       "right": null,
       "top": null,
       "visibility": null,
       "width": null
      }
     },
     "06c66e8ebc7e4f89a92eeda1d788cd79": {
      "model_module": "@jupyter-widgets/controls",
      "model_module_version": "1.5.0",
      "model_name": "HTMLModel",
      "state": {
       "_dom_classes": [],
       "_model_module": "@jupyter-widgets/controls",
       "_model_module_version": "1.5.0",
       "_model_name": "HTMLModel",
       "_view_count": null,
       "_view_module": "@jupyter-widgets/controls",
       "_view_module_version": "1.5.0",
       "_view_name": "HTMLView",
       "description": "",
       "description_tooltip": null,
       "layout": "IPY_MODEL_dd3e69e9cfb44e07977ffb56d502a1ec",
       "placeholder": "​",
       "style": "IPY_MODEL_279b7c8081954d39b9859295a8c78e5f",
       "value": " 112/112 [00:00&lt;00:00, 4.17kB/s]"
      }
     },
     "06cb79beb849418a8b070ad56353f522": {
      "model_module": "@jupyter-widgets/controls",
      "model_module_version": "1.5.0",
      "model_name": "DescriptionStyleModel",
      "state": {
       "_model_module": "@jupyter-widgets/controls",
       "_model_module_version": "1.5.0",
       "_model_name": "DescriptionStyleModel",
       "_view_count": null,
       "_view_module": "@jupyter-widgets/base",
       "_view_module_version": "1.2.0",
       "_view_name": "StyleView",
       "description_width": ""
      }
     },
     "0af888ed9a7f46a3b919ccfba6619322": {
      "model_module": "@jupyter-widgets/controls",
      "model_module_version": "1.5.0",
      "model_name": "DescriptionStyleModel",
      "state": {
       "_model_module": "@jupyter-widgets/controls",
       "_model_module_version": "1.5.0",
       "_model_name": "DescriptionStyleModel",
       "_view_count": null,
       "_view_module": "@jupyter-widgets/base",
       "_view_module_version": "1.2.0",
       "_view_name": "StyleView",
       "description_width": ""
      }
     },
     "0d207056f63348bcb1f6e621481bc93a": {
      "model_module": "@jupyter-widgets/base",
      "model_module_version": "1.2.0",
      "model_name": "LayoutModel",
      "state": {
       "_model_module": "@jupyter-widgets/base",
       "_model_module_version": "1.2.0",
       "_model_name": "LayoutModel",
       "_view_count": null,
       "_view_module": "@jupyter-widgets/base",
       "_view_module_version": "1.2.0",
       "_view_name": "LayoutView",
       "align_content": null,
       "align_items": null,
       "align_self": null,
       "border": null,
       "bottom": null,
       "display": null,
       "flex": null,
       "flex_flow": null,
       "grid_area": null,
       "grid_auto_columns": null,
       "grid_auto_flow": null,
       "grid_auto_rows": null,
       "grid_column": null,
       "grid_gap": null,
       "grid_row": null,
       "grid_template_areas": null,
       "grid_template_columns": null,
       "grid_template_rows": null,
       "height": null,
       "justify_content": null,
       "justify_items": null,
       "left": null,
       "margin": null,
       "max_height": null,
       "max_width": null,
       "min_height": null,
       "min_width": null,
       "object_fit": null,
       "object_position": null,
       "order": null,
       "overflow": null,
       "overflow_x": null,
       "overflow_y": null,
       "padding": null,
       "right": null,
       "top": null,
       "visibility": null,
       "width": null
      }
     },
     "0d9f5d62fdd34ac6b6f33ddca610083c": {
      "model_module": "@jupyter-widgets/controls",
      "model_module_version": "1.5.0",
      "model_name": "HTMLModel",
      "state": {
       "_dom_classes": [],
       "_model_module": "@jupyter-widgets/controls",
       "_model_module_version": "1.5.0",
       "_model_name": "HTMLModel",
       "_view_count": null,
       "_view_module": "@jupyter-widgets/controls",
       "_view_module_version": "1.5.0",
       "_view_name": "HTMLView",
       "description": "",
       "description_tooltip": null,
       "layout": "IPY_MODEL_06459ade0f3d4605a37eb88ef1f36d78",
       "placeholder": "​",
       "style": "IPY_MODEL_a277faf5a01e44b89d591b86d0f25952",
       "value": "Downloading: 100%"
      }
     },
     "0f86209acebd445ca5733f2ee1e5f4be": {
      "model_module": "@jupyter-widgets/base",
      "model_module_version": "1.2.0",
      "model_name": "LayoutModel",
      "state": {
       "_model_module": "@jupyter-widgets/base",
       "_model_module_version": "1.2.0",
       "_model_name": "LayoutModel",
       "_view_count": null,
       "_view_module": "@jupyter-widgets/base",
       "_view_module_version": "1.2.0",
       "_view_name": "LayoutView",
       "align_content": null,
       "align_items": null,
       "align_self": null,
       "border": null,
       "bottom": null,
       "display": null,
       "flex": null,
       "flex_flow": null,
       "grid_area": null,
       "grid_auto_columns": null,
       "grid_auto_flow": null,
       "grid_auto_rows": null,
       "grid_column": null,
       "grid_gap": null,
       "grid_row": null,
       "grid_template_areas": null,
       "grid_template_columns": null,
       "grid_template_rows": null,
       "height": null,
       "justify_content": null,
       "justify_items": null,
       "left": null,
       "margin": null,
       "max_height": null,
       "max_width": null,
       "min_height": null,
       "min_width": null,
       "object_fit": null,
       "object_position": null,
       "order": null,
       "overflow": null,
       "overflow_x": null,
       "overflow_y": null,
       "padding": null,
       "right": null,
       "top": null,
       "visibility": null,
       "width": null
      }
     },
     "110c9752a84c4c189067cdfb53e5298b": {
      "model_module": "@jupyter-widgets/controls",
      "model_module_version": "1.5.0",
      "model_name": "ProgressStyleModel",
      "state": {
       "_model_module": "@jupyter-widgets/controls",
       "_model_module_version": "1.5.0",
       "_model_name": "ProgressStyleModel",
       "_view_count": null,
       "_view_module": "@jupyter-widgets/base",
       "_view_module_version": "1.2.0",
       "_view_name": "StyleView",
       "bar_color": null,
       "description_width": ""
      }
     },
     "135e2537e2c14848937bc233020a8a9c": {
      "model_module": "@jupyter-widgets/controls",
      "model_module_version": "1.5.0",
      "model_name": "FloatProgressModel",
      "state": {
       "_dom_classes": [],
       "_model_module": "@jupyter-widgets/controls",
       "_model_module_version": "1.5.0",
       "_model_name": "FloatProgressModel",
       "_view_count": null,
       "_view_module": "@jupyter-widgets/controls",
       "_view_module_version": "1.5.0",
       "_view_name": "ProgressView",
       "bar_style": "success",
       "description": "",
       "description_tooltip": null,
       "layout": "IPY_MODEL_8898be5a2c564acb974f6fad555bed02",
       "max": 60.0,
       "min": 0.0,
       "orientation": "horizontal",
       "style": "IPY_MODEL_cc95fb07904040d797d2b59e0f3abaa8",
       "value": 60.0
      }
     },
     "1506070217c04341a408992d123de565": {
      "model_module": "@jupyter-widgets/controls",
      "model_module_version": "1.5.0",
      "model_name": "HTMLModel",
      "state": {
       "_dom_classes": [],
       "_model_module": "@jupyter-widgets/controls",
       "_model_module_version": "1.5.0",
       "_model_name": "HTMLModel",
       "_view_count": null,
       "_view_module": "@jupyter-widgets/controls",
       "_view_module_version": "1.5.0",
       "_view_name": "HTMLView",
       "description": "",
       "description_tooltip": null,
       "layout": "IPY_MODEL_287766cae6d54e639c84bfb75630c5f9",
       "placeholder": "​",
       "style": "IPY_MODEL_cf3d11a2033c4b599a2658cf9e434a97",
       "value": " 1.23k/1.23k [00:00&lt;00:00, 43.1kB/s]"
      }
     },
     "16be56c716f74347a8f805cd82d4bb8d": {
      "model_module": "@jupyter-widgets/controls",
      "model_module_version": "1.5.0",
      "model_name": "HTMLModel",
      "state": {
       "_dom_classes": [],
       "_model_module": "@jupyter-widgets/controls",
       "_model_module_version": "1.5.0",
       "_model_name": "HTMLModel",
       "_view_count": null,
       "_view_module": "@jupyter-widgets/controls",
       "_view_module_version": "1.5.0",
       "_view_name": "HTMLView",
       "description": "",
       "description_tooltip": null,
       "layout": "IPY_MODEL_ff93ec02f5644caeba129a3c6b8fde0b",
       "placeholder": "​",
       "style": "IPY_MODEL_5a19c16dcd8f42f0bac753669ed2c29b",
       "value": " 60.0/60.0 [00:00&lt;00:00, 2.18kB/s]"
      }
     },
     "1836f82a9ce64bbb9c9b96e68db4a18a": {
      "model_module": "@jupyter-widgets/controls",
      "model_module_version": "1.5.0",
      "model_name": "HTMLModel",
      "state": {
       "_dom_classes": [],
       "_model_module": "@jupyter-widgets/controls",
       "_model_module_version": "1.5.0",
       "_model_name": "HTMLModel",
       "_view_count": null,
       "_view_module": "@jupyter-widgets/controls",
       "_view_module_version": "1.5.0",
       "_view_name": "HTMLView",
       "description": "",
       "description_tooltip": null,
       "layout": "IPY_MODEL_935a66101cbc4601ace26c9424ae6e0b",
       "placeholder": "​",
       "style": "IPY_MODEL_a528ddb3110d4f438a1507bb5c7e1cc7",
       "value": " 226k/226k [00:00&lt;00:00, 2.36MB/s]"
      }
     },
     "1b99ed383ad148da99452b8372729df9": {
      "model_module": "@jupyter-widgets/base",
      "model_module_version": "1.2.0",
      "model_name": "LayoutModel",
      "state": {
       "_model_module": "@jupyter-widgets/base",
       "_model_module_version": "1.2.0",
       "_model_name": "LayoutModel",
       "_view_count": null,
       "_view_module": "@jupyter-widgets/base",
       "_view_module_version": "1.2.0",
       "_view_name": "LayoutView",
       "align_content": null,
       "align_items": null,
       "align_self": null,
       "border": null,
       "bottom": null,
       "display": null,
       "flex": null,
       "flex_flow": null,
       "grid_area": null,
       "grid_auto_columns": null,
       "grid_auto_flow": null,
       "grid_auto_rows": null,
       "grid_column": null,
       "grid_gap": null,
       "grid_row": null,
       "grid_template_areas": null,
       "grid_template_columns": null,
       "grid_template_rows": null,
       "height": null,
       "justify_content": null,
       "justify_items": null,
       "left": null,
       "margin": null,
       "max_height": null,
       "max_width": null,
       "min_height": null,
       "min_width": null,
       "object_fit": null,
       "object_position": null,
       "order": null,
       "overflow": null,
       "overflow_x": null,
       "overflow_y": null,
       "padding": null,
       "right": null,
       "top": null,
       "visibility": null,
       "width": null
      }
     },
     "1cb7b12ca3dc433e92ccbb001de22b2a": {
      "model_module": "@jupyter-widgets/controls",
      "model_module_version": "1.5.0",
      "model_name": "DescriptionStyleModel",
      "state": {
       "_model_module": "@jupyter-widgets/controls",
       "_model_module_version": "1.5.0",
       "_model_name": "DescriptionStyleModel",
       "_view_count": null,
       "_view_module": "@jupyter-widgets/base",
       "_view_module_version": "1.2.0",
       "_view_name": "StyleView",
       "description_width": ""
      }
     },
     "209c5f80b1fc4e0a86ce0ba9d51a787e": {
      "model_module": "@jupyter-widgets/controls",
      "model_module_version": "1.5.0",
      "model_name": "HTMLModel",
      "state": {
       "_dom_classes": [],
       "_model_module": "@jupyter-widgets/controls",
       "_model_module_version": "1.5.0",
       "_model_name": "HTMLModel",
       "_view_count": null,
       "_view_module": "@jupyter-widgets/controls",
       "_view_module_version": "1.5.0",
       "_view_name": "HTMLView",
       "description": "",
       "description_tooltip": null,
       "layout": "IPY_MODEL_8b16b6572a944e4aa6b2ec6caa5c02d1",
       "placeholder": "​",
       "style": "IPY_MODEL_01cdd51b52cf44efa8ad41d4f22417e2",
       "value": " 418M/418M [00:13&lt;00:00, 32.7MB/s]"
      }
     },
     "21e542211064421d825b4986cfff5f98": {
      "model_module": "@jupyter-widgets/controls",
      "model_module_version": "1.5.0",
      "model_name": "DescriptionStyleModel",
      "state": {
       "_model_module": "@jupyter-widgets/controls",
       "_model_module_version": "1.5.0",
       "_model_name": "DescriptionStyleModel",
       "_view_count": null,
       "_view_module": "@jupyter-widgets/base",
       "_view_module_version": "1.2.0",
       "_view_name": "StyleView",
       "description_width": ""
      }
     },
     "2228783d4d0e4e719802368a9e24b82a": {
      "model_module": "@jupyter-widgets/base",
      "model_module_version": "1.2.0",
      "model_name": "LayoutModel",
      "state": {
       "_model_module": "@jupyter-widgets/base",
       "_model_module_version": "1.2.0",
       "_model_name": "LayoutModel",
       "_view_count": null,
       "_view_module": "@jupyter-widgets/base",
       "_view_module_version": "1.2.0",
       "_view_name": "LayoutView",
       "align_content": null,
       "align_items": null,
       "align_self": null,
       "border": null,
       "bottom": null,
       "display": null,
       "flex": null,
       "flex_flow": null,
       "grid_area": null,
       "grid_auto_columns": null,
       "grid_auto_flow": null,
       "grid_auto_rows": null,
       "grid_column": null,
       "grid_gap": null,
       "grid_row": null,
       "grid_template_areas": null,
       "grid_template_columns": null,
       "grid_template_rows": null,
       "height": null,
       "justify_content": null,
       "justify_items": null,
       "left": null,
       "margin": null,
       "max_height": null,
       "max_width": null,
       "min_height": null,
       "min_width": null,
       "object_fit": null,
       "object_position": null,
       "order": null,
       "overflow": null,
       "overflow_x": null,
       "overflow_y": null,
       "padding": null,
       "right": null,
       "top": null,
       "visibility": null,
       "width": null
      }
     },
     "24ee947bbe6441699b113ae802fc8e0a": {
      "model_module": "@jupyter-widgets/base",
      "model_module_version": "1.2.0",
      "model_name": "LayoutModel",
      "state": {
       "_model_module": "@jupyter-widgets/base",
       "_model_module_version": "1.2.0",
       "_model_name": "LayoutModel",
       "_view_count": null,
       "_view_module": "@jupyter-widgets/base",
       "_view_module_version": "1.2.0",
       "_view_name": "LayoutView",
       "align_content": null,
       "align_items": null,
       "align_self": null,
       "border": null,
       "bottom": null,
       "display": null,
       "flex": null,
       "flex_flow": null,
       "grid_area": null,
       "grid_auto_columns": null,
       "grid_auto_flow": null,
       "grid_auto_rows": null,
       "grid_column": null,
       "grid_gap": null,
       "grid_row": null,
       "grid_template_areas": null,
       "grid_template_columns": null,
       "grid_template_rows": null,
       "height": null,
       "justify_content": null,
       "justify_items": null,
       "left": null,
       "margin": null,
       "max_height": null,
       "max_width": null,
       "min_height": null,
       "min_width": null,
       "object_fit": null,
       "object_position": null,
       "order": null,
       "overflow": null,
       "overflow_x": null,
       "overflow_y": null,
       "padding": null,
       "right": null,
       "top": null,
       "visibility": null,
       "width": null
      }
     },
     "26a1478ce03e48b087d9f61e5c5ef4c0": {
      "model_module": "@jupyter-widgets/base",
      "model_module_version": "1.2.0",
      "model_name": "LayoutModel",
      "state": {
       "_model_module": "@jupyter-widgets/base",
       "_model_module_version": "1.2.0",
       "_model_name": "LayoutModel",
       "_view_count": null,
       "_view_module": "@jupyter-widgets/base",
       "_view_module_version": "1.2.0",
       "_view_name": "LayoutView",
       "align_content": null,
       "align_items": null,
       "align_self": null,
       "border": null,
       "bottom": null,
       "display": null,
       "flex": null,
       "flex_flow": null,
       "grid_area": null,
       "grid_auto_columns": null,
       "grid_auto_flow": null,
       "grid_auto_rows": null,
       "grid_column": null,
       "grid_gap": null,
       "grid_row": null,
       "grid_template_areas": null,
       "grid_template_columns": null,
       "grid_template_rows": null,
       "height": null,
       "justify_content": null,
       "justify_items": null,
       "left": null,
       "margin": null,
       "max_height": null,
       "max_width": null,
       "min_height": null,
       "min_width": null,
       "object_fit": null,
       "object_position": null,
       "order": null,
       "overflow": null,
       "overflow_x": null,
       "overflow_y": null,
       "padding": null,
       "right": null,
       "top": null,
       "visibility": null,
       "width": null
      }
     },
     "279b7c8081954d39b9859295a8c78e5f": {
      "model_module": "@jupyter-widgets/controls",
      "model_module_version": "1.5.0",
      "model_name": "DescriptionStyleModel",
      "state": {
       "_model_module": "@jupyter-widgets/controls",
       "_model_module_version": "1.5.0",
       "_model_name": "DescriptionStyleModel",
       "_view_count": null,
       "_view_module": "@jupyter-widgets/base",
       "_view_module_version": "1.2.0",
       "_view_name": "StyleView",
       "description_width": ""
      }
     },
     "287766cae6d54e639c84bfb75630c5f9": {
      "model_module": "@jupyter-widgets/base",
      "model_module_version": "1.2.0",
      "model_name": "LayoutModel",
      "state": {
       "_model_module": "@jupyter-widgets/base",
       "_model_module_version": "1.2.0",
       "_model_name": "LayoutModel",
       "_view_count": null,
       "_view_module": "@jupyter-widgets/base",
       "_view_module_version": "1.2.0",
       "_view_name": "LayoutView",
       "align_content": null,
       "align_items": null,
       "align_self": null,
       "border": null,
       "bottom": null,
       "display": null,
       "flex": null,
       "flex_flow": null,
       "grid_area": null,
       "grid_auto_columns": null,
       "grid_auto_flow": null,
       "grid_auto_rows": null,
       "grid_column": null,
       "grid_gap": null,
       "grid_row": null,
       "grid_template_areas": null,
       "grid_template_columns": null,
       "grid_template_rows": null,
       "height": null,
       "justify_content": null,
       "justify_items": null,
       "left": null,
       "margin": null,
       "max_height": null,
       "max_width": null,
       "min_height": null,
       "min_width": null,
       "object_fit": null,
       "object_position": null,
       "order": null,
       "overflow": null,
       "overflow_x": null,
       "overflow_y": null,
       "padding": null,
       "right": null,
       "top": null,
       "visibility": null,
       "width": null
      }
     },
     "2e95b51e0c8140ba8269857820ce7349": {
      "model_module": "@jupyter-widgets/controls",
      "model_module_version": "1.5.0",
      "model_name": "ProgressStyleModel",
      "state": {
       "_model_module": "@jupyter-widgets/controls",
       "_model_module_version": "1.5.0",
       "_model_name": "ProgressStyleModel",
       "_view_count": null,
       "_view_module": "@jupyter-widgets/base",
       "_view_module_version": "1.2.0",
       "_view_name": "StyleView",
       "bar_color": null,
       "description_width": ""
      }
     },
     "316b3d4648ed4796aa3f1dc6ac95a0cf": {
      "model_module": "@jupyter-widgets/base",
      "model_module_version": "1.2.0",
      "model_name": "LayoutModel",
      "state": {
       "_model_module": "@jupyter-widgets/base",
       "_model_module_version": "1.2.0",
       "_model_name": "LayoutModel",
       "_view_count": null,
       "_view_module": "@jupyter-widgets/base",
       "_view_module_version": "1.2.0",
       "_view_name": "LayoutView",
       "align_content": null,
       "align_items": null,
       "align_self": null,
       "border": null,
       "bottom": null,
       "display": null,
       "flex": null,
       "flex_flow": null,
       "grid_area": null,
       "grid_auto_columns": null,
       "grid_auto_flow": null,
       "grid_auto_rows": null,
       "grid_column": null,
       "grid_gap": null,
       "grid_row": null,
       "grid_template_areas": null,
       "grid_template_columns": null,
       "grid_template_rows": null,
       "height": null,
       "justify_content": null,
       "justify_items": null,
       "left": null,
       "margin": null,
       "max_height": null,
       "max_width": null,
       "min_height": null,
       "min_width": null,
       "object_fit": null,
       "object_position": null,
       "order": null,
       "overflow": null,
       "overflow_x": null,
       "overflow_y": null,
       "padding": null,
       "right": null,
       "top": null,
       "visibility": null,
       "width": null
      }
     },
     "34b5ac25bc3b47c7b145163da1b11c5c": {
      "model_module": "@jupyter-widgets/controls",
      "model_module_version": "1.5.0",
      "model_name": "ProgressStyleModel",
      "state": {
       "_model_module": "@jupyter-widgets/controls",
       "_model_module_version": "1.5.0",
       "_model_name": "ProgressStyleModel",
       "_view_count": null,
       "_view_module": "@jupyter-widgets/base",
       "_view_module_version": "1.2.0",
       "_view_name": "StyleView",
       "bar_color": null,
       "description_width": ""
      }
     },
     "3890b0707865435c88a68ba9c86ad466": {
      "model_module": "@jupyter-widgets/base",
      "model_module_version": "1.2.0",
      "model_name": "LayoutModel",
      "state": {
       "_model_module": "@jupyter-widgets/base",
       "_model_module_version": "1.2.0",
       "_model_name": "LayoutModel",
       "_view_count": null,
       "_view_module": "@jupyter-widgets/base",
       "_view_module_version": "1.2.0",
       "_view_name": "LayoutView",
       "align_content": null,
       "align_items": null,
       "align_self": null,
       "border": null,
       "bottom": null,
       "display": null,
       "flex": null,
       "flex_flow": null,
       "grid_area": null,
       "grid_auto_columns": null,
       "grid_auto_flow": null,
       "grid_auto_rows": null,
       "grid_column": null,
       "grid_gap": null,
       "grid_row": null,
       "grid_template_areas": null,
       "grid_template_columns": null,
       "grid_template_rows": null,
       "height": null,
       "justify_content": null,
       "justify_items": null,
       "left": null,
       "margin": null,
       "max_height": null,
       "max_width": null,
       "min_height": null,
       "min_width": null,
       "object_fit": null,
       "object_position": null,
       "order": null,
       "overflow": null,
       "overflow_x": null,
       "overflow_y": null,
       "padding": null,
       "right": null,
       "top": null,
       "visibility": null,
       "width": null
      }
     },
     "3d3aa65f6c9a42f5a8f6b5120261290d": {
      "model_module": "@jupyter-widgets/controls",
      "model_module_version": "1.5.0",
      "model_name": "HBoxModel",
      "state": {
       "_dom_classes": [],
       "_model_module": "@jupyter-widgets/controls",
       "_model_module_version": "1.5.0",
       "_model_name": "HBoxModel",
       "_view_count": null,
       "_view_module": "@jupyter-widgets/controls",
       "_view_module_version": "1.5.0",
       "_view_name": "HBoxView",
       "box_style": "",
       "children": [
        "IPY_MODEL_df9c8a2961fc4aada99c63a2b0a2c63b",
        "IPY_MODEL_054afbfeb344452585003c280a7ecc8e",
        "IPY_MODEL_06c66e8ebc7e4f89a92eeda1d788cd79"
       ],
       "layout": "IPY_MODEL_26a1478ce03e48b087d9f61e5c5ef4c0"
      }
     },
     "3e3c26e6cdad42a79a349599fa647c07": {
      "model_module": "@jupyter-widgets/base",
      "model_module_version": "1.2.0",
      "model_name": "LayoutModel",
      "state": {
       "_model_module": "@jupyter-widgets/base",
       "_model_module_version": "1.2.0",
       "_model_name": "LayoutModel",
       "_view_count": null,
       "_view_module": "@jupyter-widgets/base",
       "_view_module_version": "1.2.0",
       "_view_name": "LayoutView",
       "align_content": null,
       "align_items": null,
       "align_self": null,
       "border": null,
       "bottom": null,
       "display": null,
       "flex": null,
       "flex_flow": null,
       "grid_area": null,
       "grid_auto_columns": null,
       "grid_auto_flow": null,
       "grid_auto_rows": null,
       "grid_column": null,
       "grid_gap": null,
       "grid_row": null,
       "grid_template_areas": null,
       "grid_template_columns": null,
       "grid_template_rows": null,
       "height": null,
       "justify_content": null,
       "justify_items": null,
       "left": null,
       "margin": null,
       "max_height": null,
       "max_width": null,
       "min_height": null,
       "min_width": null,
       "object_fit": null,
       "object_position": null,
       "order": null,
       "overflow": null,
       "overflow_x": null,
       "overflow_y": null,
       "padding": null,
       "right": null,
       "top": null,
       "visibility": null,
       "width": null
      }
     },
     "3fee252f149d49d5855580dc40eb0ec5": {
      "model_module": "@jupyter-widgets/controls",
      "model_module_version": "1.5.0",
      "model_name": "FloatProgressModel",
      "state": {
       "_dom_classes": [],
       "_model_module": "@jupyter-widgets/controls",
       "_model_module_version": "1.5.0",
       "_model_name": "FloatProgressModel",
       "_view_count": null,
       "_view_module": "@jupyter-widgets/controls",
       "_view_module_version": "1.5.0",
       "_view_name": "ProgressView",
       "bar_style": "success",
       "description": "",
       "description_tooltip": null,
       "layout": "IPY_MODEL_a2ae3b7bce3e4d21a88ef8abb9678c47",
       "max": 231508.0,
       "min": 0.0,
       "orientation": "horizontal",
       "style": "IPY_MODEL_34b5ac25bc3b47c7b145163da1b11c5c",
       "value": 231508.0
      }
     },
     "40aa59a7152c4e0ba34b0e819a793136": {
      "model_module": "@jupyter-widgets/base",
      "model_module_version": "1.2.0",
      "model_name": "LayoutModel",
      "state": {
       "_model_module": "@jupyter-widgets/base",
       "_model_module_version": "1.2.0",
       "_model_name": "LayoutModel",
       "_view_count": null,
       "_view_module": "@jupyter-widgets/base",
       "_view_module_version": "1.2.0",
       "_view_name": "LayoutView",
       "align_content": null,
       "align_items": null,
       "align_self": null,
       "border": null,
       "bottom": null,
       "display": null,
       "flex": null,
       "flex_flow": null,
       "grid_area": null,
       "grid_auto_columns": null,
       "grid_auto_flow": null,
       "grid_auto_rows": null,
       "grid_column": null,
       "grid_gap": null,
       "grid_row": null,
       "grid_template_areas": null,
       "grid_template_columns": null,
       "grid_template_rows": null,
       "height": null,
       "justify_content": null,
       "justify_items": null,
       "left": null,
       "margin": null,
       "max_height": null,
       "max_width": null,
       "min_height": null,
       "min_width": null,
       "object_fit": null,
       "object_position": null,
       "order": null,
       "overflow": null,
       "overflow_x": null,
       "overflow_y": null,
       "padding": null,
       "right": null,
       "top": null,
       "visibility": null,
       "width": null
      }
     },
     "43a9ae01a621473191a97fe8df4e20b2": {
      "model_module": "@jupyter-widgets/base",
      "model_module_version": "1.2.0",
      "model_name": "LayoutModel",
      "state": {
       "_model_module": "@jupyter-widgets/base",
       "_model_module_version": "1.2.0",
       "_model_name": "LayoutModel",
       "_view_count": null,
       "_view_module": "@jupyter-widgets/base",
       "_view_module_version": "1.2.0",
       "_view_name": "LayoutView",
       "align_content": null,
       "align_items": null,
       "align_self": null,
       "border": null,
       "bottom": null,
       "display": null,
       "flex": null,
       "flex_flow": null,
       "grid_area": null,
       "grid_auto_columns": null,
       "grid_auto_flow": null,
       "grid_auto_rows": null,
       "grid_column": null,
       "grid_gap": null,
       "grid_row": null,
       "grid_template_areas": null,
       "grid_template_columns": null,
       "grid_template_rows": null,
       "height": null,
       "justify_content": null,
       "justify_items": null,
       "left": null,
       "margin": null,
       "max_height": null,
       "max_width": null,
       "min_height": null,
       "min_width": null,
       "object_fit": null,
       "object_position": null,
       "order": null,
       "overflow": null,
       "overflow_x": null,
       "overflow_y": null,
       "padding": null,
       "right": null,
       "top": null,
       "visibility": null,
       "width": null
      }
     },
     "477a48a2a1904f92a9a7fc2c6dde7ac2": {
      "model_module": "@jupyter-widgets/controls",
      "model_module_version": "1.5.0",
      "model_name": "HTMLModel",
      "state": {
       "_dom_classes": [],
       "_model_module": "@jupyter-widgets/controls",
       "_model_module_version": "1.5.0",
       "_model_name": "HTMLModel",
       "_view_count": null,
       "_view_module": "@jupyter-widgets/controls",
       "_view_module_version": "1.5.0",
       "_view_name": "HTMLView",
       "description": "",
       "description_tooltip": null,
       "layout": "IPY_MODEL_43a9ae01a621473191a97fe8df4e20b2",
       "placeholder": "​",
       "style": "IPY_MODEL_061fa6f82ada4b9cb7a7cf1396a3827f",
       "value": " 998/998 [00:00&lt;00:00, 34.3kB/s]"
      }
     },
     "4a32334540584896958dcf6df7e5e14e": {
      "model_module": "@jupyter-widgets/base",
      "model_module_version": "1.2.0",
      "model_name": "LayoutModel",
      "state": {
       "_model_module": "@jupyter-widgets/base",
       "_model_module_version": "1.2.0",
       "_model_name": "LayoutModel",
       "_view_count": null,
       "_view_module": "@jupyter-widgets/base",
       "_view_module_version": "1.2.0",
       "_view_name": "LayoutView",
       "align_content": null,
       "align_items": null,
       "align_self": null,
       "border": null,
       "bottom": null,
       "display": null,
       "flex": null,
       "flex_flow": null,
       "grid_area": null,
       "grid_auto_columns": null,
       "grid_auto_flow": null,
       "grid_auto_rows": null,
       "grid_column": null,
       "grid_gap": null,
       "grid_row": null,
       "grid_template_areas": null,
       "grid_template_columns": null,
       "grid_template_rows": null,
       "height": null,
       "justify_content": null,
       "justify_items": null,
       "left": null,
       "margin": null,
       "max_height": null,
       "max_width": null,
       "min_height": null,
       "min_width": null,
       "object_fit": null,
       "object_position": null,
       "order": null,
       "overflow": null,
       "overflow_x": null,
       "overflow_y": null,
       "padding": null,
       "right": null,
       "top": null,
       "visibility": null,
       "width": null
      }
     },
     "4ad6b7c9b453401f88e3711932183415": {
      "model_module": "@jupyter-widgets/base",
      "model_module_version": "1.2.0",
      "model_name": "LayoutModel",
      "state": {
       "_model_module": "@jupyter-widgets/base",
       "_model_module_version": "1.2.0",
       "_model_name": "LayoutModel",
       "_view_count": null,
       "_view_module": "@jupyter-widgets/base",
       "_view_module_version": "1.2.0",
       "_view_name": "LayoutView",
       "align_content": null,
       "align_items": null,
       "align_self": null,
       "border": null,
       "bottom": null,
       "display": null,
       "flex": null,
       "flex_flow": null,
       "grid_area": null,
       "grid_auto_columns": null,
       "grid_auto_flow": null,
       "grid_auto_rows": null,
       "grid_column": null,
       "grid_gap": null,
       "grid_row": null,
       "grid_template_areas": null,
       "grid_template_columns": null,
       "grid_template_rows": null,
       "height": null,
       "justify_content": null,
       "justify_items": null,
       "left": null,
       "margin": null,
       "max_height": null,
       "max_width": null,
       "min_height": null,
       "min_width": null,
       "object_fit": null,
       "object_position": null,
       "order": null,
       "overflow": null,
       "overflow_x": null,
       "overflow_y": null,
       "padding": null,
       "right": null,
       "top": null,
       "visibility": null,
       "width": null
      }
     },
     "51b74aee3cdf43aebae98b37366a9584": {
      "model_module": "@jupyter-widgets/controls",
      "model_module_version": "1.5.0",
      "model_name": "DescriptionStyleModel",
      "state": {
       "_model_module": "@jupyter-widgets/controls",
       "_model_module_version": "1.5.0",
       "_model_name": "DescriptionStyleModel",
       "_view_count": null,
       "_view_module": "@jupyter-widgets/base",
       "_view_module_version": "1.2.0",
       "_view_name": "StyleView",
       "description_width": ""
      }
     },
     "57cc4831cf55445896efbeada37a8513": {
      "model_module": "@jupyter-widgets/base",
      "model_module_version": "1.2.0",
      "model_name": "LayoutModel",
      "state": {
       "_model_module": "@jupyter-widgets/base",
       "_model_module_version": "1.2.0",
       "_model_name": "LayoutModel",
       "_view_count": null,
       "_view_module": "@jupyter-widgets/base",
       "_view_module_version": "1.2.0",
       "_view_name": "LayoutView",
       "align_content": null,
       "align_items": null,
       "align_self": null,
       "border": null,
       "bottom": null,
       "display": null,
       "flex": null,
       "flex_flow": null,
       "grid_area": null,
       "grid_auto_columns": null,
       "grid_auto_flow": null,
       "grid_auto_rows": null,
       "grid_column": null,
       "grid_gap": null,
       "grid_row": null,
       "grid_template_areas": null,
       "grid_template_columns": null,
       "grid_template_rows": null,
       "height": null,
       "justify_content": null,
       "justify_items": null,
       "left": null,
       "margin": null,
       "max_height": null,
       "max_width": null,
       "min_height": null,
       "min_width": null,
       "object_fit": null,
       "object_position": null,
       "order": null,
       "overflow": null,
       "overflow_x": null,
       "overflow_y": null,
       "padding": null,
       "right": null,
       "top": null,
       "visibility": null,
       "width": null
      }
     },
     "591cb1b8c14047ea84355880c4859fd4": {
      "model_module": "@jupyter-widgets/controls",
      "model_module_version": "1.5.0",
      "model_name": "HTMLModel",
      "state": {
       "_dom_classes": [],
       "_model_module": "@jupyter-widgets/controls",
       "_model_module_version": "1.5.0",
       "_model_name": "HTMLModel",
       "_view_count": null,
       "_view_module": "@jupyter-widgets/controls",
       "_view_module_version": "1.5.0",
       "_view_name": "HTMLView",
       "description": "",
       "description_tooltip": null,
       "layout": "IPY_MODEL_24ee947bbe6441699b113ae802fc8e0a",
       "placeholder": "​",
       "style": "IPY_MODEL_0af888ed9a7f46a3b919ccfba6619322",
       "value": "Downloading: 100%"
      }
     },
     "5a19c16dcd8f42f0bac753669ed2c29b": {
      "model_module": "@jupyter-widgets/controls",
      "model_module_version": "1.5.0",
      "model_name": "DescriptionStyleModel",
      "state": {
       "_model_module": "@jupyter-widgets/controls",
       "_model_module_version": "1.5.0",
       "_model_name": "DescriptionStyleModel",
       "_view_count": null,
       "_view_module": "@jupyter-widgets/base",
       "_view_module_version": "1.2.0",
       "_view_name": "StyleView",
       "description_width": ""
      }
     },
     "6229049f226e411a9731b837a0ab404b": {
      "model_module": "@jupyter-widgets/controls",
      "model_module_version": "1.5.0",
      "model_name": "HTMLModel",
      "state": {
       "_dom_classes": [],
       "_model_module": "@jupyter-widgets/controls",
       "_model_module_version": "1.5.0",
       "_model_name": "HTMLModel",
       "_view_count": null,
       "_view_module": "@jupyter-widgets/controls",
       "_view_module_version": "1.5.0",
       "_view_name": "HTMLView",
       "description": "",
       "description_tooltip": null,
       "layout": "IPY_MODEL_6a2c5b6eeb2245cf97d404b44069c709",
       "placeholder": "​",
       "style": "IPY_MODEL_1cb7b12ca3dc433e92ccbb001de22b2a",
       "value": "Downloading: 100%"
      }
     },
     "6a2c5b6eeb2245cf97d404b44069c709": {
      "model_module": "@jupyter-widgets/base",
      "model_module_version": "1.2.0",
      "model_name": "LayoutModel",
      "state": {
       "_model_module": "@jupyter-widgets/base",
       "_model_module_version": "1.2.0",
       "_model_name": "LayoutModel",
       "_view_count": null,
       "_view_module": "@jupyter-widgets/base",
       "_view_module_version": "1.2.0",
       "_view_name": "LayoutView",
       "align_content": null,
       "align_items": null,
       "align_self": null,
       "border": null,
       "bottom": null,
       "display": null,
       "flex": null,
       "flex_flow": null,
       "grid_area": null,
       "grid_auto_columns": null,
       "grid_auto_flow": null,
       "grid_auto_rows": null,
       "grid_column": null,
       "grid_gap": null,
       "grid_row": null,
       "grid_template_areas": null,
       "grid_template_columns": null,
       "grid_template_rows": null,
       "height": null,
       "justify_content": null,
       "justify_items": null,
       "left": null,
       "margin": null,
       "max_height": null,
       "max_width": null,
       "min_height": null,
       "min_width": null,
       "object_fit": null,
       "object_position": null,
       "order": null,
       "overflow": null,
       "overflow_x": null,
       "overflow_y": null,
       "padding": null,
       "right": null,
       "top": null,
       "visibility": null,
       "width": null
      }
     },
     "6ac7bcb94a2d4c5eb32136fd9e9e8852": {
      "model_module": "@jupyter-widgets/controls",
      "model_module_version": "1.5.0",
      "model_name": "HTMLModel",
      "state": {
       "_dom_classes": [],
       "_model_module": "@jupyter-widgets/controls",
       "_model_module_version": "1.5.0",
       "_model_name": "HTMLModel",
       "_view_count": null,
       "_view_module": "@jupyter-widgets/controls",
       "_view_module_version": "1.5.0",
       "_view_name": "HTMLView",
       "description": "",
       "description_tooltip": null,
       "layout": "IPY_MODEL_e6d4464f7bda41e39d3a5269572463c6",
       "placeholder": "​",
       "style": "IPY_MODEL_7495e19b9cfe4a7faa51cfc2c7239cd4",
       "value": "Downloading: 100%"
      }
     },
     "6b2c546197954a9ab68d6f9d879a3339": {
      "model_module": "@jupyter-widgets/controls",
      "model_module_version": "1.5.0",
      "model_name": "DescriptionStyleModel",
      "state": {
       "_model_module": "@jupyter-widgets/controls",
       "_model_module_version": "1.5.0",
       "_model_name": "DescriptionStyleModel",
       "_view_count": null,
       "_view_module": "@jupyter-widgets/base",
       "_view_module_version": "1.2.0",
       "_view_name": "StyleView",
       "description_width": ""
      }
     },
     "6bf631576eeb4483a9cca28af77462a1": {
      "model_module": "@jupyter-widgets/controls",
      "model_module_version": "1.5.0",
      "model_name": "HTMLModel",
      "state": {
       "_dom_classes": [],
       "_model_module": "@jupyter-widgets/controls",
       "_model_module_version": "1.5.0",
       "_model_name": "HTMLModel",
       "_view_count": null,
       "_view_module": "@jupyter-widgets/controls",
       "_view_module_version": "1.5.0",
       "_view_name": "HTMLView",
       "description": "",
       "description_tooltip": null,
       "layout": "IPY_MODEL_e4d37027dc75435e80ce8a2fce647b2f",
       "placeholder": "​",
       "style": "IPY_MODEL_21e542211064421d825b4986cfff5f98",
       "value": "Downloading: 100%"
      }
     },
     "6fcaa13f9fb24d298459fc16ef3971a3": {
      "model_module": "@jupyter-widgets/base",
      "model_module_version": "1.2.0",
      "model_name": "LayoutModel",
      "state": {
       "_model_module": "@jupyter-widgets/base",
       "_model_module_version": "1.2.0",
       "_model_name": "LayoutModel",
       "_view_count": null,
       "_view_module": "@jupyter-widgets/base",
       "_view_module_version": "1.2.0",
       "_view_name": "LayoutView",
       "align_content": null,
       "align_items": null,
       "align_self": null,
       "border": null,
       "bottom": null,
       "display": null,
       "flex": null,
       "flex_flow": null,
       "grid_area": null,
       "grid_auto_columns": null,
       "grid_auto_flow": null,
       "grid_auto_rows": null,
       "grid_column": null,
       "grid_gap": null,
       "grid_row": null,
       "grid_template_areas": null,
       "grid_template_columns": null,
       "grid_template_rows": null,
       "height": null,
       "justify_content": null,
       "justify_items": null,
       "left": null,
       "margin": null,
       "max_height": null,
       "max_width": null,
       "min_height": null,
       "min_width": null,
       "object_fit": null,
       "object_position": null,
       "order": null,
       "overflow": null,
       "overflow_x": null,
       "overflow_y": null,
       "padding": null,
       "right": null,
       "top": null,
       "visibility": null,
       "width": null
      }
     },
     "7495e19b9cfe4a7faa51cfc2c7239cd4": {
      "model_module": "@jupyter-widgets/controls",
      "model_module_version": "1.5.0",
      "model_name": "DescriptionStyleModel",
      "state": {
       "_model_module": "@jupyter-widgets/controls",
       "_model_module_version": "1.5.0",
       "_model_name": "DescriptionStyleModel",
       "_view_count": null,
       "_view_module": "@jupyter-widgets/base",
       "_view_module_version": "1.2.0",
       "_view_name": "StyleView",
       "description_width": ""
      }
     },
     "75684ba13cf646f6881ad036a73f65b4": {
      "model_module": "@jupyter-widgets/base",
      "model_module_version": "1.2.0",
      "model_name": "LayoutModel",
      "state": {
       "_model_module": "@jupyter-widgets/base",
       "_model_module_version": "1.2.0",
       "_model_name": "LayoutModel",
       "_view_count": null,
       "_view_module": "@jupyter-widgets/base",
       "_view_module_version": "1.2.0",
       "_view_name": "LayoutView",
       "align_content": null,
       "align_items": null,
       "align_self": null,
       "border": null,
       "bottom": null,
       "display": null,
       "flex": null,
       "flex_flow": null,
       "grid_area": null,
       "grid_auto_columns": null,
       "grid_auto_flow": null,
       "grid_auto_rows": null,
       "grid_column": null,
       "grid_gap": null,
       "grid_row": null,
       "grid_template_areas": null,
       "grid_template_columns": null,
       "grid_template_rows": null,
       "height": null,
       "justify_content": null,
       "justify_items": null,
       "left": null,
       "margin": null,
       "max_height": null,
       "max_width": null,
       "min_height": null,
       "min_width": null,
       "object_fit": null,
       "object_position": null,
       "order": null,
       "overflow": null,
       "overflow_x": null,
       "overflow_y": null,
       "padding": null,
       "right": null,
       "top": null,
       "visibility": null,
       "width": null
      }
     },
     "7863a3fefc8d4538bf2514d3f224ce12": {
      "model_module": "@jupyter-widgets/controls",
      "model_module_version": "1.5.0",
      "model_name": "HTMLModel",
      "state": {
       "_dom_classes": [],
       "_model_module": "@jupyter-widgets/controls",
       "_model_module_version": "1.5.0",
       "_model_name": "HTMLModel",
       "_view_count": null,
       "_view_module": "@jupyter-widgets/controls",
       "_view_module_version": "1.5.0",
       "_view_name": "HTMLView",
       "description": "",
       "description_tooltip": null,
       "layout": "IPY_MODEL_0d207056f63348bcb1f6e621481bc93a",
       "placeholder": "​",
       "style": "IPY_MODEL_b3c8b94c5aef4070b773fee11c88609a",
       "value": "Downloading: 100%"
      }
     },
     "786727427e7348e6a3f09a5174d63b07": {
      "model_module": "@jupyter-widgets/controls",
      "model_module_version": "1.5.0",
      "model_name": "DescriptionStyleModel",
      "state": {
       "_model_module": "@jupyter-widgets/controls",
       "_model_module_version": "1.5.0",
       "_model_name": "DescriptionStyleModel",
       "_view_count": null,
       "_view_module": "@jupyter-widgets/base",
       "_view_module_version": "1.2.0",
       "_view_name": "StyleView",
       "description_width": ""
      }
     },
     "7ceb6d9123824892ab03b211d722fa79": {
      "model_module": "@jupyter-widgets/controls",
      "model_module_version": "1.5.0",
      "model_name": "HTMLModel",
      "state": {
       "_dom_classes": [],
       "_model_module": "@jupyter-widgets/controls",
       "_model_module_version": "1.5.0",
       "_model_name": "HTMLModel",
       "_view_count": null,
       "_view_module": "@jupyter-widgets/controls",
       "_view_module_version": "1.5.0",
       "_view_name": "HTMLView",
       "description": "",
       "description_tooltip": null,
       "layout": "IPY_MODEL_6fcaa13f9fb24d298459fc16ef3971a3",
       "placeholder": "​",
       "style": "IPY_MODEL_51b74aee3cdf43aebae98b37366a9584",
       "value": "Downloading: 100%"
      }
     },
     "7e20debbe8924101b7c62f1e3c207a00": {
      "model_module": "@jupyter-widgets/controls",
      "model_module_version": "1.5.0",
      "model_name": "HBoxModel",
      "state": {
       "_dom_classes": [],
       "_model_module": "@jupyter-widgets/controls",
       "_model_module_version": "1.5.0",
       "_model_name": "HBoxModel",
       "_view_count": null,
       "_view_module": "@jupyter-widgets/controls",
       "_view_module_version": "1.5.0",
       "_view_name": "HBoxView",
       "box_style": "",
       "children": [
        "IPY_MODEL_7863a3fefc8d4538bf2514d3f224ce12",
        "IPY_MODEL_bd4826180bce4b86bca05becb1ac88eb",
        "IPY_MODEL_e3dd47f5e1b3437a99e69aa65ac4f4c8"
       ],
       "layout": "IPY_MODEL_0f86209acebd445ca5733f2ee1e5f4be"
      }
     },
     "84f745546c40429489474a81c0faca49": {
      "model_module": "@jupyter-widgets/controls",
      "model_module_version": "1.5.0",
      "model_name": "HBoxModel",
      "state": {
       "_dom_classes": [],
       "_model_module": "@jupyter-widgets/controls",
       "_model_module_version": "1.5.0",
       "_model_name": "HBoxModel",
       "_view_count": null,
       "_view_module": "@jupyter-widgets/controls",
       "_view_module_version": "1.5.0",
       "_view_name": "HBoxView",
       "box_style": "",
       "children": [
        "IPY_MODEL_6ac7bcb94a2d4c5eb32136fd9e9e8852",
        "IPY_MODEL_ce892cd329c64dd08e419e83ef7dd425",
        "IPY_MODEL_209c5f80b1fc4e0a86ce0ba9d51a787e"
       ],
       "layout": "IPY_MODEL_a6569069099a493a817face36abe1830"
      }
     },
     "87b175e654c847b3ae056104caf84b19": {
      "model_module": "@jupyter-widgets/controls",
      "model_module_version": "1.5.0",
      "model_name": "DescriptionStyleModel",
      "state": {
       "_model_module": "@jupyter-widgets/controls",
       "_model_module_version": "1.5.0",
       "_model_name": "DescriptionStyleModel",
       "_view_count": null,
       "_view_module": "@jupyter-widgets/base",
       "_view_module_version": "1.2.0",
       "_view_name": "StyleView",
       "description_width": ""
      }
     },
     "8898be5a2c564acb974f6fad555bed02": {
      "model_module": "@jupyter-widgets/base",
      "model_module_version": "1.2.0",
      "model_name": "LayoutModel",
      "state": {
       "_model_module": "@jupyter-widgets/base",
       "_model_module_version": "1.2.0",
       "_model_name": "LayoutModel",
       "_view_count": null,
       "_view_module": "@jupyter-widgets/base",
       "_view_module_version": "1.2.0",
       "_view_name": "LayoutView",
       "align_content": null,
       "align_items": null,
       "align_self": null,
       "border": null,
       "bottom": null,
       "display": null,
       "flex": null,
       "flex_flow": null,
       "grid_area": null,
       "grid_auto_columns": null,
       "grid_auto_flow": null,
       "grid_auto_rows": null,
       "grid_column": null,
       "grid_gap": null,
       "grid_row": null,
       "grid_template_areas": null,
       "grid_template_columns": null,
       "grid_template_rows": null,
       "height": null,
       "justify_content": null,
       "justify_items": null,
       "left": null,
       "margin": null,
       "max_height": null,
       "max_width": null,
       "min_height": null,
       "min_width": null,
       "object_fit": null,
       "object_position": null,
       "order": null,
       "overflow": null,
       "overflow_x": null,
       "overflow_y": null,
       "padding": null,
       "right": null,
       "top": null,
       "visibility": null,
       "width": null
      }
     },
     "8b16b6572a944e4aa6b2ec6caa5c02d1": {
      "model_module": "@jupyter-widgets/base",
      "model_module_version": "1.2.0",
      "model_name": "LayoutModel",
      "state": {
       "_model_module": "@jupyter-widgets/base",
       "_model_module_version": "1.2.0",
       "_model_name": "LayoutModel",
       "_view_count": null,
       "_view_module": "@jupyter-widgets/base",
       "_view_module_version": "1.2.0",
       "_view_name": "LayoutView",
       "align_content": null,
       "align_items": null,
       "align_self": null,
       "border": null,
       "bottom": null,
       "display": null,
       "flex": null,
       "flex_flow": null,
       "grid_area": null,
       "grid_auto_columns": null,
       "grid_auto_flow": null,
       "grid_auto_rows": null,
       "grid_column": null,
       "grid_gap": null,
       "grid_row": null,
       "grid_template_areas": null,
       "grid_template_columns": null,
       "grid_template_rows": null,
       "height": null,
       "justify_content": null,
       "justify_items": null,
       "left": null,
       "margin": null,
       "max_height": null,
       "max_width": null,
       "min_height": null,
       "min_width": null,
       "object_fit": null,
       "object_position": null,
       "order": null,
       "overflow": null,
       "overflow_x": null,
       "overflow_y": null,
       "padding": null,
       "right": null,
       "top": null,
       "visibility": null,
       "width": null
      }
     },
     "935a66101cbc4601ace26c9424ae6e0b": {
      "model_module": "@jupyter-widgets/base",
      "model_module_version": "1.2.0",
      "model_name": "LayoutModel",
      "state": {
       "_model_module": "@jupyter-widgets/base",
       "_model_module_version": "1.2.0",
       "_model_name": "LayoutModel",
       "_view_count": null,
       "_view_module": "@jupyter-widgets/base",
       "_view_module_version": "1.2.0",
       "_view_name": "LayoutView",
       "align_content": null,
       "align_items": null,
       "align_self": null,
       "border": null,
       "bottom": null,
       "display": null,
       "flex": null,
       "flex_flow": null,
       "grid_area": null,
       "grid_auto_columns": null,
       "grid_auto_flow": null,
       "grid_auto_rows": null,
       "grid_column": null,
       "grid_gap": null,
       "grid_row": null,
       "grid_template_areas": null,
       "grid_template_columns": null,
       "grid_template_rows": null,
       "height": null,
       "justify_content": null,
       "justify_items": null,
       "left": null,
       "margin": null,
       "max_height": null,
       "max_width": null,
       "min_height": null,
       "min_width": null,
       "object_fit": null,
       "object_position": null,
       "order": null,
       "overflow": null,
       "overflow_x": null,
       "overflow_y": null,
       "padding": null,
       "right": null,
       "top": null,
       "visibility": null,
       "width": null
      }
     },
     "93cb493c4fcb4b91bde18837aababe62": {
      "model_module": "@jupyter-widgets/controls",
      "model_module_version": "1.5.0",
      "model_name": "FloatProgressModel",
      "state": {
       "_dom_classes": [],
       "_model_module": "@jupyter-widgets/controls",
       "_model_module_version": "1.5.0",
       "_model_name": "FloatProgressModel",
       "_view_count": null,
       "_view_module": "@jupyter-widgets/controls",
       "_view_module_version": "1.5.0",
       "_view_name": "ProgressView",
       "bar_style": "success",
       "description": "",
       "description_tooltip": null,
       "layout": "IPY_MODEL_a422305955d64889aa2e5fd479cdee1b",
       "max": 998.0,
       "min": 0.0,
       "orientation": "horizontal",
       "style": "IPY_MODEL_110c9752a84c4c189067cdfb53e5298b",
       "value": 998.0
      }
     },
     "96c0fc2514064424a1229342a0f392cd": {
      "model_module": "@jupyter-widgets/controls",
      "model_module_version": "1.5.0",
      "model_name": "HTMLModel",
      "state": {
       "_dom_classes": [],
       "_model_module": "@jupyter-widgets/controls",
       "_model_module_version": "1.5.0",
       "_model_name": "HTMLModel",
       "_view_count": null,
       "_view_module": "@jupyter-widgets/controls",
       "_view_module_version": "1.5.0",
       "_view_name": "HTMLView",
       "description": "",
       "description_tooltip": null,
       "layout": "IPY_MODEL_ee65628f3ead4cadbbc6c759c352c59a",
       "placeholder": "​",
       "style": "IPY_MODEL_87b175e654c847b3ae056104caf84b19",
       "value": " 208k/208k [00:00&lt;00:00, 2.18MB/s]"
      }
     },
     "a277faf5a01e44b89d591b86d0f25952": {
      "model_module": "@jupyter-widgets/controls",
      "model_module_version": "1.5.0",
      "model_name": "DescriptionStyleModel",
      "state": {
       "_model_module": "@jupyter-widgets/controls",
       "_model_module_version": "1.5.0",
       "_model_name": "DescriptionStyleModel",
       "_view_count": null,
       "_view_module": "@jupyter-widgets/base",
       "_view_module_version": "1.2.0",
       "_view_name": "StyleView",
       "description_width": ""
      }
     },
     "a2ae3b7bce3e4d21a88ef8abb9678c47": {
      "model_module": "@jupyter-widgets/base",
      "model_module_version": "1.2.0",
      "model_name": "LayoutModel",
      "state": {
       "_model_module": "@jupyter-widgets/base",
       "_model_module_version": "1.2.0",
       "_model_name": "LayoutModel",
       "_view_count": null,
       "_view_module": "@jupyter-widgets/base",
       "_view_module_version": "1.2.0",
       "_view_name": "LayoutView",
       "align_content": null,
       "align_items": null,
       "align_self": null,
       "border": null,
       "bottom": null,
       "display": null,
       "flex": null,
       "flex_flow": null,
       "grid_area": null,
       "grid_auto_columns": null,
       "grid_auto_flow": null,
       "grid_auto_rows": null,
       "grid_column": null,
       "grid_gap": null,
       "grid_row": null,
       "grid_template_areas": null,
       "grid_template_columns": null,
       "grid_template_rows": null,
       "height": null,
       "justify_content": null,
       "justify_items": null,
       "left": null,
       "margin": null,
       "max_height": null,
       "max_width": null,
       "min_height": null,
       "min_width": null,
       "object_fit": null,
       "object_position": null,
       "order": null,
       "overflow": null,
       "overflow_x": null,
       "overflow_y": null,
       "padding": null,
       "right": null,
       "top": null,
       "visibility": null,
       "width": null
      }
     },
     "a422305955d64889aa2e5fd479cdee1b": {
      "model_module": "@jupyter-widgets/base",
      "model_module_version": "1.2.0",
      "model_name": "LayoutModel",
      "state": {
       "_model_module": "@jupyter-widgets/base",
       "_model_module_version": "1.2.0",
       "_model_name": "LayoutModel",
       "_view_count": null,
       "_view_module": "@jupyter-widgets/base",
       "_view_module_version": "1.2.0",
       "_view_name": "LayoutView",
       "align_content": null,
       "align_items": null,
       "align_self": null,
       "border": null,
       "bottom": null,
       "display": null,
       "flex": null,
       "flex_flow": null,
       "grid_area": null,
       "grid_auto_columns": null,
       "grid_auto_flow": null,
       "grid_auto_rows": null,
       "grid_column": null,
       "grid_gap": null,
       "grid_row": null,
       "grid_template_areas": null,
       "grid_template_columns": null,
       "grid_template_rows": null,
       "height": null,
       "justify_content": null,
       "justify_items": null,
       "left": null,
       "margin": null,
       "max_height": null,
       "max_width": null,
       "min_height": null,
       "min_width": null,
       "object_fit": null,
       "object_position": null,
       "order": null,
       "overflow": null,
       "overflow_x": null,
       "overflow_y": null,
       "padding": null,
       "right": null,
       "top": null,
       "visibility": null,
       "width": null
      }
     },
     "a528ddb3110d4f438a1507bb5c7e1cc7": {
      "model_module": "@jupyter-widgets/controls",
      "model_module_version": "1.5.0",
      "model_name": "DescriptionStyleModel",
      "state": {
       "_model_module": "@jupyter-widgets/controls",
       "_model_module_version": "1.5.0",
       "_model_name": "DescriptionStyleModel",
       "_view_count": null,
       "_view_module": "@jupyter-widgets/base",
       "_view_module_version": "1.2.0",
       "_view_name": "StyleView",
       "description_width": ""
      }
     },
     "a55a5f59caf84a2e89f0009376c92f5d": {
      "model_module": "@jupyter-widgets/base",
      "model_module_version": "1.2.0",
      "model_name": "LayoutModel",
      "state": {
       "_model_module": "@jupyter-widgets/base",
       "_model_module_version": "1.2.0",
       "_model_name": "LayoutModel",
       "_view_count": null,
       "_view_module": "@jupyter-widgets/base",
       "_view_module_version": "1.2.0",
       "_view_name": "LayoutView",
       "align_content": null,
       "align_items": null,
       "align_self": null,
       "border": null,
       "bottom": null,
       "display": null,
       "flex": null,
       "flex_flow": null,
       "grid_area": null,
       "grid_auto_columns": null,
       "grid_auto_flow": null,
       "grid_auto_rows": null,
       "grid_column": null,
       "grid_gap": null,
       "grid_row": null,
       "grid_template_areas": null,
       "grid_template_columns": null,
       "grid_template_rows": null,
       "height": null,
       "justify_content": null,
       "justify_items": null,
       "left": null,
       "margin": null,
       "max_height": null,
       "max_width": null,
       "min_height": null,
       "min_width": null,
       "object_fit": null,
       "object_position": null,
       "order": null,
       "overflow": null,
       "overflow_x": null,
       "overflow_y": null,
       "padding": null,
       "right": null,
       "top": null,
       "visibility": null,
       "width": null
      }
     },
     "a6569069099a493a817face36abe1830": {
      "model_module": "@jupyter-widgets/base",
      "model_module_version": "1.2.0",
      "model_name": "LayoutModel",
      "state": {
       "_model_module": "@jupyter-widgets/base",
       "_model_module_version": "1.2.0",
       "_model_name": "LayoutModel",
       "_view_count": null,
       "_view_module": "@jupyter-widgets/base",
       "_view_module_version": "1.2.0",
       "_view_name": "LayoutView",
       "align_content": null,
       "align_items": null,
       "align_self": null,
       "border": null,
       "bottom": null,
       "display": null,
       "flex": null,
       "flex_flow": null,
       "grid_area": null,
       "grid_auto_columns": null,
       "grid_auto_flow": null,
       "grid_auto_rows": null,
       "grid_column": null,
       "grid_gap": null,
       "grid_row": null,
       "grid_template_areas": null,
       "grid_template_columns": null,
       "grid_template_rows": null,
       "height": null,
       "justify_content": null,
       "justify_items": null,
       "left": null,
       "margin": null,
       "max_height": null,
       "max_width": null,
       "min_height": null,
       "min_width": null,
       "object_fit": null,
       "object_position": null,
       "order": null,
       "overflow": null,
       "overflow_x": null,
       "overflow_y": null,
       "padding": null,
       "right": null,
       "top": null,
       "visibility": null,
       "width": null
      }
     },
     "a7b41a02364c4de6a0d28987ff6fc8eb": {
      "model_module": "@jupyter-widgets/controls",
      "model_module_version": "1.5.0",
      "model_name": "ProgressStyleModel",
      "state": {
       "_model_module": "@jupyter-widgets/controls",
       "_model_module_version": "1.5.0",
       "_model_name": "ProgressStyleModel",
       "_view_count": null,
       "_view_module": "@jupyter-widgets/base",
       "_view_module_version": "1.2.0",
       "_view_name": "StyleView",
       "bar_color": null,
       "description_width": ""
      }
     },
     "a8cd934614db4a3d8f365f6ff6c0c2e6": {
      "model_module": "@jupyter-widgets/controls",
      "model_module_version": "1.5.0",
      "model_name": "HBoxModel",
      "state": {
       "_dom_classes": [],
       "_model_module": "@jupyter-widgets/controls",
       "_model_module_version": "1.5.0",
       "_model_name": "HBoxModel",
       "_view_count": null,
       "_view_module": "@jupyter-widgets/controls",
       "_view_module_version": "1.5.0",
       "_view_name": "HBoxView",
       "box_style": "",
       "children": [
        "IPY_MODEL_6229049f226e411a9731b837a0ab404b",
        "IPY_MODEL_d7ce3f2655fe45d5a6db817e7a23f4c4",
        "IPY_MODEL_d726b9e0add94f1ea35ec7c593c6219d"
       ],
       "layout": "IPY_MODEL_3890b0707865435c88a68ba9c86ad466"
      }
     },
     "b3c8b94c5aef4070b773fee11c88609a": {
      "model_module": "@jupyter-widgets/controls",
      "model_module_version": "1.5.0",
      "model_name": "DescriptionStyleModel",
      "state": {
       "_model_module": "@jupyter-widgets/controls",
       "_model_module_version": "1.5.0",
       "_model_name": "DescriptionStyleModel",
       "_view_count": null,
       "_view_module": "@jupyter-widgets/base",
       "_view_module_version": "1.2.0",
       "_view_name": "StyleView",
       "description_width": ""
      }
     },
     "b424a5716ea748ff9100f9d406f23372": {
      "model_module": "@jupyter-widgets/controls",
      "model_module_version": "1.5.0",
      "model_name": "FloatProgressModel",
      "state": {
       "_dom_classes": [],
       "_model_module": "@jupyter-widgets/controls",
       "_model_module_version": "1.5.0",
       "_model_name": "FloatProgressModel",
       "_view_count": null,
       "_view_module": "@jupyter-widgets/controls",
       "_view_module_version": "1.5.0",
       "_view_name": "ProgressView",
       "bar_style": "success",
       "description": "",
       "description_tooltip": null,
       "layout": "IPY_MODEL_b846f082550a4e889ad36e9c76f32f4a",
       "max": 213450.0,
       "min": 0.0,
       "orientation": "horizontal",
       "style": "IPY_MODEL_2e95b51e0c8140ba8269857820ce7349",
       "value": 213450.0
      }
     },
     "b846f082550a4e889ad36e9c76f32f4a": {
      "model_module": "@jupyter-widgets/base",
      "model_module_version": "1.2.0",
      "model_name": "LayoutModel",
      "state": {
       "_model_module": "@jupyter-widgets/base",
       "_model_module_version": "1.2.0",
       "_model_name": "LayoutModel",
       "_view_count": null,
       "_view_module": "@jupyter-widgets/base",
       "_view_module_version": "1.2.0",
       "_view_name": "LayoutView",
       "align_content": null,
       "align_items": null,
       "align_self": null,
       "border": null,
       "bottom": null,
       "display": null,
       "flex": null,
       "flex_flow": null,
       "grid_area": null,
       "grid_auto_columns": null,
       "grid_auto_flow": null,
       "grid_auto_rows": null,
       "grid_column": null,
       "grid_gap": null,
       "grid_row": null,
       "grid_template_areas": null,
       "grid_template_columns": null,
       "grid_template_rows": null,
       "height": null,
       "justify_content": null,
       "justify_items": null,
       "left": null,
       "margin": null,
       "max_height": null,
       "max_width": null,
       "min_height": null,
       "min_width": null,
       "object_fit": null,
       "object_position": null,
       "order": null,
       "overflow": null,
       "overflow_x": null,
       "overflow_y": null,
       "padding": null,
       "right": null,
       "top": null,
       "visibility": null,
       "width": null
      }
     },
     "bd4826180bce4b86bca05becb1ac88eb": {
      "model_module": "@jupyter-widgets/controls",
      "model_module_version": "1.5.0",
      "model_name": "FloatProgressModel",
      "state": {
       "_dom_classes": [],
       "_model_module": "@jupyter-widgets/controls",
       "_model_module_version": "1.5.0",
       "_model_name": "FloatProgressModel",
       "_view_count": null,
       "_view_module": "@jupyter-widgets/controls",
       "_view_module_version": "1.5.0",
       "_view_name": "ProgressView",
       "bar_style": "success",
       "description": "",
       "description_tooltip": null,
       "layout": "IPY_MODEL_57cc4831cf55445896efbeada37a8513",
       "max": 39.0,
       "min": 0.0,
       "orientation": "horizontal",
       "style": "IPY_MODEL_a7b41a02364c4de6a0d28987ff6fc8eb",
       "value": 39.0
      }
     },
     "bdf022a6bb8c4e319c99d84ba9db69fb": {
      "model_module": "@jupyter-widgets/controls",
      "model_module_version": "1.5.0",
      "model_name": "ProgressStyleModel",
      "state": {
       "_model_module": "@jupyter-widgets/controls",
       "_model_module_version": "1.5.0",
       "_model_name": "ProgressStyleModel",
       "_view_count": null,
       "_view_module": "@jupyter-widgets/base",
       "_view_module_version": "1.2.0",
       "_view_name": "StyleView",
       "bar_color": null,
       "description_width": ""
      }
     },
     "c42a1188a51045cfbaac4ffd7baa02aa": {
      "model_module": "@jupyter-widgets/controls",
      "model_module_version": "1.5.0",
      "model_name": "ProgressStyleModel",
      "state": {
       "_model_module": "@jupyter-widgets/controls",
       "_model_module_version": "1.5.0",
       "_model_name": "ProgressStyleModel",
       "_view_count": null,
       "_view_module": "@jupyter-widgets/base",
       "_view_module_version": "1.2.0",
       "_view_name": "StyleView",
       "bar_color": null,
       "description_width": ""
      }
     },
     "c74abaf1b6714bae9135217c0c286f4c": {
      "model_module": "@jupyter-widgets/controls",
      "model_module_version": "1.5.0",
      "model_name": "HBoxModel",
      "state": {
       "_dom_classes": [],
       "_model_module": "@jupyter-widgets/controls",
       "_model_module_version": "1.5.0",
       "_model_name": "HBoxModel",
       "_view_count": null,
       "_view_module": "@jupyter-widgets/controls",
       "_view_module_version": "1.5.0",
       "_view_name": "HBoxView",
       "box_style": "",
       "children": [
        "IPY_MODEL_04e2b8c181c447f8a366f6d078b35d58",
        "IPY_MODEL_3fee252f149d49d5855580dc40eb0ec5",
        "IPY_MODEL_1836f82a9ce64bbb9c9b96e68db4a18a"
       ],
       "layout": "IPY_MODEL_4a32334540584896958dcf6df7e5e14e"
      }
     },
     "c88aaaa7547c476ca7b4ef11b4aebbb9": {
      "model_module": "@jupyter-widgets/controls",
      "model_module_version": "1.5.0",
      "model_name": "DescriptionStyleModel",
      "state": {
       "_model_module": "@jupyter-widgets/controls",
       "_model_module_version": "1.5.0",
       "_model_name": "DescriptionStyleModel",
       "_view_count": null,
       "_view_module": "@jupyter-widgets/base",
       "_view_module_version": "1.2.0",
       "_view_name": "StyleView",
       "description_width": ""
      }
     },
     "cbdbc7449bd44aaa82b0c4877518ce90": {
      "model_module": "@jupyter-widgets/base",
      "model_module_version": "1.2.0",
      "model_name": "LayoutModel",
      "state": {
       "_model_module": "@jupyter-widgets/base",
       "_model_module_version": "1.2.0",
       "_model_name": "LayoutModel",
       "_view_count": null,
       "_view_module": "@jupyter-widgets/base",
       "_view_module_version": "1.2.0",
       "_view_name": "LayoutView",
       "align_content": null,
       "align_items": null,
       "align_self": null,
       "border": null,
       "bottom": null,
       "display": null,
       "flex": null,
       "flex_flow": null,
       "grid_area": null,
       "grid_auto_columns": null,
       "grid_auto_flow": null,
       "grid_auto_rows": null,
       "grid_column": null,
       "grid_gap": null,
       "grid_row": null,
       "grid_template_areas": null,
       "grid_template_columns": null,
       "grid_template_rows": null,
       "height": null,
       "justify_content": null,
       "justify_items": null,
       "left": null,
       "margin": null,
       "max_height": null,
       "max_width": null,
       "min_height": null,
       "min_width": null,
       "object_fit": null,
       "object_position": null,
       "order": null,
       "overflow": null,
       "overflow_x": null,
       "overflow_y": null,
       "padding": null,
       "right": null,
       "top": null,
       "visibility": null,
       "width": null
      }
     },
     "cc95fb07904040d797d2b59e0f3abaa8": {
      "model_module": "@jupyter-widgets/controls",
      "model_module_version": "1.5.0",
      "model_name": "ProgressStyleModel",
      "state": {
       "_model_module": "@jupyter-widgets/controls",
       "_model_module_version": "1.5.0",
       "_model_name": "ProgressStyleModel",
       "_view_count": null,
       "_view_module": "@jupyter-widgets/base",
       "_view_module_version": "1.2.0",
       "_view_name": "StyleView",
       "bar_color": null,
       "description_width": ""
      }
     },
     "ce892cd329c64dd08e419e83ef7dd425": {
      "model_module": "@jupyter-widgets/controls",
      "model_module_version": "1.5.0",
      "model_name": "FloatProgressModel",
      "state": {
       "_dom_classes": [],
       "_model_module": "@jupyter-widgets/controls",
       "_model_module_version": "1.5.0",
       "_model_name": "FloatProgressModel",
       "_view_count": null,
       "_view_module": "@jupyter-widgets/controls",
       "_view_module_version": "1.5.0",
       "_view_name": "ProgressView",
       "bar_style": "success",
       "description": "",
       "description_tooltip": null,
       "layout": "IPY_MODEL_4ad6b7c9b453401f88e3711932183415",
       "max": 438006919.0,
       "min": 0.0,
       "orientation": "horizontal",
       "style": "IPY_MODEL_01ecb02930f94b8faeb5a22a5bf328f8",
       "value": 438006919.0
      }
     },
     "cf3d11a2033c4b599a2658cf9e434a97": {
      "model_module": "@jupyter-widgets/controls",
      "model_module_version": "1.5.0",
      "model_name": "DescriptionStyleModel",
      "state": {
       "_model_module": "@jupyter-widgets/controls",
       "_model_module_version": "1.5.0",
       "_model_name": "DescriptionStyleModel",
       "_view_count": null,
       "_view_module": "@jupyter-widgets/base",
       "_view_module_version": "1.2.0",
       "_view_name": "StyleView",
       "description_width": ""
      }
     },
     "d17e8802f2eb4aa6957dca526157a1ee": {
      "model_module": "@jupyter-widgets/controls",
      "model_module_version": "1.5.0",
      "model_name": "HBoxModel",
      "state": {
       "_dom_classes": [],
       "_model_module": "@jupyter-widgets/controls",
       "_model_module_version": "1.5.0",
       "_model_name": "HBoxModel",
       "_view_count": null,
       "_view_module": "@jupyter-widgets/controls",
       "_view_module_version": "1.5.0",
       "_view_name": "HBoxView",
       "box_style": "",
       "children": [
        "IPY_MODEL_591cb1b8c14047ea84355880c4859fd4",
        "IPY_MODEL_135e2537e2c14848937bc233020a8a9c",
        "IPY_MODEL_16be56c716f74347a8f805cd82d4bb8d"
       ],
       "layout": "IPY_MODEL_316b3d4648ed4796aa3f1dc6ac95a0cf"
      }
     },
     "d726b9e0add94f1ea35ec7c593c6219d": {
      "model_module": "@jupyter-widgets/controls",
      "model_module_version": "1.5.0",
      "model_name": "HTMLModel",
      "state": {
       "_dom_classes": [],
       "_model_module": "@jupyter-widgets/controls",
       "_model_module_version": "1.5.0",
       "_model_name": "HTMLModel",
       "_view_count": null,
       "_view_module": "@jupyter-widgets/controls",
       "_view_module_version": "1.5.0",
       "_view_name": "HTMLView",
       "description": "",
       "description_tooltip": null,
       "layout": "IPY_MODEL_cbdbc7449bd44aaa82b0c4877518ce90",
       "placeholder": "​",
       "style": "IPY_MODEL_06cb79beb849418a8b070ad56353f522",
       "value": " 1.24G/1.24G [00:43&lt;00:00, 32.6MB/s]"
      }
     },
     "d7ce3f2655fe45d5a6db817e7a23f4c4": {
      "model_module": "@jupyter-widgets/controls",
      "model_module_version": "1.5.0",
      "model_name": "FloatProgressModel",
      "state": {
       "_dom_classes": [],
       "_model_module": "@jupyter-widgets/controls",
       "_model_module_version": "1.5.0",
       "_model_name": "FloatProgressModel",
       "_view_count": null,
       "_view_module": "@jupyter-widgets/controls",
       "_view_module_version": "1.5.0",
       "_view_name": "ProgressView",
       "bar_style": "success",
       "description": "",
       "description_tooltip": null,
       "layout": "IPY_MODEL_40aa59a7152c4e0ba34b0e819a793136",
       "max": 1334448817.0,
       "min": 0.0,
       "orientation": "horizontal",
       "style": "IPY_MODEL_bdf022a6bb8c4e319c99d84ba9db69fb",
       "value": 1334448817.0
      }
     },
     "daf398c0bfcd4e268ab95986de312bf3": {
      "model_module": "@jupyter-widgets/base",
      "model_module_version": "1.2.0",
      "model_name": "LayoutModel",
      "state": {
       "_model_module": "@jupyter-widgets/base",
       "_model_module_version": "1.2.0",
       "_model_name": "LayoutModel",
       "_view_count": null,
       "_view_module": "@jupyter-widgets/base",
       "_view_module_version": "1.2.0",
       "_view_name": "LayoutView",
       "align_content": null,
       "align_items": null,
       "align_self": null,
       "border": null,
       "bottom": null,
       "display": null,
       "flex": null,
       "flex_flow": null,
       "grid_area": null,
       "grid_auto_columns": null,
       "grid_auto_flow": null,
       "grid_auto_rows": null,
       "grid_column": null,
       "grid_gap": null,
       "grid_row": null,
       "grid_template_areas": null,
       "grid_template_columns": null,
       "grid_template_rows": null,
       "height": null,
       "justify_content": null,
       "justify_items": null,
       "left": null,
       "margin": null,
       "max_height": null,
       "max_width": null,
       "min_height": null,
       "min_width": null,
       "object_fit": null,
       "object_position": null,
       "order": null,
       "overflow": null,
       "overflow_x": null,
       "overflow_y": null,
       "padding": null,
       "right": null,
       "top": null,
       "visibility": null,
       "width": null
      }
     },
     "db5c52dfafb6462d823c5dc96b8d302d": {
      "model_module": "@jupyter-widgets/controls",
      "model_module_version": "1.5.0",
      "model_name": "HBoxModel",
      "state": {
       "_dom_classes": [],
       "_model_module": "@jupyter-widgets/controls",
       "_model_module_version": "1.5.0",
       "_model_name": "HBoxModel",
       "_view_count": null,
       "_view_module": "@jupyter-widgets/controls",
       "_view_module_version": "1.5.0",
       "_view_name": "HBoxView",
       "box_style": "",
       "children": [
        "IPY_MODEL_6bf631576eeb4483a9cca28af77462a1",
        "IPY_MODEL_b424a5716ea748ff9100f9d406f23372",
        "IPY_MODEL_96c0fc2514064424a1229342a0f392cd"
       ],
       "layout": "IPY_MODEL_daf398c0bfcd4e268ab95986de312bf3"
      }
     },
     "dd3e69e9cfb44e07977ffb56d502a1ec": {
      "model_module": "@jupyter-widgets/base",
      "model_module_version": "1.2.0",
      "model_name": "LayoutModel",
      "state": {
       "_model_module": "@jupyter-widgets/base",
       "_model_module_version": "1.2.0",
       "_model_name": "LayoutModel",
       "_view_count": null,
       "_view_module": "@jupyter-widgets/base",
       "_view_module_version": "1.2.0",
       "_view_name": "LayoutView",
       "align_content": null,
       "align_items": null,
       "align_self": null,
       "border": null,
       "bottom": null,
       "display": null,
       "flex": null,
       "flex_flow": null,
       "grid_area": null,
       "grid_auto_columns": null,
       "grid_auto_flow": null,
       "grid_auto_rows": null,
       "grid_column": null,
       "grid_gap": null,
       "grid_row": null,
       "grid_template_areas": null,
       "grid_template_columns": null,
       "grid_template_rows": null,
       "height": null,
       "justify_content": null,
       "justify_items": null,
       "left": null,
       "margin": null,
       "max_height": null,
       "max_width": null,
       "min_height": null,
       "min_width": null,
       "object_fit": null,
       "object_position": null,
       "order": null,
       "overflow": null,
       "overflow_x": null,
       "overflow_y": null,
       "padding": null,
       "right": null,
       "top": null,
       "visibility": null,
       "width": null
      }
     },
     "de0dcae139cc4b33a2ca5880e087ce12": {
      "model_module": "@jupyter-widgets/base",
      "model_module_version": "1.2.0",
      "model_name": "LayoutModel",
      "state": {
       "_model_module": "@jupyter-widgets/base",
       "_model_module_version": "1.2.0",
       "_model_name": "LayoutModel",
       "_view_count": null,
       "_view_module": "@jupyter-widgets/base",
       "_view_module_version": "1.2.0",
       "_view_name": "LayoutView",
       "align_content": null,
       "align_items": null,
       "align_self": null,
       "border": null,
       "bottom": null,
       "display": null,
       "flex": null,
       "flex_flow": null,
       "grid_area": null,
       "grid_auto_columns": null,
       "grid_auto_flow": null,
       "grid_auto_rows": null,
       "grid_column": null,
       "grid_gap": null,
       "grid_row": null,
       "grid_template_areas": null,
       "grid_template_columns": null,
       "grid_template_rows": null,
       "height": null,
       "justify_content": null,
       "justify_items": null,
       "left": null,
       "margin": null,
       "max_height": null,
       "max_width": null,
       "min_height": null,
       "min_width": null,
       "object_fit": null,
       "object_position": null,
       "order": null,
       "overflow": null,
       "overflow_x": null,
       "overflow_y": null,
       "padding": null,
       "right": null,
       "top": null,
       "visibility": null,
       "width": null
      }
     },
     "df9c8a2961fc4aada99c63a2b0a2c63b": {
      "model_module": "@jupyter-widgets/controls",
      "model_module_version": "1.5.0",
      "model_name": "HTMLModel",
      "state": {
       "_dom_classes": [],
       "_model_module": "@jupyter-widgets/controls",
       "_model_module_version": "1.5.0",
       "_model_name": "HTMLModel",
       "_view_count": null,
       "_view_module": "@jupyter-widgets/controls",
       "_view_module_version": "1.5.0",
       "_view_name": "HTMLView",
       "description": "",
       "description_tooltip": null,
       "layout": "IPY_MODEL_a55a5f59caf84a2e89f0009376c92f5d",
       "placeholder": "​",
       "style": "IPY_MODEL_6b2c546197954a9ab68d6f9d879a3339",
       "value": "Downloading: 100%"
      }
     },
     "e3dd47f5e1b3437a99e69aa65ac4f4c8": {
      "model_module": "@jupyter-widgets/controls",
      "model_module_version": "1.5.0",
      "model_name": "HTMLModel",
      "state": {
       "_dom_classes": [],
       "_model_module": "@jupyter-widgets/controls",
       "_model_module_version": "1.5.0",
       "_model_name": "HTMLModel",
       "_view_count": null,
       "_view_module": "@jupyter-widgets/controls",
       "_view_module_version": "1.5.0",
       "_view_name": "HTMLView",
       "description": "",
       "description_tooltip": null,
       "layout": "IPY_MODEL_2228783d4d0e4e719802368a9e24b82a",
       "placeholder": "​",
       "style": "IPY_MODEL_c88aaaa7547c476ca7b4ef11b4aebbb9",
       "value": " 39.0/39.0 [00:00&lt;00:00, 1.40kB/s]"
      }
     },
     "e4d37027dc75435e80ce8a2fce647b2f": {
      "model_module": "@jupyter-widgets/base",
      "model_module_version": "1.2.0",
      "model_name": "LayoutModel",
      "state": {
       "_model_module": "@jupyter-widgets/base",
       "_model_module_version": "1.2.0",
       "_model_name": "LayoutModel",
       "_view_count": null,
       "_view_module": "@jupyter-widgets/base",
       "_view_module_version": "1.2.0",
       "_view_name": "LayoutView",
       "align_content": null,
       "align_items": null,
       "align_self": null,
       "border": null,
       "bottom": null,
       "display": null,
       "flex": null,
       "flex_flow": null,
       "grid_area": null,
       "grid_auto_columns": null,
       "grid_auto_flow": null,
       "grid_auto_rows": null,
       "grid_column": null,
       "grid_gap": null,
       "grid_row": null,
       "grid_template_areas": null,
       "grid_template_columns": null,
       "grid_template_rows": null,
       "height": null,
       "justify_content": null,
       "justify_items": null,
       "left": null,
       "margin": null,
       "max_height": null,
       "max_width": null,
       "min_height": null,
       "min_width": null,
       "object_fit": null,
       "object_position": null,
       "order": null,
       "overflow": null,
       "overflow_x": null,
       "overflow_y": null,
       "padding": null,
       "right": null,
       "top": null,
       "visibility": null,
       "width": null
      }
     },
     "e6d4464f7bda41e39d3a5269572463c6": {
      "model_module": "@jupyter-widgets/base",
      "model_module_version": "1.2.0",
      "model_name": "LayoutModel",
      "state": {
       "_model_module": "@jupyter-widgets/base",
       "_model_module_version": "1.2.0",
       "_model_name": "LayoutModel",
       "_view_count": null,
       "_view_module": "@jupyter-widgets/base",
       "_view_module_version": "1.2.0",
       "_view_name": "LayoutView",
       "align_content": null,
       "align_items": null,
       "align_self": null,
       "border": null,
       "bottom": null,
       "display": null,
       "flex": null,
       "flex_flow": null,
       "grid_area": null,
       "grid_auto_columns": null,
       "grid_auto_flow": null,
       "grid_auto_rows": null,
       "grid_column": null,
       "grid_gap": null,
       "grid_row": null,
       "grid_template_areas": null,
       "grid_template_columns": null,
       "grid_template_rows": null,
       "height": null,
       "justify_content": null,
       "justify_items": null,
       "left": null,
       "margin": null,
       "max_height": null,
       "max_width": null,
       "min_height": null,
       "min_width": null,
       "object_fit": null,
       "object_position": null,
       "order": null,
       "overflow": null,
       "overflow_x": null,
       "overflow_y": null,
       "padding": null,
       "right": null,
       "top": null,
       "visibility": null,
       "width": null
      }
     },
     "ea8125151426497bb48e69aaf4f23363": {
      "model_module": "@jupyter-widgets/controls",
      "model_module_version": "1.5.0",
      "model_name": "FloatProgressModel",
      "state": {
       "_dom_classes": [],
       "_model_module": "@jupyter-widgets/controls",
       "_model_module_version": "1.5.0",
       "_model_name": "FloatProgressModel",
       "_view_count": null,
       "_view_module": "@jupyter-widgets/controls",
       "_view_module_version": "1.5.0",
       "_view_name": "ProgressView",
       "bar_style": "success",
       "description": "",
       "description_tooltip": null,
       "layout": "IPY_MODEL_de0dcae139cc4b33a2ca5880e087ce12",
       "max": 1257.0,
       "min": 0.0,
       "orientation": "horizontal",
       "style": "IPY_MODEL_c42a1188a51045cfbaac4ffd7baa02aa",
       "value": 1257.0
      }
     },
     "ee65628f3ead4cadbbc6c759c352c59a": {
      "model_module": "@jupyter-widgets/base",
      "model_module_version": "1.2.0",
      "model_name": "LayoutModel",
      "state": {
       "_model_module": "@jupyter-widgets/base",
       "_model_module_version": "1.2.0",
       "_model_name": "LayoutModel",
       "_view_count": null,
       "_view_module": "@jupyter-widgets/base",
       "_view_module_version": "1.2.0",
       "_view_name": "LayoutView",
       "align_content": null,
       "align_items": null,
       "align_self": null,
       "border": null,
       "bottom": null,
       "display": null,
       "flex": null,
       "flex_flow": null,
       "grid_area": null,
       "grid_auto_columns": null,
       "grid_auto_flow": null,
       "grid_auto_rows": null,
       "grid_column": null,
       "grid_gap": null,
       "grid_row": null,
       "grid_template_areas": null,
       "grid_template_columns": null,
       "grid_template_rows": null,
       "height": null,
       "justify_content": null,
       "justify_items": null,
       "left": null,
       "margin": null,
       "max_height": null,
       "max_width": null,
       "min_height": null,
       "min_width": null,
       "object_fit": null,
       "object_position": null,
       "order": null,
       "overflow": null,
       "overflow_x": null,
       "overflow_y": null,
       "padding": null,
       "right": null,
       "top": null,
       "visibility": null,
       "width": null
      }
     },
     "ee6e44a5be724d3f978d104532b99900": {
      "model_module": "@jupyter-widgets/base",
      "model_module_version": "1.2.0",
      "model_name": "LayoutModel",
      "state": {
       "_model_module": "@jupyter-widgets/base",
       "_model_module_version": "1.2.0",
       "_model_name": "LayoutModel",
       "_view_count": null,
       "_view_module": "@jupyter-widgets/base",
       "_view_module_version": "1.2.0",
       "_view_name": "LayoutView",
       "align_content": null,
       "align_items": null,
       "align_self": null,
       "border": null,
       "bottom": null,
       "display": null,
       "flex": null,
       "flex_flow": null,
       "grid_area": null,
       "grid_auto_columns": null,
       "grid_auto_flow": null,
       "grid_auto_rows": null,
       "grid_column": null,
       "grid_gap": null,
       "grid_row": null,
       "grid_template_areas": null,
       "grid_template_columns": null,
       "grid_template_rows": null,
       "height": null,
       "justify_content": null,
       "justify_items": null,
       "left": null,
       "margin": null,
       "max_height": null,
       "max_width": null,
       "min_height": null,
       "min_width": null,
       "object_fit": null,
       "object_position": null,
       "order": null,
       "overflow": null,
       "overflow_x": null,
       "overflow_y": null,
       "padding": null,
       "right": null,
       "top": null,
       "visibility": null,
       "width": null
      }
     },
     "f0c066712cdc4263995dd49c8ce69ce0": {
      "model_module": "@jupyter-widgets/controls",
      "model_module_version": "1.5.0",
      "model_name": "HBoxModel",
      "state": {
       "_dom_classes": [],
       "_model_module": "@jupyter-widgets/controls",
       "_model_module_version": "1.5.0",
       "_model_name": "HBoxModel",
       "_view_count": null,
       "_view_module": "@jupyter-widgets/controls",
       "_view_module_version": "1.5.0",
       "_view_name": "HBoxView",
       "box_style": "",
       "children": [
        "IPY_MODEL_0d9f5d62fdd34ac6b6f33ddca610083c",
        "IPY_MODEL_ea8125151426497bb48e69aaf4f23363",
        "IPY_MODEL_1506070217c04341a408992d123de565"
       ],
       "layout": "IPY_MODEL_3e3c26e6cdad42a79a349599fa647c07"
      }
     },
     "ff378029d2b6465c97174ce7738161a4": {
      "model_module": "@jupyter-widgets/controls",
      "model_module_version": "1.5.0",
      "model_name": "ProgressStyleModel",
      "state": {
       "_model_module": "@jupyter-widgets/controls",
       "_model_module_version": "1.5.0",
       "_model_name": "ProgressStyleModel",
       "_view_count": null,
       "_view_module": "@jupyter-widgets/base",
       "_view_module_version": "1.2.0",
       "_view_name": "StyleView",
       "bar_color": null,
       "description_width": ""
      }
     },
     "ff93ec02f5644caeba129a3c6b8fde0b": {
      "model_module": "@jupyter-widgets/base",
      "model_module_version": "1.2.0",
      "model_name": "LayoutModel",
      "state": {
       "_model_module": "@jupyter-widgets/base",
       "_model_module_version": "1.2.0",
       "_model_name": "LayoutModel",
       "_view_count": null,
       "_view_module": "@jupyter-widgets/base",
       "_view_module_version": "1.2.0",
       "_view_name": "LayoutView",
       "align_content": null,
       "align_items": null,
       "align_self": null,
       "border": null,
       "bottom": null,
       "display": null,
       "flex": null,
       "flex_flow": null,
       "grid_area": null,
       "grid_auto_columns": null,
       "grid_auto_flow": null,
       "grid_auto_rows": null,
       "grid_column": null,
       "grid_gap": null,
       "grid_row": null,
       "grid_template_areas": null,
       "grid_template_columns": null,
       "grid_template_rows": null,
       "height": null,
       "justify_content": null,
       "justify_items": null,
       "left": null,
       "margin": null,
       "max_height": null,
       "max_width": null,
       "min_height": null,
       "min_width": null,
       "object_fit": null,
       "object_position": null,
       "order": null,
       "overflow": null,
       "overflow_x": null,
       "overflow_y": null,
       "padding": null,
       "right": null,
       "top": null,
       "visibility": null,
       "width": null
      }
     }
    },
    "version_major": 2,
    "version_minor": 0
   }
  }
 },
 "nbformat": 4,
 "nbformat_minor": 5
}
