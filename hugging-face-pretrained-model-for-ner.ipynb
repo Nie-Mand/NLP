{
 "cells": [
  {
   "cell_type": "code",
   "execution_count": 1,
   "id": "60ce2133",
   "metadata": {
    "execution": {
     "iopub.execute_input": "2022-06-07T09:50:19.772630Z",
     "iopub.status.busy": "2022-06-07T09:50:19.772172Z",
     "iopub.status.idle": "2022-06-07T09:50:29.846132Z",
     "shell.execute_reply": "2022-06-07T09:50:29.844720Z"
    },
    "papermill": {
     "duration": 10.108687,
     "end_time": "2022-06-07T09:50:29.849403",
     "exception": false,
     "start_time": "2022-06-07T09:50:19.740716",
     "status": "completed"
    },
    "tags": []
   },
   "outputs": [],
   "source": [
    "import numpy as np\n",
    "import pandas as pd \n",
    "import seaborn as sns\n",
    "import matplotlib.pyplot as plt \n",
    "import matplotlib.style as stl \n",
    "from tensorflow import keras \n",
    "from keras.preprocessing.text import Tokenizer\n",
    "from nltk.corpus import stopwords\n",
    "import string\n",
    "from tensorflow.keras.models import Sequential,Model\n",
    "from tensorflow.keras.layers import Dense, LSTM, Embedding,Dropout,SpatialDropout1D,Conv1D,MaxPooling1D,GRU,BatchNormalization\n",
    "import warnings\n",
    "warnings.filterwarnings('ignore')\n",
    "stl.use('ggplot')\n",
    "from tqdm import tqdm\n",
    "import string\n",
    "from nltk.corpus import stopwords\n",
    "from nltk.tokenize import word_tokenize\n",
    "from nltk.stem import WordNetLemmatizer\n",
    "from nltk.stem.snowball import SnowballStemmer\n",
    "import regex as re"
   ]
  },
  {
   "cell_type": "code",
   "execution_count": 2,
   "id": "831ed5b4",
   "metadata": {
    "execution": {
     "iopub.execute_input": "2022-06-07T09:50:29.908668Z",
     "iopub.status.busy": "2022-06-07T09:50:29.907813Z",
     "iopub.status.idle": "2022-06-07T09:50:29.928161Z",
     "shell.execute_reply": "2022-06-07T09:50:29.927280Z"
    },
    "papermill": {
     "duration": 0.051264,
     "end_time": "2022-06-07T09:50:29.930691",
     "exception": false,
     "start_time": "2022-06-07T09:50:29.879427",
     "status": "completed"
    },
    "tags": []
   },
   "outputs": [],
   "source": [
    "data=pd.read_csv(\"../input/samplcsv/sample-2.csv\")"
   ]
  },
  {
   "cell_type": "code",
   "execution_count": 3,
   "id": "2c5bfa20",
   "metadata": {
    "execution": {
     "iopub.execute_input": "2022-06-07T09:50:29.988254Z",
     "iopub.status.busy": "2022-06-07T09:50:29.987073Z",
     "iopub.status.idle": "2022-06-07T09:50:30.025346Z",
     "shell.execute_reply": "2022-06-07T09:50:30.024609Z"
    },
    "papermill": {
     "duration": 0.071579,
     "end_time": "2022-06-07T09:50:30.029610",
     "exception": false,
     "start_time": "2022-06-07T09:50:29.958031",
     "status": "completed"
    },
    "tags": []
   },
   "outputs": [
    {
     "data": {
      "text/html": [
       "<div>\n",
       "<style scoped>\n",
       "    .dataframe tbody tr th:only-of-type {\n",
       "        vertical-align: middle;\n",
       "    }\n",
       "\n",
       "    .dataframe tbody tr th {\n",
       "        vertical-align: top;\n",
       "    }\n",
       "\n",
       "    .dataframe thead th {\n",
       "        text-align: right;\n",
       "    }\n",
       "</style>\n",
       "<table border=\"1\" class=\"dataframe\">\n",
       "  <thead>\n",
       "    <tr style=\"text-align: right;\">\n",
       "      <th></th>\n",
       "      <th>document_id</th>\n",
       "      <th>status</th>\n",
       "      <th>document_url</th>\n",
       "      <th>media_type</th>\n",
       "      <th>media_link</th>\n",
       "      <th>relative_media_path</th>\n",
       "      <th>is_media_downloaded</th>\n",
       "      <th>transcription_text</th>\n",
       "      <th>transcription_text_relative_path</th>\n",
       "      <th>from_time</th>\n",
       "      <th>to_time</th>\n",
       "      <th>project_id</th>\n",
       "      <th>Category</th>\n",
       "      <th>Unnamed: 13</th>\n",
       "      <th>Unnamed: 14</th>\n",
       "    </tr>\n",
       "  </thead>\n",
       "  <tbody>\n",
       "    <tr>\n",
       "      <th>0</th>\n",
       "      <td>NMAAHC-007676813_00577</td>\n",
       "      <td>Complete</td>\n",
       "      <td>https://transcription.si.edu/transcribe/32203/...</td>\n",
       "      <td>image</td>\n",
       "      <td>https://ids.si.edu/ids/deliveryService?max_w=&amp;...</td>\n",
       "      <td>/32203/image/NMAAHC-007676813_00577.jpg</td>\n",
       "      <td>1</td>\n",
       "      <td>8 E encl\\r\\n\\r\\nI Anne H. Elliott, widow do so...</td>\n",
       "      <td>/32203/transcriptions/NMAAHC-007676813_00577.txt</td>\n",
       "      <td>\\N</td>\n",
       "      <td>\\N</td>\n",
       "      <td>32203</td>\n",
       "      <td>Oaths/Pardons</td>\n",
       "      <td>NaN</td>\n",
       "      <td>NaN</td>\n",
       "    </tr>\n",
       "    <tr>\n",
       "      <th>1</th>\n",
       "      <td>NMAAHC-007676818_00567</td>\n",
       "      <td>Complete</td>\n",
       "      <td>https://transcription.si.edu/transcribe/32796/...</td>\n",
       "      <td>image</td>\n",
       "      <td>https://ids.si.edu/ids/deliveryService?max_w=&amp;...</td>\n",
       "      <td>/32796/image/NMAAHC-007676818_00567.jpg</td>\n",
       "      <td>1</td>\n",
       "      <td>I E C Whaley solemnly swear that I have carefu...</td>\n",
       "      <td>/32796/transcriptions/NMAAHC-007676818_00567.txt</td>\n",
       "      <td>\\N</td>\n",
       "      <td>\\N</td>\n",
       "      <td>32796</td>\n",
       "      <td>Oaths/Pardons</td>\n",
       "      <td>NaN</td>\n",
       "      <td>NaN</td>\n",
       "    </tr>\n",
       "    <tr>\n",
       "      <th>2</th>\n",
       "      <td>NMAAHC-007676815_00488-000001</td>\n",
       "      <td>Complete</td>\n",
       "      <td>https://transcription.si.edu/transcribe/32218/...</td>\n",
       "      <td>image</td>\n",
       "      <td>https://ids.si.edu/ids/deliveryService?max_w=&amp;...</td>\n",
       "      <td>/32218/image/NMAAHC-007676815_00488-000001.jpg</td>\n",
       "      <td>1</td>\n",
       "      <td>43M\\r\\nI Mrs E Montgomery solemnly Swear that ...</td>\n",
       "      <td>/32218/transcriptions/NMAAHC-007676815_00488-0...</td>\n",
       "      <td>\\N</td>\n",
       "      <td>\\N</td>\n",
       "      <td>32218</td>\n",
       "      <td>Oaths/Pardons</td>\n",
       "      <td>NaN</td>\n",
       "      <td>NaN</td>\n",
       "    </tr>\n",
       "    <tr>\n",
       "      <th>3</th>\n",
       "      <td>NMAAHC-007677400_00375</td>\n",
       "      <td>Complete</td>\n",
       "      <td>https://transcription.si.edu/transcribe/26149/...</td>\n",
       "      <td>image</td>\n",
       "      <td>https://ids.si.edu/ids/deliveryService?max_w=&amp;...</td>\n",
       "      <td>/26149/image/NMAAHC-007677400_00375.jpg</td>\n",
       "      <td>1</td>\n",
       "      <td>No. 2324\\r\\nI do solemnly swear or affirm, in ...</td>\n",
       "      <td>/26149/transcriptions/NMAAHC-007677400_00375.txt</td>\n",
       "      <td>\\N</td>\n",
       "      <td>\\N</td>\n",
       "      <td>26149</td>\n",
       "      <td>Oaths/Pardons</td>\n",
       "      <td>NaN</td>\n",
       "      <td>NaN</td>\n",
       "    </tr>\n",
       "    <tr>\n",
       "      <th>4</th>\n",
       "      <td>NMAAHC-007677378_00480</td>\n",
       "      <td>Complete</td>\n",
       "      <td>https://transcription.si.edu/transcribe/27345/...</td>\n",
       "      <td>image</td>\n",
       "      <td>https://ids.si.edu/ids/deliveryService?max_w=&amp;...</td>\n",
       "      <td>/27345/image/NMAAHC-007677378_00480.jpg</td>\n",
       "      <td>1</td>\n",
       "      <td>August 24. 1865\\r\\nAPPLICATION AND CERTIFICATE...</td>\n",
       "      <td>/27345/transcriptions/NMAAHC-007677378_00480.txt</td>\n",
       "      <td>\\N</td>\n",
       "      <td>\\N</td>\n",
       "      <td>27345</td>\n",
       "      <td>Oaths/Pardons</td>\n",
       "      <td>NaN</td>\n",
       "      <td>NaN</td>\n",
       "    </tr>\n",
       "    <tr>\n",
       "      <th>5</th>\n",
       "      <td>NMAAHC-007676819_00216</td>\n",
       "      <td>Complete</td>\n",
       "      <td>https://transcription.si.edu/transcribe/33018/...</td>\n",
       "      <td>image</td>\n",
       "      <td>https://ids.si.edu/ids/deliveryService?max_w=&amp;...</td>\n",
       "      <td>/33018/image/NMAAHC-007676819_00216.jpg</td>\n",
       "      <td>1</td>\n",
       "      <td>I Wm Whaley solemnly swear that I have careful...</td>\n",
       "      <td>/33018/transcriptions/NMAAHC-007676819_00216.txt</td>\n",
       "      <td>\\N</td>\n",
       "      <td>\\N</td>\n",
       "      <td>33018</td>\n",
       "      <td>Oaths/Pardons</td>\n",
       "      <td>NaN</td>\n",
       "      <td>NaN</td>\n",
       "    </tr>\n",
       "    <tr>\n",
       "      <th>6</th>\n",
       "      <td>NMAAHC-007676816_00124</td>\n",
       "      <td>Complete</td>\n",
       "      <td>https://transcription.si.edu/transcribe/32224/...</td>\n",
       "      <td>image</td>\n",
       "      <td>https://ids.si.edu/ids/deliveryService?max_w=&amp;...</td>\n",
       "      <td>/32224/image/NMAAHC-007676816_00124.jpg</td>\n",
       "      <td>1</td>\n",
       "      <td>I J F Steinmeyer solemnly swear that I have ca...</td>\n",
       "      <td>/32224/transcriptions/NMAAHC-007676816_00124.txt</td>\n",
       "      <td>\\N</td>\n",
       "      <td>\\N</td>\n",
       "      <td>32224</td>\n",
       "      <td>Oaths/Pardons</td>\n",
       "      <td>NaN</td>\n",
       "      <td>NaN</td>\n",
       "    </tr>\n",
       "    <tr>\n",
       "      <th>7</th>\n",
       "      <td>NMAAHC-007676819_00592</td>\n",
       "      <td>Complete</td>\n",
       "      <td>https://transcription.si.edu/transcribe/33019/...</td>\n",
       "      <td>image</td>\n",
       "      <td>https://ids.si.edu/ids/deliveryService?max_w=&amp;...</td>\n",
       "      <td>/33019/image/NMAAHC-007676819_00592.jpg</td>\n",
       "      <td>1</td>\n",
       "      <td>I Joseph Edings solemnly swear that I have car...</td>\n",
       "      <td>/33019/transcriptions/NMAAHC-007676819_00592.txt</td>\n",
       "      <td>\\N</td>\n",
       "      <td>\\N</td>\n",
       "      <td>33019</td>\n",
       "      <td>Oaths/Pardons</td>\n",
       "      <td>NaN</td>\n",
       "      <td>NaN</td>\n",
       "    </tr>\n",
       "    <tr>\n",
       "      <th>8</th>\n",
       "      <td>NMAAHC-007677378_00303</td>\n",
       "      <td>Complete</td>\n",
       "      <td>https://transcription.si.edu/transcribe/27345/...</td>\n",
       "      <td>image</td>\n",
       "      <td>https://ids.si.edu/ids/deliveryService?max_w=&amp;...</td>\n",
       "      <td>/27345/image/NMAAHC-007677378_00303.jpg</td>\n",
       "      <td>1</td>\n",
       "      <td>Vicksburg Miss. \\r\\nJuly 22 1867 \\r\\n\\r\\nThoma...</td>\n",
       "      <td>/27345/transcriptions/NMAAHC-007677378_00303.txt</td>\n",
       "      <td>\\N</td>\n",
       "      <td>\\N</td>\n",
       "      <td>27345</td>\n",
       "      <td>Oaths/Pardons</td>\n",
       "      <td>NaN</td>\n",
       "      <td>NaN</td>\n",
       "    </tr>\n",
       "    <tr>\n",
       "      <th>9</th>\n",
       "      <td>NMAAHC-007676816_00259</td>\n",
       "      <td>Complete</td>\n",
       "      <td>https://transcription.si.edu/transcribe/32224/...</td>\n",
       "      <td>image</td>\n",
       "      <td>https://ids.si.edu/ids/deliveryService?max_w=&amp;...</td>\n",
       "      <td>/32224/image/NMAAHC-007676816_00259.jpg</td>\n",
       "      <td>1</td>\n",
       "      <td>455\\r\\n(RETAINED COPY.)\\r\\nI, Jacob Schroder. ...</td>\n",
       "      <td>/32224/transcriptions/NMAAHC-007676816_00259.txt</td>\n",
       "      <td>\\N</td>\n",
       "      <td>\\N</td>\n",
       "      <td>32224</td>\n",
       "      <td>Oaths/Pardons</td>\n",
       "      <td>NaN</td>\n",
       "      <td>NaN</td>\n",
       "    </tr>\n",
       "    <tr>\n",
       "      <th>10</th>\n",
       "      <td>NMAAHC-007677378_00356</td>\n",
       "      <td>Complete</td>\n",
       "      <td>https://transcription.si.edu/transcribe/27345/...</td>\n",
       "      <td>image</td>\n",
       "      <td>https://ids.si.edu/ids/deliveryService?max_w=&amp;...</td>\n",
       "      <td>/27345/image/NMAAHC-007677378_00356.jpg</td>\n",
       "      <td>1</td>\n",
       "      <td>[[image - eagle]]\\r\\nAMNESTY OATH.\\r\\n\\r\\nMiss...</td>\n",
       "      <td>/27345/transcriptions/NMAAHC-007677378_00356.txt</td>\n",
       "      <td>\\N</td>\n",
       "      <td>\\N</td>\n",
       "      <td>27345</td>\n",
       "      <td>Oaths/Pardons</td>\n",
       "      <td>NaN</td>\n",
       "      <td>NaN</td>\n",
       "    </tr>\n",
       "    <tr>\n",
       "      <th>11</th>\n",
       "      <td>NMAAHC-007677378_00170</td>\n",
       "      <td>Complete</td>\n",
       "      <td>https://transcription.si.edu/transcribe/27345/...</td>\n",
       "      <td>image</td>\n",
       "      <td>https://ids.si.edu/ids/deliveryService?max_w=&amp;...</td>\n",
       "      <td>/27345/image/NMAAHC-007677378_00170.jpg</td>\n",
       "      <td>1</td>\n",
       "      <td>OATH.\\r\\nI, P. P. Bergevin, \\r\\ndo solemnly sw...</td>\n",
       "      <td>/27345/transcriptions/NMAAHC-007677378_00170.txt</td>\n",
       "      <td>\\N</td>\n",
       "      <td>\\N</td>\n",
       "      <td>27345</td>\n",
       "      <td>Oaths/Pardons</td>\n",
       "      <td>NaN</td>\n",
       "      <td>NaN</td>\n",
       "    </tr>\n",
       "    <tr>\n",
       "      <th>12</th>\n",
       "      <td>NMAAHC-007677416_00654</td>\n",
       "      <td>Complete</td>\n",
       "      <td>https://transcription.si.edu/transcribe/35981/...</td>\n",
       "      <td>image</td>\n",
       "      <td>https://ids.si.edu/ids/deliveryService?max_w=&amp;...</td>\n",
       "      <td>/35981/image/NMAAHC-007677416_00654.jpg</td>\n",
       "      <td>1</td>\n",
       "      <td>Frank Conner</td>\n",
       "      <td>/35981/transcriptions/NMAAHC-007677416_00654.txt</td>\n",
       "      <td>\\N</td>\n",
       "      <td>\\N</td>\n",
       "      <td>35981</td>\n",
       "      <td>Oaths/Pardons</td>\n",
       "      <td>NaN</td>\n",
       "      <td>NaN</td>\n",
       "    </tr>\n",
       "    <tr>\n",
       "      <th>13</th>\n",
       "      <td>NMAAHC-007676817_00196</td>\n",
       "      <td>Complete</td>\n",
       "      <td>https://transcription.si.edu/transcribe/32781/...</td>\n",
       "      <td>image</td>\n",
       "      <td>https://ids.si.edu/ids/deliveryService?max_w=&amp;...</td>\n",
       "      <td>/32781/image/NMAAHC-007676817_00196.jpg</td>\n",
       "      <td>1</td>\n",
       "      <td>I Caroline Belitzer solemnly Swear that I have...</td>\n",
       "      <td>/32781/transcriptions/NMAAHC-007676817_00196.txt</td>\n",
       "      <td>\\N</td>\n",
       "      <td>\\N</td>\n",
       "      <td>32781</td>\n",
       "      <td>Oaths/Pardons</td>\n",
       "      <td>NaN</td>\n",
       "      <td>NaN</td>\n",
       "    </tr>\n",
       "    <tr>\n",
       "      <th>14</th>\n",
       "      <td>NMAAHC-007677378_00690</td>\n",
       "      <td>Complete</td>\n",
       "      <td>https://transcription.si.edu/transcribe/27348/...</td>\n",
       "      <td>image</td>\n",
       "      <td>https://ids.si.edu/ids/deliveryService?max_w=&amp;...</td>\n",
       "      <td>/27348/image/NMAAHC-007677378_00690.jpg</td>\n",
       "      <td>1</td>\n",
       "      <td>Triplicate\\r\\nAMNESTY OATH. \\r\\n\\r\\nPass Chris...</td>\n",
       "      <td>/27348/transcriptions/NMAAHC-007677378_00690.txt</td>\n",
       "      <td>\\N</td>\n",
       "      <td>\\N</td>\n",
       "      <td>27348</td>\n",
       "      <td>Oaths/Pardons</td>\n",
       "      <td>NaN</td>\n",
       "      <td>NaN</td>\n",
       "    </tr>\n",
       "    <tr>\n",
       "      <th>15</th>\n",
       "      <td>NMAAHC-007676812_00642</td>\n",
       "      <td>Complete</td>\n",
       "      <td>https://transcription.si.edu/transcribe/32194/...</td>\n",
       "      <td>image</td>\n",
       "      <td>https://ids.si.edu/ids/deliveryService?max_w=&amp;...</td>\n",
       "      <td>/32194/image/NMAAHC-007676812_00642.jpg</td>\n",
       "      <td>1</td>\n",
       "      <td>[Retained Copy.]\\r\\nHEADQUARTERS, UNITED STATE...</td>\n",
       "      <td>/32194/transcriptions/NMAAHC-007676812_00642.txt</td>\n",
       "      <td>\\N</td>\n",
       "      <td>\\N</td>\n",
       "      <td>32194</td>\n",
       "      <td>Oaths/Pardons</td>\n",
       "      <td>NaN</td>\n",
       "      <td>NaN</td>\n",
       "    </tr>\n",
       "    <tr>\n",
       "      <th>16</th>\n",
       "      <td>NMAAHC-007677416_00811</td>\n",
       "      <td>Complete</td>\n",
       "      <td>https://transcription.si.edu/transcribe/35981/...</td>\n",
       "      <td>image</td>\n",
       "      <td>https://ids.si.edu/ids/deliveryService?max_w=&amp;...</td>\n",
       "      <td>/35981/image/NMAAHC-007677416_00811.jpg</td>\n",
       "      <td>1</td>\n",
       "      <td>Robert A. Wilson</td>\n",
       "      <td>/35981/transcriptions/NMAAHC-007677416_00811.txt</td>\n",
       "      <td>\\N</td>\n",
       "      <td>\\N</td>\n",
       "      <td>35981</td>\n",
       "      <td>Oaths/Pardons</td>\n",
       "      <td>NaN</td>\n",
       "      <td>NaN</td>\n",
       "    </tr>\n",
       "    <tr>\n",
       "      <th>17</th>\n",
       "      <td>NMAAHC-007677378_00552</td>\n",
       "      <td>Complete</td>\n",
       "      <td>https://transcription.si.edu/transcribe/27348/...</td>\n",
       "      <td>image</td>\n",
       "      <td>https://ids.si.edu/ids/deliveryService?max_w=&amp;...</td>\n",
       "      <td>/27348/image/NMAAHC-007677378_00552.jpg</td>\n",
       "      <td>1</td>\n",
       "      <td>APPLICATION AND CERTIFICATE OF \\r\\nJames D Ken...</td>\n",
       "      <td>/27348/transcriptions/NMAAHC-007677378_00552.txt</td>\n",
       "      <td>\\N</td>\n",
       "      <td>\\N</td>\n",
       "      <td>27348</td>\n",
       "      <td>Oaths/Pardons</td>\n",
       "      <td>NaN</td>\n",
       "      <td>NaN</td>\n",
       "    </tr>\n",
       "    <tr>\n",
       "      <th>18</th>\n",
       "      <td>NMAAHC-004567413_01199</td>\n",
       "      <td>Complete</td>\n",
       "      <td>https://transcription.si.edu/transcribe/15183/...</td>\n",
       "      <td>image</td>\n",
       "      <td>https://ids.si.edu/ids/deliveryService?max_w=&amp;...</td>\n",
       "      <td>/15183/image/NMAAHC-004567413_01199.jpg</td>\n",
       "      <td>1</td>\n",
       "      <td>[[underlined]] Oath [[/underlined]] Aug. 2  7,...</td>\n",
       "      <td>/15183/transcriptions/NMAAHC-004567413_01199.txt</td>\n",
       "      <td>\\N</td>\n",
       "      <td>\\N</td>\n",
       "      <td>15183</td>\n",
       "      <td>Oaths/Pardons</td>\n",
       "      <td>NaN</td>\n",
       "      <td>NaN</td>\n",
       "    </tr>\n",
       "    <tr>\n",
       "      <th>19</th>\n",
       "      <td>NMAAHC-007677378_00483</td>\n",
       "      <td>Complete</td>\n",
       "      <td>https://transcription.si.edu/transcribe/27345/...</td>\n",
       "      <td>image</td>\n",
       "      <td>https://ids.si.edu/ids/deliveryService?max_w=&amp;...</td>\n",
       "      <td>/27345/image/NMAAHC-007677378_00483.jpg</td>\n",
       "      <td>1</td>\n",
       "      <td>[[image - eagle]]\\r\\n\\r\\nAMNESTY OATH. \\r\\n\\r\\...</td>\n",
       "      <td>/27345/transcriptions/NMAAHC-007677378_00483.txt</td>\n",
       "      <td>\\N</td>\n",
       "      <td>\\N</td>\n",
       "      <td>27345</td>\n",
       "      <td>Oaths/Pardons</td>\n",
       "      <td>NaN</td>\n",
       "      <td>NaN</td>\n",
       "    </tr>\n",
       "  </tbody>\n",
       "</table>\n",
       "</div>"
      ],
      "text/plain": [
       "                      document_id    status  \\\n",
       "0          NMAAHC-007676813_00577  Complete   \n",
       "1          NMAAHC-007676818_00567  Complete   \n",
       "2   NMAAHC-007676815_00488-000001  Complete   \n",
       "3          NMAAHC-007677400_00375  Complete   \n",
       "4          NMAAHC-007677378_00480  Complete   \n",
       "5          NMAAHC-007676819_00216  Complete   \n",
       "6          NMAAHC-007676816_00124  Complete   \n",
       "7          NMAAHC-007676819_00592  Complete   \n",
       "8          NMAAHC-007677378_00303  Complete   \n",
       "9          NMAAHC-007676816_00259  Complete   \n",
       "10         NMAAHC-007677378_00356  Complete   \n",
       "11         NMAAHC-007677378_00170  Complete   \n",
       "12         NMAAHC-007677416_00654  Complete   \n",
       "13         NMAAHC-007676817_00196  Complete   \n",
       "14         NMAAHC-007677378_00690  Complete   \n",
       "15         NMAAHC-007676812_00642  Complete   \n",
       "16         NMAAHC-007677416_00811  Complete   \n",
       "17         NMAAHC-007677378_00552  Complete   \n",
       "18         NMAAHC-004567413_01199  Complete   \n",
       "19         NMAAHC-007677378_00483  Complete   \n",
       "\n",
       "                                         document_url media_type  \\\n",
       "0   https://transcription.si.edu/transcribe/32203/...      image   \n",
       "1   https://transcription.si.edu/transcribe/32796/...      image   \n",
       "2   https://transcription.si.edu/transcribe/32218/...      image   \n",
       "3   https://transcription.si.edu/transcribe/26149/...      image   \n",
       "4   https://transcription.si.edu/transcribe/27345/...      image   \n",
       "5   https://transcription.si.edu/transcribe/33018/...      image   \n",
       "6   https://transcription.si.edu/transcribe/32224/...      image   \n",
       "7   https://transcription.si.edu/transcribe/33019/...      image   \n",
       "8   https://transcription.si.edu/transcribe/27345/...      image   \n",
       "9   https://transcription.si.edu/transcribe/32224/...      image   \n",
       "10  https://transcription.si.edu/transcribe/27345/...      image   \n",
       "11  https://transcription.si.edu/transcribe/27345/...      image   \n",
       "12  https://transcription.si.edu/transcribe/35981/...      image   \n",
       "13  https://transcription.si.edu/transcribe/32781/...      image   \n",
       "14  https://transcription.si.edu/transcribe/27348/...      image   \n",
       "15  https://transcription.si.edu/transcribe/32194/...      image   \n",
       "16  https://transcription.si.edu/transcribe/35981/...      image   \n",
       "17  https://transcription.si.edu/transcribe/27348/...      image   \n",
       "18  https://transcription.si.edu/transcribe/15183/...      image   \n",
       "19  https://transcription.si.edu/transcribe/27345/...      image   \n",
       "\n",
       "                                           media_link  \\\n",
       "0   https://ids.si.edu/ids/deliveryService?max_w=&...   \n",
       "1   https://ids.si.edu/ids/deliveryService?max_w=&...   \n",
       "2   https://ids.si.edu/ids/deliveryService?max_w=&...   \n",
       "3   https://ids.si.edu/ids/deliveryService?max_w=&...   \n",
       "4   https://ids.si.edu/ids/deliveryService?max_w=&...   \n",
       "5   https://ids.si.edu/ids/deliveryService?max_w=&...   \n",
       "6   https://ids.si.edu/ids/deliveryService?max_w=&...   \n",
       "7   https://ids.si.edu/ids/deliveryService?max_w=&...   \n",
       "8   https://ids.si.edu/ids/deliveryService?max_w=&...   \n",
       "9   https://ids.si.edu/ids/deliveryService?max_w=&...   \n",
       "10  https://ids.si.edu/ids/deliveryService?max_w=&...   \n",
       "11  https://ids.si.edu/ids/deliveryService?max_w=&...   \n",
       "12  https://ids.si.edu/ids/deliveryService?max_w=&...   \n",
       "13  https://ids.si.edu/ids/deliveryService?max_w=&...   \n",
       "14  https://ids.si.edu/ids/deliveryService?max_w=&...   \n",
       "15  https://ids.si.edu/ids/deliveryService?max_w=&...   \n",
       "16  https://ids.si.edu/ids/deliveryService?max_w=&...   \n",
       "17  https://ids.si.edu/ids/deliveryService?max_w=&...   \n",
       "18  https://ids.si.edu/ids/deliveryService?max_w=&...   \n",
       "19  https://ids.si.edu/ids/deliveryService?max_w=&...   \n",
       "\n",
       "                               relative_media_path  is_media_downloaded  \\\n",
       "0          /32203/image/NMAAHC-007676813_00577.jpg                    1   \n",
       "1          /32796/image/NMAAHC-007676818_00567.jpg                    1   \n",
       "2   /32218/image/NMAAHC-007676815_00488-000001.jpg                    1   \n",
       "3          /26149/image/NMAAHC-007677400_00375.jpg                    1   \n",
       "4          /27345/image/NMAAHC-007677378_00480.jpg                    1   \n",
       "5          /33018/image/NMAAHC-007676819_00216.jpg                    1   \n",
       "6          /32224/image/NMAAHC-007676816_00124.jpg                    1   \n",
       "7          /33019/image/NMAAHC-007676819_00592.jpg                    1   \n",
       "8          /27345/image/NMAAHC-007677378_00303.jpg                    1   \n",
       "9          /32224/image/NMAAHC-007676816_00259.jpg                    1   \n",
       "10         /27345/image/NMAAHC-007677378_00356.jpg                    1   \n",
       "11         /27345/image/NMAAHC-007677378_00170.jpg                    1   \n",
       "12         /35981/image/NMAAHC-007677416_00654.jpg                    1   \n",
       "13         /32781/image/NMAAHC-007676817_00196.jpg                    1   \n",
       "14         /27348/image/NMAAHC-007677378_00690.jpg                    1   \n",
       "15         /32194/image/NMAAHC-007676812_00642.jpg                    1   \n",
       "16         /35981/image/NMAAHC-007677416_00811.jpg                    1   \n",
       "17         /27348/image/NMAAHC-007677378_00552.jpg                    1   \n",
       "18         /15183/image/NMAAHC-004567413_01199.jpg                    1   \n",
       "19         /27345/image/NMAAHC-007677378_00483.jpg                    1   \n",
       "\n",
       "                                   transcription_text  \\\n",
       "0   8 E encl\\r\\n\\r\\nI Anne H. Elliott, widow do so...   \n",
       "1   I E C Whaley solemnly swear that I have carefu...   \n",
       "2   43M\\r\\nI Mrs E Montgomery solemnly Swear that ...   \n",
       "3   No. 2324\\r\\nI do solemnly swear or affirm, in ...   \n",
       "4   August 24. 1865\\r\\nAPPLICATION AND CERTIFICATE...   \n",
       "5   I Wm Whaley solemnly swear that I have careful...   \n",
       "6   I J F Steinmeyer solemnly swear that I have ca...   \n",
       "7   I Joseph Edings solemnly swear that I have car...   \n",
       "8   Vicksburg Miss. \\r\\nJuly 22 1867 \\r\\n\\r\\nThoma...   \n",
       "9   455\\r\\n(RETAINED COPY.)\\r\\nI, Jacob Schroder. ...   \n",
       "10  [[image - eagle]]\\r\\nAMNESTY OATH.\\r\\n\\r\\nMiss...   \n",
       "11  OATH.\\r\\nI, P. P. Bergevin, \\r\\ndo solemnly sw...   \n",
       "12                                      Frank Conner    \n",
       "13  I Caroline Belitzer solemnly Swear that I have...   \n",
       "14  Triplicate\\r\\nAMNESTY OATH. \\r\\n\\r\\nPass Chris...   \n",
       "15  [Retained Copy.]\\r\\nHEADQUARTERS, UNITED STATE...   \n",
       "16                                   Robert A. Wilson   \n",
       "17  APPLICATION AND CERTIFICATE OF \\r\\nJames D Ken...   \n",
       "18  [[underlined]] Oath [[/underlined]] Aug. 2  7,...   \n",
       "19  [[image - eagle]]\\r\\n\\r\\nAMNESTY OATH. \\r\\n\\r\\...   \n",
       "\n",
       "                     transcription_text_relative_path from_time to_time  \\\n",
       "0    /32203/transcriptions/NMAAHC-007676813_00577.txt        \\N      \\N   \n",
       "1    /32796/transcriptions/NMAAHC-007676818_00567.txt        \\N      \\N   \n",
       "2   /32218/transcriptions/NMAAHC-007676815_00488-0...        \\N      \\N   \n",
       "3    /26149/transcriptions/NMAAHC-007677400_00375.txt        \\N      \\N   \n",
       "4    /27345/transcriptions/NMAAHC-007677378_00480.txt        \\N      \\N   \n",
       "5    /33018/transcriptions/NMAAHC-007676819_00216.txt        \\N      \\N   \n",
       "6    /32224/transcriptions/NMAAHC-007676816_00124.txt        \\N      \\N   \n",
       "7    /33019/transcriptions/NMAAHC-007676819_00592.txt        \\N      \\N   \n",
       "8    /27345/transcriptions/NMAAHC-007677378_00303.txt        \\N      \\N   \n",
       "9    /32224/transcriptions/NMAAHC-007676816_00259.txt        \\N      \\N   \n",
       "10   /27345/transcriptions/NMAAHC-007677378_00356.txt        \\N      \\N   \n",
       "11   /27345/transcriptions/NMAAHC-007677378_00170.txt        \\N      \\N   \n",
       "12   /35981/transcriptions/NMAAHC-007677416_00654.txt        \\N      \\N   \n",
       "13   /32781/transcriptions/NMAAHC-007676817_00196.txt        \\N      \\N   \n",
       "14   /27348/transcriptions/NMAAHC-007677378_00690.txt        \\N      \\N   \n",
       "15   /32194/transcriptions/NMAAHC-007676812_00642.txt        \\N      \\N   \n",
       "16   /35981/transcriptions/NMAAHC-007677416_00811.txt        \\N      \\N   \n",
       "17   /27348/transcriptions/NMAAHC-007677378_00552.txt        \\N      \\N   \n",
       "18   /15183/transcriptions/NMAAHC-004567413_01199.txt        \\N      \\N   \n",
       "19   /27345/transcriptions/NMAAHC-007677378_00483.txt        \\N      \\N   \n",
       "\n",
       "    project_id       Category  Unnamed: 13  Unnamed: 14  \n",
       "0        32203  Oaths/Pardons          NaN          NaN  \n",
       "1        32796  Oaths/Pardons          NaN          NaN  \n",
       "2        32218  Oaths/Pardons          NaN          NaN  \n",
       "3        26149  Oaths/Pardons          NaN          NaN  \n",
       "4        27345  Oaths/Pardons          NaN          NaN  \n",
       "5        33018  Oaths/Pardons          NaN          NaN  \n",
       "6        32224  Oaths/Pardons          NaN          NaN  \n",
       "7        33019  Oaths/Pardons          NaN          NaN  \n",
       "8        27345  Oaths/Pardons          NaN          NaN  \n",
       "9        32224  Oaths/Pardons          NaN          NaN  \n",
       "10       27345  Oaths/Pardons          NaN          NaN  \n",
       "11       27345  Oaths/Pardons          NaN          NaN  \n",
       "12       35981  Oaths/Pardons          NaN          NaN  \n",
       "13       32781  Oaths/Pardons          NaN          NaN  \n",
       "14       27348  Oaths/Pardons          NaN          NaN  \n",
       "15       32194  Oaths/Pardons          NaN          NaN  \n",
       "16       35981  Oaths/Pardons          NaN          NaN  \n",
       "17       27348  Oaths/Pardons          NaN          NaN  \n",
       "18       15183  Oaths/Pardons          NaN          NaN  \n",
       "19       27345  Oaths/Pardons          NaN          NaN  "
      ]
     },
     "execution_count": 3,
     "metadata": {},
     "output_type": "execute_result"
    }
   ],
   "source": [
    "data"
   ]
  },
  {
   "cell_type": "code",
   "execution_count": 4,
   "id": "3ada73d5",
   "metadata": {
    "execution": {
     "iopub.execute_input": "2022-06-07T09:50:30.089002Z",
     "iopub.status.busy": "2022-06-07T09:50:30.087741Z",
     "iopub.status.idle": "2022-06-07T09:50:30.099744Z",
     "shell.execute_reply": "2022-06-07T09:50:30.098436Z"
    },
    "papermill": {
     "duration": 0.044803,
     "end_time": "2022-06-07T09:50:30.102418",
     "exception": false,
     "start_time": "2022-06-07T09:50:30.057615",
     "status": "completed"
    },
    "tags": []
   },
   "outputs": [
    {
     "data": {
      "text/plain": [
       "'43M\\r\\nI Mrs E Montgomery solemnly Swear that I have carefully read the Amnesty Proclamation issued by ANDREW JOHNSON, President of the United States of America, on May 29th, 1865, and that I am not excepted from the benefits of that Proclamation by any one of the fourteen exceptions therein made, \\r\\nSgd in Montgomery\\r\\n\\r\\nSworn to and subscribed before me at Charleston SC this 31 day of Oct 1865.\\r\\nLevi Stuber\\r\\nMajor 47th Pa. Vet. Vols. and Provost Marshal.\\r\\n\\r\\n[[left margin]] Duplicate [[/left margin]]\\r\\n\\r\\nNo.1984\\r\\nUnited States of America.\\r\\nI Mrs E. Montgomery of the [[strikethrough]] County [[/strikethrough]]mnly Swear in the presence of Almighty God, that I will henceforth faithfully support and defend the constitution of the United States, and the Union of the States thereunder, and that I will, in like manner, abide by and faithfully support all laws and proclamations which have been made during the existing rebellion with reference to the Emancipation of Slaves- So HELP ME GOD. \\r\\nSgd in Montgomery\\r\\n\\r\\nSworn to and subscribed before me at Charleston SC this 31 day of Oct 1865.\\r\\nLevi Stuber\\r\\nMajor 47th Pa. Vet. Vols. and Provost Marshal.\\r\\n\\r\\nThe above has Fair complexion, Dark hair, and dark eyes; is 5 feet 4 inches high, and 61 years; by profession a Widow\\r\\n\\r\\n(The original Oaths will be transmitted, by the officer administering them, to the Department of State, through intermediate channels and a certified copy thereof will be furnished to the applicant for pardon, to accompany his petition.)'"
      ]
     },
     "execution_count": 4,
     "metadata": {},
     "output_type": "execute_result"
    }
   ],
   "source": [
    "data[\"transcription_text\"][2]"
   ]
  },
  {
   "cell_type": "code",
   "execution_count": 5,
   "id": "900ede19",
   "metadata": {
    "execution": {
     "iopub.execute_input": "2022-06-07T09:50:30.159960Z",
     "iopub.status.busy": "2022-06-07T09:50:30.159523Z",
     "iopub.status.idle": "2022-06-07T09:50:30.163357Z",
     "shell.execute_reply": "2022-06-07T09:50:30.162567Z"
    },
    "papermill": {
     "duration": 0.034907,
     "end_time": "2022-06-07T09:50:30.165230",
     "exception": false,
     "start_time": "2022-06-07T09:50:30.130323",
     "status": "completed"
    },
    "tags": []
   },
   "outputs": [],
   "source": [
    "# text[2]"
   ]
  },
  {
   "cell_type": "code",
   "execution_count": 6,
   "id": "0239af69",
   "metadata": {
    "execution": {
     "iopub.execute_input": "2022-06-07T09:50:30.223348Z",
     "iopub.status.busy": "2022-06-07T09:50:30.222954Z",
     "iopub.status.idle": "2022-06-07T09:50:30.228605Z",
     "shell.execute_reply": "2022-06-07T09:50:30.227934Z"
    },
    "papermill": {
     "duration": 0.038003,
     "end_time": "2022-06-07T09:50:30.231131",
     "exception": false,
     "start_time": "2022-06-07T09:50:30.193128",
     "status": "completed"
    },
    "tags": []
   },
   "outputs": [
    {
     "data": {
      "text/plain": [
       "'No. 2324\\r\\nI do solemnly swear or affirm, in the presence of Almighty God, that I will henceforth faithfully defend the Constitution of the United States, and the Union of States thereunder, and that I will in like manner abide by and faithfully support all Laws and Proclamations which have been made during the existing rebellion, with reference to the emancipation of slaves.\\r\\nSO HELP ME GOD,\\r\\nE.B. Towne\\r\\n\\r\\n[[stamp]] INTER.REVENUE 5 5 FIVE IMAGE CENTS 5 5 INLDEXCHANGE [[stamp]]\\r\\n\\r\\nSworn to and Subscribed before me, this 31st day of August A.D. 1865.\\r\\nHu Kennedy\\r\\nMAYOR\\r\\nOf the City of New Orleans.'"
      ]
     },
     "execution_count": 6,
     "metadata": {},
     "output_type": "execute_result"
    }
   ],
   "source": [
    "data[\"transcription_text\"][3]"
   ]
  },
  {
   "cell_type": "code",
   "execution_count": 7,
   "id": "df006483",
   "metadata": {
    "execution": {
     "iopub.execute_input": "2022-06-07T09:50:30.290989Z",
     "iopub.status.busy": "2022-06-07T09:50:30.290396Z",
     "iopub.status.idle": "2022-06-07T09:50:30.294944Z",
     "shell.execute_reply": "2022-06-07T09:50:30.293999Z"
    },
    "papermill": {
     "duration": 0.036094,
     "end_time": "2022-06-07T09:50:30.297136",
     "exception": false,
     "start_time": "2022-06-07T09:50:30.261042",
     "status": "completed"
    },
    "tags": []
   },
   "outputs": [],
   "source": [
    "# text[3]"
   ]
  },
  {
   "cell_type": "code",
   "execution_count": 8,
   "id": "1d88fe2a",
   "metadata": {
    "execution": {
     "iopub.execute_input": "2022-06-07T09:50:30.354559Z",
     "iopub.status.busy": "2022-06-07T09:50:30.354158Z",
     "iopub.status.idle": "2022-06-07T09:50:30.359842Z",
     "shell.execute_reply": "2022-06-07T09:50:30.359097Z"
    },
    "papermill": {
     "duration": 0.037372,
     "end_time": "2022-06-07T09:50:30.362188",
     "exception": false,
     "start_time": "2022-06-07T09:50:30.324816",
     "status": "completed"
    },
    "tags": []
   },
   "outputs": [
    {
     "data": {
      "text/plain": [
       "'August 24. 1865\\r\\nAPPLICATION AND CERTIFICATE OF\\r\\nW.A. Fleitas\\r\\nAmnesty Oath Administered\\r\\nAt Pass Christian Mississippi\\r\\nBy J.B. Hiserodt, \\r\\n66\" U.S. Cold. Infty.'"
      ]
     },
     "execution_count": 8,
     "metadata": {},
     "output_type": "execute_result"
    }
   ],
   "source": [
    "data[\"transcription_text\"][4]"
   ]
  },
  {
   "cell_type": "code",
   "execution_count": null,
   "id": "3f36bcad",
   "metadata": {
    "papermill": {
     "duration": 0.02815,
     "end_time": "2022-06-07T09:50:30.418461",
     "exception": false,
     "start_time": "2022-06-07T09:50:30.390311",
     "status": "completed"
    },
    "tags": []
   },
   "outputs": [],
   "source": []
  },
  {
   "cell_type": "code",
   "execution_count": 9,
   "id": "aaf2d60d",
   "metadata": {
    "execution": {
     "iopub.execute_input": "2022-06-07T09:50:30.477006Z",
     "iopub.status.busy": "2022-06-07T09:50:30.476566Z",
     "iopub.status.idle": "2022-06-07T09:50:30.482751Z",
     "shell.execute_reply": "2022-06-07T09:50:30.481796Z"
    },
    "papermill": {
     "duration": 0.037914,
     "end_time": "2022-06-07T09:50:30.485068",
     "exception": false,
     "start_time": "2022-06-07T09:50:30.447154",
     "status": "completed"
    },
    "tags": []
   },
   "outputs": [
    {
     "data": {
      "text/plain": [
       "'I Wm Whaley solemnly swear that I have carefully read the Amnesty Proclamation issued by ANDREW JOHNSON, President of the United States of America, on May 29th, 1865, and that I am not excepted from the benefits of that Proclamation by any one of the fourteen exceptions therein made, except\\r\\n\\r\\nWilliam Whaley\\r\\nSworn to and subscribed before me at Charleston SC this 3 day of August 1865.\\r\\n\\r\\nLevi Stuber\\r\\nMay 4 Pa Vols\\r\\nProv. Marshal \\r\\nCity of Charleston\\r\\n\\r\\n[[left margin]]\\r\\nDuplicate\\r\\n[[/left margin]]\\r\\n\\r\\nNo. 38 \\r\\nUnited States of America. \\r\\n\\r\\n1 Wm Whaley of the County of Charleston State of So Carolina do solemnly swear in the presence of Almighty God, that I will henceforth faithfully support and defend the Constitution of the United States, and the Union of the State thereunder, and that I will, in like manner, abide by and faithfully support all laws and proclamations which have been made during the existing rebellion with reference to the Emancipation or slaves— SO HELP ME GOD.\\r\\n\\r\\nWilliam Whaley\\r\\n\\r\\nSworn to and subscribed before me at Charleston SC this 3 day of Augt 1865.\\r\\n\\r\\nLevi Stuber\\r\\nMaj 47 Po Vol. & Pro Mar\\r\\n\\r\\nThe above has fair complexion gray hair, and Brown eyes; is 5 feet 8 inches high, and 48 years; by profession a Lawyer.\\r\\n\\r\\n(The original oaths will be transmitted, by the officer administering them, to the Department of State, through intermediate channels, and a certified copy thereof will be furnished to the applicant for pardon, to accompany his petition.) '"
      ]
     },
     "execution_count": 9,
     "metadata": {},
     "output_type": "execute_result"
    }
   ],
   "source": [
    "data[\"transcription_text\"][5]"
   ]
  },
  {
   "cell_type": "code",
   "execution_count": 10,
   "id": "a63acb99",
   "metadata": {
    "execution": {
     "iopub.execute_input": "2022-06-07T09:50:30.544273Z",
     "iopub.status.busy": "2022-06-07T09:50:30.543606Z",
     "iopub.status.idle": "2022-06-07T09:50:30.547828Z",
     "shell.execute_reply": "2022-06-07T09:50:30.546954Z"
    },
    "papermill": {
     "duration": 0.036102,
     "end_time": "2022-06-07T09:50:30.549937",
     "exception": false,
     "start_time": "2022-06-07T09:50:30.513835",
     "status": "completed"
    },
    "tags": []
   },
   "outputs": [],
   "source": [
    "# text[5]"
   ]
  },
  {
   "cell_type": "code",
   "execution_count": 11,
   "id": "a23f264a",
   "metadata": {
    "execution": {
     "iopub.execute_input": "2022-06-07T09:50:30.607868Z",
     "iopub.status.busy": "2022-06-07T09:50:30.607449Z",
     "iopub.status.idle": "2022-06-07T09:50:30.613796Z",
     "shell.execute_reply": "2022-06-07T09:50:30.612838Z"
    },
    "papermill": {
     "duration": 0.038049,
     "end_time": "2022-06-07T09:50:30.615942",
     "exception": false,
     "start_time": "2022-06-07T09:50:30.577893",
     "status": "completed"
    },
    "tags": []
   },
   "outputs": [
    {
     "data": {
      "text/plain": [
       "'I J F Steinmeyer solemnly swear that I have carefully read the Amnesty Proclamation issued by ANDREW JOHNSON, President of the United States of America, on May 29th, 1865, and that I am not excepted from the benefits of that Proclamation by any one of the fourteen exceptions therein made, \\r\\nJ.F. Steinmeyer\\r\\nSworn to and subscribed before me at Charleston Sc this 16th day of Sept 1865.\\r\\nLevi Stuber\\r\\nMaj 47 & Pro Marshal\\r\\n\\r\\n[[left margin]]Duplicate[[/left margin]]\\r\\nNo. 1474\\r\\nUnited States of America.\\r\\nI J F Steinmeyer of the [[crossed out]] County [[/crossed out]]o solemnly swear in the presence of Almighty God, that I will henceforth faithfully support and defend the Constitution of the United States, and the Union of the States thereunder, and that I will, in like manner, abide by and faithfully support all laws and proclamations which have been made during the existing rebellion with reference to the Emancipation of Slaves-So HELP ME GOD.\\r\\nJ.F. Steinmeyer\\r\\nSworn to and subscribed before me at Charleston Sc this 16th day of Sept 1865.\\r\\nLevi Stuber \\r\\nMaj 47 & Pro Marshal\\r\\nThe above has Fair complexion, dark hair, and Gry eyes; is 5 feet 8 inches high, and 58 years; by profession a Builder\\r\\n(The original Oaths will be transmitted, by the officer administering them, to the Department of State, through intermediate channels, and a certified copy thereof will be furnished to the applicant for pardon, to accompany his petition.)'"
      ]
     },
     "execution_count": 11,
     "metadata": {},
     "output_type": "execute_result"
    }
   ],
   "source": [
    "data[\"transcription_text\"][6]"
   ]
  },
  {
   "cell_type": "code",
   "execution_count": 12,
   "id": "b73ff6d0",
   "metadata": {
    "execution": {
     "iopub.execute_input": "2022-06-07T09:50:30.675039Z",
     "iopub.status.busy": "2022-06-07T09:50:30.674550Z",
     "iopub.status.idle": "2022-06-07T09:50:30.680667Z",
     "shell.execute_reply": "2022-06-07T09:50:30.679950Z"
    },
    "papermill": {
     "duration": 0.037468,
     "end_time": "2022-06-07T09:50:30.682433",
     "exception": false,
     "start_time": "2022-06-07T09:50:30.644965",
     "status": "completed"
    },
    "tags": []
   },
   "outputs": [
    {
     "data": {
      "text/plain": [
       "'I Joseph Edings solemnly swear that I have carefully read the Amnesty Proclamation issued by ANDREW JOHNSON, President of the United States of America, on May 29th, 1865, and that I am not excepted from the benefits of that Proclamation by any one of the fourteen exceptions therein made, \\r\\nJoseph Edings\\r\\n\\r\\nSworn and subscribed before me at Orangeburg SC this 16 day of October 1865.\\r\\nFrank Geise\\r\\n1st Lt. 54th NYVV\\r\\nAsst Prov Marshal\\r\\n\\r\\nNo.\\r\\nUnited States of America.\\r\\nI Joseph Edings of [[crossed-out]] the County of [[/crossed-out]] Orangeburg Dist. State of South Carolina do solemnly swear in the presence of Almighty God, that I will henceforth faithfully support and defend the Constitution of the United States, and the Union of the States thereunder, and that I will, in like manner, abide by and faithfully support all laws and proclamations which have been made during the existing rebellion with reference to the Emancipation of slaves-SO HELP ME GOD.\\r\\nJoseph Edings\\r\\n\\r\\nSworn to and subscribed before me at Orangeburg SC this 16 day of October 1865.\\r\\nFrank Geise\\r\\n1st Lt 54th N.Y.V.V. & Asst Prov Marshal\\r\\n\\r\\nThe above named has dark complexion, dark hair, and dark eyes; is five feet eight inches high, and twenty eight years; by profession a planter\\r\\n\\r\\n(The original oaths will be transmitted, by the officer administering them, to the Department of State, through intermediate channels, and a certified copy thereof will be furnished to the applicant for pardon, to accompany his petition.)'"
      ]
     },
     "execution_count": 12,
     "metadata": {},
     "output_type": "execute_result"
    }
   ],
   "source": [
    "data[\"transcription_text\"][7]"
   ]
  },
  {
   "cell_type": "code",
   "execution_count": 13,
   "id": "7c7576f2",
   "metadata": {
    "execution": {
     "iopub.execute_input": "2022-06-07T09:50:30.742191Z",
     "iopub.status.busy": "2022-06-07T09:50:30.741799Z",
     "iopub.status.idle": "2022-06-07T09:50:30.747204Z",
     "shell.execute_reply": "2022-06-07T09:50:30.746577Z"
    },
    "papermill": {
     "duration": 0.038023,
     "end_time": "2022-06-07T09:50:30.749174",
     "exception": false,
     "start_time": "2022-06-07T09:50:30.711151",
     "status": "completed"
    },
    "tags": []
   },
   "outputs": [
    {
     "data": {
      "text/plain": [
       "'Vicksburg Miss. \\r\\nJuly 22 1867 \\r\\n\\r\\nThomas, Andrew \\r\\n\\r\\nOath of Loyalty \\r\\n\\r\\nRecd Bureau R.F. & AL. Miss\\r\\nJuly 22 1867'"
      ]
     },
     "execution_count": 13,
     "metadata": {},
     "output_type": "execute_result"
    }
   ],
   "source": [
    "data[\"transcription_text\"][8]"
   ]
  },
  {
   "cell_type": "code",
   "execution_count": 14,
   "id": "37c7df60",
   "metadata": {
    "execution": {
     "iopub.execute_input": "2022-06-07T09:50:30.808106Z",
     "iopub.status.busy": "2022-06-07T09:50:30.807676Z",
     "iopub.status.idle": "2022-06-07T09:50:30.812997Z",
     "shell.execute_reply": "2022-06-07T09:50:30.812316Z"
    },
    "papermill": {
     "duration": 0.037433,
     "end_time": "2022-06-07T09:50:30.814991",
     "exception": false,
     "start_time": "2022-06-07T09:50:30.777558",
     "status": "completed"
    },
    "tags": []
   },
   "outputs": [
    {
     "data": {
      "text/plain": [
       "'455\\r\\n(RETAINED COPY.)\\r\\nI, Jacob Schroder. do solemnly swear, that I have carefully read the Amnesty Proclamation issued by ANDREW JOHNSON President of the United States of America, on May 29th, 1865, and that I am not expected from the benefits of that Proclamation by any one of the fourteen exceptions therein made, except \\r\\nJacob Schroder\\r\\nSworn to and subscribed before me, at Walhalla this 6\" day of Nov\" 1865.\\r\\nR A Bray\\r\\n Capt & Ass\\'t. Provost Marshal.\\r\\n\\r\\nNo.2\\r\\nUNITED STATES OF AMERICA.\\r\\nI, Jacob Schroder of Walhalla State of South Carolina, do solemnly swear, in presence of Almighty God, that I will henceforth faithfully support and defend the Constitution of the United States, and the Union of the States thereunder, and that I will, in like manner, abide by and faithfully support all Laws and Proclamations which have been made during the existing Rebellion with reference to the Emancipation of Slaves---\"SO HELP ME GOD.\"\\r\\nJacob Schroder\\r\\n\\r\\nSworn to and subscribed before me, at Walhalla this 6\" day of Nov\", 1865.\\r\\nR A Bray\\r\\n[[strikethrough]] Lieut. [[/strikethrough]ove named has Light complexion, Gray hair, Blue eyes, is 5 feet 6 inches high, and is 58 years of age, and by profession Laborer.'"
      ]
     },
     "execution_count": 14,
     "metadata": {},
     "output_type": "execute_result"
    }
   ],
   "source": [
    "data[\"transcription_text\"][9]"
   ]
  },
  {
   "cell_type": "code",
   "execution_count": 15,
   "id": "1a78145c",
   "metadata": {
    "execution": {
     "iopub.execute_input": "2022-06-07T09:50:30.874958Z",
     "iopub.status.busy": "2022-06-07T09:50:30.874131Z",
     "iopub.status.idle": "2022-06-07T09:50:30.880371Z",
     "shell.execute_reply": "2022-06-07T09:50:30.879478Z"
    },
    "papermill": {
     "duration": 0.038686,
     "end_time": "2022-06-07T09:50:30.882254",
     "exception": false,
     "start_time": "2022-06-07T09:50:30.843568",
     "status": "completed"
    },
    "tags": []
   },
   "outputs": [
    {
     "data": {
      "text/plain": [
       "'[[image - eagle]]\\r\\nAMNESTY OATH.\\r\\n\\r\\nMississippi City Miss Sept 29 1865.\\r\\n\\r\\nI, J.W. Baxter, do solemnly swear, in presence of Almighty God, that I will henceforth faithfully support, protect and defend the Constitution of the United States and the union of the States thereunder; and that I will, in like manner, abide by and faithfully support all laws and proclamations which have been made during the existing rebellion with reference to the emancipation of slaves. SO HELP ME GOD.\\r\\nJ.W. Baxter\\r\\n\\r\\nSworn to and subscribed at Mississippi City\\r\\nthis 29th day of September 1865, before me\\r\\nJ. H. Mathews Capt 66th\\r\\nU.S Col Infty & Provost Marshal.  Sub port Miss\\r\\n\\r\\nDESCRIPTION:\\r\\nAge 24 years\\r\\nHeight 5ft 8 inches\\r\\nEyes Blue\\r\\nColor of Hair light\\r\\nCharacteristics [[blank]]\\r\\n\\r\\nHEADQUARTERS, Mississippi City Miss\\r\\nSept 29th 1865.\\r\\n\\r\\nI hereby certify, that the Amnesty Oath prescribed by the Proclamation of the President of the United States, was duly administered to J.W. Baxter of Harrison Co by my order, this 29th day of Sept 29 1865.\\r\\nFrank E. Miller\\r\\nMaj 66th USCI Commanding.\\r\\n\\r\\n\\r\\n[TRIPLICATE.]'"
      ]
     },
     "execution_count": 15,
     "metadata": {},
     "output_type": "execute_result"
    }
   ],
   "source": [
    "data[\"transcription_text\"][10]"
   ]
  },
  {
   "cell_type": "code",
   "execution_count": 16,
   "id": "928ab211",
   "metadata": {
    "execution": {
     "iopub.execute_input": "2022-06-07T09:50:30.942453Z",
     "iopub.status.busy": "2022-06-07T09:50:30.941477Z",
     "iopub.status.idle": "2022-06-07T09:50:30.948545Z",
     "shell.execute_reply": "2022-06-07T09:50:30.947656Z"
    },
    "papermill": {
     "duration": 0.039606,
     "end_time": "2022-06-07T09:50:30.950684",
     "exception": false,
     "start_time": "2022-06-07T09:50:30.911078",
     "status": "completed"
    },
    "tags": []
   },
   "outputs": [
    {
     "data": {
      "text/plain": [
       "'OATH.\\r\\nI, P. P. Bergevin, \\r\\ndo solemnly swear that I have never voluntarily borne arms against the United States since I have been a citizen thereof; that I have voluntarily given no aid, countenance, counsel, or encouragement to persons engaged in armed hostility thereto; that I have neither sought, not accepted, nor attempted to exercise the functions of any office whatever, under any authority, or pretended authority, in hostility to the United States; that I have not yielded a voluntary support to any pretended government, authority, power, or constitution within the United States, hostile or inimical thereto.  And I do further swear, or affirm, that, to the best of my knowledge and ability, I will support and defend the Constitution of the United States against all enemies, foreign and domestic; that I will bear true faith and allegiance to the same; that I take this obligation freely, without any mental reservation or purpose of evasion; and that I will well and faithfully discharge the duties of the office on which I am about to enter: So help me God.\\r\\nP. P. Bergevin\\r\\nSworn to and subscribed before me, at Woodville Wilkinson Co Miss \\r\\nthis 3d day of February 1868\\r\\nP H Joor Justice of the\\r\\nPeace Wilkinson County.\\r\\nState of Mississippi\\r\\n'"
      ]
     },
     "execution_count": 16,
     "metadata": {},
     "output_type": "execute_result"
    }
   ],
   "source": [
    "data[\"transcription_text\"][11]"
   ]
  },
  {
   "cell_type": "code",
   "execution_count": 17,
   "id": "b3219f28",
   "metadata": {
    "execution": {
     "iopub.execute_input": "2022-06-07T09:50:31.011738Z",
     "iopub.status.busy": "2022-06-07T09:50:31.010940Z",
     "iopub.status.idle": "2022-06-07T09:50:31.017638Z",
     "shell.execute_reply": "2022-06-07T09:50:31.016825Z"
    },
    "papermill": {
     "duration": 0.039605,
     "end_time": "2022-06-07T09:50:31.019633",
     "exception": false,
     "start_time": "2022-06-07T09:50:30.980028",
     "status": "completed"
    },
    "tags": []
   },
   "outputs": [
    {
     "data": {
      "text/plain": [
       "'Frank Conner '"
      ]
     },
     "execution_count": 17,
     "metadata": {},
     "output_type": "execute_result"
    }
   ],
   "source": [
    "data[\"transcription_text\"][12]"
   ]
  },
  {
   "cell_type": "code",
   "execution_count": 18,
   "id": "b0662964",
   "metadata": {
    "execution": {
     "iopub.execute_input": "2022-06-07T09:50:31.081801Z",
     "iopub.status.busy": "2022-06-07T09:50:31.081314Z",
     "iopub.status.idle": "2022-06-07T09:50:31.087506Z",
     "shell.execute_reply": "2022-06-07T09:50:31.086880Z"
    },
    "papermill": {
     "duration": 0.039933,
     "end_time": "2022-06-07T09:50:31.090203",
     "exception": false,
     "start_time": "2022-06-07T09:50:31.050270",
     "status": "completed"
    },
    "tags": []
   },
   "outputs": [
    {
     "data": {
      "text/plain": [
       "'I Caroline Belitzer solemnly Swear that I have carefully read the Amnesty Proclamation issued by ANDREW JOHNSON, President of the United States of America, on May 29th, 1865, and that I am not excepted from the benefits of that Proclamation by any one of the fourteen exceptions therein made, \\r\\ncaroline Belitzer\\r\\n\\r\\nSworn to and subscribed before me at Charleston S.C. this 7th day of September 186 [strikethrough]]5[[/strikethrough]] 6.\\r\\nF. K. Field\\r\\nCapt 128th USCT \\r\\nProv. Mar. \\r\\n\\r\\n[[left margin]] Copy F. K. Field\\r\\nCapt 128\" USCT Pro. Mar. [[/left margin]]\\r\\n\\r\\nNO. 117\\r\\nUnited States of America.\\r\\n\\r\\nI Caroline Belitzer of the [[strikethrough]] County [[/strikethrough]] dist. of Charleston State of So Carolina do solemnly Swear in the presence of Almighty God, that I will henceforth faithfully support and defend the Constitution of the United States, and the Union of the States thereunder, and that I will, in like manner, abide by and faithfully support all laws and proclamations which have been made during the existing rebellion with reference to the Emancipation of Slaves-SO HELP ME GOD.\\r\\nCaroline Belitzer\\r\\n\\r\\nSworn to and subscribed before me at Charleston S. C. this 7th day of September 186 [[strikethrough]]5 [[/strikethrough]]6.\\r\\nF. K. Field\\r\\nCapt 128th USCT \\r\\nProv. Mar.\\r\\n\\r\\nThe above has dark complexion, dark hair, and dark eyes; is 5 feet 6 inches high, and 45years; [[strikethrough]] by profession [[/strikethrough]] a lady.\\r\\n\\r\\n(The original oaths will be transmitted, by the officer administering them, to the Department of State, through intermediate channels, and a certified copy thereof will be furnished to the applicant for pardon, to accompany his petition.)'"
      ]
     },
     "execution_count": 18,
     "metadata": {},
     "output_type": "execute_result"
    }
   ],
   "source": [
    "data[\"transcription_text\"][13]"
   ]
  },
  {
   "cell_type": "code",
   "execution_count": 19,
   "id": "9d5e2b1e",
   "metadata": {
    "execution": {
     "iopub.execute_input": "2022-06-07T09:50:31.152190Z",
     "iopub.status.busy": "2022-06-07T09:50:31.151686Z",
     "iopub.status.idle": "2022-06-07T09:50:31.159227Z",
     "shell.execute_reply": "2022-06-07T09:50:31.158313Z"
    },
    "papermill": {
     "duration": 0.041117,
     "end_time": "2022-06-07T09:50:31.161460",
     "exception": false,
     "start_time": "2022-06-07T09:50:31.120343",
     "status": "completed"
    },
    "tags": []
   },
   "outputs": [
    {
     "data": {
      "text/plain": [
       "']\\r\\nAMNESTY OATH.\\r\\n\\r\\nMississippi City Miss Sept 29 1865.\\r\\n\\r\\nI, J.W. Baxter, do solemnly swear, in presence of Almighty God, that I will henceforth faithfully support, protect and defend the Constitution of the United States and the union of the States thereunder; and that I will, in like manner, abide by and faithfully support all laws and proclamations which have been made during the existing rebellion with reference to the emancipation of slaves. SO HELP ME GOD.\\r\\nJ.W. Baxter\\r\\n\\r\\nSworn to and subscribed at Mississippi City\\r\\nthis 29th day of September 1865, before me\\r\\nJ. H. Mathews Capt 66th\\r\\nU.S Col Infty & Provost Marshal.  Sub port Miss\\r\\n\\r\\nDESCRIPTION:\\r\\nAge 24 years\\r\\nHeight 5ft 8 inches\\r\\nEyes Blue\\r\\nColor of Hair light\\r\\nCharacteristics ]\\r\\n\\r\\nHEADQUARTERS, Mississippi City Miss\\r\\nSept 29th 1865.\\r\\n\\r\\nI hereby certify, that the Amnesty Oath prescribed by the Proclamation of the President of the United States, was duly administered to J.W. Baxter of Harrison Co by my order, this 29th day of Sept 29 1865.\\r\\nFrank E. Miller\\r\\nMaj 66th USCI Commanding.\\r\\n\\r\\n\\r\\n'"
      ]
     },
     "execution_count": 19,
     "metadata": {},
     "output_type": "execute_result"
    }
   ],
   "source": [
    "txte= re.sub(\"([\\(\\[]).*?([\\)\\]])\",\"\",data[\"transcription_text\"][10])\n",
    "txte"
   ]
  },
  {
   "cell_type": "code",
   "execution_count": 20,
   "id": "55a4d20e",
   "metadata": {
    "execution": {
     "iopub.execute_input": "2022-06-07T09:50:31.222609Z",
     "iopub.status.busy": "2022-06-07T09:50:31.222184Z",
     "iopub.status.idle": "2022-06-07T09:50:31.228342Z",
     "shell.execute_reply": "2022-06-07T09:50:31.227596Z"
    },
    "papermill": {
     "duration": 0.039598,
     "end_time": "2022-06-07T09:50:31.230714",
     "exception": false,
     "start_time": "2022-06-07T09:50:31.191116",
     "status": "completed"
    },
    "tags": []
   },
   "outputs": [
    {
     "data": {
      "text/plain": [
       "']\\r\\nAMNESTY OATH.\\r\\n\\r\\nMississippi City Miss Sept 29 1865.\\r\\n\\r\\nI, J.W. Baxter, do solemnly swear, in presence of Almighty God, that I will henceforth faithfully support, protect and defend the Constitution of the United States and the union of the States thereunder; and that I will, in like manner, abide by and faithfully support all laws and proclamations which have been made during the existing rebellion with reference to the emancipation of slaves. SO HELP ME GOD.\\r\\nJ.W. Baxter\\r\\n\\r\\nSworn to and subscribed at Mississippi City\\r\\nthis 29th day of September 1865, before me\\r\\nJ. H. Mathews Capt 66th\\r\\nU.S Col Infty & Provost Marshal.  Sub port Miss\\r\\n\\r\\nDESCRIPTION:\\r\\nAge 24 years\\r\\nHeight 5ft 8 inches\\r\\nEyes Blue\\r\\nColor of Hair light\\r\\nCharacteristics ]\\r\\n\\r\\nHEADQUARTERS, Mississippi City Miss\\r\\nSept 29th 1865.\\r\\n\\r\\nI hereby certify, that the Amnesty Oath prescribed by the Proclamation of the President of the United States, was duly administered to J.W. Baxter of Harrison Co by my order, this 29th day of Sept 29 1865.\\r\\nFrank E. Miller\\r\\nMaj 66th USCI Commanding.\\r\\n\\r\\n\\r\\n'"
      ]
     },
     "execution_count": 20,
     "metadata": {},
     "output_type": "execute_result"
    }
   ],
   "source": [
    "txte= re.sub(\"([\\(\\[]).*?([\\)\\]])\",\"\",data[\"transcription_text\"][10])\n",
    "txte"
   ]
  },
  {
   "cell_type": "markdown",
   "id": "4bdb2ebb",
   "metadata": {
    "papermill": {
     "duration": 0.029267,
     "end_time": "2022-06-07T09:50:31.290272",
     "exception": false,
     "start_time": "2022-06-07T09:50:31.261005",
     "status": "completed"
    },
    "tags": []
   },
   "source": [
    "# Preprocessing"
   ]
  },
  {
   "cell_type": "code",
   "execution_count": 21,
   "id": "58405932",
   "metadata": {
    "execution": {
     "iopub.execute_input": "2022-06-07T09:50:31.352004Z",
     "iopub.status.busy": "2022-06-07T09:50:31.350800Z",
     "iopub.status.idle": "2022-06-07T09:50:31.355945Z",
     "shell.execute_reply": "2022-06-07T09:50:31.355162Z"
    },
    "papermill": {
     "duration": 0.038266,
     "end_time": "2022-06-07T09:50:31.358034",
     "exception": false,
     "start_time": "2022-06-07T09:50:31.319768",
     "status": "completed"
    },
    "tags": []
   },
   "outputs": [],
   "source": [
    "text=data[\"transcription_text\"]"
   ]
  },
  {
   "cell_type": "code",
   "execution_count": 22,
   "id": "66a86b5f",
   "metadata": {
    "execution": {
     "iopub.execute_input": "2022-06-07T09:50:31.419549Z",
     "iopub.status.busy": "2022-06-07T09:50:31.418835Z",
     "iopub.status.idle": "2022-06-07T09:50:31.433172Z",
     "shell.execute_reply": "2022-06-07T09:50:31.432080Z"
    },
    "papermill": {
     "duration": 0.04811,
     "end_time": "2022-06-07T09:50:31.435690",
     "exception": false,
     "start_time": "2022-06-07T09:50:31.387580",
     "status": "completed"
    },
    "tags": []
   },
   "outputs": [],
   "source": [
    "stop_words = set(stopwords.words('english'))\n",
    "punctuation = string.punctuation\n",
    "stemmer = SnowballStemmer(language=\"english\")\n",
    "lemmatizer = WordNetLemmatizer()"
   ]
  },
  {
   "cell_type": "code",
   "execution_count": 23,
   "id": "f541be0d",
   "metadata": {
    "execution": {
     "iopub.execute_input": "2022-06-07T09:50:31.499546Z",
     "iopub.status.busy": "2022-06-07T09:50:31.498828Z",
     "iopub.status.idle": "2022-06-07T09:50:31.504506Z",
     "shell.execute_reply": "2022-06-07T09:50:31.503572Z"
    },
    "papermill": {
     "duration": 0.040964,
     "end_time": "2022-06-07T09:50:31.506515",
     "exception": false,
     "start_time": "2022-06-07T09:50:31.465551",
     "status": "completed"
    },
    "tags": []
   },
   "outputs": [
    {
     "data": {
      "text/plain": [
       "'!\"#$%&\\'()*+,-./:;<=>?@[\\\\]^_`{|}~'"
      ]
     },
     "execution_count": 23,
     "metadata": {},
     "output_type": "execute_result"
    }
   ],
   "source": [
    "stop_words.remove(\"of\")\n",
    "punctuation"
   ]
  },
  {
   "cell_type": "code",
   "execution_count": 24,
   "id": "3ee409ce",
   "metadata": {
    "execution": {
     "iopub.execute_input": "2022-06-07T09:50:31.568987Z",
     "iopub.status.busy": "2022-06-07T09:50:31.568264Z",
     "iopub.status.idle": "2022-06-07T09:50:31.574564Z",
     "shell.execute_reply": "2022-06-07T09:50:31.573880Z"
    },
    "papermill": {
     "duration": 0.040068,
     "end_time": "2022-06-07T09:50:31.576885",
     "exception": false,
     "start_time": "2022-06-07T09:50:31.536817",
     "status": "completed"
    },
    "tags": []
   },
   "outputs": [],
   "source": [
    "def process(s):\n",
    "    s= re.sub(\"([\\(\\[]).*?([\\)\\]])\",\" \",s)\n",
    "    for p in punctuation:\n",
    "        s = s.replace(p, '')\n",
    "    s = word_tokenize(s)\n",
    "    s = [w for w in s if not w in stop_words] #optional\n",
    "    s = [lemmatizer.lemmatize(word) for word in s]\n",
    "    return s"
   ]
  },
  {
   "cell_type": "code",
   "execution_count": 25,
   "id": "a4039e38",
   "metadata": {
    "execution": {
     "iopub.execute_input": "2022-06-07T09:50:31.638694Z",
     "iopub.status.busy": "2022-06-07T09:50:31.638023Z",
     "iopub.status.idle": "2022-06-07T09:50:34.127097Z",
     "shell.execute_reply": "2022-06-07T09:50:34.125929Z"
    },
    "papermill": {
     "duration": 2.522914,
     "end_time": "2022-06-07T09:50:34.129908",
     "exception": false,
     "start_time": "2022-06-07T09:50:31.606994",
     "status": "completed"
    },
    "tags": []
   },
   "outputs": [
    {
     "name": "stderr",
     "output_type": "stream",
     "text": [
      "100%|██████████| 20/20 [00:02<00:00,  8.07it/s]\n"
     ]
    }
   ],
   "source": [
    "for i in tqdm(range(data.shape[0])):\n",
    "    text[i] = process(text[i])"
   ]
  },
  {
   "cell_type": "code",
   "execution_count": 26,
   "id": "9e7b5d01",
   "metadata": {
    "execution": {
     "iopub.execute_input": "2022-06-07T09:50:34.193441Z",
     "iopub.status.busy": "2022-06-07T09:50:34.193005Z",
     "iopub.status.idle": "2022-06-07T09:50:34.213590Z",
     "shell.execute_reply": "2022-06-07T09:50:34.212073Z"
    },
    "papermill": {
     "duration": 0.055467,
     "end_time": "2022-06-07T09:50:34.216754",
     "exception": false,
     "start_time": "2022-06-07T09:50:34.161287",
     "status": "completed"
    },
    "tags": []
   },
   "outputs": [
    {
     "name": "stderr",
     "output_type": "stream",
     "text": [
      "100%|██████████| 20/20 [00:00<00:00, 2081.23it/s]\n"
     ]
    }
   ],
   "source": [
    "for i in tqdm(range(data.shape[0])):\n",
    "    text[i] = \" \".join(text[i])"
   ]
  },
  {
   "cell_type": "code",
   "execution_count": 27,
   "id": "b60fe313",
   "metadata": {
    "execution": {
     "iopub.execute_input": "2022-06-07T09:50:34.280803Z",
     "iopub.status.busy": "2022-06-07T09:50:34.280349Z",
     "iopub.status.idle": "2022-06-07T09:50:34.287821Z",
     "shell.execute_reply": "2022-06-07T09:50:34.286562Z"
    },
    "papermill": {
     "duration": 0.041433,
     "end_time": "2022-06-07T09:50:34.290017",
     "exception": false,
     "start_time": "2022-06-07T09:50:34.248584",
     "status": "completed"
    },
    "tags": []
   },
   "outputs": [
    {
     "data": {
      "text/plain": [
       "'I E C Whaley solemnly swear I carefully read Amnesty Proclamation issued Andrew Johnson President of United State of America May 29th 1865 I excepted benefit of Proclamation one of fourteen exception therein made except E C Whaley Sworn subscribed Charleston SC 28 day of Sept 1865 Levi Steuben Maj 47th PM United States of America E C Whaley of city county Charleston Sate of South Ca solemnly swear presence of Almighty God I henceforth faithfully support defend Constitution of United States Union of States thereunder I like manner abide faithfully support law proclamation made existing rebellion reference Emancipation of SlavesSO HELP ME GOD E C Whaley Sworn subscribed Charleston SC 28 day of Sept 1865 Levi Steuben May 47 PM The fair complexion light hair gray eye 5 foot 10 inch high 39 year profession planter Copy Levi Steuben Maj 47th Pro Marshal City of Charleston'"
      ]
     },
     "execution_count": 27,
     "metadata": {},
     "output_type": "execute_result"
    }
   ],
   "source": [
    "text[1]"
   ]
  },
  {
   "cell_type": "code",
   "execution_count": 28,
   "id": "7e8a22e2",
   "metadata": {
    "execution": {
     "iopub.execute_input": "2022-06-07T09:50:34.352913Z",
     "iopub.status.busy": "2022-06-07T09:50:34.352432Z",
     "iopub.status.idle": "2022-06-07T09:50:34.361036Z",
     "shell.execute_reply": "2022-06-07T09:50:34.359737Z"
    },
    "papermill": {
     "duration": 0.043202,
     "end_time": "2022-06-07T09:50:34.363820",
     "exception": false,
     "start_time": "2022-06-07T09:50:34.320618",
     "status": "completed"
    },
    "tags": []
   },
   "outputs": [
    {
     "data": {
      "text/plain": [
       "'43M I Mrs E Montgomery solemnly Swear I carefully read Amnesty Proclamation issued ANDREW JOHNSON President of United States of America May 29th 1865 I excepted benefit of Proclamation one of fourteen exception therein made Sgd Montgomery Sworn subscribed Charleston SC 31 day of Oct 1865 Levi Stuber Major 47th Pa Vet Vols Provost Marshal Duplicate No1984 United States of America I Mrs E Montgomery of County mnly Swear presence of Almighty God I henceforth faithfully support defend constitution of United States Union of States thereunder I like manner abide faithfully support law proclamation made existing rebellion reference Emancipation of Slaves So HELP ME GOD Sgd Montgomery Sworn subscribed Charleston SC 31 day of Oct 1865 Levi Stuber Major 47th Pa Vet Vols Provost Marshal The Fair complexion Dark hair dark eye 5 foot 4 inch high 61 year profession Widow'"
      ]
     },
     "execution_count": 28,
     "metadata": {},
     "output_type": "execute_result"
    }
   ],
   "source": [
    "data[\"transcription_text\"][2]"
   ]
  },
  {
   "cell_type": "code",
   "execution_count": 29,
   "id": "cf05920a",
   "metadata": {
    "execution": {
     "iopub.execute_input": "2022-06-07T09:50:34.430412Z",
     "iopub.status.busy": "2022-06-07T09:50:34.429986Z",
     "iopub.status.idle": "2022-06-07T09:50:34.436939Z",
     "shell.execute_reply": "2022-06-07T09:50:34.436159Z"
    },
    "papermill": {
     "duration": 0.044202,
     "end_time": "2022-06-07T09:50:34.438957",
     "exception": false,
     "start_time": "2022-06-07T09:50:34.394755",
     "status": "completed"
    },
    "tags": []
   },
   "outputs": [
    {
     "data": {
      "text/plain": [
       "'43M I Mrs E Montgomery solemnly Swear I carefully read Amnesty Proclamation issued ANDREW JOHNSON President of United States of America May 29th 1865 I excepted benefit of Proclamation one of fourteen exception therein made Sgd Montgomery Sworn subscribed Charleston SC 31 day of Oct 1865 Levi Stuber Major 47th Pa Vet Vols Provost Marshal Duplicate No1984 United States of America I Mrs E Montgomery of County mnly Swear presence of Almighty God I henceforth faithfully support defend constitution of United States Union of States thereunder I like manner abide faithfully support law proclamation made existing rebellion reference Emancipation of Slaves So HELP ME GOD Sgd Montgomery Sworn subscribed Charleston SC 31 day of Oct 1865 Levi Stuber Major 47th Pa Vet Vols Provost Marshal The Fair complexion Dark hair dark eye 5 foot 4 inch high 61 year profession Widow'"
      ]
     },
     "execution_count": 29,
     "metadata": {},
     "output_type": "execute_result"
    }
   ],
   "source": [
    "text[2]"
   ]
  },
  {
   "cell_type": "code",
   "execution_count": 30,
   "id": "a392ffef",
   "metadata": {
    "execution": {
     "iopub.execute_input": "2022-06-07T09:50:34.503408Z",
     "iopub.status.busy": "2022-06-07T09:50:34.502548Z",
     "iopub.status.idle": "2022-06-07T09:50:34.507978Z",
     "shell.execute_reply": "2022-06-07T09:50:34.507257Z"
    },
    "papermill": {
     "duration": 0.039944,
     "end_time": "2022-06-07T09:50:34.510063",
     "exception": false,
     "start_time": "2022-06-07T09:50:34.470119",
     "status": "completed"
    },
    "tags": []
   },
   "outputs": [
    {
     "data": {
      "text/plain": [
       "'No 2324 I solemnly swear affirm presence of Almighty God I henceforth faithfully defend Constitution of United States Union of States thereunder I like manner abide faithfully support Laws Proclamations made existing rebellion reference emancipation of slave SO HELP ME GOD EB Towne INTERREVENUE 5 5 FIVE IMAGE CENTS 5 5 INLDEXCHANGE Sworn Subscribed 31st day of August AD 1865 Hu Kennedy MAYOR Of City of New Orleans'"
      ]
     },
     "execution_count": 30,
     "metadata": {},
     "output_type": "execute_result"
    }
   ],
   "source": [
    "text[3]"
   ]
  },
  {
   "cell_type": "code",
   "execution_count": 31,
   "id": "e14c7612",
   "metadata": {
    "execution": {
     "iopub.execute_input": "2022-06-07T09:50:34.574952Z",
     "iopub.status.busy": "2022-06-07T09:50:34.574329Z",
     "iopub.status.idle": "2022-06-07T09:50:34.580135Z",
     "shell.execute_reply": "2022-06-07T09:50:34.579187Z"
    },
    "papermill": {
     "duration": 0.041357,
     "end_time": "2022-06-07T09:50:34.582488",
     "exception": false,
     "start_time": "2022-06-07T09:50:34.541131",
     "status": "completed"
    },
    "tags": []
   },
   "outputs": [
    {
     "data": {
      "text/plain": [
       "'August 24 1865 APPLICATION AND CERTIFICATE OF WA Fleitas Amnesty Oath Administered At Pass Christian Mississippi By JB Hiserodt 66 US Cold Infty'"
      ]
     },
     "execution_count": 31,
     "metadata": {},
     "output_type": "execute_result"
    }
   ],
   "source": [
    "text[4]"
   ]
  },
  {
   "cell_type": "code",
   "execution_count": 32,
   "id": "93309b19",
   "metadata": {
    "execution": {
     "iopub.execute_input": "2022-06-07T09:50:34.647944Z",
     "iopub.status.busy": "2022-06-07T09:50:34.647527Z",
     "iopub.status.idle": "2022-06-07T09:50:34.653765Z",
     "shell.execute_reply": "2022-06-07T09:50:34.652891Z"
    },
    "papermill": {
     "duration": 0.041623,
     "end_time": "2022-06-07T09:50:34.656015",
     "exception": false,
     "start_time": "2022-06-07T09:50:34.614392",
     "status": "completed"
    },
    "tags": []
   },
   "outputs": [
    {
     "data": {
      "text/plain": [
       "'AMNESTY OATH Mississippi City Miss Sept 29 1865 I JW Baxter solemnly swear presence of Almighty God I henceforth faithfully support protect defend Constitution of United States union of States thereunder I like manner abide faithfully support law proclamation made existing rebellion reference emancipation of slave SO HELP ME GOD JW Baxter Sworn subscribed Mississippi City 29th day of September 1865 J H Mathews Capt 66th US Col Infty Provost Marshal Sub port Miss DESCRIPTION Age 24 year Height 5ft 8 inch Eyes Blue Color of Hair light Characteristics HEADQUARTERS Mississippi City Miss Sept 29th 1865 I hereby certify Amnesty Oath prescribed Proclamation of President of United States duly administered JW Baxter of Harrison Co order 29th day of Sept 29 1865 Frank E Miller Maj 66th USCI Commanding'"
      ]
     },
     "execution_count": 32,
     "metadata": {},
     "output_type": "execute_result"
    }
   ],
   "source": [
    "text[10]"
   ]
  },
  {
   "cell_type": "markdown",
   "id": "c519de9a",
   "metadata": {
    "papermill": {
     "duration": 0.031696,
     "end_time": "2022-06-07T09:50:34.718983",
     "exception": false,
     "start_time": "2022-06-07T09:50:34.687287",
     "status": "completed"
    },
    "tags": []
   },
   "source": [
    "# spacy"
   ]
  },
  {
   "cell_type": "code",
   "execution_count": 33,
   "id": "693a1349",
   "metadata": {
    "execution": {
     "iopub.execute_input": "2022-06-07T09:50:34.785921Z",
     "iopub.status.busy": "2022-06-07T09:50:34.785465Z",
     "iopub.status.idle": "2022-06-07T09:51:50.975741Z",
     "shell.execute_reply": "2022-06-07T09:51:50.974267Z"
    },
    "papermill": {
     "duration": 76.228106,
     "end_time": "2022-06-07T09:51:50.978685",
     "exception": false,
     "start_time": "2022-06-07T09:50:34.750579",
     "status": "completed"
    },
    "tags": []
   },
   "outputs": [
    {
     "name": "stdout",
     "output_type": "stream",
     "text": [
      "Requirement already satisfied: Cython in /opt/conda/lib/python3.7/site-packages (0.29.30)\r\n",
      "\u001b[33mWARNING: Running pip as the 'root' user can result in broken permissions and conflicting behaviour with the system package manager. It is recommended to use a virtual environment instead: https://pip.pypa.io/warnings/venv\u001b[0m\u001b[33m\r\n",
      "\u001b[0mRequirement already satisfied: transformers in /opt/conda/lib/python3.7/site-packages (4.18.0)\r\n",
      "Requirement already satisfied: huggingface-hub<1.0,>=0.1.0 in /opt/conda/lib/python3.7/site-packages (from transformers) (0.5.1)\r\n",
      "Requirement already satisfied: tqdm>=4.27 in /opt/conda/lib/python3.7/site-packages (from transformers) (4.64.0)\r\n",
      "Requirement already satisfied: sacremoses in /opt/conda/lib/python3.7/site-packages (from transformers) (0.0.53)\r\n",
      "Requirement already satisfied: packaging>=20.0 in /opt/conda/lib/python3.7/site-packages (from transformers) (21.3)\r\n",
      "Requirement already satisfied: filelock in /opt/conda/lib/python3.7/site-packages (from transformers) (3.6.0)\r\n",
      "Requirement already satisfied: importlib-metadata in /opt/conda/lib/python3.7/site-packages (from transformers) (4.11.4)\r\n",
      "Requirement already satisfied: tokenizers!=0.11.3,<0.13,>=0.11.1 in /opt/conda/lib/python3.7/site-packages (from transformers) (0.12.1)\r\n",
      "Requirement already satisfied: numpy>=1.17 in /opt/conda/lib/python3.7/site-packages (from transformers) (1.21.6)\r\n",
      "Requirement already satisfied: pyyaml>=5.1 in /opt/conda/lib/python3.7/site-packages (from transformers) (6.0)\r\n",
      "Requirement already satisfied: regex!=2019.12.17 in /opt/conda/lib/python3.7/site-packages (from transformers) (2021.11.10)\r\n",
      "Requirement already satisfied: requests in /opt/conda/lib/python3.7/site-packages (from transformers) (2.27.1)\r\n",
      "Requirement already satisfied: typing-extensions>=3.7.4.3 in /opt/conda/lib/python3.7/site-packages (from huggingface-hub<1.0,>=0.1.0->transformers) (4.2.0)\r\n",
      "Requirement already satisfied: pyparsing!=3.0.5,>=2.0.2 in /opt/conda/lib/python3.7/site-packages (from packaging>=20.0->transformers) (3.0.9)\r\n",
      "Requirement already satisfied: zipp>=0.5 in /opt/conda/lib/python3.7/site-packages (from importlib-metadata->transformers) (3.8.0)\r\n",
      "Requirement already satisfied: certifi>=2017.4.17 in /opt/conda/lib/python3.7/site-packages (from requests->transformers) (2022.5.18.1)\r\n",
      "Requirement already satisfied: idna<4,>=2.5 in /opt/conda/lib/python3.7/site-packages (from requests->transformers) (3.3)\r\n",
      "Requirement already satisfied: urllib3<1.27,>=1.21.1 in /opt/conda/lib/python3.7/site-packages (from requests->transformers) (1.26.9)\r\n",
      "Requirement already satisfied: charset-normalizer~=2.0.0 in /opt/conda/lib/python3.7/site-packages (from requests->transformers) (2.0.12)\r\n",
      "Requirement already satisfied: click in /opt/conda/lib/python3.7/site-packages (from sacremoses->transformers) (8.0.4)\r\n",
      "Requirement already satisfied: six in /opt/conda/lib/python3.7/site-packages (from sacremoses->transformers) (1.16.0)\r\n",
      "Requirement already satisfied: joblib in /opt/conda/lib/python3.7/site-packages (from sacremoses->transformers) (1.1.0)\r\n",
      "\u001b[33mWARNING: Running pip as the 'root' user can result in broken permissions and conflicting behaviour with the system package manager. It is recommended to use a virtual environment instead: https://pip.pypa.io/warnings/venv\u001b[0m\u001b[33m\r\n",
      "\u001b[0mCollecting flair\r\n",
      "  Downloading flair-0.11.3-py3-none-any.whl (401 kB)\r\n",
      "\u001b[2K     \u001b[90m━━━━━━━━━━━━━━━━━━━━━━━━━━━━━━━━━━━━━━━\u001b[0m \u001b[32m401.9/401.9 kB\u001b[0m \u001b[31m1.5 MB/s\u001b[0m eta \u001b[36m0:00:00\u001b[0m\r\n",
      "\u001b[?25hCollecting konoha<5.0.0,>=4.0.0\r\n",
      "  Downloading konoha-4.6.5-py3-none-any.whl (20 kB)\r\n",
      "Requirement already satisfied: more-itertools in /opt/conda/lib/python3.7/site-packages (from flair) (8.13.0)\r\n",
      "Requirement already satisfied: python-dateutil>=2.6.1 in /opt/conda/lib/python3.7/site-packages (from flair) (2.8.2)\r\n",
      "Collecting ftfy\r\n",
      "  Downloading ftfy-6.1.1-py3-none-any.whl (53 kB)\r\n",
      "\u001b[2K     \u001b[90m━━━━━━━━━━━━━━━━━━━━━━━━━━━━━━━━━━━━━━━━\u001b[0m \u001b[32m53.1/53.1 kB\u001b[0m \u001b[31m3.1 MB/s\u001b[0m eta \u001b[36m0:00:00\u001b[0m\r\n",
      "\u001b[?25hCollecting pptree\r\n",
      "  Downloading pptree-3.1.tar.gz (3.0 kB)\r\n",
      "  Preparing metadata (setup.py) ... \u001b[?25l-\b \bdone\r\n",
      "\u001b[?25hRequirement already satisfied: gensim>=3.4.0 in /opt/conda/lib/python3.7/site-packages (from flair) (4.0.1)\r\n",
      "Requirement already satisfied: scikit-learn>=0.21.3 in /opt/conda/lib/python3.7/site-packages (from flair) (1.0.2)\r\n",
      "Collecting deprecated>=1.2.4\r\n",
      "  Downloading Deprecated-1.2.13-py2.py3-none-any.whl (9.6 kB)\r\n",
      "Collecting sqlitedict>=1.6.0\r\n",
      "  Downloading sqlitedict-2.0.0.tar.gz (46 kB)\r\n",
      "\u001b[2K     \u001b[90m━━━━━━━━━━━━━━━━━━━━━━━━━━━━━━━━━━━━━━━━\u001b[0m \u001b[32m46.3/46.3 kB\u001b[0m \u001b[31m2.4 MB/s\u001b[0m eta \u001b[36m0:00:00\u001b[0m\r\n",
      "\u001b[?25h  Preparing metadata (setup.py) ... \u001b[?25l-\b \bdone\r\n",
      "\u001b[?25hCollecting mpld3==0.3\r\n",
      "  Downloading mpld3-0.3.tar.gz (788 kB)\r\n",
      "\u001b[2K     \u001b[90m━━━━━━━━━━━━━━━━━━━━━━━━━━━━━━━━━━━━━━━\u001b[0m \u001b[32m788.5/788.5 kB\u001b[0m \u001b[31m7.3 MB/s\u001b[0m eta \u001b[36m0:00:00\u001b[0m\r\n",
      "\u001b[?25h  Preparing metadata (setup.py) ... \u001b[?25l-\b \bdone\r\n",
      "\u001b[?25hRequirement already satisfied: torch!=1.8,>=1.5.0 in /opt/conda/lib/python3.7/site-packages (from flair) (1.11.0+cpu)\r\n",
      "Collecting conllu>=4.0\r\n",
      "  Downloading conllu-4.4.2-py2.py3-none-any.whl (15 kB)\r\n",
      "Collecting sentencepiece==0.1.95\r\n",
      "  Downloading sentencepiece-0.1.95-cp37-cp37m-manylinux2014_x86_64.whl (1.2 MB)\r\n",
      "\u001b[2K     \u001b[90m━━━━━━━━━━━━━━━━━━━━━━━━━━━━━━━━━━━━━━━━\u001b[0m \u001b[32m1.2/1.2 MB\u001b[0m \u001b[31m12.8 MB/s\u001b[0m eta \u001b[36m0:00:00\u001b[0m\r\n",
      "\u001b[?25hCollecting bpemb>=0.3.2\r\n",
      "  Downloading bpemb-0.3.3-py3-none-any.whl (19 kB)\r\n",
      "Requirement already satisfied: tabulate in /opt/conda/lib/python3.7/site-packages (from flair) (0.8.9)\r\n",
      "Requirement already satisfied: transformers>=4.0.0 in /opt/conda/lib/python3.7/site-packages (from flair) (4.18.0)\r\n",
      "Requirement already satisfied: lxml in /opt/conda/lib/python3.7/site-packages (from flair) (4.8.0)\r\n",
      "Collecting gdown==4.4.0\r\n",
      "  Downloading gdown-4.4.0.tar.gz (14 kB)\r\n",
      "  Installing build dependencies ... \u001b[?25l-\b \b\\\b \b|\b \b/\b \b-\b \b\\\b \bdone\r\n",
      "\u001b[?25h  Getting requirements to build wheel ... \u001b[?25l-\b \b\\\b \b|\b \b/\b \b-\b \bdone\r\n",
      "\u001b[?25h  Preparing metadata (pyproject.toml) ... \u001b[?25l-\b \b\\\b \b|\b \b/\b \b-\b \bdone\r\n",
      "\u001b[?25hRequirement already satisfied: tqdm>=4.26.0 in /opt/conda/lib/python3.7/site-packages (from flair) (4.64.0)\r\n",
      "Requirement already satisfied: janome in /opt/conda/lib/python3.7/site-packages (from flair) (0.4.2)\r\n",
      "Requirement already satisfied: huggingface-hub in /opt/conda/lib/python3.7/site-packages (from flair) (0.5.1)\r\n",
      "Requirement already satisfied: matplotlib>=2.2.3 in /opt/conda/lib/python3.7/site-packages (from flair) (3.5.2)\r\n",
      "Collecting langdetect\r\n",
      "  Downloading langdetect-1.0.9.tar.gz (981 kB)\r\n",
      "\u001b[2K     \u001b[90m━━━━━━━━━━━━━━━━━━━━━━━━━━━━━━━━━━━━━━\u001b[0m \u001b[32m981.5/981.5 kB\u001b[0m \u001b[31m33.0 MB/s\u001b[0m eta \u001b[36m0:00:00\u001b[0m\r\n",
      "\u001b[?25h  Preparing metadata (setup.py) ... \u001b[?25l-\b \bdone\r\n",
      "\u001b[?25hRequirement already satisfied: regex in /opt/conda/lib/python3.7/site-packages (from flair) (2021.11.10)\r\n",
      "Requirement already satisfied: hyperopt>=0.2.7 in /opt/conda/lib/python3.7/site-packages (from flair) (0.2.7)\r\n",
      "Collecting wikipedia-api\r\n",
      "  Downloading Wikipedia-API-0.5.4.tar.gz (18 kB)\r\n",
      "  Preparing metadata (setup.py) ... \u001b[?25l-\b \bdone\r\n",
      "\u001b[?25hCollecting segtok>=1.5.7\r\n",
      "  Downloading segtok-1.5.11-py3-none-any.whl (24 kB)\r\n",
      "Requirement already satisfied: requests[socks] in /opt/conda/lib/python3.7/site-packages (from gdown==4.4.0->flair) (2.27.1)\r\n",
      "Requirement already satisfied: six in /opt/conda/lib/python3.7/site-packages (from gdown==4.4.0->flair) (1.16.0)\r\n",
      "Requirement already satisfied: beautifulsoup4 in /opt/conda/lib/python3.7/site-packages (from gdown==4.4.0->flair) (4.11.1)\r\n",
      "Requirement already satisfied: filelock in /opt/conda/lib/python3.7/site-packages (from gdown==4.4.0->flair) (3.6.0)\r\n",
      "Requirement already satisfied: numpy in /opt/conda/lib/python3.7/site-packages (from bpemb>=0.3.2->flair) (1.21.6)\r\n",
      "Requirement already satisfied: wrapt<2,>=1.10 in /opt/conda/lib/python3.7/site-packages (from deprecated>=1.2.4->flair) (1.14.1)\r\n",
      "Requirement already satisfied: smart-open>=1.8.1 in /opt/conda/lib/python3.7/site-packages (from gensim>=3.4.0->flair) (5.2.1)\r\n",
      "Requirement already satisfied: scipy>=0.18.1 in /opt/conda/lib/python3.7/site-packages (from gensim>=3.4.0->flair) (1.7.3)\r\n",
      "Requirement already satisfied: networkx>=2.2 in /opt/conda/lib/python3.7/site-packages (from hyperopt>=0.2.7->flair) (2.5)\r\n",
      "Requirement already satisfied: future in /opt/conda/lib/python3.7/site-packages (from hyperopt>=0.2.7->flair) (0.18.2)\r\n",
      "Requirement already satisfied: cloudpickle in /opt/conda/lib/python3.7/site-packages (from hyperopt>=0.2.7->flair) (2.0.0)\r\n",
      "Requirement already satisfied: py4j in /opt/conda/lib/python3.7/site-packages (from hyperopt>=0.2.7->flair) (0.10.9.5)\r\n",
      "Collecting overrides<4.0.0,>=3.0.0\r\n",
      "  Downloading overrides-3.1.0.tar.gz (11 kB)\r\n",
      "  Preparing metadata (setup.py) ... \u001b[?25l-\b \bdone\r\n",
      "\u001b[?25hCollecting importlib-metadata<4.0.0,>=3.7.0\r\n",
      "  Downloading importlib_metadata-3.10.1-py3-none-any.whl (14 kB)\r\n",
      "Requirement already satisfied: pillow>=6.2.0 in /opt/conda/lib/python3.7/site-packages (from matplotlib>=2.2.3->flair) (9.1.0)\r\n",
      "Requirement already satisfied: pyparsing>=2.2.1 in /opt/conda/lib/python3.7/site-packages (from matplotlib>=2.2.3->flair) (3.0.9)\r\n",
      "Requirement already satisfied: packaging>=20.0 in /opt/conda/lib/python3.7/site-packages (from matplotlib>=2.2.3->flair) (21.3)\r\n",
      "Requirement already satisfied: fonttools>=4.22.0 in /opt/conda/lib/python3.7/site-packages (from matplotlib>=2.2.3->flair) (4.33.3)\r\n",
      "Requirement already satisfied: kiwisolver>=1.0.1 in /opt/conda/lib/python3.7/site-packages (from matplotlib>=2.2.3->flair) (1.4.2)\r\n",
      "Requirement already satisfied: cycler>=0.10 in /opt/conda/lib/python3.7/site-packages (from matplotlib>=2.2.3->flair) (0.11.0)\r\n",
      "Requirement already satisfied: joblib>=0.11 in /opt/conda/lib/python3.7/site-packages (from scikit-learn>=0.21.3->flair) (1.1.0)\r\n",
      "Requirement already satisfied: threadpoolctl>=2.0.0 in /opt/conda/lib/python3.7/site-packages (from scikit-learn>=0.21.3->flair) (3.1.0)\r\n",
      "Requirement already satisfied: typing-extensions in /opt/conda/lib/python3.7/site-packages (from torch!=1.8,>=1.5.0->flair) (4.2.0)\r\n",
      "Requirement already satisfied: sacremoses in /opt/conda/lib/python3.7/site-packages (from transformers>=4.0.0->flair) (0.0.53)\r\n",
      "Requirement already satisfied: tokenizers!=0.11.3,<0.13,>=0.11.1 in /opt/conda/lib/python3.7/site-packages (from transformers>=4.0.0->flair) (0.12.1)\r\n",
      "Requirement already satisfied: pyyaml>=5.1 in /opt/conda/lib/python3.7/site-packages (from transformers>=4.0.0->flair) (6.0)\r\n",
      "Requirement already satisfied: wcwidth>=0.2.5 in /opt/conda/lib/python3.7/site-packages (from ftfy->flair) (0.2.5)\r\n",
      "Requirement already satisfied: zipp>=0.5 in /opt/conda/lib/python3.7/site-packages (from importlib-metadata<4.0.0,>=3.7.0->konoha<5.0.0,>=4.0.0->flair) (3.8.0)\r\n",
      "Requirement already satisfied: decorator>=4.3.0 in /opt/conda/lib/python3.7/site-packages (from networkx>=2.2->hyperopt>=0.2.7->flair) (5.1.1)\r\n",
      "Requirement already satisfied: charset-normalizer~=2.0.0 in /opt/conda/lib/python3.7/site-packages (from requests[socks]->gdown==4.4.0->flair) (2.0.12)\r\n",
      "Requirement already satisfied: urllib3<1.27,>=1.21.1 in /opt/conda/lib/python3.7/site-packages (from requests[socks]->gdown==4.4.0->flair) (1.26.9)\r\n",
      "Requirement already satisfied: idna<4,>=2.5 in /opt/conda/lib/python3.7/site-packages (from requests[socks]->gdown==4.4.0->flair) (3.3)\r\n",
      "Requirement already satisfied: certifi>=2017.4.17 in /opt/conda/lib/python3.7/site-packages (from requests[socks]->gdown==4.4.0->flair) (2022.5.18.1)\r\n",
      "Requirement already satisfied: soupsieve>1.2 in /opt/conda/lib/python3.7/site-packages (from beautifulsoup4->gdown==4.4.0->flair) (2.3.1)\r\n",
      "Requirement already satisfied: PySocks!=1.5.7,>=1.5.6 in /opt/conda/lib/python3.7/site-packages (from requests[socks]->gdown==4.4.0->flair) (1.7.1)\r\n",
      "Requirement already satisfied: click in /opt/conda/lib/python3.7/site-packages (from sacremoses->transformers>=4.0.0->flair) (8.0.4)\r\n",
      "Building wheels for collected packages: gdown, mpld3, sqlitedict, langdetect, pptree, wikipedia-api, overrides\r\n",
      "  Building wheel for gdown (pyproject.toml) ... \u001b[?25l-\b \b\\\b \b|\b \b/\b \b-\b \b\\\b \b|\b \b/\b \b-\b \bdone\r\n",
      "\u001b[?25h  Created wheel for gdown: filename=gdown-4.4.0-py3-none-any.whl size=14759 sha256=9a4bd37980d406c7cdffe8b80a7cf0d1724e3ca333ebf6e133c931114809f858\r\n",
      "  Stored in directory: /root/.cache/pip/wheels/fb/c3/0e/c4d8ff8bfcb0461afff199471449f642179b74968c15b7a69c\r\n",
      "  Building wheel for mpld3 (setup.py) ... \u001b[?25l-\b \b\\\b \b|\b \bdone\r\n",
      "\u001b[?25h  Created wheel for mpld3: filename=mpld3-0.3-py3-none-any.whl size=116702 sha256=5e038871380179c810d1d750ef35a54bf8db8e28930ce827531afe35594b24ed\r\n",
      "  Stored in directory: /root/.cache/pip/wheels/26/70/6a/1c79e59951a41b4045497da187b2724f5659ca64033cf4548e\r\n",
      "  Building wheel for sqlitedict (setup.py) ... \u001b[?25l-\b \bdone\r\n",
      "\u001b[?25h  Created wheel for sqlitedict: filename=sqlitedict-2.0.0-py3-none-any.whl size=15736 sha256=ab9a0efb92edee20b69a2abbf3671edaeceac41c50562cfb33a56102795b0473\r\n",
      "  Stored in directory: /root/.cache/pip/wheels/96/dd/2e/0ed4a25cb73fc30c7ea8d10b50acb7226175736067e40a7ea3\r\n",
      "  Building wheel for langdetect (setup.py) ... \u001b[?25l-\b \b\\\b \b|\b \b/\b \b-\b \bdone\r\n",
      "\u001b[?25h  Created wheel for langdetect: filename=langdetect-1.0.9-py3-none-any.whl size=993242 sha256=393c92f6ff55424b2253c8d48be27896814a68f15f54374b31a72544b216d088\r\n",
      "  Stored in directory: /root/.cache/pip/wheels/c5/96/8a/f90c59ed25d75e50a8c10a1b1c2d4c402e4dacfa87f3aff36a\r\n",
      "  Building wheel for pptree (setup.py) ... \u001b[?25l-\b \b\\\b \bdone\r\n",
      "\u001b[?25h  Created wheel for pptree: filename=pptree-3.1-py3-none-any.whl size=4629 sha256=c00df19c7f4868f7d2220228deca8117d3bcac1351b096379cc73859144ba172\r\n",
      "  Stored in directory: /root/.cache/pip/wheels/9e/e8/7d/a9c3c19b4722608a0d8b05a38c36bc3f230c43becd2a46794b\r\n",
      "  Building wheel for wikipedia-api (setup.py) ... \u001b[?25l-\b \b\\\b \bdone\r\n",
      "\u001b[?25h  Created wheel for wikipedia-api: filename=Wikipedia_API-0.5.4-py3-none-any.whl size=13477 sha256=1f790a0becaf9f2fc7074cee2d92d142e08aa2277743cda1d65d44505a4d6e55\r\n",
      "  Stored in directory: /root/.cache/pip/wheels/d3/24/56/58ba93cf78be162451144e7a9889603f437976ef1ae7013d04\r\n",
      "  Building wheel for overrides (setup.py) ... \u001b[?25l-\b \b\\\b \bdone\r\n",
      "\u001b[?25h  Created wheel for overrides: filename=overrides-3.1.0-py3-none-any.whl size=10187 sha256=278f7c8965af1cc3ac05ec08a579532d999e0e6e38886734322bd6b39d36f031\r\n",
      "  Stored in directory: /root/.cache/pip/wheels/3a/0d/38/01a9bc6e20dcfaf0a6a7b552d03137558ba1c38aea47644682\r\n",
      "Successfully built gdown mpld3 sqlitedict langdetect pptree wikipedia-api overrides\r\n",
      "Installing collected packages: sqlitedict, sentencepiece, pptree, overrides, mpld3, segtok, langdetect, importlib-metadata, ftfy, deprecated, conllu, wikipedia-api, konoha, gdown, bpemb, flair\r\n",
      "  Attempting uninstall: sentencepiece\r\n",
      "    Found existing installation: sentencepiece 0.1.96\r\n",
      "    Uninstalling sentencepiece-0.1.96:\r\n",
      "      Successfully uninstalled sentencepiece-0.1.96\r\n",
      "  Attempting uninstall: overrides\r\n",
      "    Found existing installation: overrides 6.1.0\r\n",
      "    Uninstalling overrides-6.1.0:\r\n",
      "      Successfully uninstalled overrides-6.1.0\r\n",
      "  Attempting uninstall: mpld3\r\n",
      "    Found existing installation: mpld3 0.5.7\r\n",
      "    Uninstalling mpld3-0.5.7:\r\n",
      "      Successfully uninstalled mpld3-0.5.7\r\n",
      "  Attempting uninstall: importlib-metadata\r\n",
      "    Found existing installation: importlib-metadata 4.11.4\r\n",
      "    Uninstalling importlib-metadata-4.11.4:\r\n",
      "      Successfully uninstalled importlib-metadata-4.11.4\r\n",
      "\u001b[31mERROR: pip's dependency resolver does not currently take into account all the packages that are installed. This behaviour is the source of the following dependency conflicts.\r\n",
      "markdown 3.3.7 requires importlib-metadata>=4.4; python_version < \"3.10\", but you have importlib-metadata 3.10.1 which is incompatible.\r\n",
      "ibis-framework 2.1.1 requires importlib-metadata<5,>=4; python_version < \"3.8\", but you have importlib-metadata 3.10.1 which is incompatible.\r\n",
      "gym 0.23.1 requires importlib-metadata>=4.10.0; python_version < \"3.10\", but you have importlib-metadata 3.10.1 which is incompatible.\r\n",
      "google-cloud-pubsublite 1.4.2 requires overrides<7.0.0,>=6.0.1, but you have overrides 3.1.0 which is incompatible.\u001b[0m\u001b[31m\r\n",
      "\u001b[0mSuccessfully installed bpemb-0.3.3 conllu-4.4.2 deprecated-1.2.13 flair-0.11.3 ftfy-6.1.1 gdown-4.4.0 importlib-metadata-3.10.1 konoha-4.6.5 langdetect-1.0.9 mpld3-0.3 overrides-3.1.0 pptree-3.1 segtok-1.5.11 sentencepiece-0.1.95 sqlitedict-2.0.0 wikipedia-api-0.5.4\r\n",
      "\u001b[33mWARNING: Running pip as the 'root' user can result in broken permissions and conflicting behaviour with the system package manager. It is recommended to use a virtual environment instead: https://pip.pypa.io/warnings/venv\u001b[0m\u001b[33m\r\n",
      "\u001b[0m"
     ]
    }
   ],
   "source": [
    "!pip3 install Cython\n",
    "!pip install transformers\n",
    "!pip install flair"
   ]
  },
  {
   "cell_type": "code",
   "execution_count": 34,
   "id": "42d947c1",
   "metadata": {
    "execution": {
     "iopub.execute_input": "2022-06-07T09:51:51.064758Z",
     "iopub.status.busy": "2022-06-07T09:51:51.064335Z",
     "iopub.status.idle": "2022-06-07T09:51:57.796571Z",
     "shell.execute_reply": "2022-06-07T09:51:57.795219Z"
    },
    "papermill": {
     "duration": 6.779263,
     "end_time": "2022-06-07T09:51:57.799440",
     "exception": false,
     "start_time": "2022-06-07T09:51:51.020177",
     "status": "completed"
    },
    "tags": []
   },
   "outputs": [],
   "source": [
    "import spacy\n",
    "from spacy import displacy\n",
    "from collections import Counter\n",
    "import en_core_web_sm\n",
    "nlp = en_core_web_sm.load()"
   ]
  },
  {
   "cell_type": "code",
   "execution_count": 35,
   "id": "aa192b87",
   "metadata": {
    "execution": {
     "iopub.execute_input": "2022-06-07T09:51:57.886023Z",
     "iopub.status.busy": "2022-06-07T09:51:57.885411Z",
     "iopub.status.idle": "2022-06-07T09:51:58.391549Z",
     "shell.execute_reply": "2022-06-07T09:51:58.390412Z"
    },
    "papermill": {
     "duration": 0.552411,
     "end_time": "2022-06-07T09:51:58.393977",
     "exception": false,
     "start_time": "2022-06-07T09:51:57.841566",
     "status": "completed"
    },
    "tags": []
   },
   "outputs": [
    {
     "data": {
      "text/html": [
       "<div>\n",
       "<style scoped>\n",
       "    .dataframe tbody tr th:only-of-type {\n",
       "        vertical-align: middle;\n",
       "    }\n",
       "\n",
       "    .dataframe tbody tr th {\n",
       "        vertical-align: top;\n",
       "    }\n",
       "\n",
       "    .dataframe thead th {\n",
       "        text-align: right;\n",
       "    }\n",
       "</style>\n",
       "<table border=\"1\" class=\"dataframe\">\n",
       "  <thead>\n",
       "    <tr style=\"text-align: right;\">\n",
       "      <th></th>\n",
       "      <th>entities</th>\n",
       "      <th>start_char</th>\n",
       "      <th>end_char</th>\n",
       "      <th>label</th>\n",
       "      <th>explain</th>\n",
       "      <th>frequency</th>\n",
       "    </tr>\n",
       "  </thead>\n",
       "  <tbody>\n",
       "    <tr>\n",
       "      <th>0</th>\n",
       "      <td>Anne H Elliott</td>\n",
       "      <td>11</td>\n",
       "      <td>25</td>\n",
       "      <td>PERSON</td>\n",
       "      <td>People, including fictional</td>\n",
       "      <td></td>\n",
       "    </tr>\n",
       "    <tr>\n",
       "      <th>1</th>\n",
       "      <td>Amnesty</td>\n",
       "      <td>54</td>\n",
       "      <td>61</td>\n",
       "      <td>ORG</td>\n",
       "      <td>Companies, agencies, institutions, etc.</td>\n",
       "      <td></td>\n",
       "    </tr>\n",
       "    <tr>\n",
       "      <th>2</th>\n",
       "      <td>Andrew Johnson</td>\n",
       "      <td>82</td>\n",
       "      <td>96</td>\n",
       "      <td>PERSON</td>\n",
       "      <td>People, including fictional</td>\n",
       "      <td></td>\n",
       "    </tr>\n",
       "    <tr>\n",
       "      <th>3</th>\n",
       "      <td>United States of America</td>\n",
       "      <td>110</td>\n",
       "      <td>134</td>\n",
       "      <td>GPE</td>\n",
       "      <td>Countries, cities, states</td>\n",
       "      <td></td>\n",
       "    </tr>\n",
       "    <tr>\n",
       "      <th>4</th>\n",
       "      <td>May 29th 1865</td>\n",
       "      <td>135</td>\n",
       "      <td>148</td>\n",
       "      <td>DATE</td>\n",
       "      <td>Absolute or relative dates or periods</td>\n",
       "      <td></td>\n",
       "    </tr>\n",
       "  </tbody>\n",
       "</table>\n",
       "</div>"
      ],
      "text/plain": [
       "                   entities  start_char  end_char   label  \\\n",
       "0            Anne H Elliott          11        25  PERSON   \n",
       "1                   Amnesty          54        61     ORG   \n",
       "2            Andrew Johnson          82        96  PERSON   \n",
       "3  United States of America         110       134     GPE   \n",
       "4             May 29th 1865         135       148    DATE   \n",
       "\n",
       "                                   explain frequency  \n",
       "0              People, including fictional            \n",
       "1  Companies, agencies, institutions, etc.            \n",
       "2              People, including fictional            \n",
       "3                Countries, cities, states            \n",
       "4    Absolute or relative dates or periods            "
      ]
     },
     "execution_count": 35,
     "metadata": {},
     "output_type": "execute_result"
    }
   ],
   "source": [
    "L1=[]\n",
    "def NER (txt):\n",
    "    for i in range(20):\n",
    "        nlp_text=nlp(txt[i])\n",
    "        L1.append([(word.text, word.start_char, word.end_char, word.label_,spacy.explain(word.label_)) for word in nlp_text.ents])\n",
    "        \n",
    "NER(text)\n",
    "l0=[]\n",
    "l1=[]\n",
    "l2=[]\n",
    "l3=[]\n",
    "l4=[]\n",
    "l5=[]\n",
    "for i in range(len(L1)):\n",
    "    for j in range(len(L1[i])):\n",
    "        l0.append(L1[i][j][0])\n",
    "        l2.append(L1[i][j][1])\n",
    "        l3.append(L1[i][j][2])\n",
    "        l4.append(L1[i][j][3])\n",
    "        l5.append(L1[i][j][4])\n",
    "\n",
    "df1=pd.DataFrame({\"entities\":l0,\"start_char\":l2,\"end_char\":l3 ,\"label\": l4, \"explain\": l5, \"frequency\":\"\"})\n",
    "df1.head()"
   ]
  },
  {
   "cell_type": "code",
   "execution_count": 36,
   "id": "da05ce29",
   "metadata": {
    "execution": {
     "iopub.execute_input": "2022-06-07T09:51:58.484341Z",
     "iopub.status.busy": "2022-06-07T09:51:58.483898Z",
     "iopub.status.idle": "2022-06-07T09:51:58.514753Z",
     "shell.execute_reply": "2022-06-07T09:51:58.513685Z"
    },
    "papermill": {
     "duration": 0.077201,
     "end_time": "2022-06-07T09:51:58.517517",
     "exception": false,
     "start_time": "2022-06-07T09:51:58.440316",
     "status": "completed"
    },
    "tags": []
   },
   "outputs": [],
   "source": [
    "Person=[]\n",
    "ORG=[]\n",
    "DATE=[]\n",
    "GPE=[]\n",
    "\n",
    "for i in range(df1.shape[0]):\n",
    "    if df1.label.loc[i]==\"PERSON\":\n",
    "        Person.append(df1.entities.loc[i])\n",
    "    elif df1.label.loc[i]==\"ORG\" :\n",
    "        ORG.append(df1.entities.loc[i])\n",
    "    elif df1.label.loc[i]==\"DATE\" :\n",
    "        DATE.append(df1.entities.loc[i])\n",
    "    elif df1.label.loc[i]==\"GPE\" :\n",
    "        GPE.append(df1.entities.loc[i])\n",
    "GPE=np.array(GPE)\n",
    "ORG=np.array(ORG)\n",
    "Person=np.array(Person)\n",
    "DATE=np.array(DATE)"
   ]
  },
  {
   "cell_type": "code",
   "execution_count": 37,
   "id": "6838290c",
   "metadata": {
    "execution": {
     "iopub.execute_input": "2022-06-07T09:51:58.603680Z",
     "iopub.status.busy": "2022-06-07T09:51:58.603252Z",
     "iopub.status.idle": "2022-06-07T09:51:58.609755Z",
     "shell.execute_reply": "2022-06-07T09:51:58.609045Z"
    },
    "papermill": {
     "duration": 0.052972,
     "end_time": "2022-06-07T09:51:58.612019",
     "exception": false,
     "start_time": "2022-06-07T09:51:58.559047",
     "status": "completed"
    },
    "tags": []
   },
   "outputs": [
    {
     "data": {
      "text/plain": [
       "array(['May 29th 1865', '27th day', '1865', '27th day', '1865', '63 year',\n",
       "       'May 29th 1865', '28 day', '28 day', 'May 47 PM', '39 year',\n",
       "       'May 29th 1865', '31 day', '1865', 'No1984', '31 day', '1865',\n",
       "       '31st day', 'August 24 1865', 'May 29th 1865',\n",
       "       '3 day of August 1865', 'May 4', '3 day', '1865', 'May 29th 1865',\n",
       "       '16th day', '1474', '16th day', 'May 29th 1865',\n",
       "       '16 day of October 1865', '16 day of October 1865', 'July 22',\n",
       "       'July 22', '1867', 'May 29th 1865', '6 day', '6 day',\n",
       "       '29th day of September 1865', 'Age 24 year', 'Sept 29th 1865',\n",
       "       '29th day', 'May 29th 1865', '7th day of September',\n",
       "       '7th day of September', '20th day of August 1865',\n",
       "       '20th day of August 1865', 'August 29th 1865',\n",
       "       '22nd day of August 1865', 'Miss 31st day', '1865 1865', '31 day',\n",
       "       '1865'], dtype='<U26')"
      ]
     },
     "execution_count": 37,
     "metadata": {},
     "output_type": "execute_result"
    }
   ],
   "source": [
    "DATE"
   ]
  },
  {
   "cell_type": "code",
   "execution_count": 38,
   "id": "8e92b737",
   "metadata": {
    "execution": {
     "iopub.execute_input": "2022-06-07T09:51:58.699524Z",
     "iopub.status.busy": "2022-06-07T09:51:58.698882Z",
     "iopub.status.idle": "2022-06-07T09:51:58.704026Z",
     "shell.execute_reply": "2022-06-07T09:51:58.703321Z"
    },
    "papermill": {
     "duration": 0.051272,
     "end_time": "2022-06-07T09:51:58.706229",
     "exception": false,
     "start_time": "2022-06-07T09:51:58.654957",
     "status": "completed"
    },
    "tags": []
   },
   "outputs": [
    {
     "data": {
      "text/plain": [
       "41"
      ]
     },
     "execution_count": 38,
     "metadata": {},
     "output_type": "execute_result"
    }
   ],
   "source": [
    "len(Person)"
   ]
  },
  {
   "cell_type": "code",
   "execution_count": 39,
   "id": "5c6effa1",
   "metadata": {
    "execution": {
     "iopub.execute_input": "2022-06-07T09:51:58.793073Z",
     "iopub.status.busy": "2022-06-07T09:51:58.792611Z",
     "iopub.status.idle": "2022-06-07T09:51:58.798968Z",
     "shell.execute_reply": "2022-06-07T09:51:58.798097Z"
    },
    "papermill": {
     "duration": 0.052726,
     "end_time": "2022-06-07T09:51:58.801301",
     "exception": false,
     "start_time": "2022-06-07T09:51:58.748575",
     "status": "completed"
    },
    "tags": []
   },
   "outputs": [
    {
     "data": {
      "text/plain": [
       "array(['Anne H Elliott', 'Andrew Johnson', 'Hazel', 'Whaley',\n",
       "       'Andrew Johnson', 'Copy Levi Steuben', 'Hu Kennedy',\n",
       "       'Amnesty Oath Administered At', 'Hiserodt', 'William Whaley Sworn',\n",
       "       'William Whaley Sworn', 'Brown', 'Charleston Sc',\n",
       "       'JF Steinmeyer Sworn', 'Charleston Sc', 'Gry', 'Joseph Edings',\n",
       "       'Thomas Andrew Oath of', 'Jacob Schroder Sworn', 'Walhalla',\n",
       "       'Walhalla', 'Bray Lieut', 'Laborer', 'Characteristics',\n",
       "       'Amnesty Oath', 'Woodville Wilkinson', 'Frank Conner',\n",
       "       'Triplicate AMNESTY', 'Hiram Smith', 'Hiram Smith',\n",
       "       'Pass Christian', 'Captn', 'Amnesty Oath', 'Hiram Smith',\n",
       "       'Captn Commanding', 'Robert A',\n",
       "       'James D Kendall Amnesty Oath Administered At Oacen Springs',\n",
       "       'Gibbs Henderson', 'City Miss', 'Amnesty Oath', 'Frank E Miller'],\n",
       "      dtype='<U58')"
      ]
     },
     "execution_count": 39,
     "metadata": {},
     "output_type": "execute_result"
    }
   ],
   "source": [
    "Person"
   ]
  },
  {
   "cell_type": "markdown",
   "id": "602e27c7",
   "metadata": {
    "papermill": {
     "duration": 0.04183,
     "end_time": "2022-06-07T09:51:58.885941",
     "exception": false,
     "start_time": "2022-06-07T09:51:58.844111",
     "status": "completed"
    },
    "tags": []
   },
   "source": [
    "# Hugging face  : Flair"
   ]
  },
  {
   "cell_type": "markdown",
   "id": "a1de8b9f",
   "metadata": {
    "papermill": {
     "duration": 0.042099,
     "end_time": "2022-06-07T09:51:58.969833",
     "exception": false,
     "start_time": "2022-06-07T09:51:58.927734",
     "status": "completed"
    },
    "tags": []
   },
   "source": [
    "**ner-english** "
   ]
  },
  {
   "cell_type": "code",
   "execution_count": 40,
   "id": "6649b781",
   "metadata": {
    "execution": {
     "iopub.execute_input": "2022-06-07T09:51:59.058076Z",
     "iopub.status.busy": "2022-06-07T09:51:59.056994Z",
     "iopub.status.idle": "2022-06-07T09:52:01.591625Z",
     "shell.execute_reply": "2022-06-07T09:52:01.589947Z"
    },
    "papermill": {
     "duration": 2.582197,
     "end_time": "2022-06-07T09:52:01.594406",
     "exception": false,
     "start_time": "2022-06-07T09:51:59.012209",
     "status": "completed"
    },
    "tags": []
   },
   "outputs": [
    {
     "name": "stdout",
     "output_type": "stream",
     "text": [
      "git: 'lfs' is not a git command. See 'git --help'.\r\n",
      "\r\n",
      "The most similar command is\r\n",
      "\tlog\r\n",
      "Cloning into 'ner-english-large'...\r\n",
      "remote: Enumerating objects: 25, done.\u001b[K\r\n",
      "remote: Counting objects: 100% (25/25), done.\u001b[K\r\n",
      "remote: Compressing objects: 100% (24/24), done.\u001b[K\r\n",
      "remote: Total 25 (delta 10), reused 0 (delta 0), pack-reused 0\u001b[K\r\n",
      "Unpacking objects: 100% (25/25), 11.03 KiB | 1.00 MiB/s, done.\r\n"
     ]
    }
   ],
   "source": [
    "!git lfs install\n",
    "!git clone https://huggingface.co/flair/ner-english-large"
   ]
  },
  {
   "cell_type": "code",
   "execution_count": 41,
   "id": "818729fd",
   "metadata": {
    "execution": {
     "iopub.execute_input": "2022-06-07T09:52:01.682686Z",
     "iopub.status.busy": "2022-06-07T09:52:01.682173Z",
     "iopub.status.idle": "2022-06-07T09:54:19.511644Z",
     "shell.execute_reply": "2022-06-07T09:54:19.510296Z"
    },
    "papermill": {
     "duration": 137.877509,
     "end_time": "2022-06-07T09:54:19.514771",
     "exception": false,
     "start_time": "2022-06-07T09:52:01.637262",
     "status": "completed"
    },
    "tags": []
   },
   "outputs": [
    {
     "data": {
      "application/vnd.jupyter.widget-view+json": {
       "model_id": "0dae6175801c4dab91c1ac5468eab353",
       "version_major": 2,
       "version_minor": 0
      },
      "text/plain": [
       "Downloading:   0%|          | 0.00/2.24G [00:00<?, ?B/s]"
      ]
     },
     "metadata": {},
     "output_type": "display_data"
    },
    {
     "name": "stdout",
     "output_type": "stream",
     "text": [
      "2022-06-07 09:53:54,982 loading file /root/.flair/models/ner-english-ontonotes-large/2da6c2cdd76e59113033adf670340bfd820f0301ae2e39204d67ba2dc276cc28.ec1bdb304b6c66111532c3b1fc6e522460ae73f1901848a4d0362cdf9760edb1\n"
     ]
    },
    {
     "data": {
      "application/vnd.jupyter.widget-view+json": {
       "model_id": "d23eff53f14a4c18b31a2828c7b1805c",
       "version_major": 2,
       "version_minor": 0
      },
      "text/plain": [
       "Downloading:   0%|          | 0.00/616 [00:00<?, ?B/s]"
      ]
     },
     "metadata": {},
     "output_type": "display_data"
    },
    {
     "data": {
      "application/vnd.jupyter.widget-view+json": {
       "model_id": "42e1d0a0590e4396aada667d2e6897ba",
       "version_major": 2,
       "version_minor": 0
      },
      "text/plain": [
       "Downloading:   0%|          | 0.00/4.83M [00:00<?, ?B/s]"
      ]
     },
     "metadata": {},
     "output_type": "display_data"
    },
    {
     "data": {
      "application/vnd.jupyter.widget-view+json": {
       "model_id": "eb0c3fcdc3c043f685dfd3e20ae9be4a",
       "version_major": 2,
       "version_minor": 0
      },
      "text/plain": [
       "Downloading:   0%|          | 0.00/8.68M [00:00<?, ?B/s]"
      ]
     },
     "metadata": {},
     "output_type": "display_data"
    },
    {
     "name": "stdout",
     "output_type": "stream",
     "text": [
      "2022-06-07 09:54:19,028 SequenceTagger predicts: Dictionary with 76 tags: <unk>, O, B-CARDINAL, E-CARDINAL, S-PERSON, S-CARDINAL, S-PRODUCT, B-PRODUCT, I-PRODUCT, E-PRODUCT, B-WORK_OF_ART, I-WORK_OF_ART, E-WORK_OF_ART, B-PERSON, E-PERSON, S-GPE, B-DATE, I-DATE, E-DATE, S-ORDINAL, S-LANGUAGE, I-PERSON, S-EVENT, S-DATE, B-QUANTITY, E-QUANTITY, S-TIME, B-TIME, I-TIME, E-TIME, B-GPE, E-GPE, S-ORG, I-GPE, S-NORP, B-FAC, I-FAC, E-FAC, B-NORP, E-NORP, S-PERCENT, B-ORG, E-ORG, B-LANGUAGE, E-LANGUAGE, I-CARDINAL, I-ORG, S-WORK_OF_ART, I-QUANTITY, B-MONEY\n"
     ]
    }
   ],
   "source": [
    "from flair.models import SequenceTagger\n",
    "\n",
    "tagger = SequenceTagger.load(\"flair/ner-english-ontonotes-large\")"
   ]
  },
  {
   "cell_type": "code",
   "execution_count": 42,
   "id": "fcf76700",
   "metadata": {
    "execution": {
     "iopub.execute_input": "2022-06-07T09:54:19.606901Z",
     "iopub.status.busy": "2022-06-07T09:54:19.606383Z",
     "iopub.status.idle": "2022-06-07T09:54:45.640071Z",
     "shell.execute_reply": "2022-06-07T09:54:45.638571Z"
    },
    "papermill": {
     "duration": 26.085049,
     "end_time": "2022-06-07T09:54:45.643571",
     "exception": false,
     "start_time": "2022-06-07T09:54:19.558522",
     "status": "completed"
    },
    "tags": []
   },
   "outputs": [
    {
     "data": {
      "application/vnd.jupyter.widget-view+json": {
       "model_id": "890ed48224254a6db2e76e8d64c33d1b",
       "version_major": 2,
       "version_minor": 0
      },
      "text/plain": [
       "Downloading:   0%|          | 0.00/432M [00:00<?, ?B/s]"
      ]
     },
     "metadata": {},
     "output_type": "display_data"
    },
    {
     "name": "stdout",
     "output_type": "stream",
     "text": [
      "2022-06-07 09:54:42,312 loading file /root/.flair/models/ner-english/4f4cdab26f24cb98b732b389e6cebc646c36f54cfd6e0b7d3b90b25656e4262f.8baa8ae8795f4df80b28e7f7b61d788ecbb057d1dc85aacb316f1bd02837a4a4\n",
      "2022-06-07 09:54:45,402 SequenceTagger predicts: Dictionary with 20 tags: <unk>, O, S-ORG, S-MISC, B-PER, E-PER, S-LOC, B-ORG, E-ORG, I-PER, S-PER, B-MISC, I-MISC, E-MISC, I-ORG, B-LOC, E-LOC, I-LOC, <START>, <STOP>\n"
     ]
    }
   ],
   "source": [
    "from flair.models import SequenceTagger\n",
    "\n",
    "tagger1 = SequenceTagger.load(\"flair/ner-english\")"
   ]
  },
  {
   "cell_type": "code",
   "execution_count": 43,
   "id": "66e1e36a",
   "metadata": {
    "execution": {
     "iopub.execute_input": "2022-06-07T09:54:45.740600Z",
     "iopub.status.busy": "2022-06-07T09:54:45.738953Z",
     "iopub.status.idle": "2022-06-07T09:56:56.442916Z",
     "shell.execute_reply": "2022-06-07T09:56:56.441750Z"
    },
    "papermill": {
     "duration": 130.754989,
     "end_time": "2022-06-07T09:56:56.445701",
     "exception": false,
     "start_time": "2022-06-07T09:54:45.690712",
     "status": "completed"
    },
    "tags": []
   },
   "outputs": [
    {
     "data": {
      "application/vnd.jupyter.widget-view+json": {
       "model_id": "9703fb1a56b949f9856ad46741498c26",
       "version_major": 2,
       "version_minor": 0
      },
      "text/plain": [
       "Downloading:   0%|          | 0.00/2.24G [00:00<?, ?B/s]"
      ]
     },
     "metadata": {},
     "output_type": "display_data"
    },
    {
     "name": "stdout",
     "output_type": "stream",
     "text": [
      "2022-06-07 09:56:36,410 loading file /root/.flair/models/ner-english-large/07301f59bb8cb113803be316267f06ddf9243cdbba92a4c8067ef92442d2c574.554244d3476d97501a766a98078421817b14654496b86f2f7bd139dc502a4f29\n",
      "2022-06-07 09:56:55,994 SequenceTagger predicts: Dictionary with 20 tags: <unk>, O, S-ORG, S-MISC, B-PER, E-PER, S-LOC, B-ORG, E-ORG, I-PER, S-PER, B-MISC, I-MISC, E-MISC, I-ORG, B-LOC, E-LOC, I-LOC, <START>, <STOP>\n"
     ]
    }
   ],
   "source": [
    "from flair.models import SequenceTagger\n",
    "\n",
    "tagger2 = SequenceTagger.load(\"flair/ner-english-large\")"
   ]
  },
  {
   "cell_type": "code",
   "execution_count": 44,
   "id": "d0966763",
   "metadata": {
    "execution": {
     "iopub.execute_input": "2022-06-07T09:56:56.537563Z",
     "iopub.status.busy": "2022-06-07T09:56:56.536401Z",
     "iopub.status.idle": "2022-06-07T09:57:18.080352Z",
     "shell.execute_reply": "2022-06-07T09:57:18.079123Z"
    },
    "papermill": {
     "duration": 21.59322,
     "end_time": "2022-06-07T09:57:18.083333",
     "exception": false,
     "start_time": "2022-06-07T09:56:56.490113",
     "status": "completed"
    },
    "tags": []
   },
   "outputs": [],
   "source": [
    "from flair.data import Sentence\n",
    "from flair.models import SequenceTagger\n",
    "T2=[]\n",
    "D2={}\n",
    "for i in range(20):\n",
    "        sentencess =Sentence(text[i])\n",
    "        tagger.predict(sentencess)\n",
    "        for entity in sentencess.get_spans('ner'):\n",
    "                     T2.append(entity)\n",
    "                     if (entity.get_label(\"ner\").score > 0.98) & (entity.get_label(\"ner\").value != \"CARDINAL\") & (entity.get_label(\"ner\").value != \"LAW\")& (entity.get_label(\"ner\").value != \"QUANTITY\") & (entity.get_label(\"ner\").value != \"WORK_OF_ART\") & (entity.get_label(\"ner\").value != \"LAW\")& (entity.get_label(\"ner\").value != \"QUANTITY\") & (entity.get_label(\"ner\").value != \"EVENT\")  :\n",
    "                         D2[entity.text]= entity.get_label(\"ner\").value"
   ]
  },
  {
   "cell_type": "code",
   "execution_count": 45,
   "id": "17937079",
   "metadata": {
    "execution": {
     "iopub.execute_input": "2022-06-07T09:57:18.175329Z",
     "iopub.status.busy": "2022-06-07T09:57:18.174892Z",
     "iopub.status.idle": "2022-06-07T09:58:59.923629Z",
     "shell.execute_reply": "2022-06-07T09:58:59.922445Z"
    },
    "papermill": {
     "duration": 101.798204,
     "end_time": "2022-06-07T09:58:59.926827",
     "exception": false,
     "start_time": "2022-06-07T09:57:18.128623",
     "status": "completed"
    },
    "tags": []
   },
   "outputs": [],
   "source": [
    "T3=[]\n",
    "D3={}\n",
    "\n",
    "for i in range(20):\n",
    "        sentencess =Sentence(text[i])\n",
    "        tagger1.predict(sentencess)\n",
    "        for entity in sentencess.get_spans('ner'):\n",
    "                     T3.append(entity)\n",
    "                     if (entity.get_label(\"ner\").score > 0.90)  :\n",
    "                         D3[entity.text]= entity.get_label(\"ner\").value"
   ]
  },
  {
   "cell_type": "code",
   "execution_count": 46,
   "id": "3c5ccc91",
   "metadata": {
    "execution": {
     "iopub.execute_input": "2022-06-07T09:59:00.022235Z",
     "iopub.status.busy": "2022-06-07T09:59:00.021218Z",
     "iopub.status.idle": "2022-06-07T09:59:21.981517Z",
     "shell.execute_reply": "2022-06-07T09:59:21.980395Z"
    },
    "papermill": {
     "duration": 22.010877,
     "end_time": "2022-06-07T09:59:21.984281",
     "exception": false,
     "start_time": "2022-06-07T09:58:59.973404",
     "status": "completed"
    },
    "tags": []
   },
   "outputs": [],
   "source": [
    "T4=[]\n",
    "D4={}\n",
    "\n",
    "for i in range(20):\n",
    "        sentencess =Sentence(text[i])\n",
    "        tagger2.predict(sentencess)\n",
    "        for entity in sentencess.get_spans('ner'):\n",
    "                     T4.append(entity)\n",
    "                     if (entity.get_label(\"ner\").score > 0.90)  :\n",
    "                         D4[entity.text]= entity.get_label(\"ner\").value"
   ]
  },
  {
   "cell_type": "code",
   "execution_count": 47,
   "id": "86c4c43c",
   "metadata": {
    "execution": {
     "iopub.execute_input": "2022-06-07T09:59:22.075552Z",
     "iopub.status.busy": "2022-06-07T09:59:22.074761Z",
     "iopub.status.idle": "2022-06-07T09:59:22.079841Z",
     "shell.execute_reply": "2022-06-07T09:59:22.078328Z"
    },
    "papermill": {
     "duration": 0.052832,
     "end_time": "2022-06-07T09:59:22.082240",
     "exception": false,
     "start_time": "2022-06-07T09:59:22.029408",
     "status": "completed"
    },
    "tags": []
   },
   "outputs": [],
   "source": [
    "# lst=[]\n",
    "# dic={}\n",
    "\n",
    "# for i in range(20):\n",
    "#         sentencess =Sentence(text[i])\n",
    "#         tagger2.predict(sentencess)\n",
    "#         for entity in sentencess.get_spans('ner'):\n",
    "#                      T4.append(entity)\n",
    "#                      if (entity.get_label(\"ner\").score > 0.90)  :\n",
    "#                          D4[entity.text]= entity.get_label(\"ner\").value"
   ]
  },
  {
   "cell_type": "code",
   "execution_count": null,
   "id": "a4d6510a",
   "metadata": {
    "papermill": {
     "duration": 0.043723,
     "end_time": "2022-06-07T09:59:22.170440",
     "exception": false,
     "start_time": "2022-06-07T09:59:22.126717",
     "status": "completed"
    },
    "tags": []
   },
   "outputs": [],
   "source": []
  },
  {
   "cell_type": "code",
   "execution_count": null,
   "id": "b24ad6c6",
   "metadata": {
    "papermill": {
     "duration": 0.045091,
     "end_time": "2022-06-07T09:59:22.260414",
     "exception": false,
     "start_time": "2022-06-07T09:59:22.215323",
     "status": "completed"
    },
    "tags": []
   },
   "outputs": [],
   "source": []
  },
  {
   "cell_type": "code",
   "execution_count": 48,
   "id": "ba08846b",
   "metadata": {
    "execution": {
     "iopub.execute_input": "2022-06-07T09:59:22.354157Z",
     "iopub.status.busy": "2022-06-07T09:59:22.353357Z",
     "iopub.status.idle": "2022-06-07T09:59:22.359543Z",
     "shell.execute_reply": "2022-06-07T09:59:22.358828Z"
    },
    "papermill": {
     "duration": 0.056934,
     "end_time": "2022-06-07T09:59:22.361944",
     "exception": false,
     "start_time": "2022-06-07T09:59:22.305010",
     "status": "completed"
    },
    "tags": []
   },
   "outputs": [
    {
     "data": {
      "text/plain": [
       "104"
      ]
     },
     "execution_count": 48,
     "metadata": {},
     "output_type": "execute_result"
    }
   ],
   "source": [
    "len(D2)"
   ]
  },
  {
   "cell_type": "code",
   "execution_count": 49,
   "id": "a3b07f71",
   "metadata": {
    "execution": {
     "iopub.execute_input": "2022-06-07T09:59:22.459112Z",
     "iopub.status.busy": "2022-06-07T09:59:22.458277Z",
     "iopub.status.idle": "2022-06-07T09:59:22.464337Z",
     "shell.execute_reply": "2022-06-07T09:59:22.463266Z"
    },
    "papermill": {
     "duration": 0.054751,
     "end_time": "2022-06-07T09:59:22.466351",
     "exception": false,
     "start_time": "2022-06-07T09:59:22.411600",
     "status": "completed"
    },
    "tags": []
   },
   "outputs": [
    {
     "data": {
      "text/plain": [
       "22"
      ]
     },
     "execution_count": 49,
     "metadata": {},
     "output_type": "execute_result"
    }
   ],
   "source": [
    "len(D3)"
   ]
  },
  {
   "cell_type": "code",
   "execution_count": 50,
   "id": "8e734cc5",
   "metadata": {
    "execution": {
     "iopub.execute_input": "2022-06-07T09:59:22.555759Z",
     "iopub.status.busy": "2022-06-07T09:59:22.554968Z",
     "iopub.status.idle": "2022-06-07T09:59:22.561228Z",
     "shell.execute_reply": "2022-06-07T09:59:22.559906Z"
    },
    "papermill": {
     "duration": 0.053489,
     "end_time": "2022-06-07T09:59:22.563308",
     "exception": false,
     "start_time": "2022-06-07T09:59:22.509819",
     "status": "completed"
    },
    "tags": []
   },
   "outputs": [
    {
     "data": {
      "text/plain": [
       "108"
      ]
     },
     "execution_count": 50,
     "metadata": {},
     "output_type": "execute_result"
    }
   ],
   "source": [
    "len(D4)"
   ]
  },
  {
   "cell_type": "code",
   "execution_count": 51,
   "id": "958f6251",
   "metadata": {
    "execution": {
     "iopub.execute_input": "2022-06-07T09:59:22.657248Z",
     "iopub.status.busy": "2022-06-07T09:59:22.656527Z",
     "iopub.status.idle": "2022-06-07T09:59:22.661639Z",
     "shell.execute_reply": "2022-06-07T09:59:22.660820Z"
    },
    "papermill": {
     "duration": 0.055881,
     "end_time": "2022-06-07T09:59:22.664051",
     "exception": false,
     "start_time": "2022-06-07T09:59:22.608170",
     "status": "completed"
    },
    "tags": []
   },
   "outputs": [],
   "source": [
    "ent=[]\n",
    "label=[]\n",
    "for i in D2 :\n",
    "    ent.append(i)\n",
    "    label.append(D2[i])"
   ]
  },
  {
   "cell_type": "code",
   "execution_count": 52,
   "id": "740e4f21",
   "metadata": {
    "execution": {
     "iopub.execute_input": "2022-06-07T09:59:22.756039Z",
     "iopub.status.busy": "2022-06-07T09:59:22.755450Z",
     "iopub.status.idle": "2022-06-07T09:59:22.761142Z",
     "shell.execute_reply": "2022-06-07T09:59:22.760289Z"
    },
    "papermill": {
     "duration": 0.054271,
     "end_time": "2022-06-07T09:59:22.763050",
     "exception": false,
     "start_time": "2022-06-07T09:59:22.708779",
     "status": "completed"
    },
    "tags": []
   },
   "outputs": [],
   "source": [
    "ent1=[]\n",
    "label1=[]\n",
    "for i in D3 :\n",
    "    ent1.append(i)\n",
    "    label1.append(D3[i])"
   ]
  },
  {
   "cell_type": "code",
   "execution_count": 53,
   "id": "15618d1d",
   "metadata": {
    "execution": {
     "iopub.execute_input": "2022-06-07T09:59:22.861224Z",
     "iopub.status.busy": "2022-06-07T09:59:22.859960Z",
     "iopub.status.idle": "2022-06-07T09:59:22.865935Z",
     "shell.execute_reply": "2022-06-07T09:59:22.865178Z"
    },
    "papermill": {
     "duration": 0.057531,
     "end_time": "2022-06-07T09:59:22.868283",
     "exception": false,
     "start_time": "2022-06-07T09:59:22.810752",
     "status": "completed"
    },
    "tags": []
   },
   "outputs": [],
   "source": [
    "ent2=[]\n",
    "label2=[]\n",
    "for i in D4 :\n",
    "    ent2.append(i)\n",
    "    label2.append(D4[i])"
   ]
  },
  {
   "cell_type": "code",
   "execution_count": 54,
   "id": "858cd245",
   "metadata": {
    "execution": {
     "iopub.execute_input": "2022-06-07T09:59:22.966203Z",
     "iopub.status.busy": "2022-06-07T09:59:22.965698Z",
     "iopub.status.idle": "2022-06-07T09:59:22.978147Z",
     "shell.execute_reply": "2022-06-07T09:59:22.976875Z"
    },
    "papermill": {
     "duration": 0.061177,
     "end_time": "2022-06-07T09:59:22.980670",
     "exception": false,
     "start_time": "2022-06-07T09:59:22.919493",
     "status": "completed"
    },
    "tags": []
   },
   "outputs": [],
   "source": [
    "final=pd.DataFrame({\"entities\":ent, \"label\":label})"
   ]
  },
  {
   "cell_type": "code",
   "execution_count": 55,
   "id": "1359a075",
   "metadata": {
    "execution": {
     "iopub.execute_input": "2022-06-07T09:59:23.075567Z",
     "iopub.status.busy": "2022-06-07T09:59:23.075090Z",
     "iopub.status.idle": "2022-06-07T09:59:23.082644Z",
     "shell.execute_reply": "2022-06-07T09:59:23.081064Z"
    },
    "papermill": {
     "duration": 0.058744,
     "end_time": "2022-06-07T09:59:23.085811",
     "exception": false,
     "start_time": "2022-06-07T09:59:23.027067",
     "status": "completed"
    },
    "tags": []
   },
   "outputs": [],
   "source": [
    "final1=pd.DataFrame({\"entities\":ent1, \"label\":label1})"
   ]
  },
  {
   "cell_type": "code",
   "execution_count": 56,
   "id": "a62d4940",
   "metadata": {
    "execution": {
     "iopub.execute_input": "2022-06-07T09:59:23.177471Z",
     "iopub.status.busy": "2022-06-07T09:59:23.177043Z",
     "iopub.status.idle": "2022-06-07T09:59:23.183863Z",
     "shell.execute_reply": "2022-06-07T09:59:23.182432Z"
    },
    "papermill": {
     "duration": 0.055864,
     "end_time": "2022-06-07T09:59:23.186844",
     "exception": false,
     "start_time": "2022-06-07T09:59:23.130980",
     "status": "completed"
    },
    "tags": []
   },
   "outputs": [],
   "source": [
    "final2=pd.DataFrame({\"entities\":ent2, \"label\":label2})"
   ]
  },
  {
   "cell_type": "code",
   "execution_count": null,
   "id": "734b4853",
   "metadata": {
    "papermill": {
     "duration": 0.043954,
     "end_time": "2022-06-07T09:59:23.282683",
     "exception": false,
     "start_time": "2022-06-07T09:59:23.238729",
     "status": "completed"
    },
    "tags": []
   },
   "outputs": [],
   "source": []
  },
  {
   "cell_type": "code",
   "execution_count": 57,
   "id": "36bc2bf0",
   "metadata": {
    "execution": {
     "iopub.execute_input": "2022-06-07T09:59:23.376087Z",
     "iopub.status.busy": "2022-06-07T09:59:23.375506Z",
     "iopub.status.idle": "2022-06-07T09:59:23.401368Z",
     "shell.execute_reply": "2022-06-07T09:59:23.400340Z"
    },
    "papermill": {
     "duration": 0.0764,
     "end_time": "2022-06-07T09:59:23.403966",
     "exception": false,
     "start_time": "2022-06-07T09:59:23.327566",
     "status": "completed"
    },
    "tags": []
   },
   "outputs": [],
   "source": [
    "P=[]\n",
    "OR=[]\n",
    "GP=[]\n",
    "Date=[]\n",
    "LOC=[]\n",
    "for i in range(len(D2)):\n",
    "    if final.label.loc[i]==\"PERSON\":\n",
    "        P.append(final.entities.loc[i])\n",
    "    elif final.label.loc[i]==\"ORG\":\n",
    "        OR.append(final.entities.loc[i])\n",
    "    elif final.label.loc[i]==\"GPE\":\n",
    "        GP.append(final.entities.loc[i])\n",
    "    elif final.label.loc[i]==\"DATE\":\n",
    "        Date.append(final.entities.loc[i])\n",
    "    elif final.label.loc[i]==\"LOC\":\n",
    "        LOC.append(final.entities.loc[i])\n",
    "        \n",
    "\n",
    "OR=np.array(OR)\n",
    "P=np.array(P)\n",
    "LOC=np.array(LOC)\n",
    "Date=np.array(Date)\n",
    "GP=np.array(GP)\n",
    "\n"
   ]
  },
  {
   "cell_type": "code",
   "execution_count": 58,
   "id": "32b18f18",
   "metadata": {
    "execution": {
     "iopub.execute_input": "2022-06-07T09:59:23.497202Z",
     "iopub.status.busy": "2022-06-07T09:59:23.496737Z",
     "iopub.status.idle": "2022-06-07T09:59:23.504123Z",
     "shell.execute_reply": "2022-06-07T09:59:23.502876Z"
    },
    "papermill": {
     "duration": 0.058067,
     "end_time": "2022-06-07T09:59:23.507041",
     "exception": false,
     "start_time": "2022-06-07T09:59:23.448974",
     "status": "completed"
    },
    "tags": []
   },
   "outputs": [
    {
     "data": {
      "text/plain": [
       "array(['May 29th 1865', '27th day of Novb 1865', '27th day of Novbr 1865',\n",
       "       '63 year', '28 day of Sept 1865', 'Maj 47th PM', 'May 47 PM',\n",
       "       '39 year', 'Maj 47th', '31 day of Oct 1865', '61 year',\n",
       "       '31st day of August AD 1865', 'August 24 1865',\n",
       "       '3 day of August 1865', 'May 4', '3 day of Augt 1865', 'Maj 47',\n",
       "       '48 year', '16th day of Sept 1865', '58 year',\n",
       "       '16 day of October 1865', 'twenty eight year', 'July 22',\n",
       "       '6 day of Nov 1865', '58 year of age', 'Sept 29 1865',\n",
       "       '29th day of September 1865', '24 year', 'Sept 29th 1865',\n",
       "       '29th day of Sept 29 1865', '3d day of February 1868',\n",
       "       '7th day of September 186', 'Aug 20 1865',\n",
       "       '20th day of August 1865', 'Thirty nine', 'Aug 20th 1865',\n",
       "       'August 29th 1865', '22nd day of August 1865', '18th Sept 1865',\n",
       "       'Aug 31 1865', '31st day of Aug 1865', '26 Years',\n",
       "       '31 day of Aug 1865'], dtype='<U26')"
      ]
     },
     "execution_count": 58,
     "metadata": {},
     "output_type": "execute_result"
    }
   ],
   "source": [
    "Date"
   ]
  },
  {
   "cell_type": "code",
   "execution_count": 59,
   "id": "7aa5e9aa",
   "metadata": {
    "execution": {
     "iopub.execute_input": "2022-06-07T09:59:23.599430Z",
     "iopub.status.busy": "2022-06-07T09:59:23.598931Z",
     "iopub.status.idle": "2022-06-07T09:59:23.612317Z",
     "shell.execute_reply": "2022-06-07T09:59:23.610483Z"
    },
    "papermill": {
     "duration": 0.062354,
     "end_time": "2022-06-07T09:59:23.615059",
     "exception": false,
     "start_time": "2022-06-07T09:59:23.552705",
     "status": "completed"
    },
    "tags": []
   },
   "outputs": [],
   "source": [
    "P1=[]\n",
    "OR1=[]\n",
    "LOC1=[]\n",
    "for i in range(len(D3)):\n",
    "    if final1.label.loc[i]==\"PER\":\n",
    "        P1.append(final1.entities.loc[i])\n",
    "    elif (final1.label.loc[i]==\"ORG\") | (final1.label.loc[i]==\"MISC\"):\n",
    "        OR1.append(final1.entities.loc[i])\n",
    "    elif final1.label.loc[i]==\"LOC\" :\n",
    "        LOC1.append(final1.entities.loc[i])\n",
    "        \n",
    "\n",
    "OR1=np.array(OR1)\n",
    "P1=np.array(P1)\n",
    "LOC1=np.array(LOC1)\n"
   ]
  },
  {
   "cell_type": "code",
   "execution_count": 60,
   "id": "363b9863",
   "metadata": {
    "execution": {
     "iopub.execute_input": "2022-06-07T09:59:23.710257Z",
     "iopub.status.busy": "2022-06-07T09:59:23.709022Z",
     "iopub.status.idle": "2022-06-07T09:59:23.726810Z",
     "shell.execute_reply": "2022-06-07T09:59:23.725955Z"
    },
    "papermill": {
     "duration": 0.066639,
     "end_time": "2022-06-07T09:59:23.729513",
     "exception": false,
     "start_time": "2022-06-07T09:59:23.662874",
     "status": "completed"
    },
    "tags": []
   },
   "outputs": [],
   "source": [
    "P2=[]\n",
    "OR2=[]\n",
    "LOC2=[]\n",
    "for i in range(len(D4)):\n",
    "    if final2.label.loc[i]==\"PER\":\n",
    "        P2.append(final2.entities.loc[i])\n",
    "    elif (final2.label.loc[i]==\"ORG\") | (final2.label.loc[i]==\"MISC\"):\n",
    "        OR2.append(final2.entities.loc[i])\n",
    "    elif final2.label.loc[i]==\"LOC\" :\n",
    "        LOC2.append(final2.entities.loc[i])\n",
    "        \n",
    "\n",
    "OR2=np.array(OR2)\n",
    "P2=np.array(P2)\n",
    "LOC2=np.array(LOC2)\n"
   ]
  },
  {
   "cell_type": "code",
   "execution_count": 61,
   "id": "0281f0ad",
   "metadata": {
    "execution": {
     "iopub.execute_input": "2022-06-07T09:59:23.823605Z",
     "iopub.status.busy": "2022-06-07T09:59:23.822427Z",
     "iopub.status.idle": "2022-06-07T09:59:23.830662Z",
     "shell.execute_reply": "2022-06-07T09:59:23.829249Z"
    },
    "papermill": {
     "duration": 0.058606,
     "end_time": "2022-06-07T09:59:23.833305",
     "exception": false,
     "start_time": "2022-06-07T09:59:23.774699",
     "status": "completed"
    },
    "tags": []
   },
   "outputs": [
    {
     "data": {
      "text/plain": [
       "41"
      ]
     },
     "execution_count": 61,
     "metadata": {},
     "output_type": "execute_result"
    }
   ],
   "source": [
    "len(Person)"
   ]
  },
  {
   "cell_type": "code",
   "execution_count": 62,
   "id": "738b6667",
   "metadata": {
    "execution": {
     "iopub.execute_input": "2022-06-07T09:59:23.930394Z",
     "iopub.status.busy": "2022-06-07T09:59:23.929227Z",
     "iopub.status.idle": "2022-06-07T09:59:23.936240Z",
     "shell.execute_reply": "2022-06-07T09:59:23.935078Z"
    },
    "papermill": {
     "duration": 0.058357,
     "end_time": "2022-06-07T09:59:23.938583",
     "exception": false,
     "start_time": "2022-06-07T09:59:23.880226",
     "status": "completed"
    },
    "tags": []
   },
   "outputs": [
    {
     "data": {
      "text/plain": [
       "40"
      ]
     },
     "execution_count": 62,
     "metadata": {},
     "output_type": "execute_result"
    }
   ],
   "source": [
    "len(P)"
   ]
  },
  {
   "cell_type": "code",
   "execution_count": 63,
   "id": "316b083f",
   "metadata": {
    "execution": {
     "iopub.execute_input": "2022-06-07T09:59:24.032179Z",
     "iopub.status.busy": "2022-06-07T09:59:24.031473Z",
     "iopub.status.idle": "2022-06-07T09:59:24.039874Z",
     "shell.execute_reply": "2022-06-07T09:59:24.038402Z"
    },
    "papermill": {
     "duration": 0.058766,
     "end_time": "2022-06-07T09:59:24.042473",
     "exception": false,
     "start_time": "2022-06-07T09:59:23.983707",
     "status": "completed"
    },
    "tags": []
   },
   "outputs": [
    {
     "data": {
      "text/plain": [
       "15"
      ]
     },
     "execution_count": 63,
     "metadata": {},
     "output_type": "execute_result"
    }
   ],
   "source": [
    "len(P1)"
   ]
  },
  {
   "cell_type": "code",
   "execution_count": 64,
   "id": "a48c5c59",
   "metadata": {
    "execution": {
     "iopub.execute_input": "2022-06-07T09:59:24.138697Z",
     "iopub.status.busy": "2022-06-07T09:59:24.138287Z",
     "iopub.status.idle": "2022-06-07T09:59:24.146406Z",
     "shell.execute_reply": "2022-06-07T09:59:24.144979Z"
    },
    "papermill": {
     "duration": 0.058997,
     "end_time": "2022-06-07T09:59:24.149021",
     "exception": false,
     "start_time": "2022-06-07T09:59:24.090024",
     "status": "completed"
    },
    "tags": []
   },
   "outputs": [
    {
     "data": {
      "text/plain": [
       "45"
      ]
     },
     "execution_count": 64,
     "metadata": {},
     "output_type": "execute_result"
    }
   ],
   "source": [
    "len(P2)"
   ]
  },
  {
   "cell_type": "code",
   "execution_count": 65,
   "id": "fc6982eb",
   "metadata": {
    "execution": {
     "iopub.execute_input": "2022-06-07T09:59:24.246629Z",
     "iopub.status.busy": "2022-06-07T09:59:24.245843Z",
     "iopub.status.idle": "2022-06-07T09:59:24.252344Z",
     "shell.execute_reply": "2022-06-07T09:59:24.251562Z"
    },
    "papermill": {
     "duration": 0.056796,
     "end_time": "2022-06-07T09:59:24.254409",
     "exception": false,
     "start_time": "2022-06-07T09:59:24.197613",
     "status": "completed"
    },
    "tags": []
   },
   "outputs": [
    {
     "data": {
      "text/plain": [
       "array(['Amnesty Oath', 'Amnesty Oath Administered At', 'Andrew Johnson',\n",
       "       'Anne H Elliott', 'Bray Lieut', 'Brown', 'Captn',\n",
       "       'Captn Commanding', 'Characteristics', 'Charleston Sc',\n",
       "       'City Miss', 'Copy Levi Steuben', 'Frank Conner', 'Frank E Miller',\n",
       "       'Gibbs Henderson', 'Gry', 'Hazel', 'Hiram Smith', 'Hiserodt',\n",
       "       'Hu Kennedy', 'JF Steinmeyer Sworn', 'Jacob Schroder Sworn',\n",
       "       'James D Kendall Amnesty Oath Administered At Oacen Springs',\n",
       "       'Joseph Edings', 'Laborer', 'Pass Christian', 'Robert A',\n",
       "       'Thomas Andrew Oath of', 'Triplicate AMNESTY', 'Walhalla',\n",
       "       'Whaley', 'William Whaley Sworn', 'Woodville Wilkinson'],\n",
       "      dtype='<U58')"
      ]
     },
     "execution_count": 65,
     "metadata": {},
     "output_type": "execute_result"
    }
   ],
   "source": [
    "np.unique(Person)"
   ]
  },
  {
   "cell_type": "code",
   "execution_count": 66,
   "id": "58fe4d27",
   "metadata": {
    "execution": {
     "iopub.execute_input": "2022-06-07T09:59:24.347298Z",
     "iopub.status.busy": "2022-06-07T09:59:24.346517Z",
     "iopub.status.idle": "2022-06-07T09:59:24.352616Z",
     "shell.execute_reply": "2022-06-07T09:59:24.351807Z"
    },
    "papermill": {
     "duration": 0.055338,
     "end_time": "2022-06-07T09:59:24.354845",
     "exception": false,
     "start_time": "2022-06-07T09:59:24.299507",
     "status": "completed"
    },
    "tags": []
   },
   "outputs": [
    {
     "data": {
      "text/plain": [
       "array(['ANDREW JOHNSON', 'Aiken Burnwell', 'Andrew Johnson',\n",
       "       'Anne H Elliott', 'Bergevin', 'Caroline Belitzer', 'City', 'E',\n",
       "       'E C Whaley', 'Frank Conner', 'Frank E Miller', 'Frank Geise',\n",
       "       'Geo D Carpenter', 'Hiram Smith', 'Holwell', 'Hu Kennedy',\n",
       "       'I E C Whaley', 'I J F Steinmeyer', 'J E Thuring', 'J H Mathews',\n",
       "       'JB Hiserodt', 'JF Steinmeyer', 'JH Mathews', 'JW Baxter',\n",
       "       'Jacob Schroder', 'Jacob Schroder Sworn', 'James D Kendall',\n",
       "       'James E Thuring', 'Joseph Edings', 'Levi Steuben', 'Levi Stuber',\n",
       "       'Levi Stuber Major', 'P H Joor', 'Robert A Wilson',\n",
       "       'S Wilde Durson', 'Vicksburg', 'Whaley', 'William Whaley Sworn',\n",
       "       'caroline Belitzer', 'mark Sworn'], dtype='<U20')"
      ]
     },
     "execution_count": 66,
     "metadata": {},
     "output_type": "execute_result"
    }
   ],
   "source": [
    "np.unique(P)"
   ]
  },
  {
   "cell_type": "code",
   "execution_count": 67,
   "id": "fa6b9a5b",
   "metadata": {
    "execution": {
     "iopub.execute_input": "2022-06-07T09:59:24.451361Z",
     "iopub.status.busy": "2022-06-07T09:59:24.450895Z",
     "iopub.status.idle": "2022-06-07T09:59:24.458652Z",
     "shell.execute_reply": "2022-06-07T09:59:24.457657Z"
    },
    "papermill": {
     "duration": 0.057145,
     "end_time": "2022-06-07T09:59:24.460800",
     "exception": false,
     "start_time": "2022-06-07T09:59:24.403655",
     "status": "completed"
    },
    "tags": []
   },
   "outputs": [
    {
     "data": {
      "text/plain": [
       "array(['Andrew Johnson', 'Anne H', 'Anne H Elliott', 'Caroline Belitzer',\n",
       "       'E Montgomery', 'Frank Conner', 'Hiram Smith', 'J H Mathews',\n",
       "       'Jacob Schroder', 'James E Thuring', 'Joseph Edings', 'Marshal',\n",
       "       'Robert A Wilson', 'Sworn', 'Wm Whaley'], dtype='<U17')"
      ]
     },
     "execution_count": 67,
     "metadata": {},
     "output_type": "execute_result"
    }
   ],
   "source": [
    "np.unique(P1)"
   ]
  },
  {
   "cell_type": "code",
   "execution_count": 68,
   "id": "4309c3e7",
   "metadata": {
    "execution": {
     "iopub.execute_input": "2022-06-07T09:59:24.555370Z",
     "iopub.status.busy": "2022-06-07T09:59:24.554616Z",
     "iopub.status.idle": "2022-06-07T09:59:24.561233Z",
     "shell.execute_reply": "2022-06-07T09:59:24.560533Z"
    },
    "papermill": {
     "duration": 0.055528,
     "end_time": "2022-06-07T09:59:24.563326",
     "exception": false,
     "start_time": "2022-06-07T09:59:24.507798",
     "status": "completed"
    },
    "tags": []
   },
   "outputs": [
    {
     "data": {
      "text/plain": [
       "array(['ANDREW JOHNSON', 'Almighty', 'Almighty God', 'Andrew Johnson',\n",
       "       'Anne H Elliott', 'Caroline Belitzer', 'E C Whaley', 'EB Towne',\n",
       "       'Frank Conner', 'Frank E Miller', 'Frank Geise', 'GOD',\n",
       "       'Geo D Carpenter', 'God', 'H Elliott', 'H F Holwell',\n",
       "       'Hiram Smith', 'Hu Kennedy', 'I E C Whaley', 'I J F Steinmeyer',\n",
       "       'J E Thuring', 'J H Mathews', 'JB Hiserodt', 'JF Steinmeyer',\n",
       "       'JH Mathews', 'JW Baxter', 'Jacob Schroder', 'James D Kendall',\n",
       "       'James E Thuring', 'Joseph Edings', 'Joseph Edings Sworn',\n",
       "       'Levi Steuben', 'Levi Stuber', 'Mrs E Montgomery', 'P H Joor',\n",
       "       'P P Bergevin', 'R A Bray', 'Robert A Wilson', 'S Wilde Durson',\n",
       "       'S Wilde Durson Magt', 'S Wilde Durson Magtr', 'Sgd Montgomery',\n",
       "       'William Whaley', 'Wm Whaley', 'caroline Belitzer'], dtype='<U20')"
      ]
     },
     "execution_count": 68,
     "metadata": {},
     "output_type": "execute_result"
    }
   ],
   "source": [
    "np.unique(P2)"
   ]
  },
  {
   "cell_type": "markdown",
   "id": "e67ee0a7",
   "metadata": {
    "papermill": {
     "duration": 0.046233,
     "end_time": "2022-06-07T09:59:24.656133",
     "exception": false,
     "start_time": "2022-06-07T09:59:24.609900",
     "status": "completed"
    },
    "tags": []
   },
   "source": [
    "****"
   ]
  },
  {
   "cell_type": "code",
   "execution_count": 69,
   "id": "4faaef33",
   "metadata": {
    "execution": {
     "iopub.execute_input": "2022-06-07T09:59:24.748750Z",
     "iopub.status.busy": "2022-06-07T09:59:24.748052Z",
     "iopub.status.idle": "2022-06-07T09:59:24.754048Z",
     "shell.execute_reply": "2022-06-07T09:59:24.753271Z"
    },
    "papermill": {
     "duration": 0.054778,
     "end_time": "2022-06-07T09:59:24.756086",
     "exception": false,
     "start_time": "2022-06-07T09:59:24.701308",
     "status": "completed"
    },
    "tags": []
   },
   "outputs": [
    {
     "data": {
      "text/plain": [
       "array(['AMNESTY', 'ANDREW', 'Amnesty', 'Amnesty Proclamation',\n",
       "       'Belitzer Sworn', 'Charleston State of So Carolina',\n",
       "       'Color of Eyes Blue Color of Hair Dark Characteristics',\n",
       "       'Emancipation of Slaves', 'Eyes Blue Color of Hair',\n",
       "       'Eyes Blue Color of Hair Light Characteristics', 'H F Holwell of',\n",
       "       'H Mathews Capt', 'JF Steinmeyer Sworn', 'Joseph Edings Sworn',\n",
       "       'Lawyer', 'Levi Stuber',\n",
       "       'Magistrate S Wilde Durson AHE AHE AHE H Elliott',\n",
       "       'OATH I P P Bergevin',\n",
       "       'P H Joor Justice of Peace Wilkinson County State of',\n",
       "       'Rebellion reference Emancipation of Slaves',\n",
       "       'Regt U S C Infy Provost Marshal', 'Sgd Montgomery Sworn', 'Sworn',\n",
       "       'UNITED STATES FORCES No 1282 PROVOST MARSHALS OFFICE',\n",
       "       'US Col Infty Provost Marshal', 'USCI Commanding',\n",
       "       'United State of America', 'United States Union',\n",
       "       'United States Union of State', 'Whaley Sworn', 'Wilson'],\n",
       "      dtype='<U53')"
      ]
     },
     "execution_count": 69,
     "metadata": {},
     "output_type": "execute_result"
    }
   ],
   "source": [
    "np.unique(ORG)"
   ]
  },
  {
   "cell_type": "code",
   "execution_count": 70,
   "id": "17d8a1d4",
   "metadata": {
    "execution": {
     "iopub.execute_input": "2022-06-07T09:59:24.853977Z",
     "iopub.status.busy": "2022-06-07T09:59:24.853373Z",
     "iopub.status.idle": "2022-06-07T09:59:24.859010Z",
     "shell.execute_reply": "2022-06-07T09:59:24.858195Z"
    },
    "papermill": {
     "duration": 0.057535,
     "end_time": "2022-06-07T09:59:24.861266",
     "exception": false,
     "start_time": "2022-06-07T09:59:24.803731",
     "status": "completed"
    },
    "tags": []
   },
   "outputs": [
    {
     "data": {
      "text/plain": [
       "array(['James D Kendall Amnesty Oath Administered At Oacen Springs Miss 18th',\n",
       "       'WA Fleitas Amnesty Oath Administered At Pass Christian Mississippi By JB Hiserodt'],\n",
       "      dtype='<U81')"
      ]
     },
     "execution_count": 70,
     "metadata": {},
     "output_type": "execute_result"
    }
   ],
   "source": [
    "np.unique(OR1)"
   ]
  },
  {
   "cell_type": "code",
   "execution_count": 71,
   "id": "36a9d8c4",
   "metadata": {
    "execution": {
     "iopub.execute_input": "2022-06-07T09:59:24.958309Z",
     "iopub.status.busy": "2022-06-07T09:59:24.957668Z",
     "iopub.status.idle": "2022-06-07T09:59:24.963227Z",
     "shell.execute_reply": "2022-06-07T09:59:24.962513Z"
    },
    "papermill": {
     "duration": 0.056009,
     "end_time": "2022-06-07T09:59:24.965300",
     "exception": false,
     "start_time": "2022-06-07T09:59:24.909291",
     "status": "completed"
    },
    "tags": []
   },
   "outputs": [
    {
     "data": {
      "text/plain": [
       "array(['128th USCT', '47th Pa', 'AMNESTY OATH', 'Amnesty', 'Amnesty Oath',\n",
       "       'Amnesty Proclamation', 'Constitution', 'Emancipation of Slaves',\n",
       "       'Emancipation of SlavesSO', 'Emancipation of SlavesSo',\n",
       "       'MARSHALS OFFICE', 'NYVV', 'Oath',\n",
       "       'Thomas Andrew Oath of Loyalty Recd Bureau',\n",
       "       'Thos Gibbs Henderson Co', 'U S C', 'UNITED STATES FORCES', 'US',\n",
       "       'US Cold Inf', 'US Cold Infty', 'USCI', 'USCT', 'Union', 'Vols',\n",
       "       'WA Fleitas Amnesty Oath', 'Walhalla', 'Woodville Wilkinson Co'],\n",
       "      dtype='<U41')"
      ]
     },
     "execution_count": 71,
     "metadata": {},
     "output_type": "execute_result"
    }
   ],
   "source": [
    "np.unique(OR2)"
   ]
  },
  {
   "cell_type": "markdown",
   "id": "89ff2046",
   "metadata": {
    "papermill": {
     "duration": 0.049146,
     "end_time": "2022-06-07T09:59:25.064343",
     "exception": false,
     "start_time": "2022-06-07T09:59:25.015197",
     "status": "completed"
    },
    "tags": []
   },
   "source": [
    "****"
   ]
  },
  {
   "cell_type": "code",
   "execution_count": 72,
   "id": "abc83c66",
   "metadata": {
    "execution": {
     "iopub.execute_input": "2022-06-07T09:59:25.163101Z",
     "iopub.status.busy": "2022-06-07T09:59:25.162599Z",
     "iopub.status.idle": "2022-06-07T09:59:25.168895Z",
     "shell.execute_reply": "2022-06-07T09:59:25.168021Z"
    },
    "papermill": {
     "duration": 0.059552,
     "end_time": "2022-06-07T09:59:25.171740",
     "exception": false,
     "start_time": "2022-06-07T09:59:25.112188",
     "status": "completed"
    },
    "tags": []
   },
   "outputs": [
    {
     "data": {
      "text/plain": [
       "array(['South Ca'], dtype='<U8')"
      ]
     },
     "execution_count": 72,
     "metadata": {},
     "output_type": "execute_result"
    }
   ],
   "source": [
    "np.unique(LOC)"
   ]
  },
  {
   "cell_type": "code",
   "execution_count": 73,
   "id": "612ebc05",
   "metadata": {
    "execution": {
     "iopub.execute_input": "2022-06-07T09:59:25.270986Z",
     "iopub.status.busy": "2022-06-07T09:59:25.269704Z",
     "iopub.status.idle": "2022-06-07T09:59:25.277539Z",
     "shell.execute_reply": "2022-06-07T09:59:25.276134Z"
    },
    "papermill": {
     "duration": 0.060671,
     "end_time": "2022-06-07T09:59:25.280419",
     "exception": false,
     "start_time": "2022-06-07T09:59:25.219748",
     "status": "completed"
    },
    "tags": []
   },
   "outputs": [
    {
     "data": {
      "text/plain": [
       "array(['AMERICA', 'So Carolina', 'South Carolina', 'US', 'United States'],\n",
       "      dtype='<U14')"
      ]
     },
     "execution_count": 73,
     "metadata": {},
     "output_type": "execute_result"
    }
   ],
   "source": [
    "np.unique(LOC1)"
   ]
  },
  {
   "cell_type": "code",
   "execution_count": 74,
   "id": "8151ca07",
   "metadata": {
    "execution": {
     "iopub.execute_input": "2022-06-07T09:59:25.383932Z",
     "iopub.status.busy": "2022-06-07T09:59:25.383432Z",
     "iopub.status.idle": "2022-06-07T09:59:25.391389Z",
     "shell.execute_reply": "2022-06-07T09:59:25.390200Z"
    },
    "papermill": {
     "duration": 0.065518,
     "end_time": "2022-06-07T09:59:25.394237",
     "exception": false,
     "start_time": "2022-06-07T09:59:25.328719",
     "status": "completed"
    },
    "tags": []
   },
   "outputs": [
    {
     "data": {
      "text/plain": [
       "array(['Aiken', 'Aiken Burnwell', 'Charleston', 'Charleston Sate',\n",
       "       'Charleston Sc', 'City', 'City of Charleston',\n",
       "       'City of New Orleans', 'County', 'County of Charleston',\n",
       "       'County of Orangeburg', 'District of Beaufort', 'Gainsville',\n",
       "       'Harrison Co', 'Marshal City of Charleston', 'Miss', 'Miss City',\n",
       "       'Mississippi City', 'NC', 'Oacen Springs', 'Orangeburg SC',\n",
       "       'Pass Christian Mississippi', 'Port of Miss', 'SC', 'South Ca',\n",
       "       'State of So Carolina', 'State of South Carolina',\n",
       "       'UNITED STATES OF AMERICA', 'United State of America',\n",
       "       'United States', 'United States Union of State',\n",
       "       'United States Union of States', 'United States of America',\n",
       "       'Walhalla State of South Carolina', 'Warren Co',\n",
       "       'Wilkinson County State of Mississippi'], dtype='<U37')"
      ]
     },
     "execution_count": 74,
     "metadata": {},
     "output_type": "execute_result"
    }
   ],
   "source": [
    "np.unique(LOC2)"
   ]
  },
  {
   "cell_type": "markdown",
   "id": "786d4d7c",
   "metadata": {
    "papermill": {
     "duration": 0.048338,
     "end_time": "2022-06-07T09:59:25.492828",
     "exception": false,
     "start_time": "2022-06-07T09:59:25.444490",
     "status": "completed"
    },
    "tags": []
   },
   "source": [
    "****"
   ]
  },
  {
   "cell_type": "code",
   "execution_count": 75,
   "id": "be73c6f6",
   "metadata": {
    "execution": {
     "iopub.execute_input": "2022-06-07T09:59:25.592328Z",
     "iopub.status.busy": "2022-06-07T09:59:25.591820Z",
     "iopub.status.idle": "2022-06-07T09:59:25.600797Z",
     "shell.execute_reply": "2022-06-07T09:59:25.599975Z"
    },
    "papermill": {
     "duration": 0.061458,
     "end_time": "2022-06-07T09:59:25.602939",
     "exception": false,
     "start_time": "2022-06-07T09:59:25.541481",
     "status": "completed"
    },
    "tags": []
   },
   "outputs": [
    {
     "data": {
      "text/plain": [
       "array(['16 day of October 1865', '16th day of Sept 1865',\n",
       "       '18th Sept 1865', '20th day of August 1865',\n",
       "       '22nd day of August 1865', '24 year', '26 Years',\n",
       "       '27th day of Novb 1865', '27th day of Novbr 1865',\n",
       "       '28 day of Sept 1865', '29th day of Sept 29 1865',\n",
       "       '29th day of September 1865', '3 day of Augt 1865',\n",
       "       '3 day of August 1865', '31 day of Aug 1865', '31 day of Oct 1865',\n",
       "       '31st day of Aug 1865', '31st day of August AD 1865', '39 year',\n",
       "       '3d day of February 1868', '48 year', '58 year', '58 year of age',\n",
       "       '6 day of Nov 1865', '61 year', '63 year',\n",
       "       '7th day of September 186', 'Aug 20 1865', 'Aug 20th 1865',\n",
       "       'Aug 31 1865', 'August 24 1865', 'August 29th 1865', 'July 22',\n",
       "       'Maj 47', 'Maj 47th', 'Maj 47th PM', 'May 29th 1865', 'May 4',\n",
       "       'May 47 PM', 'Sept 29 1865', 'Sept 29th 1865', 'Thirty nine',\n",
       "       'twenty eight year'], dtype='<U26')"
      ]
     },
     "execution_count": 75,
     "metadata": {},
     "output_type": "execute_result"
    }
   ],
   "source": [
    "np.unique(Date)"
   ]
  },
  {
   "cell_type": "code",
   "execution_count": 76,
   "id": "5561ff10",
   "metadata": {
    "execution": {
     "iopub.execute_input": "2022-06-07T09:59:25.709925Z",
     "iopub.status.busy": "2022-06-07T09:59:25.709168Z",
     "iopub.status.idle": "2022-06-07T09:59:25.716113Z",
     "shell.execute_reply": "2022-06-07T09:59:25.715311Z"
    },
    "papermill": {
     "duration": 0.060728,
     "end_time": "2022-06-07T09:59:25.718350",
     "exception": false,
     "start_time": "2022-06-07T09:59:25.657622",
     "status": "completed"
    },
    "tags": []
   },
   "outputs": [
    {
     "data": {
      "text/plain": [
       "array(['Charleston', 'Charleston S C', 'Charleston SC',\n",
       "       'Mississippi City', 'Orangeburg', 'So Carolina', 'South Carolina',\n",
       "       'UNITED STATES OF', 'US', 'United State of America',\n",
       "       'United States', 'United States of America'], dtype='<U24')"
      ]
     },
     "execution_count": 76,
     "metadata": {},
     "output_type": "execute_result"
    }
   ],
   "source": [
    "np.unique(GP)"
   ]
  },
  {
   "cell_type": "markdown",
   "id": "8b0ae653",
   "metadata": {
    "papermill": {
     "duration": 0.056496,
     "end_time": "2022-06-07T09:59:25.826490",
     "exception": false,
     "start_time": "2022-06-07T09:59:25.769994",
     "status": "completed"
    },
    "tags": []
   },
   "source": [
    "# Post processing"
   ]
  },
  {
   "cell_type": "markdown",
   "id": "2a56e1bb",
   "metadata": {
    "papermill": {
     "duration": 0.047212,
     "end_time": "2022-06-07T09:59:25.919814",
     "exception": false,
     "start_time": "2022-06-07T09:59:25.872602",
     "status": "completed"
    },
    "tags": []
   },
   "source": [
    "**For dates**"
   ]
  },
  {
   "cell_type": "code",
   "execution_count": 77,
   "id": "c9bc5000",
   "metadata": {
    "execution": {
     "iopub.execute_input": "2022-06-07T09:59:26.015416Z",
     "iopub.status.busy": "2022-06-07T09:59:26.014622Z",
     "iopub.status.idle": "2022-06-07T09:59:26.021831Z",
     "shell.execute_reply": "2022-06-07T09:59:26.020439Z"
    },
    "papermill": {
     "duration": 0.058281,
     "end_time": "2022-06-07T09:59:26.024369",
     "exception": false,
     "start_time": "2022-06-07T09:59:25.966088",
     "status": "completed"
    },
    "tags": []
   },
   "outputs": [],
   "source": [
    "import regex as re\n",
    "Pattern1=re.compile(r'^\\d\\.*.*\\d\\d$')\n",
    "Pattern2=re.compile(r'^[A-Z]\\.*.*\\d \\.*.*\\d\\d$')"
   ]
  },
  {
   "cell_type": "code",
   "execution_count": 78,
   "id": "b8f5f390",
   "metadata": {
    "execution": {
     "iopub.execute_input": "2022-06-07T09:59:26.123150Z",
     "iopub.status.busy": "2022-06-07T09:59:26.122349Z",
     "iopub.status.idle": "2022-06-07T09:59:26.128484Z",
     "shell.execute_reply": "2022-06-07T09:59:26.127587Z"
    },
    "papermill": {
     "duration": 0.058496,
     "end_time": "2022-06-07T09:59:26.130932",
     "exception": false,
     "start_time": "2022-06-07T09:59:26.072436",
     "status": "completed"
    },
    "tags": []
   },
   "outputs": [],
   "source": [
    "M=[]\n",
    "for i in Date:\n",
    "        date=re.search(r'^\\d\\.*.*\\d\\d$' ,i)\n",
    "        date2=re.search(r'^[A-Z]\\.*.*\\d \\.*.*\\d\\d$' ,i)\n",
    "        M.append(date)\n",
    "        M.append(date2)\n",
    "       "
   ]
  },
  {
   "cell_type": "code",
   "execution_count": 79,
   "id": "389e45c0",
   "metadata": {
    "execution": {
     "iopub.execute_input": "2022-06-07T09:59:26.227945Z",
     "iopub.status.busy": "2022-06-07T09:59:26.227144Z",
     "iopub.status.idle": "2022-06-07T09:59:26.233761Z",
     "shell.execute_reply": "2022-06-07T09:59:26.232766Z"
    },
    "papermill": {
     "duration": 0.059031,
     "end_time": "2022-06-07T09:59:26.236118",
     "exception": false,
     "start_time": "2022-06-07T09:59:26.177087",
     "status": "completed"
    },
    "tags": []
   },
   "outputs": [],
   "source": [
    "Final_date=[]\n",
    "for i in M:\n",
    "    if i!=None:\n",
    "        Final_date.append(i.group())"
   ]
  },
  {
   "cell_type": "code",
   "execution_count": 80,
   "id": "5a7f27b3",
   "metadata": {
    "execution": {
     "iopub.execute_input": "2022-06-07T09:59:26.336253Z",
     "iopub.status.busy": "2022-06-07T09:59:26.335326Z",
     "iopub.status.idle": "2022-06-07T09:59:26.347586Z",
     "shell.execute_reply": "2022-06-07T09:59:26.346176Z"
    },
    "papermill": {
     "duration": 0.063871,
     "end_time": "2022-06-07T09:59:26.350049",
     "exception": false,
     "start_time": "2022-06-07T09:59:26.286178",
     "status": "completed"
    },
    "tags": []
   },
   "outputs": [],
   "source": [
    "N=[]\n",
    "for i in Final_date:\n",
    "        Final_date1=re.sub(r'([0-9]{1,2})\\.*.*\\s([A-Z]\\.*.*)\\s([0-9]{3,4})',r'\\1-\\2-\\3' ,i)\n",
    "        Final_date2=re.sub(r'([A-Z]\\.*.*)\\s([0-9]{1,2})\\.*.*\\s([0-9]{3,4})',r'\\2-\\1-\\3' ,i)\n",
    "        if Final_date1 != i:   \n",
    "            N.append(Final_date1)\n",
    "        if Final_date2 != i :\n",
    "            N.append(Final_date2)"
   ]
  },
  {
   "cell_type": "code",
   "execution_count": 81,
   "id": "c6152801",
   "metadata": {
    "execution": {
     "iopub.execute_input": "2022-06-07T09:59:26.450283Z",
     "iopub.status.busy": "2022-06-07T09:59:26.449505Z",
     "iopub.status.idle": "2022-06-07T09:59:26.455800Z",
     "shell.execute_reply": "2022-06-07T09:59:26.454917Z"
    },
    "papermill": {
     "duration": 0.058778,
     "end_time": "2022-06-07T09:59:26.458318",
     "exception": false,
     "start_time": "2022-06-07T09:59:26.399540",
     "status": "completed"
    },
    "tags": []
   },
   "outputs": [
    {
     "data": {
      "text/plain": [
       "['27-Novb-1865',\n",
       " '27-Novbr-1865',\n",
       " '28-Sept-1865',\n",
       " '31-Oct-1865',\n",
       " '31-AD-1865',\n",
       " '24-August-1865',\n",
       " '3-August-1865',\n",
       " '3-Augt-1865',\n",
       " '16-Sept-1865',\n",
       " '16-October-1865',\n",
       " '6-Nov-1865',\n",
       " '29-Sept-1865',\n",
       " '29-September-1865',\n",
       " '29-Sept 29-1865',\n",
       " '29th day of 29-Sept-1865',\n",
       " '3-February-1868',\n",
       " '7-September-186',\n",
       " '20-Aug-1865',\n",
       " '20-August-1865',\n",
       " '22-August-1865',\n",
       " '18-Sept-1865',\n",
       " '31-Aug-1865',\n",
       " '31-Aug-1865',\n",
       " '31-Aug-1865']"
      ]
     },
     "execution_count": 81,
     "metadata": {},
     "output_type": "execute_result"
    }
   ],
   "source": [
    "N"
   ]
  },
  {
   "cell_type": "markdown",
   "id": "8f2f793a",
   "metadata": {
    "papermill": {
     "duration": 0.048954,
     "end_time": "2022-06-07T09:59:26.555009",
     "exception": false,
     "start_time": "2022-06-07T09:59:26.506055",
     "status": "completed"
    },
    "tags": []
   },
   "source": [
    "**great !**"
   ]
  },
  {
   "cell_type": "markdown",
   "id": "08354f5a",
   "metadata": {
    "papermill": {
     "duration": 0.055255,
     "end_time": "2022-06-07T09:59:26.662882",
     "exception": false,
     "start_time": "2022-06-07T09:59:26.607627",
     "status": "completed"
    },
    "tags": []
   },
   "source": [
    "# best result obtained "
   ]
  },
  {
   "cell_type": "markdown",
   "id": "b125791f",
   "metadata": {
    "papermill": {
     "duration": 0.050345,
     "end_time": "2022-06-07T09:59:26.772961",
     "exception": false,
     "start_time": "2022-06-07T09:59:26.722616",
     "status": "completed"
    },
    "tags": []
   },
   "source": [
    "***Person***"
   ]
  },
  {
   "cell_type": "code",
   "execution_count": 82,
   "id": "70be2df0",
   "metadata": {
    "execution": {
     "iopub.execute_input": "2022-06-07T09:59:26.870147Z",
     "iopub.status.busy": "2022-06-07T09:59:26.869667Z",
     "iopub.status.idle": "2022-06-07T09:59:26.877006Z",
     "shell.execute_reply": "2022-06-07T09:59:26.875891Z"
    },
    "papermill": {
     "duration": 0.05897,
     "end_time": "2022-06-07T09:59:26.879084",
     "exception": false,
     "start_time": "2022-06-07T09:59:26.820114",
     "status": "completed"
    },
    "tags": []
   },
   "outputs": [
    {
     "data": {
      "text/plain": [
       "array(['ANDREW JOHNSON', 'Almighty', 'Almighty God', 'Andrew Johnson',\n",
       "       'Anne H Elliott', 'Caroline Belitzer', 'E C Whaley', 'EB Towne',\n",
       "       'Frank Conner', 'Frank E Miller', 'Frank Geise', 'GOD',\n",
       "       'Geo D Carpenter', 'God', 'H Elliott', 'H F Holwell',\n",
       "       'Hiram Smith', 'Hu Kennedy', 'I E C Whaley', 'I J F Steinmeyer',\n",
       "       'J E Thuring', 'J H Mathews', 'JB Hiserodt', 'JF Steinmeyer',\n",
       "       'JH Mathews', 'JW Baxter', 'Jacob Schroder', 'James D Kendall',\n",
       "       'James E Thuring', 'Joseph Edings', 'Joseph Edings Sworn',\n",
       "       'Levi Steuben', 'Levi Stuber', 'Mrs E Montgomery', 'P H Joor',\n",
       "       'P P Bergevin', 'R A Bray', 'Robert A Wilson', 'S Wilde Durson',\n",
       "       'S Wilde Durson Magt', 'S Wilde Durson Magtr', 'Sgd Montgomery',\n",
       "       'William Whaley', 'Wm Whaley', 'caroline Belitzer'], dtype='<U20')"
      ]
     },
     "execution_count": 82,
     "metadata": {},
     "output_type": "execute_result"
    }
   ],
   "source": [
    "np.unique(P2)"
   ]
  },
  {
   "cell_type": "markdown",
   "id": "4de6a987",
   "metadata": {
    "papermill": {
     "duration": 0.048,
     "end_time": "2022-06-07T09:59:26.975119",
     "exception": false,
     "start_time": "2022-06-07T09:59:26.927119",
     "status": "completed"
    },
    "tags": []
   },
   "source": [
    "****"
   ]
  },
  {
   "cell_type": "markdown",
   "id": "813f2b41",
   "metadata": {
    "papermill": {
     "duration": 0.049684,
     "end_time": "2022-06-07T09:59:27.074155",
     "exception": false,
     "start_time": "2022-06-07T09:59:27.024471",
     "status": "completed"
    },
    "tags": []
   },
   "source": [
    "***Organization***"
   ]
  },
  {
   "cell_type": "code",
   "execution_count": 83,
   "id": "84822b9e",
   "metadata": {
    "execution": {
     "iopub.execute_input": "2022-06-07T09:59:27.188791Z",
     "iopub.status.busy": "2022-06-07T09:59:27.188095Z",
     "iopub.status.idle": "2022-06-07T09:59:27.194731Z",
     "shell.execute_reply": "2022-06-07T09:59:27.193685Z"
    },
    "papermill": {
     "duration": 0.06876,
     "end_time": "2022-06-07T09:59:27.197379",
     "exception": false,
     "start_time": "2022-06-07T09:59:27.128619",
     "status": "completed"
    },
    "tags": []
   },
   "outputs": [
    {
     "data": {
      "text/plain": [
       "array(['128th USCT', '47th Pa', 'AMNESTY OATH', 'Amnesty', 'Amnesty Oath',\n",
       "       'Amnesty Proclamation', 'Constitution', 'Emancipation of Slaves',\n",
       "       'Emancipation of SlavesSO', 'Emancipation of SlavesSo',\n",
       "       'MARSHALS OFFICE', 'NYVV', 'Oath',\n",
       "       'Thomas Andrew Oath of Loyalty Recd Bureau',\n",
       "       'Thos Gibbs Henderson Co', 'U S C', 'UNITED STATES FORCES', 'US',\n",
       "       'US Cold Inf', 'US Cold Infty', 'USCI', 'USCT', 'Union', 'Vols',\n",
       "       'WA Fleitas Amnesty Oath', 'Walhalla', 'Woodville Wilkinson Co'],\n",
       "      dtype='<U41')"
      ]
     },
     "execution_count": 83,
     "metadata": {},
     "output_type": "execute_result"
    }
   ],
   "source": [
    "np.unique(OR2)\n"
   ]
  },
  {
   "cell_type": "markdown",
   "id": "cb79d88f",
   "metadata": {
    "papermill": {
     "duration": 0.048528,
     "end_time": "2022-06-07T09:59:27.293957",
     "exception": false,
     "start_time": "2022-06-07T09:59:27.245429",
     "status": "completed"
    },
    "tags": []
   },
   "source": [
    "****"
   ]
  },
  {
   "cell_type": "markdown",
   "id": "7b5fe563",
   "metadata": {
    "papermill": {
     "duration": 0.047356,
     "end_time": "2022-06-07T09:59:27.389131",
     "exception": false,
     "start_time": "2022-06-07T09:59:27.341775",
     "status": "completed"
    },
    "tags": []
   },
   "source": [
    "***GPE and location***"
   ]
  },
  {
   "cell_type": "code",
   "execution_count": 84,
   "id": "3cb62a61",
   "metadata": {
    "execution": {
     "iopub.execute_input": "2022-06-07T09:59:27.490889Z",
     "iopub.status.busy": "2022-06-07T09:59:27.490150Z",
     "iopub.status.idle": "2022-06-07T09:59:27.496121Z",
     "shell.execute_reply": "2022-06-07T09:59:27.495352Z"
    },
    "papermill": {
     "duration": 0.060035,
     "end_time": "2022-06-07T09:59:27.498098",
     "exception": false,
     "start_time": "2022-06-07T09:59:27.438063",
     "status": "completed"
    },
    "tags": []
   },
   "outputs": [
    {
     "data": {
      "text/plain": [
       "array(['Charleston', 'Gainsville', 'Mississippi', 'Mississippi City',\n",
       "       'NC', 'New Orleans', 'South Carolina', 'States', 'US',\n",
       "       'United States', 'United States of America', 'Vicksburg'],\n",
       "      dtype='<U24')"
      ]
     },
     "execution_count": 84,
     "metadata": {},
     "output_type": "execute_result"
    }
   ],
   "source": [
    "np.unique(GPE)"
   ]
  },
  {
   "cell_type": "code",
   "execution_count": 85,
   "id": "7eaa29d9",
   "metadata": {
    "execution": {
     "iopub.execute_input": "2022-06-07T09:59:27.599935Z",
     "iopub.status.busy": "2022-06-07T09:59:27.599183Z",
     "iopub.status.idle": "2022-06-07T09:59:27.606233Z",
     "shell.execute_reply": "2022-06-07T09:59:27.605298Z"
    },
    "papermill": {
     "duration": 0.062057,
     "end_time": "2022-06-07T09:59:27.608425",
     "exception": false,
     "start_time": "2022-06-07T09:59:27.546368",
     "status": "completed"
    },
    "tags": []
   },
   "outputs": [
    {
     "data": {
      "text/plain": [
       "array(['Aiken', 'Aiken Burnwell', 'Charleston', 'Charleston Sate',\n",
       "       'Charleston Sc', 'City', 'City of Charleston',\n",
       "       'City of New Orleans', 'County', 'County of Charleston',\n",
       "       'County of Orangeburg', 'District of Beaufort', 'Gainsville',\n",
       "       'Harrison Co', 'Marshal City of Charleston', 'Miss', 'Miss City',\n",
       "       'Mississippi City', 'NC', 'Oacen Springs', 'Orangeburg SC',\n",
       "       'Pass Christian Mississippi', 'Port of Miss', 'SC', 'South Ca',\n",
       "       'State of So Carolina', 'State of South Carolina',\n",
       "       'UNITED STATES OF AMERICA', 'United State of America',\n",
       "       'United States', 'United States Union of State',\n",
       "       'United States Union of States', 'United States of America',\n",
       "       'Walhalla State of South Carolina', 'Warren Co',\n",
       "       'Wilkinson County State of Mississippi'], dtype='<U37')"
      ]
     },
     "execution_count": 85,
     "metadata": {},
     "output_type": "execute_result"
    }
   ],
   "source": [
    "np.unique(LOC2)"
   ]
  },
  {
   "cell_type": "markdown",
   "id": "b2400eb7",
   "metadata": {
    "papermill": {
     "duration": 0.050888,
     "end_time": "2022-06-07T09:59:27.707141",
     "exception": false,
     "start_time": "2022-06-07T09:59:27.656253",
     "status": "completed"
    },
    "tags": []
   },
   "source": [
    "****"
   ]
  },
  {
   "cell_type": "markdown",
   "id": "844de9d7",
   "metadata": {
    "papermill": {
     "duration": 0.047636,
     "end_time": "2022-06-07T09:59:27.802022",
     "exception": false,
     "start_time": "2022-06-07T09:59:27.754386",
     "status": "completed"
    },
    "tags": []
   },
   "source": [
    "**Date**"
   ]
  },
  {
   "cell_type": "code",
   "execution_count": 86,
   "id": "7848ff81",
   "metadata": {
    "execution": {
     "iopub.execute_input": "2022-06-07T09:59:27.898534Z",
     "iopub.status.busy": "2022-06-07T09:59:27.897396Z",
     "iopub.status.idle": "2022-06-07T09:59:27.905691Z",
     "shell.execute_reply": "2022-06-07T09:59:27.904382Z"
    },
    "papermill": {
     "duration": 0.05991,
     "end_time": "2022-06-07T09:59:27.908529",
     "exception": false,
     "start_time": "2022-06-07T09:59:27.848619",
     "status": "completed"
    },
    "tags": []
   },
   "outputs": [
    {
     "data": {
      "text/plain": [
       "['27-Novb-1865',\n",
       " '27-Novbr-1865',\n",
       " '28-Sept-1865',\n",
       " '31-Oct-1865',\n",
       " '31-AD-1865',\n",
       " '24-August-1865',\n",
       " '3-August-1865',\n",
       " '3-Augt-1865',\n",
       " '16-Sept-1865',\n",
       " '16-October-1865',\n",
       " '6-Nov-1865',\n",
       " '29-Sept-1865',\n",
       " '29-September-1865',\n",
       " '29-Sept 29-1865',\n",
       " '29th day of 29-Sept-1865',\n",
       " '3-February-1868',\n",
       " '7-September-186',\n",
       " '20-Aug-1865',\n",
       " '20-August-1865',\n",
       " '22-August-1865',\n",
       " '18-Sept-1865',\n",
       " '31-Aug-1865',\n",
       " '31-Aug-1865',\n",
       " '31-Aug-1865']"
      ]
     },
     "execution_count": 86,
     "metadata": {},
     "output_type": "execute_result"
    }
   ],
   "source": [
    "N"
   ]
  },
  {
   "cell_type": "markdown",
   "id": "7c1be22e",
   "metadata": {
    "papermill": {
     "duration": 0.050231,
     "end_time": "2022-06-07T09:59:28.009373",
     "exception": false,
     "start_time": "2022-06-07T09:59:27.959142",
     "status": "completed"
    },
    "tags": []
   },
   "source": [
    "****"
   ]
  },
  {
   "cell_type": "code",
   "execution_count": null,
   "id": "3a1efad8",
   "metadata": {
    "papermill": {
     "duration": 0.047471,
     "end_time": "2022-06-07T09:59:28.105467",
     "exception": false,
     "start_time": "2022-06-07T09:59:28.057996",
     "status": "completed"
    },
    "tags": []
   },
   "outputs": [],
   "source": []
  },
  {
   "cell_type": "code",
   "execution_count": null,
   "id": "b384833c",
   "metadata": {
    "papermill": {
     "duration": 0.047565,
     "end_time": "2022-06-07T09:59:28.200674",
     "exception": false,
     "start_time": "2022-06-07T09:59:28.153109",
     "status": "completed"
    },
    "tags": []
   },
   "outputs": [],
   "source": []
  },
  {
   "cell_type": "code",
   "execution_count": null,
   "id": "5d41991b",
   "metadata": {
    "papermill": {
     "duration": 0.047255,
     "end_time": "2022-06-07T09:59:28.295763",
     "exception": false,
     "start_time": "2022-06-07T09:59:28.248508",
     "status": "completed"
    },
    "tags": []
   },
   "outputs": [],
   "source": []
  },
  {
   "cell_type": "code",
   "execution_count": null,
   "id": "db342ef5",
   "metadata": {
    "papermill": {
     "duration": 0.058323,
     "end_time": "2022-06-07T09:59:28.404261",
     "exception": false,
     "start_time": "2022-06-07T09:59:28.345938",
     "status": "completed"
    },
    "tags": []
   },
   "outputs": [],
   "source": []
  },
  {
   "cell_type": "code",
   "execution_count": null,
   "id": "40e85450",
   "metadata": {
    "papermill": {
     "duration": 0.046593,
     "end_time": "2022-06-07T09:59:28.503723",
     "exception": false,
     "start_time": "2022-06-07T09:59:28.457130",
     "status": "completed"
    },
    "tags": []
   },
   "outputs": [],
   "source": []
  }
 ],
 "metadata": {
  "kernelspec": {
   "display_name": "Python 3",
   "language": "python",
   "name": "python3"
  },
  "language_info": {
   "codemirror_mode": {
    "name": "ipython",
    "version": 3
   },
   "file_extension": ".py",
   "mimetype": "text/x-python",
   "name": "python",
   "nbconvert_exporter": "python",
   "pygments_lexer": "ipython3",
   "version": "3.7.12"
  },
  "papermill": {
   "default_parameters": {},
   "duration": 563.144091,
   "end_time": "2022-06-07T09:59:31.386747",
   "environment_variables": {},
   "exception": null,
   "input_path": "__notebook__.ipynb",
   "output_path": "__notebook__.ipynb",
   "parameters": {},
   "start_time": "2022-06-07T09:50:08.242656",
   "version": "2.3.4"
  },
  "widgets": {
   "application/vnd.jupyter.widget-state+json": {
    "state": {
     "0102b426ebd640cbac0f356c51707f7f": {
      "model_module": "@jupyter-widgets/base",
      "model_module_version": "1.2.0",
      "model_name": "LayoutModel",
      "state": {
       "_model_module": "@jupyter-widgets/base",
       "_model_module_version": "1.2.0",
       "_model_name": "LayoutModel",
       "_view_count": null,
       "_view_module": "@jupyter-widgets/base",
       "_view_module_version": "1.2.0",
       "_view_name": "LayoutView",
       "align_content": null,
       "align_items": null,
       "align_self": null,
       "border": null,
       "bottom": null,
       "display": null,
       "flex": null,
       "flex_flow": null,
       "grid_area": null,
       "grid_auto_columns": null,
       "grid_auto_flow": null,
       "grid_auto_rows": null,
       "grid_column": null,
       "grid_gap": null,
       "grid_row": null,
       "grid_template_areas": null,
       "grid_template_columns": null,
       "grid_template_rows": null,
       "height": null,
       "justify_content": null,
       "justify_items": null,
       "left": null,
       "margin": null,
       "max_height": null,
       "max_width": null,
       "min_height": null,
       "min_width": null,
       "object_fit": null,
       "object_position": null,
       "order": null,
       "overflow": null,
       "overflow_x": null,
       "overflow_y": null,
       "padding": null,
       "right": null,
       "top": null,
       "visibility": null,
       "width": null
      }
     },
     "06699f88e59d4743a143862d1e34b8cb": {
      "model_module": "@jupyter-widgets/base",
      "model_module_version": "1.2.0",
      "model_name": "LayoutModel",
      "state": {
       "_model_module": "@jupyter-widgets/base",
       "_model_module_version": "1.2.0",
       "_model_name": "LayoutModel",
       "_view_count": null,
       "_view_module": "@jupyter-widgets/base",
       "_view_module_version": "1.2.0",
       "_view_name": "LayoutView",
       "align_content": null,
       "align_items": null,
       "align_self": null,
       "border": null,
       "bottom": null,
       "display": null,
       "flex": null,
       "flex_flow": null,
       "grid_area": null,
       "grid_auto_columns": null,
       "grid_auto_flow": null,
       "grid_auto_rows": null,
       "grid_column": null,
       "grid_gap": null,
       "grid_row": null,
       "grid_template_areas": null,
       "grid_template_columns": null,
       "grid_template_rows": null,
       "height": null,
       "justify_content": null,
       "justify_items": null,
       "left": null,
       "margin": null,
       "max_height": null,
       "max_width": null,
       "min_height": null,
       "min_width": null,
       "object_fit": null,
       "object_position": null,
       "order": null,
       "overflow": null,
       "overflow_x": null,
       "overflow_y": null,
       "padding": null,
       "right": null,
       "top": null,
       "visibility": null,
       "width": null
      }
     },
     "08e1aea2cafc45dfb98f56da8f45d9d0": {
      "model_module": "@jupyter-widgets/base",
      "model_module_version": "1.2.0",
      "model_name": "LayoutModel",
      "state": {
       "_model_module": "@jupyter-widgets/base",
       "_model_module_version": "1.2.0",
       "_model_name": "LayoutModel",
       "_view_count": null,
       "_view_module": "@jupyter-widgets/base",
       "_view_module_version": "1.2.0",
       "_view_name": "LayoutView",
       "align_content": null,
       "align_items": null,
       "align_self": null,
       "border": null,
       "bottom": null,
       "display": null,
       "flex": null,
       "flex_flow": null,
       "grid_area": null,
       "grid_auto_columns": null,
       "grid_auto_flow": null,
       "grid_auto_rows": null,
       "grid_column": null,
       "grid_gap": null,
       "grid_row": null,
       "grid_template_areas": null,
       "grid_template_columns": null,
       "grid_template_rows": null,
       "height": null,
       "justify_content": null,
       "justify_items": null,
       "left": null,
       "margin": null,
       "max_height": null,
       "max_width": null,
       "min_height": null,
       "min_width": null,
       "object_fit": null,
       "object_position": null,
       "order": null,
       "overflow": null,
       "overflow_x": null,
       "overflow_y": null,
       "padding": null,
       "right": null,
       "top": null,
       "visibility": null,
       "width": null
      }
     },
     "0dae6175801c4dab91c1ac5468eab353": {
      "model_module": "@jupyter-widgets/controls",
      "model_module_version": "1.5.0",
      "model_name": "HBoxModel",
      "state": {
       "_dom_classes": [],
       "_model_module": "@jupyter-widgets/controls",
       "_model_module_version": "1.5.0",
       "_model_name": "HBoxModel",
       "_view_count": null,
       "_view_module": "@jupyter-widgets/controls",
       "_view_module_version": "1.5.0",
       "_view_name": "HBoxView",
       "box_style": "",
       "children": [
        "IPY_MODEL_11a9abc219b64b049e574d9dfec47eaa",
        "IPY_MODEL_9e07d7767c73470a84b016bae0fa47fa",
        "IPY_MODEL_69aace16a1c94b4cacc0fdf61a32b55c"
       ],
       "layout": "IPY_MODEL_8c1733b506a7447f8c6982709fa68011"
      }
     },
     "11a9abc219b64b049e574d9dfec47eaa": {
      "model_module": "@jupyter-widgets/controls",
      "model_module_version": "1.5.0",
      "model_name": "HTMLModel",
      "state": {
       "_dom_classes": [],
       "_model_module": "@jupyter-widgets/controls",
       "_model_module_version": "1.5.0",
       "_model_name": "HTMLModel",
       "_view_count": null,
       "_view_module": "@jupyter-widgets/controls",
       "_view_module_version": "1.5.0",
       "_view_name": "HTMLView",
       "description": "",
       "description_tooltip": null,
       "layout": "IPY_MODEL_1bf58636174441609109d4fd99f7452d",
       "placeholder": "​",
       "style": "IPY_MODEL_5b3a783f59284fa7a630484dc4c93877",
       "value": "Downloading: 100%"
      }
     },
     "13b05187c0504726b21b33b58d22190c": {
      "model_module": "@jupyter-widgets/controls",
      "model_module_version": "1.5.0",
      "model_name": "DescriptionStyleModel",
      "state": {
       "_model_module": "@jupyter-widgets/controls",
       "_model_module_version": "1.5.0",
       "_model_name": "DescriptionStyleModel",
       "_view_count": null,
       "_view_module": "@jupyter-widgets/base",
       "_view_module_version": "1.2.0",
       "_view_name": "StyleView",
       "description_width": ""
      }
     },
     "187d4ddb752a48e2a81450e81f6169d1": {
      "model_module": "@jupyter-widgets/controls",
      "model_module_version": "1.5.0",
      "model_name": "HTMLModel",
      "state": {
       "_dom_classes": [],
       "_model_module": "@jupyter-widgets/controls",
       "_model_module_version": "1.5.0",
       "_model_name": "HTMLModel",
       "_view_count": null,
       "_view_module": "@jupyter-widgets/controls",
       "_view_module_version": "1.5.0",
       "_view_name": "HTMLView",
       "description": "",
       "description_tooltip": null,
       "layout": "IPY_MODEL_375edb7fc3ee4f10b79d3419ebf42e4d",
       "placeholder": "​",
       "style": "IPY_MODEL_7375058d52124b21bbd90ca147d04a56",
       "value": " 8.68M/8.68M [00:00&lt;00:00, 19.9MB/s]"
      }
     },
     "18de28d5b4624d168d0401c1ebb2928c": {
      "model_module": "@jupyter-widgets/base",
      "model_module_version": "1.2.0",
      "model_name": "LayoutModel",
      "state": {
       "_model_module": "@jupyter-widgets/base",
       "_model_module_version": "1.2.0",
       "_model_name": "LayoutModel",
       "_view_count": null,
       "_view_module": "@jupyter-widgets/base",
       "_view_module_version": "1.2.0",
       "_view_name": "LayoutView",
       "align_content": null,
       "align_items": null,
       "align_self": null,
       "border": null,
       "bottom": null,
       "display": null,
       "flex": null,
       "flex_flow": null,
       "grid_area": null,
       "grid_auto_columns": null,
       "grid_auto_flow": null,
       "grid_auto_rows": null,
       "grid_column": null,
       "grid_gap": null,
       "grid_row": null,
       "grid_template_areas": null,
       "grid_template_columns": null,
       "grid_template_rows": null,
       "height": null,
       "justify_content": null,
       "justify_items": null,
       "left": null,
       "margin": null,
       "max_height": null,
       "max_width": null,
       "min_height": null,
       "min_width": null,
       "object_fit": null,
       "object_position": null,
       "order": null,
       "overflow": null,
       "overflow_x": null,
       "overflow_y": null,
       "padding": null,
       "right": null,
       "top": null,
       "visibility": null,
       "width": null
      }
     },
     "1ba35aaea88e4dc59f4b56ab873a9794": {
      "model_module": "@jupyter-widgets/controls",
      "model_module_version": "1.5.0",
      "model_name": "HTMLModel",
      "state": {
       "_dom_classes": [],
       "_model_module": "@jupyter-widgets/controls",
       "_model_module_version": "1.5.0",
       "_model_name": "HTMLModel",
       "_view_count": null,
       "_view_module": "@jupyter-widgets/controls",
       "_view_module_version": "1.5.0",
       "_view_name": "HTMLView",
       "description": "",
       "description_tooltip": null,
       "layout": "IPY_MODEL_37ab4302e8d1480b92b5c3e4576ba280",
       "placeholder": "​",
       "style": "IPY_MODEL_ec7e294cf8bb4246954b36be7ba5748f",
       "value": " 616/616 [00:00&lt;00:00, 19.4kB/s]"
      }
     },
     "1bf58636174441609109d4fd99f7452d": {
      "model_module": "@jupyter-widgets/base",
      "model_module_version": "1.2.0",
      "model_name": "LayoutModel",
      "state": {
       "_model_module": "@jupyter-widgets/base",
       "_model_module_version": "1.2.0",
       "_model_name": "LayoutModel",
       "_view_count": null,
       "_view_module": "@jupyter-widgets/base",
       "_view_module_version": "1.2.0",
       "_view_name": "LayoutView",
       "align_content": null,
       "align_items": null,
       "align_self": null,
       "border": null,
       "bottom": null,
       "display": null,
       "flex": null,
       "flex_flow": null,
       "grid_area": null,
       "grid_auto_columns": null,
       "grid_auto_flow": null,
       "grid_auto_rows": null,
       "grid_column": null,
       "grid_gap": null,
       "grid_row": null,
       "grid_template_areas": null,
       "grid_template_columns": null,
       "grid_template_rows": null,
       "height": null,
       "justify_content": null,
       "justify_items": null,
       "left": null,
       "margin": null,
       "max_height": null,
       "max_width": null,
       "min_height": null,
       "min_width": null,
       "object_fit": null,
       "object_position": null,
       "order": null,
       "overflow": null,
       "overflow_x": null,
       "overflow_y": null,
       "padding": null,
       "right": null,
       "top": null,
       "visibility": null,
       "width": null
      }
     },
     "25738777d7d04743a110624ce7044047": {
      "model_module": "@jupyter-widgets/controls",
      "model_module_version": "1.5.0",
      "model_name": "DescriptionStyleModel",
      "state": {
       "_model_module": "@jupyter-widgets/controls",
       "_model_module_version": "1.5.0",
       "_model_name": "DescriptionStyleModel",
       "_view_count": null,
       "_view_module": "@jupyter-widgets/base",
       "_view_module_version": "1.2.0",
       "_view_name": "StyleView",
       "description_width": ""
      }
     },
     "2a1e7acd9a2f4aa0831a6674c592c589": {
      "model_module": "@jupyter-widgets/controls",
      "model_module_version": "1.5.0",
      "model_name": "FloatProgressModel",
      "state": {
       "_dom_classes": [],
       "_model_module": "@jupyter-widgets/controls",
       "_model_module_version": "1.5.0",
       "_model_name": "FloatProgressModel",
       "_view_count": null,
       "_view_module": "@jupyter-widgets/controls",
       "_view_module_version": "1.5.0",
       "_view_name": "ProgressView",
       "bar_style": "success",
       "description": "",
       "description_tooltip": null,
       "layout": "IPY_MODEL_0102b426ebd640cbac0f356c51707f7f",
       "max": 432176557.0,
       "min": 0.0,
       "orientation": "horizontal",
       "style": "IPY_MODEL_4021af8ee54d4125ab38ac50f5c3ffe5",
       "value": 432176557.0
      }
     },
     "2e0554e2a6944eab812019deec47101b": {
      "model_module": "@jupyter-widgets/controls",
      "model_module_version": "1.5.0",
      "model_name": "HTMLModel",
      "state": {
       "_dom_classes": [],
       "_model_module": "@jupyter-widgets/controls",
       "_model_module_version": "1.5.0",
       "_model_name": "HTMLModel",
       "_view_count": null,
       "_view_module": "@jupyter-widgets/controls",
       "_view_module_version": "1.5.0",
       "_view_name": "HTMLView",
       "description": "",
       "description_tooltip": null,
       "layout": "IPY_MODEL_c357ae0149774d81b01e9979c1da7ad8",
       "placeholder": "​",
       "style": "IPY_MODEL_be763293c5074e51be2b7d13e8eb78d0",
       "value": "Downloading: 100%"
      }
     },
     "375edb7fc3ee4f10b79d3419ebf42e4d": {
      "model_module": "@jupyter-widgets/base",
      "model_module_version": "1.2.0",
      "model_name": "LayoutModel",
      "state": {
       "_model_module": "@jupyter-widgets/base",
       "_model_module_version": "1.2.0",
       "_model_name": "LayoutModel",
       "_view_count": null,
       "_view_module": "@jupyter-widgets/base",
       "_view_module_version": "1.2.0",
       "_view_name": "LayoutView",
       "align_content": null,
       "align_items": null,
       "align_self": null,
       "border": null,
       "bottom": null,
       "display": null,
       "flex": null,
       "flex_flow": null,
       "grid_area": null,
       "grid_auto_columns": null,
       "grid_auto_flow": null,
       "grid_auto_rows": null,
       "grid_column": null,
       "grid_gap": null,
       "grid_row": null,
       "grid_template_areas": null,
       "grid_template_columns": null,
       "grid_template_rows": null,
       "height": null,
       "justify_content": null,
       "justify_items": null,
       "left": null,
       "margin": null,
       "max_height": null,
       "max_width": null,
       "min_height": null,
       "min_width": null,
       "object_fit": null,
       "object_position": null,
       "order": null,
       "overflow": null,
       "overflow_x": null,
       "overflow_y": null,
       "padding": null,
       "right": null,
       "top": null,
       "visibility": null,
       "width": null
      }
     },
     "37ab4302e8d1480b92b5c3e4576ba280": {
      "model_module": "@jupyter-widgets/base",
      "model_module_version": "1.2.0",
      "model_name": "LayoutModel",
      "state": {
       "_model_module": "@jupyter-widgets/base",
       "_model_module_version": "1.2.0",
       "_model_name": "LayoutModel",
       "_view_count": null,
       "_view_module": "@jupyter-widgets/base",
       "_view_module_version": "1.2.0",
       "_view_name": "LayoutView",
       "align_content": null,
       "align_items": null,
       "align_self": null,
       "border": null,
       "bottom": null,
       "display": null,
       "flex": null,
       "flex_flow": null,
       "grid_area": null,
       "grid_auto_columns": null,
       "grid_auto_flow": null,
       "grid_auto_rows": null,
       "grid_column": null,
       "grid_gap": null,
       "grid_row": null,
       "grid_template_areas": null,
       "grid_template_columns": null,
       "grid_template_rows": null,
       "height": null,
       "justify_content": null,
       "justify_items": null,
       "left": null,
       "margin": null,
       "max_height": null,
       "max_width": null,
       "min_height": null,
       "min_width": null,
       "object_fit": null,
       "object_position": null,
       "order": null,
       "overflow": null,
       "overflow_x": null,
       "overflow_y": null,
       "padding": null,
       "right": null,
       "top": null,
       "visibility": null,
       "width": null
      }
     },
     "3a4f0357fe9e43ccb292307524f19911": {
      "model_module": "@jupyter-widgets/base",
      "model_module_version": "1.2.0",
      "model_name": "LayoutModel",
      "state": {
       "_model_module": "@jupyter-widgets/base",
       "_model_module_version": "1.2.0",
       "_model_name": "LayoutModel",
       "_view_count": null,
       "_view_module": "@jupyter-widgets/base",
       "_view_module_version": "1.2.0",
       "_view_name": "LayoutView",
       "align_content": null,
       "align_items": null,
       "align_self": null,
       "border": null,
       "bottom": null,
       "display": null,
       "flex": null,
       "flex_flow": null,
       "grid_area": null,
       "grid_auto_columns": null,
       "grid_auto_flow": null,
       "grid_auto_rows": null,
       "grid_column": null,
       "grid_gap": null,
       "grid_row": null,
       "grid_template_areas": null,
       "grid_template_columns": null,
       "grid_template_rows": null,
       "height": null,
       "justify_content": null,
       "justify_items": null,
       "left": null,
       "margin": null,
       "max_height": null,
       "max_width": null,
       "min_height": null,
       "min_width": null,
       "object_fit": null,
       "object_position": null,
       "order": null,
       "overflow": null,
       "overflow_x": null,
       "overflow_y": null,
       "padding": null,
       "right": null,
       "top": null,
       "visibility": null,
       "width": null
      }
     },
     "3d780abaca6b4cd48cac857826e612c7": {
      "model_module": "@jupyter-widgets/controls",
      "model_module_version": "1.5.0",
      "model_name": "DescriptionStyleModel",
      "state": {
       "_model_module": "@jupyter-widgets/controls",
       "_model_module_version": "1.5.0",
       "_model_name": "DescriptionStyleModel",
       "_view_count": null,
       "_view_module": "@jupyter-widgets/base",
       "_view_module_version": "1.2.0",
       "_view_name": "StyleView",
       "description_width": ""
      }
     },
     "4021af8ee54d4125ab38ac50f5c3ffe5": {
      "model_module": "@jupyter-widgets/controls",
      "model_module_version": "1.5.0",
      "model_name": "ProgressStyleModel",
      "state": {
       "_model_module": "@jupyter-widgets/controls",
       "_model_module_version": "1.5.0",
       "_model_name": "ProgressStyleModel",
       "_view_count": null,
       "_view_module": "@jupyter-widgets/base",
       "_view_module_version": "1.2.0",
       "_view_name": "StyleView",
       "bar_color": null,
       "description_width": ""
      }
     },
     "424f96a4378146a3b04aa74d2c187d45": {
      "model_module": "@jupyter-widgets/controls",
      "model_module_version": "1.5.0",
      "model_name": "ProgressStyleModel",
      "state": {
       "_model_module": "@jupyter-widgets/controls",
       "_model_module_version": "1.5.0",
       "_model_name": "ProgressStyleModel",
       "_view_count": null,
       "_view_module": "@jupyter-widgets/base",
       "_view_module_version": "1.2.0",
       "_view_name": "StyleView",
       "bar_color": null,
       "description_width": ""
      }
     },
     "42e1d0a0590e4396aada667d2e6897ba": {
      "model_module": "@jupyter-widgets/controls",
      "model_module_version": "1.5.0",
      "model_name": "HBoxModel",
      "state": {
       "_dom_classes": [],
       "_model_module": "@jupyter-widgets/controls",
       "_model_module_version": "1.5.0",
       "_model_name": "HBoxModel",
       "_view_count": null,
       "_view_module": "@jupyter-widgets/controls",
       "_view_module_version": "1.5.0",
       "_view_name": "HBoxView",
       "box_style": "",
       "children": [
        "IPY_MODEL_58b710ec51944e9ab9b7bdc40997a013",
        "IPY_MODEL_6a6a598cdd4b48c1b1745d81e63a0389",
        "IPY_MODEL_a8dd90df63a747d7aae5beca9c78cb4c"
       ],
       "layout": "IPY_MODEL_e2bbf23928d643718ef19ebf74c29009"
      }
     },
     "4563a54aa2ec4ec6ba8f4dac36336e24": {
      "model_module": "@jupyter-widgets/controls",
      "model_module_version": "1.5.0",
      "model_name": "DescriptionStyleModel",
      "state": {
       "_model_module": "@jupyter-widgets/controls",
       "_model_module_version": "1.5.0",
       "_model_name": "DescriptionStyleModel",
       "_view_count": null,
       "_view_module": "@jupyter-widgets/base",
       "_view_module_version": "1.2.0",
       "_view_name": "StyleView",
       "description_width": ""
      }
     },
     "4c9045c3c3404be58edf22f4b233d57c": {
      "model_module": "@jupyter-widgets/base",
      "model_module_version": "1.2.0",
      "model_name": "LayoutModel",
      "state": {
       "_model_module": "@jupyter-widgets/base",
       "_model_module_version": "1.2.0",
       "_model_name": "LayoutModel",
       "_view_count": null,
       "_view_module": "@jupyter-widgets/base",
       "_view_module_version": "1.2.0",
       "_view_name": "LayoutView",
       "align_content": null,
       "align_items": null,
       "align_self": null,
       "border": null,
       "bottom": null,
       "display": null,
       "flex": null,
       "flex_flow": null,
       "grid_area": null,
       "grid_auto_columns": null,
       "grid_auto_flow": null,
       "grid_auto_rows": null,
       "grid_column": null,
       "grid_gap": null,
       "grid_row": null,
       "grid_template_areas": null,
       "grid_template_columns": null,
       "grid_template_rows": null,
       "height": null,
       "justify_content": null,
       "justify_items": null,
       "left": null,
       "margin": null,
       "max_height": null,
       "max_width": null,
       "min_height": null,
       "min_width": null,
       "object_fit": null,
       "object_position": null,
       "order": null,
       "overflow": null,
       "overflow_x": null,
       "overflow_y": null,
       "padding": null,
       "right": null,
       "top": null,
       "visibility": null,
       "width": null
      }
     },
     "547e21f591604b9197f2c2ddc922648f": {
      "model_module": "@jupyter-widgets/base",
      "model_module_version": "1.2.0",
      "model_name": "LayoutModel",
      "state": {
       "_model_module": "@jupyter-widgets/base",
       "_model_module_version": "1.2.0",
       "_model_name": "LayoutModel",
       "_view_count": null,
       "_view_module": "@jupyter-widgets/base",
       "_view_module_version": "1.2.0",
       "_view_name": "LayoutView",
       "align_content": null,
       "align_items": null,
       "align_self": null,
       "border": null,
       "bottom": null,
       "display": null,
       "flex": null,
       "flex_flow": null,
       "grid_area": null,
       "grid_auto_columns": null,
       "grid_auto_flow": null,
       "grid_auto_rows": null,
       "grid_column": null,
       "grid_gap": null,
       "grid_row": null,
       "grid_template_areas": null,
       "grid_template_columns": null,
       "grid_template_rows": null,
       "height": null,
       "justify_content": null,
       "justify_items": null,
       "left": null,
       "margin": null,
       "max_height": null,
       "max_width": null,
       "min_height": null,
       "min_width": null,
       "object_fit": null,
       "object_position": null,
       "order": null,
       "overflow": null,
       "overflow_x": null,
       "overflow_y": null,
       "padding": null,
       "right": null,
       "top": null,
       "visibility": null,
       "width": null
      }
     },
     "58b710ec51944e9ab9b7bdc40997a013": {
      "model_module": "@jupyter-widgets/controls",
      "model_module_version": "1.5.0",
      "model_name": "HTMLModel",
      "state": {
       "_dom_classes": [],
       "_model_module": "@jupyter-widgets/controls",
       "_model_module_version": "1.5.0",
       "_model_name": "HTMLModel",
       "_view_count": null,
       "_view_module": "@jupyter-widgets/controls",
       "_view_module_version": "1.5.0",
       "_view_name": "HTMLView",
       "description": "",
       "description_tooltip": null,
       "layout": "IPY_MODEL_547e21f591604b9197f2c2ddc922648f",
       "placeholder": "​",
       "style": "IPY_MODEL_13b05187c0504726b21b33b58d22190c",
       "value": "Downloading: 100%"
      }
     },
     "5b3a783f59284fa7a630484dc4c93877": {
      "model_module": "@jupyter-widgets/controls",
      "model_module_version": "1.5.0",
      "model_name": "DescriptionStyleModel",
      "state": {
       "_model_module": "@jupyter-widgets/controls",
       "_model_module_version": "1.5.0",
       "_model_name": "DescriptionStyleModel",
       "_view_count": null,
       "_view_module": "@jupyter-widgets/base",
       "_view_module_version": "1.2.0",
       "_view_name": "StyleView",
       "description_width": ""
      }
     },
     "5bfa3625695a4a51a09f38f0485f9d37": {
      "model_module": "@jupyter-widgets/controls",
      "model_module_version": "1.5.0",
      "model_name": "FloatProgressModel",
      "state": {
       "_dom_classes": [],
       "_model_module": "@jupyter-widgets/controls",
       "_model_module_version": "1.5.0",
       "_model_name": "FloatProgressModel",
       "_view_count": null,
       "_view_module": "@jupyter-widgets/controls",
       "_view_module_version": "1.5.0",
       "_view_name": "ProgressView",
       "bar_style": "success",
       "description": "",
       "description_tooltip": null,
       "layout": "IPY_MODEL_b01806bbff884221ba0fe3c75934e597",
       "max": 2239866761.0,
       "min": 0.0,
       "orientation": "horizontal",
       "style": "IPY_MODEL_fea0f57b0cac4366b062668b9cc6ee43",
       "value": 2239866761.0
      }
     },
     "5c630ab70309481e8e17a7fd8d21407b": {
      "model_module": "@jupyter-widgets/base",
      "model_module_version": "1.2.0",
      "model_name": "LayoutModel",
      "state": {
       "_model_module": "@jupyter-widgets/base",
       "_model_module_version": "1.2.0",
       "_model_name": "LayoutModel",
       "_view_count": null,
       "_view_module": "@jupyter-widgets/base",
       "_view_module_version": "1.2.0",
       "_view_name": "LayoutView",
       "align_content": null,
       "align_items": null,
       "align_self": null,
       "border": null,
       "bottom": null,
       "display": null,
       "flex": null,
       "flex_flow": null,
       "grid_area": null,
       "grid_auto_columns": null,
       "grid_auto_flow": null,
       "grid_auto_rows": null,
       "grid_column": null,
       "grid_gap": null,
       "grid_row": null,
       "grid_template_areas": null,
       "grid_template_columns": null,
       "grid_template_rows": null,
       "height": null,
       "justify_content": null,
       "justify_items": null,
       "left": null,
       "margin": null,
       "max_height": null,
       "max_width": null,
       "min_height": null,
       "min_width": null,
       "object_fit": null,
       "object_position": null,
       "order": null,
       "overflow": null,
       "overflow_x": null,
       "overflow_y": null,
       "padding": null,
       "right": null,
       "top": null,
       "visibility": null,
       "width": null
      }
     },
     "607b453eea4d4d519f3d8d0bd8e0beaa": {
      "model_module": "@jupyter-widgets/controls",
      "model_module_version": "1.5.0",
      "model_name": "HTMLModel",
      "state": {
       "_dom_classes": [],
       "_model_module": "@jupyter-widgets/controls",
       "_model_module_version": "1.5.0",
       "_model_name": "HTMLModel",
       "_view_count": null,
       "_view_module": "@jupyter-widgets/controls",
       "_view_module_version": "1.5.0",
       "_view_name": "HTMLView",
       "description": "",
       "description_tooltip": null,
       "layout": "IPY_MODEL_08e1aea2cafc45dfb98f56da8f45d9d0",
       "placeholder": "​",
       "style": "IPY_MODEL_c3be3c0fa0fc4d2eaf118a05814433aa",
       "value": "Downloading: 100%"
      }
     },
     "65c71d68f4a548d0a6d8e6faa6724a78": {
      "model_module": "@jupyter-widgets/base",
      "model_module_version": "1.2.0",
      "model_name": "LayoutModel",
      "state": {
       "_model_module": "@jupyter-widgets/base",
       "_model_module_version": "1.2.0",
       "_model_name": "LayoutModel",
       "_view_count": null,
       "_view_module": "@jupyter-widgets/base",
       "_view_module_version": "1.2.0",
       "_view_name": "LayoutView",
       "align_content": null,
       "align_items": null,
       "align_self": null,
       "border": null,
       "bottom": null,
       "display": null,
       "flex": null,
       "flex_flow": null,
       "grid_area": null,
       "grid_auto_columns": null,
       "grid_auto_flow": null,
       "grid_auto_rows": null,
       "grid_column": null,
       "grid_gap": null,
       "grid_row": null,
       "grid_template_areas": null,
       "grid_template_columns": null,
       "grid_template_rows": null,
       "height": null,
       "justify_content": null,
       "justify_items": null,
       "left": null,
       "margin": null,
       "max_height": null,
       "max_width": null,
       "min_height": null,
       "min_width": null,
       "object_fit": null,
       "object_position": null,
       "order": null,
       "overflow": null,
       "overflow_x": null,
       "overflow_y": null,
       "padding": null,
       "right": null,
       "top": null,
       "visibility": null,
       "width": null
      }
     },
     "67fcf67c1bfb4c42aff5230db2cfb506": {
      "model_module": "@jupyter-widgets/base",
      "model_module_version": "1.2.0",
      "model_name": "LayoutModel",
      "state": {
       "_model_module": "@jupyter-widgets/base",
       "_model_module_version": "1.2.0",
       "_model_name": "LayoutModel",
       "_view_count": null,
       "_view_module": "@jupyter-widgets/base",
       "_view_module_version": "1.2.0",
       "_view_name": "LayoutView",
       "align_content": null,
       "align_items": null,
       "align_self": null,
       "border": null,
       "bottom": null,
       "display": null,
       "flex": null,
       "flex_flow": null,
       "grid_area": null,
       "grid_auto_columns": null,
       "grid_auto_flow": null,
       "grid_auto_rows": null,
       "grid_column": null,
       "grid_gap": null,
       "grid_row": null,
       "grid_template_areas": null,
       "grid_template_columns": null,
       "grid_template_rows": null,
       "height": null,
       "justify_content": null,
       "justify_items": null,
       "left": null,
       "margin": null,
       "max_height": null,
       "max_width": null,
       "min_height": null,
       "min_width": null,
       "object_fit": null,
       "object_position": null,
       "order": null,
       "overflow": null,
       "overflow_x": null,
       "overflow_y": null,
       "padding": null,
       "right": null,
       "top": null,
       "visibility": null,
       "width": null
      }
     },
     "69aace16a1c94b4cacc0fdf61a32b55c": {
      "model_module": "@jupyter-widgets/controls",
      "model_module_version": "1.5.0",
      "model_name": "HTMLModel",
      "state": {
       "_dom_classes": [],
       "_model_module": "@jupyter-widgets/controls",
       "_model_module_version": "1.5.0",
       "_model_name": "HTMLModel",
       "_view_count": null,
       "_view_module": "@jupyter-widgets/controls",
       "_view_module_version": "1.5.0",
       "_view_name": "HTMLView",
       "description": "",
       "description_tooltip": null,
       "layout": "IPY_MODEL_cff4f7c6d0614e088ddf89e5657c01d0",
       "placeholder": "​",
       "style": "IPY_MODEL_ada383f3dd20464ca26fdb5e2c1bce3f",
       "value": " 2.24G/2.24G [01:50&lt;00:00, 20.8MB/s]"
      }
     },
     "6a6a598cdd4b48c1b1745d81e63a0389": {
      "model_module": "@jupyter-widgets/controls",
      "model_module_version": "1.5.0",
      "model_name": "FloatProgressModel",
      "state": {
       "_dom_classes": [],
       "_model_module": "@jupyter-widgets/controls",
       "_model_module_version": "1.5.0",
       "_model_name": "FloatProgressModel",
       "_view_count": null,
       "_view_module": "@jupyter-widgets/controls",
       "_view_module_version": "1.5.0",
       "_view_name": "ProgressView",
       "bar_style": "success",
       "description": "",
       "description_tooltip": null,
       "layout": "IPY_MODEL_3a4f0357fe9e43ccb292307524f19911",
       "max": 5069051.0,
       "min": 0.0,
       "orientation": "horizontal",
       "style": "IPY_MODEL_b334a6c0a8e34ec59a20e9bc61f6d5b9",
       "value": 5069051.0
      }
     },
     "6a9055e169994773a84b44f49f57007d": {
      "model_module": "@jupyter-widgets/controls",
      "model_module_version": "1.5.0",
      "model_name": "HTMLModel",
      "state": {
       "_dom_classes": [],
       "_model_module": "@jupyter-widgets/controls",
       "_model_module_version": "1.5.0",
       "_model_name": "HTMLModel",
       "_view_count": null,
       "_view_module": "@jupyter-widgets/controls",
       "_view_module_version": "1.5.0",
       "_view_name": "HTMLView",
       "description": "",
       "description_tooltip": null,
       "layout": "IPY_MODEL_d5b2a428068d4f328071938e8e40398d",
       "placeholder": "​",
       "style": "IPY_MODEL_c8d4b3c1160346a08ac76a3f02d301d2",
       "value": " 432M/432M [00:21&lt;00:00, 21.2MB/s]"
      }
     },
     "7142542aaaf8415f8fc456c3fa904365": {
      "model_module": "@jupyter-widgets/controls",
      "model_module_version": "1.5.0",
      "model_name": "FloatProgressModel",
      "state": {
       "_dom_classes": [],
       "_model_module": "@jupyter-widgets/controls",
       "_model_module_version": "1.5.0",
       "_model_name": "FloatProgressModel",
       "_view_count": null,
       "_view_module": "@jupyter-widgets/controls",
       "_view_module_version": "1.5.0",
       "_view_name": "ProgressView",
       "bar_style": "success",
       "description": "",
       "description_tooltip": null,
       "layout": "IPY_MODEL_7b641113f4bb474893432abc2253f8e4",
       "max": 616.0,
       "min": 0.0,
       "orientation": "horizontal",
       "style": "IPY_MODEL_424f96a4378146a3b04aa74d2c187d45",
       "value": 616.0
      }
     },
     "7375058d52124b21bbd90ca147d04a56": {
      "model_module": "@jupyter-widgets/controls",
      "model_module_version": "1.5.0",
      "model_name": "DescriptionStyleModel",
      "state": {
       "_model_module": "@jupyter-widgets/controls",
       "_model_module_version": "1.5.0",
       "_model_name": "DescriptionStyleModel",
       "_view_count": null,
       "_view_module": "@jupyter-widgets/base",
       "_view_module_version": "1.2.0",
       "_view_name": "StyleView",
       "description_width": ""
      }
     },
     "7b641113f4bb474893432abc2253f8e4": {
      "model_module": "@jupyter-widgets/base",
      "model_module_version": "1.2.0",
      "model_name": "LayoutModel",
      "state": {
       "_model_module": "@jupyter-widgets/base",
       "_model_module_version": "1.2.0",
       "_model_name": "LayoutModel",
       "_view_count": null,
       "_view_module": "@jupyter-widgets/base",
       "_view_module_version": "1.2.0",
       "_view_name": "LayoutView",
       "align_content": null,
       "align_items": null,
       "align_self": null,
       "border": null,
       "bottom": null,
       "display": null,
       "flex": null,
       "flex_flow": null,
       "grid_area": null,
       "grid_auto_columns": null,
       "grid_auto_flow": null,
       "grid_auto_rows": null,
       "grid_column": null,
       "grid_gap": null,
       "grid_row": null,
       "grid_template_areas": null,
       "grid_template_columns": null,
       "grid_template_rows": null,
       "height": null,
       "justify_content": null,
       "justify_items": null,
       "left": null,
       "margin": null,
       "max_height": null,
       "max_width": null,
       "min_height": null,
       "min_width": null,
       "object_fit": null,
       "object_position": null,
       "order": null,
       "overflow": null,
       "overflow_x": null,
       "overflow_y": null,
       "padding": null,
       "right": null,
       "top": null,
       "visibility": null,
       "width": null
      }
     },
     "7c7925a386624302972626b97afbec8d": {
      "model_module": "@jupyter-widgets/controls",
      "model_module_version": "1.5.0",
      "model_name": "HTMLModel",
      "state": {
       "_dom_classes": [],
       "_model_module": "@jupyter-widgets/controls",
       "_model_module_version": "1.5.0",
       "_model_name": "HTMLModel",
       "_view_count": null,
       "_view_module": "@jupyter-widgets/controls",
       "_view_module_version": "1.5.0",
       "_view_name": "HTMLView",
       "description": "",
       "description_tooltip": null,
       "layout": "IPY_MODEL_898494f706ed42fab57cafa8076da2e8",
       "placeholder": "​",
       "style": "IPY_MODEL_4563a54aa2ec4ec6ba8f4dac36336e24",
       "value": "Downloading: 100%"
      }
     },
     "805223881e204abdb67c543346fb806c": {
      "model_module": "@jupyter-widgets/base",
      "model_module_version": "1.2.0",
      "model_name": "LayoutModel",
      "state": {
       "_model_module": "@jupyter-widgets/base",
       "_model_module_version": "1.2.0",
       "_model_name": "LayoutModel",
       "_view_count": null,
       "_view_module": "@jupyter-widgets/base",
       "_view_module_version": "1.2.0",
       "_view_name": "LayoutView",
       "align_content": null,
       "align_items": null,
       "align_self": null,
       "border": null,
       "bottom": null,
       "display": null,
       "flex": null,
       "flex_flow": null,
       "grid_area": null,
       "grid_auto_columns": null,
       "grid_auto_flow": null,
       "grid_auto_rows": null,
       "grid_column": null,
       "grid_gap": null,
       "grid_row": null,
       "grid_template_areas": null,
       "grid_template_columns": null,
       "grid_template_rows": null,
       "height": null,
       "justify_content": null,
       "justify_items": null,
       "left": null,
       "margin": null,
       "max_height": null,
       "max_width": null,
       "min_height": null,
       "min_width": null,
       "object_fit": null,
       "object_position": null,
       "order": null,
       "overflow": null,
       "overflow_x": null,
       "overflow_y": null,
       "padding": null,
       "right": null,
       "top": null,
       "visibility": null,
       "width": null
      }
     },
     "820c26c9bda345bda1475973089f7597": {
      "model_module": "@jupyter-widgets/controls",
      "model_module_version": "1.5.0",
      "model_name": "HTMLModel",
      "state": {
       "_dom_classes": [],
       "_model_module": "@jupyter-widgets/controls",
       "_model_module_version": "1.5.0",
       "_model_name": "HTMLModel",
       "_view_count": null,
       "_view_module": "@jupyter-widgets/controls",
       "_view_module_version": "1.5.0",
       "_view_name": "HTMLView",
       "description": "",
       "description_tooltip": null,
       "layout": "IPY_MODEL_805223881e204abdb67c543346fb806c",
       "placeholder": "​",
       "style": "IPY_MODEL_db8039a6a55d48a0ad001e9c43dfb6ab",
       "value": " 2.24G/2.24G [01:49&lt;00:00, 20.9MB/s]"
      }
     },
     "890ed48224254a6db2e76e8d64c33d1b": {
      "model_module": "@jupyter-widgets/controls",
      "model_module_version": "1.5.0",
      "model_name": "HBoxModel",
      "state": {
       "_dom_classes": [],
       "_model_module": "@jupyter-widgets/controls",
       "_model_module_version": "1.5.0",
       "_model_name": "HBoxModel",
       "_view_count": null,
       "_view_module": "@jupyter-widgets/controls",
       "_view_module_version": "1.5.0",
       "_view_name": "HBoxView",
       "box_style": "",
       "children": [
        "IPY_MODEL_7c7925a386624302972626b97afbec8d",
        "IPY_MODEL_2a1e7acd9a2f4aa0831a6674c592c589",
        "IPY_MODEL_6a9055e169994773a84b44f49f57007d"
       ],
       "layout": "IPY_MODEL_f127ad787ff5494d9a5fe2a4d145a935"
      }
     },
     "898494f706ed42fab57cafa8076da2e8": {
      "model_module": "@jupyter-widgets/base",
      "model_module_version": "1.2.0",
      "model_name": "LayoutModel",
      "state": {
       "_model_module": "@jupyter-widgets/base",
       "_model_module_version": "1.2.0",
       "_model_name": "LayoutModel",
       "_view_count": null,
       "_view_module": "@jupyter-widgets/base",
       "_view_module_version": "1.2.0",
       "_view_name": "LayoutView",
       "align_content": null,
       "align_items": null,
       "align_self": null,
       "border": null,
       "bottom": null,
       "display": null,
       "flex": null,
       "flex_flow": null,
       "grid_area": null,
       "grid_auto_columns": null,
       "grid_auto_flow": null,
       "grid_auto_rows": null,
       "grid_column": null,
       "grid_gap": null,
       "grid_row": null,
       "grid_template_areas": null,
       "grid_template_columns": null,
       "grid_template_rows": null,
       "height": null,
       "justify_content": null,
       "justify_items": null,
       "left": null,
       "margin": null,
       "max_height": null,
       "max_width": null,
       "min_height": null,
       "min_width": null,
       "object_fit": null,
       "object_position": null,
       "order": null,
       "overflow": null,
       "overflow_x": null,
       "overflow_y": null,
       "padding": null,
       "right": null,
       "top": null,
       "visibility": null,
       "width": null
      }
     },
     "8c1733b506a7447f8c6982709fa68011": {
      "model_module": "@jupyter-widgets/base",
      "model_module_version": "1.2.0",
      "model_name": "LayoutModel",
      "state": {
       "_model_module": "@jupyter-widgets/base",
       "_model_module_version": "1.2.0",
       "_model_name": "LayoutModel",
       "_view_count": null,
       "_view_module": "@jupyter-widgets/base",
       "_view_module_version": "1.2.0",
       "_view_name": "LayoutView",
       "align_content": null,
       "align_items": null,
       "align_self": null,
       "border": null,
       "bottom": null,
       "display": null,
       "flex": null,
       "flex_flow": null,
       "grid_area": null,
       "grid_auto_columns": null,
       "grid_auto_flow": null,
       "grid_auto_rows": null,
       "grid_column": null,
       "grid_gap": null,
       "grid_row": null,
       "grid_template_areas": null,
       "grid_template_columns": null,
       "grid_template_rows": null,
       "height": null,
       "justify_content": null,
       "justify_items": null,
       "left": null,
       "margin": null,
       "max_height": null,
       "max_width": null,
       "min_height": null,
       "min_width": null,
       "object_fit": null,
       "object_position": null,
       "order": null,
       "overflow": null,
       "overflow_x": null,
       "overflow_y": null,
       "padding": null,
       "right": null,
       "top": null,
       "visibility": null,
       "width": null
      }
     },
     "9703fb1a56b949f9856ad46741498c26": {
      "model_module": "@jupyter-widgets/controls",
      "model_module_version": "1.5.0",
      "model_name": "HBoxModel",
      "state": {
       "_dom_classes": [],
       "_model_module": "@jupyter-widgets/controls",
       "_model_module_version": "1.5.0",
       "_model_name": "HBoxModel",
       "_view_count": null,
       "_view_module": "@jupyter-widgets/controls",
       "_view_module_version": "1.5.0",
       "_view_name": "HBoxView",
       "box_style": "",
       "children": [
        "IPY_MODEL_607b453eea4d4d519f3d8d0bd8e0beaa",
        "IPY_MODEL_5bfa3625695a4a51a09f38f0485f9d37",
        "IPY_MODEL_820c26c9bda345bda1475973089f7597"
       ],
       "layout": "IPY_MODEL_5c630ab70309481e8e17a7fd8d21407b"
      }
     },
     "9e07d7767c73470a84b016bae0fa47fa": {
      "model_module": "@jupyter-widgets/controls",
      "model_module_version": "1.5.0",
      "model_name": "FloatProgressModel",
      "state": {
       "_dom_classes": [],
       "_model_module": "@jupyter-widgets/controls",
       "_model_module_version": "1.5.0",
       "_model_name": "FloatProgressModel",
       "_view_count": null,
       "_view_module": "@jupyter-widgets/controls",
       "_view_module_version": "1.5.0",
       "_view_name": "ProgressView",
       "bar_style": "success",
       "description": "",
       "description_tooltip": null,
       "layout": "IPY_MODEL_06699f88e59d4743a143862d1e34b8cb",
       "max": 2240097289.0,
       "min": 0.0,
       "orientation": "horizontal",
       "style": "IPY_MODEL_e3caa07dd0984b5ab770a09fda6da534",
       "value": 2240097289.0
      }
     },
     "a8dd90df63a747d7aae5beca9c78cb4c": {
      "model_module": "@jupyter-widgets/controls",
      "model_module_version": "1.5.0",
      "model_name": "HTMLModel",
      "state": {
       "_dom_classes": [],
       "_model_module": "@jupyter-widgets/controls",
       "_model_module_version": "1.5.0",
       "_model_name": "HTMLModel",
       "_view_count": null,
       "_view_module": "@jupyter-widgets/controls",
       "_view_module_version": "1.5.0",
       "_view_name": "HTMLView",
       "description": "",
       "description_tooltip": null,
       "layout": "IPY_MODEL_b65aa4383e71482c8b556ee37f2258a0",
       "placeholder": "​",
       "style": "IPY_MODEL_3d780abaca6b4cd48cac857826e612c7",
       "value": " 4.83M/4.83M [00:00&lt;00:00, 8.17MB/s]"
      }
     },
     "ada383f3dd20464ca26fdb5e2c1bce3f": {
      "model_module": "@jupyter-widgets/controls",
      "model_module_version": "1.5.0",
      "model_name": "DescriptionStyleModel",
      "state": {
       "_model_module": "@jupyter-widgets/controls",
       "_model_module_version": "1.5.0",
       "_model_name": "DescriptionStyleModel",
       "_view_count": null,
       "_view_module": "@jupyter-widgets/base",
       "_view_module_version": "1.2.0",
       "_view_name": "StyleView",
       "description_width": ""
      }
     },
     "b01806bbff884221ba0fe3c75934e597": {
      "model_module": "@jupyter-widgets/base",
      "model_module_version": "1.2.0",
      "model_name": "LayoutModel",
      "state": {
       "_model_module": "@jupyter-widgets/base",
       "_model_module_version": "1.2.0",
       "_model_name": "LayoutModel",
       "_view_count": null,
       "_view_module": "@jupyter-widgets/base",
       "_view_module_version": "1.2.0",
       "_view_name": "LayoutView",
       "align_content": null,
       "align_items": null,
       "align_self": null,
       "border": null,
       "bottom": null,
       "display": null,
       "flex": null,
       "flex_flow": null,
       "grid_area": null,
       "grid_auto_columns": null,
       "grid_auto_flow": null,
       "grid_auto_rows": null,
       "grid_column": null,
       "grid_gap": null,
       "grid_row": null,
       "grid_template_areas": null,
       "grid_template_columns": null,
       "grid_template_rows": null,
       "height": null,
       "justify_content": null,
       "justify_items": null,
       "left": null,
       "margin": null,
       "max_height": null,
       "max_width": null,
       "min_height": null,
       "min_width": null,
       "object_fit": null,
       "object_position": null,
       "order": null,
       "overflow": null,
       "overflow_x": null,
       "overflow_y": null,
       "padding": null,
       "right": null,
       "top": null,
       "visibility": null,
       "width": null
      }
     },
     "b334a6c0a8e34ec59a20e9bc61f6d5b9": {
      "model_module": "@jupyter-widgets/controls",
      "model_module_version": "1.5.0",
      "model_name": "ProgressStyleModel",
      "state": {
       "_model_module": "@jupyter-widgets/controls",
       "_model_module_version": "1.5.0",
       "_model_name": "ProgressStyleModel",
       "_view_count": null,
       "_view_module": "@jupyter-widgets/base",
       "_view_module_version": "1.2.0",
       "_view_name": "StyleView",
       "bar_color": null,
       "description_width": ""
      }
     },
     "b65aa4383e71482c8b556ee37f2258a0": {
      "model_module": "@jupyter-widgets/base",
      "model_module_version": "1.2.0",
      "model_name": "LayoutModel",
      "state": {
       "_model_module": "@jupyter-widgets/base",
       "_model_module_version": "1.2.0",
       "_model_name": "LayoutModel",
       "_view_count": null,
       "_view_module": "@jupyter-widgets/base",
       "_view_module_version": "1.2.0",
       "_view_name": "LayoutView",
       "align_content": null,
       "align_items": null,
       "align_self": null,
       "border": null,
       "bottom": null,
       "display": null,
       "flex": null,
       "flex_flow": null,
       "grid_area": null,
       "grid_auto_columns": null,
       "grid_auto_flow": null,
       "grid_auto_rows": null,
       "grid_column": null,
       "grid_gap": null,
       "grid_row": null,
       "grid_template_areas": null,
       "grid_template_columns": null,
       "grid_template_rows": null,
       "height": null,
       "justify_content": null,
       "justify_items": null,
       "left": null,
       "margin": null,
       "max_height": null,
       "max_width": null,
       "min_height": null,
       "min_width": null,
       "object_fit": null,
       "object_position": null,
       "order": null,
       "overflow": null,
       "overflow_x": null,
       "overflow_y": null,
       "padding": null,
       "right": null,
       "top": null,
       "visibility": null,
       "width": null
      }
     },
     "be763293c5074e51be2b7d13e8eb78d0": {
      "model_module": "@jupyter-widgets/controls",
      "model_module_version": "1.5.0",
      "model_name": "DescriptionStyleModel",
      "state": {
       "_model_module": "@jupyter-widgets/controls",
       "_model_module_version": "1.5.0",
       "_model_name": "DescriptionStyleModel",
       "_view_count": null,
       "_view_module": "@jupyter-widgets/base",
       "_view_module_version": "1.2.0",
       "_view_name": "StyleView",
       "description_width": ""
      }
     },
     "c357ae0149774d81b01e9979c1da7ad8": {
      "model_module": "@jupyter-widgets/base",
      "model_module_version": "1.2.0",
      "model_name": "LayoutModel",
      "state": {
       "_model_module": "@jupyter-widgets/base",
       "_model_module_version": "1.2.0",
       "_model_name": "LayoutModel",
       "_view_count": null,
       "_view_module": "@jupyter-widgets/base",
       "_view_module_version": "1.2.0",
       "_view_name": "LayoutView",
       "align_content": null,
       "align_items": null,
       "align_self": null,
       "border": null,
       "bottom": null,
       "display": null,
       "flex": null,
       "flex_flow": null,
       "grid_area": null,
       "grid_auto_columns": null,
       "grid_auto_flow": null,
       "grid_auto_rows": null,
       "grid_column": null,
       "grid_gap": null,
       "grid_row": null,
       "grid_template_areas": null,
       "grid_template_columns": null,
       "grid_template_rows": null,
       "height": null,
       "justify_content": null,
       "justify_items": null,
       "left": null,
       "margin": null,
       "max_height": null,
       "max_width": null,
       "min_height": null,
       "min_width": null,
       "object_fit": null,
       "object_position": null,
       "order": null,
       "overflow": null,
       "overflow_x": null,
       "overflow_y": null,
       "padding": null,
       "right": null,
       "top": null,
       "visibility": null,
       "width": null
      }
     },
     "c3be3c0fa0fc4d2eaf118a05814433aa": {
      "model_module": "@jupyter-widgets/controls",
      "model_module_version": "1.5.0",
      "model_name": "DescriptionStyleModel",
      "state": {
       "_model_module": "@jupyter-widgets/controls",
       "_model_module_version": "1.5.0",
       "_model_name": "DescriptionStyleModel",
       "_view_count": null,
       "_view_module": "@jupyter-widgets/base",
       "_view_module_version": "1.2.0",
       "_view_name": "StyleView",
       "description_width": ""
      }
     },
     "c8d4b3c1160346a08ac76a3f02d301d2": {
      "model_module": "@jupyter-widgets/controls",
      "model_module_version": "1.5.0",
      "model_name": "DescriptionStyleModel",
      "state": {
       "_model_module": "@jupyter-widgets/controls",
       "_model_module_version": "1.5.0",
       "_model_name": "DescriptionStyleModel",
       "_view_count": null,
       "_view_module": "@jupyter-widgets/base",
       "_view_module_version": "1.2.0",
       "_view_name": "StyleView",
       "description_width": ""
      }
     },
     "cff4f7c6d0614e088ddf89e5657c01d0": {
      "model_module": "@jupyter-widgets/base",
      "model_module_version": "1.2.0",
      "model_name": "LayoutModel",
      "state": {
       "_model_module": "@jupyter-widgets/base",
       "_model_module_version": "1.2.0",
       "_model_name": "LayoutModel",
       "_view_count": null,
       "_view_module": "@jupyter-widgets/base",
       "_view_module_version": "1.2.0",
       "_view_name": "LayoutView",
       "align_content": null,
       "align_items": null,
       "align_self": null,
       "border": null,
       "bottom": null,
       "display": null,
       "flex": null,
       "flex_flow": null,
       "grid_area": null,
       "grid_auto_columns": null,
       "grid_auto_flow": null,
       "grid_auto_rows": null,
       "grid_column": null,
       "grid_gap": null,
       "grid_row": null,
       "grid_template_areas": null,
       "grid_template_columns": null,
       "grid_template_rows": null,
       "height": null,
       "justify_content": null,
       "justify_items": null,
       "left": null,
       "margin": null,
       "max_height": null,
       "max_width": null,
       "min_height": null,
       "min_width": null,
       "object_fit": null,
       "object_position": null,
       "order": null,
       "overflow": null,
       "overflow_x": null,
       "overflow_y": null,
       "padding": null,
       "right": null,
       "top": null,
       "visibility": null,
       "width": null
      }
     },
     "d23eff53f14a4c18b31a2828c7b1805c": {
      "model_module": "@jupyter-widgets/controls",
      "model_module_version": "1.5.0",
      "model_name": "HBoxModel",
      "state": {
       "_dom_classes": [],
       "_model_module": "@jupyter-widgets/controls",
       "_model_module_version": "1.5.0",
       "_model_name": "HBoxModel",
       "_view_count": null,
       "_view_module": "@jupyter-widgets/controls",
       "_view_module_version": "1.5.0",
       "_view_name": "HBoxView",
       "box_style": "",
       "children": [
        "IPY_MODEL_2e0554e2a6944eab812019deec47101b",
        "IPY_MODEL_7142542aaaf8415f8fc456c3fa904365",
        "IPY_MODEL_1ba35aaea88e4dc59f4b56ab873a9794"
       ],
       "layout": "IPY_MODEL_4c9045c3c3404be58edf22f4b233d57c"
      }
     },
     "d5b2a428068d4f328071938e8e40398d": {
      "model_module": "@jupyter-widgets/base",
      "model_module_version": "1.2.0",
      "model_name": "LayoutModel",
      "state": {
       "_model_module": "@jupyter-widgets/base",
       "_model_module_version": "1.2.0",
       "_model_name": "LayoutModel",
       "_view_count": null,
       "_view_module": "@jupyter-widgets/base",
       "_view_module_version": "1.2.0",
       "_view_name": "LayoutView",
       "align_content": null,
       "align_items": null,
       "align_self": null,
       "border": null,
       "bottom": null,
       "display": null,
       "flex": null,
       "flex_flow": null,
       "grid_area": null,
       "grid_auto_columns": null,
       "grid_auto_flow": null,
       "grid_auto_rows": null,
       "grid_column": null,
       "grid_gap": null,
       "grid_row": null,
       "grid_template_areas": null,
       "grid_template_columns": null,
       "grid_template_rows": null,
       "height": null,
       "justify_content": null,
       "justify_items": null,
       "left": null,
       "margin": null,
       "max_height": null,
       "max_width": null,
       "min_height": null,
       "min_width": null,
       "object_fit": null,
       "object_position": null,
       "order": null,
       "overflow": null,
       "overflow_x": null,
       "overflow_y": null,
       "padding": null,
       "right": null,
       "top": null,
       "visibility": null,
       "width": null
      }
     },
     "db8039a6a55d48a0ad001e9c43dfb6ab": {
      "model_module": "@jupyter-widgets/controls",
      "model_module_version": "1.5.0",
      "model_name": "DescriptionStyleModel",
      "state": {
       "_model_module": "@jupyter-widgets/controls",
       "_model_module_version": "1.5.0",
       "_model_name": "DescriptionStyleModel",
       "_view_count": null,
       "_view_module": "@jupyter-widgets/base",
       "_view_module_version": "1.2.0",
       "_view_name": "StyleView",
       "description_width": ""
      }
     },
     "de357917a2ad4814b7709c2cd6afdbb4": {
      "model_module": "@jupyter-widgets/controls",
      "model_module_version": "1.5.0",
      "model_name": "HTMLModel",
      "state": {
       "_dom_classes": [],
       "_model_module": "@jupyter-widgets/controls",
       "_model_module_version": "1.5.0",
       "_model_name": "HTMLModel",
       "_view_count": null,
       "_view_module": "@jupyter-widgets/controls",
       "_view_module_version": "1.5.0",
       "_view_name": "HTMLView",
       "description": "",
       "description_tooltip": null,
       "layout": "IPY_MODEL_65c71d68f4a548d0a6d8e6faa6724a78",
       "placeholder": "​",
       "style": "IPY_MODEL_25738777d7d04743a110624ce7044047",
       "value": "Downloading: 100%"
      }
     },
     "df11accf38914526bf4795d89ec3835b": {
      "model_module": "@jupyter-widgets/controls",
      "model_module_version": "1.5.0",
      "model_name": "ProgressStyleModel",
      "state": {
       "_model_module": "@jupyter-widgets/controls",
       "_model_module_version": "1.5.0",
       "_model_name": "ProgressStyleModel",
       "_view_count": null,
       "_view_module": "@jupyter-widgets/base",
       "_view_module_version": "1.2.0",
       "_view_name": "StyleView",
       "bar_color": null,
       "description_width": ""
      }
     },
     "e2bbf23928d643718ef19ebf74c29009": {
      "model_module": "@jupyter-widgets/base",
      "model_module_version": "1.2.0",
      "model_name": "LayoutModel",
      "state": {
       "_model_module": "@jupyter-widgets/base",
       "_model_module_version": "1.2.0",
       "_model_name": "LayoutModel",
       "_view_count": null,
       "_view_module": "@jupyter-widgets/base",
       "_view_module_version": "1.2.0",
       "_view_name": "LayoutView",
       "align_content": null,
       "align_items": null,
       "align_self": null,
       "border": null,
       "bottom": null,
       "display": null,
       "flex": null,
       "flex_flow": null,
       "grid_area": null,
       "grid_auto_columns": null,
       "grid_auto_flow": null,
       "grid_auto_rows": null,
       "grid_column": null,
       "grid_gap": null,
       "grid_row": null,
       "grid_template_areas": null,
       "grid_template_columns": null,
       "grid_template_rows": null,
       "height": null,
       "justify_content": null,
       "justify_items": null,
       "left": null,
       "margin": null,
       "max_height": null,
       "max_width": null,
       "min_height": null,
       "min_width": null,
       "object_fit": null,
       "object_position": null,
       "order": null,
       "overflow": null,
       "overflow_x": null,
       "overflow_y": null,
       "padding": null,
       "right": null,
       "top": null,
       "visibility": null,
       "width": null
      }
     },
     "e3caa07dd0984b5ab770a09fda6da534": {
      "model_module": "@jupyter-widgets/controls",
      "model_module_version": "1.5.0",
      "model_name": "ProgressStyleModel",
      "state": {
       "_model_module": "@jupyter-widgets/controls",
       "_model_module_version": "1.5.0",
       "_model_name": "ProgressStyleModel",
       "_view_count": null,
       "_view_module": "@jupyter-widgets/base",
       "_view_module_version": "1.2.0",
       "_view_name": "StyleView",
       "bar_color": null,
       "description_width": ""
      }
     },
     "eb0c3fcdc3c043f685dfd3e20ae9be4a": {
      "model_module": "@jupyter-widgets/controls",
      "model_module_version": "1.5.0",
      "model_name": "HBoxModel",
      "state": {
       "_dom_classes": [],
       "_model_module": "@jupyter-widgets/controls",
       "_model_module_version": "1.5.0",
       "_model_name": "HBoxModel",
       "_view_count": null,
       "_view_module": "@jupyter-widgets/controls",
       "_view_module_version": "1.5.0",
       "_view_name": "HBoxView",
       "box_style": "",
       "children": [
        "IPY_MODEL_de357917a2ad4814b7709c2cd6afdbb4",
        "IPY_MODEL_ee0421c1dce44cb8868d049faf357518",
        "IPY_MODEL_187d4ddb752a48e2a81450e81f6169d1"
       ],
       "layout": "IPY_MODEL_67fcf67c1bfb4c42aff5230db2cfb506"
      }
     },
     "ec7e294cf8bb4246954b36be7ba5748f": {
      "model_module": "@jupyter-widgets/controls",
      "model_module_version": "1.5.0",
      "model_name": "DescriptionStyleModel",
      "state": {
       "_model_module": "@jupyter-widgets/controls",
       "_model_module_version": "1.5.0",
       "_model_name": "DescriptionStyleModel",
       "_view_count": null,
       "_view_module": "@jupyter-widgets/base",
       "_view_module_version": "1.2.0",
       "_view_name": "StyleView",
       "description_width": ""
      }
     },
     "ee0421c1dce44cb8868d049faf357518": {
      "model_module": "@jupyter-widgets/controls",
      "model_module_version": "1.5.0",
      "model_name": "FloatProgressModel",
      "state": {
       "_dom_classes": [],
       "_model_module": "@jupyter-widgets/controls",
       "_model_module_version": "1.5.0",
       "_model_name": "FloatProgressModel",
       "_view_count": null,
       "_view_module": "@jupyter-widgets/controls",
       "_view_module_version": "1.5.0",
       "_view_name": "ProgressView",
       "bar_style": "success",
       "description": "",
       "description_tooltip": null,
       "layout": "IPY_MODEL_18de28d5b4624d168d0401c1ebb2928c",
       "max": 9096718.0,
       "min": 0.0,
       "orientation": "horizontal",
       "style": "IPY_MODEL_df11accf38914526bf4795d89ec3835b",
       "value": 9096718.0
      }
     },
     "f127ad787ff5494d9a5fe2a4d145a935": {
      "model_module": "@jupyter-widgets/base",
      "model_module_version": "1.2.0",
      "model_name": "LayoutModel",
      "state": {
       "_model_module": "@jupyter-widgets/base",
       "_model_module_version": "1.2.0",
       "_model_name": "LayoutModel",
       "_view_count": null,
       "_view_module": "@jupyter-widgets/base",
       "_view_module_version": "1.2.0",
       "_view_name": "LayoutView",
       "align_content": null,
       "align_items": null,
       "align_self": null,
       "border": null,
       "bottom": null,
       "display": null,
       "flex": null,
       "flex_flow": null,
       "grid_area": null,
       "grid_auto_columns": null,
       "grid_auto_flow": null,
       "grid_auto_rows": null,
       "grid_column": null,
       "grid_gap": null,
       "grid_row": null,
       "grid_template_areas": null,
       "grid_template_columns": null,
       "grid_template_rows": null,
       "height": null,
       "justify_content": null,
       "justify_items": null,
       "left": null,
       "margin": null,
       "max_height": null,
       "max_width": null,
       "min_height": null,
       "min_width": null,
       "object_fit": null,
       "object_position": null,
       "order": null,
       "overflow": null,
       "overflow_x": null,
       "overflow_y": null,
       "padding": null,
       "right": null,
       "top": null,
       "visibility": null,
       "width": null
      }
     },
     "fea0f57b0cac4366b062668b9cc6ee43": {
      "model_module": "@jupyter-widgets/controls",
      "model_module_version": "1.5.0",
      "model_name": "ProgressStyleModel",
      "state": {
       "_model_module": "@jupyter-widgets/controls",
       "_model_module_version": "1.5.0",
       "_model_name": "ProgressStyleModel",
       "_view_count": null,
       "_view_module": "@jupyter-widgets/base",
       "_view_module_version": "1.2.0",
       "_view_name": "StyleView",
       "bar_color": null,
       "description_width": ""
      }
     }
    },
    "version_major": 2,
    "version_minor": 0
   }
  }
 },
 "nbformat": 4,
 "nbformat_minor": 5
}
