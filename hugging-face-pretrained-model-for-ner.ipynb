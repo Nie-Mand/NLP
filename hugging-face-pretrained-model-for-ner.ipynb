{
 "cells": [
  {
   "cell_type": "code",
   "execution_count": 1,
   "id": "4e2528a7",
   "metadata": {
    "execution": {
     "iopub.execute_input": "2022-06-06T15:22:36.826181Z",
     "iopub.status.busy": "2022-06-06T15:22:36.825456Z",
     "iopub.status.idle": "2022-06-06T15:22:45.098840Z",
     "shell.execute_reply": "2022-06-06T15:22:45.097745Z"
    },
    "papermill": {
     "duration": 8.313801,
     "end_time": "2022-06-06T15:22:45.101509",
     "exception": false,
     "start_time": "2022-06-06T15:22:36.787708",
     "status": "completed"
    },
    "tags": []
   },
   "outputs": [],
   "source": [
    "import numpy as np\n",
    "import pandas as pd \n",
    "import seaborn as sns\n",
    "import matplotlib.pyplot as plt \n",
    "import matplotlib.style as stl \n",
    "from tensorflow import keras \n",
    "from keras.preprocessing.text import Tokenizer\n",
    "from nltk.corpus import stopwords\n",
    "import string\n",
    "from tensorflow.keras.models import Sequential,Model\n",
    "from tensorflow.keras.layers import Dense, LSTM, Embedding,Dropout,SpatialDropout1D,Conv1D,MaxPooling1D,GRU,BatchNormalization\n",
    "import warnings\n",
    "warnings.filterwarnings('ignore')\n",
    "stl.use('ggplot')\n",
    "from tqdm import tqdm\n",
    "import string\n",
    "from nltk.corpus import stopwords\n",
    "from nltk.tokenize import word_tokenize\n",
    "from nltk.stem import WordNetLemmatizer\n",
    "from nltk.stem.snowball import SnowballStemmer\n",
    "import regex as re"
   ]
  },
  {
   "cell_type": "code",
   "execution_count": 2,
   "id": "30e7fb73",
   "metadata": {
    "execution": {
     "iopub.execute_input": "2022-06-06T15:22:45.157535Z",
     "iopub.status.busy": "2022-06-06T15:22:45.156787Z",
     "iopub.status.idle": "2022-06-06T15:22:45.176539Z",
     "shell.execute_reply": "2022-06-06T15:22:45.175663Z"
    },
    "papermill": {
     "duration": 0.049454,
     "end_time": "2022-06-06T15:22:45.178903",
     "exception": false,
     "start_time": "2022-06-06T15:22:45.129449",
     "status": "completed"
    },
    "tags": []
   },
   "outputs": [],
   "source": [
    "data=pd.read_csv(\"../input/samplcsv/sample-2.csv\")"
   ]
  },
  {
   "cell_type": "code",
   "execution_count": 3,
   "id": "80b1adf7",
   "metadata": {
    "execution": {
     "iopub.execute_input": "2022-06-06T15:22:45.234055Z",
     "iopub.status.busy": "2022-06-06T15:22:45.233428Z",
     "iopub.status.idle": "2022-06-06T15:22:45.270678Z",
     "shell.execute_reply": "2022-06-06T15:22:45.269557Z"
    },
    "papermill": {
     "duration": 0.067415,
     "end_time": "2022-06-06T15:22:45.273286",
     "exception": false,
     "start_time": "2022-06-06T15:22:45.205871",
     "status": "completed"
    },
    "tags": []
   },
   "outputs": [
    {
     "data": {
      "text/html": [
       "<div>\n",
       "<style scoped>\n",
       "    .dataframe tbody tr th:only-of-type {\n",
       "        vertical-align: middle;\n",
       "    }\n",
       "\n",
       "    .dataframe tbody tr th {\n",
       "        vertical-align: top;\n",
       "    }\n",
       "\n",
       "    .dataframe thead th {\n",
       "        text-align: right;\n",
       "    }\n",
       "</style>\n",
       "<table border=\"1\" class=\"dataframe\">\n",
       "  <thead>\n",
       "    <tr style=\"text-align: right;\">\n",
       "      <th></th>\n",
       "      <th>document_id</th>\n",
       "      <th>status</th>\n",
       "      <th>document_url</th>\n",
       "      <th>media_type</th>\n",
       "      <th>media_link</th>\n",
       "      <th>relative_media_path</th>\n",
       "      <th>is_media_downloaded</th>\n",
       "      <th>transcription_text</th>\n",
       "      <th>transcription_text_relative_path</th>\n",
       "      <th>from_time</th>\n",
       "      <th>to_time</th>\n",
       "      <th>project_id</th>\n",
       "      <th>Category</th>\n",
       "      <th>Unnamed: 13</th>\n",
       "      <th>Unnamed: 14</th>\n",
       "    </tr>\n",
       "  </thead>\n",
       "  <tbody>\n",
       "    <tr>\n",
       "      <th>0</th>\n",
       "      <td>NMAAHC-007676813_00577</td>\n",
       "      <td>Complete</td>\n",
       "      <td>https://transcription.si.edu/transcribe/32203/...</td>\n",
       "      <td>image</td>\n",
       "      <td>https://ids.si.edu/ids/deliveryService?max_w=&amp;...</td>\n",
       "      <td>/32203/image/NMAAHC-007676813_00577.jpg</td>\n",
       "      <td>1</td>\n",
       "      <td>8 E encl\\r\\n\\r\\nI Anne H. Elliott, widow do so...</td>\n",
       "      <td>/32203/transcriptions/NMAAHC-007676813_00577.txt</td>\n",
       "      <td>\\N</td>\n",
       "      <td>\\N</td>\n",
       "      <td>32203</td>\n",
       "      <td>Oaths/Pardons</td>\n",
       "      <td>NaN</td>\n",
       "      <td>NaN</td>\n",
       "    </tr>\n",
       "    <tr>\n",
       "      <th>1</th>\n",
       "      <td>NMAAHC-007676818_00567</td>\n",
       "      <td>Complete</td>\n",
       "      <td>https://transcription.si.edu/transcribe/32796/...</td>\n",
       "      <td>image</td>\n",
       "      <td>https://ids.si.edu/ids/deliveryService?max_w=&amp;...</td>\n",
       "      <td>/32796/image/NMAAHC-007676818_00567.jpg</td>\n",
       "      <td>1</td>\n",
       "      <td>I E C Whaley solemnly swear that I have carefu...</td>\n",
       "      <td>/32796/transcriptions/NMAAHC-007676818_00567.txt</td>\n",
       "      <td>\\N</td>\n",
       "      <td>\\N</td>\n",
       "      <td>32796</td>\n",
       "      <td>Oaths/Pardons</td>\n",
       "      <td>NaN</td>\n",
       "      <td>NaN</td>\n",
       "    </tr>\n",
       "    <tr>\n",
       "      <th>2</th>\n",
       "      <td>NMAAHC-007676815_00488-000001</td>\n",
       "      <td>Complete</td>\n",
       "      <td>https://transcription.si.edu/transcribe/32218/...</td>\n",
       "      <td>image</td>\n",
       "      <td>https://ids.si.edu/ids/deliveryService?max_w=&amp;...</td>\n",
       "      <td>/32218/image/NMAAHC-007676815_00488-000001.jpg</td>\n",
       "      <td>1</td>\n",
       "      <td>43M\\r\\nI Mrs E Montgomery solemnly Swear that ...</td>\n",
       "      <td>/32218/transcriptions/NMAAHC-007676815_00488-0...</td>\n",
       "      <td>\\N</td>\n",
       "      <td>\\N</td>\n",
       "      <td>32218</td>\n",
       "      <td>Oaths/Pardons</td>\n",
       "      <td>NaN</td>\n",
       "      <td>NaN</td>\n",
       "    </tr>\n",
       "    <tr>\n",
       "      <th>3</th>\n",
       "      <td>NMAAHC-007677400_00375</td>\n",
       "      <td>Complete</td>\n",
       "      <td>https://transcription.si.edu/transcribe/26149/...</td>\n",
       "      <td>image</td>\n",
       "      <td>https://ids.si.edu/ids/deliveryService?max_w=&amp;...</td>\n",
       "      <td>/26149/image/NMAAHC-007677400_00375.jpg</td>\n",
       "      <td>1</td>\n",
       "      <td>No. 2324\\r\\nI do solemnly swear or affirm, in ...</td>\n",
       "      <td>/26149/transcriptions/NMAAHC-007677400_00375.txt</td>\n",
       "      <td>\\N</td>\n",
       "      <td>\\N</td>\n",
       "      <td>26149</td>\n",
       "      <td>Oaths/Pardons</td>\n",
       "      <td>NaN</td>\n",
       "      <td>NaN</td>\n",
       "    </tr>\n",
       "    <tr>\n",
       "      <th>4</th>\n",
       "      <td>NMAAHC-007677378_00480</td>\n",
       "      <td>Complete</td>\n",
       "      <td>https://transcription.si.edu/transcribe/27345/...</td>\n",
       "      <td>image</td>\n",
       "      <td>https://ids.si.edu/ids/deliveryService?max_w=&amp;...</td>\n",
       "      <td>/27345/image/NMAAHC-007677378_00480.jpg</td>\n",
       "      <td>1</td>\n",
       "      <td>August 24. 1865\\r\\nAPPLICATION AND CERTIFICATE...</td>\n",
       "      <td>/27345/transcriptions/NMAAHC-007677378_00480.txt</td>\n",
       "      <td>\\N</td>\n",
       "      <td>\\N</td>\n",
       "      <td>27345</td>\n",
       "      <td>Oaths/Pardons</td>\n",
       "      <td>NaN</td>\n",
       "      <td>NaN</td>\n",
       "    </tr>\n",
       "    <tr>\n",
       "      <th>5</th>\n",
       "      <td>NMAAHC-007676819_00216</td>\n",
       "      <td>Complete</td>\n",
       "      <td>https://transcription.si.edu/transcribe/33018/...</td>\n",
       "      <td>image</td>\n",
       "      <td>https://ids.si.edu/ids/deliveryService?max_w=&amp;...</td>\n",
       "      <td>/33018/image/NMAAHC-007676819_00216.jpg</td>\n",
       "      <td>1</td>\n",
       "      <td>I Wm Whaley solemnly swear that I have careful...</td>\n",
       "      <td>/33018/transcriptions/NMAAHC-007676819_00216.txt</td>\n",
       "      <td>\\N</td>\n",
       "      <td>\\N</td>\n",
       "      <td>33018</td>\n",
       "      <td>Oaths/Pardons</td>\n",
       "      <td>NaN</td>\n",
       "      <td>NaN</td>\n",
       "    </tr>\n",
       "    <tr>\n",
       "      <th>6</th>\n",
       "      <td>NMAAHC-007676816_00124</td>\n",
       "      <td>Complete</td>\n",
       "      <td>https://transcription.si.edu/transcribe/32224/...</td>\n",
       "      <td>image</td>\n",
       "      <td>https://ids.si.edu/ids/deliveryService?max_w=&amp;...</td>\n",
       "      <td>/32224/image/NMAAHC-007676816_00124.jpg</td>\n",
       "      <td>1</td>\n",
       "      <td>I J F Steinmeyer solemnly swear that I have ca...</td>\n",
       "      <td>/32224/transcriptions/NMAAHC-007676816_00124.txt</td>\n",
       "      <td>\\N</td>\n",
       "      <td>\\N</td>\n",
       "      <td>32224</td>\n",
       "      <td>Oaths/Pardons</td>\n",
       "      <td>NaN</td>\n",
       "      <td>NaN</td>\n",
       "    </tr>\n",
       "    <tr>\n",
       "      <th>7</th>\n",
       "      <td>NMAAHC-007676819_00592</td>\n",
       "      <td>Complete</td>\n",
       "      <td>https://transcription.si.edu/transcribe/33019/...</td>\n",
       "      <td>image</td>\n",
       "      <td>https://ids.si.edu/ids/deliveryService?max_w=&amp;...</td>\n",
       "      <td>/33019/image/NMAAHC-007676819_00592.jpg</td>\n",
       "      <td>1</td>\n",
       "      <td>I Joseph Edings solemnly swear that I have car...</td>\n",
       "      <td>/33019/transcriptions/NMAAHC-007676819_00592.txt</td>\n",
       "      <td>\\N</td>\n",
       "      <td>\\N</td>\n",
       "      <td>33019</td>\n",
       "      <td>Oaths/Pardons</td>\n",
       "      <td>NaN</td>\n",
       "      <td>NaN</td>\n",
       "    </tr>\n",
       "    <tr>\n",
       "      <th>8</th>\n",
       "      <td>NMAAHC-007677378_00303</td>\n",
       "      <td>Complete</td>\n",
       "      <td>https://transcription.si.edu/transcribe/27345/...</td>\n",
       "      <td>image</td>\n",
       "      <td>https://ids.si.edu/ids/deliveryService?max_w=&amp;...</td>\n",
       "      <td>/27345/image/NMAAHC-007677378_00303.jpg</td>\n",
       "      <td>1</td>\n",
       "      <td>Vicksburg Miss. \\r\\nJuly 22 1867 \\r\\n\\r\\nThoma...</td>\n",
       "      <td>/27345/transcriptions/NMAAHC-007677378_00303.txt</td>\n",
       "      <td>\\N</td>\n",
       "      <td>\\N</td>\n",
       "      <td>27345</td>\n",
       "      <td>Oaths/Pardons</td>\n",
       "      <td>NaN</td>\n",
       "      <td>NaN</td>\n",
       "    </tr>\n",
       "    <tr>\n",
       "      <th>9</th>\n",
       "      <td>NMAAHC-007676816_00259</td>\n",
       "      <td>Complete</td>\n",
       "      <td>https://transcription.si.edu/transcribe/32224/...</td>\n",
       "      <td>image</td>\n",
       "      <td>https://ids.si.edu/ids/deliveryService?max_w=&amp;...</td>\n",
       "      <td>/32224/image/NMAAHC-007676816_00259.jpg</td>\n",
       "      <td>1</td>\n",
       "      <td>455\\r\\n(RETAINED COPY.)\\r\\nI, Jacob Schroder. ...</td>\n",
       "      <td>/32224/transcriptions/NMAAHC-007676816_00259.txt</td>\n",
       "      <td>\\N</td>\n",
       "      <td>\\N</td>\n",
       "      <td>32224</td>\n",
       "      <td>Oaths/Pardons</td>\n",
       "      <td>NaN</td>\n",
       "      <td>NaN</td>\n",
       "    </tr>\n",
       "    <tr>\n",
       "      <th>10</th>\n",
       "      <td>NMAAHC-007677378_00356</td>\n",
       "      <td>Complete</td>\n",
       "      <td>https://transcription.si.edu/transcribe/27345/...</td>\n",
       "      <td>image</td>\n",
       "      <td>https://ids.si.edu/ids/deliveryService?max_w=&amp;...</td>\n",
       "      <td>/27345/image/NMAAHC-007677378_00356.jpg</td>\n",
       "      <td>1</td>\n",
       "      <td>[[image - eagle]]\\r\\nAMNESTY OATH.\\r\\n\\r\\nMiss...</td>\n",
       "      <td>/27345/transcriptions/NMAAHC-007677378_00356.txt</td>\n",
       "      <td>\\N</td>\n",
       "      <td>\\N</td>\n",
       "      <td>27345</td>\n",
       "      <td>Oaths/Pardons</td>\n",
       "      <td>NaN</td>\n",
       "      <td>NaN</td>\n",
       "    </tr>\n",
       "    <tr>\n",
       "      <th>11</th>\n",
       "      <td>NMAAHC-007677378_00170</td>\n",
       "      <td>Complete</td>\n",
       "      <td>https://transcription.si.edu/transcribe/27345/...</td>\n",
       "      <td>image</td>\n",
       "      <td>https://ids.si.edu/ids/deliveryService?max_w=&amp;...</td>\n",
       "      <td>/27345/image/NMAAHC-007677378_00170.jpg</td>\n",
       "      <td>1</td>\n",
       "      <td>OATH.\\r\\nI, P. P. Bergevin, \\r\\ndo solemnly sw...</td>\n",
       "      <td>/27345/transcriptions/NMAAHC-007677378_00170.txt</td>\n",
       "      <td>\\N</td>\n",
       "      <td>\\N</td>\n",
       "      <td>27345</td>\n",
       "      <td>Oaths/Pardons</td>\n",
       "      <td>NaN</td>\n",
       "      <td>NaN</td>\n",
       "    </tr>\n",
       "    <tr>\n",
       "      <th>12</th>\n",
       "      <td>NMAAHC-007677416_00654</td>\n",
       "      <td>Complete</td>\n",
       "      <td>https://transcription.si.edu/transcribe/35981/...</td>\n",
       "      <td>image</td>\n",
       "      <td>https://ids.si.edu/ids/deliveryService?max_w=&amp;...</td>\n",
       "      <td>/35981/image/NMAAHC-007677416_00654.jpg</td>\n",
       "      <td>1</td>\n",
       "      <td>Frank Conner</td>\n",
       "      <td>/35981/transcriptions/NMAAHC-007677416_00654.txt</td>\n",
       "      <td>\\N</td>\n",
       "      <td>\\N</td>\n",
       "      <td>35981</td>\n",
       "      <td>Oaths/Pardons</td>\n",
       "      <td>NaN</td>\n",
       "      <td>NaN</td>\n",
       "    </tr>\n",
       "    <tr>\n",
       "      <th>13</th>\n",
       "      <td>NMAAHC-007676817_00196</td>\n",
       "      <td>Complete</td>\n",
       "      <td>https://transcription.si.edu/transcribe/32781/...</td>\n",
       "      <td>image</td>\n",
       "      <td>https://ids.si.edu/ids/deliveryService?max_w=&amp;...</td>\n",
       "      <td>/32781/image/NMAAHC-007676817_00196.jpg</td>\n",
       "      <td>1</td>\n",
       "      <td>I Caroline Belitzer solemnly Swear that I have...</td>\n",
       "      <td>/32781/transcriptions/NMAAHC-007676817_00196.txt</td>\n",
       "      <td>\\N</td>\n",
       "      <td>\\N</td>\n",
       "      <td>32781</td>\n",
       "      <td>Oaths/Pardons</td>\n",
       "      <td>NaN</td>\n",
       "      <td>NaN</td>\n",
       "    </tr>\n",
       "    <tr>\n",
       "      <th>14</th>\n",
       "      <td>NMAAHC-007677378_00690</td>\n",
       "      <td>Complete</td>\n",
       "      <td>https://transcription.si.edu/transcribe/27348/...</td>\n",
       "      <td>image</td>\n",
       "      <td>https://ids.si.edu/ids/deliveryService?max_w=&amp;...</td>\n",
       "      <td>/27348/image/NMAAHC-007677378_00690.jpg</td>\n",
       "      <td>1</td>\n",
       "      <td>Triplicate\\r\\nAMNESTY OATH. \\r\\n\\r\\nPass Chris...</td>\n",
       "      <td>/27348/transcriptions/NMAAHC-007677378_00690.txt</td>\n",
       "      <td>\\N</td>\n",
       "      <td>\\N</td>\n",
       "      <td>27348</td>\n",
       "      <td>Oaths/Pardons</td>\n",
       "      <td>NaN</td>\n",
       "      <td>NaN</td>\n",
       "    </tr>\n",
       "    <tr>\n",
       "      <th>15</th>\n",
       "      <td>NMAAHC-007676812_00642</td>\n",
       "      <td>Complete</td>\n",
       "      <td>https://transcription.si.edu/transcribe/32194/...</td>\n",
       "      <td>image</td>\n",
       "      <td>https://ids.si.edu/ids/deliveryService?max_w=&amp;...</td>\n",
       "      <td>/32194/image/NMAAHC-007676812_00642.jpg</td>\n",
       "      <td>1</td>\n",
       "      <td>[Retained Copy.]\\r\\nHEADQUARTERS, UNITED STATE...</td>\n",
       "      <td>/32194/transcriptions/NMAAHC-007676812_00642.txt</td>\n",
       "      <td>\\N</td>\n",
       "      <td>\\N</td>\n",
       "      <td>32194</td>\n",
       "      <td>Oaths/Pardons</td>\n",
       "      <td>NaN</td>\n",
       "      <td>NaN</td>\n",
       "    </tr>\n",
       "    <tr>\n",
       "      <th>16</th>\n",
       "      <td>NMAAHC-007677416_00811</td>\n",
       "      <td>Complete</td>\n",
       "      <td>https://transcription.si.edu/transcribe/35981/...</td>\n",
       "      <td>image</td>\n",
       "      <td>https://ids.si.edu/ids/deliveryService?max_w=&amp;...</td>\n",
       "      <td>/35981/image/NMAAHC-007677416_00811.jpg</td>\n",
       "      <td>1</td>\n",
       "      <td>Robert A. Wilson</td>\n",
       "      <td>/35981/transcriptions/NMAAHC-007677416_00811.txt</td>\n",
       "      <td>\\N</td>\n",
       "      <td>\\N</td>\n",
       "      <td>35981</td>\n",
       "      <td>Oaths/Pardons</td>\n",
       "      <td>NaN</td>\n",
       "      <td>NaN</td>\n",
       "    </tr>\n",
       "    <tr>\n",
       "      <th>17</th>\n",
       "      <td>NMAAHC-007677378_00552</td>\n",
       "      <td>Complete</td>\n",
       "      <td>https://transcription.si.edu/transcribe/27348/...</td>\n",
       "      <td>image</td>\n",
       "      <td>https://ids.si.edu/ids/deliveryService?max_w=&amp;...</td>\n",
       "      <td>/27348/image/NMAAHC-007677378_00552.jpg</td>\n",
       "      <td>1</td>\n",
       "      <td>APPLICATION AND CERTIFICATE OF \\r\\nJames D Ken...</td>\n",
       "      <td>/27348/transcriptions/NMAAHC-007677378_00552.txt</td>\n",
       "      <td>\\N</td>\n",
       "      <td>\\N</td>\n",
       "      <td>27348</td>\n",
       "      <td>Oaths/Pardons</td>\n",
       "      <td>NaN</td>\n",
       "      <td>NaN</td>\n",
       "    </tr>\n",
       "    <tr>\n",
       "      <th>18</th>\n",
       "      <td>NMAAHC-004567413_01199</td>\n",
       "      <td>Complete</td>\n",
       "      <td>https://transcription.si.edu/transcribe/15183/...</td>\n",
       "      <td>image</td>\n",
       "      <td>https://ids.si.edu/ids/deliveryService?max_w=&amp;...</td>\n",
       "      <td>/15183/image/NMAAHC-004567413_01199.jpg</td>\n",
       "      <td>1</td>\n",
       "      <td>[[underlined]] Oath [[/underlined]] Aug. 2  7,...</td>\n",
       "      <td>/15183/transcriptions/NMAAHC-004567413_01199.txt</td>\n",
       "      <td>\\N</td>\n",
       "      <td>\\N</td>\n",
       "      <td>15183</td>\n",
       "      <td>Oaths/Pardons</td>\n",
       "      <td>NaN</td>\n",
       "      <td>NaN</td>\n",
       "    </tr>\n",
       "    <tr>\n",
       "      <th>19</th>\n",
       "      <td>NMAAHC-007677378_00483</td>\n",
       "      <td>Complete</td>\n",
       "      <td>https://transcription.si.edu/transcribe/27345/...</td>\n",
       "      <td>image</td>\n",
       "      <td>https://ids.si.edu/ids/deliveryService?max_w=&amp;...</td>\n",
       "      <td>/27345/image/NMAAHC-007677378_00483.jpg</td>\n",
       "      <td>1</td>\n",
       "      <td>[[image - eagle]]\\r\\n\\r\\nAMNESTY OATH. \\r\\n\\r\\...</td>\n",
       "      <td>/27345/transcriptions/NMAAHC-007677378_00483.txt</td>\n",
       "      <td>\\N</td>\n",
       "      <td>\\N</td>\n",
       "      <td>27345</td>\n",
       "      <td>Oaths/Pardons</td>\n",
       "      <td>NaN</td>\n",
       "      <td>NaN</td>\n",
       "    </tr>\n",
       "  </tbody>\n",
       "</table>\n",
       "</div>"
      ],
      "text/plain": [
       "                      document_id    status  \\\n",
       "0          NMAAHC-007676813_00577  Complete   \n",
       "1          NMAAHC-007676818_00567  Complete   \n",
       "2   NMAAHC-007676815_00488-000001  Complete   \n",
       "3          NMAAHC-007677400_00375  Complete   \n",
       "4          NMAAHC-007677378_00480  Complete   \n",
       "5          NMAAHC-007676819_00216  Complete   \n",
       "6          NMAAHC-007676816_00124  Complete   \n",
       "7          NMAAHC-007676819_00592  Complete   \n",
       "8          NMAAHC-007677378_00303  Complete   \n",
       "9          NMAAHC-007676816_00259  Complete   \n",
       "10         NMAAHC-007677378_00356  Complete   \n",
       "11         NMAAHC-007677378_00170  Complete   \n",
       "12         NMAAHC-007677416_00654  Complete   \n",
       "13         NMAAHC-007676817_00196  Complete   \n",
       "14         NMAAHC-007677378_00690  Complete   \n",
       "15         NMAAHC-007676812_00642  Complete   \n",
       "16         NMAAHC-007677416_00811  Complete   \n",
       "17         NMAAHC-007677378_00552  Complete   \n",
       "18         NMAAHC-004567413_01199  Complete   \n",
       "19         NMAAHC-007677378_00483  Complete   \n",
       "\n",
       "                                         document_url media_type  \\\n",
       "0   https://transcription.si.edu/transcribe/32203/...      image   \n",
       "1   https://transcription.si.edu/transcribe/32796/...      image   \n",
       "2   https://transcription.si.edu/transcribe/32218/...      image   \n",
       "3   https://transcription.si.edu/transcribe/26149/...      image   \n",
       "4   https://transcription.si.edu/transcribe/27345/...      image   \n",
       "5   https://transcription.si.edu/transcribe/33018/...      image   \n",
       "6   https://transcription.si.edu/transcribe/32224/...      image   \n",
       "7   https://transcription.si.edu/transcribe/33019/...      image   \n",
       "8   https://transcription.si.edu/transcribe/27345/...      image   \n",
       "9   https://transcription.si.edu/transcribe/32224/...      image   \n",
       "10  https://transcription.si.edu/transcribe/27345/...      image   \n",
       "11  https://transcription.si.edu/transcribe/27345/...      image   \n",
       "12  https://transcription.si.edu/transcribe/35981/...      image   \n",
       "13  https://transcription.si.edu/transcribe/32781/...      image   \n",
       "14  https://transcription.si.edu/transcribe/27348/...      image   \n",
       "15  https://transcription.si.edu/transcribe/32194/...      image   \n",
       "16  https://transcription.si.edu/transcribe/35981/...      image   \n",
       "17  https://transcription.si.edu/transcribe/27348/...      image   \n",
       "18  https://transcription.si.edu/transcribe/15183/...      image   \n",
       "19  https://transcription.si.edu/transcribe/27345/...      image   \n",
       "\n",
       "                                           media_link  \\\n",
       "0   https://ids.si.edu/ids/deliveryService?max_w=&...   \n",
       "1   https://ids.si.edu/ids/deliveryService?max_w=&...   \n",
       "2   https://ids.si.edu/ids/deliveryService?max_w=&...   \n",
       "3   https://ids.si.edu/ids/deliveryService?max_w=&...   \n",
       "4   https://ids.si.edu/ids/deliveryService?max_w=&...   \n",
       "5   https://ids.si.edu/ids/deliveryService?max_w=&...   \n",
       "6   https://ids.si.edu/ids/deliveryService?max_w=&...   \n",
       "7   https://ids.si.edu/ids/deliveryService?max_w=&...   \n",
       "8   https://ids.si.edu/ids/deliveryService?max_w=&...   \n",
       "9   https://ids.si.edu/ids/deliveryService?max_w=&...   \n",
       "10  https://ids.si.edu/ids/deliveryService?max_w=&...   \n",
       "11  https://ids.si.edu/ids/deliveryService?max_w=&...   \n",
       "12  https://ids.si.edu/ids/deliveryService?max_w=&...   \n",
       "13  https://ids.si.edu/ids/deliveryService?max_w=&...   \n",
       "14  https://ids.si.edu/ids/deliveryService?max_w=&...   \n",
       "15  https://ids.si.edu/ids/deliveryService?max_w=&...   \n",
       "16  https://ids.si.edu/ids/deliveryService?max_w=&...   \n",
       "17  https://ids.si.edu/ids/deliveryService?max_w=&...   \n",
       "18  https://ids.si.edu/ids/deliveryService?max_w=&...   \n",
       "19  https://ids.si.edu/ids/deliveryService?max_w=&...   \n",
       "\n",
       "                               relative_media_path  is_media_downloaded  \\\n",
       "0          /32203/image/NMAAHC-007676813_00577.jpg                    1   \n",
       "1          /32796/image/NMAAHC-007676818_00567.jpg                    1   \n",
       "2   /32218/image/NMAAHC-007676815_00488-000001.jpg                    1   \n",
       "3          /26149/image/NMAAHC-007677400_00375.jpg                    1   \n",
       "4          /27345/image/NMAAHC-007677378_00480.jpg                    1   \n",
       "5          /33018/image/NMAAHC-007676819_00216.jpg                    1   \n",
       "6          /32224/image/NMAAHC-007676816_00124.jpg                    1   \n",
       "7          /33019/image/NMAAHC-007676819_00592.jpg                    1   \n",
       "8          /27345/image/NMAAHC-007677378_00303.jpg                    1   \n",
       "9          /32224/image/NMAAHC-007676816_00259.jpg                    1   \n",
       "10         /27345/image/NMAAHC-007677378_00356.jpg                    1   \n",
       "11         /27345/image/NMAAHC-007677378_00170.jpg                    1   \n",
       "12         /35981/image/NMAAHC-007677416_00654.jpg                    1   \n",
       "13         /32781/image/NMAAHC-007676817_00196.jpg                    1   \n",
       "14         /27348/image/NMAAHC-007677378_00690.jpg                    1   \n",
       "15         /32194/image/NMAAHC-007676812_00642.jpg                    1   \n",
       "16         /35981/image/NMAAHC-007677416_00811.jpg                    1   \n",
       "17         /27348/image/NMAAHC-007677378_00552.jpg                    1   \n",
       "18         /15183/image/NMAAHC-004567413_01199.jpg                    1   \n",
       "19         /27345/image/NMAAHC-007677378_00483.jpg                    1   \n",
       "\n",
       "                                   transcription_text  \\\n",
       "0   8 E encl\\r\\n\\r\\nI Anne H. Elliott, widow do so...   \n",
       "1   I E C Whaley solemnly swear that I have carefu...   \n",
       "2   43M\\r\\nI Mrs E Montgomery solemnly Swear that ...   \n",
       "3   No. 2324\\r\\nI do solemnly swear or affirm, in ...   \n",
       "4   August 24. 1865\\r\\nAPPLICATION AND CERTIFICATE...   \n",
       "5   I Wm Whaley solemnly swear that I have careful...   \n",
       "6   I J F Steinmeyer solemnly swear that I have ca...   \n",
       "7   I Joseph Edings solemnly swear that I have car...   \n",
       "8   Vicksburg Miss. \\r\\nJuly 22 1867 \\r\\n\\r\\nThoma...   \n",
       "9   455\\r\\n(RETAINED COPY.)\\r\\nI, Jacob Schroder. ...   \n",
       "10  [[image - eagle]]\\r\\nAMNESTY OATH.\\r\\n\\r\\nMiss...   \n",
       "11  OATH.\\r\\nI, P. P. Bergevin, \\r\\ndo solemnly sw...   \n",
       "12                                      Frank Conner    \n",
       "13  I Caroline Belitzer solemnly Swear that I have...   \n",
       "14  Triplicate\\r\\nAMNESTY OATH. \\r\\n\\r\\nPass Chris...   \n",
       "15  [Retained Copy.]\\r\\nHEADQUARTERS, UNITED STATE...   \n",
       "16                                   Robert A. Wilson   \n",
       "17  APPLICATION AND CERTIFICATE OF \\r\\nJames D Ken...   \n",
       "18  [[underlined]] Oath [[/underlined]] Aug. 2  7,...   \n",
       "19  [[image - eagle]]\\r\\n\\r\\nAMNESTY OATH. \\r\\n\\r\\...   \n",
       "\n",
       "                     transcription_text_relative_path from_time to_time  \\\n",
       "0    /32203/transcriptions/NMAAHC-007676813_00577.txt        \\N      \\N   \n",
       "1    /32796/transcriptions/NMAAHC-007676818_00567.txt        \\N      \\N   \n",
       "2   /32218/transcriptions/NMAAHC-007676815_00488-0...        \\N      \\N   \n",
       "3    /26149/transcriptions/NMAAHC-007677400_00375.txt        \\N      \\N   \n",
       "4    /27345/transcriptions/NMAAHC-007677378_00480.txt        \\N      \\N   \n",
       "5    /33018/transcriptions/NMAAHC-007676819_00216.txt        \\N      \\N   \n",
       "6    /32224/transcriptions/NMAAHC-007676816_00124.txt        \\N      \\N   \n",
       "7    /33019/transcriptions/NMAAHC-007676819_00592.txt        \\N      \\N   \n",
       "8    /27345/transcriptions/NMAAHC-007677378_00303.txt        \\N      \\N   \n",
       "9    /32224/transcriptions/NMAAHC-007676816_00259.txt        \\N      \\N   \n",
       "10   /27345/transcriptions/NMAAHC-007677378_00356.txt        \\N      \\N   \n",
       "11   /27345/transcriptions/NMAAHC-007677378_00170.txt        \\N      \\N   \n",
       "12   /35981/transcriptions/NMAAHC-007677416_00654.txt        \\N      \\N   \n",
       "13   /32781/transcriptions/NMAAHC-007676817_00196.txt        \\N      \\N   \n",
       "14   /27348/transcriptions/NMAAHC-007677378_00690.txt        \\N      \\N   \n",
       "15   /32194/transcriptions/NMAAHC-007676812_00642.txt        \\N      \\N   \n",
       "16   /35981/transcriptions/NMAAHC-007677416_00811.txt        \\N      \\N   \n",
       "17   /27348/transcriptions/NMAAHC-007677378_00552.txt        \\N      \\N   \n",
       "18   /15183/transcriptions/NMAAHC-004567413_01199.txt        \\N      \\N   \n",
       "19   /27345/transcriptions/NMAAHC-007677378_00483.txt        \\N      \\N   \n",
       "\n",
       "    project_id       Category  Unnamed: 13  Unnamed: 14  \n",
       "0        32203  Oaths/Pardons          NaN          NaN  \n",
       "1        32796  Oaths/Pardons          NaN          NaN  \n",
       "2        32218  Oaths/Pardons          NaN          NaN  \n",
       "3        26149  Oaths/Pardons          NaN          NaN  \n",
       "4        27345  Oaths/Pardons          NaN          NaN  \n",
       "5        33018  Oaths/Pardons          NaN          NaN  \n",
       "6        32224  Oaths/Pardons          NaN          NaN  \n",
       "7        33019  Oaths/Pardons          NaN          NaN  \n",
       "8        27345  Oaths/Pardons          NaN          NaN  \n",
       "9        32224  Oaths/Pardons          NaN          NaN  \n",
       "10       27345  Oaths/Pardons          NaN          NaN  \n",
       "11       27345  Oaths/Pardons          NaN          NaN  \n",
       "12       35981  Oaths/Pardons          NaN          NaN  \n",
       "13       32781  Oaths/Pardons          NaN          NaN  \n",
       "14       27348  Oaths/Pardons          NaN          NaN  \n",
       "15       32194  Oaths/Pardons          NaN          NaN  \n",
       "16       35981  Oaths/Pardons          NaN          NaN  \n",
       "17       27348  Oaths/Pardons          NaN          NaN  \n",
       "18       15183  Oaths/Pardons          NaN          NaN  \n",
       "19       27345  Oaths/Pardons          NaN          NaN  "
      ]
     },
     "execution_count": 3,
     "metadata": {},
     "output_type": "execute_result"
    }
   ],
   "source": [
    "data"
   ]
  },
  {
   "cell_type": "code",
   "execution_count": 4,
   "id": "6a0aefc2",
   "metadata": {
    "execution": {
     "iopub.execute_input": "2022-06-06T15:22:45.329914Z",
     "iopub.status.busy": "2022-06-06T15:22:45.329136Z",
     "iopub.status.idle": "2022-06-06T15:22:45.339277Z",
     "shell.execute_reply": "2022-06-06T15:22:45.338206Z"
    },
    "papermill": {
     "duration": 0.040821,
     "end_time": "2022-06-06T15:22:45.341400",
     "exception": false,
     "start_time": "2022-06-06T15:22:45.300579",
     "status": "completed"
    },
    "tags": []
   },
   "outputs": [
    {
     "data": {
      "text/plain": [
       "'43M\\r\\nI Mrs E Montgomery solemnly Swear that I have carefully read the Amnesty Proclamation issued by ANDREW JOHNSON, President of the United States of America, on May 29th, 1865, and that I am not excepted from the benefits of that Proclamation by any one of the fourteen exceptions therein made, \\r\\nSgd in Montgomery\\r\\n\\r\\nSworn to and subscribed before me at Charleston SC this 31 day of Oct 1865.\\r\\nLevi Stuber\\r\\nMajor 47th Pa. Vet. Vols. and Provost Marshal.\\r\\n\\r\\n[[left margin]] Duplicate [[/left margin]]\\r\\n\\r\\nNo.1984\\r\\nUnited States of America.\\r\\nI Mrs E. Montgomery of the [[strikethrough]] County [[/strikethrough]]mnly Swear in the presence of Almighty God, that I will henceforth faithfully support and defend the constitution of the United States, and the Union of the States thereunder, and that I will, in like manner, abide by and faithfully support all laws and proclamations which have been made during the existing rebellion with reference to the Emancipation of Slaves- So HELP ME GOD. \\r\\nSgd in Montgomery\\r\\n\\r\\nSworn to and subscribed before me at Charleston SC this 31 day of Oct 1865.\\r\\nLevi Stuber\\r\\nMajor 47th Pa. Vet. Vols. and Provost Marshal.\\r\\n\\r\\nThe above has Fair complexion, Dark hair, and dark eyes; is 5 feet 4 inches high, and 61 years; by profession a Widow\\r\\n\\r\\n(The original Oaths will be transmitted, by the officer administering them, to the Department of State, through intermediate channels and a certified copy thereof will be furnished to the applicant for pardon, to accompany his petition.)'"
      ]
     },
     "execution_count": 4,
     "metadata": {},
     "output_type": "execute_result"
    }
   ],
   "source": [
    "data[\"transcription_text\"][2]"
   ]
  },
  {
   "cell_type": "code",
   "execution_count": 5,
   "id": "f891249a",
   "metadata": {
    "execution": {
     "iopub.execute_input": "2022-06-06T15:22:45.399366Z",
     "iopub.status.busy": "2022-06-06T15:22:45.398738Z",
     "iopub.status.idle": "2022-06-06T15:22:45.403503Z",
     "shell.execute_reply": "2022-06-06T15:22:45.402530Z"
    },
    "papermill": {
     "duration": 0.03628,
     "end_time": "2022-06-06T15:22:45.405676",
     "exception": false,
     "start_time": "2022-06-06T15:22:45.369396",
     "status": "completed"
    },
    "tags": []
   },
   "outputs": [],
   "source": [
    "# text[2]"
   ]
  },
  {
   "cell_type": "code",
   "execution_count": 6,
   "id": "539230c7",
   "metadata": {
    "execution": {
     "iopub.execute_input": "2022-06-06T15:22:45.462013Z",
     "iopub.status.busy": "2022-06-06T15:22:45.461604Z",
     "iopub.status.idle": "2022-06-06T15:22:45.468182Z",
     "shell.execute_reply": "2022-06-06T15:22:45.467091Z"
    },
    "papermill": {
     "duration": 0.037512,
     "end_time": "2022-06-06T15:22:45.470533",
     "exception": false,
     "start_time": "2022-06-06T15:22:45.433021",
     "status": "completed"
    },
    "tags": []
   },
   "outputs": [
    {
     "data": {
      "text/plain": [
       "'No. 2324\\r\\nI do solemnly swear or affirm, in the presence of Almighty God, that I will henceforth faithfully defend the Constitution of the United States, and the Union of States thereunder, and that I will in like manner abide by and faithfully support all Laws and Proclamations which have been made during the existing rebellion, with reference to the emancipation of slaves.\\r\\nSO HELP ME GOD,\\r\\nE.B. Towne\\r\\n\\r\\n[[stamp]] INTER.REVENUE 5 5 FIVE IMAGE CENTS 5 5 INLDEXCHANGE [[stamp]]\\r\\n\\r\\nSworn to and Subscribed before me, this 31st day of August A.D. 1865.\\r\\nHu Kennedy\\r\\nMAYOR\\r\\nOf the City of New Orleans.'"
      ]
     },
     "execution_count": 6,
     "metadata": {},
     "output_type": "execute_result"
    }
   ],
   "source": [
    "data[\"transcription_text\"][3]"
   ]
  },
  {
   "cell_type": "code",
   "execution_count": 7,
   "id": "fe252f9d",
   "metadata": {
    "execution": {
     "iopub.execute_input": "2022-06-06T15:22:45.527483Z",
     "iopub.status.busy": "2022-06-06T15:22:45.527030Z",
     "iopub.status.idle": "2022-06-06T15:22:45.531287Z",
     "shell.execute_reply": "2022-06-06T15:22:45.530166Z"
    },
    "papermill": {
     "duration": 0.035011,
     "end_time": "2022-06-06T15:22:45.533453",
     "exception": false,
     "start_time": "2022-06-06T15:22:45.498442",
     "status": "completed"
    },
    "tags": []
   },
   "outputs": [],
   "source": [
    "# text[3]"
   ]
  },
  {
   "cell_type": "code",
   "execution_count": 8,
   "id": "26467130",
   "metadata": {
    "execution": {
     "iopub.execute_input": "2022-06-06T15:22:45.590104Z",
     "iopub.status.busy": "2022-06-06T15:22:45.589419Z",
     "iopub.status.idle": "2022-06-06T15:22:45.596238Z",
     "shell.execute_reply": "2022-06-06T15:22:45.595251Z"
    },
    "papermill": {
     "duration": 0.037613,
     "end_time": "2022-06-06T15:22:45.598309",
     "exception": false,
     "start_time": "2022-06-06T15:22:45.560696",
     "status": "completed"
    },
    "tags": []
   },
   "outputs": [
    {
     "data": {
      "text/plain": [
       "'August 24. 1865\\r\\nAPPLICATION AND CERTIFICATE OF\\r\\nW.A. Fleitas\\r\\nAmnesty Oath Administered\\r\\nAt Pass Christian Mississippi\\r\\nBy J.B. Hiserodt, \\r\\n66\" U.S. Cold. Infty.'"
      ]
     },
     "execution_count": 8,
     "metadata": {},
     "output_type": "execute_result"
    }
   ],
   "source": [
    "data[\"transcription_text\"][4]"
   ]
  },
  {
   "cell_type": "code",
   "execution_count": null,
   "id": "1025bf56",
   "metadata": {
    "papermill": {
     "duration": 0.026907,
     "end_time": "2022-06-06T15:22:45.652585",
     "exception": false,
     "start_time": "2022-06-06T15:22:45.625678",
     "status": "completed"
    },
    "tags": []
   },
   "outputs": [],
   "source": []
  },
  {
   "cell_type": "code",
   "execution_count": 9,
   "id": "72af95dc",
   "metadata": {
    "execution": {
     "iopub.execute_input": "2022-06-06T15:22:45.709444Z",
     "iopub.status.busy": "2022-06-06T15:22:45.709027Z",
     "iopub.status.idle": "2022-06-06T15:22:45.715619Z",
     "shell.execute_reply": "2022-06-06T15:22:45.714542Z"
    },
    "papermill": {
     "duration": 0.037531,
     "end_time": "2022-06-06T15:22:45.717907",
     "exception": false,
     "start_time": "2022-06-06T15:22:45.680376",
     "status": "completed"
    },
    "tags": []
   },
   "outputs": [
    {
     "data": {
      "text/plain": [
       "'I Wm Whaley solemnly swear that I have carefully read the Amnesty Proclamation issued by ANDREW JOHNSON, President of the United States of America, on May 29th, 1865, and that I am not excepted from the benefits of that Proclamation by any one of the fourteen exceptions therein made, except\\r\\n\\r\\nWilliam Whaley\\r\\nSworn to and subscribed before me at Charleston SC this 3 day of August 1865.\\r\\n\\r\\nLevi Stuber\\r\\nMay 4 Pa Vols\\r\\nProv. Marshal \\r\\nCity of Charleston\\r\\n\\r\\n[[left margin]]\\r\\nDuplicate\\r\\n[[/left margin]]\\r\\n\\r\\nNo. 38 \\r\\nUnited States of America. \\r\\n\\r\\n1 Wm Whaley of the County of Charleston State of So Carolina do solemnly swear in the presence of Almighty God, that I will henceforth faithfully support and defend the Constitution of the United States, and the Union of the State thereunder, and that I will, in like manner, abide by and faithfully support all laws and proclamations which have been made during the existing rebellion with reference to the Emancipation or slaves— SO HELP ME GOD.\\r\\n\\r\\nWilliam Whaley\\r\\n\\r\\nSworn to and subscribed before me at Charleston SC this 3 day of Augt 1865.\\r\\n\\r\\nLevi Stuber\\r\\nMaj 47 Po Vol. & Pro Mar\\r\\n\\r\\nThe above has fair complexion gray hair, and Brown eyes; is 5 feet 8 inches high, and 48 years; by profession a Lawyer.\\r\\n\\r\\n(The original oaths will be transmitted, by the officer administering them, to the Department of State, through intermediate channels, and a certified copy thereof will be furnished to the applicant for pardon, to accompany his petition.) '"
      ]
     },
     "execution_count": 9,
     "metadata": {},
     "output_type": "execute_result"
    }
   ],
   "source": [
    "data[\"transcription_text\"][5]"
   ]
  },
  {
   "cell_type": "code",
   "execution_count": 10,
   "id": "007e8761",
   "metadata": {
    "execution": {
     "iopub.execute_input": "2022-06-06T15:22:45.776415Z",
     "iopub.status.busy": "2022-06-06T15:22:45.775785Z",
     "iopub.status.idle": "2022-06-06T15:22:45.782515Z",
     "shell.execute_reply": "2022-06-06T15:22:45.781551Z"
    },
    "papermill": {
     "duration": 0.038321,
     "end_time": "2022-06-06T15:22:45.784605",
     "exception": false,
     "start_time": "2022-06-06T15:22:45.746284",
     "status": "completed"
    },
    "tags": []
   },
   "outputs": [
    {
     "data": {
      "text/plain": [
       "'I J F Steinmeyer solemnly swear that I have carefully read the Amnesty Proclamation issued by ANDREW JOHNSON, President of the United States of America, on May 29th, 1865, and that I am not excepted from the benefits of that Proclamation by any one of the fourteen exceptions therein made, \\r\\nJ.F. Steinmeyer\\r\\nSworn to and subscribed before me at Charleston Sc this 16th day of Sept 1865.\\r\\nLevi Stuber\\r\\nMaj 47 & Pro Marshal\\r\\n\\r\\n[[left margin]]Duplicate[[/left margin]]\\r\\nNo. 1474\\r\\nUnited States of America.\\r\\nI J F Steinmeyer of the [[crossed out]] County [[/crossed out]]o solemnly swear in the presence of Almighty God, that I will henceforth faithfully support and defend the Constitution of the United States, and the Union of the States thereunder, and that I will, in like manner, abide by and faithfully support all laws and proclamations which have been made during the existing rebellion with reference to the Emancipation of Slaves-So HELP ME GOD.\\r\\nJ.F. Steinmeyer\\r\\nSworn to and subscribed before me at Charleston Sc this 16th day of Sept 1865.\\r\\nLevi Stuber \\r\\nMaj 47 & Pro Marshal\\r\\nThe above has Fair complexion, dark hair, and Gry eyes; is 5 feet 8 inches high, and 58 years; by profession a Builder\\r\\n(The original Oaths will be transmitted, by the officer administering them, to the Department of State, through intermediate channels, and a certified copy thereof will be furnished to the applicant for pardon, to accompany his petition.)'"
      ]
     },
     "execution_count": 10,
     "metadata": {},
     "output_type": "execute_result"
    }
   ],
   "source": [
    "data[\"transcription_text\"][6]"
   ]
  },
  {
   "cell_type": "code",
   "execution_count": 11,
   "id": "532bb9b2",
   "metadata": {
    "execution": {
     "iopub.execute_input": "2022-06-06T15:22:45.843064Z",
     "iopub.status.busy": "2022-06-06T15:22:45.842414Z",
     "iopub.status.idle": "2022-06-06T15:22:45.849459Z",
     "shell.execute_reply": "2022-06-06T15:22:45.848271Z"
    },
    "papermill": {
     "duration": 0.038574,
     "end_time": "2022-06-06T15:22:45.851629",
     "exception": false,
     "start_time": "2022-06-06T15:22:45.813055",
     "status": "completed"
    },
    "tags": []
   },
   "outputs": [
    {
     "data": {
      "text/plain": [
       "'I Joseph Edings solemnly swear that I have carefully read the Amnesty Proclamation issued by ANDREW JOHNSON, President of the United States of America, on May 29th, 1865, and that I am not excepted from the benefits of that Proclamation by any one of the fourteen exceptions therein made, \\r\\nJoseph Edings\\r\\n\\r\\nSworn and subscribed before me at Orangeburg SC this 16 day of October 1865.\\r\\nFrank Geise\\r\\n1st Lt. 54th NYVV\\r\\nAsst Prov Marshal\\r\\n\\r\\nNo.\\r\\nUnited States of America.\\r\\nI Joseph Edings of [[crossed-out]] the County of [[/crossed-out]] Orangeburg Dist. State of South Carolina do solemnly swear in the presence of Almighty God, that I will henceforth faithfully support and defend the Constitution of the United States, and the Union of the States thereunder, and that I will, in like manner, abide by and faithfully support all laws and proclamations which have been made during the existing rebellion with reference to the Emancipation of slaves-SO HELP ME GOD.\\r\\nJoseph Edings\\r\\n\\r\\nSworn to and subscribed before me at Orangeburg SC this 16 day of October 1865.\\r\\nFrank Geise\\r\\n1st Lt 54th N.Y.V.V. & Asst Prov Marshal\\r\\n\\r\\nThe above named has dark complexion, dark hair, and dark eyes; is five feet eight inches high, and twenty eight years; by profession a planter\\r\\n\\r\\n(The original oaths will be transmitted, by the officer administering them, to the Department of State, through intermediate channels, and a certified copy thereof will be furnished to the applicant for pardon, to accompany his petition.)'"
      ]
     },
     "execution_count": 11,
     "metadata": {},
     "output_type": "execute_result"
    }
   ],
   "source": [
    "data[\"transcription_text\"][7]"
   ]
  },
  {
   "cell_type": "code",
   "execution_count": 12,
   "id": "15b8bb03",
   "metadata": {
    "execution": {
     "iopub.execute_input": "2022-06-06T15:22:45.909913Z",
     "iopub.status.busy": "2022-06-06T15:22:45.909267Z",
     "iopub.status.idle": "2022-06-06T15:22:45.915915Z",
     "shell.execute_reply": "2022-06-06T15:22:45.914964Z"
    },
    "papermill": {
     "duration": 0.037952,
     "end_time": "2022-06-06T15:22:45.917927",
     "exception": false,
     "start_time": "2022-06-06T15:22:45.879975",
     "status": "completed"
    },
    "tags": []
   },
   "outputs": [
    {
     "data": {
      "text/plain": [
       "'Vicksburg Miss. \\r\\nJuly 22 1867 \\r\\n\\r\\nThomas, Andrew \\r\\n\\r\\nOath of Loyalty \\r\\n\\r\\nRecd Bureau R.F. & AL. Miss\\r\\nJuly 22 1867'"
      ]
     },
     "execution_count": 12,
     "metadata": {},
     "output_type": "execute_result"
    }
   ],
   "source": [
    "data[\"transcription_text\"][8]"
   ]
  },
  {
   "cell_type": "code",
   "execution_count": 13,
   "id": "09c2a514",
   "metadata": {
    "execution": {
     "iopub.execute_input": "2022-06-06T15:22:45.975807Z",
     "iopub.status.busy": "2022-06-06T15:22:45.975392Z",
     "iopub.status.idle": "2022-06-06T15:22:45.981722Z",
     "shell.execute_reply": "2022-06-06T15:22:45.980887Z"
    },
    "papermill": {
     "duration": 0.037865,
     "end_time": "2022-06-06T15:22:45.983670",
     "exception": false,
     "start_time": "2022-06-06T15:22:45.945805",
     "status": "completed"
    },
    "tags": []
   },
   "outputs": [
    {
     "data": {
      "text/plain": [
       "'455\\r\\n(RETAINED COPY.)\\r\\nI, Jacob Schroder. do solemnly swear, that I have carefully read the Amnesty Proclamation issued by ANDREW JOHNSON President of the United States of America, on May 29th, 1865, and that I am not expected from the benefits of that Proclamation by any one of the fourteen exceptions therein made, except \\r\\nJacob Schroder\\r\\nSworn to and subscribed before me, at Walhalla this 6\" day of Nov\" 1865.\\r\\nR A Bray\\r\\n Capt & Ass\\'t. Provost Marshal.\\r\\n\\r\\nNo.2\\r\\nUNITED STATES OF AMERICA.\\r\\nI, Jacob Schroder of Walhalla State of South Carolina, do solemnly swear, in presence of Almighty God, that I will henceforth faithfully support and defend the Constitution of the United States, and the Union of the States thereunder, and that I will, in like manner, abide by and faithfully support all Laws and Proclamations which have been made during the existing Rebellion with reference to the Emancipation of Slaves---\"SO HELP ME GOD.\"\\r\\nJacob Schroder\\r\\n\\r\\nSworn to and subscribed before me, at Walhalla this 6\" day of Nov\", 1865.\\r\\nR A Bray\\r\\n[[strikethrough]] Lieut. [[/strikethrough]ove named has Light complexion, Gray hair, Blue eyes, is 5 feet 6 inches high, and is 58 years of age, and by profession Laborer.'"
      ]
     },
     "execution_count": 13,
     "metadata": {},
     "output_type": "execute_result"
    }
   ],
   "source": [
    "data[\"transcription_text\"][9]"
   ]
  },
  {
   "cell_type": "code",
   "execution_count": 14,
   "id": "10066692",
   "metadata": {
    "execution": {
     "iopub.execute_input": "2022-06-06T15:22:46.041463Z",
     "iopub.status.busy": "2022-06-06T15:22:46.040842Z",
     "iopub.status.idle": "2022-06-06T15:22:46.046334Z",
     "shell.execute_reply": "2022-06-06T15:22:46.045558Z"
    },
    "papermill": {
     "duration": 0.036591,
     "end_time": "2022-06-06T15:22:46.048279",
     "exception": false,
     "start_time": "2022-06-06T15:22:46.011688",
     "status": "completed"
    },
    "tags": []
   },
   "outputs": [
    {
     "data": {
      "text/plain": [
       "'[[image - eagle]]\\r\\nAMNESTY OATH.\\r\\n\\r\\nMississippi City Miss Sept 29 1865.\\r\\n\\r\\nI, J.W. Baxter, do solemnly swear, in presence of Almighty God, that I will henceforth faithfully support, protect and defend the Constitution of the United States and the union of the States thereunder; and that I will, in like manner, abide by and faithfully support all laws and proclamations which have been made during the existing rebellion with reference to the emancipation of slaves. SO HELP ME GOD.\\r\\nJ.W. Baxter\\r\\n\\r\\nSworn to and subscribed at Mississippi City\\r\\nthis 29th day of September 1865, before me\\r\\nJ. H. Mathews Capt 66th\\r\\nU.S Col Infty & Provost Marshal.  Sub port Miss\\r\\n\\r\\nDESCRIPTION:\\r\\nAge 24 years\\r\\nHeight 5ft 8 inches\\r\\nEyes Blue\\r\\nColor of Hair light\\r\\nCharacteristics [[blank]]\\r\\n\\r\\nHEADQUARTERS, Mississippi City Miss\\r\\nSept 29th 1865.\\r\\n\\r\\nI hereby certify, that the Amnesty Oath prescribed by the Proclamation of the President of the United States, was duly administered to J.W. Baxter of Harrison Co by my order, this 29th day of Sept 29 1865.\\r\\nFrank E. Miller\\r\\nMaj 66th USCI Commanding.\\r\\n\\r\\n\\r\\n[TRIPLICATE.]'"
      ]
     },
     "execution_count": 14,
     "metadata": {},
     "output_type": "execute_result"
    }
   ],
   "source": [
    "data[\"transcription_text\"][10]"
   ]
  },
  {
   "cell_type": "code",
   "execution_count": 15,
   "id": "f9a126c9",
   "metadata": {
    "execution": {
     "iopub.execute_input": "2022-06-06T15:22:46.105854Z",
     "iopub.status.busy": "2022-06-06T15:22:46.105209Z",
     "iopub.status.idle": "2022-06-06T15:22:46.110874Z",
     "shell.execute_reply": "2022-06-06T15:22:46.109979Z"
    },
    "papermill": {
     "duration": 0.036725,
     "end_time": "2022-06-06T15:22:46.112828",
     "exception": false,
     "start_time": "2022-06-06T15:22:46.076103",
     "status": "completed"
    },
    "tags": []
   },
   "outputs": [
    {
     "data": {
      "text/plain": [
       "'OATH.\\r\\nI, P. P. Bergevin, \\r\\ndo solemnly swear that I have never voluntarily borne arms against the United States since I have been a citizen thereof; that I have voluntarily given no aid, countenance, counsel, or encouragement to persons engaged in armed hostility thereto; that I have neither sought, not accepted, nor attempted to exercise the functions of any office whatever, under any authority, or pretended authority, in hostility to the United States; that I have not yielded a voluntary support to any pretended government, authority, power, or constitution within the United States, hostile or inimical thereto.  And I do further swear, or affirm, that, to the best of my knowledge and ability, I will support and defend the Constitution of the United States against all enemies, foreign and domestic; that I will bear true faith and allegiance to the same; that I take this obligation freely, without any mental reservation or purpose of evasion; and that I will well and faithfully discharge the duties of the office on which I am about to enter: So help me God.\\r\\nP. P. Bergevin\\r\\nSworn to and subscribed before me, at Woodville Wilkinson Co Miss \\r\\nthis 3d day of February 1868\\r\\nP H Joor Justice of the\\r\\nPeace Wilkinson County.\\r\\nState of Mississippi\\r\\n'"
      ]
     },
     "execution_count": 15,
     "metadata": {},
     "output_type": "execute_result"
    }
   ],
   "source": [
    "data[\"transcription_text\"][11]"
   ]
  },
  {
   "cell_type": "code",
   "execution_count": 16,
   "id": "abdc5511",
   "metadata": {
    "execution": {
     "iopub.execute_input": "2022-06-06T15:22:46.172384Z",
     "iopub.status.busy": "2022-06-06T15:22:46.171792Z",
     "iopub.status.idle": "2022-06-06T15:22:46.178143Z",
     "shell.execute_reply": "2022-06-06T15:22:46.176894Z"
    },
    "papermill": {
     "duration": 0.039432,
     "end_time": "2022-06-06T15:22:46.180398",
     "exception": false,
     "start_time": "2022-06-06T15:22:46.140966",
     "status": "completed"
    },
    "tags": []
   },
   "outputs": [
    {
     "data": {
      "text/plain": [
       "'Frank Conner '"
      ]
     },
     "execution_count": 16,
     "metadata": {},
     "output_type": "execute_result"
    }
   ],
   "source": [
    "data[\"transcription_text\"][12]"
   ]
  },
  {
   "cell_type": "code",
   "execution_count": 17,
   "id": "c3829756",
   "metadata": {
    "execution": {
     "iopub.execute_input": "2022-06-06T15:22:46.239286Z",
     "iopub.status.busy": "2022-06-06T15:22:46.238544Z",
     "iopub.status.idle": "2022-06-06T15:22:46.244657Z",
     "shell.execute_reply": "2022-06-06T15:22:46.243871Z"
    },
    "papermill": {
     "duration": 0.037845,
     "end_time": "2022-06-06T15:22:46.246731",
     "exception": false,
     "start_time": "2022-06-06T15:22:46.208886",
     "status": "completed"
    },
    "tags": []
   },
   "outputs": [
    {
     "data": {
      "text/plain": [
       "'I Caroline Belitzer solemnly Swear that I have carefully read the Amnesty Proclamation issued by ANDREW JOHNSON, President of the United States of America, on May 29th, 1865, and that I am not excepted from the benefits of that Proclamation by any one of the fourteen exceptions therein made, \\r\\ncaroline Belitzer\\r\\n\\r\\nSworn to and subscribed before me at Charleston S.C. this 7th day of September 186 [strikethrough]]5[[/strikethrough]] 6.\\r\\nF. K. Field\\r\\nCapt 128th USCT \\r\\nProv. Mar. \\r\\n\\r\\n[[left margin]] Copy F. K. Field\\r\\nCapt 128\" USCT Pro. Mar. [[/left margin]]\\r\\n\\r\\nNO. 117\\r\\nUnited States of America.\\r\\n\\r\\nI Caroline Belitzer of the [[strikethrough]] County [[/strikethrough]] dist. of Charleston State of So Carolina do solemnly Swear in the presence of Almighty God, that I will henceforth faithfully support and defend the Constitution of the United States, and the Union of the States thereunder, and that I will, in like manner, abide by and faithfully support all laws and proclamations which have been made during the existing rebellion with reference to the Emancipation of Slaves-SO HELP ME GOD.\\r\\nCaroline Belitzer\\r\\n\\r\\nSworn to and subscribed before me at Charleston S. C. this 7th day of September 186 [[strikethrough]]5 [[/strikethrough]]6.\\r\\nF. K. Field\\r\\nCapt 128th USCT \\r\\nProv. Mar.\\r\\n\\r\\nThe above has dark complexion, dark hair, and dark eyes; is 5 feet 6 inches high, and 45years; [[strikethrough]] by profession [[/strikethrough]] a lady.\\r\\n\\r\\n(The original oaths will be transmitted, by the officer administering them, to the Department of State, through intermediate channels, and a certified copy thereof will be furnished to the applicant for pardon, to accompany his petition.)'"
      ]
     },
     "execution_count": 17,
     "metadata": {},
     "output_type": "execute_result"
    }
   ],
   "source": [
    "data[\"transcription_text\"][13]"
   ]
  },
  {
   "cell_type": "code",
   "execution_count": 18,
   "id": "b11f08ff",
   "metadata": {
    "execution": {
     "iopub.execute_input": "2022-06-06T15:22:46.306940Z",
     "iopub.status.busy": "2022-06-06T15:22:46.306114Z",
     "iopub.status.idle": "2022-06-06T15:22:46.312938Z",
     "shell.execute_reply": "2022-06-06T15:22:46.312161Z"
    },
    "papermill": {
     "duration": 0.039048,
     "end_time": "2022-06-06T15:22:46.314920",
     "exception": false,
     "start_time": "2022-06-06T15:22:46.275872",
     "status": "completed"
    },
    "tags": []
   },
   "outputs": [
    {
     "data": {
      "text/plain": [
       "']\\r\\nAMNESTY OATH.\\r\\n\\r\\nMississippi City Miss Sept 29 1865.\\r\\n\\r\\nI, J.W. Baxter, do solemnly swear, in presence of Almighty God, that I will henceforth faithfully support, protect and defend the Constitution of the United States and the union of the States thereunder; and that I will, in like manner, abide by and faithfully support all laws and proclamations which have been made during the existing rebellion with reference to the emancipation of slaves. SO HELP ME GOD.\\r\\nJ.W. Baxter\\r\\n\\r\\nSworn to and subscribed at Mississippi City\\r\\nthis 29th day of September 1865, before me\\r\\nJ. H. Mathews Capt 66th\\r\\nU.S Col Infty & Provost Marshal.  Sub port Miss\\r\\n\\r\\nDESCRIPTION:\\r\\nAge 24 years\\r\\nHeight 5ft 8 inches\\r\\nEyes Blue\\r\\nColor of Hair light\\r\\nCharacteristics ]\\r\\n\\r\\nHEADQUARTERS, Mississippi City Miss\\r\\nSept 29th 1865.\\r\\n\\r\\nI hereby certify, that the Amnesty Oath prescribed by the Proclamation of the President of the United States, was duly administered to J.W. Baxter of Harrison Co by my order, this 29th day of Sept 29 1865.\\r\\nFrank E. Miller\\r\\nMaj 66th USCI Commanding.\\r\\n\\r\\n\\r\\n'"
      ]
     },
     "execution_count": 18,
     "metadata": {},
     "output_type": "execute_result"
    }
   ],
   "source": [
    "txte= re.sub(\"([\\(\\[]).*?([\\)\\]])\",\"\",data[\"transcription_text\"][10])\n",
    "txte"
   ]
  },
  {
   "cell_type": "code",
   "execution_count": 19,
   "id": "fa56ce28",
   "metadata": {
    "execution": {
     "iopub.execute_input": "2022-06-06T15:22:46.375706Z",
     "iopub.status.busy": "2022-06-06T15:22:46.375070Z",
     "iopub.status.idle": "2022-06-06T15:22:46.381083Z",
     "shell.execute_reply": "2022-06-06T15:22:46.380380Z"
    },
    "papermill": {
     "duration": 0.038852,
     "end_time": "2022-06-06T15:22:46.383045",
     "exception": false,
     "start_time": "2022-06-06T15:22:46.344193",
     "status": "completed"
    },
    "tags": []
   },
   "outputs": [
    {
     "data": {
      "text/plain": [
       "']\\r\\nAMNESTY OATH.\\r\\n\\r\\nMississippi City Miss Sept 29 1865.\\r\\n\\r\\nI, J.W. Baxter, do solemnly swear, in presence of Almighty God, that I will henceforth faithfully support, protect and defend the Constitution of the United States and the union of the States thereunder; and that I will, in like manner, abide by and faithfully support all laws and proclamations which have been made during the existing rebellion with reference to the emancipation of slaves. SO HELP ME GOD.\\r\\nJ.W. Baxter\\r\\n\\r\\nSworn to and subscribed at Mississippi City\\r\\nthis 29th day of September 1865, before me\\r\\nJ. H. Mathews Capt 66th\\r\\nU.S Col Infty & Provost Marshal.  Sub port Miss\\r\\n\\r\\nDESCRIPTION:\\r\\nAge 24 years\\r\\nHeight 5ft 8 inches\\r\\nEyes Blue\\r\\nColor of Hair light\\r\\nCharacteristics ]\\r\\n\\r\\nHEADQUARTERS, Mississippi City Miss\\r\\nSept 29th 1865.\\r\\n\\r\\nI hereby certify, that the Amnesty Oath prescribed by the Proclamation of the President of the United States, was duly administered to J.W. Baxter of Harrison Co by my order, this 29th day of Sept 29 1865.\\r\\nFrank E. Miller\\r\\nMaj 66th USCI Commanding.\\r\\n\\r\\n\\r\\n'"
      ]
     },
     "execution_count": 19,
     "metadata": {},
     "output_type": "execute_result"
    }
   ],
   "source": [
    "txte= re.sub(\"([\\(\\[]).*?([\\)\\]])\",\"\",data[\"transcription_text\"][10])\n",
    "txte"
   ]
  },
  {
   "cell_type": "markdown",
   "id": "5a0c11dd",
   "metadata": {
    "papermill": {
     "duration": 0.028765,
     "end_time": "2022-06-06T15:22:46.441103",
     "exception": false,
     "start_time": "2022-06-06T15:22:46.412338",
     "status": "completed"
    },
    "tags": []
   },
   "source": [
    "# Preprocessing"
   ]
  },
  {
   "cell_type": "code",
   "execution_count": 20,
   "id": "0f726644",
   "metadata": {
    "execution": {
     "iopub.execute_input": "2022-06-06T15:22:46.502665Z",
     "iopub.status.busy": "2022-06-06T15:22:46.502016Z",
     "iopub.status.idle": "2022-06-06T15:22:46.506183Z",
     "shell.execute_reply": "2022-06-06T15:22:46.505446Z"
    },
    "papermill": {
     "duration": 0.037409,
     "end_time": "2022-06-06T15:22:46.508273",
     "exception": false,
     "start_time": "2022-06-06T15:22:46.470864",
     "status": "completed"
    },
    "tags": []
   },
   "outputs": [],
   "source": [
    "text=data[\"transcription_text\"]"
   ]
  },
  {
   "cell_type": "code",
   "execution_count": 21,
   "id": "3adfe47a",
   "metadata": {
    "execution": {
     "iopub.execute_input": "2022-06-06T15:22:46.567762Z",
     "iopub.status.busy": "2022-06-06T15:22:46.567117Z",
     "iopub.status.idle": "2022-06-06T15:22:46.580053Z",
     "shell.execute_reply": "2022-06-06T15:22:46.579313Z"
    },
    "papermill": {
     "duration": 0.045451,
     "end_time": "2022-06-06T15:22:46.582537",
     "exception": false,
     "start_time": "2022-06-06T15:22:46.537086",
     "status": "completed"
    },
    "tags": []
   },
   "outputs": [],
   "source": [
    "stop_words = set(stopwords.words('english'))\n",
    "punctuation = string.punctuation\n",
    "stemmer = SnowballStemmer(language=\"english\")\n",
    "lemmatizer = WordNetLemmatizer()"
   ]
  },
  {
   "cell_type": "code",
   "execution_count": 22,
   "id": "64cef084",
   "metadata": {
    "execution": {
     "iopub.execute_input": "2022-06-06T15:22:46.643677Z",
     "iopub.status.busy": "2022-06-06T15:22:46.643020Z",
     "iopub.status.idle": "2022-06-06T15:22:46.648371Z",
     "shell.execute_reply": "2022-06-06T15:22:46.647686Z"
    },
    "papermill": {
     "duration": 0.03807,
     "end_time": "2022-06-06T15:22:46.650389",
     "exception": false,
     "start_time": "2022-06-06T15:22:46.612319",
     "status": "completed"
    },
    "tags": []
   },
   "outputs": [
    {
     "data": {
      "text/plain": [
       "'!\"#$%&\\'()*+,-./:;<=>?@[\\\\]^_`{|}~'"
      ]
     },
     "execution_count": 22,
     "metadata": {},
     "output_type": "execute_result"
    }
   ],
   "source": [
    "stop_words.remove(\"of\")\n",
    "punctuation"
   ]
  },
  {
   "cell_type": "code",
   "execution_count": 23,
   "id": "146e0791",
   "metadata": {
    "execution": {
     "iopub.execute_input": "2022-06-06T15:22:46.710502Z",
     "iopub.status.busy": "2022-06-06T15:22:46.709806Z",
     "iopub.status.idle": "2022-06-06T15:22:46.716057Z",
     "shell.execute_reply": "2022-06-06T15:22:46.715064Z"
    },
    "papermill": {
     "duration": 0.038574,
     "end_time": "2022-06-06T15:22:46.718242",
     "exception": false,
     "start_time": "2022-06-06T15:22:46.679668",
     "status": "completed"
    },
    "tags": []
   },
   "outputs": [],
   "source": [
    "def process(s):\n",
    "    s= re.sub(\"([\\(\\[]).*?([\\)\\]])\",\" \",s)\n",
    "    for p in punctuation:\n",
    "        s = s.replace(p, '')\n",
    "    s = word_tokenize(s)\n",
    "    s = [w for w in s if not w in stop_words] #optional\n",
    "    s = [lemmatizer.lemmatize(word) for word in s]\n",
    "    return s"
   ]
  },
  {
   "cell_type": "code",
   "execution_count": 24,
   "id": "c7cc2dbc",
   "metadata": {
    "execution": {
     "iopub.execute_input": "2022-06-06T15:22:46.779825Z",
     "iopub.status.busy": "2022-06-06T15:22:46.779367Z",
     "iopub.status.idle": "2022-06-06T15:22:49.144685Z",
     "shell.execute_reply": "2022-06-06T15:22:49.143462Z"
    },
    "papermill": {
     "duration": 2.398581,
     "end_time": "2022-06-06T15:22:49.147413",
     "exception": false,
     "start_time": "2022-06-06T15:22:46.748832",
     "status": "completed"
    },
    "tags": []
   },
   "outputs": [
    {
     "name": "stderr",
     "output_type": "stream",
     "text": [
      "100%|██████████| 20/20 [00:02<00:00,  8.50it/s]\n"
     ]
    }
   ],
   "source": [
    "for i in tqdm(range(data.shape[0])):\n",
    "    text[i] = process(text[i])"
   ]
  },
  {
   "cell_type": "code",
   "execution_count": 25,
   "id": "9827a97b",
   "metadata": {
    "execution": {
     "iopub.execute_input": "2022-06-06T15:22:49.208748Z",
     "iopub.status.busy": "2022-06-06T15:22:49.208224Z",
     "iopub.status.idle": "2022-06-06T15:22:49.225585Z",
     "shell.execute_reply": "2022-06-06T15:22:49.224316Z"
    },
    "papermill": {
     "duration": 0.05198,
     "end_time": "2022-06-06T15:22:49.228910",
     "exception": false,
     "start_time": "2022-06-06T15:22:49.176930",
     "status": "completed"
    },
    "tags": []
   },
   "outputs": [
    {
     "name": "stderr",
     "output_type": "stream",
     "text": [
      "100%|██████████| 20/20 [00:00<00:00, 2376.38it/s]\n"
     ]
    }
   ],
   "source": [
    "for i in tqdm(range(data.shape[0])):\n",
    "    text[i] = \" \".join(text[i])"
   ]
  },
  {
   "cell_type": "code",
   "execution_count": 26,
   "id": "ed99b0a5",
   "metadata": {
    "execution": {
     "iopub.execute_input": "2022-06-06T15:22:49.293124Z",
     "iopub.status.busy": "2022-06-06T15:22:49.292714Z",
     "iopub.status.idle": "2022-06-06T15:22:49.299142Z",
     "shell.execute_reply": "2022-06-06T15:22:49.298062Z"
    },
    "papermill": {
     "duration": 0.041237,
     "end_time": "2022-06-06T15:22:49.301667",
     "exception": false,
     "start_time": "2022-06-06T15:22:49.260430",
     "status": "completed"
    },
    "tags": []
   },
   "outputs": [
    {
     "data": {
      "text/plain": [
       "'I E C Whaley solemnly swear I carefully read Amnesty Proclamation issued Andrew Johnson President of United State of America May 29th 1865 I excepted benefit of Proclamation one of fourteen exception therein made except E C Whaley Sworn subscribed Charleston SC 28 day of Sept 1865 Levi Steuben Maj 47th PM United States of America E C Whaley of city county Charleston Sate of South Ca solemnly swear presence of Almighty God I henceforth faithfully support defend Constitution of United States Union of States thereunder I like manner abide faithfully support law proclamation made existing rebellion reference Emancipation of SlavesSO HELP ME GOD E C Whaley Sworn subscribed Charleston SC 28 day of Sept 1865 Levi Steuben May 47 PM The fair complexion light hair gray eye 5 foot 10 inch high 39 year profession planter Copy Levi Steuben Maj 47th Pro Marshal City of Charleston'"
      ]
     },
     "execution_count": 26,
     "metadata": {},
     "output_type": "execute_result"
    }
   ],
   "source": [
    "text[1]"
   ]
  },
  {
   "cell_type": "code",
   "execution_count": 27,
   "id": "2f235e5f",
   "metadata": {
    "execution": {
     "iopub.execute_input": "2022-06-06T15:22:49.363538Z",
     "iopub.status.busy": "2022-06-06T15:22:49.363107Z",
     "iopub.status.idle": "2022-06-06T15:22:49.370410Z",
     "shell.execute_reply": "2022-06-06T15:22:49.369137Z"
    },
    "papermill": {
     "duration": 0.041016,
     "end_time": "2022-06-06T15:22:49.372684",
     "exception": false,
     "start_time": "2022-06-06T15:22:49.331668",
     "status": "completed"
    },
    "tags": []
   },
   "outputs": [
    {
     "data": {
      "text/plain": [
       "'43M I Mrs E Montgomery solemnly Swear I carefully read Amnesty Proclamation issued ANDREW JOHNSON President of United States of America May 29th 1865 I excepted benefit of Proclamation one of fourteen exception therein made Sgd Montgomery Sworn subscribed Charleston SC 31 day of Oct 1865 Levi Stuber Major 47th Pa Vet Vols Provost Marshal Duplicate No1984 United States of America I Mrs E Montgomery of County mnly Swear presence of Almighty God I henceforth faithfully support defend constitution of United States Union of States thereunder I like manner abide faithfully support law proclamation made existing rebellion reference Emancipation of Slaves So HELP ME GOD Sgd Montgomery Sworn subscribed Charleston SC 31 day of Oct 1865 Levi Stuber Major 47th Pa Vet Vols Provost Marshal The Fair complexion Dark hair dark eye 5 foot 4 inch high 61 year profession Widow'"
      ]
     },
     "execution_count": 27,
     "metadata": {},
     "output_type": "execute_result"
    }
   ],
   "source": [
    "data[\"transcription_text\"][2]"
   ]
  },
  {
   "cell_type": "code",
   "execution_count": 28,
   "id": "6bf726ec",
   "metadata": {
    "execution": {
     "iopub.execute_input": "2022-06-06T15:22:49.436548Z",
     "iopub.status.busy": "2022-06-06T15:22:49.436125Z",
     "iopub.status.idle": "2022-06-06T15:22:49.441557Z",
     "shell.execute_reply": "2022-06-06T15:22:49.440561Z"
    },
    "papermill": {
     "duration": 0.039855,
     "end_time": "2022-06-06T15:22:49.443538",
     "exception": false,
     "start_time": "2022-06-06T15:22:49.403683",
     "status": "completed"
    },
    "tags": []
   },
   "outputs": [
    {
     "data": {
      "text/plain": [
       "'43M I Mrs E Montgomery solemnly Swear I carefully read Amnesty Proclamation issued ANDREW JOHNSON President of United States of America May 29th 1865 I excepted benefit of Proclamation one of fourteen exception therein made Sgd Montgomery Sworn subscribed Charleston SC 31 day of Oct 1865 Levi Stuber Major 47th Pa Vet Vols Provost Marshal Duplicate No1984 United States of America I Mrs E Montgomery of County mnly Swear presence of Almighty God I henceforth faithfully support defend constitution of United States Union of States thereunder I like manner abide faithfully support law proclamation made existing rebellion reference Emancipation of Slaves So HELP ME GOD Sgd Montgomery Sworn subscribed Charleston SC 31 day of Oct 1865 Levi Stuber Major 47th Pa Vet Vols Provost Marshal The Fair complexion Dark hair dark eye 5 foot 4 inch high 61 year profession Widow'"
      ]
     },
     "execution_count": 28,
     "metadata": {},
     "output_type": "execute_result"
    }
   ],
   "source": [
    "text[2]"
   ]
  },
  {
   "cell_type": "code",
   "execution_count": 29,
   "id": "60adfe19",
   "metadata": {
    "execution": {
     "iopub.execute_input": "2022-06-06T15:22:49.506336Z",
     "iopub.status.busy": "2022-06-06T15:22:49.505311Z",
     "iopub.status.idle": "2022-06-06T15:22:49.511139Z",
     "shell.execute_reply": "2022-06-06T15:22:49.510359Z"
    },
    "papermill": {
     "duration": 0.039624,
     "end_time": "2022-06-06T15:22:49.513115",
     "exception": false,
     "start_time": "2022-06-06T15:22:49.473491",
     "status": "completed"
    },
    "tags": []
   },
   "outputs": [
    {
     "data": {
      "text/plain": [
       "'No 2324 I solemnly swear affirm presence of Almighty God I henceforth faithfully defend Constitution of United States Union of States thereunder I like manner abide faithfully support Laws Proclamations made existing rebellion reference emancipation of slave SO HELP ME GOD EB Towne INTERREVENUE 5 5 FIVE IMAGE CENTS 5 5 INLDEXCHANGE Sworn Subscribed 31st day of August AD 1865 Hu Kennedy MAYOR Of City of New Orleans'"
      ]
     },
     "execution_count": 29,
     "metadata": {},
     "output_type": "execute_result"
    }
   ],
   "source": [
    "text[3]"
   ]
  },
  {
   "cell_type": "code",
   "execution_count": 30,
   "id": "42055f21",
   "metadata": {
    "execution": {
     "iopub.execute_input": "2022-06-06T15:22:49.575159Z",
     "iopub.status.busy": "2022-06-06T15:22:49.574730Z",
     "iopub.status.idle": "2022-06-06T15:22:49.581019Z",
     "shell.execute_reply": "2022-06-06T15:22:49.580291Z"
    },
    "papermill": {
     "duration": 0.039663,
     "end_time": "2022-06-06T15:22:49.582972",
     "exception": false,
     "start_time": "2022-06-06T15:22:49.543309",
     "status": "completed"
    },
    "tags": []
   },
   "outputs": [
    {
     "data": {
      "text/plain": [
       "'August 24 1865 APPLICATION AND CERTIFICATE OF WA Fleitas Amnesty Oath Administered At Pass Christian Mississippi By JB Hiserodt 66 US Cold Infty'"
      ]
     },
     "execution_count": 30,
     "metadata": {},
     "output_type": "execute_result"
    }
   ],
   "source": [
    "text[4]"
   ]
  },
  {
   "cell_type": "code",
   "execution_count": 31,
   "id": "12d4eaff",
   "metadata": {
    "execution": {
     "iopub.execute_input": "2022-06-06T15:22:49.645169Z",
     "iopub.status.busy": "2022-06-06T15:22:49.644570Z",
     "iopub.status.idle": "2022-06-06T15:22:49.650323Z",
     "shell.execute_reply": "2022-06-06T15:22:49.649563Z"
    },
    "papermill": {
     "duration": 0.039246,
     "end_time": "2022-06-06T15:22:49.652411",
     "exception": false,
     "start_time": "2022-06-06T15:22:49.613165",
     "status": "completed"
    },
    "tags": []
   },
   "outputs": [
    {
     "data": {
      "text/plain": [
       "'AMNESTY OATH Mississippi City Miss Sept 29 1865 I JW Baxter solemnly swear presence of Almighty God I henceforth faithfully support protect defend Constitution of United States union of States thereunder I like manner abide faithfully support law proclamation made existing rebellion reference emancipation of slave SO HELP ME GOD JW Baxter Sworn subscribed Mississippi City 29th day of September 1865 J H Mathews Capt 66th US Col Infty Provost Marshal Sub port Miss DESCRIPTION Age 24 year Height 5ft 8 inch Eyes Blue Color of Hair light Characteristics HEADQUARTERS Mississippi City Miss Sept 29th 1865 I hereby certify Amnesty Oath prescribed Proclamation of President of United States duly administered JW Baxter of Harrison Co order 29th day of Sept 29 1865 Frank E Miller Maj 66th USCI Commanding'"
      ]
     },
     "execution_count": 31,
     "metadata": {},
     "output_type": "execute_result"
    }
   ],
   "source": [
    "text[10]"
   ]
  },
  {
   "cell_type": "markdown",
   "id": "a2b4f92f",
   "metadata": {
    "papermill": {
     "duration": 0.030187,
     "end_time": "2022-06-06T15:22:49.713309",
     "exception": false,
     "start_time": "2022-06-06T15:22:49.683122",
     "status": "completed"
    },
    "tags": []
   },
   "source": [
    "# spacy"
   ]
  },
  {
   "cell_type": "code",
   "execution_count": 32,
   "id": "1f9e717b",
   "metadata": {
    "execution": {
     "iopub.execute_input": "2022-06-06T15:22:49.776386Z",
     "iopub.status.busy": "2022-06-06T15:22:49.775955Z",
     "iopub.status.idle": "2022-06-06T15:24:11.384687Z",
     "shell.execute_reply": "2022-06-06T15:24:11.383492Z"
    },
    "papermill": {
     "duration": 81.642879,
     "end_time": "2022-06-06T15:24:11.387271",
     "exception": false,
     "start_time": "2022-06-06T15:22:49.744392",
     "status": "completed"
    },
    "tags": []
   },
   "outputs": [
    {
     "name": "stdout",
     "output_type": "stream",
     "text": [
      "Requirement already satisfied: Cython in /opt/conda/lib/python3.7/site-packages (0.29.30)\r\n",
      "\u001b[33mWARNING: Running pip as the 'root' user can result in broken permissions and conflicting behaviour with the system package manager. It is recommended to use a virtual environment instead: https://pip.pypa.io/warnings/venv\u001b[0m\u001b[33m\r\n",
      "\u001b[0mRequirement already satisfied: transformers in /opt/conda/lib/python3.7/site-packages (4.18.0)\r\n",
      "Requirement already satisfied: tokenizers!=0.11.3,<0.13,>=0.11.1 in /opt/conda/lib/python3.7/site-packages (from transformers) (0.12.1)\r\n",
      "Requirement already satisfied: requests in /opt/conda/lib/python3.7/site-packages (from transformers) (2.27.1)\r\n",
      "Requirement already satisfied: pyyaml>=5.1 in /opt/conda/lib/python3.7/site-packages (from transformers) (6.0)\r\n",
      "Requirement already satisfied: regex!=2019.12.17 in /opt/conda/lib/python3.7/site-packages (from transformers) (2021.11.10)\r\n",
      "Requirement already satisfied: numpy>=1.17 in /opt/conda/lib/python3.7/site-packages (from transformers) (1.21.6)\r\n",
      "Requirement already satisfied: huggingface-hub<1.0,>=0.1.0 in /opt/conda/lib/python3.7/site-packages (from transformers) (0.5.1)\r\n",
      "Requirement already satisfied: tqdm>=4.27 in /opt/conda/lib/python3.7/site-packages (from transformers) (4.64.0)\r\n",
      "Requirement already satisfied: importlib-metadata in /opt/conda/lib/python3.7/site-packages (from transformers) (4.11.4)\r\n",
      "Requirement already satisfied: sacremoses in /opt/conda/lib/python3.7/site-packages (from transformers) (0.0.53)\r\n",
      "Requirement already satisfied: packaging>=20.0 in /opt/conda/lib/python3.7/site-packages (from transformers) (21.3)\r\n",
      "Requirement already satisfied: filelock in /opt/conda/lib/python3.7/site-packages (from transformers) (3.6.0)\r\n",
      "Requirement already satisfied: typing-extensions>=3.7.4.3 in /opt/conda/lib/python3.7/site-packages (from huggingface-hub<1.0,>=0.1.0->transformers) (4.2.0)\r\n",
      "Requirement already satisfied: pyparsing!=3.0.5,>=2.0.2 in /opt/conda/lib/python3.7/site-packages (from packaging>=20.0->transformers) (3.0.9)\r\n",
      "Requirement already satisfied: zipp>=0.5 in /opt/conda/lib/python3.7/site-packages (from importlib-metadata->transformers) (3.8.0)\r\n",
      "Requirement already satisfied: certifi>=2017.4.17 in /opt/conda/lib/python3.7/site-packages (from requests->transformers) (2022.5.18.1)\r\n",
      "Requirement already satisfied: idna<4,>=2.5 in /opt/conda/lib/python3.7/site-packages (from requests->transformers) (3.3)\r\n",
      "Requirement already satisfied: urllib3<1.27,>=1.21.1 in /opt/conda/lib/python3.7/site-packages (from requests->transformers) (1.26.9)\r\n",
      "Requirement already satisfied: charset-normalizer~=2.0.0 in /opt/conda/lib/python3.7/site-packages (from requests->transformers) (2.0.12)\r\n",
      "Requirement already satisfied: six in /opt/conda/lib/python3.7/site-packages (from sacremoses->transformers) (1.16.0)\r\n",
      "Requirement already satisfied: joblib in /opt/conda/lib/python3.7/site-packages (from sacremoses->transformers) (1.1.0)\r\n",
      "Requirement already satisfied: click in /opt/conda/lib/python3.7/site-packages (from sacremoses->transformers) (8.0.4)\r\n",
      "\u001b[33mWARNING: Running pip as the 'root' user can result in broken permissions and conflicting behaviour with the system package manager. It is recommended to use a virtual environment instead: https://pip.pypa.io/warnings/venv\u001b[0m\u001b[33m\r\n",
      "\u001b[0mCollecting flair\r\n",
      "  Downloading flair-0.11.3-py3-none-any.whl (401 kB)\r\n",
      "\u001b[2K     \u001b[90m━━━━━━━━━━━━━━━━━━━━━━━━━━━━━━━━━━━━━\u001b[0m \u001b[32m401.9/401.9 kB\u001b[0m \u001b[31m666.3 kB/s\u001b[0m eta \u001b[36m0:00:00\u001b[0m\r\n",
      "\u001b[?25hRequirement already satisfied: transformers>=4.0.0 in /opt/conda/lib/python3.7/site-packages (from flair) (4.18.0)\r\n",
      "Requirement already satisfied: more-itertools in /opt/conda/lib/python3.7/site-packages (from flair) (8.13.0)\r\n",
      "Collecting segtok>=1.5.7\r\n",
      "  Downloading segtok-1.5.11-py3-none-any.whl (24 kB)\r\n",
      "Requirement already satisfied: janome in /opt/conda/lib/python3.7/site-packages (from flair) (0.4.2)\r\n",
      "Collecting deprecated>=1.2.4\r\n",
      "  Downloading Deprecated-1.2.13-py2.py3-none-any.whl (9.6 kB)\r\n",
      "Collecting langdetect\r\n",
      "  Downloading langdetect-1.0.9.tar.gz (981 kB)\r\n",
      "\u001b[2K     \u001b[90m━━━━━━━━━━━━━━━━━━━━━━━━━━━━━━━━━━━━━━━\u001b[0m \u001b[32m981.5/981.5 kB\u001b[0m \u001b[31m3.7 MB/s\u001b[0m eta \u001b[36m0:00:00\u001b[0m\r\n",
      "\u001b[?25h  Preparing metadata (setup.py) ... \u001b[?25l-\b \bdone\r\n",
      "\u001b[?25hRequirement already satisfied: tqdm>=4.26.0 in /opt/conda/lib/python3.7/site-packages (from flair) (4.64.0)\r\n",
      "Requirement already satisfied: hyperopt>=0.2.7 in /opt/conda/lib/python3.7/site-packages (from flair) (0.2.7)\r\n",
      "Requirement already satisfied: matplotlib>=2.2.3 in /opt/conda/lib/python3.7/site-packages (from flair) (3.5.2)\r\n",
      "Collecting mpld3==0.3\r\n",
      "  Downloading mpld3-0.3.tar.gz (788 kB)\r\n",
      "\u001b[2K     \u001b[90m━━━━━━━━━━━━━━━━━━━━━━━━━━━━━━━━━━━━━━\u001b[0m \u001b[32m788.5/788.5 kB\u001b[0m \u001b[31m11.7 MB/s\u001b[0m eta \u001b[36m0:00:00\u001b[0m\r\n",
      "\u001b[?25h  Preparing metadata (setup.py) ... \u001b[?25l-\b \bdone\r\n",
      "\u001b[?25hCollecting sqlitedict>=1.6.0\r\n",
      "  Downloading sqlitedict-2.0.0.tar.gz (46 kB)\r\n",
      "\u001b[2K     \u001b[90m━━━━━━━━━━━━━━━━━━━━━━━━━━━━━━━━━━━━━━━━\u001b[0m \u001b[32m46.3/46.3 kB\u001b[0m \u001b[31m3.7 MB/s\u001b[0m eta \u001b[36m0:00:00\u001b[0m\r\n",
      "\u001b[?25h  Preparing metadata (setup.py) ... \u001b[?25l-\b \bdone\r\n",
      "\u001b[?25hCollecting ftfy\r\n",
      "  Downloading ftfy-6.1.1-py3-none-any.whl (53 kB)\r\n",
      "\u001b[2K     \u001b[90m━━━━━━━━━━━━━━━━━━━━━━━━━━━━━━━━━━━━━━━━\u001b[0m \u001b[32m53.1/53.1 kB\u001b[0m \u001b[31m3.8 MB/s\u001b[0m eta \u001b[36m0:00:00\u001b[0m\r\n",
      "\u001b[?25hRequirement already satisfied: scikit-learn>=0.21.3 in /opt/conda/lib/python3.7/site-packages (from flair) (1.0.2)\r\n",
      "Collecting bpemb>=0.3.2\r\n",
      "  Downloading bpemb-0.3.3-py3-none-any.whl (19 kB)\r\n",
      "Requirement already satisfied: regex in /opt/conda/lib/python3.7/site-packages (from flair) (2021.11.10)\r\n",
      "Requirement already satisfied: torch!=1.8,>=1.5.0 in /opt/conda/lib/python3.7/site-packages (from flair) (1.11.0+cpu)\r\n",
      "Requirement already satisfied: huggingface-hub in /opt/conda/lib/python3.7/site-packages (from flair) (0.5.1)\r\n",
      "Requirement already satisfied: python-dateutil>=2.6.1 in /opt/conda/lib/python3.7/site-packages (from flair) (2.8.2)\r\n",
      "Collecting gdown==4.4.0\r\n",
      "  Downloading gdown-4.4.0.tar.gz (14 kB)\r\n",
      "  Installing build dependencies ... \u001b[?25l-\b \b\\\b \b|\b \b/\b \b-\b \b\\\b \bdone\r\n",
      "\u001b[?25h  Getting requirements to build wheel ... \u001b[?25l-\b \b\\\b \b|\b \b/\b \b-\b \b\\\b \bdone\r\n",
      "\u001b[?25h  Preparing metadata (pyproject.toml) ... \u001b[?25l-\b \b\\\b \b|\b \b/\b \b-\b \b\\\b \b|\b \bdone\r\n",
      "\u001b[?25hCollecting pptree\r\n",
      "  Downloading pptree-3.1.tar.gz (3.0 kB)\r\n",
      "  Preparing metadata (setup.py) ... \u001b[?25l-\b \bdone\r\n",
      "\u001b[?25hCollecting wikipedia-api\r\n",
      "  Downloading Wikipedia-API-0.5.4.tar.gz (18 kB)\r\n",
      "  Preparing metadata (setup.py) ... \u001b[?25l-\b \bdone\r\n",
      "\u001b[?25hCollecting sentencepiece==0.1.95\r\n",
      "  Downloading sentencepiece-0.1.95-cp37-cp37m-manylinux2014_x86_64.whl (1.2 MB)\r\n",
      "\u001b[2K     \u001b[90m━━━━━━━━━━━━━━━━━━━━━━━━━━━━━━━━━━━━━━━━\u001b[0m \u001b[32m1.2/1.2 MB\u001b[0m \u001b[31m14.7 MB/s\u001b[0m eta \u001b[36m0:00:00\u001b[0m\r\n",
      "\u001b[?25hRequirement already satisfied: lxml in /opt/conda/lib/python3.7/site-packages (from flair) (4.8.0)\r\n",
      "Requirement already satisfied: tabulate in /opt/conda/lib/python3.7/site-packages (from flair) (0.8.9)\r\n",
      "Collecting konoha<5.0.0,>=4.0.0\r\n",
      "  Downloading konoha-4.6.5-py3-none-any.whl (20 kB)\r\n",
      "Requirement already satisfied: gensim>=3.4.0 in /opt/conda/lib/python3.7/site-packages (from flair) (4.0.1)\r\n",
      "Collecting conllu>=4.0\r\n",
      "  Downloading conllu-4.4.2-py2.py3-none-any.whl (15 kB)\r\n",
      "Requirement already satisfied: six in /opt/conda/lib/python3.7/site-packages (from gdown==4.4.0->flair) (1.16.0)\r\n",
      "Requirement already satisfied: filelock in /opt/conda/lib/python3.7/site-packages (from gdown==4.4.0->flair) (3.6.0)\r\n",
      "Requirement already satisfied: requests[socks] in /opt/conda/lib/python3.7/site-packages (from gdown==4.4.0->flair) (2.27.1)\r\n",
      "Requirement already satisfied: beautifulsoup4 in /opt/conda/lib/python3.7/site-packages (from gdown==4.4.0->flair) (4.11.1)\r\n",
      "Requirement already satisfied: numpy in /opt/conda/lib/python3.7/site-packages (from bpemb>=0.3.2->flair) (1.21.6)\r\n",
      "Requirement already satisfied: wrapt<2,>=1.10 in /opt/conda/lib/python3.7/site-packages (from deprecated>=1.2.4->flair) (1.14.1)\r\n",
      "Requirement already satisfied: smart-open>=1.8.1 in /opt/conda/lib/python3.7/site-packages (from gensim>=3.4.0->flair) (5.2.1)\r\n",
      "Requirement already satisfied: scipy>=0.18.1 in /opt/conda/lib/python3.7/site-packages (from gensim>=3.4.0->flair) (1.7.3)\r\n",
      "Requirement already satisfied: future in /opt/conda/lib/python3.7/site-packages (from hyperopt>=0.2.7->flair) (0.18.2)\r\n",
      "Requirement already satisfied: networkx>=2.2 in /opt/conda/lib/python3.7/site-packages (from hyperopt>=0.2.7->flair) (2.5)\r\n",
      "Requirement already satisfied: cloudpickle in /opt/conda/lib/python3.7/site-packages (from hyperopt>=0.2.7->flair) (2.0.0)\r\n",
      "Requirement already satisfied: py4j in /opt/conda/lib/python3.7/site-packages (from hyperopt>=0.2.7->flair) (0.10.9.5)\r\n",
      "Collecting overrides<4.0.0,>=3.0.0\r\n",
      "  Downloading overrides-3.1.0.tar.gz (11 kB)\r\n",
      "  Preparing metadata (setup.py) ... \u001b[?25l-\b \bdone\r\n",
      "\u001b[?25hCollecting importlib-metadata<4.0.0,>=3.7.0\r\n",
      "  Downloading importlib_metadata-3.10.1-py3-none-any.whl (14 kB)\r\n",
      "Requirement already satisfied: pyparsing>=2.2.1 in /opt/conda/lib/python3.7/site-packages (from matplotlib>=2.2.3->flair) (3.0.9)\r\n",
      "Requirement already satisfied: fonttools>=4.22.0 in /opt/conda/lib/python3.7/site-packages (from matplotlib>=2.2.3->flair) (4.33.3)\r\n",
      "Requirement already satisfied: pillow>=6.2.0 in /opt/conda/lib/python3.7/site-packages (from matplotlib>=2.2.3->flair) (9.1.0)\r\n",
      "Requirement already satisfied: kiwisolver>=1.0.1 in /opt/conda/lib/python3.7/site-packages (from matplotlib>=2.2.3->flair) (1.4.2)\r\n",
      "Requirement already satisfied: packaging>=20.0 in /opt/conda/lib/python3.7/site-packages (from matplotlib>=2.2.3->flair) (21.3)\r\n",
      "Requirement already satisfied: cycler>=0.10 in /opt/conda/lib/python3.7/site-packages (from matplotlib>=2.2.3->flair) (0.11.0)\r\n",
      "Requirement already satisfied: threadpoolctl>=2.0.0 in /opt/conda/lib/python3.7/site-packages (from scikit-learn>=0.21.3->flair) (3.1.0)\r\n",
      "Requirement already satisfied: joblib>=0.11 in /opt/conda/lib/python3.7/site-packages (from scikit-learn>=0.21.3->flair) (1.1.0)\r\n",
      "Requirement already satisfied: typing-extensions in /opt/conda/lib/python3.7/site-packages (from torch!=1.8,>=1.5.0->flair) (4.2.0)\r\n",
      "Requirement already satisfied: tokenizers!=0.11.3,<0.13,>=0.11.1 in /opt/conda/lib/python3.7/site-packages (from transformers>=4.0.0->flair) (0.12.1)\r\n",
      "Requirement already satisfied: pyyaml>=5.1 in /opt/conda/lib/python3.7/site-packages (from transformers>=4.0.0->flair) (6.0)\r\n",
      "Requirement already satisfied: sacremoses in /opt/conda/lib/python3.7/site-packages (from transformers>=4.0.0->flair) (0.0.53)\r\n",
      "Requirement already satisfied: wcwidth>=0.2.5 in /opt/conda/lib/python3.7/site-packages (from ftfy->flair) (0.2.5)\r\n",
      "Requirement already satisfied: zipp>=0.5 in /opt/conda/lib/python3.7/site-packages (from importlib-metadata<4.0.0,>=3.7.0->konoha<5.0.0,>=4.0.0->flair) (3.8.0)\r\n",
      "Requirement already satisfied: decorator>=4.3.0 in /opt/conda/lib/python3.7/site-packages (from networkx>=2.2->hyperopt>=0.2.7->flair) (5.1.1)\r\n",
      "Requirement already satisfied: urllib3<1.27,>=1.21.1 in /opt/conda/lib/python3.7/site-packages (from requests[socks]->gdown==4.4.0->flair) (1.26.9)\r\n",
      "Requirement already satisfied: idna<4,>=2.5 in /opt/conda/lib/python3.7/site-packages (from requests[socks]->gdown==4.4.0->flair) (3.3)\r\n",
      "Requirement already satisfied: charset-normalizer~=2.0.0 in /opt/conda/lib/python3.7/site-packages (from requests[socks]->gdown==4.4.0->flair) (2.0.12)\r\n",
      "Requirement already satisfied: certifi>=2017.4.17 in /opt/conda/lib/python3.7/site-packages (from requests[socks]->gdown==4.4.0->flair) (2022.5.18.1)\r\n",
      "Requirement already satisfied: soupsieve>1.2 in /opt/conda/lib/python3.7/site-packages (from beautifulsoup4->gdown==4.4.0->flair) (2.3.1)\r\n",
      "Requirement already satisfied: PySocks!=1.5.7,>=1.5.6 in /opt/conda/lib/python3.7/site-packages (from requests[socks]->gdown==4.4.0->flair) (1.7.1)\r\n",
      "Requirement already satisfied: click in /opt/conda/lib/python3.7/site-packages (from sacremoses->transformers>=4.0.0->flair) (8.0.4)\r\n",
      "Building wheels for collected packages: gdown, mpld3, sqlitedict, langdetect, pptree, wikipedia-api, overrides\r\n",
      "  Building wheel for gdown (pyproject.toml) ... \u001b[?25l-\b \b\\\b \b|\b \b/\b \b-\b \b\\\b \b|\b \b/\b \b-\b \bdone\r\n",
      "\u001b[?25h  Created wheel for gdown: filename=gdown-4.4.0-py3-none-any.whl size=14759 sha256=4e3dfb72d6144ad97d2e95a3d02c3a38ed61356cfb45ac2b2bf54a98ecf61eac\r\n",
      "  Stored in directory: /root/.cache/pip/wheels/fb/c3/0e/c4d8ff8bfcb0461afff199471449f642179b74968c15b7a69c\r\n",
      "  Building wheel for mpld3 (setup.py) ... \u001b[?25l-\b \b\\\b \bdone\r\n",
      "\u001b[?25h  Created wheel for mpld3: filename=mpld3-0.3-py3-none-any.whl size=116702 sha256=bd1a2e2fb6d37ced52e27a43a03510ccdd37579143dee66693fa30795385a22f\r\n",
      "  Stored in directory: /root/.cache/pip/wheels/26/70/6a/1c79e59951a41b4045497da187b2724f5659ca64033cf4548e\r\n",
      "  Building wheel for sqlitedict (setup.py) ... \u001b[?25l-\b \bdone\r\n",
      "\u001b[?25h  Created wheel for sqlitedict: filename=sqlitedict-2.0.0-py3-none-any.whl size=15736 sha256=c07cdfcf1f6d95ba10ccaf482f024e9a46531191fbdce5b62da4bc4fe068891c\r\n",
      "  Stored in directory: /root/.cache/pip/wheels/96/dd/2e/0ed4a25cb73fc30c7ea8d10b50acb7226175736067e40a7ea3\r\n",
      "  Building wheel for langdetect (setup.py) ... \u001b[?25l-\b \b\\\b \b|\b \b/\b \bdone\r\n",
      "\u001b[?25h  Created wheel for langdetect: filename=langdetect-1.0.9-py3-none-any.whl size=993242 sha256=08f115bb367b62f46a827a1f9f61efb12e2bfb661078eb245f56689d36377f23\r\n",
      "  Stored in directory: /root/.cache/pip/wheels/c5/96/8a/f90c59ed25d75e50a8c10a1b1c2d4c402e4dacfa87f3aff36a\r\n",
      "  Building wheel for pptree (setup.py) ... \u001b[?25l-\b \b\\\b \bdone\r\n",
      "\u001b[?25h  Created wheel for pptree: filename=pptree-3.1-py3-none-any.whl size=4629 sha256=031d2d001e4c44d23ae0426197900c10f98db765ffbd19c513e72afbbc15d7af\r\n",
      "  Stored in directory: /root/.cache/pip/wheels/9e/e8/7d/a9c3c19b4722608a0d8b05a38c36bc3f230c43becd2a46794b\r\n",
      "  Building wheel for wikipedia-api (setup.py) ... \u001b[?25l-\b \b\\\b \bdone\r\n",
      "\u001b[?25h  Created wheel for wikipedia-api: filename=Wikipedia_API-0.5.4-py3-none-any.whl size=13477 sha256=47d4615f93f25de366e128978c7fec7f865c7f2580d91fa9bf691a69955510d9\r\n",
      "  Stored in directory: /root/.cache/pip/wheels/d3/24/56/58ba93cf78be162451144e7a9889603f437976ef1ae7013d04\r\n",
      "  Building wheel for overrides (setup.py) ... \u001b[?25l-\b \b\\\b \bdone\r\n",
      "\u001b[?25h  Created wheel for overrides: filename=overrides-3.1.0-py3-none-any.whl size=10187 sha256=ba2c778d8aef8a8a7f1b53926060521f5e29e3f9f39833e85226a7784b41c59a\r\n",
      "  Stored in directory: /root/.cache/pip/wheels/3a/0d/38/01a9bc6e20dcfaf0a6a7b552d03137558ba1c38aea47644682\r\n",
      "Successfully built gdown mpld3 sqlitedict langdetect pptree wikipedia-api overrides\r\n",
      "Installing collected packages: sqlitedict, sentencepiece, pptree, overrides, mpld3, segtok, langdetect, importlib-metadata, ftfy, deprecated, conllu, wikipedia-api, konoha, gdown, bpemb, flair\r\n",
      "  Attempting uninstall: sentencepiece\r\n",
      "    Found existing installation: sentencepiece 0.1.96\r\n",
      "    Uninstalling sentencepiece-0.1.96:\r\n",
      "      Successfully uninstalled sentencepiece-0.1.96\r\n",
      "  Attempting uninstall: overrides\r\n",
      "    Found existing installation: overrides 6.1.0\r\n",
      "    Uninstalling overrides-6.1.0:\r\n",
      "      Successfully uninstalled overrides-6.1.0\r\n",
      "  Attempting uninstall: mpld3\r\n",
      "    Found existing installation: mpld3 0.5.7\r\n",
      "    Uninstalling mpld3-0.5.7:\r\n",
      "      Successfully uninstalled mpld3-0.5.7\r\n",
      "  Attempting uninstall: importlib-metadata\r\n",
      "    Found existing installation: importlib-metadata 4.11.4\r\n",
      "    Uninstalling importlib-metadata-4.11.4:\r\n",
      "      Successfully uninstalled importlib-metadata-4.11.4\r\n",
      "\u001b[31mERROR: pip's dependency resolver does not currently take into account all the packages that are installed. This behaviour is the source of the following dependency conflicts.\r\n",
      "markdown 3.3.7 requires importlib-metadata>=4.4; python_version < \"3.10\", but you have importlib-metadata 3.10.1 which is incompatible.\r\n",
      "ibis-framework 2.1.1 requires importlib-metadata<5,>=4; python_version < \"3.8\", but you have importlib-metadata 3.10.1 which is incompatible.\r\n",
      "gym 0.23.1 requires importlib-metadata>=4.10.0; python_version < \"3.10\", but you have importlib-metadata 3.10.1 which is incompatible.\r\n",
      "google-cloud-pubsublite 1.4.2 requires overrides<7.0.0,>=6.0.1, but you have overrides 3.1.0 which is incompatible.\u001b[0m\u001b[31m\r\n",
      "\u001b[0mSuccessfully installed bpemb-0.3.3 conllu-4.4.2 deprecated-1.2.13 flair-0.11.3 ftfy-6.1.1 gdown-4.4.0 importlib-metadata-3.10.1 konoha-4.6.5 langdetect-1.0.9 mpld3-0.3 overrides-3.1.0 pptree-3.1 segtok-1.5.11 sentencepiece-0.1.95 sqlitedict-2.0.0 wikipedia-api-0.5.4\r\n",
      "\u001b[33mWARNING: Running pip as the 'root' user can result in broken permissions and conflicting behaviour with the system package manager. It is recommended to use a virtual environment instead: https://pip.pypa.io/warnings/venv\u001b[0m\u001b[33m\r\n",
      "\u001b[0m"
     ]
    }
   ],
   "source": [
    "!pip3 install Cython\n",
    "!pip install transformers\n",
    "!pip install flair"
   ]
  },
  {
   "cell_type": "code",
   "execution_count": 33,
   "id": "91c92ecb",
   "metadata": {
    "execution": {
     "iopub.execute_input": "2022-06-06T15:24:11.473641Z",
     "iopub.status.busy": "2022-06-06T15:24:11.473200Z",
     "iopub.status.idle": "2022-06-06T15:24:17.709025Z",
     "shell.execute_reply": "2022-06-06T15:24:17.707978Z"
    },
    "papermill": {
     "duration": 6.281662,
     "end_time": "2022-06-06T15:24:17.711610",
     "exception": false,
     "start_time": "2022-06-06T15:24:11.429948",
     "status": "completed"
    },
    "tags": []
   },
   "outputs": [],
   "source": [
    "import spacy\n",
    "from spacy import displacy\n",
    "from collections import Counter\n",
    "import en_core_web_sm\n",
    "nlp = en_core_web_sm.load()"
   ]
  },
  {
   "cell_type": "code",
   "execution_count": 34,
   "id": "31241a28",
   "metadata": {
    "execution": {
     "iopub.execute_input": "2022-06-06T15:24:17.800842Z",
     "iopub.status.busy": "2022-06-06T15:24:17.800392Z",
     "iopub.status.idle": "2022-06-06T15:24:18.338905Z",
     "shell.execute_reply": "2022-06-06T15:24:18.337664Z"
    },
    "papermill": {
     "duration": 0.58648,
     "end_time": "2022-06-06T15:24:18.341379",
     "exception": false,
     "start_time": "2022-06-06T15:24:17.754899",
     "status": "completed"
    },
    "tags": []
   },
   "outputs": [
    {
     "data": {
      "text/html": [
       "<div>\n",
       "<style scoped>\n",
       "    .dataframe tbody tr th:only-of-type {\n",
       "        vertical-align: middle;\n",
       "    }\n",
       "\n",
       "    .dataframe tbody tr th {\n",
       "        vertical-align: top;\n",
       "    }\n",
       "\n",
       "    .dataframe thead th {\n",
       "        text-align: right;\n",
       "    }\n",
       "</style>\n",
       "<table border=\"1\" class=\"dataframe\">\n",
       "  <thead>\n",
       "    <tr style=\"text-align: right;\">\n",
       "      <th></th>\n",
       "      <th>entities</th>\n",
       "      <th>start_char</th>\n",
       "      <th>end_char</th>\n",
       "      <th>label</th>\n",
       "      <th>explain</th>\n",
       "      <th>frequency</th>\n",
       "    </tr>\n",
       "  </thead>\n",
       "  <tbody>\n",
       "    <tr>\n",
       "      <th>0</th>\n",
       "      <td>Anne H Elliott</td>\n",
       "      <td>11</td>\n",
       "      <td>25</td>\n",
       "      <td>PERSON</td>\n",
       "      <td>People, including fictional</td>\n",
       "      <td></td>\n",
       "    </tr>\n",
       "    <tr>\n",
       "      <th>1</th>\n",
       "      <td>Amnesty</td>\n",
       "      <td>54</td>\n",
       "      <td>61</td>\n",
       "      <td>ORG</td>\n",
       "      <td>Companies, agencies, institutions, etc.</td>\n",
       "      <td></td>\n",
       "    </tr>\n",
       "    <tr>\n",
       "      <th>2</th>\n",
       "      <td>Andrew Johnson</td>\n",
       "      <td>82</td>\n",
       "      <td>96</td>\n",
       "      <td>PERSON</td>\n",
       "      <td>People, including fictional</td>\n",
       "      <td></td>\n",
       "    </tr>\n",
       "    <tr>\n",
       "      <th>3</th>\n",
       "      <td>United States of America</td>\n",
       "      <td>110</td>\n",
       "      <td>134</td>\n",
       "      <td>GPE</td>\n",
       "      <td>Countries, cities, states</td>\n",
       "      <td></td>\n",
       "    </tr>\n",
       "    <tr>\n",
       "      <th>4</th>\n",
       "      <td>May 29th 1865</td>\n",
       "      <td>135</td>\n",
       "      <td>148</td>\n",
       "      <td>DATE</td>\n",
       "      <td>Absolute or relative dates or periods</td>\n",
       "      <td></td>\n",
       "    </tr>\n",
       "  </tbody>\n",
       "</table>\n",
       "</div>"
      ],
      "text/plain": [
       "                   entities  start_char  end_char   label  \\\n",
       "0            Anne H Elliott          11        25  PERSON   \n",
       "1                   Amnesty          54        61     ORG   \n",
       "2            Andrew Johnson          82        96  PERSON   \n",
       "3  United States of America         110       134     GPE   \n",
       "4             May 29th 1865         135       148    DATE   \n",
       "\n",
       "                                   explain frequency  \n",
       "0              People, including fictional            \n",
       "1  Companies, agencies, institutions, etc.            \n",
       "2              People, including fictional            \n",
       "3                Countries, cities, states            \n",
       "4    Absolute or relative dates or periods            "
      ]
     },
     "execution_count": 34,
     "metadata": {},
     "output_type": "execute_result"
    }
   ],
   "source": [
    "L1=[]\n",
    "def NER (txt):\n",
    "    for i in range(20):\n",
    "        nlp_text=nlp(txt[i])\n",
    "        L1.append([(word.text, word.start_char, word.end_char, word.label_,spacy.explain(word.label_)) for word in nlp_text.ents])\n",
    "        \n",
    "NER(text)\n",
    "l0=[]\n",
    "l1=[]\n",
    "l2=[]\n",
    "l3=[]\n",
    "l4=[]\n",
    "l5=[]\n",
    "for i in range(len(L1)):\n",
    "    for j in range(len(L1[i])):\n",
    "        l0.append(L1[i][j][0])\n",
    "        l2.append(L1[i][j][1])\n",
    "        l3.append(L1[i][j][2])\n",
    "        l4.append(L1[i][j][3])\n",
    "        l5.append(L1[i][j][4])\n",
    "\n",
    "df1=pd.DataFrame({\"entities\":l0,\"start_char\":l2,\"end_char\":l3 ,\"label\": l4, \"explain\": l5, \"frequency\":\"\"})\n",
    "df1.head()"
   ]
  },
  {
   "cell_type": "code",
   "execution_count": 35,
   "id": "2c63b053",
   "metadata": {
    "execution": {
     "iopub.execute_input": "2022-06-06T15:24:18.434089Z",
     "iopub.status.busy": "2022-06-06T15:24:18.433683Z",
     "iopub.status.idle": "2022-06-06T15:24:18.470860Z",
     "shell.execute_reply": "2022-06-06T15:24:18.469868Z"
    },
    "papermill": {
     "duration": 0.085034,
     "end_time": "2022-06-06T15:24:18.473302",
     "exception": false,
     "start_time": "2022-06-06T15:24:18.388268",
     "status": "completed"
    },
    "tags": []
   },
   "outputs": [],
   "source": [
    "Person=[]\n",
    "ORG=[]\n",
    "DATE=[]\n",
    "GPE=[]\n",
    "\n",
    "for i in range(df1.shape[0]):\n",
    "    if df1.label.loc[i]==\"PERSON\":\n",
    "        Person.append(df1.entities.loc[i])\n",
    "    elif df1.label.loc[i]==\"ORG\" :\n",
    "        ORG.append(df1.entities.loc[i])\n",
    "    elif df1.label.loc[i]==\"DATE\" :\n",
    "        DATE.append(df1.entities.loc[i])\n",
    "    elif df1.label.loc[i]==\"GPE\" :\n",
    "        GPE.append(df1.entities.loc[i])\n",
    "GPE=np.array(GPE)\n",
    "ORG=np.array(ORG)\n",
    "Person=np.array(Person)\n",
    "DATE=np.array(DATE)"
   ]
  },
  {
   "cell_type": "code",
   "execution_count": 36,
   "id": "73e5bc3d",
   "metadata": {
    "execution": {
     "iopub.execute_input": "2022-06-06T15:24:18.559822Z",
     "iopub.status.busy": "2022-06-06T15:24:18.559081Z",
     "iopub.status.idle": "2022-06-06T15:24:18.565864Z",
     "shell.execute_reply": "2022-06-06T15:24:18.564905Z"
    },
    "papermill": {
     "duration": 0.051778,
     "end_time": "2022-06-06T15:24:18.568032",
     "exception": false,
     "start_time": "2022-06-06T15:24:18.516254",
     "status": "completed"
    },
    "tags": []
   },
   "outputs": [
    {
     "data": {
      "text/plain": [
       "array(['May 29th 1865', '27th day', '1865', '27th day', '1865', '63 year',\n",
       "       'May 29th 1865', '28 day', '28 day', 'May 47 PM', '39 year',\n",
       "       'May 29th 1865', '31 day', '1865', 'No1984', '31 day', '1865',\n",
       "       '31st day', 'August 24 1865', 'May 29th 1865',\n",
       "       '3 day of August 1865', 'May 4', '3 day', '1865', 'May 29th 1865',\n",
       "       '16th day', '1474', '16th day', 'May 29th 1865',\n",
       "       '16 day of October 1865', '16 day of October 1865', 'July 22',\n",
       "       'July 22', '1867', 'May 29th 1865', '6 day', '6 day',\n",
       "       '29th day of September 1865', 'Age 24 year', 'Sept 29th 1865',\n",
       "       '29th day', 'May 29th 1865', '7th day of September',\n",
       "       '7th day of September', '20th day of August 1865',\n",
       "       '20th day of August 1865', 'August 29th 1865',\n",
       "       '22nd day of August 1865', 'Miss 31st day', '1865 1865', '31 day',\n",
       "       '1865'], dtype='<U26')"
      ]
     },
     "execution_count": 36,
     "metadata": {},
     "output_type": "execute_result"
    }
   ],
   "source": [
    "DATE"
   ]
  },
  {
   "cell_type": "code",
   "execution_count": 37,
   "id": "26d4eddf",
   "metadata": {
    "execution": {
     "iopub.execute_input": "2022-06-06T15:24:18.656626Z",
     "iopub.status.busy": "2022-06-06T15:24:18.655844Z",
     "iopub.status.idle": "2022-06-06T15:24:18.662196Z",
     "shell.execute_reply": "2022-06-06T15:24:18.661405Z"
    },
    "papermill": {
     "duration": 0.052174,
     "end_time": "2022-06-06T15:24:18.664348",
     "exception": false,
     "start_time": "2022-06-06T15:24:18.612174",
     "status": "completed"
    },
    "tags": []
   },
   "outputs": [
    {
     "data": {
      "text/plain": [
       "41"
      ]
     },
     "execution_count": 37,
     "metadata": {},
     "output_type": "execute_result"
    }
   ],
   "source": [
    "len(Person)"
   ]
  },
  {
   "cell_type": "code",
   "execution_count": 38,
   "id": "b46ac3d4",
   "metadata": {
    "execution": {
     "iopub.execute_input": "2022-06-06T15:24:18.751336Z",
     "iopub.status.busy": "2022-06-06T15:24:18.750555Z",
     "iopub.status.idle": "2022-06-06T15:24:18.757732Z",
     "shell.execute_reply": "2022-06-06T15:24:18.756873Z"
    },
    "papermill": {
     "duration": 0.053003,
     "end_time": "2022-06-06T15:24:18.759730",
     "exception": false,
     "start_time": "2022-06-06T15:24:18.706727",
     "status": "completed"
    },
    "tags": []
   },
   "outputs": [
    {
     "data": {
      "text/plain": [
       "array(['Anne H Elliott', 'Andrew Johnson', 'Hazel', 'Whaley',\n",
       "       'Andrew Johnson', 'Copy Levi Steuben', 'Hu Kennedy',\n",
       "       'Amnesty Oath Administered At', 'Hiserodt', 'William Whaley Sworn',\n",
       "       'William Whaley Sworn', 'Brown', 'Charleston Sc',\n",
       "       'JF Steinmeyer Sworn', 'Charleston Sc', 'Gry', 'Joseph Edings',\n",
       "       'Thomas Andrew Oath of', 'Jacob Schroder Sworn', 'Walhalla',\n",
       "       'Walhalla', 'Bray Lieut', 'Laborer', 'Characteristics',\n",
       "       'Amnesty Oath', 'Woodville Wilkinson', 'Frank Conner',\n",
       "       'Triplicate AMNESTY', 'Hiram Smith', 'Hiram Smith',\n",
       "       'Pass Christian', 'Captn', 'Amnesty Oath', 'Hiram Smith',\n",
       "       'Captn Commanding', 'Robert A',\n",
       "       'James D Kendall Amnesty Oath Administered At Oacen Springs',\n",
       "       'Gibbs Henderson', 'City Miss', 'Amnesty Oath', 'Frank E Miller'],\n",
       "      dtype='<U58')"
      ]
     },
     "execution_count": 38,
     "metadata": {},
     "output_type": "execute_result"
    }
   ],
   "source": [
    "Person"
   ]
  },
  {
   "cell_type": "markdown",
   "id": "5efd0c43",
   "metadata": {
    "papermill": {
     "duration": 0.04236,
     "end_time": "2022-06-06T15:24:18.844343",
     "exception": false,
     "start_time": "2022-06-06T15:24:18.801983",
     "status": "completed"
    },
    "tags": []
   },
   "source": [
    "# Hugging face  : Flair"
   ]
  },
  {
   "cell_type": "markdown",
   "id": "8252a719",
   "metadata": {
    "papermill": {
     "duration": 0.042599,
     "end_time": "2022-06-06T15:24:18.929361",
     "exception": false,
     "start_time": "2022-06-06T15:24:18.886762",
     "status": "completed"
    },
    "tags": []
   },
   "source": [
    "**ner-english** "
   ]
  },
  {
   "cell_type": "code",
   "execution_count": 39,
   "id": "6801fc94",
   "metadata": {
    "execution": {
     "iopub.execute_input": "2022-06-06T15:24:19.019241Z",
     "iopub.status.busy": "2022-06-06T15:24:19.018613Z",
     "iopub.status.idle": "2022-06-06T15:24:22.458910Z",
     "shell.execute_reply": "2022-06-06T15:24:22.457819Z"
    },
    "papermill": {
     "duration": 3.489313,
     "end_time": "2022-06-06T15:24:22.461698",
     "exception": false,
     "start_time": "2022-06-06T15:24:18.972385",
     "status": "completed"
    },
    "tags": []
   },
   "outputs": [
    {
     "name": "stdout",
     "output_type": "stream",
     "text": [
      "git: 'lfs' is not a git command. See 'git --help'.\r\n",
      "\r\n",
      "The most similar command is\r\n",
      "\tlog\r\n",
      "Cloning into 'ner-english-large'...\r\n",
      "remote: Enumerating objects: 25, done.\u001b[K\r\n",
      "remote: Counting objects: 100% (25/25), done.\u001b[K\r\n",
      "remote: Compressing objects: 100% (24/24), done.\u001b[K\r\n",
      "remote: Total 25 (delta 10), reused 0 (delta 0), pack-reused 0\r\n",
      "Unpacking objects: 100% (25/25), 11.03 KiB | 940.00 KiB/s, done.\r\n"
     ]
    }
   ],
   "source": [
    "!git lfs install\n",
    "!git clone https://huggingface.co/flair/ner-english-large"
   ]
  },
  {
   "cell_type": "code",
   "execution_count": 40,
   "id": "9fb59a82",
   "metadata": {
    "execution": {
     "iopub.execute_input": "2022-06-06T15:24:22.549587Z",
     "iopub.status.busy": "2022-06-06T15:24:22.548944Z",
     "iopub.status.idle": "2022-06-06T15:28:09.141453Z",
     "shell.execute_reply": "2022-06-06T15:28:09.139713Z"
    },
    "papermill": {
     "duration": 226.640434,
     "end_time": "2022-06-06T15:28:09.144797",
     "exception": false,
     "start_time": "2022-06-06T15:24:22.504363",
     "status": "completed"
    },
    "tags": []
   },
   "outputs": [
    {
     "data": {
      "application/vnd.jupyter.widget-view+json": {
       "model_id": "31346c30b2984b838248d818128b51d0",
       "version_major": 2,
       "version_minor": 0
      },
      "text/plain": [
       "Downloading:   0%|          | 0.00/2.24G [00:00<?, ?B/s]"
      ]
     },
     "metadata": {},
     "output_type": "display_data"
    },
    {
     "name": "stdout",
     "output_type": "stream",
     "text": [
      "2022-06-06 15:27:29,827 loading file /root/.flair/models/ner-english-ontonotes-large/2da6c2cdd76e59113033adf670340bfd820f0301ae2e39204d67ba2dc276cc28.ec1bdb304b6c66111532c3b1fc6e522460ae73f1901848a4d0362cdf9760edb1\n"
     ]
    },
    {
     "data": {
      "application/vnd.jupyter.widget-view+json": {
       "model_id": "4ebe97fe3b1d4a75aa6f5ce6bc98b799",
       "version_major": 2,
       "version_minor": 0
      },
      "text/plain": [
       "Downloading:   0%|          | 0.00/616 [00:00<?, ?B/s]"
      ]
     },
     "metadata": {},
     "output_type": "display_data"
    },
    {
     "data": {
      "application/vnd.jupyter.widget-view+json": {
       "model_id": "29d657f7775d46d7992cbee0dfbd3ea9",
       "version_major": 2,
       "version_minor": 0
      },
      "text/plain": [
       "Downloading:   0%|          | 0.00/4.83M [00:00<?, ?B/s]"
      ]
     },
     "metadata": {},
     "output_type": "display_data"
    },
    {
     "data": {
      "application/vnd.jupyter.widget-view+json": {
       "model_id": "40020062c8eb4377a5d685df25a354c2",
       "version_major": 2,
       "version_minor": 0
      },
      "text/plain": [
       "Downloading:   0%|          | 0.00/8.68M [00:00<?, ?B/s]"
      ]
     },
     "metadata": {},
     "output_type": "display_data"
    },
    {
     "name": "stdout",
     "output_type": "stream",
     "text": [
      "2022-06-06 15:28:08,656 SequenceTagger predicts: Dictionary with 76 tags: <unk>, O, B-CARDINAL, E-CARDINAL, S-PERSON, S-CARDINAL, S-PRODUCT, B-PRODUCT, I-PRODUCT, E-PRODUCT, B-WORK_OF_ART, I-WORK_OF_ART, E-WORK_OF_ART, B-PERSON, E-PERSON, S-GPE, B-DATE, I-DATE, E-DATE, S-ORDINAL, S-LANGUAGE, I-PERSON, S-EVENT, S-DATE, B-QUANTITY, E-QUANTITY, S-TIME, B-TIME, I-TIME, E-TIME, B-GPE, E-GPE, S-ORG, I-GPE, S-NORP, B-FAC, I-FAC, E-FAC, B-NORP, E-NORP, S-PERCENT, B-ORG, E-ORG, B-LANGUAGE, E-LANGUAGE, I-CARDINAL, I-ORG, S-WORK_OF_ART, I-QUANTITY, B-MONEY\n"
     ]
    }
   ],
   "source": [
    "from flair.models import SequenceTagger\n",
    "\n",
    "tagger = SequenceTagger.load(\"flair/ner-english-ontonotes-large\")"
   ]
  },
  {
   "cell_type": "code",
   "execution_count": 41,
   "id": "5768449e",
   "metadata": {
    "execution": {
     "iopub.execute_input": "2022-06-06T15:28:09.234961Z",
     "iopub.status.busy": "2022-06-06T15:28:09.234507Z",
     "iopub.status.idle": "2022-06-06T15:28:52.785687Z",
     "shell.execute_reply": "2022-06-06T15:28:52.784724Z"
    },
    "papermill": {
     "duration": 43.600214,
     "end_time": "2022-06-06T15:28:52.788268",
     "exception": false,
     "start_time": "2022-06-06T15:28:09.188054",
     "status": "completed"
    },
    "tags": []
   },
   "outputs": [
    {
     "data": {
      "application/vnd.jupyter.widget-view+json": {
       "model_id": "e5271dcbfec047db9f1312f3b737a0e7",
       "version_major": 2,
       "version_minor": 0
      },
      "text/plain": [
       "Downloading:   0%|          | 0.00/432M [00:00<?, ?B/s]"
      ]
     },
     "metadata": {},
     "output_type": "display_data"
    },
    {
     "name": "stdout",
     "output_type": "stream",
     "text": [
      "2022-06-06 15:28:50,226 loading file /root/.flair/models/ner-english/4f4cdab26f24cb98b732b389e6cebc646c36f54cfd6e0b7d3b90b25656e4262f.8baa8ae8795f4df80b28e7f7b61d788ecbb057d1dc85aacb316f1bd02837a4a4\n",
      "2022-06-06 15:28:52,547 SequenceTagger predicts: Dictionary with 20 tags: <unk>, O, S-ORG, S-MISC, B-PER, E-PER, S-LOC, B-ORG, E-ORG, I-PER, S-PER, B-MISC, I-MISC, E-MISC, I-ORG, B-LOC, E-LOC, I-LOC, <START>, <STOP>\n"
     ]
    }
   ],
   "source": [
    "from flair.models import SequenceTagger\n",
    "\n",
    "tagger1 = SequenceTagger.load(\"flair/ner-english\")"
   ]
  },
  {
   "cell_type": "code",
   "execution_count": 42,
   "id": "1929a66c",
   "metadata": {
    "execution": {
     "iopub.execute_input": "2022-06-06T15:28:52.879822Z",
     "iopub.status.busy": "2022-06-06T15:28:52.879407Z",
     "iopub.status.idle": "2022-06-06T15:32:22.323906Z",
     "shell.execute_reply": "2022-06-06T15:32:22.323007Z"
    },
    "papermill": {
     "duration": 209.493059,
     "end_time": "2022-06-06T15:32:22.326394",
     "exception": false,
     "start_time": "2022-06-06T15:28:52.833335",
     "status": "completed"
    },
    "tags": []
   },
   "outputs": [
    {
     "data": {
      "application/vnd.jupyter.widget-view+json": {
       "model_id": "e411e5c118f448719872a168b1e7f46a",
       "version_major": 2,
       "version_minor": 0
      },
      "text/plain": [
       "Downloading:   0%|          | 0.00/2.24G [00:00<?, ?B/s]"
      ]
     },
     "metadata": {},
     "output_type": "display_data"
    },
    {
     "name": "stdout",
     "output_type": "stream",
     "text": [
      "2022-06-06 15:31:56,664 loading file /root/.flair/models/ner-english-large/07301f59bb8cb113803be316267f06ddf9243cdbba92a4c8067ef92442d2c574.554244d3476d97501a766a98078421817b14654496b86f2f7bd139dc502a4f29\n",
      "2022-06-06 15:32:21,840 SequenceTagger predicts: Dictionary with 20 tags: <unk>, O, S-ORG, S-MISC, B-PER, E-PER, S-LOC, B-ORG, E-ORG, I-PER, S-PER, B-MISC, I-MISC, E-MISC, I-ORG, B-LOC, E-LOC, I-LOC, <START>, <STOP>\n"
     ]
    }
   ],
   "source": [
    "from flair.models import SequenceTagger\n",
    "\n",
    "tagger2 = SequenceTagger.load(\"flair/ner-english-large\")"
   ]
  },
  {
   "cell_type": "code",
   "execution_count": 43,
   "id": "379e36f4",
   "metadata": {
    "execution": {
     "iopub.execute_input": "2022-06-06T15:32:22.418686Z",
     "iopub.status.busy": "2022-06-06T15:32:22.418037Z",
     "iopub.status.idle": "2022-06-06T15:32:47.842437Z",
     "shell.execute_reply": "2022-06-06T15:32:47.841417Z"
    },
    "papermill": {
     "duration": 25.473707,
     "end_time": "2022-06-06T15:32:47.845288",
     "exception": false,
     "start_time": "2022-06-06T15:32:22.371581",
     "status": "completed"
    },
    "tags": []
   },
   "outputs": [],
   "source": [
    "from flair.data import Sentence\n",
    "from flair.models import SequenceTagger\n",
    "T2=[]\n",
    "D2={}\n",
    "for i in range(20):\n",
    "        sentencess =Sentence(text[i])\n",
    "        tagger.predict(sentencess)\n",
    "        for entity in sentencess.get_spans('ner'):\n",
    "                     T2.append(entity)\n",
    "                     if (entity.get_label(\"ner\").score > 0.98) & (entity.get_label(\"ner\").value != \"CARDINAL\") & (entity.get_label(\"ner\").value != \"LAW\")& (entity.get_label(\"ner\").value != \"QUANTITY\") & (entity.get_label(\"ner\").value != \"WORK_OF_ART\") & (entity.get_label(\"ner\").value != \"LAW\")& (entity.get_label(\"ner\").value != \"QUANTITY\") & (entity.get_label(\"ner\").value != \"EVENT\")  :\n",
    "                         D2[entity.text]= entity.get_label(\"ner\").value"
   ]
  },
  {
   "cell_type": "code",
   "execution_count": 44,
   "id": "51b8958e",
   "metadata": {
    "execution": {
     "iopub.execute_input": "2022-06-06T15:32:47.937600Z",
     "iopub.status.busy": "2022-06-06T15:32:47.936958Z",
     "iopub.status.idle": "2022-06-06T15:34:19.689692Z",
     "shell.execute_reply": "2022-06-06T15:34:19.688512Z"
    },
    "papermill": {
     "duration": 91.801589,
     "end_time": "2022-06-06T15:34:19.692727",
     "exception": false,
     "start_time": "2022-06-06T15:32:47.891138",
     "status": "completed"
    },
    "tags": []
   },
   "outputs": [],
   "source": [
    "T3=[]\n",
    "D3={}\n",
    "\n",
    "for i in range(20):\n",
    "        sentencess =Sentence(text[i])\n",
    "        tagger1.predict(sentencess)\n",
    "        for entity in sentencess.get_spans('ner'):\n",
    "                     T3.append(entity)\n",
    "                     if (entity.get_label(\"ner\").score > 0.90)  :\n",
    "                         D3[entity.text]= entity.get_label(\"ner\").value"
   ]
  },
  {
   "cell_type": "code",
   "execution_count": 45,
   "id": "271cdc2e",
   "metadata": {
    "execution": {
     "iopub.execute_input": "2022-06-06T15:34:19.786254Z",
     "iopub.status.busy": "2022-06-06T15:34:19.785095Z",
     "iopub.status.idle": "2022-06-06T15:34:39.193861Z",
     "shell.execute_reply": "2022-06-06T15:34:39.192979Z"
    },
    "papermill": {
     "duration": 19.458057,
     "end_time": "2022-06-06T15:34:39.196385",
     "exception": false,
     "start_time": "2022-06-06T15:34:19.738328",
     "status": "completed"
    },
    "tags": []
   },
   "outputs": [],
   "source": [
    "T4=[]\n",
    "D4={}\n",
    "\n",
    "for i in range(20):\n",
    "        sentencess =Sentence(text[i])\n",
    "        tagger2.predict(sentencess)\n",
    "        for entity in sentencess.get_spans('ner'):\n",
    "                     T4.append(entity)\n",
    "                     if (entity.get_label(\"ner\").score > 0.90)  :\n",
    "                         D4[entity.text]= entity.get_label(\"ner\").value"
   ]
  },
  {
   "cell_type": "code",
   "execution_count": 46,
   "id": "015f51fa",
   "metadata": {
    "execution": {
     "iopub.execute_input": "2022-06-06T15:34:39.287102Z",
     "iopub.status.busy": "2022-06-06T15:34:39.286457Z",
     "iopub.status.idle": "2022-06-06T15:34:39.292663Z",
     "shell.execute_reply": "2022-06-06T15:34:39.291789Z"
    },
    "papermill": {
     "duration": 0.053512,
     "end_time": "2022-06-06T15:34:39.294944",
     "exception": false,
     "start_time": "2022-06-06T15:34:39.241432",
     "status": "completed"
    },
    "tags": []
   },
   "outputs": [
    {
     "data": {
      "text/plain": [
       "104"
      ]
     },
     "execution_count": 46,
     "metadata": {},
     "output_type": "execute_result"
    }
   ],
   "source": [
    "len(D2)"
   ]
  },
  {
   "cell_type": "code",
   "execution_count": 47,
   "id": "f7f131bd",
   "metadata": {
    "execution": {
     "iopub.execute_input": "2022-06-06T15:34:39.383674Z",
     "iopub.status.busy": "2022-06-06T15:34:39.383187Z",
     "iopub.status.idle": "2022-06-06T15:34:39.389977Z",
     "shell.execute_reply": "2022-06-06T15:34:39.388933Z"
    },
    "papermill": {
     "duration": 0.053854,
     "end_time": "2022-06-06T15:34:39.392138",
     "exception": false,
     "start_time": "2022-06-06T15:34:39.338284",
     "status": "completed"
    },
    "tags": []
   },
   "outputs": [
    {
     "data": {
      "text/plain": [
       "22"
      ]
     },
     "execution_count": 47,
     "metadata": {},
     "output_type": "execute_result"
    }
   ],
   "source": [
    "len(D3)"
   ]
  },
  {
   "cell_type": "code",
   "execution_count": 48,
   "id": "519fd7fe",
   "metadata": {
    "execution": {
     "iopub.execute_input": "2022-06-06T15:34:39.481380Z",
     "iopub.status.busy": "2022-06-06T15:34:39.480950Z",
     "iopub.status.idle": "2022-06-06T15:34:39.488241Z",
     "shell.execute_reply": "2022-06-06T15:34:39.487153Z"
    },
    "papermill": {
     "duration": 0.054541,
     "end_time": "2022-06-06T15:34:39.490699",
     "exception": false,
     "start_time": "2022-06-06T15:34:39.436158",
     "status": "completed"
    },
    "tags": []
   },
   "outputs": [
    {
     "data": {
      "text/plain": [
       "108"
      ]
     },
     "execution_count": 48,
     "metadata": {},
     "output_type": "execute_result"
    }
   ],
   "source": [
    "len(D4)"
   ]
  },
  {
   "cell_type": "code",
   "execution_count": 49,
   "id": "10ec6e32",
   "metadata": {
    "execution": {
     "iopub.execute_input": "2022-06-06T15:34:39.587849Z",
     "iopub.status.busy": "2022-06-06T15:34:39.586638Z",
     "iopub.status.idle": "2022-06-06T15:34:39.594716Z",
     "shell.execute_reply": "2022-06-06T15:34:39.593049Z"
    },
    "papermill": {
     "duration": 0.061956,
     "end_time": "2022-06-06T15:34:39.596890",
     "exception": false,
     "start_time": "2022-06-06T15:34:39.534934",
     "status": "completed"
    },
    "tags": []
   },
   "outputs": [],
   "source": [
    "ent=[]\n",
    "label=[]\n",
    "for i in D2 :\n",
    "    ent.append(i)\n",
    "    label.append(D2[i])"
   ]
  },
  {
   "cell_type": "code",
   "execution_count": 50,
   "id": "bbc11da2",
   "metadata": {
    "execution": {
     "iopub.execute_input": "2022-06-06T15:34:39.687608Z",
     "iopub.status.busy": "2022-06-06T15:34:39.686731Z",
     "iopub.status.idle": "2022-06-06T15:34:39.691515Z",
     "shell.execute_reply": "2022-06-06T15:34:39.690778Z"
    },
    "papermill": {
     "duration": 0.052113,
     "end_time": "2022-06-06T15:34:39.693620",
     "exception": false,
     "start_time": "2022-06-06T15:34:39.641507",
     "status": "completed"
    },
    "tags": []
   },
   "outputs": [],
   "source": [
    "ent1=[]\n",
    "label1=[]\n",
    "for i in D3 :\n",
    "    ent1.append(i)\n",
    "    label1.append(D3[i])"
   ]
  },
  {
   "cell_type": "code",
   "execution_count": 51,
   "id": "3c042378",
   "metadata": {
    "execution": {
     "iopub.execute_input": "2022-06-06T15:34:39.785703Z",
     "iopub.status.busy": "2022-06-06T15:34:39.785063Z",
     "iopub.status.idle": "2022-06-06T15:34:39.789878Z",
     "shell.execute_reply": "2022-06-06T15:34:39.788891Z"
    },
    "papermill": {
     "duration": 0.053947,
     "end_time": "2022-06-06T15:34:39.792316",
     "exception": false,
     "start_time": "2022-06-06T15:34:39.738369",
     "status": "completed"
    },
    "tags": []
   },
   "outputs": [],
   "source": [
    "ent2=[]\n",
    "label2=[]\n",
    "for i in D4 :\n",
    "    ent2.append(i)\n",
    "    label2.append(D4[i])"
   ]
  },
  {
   "cell_type": "code",
   "execution_count": 52,
   "id": "6ed4ac7d",
   "metadata": {
    "execution": {
     "iopub.execute_input": "2022-06-06T15:34:39.881626Z",
     "iopub.status.busy": "2022-06-06T15:34:39.881175Z",
     "iopub.status.idle": "2022-06-06T15:34:39.888672Z",
     "shell.execute_reply": "2022-06-06T15:34:39.887552Z"
    },
    "papermill": {
     "duration": 0.054528,
     "end_time": "2022-06-06T15:34:39.891116",
     "exception": false,
     "start_time": "2022-06-06T15:34:39.836588",
     "status": "completed"
    },
    "tags": []
   },
   "outputs": [],
   "source": [
    "final=pd.DataFrame({\"entities\":ent, \"label\":label})"
   ]
  },
  {
   "cell_type": "code",
   "execution_count": 53,
   "id": "c9199bc3",
   "metadata": {
    "execution": {
     "iopub.execute_input": "2022-06-06T15:34:39.982750Z",
     "iopub.status.busy": "2022-06-06T15:34:39.981788Z",
     "iopub.status.idle": "2022-06-06T15:34:39.987379Z",
     "shell.execute_reply": "2022-06-06T15:34:39.986639Z"
    },
    "papermill": {
     "duration": 0.053583,
     "end_time": "2022-06-06T15:34:39.989779",
     "exception": false,
     "start_time": "2022-06-06T15:34:39.936196",
     "status": "completed"
    },
    "tags": []
   },
   "outputs": [],
   "source": [
    "final1=pd.DataFrame({\"entities\":ent1, \"label\":label1})"
   ]
  },
  {
   "cell_type": "code",
   "execution_count": 54,
   "id": "0d308a4b",
   "metadata": {
    "execution": {
     "iopub.execute_input": "2022-06-06T15:34:40.080133Z",
     "iopub.status.busy": "2022-06-06T15:34:40.079035Z",
     "iopub.status.idle": "2022-06-06T15:34:40.084892Z",
     "shell.execute_reply": "2022-06-06T15:34:40.084071Z"
    },
    "papermill": {
     "duration": 0.053003,
     "end_time": "2022-06-06T15:34:40.087057",
     "exception": false,
     "start_time": "2022-06-06T15:34:40.034054",
     "status": "completed"
    },
    "tags": []
   },
   "outputs": [],
   "source": [
    "final2=pd.DataFrame({\"entities\":ent2, \"label\":label2})"
   ]
  },
  {
   "cell_type": "code",
   "execution_count": null,
   "id": "164e0e32",
   "metadata": {
    "papermill": {
     "duration": 0.043278,
     "end_time": "2022-06-06T15:34:40.173941",
     "exception": false,
     "start_time": "2022-06-06T15:34:40.130663",
     "status": "completed"
    },
    "tags": []
   },
   "outputs": [],
   "source": []
  },
  {
   "cell_type": "code",
   "execution_count": 55,
   "id": "44a6256e",
   "metadata": {
    "execution": {
     "iopub.execute_input": "2022-06-06T15:34:40.263272Z",
     "iopub.status.busy": "2022-06-06T15:34:40.262419Z",
     "iopub.status.idle": "2022-06-06T15:34:40.284156Z",
     "shell.execute_reply": "2022-06-06T15:34:40.283342Z"
    },
    "papermill": {
     "duration": 0.068761,
     "end_time": "2022-06-06T15:34:40.286605",
     "exception": false,
     "start_time": "2022-06-06T15:34:40.217844",
     "status": "completed"
    },
    "tags": []
   },
   "outputs": [],
   "source": [
    "P=[]\n",
    "OR=[]\n",
    "GP=[]\n",
    "Date=[]\n",
    "LOC=[]\n",
    "for i in range(len(D2)):\n",
    "    if final.label.loc[i]==\"PERSON\":\n",
    "        P.append(final.entities.loc[i])\n",
    "    elif final.label.loc[i]==\"ORG\":\n",
    "        OR.append(final.entities.loc[i])\n",
    "    elif final.label.loc[i]==\"GPE\":\n",
    "        GP.append(final.entities.loc[i])\n",
    "    elif final.label.loc[i]==\"DATE\":\n",
    "        Date.append(final.entities.loc[i])\n",
    "    elif final.label.loc[i]==\"LOC\":\n",
    "        LOC.append(final.entities.loc[i])\n",
    "        \n",
    "\n",
    "OR=np.array(OR)\n",
    "P=np.array(P)\n",
    "LOC=np.array(LOC)\n",
    "Date=np.array(Date)\n",
    "GP=np.array(GP)\n",
    "\n"
   ]
  },
  {
   "cell_type": "code",
   "execution_count": 56,
   "id": "35364038",
   "metadata": {
    "execution": {
     "iopub.execute_input": "2022-06-06T15:34:40.377120Z",
     "iopub.status.busy": "2022-06-06T15:34:40.376582Z",
     "iopub.status.idle": "2022-06-06T15:34:40.382201Z",
     "shell.execute_reply": "2022-06-06T15:34:40.381525Z"
    },
    "papermill": {
     "duration": 0.053846,
     "end_time": "2022-06-06T15:34:40.384351",
     "exception": false,
     "start_time": "2022-06-06T15:34:40.330505",
     "status": "completed"
    },
    "tags": []
   },
   "outputs": [
    {
     "data": {
      "text/plain": [
       "array(['May 29th 1865', '27th day of Novb 1865', '27th day of Novbr 1865',\n",
       "       '63 year', '28 day of Sept 1865', 'Maj 47th PM', 'May 47 PM',\n",
       "       '39 year', 'Maj 47th', '31 day of Oct 1865', '61 year',\n",
       "       '31st day of August AD 1865', 'August 24 1865',\n",
       "       '3 day of August 1865', 'May 4', '3 day of Augt 1865', 'Maj 47',\n",
       "       '48 year', '16th day of Sept 1865', '58 year',\n",
       "       '16 day of October 1865', 'twenty eight year', 'July 22',\n",
       "       '6 day of Nov 1865', '58 year of age', 'Sept 29 1865',\n",
       "       '29th day of September 1865', '24 year', 'Sept 29th 1865',\n",
       "       '29th day of Sept 29 1865', '3d day of February 1868',\n",
       "       '7th day of September 186', 'Aug 20 1865',\n",
       "       '20th day of August 1865', 'Thirty nine', 'Aug 20th 1865',\n",
       "       'August 29th 1865', '22nd day of August 1865', '18th Sept 1865',\n",
       "       'Aug 31 1865', '31st day of Aug 1865', '26 Years',\n",
       "       '31 day of Aug 1865'], dtype='<U26')"
      ]
     },
     "execution_count": 56,
     "metadata": {},
     "output_type": "execute_result"
    }
   ],
   "source": [
    "Date"
   ]
  },
  {
   "cell_type": "code",
   "execution_count": 57,
   "id": "c1765cc6",
   "metadata": {
    "execution": {
     "iopub.execute_input": "2022-06-06T15:34:40.475444Z",
     "iopub.status.busy": "2022-06-06T15:34:40.474887Z",
     "iopub.status.idle": "2022-06-06T15:34:40.484735Z",
     "shell.execute_reply": "2022-06-06T15:34:40.483947Z"
    },
    "papermill": {
     "duration": 0.058123,
     "end_time": "2022-06-06T15:34:40.486961",
     "exception": false,
     "start_time": "2022-06-06T15:34:40.428838",
     "status": "completed"
    },
    "tags": []
   },
   "outputs": [],
   "source": [
    "P1=[]\n",
    "OR1=[]\n",
    "LOC1=[]\n",
    "for i in range(len(D3)):\n",
    "    if final1.label.loc[i]==\"PER\":\n",
    "        P1.append(final1.entities.loc[i])\n",
    "    elif (final1.label.loc[i]==\"ORG\") | (final1.label.loc[i]==\"MISC\"):\n",
    "        OR1.append(final1.entities.loc[i])\n",
    "    elif final1.label.loc[i]==\"LOC\" :\n",
    "        LOC1.append(final1.entities.loc[i])\n",
    "        \n",
    "\n",
    "OR1=np.array(OR1)\n",
    "P1=np.array(P1)\n",
    "LOC1=np.array(LOC1)\n"
   ]
  },
  {
   "cell_type": "code",
   "execution_count": 58,
   "id": "9eef69a1",
   "metadata": {
    "execution": {
     "iopub.execute_input": "2022-06-06T15:34:40.576691Z",
     "iopub.status.busy": "2022-06-06T15:34:40.576267Z",
     "iopub.status.idle": "2022-06-06T15:34:40.596858Z",
     "shell.execute_reply": "2022-06-06T15:34:40.595820Z"
    },
    "papermill": {
     "duration": 0.067918,
     "end_time": "2022-06-06T15:34:40.599232",
     "exception": false,
     "start_time": "2022-06-06T15:34:40.531314",
     "status": "completed"
    },
    "tags": []
   },
   "outputs": [],
   "source": [
    "P2=[]\n",
    "OR2=[]\n",
    "LOC2=[]\n",
    "for i in range(len(D4)):\n",
    "    if final2.label.loc[i]==\"PER\":\n",
    "        P2.append(final2.entities.loc[i])\n",
    "    elif (final2.label.loc[i]==\"ORG\") | (final2.label.loc[i]==\"MISC\"):\n",
    "        OR2.append(final2.entities.loc[i])\n",
    "    elif final2.label.loc[i]==\"LOC\" :\n",
    "        LOC2.append(final2.entities.loc[i])\n",
    "        \n",
    "\n",
    "OR2=np.array(OR2)\n",
    "P2=np.array(P2)\n",
    "LOC2=np.array(LOC2)\n"
   ]
  },
  {
   "cell_type": "code",
   "execution_count": 59,
   "id": "dc8537eb",
   "metadata": {
    "execution": {
     "iopub.execute_input": "2022-06-06T15:34:40.797366Z",
     "iopub.status.busy": "2022-06-06T15:34:40.796294Z",
     "iopub.status.idle": "2022-06-06T15:34:40.802780Z",
     "shell.execute_reply": "2022-06-06T15:34:40.801883Z"
    },
    "papermill": {
     "duration": 0.054182,
     "end_time": "2022-06-06T15:34:40.804858",
     "exception": false,
     "start_time": "2022-06-06T15:34:40.750676",
     "status": "completed"
    },
    "tags": []
   },
   "outputs": [
    {
     "data": {
      "text/plain": [
       "41"
      ]
     },
     "execution_count": 59,
     "metadata": {},
     "output_type": "execute_result"
    }
   ],
   "source": [
    "len(Person)"
   ]
  },
  {
   "cell_type": "code",
   "execution_count": 60,
   "id": "d99d73b1",
   "metadata": {
    "execution": {
     "iopub.execute_input": "2022-06-06T15:34:40.894302Z",
     "iopub.status.busy": "2022-06-06T15:34:40.893911Z",
     "iopub.status.idle": "2022-06-06T15:34:40.900203Z",
     "shell.execute_reply": "2022-06-06T15:34:40.899125Z"
    },
    "papermill": {
     "duration": 0.053856,
     "end_time": "2022-06-06T15:34:40.902631",
     "exception": false,
     "start_time": "2022-06-06T15:34:40.848775",
     "status": "completed"
    },
    "tags": []
   },
   "outputs": [
    {
     "data": {
      "text/plain": [
       "40"
      ]
     },
     "execution_count": 60,
     "metadata": {},
     "output_type": "execute_result"
    }
   ],
   "source": [
    "len(P)"
   ]
  },
  {
   "cell_type": "code",
   "execution_count": 61,
   "id": "9aad2dba",
   "metadata": {
    "execution": {
     "iopub.execute_input": "2022-06-06T15:34:40.993969Z",
     "iopub.status.busy": "2022-06-06T15:34:40.993218Z",
     "iopub.status.idle": "2022-06-06T15:34:41.000752Z",
     "shell.execute_reply": "2022-06-06T15:34:40.999649Z"
    },
    "papermill": {
     "duration": 0.055708,
     "end_time": "2022-06-06T15:34:41.002831",
     "exception": false,
     "start_time": "2022-06-06T15:34:40.947123",
     "status": "completed"
    },
    "tags": []
   },
   "outputs": [
    {
     "data": {
      "text/plain": [
       "15"
      ]
     },
     "execution_count": 61,
     "metadata": {},
     "output_type": "execute_result"
    }
   ],
   "source": [
    "len(P1)"
   ]
  },
  {
   "cell_type": "code",
   "execution_count": 62,
   "id": "dd589914",
   "metadata": {
    "execution": {
     "iopub.execute_input": "2022-06-06T15:34:41.092946Z",
     "iopub.status.busy": "2022-06-06T15:34:41.091949Z",
     "iopub.status.idle": "2022-06-06T15:34:41.098862Z",
     "shell.execute_reply": "2022-06-06T15:34:41.097820Z"
    },
    "papermill": {
     "duration": 0.054199,
     "end_time": "2022-06-06T15:34:41.101051",
     "exception": false,
     "start_time": "2022-06-06T15:34:41.046852",
     "status": "completed"
    },
    "tags": []
   },
   "outputs": [
    {
     "data": {
      "text/plain": [
       "45"
      ]
     },
     "execution_count": 62,
     "metadata": {},
     "output_type": "execute_result"
    }
   ],
   "source": [
    "len(P2)"
   ]
  },
  {
   "cell_type": "code",
   "execution_count": 63,
   "id": "c26c3ebb",
   "metadata": {
    "execution": {
     "iopub.execute_input": "2022-06-06T15:34:41.191717Z",
     "iopub.status.busy": "2022-06-06T15:34:41.190867Z",
     "iopub.status.idle": "2022-06-06T15:34:41.197842Z",
     "shell.execute_reply": "2022-06-06T15:34:41.196982Z"
    },
    "papermill": {
     "duration": 0.053936,
     "end_time": "2022-06-06T15:34:41.199764",
     "exception": false,
     "start_time": "2022-06-06T15:34:41.145828",
     "status": "completed"
    },
    "tags": []
   },
   "outputs": [
    {
     "data": {
      "text/plain": [
       "array(['Amnesty Oath', 'Amnesty Oath Administered At', 'Andrew Johnson',\n",
       "       'Anne H Elliott', 'Bray Lieut', 'Brown', 'Captn',\n",
       "       'Captn Commanding', 'Characteristics', 'Charleston Sc',\n",
       "       'City Miss', 'Copy Levi Steuben', 'Frank Conner', 'Frank E Miller',\n",
       "       'Gibbs Henderson', 'Gry', 'Hazel', 'Hiram Smith', 'Hiserodt',\n",
       "       'Hu Kennedy', 'JF Steinmeyer Sworn', 'Jacob Schroder Sworn',\n",
       "       'James D Kendall Amnesty Oath Administered At Oacen Springs',\n",
       "       'Joseph Edings', 'Laborer', 'Pass Christian', 'Robert A',\n",
       "       'Thomas Andrew Oath of', 'Triplicate AMNESTY', 'Walhalla',\n",
       "       'Whaley', 'William Whaley Sworn', 'Woodville Wilkinson'],\n",
       "      dtype='<U58')"
      ]
     },
     "execution_count": 63,
     "metadata": {},
     "output_type": "execute_result"
    }
   ],
   "source": [
    "np.unique(Person)"
   ]
  },
  {
   "cell_type": "code",
   "execution_count": 64,
   "id": "0a79d6c7",
   "metadata": {
    "execution": {
     "iopub.execute_input": "2022-06-06T15:34:41.290398Z",
     "iopub.status.busy": "2022-06-06T15:34:41.289717Z",
     "iopub.status.idle": "2022-06-06T15:34:41.296688Z",
     "shell.execute_reply": "2022-06-06T15:34:41.295694Z"
    },
    "papermill": {
     "duration": 0.054878,
     "end_time": "2022-06-06T15:34:41.298842",
     "exception": false,
     "start_time": "2022-06-06T15:34:41.243964",
     "status": "completed"
    },
    "tags": []
   },
   "outputs": [
    {
     "data": {
      "text/plain": [
       "array(['ANDREW JOHNSON', 'Aiken Burnwell', 'Andrew Johnson',\n",
       "       'Anne H Elliott', 'Bergevin', 'Caroline Belitzer', 'City', 'E',\n",
       "       'E C Whaley', 'Frank Conner', 'Frank E Miller', 'Frank Geise',\n",
       "       'Geo D Carpenter', 'Hiram Smith', 'Holwell', 'Hu Kennedy',\n",
       "       'I E C Whaley', 'I J F Steinmeyer', 'J E Thuring', 'J H Mathews',\n",
       "       'JB Hiserodt', 'JF Steinmeyer', 'JH Mathews', 'JW Baxter',\n",
       "       'Jacob Schroder', 'Jacob Schroder Sworn', 'James D Kendall',\n",
       "       'James E Thuring', 'Joseph Edings', 'Levi Steuben', 'Levi Stuber',\n",
       "       'Levi Stuber Major', 'P H Joor', 'Robert A Wilson',\n",
       "       'S Wilde Durson', 'Vicksburg', 'Whaley', 'William Whaley Sworn',\n",
       "       'caroline Belitzer', 'mark Sworn'], dtype='<U20')"
      ]
     },
     "execution_count": 64,
     "metadata": {},
     "output_type": "execute_result"
    }
   ],
   "source": [
    "np.unique(P)"
   ]
  },
  {
   "cell_type": "code",
   "execution_count": 65,
   "id": "91f939ab",
   "metadata": {
    "execution": {
     "iopub.execute_input": "2022-06-06T15:34:41.388859Z",
     "iopub.status.busy": "2022-06-06T15:34:41.388038Z",
     "iopub.status.idle": "2022-06-06T15:34:41.395037Z",
     "shell.execute_reply": "2022-06-06T15:34:41.394279Z"
    },
    "papermill": {
     "duration": 0.054319,
     "end_time": "2022-06-06T15:34:41.396958",
     "exception": false,
     "start_time": "2022-06-06T15:34:41.342639",
     "status": "completed"
    },
    "tags": []
   },
   "outputs": [
    {
     "data": {
      "text/plain": [
       "array(['Andrew Johnson', 'Anne H', 'Anne H Elliott', 'Caroline Belitzer',\n",
       "       'E Montgomery', 'Frank Conner', 'Hiram Smith', 'J H Mathews',\n",
       "       'Jacob Schroder', 'James E Thuring', 'Joseph Edings', 'Marshal',\n",
       "       'Robert A Wilson', 'Sworn', 'Wm Whaley'], dtype='<U17')"
      ]
     },
     "execution_count": 65,
     "metadata": {},
     "output_type": "execute_result"
    }
   ],
   "source": [
    "np.unique(P1)"
   ]
  },
  {
   "cell_type": "code",
   "execution_count": 66,
   "id": "5e33c88b",
   "metadata": {
    "execution": {
     "iopub.execute_input": "2022-06-06T15:34:41.488047Z",
     "iopub.status.busy": "2022-06-06T15:34:41.487072Z",
     "iopub.status.idle": "2022-06-06T15:34:41.494479Z",
     "shell.execute_reply": "2022-06-06T15:34:41.493572Z"
    },
    "papermill": {
     "duration": 0.054861,
     "end_time": "2022-06-06T15:34:41.496439",
     "exception": false,
     "start_time": "2022-06-06T15:34:41.441578",
     "status": "completed"
    },
    "tags": []
   },
   "outputs": [
    {
     "data": {
      "text/plain": [
       "array(['ANDREW JOHNSON', 'Almighty', 'Almighty God', 'Andrew Johnson',\n",
       "       'Anne H Elliott', 'Caroline Belitzer', 'E C Whaley', 'EB Towne',\n",
       "       'Frank Conner', 'Frank E Miller', 'Frank Geise', 'GOD',\n",
       "       'Geo D Carpenter', 'God', 'H Elliott', 'H F Holwell',\n",
       "       'Hiram Smith', 'Hu Kennedy', 'I E C Whaley', 'I J F Steinmeyer',\n",
       "       'J E Thuring', 'J H Mathews', 'JB Hiserodt', 'JF Steinmeyer',\n",
       "       'JH Mathews', 'JW Baxter', 'Jacob Schroder', 'James D Kendall',\n",
       "       'James E Thuring', 'Joseph Edings', 'Joseph Edings Sworn',\n",
       "       'Levi Steuben', 'Levi Stuber', 'Mrs E Montgomery', 'P H Joor',\n",
       "       'P P Bergevin', 'R A Bray', 'Robert A Wilson', 'S Wilde Durson',\n",
       "       'S Wilde Durson Magt', 'S Wilde Durson Magtr', 'Sgd Montgomery',\n",
       "       'William Whaley', 'Wm Whaley', 'caroline Belitzer'], dtype='<U20')"
      ]
     },
     "execution_count": 66,
     "metadata": {},
     "output_type": "execute_result"
    }
   ],
   "source": [
    "np.unique(P2)"
   ]
  },
  {
   "cell_type": "markdown",
   "id": "dcfcb452",
   "metadata": {
    "papermill": {
     "duration": 0.044515,
     "end_time": "2022-06-06T15:34:41.586288",
     "exception": false,
     "start_time": "2022-06-06T15:34:41.541773",
     "status": "completed"
    },
    "tags": []
   },
   "source": [
    "****"
   ]
  },
  {
   "cell_type": "code",
   "execution_count": 67,
   "id": "78462ade",
   "metadata": {
    "execution": {
     "iopub.execute_input": "2022-06-06T15:34:41.678137Z",
     "iopub.status.busy": "2022-06-06T15:34:41.677038Z",
     "iopub.status.idle": "2022-06-06T15:34:41.683647Z",
     "shell.execute_reply": "2022-06-06T15:34:41.682690Z"
    },
    "papermill": {
     "duration": 0.054981,
     "end_time": "2022-06-06T15:34:41.685728",
     "exception": false,
     "start_time": "2022-06-06T15:34:41.630747",
     "status": "completed"
    },
    "tags": []
   },
   "outputs": [
    {
     "data": {
      "text/plain": [
       "array(['AMNESTY', 'ANDREW', 'Amnesty', 'Amnesty Proclamation',\n",
       "       'Belitzer Sworn', 'Charleston State of So Carolina',\n",
       "       'Color of Eyes Blue Color of Hair Dark Characteristics',\n",
       "       'Emancipation of Slaves', 'Eyes Blue Color of Hair',\n",
       "       'Eyes Blue Color of Hair Light Characteristics', 'H F Holwell of',\n",
       "       'H Mathews Capt', 'JF Steinmeyer Sworn', 'Joseph Edings Sworn',\n",
       "       'Lawyer', 'Levi Stuber',\n",
       "       'Magistrate S Wilde Durson AHE AHE AHE H Elliott',\n",
       "       'OATH I P P Bergevin',\n",
       "       'P H Joor Justice of Peace Wilkinson County State of',\n",
       "       'Rebellion reference Emancipation of Slaves',\n",
       "       'Regt U S C Infy Provost Marshal', 'Sgd Montgomery Sworn', 'Sworn',\n",
       "       'UNITED STATES FORCES No 1282 PROVOST MARSHALS OFFICE',\n",
       "       'US Col Infty Provost Marshal', 'USCI Commanding',\n",
       "       'United State of America', 'United States Union',\n",
       "       'United States Union of State', 'Whaley Sworn', 'Wilson'],\n",
       "      dtype='<U53')"
      ]
     },
     "execution_count": 67,
     "metadata": {},
     "output_type": "execute_result"
    }
   ],
   "source": [
    "np.unique(ORG)"
   ]
  },
  {
   "cell_type": "code",
   "execution_count": 68,
   "id": "c039b348",
   "metadata": {
    "execution": {
     "iopub.execute_input": "2022-06-06T15:34:41.780638Z",
     "iopub.status.busy": "2022-06-06T15:34:41.779932Z",
     "iopub.status.idle": "2022-06-06T15:34:41.786296Z",
     "shell.execute_reply": "2022-06-06T15:34:41.785620Z"
    },
    "papermill": {
     "duration": 0.056998,
     "end_time": "2022-06-06T15:34:41.788286",
     "exception": false,
     "start_time": "2022-06-06T15:34:41.731288",
     "status": "completed"
    },
    "tags": []
   },
   "outputs": [
    {
     "data": {
      "text/plain": [
       "array(['James D Kendall Amnesty Oath Administered At Oacen Springs Miss 18th',\n",
       "       'WA Fleitas Amnesty Oath Administered At Pass Christian Mississippi By JB Hiserodt'],\n",
       "      dtype='<U81')"
      ]
     },
     "execution_count": 68,
     "metadata": {},
     "output_type": "execute_result"
    }
   ],
   "source": [
    "np.unique(OR1)"
   ]
  },
  {
   "cell_type": "code",
   "execution_count": 69,
   "id": "c8cbdf74",
   "metadata": {
    "execution": {
     "iopub.execute_input": "2022-06-06T15:34:41.881803Z",
     "iopub.status.busy": "2022-06-06T15:34:41.881088Z",
     "iopub.status.idle": "2022-06-06T15:34:41.888614Z",
     "shell.execute_reply": "2022-06-06T15:34:41.887534Z"
    },
    "papermill": {
     "duration": 0.056783,
     "end_time": "2022-06-06T15:34:41.890965",
     "exception": false,
     "start_time": "2022-06-06T15:34:41.834182",
     "status": "completed"
    },
    "tags": []
   },
   "outputs": [
    {
     "data": {
      "text/plain": [
       "array(['128th USCT', '47th Pa', 'AMNESTY OATH', 'Amnesty', 'Amnesty Oath',\n",
       "       'Amnesty Proclamation', 'Constitution', 'Emancipation of Slaves',\n",
       "       'Emancipation of SlavesSO', 'Emancipation of SlavesSo',\n",
       "       'MARSHALS OFFICE', 'NYVV', 'Oath',\n",
       "       'Thomas Andrew Oath of Loyalty Recd Bureau',\n",
       "       'Thos Gibbs Henderson Co', 'U S C', 'UNITED STATES FORCES', 'US',\n",
       "       'US Cold Inf', 'US Cold Infty', 'USCI', 'USCT', 'Union', 'Vols',\n",
       "       'WA Fleitas Amnesty Oath', 'Walhalla', 'Woodville Wilkinson Co'],\n",
       "      dtype='<U41')"
      ]
     },
     "execution_count": 69,
     "metadata": {},
     "output_type": "execute_result"
    }
   ],
   "source": [
    "np.unique(OR2)"
   ]
  },
  {
   "cell_type": "markdown",
   "id": "8dddc959",
   "metadata": {
    "papermill": {
     "duration": 0.045337,
     "end_time": "2022-06-06T15:34:41.982391",
     "exception": false,
     "start_time": "2022-06-06T15:34:41.937054",
     "status": "completed"
    },
    "tags": []
   },
   "source": [
    "****"
   ]
  },
  {
   "cell_type": "code",
   "execution_count": 70,
   "id": "54da00ac",
   "metadata": {
    "execution": {
     "iopub.execute_input": "2022-06-06T15:34:42.075564Z",
     "iopub.status.busy": "2022-06-06T15:34:42.075101Z",
     "iopub.status.idle": "2022-06-06T15:34:42.082533Z",
     "shell.execute_reply": "2022-06-06T15:34:42.081376Z"
    },
    "papermill": {
     "duration": 0.056856,
     "end_time": "2022-06-06T15:34:42.084744",
     "exception": false,
     "start_time": "2022-06-06T15:34:42.027888",
     "status": "completed"
    },
    "tags": []
   },
   "outputs": [
    {
     "data": {
      "text/plain": [
       "array(['South Ca'], dtype='<U8')"
      ]
     },
     "execution_count": 70,
     "metadata": {},
     "output_type": "execute_result"
    }
   ],
   "source": [
    "np.unique(LOC)"
   ]
  },
  {
   "cell_type": "code",
   "execution_count": 71,
   "id": "0c25cd6c",
   "metadata": {
    "execution": {
     "iopub.execute_input": "2022-06-06T15:34:42.177024Z",
     "iopub.status.busy": "2022-06-06T15:34:42.176580Z",
     "iopub.status.idle": "2022-06-06T15:34:42.184428Z",
     "shell.execute_reply": "2022-06-06T15:34:42.183314Z"
    },
    "papermill": {
     "duration": 0.056902,
     "end_time": "2022-06-06T15:34:42.186636",
     "exception": false,
     "start_time": "2022-06-06T15:34:42.129734",
     "status": "completed"
    },
    "tags": []
   },
   "outputs": [
    {
     "data": {
      "text/plain": [
       "array(['AMERICA', 'So Carolina', 'South Carolina', 'US', 'United States'],\n",
       "      dtype='<U14')"
      ]
     },
     "execution_count": 71,
     "metadata": {},
     "output_type": "execute_result"
    }
   ],
   "source": [
    "np.unique(LOC1)"
   ]
  },
  {
   "cell_type": "code",
   "execution_count": 72,
   "id": "c5f9fc4a",
   "metadata": {
    "execution": {
     "iopub.execute_input": "2022-06-06T15:34:42.280254Z",
     "iopub.status.busy": "2022-06-06T15:34:42.279765Z",
     "iopub.status.idle": "2022-06-06T15:34:42.286293Z",
     "shell.execute_reply": "2022-06-06T15:34:42.285391Z"
    },
    "papermill": {
     "duration": 0.056153,
     "end_time": "2022-06-06T15:34:42.288302",
     "exception": false,
     "start_time": "2022-06-06T15:34:42.232149",
     "status": "completed"
    },
    "tags": []
   },
   "outputs": [
    {
     "data": {
      "text/plain": [
       "array(['Aiken', 'Aiken Burnwell', 'Charleston', 'Charleston Sate',\n",
       "       'Charleston Sc', 'City', 'City of Charleston',\n",
       "       'City of New Orleans', 'County', 'County of Charleston',\n",
       "       'County of Orangeburg', 'District of Beaufort', 'Gainsville',\n",
       "       'Harrison Co', 'Marshal City of Charleston', 'Miss', 'Miss City',\n",
       "       'Mississippi City', 'NC', 'Oacen Springs', 'Orangeburg SC',\n",
       "       'Pass Christian Mississippi', 'Port of Miss', 'SC', 'South Ca',\n",
       "       'State of So Carolina', 'State of South Carolina',\n",
       "       'UNITED STATES OF AMERICA', 'United State of America',\n",
       "       'United States', 'United States Union of State',\n",
       "       'United States Union of States', 'United States of America',\n",
       "       'Walhalla State of South Carolina', 'Warren Co',\n",
       "       'Wilkinson County State of Mississippi'], dtype='<U37')"
      ]
     },
     "execution_count": 72,
     "metadata": {},
     "output_type": "execute_result"
    }
   ],
   "source": [
    "np.unique(LOC2)"
   ]
  },
  {
   "cell_type": "markdown",
   "id": "e1100562",
   "metadata": {
    "papermill": {
     "duration": 0.046043,
     "end_time": "2022-06-06T15:34:42.380807",
     "exception": false,
     "start_time": "2022-06-06T15:34:42.334764",
     "status": "completed"
    },
    "tags": []
   },
   "source": [
    "****"
   ]
  },
  {
   "cell_type": "code",
   "execution_count": 73,
   "id": "363e8817",
   "metadata": {
    "execution": {
     "iopub.execute_input": "2022-06-06T15:34:42.474444Z",
     "iopub.status.busy": "2022-06-06T15:34:42.474064Z",
     "iopub.status.idle": "2022-06-06T15:34:42.480515Z",
     "shell.execute_reply": "2022-06-06T15:34:42.479527Z"
    },
    "papermill": {
     "duration": 0.055885,
     "end_time": "2022-06-06T15:34:42.482671",
     "exception": false,
     "start_time": "2022-06-06T15:34:42.426786",
     "status": "completed"
    },
    "tags": []
   },
   "outputs": [
    {
     "data": {
      "text/plain": [
       "array(['16 day of October 1865', '16th day of Sept 1865',\n",
       "       '18th Sept 1865', '20th day of August 1865',\n",
       "       '22nd day of August 1865', '24 year', '26 Years',\n",
       "       '27th day of Novb 1865', '27th day of Novbr 1865',\n",
       "       '28 day of Sept 1865', '29th day of Sept 29 1865',\n",
       "       '29th day of September 1865', '3 day of Augt 1865',\n",
       "       '3 day of August 1865', '31 day of Aug 1865', '31 day of Oct 1865',\n",
       "       '31st day of Aug 1865', '31st day of August AD 1865', '39 year',\n",
       "       '3d day of February 1868', '48 year', '58 year', '58 year of age',\n",
       "       '6 day of Nov 1865', '61 year', '63 year',\n",
       "       '7th day of September 186', 'Aug 20 1865', 'Aug 20th 1865',\n",
       "       'Aug 31 1865', 'August 24 1865', 'August 29th 1865', 'July 22',\n",
       "       'Maj 47', 'Maj 47th', 'Maj 47th PM', 'May 29th 1865', 'May 4',\n",
       "       'May 47 PM', 'Sept 29 1865', 'Sept 29th 1865', 'Thirty nine',\n",
       "       'twenty eight year'], dtype='<U26')"
      ]
     },
     "execution_count": 73,
     "metadata": {},
     "output_type": "execute_result"
    }
   ],
   "source": [
    "np.unique(Date)"
   ]
  },
  {
   "cell_type": "code",
   "execution_count": 74,
   "id": "dabe11c9",
   "metadata": {
    "execution": {
     "iopub.execute_input": "2022-06-06T15:34:42.576048Z",
     "iopub.status.busy": "2022-06-06T15:34:42.575529Z",
     "iopub.status.idle": "2022-06-06T15:34:42.582237Z",
     "shell.execute_reply": "2022-06-06T15:34:42.581430Z"
    },
    "papermill": {
     "duration": 0.055857,
     "end_time": "2022-06-06T15:34:42.584289",
     "exception": false,
     "start_time": "2022-06-06T15:34:42.528432",
     "status": "completed"
    },
    "tags": []
   },
   "outputs": [
    {
     "data": {
      "text/plain": [
       "array(['Charleston', 'Charleston S C', 'Charleston SC',\n",
       "       'Mississippi City', 'Orangeburg', 'So Carolina', 'South Carolina',\n",
       "       'UNITED STATES OF', 'US', 'United State of America',\n",
       "       'United States', 'United States of America'], dtype='<U24')"
      ]
     },
     "execution_count": 74,
     "metadata": {},
     "output_type": "execute_result"
    }
   ],
   "source": [
    "np.unique(GP)"
   ]
  },
  {
   "cell_type": "markdown",
   "id": "fd55e89d",
   "metadata": {
    "papermill": {
     "duration": 0.060819,
     "end_time": "2022-06-06T15:34:42.690807",
     "exception": false,
     "start_time": "2022-06-06T15:34:42.629988",
     "status": "completed"
    },
    "tags": []
   },
   "source": [
    "# Post processing"
   ]
  },
  {
   "cell_type": "markdown",
   "id": "7a835983",
   "metadata": {
    "papermill": {
     "duration": 0.071713,
     "end_time": "2022-06-06T15:34:42.824092",
     "exception": false,
     "start_time": "2022-06-06T15:34:42.752379",
     "status": "completed"
    },
    "tags": []
   },
   "source": [
    "**For dates**"
   ]
  },
  {
   "cell_type": "code",
   "execution_count": 75,
   "id": "84985f43",
   "metadata": {
    "execution": {
     "iopub.execute_input": "2022-06-06T15:34:42.950404Z",
     "iopub.status.busy": "2022-06-06T15:34:42.950024Z",
     "iopub.status.idle": "2022-06-06T15:34:42.956407Z",
     "shell.execute_reply": "2022-06-06T15:34:42.955270Z"
    },
    "papermill": {
     "duration": 0.059295,
     "end_time": "2022-06-06T15:34:42.958664",
     "exception": false,
     "start_time": "2022-06-06T15:34:42.899369",
     "status": "completed"
    },
    "tags": []
   },
   "outputs": [],
   "source": [
    "import regex as re\n",
    "Pattern1=re.compile(r'^\\d\\.*.*\\d\\d$')\n",
    "Pattern2=re.compile(r'^[A-Z]\\.*.*\\d \\.*.*\\d\\d$')"
   ]
  },
  {
   "cell_type": "code",
   "execution_count": 76,
   "id": "7e4eda6c",
   "metadata": {
    "execution": {
     "iopub.execute_input": "2022-06-06T15:34:43.061203Z",
     "iopub.status.busy": "2022-06-06T15:34:43.060411Z",
     "iopub.status.idle": "2022-06-06T15:34:43.067595Z",
     "shell.execute_reply": "2022-06-06T15:34:43.066852Z"
    },
    "papermill": {
     "duration": 0.064045,
     "end_time": "2022-06-06T15:34:43.070203",
     "exception": false,
     "start_time": "2022-06-06T15:34:43.006158",
     "status": "completed"
    },
    "tags": []
   },
   "outputs": [],
   "source": [
    "M=[]\n",
    "for i in Date:\n",
    "        date=re.search(r'^\\d\\.*.*\\d\\d$' ,i)\n",
    "        date2=re.search(r'^[A-Z]\\.*.*\\d \\.*.*\\d\\d$' ,i)\n",
    "        M.append(date)\n",
    "        M.append(date2)\n",
    "       "
   ]
  },
  {
   "cell_type": "code",
   "execution_count": 77,
   "id": "a63c1fe4",
   "metadata": {
    "execution": {
     "iopub.execute_input": "2022-06-06T15:34:43.168757Z",
     "iopub.status.busy": "2022-06-06T15:34:43.168214Z",
     "iopub.status.idle": "2022-06-06T15:34:43.175199Z",
     "shell.execute_reply": "2022-06-06T15:34:43.174040Z"
    },
    "papermill": {
     "duration": 0.059686,
     "end_time": "2022-06-06T15:34:43.177610",
     "exception": false,
     "start_time": "2022-06-06T15:34:43.117924",
     "status": "completed"
    },
    "tags": []
   },
   "outputs": [],
   "source": [
    "Final_date=[]\n",
    "for i in M:\n",
    "    if i!=None:\n",
    "        Final_date.append(i.group())"
   ]
  },
  {
   "cell_type": "code",
   "execution_count": 78,
   "id": "af635918",
   "metadata": {
    "execution": {
     "iopub.execute_input": "2022-06-06T15:34:43.281901Z",
     "iopub.status.busy": "2022-06-06T15:34:43.281310Z",
     "iopub.status.idle": "2022-06-06T15:34:43.288980Z",
     "shell.execute_reply": "2022-06-06T15:34:43.288071Z"
    },
    "papermill": {
     "duration": 0.062175,
     "end_time": "2022-06-06T15:34:43.292131",
     "exception": false,
     "start_time": "2022-06-06T15:34:43.229956",
     "status": "completed"
    },
    "tags": []
   },
   "outputs": [
    {
     "data": {
      "text/plain": [
       "['27th day of Novb 1865',\n",
       " '27th day of Novbr 1865',\n",
       " '28 day of Sept 1865',\n",
       " '31 day of Oct 1865',\n",
       " '31st day of August AD 1865',\n",
       " 'August 24 1865',\n",
       " '3 day of August 1865',\n",
       " '3 day of Augt 1865',\n",
       " '16th day of Sept 1865',\n",
       " '16 day of October 1865',\n",
       " '6 day of Nov 1865',\n",
       " 'Sept 29 1865',\n",
       " '29th day of September 1865',\n",
       " '29th day of Sept 29 1865',\n",
       " '3d day of February 1868',\n",
       " '7th day of September 186',\n",
       " 'Aug 20 1865',\n",
       " '20th day of August 1865',\n",
       " '22nd day of August 1865',\n",
       " '18th Sept 1865',\n",
       " 'Aug 31 1865',\n",
       " '31st day of Aug 1865',\n",
       " '31 day of Aug 1865']"
      ]
     },
     "execution_count": 78,
     "metadata": {},
     "output_type": "execute_result"
    }
   ],
   "source": [
    "Final_date\n"
   ]
  },
  {
   "cell_type": "markdown",
   "id": "02f34493",
   "metadata": {
    "papermill": {
     "duration": 0.051118,
     "end_time": "2022-06-06T15:34:43.404875",
     "exception": false,
     "start_time": "2022-06-06T15:34:43.353757",
     "status": "completed"
    },
    "tags": []
   },
   "source": [
    "**great !**"
   ]
  },
  {
   "cell_type": "markdown",
   "id": "a7f19370",
   "metadata": {
    "papermill": {
     "duration": 0.051612,
     "end_time": "2022-06-06T15:34:43.507561",
     "exception": false,
     "start_time": "2022-06-06T15:34:43.455949",
     "status": "completed"
    },
    "tags": []
   },
   "source": [
    "# best result obtained "
   ]
  },
  {
   "cell_type": "markdown",
   "id": "3d761408",
   "metadata": {
    "papermill": {
     "duration": 0.053618,
     "end_time": "2022-06-06T15:34:43.614397",
     "exception": false,
     "start_time": "2022-06-06T15:34:43.560779",
     "status": "completed"
    },
    "tags": []
   },
   "source": [
    "***Person***"
   ]
  },
  {
   "cell_type": "code",
   "execution_count": 79,
   "id": "a1db9bb7",
   "metadata": {
    "execution": {
     "iopub.execute_input": "2022-06-06T15:34:43.716265Z",
     "iopub.status.busy": "2022-06-06T15:34:43.715517Z",
     "iopub.status.idle": "2022-06-06T15:34:43.722758Z",
     "shell.execute_reply": "2022-06-06T15:34:43.721535Z"
    },
    "papermill": {
     "duration": 0.061383,
     "end_time": "2022-06-06T15:34:43.725239",
     "exception": false,
     "start_time": "2022-06-06T15:34:43.663856",
     "status": "completed"
    },
    "tags": []
   },
   "outputs": [
    {
     "data": {
      "text/plain": [
       "array(['ANDREW JOHNSON', 'Almighty', 'Almighty God', 'Andrew Johnson',\n",
       "       'Anne H Elliott', 'Caroline Belitzer', 'E C Whaley', 'EB Towne',\n",
       "       'Frank Conner', 'Frank E Miller', 'Frank Geise', 'GOD',\n",
       "       'Geo D Carpenter', 'God', 'H Elliott', 'H F Holwell',\n",
       "       'Hiram Smith', 'Hu Kennedy', 'I E C Whaley', 'I J F Steinmeyer',\n",
       "       'J E Thuring', 'J H Mathews', 'JB Hiserodt', 'JF Steinmeyer',\n",
       "       'JH Mathews', 'JW Baxter', 'Jacob Schroder', 'James D Kendall',\n",
       "       'James E Thuring', 'Joseph Edings', 'Joseph Edings Sworn',\n",
       "       'Levi Steuben', 'Levi Stuber', 'Mrs E Montgomery', 'P H Joor',\n",
       "       'P P Bergevin', 'R A Bray', 'Robert A Wilson', 'S Wilde Durson',\n",
       "       'S Wilde Durson Magt', 'S Wilde Durson Magtr', 'Sgd Montgomery',\n",
       "       'William Whaley', 'Wm Whaley', 'caroline Belitzer'], dtype='<U20')"
      ]
     },
     "execution_count": 79,
     "metadata": {},
     "output_type": "execute_result"
    }
   ],
   "source": [
    "np.unique(P2)"
   ]
  },
  {
   "cell_type": "markdown",
   "id": "abad5207",
   "metadata": {
    "papermill": {
     "duration": 0.04714,
     "end_time": "2022-06-06T15:34:43.819084",
     "exception": false,
     "start_time": "2022-06-06T15:34:43.771944",
     "status": "completed"
    },
    "tags": []
   },
   "source": [
    "****"
   ]
  },
  {
   "cell_type": "markdown",
   "id": "6b0cf003",
   "metadata": {
    "papermill": {
     "duration": 0.048853,
     "end_time": "2022-06-06T15:34:43.919227",
     "exception": false,
     "start_time": "2022-06-06T15:34:43.870374",
     "status": "completed"
    },
    "tags": []
   },
   "source": [
    "***Organization***"
   ]
  },
  {
   "cell_type": "code",
   "execution_count": 80,
   "id": "131dd716",
   "metadata": {
    "execution": {
     "iopub.execute_input": "2022-06-06T15:34:44.023420Z",
     "iopub.status.busy": "2022-06-06T15:34:44.022643Z",
     "iopub.status.idle": "2022-06-06T15:34:44.030219Z",
     "shell.execute_reply": "2022-06-06T15:34:44.029018Z"
    },
    "papermill": {
     "duration": 0.063239,
     "end_time": "2022-06-06T15:34:44.032596",
     "exception": false,
     "start_time": "2022-06-06T15:34:43.969357",
     "status": "completed"
    },
    "tags": []
   },
   "outputs": [
    {
     "data": {
      "text/plain": [
       "array(['128th USCT', '47th Pa', 'AMNESTY OATH', 'Amnesty', 'Amnesty Oath',\n",
       "       'Amnesty Proclamation', 'Constitution', 'Emancipation of Slaves',\n",
       "       'Emancipation of SlavesSO', 'Emancipation of SlavesSo',\n",
       "       'MARSHALS OFFICE', 'NYVV', 'Oath',\n",
       "       'Thomas Andrew Oath of Loyalty Recd Bureau',\n",
       "       'Thos Gibbs Henderson Co', 'U S C', 'UNITED STATES FORCES', 'US',\n",
       "       'US Cold Inf', 'US Cold Infty', 'USCI', 'USCT', 'Union', 'Vols',\n",
       "       'WA Fleitas Amnesty Oath', 'Walhalla', 'Woodville Wilkinson Co'],\n",
       "      dtype='<U41')"
      ]
     },
     "execution_count": 80,
     "metadata": {},
     "output_type": "execute_result"
    }
   ],
   "source": [
    "np.unique(OR2)\n"
   ]
  },
  {
   "cell_type": "markdown",
   "id": "0b257859",
   "metadata": {
    "papermill": {
     "duration": 0.048571,
     "end_time": "2022-06-06T15:34:44.129363",
     "exception": false,
     "start_time": "2022-06-06T15:34:44.080792",
     "status": "completed"
    },
    "tags": []
   },
   "source": [
    "****"
   ]
  },
  {
   "cell_type": "markdown",
   "id": "7377d2d3",
   "metadata": {
    "papermill": {
     "duration": 0.048359,
     "end_time": "2022-06-06T15:34:44.226386",
     "exception": false,
     "start_time": "2022-06-06T15:34:44.178027",
     "status": "completed"
    },
    "tags": []
   },
   "source": [
    "***GPE and location***"
   ]
  },
  {
   "cell_type": "code",
   "execution_count": 81,
   "id": "cdacd228",
   "metadata": {
    "execution": {
     "iopub.execute_input": "2022-06-06T15:34:44.335994Z",
     "iopub.status.busy": "2022-06-06T15:34:44.335075Z",
     "iopub.status.idle": "2022-06-06T15:34:44.341450Z",
     "shell.execute_reply": "2022-06-06T15:34:44.340633Z"
    },
    "papermill": {
     "duration": 0.070023,
     "end_time": "2022-06-06T15:34:44.343711",
     "exception": false,
     "start_time": "2022-06-06T15:34:44.273688",
     "status": "completed"
    },
    "tags": []
   },
   "outputs": [
    {
     "data": {
      "text/plain": [
       "array(['Charleston', 'Gainsville', 'Mississippi', 'Mississippi City',\n",
       "       'NC', 'New Orleans', 'South Carolina', 'States', 'US',\n",
       "       'United States', 'United States of America', 'Vicksburg'],\n",
       "      dtype='<U24')"
      ]
     },
     "execution_count": 81,
     "metadata": {},
     "output_type": "execute_result"
    }
   ],
   "source": [
    "np.unique(GPE)"
   ]
  },
  {
   "cell_type": "code",
   "execution_count": 82,
   "id": "39b7792e",
   "metadata": {
    "execution": {
     "iopub.execute_input": "2022-06-06T15:34:44.440847Z",
     "iopub.status.busy": "2022-06-06T15:34:44.440194Z",
     "iopub.status.idle": "2022-06-06T15:34:44.446873Z",
     "shell.execute_reply": "2022-06-06T15:34:44.445831Z"
    },
    "papermill": {
     "duration": 0.057715,
     "end_time": "2022-06-06T15:34:44.449054",
     "exception": false,
     "start_time": "2022-06-06T15:34:44.391339",
     "status": "completed"
    },
    "tags": []
   },
   "outputs": [
    {
     "data": {
      "text/plain": [
       "array(['Aiken', 'Aiken Burnwell', 'Charleston', 'Charleston Sate',\n",
       "       'Charleston Sc', 'City', 'City of Charleston',\n",
       "       'City of New Orleans', 'County', 'County of Charleston',\n",
       "       'County of Orangeburg', 'District of Beaufort', 'Gainsville',\n",
       "       'Harrison Co', 'Marshal City of Charleston', 'Miss', 'Miss City',\n",
       "       'Mississippi City', 'NC', 'Oacen Springs', 'Orangeburg SC',\n",
       "       'Pass Christian Mississippi', 'Port of Miss', 'SC', 'South Ca',\n",
       "       'State of So Carolina', 'State of South Carolina',\n",
       "       'UNITED STATES OF AMERICA', 'United State of America',\n",
       "       'United States', 'United States Union of State',\n",
       "       'United States Union of States', 'United States of America',\n",
       "       'Walhalla State of South Carolina', 'Warren Co',\n",
       "       'Wilkinson County State of Mississippi'], dtype='<U37')"
      ]
     },
     "execution_count": 82,
     "metadata": {},
     "output_type": "execute_result"
    }
   ],
   "source": [
    "np.unique(LOC2)"
   ]
  },
  {
   "cell_type": "markdown",
   "id": "639625d4",
   "metadata": {
    "papermill": {
     "duration": 0.046633,
     "end_time": "2022-06-06T15:34:44.542641",
     "exception": false,
     "start_time": "2022-06-06T15:34:44.496008",
     "status": "completed"
    },
    "tags": []
   },
   "source": [
    "****"
   ]
  },
  {
   "cell_type": "markdown",
   "id": "c58535d9",
   "metadata": {
    "papermill": {
     "duration": 0.046589,
     "end_time": "2022-06-06T15:34:44.636646",
     "exception": false,
     "start_time": "2022-06-06T15:34:44.590057",
     "status": "completed"
    },
    "tags": []
   },
   "source": [
    "**Date**"
   ]
  },
  {
   "cell_type": "code",
   "execution_count": 83,
   "id": "d9bcb2b8",
   "metadata": {
    "execution": {
     "iopub.execute_input": "2022-06-06T15:34:44.731962Z",
     "iopub.status.busy": "2022-06-06T15:34:44.731559Z",
     "iopub.status.idle": "2022-06-06T15:34:44.737753Z",
     "shell.execute_reply": "2022-06-06T15:34:44.736851Z"
    },
    "papermill": {
     "duration": 0.056441,
     "end_time": "2022-06-06T15:34:44.739969",
     "exception": false,
     "start_time": "2022-06-06T15:34:44.683528",
     "status": "completed"
    },
    "tags": []
   },
   "outputs": [
    {
     "data": {
      "text/plain": [
       "['27th day of Novb 1865',\n",
       " '27th day of Novbr 1865',\n",
       " '28 day of Sept 1865',\n",
       " '31 day of Oct 1865',\n",
       " '31st day of August AD 1865',\n",
       " 'August 24 1865',\n",
       " '3 day of August 1865',\n",
       " '3 day of Augt 1865',\n",
       " '16th day of Sept 1865',\n",
       " '16 day of October 1865',\n",
       " '6 day of Nov 1865',\n",
       " 'Sept 29 1865',\n",
       " '29th day of September 1865',\n",
       " '29th day of Sept 29 1865',\n",
       " '3d day of February 1868',\n",
       " '7th day of September 186',\n",
       " 'Aug 20 1865',\n",
       " '20th day of August 1865',\n",
       " '22nd day of August 1865',\n",
       " '18th Sept 1865',\n",
       " 'Aug 31 1865',\n",
       " '31st day of Aug 1865',\n",
       " '31 day of Aug 1865']"
      ]
     },
     "execution_count": 83,
     "metadata": {},
     "output_type": "execute_result"
    }
   ],
   "source": [
    "Final_date"
   ]
  },
  {
   "cell_type": "markdown",
   "id": "70dc0cc5",
   "metadata": {
    "papermill": {
     "duration": 0.048293,
     "end_time": "2022-06-06T15:34:44.837948",
     "exception": false,
     "start_time": "2022-06-06T15:34:44.789655",
     "status": "completed"
    },
    "tags": []
   },
   "source": [
    "****"
   ]
  },
  {
   "cell_type": "code",
   "execution_count": null,
   "id": "a7c32694",
   "metadata": {
    "papermill": {
     "duration": 0.046413,
     "end_time": "2022-06-06T15:34:44.932211",
     "exception": false,
     "start_time": "2022-06-06T15:34:44.885798",
     "status": "completed"
    },
    "tags": []
   },
   "outputs": [],
   "source": []
  },
  {
   "cell_type": "code",
   "execution_count": null,
   "id": "18bcb6c4",
   "metadata": {
    "papermill": {
     "duration": 0.047615,
     "end_time": "2022-06-06T15:34:45.027444",
     "exception": false,
     "start_time": "2022-06-06T15:34:44.979829",
     "status": "completed"
    },
    "tags": []
   },
   "outputs": [],
   "source": []
  },
  {
   "cell_type": "code",
   "execution_count": null,
   "id": "ee6052a3",
   "metadata": {
    "papermill": {
     "duration": 0.046378,
     "end_time": "2022-06-06T15:34:45.121014",
     "exception": false,
     "start_time": "2022-06-06T15:34:45.074636",
     "status": "completed"
    },
    "tags": []
   },
   "outputs": [],
   "source": []
  },
  {
   "cell_type": "code",
   "execution_count": null,
   "id": "912554bd",
   "metadata": {
    "papermill": {
     "duration": 0.046652,
     "end_time": "2022-06-06T15:34:45.215078",
     "exception": false,
     "start_time": "2022-06-06T15:34:45.168426",
     "status": "completed"
    },
    "tags": []
   },
   "outputs": [],
   "source": []
  },
  {
   "cell_type": "code",
   "execution_count": null,
   "id": "f2b26d7a",
   "metadata": {
    "papermill": {
     "duration": 0.046438,
     "end_time": "2022-06-06T15:34:45.308454",
     "exception": false,
     "start_time": "2022-06-06T15:34:45.262016",
     "status": "completed"
    },
    "tags": []
   },
   "outputs": [],
   "source": []
  }
 ],
 "metadata": {
  "kernelspec": {
   "display_name": "Python 3",
   "language": "python",
   "name": "python3"
  },
  "language_info": {
   "codemirror_mode": {
    "name": "ipython",
    "version": 3
   },
   "file_extension": ".py",
   "mimetype": "text/x-python",
   "name": "python",
   "nbconvert_exporter": "python",
   "pygments_lexer": "ipython3",
   "version": "3.7.12"
  },
  "papermill": {
   "default_parameters": {},
   "duration": 742.205168,
   "end_time": "2022-06-06T15:34:48.791458",
   "environment_variables": {},
   "exception": null,
   "input_path": "__notebook__.ipynb",
   "output_path": "__notebook__.ipynb",
   "parameters": {},
   "start_time": "2022-06-06T15:22:26.586290",
   "version": "2.3.4"
  },
  "widgets": {
   "application/vnd.jupyter.widget-state+json": {
    "state": {
     "006efb1a459c4b57831f5de323abe30b": {
      "model_module": "@jupyter-widgets/controls",
      "model_module_version": "1.5.0",
      "model_name": "HTMLModel",
      "state": {
       "_dom_classes": [],
       "_model_module": "@jupyter-widgets/controls",
       "_model_module_version": "1.5.0",
       "_model_name": "HTMLModel",
       "_view_count": null,
       "_view_module": "@jupyter-widgets/controls",
       "_view_module_version": "1.5.0",
       "_view_name": "HTMLView",
       "description": "",
       "description_tooltip": null,
       "layout": "IPY_MODEL_9d40fc5414ad4622a0c1ee81108b60e7",
       "placeholder": "​",
       "style": "IPY_MODEL_321ed0c7b1884c0e9892ea84aedeff5a",
       "value": " 8.68M/8.68M [00:01&lt;00:00, 8.03MB/s]"
      }
     },
     "01bc29154ce143afb271adb2cd44f6fa": {
      "model_module": "@jupyter-widgets/controls",
      "model_module_version": "1.5.0",
      "model_name": "HTMLModel",
      "state": {
       "_dom_classes": [],
       "_model_module": "@jupyter-widgets/controls",
       "_model_module_version": "1.5.0",
       "_model_name": "HTMLModel",
       "_view_count": null,
       "_view_module": "@jupyter-widgets/controls",
       "_view_module_version": "1.5.0",
       "_view_name": "HTMLView",
       "description": "",
       "description_tooltip": null,
       "layout": "IPY_MODEL_6a399598f56c430e89428bce1d887b84",
       "placeholder": "​",
       "style": "IPY_MODEL_cdbcb8a5e18648218737a0a9e395cd08",
       "value": "Downloading: 100%"
      }
     },
     "0b459dbcec8e4b49971970739e0f0286": {
      "model_module": "@jupyter-widgets/base",
      "model_module_version": "1.2.0",
      "model_name": "LayoutModel",
      "state": {
       "_model_module": "@jupyter-widgets/base",
       "_model_module_version": "1.2.0",
       "_model_name": "LayoutModel",
       "_view_count": null,
       "_view_module": "@jupyter-widgets/base",
       "_view_module_version": "1.2.0",
       "_view_name": "LayoutView",
       "align_content": null,
       "align_items": null,
       "align_self": null,
       "border": null,
       "bottom": null,
       "display": null,
       "flex": null,
       "flex_flow": null,
       "grid_area": null,
       "grid_auto_columns": null,
       "grid_auto_flow": null,
       "grid_auto_rows": null,
       "grid_column": null,
       "grid_gap": null,
       "grid_row": null,
       "grid_template_areas": null,
       "grid_template_columns": null,
       "grid_template_rows": null,
       "height": null,
       "justify_content": null,
       "justify_items": null,
       "left": null,
       "margin": null,
       "max_height": null,
       "max_width": null,
       "min_height": null,
       "min_width": null,
       "object_fit": null,
       "object_position": null,
       "order": null,
       "overflow": null,
       "overflow_x": null,
       "overflow_y": null,
       "padding": null,
       "right": null,
       "top": null,
       "visibility": null,
       "width": null
      }
     },
     "0f44a7f49dd14a37927f2c2bc85e74b9": {
      "model_module": "@jupyter-widgets/base",
      "model_module_version": "1.2.0",
      "model_name": "LayoutModel",
      "state": {
       "_model_module": "@jupyter-widgets/base",
       "_model_module_version": "1.2.0",
       "_model_name": "LayoutModel",
       "_view_count": null,
       "_view_module": "@jupyter-widgets/base",
       "_view_module_version": "1.2.0",
       "_view_name": "LayoutView",
       "align_content": null,
       "align_items": null,
       "align_self": null,
       "border": null,
       "bottom": null,
       "display": null,
       "flex": null,
       "flex_flow": null,
       "grid_area": null,
       "grid_auto_columns": null,
       "grid_auto_flow": null,
       "grid_auto_rows": null,
       "grid_column": null,
       "grid_gap": null,
       "grid_row": null,
       "grid_template_areas": null,
       "grid_template_columns": null,
       "grid_template_rows": null,
       "height": null,
       "justify_content": null,
       "justify_items": null,
       "left": null,
       "margin": null,
       "max_height": null,
       "max_width": null,
       "min_height": null,
       "min_width": null,
       "object_fit": null,
       "object_position": null,
       "order": null,
       "overflow": null,
       "overflow_x": null,
       "overflow_y": null,
       "padding": null,
       "right": null,
       "top": null,
       "visibility": null,
       "width": null
      }
     },
     "167aa435d97846608b58aba00fbc5907": {
      "model_module": "@jupyter-widgets/base",
      "model_module_version": "1.2.0",
      "model_name": "LayoutModel",
      "state": {
       "_model_module": "@jupyter-widgets/base",
       "_model_module_version": "1.2.0",
       "_model_name": "LayoutModel",
       "_view_count": null,
       "_view_module": "@jupyter-widgets/base",
       "_view_module_version": "1.2.0",
       "_view_name": "LayoutView",
       "align_content": null,
       "align_items": null,
       "align_self": null,
       "border": null,
       "bottom": null,
       "display": null,
       "flex": null,
       "flex_flow": null,
       "grid_area": null,
       "grid_auto_columns": null,
       "grid_auto_flow": null,
       "grid_auto_rows": null,
       "grid_column": null,
       "grid_gap": null,
       "grid_row": null,
       "grid_template_areas": null,
       "grid_template_columns": null,
       "grid_template_rows": null,
       "height": null,
       "justify_content": null,
       "justify_items": null,
       "left": null,
       "margin": null,
       "max_height": null,
       "max_width": null,
       "min_height": null,
       "min_width": null,
       "object_fit": null,
       "object_position": null,
       "order": null,
       "overflow": null,
       "overflow_x": null,
       "overflow_y": null,
       "padding": null,
       "right": null,
       "top": null,
       "visibility": null,
       "width": null
      }
     },
     "19d73cd0599242f3bc993372860259e8": {
      "model_module": "@jupyter-widgets/base",
      "model_module_version": "1.2.0",
      "model_name": "LayoutModel",
      "state": {
       "_model_module": "@jupyter-widgets/base",
       "_model_module_version": "1.2.0",
       "_model_name": "LayoutModel",
       "_view_count": null,
       "_view_module": "@jupyter-widgets/base",
       "_view_module_version": "1.2.0",
       "_view_name": "LayoutView",
       "align_content": null,
       "align_items": null,
       "align_self": null,
       "border": null,
       "bottom": null,
       "display": null,
       "flex": null,
       "flex_flow": null,
       "grid_area": null,
       "grid_auto_columns": null,
       "grid_auto_flow": null,
       "grid_auto_rows": null,
       "grid_column": null,
       "grid_gap": null,
       "grid_row": null,
       "grid_template_areas": null,
       "grid_template_columns": null,
       "grid_template_rows": null,
       "height": null,
       "justify_content": null,
       "justify_items": null,
       "left": null,
       "margin": null,
       "max_height": null,
       "max_width": null,
       "min_height": null,
       "min_width": null,
       "object_fit": null,
       "object_position": null,
       "order": null,
       "overflow": null,
       "overflow_x": null,
       "overflow_y": null,
       "padding": null,
       "right": null,
       "top": null,
       "visibility": null,
       "width": null
      }
     },
     "1be3e654777d4e2aabceb468d2d95a42": {
      "model_module": "@jupyter-widgets/controls",
      "model_module_version": "1.5.0",
      "model_name": "DescriptionStyleModel",
      "state": {
       "_model_module": "@jupyter-widgets/controls",
       "_model_module_version": "1.5.0",
       "_model_name": "DescriptionStyleModel",
       "_view_count": null,
       "_view_module": "@jupyter-widgets/base",
       "_view_module_version": "1.2.0",
       "_view_name": "StyleView",
       "description_width": ""
      }
     },
     "2554db416be84447a1ffb1851ee6bd4c": {
      "model_module": "@jupyter-widgets/controls",
      "model_module_version": "1.5.0",
      "model_name": "HTMLModel",
      "state": {
       "_dom_classes": [],
       "_model_module": "@jupyter-widgets/controls",
       "_model_module_version": "1.5.0",
       "_model_name": "HTMLModel",
       "_view_count": null,
       "_view_module": "@jupyter-widgets/controls",
       "_view_module_version": "1.5.0",
       "_view_name": "HTMLView",
       "description": "",
       "description_tooltip": null,
       "layout": "IPY_MODEL_e9addc9ef94c46ccab5487616476a716",
       "placeholder": "​",
       "style": "IPY_MODEL_a9edb05d4f7f4ef4af402f59613d015e",
       "value": "Downloading: 100%"
      }
     },
     "269ccb4f843146598085cdfcfe527e41": {
      "model_module": "@jupyter-widgets/controls",
      "model_module_version": "1.5.0",
      "model_name": "ProgressStyleModel",
      "state": {
       "_model_module": "@jupyter-widgets/controls",
       "_model_module_version": "1.5.0",
       "_model_name": "ProgressStyleModel",
       "_view_count": null,
       "_view_module": "@jupyter-widgets/base",
       "_view_module_version": "1.2.0",
       "_view_name": "StyleView",
       "bar_color": null,
       "description_width": ""
      }
     },
     "2971ebe7dc5047299a01140cad52656e": {
      "model_module": "@jupyter-widgets/controls",
      "model_module_version": "1.5.0",
      "model_name": "DescriptionStyleModel",
      "state": {
       "_model_module": "@jupyter-widgets/controls",
       "_model_module_version": "1.5.0",
       "_model_name": "DescriptionStyleModel",
       "_view_count": null,
       "_view_module": "@jupyter-widgets/base",
       "_view_module_version": "1.2.0",
       "_view_name": "StyleView",
       "description_width": ""
      }
     },
     "29d657f7775d46d7992cbee0dfbd3ea9": {
      "model_module": "@jupyter-widgets/controls",
      "model_module_version": "1.5.0",
      "model_name": "HBoxModel",
      "state": {
       "_dom_classes": [],
       "_model_module": "@jupyter-widgets/controls",
       "_model_module_version": "1.5.0",
       "_model_name": "HBoxModel",
       "_view_count": null,
       "_view_module": "@jupyter-widgets/controls",
       "_view_module_version": "1.5.0",
       "_view_name": "HBoxView",
       "box_style": "",
       "children": [
        "IPY_MODEL_74ea6aeceb98436782a8e326966d4570",
        "IPY_MODEL_456de4a443c04e1482c1a3d18027a9d6",
        "IPY_MODEL_c39a2bcd4fef49ee8824b6d19538af78"
       ],
       "layout": "IPY_MODEL_d01d0282159d4d26949f9bb47c8fb601"
      }
     },
     "2afb96bb75dc498ca26dec79ab1dbc7f": {
      "model_module": "@jupyter-widgets/base",
      "model_module_version": "1.2.0",
      "model_name": "LayoutModel",
      "state": {
       "_model_module": "@jupyter-widgets/base",
       "_model_module_version": "1.2.0",
       "_model_name": "LayoutModel",
       "_view_count": null,
       "_view_module": "@jupyter-widgets/base",
       "_view_module_version": "1.2.0",
       "_view_name": "LayoutView",
       "align_content": null,
       "align_items": null,
       "align_self": null,
       "border": null,
       "bottom": null,
       "display": null,
       "flex": null,
       "flex_flow": null,
       "grid_area": null,
       "grid_auto_columns": null,
       "grid_auto_flow": null,
       "grid_auto_rows": null,
       "grid_column": null,
       "grid_gap": null,
       "grid_row": null,
       "grid_template_areas": null,
       "grid_template_columns": null,
       "grid_template_rows": null,
       "height": null,
       "justify_content": null,
       "justify_items": null,
       "left": null,
       "margin": null,
       "max_height": null,
       "max_width": null,
       "min_height": null,
       "min_width": null,
       "object_fit": null,
       "object_position": null,
       "order": null,
       "overflow": null,
       "overflow_x": null,
       "overflow_y": null,
       "padding": null,
       "right": null,
       "top": null,
       "visibility": null,
       "width": null
      }
     },
     "2e25e68c37fc49e19347ff3aa0dc09b8": {
      "model_module": "@jupyter-widgets/base",
      "model_module_version": "1.2.0",
      "model_name": "LayoutModel",
      "state": {
       "_model_module": "@jupyter-widgets/base",
       "_model_module_version": "1.2.0",
       "_model_name": "LayoutModel",
       "_view_count": null,
       "_view_module": "@jupyter-widgets/base",
       "_view_module_version": "1.2.0",
       "_view_name": "LayoutView",
       "align_content": null,
       "align_items": null,
       "align_self": null,
       "border": null,
       "bottom": null,
       "display": null,
       "flex": null,
       "flex_flow": null,
       "grid_area": null,
       "grid_auto_columns": null,
       "grid_auto_flow": null,
       "grid_auto_rows": null,
       "grid_column": null,
       "grid_gap": null,
       "grid_row": null,
       "grid_template_areas": null,
       "grid_template_columns": null,
       "grid_template_rows": null,
       "height": null,
       "justify_content": null,
       "justify_items": null,
       "left": null,
       "margin": null,
       "max_height": null,
       "max_width": null,
       "min_height": null,
       "min_width": null,
       "object_fit": null,
       "object_position": null,
       "order": null,
       "overflow": null,
       "overflow_x": null,
       "overflow_y": null,
       "padding": null,
       "right": null,
       "top": null,
       "visibility": null,
       "width": null
      }
     },
     "310d4da4ae08489aa062142bf5ce5cd7": {
      "model_module": "@jupyter-widgets/base",
      "model_module_version": "1.2.0",
      "model_name": "LayoutModel",
      "state": {
       "_model_module": "@jupyter-widgets/base",
       "_model_module_version": "1.2.0",
       "_model_name": "LayoutModel",
       "_view_count": null,
       "_view_module": "@jupyter-widgets/base",
       "_view_module_version": "1.2.0",
       "_view_name": "LayoutView",
       "align_content": null,
       "align_items": null,
       "align_self": null,
       "border": null,
       "bottom": null,
       "display": null,
       "flex": null,
       "flex_flow": null,
       "grid_area": null,
       "grid_auto_columns": null,
       "grid_auto_flow": null,
       "grid_auto_rows": null,
       "grid_column": null,
       "grid_gap": null,
       "grid_row": null,
       "grid_template_areas": null,
       "grid_template_columns": null,
       "grid_template_rows": null,
       "height": null,
       "justify_content": null,
       "justify_items": null,
       "left": null,
       "margin": null,
       "max_height": null,
       "max_width": null,
       "min_height": null,
       "min_width": null,
       "object_fit": null,
       "object_position": null,
       "order": null,
       "overflow": null,
       "overflow_x": null,
       "overflow_y": null,
       "padding": null,
       "right": null,
       "top": null,
       "visibility": null,
       "width": null
      }
     },
     "31346c30b2984b838248d818128b51d0": {
      "model_module": "@jupyter-widgets/controls",
      "model_module_version": "1.5.0",
      "model_name": "HBoxModel",
      "state": {
       "_dom_classes": [],
       "_model_module": "@jupyter-widgets/controls",
       "_model_module_version": "1.5.0",
       "_model_name": "HBoxModel",
       "_view_count": null,
       "_view_module": "@jupyter-widgets/controls",
       "_view_module_version": "1.5.0",
       "_view_name": "HBoxView",
       "box_style": "",
       "children": [
        "IPY_MODEL_01bc29154ce143afb271adb2cd44f6fa",
        "IPY_MODEL_9347d3c9db744982b2d2ca5a6acbe432",
        "IPY_MODEL_e681c0e7fc6641159a445f5fcf9b3984"
       ],
       "layout": "IPY_MODEL_3be8d753bb2b4262a9196e167bd3c24e"
      }
     },
     "321ed0c7b1884c0e9892ea84aedeff5a": {
      "model_module": "@jupyter-widgets/controls",
      "model_module_version": "1.5.0",
      "model_name": "DescriptionStyleModel",
      "state": {
       "_model_module": "@jupyter-widgets/controls",
       "_model_module_version": "1.5.0",
       "_model_name": "DescriptionStyleModel",
       "_view_count": null,
       "_view_module": "@jupyter-widgets/base",
       "_view_module_version": "1.2.0",
       "_view_name": "StyleView",
       "description_width": ""
      }
     },
     "3400ca5410b84004a3dfe0d8cd30e2b5": {
      "model_module": "@jupyter-widgets/controls",
      "model_module_version": "1.5.0",
      "model_name": "HTMLModel",
      "state": {
       "_dom_classes": [],
       "_model_module": "@jupyter-widgets/controls",
       "_model_module_version": "1.5.0",
       "_model_name": "HTMLModel",
       "_view_count": null,
       "_view_module": "@jupyter-widgets/controls",
       "_view_module_version": "1.5.0",
       "_view_name": "HTMLView",
       "description": "",
       "description_tooltip": null,
       "layout": "IPY_MODEL_bc449434dfc445e585013973460707ef",
       "placeholder": "​",
       "style": "IPY_MODEL_2971ebe7dc5047299a01140cad52656e",
       "value": "Downloading: 100%"
      }
     },
     "34c521c172ef416282ba61a92ff48e48": {
      "model_module": "@jupyter-widgets/controls",
      "model_module_version": "1.5.0",
      "model_name": "FloatProgressModel",
      "state": {
       "_dom_classes": [],
       "_model_module": "@jupyter-widgets/controls",
       "_model_module_version": "1.5.0",
       "_model_name": "FloatProgressModel",
       "_view_count": null,
       "_view_module": "@jupyter-widgets/controls",
       "_view_module_version": "1.5.0",
       "_view_name": "ProgressView",
       "bar_style": "success",
       "description": "",
       "description_tooltip": null,
       "layout": "IPY_MODEL_ecf91dd2c41c4b3cb7f413239a305834",
       "max": 432176557.0,
       "min": 0.0,
       "orientation": "horizontal",
       "style": "IPY_MODEL_53456d5345e545358d62da6b840a6ffd",
       "value": 432176557.0
      }
     },
     "3787f7c53ff14d8ca2c7846796be1f8a": {
      "model_module": "@jupyter-widgets/controls",
      "model_module_version": "1.5.0",
      "model_name": "HTMLModel",
      "state": {
       "_dom_classes": [],
       "_model_module": "@jupyter-widgets/controls",
       "_model_module_version": "1.5.0",
       "_model_name": "HTMLModel",
       "_view_count": null,
       "_view_module": "@jupyter-widgets/controls",
       "_view_module_version": "1.5.0",
       "_view_name": "HTMLView",
       "description": "",
       "description_tooltip": null,
       "layout": "IPY_MODEL_2afb96bb75dc498ca26dec79ab1dbc7f",
       "placeholder": "​",
       "style": "IPY_MODEL_c1acb8cfa064449695b2d97687c06ce8",
       "value": " 2.24G/2.24G [03:01&lt;00:00, 12.7MB/s]"
      }
     },
     "3be8d753bb2b4262a9196e167bd3c24e": {
      "model_module": "@jupyter-widgets/base",
      "model_module_version": "1.2.0",
      "model_name": "LayoutModel",
      "state": {
       "_model_module": "@jupyter-widgets/base",
       "_model_module_version": "1.2.0",
       "_model_name": "LayoutModel",
       "_view_count": null,
       "_view_module": "@jupyter-widgets/base",
       "_view_module_version": "1.2.0",
       "_view_name": "LayoutView",
       "align_content": null,
       "align_items": null,
       "align_self": null,
       "border": null,
       "bottom": null,
       "display": null,
       "flex": null,
       "flex_flow": null,
       "grid_area": null,
       "grid_auto_columns": null,
       "grid_auto_flow": null,
       "grid_auto_rows": null,
       "grid_column": null,
       "grid_gap": null,
       "grid_row": null,
       "grid_template_areas": null,
       "grid_template_columns": null,
       "grid_template_rows": null,
       "height": null,
       "justify_content": null,
       "justify_items": null,
       "left": null,
       "margin": null,
       "max_height": null,
       "max_width": null,
       "min_height": null,
       "min_width": null,
       "object_fit": null,
       "object_position": null,
       "order": null,
       "overflow": null,
       "overflow_x": null,
       "overflow_y": null,
       "padding": null,
       "right": null,
       "top": null,
       "visibility": null,
       "width": null
      }
     },
     "40020062c8eb4377a5d685df25a354c2": {
      "model_module": "@jupyter-widgets/controls",
      "model_module_version": "1.5.0",
      "model_name": "HBoxModel",
      "state": {
       "_dom_classes": [],
       "_model_module": "@jupyter-widgets/controls",
       "_model_module_version": "1.5.0",
       "_model_name": "HBoxModel",
       "_view_count": null,
       "_view_module": "@jupyter-widgets/controls",
       "_view_module_version": "1.5.0",
       "_view_name": "HBoxView",
       "box_style": "",
       "children": [
        "IPY_MODEL_83571acf707848e8b46f3ae52db7598a",
        "IPY_MODEL_f2946501f1d340ee9db4d4c39f3f9aef",
        "IPY_MODEL_006efb1a459c4b57831f5de323abe30b"
       ],
       "layout": "IPY_MODEL_0f44a7f49dd14a37927f2c2bc85e74b9"
      }
     },
     "456de4a443c04e1482c1a3d18027a9d6": {
      "model_module": "@jupyter-widgets/controls",
      "model_module_version": "1.5.0",
      "model_name": "FloatProgressModel",
      "state": {
       "_dom_classes": [],
       "_model_module": "@jupyter-widgets/controls",
       "_model_module_version": "1.5.0",
       "_model_name": "FloatProgressModel",
       "_view_count": null,
       "_view_module": "@jupyter-widgets/controls",
       "_view_module_version": "1.5.0",
       "_view_name": "ProgressView",
       "bar_style": "success",
       "description": "",
       "description_tooltip": null,
       "layout": "IPY_MODEL_d47c59d8fe2348cfa8ed91a0bc9c58b4",
       "max": 5069051.0,
       "min": 0.0,
       "orientation": "horizontal",
       "style": "IPY_MODEL_6a36d4e4536a49c0a316f68e31950e77",
       "value": 5069051.0
      }
     },
     "4618a0169d6a4ac99698f627a7387801": {
      "model_module": "@jupyter-widgets/controls",
      "model_module_version": "1.5.0",
      "model_name": "DescriptionStyleModel",
      "state": {
       "_model_module": "@jupyter-widgets/controls",
       "_model_module_version": "1.5.0",
       "_model_name": "DescriptionStyleModel",
       "_view_count": null,
       "_view_module": "@jupyter-widgets/base",
       "_view_module_version": "1.2.0",
       "_view_name": "StyleView",
       "description_width": ""
      }
     },
     "4ebe97fe3b1d4a75aa6f5ce6bc98b799": {
      "model_module": "@jupyter-widgets/controls",
      "model_module_version": "1.5.0",
      "model_name": "HBoxModel",
      "state": {
       "_dom_classes": [],
       "_model_module": "@jupyter-widgets/controls",
       "_model_module_version": "1.5.0",
       "_model_name": "HBoxModel",
       "_view_count": null,
       "_view_module": "@jupyter-widgets/controls",
       "_view_module_version": "1.5.0",
       "_view_name": "HBoxView",
       "box_style": "",
       "children": [
        "IPY_MODEL_3400ca5410b84004a3dfe0d8cd30e2b5",
        "IPY_MODEL_ada1adec791647b6aae1c5d8b72705ce",
        "IPY_MODEL_b9475f11094e4339ae5a5e18dcc6d137"
       ],
       "layout": "IPY_MODEL_a9ba756dd23049f99e12f6867ddb89b4"
      }
     },
     "53456d5345e545358d62da6b840a6ffd": {
      "model_module": "@jupyter-widgets/controls",
      "model_module_version": "1.5.0",
      "model_name": "ProgressStyleModel",
      "state": {
       "_model_module": "@jupyter-widgets/controls",
       "_model_module_version": "1.5.0",
       "_model_name": "ProgressStyleModel",
       "_view_count": null,
       "_view_module": "@jupyter-widgets/base",
       "_view_module_version": "1.2.0",
       "_view_name": "StyleView",
       "bar_color": null,
       "description_width": ""
      }
     },
     "60c9d92d3b494c9dae02270ae12b7dbe": {
      "model_module": "@jupyter-widgets/base",
      "model_module_version": "1.2.0",
      "model_name": "LayoutModel",
      "state": {
       "_model_module": "@jupyter-widgets/base",
       "_model_module_version": "1.2.0",
       "_model_name": "LayoutModel",
       "_view_count": null,
       "_view_module": "@jupyter-widgets/base",
       "_view_module_version": "1.2.0",
       "_view_name": "LayoutView",
       "align_content": null,
       "align_items": null,
       "align_self": null,
       "border": null,
       "bottom": null,
       "display": null,
       "flex": null,
       "flex_flow": null,
       "grid_area": null,
       "grid_auto_columns": null,
       "grid_auto_flow": null,
       "grid_auto_rows": null,
       "grid_column": null,
       "grid_gap": null,
       "grid_row": null,
       "grid_template_areas": null,
       "grid_template_columns": null,
       "grid_template_rows": null,
       "height": null,
       "justify_content": null,
       "justify_items": null,
       "left": null,
       "margin": null,
       "max_height": null,
       "max_width": null,
       "min_height": null,
       "min_width": null,
       "object_fit": null,
       "object_position": null,
       "order": null,
       "overflow": null,
       "overflow_x": null,
       "overflow_y": null,
       "padding": null,
       "right": null,
       "top": null,
       "visibility": null,
       "width": null
      }
     },
     "6a36d4e4536a49c0a316f68e31950e77": {
      "model_module": "@jupyter-widgets/controls",
      "model_module_version": "1.5.0",
      "model_name": "ProgressStyleModel",
      "state": {
       "_model_module": "@jupyter-widgets/controls",
       "_model_module_version": "1.5.0",
       "_model_name": "ProgressStyleModel",
       "_view_count": null,
       "_view_module": "@jupyter-widgets/base",
       "_view_module_version": "1.2.0",
       "_view_name": "StyleView",
       "bar_color": null,
       "description_width": ""
      }
     },
     "6a399598f56c430e89428bce1d887b84": {
      "model_module": "@jupyter-widgets/base",
      "model_module_version": "1.2.0",
      "model_name": "LayoutModel",
      "state": {
       "_model_module": "@jupyter-widgets/base",
       "_model_module_version": "1.2.0",
       "_model_name": "LayoutModel",
       "_view_count": null,
       "_view_module": "@jupyter-widgets/base",
       "_view_module_version": "1.2.0",
       "_view_name": "LayoutView",
       "align_content": null,
       "align_items": null,
       "align_self": null,
       "border": null,
       "bottom": null,
       "display": null,
       "flex": null,
       "flex_flow": null,
       "grid_area": null,
       "grid_auto_columns": null,
       "grid_auto_flow": null,
       "grid_auto_rows": null,
       "grid_column": null,
       "grid_gap": null,
       "grid_row": null,
       "grid_template_areas": null,
       "grid_template_columns": null,
       "grid_template_rows": null,
       "height": null,
       "justify_content": null,
       "justify_items": null,
       "left": null,
       "margin": null,
       "max_height": null,
       "max_width": null,
       "min_height": null,
       "min_width": null,
       "object_fit": null,
       "object_position": null,
       "order": null,
       "overflow": null,
       "overflow_x": null,
       "overflow_y": null,
       "padding": null,
       "right": null,
       "top": null,
       "visibility": null,
       "width": null
      }
     },
     "74ea6aeceb98436782a8e326966d4570": {
      "model_module": "@jupyter-widgets/controls",
      "model_module_version": "1.5.0",
      "model_name": "HTMLModel",
      "state": {
       "_dom_classes": [],
       "_model_module": "@jupyter-widgets/controls",
       "_model_module_version": "1.5.0",
       "_model_name": "HTMLModel",
       "_view_count": null,
       "_view_module": "@jupyter-widgets/controls",
       "_view_module_version": "1.5.0",
       "_view_name": "HTMLView",
       "description": "",
       "description_tooltip": null,
       "layout": "IPY_MODEL_d0f528278150484f99e25e5c3b7f35cb",
       "placeholder": "​",
       "style": "IPY_MODEL_9b5aa6a887fc43a2b70932ff701d604c",
       "value": "Downloading: 100%"
      }
     },
     "83571acf707848e8b46f3ae52db7598a": {
      "model_module": "@jupyter-widgets/controls",
      "model_module_version": "1.5.0",
      "model_name": "HTMLModel",
      "state": {
       "_dom_classes": [],
       "_model_module": "@jupyter-widgets/controls",
       "_model_module_version": "1.5.0",
       "_model_name": "HTMLModel",
       "_view_count": null,
       "_view_module": "@jupyter-widgets/controls",
       "_view_module_version": "1.5.0",
       "_view_name": "HTMLView",
       "description": "",
       "description_tooltip": null,
       "layout": "IPY_MODEL_dc3564dad3ac4ef58dbe5f030b323936",
       "placeholder": "​",
       "style": "IPY_MODEL_d2c6ca4881ed4cf78f5b251fff1b5c36",
       "value": "Downloading: 100%"
      }
     },
     "8364b828441b41a891f76d6595641e8c": {
      "model_module": "@jupyter-widgets/base",
      "model_module_version": "1.2.0",
      "model_name": "LayoutModel",
      "state": {
       "_model_module": "@jupyter-widgets/base",
       "_model_module_version": "1.2.0",
       "_model_name": "LayoutModel",
       "_view_count": null,
       "_view_module": "@jupyter-widgets/base",
       "_view_module_version": "1.2.0",
       "_view_name": "LayoutView",
       "align_content": null,
       "align_items": null,
       "align_self": null,
       "border": null,
       "bottom": null,
       "display": null,
       "flex": null,
       "flex_flow": null,
       "grid_area": null,
       "grid_auto_columns": null,
       "grid_auto_flow": null,
       "grid_auto_rows": null,
       "grid_column": null,
       "grid_gap": null,
       "grid_row": null,
       "grid_template_areas": null,
       "grid_template_columns": null,
       "grid_template_rows": null,
       "height": null,
       "justify_content": null,
       "justify_items": null,
       "left": null,
       "margin": null,
       "max_height": null,
       "max_width": null,
       "min_height": null,
       "min_width": null,
       "object_fit": null,
       "object_position": null,
       "order": null,
       "overflow": null,
       "overflow_x": null,
       "overflow_y": null,
       "padding": null,
       "right": null,
       "top": null,
       "visibility": null,
       "width": null
      }
     },
     "8ac4712e162d4fcf8d31a624f06a48de": {
      "model_module": "@jupyter-widgets/controls",
      "model_module_version": "1.5.0",
      "model_name": "FloatProgressModel",
      "state": {
       "_dom_classes": [],
       "_model_module": "@jupyter-widgets/controls",
       "_model_module_version": "1.5.0",
       "_model_name": "FloatProgressModel",
       "_view_count": null,
       "_view_module": "@jupyter-widgets/controls",
       "_view_module_version": "1.5.0",
       "_view_name": "ProgressView",
       "bar_style": "success",
       "description": "",
       "description_tooltip": null,
       "layout": "IPY_MODEL_2e25e68c37fc49e19347ff3aa0dc09b8",
       "max": 2239866761.0,
       "min": 0.0,
       "orientation": "horizontal",
       "style": "IPY_MODEL_b508cc1934274f69b447c151d7af3aba",
       "value": 2239866761.0
      }
     },
     "8bd99d13bf55413d8d3ff518e0d9291a": {
      "model_module": "@jupyter-widgets/controls",
      "model_module_version": "1.5.0",
      "model_name": "ProgressStyleModel",
      "state": {
       "_model_module": "@jupyter-widgets/controls",
       "_model_module_version": "1.5.0",
       "_model_name": "ProgressStyleModel",
       "_view_count": null,
       "_view_module": "@jupyter-widgets/base",
       "_view_module_version": "1.2.0",
       "_view_name": "StyleView",
       "bar_color": null,
       "description_width": ""
      }
     },
     "8d05a98ba86841d1897bc5617c03b9ac": {
      "model_module": "@jupyter-widgets/controls",
      "model_module_version": "1.5.0",
      "model_name": "DescriptionStyleModel",
      "state": {
       "_model_module": "@jupyter-widgets/controls",
       "_model_module_version": "1.5.0",
       "_model_name": "DescriptionStyleModel",
       "_view_count": null,
       "_view_module": "@jupyter-widgets/base",
       "_view_module_version": "1.2.0",
       "_view_name": "StyleView",
       "description_width": ""
      }
     },
     "9347d3c9db744982b2d2ca5a6acbe432": {
      "model_module": "@jupyter-widgets/controls",
      "model_module_version": "1.5.0",
      "model_name": "FloatProgressModel",
      "state": {
       "_dom_classes": [],
       "_model_module": "@jupyter-widgets/controls",
       "_model_module_version": "1.5.0",
       "_model_name": "FloatProgressModel",
       "_view_count": null,
       "_view_module": "@jupyter-widgets/controls",
       "_view_module_version": "1.5.0",
       "_view_name": "ProgressView",
       "bar_style": "success",
       "description": "",
       "description_tooltip": null,
       "layout": "IPY_MODEL_a46e16c24876483e99595260f2a5cd3b",
       "max": 2240097289.0,
       "min": 0.0,
       "orientation": "horizontal",
       "style": "IPY_MODEL_269ccb4f843146598085cdfcfe527e41",
       "value": 2240097289.0
      }
     },
     "9b5aa6a887fc43a2b70932ff701d604c": {
      "model_module": "@jupyter-widgets/controls",
      "model_module_version": "1.5.0",
      "model_name": "DescriptionStyleModel",
      "state": {
       "_model_module": "@jupyter-widgets/controls",
       "_model_module_version": "1.5.0",
       "_model_name": "DescriptionStyleModel",
       "_view_count": null,
       "_view_module": "@jupyter-widgets/base",
       "_view_module_version": "1.2.0",
       "_view_name": "StyleView",
       "description_width": ""
      }
     },
     "9d40fc5414ad4622a0c1ee81108b60e7": {
      "model_module": "@jupyter-widgets/base",
      "model_module_version": "1.2.0",
      "model_name": "LayoutModel",
      "state": {
       "_model_module": "@jupyter-widgets/base",
       "_model_module_version": "1.2.0",
       "_model_name": "LayoutModel",
       "_view_count": null,
       "_view_module": "@jupyter-widgets/base",
       "_view_module_version": "1.2.0",
       "_view_name": "LayoutView",
       "align_content": null,
       "align_items": null,
       "align_self": null,
       "border": null,
       "bottom": null,
       "display": null,
       "flex": null,
       "flex_flow": null,
       "grid_area": null,
       "grid_auto_columns": null,
       "grid_auto_flow": null,
       "grid_auto_rows": null,
       "grid_column": null,
       "grid_gap": null,
       "grid_row": null,
       "grid_template_areas": null,
       "grid_template_columns": null,
       "grid_template_rows": null,
       "height": null,
       "justify_content": null,
       "justify_items": null,
       "left": null,
       "margin": null,
       "max_height": null,
       "max_width": null,
       "min_height": null,
       "min_width": null,
       "object_fit": null,
       "object_position": null,
       "order": null,
       "overflow": null,
       "overflow_x": null,
       "overflow_y": null,
       "padding": null,
       "right": null,
       "top": null,
       "visibility": null,
       "width": null
      }
     },
     "a46e16c24876483e99595260f2a5cd3b": {
      "model_module": "@jupyter-widgets/base",
      "model_module_version": "1.2.0",
      "model_name": "LayoutModel",
      "state": {
       "_model_module": "@jupyter-widgets/base",
       "_model_module_version": "1.2.0",
       "_model_name": "LayoutModel",
       "_view_count": null,
       "_view_module": "@jupyter-widgets/base",
       "_view_module_version": "1.2.0",
       "_view_name": "LayoutView",
       "align_content": null,
       "align_items": null,
       "align_self": null,
       "border": null,
       "bottom": null,
       "display": null,
       "flex": null,
       "flex_flow": null,
       "grid_area": null,
       "grid_auto_columns": null,
       "grid_auto_flow": null,
       "grid_auto_rows": null,
       "grid_column": null,
       "grid_gap": null,
       "grid_row": null,
       "grid_template_areas": null,
       "grid_template_columns": null,
       "grid_template_rows": null,
       "height": null,
       "justify_content": null,
       "justify_items": null,
       "left": null,
       "margin": null,
       "max_height": null,
       "max_width": null,
       "min_height": null,
       "min_width": null,
       "object_fit": null,
       "object_position": null,
       "order": null,
       "overflow": null,
       "overflow_x": null,
       "overflow_y": null,
       "padding": null,
       "right": null,
       "top": null,
       "visibility": null,
       "width": null
      }
     },
     "a9ba756dd23049f99e12f6867ddb89b4": {
      "model_module": "@jupyter-widgets/base",
      "model_module_version": "1.2.0",
      "model_name": "LayoutModel",
      "state": {
       "_model_module": "@jupyter-widgets/base",
       "_model_module_version": "1.2.0",
       "_model_name": "LayoutModel",
       "_view_count": null,
       "_view_module": "@jupyter-widgets/base",
       "_view_module_version": "1.2.0",
       "_view_name": "LayoutView",
       "align_content": null,
       "align_items": null,
       "align_self": null,
       "border": null,
       "bottom": null,
       "display": null,
       "flex": null,
       "flex_flow": null,
       "grid_area": null,
       "grid_auto_columns": null,
       "grid_auto_flow": null,
       "grid_auto_rows": null,
       "grid_column": null,
       "grid_gap": null,
       "grid_row": null,
       "grid_template_areas": null,
       "grid_template_columns": null,
       "grid_template_rows": null,
       "height": null,
       "justify_content": null,
       "justify_items": null,
       "left": null,
       "margin": null,
       "max_height": null,
       "max_width": null,
       "min_height": null,
       "min_width": null,
       "object_fit": null,
       "object_position": null,
       "order": null,
       "overflow": null,
       "overflow_x": null,
       "overflow_y": null,
       "padding": null,
       "right": null,
       "top": null,
       "visibility": null,
       "width": null
      }
     },
     "a9edb05d4f7f4ef4af402f59613d015e": {
      "model_module": "@jupyter-widgets/controls",
      "model_module_version": "1.5.0",
      "model_name": "DescriptionStyleModel",
      "state": {
       "_model_module": "@jupyter-widgets/controls",
       "_model_module_version": "1.5.0",
       "_model_name": "DescriptionStyleModel",
       "_view_count": null,
       "_view_module": "@jupyter-widgets/base",
       "_view_module_version": "1.2.0",
       "_view_name": "StyleView",
       "description_width": ""
      }
     },
     "ada1adec791647b6aae1c5d8b72705ce": {
      "model_module": "@jupyter-widgets/controls",
      "model_module_version": "1.5.0",
      "model_name": "FloatProgressModel",
      "state": {
       "_dom_classes": [],
       "_model_module": "@jupyter-widgets/controls",
       "_model_module_version": "1.5.0",
       "_model_name": "FloatProgressModel",
       "_view_count": null,
       "_view_module": "@jupyter-widgets/controls",
       "_view_module_version": "1.5.0",
       "_view_name": "ProgressView",
       "bar_style": "success",
       "description": "",
       "description_tooltip": null,
       "layout": "IPY_MODEL_ee782e9c83e34041a3cf5ad3708623ad",
       "max": 616.0,
       "min": 0.0,
       "orientation": "horizontal",
       "style": "IPY_MODEL_d346465c249e4426a3c59cd1c20e14d0",
       "value": 616.0
      }
     },
     "b42b25ff96364008a2e7f1073d37ee43": {
      "model_module": "@jupyter-widgets/controls",
      "model_module_version": "1.5.0",
      "model_name": "DescriptionStyleModel",
      "state": {
       "_model_module": "@jupyter-widgets/controls",
       "_model_module_version": "1.5.0",
       "_model_name": "DescriptionStyleModel",
       "_view_count": null,
       "_view_module": "@jupyter-widgets/base",
       "_view_module_version": "1.2.0",
       "_view_name": "StyleView",
       "description_width": ""
      }
     },
     "b508cc1934274f69b447c151d7af3aba": {
      "model_module": "@jupyter-widgets/controls",
      "model_module_version": "1.5.0",
      "model_name": "ProgressStyleModel",
      "state": {
       "_model_module": "@jupyter-widgets/controls",
       "_model_module_version": "1.5.0",
       "_model_name": "ProgressStyleModel",
       "_view_count": null,
       "_view_module": "@jupyter-widgets/base",
       "_view_module_version": "1.2.0",
       "_view_name": "StyleView",
       "bar_color": null,
       "description_width": ""
      }
     },
     "b9475f11094e4339ae5a5e18dcc6d137": {
      "model_module": "@jupyter-widgets/controls",
      "model_module_version": "1.5.0",
      "model_name": "HTMLModel",
      "state": {
       "_dom_classes": [],
       "_model_module": "@jupyter-widgets/controls",
       "_model_module_version": "1.5.0",
       "_model_name": "HTMLModel",
       "_view_count": null,
       "_view_module": "@jupyter-widgets/controls",
       "_view_module_version": "1.5.0",
       "_view_name": "HTMLView",
       "description": "",
       "description_tooltip": null,
       "layout": "IPY_MODEL_eab9045f059a4c32ac31337aa56778a1",
       "placeholder": "​",
       "style": "IPY_MODEL_8d05a98ba86841d1897bc5617c03b9ac",
       "value": " 616/616 [00:00&lt;00:00, 18.9kB/s]"
      }
     },
     "bc449434dfc445e585013973460707ef": {
      "model_module": "@jupyter-widgets/base",
      "model_module_version": "1.2.0",
      "model_name": "LayoutModel",
      "state": {
       "_model_module": "@jupyter-widgets/base",
       "_model_module_version": "1.2.0",
       "_model_name": "LayoutModel",
       "_view_count": null,
       "_view_module": "@jupyter-widgets/base",
       "_view_module_version": "1.2.0",
       "_view_name": "LayoutView",
       "align_content": null,
       "align_items": null,
       "align_self": null,
       "border": null,
       "bottom": null,
       "display": null,
       "flex": null,
       "flex_flow": null,
       "grid_area": null,
       "grid_auto_columns": null,
       "grid_auto_flow": null,
       "grid_auto_rows": null,
       "grid_column": null,
       "grid_gap": null,
       "grid_row": null,
       "grid_template_areas": null,
       "grid_template_columns": null,
       "grid_template_rows": null,
       "height": null,
       "justify_content": null,
       "justify_items": null,
       "left": null,
       "margin": null,
       "max_height": null,
       "max_width": null,
       "min_height": null,
       "min_width": null,
       "object_fit": null,
       "object_position": null,
       "order": null,
       "overflow": null,
       "overflow_x": null,
       "overflow_y": null,
       "padding": null,
       "right": null,
       "top": null,
       "visibility": null,
       "width": null
      }
     },
     "bd81d699e7214d53aa6109c37371ea4b": {
      "model_module": "@jupyter-widgets/controls",
      "model_module_version": "1.5.0",
      "model_name": "HTMLModel",
      "state": {
       "_dom_classes": [],
       "_model_module": "@jupyter-widgets/controls",
       "_model_module_version": "1.5.0",
       "_model_name": "HTMLModel",
       "_view_count": null,
       "_view_module": "@jupyter-widgets/controls",
       "_view_module_version": "1.5.0",
       "_view_name": "HTMLView",
       "description": "",
       "description_tooltip": null,
       "layout": "IPY_MODEL_167aa435d97846608b58aba00fbc5907",
       "placeholder": "​",
       "style": "IPY_MODEL_b42b25ff96364008a2e7f1073d37ee43",
       "value": " 432M/432M [00:39&lt;00:00, 12.8MB/s]"
      }
     },
     "c1acb8cfa064449695b2d97687c06ce8": {
      "model_module": "@jupyter-widgets/controls",
      "model_module_version": "1.5.0",
      "model_name": "DescriptionStyleModel",
      "state": {
       "_model_module": "@jupyter-widgets/controls",
       "_model_module_version": "1.5.0",
       "_model_name": "DescriptionStyleModel",
       "_view_count": null,
       "_view_module": "@jupyter-widgets/base",
       "_view_module_version": "1.2.0",
       "_view_name": "StyleView",
       "description_width": ""
      }
     },
     "c32295372ecb4d4d88bb4c4aac1227c8": {
      "model_module": "@jupyter-widgets/controls",
      "model_module_version": "1.5.0",
      "model_name": "DescriptionStyleModel",
      "state": {
       "_model_module": "@jupyter-widgets/controls",
       "_model_module_version": "1.5.0",
       "_model_name": "DescriptionStyleModel",
       "_view_count": null,
       "_view_module": "@jupyter-widgets/base",
       "_view_module_version": "1.2.0",
       "_view_name": "StyleView",
       "description_width": ""
      }
     },
     "c39a2bcd4fef49ee8824b6d19538af78": {
      "model_module": "@jupyter-widgets/controls",
      "model_module_version": "1.5.0",
      "model_name": "HTMLModel",
      "state": {
       "_dom_classes": [],
       "_model_module": "@jupyter-widgets/controls",
       "_model_module_version": "1.5.0",
       "_model_name": "HTMLModel",
       "_view_count": null,
       "_view_module": "@jupyter-widgets/controls",
       "_view_module_version": "1.5.0",
       "_view_name": "HTMLView",
       "description": "",
       "description_tooltip": null,
       "layout": "IPY_MODEL_8364b828441b41a891f76d6595641e8c",
       "placeholder": "​",
       "style": "IPY_MODEL_1be3e654777d4e2aabceb468d2d95a42",
       "value": " 4.83M/4.83M [00:01&lt;00:00, 3.95MB/s]"
      }
     },
     "c4a395940ae84d21ad9f701da4a3f1fe": {
      "model_module": "@jupyter-widgets/controls",
      "model_module_version": "1.5.0",
      "model_name": "HTMLModel",
      "state": {
       "_dom_classes": [],
       "_model_module": "@jupyter-widgets/controls",
       "_model_module_version": "1.5.0",
       "_model_name": "HTMLModel",
       "_view_count": null,
       "_view_module": "@jupyter-widgets/controls",
       "_view_module_version": "1.5.0",
       "_view_name": "HTMLView",
       "description": "",
       "description_tooltip": null,
       "layout": "IPY_MODEL_cb6555a9438740c8939184c4634ac6b6",
       "placeholder": "​",
       "style": "IPY_MODEL_c32295372ecb4d4d88bb4c4aac1227c8",
       "value": "Downloading: 100%"
      }
     },
     "cb6555a9438740c8939184c4634ac6b6": {
      "model_module": "@jupyter-widgets/base",
      "model_module_version": "1.2.0",
      "model_name": "LayoutModel",
      "state": {
       "_model_module": "@jupyter-widgets/base",
       "_model_module_version": "1.2.0",
       "_model_name": "LayoutModel",
       "_view_count": null,
       "_view_module": "@jupyter-widgets/base",
       "_view_module_version": "1.2.0",
       "_view_name": "LayoutView",
       "align_content": null,
       "align_items": null,
       "align_self": null,
       "border": null,
       "bottom": null,
       "display": null,
       "flex": null,
       "flex_flow": null,
       "grid_area": null,
       "grid_auto_columns": null,
       "grid_auto_flow": null,
       "grid_auto_rows": null,
       "grid_column": null,
       "grid_gap": null,
       "grid_row": null,
       "grid_template_areas": null,
       "grid_template_columns": null,
       "grid_template_rows": null,
       "height": null,
       "justify_content": null,
       "justify_items": null,
       "left": null,
       "margin": null,
       "max_height": null,
       "max_width": null,
       "min_height": null,
       "min_width": null,
       "object_fit": null,
       "object_position": null,
       "order": null,
       "overflow": null,
       "overflow_x": null,
       "overflow_y": null,
       "padding": null,
       "right": null,
       "top": null,
       "visibility": null,
       "width": null
      }
     },
     "cdbcb8a5e18648218737a0a9e395cd08": {
      "model_module": "@jupyter-widgets/controls",
      "model_module_version": "1.5.0",
      "model_name": "DescriptionStyleModel",
      "state": {
       "_model_module": "@jupyter-widgets/controls",
       "_model_module_version": "1.5.0",
       "_model_name": "DescriptionStyleModel",
       "_view_count": null,
       "_view_module": "@jupyter-widgets/base",
       "_view_module_version": "1.2.0",
       "_view_name": "StyleView",
       "description_width": ""
      }
     },
     "d01d0282159d4d26949f9bb47c8fb601": {
      "model_module": "@jupyter-widgets/base",
      "model_module_version": "1.2.0",
      "model_name": "LayoutModel",
      "state": {
       "_model_module": "@jupyter-widgets/base",
       "_model_module_version": "1.2.0",
       "_model_name": "LayoutModel",
       "_view_count": null,
       "_view_module": "@jupyter-widgets/base",
       "_view_module_version": "1.2.0",
       "_view_name": "LayoutView",
       "align_content": null,
       "align_items": null,
       "align_self": null,
       "border": null,
       "bottom": null,
       "display": null,
       "flex": null,
       "flex_flow": null,
       "grid_area": null,
       "grid_auto_columns": null,
       "grid_auto_flow": null,
       "grid_auto_rows": null,
       "grid_column": null,
       "grid_gap": null,
       "grid_row": null,
       "grid_template_areas": null,
       "grid_template_columns": null,
       "grid_template_rows": null,
       "height": null,
       "justify_content": null,
       "justify_items": null,
       "left": null,
       "margin": null,
       "max_height": null,
       "max_width": null,
       "min_height": null,
       "min_width": null,
       "object_fit": null,
       "object_position": null,
       "order": null,
       "overflow": null,
       "overflow_x": null,
       "overflow_y": null,
       "padding": null,
       "right": null,
       "top": null,
       "visibility": null,
       "width": null
      }
     },
     "d0f528278150484f99e25e5c3b7f35cb": {
      "model_module": "@jupyter-widgets/base",
      "model_module_version": "1.2.0",
      "model_name": "LayoutModel",
      "state": {
       "_model_module": "@jupyter-widgets/base",
       "_model_module_version": "1.2.0",
       "_model_name": "LayoutModel",
       "_view_count": null,
       "_view_module": "@jupyter-widgets/base",
       "_view_module_version": "1.2.0",
       "_view_name": "LayoutView",
       "align_content": null,
       "align_items": null,
       "align_self": null,
       "border": null,
       "bottom": null,
       "display": null,
       "flex": null,
       "flex_flow": null,
       "grid_area": null,
       "grid_auto_columns": null,
       "grid_auto_flow": null,
       "grid_auto_rows": null,
       "grid_column": null,
       "grid_gap": null,
       "grid_row": null,
       "grid_template_areas": null,
       "grid_template_columns": null,
       "grid_template_rows": null,
       "height": null,
       "justify_content": null,
       "justify_items": null,
       "left": null,
       "margin": null,
       "max_height": null,
       "max_width": null,
       "min_height": null,
       "min_width": null,
       "object_fit": null,
       "object_position": null,
       "order": null,
       "overflow": null,
       "overflow_x": null,
       "overflow_y": null,
       "padding": null,
       "right": null,
       "top": null,
       "visibility": null,
       "width": null
      }
     },
     "d2c6ca4881ed4cf78f5b251fff1b5c36": {
      "model_module": "@jupyter-widgets/controls",
      "model_module_version": "1.5.0",
      "model_name": "DescriptionStyleModel",
      "state": {
       "_model_module": "@jupyter-widgets/controls",
       "_model_module_version": "1.5.0",
       "_model_name": "DescriptionStyleModel",
       "_view_count": null,
       "_view_module": "@jupyter-widgets/base",
       "_view_module_version": "1.2.0",
       "_view_name": "StyleView",
       "description_width": ""
      }
     },
     "d346465c249e4426a3c59cd1c20e14d0": {
      "model_module": "@jupyter-widgets/controls",
      "model_module_version": "1.5.0",
      "model_name": "ProgressStyleModel",
      "state": {
       "_model_module": "@jupyter-widgets/controls",
       "_model_module_version": "1.5.0",
       "_model_name": "ProgressStyleModel",
       "_view_count": null,
       "_view_module": "@jupyter-widgets/base",
       "_view_module_version": "1.2.0",
       "_view_name": "StyleView",
       "bar_color": null,
       "description_width": ""
      }
     },
     "d47c59d8fe2348cfa8ed91a0bc9c58b4": {
      "model_module": "@jupyter-widgets/base",
      "model_module_version": "1.2.0",
      "model_name": "LayoutModel",
      "state": {
       "_model_module": "@jupyter-widgets/base",
       "_model_module_version": "1.2.0",
       "_model_name": "LayoutModel",
       "_view_count": null,
       "_view_module": "@jupyter-widgets/base",
       "_view_module_version": "1.2.0",
       "_view_name": "LayoutView",
       "align_content": null,
       "align_items": null,
       "align_self": null,
       "border": null,
       "bottom": null,
       "display": null,
       "flex": null,
       "flex_flow": null,
       "grid_area": null,
       "grid_auto_columns": null,
       "grid_auto_flow": null,
       "grid_auto_rows": null,
       "grid_column": null,
       "grid_gap": null,
       "grid_row": null,
       "grid_template_areas": null,
       "grid_template_columns": null,
       "grid_template_rows": null,
       "height": null,
       "justify_content": null,
       "justify_items": null,
       "left": null,
       "margin": null,
       "max_height": null,
       "max_width": null,
       "min_height": null,
       "min_width": null,
       "object_fit": null,
       "object_position": null,
       "order": null,
       "overflow": null,
       "overflow_x": null,
       "overflow_y": null,
       "padding": null,
       "right": null,
       "top": null,
       "visibility": null,
       "width": null
      }
     },
     "dc3564dad3ac4ef58dbe5f030b323936": {
      "model_module": "@jupyter-widgets/base",
      "model_module_version": "1.2.0",
      "model_name": "LayoutModel",
      "state": {
       "_model_module": "@jupyter-widgets/base",
       "_model_module_version": "1.2.0",
       "_model_name": "LayoutModel",
       "_view_count": null,
       "_view_module": "@jupyter-widgets/base",
       "_view_module_version": "1.2.0",
       "_view_name": "LayoutView",
       "align_content": null,
       "align_items": null,
       "align_self": null,
       "border": null,
       "bottom": null,
       "display": null,
       "flex": null,
       "flex_flow": null,
       "grid_area": null,
       "grid_auto_columns": null,
       "grid_auto_flow": null,
       "grid_auto_rows": null,
       "grid_column": null,
       "grid_gap": null,
       "grid_row": null,
       "grid_template_areas": null,
       "grid_template_columns": null,
       "grid_template_rows": null,
       "height": null,
       "justify_content": null,
       "justify_items": null,
       "left": null,
       "margin": null,
       "max_height": null,
       "max_width": null,
       "min_height": null,
       "min_width": null,
       "object_fit": null,
       "object_position": null,
       "order": null,
       "overflow": null,
       "overflow_x": null,
       "overflow_y": null,
       "padding": null,
       "right": null,
       "top": null,
       "visibility": null,
       "width": null
      }
     },
     "e411e5c118f448719872a168b1e7f46a": {
      "model_module": "@jupyter-widgets/controls",
      "model_module_version": "1.5.0",
      "model_name": "HBoxModel",
      "state": {
       "_dom_classes": [],
       "_model_module": "@jupyter-widgets/controls",
       "_model_module_version": "1.5.0",
       "_model_name": "HBoxModel",
       "_view_count": null,
       "_view_module": "@jupyter-widgets/controls",
       "_view_module_version": "1.5.0",
       "_view_name": "HBoxView",
       "box_style": "",
       "children": [
        "IPY_MODEL_c4a395940ae84d21ad9f701da4a3f1fe",
        "IPY_MODEL_8ac4712e162d4fcf8d31a624f06a48de",
        "IPY_MODEL_3787f7c53ff14d8ca2c7846796be1f8a"
       ],
       "layout": "IPY_MODEL_0b459dbcec8e4b49971970739e0f0286"
      }
     },
     "e5271dcbfec047db9f1312f3b737a0e7": {
      "model_module": "@jupyter-widgets/controls",
      "model_module_version": "1.5.0",
      "model_name": "HBoxModel",
      "state": {
       "_dom_classes": [],
       "_model_module": "@jupyter-widgets/controls",
       "_model_module_version": "1.5.0",
       "_model_name": "HBoxModel",
       "_view_count": null,
       "_view_module": "@jupyter-widgets/controls",
       "_view_module_version": "1.5.0",
       "_view_name": "HBoxView",
       "box_style": "",
       "children": [
        "IPY_MODEL_2554db416be84447a1ffb1851ee6bd4c",
        "IPY_MODEL_34c521c172ef416282ba61a92ff48e48",
        "IPY_MODEL_bd81d699e7214d53aa6109c37371ea4b"
       ],
       "layout": "IPY_MODEL_310d4da4ae08489aa062142bf5ce5cd7"
      }
     },
     "e681c0e7fc6641159a445f5fcf9b3984": {
      "model_module": "@jupyter-widgets/controls",
      "model_module_version": "1.5.0",
      "model_name": "HTMLModel",
      "state": {
       "_dom_classes": [],
       "_model_module": "@jupyter-widgets/controls",
       "_model_module_version": "1.5.0",
       "_model_name": "HTMLModel",
       "_view_count": null,
       "_view_module": "@jupyter-widgets/controls",
       "_view_module_version": "1.5.0",
       "_view_name": "HTMLView",
       "description": "",
       "description_tooltip": null,
       "layout": "IPY_MODEL_19d73cd0599242f3bc993372860259e8",
       "placeholder": "​",
       "style": "IPY_MODEL_4618a0169d6a4ac99698f627a7387801",
       "value": " 2.24G/2.24G [03:03&lt;00:00, 12.7MB/s]"
      }
     },
     "e9addc9ef94c46ccab5487616476a716": {
      "model_module": "@jupyter-widgets/base",
      "model_module_version": "1.2.0",
      "model_name": "LayoutModel",
      "state": {
       "_model_module": "@jupyter-widgets/base",
       "_model_module_version": "1.2.0",
       "_model_name": "LayoutModel",
       "_view_count": null,
       "_view_module": "@jupyter-widgets/base",
       "_view_module_version": "1.2.0",
       "_view_name": "LayoutView",
       "align_content": null,
       "align_items": null,
       "align_self": null,
       "border": null,
       "bottom": null,
       "display": null,
       "flex": null,
       "flex_flow": null,
       "grid_area": null,
       "grid_auto_columns": null,
       "grid_auto_flow": null,
       "grid_auto_rows": null,
       "grid_column": null,
       "grid_gap": null,
       "grid_row": null,
       "grid_template_areas": null,
       "grid_template_columns": null,
       "grid_template_rows": null,
       "height": null,
       "justify_content": null,
       "justify_items": null,
       "left": null,
       "margin": null,
       "max_height": null,
       "max_width": null,
       "min_height": null,
       "min_width": null,
       "object_fit": null,
       "object_position": null,
       "order": null,
       "overflow": null,
       "overflow_x": null,
       "overflow_y": null,
       "padding": null,
       "right": null,
       "top": null,
       "visibility": null,
       "width": null
      }
     },
     "eab9045f059a4c32ac31337aa56778a1": {
      "model_module": "@jupyter-widgets/base",
      "model_module_version": "1.2.0",
      "model_name": "LayoutModel",
      "state": {
       "_model_module": "@jupyter-widgets/base",
       "_model_module_version": "1.2.0",
       "_model_name": "LayoutModel",
       "_view_count": null,
       "_view_module": "@jupyter-widgets/base",
       "_view_module_version": "1.2.0",
       "_view_name": "LayoutView",
       "align_content": null,
       "align_items": null,
       "align_self": null,
       "border": null,
       "bottom": null,
       "display": null,
       "flex": null,
       "flex_flow": null,
       "grid_area": null,
       "grid_auto_columns": null,
       "grid_auto_flow": null,
       "grid_auto_rows": null,
       "grid_column": null,
       "grid_gap": null,
       "grid_row": null,
       "grid_template_areas": null,
       "grid_template_columns": null,
       "grid_template_rows": null,
       "height": null,
       "justify_content": null,
       "justify_items": null,
       "left": null,
       "margin": null,
       "max_height": null,
       "max_width": null,
       "min_height": null,
       "min_width": null,
       "object_fit": null,
       "object_position": null,
       "order": null,
       "overflow": null,
       "overflow_x": null,
       "overflow_y": null,
       "padding": null,
       "right": null,
       "top": null,
       "visibility": null,
       "width": null
      }
     },
     "ecf91dd2c41c4b3cb7f413239a305834": {
      "model_module": "@jupyter-widgets/base",
      "model_module_version": "1.2.0",
      "model_name": "LayoutModel",
      "state": {
       "_model_module": "@jupyter-widgets/base",
       "_model_module_version": "1.2.0",
       "_model_name": "LayoutModel",
       "_view_count": null,
       "_view_module": "@jupyter-widgets/base",
       "_view_module_version": "1.2.0",
       "_view_name": "LayoutView",
       "align_content": null,
       "align_items": null,
       "align_self": null,
       "border": null,
       "bottom": null,
       "display": null,
       "flex": null,
       "flex_flow": null,
       "grid_area": null,
       "grid_auto_columns": null,
       "grid_auto_flow": null,
       "grid_auto_rows": null,
       "grid_column": null,
       "grid_gap": null,
       "grid_row": null,
       "grid_template_areas": null,
       "grid_template_columns": null,
       "grid_template_rows": null,
       "height": null,
       "justify_content": null,
       "justify_items": null,
       "left": null,
       "margin": null,
       "max_height": null,
       "max_width": null,
       "min_height": null,
       "min_width": null,
       "object_fit": null,
       "object_position": null,
       "order": null,
       "overflow": null,
       "overflow_x": null,
       "overflow_y": null,
       "padding": null,
       "right": null,
       "top": null,
       "visibility": null,
       "width": null
      }
     },
     "ee782e9c83e34041a3cf5ad3708623ad": {
      "model_module": "@jupyter-widgets/base",
      "model_module_version": "1.2.0",
      "model_name": "LayoutModel",
      "state": {
       "_model_module": "@jupyter-widgets/base",
       "_model_module_version": "1.2.0",
       "_model_name": "LayoutModel",
       "_view_count": null,
       "_view_module": "@jupyter-widgets/base",
       "_view_module_version": "1.2.0",
       "_view_name": "LayoutView",
       "align_content": null,
       "align_items": null,
       "align_self": null,
       "border": null,
       "bottom": null,
       "display": null,
       "flex": null,
       "flex_flow": null,
       "grid_area": null,
       "grid_auto_columns": null,
       "grid_auto_flow": null,
       "grid_auto_rows": null,
       "grid_column": null,
       "grid_gap": null,
       "grid_row": null,
       "grid_template_areas": null,
       "grid_template_columns": null,
       "grid_template_rows": null,
       "height": null,
       "justify_content": null,
       "justify_items": null,
       "left": null,
       "margin": null,
       "max_height": null,
       "max_width": null,
       "min_height": null,
       "min_width": null,
       "object_fit": null,
       "object_position": null,
       "order": null,
       "overflow": null,
       "overflow_x": null,
       "overflow_y": null,
       "padding": null,
       "right": null,
       "top": null,
       "visibility": null,
       "width": null
      }
     },
     "f2946501f1d340ee9db4d4c39f3f9aef": {
      "model_module": "@jupyter-widgets/controls",
      "model_module_version": "1.5.0",
      "model_name": "FloatProgressModel",
      "state": {
       "_dom_classes": [],
       "_model_module": "@jupyter-widgets/controls",
       "_model_module_version": "1.5.0",
       "_model_name": "FloatProgressModel",
       "_view_count": null,
       "_view_module": "@jupyter-widgets/controls",
       "_view_module_version": "1.5.0",
       "_view_name": "ProgressView",
       "bar_style": "success",
       "description": "",
       "description_tooltip": null,
       "layout": "IPY_MODEL_60c9d92d3b494c9dae02270ae12b7dbe",
       "max": 9096718.0,
       "min": 0.0,
       "orientation": "horizontal",
       "style": "IPY_MODEL_8bd99d13bf55413d8d3ff518e0d9291a",
       "value": 9096718.0
      }
     }
    },
    "version_major": 2,
    "version_minor": 0
   }
  }
 },
 "nbformat": 4,
 "nbformat_minor": 5
}
