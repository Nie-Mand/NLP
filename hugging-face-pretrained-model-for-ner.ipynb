{
 "cells": [
  {
   "cell_type": "code",
   "execution_count": 1,
   "id": "aef01282",
   "metadata": {
    "execution": {
     "iopub.execute_input": "2022-06-08T07:48:13.964757Z",
     "iopub.status.busy": "2022-06-08T07:48:13.963896Z",
     "iopub.status.idle": "2022-06-08T07:48:22.022514Z",
     "shell.execute_reply": "2022-06-08T07:48:22.021572Z"
    },
    "papermill": {
     "duration": 8.083409,
     "end_time": "2022-06-08T07:48:22.024946",
     "exception": false,
     "start_time": "2022-06-08T07:48:13.941537",
     "status": "completed"
    },
    "tags": []
   },
   "outputs": [],
   "source": [
    "import numpy as np\n",
    "import pandas as pd \n",
    "import seaborn as sns\n",
    "import matplotlib.pyplot as plt \n",
    "import matplotlib.style as stl \n",
    "from tensorflow import keras \n",
    "from keras.preprocessing.text import Tokenizer\n",
    "from nltk.corpus import stopwords\n",
    "import string\n",
    "from tensorflow.keras.models import Sequential,Model\n",
    "from tensorflow.keras.layers import Dense, LSTM, Embedding,Dropout,SpatialDropout1D,Conv1D,MaxPooling1D,GRU,BatchNormalization\n",
    "import warnings\n",
    "warnings.filterwarnings('ignore')\n",
    "stl.use('ggplot')\n",
    "from tqdm import tqdm\n",
    "import string\n",
    "from nltk.corpus import stopwords\n",
    "from nltk.tokenize import word_tokenize\n",
    "from nltk.stem import WordNetLemmatizer\n",
    "from nltk.stem.snowball import SnowballStemmer\n",
    "import regex as re"
   ]
  },
  {
   "cell_type": "code",
   "execution_count": 2,
   "id": "b89eae43",
   "metadata": {
    "execution": {
     "iopub.execute_input": "2022-06-08T07:48:22.064101Z",
     "iopub.status.busy": "2022-06-08T07:48:22.063465Z",
     "iopub.status.idle": "2022-06-08T07:48:22.084679Z",
     "shell.execute_reply": "2022-06-08T07:48:22.083922Z"
    },
    "papermill": {
     "duration": 0.041745,
     "end_time": "2022-06-08T07:48:22.086632",
     "exception": false,
     "start_time": "2022-06-08T07:48:22.044887",
     "status": "completed"
    },
    "tags": []
   },
   "outputs": [],
   "source": [
    "data=pd.read_csv(\"../input/samplcsv/sample-2.csv\")"
   ]
  },
  {
   "cell_type": "code",
   "execution_count": 3,
   "id": "7efa2c1e",
   "metadata": {
    "execution": {
     "iopub.execute_input": "2022-06-08T07:48:22.125432Z",
     "iopub.status.busy": "2022-06-08T07:48:22.124797Z",
     "iopub.status.idle": "2022-06-08T07:48:22.153025Z",
     "shell.execute_reply": "2022-06-08T07:48:22.152368Z"
    },
    "papermill": {
     "duration": 0.049865,
     "end_time": "2022-06-08T07:48:22.155776",
     "exception": false,
     "start_time": "2022-06-08T07:48:22.105911",
     "status": "completed"
    },
    "tags": []
   },
   "outputs": [
    {
     "data": {
      "text/html": [
       "<div>\n",
       "<style scoped>\n",
       "    .dataframe tbody tr th:only-of-type {\n",
       "        vertical-align: middle;\n",
       "    }\n",
       "\n",
       "    .dataframe tbody tr th {\n",
       "        vertical-align: top;\n",
       "    }\n",
       "\n",
       "    .dataframe thead th {\n",
       "        text-align: right;\n",
       "    }\n",
       "</style>\n",
       "<table border=\"1\" class=\"dataframe\">\n",
       "  <thead>\n",
       "    <tr style=\"text-align: right;\">\n",
       "      <th></th>\n",
       "      <th>document_id</th>\n",
       "      <th>status</th>\n",
       "      <th>document_url</th>\n",
       "      <th>media_type</th>\n",
       "      <th>media_link</th>\n",
       "      <th>relative_media_path</th>\n",
       "      <th>is_media_downloaded</th>\n",
       "      <th>transcription_text</th>\n",
       "      <th>transcription_text_relative_path</th>\n",
       "      <th>from_time</th>\n",
       "      <th>to_time</th>\n",
       "      <th>project_id</th>\n",
       "      <th>Category</th>\n",
       "      <th>Unnamed: 13</th>\n",
       "      <th>Unnamed: 14</th>\n",
       "    </tr>\n",
       "  </thead>\n",
       "  <tbody>\n",
       "    <tr>\n",
       "      <th>0</th>\n",
       "      <td>NMAAHC-007676813_00577</td>\n",
       "      <td>Complete</td>\n",
       "      <td>https://transcription.si.edu/transcribe/32203/...</td>\n",
       "      <td>image</td>\n",
       "      <td>https://ids.si.edu/ids/deliveryService?max_w=&amp;...</td>\n",
       "      <td>/32203/image/NMAAHC-007676813_00577.jpg</td>\n",
       "      <td>1</td>\n",
       "      <td>8 E encl\\r\\n\\r\\nI Anne H. Elliott, widow do so...</td>\n",
       "      <td>/32203/transcriptions/NMAAHC-007676813_00577.txt</td>\n",
       "      <td>\\N</td>\n",
       "      <td>\\N</td>\n",
       "      <td>32203</td>\n",
       "      <td>Oaths/Pardons</td>\n",
       "      <td>NaN</td>\n",
       "      <td>NaN</td>\n",
       "    </tr>\n",
       "    <tr>\n",
       "      <th>1</th>\n",
       "      <td>NMAAHC-007676818_00567</td>\n",
       "      <td>Complete</td>\n",
       "      <td>https://transcription.si.edu/transcribe/32796/...</td>\n",
       "      <td>image</td>\n",
       "      <td>https://ids.si.edu/ids/deliveryService?max_w=&amp;...</td>\n",
       "      <td>/32796/image/NMAAHC-007676818_00567.jpg</td>\n",
       "      <td>1</td>\n",
       "      <td>I E C Whaley solemnly swear that I have carefu...</td>\n",
       "      <td>/32796/transcriptions/NMAAHC-007676818_00567.txt</td>\n",
       "      <td>\\N</td>\n",
       "      <td>\\N</td>\n",
       "      <td>32796</td>\n",
       "      <td>Oaths/Pardons</td>\n",
       "      <td>NaN</td>\n",
       "      <td>NaN</td>\n",
       "    </tr>\n",
       "    <tr>\n",
       "      <th>2</th>\n",
       "      <td>NMAAHC-007676815_00488-000001</td>\n",
       "      <td>Complete</td>\n",
       "      <td>https://transcription.si.edu/transcribe/32218/...</td>\n",
       "      <td>image</td>\n",
       "      <td>https://ids.si.edu/ids/deliveryService?max_w=&amp;...</td>\n",
       "      <td>/32218/image/NMAAHC-007676815_00488-000001.jpg</td>\n",
       "      <td>1</td>\n",
       "      <td>43M\\r\\nI Mrs E Montgomery solemnly Swear that ...</td>\n",
       "      <td>/32218/transcriptions/NMAAHC-007676815_00488-0...</td>\n",
       "      <td>\\N</td>\n",
       "      <td>\\N</td>\n",
       "      <td>32218</td>\n",
       "      <td>Oaths/Pardons</td>\n",
       "      <td>NaN</td>\n",
       "      <td>NaN</td>\n",
       "    </tr>\n",
       "    <tr>\n",
       "      <th>3</th>\n",
       "      <td>NMAAHC-007677400_00375</td>\n",
       "      <td>Complete</td>\n",
       "      <td>https://transcription.si.edu/transcribe/26149/...</td>\n",
       "      <td>image</td>\n",
       "      <td>https://ids.si.edu/ids/deliveryService?max_w=&amp;...</td>\n",
       "      <td>/26149/image/NMAAHC-007677400_00375.jpg</td>\n",
       "      <td>1</td>\n",
       "      <td>No. 2324\\r\\nI do solemnly swear or affirm, in ...</td>\n",
       "      <td>/26149/transcriptions/NMAAHC-007677400_00375.txt</td>\n",
       "      <td>\\N</td>\n",
       "      <td>\\N</td>\n",
       "      <td>26149</td>\n",
       "      <td>Oaths/Pardons</td>\n",
       "      <td>NaN</td>\n",
       "      <td>NaN</td>\n",
       "    </tr>\n",
       "    <tr>\n",
       "      <th>4</th>\n",
       "      <td>NMAAHC-007677378_00480</td>\n",
       "      <td>Complete</td>\n",
       "      <td>https://transcription.si.edu/transcribe/27345/...</td>\n",
       "      <td>image</td>\n",
       "      <td>https://ids.si.edu/ids/deliveryService?max_w=&amp;...</td>\n",
       "      <td>/27345/image/NMAAHC-007677378_00480.jpg</td>\n",
       "      <td>1</td>\n",
       "      <td>August 24. 1865\\r\\nAPPLICATION AND CERTIFICATE...</td>\n",
       "      <td>/27345/transcriptions/NMAAHC-007677378_00480.txt</td>\n",
       "      <td>\\N</td>\n",
       "      <td>\\N</td>\n",
       "      <td>27345</td>\n",
       "      <td>Oaths/Pardons</td>\n",
       "      <td>NaN</td>\n",
       "      <td>NaN</td>\n",
       "    </tr>\n",
       "    <tr>\n",
       "      <th>5</th>\n",
       "      <td>NMAAHC-007676819_00216</td>\n",
       "      <td>Complete</td>\n",
       "      <td>https://transcription.si.edu/transcribe/33018/...</td>\n",
       "      <td>image</td>\n",
       "      <td>https://ids.si.edu/ids/deliveryService?max_w=&amp;...</td>\n",
       "      <td>/33018/image/NMAAHC-007676819_00216.jpg</td>\n",
       "      <td>1</td>\n",
       "      <td>I Wm Whaley solemnly swear that I have careful...</td>\n",
       "      <td>/33018/transcriptions/NMAAHC-007676819_00216.txt</td>\n",
       "      <td>\\N</td>\n",
       "      <td>\\N</td>\n",
       "      <td>33018</td>\n",
       "      <td>Oaths/Pardons</td>\n",
       "      <td>NaN</td>\n",
       "      <td>NaN</td>\n",
       "    </tr>\n",
       "    <tr>\n",
       "      <th>6</th>\n",
       "      <td>NMAAHC-007676816_00124</td>\n",
       "      <td>Complete</td>\n",
       "      <td>https://transcription.si.edu/transcribe/32224/...</td>\n",
       "      <td>image</td>\n",
       "      <td>https://ids.si.edu/ids/deliveryService?max_w=&amp;...</td>\n",
       "      <td>/32224/image/NMAAHC-007676816_00124.jpg</td>\n",
       "      <td>1</td>\n",
       "      <td>I J F Steinmeyer solemnly swear that I have ca...</td>\n",
       "      <td>/32224/transcriptions/NMAAHC-007676816_00124.txt</td>\n",
       "      <td>\\N</td>\n",
       "      <td>\\N</td>\n",
       "      <td>32224</td>\n",
       "      <td>Oaths/Pardons</td>\n",
       "      <td>NaN</td>\n",
       "      <td>NaN</td>\n",
       "    </tr>\n",
       "    <tr>\n",
       "      <th>7</th>\n",
       "      <td>NMAAHC-007676819_00592</td>\n",
       "      <td>Complete</td>\n",
       "      <td>https://transcription.si.edu/transcribe/33019/...</td>\n",
       "      <td>image</td>\n",
       "      <td>https://ids.si.edu/ids/deliveryService?max_w=&amp;...</td>\n",
       "      <td>/33019/image/NMAAHC-007676819_00592.jpg</td>\n",
       "      <td>1</td>\n",
       "      <td>I Joseph Edings solemnly swear that I have car...</td>\n",
       "      <td>/33019/transcriptions/NMAAHC-007676819_00592.txt</td>\n",
       "      <td>\\N</td>\n",
       "      <td>\\N</td>\n",
       "      <td>33019</td>\n",
       "      <td>Oaths/Pardons</td>\n",
       "      <td>NaN</td>\n",
       "      <td>NaN</td>\n",
       "    </tr>\n",
       "    <tr>\n",
       "      <th>8</th>\n",
       "      <td>NMAAHC-007677378_00303</td>\n",
       "      <td>Complete</td>\n",
       "      <td>https://transcription.si.edu/transcribe/27345/...</td>\n",
       "      <td>image</td>\n",
       "      <td>https://ids.si.edu/ids/deliveryService?max_w=&amp;...</td>\n",
       "      <td>/27345/image/NMAAHC-007677378_00303.jpg</td>\n",
       "      <td>1</td>\n",
       "      <td>Vicksburg Miss. \\r\\nJuly 22 1867 \\r\\n\\r\\nThoma...</td>\n",
       "      <td>/27345/transcriptions/NMAAHC-007677378_00303.txt</td>\n",
       "      <td>\\N</td>\n",
       "      <td>\\N</td>\n",
       "      <td>27345</td>\n",
       "      <td>Oaths/Pardons</td>\n",
       "      <td>NaN</td>\n",
       "      <td>NaN</td>\n",
       "    </tr>\n",
       "    <tr>\n",
       "      <th>9</th>\n",
       "      <td>NMAAHC-007676816_00259</td>\n",
       "      <td>Complete</td>\n",
       "      <td>https://transcription.si.edu/transcribe/32224/...</td>\n",
       "      <td>image</td>\n",
       "      <td>https://ids.si.edu/ids/deliveryService?max_w=&amp;...</td>\n",
       "      <td>/32224/image/NMAAHC-007676816_00259.jpg</td>\n",
       "      <td>1</td>\n",
       "      <td>455\\r\\n(RETAINED COPY.)\\r\\nI, Jacob Schroder. ...</td>\n",
       "      <td>/32224/transcriptions/NMAAHC-007676816_00259.txt</td>\n",
       "      <td>\\N</td>\n",
       "      <td>\\N</td>\n",
       "      <td>32224</td>\n",
       "      <td>Oaths/Pardons</td>\n",
       "      <td>NaN</td>\n",
       "      <td>NaN</td>\n",
       "    </tr>\n",
       "    <tr>\n",
       "      <th>10</th>\n",
       "      <td>NMAAHC-007677378_00356</td>\n",
       "      <td>Complete</td>\n",
       "      <td>https://transcription.si.edu/transcribe/27345/...</td>\n",
       "      <td>image</td>\n",
       "      <td>https://ids.si.edu/ids/deliveryService?max_w=&amp;...</td>\n",
       "      <td>/27345/image/NMAAHC-007677378_00356.jpg</td>\n",
       "      <td>1</td>\n",
       "      <td>[[image - eagle]]\\r\\nAMNESTY OATH.\\r\\n\\r\\nMiss...</td>\n",
       "      <td>/27345/transcriptions/NMAAHC-007677378_00356.txt</td>\n",
       "      <td>\\N</td>\n",
       "      <td>\\N</td>\n",
       "      <td>27345</td>\n",
       "      <td>Oaths/Pardons</td>\n",
       "      <td>NaN</td>\n",
       "      <td>NaN</td>\n",
       "    </tr>\n",
       "    <tr>\n",
       "      <th>11</th>\n",
       "      <td>NMAAHC-007677378_00170</td>\n",
       "      <td>Complete</td>\n",
       "      <td>https://transcription.si.edu/transcribe/27345/...</td>\n",
       "      <td>image</td>\n",
       "      <td>https://ids.si.edu/ids/deliveryService?max_w=&amp;...</td>\n",
       "      <td>/27345/image/NMAAHC-007677378_00170.jpg</td>\n",
       "      <td>1</td>\n",
       "      <td>OATH.\\r\\nI, P. P. Bergevin, \\r\\ndo solemnly sw...</td>\n",
       "      <td>/27345/transcriptions/NMAAHC-007677378_00170.txt</td>\n",
       "      <td>\\N</td>\n",
       "      <td>\\N</td>\n",
       "      <td>27345</td>\n",
       "      <td>Oaths/Pardons</td>\n",
       "      <td>NaN</td>\n",
       "      <td>NaN</td>\n",
       "    </tr>\n",
       "    <tr>\n",
       "      <th>12</th>\n",
       "      <td>NMAAHC-007677416_00654</td>\n",
       "      <td>Complete</td>\n",
       "      <td>https://transcription.si.edu/transcribe/35981/...</td>\n",
       "      <td>image</td>\n",
       "      <td>https://ids.si.edu/ids/deliveryService?max_w=&amp;...</td>\n",
       "      <td>/35981/image/NMAAHC-007677416_00654.jpg</td>\n",
       "      <td>1</td>\n",
       "      <td>Frank Conner</td>\n",
       "      <td>/35981/transcriptions/NMAAHC-007677416_00654.txt</td>\n",
       "      <td>\\N</td>\n",
       "      <td>\\N</td>\n",
       "      <td>35981</td>\n",
       "      <td>Oaths/Pardons</td>\n",
       "      <td>NaN</td>\n",
       "      <td>NaN</td>\n",
       "    </tr>\n",
       "    <tr>\n",
       "      <th>13</th>\n",
       "      <td>NMAAHC-007676817_00196</td>\n",
       "      <td>Complete</td>\n",
       "      <td>https://transcription.si.edu/transcribe/32781/...</td>\n",
       "      <td>image</td>\n",
       "      <td>https://ids.si.edu/ids/deliveryService?max_w=&amp;...</td>\n",
       "      <td>/32781/image/NMAAHC-007676817_00196.jpg</td>\n",
       "      <td>1</td>\n",
       "      <td>I Caroline Belitzer solemnly Swear that I have...</td>\n",
       "      <td>/32781/transcriptions/NMAAHC-007676817_00196.txt</td>\n",
       "      <td>\\N</td>\n",
       "      <td>\\N</td>\n",
       "      <td>32781</td>\n",
       "      <td>Oaths/Pardons</td>\n",
       "      <td>NaN</td>\n",
       "      <td>NaN</td>\n",
       "    </tr>\n",
       "    <tr>\n",
       "      <th>14</th>\n",
       "      <td>NMAAHC-007677378_00690</td>\n",
       "      <td>Complete</td>\n",
       "      <td>https://transcription.si.edu/transcribe/27348/...</td>\n",
       "      <td>image</td>\n",
       "      <td>https://ids.si.edu/ids/deliveryService?max_w=&amp;...</td>\n",
       "      <td>/27348/image/NMAAHC-007677378_00690.jpg</td>\n",
       "      <td>1</td>\n",
       "      <td>Triplicate\\r\\nAMNESTY OATH. \\r\\n\\r\\nPass Chris...</td>\n",
       "      <td>/27348/transcriptions/NMAAHC-007677378_00690.txt</td>\n",
       "      <td>\\N</td>\n",
       "      <td>\\N</td>\n",
       "      <td>27348</td>\n",
       "      <td>Oaths/Pardons</td>\n",
       "      <td>NaN</td>\n",
       "      <td>NaN</td>\n",
       "    </tr>\n",
       "    <tr>\n",
       "      <th>15</th>\n",
       "      <td>NMAAHC-007676812_00642</td>\n",
       "      <td>Complete</td>\n",
       "      <td>https://transcription.si.edu/transcribe/32194/...</td>\n",
       "      <td>image</td>\n",
       "      <td>https://ids.si.edu/ids/deliveryService?max_w=&amp;...</td>\n",
       "      <td>/32194/image/NMAAHC-007676812_00642.jpg</td>\n",
       "      <td>1</td>\n",
       "      <td>[Retained Copy.]\\r\\nHEADQUARTERS, UNITED STATE...</td>\n",
       "      <td>/32194/transcriptions/NMAAHC-007676812_00642.txt</td>\n",
       "      <td>\\N</td>\n",
       "      <td>\\N</td>\n",
       "      <td>32194</td>\n",
       "      <td>Oaths/Pardons</td>\n",
       "      <td>NaN</td>\n",
       "      <td>NaN</td>\n",
       "    </tr>\n",
       "    <tr>\n",
       "      <th>16</th>\n",
       "      <td>NMAAHC-007677416_00811</td>\n",
       "      <td>Complete</td>\n",
       "      <td>https://transcription.si.edu/transcribe/35981/...</td>\n",
       "      <td>image</td>\n",
       "      <td>https://ids.si.edu/ids/deliveryService?max_w=&amp;...</td>\n",
       "      <td>/35981/image/NMAAHC-007677416_00811.jpg</td>\n",
       "      <td>1</td>\n",
       "      <td>Robert A. Wilson</td>\n",
       "      <td>/35981/transcriptions/NMAAHC-007677416_00811.txt</td>\n",
       "      <td>\\N</td>\n",
       "      <td>\\N</td>\n",
       "      <td>35981</td>\n",
       "      <td>Oaths/Pardons</td>\n",
       "      <td>NaN</td>\n",
       "      <td>NaN</td>\n",
       "    </tr>\n",
       "    <tr>\n",
       "      <th>17</th>\n",
       "      <td>NMAAHC-007677378_00552</td>\n",
       "      <td>Complete</td>\n",
       "      <td>https://transcription.si.edu/transcribe/27348/...</td>\n",
       "      <td>image</td>\n",
       "      <td>https://ids.si.edu/ids/deliveryService?max_w=&amp;...</td>\n",
       "      <td>/27348/image/NMAAHC-007677378_00552.jpg</td>\n",
       "      <td>1</td>\n",
       "      <td>APPLICATION AND CERTIFICATE OF \\r\\nJames D Ken...</td>\n",
       "      <td>/27348/transcriptions/NMAAHC-007677378_00552.txt</td>\n",
       "      <td>\\N</td>\n",
       "      <td>\\N</td>\n",
       "      <td>27348</td>\n",
       "      <td>Oaths/Pardons</td>\n",
       "      <td>NaN</td>\n",
       "      <td>NaN</td>\n",
       "    </tr>\n",
       "    <tr>\n",
       "      <th>18</th>\n",
       "      <td>NMAAHC-004567413_01199</td>\n",
       "      <td>Complete</td>\n",
       "      <td>https://transcription.si.edu/transcribe/15183/...</td>\n",
       "      <td>image</td>\n",
       "      <td>https://ids.si.edu/ids/deliveryService?max_w=&amp;...</td>\n",
       "      <td>/15183/image/NMAAHC-004567413_01199.jpg</td>\n",
       "      <td>1</td>\n",
       "      <td>[[underlined]] Oath [[/underlined]] Aug. 2  7,...</td>\n",
       "      <td>/15183/transcriptions/NMAAHC-004567413_01199.txt</td>\n",
       "      <td>\\N</td>\n",
       "      <td>\\N</td>\n",
       "      <td>15183</td>\n",
       "      <td>Oaths/Pardons</td>\n",
       "      <td>NaN</td>\n",
       "      <td>NaN</td>\n",
       "    </tr>\n",
       "    <tr>\n",
       "      <th>19</th>\n",
       "      <td>NMAAHC-007677378_00483</td>\n",
       "      <td>Complete</td>\n",
       "      <td>https://transcription.si.edu/transcribe/27345/...</td>\n",
       "      <td>image</td>\n",
       "      <td>https://ids.si.edu/ids/deliveryService?max_w=&amp;...</td>\n",
       "      <td>/27345/image/NMAAHC-007677378_00483.jpg</td>\n",
       "      <td>1</td>\n",
       "      <td>[[image - eagle]]\\r\\n\\r\\nAMNESTY OATH. \\r\\n\\r\\...</td>\n",
       "      <td>/27345/transcriptions/NMAAHC-007677378_00483.txt</td>\n",
       "      <td>\\N</td>\n",
       "      <td>\\N</td>\n",
       "      <td>27345</td>\n",
       "      <td>Oaths/Pardons</td>\n",
       "      <td>NaN</td>\n",
       "      <td>NaN</td>\n",
       "    </tr>\n",
       "  </tbody>\n",
       "</table>\n",
       "</div>"
      ],
      "text/plain": [
       "                      document_id    status  \\\n",
       "0          NMAAHC-007676813_00577  Complete   \n",
       "1          NMAAHC-007676818_00567  Complete   \n",
       "2   NMAAHC-007676815_00488-000001  Complete   \n",
       "3          NMAAHC-007677400_00375  Complete   \n",
       "4          NMAAHC-007677378_00480  Complete   \n",
       "5          NMAAHC-007676819_00216  Complete   \n",
       "6          NMAAHC-007676816_00124  Complete   \n",
       "7          NMAAHC-007676819_00592  Complete   \n",
       "8          NMAAHC-007677378_00303  Complete   \n",
       "9          NMAAHC-007676816_00259  Complete   \n",
       "10         NMAAHC-007677378_00356  Complete   \n",
       "11         NMAAHC-007677378_00170  Complete   \n",
       "12         NMAAHC-007677416_00654  Complete   \n",
       "13         NMAAHC-007676817_00196  Complete   \n",
       "14         NMAAHC-007677378_00690  Complete   \n",
       "15         NMAAHC-007676812_00642  Complete   \n",
       "16         NMAAHC-007677416_00811  Complete   \n",
       "17         NMAAHC-007677378_00552  Complete   \n",
       "18         NMAAHC-004567413_01199  Complete   \n",
       "19         NMAAHC-007677378_00483  Complete   \n",
       "\n",
       "                                         document_url media_type  \\\n",
       "0   https://transcription.si.edu/transcribe/32203/...      image   \n",
       "1   https://transcription.si.edu/transcribe/32796/...      image   \n",
       "2   https://transcription.si.edu/transcribe/32218/...      image   \n",
       "3   https://transcription.si.edu/transcribe/26149/...      image   \n",
       "4   https://transcription.si.edu/transcribe/27345/...      image   \n",
       "5   https://transcription.si.edu/transcribe/33018/...      image   \n",
       "6   https://transcription.si.edu/transcribe/32224/...      image   \n",
       "7   https://transcription.si.edu/transcribe/33019/...      image   \n",
       "8   https://transcription.si.edu/transcribe/27345/...      image   \n",
       "9   https://transcription.si.edu/transcribe/32224/...      image   \n",
       "10  https://transcription.si.edu/transcribe/27345/...      image   \n",
       "11  https://transcription.si.edu/transcribe/27345/...      image   \n",
       "12  https://transcription.si.edu/transcribe/35981/...      image   \n",
       "13  https://transcription.si.edu/transcribe/32781/...      image   \n",
       "14  https://transcription.si.edu/transcribe/27348/...      image   \n",
       "15  https://transcription.si.edu/transcribe/32194/...      image   \n",
       "16  https://transcription.si.edu/transcribe/35981/...      image   \n",
       "17  https://transcription.si.edu/transcribe/27348/...      image   \n",
       "18  https://transcription.si.edu/transcribe/15183/...      image   \n",
       "19  https://transcription.si.edu/transcribe/27345/...      image   \n",
       "\n",
       "                                           media_link  \\\n",
       "0   https://ids.si.edu/ids/deliveryService?max_w=&...   \n",
       "1   https://ids.si.edu/ids/deliveryService?max_w=&...   \n",
       "2   https://ids.si.edu/ids/deliveryService?max_w=&...   \n",
       "3   https://ids.si.edu/ids/deliveryService?max_w=&...   \n",
       "4   https://ids.si.edu/ids/deliveryService?max_w=&...   \n",
       "5   https://ids.si.edu/ids/deliveryService?max_w=&...   \n",
       "6   https://ids.si.edu/ids/deliveryService?max_w=&...   \n",
       "7   https://ids.si.edu/ids/deliveryService?max_w=&...   \n",
       "8   https://ids.si.edu/ids/deliveryService?max_w=&...   \n",
       "9   https://ids.si.edu/ids/deliveryService?max_w=&...   \n",
       "10  https://ids.si.edu/ids/deliveryService?max_w=&...   \n",
       "11  https://ids.si.edu/ids/deliveryService?max_w=&...   \n",
       "12  https://ids.si.edu/ids/deliveryService?max_w=&...   \n",
       "13  https://ids.si.edu/ids/deliveryService?max_w=&...   \n",
       "14  https://ids.si.edu/ids/deliveryService?max_w=&...   \n",
       "15  https://ids.si.edu/ids/deliveryService?max_w=&...   \n",
       "16  https://ids.si.edu/ids/deliveryService?max_w=&...   \n",
       "17  https://ids.si.edu/ids/deliveryService?max_w=&...   \n",
       "18  https://ids.si.edu/ids/deliveryService?max_w=&...   \n",
       "19  https://ids.si.edu/ids/deliveryService?max_w=&...   \n",
       "\n",
       "                               relative_media_path  is_media_downloaded  \\\n",
       "0          /32203/image/NMAAHC-007676813_00577.jpg                    1   \n",
       "1          /32796/image/NMAAHC-007676818_00567.jpg                    1   \n",
       "2   /32218/image/NMAAHC-007676815_00488-000001.jpg                    1   \n",
       "3          /26149/image/NMAAHC-007677400_00375.jpg                    1   \n",
       "4          /27345/image/NMAAHC-007677378_00480.jpg                    1   \n",
       "5          /33018/image/NMAAHC-007676819_00216.jpg                    1   \n",
       "6          /32224/image/NMAAHC-007676816_00124.jpg                    1   \n",
       "7          /33019/image/NMAAHC-007676819_00592.jpg                    1   \n",
       "8          /27345/image/NMAAHC-007677378_00303.jpg                    1   \n",
       "9          /32224/image/NMAAHC-007676816_00259.jpg                    1   \n",
       "10         /27345/image/NMAAHC-007677378_00356.jpg                    1   \n",
       "11         /27345/image/NMAAHC-007677378_00170.jpg                    1   \n",
       "12         /35981/image/NMAAHC-007677416_00654.jpg                    1   \n",
       "13         /32781/image/NMAAHC-007676817_00196.jpg                    1   \n",
       "14         /27348/image/NMAAHC-007677378_00690.jpg                    1   \n",
       "15         /32194/image/NMAAHC-007676812_00642.jpg                    1   \n",
       "16         /35981/image/NMAAHC-007677416_00811.jpg                    1   \n",
       "17         /27348/image/NMAAHC-007677378_00552.jpg                    1   \n",
       "18         /15183/image/NMAAHC-004567413_01199.jpg                    1   \n",
       "19         /27345/image/NMAAHC-007677378_00483.jpg                    1   \n",
       "\n",
       "                                   transcription_text  \\\n",
       "0   8 E encl\\r\\n\\r\\nI Anne H. Elliott, widow do so...   \n",
       "1   I E C Whaley solemnly swear that I have carefu...   \n",
       "2   43M\\r\\nI Mrs E Montgomery solemnly Swear that ...   \n",
       "3   No. 2324\\r\\nI do solemnly swear or affirm, in ...   \n",
       "4   August 24. 1865\\r\\nAPPLICATION AND CERTIFICATE...   \n",
       "5   I Wm Whaley solemnly swear that I have careful...   \n",
       "6   I J F Steinmeyer solemnly swear that I have ca...   \n",
       "7   I Joseph Edings solemnly swear that I have car...   \n",
       "8   Vicksburg Miss. \\r\\nJuly 22 1867 \\r\\n\\r\\nThoma...   \n",
       "9   455\\r\\n(RETAINED COPY.)\\r\\nI, Jacob Schroder. ...   \n",
       "10  [[image - eagle]]\\r\\nAMNESTY OATH.\\r\\n\\r\\nMiss...   \n",
       "11  OATH.\\r\\nI, P. P. Bergevin, \\r\\ndo solemnly sw...   \n",
       "12                                      Frank Conner    \n",
       "13  I Caroline Belitzer solemnly Swear that I have...   \n",
       "14  Triplicate\\r\\nAMNESTY OATH. \\r\\n\\r\\nPass Chris...   \n",
       "15  [Retained Copy.]\\r\\nHEADQUARTERS, UNITED STATE...   \n",
       "16                                   Robert A. Wilson   \n",
       "17  APPLICATION AND CERTIFICATE OF \\r\\nJames D Ken...   \n",
       "18  [[underlined]] Oath [[/underlined]] Aug. 2  7,...   \n",
       "19  [[image - eagle]]\\r\\n\\r\\nAMNESTY OATH. \\r\\n\\r\\...   \n",
       "\n",
       "                     transcription_text_relative_path from_time to_time  \\\n",
       "0    /32203/transcriptions/NMAAHC-007676813_00577.txt        \\N      \\N   \n",
       "1    /32796/transcriptions/NMAAHC-007676818_00567.txt        \\N      \\N   \n",
       "2   /32218/transcriptions/NMAAHC-007676815_00488-0...        \\N      \\N   \n",
       "3    /26149/transcriptions/NMAAHC-007677400_00375.txt        \\N      \\N   \n",
       "4    /27345/transcriptions/NMAAHC-007677378_00480.txt        \\N      \\N   \n",
       "5    /33018/transcriptions/NMAAHC-007676819_00216.txt        \\N      \\N   \n",
       "6    /32224/transcriptions/NMAAHC-007676816_00124.txt        \\N      \\N   \n",
       "7    /33019/transcriptions/NMAAHC-007676819_00592.txt        \\N      \\N   \n",
       "8    /27345/transcriptions/NMAAHC-007677378_00303.txt        \\N      \\N   \n",
       "9    /32224/transcriptions/NMAAHC-007676816_00259.txt        \\N      \\N   \n",
       "10   /27345/transcriptions/NMAAHC-007677378_00356.txt        \\N      \\N   \n",
       "11   /27345/transcriptions/NMAAHC-007677378_00170.txt        \\N      \\N   \n",
       "12   /35981/transcriptions/NMAAHC-007677416_00654.txt        \\N      \\N   \n",
       "13   /32781/transcriptions/NMAAHC-007676817_00196.txt        \\N      \\N   \n",
       "14   /27348/transcriptions/NMAAHC-007677378_00690.txt        \\N      \\N   \n",
       "15   /32194/transcriptions/NMAAHC-007676812_00642.txt        \\N      \\N   \n",
       "16   /35981/transcriptions/NMAAHC-007677416_00811.txt        \\N      \\N   \n",
       "17   /27348/transcriptions/NMAAHC-007677378_00552.txt        \\N      \\N   \n",
       "18   /15183/transcriptions/NMAAHC-004567413_01199.txt        \\N      \\N   \n",
       "19   /27345/transcriptions/NMAAHC-007677378_00483.txt        \\N      \\N   \n",
       "\n",
       "    project_id       Category  Unnamed: 13  Unnamed: 14  \n",
       "0        32203  Oaths/Pardons          NaN          NaN  \n",
       "1        32796  Oaths/Pardons          NaN          NaN  \n",
       "2        32218  Oaths/Pardons          NaN          NaN  \n",
       "3        26149  Oaths/Pardons          NaN          NaN  \n",
       "4        27345  Oaths/Pardons          NaN          NaN  \n",
       "5        33018  Oaths/Pardons          NaN          NaN  \n",
       "6        32224  Oaths/Pardons          NaN          NaN  \n",
       "7        33019  Oaths/Pardons          NaN          NaN  \n",
       "8        27345  Oaths/Pardons          NaN          NaN  \n",
       "9        32224  Oaths/Pardons          NaN          NaN  \n",
       "10       27345  Oaths/Pardons          NaN          NaN  \n",
       "11       27345  Oaths/Pardons          NaN          NaN  \n",
       "12       35981  Oaths/Pardons          NaN          NaN  \n",
       "13       32781  Oaths/Pardons          NaN          NaN  \n",
       "14       27348  Oaths/Pardons          NaN          NaN  \n",
       "15       32194  Oaths/Pardons          NaN          NaN  \n",
       "16       35981  Oaths/Pardons          NaN          NaN  \n",
       "17       27348  Oaths/Pardons          NaN          NaN  \n",
       "18       15183  Oaths/Pardons          NaN          NaN  \n",
       "19       27345  Oaths/Pardons          NaN          NaN  "
      ]
     },
     "execution_count": 3,
     "metadata": {},
     "output_type": "execute_result"
    }
   ],
   "source": [
    "data"
   ]
  },
  {
   "cell_type": "code",
   "execution_count": 4,
   "id": "eec0fb24",
   "metadata": {
    "execution": {
     "iopub.execute_input": "2022-06-08T07:48:22.194453Z",
     "iopub.status.busy": "2022-06-08T07:48:22.194052Z",
     "iopub.status.idle": "2022-06-08T07:48:22.203002Z",
     "shell.execute_reply": "2022-06-08T07:48:22.202361Z"
    },
    "papermill": {
     "duration": 0.030153,
     "end_time": "2022-06-08T07:48:22.204758",
     "exception": false,
     "start_time": "2022-06-08T07:48:22.174605",
     "status": "completed"
    },
    "tags": []
   },
   "outputs": [
    {
     "data": {
      "text/plain": [
       "'43M\\r\\nI Mrs E Montgomery solemnly Swear that I have carefully read the Amnesty Proclamation issued by ANDREW JOHNSON, President of the United States of America, on May 29th, 1865, and that I am not excepted from the benefits of that Proclamation by any one of the fourteen exceptions therein made, \\r\\nSgd in Montgomery\\r\\n\\r\\nSworn to and subscribed before me at Charleston SC this 31 day of Oct 1865.\\r\\nLevi Stuber\\r\\nMajor 47th Pa. Vet. Vols. and Provost Marshal.\\r\\n\\r\\n[[left margin]] Duplicate [[/left margin]]\\r\\n\\r\\nNo.1984\\r\\nUnited States of America.\\r\\nI Mrs E. Montgomery of the [[strikethrough]] County [[/strikethrough]]mnly Swear in the presence of Almighty God, that I will henceforth faithfully support and defend the constitution of the United States, and the Union of the States thereunder, and that I will, in like manner, abide by and faithfully support all laws and proclamations which have been made during the existing rebellion with reference to the Emancipation of Slaves- So HELP ME GOD. \\r\\nSgd in Montgomery\\r\\n\\r\\nSworn to and subscribed before me at Charleston SC this 31 day of Oct 1865.\\r\\nLevi Stuber\\r\\nMajor 47th Pa. Vet. Vols. and Provost Marshal.\\r\\n\\r\\nThe above has Fair complexion, Dark hair, and dark eyes; is 5 feet 4 inches high, and 61 years; by profession a Widow\\r\\n\\r\\n(The original Oaths will be transmitted, by the officer administering them, to the Department of State, through intermediate channels and a certified copy thereof will be furnished to the applicant for pardon, to accompany his petition.)'"
      ]
     },
     "execution_count": 4,
     "metadata": {},
     "output_type": "execute_result"
    }
   ],
   "source": [
    "data[\"transcription_text\"][2]"
   ]
  },
  {
   "cell_type": "code",
   "execution_count": 5,
   "id": "f363a8bc",
   "metadata": {
    "execution": {
     "iopub.execute_input": "2022-06-08T07:48:22.243074Z",
     "iopub.status.busy": "2022-06-08T07:48:22.242421Z",
     "iopub.status.idle": "2022-06-08T07:48:22.245608Z",
     "shell.execute_reply": "2022-06-08T07:48:22.245075Z"
    },
    "papermill": {
     "duration": 0.024145,
     "end_time": "2022-06-08T07:48:22.247242",
     "exception": false,
     "start_time": "2022-06-08T07:48:22.223097",
     "status": "completed"
    },
    "tags": []
   },
   "outputs": [],
   "source": [
    "# text[2]"
   ]
  },
  {
   "cell_type": "code",
   "execution_count": 6,
   "id": "bfa0a037",
   "metadata": {
    "execution": {
     "iopub.execute_input": "2022-06-08T07:48:22.285408Z",
     "iopub.status.busy": "2022-06-08T07:48:22.284772Z",
     "iopub.status.idle": "2022-06-08T07:48:22.289590Z",
     "shell.execute_reply": "2022-06-08T07:48:22.288963Z"
    },
    "papermill": {
     "duration": 0.025727,
     "end_time": "2022-06-08T07:48:22.291126",
     "exception": false,
     "start_time": "2022-06-08T07:48:22.265399",
     "status": "completed"
    },
    "tags": []
   },
   "outputs": [
    {
     "data": {
      "text/plain": [
       "'No. 2324\\r\\nI do solemnly swear or affirm, in the presence of Almighty God, that I will henceforth faithfully defend the Constitution of the United States, and the Union of States thereunder, and that I will in like manner abide by and faithfully support all Laws and Proclamations which have been made during the existing rebellion, with reference to the emancipation of slaves.\\r\\nSO HELP ME GOD,\\r\\nE.B. Towne\\r\\n\\r\\n[[stamp]] INTER.REVENUE 5 5 FIVE IMAGE CENTS 5 5 INLDEXCHANGE [[stamp]]\\r\\n\\r\\nSworn to and Subscribed before me, this 31st day of August A.D. 1865.\\r\\nHu Kennedy\\r\\nMAYOR\\r\\nOf the City of New Orleans.'"
      ]
     },
     "execution_count": 6,
     "metadata": {},
     "output_type": "execute_result"
    }
   ],
   "source": [
    "data[\"transcription_text\"][3]"
   ]
  },
  {
   "cell_type": "code",
   "execution_count": 7,
   "id": "4bfc24de",
   "metadata": {
    "execution": {
     "iopub.execute_input": "2022-06-08T07:48:22.329086Z",
     "iopub.status.busy": "2022-06-08T07:48:22.328508Z",
     "iopub.status.idle": "2022-06-08T07:48:22.331642Z",
     "shell.execute_reply": "2022-06-08T07:48:22.331081Z"
    },
    "papermill": {
     "duration": 0.023808,
     "end_time": "2022-06-08T07:48:22.333180",
     "exception": false,
     "start_time": "2022-06-08T07:48:22.309372",
     "status": "completed"
    },
    "tags": []
   },
   "outputs": [],
   "source": [
    "# text[3]"
   ]
  },
  {
   "cell_type": "code",
   "execution_count": 8,
   "id": "4f52ac3b",
   "metadata": {
    "execution": {
     "iopub.execute_input": "2022-06-08T07:48:22.371582Z",
     "iopub.status.busy": "2022-06-08T07:48:22.370994Z",
     "iopub.status.idle": "2022-06-08T07:48:22.375844Z",
     "shell.execute_reply": "2022-06-08T07:48:22.375293Z"
    },
    "papermill": {
     "duration": 0.026045,
     "end_time": "2022-06-08T07:48:22.377486",
     "exception": false,
     "start_time": "2022-06-08T07:48:22.351441",
     "status": "completed"
    },
    "tags": []
   },
   "outputs": [
    {
     "data": {
      "text/plain": [
       "'August 24. 1865\\r\\nAPPLICATION AND CERTIFICATE OF\\r\\nW.A. Fleitas\\r\\nAmnesty Oath Administered\\r\\nAt Pass Christian Mississippi\\r\\nBy J.B. Hiserodt, \\r\\n66\" U.S. Cold. Infty.'"
      ]
     },
     "execution_count": 8,
     "metadata": {},
     "output_type": "execute_result"
    }
   ],
   "source": [
    "data[\"transcription_text\"][4]"
   ]
  },
  {
   "cell_type": "code",
   "execution_count": null,
   "id": "433b34e3",
   "metadata": {
    "papermill": {
     "duration": 0.018,
     "end_time": "2022-06-08T07:48:22.413651",
     "exception": false,
     "start_time": "2022-06-08T07:48:22.395651",
     "status": "completed"
    },
    "tags": []
   },
   "outputs": [],
   "source": []
  },
  {
   "cell_type": "code",
   "execution_count": 9,
   "id": "b28304a7",
   "metadata": {
    "execution": {
     "iopub.execute_input": "2022-06-08T07:48:22.451709Z",
     "iopub.status.busy": "2022-06-08T07:48:22.451128Z",
     "iopub.status.idle": "2022-06-08T07:48:22.455866Z",
     "shell.execute_reply": "2022-06-08T07:48:22.455283Z"
    },
    "papermill": {
     "duration": 0.025806,
     "end_time": "2022-06-08T07:48:22.457584",
     "exception": false,
     "start_time": "2022-06-08T07:48:22.431778",
     "status": "completed"
    },
    "tags": []
   },
   "outputs": [
    {
     "data": {
      "text/plain": [
       "'I Wm Whaley solemnly swear that I have carefully read the Amnesty Proclamation issued by ANDREW JOHNSON, President of the United States of America, on May 29th, 1865, and that I am not excepted from the benefits of that Proclamation by any one of the fourteen exceptions therein made, except\\r\\n\\r\\nWilliam Whaley\\r\\nSworn to and subscribed before me at Charleston SC this 3 day of August 1865.\\r\\n\\r\\nLevi Stuber\\r\\nMay 4 Pa Vols\\r\\nProv. Marshal \\r\\nCity of Charleston\\r\\n\\r\\n[[left margin]]\\r\\nDuplicate\\r\\n[[/left margin]]\\r\\n\\r\\nNo. 38 \\r\\nUnited States of America. \\r\\n\\r\\n1 Wm Whaley of the County of Charleston State of So Carolina do solemnly swear in the presence of Almighty God, that I will henceforth faithfully support and defend the Constitution of the United States, and the Union of the State thereunder, and that I will, in like manner, abide by and faithfully support all laws and proclamations which have been made during the existing rebellion with reference to the Emancipation or slaves— SO HELP ME GOD.\\r\\n\\r\\nWilliam Whaley\\r\\n\\r\\nSworn to and subscribed before me at Charleston SC this 3 day of Augt 1865.\\r\\n\\r\\nLevi Stuber\\r\\nMaj 47 Po Vol. & Pro Mar\\r\\n\\r\\nThe above has fair complexion gray hair, and Brown eyes; is 5 feet 8 inches high, and 48 years; by profession a Lawyer.\\r\\n\\r\\n(The original oaths will be transmitted, by the officer administering them, to the Department of State, through intermediate channels, and a certified copy thereof will be furnished to the applicant for pardon, to accompany his petition.) '"
      ]
     },
     "execution_count": 9,
     "metadata": {},
     "output_type": "execute_result"
    }
   ],
   "source": [
    "data[\"transcription_text\"][5]"
   ]
  },
  {
   "cell_type": "code",
   "execution_count": 10,
   "id": "64645e29",
   "metadata": {
    "execution": {
     "iopub.execute_input": "2022-06-08T07:48:22.496898Z",
     "iopub.status.busy": "2022-06-08T07:48:22.496292Z",
     "iopub.status.idle": "2022-06-08T07:48:22.499550Z",
     "shell.execute_reply": "2022-06-08T07:48:22.498912Z"
    },
    "papermill": {
     "duration": 0.024884,
     "end_time": "2022-06-08T07:48:22.501187",
     "exception": false,
     "start_time": "2022-06-08T07:48:22.476303",
     "status": "completed"
    },
    "tags": []
   },
   "outputs": [],
   "source": [
    "# text[5]"
   ]
  },
  {
   "cell_type": "code",
   "execution_count": 11,
   "id": "88fcd782",
   "metadata": {
    "execution": {
     "iopub.execute_input": "2022-06-08T07:48:22.542921Z",
     "iopub.status.busy": "2022-06-08T07:48:22.542556Z",
     "iopub.status.idle": "2022-06-08T07:48:22.547898Z",
     "shell.execute_reply": "2022-06-08T07:48:22.547250Z"
    },
    "papermill": {
     "duration": 0.028239,
     "end_time": "2022-06-08T07:48:22.549653",
     "exception": false,
     "start_time": "2022-06-08T07:48:22.521414",
     "status": "completed"
    },
    "tags": []
   },
   "outputs": [
    {
     "data": {
      "text/plain": [
       "'I J F Steinmeyer solemnly swear that I have carefully read the Amnesty Proclamation issued by ANDREW JOHNSON, President of the United States of America, on May 29th, 1865, and that I am not excepted from the benefits of that Proclamation by any one of the fourteen exceptions therein made, \\r\\nJ.F. Steinmeyer\\r\\nSworn to and subscribed before me at Charleston Sc this 16th day of Sept 1865.\\r\\nLevi Stuber\\r\\nMaj 47 & Pro Marshal\\r\\n\\r\\n[[left margin]]Duplicate[[/left margin]]\\r\\nNo. 1474\\r\\nUnited States of America.\\r\\nI J F Steinmeyer of the [[crossed out]] County [[/crossed out]]o solemnly swear in the presence of Almighty God, that I will henceforth faithfully support and defend the Constitution of the United States, and the Union of the States thereunder, and that I will, in like manner, abide by and faithfully support all laws and proclamations which have been made during the existing rebellion with reference to the Emancipation of Slaves-So HELP ME GOD.\\r\\nJ.F. Steinmeyer\\r\\nSworn to and subscribed before me at Charleston Sc this 16th day of Sept 1865.\\r\\nLevi Stuber \\r\\nMaj 47 & Pro Marshal\\r\\nThe above has Fair complexion, dark hair, and Gry eyes; is 5 feet 8 inches high, and 58 years; by profession a Builder\\r\\n(The original Oaths will be transmitted, by the officer administering them, to the Department of State, through intermediate channels, and a certified copy thereof will be furnished to the applicant for pardon, to accompany his petition.)'"
      ]
     },
     "execution_count": 11,
     "metadata": {},
     "output_type": "execute_result"
    }
   ],
   "source": [
    "data[\"transcription_text\"][6]"
   ]
  },
  {
   "cell_type": "code",
   "execution_count": 12,
   "id": "215e446a",
   "metadata": {
    "execution": {
     "iopub.execute_input": "2022-06-08T07:48:22.589072Z",
     "iopub.status.busy": "2022-06-08T07:48:22.588661Z",
     "iopub.status.idle": "2022-06-08T07:48:22.593674Z",
     "shell.execute_reply": "2022-06-08T07:48:22.593083Z"
    },
    "papermill": {
     "duration": 0.026629,
     "end_time": "2022-06-08T07:48:22.595202",
     "exception": false,
     "start_time": "2022-06-08T07:48:22.568573",
     "status": "completed"
    },
    "tags": []
   },
   "outputs": [
    {
     "data": {
      "text/plain": [
       "'I Joseph Edings solemnly swear that I have carefully read the Amnesty Proclamation issued by ANDREW JOHNSON, President of the United States of America, on May 29th, 1865, and that I am not excepted from the benefits of that Proclamation by any one of the fourteen exceptions therein made, \\r\\nJoseph Edings\\r\\n\\r\\nSworn and subscribed before me at Orangeburg SC this 16 day of October 1865.\\r\\nFrank Geise\\r\\n1st Lt. 54th NYVV\\r\\nAsst Prov Marshal\\r\\n\\r\\nNo.\\r\\nUnited States of America.\\r\\nI Joseph Edings of [[crossed-out]] the County of [[/crossed-out]] Orangeburg Dist. State of South Carolina do solemnly swear in the presence of Almighty God, that I will henceforth faithfully support and defend the Constitution of the United States, and the Union of the States thereunder, and that I will, in like manner, abide by and faithfully support all laws and proclamations which have been made during the existing rebellion with reference to the Emancipation of slaves-SO HELP ME GOD.\\r\\nJoseph Edings\\r\\n\\r\\nSworn to and subscribed before me at Orangeburg SC this 16 day of October 1865.\\r\\nFrank Geise\\r\\n1st Lt 54th N.Y.V.V. & Asst Prov Marshal\\r\\n\\r\\nThe above named has dark complexion, dark hair, and dark eyes; is five feet eight inches high, and twenty eight years; by profession a planter\\r\\n\\r\\n(The original oaths will be transmitted, by the officer administering them, to the Department of State, through intermediate channels, and a certified copy thereof will be furnished to the applicant for pardon, to accompany his petition.)'"
      ]
     },
     "execution_count": 12,
     "metadata": {},
     "output_type": "execute_result"
    }
   ],
   "source": [
    "data[\"transcription_text\"][7]"
   ]
  },
  {
   "cell_type": "code",
   "execution_count": 13,
   "id": "f2335dc3",
   "metadata": {
    "execution": {
     "iopub.execute_input": "2022-06-08T07:48:22.634963Z",
     "iopub.status.busy": "2022-06-08T07:48:22.634000Z",
     "iopub.status.idle": "2022-06-08T07:48:22.639488Z",
     "shell.execute_reply": "2022-06-08T07:48:22.638938Z"
    },
    "papermill": {
     "duration": 0.027027,
     "end_time": "2022-06-08T07:48:22.641085",
     "exception": false,
     "start_time": "2022-06-08T07:48:22.614058",
     "status": "completed"
    },
    "tags": []
   },
   "outputs": [
    {
     "data": {
      "text/plain": [
       "'Vicksburg Miss. \\r\\nJuly 22 1867 \\r\\n\\r\\nThomas, Andrew \\r\\n\\r\\nOath of Loyalty \\r\\n\\r\\nRecd Bureau R.F. & AL. Miss\\r\\nJuly 22 1867'"
      ]
     },
     "execution_count": 13,
     "metadata": {},
     "output_type": "execute_result"
    }
   ],
   "source": [
    "data[\"transcription_text\"][8]"
   ]
  },
  {
   "cell_type": "code",
   "execution_count": 14,
   "id": "30b9af27",
   "metadata": {
    "execution": {
     "iopub.execute_input": "2022-06-08T07:48:22.680859Z",
     "iopub.status.busy": "2022-06-08T07:48:22.680283Z",
     "iopub.status.idle": "2022-06-08T07:48:22.685530Z",
     "shell.execute_reply": "2022-06-08T07:48:22.684775Z"
    },
    "papermill": {
     "duration": 0.02713,
     "end_time": "2022-06-08T07:48:22.687186",
     "exception": false,
     "start_time": "2022-06-08T07:48:22.660056",
     "status": "completed"
    },
    "tags": []
   },
   "outputs": [
    {
     "data": {
      "text/plain": [
       "'455\\r\\n(RETAINED COPY.)\\r\\nI, Jacob Schroder. do solemnly swear, that I have carefully read the Amnesty Proclamation issued by ANDREW JOHNSON President of the United States of America, on May 29th, 1865, and that I am not expected from the benefits of that Proclamation by any one of the fourteen exceptions therein made, except \\r\\nJacob Schroder\\r\\nSworn to and subscribed before me, at Walhalla this 6\" day of Nov\" 1865.\\r\\nR A Bray\\r\\n Capt & Ass\\'t. Provost Marshal.\\r\\n\\r\\nNo.2\\r\\nUNITED STATES OF AMERICA.\\r\\nI, Jacob Schroder of Walhalla State of South Carolina, do solemnly swear, in presence of Almighty God, that I will henceforth faithfully support and defend the Constitution of the United States, and the Union of the States thereunder, and that I will, in like manner, abide by and faithfully support all Laws and Proclamations which have been made during the existing Rebellion with reference to the Emancipation of Slaves---\"SO HELP ME GOD.\"\\r\\nJacob Schroder\\r\\n\\r\\nSworn to and subscribed before me, at Walhalla this 6\" day of Nov\", 1865.\\r\\nR A Bray\\r\\n[[strikethrough]] Lieut. [[/strikethrough]ove named has Light complexion, Gray hair, Blue eyes, is 5 feet 6 inches high, and is 58 years of age, and by profession Laborer.'"
      ]
     },
     "execution_count": 14,
     "metadata": {},
     "output_type": "execute_result"
    }
   ],
   "source": [
    "data[\"transcription_text\"][9]"
   ]
  },
  {
   "cell_type": "code",
   "execution_count": 15,
   "id": "c9c24430",
   "metadata": {
    "execution": {
     "iopub.execute_input": "2022-06-08T07:48:22.728159Z",
     "iopub.status.busy": "2022-06-08T07:48:22.727226Z",
     "iopub.status.idle": "2022-06-08T07:48:22.732859Z",
     "shell.execute_reply": "2022-06-08T07:48:22.732087Z"
    },
    "papermill": {
     "duration": 0.028058,
     "end_time": "2022-06-08T07:48:22.734607",
     "exception": false,
     "start_time": "2022-06-08T07:48:22.706549",
     "status": "completed"
    },
    "tags": []
   },
   "outputs": [
    {
     "data": {
      "text/plain": [
       "'[[image - eagle]]\\r\\nAMNESTY OATH.\\r\\n\\r\\nMississippi City Miss Sept 29 1865.\\r\\n\\r\\nI, J.W. Baxter, do solemnly swear, in presence of Almighty God, that I will henceforth faithfully support, protect and defend the Constitution of the United States and the union of the States thereunder; and that I will, in like manner, abide by and faithfully support all laws and proclamations which have been made during the existing rebellion with reference to the emancipation of slaves. SO HELP ME GOD.\\r\\nJ.W. Baxter\\r\\n\\r\\nSworn to and subscribed at Mississippi City\\r\\nthis 29th day of September 1865, before me\\r\\nJ. H. Mathews Capt 66th\\r\\nU.S Col Infty & Provost Marshal.  Sub port Miss\\r\\n\\r\\nDESCRIPTION:\\r\\nAge 24 years\\r\\nHeight 5ft 8 inches\\r\\nEyes Blue\\r\\nColor of Hair light\\r\\nCharacteristics [[blank]]\\r\\n\\r\\nHEADQUARTERS, Mississippi City Miss\\r\\nSept 29th 1865.\\r\\n\\r\\nI hereby certify, that the Amnesty Oath prescribed by the Proclamation of the President of the United States, was duly administered to J.W. Baxter of Harrison Co by my order, this 29th day of Sept 29 1865.\\r\\nFrank E. Miller\\r\\nMaj 66th USCI Commanding.\\r\\n\\r\\n\\r\\n[TRIPLICATE.]'"
      ]
     },
     "execution_count": 15,
     "metadata": {},
     "output_type": "execute_result"
    }
   ],
   "source": [
    "data[\"transcription_text\"][10]"
   ]
  },
  {
   "cell_type": "code",
   "execution_count": 16,
   "id": "8da10a8e",
   "metadata": {
    "execution": {
     "iopub.execute_input": "2022-06-08T07:48:22.775186Z",
     "iopub.status.busy": "2022-06-08T07:48:22.774232Z",
     "iopub.status.idle": "2022-06-08T07:48:22.779459Z",
     "shell.execute_reply": "2022-06-08T07:48:22.778879Z"
    },
    "papermill": {
     "duration": 0.027129,
     "end_time": "2022-06-08T07:48:22.781025",
     "exception": false,
     "start_time": "2022-06-08T07:48:22.753896",
     "status": "completed"
    },
    "tags": []
   },
   "outputs": [
    {
     "data": {
      "text/plain": [
       "'OATH.\\r\\nI, P. P. Bergevin, \\r\\ndo solemnly swear that I have never voluntarily borne arms against the United States since I have been a citizen thereof; that I have voluntarily given no aid, countenance, counsel, or encouragement to persons engaged in armed hostility thereto; that I have neither sought, not accepted, nor attempted to exercise the functions of any office whatever, under any authority, or pretended authority, in hostility to the United States; that I have not yielded a voluntary support to any pretended government, authority, power, or constitution within the United States, hostile or inimical thereto.  And I do further swear, or affirm, that, to the best of my knowledge and ability, I will support and defend the Constitution of the United States against all enemies, foreign and domestic; that I will bear true faith and allegiance to the same; that I take this obligation freely, without any mental reservation or purpose of evasion; and that I will well and faithfully discharge the duties of the office on which I am about to enter: So help me God.\\r\\nP. P. Bergevin\\r\\nSworn to and subscribed before me, at Woodville Wilkinson Co Miss \\r\\nthis 3d day of February 1868\\r\\nP H Joor Justice of the\\r\\nPeace Wilkinson County.\\r\\nState of Mississippi\\r\\n'"
      ]
     },
     "execution_count": 16,
     "metadata": {},
     "output_type": "execute_result"
    }
   ],
   "source": [
    "data[\"transcription_text\"][11]"
   ]
  },
  {
   "cell_type": "code",
   "execution_count": 17,
   "id": "1adfb07c",
   "metadata": {
    "execution": {
     "iopub.execute_input": "2022-06-08T07:48:22.821507Z",
     "iopub.status.busy": "2022-06-08T07:48:22.820892Z",
     "iopub.status.idle": "2022-06-08T07:48:22.825519Z",
     "shell.execute_reply": "2022-06-08T07:48:22.824993Z"
    },
    "papermill": {
     "duration": 0.026768,
     "end_time": "2022-06-08T07:48:22.827225",
     "exception": false,
     "start_time": "2022-06-08T07:48:22.800457",
     "status": "completed"
    },
    "tags": []
   },
   "outputs": [
    {
     "data": {
      "text/plain": [
       "'Frank Conner '"
      ]
     },
     "execution_count": 17,
     "metadata": {},
     "output_type": "execute_result"
    }
   ],
   "source": [
    "data[\"transcription_text\"][12]"
   ]
  },
  {
   "cell_type": "code",
   "execution_count": 18,
   "id": "c9957e89",
   "metadata": {
    "execution": {
     "iopub.execute_input": "2022-06-08T07:48:22.867544Z",
     "iopub.status.busy": "2022-06-08T07:48:22.866953Z",
     "iopub.status.idle": "2022-06-08T07:48:22.871708Z",
     "shell.execute_reply": "2022-06-08T07:48:22.871101Z"
    },
    "papermill": {
     "duration": 0.026793,
     "end_time": "2022-06-08T07:48:22.873268",
     "exception": false,
     "start_time": "2022-06-08T07:48:22.846475",
     "status": "completed"
    },
    "tags": []
   },
   "outputs": [
    {
     "data": {
      "text/plain": [
       "'I Caroline Belitzer solemnly Swear that I have carefully read the Amnesty Proclamation issued by ANDREW JOHNSON, President of the United States of America, on May 29th, 1865, and that I am not excepted from the benefits of that Proclamation by any one of the fourteen exceptions therein made, \\r\\ncaroline Belitzer\\r\\n\\r\\nSworn to and subscribed before me at Charleston S.C. this 7th day of September 186 [strikethrough]]5[[/strikethrough]] 6.\\r\\nF. K. Field\\r\\nCapt 128th USCT \\r\\nProv. Mar. \\r\\n\\r\\n[[left margin]] Copy F. K. Field\\r\\nCapt 128\" USCT Pro. Mar. [[/left margin]]\\r\\n\\r\\nNO. 117\\r\\nUnited States of America.\\r\\n\\r\\nI Caroline Belitzer of the [[strikethrough]] County [[/strikethrough]] dist. of Charleston State of So Carolina do solemnly Swear in the presence of Almighty God, that I will henceforth faithfully support and defend the Constitution of the United States, and the Union of the States thereunder, and that I will, in like manner, abide by and faithfully support all laws and proclamations which have been made during the existing rebellion with reference to the Emancipation of Slaves-SO HELP ME GOD.\\r\\nCaroline Belitzer\\r\\n\\r\\nSworn to and subscribed before me at Charleston S. C. this 7th day of September 186 [[strikethrough]]5 [[/strikethrough]]6.\\r\\nF. K. Field\\r\\nCapt 128th USCT \\r\\nProv. Mar.\\r\\n\\r\\nThe above has dark complexion, dark hair, and dark eyes; is 5 feet 6 inches high, and 45years; [[strikethrough]] by profession [[/strikethrough]] a lady.\\r\\n\\r\\n(The original oaths will be transmitted, by the officer administering them, to the Department of State, through intermediate channels, and a certified copy thereof will be furnished to the applicant for pardon, to accompany his petition.)'"
      ]
     },
     "execution_count": 18,
     "metadata": {},
     "output_type": "execute_result"
    }
   ],
   "source": [
    "data[\"transcription_text\"][13]"
   ]
  },
  {
   "cell_type": "code",
   "execution_count": 19,
   "id": "cf80d891",
   "metadata": {
    "execution": {
     "iopub.execute_input": "2022-06-08T07:48:22.914565Z",
     "iopub.status.busy": "2022-06-08T07:48:22.913931Z",
     "iopub.status.idle": "2022-06-08T07:48:22.919907Z",
     "shell.execute_reply": "2022-06-08T07:48:22.918906Z"
    },
    "papermill": {
     "duration": 0.029294,
     "end_time": "2022-06-08T07:48:22.921931",
     "exception": false,
     "start_time": "2022-06-08T07:48:22.892637",
     "status": "completed"
    },
    "tags": []
   },
   "outputs": [
    {
     "data": {
      "text/plain": [
       "']\\r\\nAMNESTY OATH.\\r\\n\\r\\nMississippi City Miss Sept 29 1865.\\r\\n\\r\\nI, J.W. Baxter, do solemnly swear, in presence of Almighty God, that I will henceforth faithfully support, protect and defend the Constitution of the United States and the union of the States thereunder; and that I will, in like manner, abide by and faithfully support all laws and proclamations which have been made during the existing rebellion with reference to the emancipation of slaves. SO HELP ME GOD.\\r\\nJ.W. Baxter\\r\\n\\r\\nSworn to and subscribed at Mississippi City\\r\\nthis 29th day of September 1865, before me\\r\\nJ. H. Mathews Capt 66th\\r\\nU.S Col Infty & Provost Marshal.  Sub port Miss\\r\\n\\r\\nDESCRIPTION:\\r\\nAge 24 years\\r\\nHeight 5ft 8 inches\\r\\nEyes Blue\\r\\nColor of Hair light\\r\\nCharacteristics ]\\r\\n\\r\\nHEADQUARTERS, Mississippi City Miss\\r\\nSept 29th 1865.\\r\\n\\r\\nI hereby certify, that the Amnesty Oath prescribed by the Proclamation of the President of the United States, was duly administered to J.W. Baxter of Harrison Co by my order, this 29th day of Sept 29 1865.\\r\\nFrank E. Miller\\r\\nMaj 66th USCI Commanding.\\r\\n\\r\\n\\r\\n'"
      ]
     },
     "execution_count": 19,
     "metadata": {},
     "output_type": "execute_result"
    }
   ],
   "source": [
    "txte= re.sub(\"([\\(\\[]).*?([\\)\\]])\",\"\",data[\"transcription_text\"][10])\n",
    "txte"
   ]
  },
  {
   "cell_type": "code",
   "execution_count": 20,
   "id": "63ada2a8",
   "metadata": {
    "execution": {
     "iopub.execute_input": "2022-06-08T07:48:22.964872Z",
     "iopub.status.busy": "2022-06-08T07:48:22.964473Z",
     "iopub.status.idle": "2022-06-08T07:48:22.970525Z",
     "shell.execute_reply": "2022-06-08T07:48:22.969750Z"
    },
    "papermill": {
     "duration": 0.029476,
     "end_time": "2022-06-08T07:48:22.972349",
     "exception": false,
     "start_time": "2022-06-08T07:48:22.942873",
     "status": "completed"
    },
    "tags": []
   },
   "outputs": [
    {
     "data": {
      "text/plain": [
       "']\\r\\nAMNESTY OATH.\\r\\n\\r\\nMississippi City Miss Sept 29 1865.\\r\\n\\r\\nI, J.W. Baxter, do solemnly swear, in presence of Almighty God, that I will henceforth faithfully support, protect and defend the Constitution of the United States and the union of the States thereunder; and that I will, in like manner, abide by and faithfully support all laws and proclamations which have been made during the existing rebellion with reference to the emancipation of slaves. SO HELP ME GOD.\\r\\nJ.W. Baxter\\r\\n\\r\\nSworn to and subscribed at Mississippi City\\r\\nthis 29th day of September 1865, before me\\r\\nJ. H. Mathews Capt 66th\\r\\nU.S Col Infty & Provost Marshal.  Sub port Miss\\r\\n\\r\\nDESCRIPTION:\\r\\nAge 24 years\\r\\nHeight 5ft 8 inches\\r\\nEyes Blue\\r\\nColor of Hair light\\r\\nCharacteristics ]\\r\\n\\r\\nHEADQUARTERS, Mississippi City Miss\\r\\nSept 29th 1865.\\r\\n\\r\\nI hereby certify, that the Amnesty Oath prescribed by the Proclamation of the President of the United States, was duly administered to J.W. Baxter of Harrison Co by my order, this 29th day of Sept 29 1865.\\r\\nFrank E. Miller\\r\\nMaj 66th USCI Commanding.\\r\\n\\r\\n\\r\\n'"
      ]
     },
     "execution_count": 20,
     "metadata": {},
     "output_type": "execute_result"
    }
   ],
   "source": [
    "txte= re.sub(\"([\\(\\[]).*?([\\)\\]])\",\"\",data[\"transcription_text\"][10])\n",
    "txte"
   ]
  },
  {
   "cell_type": "markdown",
   "id": "70db3ffe",
   "metadata": {
    "papermill": {
     "duration": 0.020053,
     "end_time": "2022-06-08T07:48:23.012586",
     "exception": false,
     "start_time": "2022-06-08T07:48:22.992533",
     "status": "completed"
    },
    "tags": []
   },
   "source": [
    "# Preprocessing"
   ]
  },
  {
   "cell_type": "code",
   "execution_count": 21,
   "id": "814aee7f",
   "metadata": {
    "execution": {
     "iopub.execute_input": "2022-06-08T07:48:23.053613Z",
     "iopub.status.busy": "2022-06-08T07:48:23.053224Z",
     "iopub.status.idle": "2022-06-08T07:48:23.056919Z",
     "shell.execute_reply": "2022-06-08T07:48:23.056330Z"
    },
    "papermill": {
     "duration": 0.026266,
     "end_time": "2022-06-08T07:48:23.058481",
     "exception": false,
     "start_time": "2022-06-08T07:48:23.032215",
     "status": "completed"
    },
    "tags": []
   },
   "outputs": [],
   "source": [
    "text=data[\"transcription_text\"]"
   ]
  },
  {
   "cell_type": "code",
   "execution_count": 22,
   "id": "9ec44dd5",
   "metadata": {
    "execution": {
     "iopub.execute_input": "2022-06-08T07:48:23.100317Z",
     "iopub.status.busy": "2022-06-08T07:48:23.099203Z",
     "iopub.status.idle": "2022-06-08T07:48:23.110876Z",
     "shell.execute_reply": "2022-06-08T07:48:23.110261Z"
    },
    "papermill": {
     "duration": 0.034385,
     "end_time": "2022-06-08T07:48:23.112815",
     "exception": false,
     "start_time": "2022-06-08T07:48:23.078430",
     "status": "completed"
    },
    "tags": []
   },
   "outputs": [],
   "source": [
    "stop_words = set(stopwords.words('english'))\n",
    "punctuation = string.punctuation\n",
    "stemmer = SnowballStemmer(language=\"english\")\n",
    "lemmatizer = WordNetLemmatizer()"
   ]
  },
  {
   "cell_type": "code",
   "execution_count": 23,
   "id": "003b4852",
   "metadata": {
    "execution": {
     "iopub.execute_input": "2022-06-08T07:48:23.155791Z",
     "iopub.status.busy": "2022-06-08T07:48:23.154943Z",
     "iopub.status.idle": "2022-06-08T07:48:23.160631Z",
     "shell.execute_reply": "2022-06-08T07:48:23.159760Z"
    },
    "papermill": {
     "duration": 0.02862,
     "end_time": "2022-06-08T07:48:23.162414",
     "exception": false,
     "start_time": "2022-06-08T07:48:23.133794",
     "status": "completed"
    },
    "tags": []
   },
   "outputs": [
    {
     "data": {
      "text/plain": [
       "'!\"#$%&\\'()*+,-./:;<=>?@[\\\\]^_`{|}~'"
      ]
     },
     "execution_count": 23,
     "metadata": {},
     "output_type": "execute_result"
    }
   ],
   "source": [
    "stop_words.remove(\"of\")\n",
    "punctuation"
   ]
  },
  {
   "cell_type": "code",
   "execution_count": 24,
   "id": "75e7bc04",
   "metadata": {
    "execution": {
     "iopub.execute_input": "2022-06-08T07:48:23.204651Z",
     "iopub.status.busy": "2022-06-08T07:48:23.204295Z",
     "iopub.status.idle": "2022-06-08T07:48:23.209413Z",
     "shell.execute_reply": "2022-06-08T07:48:23.208780Z"
    },
    "papermill": {
     "duration": 0.027899,
     "end_time": "2022-06-08T07:48:23.210949",
     "exception": false,
     "start_time": "2022-06-08T07:48:23.183050",
     "status": "completed"
    },
    "tags": []
   },
   "outputs": [],
   "source": [
    "def process(s):\n",
    "    s= re.sub(\"([\\(\\[]).*?([\\)\\]])\",\" \",s)\n",
    "    for p in punctuation:\n",
    "        s = s.replace(p, '')\n",
    "    s = word_tokenize(s)\n",
    "    s = [w for w in s if not w in stop_words] #optional\n",
    "    s = [lemmatizer.lemmatize(word) for word in s]\n",
    "    return s"
   ]
  },
  {
   "cell_type": "code",
   "execution_count": 25,
   "id": "08e5232b",
   "metadata": {
    "execution": {
     "iopub.execute_input": "2022-06-08T07:48:23.252338Z",
     "iopub.status.busy": "2022-06-08T07:48:23.251635Z",
     "iopub.status.idle": "2022-06-08T07:48:24.965218Z",
     "shell.execute_reply": "2022-06-08T07:48:24.964174Z"
    },
    "papermill": {
     "duration": 1.737237,
     "end_time": "2022-06-08T07:48:24.967990",
     "exception": false,
     "start_time": "2022-06-08T07:48:23.230753",
     "status": "completed"
    },
    "tags": []
   },
   "outputs": [
    {
     "name": "stderr",
     "output_type": "stream",
     "text": [
      "100%|██████████| 20/20 [00:01<00:00, 11.74it/s]\n"
     ]
    }
   ],
   "source": [
    "for i in tqdm(range(data.shape[0])):\n",
    "    text[i] = process(text[i])"
   ]
  },
  {
   "cell_type": "code",
   "execution_count": 26,
   "id": "426d3bee",
   "metadata": {
    "execution": {
     "iopub.execute_input": "2022-06-08T07:48:25.011678Z",
     "iopub.status.busy": "2022-06-08T07:48:25.011287Z",
     "iopub.status.idle": "2022-06-08T07:48:25.027661Z",
     "shell.execute_reply": "2022-06-08T07:48:25.027004Z"
    },
    "papermill": {
     "duration": 0.03961,
     "end_time": "2022-06-08T07:48:25.029328",
     "exception": false,
     "start_time": "2022-06-08T07:48:24.989718",
     "status": "completed"
    },
    "tags": []
   },
   "outputs": [
    {
     "name": "stderr",
     "output_type": "stream",
     "text": [
      "100%|██████████| 20/20 [00:00<00:00, 2318.26it/s]\n"
     ]
    }
   ],
   "source": [
    "for i in tqdm(range(data.shape[0])):\n",
    "    text[i] = \" \".join(text[i])"
   ]
  },
  {
   "cell_type": "code",
   "execution_count": 27,
   "id": "645f61b5",
   "metadata": {
    "execution": {
     "iopub.execute_input": "2022-06-08T07:48:25.072282Z",
     "iopub.status.busy": "2022-06-08T07:48:25.071914Z",
     "iopub.status.idle": "2022-06-08T07:48:25.076853Z",
     "shell.execute_reply": "2022-06-08T07:48:25.076250Z"
    },
    "papermill": {
     "duration": 0.029177,
     "end_time": "2022-06-08T07:48:25.079408",
     "exception": false,
     "start_time": "2022-06-08T07:48:25.050231",
     "status": "completed"
    },
    "tags": []
   },
   "outputs": [
    {
     "data": {
      "text/plain": [
       "'I E C Whaley solemnly swear I carefully read Amnesty Proclamation issued Andrew Johnson President of United State of America May 29th 1865 I excepted benefit of Proclamation one of fourteen exception therein made except E C Whaley Sworn subscribed Charleston SC 28 day of Sept 1865 Levi Steuben Maj 47th PM United States of America E C Whaley of city county Charleston Sate of South Ca solemnly swear presence of Almighty God I henceforth faithfully support defend Constitution of United States Union of States thereunder I like manner abide faithfully support law proclamation made existing rebellion reference Emancipation of SlavesSO HELP ME GOD E C Whaley Sworn subscribed Charleston SC 28 day of Sept 1865 Levi Steuben May 47 PM The fair complexion light hair gray eye 5 foot 10 inch high 39 year profession planter Copy Levi Steuben Maj 47th Pro Marshal City of Charleston'"
      ]
     },
     "execution_count": 27,
     "metadata": {},
     "output_type": "execute_result"
    }
   ],
   "source": [
    "text[1]"
   ]
  },
  {
   "cell_type": "code",
   "execution_count": 28,
   "id": "fd471629",
   "metadata": {
    "execution": {
     "iopub.execute_input": "2022-06-08T07:48:25.125963Z",
     "iopub.status.busy": "2022-06-08T07:48:25.125587Z",
     "iopub.status.idle": "2022-06-08T07:48:25.130923Z",
     "shell.execute_reply": "2022-06-08T07:48:25.130177Z"
    },
    "papermill": {
     "duration": 0.029167,
     "end_time": "2022-06-08T07:48:25.133083",
     "exception": false,
     "start_time": "2022-06-08T07:48:25.103916",
     "status": "completed"
    },
    "tags": []
   },
   "outputs": [
    {
     "data": {
      "text/plain": [
       "'43M I Mrs E Montgomery solemnly Swear I carefully read Amnesty Proclamation issued ANDREW JOHNSON President of United States of America May 29th 1865 I excepted benefit of Proclamation one of fourteen exception therein made Sgd Montgomery Sworn subscribed Charleston SC 31 day of Oct 1865 Levi Stuber Major 47th Pa Vet Vols Provost Marshal Duplicate No1984 United States of America I Mrs E Montgomery of County mnly Swear presence of Almighty God I henceforth faithfully support defend constitution of United States Union of States thereunder I like manner abide faithfully support law proclamation made existing rebellion reference Emancipation of Slaves So HELP ME GOD Sgd Montgomery Sworn subscribed Charleston SC 31 day of Oct 1865 Levi Stuber Major 47th Pa Vet Vols Provost Marshal The Fair complexion Dark hair dark eye 5 foot 4 inch high 61 year profession Widow'"
      ]
     },
     "execution_count": 28,
     "metadata": {},
     "output_type": "execute_result"
    }
   ],
   "source": [
    "data[\"transcription_text\"][2]"
   ]
  },
  {
   "cell_type": "code",
   "execution_count": 29,
   "id": "583bcf6a",
   "metadata": {
    "execution": {
     "iopub.execute_input": "2022-06-08T07:48:25.175833Z",
     "iopub.status.busy": "2022-06-08T07:48:25.175490Z",
     "iopub.status.idle": "2022-06-08T07:48:25.181067Z",
     "shell.execute_reply": "2022-06-08T07:48:25.180170Z"
    },
    "papermill": {
     "duration": 0.028998,
     "end_time": "2022-06-08T07:48:25.182847",
     "exception": false,
     "start_time": "2022-06-08T07:48:25.153849",
     "status": "completed"
    },
    "tags": []
   },
   "outputs": [
    {
     "data": {
      "text/plain": [
       "'43M I Mrs E Montgomery solemnly Swear I carefully read Amnesty Proclamation issued ANDREW JOHNSON President of United States of America May 29th 1865 I excepted benefit of Proclamation one of fourteen exception therein made Sgd Montgomery Sworn subscribed Charleston SC 31 day of Oct 1865 Levi Stuber Major 47th Pa Vet Vols Provost Marshal Duplicate No1984 United States of America I Mrs E Montgomery of County mnly Swear presence of Almighty God I henceforth faithfully support defend constitution of United States Union of States thereunder I like manner abide faithfully support law proclamation made existing rebellion reference Emancipation of Slaves So HELP ME GOD Sgd Montgomery Sworn subscribed Charleston SC 31 day of Oct 1865 Levi Stuber Major 47th Pa Vet Vols Provost Marshal The Fair complexion Dark hair dark eye 5 foot 4 inch high 61 year profession Widow'"
      ]
     },
     "execution_count": 29,
     "metadata": {},
     "output_type": "execute_result"
    }
   ],
   "source": [
    "text[2]"
   ]
  },
  {
   "cell_type": "code",
   "execution_count": 30,
   "id": "ea5a5bc3",
   "metadata": {
    "execution": {
     "iopub.execute_input": "2022-06-08T07:48:25.225331Z",
     "iopub.status.busy": "2022-06-08T07:48:25.224931Z",
     "iopub.status.idle": "2022-06-08T07:48:25.230002Z",
     "shell.execute_reply": "2022-06-08T07:48:25.229127Z"
    },
    "papermill": {
     "duration": 0.028721,
     "end_time": "2022-06-08T07:48:25.231992",
     "exception": false,
     "start_time": "2022-06-08T07:48:25.203271",
     "status": "completed"
    },
    "tags": []
   },
   "outputs": [
    {
     "data": {
      "text/plain": [
       "'No 2324 I solemnly swear affirm presence of Almighty God I henceforth faithfully defend Constitution of United States Union of States thereunder I like manner abide faithfully support Laws Proclamations made existing rebellion reference emancipation of slave SO HELP ME GOD EB Towne INTERREVENUE 5 5 FIVE IMAGE CENTS 5 5 INLDEXCHANGE Sworn Subscribed 31st day of August AD 1865 Hu Kennedy MAYOR Of City of New Orleans'"
      ]
     },
     "execution_count": 30,
     "metadata": {},
     "output_type": "execute_result"
    }
   ],
   "source": [
    "text[3]"
   ]
  },
  {
   "cell_type": "code",
   "execution_count": 31,
   "id": "9c904bb3",
   "metadata": {
    "execution": {
     "iopub.execute_input": "2022-06-08T07:48:25.276046Z",
     "iopub.status.busy": "2022-06-08T07:48:25.275507Z",
     "iopub.status.idle": "2022-06-08T07:48:25.281152Z",
     "shell.execute_reply": "2022-06-08T07:48:25.280181Z"
    },
    "papermill": {
     "duration": 0.029527,
     "end_time": "2022-06-08T07:48:25.282854",
     "exception": false,
     "start_time": "2022-06-08T07:48:25.253327",
     "status": "completed"
    },
    "tags": []
   },
   "outputs": [
    {
     "data": {
      "text/plain": [
       "'August 24 1865 APPLICATION AND CERTIFICATE OF WA Fleitas Amnesty Oath Administered At Pass Christian Mississippi By JB Hiserodt 66 US Cold Infty'"
      ]
     },
     "execution_count": 31,
     "metadata": {},
     "output_type": "execute_result"
    }
   ],
   "source": [
    "text[4]"
   ]
  },
  {
   "cell_type": "code",
   "execution_count": 32,
   "id": "1a499e3b",
   "metadata": {
    "execution": {
     "iopub.execute_input": "2022-06-08T07:48:25.326329Z",
     "iopub.status.busy": "2022-06-08T07:48:25.325777Z",
     "iopub.status.idle": "2022-06-08T07:48:25.331284Z",
     "shell.execute_reply": "2022-06-08T07:48:25.330434Z"
    },
    "papermill": {
     "duration": 0.029169,
     "end_time": "2022-06-08T07:48:25.332954",
     "exception": false,
     "start_time": "2022-06-08T07:48:25.303785",
     "status": "completed"
    },
    "tags": []
   },
   "outputs": [
    {
     "data": {
      "text/plain": [
       "'AMNESTY OATH Mississippi City Miss Sept 29 1865 I JW Baxter solemnly swear presence of Almighty God I henceforth faithfully support protect defend Constitution of United States union of States thereunder I like manner abide faithfully support law proclamation made existing rebellion reference emancipation of slave SO HELP ME GOD JW Baxter Sworn subscribed Mississippi City 29th day of September 1865 J H Mathews Capt 66th US Col Infty Provost Marshal Sub port Miss DESCRIPTION Age 24 year Height 5ft 8 inch Eyes Blue Color of Hair light Characteristics HEADQUARTERS Mississippi City Miss Sept 29th 1865 I hereby certify Amnesty Oath prescribed Proclamation of President of United States duly administered JW Baxter of Harrison Co order 29th day of Sept 29 1865 Frank E Miller Maj 66th USCI Commanding'"
      ]
     },
     "execution_count": 32,
     "metadata": {},
     "output_type": "execute_result"
    }
   ],
   "source": [
    "text[10]"
   ]
  },
  {
   "cell_type": "markdown",
   "id": "80307846",
   "metadata": {
    "papermill": {
     "duration": 0.020671,
     "end_time": "2022-06-08T07:48:25.374504",
     "exception": false,
     "start_time": "2022-06-08T07:48:25.353833",
     "status": "completed"
    },
    "tags": []
   },
   "source": [
    "# spacy"
   ]
  },
  {
   "cell_type": "code",
   "execution_count": 33,
   "id": "01a6c64e",
   "metadata": {
    "execution": {
     "iopub.execute_input": "2022-06-08T07:48:25.419029Z",
     "iopub.status.busy": "2022-06-08T07:48:25.418434Z",
     "iopub.status.idle": "2022-06-08T07:49:22.566642Z",
     "shell.execute_reply": "2022-06-08T07:49:22.565462Z"
    },
    "papermill": {
     "duration": 57.173574,
     "end_time": "2022-06-08T07:49:22.569071",
     "exception": false,
     "start_time": "2022-06-08T07:48:25.395497",
     "status": "completed"
    },
    "tags": []
   },
   "outputs": [
    {
     "name": "stdout",
     "output_type": "stream",
     "text": [
      "Requirement already satisfied: Cython in /opt/conda/lib/python3.7/site-packages (0.29.30)\r\n",
      "\u001b[33mWARNING: Running pip as the 'root' user can result in broken permissions and conflicting behaviour with the system package manager. It is recommended to use a virtual environment instead: https://pip.pypa.io/warnings/venv\u001b[0m\u001b[33m\r\n",
      "\u001b[0mRequirement already satisfied: transformers in /opt/conda/lib/python3.7/site-packages (4.18.0)\r\n",
      "Requirement already satisfied: sacremoses in /opt/conda/lib/python3.7/site-packages (from transformers) (0.0.53)\r\n",
      "Requirement already satisfied: packaging>=20.0 in /opt/conda/lib/python3.7/site-packages (from transformers) (21.3)\r\n",
      "Requirement already satisfied: numpy>=1.17 in /opt/conda/lib/python3.7/site-packages (from transformers) (1.21.6)\r\n",
      "Requirement already satisfied: filelock in /opt/conda/lib/python3.7/site-packages (from transformers) (3.6.0)\r\n",
      "Requirement already satisfied: huggingface-hub<1.0,>=0.1.0 in /opt/conda/lib/python3.7/site-packages (from transformers) (0.5.1)\r\n",
      "Requirement already satisfied: tqdm>=4.27 in /opt/conda/lib/python3.7/site-packages (from transformers) (4.64.0)\r\n",
      "Requirement already satisfied: pyyaml>=5.1 in /opt/conda/lib/python3.7/site-packages (from transformers) (6.0)\r\n",
      "Requirement already satisfied: requests in /opt/conda/lib/python3.7/site-packages (from transformers) (2.27.1)\r\n",
      "Requirement already satisfied: importlib-metadata in /opt/conda/lib/python3.7/site-packages (from transformers) (4.11.4)\r\n",
      "Requirement already satisfied: tokenizers!=0.11.3,<0.13,>=0.11.1 in /opt/conda/lib/python3.7/site-packages (from transformers) (0.12.1)\r\n",
      "Requirement already satisfied: regex!=2019.12.17 in /opt/conda/lib/python3.7/site-packages (from transformers) (2021.11.10)\r\n",
      "Requirement already satisfied: typing-extensions>=3.7.4.3 in /opt/conda/lib/python3.7/site-packages (from huggingface-hub<1.0,>=0.1.0->transformers) (4.2.0)\r\n",
      "Requirement already satisfied: pyparsing!=3.0.5,>=2.0.2 in /opt/conda/lib/python3.7/site-packages (from packaging>=20.0->transformers) (3.0.9)\r\n",
      "Requirement already satisfied: zipp>=0.5 in /opt/conda/lib/python3.7/site-packages (from importlib-metadata->transformers) (3.8.0)\r\n",
      "Requirement already satisfied: idna<4,>=2.5 in /opt/conda/lib/python3.7/site-packages (from requests->transformers) (3.3)\r\n",
      "Requirement already satisfied: urllib3<1.27,>=1.21.1 in /opt/conda/lib/python3.7/site-packages (from requests->transformers) (1.26.9)\r\n",
      "Requirement already satisfied: charset-normalizer~=2.0.0 in /opt/conda/lib/python3.7/site-packages (from requests->transformers) (2.0.12)\r\n",
      "Requirement already satisfied: certifi>=2017.4.17 in /opt/conda/lib/python3.7/site-packages (from requests->transformers) (2022.5.18.1)\r\n",
      "Requirement already satisfied: six in /opt/conda/lib/python3.7/site-packages (from sacremoses->transformers) (1.16.0)\r\n",
      "Requirement already satisfied: joblib in /opt/conda/lib/python3.7/site-packages (from sacremoses->transformers) (1.1.0)\r\n",
      "Requirement already satisfied: click in /opt/conda/lib/python3.7/site-packages (from sacremoses->transformers) (8.0.4)\r\n",
      "\u001b[33mWARNING: Running pip as the 'root' user can result in broken permissions and conflicting behaviour with the system package manager. It is recommended to use a virtual environment instead: https://pip.pypa.io/warnings/venv\u001b[0m\u001b[33m\r\n",
      "\u001b[0mCollecting flair\r\n",
      "  Downloading flair-0.11.3-py3-none-any.whl (401 kB)\r\n",
      "\u001b[2K     \u001b[90m━━━━━━━━━━━━━━━━━━━━━━━━━━━━━━━━━━━━━━━\u001b[0m \u001b[32m401.9/401.9 kB\u001b[0m \u001b[31m8.4 MB/s\u001b[0m eta \u001b[36m0:00:00\u001b[0m\r\n",
      "\u001b[?25hRequirement already satisfied: gensim>=3.4.0 in /opt/conda/lib/python3.7/site-packages (from flair) (4.0.1)\r\n",
      "Requirement already satisfied: janome in /opt/conda/lib/python3.7/site-packages (from flair) (0.4.2)\r\n",
      "Collecting mpld3==0.3\r\n",
      "  Downloading mpld3-0.3.tar.gz (788 kB)\r\n",
      "\u001b[2K     \u001b[90m━━━━━━━━━━━━━━━━━━━━━━━━━━━━━━━━━━━━━━\u001b[0m \u001b[32m788.5/788.5 kB\u001b[0m \u001b[31m27.9 MB/s\u001b[0m eta \u001b[36m0:00:00\u001b[0m\r\n",
      "\u001b[?25h  Preparing metadata (setup.py) ... \u001b[?25l-\b \bdone\r\n",
      "\u001b[?25hRequirement already satisfied: hyperopt>=0.2.7 in /opt/conda/lib/python3.7/site-packages (from flair) (0.2.7)\r\n",
      "Collecting wikipedia-api\r\n",
      "  Downloading Wikipedia-API-0.5.4.tar.gz (18 kB)\r\n",
      "  Preparing metadata (setup.py) ... \u001b[?25l-\b \bdone\r\n",
      "\u001b[?25hRequirement already satisfied: more-itertools in /opt/conda/lib/python3.7/site-packages (from flair) (8.13.0)\r\n",
      "Collecting sentencepiece==0.1.95\r\n",
      "  Downloading sentencepiece-0.1.95-cp37-cp37m-manylinux2014_x86_64.whl (1.2 MB)\r\n",
      "\u001b[2K     \u001b[90m━━━━━━━━━━━━━━━━━━━━━━━━━━━━━━━━━━━━━━━━\u001b[0m \u001b[32m1.2/1.2 MB\u001b[0m \u001b[31m38.3 MB/s\u001b[0m eta \u001b[36m0:00:00\u001b[0m\r\n",
      "\u001b[?25hRequirement already satisfied: regex in /opt/conda/lib/python3.7/site-packages (from flair) (2021.11.10)\r\n",
      "Requirement already satisfied: torch!=1.8,>=1.5.0 in /opt/conda/lib/python3.7/site-packages (from flair) (1.11.0+cpu)\r\n",
      "Collecting segtok>=1.5.7\r\n",
      "  Downloading segtok-1.5.11-py3-none-any.whl (24 kB)\r\n",
      "Collecting konoha<5.0.0,>=4.0.0\r\n",
      "  Downloading konoha-4.6.5-py3-none-any.whl (20 kB)\r\n",
      "Collecting gdown==4.4.0\r\n",
      "  Downloading gdown-4.4.0.tar.gz (14 kB)\r\n",
      "  Installing build dependencies ... \u001b[?25l-\b \b\\\b \b|\b \b/\b \bdone\r\n",
      "\u001b[?25h  Getting requirements to build wheel ... \u001b[?25l-\b \b\\\b \b|\b \b/\b \b-\b \bdone\r\n",
      "\u001b[?25h  Preparing metadata (pyproject.toml) ... \u001b[?25l-\b \b\\\b \b|\b \b/\b \b-\b \bdone\r\n",
      "\u001b[?25hRequirement already satisfied: matplotlib>=2.2.3 in /opt/conda/lib/python3.7/site-packages (from flair) (3.5.2)\r\n",
      "Collecting deprecated>=1.2.4\r\n",
      "  Downloading Deprecated-1.2.13-py2.py3-none-any.whl (9.6 kB)\r\n",
      "Requirement already satisfied: python-dateutil>=2.6.1 in /opt/conda/lib/python3.7/site-packages (from flair) (2.8.2)\r\n",
      "Requirement already satisfied: scikit-learn>=0.21.3 in /opt/conda/lib/python3.7/site-packages (from flair) (1.0.2)\r\n",
      "Collecting ftfy\r\n",
      "  Downloading ftfy-6.1.1-py3-none-any.whl (53 kB)\r\n",
      "\u001b[2K     \u001b[90m━━━━━━━━━━━━━━━━━━━━━━━━━━━━━━━━━━━━━━━━\u001b[0m \u001b[32m53.1/53.1 kB\u001b[0m \u001b[31m3.9 MB/s\u001b[0m eta \u001b[36m0:00:00\u001b[0m\r\n",
      "\u001b[?25hRequirement already satisfied: lxml in /opt/conda/lib/python3.7/site-packages (from flair) (4.8.0)\r\n",
      "Requirement already satisfied: huggingface-hub in /opt/conda/lib/python3.7/site-packages (from flair) (0.5.1)\r\n",
      "Requirement already satisfied: transformers>=4.0.0 in /opt/conda/lib/python3.7/site-packages (from flair) (4.18.0)\r\n",
      "Collecting bpemb>=0.3.2\r\n",
      "  Downloading bpemb-0.3.3-py3-none-any.whl (19 kB)\r\n",
      "Collecting pptree\r\n",
      "  Downloading pptree-3.1.tar.gz (3.0 kB)\r\n",
      "  Preparing metadata (setup.py) ... \u001b[?25l-\b \bdone\r\n",
      "\u001b[?25hRequirement already satisfied: tabulate in /opt/conda/lib/python3.7/site-packages (from flair) (0.8.9)\r\n",
      "Requirement already satisfied: tqdm>=4.26.0 in /opt/conda/lib/python3.7/site-packages (from flair) (4.64.0)\r\n",
      "Collecting conllu>=4.0\r\n",
      "  Downloading conllu-4.4.2-py2.py3-none-any.whl (15 kB)\r\n",
      "Collecting sqlitedict>=1.6.0\r\n",
      "  Downloading sqlitedict-2.0.0.tar.gz (46 kB)\r\n",
      "\u001b[2K     \u001b[90m━━━━━━━━━━━━━━━━━━━━━━━━━━━━━━━━━━━━━━━━\u001b[0m \u001b[32m46.3/46.3 kB\u001b[0m \u001b[31m3.8 MB/s\u001b[0m eta \u001b[36m0:00:00\u001b[0m\r\n",
      "\u001b[?25h  Preparing metadata (setup.py) ... \u001b[?25l-\b \bdone\r\n",
      "\u001b[?25hCollecting langdetect\r\n",
      "  Downloading langdetect-1.0.9.tar.gz (981 kB)\r\n",
      "\u001b[2K     \u001b[90m━━━━━━━━━━━━━━━━━━━━━━━━━━━━━━━━━━━━━━\u001b[0m \u001b[32m981.5/981.5 kB\u001b[0m \u001b[31m44.6 MB/s\u001b[0m eta \u001b[36m0:00:00\u001b[0m\r\n",
      "\u001b[?25h  Preparing metadata (setup.py) ... \u001b[?25l-\b \bdone\r\n",
      "\u001b[?25hRequirement already satisfied: filelock in /opt/conda/lib/python3.7/site-packages (from gdown==4.4.0->flair) (3.6.0)\r\n",
      "Requirement already satisfied: requests[socks] in /opt/conda/lib/python3.7/site-packages (from gdown==4.4.0->flair) (2.27.1)\r\n",
      "Requirement already satisfied: six in /opt/conda/lib/python3.7/site-packages (from gdown==4.4.0->flair) (1.16.0)\r\n",
      "Requirement already satisfied: beautifulsoup4 in /opt/conda/lib/python3.7/site-packages (from gdown==4.4.0->flair) (4.11.1)\r\n",
      "Requirement already satisfied: numpy in /opt/conda/lib/python3.7/site-packages (from bpemb>=0.3.2->flair) (1.21.6)\r\n",
      "Requirement already satisfied: wrapt<2,>=1.10 in /opt/conda/lib/python3.7/site-packages (from deprecated>=1.2.4->flair) (1.14.1)\r\n",
      "Requirement already satisfied: scipy>=0.18.1 in /opt/conda/lib/python3.7/site-packages (from gensim>=3.4.0->flair) (1.7.3)\r\n",
      "Requirement already satisfied: smart-open>=1.8.1 in /opt/conda/lib/python3.7/site-packages (from gensim>=3.4.0->flair) (5.2.1)\r\n",
      "Requirement already satisfied: future in /opt/conda/lib/python3.7/site-packages (from hyperopt>=0.2.7->flair) (0.18.2)\r\n",
      "Requirement already satisfied: cloudpickle in /opt/conda/lib/python3.7/site-packages (from hyperopt>=0.2.7->flair) (2.0.0)\r\n",
      "Requirement already satisfied: networkx>=2.2 in /opt/conda/lib/python3.7/site-packages (from hyperopt>=0.2.7->flair) (2.5)\r\n",
      "Requirement already satisfied: py4j in /opt/conda/lib/python3.7/site-packages (from hyperopt>=0.2.7->flair) (0.10.9.5)\r\n",
      "Collecting importlib-metadata<4.0.0,>=3.7.0\r\n",
      "  Downloading importlib_metadata-3.10.1-py3-none-any.whl (14 kB)\r\n",
      "Collecting overrides<4.0.0,>=3.0.0\r\n",
      "  Downloading overrides-3.1.0.tar.gz (11 kB)\r\n",
      "  Preparing metadata (setup.py) ... \u001b[?25l-\b \bdone\r\n",
      "\u001b[?25hRequirement already satisfied: pyparsing>=2.2.1 in /opt/conda/lib/python3.7/site-packages (from matplotlib>=2.2.3->flair) (3.0.9)\r\n",
      "Requirement already satisfied: packaging>=20.0 in /opt/conda/lib/python3.7/site-packages (from matplotlib>=2.2.3->flair) (21.3)\r\n",
      "Requirement already satisfied: fonttools>=4.22.0 in /opt/conda/lib/python3.7/site-packages (from matplotlib>=2.2.3->flair) (4.33.3)\r\n",
      "Requirement already satisfied: kiwisolver>=1.0.1 in /opt/conda/lib/python3.7/site-packages (from matplotlib>=2.2.3->flair) (1.4.2)\r\n",
      "Requirement already satisfied: pillow>=6.2.0 in /opt/conda/lib/python3.7/site-packages (from matplotlib>=2.2.3->flair) (9.1.0)\r\n",
      "Requirement already satisfied: cycler>=0.10 in /opt/conda/lib/python3.7/site-packages (from matplotlib>=2.2.3->flair) (0.11.0)\r\n",
      "Requirement already satisfied: joblib>=0.11 in /opt/conda/lib/python3.7/site-packages (from scikit-learn>=0.21.3->flair) (1.1.0)\r\n",
      "Requirement already satisfied: threadpoolctl>=2.0.0 in /opt/conda/lib/python3.7/site-packages (from scikit-learn>=0.21.3->flair) (3.1.0)\r\n",
      "Requirement already satisfied: typing-extensions in /opt/conda/lib/python3.7/site-packages (from torch!=1.8,>=1.5.0->flair) (4.2.0)\r\n",
      "Requirement already satisfied: pyyaml>=5.1 in /opt/conda/lib/python3.7/site-packages (from transformers>=4.0.0->flair) (6.0)\r\n",
      "Requirement already satisfied: sacremoses in /opt/conda/lib/python3.7/site-packages (from transformers>=4.0.0->flair) (0.0.53)\r\n",
      "Requirement already satisfied: tokenizers!=0.11.3,<0.13,>=0.11.1 in /opt/conda/lib/python3.7/site-packages (from transformers>=4.0.0->flair) (0.12.1)\r\n",
      "Requirement already satisfied: wcwidth>=0.2.5 in /opt/conda/lib/python3.7/site-packages (from ftfy->flair) (0.2.5)\r\n",
      "Requirement already satisfied: zipp>=0.5 in /opt/conda/lib/python3.7/site-packages (from importlib-metadata<4.0.0,>=3.7.0->konoha<5.0.0,>=4.0.0->flair) (3.8.0)\r\n",
      "Requirement already satisfied: decorator>=4.3.0 in /opt/conda/lib/python3.7/site-packages (from networkx>=2.2->hyperopt>=0.2.7->flair) (5.1.1)\r\n",
      "Requirement already satisfied: idna<4,>=2.5 in /opt/conda/lib/python3.7/site-packages (from requests[socks]->gdown==4.4.0->flair) (3.3)\r\n",
      "Requirement already satisfied: charset-normalizer~=2.0.0 in /opt/conda/lib/python3.7/site-packages (from requests[socks]->gdown==4.4.0->flair) (2.0.12)\r\n",
      "Requirement already satisfied: urllib3<1.27,>=1.21.1 in /opt/conda/lib/python3.7/site-packages (from requests[socks]->gdown==4.4.0->flair) (1.26.9)\r\n",
      "Requirement already satisfied: certifi>=2017.4.17 in /opt/conda/lib/python3.7/site-packages (from requests[socks]->gdown==4.4.0->flair) (2022.5.18.1)\r\n",
      "Requirement already satisfied: soupsieve>1.2 in /opt/conda/lib/python3.7/site-packages (from beautifulsoup4->gdown==4.4.0->flair) (2.3.1)\r\n",
      "Requirement already satisfied: PySocks!=1.5.7,>=1.5.6 in /opt/conda/lib/python3.7/site-packages (from requests[socks]->gdown==4.4.0->flair) (1.7.1)\r\n",
      "Requirement already satisfied: click in /opt/conda/lib/python3.7/site-packages (from sacremoses->transformers>=4.0.0->flair) (8.0.4)\r\n",
      "Building wheels for collected packages: gdown, mpld3, sqlitedict, langdetect, pptree, wikipedia-api, overrides\r\n",
      "  Building wheel for gdown (pyproject.toml) ... \u001b[?25l-\b \b\\\b \b|\b \b/\b \b-\b \b\\\b \b|\b \b/\b \bdone\r\n",
      "\u001b[?25h  Created wheel for gdown: filename=gdown-4.4.0-py3-none-any.whl size=14759 sha256=aabfb6d0fde69cc5ed05410e32fd2b17f07c12b8a6b83d91b7f838971c2b5d23\r\n",
      "  Stored in directory: /root/.cache/pip/wheels/fb/c3/0e/c4d8ff8bfcb0461afff199471449f642179b74968c15b7a69c\r\n",
      "  Building wheel for mpld3 (setup.py) ... \u001b[?25l-\b \b\\\b \bdone\r\n",
      "\u001b[?25h  Created wheel for mpld3: filename=mpld3-0.3-py3-none-any.whl size=116702 sha256=363b4db354703e9a7a0d657d5a935343ee868509b36717efdb0fe2fd4dcae07f\r\n",
      "  Stored in directory: /root/.cache/pip/wheels/26/70/6a/1c79e59951a41b4045497da187b2724f5659ca64033cf4548e\r\n",
      "  Building wheel for sqlitedict (setup.py) ... \u001b[?25l-\b \bdone\r\n",
      "\u001b[?25h  Created wheel for sqlitedict: filename=sqlitedict-2.0.0-py3-none-any.whl size=15736 sha256=e5d43c56599334bab387df5e3669bce3f48f6c151fb405f06bea69157c6575bb\r\n",
      "  Stored in directory: /root/.cache/pip/wheels/96/dd/2e/0ed4a25cb73fc30c7ea8d10b50acb7226175736067e40a7ea3\r\n",
      "  Building wheel for langdetect (setup.py) ... \u001b[?25l-\b \b\\\b \b|\b \b/\b \bdone\r\n",
      "\u001b[?25h  Created wheel for langdetect: filename=langdetect-1.0.9-py3-none-any.whl size=993242 sha256=1d3ada9f2dd77325cded1abd6460d3e551a32a885efe21db65f8570bd4bf321f\r\n",
      "  Stored in directory: /root/.cache/pip/wheels/c5/96/8a/f90c59ed25d75e50a8c10a1b1c2d4c402e4dacfa87f3aff36a\r\n",
      "  Building wheel for pptree (setup.py) ... \u001b[?25l-\b \b\\\b \bdone\r\n",
      "\u001b[?25h  Created wheel for pptree: filename=pptree-3.1-py3-none-any.whl size=4629 sha256=4e8af1482525e72b794b71bc73b6fe17236460e1f3ab8a3a52b9bb111a9deb32\r\n",
      "  Stored in directory: /root/.cache/pip/wheels/9e/e8/7d/a9c3c19b4722608a0d8b05a38c36bc3f230c43becd2a46794b\r\n",
      "  Building wheel for wikipedia-api (setup.py) ... \u001b[?25l-\b \bdone\r\n",
      "\u001b[?25h  Created wheel for wikipedia-api: filename=Wikipedia_API-0.5.4-py3-none-any.whl size=13477 sha256=4324bb00f6c4739e78f223851e1fdb303b94cc3beb878d68b67d2fb5c0be1d3b\r\n",
      "  Stored in directory: /root/.cache/pip/wheels/d3/24/56/58ba93cf78be162451144e7a9889603f437976ef1ae7013d04\r\n",
      "  Building wheel for overrides (setup.py) ... \u001b[?25l-\b \bdone\r\n",
      "\u001b[?25h  Created wheel for overrides: filename=overrides-3.1.0-py3-none-any.whl size=10187 sha256=464c6ddd5340f242143f4a21b164e3eedcbe9c6ca35bafbdb003880ee7da15a0\r\n",
      "  Stored in directory: /root/.cache/pip/wheels/3a/0d/38/01a9bc6e20dcfaf0a6a7b552d03137558ba1c38aea47644682\r\n",
      "Successfully built gdown mpld3 sqlitedict langdetect pptree wikipedia-api overrides\r\n",
      "Installing collected packages: sqlitedict, sentencepiece, pptree, overrides, mpld3, segtok, langdetect, importlib-metadata, ftfy, deprecated, conllu, wikipedia-api, konoha, gdown, bpemb, flair\r\n",
      "  Attempting uninstall: sentencepiece\r\n",
      "    Found existing installation: sentencepiece 0.1.96\r\n",
      "    Uninstalling sentencepiece-0.1.96:\r\n",
      "      Successfully uninstalled sentencepiece-0.1.96\r\n",
      "  Attempting uninstall: overrides\r\n",
      "    Found existing installation: overrides 6.1.0\r\n",
      "    Uninstalling overrides-6.1.0:\r\n",
      "      Successfully uninstalled overrides-6.1.0\r\n",
      "  Attempting uninstall: mpld3\r\n",
      "    Found existing installation: mpld3 0.5.7\r\n",
      "    Uninstalling mpld3-0.5.7:\r\n",
      "      Successfully uninstalled mpld3-0.5.7\r\n",
      "  Attempting uninstall: importlib-metadata\r\n",
      "    Found existing installation: importlib-metadata 4.11.4\r\n",
      "    Uninstalling importlib-metadata-4.11.4:\r\n",
      "      Successfully uninstalled importlib-metadata-4.11.4\r\n",
      "\u001b[31mERROR: pip's dependency resolver does not currently take into account all the packages that are installed. This behaviour is the source of the following dependency conflicts.\r\n",
      "markdown 3.3.7 requires importlib-metadata>=4.4; python_version < \"3.10\", but you have importlib-metadata 3.10.1 which is incompatible.\r\n",
      "ibis-framework 2.1.1 requires importlib-metadata<5,>=4; python_version < \"3.8\", but you have importlib-metadata 3.10.1 which is incompatible.\r\n",
      "gym 0.23.1 requires importlib-metadata>=4.10.0; python_version < \"3.10\", but you have importlib-metadata 3.10.1 which is incompatible.\r\n",
      "google-cloud-pubsublite 1.4.2 requires overrides<7.0.0,>=6.0.1, but you have overrides 3.1.0 which is incompatible.\u001b[0m\u001b[31m\r\n",
      "\u001b[0mSuccessfully installed bpemb-0.3.3 conllu-4.4.2 deprecated-1.2.13 flair-0.11.3 ftfy-6.1.1 gdown-4.4.0 importlib-metadata-3.10.1 konoha-4.6.5 langdetect-1.0.9 mpld3-0.3 overrides-3.1.0 pptree-3.1 segtok-1.5.11 sentencepiece-0.1.95 sqlitedict-2.0.0 wikipedia-api-0.5.4\r\n",
      "\u001b[33mWARNING: Running pip as the 'root' user can result in broken permissions and conflicting behaviour with the system package manager. It is recommended to use a virtual environment instead: https://pip.pypa.io/warnings/venv\u001b[0m\u001b[33m\r\n",
      "\u001b[0m"
     ]
    }
   ],
   "source": [
    "!pip3 install Cython\n",
    "!pip install transformers\n",
    "!pip install flair"
   ]
  },
  {
   "cell_type": "code",
   "execution_count": 34,
   "id": "d36a0a0a",
   "metadata": {
    "execution": {
     "iopub.execute_input": "2022-06-08T07:49:22.625098Z",
     "iopub.status.busy": "2022-06-08T07:49:22.624306Z",
     "iopub.status.idle": "2022-06-08T07:49:28.280947Z",
     "shell.execute_reply": "2022-06-08T07:49:28.280084Z"
    },
    "papermill": {
     "duration": 5.686898,
     "end_time": "2022-06-08T07:49:28.283210",
     "exception": false,
     "start_time": "2022-06-08T07:49:22.596312",
     "status": "completed"
    },
    "tags": []
   },
   "outputs": [],
   "source": [
    "import spacy\n",
    "from spacy import displacy\n",
    "from collections import Counter\n",
    "import en_core_web_sm\n",
    "nlp = en_core_web_sm.load()"
   ]
  },
  {
   "cell_type": "code",
   "execution_count": 35,
   "id": "f6b1db7d",
   "metadata": {
    "execution": {
     "iopub.execute_input": "2022-06-08T07:49:28.339297Z",
     "iopub.status.busy": "2022-06-08T07:49:28.338166Z",
     "iopub.status.idle": "2022-06-08T07:49:28.732773Z",
     "shell.execute_reply": "2022-06-08T07:49:28.731777Z"
    },
    "papermill": {
     "duration": 0.424451,
     "end_time": "2022-06-08T07:49:28.734696",
     "exception": false,
     "start_time": "2022-06-08T07:49:28.310245",
     "status": "completed"
    },
    "tags": []
   },
   "outputs": [
    {
     "data": {
      "text/html": [
       "<div>\n",
       "<style scoped>\n",
       "    .dataframe tbody tr th:only-of-type {\n",
       "        vertical-align: middle;\n",
       "    }\n",
       "\n",
       "    .dataframe tbody tr th {\n",
       "        vertical-align: top;\n",
       "    }\n",
       "\n",
       "    .dataframe thead th {\n",
       "        text-align: right;\n",
       "    }\n",
       "</style>\n",
       "<table border=\"1\" class=\"dataframe\">\n",
       "  <thead>\n",
       "    <tr style=\"text-align: right;\">\n",
       "      <th></th>\n",
       "      <th>entities</th>\n",
       "      <th>start_char</th>\n",
       "      <th>end_char</th>\n",
       "      <th>label</th>\n",
       "      <th>explain</th>\n",
       "      <th>frequency</th>\n",
       "    </tr>\n",
       "  </thead>\n",
       "  <tbody>\n",
       "    <tr>\n",
       "      <th>0</th>\n",
       "      <td>Anne H Elliott</td>\n",
       "      <td>11</td>\n",
       "      <td>25</td>\n",
       "      <td>PERSON</td>\n",
       "      <td>People, including fictional</td>\n",
       "      <td></td>\n",
       "    </tr>\n",
       "    <tr>\n",
       "      <th>1</th>\n",
       "      <td>Amnesty</td>\n",
       "      <td>54</td>\n",
       "      <td>61</td>\n",
       "      <td>ORG</td>\n",
       "      <td>Companies, agencies, institutions, etc.</td>\n",
       "      <td></td>\n",
       "    </tr>\n",
       "    <tr>\n",
       "      <th>2</th>\n",
       "      <td>Andrew Johnson</td>\n",
       "      <td>82</td>\n",
       "      <td>96</td>\n",
       "      <td>PERSON</td>\n",
       "      <td>People, including fictional</td>\n",
       "      <td></td>\n",
       "    </tr>\n",
       "    <tr>\n",
       "      <th>3</th>\n",
       "      <td>United States of America</td>\n",
       "      <td>110</td>\n",
       "      <td>134</td>\n",
       "      <td>GPE</td>\n",
       "      <td>Countries, cities, states</td>\n",
       "      <td></td>\n",
       "    </tr>\n",
       "    <tr>\n",
       "      <th>4</th>\n",
       "      <td>May 29th 1865</td>\n",
       "      <td>135</td>\n",
       "      <td>148</td>\n",
       "      <td>DATE</td>\n",
       "      <td>Absolute or relative dates or periods</td>\n",
       "      <td></td>\n",
       "    </tr>\n",
       "  </tbody>\n",
       "</table>\n",
       "</div>"
      ],
      "text/plain": [
       "                   entities  start_char  end_char   label  \\\n",
       "0            Anne H Elliott          11        25  PERSON   \n",
       "1                   Amnesty          54        61     ORG   \n",
       "2            Andrew Johnson          82        96  PERSON   \n",
       "3  United States of America         110       134     GPE   \n",
       "4             May 29th 1865         135       148    DATE   \n",
       "\n",
       "                                   explain frequency  \n",
       "0              People, including fictional            \n",
       "1  Companies, agencies, institutions, etc.            \n",
       "2              People, including fictional            \n",
       "3                Countries, cities, states            \n",
       "4    Absolute or relative dates or periods            "
      ]
     },
     "execution_count": 35,
     "metadata": {},
     "output_type": "execute_result"
    }
   ],
   "source": [
    "L1=[]\n",
    "def NER (txt):\n",
    "    for i in range(20):\n",
    "        nlp_text=nlp(txt[i])\n",
    "        L1.append([(word.text, word.start_char, word.end_char, word.label_,spacy.explain(word.label_)) for word in nlp_text.ents])\n",
    "        \n",
    "NER(text)\n",
    "l0=[]\n",
    "l1=[]\n",
    "l2=[]\n",
    "l3=[]\n",
    "l4=[]\n",
    "l5=[]\n",
    "for i in range(len(L1)):\n",
    "    for j in range(len(L1[i])):\n",
    "        l0.append(L1[i][j][0])\n",
    "        l2.append(L1[i][j][1])\n",
    "        l3.append(L1[i][j][2])\n",
    "        l4.append(L1[i][j][3])\n",
    "        l5.append(L1[i][j][4])\n",
    "\n",
    "df1=pd.DataFrame({\"entities\":l0,\"start_char\":l2,\"end_char\":l3 ,\"label\": l4, \"explain\": l5, \"frequency\":\"\"})\n",
    "df1.head()"
   ]
  },
  {
   "cell_type": "code",
   "execution_count": 36,
   "id": "32fe87d2",
   "metadata": {
    "execution": {
     "iopub.execute_input": "2022-06-08T07:49:28.790132Z",
     "iopub.status.busy": "2022-06-08T07:49:28.789556Z",
     "iopub.status.idle": "2022-06-08T07:49:28.810940Z",
     "shell.execute_reply": "2022-06-08T07:49:28.810184Z"
    },
    "papermill": {
     "duration": 0.051564,
     "end_time": "2022-06-08T07:49:28.813145",
     "exception": false,
     "start_time": "2022-06-08T07:49:28.761581",
     "status": "completed"
    },
    "tags": []
   },
   "outputs": [],
   "source": [
    "Person=[]\n",
    "ORG=[]\n",
    "DATE=[]\n",
    "GPE=[]\n",
    "\n",
    "for i in range(df1.shape[0]):\n",
    "    if df1.label.loc[i]==\"PERSON\":\n",
    "        Person.append(df1.entities.loc[i])\n",
    "    elif df1.label.loc[i]==\"ORG\" :\n",
    "        ORG.append(df1.entities.loc[i])\n",
    "    elif df1.label.loc[i]==\"DATE\" :\n",
    "        DATE.append(df1.entities.loc[i])\n",
    "    elif df1.label.loc[i]==\"GPE\" :\n",
    "        GPE.append(df1.entities.loc[i])\n",
    "GPE=np.array(GPE)\n",
    "ORG=np.array(ORG)\n",
    "Person=np.array(Person)\n",
    "DATE=np.array(DATE)"
   ]
  },
  {
   "cell_type": "code",
   "execution_count": 37,
   "id": "710ea3c6",
   "metadata": {
    "execution": {
     "iopub.execute_input": "2022-06-08T07:49:28.869178Z",
     "iopub.status.busy": "2022-06-08T07:49:28.868750Z",
     "iopub.status.idle": "2022-06-08T07:49:28.874551Z",
     "shell.execute_reply": "2022-06-08T07:49:28.873710Z"
    },
    "papermill": {
     "duration": 0.036611,
     "end_time": "2022-06-08T07:49:28.876567",
     "exception": false,
     "start_time": "2022-06-08T07:49:28.839956",
     "status": "completed"
    },
    "tags": []
   },
   "outputs": [
    {
     "data": {
      "text/plain": [
       "array(['May 29th 1865', '27th day', '1865', '27th day', '1865', '63 year',\n",
       "       'May 29th 1865', '28 day', '28 day', 'May 47 PM', '39 year',\n",
       "       'May 29th 1865', '31 day', '1865', 'No1984', '31 day', '1865',\n",
       "       '31st day', 'August 24 1865', 'May 29th 1865',\n",
       "       '3 day of August 1865', 'May 4', '3 day', '1865', 'May 29th 1865',\n",
       "       '16th day', '1474', '16th day', 'May 29th 1865',\n",
       "       '16 day of October 1865', '16 day of October 1865', 'July 22',\n",
       "       'July 22', '1867', 'May 29th 1865', '6 day', '6 day',\n",
       "       '29th day of September 1865', 'Age 24 year', 'Sept 29th 1865',\n",
       "       '29th day', 'May 29th 1865', '7th day of September',\n",
       "       '7th day of September', '20th day of August 1865',\n",
       "       '20th day of August 1865', 'August 29th 1865',\n",
       "       '22nd day of August 1865', 'Miss 31st day', '1865 1865', '31 day',\n",
       "       '1865'], dtype='<U26')"
      ]
     },
     "execution_count": 37,
     "metadata": {},
     "output_type": "execute_result"
    }
   ],
   "source": [
    "DATE"
   ]
  },
  {
   "cell_type": "code",
   "execution_count": 38,
   "id": "064f8f47",
   "metadata": {
    "execution": {
     "iopub.execute_input": "2022-06-08T07:49:28.932138Z",
     "iopub.status.busy": "2022-06-08T07:49:28.931725Z",
     "iopub.status.idle": "2022-06-08T07:49:28.937736Z",
     "shell.execute_reply": "2022-06-08T07:49:28.936861Z"
    },
    "papermill": {
     "duration": 0.035837,
     "end_time": "2022-06-08T07:49:28.939582",
     "exception": false,
     "start_time": "2022-06-08T07:49:28.903745",
     "status": "completed"
    },
    "tags": []
   },
   "outputs": [
    {
     "data": {
      "text/plain": [
       "41"
      ]
     },
     "execution_count": 38,
     "metadata": {},
     "output_type": "execute_result"
    }
   ],
   "source": [
    "len(Person)"
   ]
  },
  {
   "cell_type": "code",
   "execution_count": 39,
   "id": "f2e92621",
   "metadata": {
    "execution": {
     "iopub.execute_input": "2022-06-08T07:49:28.994960Z",
     "iopub.status.busy": "2022-06-08T07:49:28.994558Z",
     "iopub.status.idle": "2022-06-08T07:49:29.000513Z",
     "shell.execute_reply": "2022-06-08T07:49:28.999632Z"
    },
    "papermill": {
     "duration": 0.035788,
     "end_time": "2022-06-08T07:49:29.002519",
     "exception": false,
     "start_time": "2022-06-08T07:49:28.966731",
     "status": "completed"
    },
    "tags": []
   },
   "outputs": [
    {
     "data": {
      "text/plain": [
       "array(['Anne H Elliott', 'Andrew Johnson', 'Hazel', 'Whaley',\n",
       "       'Andrew Johnson', 'Copy Levi Steuben', 'Hu Kennedy',\n",
       "       'Amnesty Oath Administered At', 'Hiserodt', 'William Whaley Sworn',\n",
       "       'William Whaley Sworn', 'Brown', 'Charleston Sc',\n",
       "       'JF Steinmeyer Sworn', 'Charleston Sc', 'Gry', 'Joseph Edings',\n",
       "       'Thomas Andrew Oath of', 'Jacob Schroder Sworn', 'Walhalla',\n",
       "       'Walhalla', 'Bray Lieut', 'Laborer', 'Characteristics',\n",
       "       'Amnesty Oath', 'Woodville Wilkinson', 'Frank Conner',\n",
       "       'Triplicate AMNESTY', 'Hiram Smith', 'Hiram Smith',\n",
       "       'Pass Christian', 'Captn', 'Amnesty Oath', 'Hiram Smith',\n",
       "       'Captn Commanding', 'Robert A',\n",
       "       'James D Kendall Amnesty Oath Administered At Oacen Springs',\n",
       "       'Gibbs Henderson', 'City Miss', 'Amnesty Oath', 'Frank E Miller'],\n",
       "      dtype='<U58')"
      ]
     },
     "execution_count": 39,
     "metadata": {},
     "output_type": "execute_result"
    }
   ],
   "source": [
    "Person"
   ]
  },
  {
   "cell_type": "markdown",
   "id": "a34671aa",
   "metadata": {
    "papermill": {
     "duration": 0.027559,
     "end_time": "2022-06-08T07:49:29.057059",
     "exception": false,
     "start_time": "2022-06-08T07:49:29.029500",
     "status": "completed"
    },
    "tags": []
   },
   "source": [
    "# Hugging face  : Flair"
   ]
  },
  {
   "cell_type": "markdown",
   "id": "57a37402",
   "metadata": {
    "papermill": {
     "duration": 0.028032,
     "end_time": "2022-06-08T07:49:29.112511",
     "exception": false,
     "start_time": "2022-06-08T07:49:29.084479",
     "status": "completed"
    },
    "tags": []
   },
   "source": [
    "**ner-english** "
   ]
  },
  {
   "cell_type": "code",
   "execution_count": 40,
   "id": "2d69b42e",
   "metadata": {
    "execution": {
     "iopub.execute_input": "2022-06-08T07:49:29.168017Z",
     "iopub.status.busy": "2022-06-08T07:49:29.167622Z",
     "iopub.status.idle": "2022-06-08T07:49:31.333285Z",
     "shell.execute_reply": "2022-06-08T07:49:31.332026Z"
    },
    "papermill": {
     "duration": 2.195854,
     "end_time": "2022-06-08T07:49:31.335546",
     "exception": false,
     "start_time": "2022-06-08T07:49:29.139692",
     "status": "completed"
    },
    "tags": []
   },
   "outputs": [
    {
     "name": "stdout",
     "output_type": "stream",
     "text": [
      "git: 'lfs' is not a git command. See 'git --help'.\r\n",
      "\r\n",
      "The most similar command is\r\n",
      "\tlog\r\n",
      "Cloning into 'ner-english-large'...\r\n",
      "remote: Enumerating objects: 25, done.\u001b[K\r\n",
      "remote: Counting objects: 100% (25/25), done.\u001b[K\r\n",
      "remote: Compressing objects: 100% (24/24), done.\u001b[K\r\n",
      "remote: Total 25 (delta 10), reused 0 (delta 0), pack-reused 0\u001b[K\r\n",
      "Unpacking objects: 100% (25/25), 11.03 KiB | 1.00 MiB/s, done.\r\n"
     ]
    }
   ],
   "source": [
    "!git lfs install\n",
    "!git clone https://huggingface.co/flair/ner-english-large"
   ]
  },
  {
   "cell_type": "code",
   "execution_count": 41,
   "id": "b5d305ed",
   "metadata": {
    "execution": {
     "iopub.execute_input": "2022-06-08T07:49:31.391987Z",
     "iopub.status.busy": "2022-06-08T07:49:31.391557Z",
     "iopub.status.idle": "2022-06-08T07:51:04.218141Z",
     "shell.execute_reply": "2022-06-08T07:51:04.216907Z"
    },
    "papermill": {
     "duration": 92.858349,
     "end_time": "2022-06-08T07:51:04.221181",
     "exception": false,
     "start_time": "2022-06-08T07:49:31.362832",
     "status": "completed"
    },
    "tags": []
   },
   "outputs": [
    {
     "data": {
      "application/vnd.jupyter.widget-view+json": {
       "model_id": "40aba5354fe34fe4888d507900eaf207",
       "version_major": 2,
       "version_minor": 0
      },
      "text/plain": [
       "Downloading:   0%|          | 0.00/2.24G [00:00<?, ?B/s]"
      ]
     },
     "metadata": {},
     "output_type": "display_data"
    },
    {
     "name": "stdout",
     "output_type": "stream",
     "text": [
      "2022-06-08 07:50:44,850 loading file /root/.flair/models/ner-english-ontonotes-large/2da6c2cdd76e59113033adf670340bfd820f0301ae2e39204d67ba2dc276cc28.ec1bdb304b6c66111532c3b1fc6e522460ae73f1901848a4d0362cdf9760edb1\n"
     ]
    },
    {
     "data": {
      "application/vnd.jupyter.widget-view+json": {
       "model_id": "942df8a01dd246429e61ca137e0bcd92",
       "version_major": 2,
       "version_minor": 0
      },
      "text/plain": [
       "Downloading:   0%|          | 0.00/616 [00:00<?, ?B/s]"
      ]
     },
     "metadata": {},
     "output_type": "display_data"
    },
    {
     "data": {
      "application/vnd.jupyter.widget-view+json": {
       "model_id": "9da03165267e4938b2986453e171f293",
       "version_major": 2,
       "version_minor": 0
      },
      "text/plain": [
       "Downloading:   0%|          | 0.00/4.83M [00:00<?, ?B/s]"
      ]
     },
     "metadata": {},
     "output_type": "display_data"
    },
    {
     "data": {
      "application/vnd.jupyter.widget-view+json": {
       "model_id": "7099d5323a064e8696e46eafdfcb2b17",
       "version_major": 2,
       "version_minor": 0
      },
      "text/plain": [
       "Downloading:   0%|          | 0.00/8.68M [00:00<?, ?B/s]"
      ]
     },
     "metadata": {},
     "output_type": "display_data"
    },
    {
     "name": "stdout",
     "output_type": "stream",
     "text": [
      "2022-06-08 07:51:03,847 SequenceTagger predicts: Dictionary with 76 tags: <unk>, O, B-CARDINAL, E-CARDINAL, S-PERSON, S-CARDINAL, S-PRODUCT, B-PRODUCT, I-PRODUCT, E-PRODUCT, B-WORK_OF_ART, I-WORK_OF_ART, E-WORK_OF_ART, B-PERSON, E-PERSON, S-GPE, B-DATE, I-DATE, E-DATE, S-ORDINAL, S-LANGUAGE, I-PERSON, S-EVENT, S-DATE, B-QUANTITY, E-QUANTITY, S-TIME, B-TIME, I-TIME, E-TIME, B-GPE, E-GPE, S-ORG, I-GPE, S-NORP, B-FAC, I-FAC, E-FAC, B-NORP, E-NORP, S-PERCENT, B-ORG, E-ORG, B-LANGUAGE, E-LANGUAGE, I-CARDINAL, I-ORG, S-WORK_OF_ART, I-QUANTITY, B-MONEY\n"
     ]
    }
   ],
   "source": [
    "from flair.models import SequenceTagger\n",
    "\n",
    "tagger = SequenceTagger.load(\"flair/ner-english-ontonotes-large\")"
   ]
  },
  {
   "cell_type": "code",
   "execution_count": 42,
   "id": "ad698777",
   "metadata": {
    "execution": {
     "iopub.execute_input": "2022-06-08T07:51:04.280098Z",
     "iopub.status.busy": "2022-06-08T07:51:04.279465Z",
     "iopub.status.idle": "2022-06-08T07:51:24.114531Z",
     "shell.execute_reply": "2022-06-08T07:51:24.113469Z"
    },
    "papermill": {
     "duration": 19.868253,
     "end_time": "2022-06-08T07:51:24.116963",
     "exception": false,
     "start_time": "2022-06-08T07:51:04.248710",
     "status": "completed"
    },
    "tags": []
   },
   "outputs": [
    {
     "data": {
      "application/vnd.jupyter.widget-view+json": {
       "model_id": "0f173889dfc74a04802aff23ab9e409c",
       "version_major": 2,
       "version_minor": 0
      },
      "text/plain": [
       "Downloading:   0%|          | 0.00/432M [00:00<?, ?B/s]"
      ]
     },
     "metadata": {},
     "output_type": "display_data"
    },
    {
     "name": "stdout",
     "output_type": "stream",
     "text": [
      "2022-06-08 07:51:21,262 loading file /root/.flair/models/ner-english/4f4cdab26f24cb98b732b389e6cebc646c36f54cfd6e0b7d3b90b25656e4262f.8baa8ae8795f4df80b28e7f7b61d788ecbb057d1dc85aacb316f1bd02837a4a4\n",
      "2022-06-08 07:51:23,898 SequenceTagger predicts: Dictionary with 20 tags: <unk>, O, S-ORG, S-MISC, B-PER, E-PER, S-LOC, B-ORG, E-ORG, I-PER, S-PER, B-MISC, I-MISC, E-MISC, I-ORG, B-LOC, E-LOC, I-LOC, <START>, <STOP>\n"
     ]
    }
   ],
   "source": [
    "from flair.models import SequenceTagger\n",
    "\n",
    "tagger1 = SequenceTagger.load(\"flair/ner-english\")"
   ]
  },
  {
   "cell_type": "code",
   "execution_count": 43,
   "id": "fc2c2bc7",
   "metadata": {
    "execution": {
     "iopub.execute_input": "2022-06-08T07:51:24.176893Z",
     "iopub.status.busy": "2022-06-08T07:51:24.176184Z",
     "iopub.status.idle": "2022-06-08T07:52:51.158430Z",
     "shell.execute_reply": "2022-06-08T07:52:51.157527Z"
    },
    "papermill": {
     "duration": 87.014462,
     "end_time": "2022-06-08T07:52:51.160769",
     "exception": false,
     "start_time": "2022-06-08T07:51:24.146307",
     "status": "completed"
    },
    "tags": []
   },
   "outputs": [
    {
     "data": {
      "application/vnd.jupyter.widget-view+json": {
       "model_id": "11a5851b9ab44fc6b698e4bcea5ecccb",
       "version_major": 2,
       "version_minor": 0
      },
      "text/plain": [
       "Downloading:   0%|          | 0.00/2.24G [00:00<?, ?B/s]"
      ]
     },
     "metadata": {},
     "output_type": "display_data"
    },
    {
     "name": "stdout",
     "output_type": "stream",
     "text": [
      "2022-06-08 07:52:35,594 loading file /root/.flair/models/ner-english-large/07301f59bb8cb113803be316267f06ddf9243cdbba92a4c8067ef92442d2c574.554244d3476d97501a766a98078421817b14654496b86f2f7bd139dc502a4f29\n",
      "2022-06-08 07:52:50,806 SequenceTagger predicts: Dictionary with 20 tags: <unk>, O, S-ORG, S-MISC, B-PER, E-PER, S-LOC, B-ORG, E-ORG, I-PER, S-PER, B-MISC, I-MISC, E-MISC, I-ORG, B-LOC, E-LOC, I-LOC, <START>, <STOP>\n"
     ]
    }
   ],
   "source": [
    "from flair.models import SequenceTagger\n",
    "\n",
    "tagger2 = SequenceTagger.load(\"flair/ner-english-large\")"
   ]
  },
  {
   "cell_type": "code",
   "execution_count": 44,
   "id": "e2a8ec85",
   "metadata": {
    "execution": {
     "iopub.execute_input": "2022-06-08T07:52:51.219936Z",
     "iopub.status.busy": "2022-06-08T07:52:51.218831Z",
     "iopub.status.idle": "2022-06-08T07:53:09.295141Z",
     "shell.execute_reply": "2022-06-08T07:53:09.294165Z"
    },
    "papermill": {
     "duration": 18.108413,
     "end_time": "2022-06-08T07:53:09.297761",
     "exception": false,
     "start_time": "2022-06-08T07:52:51.189348",
     "status": "completed"
    },
    "tags": []
   },
   "outputs": [],
   "source": [
    "from flair.data import Sentence\n",
    "from flair.models import SequenceTagger\n",
    "T2=[]\n",
    "D2={}\n",
    "for i in range(20):\n",
    "        sentencess =Sentence(text[i])\n",
    "        tagger.predict(sentencess)\n",
    "        for entity in sentencess.get_spans('ner'):\n",
    "                     T2.append(entity)\n",
    "                     if (entity.get_label(\"ner\").score > 0.98) & (entity.get_label(\"ner\").value != \"CARDINAL\") & (entity.get_label(\"ner\").value != \"LAW\")& (entity.get_label(\"ner\").value != \"QUANTITY\") & (entity.get_label(\"ner\").value != \"WORK_OF_ART\") & (entity.get_label(\"ner\").value != \"LAW\")& (entity.get_label(\"ner\").value != \"QUANTITY\") & (entity.get_label(\"ner\").value != \"EVENT\")  :\n",
    "                         D2[entity.text]= entity.get_label(\"ner\").value"
   ]
  },
  {
   "cell_type": "code",
   "execution_count": 45,
   "id": "1141555c",
   "metadata": {
    "execution": {
     "iopub.execute_input": "2022-06-08T07:53:09.359694Z",
     "iopub.status.busy": "2022-06-08T07:53:09.359313Z",
     "iopub.status.idle": "2022-06-08T07:54:16.820484Z",
     "shell.execute_reply": "2022-06-08T07:54:16.819271Z"
    },
    "papermill": {
     "duration": 67.495615,
     "end_time": "2022-06-08T07:54:16.824022",
     "exception": false,
     "start_time": "2022-06-08T07:53:09.328407",
     "status": "completed"
    },
    "tags": []
   },
   "outputs": [],
   "source": [
    "T3=[]\n",
    "D3={}\n",
    "\n",
    "for i in range(20):\n",
    "        sentencess =Sentence(text[i])\n",
    "        tagger1.predict(sentencess)\n",
    "        for entity in sentencess.get_spans('ner'):\n",
    "                     T3.append(entity)\n",
    "                     if (entity.get_label(\"ner\").score > 0.90)  :\n",
    "                         D3[entity.text]= entity.get_label(\"ner\").value"
   ]
  },
  {
   "cell_type": "code",
   "execution_count": 46,
   "id": "0badaaf3",
   "metadata": {
    "execution": {
     "iopub.execute_input": "2022-06-08T07:54:16.883029Z",
     "iopub.status.busy": "2022-06-08T07:54:16.882570Z",
     "iopub.status.idle": "2022-06-08T07:54:34.336858Z",
     "shell.execute_reply": "2022-06-08T07:54:34.335725Z"
    },
    "papermill": {
     "duration": 17.486288,
     "end_time": "2022-06-08T07:54:34.339551",
     "exception": false,
     "start_time": "2022-06-08T07:54:16.853263",
     "status": "completed"
    },
    "tags": []
   },
   "outputs": [],
   "source": [
    "T4=[]\n",
    "D4={}\n",
    "\n",
    "for i in range(20):\n",
    "        sentencess =Sentence(text[i])\n",
    "        tagger2.predict(sentencess)\n",
    "        for entity in sentencess.get_spans('ner'):\n",
    "                     T4.append(entity)\n",
    "                     if (entity.get_label(\"ner\").score > 0.90)  :\n",
    "                         D4[entity.text]= entity.get_label(\"ner\").value"
   ]
  },
  {
   "cell_type": "code",
   "execution_count": 47,
   "id": "d28548ed",
   "metadata": {
    "execution": {
     "iopub.execute_input": "2022-06-08T07:54:34.398021Z",
     "iopub.status.busy": "2022-06-08T07:54:34.397605Z",
     "iopub.status.idle": "2022-06-08T07:54:34.401728Z",
     "shell.execute_reply": "2022-06-08T07:54:34.400849Z"
    },
    "papermill": {
     "duration": 0.035584,
     "end_time": "2022-06-08T07:54:34.403721",
     "exception": false,
     "start_time": "2022-06-08T07:54:34.368137",
     "status": "completed"
    },
    "tags": []
   },
   "outputs": [],
   "source": [
    "# lst=[]\n",
    "# dic={}\n",
    "\n",
    "# for i in range(20):\n",
    "#         sentencess =Sentence(text[i])\n",
    "#         tagger2.predict(sentencess)\n",
    "#         for entity in sentencess.get_spans('ner'):\n",
    "#                      T4.append(entity)\n",
    "#                      if (entity.get_label(\"ner\").score > 0.90)  :\n",
    "#                          D4[entity.text]= entity.get_label(\"ner\").value"
   ]
  },
  {
   "cell_type": "code",
   "execution_count": null,
   "id": "bc6433c5",
   "metadata": {
    "papermill": {
     "duration": 0.027904,
     "end_time": "2022-06-08T07:54:34.460787",
     "exception": false,
     "start_time": "2022-06-08T07:54:34.432883",
     "status": "completed"
    },
    "tags": []
   },
   "outputs": [],
   "source": []
  },
  {
   "cell_type": "code",
   "execution_count": null,
   "id": "47fc5d19",
   "metadata": {
    "papermill": {
     "duration": 0.027799,
     "end_time": "2022-06-08T07:54:34.516860",
     "exception": false,
     "start_time": "2022-06-08T07:54:34.489061",
     "status": "completed"
    },
    "tags": []
   },
   "outputs": [],
   "source": []
  },
  {
   "cell_type": "code",
   "execution_count": 48,
   "id": "bd4fba34",
   "metadata": {
    "execution": {
     "iopub.execute_input": "2022-06-08T07:54:34.574116Z",
     "iopub.status.busy": "2022-06-08T07:54:34.573692Z",
     "iopub.status.idle": "2022-06-08T07:54:34.579567Z",
     "shell.execute_reply": "2022-06-08T07:54:34.578741Z"
    },
    "papermill": {
     "duration": 0.036654,
     "end_time": "2022-06-08T07:54:34.581391",
     "exception": false,
     "start_time": "2022-06-08T07:54:34.544737",
     "status": "completed"
    },
    "tags": []
   },
   "outputs": [
    {
     "data": {
      "text/plain": [
       "104"
      ]
     },
     "execution_count": 48,
     "metadata": {},
     "output_type": "execute_result"
    }
   ],
   "source": [
    "len(D2)"
   ]
  },
  {
   "cell_type": "code",
   "execution_count": 49,
   "id": "34ddb7dc",
   "metadata": {
    "execution": {
     "iopub.execute_input": "2022-06-08T07:54:34.641493Z",
     "iopub.status.busy": "2022-06-08T07:54:34.640590Z",
     "iopub.status.idle": "2022-06-08T07:54:34.645498Z",
     "shell.execute_reply": "2022-06-08T07:54:34.644936Z"
    },
    "papermill": {
     "duration": 0.036596,
     "end_time": "2022-06-08T07:54:34.647090",
     "exception": false,
     "start_time": "2022-06-08T07:54:34.610494",
     "status": "completed"
    },
    "tags": []
   },
   "outputs": [
    {
     "data": {
      "text/plain": [
       "22"
      ]
     },
     "execution_count": 49,
     "metadata": {},
     "output_type": "execute_result"
    }
   ],
   "source": [
    "len(D3)"
   ]
  },
  {
   "cell_type": "code",
   "execution_count": 50,
   "id": "561dd65d",
   "metadata": {
    "execution": {
     "iopub.execute_input": "2022-06-08T07:54:34.706427Z",
     "iopub.status.busy": "2022-06-08T07:54:34.705564Z",
     "iopub.status.idle": "2022-06-08T07:54:34.710941Z",
     "shell.execute_reply": "2022-06-08T07:54:34.710139Z"
    },
    "papermill": {
     "duration": 0.036991,
     "end_time": "2022-06-08T07:54:34.712917",
     "exception": false,
     "start_time": "2022-06-08T07:54:34.675926",
     "status": "completed"
    },
    "tags": []
   },
   "outputs": [
    {
     "data": {
      "text/plain": [
       "108"
      ]
     },
     "execution_count": 50,
     "metadata": {},
     "output_type": "execute_result"
    }
   ],
   "source": [
    "len(D4)"
   ]
  },
  {
   "cell_type": "code",
   "execution_count": 51,
   "id": "38106115",
   "metadata": {
    "execution": {
     "iopub.execute_input": "2022-06-08T07:54:34.771140Z",
     "iopub.status.busy": "2022-06-08T07:54:34.770714Z",
     "iopub.status.idle": "2022-06-08T07:54:34.775746Z",
     "shell.execute_reply": "2022-06-08T07:54:34.774762Z"
    },
    "papermill": {
     "duration": 0.036166,
     "end_time": "2022-06-08T07:54:34.777515",
     "exception": false,
     "start_time": "2022-06-08T07:54:34.741349",
     "status": "completed"
    },
    "tags": []
   },
   "outputs": [],
   "source": [
    "ent=[]\n",
    "label=[]\n",
    "for i in D2 :\n",
    "    ent.append(i)\n",
    "    label.append(D2[i])"
   ]
  },
  {
   "cell_type": "code",
   "execution_count": 52,
   "id": "9026497c",
   "metadata": {
    "execution": {
     "iopub.execute_input": "2022-06-08T07:54:34.836636Z",
     "iopub.status.busy": "2022-06-08T07:54:34.836057Z",
     "iopub.status.idle": "2022-06-08T07:54:34.839942Z",
     "shell.execute_reply": "2022-06-08T07:54:34.839378Z"
    },
    "papermill": {
     "duration": 0.035804,
     "end_time": "2022-06-08T07:54:34.841729",
     "exception": false,
     "start_time": "2022-06-08T07:54:34.805925",
     "status": "completed"
    },
    "tags": []
   },
   "outputs": [],
   "source": [
    "ent1=[]\n",
    "label1=[]\n",
    "for i in D3 :\n",
    "    ent1.append(i)\n",
    "    label1.append(D3[i])"
   ]
  },
  {
   "cell_type": "code",
   "execution_count": 53,
   "id": "9ab36acf",
   "metadata": {
    "execution": {
     "iopub.execute_input": "2022-06-08T07:54:34.901084Z",
     "iopub.status.busy": "2022-06-08T07:54:34.900492Z",
     "iopub.status.idle": "2022-06-08T07:54:34.904543Z",
     "shell.execute_reply": "2022-06-08T07:54:34.903863Z"
    },
    "papermill": {
     "duration": 0.035899,
     "end_time": "2022-06-08T07:54:34.906370",
     "exception": false,
     "start_time": "2022-06-08T07:54:34.870471",
     "status": "completed"
    },
    "tags": []
   },
   "outputs": [],
   "source": [
    "ent2=[]\n",
    "label2=[]\n",
    "for i in D4 :\n",
    "    ent2.append(i)\n",
    "    label2.append(D4[i])"
   ]
  },
  {
   "cell_type": "code",
   "execution_count": 54,
   "id": "a42ebdca",
   "metadata": {
    "execution": {
     "iopub.execute_input": "2022-06-08T07:54:34.965848Z",
     "iopub.status.busy": "2022-06-08T07:54:34.965180Z",
     "iopub.status.idle": "2022-06-08T07:54:34.975263Z",
     "shell.execute_reply": "2022-06-08T07:54:34.974391Z"
    },
    "papermill": {
     "duration": 0.04224,
     "end_time": "2022-06-08T07:54:34.977238",
     "exception": false,
     "start_time": "2022-06-08T07:54:34.934998",
     "status": "completed"
    },
    "tags": []
   },
   "outputs": [],
   "source": [
    "final=pd.DataFrame({\"entities\":ent, \"label\":label})"
   ]
  },
  {
   "cell_type": "code",
   "execution_count": 55,
   "id": "20c260e4",
   "metadata": {
    "execution": {
     "iopub.execute_input": "2022-06-08T07:54:35.037021Z",
     "iopub.status.busy": "2022-06-08T07:54:35.036597Z",
     "iopub.status.idle": "2022-06-08T07:54:35.041818Z",
     "shell.execute_reply": "2022-06-08T07:54:35.041186Z"
    },
    "papermill": {
     "duration": 0.03715,
     "end_time": "2022-06-08T07:54:35.043499",
     "exception": false,
     "start_time": "2022-06-08T07:54:35.006349",
     "status": "completed"
    },
    "tags": []
   },
   "outputs": [],
   "source": [
    "final1=pd.DataFrame({\"entities\":ent1, \"label\":label1})"
   ]
  },
  {
   "cell_type": "code",
   "execution_count": 56,
   "id": "a26e14e8",
   "metadata": {
    "execution": {
     "iopub.execute_input": "2022-06-08T07:54:35.104819Z",
     "iopub.status.busy": "2022-06-08T07:54:35.103857Z",
     "iopub.status.idle": "2022-06-08T07:54:35.108903Z",
     "shell.execute_reply": "2022-06-08T07:54:35.108248Z"
    },
    "papermill": {
     "duration": 0.038111,
     "end_time": "2022-06-08T07:54:35.110754",
     "exception": false,
     "start_time": "2022-06-08T07:54:35.072643",
     "status": "completed"
    },
    "tags": []
   },
   "outputs": [],
   "source": [
    "final2=pd.DataFrame({\"entities\":ent2, \"label\":label2})"
   ]
  },
  {
   "cell_type": "code",
   "execution_count": null,
   "id": "63aa78a5",
   "metadata": {
    "papermill": {
     "duration": 0.028397,
     "end_time": "2022-06-08T07:54:35.167873",
     "exception": false,
     "start_time": "2022-06-08T07:54:35.139476",
     "status": "completed"
    },
    "tags": []
   },
   "outputs": [],
   "source": []
  },
  {
   "cell_type": "code",
   "execution_count": 57,
   "id": "748aa823",
   "metadata": {
    "execution": {
     "iopub.execute_input": "2022-06-08T07:54:35.227673Z",
     "iopub.status.busy": "2022-06-08T07:54:35.226961Z",
     "iopub.status.idle": "2022-06-08T07:54:35.244840Z",
     "shell.execute_reply": "2022-06-08T07:54:35.244075Z"
    },
    "papermill": {
     "duration": 0.050494,
     "end_time": "2022-06-08T07:54:35.247381",
     "exception": false,
     "start_time": "2022-06-08T07:54:35.196887",
     "status": "completed"
    },
    "tags": []
   },
   "outputs": [],
   "source": [
    "P=[]\n",
    "OR=[]\n",
    "GP=[]\n",
    "Date=[]\n",
    "LOC=[]\n",
    "for i in range(len(D2)):\n",
    "    if final.label.loc[i]==\"PERSON\":\n",
    "        P.append(final.entities.loc[i])\n",
    "    elif final.label.loc[i]==\"ORG\":\n",
    "        OR.append(final.entities.loc[i])\n",
    "    elif final.label.loc[i]==\"GPE\":\n",
    "        GP.append(final.entities.loc[i])\n",
    "    elif final.label.loc[i]==\"DATE\":\n",
    "        Date.append(final.entities.loc[i])\n",
    "    elif final.label.loc[i]==\"LOC\":\n",
    "        LOC.append(final.entities.loc[i])\n",
    "        \n",
    "\n",
    "OR=np.array(OR)\n",
    "P=np.array(P)\n",
    "LOC=np.array(LOC)\n",
    "Date=np.array(Date)\n",
    "GP=np.array(GP)\n",
    "\n"
   ]
  },
  {
   "cell_type": "code",
   "execution_count": 58,
   "id": "50fd0ca1",
   "metadata": {
    "execution": {
     "iopub.execute_input": "2022-06-08T07:54:35.307224Z",
     "iopub.status.busy": "2022-06-08T07:54:35.306518Z",
     "iopub.status.idle": "2022-06-08T07:54:35.311617Z",
     "shell.execute_reply": "2022-06-08T07:54:35.311029Z"
    },
    "papermill": {
     "duration": 0.037157,
     "end_time": "2022-06-08T07:54:35.313618",
     "exception": false,
     "start_time": "2022-06-08T07:54:35.276461",
     "status": "completed"
    },
    "tags": []
   },
   "outputs": [
    {
     "data": {
      "text/plain": [
       "array(['May 29th 1865', '27th day of Novb 1865', '27th day of Novbr 1865',\n",
       "       '63 year', '28 day of Sept 1865', 'Maj 47th PM', 'May 47 PM',\n",
       "       '39 year', 'Maj 47th', '31 day of Oct 1865', '61 year',\n",
       "       '31st day of August AD 1865', 'August 24 1865',\n",
       "       '3 day of August 1865', 'May 4', '3 day of Augt 1865', 'Maj 47',\n",
       "       '48 year', '16th day of Sept 1865', '58 year',\n",
       "       '16 day of October 1865', 'twenty eight year', 'July 22',\n",
       "       '6 day of Nov 1865', '58 year of age', 'Sept 29 1865',\n",
       "       '29th day of September 1865', '24 year', 'Sept 29th 1865',\n",
       "       '29th day of Sept 29 1865', '3d day of February 1868',\n",
       "       '7th day of September 186', 'Aug 20 1865',\n",
       "       '20th day of August 1865', 'Thirty nine', 'Aug 20th 1865',\n",
       "       'August 29th 1865', '22nd day of August 1865', '18th Sept 1865',\n",
       "       'Aug 31 1865', '31st day of Aug 1865', '26 Years',\n",
       "       '31 day of Aug 1865'], dtype='<U26')"
      ]
     },
     "execution_count": 58,
     "metadata": {},
     "output_type": "execute_result"
    }
   ],
   "source": [
    "Date"
   ]
  },
  {
   "cell_type": "code",
   "execution_count": 59,
   "id": "0f35eddc",
   "metadata": {
    "execution": {
     "iopub.execute_input": "2022-06-08T07:54:35.372994Z",
     "iopub.status.busy": "2022-06-08T07:54:35.372386Z",
     "iopub.status.idle": "2022-06-08T07:54:35.380137Z",
     "shell.execute_reply": "2022-06-08T07:54:35.379376Z"
    },
    "papermill": {
     "duration": 0.039454,
     "end_time": "2022-06-08T07:54:35.382060",
     "exception": false,
     "start_time": "2022-06-08T07:54:35.342606",
     "status": "completed"
    },
    "tags": []
   },
   "outputs": [],
   "source": [
    "P1=[]\n",
    "OR1=[]\n",
    "LOC1=[]\n",
    "for i in range(len(D3)):\n",
    "    if final1.label.loc[i]==\"PER\":\n",
    "        P1.append(final1.entities.loc[i])\n",
    "    elif (final1.label.loc[i]==\"ORG\") | (final1.label.loc[i]==\"MISC\"):\n",
    "        OR1.append(final1.entities.loc[i])\n",
    "    elif final1.label.loc[i]==\"LOC\" :\n",
    "        LOC1.append(final1.entities.loc[i])\n",
    "        \n",
    "\n",
    "OR1=np.array(OR1)\n",
    "P1=np.array(P1)\n",
    "LOC1=np.array(LOC1)\n"
   ]
  },
  {
   "cell_type": "code",
   "execution_count": 60,
   "id": "25b64365",
   "metadata": {
    "execution": {
     "iopub.execute_input": "2022-06-08T07:54:35.442738Z",
     "iopub.status.busy": "2022-06-08T07:54:35.442157Z",
     "iopub.status.idle": "2022-06-08T07:54:35.454691Z",
     "shell.execute_reply": "2022-06-08T07:54:35.454037Z"
    },
    "papermill": {
     "duration": 0.045056,
     "end_time": "2022-06-08T07:54:35.456523",
     "exception": false,
     "start_time": "2022-06-08T07:54:35.411467",
     "status": "completed"
    },
    "tags": []
   },
   "outputs": [],
   "source": [
    "P2=[]\n",
    "OR2=[]\n",
    "LOC2=[]\n",
    "for i in range(len(D4)):\n",
    "    if final2.label.loc[i]==\"PER\":\n",
    "        P2.append(final2.entities.loc[i])\n",
    "    elif (final2.label.loc[i]==\"ORG\") | (final2.label.loc[i]==\"MISC\"):\n",
    "        OR2.append(final2.entities.loc[i])\n",
    "    elif final2.label.loc[i]==\"LOC\" :\n",
    "        LOC2.append(final2.entities.loc[i])\n",
    "        \n",
    "\n",
    "OR2=np.array(OR2)\n",
    "P2=np.array(P2)\n",
    "LOC2=np.array(LOC2)\n"
   ]
  },
  {
   "cell_type": "code",
   "execution_count": 61,
   "id": "4d082719",
   "metadata": {
    "execution": {
     "iopub.execute_input": "2022-06-08T07:54:35.515427Z",
     "iopub.status.busy": "2022-06-08T07:54:35.514837Z",
     "iopub.status.idle": "2022-06-08T07:54:35.519952Z",
     "shell.execute_reply": "2022-06-08T07:54:35.519101Z"
    },
    "papermill": {
     "duration": 0.037011,
     "end_time": "2022-06-08T07:54:35.521948",
     "exception": false,
     "start_time": "2022-06-08T07:54:35.484937",
     "status": "completed"
    },
    "tags": []
   },
   "outputs": [
    {
     "data": {
      "text/plain": [
       "41"
      ]
     },
     "execution_count": 61,
     "metadata": {},
     "output_type": "execute_result"
    }
   ],
   "source": [
    "len(Person)"
   ]
  },
  {
   "cell_type": "code",
   "execution_count": 62,
   "id": "10ede1d0",
   "metadata": {
    "execution": {
     "iopub.execute_input": "2022-06-08T07:54:35.581495Z",
     "iopub.status.busy": "2022-06-08T07:54:35.581084Z",
     "iopub.status.idle": "2022-06-08T07:54:35.586127Z",
     "shell.execute_reply": "2022-06-08T07:54:35.585433Z"
    },
    "papermill": {
     "duration": 0.036718,
     "end_time": "2022-06-08T07:54:35.587780",
     "exception": false,
     "start_time": "2022-06-08T07:54:35.551062",
     "status": "completed"
    },
    "tags": []
   },
   "outputs": [
    {
     "data": {
      "text/plain": [
       "40"
      ]
     },
     "execution_count": 62,
     "metadata": {},
     "output_type": "execute_result"
    }
   ],
   "source": [
    "len(P)"
   ]
  },
  {
   "cell_type": "code",
   "execution_count": 63,
   "id": "3156115f",
   "metadata": {
    "execution": {
     "iopub.execute_input": "2022-06-08T07:54:35.647371Z",
     "iopub.status.busy": "2022-06-08T07:54:35.646408Z",
     "iopub.status.idle": "2022-06-08T07:54:35.651863Z",
     "shell.execute_reply": "2022-06-08T07:54:35.651031Z"
    },
    "papermill": {
     "duration": 0.03689,
     "end_time": "2022-06-08T07:54:35.653854",
     "exception": false,
     "start_time": "2022-06-08T07:54:35.616964",
     "status": "completed"
    },
    "tags": []
   },
   "outputs": [
    {
     "data": {
      "text/plain": [
       "15"
      ]
     },
     "execution_count": 63,
     "metadata": {},
     "output_type": "execute_result"
    }
   ],
   "source": [
    "len(P1)"
   ]
  },
  {
   "cell_type": "code",
   "execution_count": 64,
   "id": "46c87d0f",
   "metadata": {
    "execution": {
     "iopub.execute_input": "2022-06-08T07:54:35.713156Z",
     "iopub.status.busy": "2022-06-08T07:54:35.712724Z",
     "iopub.status.idle": "2022-06-08T07:54:35.718575Z",
     "shell.execute_reply": "2022-06-08T07:54:35.717887Z"
    },
    "papermill": {
     "duration": 0.037473,
     "end_time": "2022-06-08T07:54:35.720272",
     "exception": false,
     "start_time": "2022-06-08T07:54:35.682799",
     "status": "completed"
    },
    "tags": []
   },
   "outputs": [
    {
     "data": {
      "text/plain": [
       "45"
      ]
     },
     "execution_count": 64,
     "metadata": {},
     "output_type": "execute_result"
    }
   ],
   "source": [
    "len(P2)"
   ]
  },
  {
   "cell_type": "code",
   "execution_count": 65,
   "id": "776caf5e",
   "metadata": {
    "execution": {
     "iopub.execute_input": "2022-06-08T07:54:35.780507Z",
     "iopub.status.busy": "2022-06-08T07:54:35.779902Z",
     "iopub.status.idle": "2022-06-08T07:54:35.784961Z",
     "shell.execute_reply": "2022-06-08T07:54:35.784356Z"
    },
    "papermill": {
     "duration": 0.037403,
     "end_time": "2022-06-08T07:54:35.786575",
     "exception": false,
     "start_time": "2022-06-08T07:54:35.749172",
     "status": "completed"
    },
    "tags": []
   },
   "outputs": [
    {
     "data": {
      "text/plain": [
       "array(['Amnesty Oath', 'Amnesty Oath Administered At', 'Andrew Johnson',\n",
       "       'Anne H Elliott', 'Bray Lieut', 'Brown', 'Captn',\n",
       "       'Captn Commanding', 'Characteristics', 'Charleston Sc',\n",
       "       'City Miss', 'Copy Levi Steuben', 'Frank Conner', 'Frank E Miller',\n",
       "       'Gibbs Henderson', 'Gry', 'Hazel', 'Hiram Smith', 'Hiserodt',\n",
       "       'Hu Kennedy', 'JF Steinmeyer Sworn', 'Jacob Schroder Sworn',\n",
       "       'James D Kendall Amnesty Oath Administered At Oacen Springs',\n",
       "       'Joseph Edings', 'Laborer', 'Pass Christian', 'Robert A',\n",
       "       'Thomas Andrew Oath of', 'Triplicate AMNESTY', 'Walhalla',\n",
       "       'Whaley', 'William Whaley Sworn', 'Woodville Wilkinson'],\n",
       "      dtype='<U58')"
      ]
     },
     "execution_count": 65,
     "metadata": {},
     "output_type": "execute_result"
    }
   ],
   "source": [
    "np.unique(Person)"
   ]
  },
  {
   "cell_type": "code",
   "execution_count": 66,
   "id": "ff54dcc8",
   "metadata": {
    "execution": {
     "iopub.execute_input": "2022-06-08T07:54:35.846134Z",
     "iopub.status.busy": "2022-06-08T07:54:35.845549Z",
     "iopub.status.idle": "2022-06-08T07:54:35.850828Z",
     "shell.execute_reply": "2022-06-08T07:54:35.849954Z"
    },
    "papermill": {
     "duration": 0.037357,
     "end_time": "2022-06-08T07:54:35.852607",
     "exception": false,
     "start_time": "2022-06-08T07:54:35.815250",
     "status": "completed"
    },
    "tags": []
   },
   "outputs": [
    {
     "data": {
      "text/plain": [
       "array(['ANDREW JOHNSON', 'Aiken Burnwell', 'Andrew Johnson',\n",
       "       'Anne H Elliott', 'Bergevin', 'Caroline Belitzer', 'City', 'E',\n",
       "       'E C Whaley', 'Frank Conner', 'Frank E Miller', 'Frank Geise',\n",
       "       'Geo D Carpenter', 'Hiram Smith', 'Holwell', 'Hu Kennedy',\n",
       "       'I E C Whaley', 'I J F Steinmeyer', 'J E Thuring', 'J H Mathews',\n",
       "       'JB Hiserodt', 'JF Steinmeyer', 'JH Mathews', 'JW Baxter',\n",
       "       'Jacob Schroder', 'Jacob Schroder Sworn', 'James D Kendall',\n",
       "       'James E Thuring', 'Joseph Edings', 'Levi Steuben', 'Levi Stuber',\n",
       "       'Levi Stuber Major', 'P H Joor', 'Robert A Wilson',\n",
       "       'S Wilde Durson', 'Vicksburg', 'Whaley', 'William Whaley Sworn',\n",
       "       'caroline Belitzer', 'mark Sworn'], dtype='<U20')"
      ]
     },
     "execution_count": 66,
     "metadata": {},
     "output_type": "execute_result"
    }
   ],
   "source": [
    "np.unique(P)"
   ]
  },
  {
   "cell_type": "code",
   "execution_count": 67,
   "id": "5f05a5ff",
   "metadata": {
    "execution": {
     "iopub.execute_input": "2022-06-08T07:54:35.912488Z",
     "iopub.status.busy": "2022-06-08T07:54:35.911893Z",
     "iopub.status.idle": "2022-06-08T07:54:35.918143Z",
     "shell.execute_reply": "2022-06-08T07:54:35.917206Z"
    },
    "papermill": {
     "duration": 0.038487,
     "end_time": "2022-06-08T07:54:35.920042",
     "exception": false,
     "start_time": "2022-06-08T07:54:35.881555",
     "status": "completed"
    },
    "tags": []
   },
   "outputs": [
    {
     "data": {
      "text/plain": [
       "array(['Andrew Johnson', 'Anne H', 'Anne H Elliott', 'Caroline Belitzer',\n",
       "       'E Montgomery', 'Frank Conner', 'Hiram Smith', 'J H Mathews',\n",
       "       'Jacob Schroder', 'James E Thuring', 'Joseph Edings', 'Marshal',\n",
       "       'Robert A Wilson', 'Sworn', 'Wm Whaley'], dtype='<U17')"
      ]
     },
     "execution_count": 67,
     "metadata": {},
     "output_type": "execute_result"
    }
   ],
   "source": [
    "np.unique(P1)"
   ]
  },
  {
   "cell_type": "code",
   "execution_count": 68,
   "id": "55755328",
   "metadata": {
    "execution": {
     "iopub.execute_input": "2022-06-08T07:54:35.979860Z",
     "iopub.status.busy": "2022-06-08T07:54:35.979463Z",
     "iopub.status.idle": "2022-06-08T07:54:35.985920Z",
     "shell.execute_reply": "2022-06-08T07:54:35.985027Z"
    },
    "papermill": {
     "duration": 0.038193,
     "end_time": "2022-06-08T07:54:35.987631",
     "exception": false,
     "start_time": "2022-06-08T07:54:35.949438",
     "status": "completed"
    },
    "tags": []
   },
   "outputs": [
    {
     "data": {
      "text/plain": [
       "array(['ANDREW JOHNSON', 'Almighty', 'Almighty God', 'Andrew Johnson',\n",
       "       'Anne H Elliott', 'Caroline Belitzer', 'E C Whaley', 'EB Towne',\n",
       "       'Frank Conner', 'Frank E Miller', 'Frank Geise', 'GOD',\n",
       "       'Geo D Carpenter', 'God', 'H Elliott', 'H F Holwell',\n",
       "       'Hiram Smith', 'Hu Kennedy', 'I E C Whaley', 'I J F Steinmeyer',\n",
       "       'J E Thuring', 'J H Mathews', 'JB Hiserodt', 'JF Steinmeyer',\n",
       "       'JH Mathews', 'JW Baxter', 'Jacob Schroder', 'James D Kendall',\n",
       "       'James E Thuring', 'Joseph Edings', 'Joseph Edings Sworn',\n",
       "       'Levi Steuben', 'Levi Stuber', 'Mrs E Montgomery', 'P H Joor',\n",
       "       'P P Bergevin', 'R A Bray', 'Robert A Wilson', 'S Wilde Durson',\n",
       "       'S Wilde Durson Magt', 'S Wilde Durson Magtr', 'Sgd Montgomery',\n",
       "       'William Whaley', 'Wm Whaley', 'caroline Belitzer'], dtype='<U20')"
      ]
     },
     "execution_count": 68,
     "metadata": {},
     "output_type": "execute_result"
    }
   ],
   "source": [
    "np.unique(P2)"
   ]
  },
  {
   "cell_type": "markdown",
   "id": "ac3ad1d9",
   "metadata": {
    "papermill": {
     "duration": 0.028802,
     "end_time": "2022-06-08T07:54:36.045425",
     "exception": false,
     "start_time": "2022-06-08T07:54:36.016623",
     "status": "completed"
    },
    "tags": []
   },
   "source": [
    "****"
   ]
  },
  {
   "cell_type": "code",
   "execution_count": 69,
   "id": "c820dd70",
   "metadata": {
    "execution": {
     "iopub.execute_input": "2022-06-08T07:54:36.106468Z",
     "iopub.status.busy": "2022-06-08T07:54:36.105545Z",
     "iopub.status.idle": "2022-06-08T07:54:36.112005Z",
     "shell.execute_reply": "2022-06-08T07:54:36.111311Z"
    },
    "papermill": {
     "duration": 0.039088,
     "end_time": "2022-06-08T07:54:36.113743",
     "exception": false,
     "start_time": "2022-06-08T07:54:36.074655",
     "status": "completed"
    },
    "tags": []
   },
   "outputs": [
    {
     "data": {
      "text/plain": [
       "array(['AMNESTY', 'ANDREW', 'Amnesty', 'Amnesty Proclamation',\n",
       "       'Belitzer Sworn', 'Charleston State of So Carolina',\n",
       "       'Color of Eyes Blue Color of Hair Dark Characteristics',\n",
       "       'Emancipation of Slaves', 'Eyes Blue Color of Hair',\n",
       "       'Eyes Blue Color of Hair Light Characteristics', 'H F Holwell of',\n",
       "       'H Mathews Capt', 'JF Steinmeyer Sworn', 'Joseph Edings Sworn',\n",
       "       'Lawyer', 'Levi Stuber',\n",
       "       'Magistrate S Wilde Durson AHE AHE AHE H Elliott',\n",
       "       'OATH I P P Bergevin',\n",
       "       'P H Joor Justice of Peace Wilkinson County State of',\n",
       "       'Rebellion reference Emancipation of Slaves',\n",
       "       'Regt U S C Infy Provost Marshal', 'Sgd Montgomery Sworn', 'Sworn',\n",
       "       'UNITED STATES FORCES No 1282 PROVOST MARSHALS OFFICE',\n",
       "       'US Col Infty Provost Marshal', 'USCI Commanding',\n",
       "       'United State of America', 'United States Union',\n",
       "       'United States Union of State', 'Whaley Sworn', 'Wilson'],\n",
       "      dtype='<U53')"
      ]
     },
     "execution_count": 69,
     "metadata": {},
     "output_type": "execute_result"
    }
   ],
   "source": [
    "np.unique(ORG)"
   ]
  },
  {
   "cell_type": "code",
   "execution_count": 70,
   "id": "c9aa9564",
   "metadata": {
    "execution": {
     "iopub.execute_input": "2022-06-08T07:54:36.173759Z",
     "iopub.status.busy": "2022-06-08T07:54:36.173077Z",
     "iopub.status.idle": "2022-06-08T07:54:36.179022Z",
     "shell.execute_reply": "2022-06-08T07:54:36.178305Z"
    },
    "papermill": {
     "duration": 0.038269,
     "end_time": "2022-06-08T07:54:36.180784",
     "exception": false,
     "start_time": "2022-06-08T07:54:36.142515",
     "status": "completed"
    },
    "tags": []
   },
   "outputs": [
    {
     "data": {
      "text/plain": [
       "array(['James D Kendall Amnesty Oath Administered At Oacen Springs Miss 18th',\n",
       "       'WA Fleitas Amnesty Oath Administered At Pass Christian Mississippi By JB Hiserodt'],\n",
       "      dtype='<U81')"
      ]
     },
     "execution_count": 70,
     "metadata": {},
     "output_type": "execute_result"
    }
   ],
   "source": [
    "np.unique(OR1)"
   ]
  },
  {
   "cell_type": "code",
   "execution_count": 71,
   "id": "dd2a27bb",
   "metadata": {
    "execution": {
     "iopub.execute_input": "2022-06-08T07:54:36.244199Z",
     "iopub.status.busy": "2022-06-08T07:54:36.243565Z",
     "iopub.status.idle": "2022-06-08T07:54:36.248565Z",
     "shell.execute_reply": "2022-06-08T07:54:36.248002Z"
    },
    "papermill": {
     "duration": 0.037434,
     "end_time": "2022-06-08T07:54:36.250170",
     "exception": false,
     "start_time": "2022-06-08T07:54:36.212736",
     "status": "completed"
    },
    "tags": []
   },
   "outputs": [
    {
     "data": {
      "text/plain": [
       "array(['128th USCT', '47th Pa', 'AMNESTY OATH', 'Amnesty', 'Amnesty Oath',\n",
       "       'Amnesty Proclamation', 'Constitution', 'Emancipation of Slaves',\n",
       "       'Emancipation of SlavesSO', 'Emancipation of SlavesSo',\n",
       "       'MARSHALS OFFICE', 'NYVV', 'Oath',\n",
       "       'Thomas Andrew Oath of Loyalty Recd Bureau',\n",
       "       'Thos Gibbs Henderson Co', 'U S C', 'UNITED STATES FORCES', 'US',\n",
       "       'US Cold Inf', 'US Cold Infty', 'USCI', 'USCT', 'Union', 'Vols',\n",
       "       'WA Fleitas Amnesty Oath', 'Walhalla', 'Woodville Wilkinson Co'],\n",
       "      dtype='<U41')"
      ]
     },
     "execution_count": 71,
     "metadata": {},
     "output_type": "execute_result"
    }
   ],
   "source": [
    "np.unique(OR2)"
   ]
  },
  {
   "cell_type": "markdown",
   "id": "6c5ba2f9",
   "metadata": {
    "papermill": {
     "duration": 0.028595,
     "end_time": "2022-06-08T07:54:36.308328",
     "exception": false,
     "start_time": "2022-06-08T07:54:36.279733",
     "status": "completed"
    },
    "tags": []
   },
   "source": [
    "****"
   ]
  },
  {
   "cell_type": "code",
   "execution_count": 72,
   "id": "3df4ea7c",
   "metadata": {
    "execution": {
     "iopub.execute_input": "2022-06-08T07:54:36.368183Z",
     "iopub.status.busy": "2022-06-08T07:54:36.367501Z",
     "iopub.status.idle": "2022-06-08T07:54:36.373053Z",
     "shell.execute_reply": "2022-06-08T07:54:36.372149Z"
    },
    "papermill": {
     "duration": 0.037676,
     "end_time": "2022-06-08T07:54:36.374916",
     "exception": false,
     "start_time": "2022-06-08T07:54:36.337240",
     "status": "completed"
    },
    "tags": []
   },
   "outputs": [
    {
     "data": {
      "text/plain": [
       "array(['South Ca'], dtype='<U8')"
      ]
     },
     "execution_count": 72,
     "metadata": {},
     "output_type": "execute_result"
    }
   ],
   "source": [
    "np.unique(LOC)"
   ]
  },
  {
   "cell_type": "code",
   "execution_count": 73,
   "id": "1b2783ba",
   "metadata": {
    "execution": {
     "iopub.execute_input": "2022-06-08T07:54:36.436172Z",
     "iopub.status.busy": "2022-06-08T07:54:36.435755Z",
     "iopub.status.idle": "2022-06-08T07:54:36.441757Z",
     "shell.execute_reply": "2022-06-08T07:54:36.440865Z"
    },
    "papermill": {
     "duration": 0.03806,
     "end_time": "2022-06-08T07:54:36.443600",
     "exception": false,
     "start_time": "2022-06-08T07:54:36.405540",
     "status": "completed"
    },
    "tags": []
   },
   "outputs": [
    {
     "data": {
      "text/plain": [
       "array(['AMERICA', 'So Carolina', 'South Carolina', 'US', 'United States'],\n",
       "      dtype='<U14')"
      ]
     },
     "execution_count": 73,
     "metadata": {},
     "output_type": "execute_result"
    }
   ],
   "source": [
    "np.unique(LOC1)"
   ]
  },
  {
   "cell_type": "code",
   "execution_count": 74,
   "id": "0b77fb35",
   "metadata": {
    "execution": {
     "iopub.execute_input": "2022-06-08T07:54:36.504281Z",
     "iopub.status.busy": "2022-06-08T07:54:36.503668Z",
     "iopub.status.idle": "2022-06-08T07:54:36.509534Z",
     "shell.execute_reply": "2022-06-08T07:54:36.508695Z"
    },
    "papermill": {
     "duration": 0.038012,
     "end_time": "2022-06-08T07:54:36.511282",
     "exception": false,
     "start_time": "2022-06-08T07:54:36.473270",
     "status": "completed"
    },
    "tags": []
   },
   "outputs": [
    {
     "data": {
      "text/plain": [
       "array(['Aiken', 'Aiken Burnwell', 'Charleston', 'Charleston Sate',\n",
       "       'Charleston Sc', 'City', 'City of Charleston',\n",
       "       'City of New Orleans', 'County', 'County of Charleston',\n",
       "       'County of Orangeburg', 'District of Beaufort', 'Gainsville',\n",
       "       'Harrison Co', 'Marshal City of Charleston', 'Miss', 'Miss City',\n",
       "       'Mississippi City', 'NC', 'Oacen Springs', 'Orangeburg SC',\n",
       "       'Pass Christian Mississippi', 'Port of Miss', 'SC', 'South Ca',\n",
       "       'State of So Carolina', 'State of South Carolina',\n",
       "       'UNITED STATES OF AMERICA', 'United State of America',\n",
       "       'United States', 'United States Union of State',\n",
       "       'United States Union of States', 'United States of America',\n",
       "       'Walhalla State of South Carolina', 'Warren Co',\n",
       "       'Wilkinson County State of Mississippi'], dtype='<U37')"
      ]
     },
     "execution_count": 74,
     "metadata": {},
     "output_type": "execute_result"
    }
   ],
   "source": [
    "np.unique(LOC2)"
   ]
  },
  {
   "cell_type": "markdown",
   "id": "a0f8e83f",
   "metadata": {
    "papermill": {
     "duration": 0.029213,
     "end_time": "2022-06-08T07:54:36.569735",
     "exception": false,
     "start_time": "2022-06-08T07:54:36.540522",
     "status": "completed"
    },
    "tags": []
   },
   "source": [
    "****"
   ]
  },
  {
   "cell_type": "code",
   "execution_count": 75,
   "id": "061124d9",
   "metadata": {
    "execution": {
     "iopub.execute_input": "2022-06-08T07:54:36.630408Z",
     "iopub.status.busy": "2022-06-08T07:54:36.629661Z",
     "iopub.status.idle": "2022-06-08T07:54:36.635058Z",
     "shell.execute_reply": "2022-06-08T07:54:36.634421Z"
    },
    "papermill": {
     "duration": 0.037578,
     "end_time": "2022-06-08T07:54:36.636697",
     "exception": false,
     "start_time": "2022-06-08T07:54:36.599119",
     "status": "completed"
    },
    "tags": []
   },
   "outputs": [
    {
     "data": {
      "text/plain": [
       "array(['16 day of October 1865', '16th day of Sept 1865',\n",
       "       '18th Sept 1865', '20th day of August 1865',\n",
       "       '22nd day of August 1865', '24 year', '26 Years',\n",
       "       '27th day of Novb 1865', '27th day of Novbr 1865',\n",
       "       '28 day of Sept 1865', '29th day of Sept 29 1865',\n",
       "       '29th day of September 1865', '3 day of Augt 1865',\n",
       "       '3 day of August 1865', '31 day of Aug 1865', '31 day of Oct 1865',\n",
       "       '31st day of Aug 1865', '31st day of August AD 1865', '39 year',\n",
       "       '3d day of February 1868', '48 year', '58 year', '58 year of age',\n",
       "       '6 day of Nov 1865', '61 year', '63 year',\n",
       "       '7th day of September 186', 'Aug 20 1865', 'Aug 20th 1865',\n",
       "       'Aug 31 1865', 'August 24 1865', 'August 29th 1865', 'July 22',\n",
       "       'Maj 47', 'Maj 47th', 'Maj 47th PM', 'May 29th 1865', 'May 4',\n",
       "       'May 47 PM', 'Sept 29 1865', 'Sept 29th 1865', 'Thirty nine',\n",
       "       'twenty eight year'], dtype='<U26')"
      ]
     },
     "execution_count": 75,
     "metadata": {},
     "output_type": "execute_result"
    }
   ],
   "source": [
    "np.unique(Date)"
   ]
  },
  {
   "cell_type": "code",
   "execution_count": 76,
   "id": "1b31a748",
   "metadata": {
    "execution": {
     "iopub.execute_input": "2022-06-08T07:54:36.697496Z",
     "iopub.status.busy": "2022-06-08T07:54:36.696878Z",
     "iopub.status.idle": "2022-06-08T07:54:36.701903Z",
     "shell.execute_reply": "2022-06-08T07:54:36.701136Z"
    },
    "papermill": {
     "duration": 0.037405,
     "end_time": "2022-06-08T07:54:36.703690",
     "exception": false,
     "start_time": "2022-06-08T07:54:36.666285",
     "status": "completed"
    },
    "tags": []
   },
   "outputs": [
    {
     "data": {
      "text/plain": [
       "array(['Charleston', 'Charleston S C', 'Charleston SC',\n",
       "       'Mississippi City', 'Orangeburg', 'So Carolina', 'South Carolina',\n",
       "       'UNITED STATES OF', 'US', 'United State of America',\n",
       "       'United States', 'United States of America'], dtype='<U24')"
      ]
     },
     "execution_count": 76,
     "metadata": {},
     "output_type": "execute_result"
    }
   ],
   "source": [
    "np.unique(GP)"
   ]
  },
  {
   "cell_type": "markdown",
   "id": "73b497c6",
   "metadata": {
    "papermill": {
     "duration": 0.029301,
     "end_time": "2022-06-08T07:54:36.762509",
     "exception": false,
     "start_time": "2022-06-08T07:54:36.733208",
     "status": "completed"
    },
    "tags": []
   },
   "source": [
    "# Post processing"
   ]
  },
  {
   "cell_type": "markdown",
   "id": "0d1c64e9",
   "metadata": {
    "papermill": {
     "duration": 0.029318,
     "end_time": "2022-06-08T07:54:36.821229",
     "exception": false,
     "start_time": "2022-06-08T07:54:36.791911",
     "status": "completed"
    },
    "tags": []
   },
   "source": [
    "**For dates**"
   ]
  },
  {
   "cell_type": "code",
   "execution_count": 77,
   "id": "64e89ac0",
   "metadata": {
    "execution": {
     "iopub.execute_input": "2022-06-08T07:54:36.882600Z",
     "iopub.status.busy": "2022-06-08T07:54:36.881945Z",
     "iopub.status.idle": "2022-06-08T07:54:36.886633Z",
     "shell.execute_reply": "2022-06-08T07:54:36.886029Z"
    },
    "papermill": {
     "duration": 0.037386,
     "end_time": "2022-06-08T07:54:36.888187",
     "exception": false,
     "start_time": "2022-06-08T07:54:36.850801",
     "status": "completed"
    },
    "tags": []
   },
   "outputs": [],
   "source": [
    "import regex as re\n",
    "Pattern1=re.compile(r'^\\d\\.*.*\\d\\d$')\n",
    "Pattern2=re.compile(r'^[A-Z]\\.*.*\\d \\.*.*\\d\\d$')"
   ]
  },
  {
   "cell_type": "code",
   "execution_count": 78,
   "id": "25c915d7",
   "metadata": {
    "execution": {
     "iopub.execute_input": "2022-06-08T07:54:36.950044Z",
     "iopub.status.busy": "2022-06-08T07:54:36.949435Z",
     "iopub.status.idle": "2022-06-08T07:54:36.953908Z",
     "shell.execute_reply": "2022-06-08T07:54:36.953346Z"
    },
    "papermill": {
     "duration": 0.037869,
     "end_time": "2022-06-08T07:54:36.955635",
     "exception": false,
     "start_time": "2022-06-08T07:54:36.917766",
     "status": "completed"
    },
    "tags": []
   },
   "outputs": [],
   "source": [
    "M=[]\n",
    "for i in Date:\n",
    "        date=re.search(r'^\\d\\.*.*\\d\\d$' ,i)\n",
    "        date2=re.search(r'^[A-Z]\\.*.*\\d \\.*.*\\d\\d$' ,i)\n",
    "        M.append(date)\n",
    "        M.append(date2)\n",
    "       "
   ]
  },
  {
   "cell_type": "code",
   "execution_count": 79,
   "id": "6ee83b01",
   "metadata": {
    "execution": {
     "iopub.execute_input": "2022-06-08T07:54:37.096809Z",
     "iopub.status.busy": "2022-06-08T07:54:37.096200Z",
     "iopub.status.idle": "2022-06-08T07:54:37.100963Z",
     "shell.execute_reply": "2022-06-08T07:54:37.100287Z"
    },
    "papermill": {
     "duration": 0.11755,
     "end_time": "2022-06-08T07:54:37.102684",
     "exception": false,
     "start_time": "2022-06-08T07:54:36.985134",
     "status": "completed"
    },
    "tags": []
   },
   "outputs": [],
   "source": [
    "Final_date=[]\n",
    "for i in M:\n",
    "    if i!=None:\n",
    "        Final_date.append(i.group())"
   ]
  },
  {
   "cell_type": "code",
   "execution_count": 80,
   "id": "ad5e038a",
   "metadata": {
    "execution": {
     "iopub.execute_input": "2022-06-08T07:54:37.164283Z",
     "iopub.status.busy": "2022-06-08T07:54:37.163655Z",
     "iopub.status.idle": "2022-06-08T07:54:37.171330Z",
     "shell.execute_reply": "2022-06-08T07:54:37.170660Z"
    },
    "papermill": {
     "duration": 0.040534,
     "end_time": "2022-06-08T07:54:37.173261",
     "exception": false,
     "start_time": "2022-06-08T07:54:37.132727",
     "status": "completed"
    },
    "tags": []
   },
   "outputs": [],
   "source": [
    "N=[]\n",
    "for i in Final_date:\n",
    "        Final_date1=re.sub(r'([0-9]{1,2})\\.*.*\\s([A-Z]\\.*.*)\\s([0-9]{3,4})',r'\\1-\\2-\\3' ,i)\n",
    "        Final_date2=re.sub(r'([A-Z]\\.*.*)\\s([0-9]{1,2})\\.*.*\\s([0-9]{3,4})',r'\\2-\\1-\\3' ,i)\n",
    "        if Final_date1 != i:   \n",
    "            N.append(Final_date1)\n",
    "        if Final_date2 != i :\n",
    "            N.append(Final_date2)"
   ]
  },
  {
   "cell_type": "code",
   "execution_count": 81,
   "id": "5c595996",
   "metadata": {
    "execution": {
     "iopub.execute_input": "2022-06-08T07:54:37.234768Z",
     "iopub.status.busy": "2022-06-08T07:54:37.234375Z",
     "iopub.status.idle": "2022-06-08T07:54:37.240121Z",
     "shell.execute_reply": "2022-06-08T07:54:37.239330Z"
    },
    "papermill": {
     "duration": 0.037788,
     "end_time": "2022-06-08T07:54:37.241701",
     "exception": false,
     "start_time": "2022-06-08T07:54:37.203913",
     "status": "completed"
    },
    "tags": []
   },
   "outputs": [
    {
     "data": {
      "text/plain": [
       "['27-Novb-1865',\n",
       " '27-Novbr-1865',\n",
       " '28-Sept-1865',\n",
       " '31-Oct-1865',\n",
       " '31-AD-1865',\n",
       " '24-August-1865',\n",
       " '3-August-1865',\n",
       " '3-Augt-1865',\n",
       " '16-Sept-1865',\n",
       " '16-October-1865',\n",
       " '6-Nov-1865',\n",
       " '29-Sept-1865',\n",
       " '29-September-1865',\n",
       " '29-Sept 29-1865',\n",
       " '29th day of 29-Sept-1865',\n",
       " '3-February-1868',\n",
       " '7-September-186',\n",
       " '20-Aug-1865',\n",
       " '20-August-1865',\n",
       " '22-August-1865',\n",
       " '18-Sept-1865',\n",
       " '31-Aug-1865',\n",
       " '31-Aug-1865',\n",
       " '31-Aug-1865']"
      ]
     },
     "execution_count": 81,
     "metadata": {},
     "output_type": "execute_result"
    }
   ],
   "source": [
    "N"
   ]
  },
  {
   "cell_type": "markdown",
   "id": "6bae071a",
   "metadata": {
    "papermill": {
     "duration": 0.029434,
     "end_time": "2022-06-08T07:54:37.300791",
     "exception": false,
     "start_time": "2022-06-08T07:54:37.271357",
     "status": "completed"
    },
    "tags": []
   },
   "source": [
    "**great !**"
   ]
  },
  {
   "cell_type": "markdown",
   "id": "ebd82ec6",
   "metadata": {
    "papermill": {
     "duration": 0.029733,
     "end_time": "2022-06-08T07:54:37.360359",
     "exception": false,
     "start_time": "2022-06-08T07:54:37.330626",
     "status": "completed"
    },
    "tags": []
   },
   "source": [
    "# best result obtained "
   ]
  },
  {
   "cell_type": "markdown",
   "id": "106d33a9",
   "metadata": {
    "papermill": {
     "duration": 0.029168,
     "end_time": "2022-06-08T07:54:37.419060",
     "exception": false,
     "start_time": "2022-06-08T07:54:37.389892",
     "status": "completed"
    },
    "tags": []
   },
   "source": [
    "***Person***"
   ]
  },
  {
   "cell_type": "code",
   "execution_count": 82,
   "id": "f7dc8f71",
   "metadata": {
    "execution": {
     "iopub.execute_input": "2022-06-08T07:54:37.480060Z",
     "iopub.status.busy": "2022-06-08T07:54:37.479480Z",
     "iopub.status.idle": "2022-06-08T07:54:37.484549Z",
     "shell.execute_reply": "2022-06-08T07:54:37.483984Z"
    },
    "papermill": {
     "duration": 0.037637,
     "end_time": "2022-06-08T07:54:37.486248",
     "exception": false,
     "start_time": "2022-06-08T07:54:37.448611",
     "status": "completed"
    },
    "tags": []
   },
   "outputs": [
    {
     "data": {
      "text/plain": [
       "array(['ANDREW JOHNSON', 'Almighty', 'Almighty God', 'Andrew Johnson',\n",
       "       'Anne H Elliott', 'Caroline Belitzer', 'E C Whaley', 'EB Towne',\n",
       "       'Frank Conner', 'Frank E Miller', 'Frank Geise', 'GOD',\n",
       "       'Geo D Carpenter', 'God', 'H Elliott', 'H F Holwell',\n",
       "       'Hiram Smith', 'Hu Kennedy', 'I E C Whaley', 'I J F Steinmeyer',\n",
       "       'J E Thuring', 'J H Mathews', 'JB Hiserodt', 'JF Steinmeyer',\n",
       "       'JH Mathews', 'JW Baxter', 'Jacob Schroder', 'James D Kendall',\n",
       "       'James E Thuring', 'Joseph Edings', 'Joseph Edings Sworn',\n",
       "       'Levi Steuben', 'Levi Stuber', 'Mrs E Montgomery', 'P H Joor',\n",
       "       'P P Bergevin', 'R A Bray', 'Robert A Wilson', 'S Wilde Durson',\n",
       "       'S Wilde Durson Magt', 'S Wilde Durson Magtr', 'Sgd Montgomery',\n",
       "       'William Whaley', 'Wm Whaley', 'caroline Belitzer'], dtype='<U20')"
      ]
     },
     "execution_count": 82,
     "metadata": {},
     "output_type": "execute_result"
    }
   ],
   "source": [
    "np.unique(P2)"
   ]
  },
  {
   "cell_type": "markdown",
   "id": "1b49ee94",
   "metadata": {
    "papermill": {
     "duration": 0.029977,
     "end_time": "2022-06-08T07:54:37.546885",
     "exception": false,
     "start_time": "2022-06-08T07:54:37.516908",
     "status": "completed"
    },
    "tags": []
   },
   "source": [
    "****"
   ]
  },
  {
   "cell_type": "markdown",
   "id": "8b4e95a4",
   "metadata": {
    "papermill": {
     "duration": 0.029766,
     "end_time": "2022-06-08T07:54:37.607046",
     "exception": false,
     "start_time": "2022-06-08T07:54:37.577280",
     "status": "completed"
    },
    "tags": []
   },
   "source": [
    "***Organization***"
   ]
  },
  {
   "cell_type": "code",
   "execution_count": 83,
   "id": "74d2ad72",
   "metadata": {
    "execution": {
     "iopub.execute_input": "2022-06-08T07:54:37.669301Z",
     "iopub.status.busy": "2022-06-08T07:54:37.668548Z",
     "iopub.status.idle": "2022-06-08T07:54:37.674430Z",
     "shell.execute_reply": "2022-06-08T07:54:37.673795Z"
    },
    "papermill": {
     "duration": 0.039118,
     "end_time": "2022-06-08T07:54:37.676159",
     "exception": false,
     "start_time": "2022-06-08T07:54:37.637041",
     "status": "completed"
    },
    "tags": []
   },
   "outputs": [
    {
     "data": {
      "text/plain": [
       "array(['128th USCT', '47th Pa', 'AMNESTY OATH', 'Amnesty', 'Amnesty Oath',\n",
       "       'Amnesty Proclamation', 'Constitution', 'Emancipation of Slaves',\n",
       "       'Emancipation of SlavesSO', 'Emancipation of SlavesSo',\n",
       "       'MARSHALS OFFICE', 'NYVV', 'Oath',\n",
       "       'Thomas Andrew Oath of Loyalty Recd Bureau',\n",
       "       'Thos Gibbs Henderson Co', 'U S C', 'UNITED STATES FORCES', 'US',\n",
       "       'US Cold Inf', 'US Cold Infty', 'USCI', 'USCT', 'Union', 'Vols',\n",
       "       'WA Fleitas Amnesty Oath', 'Walhalla', 'Woodville Wilkinson Co'],\n",
       "      dtype='<U41')"
      ]
     },
     "execution_count": 83,
     "metadata": {},
     "output_type": "execute_result"
    }
   ],
   "source": [
    "np.unique(OR2)\n"
   ]
  },
  {
   "cell_type": "markdown",
   "id": "31afcdb7",
   "metadata": {
    "papermill": {
     "duration": 0.030027,
     "end_time": "2022-06-08T07:54:37.737189",
     "exception": false,
     "start_time": "2022-06-08T07:54:37.707162",
     "status": "completed"
    },
    "tags": []
   },
   "source": [
    "****"
   ]
  },
  {
   "cell_type": "markdown",
   "id": "aaed7b87",
   "metadata": {
    "papermill": {
     "duration": 0.030051,
     "end_time": "2022-06-08T07:54:37.797622",
     "exception": false,
     "start_time": "2022-06-08T07:54:37.767571",
     "status": "completed"
    },
    "tags": []
   },
   "source": [
    "***GPE and location***"
   ]
  },
  {
   "cell_type": "code",
   "execution_count": 84,
   "id": "38d0c614",
   "metadata": {
    "execution": {
     "iopub.execute_input": "2022-06-08T07:54:37.861892Z",
     "iopub.status.busy": "2022-06-08T07:54:37.861467Z",
     "iopub.status.idle": "2022-06-08T07:54:37.867813Z",
     "shell.execute_reply": "2022-06-08T07:54:37.867203Z"
    },
    "papermill": {
     "duration": 0.040098,
     "end_time": "2022-06-08T07:54:37.869475",
     "exception": false,
     "start_time": "2022-06-08T07:54:37.829377",
     "status": "completed"
    },
    "tags": []
   },
   "outputs": [
    {
     "data": {
      "text/plain": [
       "array(['Charleston', 'Gainsville', 'Mississippi', 'Mississippi City',\n",
       "       'NC', 'New Orleans', 'South Carolina', 'States', 'US',\n",
       "       'United States', 'United States of America', 'Vicksburg'],\n",
       "      dtype='<U24')"
      ]
     },
     "execution_count": 84,
     "metadata": {},
     "output_type": "execute_result"
    }
   ],
   "source": [
    "np.unique(GPE)"
   ]
  },
  {
   "cell_type": "code",
   "execution_count": 85,
   "id": "d38f9742",
   "metadata": {
    "execution": {
     "iopub.execute_input": "2022-06-08T07:54:37.932301Z",
     "iopub.status.busy": "2022-06-08T07:54:37.931638Z",
     "iopub.status.idle": "2022-06-08T07:54:37.937299Z",
     "shell.execute_reply": "2022-06-08T07:54:37.936478Z"
    },
    "papermill": {
     "duration": 0.038932,
     "end_time": "2022-06-08T07:54:37.938998",
     "exception": false,
     "start_time": "2022-06-08T07:54:37.900066",
     "status": "completed"
    },
    "tags": []
   },
   "outputs": [
    {
     "data": {
      "text/plain": [
       "array(['Aiken', 'Aiken Burnwell', 'Charleston', 'Charleston Sate',\n",
       "       'Charleston Sc', 'City', 'City of Charleston',\n",
       "       'City of New Orleans', 'County', 'County of Charleston',\n",
       "       'County of Orangeburg', 'District of Beaufort', 'Gainsville',\n",
       "       'Harrison Co', 'Marshal City of Charleston', 'Miss', 'Miss City',\n",
       "       'Mississippi City', 'NC', 'Oacen Springs', 'Orangeburg SC',\n",
       "       'Pass Christian Mississippi', 'Port of Miss', 'SC', 'South Ca',\n",
       "       'State of So Carolina', 'State of South Carolina',\n",
       "       'UNITED STATES OF AMERICA', 'United State of America',\n",
       "       'United States', 'United States Union of State',\n",
       "       'United States Union of States', 'United States of America',\n",
       "       'Walhalla State of South Carolina', 'Warren Co',\n",
       "       'Wilkinson County State of Mississippi'], dtype='<U37')"
      ]
     },
     "execution_count": 85,
     "metadata": {},
     "output_type": "execute_result"
    }
   ],
   "source": [
    "np.unique(LOC2)"
   ]
  },
  {
   "cell_type": "markdown",
   "id": "dde81e3d",
   "metadata": {
    "papermill": {
     "duration": 0.030919,
     "end_time": "2022-06-08T07:54:38.001682",
     "exception": false,
     "start_time": "2022-06-08T07:54:37.970763",
     "status": "completed"
    },
    "tags": []
   },
   "source": [
    "****"
   ]
  },
  {
   "cell_type": "markdown",
   "id": "5573dec9",
   "metadata": {
    "papermill": {
     "duration": 0.029802,
     "end_time": "2022-06-08T07:54:38.061934",
     "exception": false,
     "start_time": "2022-06-08T07:54:38.032132",
     "status": "completed"
    },
    "tags": []
   },
   "source": [
    "**Date**"
   ]
  },
  {
   "cell_type": "code",
   "execution_count": 86,
   "id": "7235b731",
   "metadata": {
    "execution": {
     "iopub.execute_input": "2022-06-08T07:54:38.125818Z",
     "iopub.status.busy": "2022-06-08T07:54:38.125201Z",
     "iopub.status.idle": "2022-06-08T07:54:38.130259Z",
     "shell.execute_reply": "2022-06-08T07:54:38.129598Z"
    },
    "papermill": {
     "duration": 0.0399,
     "end_time": "2022-06-08T07:54:38.132024",
     "exception": false,
     "start_time": "2022-06-08T07:54:38.092124",
     "status": "completed"
    },
    "tags": []
   },
   "outputs": [
    {
     "data": {
      "text/plain": [
       "['27-Novb-1865',\n",
       " '27-Novbr-1865',\n",
       " '28-Sept-1865',\n",
       " '31-Oct-1865',\n",
       " '31-AD-1865',\n",
       " '24-August-1865',\n",
       " '3-August-1865',\n",
       " '3-Augt-1865',\n",
       " '16-Sept-1865',\n",
       " '16-October-1865',\n",
       " '6-Nov-1865',\n",
       " '29-Sept-1865',\n",
       " '29-September-1865',\n",
       " '29-Sept 29-1865',\n",
       " '29th day of 29-Sept-1865',\n",
       " '3-February-1868',\n",
       " '7-September-186',\n",
       " '20-Aug-1865',\n",
       " '20-August-1865',\n",
       " '22-August-1865',\n",
       " '18-Sept-1865',\n",
       " '31-Aug-1865',\n",
       " '31-Aug-1865',\n",
       " '31-Aug-1865']"
      ]
     },
     "execution_count": 86,
     "metadata": {},
     "output_type": "execute_result"
    }
   ],
   "source": [
    "N"
   ]
  },
  {
   "cell_type": "markdown",
   "id": "c27c1b2e",
   "metadata": {
    "papermill": {
     "duration": 0.030932,
     "end_time": "2022-06-08T07:54:38.194311",
     "exception": false,
     "start_time": "2022-06-08T07:54:38.163379",
     "status": "completed"
    },
    "tags": []
   },
   "source": [
    "****"
   ]
  },
  {
   "cell_type": "code",
   "execution_count": null,
   "id": "30f5b38f",
   "metadata": {
    "papermill": {
     "duration": 0.030705,
     "end_time": "2022-06-08T07:54:38.255424",
     "exception": false,
     "start_time": "2022-06-08T07:54:38.224719",
     "status": "completed"
    },
    "tags": []
   },
   "outputs": [],
   "source": []
  },
  {
   "cell_type": "code",
   "execution_count": null,
   "id": "c497bfbd",
   "metadata": {
    "papermill": {
     "duration": 0.03019,
     "end_time": "2022-06-08T07:54:38.317070",
     "exception": false,
     "start_time": "2022-06-08T07:54:38.286880",
     "status": "completed"
    },
    "tags": []
   },
   "outputs": [],
   "source": []
  },
  {
   "cell_type": "code",
   "execution_count": null,
   "id": "3253daa3",
   "metadata": {
    "papermill": {
     "duration": 0.030304,
     "end_time": "2022-06-08T07:54:38.378080",
     "exception": false,
     "start_time": "2022-06-08T07:54:38.347776",
     "status": "completed"
    },
    "tags": []
   },
   "outputs": [],
   "source": []
  },
  {
   "cell_type": "code",
   "execution_count": null,
   "id": "f2063363",
   "metadata": {
    "papermill": {
     "duration": 0.030394,
     "end_time": "2022-06-08T07:54:38.439069",
     "exception": false,
     "start_time": "2022-06-08T07:54:38.408675",
     "status": "completed"
    },
    "tags": []
   },
   "outputs": [],
   "source": []
  },
  {
   "cell_type": "code",
   "execution_count": null,
   "id": "9a540d35",
   "metadata": {
    "papermill": {
     "duration": 0.030284,
     "end_time": "2022-06-08T07:54:38.499724",
     "exception": false,
     "start_time": "2022-06-08T07:54:38.469440",
     "status": "completed"
    },
    "tags": []
   },
   "outputs": [],
   "source": []
  }
 ],
 "metadata": {
  "kernelspec": {
   "display_name": "Python 3",
   "language": "python",
   "name": "python3"
  },
  "language_info": {
   "codemirror_mode": {
    "name": "ipython",
    "version": 3
   },
   "file_extension": ".py",
   "mimetype": "text/x-python",
   "name": "python",
   "nbconvert_exporter": "python",
   "pygments_lexer": "ipython3",
   "version": "3.7.12"
  },
  "papermill": {
   "default_parameters": {},
   "duration": 396.633519,
   "end_time": "2022-06-08T07:54:42.113244",
   "environment_variables": {},
   "exception": null,
   "input_path": "__notebook__.ipynb",
   "output_path": "__notebook__.ipynb",
   "parameters": {},
   "start_time": "2022-06-08T07:48:05.479725",
   "version": "2.3.4"
  },
  "widgets": {
   "application/vnd.jupyter.widget-state+json": {
    "state": {
     "029c5eef638640d294026d77bf96bef3": {
      "model_module": "@jupyter-widgets/base",
      "model_module_version": "1.2.0",
      "model_name": "LayoutModel",
      "state": {
       "_model_module": "@jupyter-widgets/base",
       "_model_module_version": "1.2.0",
       "_model_name": "LayoutModel",
       "_view_count": null,
       "_view_module": "@jupyter-widgets/base",
       "_view_module_version": "1.2.0",
       "_view_name": "LayoutView",
       "align_content": null,
       "align_items": null,
       "align_self": null,
       "border": null,
       "bottom": null,
       "display": null,
       "flex": null,
       "flex_flow": null,
       "grid_area": null,
       "grid_auto_columns": null,
       "grid_auto_flow": null,
       "grid_auto_rows": null,
       "grid_column": null,
       "grid_gap": null,
       "grid_row": null,
       "grid_template_areas": null,
       "grid_template_columns": null,
       "grid_template_rows": null,
       "height": null,
       "justify_content": null,
       "justify_items": null,
       "left": null,
       "margin": null,
       "max_height": null,
       "max_width": null,
       "min_height": null,
       "min_width": null,
       "object_fit": null,
       "object_position": null,
       "order": null,
       "overflow": null,
       "overflow_x": null,
       "overflow_y": null,
       "padding": null,
       "right": null,
       "top": null,
       "visibility": null,
       "width": null
      }
     },
     "06b5fb705bba4e8fa0a6b5cca25dee17": {
      "model_module": "@jupyter-widgets/controls",
      "model_module_version": "1.5.0",
      "model_name": "FloatProgressModel",
      "state": {
       "_dom_classes": [],
       "_model_module": "@jupyter-widgets/controls",
       "_model_module_version": "1.5.0",
       "_model_name": "FloatProgressModel",
       "_view_count": null,
       "_view_module": "@jupyter-widgets/controls",
       "_view_module_version": "1.5.0",
       "_view_name": "ProgressView",
       "bar_style": "success",
       "description": "",
       "description_tooltip": null,
       "layout": "IPY_MODEL_f87b2d2fddaa4c61b955b9d76da3173a",
       "max": 2240097289.0,
       "min": 0.0,
       "orientation": "horizontal",
       "style": "IPY_MODEL_d41e904bc3454f3a95c9acf7c4f0e54e",
       "value": 2240097289.0
      }
     },
     "0aed810e62e74620850749427440a8e2": {
      "model_module": "@jupyter-widgets/controls",
      "model_module_version": "1.5.0",
      "model_name": "DescriptionStyleModel",
      "state": {
       "_model_module": "@jupyter-widgets/controls",
       "_model_module_version": "1.5.0",
       "_model_name": "DescriptionStyleModel",
       "_view_count": null,
       "_view_module": "@jupyter-widgets/base",
       "_view_module_version": "1.2.0",
       "_view_name": "StyleView",
       "description_width": ""
      }
     },
     "0c54d497c37445ddaf9f25da19f4b147": {
      "model_module": "@jupyter-widgets/base",
      "model_module_version": "1.2.0",
      "model_name": "LayoutModel",
      "state": {
       "_model_module": "@jupyter-widgets/base",
       "_model_module_version": "1.2.0",
       "_model_name": "LayoutModel",
       "_view_count": null,
       "_view_module": "@jupyter-widgets/base",
       "_view_module_version": "1.2.0",
       "_view_name": "LayoutView",
       "align_content": null,
       "align_items": null,
       "align_self": null,
       "border": null,
       "bottom": null,
       "display": null,
       "flex": null,
       "flex_flow": null,
       "grid_area": null,
       "grid_auto_columns": null,
       "grid_auto_flow": null,
       "grid_auto_rows": null,
       "grid_column": null,
       "grid_gap": null,
       "grid_row": null,
       "grid_template_areas": null,
       "grid_template_columns": null,
       "grid_template_rows": null,
       "height": null,
       "justify_content": null,
       "justify_items": null,
       "left": null,
       "margin": null,
       "max_height": null,
       "max_width": null,
       "min_height": null,
       "min_width": null,
       "object_fit": null,
       "object_position": null,
       "order": null,
       "overflow": null,
       "overflow_x": null,
       "overflow_y": null,
       "padding": null,
       "right": null,
       "top": null,
       "visibility": null,
       "width": null
      }
     },
     "0f173889dfc74a04802aff23ab9e409c": {
      "model_module": "@jupyter-widgets/controls",
      "model_module_version": "1.5.0",
      "model_name": "HBoxModel",
      "state": {
       "_dom_classes": [],
       "_model_module": "@jupyter-widgets/controls",
       "_model_module_version": "1.5.0",
       "_model_name": "HBoxModel",
       "_view_count": null,
       "_view_module": "@jupyter-widgets/controls",
       "_view_module_version": "1.5.0",
       "_view_name": "HBoxView",
       "box_style": "",
       "children": [
        "IPY_MODEL_a9a262a9b05f4e70b825d90d4b4917d3",
        "IPY_MODEL_270089bd45e84ddd9aba649c446db354",
        "IPY_MODEL_bf36a9a1df54483ba03b58433abadb50"
       ],
       "layout": "IPY_MODEL_52084a3e82274991a0690e1c819373b2"
      }
     },
     "101857b6e396439e9628d78ab11cb4fe": {
      "model_module": "@jupyter-widgets/controls",
      "model_module_version": "1.5.0",
      "model_name": "DescriptionStyleModel",
      "state": {
       "_model_module": "@jupyter-widgets/controls",
       "_model_module_version": "1.5.0",
       "_model_name": "DescriptionStyleModel",
       "_view_count": null,
       "_view_module": "@jupyter-widgets/base",
       "_view_module_version": "1.2.0",
       "_view_name": "StyleView",
       "description_width": ""
      }
     },
     "10c495cd0def4e3e88d759e7c7b52224": {
      "model_module": "@jupyter-widgets/base",
      "model_module_version": "1.2.0",
      "model_name": "LayoutModel",
      "state": {
       "_model_module": "@jupyter-widgets/base",
       "_model_module_version": "1.2.0",
       "_model_name": "LayoutModel",
       "_view_count": null,
       "_view_module": "@jupyter-widgets/base",
       "_view_module_version": "1.2.0",
       "_view_name": "LayoutView",
       "align_content": null,
       "align_items": null,
       "align_self": null,
       "border": null,
       "bottom": null,
       "display": null,
       "flex": null,
       "flex_flow": null,
       "grid_area": null,
       "grid_auto_columns": null,
       "grid_auto_flow": null,
       "grid_auto_rows": null,
       "grid_column": null,
       "grid_gap": null,
       "grid_row": null,
       "grid_template_areas": null,
       "grid_template_columns": null,
       "grid_template_rows": null,
       "height": null,
       "justify_content": null,
       "justify_items": null,
       "left": null,
       "margin": null,
       "max_height": null,
       "max_width": null,
       "min_height": null,
       "min_width": null,
       "object_fit": null,
       "object_position": null,
       "order": null,
       "overflow": null,
       "overflow_x": null,
       "overflow_y": null,
       "padding": null,
       "right": null,
       "top": null,
       "visibility": null,
       "width": null
      }
     },
     "11a5851b9ab44fc6b698e4bcea5ecccb": {
      "model_module": "@jupyter-widgets/controls",
      "model_module_version": "1.5.0",
      "model_name": "HBoxModel",
      "state": {
       "_dom_classes": [],
       "_model_module": "@jupyter-widgets/controls",
       "_model_module_version": "1.5.0",
       "_model_name": "HBoxModel",
       "_view_count": null,
       "_view_module": "@jupyter-widgets/controls",
       "_view_module_version": "1.5.0",
       "_view_name": "HBoxView",
       "box_style": "",
       "children": [
        "IPY_MODEL_608fbc801b7845d9b592cd34a7fd6cbe",
        "IPY_MODEL_9aeac4068cb54d55a5dbbe986b7da8ff",
        "IPY_MODEL_4b6fc56f3aca4202800ea36d3d153db2"
       ],
       "layout": "IPY_MODEL_be7fdb9a753b43b189bd1ea2e30c840e"
      }
     },
     "14909686a6b54578a69139976ca680d9": {
      "model_module": "@jupyter-widgets/controls",
      "model_module_version": "1.5.0",
      "model_name": "HTMLModel",
      "state": {
       "_dom_classes": [],
       "_model_module": "@jupyter-widgets/controls",
       "_model_module_version": "1.5.0",
       "_model_name": "HTMLModel",
       "_view_count": null,
       "_view_module": "@jupyter-widgets/controls",
       "_view_module_version": "1.5.0",
       "_view_name": "HTMLView",
       "description": "",
       "description_tooltip": null,
       "layout": "IPY_MODEL_a438dc2c70c8408b916b3f3dfbcd7c00",
       "placeholder": "​",
       "style": "IPY_MODEL_84635e4dbdc04765b439c49259ae796a",
       "value": " 4.83M/4.83M [00:00&lt;00:00, 28.1MB/s]"
      }
     },
     "1ab145add32343938bd3349135988929": {
      "model_module": "@jupyter-widgets/base",
      "model_module_version": "1.2.0",
      "model_name": "LayoutModel",
      "state": {
       "_model_module": "@jupyter-widgets/base",
       "_model_module_version": "1.2.0",
       "_model_name": "LayoutModel",
       "_view_count": null,
       "_view_module": "@jupyter-widgets/base",
       "_view_module_version": "1.2.0",
       "_view_name": "LayoutView",
       "align_content": null,
       "align_items": null,
       "align_self": null,
       "border": null,
       "bottom": null,
       "display": null,
       "flex": null,
       "flex_flow": null,
       "grid_area": null,
       "grid_auto_columns": null,
       "grid_auto_flow": null,
       "grid_auto_rows": null,
       "grid_column": null,
       "grid_gap": null,
       "grid_row": null,
       "grid_template_areas": null,
       "grid_template_columns": null,
       "grid_template_rows": null,
       "height": null,
       "justify_content": null,
       "justify_items": null,
       "left": null,
       "margin": null,
       "max_height": null,
       "max_width": null,
       "min_height": null,
       "min_width": null,
       "object_fit": null,
       "object_position": null,
       "order": null,
       "overflow": null,
       "overflow_x": null,
       "overflow_y": null,
       "padding": null,
       "right": null,
       "top": null,
       "visibility": null,
       "width": null
      }
     },
     "2100d8d7f68d475ca63c205de78449c6": {
      "model_module": "@jupyter-widgets/controls",
      "model_module_version": "1.5.0",
      "model_name": "DescriptionStyleModel",
      "state": {
       "_model_module": "@jupyter-widgets/controls",
       "_model_module_version": "1.5.0",
       "_model_name": "DescriptionStyleModel",
       "_view_count": null,
       "_view_module": "@jupyter-widgets/base",
       "_view_module_version": "1.2.0",
       "_view_name": "StyleView",
       "description_width": ""
      }
     },
     "2236d9a017754fb4846c77e62e5c6e5d": {
      "model_module": "@jupyter-widgets/base",
      "model_module_version": "1.2.0",
      "model_name": "LayoutModel",
      "state": {
       "_model_module": "@jupyter-widgets/base",
       "_model_module_version": "1.2.0",
       "_model_name": "LayoutModel",
       "_view_count": null,
       "_view_module": "@jupyter-widgets/base",
       "_view_module_version": "1.2.0",
       "_view_name": "LayoutView",
       "align_content": null,
       "align_items": null,
       "align_self": null,
       "border": null,
       "bottom": null,
       "display": null,
       "flex": null,
       "flex_flow": null,
       "grid_area": null,
       "grid_auto_columns": null,
       "grid_auto_flow": null,
       "grid_auto_rows": null,
       "grid_column": null,
       "grid_gap": null,
       "grid_row": null,
       "grid_template_areas": null,
       "grid_template_columns": null,
       "grid_template_rows": null,
       "height": null,
       "justify_content": null,
       "justify_items": null,
       "left": null,
       "margin": null,
       "max_height": null,
       "max_width": null,
       "min_height": null,
       "min_width": null,
       "object_fit": null,
       "object_position": null,
       "order": null,
       "overflow": null,
       "overflow_x": null,
       "overflow_y": null,
       "padding": null,
       "right": null,
       "top": null,
       "visibility": null,
       "width": null
      }
     },
     "270089bd45e84ddd9aba649c446db354": {
      "model_module": "@jupyter-widgets/controls",
      "model_module_version": "1.5.0",
      "model_name": "FloatProgressModel",
      "state": {
       "_dom_classes": [],
       "_model_module": "@jupyter-widgets/controls",
       "_model_module_version": "1.5.0",
       "_model_name": "FloatProgressModel",
       "_view_count": null,
       "_view_module": "@jupyter-widgets/controls",
       "_view_module_version": "1.5.0",
       "_view_name": "ProgressView",
       "bar_style": "success",
       "description": "",
       "description_tooltip": null,
       "layout": "IPY_MODEL_1ab145add32343938bd3349135988929",
       "max": 432176557.0,
       "min": 0.0,
       "orientation": "horizontal",
       "style": "IPY_MODEL_5d830316b0b445d9b0185becbd091c7a",
       "value": 432176557.0
      }
     },
     "33d51071df9443a9998f6779cc6aa425": {
      "model_module": "@jupyter-widgets/controls",
      "model_module_version": "1.5.0",
      "model_name": "ProgressStyleModel",
      "state": {
       "_model_module": "@jupyter-widgets/controls",
       "_model_module_version": "1.5.0",
       "_model_name": "ProgressStyleModel",
       "_view_count": null,
       "_view_module": "@jupyter-widgets/base",
       "_view_module_version": "1.2.0",
       "_view_name": "StyleView",
       "bar_color": null,
       "description_width": ""
      }
     },
     "40aba5354fe34fe4888d507900eaf207": {
      "model_module": "@jupyter-widgets/controls",
      "model_module_version": "1.5.0",
      "model_name": "HBoxModel",
      "state": {
       "_dom_classes": [],
       "_model_module": "@jupyter-widgets/controls",
       "_model_module_version": "1.5.0",
       "_model_name": "HBoxModel",
       "_view_count": null,
       "_view_module": "@jupyter-widgets/controls",
       "_view_module_version": "1.5.0",
       "_view_name": "HBoxView",
       "box_style": "",
       "children": [
        "IPY_MODEL_cf52d38875dc464a85ae622f2bdf577c",
        "IPY_MODEL_06b5fb705bba4e8fa0a6b5cca25dee17",
        "IPY_MODEL_53a10f6b1c5441e09a4a3fb3b509dd64"
       ],
       "layout": "IPY_MODEL_b97cd3567a294873ac14abf6a80f5055"
      }
     },
     "4b6fc56f3aca4202800ea36d3d153db2": {
      "model_module": "@jupyter-widgets/controls",
      "model_module_version": "1.5.0",
      "model_name": "HTMLModel",
      "state": {
       "_dom_classes": [],
       "_model_module": "@jupyter-widgets/controls",
       "_model_module_version": "1.5.0",
       "_model_name": "HTMLModel",
       "_view_count": null,
       "_view_module": "@jupyter-widgets/controls",
       "_view_module_version": "1.5.0",
       "_view_name": "HTMLView",
       "description": "",
       "description_tooltip": null,
       "layout": "IPY_MODEL_df882a55f04247ef88954a395c0c4ef8",
       "placeholder": "​",
       "style": "IPY_MODEL_7933794017144fea885ab5868fbf7091",
       "value": " 2.24G/2.24G [01:11&lt;00:00, 32.8MB/s]"
      }
     },
     "52084a3e82274991a0690e1c819373b2": {
      "model_module": "@jupyter-widgets/base",
      "model_module_version": "1.2.0",
      "model_name": "LayoutModel",
      "state": {
       "_model_module": "@jupyter-widgets/base",
       "_model_module_version": "1.2.0",
       "_model_name": "LayoutModel",
       "_view_count": null,
       "_view_module": "@jupyter-widgets/base",
       "_view_module_version": "1.2.0",
       "_view_name": "LayoutView",
       "align_content": null,
       "align_items": null,
       "align_self": null,
       "border": null,
       "bottom": null,
       "display": null,
       "flex": null,
       "flex_flow": null,
       "grid_area": null,
       "grid_auto_columns": null,
       "grid_auto_flow": null,
       "grid_auto_rows": null,
       "grid_column": null,
       "grid_gap": null,
       "grid_row": null,
       "grid_template_areas": null,
       "grid_template_columns": null,
       "grid_template_rows": null,
       "height": null,
       "justify_content": null,
       "justify_items": null,
       "left": null,
       "margin": null,
       "max_height": null,
       "max_width": null,
       "min_height": null,
       "min_width": null,
       "object_fit": null,
       "object_position": null,
       "order": null,
       "overflow": null,
       "overflow_x": null,
       "overflow_y": null,
       "padding": null,
       "right": null,
       "top": null,
       "visibility": null,
       "width": null
      }
     },
     "52ae2da2d0a4403ea961a278b458c8aa": {
      "model_module": "@jupyter-widgets/base",
      "model_module_version": "1.2.0",
      "model_name": "LayoutModel",
      "state": {
       "_model_module": "@jupyter-widgets/base",
       "_model_module_version": "1.2.0",
       "_model_name": "LayoutModel",
       "_view_count": null,
       "_view_module": "@jupyter-widgets/base",
       "_view_module_version": "1.2.0",
       "_view_name": "LayoutView",
       "align_content": null,
       "align_items": null,
       "align_self": null,
       "border": null,
       "bottom": null,
       "display": null,
       "flex": null,
       "flex_flow": null,
       "grid_area": null,
       "grid_auto_columns": null,
       "grid_auto_flow": null,
       "grid_auto_rows": null,
       "grid_column": null,
       "grid_gap": null,
       "grid_row": null,
       "grid_template_areas": null,
       "grid_template_columns": null,
       "grid_template_rows": null,
       "height": null,
       "justify_content": null,
       "justify_items": null,
       "left": null,
       "margin": null,
       "max_height": null,
       "max_width": null,
       "min_height": null,
       "min_width": null,
       "object_fit": null,
       "object_position": null,
       "order": null,
       "overflow": null,
       "overflow_x": null,
       "overflow_y": null,
       "padding": null,
       "right": null,
       "top": null,
       "visibility": null,
       "width": null
      }
     },
     "53a10f6b1c5441e09a4a3fb3b509dd64": {
      "model_module": "@jupyter-widgets/controls",
      "model_module_version": "1.5.0",
      "model_name": "HTMLModel",
      "state": {
       "_dom_classes": [],
       "_model_module": "@jupyter-widgets/controls",
       "_model_module_version": "1.5.0",
       "_model_name": "HTMLModel",
       "_view_count": null,
       "_view_module": "@jupyter-widgets/controls",
       "_view_module_version": "1.5.0",
       "_view_name": "HTMLView",
       "description": "",
       "description_tooltip": null,
       "layout": "IPY_MODEL_10c495cd0def4e3e88d759e7c7b52224",
       "placeholder": "​",
       "style": "IPY_MODEL_68e8933122d54d698381766ff977055d",
       "value": " 2.24G/2.24G [01:11&lt;00:00, 33.0MB/s]"
      }
     },
     "594ff989e83048e6b3342042cf1dcb46": {
      "model_module": "@jupyter-widgets/controls",
      "model_module_version": "1.5.0",
      "model_name": "DescriptionStyleModel",
      "state": {
       "_model_module": "@jupyter-widgets/controls",
       "_model_module_version": "1.5.0",
       "_model_name": "DescriptionStyleModel",
       "_view_count": null,
       "_view_module": "@jupyter-widgets/base",
       "_view_module_version": "1.2.0",
       "_view_name": "StyleView",
       "description_width": ""
      }
     },
     "5d830316b0b445d9b0185becbd091c7a": {
      "model_module": "@jupyter-widgets/controls",
      "model_module_version": "1.5.0",
      "model_name": "ProgressStyleModel",
      "state": {
       "_model_module": "@jupyter-widgets/controls",
       "_model_module_version": "1.5.0",
       "_model_name": "ProgressStyleModel",
       "_view_count": null,
       "_view_module": "@jupyter-widgets/base",
       "_view_module_version": "1.2.0",
       "_view_name": "StyleView",
       "bar_color": null,
       "description_width": ""
      }
     },
     "608fbc801b7845d9b592cd34a7fd6cbe": {
      "model_module": "@jupyter-widgets/controls",
      "model_module_version": "1.5.0",
      "model_name": "HTMLModel",
      "state": {
       "_dom_classes": [],
       "_model_module": "@jupyter-widgets/controls",
       "_model_module_version": "1.5.0",
       "_model_name": "HTMLModel",
       "_view_count": null,
       "_view_module": "@jupyter-widgets/controls",
       "_view_module_version": "1.5.0",
       "_view_name": "HTMLView",
       "description": "",
       "description_tooltip": null,
       "layout": "IPY_MODEL_2236d9a017754fb4846c77e62e5c6e5d",
       "placeholder": "​",
       "style": "IPY_MODEL_adfe1d32696c49978779c8cfc2e5074f",
       "value": "Downloading: 100%"
      }
     },
     "6644c89841bf4a5eb9b865d35c538c07": {
      "model_module": "@jupyter-widgets/base",
      "model_module_version": "1.2.0",
      "model_name": "LayoutModel",
      "state": {
       "_model_module": "@jupyter-widgets/base",
       "_model_module_version": "1.2.0",
       "_model_name": "LayoutModel",
       "_view_count": null,
       "_view_module": "@jupyter-widgets/base",
       "_view_module_version": "1.2.0",
       "_view_name": "LayoutView",
       "align_content": null,
       "align_items": null,
       "align_self": null,
       "border": null,
       "bottom": null,
       "display": null,
       "flex": null,
       "flex_flow": null,
       "grid_area": null,
       "grid_auto_columns": null,
       "grid_auto_flow": null,
       "grid_auto_rows": null,
       "grid_column": null,
       "grid_gap": null,
       "grid_row": null,
       "grid_template_areas": null,
       "grid_template_columns": null,
       "grid_template_rows": null,
       "height": null,
       "justify_content": null,
       "justify_items": null,
       "left": null,
       "margin": null,
       "max_height": null,
       "max_width": null,
       "min_height": null,
       "min_width": null,
       "object_fit": null,
       "object_position": null,
       "order": null,
       "overflow": null,
       "overflow_x": null,
       "overflow_y": null,
       "padding": null,
       "right": null,
       "top": null,
       "visibility": null,
       "width": null
      }
     },
     "68e8933122d54d698381766ff977055d": {
      "model_module": "@jupyter-widgets/controls",
      "model_module_version": "1.5.0",
      "model_name": "DescriptionStyleModel",
      "state": {
       "_model_module": "@jupyter-widgets/controls",
       "_model_module_version": "1.5.0",
       "_model_name": "DescriptionStyleModel",
       "_view_count": null,
       "_view_module": "@jupyter-widgets/base",
       "_view_module_version": "1.2.0",
       "_view_name": "StyleView",
       "description_width": ""
      }
     },
     "6f6e688955e54536b0dc1e082877ea25": {
      "model_module": "@jupyter-widgets/base",
      "model_module_version": "1.2.0",
      "model_name": "LayoutModel",
      "state": {
       "_model_module": "@jupyter-widgets/base",
       "_model_module_version": "1.2.0",
       "_model_name": "LayoutModel",
       "_view_count": null,
       "_view_module": "@jupyter-widgets/base",
       "_view_module_version": "1.2.0",
       "_view_name": "LayoutView",
       "align_content": null,
       "align_items": null,
       "align_self": null,
       "border": null,
       "bottom": null,
       "display": null,
       "flex": null,
       "flex_flow": null,
       "grid_area": null,
       "grid_auto_columns": null,
       "grid_auto_flow": null,
       "grid_auto_rows": null,
       "grid_column": null,
       "grid_gap": null,
       "grid_row": null,
       "grid_template_areas": null,
       "grid_template_columns": null,
       "grid_template_rows": null,
       "height": null,
       "justify_content": null,
       "justify_items": null,
       "left": null,
       "margin": null,
       "max_height": null,
       "max_width": null,
       "min_height": null,
       "min_width": null,
       "object_fit": null,
       "object_position": null,
       "order": null,
       "overflow": null,
       "overflow_x": null,
       "overflow_y": null,
       "padding": null,
       "right": null,
       "top": null,
       "visibility": null,
       "width": null
      }
     },
     "7099d5323a064e8696e46eafdfcb2b17": {
      "model_module": "@jupyter-widgets/controls",
      "model_module_version": "1.5.0",
      "model_name": "HBoxModel",
      "state": {
       "_dom_classes": [],
       "_model_module": "@jupyter-widgets/controls",
       "_model_module_version": "1.5.0",
       "_model_name": "HBoxModel",
       "_view_count": null,
       "_view_module": "@jupyter-widgets/controls",
       "_view_module_version": "1.5.0",
       "_view_name": "HBoxView",
       "box_style": "",
       "children": [
        "IPY_MODEL_a5719c4512784b49b8b141a338cfdaf1",
        "IPY_MODEL_d3669951932e406aaf0f62c008b80677",
        "IPY_MODEL_d0510adb10ae4607aece36bbaf23a173"
       ],
       "layout": "IPY_MODEL_52ae2da2d0a4403ea961a278b458c8aa"
      }
     },
     "7933794017144fea885ab5868fbf7091": {
      "model_module": "@jupyter-widgets/controls",
      "model_module_version": "1.5.0",
      "model_name": "DescriptionStyleModel",
      "state": {
       "_model_module": "@jupyter-widgets/controls",
       "_model_module_version": "1.5.0",
       "_model_name": "DescriptionStyleModel",
       "_view_count": null,
       "_view_module": "@jupyter-widgets/base",
       "_view_module_version": "1.2.0",
       "_view_name": "StyleView",
       "description_width": ""
      }
     },
     "7d587bfc64824362984d53f6cccae717": {
      "model_module": "@jupyter-widgets/base",
      "model_module_version": "1.2.0",
      "model_name": "LayoutModel",
      "state": {
       "_model_module": "@jupyter-widgets/base",
       "_model_module_version": "1.2.0",
       "_model_name": "LayoutModel",
       "_view_count": null,
       "_view_module": "@jupyter-widgets/base",
       "_view_module_version": "1.2.0",
       "_view_name": "LayoutView",
       "align_content": null,
       "align_items": null,
       "align_self": null,
       "border": null,
       "bottom": null,
       "display": null,
       "flex": null,
       "flex_flow": null,
       "grid_area": null,
       "grid_auto_columns": null,
       "grid_auto_flow": null,
       "grid_auto_rows": null,
       "grid_column": null,
       "grid_gap": null,
       "grid_row": null,
       "grid_template_areas": null,
       "grid_template_columns": null,
       "grid_template_rows": null,
       "height": null,
       "justify_content": null,
       "justify_items": null,
       "left": null,
       "margin": null,
       "max_height": null,
       "max_width": null,
       "min_height": null,
       "min_width": null,
       "object_fit": null,
       "object_position": null,
       "order": null,
       "overflow": null,
       "overflow_x": null,
       "overflow_y": null,
       "padding": null,
       "right": null,
       "top": null,
       "visibility": null,
       "width": null
      }
     },
     "844426ca61c447b7809cc1aa56409a5e": {
      "model_module": "@jupyter-widgets/controls",
      "model_module_version": "1.5.0",
      "model_name": "ProgressStyleModel",
      "state": {
       "_model_module": "@jupyter-widgets/controls",
       "_model_module_version": "1.5.0",
       "_model_name": "ProgressStyleModel",
       "_view_count": null,
       "_view_module": "@jupyter-widgets/base",
       "_view_module_version": "1.2.0",
       "_view_name": "StyleView",
       "bar_color": null,
       "description_width": ""
      }
     },
     "84635e4dbdc04765b439c49259ae796a": {
      "model_module": "@jupyter-widgets/controls",
      "model_module_version": "1.5.0",
      "model_name": "DescriptionStyleModel",
      "state": {
       "_model_module": "@jupyter-widgets/controls",
       "_model_module_version": "1.5.0",
       "_model_name": "DescriptionStyleModel",
       "_view_count": null,
       "_view_module": "@jupyter-widgets/base",
       "_view_module_version": "1.2.0",
       "_view_name": "StyleView",
       "description_width": ""
      }
     },
     "846f67d3625144ff9ad029542085e95c": {
      "model_module": "@jupyter-widgets/base",
      "model_module_version": "1.2.0",
      "model_name": "LayoutModel",
      "state": {
       "_model_module": "@jupyter-widgets/base",
       "_model_module_version": "1.2.0",
       "_model_name": "LayoutModel",
       "_view_count": null,
       "_view_module": "@jupyter-widgets/base",
       "_view_module_version": "1.2.0",
       "_view_name": "LayoutView",
       "align_content": null,
       "align_items": null,
       "align_self": null,
       "border": null,
       "bottom": null,
       "display": null,
       "flex": null,
       "flex_flow": null,
       "grid_area": null,
       "grid_auto_columns": null,
       "grid_auto_flow": null,
       "grid_auto_rows": null,
       "grid_column": null,
       "grid_gap": null,
       "grid_row": null,
       "grid_template_areas": null,
       "grid_template_columns": null,
       "grid_template_rows": null,
       "height": null,
       "justify_content": null,
       "justify_items": null,
       "left": null,
       "margin": null,
       "max_height": null,
       "max_width": null,
       "min_height": null,
       "min_width": null,
       "object_fit": null,
       "object_position": null,
       "order": null,
       "overflow": null,
       "overflow_x": null,
       "overflow_y": null,
       "padding": null,
       "right": null,
       "top": null,
       "visibility": null,
       "width": null
      }
     },
     "855181fe13be4909a1198335c1bd3594": {
      "model_module": "@jupyter-widgets/base",
      "model_module_version": "1.2.0",
      "model_name": "LayoutModel",
      "state": {
       "_model_module": "@jupyter-widgets/base",
       "_model_module_version": "1.2.0",
       "_model_name": "LayoutModel",
       "_view_count": null,
       "_view_module": "@jupyter-widgets/base",
       "_view_module_version": "1.2.0",
       "_view_name": "LayoutView",
       "align_content": null,
       "align_items": null,
       "align_self": null,
       "border": null,
       "bottom": null,
       "display": null,
       "flex": null,
       "flex_flow": null,
       "grid_area": null,
       "grid_auto_columns": null,
       "grid_auto_flow": null,
       "grid_auto_rows": null,
       "grid_column": null,
       "grid_gap": null,
       "grid_row": null,
       "grid_template_areas": null,
       "grid_template_columns": null,
       "grid_template_rows": null,
       "height": null,
       "justify_content": null,
       "justify_items": null,
       "left": null,
       "margin": null,
       "max_height": null,
       "max_width": null,
       "min_height": null,
       "min_width": null,
       "object_fit": null,
       "object_position": null,
       "order": null,
       "overflow": null,
       "overflow_x": null,
       "overflow_y": null,
       "padding": null,
       "right": null,
       "top": null,
       "visibility": null,
       "width": null
      }
     },
     "87150b941c924872aec8ccdec0398307": {
      "model_module": "@jupyter-widgets/controls",
      "model_module_version": "1.5.0",
      "model_name": "DescriptionStyleModel",
      "state": {
       "_model_module": "@jupyter-widgets/controls",
       "_model_module_version": "1.5.0",
       "_model_name": "DescriptionStyleModel",
       "_view_count": null,
       "_view_module": "@jupyter-widgets/base",
       "_view_module_version": "1.2.0",
       "_view_name": "StyleView",
       "description_width": ""
      }
     },
     "8e50718b372040efa4461156ddb0347e": {
      "model_module": "@jupyter-widgets/controls",
      "model_module_version": "1.5.0",
      "model_name": "DescriptionStyleModel",
      "state": {
       "_model_module": "@jupyter-widgets/controls",
       "_model_module_version": "1.5.0",
       "_model_name": "DescriptionStyleModel",
       "_view_count": null,
       "_view_module": "@jupyter-widgets/base",
       "_view_module_version": "1.2.0",
       "_view_name": "StyleView",
       "description_width": ""
      }
     },
     "91a83a69115e4a989bfbd5f60a2840a1": {
      "model_module": "@jupyter-widgets/base",
      "model_module_version": "1.2.0",
      "model_name": "LayoutModel",
      "state": {
       "_model_module": "@jupyter-widgets/base",
       "_model_module_version": "1.2.0",
       "_model_name": "LayoutModel",
       "_view_count": null,
       "_view_module": "@jupyter-widgets/base",
       "_view_module_version": "1.2.0",
       "_view_name": "LayoutView",
       "align_content": null,
       "align_items": null,
       "align_self": null,
       "border": null,
       "bottom": null,
       "display": null,
       "flex": null,
       "flex_flow": null,
       "grid_area": null,
       "grid_auto_columns": null,
       "grid_auto_flow": null,
       "grid_auto_rows": null,
       "grid_column": null,
       "grid_gap": null,
       "grid_row": null,
       "grid_template_areas": null,
       "grid_template_columns": null,
       "grid_template_rows": null,
       "height": null,
       "justify_content": null,
       "justify_items": null,
       "left": null,
       "margin": null,
       "max_height": null,
       "max_width": null,
       "min_height": null,
       "min_width": null,
       "object_fit": null,
       "object_position": null,
       "order": null,
       "overflow": null,
       "overflow_x": null,
       "overflow_y": null,
       "padding": null,
       "right": null,
       "top": null,
       "visibility": null,
       "width": null
      }
     },
     "9422ac614e0f42f3a1a90cfe9918e506": {
      "model_module": "@jupyter-widgets/controls",
      "model_module_version": "1.5.0",
      "model_name": "ProgressStyleModel",
      "state": {
       "_model_module": "@jupyter-widgets/controls",
       "_model_module_version": "1.5.0",
       "_model_name": "ProgressStyleModel",
       "_view_count": null,
       "_view_module": "@jupyter-widgets/base",
       "_view_module_version": "1.2.0",
       "_view_name": "StyleView",
       "bar_color": null,
       "description_width": ""
      }
     },
     "942df8a01dd246429e61ca137e0bcd92": {
      "model_module": "@jupyter-widgets/controls",
      "model_module_version": "1.5.0",
      "model_name": "HBoxModel",
      "state": {
       "_dom_classes": [],
       "_model_module": "@jupyter-widgets/controls",
       "_model_module_version": "1.5.0",
       "_model_name": "HBoxModel",
       "_view_count": null,
       "_view_module": "@jupyter-widgets/controls",
       "_view_module_version": "1.5.0",
       "_view_name": "HBoxView",
       "box_style": "",
       "children": [
        "IPY_MODEL_b7ccda3c9a824d4188a42257cbcf8bdb",
        "IPY_MODEL_c162245b997f4756a8ff4a43200e0598",
        "IPY_MODEL_a702368190e0414e85f2ac8578494241"
       ],
       "layout": "IPY_MODEL_029c5eef638640d294026d77bf96bef3"
      }
     },
     "9aeac4068cb54d55a5dbbe986b7da8ff": {
      "model_module": "@jupyter-widgets/controls",
      "model_module_version": "1.5.0",
      "model_name": "FloatProgressModel",
      "state": {
       "_dom_classes": [],
       "_model_module": "@jupyter-widgets/controls",
       "_model_module_version": "1.5.0",
       "_model_name": "FloatProgressModel",
       "_view_count": null,
       "_view_module": "@jupyter-widgets/controls",
       "_view_module_version": "1.5.0",
       "_view_name": "ProgressView",
       "bar_style": "success",
       "description": "",
       "description_tooltip": null,
       "layout": "IPY_MODEL_6f6e688955e54536b0dc1e082877ea25",
       "max": 2239866761.0,
       "min": 0.0,
       "orientation": "horizontal",
       "style": "IPY_MODEL_b12d41e733264a30beff7aa1eeaed18f",
       "value": 2239866761.0
      }
     },
     "9da03165267e4938b2986453e171f293": {
      "model_module": "@jupyter-widgets/controls",
      "model_module_version": "1.5.0",
      "model_name": "HBoxModel",
      "state": {
       "_dom_classes": [],
       "_model_module": "@jupyter-widgets/controls",
       "_model_module_version": "1.5.0",
       "_model_name": "HBoxModel",
       "_view_count": null,
       "_view_module": "@jupyter-widgets/controls",
       "_view_module_version": "1.5.0",
       "_view_name": "HBoxView",
       "box_style": "",
       "children": [
        "IPY_MODEL_afe5b3a8ee954d568dcbb31388ce26c9",
        "IPY_MODEL_c1bfc9221aa944dba4b5d25f793bc4da",
        "IPY_MODEL_14909686a6b54578a69139976ca680d9"
       ],
       "layout": "IPY_MODEL_b97497ccd6ff442c9f2fb36f57851884"
      }
     },
     "9ff98a61c06d49b3b2ae418069175436": {
      "model_module": "@jupyter-widgets/base",
      "model_module_version": "1.2.0",
      "model_name": "LayoutModel",
      "state": {
       "_model_module": "@jupyter-widgets/base",
       "_model_module_version": "1.2.0",
       "_model_name": "LayoutModel",
       "_view_count": null,
       "_view_module": "@jupyter-widgets/base",
       "_view_module_version": "1.2.0",
       "_view_name": "LayoutView",
       "align_content": null,
       "align_items": null,
       "align_self": null,
       "border": null,
       "bottom": null,
       "display": null,
       "flex": null,
       "flex_flow": null,
       "grid_area": null,
       "grid_auto_columns": null,
       "grid_auto_flow": null,
       "grid_auto_rows": null,
       "grid_column": null,
       "grid_gap": null,
       "grid_row": null,
       "grid_template_areas": null,
       "grid_template_columns": null,
       "grid_template_rows": null,
       "height": null,
       "justify_content": null,
       "justify_items": null,
       "left": null,
       "margin": null,
       "max_height": null,
       "max_width": null,
       "min_height": null,
       "min_width": null,
       "object_fit": null,
       "object_position": null,
       "order": null,
       "overflow": null,
       "overflow_x": null,
       "overflow_y": null,
       "padding": null,
       "right": null,
       "top": null,
       "visibility": null,
       "width": null
      }
     },
     "a438dc2c70c8408b916b3f3dfbcd7c00": {
      "model_module": "@jupyter-widgets/base",
      "model_module_version": "1.2.0",
      "model_name": "LayoutModel",
      "state": {
       "_model_module": "@jupyter-widgets/base",
       "_model_module_version": "1.2.0",
       "_model_name": "LayoutModel",
       "_view_count": null,
       "_view_module": "@jupyter-widgets/base",
       "_view_module_version": "1.2.0",
       "_view_name": "LayoutView",
       "align_content": null,
       "align_items": null,
       "align_self": null,
       "border": null,
       "bottom": null,
       "display": null,
       "flex": null,
       "flex_flow": null,
       "grid_area": null,
       "grid_auto_columns": null,
       "grid_auto_flow": null,
       "grid_auto_rows": null,
       "grid_column": null,
       "grid_gap": null,
       "grid_row": null,
       "grid_template_areas": null,
       "grid_template_columns": null,
       "grid_template_rows": null,
       "height": null,
       "justify_content": null,
       "justify_items": null,
       "left": null,
       "margin": null,
       "max_height": null,
       "max_width": null,
       "min_height": null,
       "min_width": null,
       "object_fit": null,
       "object_position": null,
       "order": null,
       "overflow": null,
       "overflow_x": null,
       "overflow_y": null,
       "padding": null,
       "right": null,
       "top": null,
       "visibility": null,
       "width": null
      }
     },
     "a5719c4512784b49b8b141a338cfdaf1": {
      "model_module": "@jupyter-widgets/controls",
      "model_module_version": "1.5.0",
      "model_name": "HTMLModel",
      "state": {
       "_dom_classes": [],
       "_model_module": "@jupyter-widgets/controls",
       "_model_module_version": "1.5.0",
       "_model_name": "HTMLModel",
       "_view_count": null,
       "_view_module": "@jupyter-widgets/controls",
       "_view_module_version": "1.5.0",
       "_view_name": "HTMLView",
       "description": "",
       "description_tooltip": null,
       "layout": "IPY_MODEL_d417a115d8c747daa267de7034ae65b6",
       "placeholder": "​",
       "style": "IPY_MODEL_8e50718b372040efa4461156ddb0347e",
       "value": "Downloading: 100%"
      }
     },
     "a6a8ea2bf24f442b8072c6f63ce3c07a": {
      "model_module": "@jupyter-widgets/controls",
      "model_module_version": "1.5.0",
      "model_name": "DescriptionStyleModel",
      "state": {
       "_model_module": "@jupyter-widgets/controls",
       "_model_module_version": "1.5.0",
       "_model_name": "DescriptionStyleModel",
       "_view_count": null,
       "_view_module": "@jupyter-widgets/base",
       "_view_module_version": "1.2.0",
       "_view_name": "StyleView",
       "description_width": ""
      }
     },
     "a702368190e0414e85f2ac8578494241": {
      "model_module": "@jupyter-widgets/controls",
      "model_module_version": "1.5.0",
      "model_name": "HTMLModel",
      "state": {
       "_dom_classes": [],
       "_model_module": "@jupyter-widgets/controls",
       "_model_module_version": "1.5.0",
       "_model_name": "HTMLModel",
       "_view_count": null,
       "_view_module": "@jupyter-widgets/controls",
       "_view_module_version": "1.5.0",
       "_view_name": "HTMLView",
       "description": "",
       "description_tooltip": null,
       "layout": "IPY_MODEL_9ff98a61c06d49b3b2ae418069175436",
       "placeholder": "​",
       "style": "IPY_MODEL_2100d8d7f68d475ca63c205de78449c6",
       "value": " 616/616 [00:00&lt;00:00, 22.9kB/s]"
      }
     },
     "a9a262a9b05f4e70b825d90d4b4917d3": {
      "model_module": "@jupyter-widgets/controls",
      "model_module_version": "1.5.0",
      "model_name": "HTMLModel",
      "state": {
       "_dom_classes": [],
       "_model_module": "@jupyter-widgets/controls",
       "_model_module_version": "1.5.0",
       "_model_name": "HTMLModel",
       "_view_count": null,
       "_view_module": "@jupyter-widgets/controls",
       "_view_module_version": "1.5.0",
       "_view_name": "HTMLView",
       "description": "",
       "description_tooltip": null,
       "layout": "IPY_MODEL_0c54d497c37445ddaf9f25da19f4b147",
       "placeholder": "​",
       "style": "IPY_MODEL_594ff989e83048e6b3342042cf1dcb46",
       "value": "Downloading: 100%"
      }
     },
     "adfe1d32696c49978779c8cfc2e5074f": {
      "model_module": "@jupyter-widgets/controls",
      "model_module_version": "1.5.0",
      "model_name": "DescriptionStyleModel",
      "state": {
       "_model_module": "@jupyter-widgets/controls",
       "_model_module_version": "1.5.0",
       "_model_name": "DescriptionStyleModel",
       "_view_count": null,
       "_view_module": "@jupyter-widgets/base",
       "_view_module_version": "1.2.0",
       "_view_name": "StyleView",
       "description_width": ""
      }
     },
     "afe5b3a8ee954d568dcbb31388ce26c9": {
      "model_module": "@jupyter-widgets/controls",
      "model_module_version": "1.5.0",
      "model_name": "HTMLModel",
      "state": {
       "_dom_classes": [],
       "_model_module": "@jupyter-widgets/controls",
       "_model_module_version": "1.5.0",
       "_model_name": "HTMLModel",
       "_view_count": null,
       "_view_module": "@jupyter-widgets/controls",
       "_view_module_version": "1.5.0",
       "_view_name": "HTMLView",
       "description": "",
       "description_tooltip": null,
       "layout": "IPY_MODEL_91a83a69115e4a989bfbd5f60a2840a1",
       "placeholder": "​",
       "style": "IPY_MODEL_87150b941c924872aec8ccdec0398307",
       "value": "Downloading: 100%"
      }
     },
     "b12d41e733264a30beff7aa1eeaed18f": {
      "model_module": "@jupyter-widgets/controls",
      "model_module_version": "1.5.0",
      "model_name": "ProgressStyleModel",
      "state": {
       "_model_module": "@jupyter-widgets/controls",
       "_model_module_version": "1.5.0",
       "_model_name": "ProgressStyleModel",
       "_view_count": null,
       "_view_module": "@jupyter-widgets/base",
       "_view_module_version": "1.2.0",
       "_view_name": "StyleView",
       "bar_color": null,
       "description_width": ""
      }
     },
     "b7ccda3c9a824d4188a42257cbcf8bdb": {
      "model_module": "@jupyter-widgets/controls",
      "model_module_version": "1.5.0",
      "model_name": "HTMLModel",
      "state": {
       "_dom_classes": [],
       "_model_module": "@jupyter-widgets/controls",
       "_model_module_version": "1.5.0",
       "_model_name": "HTMLModel",
       "_view_count": null,
       "_view_module": "@jupyter-widgets/controls",
       "_view_module_version": "1.5.0",
       "_view_name": "HTMLView",
       "description": "",
       "description_tooltip": null,
       "layout": "IPY_MODEL_e3525ae6eecc4fc795c19b834356a60f",
       "placeholder": "​",
       "style": "IPY_MODEL_101857b6e396439e9628d78ab11cb4fe",
       "value": "Downloading: 100%"
      }
     },
     "b9189a8427c34c24a4cd203445fab0a9": {
      "model_module": "@jupyter-widgets/base",
      "model_module_version": "1.2.0",
      "model_name": "LayoutModel",
      "state": {
       "_model_module": "@jupyter-widgets/base",
       "_model_module_version": "1.2.0",
       "_model_name": "LayoutModel",
       "_view_count": null,
       "_view_module": "@jupyter-widgets/base",
       "_view_module_version": "1.2.0",
       "_view_name": "LayoutView",
       "align_content": null,
       "align_items": null,
       "align_self": null,
       "border": null,
       "bottom": null,
       "display": null,
       "flex": null,
       "flex_flow": null,
       "grid_area": null,
       "grid_auto_columns": null,
       "grid_auto_flow": null,
       "grid_auto_rows": null,
       "grid_column": null,
       "grid_gap": null,
       "grid_row": null,
       "grid_template_areas": null,
       "grid_template_columns": null,
       "grid_template_rows": null,
       "height": null,
       "justify_content": null,
       "justify_items": null,
       "left": null,
       "margin": null,
       "max_height": null,
       "max_width": null,
       "min_height": null,
       "min_width": null,
       "object_fit": null,
       "object_position": null,
       "order": null,
       "overflow": null,
       "overflow_x": null,
       "overflow_y": null,
       "padding": null,
       "right": null,
       "top": null,
       "visibility": null,
       "width": null
      }
     },
     "b97497ccd6ff442c9f2fb36f57851884": {
      "model_module": "@jupyter-widgets/base",
      "model_module_version": "1.2.0",
      "model_name": "LayoutModel",
      "state": {
       "_model_module": "@jupyter-widgets/base",
       "_model_module_version": "1.2.0",
       "_model_name": "LayoutModel",
       "_view_count": null,
       "_view_module": "@jupyter-widgets/base",
       "_view_module_version": "1.2.0",
       "_view_name": "LayoutView",
       "align_content": null,
       "align_items": null,
       "align_self": null,
       "border": null,
       "bottom": null,
       "display": null,
       "flex": null,
       "flex_flow": null,
       "grid_area": null,
       "grid_auto_columns": null,
       "grid_auto_flow": null,
       "grid_auto_rows": null,
       "grid_column": null,
       "grid_gap": null,
       "grid_row": null,
       "grid_template_areas": null,
       "grid_template_columns": null,
       "grid_template_rows": null,
       "height": null,
       "justify_content": null,
       "justify_items": null,
       "left": null,
       "margin": null,
       "max_height": null,
       "max_width": null,
       "min_height": null,
       "min_width": null,
       "object_fit": null,
       "object_position": null,
       "order": null,
       "overflow": null,
       "overflow_x": null,
       "overflow_y": null,
       "padding": null,
       "right": null,
       "top": null,
       "visibility": null,
       "width": null
      }
     },
     "b97cd3567a294873ac14abf6a80f5055": {
      "model_module": "@jupyter-widgets/base",
      "model_module_version": "1.2.0",
      "model_name": "LayoutModel",
      "state": {
       "_model_module": "@jupyter-widgets/base",
       "_model_module_version": "1.2.0",
       "_model_name": "LayoutModel",
       "_view_count": null,
       "_view_module": "@jupyter-widgets/base",
       "_view_module_version": "1.2.0",
       "_view_name": "LayoutView",
       "align_content": null,
       "align_items": null,
       "align_self": null,
       "border": null,
       "bottom": null,
       "display": null,
       "flex": null,
       "flex_flow": null,
       "grid_area": null,
       "grid_auto_columns": null,
       "grid_auto_flow": null,
       "grid_auto_rows": null,
       "grid_column": null,
       "grid_gap": null,
       "grid_row": null,
       "grid_template_areas": null,
       "grid_template_columns": null,
       "grid_template_rows": null,
       "height": null,
       "justify_content": null,
       "justify_items": null,
       "left": null,
       "margin": null,
       "max_height": null,
       "max_width": null,
       "min_height": null,
       "min_width": null,
       "object_fit": null,
       "object_position": null,
       "order": null,
       "overflow": null,
       "overflow_x": null,
       "overflow_y": null,
       "padding": null,
       "right": null,
       "top": null,
       "visibility": null,
       "width": null
      }
     },
     "be7fdb9a753b43b189bd1ea2e30c840e": {
      "model_module": "@jupyter-widgets/base",
      "model_module_version": "1.2.0",
      "model_name": "LayoutModel",
      "state": {
       "_model_module": "@jupyter-widgets/base",
       "_model_module_version": "1.2.0",
       "_model_name": "LayoutModel",
       "_view_count": null,
       "_view_module": "@jupyter-widgets/base",
       "_view_module_version": "1.2.0",
       "_view_name": "LayoutView",
       "align_content": null,
       "align_items": null,
       "align_self": null,
       "border": null,
       "bottom": null,
       "display": null,
       "flex": null,
       "flex_flow": null,
       "grid_area": null,
       "grid_auto_columns": null,
       "grid_auto_flow": null,
       "grid_auto_rows": null,
       "grid_column": null,
       "grid_gap": null,
       "grid_row": null,
       "grid_template_areas": null,
       "grid_template_columns": null,
       "grid_template_rows": null,
       "height": null,
       "justify_content": null,
       "justify_items": null,
       "left": null,
       "margin": null,
       "max_height": null,
       "max_width": null,
       "min_height": null,
       "min_width": null,
       "object_fit": null,
       "object_position": null,
       "order": null,
       "overflow": null,
       "overflow_x": null,
       "overflow_y": null,
       "padding": null,
       "right": null,
       "top": null,
       "visibility": null,
       "width": null
      }
     },
     "bf36a9a1df54483ba03b58433abadb50": {
      "model_module": "@jupyter-widgets/controls",
      "model_module_version": "1.5.0",
      "model_name": "HTMLModel",
      "state": {
       "_dom_classes": [],
       "_model_module": "@jupyter-widgets/controls",
       "_model_module_version": "1.5.0",
       "_model_name": "HTMLModel",
       "_view_count": null,
       "_view_module": "@jupyter-widgets/controls",
       "_view_module_version": "1.5.0",
       "_view_name": "HTMLView",
       "description": "",
       "description_tooltip": null,
       "layout": "IPY_MODEL_6644c89841bf4a5eb9b865d35c538c07",
       "placeholder": "​",
       "style": "IPY_MODEL_0aed810e62e74620850749427440a8e2",
       "value": " 432M/432M [00:16&lt;00:00, 32.6MB/s]"
      }
     },
     "c162245b997f4756a8ff4a43200e0598": {
      "model_module": "@jupyter-widgets/controls",
      "model_module_version": "1.5.0",
      "model_name": "FloatProgressModel",
      "state": {
       "_dom_classes": [],
       "_model_module": "@jupyter-widgets/controls",
       "_model_module_version": "1.5.0",
       "_model_name": "FloatProgressModel",
       "_view_count": null,
       "_view_module": "@jupyter-widgets/controls",
       "_view_module_version": "1.5.0",
       "_view_name": "ProgressView",
       "bar_style": "success",
       "description": "",
       "description_tooltip": null,
       "layout": "IPY_MODEL_846f67d3625144ff9ad029542085e95c",
       "max": 616.0,
       "min": 0.0,
       "orientation": "horizontal",
       "style": "IPY_MODEL_33d51071df9443a9998f6779cc6aa425",
       "value": 616.0
      }
     },
     "c1bfc9221aa944dba4b5d25f793bc4da": {
      "model_module": "@jupyter-widgets/controls",
      "model_module_version": "1.5.0",
      "model_name": "FloatProgressModel",
      "state": {
       "_dom_classes": [],
       "_model_module": "@jupyter-widgets/controls",
       "_model_module_version": "1.5.0",
       "_model_name": "FloatProgressModel",
       "_view_count": null,
       "_view_module": "@jupyter-widgets/controls",
       "_view_module_version": "1.5.0",
       "_view_name": "ProgressView",
       "bar_style": "success",
       "description": "",
       "description_tooltip": null,
       "layout": "IPY_MODEL_b9189a8427c34c24a4cd203445fab0a9",
       "max": 5069051.0,
       "min": 0.0,
       "orientation": "horizontal",
       "style": "IPY_MODEL_9422ac614e0f42f3a1a90cfe9918e506",
       "value": 5069051.0
      }
     },
     "c47784721bb5493cacafe8994770d96c": {
      "model_module": "@jupyter-widgets/controls",
      "model_module_version": "1.5.0",
      "model_name": "DescriptionStyleModel",
      "state": {
       "_model_module": "@jupyter-widgets/controls",
       "_model_module_version": "1.5.0",
       "_model_name": "DescriptionStyleModel",
       "_view_count": null,
       "_view_module": "@jupyter-widgets/base",
       "_view_module_version": "1.2.0",
       "_view_name": "StyleView",
       "description_width": ""
      }
     },
     "c596e2a588d44bf0baced7d1423033fb": {
      "model_module": "@jupyter-widgets/base",
      "model_module_version": "1.2.0",
      "model_name": "LayoutModel",
      "state": {
       "_model_module": "@jupyter-widgets/base",
       "_model_module_version": "1.2.0",
       "_model_name": "LayoutModel",
       "_view_count": null,
       "_view_module": "@jupyter-widgets/base",
       "_view_module_version": "1.2.0",
       "_view_name": "LayoutView",
       "align_content": null,
       "align_items": null,
       "align_self": null,
       "border": null,
       "bottom": null,
       "display": null,
       "flex": null,
       "flex_flow": null,
       "grid_area": null,
       "grid_auto_columns": null,
       "grid_auto_flow": null,
       "grid_auto_rows": null,
       "grid_column": null,
       "grid_gap": null,
       "grid_row": null,
       "grid_template_areas": null,
       "grid_template_columns": null,
       "grid_template_rows": null,
       "height": null,
       "justify_content": null,
       "justify_items": null,
       "left": null,
       "margin": null,
       "max_height": null,
       "max_width": null,
       "min_height": null,
       "min_width": null,
       "object_fit": null,
       "object_position": null,
       "order": null,
       "overflow": null,
       "overflow_x": null,
       "overflow_y": null,
       "padding": null,
       "right": null,
       "top": null,
       "visibility": null,
       "width": null
      }
     },
     "cf52d38875dc464a85ae622f2bdf577c": {
      "model_module": "@jupyter-widgets/controls",
      "model_module_version": "1.5.0",
      "model_name": "HTMLModel",
      "state": {
       "_dom_classes": [],
       "_model_module": "@jupyter-widgets/controls",
       "_model_module_version": "1.5.0",
       "_model_name": "HTMLModel",
       "_view_count": null,
       "_view_module": "@jupyter-widgets/controls",
       "_view_module_version": "1.5.0",
       "_view_name": "HTMLView",
       "description": "",
       "description_tooltip": null,
       "layout": "IPY_MODEL_855181fe13be4909a1198335c1bd3594",
       "placeholder": "​",
       "style": "IPY_MODEL_c47784721bb5493cacafe8994770d96c",
       "value": "Downloading: 100%"
      }
     },
     "d0510adb10ae4607aece36bbaf23a173": {
      "model_module": "@jupyter-widgets/controls",
      "model_module_version": "1.5.0",
      "model_name": "HTMLModel",
      "state": {
       "_dom_classes": [],
       "_model_module": "@jupyter-widgets/controls",
       "_model_module_version": "1.5.0",
       "_model_name": "HTMLModel",
       "_view_count": null,
       "_view_module": "@jupyter-widgets/controls",
       "_view_module_version": "1.5.0",
       "_view_name": "HTMLView",
       "description": "",
       "description_tooltip": null,
       "layout": "IPY_MODEL_c596e2a588d44bf0baced7d1423033fb",
       "placeholder": "​",
       "style": "IPY_MODEL_a6a8ea2bf24f442b8072c6f63ce3c07a",
       "value": " 8.68M/8.68M [00:00&lt;00:00, 33.6MB/s]"
      }
     },
     "d3669951932e406aaf0f62c008b80677": {
      "model_module": "@jupyter-widgets/controls",
      "model_module_version": "1.5.0",
      "model_name": "FloatProgressModel",
      "state": {
       "_dom_classes": [],
       "_model_module": "@jupyter-widgets/controls",
       "_model_module_version": "1.5.0",
       "_model_name": "FloatProgressModel",
       "_view_count": null,
       "_view_module": "@jupyter-widgets/controls",
       "_view_module_version": "1.5.0",
       "_view_name": "ProgressView",
       "bar_style": "success",
       "description": "",
       "description_tooltip": null,
       "layout": "IPY_MODEL_7d587bfc64824362984d53f6cccae717",
       "max": 9096718.0,
       "min": 0.0,
       "orientation": "horizontal",
       "style": "IPY_MODEL_844426ca61c447b7809cc1aa56409a5e",
       "value": 9096718.0
      }
     },
     "d417a115d8c747daa267de7034ae65b6": {
      "model_module": "@jupyter-widgets/base",
      "model_module_version": "1.2.0",
      "model_name": "LayoutModel",
      "state": {
       "_model_module": "@jupyter-widgets/base",
       "_model_module_version": "1.2.0",
       "_model_name": "LayoutModel",
       "_view_count": null,
       "_view_module": "@jupyter-widgets/base",
       "_view_module_version": "1.2.0",
       "_view_name": "LayoutView",
       "align_content": null,
       "align_items": null,
       "align_self": null,
       "border": null,
       "bottom": null,
       "display": null,
       "flex": null,
       "flex_flow": null,
       "grid_area": null,
       "grid_auto_columns": null,
       "grid_auto_flow": null,
       "grid_auto_rows": null,
       "grid_column": null,
       "grid_gap": null,
       "grid_row": null,
       "grid_template_areas": null,
       "grid_template_columns": null,
       "grid_template_rows": null,
       "height": null,
       "justify_content": null,
       "justify_items": null,
       "left": null,
       "margin": null,
       "max_height": null,
       "max_width": null,
       "min_height": null,
       "min_width": null,
       "object_fit": null,
       "object_position": null,
       "order": null,
       "overflow": null,
       "overflow_x": null,
       "overflow_y": null,
       "padding": null,
       "right": null,
       "top": null,
       "visibility": null,
       "width": null
      }
     },
     "d41e904bc3454f3a95c9acf7c4f0e54e": {
      "model_module": "@jupyter-widgets/controls",
      "model_module_version": "1.5.0",
      "model_name": "ProgressStyleModel",
      "state": {
       "_model_module": "@jupyter-widgets/controls",
       "_model_module_version": "1.5.0",
       "_model_name": "ProgressStyleModel",
       "_view_count": null,
       "_view_module": "@jupyter-widgets/base",
       "_view_module_version": "1.2.0",
       "_view_name": "StyleView",
       "bar_color": null,
       "description_width": ""
      }
     },
     "df882a55f04247ef88954a395c0c4ef8": {
      "model_module": "@jupyter-widgets/base",
      "model_module_version": "1.2.0",
      "model_name": "LayoutModel",
      "state": {
       "_model_module": "@jupyter-widgets/base",
       "_model_module_version": "1.2.0",
       "_model_name": "LayoutModel",
       "_view_count": null,
       "_view_module": "@jupyter-widgets/base",
       "_view_module_version": "1.2.0",
       "_view_name": "LayoutView",
       "align_content": null,
       "align_items": null,
       "align_self": null,
       "border": null,
       "bottom": null,
       "display": null,
       "flex": null,
       "flex_flow": null,
       "grid_area": null,
       "grid_auto_columns": null,
       "grid_auto_flow": null,
       "grid_auto_rows": null,
       "grid_column": null,
       "grid_gap": null,
       "grid_row": null,
       "grid_template_areas": null,
       "grid_template_columns": null,
       "grid_template_rows": null,
       "height": null,
       "justify_content": null,
       "justify_items": null,
       "left": null,
       "margin": null,
       "max_height": null,
       "max_width": null,
       "min_height": null,
       "min_width": null,
       "object_fit": null,
       "object_position": null,
       "order": null,
       "overflow": null,
       "overflow_x": null,
       "overflow_y": null,
       "padding": null,
       "right": null,
       "top": null,
       "visibility": null,
       "width": null
      }
     },
     "e3525ae6eecc4fc795c19b834356a60f": {
      "model_module": "@jupyter-widgets/base",
      "model_module_version": "1.2.0",
      "model_name": "LayoutModel",
      "state": {
       "_model_module": "@jupyter-widgets/base",
       "_model_module_version": "1.2.0",
       "_model_name": "LayoutModel",
       "_view_count": null,
       "_view_module": "@jupyter-widgets/base",
       "_view_module_version": "1.2.0",
       "_view_name": "LayoutView",
       "align_content": null,
       "align_items": null,
       "align_self": null,
       "border": null,
       "bottom": null,
       "display": null,
       "flex": null,
       "flex_flow": null,
       "grid_area": null,
       "grid_auto_columns": null,
       "grid_auto_flow": null,
       "grid_auto_rows": null,
       "grid_column": null,
       "grid_gap": null,
       "grid_row": null,
       "grid_template_areas": null,
       "grid_template_columns": null,
       "grid_template_rows": null,
       "height": null,
       "justify_content": null,
       "justify_items": null,
       "left": null,
       "margin": null,
       "max_height": null,
       "max_width": null,
       "min_height": null,
       "min_width": null,
       "object_fit": null,
       "object_position": null,
       "order": null,
       "overflow": null,
       "overflow_x": null,
       "overflow_y": null,
       "padding": null,
       "right": null,
       "top": null,
       "visibility": null,
       "width": null
      }
     },
     "f87b2d2fddaa4c61b955b9d76da3173a": {
      "model_module": "@jupyter-widgets/base",
      "model_module_version": "1.2.0",
      "model_name": "LayoutModel",
      "state": {
       "_model_module": "@jupyter-widgets/base",
       "_model_module_version": "1.2.0",
       "_model_name": "LayoutModel",
       "_view_count": null,
       "_view_module": "@jupyter-widgets/base",
       "_view_module_version": "1.2.0",
       "_view_name": "LayoutView",
       "align_content": null,
       "align_items": null,
       "align_self": null,
       "border": null,
       "bottom": null,
       "display": null,
       "flex": null,
       "flex_flow": null,
       "grid_area": null,
       "grid_auto_columns": null,
       "grid_auto_flow": null,
       "grid_auto_rows": null,
       "grid_column": null,
       "grid_gap": null,
       "grid_row": null,
       "grid_template_areas": null,
       "grid_template_columns": null,
       "grid_template_rows": null,
       "height": null,
       "justify_content": null,
       "justify_items": null,
       "left": null,
       "margin": null,
       "max_height": null,
       "max_width": null,
       "min_height": null,
       "min_width": null,
       "object_fit": null,
       "object_position": null,
       "order": null,
       "overflow": null,
       "overflow_x": null,
       "overflow_y": null,
       "padding": null,
       "right": null,
       "top": null,
       "visibility": null,
       "width": null
      }
     }
    },
    "version_major": 2,
    "version_minor": 0
   }
  }
 },
 "nbformat": 4,
 "nbformat_minor": 5
}
